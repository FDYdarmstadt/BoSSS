{
  "cells": [
    {
      "cell_type": "code",
      "execution_count": null,
      "metadata": {
        "dotnet_interactive": {
          "language": "csharp"
        },
        "vscode": {
          "languageId": "dotnet-interactive.csharp"
        }
      },
      "outputs": [
        {
          "ename": "Error",
          "evalue": "System.ApplicationException: Already called.\r\n   at BoSSS.Application.BoSSSpad.BoSSSshell.InitTraceFile() in D:\\BoSSS2\\experimental\\public\\src\\L4-application\\BoSSSpad\\BoSSSshell.cs:line 170\r\n   at BoSSS.Application.BoSSSpad.BoSSSshell.Init() in D:\\BoSSS2\\experimental\\public\\src\\L4-application\\BoSSSpad\\BoSSSshell.cs:line 97\r\n   at Submission#18.<<Initialize>>d__0.MoveNext()\r\n--- End of stack trace from previous location ---\r\n   at Microsoft.CodeAnalysis.Scripting.ScriptExecutionState.RunSubmissionsAsync[TResult](ImmutableArray`1 precedingExecutors, Func`2 currentExecutor, StrongBox`1 exceptionHolderOpt, Func`2 catchExceptionOpt, CancellationToken cancellationToken)",
          "output_type": "error",
          "traceback": [
            "System.ApplicationException: Already called.\r\n",
            "   at BoSSS.Application.BoSSSpad.BoSSSshell.InitTraceFile() in D:\\BoSSS2\\experimental\\public\\src\\L4-application\\BoSSSpad\\BoSSSshell.cs:line 170\r\n",
            "   at BoSSS.Application.BoSSSpad.BoSSSshell.Init() in D:\\BoSSS2\\experimental\\public\\src\\L4-application\\BoSSSpad\\BoSSSshell.cs:line 97\r\n",
            "   at Submission#18.<<Initialize>>d__0.MoveNext()\r\n",
            "--- End of stack trace from previous location ---\r\n",
            "   at Microsoft.CodeAnalysis.Scripting.ScriptExecutionState.RunSubmissionsAsync[TResult](ImmutableArray`1 precedingExecutors, Func`2 currentExecutor, StrongBox`1 exceptionHolderOpt, Func`2 catchExceptionOpt, CancellationToken cancellationToken)"
          ]
        }
      ],
      "source": [
        "#r \"D:\\BoSSS2\\experimental\\public\\src\\L4-application\\BoSSSpad\\bin\\Release\\net5.0\\bossspad.dll\"\n",
        "// #r \"C:\\BoSSS2\\experimental\\public\\src\\L4-application\\BoSSSpad\\bin\\Debug\\net5.0\\bossspad.dll\"\n",
        "\n",
        "//#r \"BoSSSpad.dll\"\n",
        "using System;\n",
        "using System.Collections.Generic;\n",
        "using System.Linq;\n",
        "using System.IO;\n",
        "using System.Data;\n",
        "using System.Globalization;\n",
        "using System.Threading;\n",
        "using ilPSP;\n",
        "using ilPSP.Utils;\n",
        "using BoSSS.Platform;\n",
        "using BoSSS.Foundation;\n",
        "using BoSSS.Foundation.Grid;\n",
        "using BoSSS.Foundation.Grid.Classic;\n",
        "using BoSSS.Foundation.IO;\n",
        "using BoSSS.Solution;\n",
        "using BoSSS.Solution.Control;\n",
        "using BoSSS.Solution.GridImport;\n",
        "using BoSSS.Solution.Statistic;\n",
        "using BoSSS.Solution.Utils;\n",
        "using BoSSS.Solution.Gnuplot;\n",
        "using BoSSS.Application.BoSSSpad;\n",
        "using BoSSS.Application.XNSE_Solver;\n",
        "using static BoSSS.Application.BoSSSpad.BoSSSshell;\n",
        "using BoSSS.Foundation.Grid.RefElements;\n",
        "using BoSSS.Platform.LinAlg;\n",
        "using BoSSS.Solution.NSECommon;\n",
        "using BoSSS.Application.XNSEC;\n",
        "Init();"
      ]
    },
    {
      "cell_type": "markdown",
      "metadata": {
        "dotnet_interactive": {
          "language": "csharp"
        }
      },
      "source": [
        "## Open Database"
      ]
    },
    {
      "cell_type": "code",
      "execution_count": null,
      "metadata": {
        "dotnet_interactive": {
          "language": "csharp"
        },
        "vscode": {
          "languageId": "dotnet-interactive.csharp"
        }
      },
      "outputs": [],
      "source": [
        "BoSSSshell.WorkflowMgm.Init(\"CoFloFlame_BS_22211\");"
      ]
    },
    {
      "cell_type": "code",
      "execution_count": null,
      "metadata": {
        "dotnet_interactive": {
          "language": "csharp"
        },
        "vscode": {
          "languageId": "dotnet-interactive.csharp"
        }
      },
      "outputs": [],
      "source": [
        " static var myBatch = GetDefaultQueue();\n",
        " (myBatch as MsHPC2012Client).ComputeNodes = new string[]{\"HPCLUSTER3\"};\n",
        "\n",
        "static var myDb = BoSSSshell.WorkflowMgm.DefaultDatabase;\n",
        "\n",
        "BoSSSshell.WorkflowMgm.DefaultDatabase = myDb;"
      ]
    },
    {
      "cell_type": "code",
      "execution_count": null,
      "metadata": {
        "dotnet_interactive": {
          "language": "csharp"
        },
        "vscode": {
          "languageId": "dotnet-interactive.csharp"
        }
      },
      "outputs": [],
      "source": []
    },
    {
      "cell_type": "code",
      "execution_count": null,
      "metadata": {
        "dotnet_interactive": {
          "language": "csharp"
        },
        "vscode": {
          "languageId": "dotnet-interactive.csharp"
        }
      },
      "outputs": [],
      "source": []
    },
    {
      "cell_type": "markdown",
      "metadata": {
        "dotnet_interactive": {
          "language": "csharp"
        }
      },
      "source": []
    },
    {
      "cell_type": "markdown",
      "metadata": {},
      "source": [
        "## Case configuration"
      ]
    },
    {
      "cell_type": "code",
      "execution_count": null,
      "metadata": {
        "dotnet_interactive": {
          "language": "csharp"
        },
        "vscode": {
          "languageId": "dotnet-interactive.csharp"
        }
      },
      "outputs": [],
      "source": [
        "int NumberOfProcMF = 8;\n",
        "int dgMF = 2; // Mass fraction DG degree\n",
        "int nCells = 20;\n",
        "\n",
        "\n",
        "bool BurkeSchu = true; // Configuration for the BS flame => constant density, uniform velocity inlet, "
      ]
    },
    {
      "cell_type": "markdown",
      "metadata": {},
      "source": [
        "## Create grid"
      ]
    },
    {
      "cell_type": "code",
      "execution_count": null,
      "metadata": {
        "dotnet_interactive": {
          "language": "csharp"
        },
        "vscode": {
          "languageId": "dotnet-interactive.csharp"
        }
      },
      "outputs": [],
      "source": [
        "public static class GridFactory {\n",
        "\n",
        "    public static Grid2D GenerateGrid(int nCells,double r, double R) {\n",
        "        // Geometry\n",
        "        // All lenghts are non.dimensionalized with Lref = fuel inlet radius (0.2 cm)\n",
        "        double LRef = R;\n",
        "\n",
        "        \n",
        "        double xmin = -R / LRef;\n",
        "        double xmax = +R / LRef;\n",
        "        double ymin = 0;\n",
        "        double zlength = R*5;\n",
        "        double ymax = zlength / LRef;\n",
        "        double rAd = r / LRef;\n",
        "\n",
        "        double leftmidpoint = (xmin - rAd) / 2;\n",
        "        double rightmidpoint = (xmax + rAd) / 2;\n",
        "\n",
        "        var troubledPoints = new double[][] {\n",
        "        new double[]{ rAd, 0.0 },\n",
        "        new double[]{-rAd, 0.0 }\n",
        "        };\n",
        "        double stretchfactorY = 0.98 * 1;\n",
        "\n",
        "        double sf1 = 0.97 * 1 * 0;\n",
        "        double sf2 = 0.95 * 1 * 0;\n",
        "        double sf3 = 0.97 * 1 * 0;\n",
        "        int n1 = (int)2.5 * nCells;\n",
        "        int n2 = (int)1.0 * nCells;\n",
        "        int n3 = (int)2.5 * nCells;\n",
        "        //var xNodes1 = GenericBlas.SinLinSpacing(xmin, -rAd, sf1, n1 + 1);\n",
        "        //var xNodes2 = GenericBlas.SinLinSpacing(-rAd, rAd, sf2, n2 + 1);\n",
        "        //var xNodes3 = GenericBlas.SinLinSpacing(rAd, xmax, sf3, n3 + 1);\n",
        "\n",
        "        List<double> xNodes2 = (GenericBlas.SinLinSpacing(-rAd, rAd, sf2, n2 + 1)).ToList(); // nodes corresponding to the fuel inlet\n",
        "        List<double> xNodes3 = (GenericBlas.SinLinSpacing(rAd, (xmax - rAd) * 2 + rAd, sf3, n1 * 2 + 1).ToList()); // Nodes corresponding to the oxidizer inlet, right part\n",
        "        var myXnodes3 = xNodes3.GetSubVector(0, xNodes3.Count / 2 + 1); // Take only \"left side\" of node array\n",
        "        var myxNodes1 = myXnodes3.CloneAs();\n",
        "        myxNodes1.ScaleV(-1.0);\n",
        "        Array.Reverse(myxNodes1);\n",
        "\n",
        "        List<double> list2 = new List<double>();\n",
        "        list2.AddRange(myxNodes1.Take(n1 + 0).ToList());\n",
        "        list2.AddRange(xNodes2.Take(n2 + 0).ToList());\n",
        "        list2.AddRange(myXnodes3.Take(n3 + 1).ToList());\n",
        "        double[] _xNodes = list2.ToArray();\n",
        "        //Debug.Assert(_xNodes.Contains(xmin));\n",
        "        //Debug.Assert(_xNodes.Contains(-rAd));\n",
        "        //Debug.Assert(_xNodes.Contains(rAd));\n",
        "        //Debug.Assert(_xNodes.Contains(xmax));\n",
        "        var _yNodes = GenericBlas.SinLinSpacing(ymin, ymax * 2, stretchfactorY, (2 * nCells) * 6 + 1);\n",
        "        var myYnodes = _yNodes.GetSubVector(0, _yNodes.Length / 2 + 1); // I just want a fine mesh in the bottom part of the grid.\n",
        "                                                                        //var _xNodes = GenericBlas.Linspace(xmin, xmax, 2 * meshScaling + 1);\n",
        "                                                                        //var myYnodes = GenericBlas.Linspace(ymin, ymax, 2 * meshScaling + 1);\n",
        "        var grd = Grid2D.Cartesian2DGrid(_xNodes, myYnodes, periodicX: false);\n",
        "        grd.EdgeTagNames.Add(1, \"Velocity_Inlet_O2\");\n",
        "        grd.EdgeTagNames.Add(2, \"Velocity_Inlet_CH4\");\n",
        "        grd.EdgeTagNames.Add(3, \"Pressure_Outlet\");\n",
        "        grd.EdgeTagNames.Add(4, \"wall_moving\");\n",
        "        //grd.EdgeTagNames.Add(4, \"NoSlipNeumann\");\n",
        "        // grd.EdgeTagNames.Add(4, \"Velocity_Inlet_outer\"); // We want a constant velocity field.\n",
        "\n",
        "        grd.DefineEdgeTags(delegate (double[] X) {\n",
        "            double x = X[0];\n",
        "            double y = X[1];\n",
        "\n",
        "            //Edge tags\n",
        "            //1: Velocity inlet O_2\n",
        "            //2: Velocity inlet CH_4\n",
        "            //3: Pressure outlet\n",
        "\n",
        "            //Inlet fuel\n",
        "            if(Math.Abs(y - ymin) < 1e-8 && Math.Abs(x - 0.0) < rAd + 1e-8)\n",
        "                return 2;\n",
        "            //Inlet oxidizer\n",
        "            if((Math.Abs(y - ymin) < 1e-8 && ((Math.Abs(x - rightmidpoint) < ((xmax - rAd) * 0.5 + rAd) + 1e-8) || Math.Abs(x - leftmidpoint) < Math.Abs((xmin - rAd) * 0.5 + rAd) + 1e-8)))\n",
        "                return 1;\n",
        "\n",
        "            // Pressure outlet\n",
        "\n",
        "            if((Math.Abs(y - ymax) < 1e-8))\n",
        "                return 3;\n",
        "\n",
        "            // Pressure outlet\n",
        "\n",
        "            if((Math.Abs(x - xmin) < 1e-8) || (Math.Abs(x - xmax) < 1e-8))\n",
        "                return 4;\n",
        "            else throw new ArgumentOutOfRangeException();\n",
        "        \n",
        "        }\n",
        "        );\n",
        "        myDb.SaveGrid(ref grd);\n",
        "\n",
        "        return grd;\n",
        "    }\n",
        "}"
      ]
    },
    {
      "cell_type": "code",
      "execution_count": null,
      "metadata": {
        "dotnet_interactive": {
          "language": "csharp"
        },
        "vscode": {
          "languageId": "dotnet-interactive.csharp"
        }
      },
      "outputs": [],
      "source": []
    },
    {
      "cell_type": "code",
      "execution_count": null,
      "metadata": {
        "dotnet_interactive": {
          "language": "csharp"
        },
        "vscode": {
          "languageId": "dotnet-interactive.csharp"
        }
      },
      "outputs": [],
      "source": []
    },
    {
      "cell_type": "code",
      "execution_count": null,
      "metadata": {
        "dotnet_interactive": {
          "language": "csharp"
        },
        "vscode": {
          "languageId": "dotnet-interactive.csharp"
        }
      },
      "outputs": [],
      "source": [
        "public static class BoundaryValueFactory { \n",
        "\n",
        "    public static string GetPrefixCode(double ConstVal, double inletRadius, double uInFuel, double uInAir, double sigma) {\n",
        "        using(var stw = new System.IO.StringWriter()) {\n",
        "\n",
        "            stw.WriteLine(\"static class BoundaryValues {\");\n",
        "\n",
        "            stw.WriteLine(\"  static public double ConstantValue(double[] X) {\");\n",
        "            stw.WriteLine(\"    return \"+ ConstVal +\";\");\n",
        "            stw.WriteLine(\"  }\");\n",
        "\n",
        "            stw.WriteLine(\"  static public double ParabolaVelocityFuel(double[] X) {\");\n",
        "            stw.WriteLine(\"    return  (1.0 - Math.Pow(X[0] / \"+inletRadius+\", 2)) * \"+uInFuel+\" ;\");\n",
        "            stw.WriteLine(\"  }\");\n",
        "\n",
        "            stw.WriteLine(\"  static public double ParabolaVelocityFuelOscilatory(double[] X, double t) {\");\n",
        "            stw.WriteLine(\"    return  (1.0 + 3.7*Math.Sin(3.14*t) )*(1.0 - Math.Pow(X[0] / \"+inletRadius+\", 2)  ) * \"+uInFuel+\" ;\");\n",
        "            stw.WriteLine(\"  }\");\n",
        "\n",
        "            stw.WriteLine(\"  static public double ParabolaVelocityFuelOscilatory_tref(double[] X, double t) {\");\n",
        "            stw.WriteLine(\" double t2 = t/\"+sigma+\";\"); // sigma is the reference time, Lref/uref\n",
        "            stw.WriteLine(\"    return  (1.0 + 0.7*Math.Sin(3.14*t2) )*(1.0 - Math.Pow(X[0] / \"+inletRadius+\", 2)  ) * \"+uInFuel+\" ;\");\n",
        "            stw.WriteLine(\"  }\");\n",
        "\n",
        "\n",
        "\n",
        "\n",
        "\n",
        "            stw.WriteLine(\"}\"); \n",
        "            return stw.ToString();\n",
        "        }\n",
        "    }\n",
        "\n",
        "    static public Formula Get_ConstantValue(double ConstVal, double inletRadius, double uInFuel, double uInAir, double sigma){\n",
        "        return new Formula(\"BoundaryValues.ConstantValue\", AdditionalPrefixCode:GetPrefixCode(ConstVal, inletRadius, uInFuel, uInAir,sigma));\n",
        "    }\n",
        "\n",
        "    static public Formula Get_ParabolaVelocityFuel(double ConstVal, double inletRadius, double uInFuel, double uInAir, double sigma){\n",
        "        return new Formula(\"BoundaryValues.ParabolaVelocityFuel\", AdditionalPrefixCode:GetPrefixCode(ConstVal, inletRadius, uInFuel, uInAir,sigma));\n",
        "    }\n",
        "\n",
        "    static public Formula Get_ParabolaVelocityFuelOscilatory(double ConstVal, double inletRadius, double uInFuel, double uInAir, double sigma){\n",
        "        return new Formula(\"BoundaryValues.ParabolaVelocityFuelOscilatory\",TimeDep:true, AdditionalPrefixCode:GetPrefixCode(ConstVal, inletRadius, uInFuel, uInAir,sigma));\n",
        "    }\n",
        "    static public Formula Get_ParabolaVelocityFuelOscilatory_tref(double ConstVal, double inletRadius, double uInFuel, double uInAir, double sigma){\n",
        "        return new Formula(\"BoundaryValues.ParabolaVelocityFuelOscilatory_tref\",TimeDep:true, AdditionalPrefixCode:GetPrefixCode(ConstVal, inletRadius, uInFuel, uInAir,sigma));\n",
        "    }\n",
        "}"
      ]
    },
    {
      "cell_type": "markdown",
      "metadata": {},
      "source": [
        "## Create base control file\n",
        "In this ControlFile basic configuration of the CounterDiffusionFlame is defined."
      ]
    },
    {
      "cell_type": "code",
      "execution_count": null,
      "metadata": {
        "dotnet_interactive": {
          "language": "csharp"
        },
        "vscode": {
          "languageId": "dotnet-interactive.csharp"
        }
      },
      "outputs": [],
      "source": [
        "static XNSEC_Control GiveMeTheCtrlFile(int dg, int nCells, bool isMF) {\n",
        "    var CC = new ChemicalConstants();\n",
        "    \n",
        "    var C = isMF ? new XNSEC_MF_Control() : new XNSEC_Control();\n",
        "\n",
        "    C.NumberOfChemicalSpecies = 4; \n",
        "    C.SetDGdegree(dg); //\n",
        "\n",
        "\n",
        "    \n",
        "    double h =0.1/100 ; // Radius inner , m\n",
        "    // double R =(1.0)*2.54/100*4 ; // Radius outter cylinder, m\n",
        "    double r = h;\n",
        "    \n",
        "    double R = r/0.01 ; // Radius outter cylinder, m\n",
        "    \n",
        "\n",
        "    C.SetGrid(GridFactory.GenerateGrid(nCells,r,R));  //\n",
        "    C.MatParamsMode = MaterialParamsMode.Constant;      \n",
        "    C.rhoOne = true;\n",
        "    // Problem Definition\n",
        "    //===================\n",
        "    double TemperatureInFuel = 300;  //\n",
        "    double TemperatureInOxidizer = 300; //\n",
        "    double AtmPressure = 101325; // Pa\n",
        "    // double[] FuelInletConcentrations = new double[] { 0.2, 0.0, 0.0, 0.0, 0.8 };\n",
        "    double[] FuelInletConcentrations = new double[] {0.2, 0.0, 0.0, 0.0, 0.8 };\n",
        "\n",
        "    double[] OxidizerInletConcentrations = new double[] { 0.0, 0.23, 0.0, 0.0, 0.77 }; //\n",
        "    double[] MWs = new double[] { CC.MW_CH4, CC.MW_O2, CC.MW_CO2, CC.MW_H2O, CC.MW_N2 };\n",
        "\n",
        "    double mwFuel = CC.getAvgMW(MWs, FuelInletConcentrations);\n",
        "    double mwAir = CC.getAvgMW(MWs, OxidizerInletConcentrations);\n",
        "    double densityAirIn = AtmPressure * mwAir / (CC.R_gas * TemperatureInOxidizer * 1000); // kg / m3\n",
        "    double densityFuelIn = AtmPressure * mwFuel / (CC.R_gas * TemperatureInFuel * 1000); // kg / m3.\n",
        "\n",
        "    double uInFuel = 1.33*2.54/100;\n",
        "    double uInAir = uInFuel;\n",
        "\n",
        "    Console.WriteLine(\"VelocityFuel\" + uInFuel);\n",
        "    Console.WriteLine(\"VelocityAir\" + uInAir);\n",
        "\n",
        "    // Reference values\n",
        "    //===================\n",
        "    // Basic units to be used: Kg, m, s, mol, pa,\n",
        "    double TRef = TemperatureInOxidizer;// Reference temperature  is the inlet temperature, (K)\n",
        "    double pRef = AtmPressure; // Pa\n",
        "    double uRef = Math.Max(uInFuel, uInAir); // m/s\n",
        "\n",
        "    double LRef = R;\n",
        "\n",
        "    C.GravityDirection = new double[] { 0.0, 0.0, 0.0 }; //No gravity.\n",
        "\n",
        "    // Solver configuration\n",
        "    // =======================\n",
        "    C.smoothingFactor = 0;\n",
        "    \n",
        "    \n",
        "    C.NonLinearSolver.verbose = true;\n",
        "    C.NonLinearSolver.SolverCode = NonLinearSolverCode.Newton;\n",
        "    C.NonLinearSolver.MaxSolverIterations = 10;\n",
        "    \n",
        "    C.TimesteppingMode = AppControl._TimesteppingMode.Steady;\n",
        "    C.saveperiod = 1;\n",
        "    C.PenaltyViscMomentum = 1.0; \n",
        "    C.PenaltyHeatConduction = 1.0;\n",
        "    C.YFuelInlet = FuelInletConcentrations[0];\n",
        "    C.YOxInlet = OxidizerInletConcentrations[1];\n",
        "    C.FuelInletConcentrations = FuelInletConcentrations;\n",
        "    C.OxidizerInletConcentrations = OxidizerInletConcentrations;\n",
        "    C.TFuelInlet = 1.0;\n",
        "    C.TOxInlet = 1.0;\n",
        "    C.PhysicalParameters.IncludeConvection = true;\n",
        "    // Chemical related parameters\n",
        "    double s = (CC.nu_O2 * CC.MW_O2) / (CC.nu_CH4 * CC.MW_CH4);\n",
        "    C.phi = s * C.YFuelInlet / C.YOxInlet;\n",
        "    C.zSt = 1.0 / (1.0 + C.phi);\n",
        " \n",
        "\n",
        "    //==========================\n",
        "    //Derived reference values\n",
        "    //==========================\n",
        "    C.uRef = uRef; // Reference velocity\n",
        "    C.LRef = LRef; // reference length\n",
        "    C.pRef = AtmPressure; // reference pressure\n",
        "    C.TRef = TemperatureInFuel;// reference temperature\n",
        "    C.MWRef = 1.0;//\n",
        "    C.rhoRef =1.0 ;\n",
        "    C.cpRef = 1.0;\n",
        "    C.muRef = 4.922e-5; //m^2/s\n",
        "    C.MolarMasses = new double[] { C.CC.MW_CH4, C.CC.MW_O2, C.CC.MW_CO2, C.CC.MW_H2O, C.CC.MW_N2 };\n",
        "    C.MolarMasses.ScaleV(1.0 / C.MWRef); //NonDimensionalized Molar masses\n",
        "    C.T_ref_Sutherland = 300;\n",
        "\n",
        "    double heatRelease_Ref = (C.TRef * C.cpRef);\n",
        "    C.HeatRelease = C.CC.HeatReleaseMass / heatRelease_Ref;\n",
        "    C.B = CC.PreExponentialFactor;\n",
        "\n",
        "    C.StoichiometricCoefficients = new double[] { -1, -2, 1, 2, 0 };\n",
        "\n",
        "    C.Reynolds =  100;//C.uRef * C.LRef / C.muRef;\n",
        "    C.Prandtl = 1.0; \n",
        "    C.Schmidt = C.Prandtl; // Because Lewis number  is assumed as 1.0  (Le = Pr/Sc)\n",
        "\n",
        "    C.Lewis = new double[] { 1.0, 1.0, 1.0, 1.0, 1.0 };\n",
        "\n",
        "    double g = 9.8; // m/s2\n",
        "    C.Froude = Math.Sqrt(uRef * uRef / (C.LRef * g)); // Not used\n",
        "    C.T_ref_Sutherland = 300; \n",
        "    C.ReactionRateConstants = new double[] { C.Damk, CC.Ta / TRef, 1.0, 1.0 }; \n",
        "\n",
        "\n",
        "\n",
        "\n",
        "    //==========================\n",
        "    // Initial conditions\n",
        "    //==========================\n",
        "    double dummy = 0;\n",
        "    C.AddInitialValue(VariableNames.VelocityX, BoundaryValueFactory.Get_ConstantValue(0.0, dummy, uInFuel / C.uRef, uInAir / C.uRef,dummy));\n",
        "    C.AddInitialValue(VariableNames.VelocityY, BoundaryValueFactory.Get_ConstantValue(0.0, dummy, uInFuel / C.uRef, uInAir / C.uRef,dummy));\n",
        "    C.AddInitialValue(VariableNames.Pressure, BoundaryValueFactory.Get_ConstantValue(0.0, dummy, uInFuel / C.uRef, uInAir / C.uRef,dummy));\n",
        "\n",
        "    //==========================\n",
        "    // Boundary conditions\n",
        "    //==========================\n",
        "\n",
        " \n",
        "\n",
        "    \n",
        "    C.AddBoundaryValue(\"Velocity_Inlet_CH4\", VariableNames.Velocity_d(0), BoundaryValueFactory.Get_ConstantValue(0.0, dummy, dummy, dummy, dummy));\n",
        "    C.AddBoundaryValue(\"Velocity_Inlet_CH4\", VariableNames.Velocity_d(1), BoundaryValueFactory.Get_ConstantValue(1.0, dummy, dummy, dummy, dummy));\n",
        "    // C.AddBoundaryValue(\"Velocity_Inlet_CH4\", VariableNames.Velocity_d(1), BoundaryValueFactory.Get_ParabolaVelocityFuel( dummy, r/C.LRef, uInFuel / uRef, uInAir / uRef, dummy));\n",
        "\n",
        "    \n",
        "    C.AddBoundaryValue(\"Velocity_Inlet_O2\", VariableNames.Velocity_d(0), BoundaryValueFactory.Get_ConstantValue(0.0, dummy, dummy, dummy, dummy));\n",
        "    C.AddBoundaryValue(\"Velocity_Inlet_O2\", VariableNames.Velocity_d(1), BoundaryValueFactory.Get_ConstantValue(1.0, dummy, dummy,dummy, dummy));\n",
        "\n",
        "    C.AddBoundaryValue(\"wall_moving\", VariableNames.Velocity_d(0), BoundaryValueFactory.Get_ConstantValue(0.0, dummy, dummy, dummy, dummy));\n",
        "    C.AddBoundaryValue(\"wall_moving\", VariableNames.Velocity_d(1), BoundaryValueFactory.Get_ConstantValue(1.0, dummy, dummy,dummy, dummy));\n",
        "\n",
        "  \n",
        "    // C.AddBoundaryValue(\"Velocity_Inlet_outer\", VariableNames.Velocity_d(0), BoundaryValueFactory.Get_ConstantValue(0.0, dummy, dummy,dummy, dummy));\n",
        "    // C.AddBoundaryValue(\"Velocity_Inlet_outer\", VariableNames.Velocity_d(1), BoundaryValueFactory.Get_ConstantValue( uInAir / uRef, dummy, dummy,dummy, dummy));\n",
        "\n",
        "    Console.WriteLine(\"Re:\" + C.Reynolds);\n",
        "    return C;\n",
        "}"
      ]
    },
    {
      "cell_type": "markdown",
      "metadata": {},
      "source": [
        "## Starting the MixtureFraction simulation\n",
        "Configuration  for the simulation using the mixture fraction approach, where an infinite reaction rate is assumed. Used to find adequate starting solution for the full problem."
      ]
    },
    {
      "cell_type": "code",
      "execution_count": null,
      "metadata": {
        "dotnet_interactive": {
          "language": "csharp"
        },
        "vscode": {
          "languageId": "dotnet-interactive.csharp"
        }
      },
      "outputs": [],
      "source": [
        "static XNSEC_Control GiveMeTheMixtureFractionCtrlFile(int dg, int nCells){\n",
        "    var C_MixtureFraction = GiveMeTheCtrlFile(dg, nCells, true  );\n",
        "\n",
        "    \n",
        "    C_MixtureFraction.physicsMode = PhysicsMode.MixtureFraction;\n",
        "    C_MixtureFraction.ProjectName = \"CoFlowFlame\";\n",
        "    string name = C_MixtureFraction.ProjectName + \"P\" + dg + \"K\" + nCells+\"daa1b1211a17e\";\n",
        "    C_MixtureFraction.SessionName = \"FS_\" + name;\n",
        "\n",
        "    C_MixtureFraction.UseSelfMadeTemporalOperator = false;\n",
        "    C_MixtureFraction.ChemicalReactionActive = false;\n",
        "    C_MixtureFraction.physicsMode = PhysicsMode.MixtureFraction;\n",
        "    C_MixtureFraction.NonLinearSolver.MaxSolverIterations = 30; \n",
        "    \n",
        "    // Boundary and initial conditions\n",
        "    double dummy = -11111111;\n",
        "\n",
        "    C_MixtureFraction.AddInitialValue(VariableNames.MixtureFraction,BoundaryValueFactory.Get_ConstantValue(1.0,dummy,dummy , dummy, dummy));\n",
        "    \n",
        "    C_MixtureFraction.AddBoundaryValue(\"Velocity_Inlet_CH4\", VariableNames.MixtureFraction, BoundaryValueFactory.Get_ConstantValue(1.0,dummy,dummy , dummy, dummy));        \n",
        "    C_MixtureFraction.AddBoundaryValue(\"Velocity_Inlet_O2\", VariableNames.MixtureFraction, BoundaryValueFactory.Get_ConstantValue(0.0,dummy,dummy , dummy, dummy));\n",
        "\n",
        "    // C_MixtureFraction.AddBoundaryValue(\"wall_moving\", VariableNames.MixtureFraction, BoundaryValueFactory.Get_ConstantValue(0.0,dummy,dummy , dummy, dummy));\n",
        "\n",
        "\n",
        "    \n",
        "   \n",
        "    int NoOfPseudoTimesteps =  3;\n",
        "    C_MixtureFraction.TimesteppingMode = BoSSS.Solution.Control.AppControl._TimesteppingMode.Steady; \n",
        "    C_MixtureFraction.NoOfTimesteps = NoOfPseudoTimesteps ;\n",
        "\n",
        "\n",
        "    C_MixtureFraction.AdaptiveMeshRefinement = true; \n",
        "    C_MixtureFraction.AMR_startUpSweeps = 3;\n",
        "\n",
        "\n",
        "\n",
        "    // C_MixtureFraction.activeAMRlevelIndicators.Add( new BoSSS.Application.XNSEC.AMR_onProblematicPoints(troubledPoints,C_MixtureFraction.AMR_startUpSweeps) );  \n",
        "    // C_MixtureFraction.activeAMRlevelIndicators.Add(new BoSSS.Application.XNSEC.AMR_RefineAroundProblematicPoints(troubledPoints, 3, 0.2));\n",
        "    C_MixtureFraction.activeAMRlevelIndicators.Add( new BoSSS.Application.XNSEC.AMR_onFlameSheet(C_MixtureFraction.zSt,3) );\n",
        "    return C_MixtureFraction;\n",
        "}"
      ]
    },
    {
      "cell_type": "code",
      "execution_count": null,
      "metadata": {
        "dotnet_interactive": {
          "language": "csharp"
        },
        "vscode": {
          "languageId": "dotnet-interactive.csharp"
        }
      },
      "outputs": [
        {
          "data": {
            "text/plain": [
              "C:\\Users\\gutierrez\\AppData\\Local\\BoSSS\\plots\\sessions\\CoFloFlame_BS_22211__FS_CoFlowFlameP2K20daa1b1211a17e__6b299bf7-bc72-44de-8467-9ebf4daada0d"
            ]
          },
          "metadata": {},
          "output_type": "display_data"
        }
      ],
      "source": [
        "myDb.Sessions[0].Export().Do()"
      ]
    },
    {
      "cell_type": "markdown",
      "metadata": {},
      "source": [
        "## Send and run jobs"
      ]
    },
    {
      "cell_type": "code",
      "execution_count": null,
      "metadata": {
        "dotnet_interactive": {
          "language": "csharp"
        },
        "vscode": {
          "languageId": "dotnet-interactive.csharp"
        }
      },
      "outputs": [],
      "source": [
        "Type solver_MF = typeof(BoSSS.Application.XNSEC.XNSEC_MixtureFraction);\n",
        "bool trefok = false; // shouldnt matter\n",
        "var C_MixtureFraction = GiveMeTheMixtureFractionCtrlFile(dgMF, nCells); \n",
        "string jobName       = C_MixtureFraction.SessionName;\n",
        "Console.WriteLine(jobName);\n",
        "var oneJob           = new Job(jobName, solver_MF);\n",
        "oneJob.NumberOfMPIProcs = NumberOfProcMF;\n",
		"oneJob.NumberOfThreads = 1;\n",
        "oneJob.SetControlObject(C_MixtureFraction);\n",
        "oneJob.Activate(myBatch); \n"
      ]
    },
    {
      "cell_type": "code",
      "execution_count": null,
      "metadata": {
        "dotnet_interactive": {
          "language": "csharp"
        },
        "vscode": {
          "languageId": "dotnet-interactive.csharp"
        }
      },
      "outputs": [],
      "source": [
        "BoSSSshell.WorkflowMgm.BlockUntilAllJobsTerminate();\n"
      ]
    },
    {
      "cell_type": "code",
      "execution_count": null,
      "metadata": {
        "dotnet_interactive": {
          "language": "csharp"
        },
        "vscode": {
          "languageId": "dotnet-interactive.csharp"
        }
      },
      "outputs": [],
      "source": [
        "myDb.Sessions[0].Export().Do()"
      ]
    },
    {
      "cell_type": "code",
      "execution_count": null,
      "metadata": {
        "dotnet_interactive": {
          "language": "csharp"
        },
        "vscode": {
          "languageId": "dotnet-interactive.csharp"
        }
      },
      "outputs": [],
      "source": [
        "myDb"
      ]
    },
    {
      "cell_type": "code",
      "execution_count": null,
      "metadata": {
        "dotnet_interactive": {
          "language": "csharp"
        },
        "vscode": {
          "languageId": "dotnet-interactive.csharp"
        }
      },
      "outputs": [],
      "source": []
    },
    {
      "cell_type": "code",
      "execution_count": null,
      "metadata": {
        "dotnet_interactive": {
          "language": "csharp"
        },
        "vscode": {
          "languageId": "dotnet-interactive.csharp"
        }
      },
      "outputs": [],
      "source": []
    },
    {
      "cell_type": "code",
      "execution_count": null,
      "metadata": {
        "dotnet_interactive": {
          "language": "csharp"
        },
        "vscode": {
          "languageId": "dotnet-interactive.csharp"
        }
      },
      "outputs": [],
      "source": []
    },
    {
      "cell_type": "code",
      "execution_count": null,
      "metadata": {
        "dotnet_interactive": {
          "language": "csharp"
        },
        "vscode": {
          "languageId": "dotnet-interactive.csharp"
        }
      },
      "outputs": [],
      "source": [
        "C_MixtureFraction.uRef"
      ]
    },
    {
      "cell_type": "code",
      "execution_count": null,
      "metadata": {
        "dotnet_interactive": {
          "language": "csharp"
        },
        "vscode": {
          "languageId": "dotnet-interactive.csharp"
        }
      },
      "outputs": [],
      "source": [
        "C_MixtureFraction.LRef"
      ]
    },
    {
      "cell_type": "code",
      "execution_count": null,
      "metadata": {
        "dotnet_interactive": {
          "language": "csharp"
        },
        "vscode": {
          "languageId": "dotnet-interactive.csharp"
        }
      },
      "outputs": [],
      "source": [
        "C_MixtureFraction.rhoRef"
      ]
    },
    {
      "cell_type": "code",
      "execution_count": null,
      "metadata": {
        "dotnet_interactive": {
          "language": "csharp"
        },
        "vscode": {
          "languageId": "dotnet-interactive.csharp"
        }
      },
      "outputs": [],
      "source": [
        "C_MixtureFraction.muRef"
      ]
    },
    {
      "cell_type": "code",
      "execution_count": null,
      "metadata": {
        "dotnet_interactive": {
          "language": "csharp"
        },
        "vscode": {
          "languageId": "dotnet-interactive.csharp"
        }
      },
      "outputs": [],
      "source": []
    }
  ],
  "metadata": {
    "interpreter": {
      "hash": "57baa5815c940fdaff4d14510622de9616cae602444507ba5d0b6727c008cbd6"
    },
    "kernelspec": {
      "display_name": ".NET (PowerShell)",
      "language": "PowerShell",
      "name": ".net-powershell"
    },
    "language_info": {
      "file_extension": ".cs",
      "mimetype": "text/x-csharp",
      "name": "PowerShell",
      "pygments_lexer": "csharp",
      "version": "9.0"
    }
  },
  "nbformat": 4,
  "nbformat_minor": 4
}

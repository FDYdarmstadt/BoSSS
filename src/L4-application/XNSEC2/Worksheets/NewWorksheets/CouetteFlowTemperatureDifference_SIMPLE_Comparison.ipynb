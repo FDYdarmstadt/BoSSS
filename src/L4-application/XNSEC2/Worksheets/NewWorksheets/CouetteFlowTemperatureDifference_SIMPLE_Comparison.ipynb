{
  "cells": [
    {
      "cell_type": "code",
      "execution_count": null,
      "metadata": {
        "dotnet_interactive": {
          "language": "csharp"
        }
      },
      "outputs": [
        {
          "ename": "Error",
          "evalue": "(30,8): error CS0246: The type or namespace name 'NSE_SIMPLE' could not be found (are you missing a using directive or an assembly reference?)",
          "output_type": "error",
          "traceback": [
            "(30,8): error CS0246: The type or namespace name 'NSE_SIMPLE' could not be found (are you missing a using directive or an assembly reference?)"
          ]
        }
      ],
      "source": [
        "#r \"C:\\BoSSS2\\experimental\\public\\src\\L4-application\\BoSSSpad\\bin\\Release\\net5.0\\bossspad.dll\"\n",
        "// #r \"BoSSSpad.dll\"\n",
        "using System;\n",
        "using System.Collections.Generic;\n",
        "using System.Linq;\n",
        "using System.IO;\n",
        "using System.Data;\n",
        "using System.Globalization;\n",
        "using System.Threading;\n",
        "using ilPSP;\n",
        "using ilPSP.Utils;\n",
        "using BoSSS.Platform;\n",
        "using BoSSS.Foundation;\n",
        "using BoSSS.Foundation.Grid;\n",
        "using BoSSS.Foundation.Grid.Classic;\n",
        "using BoSSS.Foundation.IO;\n",
        "using BoSSS.Solution;\n",
        "using BoSSS.Solution.Control;\n",
        "using BoSSS.Solution.GridImport;\n",
        "using BoSSS.Solution.Statistic;\n",
        "using BoSSS.Solution.Utils;\n",
        "using BoSSS.Solution.Gnuplot;\n",
        "using BoSSS.Application.BoSSSpad;\n",
        "using BoSSS.Application.XNSE_Solver;\n",
        "using static BoSSS.Application.BoSSSpad.BoSSSshell;\n",
        "using BoSSS.Foundation.Grid.RefElements;\n",
        "using BoSSS.Platform.LinAlg;\n",
        "using BoSSS.Solution.NSECommon;\n",
        "using BoSSS.Application.XNSEC;\n",
        "using  NSE_SIMPLE.LowMach;\n",
        "Init();"
      ]
    },
    {
      "cell_type": "code",
      "execution_count": null,
      "metadata": {
        "dotnet_interactive": {
          "language": "csharp"
        }
      },
      "outputs": [
        {
          "name": "stdout",
          "output_type": "stream",
          "text": [
            "Project name is set to 'HeatedBackwardFacingStep'.\r\n",
            "NotSupportedException caught during creation/opening of default database: `AllowedDatabasesPaths` not specified, unable to create Database (should be specified in ~/.BoSSS/etc/BatchProcessorConfig.json)..\r\n"
          ]
        }
      ],
      "source": [
        "BoSSSshell.WorkflowMgm.Init(\"HeatedBackwardFacingStep\");"
      ]
    },
    {
      "cell_type": "code",
      "execution_count": null,
      "metadata": {
        "dotnet_interactive": {
          "language": "csharp"
        }
      },
      "outputs": [],
      "source": [
        "// static var myBatch = GetDefaultQueue();"
      ]
    },
    {
      "cell_type": "code",
      "execution_count": null,
      "metadata": {
        "dotnet_interactive": {
          "language": "csharp"
        }
      },
      "outputs": [],
      "source": [
        "// static var myDb = myBatch.CreateOrOpenCompatibleDatabase(\"HeatedBackwardFacingStep\");\n",
        "// static var myDb = OpenOrCreateDatabase(@\"C:\\Databases\\HeatedBackwardFacingStep2\");\n",
        "static var myBatch = BoSSSshell.ExecutionQueues[2];\n",
        "\n",
        "static var myDb = OpenOrCreateDatabase(@\"\\\\hpccluster\\hpccluster-scratch\\gutierrez\\HeatedBackwardFacingStep_noHeat\");"
      ]
    },
    {
      "cell_type": "code",
      "execution_count": null,
      "metadata": {
        "dotnet_interactive": {
          "language": "csharp"
        }
      },
      "outputs": [
        {
          "name": "stdout",
          "output_type": "stream",
          "text": [
            "Opening existing database '\\\\hpccluster\\hpccluster-scratch\\gutierrez\\HeatedBackwardFacingStep_noHeat'.\r\n"
          ]
        }
      ],
      "source": [
        "BoSSSshell.WorkflowMgm.DefaultDatabase = myDb;"
      ]
    },
    {
      "cell_type": "markdown",
      "metadata": {},
      "source": [
        "## Create grid"
      ]
    },
    {
      "cell_type": "markdown",
      "metadata": {},
      "source": []
    },
    {
      "cell_type": "code",
      "execution_count": null,
      "metadata": {
        "dotnet_interactive": {
          "language": "csharp"
        }
      },
      "outputs": [],
      "source": [
        "int Resolution = 5;\n",
        "int dg = 2;\n",
        "double Reynolds = 200;\n",
        "bool HeatOn = false;\n",
        "int MPI_PROCS = 8;\n",
        "static double Hdim = 30; // mm channel height\n",
        "static double H = 30 / Hdim;// nondim channel height\n",
        "static double S = 15 / Hdim;  //nondim step height\n",
        "static double L0 = S; // nondim upstream wall\n",
        "static double L = 40 * S; // downstream wall\n",
        "//double L = 50 * S; // downstream wall\n",
        "\n",
        "static int xNodesMultiplier = 7;\n",
        "double h = Math.Pow(2, -Resolution + 1); // cell length\n",
        "double cells = 1 / h;\n",
        "int cells2 = (int)cells;\n"
      ]
    },
    {
      "cell_type": "code",
      "execution_count": null,
      "metadata": {
        "dotnet_interactive": {
          "language": "csharp"
        }
      },
      "outputs": [],
      "source": []
    },
    {
      "cell_type": "code",
      "execution_count": null,
      "metadata": {
        "dotnet_interactive": {
          "language": "csharp"
        }
      },
      "outputs": [
        {
          "data": {
            "text/html": [
              "<div class=\"dni-plaintext\">0.20693333333333333</div>"
            ]
          },
          "metadata": {},
          "output_type": "display_data"
        }
      ],
      "source": [
        "vel"
      ]
    },
    {
      "cell_type": "code",
      "execution_count": null,
      "metadata": {
        "dotnet_interactive": {
          "language": "csharp"
        }
      },
      "outputs": [],
      "source": [
        "public static class GridFactory {\n",
        "\n",
        "    public static double[] GetXNodes_LinspaceOneSide(int Res) {\n",
        "        // left part\n",
        "        var _leftNodes = GenericBlas.SinLinSpacing(-2 * L0, 0, 0.9, (1 * Res) + 1);\n",
        "        var leftNodes = _leftNodes.GetSubVector(_leftNodes.Length / 2, _leftNodes.Length / 2 + 1);\n",
        "        //right part\n",
        "        var _rightNodes = GenericBlas.SinLinSpacing(0, 2 * L, 0.9, (xNodesMultiplier * Res) + 1);\n",
        "        var rightNodes = _rightNodes.GetSubVector(0, _rightNodes.Length / 2 + 1);\n",
        "\n",
        "        List<double> listX = new List<double>();\n",
        "        listX.AddRange(leftNodes.Take(leftNodes.Count() - 1).ToList());\n",
        "        listX.AddRange(rightNodes.Take(rightNodes.Count() + 1).ToList());\n",
        "\n",
        "        return listX.ToArray();\n",
        "    }\n",
        "\n",
        "    private static double[] GetYNodes_LinspaceOneSide(int Res) {\n",
        "        //Bottom part\n",
        "        var _bottomNodes = GenericBlas.SinLinSpacing(-S, S, 0.9, (2 * Res) + 1);\n",
        "        var bottomNodes = _bottomNodes.GetSubVector(_bottomNodes.Length / 2, _bottomNodes.Length / 2 + 1);\n",
        "        //upper part\n",
        "        var _upperNodes = GenericBlas.SinLinSpacing(S, 3 * S, 0.9, (2 * Res) + 1);\n",
        "        var upperNodes = _upperNodes.GetSubVector(0, _upperNodes.Length / 2 + 1);\n",
        "        List<double> listY = new List<double>();\n",
        "        listY.AddRange(bottomNodes.Take(bottomNodes.Count() - 1).ToList());\n",
        "        listY.AddRange(upperNodes.Take(upperNodes.Count() + 1).ToList());\n",
        "\n",
        "        return listY.ToArray();\n",
        "    }\n",
        "\n",
        "    public static double[] GetXNodes_LinspaceBothSides(int Res) {\n",
        "        // left part\n",
        "        var _leftNodes = GenericBlas.Linspace(-L0, 0,  (1 * Res) + 1);\n",
        "        //right part\n",
        "        var _rightNodes = GenericBlas.SinLinSpacing(0, L, 0.9, (15 * Res) + 1);\n",
        "\n",
        "        List<double> listX = new List<double>();\n",
        "        listX.AddRange(_leftNodes.Take(_leftNodes.Count() - 1).ToList());\n",
        "        listX.AddRange(_rightNodes.Take(_rightNodes.Count() + 1).ToList());\n",
        "\n",
        "        return listX.ToArray();\n",
        "    }\n",
        "\n",
        "    private static double[] GetYNodes_LinspaceBothSides(int Res) {\n",
        "        //Bottom part\n",
        "        var _bottomNodes = GenericBlas.SinLinSpacing(0, S, 0.8, (3 * Res) + 1);\n",
        "        //upper part\n",
        "        var _upperNodes = GenericBlas.Linspace(S, 2 * S, (2 * Res) + 1);\n",
        "        List<double> listY = new List<double>();\n",
        "        listY.AddRange(_bottomNodes.Take(_bottomNodes.Count() - 1).ToList());\n",
        "        listY.AddRange(_upperNodes.Take(_upperNodes.Count() + 1).ToList());\n",
        "\n",
        "        return listY.ToArray();\n",
        "    }\n",
        "\n",
        "    public static Grid2D GenerateGrid(int Res) {\n",
        "        // Grid2D grd;\n",
        "\n",
        "        double[] CutOut1Point1 = new double[2] { 0.0, 0.0 };\n",
        "        double[] CutOut1Point2 = new double[2] { -L0, S };\n",
        "\n",
        "        var CutOut1 = new BoSSS.Platform.Utils.Geom.BoundingBox(2);\n",
        "        CutOut1.AddPoint(CutOut1Point1);\n",
        "        CutOut1.AddPoint(CutOut1Point2);\n",
        "\n",
        "        // if (LinspaceBothSidesOK) {\n",
        "        //     var xNodes = GetXNodes_LinspaceBothSides(Res);\n",
        "        //     var yNodes = GetYNodes_LinspaceBothSides(Res);\n",
        "        //     grd = Grid2D.Cartesian2DGrid(xNodes, yNodes, CutOuts: CutOut1);\n",
        "        // } else {\n",
        "        //     var xNodes = GetXNodes_LinspaceOneSide(Res);\n",
        "        //     var yNodes = GetYNodes_LinspaceOneSide(Res);\n",
        "        //     grd = Grid2D.Cartesian2DGrid(xNodes, yNodes, CutOuts: CutOut1);\n",
        "        // }\n",
        "        var xNodes = GetXNodes_LinspaceOneSide(Res);\n",
        "        var yNodes = GetYNodes_LinspaceBothSides(Res);\n",
        "         var grd    = Grid2D.Cartesian2DGrid(xNodes, yNodes, CutOuts: CutOut1);\n",
        "        grd.EdgeTagNames.Add(1, \"Velocity_Inlet\");\n",
        "        grd.EdgeTagNames.Add(3, \"Pressure_Outlet\");\n",
        "        grd.EdgeTagNames.Add(2, \"NoSlipNeumann\");\n",
        "        grd.EdgeTagNames.Add(4, \"Wall\");\n",
        "\n",
        "        grd.DefineEdgeTags(delegate (double[] X) {\n",
        "            double x = X[0];\n",
        "            double y = X[1];\n",
        "\n",
        "            //Inlet oxidizer\n",
        "            if (Math.Abs(x + L0) < 1e-8)\n",
        "                return 1;\n",
        "\n",
        "            //Outlet\n",
        "            if (Math.Abs(x - L) < 1e-8)\n",
        "                return 3;\n",
        "\n",
        "            //Bottom Wall\n",
        "            if (Math.Abs(y - 0) < 1e-8 && x > 1e-8)\n",
        "                return 4;\n",
        "\n",
        "            return 2;\n",
        "        });\n",
        "\n",
        "        myDb.SaveGrid(ref grd);\n",
        "\n",
        "        return grd;\n",
        "    }\n",
        "}"
      ]
    },
    {
      "cell_type": "code",
      "execution_count": null,
      "metadata": {
        "dotnet_interactive": {
          "language": "csharp"
        }
      },
      "outputs": [],
      "source": [
        "public static class BoundaryValueFactory { \n",
        "\n",
        "    public static string GetPrefixCode(double const_val, double S, double umean ) {\n",
        "        using(var stw = new System.IO.StringWriter()) {\n",
        "           \n",
        "           stw.WriteLine(\"static class BoundaryValues {\");\n",
        "\n",
        "\n",
        "           stw.WriteLine(\"  static public double ConstantVal(double[] X) {\");\n",
        "           stw.WriteLine(\"    return \" + const_val+\";\");\n",
        "           stw.WriteLine(\"  }\");\n",
        "\n",
        "           \n",
        "           stw.WriteLine(\"  static public double ParabolaVelocity(double[] X) {\");\n",
        "           stw.WriteLine(\"    return  -6 * \"+umean+\" * (X[1] -\"+ S+\") * (X[1] - 2 * \"+S+\") / (\"+S * S+\") ;\");\n",
        "           stw.WriteLine(\"  }\");\n",
        "\n",
        "\n",
        "           stw.WriteLine(\"}\"); \n",
        "           return stw.ToString();\n",
        "        }\n",
        "    }\n",
        "    static public Formula Get_ConstantVal(double const_val, double S, double umean){\n",
        "        return new Formula(\"BoundaryValues.ConstantVal\", AdditionalPrefixCode:GetPrefixCode(const_val,S,umean));\n",
        "    }\n",
        "\n",
        "    static public Formula Get_ParabolaVelocity(double const_val, double S, double umean){\n",
        "        return new Formula(\"BoundaryValues.ParabolaVelocity\", AdditionalPrefixCode:GetPrefixCode(const_val,S,umean));\n",
        "    }\n",
        "\n",
        "}"
      ]
    },
    {
      "cell_type": "markdown",
      "metadata": {},
      "source": [
        "## Send and run jobs\n",
        "Calculations of the SIMPLE code"
      ]
    },
    {
      "cell_type": "code",
      "execution_count": null,
      "metadata": {
        "dotnet_interactive": {
          "language": "csharp"
        }
      },
      "outputs": [],
      "source": [
        "var controls = new List<LowMachSIMPLEControl>();"
      ]
    },
    {
      "cell_type": "code",
      "execution_count": null,
      "metadata": {
        "dotnet_interactive": {
          "language": "csharp"
        }
      },
      "outputs": [],
      "source": [
        "\n",
        " static LowMachSIMPLEControl SteadyCouetteFlowWithTemperatureGradient() {\n",
        "    LowMachSIMPLEControl c = new LowMachSIMPLEControl();\n",
        "\n",
        "    c.DbPath = @\"NUnitTests.zip\";\n",
        "    c.savetodb = false;\n",
        "\n",
        "    c.GridGuid = new Guid(\"b3eb0eac-d1a1-440c-9f08-5dae1284607d\");\n",
        "    c.GridPartType = GridPartType.METIS;\n",
        "\n",
        "    c.ProjectName = \"Couette with temperature gradient\";\n",
        "    c.ProjectDescription = \"Steady Low Mach SIMPLE\";\n",
        "\n",
        "    // Required fields\n",
        "    c.FieldOptions.Add(\n",
        "        VariableNames.VelocityX,\n",
        "        new FieldOpts() { Degree = 2, SaveToDB = FieldOpts.SaveToDBOpt.TRUE });\n",
        "    c.FieldOptions.Add(\n",
        "        VariableNames.VelocityY,\n",
        "        new FieldOpts() { Degree = 2, SaveToDB = FieldOpts.SaveToDBOpt.TRUE });\n",
        "    c.FieldOptions.Add(\n",
        "        VariableNames.Pressure,\n",
        "        new FieldOpts() { Degree = 1, SaveToDB = FieldOpts.SaveToDBOpt.TRUE });\n",
        "    c.FieldOptions.Add(\n",
        "        VariableNames.Temperature,\n",
        "        new FieldOpts() { Degree = 2, SaveToDB = FieldOpts.SaveToDBOpt.TRUE });\n",
        "    c.FieldOptions.Add(\n",
        "        VariableNames.ThermodynamicPressure,\n",
        "        new FieldOpts() { Degree = 0, SaveToDB = FieldOpts.SaveToDBOpt.TRUE });\n",
        "\n",
        "    c.FieldOptions.Add(\n",
        "        \"Density\",\n",
        "        new FieldOpts() { Degree = 2, SaveToDB = FieldOpts.SaveToDBOpt.TRUE });\n",
        "    c.FieldOptions.Add(\n",
        "        \"Eta\",\n",
        "        new FieldOpts() { Degree = 2, SaveToDB = FieldOpts.SaveToDBOpt.TRUE });\n",
        "\n",
        "    // Auxiliary fields\n",
        "    c.FieldOptions.Add(\n",
        "        \"DivB4\",\n",
        "        new FieldOpts() { Degree = 1, SaveToDB = FieldOpts.SaveToDBOpt.FALSE });\n",
        "    c.FieldOptions.Add(\n",
        "        \"DivAfter\",\n",
        "        new FieldOpts() { Degree = 1, SaveToDB = FieldOpts.SaveToDBOpt.FALSE });\n",
        "    c.FieldOptions.Add(\n",
        "        \"OperatorTest_x\",\n",
        "        new FieldOpts() { Degree = 2, SaveToDB = FieldOpts.SaveToDBOpt.FALSE });\n",
        "    c.FieldOptions.Add(\n",
        "        \"OperatorTest_y\",\n",
        "        new FieldOpts() { Degree = 2, SaveToDB = FieldOpts.SaveToDBOpt.FALSE });\n",
        "    c.FieldOptions.Add(\n",
        "        \"OperatorAna_x\",\n",
        "        new FieldOpts() { Degree = 2, SaveToDB = FieldOpts.SaveToDBOpt.FALSE });\n",
        "    c.FieldOptions.Add(\n",
        "        \"OperatorAna_y\",\n",
        "        new FieldOpts() { Degree = 2, SaveToDB = FieldOpts.SaveToDBOpt.FALSE });\n",
        "\n",
        "    c.InitialValues_Evaluators.Add(VariableNames.VelocityX, X => X[1]);\n",
        "    c.InitialValues_Evaluators.Add(VariableNames.VelocityY, X => 0.0);\n",
        "    c.InitialValues_Evaluators.Add(VariableNames.Pressure, X => -0.97809076838538383654 * Log(1.2 * X[1] + 0.4) - 0.06641065188714375468);\n",
        "    c.InitialValues_Evaluators.Add(VariableNames.Temperature, X => (1.6 - 0.4) * X[1] + 0.4);\n",
        "\n",
        "    c.Algorithm = SolutionAlgorithms.Steady_SIMPLE;\n",
        "    c.NoOfTimesteps = 1;\n",
        "    c.L2NormPressureCorrection = 1.0e-6;\n",
        "    c.L2NormVelocityResidual = 1.0e-6;\n",
        "    c.L2NormTemperatureResidual = 1e-6;\n",
        "\n",
        "    c.PredictorSolverFactory = () => new PARDISOSolver();\n",
        "    c.CorrectorSolverFactory = () => new PARDISOSolver();\n",
        "    c.TemperatureSolverFactory = () => new PARDISOSolver();\n",
        "\n",
        "    c.AnalyticVelocityX = X => -0.33333333333333333332 + 1.2523108062960316903 * (X[1] + 0.11013981986815616002).Pow(3.0 / 5.0);\n",
        "    c.AnalyticVelocityY = X => 0.0;\n",
        "    c.AnalyticPressure = X => -1.4882576522041879973 * (1.9716158024185796207 * X[1] + 0.21715340932759252572).Pow(2.0 / 5.0) + 1.5508248735452649660;\n",
        "    c.AnalyticTemperature = X => (1.9716158024185796207 * X[1] + 0.21715340932759252572).Pow(3.0 / 5.0);\n",
        "\n",
        "    c.AddBoundaryValue(\"velocity_inlet_top\", VariableNames.VelocityX, X => 1.0);\n",
        "    c.AddBoundaryValue(\"velocity_inlet_top\", VariableNames.VelocityY, X => 0.0);\n",
        "    c.AddBoundaryValue(\"velocity_inlet_top\", VariableNames.Temperature, X => 1.6);\n",
        "    c.AddBoundaryValue(\"velocity_inlet_left\", VariableNames.VelocityX, c.AnalyticVelocityX);\n",
        "    c.AddBoundaryValue(\"velocity_inlet_left\", VariableNames.VelocityY, c.AnalyticVelocityY);\n",
        "    c.AddBoundaryValue(\"velocity_inlet_left\", VariableNames.Temperature, c.AnalyticTemperature);\n",
        "    c.AddBoundaryValue(\"velocity_inlet_right\", VariableNames.VelocityX, c.AnalyticVelocityX);\n",
        "    c.AddBoundaryValue(\"velocity_inlet_right\", VariableNames.VelocityY, c.AnalyticVelocityY);\n",
        "    c.AddBoundaryValue(\"velocity_inlet_right\", VariableNames.Temperature, c.AnalyticTemperature);\n",
        "    c.AddBoundaryValue(\"wall_bottom\", VariableNames.Temperature, X => 0.4);\n",
        "\n",
        "    c.PhysicsMode = PhysicsMode.LowMach;\n",
        "    c.ThermodynamicPressureMode = ThermodynamicPressureMode.Constant;\n",
        "    c.Reynolds = 10.0;\n",
        "    c.Prandtl = 0.71;\n",
        "    c.Gamma = 1.4;\n",
        "    c.EoS = new MaterialLawLowMach(600.0, MaterialParamsMode.PowerLaw, false,false,c.Prandtl);\n",
        "\n",
        "    c.Froude = 0.92303846;\n",
        "    c.GravityDirection = new double[] { 0.0, -1.0 };\n",
        "\n",
        "    c.PressureReferencePoint = new double[] { 0.0, 0.5 };\n",
        "    c.PressureMeanValue = 0.0;\n",
        "\n",
        "    c.PredictorApproximation = PredictorApproximations.BlockDiagonal;\n",
        "    c.PressureStabilizationScaling = 0.0;\n",
        "    c.PredictorApproximationUpdateCycle = 1;\n",
        "    c.MaxNoSIMPLEsteps = 1000;\n",
        "    c.SavePeriodSIMPLE = 1000;\n",
        "    c.RelaxationFactorPressure = 0.5;\n",
        "    c.RelexationFactorVelocity = 0.8;\n",
        "    c.RelexationFactorTemperature = 1.0;\n",
        "    c.RelaxationModeTemperature = RelaxationTypes.Implicit;\n",
        "    c.ViscousPenaltyScaling = 1.0;\n",
        "    c.MaxFlowSolverIterations = 1;\n",
        "    c.MaxTemperatureSolverIterations = 1;\n",
        "    c.PrintLinerSolverResults = false;\n",
        "\n",
        "    int queryQuadOrder = 15;\n",
        "    c.Queries.Add(\n",
        "        \"SolL2err_u\",\n",
        "        QueryLibrary.L2Error(VariableNames.VelocityX, c.AnalyticVelocityX, queryQuadOrder));\n",
        "    c.Queries.Add(\n",
        "        \"SolL2err_v\",\n",
        "        QueryLibrary.L2Error(VariableNames.VelocityY, c.AnalyticVelocityY, queryQuadOrder));\n",
        "    c.Queries.Add(\n",
        "        \"SolL2err_p\",\n",
        "        QueryLibrary.L2Error(VariableNames.Pressure, c.AnalyticPressure, queryQuadOrder));\n",
        "    c.Queries.Add(\n",
        "        \"SolL2err_T\",\n",
        "        QueryLibrary.L2Error(VariableNames.Temperature, c.AnalyticTemperature, queryQuadOrder));\n",
        "\n",
        "    return c;\n",
        "}\n",
        "    \n"
      ]
    },
    {
      "cell_type": "markdown",
      "metadata": {},
      "source": [
        "## Run Simulations"
      ]
    },
    {
      "cell_type": "code",
      "execution_count": null,
      "metadata": {
        "dotnet_interactive": {
          "language": "csharp"
        }
      },
      "outputs": [],
      "source": []
    },
    {
      "cell_type": "code",
      "execution_count": null,
      "metadata": {
        "dotnet_interactive": {
          "language": "csharp"
        }
      },
      "outputs": [
        {
          "name": "stdout",
          "output_type": "stream",
          "text": [
            "////////////////////////////////////////////////////////////////////////////////////\r\n",
            "BackwardFacingStep\r\n",
            "////////////////////////////////////////////////////////////////////////////////////\r\n",
            "\r\n",
            "\r\n",
            "Grid Edge Tags changed.\r\n",
            "Heated_BackwardFacingStepdg2k16Re200EnergyOK0\r\n",
            "Deploying job Heated_BackwardFacingStepdg2k16Re200EnergyOK0 ... \r\n",
            "Deploying executables and additional files ...\r\n",
            "Deployment directory: \\\\hpccluster\\hpccluster-scratch\\gutierrez\\binaries\\HeatedBackwardFacingStep-XNSEC2022Feb16_165028\r\n",
            "copied 55 files.\r\n",
            "   written file: control.obj\r\n",
            "   copied 'amd64' runtime.\r\n",
            "deployment finished.\r\n",
            "\r\n"
          ]
        }
      ],
      "source": [
        "Type solver = typeof(BoSSS.Application.XNSEC.XNSEC);\n",
        "var C = GiveMeTheCtrlFile(dg, cells2, Reynolds, false); \n",
        "string jobName       = C.SessionName;\n",
        "Console.WriteLine(jobName);\n",
        "var oneJob           = new Job(jobName, solver);\n",
        "oneJob.SetControlObject(C);\n",
        "oneJob.NumberOfMPIProcs = MPI_PROCS;\n",
		"oneJob.NumberOfThreads = 1;\n",
        "\n",
        "oneJob.Activate(myBatch); \n"
      ]
    },
    {
      "cell_type": "code",
      "execution_count": null,
      "metadata": {
        "dotnet_interactive": {
          "language": "csharp"
        }
      },
      "outputs": [],
      "source": [
        "// Type solver = typeof(BoSSS.Application.XNSEC.XNSEC);\n",
        "// var C = GiveMeTheCtrlFile(dg, cells2, Reynolds, false); \n",
        "// string jobName       = C.SessionName;\n",
        "// Console.WriteLine(jobName);\n",
        "// var oneJob           = new Job(jobName, solver);\n",
        "// oneJob.SetControlObject(C);\n",
        "// oneJob.NumberOfMPIProcs = MPI_PROCS;\n",
        "\n",
        "// oneJob.Activate(myBatch); \n"
      ]
    },
    {
      "cell_type": "code",
      "execution_count": null,
      "metadata": {
        "dotnet_interactive": {
          "language": "csharp"
        }
      },
      "outputs": [
        {
          "name": "stdout",
          "output_type": "stream",
          "text": [
            "Starting external console ...\r\n",
            "(You may close the new window at any time, the job will continue.)\r\n"
          ]
        }
      ],
      "source": [
        "oneJob.ShowOutput()"
      ]
    },
    {
      "cell_type": "code",
      "execution_count": null,
      "metadata": {
        "dotnet_interactive": {
          "language": "csharp"
        }
      },
      "outputs": [],
      "source": [
        "// // // wait for all jobs to finish (up to 1 day, check every 1 minutes)\n",
        "// BoSSSshell.WorkflowMgm.BlockUntilAllJobsTerminate(TimeOutSeconds:(3600*24*1), PollingIntervallSeconds:(60*1));"
      ]
    },
    {
      "cell_type": "markdown",
      "metadata": {
        "dotnet_interactive": {
          "language": "csharp"
        }
      },
      "source": []
    },
    {
      "cell_type": "code",
      "execution_count": null,
      "metadata": {
        "dotnet_interactive": {
          "language": "csharp"
        }
      },
      "outputs": [],
      "source": [
        "// // detect failed Jobs in the job management\n",
        "// var suspects = BoSSSshell.WorkflowMgm.AllJobs.Select(kv => kv.Value)\n",
        "//     .Where(job => job.LatestSession.Tags.Contains(SessionInfo.NOT_TERMINATED_TAG)\n",
        "//                   || job.LatestSession.Tags.Contains(SessionInfo.SOLVER_ERROR)).ToArray();\n",
        "// suspects"
      ]
    },
    {
      "cell_type": "code",
      "execution_count": null,
      "metadata": {
        "dotnet_interactive": {
          "language": "csharp"
        }
      },
      "outputs": [],
      "source": [
        "// NUnit.Framework.Assert.IsTrue(suspects.Count() <= 0, $\"{suspects.Count()} Failed Jobs of {BoSSSshell.WorkflowMgm.AllJobs.Count()} in total.\");"
      ]
    },
    {
      "cell_type": "code",
      "execution_count": null,
      "metadata": {
        "dotnet_interactive": {
          "language": "csharp"
        }
      },
      "outputs": [],
      "source": []
    },
    {
      "cell_type": "code",
      "execution_count": null,
      "metadata": {
        "dotnet_interactive": {
          "language": "csharp"
        }
      },
      "outputs": [],
      "source": []
    }
  ],
  "metadata": {
    "interpreter": {
      "hash": "5a4c2b90e762e735d09b118f9f9cec0074c9c9a762110f7a987def15c668bc0d"
    },
    "kernelspec": {
      "display_name": ".NET (C#)",
      "language": "C#",
      "name": ".net-csharp"
    },
    "language_info": {
      "file_extension": ".cs",
      "mimetype": "text/x-csharp",
      "name": "C#",
      "pygments_lexer": "csharp",
      "version": "9.0"
    }
  },
  "nbformat": 4,
  "nbformat_minor": 4
}

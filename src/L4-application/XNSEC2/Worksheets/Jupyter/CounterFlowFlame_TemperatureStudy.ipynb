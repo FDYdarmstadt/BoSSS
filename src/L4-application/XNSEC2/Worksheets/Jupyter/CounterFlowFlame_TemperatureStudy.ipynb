{
  "cells": [
    {
      "cell_type": "code",
      "execution_count": null,
      "source": [
        "// #r \".\\binaries2\\bossspad.dll\"\r\n",
        "// #r \".\\binaries2\\XNSEC.dll\"\r\n",
        "// #r \"C:\\BoSSS_Binaries\\bossspad.dll\"\r\n",
        "// #r \"C:\\BoSSS_Binaries\\XNSEC.dll\"\r\n",
        "#r \"C:\\BoSSS\\experimental\\public\\src\\L4-application\\BoSSSpad\\bin\\Release\\net5.0\\bossspad.dll\"\r\n",
        "#r \"C:\\BoSSS\\experimental\\public\\src\\L4-application\\BoSSSpad\\bin\\Release\\net5.0\\XNSEC.dll\"\r\n",
        "using System;\r\n",
        "using System.Collections.Generic;\r\n",
        "using System.Linq;\r\n",
        "using System.IO;\r\n",
        "using System.Data;\r\n",
        "using System.Globalization;\r\n",
        "using System.Threading;\r\n",
        "using ilPSP;\r\n",
        "using ilPSP.Utils;\r\n",
        "using BoSSS.Platform;\r\n",
        "using BoSSS.Foundation;\r\n",
        "using BoSSS.Foundation.Grid;\r\n",
        "using BoSSS.Foundation.Grid.Classic;\r\n",
        "using BoSSS.Foundation.IO;\r\n",
        "using BoSSS.Solution;\r\n",
        "using BoSSS.Solution.Control;\r\n",
        "using BoSSS.Solution.GridImport;\r\n",
        "using BoSSS.Solution.Statistic;\r\n",
        "using BoSSS.Solution.Utils;\r\n",
        "using BoSSS.Solution.Gnuplot;\r\n",
        "using BoSSS.Application.BoSSSpad;\r\n",
        "using static BoSSS.Application.BoSSSpad.BoSSSshell;\r\n",
        "using BoSSS.Foundation.Grid.RefElements;\r\n",
        "using BoSSS.Platform.LinAlg;\r\n",
        "using BoSSS.Solution.NSECommon;\r\n",
        "\r\n",
        "using BoSSS.Application.XNSEC;\r\n",
        "\r\n",
        "Init();"
      ],
      "outputs": [],
      "metadata": {
        "dotnet_interactive": {
          "language": "csharp"
        }
      }
    },
    {
      "cell_type": "markdown",
      "source": [
        "## Case configuration"
      ],
      "metadata": {}
    },
    {
      "cell_type": "code",
      "execution_count": null,
      "source": [
        "\r\n",
        "int[] multiplierS = new int[]{5};\r\n",
        "int[] DGDegrees = new int[] {1,2,3,4};\r\n",
        "int[] nCellsArray = new int[] {4};\r\n",
        "// double[] xCellsMultiplier = new double[] {1,2,3,4,5};\r\n",
        "double[] xCellsMultiplier = new double[] {3,4,5,6};\r\n",
        "\r\n",
        "double InitialMassFuelIn = 0.02400; //kg/m2s \r\n",
        "double InitialMassAirIn = 0.02400 *3; //kg/m2s \r\n",
        "bool parabolicVelocityProfile = false;\r\n",
        "bool chemicalReactionActive = true; \r\n",
        "int numberOfMpiCores = 8;\r\n",
        "bool useFullGeometry = false;\r\n",
        "bool wallBounded = true;\r\n",
        "bool AMRinEachNewtonIteration = true;"
      ],
      "outputs": [],
      "metadata": {
        "dotnet_interactive": {
          "language": "csharp"
        }
      }
    },
    {
      "cell_type": "markdown",
      "source": [
        "## Open Database"
      ],
      "metadata": {
        "dotnet_interactive": {
          "language": "csharp"
        }
      }
    },
    {
      "cell_type": "code",
      "execution_count": null,
      "source": [
        "\r\n",
        "static var myDb = OpenOrCreateDatabase(@\"\\\\hpccluster\\hpccluster-scratch\\gutierrez\\CDF_TemperatureStudy_4\");\r\n",
        "myDb.Summary()"
      ],
      "outputs": [
        {
          "output_type": "stream",
          "name": "stdout",
          "text": [
            "Opening existing database '\\\\hpccluster\\hpccluster-scratch\\gutierrez\\CDF_TemperatureStudy_4'.\r\n"
          ]
        },
        {
          "data": {
            "text/plain": [
              "Path: \\\\hpccluster\\hpccluster-scratch\\gutierrez\\CDF_TemperatureStudy_4\r\n",
              "Controller: BoSSS.Foundation.IO.DatabaseController\r\n",
              "Sessions: System.Collections.Generic.List`1[BoSSS.Foundation.IO.ISessionInfo]\r\n",
              "Grids: System.Collections.Generic.List`1[BoSSS.Foundation.IO.IGridInfo]\r\n",
              "Projects: System.Collections.Generic.Dictionary`2[System.String,System.Collections.Generic.IEnumerable`1[BoSSS.Foundation.IO.ISessionInfo]]\r\n",
              "AlternateDbPaths: System.ValueTuple`2[System.String,System.String][]\r\n"
            ]
          },
          "metadata": {},
          "output_type": "display_data"
        }
      ],
      "metadata": {
        "dotnet_interactive": {
          "language": "csharp"
        }
      }
    },
    {
      "cell_type": "code",
      "execution_count": null,
      "source": [
        "myDb.Sessions[1].Export().Do()"
      ],
      "outputs": [
        {
          "output_type": "stream",
          "name": "stdout",
          "text": [
            "Starting export process... Data will be written to the following directory:\r\n"
          ]
        },
        {
          "data": {
            "text/plain": [
              "C:\\Users\\gutierrez\\AppData\\Local\\BoSSS\\plots\\sessions\\CounterFlowFlame_VariableCP_TempStudy2__FS_CounterDifFlameP2K4Multiplier5xNodesMultiplier4__659cfed5-683a-4949-9767-4391bc8889d9"
            ]
          },
          "metadata": {},
          "output_type": "display_data"
        }
      ],
      "metadata": {
        "dotnet_interactive": {
          "language": "csharp"
        }
      }
    },
    {
      "cell_type": "code",
      "execution_count": null,
      "source": [
        "BoSSSshell.WorkflowMgm.Init(\"CounterFlowFlame_VariableCP_TempStudy2\");\r\n",
        "// BoSSSshell.WorkflowMgm.SetNameBasedSessionJobControlCorrelation();\r\n",
        "BoSSSshell.WorkflowMgm.Sessions"
      ],
      "outputs": [
        {
          "output_type": "stream",
          "name": "stdout",
          "text": [
            "Project name is set to 'CounterFlowFlame_VariableCP_TempStudy2'.\r\n"
          ]
        },
        {
          "data": {
            "text/plain": [
              "#0: CounterFlowFlame_VariableCP_TempStudy2\tFS_CounterDifFlameP2K4Multiplier5xNodesMultiplier3\t09/27/2021 16:03:18\t93de575b...\r\n",
              "#1: CounterFlowFlame_VariableCP_TempStudy2\tFS_CounterDifFlameP2K4Multiplier5xNodesMultiplier4\t09/27/2021 16:03:14\t659cfed5...\r\n",
              "#2: CounterFlowFlame_VariableCP_TempStudy2\tFS_CounterDifFlameP2K4Multiplier5xNodesMultiplier5\t09/27/2021 16:03:14\t92f88ea7...\r\n",
              "#3: CounterFlowFlame_VariableCP_TempStudy2\tFS_CounterDifFlameP2K4Multiplier5xNodesMultiplier6\t09/27/2021 16:03:14\t04560521...\r\n"
            ]
          },
          "metadata": {},
          "output_type": "display_data"
        }
      ],
      "metadata": {
        "dotnet_interactive": {
          "language": "csharp"
        }
      }
    },
    {
      "cell_type": "code",
      "execution_count": null,
      "source": [
        "var myBatch = BoSSSshell.ExecutionQueues[3];\r\n",
        "// MiniBatchProcessor.Server.StartIfNotRunning(true);\r\n",
        "myBatch.AllowedDatabasesPaths.Add(new AllowedDatabasesPair(myDb.Path,\"\"));"
      ],
      "outputs": [],
      "metadata": {
        "dotnet_interactive": {
          "language": "csharp"
        }
      }
    },
    {
      "cell_type": "code",
      "execution_count": null,
      "source": [
        "// ==================================\r\n",
        "// setup Client & Workflow & Database\r\n",
        "// ==================================\r\n",
        "// var myBatch = (SlurmClient)ExecutionQueues[1];\r\n",
        "// var AddSbatchCmds = new List<string>();\r\n",
        "// AddSbatchCmds.AddRange(new string[]{\"#SBATCH -N 4\",\"#SBATCH -p test24\", \"#SBATCH -C avx512\", \"#SBATCH --mem-per-cpu=\"+2000});\r\n",
        "// myBatch.AllowedDatabasesPaths.Add(new AllowedDatabasesPair(myDb.Path,\"\"));\r\n",
        "// myBatch.AdditionalBatchCommands = AddSbatchCmds.ToArray();\r\n",
        "// myBatch.AdditionalBatchCommands"
      ],
      "outputs": [],
      "metadata": {
        "dotnet_interactive": {
          "language": "csharp"
        }
      }
    },
    {
      "cell_type": "markdown",
      "source": [
        "## Create grid"
      ],
      "metadata": {}
    },
    {
      "cell_type": "code",
      "execution_count": null,
      "source": [
        "public static class GridFactory {\r\n",
        "\r\n",
        "    public static Grid2D GenerateGrid(int nCells, bool wallBounded, double xDensity) {\r\n",
        "        double L = 0.02;\r\n",
        "        double LRef = L;\r\n",
        "        double R_dim = L / 2;\r\n",
        "        double separation = 1.0; // nondimensional\r\n",
        "        double xleft = 0;\r\n",
        "        double xright = separation;\r\n",
        "        double radius_inlet = R_dim / LRef;\r\n",
        "        double ybot = -separation * 3; \r\n",
        "        double ytop = separation * 3;\r\n",
        "        // Define Grid\r\n",
        "        double[] _xNodes;\r\n",
        "        double[] _yNodes;\r\n",
        "\r\n",
        "       // X-NODES\r\n",
        "        double xNodesDensity = xDensity; \r\n",
        "        _xNodes = GenericBlas.Linspace(xleft, xright, (int)(nCells * xNodesDensity + 1));\r\n",
        "        double sf3 = 0.80;\r\n",
        "        var myCenterNodes = GenericBlas.SinLinSpacing(0, radius_inlet*2,0.7, nCells*2 + 1).ToList(); // center\r\n",
        "        var centerNodes = myCenterNodes.GetSubVector(0, myCenterNodes.Count / 2 + 1); // Take only \"bottom side\" of node array\r\n",
        "\r\n",
        "\r\n",
        "        List<double> yNodesTop = (GenericBlas.SinLinSpacing(radius_inlet, (ytop - radius_inlet) * 2 + radius_inlet, sf3, nCells * 2 + 1).ToList()); // Nodes corresponding to the oxidizer inlet, right part\r\n",
        "        var myYnodesTop = yNodesTop.GetSubVector(0, yNodesTop.Count / 2 + 1); // Take only \"bottom side\" of node array\r\n",
        "\r\n",
        "\r\n",
        "        List<double> yUpperPart = new List<double>();\r\n",
        "        yUpperPart.AddRange(centerNodes.SkipLast(1));\r\n",
        "        yUpperPart.AddRange(myYnodesTop.SkipLast(0));\r\n",
        "\r\n",
        "        var yBottomPart = (yUpperPart.ToArray()).CloneAs();\r\n",
        "        yBottomPart.ScaleV(-1.0);\r\n",
        "        Array.Reverse(yBottomPart);\r\n",
        "        var yNodes = new List<double>();\r\n",
        "        yNodes.AddRange(yBottomPart.SkipLast(1));\r\n",
        "        yNodes.AddRange(yUpperPart.SkipLast(0));\r\n",
        "        \r\n",
        "        var grd = Grid2D.Cartesian2DGrid(_xNodes, yNodes.ToArray());\r\n",
        "        // Define Edge tags\r\n",
        "        grd.EdgeTagNames.Add(1, \"Velocity_Inlet_CH4\");\r\n",
        "        grd.EdgeTagNames.Add(2, \"Velocity_Inlet_O2\");\r\n",
        "        grd.EdgeTagNames.Add(3, \"Pressure_Outlet\");\r\n",
        "\r\n",
        "        if(wallBounded){\r\n",
        "            grd.EdgeTagNames.Add(4, \"Wall\");\r\n",
        "        }\r\n",
        "        grd.DefineEdgeTags(delegate (double[] X) {\r\n",
        "            double x = X[0];\r\n",
        "            double y = X[1];\r\n",
        "            //Edge tags\r\n",
        "            //1: Velocity inlet O_2\r\n",
        "            //2: Velocity inlet CH_4\r\n",
        "            //3: Pressure outlet\r\n",
        "            if(Math.Abs(x - xleft) < 1e-8) { // Left boundary\r\n",
        "                if(Math.Abs(y) - radius_inlet < 1e-8) { // Fuel Inlet\r\n",
        "                    return 1;\r\n",
        "                } else {\r\n",
        "                    if(wallBounded){\r\n",
        "                    return 4;\r\n",
        "                } else{\r\n",
        "                    return 3;\r\n",
        "                }\r\n",
        "                }\r\n",
        "            }\r\n",
        "            if(Math.Abs(x - xright) < 1e-8) { // right boundary\r\n",
        "                if(Math.Abs(y) - radius_inlet < 1e-8) { // oxy Inlet\r\n",
        "                    return 2;//2\r\n",
        "                } else {\r\n",
        "                    if(wallBounded){\r\n",
        "                        return 4;\r\n",
        "                    } else{\r\n",
        "                        return 3;\r\n",
        "                    }\r\n",
        "                }\r\n",
        "            } else {\r\n",
        "                return 3; //3 Pressure outlet\r\n",
        "            }\r\n",
        "        });\r\n",
        "        myDb.SaveGrid(ref grd, true);\r\n",
        "\r\n",
        "        return grd;\r\n",
        "    }\r\n",
        "}"
      ],
      "outputs": [],
      "metadata": {
        "dotnet_interactive": {
          "language": "csharp"
        }
      }
    },
    {
      "cell_type": "code",
      "execution_count": null,
      "source": [
        "public static class BoundaryValueFactory { \r\n",
        "\r\n",
        "    public static string GetPrefixCode(double ConstVal, double inletRadius, double uInFuel, double uInAir, double sigma) {\r\n",
        "        using(var stw = new System.IO.StringWriter()) {\r\n",
        "\r\n",
        "            stw.WriteLine(\"static class BoundaryValues {\");\r\n",
        "\r\n",
        "            stw.WriteLine(\"  static public double ConstantValue(double[] X) {\");\r\n",
        "            stw.WriteLine(\"    return \"+ ConstVal +\";\");\r\n",
        "            stw.WriteLine(\"  }\");\r\n",
        "\r\n",
        "            stw.WriteLine(\"  static public double ParabolaVelocityFuel(double[] X) {\");\r\n",
        "            stw.WriteLine(\"    return  (1.0 - Math.Pow(X[1] / \"+inletRadius+\", 2)) * \"+uInFuel+\" ;\");\r\n",
        "            stw.WriteLine(\"  }\");\r\n",
        "\r\n",
        "            stw.WriteLine(\"  static public double ParabolaVelocityAir(double[] X) {\");\r\n",
        "            stw.WriteLine(\"    return  -(1.0 - Math.Pow(X[1] / \"+inletRadius+\", 2)) * \"+uInAir+\";\");\r\n",
        "            stw.WriteLine(\"  }\");\r\n",
        "\r\n",
        "            stw.WriteLine(\"  static public double RegularizedPlugFlowFuel(double[] X) {\");    \r\n",
        "            stw.WriteLine(\" double res = 0;\");  \r\n",
        "            stw.WriteLine(\"         if(X[1] > 0) { \");\r\n",
        "            stw.WriteLine(\"     double H = 0.5 * (1.0 + Math.Tanh(\"+sigma+\" * (X[1] - \"+inletRadius+\"))); \");\r\n",
        "            stw.WriteLine(\"           res = \"+uInFuel+\" * (1 - 2*H); \");\r\n",
        "            stw.WriteLine(\"      }   \");\r\n",
        "            stw.WriteLine(\"  else { \");\r\n",
        "            stw.WriteLine(\"      double H = 0.5 * (1.0 + Math.Tanh(\"+sigma+\" * (X[1] + (\"+inletRadius+\")))); \");\r\n",
        "            stw.WriteLine(\"           res = \"+uInFuel+\" * ( 2*H-1); \");\r\n",
        "            stw.WriteLine(\"  } \");\r\n",
        "            stw.WriteLine(\"return res;\"); \r\n",
        "            stw.WriteLine(\"  }\");\r\n",
        "\r\n",
        "\r\n",
        "            stw.WriteLine(\"  static public double RegularizedPlugFlowAir(double[] X) {\");         \r\n",
        "            stw.WriteLine(\" double res = 0;\");\r\n",
        "            stw.WriteLine(\"         if(X[1] > 0) { \");\r\n",
        "            stw.WriteLine(\"     double H = 0.5 * (1.0 + Math.Tanh(\"+sigma+\" * (X[1] - \"+inletRadius+\"))); \");\r\n",
        "            stw.WriteLine(\"           res = \"+uInAir+\" * (1 - 2*H)*(-1); \");\r\n",
        "            stw.WriteLine(\"      }   \");\r\n",
        "            stw.WriteLine(\"  else { \");\r\n",
        "            stw.WriteLine(\"      double H = 0.5 * (1.0 + Math.Tanh(\"+sigma+\" * (X[1] + (\"+inletRadius+\")))); \");\r\n",
        "            stw.WriteLine(\"           res = \"+uInAir+\" * ( 2*H-1)*(-1); \");\r\n",
        "            stw.WriteLine(\"  } \");\r\n",
        "            stw.WriteLine(\"return res;\"); \r\n",
        "            stw.WriteLine(\"  }\");\r\n",
        "\r\n",
        "\r\n",
        "            stw.WriteLine(\"}\"); \r\n",
        "            return stw.ToString();\r\n",
        "        }\r\n",
        "    }\r\n",
        "\r\n",
        "    static public Formula Get_ConstantValue(double ConstVal, double inletRadius, double uInFuel, double uInAir, double sigma){\r\n",
        "        return new Formula(\"BoundaryValues.ConstantValue\", AdditionalPrefixCode:GetPrefixCode(ConstVal, inletRadius, uInFuel, uInAir,sigma));\r\n",
        "    }\r\n",
        "\r\n",
        "    static public Formula Get_ParabolaVelocityFuel(double ConstVal, double inletRadius, double uInFuel, double uInAir, double sigma){\r\n",
        "        return new Formula(\"BoundaryValues.ParabolaVelocityFuel\", AdditionalPrefixCode:GetPrefixCode(ConstVal, inletRadius, uInFuel, uInAir,sigma));\r\n",
        "    }\r\n",
        "    static public Formula Get_ParabolaVelocityAir(double ConstVal, double inletRadius, double uInFuel, double uInAir, double sigma){\r\n",
        "        return new Formula(\"BoundaryValues.ParabolaVelocityAir\", AdditionalPrefixCode:GetPrefixCode(ConstVal, inletRadius, uInFuel, uInAir,sigma));\r\n",
        "    }\r\n",
        "\r\n",
        "    static public Formula Get_RegularizedPlugFlowFuel(double ConstVal, double inletRadius, double uInFuel, double uInAir, double sigma){\r\n",
        "        return new Formula(\"BoundaryValues.RegularizedPlugFlowFuel\", AdditionalPrefixCode:GetPrefixCode(ConstVal, inletRadius, uInFuel, uInAir,sigma));\r\n",
        "    }\r\n",
        "\r\n",
        "    static public Formula Get_RegularizedPlugFlowAir(double ConstVal, double inletRadius, double uInFuel, double uInAir, double sigma){\r\n",
        "        return new Formula(\"BoundaryValues.RegularizedPlugFlowAir\", AdditionalPrefixCode:GetPrefixCode(ConstVal, inletRadius, uInFuel, uInAir,sigma));\r\n",
        "    }\r\n",
        "\r\n",
        "}"
      ],
      "outputs": [],
      "metadata": {
        "dotnet_interactive": {
          "language": "csharp"
        }
      }
    },
    {
      "cell_type": "markdown",
      "source": [
        "## Create base control file\r\n",
        "In this ControlFile basic configuration of the CounterDiffusionFlame is defined."
      ],
      "metadata": {}
    },
    {
      "cell_type": "code",
      "execution_count": null,
      "source": [
        "static XNSEC_Control GiveMeTheCtrlFile(int dg, int nCells, bool isMF, double massFuelIn, double massAirIn, bool parabolicVelocityProfile, bool UsefullGeometry, bool wallBounded, double xNodesMultiplier) {\r\n",
        "    var CC = new ChemicalConstants();\r\n",
        "\r\n",
        "    var C = isMF ? new XNSEC_MF_Control() : new XNSEC_Control();\r\n",
        "    // C.AlternateDbPaths = new[] {\r\n",
        "    //     (@\"S:\\work\\scratch\\jg11bano\\\"+dirname, \"PCMIT30\"),\r\n",
        "    //     (@\"/work/scratch/jg11bano/\"+dirname,\"\")};\r\n",
        "    // C.AlternateDbPaths = new[] {\r\n",
        "    //     (winpath, \"\"),\r\n",
        "    //     (dirname,\"\")};\r\n",
        "\r\n",
        "    C.NumberOfChemicalSpecies = 4; \r\n",
        "    C.SetDGdegree(dg); //\r\n",
        "    C.SetGrid(GridFactory.GenerateGrid(nCells, wallBounded, xNodesMultiplier));  //\r\n",
        "\r\n",
        "    C.MatParamsMode = MaterialParamsMode.Sutherland;  //\r\n",
        "    // Problem Definition\r\n",
        "    //===================\r\n",
        "    double L = 0.02; // separation between the two inlets, meters\r\n",
        "    double TemperatureInFuel = 300;  //\r\n",
        "    double TemperatureInOxidizer = 300; //\r\n",
        "    double AtmPressure = 101325; // Pa\r\n",
        "    double[] FuelInletConcentrations = new double[] { 0.2, 0.0, 0.0, 0.0, 0.8 };\r\n",
        "    // double[] FuelInletConcentrations = new double[] { 1.0, 0.0, 0.0, 0.0, 0.0 };\r\n",
        "\r\n",
        "    double[] OxidizerInletConcentrations = new double[] { 0.0, 0.23, 0.0, 0.0, 0.77 }; //\r\n",
        "    double[] MWs = new double[] { CC.MW_CH4, CC.MW_O2, CC.MW_CO2, CC.MW_H2O, CC.MW_N2 };\r\n",
        "\r\n",
        "    double mwFuel = CC.getAvgMW(MWs, FuelInletConcentrations);\r\n",
        "    double mwAir = CC.getAvgMW(MWs, OxidizerInletConcentrations);\r\n",
        "    double densityAirIn = AtmPressure * mwAir / (CC.R_gas * TemperatureInOxidizer * 1000); // kg / m3\r\n",
        "    double densityFuelIn = AtmPressure * mwFuel / (CC.R_gas * TemperatureInFuel * 1000); // kg / m3.\r\n",
        "    double uInFuel = massFuelIn / densityFuelIn; //\r\n",
        "    double uInAir = massAirIn / densityAirIn; //\r\n",
        "\r\n",
        "    Console.WriteLine(\"VelocityFuel\" + uInFuel);\r\n",
        "    Console.WriteLine(\"VelocityAir\" + uInAir);\r\n",
        "\r\n",
        "    // Reference values\r\n",
        "    //===================\r\n",
        "    // Basic units to be used: Kg, m, s, mol, pa,\r\n",
        "    double TRef = TemperatureInOxidizer;// Reference temperature  is the inlet temperature, (K)\r\n",
        "    double pRef = AtmPressure; // Pa\r\n",
        "    double uRef = Math.Max(uInFuel, uInAir); // m/s\r\n",
        "    double LRef = L;\r\n",
        "    C.GravityDirection = new double[] { 0.0, 0.0, 0.0 }; //No gravity.\r\n",
        "\r\n",
        "    // Solver configuration\r\n",
        "    // =======================\r\n",
        "    C.smoothingFactor = 80*0-1*1; \r\n",
        "    // C.NonLinearSolver.ConvergenceCriterion = 1e-8;\r\n",
        "    // C.LinearSolver.ConvergenceCriterion = 1e-10;\r\n",
        "\r\n",
        "    C.NonLinearSolver.verbose = true;\r\n",
        "    C.NonLinearSolver.SolverCode = NonLinearSolverCode.Newton;\r\n",
        "    C.NonLinearSolver.MaxSolverIterations = 10;\r\n",
        "    C.LinearSolver = LinearSolverCode.direct_pardiso.GetConfig();\r\n",
        "    C.LinearSolver.verbose = false;\r\n",
        "    C.TimesteppingMode = AppControl._TimesteppingMode.Steady;\r\n",
        "    C.saveperiod = 1;\r\n",
        "    C.PenaltyViscMomentum = 1.0; ///////////////////////////////////////////////////////////////////////////////////////////////////////////////////////\r\n",
        "    C.PenaltyHeatConduction = 1.0;///////////////////////////////////////////////////////////////////////////////////////////////////////////////////////\r\n",
        "    C.YFuelInlet = FuelInletConcentrations[0];\r\n",
        "    C.YOxInlet = OxidizerInletConcentrations[1];\r\n",
        "    C.FuelInletConcentrations = FuelInletConcentrations;\r\n",
        "    C.OxidizerInletConcentrations = OxidizerInletConcentrations;\r\n",
        "    C.TFuelInlet = 1.0;\r\n",
        "    C.TOxInlet = 1.0;\r\n",
        "    C.PhysicalParameters.IncludeConvection = true;\r\n",
        "    // Chemical related parameters\r\n",
        "    double s = (CC.nu_O2 * CC.MW_O2) / (CC.nu_CH4 * CC.MW_CH4);\r\n",
        "    C.phi = s * C.YFuelInlet / C.YOxInlet;\r\n",
        "    C.zSt = 1.0 / (1.0 + C.phi);\r\n",
        "    var MLC = new MaterialLawCombustion(300, new double[] { }, C.MatParamsMode, C.rhoOne, true, 1.0, 1, 1, C.YOxInlet, C.YFuelInlet, C.zSt, CC, 0.75);\r\n",
        "    var ThermoProperties = new ThermodynamicalProperties();\r\n",
        "\r\n",
        "    //==========================\r\n",
        "    //Derived reference values\r\n",
        "    //==========================\r\n",
        "    C.uRef = uRef; // Reference velocity\r\n",
        "    C.LRef = LRef; // reference length\r\n",
        "    C.pRef = AtmPressure; // reference pressure\r\n",
        "    C.TRef = TemperatureInFuel;// reference temperature\r\n",
        "    C.MWRef = MLC.getAvgMW(MWs, C.OxidizerInletConcentrations); // Air mean molecular weight\r\n",
        "    C.rhoRef = C.pRef * C.MWRef / (8.314 * C.TRef * 1000); // Kg/m3. ok ;\r\n",
        "    C.cpRef = 1.3;//ThermoProperties.Calculate_Cp_Mixture(new double[] { 0.23, 0.77 }, new string[] { \"O2\", \"N2\" }, 300); // 1.219185317353029;// Representative value, KJ/Kg K ========> 1.31 for the one-step kinetic model\r\n",
        "    C.muRef = MLC.getViscosityDim(300);\r\n",
        "    C.MolarMasses = new double[] { C.CC.MW_CH4, C.CC.MW_O2, C.CC.MW_CO2, C.CC.MW_H2O, C.CC.MW_N2 };\r\n",
        "    C.MolarMasses.ScaleV(1.0 / C.MWRef); //NonDimensionalized Molar masses\r\n",
        "    C.T_ref_Sutherland = 300;\r\n",
        "    double heatRelease_Ref = (C.TRef * C.cpRef);\r\n",
        "    C.HeatRelease = C.CC.HeatReleaseMass / heatRelease_Ref;\r\n",
        "    C.B = CC.PreExponentialFactor;\r\n",
        "\r\n",
        "    C.StoichiometricCoefficients = new double[] { -1, -2, 1, 2, 0 };\r\n",
        "\r\n",
        "    C.Damk = C.rhoRef * C.LRef * C.B / (C.uRef * C.MWRef);\r\n",
        "    C.Reynolds = C.rhoRef * C.uRef * C.LRef / C.muRef;\r\n",
        "    C.Prandtl = 0.75;////////////////////0.75;\r\n",
        "    C.Schmidt = C.Prandtl; // Because Lewis number  is assumed as 1.0  (Le = Pr/Sc)\r\n",
        "    // C.Lewis = new double[] { 0.97, 1.11, 1.39, 0.83, 1.0 };\r\n",
        "    C.Lewis = new double[] { 1.0, 1.0, 1.0, 1.0, 1.0 };\r\n",
        "\r\n",
        "    double g = 9.8; // m/s2\r\n",
        "    C.Froude = Math.Sqrt(uRef * uRef / (C.LRef * g)); // Not used\r\n",
        "    C.T_ref_Sutherland = 300; //////// Check this\r\n",
        "    C.ReactionRateConstants = new double[] { C.Damk, CC.Ta / TRef, 1.0, 1.0 }; // NOTE! activation temperature is also nondimensional\r\n",
        "    //==========================\r\n",
        "    // Initial conditions\r\n",
        "    //==========================\r\n",
        "    double dummy = 0;\r\n",
        "    double Radius = 0.5;\r\n",
        "    C.AddInitialValue(VariableNames.VelocityX, BoundaryValueFactory.Get_ConstantValue(0.0, Radius, uInFuel / C.uRef, uInAir / C.uRef,dummy));\r\n",
        "    C.AddInitialValue(VariableNames.VelocityY, BoundaryValueFactory.Get_ConstantValue(0.0, Radius, uInFuel / C.uRef, uInAir / C.uRef,dummy));\r\n",
        "    C.AddInitialValue(VariableNames.Pressure, BoundaryValueFactory.Get_ConstantValue(0.0, Radius, uInFuel / C.uRef, uInAir / C.uRef,dummy));\r\n",
        "    //==========================\r\n",
        "    // Boundary conditions\r\n",
        "    //==========================\r\n",
        "\r\n",
        "    double sigma = 10;\r\n",
        "    if(parabolicVelocityProfile) {\r\n",
        "        C.AddBoundaryValue(\"Velocity_Inlet_CH4\", VariableNames.Velocity_d(0), BoundaryValueFactory.Get_ParabolaVelocityFuel(dummy, Radius, uInFuel / C.uRef, dummy, dummy));\r\n",
        "        C.AddBoundaryValue(\"Velocity_Inlet_O2\", VariableNames.Velocity_d(0), BoundaryValueFactory.Get_ParabolaVelocityAir(dummy, Radius, dummy, uInAir / C.uRef, dummy));\r\n",
        "    } else { // Plug Flow\r\n",
        "        // C.AddBoundaryValue(\"Velocity_Inlet_CH4\", VariableNames.Velocity_d(0), BoundaryValueFactory.Get_ConstantValue(uInFuel / C.uRef, dummy, dummy, dummy, dummy));\r\n",
        "        // C.AddBoundaryValue(\"Velocity_Inlet_O2\", VariableNames.Velocity_d(0), BoundaryValueFactory.Get_ConstantValue((-1) * uInAir / C.uRef, dummy, dummy, dummy, dummy));\r\n",
        "        C.AddBoundaryValue(\"Velocity_Inlet_CH4\", VariableNames.Velocity_d(0), BoundaryValueFactory.Get_RegularizedPlugFlowFuel(dummy, Radius, uInFuel / C.uRef, dummy, sigma));\r\n",
        "        C.AddBoundaryValue(\"Velocity_Inlet_O2\", VariableNames.Velocity_d(0), BoundaryValueFactory.Get_RegularizedPlugFlowAir( dummy, Radius, dummy,  uInAir / C.uRef, sigma));\r\n",
        "    }\r\n",
        "\r\n",
        "\r\n",
        "\r\n",
        "\r\n",
        "    C.AddBoundaryValue(\"Velocity_Inlet_CH4\", VariableNames.Velocity_d(1), BoundaryValueFactory.Get_ConstantValue(0.0, dummy, dummy, dummy,dummy));\r\n",
        "    C.AddBoundaryValue(\"Velocity_Inlet_O2\", VariableNames.Velocity_d(1), BoundaryValueFactory.Get_ConstantValue(0.0, dummy, dummy, dummy,dummy));\r\n",
        "    if(wallBounded){\r\n",
        "        C.AddBoundaryValue(\"Wall\", VariableNames.VelocityX, BoundaryValueFactory.Get_ConstantValue(0.0, dummy, dummy, dummy,dummy));\r\n",
        "        C.AddBoundaryValue(\"Wall\", VariableNames.VelocityY, BoundaryValueFactory.Get_ConstantValue(0.0, dummy, dummy, dummy,dummy));\r\n",
        "    }\r\n",
        "    return C;\r\n",
        "}"
      ],
      "outputs": [],
      "metadata": {
        "dotnet_interactive": {
          "language": "csharp"
        }
      }
    },
    {
      "cell_type": "markdown",
      "source": [
        "## Starting the MixtureFraction simulation\r\n",
        "Configuration  for the simulation using the mixture fraction approach, where an infinite reaction rate is assumed. Used to find adequate starting solution for the full problem."
      ],
      "metadata": {}
    },
    {
      "cell_type": "code",
      "execution_count": null,
      "source": [
        "static XNSEC_Control GiveMeTheMixtureFractionCtrlFile(int dg, int nCells, double massFuelIn, double massAirIn, bool parabolicVelocityProfile, int multiplier, bool useFullGeometry, bool wallBounded, double xNodesMultiplier){\r\n",
        "    var C_MixtureFraction = GiveMeTheCtrlFile(dg, nCells, true,massFuelIn, massAirIn, parabolicVelocityProfile, useFullGeometry,  wallBounded , xNodesMultiplier);\r\n",
        "    C_MixtureFraction.physicsMode = PhysicsMode.MixtureFraction;\r\n",
        "    C_MixtureFraction.ProjectName = \"CounterDifFlame\";\r\n",
        "    string name = C_MixtureFraction.ProjectName + \"P\" + dg + \"K\" + nCells + \"Multiplier\" +multiplier + \"xNodesMultiplier\"+xNodesMultiplier;\r\n",
        "    C_MixtureFraction.SessionName = \"FS_\" + name;\r\n",
        "\r\n",
        "    C_MixtureFraction.UseSelfMadeTemporalOperator = false;\r\n",
        "    C_MixtureFraction.ChemicalReactionActive = false;\r\n",
        "    C_MixtureFraction.physicsMode = PhysicsMode.MixtureFraction;\r\n",
        "    C_MixtureFraction.NonLinearSolver.MaxSolverIterations = 50; \r\n",
        "    C_MixtureFraction.dummycounter = multiplier;\r\n",
        "    \r\n",
        "    // Boundary and initial conditions\r\n",
        "    double dummy = -11111111;\r\n",
        "    C_MixtureFraction.AddInitialValue(VariableNames.MixtureFraction,BoundaryValueFactory.Get_ConstantValue(1.0,dummy,dummy , dummy, dummy));\r\n",
        "    C_MixtureFraction.AddBoundaryValue(\"Velocity_Inlet_CH4\", VariableNames.MixtureFraction, BoundaryValueFactory.Get_ConstantValue(1.0,dummy,dummy , dummy, dummy));\r\n",
        "    C_MixtureFraction.AddBoundaryValue(\"Velocity_Inlet_O2\", VariableNames.MixtureFraction, BoundaryValueFactory.Get_ConstantValue(0.0,dummy,dummy , dummy, dummy));\r\n",
        "\r\n",
        "    C_MixtureFraction.Tags.Add(multiplier.ToString()); // Tag used for restart of the full problem\r\n",
        "    double radius_inlet = 0.5; // radius is 1/2 from length separation\r\n",
        "    var troubledPoints = new List<double[]>();\r\n",
        "    if(useFullGeometry){\r\n",
        "        troubledPoints.Add(new double[]{2, +radius_inlet });\r\n",
        "        troubledPoints.Add(new double[]{2, -radius_inlet });\r\n",
        "        troubledPoints.Add(new double[]{1, +radius_inlet });\r\n",
        "        troubledPoints.Add(new double[]{1, -radius_inlet });\r\n",
        "    } else {\r\n",
        "        troubledPoints.Add(new double[]{0, +radius_inlet });\r\n",
        "        troubledPoints.Add(new double[]{0, -radius_inlet });\r\n",
        "        troubledPoints.Add(new double[]{1, +radius_inlet });\r\n",
        "        troubledPoints.Add(new double[]{1, -radius_inlet });\r\n",
        "    }\r\n",
        "    \r\n",
        "\r\n",
        "    \r\n",
        "    // Dictionary<string, Tuple<double, double>> Bounds = new Dictionary<string, Tuple<double, double>>();\r\n",
        "    // double eps = 0.05;\r\n",
        "    // Bounds.Add(VariableNames.MixtureFraction, new Tuple<double, double>(0- eps, 1 + eps));      \r\n",
        "    // C_MixtureFraction.VariableBounds = Bounds;\r\n",
        "\r\n",
        "\r\n",
        "    bool useHomotopy = false;\r\n",
        "\r\n",
        "    if(useHomotopy) { \r\n",
        "        C_MixtureFraction.HomotopyApproach = XNSEC_Control.HomotopyType.Automatic;\r\n",
        "        // C_MixtureFraction.HomotopyVariable = XNSEC_Control.HomotopyVariableEnum.VelocityInletMultiplier;\r\n",
        "        // C_MixtureFraction.homotopieAimedValue = multiplier;\r\n",
        "        C_MixtureFraction.HomotopyVariable = XNSEC_Control.HomotopyVariableEnum.Reynolds;\r\n",
        "        C_MixtureFraction.homotopieAimedValue = C_MixtureFraction.Reynolds;\r\n",
        "    }\r\n",
        "\r\n",
        "\r\n",
        "    C_MixtureFraction.AdaptiveMeshRefinement = false;\r\n",
        "\r\n",
        "\r\n",
        "    C_MixtureFraction.TimesteppingMode = BoSSS.Solution.Control.AppControl._TimesteppingMode.Steady; \r\n",
        "\r\n",
        "\r\n",
        "    // C_MixtureFraction.activeAMRlevelIndicators.Add( new BoSSS.Application.XNSEC.AMR_onProblematicPoints(troubledPoints,C_MixtureFraction.AMR_startUpSweeps) );  \r\n",
        "    // C_MixtureFraction.activeAMRlevelIndicators.Add(new BoSSS.Application.XNSEC.AMR_RefineAroundProblematicPoints(troubledPoints, 1, 0.01));\r\n",
        "    // C_MixtureFraction.activeAMRlevelIndicators.Add( new BoSSS.Application.XNSEC.AMR_onFlameSheet(C_MixtureFraction.zSt,3) );\r\n",
        "    return C_MixtureFraction;\r\n",
        "}"
      ],
      "outputs": [],
      "metadata": {
        "dotnet_interactive": {
          "language": "csharp"
        }
      }
    },
    {
      "cell_type": "markdown",
      "source": [
        "## Send and run jobs"
      ],
      "metadata": {}
    },
    {
      "cell_type": "code",
      "execution_count": null,
      "source": [
        "bool HLLRCalculation = true;"
      ],
      "outputs": [],
      "metadata": {
        "dotnet_interactive": {
          "language": "csharp"
        }
      }
    },
    {
      "cell_type": "code",
      "execution_count": null,
      "source": [
        "// foreach(double xDensityMult in  xCellsMultiplier)\r\n",
        "// foreach(int nCells in nCellsArray){\r\n",
        "//    int dg = 2;\r\n",
        "// foreach(int i in multiplierS){\r\n",
        "//     double massFuelIn = InitialMassFuelIn*i;\r\n",
        "//     double massAirIn = InitialMassAirIn*i;\r\n",
        "\r\n",
        "//     Type solver_MF = typeof(BoSSS.Application.XNSEC.XNSEC_MixtureFraction);\r\n",
        "//     var C_MixtureFraction = GiveMeTheMixtureFractionCtrlFile(dg, nCells, massFuelIn, massAirIn,  parabolicVelocityProfile,i,useFullGeometry, wallBounded,xDensityMult);\r\n",
        "//     string jobName       = C_MixtureFraction.SessionName;\r\n",
        "//     Console.WriteLine(jobName);\r\n",
        "//      var oneJob           = new Job(jobName, solver_MF);\r\n",
        "//      oneJob.NumberOfMPIProcs =  8;\r\n",
        "//     //  oneJob.ExecutionTime            = \"2:00:00\";\r\n",
        "//     //  oneJob.UseComputeNodesExclusive = true;\r\n",
        "//      oneJob.SetControlObject(C_MixtureFraction);\r\n",
        "//      oneJob.Activate(myBatch); \r\n",
        "//  }\r\n",
        "// }\r\n"
      ],
      "outputs": [],
      "metadata": {
        "dotnet_interactive": {
          "language": "csharp"
        }
      }
    },
    {
      "cell_type": "code",
      "execution_count": null,
      "source": [
        "BoSSSshell.WorkflowMgm.BlockUntilAllJobsTerminate();"
      ],
      "outputs": [
        {
          "output_type": "stream",
          "name": "stdout",
          "text": [
            "All jobs finished.\r\n"
          ]
        }
      ],
      "metadata": {
        "dotnet_interactive": {
          "language": "csharp"
        }
      }
    },
    {
      "cell_type": "code",
      "execution_count": null,
      "source": [],
      "outputs": [],
      "metadata": {
        "dotnet_interactive": {
          "language": "csharp"
        }
      }
    },
    {
      "cell_type": "markdown",
      "source": [
        "## Starting the finite-rate chemistry simulation\r\n",
        "\r\n",
        "Now that the simulation for an \"infinite\" reaction rate is done, we use it for initializing the system with finite reaction rate. The goal is to obtain solutions of the counter difussion flame for increasing strain values. We start with a low strain (bigger Dahmkoehler number), which is increased until extintion is (hopefully) found"
      ],
      "metadata": {}
    },
    {
      "cell_type": "code",
      "execution_count": null,
      "source": [
        "static XNSEC_Control GiveMeTheFullCtrlFile(int dg, int nCells, double massFuelIn, double massAirIn, ISessionInfo SessionToRestart, bool parabolicVelocityProfile, bool chemReactionActive, bool useFullGeometry, bool wallBounded, int mult, int counter, double xNodesMultiplier) {\r\n",
        "    var C_OneStep = GiveMeTheCtrlFile(dg, nCells, false, massFuelIn, massAirIn, parabolicVelocityProfile, useFullGeometry, wallBounded, xNodesMultiplier);\r\n",
        "    C_OneStep.physicsMode = PhysicsMode.Combustion;\r\n",
        "    C_OneStep.ProjectName = \"CounterDifFlame\";\r\n",
        "    string name = C_OneStep.ProjectName + \"P\" + dg + \"K\" + nCells + \"mult\" + mult+\"_c\"+counter ;\r\n",
        "    C_OneStep.SessionName = \"Full_\" + name;\r\n",
        "    C_OneStep.VariableOneStepParameters = true;\r\n",
        "\r\n",
        "    // C_OneStep.Tags.Add(\"VelocityMultiplier\" + mult);\r\n",
        "    C_OneStep.Tags.Add( mult.ToString());\r\n",
        "    C_OneStep.dummycounter = counter;\r\n",
        "    C_OneStep.UseSelfMadeTemporalOperator = false;\r\n",
        "    C_OneStep.myThermalWallType = SIPDiffusionTemperature.ThermalWallType.Adiabatic;\r\n",
        "    C_OneStep.Timestepper_LevelSetHandling = BoSSS.Solution.XdgTimestepping.LevelSetHandling.None;\r\n",
        "    C_OneStep.UseMixtureFractionsForCombustionInitialization = true;\r\n",
        "\r\n",
        "    C_OneStep.LinearSolver = LinearSolverCode.exp_Kcycle_schwarz.GetConfig();\r\n",
        "    C_OneStep.LinearSolver.NoOfMultigridLevels = 5;\r\n",
        "    C_OneStep.ChemicalReactionActive = chemReactionActive;\r\n",
        "    C_OneStep.AdaptiveMeshRefinement = true;\r\n",
        "    \r\n",
        "    C_OneStep.HeatCapacityMode = MaterialLaw_MultipleSpecies.CpCalculationMode.mixture;\r\n",
        "\r\n",
        "    bool AMRinEachNewtonStep = false;\r\n",
        "\r\n",
        "    if( AMRinEachNewtonStep) {\r\n",
        "        C_OneStep.NoOfTimesteps = 4;\r\n",
        "        C_OneStep.NonLinearSolver.MaxSolverIterations = 8; // Do only one newton iteration before refining\r\n",
        "        C_OneStep.NonLinearSolver.MinSolverIterations = 8; // Do only one newton iteration before refining\r\n",
        "    } else{\r\n",
        "        C_OneStep.NoOfTimesteps = 1; // The steady solution will be calculated again and do AMR\r\n",
        "        C_OneStep.NonLinearSolver.MaxSolverIterations = 50;\r\n",
        "    }\r\n",
        "\r\n",
        "    C_OneStep.AMR_startUpSweeps = 0;\r\n",
        "    if(C_OneStep.ChemicalReactionActive){\r\n",
        "        C_OneStep.activeAMRlevelIndicators.Add(new AMR_onReactiveZones(C_OneStep.MolarMasses, 2, 0.2));\r\n",
        "        C_OneStep.activeAMRlevelIndicators.Add(new AMR_BasedOnVariableLimits(\"Temperature\", new double[] { -100, 4 },3)); // Refine all cells with T > 5 (and T < -100)\r\n",
        "        // C_OneStep.activeAMRlevelIndicators.Add(new AMR_BasedOnFieldGradient(2, 0.9, VariableNames.Temperature));\r\n",
        "        // C_OneStep.activeAMRlevelIndicators.Add(new AMR_BasedOnPerssonSensor(VariableNames.Temperature, 2));\r\n",
        "    }\r\n",
        "    // C_OneStep.activeAMRlevelIndicators.Add(new AMR_BasedOnPerssonSensor(VariableNames.Temperature, 3));\r\n",
        "    // C_OneStep.NonLinearSolver.MaxSolverIterations = 10;\r\n",
        "\r\n",
        "    // limiting of variable values\r\n",
        "    Dictionary<string, Tuple<double, double>> Bounds = new Dictionary<string, Tuple<double, double>>();\r\n",
        "    double eps = 1e-2;\r\n",
        "    Bounds.Add(VariableNames.Temperature, new Tuple<double, double>(1.0 - eps, 10)); // Min temp should be the inlet temperature.\r\n",
        "    Bounds.Add(VariableNames.MassFraction0, new Tuple<double, double>(0.0 - 1e-4, 1.0 + 1e-4)); // Between 0 and 1 per definition\r\n",
        "    Bounds.Add(VariableNames.MassFraction1, new Tuple<double, double>(0.0 - 1e-4, 1.0 + 1e-4));\r\n",
        "    Bounds.Add(VariableNames.MassFraction2, new Tuple<double, double>(0.0 - 1e-4, 1.0 + 1e-4));\r\n",
        "    Bounds.Add(VariableNames.MassFraction3, new Tuple<double, double>(0.0 - 1e-4, 1.0 + 1e-4));\r\n",
        "    C_OneStep.VariableBounds = Bounds;\r\n",
        "    // Boundary conditions\r\n",
        "\r\n",
        "    double dummy = 0;\r\n",
        "    if(SessionToRestart != null) {\r\n",
        "        C_OneStep.SetRestart(SessionToRestart);\r\n",
        "    } else {\r\n",
        "        C_OneStep.AddInitialValue(VariableNames.Temperature, BoundaryValueFactory.Get_ConstantValue(1.0, dummy, dummy, dummy, dummy));\r\n",
        "        C_OneStep.AddInitialValue(VariableNames.MassFraction0, BoundaryValueFactory.Get_ConstantValue(0.0, dummy, dummy, dummy, dummy));\r\n",
        "        C_OneStep.AddInitialValue(VariableNames.MassFraction1, BoundaryValueFactory.Get_ConstantValue(0.23, dummy, dummy, dummy, dummy));\r\n",
        "        C_OneStep.AddInitialValue(VariableNames.MassFraction2, BoundaryValueFactory.Get_ConstantValue(0.0, dummy, dummy, dummy, dummy));\r\n",
        "        C_OneStep.AddInitialValue(VariableNames.MassFraction3, BoundaryValueFactory.Get_ConstantValue(0.0, dummy, dummy, dummy, dummy));\r\n",
        "    }\r\n",
        "    if(wallBounded){\r\n",
        "        C_OneStep.AddBoundaryValue(\"Wall\", VariableNames.Temperature, BoundaryValueFactory.Get_ConstantValue(1.0, dummy, dummy, dummy, dummy));\r\n",
        "    }\r\n",
        "    C_OneStep.AddBoundaryValue(\"Velocity_Inlet_CH4\", VariableNames.Temperature, BoundaryValueFactory.Get_ConstantValue(1.0, dummy, dummy, dummy, dummy));\r\n",
        "    C_OneStep.AddBoundaryValue(\"Velocity_Inlet_CH4\", VariableNames.MassFraction0, BoundaryValueFactory.Get_ConstantValue(C_OneStep.FuelInletConcentrations[0], dummy, dummy, dummy, dummy));\r\n",
        "    C_OneStep.AddBoundaryValue(\"Velocity_Inlet_CH4\", VariableNames.MassFraction1, BoundaryValueFactory.Get_ConstantValue(C_OneStep.FuelInletConcentrations[1], dummy, dummy, dummy, dummy));\r\n",
        "    C_OneStep.AddBoundaryValue(\"Velocity_Inlet_CH4\", VariableNames.MassFraction2, BoundaryValueFactory.Get_ConstantValue(C_OneStep.FuelInletConcentrations[2], dummy, dummy, dummy, dummy));\r\n",
        "    C_OneStep.AddBoundaryValue(\"Velocity_Inlet_CH4\", VariableNames.MassFraction3, BoundaryValueFactory.Get_ConstantValue(C_OneStep.FuelInletConcentrations[3], dummy, dummy, dummy, dummy));\r\n",
        "\r\n",
        "    C_OneStep.AddBoundaryValue(\"Velocity_Inlet_O2\", VariableNames.Temperature, BoundaryValueFactory.Get_ConstantValue(1.0, dummy, dummy, dummy, dummy));\r\n",
        "    C_OneStep.AddBoundaryValue(\"Velocity_Inlet_O2\", VariableNames.MassFraction0, BoundaryValueFactory.Get_ConstantValue(C_OneStep.OxidizerInletConcentrations[0], dummy, dummy, dummy, dummy));\r\n",
        "    C_OneStep.AddBoundaryValue(\"Velocity_Inlet_O2\", VariableNames.MassFraction1, BoundaryValueFactory.Get_ConstantValue(C_OneStep.OxidizerInletConcentrations[1], dummy, dummy, dummy, dummy));\r\n",
        "    C_OneStep.AddBoundaryValue(\"Velocity_Inlet_O2\", VariableNames.MassFraction2, BoundaryValueFactory.Get_ConstantValue(C_OneStep.OxidizerInletConcentrations[2], dummy, dummy, dummy, dummy));\r\n",
        "    C_OneStep.AddBoundaryValue(\"Velocity_Inlet_O2\", VariableNames.MassFraction3, BoundaryValueFactory.Get_ConstantValue(C_OneStep.OxidizerInletConcentrations[3], dummy, dummy, dummy, dummy));\r\n",
        "    return C_OneStep;\r\n",
        "}"
      ],
      "outputs": [],
      "metadata": {
        "dotnet_interactive": {
          "language": "csharp"
        }
      }
    },
    {
      "cell_type": "code",
      "execution_count": null,
      "source": [
        "Type solver = typeof(BoSSS.Application.XNSEC.XNSEC);"
      ],
      "outputs": [],
      "metadata": {
        "dotnet_interactive": {
          "language": "csharp"
        }
      }
    },
    {
      "cell_type": "markdown",
      "source": [
        "Calculate the full solution for the initial value"
      ],
      "metadata": {}
    },
    {
      "cell_type": "code",
      "execution_count": null,
      "source": [
        "int counter = 0;\r\n",
        "foreach (double xDensityNodes in xCellsMultiplier){\r\n",
        "    foreach (int nCells in nCellsArray) {\r\n",
        "        foreach (int dg in DGDegrees) {\r\n",
        "            foreach (int i in multiplierS) {\r\n",
        "                // var sess =(myDb.Sessions.Where(s=>Convert.ToInt64(s.Tags.ToArray()[0]) == i)).FirstOrDefault(); \r\n",
        "                var sess = (myDb.Sessions.Where(s => s.Name == \"FS_CounterDifFlameP\" + 2 + \"K\" + nCells + \"Multiplier\" + i + \"xNodesMultiplier\" + xDensityNodes)).FirstOrDefault();\r\n",
        "                var C = GiveMeTheFullCtrlFile(dg, nCells, InitialMassFuelIn * i, InitialMassAirIn * i, sess, parabolicVelocityProfile, chemicalReactionActive, useFullGeometry, wallBounded, i, counter, xDensityNodes);\r\n",
        "                string jobName = C.SessionName + \"TemperatureStudy\";\r\n",
        "                Console.WriteLine(jobName);\r\n",
        "                var oneJob = new Job(jobName, solver);\r\n",
        "                oneJob.NumberOfMPIProcs = 12;\r\n",
		"                oneJob.NumberOfThreads = 1;\r\n",
        "                oneJob.SetControlObject(C);\r\n",
        "                oneJob.Activate(myBatch);\r\n",
        "                counter++;\r\n",
        "            }\r\n",
        "        }\r\n",
        "    }\r\n",
        "}"
      ],
      "outputs": [
        {
          "output_type": "stream",
          "name": "stdout",
          "text": [
            "Grid Edge Tags changed.\r\n",
            "VelocityFuel0.12132092629798034\r\n",
            "VelocityAir0.3073903034789046\r\n",
            "Full_CounterDifFlameP1K4mult5_c0TemperatureStudy\r\n",
            "Deploying job Full_CounterDifFlameP1K4mult5_c0TemperatureStudy ... \r\n",
            "Deploying executables and additional files ...\r\n",
            "Deployment directory: \\\\hpccluster\\hpccluster-scratch\\gutierrez\\binaries\\CounterFlowFlame_VariableCP_TempStudy2-XNSEC2021Sep27_173156\r\n",
            "copied 55 files.\r\n",
            "   written file: control.obj\r\n",
            "   copied 'amd64' runtime.\r\n",
            "deployment finished.\r\n",
            "\r\n",
            "Grid Edge Tags changed.\r\n",
            "VelocityFuel0.12132092629798034\r\n",
            "VelocityAir0.3073903034789046\r\n",
            "Full_CounterDifFlameP2K4mult5_c1TemperatureStudy\r\n",
            "Deploying job Full_CounterDifFlameP2K4mult5_c1TemperatureStudy ... \r\n",
            "Deploying executables and additional files ...\r\n",
            "Deployment directory: \\\\hpccluster\\hpccluster-scratch\\gutierrez\\binaries\\CounterFlowFlame_VariableCP_TempStudy2-XNSEC2021Sep27_173222\r\n",
            "copied 55 files.\r\n",
            "   written file: control.obj\r\n",
            "   copied 'amd64' runtime.\r\n",
            "deployment finished.\r\n",
            "\r\n",
            "Grid Edge Tags changed.\r\n",
            "VelocityFuel0.12132092629798034\r\n",
            "VelocityAir0.3073903034789046\r\n",
            "Full_CounterDifFlameP3K4mult5_c2TemperatureStudy\r\n",
            "Deploying job Full_CounterDifFlameP3K4mult5_c2TemperatureStudy ... \r\n",
            "Deploying executables and additional files ...\r\n",
            "Deployment directory: \\\\hpccluster\\hpccluster-scratch\\gutierrez\\binaries\\CounterFlowFlame_VariableCP_TempStudy2-XNSEC2021Sep27_173250\r\n",
            "copied 55 files.\r\n",
            "   written file: control.obj\r\n",
            "   copied 'amd64' runtime.\r\n",
            "deployment finished.\r\n",
            "\r\n",
            "Grid Edge Tags changed.\r\n",
            "VelocityFuel0.12132092629798034\r\n",
            "VelocityAir0.3073903034789046\r\n",
            "Full_CounterDifFlameP4K4mult5_c3TemperatureStudy\r\n",
            "Deploying job Full_CounterDifFlameP4K4mult5_c3TemperatureStudy ... \r\n",
            "Deploying executables and additional files ...\r\n",
            "Deployment directory: \\\\hpccluster\\hpccluster-scratch\\gutierrez\\binaries\\CounterFlowFlame_VariableCP_TempStudy2-XNSEC2021Sep27_173320\r\n",
            "copied 55 files.\r\n",
            "   written file: control.obj\r\n",
            "   copied 'amd64' runtime.\r\n",
            "deployment finished.\r\n",
            "\r\n",
            "Grid Edge Tags changed.\r\n",
            "VelocityFuel0.12132092629798034\r\n",
            "VelocityAir0.3073903034789046\r\n",
            "Full_CounterDifFlameP1K4mult5_c4TemperatureStudy\r\n",
            "Deploying job Full_CounterDifFlameP1K4mult5_c4TemperatureStudy ... \r\n",
            "Deploying executables and additional files ...\r\n",
            "Deployment directory: \\\\hpccluster\\hpccluster-scratch\\gutierrez\\binaries\\CounterFlowFlame_VariableCP_TempStudy2-XNSEC2021Sep27_173350\r\n",
            "copied 55 files.\r\n",
            "   written file: control.obj\r\n",
            "   copied 'amd64' runtime.\r\n",
            "deployment finished.\r\n",
            "\r\n",
            "Grid Edge Tags changed.\r\n",
            "VelocityFuel0.12132092629798034\r\n",
            "VelocityAir0.3073903034789046\r\n",
            "Full_CounterDifFlameP2K4mult5_c5TemperatureStudy\r\n",
            "Deploying job Full_CounterDifFlameP2K4mult5_c5TemperatureStudy ... \r\n",
            "Deploying executables and additional files ...\r\n",
            "Deployment directory: \\\\hpccluster\\hpccluster-scratch\\gutierrez\\binaries\\CounterFlowFlame_VariableCP_TempStudy2-XNSEC2021Sep27_173413\r\n",
            "copied 55 files.\r\n",
            "   written file: control.obj\r\n",
            "   copied 'amd64' runtime.\r\n",
            "deployment finished.\r\n",
            "\r\n",
            "Grid Edge Tags changed.\r\n",
            "VelocityFuel0.12132092629798034\r\n",
            "VelocityAir0.3073903034789046\r\n",
            "Full_CounterDifFlameP3K4mult5_c6TemperatureStudy\r\n",
            "Deploying job Full_CounterDifFlameP3K4mult5_c6TemperatureStudy ... \r\n",
            "Deploying executables and additional files ...\r\n",
            "Deployment directory: \\\\hpccluster\\hpccluster-scratch\\gutierrez\\binaries\\CounterFlowFlame_VariableCP_TempStudy2-XNSEC2021Sep27_173446\r\n",
            "copied 55 files.\r\n",
            "   written file: control.obj\r\n",
            "   copied 'amd64' runtime.\r\n",
            "deployment finished.\r\n",
            "\r\n",
            "Grid Edge Tags changed.\r\n",
            "VelocityFuel0.12132092629798034\r\n",
            "VelocityAir0.3073903034789046\r\n",
            "Full_CounterDifFlameP4K4mult5_c7TemperatureStudy\r\n",
            "Deploying job Full_CounterDifFlameP4K4mult5_c7TemperatureStudy ... \r\n",
            "Deploying executables and additional files ...\r\n",
            "Deployment directory: \\\\hpccluster\\hpccluster-scratch\\gutierrez\\binaries\\CounterFlowFlame_VariableCP_TempStudy2-XNSEC2021Sep27_173516\r\n",
            "copied 55 files.\r\n",
            "   written file: control.obj\r\n",
            "   copied 'amd64' runtime.\r\n",
            "deployment finished.\r\n",
            "\r\n",
            "Grid Edge Tags changed.\r\n",
            "VelocityFuel0.12132092629798034\r\n",
            "VelocityAir0.3073903034789046\r\n",
            "Full_CounterDifFlameP1K4mult5_c8TemperatureStudy\r\n",
            "Deploying job Full_CounterDifFlameP1K4mult5_c8TemperatureStudy ... \r\n",
            "Deploying executables and additional files ...\r\n",
            "Deployment directory: \\\\hpccluster\\hpccluster-scratch\\gutierrez\\binaries\\CounterFlowFlame_VariableCP_TempStudy2-XNSEC2021Sep27_173545\r\n",
            "copied 55 files.\r\n",
            "   written file: control.obj\r\n",
            "   copied 'amd64' runtime.\r\n",
            "deployment finished.\r\n",
            "\r\n",
            "Grid Edge Tags changed.\r\n",
            "VelocityFuel0.12132092629798034\r\n",
            "VelocityAir0.3073903034789046\r\n",
            "Full_CounterDifFlameP2K4mult5_c9TemperatureStudy\r\n",
            "Deploying job Full_CounterDifFlameP2K4mult5_c9TemperatureStudy ... \r\n",
            "Deploying executables and additional files ...\r\n",
            "Deployment directory: \\\\hpccluster\\hpccluster-scratch\\gutierrez\\binaries\\CounterFlowFlame_VariableCP_TempStudy2-XNSEC2021Sep27_173637\r\n",
            "copied 55 files.\r\n",
            "   written file: control.obj\r\n",
            "   copied 'amd64' runtime.\r\n",
            "deployment finished.\r\n",
            "\r\n",
            "Grid Edge Tags changed.\r\n",
            "VelocityFuel0.12132092629798034\r\n",
            "VelocityAir0.3073903034789046\r\n",
            "Full_CounterDifFlameP3K4mult5_c10TemperatureStudy\r\n",
            "Deploying job Full_CounterDifFlameP3K4mult5_c10TemperatureStudy ... \r\n",
            "Deploying executables and additional files ...\r\n",
            "Deployment directory: \\\\hpccluster\\hpccluster-scratch\\gutierrez\\binaries\\CounterFlowFlame_VariableCP_TempStudy2-XNSEC2021Sep27_173736\r\n",
            "copied 55 files.\r\n",
            "   written file: control.obj\r\n",
            "   copied 'amd64' runtime.\r\n",
            "deployment finished.\r\n",
            "\r\n",
            "Grid Edge Tags changed.\r\n",
            "VelocityFuel0.12132092629798034\r\n",
            "VelocityAir0.3073903034789046\r\n",
            "Full_CounterDifFlameP4K4mult5_c11TemperatureStudy\r\n",
            "Deploying job Full_CounterDifFlameP4K4mult5_c11TemperatureStudy ... \r\n",
            "Deploying executables and additional files ...\r\n",
            "Deployment directory: \\\\hpccluster\\hpccluster-scratch\\gutierrez\\binaries\\CounterFlowFlame_VariableCP_TempStudy2-XNSEC2021Sep27_173807\r\n",
            "copied 55 files.\r\n",
            "   written file: control.obj\r\n",
            "   copied 'amd64' runtime.\r\n",
            "deployment finished.\r\n",
            "\r\n",
            "Grid Edge Tags changed.\r\n",
            "VelocityFuel0.12132092629798034\r\n",
            "VelocityAir0.3073903034789046\r\n",
            "Full_CounterDifFlameP1K4mult5_c12TemperatureStudy\r\n",
            "Deploying job Full_CounterDifFlameP1K4mult5_c12TemperatureStudy ... \r\n",
            "Deploying executables and additional files ...\r\n",
            "Deployment directory: \\\\hpccluster\\hpccluster-scratch\\gutierrez\\binaries\\CounterFlowFlame_VariableCP_TempStudy2-XNSEC2021Sep27_173901\r\n",
            "copied 55 files.\r\n",
            "   written file: control.obj\r\n",
            "   copied 'amd64' runtime.\r\n",
            "deployment finished.\r\n",
            "\r\n",
            "Grid Edge Tags changed.\r\n",
            "VelocityFuel0.12132092629798034\r\n",
            "VelocityAir0.3073903034789046\r\n",
            "Full_CounterDifFlameP2K4mult5_c13TemperatureStudy\r\n",
            "Deploying job Full_CounterDifFlameP2K4mult5_c13TemperatureStudy ... \r\n",
            "Deploying executables and additional files ...\r\n",
            "Deployment directory: \\\\hpccluster\\hpccluster-scratch\\gutierrez\\binaries\\CounterFlowFlame_VariableCP_TempStudy2-XNSEC2021Sep27_173945\r\n",
            "copied 55 files.\r\n",
            "   written file: control.obj\r\n",
            "   copied 'amd64' runtime.\r\n",
            "deployment finished.\r\n",
            "\r\n",
            "Grid Edge Tags changed.\r\n",
            "VelocityFuel0.12132092629798034\r\n",
            "VelocityAir0.3073903034789046\r\n",
            "Full_CounterDifFlameP3K4mult5_c14TemperatureStudy\r\n",
            "Deploying job Full_CounterDifFlameP3K4mult5_c14TemperatureStudy ... \r\n",
            "Deploying executables and additional files ...\r\n",
            "Deployment directory: \\\\hpccluster\\hpccluster-scratch\\gutierrez\\binaries\\CounterFlowFlame_VariableCP_TempStudy2-XNSEC2021Sep27_174026\r\n",
            "copied 55 files.\r\n",
            "   written file: control.obj\r\n",
            "   copied 'amd64' runtime.\r\n",
            "deployment finished.\r\n",
            "\r\n",
            "Grid Edge Tags changed.\r\n",
            "VelocityFuel0.12132092629798034\r\n",
            "VelocityAir0.3073903034789046\r\n",
            "Full_CounterDifFlameP4K4mult5_c15TemperatureStudy\r\n",
            "Deploying job Full_CounterDifFlameP4K4mult5_c15TemperatureStudy ... \r\n",
            "Deploying executables and additional files ...\r\n",
            "Deployment directory: \\\\hpccluster\\hpccluster-scratch\\gutierrez\\binaries\\CounterFlowFlame_VariableCP_TempStudy2-XNSEC2021Sep27_174121\r\n",
            "copied 55 files.\r\n",
            "   written file: control.obj\r\n",
            "   copied 'amd64' runtime.\r\n",
            "deployment finished.\r\n",
            "\r\n"
          ]
        }
      ],
      "metadata": {
        "dotnet_interactive": {
          "language": "csharp"
        }
      }
    },
    {
      "cell_type": "code",
      "execution_count": null,
      "source": [
        "BoSSSshell.WorkflowMgm.BlockUntilAllJobsTerminate();"
      ],
      "outputs": [],
      "metadata": {
        "dotnet_interactive": {
          "language": "csharp"
        }
      }
    },
    {
      "cell_type": "code",
      "execution_count": null,
      "source": [],
      "outputs": [],
      "metadata": {
        "dotnet_interactive": {
          "language": "csharp"
        }
      }
    },
    {
      "cell_type": "markdown",
      "source": [
        "## Postprocessing"
      ],
      "metadata": {}
    },
    {
      "cell_type": "markdown",
      "source": [
        "## Calculate max temperature"
      ],
      "metadata": {}
    },
    {
      "cell_type": "code",
      "execution_count": null,
      "source": [
        "Dictionary<string, double> MaxTemperature = new Dictionary<string, double>();\r\n",
        "Dictionary<double, double> MaxTemperaturek1 = new Dictionary<double, double>();\r\n",
        "Dictionary<double, double> MaxTemperaturek2 = new Dictionary<double, double>();\r\n",
        "Dictionary<double, double> MaxTemperaturek3 = new Dictionary<double, double>();\r\n",
        "Dictionary<double, double> MaxTemperaturek4 = new Dictionary<double, double>();"
      ],
      "outputs": [],
      "metadata": {
        "dotnet_interactive": {
          "language": "csharp"
        }
      }
    },
    {
      "cell_type": "code",
      "execution_count": null,
      "source": [
        "\r\n",
        "foreach(var sess in myDb.Sessions){\r\n",
        "    if(sess.Name.StartsWith(\"Full\") ){\r\n",
        "\r\n",
        "    \r\n",
        "    var timestep_FullChem = sess.Timesteps.Last();\r\n",
        "    \r\n",
        "    double min = 0; double max = 0;\r\n",
        "    timestep_FullChem.Fields.Pick(5).GetExtremalValues( out min, out max);\r\n",
        "    double nCells =Convert.ToDouble( sess.KeysAndQueries[\"Grid:NoOfCells\"]);\r\n",
        "    double hMin = Convert.ToDouble( sess.KeysAndQueries[\"Grid:hMin\"]);\r\n",
        "    int k = Convert.ToInt32(sess.KeysAndQueries[\"DGdegree:Temperature\"]);\r\n",
        "    Console.WriteLine(\"nCells=\" +nCells + \"____\" + \"hmin\" + hMin + \"____k\" + k + \"__MaxVal___\" + max*300);\r\n",
        "    // switch(k){\r\n",
        "\r\n",
        "    //     case 1:\r\n",
        "    //     MaxTemperaturek1.Add(hMin, max*300);\r\n",
        "    //     break;\r\n",
        "    //     case 2:\r\n",
        "    //     MaxTemperaturek2.Add(hMin, max*300);\r\n",
        "    //     break;\r\n",
        "    //     case 3:\r\n",
        "    //     MaxTemperaturek3.Add(hMin, max*300);\r\n",
        "    //     break;\r\n",
        "    //     case 4:\r\n",
        "    //     MaxTemperaturek4.Add(hMin, max*300);\r\n",
        "    //     break;\r\n",
        "    //     default: throw new Exception();\r\n",
        "    // }\r\n",
        "    \r\n",
        "    }\r\n",
        "}"
      ],
      "outputs": [],
      "metadata": {
        "dotnet_interactive": {
          "language": "csharp"
        }
      }
    },
    {
      "cell_type": "code",
      "execution_count": null,
      "source": [],
      "outputs": [],
      "metadata": {
        "dotnet_interactive": {
          "language": "csharp"
        }
      }
    },
    {
      "cell_type": "code",
      "execution_count": null,
      "source": [
        "myDb.Sessions[1].KeysAndQueries[\"Lewis\"]"
      ],
      "outputs": [],
      "metadata": {
        "dotnet_interactive": {
          "language": "csharp"
        }
      }
    },
    {
      "cell_type": "code",
      "execution_count": null,
      "source": [
        "myDb.Sessions.KeysAndQueries"
      ],
      "outputs": [],
      "metadata": {
        "dotnet_interactive": {
          "language": "csharp"
        }
      }
    },
    {
      "cell_type": "code",
      "execution_count": null,
      "source": [],
      "outputs": [],
      "metadata": {
        "dotnet_interactive": {
          "language": "csharp"
        }
      }
    }
  ],
  "metadata": {
    "kernelspec": {
      "name": ".net-powershell",
      "display_name": ".NET (PowerShell)",
      "language": "PowerShell"
    },
    "language_info": {
      "file_extension": ".cs",
      "mimetype": "text/x-csharp",
      "name": "PowerShell",
      "pygments_lexer": "csharp",
      "version": "9.0"
    },
    "interpreter": {
      "hash": "57baa5815c940fdaff4d14510622de9616cae602444507ba5d0b6727c008cbd6"
    }
  },
  "nbformat": 4,
  "nbformat_minor": 4
}
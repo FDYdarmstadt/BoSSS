{
  "cells": [
    {
      "cell_type": "code",
      "execution_count": null,
      "source": [
        "// #r \".\\binaries2\\bossspad.dll\"\r\n",
        "// #r \".\\binaries2\\XNSEC.dll\"\r\n",
        "// #r \"C:\\BoSSS_Binaries\\bossspad.dll\"\r\n",
        "// #r \"C:\\BoSSS_Binaries\\XNSEC.dll\"\r\n",
        "#r \"C:\\BoSSS\\experimental\\public\\src\\L4-application\\BoSSSpad\\bin\\Release\\net5.0\\bossspad.dll\"\r\n",
        "#r \"C:\\BoSSS\\experimental\\public\\src\\L4-application\\BoSSSpad\\bin\\Release\\net5.0\\XNSEC.dll\"\r\n",
        "using System;\r\n",
        "using System.Collections.Generic;\r\n",
        "using System.Linq;\r\n",
        "using System.IO;\r\n",
        "using System.Data;\r\n",
        "using System.Globalization;\r\n",
        "using System.Threading;\r\n",
        "using ilPSP;\r\n",
        "using ilPSP.Utils;\r\n",
        "using BoSSS.Platform;\r\n",
        "using BoSSS.Foundation;\r\n",
        "using BoSSS.Foundation.Grid;\r\n",
        "using BoSSS.Foundation.Grid.Classic;\r\n",
        "using BoSSS.Foundation.IO;\r\n",
        "using BoSSS.Solution;\r\n",
        "using BoSSS.Solution.Control;\r\n",
        "using BoSSS.Solution.GridImport;\r\n",
        "using BoSSS.Solution.Statistic;\r\n",
        "using BoSSS.Solution.Utils;\r\n",
        "using BoSSS.Solution.Gnuplot;\r\n",
        "using BoSSS.Application.BoSSSpad;\r\n",
        "using static BoSSS.Application.BoSSSpad.BoSSSshell;\r\n",
        "using BoSSS.Foundation.Grid.RefElements;\r\n",
        "using BoSSS.Platform.LinAlg;\r\n",
        "using BoSSS.Solution.NSECommon;\r\n",
        "\r\n",
        "using BoSSS.Application.XNSEC;\r\n",
        "\r\n",
        "Init();"
      ],
      "outputs": [],
      "metadata": {
        "dotnet_interactive": {
          "language": "csharp"
        }
      }
    },
    {
      "cell_type": "markdown",
      "source": [
        "## Case configuration"
      ],
      "metadata": {}
    },
    {
      "cell_type": "code",
      "execution_count": null,
      "source": [
        "int[] dgDegree = new int[]{1,2,3,4};\r\n",
        "\r\n",
        "int[] Resolutions = new int[]{3,4,5,6,7,8,9};\r\n",
        "\r\n",
        "int numberOfMpiCores =4;\r\n",
        "var  NofCells = Resolutions.ToList().Select(r=> (int)Math.Pow(2,r)).ToArray();\r\n",
        "string baseJobName = \"ChamberedFlame\";"
      ],
      "outputs": [],
      "metadata": {
        "dotnet_interactive": {
          "language": "csharp"
        }
      }
    },
    {
      "cell_type": "code",
      "execution_count": null,
      "source": [
        "NofCells"
      ],
      "outputs": [
        {
          "data": {
            "text/html": [
              "<table><thead><tr><th><i>index</i></th><th>value</th></tr></thead><tbody><tr><td>0</td><td><div class=\"dni-plaintext\">8</div></td></tr><tr><td>1</td><td><div class=\"dni-plaintext\">16</div></td></tr><tr><td>2</td><td><div class=\"dni-plaintext\">32</div></td></tr><tr><td>3</td><td><div class=\"dni-plaintext\">64</div></td></tr><tr><td>4</td><td><div class=\"dni-plaintext\">128</div></td></tr><tr><td>5</td><td><div class=\"dni-plaintext\">256</div></td></tr><tr><td>6</td><td><div class=\"dni-plaintext\">512</div></td></tr></tbody></table>"
            ]
          },
          "metadata": {},
          "output_type": "display_data"
        }
      ],
      "metadata": {
        "dotnet_interactive": {
          "language": "csharp"
        }
      }
    },
    {
      "cell_type": "markdown",
      "source": [
        "## Open Database"
      ],
      "metadata": {
        "dotnet_interactive": {
          "language": "csharp"
        }
      }
    },
    {
      "cell_type": "code",
      "execution_count": null,
      "source": [
        "\r\n",
        "// static var myDb = OpenOrCreateDatabase(@\"C:\\Databases\\ChamberedDiffFlame5\"); \r\n",
        "static var myDb = OpenOrCreateDatabase(@\"\\\\hpccluster\\hpccluster-scratch\\gutierrez\\UnstrainedFlame_100ItMax_unitylew_noVariableKin_ConstantCP_highervel\"); \r\n",
        "\r\n",
        "// static string dirname =\"CounterDiffusionFlame_HLLC222\";\r\n",
        "// static string winpath = @\"S:\\work\\scratch\\jg11bano\\\"+dirname;\r\n",
        "// static string remotepath = @\"/work/scratch/jg11bano/\"+dirname;\r\n",
        "\r\n",
        "\r\n",
        "// static var myDb = OpenOrCreateDatabase(@\"S:\\work\\scratch\\jg11bano\\CDF_FirstTryHLLC\");\r\n",
        "\r\n",
        "// static var myDb = OpenOrCreateDatabase(winpath);\r\n",
        "myDb.Summary()"
      ],
      "outputs": [
        {
          "data": {
            "text/plain": [
              "Path: \\\\hpccluster\\hpccluster-scratch\\gutierrez\\UnstrainedFlame_100ItMax_unitylew_noVariableKin_ConstantCP_highervel\r\n",
              "Controller: BoSSS.Foundation.IO.DatabaseController\r\n",
              "Sessions: System.Collections.Generic.List`1[BoSSS.Foundation.IO.ISessionInfo]\r\n",
              "Grids: System.Collections.Generic.List`1[BoSSS.Foundation.IO.IGridInfo]\r\n",
              "Projects: System.Collections.Generic.Dictionary`2[System.String,System.Collections.Generic.IEnumerable`1[BoSSS.Foundation.IO.ISessionInfo]]\r\n",
              "AlternateDbPaths: System.ValueTuple`2[System.String,System.String][]\r\n"
            ]
          },
          "metadata": {},
          "output_type": "display_data"
        }
      ],
      "metadata": {
        "dotnet_interactive": {
          "language": "csharp"
        }
      }
    },
    {
      "cell_type": "code",
      "execution_count": null,
      "source": [
        "BoSSSshell.WorkflowMgm.Init(\"ChamberedFlame4\");\r\n",
        "// BoSSSshell.WorkflowMgm.SetNameBasedSessionJobControlCorrelation();\r\n",
        "BoSSSshell.WorkflowMgm.Sessions"
      ],
      "outputs": [
        {
          "data": {
            "text/plain": []
          },
          "metadata": {},
          "output_type": "display_data"
        }
      ],
      "metadata": {
        "dotnet_interactive": {
          "language": "csharp"
        }
      }
    },
    {
      "cell_type": "code",
      "execution_count": null,
      "source": [
        "var myBatch = BoSSSshell.ExecutionQueues[3];\r\n",
        "// MiniBatchProcessor.Server.StartIfNotRunning(true);\r\n",
        "myBatch.AllowedDatabasesPaths.Add(new AllowedDatabasesPair(myDb.Path,\"\"));"
      ],
      "outputs": [],
      "metadata": {
        "dotnet_interactive": {
          "language": "csharp"
        }
      }
    },
    {
      "cell_type": "code",
      "execution_count": null,
      "source": [
        "// ==================================\r\n",
        "// setup Client & Workflow & Database\r\n",
        "// ==================================\r\n",
        "// var myBatch = (SlurmClient)ExecutionQueues[1];\r\n",
        "// var AddSbatchCmds = new List<string>();\r\n",
        "// AddSbatchCmds.AddRange(new string[]{\"#SBATCH -N 4\",\"#SBATCH -p test24\", \"#SBATCH -C avx512\", \"#SBATCH --mem-per-cpu=\"+2000});\r\n",
        "// myBatch.AllowedDatabasesPaths.Add(new AllowedDatabasesPair(myDb.Path,\"\"));\r\n",
        "// myBatch.AdditionalBatchCommands = AddSbatchCmds.ToArray();\r\n",
        "// myBatch.AdditionalBatchCommands"
      ],
      "outputs": [],
      "metadata": {
        "dotnet_interactive": {
          "language": "csharp"
        }
      }
    },
    {
      "cell_type": "markdown",
      "source": [
        "## Create grid"
      ],
      "metadata": {}
    },
    {
      "cell_type": "code",
      "execution_count": null,
      "source": [
        "public static class GridFactory {\r\n",
        "\r\n",
        "    public static Grid2D GenerateGrid(int nCells) {\r\n",
        "        double sepAdim = 20 ; // 20 is already ok!\r\n",
        "        double xleft = -sepAdim;\r\n",
        "        double xright = 0.0;\r\n",
        "        double R = sepAdim / 10;\r\n",
        "\r\n",
        "        var _xNodes = GenericBlas.Linspace(xleft, xright, nCells + 1);\r\n",
        "        double[] _yNodes = GenericBlas.Linspace(-R, R, 3 + 1);\r\n",
        "        string BC = \"ScalarDirichlet_PressureOutlet\";\r\n",
        "\r\n",
        "        Console.WriteLine(\"Number of cells in the X direction: {0}\", _xNodes.Length);\r\n",
        "        Console.WriteLine(\"Number of cells in the Y direction: {0}\", _yNodes.Length);\r\n",
        "        var grd = Grid2D.Cartesian2DGrid(_xNodes, _yNodes, periodicY: true);\r\n",
        "        grd.EdgeTagNames.Add(1, \"Velocity_Inlet_CH4\");\r\n",
        "        grd.EdgeTagNames.Add(2, BC);\r\n",
        "\r\n",
        "        grd.DefineEdgeTags(delegate (double[] X) {\r\n",
        "            double x = X[0];\r\n",
        "            double y = X[1];\r\n",
        "\r\n",
        "            if (Math.Abs(x - xleft) < 1e-8) { // Left boundary\r\n",
        "                return 1; // Left\r\n",
        "            } else if (Math.Abs(x - xright) < 1e-8) { // right boundary\r\n",
        "                return 2; // right\r\n",
        "            } else {\r\n",
        "                return 3;\r\n",
        "                //  throw new Exception(\"Problem while setting GridEdgeTagFunc\");\r\n",
        "            }\r\n",
        "        }\r\n",
        "        );\r\n",
        "        \r\n",
        "\r\n",
        "        myDb.SaveGrid(ref grd, true);\r\n",
        "\r\n",
        "        return grd;\r\n",
        "    }\r\n",
        "\r\n",
        "}"
      ],
      "outputs": [],
      "metadata": {
        "dotnet_interactive": {
          "language": "csharp"
        }
      }
    },
    {
      "cell_type": "code",
      "execution_count": null,
      "source": [
        "public static class BoundaryValueFactory { \r\n",
        "\r\n",
        "    public static string GetPrefixCode(double ConstVal) {\r\n",
        "        using(var stw = new System.IO.StringWriter()) {\r\n",
        "            stw.WriteLine(\"static class BoundaryValues {\");\r\n",
        "            stw.WriteLine(\"  static public double ConstantValue(double[] X) {\");\r\n",
        "            stw.WriteLine(\"    return \"+ ConstVal +\";\");\r\n",
        "            stw.WriteLine(\"  }\");\r\n",
        "            stw.WriteLine(\"}\"); \r\n",
        "            return stw.ToString();\r\n",
        "        }\r\n",
        "    }\r\n",
        "    static public Formula Get_ConstantValue(double ConstVal){\r\n",
        "        return new Formula(\"BoundaryValues.ConstantValue\", AdditionalPrefixCode:GetPrefixCode(ConstVal));\r\n",
        "    }\r\n",
        "}"
      ],
      "outputs": [],
      "metadata": {
        "dotnet_interactive": {
          "language": "csharp"
        }
      }
    },
    {
      "cell_type": "markdown",
      "source": [
        "## Create base control file\r\n",
        "In this ControlFile basic configuration of the ChamberedDiffusionFlame is defined."
      ],
      "metadata": {}
    },
    {
      "cell_type": "code",
      "execution_count": null,
      "source": [
        "static XNSEC_Control GiveMeTheCtrlFile(int dg, int nCells, bool isMF) {\r\n",
        "    var CC = new ChemicalConstants();\r\n",
        "\r\n",
        "    var C = isMF ? new XNSEC_MF_Control() : new XNSEC_Control();\r\n",
        "    // C.AlternateDbPaths = new[] {\r\n",
        "    //     (@\"S:\\work\\scratch\\jg11bano\\\"+dirname, \"PCMIT30\"),\r\n",
        "    //     (@\"/work/scratch/jg11bano/\"+dirname,\"\")};\r\n",
        "    // C.AlternateDbPaths = new[] {\r\n",
        "    //     (winpath, \"\"),\r\n",
        "    //     (dirname,\"\")};\r\n",
        "//     C.AlternateDbPaths = new[]{\r\n",
        "//         new ValueTuple<string,string>(@\"/work/scratch/jg11bano/bosss_db\", \"\"),\r\n",
        "//         new ValueTuple<string,string>(@\"Y:\\bosss_db\", \"\")\r\n",
        "// };\r\n",
        "    C.NumberOfChemicalSpecies = 4; \r\n",
        "    C.SetDGdegree(dg); //\r\n",
        "    C.SetGrid(GridFactory.GenerateGrid(nCells));  //\r\n",
        "\r\n",
        "    C.MatParamsMode = MaterialParamsMode.Sutherland;  //\r\n",
        "    // Problem Definition\r\n",
        "    //===================\r\n",
        "    double TemperatureIn = 300;\r\n",
        "    double massFuelIn = 0.24 * 0.1; //kg/m2s \r\n",
        "    double AtmPressure = 101325; // Pa\r\n",
        "\r\n",
        "\r\n",
        "    double[] FuelInletConcentrations = new double[] { 0.2, 0.0, 0.0, 0.0, 0.8 };\r\n",
        "    double[] OxidizerInletConcentrations = new double[] { 0.0, 0.23, 0.0, 0.0, 0.77 }; \r\n",
        "    double[] MWs = new double[] { CC.MW_CH4, CC.MW_O2, CC.MW_CO2, CC.MW_H2O, CC.MW_N2 };\r\n",
        "\r\n",
        "    double mwFuel = CC.getAvgMW(MWs, FuelInletConcentrations);\r\n",
        "    double mwAir = CC.getAvgMW(MWs, OxidizerInletConcentrations);\r\n",
        "\r\n",
        "    double densityFuelIn = AtmPressure * mwFuel / (CC.R_gas * TemperatureIn * 1000); // Kg/m3. ok\r\n",
        "    double uInFuel = massFuelIn / densityFuelIn; //\r\n",
        "    Console.WriteLine(\"Velocity is \"+uInFuel);\r\n",
        "\r\n",
        "    // Reference values\r\n",
        "    //===================\r\n",
        "    // Basic units to be used: Kg, m, s, mol, pa,\r\n",
        "    double TRef = TemperatureIn;// Reference temperature  is the inlet temperature, (K)\r\n",
        "    double pRef = AtmPressure; // Pa\r\n",
        "    double uRef = uInFuel; // m/s\r\n",
        "    double rhoRef = pRef * mwAir / (8.314 * TRef * 1000); // Kg/m3. ok ;\r\n",
        "    double DRef = 2.2133029473872009E-05 / rhoRef; \r\n",
        "    double LRef =  DRef / uRef; \r\n",
        "    C.GravityDirection = new double[] { 0.0, 0.0, 0.0 }; //No gravity.\r\n",
        "\r\n",
        "    // Solver configuration\r\n",
        "    // =======================\r\n",
        "    C.smoothingFactor = 80*0-1*1; \r\n",
        "    // C.NonLinearSolver.ConvergenceCriterion = 1e-8;\r\n",
        "    // C.LinearSolver.ConvergenceCriterion = 1e-10;\r\n",
        "\r\n",
        "    C.NonLinearSolver.verbose = true;\r\n",
        "    C.NonLinearSolver.SolverCode = NonLinearSolverCode.Newton;\r\n",
        "    C.NonLinearSolver.MaxSolverIterations = 10;\r\n",
        "    C.LinearSolver = LinearSolverCode.direct_pardiso.GetConfig();\r\n",
        "    C.LinearSolver.verbose = false;\r\n",
        "    C.TimesteppingMode = AppControl._TimesteppingMode.Steady;\r\n",
        "    C.saveperiod = 1;\r\n",
        "    C.PenaltyViscMomentum = 1.0; ///////////////////////////////////////////////////////////////////////////////////////////////////////////////////////\r\n",
        "    C.PenaltyHeatConduction = 1.0;///////////////////////////////////////////////////////////////////////////////////////////////////////////////////////\r\n",
        "    C.YFuelInlet = FuelInletConcentrations[0];\r\n",
        "    C.YOxInlet = OxidizerInletConcentrations[1];\r\n",
        "    C.FuelInletConcentrations = FuelInletConcentrations;\r\n",
        "    C.OxidizerInletConcentrations = OxidizerInletConcentrations;\r\n",
        "    C.TFuelInlet = 1.0;\r\n",
        "    C.TOxInlet = 1.0;\r\n",
        "    C.PhysicalParameters.IncludeConvection = true;\r\n",
        "    // Chemical related parameters\r\n",
        "    double s = (CC.nu_O2 * CC.MW_O2) / (CC.nu_CH4 * CC.MW_CH4);\r\n",
        "    C.phi = s * C.YFuelInlet / C.YOxInlet;\r\n",
        "    C.zSt = 1.0 / (1.0 + C.phi);\r\n",
        "    var MLC = new MaterialLawCombustion(300, new double[] { }, C.MatParamsMode, C.rhoOne, true, 1.0, 1, 1, C.YOxInlet, C.YFuelInlet, C.zSt, CC, 0.75);\r\n",
        "    var ThermoProperties = new ThermodynamicalProperties();\r\n",
        "\r\n",
        "    //==========================\r\n",
        "    //Derived reference values\r\n",
        "    //==========================\r\n",
        "    C.uRef = uRef; // Reference velocity\r\n",
        "    C.LRef = LRef; // reference length\r\n",
        "    C.pRef = AtmPressure; // reference pressure\r\n",
        "    C.TRef = TRef;// reference temperature\r\n",
        "    C.MWRef = MLC.getAvgMW(MWs, C.OxidizerInletConcentrations); // Air mean molecular weight\r\n",
        "    C.rhoRef = C.pRef * C.MWRef / (8.314 * C.TRef * 1000); // Kg/m3. ok ;\r\n",
        "    C.cpRef = 1.3;//ThermoProperties.Calculate_Cp_Mixture(new double[] { 0.23, 0.77 }, new string[] { \"O2\", \"N2\" }, 300); // 1.219185317353029;// Representative value, KJ/Kg K ========> 1.31 for the one-step kinetic model\r\n",
        "    C.muRef = MLC.getViscosityDim(300);\r\n",
        "    C.MolarMasses = new double[] { C.CC.MW_CH4, C.CC.MW_O2, C.CC.MW_CO2, C.CC.MW_H2O, C.CC.MW_N2 };\r\n",
        "    C.MolarMasses.ScaleV(1.0 / C.MWRef); //NonDimensionalized Molar masses\r\n",
        "    C.T_ref_Sutherland = 300;\r\n",
        "    double heatRelease_Ref = (C.TRef * C.cpRef);\r\n",
        "    C.HeatRelease = C.CC.HeatReleaseMass / heatRelease_Ref;\r\n",
        "    C.B = CC.PreExponentialFactor;\r\n",
        "\r\n",
        "    C.StoichiometricCoefficients = new double[] { -1, -2, 1, 2, 0 };\r\n",
        "\r\n",
        "    C.Damk = C.rhoRef * C.LRef * C.B / (C.uRef * C.MWRef);\r\n",
        "    C.Reynolds = C.rhoRef * C.uRef * C.LRef / C.muRef;\r\n",
        "    C.Prandtl = 0.75;////////////////////0.75;\r\n",
        "    C.Schmidt = C.Prandtl; // Because Lewis number  is assumed as 1.0  (Le = Pr/Sc)\r\n",
        "    // // C.Lewis = new double[] { 0.97, 1.11, 1.39, 0.83, 1.0 };\r\n",
        "    C.Lewis = new double[] {1.0, 1.0, 1.0,1.0, 1.0 };\r\n",
        "\r\n",
        "    double g = 9.8; // m/s2\r\n",
        "    C.Froude = Math.Sqrt(uRef * uRef / (C.LRef * g)); // Not used\r\n",
        "    C.ReactionRateConstants = new double[] { C.Damk, CC.Ta / TRef, 1.0, 1.0 }; // NOTE! activation temperature is also nondimensional\r\n",
        "    //==========================\r\n",
        "    // Initial conditions\r\n",
        "    //==========================\r\n",
        "    double dummy = 0;\r\n",
        "    C.AddInitialValue(VariableNames.VelocityX, BoundaryValueFactory.Get_ConstantValue(0.0));\r\n",
        "    C.AddInitialValue(VariableNames.VelocityY, BoundaryValueFactory.Get_ConstantValue(0.0));\r\n",
        "    C.AddInitialValue(VariableNames.Pressure, BoundaryValueFactory.Get_ConstantValue(0.0));\r\n",
        "    //==========================\r\n",
        "    // Boundary conditions\r\n",
        "    //==========================\r\n",
        "\r\n",
        "    C.AddBoundaryValue(\"Velocity_Inlet_CH4\", VariableNames.Velocity_d(0), BoundaryValueFactory.Get_ConstantValue(uInFuel / C.uRef));\r\n",
        "    C.AddBoundaryValue(\"Velocity_Inlet_CH4\", VariableNames.Velocity_d(1), BoundaryValueFactory.Get_ConstantValue(0.0));\r\n",
        "        \r\n",
        "\r\n",
        "\r\n",
        "    return C;\r\n",
        "}"
      ],
      "outputs": [],
      "metadata": {
        "dotnet_interactive": {
          "language": "csharp"
        }
      }
    },
    {
      "cell_type": "markdown",
      "source": [
        "## Starting the MixtureFraction simulation\r\n",
        "Configuration  for the simulation using the mixture fraction approach, where an infinite reaction rate is assumed. Used to find adequate starting solution for the full problem."
      ],
      "metadata": {}
    },
    {
      "cell_type": "code",
      "execution_count": null,
      "source": [
        "static XNSEC_Control GiveMeTheMixtureFractionCtrlFile(int dg, int nCells){\r\n",
        "    var C_MixtureFraction = GiveMeTheCtrlFile(dg, nCells, true);\r\n",
        "    C_MixtureFraction.physicsMode = PhysicsMode.MixtureFraction;\r\n",
        "    C_MixtureFraction.ProjectName = \"ChamberedFlame\";\r\n",
        "    string name = C_MixtureFraction.ProjectName + \"P\" + dg + \"K\" + nCells;\r\n",
        "    C_MixtureFraction.SessionName = \"FS_\" + name;\r\n",
        "\r\n",
        "    C_MixtureFraction.UseSelfMadeTemporalOperator = false;\r\n",
        "    C_MixtureFraction.ChemicalReactionActive = false;\r\n",
        "    C_MixtureFraction.physicsMode = PhysicsMode.MixtureFraction;\r\n",
        "    C_MixtureFraction.NonLinearSolver.MaxSolverIterations = 50;\r\n",
        "    \r\n",
        "    // Boundary and initial conditions\r\n",
        "    C_MixtureFraction.AddInitialValue(VariableNames.MixtureFraction,BoundaryValueFactory.Get_ConstantValue(1.0));\r\n",
        "    C_MixtureFraction.AddBoundaryValue(\"Velocity_Inlet_CH4\", VariableNames.MixtureFraction, BoundaryValueFactory.Get_ConstantValue(1.0));\r\n",
        "\r\n",
        "\r\n",
        "\r\n",
        "    C_MixtureFraction.AdaptiveMeshRefinement = false;\r\n",
        "   \r\n",
        "    C_MixtureFraction.TimesteppingMode = BoSSS.Solution.Control.AppControl._TimesteppingMode.Steady; \r\n",
        " \r\n",
        "\r\n",
        "\r\n",
        "    return C_MixtureFraction;\r\n",
        "}"
      ],
      "outputs": [],
      "metadata": {
        "dotnet_interactive": {
          "language": "csharp"
        }
      }
    },
    {
      "cell_type": "markdown",
      "source": [
        "## Send and run jobs"
      ],
      "metadata": {}
    },
    {
      "cell_type": "code",
      "execution_count": null,
      "source": [
        "bool HLLRCalculation = true;\r\n"
      ],
      "outputs": [],
      "metadata": {
        "dotnet_interactive": {
          "language": "csharp"
        }
      }
    },
    {
      "cell_type": "code",
      "execution_count": null,
      "source": [
        "\r\n",
        "foreach(int nCells in NofCells){\r\n",
        "int dg = 2;\r\n",
        "    Type solver_MF = typeof(BoSSS.Application.XNSEC.XNSEC_MixtureFraction);\r\n",
        "    var C_MixtureFraction = GiveMeTheMixtureFractionCtrlFile(dg, nCells);\r\n",
        "    string jobName       = C_MixtureFraction.SessionName;\r\n",
        "    Console.WriteLine(jobName);\r\n",
        "    var oneJob           = new Job(jobName, solver_MF);\r\n",
        "    oneJob.NumberOfMPIProcs =  4;    \r\n",
		"    oneJob.NumberOfThreads = 1;\r\n",
        "    //  oneJob.UseComputeNodesExclusive = true;\r\n",
        "    oneJob.SetControlObject(C_MixtureFraction);\r\n",
        "    oneJob.Activate(myBatch); \r\n",
        "\r\n",
        "}\r\n"
      ],
      "outputs": [],
      "metadata": {
        "dotnet_interactive": {
          "language": "csharp"
        }
      }
    },
    {
      "cell_type": "code",
      "execution_count": null,
      "source": [
        "BoSSSshell.WorkflowMgm.BlockUntilAllJobsTerminate();"
      ],
      "outputs": [],
      "metadata": {
        "dotnet_interactive": {
          "language": "csharp"
        }
      }
    },
    {
      "cell_type": "markdown",
      "source": [
        "## Starting the finite-rate chemistry simulation\r\n",
        "\r\n",
        "Now that the simulation for an \"infinite\" reaction rate is done, we use it for initializing the system with finite reaction rate. The goal is to obtain solutions of the counter difussion flame for increasing strain values. We start with a low strain (bigger Dahmkoehler number), which is increased until extintion is (hopefully) found"
      ],
      "metadata": {}
    },
    {
      "cell_type": "code",
      "execution_count": null,
      "source": [
        "static XNSEC_Control GiveMeTheFullCtrlFile(int dg, int nCells, ISessionInfo SessionToRestart) {\r\n",
        "    var C_OneStep = GiveMeTheCtrlFile(dg, nCells, false);\r\n",
        "    C_OneStep.physicsMode = PhysicsMode.Combustion;\r\n",
        "    C_OneStep.ProjectName = \"ChamberedFlame\";\r\n",
        "    string name = C_OneStep.ProjectName + \"P\" + dg + \"K\" + nCells;\r\n",
        "    C_OneStep.SessionName = \"Full_\" + name;\r\n",
        "    C_OneStep.VariableOneStepParameters = false; ///////////////////////\r\n",
        "\r\n",
        "    // C_OneStep.Tags.Add(\"VelocityMultiplier\" + mult);\r\n",
        "\r\n",
        "    C_OneStep.UseSelfMadeTemporalOperator = false;\r\n",
        "    C_OneStep.myThermalWallType = SIPDiffusionTemperature.ThermalWallType.Adiabatic;\r\n",
        "    C_OneStep.Timestepper_LevelSetHandling = BoSSS.Solution.XdgTimestepping.LevelSetHandling.None;\r\n",
        "    C_OneStep.UseMixtureFractionsForCombustionInitialization = true;\r\n",
        "\r\n",
        "    C_OneStep.LinearSolver = LinearSolverCode.exp_Kcycle_schwarz.GetConfig();\r\n",
        "    C_OneStep.LinearSolver.NoOfMultigridLevels = 5;\r\n",
        "    C_OneStep.ChemicalReactionActive = true;\r\n",
        "    C_OneStep.AdaptiveMeshRefinement = false;\r\n",
        "    \r\n",
        "    C_OneStep.HeatCapacityMode = MaterialLaw_MultipleSpecies.CpCalculationMode.constant;\r\n",
        "\r\n",
        "    C_OneStep.NoOfTimesteps = 1; // The steady solution will be calculated again and do AMR\r\n",
        "    C_OneStep.NonLinearSolver.MaxSolverIterations = 50;\r\n",
        "\r\n",
        "\r\n",
        "    // C_OneStep.NonLinearSolver.MaxSolverIterations = 10;\r\n",
        "\r\n",
        "    // limiting of variable values\r\n",
        "    Dictionary<string, Tuple<double, double>> Bounds = new Dictionary<string, Tuple<double, double>>();\r\n",
        "    double eps = 1e-2;\r\n",
        "    Bounds.Add(VariableNames.Temperature, new Tuple<double, double>(1.0 - eps, 10)); // Min temp should be the inlet temperature.\r\n",
        "    Bounds.Add(VariableNames.MassFraction0, new Tuple<double, double>(0.0 - 1e-1, 1.0 + 1e-1)); // Between 0 and 1 per definition\r\n",
        "    Bounds.Add(VariableNames.MassFraction1, new Tuple<double, double>(0.0 - 1e-1, 1.0 + 1e-1));\r\n",
        "    Bounds.Add(VariableNames.MassFraction2, new Tuple<double, double>(0.0 - 1e-1, 1.0 + 1e-1));\r\n",
        "    Bounds.Add(VariableNames.MassFraction3, new Tuple<double, double>(0.0 - 1e-1, 1.0 + 1e-1));\r\n",
        "    C_OneStep.VariableBounds = Bounds;\r\n",
        "    // Boundary conditions\r\n",
        "\r\n",
        "    double dummy = 0;\r\n",
        "    if(SessionToRestart != null) {\r\n",
        "        C_OneStep.SetRestart(SessionToRestart);\r\n",
        "    } else {\r\n",
        "        C_OneStep.AddInitialValue(VariableNames.Temperature, BoundaryValueFactory.Get_ConstantValue(1.0));\r\n",
        "        C_OneStep.AddInitialValue(VariableNames.MassFraction0, BoundaryValueFactory.Get_ConstantValue(0.0));\r\n",
        "        C_OneStep.AddInitialValue(VariableNames.MassFraction1, BoundaryValueFactory.Get_ConstantValue(0.23));\r\n",
        "        C_OneStep.AddInitialValue(VariableNames.MassFraction2, BoundaryValueFactory.Get_ConstantValue(0.0));\r\n",
        "        C_OneStep.AddInitialValue(VariableNames.MassFraction3, BoundaryValueFactory.Get_ConstantValue(0.0));\r\n",
        "    }\r\n",
        "\r\n",
        "    C_OneStep.AddBoundaryValue(\"Velocity_Inlet_CH4\", VariableNames.Temperature, BoundaryValueFactory.Get_ConstantValue(1.0));\r\n",
        "    C_OneStep.AddBoundaryValue(\"Velocity_Inlet_CH4\", VariableNames.MassFraction0, BoundaryValueFactory.Get_ConstantValue(C_OneStep.FuelInletConcentrations[0]));\r\n",
        "    C_OneStep.AddBoundaryValue(\"Velocity_Inlet_CH4\", VariableNames.MassFraction1, BoundaryValueFactory.Get_ConstantValue(C_OneStep.FuelInletConcentrations[1]));\r\n",
        "    C_OneStep.AddBoundaryValue(\"Velocity_Inlet_CH4\", VariableNames.MassFraction2, BoundaryValueFactory.Get_ConstantValue(C_OneStep.FuelInletConcentrations[2]));\r\n",
        "    C_OneStep.AddBoundaryValue(\"Velocity_Inlet_CH4\", VariableNames.MassFraction3, BoundaryValueFactory.Get_ConstantValue(C_OneStep.FuelInletConcentrations[3]));\r\n",
        "\r\n",
        "    C_OneStep.AddBoundaryValue(\"ScalarDirichlet_PressureOutlet\", VariableNames.Temperature, BoundaryValueFactory.Get_ConstantValue(1.0));\r\n",
        "    C_OneStep.AddBoundaryValue(\"ScalarDirichlet_PressureOutlet\", VariableNames.MassFraction0, BoundaryValueFactory.Get_ConstantValue(C_OneStep.OxidizerInletConcentrations[0]));\r\n",
        "    C_OneStep.AddBoundaryValue(\"ScalarDirichlet_PressureOutlet\", VariableNames.MassFraction1, BoundaryValueFactory.Get_ConstantValue(C_OneStep.OxidizerInletConcentrations[1]));\r\n",
        "    C_OneStep.AddBoundaryValue(\"ScalarDirichlet_PressureOutlet\", VariableNames.MassFraction2, BoundaryValueFactory.Get_ConstantValue(C_OneStep.OxidizerInletConcentrations[2]));\r\n",
        "    C_OneStep.AddBoundaryValue(\"ScalarDirichlet_PressureOutlet\", VariableNames.MassFraction3, BoundaryValueFactory.Get_ConstantValue(C_OneStep.OxidizerInletConcentrations[3]));\r\n",
        "    return C_OneStep;\r\n",
        "}"
      ],
      "outputs": [],
      "metadata": {
        "dotnet_interactive": {
          "language": "csharp"
        }
      }
    },
    {
      "cell_type": "code",
      "execution_count": null,
      "source": [
        "Type solver = typeof(BoSSS.Application.XNSEC.XNSEC);NofCells"
      ],
      "outputs": [
        {
          "data": {
            "text/html": [
              "<table><thead><tr><th><i>index</i></th><th>value</th></tr></thead><tbody><tr><td>0</td><td><div class=\"dni-plaintext\">8</div></td></tr><tr><td>1</td><td><div class=\"dni-plaintext\">16</div></td></tr><tr><td>2</td><td><div class=\"dni-plaintext\">32</div></td></tr><tr><td>3</td><td><div class=\"dni-plaintext\">64</div></td></tr><tr><td>4</td><td><div class=\"dni-plaintext\">128</div></td></tr><tr><td>5</td><td><div class=\"dni-plaintext\">256</div></td></tr><tr><td>6</td><td><div class=\"dni-plaintext\">512</div></td></tr></tbody></table>"
            ]
          },
          "metadata": {},
          "output_type": "display_data"
        }
      ],
      "metadata": {
        "dotnet_interactive": {
          "language": "csharp"
        }
      }
    },
    {
      "cell_type": "markdown",
      "source": [
        "Calculate the full solution for the initial value"
      ],
      "metadata": {}
    },
    {
      "cell_type": "code",
      "execution_count": null,
      "source": [
        "int counter = 0;\r\n",
        "foreach (int nCells in NofCells) {\r\n",
        "    foreach (int dg in dgDegree) {\r\n",
        "        // var sess =(myDb.Sessions.Where(s=>Convert.ToInt64(s.Tags.ToArray()[0]) == i)).FirstOrDefault(); \r\n",
        "        var sess = (myDb.Sessions.Where(s => s.Name == \"FS_ChamberedFlameP\" + 2 + \"K\" + nCells)).FirstOrDefault();\r\n",
        "        var C = GiveMeTheFullCtrlFile(dg, nCells,  sess);\r\n",
        "        string jobName = C.SessionName + \"AllOn\";\r\n",
        "        Console.WriteLine(jobName);\r\n",
        "        var oneJob = new Job(jobName, solver);\r\n",
        "        oneJob.NumberOfMPIProcs = nCells > 32? 12:4 ;\r\n",
		"        oneJob.NumberOfThreads = 1;\r\n",
        "        oneJob.SetControlObject(C);\r\n",
        "        oneJob.Activate(myBatch);\r\n",
        "        counter++;\r\n",
        "    }\r\n",
        "}\r\n"
      ],
      "outputs": [],
      "metadata": {
        "dotnet_interactive": {
          "language": "csharp"
        }
      }
    },
    {
      "cell_type": "code",
      "execution_count": null,
      "source": [
        "BoSSSshell.WorkflowMgm.BlockUntilAllJobsTerminate();"
      ],
      "outputs": [],
      "metadata": {
        "dotnet_interactive": {
          "language": "csharp"
        }
      }
    },
    {
      "cell_type": "markdown",
      "source": [
        "## Postprocessing"
      ],
      "metadata": {}
    },
    {
      "cell_type": "code",
      "execution_count": null,
      "source": [
        "// Now the flame sheet estimations should be deleted\r\n",
        "BoSSSshell.WorkflowMgm.Sessions.Where(s => s.Name.StartsWith(\"FS_\")).ForEach(x=>x.Delete(true));"
      ],
      "outputs": [],
      "metadata": {
        "dotnet_interactive": {
          "language": "csharp"
        }
      }
    },
    {
      "cell_type": "code",
      "execution_count": null,
      "source": [
        "//WorkflowMgm.ResetSessionsCache();"
      ],
      "outputs": [],
      "metadata": {
        "dotnet_interactive": {
          "language": "csharp"
        }
      }
    },
    {
      "cell_type": "code",
      "execution_count": null,
      "source": [
        "string basepath = @\"C:\\tmp\\UnstrainedFlame_ConvStudy\";\r\n",
        "System.IO.Directory.CreateDirectory(basepath); // Create folder for storing data"
      ],
      "outputs": [],
      "metadata": {
        "dotnet_interactive": {
          "language": "csharp"
        }
      }
    },
    {
      "cell_type": "code",
      "execution_count": null,
      "source": [
        "string[] varnames = new string[]{\"VelocityX\",\"VelocityY\",\"Temperature\", \"Pressure\",\r\n",
        "\"MassFraction0\",\"MassFraction1\",\"MassFraction2\",\"MassFraction3\" }; "
      ],
      "outputs": [],
      "metadata": {
        "dotnet_interactive": {
          "language": "csharp"
        }
      }
    },
    {
      "cell_type": "code",
      "execution_count": null,
      "source": [
        "foreach (var varname in varnames) {\r\n",
        "    foreach (int pDeg in dgDegree) {\r\n",
        "       var pDegSessions = myDb.Sessions.Where(\r\n",
        "            Si => (Convert.ToInt32(Si.KeysAndQueries[\"DGdegree:Velocity*\"]) == pDeg \r\n",
        "        && (Convert.ToInt32(Si.KeysAndQueries[\"Grid:NoOfCells\"]))/ 3 > 31\r\n",
        "            ) // function which is true on all sessions we are interested in: \r\n",
        "         ).ToArray();\r\n",
        "        Plot2Ddata pDegPlot =\r\n",
        "         pDegSessions.ToEstimatedGridConvergenceData(varname,\r\n",
        "           xAxis_Is_hOrDof: true, // false selects DOFs for x-axis \r\n",
        "           normType: NormType.L2_embedded );\r\n",
        "            //Saving to a txt file\r\n",
        "        pDegPlot.SaveTextFileToPublish(basepath+\"\\\\\"+  varname + \"DG\" + pDeg,false);\r\n",
        "    }\r\n",
        "}"
      ],
      "outputs": [
        {
          "output_type": "error",
          "ename": "Error",
          "evalue": "System.NullReferenceException: Object reference not set to an instance of an object.\r\n   at BoSSS.Application.BoSSSpad.ITimestepInfoExtensions.<>c__DisplayClass24_0.<ToEstimatedGridConvergenceData>b__0(ITimestepInfo t) in C:\\BoSSS\\experimental\\public\\src\\L4-application\\BoSSSpad\\ITimestepInfoExtensions.cs:line 683\r\n   at System.Linq.Lookup`2.Create(IEnumerable`1 source, Func`2 keySelector, IEqualityComparer`1 comparer)\r\n   at System.Linq.GroupedEnumerable`2.GetEnumerator()\r\n   at BoSSS.Application.BoSSSpad.ITimestepInfoExtensions.ToEstimatedGridConvergenceData(IEnumerable`1 timesteps, String fieldName, Boolean xAxis_Is_hOrDof, NormType normType) in C:\\BoSSS\\experimental\\public\\src\\L4-application\\BoSSSpad\\ITimestepInfoExtensions.cs:line 683\r\n   at Submission#31.<<Initialize>>d__0.MoveNext()\r\n--- End of stack trace from previous location ---\r\n   at Microsoft.CodeAnalysis.Scripting.ScriptExecutionState.RunSubmissionsAsync[TResult](ImmutableArray`1 precedingExecutors, Func`2 currentExecutor, StrongBox`1 exceptionHolderOpt, Func`2 catchExceptionOpt, CancellationToken cancellationToken)",
          "traceback": [
            "System.NullReferenceException: Object reference not set to an instance of an object.\r\n",
            "   at BoSSS.Application.BoSSSpad.ITimestepInfoExtensions.<>c__DisplayClass24_0.<ToEstimatedGridConvergenceData>b__0(ITimestepInfo t) in C:\\BoSSS\\experimental\\public\\src\\L4-application\\BoSSSpad\\ITimestepInfoExtensions.cs:line 683\r\n",
            "   at System.Linq.Lookup`2.Create(IEnumerable`1 source, Func`2 keySelector, IEqualityComparer`1 comparer)\r\n",
            "   at System.Linq.GroupedEnumerable`2.GetEnumerator()\r\n",
            "   at BoSSS.Application.BoSSSpad.ITimestepInfoExtensions.ToEstimatedGridConvergenceData(IEnumerable`1 timesteps, String fieldName, Boolean xAxis_Is_hOrDof, NormType normType) in C:\\BoSSS\\experimental\\public\\src\\L4-application\\BoSSSpad\\ITimestepInfoExtensions.cs:line 683\r\n",
            "   at Submission#31.<<Initialize>>d__0.MoveNext()\r\n",
            "--- End of stack trace from previous location ---\r\n",
            "   at Microsoft.CodeAnalysis.Scripting.ScriptExecutionState.RunSubmissionsAsync[TResult](ImmutableArray`1 precedingExecutors, Func`2 currentExecutor, StrongBox`1 exceptionHolderOpt, Func`2 catchExceptionOpt, CancellationToken cancellationToken)"
          ]
        }
      ],
      "metadata": {
        "dotnet_interactive": {
          "language": "csharp"
        }
      }
    },
    {
      "cell_type": "code",
      "execution_count": null,
      "source": [
        "myDb.Sessions"
      ],
      "outputs": [
        {
          "data": {
            "text/plain": [
              "#0: ChamberedFlame4\tFull_ChamberedFlameP4K512\t09/26/2021 19:59:56\t767b6a69...\r\n",
              "#1: ChamberedFlame4\tFull_ChamberedFlameP3K512\t09/26/2021 19:38:17\ta0f91d23...\r\n",
              "#2: ChamberedFlame4\tFull_ChamberedFlameP4K256\t09/26/2021 19:24:08\t0fa16dea...\r\n",
              "#3: ChamberedFlame4\tFull_ChamberedFlameP2K512\t09/26/2021 19:26:11\t83ab188c...\r\n",
              "#4: ChamberedFlame4\tFull_ChamberedFlameP3K256\t09/26/2021 19:20:34\t9261554c...\r\n",
              "#5: ChamberedFlame4\tFull_ChamberedFlameP1K512\t09/26/2021 19:26:07\td50aecc9...\r\n",
              "#6: ChamberedFlame4\tFull_ChamberedFlameP2K256\t09/26/2021 19:17:24\t616a4f01...\r\n",
              "#7: ChamberedFlame4\tFull_ChamberedFlameP4K128\t09/26/2021 19:13:51\t8d6ec65b...\r\n",
              "#8: ChamberedFlame4\tFull_ChamberedFlameP1K256\t09/26/2021 19:15:23\t937faa73...\r\n",
              "#9: ChamberedFlame4\tFull_ChamberedFlameP3K128\t09/26/2021 19:11:47\t70123196...\r\n",
              "#10: ChamberedFlame4\tFull_ChamberedFlameP1K128\t09/26/2021 19:06:12\t5790b701...\r\n",
              "#11: ChamberedFlame4\tFull_ChamberedFlameP2K128\t09/26/2021 19:07:24\t5521442b...\r\n",
              "#12: ChamberedFlame4\tFull_ChamberedFlameP4K64\t09/26/2021 19:03:59\tcd50b024...\r\n",
              "#13: ChamberedFlame4\tFull_ChamberedFlameP3K64\t09/26/2021 19:02:38\t2e9b97fa...\r\n",
              "#14: ChamberedFlame4\tFull_ChamberedFlameP4K32\t09/26/2021 18:59:42\t359f63e0...\r\n",
              "#15: ChamberedFlame4\tFull_ChamberedFlameP1K64\t09/26/2021 19:00:44\tfcb8771c...\r\n",
              "#16: ChamberedFlame4\tFull_ChamberedFlameP2K64\t09/26/2021 19:01:21\tef3da368...\r\n",
              "#17: ChamberedFlame4\tFull_ChamberedFlameP3K32\t09/26/2021 18:58:40\tb1017cb8...\r\n",
              "#18: ChamberedFlame4\tFull_ChamberedFlameP2K32\t09/26/2021 18:56:53\t85751758...\r\n",
              "#19: ChamberedFlame4\tFull_ChamberedFlameP1K32\t09/26/2021 18:55:52\tab42fdde...\r\n",
              "#20: ChamberedFlame4\tFull_ChamberedFlameP4K16\t09/26/2021 18:54:47\ta83a222f...\r\n",
              "#21: ChamberedFlame4\tFull_ChamberedFlameP2K16\t09/26/2021 18:52:24\t6f5a3010...\r\n",
              "#22: ChamberedFlame4\tFull_ChamberedFlameP3K16\t09/26/2021 18:53:55\ta414fed9...\r\n",
              "#23: ChamberedFlame4\tFull_ChamberedFlameP1K16\t09/26/2021 18:51:29\tcb4a86a7...\r\n",
              "#24: ChamberedFlame4\tFull_ChamberedFlameP4K8\t09/26/2021 18:51:04\tca3a84f3...\r\n",
              "#25: ChamberedFlame4\tFull_ChamberedFlameP3K8\t09/26/2021 18:50:03\t63d9567e...\r\n",
              "#26: ChamberedFlame4\tFull_ChamberedFlameP2K8\t09/26/2021 18:49:13\t14f065ba...\r\n",
              "#27: ChamberedFlame4\tFull_ChamberedFlameP1K8\t09/26/2021 18:48:15\tdbcb13c8...\r\n"
            ]
          },
          "metadata": {},
          "output_type": "display_data"
        }
      ],
      "metadata": {
        "dotnet_interactive": {
          "language": "csharp"
        }
      }
    },
    {
      "cell_type": "code",
      "execution_count": null,
      "source": [],
      "outputs": [],
      "metadata": {
        "dotnet_interactive": {
          "language": "csharp"
        }
      }
    }
  ],
  "metadata": {
    "kernelspec": {
      "name": ".net-powershell",
      "display_name": ".NET (PowerShell)",
      "language": "PowerShell"
    },
    "language_info": {
      "file_extension": ".cs",
      "mimetype": "text/x-csharp",
      "name": "PowerShell",
      "pygments_lexer": "csharp",
      "version": "9.0"
    },
    "interpreter": {
      "hash": "57baa5815c940fdaff4d14510622de9616cae602444507ba5d0b6727c008cbd6"
    }
  },
  "nbformat": 4,
  "nbformat_minor": 4
}
{
  "cells": [
    {
      "cell_type": "code",
      "execution_count": null,
      "metadata": {
        "dotnet_interactive": {
          "language": "csharp"
        }
      },
      "outputs": [],
      "source": [
        "// #r \".\\binaries\\bossspad.dll\"\n",
        "// #r \".\\binaries\\XNSEC.dll\"\n",
        "\n",
        "// #r \"C:\\BoSSS\\experimental\\public\\src\\L4-application\\BoSSSpad\\bin\\Release\\net5.0\\bossspad.dll\"\n",
        "// #r \"C:\\BoSSS\\experimental\\public\\src\\L4-application\\BoSSSpad\\bin\\Release\\net5.0\\XNSEC.dll\"\n",
        "// #r \"C:\\BoSSS\\experimental\\public\\src\\L4-application\\BoSSSpad\\bin\\Release\\net5.0\\bossspad.dll\"\n",
        "//#r \"C:\\BoSSS\\experimental\\public\\src\\L4-application\\BoSSSpad\\bin\\Release\\net5.0\\XNSEC.dll\"\n",
        "#r \"BoSSSpad.dll\"\n",
        "using System;\n",
        "using System.Collections.Generic;\n",
        "using System.Linq;\n",
        "using System.IO;\n",
        "using System.Data;\n",
        "using System.Globalization;\n",
        "using System.Threading;\n",
        "using ilPSP;\n",
        "using ilPSP.Utils;\n",
        "using BoSSS.Platform;\n",
        "using BoSSS.Foundation;\n",
        "using BoSSS.Foundation.Grid;\n",
        "using BoSSS.Foundation.Grid.Classic;\n",
        "using BoSSS.Foundation.IO;\n",
        "using BoSSS.Solution;\n",
        "using BoSSS.Solution.Control;\n",
        "using BoSSS.Solution.GridImport;\n",
        "using BoSSS.Solution.Statistic;\n",
        "using BoSSS.Solution.Utils;\n",
        "using BoSSS.Solution.Gnuplot;\n",
        "using BoSSS.Application.BoSSSpad;\n",
        "using BoSSS.Application.XNSE_Solver;\n",
        "using static BoSSS.Application.BoSSSpad.BoSSSshell;\n",
        "using BoSSS.Foundation.Grid.RefElements;\n",
        "using BoSSS.Platform.LinAlg;\n",
        "using BoSSS.Solution.NSECommon;\n",
        "Init();"
      ]
    },
    {
      "cell_type": "code",
      "execution_count": null,
      "metadata": {
        "dotnet_interactive": {
          "language": "csharp"
        }
      },
      "outputs": [],
      "source": [
        "using BoSSS.Application.XNSEC;"
      ]
    },
    {
      "cell_type": "code",
      "execution_count": null,
      "metadata": {
        "dotnet_interactive": {
          "language": "csharp"
        }
      },
      "outputs": [],
      "source": [
        "BoSSSshell.WorkflowMgm.Init(\"HeatedCavity_RayleighSweepStudy\");"
      ]
    },
    {
      "cell_type": "code",
      "execution_count": null,
      "metadata": {
        "dotnet_interactive": {
          "language": "csharp"
        }
      },
      "outputs": [],
      "source": [
        "var myBatch = GetDefaultQueue();"
      ]
    },
    {
      "cell_type": "code",
      "execution_count": null,
      "metadata": {
        "dotnet_interactive": {
          "language": "csharp"
        }
      },
      "outputs": [],
      "source": [
        " var myDb = myBatch.CreateOrOpenCompatibleDatabase(\"HeatedCavity_RayleighSweepStudy\");\n",
        "//static var myDb = OpenOrCreateDatabase(@\"C:\\Databases\\HeatedCavity_RayleighSweepStudy2\");"
      ]
    },
    {
      "cell_type": "code",
      "execution_count": null,
      "metadata": {
        "dotnet_interactive": {
          "language": "csharp"
        }
      },
      "outputs": [],
      "source": [
        "BoSSSshell.WorkflowMgm.DefaultDatabase = myDb;"
      ]
    },
    {
      "cell_type": "markdown",
      "metadata": {},
      "source": [
        "# Study of the heat cavity configuration for increasing Rayleigh number. \n",
        "A comparison with the benchmark results from Vierendeels (DOI 10.1108/09615530310501957) for Ra = [1e2,1e3,1e4,1e5,1e6,1e7] is done"
      ]
    },
    {
      "cell_type": "markdown",
      "metadata": {},
      "source": [
        "## Create grid"
      ]
    },
    {
      "cell_type": "code",
      "execution_count": null,
      "metadata": {
        "dotnet_interactive": {
          "language": "csharp"
        }
      },
      "outputs": [],
      "source": [
        "int[] Resolutions = new int[]{4};\n",
        "int[] DGdegree = new int[]{ 5 };\n",
        "int[] nCells  =  Resolutions.Select(r => (int)(Math.Pow(2,r+1))).ToArray();\n",
        "double[] Rayleighs = new double[] {1e2,1e3,1e4,1e5,1e6,1e7};"
      ]
    },
    {
      "cell_type": "code",
      "execution_count": null,
      "metadata": {
        "dotnet_interactive": {
          "language": "csharp"
        }
      },
      "outputs": [],
      "source": [
        "public static class GridFactory {\n",
        "    public static double[] GetXNodes(int Res) { \n",
        "        var xNodes = GenericBlas.SinLinSpacing(-0.5, 0.5, 0, Res + 1);\n",
        "        return xNodes;\n",
        "    }\n",
        " \n",
        "    static double[] GetYNodes(int Res) {\n",
        "        double[] yNodes =  GenericBlas.SinLinSpacing(-0.5, 0.5,0, Res + 1);\n",
        "        return yNodes;\n",
        "    }\n",
        " \n",
        "    public static Grid2D GenerateGrid(int Res) { \n",
        "        var xNodes = GetXNodes(Res);\n",
        "        var yNodes = GetYNodes(Res);\n",
        "        var grd    = Grid2D.Cartesian2DGrid(xNodes, yNodes);\n",
        "        grd.EdgeTagNames.Add(1, \"NoSlipNeumann\");\n",
        "        grd.EdgeTagNames.Add(2, \"wall_tempfixed_left\");\n",
        "        grd.EdgeTagNames.Add(3, \"wall_tempfixed_right\");\n",
        "        grd.DefineEdgeTags( delegate (double[] X) {\n",
        "            double x = X[0];\n",
        "            double y = X[1];\n",
        "\n",
        "            //Edge tags\n",
        "            //1: Adiabatic no slip wall\n",
        "            //2: Temperature fixed no slip wall\n",
        "\n",
        "            //right cold wall \n",
        "            if (Math.Abs(x - 0.5) < 1e-8)\n",
        "                return 3;\n",
        "\n",
        "            //bottom adiabatic Wall\n",
        "            if (Math.Abs(y - 0.5 ) < 1e-8)\n",
        "                return 1;\n",
        "\n",
        "            // left hot wall\n",
        "            if (Math.Abs(x + 0.5) < 1e-8)\n",
        "                return 2;\n",
        "\n",
        "            //top adiabatic Wall\n",
        "            if (Math.Abs(y + 0.5 ) < 1e-8)\n",
        "                return 1;\n",
        "\n",
        "            else throw new ArgumentOutOfRangeException();\n",
        "        });\n",
        "        \n",
        "        bool force = true; \n",
        "        myDb.SaveGrid(ref grd, force);\n",
        "        \n",
        "        return grd;\n",
        "     }\n",
        " \n",
        " }"
      ]
    },
    {
      "cell_type": "code",
      "execution_count": null,
      "metadata": {
        "dotnet_interactive": {
          "language": "csharp"
        }
      },
      "outputs": [],
      "source": [
        "public static class BoundaryValueFactory { \n",
        "\n",
        "    public static string GetPrefixCode(double Th, double Tc, double Froude) {\n",
        "        using(var stw = new System.IO.StringWriter()) {\n",
        "           \n",
        "           stw.WriteLine(\"static class BoundaryValues {\");\n",
        "           stw.WriteLine(\"  static public double VelX(double[] X) {\");\n",
        "           stw.WriteLine(\"    return 0.0;\");\n",
        "           stw.WriteLine(\"  }\");\n",
        "\n",
        "           stw.WriteLine(\"  static public double VelY(double[] X) {\");\n",
        "           stw.WriteLine(\"    return 0.0;\");\n",
        "           stw.WriteLine(\"  }\");\n",
        "\n",
        "           stw.WriteLine(\"  static public double TemperatureHot(double[] X) {\");\n",
        "           stw.WriteLine(\"    return 1.6;\");\n",
        "           stw.WriteLine(\"  }\");\n",
        "\n",
        "           stw.WriteLine(\"  static public double TemperatureCold(double[] X) {\");\n",
        "           stw.WriteLine(\"    return 0.4;\");\n",
        "           stw.WriteLine(\"  }\");\n",
        "\n",
        "           stw.WriteLine(\"  static public double One(double[] X) {\");\n",
        "           stw.WriteLine(\"    return  1.0;\");\n",
        "           stw.WriteLine(\"  }\");\n",
        "\n",
        "           stw.WriteLine(\"  static public double Zero(double[] X) {\");\n",
        "           stw.WriteLine(\"    return  0.0;\");\n",
        "           stw.WriteLine(\"  }\");\n",
        "\n",
        "           stw.WriteLine(\" static public double InitialPressure(double[] X) { \");\n",
        "            stw.WriteLine(\"         return (-1)* X[1] / (\"+Froude * Froude +\") ;\");\n",
        "            stw.WriteLine(\"    }\");\n",
        "            stw.WriteLine(\"}\"); \n",
        "           return stw.ToString();\n",
        "        }\n",
        "    }\n",
        "   \n",
        "    static public Formula Get_VelX(double Th, double Tc , double Froude) {\n",
        "        return new Formula(\"BoundaryValues.VelX\", AdditionalPrefixCode:GetPrefixCode(Th,Tc,Froude));\n",
        "    }\n",
        "\n",
        "    static public Formula Get_VelY(double Th, double Tc, double Froude){\n",
        "        return new Formula(\"BoundaryValues.VelY\", AdditionalPrefixCode:GetPrefixCode(Th,Tc,Froude));\n",
        "    }\n",
        "    static public Formula Get_TemperatureHot(double Th, double Tc, double Froude){\n",
        "        return new Formula(\"BoundaryValues.TemperatureHot\", AdditionalPrefixCode:GetPrefixCode(Th,Tc,Froude));\n",
        "    }\n",
        "\n",
        "     static public Formula Get_TemperatureCold(double Th, double Tc, double Froude){\n",
        "        return new Formula(\"BoundaryValues.TemperatureCold\", AdditionalPrefixCode:GetPrefixCode(Th,Tc,Froude));\n",
        "    }\n",
        "\n",
        "    static public Formula Get_One(double Th, double Tc, double Froude){\n",
        "        return new Formula(\"BoundaryValues.One\", AdditionalPrefixCode:GetPrefixCode(Th,Tc,Froude));\n",
        "    }\n",
        "    static public Formula Get_Zero(double Th, double Tc, double Froude){\n",
        "        return new Formula(\"BoundaryValues.Zero\", AdditionalPrefixCode:GetPrefixCode(Th,Tc,Froude));\n",
        "    }\n",
        "    static public Formula Get_InitialPressure(double Th, double Tc, double Froude){\n",
        "        return new Formula(\"BoundaryValues.InitialPressure\", AdditionalPrefixCode:GetPrefixCode(Th,Tc,Froude));\n",
        "    }\n",
        "}"
      ]
    },
    {
      "cell_type": "markdown",
      "metadata": {},
      "source": [
        "## Send and run jobs"
      ]
    },
    {
      "cell_type": "code",
      "execution_count": null,
      "metadata": {
        "dotnet_interactive": {
          "language": "csharp"
        }
      },
      "outputs": [],
      "source": [
        "var controls = new List<XNSEC_Control>();"
      ]
    },
    {
      "cell_type": "code",
      "execution_count": null,
      "metadata": {
        "dotnet_interactive": {
          "language": "csharp"
        }
      },
      "outputs": [
        {
          "name": "stdout",
          "output_type": "stream",
          "text": [
            "Grid Edge Tags changed.\r\n",
            "Grid Edge Tags changed.\r\n",
            "Grid Edge Tags changed.\r\n",
            "Grid Edge Tags changed.\r\n",
            "Grid Edge Tags changed.\r\n",
            "Grid Edge Tags changed.\r\n"
          ]
        }
      ],
      "source": [
        "var controls = new List<BoSSS.Application.XNSEC.XNSEC_Control>();\n",
        "double Th = 1.6; double Tc = 0.4;\n",
        "double Ra = 1e4;\n",
        "foreach(double Ra in Rayleighs){\n",
        "foreach(int dg in DGdegree){\n",
        "foreach(int Res in Resolutions) {\n",
        "\n",
        "    var C = new BoSSS.Application.XNSEC.XNSEC_Control();\n",
        "    C.SetDGdegree(dg);\n",
        "    var nCells = (int) Math.Pow(2,Res+1);\n",
        "    C.SetGrid(GridFactory.GenerateGrid(nCells));\n",
        "    C.Paramstudy_CaseIdentification.Add(new Tuple<string, object>(\"Res\", Res));\n",
        "    C.Paramstudy_CaseIdentification.Add(new Tuple<string, object>(\"Dgdegree\", dg));\n",
        "    C.Paramstudy_CaseIdentification.Add(new Tuple<string, object>(\"Rayleigh\", Ra));\n",
        "    C.SessionName = \"NaturalConvection_k\" + Res + \"_DG\" + dg+ \"_Ra\"+Ra;\n",
        "\n",
        "    C.EnableMassFractions = false;\n",
        "    C.NumberOfChemicalSpecies = 1;\n",
        "    C.ChemicalReactionActive = false;\n",
        "    C.MatParamsMode = MaterialParamsMode.Sutherland;\n",
        "    C.physicsMode = PhysicsMode.Combustion;\n",
        "    C.TimesteppingMode = AppControl._TimesteppingMode.Steady;\n",
        "\n",
        "\n",
        "    C.LinearSolver = LinearSolverCode.exp_Kcycle_schwarz.GetConfig();\n",
        "    C.LinearSolver.NoOfMultigridLevels = 5;\n",
        "    \n",
        "    // C.NonLinearSolver.SolverCode = NonLinearSolverCode.Newton;\n",
        "\n",
        "    C.LinearSolver = LinearSolverCode.direct_pardiso.GetConfig();\n",
        "    C.NonLinearSolver.ConvergenceCriterion = 1e-11;\n",
        "    C.LinearSolver.ConvergenceCriterion = 1e-12;\n",
        "    C.NonLinearSolver.verbose = true;\n",
        "    C.LinearSolver.verbose = false;\n",
        "    C.NonLinearSolver.MaxSolverIterations = 500;\n",
        "\n",
        "    C.PenaltyViscMomentum = 1.0 * 1;\n",
        "    C.PenaltyHeatConduction = 1.0 * 1;\n",
        "    C.PhysicalParameters.IncludeConvection = true;\n",
        "\n",
        "    C.UseSelfMadeTemporalOperator = false;\n",
        "    C.timeDerivativeEnergyp0_OK = false;\n",
        "    C.timeDerivativeConti_OK = false;\n",
        "\n",
        " \n",
        "    C.EdgeTagsNusselt = new string[] { \"wall_tempfixed_left\", \"wall_tempfixed_right\", \"NoSlipNeumann\" };\n",
        "\n",
        "    C.Rayleigh = Ra;\n",
        "    C.Reynolds = Math.Sqrt(Ra);\n",
        "    C.Prandtl = 0.71;\n",
        "    double Fr =Math.Sqrt(2 * C.Prandtl * (1.6 - 0.4) / (1.6 + 0.4)); \n",
        "    C.Froude = Fr;\n",
        "    C.HeatCapacityRatio = 1.4;\n",
        "    C.T_ref_Sutherland = 600;\n",
        "    C.ThermodynamicPressureMode = ThermodynamicPressureMode.MassDetermined; // Because its a closed system, i.e. p0 = p0(time)\n",
        "    C.PhysicalParameters.IncludeConvection = true;\n",
        "    C.Timestepper_LevelSetHandling         = BoSSS.Solution.XdgTimestepping.LevelSetHandling.None;\n",
        "    \n",
        "     \n",
        "  \n",
        "    if(Ra > 1e5){ // For Rayleigh numbers greater than 1e5 the newton-dogleg algorithm doesnt find a solution within ~ 70 iterations => Use homotopy\n",
        "        C.HomotopyVariable = XNSEC_Control.HomotopyVariableEnum.Reynolds;\n",
        "        C.homotopieAimedValue = Math.Sqrt(Ra);\n",
        "        C.StartingHomotopyValue = Math.Sqrt(1e4); // Suficiently easy to find solution\n",
        "        C.HomotopyApproach = XNSEC_Control.HomotopyType.Automatic;\n",
        "    }\n",
        "    \n",
        "\n",
        "\n",
        "    C.AddBoundaryValue(\"NoSlipNeumann\", VariableNames.VelocityX,BoundaryValueFactory.Get_VelX(Th, Tc,Fr));\n",
        "    C.AddBoundaryValue(\"NoSlipNeumann\", VariableNames.VelocityY,BoundaryValueFactory.Get_VelY(Th, Tc,Fr));\n",
        "\n",
        "    C.AddBoundaryValue(\"wall_tempfixed_left\", VariableNames.Temperature,BoundaryValueFactory.Get_TemperatureHot(Th, Tc,Fr));\n",
        "    C.AddBoundaryValue(\"wall_tempfixed_right\", VariableNames.Temperature, BoundaryValueFactory.Get_TemperatureCold(Th, Tc,Fr));\n",
        "\n",
        "    C.AddBoundaryValue(\"wall_tempfixed_left\", VariableNames.MassFraction0, BoundaryValueFactory.Get_One(Th, Tc,Fr));\n",
        "    C.AddBoundaryValue(\"wall_tempfixed_right\", VariableNames.MassFraction0, BoundaryValueFactory.Get_One(Th, Tc,Fr));\n",
        "\n",
        "\n",
        "\n",
        "\n",
        "\n",
        "    C.AddInitialValue(VariableNames.VelocityX,  BoundaryValueFactory.Get_Zero(Th, Tc,Fr));\n",
        "    C.AddInitialValue(VariableNames.VelocityY,BoundaryValueFactory.Get_Zero(Th, Tc,Fr));\n",
        "    C.AddInitialValue(VariableNames.Pressure,BoundaryValueFactory.Get_InitialPressure(Th, Tc,Fr));\n",
        "\n",
        "    C.AddInitialValue(VariableNames.Temperature,BoundaryValueFactory.Get_One(Th, Tc,Fr));\n",
        "    C.AddInitialValue(VariableNames.MassFraction0, BoundaryValueFactory.Get_One(Th, Tc,Fr));\n",
        "\n",
        "    //C.AddInitialValu(VariableNames.Temperature, X => (Tc - Th) / 1 * X[0] + Th);\n",
        "\n",
        "    //C.AddInitialValue.Add(VariableNames.Temperature, X => X[0] * X[0] + X[1] * X[1] + 1);\n",
        "    C.AddInitialValue(VariableNames.ThermodynamicPressure,BoundaryValueFactory.Get_One(Th, Tc,Fr));\n",
        "\n",
        "\n",
        "    controls.Add(C);\n",
        "}\n",
        "}\n",
        "}"
      ]
    },
    {
      "cell_type": "markdown",
      "metadata": {},
      "source": [
        "## Run Simulations"
      ]
    },
    {
      "cell_type": "code",
      "execution_count": null,
      "metadata": {
        "dotnet_interactive": {
          "language": "csharp"
        }
      },
      "outputs": [
        {
          "name": "stdout",
          "output_type": "stream",
          "text": [
            "MiniBatchProcessor client @C:\\deploy-Mini\r\n",
            "SlurmClient: jg11bano@lcluster2.hrz.tu-darmstadt.de, Slurm account: project01299\r\n",
            "MS HPC client  HPCCLUSTER @DC2, @\\\\hpccluster\\hpccluster-scratch\\gutierrez\\binaries\r\n",
            "MS HPC client  HPCCLUSTER2 @DC2, @\\\\hpccluster\\hpccluster-scratch\\gutierrez\\binaries\r\n",
            "MS HPC client @DC2, @\\\\hpccluster\\hpccluster-scratch\\gutierrez\\binaries\r\n"
          ]
        }
      ],
      "source": [
        "BoSSSshell.ExecutionQueues.ForEach(q => Console.WriteLine(q))"
      ]
    },
    {
      "cell_type": "code",
      "execution_count": null,
      "metadata": {
        "dotnet_interactive": {
          "language": "csharp"
        }
      },
      "outputs": [],
      "source": [
        "var myBatch = BoSSSshell.ExecutionQueues[0];"
      ]
    },
    {
      "cell_type": "code",
      "execution_count": null,
      "metadata": {
        "dotnet_interactive": {
          "language": "csharp"
        }
      },
      "outputs": [],
      "source": [
        "myBatch.AllowedDatabasesPaths.Add(new AllowedDatabasesPair(myDb.Path,\"\"));"
      ]
    },
    {
      "cell_type": "code",
      "execution_count": null,
      "metadata": {
        "dotnet_interactive": {
          "language": "csharp"
        }
      },
      "outputs": [],
      "source": [
        "Type solver = typeof(BoSSS.Application.XNSEC.XNSEC);\n",
        "foreach(var c in controls) {\n",
        "    string jobName       = c.SessionName;\n",
        "    var oneJob           = new Job(jobName, solver);\n",
        "    int noOfProcs = Convert.ToInt32(c.Paramstudy_CaseIdentification[0].Item2) > 2 ? 4:1;\n",
        "     noOfProcs = Convert.ToInt32(c.Paramstudy_CaseIdentification[0].Item2) > 4 ? 8:noOfProcs;\n",
        "    oneJob.NumberOfMPIProcs = noOfProcs;\n",
		"    oneJob.NumberOfThreads = 1;\n",
        "    oneJob.SetControlObject(c);\n",
        "    oneJob.Activate(myBatch); \n",
        "}"
      ]
    },
    {
      "cell_type": "code",
      "execution_count": null,
      "metadata": {
        "dotnet_interactive": {
          "language": "csharp"
        }
      },
      "outputs": [],
      "source": [
        "// wait for all jobs to finish (up to 1 day, check every 5 minutes)\n",
        "BoSSSshell.WorkflowMgm.BlockUntilAllJobsTerminate(TimeOutSeconds:(3600*24*1), PollingIntervallSeconds:(60*5));"
      ]
    },
    {
      "cell_type": "markdown",
      "metadata": {
        "dotnet_interactive": {
          "language": "csharp"
        }
      },
      "source": []
    },
    {
      "cell_type": "code",
      "execution_count": null,
      "metadata": {
        "dotnet_interactive": {
          "language": "csharp"
        }
      },
      "outputs": [
        {
          "data": {
            "text/plain": []
          },
          "metadata": {},
          "output_type": "display_data"
        }
      ],
      "source": [
        "// detect failed Jobs in the job management\n",
        "var suspects = BoSSSshell.WorkflowMgm.AllJobs.Select(kv => kv.Value)\n",
        "    .Where(job => job.LatestSession.Tags.Contains(SessionInfo.NOT_TERMINATED_TAG)\n",
        "                  || job.LatestSession.Tags.Contains(SessionInfo.SOLVER_ERROR)).ToArray();\n",
        "suspects"
      ]
    },
    {
      "cell_type": "code",
      "execution_count": null,
      "metadata": {
        "dotnet_interactive": {
          "language": "csharp"
        }
      },
      "outputs": [],
      "source": [
        "NUnit.Framework.Assert.IsTrue(suspects.Count() <= 0, $\"{suspects.Count()} Failed Jobs of {BoSSSshell.WorkflowMgm.AllJobs.Count()} in total.\");"
      ]
    },
    {
      "cell_type": "markdown",
      "metadata": {},
      "source": [
        "# Check if thermodynamic pressure and nusselt numbers correspond to the ones from the benchmark"
      ]
    },
    {
      "cell_type": "code",
      "execution_count": null,
      "metadata": {
        "dotnet_interactive": {
          "language": "csharp"
        }
      },
      "outputs": [],
      "source": [
        "var p0_solutions = new[] {\n",
        "    (1e2, 0.9573),\n",
        "    (1e3, 0.9381),\n",
        "    (1e4, 0.9146),\n",
        "    (1e5, 0.9220),\n",
        "    (1e6, 0.9245),\n",
        "    (1e7, 0.9226)\n",
        "};\n",
        "var Nusselt_solutions = new[] {\n",
        "    (1e2, 0.9787),\n",
        "    (1e3, 1.1077),\n",
        "    (1e4, 2.2180),\n",
        "    (1e5, 4.4800),\n",
        "    (1e6, 8.6870),\n",
        "    (1e7, 16.2400)\n",
        "};"
      ]
    },
    {
      "cell_type": "code",
      "execution_count": null,
      "metadata": {
        "dotnet_interactive": {
          "language": "csharp"
        }
      },
      "outputs": [
        {
          "name": "stdout",
          "output_type": "stream",
          "text": [
            "12.924885885117158\r\n",
            "0.00019626367001279732\r\n",
            "6.88333213751946E-05\r\n",
            "4.6561207810214E-05\r\n",
            "4.113259429971983E-05\r\n",
            "2.4598081688420592E-05\r\n"
          ]
        }
      ],
      "source": [
        "foreach(var sess in myDb.Sessions) {\n",
        "    double Rayleigh = Convert.ToDouble(sess.KeysAndQueries[\"Rayleigh\"]);\n",
        "    var leftvalue = Convert.ToDouble(sess.KeysAndQueries[\"NusseltNumber0\"]) / 1.2;\n",
        "    var rightvalue = Convert.ToDouble(sess.KeysAndQueries[\"NusseltNumber1\"]) / 1.2*(-1);\n",
        "    var residualValue = Convert.ToDouble(sess.KeysAndQueries[\"NusseltNumber2\"]);\n",
        "    var p0 = sess.Timesteps[1].Fields.Where(f => f.Identification == \"ThermodynamicPressure\").SingleOrDefault().GetMeanValueTotal(null);\n",
        "\n",
        "    double p0Reference = -1;\n",
        "    foreach(var sol in p0_solutions) {\n",
        "        if(Math.Abs(sol.Item1 - Rayleigh) < 1e-2) {\n",
        "            p0Reference = sol.Item2;\n",
        "        }\n",
        "    }\n",
        "    if(p0Reference == -1)\n",
        "        throw new NotImplementedException();\n",
        "\n",
        "     NUnit.Framework.Assert.IsTrue((Math.Abs(p0Reference - p0)) < 1e-2);\n",
        "\n",
        "    //Console.WriteLine(\"Calculation of thermodynamic pressures passed.\" );\n",
        "\n",
        "     double NusseltReference = -1;\n",
        "     foreach(var sol in Nusselt_solutions) {\n",
        "         if(Math.Abs(sol.Item1 - Rayleigh) < 1e-3) {\n",
        "             NusseltReference = sol.Item2;\n",
        "         }\n",
        "     }\n",
        "\n",
        "     if(NusseltReference == -1)\n",
        "         throw new NotImplementedException();\n",
        "        //  NUnit.Framework.Assert.IsTrue((Math.Abs(NusseltReference - leftvalue)) < 0.1);\n",
        "        Console.WriteLine(Math.Abs(NusseltReference - leftvalue));\n",
        "    //      NUnit.Framework.Assert.IsTrue((Math.Abs(NusseltReference - rightvalue)) < 0.1);        \n",
        "}"
      ]
    },
    {
      "cell_type": "code",
      "execution_count": null,
      "metadata": {
        "dotnet_interactive": {
          "language": "csharp"
        }
      },
      "outputs": [],
      "source": []
    },
    {
      "cell_type": "code",
      "execution_count": null,
      "metadata": {
        "dotnet_interactive": {
          "language": "csharp"
        }
      },
      "outputs": [
        {
          "data": {
            "text/plain": [
              "#0: HeatedCavity_RayleighSweepStudy\tNaturalConvection_k4_DG5_Ra10000000\t10/21/2021 15:14:56\tc78eb54a...\r\n",
              "#1: HeatedCavity_RayleighSweepStudy\tNaturalConvection_k4_DG5_Ra1000000\t10/21/2021 15:04:16\tc8d84cd2...\r\n",
              "#2: HeatedCavity_RayleighSweepStudy\tNaturalConvection_k4_DG5_Ra100000\t10/21/2021 14:58:26\tbcd71357...\r\n",
              "#3: HeatedCavity_RayleighSweepStudy\tNaturalConvection_k4_DG5_Ra10000\t10/21/2021 14:56:46\t334701e3...\r\n",
              "#4: HeatedCavity_RayleighSweepStudy\tNaturalConvection_k4_DG5_Ra1000\t10/21/2021 14:50:54\t3ce9136c...\r\n",
              "#5: HeatedCavity_RayleighSweepStudy\tNaturalConvection_k4_DG5_Ra100\t10/21/2021 14:50:54\tea26953a...\r\n"
            ]
          },
          "metadata": {},
          "output_type": "display_data"
        }
      ],
      "source": []
    },
    {
      "cell_type": "code",
      "execution_count": null,
      "metadata": {
        "dotnet_interactive": {
          "language": "csharp"
        }
      },
      "outputs": [],
      "source": []
    }
  ],
  "metadata": {
    "interpreter": {
      "hash": "5a4c2b90e762e735d09b118f9f9cec0074c9c9a762110f7a987def15c668bc0d"
    },
    "kernelspec": {
      "display_name": ".NET (C#)",
      "language": "C#",
      "name": ".net-csharp"
    },
    "language_info": {
      "file_extension": ".cs",
      "mimetype": "text/x-csharp",
      "name": "C#",
      "pygments_lexer": "csharp",
      "version": "9.0"
    }
  },
  "nbformat": 4,
  "nbformat_minor": 4
}

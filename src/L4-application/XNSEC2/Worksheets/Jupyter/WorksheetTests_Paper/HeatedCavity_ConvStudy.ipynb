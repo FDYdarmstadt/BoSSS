{
  "cells": [
    {
      "cell_type": "code",
      "execution_count": null,
      "metadata": {
        "dotnet_interactive": {
          "language": "csharp"
        }
      },
      "outputs": [],
      "source": [
        "// #r \"C:\\BoSSS\\experimental\\public\\src\\L4-application\\BoSSSpad\\bin\\Release\\net5.0\\bossspad.dll\"\n",
        "// #r \"C:\\BoSSS\\experimental\\public\\src\\L4-application\\BoSSSpad\\bin\\Release\\net5.0\\XNSEC.dll\"\n",
        "#r \"BoSSSpad.dll\"\n",
        "\n",
        "using System;\n",
        "using System.Collections.Generic;\n",
        "using System.Linq;\n",
        "using System.IO;\n",
        "using System.Data;\n",
        "using System.Globalization;\n",
        "using System.Threading;\n",
        "using ilPSP;\n",
        "using ilPSP.Utils;\n",
        "using BoSSS.Platform;\n",
        "using BoSSS.Foundation;\n",
        "using BoSSS.Foundation.Grid;\n",
        "using BoSSS.Foundation.Grid.Classic;\n",
        "using BoSSS.Foundation.IO;\n",
        "using BoSSS.Solution;\n",
        "using BoSSS.Solution.Control;\n",
        "using BoSSS.Solution.GridImport;\n",
        "using BoSSS.Solution.Statistic;\n",
        "using BoSSS.Solution.Utils;\n",
        "using BoSSS.Solution.Gnuplot;\n",
        "using BoSSS.Application.BoSSSpad;\n",
        "using BoSSS.Application.XNSE_Solver;\n",
        "using static BoSSS.Application.BoSSSpad.BoSSSshell;\n",
        "using BoSSS.Foundation.Grid.RefElements;\n",
        "using BoSSS.Platform.LinAlg;\n",
        "using BoSSS.Solution.NSECommon;\n",
        "Init();"
      ]
    },
    {
      "cell_type": "code",
      "execution_count": null,
      "metadata": {
        "dotnet_interactive": {
          "language": "csharp"
        }
      },
      "outputs": [],
      "source": [
        "using BoSSS.Application.XNSEC;"
      ]
    },
    {
      "cell_type": "code",
      "execution_count": null,
      "metadata": {
        "dotnet_interactive": {
          "language": "csharp"
        }
      },
      "outputs": [],
      "source": [
        "BoSSSshell.WorkflowMgm.Init(\"HeatedCavity_ConvergenceStudy\");"
      ]
    },
    {
      "cell_type": "code",
      "execution_count": null,
      "metadata": {
        "dotnet_interactive": {
          "language": "csharp"
        }
      },
      "outputs": [],
      "source": [
        "var myBatch = GetDefaultQueue();"
      ]
    },
    {
      "cell_type": "code",
      "execution_count": null,
      "metadata": {
        "dotnet_interactive": {
          "language": "csharp"
        }
      },
      "outputs": [],
      "source": [
        "var myDb = myBatch.CreateOrOpenCompatibleDatabase(\"HeatedCavity_RayleighSweepStudy\");\n",
        "//static var myDb = OpenOrCreateDatabase(@\"C:\\Databases\\TestHeatedCavity\");"
      ]
    },
    {
      "cell_type": "code",
      "execution_count": null,
      "metadata": {
        "dotnet_interactive": {
          "language": "csharp"
        }
      },
      "outputs": [],
      "source": [
        "BoSSSshell.WorkflowMgm.DefaultDatabase = myDb;"
      ]
    },
    {
      "cell_type": "markdown",
      "metadata": {},
      "source": [
        "## Create grid"
      ]
    },
    {
      "cell_type": "code",
      "execution_count": null,
      "metadata": {
        "dotnet_interactive": {
          "language": "csharp"
        }
      },
      "outputs": [],
      "source": [
        "int[] Resolutions = new int[]{ 3,4,5,6,7}; \n",
        "int[] DGdegree = new int[]{ 1,2,3,4};\n",
        "\n",
        "int[] nCells  =  Resolutions.Select(r => (int)(Math.Pow(2,r+1))).ToArray();\n",
        "double[] Rayleighs = new double[] {1e3}; // "
      ]
    },
    {
      "cell_type": "code",
      "execution_count": null,
      "metadata": {
        "dotnet_interactive": {
          "language": "csharp"
        }
      },
      "outputs": [],
      "source": [
        "public static class GridFactory {\n",
        "    public static double[] GetXNodes(int Res) { \n",
        "        var xNodes = GenericBlas.SinLinSpacing(-0.5, 0.5, 0, Res + 1);\n",
        "        return xNodes;\n",
        "    }\n",
        " \n",
        "    static double[] GetYNodes(int Res) {\n",
        "        double[] yNodes =  GenericBlas.SinLinSpacing(-0.5, 0.5,0, Res + 1);\n",
        "        return yNodes;\n",
        "    }\n",
        " \n",
        "    public static Grid2D GenerateGrid(int Res) { \n",
        "        var xNodes = GetXNodes(Res);\n",
        "        var yNodes = GetYNodes(Res);\n",
        "        var grd    = Grid2D.Cartesian2DGrid(xNodes, yNodes);\n",
        "        grd.EdgeTagNames.Add(1, \"NoSlipNeumann\");\n",
        "        grd.EdgeTagNames.Add(2, \"wall_tempfixed_left\");\n",
        "        grd.EdgeTagNames.Add(3, \"wall_tempfixed_right\");\n",
        "        grd.DefineEdgeTags( delegate (double[] X) {\n",
        "            double x = X[0];\n",
        "            double y = X[1];\n",
        "\n",
        "            //Edge tags\n",
        "            //1: Adiabatic no slip wall\n",
        "            //2: Temperature fixed no slip wall\n",
        "\n",
        "            //right cold wall \n",
        "            if (Math.Abs(x - 0.5) < 1e-8)\n",
        "                return 3;\n",
        "\n",
        "            //bottom adiabatic Wall\n",
        "            if (Math.Abs(y - 0.5 ) < 1e-8)\n",
        "                return 1;\n",
        "\n",
        "            // left hot wall\n",
        "            if (Math.Abs(x + 0.5) < 1e-8)\n",
        "                return 2;\n",
        "\n",
        "            //top adiabatic Wall\n",
        "            if (Math.Abs(y + 0.5 ) < 1e-8)\n",
        "                return 1;\n",
        "\n",
        "            else throw new ArgumentOutOfRangeException();\n",
        "        });\n",
        "        \n",
        "        bool force = true; \n",
        "        myDb.SaveGrid(ref grd, force);\n",
        "        \n",
        "        return grd;\n",
        "     }\n",
        " \n",
        " }"
      ]
    },
    {
      "cell_type": "code",
      "execution_count": null,
      "metadata": {
        "dotnet_interactive": {
          "language": "csharp"
        }
      },
      "outputs": [],
      "source": [
        "public static class BoundaryValueFactory { \n",
        "\n",
        "    public static string GetPrefixCode(double Th, double Tc, double Froude) {\n",
        "        using(var stw = new System.IO.StringWriter()) {\n",
        "           \n",
        "           stw.WriteLine(\"static class BoundaryValues {\");\n",
        "           stw.WriteLine(\"  static public double VelX(double[] X) {\");\n",
        "           stw.WriteLine(\"    return 0.0;\");\n",
        "           stw.WriteLine(\"  }\");\n",
        "\n",
        "           stw.WriteLine(\"  static public double VelY(double[] X) {\");\n",
        "           stw.WriteLine(\"    return 0.0;\");\n",
        "           stw.WriteLine(\"  }\");\n",
        "\n",
        "           stw.WriteLine(\"  static public double TemperatureHot(double[] X) {\");\n",
        "           stw.WriteLine(\"    return 1.6;\");\n",
        "           stw.WriteLine(\"  }\");\n",
        "\n",
        "           stw.WriteLine(\"  static public double TemperatureCold(double[] X) {\");\n",
        "           stw.WriteLine(\"    return 0.4;\");\n",
        "           stw.WriteLine(\"  }\");\n",
        "\n",
        "           stw.WriteLine(\"  static public double One(double[] X) {\");\n",
        "           stw.WriteLine(\"    return  1.0;\");\n",
        "           stw.WriteLine(\"  }\");\n",
        "\n",
        "           stw.WriteLine(\"  static public double Zero(double[] X) {\");\n",
        "           stw.WriteLine(\"    return  0.0;\");\n",
        "           stw.WriteLine(\"  }\");\n",
        "\n",
        "           stw.WriteLine(\" static public double InitialPressure(double[] X) { \");\n",
        "            stw.WriteLine(\"         return (-1)* X[1] / (\"+Froude * Froude +\") ;\");\n",
        "            stw.WriteLine(\"    }\");\n",
        "            stw.WriteLine(\"}\"); \n",
        "           return stw.ToString();\n",
        "        }\n",
        "    }\n",
        "   \n",
        "    static public Formula Get_VelX(double Th, double Tc , double Froude) {\n",
        "        return new Formula(\"BoundaryValues.VelX\", AdditionalPrefixCode:GetPrefixCode(Th,Tc,Froude));\n",
        "    }\n",
        "\n",
        "    static public Formula Get_VelY(double Th, double Tc, double Froude){\n",
        "        return new Formula(\"BoundaryValues.VelY\", AdditionalPrefixCode:GetPrefixCode(Th,Tc,Froude));\n",
        "    }\n",
        "    static public Formula Get_TemperatureHot(double Th, double Tc, double Froude){\n",
        "        return new Formula(\"BoundaryValues.TemperatureHot\", AdditionalPrefixCode:GetPrefixCode(Th,Tc,Froude));\n",
        "    }\n",
        "\n",
        "     static public Formula Get_TemperatureCold(double Th, double Tc, double Froude){\n",
        "        return new Formula(\"BoundaryValues.TemperatureCold\", AdditionalPrefixCode:GetPrefixCode(Th,Tc,Froude));\n",
        "    }\n",
        "\n",
        "    static public Formula Get_One(double Th, double Tc, double Froude){\n",
        "        return new Formula(\"BoundaryValues.One\", AdditionalPrefixCode:GetPrefixCode(Th,Tc,Froude));\n",
        "    }\n",
        "    static public Formula Get_Zero(double Th, double Tc, double Froude){\n",
        "        return new Formula(\"BoundaryValues.Zero\", AdditionalPrefixCode:GetPrefixCode(Th,Tc,Froude));\n",
        "    }\n",
        "    static public Formula Get_InitialPressure(double Th, double Tc, double Froude){\n",
        "        return new Formula(\"BoundaryValues.InitialPressure\", AdditionalPrefixCode:GetPrefixCode(Th,Tc,Froude));\n",
        "    }\n",
        "}"
      ]
    },
    {
      "cell_type": "markdown",
      "metadata": {},
      "source": [
        "## Send and run jobs"
      ]
    },
    {
      "cell_type": "code",
      "execution_count": null,
      "metadata": {
        "dotnet_interactive": {
          "language": "csharp"
        }
      },
      "outputs": [],
      "source": [
        "var controls = new List<XNSEC_Control>();"
      ]
    },
    {
      "cell_type": "code",
      "execution_count": null,
      "metadata": {
        "dotnet_interactive": {
          "language": "csharp"
        }
      },
      "outputs": [],
      "source": [
        "var controls = new List<BoSSS.Application.XNSEC.XNSEC_Control>();\n",
        "double Th = 1.6; double Tc = 0.4;\n",
        "foreach(double Ra in Rayleighs){\n",
        "foreach(int dg in DGdegree){\n",
        "foreach(int Res in Resolutions) {\n",
        "\n",
        "    var C = new BoSSS.Application.XNSEC.XNSEC_Control();\n",
        "    C.SetDGdegree(dg);\n",
        "    var nCells = (int) Math.Pow(2,Res+1);\n",
        "    C.SetGrid(GridFactory.GenerateGrid(nCells));\n",
        "    C.Paramstudy_CaseIdentification.Add(new Tuple<string, object>(\"Res\", Res));\n",
        "    C.Paramstudy_CaseIdentification.Add(new Tuple<string, object>(\"Dgdegree\", dg));\n",
        "    C.Paramstudy_CaseIdentification.Add(new Tuple<string, object>(\"Rayleigh\", Ra));\n",
        "    C.SessionName = \"NaturalConvection_k\" + Res + \"_DG\" + dg+ \"_Ra\"+Ra;\n",
        "\n",
        "    C.EnableMassFractions = false;\n",
        "    C.NumberOfChemicalSpecies = 1;\n",
        "    C.ChemicalReactionActive = false;\n",
        "    C.MatParamsMode = MaterialParamsMode.Sutherland;\n",
        "    C.physicsMode = PhysicsMode.Combustion;\n",
        "    C.TimesteppingMode = AppControl._TimesteppingMode.Steady;\n",
        "\n",
        "\n",
        "    C.LinearSolver = LinearSolverCode.exp_Kcycle_schwarz.GetConfig();\n",
        "    C.LinearSolver.NoOfMultigridLevels = 5;\n",
        "    \n",
        "    // C.NonLinearSolver.SolverCode = NonLinearSolverCode.Newton;\n",
        "\n",
        "    C.LinearSolver = LinearSolverCode.direct_pardiso.GetConfig();\n",
        "    C.NonLinearSolver.ConvergenceCriterion = 1e-11;\n",
        "    C.LinearSolver.ConvergenceCriterion = 1e-12;\n",
        "    C.NonLinearSolver.verbose = true;\n",
        "    C.LinearSolver.verbose = false;\n",
        "    C.NonLinearSolver.MaxSolverIterations = 500;\n",
        "\n",
        "    C.PenaltyViscMomentum = 1.0 * 1;\n",
        "    C.PenaltyHeatConduction = 1.0 * 1;\n",
        "    C.PhysicalParameters.IncludeConvection = true;\n",
        "\n",
        "    C.UseSelfMadeTemporalOperator = false;\n",
        "    C.timeDerivativeEnergyp0_OK = false;\n",
        "    C.timeDerivativeConti_OK = false;\n",
        "\n",
        " \n",
        "    C.EdgeTagsNusselt = new string[] { \"wall_tempfixed_left\", \"wall_tempfixed_right\", \"NoSlipNeumann\" };\n",
        "\n",
        "    C.Rayleigh = Ra;\n",
        "    C.Reynolds = Math.Sqrt(Ra);\n",
        "    C.Prandtl = 0.71;\n",
        "    double Fr =Math.Sqrt(2 * C.Prandtl * (1.6 - 0.4) / (1.6 + 0.4)); \n",
        "    C.Froude = Fr;\n",
        "    C.HeatCapacityRatio = 1.4;\n",
        "    C.T_ref_Sutherland = 600;\n",
        "    C.ThermodynamicPressureMode = ThermodynamicPressureMode.MassDetermined; // Because its a closed system, i.e. p0 = p0(time)\n",
        "    C.PhysicalParameters.IncludeConvection = true;\n",
        "    C.Timestepper_LevelSetHandling         = BoSSS.Solution.XdgTimestepping.LevelSetHandling.None;\n",
        "    \n",
        "     \n",
        "  \n",
        "    if(Ra > 1e5){ // For Rayleigh numbers greater than 1e5 the newton-dogleg algorithm doesnt find a solution within ~ 70 iterations => Use homotopy\n",
        "        C.HomotopyVariable = XNSEC_Control.HomotopyVariableEnum.Reynolds;\n",
        "        C.homotopieAimedValue = Math.Sqrt(Ra);\n",
        "        C.StartingHomotopyValue = Math.Sqrt(1e4); // Suficiently easy to find solution\n",
        "        C.HomotopyApproach = XNSEC_Control.HomotopyType.Automatic;\n",
        "    }\n",
        "    \n",
        "\n",
        "\n",
        "    C.AddBoundaryValue(\"NoSlipNeumann\", VariableNames.VelocityX,BoundaryValueFactory.Get_VelX(Th, Tc,Fr));\n",
        "    C.AddBoundaryValue(\"NoSlipNeumann\", VariableNames.VelocityY,BoundaryValueFactory.Get_VelY(Th, Tc,Fr));\n",
        "\n",
        "    C.AddBoundaryValue(\"wall_tempfixed_left\", VariableNames.Temperature,BoundaryValueFactory.Get_TemperatureHot(Th, Tc,Fr));\n",
        "    C.AddBoundaryValue(\"wall_tempfixed_right\", VariableNames.Temperature, BoundaryValueFactory.Get_TemperatureCold(Th, Tc,Fr));\n",
        "\n",
        "    C.AddBoundaryValue(\"wall_tempfixed_left\", VariableNames.MassFraction0, BoundaryValueFactory.Get_One(Th, Tc,Fr));\n",
        "    C.AddBoundaryValue(\"wall_tempfixed_right\", VariableNames.MassFraction0, BoundaryValueFactory.Get_One(Th, Tc,Fr));\n",
        "\n",
        "\n",
        "\n",
        "\n",
        "\n",
        "    C.AddInitialValue(VariableNames.VelocityX,  BoundaryValueFactory.Get_Zero(Th, Tc,Fr));\n",
        "    C.AddInitialValue(VariableNames.VelocityY,BoundaryValueFactory.Get_Zero(Th, Tc,Fr));\n",
        "    C.AddInitialValue(VariableNames.Pressure,BoundaryValueFactory.Get_InitialPressure(Th, Tc,Fr));\n",
        "\n",
        "    C.AddInitialValue(VariableNames.Temperature,BoundaryValueFactory.Get_One(Th, Tc,Fr));\n",
        "    C.AddInitialValue(VariableNames.MassFraction0, BoundaryValueFactory.Get_One(Th, Tc,Fr));\n",
        "\n",
        "    //C.AddInitialValu(VariableNames.Temperature, X => (Tc - Th) / 1 * X[0] + Th);\n",
        "\n",
        "    //C.AddInitialValue.Add(VariableNames.Temperature, X => X[0] * X[0] + X[1] * X[1] + 1);\n",
        "    C.AddInitialValue(VariableNames.ThermodynamicPressure,BoundaryValueFactory.Get_One(Th, Tc,Fr));\n",
        "\n",
        "\n",
        "    controls.Add(C);\n",
        "}\n",
        "}\n",
        "}"
      ]
    },
    {
      "cell_type": "markdown",
      "metadata": {},
      "source": [
        "## Run Simulations"
      ]
    },
    {
      "cell_type": "code",
      "execution_count": null,
      "metadata": {
        "dotnet_interactive": {
          "language": "csharp"
        }
      },
      "outputs": [],
      "source": [
        "BoSSSshell.ExecutionQueues.ForEach(q => Console.WriteLine(q))"
      ]
    },
    {
      "cell_type": "code",
      "execution_count": null,
      "metadata": {
        "dotnet_interactive": {
          "language": "csharp"
        }
      },
      "outputs": [],
      "source": [
        "var myBatch = BoSSSshell.ExecutionQueues[0];"
      ]
    },
    {
      "cell_type": "code",
      "execution_count": null,
      "metadata": {
        "dotnet_interactive": {
          "language": "csharp"
        }
      },
      "outputs": [],
      "source": [
        "myBatch.AllowedDatabasesPaths.Add(new AllowedDatabasesPair(myDb.Path,\"\"));"
      ]
    },
    {
      "cell_type": "code",
      "execution_count": null,
      "metadata": {
        "dotnet_interactive": {
          "language": "csharp"
        }
      },
      "outputs": [],
      "source": [
        "Type solver = typeof(BoSSS.Application.XNSEC.XNSEC);\n",
        "foreach(var c in controls) {\n",
        "    string jobName       = c.SessionName;\n",
        "    var oneJob           = new Job(jobName, solver);\n",
        "    int noOfProcs = Convert.ToInt32(c.Paramstudy_CaseIdentification[0].Item2) > 2 ? 4:1;\n",
        "    noOfProcs = Convert.ToInt32(c.Paramstudy_CaseIdentification[0].Item2) > 4 ? 8:noOfProcs;\n",
        "    oneJob.NumberOfMPIProcs = noOfProcs;\n",
		"    oneJob.NumberOfThreads = 1;\n",
        "    oneJob.SetControlObject(c);\n",
        "    oneJob.Activate(myBatch); \n",
        "}"
      ]
    },
    {
      "cell_type": "code",
      "execution_count": null,
      "metadata": {
        "dotnet_interactive": {
          "language": "csharp"
        }
      },
      "outputs": [],
      "source": [
        "// wait for all jobs to finish (up to 1 day, check every 2 minutes)\n",
        "BoSSSshell.WorkflowMgm.BlockUntilAllJobsTerminate(TimeOutSeconds:(3600*24*1), PollingIntervallSeconds:(60*2));"
      ]
    },
    {
      "cell_type": "code",
      "execution_count": null,
      "metadata": {
        "dotnet_interactive": {
          "language": "csharp"
        }
      },
      "outputs": [
        {
          "data": {
            "text/plain": [
              "#0: NaturalConvection_k3_DG1_Ra1000: FailedOrCanceled (MiniBatchProcessor client @C:\\deploy-Mini)\r\n",
              "#1: NaturalConvection_k4_DG1_Ra1000: FailedOrCanceled (MiniBatchProcessor client @C:\\deploy-Mini)\r\n",
              "#2: NaturalConvection_k5_DG1_Ra1000: FailedOrCanceled (MiniBatchProcessor client @C:\\deploy-Mini)\r\n",
              "#3: NaturalConvection_k3_DG2_Ra1000: FailedOrCanceled (MiniBatchProcessor client @C:\\deploy-Mini)\r\n",
              "#4: NaturalConvection_k4_DG2_Ra1000: FailedOrCanceled (MiniBatchProcessor client @C:\\deploy-Mini)\r\n",
              "#5: NaturalConvection_k5_DG2_Ra1000: FailedOrCanceled (MiniBatchProcessor client @C:\\deploy-Mini)\r\n"
            ]
          },
          "metadata": {},
          "output_type": "display_data"
        }
      ],
      "source": [
        "// detect failed Jobs in the job management\n",
        "var suspects = BoSSSshell.WorkflowMgm.AllJobs.Select(kv => kv.Value)\n",
        "    .Where(job => job.LatestSession.Tags.Contains(SessionInfo.NOT_TERMINATED_TAG)\n",
        "                  || job.LatestSession.Tags.Contains(SessionInfo.SOLVER_ERROR)).ToArray();\n",
        "suspects"
      ]
    },
    {
      "cell_type": "code",
      "execution_count": null,
      "metadata": {
        "dotnet_interactive": {
          "language": "csharp"
        }
      },
      "outputs": [
        {
          "ename": "Error",
          "evalue": "NUnit.Framework.AssertionException:   6 Failed Jobs of 6 in total.\r\n  Expected: True\r\n  But was:  False\r\n\r\n   at NUnit.Framework.Assert.ReportFailure(String message) in /_/src/NUnitFramework/framework/Assert.cs:line 395\r\n   at NUnit.Framework.Assert.ReportFailure(ConstraintResult result, String message, Object[] args) in /_/src/NUnitFramework/framework/Assert.cs:line 383\r\n   at NUnit.Framework.Assert.That[TActual](TActual actual, IResolveConstraint expression, String message, Object[] args) in /_/src/NUnitFramework/framework/Assert.That.cs:line 229\r\n   at NUnit.Framework.Assert.IsTrue(Boolean condition, String message, Object[] args) in /_/src/NUnitFramework/framework/Assert.Conditions.cs:line 95\r\n   at Submission#20.<<Initialize>>d__0.MoveNext()\r\n--- End of stack trace from previous location ---\r\n   at Microsoft.CodeAnalysis.Scripting.ScriptExecutionState.RunSubmissionsAsync[TResult](ImmutableArray`1 precedingExecutors, Func`2 currentExecutor, StrongBox`1 exceptionHolderOpt, Func`2 catchExceptionOpt, CancellationToken cancellationToken)",
          "output_type": "error",
          "traceback": [
            "NUnit.Framework.AssertionException:   6 Failed Jobs of 6 in total.\r\n",
            "  Expected: True\r\n",
            "  But was:  False\r\n",
            "\r\n",
            "   at NUnit.Framework.Assert.ReportFailure(String message) in /_/src/NUnitFramework/framework/Assert.cs:line 395\r\n",
            "   at NUnit.Framework.Assert.ReportFailure(ConstraintResult result, String message, Object[] args) in /_/src/NUnitFramework/framework/Assert.cs:line 383\r\n",
            "   at NUnit.Framework.Assert.That[TActual](TActual actual, IResolveConstraint expression, String message, Object[] args) in /_/src/NUnitFramework/framework/Assert.That.cs:line 229\r\n",
            "   at NUnit.Framework.Assert.IsTrue(Boolean condition, String message, Object[] args) in /_/src/NUnitFramework/framework/Assert.Conditions.cs:line 95\r\n",
            "   at Submission#20.<<Initialize>>d__0.MoveNext()\r\n",
            "--- End of stack trace from previous location ---\r\n",
            "   at Microsoft.CodeAnalysis.Scripting.ScriptExecutionState.RunSubmissionsAsync[TResult](ImmutableArray`1 precedingExecutors, Func`2 currentExecutor, StrongBox`1 exceptionHolderOpt, Func`2 catchExceptionOpt, CancellationToken cancellationToken)"
          ]
        }
      ],
      "source": [
        "NUnit.Framework.Assert.IsTrue(suspects.Count() <= 0, $\"{suspects.Count()} Failed Jobs of {BoSSSshell.WorkflowMgm.AllJobs.Count()} in total.\");"
      ]
    },
    {
      "cell_type": "markdown",
      "metadata": {},
      "source": [
        "## PostProcessing"
      ]
    },
    {
      "cell_type": "markdown",
      "metadata": {},
      "source": [
        "## Error convergence study for Temperature"
      ]
    },
    {
      "cell_type": "code",
      "execution_count": null,
      "metadata": {
        "dotnet_interactive": {
          "language": "csharp"
        }
      },
      "outputs": [
        {
          "ename": "Error",
          "evalue": "(4,93): error CS0103: The name 'NCellsFinestMesh' does not exist in the current context",
          "output_type": "error",
          "traceback": [
            "(4,93): error CS0103: The name 'NCellsFinestMesh' does not exist in the current context"
          ]
        }
      ],
      "source": [
        "var Tab = BoSSSshell.WorkflowMgm.SessionTable;\n",
        "var Tab2 = Tab.ExtractColumns(\"DGdegree:Temperature\",\"Grid:hMin\",\"Grid:NoOfCells\" ,\"L2Error_Temperature\");\n",
        "//Extract last point, the one against we are comparing our solutions with\n",
        "Tab2 = Tab2.ExtractRows((iRow,RowEntries)=> Convert.ToInt32(RowEntries[\"Grid:NoOfCells\"]) !=NCellsFinestMesh );"
      ]
    },
    {
      "cell_type": "code",
      "execution_count": null,
      "metadata": {
        "dotnet_interactive": {
          "language": "csharp"
        }
      },
      "outputs": [
        {
          "ename": "Error",
          "evalue": "(1,17): error CS0103: The name 'Tab2' does not exist in the current context",
          "output_type": "error",
          "traceback": [
            "(1,17): error CS0103: The name 'Tab2' does not exist in the current context"
          ]
        }
      ],
      "source": [
        "var ErrorPlot = Tab2.ToPlot(\"Grid:hMin\",\"L2Error_Temperature\", \"DGdegree:Temperature\");\n",
        "ErrorPlot.LogX = true;\n",
        "ErrorPlot.LogY = true;\n",
        "ErrorPlot.PlotNow()     // No semicolon!!"
      ]
    },
    {
      "cell_type": "markdown",
      "metadata": {},
      "source": [
        "## Error convergence study for Velocity-X"
      ]
    },
    {
      "cell_type": "code",
      "execution_count": null,
      "metadata": {
        "dotnet_interactive": {
          "language": "csharp"
        }
      },
      "outputs": [
        {
          "ename": "Error",
          "evalue": "(4,93): error CS0103: The name 'NCellsFinestMesh' does not exist in the current context",
          "output_type": "error",
          "traceback": [
            "(4,93): error CS0103: The name 'NCellsFinestMesh' does not exist in the current context"
          ]
        }
      ],
      "source": [
        "var Tab = BoSSSshell.WorkflowMgm.SessionTable;\n",
        "var Tab2 = Tab.ExtractColumns(\"DGdegree:Velocity*\",\"Grid:hMin\",\"Grid:NoOfCells\" ,\"L2Error_VelocityX\");\n",
        "//Extract last point, the one against we are comparing our solutions with\n",
        "Tab2 = Tab2.ExtractRows((iRow,RowEntries)=> Convert.ToInt32(RowEntries[\"Grid:NoOfCells\"]) !=NCellsFinestMesh );\n",
        "var ErrorPlot = Tab2.ToPlot(\"Grid:hMin\",\"L2Error_VelocityX\", \"DGdegree:Velocity*\");\n",
        "ErrorPlot.LogX = true;\n",
        "ErrorPlot.LogY = true;\n",
        "ErrorPlot.PlotNow()     // No semicolon!!"
      ]
    },
    {
      "cell_type": "markdown",
      "metadata": {},
      "source": [
        "## Error convergence study for Velocity-Y"
      ]
    },
    {
      "cell_type": "code",
      "execution_count": null,
      "metadata": {
        "dotnet_interactive": {
          "language": "csharp"
        }
      },
      "outputs": [
        {
          "ename": "Error",
          "evalue": "(4,93): error CS0103: The name 'NCellsFinestMesh' does not exist in the current context",
          "output_type": "error",
          "traceback": [
            "(4,93): error CS0103: The name 'NCellsFinestMesh' does not exist in the current context"
          ]
        }
      ],
      "source": [
        "var Tab = BoSSSshell.WorkflowMgm.SessionTable;\n",
        "var Tab2 = Tab.ExtractColumns(\"DGdegree:Velocity*\",\"Grid:hMin\",\"Grid:NoOfCells\" ,\"L2Error_VelocityY\");\n",
        "//Extract last point, the one against we are comparing our solutions with\n",
        "Tab2 = Tab2.ExtractRows((iRow,RowEntries)=> Convert.ToInt32(RowEntries[\"Grid:NoOfCells\"]) !=NCellsFinestMesh );\n",
        "var ErrorPlot = Tab2.ToPlot(\"Grid:hMin\",\"L2Error_VelocityY\", \"DGdegree:Velocity*\");\n",
        "ErrorPlot.LogX = true;\n",
        "ErrorPlot.LogY = true;\n",
        "ErrorPlot.PlotNow()     // No semicolon!!"
      ]
    },
    {
      "cell_type": "code",
      "execution_count": null,
      "metadata": {
        "dotnet_interactive": {
          "language": "csharp"
        }
      },
      "outputs": [],
      "source": []
    }
  ],
  "metadata": {
    "interpreter": {
      "hash": "5a4c2b90e762e735d09b118f9f9cec0074c9c9a762110f7a987def15c668bc0d"
    },
    "kernelspec": {
      "display_name": ".NET (C#)",
      "language": "C#",
      "name": ".net-csharp"
    },
    "language_info": {
      "file_extension": ".cs",
      "mimetype": "text/x-csharp",
      "name": "C#",
      "pygments_lexer": "csharp",
      "version": "9.0"
    }
  },
  "nbformat": 4,
  "nbformat_minor": 4
}

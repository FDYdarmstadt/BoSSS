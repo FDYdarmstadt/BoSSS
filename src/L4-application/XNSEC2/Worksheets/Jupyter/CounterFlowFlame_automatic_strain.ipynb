{
  "cells": [
    {
      "cell_type": "code",
      "execution_count": null,
      "source": [
        "// #r \".\\binaries2\\bossspad.dll\"\r\n",
        "// #r \".\\binaries2\\XNSEC.dll\"\r\n",
        "#r \"C:\\BoSSS_Binaries\\bossspad.dll\"\r\n",
        "#r \"C:\\BoSSS_Binaries\\XNSEC.dll\"\r\n",
        "// #r \"C:\\BoSSS\\experimental\\public\\src\\L4-application\\BoSSSpad\\bin\\Release\\net5.0\\bossspad.dll\"\r\n",
        "// #r \"C:\\BoSSS\\experimental\\public\\src\\L4-application\\BoSSSpad\\bin\\Release\\net5.0\\XNSEC.dll\"\r\n",
        "using System;\r\n",
        "using System.Collections.Generic;\r\n",
        "using System.Linq;\r\n",
        "using System.IO;\r\n",
        "using System.Data;\r\n",
        "using System.Globalization;\r\n",
        "using System.Threading;\r\n",
        "using ilPSP;\r\n",
        "using ilPSP.Utils;\r\n",
        "using BoSSS.Platform;\r\n",
        "using BoSSS.Foundation;\r\n",
        "using BoSSS.Foundation.Grid;\r\n",
        "using BoSSS.Foundation.Grid.Classic;\r\n",
        "using BoSSS.Foundation.IO;\r\n",
        "using BoSSS.Solution;\r\n",
        "using BoSSS.Solution.Control;\r\n",
        "using BoSSS.Solution.GridImport;\r\n",
        "using BoSSS.Solution.Statistic;\r\n",
        "using BoSSS.Solution.Utils;\r\n",
        "using BoSSS.Solution.Gnuplot;\r\n",
        "using BoSSS.Application.BoSSSpad;\r\n",
        "using BoSSS.Application.XNSE_Solver;\r\n",
        "using static BoSSS.Application.BoSSSpad.BoSSSshell;\r\n",
        "using BoSSS.Foundation.Grid.RefElements;\r\n",
        "using BoSSS.Platform.LinAlg;\r\n",
        "using BoSSS.Solution.NSECommon;\r\n",
        "using BoSSS.Application.XNSEC;\r\n",
        "Init();"
      ],
      "outputs": [],
      "metadata": {
        "dotnet_interactive": {
          "language": "csharp"
        }
      }
    },
    {
      "cell_type": "markdown",
      "source": [
        "## Case configuration"
      ],
      "metadata": {}
    },
    {
      "cell_type": "code",
      "execution_count": null,
      "source": [
        "int nCells = 12;\r\n",
        "int dg = 2;\r\n",
        "\r\n",
        "double InitialMassFuelIn = 0.02400; //kg/m2s \r\n",
        "double InitialMassAirIn = 0.02400 *3; //kg/m2s \r\n",
        "bool parabolicVelocityProfile = false;\r\n",
        "bool chemicalReactionActive = true; \r\n",
        "int numberOfMpiCores = 16;\r\n",
        "bool useFullGeometry = false;\r\n",
        "bool wallBounded = false;"
      ],
      "outputs": [],
      "metadata": {
        "dotnet_interactive": {
          "language": "csharp"
        }
      }
    },
    {
      "cell_type": "markdown",
      "source": [
        "## Open Database"
      ],
      "metadata": {
        "dotnet_interactive": {
          "language": "csharp"
        }
      }
    },
    {
      "cell_type": "code",
      "execution_count": null,
      "source": [
        "// string dbName = \"CounterDiffusionFlame_dg\" + dg + \"_resolution\" + nCells + \"FullGeometry\";\r\n",
        "// readonly string path = @\"\\\\hpccluster\\hpccluster-scratch\\gutierrez\\\" + dbName;"
      ],
      "outputs": [],
      "metadata": {
        "dotnet_interactive": {
          "language": "csharp"
        }
      }
    },
    {
      "cell_type": "code",
      "execution_count": null,
      "source": [
        "static var myDb = OpenOrCreateDatabase(@\"\\\\hpccluster\\hpccluster-scratch\\gutierrez\\CDF_StrainSweep_AUTOMATIC_k12_dg2\");\r\n",
        "// static var myDb = OpenOrCreateDatabase(@\"C:\\Databases\\CDF_NoCombustionStrainSweep_\");\r\n",
        "// myDb.Summary()"
      ],
      "outputs": [],
      "metadata": {
        "dotnet_interactive": {
          "language": "csharp"
        }
      }
    },
    {
      "cell_type": "code",
      "execution_count": null,
      "source": [
        "BoSSSshell.WorkflowMgm.Init(\"CounterFlowFlame123\");\r\n",
        "BoSSSshell.WorkflowMgm.SetNameBasedSessionJobControlCorrelation();\r\n",
        "BoSSSshell.WorkflowMgm.Sessions\r\n"
      ],
      "outputs": [
        {
          "output_type": "display_data",
          "data": {
            "text/plain": []
          },
          "metadata": {}
        }
      ],
      "metadata": {
        "dotnet_interactive": {
          "language": "csharp"
        }
      }
    },
    {
      "cell_type": "code",
      "execution_count": null,
      "source": [],
      "outputs": [],
      "metadata": {
        "dotnet_interactive": {
          "language": "csharp"
        }
      }
    },
    {
      "cell_type": "code",
      "execution_count": null,
      "source": [
        "var myBatch = BoSSSshell.ExecutionQueues[3];\r\n",
        "// MiniBatchProcessor.Server.StartIfNotRunning(true);\r\n",
        "myBatch.AllowedDatabasesPaths.Add(new AllowedDatabasesPair(myDb.Path,\"\"));"
      ],
      "outputs": [],
      "metadata": {
        "dotnet_interactive": {
          "language": "csharp"
        }
      }
    },
    {
      "cell_type": "markdown",
      "source": [
        "## Create grid"
      ],
      "metadata": {}
    },
    {
      "cell_type": "code",
      "execution_count": null,
      "source": [
        "public static class GridFactory {\r\n",
        "\r\n",
        "    public static Grid2D GenerateGrid(int nCells, bool wallBounded) {\r\n",
        "        double L = 0.02;\r\n",
        "        double LRef = L;\r\n",
        "        double R_dim = L / 2;\r\n",
        "        double separation = 1.0; // nondimensional\r\n",
        "        double xleft = 0;\r\n",
        "        double xright = separation;\r\n",
        "        double radius_inlet = R_dim / LRef;\r\n",
        "        double ybot = -separation * 3; \r\n",
        "        double ytop = separation * 3; \r\n",
        "\r\n",
        "        // Define Grid\r\n",
        "        double[] _xNodes;\r\n",
        "        double[] _yNodes;\r\n",
        "\r\n",
        "        // X-NODES\r\n",
        "        double xNodesDensity = 2; \r\n",
        "        _xNodes = GenericBlas.Linspace(xleft, xright, (int)(nCells * xNodesDensity + 1));\r\n",
        "        // Y-NODES\r\n",
        "        double sf3 = 0.80;\r\n",
        "        var _yNodes2 = GenericBlas.Linspace(-radius_inlet, radius_inlet, nCells + 1).ToList(); // center\r\n",
        "        Console.WriteLine(_yNodes2);\r\n",
        "        List<double> yNodesTop = (GenericBlas.SinLinSpacing(radius_inlet, (ytop - radius_inlet) * 2 + radius_inlet, sf3, nCells * 2 + 1).ToList()); // Nodes corresponding to the oxidizer inlet, right part\r\n",
        "        var myYnodesTop = yNodesTop.GetSubVector(0, yNodesTop.Count / 2 + 1); // Take only \"bottom side\" of node array\r\n",
        "        var myYNodesBot = myYnodesTop.CloneAs();\r\n",
        "        myYNodesBot.ScaleV(-1.0);\r\n",
        "        Array.Reverse(myYNodesBot);\r\n",
        "        List<double> list2 = new List<double>();\r\n",
        "        list2.AddRange(myYNodesBot.Take(myYNodesBot.Length - 1).ToList());\r\n",
        "        list2.AddRange(_yNodes2.Take(_yNodes2.Count() - 1).ToList());\r\n",
        "        list2.AddRange(myYnodesTop.ToList());\r\n",
        "        _yNodes = list2.ToArray();\r\n",
        "\r\n",
        "        var grd = Grid2D.Cartesian2DGrid(_xNodes, _yNodes);\r\n",
        "\r\n",
        "        // Define Edge tags\r\n",
        "        grd.EdgeTagNames.Add(1, \"Velocity_Inlet_CH4\");\r\n",
        "        grd.EdgeTagNames.Add(2, \"Velocity_Inlet_O2\");\r\n",
        "        grd.EdgeTagNames.Add(3, \"Pressure_Outlet\");\r\n",
        "\r\n",
        "        if(wallBounded){\r\n",
        "            grd.EdgeTagNames.Add(4, \"Wall\");\r\n",
        "        }\r\n",
        "        grd.DefineEdgeTags(delegate (double[] X) {\r\n",
        "            double x = X[0];\r\n",
        "            double y = X[1];\r\n",
        "            //Edge tags\r\n",
        "            //1: Velocity inlet O_2\r\n",
        "            //2: Velocity inlet CH_4\r\n",
        "            //3: Pressure outlet\r\n",
        "            if(Math.Abs(x - xleft) < 1e-8) { // Left boundary\r\n",
        "                if(Math.Abs(y) - radius_inlet < 1e-8) { // Fuel Inlet\r\n",
        "                    return 1;\r\n",
        "                } else {\r\n",
        "                    if(wallBounded){\r\n",
        "                    return 4;\r\n",
        "                } else{\r\n",
        "                    return 3;\r\n",
        "                }\r\n",
        "                }\r\n",
        "            }\r\n",
        "            if(Math.Abs(x - xright) < 1e-8) { // right boundary\r\n",
        "                if(Math.Abs(y) - radius_inlet < 1e-8) { // oxy Inlet\r\n",
        "                    return 2;//2\r\n",
        "                } else {\r\n",
        "                    if(wallBounded){\r\n",
        "                        return 4;\r\n",
        "                    } else{\r\n",
        "                        return 3;\r\n",
        "                    }\r\n",
        "                }\r\n",
        "            } else {\r\n",
        "                return 3; //3 Pressure outlet\r\n",
        "            }\r\n",
        "        });\r\n",
        "        myDb.SaveGrid(ref grd, true);\r\n",
        "\r\n",
        "        return grd;\r\n",
        "    }\r\n",
        "\r\n",
        "    public static Grid2D GenerateGrid_FullGeometry(int nCells) {\r\n",
        "        double L = 0.02;\r\n",
        "        double LRef = L;\r\n",
        "        double R_dim = L / 2;\r\n",
        "        double separation = 1.0; // nondimensional\r\n",
        "        double xleft = 0;\r\n",
        "        double xright = separation;\r\n",
        "        double radius_inlet = R_dim / LRef;\r\n",
        "        double ybot = -separation * 3; //\r\n",
        "        double ytop = separation * 3;//\r\n",
        "\r\n",
        "        // Define Grid\r\n",
        "        double[] _xNodes;\r\n",
        "        double[] _yNodes;\r\n",
        "\r\n",
        "         // X-NODES\r\n",
        "        double[] XNODES1 = GenericBlas.Linspace(0, separation, (int)(nCells / 2 + 1));\r\n",
        "        double[] XNODES2 = GenericBlas.Linspace(separation * 1, separation * 2, (int)(nCells + 1));\r\n",
        "        double[] XNODES3 = GenericBlas.Linspace(separation * 2, separation * 3, (int)(nCells / 2 + 1));\r\n",
        "        List<double> xNodesList = new List<double>();\r\n",
        "        xNodesList.AddRange(XNODES1.Take(XNODES1.Length - 1));\r\n",
        "        xNodesList.AddRange(XNODES2.Take(XNODES2.Length - 1));\r\n",
        "        xNodesList.AddRange(XNODES3);\r\n",
        "        _xNodes = xNodesList.ToArray();\r\n",
        "\r\n",
        "        // Y-NODES\r\n",
        "        double sf3 = 0.80;\r\n",
        "        var _yNodes2 = GenericBlas.Linspace(-radius_inlet, radius_inlet, nCells + 1).ToList(); // center\r\n",
        "        List<double> yNodesTop = (GenericBlas.SinLinSpacing(radius_inlet, (ytop - radius_inlet) * 2 + radius_inlet, sf3, nCells * 2 + 1).ToList()); // Nodes corresponding to the oxidizer inlet, right part\r\n",
        "        var myYnodesTop = yNodesTop.GetSubVector(0, yNodesTop.Count / 2 + 1); // Take only \"bottom side\" of node array\r\n",
        "        var myYNodesBot = myYnodesTop.CloneAs();\r\n",
        "        myYNodesBot.ScaleV(-1.0);\r\n",
        "        Array.Reverse(myYNodesBot);\r\n",
        "        List<double> list2 = new List<double>();\r\n",
        "        list2.AddRange(myYNodesBot.Take(myYNodesBot.Length - 1).ToList());\r\n",
        "        list2.AddRange(_yNodes2.Take(_yNodes2.Count() - 1).ToList());\r\n",
        "        list2.AddRange(myYnodesTop.ToList());\r\n",
        "        _yNodes = list2.ToArray();\r\n",
        "\r\n",
        "        double[] CutOut1Point1 = new double[2] { separation, separation / 2 };\r\n",
        "        double[] CutOut1Point2 = new double[2] { 0, -separation / 2 };\r\n",
        "\r\n",
        "        double[] CutOut2Point1 = new double[2] { 2 * separation, -separation / 2 };\r\n",
        "        double[] CutOut2Point2 = new double[2] { 3 * separation, separation / 2 };\r\n",
        "\r\n",
        "        var CutOut1 = new BoSSS.Platform.Utils.Geom.BoundingBox(2);\r\n",
        "        CutOut1.AddPoint(CutOut1Point1);\r\n",
        "        CutOut1.AddPoint(CutOut1Point2);\r\n",
        "\r\n",
        "        var CutOut2 = new BoSSS.Platform.Utils.Geom.BoundingBox(2);\r\n",
        "        CutOut2.AddPoint(CutOut2Point1);\r\n",
        "        CutOut2.AddPoint(CutOut2Point2);\r\n",
        "        var CutOuts = new BoSSS.Platform.Utils.Geom.BoundingBox[] { CutOut1, CutOut2 };\r\n",
        "        var grd = Grid2D.Cartesian2DGrid(_xNodes, _yNodes, CutOuts: CutOuts);\r\n",
        "\r\n",
        "        grd.EdgeTagNames.Add(1, \"Velocity_Inlet_CH4\");\r\n",
        "        grd.EdgeTagNames.Add(2, \"Velocity_Inlet_O2\");\r\n",
        "        grd.EdgeTagNames.Add(3, \"Pressure_Outlet\");\r\n",
        "        grd.EdgeTagNames.Add(4, \"Wall\");\r\n",
        "\r\n",
        "        grd.DefineEdgeTags(delegate (double[] X) {\r\n",
        "            double x = X[0];\r\n",
        "            double y = X[1];\r\n",
        "            //Edge tags\r\n",
        "            //1: Velocity inlet O_2\r\n",
        "            //2: Velocity inlet CH_4\r\n",
        "            //3: Pressure outlet\r\n",
        "            if(Math.Abs(x - separation) < 1e-8 && Math.Abs(y) - radius_inlet < 1e-8) {\r\n",
        "                return 1;\r\n",
        "            }\r\n",
        "            if(Math.Abs(x - 2 * separation) < 1e-8 && Math.Abs(y) - radius_inlet < 1e-8) {\r\n",
        "                return 2;\r\n",
        "            }\r\n",
        "            if(Math.Abs(y - radius_inlet) < 1e-8 && x > 0 && x < separation) {\r\n",
        "                return 4;\r\n",
        "            }\r\n",
        "            if(Math.Abs(y - radius_inlet) < 1e-8 && x > 2 * separation && x < 3 * separation) {\r\n",
        "                return 4;\r\n",
        "            }\r\n",
        "            if(Math.Abs(y + radius_inlet) < 1e-8 && x > 0 && x < separation) {\r\n",
        "                return 4;\r\n",
        "            }\r\n",
        "            if(Math.Abs(y + radius_inlet) < 1e-8 && x > 2 * separation && x < 3 * separation) {\r\n",
        "                return 4;\r\n",
        "            }\r\n",
        "            return 3;\r\n",
        "        }\r\n",
        "        );\r\n",
        "        myDb.SaveGrid(ref grd, true);\r\n",
        "\r\n",
        "        return grd;\r\n",
        "    }\r\n",
        "}"
      ],
      "outputs": [],
      "metadata": {
        "dotnet_interactive": {
          "language": "csharp"
        }
      }
    },
    {
      "cell_type": "code",
      "execution_count": null,
      "source": [
        "public static class BoundaryValueFactory { \r\n",
        "\r\n",
        "    public static string GetPrefixCode(double ConstVal, double inletRadius, double uInFuel, double uInAir) {\r\n",
        "        using(var stw = new System.IO.StringWriter()) {\r\n",
        "           \r\n",
        "           stw.WriteLine(\"static class BoundaryValues {\");\r\n",
        "\r\n",
        "           stw.WriteLine(\"  static public double ConstantValue(double[] X) {\");\r\n",
        "           stw.WriteLine(\"    return \"+ ConstVal +\";\");\r\n",
        "           stw.WriteLine(\"  }\");\r\n",
        "\r\n",
        "           stw.WriteLine(\"  static public double ParabolaVelocityFuel(double[] X) {\");\r\n",
        "           stw.WriteLine(\"    return  (1.0 - Math.Pow(X[1] / \"+inletRadius+\", 2)) * \"+uInFuel+\" ;\");\r\n",
        "           stw.WriteLine(\"  }\");\r\n",
        "           \r\n",
        "           stw.WriteLine(\"  static public double ParabolaVelocityAir(double[] X) {\");\r\n",
        "           stw.WriteLine(\"    return  -(1.0 - Math.Pow(X[1] / \"+inletRadius+\", 2)) * \"+uInAir+\";\");\r\n",
        "           stw.WriteLine(\"  }\");\r\n",
        "           \r\n",
        "       \r\n",
        "            stw.WriteLine(\"}\"); \r\n",
        "           return stw.ToString();\r\n",
        "        }\r\n",
        "    }\r\n",
        "\r\n",
        "    static public Formula Get_ConstantValue(double ConstVal, double inletRadius, double uInFuel, double uInAir){\r\n",
        "        return new Formula(\"BoundaryValues.ConstantValue\", AdditionalPrefixCode:GetPrefixCode(ConstVal, inletRadius, uInFuel, uInAir));\r\n",
        "    }\r\n",
        "\r\n",
        "    static public Formula Get_ParabolaVelocityFuel(double ConstVal, double inletRadius, double uInFuel, double uInAir){\r\n",
        "        return new Formula(\"BoundaryValues.ParabolaVelocityFuel\", AdditionalPrefixCode:GetPrefixCode(ConstVal, inletRadius, uInFuel, uInAir));\r\n",
        "    }\r\n",
        "    static public Formula Get_ParabolaVelocityAir(double ConstVal, double inletRadius, double uInFuel, double uInAir){\r\n",
        "        return new Formula(\"BoundaryValues.ParabolaVelocityAir\", AdditionalPrefixCode:GetPrefixCode(ConstVal, inletRadius, uInFuel, uInAir));\r\n",
        "    }\r\n",
        "}"
      ],
      "outputs": [],
      "metadata": {
        "dotnet_interactive": {
          "language": "csharp"
        }
      }
    },
    {
      "cell_type": "markdown",
      "source": [
        "A base control file, where basic configuration of the CounterDiffusionFlame is defined."
      ],
      "metadata": {}
    },
    {
      "cell_type": "code",
      "execution_count": null,
      "source": [
        "static XNSEC_Control GiveMeTheCtrlFile(int dg, int nCells, bool isMF, double massFuelIn, double massAirIn, bool parabolicVelocityProfile, bool UsefullGeometry, bool wallBounded) {\r\n",
        "    var CC = new ChemicalConstants();\r\n",
        "\r\n",
        "    var C = isMF ? new XNSEC_MF_Control() : new XNSEC_Control();\r\n",
        "\r\n",
        "    C.NumberOfChemicalSpecies = 4; \r\n",
        "    C.SetDGdegree(dg); //\r\n",
        "    if(UsefullGeometry) {\r\n",
        "        C.SetGrid(GridFactory.GenerateGrid_FullGeometry(nCells));  //\r\n",
        "    } else {\r\n",
        "        C.SetGrid(GridFactory.GenerateGrid(nCells, wallBounded));  //\r\n",
        "    }\r\n",
        "\r\n",
        "    C.MatParamsMode = MaterialParamsMode.Sutherland;  //\r\n",
        "    // Problem Definition\r\n",
        "    //===================\r\n",
        "    double L = 0.02; // separation between the two inlets, meters\r\n",
        "    double TemperatureInFuel = 300;  //\r\n",
        "    double TemperatureInOxidizer = 300; //\r\n",
        "    double AtmPressure = 101325; // Pa\r\n",
        "    double[] FuelInletConcentrations = new double[] { 0.2, 0.0, 0.0, 0.0, 0.8 };\r\n",
        "    double[] OxidizerInletConcentrations = new double[] { 0.0, 0.23, 0.0, 0.0, 0.77 }; //\r\n",
        "    double[] MWs = new double[] { CC.MW_CH4, CC.MW_O2, CC.MW_CO2, CC.MW_H2O, CC.MW_N2 };\r\n",
        "\r\n",
        "    double mwFuel = CC.getAvgMW(MWs, FuelInletConcentrations);\r\n",
        "    double mwAir = CC.getAvgMW(MWs, OxidizerInletConcentrations);\r\n",
        "    double densityAirIn = AtmPressure * mwAir / (CC.R_gas * TemperatureInOxidizer * 1000); // kg / m3\r\n",
        "    double densityFuelIn = AtmPressure * mwFuel / (CC.R_gas * TemperatureInFuel * 1000); // kg / m3.\r\n",
        "    double uInFuel = massFuelIn / densityFuelIn; //\r\n",
        "    double uInAir = massAirIn / densityAirIn; //\r\n",
        "\r\n",
        "    Console.WriteLine(\"VelocityFuel\" + uInFuel);\r\n",
        "    Console.WriteLine(\"VelocityAir\" + uInAir);\r\n",
        "\r\n",
        "    // Reference values\r\n",
        "    //===================\r\n",
        "    // Basic units to be used: Kg, m, s, mol, pa,\r\n",
        "    double TRef = TemperatureInOxidizer;// Reference temperature  is the inlet temperature, (K)\r\n",
        "    double pRef = AtmPressure; // Pa\r\n",
        "    double uRef = Math.Max(uInFuel, uInAir); // m/s\r\n",
        "    double LRef = L;\r\n",
        "    C.GravityDirection = new double[] { 0.0, 0.0, 0.0 }; //No gravity.\r\n",
        "\r\n",
        "    // Solver configuration\r\n",
        "    // =======================\r\n",
        "\r\n",
        "    C.NonLinearSolver.ConvergenceCriterion = 1e-8;\r\n",
        "    C.LinearSolver.ConvergenceCriterion = 1e-10;\r\n",
        "\r\n",
        "    C.NonLinearSolver.verbose = true;\r\n",
        "    C.NonLinearSolver.SolverCode = NonLinearSolverCode.Newton;\r\n",
        "    C.NonLinearSolver.MaxSolverIterations = 10;\r\n",
        "    C.LinearSolver = LinearSolverCode.direct_pardiso.GetConfig();\r\n",
        "\r\n",
        "    C.TimesteppingMode = AppControl._TimesteppingMode.Steady;\r\n",
        "    C.saveperiod = 1;\r\n",
        "    C.PenaltyViscMomentum = 1.0;\r\n",
        "    C.PenaltyHeatConduction = 1.0;\r\n",
        "    C.YFuelInlet = FuelInletConcentrations[0];\r\n",
        "    C.YOxInlet = OxidizerInletConcentrations[1];\r\n",
        "    C.FuelInletConcentrations = FuelInletConcentrations;\r\n",
        "    C.OxidizerInletConcentrations = OxidizerInletConcentrations;\r\n",
        "    C.TFuelInlet = 1.0;\r\n",
        "    C.TOxInlet = 1.0;\r\n",
        "    C.PhysicalParameters.IncludeConvection = true;\r\n",
        "    // Chemical related parameters\r\n",
        "    double s = (CC.nu_O2 * CC.MW_O2) / (CC.nu_CH4 * CC.MW_CH4);\r\n",
        "    C.phi = s * C.YFuelInlet / C.YOxInlet;\r\n",
        "    C.zSt = 1.0 / (1.0 + C.phi);\r\n",
        "    var MLC = new MaterialLawCombustion(300, new double[] { }, C.MatParamsMode, C.rhoOne, true, 1.0, 1, 1, C.YOxInlet, C.YFuelInlet, C.zSt, CC, 0.75);\r\n",
        "    var ThermoProperties = new ThermodynamicalProperties();\r\n",
        "\r\n",
        "\r\n",
        "\r\n",
        "    bool easymode = false;\r\n",
        "\r\n",
        "    if (easymode){\r\n",
        "    C.rhoOne = true;\r\n",
        "    C.cpOne = true;\r\n",
        "    C.MatParamsMode = MaterialParamsMode.Constant; \r\n",
        "\r\n",
        "    } \r\n",
        "\r\n",
        "\r\n",
        "\r\n",
        "\r\n",
        "\r\n",
        "\r\n",
        "    //==========================\r\n",
        "    //Derived reference values\r\n",
        "    //==========================\r\n",
        "    C.uRef = uRef; // Reference velocity\r\n",
        "    C.LRef = LRef; // reference length\r\n",
        "    C.pRef = AtmPressure; // reference pressure\r\n",
        "    C.TRef = TemperatureInFuel;// reference temperature\r\n",
        "    C.MWRef = MLC.getAvgMW(MWs, C.OxidizerInletConcentrations); // Air mean molecular weight\r\n",
        "    C.rhoRef = C.pRef * C.MWRef / (8.314 * C.TRef * 1000); // Kg/m3. ok ;\r\n",
        "    C.cpRef = ThermoProperties.Calculate_Cp_Mixture(new double[] { 0.23, 0.77 }, new string[] { \"O2\", \"N2\" }, 300); // 1.219185317353029;// Representative value, KJ/Kg K ========> 1.31 for the one-step kinetic model\r\n",
        "    C.muRef = MLC.getViscosityDim(300);\r\n",
        "    C.MolarMasses = new double[] { C.CC.MW_CH4, C.CC.MW_O2, C.CC.MW_CO2, C.CC.MW_H2O, C.CC.MW_N2 };\r\n",
        "    C.MolarMasses.ScaleV(1.0 / C.MWRef); //NonDimensionalized Molar masses\r\n",
        "\r\n",
        "    double heatRelease_Ref = (C.TRef * C.cpRef);\r\n",
        "    C.HeatRelease = C.CC.HeatReleaseMass / heatRelease_Ref;\r\n",
        "    C.B = CC.PreExponentialFactor;\r\n",
        "\r\n",
        "    C.StoichiometricCoefficients = new double[] { -1, -2, 1, 2, 0 };\r\n",
        "\r\n",
        "    C.Damk = C.rhoRef * C.LRef * C.B / (C.uRef * C.MWRef);\r\n",
        "    C.Reynolds = C.rhoRef * C.uRef * C.LRef / C.muRef;\r\n",
        "    C.Prandtl = 1.0;//0.75;////////////////////0.75;\r\n",
        "    C.Schmidt = C.Prandtl; // Because Lewis number  is assumed as 1.0  (Le = Pr/Sc)\r\n",
        "    // C.Lewis = new double[] { 0.97, 1.11, 1.39, 0.83, 1.0 };\r\n",
        "    C.Lewis = new double[] { 1.0, 1.0, 1.0, 1.0, 1.0 };\r\n",
        "\r\n",
        "    double g = 9.8; // m/s2\r\n",
        "    C.Froude = Math.Sqrt(uRef * uRef / (C.LRef * g)); // Not used\r\n",
        "    C.T_ref_Sutherland = 300; //////// Check this\r\n",
        "    C.ReactionRateConstants = new double[] { C.Damk, CC.Ta / TRef, 1.0, 1.0 }; // NOTE! activation temperature is also nondimensional\r\n",
        "    //==========================\r\n",
        "    // Initial conditions\r\n",
        "    //==========================\r\n",
        "    double Radius = 0.5;\r\n",
        "    C.AddInitialValue(VariableNames.VelocityX, BoundaryValueFactory.Get_ConstantValue(0.0, Radius, uInFuel / C.uRef, uInAir / C.uRef));\r\n",
        "    C.AddInitialValue(VariableNames.VelocityY, BoundaryValueFactory.Get_ConstantValue(0.0, Radius, uInFuel / C.uRef, uInAir / C.uRef));\r\n",
        "    C.AddInitialValue(VariableNames.Pressure, BoundaryValueFactory.Get_ConstantValue(0.0, Radius, uInFuel / C.uRef, uInAir / C.uRef));\r\n",
        "    //==========================\r\n",
        "    // Boundary conditions\r\n",
        "    //==========================\r\n",
        "    double dummy = 0;\r\n",
        "    if(parabolicVelocityProfile) {\r\n",
        "        C.AddBoundaryValue(\"Velocity_Inlet_CH4\", VariableNames.Velocity_d(0), BoundaryValueFactory.Get_ParabolaVelocityFuel(dummy, Radius, uInFuel / C.uRef, dummy));\r\n",
        "        C.AddBoundaryValue(\"Velocity_Inlet_O2\", VariableNames.Velocity_d(0), BoundaryValueFactory.Get_ParabolaVelocityAir(dummy, Radius, dummy, uInAir / C.uRef));\r\n",
        "    } else { // Plug Flow\r\n",
        "        C.AddBoundaryValue(\"Velocity_Inlet_CH4\", VariableNames.Velocity_d(0), BoundaryValueFactory.Get_ConstantValue(uInFuel / C.uRef, dummy, dummy, dummy));\r\n",
        "        C.AddBoundaryValue(\"Velocity_Inlet_O2\", VariableNames.Velocity_d(0), BoundaryValueFactory.Get_ConstantValue((-1) * uInAir / C.uRef, dummy, dummy, dummy));\r\n",
        "    }\r\n",
        "\r\n",
        "    C.AddBoundaryValue(\"Velocity_Inlet_CH4\", VariableNames.Velocity_d(1), BoundaryValueFactory.Get_ConstantValue(0.0, dummy, dummy, dummy));\r\n",
        "    C.AddBoundaryValue(\"Velocity_Inlet_O2\", VariableNames.Velocity_d(1), BoundaryValueFactory.Get_ConstantValue(0.0, dummy, dummy, dummy));\r\n",
        "    if(wallBounded){\r\n",
        "        C.AddBoundaryValue(\"Wall\", VariableNames.VelocityX, BoundaryValueFactory.Get_ConstantValue(0.0, dummy, dummy, dummy));\r\n",
        "        C.AddBoundaryValue(\"Wall\", VariableNames.VelocityY, BoundaryValueFactory.Get_ConstantValue(0.0, dummy, dummy, dummy));\r\n",
        "    }\r\n",
        "    return C;\r\n",
        "}"
      ],
      "outputs": [],
      "metadata": {
        "dotnet_interactive": {
          "language": "csharp"
        }
      }
    },
    {
      "cell_type": "markdown",
      "source": [
        "## Starting the MixtureFraction simulation\r\n",
        "Configuration  for the simulation using the mixture fraction approach, where an infinite reaction rate is assumed. Used to find adequate starting solution for the full problem."
      ],
      "metadata": {}
    },
    {
      "cell_type": "code",
      "execution_count": null,
      "source": [
        "static XNSEC_Control GiveMeTheMixtureFractionCtrlFile(int dg, int nCells, double massFuelIn, double massAirIn, bool parabolicVelocityProfile, int multiplier, bool useFullGeometry, bool wallBounded){\r\n",
        "    var C_MixtureFraction = GiveMeTheCtrlFile(dg, nCells, true,massFuelIn*multiplier, massAirIn*multiplier, parabolicVelocityProfile, useFullGeometry,  wallBounded );\r\n",
        "    C_MixtureFraction.physicsMode = PhysicsMode.MixtureFraction;\r\n",
        "    C_MixtureFraction.ProjectName = \"CounterDifFlame\";\r\n",
        "    string name = C_MixtureFraction.ProjectName + \"P\" + dg + \"K\" + nCells + \"Multiplier\" +multiplier;\r\n",
        "    C_MixtureFraction.SessionName = \"FS_\" + name;\r\n",
        "\r\n",
        "    C_MixtureFraction.UseSelfMadeTemporalOperator = false;\r\n",
        "    C_MixtureFraction.ChemicalReactionActive = false;\r\n",
        "    C_MixtureFraction.physicsMode = PhysicsMode.MixtureFraction;\r\n",
        "    C_MixtureFraction.NonLinearSolver.MaxSolverIterations = 50; \r\n",
        "\r\n",
        "    // Boundary and initial conditions\r\n",
        "    double dummy = -11111111;\r\n",
        "    C_MixtureFraction.AddInitialValue(VariableNames.MixtureFraction,BoundaryValueFactory.Get_ConstantValue(1.0,dummy,dummy , dummy));\r\n",
        "    C_MixtureFraction.AddBoundaryValue(\"Velocity_Inlet_CH4\", VariableNames.MixtureFraction, BoundaryValueFactory.Get_ConstantValue(1.0,dummy,dummy , dummy));\r\n",
        "    C_MixtureFraction.AddBoundaryValue(\"Velocity_Inlet_O2\", VariableNames.MixtureFraction, BoundaryValueFactory.Get_ConstantValue(0.0,dummy,dummy , dummy));\r\n",
        "\r\n",
        "\r\n",
        "    double radius_inlet = 0.5; // radius is 1/2 from length separation\r\n",
        "    var troubledPoints = new List<double[]>();\r\n",
        "    if(useFullGeometry){\r\n",
        "        troubledPoints.Add(new double[]{2, +radius_inlet });\r\n",
        "        troubledPoints.Add(new double[]{2, -radius_inlet });\r\n",
        "        troubledPoints.Add(new double[]{1, +radius_inlet });\r\n",
        "        troubledPoints.Add(new double[]{1, -radius_inlet });\r\n",
        "    } else {\r\n",
        "        troubledPoints.Add(new double[]{0, +radius_inlet });\r\n",
        "        troubledPoints.Add(new double[]{0, -radius_inlet });\r\n",
        "        troubledPoints.Add(new double[]{1, +radius_inlet });\r\n",
        "        troubledPoints.Add(new double[]{1, -radius_inlet });\r\n",
        "    }\r\n",
        "    \r\n",
        "    C_MixtureFraction.AdaptiveMeshRefinement = true;\r\n",
        "    C_MixtureFraction.AMR_startUpSweeps = 2;\r\n",
        "    int NoOfPseudoTimesteps = 3;\r\n",
        "    C_MixtureFraction.TimesteppingMode = BoSSS.Solution.Control.AppControl._TimesteppingMode.Steady; \r\n",
        "    C_MixtureFraction.NoOfTimesteps = NoOfPseudoTimesteps ;\r\n",
        "\r\n",
        "    C_MixtureFraction.activeAMRlevelIndicators.Add( new BoSSS.Application.XNSEC.AMR_onProblematicPoints(troubledPoints,C_MixtureFraction.AMR_startUpSweeps) );  \r\n",
        "    C_MixtureFraction.activeAMRlevelIndicators.Add( new BoSSS.Application.XNSEC.AMR_onFlameSheet(C_MixtureFraction.zSt,NoOfPseudoTimesteps) );\r\n",
        "    return C_MixtureFraction;\r\n",
        "}"
      ],
      "outputs": [],
      "metadata": {
        "dotnet_interactive": {
          "language": "csharp"
        }
      }
    },
    {
      "cell_type": "markdown",
      "source": [
        "## Send and run jobs"
      ],
      "metadata": {}
    },
    {
      "cell_type": "code",
      "execution_count": null,
      "source": [
        "int i = 1;\r\n",
        "Type solver_MF = typeof(BoSSS.Application.XNSEC.XNSEC_MixtureFraction);\r\n",
        "var C_MixtureFraction = GiveMeTheMixtureFractionCtrlFile(dg, nCells, InitialMassFuelIn, InitialMassAirIn,  parabolicVelocityProfile,i,useFullGeometry, wallBounded);\r\n",
        "string jobName       = C_MixtureFraction.SessionName;\r\n",
        "var oneJob           = new Job(jobName, solver_MF);\r\n",
        "oneJob.NumberOfMPIProcs = numberOfMpiCores;\r\n",
		"oneJob.NumberOfThreads = 1;\r\n",
        "oneJob.SetControlObject(C_MixtureFraction);\r\n",
        "oneJob.Activate(myBatch); "
      ],
      "outputs": [],
      "metadata": {
        "dotnet_interactive": {
          "language": "csharp"
        }
      }
    },
    {
      "cell_type": "code",
      "execution_count": null,
      "source": [
        "BoSSSshell.WorkflowMgm.BlockUntilAllJobsTerminate();"
      ],
      "outputs": [],
      "metadata": {
        "dotnet_interactive": {
          "language": "csharp"
        }
      }
    },
    {
      "cell_type": "markdown",
      "source": [
        "## Starting the finite-rate chemistry simulation\r\n",
        "\r\n",
        "Now that the simulation for an \"infinite\" reaction rate is done, we use it for initializing the system with finite reaction rate. The goal is to obtain solutions of the counter difussion flame for increasing strain values. We start with a low strain (bigger Dahmkoehler number), which is increased until extintion is (hopefully) found"
      ],
      "metadata": {}
    },
    {
      "cell_type": "code",
      "execution_count": null,
      "source": [
        "static XNSEC_Control GiveMeTheFullCtrlFile(int dg, int nCells, double massFuelIn, double massAirIn, ISessionInfo SessionToRestart, bool parabolicVelocityProfile, bool chemReactionActive, bool useFullGeometry, bool wallBounded, double mult, int counter) {\r\n",
        "    var C_OneStep = GiveMeTheCtrlFile(dg, nCells, false, massFuelIn, massAirIn, parabolicVelocityProfile, useFullGeometry, wallBounded);\r\n",
        "    C_OneStep.physicsMode = PhysicsMode.Combustion;\r\n",
        "    C_OneStep.ProjectName = \"CounterDifFlame\";\r\n",
        "    string name = C_OneStep.ProjectName + \"P\" + dg + \"K\" + nCells + \"mult\" + mult+\"_c\"+counter ;\r\n",
        "    C_OneStep.SessionName = \"Full_\" + name;\r\n",
        "    C_OneStep.VariableOneStepParameters = false;\r\n",
        "\r\n",
        "    // C_OneStep.Tags.Add(\"VelocityMultiplier\" + mult);\r\n",
        "    C_OneStep.Tags.Add( mult.ToString());\r\n",
        "    C_OneStep.cpOne = true;\r\n",
        "    C_OneStep.dummycounter = counter;\r\n",
        "    C_OneStep.UseSelfMadeTemporalOperator = false;\r\n",
        "    C_OneStep.myThermalWallType = SIPDiffusionTemperature.ThermalWallType.Adiabatic;\r\n",
        "    C_OneStep.Timestepper_LevelSetHandling = BoSSS.Solution.XdgTimestepping.LevelSetHandling.None;\r\n",
        "    C_OneStep.UseMixtureFractionsForCombustionInitialization = true;\r\n",
        "\r\n",
        "    C_OneStep.LinearSolver = LinearSolverCode.exp_Kcycle_schwarz.GetConfig();\r\n",
        "    C_OneStep.LinearSolver.NoOfMultigridLevels = 5;\r\n",
        "    C_OneStep.ChemicalReactionActive = chemReactionActive;\r\n",
        "    C_OneStep.AdaptiveMeshRefinement = true;\r\n",
        "    C_OneStep.NoOfTimesteps = 1; // The steady solution will be calculated again and do AMR\r\n",
        "    C_OneStep.AMR_startUpSweeps = 1;\r\n",
        "    if(C_OneStep.ChemicalReactionActive){\r\n",
        "        C_OneStep.activeAMRlevelIndicators.Add(new AMR_onReactiveZones(C_OneStep.MolarMasses, 3, 0.7));\r\n",
        "        C_OneStep.activeAMRlevelIndicators.Add(new AMR_BasedOnFieldGradient(3, 0.75, VariableNames.Temperature));\r\n",
        "    }\r\n",
        "    // C_OneStep.activeAMRlevelIndicators.Add(new AMR_BasedOnPerssonSensor(VariableNames.Temperature, 3));\r\n",
        "    // C_OneStep.NonLinearSolver.MaxSolverIterations = 10;\r\n",
        "\r\n",
        "    // Boundary conditions\r\n",
        "\r\n",
        "    double dummy = 0;\r\n",
        "    if(SessionToRestart != null) {\r\n",
        "        C_OneStep.SetRestart(SessionToRestart);\r\n",
        "    } else {\r\n",
        "        C_OneStep.AddInitialValue(VariableNames.Temperature, BoundaryValueFactory.Get_ConstantValue(1.0, dummy, dummy, dummy));\r\n",
        "        C_OneStep.AddInitialValue(VariableNames.MassFraction0, BoundaryValueFactory.Get_ConstantValue(0.0, dummy, dummy, dummy));\r\n",
        "        C_OneStep.AddInitialValue(VariableNames.MassFraction1, BoundaryValueFactory.Get_ConstantValue(0.23, dummy, dummy, dummy));\r\n",
        "        C_OneStep.AddInitialValue(VariableNames.MassFraction2, BoundaryValueFactory.Get_ConstantValue(0.0, dummy, dummy, dummy));\r\n",
        "        C_OneStep.AddInitialValue(VariableNames.MassFraction3, BoundaryValueFactory.Get_ConstantValue(0.0, dummy, dummy, dummy));\r\n",
        "    }\r\n",
        "    if(wallBounded){\r\n",
        "        C_OneStep.AddBoundaryValue(\"Wall\", VariableNames.Temperature, BoundaryValueFactory.Get_ConstantValue(1.0, dummy, dummy, dummy));\r\n",
        "    }\r\n",
        "    C_OneStep.AddBoundaryValue(\"Velocity_Inlet_CH4\", VariableNames.Temperature, BoundaryValueFactory.Get_ConstantValue(1.0, dummy, dummy, dummy));\r\n",
        "    C_OneStep.AddBoundaryValue(\"Velocity_Inlet_CH4\", VariableNames.MassFraction0, BoundaryValueFactory.Get_ConstantValue(C_OneStep.FuelInletConcentrations[0], dummy, dummy, dummy));\r\n",
        "    C_OneStep.AddBoundaryValue(\"Velocity_Inlet_CH4\", VariableNames.MassFraction1, BoundaryValueFactory.Get_ConstantValue(C_OneStep.FuelInletConcentrations[1], dummy, dummy, dummy));\r\n",
        "    C_OneStep.AddBoundaryValue(\"Velocity_Inlet_CH4\", VariableNames.MassFraction2, BoundaryValueFactory.Get_ConstantValue(C_OneStep.FuelInletConcentrations[2], dummy, dummy, dummy));\r\n",
        "    C_OneStep.AddBoundaryValue(\"Velocity_Inlet_CH4\", VariableNames.MassFraction3, BoundaryValueFactory.Get_ConstantValue(C_OneStep.FuelInletConcentrations[3], dummy, dummy, dummy));\r\n",
        "\r\n",
        "    C_OneStep.AddBoundaryValue(\"Velocity_Inlet_O2\", VariableNames.Temperature, BoundaryValueFactory.Get_ConstantValue(1.0, dummy, dummy, dummy));\r\n",
        "    C_OneStep.AddBoundaryValue(\"Velocity_Inlet_O2\", VariableNames.MassFraction0, BoundaryValueFactory.Get_ConstantValue(C_OneStep.OxidizerInletConcentrations[0], dummy, dummy, dummy));\r\n",
        "    C_OneStep.AddBoundaryValue(\"Velocity_Inlet_O2\", VariableNames.MassFraction1, BoundaryValueFactory.Get_ConstantValue(C_OneStep.OxidizerInletConcentrations[1], dummy, dummy, dummy));\r\n",
        "    C_OneStep.AddBoundaryValue(\"Velocity_Inlet_O2\", VariableNames.MassFraction2, BoundaryValueFactory.Get_ConstantValue(C_OneStep.OxidizerInletConcentrations[2], dummy, dummy, dummy));\r\n",
        "    C_OneStep.AddBoundaryValue(\"Velocity_Inlet_O2\", VariableNames.MassFraction3, BoundaryValueFactory.Get_ConstantValue(C_OneStep.OxidizerInletConcentrations[3], dummy, dummy, dummy));\r\n",
        "    return C_OneStep;\r\n",
        "}"
      ],
      "outputs": [],
      "metadata": {
        "dotnet_interactive": {
          "language": "csharp"
        }
      }
    },
    {
      "cell_type": "code",
      "execution_count": null,
      "source": [
        "Type solver = typeof(BoSSS.Application.XNSEC.XNSEC);"
      ],
      "outputs": [],
      "metadata": {
        "dotnet_interactive": {
          "language": "csharp"
        }
      }
    },
    {
      "cell_type": "markdown",
      "source": [
        "Calculate the full solution for the initial value"
      ],
      "metadata": {}
    },
    {
      "cell_type": "code",
      "execution_count": null,
      "source": [
        "var sess = myDb.Sessions[0]; // pick last session\r\n",
        "var C = GiveMeTheFullCtrlFile(dg,nCells,InitialMassFuelIn,InitialMassAirIn, sess , parabolicVelocityProfile, chemicalReactionActive,useFullGeometry, wallBounded, 1.0, 0 );\r\n",
        "string jobName       = C.SessionName ;\r\n",
        "Console.WriteLine(jobName);\r\n",
        "var oneJob           = new Job(jobName, solver);\r\n",
        "oneJob.NumberOfMPIProcs = numberOfMpiCores;    \r\n",
		"oneJob.NumberOfThreads = 1;\r\n",
        "oneJob.SetControlObject(C);\r\n",
        "oneJob.Activate(myBatch); \r\n",
        "BoSSSshell.WorkflowMgm.BlockUntilAllJobsTerminate();\r\n",
        "\r\n"
      ],
      "outputs": [],
      "metadata": {
        "dotnet_interactive": {
          "language": "csharp"
        }
      }
    },
    {
      "cell_type": "code",
      "execution_count": null,
      "source": [
        "myDb.Sessions[1].Delete(true); // delete mixture fraction calculation"
      ],
      "outputs": [],
      "metadata": {
        "dotnet_interactive": {
          "language": "csharp"
        }
      }
    },
    {
      "cell_type": "code",
      "execution_count": null,
      "source": [
        "myDb.Sessions"
      ],
      "outputs": [
        {
          "output_type": "display_data",
          "data": {
            "text/plain": [
              "#0: CounterFlowFlame123\tFull_CounterDifFlameP2K12mult1_c0\t07/30/2021 15:22:31\t3f79a115...\r\n"
            ]
          },
          "metadata": {}
        }
      ],
      "metadata": {
        "dotnet_interactive": {
          "language": "csharp"
        }
      }
    },
    {
      "cell_type": "markdown",
      "source": [
        "Gradually increase  inlet velocity"
      ],
      "metadata": {}
    },
    {
      "cell_type": "code",
      "execution_count": null,
      "source": [
        "double finalMultiplier = 10;\r\n",
        "double lastSuccesfulMultiplier = 1.0;\r\n",
        "double initialMultiplier = 1.0;\r\n",
        "double mult = finalMultiplier; // Start with the objective multiplier\r\n",
        "int counter = 1;\r\n",
        "\r\n",
        "while(mult <= finalMultiplier) {\r\n",
        "    double massfuelIn = InitialMassFuelIn * mult;\r\n",
        "    double massAirIn = InitialMassAirIn * mult; \r\n",
        "    var sess = myDb.Sessions.Where( s => Convert.ToDouble(s.Tags.ToArray()[0]) == lastSuccesfulMultiplier).FirstOrDefault() ;      // pick last sucessful session for restart\r\n",
        "    var C = GiveMeTheFullCtrlFile(dg,nCells,massfuelIn,massAirIn, sess, parabolicVelocityProfile, chemicalReactionActive, useFullGeometry, wallBounded, mult, counter );\r\n",
        "    string jobName       = C.SessionName;\r\n",
        "    Console.WriteLine(jobName);\r\n",
        "    var oneJob           = new Job(jobName, solver);\r\n",
        "    oneJob.NumberOfMPIProcs = numberOfMpiCores;    \r\n",
		"    oneJob.NumberOfThreads = 1;\r\n",
        "    oneJob.SetControlObject(C);\r\n",
        "    oneJob.Activate(myBatch); \r\n",
        "    BoSSSshell.WorkflowMgm.BlockUntilAllJobsTerminate();\r\n",
        "    var status = oneJob.GetStatus();\r\n",
        "    \r\n",
        "   \r\n",
        "    if(status == JobStatus.FinishedSuccessful) {\r\n",
        "        lastSuccesfulMultiplier = mult;\r\n",
        "        mult = finalMultiplier;\r\n",
        "    } else {\r\n",
        "        mult = (mult - lastSuccesfulMultiplier) / 2 + lastSuccesfulMultiplier;\r\n",
        "    }\r\n",
        "    counter++;\r\n",
        "}"
      ],
      "outputs": [
        {
          "output_type": "display_data",
          "data": {
            "text/plain": [
              "System.Collections.Generic.List`1[System.Double]\r\n"
            ]
          },
          "metadata": {}
        },
        {
          "output_type": "display_data",
          "data": {
            "text/plain": [
              "Grid Edge Tags changed.\r\n"
            ]
          },
          "metadata": {}
        },
        {
          "output_type": "display_data",
          "data": {
            "text/plain": [
              "VelocityFuel0.2426418525959607\r\n"
            ]
          },
          "metadata": {}
        },
        {
          "output_type": "display_data",
          "data": {
            "text/plain": [
              "VelocityAir0.6147806069578092\r\n"
            ]
          },
          "metadata": {}
        },
        {
          "output_type": "display_data",
          "data": {
            "text/plain": [
              "Full_CounterDifFlameP2K12mult10_c1\r\n"
            ]
          },
          "metadata": {}
        },
        {
          "output_type": "display_data",
          "data": {
            "text/plain": [
              "Deploying job Full_CounterDifFlameP2K12mult10_c1 ... \r\n"
            ]
          },
          "metadata": {}
        },
        {
          "output_type": "display_data",
          "data": {
            "text/plain": [
              "Deploying executables and additional files ...\r\n"
            ]
          },
          "metadata": {}
        },
        {
          "output_type": "display_data",
          "data": {
            "text/plain": [
              "Deployment directory: \\\\hpccluster\\hpccluster-scratch\\gutierrez\\binaries\\CounterFlowFlame123-XNSEC2021Jul30_190250\r\n"
            ]
          },
          "metadata": {}
        },
        {
          "output_type": "display_data",
          "data": {
            "text/plain": [
              "copied 52 files.\r\n"
            ]
          },
          "metadata": {}
        },
        {
          "output_type": "display_data",
          "data": {
            "text/plain": [
              "   written file: control.obj\r\n"
            ]
          },
          "metadata": {}
        },
        {
          "output_type": "display_data",
          "data": {
            "text/plain": [
              "   copied 'amd64' runtime.\r\n"
            ]
          },
          "metadata": {}
        },
        {
          "output_type": "display_data",
          "data": {
            "text/plain": [
              "deployment finished.\r\n"
            ]
          },
          "metadata": {}
        },
        {
          "output_type": "display_data",
          "data": {
            "text/plain": [
              "\r\n"
            ]
          },
          "metadata": {}
        },
        {
          "output_type": "display_data",
          "data": {
            "text/plain": [
              " ------------ MSHPC FailedOrCanceled; original Failed\r\n"
            ]
          },
          "metadata": {}
        },
        {
          "output_type": "display_data",
          "data": {
            "text/plain": [
              "All jobs finished.\r\n"
            ]
          },
          "metadata": {}
        },
        {
          "output_type": "display_data",
          "data": {
            "text/plain": [
              "Note: Job was deployed (1) number of times, all failed.\r\n"
            ]
          },
          "metadata": {}
        },
        {
          "output_type": "display_data",
          "data": {
            "text/plain": [
              "Hint: want to re-activate the job.\r\n"
            ]
          },
          "metadata": {}
        },
        {
          "output_type": "display_data",
          "data": {
            "text/plain": [
              "System.Collections.Generic.List`1[System.Double]\r\n"
            ]
          },
          "metadata": {}
        },
        {
          "output_type": "display_data",
          "data": {
            "text/plain": [
              "Grid Edge Tags changed.\r\n"
            ]
          },
          "metadata": {}
        },
        {
          "output_type": "display_data",
          "data": {
            "text/plain": [
              "VelocityFuel0.1334530189277784\r\n"
            ]
          },
          "metadata": {}
        },
        {
          "output_type": "display_data",
          "data": {
            "text/plain": [
              "VelocityAir0.33812933382679505\r\n"
            ]
          },
          "metadata": {}
        },
        {
          "output_type": "display_data",
          "data": {
            "text/plain": [
              "Full_CounterDifFlameP2K12mult5.5_c2\r\n"
            ]
          },
          "metadata": {}
        },
        {
          "output_type": "display_data",
          "data": {
            "text/plain": [
              "Deploying job Full_CounterDifFlameP2K12mult5.5_c2 ... \r\n"
            ]
          },
          "metadata": {}
        },
        {
          "output_type": "display_data",
          "data": {
            "text/plain": [
              "Deploying executables and additional files ...\r\n"
            ]
          },
          "metadata": {}
        },
        {
          "output_type": "display_data",
          "data": {
            "text/plain": [
              "Deployment directory: \\\\hpccluster\\hpccluster-scratch\\gutierrez\\binaries\\CounterFlowFlame123-XNSEC2021Jul30_190626\r\n"
            ]
          },
          "metadata": {}
        },
        {
          "output_type": "display_data",
          "data": {
            "text/plain": [
              "copied 52 files.\r\n"
            ]
          },
          "metadata": {}
        },
        {
          "output_type": "display_data",
          "data": {
            "text/plain": [
              "   written file: control.obj\r\n"
            ]
          },
          "metadata": {}
        },
        {
          "output_type": "display_data",
          "data": {
            "text/plain": [
              "   copied 'amd64' runtime.\r\n"
            ]
          },
          "metadata": {}
        },
        {
          "output_type": "display_data",
          "data": {
            "text/plain": [
              "deployment finished.\r\n"
            ]
          },
          "metadata": {}
        },
        {
          "output_type": "display_data",
          "data": {
            "text/plain": [
              "\r\n"
            ]
          },
          "metadata": {}
        },
        {
          "output_type": "display_data",
          "data": {
            "text/plain": [
              " ------------ MSHPC FailedOrCanceled; original Failed\r\n"
            ]
          },
          "metadata": {}
        },
        {
          "output_type": "display_data",
          "data": {
            "text/plain": [
              "All jobs finished.\r\n"
            ]
          },
          "metadata": {}
        },
        {
          "output_type": "display_data",
          "data": {
            "text/plain": [
              "Note: Job was deployed (1) number of times, all failed.\r\n"
            ]
          },
          "metadata": {}
        },
        {
          "output_type": "display_data",
          "data": {
            "text/plain": [
              "Hint: want to re-activate the job.\r\n"
            ]
          },
          "metadata": {}
        },
        {
          "output_type": "display_data",
          "data": {
            "text/plain": [
              "System.Collections.Generic.List`1[System.Double]\r\n"
            ]
          },
          "metadata": {}
        },
        {
          "output_type": "display_data",
          "data": {
            "text/plain": [
              "Grid Edge Tags changed.\r\n"
            ]
          },
          "metadata": {}
        },
        {
          "output_type": "display_data",
          "data": {
            "text/plain": [
              "VelocityFuel0.07885860209368722\r\n"
            ]
          },
          "metadata": {}
        },
        {
          "output_type": "display_data",
          "data": {
            "text/plain": [
              "VelocityAir0.19980369726128802\r\n"
            ]
          },
          "metadata": {}
        },
        {
          "output_type": "display_data",
          "data": {
            "text/plain": [
              "Full_CounterDifFlameP2K12mult3.25_c3\r\n"
            ]
          },
          "metadata": {}
        },
        {
          "output_type": "display_data",
          "data": {
            "text/plain": [
              "Deploying job Full_CounterDifFlameP2K12mult3.25_c3 ... \r\n"
            ]
          },
          "metadata": {}
        },
        {
          "output_type": "display_data",
          "data": {
            "text/plain": [
              "Deploying executables and additional files ...\r\n"
            ]
          },
          "metadata": {}
        },
        {
          "output_type": "display_data",
          "data": {
            "text/plain": [
              "Deployment directory: \\\\hpccluster\\hpccluster-scratch\\gutierrez\\binaries\\CounterFlowFlame123-XNSEC2021Jul30_191058\r\n"
            ]
          },
          "metadata": {}
        },
        {
          "output_type": "display_data",
          "data": {
            "text/plain": [
              "copied 52 files.\r\n"
            ]
          },
          "metadata": {}
        },
        {
          "output_type": "display_data",
          "data": {
            "text/plain": [
              "   written file: control.obj\r\n"
            ]
          },
          "metadata": {}
        },
        {
          "output_type": "display_data",
          "data": {
            "text/plain": [
              "   copied 'amd64' runtime.\r\n"
            ]
          },
          "metadata": {}
        },
        {
          "output_type": "display_data",
          "data": {
            "text/plain": [
              "deployment finished.\r\n"
            ]
          },
          "metadata": {}
        },
        {
          "output_type": "display_data",
          "data": {
            "text/plain": [
              "\r\n"
            ]
          },
          "metadata": {}
        },
        {
          "output_type": "display_data",
          "data": {
            "text/plain": [
              " ------------ MSHPC FailedOrCanceled; original Failed\r\n"
            ]
          },
          "metadata": {}
        },
        {
          "output_type": "display_data",
          "data": {
            "text/plain": [
              "All jobs finished.\r\n"
            ]
          },
          "metadata": {}
        },
        {
          "output_type": "display_data",
          "data": {
            "text/plain": [
              "Note: Job was deployed (1) number of times, all failed.\r\n"
            ]
          },
          "metadata": {}
        },
        {
          "output_type": "display_data",
          "data": {
            "text/plain": [
              "Hint: want to re-activate the job.\r\n"
            ]
          },
          "metadata": {}
        },
        {
          "output_type": "display_data",
          "data": {
            "text/plain": [
              "System.Collections.Generic.List`1[System.Double]\r\n"
            ]
          },
          "metadata": {}
        },
        {
          "output_type": "display_data",
          "data": {
            "text/plain": [
              "Grid Edge Tags changed.\r\n"
            ]
          },
          "metadata": {}
        },
        {
          "output_type": "display_data",
          "data": {
            "text/plain": [
              "VelocityFuel0.05156139367664165\r\n"
            ]
          },
          "metadata": {}
        },
        {
          "output_type": "display_data",
          "data": {
            "text/plain": [
              "VelocityAir0.13064087897853446\r\n"
            ]
          },
          "metadata": {}
        },
        {
          "output_type": "display_data",
          "data": {
            "text/plain": [
              "Full_CounterDifFlameP2K12mult2.125_c4\r\n"
            ]
          },
          "metadata": {}
        },
        {
          "output_type": "display_data",
          "data": {
            "text/plain": [
              "Deploying job Full_CounterDifFlameP2K12mult2.125_c4 ... \r\n"
            ]
          },
          "metadata": {}
        },
        {
          "output_type": "display_data",
          "data": {
            "text/plain": [
              "Deploying executables and additional files ...\r\n"
            ]
          },
          "metadata": {}
        },
        {
          "output_type": "display_data",
          "data": {
            "text/plain": [
              "Deployment directory: \\\\hpccluster\\hpccluster-scratch\\gutierrez\\binaries\\CounterFlowFlame123-XNSEC2021Jul30_191601\r\n"
            ]
          },
          "metadata": {}
        },
        {
          "output_type": "display_data",
          "data": {
            "text/plain": [
              "copied 52 files.\r\n"
            ]
          },
          "metadata": {}
        },
        {
          "output_type": "display_data",
          "data": {
            "text/plain": [
              "   written file: control.obj\r\n"
            ]
          },
          "metadata": {}
        },
        {
          "output_type": "display_data",
          "data": {
            "text/plain": [
              "   copied 'amd64' runtime.\r\n"
            ]
          },
          "metadata": {}
        },
        {
          "output_type": "display_data",
          "data": {
            "text/plain": [
              "deployment finished.\r\n"
            ]
          },
          "metadata": {}
        },
        {
          "output_type": "display_data",
          "data": {
            "text/plain": [
              "\r\n"
            ]
          },
          "metadata": {}
        },
        {
          "output_type": "display_data",
          "data": {
            "text/plain": [
              " ------------ MSHPC FailedOrCanceled; original Failed\r\n"
            ]
          },
          "metadata": {}
        },
        {
          "output_type": "display_data",
          "data": {
            "text/plain": [
              "All jobs finished.\r\n"
            ]
          },
          "metadata": {}
        },
        {
          "output_type": "display_data",
          "data": {
            "text/plain": [
              "Note: Job was deployed (1) number of times, all failed.\r\n"
            ]
          },
          "metadata": {}
        },
        {
          "output_type": "display_data",
          "data": {
            "text/plain": [
              "Hint: want to re-activate the job.\r\n"
            ]
          },
          "metadata": {}
        },
        {
          "output_type": "display_data",
          "data": {
            "text/plain": [
              "System.Collections.Generic.List`1[System.Double]\r\n"
            ]
          },
          "metadata": {}
        },
        {
          "output_type": "display_data",
          "data": {
            "text/plain": [
              "Grid Edge Tags changed.\r\n"
            ]
          },
          "metadata": {}
        },
        {
          "output_type": "display_data",
          "data": {
            "text/plain": [
              "VelocityFuel0.03791278946811886\r\n"
            ]
          },
          "metadata": {}
        },
        {
          "output_type": "display_data",
          "data": {
            "text/plain": [
              "VelocityAir0.0960594698371577\r\n"
            ]
          },
          "metadata": {}
        },
        {
          "output_type": "display_data",
          "data": {
            "text/plain": [
              "Full_CounterDifFlameP2K12mult1.5625_c5\r\n"
            ]
          },
          "metadata": {}
        },
        {
          "output_type": "display_data",
          "data": {
            "text/plain": [
              "Deploying job Full_CounterDifFlameP2K12mult1.5625_c5 ... \r\n"
            ]
          },
          "metadata": {}
        },
        {
          "output_type": "display_data",
          "data": {
            "text/plain": [
              "Deploying executables and additional files ...\r\n"
            ]
          },
          "metadata": {}
        },
        {
          "output_type": "display_data",
          "data": {
            "text/plain": [
              "Deployment directory: \\\\hpccluster\\hpccluster-scratch\\gutierrez\\binaries\\CounterFlowFlame123-XNSEC2021Jul30_195816\r\n"
            ]
          },
          "metadata": {}
        },
        {
          "output_type": "display_data",
          "data": {
            "text/plain": [
              "copied 52 files.\r\n"
            ]
          },
          "metadata": {}
        },
        {
          "output_type": "display_data",
          "data": {
            "text/plain": [
              "   written file: control.obj\r\n"
            ]
          },
          "metadata": {}
        },
        {
          "output_type": "display_data",
          "data": {
            "text/plain": [
              "   copied 'amd64' runtime.\r\n"
            ]
          },
          "metadata": {}
        },
        {
          "output_type": "display_data",
          "data": {
            "text/plain": [
              "deployment finished.\r\n"
            ]
          },
          "metadata": {}
        },
        {
          "output_type": "display_data",
          "data": {
            "text/plain": [
              "\r\n"
            ]
          },
          "metadata": {}
        },
        {
          "output_type": "display_data",
          "data": {
            "text/plain": [
              " ------------ MSHPC FailedOrCanceled; original Failed\r\n"
            ]
          },
          "metadata": {}
        },
        {
          "output_type": "display_data",
          "data": {
            "text/plain": [
              "All jobs finished.\r\n"
            ]
          },
          "metadata": {}
        },
        {
          "output_type": "display_data",
          "data": {
            "text/plain": [
              "Note: Job was deployed (1) number of times, all failed.\r\n"
            ]
          },
          "metadata": {}
        },
        {
          "output_type": "display_data",
          "data": {
            "text/plain": [
              "Hint: want to re-activate the job.\r\n"
            ]
          },
          "metadata": {}
        },
        {
          "output_type": "display_data",
          "data": {
            "text/plain": [
              "System.Collections.Generic.List`1[System.Double]\r\n"
            ]
          },
          "metadata": {}
        },
        {
          "output_type": "display_data",
          "data": {
            "text/plain": [
              "Grid Edge Tags changed.\r\n"
            ]
          },
          "metadata": {}
        },
        {
          "output_type": "display_data",
          "data": {
            "text/plain": [
              "VelocityFuel0.031088487363857463\r\n"
            ]
          },
          "metadata": {}
        },
        {
          "output_type": "display_data",
          "data": {
            "text/plain": [
              "VelocityAir0.07876876526646931\r\n"
            ]
          },
          "metadata": {}
        },
        {
          "output_type": "display_data",
          "data": {
            "text/plain": [
              "Full_CounterDifFlameP2K12mult1.28125_c6\r\n"
            ]
          },
          "metadata": {}
        },
        {
          "output_type": "display_data",
          "data": {
            "text/plain": [
              "Deploying job Full_CounterDifFlameP2K12mult1.28125_c6 ... \r\n"
            ]
          },
          "metadata": {}
        },
        {
          "output_type": "display_data",
          "data": {
            "text/plain": [
              "Deploying executables and additional files ...\r\n"
            ]
          },
          "metadata": {}
        },
        {
          "output_type": "display_data",
          "data": {
            "text/plain": [
              "Deployment directory: \\\\hpccluster\\hpccluster-scratch\\gutierrez\\binaries\\CounterFlowFlame123-XNSEC2021Jul30_203946\r\n"
            ]
          },
          "metadata": {}
        },
        {
          "output_type": "display_data",
          "data": {
            "text/plain": [
              "copied 52 files.\r\n"
            ]
          },
          "metadata": {}
        },
        {
          "output_type": "display_data",
          "data": {
            "text/plain": [
              "   written file: control.obj\r\n"
            ]
          },
          "metadata": {}
        },
        {
          "output_type": "display_data",
          "data": {
            "text/plain": [
              "   copied 'amd64' runtime.\r\n"
            ]
          },
          "metadata": {}
        },
        {
          "output_type": "display_data",
          "data": {
            "text/plain": [
              "deployment finished.\r\n"
            ]
          },
          "metadata": {}
        },
        {
          "output_type": "display_data",
          "data": {
            "text/plain": [
              "\r\n"
            ]
          },
          "metadata": {}
        },
        {
          "output_type": "display_data",
          "data": {
            "text/plain": [
              " ------------ MSHPC FailedOrCanceled; original Failed\r\n"
            ]
          },
          "metadata": {}
        },
        {
          "output_type": "display_data",
          "data": {
            "text/plain": [
              "All jobs finished.\r\n"
            ]
          },
          "metadata": {}
        },
        {
          "output_type": "display_data",
          "data": {
            "text/plain": [
              "Note: Job was deployed (1) number of times, all failed.\r\n"
            ]
          },
          "metadata": {}
        },
        {
          "output_type": "display_data",
          "data": {
            "text/plain": [
              "Hint: want to re-activate the job.\r\n"
            ]
          },
          "metadata": {}
        },
        {
          "output_type": "display_data",
          "data": {
            "text/plain": [
              "System.Collections.Generic.List`1[System.Double]\r\n"
            ]
          },
          "metadata": {}
        },
        {
          "output_type": "display_data",
          "data": {
            "text/plain": [
              "Grid Edge Tags changed.\r\n"
            ]
          },
          "metadata": {}
        },
        {
          "output_type": "display_data",
          "data": {
            "text/plain": [
              "VelocityFuel0.027676336311726765\r\n"
            ]
          },
          "metadata": {}
        },
        {
          "output_type": "display_data",
          "data": {
            "text/plain": [
              "VelocityAir0.07012341298112511\r\n"
            ]
          },
          "metadata": {}
        },
        {
          "output_type": "display_data",
          "data": {
            "text/plain": [
              "Full_CounterDifFlameP2K12mult1.140625_c7\r\n"
            ]
          },
          "metadata": {}
        },
        {
          "output_type": "display_data",
          "data": {
            "text/plain": [
              "Deploying job Full_CounterDifFlameP2K12mult1.140625_c7 ... \r\n"
            ]
          },
          "metadata": {}
        },
        {
          "output_type": "display_data",
          "data": {
            "text/plain": [
              "Deploying executables and additional files ...\r\n"
            ]
          },
          "metadata": {}
        },
        {
          "output_type": "display_data",
          "data": {
            "text/plain": [
              "Deployment directory: \\\\hpccluster\\hpccluster-scratch\\gutierrez\\binaries\\CounterFlowFlame123-XNSEC2021Jul30_212111\r\n"
            ]
          },
          "metadata": {}
        },
        {
          "output_type": "display_data",
          "data": {
            "text/plain": [
              "copied 52 files.\r\n"
            ]
          },
          "metadata": {}
        },
        {
          "output_type": "display_data",
          "data": {
            "text/plain": [
              "   written file: control.obj\r\n"
            ]
          },
          "metadata": {}
        },
        {
          "output_type": "display_data",
          "data": {
            "text/plain": [
              "   copied 'amd64' runtime.\r\n"
            ]
          },
          "metadata": {}
        },
        {
          "output_type": "display_data",
          "data": {
            "text/plain": [
              "deployment finished.\r\n"
            ]
          },
          "metadata": {}
        },
        {
          "output_type": "display_data",
          "data": {
            "text/plain": [
              "\r\n"
            ]
          },
          "metadata": {}
        },
        {
          "output_type": "display_data",
          "data": {
            "text/plain": [
              "All jobs finished.\r\n"
            ]
          },
          "metadata": {}
        },
        {
          "output_type": "display_data",
          "data": {
            "text/plain": [
              "Info: Found successful session \"CounterFlowFlame123\tFull_CounterDifFlameP2K12mult1.140625_c7\t07/30/2021 21:21:35\td8b448dc...\" -- job is marked as successful, no further action.\r\n"
            ]
          },
          "metadata": {}
        },
        {
          "output_type": "display_data",
          "data": {
            "text/plain": [
              "System.Collections.Generic.List`1[System.Double]\r\n"
            ]
          },
          "metadata": {}
        },
        {
          "output_type": "display_data",
          "data": {
            "text/plain": [
              "Grid Edge Tags changed.\r\n"
            ]
          },
          "metadata": {}
        },
        {
          "output_type": "display_data",
          "data": {
            "text/plain": [
              "VelocityFuel0.2426418525959607\r\n"
            ]
          },
          "metadata": {}
        },
        {
          "output_type": "display_data",
          "data": {
            "text/plain": [
              "VelocityAir0.6147806069578092\r\n"
            ]
          },
          "metadata": {}
        },
        {
          "output_type": "display_data",
          "data": {
            "text/plain": [
              "Full_CounterDifFlameP2K12mult10_c8\r\n"
            ]
          },
          "metadata": {}
        },
        {
          "output_type": "display_data",
          "data": {
            "text/plain": [
              "Deploying job Full_CounterDifFlameP2K12mult10_c8 ... \r\n"
            ]
          },
          "metadata": {}
        },
        {
          "output_type": "display_data",
          "data": {
            "text/plain": [
              "Deploying executables and additional files ...\r\n"
            ]
          },
          "metadata": {}
        },
        {
          "output_type": "display_data",
          "data": {
            "text/plain": [
              "Deployment directory: \\\\hpccluster\\hpccluster-scratch\\gutierrez\\binaries\\CounterFlowFlame123-XNSEC2021Jul30_220142\r\n"
            ]
          },
          "metadata": {}
        },
        {
          "output_type": "display_data",
          "data": {
            "text/plain": [
              "copied 52 files.\r\n"
            ]
          },
          "metadata": {}
        },
        {
          "output_type": "display_data",
          "data": {
            "text/plain": [
              "   written file: control.obj\r\n"
            ]
          },
          "metadata": {}
        },
        {
          "output_type": "display_data",
          "data": {
            "text/plain": [
              "   copied 'amd64' runtime.\r\n"
            ]
          },
          "metadata": {}
        },
        {
          "output_type": "display_data",
          "data": {
            "text/plain": [
              "deployment finished.\r\n"
            ]
          },
          "metadata": {}
        },
        {
          "output_type": "display_data",
          "data": {
            "text/plain": [
              "\r\n"
            ]
          },
          "metadata": {}
        },
        {
          "output_type": "display_data",
          "data": {
            "text/plain": [
              " ------------ MSHPC FailedOrCanceled; original Failed\r\n"
            ]
          },
          "metadata": {}
        },
        {
          "output_type": "display_data",
          "data": {
            "text/plain": [
              "All jobs finished.\r\n"
            ]
          },
          "metadata": {}
        },
        {
          "output_type": "display_data",
          "data": {
            "text/plain": [
              "Note: Job was deployed (1) number of times, all failed.\r\n"
            ]
          },
          "metadata": {}
        },
        {
          "output_type": "display_data",
          "data": {
            "text/plain": [
              "Hint: want to re-activate the job.\r\n"
            ]
          },
          "metadata": {}
        },
        {
          "output_type": "display_data",
          "data": {
            "text/plain": [
              "System.Collections.Generic.List`1[System.Double]\r\n"
            ]
          },
          "metadata": {}
        },
        {
          "output_type": "display_data",
          "data": {
            "text/plain": [
              "Grid Edge Tags changed.\r\n"
            ]
          },
          "metadata": {}
        },
        {
          "output_type": "display_data",
          "data": {
            "text/plain": [
              "VelocityFuel0.13515909445384375\r\n"
            ]
          },
          "metadata": {}
        },
        {
          "output_type": "display_data",
          "data": {
            "text/plain": [
              "VelocityAir0.3424520099694672\r\n"
            ]
          },
          "metadata": {}
        },
        {
          "output_type": "display_data",
          "data": {
            "text/plain": [
              "Full_CounterDifFlameP2K12mult5.5703125_c9\r\n"
            ]
          },
          "metadata": {}
        },
        {
          "output_type": "display_data",
          "data": {
            "text/plain": [
              "Deploying job Full_CounterDifFlameP2K12mult5.5703125_c9 ... \r\n"
            ]
          },
          "metadata": {}
        },
        {
          "output_type": "display_data",
          "data": {
            "text/plain": [
              "Deploying executables and additional files ...\r\n"
            ]
          },
          "metadata": {}
        },
        {
          "output_type": "display_data",
          "data": {
            "text/plain": [
              "Deployment directory: \\\\hpccluster\\hpccluster-scratch\\gutierrez\\binaries\\CounterFlowFlame123-XNSEC2021Jul30_220643\r\n"
            ]
          },
          "metadata": {}
        },
        {
          "output_type": "display_data",
          "data": {
            "text/plain": [
              "copied 52 files.\r\n"
            ]
          },
          "metadata": {}
        },
        {
          "output_type": "display_data",
          "data": {
            "text/plain": [
              "   written file: control.obj\r\n"
            ]
          },
          "metadata": {}
        },
        {
          "output_type": "display_data",
          "data": {
            "text/plain": [
              "   copied 'amd64' runtime.\r\n"
            ]
          },
          "metadata": {}
        },
        {
          "output_type": "display_data",
          "data": {
            "text/plain": [
              "deployment finished.\r\n"
            ]
          },
          "metadata": {}
        },
        {
          "output_type": "display_data",
          "data": {
            "text/plain": [
              "\r\n"
            ]
          },
          "metadata": {}
        },
        {
          "output_type": "display_data",
          "data": {
            "text/plain": [
              " ------------ MSHPC FailedOrCanceled; original Failed\r\n"
            ]
          },
          "metadata": {}
        },
        {
          "output_type": "display_data",
          "data": {
            "text/plain": [
              "All jobs finished.\r\n"
            ]
          },
          "metadata": {}
        },
        {
          "output_type": "display_data",
          "data": {
            "text/plain": [
              "Note: Job was deployed (1) number of times, all failed.\r\n"
            ]
          },
          "metadata": {}
        },
        {
          "output_type": "display_data",
          "data": {
            "text/plain": [
              "Hint: want to re-activate the job.\r\n"
            ]
          },
          "metadata": {}
        },
        {
          "output_type": "display_data",
          "data": {
            "text/plain": [
              "System.Collections.Generic.List`1[System.Double]\r\n"
            ]
          },
          "metadata": {}
        },
        {
          "output_type": "display_data",
          "data": {
            "text/plain": [
              "Grid Edge Tags changed.\r\n"
            ]
          },
          "metadata": {}
        },
        {
          "output_type": "display_data",
          "data": {
            "text/plain": [
              "VelocityFuel0.08141771538278525\r\n"
            ]
          },
          "metadata": {}
        },
        {
          "output_type": "display_data",
          "data": {
            "text/plain": [
              "VelocityAir0.20628771147529615\r\n"
            ]
          },
          "metadata": {}
        },
        {
          "output_type": "display_data",
          "data": {
            "text/plain": [
              "Full_CounterDifFlameP2K12mult3.35546875_c10\r\n"
            ]
          },
          "metadata": {}
        },
        {
          "output_type": "display_data",
          "data": {
            "text/plain": [
              "Deploying job Full_CounterDifFlameP2K12mult3.35546875_c10 ... \r\n"
            ]
          },
          "metadata": {}
        },
        {
          "output_type": "display_data",
          "data": {
            "text/plain": [
              "Deploying executables and additional files ...\r\n"
            ]
          },
          "metadata": {}
        },
        {
          "output_type": "display_data",
          "data": {
            "text/plain": [
              "Deployment directory: \\\\hpccluster\\hpccluster-scratch\\gutierrez\\binaries\\CounterFlowFlame123-XNSEC2021Jul30_221145\r\n"
            ]
          },
          "metadata": {}
        },
        {
          "output_type": "display_data",
          "data": {
            "text/plain": [
              "copied 52 files.\r\n"
            ]
          },
          "metadata": {}
        },
        {
          "output_type": "display_data",
          "data": {
            "text/plain": [
              "   written file: control.obj\r\n"
            ]
          },
          "metadata": {}
        },
        {
          "output_type": "display_data",
          "data": {
            "text/plain": [
              "   copied 'amd64' runtime.\r\n"
            ]
          },
          "metadata": {}
        },
        {
          "output_type": "display_data",
          "data": {
            "text/plain": [
              "deployment finished.\r\n"
            ]
          },
          "metadata": {}
        },
        {
          "output_type": "display_data",
          "data": {
            "text/plain": [
              "\r\n"
            ]
          },
          "metadata": {}
        },
        {
          "output_type": "display_data",
          "data": {
            "text/plain": [
              " ------------ MSHPC FailedOrCanceled; original Failed\r\n"
            ]
          },
          "metadata": {}
        },
        {
          "output_type": "display_data",
          "data": {
            "text/plain": [
              "All jobs finished.\r\n"
            ]
          },
          "metadata": {}
        },
        {
          "output_type": "display_data",
          "data": {
            "text/plain": [
              "Note: Job was deployed (1) number of times, all failed.\r\n"
            ]
          },
          "metadata": {}
        },
        {
          "output_type": "display_data",
          "data": {
            "text/plain": [
              "Hint: want to re-activate the job.\r\n"
            ]
          },
          "metadata": {}
        },
        {
          "output_type": "display_data",
          "data": {
            "text/plain": [
              "System.Collections.Generic.List`1[System.Double]\r\n"
            ]
          },
          "metadata": {}
        },
        {
          "output_type": "display_data",
          "data": {
            "text/plain": [
              "Grid Edge Tags changed.\r\n"
            ]
          },
          "metadata": {}
        },
        {
          "output_type": "display_data",
          "data": {
            "text/plain": [
              "VelocityFuel0.054547025847256014\r\n"
            ]
          },
          "metadata": {}
        },
        {
          "output_type": "display_data",
          "data": {
            "text/plain": [
              "VelocityAir0.13820556222821065\r\n"
            ]
          },
          "metadata": {}
        },
        {
          "output_type": "display_data",
          "data": {
            "text/plain": [
              "Full_CounterDifFlameP2K12mult2.248046875_c11\r\n"
            ]
          },
          "metadata": {}
        },
        {
          "output_type": "display_data",
          "data": {
            "text/plain": [
              "Deploying job Full_CounterDifFlameP2K12mult2.248046875_c11 ... \r\n"
            ]
          },
          "metadata": {}
        },
        {
          "output_type": "display_data",
          "data": {
            "text/plain": [
              "Deploying executables and additional files ...\r\n"
            ]
          },
          "metadata": {}
        },
        {
          "output_type": "display_data",
          "data": {
            "text/plain": [
              "Deployment directory: \\\\hpccluster\\hpccluster-scratch\\gutierrez\\binaries\\CounterFlowFlame123-XNSEC2021Jul30_221646\r\n"
            ]
          },
          "metadata": {}
        },
        {
          "output_type": "display_data",
          "data": {
            "text/plain": [
              "copied 52 files.\r\n"
            ]
          },
          "metadata": {}
        },
        {
          "output_type": "display_data",
          "data": {
            "text/plain": [
              "   written file: control.obj\r\n"
            ]
          },
          "metadata": {}
        },
        {
          "output_type": "display_data",
          "data": {
            "text/plain": [
              "   copied 'amd64' runtime.\r\n"
            ]
          },
          "metadata": {}
        },
        {
          "output_type": "display_data",
          "data": {
            "text/plain": [
              "deployment finished.\r\n"
            ]
          },
          "metadata": {}
        },
        {
          "output_type": "display_data",
          "data": {
            "text/plain": [
              "\r\n"
            ]
          },
          "metadata": {}
        },
        {
          "output_type": "display_data",
          "data": {
            "text/plain": [
              " ------------ MSHPC FailedOrCanceled; original Failed\r\n"
            ]
          },
          "metadata": {}
        },
        {
          "output_type": "display_data",
          "data": {
            "text/plain": [
              "All jobs finished.\r\n"
            ]
          },
          "metadata": {}
        },
        {
          "output_type": "display_data",
          "data": {
            "text/plain": [
              "Note: Job was deployed (1) number of times, all failed.\r\n"
            ]
          },
          "metadata": {}
        },
        {
          "output_type": "display_data",
          "data": {
            "text/plain": [
              "Hint: want to re-activate the job.\r\n"
            ]
          },
          "metadata": {}
        },
        {
          "output_type": "display_data",
          "data": {
            "text/plain": [
              "System.Collections.Generic.List`1[System.Double]\r\n"
            ]
          },
          "metadata": {}
        },
        {
          "output_type": "display_data",
          "data": {
            "text/plain": [
              "Grid Edge Tags changed.\r\n"
            ]
          },
          "metadata": {}
        },
        {
          "output_type": "display_data",
          "data": {
            "text/plain": [
              "VelocityFuel0.04111168107949139\r\n"
            ]
          },
          "metadata": {}
        },
        {
          "output_type": "display_data",
          "data": {
            "text/plain": [
              "VelocityAir0.10416448760466787\r\n"
            ]
          },
          "metadata": {}
        },
        {
          "output_type": "display_data",
          "data": {
            "text/plain": [
              "Full_CounterDifFlameP2K12mult1.6943359375_c12\r\n"
            ]
          },
          "metadata": {}
        },
        {
          "output_type": "display_data",
          "data": {
            "text/plain": [
              "Deploying job Full_CounterDifFlameP2K12mult1.6943359375_c12 ... \r\n"
            ]
          },
          "metadata": {}
        },
        {
          "output_type": "display_data",
          "data": {
            "text/plain": [
              "Deploying executables and additional files ...\r\n"
            ]
          },
          "metadata": {}
        },
        {
          "output_type": "display_data",
          "data": {
            "text/plain": [
              "Deployment directory: \\\\hpccluster\\hpccluster-scratch\\gutierrez\\binaries\\CounterFlowFlame123-XNSEC2021Jul30_222148\r\n"
            ]
          },
          "metadata": {}
        },
        {
          "output_type": "display_data",
          "data": {
            "text/plain": [
              "copied 52 files.\r\n"
            ]
          },
          "metadata": {}
        },
        {
          "output_type": "display_data",
          "data": {
            "text/plain": [
              "   written file: control.obj\r\n"
            ]
          },
          "metadata": {}
        },
        {
          "output_type": "display_data",
          "data": {
            "text/plain": [
              "   copied 'amd64' runtime.\r\n"
            ]
          },
          "metadata": {}
        },
        {
          "output_type": "display_data",
          "data": {
            "text/plain": [
              "deployment finished.\r\n"
            ]
          },
          "metadata": {}
        },
        {
          "output_type": "display_data",
          "data": {
            "text/plain": [
              "\r\n"
            ]
          },
          "metadata": {}
        },
        {
          "output_type": "display_data",
          "data": {
            "text/plain": [
              " ------------ MSHPC FailedOrCanceled; original Failed\r\n"
            ]
          },
          "metadata": {}
        },
        {
          "output_type": "display_data",
          "data": {
            "text/plain": [
              "All jobs finished.\r\n"
            ]
          },
          "metadata": {}
        },
        {
          "output_type": "display_data",
          "data": {
            "text/plain": [
              "Note: Job was deployed (1) number of times, all failed.\r\n"
            ]
          },
          "metadata": {}
        },
        {
          "output_type": "display_data",
          "data": {
            "text/plain": [
              "Hint: want to re-activate the job.\r\n"
            ]
          },
          "metadata": {}
        },
        {
          "output_type": "display_data",
          "data": {
            "text/plain": [
              "System.Collections.Generic.List`1[System.Double]\r\n"
            ]
          },
          "metadata": {}
        },
        {
          "output_type": "display_data",
          "data": {
            "text/plain": [
              "Grid Edge Tags changed.\r\n"
            ]
          },
          "metadata": {}
        },
        {
          "output_type": "display_data",
          "data": {
            "text/plain": [
              "VelocityFuel0.034394008695609074\r\n"
            ]
          },
          "metadata": {}
        },
        {
          "output_type": "display_data",
          "data": {
            "text/plain": [
              "VelocityAir0.0871439502928965\r\n"
            ]
          },
          "metadata": {}
        },
        {
          "output_type": "display_data",
          "data": {
            "text/plain": [
              "Full_CounterDifFlameP2K12mult1.41748046875_c13\r\n"
            ]
          },
          "metadata": {}
        },
        {
          "output_type": "display_data",
          "data": {
            "text/plain": [
              "Deploying job Full_CounterDifFlameP2K12mult1.41748046875_c13 ... \r\n"
            ]
          },
          "metadata": {}
        },
        {
          "output_type": "display_data",
          "data": {
            "text/plain": [
              "Deploying executables and additional files ...\r\n"
            ]
          },
          "metadata": {}
        },
        {
          "output_type": "display_data",
          "data": {
            "text/plain": [
              "Deployment directory: \\\\hpccluster\\hpccluster-scratch\\gutierrez\\binaries\\CounterFlowFlame123-XNSEC2021Jul30_222650\r\n"
            ]
          },
          "metadata": {}
        },
        {
          "output_type": "display_data",
          "data": {
            "text/plain": [
              "copied 52 files.\r\n"
            ]
          },
          "metadata": {}
        },
        {
          "output_type": "display_data",
          "data": {
            "text/plain": [
              "   written file: control.obj\r\n"
            ]
          },
          "metadata": {}
        },
        {
          "output_type": "display_data",
          "data": {
            "text/plain": [
              "   copied 'amd64' runtime.\r\n"
            ]
          },
          "metadata": {}
        },
        {
          "output_type": "display_data",
          "data": {
            "text/plain": [
              "deployment finished.\r\n"
            ]
          },
          "metadata": {}
        },
        {
          "output_type": "display_data",
          "data": {
            "text/plain": [
              "\r\n"
            ]
          },
          "metadata": {}
        },
        {
          "output_type": "display_data",
          "data": {
            "text/plain": [
              " ------------ MSHPC FailedOrCanceled; original Failed\r\n"
            ]
          },
          "metadata": {}
        },
        {
          "output_type": "display_data",
          "data": {
            "text/plain": [
              "All jobs finished.\r\n"
            ]
          },
          "metadata": {}
        },
        {
          "output_type": "display_data",
          "data": {
            "text/plain": [
              "Note: Job was deployed (1) number of times, all failed.\r\n"
            ]
          },
          "metadata": {}
        },
        {
          "output_type": "display_data",
          "data": {
            "text/plain": [
              "Hint: want to re-activate the job.\r\n"
            ]
          },
          "metadata": {}
        },
        {
          "output_type": "display_data",
          "data": {
            "text/plain": [
              "System.Collections.Generic.List`1[System.Double]\r\n"
            ]
          },
          "metadata": {}
        },
        {
          "output_type": "display_data",
          "data": {
            "text/plain": [
              "Grid Edge Tags changed.\r\n"
            ]
          },
          "metadata": {}
        },
        {
          "output_type": "display_data",
          "data": {
            "text/plain": [
              "VelocityFuel0.031035172503667923\r\n"
            ]
          },
          "metadata": {}
        },
        {
          "output_type": "display_data",
          "data": {
            "text/plain": [
              "VelocityAir0.0786336816370108\r\n"
            ]
          },
          "metadata": {}
        },
        {
          "output_type": "display_data",
          "data": {
            "text/plain": [
              "Full_CounterDifFlameP2K12mult1.279052734375_c14\r\n"
            ]
          },
          "metadata": {}
        },
        {
          "output_type": "display_data",
          "data": {
            "text/plain": [
              "Deploying job Full_CounterDifFlameP2K12mult1.279052734375_c14 ... \r\n"
            ]
          },
          "metadata": {}
        },
        {
          "output_type": "display_data",
          "data": {
            "text/plain": [
              "Deploying executables and additional files ...\r\n"
            ]
          },
          "metadata": {}
        },
        {
          "output_type": "display_data",
          "data": {
            "text/plain": [
              "Deployment directory: \\\\hpccluster\\hpccluster-scratch\\gutierrez\\binaries\\CounterFlowFlame123-XNSEC2021Jul30_230952\r\n"
            ]
          },
          "metadata": {}
        },
        {
          "output_type": "display_data",
          "data": {
            "text/plain": [
              "copied 52 files.\r\n"
            ]
          },
          "metadata": {}
        },
        {
          "output_type": "display_data",
          "data": {
            "text/plain": [
              "   written file: control.obj\r\n"
            ]
          },
          "metadata": {}
        },
        {
          "output_type": "display_data",
          "data": {
            "text/plain": [
              "   copied 'amd64' runtime.\r\n"
            ]
          },
          "metadata": {}
        },
        {
          "output_type": "display_data",
          "data": {
            "text/plain": [
              "deployment finished.\r\n"
            ]
          },
          "metadata": {}
        },
        {
          "output_type": "display_data",
          "data": {
            "text/plain": [
              "\r\n"
            ]
          },
          "metadata": {}
        },
        {
          "output_type": "display_data",
          "data": {
            "text/plain": [
              " ------------ MSHPC FailedOrCanceled; original Failed\r\n"
            ]
          },
          "metadata": {}
        },
        {
          "output_type": "display_data",
          "data": {
            "text/plain": [
              "All jobs finished.\r\n"
            ]
          },
          "metadata": {}
        },
        {
          "output_type": "display_data",
          "data": {
            "text/plain": [
              "Note: Job was deployed (1) number of times, all failed.\r\n"
            ]
          },
          "metadata": {}
        },
        {
          "output_type": "display_data",
          "data": {
            "text/plain": [
              "Hint: want to re-activate the job.\r\n"
            ]
          },
          "metadata": {}
        },
        {
          "output_type": "display_data",
          "data": {
            "text/plain": [
              "System.Collections.Generic.List`1[System.Double]\r\n"
            ]
          },
          "metadata": {}
        },
        {
          "output_type": "display_data",
          "data": {
            "text/plain": [
              "Grid Edge Tags changed.\r\n"
            ]
          },
          "metadata": {}
        },
        {
          "output_type": "display_data",
          "data": {
            "text/plain": [
              "VelocityFuel0.029355754407697346\r\n"
            ]
          },
          "metadata": {}
        },
        {
          "output_type": "display_data",
          "data": {
            "text/plain": [
              "VelocityAir0.07437854730906795\r\n"
            ]
          },
          "metadata": {}
        },
        {
          "output_type": "display_data",
          "data": {
            "text/plain": [
              "Full_CounterDifFlameP2K12mult1.2098388671875_c15\r\n"
            ]
          },
          "metadata": {}
        },
        {
          "output_type": "display_data",
          "data": {
            "text/plain": [
              "Deploying job Full_CounterDifFlameP2K12mult1.2098388671875_c15 ... \r\n"
            ]
          },
          "metadata": {}
        },
        {
          "output_type": "display_data",
          "data": {
            "text/plain": [
              "Deploying executables and additional files ...\r\n"
            ]
          },
          "metadata": {}
        },
        {
          "output_type": "display_data",
          "data": {
            "text/plain": [
              "Deployment directory: \\\\hpccluster\\hpccluster-scratch\\gutierrez\\binaries\\CounterFlowFlame123-XNSEC2021Jul30_235325\r\n"
            ]
          },
          "metadata": {}
        },
        {
          "output_type": "display_data",
          "data": {
            "text/plain": [
              "copied 52 files.\r\n"
            ]
          },
          "metadata": {}
        },
        {
          "output_type": "display_data",
          "data": {
            "text/plain": [
              "   written file: control.obj\r\n"
            ]
          },
          "metadata": {}
        },
        {
          "output_type": "display_data",
          "data": {
            "text/plain": [
              "   copied 'amd64' runtime.\r\n"
            ]
          },
          "metadata": {}
        },
        {
          "output_type": "display_data",
          "data": {
            "text/plain": [
              "deployment finished.\r\n"
            ]
          },
          "metadata": {}
        },
        {
          "output_type": "display_data",
          "data": {
            "text/plain": [
              "\r\n"
            ]
          },
          "metadata": {}
        },
        {
          "output_type": "display_data",
          "data": {
            "text/plain": [
              " ------------ MSHPC FailedOrCanceled; original Failed\r\n"
            ]
          },
          "metadata": {}
        },
        {
          "output_type": "display_data",
          "data": {
            "text/plain": [
              "All jobs finished.\r\n"
            ]
          },
          "metadata": {}
        },
        {
          "output_type": "display_data",
          "data": {
            "text/plain": [
              "Note: Job was deployed (1) number of times, all failed.\r\n"
            ]
          },
          "metadata": {}
        },
        {
          "output_type": "display_data",
          "data": {
            "text/plain": [
              "Hint: want to re-activate the job.\r\n"
            ]
          },
          "metadata": {}
        },
        {
          "output_type": "display_data",
          "data": {
            "text/plain": [
              "System.Collections.Generic.List`1[System.Double]\r\n"
            ]
          },
          "metadata": {}
        },
        {
          "output_type": "display_data",
          "data": {
            "text/plain": [
              "Grid Edge Tags changed.\r\n"
            ]
          },
          "metadata": {}
        },
        {
          "output_type": "display_data",
          "data": {
            "text/plain": [
              "VelocityFuel0.028516045359712056\r\n"
            ]
          },
          "metadata": {}
        },
        {
          "output_type": "display_data",
          "data": {
            "text/plain": [
              "VelocityAir0.07225098014509654\r\n"
            ]
          },
          "metadata": {}
        },
        {
          "output_type": "display_data",
          "data": {
            "text/plain": [
              "Full_CounterDifFlameP2K12mult1.17523193359375_c16\r\n"
            ]
          },
          "metadata": {}
        },
        {
          "output_type": "display_data",
          "data": {
            "text/plain": [
              "Deploying job Full_CounterDifFlameP2K12mult1.17523193359375_c16 ... \r\n"
            ]
          },
          "metadata": {}
        },
        {
          "output_type": "display_data",
          "data": {
            "text/plain": [
              "Deploying executables and additional files ...\r\n"
            ]
          },
          "metadata": {}
        },
        {
          "output_type": "display_data",
          "data": {
            "text/plain": [
              "Deployment directory: \\\\hpccluster\\hpccluster-scratch\\gutierrez\\binaries\\CounterFlowFlame123-XNSEC2021Jul31_003532\r\n"
            ]
          },
          "metadata": {}
        },
        {
          "output_type": "display_data",
          "data": {
            "text/plain": [
              "copied 52 files.\r\n"
            ]
          },
          "metadata": {}
        },
        {
          "output_type": "display_data",
          "data": {
            "text/plain": [
              "   written file: control.obj\r\n"
            ]
          },
          "metadata": {}
        },
        {
          "output_type": "display_data",
          "data": {
            "text/plain": [
              "   copied 'amd64' runtime.\r\n"
            ]
          },
          "metadata": {}
        },
        {
          "output_type": "display_data",
          "data": {
            "text/plain": [
              "deployment finished.\r\n"
            ]
          },
          "metadata": {}
        },
        {
          "output_type": "display_data",
          "data": {
            "text/plain": [
              "\r\n"
            ]
          },
          "metadata": {}
        },
        {
          "output_type": "display_data",
          "data": {
            "text/plain": [
              " ------------ MSHPC FailedOrCanceled; original Failed\r\n"
            ]
          },
          "metadata": {}
        },
        {
          "output_type": "display_data",
          "data": {
            "text/plain": [
              "All jobs finished.\r\n"
            ]
          },
          "metadata": {}
        },
        {
          "output_type": "display_data",
          "data": {
            "text/plain": [
              "Note: Job was deployed (1) number of times, all failed.\r\n"
            ]
          },
          "metadata": {}
        },
        {
          "output_type": "display_data",
          "data": {
            "text/plain": [
              "Hint: want to re-activate the job.\r\n"
            ]
          },
          "metadata": {}
        },
        {
          "output_type": "display_data",
          "data": {
            "text/plain": [
              "System.Collections.Generic.List`1[System.Double]\r\n"
            ]
          },
          "metadata": {}
        },
        {
          "output_type": "display_data",
          "data": {
            "text/plain": [
              "Grid Edge Tags changed.\r\n"
            ]
          },
          "metadata": {}
        },
        {
          "output_type": "display_data",
          "data": {
            "text/plain": [
              "VelocityFuel0.028096190835719414\r\n"
            ]
          },
          "metadata": {}
        },
        {
          "output_type": "display_data",
          "data": {
            "text/plain": [
              "VelocityAir0.07118719656311083\r\n"
            ]
          },
          "metadata": {}
        },
        {
          "output_type": "display_data",
          "data": {
            "text/plain": [
              "Full_CounterDifFlameP2K12mult1.157928466796875_c17\r\n"
            ]
          },
          "metadata": {}
        },
        {
          "output_type": "display_data",
          "data": {
            "text/plain": [
              "Deploying job Full_CounterDifFlameP2K12mult1.157928466796875_c17 ... \r\n"
            ]
          },
          "metadata": {}
        },
        {
          "output_type": "display_data",
          "data": {
            "text/plain": [
              "Deploying executables and additional files ...\r\n"
            ]
          },
          "metadata": {}
        },
        {
          "output_type": "display_data",
          "data": {
            "text/plain": [
              "Deployment directory: \\\\hpccluster\\hpccluster-scratch\\gutierrez\\binaries\\CounterFlowFlame123-XNSEC2021Jul31_011823\r\n"
            ]
          },
          "metadata": {}
        },
        {
          "output_type": "display_data",
          "data": {
            "text/plain": [
              "copied 52 files.\r\n"
            ]
          },
          "metadata": {}
        },
        {
          "output_type": "display_data",
          "data": {
            "text/plain": [
              "   written file: control.obj\r\n"
            ]
          },
          "metadata": {}
        },
        {
          "output_type": "display_data",
          "data": {
            "text/plain": [
              "   copied 'amd64' runtime.\r\n"
            ]
          },
          "metadata": {}
        },
        {
          "output_type": "display_data",
          "data": {
            "text/plain": [
              "deployment finished.\r\n"
            ]
          },
          "metadata": {}
        },
        {
          "output_type": "display_data",
          "data": {
            "text/plain": [
              "\r\n"
            ]
          },
          "metadata": {}
        },
        {
          "output_type": "display_data",
          "data": {
            "text/plain": [
              " ------------ MSHPC FailedOrCanceled; original Failed\r\n"
            ]
          },
          "metadata": {}
        },
        {
          "output_type": "display_data",
          "data": {
            "text/plain": [
              "All jobs finished.\r\n"
            ]
          },
          "metadata": {}
        },
        {
          "output_type": "display_data",
          "data": {
            "text/plain": [
              "Note: Job was deployed (1) number of times, all failed.\r\n"
            ]
          },
          "metadata": {}
        },
        {
          "output_type": "display_data",
          "data": {
            "text/plain": [
              "Hint: want to re-activate the job.\r\n"
            ]
          },
          "metadata": {}
        },
        {
          "output_type": "display_data",
          "data": {
            "text/plain": [
              "System.Collections.Generic.List`1[System.Double]\r\n"
            ]
          },
          "metadata": {}
        },
        {
          "output_type": "display_data",
          "data": {
            "text/plain": [
              "Grid Edge Tags changed.\r\n"
            ]
          },
          "metadata": {}
        },
        {
          "output_type": "display_data",
          "data": {
            "text/plain": [
              "VelocityFuel0.027886263573723088\r\n"
            ]
          },
          "metadata": {}
        },
        {
          "output_type": "display_data",
          "data": {
            "text/plain": [
              "VelocityAir0.07065530477211797\r\n"
            ]
          },
          "metadata": {}
        },
        {
          "output_type": "display_data",
          "data": {
            "text/plain": [
              "Full_CounterDifFlameP2K12mult1.1492767333984375_c18\r\n"
            ]
          },
          "metadata": {}
        },
        {
          "output_type": "display_data",
          "data": {
            "text/plain": [
              "Deploying job Full_CounterDifFlameP2K12mult1.1492767333984375_c18 ... \r\n"
            ]
          },
          "metadata": {}
        },
        {
          "output_type": "display_data",
          "data": {
            "text/plain": [
              "Deploying executables and additional files ...\r\n"
            ]
          },
          "metadata": {}
        },
        {
          "output_type": "display_data",
          "data": {
            "text/plain": [
              "Deployment directory: \\\\hpccluster\\hpccluster-scratch\\gutierrez\\binaries\\CounterFlowFlame123-XNSEC2021Jul31_020222\r\n"
            ]
          },
          "metadata": {}
        },
        {
          "output_type": "display_data",
          "data": {
            "text/plain": [
              "copied 52 files.\r\n"
            ]
          },
          "metadata": {}
        },
        {
          "output_type": "display_data",
          "data": {
            "text/plain": [
              "   written file: control.obj\r\n"
            ]
          },
          "metadata": {}
        },
        {
          "output_type": "display_data",
          "data": {
            "text/plain": [
              "   copied 'amd64' runtime.\r\n"
            ]
          },
          "metadata": {}
        },
        {
          "output_type": "display_data",
          "data": {
            "text/plain": [
              "deployment finished.\r\n"
            ]
          },
          "metadata": {}
        },
        {
          "output_type": "display_data",
          "data": {
            "text/plain": [
              "\r\n"
            ]
          },
          "metadata": {}
        },
        {
          "output_type": "display_data",
          "data": {
            "text/plain": [
              " ------------ MSHPC FailedOrCanceled; original Failed\r\n"
            ]
          },
          "metadata": {}
        },
        {
          "output_type": "display_data",
          "data": {
            "text/plain": [
              "All jobs finished.\r\n"
            ]
          },
          "metadata": {}
        },
        {
          "output_type": "display_data",
          "data": {
            "text/plain": [
              "Note: Job was deployed (1) number of times, all failed.\r\n"
            ]
          },
          "metadata": {}
        },
        {
          "output_type": "display_data",
          "data": {
            "text/plain": [
              "Hint: want to re-activate the job.\r\n"
            ]
          },
          "metadata": {}
        },
        {
          "output_type": "display_data",
          "data": {
            "text/plain": [
              "System.Collections.Generic.List`1[System.Double]\r\n"
            ]
          },
          "metadata": {}
        },
        {
          "output_type": "display_data",
          "data": {
            "text/plain": [
              "Grid Edge Tags changed.\r\n"
            ]
          },
          "metadata": {}
        },
        {
          "output_type": "display_data",
          "data": {
            "text/plain": [
              "VelocityFuel0.027781299942724928\r\n"
            ]
          },
          "metadata": {}
        },
        {
          "output_type": "display_data",
          "data": {
            "text/plain": [
              "VelocityAir0.07038935887662154\r\n"
            ]
          },
          "metadata": {}
        },
        {
          "output_type": "display_data",
          "data": {
            "text/plain": [
              "Full_CounterDifFlameP2K12mult1.1449508666992188_c19\r\n"
            ]
          },
          "metadata": {}
        },
        {
          "output_type": "display_data",
          "data": {
            "text/plain": [
              "Deploying job Full_CounterDifFlameP2K12mult1.1449508666992188_c19 ... \r\n"
            ]
          },
          "metadata": {}
        },
        {
          "output_type": "display_data",
          "data": {
            "text/plain": [
              "Deploying executables and additional files ...\r\n"
            ]
          },
          "metadata": {}
        },
        {
          "output_type": "display_data",
          "data": {
            "text/plain": [
              "Deployment directory: \\\\hpccluster\\hpccluster-scratch\\gutierrez\\binaries\\CounterFlowFlame123-XNSEC2021Jul31_024519\r\n"
            ]
          },
          "metadata": {}
        },
        {
          "output_type": "display_data",
          "data": {
            "text/plain": [
              "copied 52 files.\r\n"
            ]
          },
          "metadata": {}
        },
        {
          "output_type": "display_data",
          "data": {
            "text/plain": [
              "   written file: control.obj\r\n"
            ]
          },
          "metadata": {}
        },
        {
          "output_type": "display_data",
          "data": {
            "text/plain": [
              "   copied 'amd64' runtime.\r\n"
            ]
          },
          "metadata": {}
        },
        {
          "output_type": "display_data",
          "data": {
            "text/plain": [
              "deployment finished.\r\n"
            ]
          },
          "metadata": {}
        },
        {
          "output_type": "display_data",
          "data": {
            "text/plain": [
              "\r\n"
            ]
          },
          "metadata": {}
        },
        {
          "output_type": "display_data",
          "data": {
            "text/plain": [
              " ------------ MSHPC FailedOrCanceled; original Failed\r\n"
            ]
          },
          "metadata": {}
        },
        {
          "output_type": "display_data",
          "data": {
            "text/plain": [
              "All jobs finished.\r\n"
            ]
          },
          "metadata": {}
        },
        {
          "output_type": "display_data",
          "data": {
            "text/plain": [
              "Note: Job was deployed (1) number of times, all failed.\r\n"
            ]
          },
          "metadata": {}
        },
        {
          "output_type": "display_data",
          "data": {
            "text/plain": [
              "Hint: want to re-activate the job.\r\n"
            ]
          },
          "metadata": {}
        },
        {
          "output_type": "display_data",
          "data": {
            "text/plain": [
              "System.Collections.Generic.List`1[System.Double]\r\n"
            ]
          },
          "metadata": {}
        },
        {
          "output_type": "display_data",
          "data": {
            "text/plain": [
              "Grid Edge Tags changed.\r\n"
            ]
          },
          "metadata": {}
        },
        {
          "output_type": "display_data",
          "data": {
            "text/plain": [
              "VelocityFuel0.027728818127225847\r\n"
            ]
          },
          "metadata": {}
        },
        {
          "output_type": "display_data",
          "data": {
            "text/plain": [
              "VelocityAir0.07025638592887333\r\n"
            ]
          },
          "metadata": {}
        },
        {
          "output_type": "display_data",
          "data": {
            "text/plain": [
              "Full_CounterDifFlameP2K12mult1.1427879333496094_c20\r\n"
            ]
          },
          "metadata": {}
        },
        {
          "output_type": "display_data",
          "data": {
            "text/plain": [
              "Deploying job Full_CounterDifFlameP2K12mult1.1427879333496094_c20 ... \r\n"
            ]
          },
          "metadata": {}
        },
        {
          "output_type": "display_data",
          "data": {
            "text/plain": [
              "Deploying executables and additional files ...\r\n"
            ]
          },
          "metadata": {}
        },
        {
          "output_type": "display_data",
          "data": {
            "text/plain": [
              "Deployment directory: \\\\hpccluster\\hpccluster-scratch\\gutierrez\\binaries\\CounterFlowFlame123-XNSEC2021Jul31_032725\r\n"
            ]
          },
          "metadata": {}
        },
        {
          "output_type": "display_data",
          "data": {
            "text/plain": [
              "copied 52 files.\r\n"
            ]
          },
          "metadata": {}
        },
        {
          "output_type": "display_data",
          "data": {
            "text/plain": [
              "   written file: control.obj\r\n"
            ]
          },
          "metadata": {}
        },
        {
          "output_type": "display_data",
          "data": {
            "text/plain": [
              "   copied 'amd64' runtime.\r\n"
            ]
          },
          "metadata": {}
        },
        {
          "output_type": "display_data",
          "data": {
            "text/plain": [
              "deployment finished.\r\n"
            ]
          },
          "metadata": {}
        },
        {
          "output_type": "display_data",
          "data": {
            "text/plain": [
              "\r\n"
            ]
          },
          "metadata": {}
        },
        {
          "output_type": "display_data",
          "data": {
            "text/plain": [
              " ------------ MSHPC FailedOrCanceled; original Failed\r\n"
            ]
          },
          "metadata": {}
        },
        {
          "output_type": "display_data",
          "data": {
            "text/plain": [
              "All jobs finished.\r\n"
            ]
          },
          "metadata": {}
        },
        {
          "output_type": "display_data",
          "data": {
            "text/plain": [
              "Note: Job was deployed (1) number of times, all failed.\r\n"
            ]
          },
          "metadata": {}
        },
        {
          "output_type": "display_data",
          "data": {
            "text/plain": [
              "Hint: want to re-activate the job.\r\n"
            ]
          },
          "metadata": {}
        },
        {
          "output_type": "display_data",
          "data": {
            "text/plain": [
              "System.Collections.Generic.List`1[System.Double]\r\n"
            ]
          },
          "metadata": {}
        },
        {
          "output_type": "display_data",
          "data": {
            "text/plain": [
              "Grid Edge Tags changed.\r\n"
            ]
          },
          "metadata": {}
        },
        {
          "output_type": "display_data",
          "data": {
            "text/plain": [
              "VelocityFuel0.027702577219476308\r\n"
            ]
          },
          "metadata": {}
        },
        {
          "output_type": "display_data",
          "data": {
            "text/plain": [
              "VelocityAir0.07018989945499922\r\n"
            ]
          },
          "metadata": {}
        },
        {
          "output_type": "display_data",
          "data": {
            "text/plain": [
              "Full_CounterDifFlameP2K12mult1.1417064666748047_c21\r\n"
            ]
          },
          "metadata": {}
        },
        {
          "output_type": "display_data",
          "data": {
            "text/plain": [
              "Deploying job Full_CounterDifFlameP2K12mult1.1417064666748047_c21 ... \r\n"
            ]
          },
          "metadata": {}
        },
        {
          "output_type": "display_data",
          "data": {
            "text/plain": [
              "Deploying executables and additional files ...\r\n"
            ]
          },
          "metadata": {}
        },
        {
          "output_type": "display_data",
          "data": {
            "text/plain": [
              "Deployment directory: \\\\hpccluster\\hpccluster-scratch\\gutierrez\\binaries\\CounterFlowFlame123-XNSEC2021Jul31_041112\r\n"
            ]
          },
          "metadata": {}
        },
        {
          "output_type": "display_data",
          "data": {
            "text/plain": [
              "copied 52 files.\r\n"
            ]
          },
          "metadata": {}
        },
        {
          "output_type": "display_data",
          "data": {
            "text/plain": [
              "   written file: control.obj\r\n"
            ]
          },
          "metadata": {}
        },
        {
          "output_type": "display_data",
          "data": {
            "text/plain": [
              "   copied 'amd64' runtime.\r\n"
            ]
          },
          "metadata": {}
        },
        {
          "output_type": "display_data",
          "data": {
            "text/plain": [
              "deployment finished.\r\n"
            ]
          },
          "metadata": {}
        },
        {
          "output_type": "display_data",
          "data": {
            "text/plain": [
              "\r\n"
            ]
          },
          "metadata": {}
        },
        {
          "output_type": "display_data",
          "data": {
            "text/plain": [
              " ------------ MSHPC FailedOrCanceled; original Failed\r\n"
            ]
          },
          "metadata": {}
        },
        {
          "output_type": "display_data",
          "data": {
            "text/plain": [
              "All jobs finished.\r\n"
            ]
          },
          "metadata": {}
        },
        {
          "output_type": "display_data",
          "data": {
            "text/plain": [
              "Note: Job was deployed (1) number of times, all failed.\r\n"
            ]
          },
          "metadata": {}
        },
        {
          "output_type": "display_data",
          "data": {
            "text/plain": [
              "Hint: want to re-activate the job.\r\n"
            ]
          },
          "metadata": {}
        },
        {
          "output_type": "display_data",
          "data": {
            "text/plain": [
              "System.Collections.Generic.List`1[System.Double]\r\n"
            ]
          },
          "metadata": {}
        },
        {
          "output_type": "display_data",
          "data": {
            "text/plain": [
              "Grid Edge Tags changed.\r\n"
            ]
          },
          "metadata": {}
        },
        {
          "output_type": "display_data",
          "data": {
            "text/plain": [
              "VelocityFuel0.027689456765601538\r\n"
            ]
          },
          "metadata": {}
        },
        {
          "output_type": "display_data",
          "data": {
            "text/plain": [
              "VelocityAir0.07015665621806216\r\n"
            ]
          },
          "metadata": {}
        },
        {
          "output_type": "display_data",
          "data": {
            "text/plain": [
              "Full_CounterDifFlameP2K12mult1.1411657333374023_c22\r\n"
            ]
          },
          "metadata": {}
        },
        {
          "output_type": "display_data",
          "data": {
            "text/plain": [
              "Deploying job Full_CounterDifFlameP2K12mult1.1411657333374023_c22 ... \r\n"
            ]
          },
          "metadata": {}
        },
        {
          "output_type": "display_data",
          "data": {
            "text/plain": [
              "Deploying executables and additional files ...\r\n"
            ]
          },
          "metadata": {}
        },
        {
          "output_type": "display_data",
          "data": {
            "text/plain": [
              "Deployment directory: \\\\hpccluster\\hpccluster-scratch\\gutierrez\\binaries\\CounterFlowFlame123-XNSEC2021Jul31_045452\r\n"
            ]
          },
          "metadata": {}
        },
        {
          "output_type": "display_data",
          "data": {
            "text/plain": [
              "copied 52 files.\r\n"
            ]
          },
          "metadata": {}
        },
        {
          "output_type": "display_data",
          "data": {
            "text/plain": [
              "   written file: control.obj\r\n"
            ]
          },
          "metadata": {}
        },
        {
          "output_type": "display_data",
          "data": {
            "text/plain": [
              "   copied 'amd64' runtime.\r\n"
            ]
          },
          "metadata": {}
        },
        {
          "output_type": "display_data",
          "data": {
            "text/plain": [
              "deployment finished.\r\n"
            ]
          },
          "metadata": {}
        },
        {
          "output_type": "display_data",
          "data": {
            "text/plain": [
              "\r\n"
            ]
          },
          "metadata": {}
        },
        {
          "output_type": "display_data",
          "data": {
            "text/plain": [
              " ------------ MSHPC FailedOrCanceled; original Failed\r\n"
            ]
          },
          "metadata": {}
        },
        {
          "output_type": "display_data",
          "data": {
            "text/plain": [
              "All jobs finished.\r\n"
            ]
          },
          "metadata": {}
        },
        {
          "output_type": "display_data",
          "data": {
            "text/plain": [
              "Note: Job was deployed (1) number of times, all failed.\r\n"
            ]
          },
          "metadata": {}
        },
        {
          "output_type": "display_data",
          "data": {
            "text/plain": [
              "Hint: want to re-activate the job.\r\n"
            ]
          },
          "metadata": {}
        },
        {
          "output_type": "display_data",
          "data": {
            "text/plain": [
              "System.Collections.Generic.List`1[System.Double]\r\n"
            ]
          },
          "metadata": {}
        },
        {
          "output_type": "display_data",
          "data": {
            "text/plain": [
              "Grid Edge Tags changed.\r\n"
            ]
          },
          "metadata": {}
        },
        {
          "output_type": "display_data",
          "data": {
            "text/plain": [
              "VelocityFuel0.027682896538664153\r\n"
            ]
          },
          "metadata": {}
        },
        {
          "output_type": "display_data",
          "data": {
            "text/plain": [
              "VelocityAir0.07014003459959364\r\n"
            ]
          },
          "metadata": {}
        },
        {
          "output_type": "display_data",
          "data": {
            "text/plain": [
              "Full_CounterDifFlameP2K12mult1.1408953666687012_c23\r\n"
            ]
          },
          "metadata": {}
        },
        {
          "output_type": "display_data",
          "data": {
            "text/plain": [
              "Deploying job Full_CounterDifFlameP2K12mult1.1408953666687012_c23 ... \r\n"
            ]
          },
          "metadata": {}
        },
        {
          "output_type": "display_data",
          "data": {
            "text/plain": [
              "Deploying executables and additional files ...\r\n"
            ]
          },
          "metadata": {}
        },
        {
          "output_type": "display_data",
          "data": {
            "text/plain": [
              "Deployment directory: \\\\hpccluster\\hpccluster-scratch\\gutierrez\\binaries\\CounterFlowFlame123-XNSEC2021Jul31_053656\r\n"
            ]
          },
          "metadata": {}
        },
        {
          "output_type": "display_data",
          "data": {
            "text/plain": [
              "copied 52 files.\r\n"
            ]
          },
          "metadata": {}
        },
        {
          "output_type": "display_data",
          "data": {
            "text/plain": [
              "   written file: control.obj\r\n"
            ]
          },
          "metadata": {}
        },
        {
          "output_type": "display_data",
          "data": {
            "text/plain": [
              "   copied 'amd64' runtime.\r\n"
            ]
          },
          "metadata": {}
        },
        {
          "output_type": "display_data",
          "data": {
            "text/plain": [
              "deployment finished.\r\n"
            ]
          },
          "metadata": {}
        },
        {
          "output_type": "display_data",
          "data": {
            "text/plain": [
              "\r\n"
            ]
          },
          "metadata": {}
        },
        {
          "output_type": "display_data",
          "data": {
            "text/plain": [
              " ------------ MSHPC FailedOrCanceled; original Failed\r\n"
            ]
          },
          "metadata": {}
        },
        {
          "output_type": "display_data",
          "data": {
            "text/plain": [
              "All jobs finished.\r\n"
            ]
          },
          "metadata": {}
        },
        {
          "output_type": "display_data",
          "data": {
            "text/plain": [
              "Note: Job was deployed (1) number of times, all failed.\r\n"
            ]
          },
          "metadata": {}
        },
        {
          "output_type": "display_data",
          "data": {
            "text/plain": [
              "Hint: want to re-activate the job.\r\n"
            ]
          },
          "metadata": {}
        },
        {
          "output_type": "display_data",
          "data": {
            "text/plain": [
              "System.Collections.Generic.List`1[System.Double]\r\n"
            ]
          },
          "metadata": {}
        },
        {
          "output_type": "display_data",
          "data": {
            "text/plain": [
              "Grid Edge Tags changed.\r\n"
            ]
          },
          "metadata": {}
        },
        {
          "output_type": "display_data",
          "data": {
            "text/plain": [
              "VelocityFuel0.027679616425195463\r\n"
            ]
          },
          "metadata": {}
        },
        {
          "output_type": "display_data",
          "data": {
            "text/plain": [
              "VelocityAir0.07013172379035938\r\n"
            ]
          },
          "metadata": {}
        },
        {
          "output_type": "display_data",
          "data": {
            "text/plain": [
              "Full_CounterDifFlameP2K12mult1.1407601833343506_c24\r\n"
            ]
          },
          "metadata": {}
        },
        {
          "output_type": "display_data",
          "data": {
            "text/plain": [
              "Deploying job Full_CounterDifFlameP2K12mult1.1407601833343506_c24 ... \r\n"
            ]
          },
          "metadata": {}
        },
        {
          "output_type": "display_data",
          "data": {
            "text/plain": [
              "Deploying executables and additional files ...\r\n"
            ]
          },
          "metadata": {}
        },
        {
          "output_type": "display_data",
          "data": {
            "text/plain": [
              "Deployment directory: \\\\hpccluster\\hpccluster-scratch\\gutierrez\\binaries\\CounterFlowFlame123-XNSEC2021Jul31_061850\r\n"
            ]
          },
          "metadata": {}
        },
        {
          "output_type": "display_data",
          "data": {
            "text/plain": [
              "copied 52 files.\r\n"
            ]
          },
          "metadata": {}
        },
        {
          "output_type": "display_data",
          "data": {
            "text/plain": [
              "   written file: control.obj\r\n"
            ]
          },
          "metadata": {}
        },
        {
          "output_type": "display_data",
          "data": {
            "text/plain": [
              "   copied 'amd64' runtime.\r\n"
            ]
          },
          "metadata": {}
        },
        {
          "output_type": "display_data",
          "data": {
            "text/plain": [
              "deployment finished.\r\n"
            ]
          },
          "metadata": {}
        },
        {
          "output_type": "display_data",
          "data": {
            "text/plain": [
              "\r\n"
            ]
          },
          "metadata": {}
        },
        {
          "output_type": "display_data",
          "data": {
            "text/plain": [
              " ------------ MSHPC FailedOrCanceled; original Failed\r\n"
            ]
          },
          "metadata": {}
        },
        {
          "output_type": "display_data",
          "data": {
            "text/plain": [
              "All jobs finished.\r\n"
            ]
          },
          "metadata": {}
        },
        {
          "output_type": "display_data",
          "data": {
            "text/plain": [
              "Note: Job was deployed (1) number of times, all failed.\r\n"
            ]
          },
          "metadata": {}
        },
        {
          "output_type": "display_data",
          "data": {
            "text/plain": [
              "Hint: want to re-activate the job.\r\n"
            ]
          },
          "metadata": {}
        },
        {
          "output_type": "display_data",
          "data": {
            "text/plain": [
              "System.Collections.Generic.List`1[System.Double]\r\n"
            ]
          },
          "metadata": {}
        },
        {
          "output_type": "display_data",
          "data": {
            "text/plain": [
              "Grid Edge Tags changed.\r\n"
            ]
          },
          "metadata": {}
        },
        {
          "output_type": "display_data",
          "data": {
            "text/plain": [
              "VelocityFuel0.027677976368461116\r\n"
            ]
          },
          "metadata": {}
        },
        {
          "output_type": "display_data",
          "data": {
            "text/plain": [
              "VelocityAir0.07012756838574224\r\n"
            ]
          },
          "metadata": {}
        },
        {
          "output_type": "display_data",
          "data": {
            "text/plain": [
              "Full_CounterDifFlameP2K12mult1.1406925916671753_c25\r\n"
            ]
          },
          "metadata": {}
        },
        {
          "output_type": "display_data",
          "data": {
            "text/plain": [
              "Deploying job Full_CounterDifFlameP2K12mult1.1406925916671753_c25 ... \r\n"
            ]
          },
          "metadata": {}
        },
        {
          "output_type": "display_data",
          "data": {
            "text/plain": [
              "Deploying executables and additional files ...\r\n"
            ]
          },
          "metadata": {}
        },
        {
          "output_type": "display_data",
          "data": {
            "text/plain": [
              "Deployment directory: \\\\hpccluster\\hpccluster-scratch\\gutierrez\\binaries\\CounterFlowFlame123-XNSEC2021Jul31_070013\r\n"
            ]
          },
          "metadata": {}
        },
        {
          "output_type": "display_data",
          "data": {
            "text/plain": [
              "copied 52 files.\r\n"
            ]
          },
          "metadata": {}
        },
        {
          "output_type": "display_data",
          "data": {
            "text/plain": [
              "   written file: control.obj\r\n"
            ]
          },
          "metadata": {}
        },
        {
          "output_type": "display_data",
          "data": {
            "text/plain": [
              "   copied 'amd64' runtime.\r\n"
            ]
          },
          "metadata": {}
        },
        {
          "output_type": "display_data",
          "data": {
            "text/plain": [
              "deployment finished.\r\n"
            ]
          },
          "metadata": {}
        },
        {
          "output_type": "display_data",
          "data": {
            "text/plain": [
              "\r\n"
            ]
          },
          "metadata": {}
        },
        {
          "output_type": "display_data",
          "data": {
            "text/plain": [
              " ------------ MSHPC FailedOrCanceled; original Failed\r\n"
            ]
          },
          "metadata": {}
        },
        {
          "output_type": "display_data",
          "data": {
            "text/plain": [
              "All jobs finished.\r\n"
            ]
          },
          "metadata": {}
        },
        {
          "output_type": "display_data",
          "data": {
            "text/plain": [
              "Note: Job was deployed (1) number of times, all failed.\r\n"
            ]
          },
          "metadata": {}
        },
        {
          "output_type": "display_data",
          "data": {
            "text/plain": [
              "Hint: want to re-activate the job.\r\n"
            ]
          },
          "metadata": {}
        },
        {
          "output_type": "display_data",
          "data": {
            "text/plain": [
              "System.Collections.Generic.List`1[System.Double]\r\n"
            ]
          },
          "metadata": {}
        },
        {
          "output_type": "display_data",
          "data": {
            "text/plain": [
              "Grid Edge Tags changed.\r\n"
            ]
          },
          "metadata": {}
        },
        {
          "output_type": "display_data",
          "data": {
            "text/plain": [
              "VelocityFuel0.02767715634009394\r\n"
            ]
          },
          "metadata": {}
        },
        {
          "output_type": "display_data",
          "data": {
            "text/plain": [
              "VelocityAir0.07012549068343368\r\n"
            ]
          },
          "metadata": {}
        },
        {
          "output_type": "display_data",
          "data": {
            "text/plain": [
              "Full_CounterDifFlameP2K12mult1.1406587958335876_c26\r\n"
            ]
          },
          "metadata": {}
        },
        {
          "output_type": "display_data",
          "data": {
            "text/plain": [
              "Deploying job Full_CounterDifFlameP2K12mult1.1406587958335876_c26 ... \r\n"
            ]
          },
          "metadata": {}
        },
        {
          "output_type": "display_data",
          "data": {
            "text/plain": [
              "Deploying executables and additional files ...\r\n"
            ]
          },
          "metadata": {}
        },
        {
          "output_type": "display_data",
          "data": {
            "text/plain": [
              "Deployment directory: \\\\hpccluster\\hpccluster-scratch\\gutierrez\\binaries\\CounterFlowFlame123-XNSEC2021Jul31_074127\r\n"
            ]
          },
          "metadata": {}
        },
        {
          "output_type": "display_data",
          "data": {
            "text/plain": [
              "copied 52 files.\r\n"
            ]
          },
          "metadata": {}
        },
        {
          "output_type": "display_data",
          "data": {
            "text/plain": [
              "   written file: control.obj\r\n"
            ]
          },
          "metadata": {}
        },
        {
          "output_type": "display_data",
          "data": {
            "text/plain": [
              "   copied 'amd64' runtime.\r\n"
            ]
          },
          "metadata": {}
        },
        {
          "output_type": "display_data",
          "data": {
            "text/plain": [
              "deployment finished.\r\n"
            ]
          },
          "metadata": {}
        },
        {
          "output_type": "display_data",
          "data": {
            "text/plain": [
              "\r\n"
            ]
          },
          "metadata": {}
        },
        {
          "output_type": "display_data",
          "data": {
            "text/plain": [
              " ------------ MSHPC FailedOrCanceled; original Failed\r\n"
            ]
          },
          "metadata": {}
        },
        {
          "output_type": "display_data",
          "data": {
            "text/plain": [
              "All jobs finished.\r\n"
            ]
          },
          "metadata": {}
        },
        {
          "output_type": "display_data",
          "data": {
            "text/plain": [
              "Note: Job was deployed (1) number of times, all failed.\r\n"
            ]
          },
          "metadata": {}
        },
        {
          "output_type": "display_data",
          "data": {
            "text/plain": [
              "Hint: want to re-activate the job.\r\n"
            ]
          },
          "metadata": {}
        },
        {
          "output_type": "display_data",
          "data": {
            "text/plain": [
              "System.Collections.Generic.List`1[System.Double]\r\n"
            ]
          },
          "metadata": {}
        },
        {
          "output_type": "display_data",
          "data": {
            "text/plain": [
              "Grid Edge Tags changed.\r\n"
            ]
          },
          "metadata": {}
        },
        {
          "output_type": "display_data",
          "data": {
            "text/plain": [
              "VelocityFuel0.027676746325910353\r\n"
            ]
          },
          "metadata": {}
        },
        {
          "output_type": "display_data",
          "data": {
            "text/plain": [
              "VelocityAir0.07012445183227939\r\n"
            ]
          },
          "metadata": {}
        },
        {
          "output_type": "display_data",
          "data": {
            "text/plain": [
              "Full_CounterDifFlameP2K12mult1.1406418979167938_c27\r\n"
            ]
          },
          "metadata": {}
        },
        {
          "output_type": "display_data",
          "data": {
            "text/plain": [
              "Deploying job Full_CounterDifFlameP2K12mult1.1406418979167938_c27 ... \r\n"
            ]
          },
          "metadata": {}
        },
        {
          "output_type": "display_data",
          "data": {
            "text/plain": [
              "Deploying executables and additional files ...\r\n"
            ]
          },
          "metadata": {}
        },
        {
          "output_type": "display_data",
          "data": {
            "text/plain": [
              "Deployment directory: \\\\hpccluster\\hpccluster-scratch\\gutierrez\\binaries\\CounterFlowFlame123-XNSEC2021Jul31_082310\r\n"
            ]
          },
          "metadata": {}
        },
        {
          "output_type": "display_data",
          "data": {
            "text/plain": [
              "copied 52 files.\r\n"
            ]
          },
          "metadata": {}
        },
        {
          "output_type": "display_data",
          "data": {
            "text/plain": [
              "   written file: control.obj\r\n"
            ]
          },
          "metadata": {}
        },
        {
          "output_type": "display_data",
          "data": {
            "text/plain": [
              "   copied 'amd64' runtime.\r\n"
            ]
          },
          "metadata": {}
        },
        {
          "output_type": "display_data",
          "data": {
            "text/plain": [
              "deployment finished.\r\n"
            ]
          },
          "metadata": {}
        },
        {
          "output_type": "display_data",
          "data": {
            "text/plain": [
              "\r\n"
            ]
          },
          "metadata": {}
        },
        {
          "output_type": "display_data",
          "data": {
            "text/plain": [
              "All jobs finished.\r\n"
            ]
          },
          "metadata": {}
        },
        {
          "output_type": "display_data",
          "data": {
            "text/plain": [
              "Info: Found successful session \"CounterFlowFlame123\tFull_CounterDifFlameP2K12mult1.1406418979167938_c27\t07/31/2021 08:23:33\tb9ed07fd...\" -- job is marked as successful, no further action.\r\n"
            ]
          },
          "metadata": {}
        },
        {
          "output_type": "display_data",
          "data": {
            "text/plain": [
              "System.Collections.Generic.List`1[System.Double]\r\n"
            ]
          },
          "metadata": {}
        },
        {
          "output_type": "display_data",
          "data": {
            "text/plain": [
              "Grid Edge Tags changed.\r\n"
            ]
          },
          "metadata": {}
        },
        {
          "output_type": "display_data",
          "data": {
            "text/plain": [
              "VelocityFuel0.2426418525959607\r\n"
            ]
          },
          "metadata": {}
        },
        {
          "output_type": "display_data",
          "data": {
            "text/plain": [
              "VelocityAir0.6147806069578092\r\n"
            ]
          },
          "metadata": {}
        },
        {
          "output_type": "display_data",
          "data": {
            "text/plain": [
              "Full_CounterDifFlameP2K12mult10_c28\r\n"
            ]
          },
          "metadata": {}
        },
        {
          "output_type": "display_data",
          "data": {
            "text/plain": [
              "Deploying job Full_CounterDifFlameP2K12mult10_c28 ... \r\n"
            ]
          },
          "metadata": {}
        },
        {
          "output_type": "display_data",
          "data": {
            "text/plain": [
              "Deploying executables and additional files ...\r\n"
            ]
          },
          "metadata": {}
        },
        {
          "output_type": "display_data",
          "data": {
            "text/plain": [
              "Deployment directory: \\\\hpccluster\\hpccluster-scratch\\gutierrez\\binaries\\CounterFlowFlame123-XNSEC2021Jul31_090509\r\n"
            ]
          },
          "metadata": {}
        },
        {
          "output_type": "display_data",
          "data": {
            "text/plain": [
              "copied 52 files.\r\n"
            ]
          },
          "metadata": {}
        },
        {
          "output_type": "display_data",
          "data": {
            "text/plain": [
              "   written file: control.obj\r\n"
            ]
          },
          "metadata": {}
        },
        {
          "output_type": "display_data",
          "data": {
            "text/plain": [
              "   copied 'amd64' runtime.\r\n"
            ]
          },
          "metadata": {}
        },
        {
          "output_type": "display_data",
          "data": {
            "text/plain": [
              "deployment finished.\r\n"
            ]
          },
          "metadata": {}
        },
        {
          "output_type": "display_data",
          "data": {
            "text/plain": [
              "\r\n"
            ]
          },
          "metadata": {}
        },
        {
          "output_type": "display_data",
          "data": {
            "text/plain": [
              " ------------ MSHPC FailedOrCanceled; original Failed\r\n"
            ]
          },
          "metadata": {}
        },
        {
          "output_type": "display_data",
          "data": {
            "text/plain": [
              "All jobs finished.\r\n"
            ]
          },
          "metadata": {}
        },
        {
          "output_type": "display_data",
          "data": {
            "text/plain": [
              "Note: Job was deployed (1) number of times, all failed.\r\n"
            ]
          },
          "metadata": {}
        },
        {
          "output_type": "display_data",
          "data": {
            "text/plain": [
              "Hint: want to re-activate the job.\r\n"
            ]
          },
          "metadata": {}
        },
        {
          "output_type": "display_data",
          "data": {
            "text/plain": [
              "System.Collections.Generic.List`1[System.Double]\r\n"
            ]
          },
          "metadata": {}
        },
        {
          "output_type": "display_data",
          "data": {
            "text/plain": [
              "Grid Edge Tags changed.\r\n"
            ]
          },
          "metadata": {}
        },
        {
          "output_type": "display_data",
          "data": {
            "text/plain": [
              "VelocityFuel0.13515929946093552\r\n"
            ]
          },
          "metadata": {}
        },
        {
          "output_type": "display_data",
          "data": {
            "text/plain": [
              "VelocityAir0.34245252939504434\r\n"
            ]
          },
          "metadata": {}
        },
        {
          "output_type": "display_data",
          "data": {
            "text/plain": [
              "Full_CounterDifFlameP2K12mult5.570320948958397_c29\r\n"
            ]
          },
          "metadata": {}
        },
        {
          "output_type": "display_data",
          "data": {
            "text/plain": [
              "Deploying job Full_CounterDifFlameP2K12mult5.570320948958397_c29 ... \r\n"
            ]
          },
          "metadata": {}
        },
        {
          "output_type": "display_data",
          "data": {
            "text/plain": [
              "Deploying executables and additional files ...\r\n"
            ]
          },
          "metadata": {}
        },
        {
          "output_type": "display_data",
          "data": {
            "text/plain": [
              "Deployment directory: \\\\hpccluster\\hpccluster-scratch\\gutierrez\\binaries\\CounterFlowFlame123-XNSEC2021Jul31_090924\r\n"
            ]
          },
          "metadata": {}
        },
        {
          "output_type": "display_data",
          "data": {
            "text/plain": [
              "copied 52 files.\r\n"
            ]
          },
          "metadata": {}
        },
        {
          "output_type": "display_data",
          "data": {
            "text/plain": [
              "   written file: control.obj\r\n"
            ]
          },
          "metadata": {}
        },
        {
          "output_type": "display_data",
          "data": {
            "text/plain": [
              "   copied 'amd64' runtime.\r\n"
            ]
          },
          "metadata": {}
        },
        {
          "output_type": "display_data",
          "data": {
            "text/plain": [
              "deployment finished.\r\n"
            ]
          },
          "metadata": {}
        },
        {
          "output_type": "display_data",
          "data": {
            "text/plain": [
              "\r\n"
            ]
          },
          "metadata": {}
        },
        {
          "output_type": "display_data",
          "data": {
            "text/plain": [
              " ------------ MSHPC FailedOrCanceled; original Failed\r\n"
            ]
          },
          "metadata": {}
        },
        {
          "output_type": "display_data",
          "data": {
            "text/plain": [
              "All jobs finished.\r\n"
            ]
          },
          "metadata": {}
        },
        {
          "output_type": "display_data",
          "data": {
            "text/plain": [
              "Note: Job was deployed (1) number of times, all failed.\r\n"
            ]
          },
          "metadata": {}
        },
        {
          "output_type": "display_data",
          "data": {
            "text/plain": [
              "Hint: want to re-activate the job.\r\n"
            ]
          },
          "metadata": {}
        },
        {
          "output_type": "display_data",
          "data": {
            "text/plain": [
              "System.Collections.Generic.List`1[System.Double]\r\n"
            ]
          },
          "metadata": {}
        },
        {
          "output_type": "display_data",
          "data": {
            "text/plain": [
              "Grid Edge Tags changed.\r\n"
            ]
          },
          "metadata": {}
        },
        {
          "output_type": "display_data",
          "data": {
            "text/plain": [
              "VelocityFuel0.08141802289342294\r\n"
            ]
          },
          "metadata": {}
        },
        {
          "output_type": "display_data",
          "data": {
            "text/plain": [
              "VelocityAir0.20628849061366183\r\n"
            ]
          },
          "metadata": {}
        },
        {
          "output_type": "display_data",
          "data": {
            "text/plain": [
              "Full_CounterDifFlameP2K12mult3.3554814234375954_c30\r\n"
            ]
          },
          "metadata": {}
        },
        {
          "output_type": "display_data",
          "data": {
            "text/plain": [
              "Deploying job Full_CounterDifFlameP2K12mult3.3554814234375954_c30 ... \r\n"
            ]
          },
          "metadata": {}
        },
        {
          "output_type": "display_data",
          "data": {
            "text/plain": [
              "Deploying executables and additional files ...\r\n"
            ]
          },
          "metadata": {}
        },
        {
          "output_type": "display_data",
          "data": {
            "text/plain": [
              "Deployment directory: \\\\hpccluster\\hpccluster-scratch\\gutierrez\\binaries\\CounterFlowFlame123-XNSEC2021Jul31_091436\r\n"
            ]
          },
          "metadata": {}
        },
        {
          "output_type": "display_data",
          "data": {
            "text/plain": [
              "copied 52 files.\r\n"
            ]
          },
          "metadata": {}
        },
        {
          "output_type": "display_data",
          "data": {
            "text/plain": [
              "   written file: control.obj\r\n"
            ]
          },
          "metadata": {}
        },
        {
          "output_type": "display_data",
          "data": {
            "text/plain": [
              "   copied 'amd64' runtime.\r\n"
            ]
          },
          "metadata": {}
        },
        {
          "output_type": "display_data",
          "data": {
            "text/plain": [
              "deployment finished.\r\n"
            ]
          },
          "metadata": {}
        },
        {
          "output_type": "display_data",
          "data": {
            "text/plain": [
              "\r\n"
            ]
          },
          "metadata": {}
        },
        {
          "output_type": "display_data",
          "data": {
            "text/plain": [
              " ------------ MSHPC FailedOrCanceled; original Failed\r\n"
            ]
          },
          "metadata": {}
        },
        {
          "output_type": "display_data",
          "data": {
            "text/plain": [
              "All jobs finished.\r\n"
            ]
          },
          "metadata": {}
        },
        {
          "output_type": "display_data",
          "data": {
            "text/plain": [
              "Note: Job was deployed (1) number of times, all failed.\r\n"
            ]
          },
          "metadata": {}
        },
        {
          "output_type": "display_data",
          "data": {
            "text/plain": [
              "Hint: want to re-activate the job.\r\n"
            ]
          },
          "metadata": {}
        },
        {
          "output_type": "display_data",
          "data": {
            "text/plain": [
              "System.Collections.Generic.List`1[System.Double]\r\n"
            ]
          },
          "metadata": {}
        },
        {
          "output_type": "display_data",
          "data": {
            "text/plain": [
              "Grid Edge Tags changed.\r\n"
            ]
          },
          "metadata": {}
        },
        {
          "output_type": "display_data",
          "data": {
            "text/plain": [
              "VelocityFuel0.05454738460966665\r\n"
            ]
          },
          "metadata": {}
        },
        {
          "output_type": "display_data",
          "data": {
            "text/plain": [
              "VelocityAir0.13820647122297064\r\n"
            ]
          },
          "metadata": {}
        },
        {
          "output_type": "display_data",
          "data": {
            "text/plain": [
              "Full_CounterDifFlameP2K12mult2.2480616606771946_c31\r\n"
            ]
          },
          "metadata": {}
        },
        {
          "output_type": "display_data",
          "data": {
            "text/plain": [
              "Deploying job Full_CounterDifFlameP2K12mult2.2480616606771946_c31 ... \r\n"
            ]
          },
          "metadata": {}
        },
        {
          "output_type": "display_data",
          "data": {
            "text/plain": [
              "Deploying executables and additional files ...\r\n"
            ]
          },
          "metadata": {}
        },
        {
          "output_type": "display_data",
          "data": {
            "text/plain": [
              "Deployment directory: \\\\hpccluster\\hpccluster-scratch\\gutierrez\\binaries\\CounterFlowFlame123-XNSEC2021Jul31_091922\r\n"
            ]
          },
          "metadata": {}
        },
        {
          "output_type": "display_data",
          "data": {
            "text/plain": [
              "copied 52 files.\r\n"
            ]
          },
          "metadata": {}
        },
        {
          "output_type": "display_data",
          "data": {
            "text/plain": [
              "   written file: control.obj\r\n"
            ]
          },
          "metadata": {}
        },
        {
          "output_type": "display_data",
          "data": {
            "text/plain": [
              "   copied 'amd64' runtime.\r\n"
            ]
          },
          "metadata": {}
        },
        {
          "output_type": "display_data",
          "data": {
            "text/plain": [
              "deployment finished.\r\n"
            ]
          },
          "metadata": {}
        },
        {
          "output_type": "display_data",
          "data": {
            "text/plain": [
              "\r\n"
            ]
          },
          "metadata": {}
        },
        {
          "output_type": "display_data",
          "data": {
            "text/plain": [
              " ------------ MSHPC FailedOrCanceled; original Failed\r\n"
            ]
          },
          "metadata": {}
        },
        {
          "output_type": "display_data",
          "data": {
            "text/plain": [
              "All jobs finished.\r\n"
            ]
          },
          "metadata": {}
        },
        {
          "output_type": "display_data",
          "data": {
            "text/plain": [
              "Note: Job was deployed (1) number of times, all failed.\r\n"
            ]
          },
          "metadata": {}
        },
        {
          "output_type": "display_data",
          "data": {
            "text/plain": [
              "Hint: want to re-activate the job.\r\n"
            ]
          },
          "metadata": {}
        },
        {
          "output_type": "display_data",
          "data": {
            "text/plain": [
              "System.Collections.Generic.List`1[System.Double]\r\n"
            ]
          },
          "metadata": {}
        },
        {
          "output_type": "display_data",
          "data": {
            "text/plain": [
              "Grid Edge Tags changed.\r\n"
            ]
          },
          "metadata": {}
        },
        {
          "output_type": "display_data",
          "data": {
            "text/plain": [
              "VelocityFuel0.041112065467788506\r\n"
            ]
          },
          "metadata": {}
        },
        {
          "output_type": "display_data",
          "data": {
            "text/plain": [
              "VelocityAir0.10416546152762501\r\n"
            ]
          },
          "metadata": {}
        },
        {
          "output_type": "display_data",
          "data": {
            "text/plain": [
              "Full_CounterDifFlameP2K12mult1.6943517792969942_c32\r\n"
            ]
          },
          "metadata": {}
        },
        {
          "output_type": "display_data",
          "data": {
            "text/plain": [
              "Deploying job Full_CounterDifFlameP2K12mult1.6943517792969942_c32 ... \r\n"
            ]
          },
          "metadata": {}
        },
        {
          "output_type": "display_data",
          "data": {
            "text/plain": [
              "Deploying executables and additional files ...\r\n"
            ]
          },
          "metadata": {}
        },
        {
          "output_type": "display_data",
          "data": {
            "text/plain": [
              "Deployment directory: \\\\hpccluster\\hpccluster-scratch\\gutierrez\\binaries\\CounterFlowFlame123-XNSEC2021Jul31_092429\r\n"
            ]
          },
          "metadata": {}
        },
        {
          "output_type": "display_data",
          "data": {
            "text/plain": [
              "copied 52 files.\r\n"
            ]
          },
          "metadata": {}
        },
        {
          "output_type": "display_data",
          "data": {
            "text/plain": [
              "   written file: control.obj\r\n"
            ]
          },
          "metadata": {}
        },
        {
          "output_type": "display_data",
          "data": {
            "text/plain": [
              "   copied 'amd64' runtime.\r\n"
            ]
          },
          "metadata": {}
        },
        {
          "output_type": "display_data",
          "data": {
            "text/plain": [
              "deployment finished.\r\n"
            ]
          },
          "metadata": {}
        },
        {
          "output_type": "display_data",
          "data": {
            "text/plain": [
              "\r\n"
            ]
          },
          "metadata": {}
        },
        {
          "output_type": "display_data",
          "data": {
            "text/plain": [
              " ------------ MSHPC FailedOrCanceled; original Failed\r\n"
            ]
          },
          "metadata": {}
        },
        {
          "output_type": "display_data",
          "data": {
            "text/plain": [
              "All jobs finished.\r\n"
            ]
          },
          "metadata": {}
        },
        {
          "output_type": "display_data",
          "data": {
            "text/plain": [
              "Note: Job was deployed (1) number of times, all failed.\r\n"
            ]
          },
          "metadata": {}
        },
        {
          "output_type": "display_data",
          "data": {
            "text/plain": [
              "Hint: want to re-activate the job.\r\n"
            ]
          },
          "metadata": {}
        },
        {
          "output_type": "display_data",
          "data": {
            "text/plain": [
              "System.Collections.Generic.List`1[System.Double]\r\n"
            ]
          },
          "metadata": {}
        },
        {
          "output_type": "display_data",
          "data": {
            "text/plain": [
              "Grid Edge Tags changed.\r\n"
            ]
          },
          "metadata": {}
        },
        {
          "output_type": "display_data",
          "data": {
            "text/plain": [
              "VelocityFuel0.03439440589684943\r\n"
            ]
          },
          "metadata": {}
        },
        {
          "output_type": "display_data",
          "data": {
            "text/plain": [
              "VelocityAir0.0871449566799522\r\n"
            ]
          },
          "metadata": {}
        },
        {
          "output_type": "display_data",
          "data": {
            "text/plain": [
              "Full_CounterDifFlameP2K12mult1.417496838606894_c33\r\n"
            ]
          },
          "metadata": {}
        },
        {
          "output_type": "display_data",
          "data": {
            "text/plain": [
              "Deploying job Full_CounterDifFlameP2K12mult1.417496838606894_c33 ... \r\n"
            ]
          },
          "metadata": {}
        },
        {
          "output_type": "display_data",
          "data": {
            "text/plain": [
              "Deploying executables and additional files ...\r\n"
            ]
          },
          "metadata": {}
        },
        {
          "output_type": "display_data",
          "data": {
            "text/plain": [
              "Deployment directory: \\\\hpccluster\\hpccluster-scratch\\gutierrez\\binaries\\CounterFlowFlame123-XNSEC2021Jul31_092936\r\n"
            ]
          },
          "metadata": {}
        },
        {
          "output_type": "display_data",
          "data": {
            "text/plain": [
              "copied 52 files.\r\n"
            ]
          },
          "metadata": {}
        },
        {
          "output_type": "display_data",
          "data": {
            "text/plain": [
              "   written file: control.obj\r\n"
            ]
          },
          "metadata": {}
        },
        {
          "output_type": "display_data",
          "data": {
            "text/plain": [
              "   copied 'amd64' runtime.\r\n"
            ]
          },
          "metadata": {}
        },
        {
          "output_type": "display_data",
          "data": {
            "text/plain": [
              "deployment finished.\r\n"
            ]
          },
          "metadata": {}
        },
        {
          "output_type": "display_data",
          "data": {
            "text/plain": [
              "\r\n"
            ]
          },
          "metadata": {}
        },
        {
          "output_type": "display_data",
          "data": {
            "text/plain": [
              " ------------ MSHPC FailedOrCanceled; original Failed\r\n"
            ]
          },
          "metadata": {}
        },
        {
          "output_type": "display_data",
          "data": {
            "text/plain": [
              "All jobs finished.\r\n"
            ]
          },
          "metadata": {}
        },
        {
          "output_type": "display_data",
          "data": {
            "text/plain": [
              "Note: Job was deployed (1) number of times, all failed.\r\n"
            ]
          },
          "metadata": {}
        },
        {
          "output_type": "display_data",
          "data": {
            "text/plain": [
              "Hint: want to re-activate the job.\r\n"
            ]
          },
          "metadata": {}
        },
        {
          "output_type": "display_data",
          "data": {
            "text/plain": [
              "System.Collections.Generic.List`1[System.Double]\r\n"
            ]
          },
          "metadata": {}
        },
        {
          "output_type": "display_data",
          "data": {
            "text/plain": [
              "Grid Edge Tags changed.\r\n"
            ]
          },
          "metadata": {}
        },
        {
          "output_type": "display_data",
          "data": {
            "text/plain": [
              "VelocityFuel0.03103557611137989\r\n"
            ]
          },
          "metadata": {}
        },
        {
          "output_type": "display_data",
          "data": {
            "text/plain": [
              "VelocityAir0.0786347042561158\r\n"
            ]
          },
          "metadata": {}
        },
        {
          "output_type": "display_data",
          "data": {
            "text/plain": [
              "Full_CounterDifFlameP2K12mult1.279069368261844_c34\r\n"
            ]
          },
          "metadata": {}
        },
        {
          "output_type": "display_data",
          "data": {
            "text/plain": [
              "Deploying job Full_CounterDifFlameP2K12mult1.279069368261844_c34 ... \r\n"
            ]
          },
          "metadata": {}
        },
        {
          "output_type": "display_data",
          "data": {
            "text/plain": [
              "Deploying executables and additional files ...\r\n"
            ]
          },
          "metadata": {}
        },
        {
          "output_type": "display_data",
          "data": {
            "text/plain": [
              "Deployment directory: \\\\hpccluster\\hpccluster-scratch\\gutierrez\\binaries\\CounterFlowFlame123-XNSEC2021Jul31_101117\r\n"
            ]
          },
          "metadata": {}
        },
        {
          "output_type": "display_data",
          "data": {
            "text/plain": [
              "copied 52 files.\r\n"
            ]
          },
          "metadata": {}
        },
        {
          "output_type": "display_data",
          "data": {
            "text/plain": [
              "   written file: control.obj\r\n"
            ]
          },
          "metadata": {}
        },
        {
          "output_type": "display_data",
          "data": {
            "text/plain": [
              "   copied 'amd64' runtime.\r\n"
            ]
          },
          "metadata": {}
        },
        {
          "output_type": "display_data",
          "data": {
            "text/plain": [
              "deployment finished.\r\n"
            ]
          },
          "metadata": {}
        },
        {
          "output_type": "display_data",
          "data": {
            "text/plain": [
              "\r\n"
            ]
          },
          "metadata": {}
        },
        {
          "output_type": "display_data",
          "data": {
            "text/plain": [
              " ------------ MSHPC FailedOrCanceled; original Failed\r\n"
            ]
          },
          "metadata": {}
        },
        {
          "output_type": "display_data",
          "data": {
            "text/plain": [
              "All jobs finished.\r\n"
            ]
          },
          "metadata": {}
        },
        {
          "output_type": "display_data",
          "data": {
            "text/plain": [
              "Note: Job was deployed (1) number of times, all failed.\r\n"
            ]
          },
          "metadata": {}
        },
        {
          "output_type": "display_data",
          "data": {
            "text/plain": [
              "Hint: want to re-activate the job.\r\n"
            ]
          },
          "metadata": {}
        },
        {
          "output_type": "display_data",
          "data": {
            "text/plain": [
              "System.Collections.Generic.List`1[System.Double]\r\n"
            ]
          },
          "metadata": {}
        },
        {
          "output_type": "display_data",
          "data": {
            "text/plain": [
              "Grid Edge Tags changed.\r\n"
            ]
          },
          "metadata": {}
        },
        {
          "output_type": "display_data",
          "data": {
            "text/plain": [
              "VelocityFuel0.029356161218645125\r\n"
            ]
          },
          "metadata": {}
        },
        {
          "output_type": "display_data",
          "data": {
            "text/plain": [
              "VelocityAir0.0743795780441976\r\n"
            ]
          },
          "metadata": {}
        },
        {
          "output_type": "display_data",
          "data": {
            "text/plain": [
              "Full_CounterDifFlameP2K12mult1.2098556330893189_c35\r\n"
            ]
          },
          "metadata": {}
        },
        {
          "output_type": "display_data",
          "data": {
            "text/plain": [
              "Deploying job Full_CounterDifFlameP2K12mult1.2098556330893189_c35 ... \r\n"
            ]
          },
          "metadata": {}
        },
        {
          "output_type": "display_data",
          "data": {
            "text/plain": [
              "Deploying executables and additional files ...\r\n"
            ]
          },
          "metadata": {}
        },
        {
          "output_type": "display_data",
          "data": {
            "text/plain": [
              "Deployment directory: \\\\hpccluster\\hpccluster-scratch\\gutierrez\\binaries\\CounterFlowFlame123-XNSEC2021Jul31_105303\r\n"
            ]
          },
          "metadata": {}
        },
        {
          "output_type": "display_data",
          "data": {
            "text/plain": [
              "copied 52 files.\r\n"
            ]
          },
          "metadata": {}
        },
        {
          "output_type": "display_data",
          "data": {
            "text/plain": [
              "   written file: control.obj\r\n"
            ]
          },
          "metadata": {}
        },
        {
          "output_type": "display_data",
          "data": {
            "text/plain": [
              "   copied 'amd64' runtime.\r\n"
            ]
          },
          "metadata": {}
        },
        {
          "output_type": "display_data",
          "data": {
            "text/plain": [
              "deployment finished.\r\n"
            ]
          },
          "metadata": {}
        },
        {
          "output_type": "display_data",
          "data": {
            "text/plain": [
              "\r\n"
            ]
          },
          "metadata": {}
        },
        {
          "output_type": "display_data",
          "data": {
            "text/plain": [
              " ------------ MSHPC FailedOrCanceled; original Failed\r\n"
            ]
          },
          "metadata": {}
        },
        {
          "output_type": "display_data",
          "data": {
            "text/plain": [
              "All jobs finished.\r\n"
            ]
          },
          "metadata": {}
        },
        {
          "output_type": "display_data",
          "data": {
            "text/plain": [
              "Note: Job was deployed (1) number of times, all failed.\r\n"
            ]
          },
          "metadata": {}
        },
        {
          "output_type": "display_data",
          "data": {
            "text/plain": [
              "Hint: want to re-activate the job.\r\n"
            ]
          },
          "metadata": {}
        },
        {
          "output_type": "display_data",
          "data": {
            "text/plain": [
              "System.Collections.Generic.List`1[System.Double]\r\n"
            ]
          },
          "metadata": {}
        },
        {
          "output_type": "display_data",
          "data": {
            "text/plain": [
              "Grid Edge Tags changed.\r\n"
            ]
          },
          "metadata": {}
        },
        {
          "output_type": "display_data",
          "data": {
            "text/plain": [
              "VelocityFuel0.028516453772277735\r\n"
            ]
          },
          "metadata": {}
        },
        {
          "output_type": "display_data",
          "data": {
            "text/plain": [
              "VelocityAir0.0722520149382385\r\n"
            ]
          },
          "metadata": {}
        },
        {
          "output_type": "display_data",
          "data": {
            "text/plain": [
              "Full_CounterDifFlameP2K12mult1.1752487655030563_c36\r\n"
            ]
          },
          "metadata": {}
        },
        {
          "output_type": "display_data",
          "data": {
            "text/plain": [
              "Deploying job Full_CounterDifFlameP2K12mult1.1752487655030563_c36 ... \r\n"
            ]
          },
          "metadata": {}
        },
        {
          "output_type": "display_data",
          "data": {
            "text/plain": [
              "Deploying executables and additional files ...\r\n"
            ]
          },
          "metadata": {}
        },
        {
          "output_type": "display_data",
          "data": {
            "text/plain": [
              "Deployment directory: \\\\hpccluster\\hpccluster-scratch\\gutierrez\\binaries\\CounterFlowFlame123-XNSEC2021Jul31_113437\r\n"
            ]
          },
          "metadata": {}
        },
        {
          "output_type": "display_data",
          "data": {
            "text/plain": [
              "copied 52 files.\r\n"
            ]
          },
          "metadata": {}
        },
        {
          "output_type": "display_data",
          "data": {
            "text/plain": [
              "   written file: control.obj\r\n"
            ]
          },
          "metadata": {}
        },
        {
          "output_type": "display_data",
          "data": {
            "text/plain": [
              "   copied 'amd64' runtime.\r\n"
            ]
          },
          "metadata": {}
        },
        {
          "output_type": "display_data",
          "data": {
            "text/plain": [
              "deployment finished.\r\n"
            ]
          },
          "metadata": {}
        },
        {
          "output_type": "display_data",
          "data": {
            "text/plain": [
              "\r\n"
            ]
          },
          "metadata": {}
        },
        {
          "output_type": "display_data",
          "data": {
            "text/plain": [
              " ------------ MSHPC FailedOrCanceled; original Failed\r\n"
            ]
          },
          "metadata": {}
        },
        {
          "output_type": "display_data",
          "data": {
            "text/plain": [
              "All jobs finished.\r\n"
            ]
          },
          "metadata": {}
        },
        {
          "output_type": "display_data",
          "data": {
            "text/plain": [
              "Note: Job was deployed (1) number of times, all failed.\r\n"
            ]
          },
          "metadata": {}
        },
        {
          "output_type": "display_data",
          "data": {
            "text/plain": [
              "Hint: want to re-activate the job.\r\n"
            ]
          },
          "metadata": {}
        },
        {
          "output_type": "display_data",
          "data": {
            "text/plain": [
              "System.Collections.Generic.List`1[System.Double]\r\n"
            ]
          },
          "metadata": {}
        },
        {
          "output_type": "display_data",
          "data": {
            "text/plain": [
              "Grid Edge Tags changed.\r\n"
            ]
          },
          "metadata": {}
        },
        {
          "output_type": "display_data",
          "data": {
            "text/plain": [
              "VelocityFuel0.028096600049094044\r\n"
            ]
          },
          "metadata": {}
        },
        {
          "output_type": "display_data",
          "data": {
            "text/plain": [
              "VelocityAir0.07118823338525895\r\n"
            ]
          },
          "metadata": {}
        },
        {
          "output_type": "display_data",
          "data": {
            "text/plain": [
              "Full_CounterDifFlameP2K12mult1.157945331709925_c37\r\n"
            ]
          },
          "metadata": {}
        },
        {
          "output_type": "display_data",
          "data": {
            "text/plain": [
              "Deploying job Full_CounterDifFlameP2K12mult1.157945331709925_c37 ... \r\n"
            ]
          },
          "metadata": {}
        },
        {
          "output_type": "display_data",
          "data": {
            "text/plain": [
              "Deploying executables and additional files ...\r\n"
            ]
          },
          "metadata": {}
        },
        {
          "output_type": "display_data",
          "data": {
            "text/plain": [
              "Deployment directory: \\\\hpccluster\\hpccluster-scratch\\gutierrez\\binaries\\CounterFlowFlame123-XNSEC2021Jul31_121607\r\n"
            ]
          },
          "metadata": {}
        },
        {
          "output_type": "display_data",
          "data": {
            "text/plain": [
              "copied 52 files.\r\n"
            ]
          },
          "metadata": {}
        },
        {
          "output_type": "display_data",
          "data": {
            "text/plain": [
              "   written file: control.obj\r\n"
            ]
          },
          "metadata": {}
        },
        {
          "output_type": "display_data",
          "data": {
            "text/plain": [
              "   copied 'amd64' runtime.\r\n"
            ]
          },
          "metadata": {}
        },
        {
          "output_type": "display_data",
          "data": {
            "text/plain": [
              "deployment finished.\r\n"
            ]
          },
          "metadata": {}
        },
        {
          "output_type": "display_data",
          "data": {
            "text/plain": [
              "\r\n"
            ]
          },
          "metadata": {}
        }
      ],
      "metadata": {
        "dotnet_interactive": {
          "language": "csharp"
        }
      }
    },
    {
      "cell_type": "code",
      "execution_count": null,
      "source": [
        "double finalMultiplier = 10;\r\n",
        "double lastSuccesfulMultiplier = 1.0;\r\n",
        "double initialMultiplier = 1.0;\r\n",
        "double mult = finalMultiplier; // Start with the objective multiplier\r\n",
        "int counter = 1;\r\n",
        "bool[] succesful = new bool[]{false,false,true,false,false,true,true,false,false,true};\r\n",
        "\r\n",
        "\r\n",
        "do {\r\n",
        " \r\n",
        "    \r\n",
        "    if(succesful[counter]) {\r\n",
        "        lastSuccesfulMultiplier = mult;\r\n",
        "        mult = finalMultiplier;\r\n",
        "        //mult = (mult- lastSuccesfulMultiplier) * 2 + lastSuccesfulMultiplier;\r\n",
        "\r\n",
        "    } else {\r\n",
        "        mult = (mult - lastSuccesfulMultiplier) / 2 + lastSuccesfulMultiplier;\r\n",
        "    }\r\n",
        "    counter++;\r\n",
        "    Console.WriteLine(mult);\r\n",
        "}while(mult <= finalMultiplier);\r\n",
        "\r\n",
        "\r\n",
        "// while(mult <= finalMultiplier) {\r\n",
        " \r\n",
        "    \r\n",
        "//     if(succesful[counter]) {\r\n",
        "//         lastSuccesfulMultiplier = mult;\r\n",
        "//         mult = (mult- lastSuccesfulMultiplier) * 2 + lastSuccesfulMultiplier;\r\n",
        "\r\n",
        "//     } else {\r\n",
        "//         mult = (mult - lastSuccesfulMultiplier) / 2 + lastSuccesfulMultiplier;\r\n",
        "//     }\r\n",
        "//     counter++;\r\n",
        "//     Console.WriteLine(mult);\r\n",
        "// }"
      ],
      "outputs": [
        {
          "output_type": "display_data",
          "data": {
            "text/plain": [
              "5.5\r\n"
            ]
          },
          "metadata": {}
        },
        {
          "output_type": "display_data",
          "data": {
            "text/plain": [
              "10\r\n"
            ]
          },
          "metadata": {}
        },
        {
          "output_type": "display_data",
          "data": {
            "text/plain": [
              "7.75\r\n"
            ]
          },
          "metadata": {}
        },
        {
          "output_type": "display_data",
          "data": {
            "text/plain": [
              "6.625\r\n"
            ]
          },
          "metadata": {}
        },
        {
          "output_type": "display_data",
          "data": {
            "text/plain": [
              "10\r\n"
            ]
          },
          "metadata": {}
        },
        {
          "output_type": "display_data",
          "data": {
            "text/plain": [
              "10\r\n"
            ]
          },
          "metadata": {}
        },
        {
          "output_type": "display_data",
          "data": {
            "text/plain": [
              "10\r\n"
            ]
          },
          "metadata": {}
        },
        {
          "output_type": "display_data",
          "data": {
            "text/plain": [
              "10\r\n"
            ]
          },
          "metadata": {}
        },
        {
          "output_type": "display_data",
          "data": {
            "text/plain": [
              "10\r\n"
            ]
          },
          "metadata": {}
        },
        {
          "output_type": "error",
          "ename": "Error",
          "evalue": "System.IndexOutOfRangeException: Index was outside the bounds of the array.\r\n   at Submission#36.<<Initialize>>d__0.MoveNext()\r\n--- End of stack trace from previous location ---\r\n   at Microsoft.CodeAnalysis.Scripting.ScriptExecutionState.RunSubmissionsAsync[TResult](ImmutableArray`1 precedingExecutors, Func`2 currentExecutor, StrongBox`1 exceptionHolderOpt, Func`2 catchExceptionOpt, CancellationToken cancellationToken)",
          "traceback": [
            "System.IndexOutOfRangeException: Index was outside the bounds of the array.\r\n",
            "   at Submission#36.<<Initialize>>d__0.MoveNext()\r\n",
            "--- End of stack trace from previous location ---\r\n",
            "   at Microsoft.CodeAnalysis.Scripting.ScriptExecutionState.RunSubmissionsAsync[TResult](ImmutableArray`1 precedingExecutors, Func`2 currentExecutor, StrongBox`1 exceptionHolderOpt, Func`2 catchExceptionOpt, CancellationToken cancellationToken)"
          ]
        }
      ],
      "metadata": {
        "dotnet_interactive": {
          "language": "csharp"
        }
      }
    },
    {
      "cell_type": "code",
      "execution_count": null,
      "source": [],
      "outputs": [],
      "metadata": {
        "dotnet_interactive": {
          "language": "csharp"
        }
      }
    },
    {
      "cell_type": "code",
      "execution_count": null,
      "source": [
        "bool[] a = new bool[]{false,false,true,false,false,true,true,true};"
      ],
      "outputs": [],
      "metadata": {
        "dotnet_interactive": {
          "language": "csharp"
        }
      }
    },
    {
      "cell_type": "code",
      "execution_count": null,
      "source": [
        "myDb"
      ],
      "outputs": [],
      "metadata": {
        "dotnet_interactive": {
          "language": "csharp"
        }
      }
    },
    {
      "cell_type": "code",
      "execution_count": null,
      "source": [
        "BoSSSshell.WorkflowMgm.AllJobs"
      ],
      "outputs": [],
      "metadata": {
        "dotnet_interactive": {
          "language": "csharp"
        }
      }
    },
    {
      "cell_type": "code",
      "execution_count": null,
      "source": [
        "myDb.Sessions[0].Export().Do()"
      ],
      "outputs": [],
      "metadata": {
        "dotnet_interactive": {
          "language": "csharp"
        }
      }
    },
    {
      "cell_type": "markdown",
      "source": [
        "## Postprocessing"
      ],
      "metadata": {}
    },
    {
      "cell_type": "code",
      "execution_count": null,
      "source": [
        " var sess = myDb.Sessions[1];\r\n",
        " var timestep_FullChem = sess.Timesteps.Last();\r\n",
        "\r\n",
        "double eps = 1e-4; \r\n",
        "double xleft  = 0+eps; \r\n",
        "double xright = 1.0-eps;\r\n",
        "int nCells = 181*10;\r\n",
        "double[]  _xNodes = GenericBlas.Linspace(xleft, xright, nCells + 1);\r\n",
        "string[] varnames = new string[]{\"VelocityX\",\"VelocityY\",\"Temperature\", \"Pressure\", \"MassFraction0\",\"MassFraction1\",\"MassFraction2\",\"MassFraction3\"}; \r\n"
      ],
      "outputs": [],
      "metadata": {
        "dotnet_interactive": {
          "language": "csharp"
        }
      }
    },
    {
      "cell_type": "code",
      "execution_count": null,
      "source": [
        "Dictionary<string, double[]> Results_FullComb = new Dictionary<string, double[]>();\r\n",
        "Dictionary<string, double> ReferenceValuesDict = new Dictionary<string, double>();// Re-dimenzionalise variables\r\n",
        "\r\n",
        "ReferenceValuesDict.Add(\"VelocityX\", Convert.ToDouble(sess.KeysAndQueries[\"uRef\"]));\r\n",
        "ReferenceValuesDict.Add(\"VelocityY\", Convert.ToDouble(sess.KeysAndQueries[\"uRef\"]));\r\n",
        "ReferenceValuesDict.Add(\"Temperature\", Convert.ToDouble(sess.KeysAndQueries[\"TRef\"]));\r\n",
        "ReferenceValuesDict.Add(\"Pressure\", Convert.ToDouble(sess.KeysAndQueries[\"pRef\"]));\r\n",
        "ReferenceValuesDict.Add(\"MassFraction0\", 1.0);\r\n",
        "ReferenceValuesDict.Add(\"MassFraction1\", 1.0);\r\n",
        "ReferenceValuesDict.Add(\"MassFraction2\", 1.0);\r\n",
        "ReferenceValuesDict.Add(\"MassFraction3\", 1.0);\r\n",
        "ReferenceValuesDict.Add(\"MassFraction4\", 1.0);\r\n",
        "ReferenceValuesDict.Add(\"Length\", Convert.ToDouble(sess.KeysAndQueries[\"LRef\"]));"
      ],
      "outputs": [],
      "metadata": {
        "dotnet_interactive": {
          "language": "csharp"
        }
      }
    },
    {
      "cell_type": "code",
      "execution_count": null,
      "source": [
        "//Save results from the Full problem simulation\r\n",
        "foreach(var varname in varnames){\r\n",
        "    double[] Yvalues = new double[nCells+1];\r\n",
        "    var field = timestep_FullChem.Fields.Where( Fi => (Fi.Identification == varname)).Last();\r\n",
        "    for(int n = 0 ; n < _xNodes.Length; n++){\r\n",
        "        double pickedVal = field.ProbeAt(new double[]{ _xNodes[n], 0.00000001});    // Pick value along the central axis        \r\n",
        "        Yvalues[n] = pickedVal* ReferenceValuesDict[varname];             // Re.dimenzionalise varliables and store it in array\r\n",
        "    }\r\n",
        "    Results_FullComb.Add(varname,Yvalues);\r\n",
        "}"
      ],
      "outputs": [],
      "metadata": {
        "dotnet_interactive": {
          "language": "csharp"
        }
      }
    },
    {
      "cell_type": "code",
      "execution_count": null,
      "source": [
        "// Redimensionalise the x coordinate\r\n",
        "double[] _xNodesDim = new double[_xNodes.Length];\r\n",
        " for(int n = 0 ; n < _xNodes.Length; n++){\r\n",
        "     _xNodesDim[n] = _xNodes[n]*ReferenceValuesDict[\"Length\"];\r\n",
        "}\r\n"
      ],
      "outputs": [],
      "metadata": {
        "dotnet_interactive": {
          "language": "csharp"
        }
      }
    },
    {
      "cell_type": "code",
      "execution_count": null,
      "source": [
        " string path = System.IO.Path.ChangeExtension(@\"C:\\BoSSS\\experimental\\internal\\src\\private-gutz\\L4-application\\XNSEC2\\Worksheets\\Jupyter\\CounterFlowFlameMatlabCode\\BoSSS_data\\\", null);\r\n",
        "string newPathName = path +\"Full\" + \"XCoord\" + \".txt\";\r\n",
        "using (StreamWriter s = new StreamWriter(newPathName)) {\r\n",
        "    for (int i = 0; i < _xNodes.Length; i++) {\r\n",
        "        s.Write(_xNodesDim[i].ToString(\"E16\", System.Globalization.NumberFormatInfo.InvariantInfo) + \" \");\r\n",
        "    }\r\n",
        "}\r\n",
        "\r\n",
        "foreach (var varname in varnames) {\r\n",
        "    string newPathName = path +\"Full\" + varname + \".txt\";\r\n",
        "    using (StreamWriter s = new StreamWriter(newPathName)) {\r\n",
        "        double[] _yNodes = Results_FullComb[varname];\r\n",
        "        for (int i = 0; i < _xNodes.Length; i++) { \r\n",
        "            s.Write(_yNodes[i].ToString(\"E16\", System.Globalization.NumberFormatInfo.InvariantInfo) + \" \"); \r\n",
        "        }\r\n",
        "    }\r\n",
        "}"
      ],
      "outputs": [],
      "metadata": {
        "dotnet_interactive": {
          "language": "csharp"
        }
      }
    }
  ],
  "metadata": {
    "kernelspec": {
      "display_name": ".NET (C#)",
      "language": "C#",
      "name": ".net-csharp"
    },
    "language_info": {
      "file_extension": ".cs",
      "mimetype": "text/x-csharp",
      "name": "C#",
      "pygments_lexer": "csharp",
      "version": "8.0"
    }
  },
  "nbformat": 4,
  "nbformat_minor": 4
}
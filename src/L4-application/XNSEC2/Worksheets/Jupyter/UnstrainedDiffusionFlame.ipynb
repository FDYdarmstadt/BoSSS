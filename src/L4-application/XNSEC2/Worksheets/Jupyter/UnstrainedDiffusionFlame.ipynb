{
  "cells": [
    {
      "cell_type": "code",
      "execution_count": 1,
      "metadata": {
        "dotnet_interactive": {
          "language": "csharp"
        }
      },
      "source": [
        "#r \"C:\\BoSSS\\experimental\\internal\\src\\experimental\\L4-application\\InternalTestRunner\\bin\\Release\\net5.0\\BoSSSpad.dll\"\n",
        "using System;\n",
        "using System.Collections.Generic;\n",
        "using System.Linq;\n",
        "using ilPSP;\n",
        "using ilPSP.Utils;\n",
        "using BoSSS.Platform;\n",
        "using BoSSS.Platform.LinAlg;\n",
        "using BoSSS.Foundation;\n",
        "using BoSSS.Foundation.XDG;\n",
        "using BoSSS.Foundation.Grid;\n",
        "using BoSSS.Foundation.Grid.Classic;\n",
        "using BoSSS.Foundation.Grid.RefElements;\n",
        "using BoSSS.Foundation.IO;\n",
        "using BoSSS.Solution;\n",
        "using BoSSS.Solution.Control;\n",
        "using BoSSS.Solution.GridImport;\n",
        "using BoSSS.Solution.Statistic;\n",
        "using BoSSS.Solution.Utils;\n",
        "using BoSSS.Solution.AdvancedSolvers;\n",
        "using BoSSS.Solution.Gnuplot;\n",
        "using BoSSS.Application.BoSSSpad;\n",
        "using BoSSS.Application.XNSE_Solver;\n",
        "using BoSSS.Application.XNSFE_Solver;\n",
        "using static BoSSS.Application.BoSSSpad.BoSSSshell;\n",
        "Init();\n",
        ""
      ],
      "outputs": []
    },
    {
      "cell_type": "code",
      "execution_count": 1,
      "metadata": {
        "dotnet_interactive": {
          "language": "csharp"
        }
      },
      "source": [
        "using ilPSP.Connectors.Matlab;"
      ],
      "outputs": []
    },
    {
      "cell_type": "code",
      "execution_count": 1,
      "metadata": {
        "dotnet_interactive": {
          "language": "csharp"
        }
      },
      "source": [
        "using System.Diagnostics;\n",
        "using BoSSS.Solution.NSECommon;\n",
        "using static System.Math;\n",
        "using BoSSS.Solution.Queries;\n",
        ""
      ],
      "outputs": []
    },
    {
      "cell_type": "code",
      "execution_count": 1,
      "metadata": {
        "dotnet_interactive": {
          "language": "csharp"
        }
      },
      "source": [
        "using System.IO;"
      ],
      "outputs": []
    },
    {
      "cell_type": "code",
      "execution_count": 1,
      "metadata": {
        "dotnet_interactive": {
          "language": "csharp"
        }
      },
      "source": [
        "using BoSSS.Application.LowMachCombustionNSE;"
      ],
      "outputs": []
    },
    {
      "cell_type": "code",
      "execution_count": 1,
      "metadata": {
        "dotnet_interactive": {
          "language": "csharp"
        }
      },
      "source": [
        "string WFlowName = \"UnstrainedDiffusionFlame\";\n",
        "WorkflowMgm.Init(WFlowName);"
      ],
      "outputs": []
    },
    {
      "cell_type": "code",
      "execution_count": 1,
      "metadata": {
        "dotnet_interactive": {
          "language": "csharp"
        }
      },
      "source": [
        "var myBatch = new MiniBatchProcessorClient(@\"C:\\deploy-Mini\");\n",
        "MiniBatchProcessor.Server.StartIfNotRunning();"
      ],
      "outputs": []
    },
    {
      "cell_type": "code",
      "execution_count": 1,
      "metadata": {
        "dotnet_interactive": {
          "language": "csharp"
        }
      },
      "source": [
        "string dbPath = @\"C:\\Databases\\UnstrainedFlame_constantChemParams\";\n",
        "var myDb      = OpenOrCreateDatabase(dbPath);"
      ],
      "outputs": []
    },
    {
      "cell_type": "code",
      "execution_count": 1,
      "metadata": {
        "dotnet_interactive": {
          "language": "csharp"
        }
      },
      "source": [
        ""
      ],
      "outputs": []
    },
    {
      "cell_type": "code",
      "execution_count": 1,
      "metadata": {
        "dotnet_interactive": {
          "language": "csharp"
        }
      },
      "source": [
        ""
      ],
      "outputs": []
    },
    {
      "cell_type": "code",
      "execution_count": 1,
      "metadata": {
        "dotnet_interactive": {
          "language": "csharp"
        }
      },
      "source": [
        "Type solver = typeof(BoSSS.Application.LowMachCombustionNSE.LowMachCombustionNSEMain);"
      ],
      "outputs": []
    },
    {
      "cell_type": "code",
      "execution_count": 1,
      "metadata": {
        "dotnet_interactive": {
          "language": "csharp"
        }
      },
      "source": [
        "// ==========\n",
        "// Parameters\n",
        "// ==========\n",
        "int[] dgDegree = new int[]{1,2,3,4};\n",
        "int[] Resolutions = new int[]{3,4,5,6,7,8,9};\n",
        "//int[] dgDegree = new int[]{2};\n",
        "//int[] Resolutions = new int[]{5};\n",
        "\n",
        "//int[] dgDegree = new int[]{3};\n",
        "//int[] Resolutions = new int[]{4};\n",
        " \n",
        "int[] Refinements = new int[]{1};\n",
        "var  NofCells = Resolutions.ToList().Select(r=> (int)Math.Pow(2,r)).ToArray();\n",
        "string baseJobName = \"CounterDifFlame\"   "
      ],
      "outputs": []
    },
    {
      "cell_type": "code",
      "execution_count": 1,
      "metadata": {
        "dotnet_interactive": {
          "language": "csharp"
        }
      },
      "source": [
        "NofCells"
      ],
      "outputs": []
    },
    {
      "cell_type": "code",
      "execution_count": 1,
      "metadata": {
        "dotnet_interactive": {
          "language": "csharp"
        }
      },
      "source": [
        "for (int dg = 0; dg < dgDegree.Length; dg++) {\n",
        "    for (int r = 0; r < NofCells.Length; r++) {\n",
        "        string ending        = \"P\" + dgDegree[dg] + \"K\" + NofCells[r];\n",
        "        string jobName       = string.Format(\"FS_\" + baseJobName + ending);\n",
        "        string StartupString = string.Format(\"cs:BoSSS.Application.LowMachCombustionNSE.FullNSEControlExamples.FS_UnstrainedDiffusionFlame({0}, {1}, @\\\"{2}\\\")\", dgDegree[dg], NofCells[r], dbPath);\n",
        "        var oneJob           = new Job(jobName, solver);\n",
        "        oneJob.SetControlStatement(StartupString);\n",
        "        oneJob.NumberOfMPIProcs = NofCells[r] < 32? 1: 10;\n",
		"        oneJob.NumberOfThreads = 1;\n",
        "        oneJob.Activate(myBatch);\n",
        "    }\n",
        "}"
      ],
      "outputs": []
    },
    {
      "cell_type": "code",
      "execution_count": 1,
      "metadata": {
        "dotnet_interactive": {
          "language": "csharp"
        }
      },
      "source": [
        "WorkflowMgm.BlockUntilAllJobsTerminate();"
      ],
      "outputs": []
    },
    {
      "cell_type": "code",
      "execution_count": 1,
      "metadata": {
        "dotnet_interactive": {
          "language": "csharp"
        }
      },
      "source": [
        "for (int dg = 0; dg < dgDegree.Length; dg++) {\n",
        "    for (int r = 0; r < NofCells.Length; r++) {\n",
        "        string ending        = \"P\" + dgDegree[dg] + \"K\" + NofCells[r];\n",
        "        string jobName       = string.Format(\"Full_\" + baseJobName + ending);\n",
        "        string StartupString = string.Format(\"cs:BoSSS.Application.LowMachCombustionNSE.FullNSEControlExamples.Full_UnstrainedDiffusionFlame({0}, {1}, @\\\"{2}\\\")\", dgDegree[dg], NofCells[r], dbPath);\n",
        "        var oneJob           = new Job(jobName, solver);\n",
        "        oneJob.SetControlStatement(StartupString);\n",
        "        oneJob.NumberOfMPIProcs = NofCells[r] < 32? 1: 10;\n",
		"        oneJob.NumberOfThreads = 1;\n",
        "        oneJob.Activate(myBatch);\n",
        "    }\n",
        "}"
      ],
      "outputs": []
    },
    {
      "cell_type": "code",
      "execution_count": 1,
      "metadata": {
        "dotnet_interactive": {
          "language": "csharp"
        }
      },
      "source": [
        "string dbPath = @\"C:\\Databases3\\UnstrainedFlame\";\n",
        "var myDb      = OpenOrCreateDatabase(dbPath);"
      ],
      "outputs": []
    },
    {
      "cell_type": "code",
      "execution_count": 1,
      "metadata": {
        "dotnet_interactive": {
          "language": "csharp"
        }
      },
      "source": [
        "myDb.Sessions"
      ],
      "outputs": []
    },
    {
      "cell_type": "code",
      "execution_count": 1,
      "metadata": {
        "dotnet_interactive": {
          "language": "csharp"
        }
      },
      "source": [
        "// Now the flame sheet estimations should be deleted\n",
        "WorkflowMgm.Sessions.Where(s => s.Name.StartsWith(\"FS_\")).ForEach(x=>x.Delete(true));"
      ],
      "outputs": []
    },
    {
      "cell_type": "code",
      "execution_count": 1,
      "metadata": {
        "dotnet_interactive": {
          "language": "csharp"
        }
      },
      "source": [
        "WorkflowMgm.ResetSessionsCache();"
      ],
      "outputs": []
    },
    {
      "cell_type": "code",
      "execution_count": 1,
      "metadata": {
        "dotnet_interactive": {
          "language": "csharp"
        }
      },
      "source": [
        "a.KeysAndQueries"
      ],
      "outputs": []
    },
    {
      "cell_type": "code",
      "execution_count": 1,
      "metadata": {
        "dotnet_interactive": {
          "language": "csharp"
        }
      },
      "source": [
        "var a = myDb.Sessions.Pick(8);"
      ],
      "outputs": []
    },
    {
      "cell_type": "code",
      "execution_count": 1,
      "metadata": {
        "dotnet_interactive": {
          "language": "csharp"
        }
      },
      "source": [
        "var asd = (Convert.ToInt32(a.KeysAndQueries[\"Grid:NoOfCells\"])) /3;"
      ],
      "outputs": []
    },
    {
      "cell_type": "code",
      "execution_count": 1,
      "metadata": {
        "dotnet_interactive": {
          "language": "csharp"
        }
      },
      "source": [
        "string dbPath = @\"C:\\Databases\\UnstrainedFlame\";\n",
        "var myDb      = OpenOrCreateDatabase(dbPath);"
      ],
      "outputs": []
    },
    {
      "cell_type": "code",
      "execution_count": 1,
      "metadata": {
        "dotnet_interactive": {
          "language": "csharp"
        }
      },
      "source": [
        "string basepath = @\"C:\\Users\\jfgj8\\Dropbox\\PaperdiffusionFlame\\ama\\data\\UnstrainedFlame_deleteme\\\";\n",
        "System.IO.Directory.CreateDirectory(basepath); // Create folder for storing data"
      ],
      "outputs": []
    },
    {
      "cell_type": "code",
      "execution_count": 1,
      "metadata": {
        "dotnet_interactive": {
          "language": "csharp"
        }
      },
      "source": [
        "string[] varnames = new string[]{\"VelocityX\",\"VelocityY\",\"Temperature\", \"Pressure\",\n",
        "\"MassFraction0\",\"MassFraction1\",\"MassFraction2\",\"MassFraction3\",\"MassFraction4\" }; "
      ],
      "outputs": []
    },
    {
      "cell_type": "code",
      "execution_count": 1,
      "metadata": {
        "dotnet_interactive": {
          "language": "csharp"
        }
      },
      "source": [
        "foreach (var varname in varnames) {\n",
        "    foreach (int pDeg in dgDegree) {\n",
        "       var pDegSessions = myDb.Sessions.Where(\n",
        "            Si => (Convert.ToInt32(Si.KeysAndQueries[\"DGdegree:Velocity*\"]) == pDeg \n",
        "        && (Convert.ToInt32(Si.KeysAndQueries[\"Grid:NoOfCells\"]))/ 3 > 31\n",
        "            ) // function which is true on all sessions we are interested in: \n",
        "         ).ToArray();\n",
        "        Plot2Ddata pDegPlot =\n",
        "         pDegSessions.ToEstimatedGridConvergenceData(varname,\n",
        "           xAxis_Is_hOrDof: true, // false selects DOFs for x-axis \n",
        "           normType: NormType.L2_embedded );\n",
        "            //Saving to a txt file\n",
        "        pDegPlot.SaveTextFileToPublish(basepath+\"\\\\\"+  varname + \"DG\" + pDeg,false);\n",
        "    }\n",
        "}"
      ],
      "outputs": []
    },
    {
      "cell_type": "code",
      "execution_count": 1,
      "metadata": {
        "dotnet_interactive": {
          "language": "csharp"
        }
      },
      "source": [
        "myDb.Sessions.Pick(0).Export().Do()"
      ],
      "outputs": []
    },
    {
      "cell_type": "code",
      "execution_count": 1,
      "metadata": {
        "dotnet_interactive": {
          "language": "csharp"
        }
      },
      "source": [
        "// Plot error as \"Value- Value_fine\"\n",
        "foreach (int pDeg in dgDegree) {\n",
        "ISessionInfo[]  pDegSessions = WorkflowMgm.Sessions.Where(\n",
        "        Si => (Convert.ToInt32(Si.KeysAndQueries[\"DGdegree:Velocity*\"]) == pDeg)  // function which is true on all sessions we are interested in: \n",
        "     ).ToArray(); // Select databases with a given dgdegree\n",
        "     \n",
        "     var sortedSessions = pDegSessions.OrderBy(o => o.Timesteps[1].Grid.NumberOfCells).ToList();\n",
        "     \n",
        "      // Select timestep corresponding to the converged solution\n",
        "     ITimestepInfo[] timesteps = sortedSessions.Select(s => s.Timesteps.Last()).ToArray();\n",
        "\n",
        "     // pick the timestep with the finest mesh\n",
        "     var fine    = timesteps.Last();\n",
        "     var notfine = timesteps.Take(timesteps.Length-1);\n",
        "    \n",
        "     int c = 0;\n",
        "     foreach(var L in notfine){\n",
        "         DGField[] allErrors = new DGField[]{};\n",
        "         foreach (var varname in varnames) {\n",
        "            var fieldFine   = (fine.Fields.Where(s => (s.Identification == varname)).First()).CloneAs();\n",
        "            var fieldCoarse = (L.Fields.Where(s => (s.Identification == varname)).First()).CloneAs(); //////////////////////\n",
        "            DGField err     = fieldFine.CloneAs();\n",
        "       err = DGField_Arithmetic.ScaledSummation(err,-1.0, fieldCoarse ,-1.0);\n",
        "            fieldFine.Identification   = fieldFine.Identification  + \"Fine\"; \n",
        "            fieldCoarse.Identification = fieldCoarse.Identification  + \"Coarse\"; \n",
        "     \n",
        "            err.Identification         = varname + \"err\";\n",
        "       \n",
        "            allErrors = ArrayTools.Cat<DGField>(allErrors, new DGField[] {err});\n",
        "         }\n",
        "              BoSSS.Solution.Tecplot.Tecplot.PlotFields(allErrors,\"Errors_DG\"+pDeg+ \"_Res\"+c  ,0,2);\n",
        "          c++;    \n",
        "     }\n",
        "     \n",
        "}"
      ],
      "outputs": []
    },
    {
      "cell_type": "code",
      "execution_count": 1,
      "metadata": {
        "dotnet_interactive": {
          "language": "csharp"
        }
      },
      "source": [
        "  BatchmodeConnector connector = new BatchmodeConnector();"
      ],
      "outputs": []
    },
    {
      "cell_type": "code",
      "execution_count": 1,
      "metadata": {
        "dotnet_interactive": {
          "language": "csharp"
        }
      },
      "source": [
        "   bool useCantera = true;"
      ],
      "outputs": []
    },
    {
      "cell_type": "code",
      "execution_count": 1,
      "metadata": {
        "dotnet_interactive": {
          "language": "csharp"
        }
      },
      "source": [
        "//get initial estimate from Cantera\n",
        "//=======================================\n",
        "\n",
        "if(useCantera){\n",
        "connector.Cmd(\"diffflame\"); // Call the cantera diffusion flame\n",
        "connector.Cmd(\"fprintf('Number of points %d', length(z))\");\n",
        "\n",
        "connector.GetMatrix(null, \"x\");\n",
        "connector.GetMatrix(null, \"Temperature\");\n",
        "connector.GetMatrix(null, \"MassFraction0\");\n",
        "connector.GetMatrix(null, \"MassFraction1\");\n",
        "connector.GetMatrix(null, \"MassFraction2\");\n",
        "connector.GetMatrix(null, \"MassFraction3\");\n",
        "connector.GetMatrix(null, \"VelocityX\");\n",
        "connector.Execute(false);\n",
        " }"
      ],
      "outputs": []
    },
    {
      "cell_type": "code",
      "execution_count": 1,
      "metadata": {
        "dotnet_interactive": {
          "language": "csharp"
        }
      },
      "source": [
        "Temperature"
      ],
      "outputs": []
    },
    {
      "cell_type": "code",
      "execution_count": 1,
      "metadata": {
        "dotnet_interactive": {
          "language": "csharp"
        }
      },
      "source": [
        ""
      ],
      "outputs": []
    },
    {
      "cell_type": "code",
      "execution_count": 1,
      "metadata": {
        "dotnet_interactive": {
          "language": "csharp"
        }
      },
      "source": [
        "string[] varnames = new string[]{\"VelocityX\",\"VelocityY\",\"Temperature\", \"Pressure\"}; "
      ],
      "outputs": []
    },
    {
      "cell_type": "code",
      "execution_count": 1,
      "metadata": {
        "dotnet_interactive": {
          "language": "csharp"
        }
      },
      "source": [
        "var ts = databases.Last().Sessions.Pick(0).Timesteps.Pick(0);//"
      ],
      "outputs": []
    },
    {
      "cell_type": "code",
      "execution_count": 1,
      "metadata": {
        "dotnet_interactive": {
          "language": "csharp"
        }
      },
      "source": [
        "// Coordinate array \n",
        "double xleft  = -1.0; \n",
        "double xright = 1.0;\n",
        "int nCells    = 10;\n",
        "double[]  _xNodes = GenericBlas.Linspace(xleft, xright, nCells + 1);\n",
        "double[] Yvalues = new double[nCells+1];"
      ],
      "outputs": []
    },
    {
      "cell_type": "code",
      "execution_count": 1,
      "metadata": {
        "dotnet_interactive": {
          "language": "csharp"
        }
      },
      "source": [
        ""
      ],
      "outputs": []
    },
    {
      "cell_type": "code",
      "execution_count": 1,
      "metadata": {
        "dotnet_interactive": {
          "language": "csharp"
        }
      },
      "source": [
        ""
      ],
      "outputs": []
    },
    {
      "cell_type": "code",
      "execution_count": 1,
      "metadata": {
        "dotnet_interactive": {
          "language": "csharp"
        }
      },
      "source": [
        "foreach(var varname in varnames){\n",
        "    var field = ts.Fields.Where( Fi => (Fi.Identification == varname)).Last();\n",
        "        for(int n = 0 ; n < _xNodes.Length; n++){\n",
        "            Yvalues[n] = field.ProbeAt(new double[]{ _xNodes[n], 0.0});    // Pick value along the central axis. and Store it in array\n",
        "    }\n",
        "        \n",
        "}"
      ],
      "outputs": []
    },
    {
      "cell_type": "code",
      "execution_count": 1,
      "metadata": {
        "dotnet_interactive": {
          "language": "csharp"
        }
      },
      "source": [
        ""
      ],
      "outputs": []
    },
    {
      "cell_type": "code",
      "execution_count": 1,
      "metadata": {
        "dotnet_interactive": {
          "language": "csharp"
        }
      },
      "source": [
        "string bpath          = @\"C:\\tmp\\ConvPlots\\data\\CanteraComparison\";\n",
        "string pathWithoutExt = System.IO.Path.ChangeExtension(bpath, null);\n",
        "string newPath        = pathWithoutExt + \"Data.txt\";"
      ],
      "outputs": []
    },
    {
      "cell_type": "code",
      "execution_count": 1,
      "metadata": {
        "dotnet_interactive": {
          "language": "csharp"
        }
      },
      "source": [
        "using (StreamWriter s = new StreamWriter(newPath)) {\n",
        "    s.WriteLine(\"x\\ty\");\n",
        "    foreach (var varname in varnames) {\n",
        "        for (int i = 0; i < group.Abscissas.Length; i++) {\n",
        "            s.Write(_xNodes[i].ToString(\"E16\", NumberFormatInfo.InvariantInfo) + \"\\t\");\n",
        "            s.WriteLine();\n",
        "        }\n",
        "    }\n",
        "}"
      ],
      "outputs": []
    },
    {
      "cell_type": "code",
      "execution_count": 1,
      "metadata": {
        "dotnet_interactive": {
          "language": "csharp"
        }
      },
      "source": [
        ""
      ],
      "outputs": []
    },
    {
      "cell_type": "code",
      "execution_count": 1,
      "metadata": {
        "dotnet_interactive": {
          "language": "csharp"
        }
      },
      "source": [
        ""
      ],
      "outputs": []
    },
    {
      "cell_type": "code",
      "execution_count": 1,
      "metadata": {
        "dotnet_interactive": {
          "language": "csharp"
        }
      },
      "source": [
        ""
      ],
      "outputs": []
    },
    {
      "cell_type": "code",
      "execution_count": 1,
      "metadata": {
        "dotnet_interactive": {
          "language": "csharp"
        }
      },
      "source": [
        ""
      ],
      "outputs": []
    },
    {
      "cell_type": "code",
      "execution_count": 1,
      "metadata": {
        "dotnet_interactive": {
          "language": "csharp"
        }
      },
      "source": [
        ""
      ],
      "outputs": []
    },
    {
      "cell_type": "code",
      "execution_count": 1,
      "metadata": {
        "dotnet_interactive": {
          "language": "csharp"
        }
      },
      "source": [
        ""
      ],
      "outputs": []
    },
    {
      "cell_type": "code",
      "execution_count": 1,
      "metadata": {
        "dotnet_interactive": {
          "language": "csharp"
        }
      },
      "source": [
        ""
      ],
      "outputs": []
    },
    {
      "cell_type": "code",
      "execution_count": 1,
      "metadata": {
        "dotnet_interactive": {
          "language": "csharp"
        }
      },
      "source": [
        ""
      ],
      "outputs": []
    },
    {
      "cell_type": "code",
      "execution_count": 1,
      "metadata": {
        "dotnet_interactive": {
          "language": "csharp"
        }
      },
      "source": [
        ""
      ],
      "outputs": []
    },
    {
      "cell_type": "code",
      "execution_count": 1,
      "metadata": {
        "dotnet_interactive": {
          "language": "csharp"
        }
      },
      "source": [
        ""
      ],
      "outputs": []
    },
    {
      "cell_type": "code",
      "execution_count": 1,
      "metadata": {
        "dotnet_interactive": {
          "language": "csharp"
        }
      },
      "source": [
        ""
      ],
      "outputs": []
    },
    {
      "cell_type": "code",
      "execution_count": 1,
      "metadata": {
        "dotnet_interactive": {
          "language": "csharp"
        }
      },
      "source": [
        ""
      ],
      "outputs": []
    },
    {
      "cell_type": "code",
      "execution_count": 1,
      "metadata": {
        "dotnet_interactive": {
          "language": "csharp"
        }
      },
      "source": [
        ""
      ],
      "outputs": []
    },
    {
      "cell_type": "code",
      "execution_count": 1,
      "metadata": {
        "dotnet_interactive": {
          "language": "csharp"
        }
      },
      "source": [
        ""
      ],
      "outputs": []
    },
    {
      "cell_type": "code",
      "execution_count": 1,
      "metadata": {
        "dotnet_interactive": {
          "language": "csharp"
        }
      },
      "source": [
        ""
      ],
      "outputs": []
    },
    {
      "cell_type": "code",
      "execution_count": 1,
      "metadata": {
        "dotnet_interactive": {
          "language": "csharp"
        }
      },
      "source": [
        ""
      ],
      "outputs": []
    },
    {
      "cell_type": "code",
      "execution_count": 1,
      "metadata": {
        "dotnet_interactive": {
          "language": "csharp"
        }
      },
      "source": [
        ""
      ],
      "outputs": []
    },
    {
      "cell_type": "code",
      "execution_count": 1,
      "metadata": {
        "dotnet_interactive": {
          "language": "csharp"
        }
      },
      "source": [
        ""
      ],
      "outputs": []
    },
    {
      "cell_type": "code",
      "execution_count": 1,
      "metadata": {
        "dotnet_interactive": {
          "language": "csharp"
        }
      },
      "source": [
        ""
      ],
      "outputs": []
    },
    {
      "cell_type": "code",
      "execution_count": 1,
      "metadata": {
        "dotnet_interactive": {
          "language": "csharp"
        }
      },
      "source": [
        ""
      ],
      "outputs": []
    },
    {
      "cell_type": "code",
      "execution_count": 1,
      "metadata": {
        "dotnet_interactive": {
          "language": "csharp"
        }
      },
      "source": [
        ""
      ],
      "outputs": []
    },
    {
      "cell_type": "code",
      "execution_count": 1,
      "metadata": {
        "dotnet_interactive": {
          "language": "csharp"
        }
      },
      "source": [
        ""
      ],
      "outputs": []
    },
    {
      "cell_type": "code",
      "execution_count": 1,
      "metadata": {
        "dotnet_interactive": {
          "language": "csharp"
        }
      },
      "source": [
        ""
      ],
      "outputs": []
    },
    {
      "cell_type": "code",
      "execution_count": 1,
      "metadata": {
        "dotnet_interactive": {
          "language": "csharp"
        }
      },
      "source": [
        ""
      ],
      "outputs": []
    },
    {
      "cell_type": "code",
      "execution_count": 1,
      "metadata": {
        "dotnet_interactive": {
          "language": "csharp"
        }
      },
      "source": [
        ""
      ],
      "outputs": []
    },
    {
      "cell_type": "code",
      "execution_count": 1,
      "metadata": {
        "dotnet_interactive": {
          "language": "csharp"
        }
      },
      "source": [
        ""
      ],
      "outputs": []
    },
    {
      "cell_type": "code",
      "execution_count": 1,
      "metadata": {
        "dotnet_interactive": {
          "language": "csharp"
        }
      },
      "source": [
        ""
      ],
      "outputs": []
    },
    {
      "cell_type": "code",
      "execution_count": 1,
      "metadata": {
        "dotnet_interactive": {
          "language": "csharp"
        }
      },
      "source": [
        ""
      ],
      "outputs": []
    },
    {
      "cell_type": "code",
      "execution_count": 1,
      "metadata": {
        "dotnet_interactive": {
          "language": "csharp"
        }
      },
      "source": [
        ""
      ],
      "outputs": []
    },
    {
      "cell_type": "code",
      "execution_count": 1,
      "metadata": {
        "dotnet_interactive": {
          "language": "csharp"
        }
      },
      "source": [
        ""
      ],
      "outputs": []
    },
    {
      "cell_type": "code",
      "execution_count": 1,
      "metadata": {
        "dotnet_interactive": {
          "language": "csharp"
        }
      },
      "source": [
        ""
      ],
      "outputs": []
    },
    {
      "cell_type": "code",
      "execution_count": 1,
      "metadata": {
        "dotnet_interactive": {
          "language": "csharp"
        }
      },
      "source": [
        ""
      ],
      "outputs": []
    },
    {
      "cell_type": "code",
      "execution_count": 1,
      "metadata": {
        "dotnet_interactive": {
          "language": "csharp"
        }
      },
      "source": [
        ""
      ],
      "outputs": []
    },
    {
      "cell_type": "code",
      "execution_count": 1,
      "metadata": {
        "dotnet_interactive": {
          "language": "csharp"
        }
      },
      "source": [
        ""
      ],
      "outputs": []
    },
    {
      "cell_type": "code",
      "execution_count": 1,
      "metadata": {
        "dotnet_interactive": {
          "language": "csharp"
        }
      },
      "source": [
        ""
      ],
      "outputs": []
    },
    {
      "cell_type": "code",
      "execution_count": 1,
      "metadata": {
        "dotnet_interactive": {
          "language": "csharp"
        }
      },
      "source": [
        ""
      ],
      "outputs": []
    }
  ],
  "metadata": {
    "kernelspec": {
      "display_name": ".NET (C#)",
      "language": "C#",
      "name": ".net-csharp"
    },
    "language_info": {
      "file_extension": ".cs",
      "mimetype": "text/x-csharp",
      "name": "C#",
      "pygments_lexer": "csharp",
      "version": "8.0"
    }
  },
  "nbformat": 4,
  "nbformat_minor": 4
}
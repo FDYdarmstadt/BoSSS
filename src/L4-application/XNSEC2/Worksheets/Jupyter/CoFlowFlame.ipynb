{
  "cells": [
    {
      "cell_type": "code",
      "execution_count": null,
      "metadata": {
        "dotnet_interactive": {
          "language": "csharp"
        }
      },
      "outputs": [],
      "source": [
        "// #r \".\\binaries2\\bossspad.dll\"\n",
        "// #r \".\\binaries2\\XNSEC.dll\"\n",
        "// #r \"C:\\BoSSS_Binaries\\bossspad.dll\"\n",
        "// #r \"C:\\BoSSS_Binaries\\XNSEC.dll\"\n",
        "#r \"C:\\BoSSS\\experimental\\public\\src\\L4-application\\BoSSSpad\\bin\\Release\\net5.0\\bossspad.dll\"\n",
        "#r \"C:\\BoSSS\\experimental\\public\\src\\L4-application\\BoSSSpad\\bin\\Release\\net5.0\\XNSEC.dll\"\n",
        "using System;\n",
        "using System.Collections.Generic;\n",
        "using System.Linq;\n",
        "using System.IO;\n",
        "using System.Data;\n",
        "using System.Globalization;\n",
        "using System.Threading;\n",
        "using ilPSP;\n",
        "using ilPSP.Utils;\n",
        "using BoSSS.Platform;\n",
        "using BoSSS.Foundation;\n",
        "using BoSSS.Foundation.Grid;\n",
        "using BoSSS.Foundation.Grid.Classic;\n",
        "using BoSSS.Foundation.IO;\n",
        "using BoSSS.Solution;\n",
        "using BoSSS.Solution.Control;\n",
        "using BoSSS.Solution.GridImport;\n",
        "using BoSSS.Solution.Statistic;\n",
        "using BoSSS.Solution.Utils;\n",
        "using BoSSS.Solution.Gnuplot;\n",
        "using BoSSS.Application.BoSSSpad;\n",
        "using BoSSS.Application.XNSE_Solver;\n",
        "using static BoSSS.Application.BoSSSpad.BoSSSshell;\n",
        "using BoSSS.Foundation.Grid.RefElements;\n",
        "using BoSSS.Platform.LinAlg;\n",
        "using BoSSS.Solution.NSECommon;\n",
        "\n",
        "using BoSSS.Application.XNSEC;\n",
        "Init();"
      ]
    },
    {
      "cell_type": "markdown",
      "metadata": {},
      "source": [
        "## Case configuration"
      ]
    },
    {
      "cell_type": "code",
      "execution_count": null,
      "metadata": {
        "dotnet_interactive": {
          "language": "csharp"
        }
      },
      "outputs": [],
      "source": [
        "// int nCells = 10;\n",
        "// int dg = 2;\n",
        "int nCells = 10;\n",
        "int dg_MF = 2;\n",
        "int dg_Full = 3;\n",
        "// double[] multiplierS = new double[] {1.0,2.0,3.0,4.0,5.0,6.0,7.0,8.0,9.0,10.0};\n",
        "// double[] multiplierS = new double[] {1.0,2.0};\n",
        "// int[] multiplierS = new int[]{10};\n",
        "// int[] multiplierS = new int[]{1,2,4,6,8,10,12,14};\n",
        "int[] multiplierS = new int[]{1};\n",
        "// int[] multiplierS = new int[]{1,2,3,4,5,6,7,8,9,10,11,12};\n",
        "\n",
        "// int[] multiplierS = new int[]{4};\n",
        "\n",
        "double InitialMassFuelIn = 0.002400; //kg/m2s \n",
        "double InitialMassAirIn = 0.002400 *3*2; //kg/m2s \n",
        "bool parabolicVelocityProfile = true;\n",
        "bool chemicalReactionActive = true; \n",
        "int numberOfMpiCores = 8;\n",
        "bool useFullGeometry = false;\n",
        "bool wallBounded = true;\n",
        "bool AMRinEachNewtonIteration = true;"
      ]
    },
    {
      "cell_type": "markdown",
      "metadata": {
        "dotnet_interactive": {
          "language": "csharp"
        }
      },
      "source": [
        "## Open Database"
      ]
    },
    {
      "cell_type": "code",
      "execution_count": null,
      "metadata": {
        "dotnet_interactive": {
          "language": "csharp"
        }
      },
      "outputs": [],
      "source": [
        "static var myDb = OpenOrCreateDatabase(@\"\\\\hpccluster\\hpccluster-scratch\\gutierrez\\CoFlowingFlame3\");\n",
        "\n",
        " myDb.Summary()"
      ]
    },
    {
      "cell_type": "code",
      "execution_count": null,
      "metadata": {
        "dotnet_interactive": {
          "language": "csharp"
        }
      },
      "outputs": [],
      "source": []
    },
    {
      "cell_type": "code",
      "execution_count": null,
      "metadata": {
        "dotnet_interactive": {
          "language": "csharp"
        }
      },
      "outputs": [],
      "source": [
        "myDb.Sessions[0].Export().Do()"
      ]
    },
    {
      "cell_type": "code",
      "execution_count": null,
      "metadata": {
        "dotnet_interactive": {
          "language": "csharp"
        }
      },
      "outputs": [],
      "source": [
        "myDb.Sessions[0].Export().Do()"
      ]
    },
    {
      "cell_type": "code",
      "execution_count": null,
      "metadata": {
        "dotnet_interactive": {
          "language": "csharp"
        }
      },
      "outputs": [],
      "source": [
        "BoSSSshell.WorkflowMgm.AllJobs"
      ]
    },
    {
      "cell_type": "code",
      "execution_count": null,
      "metadata": {
        "dotnet_interactive": {
          "language": "csharp"
        }
      },
      "outputs": [],
      "source": [
        "BoSSSshell.WorkflowMgm.Init(\"CounterFlowFlame2\");\n",
        "// BoSSSshell.WorkflowMgm.SetNameBasedSessionJobControlCorrelation();\n",
        "BoSSSshell.WorkflowMgm.Sessions"
      ]
    },
    {
      "cell_type": "code",
      "execution_count": null,
      "metadata": {
        "dotnet_interactive": {
          "language": "csharp"
        }
      },
      "outputs": [],
      "source": [
        "var myBatch = BoSSSshell.ExecutionQueues[3];\n",
        "// MiniBatchProcessor.Server.StartIfNotRunning(true);\n",
        "myBatch.AllowedDatabasesPaths.Add(new AllowedDatabasesPair(myDb.Path,\"\"));"
      ]
    },
    {
      "cell_type": "markdown",
      "metadata": {},
      "source": [
        "## Create grid"
      ]
    },
    {
      "cell_type": "code",
      "execution_count": null,
      "metadata": {
        "dotnet_interactive": {
          "language": "csharp"
        }
      },
      "outputs": [],
      "source": [
        "public static class GridFactory {\n",
        "\n",
        "    public static Grid2D GenerateGrid(int nCells) {\n",
        "        // Geometry\n",
        "        // All lenghts are non.dimensionalized with Lref = fuel inlet radius (0.2 cm)\n",
        "        double factor = 1.0;\n",
        "        double r = 0.635 / 100 * factor; // Radius inner cylinder, m\n",
        "        double R = 2.54 / 100 * factor; // Radius outter cylinder, m\n",
        "        double LRef = r;\n",
        "\n",
        "        double zlength = 20.0 / 100 * factor;// meters\n",
        "        double xmin = -R / LRef;\n",
        "        double xmax = +R / LRef;\n",
        "        double ymin = 0;\n",
        "        double ymax = zlength / LRef;\n",
        "        double rAd = r / LRef;\n",
        "\n",
        "        double leftmidpoint = (xmin - rAd) / 2;\n",
        "        double rightmidpoint = (xmax + rAd) / 2;\n",
        "\n",
        "        var troubledPoints = new double[][] {\n",
        "        new double[]{ rAd, 0.0 },\n",
        "        new double[]{-rAd, 0.0 }\n",
        "        };\n",
        "        double stretchfactorY = 0.98 * 1;\n",
        "\n",
        "        double sf1 = 0.97 * 1 * 0;\n",
        "        double sf2 = 0.95 * 1 * 0;\n",
        "        double sf3 = 0.97 * 1 * 0;\n",
        "        int n1 = (int)2.5 * nCells;\n",
        "        int n2 = (int)1.0 * nCells;\n",
        "        int n3 = (int)2.5 * nCells;\n",
        "        //var xNodes1 = GenericBlas.SinLinSpacing(xmin, -rAd, sf1, n1 + 1);\n",
        "        //var xNodes2 = GenericBlas.SinLinSpacing(-rAd, rAd, sf2, n2 + 1);\n",
        "        //var xNodes3 = GenericBlas.SinLinSpacing(rAd, xmax, sf3, n3 + 1);\n",
        "\n",
        "        List<double> xNodes2 = (GenericBlas.SinLinSpacing(-rAd, rAd, sf2, n2 + 1)).ToList(); // nodes corresponding to the fuel inlet\n",
        "        List<double> xNodes3 = (GenericBlas.SinLinSpacing(rAd, (xmax - rAd) * 2 + rAd, sf3, n1 * 2 + 1).ToList()); // Nodes corresponding to the oxidizer inlet, right part\n",
        "        var myXnodes3 = xNodes3.GetSubVector(0, xNodes3.Count / 2 + 1); // Take only \"left side\" of node array\n",
        "        var myxNodes1 = myXnodes3.CloneAs();\n",
        "        myxNodes1.ScaleV(-1.0);\n",
        "        Array.Reverse(myxNodes1);\n",
        "\n",
        "        List<double> list2 = new List<double>();\n",
        "        list2.AddRange(myxNodes1.Take(n1 + 0).ToList());\n",
        "        list2.AddRange(xNodes2.Take(n2 + 0).ToList());\n",
        "        list2.AddRange(myXnodes3.Take(n3 + 1).ToList());\n",
        "        double[] _xNodes = list2.ToArray();\n",
        "        //Debug.Assert(_xNodes.Contains(xmin));\n",
        "        //Debug.Assert(_xNodes.Contains(-rAd));\n",
        "        //Debug.Assert(_xNodes.Contains(rAd));\n",
        "        //Debug.Assert(_xNodes.Contains(xmax));\n",
        "        var _yNodes = GenericBlas.SinLinSpacing(ymin, ymax * 2, stretchfactorY, (2 * nCells) * 4 + 1);\n",
        "        var myYnodes = _yNodes.GetSubVector(0, _yNodes.Length / 2 + 1); // I just want a fine mesh in the bottom part of the grid.\n",
        "                                                                        //var _xNodes = GenericBlas.Linspace(xmin, xmax, 2 * meshScaling + 1);\n",
        "                                                                        //var myYnodes = GenericBlas.Linspace(ymin, ymax, 2 * meshScaling + 1);\n",
        "        var grd = Grid2D.Cartesian2DGrid(_xNodes, myYnodes, periodicX: false);\n",
        "        grd.EdgeTagNames.Add(1, \"Velocity_Inlet_O2\");\n",
        "        grd.EdgeTagNames.Add(2, \"Velocity_Inlet_CH4\");\n",
        "        grd.EdgeTagNames.Add(3, \"Pressure_Outlet\");\n",
        "        //grd.EdgeTagNames.Add(4, \"wall\");\n",
        "        //grd.EdgeTagNames.Add(4, \"NoSlipNeumann\");\n",
        "        grd.EdgeTagNames.Add(4, \"Velocity_Inlet_outer\"); // We want a constant velocity field.\n",
        "\n",
        "        grd.DefineEdgeTags(delegate (double[] X) {\n",
        "            double x = X[0];\n",
        "            double y = X[1];\n",
        "\n",
        "            //Edge tags\n",
        "            //1: Velocity inlet O_2\n",
        "            //2: Velocity inlet CH_4\n",
        "            //3: Pressure outlet\n",
        "\n",
        "            //Inlet fuel\n",
        "            if(Math.Abs(y - ymin) < 1e-8 && Math.Abs(x - 0.0) < rAd + 1e-8)\n",
        "                return 2;\n",
        "            //Inlet oxidizer\n",
        "            if((Math.Abs(y - ymin) < 1e-8 && ((Math.Abs(x - rightmidpoint) < ((xmax - rAd) * 0.5 + rAd) + 1e-8) || Math.Abs(x - leftmidpoint) < Math.Abs((xmin - rAd) * 0.5 + rAd) + 1e-8)))\n",
        "                return 1;\n",
        "\n",
        "            // Pressure outlet\n",
        "\n",
        "            if((Math.Abs(y - ymax) < 1e-8))\n",
        "                return 3;\n",
        "\n",
        "            // Pressure outlet\n",
        "\n",
        "            if((Math.Abs(x - xmin) < 1e-8) || (Math.Abs(x - xmax) < 1e-8))\n",
        "                return 4;\n",
        "            else throw new ArgumentOutOfRangeException();\n",
        "        \n",
        "        }\n",
        "        );\n",
        "        myDb.SaveGrid(ref grd, true);\n",
        "\n",
        "        return grd;\n",
        "    }\n",
        "}"
      ]
    },
    {
      "cell_type": "code",
      "execution_count": null,
      "metadata": {
        "dotnet_interactive": {
          "language": "csharp"
        }
      },
      "outputs": [],
      "source": [
        "public static class BoundaryValueFactory { \n",
        "\n",
        "    public static string GetPrefixCode(double ConstVal, double inletRadius, double uInFuel, double uInAir) {\n",
        "        using(var stw = new System.IO.StringWriter()) {\n",
        "           \n",
        "           stw.WriteLine(\"static class BoundaryValues {\");\n",
        "\n",
        "           stw.WriteLine(\"  static public double ConstantValue(double[] X) {\");\n",
        "           stw.WriteLine(\"    return \"+ ConstVal +\";\");\n",
        "           stw.WriteLine(\"  }\");\n",
        "\n",
        "           stw.WriteLine(\"  static public double ParabolaVelocityFuel(double[] X) {\");\n",
        "           stw.WriteLine(\"    return  (1.0 - Math.Pow(X[1] / \"+inletRadius+\", 2)) * \"+uInFuel+\" ;\");\n",
        "           stw.WriteLine(\"  }\");\n",
        "           \n",
        "           stw.WriteLine(\"  static public double ParabolaVelocityAir(double[] X) {\");\n",
        "           stw.WriteLine(\"    return  -(1.0 - Math.Pow(X[1] / \"+inletRadius+\", 2)) * \"+uInAir+\";\");\n",
        "           stw.WriteLine(\"  }\");\n",
        "           \n",
        "       \n",
        "            stw.WriteLine(\"}\"); \n",
        "           return stw.ToString();\n",
        "        }\n",
        "    }\n",
        "\n",
        "    static public Formula Get_ConstantValue(double ConstVal, double inletRadius, double uInFuel, double uInAir){\n",
        "        return new Formula(\"BoundaryValues.ConstantValue\", AdditionalPrefixCode:GetPrefixCode(ConstVal, inletRadius, uInFuel, uInAir));\n",
        "    }\n",
        "\n",
        "    static public Formula Get_ParabolaVelocityFuel(double ConstVal, double inletRadius, double uInFuel, double uInAir){\n",
        "        return new Formula(\"BoundaryValues.ParabolaVelocityFuel\", AdditionalPrefixCode:GetPrefixCode(ConstVal, inletRadius, uInFuel, uInAir));\n",
        "    }\n",
        "    static public Formula Get_ParabolaVelocityAir(double ConstVal, double inletRadius, double uInFuel, double uInAir){\n",
        "        return new Formula(\"BoundaryValues.ParabolaVelocityAir\", AdditionalPrefixCode:GetPrefixCode(ConstVal, inletRadius, uInFuel, uInAir));\n",
        "    }\n",
        "}"
      ]
    },
    {
      "cell_type": "markdown",
      "metadata": {},
      "source": [
        "## Create base control file\n",
        "In this ControlFile basic configuration of the CounterDiffusionFlame is defined."
      ]
    },
    {
      "cell_type": "code",
      "execution_count": null,
      "source": [
        "static XNSEC_Control GiveMeTheCtrlFile(int dg, int nCells, bool isMF, double massFuelIn, double massAirIn, bool parabolicVelocityProfile, bool UsefullGeometry, bool wallBounded) {\r\n",
        "    var CC = new ChemicalConstants();\r\n",
        "\r\n",
        "    var C = isMF ? new XNSEC_MF_Control() : new XNSEC_Control();\r\n",
        "\r\n",
        "    C.NumberOfChemicalSpecies = 4; \r\n",
        "    C.SetDGdegree(dg); //\r\n",
        "    C.SetGrid(GridFactory.GenerateGrid(nCells));  //\r\n",
        "\r\n",
        "    C.MatParamsMode = MaterialParamsMode.Constant;  //\r\n",
        "    // Problem Definition\r\n",
        "    //===================\r\n",
        "  \r\n",
        "    double TemperatureInFuel = 300;  //\r\n",
        "    double TemperatureInOxidizer = 300; //\r\n",
        "    double AtmPressure = 101325; // Pa\r\n",
        "    double[] FuelInletConcentrations = new double[] { 0.2, 0.0, 0.0, 0.0, 0.8 };\r\n",
        "    double[] OxidizerInletConcentrations = new double[] { 0.0, 0.23, 0.0, 0.0, 0.77 }; //\r\n",
        "    double[] MWs = new double[] { CC.MW_CH4, CC.MW_O2, CC.MW_CO2, CC.MW_H2O, CC.MW_N2 };\r\n",
        "\r\n",
        "    double mwFuel = CC.getAvgMW(MWs, FuelInletConcentrations);\r\n",
        "    double mwAir = CC.getAvgMW(MWs, OxidizerInletConcentrations);\r\n",
        "    double densityAirIn = AtmPressure * mwAir / (CC.R_gas * TemperatureInOxidizer * 1000); // kg / m3\r\n",
        "    double densityFuelIn = AtmPressure * mwFuel / (CC.R_gas * TemperatureInFuel * 1000); // kg / m3.\r\n",
        "    double uInFuel = massFuelIn / densityFuelIn; //\r\n",
        "    double uInAir = massAirIn / densityAirIn; //\r\n",
        "\r\n",
        "    Console.WriteLine(\"VelocityFuel\" + uInFuel);\r\n",
        "    Console.WriteLine(\"VelocityAir\" + uInAir);\r\n",
        "\r\n",
        "    // Reference values\r\n",
        "    //===================\r\n",
        "    // Basic units to be used: Kg, m, s, mol, pa,\r\n",
        "    double TRef = TemperatureInOxidizer;// Reference temperature  is the inlet temperature, (K)\r\n",
        "    double pRef = AtmPressure; // Pa\r\n",
        "    double uRef = Math.Max(uInFuel, uInAir); // m/s\r\n",
        "    double r = 0.635 / 100; // Radius inner cylinder, m\r\n",
        "    double R = 2.54 / 100 ; // Radius outter cylinder, m\r\n",
        "\r\n",
        "    double LRef = r;\r\n",
        "    C.GravityDirection = new double[] { 0.0, 0.0, 0.0 }; //No gravity.\r\n",
        "\r\n",
        "    // Solver configuration\r\n",
        "    // =======================\r\n",
        "\r\n",
        "    C.NonLinearSolver.ConvergenceCriterion = 1e-8;\r\n",
        "    C.LinearSolver.ConvergenceCriterion = 1e-10;\r\n",
        "\r\n",
        "    C.NonLinearSolver.verbose = true;\r\n",
        "    C.NonLinearSolver.SolverCode = NonLinearSolverCode.Newton;\r\n",
        "    C.NonLinearSolver.MaxSolverIterations = 10;\r\n",
        "    C.LinearSolver = LinearSolverCode.direct_pardiso.GetConfig();\r\n",
        "\r\n",
        "    C.TimesteppingMode = AppControl._TimesteppingMode.Steady;\r\n",
        "    C.saveperiod = 1;\r\n",
        "    C.PenaltyViscMomentum = 1.0;\r\n",
        "    C.PenaltyHeatConduction = 1.0;\r\n",
        "    C.YFuelInlet = FuelInletConcentrations[0];\r\n",
        "    C.YOxInlet = OxidizerInletConcentrations[1];\r\n",
        "    C.FuelInletConcentrations = FuelInletConcentrations;\r\n",
        "    C.OxidizerInletConcentrations = OxidizerInletConcentrations;\r\n",
        "    C.TFuelInlet = 1.0;\r\n",
        "    C.TOxInlet = 1.0;\r\n",
        "    C.PhysicalParameters.IncludeConvection = true;\r\n",
        "    // Chemical related parameters\r\n",
        "    double s = (CC.nu_O2 * CC.MW_O2) / (CC.nu_CH4 * CC.MW_CH4);\r\n",
        "    C.phi = s * C.YFuelInlet / C.YOxInlet;\r\n",
        "    C.zSt = 1.0 / (1.0 + C.phi);\r\n",
        "    var MLC = new MaterialLawCombustion(300, new double[] { }, C.MatParamsMode, C.rhoOne, true, 1.0, 1, 1, C.YOxInlet, C.YFuelInlet, C.zSt, CC, 0.75);\r\n",
        "    var ThermoProperties = new ThermodynamicalProperties();\r\n",
        "\r\n",
        "\r\n",
        "    //==========================\r\n",
        "    //Derived reference values\r\n",
        "    //==========================\r\n",
        "    C.uRef = uRef; // Reference velocity\r\n",
        "    C.LRef = LRef; // reference length\r\n",
        "    C.pRef = AtmPressure; // reference pressure\r\n",
        "    C.TRef = TemperatureInFuel;// reference temperature\r\n",
        "    C.MWRef = MLC.getAvgMW(MWs, C.OxidizerInletConcentrations); // Air mean molecular weight\r\n",
        "    C.rhoRef = C.pRef * C.MWRef / (8.314 * C.TRef * 1000); // Kg/m3. ok ;\r\n",
        "    C.cpRef = 1.3;//ThermoProperties.Calculate_Cp_Mixture(new double[] { 0.23, 0.77 }, new string[] { \"O2\", \"N2\" }, 300); // 1.219185317353029;// Representative value, KJ/Kg K ========> 1.31 for the one-step kinetic model\r\n",
        "    C.muRef = MLC.getViscosityDim(300);\r\n",
        "    C.MolarMasses = new double[] { C.CC.MW_CH4, C.CC.MW_O2, C.CC.MW_CO2, C.CC.MW_H2O, C.CC.MW_N2 };\r\n",
        "    C.MolarMasses.ScaleV(1.0 / C.MWRef); //NonDimensionalized Molar masses\r\n",
        "\r\n",
        "    double heatRelease_Ref = (C.TRef * C.cpRef);\r\n",
        "    C.HeatRelease = C.CC.HeatReleaseMass / heatRelease_Ref;\r\n",
        "    C.B = CC.PreExponentialFactor;\r\n",
        "\r\n",
        "    C.StoichiometricCoefficients = new double[] { -1, -2, 1, 2, 0 };\r\n",
        "\r\n",
        "    C.Damk = C.rhoRef * C.LRef * C.B / (C.uRef * C.MWRef);\r\n",
        "    C.Reynolds = C.rhoRef * C.uRef * C.LRef / C.muRef;\r\n",
        "    C.Prandtl =1.0; \r\n",
        "    C.Schmidt = C.Prandtl; // Because Lewis number  is assumed as 1.0  (Le = Pr/Sc)\r\n",
        "    // C.Lewis = new double[] { 0.97, 1.11, 1.39, 0.83, 1.0 };\r\n",
        "    C.Lewis = new double[] { 1.0, 1.0, 1.0, 1.0, 1.0 };\r\n",
        "\r\n",
        "    double g = 9.8; // m/s2\r\n",
        "    C.Froude = Math.Sqrt(uRef * uRef / (C.LRef * g)); // Not used\r\n",
        "    C.T_ref_Sutherland = 300; //////// Check this\r\n",
        "    C.ReactionRateConstants = new double[] { C.Damk, CC.Ta / TRef, 1.0, 1.0 }; // NOTE! activation temperature is also nondimensional\r\n",
        "    //==========================\r\n",
        "    // Initial conditions\r\n",
        "    //==========================\r\n",
        "    double Radius = 0.5;\r\n",
        "    C.AddInitialValue(VariableNames.VelocityX, BoundaryValueFactory.Get_ConstantValue(0.0, Radius, uInFuel / C.uRef, uInAir / C.uRef));\r\n",
        "    C.AddInitialValue(VariableNames.VelocityY, BoundaryValueFactory.Get_ConstantValue(0.0, Radius, uInFuel / C.uRef, uInAir / C.uRef));\r\n",
        "    C.AddInitialValue(VariableNames.Pressure, BoundaryValueFactory.Get_ConstantValue(0.0, Radius, uInFuel / C.uRef, uInAir / C.uRef));\r\n",
        "    //==========================\r\n",
        "    // Boundary conditions\r\n",
        "    //==========================\r\n",
        "    double dummy = 0;\r\n",
        " \r\n",
        "    C.AddBoundaryValue(\"Velocity_Inlet_CH4\", VariableNames.Velocity_d(0), BoundaryValueFactory.Get_ConstantValue(0.0, dummy, dummy, dummy));\r\n",
        "    C.AddBoundaryValue(\"Velocity_Inlet_CH4\", VariableNames.Velocity_d(1), BoundaryValueFactory.Get_ConstantValue( uInFuel / uRef, dummy, dummy, dummy));\r\n",
        "\r\n",
        "\r\n",
        "\r\n",
        "    C.AddBoundaryValue(\"Velocity_Inlet_O2\", VariableNames.Velocity_d(0), BoundaryValueFactory.Get_ConstantValue(0.0, dummy, dummy, dummy));\r\n",
        "    C.AddBoundaryValue(\"Velocity_Inlet_O2\", VariableNames.Velocity_d(1), BoundaryValueFactory.Get_ConstantValue( uInAir / uRef, dummy, dummy, dummy));\r\n",
        "\r\n",
        "    C.AddBoundaryValue(\"Velocity_Inlet_outer\", VariableNames.Velocity_d(0), BoundaryValueFactory.Get_ConstantValue(0.0, dummy, dummy, dummy));\r\n",
        "    C.AddBoundaryValue(\"Velocity_Inlet_outer\", VariableNames.Velocity_d(1), BoundaryValueFactory.Get_ConstantValue( uInAir / uRef, dummy, dummy, dummy));\r\n",
        "    return C;\r\n",
        "}"
      ],
      "outputs": [],
      "metadata": {
        "dotnet_interactive": {
          "language": "csharp"
        }
      },
      "outputs": [],
      "source": [
        "static XNSEC_Control GiveMeTheCtrlFile(int dg, int nCells, bool isMF, double massFuelIn, double massAirIn, bool parabolicVelocityProfile, bool UsefullGeometry, bool wallBounded) {\n",
        "    var CC = new ChemicalConstants();\n",
        "\n",
        "    var C = isMF ? new XNSEC_MF_Control() : new XNSEC_Control();\n",
        "\n",
        "    C.NumberOfChemicalSpecies = 4; \n",
        "    C.SetDGdegree(dg); //\n",
        "    C.SetGrid(GridFactory.GenerateGrid(nCells));  //\n",
        "\n",
        "    C.MatParamsMode = MaterialParamsMode.Constant;  //\n",
        "    // Problem Definition\n",
        "    //===================\n",
        "  \n",
        "    double TemperatureInFuel = 300;  //\n",
        "    double TemperatureInOxidizer = 300; //\n",
        "    double AtmPressure = 101325; // Pa\n",
        "    double[] FuelInletConcentrations = new double[] { 0.2, 0.0, 0.0, 0.0, 0.8 };\n",
        "    double[] OxidizerInletConcentrations = new double[] { 0.0, 0.23, 0.0, 0.0, 0.77 }; //\n",
        "    double[] MWs = new double[] { CC.MW_CH4, CC.MW_O2, CC.MW_CO2, CC.MW_H2O, CC.MW_N2 };\n",
        "\n",
        "    double mwFuel = CC.getAvgMW(MWs, FuelInletConcentrations);\n",
        "    double mwAir = CC.getAvgMW(MWs, OxidizerInletConcentrations);\n",
        "    double densityAirIn = AtmPressure * mwAir / (CC.R_gas * TemperatureInOxidizer * 1000); // kg / m3\n",
        "    double densityFuelIn = AtmPressure * mwFuel / (CC.R_gas * TemperatureInFuel * 1000); // kg / m3.\n",
        "    double uInFuel = massFuelIn / densityFuelIn; //\n",
        "    double uInAir = massAirIn / densityAirIn; //\n",
        "\n",
        "    Console.WriteLine(\"VelocityFuel\" + uInFuel);\n",
        "    Console.WriteLine(\"VelocityAir\" + uInAir);\n",
        "\n",
        "    // Reference values\n",
        "    //===================\n",
        "    // Basic units to be used: Kg, m, s, mol, pa,\n",
        "    double TRef = TemperatureInOxidizer;// Reference temperature  is the inlet temperature, (K)\n",
        "    double pRef = AtmPressure; // Pa\n",
        "    double uRef = Math.Max(uInFuel, uInAir); // m/s\n",
        "    double r = 0.635 / 100; // Radius inner cylinder, m\n",
        "    double R = 2.54 / 100 ; // Radius outter cylinder, m\n",
        "\n",
        "    double LRef = r;\n",
        "    C.GravityDirection = new double[] { 0.0, 0.0, 0.0 }; //No gravity.\n",
        "\n",
        "    // Solver configuration\n",
        "    // =======================\n",
        "\n",
        "    C.NonLinearSolver.ConvergenceCriterion = 1e-8;\n",
        "    C.LinearSolver.ConvergenceCriterion = 1e-10;\n",
        "\n",
        "    C.NonLinearSolver.verbose = true;\n",
        "    C.NonLinearSolver.SolverCode = NonLinearSolverCode.Newton;\n",
        "    C.NonLinearSolver.MaxSolverIterations = 10;\n",
        "    C.LinearSolver.SolverCode = LinearSolverCode.direct_pardiso;\n",
        "\n",
        "    C.TimesteppingMode = AppControl._TimesteppingMode.Steady;\n",
        "    C.saveperiod = 1;\n",
        "    C.PenaltyViscMomentum = 1.0;\n",
        "    C.PenaltyHeatConduction = 1.0;\n",
        "    C.YFuelInlet = FuelInletConcentrations[0];\n",
        "    C.YOxInlet = OxidizerInletConcentrations[1];\n",
        "    C.FuelInletConcentrations = FuelInletConcentrations;\n",
        "    C.OxidizerInletConcentrations = OxidizerInletConcentrations;\n",
        "    C.TFuelInlet = 1.0;\n",
        "    C.TOxInlet = 1.0;\n",
        "    C.PhysicalParameters.IncludeConvection = true;\n",
        "    // Chemical related parameters\n",
        "    double s = (CC.nu_O2 * CC.MW_O2) / (CC.nu_CH4 * CC.MW_CH4);\n",
        "    C.phi = s * C.YFuelInlet / C.YOxInlet;\n",
        "    C.zSt = 1.0 / (1.0 + C.phi);\n",
        "    var MLC = new MaterialLawCombustion(300, new double[] { }, C.MatParamsMode, C.rhoOne, true, 1.0, 1, 1, C.YOxInlet, C.YFuelInlet, C.zSt, CC, 0.75);\n",
        "    var ThermoProperties = new ThermodynamicalProperties();\n",
        "\n",
        "\n",
        "    //==========================\n",
        "    //Derived reference values\n",
        "    //==========================\n",
        "    C.uRef = uRef; // Reference velocity\n",
        "    C.LRef = LRef; // reference length\n",
        "    C.pRef = AtmPressure; // reference pressure\n",
        "    C.TRef = TemperatureInFuel;// reference temperature\n",
        "    C.MWRef = MLC.getAvgMW(MWs, C.OxidizerInletConcentrations); // Air mean molecular weight\n",
        "    C.rhoRef = C.pRef * C.MWRef / (8.314 * C.TRef * 1000); // Kg/m3. ok ;\n",
        "    C.cpRef = 1.3;//ThermoProperties.Calculate_Cp_Mixture(new double[] { 0.23, 0.77 }, new string[] { \"O2\", \"N2\" }, 300); // 1.219185317353029;// Representative value, KJ/Kg K ========> 1.31 for the one-step kinetic model\n",
        "    C.muRef = MLC.getViscosityDim(300);\n",
        "    C.MolarMasses = new double[] { C.CC.MW_CH4, C.CC.MW_O2, C.CC.MW_CO2, C.CC.MW_H2O, C.CC.MW_N2 };\n",
        "    C.MolarMasses.ScaleV(1.0 / C.MWRef); //NonDimensionalized Molar masses\n",
        "\n",
        "    double heatRelease_Ref = (C.TRef * C.cpRef);\n",
        "    C.HeatRelease = C.CC.HeatReleaseMass / heatRelease_Ref;\n",
        "    C.B = CC.PreExponentialFactor;\n",
        "\n",
        "    C.StoichiometricCoefficients = new double[] { -1, -2, 1, 2, 0 };\n",
        "\n",
        "    C.Damk = C.rhoRef * C.LRef * C.B / (C.uRef * C.MWRef);\n",
        "    C.Reynolds = C.rhoRef * C.uRef * C.LRef / C.muRef;\n",
        "    C.Prandtl =1.0; \n",
        "    C.Schmidt = C.Prandtl; // Because Lewis number  is assumed as 1.0  (Le = Pr/Sc)\n",
        "    // C.Lewis = new double[] { 0.97, 1.11, 1.39, 0.83, 1.0 };\n",
        "    C.Lewis = new double[] { 1.0, 1.0, 1.0, 1.0, 1.0 };\n",
        "\n",
        "    double g = 9.8; // m/s2\n",
        "    C.Froude = Math.Sqrt(uRef * uRef / (C.LRef * g)); // Not used\n",
        "    C.T_ref_Sutherland = 300; //////// Check this\n",
        "    C.ReactionRateConstants = new double[] { C.Damk, CC.Ta / TRef, 1.0, 1.0 }; // NOTE! activation temperature is also nondimensional\n",
        "    //==========================\n",
        "    // Initial conditions\n",
        "    //==========================\n",
        "    double Radius = 0.5;\n",
        "    C.AddInitialValue(VariableNames.VelocityX, BoundaryValueFactory.Get_ConstantValue(0.0, Radius, uInFuel / C.uRef, uInAir / C.uRef));\n",
        "    C.AddInitialValue(VariableNames.VelocityY, BoundaryValueFactory.Get_ConstantValue(0.0, Radius, uInFuel / C.uRef, uInAir / C.uRef));\n",
        "    C.AddInitialValue(VariableNames.Pressure, BoundaryValueFactory.Get_ConstantValue(0.0, Radius, uInFuel / C.uRef, uInAir / C.uRef));\n",
        "    //==========================\n",
        "    // Boundary conditions\n",
        "    //==========================\n",
        "    double dummy = 0;\n",
        " \n",
        "    C.AddBoundaryValue(\"Velocity_Inlet_CH4\", VariableNames.Velocity_d(0), BoundaryValueFactory.Get_ConstantValue(0.0, dummy, dummy, dummy));\n",
        "    C.AddBoundaryValue(\"Velocity_Inlet_CH4\", VariableNames.Velocity_d(1), BoundaryValueFactory.Get_ConstantValue( uInFuel / uRef, dummy, dummy, dummy));\n",
        "\n",
        "\n",
        "\n",
        "    C.AddBoundaryValue(\"Velocity_Inlet_O2\", VariableNames.Velocity_d(0), BoundaryValueFactory.Get_ConstantValue(0.0, dummy, dummy, dummy));\n",
        "    C.AddBoundaryValue(\"Velocity_Inlet_O2\", VariableNames.Velocity_d(1), BoundaryValueFactory.Get_ConstantValue( uInAir / uRef, dummy, dummy, dummy));\n",
        "\n",
        "    C.AddBoundaryValue(\"Velocity_Inlet_outer\", VariableNames.Velocity_d(0), BoundaryValueFactory.Get_ConstantValue(0.0, dummy, dummy, dummy));\n",
        "    C.AddBoundaryValue(\"Velocity_Inlet_outer\", VariableNames.Velocity_d(1), BoundaryValueFactory.Get_ConstantValue( uInAir / uRef, dummy, dummy, dummy));\n",
        "    return C;\n",
        "}"
      ]
    },
    {
      "cell_type": "markdown",
      "metadata": {},
      "source": [
        "## Starting the MixtureFraction simulation\n",
        "Configuration  for the simulation using the mixture fraction approach, where an infinite reaction rate is assumed. Used to find adequate starting solution for the full problem."
      ]
    },
    {
      "cell_type": "code",
      "execution_count": null,
      "metadata": {
        "dotnet_interactive": {
          "language": "csharp"
        }
      },
      "outputs": [],
      "source": [
        "static XNSEC_Control GiveMeTheMixtureFractionCtrlFile(int dg, int nCells, double massFuelIn, double massAirIn, bool parabolicVelocityProfile, int multiplier, bool useFullGeometry, bool wallBounded){\n",
        "    var C_MixtureFraction = GiveMeTheCtrlFile(dg, nCells, true,massFuelIn, massAirIn, parabolicVelocityProfile, useFullGeometry,  wallBounded );\n",
        "    C_MixtureFraction.physicsMode = PhysicsMode.MixtureFraction;\n",
        "    C_MixtureFraction.ProjectName = \"CoFlowFlame\";\n",
        "    string name = C_MixtureFraction.ProjectName + \"P\" + dg + \"K\" + nCells + \"Multiplier\" +multiplier;\n",
        "    C_MixtureFraction.SessionName = \"FS_\" + name;\n",
        "\n",
        "    C_MixtureFraction.UseSelfMadeTemporalOperator = false;\n",
        "    C_MixtureFraction.ChemicalReactionActive = false;\n",
        "    C_MixtureFraction.physicsMode = PhysicsMode.MixtureFraction;\n",
        "    C_MixtureFraction.NonLinearSolver.MaxSolverIterations = 500; \n",
        "    C_MixtureFraction.dummycounter = multiplier;\n",
        "    // Boundary and initial conditions\n",
        "    double dummy = -11111111;\n",
        "    C_MixtureFraction.AddInitialValue(VariableNames.MixtureFraction,BoundaryValueFactory.Get_ConstantValue(1.0,dummy,dummy , dummy));\n",
        "    C_MixtureFraction.AddBoundaryValue(\"Velocity_Inlet_CH4\", VariableNames.MixtureFraction, BoundaryValueFactory.Get_ConstantValue(1.0,dummy,dummy , dummy));\n",
        "    C_MixtureFraction.AddBoundaryValue(\"Velocity_Inlet_O2\", VariableNames.MixtureFraction, BoundaryValueFactory.Get_ConstantValue(0.0,dummy,dummy , dummy));\n",
        "    C_MixtureFraction.AddBoundaryValue(\"Velocity_Inlet_outer\", VariableNames.MixtureFraction, BoundaryValueFactory.Get_ConstantValue(0.0,dummy,dummy , dummy));\n",
        "\n",
        "\n",
        "    C_MixtureFraction.Tags.Add(multiplier.ToString()); // Tag used for restart of the full problem\n",
        "    double radius_inlet = 1;\n",
        "    var troubledPoints = new List<double[]>();\n",
        " \n",
        "        troubledPoints.Add(new double[]{1, 0});\n",
        "        troubledPoints.Add(new double[]{-1, 0});\n",
        "        \n",
        "\n",
        "    \n",
        "    // Dictionary<string, Tuple<double, double>> Bounds = new Dictionary<string, Tuple<double, double>>();\n",
        "    // double eps = 0.05;\n",
        "    // Bounds.Add(VariableNames.MixtureFraction, new Tuple<double, double>(0- eps, 1 + eps));      \n",
        "    // C_MixtureFraction.VariableBounds = Bounds;\n",
        "\n",
        "\n",
        "    bool useHomotopy = false;\n",
        "\n",
        "    if(useHomotopy) { \n",
        "        C_MixtureFraction.HomotopyApproach = XNSEC_Control.HomotopyType.Automatic;\n",
        "        // C_MixtureFraction.HomotopyVariable = XNSEC_Control.HomotopyVariableEnum.VelocityInletMultiplier;\n",
        "        // C_MixtureFraction.homotopieAimedValue = multiplier;\n",
        "        C_MixtureFraction.HomotopyVariable = XNSEC_Control.HomotopyVariableEnum.HeatOfCombustion;\n",
        "        C_MixtureFraction.homotopieAimedValue = C_MixtureFraction.HeatRelease;\n",
        "    }\n",
        "\n",
        "\n",
        "    C_MixtureFraction.AdaptiveMeshRefinement = true;\n",
        "    C_MixtureFraction.AMR_startUpSweeps = 2;\n",
        "    int NoOfPseudoTimesteps = 3;\n",
        "    C_MixtureFraction.TimesteppingMode = BoSSS.Solution.Control.AppControl._TimesteppingMode.Steady; \n",
        "    C_MixtureFraction.NoOfTimesteps = NoOfPseudoTimesteps ;\n",
        "\n",
        "    C_MixtureFraction.activeAMRlevelIndicators.Add( new BoSSS.Application.XNSEC.AMR_onProblematicPoints(troubledPoints,C_MixtureFraction.AMR_startUpSweeps) );  \n",
        "    C_MixtureFraction.activeAMRlevelIndicators.Add( new BoSSS.Application.XNSEC.AMR_onFlameSheet(C_MixtureFraction.zSt,3) );\n",
        "    return C_MixtureFraction;\n",
        "}"
      ]
    },
    {
      "cell_type": "markdown",
      "metadata": {},
      "source": [
        "## Send and run jobs"
      ]
    },
    {
      "cell_type": "code",
      "execution_count": null,
      "metadata": {
        "dotnet_interactive": {
          "language": "csharp"
        }
      },
      "outputs": [],
      "source": [
        "foreach(int i in multiplierS){\n",
        "    double massFuelIn = InitialMassFuelIn*i;\n",
        "    double massAirIn = InitialMassAirIn*i;\n",
        "\n",
        "    Type solver_MF = typeof(BoSSS.Application.XNSEC.XNSEC_MixtureFraction);\n",
        "    var C_MixtureFraction = GiveMeTheMixtureFractionCtrlFile(dg_MF, nCells, massFuelIn, massAirIn,  parabolicVelocityProfile,i,useFullGeometry, wallBounded);\n",
        "    string jobName       = C_MixtureFraction.SessionName;\n",
        "    Console.WriteLine(jobName);\n",
        "    var oneJob           = new Job(jobName, solver_MF);\n",
        "    oneJob.NumberOfMPIProcs = 8;\n",
		"    oneJob.NumberOfThreads = 1;\r\n",
        "    oneJob.SetControlObject(C_MixtureFraction);\n",
        "    oneJob.Activate(myBatch); \n",
        "}"
      ]
    },
    {
      "cell_type": "code",
      "execution_count": null,
      "metadata": {
        "dotnet_interactive": {
          "language": "csharp"
        }
      },
      "outputs": [],
      "source": [
        "BoSSSshell.WorkflowMgm.BlockUntilAllJobsTerminate();"
      ]
    },
    {
      "cell_type": "markdown",
      "metadata": {},
      "source": [
        "## Starting the finite-rate chemistry simulation\n",
        "\n",
        "Now that the simulation for an \"infinite\" reaction rate is done, we use it for initializing the system with finite reaction rate. The goal is to obtain solutions of the counter difussion flame for increasing strain values. We start with a low strain (bigger Dahmkoehler number), which is increased until extintion is (hopefully) found"
      ]
    },
    {
      "cell_type": "code",
      "execution_count": null,
      "source": [
        "static XNSEC_Control GiveMeTheFullCtrlFile(int dg, int nCells, double massFuelIn, double massAirIn, ISessionInfo SessionToRestart, bool parabolicVelocityProfile, bool chemReactionActive, bool useFullGeometry, bool wallBounded, int mult, int counter) {\r\n",
        "    var C_OneStep = GiveMeTheCtrlFile(dg, nCells, false, massFuelIn, massAirIn, parabolicVelocityProfile, useFullGeometry, wallBounded);\r\n",
        "    C_OneStep.physicsMode = PhysicsMode.Combustion;\r\n",
        "    C_OneStep.ProjectName = \"CoFlowFlame\";\r\n",
        "    string name = C_OneStep.ProjectName + \"P\" + dg + \"K\" + nCells + \"mult\" + mult+\"_c\"+counter ;\r\n",
        "    C_OneStep.SessionName = \"Full_\" + name;\r\n",
        "    C_OneStep.VariableOneStepParameters = false;\r\n",
        "\r\n",
        "    // C_OneStep.Tags.Add(\"VelocityMultiplier\" + mult);\r\n",
        "    C_OneStep.Tags.Add( mult.ToString());\r\n",
        "    C_OneStep.HeatCapacityMode = MaterialLaw_MultipleSpecies.CpCalculationMode.mixture;\r\n",
        "    C_OneStep.dummycounter = counter;\r\n",
        "    C_OneStep.UseSelfMadeTemporalOperator = false;\r\n",
        "    C_OneStep.myThermalWallType = SIPDiffusionTemperature.ThermalWallType.Adiabatic;\r\n",
        "    C_OneStep.Timestepper_LevelSetHandling = BoSSS.Solution.XdgTimestepping.LevelSetHandling.None;\r\n",
        "    C_OneStep.UseMixtureFractionsForCombustionInitialization = true;\r\n",
        "\r\n",
        "    C_OneStep.LinearSolver = LinearSolverCode.exp_Kcycle_schwarz.GetConfig();\r\n",
        "    C_OneStep.LinearSolver.NoOfMultigridLevels = 5;\r\n",
        "    C_OneStep.ChemicalReactionActive = chemReactionActive;\r\n",
        "    C_OneStep.AdaptiveMeshRefinement = true;\r\n",
        "\r\n",
        "    bool AMRinEachNewtonStep = false;\r\n",
        "\r\n",
        "    if( AMRinEachNewtonStep) {\r\n",
        "        C_OneStep.NoOfTimesteps = 30;\r\n",
        "        C_OneStep.NonLinearSolver.MaxSolverIterations = 3; // Do only one newton iteration before refining\r\n",
        "        C_OneStep.NonLinearSolver.MinSolverIterations = 3; // Do only one newton iteration before refining\r\n",
        "    } else{\r\n",
        "        C_OneStep.NoOfTimesteps = 10; // The steady solution will be calculated again and do AMR\r\n",
        "        C_OneStep.NonLinearSolver.MaxSolverIterations = 10;\r\n",
        "    }\r\n",
        "   \r\n",
        "    C_OneStep.AMR_startUpSweeps = 3;\r\n",
        "    if(C_OneStep.ChemicalReactionActive){\r\n",
        "        C_OneStep.activeAMRlevelIndicators.Add(new AMR_onReactiveZones(C_OneStep.MolarMasses, 2, 0.2));\r\n",
        "        // C_OneStep.activeAMRlevelIndicators.Add(new AMR_BasedOnFieldGradient(2, 0.3, VariableNames.Temperature));\r\n",
        "        C_OneStep.activeAMRlevelIndicators.Add(new AMR_BasedOnFieldGradient(2, 0.3, VariableNames.MassFraction0));\r\n",
        "        C_OneStep.activeAMRlevelIndicators.Add(new AMR_BasedOnFieldGradient(2, 0.3, VariableNames.MassFraction0));\r\n",
        "        C_OneStep.activeAMRlevelIndicators.Add(new AMR_BasedOnFieldGradient(2, 0.3, VariableNames.MassFraction2));\r\n",
        "        C_OneStep.activeAMRlevelIndicators.Add(new AMR_BasedOnPerssonSensor(VariableNames.Temperature, 2));\r\n",
        "        // C_OneStep.activeAMRlevelIndicators.Add(new AMR_BasedOnResiduals(1,0.5));\r\n",
        "    }\r\n",
        "    // C_OneStep.activeAMRlevelIndicators.Add(new AMR_BasedOnPerssonSensor(VariableNames.Temperature, 3));\r\n",
        "    // C_OneStep.NonLinearSolver.MaxSolverIterations = 10;\r\n",
        "\r\n",
        " // limiting of variable values\r\n",
        " Dictionary<string, Tuple<double, double>> Bounds = new Dictionary<string, Tuple<double, double>>();\r\n",
        " double eps = 1e-2;\r\n",
        " Bounds.Add(VariableNames.Temperature, new Tuple<double, double>(1.0 - eps, 10)); // Min temp should be the inlet temperature.\r\n",
        " Bounds.Add(VariableNames.MassFraction0, new Tuple<double, double>(0.0 - eps, 1.0 + eps)); // Between 0 and 1 per definition\r\n",
        " Bounds.Add(VariableNames.MassFraction1, new Tuple<double, double>(0.0 - eps, 1.0 + eps));\r\n",
        " Bounds.Add(VariableNames.MassFraction2, new Tuple<double, double>(0.0 - eps, 1.0 + eps));\r\n",
        " Bounds.Add(VariableNames.MassFraction3, new Tuple<double, double>(0.0 - eps, 1.0 + eps));\r\n",
        " C_OneStep.VariableBounds = Bounds;\r\n",
        "    // Boundary conditions\r\n",
        "\r\n",
        "    double dummy = 0;\r\n",
        "    if(SessionToRestart != null) {\r\n",
        "        C_OneStep.SetRestart(SessionToRestart);\r\n",
        "    } else {\r\n",
        "        C_OneStep.AddInitialValue(VariableNames.Temperature, BoundaryValueFactory.Get_ConstantValue(1.0, dummy, dummy, dummy));\r\n",
        "        C_OneStep.AddInitialValue(VariableNames.MassFraction0, BoundaryValueFactory.Get_ConstantValue(0.0, dummy, dummy, dummy));\r\n",
        "        C_OneStep.AddInitialValue(VariableNames.MassFraction1, BoundaryValueFactory.Get_ConstantValue(0.23, dummy, dummy, dummy));\r\n",
        "        C_OneStep.AddInitialValue(VariableNames.MassFraction2, BoundaryValueFactory.Get_ConstantValue(0.0, dummy, dummy, dummy));\r\n",
        "        C_OneStep.AddInitialValue(VariableNames.MassFraction3, BoundaryValueFactory.Get_ConstantValue(0.0, dummy, dummy, dummy));\r\n",
        "    }\r\n",
        " \r\n",
        "    C_OneStep.AddBoundaryValue(\"Velocity_Inlet_CH4\", VariableNames.Temperature, BoundaryValueFactory.Get_ConstantValue(1.0, dummy, dummy, dummy));\r\n",
        "    C_OneStep.AddBoundaryValue(\"Velocity_Inlet_CH4\", VariableNames.MassFraction0, BoundaryValueFactory.Get_ConstantValue(C_OneStep.FuelInletConcentrations[0], dummy, dummy, dummy));\r\n",
        "    C_OneStep.AddBoundaryValue(\"Velocity_Inlet_CH4\", VariableNames.MassFraction1, BoundaryValueFactory.Get_ConstantValue(C_OneStep.FuelInletConcentrations[1], dummy, dummy, dummy));\r\n",
        "    C_OneStep.AddBoundaryValue(\"Velocity_Inlet_CH4\", VariableNames.MassFraction2, BoundaryValueFactory.Get_ConstantValue(C_OneStep.FuelInletConcentrations[2], dummy, dummy, dummy));\r\n",
        "    C_OneStep.AddBoundaryValue(\"Velocity_Inlet_CH4\", VariableNames.MassFraction3, BoundaryValueFactory.Get_ConstantValue(C_OneStep.FuelInletConcentrations[3], dummy, dummy, dummy));\r\n",
        "\r\n",
        "    C_OneStep.AddBoundaryValue(\"Velocity_Inlet_O2\", VariableNames.Temperature, BoundaryValueFactory.Get_ConstantValue(1.0, dummy, dummy, dummy));\r\n",
        "    C_OneStep.AddBoundaryValue(\"Velocity_Inlet_O2\", VariableNames.MassFraction0, BoundaryValueFactory.Get_ConstantValue(C_OneStep.OxidizerInletConcentrations[0], dummy, dummy, dummy));\r\n",
        "    C_OneStep.AddBoundaryValue(\"Velocity_Inlet_O2\", VariableNames.MassFraction1, BoundaryValueFactory.Get_ConstantValue(C_OneStep.OxidizerInletConcentrations[1], dummy, dummy, dummy));\r\n",
        "    C_OneStep.AddBoundaryValue(\"Velocity_Inlet_O2\", VariableNames.MassFraction2, BoundaryValueFactory.Get_ConstantValue(C_OneStep.OxidizerInletConcentrations[2], dummy, dummy, dummy));\r\n",
        "    C_OneStep.AddBoundaryValue(\"Velocity_Inlet_O2\", VariableNames.MassFraction3, BoundaryValueFactory.Get_ConstantValue(C_OneStep.OxidizerInletConcentrations[3], dummy, dummy, dummy));\r\n",
        "\r\n",
        "    C_OneStep.AddBoundaryValue(\"Velocity_Inlet_outer\", VariableNames.Temperature, BoundaryValueFactory.Get_ConstantValue(1.0, dummy, dummy, dummy));\r\n",
        "    C_OneStep.AddBoundaryValue(\"Velocity_Inlet_outer\", VariableNames.MassFraction0, BoundaryValueFactory.Get_ConstantValue(C_OneStep.OxidizerInletConcentrations[0], dummy, dummy, dummy));\r\n",
        "    C_OneStep.AddBoundaryValue(\"Velocity_Inlet_outer\", VariableNames.MassFraction1, BoundaryValueFactory.Get_ConstantValue(C_OneStep.OxidizerInletConcentrations[1], dummy, dummy, dummy));\r\n",
        "    C_OneStep.AddBoundaryValue(\"Velocity_Inlet_outer\", VariableNames.MassFraction2, BoundaryValueFactory.Get_ConstantValue(C_OneStep.OxidizerInletConcentrations[2], dummy, dummy, dummy));\r\n",
        "    C_OneStep.AddBoundaryValue(\"Velocity_Inlet_outer\", VariableNames.MassFraction3, BoundaryValueFactory.Get_ConstantValue(C_OneStep.OxidizerInletConcentrations[3], dummy, dummy, dummy));\r\n",
        "    return C_OneStep;\r\n",
        "}"
      ],
      "outputs": [],
      "metadata": {
        "dotnet_interactive": {
          "language": "csharp"
        }
      },
      "outputs": [],
      "source": [
        "static XNSEC_Control GiveMeTheFullCtrlFile(int dg, int nCells, double massFuelIn, double massAirIn, ISessionInfo SessionToRestart, bool parabolicVelocityProfile, bool chemReactionActive, bool useFullGeometry, bool wallBounded, int mult, int counter) {\n",
        "    var C_OneStep = GiveMeTheCtrlFile(dg, nCells, false, massFuelIn, massAirIn, parabolicVelocityProfile, useFullGeometry, wallBounded);\n",
        "    C_OneStep.physicsMode = PhysicsMode.Combustion;\n",
        "    C_OneStep.ProjectName = \"CoFlowFlame\";\n",
        "    string name = C_OneStep.ProjectName + \"P\" + dg + \"K\" + nCells + \"mult\" + mult+\"_c\"+counter ;\n",
        "    C_OneStep.SessionName = \"Full_\" + name;\n",
        "    C_OneStep.VariableOneStepParameters = false;\n",
        "\n",
        "    // C_OneStep.Tags.Add(\"VelocityMultiplier\" + mult);\n",
        "    C_OneStep.Tags.Add( mult.ToString());\n",
        "    C_OneStep.HeatCapacityMode = MaterialLaw_MultipleSpecies.CpCalculationMode.mixture;\n",
        "    C_OneStep.dummycounter = counter;\n",
        "    C_OneStep.UseSelfMadeTemporalOperator = false;\n",
        "    C_OneStep.myThermalWallType = SIPDiffusionTemperature.ThermalWallType.Adiabatic;\n",
        "    C_OneStep.Timestepper_LevelSetHandling = BoSSS.Solution.XdgTimestepping.LevelSetHandling.None;\n",
        "    C_OneStep.UseMixtureFractionsForCombustionInitialization = true;\n",
        "\n",
        "    C_OneStep.LinearSolver.SolverCode = LinearSolverCode.exp_Kcycle_schwarz;\n",
        "    C_OneStep.LinearSolver.NoOfMultigridLevels = 5;\n",
        "    C_OneStep.ChemicalReactionActive = chemReactionActive;\n",
        "    C_OneStep.AdaptiveMeshRefinement = true;\n",
        "\n",
        "    bool AMRinEachNewtonStep = false;\n",
        "\n",
        "    if( AMRinEachNewtonStep) {\n",
        "        C_OneStep.NoOfTimesteps = 30;\n",
        "        C_OneStep.NonLinearSolver.MaxSolverIterations = 3; // Do only one newton iteration before refining\n",
        "        C_OneStep.NonLinearSolver.MinSolverIterations = 3; // Do only one newton iteration before refining\n",
        "    } else{\n",
        "        C_OneStep.NoOfTimesteps = 10; // The steady solution will be calculated again and do AMR\n",
        "        C_OneStep.NonLinearSolver.MaxSolverIterations = 10;\n",
        "    }\n",
        "   \n",
        "    C_OneStep.AMR_startUpSweeps = 3;\n",
        "    if(C_OneStep.ChemicalReactionActive){\n",
        "        C_OneStep.activeAMRlevelIndicators.Add(new AMR_onReactiveZones(C_OneStep.MolarMasses, 2, 0.2));\n",
        "        // C_OneStep.activeAMRlevelIndicators.Add(new AMR_BasedOnFieldGradient(2, 0.3, VariableNames.Temperature));\n",
        "        C_OneStep.activeAMRlevelIndicators.Add(new AMR_BasedOnFieldGradient(2, 0.3, VariableNames.MassFraction0));\n",
        "        C_OneStep.activeAMRlevelIndicators.Add(new AMR_BasedOnFieldGradient(2, 0.3, VariableNames.MassFraction0));\n",
        "        C_OneStep.activeAMRlevelIndicators.Add(new AMR_BasedOnFieldGradient(2, 0.3, VariableNames.MassFraction2));\n",
        "        C_OneStep.activeAMRlevelIndicators.Add(new AMR_BasedOnPerssonSensor(VariableNames.Temperature, 2));\n",
        "        // C_OneStep.activeAMRlevelIndicators.Add(new AMR_BasedOnResiduals(1,0.5));\n",
        "    }\n",
        "    // C_OneStep.activeAMRlevelIndicators.Add(new AMR_BasedOnPerssonSensor(VariableNames.Temperature, 3));\n",
        "    // C_OneStep.NonLinearSolver.MaxSolverIterations = 10;\n",
        "\n",
        " // limiting of variable values\n",
        " Dictionary<string, Tuple<double, double>> Bounds = new Dictionary<string, Tuple<double, double>>();\n",
        " double eps = 1e-2;\n",
        " Bounds.Add(VariableNames.Temperature, new Tuple<double, double>(1.0 - eps, 10)); // Min temp should be the inlet temperature.\n",
        " Bounds.Add(VariableNames.MassFraction0, new Tuple<double, double>(0.0 - eps, 1.0 + eps)); // Between 0 and 1 per definition\n",
        " Bounds.Add(VariableNames.MassFraction1, new Tuple<double, double>(0.0 - eps, 1.0 + eps));\n",
        " Bounds.Add(VariableNames.MassFraction2, new Tuple<double, double>(0.0 - eps, 1.0 + eps));\n",
        " Bounds.Add(VariableNames.MassFraction3, new Tuple<double, double>(0.0 - eps, 1.0 + eps));\n",
        " C_OneStep.VariableBounds = Bounds;\n",
        "    // Boundary conditions\n",
        "\n",
        "    double dummy = 0;\n",
        "    if(SessionToRestart != null) {\n",
        "        C_OneStep.SetRestart(SessionToRestart);\n",
        "    } else {\n",
        "        C_OneStep.AddInitialValue(VariableNames.Temperature, BoundaryValueFactory.Get_ConstantValue(1.0, dummy, dummy, dummy));\n",
        "        C_OneStep.AddInitialValue(VariableNames.MassFraction0, BoundaryValueFactory.Get_ConstantValue(0.0, dummy, dummy, dummy));\n",
        "        C_OneStep.AddInitialValue(VariableNames.MassFraction1, BoundaryValueFactory.Get_ConstantValue(0.23, dummy, dummy, dummy));\n",
        "        C_OneStep.AddInitialValue(VariableNames.MassFraction2, BoundaryValueFactory.Get_ConstantValue(0.0, dummy, dummy, dummy));\n",
        "        C_OneStep.AddInitialValue(VariableNames.MassFraction3, BoundaryValueFactory.Get_ConstantValue(0.0, dummy, dummy, dummy));\n",
        "    }\n",
        " \n",
        "    C_OneStep.AddBoundaryValue(\"Velocity_Inlet_CH4\", VariableNames.Temperature, BoundaryValueFactory.Get_ConstantValue(1.0, dummy, dummy, dummy));\n",
        "    C_OneStep.AddBoundaryValue(\"Velocity_Inlet_CH4\", VariableNames.MassFraction0, BoundaryValueFactory.Get_ConstantValue(C_OneStep.FuelInletConcentrations[0], dummy, dummy, dummy));\n",
        "    C_OneStep.AddBoundaryValue(\"Velocity_Inlet_CH4\", VariableNames.MassFraction1, BoundaryValueFactory.Get_ConstantValue(C_OneStep.FuelInletConcentrations[1], dummy, dummy, dummy));\n",
        "    C_OneStep.AddBoundaryValue(\"Velocity_Inlet_CH4\", VariableNames.MassFraction2, BoundaryValueFactory.Get_ConstantValue(C_OneStep.FuelInletConcentrations[2], dummy, dummy, dummy));\n",
        "    C_OneStep.AddBoundaryValue(\"Velocity_Inlet_CH4\", VariableNames.MassFraction3, BoundaryValueFactory.Get_ConstantValue(C_OneStep.FuelInletConcentrations[3], dummy, dummy, dummy));\n",
        "\n",
        "    C_OneStep.AddBoundaryValue(\"Velocity_Inlet_O2\", VariableNames.Temperature, BoundaryValueFactory.Get_ConstantValue(1.0, dummy, dummy, dummy));\n",
        "    C_OneStep.AddBoundaryValue(\"Velocity_Inlet_O2\", VariableNames.MassFraction0, BoundaryValueFactory.Get_ConstantValue(C_OneStep.OxidizerInletConcentrations[0], dummy, dummy, dummy));\n",
        "    C_OneStep.AddBoundaryValue(\"Velocity_Inlet_O2\", VariableNames.MassFraction1, BoundaryValueFactory.Get_ConstantValue(C_OneStep.OxidizerInletConcentrations[1], dummy, dummy, dummy));\n",
        "    C_OneStep.AddBoundaryValue(\"Velocity_Inlet_O2\", VariableNames.MassFraction2, BoundaryValueFactory.Get_ConstantValue(C_OneStep.OxidizerInletConcentrations[2], dummy, dummy, dummy));\n",
        "    C_OneStep.AddBoundaryValue(\"Velocity_Inlet_O2\", VariableNames.MassFraction3, BoundaryValueFactory.Get_ConstantValue(C_OneStep.OxidizerInletConcentrations[3], dummy, dummy, dummy));\n",
        "\n",
        "    C_OneStep.AddBoundaryValue(\"Velocity_Inlet_outer\", VariableNames.Temperature, BoundaryValueFactory.Get_ConstantValue(1.0, dummy, dummy, dummy));\n",
        "    C_OneStep.AddBoundaryValue(\"Velocity_Inlet_outer\", VariableNames.MassFraction0, BoundaryValueFactory.Get_ConstantValue(C_OneStep.OxidizerInletConcentrations[0], dummy, dummy, dummy));\n",
        "    C_OneStep.AddBoundaryValue(\"Velocity_Inlet_outer\", VariableNames.MassFraction1, BoundaryValueFactory.Get_ConstantValue(C_OneStep.OxidizerInletConcentrations[1], dummy, dummy, dummy));\n",
        "    C_OneStep.AddBoundaryValue(\"Velocity_Inlet_outer\", VariableNames.MassFraction2, BoundaryValueFactory.Get_ConstantValue(C_OneStep.OxidizerInletConcentrations[2], dummy, dummy, dummy));\n",
        "    C_OneStep.AddBoundaryValue(\"Velocity_Inlet_outer\", VariableNames.MassFraction3, BoundaryValueFactory.Get_ConstantValue(C_OneStep.OxidizerInletConcentrations[3], dummy, dummy, dummy));\n",
        "    return C_OneStep;\n",
        "}"
      ]
    },
    {
      "cell_type": "code",
      "execution_count": null,
      "metadata": {
        "dotnet_interactive": {
          "language": "csharp"
        }
      },
      "outputs": [],
      "source": [
        "Type solver = typeof(BoSSS.Application.XNSEC.XNSEC);"
      ]
    },
    {
      "cell_type": "markdown",
      "metadata": {},
      "source": [
        "Calculate the full solution for the initial value"
      ]
    },
    {
      "cell_type": "code",
      "execution_count": null,
      "metadata": {
        "dotnet_interactive": {
          "language": "csharp"
        }
      },
      "outputs": [],
      "source": [
        "int counter = 0;\n",
        "foreach(int i in multiplierS){\n",
        "    var sess =(myDb.Sessions.Where(s=>Convert.ToInt64(s.Tags.ToArray()[0]) == i)).FirstOrDefault(); \n",
        "    var C = GiveMeTheFullCtrlFile(dg_Full,nCells,InitialMassFuelIn*i,InitialMassAirIn*i, sess , parabolicVelocityProfile, chemicalReactionActive,useFullGeometry, wallBounded,i, counter );\n",
        "    string jobName       = C.SessionName+\"_ConstantCP_NonUnityLewis_onlyMethane\" ;\n",
        "    Console.WriteLine(jobName);\n",
        "    var oneJob           = new Job(jobName, solver);\n",
        "    oneJob.NumberOfMPIProcs = 16;    \n",
		"    oneJob.NumberOfThreads = 1;\r\n",
        "    oneJob.SetControlObject(C);\n",
        "    oneJob.Activate(myBatch); \n",
        "    counter++;\n",
        "}\n"
      ]
    },
    {
      "cell_type": "code",
      "execution_count": null,
      "metadata": {
        "dotnet_interactive": {
          "language": "csharp"
        }
      },
      "outputs": [],
      "source": [
        "BoSSSshell.WorkflowMgm.BlockUntilAllJobsTerminate();"
      ]
    },
    {
      "cell_type": "code",
      "execution_count": null,
      "metadata": {
        "dotnet_interactive": {
          "language": "csharp"
        }
      },
      "outputs": [],
      "source": [
        "myDb"
      ]
    },
    {
      "cell_type": "code",
      "execution_count": null,
      "metadata": {
        "dotnet_interactive": {
          "language": "csharp"
        }
      },
      "outputs": [],
      "source": [
        "myDb.Sessions[0].Export().Do()"
      ]
    },
    {
      "cell_type": "markdown",
      "metadata": {},
      "source": [
        "## Postprocessing"
      ]
    },
    {
      "cell_type": "code",
      "execution_count": null,
      "metadata": {
        "dotnet_interactive": {
          "language": "csharp"
        }
      },
      "outputs": [],
      "source": [
        "foreach(var sess in myDb.Sessions){\n",
        "    foreach(var sess in myDb.Sessions){\n",
        "        string path = @\"C:\\Results\\\"+sess.Name;\n",
        "        Directory.CreateDirectory(path);\n",
        "        sess.Export().AlternativeDirectoryName = path;\n",
        "        sess.Export().Do();\n",
        "    }\n",
        "    string path = @\"C:\\Results\\\"+sess.Name;\n",
        "    Directory.CreateDirectory(path);\n"
      ]
    },
    {
      "cell_type": "code",
      "execution_count": null,
      "metadata": {
        "dotnet_interactive": {
          "language": "csharp"
        }
      },
      "outputs": [],
      "source": [
        "double eps = 1e-8*0; \n",
        "double xleft  = 0+eps; \n",
        "double xright = 1.0-eps;\n",
        "int nCells = 100;\n",
        "double[]  _xNodes = GenericBlas.Linspace(xleft, xright, nCells + 1);\n",
        "string[] varnames = new string[]{\"VelocityX\",\"VelocityY\",\"Temperature\", \"Pressure\", \"MassFraction0\",\"MassFraction1\",\"MassFraction2\",\"MassFraction3\"}; \n"
      ]
    },
    {
      "cell_type": "code",
      "execution_count": null,
      "metadata": {
        "dotnet_interactive": {
          "language": "csharp"
        }
      },
      "outputs": [],
      "source": [
        "foreach(var sess in myDb.Sessions){\n",
        "    if(sess.Name.StartsWith(\"Full\")){\n",
        "    var multiplier = Convert.ToDouble(sess.Tags.ToArray()[0]);\n",
        "    var timestep_FullChem = sess.Timesteps.Last();\n",
        "    Dictionary<string, double[]> Results_FullComb = new Dictionary<string, double[]>();\n",
        "    Dictionary<string, double> ReferenceValuesDict = new Dictionary<string, double>();// Re-dimenzionalise variables\n",
        "    ReferenceValuesDict.Add(\"VelocityX\", Convert.ToDouble(sess.KeysAndQueries[\"uRef\"]));\n",
        "    ReferenceValuesDict.Add(\"VelocityY\", Convert.ToDouble(sess.KeysAndQueries[\"uRef\"]));\n",
        "    ReferenceValuesDict.Add(\"Temperature\", Convert.ToDouble(sess.KeysAndQueries[\"TRef\"]));\n",
        "    ReferenceValuesDict.Add(\"Pressure\", Convert.ToDouble(sess.KeysAndQueries[\"pRef\"]));\n",
        "    ReferenceValuesDict.Add(\"MassFraction0\", 1.0);\n",
        "    ReferenceValuesDict.Add(\"MassFraction1\", 1.0);\n",
        "    ReferenceValuesDict.Add(\"MassFraction2\", 1.0);\n",
        "    ReferenceValuesDict.Add(\"MassFraction3\", 1.0);\n",
        "    ReferenceValuesDict.Add(\"MassFraction4\", 1.0);\n",
        "    ReferenceValuesDict.Add(\"Length\", Convert.ToDouble(sess.KeysAndQueries[\"LRef\"]));\n",
        "\n",
        "\n",
        "     //Save results from the Full problem simulation\n",
        "     foreach(var varname in varnames){\n",
        "        double[] Yvalues = new double[nCells+1];\n",
        "        var field = timestep_FullChem.Fields.Where( Fi => (Fi.Identification == varname)).Last();\n",
        "        for(int n = 0 ; n < _xNodes.Length; n++){\n",
        "     \n",
        "            double pickedVal = field.ProbeAt(new double[]{ _xNodes[n], 0.00000001});    // Pick value along the central axis        \n",
        "            Yvalues[n] = pickedVal* ReferenceValuesDict[varname];             // Re.dimenzionalise varliables and store it in array\n",
        "        }\n",
        "        Results_FullComb.Add(varname,Yvalues);\n",
        "    }\n",
        "\n",
        "\n",
        "    // Redimensionalise the x coordinate\n",
        "    double[] _xNodesDim = new double[_xNodes.Length];\n",
        "    for(int n = 0 ; n < _xNodes.Length; n++){\n",
        "        _xNodesDim[n] = _xNodes[n]*ReferenceValuesDict[\"Length\"];\n",
        "    }   \n",
        "\n",
        "    string path = System.IO.Path.ChangeExtension(@\"C:\\BoSSS\\experimental\\internal\\src\\private-gutz\\L4-application\\XNSEC2\\Worksheets\\Jupyter\\CounterFlowFlameMatlabCode\\BoSSS_data2\\\"+multiplier + @\"\\\", null);\n",
        "\n",
        "    Directory.CreateDirectory(path);\n",
        "\n",
        "    string newPathName = path +\"Full\" + \"XCoord\" + \".txt\";\n",
        "        using (StreamWriter s = new StreamWriter(newPathName)) {\n",
        "            for (int i = 0; i < _xNodes.Length; i++) {\n",
        "            s.Write(_xNodesDim[i].ToString(\"E16\", System.Globalization.NumberFormatInfo.InvariantInfo) + \" \");\n",
        "        }\n",
        "    }\n",
        "\n",
        "    foreach (var varname in varnames) {\n",
        "    string newPathName2 = path +\"Full\" + varname + \".txt\";\n",
        "    using (StreamWriter s = new StreamWriter(newPathName2)) {\n",
        "    double[] _yNodes = Results_FullComb[varname];\n",
        "    for (int i = 0; i < _xNodes.Length; i++) { \n",
        "        s.Write(_yNodes[i].ToString(\"E16\", System.Globalization.NumberFormatInfo.InvariantInfo) + \" \"); \n",
        "    }\n",
        "    }\n",
        "    }\n",
        "\n",
        "}\n",
        "}"
      ]
    },
    {
      "cell_type": "code",
      "execution_count": null,
      "metadata": {
        "dotnet_interactive": {
          "language": "csharp"
        }
      },
      "outputs": [],
      "source": []
    },
    {
      "cell_type": "code",
      "execution_count": null,
      "metadata": {
        "dotnet_interactive": {
          "language": "csharp"
        }
      },
      "outputs": [],
      "source": [
        "var multiplier = Convert.ToDouble(myDb.Sessions[0].Tags.ToArray()[0])  \n"
      ]
    },
    {
      "cell_type": "code",
      "execution_count": null,
      "metadata": {
        "dotnet_interactive": {
          "language": "csharp"
        }
      },
      "outputs": [],
      "source": [
        "Directory.CreateDirectory(@\"C:\\Results\\\"+sess.Name);"
      ]
    },
    {
      "cell_type": "code",
      "execution_count": null,
      "metadata": {
        "dotnet_interactive": {
          "language": "csharp"
        }
      },
      "outputs": [],
      "source": [
        " var sess = myDb.Sessions[13];\n",
        " var timestep_FullChem = sess.Timesteps.Last();\n",
        "\n",
        "double eps = 1e-4; \n",
        "double xleft  = 0+eps; \n",
        "double xright = 1.0-eps;\n",
        "int nCells = 181*1;\n",
        "double[]  _xNodes = GenericBlas.Linspace(xleft, xright, nCells + 1);\n",
        "string[] varnames = new string[]{\"VelocityX\",\"VelocityY\",\"Temperature\", \"Pressure\", \"MassFraction0\",\"MassFraction1\",\"MassFraction2\",\"MassFraction3\"}; \n"
      ]
    },
    {
      "cell_type": "code",
      "execution_count": null,
      "metadata": {
        "dotnet_interactive": {
          "language": "csharp"
        }
      },
      "outputs": [],
      "source": [
        "Dictionary<string, double[]> Results_FullComb = new Dictionary<string, double[]>();\n",
        "Dictionary<string, double> ReferenceValuesDict = new Dictionary<string, double>();// Re-dimenzionalise variables\n",
        "ReferenceValuesDict.Add(\"VelocityX\", Convert.ToDouble(sess.KeysAndQueries[\"uRef\"]));\n",
        "ReferenceValuesDict.Add(\"VelocityY\", Convert.ToDouble(sess.KeysAndQueries[\"uRef\"]));\n",
        "ReferenceValuesDict.Add(\"Temperature\", Convert.ToDouble(sess.KeysAndQueries[\"TRef\"]));\n",
        "ReferenceValuesDict.Add(\"Pressure\", Convert.ToDouble(sess.KeysAndQueries[\"pRef\"]));\n",
        "ReferenceValuesDict.Add(\"MassFraction0\", 1.0);\n",
        "ReferenceValuesDict.Add(\"MassFraction1\", 1.0);\n",
        "ReferenceValuesDict.Add(\"MassFraction2\", 1.0);\n",
        "ReferenceValuesDict.Add(\"MassFraction3\", 1.0);\n",
        "ReferenceValuesDict.Add(\"MassFraction4\", 1.0);\n",
        "ReferenceValuesDict.Add(\"Length\", Convert.ToDouble(sess.KeysAndQueries[\"LRef\"]));"
      ]
    },
    {
      "cell_type": "code",
      "execution_count": null,
      "metadata": {
        "dotnet_interactive": {
          "language": "csharp"
        }
      },
      "outputs": [],
      "source": [
        "//Save results from the Full problem simulation\n",
        "foreach(var varname in varnames){\n",
        "    double[] Yvalues = new double[nCells+1];\n",
        "    var field = timestep_FullChem.Fields.Where( Fi => (Fi.Identification == varname)).Last();\n",
        "    for(int n = 0 ; n < _xNodes.Length; n++){\n",
        "        double pickedVal = field.ProbeAt(new double[]{ _xNodes[n], 0.00000001});    // Pick value along the central axis        \n",
        "        Yvalues[n] = pickedVal* ReferenceValuesDict[varname];             // Re.dimenzionalise varliables and store it in array\n",
        "    }\n",
        "    Results_FullComb.Add(varname,Yvalues);\n",
        "}"
      ]
    },
    {
      "cell_type": "code",
      "execution_count": null,
      "metadata": {
        "dotnet_interactive": {
          "language": "csharp"
        }
      },
      "outputs": [],
      "source": [
        "// Redimensionalise the x coordinate\n",
        "double[] _xNodesDim = new double[_xNodes.Length];\n",
        " for(int n = 0 ; n < _xNodes.Length; n++){\n",
        "     _xNodesDim[n] = _xNodes[n]*ReferenceValuesDict[\"Length\"];\n",
        "}\n"
      ]
    },
    {
      "cell_type": "code",
      "execution_count": null,
      "metadata": {
        "dotnet_interactive": {
          "language": "csharp"
        }
      },
      "outputs": [],
      "source": [
        " string path = System.IO.Path.ChangeExtension(@\"C:\\BoSSS\\experimental\\internal\\src\\private-gutz\\L4-application\\XNSEC2\\Worksheets\\Jupyter\\CounterFlowFlameMatlabCode\\BoSSS_data\\\", null);\n",
        "string newPathName = path +\"Full\" + \"XCoord\" + \".txt\";\n",
        "using (StreamWriter s = new StreamWriter(newPathName)) {\n",
        "    for (int i = 0; i < _xNodes.Length; i++) {\n",
        "        s.Write(_xNodesDim[i].ToString(\"E16\", System.Globalization.NumberFormatInfo.InvariantInfo) + \" \");\n",
        "    }\n",
        "}\n",
        "\n",
        "foreach (var varname in varnames) {\n",
        "    string newPathName = path +\"Full\" + varname + \".txt\";\n",
        "    using (StreamWriter s = new StreamWriter(newPathName)) {\n",
        "        double[] _yNodes = Results_FullComb[varname];\n",
        "        for (int i = 0; i < _xNodes.Length; i++) { \n",
        "            s.Write(_yNodes[i].ToString(\"E16\", System.Globalization.NumberFormatInfo.InvariantInfo) + \" \"); \n",
        "        }\n",
        "    }\n",
        "}"
      ]
    },
    {
      "cell_type": "code",
      "execution_count": null,
      "metadata": {
        "dotnet_interactive": {
          "language": "csharp"
        }
      },
      "outputs": [],
      "source": [
        "myDb"
      ]
    },
    {
      "cell_type": "code",
      "execution_count": null,
      "metadata": {
        "dotnet_interactive": {
          "language": "csharp"
        }
      },
      "outputs": [],
      "source": [
        "OpenOrCreateDatabase(@\"C:\\Databases\\BoSSS_DB\")"
      ]
    },
    {
      "cell_type": "code",
      "execution_count": null,
      "metadata": {
        "dotnet_interactive": {
          "language": "csharp"
        }
      },
      "outputs": [],
      "source": []
    }
  ],
  "metadata": {
    "kernelspec": {
      "display_name": ".NET (C#)",
      "language": "C#",
      "name": ".net-csharp"
    },
    "language_info": {
      "file_extension": ".cs",
      "mimetype": "text/x-csharp",
      "name": "C#",
      "pygments_lexer": "csharp",
      "version": "8.0"
    }
  },
  "nbformat": 4,
  "nbformat_minor": 4
}

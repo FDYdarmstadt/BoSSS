{
  "cells": [
    {
      "cell_type": "code",
      "execution_count": null,
      "source": [
        "// #r \".\\binaries2\\bossspad.dll\"\r\n",
        "// #r \".\\binaries2\\XNSEC.dll\"\r\n",
        "// #r \"C:\\BoSSS_Binaries\\bossspad.dll\"\r\n",
        "// #r \"C:\\BoSSS_Binaries\\XNSEC.dll\"\r\n",
        "#r \"C:\\BoSSS\\experimental\\public\\src\\L4-application\\BoSSSpad\\bin\\Release\\net5.0\\bossspad.dll\"\r\n",
        "#r \"C:\\BoSSS\\experimental\\public\\src\\L4-application\\BoSSSpad\\bin\\Release\\net5.0\\XNSEC.dll\"\r\n",
        "using System;\r\n",
        "using System.Collections.Generic;\r\n",
        "using System.Linq;\r\n",
        "using System.IO;\r\n",
        "using System.Data;\r\n",
        "using System.Globalization;\r\n",
        "using System.Threading;\r\n",
        "using ilPSP;\r\n",
        "using ilPSP.Utils;\r\n",
        "using BoSSS.Platform;\r\n",
        "using BoSSS.Foundation;\r\n",
        "using BoSSS.Foundation.Grid;\r\n",
        "using BoSSS.Foundation.Grid.Classic;\r\n",
        "using BoSSS.Foundation.IO;\r\n",
        "using BoSSS.Solution;\r\n",
        "using BoSSS.Solution.Control;\r\n",
        "using BoSSS.Solution.GridImport;\r\n",
        "using BoSSS.Solution.Statistic;\r\n",
        "using BoSSS.Solution.Utils;\r\n",
        "using BoSSS.Solution.Gnuplot;\r\n",
        "using BoSSS.Application.BoSSSpad;\r\n",
        "using BoSSS.Application.XNSE_Solver;\r\n",
        "using static BoSSS.Application.BoSSSpad.BoSSSshell;\r\n",
        "using BoSSS.Foundation.Grid.RefElements;\r\n",
        "using BoSSS.Platform.LinAlg;\r\n",
        "using BoSSS.Solution.NSECommon;\r\n",
        "using BoSSS.Application.XNSEC;\r\n",
        "Init();"
      ],
      "outputs": [],
      "metadata": {
        "dotnet_interactive": {
          "language": "csharp"
        }
      }
    },
    {
      "cell_type": "markdown",
      "source": [
        "## Open Database"
      ],
      "metadata": {
        "dotnet_interactive": {
          "language": "csharp"
        }
      }
    },
    {
      "cell_type": "code",
      "execution_count": null,
      "source": [
        "//static var myDb = OpenOrCreateDatabase(@\"C:\\Databases\\Things3\");\r\n",
        "// static var myDb = OpenOrCreateDatabase(@\"\\\\hpccluster\\hpccluster-scratch\\gutierrez\\default_bosss_db_comb_vel05_variablecp\"); \r\n",
        "static var myDb = OpenOrCreateDatabase(@\"\\\\hpccluster\\hpccluster-scratch\\gutierrez\\CFF_velmult02_dg2_k10_cpVariableSelfMadecorrelation\"); //\r\n",
        "//static var myDb = OpenOrCreateDatabase(@\"C:\\Users\\gutierrez\\default_bosss_db_comb\");\r\n",
        "myDb.Sessions"
      ],
      "outputs": [
        {
          "output_type": "display_data",
          "data": {
            "text/plain": [
              "Opening existing database '\\\\hpccluster\\hpccluster-scratch\\gutierrez\\CFF_velmult02_dg2_k12_cpVariableSelfMadecorrelation'.\r\n"
            ]
          },
          "metadata": {}
        },
        {
          "output_type": "display_data",
          "data": {
            "text/plain": [
              "Loading session c0b40ccd-a4cd-48f1-b6f7-c723ad701adf failed with message 'Could not find file '\\\\hpccluster\\hpccluster-scratch\\gutierrez\\CFF_velmult02_dg2_k12_cpVariableSelfMadecorrelation\\sessions\\c0b40ccd-a4cd-48f1-b6f7-c723ad701adf\\Session.info'.'\r\n"
            ]
          },
          "metadata": {}
        },
        {
          "output_type": "display_data",
          "data": {
            "text/plain": [
              "Loading session c0b40ccd-a4cd-48f1-b6f7-c723ad701adf failed with message 'Could not find file '\\\\hpccluster\\hpccluster-scratch\\gutierrez\\CFF_velmult02_dg2_k12_cpVariableSelfMadecorrelation\\sessions\\c0b40ccd-a4cd-48f1-b6f7-c723ad701adf\\Session.info'.'\r\n"
            ]
          },
          "metadata": {}
        },
        {
          "output_type": "display_data",
          "data": {
            "text/plain": [
              "#0: { Error loading session }\r\n"
            ]
          },
          "metadata": {}
        }
      ],
      "metadata": {
        "dotnet_interactive": {
          "language": "csharp"
        }
      }
    },
    {
      "cell_type": "code",
      "execution_count": null,
      "source": [
        "BoSSSshell.WorkflowMgm.Init(\"CounterFlowFlame2\");\r\n",
        "BoSSSshell.WorkflowMgm.Sessions\r\n"
      ],
      "outputs": [
        {
          "output_type": "display_data",
          "data": {
            "text/plain": []
          },
          "metadata": {}
        }
      ],
      "metadata": {
        "dotnet_interactive": {
          "language": "csharp"
        }
      }
    },
    {
      "cell_type": "code",
      "execution_count": null,
      "source": [
        "myDb.Sessions[0].Export().Do()"
      ],
      "outputs": [
        {
          "output_type": "display_data",
          "data": {
            "text/plain": [
              "Starting export process... "
            ]
          },
          "metadata": {}
        },
        {
          "output_type": "display_data",
          "data": {
            "text/plain": [
              "Loading session c0b40ccd-a4cd-48f1-b6f7-c723ad701adf failed with message 'Could not find file '\\\\hpccluster\\hpccluster-scratch\\gutierrez\\CFF_velmult02_dg2_k12_cpVariableSelfMadecorrelation\\sessions\\c0b40ccd-a4cd-48f1-b6f7-c723ad701adf\\Session.info'.'\r\n"
            ]
          },
          "metadata": {}
        },
        {
          "output_type": "display_data",
          "data": {
            "text/plain": [
              "Loading session c0b40ccd-a4cd-48f1-b6f7-c723ad701adf failed with message 'Could not find file '\\\\hpccluster\\hpccluster-scratch\\gutierrez\\CFF_velmult02_dg2_k12_cpVariableSelfMadecorrelation\\sessions\\c0b40ccd-a4cd-48f1-b6f7-c723ad701adf\\Session.info'.'\r\n"
            ]
          },
          "metadata": {}
        },
        {
          "output_type": "display_data",
          "data": {
            "text/plain": [
              "Loading session c0b40ccd-a4cd-48f1-b6f7-c723ad701adf failed with message 'Could not find file '\\\\hpccluster\\hpccluster-scratch\\gutierrez\\CFF_velmult02_dg2_k12_cpVariableSelfMadecorrelation\\sessions\\c0b40ccd-a4cd-48f1-b6f7-c723ad701adf\\Session.info'.'\r\n"
            ]
          },
          "metadata": {}
        },
        {
          "output_type": "display_data",
          "data": {
            "text/plain": [
              "Loading session c0b40ccd-a4cd-48f1-b6f7-c723ad701adf failed with message 'Could not find file '\\\\hpccluster\\hpccluster-scratch\\gutierrez\\CFF_velmult02_dg2_k12_cpVariableSelfMadecorrelation\\sessions\\c0b40ccd-a4cd-48f1-b6f7-c723ad701adf\\Session.info'.'\r\n"
            ]
          },
          "metadata": {}
        },
        {
          "output_type": "display_data",
          "data": {
            "text/plain": [
              "Data will be written to the following directory:\r\n"
            ]
          },
          "metadata": {}
        },
        {
          "output_type": "display_data",
          "data": {
            "text/plain": [
              "Loading session c0b40ccd-a4cd-48f1-b6f7-c723ad701adf failed with message 'Could not find file '\\\\hpccluster\\hpccluster-scratch\\gutierrez\\CFF_velmult02_dg2_k12_cpVariableSelfMadecorrelation\\sessions\\c0b40ccd-a4cd-48f1-b6f7-c723ad701adf\\Session.info'.'\r\n"
            ]
          },
          "metadata": {}
        },
        {
          "output_type": "display_data",
          "data": {
            "text/plain": [
              "Loading session c0b40ccd-a4cd-48f1-b6f7-c723ad701adf failed with message 'Could not find file '\\\\hpccluster\\hpccluster-scratch\\gutierrez\\CFF_velmult02_dg2_k12_cpVariableSelfMadecorrelation\\sessions\\c0b40ccd-a4cd-48f1-b6f7-c723ad701adf\\Session.info'.'\r\n"
            ]
          },
          "metadata": {}
        },
        {
          "output_type": "display_data",
          "data": {
            "text/plain": [
              "C:\\Users\\gutierrez\\AppData\\Local\\BoSSS\\plots\\sessions\\NO-PROJ__NO-NAME__c0b40ccd-a4cd-48f1-b6f7-c723ad701adf"
            ]
          },
          "metadata": {}
        }
      ],
      "metadata": {
        "dotnet_interactive": {
          "language": "csharp"
        }
      }
    },
    {
      "cell_type": "code",
      "execution_count": null,
      "source": [
        "var myBatch = BoSSSshell.ExecutionQueues[3];\r\n",
        "//MiniBatchProcessor.Server.StartIfNotRunning(true);\r\n",
        "myBatch.AllowedDatabasesPaths.Add(new AllowedDatabasesPair(myDb.Path,\"\"));"
      ],
      "outputs": [],
      "metadata": {
        "dotnet_interactive": {
          "language": "csharp"
        }
      }
    },
    {
      "cell_type": "code",
      "execution_count": null,
      "source": [
        "int nCells = 12;\r\n",
        "int dg = 5;\r\n",
        "double velmultiplier = 0.2;"
      ],
      "outputs": [],
      "metadata": {
        "dotnet_interactive": {
          "language": "csharp"
        }
      }
    },
    {
      "cell_type": "markdown",
      "source": [
        "## Using hard coded control files for sending them to the hpccluster. this should be deleted later"
      ],
      "metadata": {}
    },
    {
      "cell_type": "markdown",
      "source": [
        "first calculate MF"
      ],
      "metadata": {}
    },
    {
      "cell_type": "code",
      "execution_count": null,
      "source": [
        "// Type solver_MF = typeof(BoSSS.Application.XNSEC.XNSEC_MixtureFraction);\r\n",
        "Type solver = typeof(BoSSS.Application.XNSEC.XNSEC);\r\n",
        "string ending        = \"CFF_velmult02_dg2_k12_cpVariableSelfMadecorrelation\";// \"P\" + dg + \"K\" + nCells+\"VelMult\"+velmultiplier+\"RefinementCenterline_cpconst\";\r\n",
        "string jobName       = string.Format(\"FS_\" + \"CounterDiffFlame\" + ending);\r\n",
        "string StartupString = string.Format(\"cs:BoSSS.Application.XNSEC.FullNSEControlExamples.FS_CounterDiffusionFlame({0}, {1},{2},@\\\"{3}\\\")\", dg, nCells,velmultiplier, myDb.Path);\r\n",
        "var oneJob           = new Job(jobName, solver); \r\n",
        "oneJob.SetControlStatement(StartupString);\r\n",
        "oneJob.NumberOfMPIProcs = 16; \r\n",
		"oneJob.NumberOfThreads = 1;\r\n",
        "oneJob.Activate(myBatch);\r\n",
        "//BoSSSshell.WorkflowMgm.BlockUntilAllJobsTerminate();"
      ],
      "outputs": [],
      "metadata": {
        "dotnet_interactive": {
          "language": "csharp"
        }
      }
    },
    {
      "cell_type": "code",
      "execution_count": null,
      "source": [
        "Type solver = typeof(BoSSS.Application.XNSEC.XNSEC);\r\n",
        "string ending        = \"P\" + dg + \"K\" + nCells;\r\n",
        "string jobName       = string.Format(\"Full_\" + \"baseJobName\" + ending + \"cpVar\");\r\n",
        "string StartupString = string.Format(\"cs:BoSSS.Application.XNSEC.FullNSEControlExamples.Full_CounterDiffusionFlame({0}, {1},{2},@\\\"{3}\\\")\", dg, nCells, 0.6, myDb.Path);\r\n",
        "var oneJob           = new Job(jobName, solver); \r\n",
        "oneJob.SetControlStatement(StartupString);\r\n",
        "oneJob.NumberOfMPIProcs = 8;\r\n",
		"oneJob.NumberOfThreads = 1;\r\n",
        "oneJob.Activate(myBatch);"
      ],
      "outputs": [
        {
          "output_type": "display_data",
          "data": {
            "text/plain": [
              "Deploying job Full_baseJobNameP2K12 ... \r\n"
            ]
          },
          "metadata": {}
        },
        {
          "output_type": "display_data",
          "data": {
            "text/plain": [
              "Deploying executables and additional files ...\r\n"
            ]
          },
          "metadata": {}
        },
        {
          "output_type": "display_data",
          "data": {
            "text/plain": [
              "Deployment directory: \\\\hpccluster\\hpccluster-scratch\\gutierrez\\binaries\\CounterFlowFlame2-XNSEC2021Jul20_175500\r\n"
            ]
          },
          "metadata": {}
        },
        {
          "output_type": "display_data",
          "data": {
            "text/plain": [
              "copied 52 files.\r\n"
            ]
          },
          "metadata": {}
        },
        {
          "output_type": "display_data",
          "data": {
            "text/plain": [
              "   copied 'amd64' runtime.\r\n"
            ]
          },
          "metadata": {}
        },
        {
          "output_type": "display_data",
          "data": {
            "text/plain": [
              "deployment finished.\r\n"
            ]
          },
          "metadata": {}
        },
        {
          "output_type": "display_data",
          "data": {
            "text/plain": [
              "\r\n"
            ]
          },
          "metadata": {}
        }
      ],
      "metadata": {
        "dotnet_interactive": {
          "language": "csharp"
        }
      }
    },
    {
      "cell_type": "markdown",
      "source": [
        "## Postprocessing"
      ],
      "metadata": {}
    },
    {
      "cell_type": "code",
      "execution_count": null,
      "source": [
        "var sess = myDb.Sessions[0];\r\n",
        "var timestep_FullChem = sess.Timesteps.Last();"
      ],
      "outputs": [],
      "metadata": {
        "dotnet_interactive": {
          "language": "csharp"
        }
      }
    },
    {
      "cell_type": "code",
      "execution_count": null,
      "source": [
        "myDb"
      ],
      "outputs": [
        {
          "output_type": "display_data",
          "data": {
            "text/plain": [
              "{ Session Count = 2; Grid Count = 4; Path = \\\\hpccluster\\hpccluster-scratch\\gutierrez\\RefinementCenterline_cpconst_p3_morerefinement }"
            ]
          },
          "metadata": {}
        }
      ],
      "metadata": {
        "dotnet_interactive": {
          "language": "csharp"
        }
      }
    },
    {
      "cell_type": "code",
      "execution_count": null,
      "source": [
        "double eps = 1e-3; \r\n",
        "double xleft  = 0+eps; \r\n",
        "double xright = 1.0-eps;\r\n",
        "int nCells = 180;\r\n",
        "double[]  _xNodes = GenericBlas.Linspace(xleft, xright, nCells + 1);\r\n",
        "string[] varnames = new string[]{\"VelocityX\",\"VelocityY\",\"Temperature\", \"Pressure\", \"MassFraction0\",\"MassFraction1\",\"MassFraction2\",\"MassFraction3\"}; \r\n"
      ],
      "outputs": [],
      "metadata": {
        "dotnet_interactive": {
          "language": "csharp"
        }
      }
    },
    {
      "cell_type": "code",
      "execution_count": null,
      "source": [
        "Dictionary<string, double[]> Results_FullComb = new Dictionary<string, double[]>();\r\n",
        "Dictionary<string, double> ReferenceValuesDict = new Dictionary<string, double>();// Re-dimenzionalise variables\r\n",
        "\r\n",
        "ReferenceValuesDict.Add(\"VelocityX\", Convert.ToDouble(sess.KeysAndQueries[\"uRef\"]));\r\n",
        "ReferenceValuesDict.Add(\"VelocityY\", Convert.ToDouble(sess.KeysAndQueries[\"uRef\"]));\r\n",
        "ReferenceValuesDict.Add(\"Temperature\", Convert.ToDouble(sess.KeysAndQueries[\"TRef\"]));\r\n",
        "ReferenceValuesDict.Add(\"Pressure\", Convert.ToDouble(sess.KeysAndQueries[\"pRef\"]));\r\n",
        "ReferenceValuesDict.Add(\"MassFraction0\", 1.0);\r\n",
        "ReferenceValuesDict.Add(\"MassFraction1\", 1.0);\r\n",
        "ReferenceValuesDict.Add(\"MassFraction2\", 1.0);\r\n",
        "ReferenceValuesDict.Add(\"MassFraction3\", 1.0);\r\n",
        "ReferenceValuesDict.Add(\"MassFraction4\", 1.0);\r\n",
        "ReferenceValuesDict.Add(\"Length\", Convert.ToDouble(sess.KeysAndQueries[\"LRef\"]));"
      ],
      "outputs": [
        {
          "output_type": "error",
          "ename": "Error",
          "evalue": "(4,55): error CS0103: The name 'sess' does not exist in the current context\r\n(5,55): error CS0103: The name 'sess' does not exist in the current context\r\n(6,57): error CS0103: The name 'sess' does not exist in the current context\r\n(7,54): error CS0103: The name 'sess' does not exist in the current context\r\n(13,52): error CS0103: The name 'sess' does not exist in the current context",
          "traceback": [
            "(4,55): error CS0103: The name 'sess' does not exist in the current context\r\n",
            "(5,55): error CS0103: The name 'sess' does not exist in the current context\r\n",
            "(6,57): error CS0103: The name 'sess' does not exist in the current context\r\n",
            "(7,54): error CS0103: The name 'sess' does not exist in the current context\r\n",
            "(13,52): error CS0103: The name 'sess' does not exist in the current context"
          ]
        }
      ],
      "metadata": {
        "dotnet_interactive": {
          "language": "csharp"
        }
      }
    },
    {
      "cell_type": "code",
      "execution_count": null,
      "source": [
        "//Save results from the Full problem simulation\r\n",
        "foreach(var varname in varnames){\r\n",
        "    double[] Yvalues = new double[nCells+1];\r\n",
        "    var field = timestep_FullChem.Fields.Where( Fi => (Fi.Identification == varname)).Last();\r\n",
        "    for(int n = 0 ; n < _xNodes.Length; n++){\r\n",
        "        double pickedVal = field.ProbeAt(new double[]{ _xNodes[n], 0.000001});    // Pick value along the central axis        \r\n",
        "        Yvalues[n] = pickedVal* ReferenceValuesDict[varname];             // Re.dimenzionalise varliables and store it in array\r\n",
        "    }\r\n",
        "    Results_FullComb.Add(varname,Yvalues);\r\n",
        "}"
      ],
      "outputs": [
        {
          "output_type": "error",
          "ename": "Error",
          "evalue": "(4,17): error CS0103: The name 'timestep_FullChem' does not exist in the current context\r\n(7,33): error CS0103: The name 'ReferenceValuesDict' does not exist in the current context\r\n(9,5): error CS0103: The name 'Results_FullComb' does not exist in the current context",
          "traceback": [
            "(4,17): error CS0103: The name 'timestep_FullChem' does not exist in the current context\r\n",
            "(7,33): error CS0103: The name 'ReferenceValuesDict' does not exist in the current context\r\n",
            "(9,5): error CS0103: The name 'Results_FullComb' does not exist in the current context"
          ]
        }
      ],
      "metadata": {
        "dotnet_interactive": {
          "language": "csharp"
        }
      }
    },
    {
      "cell_type": "code",
      "execution_count": null,
      "source": [
        "// Redimensionalise the x coordinate\r\n",
        "double[] _xNodesDim = new double[_xNodes.Length];\r\n",
        " for(int n = 0 ; n < _xNodes.Length; n++){\r\n",
        "     _xNodesDim[n] = _xNodes[n]*ReferenceValuesDict[\"Length\"];\r\n",
        "}\r\n"
      ],
      "outputs": [
        {
          "output_type": "error",
          "ename": "Error",
          "evalue": "(4,33): error CS0103: The name 'ReferenceValuesDict' does not exist in the current context",
          "traceback": [
            "(4,33): error CS0103: The name 'ReferenceValuesDict' does not exist in the current context"
          ]
        }
      ],
      "metadata": {
        "dotnet_interactive": {
          "language": "csharp"
        }
      }
    },
    {
      "cell_type": "code",
      "execution_count": null,
      "source": [
        " string path = System.IO.Path.ChangeExtension(@\"C:\\BoSSS\\experimental\\internal\\src\\private-gutz\\L4-application\\XNSEC2\\Worksheets\\Jupyter\\CounterFlowFlameMatlabCode\\BoSSS_data\\\", null);\r\n",
        "string newPathName = path +\"Full\" + \"XCoord\" + \".txt\";\r\n",
        "using (StreamWriter s = new StreamWriter(newPathName)) {\r\n",
        "    for (int i = 0; i < _xNodes.Length; i++) {\r\n",
        "        s.Write(_xNodesDim[i].ToString(\"E16\", System.Globalization.NumberFormatInfo.InvariantInfo) + \" \");\r\n",
        "    }\r\n",
        "}\r\n",
        "\r\n",
        "foreach (var varname in varnames) {\r\n",
        "    string newPathName = path +\"Full\" + varname + \".txt\";\r\n",
        "    using (StreamWriter s = new StreamWriter(newPathName)) {\r\n",
        "        double[] _yNodes = Results_FullComb[varname];\r\n",
        "        for (int i = 0; i < _xNodes.Length; i++) { \r\n",
        "            s.Write(_yNodes[i].ToString(\"E16\", System.Globalization.NumberFormatInfo.InvariantInfo) + \" \"); \r\n",
        "        }\r\n",
        "    }\r\n",
        "}"
      ],
      "outputs": [
        {
          "output_type": "error",
          "ename": "Error",
          "evalue": "(5,17): error CS0103: The name '_xNodesDim' does not exist in the current context\r\n(12,28): error CS0103: The name 'Results_FullComb' does not exist in the current context",
          "traceback": [
            "(5,17): error CS0103: The name '_xNodesDim' does not exist in the current context\r\n",
            "(12,28): error CS0103: The name 'Results_FullComb' does not exist in the current context"
          ]
        }
      ],
      "metadata": {
        "dotnet_interactive": {
          "language": "csharp"
        }
      }
    },
    {
      "cell_type": "code",
      "execution_count": null,
      "source": [
        "static var myDb = OpenOrCreateDatabase(@\"C:\\Users\\gutierrez\\RefinementCenterline_cpconst_p3\");"
      ],
      "outputs": [],
      "metadata": {
        "dotnet_interactive": {
          "language": "csharp"
        }
      }
    },
    {
      "cell_type": "code",
      "execution_count": null,
      "source": [
        "myDb.Sessions"
      ],
      "outputs": [
        {
          "output_type": "display_data",
          "data": {
            "text/plain": []
          },
          "metadata": {}
        }
      ],
      "metadata": {
        "dotnet_interactive": {
          "language": "csharp"
        }
      }
    },
    {
      "cell_type": "code",
      "execution_count": null,
      "source": [
        "myDb.Sessions[0].Export().Do()"
      ],
      "outputs": [
        {
          "output_type": "error",
          "ename": "Error",
          "evalue": "System.ArgumentOutOfRangeException: Index was out of range. Must be non-negative and less than the size of the collection. (Parameter 'index')\r\n   at System.Collections.Generic.List`1.get_Item(Int32 index)\r\n   at Submission#20.<<Initialize>>d__0.MoveNext()\r\n--- End of stack trace from previous location ---\r\n   at Microsoft.CodeAnalysis.Scripting.ScriptExecutionState.RunSubmissionsAsync[TResult](ImmutableArray`1 precedingExecutors, Func`2 currentExecutor, StrongBox`1 exceptionHolderOpt, Func`2 catchExceptionOpt, CancellationToken cancellationToken)",
          "traceback": [
            "System.ArgumentOutOfRangeException: Index was out of range. Must be non-negative and less than the size of the collection. (Parameter 'index')\r\n",
            "   at System.Collections.Generic.List`1.get_Item(Int32 index)\r\n",
            "   at Submission#20.<<Initialize>>d__0.MoveNext()\r\n",
            "--- End of stack trace from previous location ---\r\n",
            "   at Microsoft.CodeAnalysis.Scripting.ScriptExecutionState.RunSubmissionsAsync[TResult](ImmutableArray`1 precedingExecutors, Func`2 currentExecutor, StrongBox`1 exceptionHolderOpt, Func`2 catchExceptionOpt, CancellationToken cancellationToken)"
          ]
        }
      ],
      "metadata": {
        "dotnet_interactive": {
          "language": "csharp"
        }
      }
    },
    {
      "cell_type": "code",
      "execution_count": null,
      "source": [],
      "outputs": [],
      "metadata": {
        "dotnet_interactive": {
          "language": "csharp"
        }
      }
    }
  ],
  "metadata": {
    "kernelspec": {
      "display_name": ".NET (C#)",
      "language": "C#",
      "name": ".net-csharp"
    },
    "language_info": {
      "file_extension": ".cs",
      "mimetype": "text/x-csharp",
      "name": "C#",
      "pygments_lexer": "csharp",
      "version": "8.0"
    }
  },
  "nbformat": 4,
  "nbformat_minor": 4
}
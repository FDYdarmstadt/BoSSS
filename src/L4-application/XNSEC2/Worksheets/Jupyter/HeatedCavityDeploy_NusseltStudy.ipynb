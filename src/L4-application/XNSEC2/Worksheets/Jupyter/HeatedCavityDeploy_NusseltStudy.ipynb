{
  "cells": [
    {
      "cell_type": "code",
      "execution_count": null,
      "metadata": {
        "dotnet_interactive": {
          "language": "csharp"
        }
      },
      "outputs": [],
      "source": [
        "// #r \".\\binaries\\bossspad.dll\"\n",
        "// #r \".\\binaries\\XNSEC.dll\"\n",
        "\n",
        "#r \"C:\\BoSSS\\experimental\\public\\src\\L4-application\\BoSSSpad\\bin\\Release\\net5.0\\bossspad.dll\"\n",
        "#r \"C:\\BoSSS\\experimental\\public\\src\\L4-application\\BoSSSpad\\bin\\Release\\net5.0\\XNSEC.dll\"\n",
        "using System;\n",
        "using System.Collections.Generic;\n",
        "using System.Linq;\n",
        "using System.IO;\n",
        "using System.Data;\n",
        "using System.Globalization;\n",
        "using System.Threading;\n",
        "using ilPSP;\n",
        "using ilPSP.Utils;\n",
        "using BoSSS.Platform;\n",
        "using BoSSS.Foundation;\n",
        "using BoSSS.Foundation.Grid;\n",
        "using BoSSS.Foundation.Grid.Classic;\n",
        "using BoSSS.Foundation.IO;\n",
        "using BoSSS.Solution;\n",
        "using BoSSS.Solution.Control;\n",
        "using BoSSS.Solution.GridImport;\n",
        "using BoSSS.Solution.Statistic;\n",
        "using BoSSS.Solution.Utils;\n",
        "using BoSSS.Solution.Gnuplot;\n",
        "using BoSSS.Application.BoSSSpad;\n",
        "using BoSSS.Application.XNSE_Solver;\n",
        "using static BoSSS.Application.BoSSSpad.BoSSSshell;\n",
        "using BoSSS.Foundation.Grid.RefElements;\n",
        "using BoSSS.Platform.LinAlg;\n",
        "using BoSSS.Solution.NSECommon;\n",
        "Init();"
      ]
    },
    {
      "cell_type": "markdown",
      "metadata": {},
      "source": []
    },
    {
      "cell_type": "markdown",
      "metadata": {
        "dotnet_interactive": {
          "language": "csharp"
        }
      },
      "source": [
        "## Open Database"
      ]
    },
    {
      "cell_type": "code",
      "execution_count": null,
      "metadata": {
        "dotnet_interactive": {
          "language": "csharp"
        }
      },
      "outputs": [
        {
          "data": {
            "text/plain": [
              "{ Session Count = 48; Grid Count = 62; Path = D:\\DatabasesPaper\\HeatedCavity_NusseltStudy }"
            ]
          },
          "metadata": {},
          "output_type": "display_data"
        }
      ],
      "source": [
        "// static var myDb = OpenOrCreateDatabase(@\"C:\\Databases\\BoSSS_DB\");\n",
        "// static var myDb = OpenOrCreateDatabase(@\"\\\\hpccluster\\hpccluster-scratch\\gutierrez\\HeatedCavityNusseltStudy_TRefRepaired\"); // Study of nusselt number against changes on dgdegree and cellnumber\n",
        "static var myDb = OpenOrCreateDatabase(@\"D:\\DatabasesPaper\\HeatedCavity_NusseltStudy\"); // \n",
        "\n",
        "myDb"
      ]
    },
    {
      "cell_type": "markdown",
      "metadata": {
        "dotnet_interactive": {
          "language": "csharp"
        }
      },
      "source": []
    },
    {
      "cell_type": "code",
      "execution_count": null,
      "metadata": {
        "dotnet_interactive": {
          "language": "csharp"
        }
      },
      "outputs": [
        {
          "data": {
            "text/plain": [
              "#0: HeatedSquareCavity_Nusselt\tNaturalConvection_k6_DG3_Ra1000000\t09/13/2021 18:48:19\t22f319da...\r\n",
              "#1: HeatedSquareCavity_Nusselt\tNaturalConvection_k6_DG4_Ra1000000\t09/13/2021 11:02:09\tf3643841...\r\n",
              "#2: HeatedSquareCavity_Nusselt\tNaturalConvection_k6_DG2_Ra1000000\t09/13/2021 10:27:17\t01fe5028...\r\n",
              "#3: HeatedSquareCavity_Nusselt\tNaturalConvection_k5_DG3_Ra1000000\t09/13/2021 10:35:56\t6162f817...\r\n",
              "#4: HeatedSquareCavity_Nusselt\tNaturalConvection_k5_DG4_Ra1000000\t09/13/2021 10:49:58\tdbe12dce...\r\n",
              "#5: HeatedSquareCavity_Nusselt\tNaturalConvection_k6_DG1_Ra1000000\t09/13/2021 10:16:30\tee94a411...\r\n",
              "#6: HeatedSquareCavity_Nusselt\tNaturalConvection_k5_DG2_Ra1000000\t09/13/2021 10:21:38\tb6eb2e28...\r\n",
              "#7: HeatedSquareCavity_Nusselt\tNaturalConvection_k6_DG4_Ra10000\t09/13/2021 10:08:50\tbbb3d34e...\r\n",
              "#8: HeatedSquareCavity_Nusselt\tNaturalConvection_k4_DG4_Ra1000000\t09/13/2021 10:45:15\t39a5e587...\r\n",
              "#9: HeatedSquareCavity_Nusselt\tNaturalConvection_k3_DG4_Ra1000000\t09/13/2021 10:45:15\te9be6da8...\r\n",
              "#10: HeatedSquareCavity_Nusselt\tNaturalConvection_k4_DG3_Ra1000000\t09/13/2021 10:33:37\t2161fb80...\r\n",
              "#11: HeatedSquareCavity_Nusselt\tNaturalConvection_k6_DG3_Ra10000\t09/13/2021 10:06:10\t73c6f87d...\r\n",
              "#12: HeatedSquareCavity_Nusselt\tNaturalConvection_k5_DG1_Ra1000000\t09/13/2021 10:15:20\t4311626d...\r\n",
              "#13: HeatedSquareCavity_Nusselt\tNaturalConvection_k3_DG3_Ra1000000\t09/13/2021 10:28:59\t9f7863a5...\r\n",
              "#14: HeatedSquareCavity_Nusselt\tNaturalConvection_k6_DG4_Ra100\t09/13/2021 09:54:32\td69c0925...\r\n",
              "#15: HeatedSquareCavity_Nusselt\tNaturalConvection_k4_DG2_Ra1000000\t09/13/2021 10:19:39\tec432994...\r\n",
              "#16: HeatedSquareCavity_Nusselt\tNaturalConvection_k4_DG1_Ra1000000\t09/13/2021 10:11:09\t8ef12222...\r\n",
              "#17: HeatedSquareCavity_Nusselt\tNaturalConvection_k3_DG2_Ra1000000\t09/13/2021 10:19:38\t10a67177...\r\n",
              "#18: HeatedSquareCavity_Nusselt\tNaturalConvection_k5_DG4_Ra10000\t09/13/2021 10:07:56\t3ffa694b...\r\n",
              "#19: HeatedSquareCavity_Nusselt\tNaturalConvection_k6_DG2_Ra10000\t09/13/2021 10:00:23\t008d88e2...\r\n",
              "#20: HeatedSquareCavity_Nusselt\tNaturalConvection_k3_DG1_Ra1000000\t09/13/2021 10:11:09\t1e20dc5d...\r\n",
              "#21: HeatedSquareCavity_Nusselt\tNaturalConvection_k6_DG3_Ra100\t09/13/2021 09:51:54\t015fad94...\r\n",
              "#22: HeatedSquareCavity_Nusselt\tNaturalConvection_k4_DG4_Ra10000\t09/13/2021 10:07:45\tf0266136...\r\n",
              "#23: HeatedSquareCavity_Nusselt\tNaturalConvection_k5_DG3_Ra10000\t09/13/2021 10:03:24\t66d466dd...\r\n",
              "#24: HeatedSquareCavity_Nusselt\tNaturalConvection_k6_DG1_Ra10000\t09/13/2021 09:57:41\t8d579d1e...\r\n",
              "#25: HeatedSquareCavity_Nusselt\tNaturalConvection_k6_DG2_Ra100\t09/13/2021 09:49:22\t97c4b578...\r\n",
              "#26: HeatedSquareCavity_Nusselt\tNaturalConvection_k3_DG4_Ra10000\t09/13/2021 10:06:15\ta92e18ff...\r\n",
              "#27: HeatedSquareCavity_Nusselt\tNaturalConvection_k4_DG3_Ra10000\t09/13/2021 10:02:45\t8a3b3761...\r\n",
              "#28: HeatedSquareCavity_Nusselt\tNaturalConvection_k5_DG2_Ra10000\t09/13/2021 09:59:49\tee811e2c...\r\n",
              "#29: HeatedSquareCavity_Nusselt\tNaturalConvection_k5_DG4_Ra100\t09/13/2021 09:54:00\t30c6d5f5...\r\n",
              "#30: HeatedSquareCavity_Nusselt\tNaturalConvection_k3_DG3_Ra10000\t09/13/2021 10:01:37\t09911792...\r\n",
              "#31: HeatedSquareCavity_Nusselt\tNaturalConvection_k4_DG2_Ra10000\t09/13/2021 09:59:11\t9bebb9ae...\r\n",
              "#32: HeatedSquareCavity_Nusselt\tNaturalConvection_k5_DG1_Ra10000\t09/13/2021 09:56:46\tf40eeea5...\r\n",
              "#33: HeatedSquareCavity_Nusselt\tNaturalConvection_k4_DG1_Ra10000\t09/13/2021 09:56:14\t91e9c7f6...\r\n",
              "#34: HeatedSquareCavity_Nusselt\tNaturalConvection_k3_DG2_Ra10000\t09/13/2021 09:58:35\t3e84b22b...\r\n",
              "#35: HeatedSquareCavity_Nusselt\tNaturalConvection_k5_DG3_Ra100\t09/13/2021 09:51:23\t6a3917fb...\r\n",
              "#36: HeatedSquareCavity_Nusselt\tNaturalConvection_k4_DG4_Ra100\t09/13/2021 09:53:26\t16b5ad8b...\r\n",
              "#37: HeatedSquareCavity_Nusselt\tNaturalConvection_k6_DG1_Ra100\t09/13/2021 09:46:57\tb0a45df5...\r\n",
              "#38: HeatedSquareCavity_Nusselt\tNaturalConvection_k3_DG1_Ra10000\t09/13/2021 09:55:38\tc44769cf...\r\n",
              "#39: HeatedSquareCavity_Nusselt\tNaturalConvection_k3_DG4_Ra100\t09/13/2021 09:52:54\t1fc4ae9f...\r\n",
              "#40: HeatedSquareCavity_Nusselt\tNaturalConvection_k4_DG3_Ra100\t09/13/2021 09:50:53\te0a5f197...\r\n",
              "#41: HeatedSquareCavity_Nusselt\tNaturalConvection_k5_DG2_Ra100\t09/13/2021 09:48:51\tf7ff7b53...\r\n",
              "#42: HeatedSquareCavity_Nusselt\tNaturalConvection_k3_DG3_Ra100\t09/13/2021 09:50:23\t775d19bb...\r\n",
              "#43: HeatedSquareCavity_Nusselt\tNaturalConvection_k4_DG2_Ra100\t09/13/2021 09:48:22\t8374f6e6...\r\n",
              "#44: HeatedSquareCavity_Nusselt\tNaturalConvection_k5_DG1_Ra100\t09/13/2021 09:46:31\tc756e25c...\r\n",
              "#45: HeatedSquareCavity_Nusselt\tNaturalConvection_k3_DG2_Ra100\t09/13/2021 09:47:54\te79c8c59...\r\n",
              "#46: HeatedSquareCavity_Nusselt\tNaturalConvection_k4_DG1_Ra100\t09/13/2021 09:46:05\t12a58d28...\r\n",
              "#47: HeatedSquareCavity_Nusselt\tNaturalConvection_k3_DG1_Ra100\t09/13/2021 09:45:37\t1aace506...\r\n"
            ]
          },
          "metadata": {},
          "output_type": "display_data"
        }
      ],
      "source": [
        "myDb.Sessions"
      ]
    },
    {
      "cell_type": "code",
      "execution_count": null,
      "metadata": {
        "dotnet_interactive": {
          "language": "csharp"
        }
      },
      "outputs": [],
      "source": []
    },
    {
      "cell_type": "code",
      "execution_count": null,
      "metadata": {
        "dotnet_interactive": {
          "language": "csharp"
        }
      },
      "outputs": [
        {
          "name": "stdout",
          "output_type": "stream",
          "text": [
            "Project name is set to 'HeatedSquareCavity_Nusselt'.\r\n"
          ]
        }
      ],
      "source": [
        "BoSSSshell.WorkflowMgm.Init(\"HeatedSquareCavity_Nusselt\");"
      ]
    },
    {
      "cell_type": "markdown",
      "metadata": {},
      "source": [
        "## Create grid"
      ]
    },
    {
      "cell_type": "code",
      "execution_count": null,
      "metadata": {
        "dotnet_interactive": {
          "language": "csharp"
        }
      },
      "outputs": [],
      "source": [
        "int[] Resolutions = new int[]{ 3,4,5,6 };\n",
        "int[] DGdegree = new int[]{ 1,2,3,4 };\n",
        "// double[] RaArray = new double []{1e5};\n",
        "\n",
        "// int[] Resolutions = new int[]{ 6 };\n",
        "// int[] DGdegree = new int[]{ 4 };\n",
        "double[] RaArray = new double []{1e2,1e4,1e6};\n",
        "int[] nCells  =  Resolutions.Select(r => (int)(Math.Pow(2,r+1))).ToArray();\n",
        "\n"
      ]
    },
    {
      "cell_type": "code",
      "execution_count": null,
      "metadata": {
        "dotnet_interactive": {
          "language": "csharp"
        }
      },
      "outputs": [],
      "source": [
        "// int[] Resolutions = new int[]{ /*3,4,5,6*/ 7};\n",
        "// int[] DGdegree = new int[]{ 1,2,3,4 };\n",
        "// int[] nCells  =  Resolutions.Select(r => (int)(Math.Pow(2,r+1))).ToArray();\n",
        "// double[] RaArray = new double []{1e2,1e4,1e6};"
      ]
    },
    {
      "cell_type": "code",
      "execution_count": null,
      "metadata": {
        "dotnet_interactive": {
          "language": "csharp"
        }
      },
      "outputs": [],
      "source": [
        "public static class GridFactory {    \n",
        " \n",
        "    public static double[] GetXNodes(int Res) {\n",
        " \n",
        "        var xNodes = GenericBlas.SinLinSpacing(-0.5, 0.5, 0, Res + 1);\n",
        "        return xNodes;\n",
        "    }\n",
        " \n",
        "    static double[] GetYNodes(int Res) {\n",
        "        double[] yNodes =  GenericBlas.SinLinSpacing(-0.5, 0.5,0, Res + 1);\n",
        "        return yNodes;\n",
        "    }\n",
        " \n",
        "    public static Grid2D GenerateGrid(int Res) { \n",
        "        var xNodes = GetXNodes(Res);\n",
        "        var yNodes = GetYNodes(Res);\n",
        "        var grd    = Grid2D.Cartesian2DGrid(xNodes, yNodes);\n",
        "        grd.EdgeTagNames.Add(1, \"NoSlipNeumann\");\n",
        "        grd.EdgeTagNames.Add(2, \"wall_tempfixed_left\");\n",
        "        grd.EdgeTagNames.Add(3, \"wall_tempfixed_right\");\n",
        "        grd.DefineEdgeTags( delegate (double[] X) {\n",
        "            double x = X[0];\n",
        "            double y = X[1];\n",
        "\n",
        "            //Edge tags\n",
        "            //1: Adiabatic no slip wall\n",
        "            //2: Temperature fixed no slip wall\n",
        "\n",
        "            //right cold wall \n",
        "            if (Math.Abs(x - 0.5) < 1e-8)\n",
        "                return 3;\n",
        "\n",
        "            //bottom adiabatic Wall\n",
        "            if (Math.Abs(y - 0.5 ) < 1e-8)\n",
        "                return 1;\n",
        "\n",
        "            // left hot wall\n",
        "            if (Math.Abs(x + 0.5) < 1e-8)\n",
        "                return 2;\n",
        "\n",
        "            //top adiabatic Wall\n",
        "            if (Math.Abs(y + 0.5 ) < 1e-8)\n",
        "                return 1;\n",
        "\n",
        "            else throw new ArgumentOutOfRangeException();\n",
        "        });\n",
        "        \n",
        "        bool force = true; \n",
        "        myDb.SaveGrid(ref grd, force );\n",
        "        \n",
        "        return grd;\n",
        "     }\n",
        " \n",
        " }"
      ]
    },
    {
      "cell_type": "code",
      "execution_count": null,
      "metadata": {
        "dotnet_interactive": {
          "language": "csharp"
        }
      },
      "outputs": [],
      "source": [
        "public static class BoundaryValueFactory { \n",
        "\n",
        "    public static string GetPrefixCode(double Th, double Tc, double Froude) {\n",
        "        using(var stw = new System.IO.StringWriter()) {\n",
        "           \n",
        "           stw.WriteLine(\"static class BoundaryValues {\");\n",
        "           stw.WriteLine(\"  static public double VelX(double[] X) {\");\n",
        "           stw.WriteLine(\"    return 0.0;\");\n",
        "           stw.WriteLine(\"  }\");\n",
        "\n",
        "           stw.WriteLine(\"  static public double VelY(double[] X) {\");\n",
        "           stw.WriteLine(\"    return 0.0;\");\n",
        "           stw.WriteLine(\"  }\");\n",
        "\n",
        "           stw.WriteLine(\"  static public double TemperatureHot(double[] X) {\");\n",
        "           stw.WriteLine(\"    return 1.6;\");\n",
        "           stw.WriteLine(\"  }\");\n",
        "\n",
        "           stw.WriteLine(\"  static public double TemperatureCold(double[] X) {\");\n",
        "           stw.WriteLine(\"    return 0.4;\");\n",
        "           stw.WriteLine(\"  }\");\n",
        "\n",
        "           stw.WriteLine(\"  static public double One(double[] X) {\");\n",
        "           stw.WriteLine(\"    return  1.0;\");\n",
        "           stw.WriteLine(\"  }\");\n",
        "\n",
        "           stw.WriteLine(\"  static public double Zero(double[] X) {\");\n",
        "           stw.WriteLine(\"    return  0.0;\");\n",
        "           stw.WriteLine(\"  }\");\n",
        "\n",
        "           stw.WriteLine(\" static public double InitialPressure(double[] X) { \");\n",
        "            stw.WriteLine(\"         return (-1)* X[1] / (\"+Froude * Froude +\") ;\");\n",
        "            stw.WriteLine(\"    }\");\n",
        "            stw.WriteLine(\"}\"); \n",
        "           return stw.ToString();\n",
        "        }\n",
        "    }\n",
        "   \n",
        "    static public Formula Get_VelX(double Th, double Tc , double Froude) {\n",
        "        return new Formula(\"BoundaryValues.VelX\", AdditionalPrefixCode:GetPrefixCode(Th,Tc,Froude));\n",
        "    }\n",
        "\n",
        "    static public Formula Get_VelY(double Th, double Tc, double Froude){\n",
        "        return new Formula(\"BoundaryValues.VelY\", AdditionalPrefixCode:GetPrefixCode(Th,Tc,Froude));\n",
        "    }\n",
        "    static public Formula Get_TemperatureHot(double Th, double Tc, double Froude){\n",
        "        return new Formula(\"BoundaryValues.TemperatureHot\", AdditionalPrefixCode:GetPrefixCode(Th,Tc,Froude));\n",
        "    }\n",
        "\n",
        "     static public Formula Get_TemperatureCold(double Th, double Tc, double Froude){\n",
        "        return new Formula(\"BoundaryValues.TemperatureCold\", AdditionalPrefixCode:GetPrefixCode(Th,Tc,Froude));\n",
        "    }\n",
        "\n",
        "    static public Formula Get_One(double Th, double Tc, double Froude){\n",
        "        return new Formula(\"BoundaryValues.One\", AdditionalPrefixCode:GetPrefixCode(Th,Tc,Froude));\n",
        "    }\n",
        "    static public Formula Get_Zero(double Th, double Tc, double Froude){\n",
        "        return new Formula(\"BoundaryValues.Zero\", AdditionalPrefixCode:GetPrefixCode(Th,Tc,Froude));\n",
        "    }\n",
        "    static public Formula Get_InitialPressure(double Th, double Tc, double Froude){\n",
        "        return new Formula(\"BoundaryValues.InitialPressure\", AdditionalPrefixCode:GetPrefixCode(Th,Tc,Froude));\n",
        "    }\n",
        "}"
      ]
    },
    {
      "cell_type": "markdown",
      "metadata": {},
      "source": [
        "## Send and run jobs"
      ]
    },
    {
      "cell_type": "code",
      "execution_count": null,
      "metadata": {
        "dotnet_interactive": {
          "language": "csharp"
        }
      },
      "outputs": [],
      "source": [
        "var controls = new List<BoSSS.Application.XNSEC.XNSEC_Control>();"
      ]
    },
    {
      "cell_type": "code",
      "execution_count": null,
      "metadata": {
        "dotnet_interactive": {
          "language": "csharp"
        }
      },
      "outputs": [],
      "source": [
        "var controls = new List<BoSSS.Application.XNSEC.XNSEC_Control>();\n",
        "double Th = 1.6; double Tc = 0.4;\n",
        "\n",
        "foreach(double Ra in RaArray){\n",
        "foreach(int dg in DGdegree){\n",
        "foreach(int Res in Resolutions) {\n",
        "\n",
        "    var C = new BoSSS.Application.XNSEC.XNSEC_Control();\n",
        "    C.SetDGdegree(dg);\n",
        "    var nCells = (int) Math.Pow(2,Res+1);\n",
        "    C.SetGrid(GridFactory.GenerateGrid(nCells));\n",
        "    C.Paramstudy_CaseIdentification.Add(new Tuple<string, object>(\"Res\", Res));\n",
        "    C.Paramstudy_CaseIdentification.Add(new Tuple<string, object>(\"Dgdegree\", dg));\n",
        "    C.Paramstudy_CaseIdentification.Add(new Tuple<string, object>(\"Rayleigh\", Ra));\n",
        "\n",
        "    C.EnableMassFractions = false;\n",
        "    C.NumberOfChemicalSpecies = 1;\n",
        "    C.ChemicalReactionActive = false;\n",
        "    C.MatParamsMode = MaterialParamsMode.Sutherland;\n",
        "    C.physicsMode = PhysicsMode.Combustion;\n",
        "    C.TimesteppingMode = AppControl._TimesteppingMode.Steady;\n",
        "\n",
        "\n",
        "    C.LinearSolver = LinearSolverCode.exp_Kcycle_schwarz.GetConfig();\n",
        "    C.LinearSolver.NoOfMultigridLevels = 5;\n",
        "    \n",
        "    // C.NonLinearSolver.SolverCode = NonLinearSolverCode.Newton;\n",
        "\n",
        "    C.LinearSolver = LinearSolverCode.direct_pardiso.GetConfig();\n",
        "    C.NonLinearSolver.ConvergenceCriterion = 1e-11;\n",
        "    C.LinearSolver.ConvergenceCriterion = 1e-12;\n",
        "    C.NonLinearSolver.verbose = true;\n",
        "    C.LinearSolver.verbose = false;\n",
        "    C.NonLinearSolver.MaxSolverIterations = 200;\n",
        "\n",
        "    C.PenaltyViscMomentum = 1.0 * 1;\n",
        "    C.PenaltyHeatConduction = 1.0 * 1;\n",
        "    C.PhysicalParameters.IncludeConvection = true;\n",
        "\n",
        "    C.UseSelfMadeTemporalOperator = false;\n",
        "    C.timeDerivativeEnergyp0_OK = false;\n",
        "    C.timeDerivativeConti_OK = false;\n",
        "    bool useHomotopy = false;\n",
        "    \n",
        "    if(Ra > 1e4){\n",
        "        useHomotopy = true;\n",
        "    }\n",
        "\n",
        "    if(useHomotopy) { \n",
        "        C.HomotopyApproach = BoSSS.Application.XNSEC.XNSEC_Control.HomotopyType.Automatic;        \n",
        "        C.HomotopyVariable = BoSSS.Application.XNSEC.XNSEC_Control.HomotopyVariableEnum.Reynolds;\n",
        "        C.homotopieAimedValue = C.Reynolds;\n",
        "        C.StartingHomotopyValue = Math.Sqrt(1e4);\n",
        "    }\n",
        "\n",
        "\n",
        "    C.Rayleigh = Ra;\n",
        "    C.Reynolds = Math.Sqrt(Ra);\n",
        "    C.Prandtl = 0.71;\n",
        "    double Fr =Math.Sqrt(2 * C.Prandtl * (1.6 - 0.4) / (1.6 + 0.4)); \n",
        "    C.Froude = Fr;\n",
        "    C.HeatCapacityRatio = 1.4;\n",
        "    C.T_ref_Sutherland = 600;\n",
        "    C.ThermodynamicPressureMode = ThermodynamicPressureMode.MassDetermined; // Because its a closed system, i.e. p0 = p0(time)\n",
        "    C.PhysicalParameters.IncludeConvection = true;\n",
        "    C.Timestepper_LevelSetHandling         = BoSSS.Solution.XdgTimestepping.LevelSetHandling.None;\n",
        "    \n",
        "    C.SessionName = \"NaturalConvection_k\" + Res + \"_DG\" + dg + \"_Ra\" + Ra; \n",
        "  \n",
        "    \n",
        "    C.EdgeTagsNusselt = new string[] { \"wall_tempfixed_left\", \"wall_tempfixed_right\", \"NoSlipNeumann\" };\n",
        "\n",
        "    C.AddBoundaryValue(\"NoSlipNeumann\", VariableNames.VelocityX,BoundaryValueFactory.Get_VelX(Th, Tc,Fr));\n",
        "    C.AddBoundaryValue(\"NoSlipNeumann\", VariableNames.VelocityY,BoundaryValueFactory.Get_VelY(Th, Tc,Fr));\n",
        "\n",
        "    C.AddBoundaryValue(\"wall_tempfixed_left\", VariableNames.Temperature,BoundaryValueFactory.Get_TemperatureHot(Th, Tc,Fr));\n",
        "    C.AddBoundaryValue(\"wall_tempfixed_right\", VariableNames.Temperature, BoundaryValueFactory.Get_TemperatureCold(Th, Tc,Fr));\n",
        "\n",
        "    C.AddBoundaryValue(\"wall_tempfixed_left\", VariableNames.MassFraction0, BoundaryValueFactory.Get_One(Th, Tc,Fr));\n",
        "    C.AddBoundaryValue(\"wall_tempfixed_right\", VariableNames.MassFraction0, BoundaryValueFactory.Get_One(Th, Tc,Fr));\n",
        "\n",
        "\n",
        "\n",
        "\n",
        "\n",
        "    C.AddInitialValue(VariableNames.VelocityX,  BoundaryValueFactory.Get_Zero(Th, Tc,Fr));\n",
        "    C.AddInitialValue(VariableNames.VelocityY,BoundaryValueFactory.Get_Zero(Th, Tc,Fr));\n",
        "    C.AddInitialValue(VariableNames.Pressure,BoundaryValueFactory.Get_InitialPressure(Th, Tc,Fr));\n",
        "\n",
        "    C.AddInitialValue(VariableNames.Temperature,BoundaryValueFactory.Get_One(Th, Tc,Fr));\n",
        "    C.AddInitialValue(VariableNames.MassFraction0, BoundaryValueFactory.Get_One(Th, Tc,Fr));\n",
        "\n",
        "    //C.AddInitialValu(VariableNames.Temperature, X => (Tc - Th) / 1 * X[0] + Th);\n",
        "\n",
        "    //C.AddInitialValue.Add(VariableNames.Temperature, X => X[0] * X[0] + X[1] * X[1] + 1);\n",
        "    C.AddInitialValue(VariableNames.ThermodynamicPressure,BoundaryValueFactory.Get_One(Th, Tc,Fr));\n",
        "\n",
        "\n",
        "    controls.Add(C);\n",
        "}\n",
        "}\n",
        "}"
      ]
    },
    {
      "cell_type": "code",
      "execution_count": null,
      "metadata": {
        "dotnet_interactive": {
          "language": "csharp"
        }
      },
      "outputs": [],
      "source": [
        "Console.WriteLine(controls.Count);"
      ]
    },
    {
      "cell_type": "markdown",
      "metadata": {},
      "source": [
        "## Run Simulations"
      ]
    },
    {
      "cell_type": "code",
      "execution_count": null,
      "metadata": {
        "dotnet_interactive": {
          "language": "csharp"
        }
      },
      "outputs": [],
      "source": [
        "BoSSSshell.ExecutionQueues.ForEach(q => Console.WriteLine(q))"
      ]
    },
    {
      "cell_type": "code",
      "execution_count": null,
      "metadata": {
        "dotnet_interactive": {
          "language": "csharp"
        }
      },
      "outputs": [],
      "source": [
        "var myBatch = BoSSSshell.ExecutionQueues[3];"
      ]
    },
    {
      "cell_type": "code",
      "execution_count": null,
      "metadata": {
        "dotnet_interactive": {
          "language": "csharp"
        }
      },
      "outputs": [],
      "source": [
        "Type solver = typeof(BoSSS.Application.XNSEC.XNSEC);\n",
        "foreach(var c in controls) {\n",
        "    string jobName       = c.SessionName + 1;\n",
        "    var oneJob           = new Job(jobName, solver);\n",
        "    int noOfProcs = Convert.ToInt32(c.Paramstudy_CaseIdentification[0].Item2) > 2 ? 4:1;\n",
        "     noOfProcs = Convert.ToInt32(c.Paramstudy_CaseIdentification[0].Item2) > 4 ? 8:noOfProcs;\n",
        "    oneJob.NumberOfMPIProcs = noOfProcs;\n",
		"    oneJob.NumberOfThreads = 1;\n",
        "    oneJob.SetControlObject(c);\n",
        "    oneJob.Activate(myBatch); \n",
        "}"
      ]
    },
    {
      "cell_type": "code",
      "execution_count": null,
      "metadata": {
        "dotnet_interactive": {
          "language": "csharp"
        }
      },
      "outputs": [],
      "source": [
        "BoSSSshell.WorkflowMgm.BlockUntilAllJobsTerminate();"
      ]
    },
    {
      "cell_type": "code",
      "execution_count": null,
      "metadata": {
        "dotnet_interactive": {
          "language": "csharp"
        }
      },
      "outputs": [],
      "source": [
        "//myDb.Sessions[2].KeysAndQueries[\"NusseltNumber0\"]"
      ]
    },
    {
      "cell_type": "markdown",
      "metadata": {
        "dotnet_interactive": {
          "language": "csharp"
        }
      },
      "source": []
    },
    {
      "cell_type": "code",
      "execution_count": null,
      "metadata": {
        "dotnet_interactive": {
          "language": "csharp"
        }
      },
      "outputs": [
        {
          "data": {
            "text/plain": [
              "#0: HeatedSquareCavity_Nusselt\tNaturalConvection_k6_DG3_Ra1000000\t09/13/2021 18:48:19\t22f319da...\r\n",
              "#1: HeatedSquareCavity_Nusselt\tNaturalConvection_k6_DG4_Ra1000000\t09/13/2021 11:02:09\tf3643841...\r\n",
              "#2: HeatedSquareCavity_Nusselt\tNaturalConvection_k6_DG2_Ra1000000\t09/13/2021 10:27:17\t01fe5028...\r\n",
              "#3: HeatedSquareCavity_Nusselt\tNaturalConvection_k5_DG3_Ra1000000\t09/13/2021 10:35:56\t6162f817...\r\n",
              "#4: HeatedSquareCavity_Nusselt\tNaturalConvection_k5_DG4_Ra1000000\t09/13/2021 10:49:58\tdbe12dce...\r\n",
              "#5: HeatedSquareCavity_Nusselt\tNaturalConvection_k6_DG1_Ra1000000\t09/13/2021 10:16:30\tee94a411...\r\n",
              "#6: HeatedSquareCavity_Nusselt\tNaturalConvection_k5_DG2_Ra1000000\t09/13/2021 10:21:38\tb6eb2e28...\r\n",
              "#7: HeatedSquareCavity_Nusselt\tNaturalConvection_k6_DG4_Ra10000\t09/13/2021 10:08:50\tbbb3d34e...\r\n",
              "#8: HeatedSquareCavity_Nusselt\tNaturalConvection_k4_DG4_Ra1000000\t09/13/2021 10:45:15\t39a5e587...\r\n",
              "#9: HeatedSquareCavity_Nusselt\tNaturalConvection_k3_DG4_Ra1000000\t09/13/2021 10:45:15\te9be6da8...\r\n",
              "#10: HeatedSquareCavity_Nusselt\tNaturalConvection_k4_DG3_Ra1000000\t09/13/2021 10:33:37\t2161fb80...\r\n",
              "#11: HeatedSquareCavity_Nusselt\tNaturalConvection_k6_DG3_Ra10000\t09/13/2021 10:06:10\t73c6f87d...\r\n",
              "#12: HeatedSquareCavity_Nusselt\tNaturalConvection_k5_DG1_Ra1000000\t09/13/2021 10:15:20\t4311626d...\r\n",
              "#13: HeatedSquareCavity_Nusselt\tNaturalConvection_k3_DG3_Ra1000000\t09/13/2021 10:28:59\t9f7863a5...\r\n",
              "#14: HeatedSquareCavity_Nusselt\tNaturalConvection_k6_DG4_Ra100\t09/13/2021 09:54:32\td69c0925...\r\n",
              "#15: HeatedSquareCavity_Nusselt\tNaturalConvection_k4_DG2_Ra1000000\t09/13/2021 10:19:39\tec432994...\r\n",
              "#16: HeatedSquareCavity_Nusselt\tNaturalConvection_k4_DG1_Ra1000000\t09/13/2021 10:11:09\t8ef12222...\r\n",
              "#17: HeatedSquareCavity_Nusselt\tNaturalConvection_k3_DG2_Ra1000000\t09/13/2021 10:19:38\t10a67177...\r\n",
              "#18: HeatedSquareCavity_Nusselt\tNaturalConvection_k5_DG4_Ra10000\t09/13/2021 10:07:56\t3ffa694b...\r\n",
              "#19: HeatedSquareCavity_Nusselt\tNaturalConvection_k6_DG2_Ra10000\t09/13/2021 10:00:23\t008d88e2...\r\n",
              "#20: HeatedSquareCavity_Nusselt\tNaturalConvection_k3_DG1_Ra1000000\t09/13/2021 10:11:09\t1e20dc5d...\r\n",
              "#21: HeatedSquareCavity_Nusselt\tNaturalConvection_k6_DG3_Ra100\t09/13/2021 09:51:54\t015fad94...\r\n",
              "#22: HeatedSquareCavity_Nusselt\tNaturalConvection_k4_DG4_Ra10000\t09/13/2021 10:07:45\tf0266136...\r\n",
              "#23: HeatedSquareCavity_Nusselt\tNaturalConvection_k5_DG3_Ra10000\t09/13/2021 10:03:24\t66d466dd...\r\n",
              "#24: HeatedSquareCavity_Nusselt\tNaturalConvection_k6_DG1_Ra10000\t09/13/2021 09:57:41\t8d579d1e...\r\n",
              "#25: HeatedSquareCavity_Nusselt\tNaturalConvection_k6_DG2_Ra100\t09/13/2021 09:49:22\t97c4b578...\r\n",
              "#26: HeatedSquareCavity_Nusselt\tNaturalConvection_k3_DG4_Ra10000\t09/13/2021 10:06:15\ta92e18ff...\r\n",
              "#27: HeatedSquareCavity_Nusselt\tNaturalConvection_k4_DG3_Ra10000\t09/13/2021 10:02:45\t8a3b3761...\r\n",
              "#28: HeatedSquareCavity_Nusselt\tNaturalConvection_k5_DG2_Ra10000\t09/13/2021 09:59:49\tee811e2c...\r\n",
              "#29: HeatedSquareCavity_Nusselt\tNaturalConvection_k5_DG4_Ra100\t09/13/2021 09:54:00\t30c6d5f5...\r\n",
              "#30: HeatedSquareCavity_Nusselt\tNaturalConvection_k3_DG3_Ra10000\t09/13/2021 10:01:37\t09911792...\r\n",
              "#31: HeatedSquareCavity_Nusselt\tNaturalConvection_k4_DG2_Ra10000\t09/13/2021 09:59:11\t9bebb9ae...\r\n",
              "#32: HeatedSquareCavity_Nusselt\tNaturalConvection_k5_DG1_Ra10000\t09/13/2021 09:56:46\tf40eeea5...\r\n",
              "#33: HeatedSquareCavity_Nusselt\tNaturalConvection_k4_DG1_Ra10000\t09/13/2021 09:56:14\t91e9c7f6...\r\n",
              "#34: HeatedSquareCavity_Nusselt\tNaturalConvection_k3_DG2_Ra10000\t09/13/2021 09:58:35\t3e84b22b...\r\n",
              "#35: HeatedSquareCavity_Nusselt\tNaturalConvection_k5_DG3_Ra100\t09/13/2021 09:51:23\t6a3917fb...\r\n",
              "#36: HeatedSquareCavity_Nusselt\tNaturalConvection_k4_DG4_Ra100\t09/13/2021 09:53:26\t16b5ad8b...\r\n",
              "#37: HeatedSquareCavity_Nusselt\tNaturalConvection_k6_DG1_Ra100\t09/13/2021 09:46:57\tb0a45df5...\r\n",
              "#38: HeatedSquareCavity_Nusselt\tNaturalConvection_k3_DG1_Ra10000\t09/13/2021 09:55:38\tc44769cf...\r\n",
              "#39: HeatedSquareCavity_Nusselt\tNaturalConvection_k3_DG4_Ra100\t09/13/2021 09:52:54\t1fc4ae9f...\r\n",
              "#40: HeatedSquareCavity_Nusselt\tNaturalConvection_k4_DG3_Ra100\t09/13/2021 09:50:53\te0a5f197...\r\n",
              "#41: HeatedSquareCavity_Nusselt\tNaturalConvection_k5_DG2_Ra100\t09/13/2021 09:48:51\tf7ff7b53...\r\n",
              "#42: HeatedSquareCavity_Nusselt\tNaturalConvection_k3_DG3_Ra100\t09/13/2021 09:50:23\t775d19bb...\r\n",
              "#43: HeatedSquareCavity_Nusselt\tNaturalConvection_k4_DG2_Ra100\t09/13/2021 09:48:22\t8374f6e6...\r\n",
              "#44: HeatedSquareCavity_Nusselt\tNaturalConvection_k5_DG1_Ra100\t09/13/2021 09:46:31\tc756e25c...\r\n",
              "#45: HeatedSquareCavity_Nusselt\tNaturalConvection_k3_DG2_Ra100\t09/13/2021 09:47:54\te79c8c59...\r\n",
              "#46: HeatedSquareCavity_Nusselt\tNaturalConvection_k4_DG1_Ra100\t09/13/2021 09:46:05\t12a58d28...\r\n",
              "#47: HeatedSquareCavity_Nusselt\tNaturalConvection_k3_DG1_Ra100\t09/13/2021 09:45:37\t1aace506...\r\n"
            ]
          },
          "metadata": {},
          "output_type": "display_data"
        }
      ],
      "source": [
        "myDb.Sessions"
      ]
    },
    {
      "cell_type": "markdown",
      "metadata": {},
      "source": [
        "## Post Processing: Study of nusselt numbers"
      ]
    },
    {
      "cell_type": "code",
      "execution_count": null,
      "metadata": {
        "dotnet_interactive": {
          "language": "csharp"
        }
      },
      "outputs": [],
      "source": [
        "double RaArr = 1e6;\n",
        "double[] NusseltRefArr = new double[]{0.9787, 2.2180, 8.6870 } ;"
      ]
    },
    {
      "cell_type": "code",
      "execution_count": null,
      "metadata": {
        "dotnet_interactive": {
          "language": "csharp"
        }
      },
      "outputs": [],
      "source": [
        "var pDegSessions = myDb.Sessions.Where(\n",
        "    Si => ((Convert.ToInt32(Si.KeysAndQueries[\"DGdegree:Velocity*\"]) == 2) \n",
        "     &&(Convert.ToDouble(Si.KeysAndQueries[\"Rayleigh\"])) == 1e6\n",
        "   ) \n",
        " ).ToArray();\n"
      ]
    },
    {
      "cell_type": "code",
      "execution_count": null,
      "metadata": {
        "dotnet_interactive": {
          "language": "csharp"
        }
      },
      "outputs": [
        {
          "data": {
            "text/plain": [
              "#0: HeatedSquareCavity_Nusselt\tNaturalConvection_k6_DG2_Ra1000000\t09/13/2021 10:27:17\t01fe5028...\r\n",
              "#1: HeatedSquareCavity_Nusselt\tNaturalConvection_k5_DG2_Ra1000000\t09/13/2021 10:21:38\tb6eb2e28...\r\n",
              "#2: HeatedSquareCavity_Nusselt\tNaturalConvection_k4_DG2_Ra1000000\t09/13/2021 10:19:39\tec432994...\r\n",
              "#3: HeatedSquareCavity_Nusselt\tNaturalConvection_k3_DG2_Ra1000000\t09/13/2021 10:19:38\t10a67177...\r\n"
            ]
          },
          "metadata": {},
          "output_type": "display_data"
        }
      ],
      "source": []
    },
    {
      "cell_type": "code",
      "execution_count": null,
      "metadata": {
        "dotnet_interactive": {
          "language": "csharp"
        }
      },
      "outputs": [
        {
          "name": "stdout",
          "output_type": "stream",
          "text": [
            "1.2800000000000000E+002\t\r\n",
            "6.4000000000000000E+001\t\r\n",
            "3.2000000000000000E+001\t\r\n",
            "1.6000000000000000E+001\t\r\n",
            "1.2800000000000000E+002\t\r\n",
            "6.4000000000000000E+001\t\r\n",
            "3.2000000000000000E+001\t\r\n",
            "1.6000000000000000E+001\t\r\n",
            "1.2800000000000000E+002\t\r\n",
            "6.4000000000000000E+001\t\r\n",
            "3.2000000000000000E+001\t\r\n",
            "1.6000000000000000E+001\t\r\n",
            "1.2800000000000000E+002\t\r\n",
            "6.4000000000000000E+001\t\r\n",
            "3.2000000000000000E+001\t\r\n",
            "1.6000000000000000E+001\t\r\n",
            "1.2800000000000000E+002\t\r\n",
            "6.4000000000000000E+001\t\r\n",
            "3.2000000000000000E+001\t\r\n",
            "1.6000000000000000E+001\t\r\n",
            "1.2800000000000000E+002\t\r\n",
            "6.4000000000000000E+001\t\r\n",
            "3.2000000000000000E+001\t\r\n",
            "1.6000000000000000E+001\t\r\n",
            "1.2800000000000000E+002\t\r\n",
            "6.4000000000000000E+001\t\r\n",
            "3.2000000000000000E+001\t\r\n",
            "1.6000000000000000E+001\t\r\n",
            "1.2800000000000000E+002\t\r\n",
            "6.4000000000000000E+001\t\r\n",
            "3.2000000000000000E+001\t\r\n",
            "1.6000000000000000E+001\t\r\n",
            "1.2800000000000000E+002\t\r\n",
            "6.4000000000000000E+001\t\r\n",
            "3.2000000000000000E+001\t\r\n",
            "1.6000000000000000E+001\t\r\n",
            "1.2800000000000000E+002\t\r\n",
            "6.4000000000000000E+001\t\r\n",
            "3.2000000000000000E+001\t\r\n",
            "1.6000000000000000E+001\t\r\n",
            "1.2800000000000000E+002\t\r\n",
            "6.4000000000000000E+001\t\r\n",
            "3.2000000000000000E+001\t\r\n",
            "1.6000000000000000E+001\t\r\n",
            "1.2800000000000000E+002\t\r\n",
            "6.4000000000000000E+001\t\r\n",
            "3.2000000000000000E+001\t\r\n",
            "1.6000000000000000E+001\t\r\n"
          ]
        }
      ],
      "source": [
        "int c = 0;\n",
        "double TemperatureDifference = 1.6 - 0.4;\n",
        "foreach(var Ra in RaArray){\n",
        "    double NussRef = NusseltRefArr[c];\n",
        "    c++;\n",
        "    Dictionary<int,double[]> All_NULeftvalues = new Dictionary<int,double[]>();\n",
        "    Dictionary<int,double[]> All_NURightvalues = new Dictionary<int,double[]>();\n",
        "    Dictionary<int,double[]> All_NUTopvalues = new Dictionary<int,double[]>();\n",
        "    Dictionary<int,double[]> All_CellLengths = new Dictionary<int,double[]>();\n",
        "    Dictionary<int,double[]> All_NusseltsRef = new Dictionary<int,double[]>();\n",
        "\n",
        "foreach (int pDeg in DGdegree) {\n",
        "  // int pDeg = 1;\n",
        "    var pDegSessions = myDb.Sessions.Where(\n",
        "         Si => ((Convert.ToInt32(Si.KeysAndQueries[\"DGdegree:Velocity*\"]) == pDeg) \n",
        "          &&(Convert.ToDouble(Si.KeysAndQueries[\"Rayleigh\"])) == Ra\n",
        "        ) \n",
        "      ).ToArray();\n",
        "\n",
        "    double[] leftvalues = new double[pDegSessions.Length];\n",
        "    double[] rightvalues = new double[pDegSessions.Length];\n",
        "    double[] residualValueS = new double[pDegSessions.Length];\n",
        "    double[] hMinArray = new double[pDegSessions.Length];\n",
        "    double[] RefNusseltArray = new double[pDegSessions.Length];\n",
        "    \n",
        "    int i = 0;\n",
        "    foreach (var sess in pDegSessions) {\n",
        "        var leftvalue  = sess.KeysAndQueries[\"NusseltNumber0\"];\n",
        "        var rightvalue = sess.KeysAndQueries[\"NusseltNumber1\"];\n",
        "        var residualValue = sess.KeysAndQueries[\"NusseltNumber2\"];\n",
        "        var hmin = sess.KeysAndQueries[\"Grid:hMin\"];\n",
        "        leftvalues[i] = System.Convert.ToDouble(leftvalue)/TemperatureDifference;\n",
        "        rightvalues[i] = System.Convert.ToDouble(rightvalue)/TemperatureDifference;\n",
        "        residualValueS[i] = System.Convert.ToDouble(residualValue)/TemperatureDifference;\n",
        "        hMinArray[i] = 1.0/System.Convert.ToDouble(hmin);\n",
        "        RefNusseltArray[i] = NussRef;\n",
        "        rightvalues[i]*=-1;\n",
        "        i++;\n",
        "    }\n",
        "        All_NULeftvalues.Add(pDeg,leftvalues);\n",
        "        All_NURightvalues.Add(pDeg,rightvalues);\n",
        "        All_NUTopvalues.Add(pDeg,residualValueS);\n",
        "        All_CellLengths.Add(pDeg,hMinArray);\n",
        "        All_NusseltsRef.Add(pDeg,RefNusseltArray);\n",
        "}\n",
        "string basepath = @\"C:\\tmp\\NusseltNumberFinal\\\";\n",
        "\n",
        "foreach (int dgDg in DGdegree) {\n",
        "    string names   = \"NusseltReLeft\" + Ra.ToString() +\"Dg\" + dgDg.ToString() + \".txt\";\n",
        "    string txtpath = basepath + names;\n",
        "    using (StreamWriter stw = new StreamWriter(txtpath)) {\n",
        "        stw.WriteLine(\"x\\ty\");\n",
        "        for (int i = 0; i < 4; i++) {\n",
        "            stw.Write(All_CellLengths[dgDg][i].ToString(\"E16\", NumberFormatInfo.InvariantInfo) + \"\\t\");\n",
        "            stw.Write(All_NULeftvalues[dgDg][i].ToString(\"E16\", NumberFormatInfo.InvariantInfo));\n",
        "            stw.WriteLine();\n",
        "        }\n",
        "    }\n",
        "}\n",
        "\n",
        "foreach (int dgDg in DGdegree) {\n",
        "    string names   = \"NusseltReRight\" + Ra.ToString() +\"Dg\" + dgDg.ToString() + \".txt\";\n",
        "    string txtpath = basepath + names;\n",
        "    using (StreamWriter stw = new StreamWriter(txtpath)) {\n",
        "        stw.WriteLine(\"x\\ty\");\n",
        "        for (int i = 0; i < 4; i++) {\n",
        "            stw.Write(All_CellLengths[dgDg][i].ToString(\"E16\", NumberFormatInfo.InvariantInfo) + \"\\t\");\n",
        "            stw.Write(All_NURightvalues[dgDg][i].ToString(\"E16\", NumberFormatInfo.InvariantInfo));\n",
        "            stw.WriteLine();\n",
        "        }\n",
        "    }\n",
        "}\n",
        "\n",
        "\n",
        "foreach (int dgDg in DGdegree) {\n",
        "    string names   = \"ReferenceNusselt\" + Ra.ToString() +\"Dg\" + dgDg.ToString() + \".txt\";\n",
        "    string txtpath = basepath + names;\n",
        "    using (StreamWriter stw = new StreamWriter(txtpath)) {\n",
        "        for (int i = 0; i < 4; i++) {\n",
        "            stw.Write(All_CellLengths[dgDg][i].ToString(\"E16\", NumberFormatInfo.InvariantInfo) + \"\\t\");\n",
        "            stw.Write(All_NusseltsRef[dgDg][i].ToString(\"E16\", NumberFormatInfo.InvariantInfo));\n",
        "            stw.WriteLine();\n",
        "            Console.WriteLine(All_CellLengths[dgDg][i].ToString(\"E16\", NumberFormatInfo.InvariantInfo) + \"\\t\");\n",
        "        }\n",
        "    \n",
        "    }\n",
        "}\n",
        "\n",
        "\n",
        "\n",
        "}"
      ]
    },
    {
      "cell_type": "code",
      "execution_count": null,
      "metadata": {
        "dotnet_interactive": {
          "language": "csharp"
        }
      },
      "outputs": [],
      "source": []
    },
    {
      "cell_type": "markdown",
      "metadata": {},
      "source": [
        "## Calculation of p0 and Nusselt numbers on a fine mesh\n",
        "used for comparison with reference values"
      ]
    },
    {
      "cell_type": "code",
      "execution_count": null,
      "metadata": {
        "dotnet_interactive": {
          "language": "csharp"
        }
      },
      "outputs": [],
      "source": [
        "double[] p0s = new double[6];\n",
        "double[] NuLeft = new double[6];\n",
        "double[] NuRight = new double[6];\n",
        "for(int i = 0; i < p0s.Length; i++){\n",
        "\n",
        "    NuLeft[i] = Convert.ToDouble(myDb.Sessions[i].KeysAndQueries[\"NusseltNumber0\"])/1.2;\n",
        "    NuRight[i] = Convert.ToDouble(myDb.Sessions[i].KeysAndQueries[\"NusseltNumber1\"])/1.2;\n",
        "}\n",
        "for(int i = 0; i < p0s.Length; i++){\n",
        "    Console.WriteLine(i);\n",
        "    p0s[i] = myDb.Sessions[i].Timesteps.Last().Fields.Where(f=>f.Identification == \"ThermodynamicPressure\").First().GetMeanValue(0);\n",
        "\n",
        "}"
      ]
    },
    {
      "cell_type": "code",
      "execution_count": null,
      "metadata": {
        "dotnet_interactive": {
          "language": "csharp"
        }
      },
      "outputs": [],
      "source": []
    },
    {
      "cell_type": "code",
      "execution_count": null,
      "metadata": {
        "dotnet_interactive": {
          "language": "csharp"
        }
      },
      "outputs": [],
      "source": []
    },
    {
      "cell_type": "code",
      "execution_count": null,
      "metadata": {
        "dotnet_interactive": {
          "language": "csharp"
        }
      },
      "outputs": [],
      "source": []
    }
  ],
  "metadata": {
    "kernelspec": {
      "display_name": ".NET (C#)",
      "language": "C#",
      "name": ".net-csharp"
    },
    "language_info": {
      "file_extension": ".cs",
      "mimetype": "text/x-csharp",
      "name": "C#",
      "pygments_lexer": "csharp",
      "version": "8.0"
    }
  },
  "nbformat": 4,
  "nbformat_minor": 4
}

{
  "cells": [
    {
      "cell_type": "code",
      "execution_count": null,
      "metadata": {
        "dotnet_interactive": {
          "language": "csharp"
        }
      },
      "outputs": [],
      "source": [
        "// #r \".\\binaries\\bossspad.dll\"\n",
        "// #r \".\\binaries\\XNSEC.dll\"\n",
        "\n",
        "#r \"C:\\BoSSS2\\experimental\\public\\src\\L4-application\\BoSSSpad\\bin\\Release\\net5.0\\bossspad.dll\"\n",
        "// #r \"C:\\BoSSS\\experimental\\public\\src\\L4-application\\BoSSSpad\\bin\\Release\\net5.0\\bossspad.dll\"\n",
        "//#r \"C:\\BoSSS\\experimental\\public\\src\\L4-application\\BoSSSpad\\bin\\Release\\net5.0\\XNSEC.dll\"\n",
        "using System;\n",
        "using System.Collections.Generic;\n",
        "using System.Linq;\n",
        "using System.IO;\n",
        "using System.Data;\n",
        "using System.Globalization;\n",
        "using System.Threading;\n",
        "using ilPSP;\n",
        "using ilPSP.Utils;\n",
        "using BoSSS.Platform;\n",
        "using BoSSS.Foundation;\n",
        "using BoSSS.Foundation.Grid;\n",
        "using BoSSS.Foundation.Grid.Classic;\n",
        "using BoSSS.Foundation.IO;\n",
        "using BoSSS.Solution;\n",
        "using BoSSS.Solution.Control;\n",
        "using BoSSS.Solution.GridImport;\n",
        "using BoSSS.Solution.Statistic;\n",
        "using BoSSS.Solution.Utils;\n",
        "using BoSSS.Solution.Gnuplot;\n",
        "using BoSSS.Application.BoSSSpad;\n",
        "using BoSSS.Application.XNSE_Solver;\n",
        "using static BoSSS.Application.BoSSSpad.BoSSSshell;\n",
        "using BoSSS.Foundation.Grid.RefElements;\n",
        "using BoSSS.Platform.LinAlg;\n",
        "using BoSSS.Solution.NSECommon;\n",
        "Init();"
      ]
    },
    {
      "cell_type": "markdown",
      "metadata": {
        "dotnet_interactive": {
          "language": "csharp"
        }
      },
      "source": [
        "## Open Database"
      ]
    },
    {
      "cell_type": "code",
      "execution_count": null,
      "metadata": {
        "dotnet_interactive": {
          "language": "csharp"
        }
      },
      "outputs": [],
      "source": [
        "static var myDb = OpenOrCreateDatabase(@\"C:\\Databases\\BoSSS_DB\");\n",
        "// static var myDb = OpenOrCreateDatabase(@\"\\\\hpccluster\\hpccluster-scratch\\gutierrez\\Database_HeatedCavity1e5_finer___223\");"
      ]
    },
    {
      "cell_type": "code",
      "execution_count": null,
      "metadata": {
        "dotnet_interactive": {
          "language": "csharp"
        }
      },
      "outputs": [
        {
          "data": {
            "text/html": [
              "<div class=\"dni-plaintext\">256</div>"
            ]
          },
          "metadata": {},
          "output_type": "display_data"
        }
      ],
      "source": [
        "myDb.Sessions[0].KeysAndQueries[\"Grid:NoOfCells\"]"
      ]
    },
    {
      "cell_type": "code",
      "execution_count": null,
      "metadata": {
        "dotnet_interactive": {
          "language": "csharp"
        }
      },
      "outputs": [
        {
          "name": "stdout",
          "output_type": "stream",
          "text": [
            "Project name is set to 'HeatedSquareCavity'.\r\n",
            "NotSupportedException caught during creation/opening of default database: `AllowedDatabasesPaths` not specified, unable to create Database (should be specified in ~/.BoSSS/etc/BatchProcessorConfig.json)..\r\n"
          ]
        }
      ],
      "source": [
        "BoSSSshell.WorkflowMgm.Init(\"HeatedSquareCavity\");"
      ]
    },
    {
      "cell_type": "code",
      "execution_count": null,
      "metadata": {
        "dotnet_interactive": {
          "language": "csharp"
        }
      },
      "outputs": [
        {
          "name": "stdout",
          "output_type": "stream",
          "text": [
            "Starting export process... Data will be written to the directory: C:\\Users\\gutierrez\\AppData\\Local\\BoSSS\\plots\\sessions\\BackwardFacingStep__empty-session-name__27386e7c-c061-4eb5-902a-cb02276a78d6\r\n"
          ]
        },
        {
          "data": {
            "text/plain": [
              "C:\\Users\\gutierrez\\AppData\\Local\\BoSSS\\plots\\sessions\\BackwardFacingStep__empty-session-name__27386e7c-c061-4eb5-902a-cb02276a78d6"
            ]
          },
          "metadata": {},
          "output_type": "display_data"
        }
      ],
      "source": [
        "myDb.Sessions[0].Export().Do()"
      ]
    },
    {
      "cell_type": "code",
      "execution_count": null,
      "metadata": {
        "dotnet_interactive": {
          "language": "csharp"
        }
      },
      "outputs": [
        {
          "data": {
            "text/plain": [
              "#0:  { Time-step: 0; Physical time: 0s; Fields: Phi, PhiDG, VelocityX, VelocityY, Pressure, Temperature, MassFraction0, Residual-MomentumX, Residual-MomentumY, Residual-ContiEq, Residual-HeatEq, Residual-SpeciesMassBalance0, ThermodynamicPressure, Density, MixtureHeatCapacity, VelocityX@Phi, VelocityY@Phi, Velocity0X_Mean, Velocity0Y_Mean; Name:  }\r\n",
              "#1:  { Time-step: 1; Physical time: 1.7976931348623158E+304s; Fields: Phi, PhiDG, VelocityX, VelocityY, Pressure, Temperature, MassFraction0, Residual-MomentumX, Residual-MomentumY, Residual-ContiEq, Residual-HeatEq, Residual-SpeciesMassBalance0, ThermodynamicPressure, Density, MixtureHeatCapacity, VelocityX@Phi, VelocityY@Phi, Velocity0X_Mean, Velocity0Y_Mean; Name:  }\r\n"
            ]
          },
          "metadata": {},
          "output_type": "display_data"
        }
      ],
      "source": [
        "myDb.Sessions[0].Timesteps"
      ]
    },
    {
      "cell_type": "code",
      "execution_count": null,
      "metadata": {
        "dotnet_interactive": {
          "language": "csharp"
        }
      },
      "outputs": [],
      "source": [
        "// var rightvalue = sess.KeysAndQueries[\"NusseltNumber1\"];\n",
        "// var residualValue = sess.KeysAndQueries[\"NusseltNumber2\"];"
      ]
    },
    {
      "cell_type": "markdown",
      "metadata": {},
      "source": [
        "## Create grid"
      ]
    },
    {
      "cell_type": "code",
      "execution_count": null,
      "metadata": {
        "dotnet_interactive": {
          "language": "csharp"
        }
      },
      "outputs": [],
      "source": [
        "// int[] Resolutions = new int[]{ 2,3,4,5,6,7 }; //new int[]{ 10, 20 };\n",
        "// int[] DGdegree = new int[]{ 1,2,3,4 };\n",
        "int[] Resolutions = new int[]{5 }; //new int[]{ 10, 20 };\n",
        "int[] DGdegree = new int[]{ 5 };\n",
        "int[] nCells  =  Resolutions.Select(r => (int)(Math.Pow(2,r+1))).ToArray();"
      ]
    },
    {
      "cell_type": "markdown",
      "metadata": {},
      "source": []
    },
    {
      "cell_type": "code",
      "execution_count": null,
      "metadata": {
        "dotnet_interactive": {
          "language": "csharp"
        }
      },
      "outputs": [],
      "source": [
        "public static class GridFactory {\n",
        "    \n",
        " \n",
        "    public static double[] GetXNodes(int Res) {\n",
        " \n",
        "        var xNodes = GenericBlas.SinLinSpacing(-0.5, 0.5, 0, Res + 1);\n",
        "        return xNodes;\n",
        "    }\n",
        " \n",
        "    static double[] GetYNodes(int Res) {\n",
        "        double[] yNodes =  GenericBlas.SinLinSpacing(-0.5, 0.5,0, Res + 1);\n",
        "        return yNodes;\n",
        "    }\n",
        " \n",
        "    public static Grid2D GenerateGrid(int Res) { \n",
        "        var xNodes = GetXNodes(Res);\n",
        "        var yNodes = GetYNodes(Res);\n",
        "        var grd    = Grid2D.Cartesian2DGrid(xNodes, yNodes);\n",
        "        grd.EdgeTagNames.Add(1, \"NoSlipNeumann\");\n",
        "        grd.EdgeTagNames.Add(2, \"wall_tempfixed_left\");\n",
        "        grd.EdgeTagNames.Add(3, \"wall_tempfixed_right\");\n",
        "        grd.DefineEdgeTags( delegate (double[] X) {\n",
        "            double x = X[0];\n",
        "            double y = X[1];\n",
        "\n",
        "            //Edge tags\n",
        "            //1: Adiabatic no slip wall\n",
        "            //2: Temperature fixed no slip wall\n",
        "\n",
        "            //right cold wall \n",
        "            if (Math.Abs(x - 0.5) < 1e-8)\n",
        "                return 3;\n",
        "\n",
        "            //bottom adiabatic Wall\n",
        "            if (Math.Abs(y - 0.5 ) < 1e-8)\n",
        "                return 1;\n",
        "\n",
        "            // left hot wall\n",
        "            if (Math.Abs(x + 0.5) < 1e-8)\n",
        "                return 2;\n",
        "\n",
        "            //top adiabatic Wall\n",
        "            if (Math.Abs(y + 0.5 ) < 1e-8)\n",
        "                return 1;\n",
        "\n",
        "            else throw new ArgumentOutOfRangeException();\n",
        "        });\n",
        "        \n",
        "        bool force = true; \n",
        "        myDb.SaveGrid(ref grd, force );\n",
        "        \n",
        "        return grd;\n",
        "     }\n",
        " \n",
        " }"
      ]
    },
    {
      "cell_type": "code",
      "execution_count": null,
      "metadata": {
        "dotnet_interactive": {
          "language": "csharp"
        }
      },
      "outputs": [],
      "source": [
        "public static class BoundaryValueFactory { \n",
        "\n",
        "    public static string GetPrefixCode(double Th, double Tc, double Froude) {\n",
        "        using(var stw = new System.IO.StringWriter()) {\n",
        "           \n",
        "           stw.WriteLine(\"static class BoundaryValues {\");\n",
        "           stw.WriteLine(\"  static public double VelX(double[] X) {\");\n",
        "           stw.WriteLine(\"    return 0.0;\");\n",
        "           stw.WriteLine(\"  }\");\n",
        "\n",
        "           stw.WriteLine(\"  static public double VelY(double[] X) {\");\n",
        "           stw.WriteLine(\"    return 0.0;\");\n",
        "           stw.WriteLine(\"  }\");\n",
        "\n",
        "           stw.WriteLine(\"  static public double TemperatureHot(double[] X) {\");\n",
        "           stw.WriteLine(\"    return 1.6;\");\n",
        "           stw.WriteLine(\"  }\");\n",
        "\n",
        "           stw.WriteLine(\"  static public double TemperatureCold(double[] X) {\");\n",
        "           stw.WriteLine(\"    return 0.4;\");\n",
        "           stw.WriteLine(\"  }\");\n",
        "\n",
        "           stw.WriteLine(\"  static public double One(double[] X) {\");\n",
        "           stw.WriteLine(\"    return  1.0;\");\n",
        "           stw.WriteLine(\"  }\");\n",
        "\n",
        "           stw.WriteLine(\"  static public double Zero(double[] X) {\");\n",
        "           stw.WriteLine(\"    return  0.0;\");\n",
        "           stw.WriteLine(\"  }\");\n",
        "\n",
        "           stw.WriteLine(\" static public double InitialPressure(double[] X) { \");\n",
        "            stw.WriteLine(\"         return (-1)* X[1] / (\"+Froude * Froude +\") ;\");\n",
        "            stw.WriteLine(\"    }\");\n",
        "            stw.WriteLine(\"}\"); \n",
        "           return stw.ToString();\n",
        "        }\n",
        "    }\n",
        "   \n",
        "    static public Formula Get_VelX(double Th, double Tc , double Froude) {\n",
        "        return new Formula(\"BoundaryValues.VelX\", AdditionalPrefixCode:GetPrefixCode(Th,Tc,Froude));\n",
        "    }\n",
        "\n",
        "    static public Formula Get_VelY(double Th, double Tc, double Froude){\n",
        "        return new Formula(\"BoundaryValues.VelY\", AdditionalPrefixCode:GetPrefixCode(Th,Tc,Froude));\n",
        "    }\n",
        "    static public Formula Get_TemperatureHot(double Th, double Tc, double Froude){\n",
        "        return new Formula(\"BoundaryValues.TemperatureHot\", AdditionalPrefixCode:GetPrefixCode(Th,Tc,Froude));\n",
        "    }\n",
        "\n",
        "     static public Formula Get_TemperatureCold(double Th, double Tc, double Froude){\n",
        "        return new Formula(\"BoundaryValues.TemperatureCold\", AdditionalPrefixCode:GetPrefixCode(Th,Tc,Froude));\n",
        "    }\n",
        "\n",
        "    static public Formula Get_One(double Th, double Tc, double Froude){\n",
        "        return new Formula(\"BoundaryValues.One\", AdditionalPrefixCode:GetPrefixCode(Th,Tc,Froude));\n",
        "    }\n",
        "    static public Formula Get_Zero(double Th, double Tc, double Froude){\n",
        "        return new Formula(\"BoundaryValues.Zero\", AdditionalPrefixCode:GetPrefixCode(Th,Tc,Froude));\n",
        "    }\n",
        "    static public Formula Get_InitialPressure(double Th, double Tc, double Froude){\n",
        "        return new Formula(\"BoundaryValues.InitialPressure\", AdditionalPrefixCode:GetPrefixCode(Th,Tc,Froude));\n",
        "    }\n",
        "}"
      ]
    },
    {
      "cell_type": "markdown",
      "metadata": {},
      "source": [
        "## Send and run jobs"
      ]
    },
    {
      "cell_type": "code",
      "execution_count": null,
      "metadata": {
        "dotnet_interactive": {
          "language": "csharp"
        }
      },
      "outputs": [],
      "source": [
        "var controls = new List<BoSSS.Application.XNSEC.XNSEC_Control>();"
      ]
    },
    {
      "cell_type": "code",
      "execution_count": null,
      "metadata": {
        "dotnet_interactive": {
          "language": "csharp"
        }
      },
      "outputs": [],
      "source": [
        "myDb"
      ]
    },
    {
      "cell_type": "code",
      "execution_count": null,
      "metadata": {
        "dotnet_interactive": {
          "language": "csharp"
        }
      },
      "outputs": [],
      "source": [
        "var controls = new List<BoSSS.Application.XNSEC.XNSEC_Control>();\n",
        "double Th = 1.6; double Tc = 0.4;\n",
        "double Ra = 1e4;\n",
        "foreach(int dg in DGdegree){\n",
        "foreach(int Res in Resolutions) {\n",
        "\n",
        "    var C = new BoSSS.Application.XNSEC.XNSEC_Control();\n",
        "    C.SetDGdegree(dg);\n",
        "    var nCells = (int) Math.Pow(2,Res+1);\n",
        "    C.SetGrid(GridFactory.GenerateGrid(nCells));\n",
        "    C.Paramstudy_CaseIdentification.Add(new Tuple<string, object>(\"Res\", Res));\n",
        "    C.Paramstudy_CaseIdentification.Add(new Tuple<string, object>(\"Dgdegree\", dg));\n",
        "\n",
        "\n",
        "    C.EnableMassFractions = false;\n",
        "    C.NumberOfChemicalSpecies = 1;\n",
        "    C.ChemicalReactionActive = false;\n",
        "    C.MatParamsMode = MaterialParamsMode.Sutherland;\n",
        "    C.physicsMode = PhysicsMode.Combustion;\n",
        "    C.TimesteppingMode = AppControl._TimesteppingMode.Steady;\n",
        "\n",
        "\n",
        "    C.LinearSolver = LinearSolverCode.exp_Kcycle_schwarz.GetConfig();\n",
        "    C.LinearSolver.NoOfMultigridLevels = 5;\n",
        "    \n",
        "    // C.NonLinearSolver.SolverCode = NonLinearSolverCode.Newton;\n",
        "\n",
        "    C.LinearSolver = LinearSolverCode.direct_pardiso.GetConfig();\n",
        "    C.NonLinearSolver.ConvergenceCriterion = 1e-11;\n",
        "    C.LinearSolver.ConvergenceCriterion = 1e-12;\n",
        "    C.NonLinearSolver.verbose = true;\n",
        "    C.LinearSolver.verbose = false;\n",
        "    C.NonLinearSolver.MaxSolverIterations = 50;\n",
        "\n",
        "    C.PenaltyViscMomentum = 1.0 * 1;\n",
        "    C.PenaltyHeatConduction = 1.0 * 1;\n",
        "    C.PhysicalParameters.IncludeConvection = true;\n",
        "\n",
        "    C.UseSelfMadeTemporalOperator = false;\n",
        "    C.timeDerivativeEnergyp0_OK = false;\n",
        "    C.timeDerivativeConti_OK = false;\n",
        "\n",
        " \n",
        "    C.EdgeTagsNusselt = new string[] { \"wall_tempfixed_left\", \"wall_tempfixed_right\", \"NoSlipNeumann\" };\n",
        "\n",
        "    C.Rayleigh = Ra;\n",
        "    C.Reynolds = Math.Sqrt(Ra);\n",
        "    C.Prandtl = 0.71;\n",
        "    double Fr =Math.Sqrt(2 * C.Prandtl * (1.6 - 0.4) / (1.6 + 0.4)); \n",
        "    C.Froude = Fr;\n",
        "    C.HeatCapacityRatio = 1.4;\n",
        "    C.T_ref_Sutherland = 600*1+273*0;\n",
        "    C.ThermodynamicPressureMode = ThermodynamicPressureMode.MassDetermined; // Because its a closed system, i.e. p0 = p0(time)\n",
        "    C.PhysicalParameters.IncludeConvection = true;\n",
        "    C.Timestepper_LevelSetHandling         = BoSSS.Solution.XdgTimestepping.LevelSetHandling.None;\n",
        "    \n",
        "    C.SessionName = \"NaturalConvection_k\" + Res + \"_DG\" + dg; \n",
        "  \n",
        "    \n",
        "\n",
        "\n",
        "    C.AddBoundaryValue(\"NoSlipNeumann\", VariableNames.VelocityX,BoundaryValueFactory.Get_VelX(Th, Tc,Fr));\n",
        "    C.AddBoundaryValue(\"NoSlipNeumann\", VariableNames.VelocityY,BoundaryValueFactory.Get_VelY(Th, Tc,Fr));\n",
        "\n",
        "    C.AddBoundaryValue(\"wall_tempfixed_left\", VariableNames.Temperature,BoundaryValueFactory.Get_TemperatureHot(Th, Tc,Fr));\n",
        "    C.AddBoundaryValue(\"wall_tempfixed_right\", VariableNames.Temperature, BoundaryValueFactory.Get_TemperatureCold(Th, Tc,Fr));\n",
        "\n",
        "    C.AddBoundaryValue(\"wall_tempfixed_left\", VariableNames.MassFraction0, BoundaryValueFactory.Get_One(Th, Tc,Fr));\n",
        "    C.AddBoundaryValue(\"wall_tempfixed_right\", VariableNames.MassFraction0, BoundaryValueFactory.Get_One(Th, Tc,Fr));\n",
        "\n",
        "\n",
        "\n",
        "\n",
        "\n",
        "    C.AddInitialValue(VariableNames.VelocityX,  BoundaryValueFactory.Get_Zero(Th, Tc,Fr));\n",
        "    C.AddInitialValue(VariableNames.VelocityY,BoundaryValueFactory.Get_Zero(Th, Tc,Fr));\n",
        "    C.AddInitialValue(VariableNames.Pressure,BoundaryValueFactory.Get_InitialPressure(Th, Tc,Fr));\n",
        "\n",
        "    C.AddInitialValue(VariableNames.Temperature,BoundaryValueFactory.Get_One(Th, Tc,Fr));\n",
        "    C.AddInitialValue(VariableNames.MassFraction0, BoundaryValueFactory.Get_One(Th, Tc,Fr));\n",
        "\n",
        "    //C.AddInitialValu(VariableNames.Temperature, X => (Tc - Th) / 1 * X[0] + Th);\n",
        "\n",
        "    //C.AddInitialValue.Add(VariableNames.Temperature, X => X[0] * X[0] + X[1] * X[1] + 1);\n",
        "    C.AddInitialValue(VariableNames.ThermodynamicPressure,BoundaryValueFactory.Get_One(Th, Tc,Fr));\n",
        "\n",
        "\n",
        "    controls.Add(C);\n",
        "}\n",
        "}"
      ]
    },
    {
      "cell_type": "code",
      "execution_count": null,
      "metadata": {
        "dotnet_interactive": {
          "language": "csharp"
        }
      },
      "outputs": [],
      "source": [
        "Console.WriteLine(controls.Count);"
      ]
    },
    {
      "cell_type": "markdown",
      "metadata": {},
      "source": [
        "## Run Simulations"
      ]
    },
    {
      "cell_type": "code",
      "execution_count": null,
      "metadata": {
        "dotnet_interactive": {
          "language": "csharp"
        }
      },
      "outputs": [],
      "source": [
        "BoSSSshell.ExecutionQueues.ForEach(q => Console.WriteLine(q))"
      ]
    },
    {
      "cell_type": "code",
      "execution_count": null,
      "metadata": {
        "dotnet_interactive": {
          "language": "csharp"
        }
      },
      "outputs": [],
      "source": [
        "var myBatch = BoSSSshell.ExecutionQueues[3];"
      ]
    },
    {
      "cell_type": "code",
      "execution_count": null,
      "metadata": {
        "dotnet_interactive": {
          "language": "csharp"
        }
      },
      "outputs": [],
      "source": [
        "myBatch.AllowedDatabasesPaths.Add(new AllowedDatabasesPair(myDb.Path,\"\"));"
      ]
    },
    {
      "cell_type": "code",
      "execution_count": null,
      "metadata": {
        "dotnet_interactive": {
          "language": "csharp"
        }
      },
      "outputs": [],
      "source": [
        "Type solver = typeof(BoSSS.Application.XNSEC.XNSEC);\n",
        "foreach(var c in controls) {\n",
        "    string jobName       = c.SessionName;\n",
        "    var oneJob           = new Job(jobName, solver);\n",
        "    int noOfProcs = Convert.ToInt32(c.Paramstudy_CaseIdentification[0].Item2) > 2 ? 4:1;\n",
        "     noOfProcs = Convert.ToInt32(c.Paramstudy_CaseIdentification[0].Item2) > 4 ? 8:noOfProcs;\n",
        "    oneJob.NumberOfMPIProcs = noOfProcs;\n",
		"    oneJob.NumberOfThreads = 1;\n",
        "    oneJob.SetControlObject(c);\n",
        "    oneJob.Activate(myBatch); \n",
        "}"
      ]
    },
    {
      "cell_type": "code",
      "execution_count": null,
      "metadata": {
        "dotnet_interactive": {
          "language": "csharp"
        }
      },
      "outputs": [],
      "source": [
        "BoSSSshell.WorkflowMgm.BlockUntilAllJobsTerminate();"
      ]
    },
    {
      "cell_type": "markdown",
      "metadata": {
        "dotnet_interactive": {
          "language": "csharp"
        }
      },
      "source": []
    },
    {
      "cell_type": "markdown",
      "metadata": {},
      "source": [
        "## Post Processing: h-convergence study"
      ]
    },
    {
      "cell_type": "code",
      "execution_count": null,
      "metadata": {
        "dotnet_interactive": {
          "language": "csharp"
        }
      },
      "outputs": [],
      "source": [
        "var Tab = BoSSSshell.WorkflowMgm.SessionTable;"
      ]
    },
    {
      "cell_type": "markdown",
      "metadata": {},
      "source": []
    },
    {
      "cell_type": "code",
      "execution_count": null,
      "metadata": {
        "dotnet_interactive": {
          "language": "csharp"
        }
      },
      "outputs": [],
      "source": []
    },
    {
      "cell_type": "code",
      "execution_count": null,
      "metadata": {
        "dotnet_interactive": {
          "language": "csharp"
        }
      },
      "outputs": [],
      "source": [
        "BoSSSshell.WorkflowMgm.hConvergence.Update();"
      ]
    },
    {
      "cell_type": "code",
      "execution_count": null,
      "metadata": {
        "dotnet_interactive": {
          "language": "csharp"
        }
      },
      "outputs": [],
      "source": [
        "var Tab = BoSSSshell.WorkflowMgm.SessionTable; // The session table has to be created again in order to see the results from  hconvergence"
      ]
    },
    {
      "cell_type": "code",
      "execution_count": null,
      "metadata": {
        "dotnet_interactive": {
          "language": "csharp"
        }
      },
      "outputs": [],
      "source": [
        "Tab.GetColumnNames().Skip(350)"
      ]
    },
    {
      "cell_type": "code",
      "execution_count": null,
      "metadata": {
        "dotnet_interactive": {
          "language": "csharp"
        }
      },
      "outputs": [],
      "source": [
        "var Tab = BoSSSshell.WorkflowMgm.SessionTable;\n",
        "var Tab2 = Tab.ExtractColumns(\"DGdegree:Temperature\",\"Grid:hMin\",\"Grid:NoOfCells\" ,\"L2Error_Temperature\");\n",
        "//Extract last point, the one against we are comparing our solutions with\n",
        "Tab2 = Tab2.ExtractRows((iRow,RowEntries)=> Convert.ToInt32(RowEntries[\"Grid:NoOfCells\"]) !=65536 );\n",
        "Tab2 = Tab2.ExtractRows((iRow,RowEntries)=> Convert.ToInt32(RowEntries[\"Grid:NoOfCells\"]) !=64 );"
      ]
    },
    {
      "cell_type": "code",
      "execution_count": null,
      "metadata": {
        "dotnet_interactive": {
          "language": "csharp"
        }
      },
      "outputs": [],
      "source": [
        "var ErrorPlot = Tab2.ToPlot(\"Grid:hMin\",\"L2Error_Temperature\", \"DGdegree:Temperature\");\n",
        "ErrorPlot.LogX = true;\n",
        "ErrorPlot.LogY = true;"
      ]
    },
    {
      "cell_type": "code",
      "execution_count": null,
      "metadata": {
        "dotnet_interactive": {
          "language": "csharp"
        }
      },
      "outputs": [],
      "source": [
        "ErrorPlot.PlotNow()     // No semicolon!!"
      ]
    },
    {
      "cell_type": "code",
      "execution_count": null,
      "metadata": {
        "dotnet_interactive": {
          "language": "csharp"
        }
      },
      "outputs": [],
      "source": [
        "ErrorPlot.Regression()"
      ]
    },
    {
      "cell_type": "code",
      "execution_count": null,
      "metadata": {
        "dotnet_interactive": {
          "language": "csharp"
        }
      },
      "outputs": [],
      "source": [
        "// string dataPathResultsBase = @\"C:\\Users\\Gutierrez\\Documents\\data\\convergenceProblemData\\\" ;\n",
        "string dataPathResultsBase = @\"C:\\Users\\gutierrez\\Dropbox\\CombustionDGPaper\\Paper\\data\\HSC_convstudy_XNSEC\";\n",
        "string folderpath          = dataPathResultsBase ;// + ending +\"LowTemp\"+ @\"\\\";\n",
        "System.IO.Directory.CreateDirectory(folderpath); // Create folder for storing data"
      ]
    },
    {
      "cell_type": "code",
      "execution_count": null,
      "metadata": {
        "dotnet_interactive": {
          "language": "csharp"
        }
      },
      "outputs": [],
      "source": [
        "// string[] varnames = new string[]{\"VelocityX\",\"VelocityY\",\"Temperature\", \"Pressure\", \"ThermodynamicPressure\" };// \n",
        "string[] varnames = new string[]{\"Pressure\", \"ThermodynamicPressure\" };// \n",
        "\n",
        "foreach (var varname in varnames) {\n",
        "    foreach (int pDeg in DGdegree) {\n",
        "       var pDegSessions = myDb.Sessions.Where(\n",
        "            Si => (Convert.ToInt32(Si.KeysAndQueries[\"DGdegree:Velocity*\"]) == pDeg) \n",
        "         ).ToArray();\n",
        "        Plot2Ddata pDegPlot =\n",
        "         pDegSessions.ToEstimatedGridConvergenceData(varname,\n",
        "           xAxis_Is_hOrDof: true, // false selects DOFs for x-axis \n",
        "           normType: NormType.L2_embedded );\n",
        "            //Saving to a txt file\n",
        "        pDegPlot.SaveTextFileToPublish(folderpath+\"\\\\\"+  varname + \"DG\" + pDeg, false);\n",
        "        Console.WriteLine(folderpath+\"\\\\\"+  varname + \"DG\" + pDeg);\n",
        "    }\n",
        "}\n"
      ]
    },
    {
      "cell_type": "code",
      "execution_count": null,
      "metadata": {
        "dotnet_interactive": {
          "language": "csharp"
        }
      },
      "outputs": [],
      "source": [
        "myDb.Sessions"
      ]
    },
    {
      "cell_type": "code",
      "execution_count": null,
      "metadata": {
        "dotnet_interactive": {
          "language": "csharp"
        }
      },
      "outputs": [],
      "source": [
        "var db2 = OpenOrCreateDatabase(@\"C:\\Databases\\BoSSS_DB\");"
      ]
    },
    {
      "cell_type": "code",
      "execution_count": null,
      "metadata": {
        "dotnet_interactive": {
          "language": "csharp"
        }
      },
      "outputs": [],
      "source": [
        "db2.Sessions[0]"
      ]
    },
    {
      "cell_type": "code",
      "execution_count": null,
      "metadata": {
        "dotnet_interactive": {
          "language": "csharp"
        }
      },
      "outputs": [],
      "source": []
    }
  ],
  "metadata": {
    "kernelspec": {
      "display_name": ".NET (C#)",
      "language": "C#",
      "name": ".net-csharp"
    },
    "language_info": {
      "file_extension": ".cs",
      "mimetype": "text/x-csharp",
      "name": "C#",
      "pygments_lexer": "csharp",
      "version": "8.0"
    }
  },
  "nbformat": 4,
  "nbformat_minor": 4
}

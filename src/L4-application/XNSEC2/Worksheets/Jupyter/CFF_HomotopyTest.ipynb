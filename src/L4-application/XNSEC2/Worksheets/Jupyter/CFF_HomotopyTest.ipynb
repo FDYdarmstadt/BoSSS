{
  "cells": [
    {
      "cell_type": "code",
      "execution_count": null,
      "source": [
        "// #r \".\\binaries2\\bossspad.dll\"\r\n",
        "// #r \".\\binaries2\\XNSEC.dll\"\r\n",
        "// #r \"C:\\BoSSS_Binaries\\bossspad.dll\"\r\n",
        "// #r \"C:\\BoSSS_Binaries\\XNSEC.dll\"\r\n",
        "#r \"C:\\BoSSS\\experimental\\public\\src\\L4-application\\BoSSSpad\\bin\\Release\\net5.0\\bossspad.dll\"\r\n",
        "#r \"C:\\BoSSS\\experimental\\public\\src\\L4-application\\BoSSSpad\\bin\\Release\\net5.0\\XNSEC.dll\"\r\n",
        "using System;\r\n",
        "using System.Collections.Generic;\r\n",
        "using System.Linq;\r\n",
        "using System.IO;\r\n",
        "using System.Data;\r\n",
        "using System.Globalization;\r\n",
        "using System.Threading;\r\n",
        "using ilPSP;\r\n",
        "using ilPSP.Utils;\r\n",
        "using BoSSS.Platform;\r\n",
        "using BoSSS.Foundation;\r\n",
        "using BoSSS.Foundation.Grid;\r\n",
        "using BoSSS.Foundation.Grid.Classic;\r\n",
        "using BoSSS.Foundation.IO;\r\n",
        "using BoSSS.Solution;\r\n",
        "using BoSSS.Solution.Control;\r\n",
        "using BoSSS.Solution.GridImport;\r\n",
        "using BoSSS.Solution.Statistic;\r\n",
        "using BoSSS.Solution.Utils;\r\n",
        "using BoSSS.Solution.Gnuplot;\r\n",
        "using BoSSS.Application.BoSSSpad;\r\n",
        "using BoSSS.Application.XNSE_Solver;\r\n",
        "using static BoSSS.Application.BoSSSpad.BoSSSshell;\r\n",
        "using BoSSS.Foundation.Grid.RefElements;\r\n",
        "using BoSSS.Platform.LinAlg;\r\n",
        "using BoSSS.Solution.NSECommon;\r\n",
        "using BoSSS.Application.XNSEC;\r\n",
        "Init();"
      ],
      "outputs": [],
      "metadata": {
        "dotnet_interactive": {
          "language": "csharp"
        }
      }
    },
    {
      "cell_type": "markdown",
      "source": [
        "## Case configuration"
      ],
      "metadata": {}
    },
    {
      "cell_type": "code",
      "execution_count": null,
      "source": [
        "int nCells = 8;\r\n",
        "int dg = 2;\r\n",
        "// double[] multiplierS = new double[] {1.0,2.0,3.0,4.0,5.0,6.0,7.0,8.0,9.0,10.0};\r\n",
        "// double[] multiplierS = new double[] {1.0,2.0};\r\n",
        "// int[] multiplierS = new int[]{1,4,6,8,10,14};\r\n",
        "int[] multiplierS = new int[]{1,2,3,4,5,6,7,8,9,10,11,12,13,14};\r\n",
        "\r\n",
        "// int[] multiplierS = new int[]{4};\r\n",
        "\r\n",
        "double InitialMassFuelIn = 0.02400; //kg/m2s \r\n",
        "double InitialMassAirIn = 0.02400 *3; //kg/m2s \r\n",
        "bool parabolicVelocityProfile = false;\r\n",
        "bool chemicalReactionActive = true; \r\n",
        "int numberOfMpiCores = 8;\r\n",
        "bool useFullGeometry = false;\r\n",
        "bool wallBounded = true;\r\n",
        "bool AMRinEachNewtonIteration = true;"
      ],
      "outputs": [],
      "metadata": {
        "dotnet_interactive": {
          "language": "csharp"
        }
      }
    },
    {
      "cell_type": "markdown",
      "source": [
        "## Open Database"
      ],
      "metadata": {
        "dotnet_interactive": {
          "language": "csharp"
        }
      }
    },
    {
      "cell_type": "code",
      "execution_count": null,
      "source": [
        "static var myDb = OpenOrCreateDatabase(@\"\\\\hpccluster\\hpccluster-scratch\\gutierrez\\CDF_HomotopyTest\");\r\n",
        "// static var myDb = OpenOrCreateDatabase(@\"C:\\Databases\\CDF_NoCombustionStrainSweep_\");\r\n",
        "// myDb.Summary()"
      ],
      "outputs": [],
      "metadata": {
        "dotnet_interactive": {
          "language": "csharp"
        }
      }
    },
    {
      "cell_type": "code",
      "execution_count": null,
      "source": [],
      "outputs": [],
      "metadata": {
        "dotnet_interactive": {
          "language": "csharp"
        }
      }
    },
    {
      "cell_type": "code",
      "execution_count": null,
      "source": [
        "BoSSSshell.WorkflowMgm.Init(\"CounterFlowFlame2\");\r\n",
        "// BoSSSshell.WorkflowMgm.SetNameBasedSessionJobControlCorrelation();\r\n",
        "BoSSSshell.WorkflowMgm.Sessions\r\n"
      ],
      "outputs": [
        {
          "output_type": "display_data",
          "data": {
            "text/plain": []
          },
          "metadata": {}
        }
      ],
      "metadata": {
        "dotnet_interactive": {
          "language": "csharp"
        }
      }
    },
    {
      "cell_type": "code",
      "execution_count": null,
      "source": [
        "var myBatch = BoSSSshell.ExecutionQueues[3];\r\n",
        "// MiniBatchProcessor.Server.StartIfNotRunning(true);\r\n",
        "myBatch.AllowedDatabasesPaths.Add(new AllowedDatabasesPair(myDb.Path,\"\"));"
      ],
      "outputs": [],
      "metadata": {
        "dotnet_interactive": {
          "language": "csharp"
        }
      }
    },
    {
      "cell_type": "code",
      "execution_count": null,
      "source": [
        "1+1"
      ],
      "outputs": [
        {
          "output_type": "display_data",
          "data": {
            "text/html": [
              "<div class=\"dni-plaintext\">2</div>"
            ]
          },
          "metadata": {}
        }
      ],
      "metadata": {
        "dotnet_interactive": {
          "language": "csharp"
        }
      }
    },
    {
      "cell_type": "markdown",
      "source": [
        "## Create grid"
      ],
      "metadata": {}
    },
    {
      "cell_type": "code",
      "execution_count": null,
      "source": [
        "public static class GridFactory {\r\n",
        "\r\n",
        "    public static Grid2D GenerateGrid(int nCells, bool wallBounded) {\r\n",
        "        double L = 0.02;\r\n",
        "        double LRef = L;\r\n",
        "        double R_dim = L / 2;\r\n",
        "        double separation = 1.0; // nondimensional\r\n",
        "        double xleft = 0;\r\n",
        "        double xright = separation;\r\n",
        "        double radius_inlet = R_dim / LRef;\r\n",
        "        double ybot = -separation * 3; \r\n",
        "        double ytop = separation * 3; \r\n",
        "\r\n",
        "        // Define Grid\r\n",
        "        double[] _xNodes;\r\n",
        "        double[] _yNodes;\r\n",
        "\r\n",
        "        // X-NODES\r\n",
        "        double xNodesDensity = 6.0; \r\n",
        "        _xNodes = GenericBlas.Linspace(xleft, xright, (int)(nCells * xNodesDensity + 1));\r\n",
        "        // Y-NODES\r\n",
        "        double sf3 = 0.80;\r\n",
        "        var _yNodes2 = GenericBlas.Linspace(-radius_inlet, radius_inlet, nCells*2 + 1).ToList(); // center\r\n",
        "        Console.WriteLine(_yNodes2);\r\n",
        "        List<double> yNodesTop = (GenericBlas.SinLinSpacing(radius_inlet, (ytop - radius_inlet) * 2 + radius_inlet, sf3, nCells * 2 + 1).ToList()); // Nodes corresponding to the oxidizer inlet, right part\r\n",
        "        var myYnodesTop = yNodesTop.GetSubVector(0, yNodesTop.Count / 2 + 1); // Take only \"bottom side\" of node array\r\n",
        "        var myYNodesBot = myYnodesTop.CloneAs();\r\n",
        "        myYNodesBot.ScaleV(-1.0);\r\n",
        "        Array.Reverse(myYNodesBot);\r\n",
        "        List<double> list2 = new List<double>();\r\n",
        "        list2.AddRange(myYNodesBot.Take(myYNodesBot.Length - 1).ToList());\r\n",
        "        list2.AddRange(_yNodes2.Take(_yNodes2.Count() - 1).ToList());\r\n",
        "        list2.AddRange(myYnodesTop.ToList());\r\n",
        "        _yNodes = list2.ToArray();\r\n",
        "\r\n",
        "        var grd = Grid2D.Cartesian2DGrid(_xNodes, _yNodes);\r\n",
        "\r\n",
        "        // Define Edge tags\r\n",
        "        grd.EdgeTagNames.Add(1, \"Velocity_Inlet_CH4\");\r\n",
        "        grd.EdgeTagNames.Add(2, \"Velocity_Inlet_O2\");\r\n",
        "        grd.EdgeTagNames.Add(3, \"Pressure_Outlet\");\r\n",
        "\r\n",
        "        if(wallBounded){\r\n",
        "            grd.EdgeTagNames.Add(4, \"Wall\");\r\n",
        "        }\r\n",
        "        grd.DefineEdgeTags(delegate (double[] X) {\r\n",
        "            double x = X[0];\r\n",
        "            double y = X[1];\r\n",
        "            //Edge tags\r\n",
        "            //1: Velocity inlet O_2\r\n",
        "            //2: Velocity inlet CH_4\r\n",
        "            //3: Pressure outlet\r\n",
        "            if(Math.Abs(x - xleft) < 1e-8) { // Left boundary\r\n",
        "                if(Math.Abs(y) - radius_inlet < 1e-8) { // Fuel Inlet\r\n",
        "                    return 1;\r\n",
        "                } else {\r\n",
        "                    if(wallBounded){\r\n",
        "                    return 4;\r\n",
        "                } else{\r\n",
        "                    return 3;\r\n",
        "                }\r\n",
        "                }\r\n",
        "            }\r\n",
        "            if(Math.Abs(x - xright) < 1e-8) { // right boundary\r\n",
        "                if(Math.Abs(y) - radius_inlet < 1e-8) { // oxy Inlet\r\n",
        "                    return 2;//2\r\n",
        "                } else {\r\n",
        "                    if(wallBounded){\r\n",
        "                        return 4;\r\n",
        "                    } else{\r\n",
        "                        return 3;\r\n",
        "                    }\r\n",
        "                }\r\n",
        "            } else {\r\n",
        "                return 3; //3 Pressure outlet\r\n",
        "            }\r\n",
        "        });\r\n",
        "        myDb.SaveGrid(ref grd, true);\r\n",
        "\r\n",
        "        return grd;\r\n",
        "    }\r\n",
        "\r\n",
        "    public static Grid2D GenerateGrid_FullGeometry(int nCells) {\r\n",
        "        double L = 0.02;\r\n",
        "        double LRef = L;\r\n",
        "        double R_dim = L / 2;\r\n",
        "        double separation = 1.0; // nondimensional\r\n",
        "        double xleft = 0;\r\n",
        "        double xright = separation;\r\n",
        "        double radius_inlet = R_dim / LRef;\r\n",
        "        double ybot = -separation * 3; //\r\n",
        "        double ytop = separation * 3;//\r\n",
        "\r\n",
        "        // Define Grid\r\n",
        "        double[] _xNodes;\r\n",
        "        double[] _yNodes;\r\n",
        "\r\n",
        "         // X-NODES\r\n",
        "        double[] XNODES1 = GenericBlas.Linspace(0, separation, (int)(nCells / 2 + 1));\r\n",
        "        double[] XNODES2 = GenericBlas.Linspace(separation * 1, separation * 2, (int)(nCells + 1));\r\n",
        "        double[] XNODES3 = GenericBlas.Linspace(separation * 2, separation * 3, (int)(nCells / 2 + 1));\r\n",
        "        List<double> xNodesList = new List<double>();\r\n",
        "        xNodesList.AddRange(XNODES1.Take(XNODES1.Length - 1));\r\n",
        "        xNodesList.AddRange(XNODES2.Take(XNODES2.Length - 1));\r\n",
        "        xNodesList.AddRange(XNODES3);\r\n",
        "        _xNodes = xNodesList.ToArray();\r\n",
        "\r\n",
        "        // Y-NODES\r\n",
        "        double sf3 = 0.80;\r\n",
        "        var _yNodes2 = GenericBlas.Linspace(-radius_inlet, radius_inlet, nCells + 1).ToList(); // center\r\n",
        "        List<double> yNodesTop = (GenericBlas.SinLinSpacing(radius_inlet, (ytop - radius_inlet) * 2 + radius_inlet, sf3, nCells * 2 + 1).ToList()); // Nodes corresponding to the oxidizer inlet, right part\r\n",
        "        var myYnodesTop = yNodesTop.GetSubVector(0, yNodesTop.Count / 2 + 1); // Take only \"bottom side\" of node array\r\n",
        "        var myYNodesBot = myYnodesTop.CloneAs();\r\n",
        "        myYNodesBot.ScaleV(-1.0);\r\n",
        "        Array.Reverse(myYNodesBot);\r\n",
        "        List<double> list2 = new List<double>();\r\n",
        "        list2.AddRange(myYNodesBot.Take(myYNodesBot.Length - 1).ToList());\r\n",
        "        list2.AddRange(_yNodes2.Take(_yNodes2.Count() - 1).ToList());\r\n",
        "        list2.AddRange(myYnodesTop.ToList());\r\n",
        "        _yNodes = list2.ToArray();\r\n",
        "\r\n",
        "        double[] CutOut1Point1 = new double[2] { separation, separation / 2 };\r\n",
        "        double[] CutOut1Point2 = new double[2] { 0, -separation / 2 };\r\n",
        "\r\n",
        "        double[] CutOut2Point1 = new double[2] { 2 * separation, -separation / 2 };\r\n",
        "        double[] CutOut2Point2 = new double[2] { 3 * separation, separation / 2 };\r\n",
        "\r\n",
        "        var CutOut1 = new BoSSS.Platform.Utils.Geom.BoundingBox(2);\r\n",
        "        CutOut1.AddPoint(CutOut1Point1);\r\n",
        "        CutOut1.AddPoint(CutOut1Point2);\r\n",
        "\r\n",
        "        var CutOut2 = new BoSSS.Platform.Utils.Geom.BoundingBox(2);\r\n",
        "        CutOut2.AddPoint(CutOut2Point1);\r\n",
        "        CutOut2.AddPoint(CutOut2Point2);\r\n",
        "        var CutOuts = new BoSSS.Platform.Utils.Geom.BoundingBox[] { CutOut1, CutOut2 };\r\n",
        "        var grd = Grid2D.Cartesian2DGrid(_xNodes, _yNodes, CutOuts: CutOuts);\r\n",
        "\r\n",
        "        grd.EdgeTagNames.Add(1, \"Velocity_Inlet_CH4\");\r\n",
        "        grd.EdgeTagNames.Add(2, \"Velocity_Inlet_O2\");\r\n",
        "        grd.EdgeTagNames.Add(3, \"Pressure_Outlet\");\r\n",
        "        grd.EdgeTagNames.Add(4, \"Wall\");\r\n",
        "\r\n",
        "        grd.DefineEdgeTags(delegate (double[] X) {\r\n",
        "            double x = X[0];\r\n",
        "            double y = X[1];\r\n",
        "            //Edge tags\r\n",
        "            //1: Velocity inlet O_2\r\n",
        "            //2: Velocity inlet CH_4\r\n",
        "            //3: Pressure outlet\r\n",
        "            if(Math.Abs(x - separation) < 1e-8 && Math.Abs(y) - radius_inlet < 1e-8) {\r\n",
        "                return 1;\r\n",
        "            }\r\n",
        "            if(Math.Abs(x - 2 * separation) < 1e-8 && Math.Abs(y) - radius_inlet < 1e-8) {\r\n",
        "                return 2;\r\n",
        "            }\r\n",
        "            if(Math.Abs(y - radius_inlet) < 1e-8 && x > 0 && x < separation) {\r\n",
        "                return 4;\r\n",
        "            }\r\n",
        "            if(Math.Abs(y - radius_inlet) < 1e-8 && x > 2 * separation && x < 3 * separation) {\r\n",
        "                return 4;\r\n",
        "            }\r\n",
        "            if(Math.Abs(y + radius_inlet) < 1e-8 && x > 0 && x < separation) {\r\n",
        "                return 4;\r\n",
        "            }\r\n",
        "            if(Math.Abs(y + radius_inlet) < 1e-8 && x > 2 * separation && x < 3 * separation) {\r\n",
        "                return 4;\r\n",
        "            }\r\n",
        "            return 3;\r\n",
        "        }\r\n",
        "        );\r\n",
        "        myDb.SaveGrid(ref grd, true);\r\n",
        "\r\n",
        "        return grd;\r\n",
        "    }\r\n",
        "}"
      ],
      "outputs": [],
      "metadata": {
        "dotnet_interactive": {
          "language": "csharp"
        }
      }
    },
    {
      "cell_type": "code",
      "execution_count": null,
      "source": [
        "public static class BoundaryValueFactory { \r\n",
        "\r\n",
        "    public static string GetPrefixCode(double ConstVal, double inletRadius, double uInFuel, double uInAir) {\r\n",
        "        using(var stw = new System.IO.StringWriter()) {\r\n",
        "           \r\n",
        "           stw.WriteLine(\"static class BoundaryValues {\");\r\n",
        "\r\n",
        "           stw.WriteLine(\"  static public double ConstantValue(double[] X) {\");\r\n",
        "           stw.WriteLine(\"    return \"+ ConstVal +\";\");\r\n",
        "           stw.WriteLine(\"  }\");\r\n",
        "\r\n",
        "           stw.WriteLine(\"  static public double ParabolaVelocityFuel(double[] X) {\");\r\n",
        "           stw.WriteLine(\"    return  (1.0 - Math.Pow(X[1] / \"+inletRadius+\", 2)) * \"+uInFuel+\" ;\");\r\n",
        "           stw.WriteLine(\"  }\");\r\n",
        "           \r\n",
        "           stw.WriteLine(\"  static public double ParabolaVelocityAir(double[] X) {\");\r\n",
        "           stw.WriteLine(\"    return  -(1.0 - Math.Pow(X[1] / \"+inletRadius+\", 2)) * \"+uInAir+\";\");\r\n",
        "           stw.WriteLine(\"  }\");\r\n",
        "           \r\n",
        "       \r\n",
        "            stw.WriteLine(\"}\"); \r\n",
        "           return stw.ToString();\r\n",
        "        }\r\n",
        "    }\r\n",
        "\r\n",
        "    static public Formula Get_ConstantValue(double ConstVal, double inletRadius, double uInFuel, double uInAir){\r\n",
        "        return new Formula(\"BoundaryValues.ConstantValue\", AdditionalPrefixCode:GetPrefixCode(ConstVal, inletRadius, uInFuel, uInAir));\r\n",
        "    }\r\n",
        "\r\n",
        "    static public Formula Get_ParabolaVelocityFuel(double ConstVal, double inletRadius, double uInFuel, double uInAir){\r\n",
        "        return new Formula(\"BoundaryValues.ParabolaVelocityFuel\", AdditionalPrefixCode:GetPrefixCode(ConstVal, inletRadius, uInFuel, uInAir));\r\n",
        "    }\r\n",
        "    static public Formula Get_ParabolaVelocityAir(double ConstVal, double inletRadius, double uInFuel, double uInAir){\r\n",
        "        return new Formula(\"BoundaryValues.ParabolaVelocityAir\", AdditionalPrefixCode:GetPrefixCode(ConstVal, inletRadius, uInFuel, uInAir));\r\n",
        "    }\r\n",
        "}"
      ],
      "outputs": [],
      "metadata": {
        "dotnet_interactive": {
          "language": "csharp"
        }
      }
    },
    {
      "cell_type": "markdown",
      "source": [
        "A base control file, where basic configuration of the CounterDiffusionFlame is defined."
      ],
      "metadata": {}
    },
    {
      "cell_type": "code",
      "execution_count": null,
      "source": [
        "static XNSEC_Control GiveMeTheCtrlFile(int dg, int nCells, bool isMF, double massFuelIn, double massAirIn, bool parabolicVelocityProfile, bool UsefullGeometry, bool wallBounded) {\r\n",
        "    var CC = new ChemicalConstants();\r\n",
        "\r\n",
        "    var C = isMF ? new XNSEC_MF_Control() : new XNSEC_Control();\r\n",
        "\r\n",
        "    C.NumberOfChemicalSpecies = 4; \r\n",
        "    C.SetDGdegree(dg); //\r\n",
        "    if(UsefullGeometry) {\r\n",
        "        C.SetGrid(GridFactory.GenerateGrid_FullGeometry(nCells));  //\r\n",
        "    } else {\r\n",
        "        C.SetGrid(GridFactory.GenerateGrid(nCells, wallBounded));  //\r\n",
        "    }\r\n",
        "\r\n",
        "    C.MatParamsMode = MaterialParamsMode.Sutherland;  //\r\n",
        "    // Problem Definition\r\n",
        "    //===================\r\n",
        "    double L = 0.02; // separation between the two inlets, meters\r\n",
        "    double TemperatureInFuel = 300;  //\r\n",
        "    double TemperatureInOxidizer = 300; //\r\n",
        "    double AtmPressure = 101325; // Pa\r\n",
        "    double[] FuelInletConcentrations = new double[] { 0.2, 0.0, 0.0, 0.0, 0.8 };\r\n",
        "    double[] OxidizerInletConcentrations = new double[] { 0.0, 0.23, 0.0, 0.0, 0.77 }; //\r\n",
        "    double[] MWs = new double[] { CC.MW_CH4, CC.MW_O2, CC.MW_CO2, CC.MW_H2O, CC.MW_N2 };\r\n",
        "\r\n",
        "    double mwFuel = CC.getAvgMW(MWs, FuelInletConcentrations);\r\n",
        "    double mwAir = CC.getAvgMW(MWs, OxidizerInletConcentrations);\r\n",
        "    double densityAirIn = AtmPressure * mwAir / (CC.R_gas * TemperatureInOxidizer * 1000); // kg / m3\r\n",
        "    double densityFuelIn = AtmPressure * mwFuel / (CC.R_gas * TemperatureInFuel * 1000); // kg / m3.\r\n",
        "    double uInFuel = massFuelIn / densityFuelIn; //\r\n",
        "    double uInAir = massAirIn / densityAirIn; //\r\n",
        "\r\n",
        "    Console.WriteLine(\"VelocityFuel\" + uInFuel);\r\n",
        "    Console.WriteLine(\"VelocityAir\" + uInAir);\r\n",
        "\r\n",
        "    // Reference values\r\n",
        "    //===================\r\n",
        "    // Basic units to be used: Kg, m, s, mol, pa,\r\n",
        "    double TRef = TemperatureInOxidizer;// Reference temperature  is the inlet temperature, (K)\r\n",
        "    double pRef = AtmPressure; // Pa\r\n",
        "    double uRef = Math.Max(uInFuel, uInAir); // m/s\r\n",
        "    double LRef = L;\r\n",
        "    C.GravityDirection = new double[] { 0.0, 0.0, 0.0 }; //No gravity.\r\n",
        "\r\n",
        "    // Solver configuration\r\n",
        "    // =======================\r\n",
        "\r\n",
        "    C.NonLinearSolver.ConvergenceCriterion = 1e-8;\r\n",
        "    C.LinearSolver.ConvergenceCriterion = 1e-10;\r\n",
        "\r\n",
        "    C.NonLinearSolver.verbose = true;\r\n",
        "    C.NonLinearSolver.SolverCode = NonLinearSolverCode.Newton;\r\n",
        "    C.NonLinearSolver.MaxSolverIterations = 10;\r\n",
        "    C.LinearSolver = LinearSolverCode.direct_pardiso.GetConfig();\r\n",
        "\r\n",
        "    C.TimesteppingMode = AppControl._TimesteppingMode.Steady;\r\n",
        "    C.saveperiod = 1;\r\n",
        "    C.PenaltyViscMomentum = 1.0;\r\n",
        "    C.PenaltyHeatConduction = 1.0;\r\n",
        "    C.YFuelInlet = FuelInletConcentrations[0];\r\n",
        "    C.YOxInlet = OxidizerInletConcentrations[1];\r\n",
        "    C.FuelInletConcentrations = FuelInletConcentrations;\r\n",
        "    C.OxidizerInletConcentrations = OxidizerInletConcentrations;\r\n",
        "    C.TFuelInlet = 1.0;\r\n",
        "    C.TOxInlet = 1.0;\r\n",
        "    C.PhysicalParameters.IncludeConvection = true;\r\n",
        "    // Chemical related parameters\r\n",
        "    double s = (CC.nu_O2 * CC.MW_O2) / (CC.nu_CH4 * CC.MW_CH4);\r\n",
        "    C.phi = s * C.YFuelInlet / C.YOxInlet;\r\n",
        "    C.zSt = 1.0 / (1.0 + C.phi);\r\n",
        "    var MLC = new MaterialLawCombustion(300, new double[] { }, C.MatParamsMode, C.rhoOne, true, 1.0, 1, 1, C.YOxInlet, C.YFuelInlet, C.zSt, CC, 0.75);\r\n",
        "    var ThermoProperties = new ThermodynamicalProperties();\r\n",
        "\r\n",
        "\r\n",
        "\r\n",
        "    bool easymode = false;\r\n",
        "\r\n",
        "    if (easymode){\r\n",
        "    C.rhoOne = true;\r\n",
        "    C.cpOne = true;\r\n",
        "    C.MatParamsMode = MaterialParamsMode.Constant; \r\n",
        "\r\n",
        "    } \r\n",
        "\r\n",
        "\r\n",
        "\r\n",
        "\r\n",
        "\r\n",
        "\r\n",
        "    //==========================\r\n",
        "    //Derived reference values\r\n",
        "    //==========================\r\n",
        "    C.uRef = uRef; // Reference velocity\r\n",
        "    C.LRef = LRef; // reference length\r\n",
        "    C.pRef = AtmPressure; // reference pressure\r\n",
        "    C.TRef = TemperatureInFuel;// reference temperature\r\n",
        "    C.MWRef = MLC.getAvgMW(MWs, C.OxidizerInletConcentrations); // Air mean molecular weight\r\n",
        "    C.rhoRef = C.pRef * C.MWRef / (8.314 * C.TRef * 1000); // Kg/m3. ok ;\r\n",
        "    C.cpRef = 1.3;//ThermoProperties.Calculate_Cp_Mixture(new double[] { 0.23, 0.77 }, new string[] { \"O2\", \"N2\" }, 300); // 1.219185317353029;// Representative value, KJ/Kg K ========> 1.31 for the one-step kinetic model\r\n",
        "    C.muRef = MLC.getViscosityDim(300);\r\n",
        "    C.MolarMasses = new double[] { C.CC.MW_CH4, C.CC.MW_O2, C.CC.MW_CO2, C.CC.MW_H2O, C.CC.MW_N2 };\r\n",
        "    C.MolarMasses.ScaleV(1.0 / C.MWRef); //NonDimensionalized Molar masses\r\n",
        "\r\n",
        "    double heatRelease_Ref = (C.TRef * C.cpRef);\r\n",
        "    C.HeatRelease = C.CC.HeatReleaseMass / heatRelease_Ref;\r\n",
        "    C.B = CC.PreExponentialFactor;\r\n",
        "\r\n",
        "    C.StoichiometricCoefficients = new double[] { -1, -2, 1, 2, 0 };\r\n",
        "\r\n",
        "    C.Damk = C.rhoRef * C.LRef * C.B / (C.uRef * C.MWRef);\r\n",
        "    C.Reynolds = C.rhoRef * C.uRef * C.LRef / C.muRef;\r\n",
        "    C.Prandtl = 1.0;//0.75;////////////////////0.75;\r\n",
        "    C.Schmidt = C.Prandtl; // Because Lewis number  is assumed as 1.0  (Le = Pr/Sc)\r\n",
        "    // C.Lewis = new double[] { 0.97, 1.11, 1.39, 0.83, 1.0 };\r\n",
        "    C.Lewis = new double[] { 1.0, 1.0, 1.0, 1.0, 1.0 };\r\n",
        "\r\n",
        "    double g = 9.8; // m/s2\r\n",
        "    C.Froude = Math.Sqrt(uRef * uRef / (C.LRef * g)); // Not used\r\n",
        "    C.T_ref_Sutherland = 300; //////// Check this\r\n",
        "    C.ReactionRateConstants = new double[] { C.Damk, CC.Ta / TRef, 1.0, 1.0 }; // NOTE! activation temperature is also nondimensional\r\n",
        "    //==========================\r\n",
        "    // Initial conditions\r\n",
        "    //==========================\r\n",
        "    double Radius = 0.5;\r\n",
        "    C.AddInitialValue(VariableNames.VelocityX, BoundaryValueFactory.Get_ConstantValue(0.0, Radius, uInFuel / C.uRef, uInAir / C.uRef));\r\n",
        "    C.AddInitialValue(VariableNames.VelocityY, BoundaryValueFactory.Get_ConstantValue(0.0, Radius, uInFuel / C.uRef, uInAir / C.uRef));\r\n",
        "    C.AddInitialValue(VariableNames.Pressure, BoundaryValueFactory.Get_ConstantValue(0.0, Radius, uInFuel / C.uRef, uInAir / C.uRef));\r\n",
        "    //==========================\r\n",
        "    // Boundary conditions\r\n",
        "    //==========================\r\n",
        "    double dummy = 0;\r\n",
        "    if(parabolicVelocityProfile) {\r\n",
        "        C.AddBoundaryValue(\"Velocity_Inlet_CH4\", VariableNames.Velocity_d(0), BoundaryValueFactory.Get_ParabolaVelocityFuel(dummy, Radius, uInFuel / C.uRef, dummy));\r\n",
        "        C.AddBoundaryValue(\"Velocity_Inlet_O2\", VariableNames.Velocity_d(0), BoundaryValueFactory.Get_ParabolaVelocityAir(dummy, Radius, dummy, uInAir / C.uRef));\r\n",
        "    } else { // Plug Flow\r\n",
        "        C.AddBoundaryValue(\"Velocity_Inlet_CH4\", VariableNames.Velocity_d(0), BoundaryValueFactory.Get_ConstantValue(uInFuel / C.uRef, dummy, dummy, dummy));\r\n",
        "        C.AddBoundaryValue(\"Velocity_Inlet_O2\", VariableNames.Velocity_d(0), BoundaryValueFactory.Get_ConstantValue((-1) * uInAir / C.uRef, dummy, dummy, dummy));\r\n",
        "    }\r\n",
        "\r\n",
        "    C.AddBoundaryValue(\"Velocity_Inlet_CH4\", VariableNames.Velocity_d(1), BoundaryValueFactory.Get_ConstantValue(0.0, dummy, dummy, dummy));\r\n",
        "    C.AddBoundaryValue(\"Velocity_Inlet_O2\", VariableNames.Velocity_d(1), BoundaryValueFactory.Get_ConstantValue(0.0, dummy, dummy, dummy));\r\n",
        "    if(wallBounded){\r\n",
        "        C.AddBoundaryValue(\"Wall\", VariableNames.VelocityX, BoundaryValueFactory.Get_ConstantValue(0.0, dummy, dummy, dummy));\r\n",
        "        C.AddBoundaryValue(\"Wall\", VariableNames.VelocityY, BoundaryValueFactory.Get_ConstantValue(0.0, dummy, dummy, dummy));\r\n",
        "    }\r\n",
        "    return C;\r\n",
        "}"
      ],
      "outputs": [],
      "metadata": {
        "dotnet_interactive": {
          "language": "csharp"
        }
      }
    },
    {
      "cell_type": "markdown",
      "source": [
        "## Starting the MixtureFraction simulation\r\n",
        "Configuration  for the simulation using the mixture fraction approach, where an infinite reaction rate is assumed. Used to find adequate starting solution for the full problem."
      ],
      "metadata": {}
    },
    {
      "cell_type": "code",
      "execution_count": null,
      "source": [
        "static XNSEC_Control GiveMeTheMixtureFractionCtrlFile(int dg, int nCells, double massFuelIn, double massAirIn, bool parabolicVelocityProfile, int multiplier, bool useFullGeometry, bool wallBounded){\r\n",
        "    var C_MixtureFraction = GiveMeTheCtrlFile(dg, nCells, true,massFuelIn, massAirIn, parabolicVelocityProfile, useFullGeometry,  wallBounded );\r\n",
        "    C_MixtureFraction.physicsMode = PhysicsMode.MixtureFraction;\r\n",
        "    C_MixtureFraction.ProjectName = \"CounterDifFlame\";\r\n",
        "    string name = C_MixtureFraction.ProjectName + \"P\" + dg + \"K\" + nCells + \"Multiplier\" +multiplier;\r\n",
        "    C_MixtureFraction.SessionName = \"FS_\" + name;\r\n",
        "\r\n",
        "    C_MixtureFraction.UseSelfMadeTemporalOperator = false;\r\n",
        "    C_MixtureFraction.ChemicalReactionActive = false;\r\n",
        "    C_MixtureFraction.physicsMode = PhysicsMode.MixtureFraction;\r\n",
        "    C_MixtureFraction.NonLinearSolver.MaxSolverIterations = 500; \r\n",
        "    C_MixtureFraction.dummycounter = multiplier;\r\n",
        "    // Boundary and initial conditions\r\n",
        "    double dummy = -11111111;\r\n",
        "    C_MixtureFraction.AddInitialValue(VariableNames.MixtureFraction,BoundaryValueFactory.Get_ConstantValue(1.0,dummy,dummy , dummy));\r\n",
        "    C_MixtureFraction.AddBoundaryValue(\"Velocity_Inlet_CH4\", VariableNames.MixtureFraction, BoundaryValueFactory.Get_ConstantValue(1.0,dummy,dummy , dummy));\r\n",
        "    C_MixtureFraction.AddBoundaryValue(\"Velocity_Inlet_O2\", VariableNames.MixtureFraction, BoundaryValueFactory.Get_ConstantValue(0.0,dummy,dummy , dummy));\r\n",
        "\r\n",
        "    C_MixtureFraction.Tags.Add(multiplier.ToString());\r\n",
        "    double radius_inlet = 0.5; // radius is 1/2 from length separation\r\n",
        "    var troubledPoints = new List<double[]>();\r\n",
        "    if(useFullGeometry){\r\n",
        "        troubledPoints.Add(new double[]{2, +radius_inlet });\r\n",
        "        troubledPoints.Add(new double[]{2, -radius_inlet });\r\n",
        "        troubledPoints.Add(new double[]{1, +radius_inlet });\r\n",
        "        troubledPoints.Add(new double[]{1, -radius_inlet });\r\n",
        "    } else {\r\n",
        "        troubledPoints.Add(new double[]{0, +radius_inlet });\r\n",
        "        troubledPoints.Add(new double[]{0, -radius_inlet });\r\n",
        "        troubledPoints.Add(new double[]{1, +radius_inlet });\r\n",
        "        troubledPoints.Add(new double[]{1, -radius_inlet });\r\n",
        "    }\r\n",
        "    \r\n",
        "    C_MixtureFraction.AdaptiveMeshRefinement = true;\r\n",
        "    C_MixtureFraction.AMR_startUpSweeps = 2;\r\n",
        "    int NoOfPseudoTimesteps = 3;\r\n",
        "    C_MixtureFraction.TimesteppingMode = BoSSS.Solution.Control.AppControl._TimesteppingMode.Steady; \r\n",
        "    C_MixtureFraction.NoOfTimesteps = NoOfPseudoTimesteps ;\r\n",
        "\r\n",
        "    bool useHomotopy = true;\r\n",
        "    double desiredVelMultiplier = 10;\r\n",
        "    if(useHomotopy) { \r\n",
        "        C_MixtureFraction.HomotopyApproach = XNSEC_Control.HomotopyType.Automatic;\r\n",
        "        C_MixtureFraction.HomotopyVariable = XNSEC_Control.HomotopyVariableEnum.VelocityInletMultiplier;\r\n",
        "        C_MixtureFraction.homotopieAimedValue = desiredVelMultiplier;\r\n",
        "    }\r\n",
        "\r\n",
        "    C_MixtureFraction.activeAMRlevelIndicators.Add( new BoSSS.Application.XNSEC.AMR_onProblematicPoints(troubledPoints,C_MixtureFraction.AMR_startUpSweeps) );  \r\n",
        "    C_MixtureFraction.activeAMRlevelIndicators.Add( new BoSSS.Application.XNSEC.AMR_onFlameSheet(C_MixtureFraction.zSt,NoOfPseudoTimesteps) );\r\n",
        "    return C_MixtureFraction;\r\n",
        "}"
      ],
      "outputs": [],
      "metadata": {
        "dotnet_interactive": {
          "language": "csharp"
        }
      }
    },
    {
      "cell_type": "markdown",
      "source": [
        "## Send and run jobs"
      ],
      "metadata": {}
    },
    {
      "cell_type": "code",
      "execution_count": null,
      "source": [
        "    double massFuelIn = InitialMassFuelIn;\r\n",
        "    double massAirIn = InitialMassAirIn;\r\n",
        "\r\n",
        "    Type solver_MF = typeof(BoSSS.Application.XNSEC.XNSEC_MixtureFraction);\r\n",
        "    var C_MixtureFraction = GiveMeTheMixtureFractionCtrlFile(dg, nCells, massFuelIn, massAirIn,  parabolicVelocityProfile,1,useFullGeometry, wallBounded);\r\n",
        "    string jobName       = C_MixtureFraction.SessionName+\"_finer\";\r\n",
        "    Console.WriteLine(jobName);\r\n",
        "    var oneJob           = new Job(jobName, solver_MF);\r\n",
        "    oneJob.NumberOfMPIProcs = 8;\r\n",
		"    oneJob.NumberOfThreads = 1;\r\n",
        "    oneJob.SetControlObject(C_MixtureFraction);\r\n",
        "    oneJob.Activate(myBatch); \r\n"
      ],
      "outputs": [
        {
          "output_type": "display_data",
          "data": {
            "text/plain": [
              "System.Collections.Generic.List`1[System.Double]\r\n"
            ]
          },
          "metadata": {}
        },
        {
          "output_type": "display_data",
          "data": {
            "text/plain": [
              "Grid Edge Tags changed.\r\n"
            ]
          },
          "metadata": {}
        },
        {
          "output_type": "display_data",
          "data": {
            "text/plain": [
              "VelocityFuel0.02426418525959607\r\n"
            ]
          },
          "metadata": {}
        },
        {
          "output_type": "display_data",
          "data": {
            "text/plain": [
              "VelocityAir0.06147806069578092\r\n"
            ]
          },
          "metadata": {}
        },
        {
          "output_type": "display_data",
          "data": {
            "text/plain": [
              "FS_CounterDifFlameP2K8Multiplier1_finer\r\n"
            ]
          },
          "metadata": {}
        },
        {
          "output_type": "display_data",
          "data": {
            "text/plain": [
              "Deploying job FS_CounterDifFlameP2K8Multiplier1_finer ... \r\n"
            ]
          },
          "metadata": {}
        },
        {
          "output_type": "display_data",
          "data": {
            "text/plain": [
              "Deploying executables and additional files ...\r\n"
            ]
          },
          "metadata": {}
        },
        {
          "output_type": "display_data",
          "data": {
            "text/plain": [
              "Deployment directory: \\\\hpccluster\\hpccluster-scratch\\gutierrez\\binaries\\CounterFlowFlame2-XNSEC2021Aug04_165245\r\n"
            ]
          },
          "metadata": {}
        },
        {
          "output_type": "display_data",
          "data": {
            "text/plain": [
              "copied 52 files.\r\n"
            ]
          },
          "metadata": {}
        },
        {
          "output_type": "display_data",
          "data": {
            "text/plain": [
              "   written file: control.obj\r\n"
            ]
          },
          "metadata": {}
        },
        {
          "output_type": "display_data",
          "data": {
            "text/plain": [
              "   copied 'amd64' runtime.\r\n"
            ]
          },
          "metadata": {}
        },
        {
          "output_type": "display_data",
          "data": {
            "text/plain": [
              "deployment finished.\r\n"
            ]
          },
          "metadata": {}
        },
        {
          "output_type": "display_data",
          "data": {
            "text/plain": [
              "\r\n"
            ]
          },
          "metadata": {}
        }
      ],
      "metadata": {
        "dotnet_interactive": {
          "language": "csharp"
        }
      }
    },
    {
      "cell_type": "code",
      "execution_count": null,
      "source": [
        "BoSSSshell.WorkflowMgm.BlockUntilAllJobsTerminate();"
      ],
      "outputs": [],
      "metadata": {
        "dotnet_interactive": {
          "language": "csharp"
        }
      }
    },
    {
      "cell_type": "markdown",
      "source": [
        "## Starting the finite-rate chemistry simulation\r\n",
        "\r\n",
        "Now that the simulation for an \"infinite\" reaction rate is done, we use it for initializing the system with finite reaction rate. The goal is to obtain solutions of the counter difussion flame for increasing strain values. We start with a low strain (bigger Dahmkoehler number), which is increased until extintion is (hopefully) found"
      ],
      "metadata": {}
    },
    {
      "cell_type": "code",
      "execution_count": null,
      "source": [
        "static XNSEC_Control GiveMeTheFullCtrlFile(int dg, int nCells, double massFuelIn, double massAirIn, ISessionInfo SessionToRestart, bool parabolicVelocityProfile, bool chemReactionActive, bool useFullGeometry, bool wallBounded, int mult, int counter) {\r\n",
        "    var C_OneStep = GiveMeTheCtrlFile(dg, nCells, false, massFuelIn, massAirIn, parabolicVelocityProfile, useFullGeometry, wallBounded);\r\n",
        "    C_OneStep.physicsMode = PhysicsMode.Combustion;\r\n",
        "    C_OneStep.ProjectName = \"CounterDifFlame\";\r\n",
        "    string name = C_OneStep.ProjectName + \"P\" + dg + \"K\" + nCells + \"mult\" + mult+\"_c\"+counter ;\r\n",
        "    C_OneStep.SessionName = \"Full_\" + name;\r\n",
        "    C_OneStep.VariableOneStepParameters = false;\r\n",
        "\r\n",
        "    // C_OneStep.Tags.Add(\"VelocityMultiplier\" + mult);\r\n",
        "    C_OneStep.Tags.Add( mult.ToString());\r\n",
        "    C_OneStep.cpOne = false;\r\n",
        "    C_OneStep.dummycounter = counter;\r\n",
        "    C_OneStep.UseSelfMadeTemporalOperator = false;\r\n",
        "    C_OneStep.myThermalWallType = SIPDiffusionTemperature.ThermalWallType.Adiabatic;\r\n",
        "    C_OneStep.Timestepper_LevelSetHandling = BoSSS.Solution.XdgTimestepping.LevelSetHandling.None;\r\n",
        "    C_OneStep.UseMixtureFractionsForCombustionInitialization = true;\r\n",
        "\r\n",
        "    C_OneStep.LinearSolver = LinearSolverCode.exp_Kcycle_schwarz.GetConfig();\r\n",
        "    C_OneStep.LinearSolver.NoOfMultigridLevels = 5;\r\n",
        "    C_OneStep.ChemicalReactionActive = chemReactionActive;\r\n",
        "    C_OneStep.AdaptiveMeshRefinement = true;\r\n",
        "\r\n",
        "    bool AMRinEachNewtonStep = true;\r\n",
        "\r\n",
        "    if( AMRinEachNewtonStep) {\r\n",
        "        C_OneStep.NoOfTimesteps = 20;\r\n",
        "        C_OneStep.NonLinearSolver.MaxSolverIterations = 1; // Do only one newton iteration before refining\r\n",
        "        C_OneStep.NonLinearSolver.MinSolverIterations = 1; // Do only one newton iteration before refining\r\n",
        "    } else{\r\n",
        "        C_OneStep.NoOfTimesteps = 1; // The steady solution will be calculated again and do AMR\r\n",
        "        C_OneStep.NonLinearSolver.MaxSolverIterations = 20;\r\n",
        "    }\r\n",
        "   \r\n",
        "    C_OneStep.AMR_startUpSweeps = 1;\r\n",
        "    if(C_OneStep.ChemicalReactionActive){\r\n",
        "        C_OneStep.activeAMRlevelIndicators.Add(new AMR_onReactiveZones(C_OneStep.MolarMasses, 3, 0.7));\r\n",
        "        C_OneStep.activeAMRlevelIndicators.Add(new AMR_BasedOnFieldGradient(3, 0.75, VariableNames.Temperature));\r\n",
        "        C_OneStep.activeAMRlevelIndicators.Add(new AMR_BasedOnPerssonSensor(VariableNames.Temperature, 4));\r\n",
        "    }\r\n",
        "    // C_OneStep.activeAMRlevelIndicators.Add(new AMR_BasedOnPerssonSensor(VariableNames.Temperature, 3));\r\n",
        "    // C_OneStep.NonLinearSolver.MaxSolverIterations = 10;\r\n",
        "\r\n",
        "    // Boundary conditions\r\n",
        "\r\n",
        "    double dummy = 0;\r\n",
        "    if(SessionToRestart != null) {\r\n",
        "        C_OneStep.SetRestart(SessionToRestart);\r\n",
        "    } else {\r\n",
        "        C_OneStep.AddInitialValue(VariableNames.Temperature, BoundaryValueFactory.Get_ConstantValue(1.0, dummy, dummy, dummy));\r\n",
        "        C_OneStep.AddInitialValue(VariableNames.MassFraction0, BoundaryValueFactory.Get_ConstantValue(0.0, dummy, dummy, dummy));\r\n",
        "        C_OneStep.AddInitialValue(VariableNames.MassFraction1, BoundaryValueFactory.Get_ConstantValue(0.23, dummy, dummy, dummy));\r\n",
        "        C_OneStep.AddInitialValue(VariableNames.MassFraction2, BoundaryValueFactory.Get_ConstantValue(0.0, dummy, dummy, dummy));\r\n",
        "        C_OneStep.AddInitialValue(VariableNames.MassFraction3, BoundaryValueFactory.Get_ConstantValue(0.0, dummy, dummy, dummy));\r\n",
        "    }\r\n",
        "    if(wallBounded){\r\n",
        "        C_OneStep.AddBoundaryValue(\"Wall\", VariableNames.Temperature, BoundaryValueFactory.Get_ConstantValue(1.0, dummy, dummy, dummy));\r\n",
        "    }\r\n",
        "    C_OneStep.AddBoundaryValue(\"Velocity_Inlet_CH4\", VariableNames.Temperature, BoundaryValueFactory.Get_ConstantValue(1.0, dummy, dummy, dummy));\r\n",
        "    C_OneStep.AddBoundaryValue(\"Velocity_Inlet_CH4\", VariableNames.MassFraction0, BoundaryValueFactory.Get_ConstantValue(C_OneStep.FuelInletConcentrations[0], dummy, dummy, dummy));\r\n",
        "    C_OneStep.AddBoundaryValue(\"Velocity_Inlet_CH4\", VariableNames.MassFraction1, BoundaryValueFactory.Get_ConstantValue(C_OneStep.FuelInletConcentrations[1], dummy, dummy, dummy));\r\n",
        "    C_OneStep.AddBoundaryValue(\"Velocity_Inlet_CH4\", VariableNames.MassFraction2, BoundaryValueFactory.Get_ConstantValue(C_OneStep.FuelInletConcentrations[2], dummy, dummy, dummy));\r\n",
        "    C_OneStep.AddBoundaryValue(\"Velocity_Inlet_CH4\", VariableNames.MassFraction3, BoundaryValueFactory.Get_ConstantValue(C_OneStep.FuelInletConcentrations[3], dummy, dummy, dummy));\r\n",
        "\r\n",
        "    C_OneStep.AddBoundaryValue(\"Velocity_Inlet_O2\", VariableNames.Temperature, BoundaryValueFactory.Get_ConstantValue(1.0, dummy, dummy, dummy));\r\n",
        "    C_OneStep.AddBoundaryValue(\"Velocity_Inlet_O2\", VariableNames.MassFraction0, BoundaryValueFactory.Get_ConstantValue(C_OneStep.OxidizerInletConcentrations[0], dummy, dummy, dummy));\r\n",
        "    C_OneStep.AddBoundaryValue(\"Velocity_Inlet_O2\", VariableNames.MassFraction1, BoundaryValueFactory.Get_ConstantValue(C_OneStep.OxidizerInletConcentrations[1], dummy, dummy, dummy));\r\n",
        "    C_OneStep.AddBoundaryValue(\"Velocity_Inlet_O2\", VariableNames.MassFraction2, BoundaryValueFactory.Get_ConstantValue(C_OneStep.OxidizerInletConcentrations[2], dummy, dummy, dummy));\r\n",
        "    C_OneStep.AddBoundaryValue(\"Velocity_Inlet_O2\", VariableNames.MassFraction3, BoundaryValueFactory.Get_ConstantValue(C_OneStep.OxidizerInletConcentrations[3], dummy, dummy, dummy));\r\n",
        "    return C_OneStep;\r\n",
        "}"
      ],
      "outputs": [],
      "metadata": {
        "dotnet_interactive": {
          "language": "csharp"
        }
      }
    },
    {
      "cell_type": "code",
      "execution_count": null,
      "source": [
        "Type solver = typeof(BoSSS.Application.XNSEC.XNSEC);"
      ],
      "outputs": [],
      "metadata": {
        "dotnet_interactive": {
          "language": "csharp"
        }
      }
    },
    {
      "cell_type": "markdown",
      "source": [
        "Calculate the full solution for the initial value"
      ],
      "metadata": {}
    },
    {
      "cell_type": "code",
      "execution_count": null,
      "source": [
        "int counter = 0;\r\n",
        " \r\n",
        "    var sess = myDb.Sessions[0];\r\n",
        "\r\n"
      ],
      "outputs": [],
      "metadata": {
        "dotnet_interactive": {
          "language": "csharp"
        }
      }
    },
    {
      "cell_type": "code",
      "execution_count": null,
      "source": [
        "var C = GiveMeTheFullCtrlFile(dg,nCells,InitialMassFuelIn*5,InitialMassAirIn*5, sess , parabolicVelocityProfile, chemicalReactionActive,useFullGeometry, wallBounded,5, counter );\r\n",
        "string jobName       = C.SessionName ;\r\n",
        "Console.WriteLine(jobName);\r\n",
        "var oneJob           = new Job(jobName, solver);\r\n",
        "oneJob.NumberOfMPIProcs = numberOfMpiCores;    \r\n",
		"oneJob.NumberOfThreads = 1;\r\n",
        "oneJob.SetControlObject(C);\r\n",
        "oneJob.Activate(myBatch); \r\n",
        "counter++;\r\n"
      ],
      "outputs": [
        {
          "output_type": "display_data",
          "data": {
            "text/plain": [
              "System.Collections.Generic.List`1[System.Double]\r\n"
            ]
          },
          "metadata": {}
        },
        {
          "output_type": "display_data",
          "data": {
            "text/plain": [
              "Grid Edge Tags changed.\r\n"
            ]
          },
          "metadata": {}
        },
        {
          "output_type": "display_data",
          "data": {
            "text/plain": [
              "VelocityFuel0.12132092629798034\r\n"
            ]
          },
          "metadata": {}
        },
        {
          "output_type": "display_data",
          "data": {
            "text/plain": [
              "VelocityAir0.3073903034789046\r\n"
            ]
          },
          "metadata": {}
        },
        {
          "output_type": "display_data",
          "data": {
            "text/plain": [
              "Full_CounterDifFlameP2K8mult5_c0\r\n"
            ]
          },
          "metadata": {}
        },
        {
          "output_type": "display_data",
          "data": {
            "text/plain": [
              "Deploying job Full_CounterDifFlameP2K8mult5_c0 ... \r\n"
            ]
          },
          "metadata": {}
        },
        {
          "output_type": "display_data",
          "data": {
            "text/plain": [
              "Deploying executables and additional files ...\r\n"
            ]
          },
          "metadata": {}
        },
        {
          "output_type": "display_data",
          "data": {
            "text/plain": [
              "Deployment directory: \\\\hpccluster\\hpccluster-scratch\\gutierrez\\binaries\\CounterFlowFlame2-XNSEC2021Aug04_162557\r\n"
            ]
          },
          "metadata": {}
        },
        {
          "output_type": "display_data",
          "data": {
            "text/plain": [
              "copied 52 files.\r\n"
            ]
          },
          "metadata": {}
        },
        {
          "output_type": "display_data",
          "data": {
            "text/plain": [
              "   written file: control.obj\r\n"
            ]
          },
          "metadata": {}
        },
        {
          "output_type": "display_data",
          "data": {
            "text/plain": [
              "   copied 'amd64' runtime.\r\n"
            ]
          },
          "metadata": {}
        },
        {
          "output_type": "display_data",
          "data": {
            "text/plain": [
              "deployment finished.\r\n"
            ]
          },
          "metadata": {}
        },
        {
          "output_type": "display_data",
          "data": {
            "text/plain": [
              "\r\n"
            ]
          },
          "metadata": {}
        }
      ],
      "metadata": {
        "dotnet_interactive": {
          "language": "csharp"
        }
      }
    },
    {
      "cell_type": "code",
      "execution_count": null,
      "source": [
        "BoSSSshell.WorkflowMgm.BlockUntilAllJobsTerminate();"
      ],
      "outputs": [],
      "metadata": {
        "dotnet_interactive": {
          "language": "csharp"
        }
      }
    },
    {
      "cell_type": "code",
      "execution_count": null,
      "source": [
        "BoSSSshell.WorkflowMgm"
      ],
      "outputs": [],
      "metadata": {
        "dotnet_interactive": {
          "language": "csharp"
        }
      }
    },
    {
      "cell_type": "markdown",
      "source": [
        "Gradually increase  inlet velocity"
      ],
      "metadata": {}
    },
    {
      "cell_type": "code",
      "execution_count": null,
      "source": [
        "myDb.Sessions[0].Export().Do()"
      ],
      "outputs": [
        {
          "output_type": "display_data",
          "data": {
            "text/plain": [
              "Starting export process... "
            ]
          },
          "metadata": {}
        },
        {
          "output_type": "display_data",
          "data": {
            "text/plain": [
              "Data will be written to the following directory:\r\n"
            ]
          },
          "metadata": {}
        },
        {
          "output_type": "display_data",
          "data": {
            "text/plain": [
              "C:\\Users\\gutierrez\\AppData\\Local\\BoSSS\\plots\\sessions\\CounterFlowFlame2__FS_CounterDifFlameP2K8Multiplier1__e5591adc-0895-4a70-804e-fea066f9318a"
            ]
          },
          "metadata": {}
        }
      ],
      "metadata": {
        "dotnet_interactive": {
          "language": "csharp"
        }
      }
    },
    {
      "cell_type": "code",
      "execution_count": null,
      "source": [
        "myDb.Sessions"
      ],
      "outputs": [],
      "metadata": {
        "dotnet_interactive": {
          "language": "csharp"
        }
      }
    },
    {
      "cell_type": "code",
      "execution_count": null,
      "source": [
        "BoSSSshell.WorkflowMgm.AllJobs"
      ],
      "outputs": [],
      "metadata": {
        "dotnet_interactive": {
          "language": "csharp"
        }
      }
    },
    {
      "cell_type": "code",
      "execution_count": null,
      "source": [
        "myDb.Sessions[0].Export().Do()"
      ],
      "outputs": [
        {
          "output_type": "display_data",
          "data": {
            "text/plain": [
              "Starting export process... "
            ]
          },
          "metadata": {}
        },
        {
          "output_type": "display_data",
          "data": {
            "text/plain": [
              "Data will be written to the following directory:\r\n"
            ]
          },
          "metadata": {}
        },
        {
          "output_type": "display_data",
          "data": {
            "text/plain": [
              "C:\\Users\\gutierrez\\AppData\\Local\\BoSSS\\plots\\sessions\\CounterFlowFlame2__FS_CounterDifFlameP2K8Multiplier1__e5591adc-0895-4a70-804e-fea066f9318a"
            ]
          },
          "metadata": {}
        }
      ],
      "metadata": {
        "dotnet_interactive": {
          "language": "csharp"
        }
      }
    },
    {
      "cell_type": "markdown",
      "source": [
        "## Postprocessing"
      ],
      "metadata": {}
    },
    {
      "cell_type": "code",
      "execution_count": null,
      "source": [
        " var sess = myDb.Sessions[13];\r\n",
        " var timestep_FullChem = sess.Timesteps.Last();\r\n",
        "\r\n",
        "double eps = 1e-4; \r\n",
        "double xleft  = 0+eps; \r\n",
        "double xright = 1.0-eps;\r\n",
        "int nCells = 181*1;\r\n",
        "double[]  _xNodes = GenericBlas.Linspace(xleft, xright, nCells + 1);\r\n",
        "string[] varnames = new string[]{\"VelocityX\",\"VelocityY\",\"Temperature\", \"Pressure\", \"MassFraction0\",\"MassFraction1\",\"MassFraction2\",\"MassFraction3\"}; \r\n"
      ],
      "outputs": [],
      "metadata": {
        "dotnet_interactive": {
          "language": "csharp"
        }
      }
    },
    {
      "cell_type": "code",
      "execution_count": null,
      "source": [
        "Dictionary<string, double[]> Results_FullComb = new Dictionary<string, double[]>();\r\n",
        "Dictionary<string, double> ReferenceValuesDict = new Dictionary<string, double>();// Re-dimenzionalise variables\r\n",
        "\r\n",
        "ReferenceValuesDict.Add(\"VelocityX\", Convert.ToDouble(sess.KeysAndQueries[\"uRef\"]));\r\n",
        "ReferenceValuesDict.Add(\"VelocityY\", Convert.ToDouble(sess.KeysAndQueries[\"uRef\"]));\r\n",
        "ReferenceValuesDict.Add(\"Temperature\", Convert.ToDouble(sess.KeysAndQueries[\"TRef\"]));\r\n",
        "ReferenceValuesDict.Add(\"Pressure\", Convert.ToDouble(sess.KeysAndQueries[\"pRef\"]));\r\n",
        "ReferenceValuesDict.Add(\"MassFraction0\", 1.0);\r\n",
        "ReferenceValuesDict.Add(\"MassFraction1\", 1.0);\r\n",
        "ReferenceValuesDict.Add(\"MassFraction2\", 1.0);\r\n",
        "ReferenceValuesDict.Add(\"MassFraction3\", 1.0);\r\n",
        "ReferenceValuesDict.Add(\"MassFraction4\", 1.0);\r\n",
        "ReferenceValuesDict.Add(\"Length\", Convert.ToDouble(sess.KeysAndQueries[\"LRef\"]));"
      ],
      "outputs": [],
      "metadata": {
        "dotnet_interactive": {
          "language": "csharp"
        }
      }
    },
    {
      "cell_type": "code",
      "execution_count": null,
      "source": [
        "//Save results from the Full problem simulation\r\n",
        "foreach(var varname in varnames){\r\n",
        "    double[] Yvalues = new double[nCells+1];\r\n",
        "    var field = timestep_FullChem.Fields.Where( Fi => (Fi.Identification == varname)).Last();\r\n",
        "    for(int n = 0 ; n < _xNodes.Length; n++){\r\n",
        "        double pickedVal = field.ProbeAt(new double[]{ _xNodes[n], 0.00000001});    // Pick value along the central axis        \r\n",
        "        Yvalues[n] = pickedVal* ReferenceValuesDict[varname];             // Re.dimenzionalise varliables and store it in array\r\n",
        "    }\r\n",
        "    Results_FullComb.Add(varname,Yvalues);\r\n",
        "}"
      ],
      "outputs": [],
      "metadata": {
        "dotnet_interactive": {
          "language": "csharp"
        }
      }
    },
    {
      "cell_type": "code",
      "execution_count": null,
      "source": [
        "// Redimensionalise the x coordinate\r\n",
        "double[] _xNodesDim = new double[_xNodes.Length];\r\n",
        " for(int n = 0 ; n < _xNodes.Length; n++){\r\n",
        "     _xNodesDim[n] = _xNodes[n]*ReferenceValuesDict[\"Length\"];\r\n",
        "}\r\n"
      ],
      "outputs": [],
      "metadata": {
        "dotnet_interactive": {
          "language": "csharp"
        }
      }
    },
    {
      "cell_type": "code",
      "execution_count": null,
      "source": [
        " string path = System.IO.Path.ChangeExtension(@\"C:\\BoSSS\\experimental\\internal\\src\\private-gutz\\L4-application\\XNSEC2\\Worksheets\\Jupyter\\CounterFlowFlameMatlabCode\\BoSSS_data\\\", null);\r\n",
        "string newPathName = path +\"Full\" + \"XCoord\" + \".txt\";\r\n",
        "using (StreamWriter s = new StreamWriter(newPathName)) {\r\n",
        "    for (int i = 0; i < _xNodes.Length; i++) {\r\n",
        "        s.Write(_xNodesDim[i].ToString(\"E16\", System.Globalization.NumberFormatInfo.InvariantInfo) + \" \");\r\n",
        "    }\r\n",
        "}\r\n",
        "\r\n",
        "foreach (var varname in varnames) {\r\n",
        "    string newPathName = path +\"Full\" + varname + \".txt\";\r\n",
        "    using (StreamWriter s = new StreamWriter(newPathName)) {\r\n",
        "        double[] _yNodes = Results_FullComb[varname];\r\n",
        "        for (int i = 0; i < _xNodes.Length; i++) { \r\n",
        "            s.Write(_yNodes[i].ToString(\"E16\", System.Globalization.NumberFormatInfo.InvariantInfo) + \" \"); \r\n",
        "        }\r\n",
        "    }\r\n",
        "}"
      ],
      "outputs": [],
      "metadata": {
        "dotnet_interactive": {
          "language": "csharp"
        }
      }
    },
    {
      "cell_type": "code",
      "execution_count": null,
      "source": [
        "myDb"
      ],
      "outputs": [],
      "metadata": {
        "dotnet_interactive": {
          "language": "csharp"
        }
      }
    },
    {
      "cell_type": "code",
      "execution_count": null,
      "source": [
        "OpenOrCreateDatabase(@\"C:\\Databases\\BoSSS_DB\")"
      ],
      "outputs": [],
      "metadata": {
        "dotnet_interactive": {
          "language": "csharp"
        }
      }
    },
    {
      "cell_type": "code",
      "execution_count": null,
      "source": [],
      "outputs": [],
      "metadata": {
        "dotnet_interactive": {
          "language": "csharp"
        }
      }
    }
  ],
  "metadata": {
    "kernelspec": {
      "display_name": ".NET (C#)",
      "language": "C#",
      "name": ".net-csharp"
    },
    "language_info": {
      "file_extension": ".cs",
      "mimetype": "text/x-csharp",
      "name": "C#",
      "pygments_lexer": "csharp",
      "version": "8.0"
    }
  },
  "nbformat": 4,
  "nbformat_minor": 4
}
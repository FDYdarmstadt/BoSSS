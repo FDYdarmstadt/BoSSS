{
  "cells": [
    {
      "cell_type": "code",
      "execution_count": null,
      "source": [
        "// #r \".\\binaries\\bossspad.dll\"\r\n",
        "// #r \".\\binaries\\XNSEC.dll\"\r\n",
        "#r \"C:\\BoSSS\\experimental\\public\\src\\L4-application\\BoSSSpad\\bin\\Release\\net5.0\\bossspad.dll\"\r\n",
        "#r \"C:\\BoSSS\\experimental\\public\\src\\L4-application\\BoSSSpad\\bin\\Release\\net5.0\\XNSEC.dll\"\r\n",
        "using System;\r\n",
        "using System.Collections.Generic;\r\n",
        "using System.Linq;\r\n",
        "using System.IO;\r\n",
        "using System.Data;\r\n",
        "using System.Globalization;\r\n",
        "using System.Threading;\r\n",
        "using ilPSP;\r\n",
        "using ilPSP.Utils;\r\n",
        "using BoSSS.Platform;\r\n",
        "using BoSSS.Foundation;\r\n",
        "using BoSSS.Foundation.Grid;\r\n",
        "using BoSSS.Foundation.Grid.Classic;\r\n",
        "using BoSSS.Foundation.IO;\r\n",
        "using BoSSS.Solution;\r\n",
        "using BoSSS.Solution.Control;\r\n",
        "using BoSSS.Solution.GridImport;\r\n",
        "using BoSSS.Solution.Statistic;\r\n",
        "using BoSSS.Solution.Utils;\r\n",
        "using BoSSS.Solution.Gnuplot;\r\n",
        "using BoSSS.Application.BoSSSpad;\r\n",
        "using BoSSS.Application.XNSE_Solver;\r\n",
        "using static BoSSS.Application.BoSSSpad.BoSSSshell;\r\n",
        "using BoSSS.Foundation.Grid.RefElements;\r\n",
        "using BoSSS.Platform.LinAlg;\r\n",
        "using BoSSS.Solution.NSECommon;\r\n",
        "using BoSSS.Application.XNSEC;\r\n",
        "Init();"
      ],
      "outputs": [],
      "metadata": {
        "dotnet_interactive": {
          "language": "csharp"
        }
      }
    },
    {
      "cell_type": "markdown",
      "source": [
        "## Open Database"
      ],
      "metadata": {
        "dotnet_interactive": {
          "language": "csharp"
        }
      }
    },
    {
      "cell_type": "code",
      "execution_count": null,
      "source": [
        "static var myDb = OpenOrCreateDatabase(@\"C:\\Databases\\BoSSS_DB_Couette\");\r\n",
        "//static var myDb = OpenOrCreateDatabase(@\"\\\\hpccluster\\hpccluster-scratch\\gutierrez\\HC_ConvProb\\BoSSS_DB\" );\r\n",
        "myDb.Sessions"
      ],
      "outputs": [
        {
          "output_type": "unknown",
          "data": {
            "text/plain": []
          }
        }
      ],
      "metadata": {
        "dotnet_interactive": {
          "language": "csharp"
        }
      }
    },
    {
      "cell_type": "code",
      "execution_count": null,
      "source": [
        "BoSSSshell.WorkflowMgm.Init(\"CouetteTemperatureDifference\");"
      ],
      "outputs": [],
      "metadata": {
        "dotnet_interactive": {
          "language": "csharp"
        }
      }
    },
    {
      "cell_type": "code",
      "execution_count": null,
      "source": [
        "BoSSSshell.WorkflowMgm.Sessions"
      ],
      "outputs": [
        {
          "output_type": "unknown",
          "data": {
            "text/plain": []
          }
        }
      ],
      "metadata": {
        "dotnet_interactive": {
          "language": "csharp"
        }
      }
    },
    {
      "cell_type": "markdown",
      "source": [
        "## Create grid"
      ],
      "metadata": {}
    },
    {
      "cell_type": "code",
      "execution_count": null,
      "source": [
        "public static class GridFactory {\r\n",
        "\r\n",
        "    public static Grid2D GenerateGrid(int Res) { \r\n",
        "        var xNodes =  GenericBlas.SinLinSpacing(0.0, 1.0, 0, Res + 1);\r\n",
        "        var yNodes =  GenericBlas.SinLinSpacing(0.0, 1.0, 0,Res + 1);\r\n",
        "        var grd    = Grid2D.Cartesian2DGrid(xNodes, yNodes,  type: CellType.Square_Linear);\r\n",
        "        grd.EdgeTagNames.Add(1, \"velocity_inlet_bottom\");\r\n",
        "        grd.EdgeTagNames.Add(2, \"velocity_inlet_left\");\r\n",
        "        grd.EdgeTagNames.Add(3, \"velocity_inlet_right\");\r\n",
        "        grd.EdgeTagNames.Add(4, \"velocity_inlet_top\"); // moving wall\r\n",
        "        grd.DefineEdgeTags( delegate (double[] X) {\r\n",
        "            double x = X[0];\r\n",
        "            double y = X[1];            \r\n",
        "         \r\n",
        "           if(Math.Abs(x - 0) < 1e-8)  //left Inlet\r\n",
        "              return 2;      \r\n",
        "            if(Math.Abs(y - 0) < 1e-8) //bottom Wall\r\n",
        "                return 1;     \r\n",
        "            if(Math.Abs(x - 1) < 1e-8)  // right outlet\r\n",
        "                return 3;      \r\n",
        "            if(Math.Abs(y - 1) < 1e-8) //top Wall\r\n",
        "                return 4;\r\n",
        "            else throw new ArgumentOutOfRangeException();\r\n",
        "        });\r\n",
        "        myDb.SaveGrid(ref grd);\r\n",
        "        return grd;\r\n",
        "     }\r\n",
        " \r\n",
        " }"
      ],
      "outputs": [],
      "metadata": {
        "dotnet_interactive": {
          "language": "csharp"
        }
      }
    },
    {
      "cell_type": "code",
      "execution_count": null,
      "source": [
        "public static class BoundaryValueFactory { \r\n",
        "\r\n",
        "    public static string GetPrefixCode(double Th, double Tc, double Froude, double c_1) {\r\n",
        "        using(var stw = new System.IO.StringWriter()) {\r\n",
        "           \r\n",
        "           stw.WriteLine(\"static class BoundaryValues {\");\r\n",
        "           stw.WriteLine(\"  static public double VelX(double[] X) {\");\r\n",
        "           stw.WriteLine(\"    return X[1];\");\r\n",
        "           stw.WriteLine(\"  }\");\r\n",
        "\r\n",
        "           stw.WriteLine(\"  static public double VelY(double[] X) {\");\r\n",
        "           stw.WriteLine(\"    return 0.0;\");\r\n",
        "           stw.WriteLine(\"  }\");\r\n",
        "\r\n",
        "           stw.WriteLine(\"  static public double One(double[] X) {\");\r\n",
        "           stw.WriteLine(\"    return  1.0;\");\r\n",
        "           stw.WriteLine(\"  }\");\r\n",
        "\r\n",
        "           stw.WriteLine(\"  static public double Zero(double[] X) {\");\r\n",
        "           stw.WriteLine(\"    return  0.0;\");\r\n",
        "           stw.WriteLine(\"  }\");\r\n",
        "\r\n",
        "        //    stw.WriteLine(\" static public double InitialPressure(double[] X) { \");\r\n",
        "        //    stw.WriteLine(\"         return  (-1.0) *  / (\"+Froude+\" * \"+Froude+\" * (\"+Th+\" - \"+Tc+\")+) * Log((\"+Th+\" - \"+Tc+\") * X[1] + \"+Tc+\") + \"+c_1+\";\");\r\n",
        "        //    stw.WriteLine(\"    }\");\r\n",
        "        //    stw.WriteLine(\"}\"); \r\n",
        "\r\n",
        "           stw.WriteLine(\" static public double InitialTemperature(double[] X) { \");\r\n",
        "            stw.WriteLine(\"      (\"+Th+\" - \"+Tc+\") * X[1] + \"+Tc+\" ;\");\r\n",
        "            stw.WriteLine(\"    }\");\r\n",
        "             stw.WriteLine(\"}\"); \r\n",
        "           return stw.ToString();\r\n",
        "        }\r\n",
        "    }\r\n",
        "   \r\n",
        "    static public Formula Get_VelX(double Th, double Tc , double Froude,double c_1) {\r\n",
        "        return new Formula(\"BoundaryValues.VelX\", AdditionalPrefixCode:GetPrefixCode(Th,Tc,Froude,c_1));\r\n",
        "    }\r\n",
        "\r\n",
        "    static public Formula Get_VelY(double Th, double Tc,double Froude,double c_1) {\r\n",
        "        return new Formula(\"BoundaryValues.VelY\", AdditionalPrefixCode:GetPrefixCode(Th,Tc,Froude,c_1));\r\n",
        "    }\r\n",
        "    static public Formula Get_TemperatureHot(double Th, double Tc, double Froude,double c_1) {\r\n",
        "        return new Formula(\"BoundaryValues.TemperatureHot\",AdditionalPrefixCode:GetPrefixCode(Th,Tc,Froude,c_1));\r\n",
        "    }\r\n",
        "\r\n",
        "     static public Formula Get_TemperatureCold(double Th, double Tc,double Froude,double c_1) {\r\n",
        "        return new Formula(\"BoundaryValues.TemperatureCold\", AdditionalPrefixCode:GetPrefixCode(Th,Tc,Froude,c_1));\r\n",
        "    }\r\n",
        "\r\n",
        "    static public Formula Get_One(double Th, double Tc, double Froude,double c_1) {\r\n",
        "        return new Formula(\"BoundaryValues.One\", AdditionalPrefixCode:GetPrefixCode(Th,Tc,Froude,c_1));\r\n",
        "    }\r\n",
        "     static public Formula Get_Zero(double Th, double Tc, double Froude,double c_1) {\r\n",
        "         return new Formula(\"BoundaryValues.Zero\",AdditionalPrefixCode:GetPrefixCode(Th,Tc,Froude,c_1));\r\n",
        "     }\r\n",
        "    // static public Formula Get_InitialPressure(double Th, double Tc, double Froude,double c_1) {\r\n",
        "    //     return new Formula(\"BoundaryValues.InitialPressure\",AdditionalPrefixCode:GetPrefixCode(Th,Tc,Froude,c_1));\r\n",
        "    // }\r\n",
        "    static public Formula Get_InitialTemperature(double Th, double Tc, double Froude,double c_1) {\r\n",
        "        return new Formula(\"BoundaryValues.InitialTemperature\",AdditionalPrefixCode:GetPrefixCode(Th,Tc,Froude,c_1));\r\n",
        "    }\r\n",
        "}"
      ],
      "outputs": [],
      "metadata": {
        "dotnet_interactive": {
          "language": "csharp"
        }
      }
    },
    {
      "cell_type": "markdown",
      "source": [
        "## Send and run jobs"
      ],
      "metadata": {}
    },
    {
      "cell_type": "code",
      "execution_count": null,
      "source": [
        "var controls = new List<XNSEC_Control>();"
      ],
      "outputs": [],
      "metadata": {
        "dotnet_interactive": {
          "language": "csharp"
        }
      }
    },
    {
      "cell_type": "code",
      "execution_count": null,
      "source": [
        "int[] Resolutions = new int[]{ 2,3,4,5,6 }; \r\n",
        "int[] DGdegrees = new int[]{ 1,2 };\r\n",
        "// int[] Resolutions = new int[]{ 3 }; \r\n",
        "// int[] DGdegrees = new int[]{ 2 };\r\n",
        "\r\n",
        "var controls = new List<XNSEC_Control>();\r\n",
        "double Th = 1.6; double Tc = 0.4;\r\n",
        "double Ra = 1e1;\r\n",
        "foreach(int dg in DGdegrees){\r\n",
        "foreach(int Res in Resolutions) {\r\n",
        "\r\n",
        "    var C = new  XNSEC_Control();\r\n",
        "    C.SetDGdegree(dg);\r\n",
        "    var nCells = (int) Math.Pow(2,Res+1);\r\n",
        "    C.SetGrid(GridFactory.GenerateGrid(nCells));\r\n",
        "    C.Paramstudy_CaseIdentification.Add(new Tuple<string, object>(\"Res\", Res));\r\n",
        "    C.Paramstudy_CaseIdentification.Add(new Tuple<string, object>(\"Dgdegree\", dg));\r\n",
        "    // Solver configuration\r\n",
        "    // ========================\r\n",
        "    C.ProjectName = \"CouetteFlowTempGrad_DG\" + dg + \"K\" + Res;\r\n",
        "    C.ProjectDescription = \"Steady Low Mach couette flow with temperature gradient\";\r\n",
        "    C.AnalyticsolutionSwitch = true;\r\n",
        "    C.TimesteppingMode = AppControl._TimesteppingMode.Steady;\r\n",
        "    C.NonLinearSolver.verbose = true;\r\n",
        "    C.NonLinearSolver.SolverCode = NonLinearSolverCode.Newton;\r\n",
        "    C.NonLinearSolver.ConvergenceCriterion = 1e-9;\r\n",
        "    C.LinearSolver = LinearSolverCode.direct_pardiso.GetConfig();\r\n",
        "    C.PhysicalParameters.IncludeConvection = false;\r\n",
        "    C.MatParamsMode = MaterialParamsMode.Constant;\r\n",
        "    C.ChemicalReactionActive = false;\r\n",
        "    C.EnableMassFractions = false;\r\n",
        "    C.PhysicalParameters.IncludeConvection = true;\r\n",
        "    C.Timestepper_LevelSetHandling         = BoSSS.Solution.XdgTimestepping.LevelSetHandling.None;    \r\n",
        "    C.SessionName = \"NaturalConvection_k\" + Res + \"_DG\" + dg; \r\n",
        "\r\n",
        "    // Parameters\r\n",
        "    // ==============\r\n",
        "    C.Reynolds = 10.0;\r\n",
        "    C.Prandtl = 0.71;\r\n",
        "    C.Froude = Math.Sqrt(2 * C.Prandtl * (1.6 - 0.4) / (1.6 + 0.4));\r\n",
        "    C.PressureReferencePoint = new double[] { 0.5*1, 0.5 *1};\r\n",
        "\r\n",
        "    C.Schmidt = 1.0;\r\n",
        "    C.PenaltyViscMomentum = 1.0;\r\n",
        "    C.PenaltyHeatConduction = 1.0;\r\n",
        "\r\n",
        "    C.GravityDirection = new double[] { 0.0, 1.0, 0.0 };\r\n",
        "\r\n",
        "    double Th = 1.6; // Adimensional temperature of the hot wall (moving wall)\r\n",
        "    double Tc = 0.4; // Adimensional temperature of the cold wall\r\n",
        "\r\n",
        "    double p0 = 1.0; // The thermodynamic pressure, constant for open systems\r\n",
        "    double c_1 = p0 / (C.Froude * C.Froude * (Th - Tc)) * Math.Log((Th - Tc) * C.PressureReferencePoint[1] + Tc) * 1; // A constant dependent on the reference point for the pressure\r\n",
        "\r\n",
        "  \r\n",
        "    // boundary conditions\r\n",
        "    // ===================\r\n",
        "\r\n",
        "    C.AddBoundaryValue(\"velocity_inlet_top\", VariableNames.VelocityX, BoundaryValueFactory.Get_VelX(Th, Tc,C.Froude,c_1));\r\n",
        "    C.AddBoundaryValue(\"velocity_inlet_top\", VariableNames.VelocityY, BoundaryValueFactory.Get_VelY(Th, Tc,C.Froude,c_1));\r\n",
        "    C.AddBoundaryValue(\"velocity_inlet_top\", VariableNames.Temperature, BoundaryValueFactory.Get_InitialTemperature(Th, Tc,C.Froude,c_1));\r\n",
        "    C.AddBoundaryValue(\"velocity_inlet_top\", VariableNames.MassFraction0,BoundaryValueFactory.Get_One(Th, Tc,C.Froude,c_1));\r\n",
        "\r\n",
        "    C.AddBoundaryValue(\"velocity_inlet_left\", VariableNames.VelocityX, BoundaryValueFactory.Get_VelX(Th, Tc,C.Froude,c_1));\r\n",
        "    C.AddBoundaryValue(\"velocity_inlet_left\", VariableNames.VelocityY, BoundaryValueFactory.Get_VelY(Th, Tc,C.Froude,c_1));\r\n",
        "    C.AddBoundaryValue(\"velocity_inlet_left\", VariableNames.Temperature, BoundaryValueFactory.Get_InitialTemperature(Th, Tc,C.Froude,c_1));\r\n",
        "    C.AddBoundaryValue(\"velocity_inlet_left\", VariableNames.MassFraction0,BoundaryValueFactory.Get_One(Th, Tc,C.Froude,c_1));\r\n",
        "\r\n",
        "    C.AddBoundaryValue(\"velocity_inlet_right\", VariableNames.VelocityX, BoundaryValueFactory.Get_VelX(Th, Tc,C.Froude,c_1));\r\n",
        "    C.AddBoundaryValue(\"velocity_inlet_right\", VariableNames.VelocityY, BoundaryValueFactory.Get_VelY(Th, Tc,C.Froude,c_1));\r\n",
        "    C.AddBoundaryValue(\"velocity_inlet_right\", VariableNames.Temperature, BoundaryValueFactory.Get_InitialTemperature(Th, Tc,C.Froude,c_1));\r\n",
        "    C.AddBoundaryValue(\"velocity_inlet_right\", VariableNames.MassFraction0,BoundaryValueFactory.Get_One(Th, Tc,C.Froude,c_1)); \r\n",
        "\r\n",
        "    C.AddBoundaryValue(\"velocity_inlet_bottom\", VariableNames.VelocityX, BoundaryValueFactory.Get_VelX(Th, Tc,C.Froude,c_1));\r\n",
        "    C.AddBoundaryValue(\"velocity_inlet_bottom\", VariableNames.VelocityY, BoundaryValueFactory.Get_VelY(Th, Tc,C.Froude,c_1));\r\n",
        "    C.AddBoundaryValue(\"velocity_inlet_bottom\", VariableNames.Temperature, BoundaryValueFactory.Get_InitialTemperature(Th, Tc,C.Froude,c_1));\r\n",
        "    C.AddBoundaryValue(\"velocity_inlet_bottom\", VariableNames.MassFraction0,BoundaryValueFactory.Get_One(Th, Tc,C.Froude,c_1)); \r\n",
        "\r\n",
        " \r\n",
        "\r\n",
        "     C.AddInitialValue(VariableNames.VelocityX,  BoundaryValueFactory.Get_Zero(Th, Tc,C.Froude,c_1)); \r\n",
        "     C.AddInitialValue(VariableNames.VelocityY,BoundaryValueFactory.Get_Zero(Th, Tc,C.Froude,c_1)); \r\n",
        "    // C.AddInitialValue(VariableNames.Pressure,BoundaryValueFactory.Get_InitialPressure(Th, Tc,C.Froude,c_1)); \r\n",
        "    C.AddInitialValue(VariableNames.Temperature,BoundaryValueFactory.Get_One(Th, Tc,C.Froude,c_1)); \r\n",
        "    C.AddInitialValue(VariableNames.MassFraction0, BoundaryValueFactory.Get_One(Th, Tc,C.Froude,c_1)); \r\n",
        "\r\n",
        "    C.AddInitialValue(VariableNames.ThermodynamicPressure,BoundaryValueFactory.Get_One(Th, Tc,C.Froude,c_1)); \r\n",
        "\r\n",
        "\r\n",
        "    controls.Add(C);\r\n",
        "}\r\n",
        "}"
      ],
      "outputs": [
        {
          "output_type": "unknown",
          "data": {
            "text/plain": [
              "Grid Edge Tags changed.\r\n"
            ]
          }
        },
        {
          "output_type": "error",
          "ename": "Error",
          "evalue": "Microsoft.CodeAnalysis.Scripting.CompilationErrorException: (28,7): error CS0201: Only assignment, call, increment, decrement, await, and new object expressions can be used as a statement\r\n   at Microsoft.CodeAnalysis.Scripting.ScriptBuilder.ThrowIfAnyCompilationErrors(DiagnosticBag diagnostics, DiagnosticFormatter formatter)\r\n   at Microsoft.CodeAnalysis.Scripting.ScriptBuilder.CreateExecutor[T](ScriptCompiler compiler, Compilation compilation, Boolean emitDebugInformation, CancellationToken cancellationToken)\r\n   at Microsoft.CodeAnalysis.Scripting.Script`1.GetExecutor(CancellationToken cancellationToken)\r\n   at Microsoft.CodeAnalysis.Scripting.Script`1.RunAsync(Object globals, Func`2 catchException, CancellationToken cancellationToken)\r\n   at Microsoft.CodeAnalysis.Scripting.Script`1.RunAsync(Object globals, CancellationToken cancellationToken)\r\n   at Microsoft.CodeAnalysis.CSharp.Scripting.CSharpScript.RunAsync[T](String code, ScriptOptions options, Object globals, Type globalsType, CancellationToken cancellationToken)\r\n   at Microsoft.CodeAnalysis.CSharp.Scripting.CSharpScript.EvaluateAsync[T](String code, ScriptOptions options, Object globals, Type globalsType, CancellationToken cancellationToken)\r\n   at Microsoft.CodeAnalysis.CSharp.Scripting.CSharpScript.EvaluateAsync(String code, ScriptOptions options, Object globals, Type globalsType, CancellationToken cancellationToken)\r\n   at BoSSS.Solution.Control.Formula.Compile() in C:\\BoSSS\\experimental\\public\\src\\L3-solution\\BoSSS.Solution\\Formula.cs:line 214\r\n   at BoSSS.Solution.Control.Formula..ctor(String code, Boolean TimeDep, String AdditionalPrefixCode) in C:\\BoSSS\\experimental\\public\\src\\L3-solution\\BoSSS.Solution\\Formula.cs:line 72\r\n   at Submission#9.BoundaryValueFactory.Get_VelX(Double Th, Double Tc, Double Froude, Double c_1)\r\n   at Submission#11.<<Initialize>>d__0.MoveNext()\r\n--- End of stack trace from previous location ---\r\n   at Microsoft.CodeAnalysis.Scripting.ScriptExecutionState.RunSubmissionsAsync[TResult](ImmutableArray`1 precedingExecutors, Func`2 currentExecutor, StrongBox`1 exceptionHolderOpt, Func`2 catchExceptionOpt, CancellationToken cancellationToken)",
          "traceback": [
            "Microsoft.CodeAnalysis.Scripting.CompilationErrorException: (28,7): error CS0201: Only assignment, call, increment, decrement, await, and new object expressions can be used as a statement\r\n",
            "   at Microsoft.CodeAnalysis.Scripting.ScriptBuilder.ThrowIfAnyCompilationErrors(DiagnosticBag diagnostics, DiagnosticFormatter formatter)\r\n",
            "   at Microsoft.CodeAnalysis.Scripting.ScriptBuilder.CreateExecutor[T](ScriptCompiler compiler, Compilation compilation, Boolean emitDebugInformation, CancellationToken cancellationToken)\r\n",
            "   at Microsoft.CodeAnalysis.Scripting.Script`1.GetExecutor(CancellationToken cancellationToken)\r\n",
            "   at Microsoft.CodeAnalysis.Scripting.Script`1.RunAsync(Object globals, Func`2 catchException, CancellationToken cancellationToken)\r\n",
            "   at Microsoft.CodeAnalysis.Scripting.Script`1.RunAsync(Object globals, CancellationToken cancellationToken)\r\n",
            "   at Microsoft.CodeAnalysis.CSharp.Scripting.CSharpScript.RunAsync[T](String code, ScriptOptions options, Object globals, Type globalsType, CancellationToken cancellationToken)\r\n",
            "   at Microsoft.CodeAnalysis.CSharp.Scripting.CSharpScript.EvaluateAsync[T](String code, ScriptOptions options, Object globals, Type globalsType, CancellationToken cancellationToken)\r\n",
            "   at Microsoft.CodeAnalysis.CSharp.Scripting.CSharpScript.EvaluateAsync(String code, ScriptOptions options, Object globals, Type globalsType, CancellationToken cancellationToken)\r\n",
            "   at BoSSS.Solution.Control.Formula.Compile() in C:\\BoSSS\\experimental\\public\\src\\L3-solution\\BoSSS.Solution\\Formula.cs:line 214\r\n",
            "   at BoSSS.Solution.Control.Formula..ctor(String code, Boolean TimeDep, String AdditionalPrefixCode) in C:\\BoSSS\\experimental\\public\\src\\L3-solution\\BoSSS.Solution\\Formula.cs:line 72\r\n",
            "   at Submission#9.BoundaryValueFactory.Get_VelX(Double Th, Double Tc, Double Froude, Double c_1)\r\n",
            "   at Submission#11.<<Initialize>>d__0.MoveNext()\r\n",
            "--- End of stack trace from previous location ---\r\n",
            "   at Microsoft.CodeAnalysis.Scripting.ScriptExecutionState.RunSubmissionsAsync[TResult](ImmutableArray`1 precedingExecutors, Func`2 currentExecutor, StrongBox`1 exceptionHolderOpt, Func`2 catchExceptionOpt, CancellationToken cancellationToken)"
          ]
        }
      ],
      "metadata": {
        "dotnet_interactive": {
          "language": "csharp"
        }
      }
    },
    {
      "cell_type": "code",
      "execution_count": null,
      "source": [],
      "outputs": [],
      "metadata": {
        "dotnet_interactive": {
          "language": "csharp"
        }
      }
    },
    {
      "cell_type": "code",
      "execution_count": null,
      "source": [],
      "outputs": [],
      "metadata": {
        "dotnet_interactive": {
          "language": "csharp"
        }
      }
    },
    {
      "cell_type": "markdown",
      "source": [
        "## Run Simulations"
      ],
      "metadata": {}
    },
    {
      "cell_type": "code",
      "execution_count": null,
      "source": [
        "BoSSSshell.ExecutionQueues.ForEach(q => Console.WriteLine(q));"
      ],
      "outputs": [
        {
          "output_type": "unknown",
          "data": {
            "text/plain": [
              "MiniBatchProcessor client @C:\\deploy-Mini\r\n"
            ]
          }
        },
        {
          "output_type": "unknown",
          "data": {
            "text/plain": [
              "SlurmClient: jg11bano@lcluster2.hrz.tu-darmstadt.de, Slurm account: project01299\r\n"
            ]
          }
        },
        {
          "output_type": "unknown",
          "data": {
            "text/plain": [
              "MS HPC client  HPCCLUSTER @DC2, @\\\\hpccluster\\hpccluster-scratch\\gutierrez\\binaries\r\n"
            ]
          }
        },
        {
          "output_type": "unknown",
          "data": {
            "text/plain": [
              "MS HPC client  HPCCLUSTER2 @DC2, @\\\\hpccluster\\hpccluster-scratch\\gutierrez\\binaries\r\n"
            ]
          }
        },
        {
          "output_type": "unknown",
          "data": {
            "text/plain": [
              "MS HPC client @DC2, @\\\\hpccluster\\hpccluster-scratch\\gutierrez\\binaries\r\n"
            ]
          }
        }
      ],
      "metadata": {
        "dotnet_interactive": {
          "language": "csharp"
        }
      }
    },
    {
      "cell_type": "code",
      "execution_count": null,
      "source": [
        "var myBatch = BoSSSshell.ExecutionQueues[2];\r\n",
        "//MiniBatchProcessor.Server.StartIfNotRunning(true);"
      ],
      "outputs": [],
      "metadata": {
        "dotnet_interactive": {
          "language": "csharp"
        }
      }
    },
    {
      "cell_type": "code",
      "execution_count": null,
      "source": [
        "myBatch.AllowedDatabasesPaths.Add(new AllowedDatabasesPair(myDb.Path,\"\"));"
      ],
      "outputs": [],
      "metadata": {
        "dotnet_interactive": {
          "language": "csharp"
        }
      }
    },
    {
      "cell_type": "code",
      "execution_count": null,
      "source": [
        "Type solver = typeof(BoSSS.Application.XNSEC.XNSEC);"
      ],
      "outputs": [],
      "metadata": {
        "dotnet_interactive": {
          "language": "csharp"
        }
      }
    },
    {
      "cell_type": "code",
      "execution_count": null,
      "source": [
        "foreach(var c in controls) {\r\n",
        "    string jobName       = c.SessionName;\r\n",
        "    var oneJob           = new Job(jobName, solver);\r\n",
        "    oneJob.NumberOfMPIProcs = 2;    \r\n",
		"    oneJob.NumberOfThreads = 1;\r\n",
        "    oneJob.SetControlObject(c);   \r\n",
        "    oneJob.Activate(myBatch); \r\n",
        "\r\n",
        "    //c.RunBatch(myBatch);    \r\n",
        "}"
      ],
      "outputs": [],
      "metadata": {
        "dotnet_interactive": {
          "language": "csharp"
        }
      }
    },
    {
      "cell_type": "code",
      "execution_count": null,
      "source": [
        "BoSSSshell.WorkflowMgm.BlockUntilAllJobsTerminate();"
      ],
      "outputs": [
        {
          "output_type": "unknown",
          "data": {
            "text/plain": [
              "All jobs finished.\r\n"
            ]
          }
        }
      ],
      "metadata": {
        "dotnet_interactive": {
          "language": "csharp"
        }
      }
    },
    {
      "cell_type": "markdown",
      "source": [
        "## Create convergence plots"
      ],
      "metadata": {}
    },
    {
      "cell_type": "code",
      "execution_count": null,
      "source": [
        "var myDb1 = OpenOrCreateDatabase(@\"C:\\Databases\\CounterFlowFlame_StrainSweep\");"
      ],
      "outputs": [
        {
          "output_type": "unknown",
          "data": {
            "text/plain": [
              "Opening existing database 'C:\\Databases\\CounterFlowFlame_StrainSweep'.\r\n"
            ]
          }
        }
      ],
      "metadata": {
        "dotnet_interactive": {
          "language": "csharp"
        }
      }
    },
    {
      "cell_type": "code",
      "execution_count": null,
      "source": [
        "myDb1.Sessions[1].Timesteps[5].Fields"
      ],
      "outputs": [
        {
          "output_type": "unknown",
          "data": {
            "text/plain": [
              "#0: Phi\r\n",
              "#1: PhiDG\r\n",
              "#2: VelocityX\r\n",
              "#3: VelocityY\r\n",
              "#4: Pressure\r\n",
              "#5: MixtureFraction\r\n",
              "#6: VelocityX@Phi\r\n",
              "#7: VelocityY@Phi\r\n"
            ]
          }
        }
      ],
      "metadata": {
        "dotnet_interactive": {
          "language": "csharp"
        }
      }
    },
    {
      "cell_type": "code",
      "execution_count": null,
      "source": [
        "var Jobs = BoSSSshell.WorkflowMgm.AllJobs;"
      ],
      "outputs": [],
      "metadata": {
        "dotnet_interactive": {
          "language": "csharp"
        }
      }
    },
    {
      "cell_type": "code",
      "execution_count": null,
      "source": [
        "Jobs.ForEach(s => Console.WriteLine(\"{0}:{1}\", Jobs.IndexOf(s),s));"
      ],
      "outputs": [],
      "metadata": {
        "dotnet_interactive": {
          "language": "csharp"
        }
      }
    },
    {
      "cell_type": "code",
      "execution_count": null,
      "source": [
        "var Tab = BoSSSshell.WorkflowMgm.SessionTable;\r\n",
        "BoSSSshell.WorkflowMgm.hConvergence.Update();\r\n"
      ],
      "outputs": [],
      "metadata": {
        "dotnet_interactive": {
          "language": "csharp"
        }
      }
    },
    {
      "cell_type": "code",
      "execution_count": null,
      "source": [
        "Tab.GetColumnNames()"
      ],
      "outputs": [
        {
          "output_type": "unknown",
          "data": {
            "text/html": [
              "<i>(empty)</i>"
            ]
          }
        }
      ],
      "metadata": {
        "dotnet_interactive": {
          "language": "csharp"
        }
      }
    },
    {
      "cell_type": "code",
      "execution_count": null,
      "source": [
        "var Tab = BoSSSshell.WorkflowMgm.SessionTable;\r\n",
        "var Tab2 = Tab.ExtractColumns(\"DGdegree:Temperature\",\"Grid:hMin\",\"Grid:NoOfCells\" ,\"L2Error_Temperature\");\r\n",
        "//Extract last point, the one against we are comparing our solutions with\r\n",
        "Tab2 = Tab2.ExtractRows((iRow,RowEntries)=> Convert.ToInt32(RowEntries[\"Grid:NoOfCells\"]) !=36 );"
      ],
      "outputs": [
        {
          "output_type": "error",
          "ename": "Error",
          "evalue": "System.ArgumentException: Column \"DGdegree:Temperature\" does not exist.\r\n   at BoSSS.Application.BoSSSpad.TableExtensions.ExtractColumns(DataTable Tab, String[] ColumnNames) in C:\\BoSSS\\experimental\\public\\src\\L4-application\\BoSSSpad\\TableExtensions.cs:line 674\r\n   at Submission#25.<<Initialize>>d__0.MoveNext()\r\n--- End of stack trace from previous location ---\r\n   at Microsoft.CodeAnalysis.Scripting.ScriptExecutionState.RunSubmissionsAsync[TResult](ImmutableArray`1 precedingExecutors, Func`2 currentExecutor, StrongBox`1 exceptionHolderOpt, Func`2 catchExceptionOpt, CancellationToken cancellationToken)",
          "traceback": [
            "System.ArgumentException: Column \"DGdegree:Temperature\" does not exist.\r\n",
            "   at BoSSS.Application.BoSSSpad.TableExtensions.ExtractColumns(DataTable Tab, String[] ColumnNames) in C:\\BoSSS\\experimental\\public\\src\\L4-application\\BoSSSpad\\TableExtensions.cs:line 674\r\n",
            "   at Submission#25.<<Initialize>>d__0.MoveNext()\r\n",
            "--- End of stack trace from previous location ---\r\n",
            "   at Microsoft.CodeAnalysis.Scripting.ScriptExecutionState.RunSubmissionsAsync[TResult](ImmutableArray`1 precedingExecutors, Func`2 currentExecutor, StrongBox`1 exceptionHolderOpt, Func`2 catchExceptionOpt, CancellationToken cancellationToken)"
          ]
        }
      ],
      "metadata": {
        "dotnet_interactive": {
          "language": "csharp"
        }
      }
    },
    {
      "cell_type": "code",
      "execution_count": null,
      "source": [
        "//Tab2.Print();\r\n",
        "var ErrorPlot = Tab2.ToPlot(\"Grid:hMin\", \"L2Error_Temperature\",\"DGdegree:Temperature\");\r\n",
        "ErrorPlot.LogX = true;\r\n",
        "ErrorPlot.LogY = true;"
      ],
      "outputs": [
        {
          "output_type": "error",
          "ename": "Error",
          "evalue": "System.NullReferenceException: Object reference not set to an instance of an object.\r\n   at BoSSS.Application.BoSSSpad.TableExtensions.GetColumnNames(DataTable tab) in C:\\BoSSS\\experimental\\public\\src\\L4-application\\BoSSSpad\\TableExtensions.cs:line 524\r\n   at BoSSS.Application.BoSSSpad.TableExtensions.ToPlot(DataTable Tab, String ColName_ForXValues, String ColName_ForYValues, String[] ColName_GroupSelection) in C:\\BoSSS\\experimental\\public\\src\\L4-application\\BoSSSpad\\TableExtensions.cs:line 972\r\n   at Submission#26.<<Initialize>>d__0.MoveNext()\r\n--- End of stack trace from previous location ---\r\n   at Microsoft.CodeAnalysis.Scripting.ScriptExecutionState.RunSubmissionsAsync[TResult](ImmutableArray`1 precedingExecutors, Func`2 currentExecutor, StrongBox`1 exceptionHolderOpt, Func`2 catchExceptionOpt, CancellationToken cancellationToken)",
          "traceback": [
            "System.NullReferenceException: Object reference not set to an instance of an object.\r\n",
            "   at BoSSS.Application.BoSSSpad.TableExtensions.GetColumnNames(DataTable tab) in C:\\BoSSS\\experimental\\public\\src\\L4-application\\BoSSSpad\\TableExtensions.cs:line 524\r\n",
            "   at BoSSS.Application.BoSSSpad.TableExtensions.ToPlot(DataTable Tab, String ColName_ForXValues, String ColName_ForYValues, String[] ColName_GroupSelection) in C:\\BoSSS\\experimental\\public\\src\\L4-application\\BoSSSpad\\TableExtensions.cs:line 972\r\n",
            "   at Submission#26.<<Initialize>>d__0.MoveNext()\r\n",
            "--- End of stack trace from previous location ---\r\n",
            "   at Microsoft.CodeAnalysis.Scripting.ScriptExecutionState.RunSubmissionsAsync[TResult](ImmutableArray`1 precedingExecutors, Func`2 currentExecutor, StrongBox`1 exceptionHolderOpt, Func`2 catchExceptionOpt, CancellationToken cancellationToken)"
          ]
        }
      ],
      "metadata": {
        "dotnet_interactive": {
          "language": "csharp"
        }
      }
    },
    {
      "cell_type": "code",
      "execution_count": null,
      "source": [
        "ErrorPlot.PlotNow()"
      ],
      "outputs": [
        {
          "output_type": "unknown",
          "data": {
            "text/plain": [
              "Using gnuplot: C:\\Program Files (x86)\\FDY\\BoSSS\\bin\\native\\win\\gnuplot-gp510-20160418-win32-mingw\\gnuplot\\bin\\gnuplot.exe\r\n"
            ]
          }
        },
        {
          "output_type": "error",
          "ename": "Error",
          "evalue": "System.NullReferenceException: Object reference not set to an instance of an object.\r\n   at BoSSS.Application.BoSSSpad.GnuplotExtensions.ToGnuplot(Plot2Ddata _2DData, GnuplotPageLayout layout) in C:\\BoSSS\\experimental\\public\\src\\L4-application\\BoSSSpad\\GnuplotExtensions.cs:line 274\r\n   at BoSSS.Application.BoSSSpad.BoSSSpadGnuplotExtensions.PlotNow(Plot2Ddata _2DData) in C:\\BoSSS\\experimental\\public\\src\\L4-application\\BoSSSpad\\BoSSSpadGnuplotExtensions.cs:line 89\r\n   at Submission#27.<<Initialize>>d__0.MoveNext()\r\n--- End of stack trace from previous location ---\r\n   at Microsoft.CodeAnalysis.Scripting.ScriptExecutionState.RunSubmissionsAsync[TResult](ImmutableArray`1 precedingExecutors, Func`2 currentExecutor, StrongBox`1 exceptionHolderOpt, Func`2 catchExceptionOpt, CancellationToken cancellationToken)",
          "traceback": [
            "System.NullReferenceException: Object reference not set to an instance of an object.\r\n",
            "   at BoSSS.Application.BoSSSpad.GnuplotExtensions.ToGnuplot(Plot2Ddata _2DData, GnuplotPageLayout layout) in C:\\BoSSS\\experimental\\public\\src\\L4-application\\BoSSSpad\\GnuplotExtensions.cs:line 274\r\n",
            "   at BoSSS.Application.BoSSSpad.BoSSSpadGnuplotExtensions.PlotNow(Plot2Ddata _2DData) in C:\\BoSSS\\experimental\\public\\src\\L4-application\\BoSSSpad\\BoSSSpadGnuplotExtensions.cs:line 89\r\n",
            "   at Submission#27.<<Initialize>>d__0.MoveNext()\r\n",
            "--- End of stack trace from previous location ---\r\n",
            "   at Microsoft.CodeAnalysis.Scripting.ScriptExecutionState.RunSubmissionsAsync[TResult](ImmutableArray`1 precedingExecutors, Func`2 currentExecutor, StrongBox`1 exceptionHolderOpt, Func`2 catchExceptionOpt, CancellationToken cancellationToken)"
          ]
        }
      ],
      "metadata": {
        "dotnet_interactive": {
          "language": "csharp"
        }
      }
    },
    {
      "cell_type": "code",
      "execution_count": null,
      "source": [
        "\r\n",
        "//Tab.GetColumnNames().ForEach(f=>Console.WriteLine(f));"
      ],
      "outputs": [],
      "metadata": {
        "dotnet_interactive": {
          "language": "csharp"
        }
      }
    },
    {
      "cell_type": "code",
      "execution_count": null,
      "source": [],
      "outputs": [],
      "metadata": {
        "dotnet_interactive": {
          "language": "csharp"
        }
      }
    },
    {
      "cell_type": "code",
      "execution_count": null,
      "source": [],
      "outputs": [],
      "metadata": {
        "dotnet_interactive": {
          "language": "csharp"
        }
      }
    },
    {
      "cell_type": "code",
      "execution_count": null,
      "source": [],
      "outputs": [],
      "metadata": {
        "dotnet_interactive": {
          "language": "csharp"
        }
      }
    },
    {
      "cell_type": "code",
      "execution_count": null,
      "source": [],
      "outputs": [],
      "metadata": {
        "dotnet_interactive": {
          "language": "csharp"
        }
      }
    },
    {
      "cell_type": "code",
      "execution_count": null,
      "source": [],
      "outputs": [],
      "metadata": {
        "dotnet_interactive": {
          "language": "csharp"
        }
      }
    },
    {
      "cell_type": "code",
      "execution_count": null,
      "source": [],
      "outputs": [],
      "metadata": {
        "dotnet_interactive": {
          "language": "csharp"
        }
      }
    }
  ],
  "metadata": {
    "kernelspec": {
      "display_name": ".NET (C#)",
      "language": "C#",
      "name": ".net-csharp"
    },
    "language_info": {
      "file_extension": ".cs",
      "mimetype": "text/x-csharp",
      "name": "C#",
      "pygments_lexer": "csharp",
      "version": "8.0"
    }
  },
  "nbformat": 4,
  "nbformat_minor": 4
}
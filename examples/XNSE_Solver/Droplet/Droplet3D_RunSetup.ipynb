{
 "cells": [
  {
   "cell_type": "code",
   "execution_count": null,
   "metadata": {
    "dotnet_interactive": {
     "language": "csharp"
    }
   },
   "outputs": [],
   "source": [
    "#r \"D:\\BoSSS-experimental\\public\\src\\L4-application\\BoSSSpad\\bin\\Release\\net5.0\\BoSSSpad.dll\"\n",
    "using System;\n",
    "using ilPSP;\n",
    "using ilPSP.Utils;\n",
    "using BoSSS.Platform;\n",
    "using BoSSS.Foundation;\n",
    "using BoSSS.Foundation.Grid;\n",
    "using BoSSS.Foundation.Grid.Classic;\n",
    "using BoSSS.Foundation.IO;\n",
    "using BoSSS.Foundation.XDG;\n",
    "using BoSSS.Solution;\n",
    "using BoSSS.Application.BoSSSpad;\n",
    "using BoSSS.Application.XNSE_Solver;\n",
    "\n",
    "using static BoSSS.Application.BoSSSpad.BoSSSshell;\n",
    "Init();\n",
    "\n",
    "databases\n"
   ]
  },
  {
   "cell_type": "code",
   "execution_count": null,
   "metadata": {
    "dotnet_interactive": {
     "language": "csharp"
    }
   },
   "outputs": [],
   "source": [
    "//BoSSSshell.WorkflowMgm.SetNameBasedSessionJobControlCorrelation();\n",
    "BoSSSshell.WorkflowMgm.Init(\"Droplet3D_LegendreSetup_paperStudy\"); "
   ]
  },
  {
   "cell_type": "code",
   "execution_count": null,
   "metadata": {
    "dotnet_interactive": {
     "language": "csharp"
    }
   },
   "outputs": [],
   "source": [
    "ExecutionQueues"
   ]
  },
  {
   "cell_type": "code",
   "execution_count": null,
   "metadata": {
    "dotnet_interactive": {
     "language": "csharp"
    }
   },
   "outputs": [],
   "source": [
    "var myBatch = GetDefaultQueue();\n",
    "myBatch"
   ]
  },
  {
   "cell_type": "code",
   "execution_count": null,
   "metadata": {
    "dotnet_interactive": {
     "language": "csharp"
    }
   },
   "outputs": [],
   "source": [
    "IDatabaseInfo myDb = BoSSSshell.WorkflowMgm.DefaultDatabase;\n",
    "myDb"
   ]
  },
  {
   "cell_type": "code",
   "execution_count": null,
   "metadata": {
    "dotnet_interactive": {
     "language": "csharp"
    }
   },
   "outputs": [],
   "source": [
    "// ===============\n",
    "// Test case setup\n",
    "// ===============\n",
    "double R0 = 0.001;\n",
    "double L  = 3.0 * R0;\n",
    "\n",
    "int m = 2;    // Legendre polynom\n",
    "//double[] T = new double[] {5e-3, 2.5e-3, 1.7e-3};    // period length corresponding to mode m  \n",
    "double[] aP = new double[] {0.5, 0.7, 0.9};    //  amplitude of the initial deformation\n",
    "int aP_Index = 0;"
   ]
  },
  {
   "cell_type": "code",
   "execution_count": null,
   "metadata": {
    "dotnet_interactive": {
     "language": "csharp"
    }
   },
   "outputs": [],
   "source": [
    "// ================\n",
    "// physical setting\n",
    "// ================\n",
    "double ratio = 0.001;\n",
    "int setup    = 3;\n",
    "\n",
    "string setupTag;\n",
    "string OhTag;\n",
    "double rhoA = 1260;\n",
    "double rhoB = rhoA * ratio;\n",
    "double muA;\n",
    "double muB;\n",
    "double sigma = 0.007;\n",
    "\n",
    "switch (setup) {\n",
    "case 1: {\n",
    "setupTag = \"Ohnesorge Zahl = 0.76\";    // critical Oh for m = 2\n",
    "OhTag    = \"076\";\n",
    "muA      = 0.0714;\n",
    "muB      = muA* ratio;\n",
    "break;\n",
    "}\n",
    "case 2: {\n",
    "setupTag = \"Ohnesorge Zahl = 0.55\";    // critical Oh for m = 4\n",
    "OhTag    = \"055\";\n",
    "muA      = 0.0517;\n",
    "muB      = muA* ratio;\n",
    "break;\n",
    "}\n",
    "case 3: {\n",
    "setupTag = \"Ohnesorge Zahl = 0.1\";\n",
    "OhTag    = \"01\";\n",
    "muA      = 0.0094;\n",
    "muB      = muA* ratio;\n",
    "break;\n",
    "}\n",
    "default:\n",
    "break;\n",
    "}"
   ]
  },
  {
   "cell_type": "code",
   "execution_count": null,
   "metadata": {
    "dotnet_interactive": {
     "language": "csharp"
    }
   },
   "outputs": [],
   "source": [
    "// ===========================\n",
    "// Grids for Convergence Study\n",
    "// ===========================\n",
    "var GridSeq = new IGridInfo[1];\n",
    "int[] kelemSeq = new int[]{6};\n",
    "bool quarterDomain = true;"
   ]
  },
  {
   "cell_type": "code",
   "execution_count": null,
   "metadata": {
    "dotnet_interactive": {
     "language": "csharp"
    }
   },
   "outputs": [],
   "source": [
    "for(int iGrid = 0; iGrid < GridSeq.Length; iGrid++) {\n",
    "    \n",
    "    int kelem = kelemSeq[iGrid];\n",
    "    \n",
    "    GridCommons grd;\n",
    "    \n",
    "if (!quarterDomain) {\n",
    "    \n",
    "    double[] xNodes = GenericBlas.Linspace(-L, L, kelem + 1);\n",
    "    double[] yNodes = GenericBlas.Linspace(-L, L, kelem + 1);  \n",
    "    double[] zNodes = GenericBlas.Linspace(-L, L, kelem + 1);    \n",
    "    grd = Grid3D.Cartesian3DGrid(xNodes, yNodes, zNodes);\n",
    "\n",
    "    grd.EdgeTagNames.Add(1, \"wall\");\n",
    " \n",
    "    grd.DefineEdgeTags(delegate (double[] X) {\n",
    "        byte et = 0;\n",
    "            if (Math.Abs(X[1] + L) <= 1.0e-8)\n",
    "                et = 1;\n",
    "            if (Math.Abs(X[1] - L) <= 1.0e-8)\n",
    "                et = 1;\n",
    "            if (Math.Abs(X[0] + L) <= 1.0e-8)\n",
    "                et = 1;\n",
    "            if (Math.Abs(X[0] - L) <= 1.0e-8)\n",
    "                et = 1;\n",
    "            if (Math.Abs(X[2] + L) <= 1.0e-8)\n",
    "                et = 1;\n",
    "            if (Math.Abs(X[2] - L) <= 1.0e-8)\n",
    "                et = 1;\n",
    "            return et;\n",
    "    });\n",
    "            \n",
    "    grd.Name = \"Droplet3D_test\"; \n",
    "    \n",
    "} else {\n",
    "\n",
    "    double[] xNodes = GenericBlas.Linspace(0, L, kelem + 1);\n",
    "    double[] yNodes = GenericBlas.Linspace(0, L, kelem + 1);  \n",
    "    double[] zNodes = GenericBlas.Linspace(-L, L, (2*kelem) + 1);    \n",
    "    grd = Grid3D.Cartesian3DGrid(xNodes, yNodes, zNodes);\n",
    "\n",
    "    grd.EdgeTagNames.Add(1, \"wall\");\n",
    "    grd.EdgeTagNames.Add(2, \"slipsymmetry\");\n",
    " \n",
    "    grd.DefineEdgeTags(delegate (double[] X) {\n",
    "        byte et = 0;\n",
    "            if (Math.Abs(X[1] + 0) <= 1.0e-8)\n",
    "                et = 2;\n",
    "            if (Math.Abs(X[1] - L) <= 1.0e-8)\n",
    "                et = 1;\n",
    "            if (Math.Abs(X[0] + 0) <= 1.0e-8)\n",
    "                et = 2;\n",
    "            if (Math.Abs(X[0] - L) <= 1.0e-8)\n",
    "                et = 1;\n",
    "            if (Math.Abs(X[2] + L) <= 1.0e-8)\n",
    "                et = 1;\n",
    "            if (Math.Abs(X[2] - L) <= 1.0e-8)\n",
    "                et = 1;\n",
    "            return et;\n",
    "    });\n",
    "            \n",
    "    grd.Name = \"Droplet3D_quarterDomain\"; \n",
    "    \n",
    "}   \n",
    "\n",
    "    //myDb.SaveGrid(ref grd);\n",
    "    var igrd = IDatabaseInfoExtensions.SaveGrid(myDb, grd);\n",
    "    \n",
    "    GridSeq[iGrid] = igrd;\n",
    "}"
   ]
  },
  {
   "cell_type": "code",
   "execution_count": null,
   "metadata": {
    "dotnet_interactive": {
     "language": "csharp"
    }
   },
   "outputs": [],
   "source": [
    "// ======================\n",
    "// Create Control objects\n",
    "// ======================\n",
    "\n",
    "int[] degS = new int[] { 3 };\n",
    "int NoProc = 3;\n",
    "\n",
    "List<XNSE_Control> controls = new List<XNSE_Control>();\n",
    "//List<int> procPerCntrl = new List<int>();"
   ]
  },
  {
   "cell_type": "code",
   "execution_count": null,
   "metadata": {
    "dotnet_interactive": {
     "language": "csharp"
    }
   },
   "outputs": [],
   "source": [
    "for(int iDeg = 0; iDeg < degS.Length; iDeg++) {\n",
    "    for(int iGrd = 0; iGrd < GridSeq.Length; iGrd++) {\n",
    "        \n",
    "        XNSE_Control C = BoSSS.Application.XNSE_Solver.PhysicalBasedTestcases.Droplet.OscillatingDroplet3D_LegendrePolynomials(R0, m, aP_Index);\n",
    "        \n",
    "        C.CutCellQuadratureType = XQuadFactoryHelper.MomentFittingVariants.Saye;\n",
    "        \n",
    "        C.savetodb          = true;\n",
    "        C.SetDatabase(myDb);\n",
    "        C.ContinueOnIoError = false;\n",
    "    \n",
    "        int pDeg = degS[iDeg];   \n",
    "        var grd  = GridSeq[iGrd];\n",
    "    \n",
    "        C.SetDGdegree(pDeg);\n",
    "        \n",
    "        C.SetGrid(grd);\n",
    "        C.AddBoundaryValue(\"wall\");\n",
    "        C.AddBoundaryValue(\"slipsymmetry\");\n",
    "    \n",
    "        C.Tags.Add(setupTag);\n",
    "        C.PhysicalParameters.rho_A = rhoA;\n",
    "        C.PhysicalParameters.rho_B = rhoB;\n",
    "        C.PhysicalParameters.mu_A  = muA;\n",
    "        C.PhysicalParameters.mu_B  = muB;\n",
    "        C.PhysicalParameters.Sigma = sigma;\n",
    "        \n",
    "        C.PhysicalParameters.IncludeConvection = true;\n",
    "    \n",
    "        \n",
    "        C.dtMin         = 5e-5;\n",
    "        C.dtMax         = 5e-5;\n",
    "        C.Endtime       = 1.0; //4.0 * T[0];\n",
    "        C.NoOfTimesteps = 1000; //(int)((4.0 * T[0]) / 1e-3);\n",
    "        \n",
    "        C.AdaptiveMeshRefinement = true;\n",
    "        C.activeAMRlevelIndicators.Add(new BoSSS.Solution.LevelSetTools.SolverWithLevelSetUpdater.AMRonNarrowband() { maxRefinementLevel = 1 });\n",
    "        C.AMR_startUpSweeps = 1;\n",
    "        \n",
    "        //C.Option_LevelSetEvolution = BoSSS.Solution.LevelSetTools.LevelSetEvolution.FastMarching;\n",
    "        //C.FastMarchingPenaltyTerms = BoSSS.Solution.LevelSetTools.Smoothing.JumpPenalization.jumpPenalizationTerms.Jump;\n",
    "        //C.Option_LevelSetEvolution = BoSSS.Solution.LevelSetTools.LevelSetEvolution.StokesExtension;  \n",
    "        \n",
    "        C.saveperiod = 2;\n",
    "        \n",
    "        C.SessionName = \"Droplet3D_k\" + pDeg + \"_mesh6_LPm\" + m + \"_Oh\" + OhTag + \"AMR1\";\n",
    "        \n",
    "        C.LinearSolver = BoSSS.Solution.Control.LinearSolverCode.direct_pardiso.GetConfig();\n",
    "        //C.LinearSolver          = LinearSolverCode.exp_Kcycle_schwarz.GetConfig();\n",
    "        //C.LinearSolver.NoOfMultigridLevels = 3;\n",
    "        C.LinearSolver.ConvergenceCriterion   = 10e-8;\n",
    "        C.NonLinearSolver.MinSolverIterations = 3;\n",
    "        \n",
    "        //controls[iDeg,iGrd] = C;\n",
    "        controls.Add(C);\n",
    "        //C.CreateJob(); // job will be permanently linked to control object\n",
    "    \n",
    "    }\n",
    "    }"
   ]
  },
  {
   "cell_type": "code",
   "execution_count": null,
   "metadata": {
    "dotnet_interactive": {
     "language": "csharp"
    }
   },
   "outputs": [],
   "source": [
    "controls.Count"
   ]
  },
  {
   "cell_type": "code",
   "execution_count": null,
   "metadata": {
    "dotnet_interactive": {
     "language": "csharp"
    }
   },
   "outputs": [],
   "source": [
    "controls.ElementAt(0).SessionName"
   ]
  },
  {
   "cell_type": "code",
   "execution_count": null,
   "metadata": {
    "dotnet_interactive": {
     "language": "csharp"
    }
   },
   "outputs": [],
   "source": [
    "foreach(var cntrl in controls) {\n",
    "    var job = new Job(cntrl.SessionName, typeof(XNSE));\n",
    "    job.SetControlObject(cntrl);\n",
    "    //job.NumberOfMPIProcs = NoProc;\n",
    "    Console.WriteLine(\"Submitting Session: {0}\", cntrl.SessionName);\n",
    "    job.Activate(myBatch, false);\n",
    "}"
   ]
  },
  {
   "cell_type": "code",
   "execution_count": null,
   "metadata": {
    "dotnet_interactive": {
     "language": "csharp"
    }
   },
   "outputs": [],
   "source": [
    "//BoSSSshell.WorkflowMgm.Sessions"
   ]
  }
 ],
 "metadata": {
  "kernelspec": {
   "display_name": ".NET (C#)",
   "language": "C#",
   "name": ".net-csharp"
  },
  "language_info": {
   "file_extension": ".cs",
   "mimetype": "text/x-csharp",
   "name": "C#",
   "pygments_lexer": "csharp",
   "version": "10.0"
  }
 },
 "nbformat": 4,
 "nbformat_minor": 2
}

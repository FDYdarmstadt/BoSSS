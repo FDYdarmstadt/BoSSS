{
 "cells": [
  {
   "cell_type": "markdown",
   "metadata": {
    "dotnet_interactive": {
     "language": "csharp"
    }
   },
   "source": [
    "## K26 - Heated Wall - Part 2: Postprocessing\n",
    "\n",
    "Interface at 90°.  \n",
    "Equal fluid densities\n",
    "Also no Heat capacity => infinitely fast heat conduction  \n",
    "Height of the domain is reduced  \n",
    "\n",
    "#### Instructions\n",
    "\n",
    "This worksheet serves as a basis to conduct various parameter studies for the Heated Wall setup."
   ]
  },
  {
   "cell_type": "markdown",
   "metadata": {},
   "source": [
    "### Step 1 - Initialization\n",
    "\n",
    "Load the BoSSS code, do not change"
   ]
  },
  {
   "cell_type": "code",
   "execution_count": null,
   "metadata": {
    "dotnet_interactive": {
     "language": "csharp"
    }
   },
   "outputs": [],
   "source": [
    "//#r \"..\\..\\..\\src\\L4-application\\BoSSSpad\\bin\\Release\\net5.0\\BoSSSpad.dll\"\n",
    "#r \"BoSSSpad.dll\"\n",
    "using System;\n",
    "using System.Collections.Generic;\n",
    "using System.Linq;\n",
    "using ilPSP;\n",
    "using ilPSP.Utils;\n",
    "using BoSSS.Platform;\n",
    "using BoSSS.Foundation;\n",
    "using BoSSS.Foundation.XDG;\n",
    "using BoSSS.Foundation.Grid;\n",
    "using BoSSS.Foundation.Grid.Classic;\n",
    "using BoSSS.Foundation.IO;\n",
    "using BoSSS.Solution;\n",
    "using BoSSS.Solution.Control;\n",
    "using BoSSS.Solution.GridImport;\n",
    "using BoSSS.Solution.Statistic;\n",
    "using BoSSS.Solution.Utils;\n",
    "using BoSSS.Solution.AdvancedSolvers;\n",
    "using BoSSS.Solution.Gnuplot;\n",
    "using BoSSS.Application.BoSSSpad;\n",
    "using BoSSS.Application.XNSE_Solver;\n",
    "using static BoSSS.Application.BoSSSpad.BoSSSshell;\n",
    "Init();"
   ]
  },
  {
   "cell_type": "markdown",
   "metadata": {},
   "source": [
    "### Step 2 - Workflowmanagement, Batchprocessor and Database"
   ]
  },
  {
   "cell_type": "code",
   "execution_count": null,
   "metadata": {
    "dotnet_interactive": {
     "language": "csharp"
    }
   },
   "outputs": [
    {
     "data": {
      "text/html": [
       "<table><thead><tr><th><i>index</i></th><th><i>type</i></th><th>DeploymentBaseDirectory</th><th>DeployRuntime</th><th>Name</th><th>DotnetRuntime</th><th>Username</th><th>ServerName</th><th>ComputeNodes</th><th>DefaultJobPriority</th><th>SingleNode</th><th>AllowedDatabasesPaths</th><th>BatchInstructionDir</th></tr></thead><tbody><tr><td>0</td><td>BoSSS.Application.BoSSSpad.MsHPC2012Client</td><td>\\\\hpccluster\\hpccluster-scratch\\rieckmann\\binaries</td><td><div class=\"dni-plaintext\">True</div></td><td><div class=\"dni-plaintext\">&lt;null&gt;</div></td><td>dotnet</td><td>FDY\\rieckmann</td><td>DC2</td><td><div class=\"dni-plaintext\">&lt;null&gt;</div></td><td><span>Normal</span></td><td><div class=\"dni-plaintext\">True</div></td><td><div class=\"dni-plaintext\">[ { \\\\hpccluster\\hpccluster-scratch\\rieckmann == : LocalMountPath: \\\\hpccluster\\hpccluster-scratch\\rieckmann, PathAtRemote:  } ]</div></td><td></td></tr><tr><td>1</td><td>BoSSS.Application.BoSSSpad.MsHPC2012Client</td><td>\\\\hpccluster\\hpccluster-scratch\\rieckmann\\binaries</td><td><div class=\"dni-plaintext\">True</div></td><td>HPCCLUSTER</td><td>dotnet</td><td>FDY\\rieckmann</td><td>DC2</td><td><div class=\"dni-plaintext\">[ hpccluster ]</div></td><td><span>Normal</span></td><td><div class=\"dni-plaintext\">True</div></td><td><div class=\"dni-plaintext\">[ { \\\\hpccluster\\hpccluster-scratch\\rieckmann\\BoSSS_DB == : LocalMountPath: \\\\hpccluster\\hpccluster-scratch\\rieckmann\\BoSSS_DB, PathAtRemote:  } ]</div></td><td></td></tr><tr><td>2</td><td>BoSSS.Application.BoSSSpad.MsHPC2012Client</td><td>\\\\hpccluster\\hpccluster-scratch\\rieckmann\\binaries</td><td><div class=\"dni-plaintext\">True</div></td><td>HPCCLUSTER2</td><td>dotnet</td><td>FDY\\rieckmann</td><td>DC2</td><td><div class=\"dni-plaintext\">[ hpccluster2 ]</div></td><td><span>Normal</span></td><td><div class=\"dni-plaintext\">True</div></td><td><div class=\"dni-plaintext\">[ { \\\\hpccluster\\hpccluster-scratch\\rieckmann\\BoSSS_DB == : LocalMountPath: \\\\hpccluster\\hpccluster-scratch\\rieckmann\\BoSSS_DB, PathAtRemote:  } ]</div></td><td></td></tr><tr><td>3</td><td>BoSSS.Application.BoSSSpad.MiniBatchProcessorClient</td><td>C:\\Users\\rieckmann\\AppData\\Local\\BoSSS-LocalJobs</td><td><div class=\"dni-plaintext\">False</div></td><td><div class=\"dni-plaintext\">&lt;null&gt;</div></td><td>dotnet</td><td></td><td></td><td></td><td></td><td></td><td></td><td><div class=\"dni-plaintext\">&lt;null&gt;</div></td></tr></tbody></table>"
      ]
     },
     "metadata": {},
     "output_type": "display_data"
    }
   ],
   "source": [
    "ExecutionQueues"
   ]
  },
  {
   "cell_type": "code",
   "execution_count": null,
   "metadata": {
    "dotnet_interactive": {
     "language": "csharp"
    }
   },
   "outputs": [
    {
     "name": "stdout",
     "output_type": "stream",
     "text": [
      "Project name is set to 'HeatedWall_Validation'.\r\n"
     ]
    }
   ],
   "source": [
    "string ProjectName = $\"HeatedWall_Validation\";\n",
    "BoSSSshell.WorkflowMgm.Init(ProjectName);"
   ]
  },
  {
   "cell_type": "code",
   "execution_count": null,
   "metadata": {
    "dotnet_interactive": {
     "language": "csharp"
    }
   },
   "outputs": [],
   "source": [
    "static var myBatch = BoSSSshell.GetDefaultQueue();"
   ]
  },
  {
   "cell_type": "code",
   "execution_count": null,
   "metadata": {
    "dotnet_interactive": {
     "language": "csharp"
    }
   },
   "outputs": [],
   "source": [
    "static var myDb = BoSSSshell.WorkflowMgm.DefaultDatabase;"
   ]
  },
  {
   "cell_type": "code",
   "execution_count": null,
   "metadata": {
    "dotnet_interactive": {
     "language": "csharp"
    }
   },
   "outputs": [
    {
     "name": "stdout",
     "output_type": "stream",
     "text": [
      "Opening existing database '\\\\hpccluster\\hpccluster-scratch\\rieckmann\\XNSFE_HeatedWall'.\r\n"
     ]
    },
    {
     "data": {
      "text/plain": [
       "\\\\hpccluster\\hpccluster-scratch\\rieckmann\\XNSFE_HeatedWall"
      ]
     },
     "metadata": {},
     "output_type": "display_data"
    }
   ],
   "source": [
    "myDb.Path"
   ]
  },
  {
   "cell_type": "code",
   "execution_count": null,
   "metadata": {
    "dotnet_interactive": {
     "language": "csharp"
    }
   },
   "outputs": [],
   "source": [
    "BoSSSshell.WorkflowMgm.SetNameBasedSessionJobControlCorrelation();"
   ]
  },
  {
   "cell_type": "markdown",
   "metadata": {},
   "source": [
    "### Step 3 - Load session data"
   ]
  },
  {
   "cell_type": "markdown",
   "metadata": {},
   "source": [
    "#### Step 3.1 - Reference sessions"
   ]
  },
  {
   "cell_type": "code",
   "execution_count": null,
   "metadata": {
    "dotnet_interactive": {
     "language": "csharp"
    }
   },
   "outputs": [],
   "source": [
    "using System.IO.Compression;"
   ]
  },
  {
   "cell_type": "code",
   "execution_count": null,
   "metadata": {
    "dotnet_interactive": {
     "language": "csharp"
    }
   },
   "outputs": [],
   "source": [
    "ZipFile.ExtractToDirectory(\"./HeatedWall_Validation.zip\", \"./HeatedWall_Validation\");"
   ]
  },
  {
   "cell_type": "code",
   "execution_count": null,
   "metadata": {
    "dotnet_interactive": {
     "language": "csharp"
    }
   },
   "outputs": [
    {
     "name": "stdout",
     "output_type": "stream",
     "text": [
      "Opening existing database './HeatedWall_Validation'.\r\n"
     ]
    },
    {
     "data": {
      "text/plain": [
       "#0: XNSFE_HeatedWall_Convergence\tHeatedWall_res:256_p:3_dR:0_MCL:False\t10/15/2021 10:42:49\t3a5e2432...\r\n",
       "#1: XNSFE_HeatedWall_Convergence\tHeatedWall_res:256_p:2_dR:0_MCL:False\t10/15/2021 10:42:32\t38c9ca48...\r\n",
       "#2: XNSFE_HeatedWall_Convergence\tHeatedWall_res:128_p:3_dR:0_MCL:False\t10/15/2021 10:40:24\t95969c1b...\r\n",
       "#3: XNSFE_HeatedWall_Convergence\tHeatedWall_res:128_p:2_dR:0_MCL:False\t10/15/2021 10:40:24\t338be26b...\r\n",
       "#4: XNSFE_HeatedWall_Convergence\tHeatedWall_res:64_p:3_dR:0_MCL:False\t10/15/2021 10:40:24\t2cfb6071...\r\n",
       "#5: XNSFE_HeatedWall_Convergence\tHeatedWall_res:64_p:2_dR:0_MCL:False\t10/15/2021 10:40:24\t7568a07b...\r\n",
       "#6: XNSFE_HeatedWall_Convergence\tHeatedWall_res:32_p:2_dR:0_MCL:False\t10/15/2021 10:40:24\ta983548a...\r\n",
       "#7: XNSFE_HeatedWall_Convergence\tHeatedWall_res:32_p:3_dR:0_MCL:False\t10/15/2021 10:40:24\t0babfb57...\r\n",
       "#8: XNSFE_HeatedWall_Convergence\tHeatedWall_res:16_p:3_dR:0_MCL:False\t10/15/2021 10:40:24\tf768975f...\r\n",
       "#9: XNSFE_HeatedWall_Convergence\tHeatedWall_res:16_p:2_dR:0_MCL:False\t10/15/2021 10:40:24\tb3ee38aa...\r\n"
      ]
     },
     "metadata": {},
     "output_type": "display_data"
    }
   ],
   "source": [
    "var dbRef = BoSSSshell.OpenOrCreateDatabase(@\"./HeatedWall_Validation\");\n",
    "var sessionsRef = dbRef.Sessions;\n",
    "sessionsRef"
   ]
  },
  {
   "cell_type": "markdown",
   "metadata": {},
   "source": [
    "Remove the reference database again, so the reference sessions don't get loaded twice."
   ]
  },
  {
   "cell_type": "code",
   "execution_count": null,
   "metadata": {
    "dotnet_interactive": {
     "language": "csharp"
    }
   },
   "outputs": [],
   "source": [
    "BoSSSshell.databases = BoSSSshell.databases.Where(db => db != dbRef).ToArray();"
   ]
  },
  {
   "cell_type": "markdown",
   "metadata": {},
   "source": [
    "#### Step 3.2 - New sessions"
   ]
  },
  {
   "cell_type": "code",
   "execution_count": null,
   "metadata": {
    "dotnet_interactive": {
     "language": "csharp"
    }
   },
   "outputs": [
    {
     "data": {
      "text/plain": [
       "#0: HeatedWall_Validation\tHeatedWall_Validation_GridRes_256_DgDegree_2_HeatFlux_0.02_DensityRatio_1\t10/28/2021 18:05:28\te41ad1bb...\r\n",
       "#1: HeatedWall_Validation\tHeatedWall_Validation_GridRes_256_DgDegree_2_HeatFlux_0.002_DensityRatio_1\t10/28/2021 18:02:27\t07db5d00...\r\n",
       "#2: HeatedWall_Validation\tHeatedWall_Validation_GridRes_256_DgDegree_2_HeatFlux_0_DensityRatio_1\t10/28/2021 17:18:29\t887defe7...\r\n",
       "#3: HeatedWall_Validation\tHeatedWall_Validation_GridRes_128_DgDegree_2_HeatFlux_0.002_DensityRatio_1\t10/28/2021 18:00:46\t83e3ab69...\r\n",
       "#4: HeatedWall_Validation\tHeatedWall_Validation_GridRes_128_DgDegree_2_HeatFlux_0.02_DensityRatio_1\t10/28/2021 18:03:51\t0c5e08ba...\r\n",
       "#5: HeatedWall_Validation\tHeatedWall_Validation_GridRes_128_DgDegree_2_HeatFlux_0_DensityRatio_1\t10/28/2021 17:16:24\t686cf0af...\r\n",
       "#6: HeatedWall_Validation\tHeatedWall_Validation_GridRes_64_DgDegree_2_HeatFlux_0.02_DensityRatio_1\t10/28/2021 18:03:15\t7127f534...\r\n",
       "#7: HeatedWall_Validation\tHeatedWall_Validation_GridRes_64_DgDegree_2_HeatFlux_0.002_DensityRatio_1\t10/28/2021 18:00:12\t8a1ff73b...\r\n",
       "#8: HeatedWall_Validation\tHeatedWall_Validation_GridRes_64_DgDegree_2_HeatFlux_0_DensityRatio_1\t10/28/2021 17:15:49\t8e026308...\r\n",
       "#9: HeatedWall_Validation\tHeatedWall_Validation_GridRes_32_DgDegree_2_HeatFlux_0.02_DensityRatio_1\t10/28/2021 18:02:55\t40005b83...\r\n",
       "#10: HeatedWall_Validation\tHeatedWall_Validation_GridRes_32_DgDegree_2_HeatFlux_0.002_DensityRatio_1\t10/28/2021 17:59:54\tc2ee2c98...\r\n",
       "#11: HeatedWall_Validation\tHeatedWall_Validation_GridRes_16_DgDegree_2_HeatFlux_0.02_DensityRatio_1\t10/28/2021 18:02:41\tf55b584f...\r\n",
       "#12: HeatedWall_Validation\tHeatedWall_Validation_GridRes_16_DgDegree_2_HeatFlux_0.002_DensityRatio_1\t10/28/2021 17:59:39\t8ff872a9...\r\n",
       "#13: HeatedWall_Validation\tHeatedWall_Validation_GridRes_32_DgDegree_2_HeatFlux_0_DensityRatio_1\t10/28/2021 17:15:24\tf0dc7438...\r\n",
       "#14: HeatedWall_Validation\tHeatedWall_Validation_GridRes_16_DgDegree_2_HeatFlux_0_DensityRatio_1\t10/28/2021 17:15:07\t299737f6...\r\n"
      ]
     },
     "metadata": {},
     "output_type": "display_data"
    }
   ],
   "source": [
    "// load all successful sessions\n",
    "var sessions = BoSSSshell.WorkflowMgm.Sessions.Where(s => s.SuccessfulTermination);\n",
    "sessions"
   ]
  },
  {
   "cell_type": "code",
   "execution_count": null,
   "metadata": {
    "dotnet_interactive": {
     "language": "csharp"
    }
   },
   "outputs": [],
   "source": [
    "var allSessions = sessions.Cat(sessionsRef);"
   ]
  },
  {
   "cell_type": "markdown",
   "metadata": {},
   "source": [
    "#### Step 3.3 - Create DataTables"
   ]
  },
  {
   "cell_type": "code",
   "execution_count": null,
   "metadata": {
    "dotnet_interactive": {
     "language": "csharp"
    }
   },
   "outputs": [],
   "source": [
    "using System.Data;"
   ]
  },
  {
   "cell_type": "code",
   "execution_count": null,
   "metadata": {
    "dotnet_interactive": {
     "language": "csharp"
    }
   },
   "outputs": [],
   "source": [
    "DataTable sessionTable = new DataTable(\"SessionTable\");\n",
    "\n",
    "DataColumn column;\n",
    "// first column session id\n",
    "column = new DataColumn();\n",
    "column.DataType = typeof(Guid);\n",
    "column.ColumnName = \"SessionID\";\n",
    "column.ReadOnly = true;\n",
    "column.Unique = true;\n",
    "sessionTable.Columns.Add(column);\n",
    "// second column study #\n",
    "column = new DataColumn();\n",
    "column.DataType = typeof(List<int>);\n",
    "column.ColumnName = \"Study#\";\n",
    "column.ReadOnly = false;\n",
    "column.Unique = false;\n",
    "sessionTable.Columns.Add(column);\n",
    "// Make the Guid column the primary key column.\n",
    "DataColumn[] PrimaryKeyColumns = new DataColumn[1];\n",
    "PrimaryKeyColumns[0] = sessionTable.Columns[\"SessionID\"];\n",
    "sessionTable.PrimaryKey = PrimaryKeyColumns;"
   ]
  },
  {
   "cell_type": "code",
   "execution_count": null,
   "metadata": {
    "dotnet_interactive": {
     "language": "csharp"
    }
   },
   "outputs": [],
   "source": [
    "DataTable studyTable = new DataTable(\"StudyTable\");\n",
    "\n",
    "DataColumn column;\n",
    "// first column study #\n",
    "column = new DataColumn();\n",
    "column.DataType = typeof(int);\n",
    "column.ColumnName = \"Study#\";\n",
    "column.AutoIncrement = true;\n",
    "column.ReadOnly = true;\n",
    "column.Unique = true;\n",
    "studyTable.Columns.Add(column);\n",
    "// second column number of reference study\n",
    "column = new DataColumn();\n",
    "column.DataType = typeof(int);\n",
    "column.ColumnName = \"RefStudy#\";\n",
    "column.AutoIncrement = true;\n",
    "column.ReadOnly = true;\n",
    "column.Unique = false;\n",
    "studyTable.Columns.Add(column);\n",
    "// third column sessions\n",
    "column = new DataColumn();\n",
    "column.DataType = typeof(Guid[]);\n",
    "column.ColumnName = \"SessionIDs\";\n",
    "column.ReadOnly = true;\n",
    "column.Unique = false;\n",
    "studyTable.Columns.Add(column);\n",
    "// fourth column description\n",
    "column = new DataColumn();\n",
    "column.DataType = typeof(string);\n",
    "column.ColumnName = \"Study Description\";\n",
    "column.ReadOnly = false;\n",
    "column.Unique = false;\n",
    "studyTable.Columns.Add(column);\n",
    "// fifth column contact line log data\n",
    "column = new DataColumn();\n",
    "column.DataType = typeof(Plot2Ddata[]);\n",
    "column.ColumnName = \"Contactline Plot Data\";\n",
    "column.ReadOnly = false;\n",
    "column.Unique = false;\n",
    "studyTable.Columns.Add(column);\n",
    "// sixth column massflux log data\n",
    "column = new DataColumn();\n",
    "column.DataType = typeof(Plot2Ddata[]);\n",
    "column.ColumnName = \"Massflux Plot Data\";\n",
    "column.ReadOnly = false;\n",
    "column.Unique = false;\n",
    "studyTable.Columns.Add(column);\n",
    "// seventh column convergence data\n",
    "column = new DataColumn();\n",
    "column.DataType = typeof(Plot2Ddata[]);\n",
    "column.ColumnName = \"Convergence Data\";\n",
    "column.ReadOnly = false;\n",
    "column.Unique = false;\n",
    "studyTable.Columns.Add(column);\n",
    "// Make the study # column the primary key column.\n",
    "DataColumn[] PrimaryKeyColumns = new DataColumn[1];\n",
    "PrimaryKeyColumns[0] = studyTable.Columns[\"Study#\"];\n",
    "studyTable.PrimaryKey = PrimaryKeyColumns;"
   ]
  },
  {
   "cell_type": "markdown",
   "metadata": {},
   "source": [
    "#### Step 3.4 - Fill sessionTable"
   ]
  },
  {
   "cell_type": "code",
   "execution_count": null,
   "metadata": {
    "dotnet_interactive": {
     "language": "csharp"
    }
   },
   "outputs": [
    {
     "data": {
      "text/html": [
       "<div class=\"dni-plaintext\">25</div>"
      ]
     },
     "metadata": {},
     "output_type": "display_data"
    }
   ],
   "source": [
    "sessionsRef.ForEach(s => {\n",
    "    var row = sessionTable.NewRow();\n",
    "    if(sessionTable.Rows.Find(s.ID) == null){\n",
    "        row[\"SessionID\"] = s.ID;     \n",
    "        row[\"Study#\"] = new List<int>();             \n",
    "        sessionTable.Rows.Add(row);\n",
    "    }\n",
    "});\n",
    "\n",
    "sessions.ForEach(s => {\n",
    "    var row = sessionTable.NewRow();\n",
    "    if(sessionTable.Rows.Find(s.ID) == null){\n",
    "        row[\"SessionID\"] = s.ID;\n",
    "        row[\"Study#\"] = new List<int>();      \n",
    "        sessionTable.Rows.Add(row);\n",
    "    }\n",
    "});\n",
    "\n",
    "sessionTable.Rows.Count"
   ]
  },
  {
   "cell_type": "markdown",
   "metadata": {},
   "source": [
    "#### Step 3.5 Fill studyTable\n",
    "\n",
    "Here you need to define the filters you are looking for. It can be helpful to add a meaningful description to your session."
   ]
  },
  {
   "cell_type": "code",
   "execution_count": null,
   "metadata": {
    "dotnet_interactive": {
     "language": "csharp"
    }
   },
   "outputs": [],
   "source": [
    "// ================== Define Filters ==================\n",
    "List<(string description, (string key, object value, Type type)[] filter)> Filters = new List<(string, (string, object, Type)[])>();\n",
    "\n",
    "Filters.Add((\"DGdegrees (2|1|2), HeatFlux 0.2\", \n",
    "    new (string, object, Type)[] {\n",
    "        (\"DGdegree:Temperature\", (object)2, typeof(int)), \n",
    "        (\"id:HeatFlux\", (object)0.2, typeof(double))\n",
    "    }));\n",
    "Filters.Add((\"DGdegrees (2|1|3), HeatFlux 0.2\", \n",
    "    new (string, object, Type)[] {\n",
    "        (\"DGdegree:Temperature\", (object)3, typeof(int)), \n",
    "        (\"id:HeatFlux\", (object)0.2, typeof(double))\n",
    "    }));\n",
    "Filters.Add((\"DGdegrees (2|1|2), HeatFlux 0.0\", \n",
    "    new (string, object, Type)[] {\n",
    "        (\"DGdegree:Temperature\", (object)2, typeof(int)), \n",
    "        (\"id:HeatFlux\", (object)0.0, typeof(double))\n",
    "    }));\n",
    "Filters.Add((\"DGdegrees (2|1|2), HeatFlux 0.0\", \n",
    "    new (string, object, Type)[] {\n",
    "        (\"DGdegree:Temperature\", (object)2, typeof(int)), \n",
    "        (\"id:HeatFlux\", (object)0.02, typeof(double))\n",
    "    }));\n",
    "Filters.Add((\"DGdegrees (2|1|2), HeatFlux 0.0\", \n",
    "    new (string, object, Type)[] {\n",
    "        (\"DGdegree:Temperature\", (object)2, typeof(int)), \n",
    "        (\"id:HeatFlux\", (object)0.002, typeof(double))\n",
    "    }));\n",
    "// ================== Define Filters =================="
   ]
  },
  {
   "cell_type": "code",
   "execution_count": null,
   "metadata": {
    "dotnet_interactive": {
     "language": "csharp"
    }
   },
   "outputs": [],
   "source": [
    "// Collect the Sessions for each study\n",
    "foreach((string description, (string key, object value, Type type)[] filter) study in Filters){\n",
    "\n",
    "    var sessionsRefColl = sessionsRef.Select(s => s).ToArray();\n",
    "    var sessionsColl = sessions.Select(s => s).ToArray();\n",
    "    foreach(var kvp in study.filter){\n",
    "        sessionsRefColl = sessionsRefColl.Where(s => Convert.ChangeType(s.KeysAndQueries[kvp.key], kvp.type).Equals(Convert.ChangeType(kvp.value, kvp.type))).ToArray();\n",
    "        sessionsColl = sessionsColl.Where(s => Convert.ChangeType(s.KeysAndQueries[kvp.key], kvp.type).Equals(Convert.ChangeType(kvp.value, kvp.type))).ToArray();\n",
    "    }\n",
    "\n",
    "    int refstudy = -1;\n",
    "    if(sessionsRefColl.Length != 0){\n",
    "        var row = studyTable.NewRow();\n",
    "        row[\"SessionIDs\"] = sessionsRefColl.Select(s => s.ID).ToArray();\n",
    "        row[\"Study Description\"] = study.description + \", reference\";\n",
    "        row[\"RefStudy#\"] = refstudy;\n",
    "        refstudy = row.Field<int>(\"Study#\");\n",
    "        if(((Guid[])row[\"SessionIDs\"]).Count() != 0){\n",
    "            sessionsRefColl.ForEach(s => sessionTable.Rows.Find(s.ID).Field<List<int>>(\"Study#\").Add(row.Field<int>(\"Study#\")));\n",
    "            studyTable.Rows.Add(row);\n",
    "        }\n",
    "    }\n",
    "    \n",
    "    if(sessionsColl.Length != 0){\n",
    "        var row = studyTable.NewRow();\n",
    "        row[\"SessionIDs\"] = sessionsColl.Select(s => s.ID).ToArray();\n",
    "        row[\"Study Description\"] = study.description;\n",
    "        row[\"RefStudy#\"] = refstudy;\n",
    "        if(((Guid[])row[\"SessionIDs\"]).Count() != 0){\n",
    "            sessionsColl.ForEach(s => sessionTable.Rows.Find(s.ID).Field<List<int>>(\"Study#\").Add(row.Field<int>(\"Study#\")));\n",
    "            studyTable.Rows.Add(row);\n",
    "        }\n",
    "    }\n",
    "    \n",
    "}\n",
    "Filters.Clear(); // remove filters, to avoid adding studies again..."
   ]
  },
  {
   "cell_type": "markdown",
   "metadata": {
    "dotnet_interactive": {
     "language": "csharp"
    }
   },
   "source": [
    "#### Step 3.6 - Perform the actual Postprocessing\n",
    "\n",
    "Now that we have sorted which studies we want to run, we fill the DataTable with the actual Postprocessing data."
   ]
  },
  {
   "cell_type": "code",
   "execution_count": null,
   "metadata": {
    "dotnet_interactive": {
     "language": "csharp"
    }
   },
   "outputs": [
    {
     "name": "stdout",
     "output_type": "stream",
     "text": [
      "number of contact lines: 2\r\n",
      "Element at 0: time vs contact-pointX\r\n",
      "Element at 1: time vs contact-pointY\r\n",
      "Element at 2: time vs contact-VelocityX\r\n",
      "Element at 3: time vs contact-VelocityY\r\n",
      "Element at 4: time vs contact-angle\r\n",
      "Element at 0: time vs mass-liq\r\n",
      "Element at 1: time vs mass-vap\r\n",
      "Element at 2: time vs mass-total\r\n",
      "Element at 3: time vs masschange-evap\r\n",
      "Element at 4: time vs masschange-vapor\r\n",
      "Element at 5: time vs masschange-liquid\r\n",
      "Element at 6: time vs masschange-total\r\n",
      "Element at 7: time vs interface length\r\n",
      "number of contact lines: 2\r\n",
      "Element at 0: time vs contact-pointX\r\n",
      "Element at 1: time vs contact-pointY\r\n",
      "Element at 2: time vs contact-VelocityX\r\n",
      "Element at 3: time vs contact-VelocityY\r\n",
      "Element at 4: time vs contact-angle\r\n",
      "Element at 0: time vs mass-liq\r\n",
      "Element at 1: time vs mass-vap\r\n",
      "Element at 2: time vs mass-total\r\n",
      "Element at 3: time vs masschange-evap\r\n",
      "Element at 4: time vs masschange-vapor\r\n",
      "Element at 5: time vs masschange-liquid\r\n",
      "Element at 6: time vs masschange-total\r\n",
      "Element at 7: time vs interface length\r\n",
      "number of contact lines: 2\r\n",
      "Element at 0: time vs contact-pointX\r\n",
      "Element at 1: time vs contact-pointY\r\n",
      "Element at 2: time vs contact-VelocityX\r\n",
      "Element at 3: time vs contact-VelocityY\r\n",
      "Element at 4: time vs contact-angle\r\n",
      "Element at 0: time vs mass-liq\r\n",
      "Element at 1: time vs mass-vap\r\n",
      "Element at 2: time vs mass-total\r\n",
      "Element at 3: time vs masschange-evap\r\n",
      "Element at 4: time vs masschange-vapor\r\n",
      "Element at 5: time vs masschange-liquid\r\n",
      "Element at 6: time vs masschange-total\r\n",
      "Element at 7: time vs interface length\r\n",
      "number of contact lines: 2\r\n",
      "Element at 0: time vs contact-pointX\r\n",
      "Element at 1: time vs contact-pointY\r\n",
      "Element at 2: time vs contact-VelocityX\r\n",
      "Element at 3: time vs contact-VelocityY\r\n",
      "Element at 4: time vs contact-angle\r\n",
      "Element at 0: time vs mass-liq\r\n",
      "Element at 1: time vs mass-vap\r\n",
      "Element at 2: time vs mass-total\r\n",
      "Element at 3: time vs masschange-evap\r\n",
      "Element at 4: time vs masschange-vapor\r\n",
      "Element at 5: time vs masschange-liquid\r\n",
      "Element at 6: time vs masschange-total\r\n",
      "Element at 7: time vs interface length\r\n",
      "number of contact lines: 2\r\n",
      "Element at 0: time vs contact-pointX\r\n",
      "Element at 1: time vs contact-pointY\r\n",
      "Element at 2: time vs contact-VelocityX\r\n",
      "Element at 3: time vs contact-VelocityY\r\n",
      "Element at 4: time vs contact-angle\r\n",
      "Element at 0: time vs mass-liq\r\n",
      "Element at 1: time vs mass-vap\r\n",
      "Element at 2: time vs mass-total\r\n",
      "Element at 3: time vs masschange-evap\r\n",
      "Element at 4: time vs masschange-vapor\r\n",
      "Element at 5: time vs masschange-liquid\r\n",
      "Element at 6: time vs masschange-total\r\n",
      "Element at 7: time vs interface length\r\n"
     ]
    }
   ],
   "source": [
    "foreach(DataRow row in studyTable.Rows){\n",
    "\n",
    "    // Plot Data\n",
    "    var sessions2process = row.Field<Guid[]>(\"SessionIDs\").Select(g => allSessions.Single(s => s.ID == g)).ToArray();    \n",
    "    row[\"Contactline Plot Data\"] = sessions2process.ReadLogDataForMovingContactLine()[1].ToArray();\n",
    "    row[\"Massflux Plot Data\"] = sessions2process.ToList().ReadLogDataForXNSE(\"Massflux\").ToArray();\n",
    "\n",
    "    // Convergence Data\n",
    "    List<ITimestepInfo> ts = sessions2process.Select(s => s.Timesteps.Newest()).ToList();\n",
    "    double endTime = ts.First().PhysicalTime;\n",
    "\n",
    "    // convergence only makes sense if all endtimes are equal in the study\n",
    "    if(Array.TrueForAll(ts.Select(t => t.PhysicalTime).ToArray(), t => Math.Abs(t-endTime) < 1e-6)){\n",
    "        List<Plot2Ddata> convPlts= new List<Plot2Ddata>();\n",
    "\n",
    "        double[] GridRes;\n",
    "        Dictionary<string, long[]> __DOFs;\n",
    "        Dictionary<string, double[]> L2Errors;\n",
    "        Guid[] timestepIds;\n",
    "        string[] fieldnames = BoSSS.Solution.NSECommon.VariableNames.VelocityVector(2).Cat(BoSSS.Solution.NSECommon.VariableNames.Pressure).Cat(BoSSS.Solution.NSECommon.VariableNames.Temperature).Cat(BoSSS.Solution.NSECommon.VariableNames.LevelSetCG);\n",
    "        DGFieldComparison.ComputeErrors(fieldnames.ToList(), ts, out GridRes, out __DOFs, out L2Errors, out timestepIds, NormType.L2_embedded); // Extrapolates XDGFields to levelset position on the finest grid, using the Shadowfields\n",
    "        \n",
    "        var plt = new Plot2Ddata();\n",
    "        plt.LogX = true;\n",
    "        plt.LogY = true;\n",
    "        foreach(string field in fieldnames){\n",
    "            int pp;\n",
    "            if(sessions2process.First().KeysAndQueries.TryGetValue(\"DGdegree:\"+field, out object p)){\n",
    "                pp = Convert.ToInt32(p);\n",
    "            } else if(sessions2process.First().KeysAndQueries.TryGetValue(\"DGdegree:\"+field.TrimEnd('X', 'Y', 'Z') + \"*\", out object ps)) {\n",
    "                pp = Convert.ToInt32(ps);\n",
    "            } else {\n",
    "                pp = 0;\n",
    "            }\n",
    "            Dictionary<string, double[][]> dataGroups = new Dictionary<string, double[][]>();\n",
    "            dataGroups.Add(field +\"$k=\"+pp+\"$\", new double[2][] { GridRes, L2Errors[field] });\n",
    "            convPlts.Add(new Plot2Ddata(dataGroups.ToArray()).WithLogX().WithLogY());\n",
    "        }\n",
    "        row[\"Convergence Data\"] = convPlts.ToArray();\n",
    "    }   \n",
    "}"
   ]
  },
  {
   "cell_type": "markdown",
   "metadata": {},
   "source": [
    "### Step 4 - Serialize Data"
   ]
  },
  {
   "cell_type": "code",
   "execution_count": null,
   "metadata": {
    "dotnet_interactive": {
     "language": "csharp"
    }
   },
   "outputs": [],
   "source": [
    "using System.IO;"
   ]
  },
  {
   "cell_type": "code",
   "execution_count": null,
   "metadata": {
    "dotnet_interactive": {
     "language": "csharp"
    }
   },
   "outputs": [],
   "source": [
    "using(var tw = new StringWriter()) {\n",
    "    string Ret = sessionTable.Serialize(); \n",
    "    File.WriteAllText(\".\\\\HeatedWall_Validation_SessionTable.json\", Ret);    \n",
    "    Ret = studyTable.Serialize(); \n",
    "    File.WriteAllText(\".\\\\HeatedWall_Validation_StudyTable.json\", Ret);  \n",
    "} "
   ]
  },
  {
   "cell_type": "code",
   "execution_count": null,
   "metadata": {
    "dotnet_interactive": {
     "language": "csharp"
    }
   },
   "outputs": [],
   "source": [
    "// deserialize like so:\n",
    "// DataSet serDataSet = new DataSet();\n",
    "// using(var tr = new StringReader(File.ReadAllText(\".\\\\HeatedWall_Validation_SessionTable.json\"))) {    \n",
    "//     var obj = TableExtensions.Deserialize(tr.ReadToEnd());\n",
    "//     obj.TableName = \"sessionTable\";\n",
    "//     serDataSet.Tables.Add(obj);\n",
    "// }\n",
    "// using(var tr = new StringReader(File.ReadAllText(\".\\\\HeatedWall_Validation_StudyTable.json\"))) {    \n",
    "//     var obj = TableExtensions.Deserialize(tr.ReadToEnd());\n",
    "//     obj.TableName = \"studyTable\";\n",
    "//     serDataSet.Tables.Add(obj);\n",
    "// }\n"
   ]
  }
 ],
 "metadata": {
  "kernelspec": {
   "display_name": ".NET (C#)",
   "language": "C#",
   "name": ".net-csharp"
  },
  "language_info": {
   "file_extension": ".cs",
   "mimetype": "text/x-csharp",
   "name": "C#",
   "pygments_lexer": "csharp",
   "version": "10.0"
  }
 },
 "nbformat": 4,
 "nbformat_minor": 2
}

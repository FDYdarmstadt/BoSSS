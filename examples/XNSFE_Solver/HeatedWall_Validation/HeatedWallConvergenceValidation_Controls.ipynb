{
 "cells": [
  {
   "cell_type": "markdown",
   "metadata": {
    "dotnet_interactive": {
     "language": "csharp"
    }
   },
   "source": [
    "## K26 - Heated Wall - Part 1: Simulation\n",
    "\n",
    "Interface at 90°.  \n",
    "Equal fluid densities\n",
    "Also no Heat capacity => infinitely fast heat conduction  \n",
    "Height of the domain is reduced  \n",
    "\n",
    "#### Instructions\n",
    "\n",
    "This worksheet serves as a basis to conduct various parameter studies for the Heated Wall setup.\n"
   ]
  },
  {
   "cell_type": "markdown",
   "metadata": {},
   "source": [
    "### Step 1 - Initialization\n",
    "\n",
    "Load the BoSSS code, do not change"
   ]
  },
  {
   "cell_type": "code",
   "execution_count": null,
   "metadata": {
    "dotnet_interactive": {
     "language": "csharp"
    }
   },
   "outputs": [],
   "source": [
    "//#r \"..\\..\\..\\src\\L4-application\\BoSSSpad\\bin\\Release\\net5.0\\BoSSSpad.dll\"\n",
    "#r \"BoSSSpad.dll\"\n",
    "using System;\n",
    "using System.Collections.Generic;\n",
    "using System.Linq;\n",
    "using ilPSP;\n",
    "using ilPSP.Utils;\n",
    "using BoSSS.Platform;\n",
    "using BoSSS.Foundation;\n",
    "using BoSSS.Foundation.XDG;\n",
    "using BoSSS.Foundation.Grid;\n",
    "using BoSSS.Foundation.Grid.Classic;\n",
    "using BoSSS.Foundation.IO;\n",
    "using BoSSS.Solution;\n",
    "using BoSSS.Solution.Control;\n",
    "using BoSSS.Solution.GridImport;\n",
    "using BoSSS.Solution.Statistic;\n",
    "using BoSSS.Solution.Utils;\n",
    "using BoSSS.Solution.AdvancedSolvers;\n",
    "using BoSSS.Solution.Gnuplot;\n",
    "using BoSSS.Application.BoSSSpad;\n",
    "using BoSSS.Application.XNSE_Solver;\n",
    "using static BoSSS.Application.BoSSSpad.BoSSSshell;\n",
    "Init();"
   ]
  },
  {
   "cell_type": "markdown",
   "metadata": {},
   "source": [
    "### Step 2 - Workflowmanagement, Batchprocessor and Database"
   ]
  },
  {
   "cell_type": "code",
   "execution_count": null,
   "metadata": {
    "dotnet_interactive": {
     "language": "csharp"
    }
   },
   "outputs": [],
   "source": [
    "ExecutionQueues"
   ]
  },
  {
   "cell_type": "code",
   "execution_count": null,
   "metadata": {
    "dotnet_interactive": {
     "language": "csharp"
    }
   },
   "outputs": [],
   "source": [
    "string ProjectName = $\"HeatedWall_Validation\";\n",
    "BoSSSshell.WorkflowMgm.Init(ProjectName);"
   ]
  },
  {
   "cell_type": "code",
   "execution_count": null,
   "metadata": {
    "dotnet_interactive": {
     "language": "csharp"
    }
   },
   "outputs": [],
   "source": [
    "static var myBatch = BoSSSshell.GetDefaultQueue();"
   ]
  },
  {
   "cell_type": "code",
   "execution_count": null,
   "metadata": {
    "dotnet_interactive": {
     "language": "csharp"
    }
   },
   "outputs": [],
   "source": [
    "static var myDb = BoSSSshell.WorkflowMgm.DefaultDatabase;"
   ]
  },
  {
   "cell_type": "code",
   "execution_count": null,
   "metadata": {
    "dotnet_interactive": {
     "language": "csharp"
    }
   },
   "outputs": [],
   "source": [
    "myDb.Path"
   ]
  },
  {
   "cell_type": "code",
   "execution_count": null,
   "metadata": {
    "dotnet_interactive": {
     "language": "csharp"
    }
   },
   "outputs": [],
   "source": [
    "BoSSSshell.WorkflowMgm.SetNameBasedSessionJobControlCorrelation();"
   ]
  },
  {
   "cell_type": "markdown",
   "metadata": {},
   "source": [
    "### Step 3 - Setup Simulationcontrols\n",
    "\n",
    "Here we can adapt stuff manually."
   ]
  },
  {
   "cell_type": "code",
   "execution_count": null,
   "metadata": {
    "dotnet_interactive": {
     "language": "csharp"
    }
   },
   "outputs": [],
   "source": [
    "using BoSSS.Application.XNSFE_Solver;"
   ]
  },
  {
   "cell_type": "markdown",
   "metadata": {},
   "source": [
    "#### Step 3.1 - Define parameter variations\n",
    "\n",
    "When introducing new variations you need to modify the setup of the controlfiles accordingly."
   ]
  },
  {
   "cell_type": "code",
   "execution_count": null,
   "metadata": {
    "dotnet_interactive": {
     "language": "csharp"
    }
   },
   "outputs": [],
   "source": [
    "Dictionary<string, object[]> Parameters = new Dictionary<string, object[]>();"
   ]
  },
  {
   "cell_type": "markdown",
   "metadata": {},
   "source": [
    "A few examples of possible variations, the loop creating the control objects contains a few more.  \n",
    "However not all of them are used here. This can be taken as some sort of blueprint for possible variations."
   ]
  },
  {
   "cell_type": "code",
   "execution_count": null,
   "metadata": {
    "dotnet_interactive": {
     "language": "csharp"
    }
   },
   "outputs": [],
   "source": [
    "Parameters.Clear();\n",
    "int[] hRes = {16, 32, 64, 128, 256};\n",
    "Parameters.Add(\"GridRes\", hRes.Select(s => (object)s).ToArray());\n",
    "\n",
    "int[] pDeg = {2}; // only Temperature order is changed\n",
    "Parameters.Add(\"DgDegree\", pDeg.Select(s => (object)s).ToArray());\n",
    "\n",
    "double[] Q = {0.0, 0.002, 0.02};//, 0.2};\n",
    "Parameters.Add(\"HeatFlux\", Q.Select(s => (object)s).ToArray());\n",
    "\n",
    "double[] rhoRatio = {1.0};\n",
    "Parameters.Add(\"DensityRatio\", rhoRatio.Select(s => (object)s).ToArray());"
   ]
  },
  {
   "cell_type": "markdown",
   "metadata": {},
   "source": [
    "Define a simple routine to try and take the parameter value from the dictionary and if not present some default value."
   ]
  },
  {
   "cell_type": "code",
   "execution_count": null,
   "metadata": {
    "dotnet_interactive": {
     "language": "csharp"
    }
   },
   "outputs": [],
   "source": [
    "public static object GetKey(this Dictionary<string, object[]> Parameters, string key,  Dictionary<string, int> indices, object defaultVal){\n",
    "    if(Parameters.TryGetValue(key, out var values)){\n",
    "        return values[indices[key]];\n",
    "    }else{\n",
    "        return defaultVal;\n",
    "    }\n",
    "}"
   ]
  },
  {
   "cell_type": "markdown",
   "metadata": {},
   "source": [
    "#### Step 3.2 - Control Creation"
   ]
  },
  {
   "cell_type": "markdown",
   "metadata": {},
   "source": [
    "Prototype of nested loop over all Parameter lists defined in the Dictionary"
   ]
  },
  {
   "cell_type": "code",
   "execution_count": null,
   "metadata": {
    "dotnet_interactive": {
     "language": "csharp"
    }
   },
   "outputs": [],
   "source": [
    "Dictionary<string, int> indices = new Dictionary<string, int>();\n",
    "indices.Clear();\n",
    "Parameters.ForEach(kvp => indices.Add(kvp.Key, 0));\n",
    "indices.Add(\"stop\", -1);\n",
    "\n",
    "int[] lengths = Parameters.Select(kvp => kvp.Value.Length).ToArray().Cat(-1);\n",
    "var keys = indices.Keys.ToArray();\n",
    "\n",
    "int pointer = 0;\n",
    "while(indices[\"stop\"] == -1){\n",
    "    \n",
    "    // for(int i = 0; i < indices.Keys.Count - 1; i++){\n",
    "    //     Console.Write(keys[i] + \":\" +Parameters[keys[i]][indices[keys[i]]]);\n",
    "    //     Console.Write(\";\");\n",
    "    // }\n",
    "    // Console.WriteLine();\n",
    "\n",
    "    indices[keys[0]]++;    \n",
    "    while (indices[keys[pointer]] == lengths[pointer]) {\n",
    "        indices[keys[pointer]] = 0;\n",
    "        indices[keys[++pointer]]++;\n",
    "        if (indices[keys[pointer]] != lengths[pointer])\n",
    "            pointer = 0;\n",
    "    }\n",
    "}"
   ]
  },
  {
   "cell_type": "markdown",
   "metadata": {},
   "source": [
    "Create the Control Objects in all possible combinations."
   ]
  },
  {
   "cell_type": "code",
   "execution_count": null,
   "metadata": {
    "dotnet_interactive": {
     "language": "csharp"
    }
   },
   "outputs": [],
   "source": [
    "// List of controls\n",
    "List<XNSFE_Control> Controls = new List<XNSFE_Control>();\n",
    "\n",
    "// objects to control the nested loop\n",
    "// ============================================================================\n",
    "Dictionary<string, int> indices = new Dictionary<string, int>();\n",
    "indices.Clear();\n",
    "Parameters.ForEach(kvp => indices.Add(kvp.Key, 0));\n",
    "indices.Add(\"stop\", -1);\n",
    "\n",
    "int[] lengths = Parameters.Select(kvp => kvp.Value.Length).ToArray().Cat(-1);\n",
    "var keys = indices.Keys.ToArray();\n",
    "\n",
    "int pointer = 0;\n",
    "// ============================================================================\n",
    "\n",
    "while(indices[\"stop\"] == -1){\n",
    "    \n",
    "    var ctrl = new XNSFE_Control();\n",
    "\n",
    "    // Add case identifications\n",
    "    Parameters.ForEach(kvp => ctrl.Paramstudy_CaseIdentification.Add(new Tuple<string, object>(kvp.Key, kvp.Value[indices[kvp.Key]])));\n",
    "\n",
    "\n",
    "    ctrl.ProjectName = ProjectName;\n",
    "    ctrl.SessionName = ProjectName;\n",
    "    Parameters.ForEach(kvp => ctrl.SessionName = ctrl.SessionName  + \"_\" + kvp.Key + \"_\" + kvp.Value[indices[kvp.Key]]);\n",
    "\n",
    "    ctrl.DbPath      = null;\n",
    "    ctrl.SetDatabase(myDb);\n",
    "    ctrl.savetodb = true;        \n",
    "\n",
    "    int p = (int)Parameters.GetKey(\"DgDegree\", indices, 2);\n",
    "    ctrl.SetDGdegree(p);\n",
    "\n",
    "    #region grid\n",
    "    double L = 5.0;\n",
    "    int kelemR = (int)Parameters.GetKey(\"GridRes\", indices, null);\n",
    "    string[] Bndy = new string[] {  \"Inner\",\n",
    "                                    \"NavierSlip_linear_ConstantHeatFlux_right\",\n",
    "                                    \"pressure_outlet_ZeroGradient_top\",\n",
    "                                    \"freeslip_ZeroGradient_left\",\n",
    "                                    \"pressure_outlet_ZeroGradient_bottom\"};\n",
    "\n",
    "    ctrl.GridFunc = delegate () {\n",
    "        double[] Xnodes = GenericBlas.Linspace(-L, 0, kelemR + 1);\n",
    "        double[] Ynodes = GenericBlas.Linspace(0, L, kelemR + 1);\n",
    "        var grd = Grid2D.Cartesian2DGrid(Xnodes, Ynodes);\n",
    "\n",
    "        for(byte i= 1; i < Bndy.Count(); i++) {\n",
    "            grd.EdgeTagNames.Add(i, Bndy[i]);\n",
    "        }\n",
    "\n",
    "        grd.DefineEdgeTags(delegate (double[] X) {\n",
    "            byte et = 0;\n",
    "            if(Math.Abs(X[0] - Xnodes.Last()) < 1e-8)\n",
    "                return 1;\n",
    "            if(Math.Abs(X[0] - Xnodes.First()) < 1e-8)\n",
    "                return 3;\n",
    "            if(Math.Abs(X[1] - Ynodes.Last()) < 1e-8)\n",
    "                return 2;\n",
    "            if(Math.Abs(X[1] - Ynodes.First()) < 1e-8)\n",
    "                return 4;\n",
    "            return et;\n",
    "        });\n",
    "\n",
    "        return grd;\n",
    "    };\n",
    "    #endregion\n",
    "\n",
    "    #region material\n",
    "    double densityRatio = (double)Parameters.GetKey(\"DensityRatio\", indices, 1.0);\n",
    "    ctrl.PhysicalParameters = new BoSSS.Solution.XNSECommon.PhysicalParameters() {\n",
    "        rho_A = 1.0,\n",
    "        rho_B = 1.0 * densityRatio,\n",
    "\n",
    "        mu_A = 1,\n",
    "        mu_B = 0.001,\n",
    "\n",
    "        Sigma = 1.0,\n",
    "        betaS_A = 1000, // sliplength is mu/beta\n",
    "        betaS_B = 1000,\n",
    "    };\n",
    "\n",
    "    ctrl.ThermalParameters = new BoSSS.Solution.XheatCommon.ThermalParameters() {\n",
    "        rho_A = 1.0,\n",
    "        rho_B = 1.0 * densityRatio,\n",
    "\n",
    "        k_A = 1.0,\n",
    "        k_B = 1.0,\n",
    "\n",
    "        c_A = 0.0,\n",
    "        c_B = 0.0,\n",
    "\n",
    "        hVap = 1,\n",
    "        T_sat = 0.0\n",
    "    };\n",
    "\n",
    "    ctrl.PhysicalParameters.IncludeConvection = true;\n",
    "    ctrl.ThermalParameters.IncludeConvection = true;\n",
    "    ctrl.PhysicalParameters.Material = false;\n",
    "    ctrl.MaterialAtContactLine = (bool)Parameters.GetKey(\"MaterialAtContactline\", indices, false);\n",
    "    #endregion\n",
    "\n",
    "    #region Initial Condition - Exact Solution\n",
    "\n",
    "    // solution for massflux and velocity at level set\n",
    "    double y0 = 0.2 * L;\n",
    "\n",
    "    // inital values\n",
    "    double g = (double)Parameters.GetKey(\"Gravity\", indices, 4.0);\n",
    "    ctrl.AddInitialValue(\"Phi\", $\"(X, t) => -{y0} + X[1]\", true);\n",
    "    ctrl.AddInitialValue(\"Temperature#A\", $\"(X, t) => {ctrl.ThermalParameters.T_sat}\", true);\n",
    "    ctrl.AddInitialValue(\"Temperature#B\", $\"(X, t) => {ctrl.ThermalParameters.T_sat}\", true);\n",
    "    ctrl.AddInitialValue(\"GravityY#A\", $\"(X, t) => -{g}\", true);\n",
    "\n",
    "    #endregion\n",
    "\n",
    "    #region Boundary Conditions\n",
    "\n",
    "    double v = 1.0;\n",
    "    double q = (double)Parameters.GetKey(\"HeatFlux\", indices, 0.0);\n",
    "    ctrl.AddBoundaryValue(Bndy[1], \"HeatFluxX#A\", $\"(X, t) => {q}\", true);\n",
    "    ctrl.AddBoundaryValue(Bndy[1], \"VelocityY#A\", $\"(X, t) => {v}\", true);\n",
    "    ctrl.AddBoundaryValue(Bndy[1], \"VelocityY#B\", $\"(X, t) => {v}\", true);\n",
    "\n",
    "\n",
    "    ctrl.AddBoundaryValue(Bndy[3]);\n",
    "    ctrl.AddBoundaryValue(Bndy[2]);\n",
    "    ctrl.AddBoundaryValue(Bndy[4], \"Pressure#A\", $\"(X, t) => {y0} * {ctrl.PhysicalParameters.rho_A} * {g}\", true);\n",
    "\n",
    "    #endregion\n",
    "\n",
    "    #region AMR\n",
    "\n",
    "    // No AMR\n",
    "    int level = (int)Parameters.GetKey(\"AMRLevel\", indices, 0);\n",
    "    ctrl.AdaptiveMeshRefinement = level > 0;\n",
    "    ctrl.activeAMRlevelIndicators.Add(new BoSSS.Solution.LevelSetTools.SolverWithLevelSetUpdater.AMRonNarrowband() { maxRefinementLevel = level });\n",
    "    ctrl.AMR_startUpSweeps = level;\n",
    "\n",
    "    #endregion\n",
    "\n",
    "    #region Timestepping\n",
    "\n",
    "    ctrl.AdvancedDiscretizationOptions.SST_isotropicMode = BoSSS.Solution.XNSECommon.SurfaceStressTensor_IsotropicMode.LaplaceBeltrami_ContactLine;\n",
    "    ctrl.Option_LevelSetEvolution = (BoSSS.Solution.LevelSetTools.LevelSetEvolution)Parameters.GetKey(\"LevelSetEvolution\", indices, BoSSS.Solution.LevelSetTools.LevelSetEvolution.FastMarching);\n",
    "    ctrl.Timestepper_LevelSetHandling =  (BoSSS.Solution.XdgTimestepping.LevelSetHandling)Parameters.GetKey(\"LevelSetHandling\", indices, BoSSS.Solution.XdgTimestepping.LevelSetHandling.LieSplitting);\n",
    "\n",
    "    ctrl.NonLinearSolver.SolverCode = NonLinearSolverCode.Newton;\n",
    "    ctrl.NonLinearSolver.Globalization = BoSSS.Solution.AdvancedSolvers.Newton.GlobalizationOption.Dogleg;\n",
    "    ctrl.NonLinearSolver.ConvergenceCriterion = 1e-8;\n",
    "    ctrl.NonLinearSolver.MaxSolverIterations = 10;\n",
    "\n",
    "    ctrl.SkipSolveAndEvaluateResidual = false;\n",
    "\n",
    "    ctrl.TimeSteppingScheme = (BoSSS.Solution.XdgTimestepping.TimeSteppingScheme)Parameters.GetKey(\"TimesteppingScheme\", indices, BoSSS.Solution.XdgTimestepping.TimeSteppingScheme.RK_ImplicitEuler);\n",
    "    ctrl.TimesteppingMode = BoSSS.Solution.Control.AppControl._TimesteppingMode.Transient;\n",
    "    ctrl.dtFixed = 0.01;\n",
    "    ctrl.Endtime = 0.1;\n",
    "    ctrl.NoOfTimesteps = int.MaxValue; // timesteps can be adapted, simulate until endtime is reached\n",
    "\n",
    "    #endregion\n",
    "    ctrl.PostprocessingModules.Add(new BoSSS.Application.XNSFE_Solver.PhysicalBasedTestcases.MassfluxLogging() { LogPeriod = 1 });\n",
    "    ctrl.PostprocessingModules.Add(new BoSSS.Application.XNSFE_Solver.PhysicalBasedTestcases.MovingContactLineLogging() { LogPeriod = 1 });\n",
    "\n",
    "    Controls.Add(ctrl);\n",
    "\n",
    "    // iteration control\n",
    "    // ==================================================\n",
    "    indices[keys[0]]++;    \n",
    "    while (indices[keys[pointer]] == lengths[pointer]) {\n",
    "        indices[keys[pointer]] = 0;\n",
    "        indices[keys[++pointer]]++;\n",
    "        if (indices[keys[pointer]] != lengths[pointer])\n",
    "            pointer = 0;\n",
    "    }\n",
    "    // ==================================================\n",
    "}"
   ]
  },
  {
   "cell_type": "code",
   "execution_count": null,
   "metadata": {
    "dotnet_interactive": {
     "language": "csharp"
    }
   },
   "outputs": [],
   "source": [
    "Console.WriteLine(\"Number of Controls: \" + Controls.Count + \":\");\n",
    "Controls.ForEach(c => Console.WriteLine(\"\\t\" + c.SessionName));"
   ]
  },
  {
   "cell_type": "markdown",
   "metadata": {
    "dotnet_interactive": {
     "language": "csharp"
    }
   },
   "source": [
    "### Step 4 - Start simulations on Batch processor"
   ]
  },
  {
   "cell_type": "code",
   "execution_count": null,
   "metadata": {
    "dotnet_interactive": {
     "language": "csharp"
    }
   },
   "outputs": [],
   "source": [
    "var jobs = BoSSSshell.WorkflowMgm.AllJobs;\n",
    "foreach(var C in Controls) {\n",
    "    Type solver = typeof(BoSSS.Application.XNSFE_Solver.XNSFE<XNSFE_Control>);\n",
    "\n",
    "    string jobName       = C.SessionName;\n",
    "    var oneJob           = new Job(jobName, solver);\n",
    "    oneJob.NumberOfMPIProcs = 1;    \n",
    "    oneJob.SetControlObject(C);\n",
    "    oneJob.Activate(myBatch, false);\n",
    "}"
   ]
  },
  {
   "cell_type": "code",
   "execution_count": null,
   "metadata": {
    "dotnet_interactive": {
     "language": "csharp"
    }
   },
   "outputs": [],
   "source": [
    "BoSSSshell.WorkflowMgm.BlockUntilAllJobsTerminate(345600, 300); // Block for ~4days adjust as necessary, see ISessionInfo.GetApproximateRunTime() on a finished Session"
   ]
  }
 ],
 "metadata": {
  "kernelspec": {
   "display_name": ".NET (C#)",
   "language": "C#",
   "name": ".net-csharp"
  },
  "language_info": {
   "file_extension": ".cs",
   "mimetype": "text/x-csharp",
   "name": "C#",
   "pygments_lexer": "csharp",
   "version": "10.0"
  }
 },
 "nbformat": 4,
 "nbformat_minor": 2
}

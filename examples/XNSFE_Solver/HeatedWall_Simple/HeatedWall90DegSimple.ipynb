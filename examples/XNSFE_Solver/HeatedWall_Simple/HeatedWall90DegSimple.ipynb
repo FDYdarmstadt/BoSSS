{
 "cells": [
  {
   "cell_type": "markdown",
   "metadata": {
    "dotnet_interactive": {
     "language": "csharp"
    }
   },
   "source": [
    "# K26 - Heated Wall\n",
    "\n",
    "Interface at 90°.  \n",
    "Equal fluid densities => simplified setting  \n",
    "Also no Heat capacity => infinitely fast heat conduction  "
   ]
  },
  {
   "cell_type": "code",
   "execution_count": null,
   "metadata": {
    "dotnet_interactive": {
     "language": "csharp"
    }
   },
   "outputs": [],
   "source": [
    "#r \"..\\..\\..\\src\\L4-application\\BoSSSpad\\bin\\Release\\net5.0\\BoSSSpad.dll\"\n",
    "using System;\n",
    "using System.Collections.Generic;\n",
    "using System.Linq;\n",
    "using ilPSP;\n",
    "using ilPSP.Utils;\n",
    "using BoSSS.Platform;\n",
    "using BoSSS.Foundation;\n",
    "using BoSSS.Foundation.XDG;\n",
    "using BoSSS.Foundation.Grid;\n",
    "using BoSSS.Foundation.Grid.Classic;\n",
    "using BoSSS.Foundation.IO;\n",
    "using BoSSS.Solution;\n",
    "using BoSSS.Solution.Control;\n",
    "using BoSSS.Solution.GridImport;\n",
    "using BoSSS.Solution.Statistic;\n",
    "using BoSSS.Solution.Utils;\n",
    "using BoSSS.Solution.AdvancedSolvers;\n",
    "using BoSSS.Solution.Gnuplot;\n",
    "using BoSSS.Application.BoSSSpad;\n",
    "using BoSSS.Application.XNSE_Solver;\n",
    "using static BoSSS.Application.BoSSSpad.BoSSSshell;\n",
    "Init();"
   ]
  },
  {
   "cell_type": "markdown",
   "metadata": {},
   "source": [
    "## Setup Workflowmanagement, Batchprocessor and Database"
   ]
  },
  {
   "cell_type": "code",
   "execution_count": null,
   "metadata": {
    "dotnet_interactive": {
     "language": "csharp"
    }
   },
   "outputs": [],
   "source": [
    "ExecutionQueues"
   ]
  },
  {
   "cell_type": "code",
   "execution_count": null,
   "metadata": {
    "dotnet_interactive": {
     "language": "csharp"
    }
   },
   "outputs": [],
   "source": [
    "static var myBatch = BoSSSshell.GetDefaultQueue();"
   ]
  },
  {
   "cell_type": "code",
   "execution_count": null,
   "metadata": {
    "dotnet_interactive": {
     "language": "csharp"
    }
   },
   "outputs": [],
   "source": [
    "BoSSSshell.WorkflowMgm.Init($\"HeatedWall_Simple\");"
   ]
  },
  {
   "cell_type": "code",
   "execution_count": null,
   "metadata": {
    "dotnet_interactive": {
     "language": "csharp"
    }
   },
   "outputs": [],
   "source": [
    "static var myDb = BoSSSshell.WorkflowMgm.DefaultDatabase;"
   ]
  },
  {
   "cell_type": "code",
   "execution_count": null,
   "metadata": {
    "dotnet_interactive": {
     "language": "csharp"
    }
   },
   "outputs": [],
   "source": [
    "myDb.Path"
   ]
  },
  {
   "cell_type": "markdown",
   "metadata": {},
   "source": [
    "## Setup Simulationcontrols"
   ]
  },
  {
   "cell_type": "code",
   "execution_count": null,
   "metadata": {
    "dotnet_interactive": {
     "language": "csharp"
    }
   },
   "outputs": [],
   "source": [
    "using BoSSS.Application.XNSFE_Solver;"
   ]
  },
  {
   "cell_type": "code",
   "execution_count": null,
   "metadata": {
    "dotnet_interactive": {
     "language": "csharp"
    }
   },
   "outputs": [],
   "source": [
    "int[] hRes = {4};//{1, 2, 3, 4};\n",
    "int[] pDeg = {2};//{ 1, 2, 3, 4};\n",
    "double[] Q = {0.0, 0.05, 0.1, 0.2};"
   ]
  },
  {
   "cell_type": "code",
   "execution_count": null,
   "metadata": {
    "dotnet_interactive": {
     "language": "csharp"
    }
   },
   "outputs": [],
   "source": [
    "List<XNSFE_Control> Controls = new List<XNSFE_Control>();\n",
    "foreach(int h in hRes){\n",
    "    foreach(int p in pDeg){\n",
    "        foreach(double q in Q){\n",
    "\n",
    "        var ctrl = new XNSFE_Control();\n",
    "        ctrl.Paramstudy_CaseIdentification.Add(new Tuple<string, object>(\"HeatFlux\", q));\n",
    "\n",
    "        ctrl.DbPath      = null;\n",
    "        ctrl.SessionName = $\"HeatedWall_Simple_res:{h}_p:{p}_Q:{q}\";\n",
    "        ctrl.ProjectName = $\"HeatedWall_Simple\";\n",
    "        ctrl.SetDatabase(myDb);\n",
    "        ctrl.savetodb = true;        \n",
    "\n",
    "        ctrl.FieldOptions.Add(\"VelocityX\", new FieldOpts() {\n",
    "            Degree = p,\n",
    "            SaveToDB = FieldOpts.SaveToDBOpt.TRUE\n",
    "        });\n",
    "        ctrl.FieldOptions.Add(\"VelocityY\", new FieldOpts() {\n",
    "            Degree = p,\n",
    "            SaveToDB = FieldOpts.SaveToDBOpt.TRUE\n",
    "        });\n",
    "        ctrl.FieldOptions.Add(\"GravityX#A\", new FieldOpts() {\n",
    "            SaveToDB = FieldOpts.SaveToDBOpt.TRUE\n",
    "        });\n",
    "        ctrl.FieldOptions.Add(\"GravityY#A\", new FieldOpts() {\n",
    "            SaveToDB = FieldOpts.SaveToDBOpt.TRUE\n",
    "        });\n",
    "        ctrl.FieldOptions.Add(\"GravityX#B\", new FieldOpts() {\n",
    "            SaveToDB = FieldOpts.SaveToDBOpt.TRUE\n",
    "        });\n",
    "        ctrl.FieldOptions.Add(\"GravityY#B\", new FieldOpts() {\n",
    "            SaveToDB = FieldOpts.SaveToDBOpt.TRUE\n",
    "        });\n",
    "        ctrl.FieldOptions.Add(\"Pressure\", new FieldOpts() {\n",
    "            Degree = p - 1,\n",
    "            SaveToDB = FieldOpts.SaveToDBOpt.TRUE\n",
    "        });\n",
    "        ctrl.FieldOptions.Add(\"PhiDG\", new FieldOpts() {\n",
    "            SaveToDB = FieldOpts.SaveToDBOpt.TRUE\n",
    "        });\n",
    "        ctrl.FieldOptions.Add(\"Phi\", new FieldOpts() {\n",
    "            Degree = Math.Max(p, 2),\n",
    "            SaveToDB = FieldOpts.SaveToDBOpt.TRUE\n",
    "        });\n",
    "        ctrl.FieldOptions.Add(\"Temperature\", new FieldOpts() {\n",
    "            Degree = p,\n",
    "            SaveToDB = FieldOpts.SaveToDBOpt.TRUE\n",
    "        });\n",
    "\n",
    "        #region grid\n",
    "        double L = 5.0;\n",
    "        int kelemR = h;\n",
    "        string[] Bndy = new string[] {  \"Inner\",\n",
    "                                        \"NavierSlip_linear_ConstantHeatFlux_right\",\n",
    "                                        \"pressure_outlet_ZeroGradient_top\",\n",
    "                                        \"freeslip_ZeroGradient_left\",\n",
    "                                        \"pressure_outlet_ZeroGradient_bottom\"};\n",
    "\n",
    "        ctrl.GridFunc = delegate () {\n",
    "            double[] Xnodes = GenericBlas.Linspace(-L, 0, kelemR + 1);\n",
    "            double[] Ynodes = GenericBlas.Linspace(0, 3 * L, 3 * kelemR + 1);\n",
    "            var grd = Grid2D.Cartesian2DGrid(Xnodes, Ynodes);\n",
    "\n",
    "            for(byte i= 1; i < Bndy.Count(); i++) {\n",
    "                grd.EdgeTagNames.Add(i, Bndy[i]);\n",
    "            }\n",
    "\n",
    "            grd.DefineEdgeTags(delegate (double[] X) {\n",
    "                byte et = 0;\n",
    "                if(Math.Abs(X[0] - Xnodes.Last()) < 1e-8)\n",
    "                    return 1;\n",
    "                if(Math.Abs(X[0] - Xnodes.First()) < 1e-8)\n",
    "                    return 3;\n",
    "                if(Math.Abs(X[1] - Ynodes.Last()) < 1e-8)\n",
    "                    return 2;\n",
    "                if(Math.Abs(X[1] - Ynodes.First()) < 1e-8)\n",
    "                    return 4;\n",
    "                return et;\n",
    "            });\n",
    "\n",
    "            return grd;\n",
    "        };\n",
    "        #endregion\n",
    "\n",
    "        #region material\n",
    "        ctrl.PhysicalParameters = new BoSSS.Solution.XNSECommon.PhysicalParameters() {\n",
    "            rho_A = 1.0, // 958.0\n",
    "            rho_B = 1.0, // 0.59,\n",
    "\n",
    "            mu_A = 1, //2.82 * 1e-4,\n",
    "            mu_B = 0.001, //1.23 * 1e-6,\n",
    "\n",
    "            Sigma = 1.0,\n",
    "            betaS_A = 1000, // sliplength is mu/beta\n",
    "            betaS_B = 1000,\n",
    "        };\n",
    "\n",
    "        ctrl.ThermalParameters = new BoSSS.Solution.XheatCommon.ThermalParameters() {\n",
    "            rho_A = 1.0, // 958.0\n",
    "            rho_B = 1.0, //0.59,\n",
    "\n",
    "            k_A = 1.0, // 0.6\n",
    "            k_B = 1.0, // 0.026,\n",
    "\n",
    "            c_A = 0.0,\n",
    "            c_B = 0.0,\n",
    "\n",
    "            hVap = 1,//2.257 * 1e6,\n",
    "            T_sat = 0.0 // 373.0\n",
    "        };\n",
    "\n",
    "        ctrl.PhysicalParameters.IncludeConvection = true;\n",
    "        ctrl.ThermalParameters.IncludeConvection = true;\n",
    "        ctrl.PhysicalParameters.Material = false;\n",
    "        #endregion\n",
    "\n",
    "        #region Initial Condition - Exact Solution\n",
    "\n",
    "        // solution for massflux and velocity at level set\n",
    "        double y0 = 0.2 * L;\n",
    "\n",
    "        // inital values\n",
    "        double g = 4;\n",
    "        ctrl.AddInitialValue(\"Phi\", $\"(X, t) => -{y0} + X[1]\", true);\n",
    "        ctrl.AddInitialValue(\"Temperature#A\", $\"(X, t) => {ctrl.ThermalParameters.T_sat}\", true);\n",
    "        ctrl.AddInitialValue(\"Temperature#B\", $\"(X, t) => {ctrl.ThermalParameters.T_sat}\", true);\n",
    "        ctrl.AddInitialValue(\"GravityY#A\", $\"(X, t) => -{g}\", true);\n",
    "\n",
    "        #endregion\n",
    "\n",
    "        #region Boundary Conditions\n",
    "\n",
    "        double v = 1.0;\n",
    "        ctrl.AddBoundaryValue(Bndy[1], \"HeatFluxX#A\", $\"(X, t) => {q}\", true);\n",
    "        ctrl.AddBoundaryValue(Bndy[1], \"VelocityY#A\", $\"(X, t) => {v}\", true);\n",
    "        ctrl.AddBoundaryValue(Bndy[1], \"VelocityY#B\", $\"(X, t) => {v}\", true);\n",
    "\n",
    "\n",
    "        ctrl.AddBoundaryValue(Bndy[3]);\n",
    "        ctrl.AddBoundaryValue(Bndy[2]);\n",
    "        ctrl.AddBoundaryValue(Bndy[4], \"Pressure#A\", $\"(X, t) => {y0} * {ctrl.PhysicalParameters.rho_A} * {g}\", true);\n",
    "\n",
    "        #endregion\n",
    "\n",
    "        #region AMR\n",
    "\n",
    "        int level = 3;\n",
    "        ctrl.AdaptiveMeshRefinement = level > 0;\n",
    "        ctrl.activeAMRlevelIndicators.Add(new BoSSS.Solution.LevelSetTools.SolverWithLevelSetUpdater.AMRonNarrowband() { maxRefinementLevel = level });\n",
    "        ctrl.AMR_startUpSweeps = level;\n",
    "\n",
    "        #endregion\n",
    "\n",
    "        #region Timestepping\n",
    "\n",
    "        ctrl.AdvancedDiscretizationOptions.SST_isotropicMode = BoSSS.Solution.XNSECommon.SurfaceStressTensor_IsotropicMode.LaplaceBeltrami_ContactLine;\n",
    "        ctrl.Option_LevelSetEvolution = BoSSS.Solution.LevelSetTools.LevelSetEvolution.FastMarching;\n",
    "        ctrl.Timestepper_LevelSetHandling =  BoSSS.Solution.XdgTimestepping.LevelSetHandling.LieSplitting;\n",
    "\n",
    "        ctrl.NonLinearSolver.SolverCode = NonLinearSolverCode.Newton;\n",
    "        ctrl.NonLinearSolver.Globalization = BoSSS.Solution.AdvancedSolvers.Newton.GlobalizationOption.Dogleg;\n",
    "        ctrl.NonLinearSolver.ConvergenceCriterion = 1e-8;\n",
    "        ctrl.NonLinearSolver.MaxSolverIterations = 10;\n",
    "\n",
    "        ctrl.SkipSolveAndEvaluateResidual = false;\n",
    "\n",
    "        ctrl.TimeSteppingScheme = BoSSS.Solution.XdgTimestepping.TimeSteppingScheme.ImplicitEuler;\n",
    "        ctrl.TimesteppingMode = BoSSS.Solution.Control.AppControl._TimesteppingMode.Transient;\n",
    "        ctrl.dtFixed = 0.01;\n",
    "        ctrl.Endtime = 15.0;\n",
    "        ctrl.NoOfTimesteps = (int)(ctrl.Endtime / ctrl.dtFixed);\n",
    "\n",
    "        #endregion\n",
    "        ctrl.PostprocessingModules.Add(new BoSSS.Application.XNSFE_Solver.PhysicalBasedTestcases.MassfluxLogging() { LogPeriod = 1 });\n",
    "        ctrl.PostprocessingModules.Add(new BoSSS.Application.XNSFE_Solver.PhysicalBasedTestcases.MovingContactLineLogging() { LogPeriod = 1 });\n",
    "\n",
    "        Controls.Add(ctrl);\n",
    "        }\n",
    "    }\n",
    "}"
   ]
  },
  {
   "cell_type": "code",
   "execution_count": null,
   "metadata": {
    "dotnet_interactive": {
     "language": "csharp"
    }
   },
   "outputs": [],
   "source": [
    "Controls.Count"
   ]
  },
  {
   "cell_type": "markdown",
   "metadata": {
    "dotnet_interactive": {
     "language": "csharp"
    }
   },
   "source": [
    "## Start simulations on Batch processor"
   ]
  },
  {
   "cell_type": "code",
   "execution_count": null,
   "metadata": {
    "dotnet_interactive": {
     "language": "csharp"
    }
   },
   "outputs": [],
   "source": [
    "foreach(var C in Controls) {\n",
    "    Type solver = typeof(BoSSS.Application.XNSFE_Solver.XNSFE<XNSFE_Control>);\n",
    "\n",
    "    string jobName       = C.SessionName;\n",
    "    var oneJob           = new Job(jobName, solver);\n",
    "    oneJob.NumberOfMPIProcs = 1;    \n",
    "    oneJob.SetControlObject(C);\n",
    "    oneJob.Activate(myBatch, true);\n",
    "}"
   ]
  }
 ],
 "metadata": {
  "kernelspec": {
   "display_name": ".NET (C#)",
   "language": "C#",
   "name": ".net-csharp"
  },
  "language_info": {
   "file_extension": ".cs",
   "mimetype": "text/x-csharp",
   "name": "C#",
   "pygments_lexer": "csharp",
   "version": "10.0"
  }
 },
 "nbformat": 4,
 "nbformat_minor": 2
}

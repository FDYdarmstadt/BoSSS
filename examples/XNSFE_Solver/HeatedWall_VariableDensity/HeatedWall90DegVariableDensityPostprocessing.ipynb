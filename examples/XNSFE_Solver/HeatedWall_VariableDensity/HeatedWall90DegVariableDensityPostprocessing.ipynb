{
 "cells": [
  {
   "cell_type": "markdown",
   "metadata": {
    "dotnet_interactive": {
     "language": "csharp"
    }
   },
   "source": [
    "# K26 - Heated Wall\n",
    "\n",
    "Interface at 90°.  \n",
    "Equal fluid densities => simplified setting  \n",
    "Also no Heat capacity => infinitely fast heat conduction  "
   ]
  },
  {
   "cell_type": "code",
   "execution_count": null,
   "metadata": {
    "dotnet_interactive": {
     "language": "csharp"
    }
   },
   "outputs": [],
   "source": [
    "#r \"..\\..\\..\\src\\L4-application\\BoSSSpad\\bin\\Release\\net5.0\\BoSSSpad.dll\"\n",
    "using System;\n",
    "using System.Collections.Generic;\n",
    "using System.Linq;\n",
    "using ilPSP;\n",
    "using ilPSP.Utils;\n",
    "using BoSSS.Platform;\n",
    "using BoSSS.Foundation;\n",
    "using BoSSS.Foundation.XDG;\n",
    "using BoSSS.Foundation.Grid;\n",
    "using BoSSS.Foundation.Grid.Classic;\n",
    "using BoSSS.Foundation.IO;\n",
    "using BoSSS.Solution;\n",
    "using BoSSS.Solution.Control;\n",
    "using BoSSS.Solution.GridImport;\n",
    "using BoSSS.Solution.Statistic;\n",
    "using BoSSS.Solution.Utils;\n",
    "using BoSSS.Solution.AdvancedSolvers;\n",
    "using BoSSS.Solution.Gnuplot;\n",
    "using BoSSS.Application.BoSSSpad;\n",
    "using BoSSS.Application.XNSE_Solver;\n",
    "using static BoSSS.Application.BoSSSpad.BoSSSshell;\n",
    "Init();"
   ]
  },
  {
   "cell_type": "markdown",
   "metadata": {},
   "source": [
    "## Setup Workflowmanagement, Batchprocessor and Database"
   ]
  },
  {
   "cell_type": "code",
   "execution_count": null,
   "metadata": {
    "dotnet_interactive": {
     "language": "csharp"
    }
   },
   "outputs": [
    {
     "data": {
      "text/html": []
     },
     "metadata": {},
     "output_type": "display_data"
    }
   ],
   "source": [
    "ExecutionQueues"
   ]
  },
  {
   "cell_type": "code",
   "execution_count": null,
   "metadata": {
    "dotnet_interactive": {
     "language": "csharp"
    }
   },
   "outputs": [],
   "source": [
    "BoSSSshell.WorkflowMgm.Init($\"HeatedWall_Simple\");"
   ]
  },
  {
   "cell_type": "code",
   "execution_count": null,
   "metadata": {
    "dotnet_interactive": {
     "language": "csharp"
    }
   },
   "outputs": [],
   "source": [
    "static var myBatch = BoSSSshell.GetDefaultQueue();"
   ]
  },
  {
   "cell_type": "code",
   "execution_count": null,
   "metadata": {
    "dotnet_interactive": {
     "language": "csharp"
    }
   },
   "outputs": [],
   "source": [
    "static var myDb = BoSSSshell.WorkflowMgm.DefaultDatabase;"
   ]
  },
  {
   "cell_type": "markdown",
   "metadata": {
    "dotnet_interactive": {
     "language": "csharp"
    }
   },
   "source": [
    "## Postprocessing"
   ]
  },
  {
   "cell_type": "code",
   "execution_count": null,
   "metadata": {
    "dotnet_interactive": {
     "language": "csharp"
    }
   },
   "outputs": [],
   "source": [
    "var sessions = BoSSSshell.WorkflowMgm.Sessions;"
   ]
  },
  {
   "cell_type": "code",
   "execution_count": null,
   "metadata": {
    "dotnet_interactive": {
     "language": "csharp"
    }
   },
   "outputs": [],
   "source": [
    "var dataCL = sessions.ReadLogDataForMovingContactLine()[1];\n",
    "var dataEvap = sessions.ReadLogDataForXNSE(\"Massflux\");\n",
    "dataCL.Pick(4).dataGroups.ForEach(s => s.Values = s.Values.Select(v => 180 - v ).ToArray());\n",
    "\n",
    "Plot2Ddata evapFluxes = new Plot2Ddata();\n",
    "evapFluxes.dataGroups = new Plot2Ddata.XYvalues[dataEvap.Pick(3).dataGroups.Length]; // same as total evaporative heatflux * dt, as rho = hvap = 1\n",
    "Plot2Ddata bndFluxes = new Plot2Ddata();\n",
    "bndFluxes.dataGroups = new Plot2Ddata.XYvalues[dataCL.Pick(1).dataGroups.Length]; \n",
    "Plot2Ddata.XYvalues[] Vals = new Plot2Ddata.XYvalues[dataCL.Pick(4).dataGroups.Length];\n",
    "Plot2Ddata clVeloY = new Plot2Ddata();\n",
    "clVeloY.dataGroups = new Plot2Ddata.XYvalues[dataCL.Pick(3).dataGroups.Length]; \n",
    "int dashType = 0;\n",
    "for(int i = 0; i<sessions.Count;i++){\n",
    "    sessions[i].KeysAndQueries.TryGetValue(\"id:PressureRatio\", out object color);\n",
    "    color = color == null ? 7 : Convert.ToInt32(color);\n",
    "    dataCL.ForEach(p => p.dataGroups[i].Name = \"q:\" + Convert.ToString(sessions[i].KeysAndQueries[\"id:HeatFlux\"]));\n",
    "    dataEvap.ForEach(p => p.dataGroups[i].Name = \"q:\" + Convert.ToString(sessions[i].KeysAndQueries[\"id:HeatFlux\"]));\n",
    "    PlotFormat PF = new PlotFormat(lineColor: (LineColors)color, dashType: ((DashTypes)(++dashType)));\n",
    "    dataCL.ForEach(p => p.dataGroups[i].Format = PF.CloneAs());\n",
    "    dataEvap.ForEach(p => p.dataGroups[i].Format = PF.CloneAs());\n",
    "    \n",
    "    double alpha = 180/Math.PI * 0.5*Math.Asin(2*Convert.ToDouble(sessions[i].KeysAndQueries[\"id:HeatFlux\"]));\n",
    "    Vals[i] = new Plot2Ddata.XYvalues(\"q:\" + Convert.ToString(sessions[i].KeysAndQueries[\"id:HeatFlux\"]), new double[] {0.0, 15}, new double[] {alpha, alpha});\n",
    "    Vals[i].Format = new PlotFormat(\"b-\");\n",
    "\n",
    "    double dt = Convert.ToDouble(sessions[i].KeysAndQueries[\"dtFixed\"]);\n",
    "    PF.LineWidth = 2.0;\n",
    "    PF.LineColor = (LineColors)1;\n",
    "    PF.DashType = (DashTypes)1;\n",
    "    evapFluxes.dataGroups[i] = new Plot2Ddata.XYvalues(\"\");\n",
    "    evapFluxes.dataGroups[i].Values = dataEvap.Pick(3).dataGroups[i].Values.Select(x => x).ToArray();\n",
    "    evapFluxes.dataGroups[i].Abscissas = dataEvap.Pick(3).dataGroups[i].Abscissas.Select(x => x).ToArray();\n",
    "    evapFluxes.dataGroups[i].Name = \"Q-Evap:\" + Convert.ToString(sessions[i].KeysAndQueries[\"id:HeatFlux\"]);\n",
    "    evapFluxes.dataGroups[i].Format = PF.CloneAs();\n",
    "    evapFluxes.dataGroups[i].Values = evapFluxes.dataGroups[i].Values.Select(v => v / dt).ToArray();\n",
    "\n",
    "    PF.LineColor = (LineColors)3;\n",
    "    PF.DashType = (DashTypes)3;\n",
    "    bndFluxes.dataGroups[i] = new Plot2Ddata.XYvalues(\"\");\n",
    "    bndFluxes.dataGroups[i].Values = dataCL.Pick(1).dataGroups[i].Values.Select(x => x).ToArray();\n",
    "    bndFluxes.dataGroups[i].Abscissas = dataCL.Pick(1).dataGroups[i].Abscissas.Select(x => x).ToArray();\n",
    "    bndFluxes.dataGroups[i].Name = \"Q-Bnd:\" + Convert.ToString(sessions[i].KeysAndQueries[\"id:HeatFlux\"]);\n",
    "    bndFluxes.dataGroups[i].Format = PF.CloneAs();\n",
    "    bndFluxes.dataGroups[i].Values = bndFluxes.dataGroups[i].Values.Select(v => v * Convert.ToDouble(sessions[i].KeysAndQueries[\"id:HeatFlux\"])).ToArray();\n",
    "\n",
    "    PF.LineColor = (LineColors)color;\n",
    "    PF.DashType = (DashTypes)dashType;\n",
    "    clVeloY.dataGroups[i] = new Plot2Ddata.XYvalues(\"\");\n",
    "    clVeloY.dataGroups[i].Values = new double[dataCL.Pick(3).dataGroups[i].Values.Length];\n",
    "    for(int j = 0; j<dataCL.Pick(3).dataGroups[i].Values.Length; j++){\n",
    "        clVeloY.dataGroups[i].Values[j] = dataCL.Pick(3).dataGroups[i].Values[j] - dataCL.Pick(2).dataGroups[i].Values[j] / Math.Tan(Math.PI / 180.0 * dataCL.Pick(4).dataGroups[i].Values[j]);\n",
    "    } \n",
    "    clVeloY.dataGroups[i].Abscissas = dataCL.Pick(1).dataGroups[i].Abscissas.Select(x => x).ToArray();\n",
    "    clVeloY.dataGroups[i].Name = \"Q:\" + Convert.ToString(sessions[i].KeysAndQueries[\"id:HeatFlux\"]);\n",
    "    clVeloY.dataGroups[i].Format = PF.CloneAs();\n",
    "}\n",
    "dataCL.Pick(4).dataGroups = dataCL.Pick(4).dataGroups.ToList().Cat(Vals).ToArray();    \n",
    "evapFluxes = evapFluxes.Merge(bndFluxes);"
   ]
  },
  {
   "cell_type": "code",
   "execution_count": null,
   "metadata": {
    "dotnet_interactive": {
     "language": "csharp"
    }
   },
   "outputs": [],
   "source": [
    "var gp = new Gnuplot();\n",
    "var data = dataCL.Pick(4);\n",
    "data.Xlabel = \"time [s]\";\n",
    "data.Ylabel = \"angle [°]\";\n",
    "data.ToGnuplot(gp);\n",
    "gp.PlotNow()"
   ]
  },
  {
   "cell_type": "code",
   "execution_count": null,
   "metadata": {
    "dotnet_interactive": {
     "language": "csharp"
    }
   },
   "outputs": [],
   "source": [
    "var gp = new Gnuplot();\n",
    "var data = evapFluxes;\n",
    "data.Xlabel = \"time [s]\";\n",
    "data.Ylabel = \"Total Heat Flux [W]\";\n",
    "data.ToGnuplot(gp);\n",
    "gp.PlotNow()"
   ]
  },
  {
   "cell_type": "code",
   "execution_count": null,
   "metadata": {
    "dotnet_interactive": {
     "language": "csharp"
    }
   },
   "outputs": [],
   "source": [
    "var gp = new Gnuplot();\n",
    "var data = dataCL.Pick(1);\n",
    "data.Xlabel = \"time [s]\";\n",
    "data.Ylabel = \"Pos Y [m]\";\n",
    "data.ToGnuplot(gp);\n",
    "gp.PlotNow()"
   ]
  },
  {
   "cell_type": "code",
   "execution_count": null,
   "metadata": {
    "dotnet_interactive": {
     "language": "csharp"
    }
   },
   "outputs": [],
   "source": [
    "var gp = new Gnuplot();\n",
    "var data = clVeloY;\n",
    "data.Xlabel = \"time [s]\";\n",
    "data.Ylabel = \"V_y [m/s]\";\n",
    "data.ToGnuplot(gp);\n",
    "gp.PlotNow()"
   ]
  }
 ],
 "metadata": {
  "kernelspec": {
   "display_name": ".NET (C#)",
   "language": "C#",
   "name": ".net-csharp"
  },
  "language_info": {
   "file_extension": ".cs",
   "mimetype": "text/x-csharp",
   "name": "C#",
   "pygments_lexer": "csharp",
   "version": "10.0"
  }
 },
 "nbformat": 4,
 "nbformat_minor": 2
}

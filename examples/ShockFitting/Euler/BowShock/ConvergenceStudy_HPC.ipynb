{
 "cells": [
  {
   "attachments": {},
   "cell_type": "markdown",
   "metadata": {},
   "source": [
    "This Notebook launches a convergence study for the Bow Shock Problem as presented in the paper \"An Extended Discontinuous Galerkin Method for High-order shock treatment\" (2023) \n",
    " The calculations can be very long. \n",
    " In order to use a HPC cluster ``..\\.BoSSS\\etc\\BatchProcessorConfig.json`` must be modified for the execution queue"
   ]
  },
  {
   "cell_type": "code",
   "execution_count": 1,
   "metadata": {
    "dotnet_interactive": {
     "language": "csharp"
    }
   },
   "outputs": [],
   "source": [
    "#r \".\\binaries\\BoSSSpad.dll\"\n",
    "#r \".\\binaries\\XESF.dll\"\n",
    "using System;\n",
    "using BoSSS.Foundation;\n",
    "using BoSSS.Application.BoSSSpad;\n",
    "using BoSSS.Solution;\n",
    "using BoSSS.Solution.Tecplot;\n",
    "using BoSSS.Foundation.IO;\n",
    "using ilPSP.Tracing;\n",
    "using BoSSS.Solution.Utils;\n",
    "using ilPSP.LinSolvers;\n",
    "using BoSSS.Solution.NSECommon;\n",
    "using ilPSP.Connectors.Matlab;\n",
    "using ilPSP;\n",
    "using BoSSS.Foundation.Grid.Classic;\n",
    "using ilPSP.Utils;\n",
    "using BoSSS.Foundation.Grid.RefElements;\n",
    "using System.Collections.Generic;\n",
    "using BoSSS.Foundation.Grid;\n",
    "using BoSSS.Foundation.XDG;\n",
    "using BoSSS.Solution.XdgTimestepping;\n",
    "using BoSSS.Solution.AdvancedSolvers;\n",
    "using System.Linq;\n",
    "using BoSSS.Foundation.Grid.Aggregation;\n",
    "using BoSSS.Platform;\n",
    "using MPI.Wrappers;\n",
    "using System.Diagnostics;\n",
    "using System.IO;\n",
    "using System.Collections;\n",
    "using BoSSS.Foundation.Quadrature;\n",
    "using BoSSS.Solution.Statistic;\n",
    "using BoSSS.Solution.Gnuplot;\n",
    "using static BoSSS.Application.BoSSSpad.BoSSSshell;\n",
    "using BoSSS.Solution.Control;\n",
    "using BoSSS.Solution.GridImport;\n",
    "using ApplicationWithIDT;\n",
    "using XESF;\n",
    "Init();\n"
   ]
  },
  {
   "attachments": {},
   "cell_type": "markdown",
   "metadata": {},
   "source": [
    "get date for naming the workflow an Database"
   ]
  },
  {
   "cell_type": "code",
   "execution_count": 2,
   "metadata": {
    "dotnet_interactive": {
     "language": "csharp"
    },
    "polyglot_notebook": {
     "kernelName": "csharp"
    }
   },
   "outputs": [
    {
     "data": {
      "text/plain": [
       "13022024"
      ]
     },
     "metadata": {},
     "output_type": "display_data"
    }
   ],
   "source": [
    "var date = DateTime.Now.ToString(\"ddMMyyyy\");\n",
    "date"
   ]
  },
  {
   "attachments": {},
   "cell_type": "markdown",
   "metadata": {},
   "source": [
    "init workflow\n"
   ]
  },
  {
   "cell_type": "code",
   "execution_count": 3,
   "metadata": {
    "dotnet_interactive": {
     "language": "csharp"
    }
   },
   "outputs": [
    {
     "name": "stdout",
     "output_type": "stream",
     "text": [
      "Project name is set to 'XESF_BowShock_ConvStudy2_13022024'.\n",
      "Default Execution queue is chosen for the database.\n",
      "Opening existing database '\\\\dc3\\userspace\\sebastian\\cluster\\XESF_BowShock_ConvStudy2_13022024'.\n"
     ]
    },
    {
     "data": {
      "text/plain": [
       "{ Session Count = 24; Grid Count = 24; Path = \\\\dc3\\userspace\\sebastian\\cluster\\XESF_BowShock_ConvStudy2_13022024 }"
      ]
     },
     "metadata": {},
     "output_type": "display_data"
    }
   ],
   "source": [
    "BoSSSshell.WorkflowMgm.Init(\"XESF_BowShock_ConvStudy2_\" + date );\n",
    "BoSSSshell.WorkflowMgm.SetNameBasedSessionJobControlCorrelation();\n",
    "BoSSSshell.WorkflowMgm.DefaultDatabase\n"
   ]
  },
  {
   "attachments": {},
   "cell_type": "markdown",
   "metadata": {},
   "source": [
    "Get Default Queue"
   ]
  },
  {
   "cell_type": "code",
   "execution_count": 4,
   "metadata": {
    "dotnet_interactive": {
     "language": "csharp"
    }
   },
   "outputs": [
    {
     "data": {
      "text/html": [
       "<table><thead><tr><th><i>index</i></th><th><i>type</i></th><th>value</th></tr></thead><tbody><tr><td>0</td><td>BoSSS.Application.BoSSSpad.MsHPC2012Client</td><td>MS HPC client  Default @DC2, @\\\\dc3\\userspace\\sebastian\\cluster\\binaries</td></tr><tr><td>1</td><td>BoSSS.Application.BoSSSpad.MsHPC2012Client</td><td>MS HPC client  Default @DC2, @\\\\dc3\\userspace\\sebastian\\cluster\\binaries</td></tr><tr><td>2</td><td>BoSSS.Application.BoSSSpad.MiniBatchProcessorClient</td><td>MiniBatchProcessor client @C:\\Users\\sebastian\\AppData\\Local\\BoSSS-LocalJobs</td></tr></tbody></table><style>\r\n",
       ".dni-code-hint {\r\n",
       "    font-style: italic;\r\n",
       "    overflow: hidden;\r\n",
       "    white-space: nowrap;\r\n",
       "}\r\n",
       ".dni-treeview {\r\n",
       "    white-space: nowrap;\r\n",
       "}\r\n",
       ".dni-treeview td {\r\n",
       "    vertical-align: top;\r\n",
       "    text-align: start;\r\n",
       "}\r\n",
       "details.dni-treeview {\r\n",
       "    padding-left: 1em;\r\n",
       "}\r\n",
       "table td {\r\n",
       "    text-align: start;\r\n",
       "}\r\n",
       "table tr { \r\n",
       "    vertical-align: top; \r\n",
       "    margin: 0em 0px;\r\n",
       "}\r\n",
       "table tr td pre \r\n",
       "{ \r\n",
       "    vertical-align: top !important; \r\n",
       "    margin: 0em 0px !important;\r\n",
       "} \r\n",
       "table th {\r\n",
       "    text-align: start;\r\n",
       "}\r\n",
       "</style>"
      ]
     },
     "metadata": {},
     "output_type": "display_data"
    }
   ],
   "source": [
    "BoSSSshell.ExecutionQueues"
   ]
  },
  {
   "attachments": {},
   "cell_type": "markdown",
   "metadata": {},
   "source": [
    "default database path"
   ]
  },
  {
   "cell_type": "code",
   "execution_count": 5,
   "metadata": {
    "dotnet_interactive": {
     "language": "csharp"
    }
   },
   "outputs": [
    {
     "data": {
      "text/plain": [
       "\\\\dc3\\userspace\\sebastian\\cluster\\XESF_BowShock_ConvStudy2_13022024"
      ]
     },
     "metadata": {},
     "output_type": "display_data"
    }
   ],
   "source": [
    "BoSSSshell.WorkflowMgm.DefaultDatabase.Path"
   ]
  },
  {
   "attachments": {},
   "cell_type": "markdown",
   "metadata": {},
   "source": [
    "list of available queues"
   ]
  },
  {
   "cell_type": "code",
   "execution_count": 6,
   "metadata": {
    "dotnet_interactive": {
     "language": "csharp"
    }
   },
   "outputs": [
    {
     "data": {
      "text/html": [
       "<details open=\"open\" class=\"dni-treeview\"><summary><span class=\"dni-code-hint\"><code>MS HPC client  Default @DC2, @\\\\dc3\\userspace\\sebastian\\cluster\\binaries</code></span></summary><div><table><thead><tr></tr></thead><tbody><tr><td>RuntimeLocation</td><td>win\\amd64</td></tr><tr><td>AdditionalEnvironmentVars</td><td>[ [OMP_PROC_BIND, spread] ]</td></tr><tr><td>DeploymentBaseDirectory</td><td>\\\\dc3\\userspace\\sebastian\\cluster\\binaries</td></tr><tr><td>DeployRuntime</td><td>True</td></tr><tr><td>Name</td><td>Default</td></tr><tr><td>DotnetRuntime</td><td>dotnet</td></tr><tr><td>Username</td><td>FDY\\sebastian</td></tr><tr><td>NumOfAdditionalServiceCores</td><td>0</td></tr><tr><td>NumOfAdditionalServiceCoresMPISerial</td><td>0</td></tr><tr><td>NumOfServiceCoresPerMPIprocess</td><td>0</td></tr><tr><td>ServerName</td><td>DC2</td></tr><tr><td>ComputeNodes</td><td>[ hpccluster, hpccluster2, hpcluster3 ]</td></tr><tr><td>DefaultJobPriority</td><td>Normal</td></tr><tr><td>SingleNode</td><td>True</td></tr><tr><td>AllowedDatabasesPaths</td><td>[ \\\\dc3\\userspace\\sebastian\\cluster ]</td></tr></tbody></table></div></details><style>\r\n",
       ".dni-code-hint {\r\n",
       "    font-style: italic;\r\n",
       "    overflow: hidden;\r\n",
       "    white-space: nowrap;\r\n",
       "}\r\n",
       ".dni-treeview {\r\n",
       "    white-space: nowrap;\r\n",
       "}\r\n",
       ".dni-treeview td {\r\n",
       "    vertical-align: top;\r\n",
       "    text-align: start;\r\n",
       "}\r\n",
       "details.dni-treeview {\r\n",
       "    padding-left: 1em;\r\n",
       "}\r\n",
       "table td {\r\n",
       "    text-align: start;\r\n",
       "}\r\n",
       "table tr { \r\n",
       "    vertical-align: top; \r\n",
       "    margin: 0em 0px;\r\n",
       "}\r\n",
       "table tr td pre \r\n",
       "{ \r\n",
       "    vertical-align: top !important; \r\n",
       "    margin: 0em 0px !important;\r\n",
       "} \r\n",
       "table th {\r\n",
       "    text-align: start;\r\n",
       "}\r\n",
       "</style>"
      ]
     },
     "metadata": {},
     "output_type": "display_data"
    }
   ],
   "source": [
    "BoSSSshell.GetDefaultQueue()"
   ]
  },
  {
   "attachments": {},
   "cell_type": "markdown",
   "metadata": {},
   "source": [
    "Here we prescribe all combinations we want to study"
   ]
  },
  {
   "cell_type": "code",
   "execution_count": 7,
   "metadata": {
    "dotnet_interactive": {
     "language": "csharp"
    }
   },
   "outputs": [],
   "source": [
    "using XESF.Fluxes;\n",
    "using ApplicationWithIDT;\n",
    "\n",
    "int[] DGdegrees = new int[] {3};\n",
    "int[] Grid_Res = new int[] {1,2,4,8};\n",
    "double[] Aggs = new double[] {0.4};\n",
    "var iFluxes = new int[] {0,1}; //{ ConvectiveInterfaceFluxes.GodunovInterface,ConvectiveInterfaceFluxes.RoeInterface, ConvectiveInterfaceFluxes.CentralFluxInterface, ConvectiveInterfaceFluxes.OptimizedHLLCInterface };\n",
    "var iProbs= new int[] {0}; //{ OptProblemType.FullEnRes, OptProblemType.EnResOnlyNearBand, OptProblemType.RankineHugoniot};\n",
    "string dbPath = BoSSSshell.WorkflowMgm.DefaultDatabase.Path;  \n"
   ]
  },
  {
   "attachments": {},
   "cell_type": "markdown",
   "metadata": {},
   "source": [
    "get data we need to initialize the initial guess for the shock LevelSet"
   ]
  },
  {
   "cell_type": "code",
   "execution_count": 8,
   "metadata": {
    "dotnet_interactive": {
     "language": "csharp"
    },
    "polyglot_notebook": {
     "kernelName": "csharp"
    }
   },
   "outputs": [],
   "source": [
    "var bowShockPoints =new Tuple<byte[],string>( System.IO.File.ReadAllBytes(\"BowShockPoints.txt\"),\"BowShockPoints.txt\");\n",
    "var LevelSetDB =new Tuple<byte[],string>(System.IO.File.ReadAllBytes(\"bosss_db_levelSets.zip\"),\"bosss_db_levelSets.zip\");"
   ]
  },
  {
   "attachments": {},
   "cell_type": "markdown",
   "metadata": {},
   "source": [
    "run the study"
   ]
  },
  {
   "cell_type": "code",
   "execution_count": 9,
   "metadata": {
    "dotnet_interactive": {
     "language": "csharp"
    }
   },
   "outputs": [
    {
     "name": "stdout",
     "output_type": "stream",
     "text": [
      "Deployments so far (0): ;\n",
      "Success: 0\n",
      "job submit count: 0\n"
     ]
    },
    {
     "name": "stderr",
     "output_type": "stream",
     "text": [
      "unable to determine job status - unknown\r\n"
     ]
    },
    {
     "name": "stdout",
     "output_type": "stream",
     "text": [
      "Deploying job XDGBS-p3-5x16-agg0.4-iProb0-iFlux0-FphiType0-aRI_True_newImpl ... \n",
      "Deploying executables and additional files ...\n",
      "Deployment directory: \\\\dc3\\userspace\\sebastian\\cluster\\binaries\\XESF_BowShock_ConvStudy2_13022024-XESF2024Feb13_203540.143740\n",
      "copied 105 files.\n",
      "   written file: BowShockPoints.txt\n",
      "   written file: bosss_db_levelSets.zip\n",
      "   copied 'win\\amd64' runtime.\n",
      "deployment finished.\n",
      "\n",
      "Deployments so far (0): ;\n",
      "Success: 0\n",
      "job submit count: 0\n"
     ]
    },
    {
     "name": "stderr",
     "output_type": "stream",
     "text": [
      "unable to determine job status - unknown\r\n"
     ]
    },
    {
     "name": "stdout",
     "output_type": "stream",
     "text": [
      "Deploying job XDGBS-p3-10x32-agg0.4-iProb0-iFlux0-FphiType0-aRI_True_newImpl ... \n",
      "Deploying executables and additional files ...\n",
      "Deployment directory: \\\\dc3\\userspace\\sebastian\\cluster\\binaries\\XESF_BowShock_ConvStudy2_13022024-XESF2024Feb13_203600.263144\n",
      "copied 105 files.\n",
      "   written file: BowShockPoints.txt\n",
      "   written file: bosss_db_levelSets.zip\n",
      "   copied 'win\\amd64' runtime.\n",
      "deployment finished.\n",
      "\n",
      "Deployments so far (0): ;\n",
      "Success: 0\n",
      "job submit count: 0\n"
     ]
    },
    {
     "name": "stderr",
     "output_type": "stream",
     "text": [
      "unable to determine job status - unknown\r\n"
     ]
    },
    {
     "name": "stdout",
     "output_type": "stream",
     "text": [
      "Deploying job XDGBS-p3-20x64-agg0.4-iProb0-iFlux0-FphiType0-aRI_True_newImpl ... \n",
      "Deploying executables and additional files ...\n",
      "Deployment directory: \\\\dc3\\userspace\\sebastian\\cluster\\binaries\\XESF_BowShock_ConvStudy2_13022024-XESF2024Feb13_203620.989692\n",
      "copied 105 files.\n",
      "   written file: BowShockPoints.txt\n",
      "   written file: bosss_db_levelSets.zip\n",
      "   copied 'win\\amd64' runtime.\n",
      "deployment finished.\n",
      "\n",
      "Deployments so far (0): ;\n",
      "Success: 0\n",
      "job submit count: 0\n"
     ]
    },
    {
     "name": "stderr",
     "output_type": "stream",
     "text": [
      "unable to determine job status - unknown\r\n"
     ]
    },
    {
     "name": "stdout",
     "output_type": "stream",
     "text": [
      "Deploying job XDGBS-p3-40x128-agg0.4-iProb0-iFlux0-FphiType0-aRI_True_newImpl ... \n",
      "Deploying executables and additional files ...\n",
      "Deployment directory: \\\\dc3\\userspace\\sebastian\\cluster\\binaries\\XESF_BowShock_ConvStudy2_13022024-XESF2024Feb13_203640.664973\n",
      "copied 105 files.\n",
      "   written file: BowShockPoints.txt\n",
      "   written file: bosss_db_levelSets.zip\n",
      "   copied 'win\\amd64' runtime.\n",
      "deployment finished.\n",
      "\n",
      "Deployments so far (0): ;\n",
      "Success: 0\n",
      "job submit count: 0\n"
     ]
    },
    {
     "name": "stderr",
     "output_type": "stream",
     "text": [
      "unable to determine job status - unknown\r\n"
     ]
    },
    {
     "name": "stdout",
     "output_type": "stream",
     "text": [
      "Deploying job XDGBS-p3-5x16-agg0.4-iProb0-iFlux1-FphiType0-aRI_True_newImpl ... \n",
      "Deploying executables and additional files ...\n",
      "Deployment directory: \\\\dc3\\userspace\\sebastian\\cluster\\binaries\\XESF_BowShock_ConvStudy2_13022024-XESF2024Feb13_203700.180193\n",
      "copied 105 files.\n",
      "   written file: BowShockPoints.txt\n",
      "   written file: bosss_db_levelSets.zip\n",
      "   copied 'win\\amd64' runtime.\n",
      "deployment finished.\n",
      "Warning: Object reference not set to an instance of an object. reading session 55e1eb19-3610-46a2-a5e6-39a0f816934c.\n",
      "\n",
      "Warning: Object reference not set to an instance of an object. reading session 55e1eb19-3610-46a2-a5e6-39a0f816934c.\n",
      "Warning: Object reference not set to an instance of an object. reading session 55e1eb19-3610-46a2-a5e6-39a0f816934c.\n",
      "Deployments so far (0): ;\n",
      "Success: 0\n",
      "Warning: Object reference not set to an instance of an object. reading session 55e1eb19-3610-46a2-a5e6-39a0f816934c.\n",
      "job submit count: 0\n"
     ]
    },
    {
     "name": "stderr",
     "output_type": "stream",
     "text": [
      "unable to determine job status - unknown\r\n"
     ]
    },
    {
     "name": "stdout",
     "output_type": "stream",
     "text": [
      "Deploying job XDGBS-p3-10x32-agg0.4-iProb0-iFlux1-FphiType0-aRI_True_newImpl ... \n",
      "Deploying executables and additional files ...\n",
      "Deployment directory: \\\\dc3\\userspace\\sebastian\\cluster\\binaries\\XESF_BowShock_ConvStudy2_13022024-XESF2024Feb13_203719.941686\n",
      "copied 105 files.\n",
      "   written file: BowShockPoints.txt\n",
      "   written file: bosss_db_levelSets.zip\n",
      "   copied 'win\\amd64' runtime.\n",
      "deployment finished.\n",
      "Warning: Object reference not set to an instance of an object. reading session 55e1eb19-3610-46a2-a5e6-39a0f816934c.\n",
      "\n",
      "Warning: Object reference not set to an instance of an object. reading session 55e1eb19-3610-46a2-a5e6-39a0f816934c.\n",
      "Warning: Object reference not set to an instance of an object. reading session 55e1eb19-3610-46a2-a5e6-39a0f816934c.\n",
      "Deployments so far (0): ;\n",
      "Success: 0\n",
      "Warning: Object reference not set to an instance of an object. reading session 55e1eb19-3610-46a2-a5e6-39a0f816934c.\n",
      "job submit count: 0\n"
     ]
    },
    {
     "name": "stderr",
     "output_type": "stream",
     "text": [
      "unable to determine job status - unknown\r\n"
     ]
    },
    {
     "name": "stdout",
     "output_type": "stream",
     "text": [
      "Deploying job XDGBS-p3-20x64-agg0.4-iProb0-iFlux1-FphiType0-aRI_True_newImpl ... \n",
      "Deploying executables and additional files ...\n",
      "Deployment directory: \\\\dc3\\userspace\\sebastian\\cluster\\binaries\\XESF_BowShock_ConvStudy2_13022024-XESF2024Feb13_203739.876978\n",
      "copied 105 files.\n",
      "   written file: BowShockPoints.txt\n",
      "   written file: bosss_db_levelSets.zip\n",
      "   copied 'win\\amd64' runtime.\n",
      "deployment finished.\n",
      "Warning: Object reference not set to an instance of an object. reading session 55e1eb19-3610-46a2-a5e6-39a0f816934c.\n",
      "\n",
      "Warning: Object reference not set to an instance of an object. reading session 55e1eb19-3610-46a2-a5e6-39a0f816934c.\n",
      "Warning: Object reference not set to an instance of an object. reading session 55e1eb19-3610-46a2-a5e6-39a0f816934c.\n",
      "Deployments so far (0): ;\n",
      "Success: 0\n",
      "Warning: Object reference not set to an instance of an object. reading session 55e1eb19-3610-46a2-a5e6-39a0f816934c.\n",
      "job submit count: 0\n"
     ]
    },
    {
     "name": "stderr",
     "output_type": "stream",
     "text": [
      "unable to determine job status - unknown\r\n"
     ]
    },
    {
     "name": "stdout",
     "output_type": "stream",
     "text": [
      "Deploying job XDGBS-p3-40x128-agg0.4-iProb0-iFlux1-FphiType0-aRI_True_newImpl ... \n",
      "Deploying executables and additional files ...\n",
      "Deployment directory: \\\\dc3\\userspace\\sebastian\\cluster\\binaries\\XESF_BowShock_ConvStudy2_13022024-XESF2024Feb13_203759.845554\n",
      "copied 105 files.\n",
      "   written file: BowShockPoints.txt\n",
      "   written file: bosss_db_levelSets.zip\n",
      "   copied 'win\\amd64' runtime.\n",
      "deployment finished.\n",
      "Warning: Object reference not set to an instance of an object. reading session 55e1eb19-3610-46a2-a5e6-39a0f816934c.\n",
      "\n"
     ]
    }
   ],
   "source": [
    "foreach(double iProb in iProbs) \n",
    "foreach(double iflux in iFluxes) {\n",
    "foreach(double agg in Aggs) {\n",
    "    foreach(int p in DGdegrees) {\n",
    "        foreach(int n in Grid_Res) {\n",
    "                Job j = new Job(string.Format($\"XDGBS-p{p}-{5*n}x{16*n}-agg{agg}-iProb{iProb}-iFlux{iflux}-FphiType{0}-aRI_{true}_newImpl\"), typeof(XESF.XESFMain));// job name has to be equal to sessionname! for SessionInfoJobCorrelation to work!\n",
    "                j.RetryCount = 2;\n",
    "                j.MySetCommandLineArguments(\"--control\", $\"cs:XESF.XESFHardCodedControl.XDGBS_Cluster(DegE:{p},numX:{5*n},numY:{16*n},agg:{agg},plotInterval:{-1},iProb:{iProb},iflux:{iflux},aRI:true,dbPath:@\\\"{dbPath}\\\")\");\n",
    "                j.AdditionalDeploymentFiles.Add(bowShockPoints);\n",
    "                j.AdditionalDeploymentFiles.Add(LevelSetDB);\n",
    "                j.NumberOfThreads=1;\n",
    "                j.Activate(BoSSSshell.ExecutionQueues[0]); \n",
    "        };                                                                                                                                                          \n",
    "    };\n",
    "    }\n",
    "};\n"
   ]
  },
  {
   "cell_type": "code",
   "execution_count": 10,
   "metadata": {
    "dotnet_interactive": {
     "language": "csharp"
    },
    "polyglot_notebook": {
     "kernelName": "csharp"
    }
   },
   "outputs": [],
   "source": []
  }
 ],
 "metadata": {
  "kernelspec": {
   "display_name": ".NET (C#)",
   "language": "C#",
   "name": ".net-csharp"
  },
  "language_info": {
   "name": "polyglot-notebook"
  },
  "polyglot_notebook": {
   "kernelInfo": {
    "defaultKernelName": "csharp",
    "items": [
     {
      "aliases": [],
      "name": ".NET"
     },
     {
      "aliases": [
       "C#",
       "c#"
      ],
      "languageName": "C#",
      "name": "csharp"
     },
     {
      "aliases": [
       "F#",
       "f#"
      ],
      "languageName": "F#",
      "name": "fsharp"
     },
     {
      "aliases": [],
      "languageName": "HTML",
      "name": "html"
     },
     {
      "aliases": [
       "js"
      ],
      "languageName": "JavaScript",
      "name": "javascript"
     },
     {
      "aliases": [],
      "languageName": "KQL",
      "name": "kql"
     },
     {
      "aliases": [],
      "languageName": "Mermaid",
      "name": "mermaid"
     },
     {
      "aliases": [
       "powershell"
      ],
      "languageName": "PowerShell",
      "name": "pwsh"
     },
     {
      "aliases": [],
      "languageName": "SQL",
      "name": "sql"
     },
     {
      "aliases": [],
      "name": "value"
     },
     {
      "aliases": [
       "frontend"
      ],
      "name": "vscode"
     },
     {
      "aliases": [],
      "name": "webview"
     }
    ]
   }
  }
 },
 "nbformat": 4,
 "nbformat_minor": 2
}

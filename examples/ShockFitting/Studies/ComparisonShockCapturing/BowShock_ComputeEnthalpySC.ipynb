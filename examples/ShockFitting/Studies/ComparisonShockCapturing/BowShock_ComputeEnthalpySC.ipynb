{
 "cells": [
  {
   "cell_type": "code",
   "execution_count": 1,
   "metadata": {
    "dotnet_interactive": {
     "language": "csharp"
    }
   },
   "outputs": [],
   "source": [
    "#r \".\\binaries\\BoSSSpad.dll\"\n",
    "#r \".\\binaries\\XESF.dll\"\n",
    "using System;\n",
    "using BoSSS.Foundation;\n",
    "using BoSSS.Application.BoSSSpad;\n",
    "using BoSSS.Solution;\n",
    "using BoSSS.Solution.Tecplot;\n",
    "using BoSSS.Foundation.IO;\n",
    "using ilPSP.Tracing;\n",
    "using BoSSS.Solution.Utils;\n",
    "using ilPSP.LinSolvers;\n",
    "using BoSSS.Solution.NSECommon;\n",
    "using ilPSP.Connectors.Matlab;\n",
    "using ilPSP;\n",
    "using BoSSS.Foundation.Grid.Classic;\n",
    "using ilPSP.Utils;\n",
    "using BoSSS.Foundation.Grid.RefElements;\n",
    "using System.Collections.Generic;\n",
    "using BoSSS.Foundation.Grid;\n",
    "using BoSSS.Foundation.XDG;\n",
    "using BoSSS.Solution.XdgTimestepping;\n",
    "using BoSSS.Solution.AdvancedSolvers;\n",
    "using System.Linq;\n",
    "using BoSSS.Foundation.Grid.Aggregation;\n",
    "using BoSSS.Platform;\n",
    "using MPI.Wrappers;\n",
    "using System.Diagnostics;\n",
    "using System.IO;\n",
    "using System.Collections;\n",
    "using BoSSS.Foundation.Quadrature;\n",
    "using BoSSS.Solution.Statistic;\n",
    "using BoSSS.Solution.Gnuplot;\n",
    "using static BoSSS.Application.BoSSSpad.BoSSSshell;\n",
    "using BoSSS.Solution.Control;\n",
    "using BoSSS.Solution.GridImport;\n",
    "using ApplicationWithIDT;\n",
    "using XESF;\n",
    "Init();\n"
   ]
  },
  {
   "attachments": {},
   "cell_type": "markdown",
   "metadata": {},
   "source": [
    "load the shock capturing bowShock\n"
   ]
  },
  {
   "cell_type": "code",
   "execution_count": 23,
   "metadata": {
    "dotnet_interactive": {
     "language": "csharp"
    },
    "polyglot_notebook": {
     "kernelName": "csharp"
    }
   },
   "outputs": [],
   "source": [
    "var database = OpenOrCreateDatabase(\"bosss_db_levelSets\");"
   ]
  },
  {
   "cell_type": "code",
   "execution_count": 24,
   "metadata": {
    "dotnet_interactive": {
     "language": "csharp"
    },
    "polyglot_notebook": {
     "kernelName": "csharp"
    }
   },
   "outputs": [
    {
     "data": {
      "text/plain": [
       "#0: IBMBowShock_P2\tIBMBowShock_p2_xCells40_yCells160_CFLFrac0.1_RK1_s0=1.0E-03_lambdaMax15\t5/7/2020 8:33:16 AM\t9c45ebf9...\r\n"
      ]
     },
     "metadata": {},
     "output_type": "display_data"
    }
   ],
   "source": [
    "var sessions = database.Sessions;\n",
    "sessions"
   ]
  },
  {
   "cell_type": "code",
   "execution_count": 25,
   "metadata": {
    "dotnet_interactive": {
     "language": "csharp"
    },
    "polyglot_notebook": {
     "kernelName": "csharp"
    }
   },
   "outputs": [
    {
     "data": {
      "text/html": [
       "<table><thead><tr><th><i>index</i></th><th>value</th></tr></thead><tbody><tr><td>0</td><td>levelSet_recon</td></tr><tr><td>1</td><td>levelSet_recon_prc</td></tr><tr><td>2</td><td>levelSet_recon_prc_cont</td></tr><tr><td>3</td><td>rho</td></tr><tr><td>4</td><td>m0</td></tr><tr><td>5</td><td>m1</td></tr><tr><td>6</td><td>rhoE</td></tr></tbody></table><style>\r\n",
       ".dni-code-hint {\r\n",
       "    font-style: italic;\r\n",
       "    overflow: hidden;\r\n",
       "    white-space: nowrap;\r\n",
       "}\r\n",
       ".dni-treeview {\r\n",
       "    white-space: nowrap;\r\n",
       "}\r\n",
       ".dni-treeview td {\r\n",
       "    vertical-align: top;\r\n",
       "    text-align: start;\r\n",
       "}\r\n",
       "details.dni-treeview {\r\n",
       "    padding-left: 1em;\r\n",
       "}\r\n",
       "table td {\r\n",
       "    text-align: start;\r\n",
       "}\r\n",
       "table tr { \r\n",
       "    vertical-align: top; \r\n",
       "    margin: 0em 0px;\r\n",
       "}\r\n",
       "table tr td pre \r\n",
       "{ \r\n",
       "    vertical-align: top !important; \r\n",
       "    margin: 0em 0px !important;\r\n",
       "} \r\n",
       "table th {\r\n",
       "    text-align: start;\r\n",
       "}\r\n",
       "</style>"
      ]
     },
     "metadata": {},
     "output_type": "display_data"
    }
   ],
   "source": [
    "var flds =sessions.Pick(0).Timesteps.Last().Fields.ToList();\n",
    "flds"
   ]
  },
  {
   "cell_type": "markdown",
   "metadata": {},
   "source": [
    "## Enthalpy error\n",
    "enthalpy is computed as\n",
    "$$h=\\frac{(\\rho E + p)}{\\rho},~ p=(\\gamma -1)(\\rho E - \\rho e_{kin}),~\\rho e_{kin}=\\frac{\\rho }{2}(\\vert u\\vert^2 + \\vert v\\vert^2)$$\n",
    "\n",
    "For an uniform inviscid flow the inflow enthalpy should remain constant throughout the flowfield \n",
    "\n",
    "In the case of the BowShock ($p_\\text{in}=1,\\rho_\\text{in}=1$) presented, the v-velocity is zero and we have\n",
    "$$ h_{in} = \\rho E_{in}+1$$\n",
    "We prescribe the inflow conditions by the Mach number $M_{in}=4$. From those the Energy is computed as \n",
    "$$ \\rho E_{in} = (\\rho e_{inner})_\\text{in}+(\\rho e_{kin})_\\text{in}=\\frac{p_\\text{in}}{\\gamma-1}+\\frac{\\rho_\\text{in}}{2}u_\\text{in}^2= \\frac{1}{\\gamma-1}+\\frac{1}{2}u_{in}^2$$ \n",
    "where $u_{in} = M_{in}\\sqrt{\\gamma}$. In total we obtain:\n",
    "$$ h_\\text{in}=\\rho E_{in}+1=\\frac{\\gamma}{\\gamma-1}+\\frac{1}{2}u_{in}^2$$\n"
   ]
  },
  {
   "cell_type": "code",
   "execution_count": 26,
   "metadata": {
    "dotnet_interactive": {
     "language": "csharp"
    },
    "polyglot_notebook": {
     "kernelName": "csharp"
    }
   },
   "outputs": [
    {
     "data": {
      "text/html": [
       "<div class=\"dni-plaintext\"><pre>14.7</pre></div><style>\r\n",
       ".dni-code-hint {\r\n",
       "    font-style: italic;\r\n",
       "    overflow: hidden;\r\n",
       "    white-space: nowrap;\r\n",
       "}\r\n",
       ".dni-treeview {\r\n",
       "    white-space: nowrap;\r\n",
       "}\r\n",
       ".dni-treeview td {\r\n",
       "    vertical-align: top;\r\n",
       "    text-align: start;\r\n",
       "}\r\n",
       "details.dni-treeview {\r\n",
       "    padding-left: 1em;\r\n",
       "}\r\n",
       "table td {\r\n",
       "    text-align: start;\r\n",
       "}\r\n",
       "table tr { \r\n",
       "    vertical-align: top; \r\n",
       "    margin: 0em 0px;\r\n",
       "}\r\n",
       "table tr td pre \r\n",
       "{ \r\n",
       "    vertical-align: top !important; \r\n",
       "    margin: 0em 0px !important;\r\n",
       "} \r\n",
       "table th {\r\n",
       "    text-align: start;\r\n",
       "}\r\n",
       "</style>"
      ]
     },
     "metadata": {},
     "output_type": "display_data"
    }
   ],
   "source": [
    "using BoSSS.Solution.CompressibleFlowCommon.MaterialProperty;\n",
    "var enthalpy_end = sessions.Pick(0).Timesteps.Last().GetField(\"rho\");\n",
    "var enthalpy_exact = (DGField) enthalpy_end.Clone();\n",
    "double gamma = IdealGas.Air.HeatCapacityRatio;\n",
    "double Ms = 4.0;\n",
    "double densityLeft = 1;\n",
    "double pressureLeft = 1;\n",
    "double velocityXLeft = Ms * Math.Sqrt(gamma * pressureLeft / densityLeft);\n",
    "var enthalpy_inflow = (gamma)/(gamma-1) + 0.5*velocityXLeft*velocityXLeft;\n",
    "enthalpy_inflow\n"
   ]
  },
  {
   "cell_type": "code",
   "execution_count": 27,
   "metadata": {
    "dotnet_interactive": {
     "language": "csharp"
    },
    "polyglot_notebook": {
     "kernelName": "csharp"
    }
   },
   "outputs": [
    {
     "data": {
      "text/html": [
       "<table><thead><tr><th><i>index</i></th><th>value</th></tr></thead><tbody><tr><td>0</td><td>rho</td></tr><tr><td>1</td><td>m0</td></tr><tr><td>2</td><td>m1</td></tr><tr><td>3</td><td>rhoE</td></tr></tbody></table><style>\r\n",
       ".dni-code-hint {\r\n",
       "    font-style: italic;\r\n",
       "    overflow: hidden;\r\n",
       "    white-space: nowrap;\r\n",
       "}\r\n",
       ".dni-treeview {\r\n",
       "    white-space: nowrap;\r\n",
       "}\r\n",
       ".dni-treeview td {\r\n",
       "    vertical-align: top;\r\n",
       "    text-align: start;\r\n",
       "}\r\n",
       "details.dni-treeview {\r\n",
       "    padding-left: 1em;\r\n",
       "}\r\n",
       "table td {\r\n",
       "    text-align: start;\r\n",
       "}\r\n",
       "table tr { \r\n",
       "    vertical-align: top; \r\n",
       "    margin: 0em 0px;\r\n",
       "}\r\n",
       "table tr td pre \r\n",
       "{ \r\n",
       "    vertical-align: top !important; \r\n",
       "    margin: 0em 0px !important;\r\n",
       "} \r\n",
       "table th {\r\n",
       "    text-align: start;\r\n",
       "}\r\n",
       "</style>"
      ]
     },
     "metadata": {},
     "output_type": "display_data"
    }
   ],
   "source": [
    "var consVars= flds.GetRange(3,4).ToArray();\n",
    "consVars"
   ]
  },
  {
   "cell_type": "markdown",
   "metadata": {},
   "source": [
    "load the XDG BowShock to obtain the boundary level set"
   ]
  },
  {
   "cell_type": "code",
   "execution_count": 28,
   "metadata": {
    "dotnet_interactive": {
     "language": "csharp"
    },
    "polyglot_notebook": {
     "kernelName": "csharp"
    }
   },
   "outputs": [
    {
     "name": "stdout",
     "output_type": "stream",
     "text": [
      "Project name is set to 'XESF_BowShock_ConvStudy'.\n",
      "Default Execution queue is chosen for the database.\n"
     ]
    }
   ],
   "source": [
    "MatrixAssembler aaa = new MatrixAssembler(12);\n",
    "BoSSSshell.WorkflowMgm.Init(\"XESF_BowShock_ConvStudy\");\n",
    "var dbPath = BoSSSshell.WorkflowMgm.DefaultDatabase.Path;\n",
    "var db= OpenOrCreateDatabase(dbPath);\n",
    "var levelSet = (SinglePhaseField) db.Sessions.Pick(0).Timesteps.Last().GetField(\"levelSet\");"
   ]
  },
  {
   "cell_type": "markdown",
   "metadata": {},
   "source": [
    "get material parameters"
   ]
  },
  {
   "cell_type": "code",
   "execution_count": 29,
   "metadata": {
    "dotnet_interactive": {
     "language": "csharp"
    },
    "polyglot_notebook": {
     "kernelName": "csharp"
    }
   },
   "outputs": [],
   "source": [
    "var control = XESF.XESFHardCodedControl.XDGBS_Local();\n",
    "var material = control.GetMaterial();"
   ]
  },
  {
   "cell_type": "markdown",
   "metadata": {},
   "source": [
    "transform to grid of shock capturing simulation"
   ]
  },
  {
   "cell_type": "code",
   "execution_count": 30,
   "metadata": {
    "dotnet_interactive": {
     "language": "csharp"
    },
    "polyglot_notebook": {
     "kernelName": "csharp"
    }
   },
   "outputs": [],
   "source": [
    "var lS_onSCGrid = (SinglePhaseField) flds.Pick(0).CloneAs();\n",
    "lS_onSCGrid.Clear();\n",
    "lS_onSCGrid.Identification=\"levelSet\";\n",
    "lS_onSCGrid.ProjectFromForeignGrid(1.0,levelSet);\n",
    "flds.Add(lS_onSCGrid)"
   ]
  },
  {
   "cell_type": "markdown",
   "metadata": {},
   "source": [
    "compute entropy and enthalpy field for the shock capturing simulation"
   ]
  },
  {
   "cell_type": "code",
   "execution_count": 31,
   "metadata": {
    "dotnet_interactive": {
     "language": "csharp"
    },
    "polyglot_notebook": {
     "kernelName": "csharp"
    }
   },
   "outputs": [
    {
     "data": {
      "text/html": [
       "<table><thead><tr><th><i>index</i></th><th>value</th></tr></thead><tbody><tr><td>0</td><td>levelSet_recon</td></tr><tr><td>1</td><td>levelSet_recon_prc</td></tr><tr><td>2</td><td>levelSet_recon_prc_cont</td></tr><tr><td>3</td><td>rho</td></tr><tr><td>4</td><td>m0</td></tr><tr><td>5</td><td>m1</td></tr><tr><td>6</td><td>rhoE</td></tr><tr><td>7</td><td>levelSet</td></tr><tr><td>8</td><td>entropy</td></tr><tr><td>9</td><td>enthalpy</td></tr><tr><td>10</td><td>enthalpy_err</td></tr><tr><td>11</td><td>p</td></tr></tbody></table><style>\r\n",
       ".dni-code-hint {\r\n",
       "    font-style: italic;\r\n",
       "    overflow: hidden;\r\n",
       "    white-space: nowrap;\r\n",
       "}\r\n",
       ".dni-treeview {\r\n",
       "    white-space: nowrap;\r\n",
       "}\r\n",
       ".dni-treeview td {\r\n",
       "    vertical-align: top;\r\n",
       "    text-align: start;\r\n",
       "}\r\n",
       "details.dni-treeview {\r\n",
       "    padding-left: 1em;\r\n",
       "}\r\n",
       "table td {\r\n",
       "    text-align: start;\r\n",
       "}\r\n",
       "table tr { \r\n",
       "    vertical-align: top; \r\n",
       "    margin: 0em 0px;\r\n",
       "}\r\n",
       "table tr td pre \r\n",
       "{ \r\n",
       "    vertical-align: top !important; \r\n",
       "    margin: 0em 0px !important;\r\n",
       "} \r\n",
       "table th {\r\n",
       "    text-align: start;\r\n",
       "}\r\n",
       "</style>"
      ]
     },
     "metadata": {},
     "output_type": "display_data"
    }
   ],
   "source": [
    "using BoSSS.Solution.CompressibleFlowCommon;\n",
    "double gamma=1.4;\n",
    "var enthalpy = (SinglePhaseField) consVars[0].CloneAs();\n",
    "enthalpy.Clear();\n",
    "enthalpy.Identification=\"enthalpy\";\n",
    "var enthalpy_err = (SinglePhaseField) consVars[0].CloneAs();\n",
    "enthalpy_err.Clear();\n",
    "enthalpy_err.Identification=\"enthalpy_err\";\n",
    "var entropy = (SinglePhaseField) consVars[0].CloneAs();\n",
    "entropy.Clear();\n",
    "entropy.Identification=\"entropy\";\n",
    "var pressure = (SinglePhaseField) consVars[0].CloneAs();\n",
    "pressure.Clear();\n",
    "pressure.Identification=\"p\";\n",
    "pressure.ProjectFunction(1.0,\n",
    "    (X, U, j) => U[0] >0 ? new StateVector(U, material).Pressure:0,new CellQuadratureScheme(true,CellMask.GetFullMask(enthalpy.GridDat)),\n",
    "    consVars);\n",
    "enthalpy.ProjectFunction(1.0,\n",
    "    (X, U, j) => U[0] >0 ? new StateVector(U, material).Enthalpy:0 ,new CellQuadratureScheme(true,CellMask.GetFullMask(enthalpy.GridDat)),\n",
    "    consVars);\n",
    "enthalpy_err.ProjectFunction(1.0,\n",
    "    (X, U, j) => U[0] >0 ? new StateVector(U, material).Enthalpy-enthalpy_inflow:0 ,new CellQuadratureScheme(true,CellMask.GetFullMask(enthalpy.GridDat)),\n",
    "    consVars);\n",
    "entropy.ProjectFunction(1.0,\n",
    "    (X, U, j) => U[0] >0 ? new StateVector(U, material).Entropy:0,new CellQuadratureScheme(true,CellMask.GetFullMask(enthalpy.GridDat)),\n",
    "    consVars);\n",
    "\n",
    "// enthalpy.GetExtremanlValues(....)\n",
    "// enthalpy.Coordinates.CheckForNanAndInf(...)\n",
    "flds.Add(entropy);\n",
    "flds.Add(enthalpy);\n",
    "flds.Add(enthalpy_err);\n",
    "flds.Add(pressure);\n",
    "flds\n"
   ]
  },
  {
   "cell_type": "markdown",
   "metadata": {},
   "source": [
    "plot everything"
   ]
  },
  {
   "cell_type": "code",
   "execution_count": 32,
   "metadata": {
    "dotnet_interactive": {
     "language": "csharp"
    },
    "polyglot_notebook": {
     "kernelName": "csharp"
    }
   },
   "outputs": [
    {
     "name": "stdout",
     "output_type": "stream",
     "text": [
      "rm;\n"
     ]
    }
   ],
   "source": [
    "BoSSS.Solution.Application.DeleteOldPlotFiles();\n",
    "var tp = new Tecplot(enthalpy.GridDat,2);\n",
    "tp.PlotFields(\"bowShockSC\",0.0,flds);"
   ]
  },
  {
   "cell_type": "markdown",
   "metadata": {},
   "source": [
    "Compute the normalized enthalpy error"
   ]
  },
  {
   "cell_type": "code",
   "execution_count": 33,
   "metadata": {
    "dotnet_interactive": {
     "language": "csharp"
    },
    "polyglot_notebook": {
     "kernelName": "csharp"
    }
   },
   "outputs": [
    {
     "data": {
      "text/html": [
       "<div class=\"dni-plaintext\"><pre>0.018287187254112165</pre></div><style>\r\n",
       ".dni-code-hint {\r\n",
       "    font-style: italic;\r\n",
       "    overflow: hidden;\r\n",
       "    white-space: nowrap;\r\n",
       "}\r\n",
       ".dni-treeview {\r\n",
       "    white-space: nowrap;\r\n",
       "}\r\n",
       ".dni-treeview td {\r\n",
       "    vertical-align: top;\r\n",
       "    text-align: start;\r\n",
       "}\r\n",
       "details.dni-treeview {\r\n",
       "    padding-left: 1em;\r\n",
       "}\r\n",
       "table td {\r\n",
       "    text-align: start;\r\n",
       "}\r\n",
       "table tr { \r\n",
       "    vertical-align: top; \r\n",
       "    margin: 0em 0px;\r\n",
       "}\r\n",
       "table tr td pre \r\n",
       "{ \r\n",
       "    vertical-align: top !important; \r\n",
       "    margin: 0em 0px !important;\r\n",
       "} \r\n",
       "table th {\r\n",
       "    text-align: start;\r\n",
       "}\r\n",
       "</style>"
      ]
     },
     "metadata": {},
     "output_type": "display_data"
    }
   ],
   "source": [
    "enthalpy_exact.Clear();\n",
    "enthalpy_exact.ProjectField(1.0,t => enthalpy_inflow);\n",
    "enthalpy_exact.Identification= \"h_exact\";\n",
    "var EEN = enthalpy_exact.L2Norm();\n",
    "var EE = enthalpy_err.L2Norm()/EEN;\n",
    "EE"
   ]
  },
  {
   "cell_type": "markdown",
   "metadata": {},
   "source": [
    "## Obtain enthalpy error from XDG solution"
   ]
  },
  {
   "cell_type": "code",
   "execution_count": 34,
   "metadata": {
    "dotnet_interactive": {
     "language": "csharp"
    },
    "polyglot_notebook": {
     "kernelName": "csharp"
    }
   },
   "outputs": [
    {
     "name": "stdout",
     "output_type": "stream",
     "text": [
      "Project name is set to 'XESF_BowShock_ConvStudy'.\n",
      "Default Execution queue is chosen for the database.\n"
     ]
    },
    {
     "data": {
      "text/plain": [
       "{ Session Count = 8; Grid Count = 8; Path = \\\\dc3\\userspace\\sebastian\\cluster\\XESF_BowShock_ConvStudy }"
      ]
     },
     "metadata": {},
     "output_type": "display_data"
    }
   ],
   "source": [
    "BoSSSshell.WorkflowMgm.Init(\"XESF_BowShock_ConvStudy\");\n",
    "BoSSSshell.WorkflowMgm.SetNameBasedSessionJobControlCorrelation();\n",
    "var db=BoSSSshell.WorkflowMgm.DefaultDatabase;\n",
    "db"
   ]
  },
  {
   "cell_type": "code",
   "execution_count": 35,
   "metadata": {
    "dotnet_interactive": {
     "language": "csharp"
    },
    "polyglot_notebook": {
     "kernelName": "csharp"
    }
   },
   "outputs": [
    {
     "data": {
      "text/plain": [
       "#0: XDGBowShock_TwoLs\tXDGBS-p3-40x128-agg0.4-iPrb0-iFlx0-wFLx0-bFlx0-Fphi0\t4/3/2024 3:12:58 PM\t13d0abde...\r\n",
       "#1: XDGBowShock_TwoLs\tXDGBS-p3-40x128-agg0.4-iPrb0-iFlx1-wFLx0-bFlx0-Fphi0\t4/3/2024 3:20:52 PM\t705aac94...\r\n",
       "#2: XDGBowShock_TwoLs\tXDGBS-p3-20x64-agg0.4-iPrb0-iFlx0-wFLx0-bFlx0-Fphi0\t4/3/2024 1:43:57 PM\tc3bc10a4...\r\n",
       "#3: XDGBowShock_TwoLs\tXDGBS-p3-20x64-agg0.4-iPrb0-iFlx1-wFLx0-bFlx0-Fphi0\t4/3/2024 3:16:31 PM\tfe883d23...\r\n",
       "#4: XDGBowShock_TwoLs\tXDGBS-p3-10x32-agg0.4-iPrb0-iFlx1-wFLx0-bFlx0-Fphi0\t4/3/2024 3:14:05 PM\tcab2c050...\r\n",
       "#5: XDGBowShock_TwoLs\tXDGBS-p3-10x32-agg0.4-iPrb0-iFlx0-wFLx0-bFlx0-Fphi0\t4/3/2024 1:44:06 PM\t990fe52f...\r\n",
       "#6: XDGBowShock_TwoLs\tXDGBS-p3-5x16-agg0.4-iPrb0-iFlx1-wFLx0-bFlx0-Fphi0\t4/3/2024 3:13:56 PM\t643f6a58...\r\n",
       "#7: XDGBowShock_TwoLs\tXDGBS-p3-5x16-agg0.4-iPrb0-iFlx0-wFLx0-bFlx0-Fphi0\t4/3/2024 1:44:05 PM\t6ec2412f...\r\n"
      ]
     },
     "metadata": {},
     "output_type": "display_data"
    }
   ],
   "source": [
    "var sessions = db.Sessions;\n",
    "sessions"
   ]
  },
  {
   "cell_type": "code",
   "execution_count": 36,
   "metadata": {
    "dotnet_interactive": {
     "language": "csharp"
    },
    "polyglot_notebook": {
     "kernelName": "csharp"
    }
   },
   "outputs": [
    {
     "data": {
      "text/plain": [
       "#0: XDGBowShock_TwoLs\tXDGBS-p3-5x16-agg0.4-iPrb0-iFlx0-wFLx0-bFlx0-Fphi0\t4/3/2024 1:44:05 PM\t6ec2412f...\r\n"
      ]
     },
     "metadata": {},
     "output_type": "display_data"
    }
   ],
   "source": [
    "//var sessions = database.Sessions.Where(s => s.Timesteps.Count >0); //plot all \n",
    "var ses= sessions.Where(s => (s.Name.Contains(\"iPrb0\")  &&s.Name.Contains(\"5x16\")&&s.Name.Contains(\"iFlx0\"))); // the one plotted in the publication\n",
    "ses\n"
   ]
  },
  {
   "cell_type": "markdown",
   "metadata": {},
   "source": [
    "extract last timestep with p=2 and compute compute error"
   ]
  },
  {
   "cell_type": "code",
   "execution_count": 37,
   "metadata": {
    "dotnet_interactive": {
     "language": "csharp"
    },
    "polyglot_notebook": {
     "kernelName": "csharp"
    }
   },
   "outputs": [
    {
     "data": {
      "text/html": [
       "<div class=\"dni-plaintext\"><pre>0.0008516470864078319</pre></div><style>\r\n",
       ".dni-code-hint {\r\n",
       "    font-style: italic;\r\n",
       "    overflow: hidden;\r\n",
       "    white-space: nowrap;\r\n",
       "}\r\n",
       ".dni-treeview {\r\n",
       "    white-space: nowrap;\r\n",
       "}\r\n",
       ".dni-treeview td {\r\n",
       "    vertical-align: top;\r\n",
       "    text-align: start;\r\n",
       "}\r\n",
       "details.dni-treeview {\r\n",
       "    padding-left: 1em;\r\n",
       "}\r\n",
       "table td {\r\n",
       "    text-align: start;\r\n",
       "}\r\n",
       "table tr { \r\n",
       "    vertical-align: top; \r\n",
       "    margin: 0em 0px;\r\n",
       "}\r\n",
       "table tr td pre \r\n",
       "{ \r\n",
       "    vertical-align: top !important; \r\n",
       "    margin: 0em 0px !important;\r\n",
       "} \r\n",
       "table th {\r\n",
       "    text-align: start;\r\n",
       "}\r\n",
       "</style>"
      ]
     },
     "metadata": {},
     "output_type": "display_data"
    }
   ],
   "source": [
    "int p=2;\n",
    "var timesteps= ses.Pick(0).Timesteps;\n",
    "MatrixAssembler aaa = new MatrixAssembler(3);\n",
    "var rTSIndex = timesteps.LastIndexWhere(t => t.GetField(\"rho\").Basis.Degree == p);\n",
    "\n",
    "IDTTimeStepInfo lts = (IDTTimeStepInfo)((TimestepProxy)timesteps.Pick(rTSIndex)).GetInternal();\n",
    "var enthalpyError = (XDGField) lts.GetField(\"h_err\").Clone();\n",
    "enthalpyError.L2NormAllSpecies()/EEN\n"
   ]
  },
  {
   "cell_type": "markdown",
   "metadata": {},
   "source": [
    "## compute Entropy"
   ]
  },
  {
   "cell_type": "code",
   "execution_count": 38,
   "metadata": {
    "dotnet_interactive": {
     "language": "csharp"
    },
    "polyglot_notebook": {
     "kernelName": "csharp"
    }
   },
   "outputs": [
    {
     "data": {
      "text/html": [
       "<table><thead><tr><th><i>index</i></th><th><i>type</i></th><th>value</th></tr></thead><tbody><tr><td>0</td><td>BoSSS.Foundation.XDG.XDGField</td><td>u0</td></tr><tr><td>1</td><td>BoSSS.Foundation.XDG.XDGField</td><td>u1</td></tr><tr><td>2</td><td>BoSSS.Foundation.XDG.XDGField</td><td>p</td></tr><tr><td>3</td><td>BoSSS.Foundation.XDG.XDGField</td><td>h</td></tr><tr><td>4</td><td>BoSSS.Foundation.XDG.XDGField</td><td>h_err</td></tr><tr><td>5</td><td>BoSSS.Foundation.XDG.XDGField</td><td>Ma</td></tr><tr><td>6</td><td>BoSSS.Foundation.XDG.LevelSet</td><td>levelSet</td></tr><tr><td>7</td><td>BoSSS.Foundation.XDG.LevelSet</td><td>levelSetTwo</td></tr><tr><td>8</td><td>BoSSS.Foundation.XDG.XDGField</td><td>rho</td></tr><tr><td>9</td><td>BoSSS.Foundation.XDG.XDGField</td><td>m0</td></tr><tr><td>10</td><td>BoSSS.Foundation.XDG.XDGField</td><td>m1</td></tr><tr><td>11</td><td>BoSSS.Foundation.XDG.XDGField</td><td>rhoE</td></tr><tr><td>12</td><td>BoSSS.Foundation.XDG.XDGField</td><td>res_rho</td></tr><tr><td>13</td><td>BoSSS.Foundation.XDG.XDGField</td><td>res_m0</td></tr><tr><td>14</td><td>BoSSS.Foundation.XDG.XDGField</td><td>res_m1</td></tr><tr><td>15</td><td>BoSSS.Foundation.XDG.XDGField</td><td>res_rhoE</td></tr><tr><td>16</td><td>BoSSS.Foundation.XDG.XDGField</td><td>enres_res_rho</td></tr><tr><td>17</td><td>BoSSS.Foundation.XDG.XDGField</td><td>enres_res_m0</td></tr><tr><td>18</td><td>BoSSS.Foundation.XDG.XDGField</td><td>enres_res_m1</td></tr><tr><td>19</td><td>BoSSS.Foundation.XDG.XDGField</td><td>enres_res_rhoE</td></tr><tr><td>20</td><td>BoSSS.Foundation.XDG.XDGField</td><td>rho_lam</td></tr><tr><td>21</td><td>BoSSS.Foundation.XDG.XDGField</td><td>m0_lam</td></tr><tr><td>22</td><td>BoSSS.Foundation.XDG.XDGField</td><td>m1_lam</td></tr><tr><td>23</td><td>BoSSS.Foundation.XDG.XDGField</td><td>rhoE_lam</td></tr><tr><td>24</td><td>BoSSS.Foundation.XDG.XDGField</td><td>personField</td></tr></tbody></table><style>\r\n",
       ".dni-code-hint {\r\n",
       "    font-style: italic;\r\n",
       "    overflow: hidden;\r\n",
       "    white-space: nowrap;\r\n",
       "}\r\n",
       ".dni-treeview {\r\n",
       "    white-space: nowrap;\r\n",
       "}\r\n",
       ".dni-treeview td {\r\n",
       "    vertical-align: top;\r\n",
       "    text-align: start;\r\n",
       "}\r\n",
       "details.dni-treeview {\r\n",
       "    padding-left: 1em;\r\n",
       "}\r\n",
       "table td {\r\n",
       "    text-align: start;\r\n",
       "}\r\n",
       "table tr { \r\n",
       "    vertical-align: top; \r\n",
       "    margin: 0em 0px;\r\n",
       "}\r\n",
       "table tr td pre \r\n",
       "{ \r\n",
       "    vertical-align: top !important; \r\n",
       "    margin: 0em 0px !important;\r\n",
       "} \r\n",
       "table th {\r\n",
       "    text-align: start;\r\n",
       "}\r\n",
       "</style>"
      ]
     },
     "metadata": {},
     "output_type": "display_data"
    }
   ],
   "source": [
    "var flds = lts.Fields;\n",
    "flds\n"
   ]
  },
  {
   "cell_type": "code",
   "execution_count": 39,
   "metadata": {
    "dotnet_interactive": {
     "language": "csharp"
    },
    "polyglot_notebook": {
     "kernelName": "csharp"
    }
   },
   "outputs": [
    {
     "data": {
      "text/html": [
       "<table><thead><tr><th><i>index</i></th><th>value</th></tr></thead><tbody><tr><td>0</td><td>rho</td></tr><tr><td>1</td><td>m0</td></tr><tr><td>2</td><td>m1</td></tr><tr><td>3</td><td>rhoE</td></tr></tbody></table><style>\r\n",
       ".dni-code-hint {\r\n",
       "    font-style: italic;\r\n",
       "    overflow: hidden;\r\n",
       "    white-space: nowrap;\r\n",
       "}\r\n",
       ".dni-treeview {\r\n",
       "    white-space: nowrap;\r\n",
       "}\r\n",
       ".dni-treeview td {\r\n",
       "    vertical-align: top;\r\n",
       "    text-align: start;\r\n",
       "}\r\n",
       "details.dni-treeview {\r\n",
       "    padding-left: 1em;\r\n",
       "}\r\n",
       "table td {\r\n",
       "    text-align: start;\r\n",
       "}\r\n",
       "table tr { \r\n",
       "    vertical-align: top; \r\n",
       "    margin: 0em 0px;\r\n",
       "}\r\n",
       "table tr td pre \r\n",
       "{ \r\n",
       "    vertical-align: top !important; \r\n",
       "    margin: 0em 0px !important;\r\n",
       "} \r\n",
       "table th {\r\n",
       "    text-align: start;\r\n",
       "}\r\n",
       "</style>"
      ]
     },
     "metadata": {},
     "output_type": "display_data"
    }
   ],
   "source": [
    "var consVars= new XDGField[] {(XDGField) flds.ElementAt(8),(XDGField)flds.ElementAt(9),(XDGField)flds.ElementAt(10),(XDGField)flds.ElementAt(11)};\n",
    "consVars"
   ]
  },
  {
   "cell_type": "code",
   "execution_count": 40,
   "metadata": {
    "dotnet_interactive": {
     "language": "csharp"
    },
    "polyglot_notebook": {
     "kernelName": "csharp"
    }
   },
   "outputs": [],
   "source": [
    "using BoSSS.Solution.CompressibleFlowCommon;\n",
    "double gamma=1.4;\n",
    "var entropy =  consVars[0].CloneAs();\n",
    "entropy.Clear();\n",
    "entropy.Identification=\"entropy\";\n",
    "entropy.ProjectFunctionXDG(1.0,\n",
    "    (X, U, j) => U[0] >0 ? new StateVector(U, material).Entropy:0,\n",
    "    consVars);\n",
    "\n",
    "// enthalpy.GetExtremanlValues(....)\n",
    "// enthalpy.Coordinates.CheckForNanAndInf(...)\n",
    "\n"
   ]
  }
 ],
 "metadata": {
  "kernelspec": {
   "display_name": ".NET (C#)",
   "language": "C#",
   "name": ".net-csharp"
  },
  "language_info": {
   "name": "polyglot-notebook"
  },
  "polyglot_notebook": {
   "kernelInfo": {
    "defaultKernelName": "csharp",
    "items": [
     {
      "aliases": [],
      "name": ".NET"
     },
     {
      "aliases": [
       "C#",
       "c#"
      ],
      "languageName": "C#",
      "name": "csharp"
     },
     {
      "aliases": [
       "F#",
       "f#"
      ],
      "languageName": "F#",
      "name": "fsharp"
     },
     {
      "aliases": [],
      "languageName": "HTML",
      "name": "html"
     },
     {
      "aliases": [
       "js"
      ],
      "languageName": "JavaScript",
      "name": "javascript"
     },
     {
      "aliases": [],
      "languageName": "KQL",
      "name": "kql"
     },
     {
      "aliases": [],
      "languageName": "Mermaid",
      "name": "mermaid"
     },
     {
      "aliases": [
       "powershell"
      ],
      "languageName": "PowerShell",
      "name": "pwsh"
     },
     {
      "aliases": [],
      "languageName": "SQL",
      "name": "sql"
     },
     {
      "aliases": [],
      "name": "value"
     },
     {
      "aliases": [
       "frontend"
      ],
      "name": "vscode"
     },
     {
      "aliases": [],
      "name": "webview"
     }
    ]
   }
  }
 },
 "nbformat": 4,
 "nbformat_minor": 2
}

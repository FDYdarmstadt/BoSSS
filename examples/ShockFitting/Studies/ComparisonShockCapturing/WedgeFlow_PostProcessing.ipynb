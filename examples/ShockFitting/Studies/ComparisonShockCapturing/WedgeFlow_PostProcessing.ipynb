{
 "cells": [
  {
   "cell_type": "code",
   "execution_count": 1,
   "metadata": {
    "dotnet_interactive": {
     "language": "csharp"
    }
   },
   "outputs": [],
   "source": [
    "#r \".\\binaries\\BoSSSpad.dll\"\n",
    "#r \".\\binaries\\XESF.dll\"\n",
    "using System;\n",
    "using BoSSS.Foundation;\n",
    "using BoSSS.Application.BoSSSpad;\n",
    "using BoSSS.Solution;\n",
    "using BoSSS.Solution.Tecplot;\n",
    "using BoSSS.Foundation.IO;\n",
    "using ilPSP.Tracing;\n",
    "using BoSSS.Solution.Utils;\n",
    "using ilPSP.LinSolvers;\n",
    "using BoSSS.Solution.NSECommon;\n",
    "using ilPSP.Connectors.Matlab;\n",
    "using ilPSP;\n",
    "using BoSSS.Foundation.Grid.Classic;\n",
    "using ilPSP.Utils;\n",
    "using BoSSS.Foundation.Grid.RefElements;\n",
    "using System.Collections.Generic;\n",
    "using BoSSS.Foundation.Grid;\n",
    "using BoSSS.Foundation.XDG;\n",
    "using BoSSS.Solution.XdgTimestepping;\n",
    "using BoSSS.Solution.AdvancedSolvers;\n",
    "using System.Linq;\n",
    "using BoSSS.Foundation.Grid.Aggregation;\n",
    "using BoSSS.Platform;\n",
    "using MPI.Wrappers;\n",
    "using System.Diagnostics;\n",
    "using System.IO;\n",
    "using System.Collections;\n",
    "using BoSSS.Foundation.Quadrature;\n",
    "using BoSSS.Solution.Statistic;\n",
    "using BoSSS.Solution.Gnuplot;\n",
    "using static BoSSS.Application.BoSSSpad.BoSSSshell;\n",
    "using BoSSS.Solution.Control;\n",
    "using BoSSS.Solution.GridImport;\n",
    "using ApplicationWithIDT;\n",
    "using XESF;\n",
    "Init();\n"
   ]
  },
  {
   "attachments": {},
   "cell_type": "markdown",
   "metadata": {},
   "source": [
    "init workflow\n"
   ]
  },
  {
   "cell_type": "code",
   "execution_count": 2,
   "metadata": {
    "dotnet_interactive": {
     "language": "csharp"
    }
   },
   "outputs": [
    {
     "data": {
      "text/plain": [
       "{ Session Count = 15; Grid Count = 15; Path = \\\\dc3\\userspace\\sebastian\\cluster\\XESFvsCNS_WedgeFlow }"
      ]
     },
     "metadata": {},
     "output_type": "display_data"
    }
   ],
   "source": [
    "BoSSSshell.WorkflowMgm.Init(\"XESFvsCNS_WedgeFlow\");\n",
    "BoSSSshell.WorkflowMgm.SetNameBasedSessionJobControlCorrelation();\n",
    "BoSSSshell.WorkflowMgm.DefaultDatabase\n"
   ]
  },
  {
   "cell_type": "code",
   "execution_count": 3,
   "metadata": {
    "dotnet_interactive": {
     "language": "csharp"
    }
   },
   "outputs": [
    {
     "data": {
      "text/html": [
       "<span>2024-03-23 12:15:47Z</span>"
      ]
     },
     "metadata": {},
     "output_type": "display_data"
    }
   ],
   "source": [
    "var dbPath = BoSSSshell.WorkflowMgm.DefaultDatabase.Path;\n",
    "var database = OpenOrCreateDatabase(dbPath);\n",
    "var dt = database.Sessions.Last().CreationTime;\n",
    "dt\n"
   ]
  },
  {
   "cell_type": "code",
   "execution_count": 4,
   "metadata": {
    "dotnet_interactive": {
     "language": "csharp"
    },
    "polyglot_notebook": {
     "kernelName": "csharp"
    }
   },
   "outputs": [
    {
     "data": {
      "text/plain": [
       "#0: IBMWedgeFlow\tIBMWedgeFlow_p1_xCells15_yCells10_CFLFrac0.1_RK1_s0=1.0E-03_lambdaMax_agg0.3_RESTART12\t3/23/2024 2:14:34 PM\ta4ae7688...\r\n",
       "#1: IBMWedgeFlow\tIBMWedgeFlow_p1_xCells15_yCells10_isUniform_False_ref10*\t3/24/2024 10:24:29 AM\tc5c39c1c...\r\n",
       "#2: IBMWedgeFlow\tIBMWedgeFlow_p1_xCells15_yCells10_isUniform_False_ref6*\t3/24/2024 10:21:16 AM\t97aa26e9...\r\n",
       "#3: XESFWedgeFlow_TwoLs\tXDGWS-15x10-agg0.4-iPrb0-iFlx0-wFLx0-bFlx0-Fphi0\t3/23/2024 3:31:59 PM\t0edcfdf3...\r\n",
       "#4: XESFWedgeFlow_TwoLs\tXDGWS-15x10-agg0.4-iPrb0-iFlx1-wFLx0-bFlx0-Fphi0\t3/23/2024 3:32:30 PM\td9b84916...\r\n",
       "#5: XESFWedgeFlow_TwoLs\tXDGWS-15x10-agg0.4-iPrb0-iFlx0-wFLx0-bFlx0-Fphi0\t3/23/2024 3:26:15 PM\tdf3ffe04...\r\n",
       "#6: IBMWedgeFlow\tIBMWedgeFlow_p1_xCells15_yCells10_CFLFrac0.1_RK1_s0=1.0E-03_lambdaMax_agg0.3_RESTART12*\t3/23/2024 3:57:22 PM\t7bf736d4...\r\n",
       "#7: XESFWedgeFlow_TwoLs\tXDGWS-15x10-agg0.4-iPrb0-iFlx1-wFLx0-bFlx0-Fphi0\t3/23/2024 3:10:44 PM\te6c497cc...\r\n",
       "#8: XESFWedgeFlow_TwoLs\tXDGWS-15x10-agg0.4-iPrb0-iFlx1-wFLx0-bFlx0-Fphi0\t3/23/2024 3:08:28 PM\t75e1e2f8...\r\n",
       "#9: XESFWedgeFlow_TwoLs\tXDGWS-15x10-agg0.4-iPrb0-iFlx0-wFLx0-bFlx0-Fphi0\t3/23/2024 3:10:26 PM\tc4b8ec81...\r\n",
       "#10: XESFWedgeFlow_TwoLs\tXDGWS-15x10-agg0.4-iPrb0-iFlx0-wFLx0-bFlx0-Fphi0\t3/23/2024 3:08:07 PM\t0b3708f4...\r\n",
       "#11: IBMWedgeFlow\tIBMWedgeFlow_p1_xCells30_yCells20_CFLFrac0.1_RK1_s0=1.0E-03_lambdaMax_agg0.3_RESTART12*\t3/23/2024 1:53:59 PM\t027f47b1...\r\n",
       "#12: IBMWedgeFlow\tIBMWedgeFlow_p1_xCells60_yCells40_CFLFrac0.1_RK1_s0=1.0E-03_lambdaMax_agg0.3_RESTART12*\t3/23/2024 1:52:14 PM\t1b688a8a...\r\n",
       "#13: XESFWedgeFlow_TwoLs\tXDGWS-15x10-agg0.4-iPrb0-iFlx1-wFLx0-bFlx0-Fphi0\t3/23/2024 12:16:16 PM\t26bb6405...\r\n",
       "#14: XESFWedgeFlow_TwoLs\tXDGWS-15x10-agg0.4-iPrb0-iFlx0-wFLx0-bFlx0-Fphi0\t3/23/2024 12:15:47 PM\td78d93bc...\r\n"
      ]
     },
     "metadata": {},
     "output_type": "display_data"
    }
   ],
   "source": [
    "var sessions = database.Sessions;\n",
    "sessions"
   ]
  },
  {
   "cell_type": "code",
   "execution_count": 5,
   "metadata": {
    "dotnet_interactive": {
     "language": "csharp"
    },
    "polyglot_notebook": {
     "kernelName": "csharp"
    }
   },
   "outputs": [
    {
     "data": {
      "text/html": [
       "<div class=\"dni-plaintext\"><pre>1b688a8a-bf70-4300-abab-4d6070b074d1</pre></div><style>\r\n",
       ".dni-code-hint {\r\n",
       "    font-style: italic;\r\n",
       "    overflow: hidden;\r\n",
       "    white-space: nowrap;\r\n",
       "}\r\n",
       ".dni-treeview {\r\n",
       "    white-space: nowrap;\r\n",
       "}\r\n",
       ".dni-treeview td {\r\n",
       "    vertical-align: top;\r\n",
       "    text-align: start;\r\n",
       "}\r\n",
       "details.dni-treeview {\r\n",
       "    padding-left: 1em;\r\n",
       "}\r\n",
       "table td {\r\n",
       "    text-align: start;\r\n",
       "}\r\n",
       "table tr { \r\n",
       "    vertical-align: top; \r\n",
       "    margin: 0em 0px;\r\n",
       "}\r\n",
       "table tr td pre \r\n",
       "{ \r\n",
       "    vertical-align: top !important; \r\n",
       "    margin: 0em 0px !important;\r\n",
       "} \r\n",
       "table th {\r\n",
       "    text-align: start;\r\n",
       "}\r\n",
       "</style>"
      ]
     },
     "metadata": {},
     "output_type": "display_data"
    }
   ],
   "source": [
    "MatrixAssembler aaa = new MatrixAssembler(12);\n",
    "var si = database.Sessions.Pick(12); // pick a session to compare\n",
    "var ti = si.Timesteps;\n",
    "si.ID"
   ]
  },
  {
   "cell_type": "code",
   "execution_count": 10,
   "metadata": {
    "dotnet_interactive": {
     "language": "csharp"
    },
    "polyglot_notebook": {
     "kernelName": "csharp"
    }
   },
   "outputs": [
    {
     "ename": "Error",
     "evalue": "System.ArgumentNullException: Value cannot be null. (Parameter 'path')\r\n   at System.ArgumentNullException.Throw(String paramName)\r\n   at System.ArgumentNullException.ThrowIfNull(Object argument, String paramName)\r\n   at System.ArgumentException.ThrowNullOrEmptyException(String argument, String paramName)\r\n   at System.IO.Strategies.FileStreamHelpers.ValidateArguments(String path, FileMode mode, FileAccess access, FileShare share, Int32 bufferSize, FileOptions options, Int64 preallocationSize)\r\n   at System.IO.FileStream..ctor(String path, FileMode mode, FileAccess access, FileShare share)\r\n   at BoSSS.Application.BoSSSpad.ResidualLog.InitializeReaderAndValues() in C:\\experimental\\public\\src\\L4-application\\BoSSSpad\\ResidualLog.cs:line 136\r\n   at BoSSS.Application.BoSSSpad.ResidualLog.ReadResiduals() in C:\\experimental\\public\\src\\L4-application\\BoSSSpad\\ResidualLog.cs:line 201\r\n   at BoSSS.Application.BoSSSpad.ResidualLog..ctor(ISessionInfo session, String norm, String[] variables, Int32 stride) in C:\\experimental\\public\\src\\L4-application\\BoSSSpad\\ResidualLog.cs:line 107\r\n   at BoSSS.Foundation.IO.ISessionInfoExtensions.Residuals(ISessionInfo session, String norm, Int32 stride, String[] variables) in C:\\experimental\\public\\src\\L4-application\\BoSSSpad\\ISessionInfoExtensions.cs:line 269\r\n   at Submission#11.<<Initialize>>d__0.MoveNext()\r\n--- End of stack trace from previous location ---\r\n   at Microsoft.CodeAnalysis.Scripting.ScriptExecutionState.RunSubmissionsAsync[TResult](ImmutableArray`1 precedingExecutors, Func`2 currentExecutor, StrongBox`1 exceptionHolderOpt, Func`2 catchExceptionOpt, CancellationToken cancellationToken)",
     "output_type": "error",
     "traceback": [
      "System.ArgumentNullException: Value cannot be null. (Parameter 'path')\r\n",
      "   at System.ArgumentNullException.Throw(String paramName)\r\n",
      "   at System.ArgumentNullException.ThrowIfNull(Object argument, String paramName)\r\n",
      "   at System.ArgumentException.ThrowNullOrEmptyException(String argument, String paramName)\r\n",
      "   at System.IO.Strategies.FileStreamHelpers.ValidateArguments(String path, FileMode mode, FileAccess access, FileShare share, Int32 bufferSize, FileOptions options, Int64 preallocationSize)\r\n",
      "   at System.IO.FileStream..ctor(String path, FileMode mode, FileAccess access, FileShare share)\r\n",
      "   at BoSSS.Application.BoSSSpad.ResidualLog.InitializeReaderAndValues() in C:\\experimental\\public\\src\\L4-application\\BoSSSpad\\ResidualLog.cs:line 136\r\n",
      "   at BoSSS.Application.BoSSSpad.ResidualLog.ReadResiduals() in C:\\experimental\\public\\src\\L4-application\\BoSSSpad\\ResidualLog.cs:line 201\r\n",
      "   at BoSSS.Application.BoSSSpad.ResidualLog..ctor(ISessionInfo session, String norm, String[] variables, Int32 stride) in C:\\experimental\\public\\src\\L4-application\\BoSSSpad\\ResidualLog.cs:line 107\r\n",
      "   at BoSSS.Foundation.IO.ISessionInfoExtensions.Residuals(ISessionInfo session, String norm, Int32 stride, String[] variables) in C:\\experimental\\public\\src\\L4-application\\BoSSSpad\\ISessionInfoExtensions.cs:line 269\r\n",
      "   at Submission#11.<<Initialize>>d__0.MoveNext()\r\n",
      "--- End of stack trace from previous location ---\r\n",
      "   at Microsoft.CodeAnalysis.Scripting.ScriptExecutionState.RunSubmissionsAsync[TResult](ImmutableArray`1 precedingExecutors, Func`2 currentExecutor, StrongBox`1 exceptionHolderOpt, Func`2 catchExceptionOpt, CancellationToken cancellationToken)"
     ]
    }
   ],
   "source": []
  },
  {
   "cell_type": "code",
   "execution_count": 6,
   "metadata": {
    "dotnet_interactive": {
     "language": "csharp"
    },
    "polyglot_notebook": {
     "kernelName": "csharp"
    }
   },
   "outputs": [
    {
     "data": {
      "text/plain": [
       "C:\\Users\\sebastian\\AppData\\Local\\BoSSS\\plots\\sessions\\IBMWedgeFlow__IBMWedgeFlow_p1_xCells60_yCells40_CFLFrac0.1_RK1_s0=1.0E-03_lambdaMax_agg0.3_RESTART12__1b688a8a-bf70-4300-abab-4d6070b074d1"
      ]
     },
     "metadata": {},
     "output_type": "display_data"
    }
   ],
   "source": [
    "si.Export().Do() //export the plot"
   ]
  },
  {
   "cell_type": "code",
   "execution_count": 7,
   "metadata": {
    "dotnet_interactive": {
     "language": "csharp"
    },
    "polyglot_notebook": {
     "kernelName": "csharp"
    }
   },
   "outputs": [],
   "source": [
    "var flds = si.Timesteps.Last().Fields;\n",
    "var tp= new Tecplot(flds.Last().GridDat,2);\n",
    "tp.PlotFields(si.Name,0,flds);\n"
   ]
  },
  {
   "attachments": {},
   "cell_type": "markdown",
   "metadata": {},
   "source": [
    "## Enthalpy error\n",
    "enthalpy is computed as\n",
    "$$h=\\frac{(\\rho E + p)}{\\rho},~ p=(\\gamma -1)(\\rho E - \\rho e_{kin}),~\\rho e_{kin}=\\frac{\\rho }{2}(\\vert u\\vert^2 + \\vert v\\vert^2)$$\n",
    "\n",
    "For an uniform inviscid flow the inflow enthalpy should remain constant throughout the flowfield \n",
    "\n",
    "In the case of the WedgeFlow ($p_\\text{in}=1,\\rho_\\text{in}=1$) presented, the v-velocity is zero and we have\n",
    "$$ h_{in} = \\rho E_{in}+1$$\n",
    "We prescribe the inflow conditions by the Mach number $M_{in}=2$. From those the Energy is computed as \n",
    "$$ \\rho E_{in} = (\\rho e_{inner})_\\text{in}+(\\rho e_{kin})_\\text{in}=\\frac{p_\\text{in}}{\\gamma-1}+\\frac{\\rho_\\text{in}}{2}u_\\text{in}^2= \\frac{1}{\\gamma-1}+\\frac{1}{2}u_{in}^2$$ \n",
    "where $u_{in} = M_{in}\\sqrt{\\gamma}$. In total we obtain:\n",
    "$$ h_\\text{in}=\\rho E_{in}+1=\\frac{\\gamma}{\\gamma-1}+\\frac{1}{2}u_{in}^2$$\n"
   ]
  },
  {
   "cell_type": "code",
   "execution_count": 9,
   "metadata": {
    "dotnet_interactive": {
     "language": "csharp"
    },
    "polyglot_notebook": {
     "kernelName": "csharp"
    }
   },
   "outputs": [
    {
     "data": {
      "text/html": [
       "<div class=\"dni-plaintext\"><pre>6.300000000000001</pre></div><style>\r\n",
       ".dni-code-hint {\r\n",
       "    font-style: italic;\r\n",
       "    overflow: hidden;\r\n",
       "    white-space: nowrap;\r\n",
       "}\r\n",
       ".dni-treeview {\r\n",
       "    white-space: nowrap;\r\n",
       "}\r\n",
       ".dni-treeview td {\r\n",
       "    vertical-align: top;\r\n",
       "    text-align: start;\r\n",
       "}\r\n",
       "details.dni-treeview {\r\n",
       "    padding-left: 1em;\r\n",
       "}\r\n",
       "table td {\r\n",
       "    text-align: start;\r\n",
       "}\r\n",
       "table tr { \r\n",
       "    vertical-align: top; \r\n",
       "    margin: 0em 0px;\r\n",
       "}\r\n",
       "table tr td pre \r\n",
       "{ \r\n",
       "    vertical-align: top !important; \r\n",
       "    margin: 0em 0px !important;\r\n",
       "} \r\n",
       "table th {\r\n",
       "    text-align: start;\r\n",
       "}\r\n",
       "</style>"
      ]
     },
     "metadata": {},
     "output_type": "display_data"
    }
   ],
   "source": [
    "using BoSSS.Solution.CompressibleFlowCommon.MaterialProperty;\n",
    "var enthalpy_end = si.Timesteps.Last().GetField(\"h\");\n",
    "var enthalpy_exact = (DGField) enthalpy_end.Clone();\n",
    "double gamma = IdealGas.Air.HeatCapacityRatio;\n",
    "double Ms = 2.0;\n",
    "double densityLeft = 1;\n",
    "double pressureLeft = 1;\n",
    "double velocityXLeft = Ms * Math.Sqrt(gamma * pressureLeft / densityLeft);\n",
    "\n",
    "(gamma)/(gamma-1) + 0.5*velocityXLeft*velocityXLeft"
   ]
  },
  {
   "cell_type": "markdown",
   "metadata": {},
   "source": [
    "Compute the enthalpy error"
   ]
  },
  {
   "cell_type": "code",
   "execution_count": 10,
   "metadata": {
    "dotnet_interactive": {
     "language": "csharp"
    }
   },
   "outputs": [
    {
     "data": {
      "text/html": [
       "<div class=\"dni-plaintext\"><pre>0.22081460140149398</pre></div><style>\r\n",
       ".dni-code-hint {\r\n",
       "    font-style: italic;\r\n",
       "    overflow: hidden;\r\n",
       "    white-space: nowrap;\r\n",
       "}\r\n",
       ".dni-treeview {\r\n",
       "    white-space: nowrap;\r\n",
       "}\r\n",
       ".dni-treeview td {\r\n",
       "    vertical-align: top;\r\n",
       "    text-align: start;\r\n",
       "}\r\n",
       "details.dni-treeview {\r\n",
       "    padding-left: 1em;\r\n",
       "}\r\n",
       "table td {\r\n",
       "    text-align: start;\r\n",
       "}\r\n",
       "table tr { \r\n",
       "    vertical-align: top; \r\n",
       "    margin: 0em 0px;\r\n",
       "}\r\n",
       "table tr td pre \r\n",
       "{ \r\n",
       "    vertical-align: top !important; \r\n",
       "    margin: 0em 0px !important;\r\n",
       "} \r\n",
       "table th {\r\n",
       "    text-align: start;\r\n",
       "}\r\n",
       "</style>"
      ]
     },
     "metadata": {},
     "output_type": "display_data"
    }
   ],
   "source": [
    "var enthalpy_inflow = (gamma)/(gamma-1) + 0.5*velocityXLeft*velocityXLeft;\n",
    "enthalpy_exact.Clear();\n",
    "enthalpy_exact.ProjectField(1.0,t => enthalpy_inflow);\n",
    "enthalpy_exact.Identification= \"h_exact\";\n",
    "var EEN = enthalpy_exact.L2Norm();\n",
    "var EE = enthalpy_end.L2Error(enthalpy_exact)/EEN;\n",
    "EE"
   ]
  }
 ],
 "metadata": {
  "kernelspec": {
   "display_name": ".NET (C#)",
   "language": "C#",
   "name": ".net-csharp"
  },
  "language_info": {
   "name": "polyglot-notebook"
  },
  "polyglot_notebook": {
   "kernelInfo": {
    "defaultKernelName": "csharp",
    "items": [
     {
      "aliases": [],
      "name": ".NET"
     },
     {
      "aliases": [
       "C#",
       "c#"
      ],
      "languageName": "C#",
      "name": "csharp"
     },
     {
      "aliases": [
       "F#",
       "f#"
      ],
      "languageName": "F#",
      "name": "fsharp"
     },
     {
      "aliases": [],
      "languageName": "HTML",
      "name": "html"
     },
     {
      "aliases": [
       "js"
      ],
      "languageName": "JavaScript",
      "name": "javascript"
     },
     {
      "aliases": [],
      "languageName": "KQL",
      "name": "kql"
     },
     {
      "aliases": [],
      "languageName": "Mermaid",
      "name": "mermaid"
     },
     {
      "aliases": [
       "powershell"
      ],
      "languageName": "PowerShell",
      "name": "pwsh"
     },
     {
      "aliases": [],
      "languageName": "SQL",
      "name": "sql"
     },
     {
      "aliases": [],
      "name": "value"
     },
     {
      "aliases": [
       "frontend"
      ],
      "name": "vscode"
     },
     {
      "aliases": [],
      "name": "webview"
     }
    ]
   }
  }
 },
 "nbformat": 4,
 "nbformat_minor": 2
}

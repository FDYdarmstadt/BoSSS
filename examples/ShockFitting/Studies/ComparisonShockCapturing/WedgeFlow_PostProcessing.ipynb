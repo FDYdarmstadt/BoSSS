{
 "cells": [
  {
   "cell_type": "code",
   "execution_count": 6,
   "metadata": {
    "dotnet_interactive": {
     "language": "csharp"
    }
   },
   "outputs": [
    {
     "name": "stdout",
     "output_type": "stream",
     "text": [
      "Using gnuplot: C:\\Program Files (x86)\\FDY\\BoSSS\\bin\\native\\win\\gnuplot-gp510-20160418-win32-mingw\\gnuplot\\bin\\gnuplot.exe\n",
      "Databases loaded: \n",
      "Capacity: 0\n",
      "Count: 0\n",
      "\n"
     ]
    },
    {
     "ename": "Error",
     "evalue": "System.ApplicationException: Already called.\r\n   at BoSSS.Application.BoSSSpad.BoSSSshell.InitTraceFile() in C:\\experimental\\public\\src\\L4-application\\BoSSSpad\\BoSSSshell.cs:line 217\r\n   at BoSSS.Application.BoSSSpad.BoSSSshell.Init() in C:\\experimental\\public\\src\\L4-application\\BoSSSpad\\BoSSSshell.cs:line 104\r\n   at Submission#7.<<Initialize>>d__0.MoveNext()\r\n--- End of stack trace from previous location ---\r\n   at Microsoft.CodeAnalysis.Scripting.ScriptExecutionState.RunSubmissionsAsync[TResult](ImmutableArray`1 precedingExecutors, Func`2 currentExecutor, StrongBox`1 exceptionHolderOpt, Func`2 catchExceptionOpt, CancellationToken cancellationToken)",
     "output_type": "error",
     "traceback": [
      "System.ApplicationException: Already called.\r\n",
      "   at BoSSS.Application.BoSSSpad.BoSSSshell.InitTraceFile() in C:\\experimental\\public\\src\\L4-application\\BoSSSpad\\BoSSSshell.cs:line 217\r\n",
      "   at BoSSS.Application.BoSSSpad.BoSSSshell.Init() in C:\\experimental\\public\\src\\L4-application\\BoSSSpad\\BoSSSshell.cs:line 104\r\n",
      "   at Submission#7.<<Initialize>>d__0.MoveNext()\r\n",
      "--- End of stack trace from previous location ---\r\n",
      "   at Microsoft.CodeAnalysis.Scripting.ScriptExecutionState.RunSubmissionsAsync[TResult](ImmutableArray`1 precedingExecutors, Func`2 currentExecutor, StrongBox`1 exceptionHolderOpt, Func`2 catchExceptionOpt, CancellationToken cancellationToken)"
     ]
    }
   ],
   "source": [
    "#r \"BoSSSpad.dll\"\n",
    "#r \"XESF.dll\"\n",
    "using System;\n",
    "using BoSSS.Foundation;\n",
    "using BoSSS.Application.BoSSSpad;\n",
    "using BoSSS.Solution;\n",
    "using BoSSS.Solution.Tecplot;\n",
    "using BoSSS.Foundation.IO;\n",
    "using ilPSP.Tracing;\n",
    "using BoSSS.Solution.Utils;\n",
    "using ilPSP.LinSolvers;\n",
    "using BoSSS.Solution.NSECommon;\n",
    "using ilPSP.Connectors.Matlab;\n",
    "using ilPSP;\n",
    "using BoSSS.Foundation.Grid.Classic;\n",
    "using ilPSP.Utils;\n",
    "using BoSSS.Foundation.Grid.RefElements;\n",
    "using System.Collections.Generic;\n",
    "using BoSSS.Foundation.Grid;\n",
    "using BoSSS.Foundation.XDG;\n",
    "using BoSSS.Solution.XdgTimestepping;\n",
    "using BoSSS.Solution.AdvancedSolvers;\n",
    "using System.Linq;\n",
    "using BoSSS.Foundation.Grid.Aggregation;\n",
    "using BoSSS.Platform;\n",
    "using MPI.Wrappers;\n",
    "using System.Diagnostics;\n",
    "using System.IO;\n",
    "using System.Collections;\n",
    "using BoSSS.Foundation.Quadrature;\n",
    "using BoSSS.Solution.Statistic;\n",
    "using BoSSS.Solution.Gnuplot;\n",
    "using static BoSSS.Application.BoSSSpad.BoSSSshell;\n",
    "using BoSSS.Solution.Control;\n",
    "using BoSSS.Solution.GridImport;\n",
    "using ApplicationWithIDT;\n",
    "using XESF;\n",
    "Init();\n"
   ]
  },
  {
   "attachments": {},
   "cell_type": "markdown",
   "metadata": {},
   "source": [
    "init workflow\n"
   ]
  },
  {
   "cell_type": "code",
   "execution_count": 7,
   "metadata": {
    "dotnet_interactive": {
     "language": "csharp"
    }
   },
   "outputs": [
    {
     "name": "stdout",
     "output_type": "stream",
     "text": [
      "Project name is set to 'XESFvsCNS_WedgeFlow'.\n",
      "Default Execution queue is chosen for the database.\n",
      "Opening existing database '\\\\dc3\\userspace\\sebastian\\cluster\\XESFvsCNS_WedgeFlow'.\n"
     ]
    },
    {
     "data": {
      "text/plain": [
       "{ Session Count = 17; Grid Count = 17; Path = \\\\dc3\\userspace\\sebastian\\cluster\\XESFvsCNS_WedgeFlow }"
      ]
     },
     "metadata": {},
     "output_type": "display_data"
    }
   ],
   "source": [
    "BoSSSshell.WorkflowMgm.Init(\"XESFvsCNS_WedgeFlow\");\n",
    "BoSSSshell.WorkflowMgm.SetNameBasedSessionJobControlCorrelation();\n",
    "BoSSSshell.WorkflowMgm.DefaultDatabase\n"
   ]
  },
  {
   "cell_type": "code",
   "execution_count": 8,
   "metadata": {
    "dotnet_interactive": {
     "language": "csharp"
    }
   },
   "outputs": [
    {
     "data": {
      "text/html": [
       "<span>2024-03-23 12:15:47Z</span>"
      ]
     },
     "metadata": {},
     "output_type": "display_data"
    }
   ],
   "source": [
    "var dbPath = BoSSSshell.WorkflowMgm.DefaultDatabase.Path;\n",
    "var database = OpenOrCreateDatabase(dbPath);\n",
    "var dt = database.Sessions.Last().CreationTime;\n",
    "dt\n"
   ]
  },
  {
   "cell_type": "code",
   "execution_count": 9,
   "metadata": {
    "dotnet_interactive": {
     "language": "csharp"
    },
    "polyglot_notebook": {
     "kernelName": "csharp"
    }
   },
   "outputs": [
    {
     "data": {
      "text/plain": [
       "#0: IBMWedgeFlow\tIBMWedgeFlow_p1_xCells60_yCells40_isUniform_True_ref10*\t4/17/2024 4:51:29 PM\t34750bbf...\r\n",
       "#1: IBMWedgeFlow\tIBMWedgeFlow_p1_xCells120_yCells80_isUniform_True_ref10*\t4/17/2024 3:22:20 PM\t5418877e...\r\n",
       "#2: IBMWedgeFlow\tIBMWedgeFlow_p1_xCells15_yCells10_CFLFrac0.1_RK1_s0=1.0E-03_lambdaMax_agg0.3_RESTART12\t3/23/2024 2:14:34 PM\ta4ae7688...\r\n",
       "#3: IBMWedgeFlow\tIBMWedgeFlow_p1_xCells15_yCells10_isUniform_False_ref10*\t3/24/2024 10:24:29 AM\tc5c39c1c...\r\n",
       "#4: IBMWedgeFlow\tIBMWedgeFlow_p1_xCells15_yCells10_isUniform_False_ref6*\t3/24/2024 10:21:16 AM\t97aa26e9...\r\n",
       "#5: XESFWedgeFlow_TwoLs\tXDGWS-15x10-agg0.4-iPrb0-iFlx0-wFLx0-bFlx0-Fphi0\t3/23/2024 3:31:59 PM\t0edcfdf3...\r\n",
       "#6: XESFWedgeFlow_TwoLs\tXDGWS-15x10-agg0.4-iPrb0-iFlx1-wFLx0-bFlx0-Fphi0\t3/23/2024 3:32:30 PM\td9b84916...\r\n",
       "#7: XESFWedgeFlow_TwoLs\tXDGWS-15x10-agg0.4-iPrb0-iFlx0-wFLx0-bFlx0-Fphi0\t3/23/2024 3:26:15 PM\tdf3ffe04...\r\n",
       "#8: IBMWedgeFlow\tIBMWedgeFlow_p1_xCells15_yCells10_CFLFrac0.1_RK1_s0=1.0E-03_lambdaMax_agg0.3_RESTART12*\t3/23/2024 3:57:22 PM\t7bf736d4...\r\n",
       "#9: XESFWedgeFlow_TwoLs\tXDGWS-15x10-agg0.4-iPrb0-iFlx1-wFLx0-bFlx0-Fphi0\t3/23/2024 3:10:44 PM\te6c497cc...\r\n",
       "#10: XESFWedgeFlow_TwoLs\tXDGWS-15x10-agg0.4-iPrb0-iFlx1-wFLx0-bFlx0-Fphi0\t3/23/2024 3:08:28 PM\t75e1e2f8...\r\n",
       "#11: XESFWedgeFlow_TwoLs\tXDGWS-15x10-agg0.4-iPrb0-iFlx0-wFLx0-bFlx0-Fphi0\t3/23/2024 3:10:26 PM\tc4b8ec81...\r\n",
       "#12: XESFWedgeFlow_TwoLs\tXDGWS-15x10-agg0.4-iPrb0-iFlx0-wFLx0-bFlx0-Fphi0\t3/23/2024 3:08:07 PM\t0b3708f4...\r\n",
       "#13: IBMWedgeFlow\tIBMWedgeFlow_p1_xCells30_yCells20_CFLFrac0.1_RK1_s0=1.0E-03_lambdaMax_agg0.3_RESTART12*\t3/23/2024 1:53:59 PM\t027f47b1...\r\n",
       "#14: IBMWedgeFlow\tIBMWedgeFlow_p1_xCells60_yCells40_CFLFrac0.1_RK1_s0=1.0E-03_lambdaMax_agg0.3_RESTART12*\t3/23/2024 1:52:14 PM\t1b688a8a...\r\n",
       "#15: XESFWedgeFlow_TwoLs\tXDGWS-15x10-agg0.4-iPrb0-iFlx1-wFLx0-bFlx0-Fphi0\t3/23/2024 12:16:16 PM\t26bb6405...\r\n",
       "#16: XESFWedgeFlow_TwoLs\tXDGWS-15x10-agg0.4-iPrb0-iFlx0-wFLx0-bFlx0-Fphi0\t3/23/2024 12:15:47 PM\td78d93bc...\r\n"
      ]
     },
     "metadata": {},
     "output_type": "display_data"
    }
   ],
   "source": [
    "var sessions = database.Sessions;\n",
    "sessions"
   ]
  },
  {
   "cell_type": "code",
   "execution_count": 10,
   "metadata": {
    "dotnet_interactive": {
     "language": "csharp"
    },
    "polyglot_notebook": {
     "kernelName": "csharp"
    }
   },
   "outputs": [
    {
     "data": {
      "text/html": [
       "<div class=\"dni-plaintext\"><pre>0b3708f4-9068-4d2e-bc3b-4f328bde97c5</pre></div><style>\r\n",
       ".dni-code-hint {\r\n",
       "    font-style: italic;\r\n",
       "    overflow: hidden;\r\n",
       "    white-space: nowrap;\r\n",
       "}\r\n",
       ".dni-treeview {\r\n",
       "    white-space: nowrap;\r\n",
       "}\r\n",
       ".dni-treeview td {\r\n",
       "    vertical-align: top;\r\n",
       "    text-align: start;\r\n",
       "}\r\n",
       "details.dni-treeview {\r\n",
       "    padding-left: 1em;\r\n",
       "}\r\n",
       "table td {\r\n",
       "    text-align: start;\r\n",
       "}\r\n",
       "table tr { \r\n",
       "    vertical-align: top; \r\n",
       "    margin: 0em 0px;\r\n",
       "}\r\n",
       "table tr td pre \r\n",
       "{ \r\n",
       "    vertical-align: top !important; \r\n",
       "    margin: 0em 0px !important;\r\n",
       "} \r\n",
       "table th {\r\n",
       "    text-align: start;\r\n",
       "}\r\n",
       "</style>"
      ]
     },
     "metadata": {},
     "output_type": "display_data"
    }
   ],
   "source": [
    "MatrixAssembler aaa = new MatrixAssembler(12);\n",
    "var si = database.Sessions.Pick(12); // pick a session to compare\n",
    "var ti = si.Timesteps;\n",
    "si.ID"
   ]
  },
  {
   "cell_type": "code",
   "execution_count": 11,
   "metadata": {
    "dotnet_interactive": {
     "language": "csharp"
    },
    "polyglot_notebook": {
     "kernelName": "csharp"
    }
   },
   "outputs": [],
   "source": []
  },
  {
   "cell_type": "code",
   "execution_count": 12,
   "metadata": {
    "dotnet_interactive": {
     "language": "csharp"
    },
    "polyglot_notebook": {
     "kernelName": "csharp"
    }
   },
   "outputs": [],
   "source": [
    "//si.Export().Do() //export the plot"
   ]
  },
  {
   "cell_type": "code",
   "execution_count": 13,
   "metadata": {
    "dotnet_interactive": {
     "language": "csharp"
    },
    "polyglot_notebook": {
     "kernelName": "csharp"
    }
   },
   "outputs": [],
   "source": [
    "var flds = si.Timesteps.Last().Fields;\n",
    "var tp= new Tecplot(flds.Last().GridDat,2);\n",
    "tp.PlotFields(si.Name,0,flds);\n"
   ]
  },
  {
   "attachments": {},
   "cell_type": "markdown",
   "metadata": {},
   "source": [
    "## Enthalpy error\n",
    "enthalpy is computed as\n",
    "$$h=\\frac{(\\rho E + p)}{\\rho},~ p=(\\gamma -1)(\\rho E - \\rho e_{kin}),~\\rho e_{kin}=\\frac{\\rho }{2}(\\vert u\\vert^2 + \\vert v\\vert^2)$$\n",
    "\n",
    "For an uniform inviscid flow the inflow enthalpy should remain constant throughout the flowfield \n",
    "\n",
    "In the case of the WedgeFlow ($p_\\text{in}=1,\\rho_\\text{in}=1$) presented, the v-velocity is zero and we have\n",
    "$$ h_{in} = \\rho E_{in}+1$$\n",
    "We prescribe the inflow conditions by the Mach number $M_{in}=2$. From those the Energy is computed as \n",
    "$$ \\rho E_{in} = (\\rho e_{inner})_\\text{in}+(\\rho e_{kin})_\\text{in}=\\frac{p_\\text{in}}{\\gamma-1}+\\frac{\\rho_\\text{in}}{2}u_\\text{in}^2= \\frac{1}{\\gamma-1}+\\frac{1}{2}u_{in}^2$$ \n",
    "where $u_{in} = M_{in}\\sqrt{\\gamma}$. In total we obtain:\n",
    "$$ h_\\text{in}=\\rho E_{in}+1=\\frac{\\gamma}{\\gamma-1}+\\frac{1}{2}u_{in}^2$$\n"
   ]
  },
  {
   "cell_type": "code",
   "execution_count": 14,
   "metadata": {
    "dotnet_interactive": {
     "language": "csharp"
    },
    "polyglot_notebook": {
     "kernelName": "csharp"
    }
   },
   "outputs": [
    {
     "data": {
      "text/html": [
       "<div class=\"dni-plaintext\"><pre>6.300000000000001</pre></div><style>\r\n",
       ".dni-code-hint {\r\n",
       "    font-style: italic;\r\n",
       "    overflow: hidden;\r\n",
       "    white-space: nowrap;\r\n",
       "}\r\n",
       ".dni-treeview {\r\n",
       "    white-space: nowrap;\r\n",
       "}\r\n",
       ".dni-treeview td {\r\n",
       "    vertical-align: top;\r\n",
       "    text-align: start;\r\n",
       "}\r\n",
       "details.dni-treeview {\r\n",
       "    padding-left: 1em;\r\n",
       "}\r\n",
       "table td {\r\n",
       "    text-align: start;\r\n",
       "}\r\n",
       "table tr { \r\n",
       "    vertical-align: top; \r\n",
       "    margin: 0em 0px;\r\n",
       "}\r\n",
       "table tr td pre \r\n",
       "{ \r\n",
       "    vertical-align: top !important; \r\n",
       "    margin: 0em 0px !important;\r\n",
       "} \r\n",
       "table th {\r\n",
       "    text-align: start;\r\n",
       "}\r\n",
       "</style>"
      ]
     },
     "metadata": {},
     "output_type": "display_data"
    }
   ],
   "source": [
    "using BoSSS.Solution.CompressibleFlowCommon.MaterialProperty;\n",
    "var enthalpy_end = si.Timesteps.Last().GetField(\"h\");\n",
    "var enthalpy_exact = (DGField) enthalpy_end.Clone();\n",
    "double gamma = IdealGas.Air.HeatCapacityRatio;\n",
    "double Ms = 2.0;\n",
    "double densityLeft = 1;\n",
    "double pressureLeft = 1;\n",
    "double velocityXLeft = Ms * Math.Sqrt(gamma * pressureLeft / densityLeft);\n",
    "\n",
    "(gamma)/(gamma-1) + 0.5*velocityXLeft*velocityXLeft"
   ]
  },
  {
   "cell_type": "markdown",
   "metadata": {},
   "source": [
    "Compute the enthalpy error"
   ]
  },
  {
   "cell_type": "code",
   "execution_count": 15,
   "metadata": {
    "dotnet_interactive": {
     "language": "csharp"
    }
   },
   "outputs": [
    {
     "data": {
      "text/html": [
       "<div class=\"dni-plaintext\"><pre>0.24152460611032395</pre></div><style>\r\n",
       ".dni-code-hint {\r\n",
       "    font-style: italic;\r\n",
       "    overflow: hidden;\r\n",
       "    white-space: nowrap;\r\n",
       "}\r\n",
       ".dni-treeview {\r\n",
       "    white-space: nowrap;\r\n",
       "}\r\n",
       ".dni-treeview td {\r\n",
       "    vertical-align: top;\r\n",
       "    text-align: start;\r\n",
       "}\r\n",
       "details.dni-treeview {\r\n",
       "    padding-left: 1em;\r\n",
       "}\r\n",
       "table td {\r\n",
       "    text-align: start;\r\n",
       "}\r\n",
       "table tr { \r\n",
       "    vertical-align: top; \r\n",
       "    margin: 0em 0px;\r\n",
       "}\r\n",
       "table tr td pre \r\n",
       "{ \r\n",
       "    vertical-align: top !important; \r\n",
       "    margin: 0em 0px !important;\r\n",
       "} \r\n",
       "table th {\r\n",
       "    text-align: start;\r\n",
       "}\r\n",
       "</style>"
      ]
     },
     "metadata": {},
     "output_type": "display_data"
    }
   ],
   "source": [
    "var enthalpy_inflow = (gamma)/(gamma-1) + 0.5*velocityXLeft*velocityXLeft;\n",
    "enthalpy_exact.Clear();\n",
    "enthalpy_exact.ProjectField(1.0,t => enthalpy_inflow);\n",
    "enthalpy_exact.Identification= \"h_exact\";\n",
    "var EEN = enthalpy_exact.L2Norm();\n",
    "var EE = enthalpy_end.L2Error(enthalpy_exact)/EEN;\n",
    "EE"
   ]
  },
  {
   "cell_type": "code",
   "execution_count": 18,
   "metadata": {
    "dotnet_interactive": {
     "language": "csharp"
    },
    "polyglot_notebook": {
     "kernelName": "csharp"
    }
   },
   "outputs": [
    {
     "data": {
      "text/plain": [
       "#0:  { Time-step: 0; Physical time: 0s; Fields: rho, m0, m1, rhoE, levelSetGradient0, levelSetGradient1, artificialViscosity, u0, u1, p, h, S, Ma, mpiRank, sensor, cfl, levelSet, MPIrank; Name:  }\r\n",
       "#1:  { Time-step: 50000; Physical time: 0.17726192749367173s; Fields: rho, m0, m1, rhoE, levelSetGradient0, levelSetGradient1, artificialViscosity, u0, u1, p, h, S, Ma, mpiRank, sensor, cfl, levelSet, MPIrank; Name:  }\r\n",
       "#2:  { Time-step: 100000; Physical time: 0.41412515432495767s; Fields: rho, m0, m1, rhoE, levelSetGradient0, levelSetGradient1, artificialViscosity, u0, u1, p, h, S, Ma, mpiRank, sensor, cfl, levelSet, MPIrank; Name:  }\r\n",
       "#3:  { Time-step: 150000; Physical time: 0.6511714807931442s; Fields: rho, m0, m1, rhoE, levelSetGradient0, levelSetGradient1, artificialViscosity, u0, u1, p, h, S, Ma, mpiRank, sensor, cfl, levelSet, MPIrank; Name:  }\r\n",
       "#4:  { Time-step: 200000; Physical time: 0.8886786746058578s; Fields: rho, m0, m1, rhoE, levelSetGradient0, levelSetGradient1, artificialViscosity, u0, u1, p, h, S, Ma, mpiRank, sensor, cfl, levelSet, MPIrank; Name:  }\r\n",
       "#5:  { Time-step: 250000; Physical time: 1.1262251651504869s; Fields: rho, m0, m1, rhoE, levelSetGradient0, levelSetGradient1, artificialViscosity, u0, u1, p, h, S, Ma, mpiRank, sensor, cfl, levelSet, MPIrank; Name:  }\r\n",
       "#6:  { Time-step: 300000; Physical time: 1.3637716541184493s; Fields: rho, m0, m1, rhoE, levelSetGradient0, levelSetGradient1, artificialViscosity, u0, u1, p, h, S, Ma, mpiRank, sensor, cfl, levelSet, MPIrank; Name:  }\r\n",
       "#7:  { Time-step: 350000; Physical time: 1.6013181430532637s; Fields: rho, m0, m1, rhoE, levelSetGradient0, levelSetGradient1, artificialViscosity, u0, u1, p, h, S, Ma, mpiRank, sensor, cfl, levelSet, MPIrank; Name:  }\r\n",
       "#8:  { Time-step: 400000; Physical time: 1.8388646319880781s; Fields: rho, m0, m1, rhoE, levelSetGradient0, levelSetGradient1, artificialViscosity, u0, u1, p, h, S, Ma, mpiRank, sensor, cfl, levelSet, MPIrank; Name:  }\r\n",
       "#9:  { Time-step: 450000; Physical time: 2.0764111209264637s; Fields: rho, m0, m1, rhoE, levelSetGradient0, levelSetGradient1, artificialViscosity, u0, u1, p, h, S, Ma, mpiRank, sensor, cfl, levelSet, MPIrank; Name:  }\r\n"
      ]
     },
     "metadata": {},
     "output_type": "display_data"
    }
   ],
   "source": [
    "// pick a session to compare\n",
    "var si = database.Sessions.Pick(0); // pick a session to compare\n",
    "si.Timesteps"
   ]
  },
  {
   "cell_type": "markdown",
   "metadata": {},
   "source": [
    "plot the enthalpy error for all saved timesteps of the CNS simulations"
   ]
  },
  {
   "cell_type": "code",
   "execution_count": 23,
   "metadata": {
    "dotnet_interactive": {
     "language": "csharp"
    },
    "polyglot_notebook": {
     "kernelName": "csharp"
    }
   },
   "outputs": [
    {
     "name": "stdout",
     "output_type": "stream",
     "text": [
      "Using gnuplot: C:\\Program Files (x86)\\FDY\\BoSSS\\bin\\native\\win\\gnuplot-gp510-20160418-win32-mingw\\gnuplot\\bin\\gnuplot.exe\n",
      "Note: In a Jupyter Worksheet, you must NOT have a trailing semicolon in order to see the plot on screen; otherwise, the output migth be surpressed.!\n"
     ]
    },
    {
     "data": {
      "text/html": [
       "<?xml version=\"1.0\" encoding=\"utf-8\"  standalone=\"no\"?>\n",
       "<!DOCTYPE svg PUBLIC \"-//W3C//DTD SVG 1.1//EN\"\n",
       " \"http://www.w3.org/Graphics/SVG/1.1/DTD/svg11.dtd\">\n",
       "<svg \n",
       " width=\"800\" height=\"600\"\n",
       " viewBox=\"0 0 800 600\"\n",
       " xmlns=\"http://www.w3.org/2000/svg\"\n",
       " xmlns:xlink=\"http://www.w3.org/1999/xlink\"\n",
       ">\n",
       "\n",
       "<title>Gnuplot</title>\n",
       "<desc>Produced by GNUPLOT 5.1 patchlevel 0 </desc>\n",
       "\n",
       "<g id=\"gnuplot_canvas\">\n",
       "\n",
       "<rect x=\"0\" y=\"0\" width=\"800\" height=\"600\" fill=\"#ffffff\"/>\n",
       "<defs>\n",
       "\n",
       "\t<circle id='gpDot' r='0.5' stroke-width='0.5'/>\n",
       "\t<path id='gpPt0' stroke-width='0.222' stroke='currentColor' d='M-1,0 h2 M0,-1 v2'/>\n",
       "\t<path id='gpPt1' stroke-width='0.222' stroke='currentColor' d='M-1,-1 L1,1 M1,-1 L-1,1'/>\n",
       "\t<path id='gpPt2' stroke-width='0.222' stroke='currentColor' d='M-1,0 L1,0 M0,-1 L0,1 M-1,-1 L1,1 M-1,1 L1,-1'/>\n",
       "\t<rect id='gpPt3' stroke-width='0.222' stroke='currentColor' x='-1' y='-1' width='2' height='2'/>\n",
       "\t<rect id='gpPt4' stroke-width='0.222' stroke='currentColor' fill='currentColor' x='-1' y='-1' width='2' height='2'/>\n",
       "\t<circle id='gpPt5' stroke-width='0.222' stroke='currentColor' cx='0' cy='0' r='1'/>\n",
       "\t<use xlink:href='#gpPt5' id='gpPt6' fill='currentColor' stroke='none'/>\n",
       "\t<path id='gpPt7' stroke-width='0.222' stroke='currentColor' d='M0,-1.33 L-1.33,0.67 L1.33,0.67 z'/>\n",
       "\t<use xlink:href='#gpPt7' id='gpPt8' fill='currentColor' stroke='none'/>\n",
       "\t<use xlink:href='#gpPt7' id='gpPt9' stroke='currentColor' transform='rotate(180)'/>\n",
       "\t<use xlink:href='#gpPt9' id='gpPt10' fill='currentColor' stroke='none'/>\n",
       "\t<use xlink:href='#gpPt3' id='gpPt11' stroke='currentColor' transform='rotate(45)'/>\n",
       "\t<use xlink:href='#gpPt11' id='gpPt12' fill='currentColor' stroke='none'/>\n",
       "\t<path id='gpPt13' stroke-width='0.222' stroke='currentColor' d='M0,1.330 L1.265,0.411 L0.782,-1.067 L-0.782,-1.076 L-1.265,0.411 z'/>\n",
       "\t<use xlink:href='#gpPt13' id='gpPt14' fill='currentColor' stroke='none'/>\n",
       "\t<filter id='textbox' filterUnits='objectBoundingBox' x='0' y='0' height='1' width='1'>\n",
       "\t  <feFlood flood-color='#FFFFFF' flood-opacity='1' result='bgnd'/>\n",
       "\t  <feComposite in='SourceGraphic' in2='bgnd' operator='atop'/>\n",
       "\t</filter>\n",
       "\t<filter id='greybox' filterUnits='objectBoundingBox' x='0' y='0' height='1' width='1'>\n",
       "\t  <feFlood flood-color='lightgrey' flood-opacity='1' result='grey'/>\n",
       "\t  <feComposite in='SourceGraphic' in2='grey' operator='atop'/>\n",
       "\t</filter>\n",
       "</defs>\n",
       "<g fill=\"none\" color=\"#FFFFFF\" stroke=\"currentColor\" stroke-width=\"1.00\" stroke-linecap=\"butt\" stroke-linejoin=\"miter\">\n",
       "</g>\n",
       "<g fill=\"none\" color=\"black\" stroke=\"currentColor\" stroke-width=\"1.00\" stroke-linecap=\"butt\" stroke-linejoin=\"miter\">\n",
       "\t<path stroke='black'  d='M78.8,564.0 L87.8,564.0 M775.0,564.0 L766.0,564.0  '/>\t<g transform=\"translate(70.5,568.5)\" stroke=\"none\" fill=\"black\" font-family=\"Arial\" font-size=\"12.00\"  text-anchor=\"end\">\n",
       "\t\t<text><tspan font-family=\"Arial\" > 0.2207</tspan></text>\n",
       "\t</g>\n",
       "</g>\n",
       "<g fill=\"none\" color=\"black\" stroke=\"currentColor\" stroke-width=\"1.00\" stroke-linecap=\"butt\" stroke-linejoin=\"miter\">\n",
       "\t<path stroke='black'  d='M78.8,503.2 L87.8,503.2 M775.0,503.2 L766.0,503.2  '/>\t<g transform=\"translate(70.5,507.7)\" stroke=\"none\" fill=\"black\" font-family=\"Arial\" font-size=\"12.00\"  text-anchor=\"end\">\n",
       "\t\t<text><tspan font-family=\"Arial\" > 0.2208</tspan></text>\n",
       "\t</g>\n",
       "</g>\n",
       "<g fill=\"none\" color=\"black\" stroke=\"currentColor\" stroke-width=\"1.00\" stroke-linecap=\"butt\" stroke-linejoin=\"miter\">\n",
       "\t<path stroke='black'  d='M78.8,442.4 L87.8,442.4 M775.0,442.4 L766.0,442.4  '/>\t<g transform=\"translate(70.5,446.9)\" stroke=\"none\" fill=\"black\" font-family=\"Arial\" font-size=\"12.00\"  text-anchor=\"end\">\n",
       "\t\t<text><tspan font-family=\"Arial\" > 0.2209</tspan></text>\n",
       "\t</g>\n",
       "</g>\n",
       "<g fill=\"none\" color=\"black\" stroke=\"currentColor\" stroke-width=\"1.00\" stroke-linecap=\"butt\" stroke-linejoin=\"miter\">\n",
       "\t<path stroke='black'  d='M78.8,381.6 L87.8,381.6 M775.0,381.6 L766.0,381.6  '/>\t<g transform=\"translate(70.5,386.1)\" stroke=\"none\" fill=\"black\" font-family=\"Arial\" font-size=\"12.00\"  text-anchor=\"end\">\n",
       "\t\t<text><tspan font-family=\"Arial\" > 0.221</tspan></text>\n",
       "\t</g>\n",
       "</g>\n",
       "<g fill=\"none\" color=\"black\" stroke=\"currentColor\" stroke-width=\"1.00\" stroke-linecap=\"butt\" stroke-linejoin=\"miter\">\n",
       "\t<path stroke='black'  d='M78.8,320.8 L87.8,320.8 M775.0,320.8 L766.0,320.8  '/>\t<g transform=\"translate(70.5,325.3)\" stroke=\"none\" fill=\"black\" font-family=\"Arial\" font-size=\"12.00\"  text-anchor=\"end\">\n",
       "\t\t<text><tspan font-family=\"Arial\" > 0.2211</tspan></text>\n",
       "\t</g>\n",
       "</g>\n",
       "<g fill=\"none\" color=\"black\" stroke=\"currentColor\" stroke-width=\"1.00\" stroke-linecap=\"butt\" stroke-linejoin=\"miter\">\n",
       "\t<path stroke='black'  d='M78.8,259.9 L87.8,259.9 M775.0,259.9 L766.0,259.9  '/>\t<g transform=\"translate(70.5,264.4)\" stroke=\"none\" fill=\"black\" font-family=\"Arial\" font-size=\"12.00\"  text-anchor=\"end\">\n",
       "\t\t<text><tspan font-family=\"Arial\" > 0.2212</tspan></text>\n",
       "\t</g>\n",
       "</g>\n",
       "<g fill=\"none\" color=\"black\" stroke=\"currentColor\" stroke-width=\"1.00\" stroke-linecap=\"butt\" stroke-linejoin=\"miter\">\n",
       "\t<path stroke='black'  d='M78.8,199.1 L87.8,199.1 M775.0,199.1 L766.0,199.1  '/>\t<g transform=\"translate(70.5,203.6)\" stroke=\"none\" fill=\"black\" font-family=\"Arial\" font-size=\"12.00\"  text-anchor=\"end\">\n",
       "\t\t<text><tspan font-family=\"Arial\" > 0.2213</tspan></text>\n",
       "\t</g>\n",
       "</g>\n",
       "<g fill=\"none\" color=\"black\" stroke=\"currentColor\" stroke-width=\"1.00\" stroke-linecap=\"butt\" stroke-linejoin=\"miter\">\n",
       "\t<path stroke='black'  d='M78.8,138.3 L87.8,138.3 M775.0,138.3 L766.0,138.3  '/>\t<g transform=\"translate(70.5,142.8)\" stroke=\"none\" fill=\"black\" font-family=\"Arial\" font-size=\"12.00\"  text-anchor=\"end\">\n",
       "\t\t<text><tspan font-family=\"Arial\" > 0.2214</tspan></text>\n",
       "\t</g>\n",
       "</g>\n",
       "<g fill=\"none\" color=\"black\" stroke=\"currentColor\" stroke-width=\"1.00\" stroke-linecap=\"butt\" stroke-linejoin=\"miter\">\n",
       "\t<path stroke='black'  d='M78.8,77.5 L87.8,77.5 M775.0,77.5 L766.0,77.5  '/>\t<g transform=\"translate(70.5,82.0)\" stroke=\"none\" fill=\"black\" font-family=\"Arial\" font-size=\"12.00\"  text-anchor=\"end\">\n",
       "\t\t<text><tspan font-family=\"Arial\" > 0.2215</tspan></text>\n",
       "\t</g>\n",
       "</g>\n",
       "<g fill=\"none\" color=\"black\" stroke=\"currentColor\" stroke-width=\"1.00\" stroke-linecap=\"butt\" stroke-linejoin=\"miter\">\n",
       "\t<path stroke='black'  d='M78.8,16.7 L87.8,16.7 M775.0,16.7 L766.0,16.7  '/>\t<g transform=\"translate(70.5,21.2)\" stroke=\"none\" fill=\"black\" font-family=\"Arial\" font-size=\"12.00\"  text-anchor=\"end\">\n",
       "\t\t<text><tspan font-family=\"Arial\" > 0.2216</tspan></text>\n",
       "\t</g>\n",
       "</g>\n",
       "<g fill=\"none\" color=\"black\" stroke=\"currentColor\" stroke-width=\"1.00\" stroke-linecap=\"butt\" stroke-linejoin=\"miter\">\n",
       "\t<path stroke='black'  d='M78.8,564.0 L78.8,555.0 M78.8,16.7 L78.8,25.7  '/>\t<g transform=\"translate(78.8,586.5)\" stroke=\"none\" fill=\"black\" font-family=\"Arial\" font-size=\"12.00\"  text-anchor=\"middle\">\n",
       "\t\t<text><tspan font-family=\"Arial\" > 0</tspan></text>\n",
       "\t</g>\n",
       "</g>\n",
       "<g fill=\"none\" color=\"black\" stroke=\"currentColor\" stroke-width=\"1.00\" stroke-linecap=\"butt\" stroke-linejoin=\"miter\">\n",
       "\t<path stroke='black'  d='M218.0,564.0 L218.0,555.0 M218.0,16.7 L218.0,25.7  '/>\t<g transform=\"translate(218.0,586.5)\" stroke=\"none\" fill=\"black\" font-family=\"Arial\" font-size=\"12.00\"  text-anchor=\"middle\">\n",
       "\t\t<text><tspan font-family=\"Arial\" > 0.5</tspan></text>\n",
       "\t</g>\n",
       "</g>\n",
       "<g fill=\"none\" color=\"black\" stroke=\"currentColor\" stroke-width=\"1.00\" stroke-linecap=\"butt\" stroke-linejoin=\"miter\">\n",
       "\t<path stroke='black'  d='M357.3,564.0 L357.3,555.0 M357.3,16.7 L357.3,25.7  '/>\t<g transform=\"translate(357.3,586.5)\" stroke=\"none\" fill=\"black\" font-family=\"Arial\" font-size=\"12.00\"  text-anchor=\"middle\">\n",
       "\t\t<text><tspan font-family=\"Arial\" > 1</tspan></text>\n",
       "\t</g>\n",
       "</g>\n",
       "<g fill=\"none\" color=\"black\" stroke=\"currentColor\" stroke-width=\"1.00\" stroke-linecap=\"butt\" stroke-linejoin=\"miter\">\n",
       "\t<path stroke='black'  d='M496.5,564.0 L496.5,555.0 M496.5,16.7 L496.5,25.7  '/>\t<g transform=\"translate(496.5,586.5)\" stroke=\"none\" fill=\"black\" font-family=\"Arial\" font-size=\"12.00\"  text-anchor=\"middle\">\n",
       "\t\t<text><tspan font-family=\"Arial\" > 1.5</tspan></text>\n",
       "\t</g>\n",
       "</g>\n",
       "<g fill=\"none\" color=\"black\" stroke=\"currentColor\" stroke-width=\"1.00\" stroke-linecap=\"butt\" stroke-linejoin=\"miter\">\n",
       "\t<path stroke='black'  d='M635.8,564.0 L635.8,555.0 M635.8,16.7 L635.8,25.7  '/>\t<g transform=\"translate(635.8,586.5)\" stroke=\"none\" fill=\"black\" font-family=\"Arial\" font-size=\"12.00\"  text-anchor=\"middle\">\n",
       "\t\t<text><tspan font-family=\"Arial\" > 2</tspan></text>\n",
       "\t</g>\n",
       "</g>\n",
       "<g fill=\"none\" color=\"black\" stroke=\"currentColor\" stroke-width=\"1.00\" stroke-linecap=\"butt\" stroke-linejoin=\"miter\">\n",
       "\t<path stroke='black'  d='M775.0,564.0 L775.0,555.0 M775.0,16.7 L775.0,25.7  '/>\t<g transform=\"translate(775.0,586.5)\" stroke=\"none\" fill=\"black\" font-family=\"Arial\" font-size=\"12.00\"  text-anchor=\"middle\">\n",
       "\t\t<text><tspan font-family=\"Arial\" > 2.5</tspan></text>\n",
       "\t</g>\n",
       "</g>\n",
       "<g fill=\"none\" color=\"black\" stroke=\"currentColor\" stroke-width=\"1.00\" stroke-linecap=\"butt\" stroke-linejoin=\"miter\">\n",
       "</g>\n",
       "<g fill=\"none\" color=\"black\" stroke=\"currentColor\" stroke-width=\"1.00\" stroke-linecap=\"butt\" stroke-linejoin=\"miter\">\n",
       "\t<path stroke='black'  d='M78.8,16.7 L78.8,564.0 L775.0,564.0 L775.0,16.7 L78.8,16.7 Z  '/></g>\n",
       "<g fill=\"none\" color=\"black\" stroke=\"currentColor\" stroke-width=\"1.00\" stroke-linecap=\"butt\" stroke-linejoin=\"miter\">\n",
       "</g>\n",
       "\t<g id=\"gnuplot_plot_1\" ><title>enthalpyerrorCNS</title>\n",
       "<g fill=\"none\" color=\"black\" stroke=\"currentColor\" stroke-width=\"1.00\" stroke-linecap=\"butt\" stroke-linejoin=\"miter\">\n",
       "\t<g transform=\"translate(707.9,39.2)\" stroke=\"none\" fill=\"black\" font-family=\"Arial\" font-size=\"12.00\"  text-anchor=\"end\">\n",
       "\t\t<text><tspan font-family=\"Arial\" >enthalpyerrorCNS</tspan></text>\n",
       "\t</g>\n",
       "</g>\n",
       "<g fill=\"none\" color=\"black\" stroke=\"currentColor\" stroke-width=\"1.00\" stroke-linecap=\"butt\" stroke-linejoin=\"miter\">\n",
       "\t<path stroke='rgb(255,   0,   0)'  d='M716.2,34.7 L758.4,34.7 M78.8,506.8 L128.2,39.4 L194.1,342.9 L260.1,459.0 L326.3,488.3 L392.4,493.9\n",
       "\t\tL458.6,494.3 L524.7,494.3 L590.9,494.3 L657.0,494.3  '/></g>\n",
       "\t</g>\n",
       "<g fill=\"none\" color=\"#FFFFFF\" stroke=\"rgb(255,   0,   0)\" stroke-width=\"2.00\" stroke-linecap=\"butt\" stroke-linejoin=\"miter\">\n",
       "</g>\n",
       "<g fill=\"none\" color=\"black\" stroke=\"currentColor\" stroke-width=\"2.00\" stroke-linecap=\"butt\" stroke-linejoin=\"miter\">\n",
       "</g>\n",
       "<g fill=\"none\" color=\"black\" stroke=\"black\" stroke-width=\"1.00\" stroke-linecap=\"butt\" stroke-linejoin=\"miter\">\n",
       "</g>\n",
       "<g fill=\"none\" color=\"black\" stroke=\"currentColor\" stroke-width=\"1.00\" stroke-linecap=\"butt\" stroke-linejoin=\"miter\">\n",
       "\t<path stroke='black'  d='M78.8,16.7 L78.8,564.0 L775.0,564.0 L775.0,16.7 L78.8,16.7 Z  '/></g>\n",
       "<g fill=\"none\" color=\"black\" stroke=\"currentColor\" stroke-width=\"1.00\" stroke-linecap=\"butt\" stroke-linejoin=\"miter\">\n",
       "</g>\n",
       "</g>\n",
       "</svg>\n",
       "\n"
      ]
     },
     "metadata": {},
     "output_type": "display_data"
    }
   ],
   "source": [
    "var enthalpyerrors= new List<double>();\n",
    "var times= new List<double>();\n",
    "foreach(var ts in si.Timesteps){\n",
    "    var enthalpy= ts.GetField(\"h\");\n",
    "    enthalpy_exact = (DGField) enthalpy.Clone();\n",
    "    enthalpy_exact.Clear();\n",
    "    enthalpy_exact.ProjectField(1.0,t => enthalpy_inflow);\n",
    "    enthalpy_exact.Identification= \"h_exact\";\n",
    "    enthalpyerrors.Add(enthalpy.L2Error(enthalpy_exact)/EEN);\n",
    "    times.Add(ts.PhysicalTime);\n",
    "}\n",
    "Plot(times,enthalpyerrors,\"enthalpyerrorCNS\")"
   ]
  },
  {
   "cell_type": "code",
   "execution_count": null,
   "metadata": {
    "dotnet_interactive": {
     "language": "csharp"
    },
    "polyglot_notebook": {
     "kernelName": "csharp"
    }
   },
   "outputs": [],
   "source": []
  }
 ],
 "metadata": {
  "kernelspec": {
   "display_name": ".NET (C#)",
   "language": "C#",
   "name": ".net-csharp"
  },
  "language_info": {
   "name": "polyglot-notebook"
  },
  "polyglot_notebook": {
   "kernelInfo": {
    "defaultKernelName": "csharp",
    "items": [
     {
      "aliases": [],
      "name": ".NET"
     },
     {
      "aliases": [
       "C#",
       "c#"
      ],
      "languageName": "C#",
      "name": "csharp"
     },
     {
      "aliases": [
       "F#",
       "f#"
      ],
      "languageName": "F#",
      "name": "fsharp"
     },
     {
      "aliases": [],
      "languageName": "HTML",
      "name": "html"
     },
     {
      "aliases": [
       "js"
      ],
      "languageName": "JavaScript",
      "name": "javascript"
     },
     {
      "aliases": [],
      "languageName": "KQL",
      "name": "kql"
     },
     {
      "aliases": [],
      "languageName": "Mermaid",
      "name": "mermaid"
     },
     {
      "aliases": [
       "powershell"
      ],
      "languageName": "PowerShell",
      "name": "pwsh"
     },
     {
      "aliases": [],
      "languageName": "SQL",
      "name": "sql"
     },
     {
      "aliases": [],
      "name": "value"
     },
     {
      "aliases": [
       "frontend"
      ],
      "name": "vscode"
     },
     {
      "aliases": [],
      "name": "webview"
     }
    ]
   }
  }
 },
 "nbformat": 4,
 "nbformat_minor": 2
}

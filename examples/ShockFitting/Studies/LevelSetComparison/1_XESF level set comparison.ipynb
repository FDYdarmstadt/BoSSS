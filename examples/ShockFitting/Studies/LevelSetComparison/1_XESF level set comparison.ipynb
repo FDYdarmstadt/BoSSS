{
 "cells": [
  {
   "cell_type": "code",
   "execution_count": 1,
   "metadata": {
    "dotnet_interactive": {
     "language": "csharp"
    }
   },
   "outputs": [],
   "source": [
    "#r \".\\binaries\\BoSSSpad.dll\"\n",
    "#r \".\\binaries\\XESF.dll\"\n",
    "#r \".\\binaries\\ApplicationWithIDT.dll\"\n",
    "using System;\n",
    "using System.Collections.Generic;\n",
    "using System.Linq;\n",
    "using ilPSP;\n",
    "using ilPSP.Utils;\n",
    "using BoSSS.Platform;\n",
    "using BoSSS.Platform.LinAlg;\n",
    "using BoSSS.Foundation;\n",
    "using BoSSS.Foundation.XDG;\n",
    "using BoSSS.Foundation.Grid;\n",
    "using BoSSS.Foundation.Grid.Classic;\n",
    "using BoSSS.Foundation.Grid.RefElements;\n",
    "using BoSSS.Foundation.IO;\n",
    "using BoSSS.Solution;\n",
    "using BoSSS.Solution.Control;\n",
    "using BoSSS.Solution.GridImport;\n",
    "using BoSSS.Solution.Statistic;\n",
    "using BoSSS.Solution.Utils;\n",
    "using BoSSS.Solution.AdvancedSolvers;\n",
    "using BoSSS.Solution.Gnuplot;\n",
    "using BoSSS.Application.BoSSSpad;\n",
    "using BoSSS.Application.XNSE_Solver;\n",
    "using ApplicationWithIDT;\n",
    "using XESF;\n",
    "using static BoSSS.Application.BoSSSpad.BoSSSshell;\n",
    "Init();\n"
   ]
  },
  {
   "cell_type": "code",
   "execution_count": 2,
   "metadata": {
    "dotnet_interactive": {
     "language": "csharp"
    },
    "polyglot_notebook": {
     "kernelName": "csharp"
    }
   },
   "outputs": [],
   "source": [
    "using System.IO;\n",
    "static void AppendRowToCSV(string filePath, double[] rowData)\n",
    "    {\n",
    "        // Create a StreamWriter in append mode to append rows to the CSV file\n",
    "        using (StreamWriter writer = new StreamWriter(filePath, true))\n",
    "        {\n",
    "            int cols = rowData.Length;\n",
    "\n",
    "            // Write double values of the new row to the file\n",
    "            for (int i = 0; i < cols; i++)\n",
    "            {\n",
    "                writer.Write(rowData[i]);\n",
    "\n",
    "                // Add a comma after each value except for the last one in a row\n",
    "                if (i < cols - 1)\n",
    "                {\n",
    "                    writer.Write(\";\");\n",
    "                }\n",
    "            }\n",
    "\n",
    "            // Move to the next line after writing the row\n",
    "            writer.WriteLine();\n",
    "        }\n",
    "    }\n",
    "    static void WriteCSV(string filePath, string[] data)\n",
    "    {\n",
    "        // Create a StreamWriter to write to the CSV file\n",
    "        using (StreamWriter writer = new StreamWriter(filePath))\n",
    "        {\n",
    "            int cols = data.Length;\n",
    "\n",
    "            // Loop through the data array and write to the file\n",
    "                for (int j = 0; j < cols; j++)\n",
    "                {\n",
    "                    // Write each cell value to the file\n",
    "                    writer.Write(data[ j]);\n",
    "\n",
    "                    // Add a comma after each cell value except for the last one in a row\n",
    "                    if (j < cols - 1)\n",
    "                    {\n",
    "                        writer.Write(\";\");\n",
    "                    }\n",
    "                }\n",
    "\n",
    "                // Move to the next line after each row\n",
    "                writer.WriteLine();\n",
    "            \n",
    "        }\n",
    "    }\n",
    "    static void DeleteCSVFiles()\n",
    "    {\n",
    "        try\n",
    "        {\n",
    "            // Get all CSV files in the specified directory\n",
    "            string[] csvFiles = Directory.GetFiles(\"*.csv\");\n",
    "\n",
    "            // Delete each CSV file\n",
    "            foreach (string file in csvFiles)\n",
    "            {\n",
    "                File.Delete(file);\n",
    "                Console.WriteLine($\"Deleted: {file}\");\n",
    "            }\n",
    "        }\n",
    "        catch (Exception ex)\n",
    "        {\n",
    "            Console.WriteLine($\"Error deleting CSV files: {ex.Message}\");\n",
    "        }\n",
    "    }"
   ]
  },
  {
   "cell_type": "markdown",
   "metadata": {},
   "source": [
    "## Measure wall-clock time for computation of sensitivities and residuals "
   ]
  },
  {
   "cell_type": "code",
   "execution_count": 3,
   "metadata": {
    "dotnet_interactive": {
     "language": "csharp"
    },
    "polyglot_notebook": {
     "kernelName": "csharp"
    }
   },
   "outputs": [
    {
     "name": "stdout",
     "output_type": "stream",
     "text": [
      "Affinity reported from Win32 API: 0, 1, 2, 3, 4, 5, 6, 7;\n",
      "Grid Edge Tags changed.\n",
      "Session ID: 00000000-0000-0000-0000-000000000000, DB path: 'EMPTY'\n",
      "Session directory 'EMPTY\\sessions\\00000000-0000-0000-0000-000000000000'.\n",
      "Grid repartitioning method: METIS\n",
      "Grid repartitioning options: \n",
      "Number of cell Weights: 0\n"
     ]
    },
    {
     "ename": "Error",
     "evalue": "System.ArgumentException: length of each dimension in species table must be 2, lower bound must be 0\r\n   at BoSSS.Foundation.XDG.LevelSetTracker.CollectSpeciesNamesRecursive(Int32 recdeph, Int32[] indices) in C:\\experimental\\public\\src\\L2-foundation\\BoSSS.Foundation.XDG\\LevelSetTracker.cs:line 369\r\n   at BoSSS.Foundation.XDG.LevelSetTracker.ConstructorCommon(GridData griData, Int32 __NearRegionWidth, Array SpeciesTable, MomentFittingVariants cutCellQuadratureType, ILevelSet[] levSets) in C:\\experimental\\public\\src\\L2-foundation\\BoSSS.Foundation.XDG\\LevelSetTracker.cs:line 290\r\n   at BoSSS.Foundation.XDG.LevelSetTracker.ConstructorCommon(GridData BackgroundGrid, MomentFittingVariants cutCellquadType, Int32 __NearRegionWidth, Array SpeciesTable, ILevelSet[] levSets) in C:\\experimental\\public\\src\\L2-foundation\\BoSSS.Foundation.XDG\\LevelSetTracker.cs:line 152\r\n   at BoSSS.Foundation.XDG.LevelSetTracker..ctor(GridData BackgroundGrid, MomentFittingVariants cutCellquadType, Int32 __NearRegionWidth, String[] _SpeciesTable, ILevelSet levSet1) in C:\\experimental\\public\\src\\L2-foundation\\BoSSS.Foundation.XDG\\LevelSetTracker.cs:line 77\r\n   at ApplicationWithIDT.OptiLevelSets.SinglePhaseFieldOptiLevelSet.AssembleTracker() in C:\\experimental\\public\\src\\L4-application\\ApplicationWithIDT\\OptiLevelSets\\SinglePhaseFieldOptiLevelSet.cs:line 56\r\n   at ApplicationWithIDT.ApplicationWithIDT`1.InitializeLevelSets() in C:\\experimental\\public\\src\\L4-application\\ApplicationWithIDT\\ApplicationWithIDT.cs:line 713\r\n   at ApplicationWithIDT.ApplicationWithIDT`1.CreateFields() in C:\\experimental\\public\\src\\L4-application\\ApplicationWithIDT\\ApplicationWithIDT.cs:line 340\r\n   at BoSSS.Solution.Application`1.SetUpEnvironment() in C:\\experimental\\public\\src\\L3-solution\\BoSSS.Solution\\Application.cs:line 1427\r\n   at ApplicationWithIDT.ApplicationWithIDT`1.InitializeEverything() in C:\\experimental\\public\\src\\L4-application\\ApplicationWithIDT\\ApplicationWithIDT.cs:line 668\r\n   at Submission#4.<<Initialize>>d__0.MoveNext()\r\n--- End of stack trace from previous location ---\r\n   at Microsoft.CodeAnalysis.Scripting.ScriptExecutionState.RunSubmissionsAsync[TResult](ImmutableArray`1 precedingExecutors, Func`2 currentExecutor, StrongBox`1 exceptionHolderOpt, Func`2 catchExceptionOpt, CancellationToken cancellationToken)",
     "output_type": "error",
     "traceback": [
      "System.ArgumentException: length of each dimension in species table must be 2, lower bound must be 0\r\n",
      "   at BoSSS.Foundation.XDG.LevelSetTracker.CollectSpeciesNamesRecursive(Int32 recdeph, Int32[] indices) in C:\\experimental\\public\\src\\L2-foundation\\BoSSS.Foundation.XDG\\LevelSetTracker.cs:line 369\r\n",
      "   at BoSSS.Foundation.XDG.LevelSetTracker.ConstructorCommon(GridData griData, Int32 __NearRegionWidth, Array SpeciesTable, MomentFittingVariants cutCellQuadratureType, ILevelSet[] levSets) in C:\\experimental\\public\\src\\L2-foundation\\BoSSS.Foundation.XDG\\LevelSetTracker.cs:line 290\r\n",
      "   at BoSSS.Foundation.XDG.LevelSetTracker.ConstructorCommon(GridData BackgroundGrid, MomentFittingVariants cutCellquadType, Int32 __NearRegionWidth, Array SpeciesTable, ILevelSet[] levSets) in C:\\experimental\\public\\src\\L2-foundation\\BoSSS.Foundation.XDG\\LevelSetTracker.cs:line 152\r\n",
      "   at BoSSS.Foundation.XDG.LevelSetTracker..ctor(GridData BackgroundGrid, MomentFittingVariants cutCellquadType, Int32 __NearRegionWidth, String[] _SpeciesTable, ILevelSet levSet1) in C:\\experimental\\public\\src\\L2-foundation\\BoSSS.Foundation.XDG\\LevelSetTracker.cs:line 77\r\n",
      "   at ApplicationWithIDT.OptiLevelSets.SinglePhaseFieldOptiLevelSet.AssembleTracker() in C:\\experimental\\public\\src\\L4-application\\ApplicationWithIDT\\OptiLevelSets\\SinglePhaseFieldOptiLevelSet.cs:line 56\r\n",
      "   at ApplicationWithIDT.ApplicationWithIDT`1.InitializeLevelSets() in C:\\experimental\\public\\src\\L4-application\\ApplicationWithIDT\\ApplicationWithIDT.cs:line 713\r\n",
      "   at ApplicationWithIDT.ApplicationWithIDT`1.CreateFields() in C:\\experimental\\public\\src\\L4-application\\ApplicationWithIDT\\ApplicationWithIDT.cs:line 340\r\n",
      "   at BoSSS.Solution.Application`1.SetUpEnvironment() in C:\\experimental\\public\\src\\L3-solution\\BoSSS.Solution\\Application.cs:line 1427\r\n",
      "   at ApplicationWithIDT.ApplicationWithIDT`1.InitializeEverything() in C:\\experimental\\public\\src\\L4-application\\ApplicationWithIDT\\ApplicationWithIDT.cs:line 668\r\n",
      "   at Submission#4.<<Initialize>>d__0.MoveNext()\r\n",
      "--- End of stack trace from previous location ---\r\n",
      "   at Microsoft.CodeAnalysis.Scripting.ScriptExecutionState.RunSubmissionsAsync[TResult](ImmutableArray`1 precedingExecutors, Func`2 currentExecutor, StrongBox`1 exceptionHolderOpt, Func`2 catchExceptionOpt, CancellationToken cancellationToken)"
     ]
    }
   ],
   "source": [
    "using System.Diagnostics;\n",
    "BoSSS.Solution.Application.InitMPI();\n",
    "//DeleteCSVFiles();\n",
    "\n",
    "int nRefs=3;\n",
    "var optLsTypes=new OptiLevelSetType[] {OptiLevelSetType.SinglePhaseField,OptiLevelSetType.SplineLevelSet,OptiLevelSetType.SpecFemField};\n",
    "var CellsVsRuntime_dRdPhi = MultidimensionalArray.Create(nRefs,optLsTypes.Length +1);\n",
    "var CellsVsRuntime_Residuals = MultidimensionalArray.Create(nRefs,optLsTypes.Length +1);\n",
    "var CellsVsRuntime_dRdU = MultidimensionalArray.Create(nRefs,optLsTypes.Length +1);\n",
    "string[] stringArray = new string[] { \"nCells\" }.Concat(optLsTypes.Select(x => x.ToString())).ToArray();\n",
    "\n",
    "//Create files for results\n",
    "string filePathdRdPhi = \"TimeDRdPhi.csv\";\n",
    "string filePathdRdU = \"TimedRdU.csv\";\n",
    "string filePathResiduals = \"TimeResiduals.csv\";\n",
    "string filePathDOFs = \"DOFs.csv\";\n",
    "WriteCSV(filePathdRdPhi,stringArray);\n",
    "WriteCSV(filePathdRdU,stringArray);\n",
    "WriteCSV(filePathResiduals,stringArray);\n",
    "WriteCSV(filePathDOFs,stringArray);\n",
    "\n",
    "for(int n =1; n< nRefs;n++){\n",
    "    //counter for level set type\n",
    "    int iLS=1;\n",
    "    //save cell resolution\n",
    "    int reso= (int) Math.Pow(2,n);\n",
    "    CellsVsRuntime_dRdPhi[n,0]=reso*reso;\n",
    "    double[] dRdPhiResults= new double[optLsTypes.Length +1];\n",
    "    dRdPhiResults[0]=reso*reso;\n",
    "    double[] dRdUResults=dRdPhiResults.CloneAs();\n",
    "    double[] resiudalResults=dRdPhiResults.CloneAs();\n",
    "    double[] DOFs=dRdPhiResults.CloneAs();\n",
    "    foreach(OptiLevelSetType lstype in optLsTypes){\n",
    "        var pXESF = new XESFMain();\n",
    "        var C = XESFHardCodedControl.XDGWedgeFlow_TwoLs_Base(\n",
    "            dbPath:null,\n",
    "            optiLSDegree: 3,\n",
    "            lsDegree: 1,\n",
    "            shocksetup: ApplicationWithIDT.GetLevelSet.FromFunction,\n",
    "            optiLevelSetType: lstype,\n",
    "            initialValue: ApplicationWithIDT.GetInitialValue.FromFunctionPerSpecies,\n",
    "            MaxIterations: 1,\n",
    "            dgDegree: 3,\n",
    "            numOfCellsX: reso,\n",
    "            numOfCellsY: reso,\n",
    "            initialAngle_shockLS: 32,\n",
    "            PlotInterval: -1,\n",
    "            interfaceFluxLS2: XESF.Fluxes.ConvectiveInterfaceFluxes.GodunovInterface,\n",
    "            bulkFlux: XESF.Fluxes.ConvectiveBulkFluxes.OptimizedHLLC,\n",
    "            agg: 0.4\n",
    "        );\n",
    "\n",
    "\n",
    "        pXESF.Init(C);    \n",
    "        //pXESF.RunSolverMode();\n",
    "        pXESF.InitializeEverything();\n",
    "        \n",
    "\n",
    "        //Measure time for creation of Jacobians dRdPhi\n",
    "        Stopwatch stopwatch = new Stopwatch();stopwatch.Start();\n",
    "        pXESF.FD_LevelSet();\n",
    "        stopwatch.Stop();\n",
    "        CellsVsRuntime_dRdPhi[n,iLS] =stopwatch.ElapsedMilliseconds;\n",
    "        dRdPhiResults[iLS]=stopwatch.ElapsedMilliseconds;\n",
    "\n",
    "        //Measure time for creation of Jacobians dRdU\n",
    "        stopwatch = new Stopwatch();stopwatch.Start();\n",
    "        pXESF.Oproblem.GetJacobians(pXESF.ConservativeFields, pXESF.XSpatialOperator.LinearizationHint);\n",
    "        stopwatch.Stop(); \n",
    "        CellsVsRuntime_dRdU[n,iLS] =stopwatch.ElapsedMilliseconds;\n",
    "        dRdUResults[iLS]=stopwatch.ElapsedMilliseconds;\n",
    "\n",
    "        //Measure time for evaluation of the Residuals\n",
    "        stopwatch = new Stopwatch();stopwatch.Start();\n",
    "        pXESF.ComputeResiduals();\n",
    "        stopwatch.Stop(); Console.WriteLine(\"Elapsed Time: \" + stopwatch.ElapsedMilliseconds + \"ms\");\n",
    "        CellsVsRuntime_Residuals[n,iLS] =stopwatch.ElapsedMilliseconds;\n",
    "        resiudalResults[iLS]=stopwatch.ElapsedMilliseconds;\n",
    "\n",
    "        DOFs[iLS]=pXESF.LevelSetOpti.GetLength();\n",
    "\n",
    "        iLS++;\n",
    "    }\n",
    "    // Append the new row to the existing CSV file\n",
    "    AppendRowToCSV(filePathdRdPhi, dRdPhiResults);\n",
    "    AppendRowToCSV(filePathdRdU, dRdUResults);\n",
    "    AppendRowToCSV(filePathResiduals, resiudalResults);\n",
    "    AppendRowToCSV(filePathDOFs, DOFs);\n",
    "}"
   ]
  },
  {
   "cell_type": "code",
   "execution_count": 4,
   "metadata": {
    "dotnet_interactive": {
     "language": "csharp"
    },
    "polyglot_notebook": {
     "kernelName": "csharp"
    }
   },
   "outputs": [],
   "source": [
    "public PlotFormat GetFormat(int count){\n",
    "    \n",
    "    var allPT = new BoSSS.Solution.Gnuplot.PointTypes[] { PointTypes.Diamond, PointTypes.LowerTriangle, PointTypes.Circle, PointTypes.OpenDiamond, PointTypes.OpenLowerTriangle, PointTypes.OpenCircle,PointTypes.Diamond, PointTypes.LowerTriangle, PointTypes.Circle, PointTypes.OpenDiamond, PointTypes.OpenLowerTriangle, PointTypes.OpenCircle, PointTypes.Circle, PointTypes.OpenDiamond, PointTypes.OpenLowerTriangle, PointTypes.OpenCircle, PointTypes.Circle, PointTypes.OpenDiamond, PointTypes.OpenLowerTriangle, PointTypes.OpenCircle, PointTypes.Circle, PointTypes.OpenDiamond, PointTypes.OpenLowerTriangle, PointTypes.OpenCircle};\n",
    "    var allC = new BoSSS.Solution.Gnuplot.LineColors[] { LineColors.Blue, LineColors.Black, LineColors.Red,LineColors.Blue, LineColors.Black, LineColors.Red, LineColors.Red,LineColors.Blue, LineColors.Black, LineColors.Red, LineColors.Red,LineColors.Blue, LineColors.Black, LineColors.Red, LineColors.Red,LineColors.Blue, LineColors.Black, LineColors.Red, LineColors.Red, LineColors.Red,LineColors.Blue, LineColors.Black, LineColors.Red};\n",
    "    var Fmt = new PlotFormat();\n",
    "    Fmt.PointSize = 0.8;\n",
    "    Fmt.LineWidth = 1;    \n",
    "    Fmt.Style     = Styles.LinesPoints;\n",
    "\n",
    "    Fmt.LineColor = allC[count];\n",
    "    Fmt.PointType =  allPT[count];\n",
    "    return Fmt;\n",
    "}"
   ]
  },
  {
   "cell_type": "code",
   "execution_count": 5,
   "metadata": {
    "dotnet_interactive": {
     "language": "csharp"
    },
    "polyglot_notebook": {
     "kernelName": "csharp"
    }
   },
   "outputs": [
    {
     "ename": "Error",
     "evalue": "(9,30): error CS1002: ; expected\r\n(9,30): error CS1010: Newline in constant\r\n(9,32): error CS1002: ; expected",
     "output_type": "error",
     "traceback": [
      "(9,30): error CS1002: ; expected\r\n",
      "(9,30): error CS1010: Newline in constant\r\n",
      "(9,32): error CS1002: ; expected"
     ]
    }
   ],
   "source": [
    "var plot = new Plot2Ddata();\n",
    "var cells = CellsVsRuntime_dRdPhi.Co;\n",
    "int count=0;\n",
    "foreach(OptiLevelSetType lstype in optLsTypes){\n",
    "    runtimes.\n",
    "    plot.AddDataGroup(lstype.ToString,cells,runtimes, GetFormat(count));\n",
    "    count++;\n",
    "}\n",
    "plot.Xlabel=\"number of Cells\"\";\n",
    "plot.LogY = true;\n",
    "plot.LogX = true;\n",
    "plot.ShowXtics = true;\n",
    "plot.ToGnuplot().PlotSVG(xRes:1200,yRes:600)"
   ]
  }
 ],
 "metadata": {
  "kernelspec": {
   "display_name": ".NET (C#)",
   "language": "C#",
   "name": ".net-csharp"
  },
  "language_info": {
   "name": "polyglot-notebook"
  },
  "polyglot_notebook": {
   "kernelInfo": {
    "defaultKernelName": "csharp",
    "items": [
     {
      "aliases": [],
      "name": ".NET"
     },
     {
      "aliases": [
       "C#",
       "c#"
      ],
      "languageName": "C#",
      "name": "csharp"
     },
     {
      "aliases": [
       "F#",
       "f#"
      ],
      "languageName": "F#",
      "name": "fsharp"
     },
     {
      "aliases": [],
      "languageName": "HTML",
      "name": "html"
     },
     {
      "aliases": [
       "js"
      ],
      "languageName": "JavaScript",
      "name": "javascript"
     },
     {
      "aliases": [],
      "languageName": "KQL",
      "name": "kql"
     },
     {
      "aliases": [],
      "languageName": "Mermaid",
      "name": "mermaid"
     },
     {
      "aliases": [
       "powershell"
      ],
      "languageName": "PowerShell",
      "name": "pwsh"
     },
     {
      "aliases": [],
      "languageName": "SQL",
      "name": "sql"
     },
     {
      "aliases": [],
      "name": "value"
     },
     {
      "aliases": [
       "frontend"
      ],
      "name": "vscode"
     },
     {
      "aliases": [],
      "name": "webview"
     }
    ]
   }
  }
 },
 "nbformat": 4,
 "nbformat_minor": 2
}

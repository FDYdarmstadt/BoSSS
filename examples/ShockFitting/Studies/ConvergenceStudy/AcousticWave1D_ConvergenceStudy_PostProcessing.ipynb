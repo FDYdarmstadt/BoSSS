{
 "cells": [
  {
   "cell_type": "markdown",
   "metadata": {},
   "source": [
    "This Notebook evaluates a convergence study for the 1D Shock-Acoustic-Wave interaction problems as presented in the phd thesis \"Implicit Discontinuous Galerkin Shock Tracking methods for Compressible Flows with Shocks\" (Vandergrift 2024)."
   ]
  },
  {
   "cell_type": "code",
   "execution_count": 2,
   "metadata": {
    "dotnet_interactive": {
     "language": "csharp"
    }
   },
   "outputs": [],
   "source": [
    "#r \"BoSSSpad.dll\"\n",
    "#r \"XESF.dll\"\n",
    "using System;\n",
    "using BoSSS.Foundation;\n",
    "using BoSSS.Application.BoSSSpad;\n",
    "using BoSSS.Solution;\n",
    "using BoSSS.Solution.Tecplot;\n",
    "using BoSSS.Foundation.IO;\n",
    "using ilPSP.Tracing;\n",
    "using BoSSS.Solution.Utils;\n",
    "using ilPSP.LinSolvers;\n",
    "using BoSSS.Solution.NSECommon;\n",
    "using ilPSP.Connectors.Matlab;\n",
    "using ilPSP;\n",
    "using BoSSS.Foundation.Grid.Classic;\n",
    "using ilPSP.Utils;\n",
    "using BoSSS.Foundation.Grid.RefElements;\n",
    "using System.Collections.Generic;\n",
    "using BoSSS.Foundation.Grid;\n",
    "using BoSSS.Foundation.XDG;\n",
    "using BoSSS.Solution.XdgTimestepping;\n",
    "using BoSSS.Solution.AdvancedSolvers;\n",
    "using System.Linq;\n",
    "using BoSSS.Foundation.Grid.Aggregation;\n",
    "using BoSSS.Platform;\n",
    "using MPI.Wrappers;\n",
    "using System.Diagnostics;\n",
    "using System.IO;\n",
    "using System.Collections;\n",
    "using BoSSS.Foundation.Quadrature;\n",
    "using BoSSS.Solution.Statistic;\n",
    "using BoSSS.Solution.Gnuplot;\n",
    "using static BoSSS.Application.BoSSSpad.BoSSSshell;\n",
    "using BoSSS.Solution.Control;\n",
    "using BoSSS.Solution.GridImport;\n",
    "using ApplicationWithIDT;\n",
    "using XESF;\n",
    "Init();\n"
   ]
  },
  {
   "attachments": {},
   "cell_type": "markdown",
   "metadata": {},
   "source": [
    "init workflow\n"
   ]
  },
  {
   "cell_type": "code",
   "execution_count": 3,
   "metadata": {
    "dotnet_interactive": {
     "language": "csharp"
    }
   },
   "outputs": [
    {
     "data": {
      "text/plain": [
       "{ Session Count = 15; Grid Count = 15; Path = \\\\dc3\\userspace\\sebastian\\cluster\\XESTSF_ShockAcousticInteraction1D_ConvergenceStudy2 }"
      ]
     },
     "metadata": {},
     "output_type": "display_data"
    }
   ],
   "source": [
    "BoSSSshell.WorkflowMgm.Init(\"XESTSF_ShockAcousticInteraction1D_ConvergenceStudy2\");\n",
    "BoSSSshell.WorkflowMgm.SetNameBasedSessionJobControlCorrelation();\n",
    "BoSSSshell.WorkflowMgm.DefaultDatabase\n"
   ]
  },
  {
   "cell_type": "code",
   "execution_count": 4,
   "metadata": {
    "dotnet_interactive": {
     "language": "csharp"
    }
   },
   "outputs": [
    {
     "data": {
      "text/html": [
       "<span>2024-05-05 16:14:45Z</span>"
      ]
     },
     "metadata": {},
     "output_type": "display_data"
    }
   ],
   "source": [
    "var dbPath = BoSSSshell.WorkflowMgm.DefaultDatabase.Path;\n",
    "var database = OpenOrCreateDatabase(dbPath);\n",
    "var dt = database.Sessions.Last().CreationTime;\n",
    "dt\n"
   ]
  },
  {
   "cell_type": "code",
   "execution_count": 5,
   "metadata": {
    "dotnet_interactive": {
     "language": "csharp"
    },
    "polyglot_notebook": {
     "kernelName": "csharp"
    }
   },
   "outputs": [
    {
     "data": {
      "text/plain": [
       "#0: XESTSF_AcousticWave1D\tAW_p3_xCells121_tCells121_tMax4_1sinus_Mach1.5_sP1.5_wP0.3_ampneg1E-05_amppos0_wLTrue_wSTrue_wL0.8\t5/5/2024 4:17:01 PM\t70a6e44f...\r\n",
       "#1: XESTSF_AcousticWave1D\tAW_p3_xCells121_tCells121_tMax4_1sinus_Mach1.5_sP0.5_wP0.9_ampneg1E-05_amppos0_wLTrue_wSTrue_wL0.8\t5/5/2024 4:14:32 PM\te3f53a43...\r\n",
       "#2: XESTSF_AcousticWave1D\tAW_p3_xCells121_tCells121_tMax1.5_1sinus_Mach1.5_sP1.5_wP0_ampneg0_amppos1E-05_wLTrue_wSTrue_wL0.8\t5/5/2024 4:15:45 PM\t0db8d5ad...\r\n",
       "#3: XESTSF_AcousticWave1D\tAW_p3_xCells61_tCells61_tMax4_1sinus_Mach1.5_sP1.5_wP0.3_ampneg1E-05_amppos0_wLTrue_wSTrue_wL0.8\t5/5/2024 4:16:45 PM\t08534bdf...\r\n",
       "#4: XESTSF_AcousticWave1D\tAW_p3_xCells61_tCells61_tMax4_1sinus_Mach1.5_sP0.5_wP0.9_ampneg1E-05_amppos0_wLTrue_wSTrue_wL0.8\t5/5/2024 4:14:14 PM\t54ce6b78...\r\n",
       "#5: XESTSF_AcousticWave1D\tAW_p3_xCells61_tCells61_tMax1.5_1sinus_Mach1.5_sP1.5_wP0_ampneg0_amppos1E-05_wLTrue_wSTrue_wL0.8\t5/5/2024 4:15:31 PM\tf2364944...\r\n",
       "#6: XESTSF_AcousticWave1D\tAW_p3_xCells31_tCells31_tMax4_1sinus_Mach1.5_sP1.5_wP0.3_ampneg1E-05_amppos0_wLTrue_wSTrue_wL0.8\t5/5/2024 4:16:31 PM\tc4a13ac0...\r\n",
       "#7: XESTSF_AcousticWave1D\tAW_p3_xCells31_tCells31_tMax1.5_1sinus_Mach1.5_sP1.5_wP0_ampneg0_amppos1E-05_wLTrue_wSTrue_wL0.8\t5/5/2024 4:15:15 PM\t7c29fe91...\r\n",
       "#8: XESTSF_AcousticWave1D\tAW_p3_xCells31_tCells31_tMax4_1sinus_Mach1.5_sP0.5_wP0.9_ampneg1E-05_amppos0_wLTrue_wSTrue_wL0.8\t5/5/2024 4:13:59 PM\t18f4b6f9...\r\n",
       "#9: XESTSF_AcousticWave1D\tAW_p3_xCells16_tCells16_tMax1.5_1sinus_Mach1.5_sP1.5_wP0_ampneg0_amppos1E-05_wLTrue_wSTrue_wL0.8\t5/5/2024 4:15:01 PM\t570b6f7f...\r\n",
       "#10: XESTSF_AcousticWave1D\tAW_p3_xCells16_tCells16_tMax4_1sinus_Mach1.5_sP1.5_wP0.3_ampneg1E-05_amppos0_wLTrue_wSTrue_wL0.8\t5/5/2024 4:16:15 PM\t4625881e...\r\n",
       "#11: XESTSF_AcousticWave1D\tAW_p3_xCells16_tCells16_tMax4_1sinus_Mach1.5_sP0.5_wP0.9_ampneg1E-05_amppos0_wLTrue_wSTrue_wL0.8\t5/5/2024 4:13:43 PM\t17613dea...\r\n",
       "#12: XESTSF_AcousticWave1D\tAW_p3_xCells241_tCells241_tMax4_1sinus_Mach1.5_sP1.5_wP0.3_ampneg1E-05_amppos0_wLTrue_wSTrue_wL0.8*\t5/5/2024 4:17:14 PM\t3930298e...\r\n",
       "#13: XESTSF_AcousticWave1D\tAW_p3_xCells241_tCells241_tMax1.5_1sinus_Mach1.5_sP1.5_wP0_ampneg0_amppos1E-05_wLTrue_wSTrue_wL0.8*\t5/5/2024 4:16:02 PM\tf6c238dc...\r\n",
       "#14: XESTSF_AcousticWave1D\tAW_p3_xCells241_tCells241_tMax4_1sinus_Mach1.5_sP0.5_wP0.9_ampneg1E-05_amppos0_wLTrue_wSTrue_wL0.8*\t5/5/2024 4:14:45 PM\t31f2d576...\r\n"
      ]
     },
     "metadata": {},
     "output_type": "display_data"
    }
   ],
   "source": [
    "var sessions = database.Sessions;\n",
    "sessions"
   ]
  },
  {
   "cell_type": "code",
   "execution_count": 6,
   "metadata": {
    "dotnet_interactive": {
     "language": "csharp"
    },
    "polyglot_notebook": {
     "kernelName": "csharp"
    }
   },
   "outputs": [
    {
     "data": {
      "text/html": [
       "<div class=\"dni-plaintext\"><pre>70a6e44f-fa41-46e6-be25-980d7fcdc570</pre></div><style>\r\n",
       ".dni-code-hint {\r\n",
       "    font-style: italic;\r\n",
       "    overflow: hidden;\r\n",
       "    white-space: nowrap;\r\n",
       "}\r\n",
       ".dni-treeview {\r\n",
       "    white-space: nowrap;\r\n",
       "}\r\n",
       ".dni-treeview td {\r\n",
       "    vertical-align: top;\r\n",
       "    text-align: start;\r\n",
       "}\r\n",
       "details.dni-treeview {\r\n",
       "    padding-left: 1em;\r\n",
       "}\r\n",
       "table td {\r\n",
       "    text-align: start;\r\n",
       "}\r\n",
       "table tr { \r\n",
       "    vertical-align: top; \r\n",
       "    margin: 0em 0px;\r\n",
       "}\r\n",
       "table tr td pre \r\n",
       "{ \r\n",
       "    vertical-align: top !important; \r\n",
       "    margin: 0em 0px !important;\r\n",
       "} \r\n",
       "table th {\r\n",
       "    text-align: start;\r\n",
       "}\r\n",
       "</style>"
      ]
     },
     "metadata": {},
     "output_type": "display_data"
    }
   ],
   "source": [
    "var aaa = new MatrixAssembler(3);\n",
    "var si = database.Sessions.Pick(0);\n",
    "var ti = si.Timesteps;\n",
    "si.ID"
   ]
  },
  {
   "attachments": {},
   "cell_type": "markdown",
   "metadata": {},
   "source": [
    "## Choose which runs to plot"
   ]
  },
  {
   "cell_type": "code",
   "execution_count": 24,
   "metadata": {
    "dotnet_interactive": {
     "language": "csharp"
    },
    "polyglot_notebook": {
     "kernelName": "csharp"
    }
   },
   "outputs": [
    {
     "data": {
      "text/plain": [
       "#0: XESTSF_AcousticWave1D\tAW_p3_xCells121_tCells121_tMax1.5_1sinus_Mach1.5_sP1.5_wP0_ampneg0_amppos1E-05_wLTrue_wSTrue_wL0.8\t5/5/2024 4:15:45 PM\t0db8d5ad...\r\n",
       "#1: XESTSF_AcousticWave1D\tAW_p3_xCells61_tCells61_tMax1.5_1sinus_Mach1.5_sP1.5_wP0_ampneg0_amppos1E-05_wLTrue_wSTrue_wL0.8\t5/5/2024 4:15:31 PM\tf2364944...\r\n",
       "#2: XESTSF_AcousticWave1D\tAW_p3_xCells31_tCells31_tMax1.5_1sinus_Mach1.5_sP1.5_wP0_ampneg0_amppos1E-05_wLTrue_wSTrue_wL0.8\t5/5/2024 4:15:15 PM\t7c29fe91...\r\n",
       "#3: XESTSF_AcousticWave1D\tAW_p3_xCells16_tCells16_tMax1.5_1sinus_Mach1.5_sP1.5_wP0_ampneg0_amppos1E-05_wLTrue_wSTrue_wL0.8\t5/5/2024 4:15:01 PM\t570b6f7f...\r\n"
      ]
     },
     "metadata": {},
     "output_type": "display_data"
    }
   ],
   "source": [
    "var sessions=database.Sessions.Where(s => (s.Name.Contains(\"sP1.5\") &&s.Name.Contains(\"ampneg0\")&&s.Name.Contains(\"amppos1\")&& !s.Name.Contains(\"241\"))); // the one plotted in the publication\n",
    "sessions.OrderBy(si => si.GetGrids().Pick(0).NumberOfCells);\n",
    "sessions\n"
   ]
  },
  {
   "attachments": {},
   "cell_type": "markdown",
   "metadata": {},
   "source": [
    "# A Helper Function to obtain different plot formats"
   ]
  },
  {
   "cell_type": "code",
   "execution_count": 25,
   "metadata": {
    "dotnet_interactive": {
     "language": "csharp"
    },
    "polyglot_notebook": {
     "kernelName": "csharp"
    }
   },
   "outputs": [],
   "source": [
    "using BoSSS.Solution.Tecplot;\n",
    "using System.IO;\n",
    "var allEE = new List<List<double>>();\n",
    "var plot = new Plot2Ddata();\n",
    "public PlotFormat GetFormat(int count){\n",
    "    \n",
    "    var allPT = new BoSSS.Solution.Gnuplot.PointTypes[] { PointTypes.Diamond, PointTypes.LowerTriangle, PointTypes.Circle, PointTypes.OpenDiamond, PointTypes.OpenLowerTriangle, PointTypes.OpenCircle,PointTypes.Diamond, PointTypes.LowerTriangle, PointTypes.Circle, PointTypes.OpenDiamond, PointTypes.OpenLowerTriangle, PointTypes.OpenCircle, PointTypes.Circle, PointTypes.OpenDiamond, PointTypes.OpenLowerTriangle, PointTypes.OpenCircle, PointTypes.Circle, PointTypes.OpenDiamond, PointTypes.OpenLowerTriangle, PointTypes.OpenCircle, PointTypes.Circle, PointTypes.OpenDiamond, PointTypes.OpenLowerTriangle, PointTypes.OpenCircle};\n",
    "    var allC = new BoSSS.Solution.Gnuplot.LineColors[] { LineColors.Blue, LineColors.Black, LineColors.Red,LineColors.Blue, LineColors.Black, LineColors.Red, LineColors.Red,LineColors.Blue, LineColors.Black, LineColors.Red, LineColors.Red,LineColors.Blue, LineColors.Black, LineColors.Red, LineColors.Red,LineColors.Blue, LineColors.Black, LineColors.Red, LineColors.Red, LineColors.Red,LineColors.Blue, LineColors.Black, LineColors.Red};\n",
    "    var Fmt = new PlotFormat();\n",
    "    Fmt.PointSize = 0.8;\n",
    "    Fmt.LineWidth = 1;    \n",
    "    Fmt.Style     = Styles.LinesPoints;\n",
    "\n",
    "    Fmt.LineColor = allC[count];\n",
    "    Fmt.PointType =  allPT[count];\n",
    "    return Fmt;\n",
    "}"
   ]
  },
  {
   "cell_type": "markdown",
   "metadata": {},
   "source": [
    "## Residual History"
   ]
  },
  {
   "cell_type": "code",
   "execution_count": 26,
   "metadata": {
    "dotnet_interactive": {
     "language": "csharp"
    }
   },
   "outputs": [
    {
     "data": {
      "text/html": [
       "<?xml version=\"1.0\" encoding=\"utf-8\"  standalone=\"no\"?>\n",
       "<!DOCTYPE svg PUBLIC \"-//W3C//DTD SVG 1.1//EN\"\n",
       " \"http://www.w3.org/Graphics/SVG/1.1/DTD/svg11.dtd\">\n",
       "<svg \n",
       " width=\"800\" height=\"500\"\n",
       " viewBox=\"0 0 800 500\"\n",
       " xmlns=\"http://www.w3.org/2000/svg\"\n",
       " xmlns:xlink=\"http://www.w3.org/1999/xlink\"\n",
       ">\n",
       "\n",
       "<title>Gnuplot</title>\n",
       "<desc>Produced by GNUPLOT 5.1 patchlevel 0 </desc>\n",
       "\n",
       "<g id=\"gnuplot_canvas\">\n",
       "\n",
       "<rect x=\"0\" y=\"0\" width=\"800\" height=\"500\" fill=\"#ffffff\"/>\n",
       "<defs>\n",
       "\n",
       "\t<circle id='gpDot' r='0.5' stroke-width='0.5'/>\n",
       "\t<path id='gpPt0' stroke-width='0.222' stroke='currentColor' d='M-1,0 h2 M0,-1 v2'/>\n",
       "\t<path id='gpPt1' stroke-width='0.222' stroke='currentColor' d='M-1,-1 L1,1 M1,-1 L-1,1'/>\n",
       "\t<path id='gpPt2' stroke-width='0.222' stroke='currentColor' d='M-1,0 L1,0 M0,-1 L0,1 M-1,-1 L1,1 M-1,1 L1,-1'/>\n",
       "\t<rect id='gpPt3' stroke-width='0.222' stroke='currentColor' x='-1' y='-1' width='2' height='2'/>\n",
       "\t<rect id='gpPt4' stroke-width='0.222' stroke='currentColor' fill='currentColor' x='-1' y='-1' width='2' height='2'/>\n",
       "\t<circle id='gpPt5' stroke-width='0.222' stroke='currentColor' cx='0' cy='0' r='1'/>\n",
       "\t<use xlink:href='#gpPt5' id='gpPt6' fill='currentColor' stroke='none'/>\n",
       "\t<path id='gpPt7' stroke-width='0.222' stroke='currentColor' d='M0,-1.33 L-1.33,0.67 L1.33,0.67 z'/>\n",
       "\t<use xlink:href='#gpPt7' id='gpPt8' fill='currentColor' stroke='none'/>\n",
       "\t<use xlink:href='#gpPt7' id='gpPt9' stroke='currentColor' transform='rotate(180)'/>\n",
       "\t<use xlink:href='#gpPt9' id='gpPt10' fill='currentColor' stroke='none'/>\n",
       "\t<use xlink:href='#gpPt3' id='gpPt11' stroke='currentColor' transform='rotate(45)'/>\n",
       "\t<use xlink:href='#gpPt11' id='gpPt12' fill='currentColor' stroke='none'/>\n",
       "\t<path id='gpPt13' stroke-width='0.222' stroke='currentColor' d='M0,1.330 L1.265,0.411 L0.782,-1.067 L-0.782,-1.076 L-1.265,0.411 z'/>\n",
       "\t<use xlink:href='#gpPt13' id='gpPt14' fill='currentColor' stroke='none'/>\n",
       "\t<filter id='textbox' filterUnits='objectBoundingBox' x='0' y='0' height='1' width='1'>\n",
       "\t  <feFlood flood-color='#FFFFFF' flood-opacity='1' result='bgnd'/>\n",
       "\t  <feComposite in='SourceGraphic' in2='bgnd' operator='atop'/>\n",
       "\t</filter>\n",
       "\t<filter id='greybox' filterUnits='objectBoundingBox' x='0' y='0' height='1' width='1'>\n",
       "\t  <feFlood flood-color='lightgrey' flood-opacity='1' result='grey'/>\n",
       "\t  <feComposite in='SourceGraphic' in2='grey' operator='atop'/>\n",
       "\t</filter>\n",
       "</defs>\n",
       "<g fill=\"none\" color=\"#FFFFFF\" stroke=\"currentColor\" stroke-width=\"1.00\" stroke-linecap=\"butt\" stroke-linejoin=\"miter\">\n",
       "</g>\n",
       "<g fill=\"none\" color=\"black\" stroke=\"currentColor\" stroke-width=\"1.00\" stroke-linecap=\"butt\" stroke-linejoin=\"miter\">\n",
       "\t<path stroke='black'  d='M53.9,442.4 L62.9,442.4 M750.1,442.4 L741.1,442.4  '/>\t<g transform=\"translate(45.6,448.4)\" stroke=\"none\" fill=\"black\" font-family=\"sans\" font-size=\"16.00\"  text-anchor=\"end\">\n",
       "\t\t<text><tspan font-family=\"sans\" >10</tspan><tspan font-family=\"sans\"  font-size=\"12.8\" dy=\"-8.00px\">-14</tspan><tspan font-size=\"16.0\" dy=\"8.00\"></tspan></text>\n",
       "\t</g>\n",
       "</g>\n",
       "<g fill=\"none\" color=\"black\" stroke=\"currentColor\" stroke-width=\"1.00\" stroke-linecap=\"butt\" stroke-linejoin=\"miter\">\n",
       "\t<path stroke='black'  d='M53.9,408.5 L58.4,408.5 M750.1,408.5 L745.6,408.5 M53.9,374.7 L62.9,374.7 M750.1,374.7 L741.1,374.7\n",
       "\t\t '/>\t<g transform=\"translate(45.6,380.7)\" stroke=\"none\" fill=\"black\" font-family=\"sans\" font-size=\"16.00\"  text-anchor=\"end\">\n",
       "\t\t<text><tspan font-family=\"sans\" >10</tspan><tspan font-family=\"sans\"  font-size=\"12.8\" dy=\"-8.00px\">-12</tspan><tspan font-size=\"16.0\" dy=\"8.00\"></tspan></text>\n",
       "\t</g>\n",
       "</g>\n",
       "<g fill=\"none\" color=\"black\" stroke=\"currentColor\" stroke-width=\"1.00\" stroke-linecap=\"butt\" stroke-linejoin=\"miter\">\n",
       "\t<path stroke='black'  d='M53.9,340.8 L58.4,340.8 M750.1,340.8 L745.6,340.8 M53.9,307.0 L62.9,307.0 M750.1,307.0 L741.1,307.0\n",
       "\t\t '/>\t<g transform=\"translate(45.6,313.0)\" stroke=\"none\" fill=\"black\" font-family=\"sans\" font-size=\"16.00\"  text-anchor=\"end\">\n",
       "\t\t<text><tspan font-family=\"sans\" >10</tspan><tspan font-family=\"sans\"  font-size=\"12.8\" dy=\"-8.00px\">-10</tspan><tspan font-size=\"16.0\" dy=\"8.00\"></tspan></text>\n",
       "\t</g>\n",
       "</g>\n",
       "<g fill=\"none\" color=\"black\" stroke=\"currentColor\" stroke-width=\"1.00\" stroke-linecap=\"butt\" stroke-linejoin=\"miter\">\n",
       "\t<path stroke='black'  d='M53.9,273.1 L58.4,273.1 M750.1,273.1 L745.6,273.1 M53.9,239.3 L62.9,239.3 M750.1,239.3 L741.1,239.3\n",
       "\t\t '/>\t<g transform=\"translate(45.6,245.3)\" stroke=\"none\" fill=\"black\" font-family=\"sans\" font-size=\"16.00\"  text-anchor=\"end\">\n",
       "\t\t<text><tspan font-family=\"sans\" >10</tspan><tspan font-family=\"sans\"  font-size=\"12.8\" dy=\"-8.00px\">-8</tspan><tspan font-size=\"16.0\" dy=\"8.00\"></tspan></text>\n",
       "\t</g>\n",
       "</g>\n",
       "<g fill=\"none\" color=\"black\" stroke=\"currentColor\" stroke-width=\"1.00\" stroke-linecap=\"butt\" stroke-linejoin=\"miter\">\n",
       "\t<path stroke='black'  d='M53.9,205.4 L58.4,205.4 M750.1,205.4 L745.6,205.4 M53.9,171.5 L62.9,171.5 M750.1,171.5 L741.1,171.5\n",
       "\t\t '/>\t<g transform=\"translate(45.6,177.5)\" stroke=\"none\" fill=\"black\" font-family=\"sans\" font-size=\"16.00\"  text-anchor=\"end\">\n",
       "\t\t<text><tspan font-family=\"sans\" >10</tspan><tspan font-family=\"sans\"  font-size=\"12.8\" dy=\"-8.00px\">-6</tspan><tspan font-size=\"16.0\" dy=\"8.00\"></tspan></text>\n",
       "\t</g>\n",
       "</g>\n",
       "<g fill=\"none\" color=\"black\" stroke=\"currentColor\" stroke-width=\"1.00\" stroke-linecap=\"butt\" stroke-linejoin=\"miter\">\n",
       "\t<path stroke='black'  d='M53.9,137.7 L58.4,137.7 M750.1,137.7 L745.6,137.7 M53.9,103.8 L62.9,103.8 M750.1,103.8 L741.1,103.8\n",
       "\t\t '/>\t<g transform=\"translate(45.6,109.8)\" stroke=\"none\" fill=\"black\" font-family=\"sans\" font-size=\"16.00\"  text-anchor=\"end\">\n",
       "\t\t<text><tspan font-family=\"sans\" >10</tspan><tspan font-family=\"sans\"  font-size=\"12.8\" dy=\"-8.00px\">-4</tspan><tspan font-size=\"16.0\" dy=\"8.00\"></tspan></text>\n",
       "\t</g>\n",
       "</g>\n",
       "<g fill=\"none\" color=\"black\" stroke=\"currentColor\" stroke-width=\"1.00\" stroke-linecap=\"butt\" stroke-linejoin=\"miter\">\n",
       "\t<path stroke='black'  d='M53.9,70.0 L58.4,70.0 M750.1,70.0 L745.6,70.0 M53.9,36.1 L62.9,36.1 M750.1,36.1 L741.1,36.1\n",
       "\t\t '/>\t<g transform=\"translate(45.6,42.1)\" stroke=\"none\" fill=\"black\" font-family=\"sans\" font-size=\"16.00\"  text-anchor=\"end\">\n",
       "\t\t<text><tspan font-family=\"sans\" >10</tspan><tspan font-family=\"sans\"  font-size=\"12.8\" dy=\"-8.00px\">-2</tspan><tspan font-size=\"16.0\" dy=\"8.00\"></tspan></text>\n",
       "\t</g>\n",
       "</g>\n",
       "<g fill=\"none\" color=\"black\" stroke=\"currentColor\" stroke-width=\"1.00\" stroke-linecap=\"butt\" stroke-linejoin=\"miter\">\n",
       "\t<path stroke='black'  d='M53.9,442.4 L53.9,433.4 M53.9,36.1 L53.9,45.1  '/>\t<g transform=\"translate(53.9,464.9)\" stroke=\"none\" fill=\"black\" font-family=\"Arial\" font-size=\"12.00\"  text-anchor=\"middle\">\n",
       "\t\t<text><tspan font-family=\"Arial\" > 0</tspan></text>\n",
       "\t</g>\n",
       "</g>\n",
       "<g fill=\"none\" color=\"black\" stroke=\"currentColor\" stroke-width=\"1.00\" stroke-linecap=\"butt\" stroke-linejoin=\"miter\">\n",
       "\t<path stroke='black'  d='M193.1,442.4 L193.1,433.4 M193.1,36.1 L193.1,45.1  '/>\t<g transform=\"translate(193.1,464.9)\" stroke=\"none\" fill=\"black\" font-family=\"Arial\" font-size=\"12.00\"  text-anchor=\"middle\">\n",
       "\t\t<text><tspan font-family=\"Arial\" > 10</tspan></text>\n",
       "\t</g>\n",
       "</g>\n",
       "<g fill=\"none\" color=\"black\" stroke=\"currentColor\" stroke-width=\"1.00\" stroke-linecap=\"butt\" stroke-linejoin=\"miter\">\n",
       "\t<path stroke='black'  d='M332.4,442.4 L332.4,433.4 M332.4,36.1 L332.4,45.1  '/>\t<g transform=\"translate(332.4,464.9)\" stroke=\"none\" fill=\"black\" font-family=\"Arial\" font-size=\"12.00\"  text-anchor=\"middle\">\n",
       "\t\t<text><tspan font-family=\"Arial\" > 20</tspan></text>\n",
       "\t</g>\n",
       "</g>\n",
       "<g fill=\"none\" color=\"black\" stroke=\"currentColor\" stroke-width=\"1.00\" stroke-linecap=\"butt\" stroke-linejoin=\"miter\">\n",
       "\t<path stroke='black'  d='M471.6,442.4 L471.6,433.4 M471.6,36.1 L471.6,45.1  '/>\t<g transform=\"translate(471.6,464.9)\" stroke=\"none\" fill=\"black\" font-family=\"Arial\" font-size=\"12.00\"  text-anchor=\"middle\">\n",
       "\t\t<text><tspan font-family=\"Arial\" > 30</tspan></text>\n",
       "\t</g>\n",
       "</g>\n",
       "<g fill=\"none\" color=\"black\" stroke=\"currentColor\" stroke-width=\"1.00\" stroke-linecap=\"butt\" stroke-linejoin=\"miter\">\n",
       "\t<path stroke='black'  d='M610.9,442.4 L610.9,433.4 M610.9,36.1 L610.9,45.1  '/>\t<g transform=\"translate(610.9,464.9)\" stroke=\"none\" fill=\"black\" font-family=\"Arial\" font-size=\"12.00\"  text-anchor=\"middle\">\n",
       "\t\t<text><tspan font-family=\"Arial\" > 40</tspan></text>\n",
       "\t</g>\n",
       "</g>\n",
       "<g fill=\"none\" color=\"black\" stroke=\"currentColor\" stroke-width=\"1.00\" stroke-linecap=\"butt\" stroke-linejoin=\"miter\">\n",
       "\t<path stroke='black'  d='M750.1,442.4 L750.1,433.4 M750.1,36.1 L750.1,45.1  '/>\t<g transform=\"translate(750.1,464.9)\" stroke=\"none\" fill=\"black\" font-family=\"Arial\" font-size=\"12.00\"  text-anchor=\"middle\">\n",
       "\t\t<text><tspan font-family=\"Arial\" > 50</tspan></text>\n",
       "\t</g>\n",
       "</g>\n",
       "<g fill=\"none\" color=\"black\" stroke=\"currentColor\" stroke-width=\"1.00\" stroke-linecap=\"butt\" stroke-linejoin=\"miter\">\n",
       "\t<path stroke='black'  d='M750.1,442.4 L741.1,442.4  '/>\t<g transform=\"translate(758.4,446.9)\" stroke=\"none\" fill=\"black\" font-family=\"Arial\" font-size=\"12.00\"  text-anchor=\"start\">\n",
       "\t\t<text><tspan font-family=\"Arial\" > </tspan></text>\n",
       "\t</g>\n",
       "</g>\n",
       "<g fill=\"none\" color=\"black\" stroke=\"currentColor\" stroke-width=\"1.00\" stroke-linecap=\"butt\" stroke-linejoin=\"miter\">\n",
       "\t<path stroke='black'  d='M750.1,374.7 L741.1,374.7  '/>\t<g transform=\"translate(758.4,379.2)\" stroke=\"none\" fill=\"black\" font-family=\"Arial\" font-size=\"12.00\"  text-anchor=\"start\">\n",
       "\t\t<text><tspan font-family=\"Arial\" > </tspan></text>\n",
       "\t</g>\n",
       "</g>\n",
       "<g fill=\"none\" color=\"black\" stroke=\"currentColor\" stroke-width=\"1.00\" stroke-linecap=\"butt\" stroke-linejoin=\"miter\">\n",
       "\t<path stroke='black'  d='M750.1,307.0 L741.1,307.0  '/>\t<g transform=\"translate(758.4,311.5)\" stroke=\"none\" fill=\"black\" font-family=\"Arial\" font-size=\"12.00\"  text-anchor=\"start\">\n",
       "\t\t<text><tspan font-family=\"Arial\" > </tspan></text>\n",
       "\t</g>\n",
       "</g>\n",
       "<g fill=\"none\" color=\"black\" stroke=\"currentColor\" stroke-width=\"1.00\" stroke-linecap=\"butt\" stroke-linejoin=\"miter\">\n",
       "\t<path stroke='black'  d='M750.1,239.3 L741.1,239.3  '/>\t<g transform=\"translate(758.4,243.8)\" stroke=\"none\" fill=\"black\" font-family=\"Arial\" font-size=\"12.00\"  text-anchor=\"start\">\n",
       "\t\t<text><tspan font-family=\"Arial\" > </tspan></text>\n",
       "\t</g>\n",
       "</g>\n",
       "<g fill=\"none\" color=\"black\" stroke=\"currentColor\" stroke-width=\"1.00\" stroke-linecap=\"butt\" stroke-linejoin=\"miter\">\n",
       "\t<path stroke='black'  d='M750.1,171.5 L741.1,171.5  '/>\t<g transform=\"translate(758.4,176.0)\" stroke=\"none\" fill=\"black\" font-family=\"Arial\" font-size=\"12.00\"  text-anchor=\"start\">\n",
       "\t\t<text><tspan font-family=\"Arial\" > </tspan></text>\n",
       "\t</g>\n",
       "</g>\n",
       "<g fill=\"none\" color=\"black\" stroke=\"currentColor\" stroke-width=\"1.00\" stroke-linecap=\"butt\" stroke-linejoin=\"miter\">\n",
       "\t<path stroke='black'  d='M750.1,103.8 L741.1,103.8  '/>\t<g transform=\"translate(758.4,108.3)\" stroke=\"none\" fill=\"black\" font-family=\"Arial\" font-size=\"12.00\"  text-anchor=\"start\">\n",
       "\t\t<text><tspan font-family=\"Arial\" > </tspan></text>\n",
       "\t</g>\n",
       "</g>\n",
       "<g fill=\"none\" color=\"black\" stroke=\"currentColor\" stroke-width=\"1.00\" stroke-linecap=\"butt\" stroke-linejoin=\"miter\">\n",
       "\t<path stroke='black'  d='M750.1,36.1 L741.1,36.1  '/>\t<g transform=\"translate(758.4,40.6)\" stroke=\"none\" fill=\"black\" font-family=\"Arial\" font-size=\"12.00\"  text-anchor=\"start\">\n",
       "\t\t<text><tspan font-family=\"Arial\" > </tspan></text>\n",
       "\t</g>\n",
       "</g>\n",
       "<g fill=\"none\" color=\"black\" stroke=\"currentColor\" stroke-width=\"1.00\" stroke-linecap=\"butt\" stroke-linejoin=\"miter\">\n",
       "\t<path stroke='black'  d='M53.9,36.1 L53.9,45.1  '/>\t<g transform=\"translate(53.9,22.6)\" stroke=\"none\" fill=\"black\" font-family=\"Arial\" font-size=\"12.00\"  text-anchor=\"middle\">\n",
       "\t\t<text><tspan font-family=\"Arial\" > </tspan></text>\n",
       "\t</g>\n",
       "</g>\n",
       "<g fill=\"none\" color=\"black\" stroke=\"currentColor\" stroke-width=\"1.00\" stroke-linecap=\"butt\" stroke-linejoin=\"miter\">\n",
       "\t<path stroke='black'  d='M193.1,36.1 L193.1,45.1  '/>\t<g transform=\"translate(193.1,22.6)\" stroke=\"none\" fill=\"black\" font-family=\"Arial\" font-size=\"12.00\"  text-anchor=\"middle\">\n",
       "\t\t<text><tspan font-family=\"Arial\" > </tspan></text>\n",
       "\t</g>\n",
       "</g>\n",
       "<g fill=\"none\" color=\"black\" stroke=\"currentColor\" stroke-width=\"1.00\" stroke-linecap=\"butt\" stroke-linejoin=\"miter\">\n",
       "\t<path stroke='black'  d='M332.4,36.1 L332.4,45.1  '/>\t<g transform=\"translate(332.4,22.6)\" stroke=\"none\" fill=\"black\" font-family=\"Arial\" font-size=\"12.00\"  text-anchor=\"middle\">\n",
       "\t\t<text><tspan font-family=\"Arial\" > </tspan></text>\n",
       "\t</g>\n",
       "</g>\n",
       "<g fill=\"none\" color=\"black\" stroke=\"currentColor\" stroke-width=\"1.00\" stroke-linecap=\"butt\" stroke-linejoin=\"miter\">\n",
       "\t<path stroke='black'  d='M471.6,36.1 L471.6,45.1  '/>\t<g transform=\"translate(471.6,22.6)\" stroke=\"none\" fill=\"black\" font-family=\"Arial\" font-size=\"12.00\"  text-anchor=\"middle\">\n",
       "\t\t<text><tspan font-family=\"Arial\" > </tspan></text>\n",
       "\t</g>\n",
       "</g>\n",
       "<g fill=\"none\" color=\"black\" stroke=\"currentColor\" stroke-width=\"1.00\" stroke-linecap=\"butt\" stroke-linejoin=\"miter\">\n",
       "\t<path stroke='black'  d='M610.9,36.1 L610.9,45.1  '/>\t<g transform=\"translate(610.9,22.6)\" stroke=\"none\" fill=\"black\" font-family=\"Arial\" font-size=\"12.00\"  text-anchor=\"middle\">\n",
       "\t\t<text><tspan font-family=\"Arial\" > </tspan></text>\n",
       "\t</g>\n",
       "</g>\n",
       "<g fill=\"none\" color=\"black\" stroke=\"currentColor\" stroke-width=\"1.00\" stroke-linecap=\"butt\" stroke-linejoin=\"miter\">\n",
       "\t<path stroke='black'  d='M750.1,36.1 L750.1,45.1  '/>\t<g transform=\"translate(750.1,22.6)\" stroke=\"none\" fill=\"black\" font-family=\"Arial\" font-size=\"12.00\"  text-anchor=\"middle\">\n",
       "\t\t<text><tspan font-family=\"Arial\" > </tspan></text>\n",
       "\t</g>\n",
       "</g>\n",
       "<g fill=\"none\" color=\"black\" stroke=\"currentColor\" stroke-width=\"1.00\" stroke-linecap=\"butt\" stroke-linejoin=\"miter\">\n",
       "</g>\n",
       "<g fill=\"none\" color=\"black\" stroke=\"currentColor\" stroke-width=\"1.00\" stroke-linecap=\"butt\" stroke-linejoin=\"miter\">\n",
       "\t<path stroke='black'  d='M53.9,36.1 L53.9,442.4 L750.1,442.4 L750.1,36.1 L53.9,36.1 Z  '/></g>\n",
       "<g fill=\"none\" color=\"black\" stroke=\"currentColor\" stroke-width=\"1.00\" stroke-linecap=\"butt\" stroke-linejoin=\"miter\">\n",
       "\t<g transform=\"translate(402.0,491.9)\" stroke=\"none\" fill=\"black\" font-family=\"Arial\" font-size=\"12.00\"  text-anchor=\"middle\">\n",
       "\t\t<text><tspan font-family=\"Arial\" >Iteration</tspan></text>\n",
       "\t</g>\n",
       "</g>\n",
       "<g fill=\"none\" color=\"black\" stroke=\"currentColor\" stroke-width=\"1.00\" stroke-linecap=\"butt\" stroke-linejoin=\"miter\">\n",
       "</g>\n",
       "\t<g id=\"gnuplot_plot_1\" ><title>||r|| - AWp3xCells121tCells121tMax1.51sinusMach1.5sP1.5wP0ampneg0amppos1E-05wLTruewSTruewL0.8</title>\n",
       "<g fill=\"none\" color=\"black\" stroke=\"currentColor\" stroke-width=\"1.00\" stroke-linecap=\"butt\" stroke-linejoin=\"miter\">\n",
       "</g>\n",
       "<g fill=\"none\" color=\"black\" stroke=\"currentColor\" stroke-width=\"1.00\" stroke-linecap=\"butt\" stroke-linejoin=\"miter\">\n",
       "\t<path stroke='rgb(  0,   0, 255)'  d='M53.9,86.9 L67.8,287.2 L81.7,373.7 L95.7,376.4 L109.6,377.7 L123.5,378.8 L137.4,381.3 L151.4,382.3\n",
       "\t\tL165.3,382.8 L179.2,382.7 L193.1,383.8 L207.1,385.5 L221.0,385.6 L234.9,386.0 L248.8,386.0 L262.8,386.1\n",
       "\t\tL276.7,386.0 L290.6,386.0 L304.5,386.2 L318.5,386.2 L332.4,386.2 L346.3,269.5 L360.2,310.4 L374.2,341.2\n",
       "\t\tL388.1,364.0 L402.0,365.5 L415.9,365.9 L429.8,366.9 L443.8,367.6 L457.7,370.7 L471.6,369.9 L485.5,265.8\n",
       "\t\tL499.5,267.9 L513.4,285.4 L527.3,287.7 L541.2,287.8 L555.2,287.9 L569.1,287.9 L583.0,287.9 L596.9,287.9\n",
       "\t\tL610.9,287.9 L624.8,251.0 L638.7,254.9 L652.6,265.4 L666.6,269.5 L680.5,276.0 L694.4,279.4 L708.3,281.0\n",
       "\t\tL722.3,281.1 L736.2,281.2 L750.1,281.3  '/>\t<use xlink:href='#gpPt12' transform='translate(53.9,86.9) scale(3.60)' color='rgb(  0,   0, 255)'/>\n",
       "\t<use xlink:href='#gpPt12' transform='translate(67.8,287.2) scale(3.60)' color='rgb(  0,   0, 255)'/>\n",
       "\t<use xlink:href='#gpPt12' transform='translate(81.7,373.7) scale(3.60)' color='rgb(  0,   0, 255)'/>\n",
       "\t<use xlink:href='#gpPt12' transform='translate(95.7,376.4) scale(3.60)' color='rgb(  0,   0, 255)'/>\n",
       "\t<use xlink:href='#gpPt12' transform='translate(109.6,377.7) scale(3.60)' color='rgb(  0,   0, 255)'/>\n",
       "\t<use xlink:href='#gpPt12' transform='translate(123.5,378.8) scale(3.60)' color='rgb(  0,   0, 255)'/>\n",
       "\t<use xlink:href='#gpPt12' transform='translate(137.4,381.3) scale(3.60)' color='rgb(  0,   0, 255)'/>\n",
       "\t<use xlink:href='#gpPt12' transform='translate(151.4,382.3) scale(3.60)' color='rgb(  0,   0, 255)'/>\n",
       "\t<use xlink:href='#gpPt12' transform='translate(165.3,382.8) scale(3.60)' color='rgb(  0,   0, 255)'/>\n",
       "\t<use xlink:href='#gpPt12' transform='translate(179.2,382.7) scale(3.60)' color='rgb(  0,   0, 255)'/>\n",
       "\t<use xlink:href='#gpPt12' transform='translate(193.1,383.8) scale(3.60)' color='rgb(  0,   0, 255)'/>\n",
       "\t<use xlink:href='#gpPt12' transform='translate(207.1,385.5) scale(3.60)' color='rgb(  0,   0, 255)'/>\n",
       "\t<use xlink:href='#gpPt12' transform='translate(221.0,385.6) scale(3.60)' color='rgb(  0,   0, 255)'/>\n",
       "\t<use xlink:href='#gpPt12' transform='translate(234.9,386.0) scale(3.60)' color='rgb(  0,   0, 255)'/>\n",
       "\t<use xlink:href='#gpPt12' transform='translate(248.8,386.0) scale(3.60)' color='rgb(  0,   0, 255)'/>\n",
       "\t<use xlink:href='#gpPt12' transform='translate(262.8,386.1) scale(3.60)' color='rgb(  0,   0, 255)'/>\n",
       "\t<use xlink:href='#gpPt12' transform='translate(276.7,386.0) scale(3.60)' color='rgb(  0,   0, 255)'/>\n",
       "\t<use xlink:href='#gpPt12' transform='translate(290.6,386.0) scale(3.60)' color='rgb(  0,   0, 255)'/>\n",
       "\t<use xlink:href='#gpPt12' transform='translate(304.5,386.2) scale(3.60)' color='rgb(  0,   0, 255)'/>\n",
       "\t<use xlink:href='#gpPt12' transform='translate(318.5,386.2) scale(3.60)' color='rgb(  0,   0, 255)'/>\n",
       "\t<use xlink:href='#gpPt12' transform='translate(332.4,386.2) scale(3.60)' color='rgb(  0,   0, 255)'/>\n",
       "\t<use xlink:href='#gpPt12' transform='translate(346.3,269.5) scale(3.60)' color='rgb(  0,   0, 255)'/>\n",
       "\t<use xlink:href='#gpPt12' transform='translate(360.2,310.4) scale(3.60)' color='rgb(  0,   0, 255)'/>\n",
       "\t<use xlink:href='#gpPt12' transform='translate(374.2,341.2) scale(3.60)' color='rgb(  0,   0, 255)'/>\n",
       "\t<use xlink:href='#gpPt12' transform='translate(388.1,364.0) scale(3.60)' color='rgb(  0,   0, 255)'/>\n",
       "\t<use xlink:href='#gpPt12' transform='translate(402.0,365.5) scale(3.60)' color='rgb(  0,   0, 255)'/>\n",
       "\t<use xlink:href='#gpPt12' transform='translate(415.9,365.9) scale(3.60)' color='rgb(  0,   0, 255)'/>\n",
       "\t<use xlink:href='#gpPt12' transform='translate(429.8,366.9) scale(3.60)' color='rgb(  0,   0, 255)'/>\n",
       "\t<use xlink:href='#gpPt12' transform='translate(443.8,367.6) scale(3.60)' color='rgb(  0,   0, 255)'/>\n",
       "\t<use xlink:href='#gpPt12' transform='translate(457.7,370.7) scale(3.60)' color='rgb(  0,   0, 255)'/>\n",
       "\t<use xlink:href='#gpPt12' transform='translate(471.6,369.9) scale(3.60)' color='rgb(  0,   0, 255)'/>\n",
       "\t<use xlink:href='#gpPt12' transform='translate(485.5,265.8) scale(3.60)' color='rgb(  0,   0, 255)'/>\n",
       "\t<use xlink:href='#gpPt12' transform='translate(499.5,267.9) scale(3.60)' color='rgb(  0,   0, 255)'/>\n",
       "\t<use xlink:href='#gpPt12' transform='translate(513.4,285.4) scale(3.60)' color='rgb(  0,   0, 255)'/>\n",
       "\t<use xlink:href='#gpPt12' transform='translate(527.3,287.7) scale(3.60)' color='rgb(  0,   0, 255)'/>\n",
       "\t<use xlink:href='#gpPt12' transform='translate(541.2,287.8) scale(3.60)' color='rgb(  0,   0, 255)'/>\n",
       "\t<use xlink:href='#gpPt12' transform='translate(555.2,287.9) scale(3.60)' color='rgb(  0,   0, 255)'/>\n",
       "\t<use xlink:href='#gpPt12' transform='translate(569.1,287.9) scale(3.60)' color='rgb(  0,   0, 255)'/>\n",
       "\t<use xlink:href='#gpPt12' transform='translate(583.0,287.9) scale(3.60)' color='rgb(  0,   0, 255)'/>\n",
       "\t<use xlink:href='#gpPt12' transform='translate(596.9,287.9) scale(3.60)' color='rgb(  0,   0, 255)'/>\n",
       "\t<use xlink:href='#gpPt12' transform='translate(610.9,287.9) scale(3.60)' color='rgb(  0,   0, 255)'/>\n",
       "\t<use xlink:href='#gpPt12' transform='translate(624.8,251.0) scale(3.60)' color='rgb(  0,   0, 255)'/>\n",
       "\t<use xlink:href='#gpPt12' transform='translate(638.7,254.9) scale(3.60)' color='rgb(  0,   0, 255)'/>\n",
       "\t<use xlink:href='#gpPt12' transform='translate(652.6,265.4) scale(3.60)' color='rgb(  0,   0, 255)'/>\n",
       "\t<use xlink:href='#gpPt12' transform='translate(666.6,269.5) scale(3.60)' color='rgb(  0,   0, 255)'/>\n",
       "\t<use xlink:href='#gpPt12' transform='translate(680.5,276.0) scale(3.60)' color='rgb(  0,   0, 255)'/>\n",
       "\t<use xlink:href='#gpPt12' transform='translate(694.4,279.4) scale(3.60)' color='rgb(  0,   0, 255)'/>\n",
       "\t<use xlink:href='#gpPt12' transform='translate(708.3,281.0) scale(3.60)' color='rgb(  0,   0, 255)'/>\n",
       "\t<use xlink:href='#gpPt12' transform='translate(722.3,281.1) scale(3.60)' color='rgb(  0,   0, 255)'/>\n",
       "\t<use xlink:href='#gpPt12' transform='translate(736.2,281.2) scale(3.60)' color='rgb(  0,   0, 255)'/>\n",
       "\t<use xlink:href='#gpPt12' transform='translate(750.1,281.3) scale(3.60)' color='rgb(  0,   0, 255)'/>\n",
       "</g>\n",
       "\t</g>\n",
       "\t<g id=\"gnuplot_plot_2\" ><title>EnResAWp3xCells121tCells121tMax1.51sinusMach1.5sP1.5wP0ampneg0amppos1E-05wLTruewSTruewL0.8</title>\n",
       "<g fill=\"none\" color=\"black\" stroke=\"currentColor\" stroke-width=\"1.00\" stroke-linecap=\"butt\" stroke-linejoin=\"miter\">\n",
       "</g>\n",
       "<g fill=\"none\" color=\"black\" stroke=\"currentColor\" stroke-width=\"1.00\" stroke-linecap=\"butt\" stroke-linejoin=\"miter\">\n",
       "\t<path stroke='rgb(  0,   0,   0)'  d='M53.9,76.7 L67.8,77.3 L81.7,77.3 L95.7,77.3 L109.6,77.3 L123.5,77.3 L137.4,77.3 L151.4,77.3\n",
       "\t\tL165.3,77.3 L179.2,77.3 L193.1,77.3 L207.1,77.3 L221.0,77.3 L234.9,77.3 L248.8,77.3 L262.8,77.3\n",
       "\t\tL276.7,77.3 L290.6,77.3 L304.5,77.3 L318.5,77.3 L332.4,77.3 L346.3,88.2 L360.2,88.2 L374.2,88.2\n",
       "\t\tL388.1,88.2 L402.0,88.2 L415.9,88.2 L429.8,88.2 L443.8,88.2 L457.7,88.2 L471.6,88.2 L485.5,121.3\n",
       "\t\tL499.5,121.3 L513.4,121.3 L527.3,121.3 L541.2,121.3 L555.2,121.3 L569.1,121.3 L583.0,121.3 L596.9,121.3\n",
       "\t\tL610.9,121.3 L624.8,133.1 L638.7,133.1 L652.6,133.1 L666.6,133.1 L680.5,133.1 L694.4,133.1 L708.3,133.1\n",
       "\t\tL722.3,133.1 L736.2,133.1 L750.1,133.1  '/>\t<use xlink:href='#gpPt8' transform='translate(53.9,76.7) scale(3.60)' color='rgb(  0,   0,   0)'/>\n",
       "\t<use xlink:href='#gpPt8' transform='translate(67.8,77.3) scale(3.60)' color='rgb(  0,   0,   0)'/>\n",
       "\t<use xlink:href='#gpPt8' transform='translate(81.7,77.3) scale(3.60)' color='rgb(  0,   0,   0)'/>\n",
       "\t<use xlink:href='#gpPt8' transform='translate(95.7,77.3) scale(3.60)' color='rgb(  0,   0,   0)'/>\n",
       "\t<use xlink:href='#gpPt8' transform='translate(109.6,77.3) scale(3.60)' color='rgb(  0,   0,   0)'/>\n",
       "\t<use xlink:href='#gpPt8' transform='translate(123.5,77.3) scale(3.60)' color='rgb(  0,   0,   0)'/>\n",
       "\t<use xlink:href='#gpPt8' transform='translate(137.4,77.3) scale(3.60)' color='rgb(  0,   0,   0)'/>\n",
       "\t<use xlink:href='#gpPt8' transform='translate(151.4,77.3) scale(3.60)' color='rgb(  0,   0,   0)'/>\n",
       "\t<use xlink:href='#gpPt8' transform='translate(165.3,77.3) scale(3.60)' color='rgb(  0,   0,   0)'/>\n",
       "\t<use xlink:href='#gpPt8' transform='translate(179.2,77.3) scale(3.60)' color='rgb(  0,   0,   0)'/>\n",
       "\t<use xlink:href='#gpPt8' transform='translate(193.1,77.3) scale(3.60)' color='rgb(  0,   0,   0)'/>\n",
       "\t<use xlink:href='#gpPt8' transform='translate(207.1,77.3) scale(3.60)' color='rgb(  0,   0,   0)'/>\n",
       "\t<use xlink:href='#gpPt8' transform='translate(221.0,77.3) scale(3.60)' color='rgb(  0,   0,   0)'/>\n",
       "\t<use xlink:href='#gpPt8' transform='translate(234.9,77.3) scale(3.60)' color='rgb(  0,   0,   0)'/>\n",
       "\t<use xlink:href='#gpPt8' transform='translate(248.8,77.3) scale(3.60)' color='rgb(  0,   0,   0)'/>\n",
       "\t<use xlink:href='#gpPt8' transform='translate(262.8,77.3) scale(3.60)' color='rgb(  0,   0,   0)'/>\n",
       "\t<use xlink:href='#gpPt8' transform='translate(276.7,77.3) scale(3.60)' color='rgb(  0,   0,   0)'/>\n",
       "\t<use xlink:href='#gpPt8' transform='translate(290.6,77.3) scale(3.60)' color='rgb(  0,   0,   0)'/>\n",
       "\t<use xlink:href='#gpPt8' transform='translate(304.5,77.3) scale(3.60)' color='rgb(  0,   0,   0)'/>\n",
       "\t<use xlink:href='#gpPt8' transform='translate(318.5,77.3) scale(3.60)' color='rgb(  0,   0,   0)'/>\n",
       "\t<use xlink:href='#gpPt8' transform='translate(332.4,77.3) scale(3.60)' color='rgb(  0,   0,   0)'/>\n",
       "\t<use xlink:href='#gpPt8' transform='translate(346.3,88.2) scale(3.60)' color='rgb(  0,   0,   0)'/>\n",
       "\t<use xlink:href='#gpPt8' transform='translate(360.2,88.2) scale(3.60)' color='rgb(  0,   0,   0)'/>\n",
       "\t<use xlink:href='#gpPt8' transform='translate(374.2,88.2) scale(3.60)' color='rgb(  0,   0,   0)'/>\n",
       "\t<use xlink:href='#gpPt8' transform='translate(388.1,88.2) scale(3.60)' color='rgb(  0,   0,   0)'/>\n",
       "\t<use xlink:href='#gpPt8' transform='translate(402.0,88.2) scale(3.60)' color='rgb(  0,   0,   0)'/>\n",
       "\t<use xlink:href='#gpPt8' transform='translate(415.9,88.2) scale(3.60)' color='rgb(  0,   0,   0)'/>\n",
       "\t<use xlink:href='#gpPt8' transform='translate(429.8,88.2) scale(3.60)' color='rgb(  0,   0,   0)'/>\n",
       "\t<use xlink:href='#gpPt8' transform='translate(443.8,88.2) scale(3.60)' color='rgb(  0,   0,   0)'/>\n",
       "\t<use xlink:href='#gpPt8' transform='translate(457.7,88.2) scale(3.60)' color='rgb(  0,   0,   0)'/>\n",
       "\t<use xlink:href='#gpPt8' transform='translate(471.6,88.2) scale(3.60)' color='rgb(  0,   0,   0)'/>\n",
       "\t<use xlink:href='#gpPt8' transform='translate(485.5,121.3) scale(3.60)' color='rgb(  0,   0,   0)'/>\n",
       "\t<use xlink:href='#gpPt8' transform='translate(499.5,121.3) scale(3.60)' color='rgb(  0,   0,   0)'/>\n",
       "\t<use xlink:href='#gpPt8' transform='translate(513.4,121.3) scale(3.60)' color='rgb(  0,   0,   0)'/>\n",
       "\t<use xlink:href='#gpPt8' transform='translate(527.3,121.3) scale(3.60)' color='rgb(  0,   0,   0)'/>\n",
       "\t<use xlink:href='#gpPt8' transform='translate(541.2,121.3) scale(3.60)' color='rgb(  0,   0,   0)'/>\n",
       "\t<use xlink:href='#gpPt8' transform='translate(555.2,121.3) scale(3.60)' color='rgb(  0,   0,   0)'/>\n",
       "\t<use xlink:href='#gpPt8' transform='translate(569.1,121.3) scale(3.60)' color='rgb(  0,   0,   0)'/>\n",
       "\t<use xlink:href='#gpPt8' transform='translate(583.0,121.3) scale(3.60)' color='rgb(  0,   0,   0)'/>\n",
       "\t<use xlink:href='#gpPt8' transform='translate(596.9,121.3) scale(3.60)' color='rgb(  0,   0,   0)'/>\n",
       "\t<use xlink:href='#gpPt8' transform='translate(610.9,121.3) scale(3.60)' color='rgb(  0,   0,   0)'/>\n",
       "\t<use xlink:href='#gpPt8' transform='translate(624.8,133.1) scale(3.60)' color='rgb(  0,   0,   0)'/>\n",
       "\t<use xlink:href='#gpPt8' transform='translate(638.7,133.1) scale(3.60)' color='rgb(  0,   0,   0)'/>\n",
       "\t<use xlink:href='#gpPt8' transform='translate(652.6,133.1) scale(3.60)' color='rgb(  0,   0,   0)'/>\n",
       "\t<use xlink:href='#gpPt8' transform='translate(666.6,133.1) scale(3.60)' color='rgb(  0,   0,   0)'/>\n",
       "\t<use xlink:href='#gpPt8' transform='translate(680.5,133.1) scale(3.60)' color='rgb(  0,   0,   0)'/>\n",
       "\t<use xlink:href='#gpPt8' transform='translate(694.4,133.1) scale(3.60)' color='rgb(  0,   0,   0)'/>\n",
       "\t<use xlink:href='#gpPt8' transform='translate(708.3,133.1) scale(3.60)' color='rgb(  0,   0,   0)'/>\n",
       "\t<use xlink:href='#gpPt8' transform='translate(722.3,133.1) scale(3.60)' color='rgb(  0,   0,   0)'/>\n",
       "\t<use xlink:href='#gpPt8' transform='translate(736.2,133.1) scale(3.60)' color='rgb(  0,   0,   0)'/>\n",
       "\t<use xlink:href='#gpPt8' transform='translate(750.1,133.1) scale(3.60)' color='rgb(  0,   0,   0)'/>\n",
       "</g>\n",
       "\t</g>\n",
       "\t<g id=\"gnuplot_plot_3\" ><title>||r|| - AWp3xCells61tCells61tMax1.51sinusMach1.5sP1.5wP0ampneg0amppos1E-05wLTruewSTruewL0.8</title>\n",
       "<g fill=\"none\" color=\"black\" stroke=\"currentColor\" stroke-width=\"1.00\" stroke-linecap=\"butt\" stroke-linejoin=\"miter\">\n",
       "</g>\n",
       "<g fill=\"none\" color=\"black\" stroke=\"currentColor\" stroke-width=\"1.00\" stroke-linecap=\"butt\" stroke-linejoin=\"miter\">\n",
       "\t<path stroke='rgb(255,   0,   0)'  d='M53.9,92.0 L67.8,299.0 L81.7,389.2 L95.7,389.8 L109.6,392.1 L123.5,392.3 L137.4,395.1 L151.4,394.5\n",
       "\t\tL165.3,395.3 L179.2,397.0 L193.1,396.6 L207.1,397.1 L221.0,397.3 L234.9,397.5 L248.8,397.6 L262.8,397.6\n",
       "\t\tL276.7,397.6 L290.6,397.6 L304.5,397.6 L318.5,397.6 L332.4,275.2 L346.3,375.4 L360.2,377.0 L374.2,377.6\n",
       "\t\tL388.1,377.8 L402.0,379.9 L415.9,381.7 L429.8,382.1 L443.8,382.4 L457.7,382.4 L471.6,290.7 L485.5,368.6\n",
       "\t\tL499.5,370.1 L513.4,370.8 L527.3,371.1 L541.2,371.9 L555.2,371.9 L569.1,371.9 L583.0,371.4 L596.9,371.2\n",
       "\t\tL610.9,278.1 L624.8,342.7 L638.7,362.0 L652.6,362.1 L666.6,363.6 L680.5,363.0 L694.4,364.6 L708.3,365.5\n",
       "\t\tL722.3,365.2 L736.2,364.7  '/>\t<use xlink:href='#gpPt6' transform='translate(53.9,92.0) scale(3.60)' color='rgb(255,   0,   0)'/>\n",
       "\t<use xlink:href='#gpPt6' transform='translate(67.8,299.0) scale(3.60)' color='rgb(255,   0,   0)'/>\n",
       "\t<use xlink:href='#gpPt6' transform='translate(81.7,389.2) scale(3.60)' color='rgb(255,   0,   0)'/>\n",
       "\t<use xlink:href='#gpPt6' transform='translate(95.7,389.8) scale(3.60)' color='rgb(255,   0,   0)'/>\n",
       "\t<use xlink:href='#gpPt6' transform='translate(109.6,392.1) scale(3.60)' color='rgb(255,   0,   0)'/>\n",
       "\t<use xlink:href='#gpPt6' transform='translate(123.5,392.3) scale(3.60)' color='rgb(255,   0,   0)'/>\n",
       "\t<use xlink:href='#gpPt6' transform='translate(137.4,395.1) scale(3.60)' color='rgb(255,   0,   0)'/>\n",
       "\t<use xlink:href='#gpPt6' transform='translate(151.4,394.5) scale(3.60)' color='rgb(255,   0,   0)'/>\n",
       "\t<use xlink:href='#gpPt6' transform='translate(165.3,395.3) scale(3.60)' color='rgb(255,   0,   0)'/>\n",
       "\t<use xlink:href='#gpPt6' transform='translate(179.2,397.0) scale(3.60)' color='rgb(255,   0,   0)'/>\n",
       "\t<use xlink:href='#gpPt6' transform='translate(193.1,396.6) scale(3.60)' color='rgb(255,   0,   0)'/>\n",
       "\t<use xlink:href='#gpPt6' transform='translate(207.1,397.1) scale(3.60)' color='rgb(255,   0,   0)'/>\n",
       "\t<use xlink:href='#gpPt6' transform='translate(221.0,397.3) scale(3.60)' color='rgb(255,   0,   0)'/>\n",
       "\t<use xlink:href='#gpPt6' transform='translate(234.9,397.5) scale(3.60)' color='rgb(255,   0,   0)'/>\n",
       "\t<use xlink:href='#gpPt6' transform='translate(248.8,397.6) scale(3.60)' color='rgb(255,   0,   0)'/>\n",
       "\t<use xlink:href='#gpPt6' transform='translate(262.8,397.6) scale(3.60)' color='rgb(255,   0,   0)'/>\n",
       "\t<use xlink:href='#gpPt6' transform='translate(276.7,397.6) scale(3.60)' color='rgb(255,   0,   0)'/>\n",
       "\t<use xlink:href='#gpPt6' transform='translate(290.6,397.6) scale(3.60)' color='rgb(255,   0,   0)'/>\n",
       "\t<use xlink:href='#gpPt6' transform='translate(304.5,397.6) scale(3.60)' color='rgb(255,   0,   0)'/>\n",
       "\t<use xlink:href='#gpPt6' transform='translate(318.5,397.6) scale(3.60)' color='rgb(255,   0,   0)'/>\n",
       "\t<use xlink:href='#gpPt6' transform='translate(332.4,275.2) scale(3.60)' color='rgb(255,   0,   0)'/>\n",
       "\t<use xlink:href='#gpPt6' transform='translate(346.3,375.4) scale(3.60)' color='rgb(255,   0,   0)'/>\n",
       "\t<use xlink:href='#gpPt6' transform='translate(360.2,377.0) scale(3.60)' color='rgb(255,   0,   0)'/>\n",
       "\t<use xlink:href='#gpPt6' transform='translate(374.2,377.6) scale(3.60)' color='rgb(255,   0,   0)'/>\n",
       "\t<use xlink:href='#gpPt6' transform='translate(388.1,377.8) scale(3.60)' color='rgb(255,   0,   0)'/>\n",
       "\t<use xlink:href='#gpPt6' transform='translate(402.0,379.9) scale(3.60)' color='rgb(255,   0,   0)'/>\n",
       "\t<use xlink:href='#gpPt6' transform='translate(415.9,381.7) scale(3.60)' color='rgb(255,   0,   0)'/>\n",
       "\t<use xlink:href='#gpPt6' transform='translate(429.8,382.1) scale(3.60)' color='rgb(255,   0,   0)'/>\n",
       "\t<use xlink:href='#gpPt6' transform='translate(443.8,382.4) scale(3.60)' color='rgb(255,   0,   0)'/>\n",
       "\t<use xlink:href='#gpPt6' transform='translate(457.7,382.4) scale(3.60)' color='rgb(255,   0,   0)'/>\n",
       "\t<use xlink:href='#gpPt6' transform='translate(471.6,290.7) scale(3.60)' color='rgb(255,   0,   0)'/>\n",
       "\t<use xlink:href='#gpPt6' transform='translate(485.5,368.6) scale(3.60)' color='rgb(255,   0,   0)'/>\n",
       "\t<use xlink:href='#gpPt6' transform='translate(499.5,370.1) scale(3.60)' color='rgb(255,   0,   0)'/>\n",
       "\t<use xlink:href='#gpPt6' transform='translate(513.4,370.8) scale(3.60)' color='rgb(255,   0,   0)'/>\n",
       "\t<use xlink:href='#gpPt6' transform='translate(527.3,371.1) scale(3.60)' color='rgb(255,   0,   0)'/>\n",
       "\t<use xlink:href='#gpPt6' transform='translate(541.2,371.9) scale(3.60)' color='rgb(255,   0,   0)'/>\n",
       "\t<use xlink:href='#gpPt6' transform='translate(555.2,371.9) scale(3.60)' color='rgb(255,   0,   0)'/>\n",
       "\t<use xlink:href='#gpPt6' transform='translate(569.1,371.9) scale(3.60)' color='rgb(255,   0,   0)'/>\n",
       "\t<use xlink:href='#gpPt6' transform='translate(583.0,371.4) scale(3.60)' color='rgb(255,   0,   0)'/>\n",
       "\t<use xlink:href='#gpPt6' transform='translate(596.9,371.2) scale(3.60)' color='rgb(255,   0,   0)'/>\n",
       "\t<use xlink:href='#gpPt6' transform='translate(610.9,278.1) scale(3.60)' color='rgb(255,   0,   0)'/>\n",
       "\t<use xlink:href='#gpPt6' transform='translate(624.8,342.7) scale(3.60)' color='rgb(255,   0,   0)'/>\n",
       "\t<use xlink:href='#gpPt6' transform='translate(638.7,362.0) scale(3.60)' color='rgb(255,   0,   0)'/>\n",
       "\t<use xlink:href='#gpPt6' transform='translate(652.6,362.1) scale(3.60)' color='rgb(255,   0,   0)'/>\n",
       "\t<use xlink:href='#gpPt6' transform='translate(666.6,363.6) scale(3.60)' color='rgb(255,   0,   0)'/>\n",
       "\t<use xlink:href='#gpPt6' transform='translate(680.5,363.0) scale(3.60)' color='rgb(255,   0,   0)'/>\n",
       "\t<use xlink:href='#gpPt6' transform='translate(694.4,364.6) scale(3.60)' color='rgb(255,   0,   0)'/>\n",
       "\t<use xlink:href='#gpPt6' transform='translate(708.3,365.5) scale(3.60)' color='rgb(255,   0,   0)'/>\n",
       "\t<use xlink:href='#gpPt6' transform='translate(722.3,365.2) scale(3.60)' color='rgb(255,   0,   0)'/>\n",
       "\t<use xlink:href='#gpPt6' transform='translate(736.2,364.7) scale(3.60)' color='rgb(255,   0,   0)'/>\n",
       "</g>\n",
       "\t</g>\n",
       "\t<g id=\"gnuplot_plot_4\" ><title>EnResAWp3xCells61tCells61tMax1.51sinusMach1.5sP1.5wP0ampneg0amppos1E-05wLTruewSTruewL0.8</title>\n",
       "<g fill=\"none\" color=\"black\" stroke=\"currentColor\" stroke-width=\"1.00\" stroke-linecap=\"butt\" stroke-linejoin=\"miter\">\n",
       "</g>\n",
       "<g fill=\"none\" color=\"black\" stroke=\"currentColor\" stroke-width=\"1.00\" stroke-linecap=\"butt\" stroke-linejoin=\"miter\">\n",
       "\t<path stroke='rgb(  0,   0, 255)'  d='M53.9,81.7 L67.8,82.3 L81.7,82.3 L95.7,82.3 L109.6,82.3 L123.5,82.3 L137.4,82.3 L151.4,82.3\n",
       "\t\tL165.3,82.3 L179.2,82.3 L193.1,82.3 L207.1,82.3 L221.0,82.3 L234.9,82.3 L248.8,82.3 L262.8,82.3\n",
       "\t\tL276.7,82.3 L290.6,82.3 L304.5,82.3 L318.5,82.3 L332.4,84.1 L346.3,84.1 L360.2,84.1 L374.2,84.1\n",
       "\t\tL388.1,84.1 L402.0,84.1 L415.9,84.1 L429.8,84.1 L443.8,84.1 L457.7,84.1 L471.6,110.9 L485.5,110.9\n",
       "\t\tL499.5,110.9 L513.4,110.9 L527.3,110.9 L541.2,110.9 L555.2,110.9 L569.1,110.9 L583.0,110.9 L596.9,110.9\n",
       "\t\tL610.9,124.1 L624.8,124.1 L638.7,124.1 L652.6,124.1 L666.6,124.1 L680.5,124.1 L694.4,124.1 L708.3,124.1\n",
       "\t\tL722.3,124.1 L736.2,124.1  '/>\t<use xlink:href='#gpPt11' transform='translate(53.9,81.7) scale(3.60)' color='rgb(  0,   0, 255)'/>\n",
       "\t<use xlink:href='#gpPt11' transform='translate(67.8,82.3) scale(3.60)' color='rgb(  0,   0, 255)'/>\n",
       "\t<use xlink:href='#gpPt11' transform='translate(81.7,82.3) scale(3.60)' color='rgb(  0,   0, 255)'/>\n",
       "\t<use xlink:href='#gpPt11' transform='translate(95.7,82.3) scale(3.60)' color='rgb(  0,   0, 255)'/>\n",
       "\t<use xlink:href='#gpPt11' transform='translate(109.6,82.3) scale(3.60)' color='rgb(  0,   0, 255)'/>\n",
       "\t<use xlink:href='#gpPt11' transform='translate(123.5,82.3) scale(3.60)' color='rgb(  0,   0, 255)'/>\n",
       "\t<use xlink:href='#gpPt11' transform='translate(137.4,82.3) scale(3.60)' color='rgb(  0,   0, 255)'/>\n",
       "\t<use xlink:href='#gpPt11' transform='translate(151.4,82.3) scale(3.60)' color='rgb(  0,   0, 255)'/>\n",
       "\t<use xlink:href='#gpPt11' transform='translate(165.3,82.3) scale(3.60)' color='rgb(  0,   0, 255)'/>\n",
       "\t<use xlink:href='#gpPt11' transform='translate(179.2,82.3) scale(3.60)' color='rgb(  0,   0, 255)'/>\n",
       "\t<use xlink:href='#gpPt11' transform='translate(193.1,82.3) scale(3.60)' color='rgb(  0,   0, 255)'/>\n",
       "\t<use xlink:href='#gpPt11' transform='translate(207.1,82.3) scale(3.60)' color='rgb(  0,   0, 255)'/>\n",
       "\t<use xlink:href='#gpPt11' transform='translate(221.0,82.3) scale(3.60)' color='rgb(  0,   0, 255)'/>\n",
       "\t<use xlink:href='#gpPt11' transform='translate(234.9,82.3) scale(3.60)' color='rgb(  0,   0, 255)'/>\n",
       "\t<use xlink:href='#gpPt11' transform='translate(248.8,82.3) scale(3.60)' color='rgb(  0,   0, 255)'/>\n",
       "\t<use xlink:href='#gpPt11' transform='translate(262.8,82.3) scale(3.60)' color='rgb(  0,   0, 255)'/>\n",
       "\t<use xlink:href='#gpPt11' transform='translate(276.7,82.3) scale(3.60)' color='rgb(  0,   0, 255)'/>\n",
       "\t<use xlink:href='#gpPt11' transform='translate(290.6,82.3) scale(3.60)' color='rgb(  0,   0, 255)'/>\n",
       "\t<use xlink:href='#gpPt11' transform='translate(304.5,82.3) scale(3.60)' color='rgb(  0,   0, 255)'/>\n",
       "\t<use xlink:href='#gpPt11' transform='translate(318.5,82.3) scale(3.60)' color='rgb(  0,   0, 255)'/>\n",
       "\t<use xlink:href='#gpPt11' transform='translate(332.4,84.1) scale(3.60)' color='rgb(  0,   0, 255)'/>\n",
       "\t<use xlink:href='#gpPt11' transform='translate(346.3,84.1) scale(3.60)' color='rgb(  0,   0, 255)'/>\n",
       "\t<use xlink:href='#gpPt11' transform='translate(360.2,84.1) scale(3.60)' color='rgb(  0,   0, 255)'/>\n",
       "\t<use xlink:href='#gpPt11' transform='translate(374.2,84.1) scale(3.60)' color='rgb(  0,   0, 255)'/>\n",
       "\t<use xlink:href='#gpPt11' transform='translate(388.1,84.1) scale(3.60)' color='rgb(  0,   0, 255)'/>\n",
       "\t<use xlink:href='#gpPt11' transform='translate(402.0,84.1) scale(3.60)' color='rgb(  0,   0, 255)'/>\n",
       "\t<use xlink:href='#gpPt11' transform='translate(415.9,84.1) scale(3.60)' color='rgb(  0,   0, 255)'/>\n",
       "\t<use xlink:href='#gpPt11' transform='translate(429.8,84.1) scale(3.60)' color='rgb(  0,   0, 255)'/>\n",
       "\t<use xlink:href='#gpPt11' transform='translate(443.8,84.1) scale(3.60)' color='rgb(  0,   0, 255)'/>\n",
       "\t<use xlink:href='#gpPt11' transform='translate(457.7,84.1) scale(3.60)' color='rgb(  0,   0, 255)'/>\n",
       "\t<use xlink:href='#gpPt11' transform='translate(471.6,110.9) scale(3.60)' color='rgb(  0,   0, 255)'/>\n",
       "\t<use xlink:href='#gpPt11' transform='translate(485.5,110.9) scale(3.60)' color='rgb(  0,   0, 255)'/>\n",
       "\t<use xlink:href='#gpPt11' transform='translate(499.5,110.9) scale(3.60)' color='rgb(  0,   0, 255)'/>\n",
       "\t<use xlink:href='#gpPt11' transform='translate(513.4,110.9) scale(3.60)' color='rgb(  0,   0, 255)'/>\n",
       "\t<use xlink:href='#gpPt11' transform='translate(527.3,110.9) scale(3.60)' color='rgb(  0,   0, 255)'/>\n",
       "\t<use xlink:href='#gpPt11' transform='translate(541.2,110.9) scale(3.60)' color='rgb(  0,   0, 255)'/>\n",
       "\t<use xlink:href='#gpPt11' transform='translate(555.2,110.9) scale(3.60)' color='rgb(  0,   0, 255)'/>\n",
       "\t<use xlink:href='#gpPt11' transform='translate(569.1,110.9) scale(3.60)' color='rgb(  0,   0, 255)'/>\n",
       "\t<use xlink:href='#gpPt11' transform='translate(583.0,110.9) scale(3.60)' color='rgb(  0,   0, 255)'/>\n",
       "\t<use xlink:href='#gpPt11' transform='translate(596.9,110.9) scale(3.60)' color='rgb(  0,   0, 255)'/>\n",
       "\t<use xlink:href='#gpPt11' transform='translate(610.9,124.1) scale(3.60)' color='rgb(  0,   0, 255)'/>\n",
       "\t<use xlink:href='#gpPt11' transform='translate(624.8,124.1) scale(3.60)' color='rgb(  0,   0, 255)'/>\n",
       "\t<use xlink:href='#gpPt11' transform='translate(638.7,124.1) scale(3.60)' color='rgb(  0,   0, 255)'/>\n",
       "\t<use xlink:href='#gpPt11' transform='translate(652.6,124.1) scale(3.60)' color='rgb(  0,   0, 255)'/>\n",
       "\t<use xlink:href='#gpPt11' transform='translate(666.6,124.1) scale(3.60)' color='rgb(  0,   0, 255)'/>\n",
       "\t<use xlink:href='#gpPt11' transform='translate(680.5,124.1) scale(3.60)' color='rgb(  0,   0, 255)'/>\n",
       "\t<use xlink:href='#gpPt11' transform='translate(694.4,124.1) scale(3.60)' color='rgb(  0,   0, 255)'/>\n",
       "\t<use xlink:href='#gpPt11' transform='translate(708.3,124.1) scale(3.60)' color='rgb(  0,   0, 255)'/>\n",
       "\t<use xlink:href='#gpPt11' transform='translate(722.3,124.1) scale(3.60)' color='rgb(  0,   0, 255)'/>\n",
       "\t<use xlink:href='#gpPt11' transform='translate(736.2,124.1) scale(3.60)' color='rgb(  0,   0, 255)'/>\n",
       "</g>\n",
       "\t</g>\n",
       "\t<g id=\"gnuplot_plot_5\" ><title>||r|| - AWp3xCells31tCells31tMax1.51sinusMach1.5sP1.5wP0ampneg0amppos1E-05wLTruewSTruewL0.8</title>\n",
       "<g fill=\"none\" color=\"black\" stroke=\"currentColor\" stroke-width=\"1.00\" stroke-linecap=\"butt\" stroke-linejoin=\"miter\">\n",
       "</g>\n",
       "<g fill=\"none\" color=\"black\" stroke=\"currentColor\" stroke-width=\"1.00\" stroke-linecap=\"butt\" stroke-linejoin=\"miter\">\n",
       "\t<path stroke='rgb(  0,   0,   0)'  d='M53.9,97.2 L67.8,309.9 L81.7,401.1 L95.7,403.2 L109.6,403.6 L123.5,405.0 L137.4,405.5 L151.4,405.6\n",
       "\t\tL165.3,405.8 L179.2,405.7 L193.1,406.3 L207.1,407.1 L221.0,407.3 L234.9,407.6 L248.8,407.6 L262.8,407.6\n",
       "\t\tL276.7,407.6 L290.6,407.6 L304.5,407.6 L318.5,407.6 L332.4,284.0 L346.3,388.3 L360.2,389.2 L374.2,392.0\n",
       "\t\tL388.1,391.8 L402.0,392.0 L415.9,392.1 L429.8,392.4 L443.8,393.4 L457.7,393.4 L471.6,183.9 L485.5,183.9\n",
       "\t\tL499.5,354.5 L513.4,373.1 L527.3,381.0 L541.2,382.1 L555.2,383.8 L569.1,383.9 L583.0,383.9 L596.9,383.9\n",
       "\t\tL610.9,278.1 L624.8,370.6 L638.7,372.8 L652.6,374.3 L666.6,375.6 L680.5,376.8 L694.4,376.7 L708.3,377.0\n",
       "\t\tL722.3,378.0 L736.2,378.3  '/>\t<use xlink:href='#gpPt7' transform='translate(53.9,97.2) scale(3.60)' color='rgb(  0,   0,   0)'/>\n",
       "\t<use xlink:href='#gpPt7' transform='translate(67.8,309.9) scale(3.60)' color='rgb(  0,   0,   0)'/>\n",
       "\t<use xlink:href='#gpPt7' transform='translate(81.7,401.1) scale(3.60)' color='rgb(  0,   0,   0)'/>\n",
       "\t<use xlink:href='#gpPt7' transform='translate(95.7,403.2) scale(3.60)' color='rgb(  0,   0,   0)'/>\n",
       "\t<use xlink:href='#gpPt7' transform='translate(109.6,403.6) scale(3.60)' color='rgb(  0,   0,   0)'/>\n",
       "\t<use xlink:href='#gpPt7' transform='translate(123.5,405.0) scale(3.60)' color='rgb(  0,   0,   0)'/>\n",
       "\t<use xlink:href='#gpPt7' transform='translate(137.4,405.5) scale(3.60)' color='rgb(  0,   0,   0)'/>\n",
       "\t<use xlink:href='#gpPt7' transform='translate(151.4,405.6) scale(3.60)' color='rgb(  0,   0,   0)'/>\n",
       "\t<use xlink:href='#gpPt7' transform='translate(165.3,405.8) scale(3.60)' color='rgb(  0,   0,   0)'/>\n",
       "\t<use xlink:href='#gpPt7' transform='translate(179.2,405.7) scale(3.60)' color='rgb(  0,   0,   0)'/>\n",
       "\t<use xlink:href='#gpPt7' transform='translate(193.1,406.3) scale(3.60)' color='rgb(  0,   0,   0)'/>\n",
       "\t<use xlink:href='#gpPt7' transform='translate(207.1,407.1) scale(3.60)' color='rgb(  0,   0,   0)'/>\n",
       "\t<use xlink:href='#gpPt7' transform='translate(221.0,407.3) scale(3.60)' color='rgb(  0,   0,   0)'/>\n",
       "\t<use xlink:href='#gpPt7' transform='translate(234.9,407.6) scale(3.60)' color='rgb(  0,   0,   0)'/>\n",
       "\t<use xlink:href='#gpPt7' transform='translate(248.8,407.6) scale(3.60)' color='rgb(  0,   0,   0)'/>\n",
       "\t<use xlink:href='#gpPt7' transform='translate(262.8,407.6) scale(3.60)' color='rgb(  0,   0,   0)'/>\n",
       "\t<use xlink:href='#gpPt7' transform='translate(276.7,407.6) scale(3.60)' color='rgb(  0,   0,   0)'/>\n",
       "\t<use xlink:href='#gpPt7' transform='translate(290.6,407.6) scale(3.60)' color='rgb(  0,   0,   0)'/>\n",
       "\t<use xlink:href='#gpPt7' transform='translate(304.5,407.6) scale(3.60)' color='rgb(  0,   0,   0)'/>\n",
       "\t<use xlink:href='#gpPt7' transform='translate(318.5,407.6) scale(3.60)' color='rgb(  0,   0,   0)'/>\n",
       "\t<use xlink:href='#gpPt7' transform='translate(332.4,284.0) scale(3.60)' color='rgb(  0,   0,   0)'/>\n",
       "\t<use xlink:href='#gpPt7' transform='translate(346.3,388.3) scale(3.60)' color='rgb(  0,   0,   0)'/>\n",
       "\t<use xlink:href='#gpPt7' transform='translate(360.2,389.2) scale(3.60)' color='rgb(  0,   0,   0)'/>\n",
       "\t<use xlink:href='#gpPt7' transform='translate(374.2,392.0) scale(3.60)' color='rgb(  0,   0,   0)'/>\n",
       "\t<use xlink:href='#gpPt7' transform='translate(388.1,391.8) scale(3.60)' color='rgb(  0,   0,   0)'/>\n",
       "\t<use xlink:href='#gpPt7' transform='translate(402.0,392.0) scale(3.60)' color='rgb(  0,   0,   0)'/>\n",
       "\t<use xlink:href='#gpPt7' transform='translate(415.9,392.1) scale(3.60)' color='rgb(  0,   0,   0)'/>\n",
       "\t<use xlink:href='#gpPt7' transform='translate(429.8,392.4) scale(3.60)' color='rgb(  0,   0,   0)'/>\n",
       "\t<use xlink:href='#gpPt7' transform='translate(443.8,393.4) scale(3.60)' color='rgb(  0,   0,   0)'/>\n",
       "\t<use xlink:href='#gpPt7' transform='translate(457.7,393.4) scale(3.60)' color='rgb(  0,   0,   0)'/>\n",
       "\t<use xlink:href='#gpPt7' transform='translate(471.6,183.9) scale(3.60)' color='rgb(  0,   0,   0)'/>\n",
       "\t<use xlink:href='#gpPt7' transform='translate(485.5,183.9) scale(3.60)' color='rgb(  0,   0,   0)'/>\n",
       "\t<use xlink:href='#gpPt7' transform='translate(499.5,354.5) scale(3.60)' color='rgb(  0,   0,   0)'/>\n",
       "\t<use xlink:href='#gpPt7' transform='translate(513.4,373.1) scale(3.60)' color='rgb(  0,   0,   0)'/>\n",
       "\t<use xlink:href='#gpPt7' transform='translate(527.3,381.0) scale(3.60)' color='rgb(  0,   0,   0)'/>\n",
       "\t<use xlink:href='#gpPt7' transform='translate(541.2,382.1) scale(3.60)' color='rgb(  0,   0,   0)'/>\n",
       "\t<use xlink:href='#gpPt7' transform='translate(555.2,383.8) scale(3.60)' color='rgb(  0,   0,   0)'/>\n",
       "\t<use xlink:href='#gpPt7' transform='translate(569.1,383.9) scale(3.60)' color='rgb(  0,   0,   0)'/>\n",
       "\t<use xlink:href='#gpPt7' transform='translate(583.0,383.9) scale(3.60)' color='rgb(  0,   0,   0)'/>\n",
       "\t<use xlink:href='#gpPt7' transform='translate(596.9,383.9) scale(3.60)' color='rgb(  0,   0,   0)'/>\n",
       "\t<use xlink:href='#gpPt7' transform='translate(610.9,278.1) scale(3.60)' color='rgb(  0,   0,   0)'/>\n",
       "\t<use xlink:href='#gpPt7' transform='translate(624.8,370.6) scale(3.60)' color='rgb(  0,   0,   0)'/>\n",
       "\t<use xlink:href='#gpPt7' transform='translate(638.7,372.8) scale(3.60)' color='rgb(  0,   0,   0)'/>\n",
       "\t<use xlink:href='#gpPt7' transform='translate(652.6,374.3) scale(3.60)' color='rgb(  0,   0,   0)'/>\n",
       "\t<use xlink:href='#gpPt7' transform='translate(666.6,375.6) scale(3.60)' color='rgb(  0,   0,   0)'/>\n",
       "\t<use xlink:href='#gpPt7' transform='translate(680.5,376.8) scale(3.60)' color='rgb(  0,   0,   0)'/>\n",
       "\t<use xlink:href='#gpPt7' transform='translate(694.4,376.7) scale(3.60)' color='rgb(  0,   0,   0)'/>\n",
       "\t<use xlink:href='#gpPt7' transform='translate(708.3,377.0) scale(3.60)' color='rgb(  0,   0,   0)'/>\n",
       "\t<use xlink:href='#gpPt7' transform='translate(722.3,378.0) scale(3.60)' color='rgb(  0,   0,   0)'/>\n",
       "\t<use xlink:href='#gpPt7' transform='translate(736.2,378.3) scale(3.60)' color='rgb(  0,   0,   0)'/>\n",
       "</g>\n",
       "\t</g>\n",
       "\t<g id=\"gnuplot_plot_6\" ><title>EnResAWp3xCells31tCells31tMax1.51sinusMach1.5sP1.5wP0ampneg0amppos1E-05wLTruewSTruewL0.8</title>\n",
       "<g fill=\"none\" color=\"black\" stroke=\"currentColor\" stroke-width=\"1.00\" stroke-linecap=\"butt\" stroke-linejoin=\"miter\">\n",
       "</g>\n",
       "<g fill=\"none\" color=\"black\" stroke=\"currentColor\" stroke-width=\"1.00\" stroke-linecap=\"butt\" stroke-linejoin=\"miter\">\n",
       "\t<path stroke='rgb(255,   0,   0)'  d='M53.9,86.9 L67.8,87.3 L81.7,87.3 L95.7,87.3 L109.6,87.3 L123.5,87.3 L137.4,87.3 L151.4,87.3\n",
       "\t\tL165.3,87.3 L179.2,87.3 L193.1,87.3 L207.1,87.3 L221.0,87.3 L234.9,87.3 L248.8,87.3 L262.8,87.3\n",
       "\t\tL276.7,87.3 L290.6,87.3 L304.5,87.3 L318.5,87.3 L332.4,85.9 L346.3,85.9 L360.2,85.9 L374.2,85.9\n",
       "\t\tL388.1,85.9 L402.0,85.9 L415.9,85.9 L429.8,85.9 L443.8,85.9 L457.7,85.9 L471.6,92.4 L485.5,98.7\n",
       "\t\tL499.5,98.7 L513.4,98.7 L527.3,98.7 L541.2,98.7 L555.2,98.7 L569.1,98.7 L583.0,98.7 L596.9,98.7\n",
       "\t\tL610.9,113.0 L624.8,113.0 L638.7,113.0 L652.6,113.0 L666.6,113.0 L680.5,113.0 L694.4,113.0 L708.3,113.0\n",
       "\t\tL722.3,113.0 L736.2,113.0  '/>\t<use xlink:href='#gpPt5' transform='translate(53.9,86.9) scale(3.60)' color='rgb(255,   0,   0)'/>\n",
       "\t<use xlink:href='#gpPt5' transform='translate(67.8,87.3) scale(3.60)' color='rgb(255,   0,   0)'/>\n",
       "\t<use xlink:href='#gpPt5' transform='translate(81.7,87.3) scale(3.60)' color='rgb(255,   0,   0)'/>\n",
       "\t<use xlink:href='#gpPt5' transform='translate(95.7,87.3) scale(3.60)' color='rgb(255,   0,   0)'/>\n",
       "\t<use xlink:href='#gpPt5' transform='translate(109.6,87.3) scale(3.60)' color='rgb(255,   0,   0)'/>\n",
       "\t<use xlink:href='#gpPt5' transform='translate(123.5,87.3) scale(3.60)' color='rgb(255,   0,   0)'/>\n",
       "\t<use xlink:href='#gpPt5' transform='translate(137.4,87.3) scale(3.60)' color='rgb(255,   0,   0)'/>\n",
       "\t<use xlink:href='#gpPt5' transform='translate(151.4,87.3) scale(3.60)' color='rgb(255,   0,   0)'/>\n",
       "\t<use xlink:href='#gpPt5' transform='translate(165.3,87.3) scale(3.60)' color='rgb(255,   0,   0)'/>\n",
       "\t<use xlink:href='#gpPt5' transform='translate(179.2,87.3) scale(3.60)' color='rgb(255,   0,   0)'/>\n",
       "\t<use xlink:href='#gpPt5' transform='translate(193.1,87.3) scale(3.60)' color='rgb(255,   0,   0)'/>\n",
       "\t<use xlink:href='#gpPt5' transform='translate(207.1,87.3) scale(3.60)' color='rgb(255,   0,   0)'/>\n",
       "\t<use xlink:href='#gpPt5' transform='translate(221.0,87.3) scale(3.60)' color='rgb(255,   0,   0)'/>\n",
       "\t<use xlink:href='#gpPt5' transform='translate(234.9,87.3) scale(3.60)' color='rgb(255,   0,   0)'/>\n",
       "\t<use xlink:href='#gpPt5' transform='translate(248.8,87.3) scale(3.60)' color='rgb(255,   0,   0)'/>\n",
       "\t<use xlink:href='#gpPt5' transform='translate(262.8,87.3) scale(3.60)' color='rgb(255,   0,   0)'/>\n",
       "\t<use xlink:href='#gpPt5' transform='translate(276.7,87.3) scale(3.60)' color='rgb(255,   0,   0)'/>\n",
       "\t<use xlink:href='#gpPt5' transform='translate(290.6,87.3) scale(3.60)' color='rgb(255,   0,   0)'/>\n",
       "\t<use xlink:href='#gpPt5' transform='translate(304.5,87.3) scale(3.60)' color='rgb(255,   0,   0)'/>\n",
       "\t<use xlink:href='#gpPt5' transform='translate(318.5,87.3) scale(3.60)' color='rgb(255,   0,   0)'/>\n",
       "\t<use xlink:href='#gpPt5' transform='translate(332.4,85.9) scale(3.60)' color='rgb(255,   0,   0)'/>\n",
       "\t<use xlink:href='#gpPt5' transform='translate(346.3,85.9) scale(3.60)' color='rgb(255,   0,   0)'/>\n",
       "\t<use xlink:href='#gpPt5' transform='translate(360.2,85.9) scale(3.60)' color='rgb(255,   0,   0)'/>\n",
       "\t<use xlink:href='#gpPt5' transform='translate(374.2,85.9) scale(3.60)' color='rgb(255,   0,   0)'/>\n",
       "\t<use xlink:href='#gpPt5' transform='translate(388.1,85.9) scale(3.60)' color='rgb(255,   0,   0)'/>\n",
       "\t<use xlink:href='#gpPt5' transform='translate(402.0,85.9) scale(3.60)' color='rgb(255,   0,   0)'/>\n",
       "\t<use xlink:href='#gpPt5' transform='translate(415.9,85.9) scale(3.60)' color='rgb(255,   0,   0)'/>\n",
       "\t<use xlink:href='#gpPt5' transform='translate(429.8,85.9) scale(3.60)' color='rgb(255,   0,   0)'/>\n",
       "\t<use xlink:href='#gpPt5' transform='translate(443.8,85.9) scale(3.60)' color='rgb(255,   0,   0)'/>\n",
       "\t<use xlink:href='#gpPt5' transform='translate(457.7,85.9) scale(3.60)' color='rgb(255,   0,   0)'/>\n",
       "\t<use xlink:href='#gpPt5' transform='translate(471.6,92.4) scale(3.60)' color='rgb(255,   0,   0)'/>\n",
       "\t<use xlink:href='#gpPt5' transform='translate(485.5,98.7) scale(3.60)' color='rgb(255,   0,   0)'/>\n",
       "\t<use xlink:href='#gpPt5' transform='translate(499.5,98.7) scale(3.60)' color='rgb(255,   0,   0)'/>\n",
       "\t<use xlink:href='#gpPt5' transform='translate(513.4,98.7) scale(3.60)' color='rgb(255,   0,   0)'/>\n",
       "\t<use xlink:href='#gpPt5' transform='translate(527.3,98.7) scale(3.60)' color='rgb(255,   0,   0)'/>\n",
       "\t<use xlink:href='#gpPt5' transform='translate(541.2,98.7) scale(3.60)' color='rgb(255,   0,   0)'/>\n",
       "\t<use xlink:href='#gpPt5' transform='translate(555.2,98.7) scale(3.60)' color='rgb(255,   0,   0)'/>\n",
       "\t<use xlink:href='#gpPt5' transform='translate(569.1,98.7) scale(3.60)' color='rgb(255,   0,   0)'/>\n",
       "\t<use xlink:href='#gpPt5' transform='translate(583.0,98.7) scale(3.60)' color='rgb(255,   0,   0)'/>\n",
       "\t<use xlink:href='#gpPt5' transform='translate(596.9,98.7) scale(3.60)' color='rgb(255,   0,   0)'/>\n",
       "\t<use xlink:href='#gpPt5' transform='translate(610.9,113.0) scale(3.60)' color='rgb(255,   0,   0)'/>\n",
       "\t<use xlink:href='#gpPt5' transform='translate(624.8,113.0) scale(3.60)' color='rgb(255,   0,   0)'/>\n",
       "\t<use xlink:href='#gpPt5' transform='translate(638.7,113.0) scale(3.60)' color='rgb(255,   0,   0)'/>\n",
       "\t<use xlink:href='#gpPt5' transform='translate(652.6,113.0) scale(3.60)' color='rgb(255,   0,   0)'/>\n",
       "\t<use xlink:href='#gpPt5' transform='translate(666.6,113.0) scale(3.60)' color='rgb(255,   0,   0)'/>\n",
       "\t<use xlink:href='#gpPt5' transform='translate(680.5,113.0) scale(3.60)' color='rgb(255,   0,   0)'/>\n",
       "\t<use xlink:href='#gpPt5' transform='translate(694.4,113.0) scale(3.60)' color='rgb(255,   0,   0)'/>\n",
       "\t<use xlink:href='#gpPt5' transform='translate(708.3,113.0) scale(3.60)' color='rgb(255,   0,   0)'/>\n",
       "\t<use xlink:href='#gpPt5' transform='translate(722.3,113.0) scale(3.60)' color='rgb(255,   0,   0)'/>\n",
       "\t<use xlink:href='#gpPt5' transform='translate(736.2,113.0) scale(3.60)' color='rgb(255,   0,   0)'/>\n",
       "</g>\n",
       "\t</g>\n",
       "\t<g id=\"gnuplot_plot_7\" ><title>||r|| - AWp3xCells16tCells16tMax1.51sinusMach1.5sP1.5wP0ampneg0amppos1E-05wLTruewSTruewL0.8</title>\n",
       "<g fill=\"none\" color=\"black\" stroke=\"currentColor\" stroke-width=\"1.00\" stroke-linecap=\"butt\" stroke-linejoin=\"miter\">\n",
       "</g>\n",
       "<g fill=\"none\" color=\"black\" stroke=\"currentColor\" stroke-width=\"1.00\" stroke-linecap=\"butt\" stroke-linejoin=\"miter\">\n",
       "\t<path stroke='rgb(255,   0,   0)'  d='M53.9,102.9 L67.8,322.8 L81.7,412.9 L95.7,414.5 L109.6,414.8 L123.5,415.9 L137.4,416.8 L151.4,416.5\n",
       "\t\tL165.3,418.3 L179.2,418.3 L193.1,419.1 L207.1,419.1 L221.0,419.1 L234.9,419.1 L248.8,419.1 L262.8,419.1\n",
       "\t\tL276.7,419.1 L290.6,419.1 L304.5,131.4 L318.5,136.3 L332.4,146.5 L346.3,148.4 L360.2,150.1 L374.2,150.1\n",
       "\t\tL388.1,150.1 L402.0,150.1 L415.9,150.1 L429.8,150.1 L443.8,97.1 L457.7,133.1 L471.6,197.3 L485.5,197.7\n",
       "\t\tL499.5,199.7 L513.4,216.8 L527.3,237.3 L541.2,252.5 L555.2,257.4 L569.1,269.2 L583.0,133.8 L596.9,134.6\n",
       "\t\tL610.9,134.6 L624.8,134.6 L638.7,134.6 L652.6,226.2 L666.6,239.5 L680.5,239.9 L694.4,240.0 L708.3,240.0\n",
       "\t\t '/>\t<use xlink:href='#gpPt12' transform='translate(53.9,102.9) scale(3.60)' color='rgb(255,   0,   0)'/>\n",
       "\t<use xlink:href='#gpPt12' transform='translate(67.8,322.8) scale(3.60)' color='rgb(255,   0,   0)'/>\n",
       "\t<use xlink:href='#gpPt12' transform='translate(81.7,412.9) scale(3.60)' color='rgb(255,   0,   0)'/>\n",
       "\t<use xlink:href='#gpPt12' transform='translate(95.7,414.5) scale(3.60)' color='rgb(255,   0,   0)'/>\n",
       "\t<use xlink:href='#gpPt12' transform='translate(109.6,414.8) scale(3.60)' color='rgb(255,   0,   0)'/>\n",
       "\t<use xlink:href='#gpPt12' transform='translate(123.5,415.9) scale(3.60)' color='rgb(255,   0,   0)'/>\n",
       "\t<use xlink:href='#gpPt12' transform='translate(137.4,416.8) scale(3.60)' color='rgb(255,   0,   0)'/>\n",
       "\t<use xlink:href='#gpPt12' transform='translate(151.4,416.5) scale(3.60)' color='rgb(255,   0,   0)'/>\n",
       "\t<use xlink:href='#gpPt12' transform='translate(165.3,418.3) scale(3.60)' color='rgb(255,   0,   0)'/>\n",
       "\t<use xlink:href='#gpPt12' transform='translate(179.2,418.3) scale(3.60)' color='rgb(255,   0,   0)'/>\n",
       "\t<use xlink:href='#gpPt12' transform='translate(193.1,419.1) scale(3.60)' color='rgb(255,   0,   0)'/>\n",
       "\t<use xlink:href='#gpPt12' transform='translate(207.1,419.1) scale(3.60)' color='rgb(255,   0,   0)'/>\n",
       "\t<use xlink:href='#gpPt12' transform='translate(221.0,419.1) scale(3.60)' color='rgb(255,   0,   0)'/>\n",
       "\t<use xlink:href='#gpPt12' transform='translate(234.9,419.1) scale(3.60)' color='rgb(255,   0,   0)'/>\n",
       "\t<use xlink:href='#gpPt12' transform='translate(248.8,419.1) scale(3.60)' color='rgb(255,   0,   0)'/>\n",
       "\t<use xlink:href='#gpPt12' transform='translate(262.8,419.1) scale(3.60)' color='rgb(255,   0,   0)'/>\n",
       "\t<use xlink:href='#gpPt12' transform='translate(276.7,419.1) scale(3.60)' color='rgb(255,   0,   0)'/>\n",
       "\t<use xlink:href='#gpPt12' transform='translate(290.6,419.1) scale(3.60)' color='rgb(255,   0,   0)'/>\n",
       "\t<use xlink:href='#gpPt12' transform='translate(304.5,131.4) scale(3.60)' color='rgb(255,   0,   0)'/>\n",
       "\t<use xlink:href='#gpPt12' transform='translate(318.5,136.3) scale(3.60)' color='rgb(255,   0,   0)'/>\n",
       "\t<use xlink:href='#gpPt12' transform='translate(332.4,146.5) scale(3.60)' color='rgb(255,   0,   0)'/>\n",
       "\t<use xlink:href='#gpPt12' transform='translate(346.3,148.4) scale(3.60)' color='rgb(255,   0,   0)'/>\n",
       "\t<use xlink:href='#gpPt12' transform='translate(360.2,150.1) scale(3.60)' color='rgb(255,   0,   0)'/>\n",
       "\t<use xlink:href='#gpPt12' transform='translate(374.2,150.1) scale(3.60)' color='rgb(255,   0,   0)'/>\n",
       "\t<use xlink:href='#gpPt12' transform='translate(388.1,150.1) scale(3.60)' color='rgb(255,   0,   0)'/>\n",
       "\t<use xlink:href='#gpPt12' transform='translate(402.0,150.1) scale(3.60)' color='rgb(255,   0,   0)'/>\n",
       "\t<use xlink:href='#gpPt12' transform='translate(415.9,150.1) scale(3.60)' color='rgb(255,   0,   0)'/>\n",
       "\t<use xlink:href='#gpPt12' transform='translate(429.8,150.1) scale(3.60)' color='rgb(255,   0,   0)'/>\n",
       "\t<use xlink:href='#gpPt12' transform='translate(443.8,97.1) scale(3.60)' color='rgb(255,   0,   0)'/>\n",
       "\t<use xlink:href='#gpPt12' transform='translate(457.7,133.1) scale(3.60)' color='rgb(255,   0,   0)'/>\n",
       "\t<use xlink:href='#gpPt12' transform='translate(471.6,197.3) scale(3.60)' color='rgb(255,   0,   0)'/>\n",
       "\t<use xlink:href='#gpPt12' transform='translate(485.5,197.7) scale(3.60)' color='rgb(255,   0,   0)'/>\n",
       "\t<use xlink:href='#gpPt12' transform='translate(499.5,199.7) scale(3.60)' color='rgb(255,   0,   0)'/>\n",
       "\t<use xlink:href='#gpPt12' transform='translate(513.4,216.8) scale(3.60)' color='rgb(255,   0,   0)'/>\n",
       "\t<use xlink:href='#gpPt12' transform='translate(527.3,237.3) scale(3.60)' color='rgb(255,   0,   0)'/>\n",
       "\t<use xlink:href='#gpPt12' transform='translate(541.2,252.5) scale(3.60)' color='rgb(255,   0,   0)'/>\n",
       "\t<use xlink:href='#gpPt12' transform='translate(555.2,257.4) scale(3.60)' color='rgb(255,   0,   0)'/>\n",
       "\t<use xlink:href='#gpPt12' transform='translate(569.1,269.2) scale(3.60)' color='rgb(255,   0,   0)'/>\n",
       "\t<use xlink:href='#gpPt12' transform='translate(583.0,133.8) scale(3.60)' color='rgb(255,   0,   0)'/>\n",
       "\t<use xlink:href='#gpPt12' transform='translate(596.9,134.6) scale(3.60)' color='rgb(255,   0,   0)'/>\n",
       "\t<use xlink:href='#gpPt12' transform='translate(610.9,134.6) scale(3.60)' color='rgb(255,   0,   0)'/>\n",
       "\t<use xlink:href='#gpPt12' transform='translate(624.8,134.6) scale(3.60)' color='rgb(255,   0,   0)'/>\n",
       "\t<use xlink:href='#gpPt12' transform='translate(638.7,134.6) scale(3.60)' color='rgb(255,   0,   0)'/>\n",
       "\t<use xlink:href='#gpPt12' transform='translate(652.6,226.2) scale(3.60)' color='rgb(255,   0,   0)'/>\n",
       "\t<use xlink:href='#gpPt12' transform='translate(666.6,239.5) scale(3.60)' color='rgb(255,   0,   0)'/>\n",
       "\t<use xlink:href='#gpPt12' transform='translate(680.5,239.9) scale(3.60)' color='rgb(255,   0,   0)'/>\n",
       "\t<use xlink:href='#gpPt12' transform='translate(694.4,240.0) scale(3.60)' color='rgb(255,   0,   0)'/>\n",
       "\t<use xlink:href='#gpPt12' transform='translate(708.3,240.0) scale(3.60)' color='rgb(255,   0,   0)'/>\n",
       "</g>\n",
       "\t</g>\n",
       "\t<g id=\"gnuplot_plot_8\" ><title>EnResAWp3xCells16tCells16tMax1.51sinusMach1.5sP1.5wP0ampneg0amppos1E-05wLTruewSTruewL0.8</title>\n",
       "<g fill=\"none\" color=\"black\" stroke=\"currentColor\" stroke-width=\"1.00\" stroke-linecap=\"butt\" stroke-linejoin=\"miter\">\n",
       "</g>\n",
       "<g fill=\"none\" color=\"black\" stroke=\"currentColor\" stroke-width=\"1.00\" stroke-linecap=\"butt\" stroke-linejoin=\"miter\">\n",
       "\t<path stroke='rgb(  0,   0, 255)'  d='M53.9,92.4 L67.8,92.6 L81.7,92.6 L95.7,92.6 L109.6,92.6 L123.5,92.6 L137.4,92.6 L151.4,92.6\n",
       "\t\tL165.3,92.6 L179.2,92.6 L193.1,92.6 L207.1,92.6 L221.0,92.6 L234.9,92.6 L248.8,92.6 L262.8,92.6\n",
       "\t\tL276.7,92.6 L290.6,92.6 L304.5,90.0 L318.5,90.0 L332.4,90.0 L346.3,90.0 L360.2,90.1 L374.2,90.1\n",
       "\t\tL388.1,90.1 L402.0,90.1 L415.9,90.1 L429.8,90.1 L443.8,84.6 L457.7,92.0 L471.6,92.1 L485.5,92.1\n",
       "\t\tL499.5,92.1 L513.4,92.1 L527.3,92.1 L541.2,92.1 L555.2,92.1 L569.1,92.1 L583.0,95.9 L596.9,96.0\n",
       "\t\tL610.9,96.0 L624.8,96.0 L638.7,96.0 L652.6,96.0 L666.6,96.0 L680.5,96.0 L694.4,96.0 L708.3,96.0\n",
       "\t\t '/>\t<use xlink:href='#gpPt8' transform='translate(53.9,92.4) scale(3.60)' color='rgb(  0,   0, 255)'/>\n",
       "\t<use xlink:href='#gpPt8' transform='translate(67.8,92.6) scale(3.60)' color='rgb(  0,   0, 255)'/>\n",
       "\t<use xlink:href='#gpPt8' transform='translate(81.7,92.6) scale(3.60)' color='rgb(  0,   0, 255)'/>\n",
       "\t<use xlink:href='#gpPt8' transform='translate(95.7,92.6) scale(3.60)' color='rgb(  0,   0, 255)'/>\n",
       "\t<use xlink:href='#gpPt8' transform='translate(109.6,92.6) scale(3.60)' color='rgb(  0,   0, 255)'/>\n",
       "\t<use xlink:href='#gpPt8' transform='translate(123.5,92.6) scale(3.60)' color='rgb(  0,   0, 255)'/>\n",
       "\t<use xlink:href='#gpPt8' transform='translate(137.4,92.6) scale(3.60)' color='rgb(  0,   0, 255)'/>\n",
       "\t<use xlink:href='#gpPt8' transform='translate(151.4,92.6) scale(3.60)' color='rgb(  0,   0, 255)'/>\n",
       "\t<use xlink:href='#gpPt8' transform='translate(165.3,92.6) scale(3.60)' color='rgb(  0,   0, 255)'/>\n",
       "\t<use xlink:href='#gpPt8' transform='translate(179.2,92.6) scale(3.60)' color='rgb(  0,   0, 255)'/>\n",
       "\t<use xlink:href='#gpPt8' transform='translate(193.1,92.6) scale(3.60)' color='rgb(  0,   0, 255)'/>\n",
       "\t<use xlink:href='#gpPt8' transform='translate(207.1,92.6) scale(3.60)' color='rgb(  0,   0, 255)'/>\n",
       "\t<use xlink:href='#gpPt8' transform='translate(221.0,92.6) scale(3.60)' color='rgb(  0,   0, 255)'/>\n",
       "\t<use xlink:href='#gpPt8' transform='translate(234.9,92.6) scale(3.60)' color='rgb(  0,   0, 255)'/>\n",
       "\t<use xlink:href='#gpPt8' transform='translate(248.8,92.6) scale(3.60)' color='rgb(  0,   0, 255)'/>\n",
       "\t<use xlink:href='#gpPt8' transform='translate(262.8,92.6) scale(3.60)' color='rgb(  0,   0, 255)'/>\n",
       "\t<use xlink:href='#gpPt8' transform='translate(276.7,92.6) scale(3.60)' color='rgb(  0,   0, 255)'/>\n",
       "\t<use xlink:href='#gpPt8' transform='translate(290.6,92.6) scale(3.60)' color='rgb(  0,   0, 255)'/>\n",
       "\t<use xlink:href='#gpPt8' transform='translate(304.5,90.0) scale(3.60)' color='rgb(  0,   0, 255)'/>\n",
       "\t<use xlink:href='#gpPt8' transform='translate(318.5,90.0) scale(3.60)' color='rgb(  0,   0, 255)'/>\n",
       "\t<use xlink:href='#gpPt8' transform='translate(332.4,90.0) scale(3.60)' color='rgb(  0,   0, 255)'/>\n",
       "\t<use xlink:href='#gpPt8' transform='translate(346.3,90.0) scale(3.60)' color='rgb(  0,   0, 255)'/>\n",
       "\t<use xlink:href='#gpPt8' transform='translate(360.2,90.1) scale(3.60)' color='rgb(  0,   0, 255)'/>\n",
       "\t<use xlink:href='#gpPt8' transform='translate(374.2,90.1) scale(3.60)' color='rgb(  0,   0, 255)'/>\n",
       "\t<use xlink:href='#gpPt8' transform='translate(388.1,90.1) scale(3.60)' color='rgb(  0,   0, 255)'/>\n",
       "\t<use xlink:href='#gpPt8' transform='translate(402.0,90.1) scale(3.60)' color='rgb(  0,   0, 255)'/>\n",
       "\t<use xlink:href='#gpPt8' transform='translate(415.9,90.1) scale(3.60)' color='rgb(  0,   0, 255)'/>\n",
       "\t<use xlink:href='#gpPt8' transform='translate(429.8,90.1) scale(3.60)' color='rgb(  0,   0, 255)'/>\n",
       "\t<use xlink:href='#gpPt8' transform='translate(443.8,84.6) scale(3.60)' color='rgb(  0,   0, 255)'/>\n",
       "\t<use xlink:href='#gpPt8' transform='translate(457.7,92.0) scale(3.60)' color='rgb(  0,   0, 255)'/>\n",
       "\t<use xlink:href='#gpPt8' transform='translate(471.6,92.1) scale(3.60)' color='rgb(  0,   0, 255)'/>\n",
       "\t<use xlink:href='#gpPt8' transform='translate(485.5,92.1) scale(3.60)' color='rgb(  0,   0, 255)'/>\n",
       "\t<use xlink:href='#gpPt8' transform='translate(499.5,92.1) scale(3.60)' color='rgb(  0,   0, 255)'/>\n",
       "\t<use xlink:href='#gpPt8' transform='translate(513.4,92.1) scale(3.60)' color='rgb(  0,   0, 255)'/>\n",
       "\t<use xlink:href='#gpPt8' transform='translate(527.3,92.1) scale(3.60)' color='rgb(  0,   0, 255)'/>\n",
       "\t<use xlink:href='#gpPt8' transform='translate(541.2,92.1) scale(3.60)' color='rgb(  0,   0, 255)'/>\n",
       "\t<use xlink:href='#gpPt8' transform='translate(555.2,92.1) scale(3.60)' color='rgb(  0,   0, 255)'/>\n",
       "\t<use xlink:href='#gpPt8' transform='translate(569.1,92.1) scale(3.60)' color='rgb(  0,   0, 255)'/>\n",
       "\t<use xlink:href='#gpPt8' transform='translate(583.0,95.9) scale(3.60)' color='rgb(  0,   0, 255)'/>\n",
       "\t<use xlink:href='#gpPt8' transform='translate(596.9,96.0) scale(3.60)' color='rgb(  0,   0, 255)'/>\n",
       "\t<use xlink:href='#gpPt8' transform='translate(610.9,96.0) scale(3.60)' color='rgb(  0,   0, 255)'/>\n",
       "\t<use xlink:href='#gpPt8' transform='translate(624.8,96.0) scale(3.60)' color='rgb(  0,   0, 255)'/>\n",
       "\t<use xlink:href='#gpPt8' transform='translate(638.7,96.0) scale(3.60)' color='rgb(  0,   0, 255)'/>\n",
       "\t<use xlink:href='#gpPt8' transform='translate(652.6,96.0) scale(3.60)' color='rgb(  0,   0, 255)'/>\n",
       "\t<use xlink:href='#gpPt8' transform='translate(666.6,96.0) scale(3.60)' color='rgb(  0,   0, 255)'/>\n",
       "\t<use xlink:href='#gpPt8' transform='translate(680.5,96.0) scale(3.60)' color='rgb(  0,   0, 255)'/>\n",
       "\t<use xlink:href='#gpPt8' transform='translate(694.4,96.0) scale(3.60)' color='rgb(  0,   0, 255)'/>\n",
       "\t<use xlink:href='#gpPt8' transform='translate(708.3,96.0) scale(3.60)' color='rgb(  0,   0, 255)'/>\n",
       "</g>\n",
       "\t</g>\n",
       "<g fill=\"none\" color=\"#FFFFFF\" stroke=\"rgb(  0,   0, 255)\" stroke-width=\"2.00\" stroke-linecap=\"butt\" stroke-linejoin=\"miter\">\n",
       "</g>\n",
       "<g fill=\"none\" color=\"black\" stroke=\"currentColor\" stroke-width=\"2.00\" stroke-linecap=\"butt\" stroke-linejoin=\"miter\">\n",
       "</g>\n",
       "<g fill=\"none\" color=\"black\" stroke=\"black\" stroke-width=\"1.00\" stroke-linecap=\"butt\" stroke-linejoin=\"miter\">\n",
       "</g>\n",
       "<g fill=\"none\" color=\"black\" stroke=\"currentColor\" stroke-width=\"1.00\" stroke-linecap=\"butt\" stroke-linejoin=\"miter\">\n",
       "\t<path stroke='black'  d='M53.9,36.1 L53.9,442.4 L750.1,442.4 L750.1,36.1 L53.9,36.1 Z  '/></g>\n",
       "<g fill=\"none\" color=\"black\" stroke=\"currentColor\" stroke-width=\"1.00\" stroke-linecap=\"butt\" stroke-linejoin=\"miter\">\n",
       "</g>\n",
       "</g>\n",
       "</svg>\n",
       "\n"
      ]
     },
     "metadata": {},
     "output_type": "display_data"
    }
   ],
   "source": [
    "\n",
    "using BoSSS.Solution.Tecplot;\n",
    "using System.IO;\n",
    "//Directory.GetFiles(\".\", \"*.plt\").ForEach(file => File.Delete(file));\n",
    "var allEE = new List<List<double>>();\n",
    "var plot = new Plot2Ddata();\n",
    "int count=0;\n",
    "foreach(var si in sessions){\n",
    "    var enthalpyerrors = new List<double>();\n",
    "    IDTTimeStepInfo lts= (IDTTimeStepInfo)((TimestepProxy) si.Timesteps.Last()).GetInternal();\n",
    "    plot.AddDataGroup(\"||r|| - \"+ si.Name,lts.TimeStepNumbers,lts.ResHistory, GetFormat(count));\n",
    "    count++;\n",
    "    plot.AddDataGroup(\"EnRes_\"+si.Name,lts.TimeStepNumbers,lts.EnResHistory, GetFormat(count));\n",
    "    count++;\n",
    "}\n",
    "\n",
    "plot.Xlabel=\"Iteration\";\n",
    "plot.LogY = true;\n",
    "plot.ShowXtics = true;\n",
    "plot.ToGnuplot().PlotSVG(xRes:800,yRes:500)"
   ]
  },
  {
   "cell_type": "markdown",
   "metadata": {},
   "source": [
    "helper function to evaluate the XDG field along a x-ray for a specific time"
   ]
  },
  {
   "cell_type": "code",
   "execution_count": 27,
   "metadata": {
    "dotnet_interactive": {
     "language": "csharp"
    },
    "polyglot_notebook": {
     "kernelName": "csharp"
    }
   },
   "outputs": [],
   "source": [
    "(double[] tVals, double[]yVals) GetPlotAlongXRay(double tMin,double tMax, double x, int nRef,string field,ITimestepInfo ti){\n",
    "//double shockPosition=0.5;\n",
    "var p1= new double[] {x,tMin};\n",
    "var p2=new double[] {x,tMax};\n",
    "\n",
    "//timesteps to compare\n",
    "\n",
    "// # use p_per from BoSSS \n",
    "var pEnd =ti.GetField(field);\n",
    "double[] yVals=pEnd.EvaluateAlongLine(p1,p2,nRef);\n",
    "double[] tVals= GenericBlas.Linspace(tMin,tMax,nRef);\n",
    "return(tVals,yVals);\n",
    "}\n"
   ]
  },
  {
   "cell_type": "markdown",
   "metadata": {},
   "source": [
    "helper function to evaluate the XDG field along a t-ray for a point x"
   ]
  },
  {
   "cell_type": "code",
   "execution_count": 28,
   "metadata": {
    "dotnet_interactive": {
     "language": "csharp"
    },
    "polyglot_notebook": {
     "kernelName": "csharp"
    }
   },
   "outputs": [],
   "source": [
    "(double[] xVals, double[]yVals) GetPlotAlongTRay(double xMin,double xMax, double t, int nRef,string field,ITimestepInfo ti){\n",
    "//double shockPosition=0.5;\n",
    "var p1= new double[] {xMin,t};\n",
    "var p2=new double[] {xMax,t};\n",
    "\n",
    "//timesteps to compare\n",
    "\n",
    "// # use p_per from BoSSS \n",
    "var pEnd =ti.GetField(field);\n",
    "double[] yVals=pEnd.EvaluateAlongLine(p1,p2,nRef);\n",
    "double[] xVals= GenericBlas.Linspace(xMin,xMax,nRef);\n",
    "return(xVals,yVals);\n",
    "}"
   ]
  },
  {
   "cell_type": "markdown",
   "metadata": {},
   "source": [
    "helper function to compute the error metrics (i.e. the deviation of each amplitude from the exact amplification/reduction factor)"
   ]
  },
  {
   "cell_type": "code",
   "execution_count": 29,
   "metadata": {
    "dotnet_interactive": {
     "language": "csharp"
    },
    "polyglot_notebook": {
     "kernelName": "csharp"
    }
   },
   "outputs": [
    {
     "data": {
      "text/html": [
       "<div class=\"dni-plaintext\"><pre>[ 1.800001, 1.8500005, 1.9, 1.9499995, 1.999999 ]</pre></div><style>\r\n",
       ".dni-code-hint {\r\n",
       "    font-style: italic;\r\n",
       "    overflow: hidden;\r\n",
       "    white-space: nowrap;\r\n",
       "}\r\n",
       ".dni-treeview {\r\n",
       "    white-space: nowrap;\r\n",
       "}\r\n",
       ".dni-treeview td {\r\n",
       "    vertical-align: top;\r\n",
       "    text-align: start;\r\n",
       "}\r\n",
       "details.dni-treeview {\r\n",
       "    padding-left: 1em;\r\n",
       "}\r\n",
       "table td {\r\n",
       "    text-align: start;\r\n",
       "}\r\n",
       "table tr { \r\n",
       "    vertical-align: top; \r\n",
       "    margin: 0em 0px;\r\n",
       "}\r\n",
       "table tr td pre \r\n",
       "{ \r\n",
       "    vertical-align: top !important; \r\n",
       "    margin: 0em 0px !important;\r\n",
       "} \r\n",
       "table th {\r\n",
       "    text-align: start;\r\n",
       "}\r\n",
       "</style>"
      ]
     },
     "metadata": {},
     "output_type": "display_data"
    }
   ],
   "source": [
    "List<double> ComputeAmpErrors(double tMin,double tMax, double xMin, double xMax, int xRef, int tRef,string field,ITimestepInfo ti, bool isMax,double exact_amp_fac){\n",
    "    if(true){\n",
    "        var xVals= GenericBlas.Linspace(xMin,xMax,xRef);\n",
    "        var maxminVals = new List<double>();\n",
    "        foreach(var x in xVals ){\n",
    "            (double[] tVals, double[] yVals)=GetPlotAlongXRay(tMin,tMax,x,tRef,field,ti);\n",
    "            if(isMax){\n",
    "                maxminVals.Add(Math.Abs((exact_amp_fac-yVals.Max())/exact_amp_fac));\n",
    "            }else{\n",
    "                maxminVals.Add(Math.Abs((exact_amp_fac-yVals.Min())/exact_amp_fac));\n",
    "            }\n",
    "        }\n",
    "        return maxminVals;\n",
    "    }else{\n",
    "        var pEnd =ti.GetField(field);\n",
    "        var fullcm= CellMask.GetFullMask(pEnd.GridDat);\n",
    "        var ba= new bool[fullcm.ItemEnum.Count()];\n",
    "        \n",
    "        var bb = new BoSSS.Platform.Utils.Geom.BoundingBox(new double[,] {{0,0},{1,1}});\n",
    "        foreach(var cell in fullcm.ItemEnum){\n",
    "            pEnd.GridDat.iGeomCells.GetCellBoundingBox(cell, bb);\n",
    "            var min = bb.Min;\n",
    "            if(!isMax){\n",
    "                if( min[0]>=xMin && min[0]<=xMax){\n",
    "                    ba[cell]=true;\n",
    "                };\n",
    "            }else{\n",
    "                if( min[0]>=xMin && min[0]<=xMax ){\n",
    "                    ba[cell]=true;\n",
    "                };\n",
    "            }\n",
    "\n",
    "        }\n",
    "        var cm =new CellMask(pEnd.GridDat,new BitArray(ba));\n",
    "        var valMin=new double[cm.ItemEnum.Count()];\n",
    "        var valMax=new double[cm.ItemEnum.Count()];\n",
    "        pEnd.GetCellwiseExtremalValues(valMin, valMax,cm);\n",
    "        List<double> maxminVals;\n",
    "        if(isMax){\n",
    "            maxminVals=new List<double> {Math.Abs((exact_amp_fac-valMax.Max())/exact_amp_fac)};\n",
    "        }else{\n",
    "            maxminVals=new List<double> {Math.Abs((exact_amp_fac-valMin.Min())/exact_amp_fac)};\n",
    "        }\n",
    "        return maxminVals;\n",
    "    }\n",
    "    \n",
    "}\n",
    "\n",
    "var eps=0.000001;\n",
    "double xMin=1.8 +eps;double xMax=2.0-eps; int xRef=5; \n",
    "double tMin =0 + eps;int tRef=800;\n",
    "GenericBlas.Linspace(xMin,xMax,xRef)"
   ]
  },
  {
   "cell_type": "code",
   "execution_count": 30,
   "metadata": {
    "dotnet_interactive": {
     "language": "csharp"
    },
    "polyglot_notebook": {
     "kernelName": "csharp"
    }
   },
   "outputs": [
    {
     "data": {
      "text/plain": [
       "#0: XESTSF_AcousticWave1D\tAW_p3_xCells121_tCells121_tMax1.5_1sinus_Mach1.5_sP1.5_wP0_ampneg0_amppos1E-05_wLTrue_wSTrue_wL0.8\t5/5/2024 4:15:45 PM\t0db8d5ad...\r\n",
       "#1: XESTSF_AcousticWave1D\tAW_p3_xCells61_tCells61_tMax1.5_1sinus_Mach1.5_sP1.5_wP0_ampneg0_amppos1E-05_wLTrue_wSTrue_wL0.8\t5/5/2024 4:15:31 PM\tf2364944...\r\n",
       "#2: XESTSF_AcousticWave1D\tAW_p3_xCells31_tCells31_tMax1.5_1sinus_Mach1.5_sP1.5_wP0_ampneg0_amppos1E-05_wLTrue_wSTrue_wL0.8\t5/5/2024 4:15:15 PM\t7c29fe91...\r\n",
       "#3: XESTSF_AcousticWave1D\tAW_p3_xCells16_tCells16_tMax1.5_1sinus_Mach1.5_sP1.5_wP0_ampneg0_amppos1E-05_wLTrue_wSTrue_wL0.8\t5/5/2024 4:15:01 PM\t570b6f7f...\r\n"
      ]
     },
     "metadata": {},
     "output_type": "display_data"
    }
   ],
   "source": [
    "var ses= sessions;\n",
    "ses"
   ]
  },
  {
   "attachments": {},
   "cell_type": "markdown",
   "metadata": {},
   "source": [
    "choose the sessions"
   ]
  },
  {
   "attachments": {},
   "cell_type": "markdown",
   "metadata": {},
   "source": [
    "they must be reordered for the plot to work..."
   ]
  },
  {
   "cell_type": "code",
   "execution_count": 31,
   "metadata": {
    "dotnet_interactive": {
     "language": "csharp"
    },
    "polyglot_notebook": {
     "kernelName": "csharp"
    }
   },
   "outputs": [
    {
     "data": {
      "text/plain": [
       "#0: XESTSF_AcousticWave1D\tAW_p3_xCells16_tCells16_tMax1.5_1sinus_Mach1.5_sP1.5_wP0_ampneg0_amppos1E-05_wLTrue_wSTrue_wL0.8\t5/5/2024 4:15:01 PM\t570b6f7f...\r\n",
       "#1: XESTSF_AcousticWave1D\tAW_p3_xCells31_tCells31_tMax1.5_1sinus_Mach1.5_sP1.5_wP0_ampneg0_amppos1E-05_wLTrue_wSTrue_wL0.8\t5/5/2024 4:15:15 PM\t7c29fe91...\r\n",
       "#2: XESTSF_AcousticWave1D\tAW_p3_xCells61_tCells61_tMax1.5_1sinus_Mach1.5_sP1.5_wP0_ampneg0_amppos1E-05_wLTrue_wSTrue_wL0.8\t5/5/2024 4:15:31 PM\tf2364944...\r\n",
       "#3: XESTSF_AcousticWave1D\tAW_p3_xCells121_tCells121_tMax1.5_1sinus_Mach1.5_sP1.5_wP0_ampneg0_amppos1E-05_wLTrue_wSTrue_wL0.8\t5/5/2024 4:15:45 PM\t0db8d5ad...\r\n"
      ]
     },
     "metadata": {},
     "output_type": "display_data"
    }
   ],
   "source": [
    "var ses= sessions;\n",
    "ses = ses.OrderBy(si => si.GetGrids().Pick(0).NumberOfCells);\n",
    "ses"
   ]
  },
  {
   "cell_type": "markdown",
   "metadata": {},
   "source": [
    "Number of cells"
   ]
  },
  {
   "cell_type": "code",
   "execution_count": 32,
   "metadata": {
    "dotnet_interactive": {
     "language": "csharp"
    },
    "polyglot_notebook": {
     "kernelName": "csharp"
    }
   },
   "outputs": [
    {
     "data": {
      "text/html": [
       "<div class=\"dni-plaintext\"><pre>[ 256, 961, 3721, 14641 ]</pre></div><style>\r\n",
       ".dni-code-hint {\r\n",
       "    font-style: italic;\r\n",
       "    overflow: hidden;\r\n",
       "    white-space: nowrap;\r\n",
       "}\r\n",
       ".dni-treeview {\r\n",
       "    white-space: nowrap;\r\n",
       "}\r\n",
       ".dni-treeview td {\r\n",
       "    vertical-align: top;\r\n",
       "    text-align: start;\r\n",
       "}\r\n",
       "details.dni-treeview {\r\n",
       "    padding-left: 1em;\r\n",
       "}\r\n",
       "table td {\r\n",
       "    text-align: start;\r\n",
       "}\r\n",
       "table tr { \r\n",
       "    vertical-align: top; \r\n",
       "    margin: 0em 0px;\r\n",
       "}\r\n",
       "table tr td pre \r\n",
       "{ \r\n",
       "    vertical-align: top !important; \r\n",
       "    margin: 0em 0px !important;\r\n",
       "} \r\n",
       "table th {\r\n",
       "    text-align: start;\r\n",
       "}\r\n",
       "</style>"
      ]
     },
     "metadata": {},
     "output_type": "display_data"
    }
   ],
   "source": [
    "int[] Cells = ses.Select(si => si.GetGrids().Pick(0).NumberOfCells).ToArray();\n",
    "Cells"
   ]
  },
  {
   "cell_type": "markdown",
   "metadata": {},
   "source": [
    "helper arrays"
   ]
  },
  {
   "cell_type": "code",
   "execution_count": 33,
   "metadata": {
    "dotnet_interactive": {
     "language": "csharp"
    },
    "polyglot_notebook": {
     "kernelName": "csharp"
    }
   },
   "outputs": [],
   "source": [
    "int[] degs = new int[] {0,1,2,3};\n",
    "//degs = new int[] {0};\n",
    "var errors_array= MultidimensionalArray.Create(degs.Count(),ses.Count());\n"
   ]
  },
  {
   "cell_type": "markdown",
   "metadata": {},
   "source": [
    "Function used to calculate the EOCs"
   ]
  },
  {
   "cell_type": "code",
   "execution_count": 34,
   "metadata": {
    "dotnet_interactive": {
     "language": "csharp"
    },
    "polyglot_notebook": {
     "kernelName": "csharp"
    }
   },
   "outputs": [],
   "source": [
    "double ApproxSlope(List<double> errors, List<double> cellSize) {\n",
    "    var slopes = new List<double>();\n",
    "    double EOC;\n",
    "    for (int i = 0; i < errors.Count - 1; i++) {\n",
    "        double ratio = errors[i] / errors[i + 1];\n",
    "        double slope = Math.Log(ratio) / Math.Log(cellSize[i] / cellSize[i + 1]);\n",
    "        slopes.Add(slope);\n",
    "    }\n",
    "    if (slopes.Count > 0) {\n",
    "        EOC = slopes.Average();\n",
    "    } else {\n",
    "        EOC = 0;\n",
    "    }\n",
    "    return EOC;\n",
    "}"
   ]
  },
  {
   "cell_type": "markdown",
   "metadata": {},
   "source": [
    "Function used to compute the ideal convergence plot"
   ]
  },
  {
   "cell_type": "code",
   "execution_count": 35,
   "metadata": {
    "dotnet_interactive": {
     "language": "csharp"
    },
    "polyglot_notebook": {
     "kernelName": "csharp"
    }
   },
   "outputs": [],
   "source": [
    "List<double> GetIdealConvPlot(List<double> errors,List<double> cellSize, int p){\n",
    "        var idealErrors = new List<double>();\n",
    "\n",
    "    // Calculate ideal errors for each cell size\n",
    "    for (int i = 0; i < cellSize.Count; i++)\n",
    "    {\n",
    "        double idealError = errors[0] * Math.Pow(cellSize[i] / cellSize[0], p + 1);\n",
    "        idealErrors.Add(idealError);\n",
    "    }\n",
    "\n",
    "    return idealErrors;\n",
    "} "
   ]
  },
  {
   "cell_type": "markdown",
   "metadata": {},
   "source": [
    "compute the exact analytical pressure amplification/reduction factor for both cases investigated"
   ]
  },
  {
   "cell_type": "code",
   "execution_count": 36,
   "metadata": {
    "dotnet_interactive": {
     "language": "csharp"
    },
    "polyglot_notebook": {
     "kernelName": "csharp"
    }
   },
   "outputs": [
    {
     "data": {
      "text/html": [
       "<details open=\"open\" class=\"dni-treeview\"><summary><span class=\"dni-code-hint\"><code>(2.154925878735875, -0.01484811194806477)</code></span></summary><div><table><thead><tr></tr></thead><tbody><tr><td>Item1</td><td>2.154925878735875</td></tr><tr><td>Item2</td><td>-0.01484811194806477</td></tr></tbody></table></div></details><style>\r\n",
       ".dni-code-hint {\r\n",
       "    font-style: italic;\r\n",
       "    overflow: hidden;\r\n",
       "    white-space: nowrap;\r\n",
       "}\r\n",
       ".dni-treeview {\r\n",
       "    white-space: nowrap;\r\n",
       "}\r\n",
       ".dni-treeview td {\r\n",
       "    vertical-align: top;\r\n",
       "    text-align: start;\r\n",
       "}\r\n",
       "details.dni-treeview {\r\n",
       "    padding-left: 1em;\r\n",
       "}\r\n",
       "table td {\r\n",
       "    text-align: start;\r\n",
       "}\r\n",
       "table tr { \r\n",
       "    vertical-align: top; \r\n",
       "    margin: 0em 0px;\r\n",
       "}\r\n",
       "table tr td pre \r\n",
       "{ \r\n",
       "    vertical-align: top !important; \r\n",
       "    margin: 0em 0px !important;\r\n",
       "} \r\n",
       "table th {\r\n",
       "    text-align: start;\r\n",
       "}\r\n",
       "</style>"
      ]
     },
     "metadata": {},
     "output_type": "display_data"
    }
   ],
   "source": [
    "// Given variables\n",
    "var MBaseL = 1.5; // Base Mach number on the left\n",
    "var gamma = 1.4; //Specific heat ratio\n",
    "\n",
    "// Calculate right Mach number (Mach_R)\n",
    "var MBaseR  = Math.Sqrt((1 + ((gamma-1)/2) * MBaseL*MBaseL) / (gamma * MBaseL*MBaseL - (gamma-1)/2));\n",
    "\n",
    "// Upstream fast acoustic wave amplification coefficient\n",
    "var delta_pPrR_over_delta_pPrL = ((1+MBaseL)*(1+MBaseL)) / (1+2*MBaseR+1/MBaseL/MBaseL) * (1 - ((gamma-1)/(gamma+1)) * (1-(1/MBaseL))* (1-(1/MBaseL)));\n",
    "\n",
    "// Downstream slow acoustic wave amplification coefficient\n",
    "var delta_pPrR_over_delta_pPrMiR = -(1- 2*MBaseR +1 / MBaseL/MBaseL) / (1+ 2*MBaseR +1 / MBaseL/ MBaseL);\n",
    "(delta_pPrR_over_delta_pPrL,delta_pPrR_over_delta_pPrMiR)"
   ]
  },
  {
   "cell_type": "markdown",
   "metadata": {},
   "source": [
    "Create the convergence plot"
   ]
  },
  {
   "cell_type": "code",
   "execution_count": 37,
   "metadata": {
    "dotnet_interactive": {
     "language": "csharp"
    },
    "polyglot_notebook": {
     "kernelName": "csharp"
    }
   },
   "outputs": [
    {
     "data": {
      "text/html": [
       "<?xml version=\"1.0\" encoding=\"utf-8\"  standalone=\"no\"?>\n",
       "<!DOCTYPE svg PUBLIC \"-//W3C//DTD SVG 1.1//EN\"\n",
       " \"http://www.w3.org/Graphics/SVG/1.1/DTD/svg11.dtd\">\n",
       "<svg \n",
       " width=\"1200\" height=\"500\"\n",
       " viewBox=\"0 0 1200 500\"\n",
       " xmlns=\"http://www.w3.org/2000/svg\"\n",
       " xmlns:xlink=\"http://www.w3.org/1999/xlink\"\n",
       ">\n",
       "\n",
       "<title>Gnuplot</title>\n",
       "<desc>Produced by GNUPLOT 5.1 patchlevel 0 </desc>\n",
       "\n",
       "<g id=\"gnuplot_canvas\">\n",
       "\n",
       "<rect x=\"0\" y=\"0\" width=\"1200\" height=\"500\" fill=\"#ffffff\"/>\n",
       "<defs>\n",
       "\n",
       "\t<circle id='gpDot' r='0.5' stroke-width='0.5'/>\n",
       "\t<path id='gpPt0' stroke-width='0.222' stroke='currentColor' d='M-1,0 h2 M0,-1 v2'/>\n",
       "\t<path id='gpPt1' stroke-width='0.222' stroke='currentColor' d='M-1,-1 L1,1 M1,-1 L-1,1'/>\n",
       "\t<path id='gpPt2' stroke-width='0.222' stroke='currentColor' d='M-1,0 L1,0 M0,-1 L0,1 M-1,-1 L1,1 M-1,1 L1,-1'/>\n",
       "\t<rect id='gpPt3' stroke-width='0.222' stroke='currentColor' x='-1' y='-1' width='2' height='2'/>\n",
       "\t<rect id='gpPt4' stroke-width='0.222' stroke='currentColor' fill='currentColor' x='-1' y='-1' width='2' height='2'/>\n",
       "\t<circle id='gpPt5' stroke-width='0.222' stroke='currentColor' cx='0' cy='0' r='1'/>\n",
       "\t<use xlink:href='#gpPt5' id='gpPt6' fill='currentColor' stroke='none'/>\n",
       "\t<path id='gpPt7' stroke-width='0.222' stroke='currentColor' d='M0,-1.33 L-1.33,0.67 L1.33,0.67 z'/>\n",
       "\t<use xlink:href='#gpPt7' id='gpPt8' fill='currentColor' stroke='none'/>\n",
       "\t<use xlink:href='#gpPt7' id='gpPt9' stroke='currentColor' transform='rotate(180)'/>\n",
       "\t<use xlink:href='#gpPt9' id='gpPt10' fill='currentColor' stroke='none'/>\n",
       "\t<use xlink:href='#gpPt3' id='gpPt11' stroke='currentColor' transform='rotate(45)'/>\n",
       "\t<use xlink:href='#gpPt11' id='gpPt12' fill='currentColor' stroke='none'/>\n",
       "\t<path id='gpPt13' stroke-width='0.222' stroke='currentColor' d='M0,1.330 L1.265,0.411 L0.782,-1.067 L-0.782,-1.076 L-1.265,0.411 z'/>\n",
       "\t<use xlink:href='#gpPt13' id='gpPt14' fill='currentColor' stroke='none'/>\n",
       "\t<filter id='textbox' filterUnits='objectBoundingBox' x='0' y='0' height='1' width='1'>\n",
       "\t  <feFlood flood-color='#FFFFFF' flood-opacity='1' result='bgnd'/>\n",
       "\t  <feComposite in='SourceGraphic' in2='bgnd' operator='atop'/>\n",
       "\t</filter>\n",
       "\t<filter id='greybox' filterUnits='objectBoundingBox' x='0' y='0' height='1' width='1'>\n",
       "\t  <feFlood flood-color='lightgrey' flood-opacity='1' result='grey'/>\n",
       "\t  <feComposite in='SourceGraphic' in2='grey' operator='atop'/>\n",
       "\t</filter>\n",
       "</defs>\n",
       "<g fill=\"none\" color=\"#FFFFFF\" stroke=\"currentColor\" stroke-width=\"1.00\" stroke-linecap=\"butt\" stroke-linejoin=\"miter\">\n",
       "</g>\n",
       "<g fill=\"none\" color=\"black\" stroke=\"currentColor\" stroke-width=\"1.00\" stroke-linecap=\"butt\" stroke-linejoin=\"miter\">\n",
       "\t<path stroke='black'  d='M45.6,442.4 L54.6,442.4 M1150.1,442.4 L1141.1,442.4  '/>\t<g transform=\"translate(37.3,448.4)\" stroke=\"none\" fill=\"black\" font-family=\"sans\" font-size=\"16.00\"  text-anchor=\"end\">\n",
       "\t\t<text><tspan font-family=\"sans\" >10</tspan><tspan font-family=\"sans\"  font-size=\"12.8\" dy=\"-8.00px\">-6</tspan><tspan font-size=\"16.0\" dy=\"8.00\"></tspan></text>\n",
       "\t</g>\n",
       "</g>\n",
       "<g fill=\"none\" color=\"black\" stroke=\"currentColor\" stroke-width=\"1.00\" stroke-linecap=\"butt\" stroke-linejoin=\"miter\">\n",
       "\t<path stroke='black'  d='M45.6,422.0 L50.1,422.0 M1150.1,422.0 L1145.6,422.0 M45.6,395.1 L50.1,395.1 M1150.1,395.1 L1145.6,395.1\n",
       "\t\tM45.6,381.2 L50.1,381.2 M1150.1,381.2 L1145.6,381.2 M45.6,374.7 L54.6,374.7 M1150.1,374.7 L1141.1,374.7\n",
       "\t\t '/>\t<g transform=\"translate(37.3,380.7)\" stroke=\"none\" fill=\"black\" font-family=\"sans\" font-size=\"16.00\"  text-anchor=\"end\">\n",
       "\t\t<text><tspan font-family=\"sans\" >10</tspan><tspan font-family=\"sans\"  font-size=\"12.8\" dy=\"-8.00px\">-5</tspan><tspan font-size=\"16.0\" dy=\"8.00\"></tspan></text>\n",
       "\t</g>\n",
       "</g>\n",
       "<g fill=\"none\" color=\"black\" stroke=\"currentColor\" stroke-width=\"1.00\" stroke-linecap=\"butt\" stroke-linejoin=\"miter\">\n",
       "\t<path stroke='black'  d='M45.6,354.3 L50.1,354.3 M1150.1,354.3 L1145.6,354.3 M45.6,327.4 L50.1,327.4 M1150.1,327.4 L1145.6,327.4\n",
       "\t\tM45.6,313.5 L50.1,313.5 M1150.1,313.5 L1145.6,313.5 M45.6,307.0 L54.6,307.0 M1150.1,307.0 L1141.1,307.0\n",
       "\t\t '/>\t<g transform=\"translate(37.3,313.0)\" stroke=\"none\" fill=\"black\" font-family=\"sans\" font-size=\"16.00\"  text-anchor=\"end\">\n",
       "\t\t<text><tspan font-family=\"sans\" >10</tspan><tspan font-family=\"sans\"  font-size=\"12.8\" dy=\"-8.00px\">-4</tspan><tspan font-size=\"16.0\" dy=\"8.00\"></tspan></text>\n",
       "\t</g>\n",
       "</g>\n",
       "<g fill=\"none\" color=\"black\" stroke=\"currentColor\" stroke-width=\"1.00\" stroke-linecap=\"butt\" stroke-linejoin=\"miter\">\n",
       "\t<path stroke='black'  d='M45.6,286.6 L50.1,286.6 M1150.1,286.6 L1145.6,286.6 M45.6,259.6 L50.1,259.6 M1150.1,259.6 L1145.6,259.6\n",
       "\t\tM45.6,245.8 L50.1,245.8 M1150.1,245.8 L1145.6,245.8 M45.6,239.3 L54.6,239.3 M1150.1,239.3 L1141.1,239.3\n",
       "\t\t '/>\t<g transform=\"translate(37.3,245.3)\" stroke=\"none\" fill=\"black\" font-family=\"sans\" font-size=\"16.00\"  text-anchor=\"end\">\n",
       "\t\t<text><tspan font-family=\"sans\" >10</tspan><tspan font-family=\"sans\"  font-size=\"12.8\" dy=\"-8.00px\">-3</tspan><tspan font-size=\"16.0\" dy=\"8.00\"></tspan></text>\n",
       "\t</g>\n",
       "</g>\n",
       "<g fill=\"none\" color=\"black\" stroke=\"currentColor\" stroke-width=\"1.00\" stroke-linecap=\"butt\" stroke-linejoin=\"miter\">\n",
       "\t<path stroke='black'  d='M45.6,218.9 L50.1,218.9 M1150.1,218.9 L1145.6,218.9 M45.6,191.9 L50.1,191.9 M1150.1,191.9 L1145.6,191.9\n",
       "\t\tM45.6,178.1 L50.1,178.1 M1150.1,178.1 L1145.6,178.1 M45.6,171.5 L54.6,171.5 M1150.1,171.5 L1141.1,171.5\n",
       "\t\t '/>\t<g transform=\"translate(37.3,177.5)\" stroke=\"none\" fill=\"black\" font-family=\"sans\" font-size=\"16.00\"  text-anchor=\"end\">\n",
       "\t\t<text><tspan font-family=\"sans\" >10</tspan><tspan font-family=\"sans\"  font-size=\"12.8\" dy=\"-8.00px\">-2</tspan><tspan font-size=\"16.0\" dy=\"8.00\"></tspan></text>\n",
       "\t</g>\n",
       "</g>\n",
       "<g fill=\"none\" color=\"black\" stroke=\"currentColor\" stroke-width=\"1.00\" stroke-linecap=\"butt\" stroke-linejoin=\"miter\">\n",
       "\t<path stroke='black'  d='M45.6,151.1 L50.1,151.1 M1150.1,151.1 L1145.6,151.1 M45.6,124.2 L50.1,124.2 M1150.1,124.2 L1145.6,124.2\n",
       "\t\tM45.6,110.4 L50.1,110.4 M1150.1,110.4 L1145.6,110.4 M45.6,103.8 L54.6,103.8 M1150.1,103.8 L1141.1,103.8\n",
       "\t\t '/>\t<g transform=\"translate(37.3,109.8)\" stroke=\"none\" fill=\"black\" font-family=\"sans\" font-size=\"16.00\"  text-anchor=\"end\">\n",
       "\t\t<text><tspan font-family=\"sans\" >10</tspan><tspan font-family=\"sans\"  font-size=\"12.8\" dy=\"-8.00px\">-1</tspan><tspan font-size=\"16.0\" dy=\"8.00\"></tspan></text>\n",
       "\t</g>\n",
       "</g>\n",
       "<g fill=\"none\" color=\"black\" stroke=\"currentColor\" stroke-width=\"1.00\" stroke-linecap=\"butt\" stroke-linejoin=\"miter\">\n",
       "\t<path stroke='black'  d='M45.6,83.4 L50.1,83.4 M1150.1,83.4 L1145.6,83.4 M45.6,56.5 L50.1,56.5 M1150.1,56.5 L1145.6,56.5\n",
       "\t\tM45.6,42.7 L50.1,42.7 M1150.1,42.7 L1145.6,42.7 M45.6,36.1 L54.6,36.1 M1150.1,36.1 L1141.1,36.1\n",
       "\t\t '/>\t<g transform=\"translate(37.3,42.1)\" stroke=\"none\" fill=\"black\" font-family=\"sans\" font-size=\"16.00\"  text-anchor=\"end\">\n",
       "\t\t<text><tspan font-family=\"sans\" >10</tspan><tspan font-family=\"sans\"  font-size=\"12.8\" dy=\"-8.00px\">0</tspan><tspan font-size=\"16.0\" dy=\"8.00\"></tspan></text>\n",
       "\t</g>\n",
       "</g>\n",
       "<g fill=\"none\" color=\"black\" stroke=\"currentColor\" stroke-width=\"1.00\" stroke-linecap=\"butt\" stroke-linejoin=\"miter\">\n",
       "\t<path stroke='black'  d='M45.6,442.4 L45.6,433.4 M45.6,36.1 L45.6,45.1  '/>\t<g transform=\"translate(45.6,473.6)\" stroke=\"none\" fill=\"black\" font-family=\"sans\" font-size=\"16.00\"  text-anchor=\"middle\">\n",
       "\t\t<text><tspan font-family=\"sans\" >10</tspan><tspan font-family=\"sans\"  font-size=\"12.8\" dy=\"-8.00px\">-2</tspan><tspan font-size=\"16.0\" dy=\"8.00\"></tspan></text>\n",
       "\t</g>\n",
       "</g>\n",
       "<g fill=\"none\" color=\"black\" stroke=\"currentColor\" stroke-width=\"1.00\" stroke-linecap=\"butt\" stroke-linejoin=\"miter\">\n",
       "\t<path stroke='black'  d='M211.8,442.4 L211.8,437.9 M211.8,36.1 L211.8,40.6 M309.1,442.4 L309.1,437.9 M309.1,36.1 L309.1,40.6\n",
       "\t\tM378.1,442.4 L378.1,437.9 M378.1,36.1 L378.1,40.6 M431.6,442.4 L431.6,437.9 M431.6,36.1 L431.6,40.6\n",
       "\t\tM475.3,442.4 L475.3,437.9 M475.3,36.1 L475.3,40.6 M512.3,442.4 L512.3,437.9 M512.3,36.1 L512.3,40.6\n",
       "\t\tM544.3,442.4 L544.3,437.9 M544.3,36.1 L544.3,40.6 M572.6,442.4 L572.6,437.9 M572.6,36.1 L572.6,40.6\n",
       "\t\tM597.9,442.4 L597.9,433.4 M597.9,36.1 L597.9,45.1  '/>\t<g transform=\"translate(597.9,473.6)\" stroke=\"none\" fill=\"black\" font-family=\"sans\" font-size=\"16.00\"  text-anchor=\"middle\">\n",
       "\t\t<text><tspan font-family=\"sans\" >10</tspan><tspan font-family=\"sans\"  font-size=\"12.8\" dy=\"-8.00px\">-1</tspan><tspan font-size=\"16.0\" dy=\"8.00\"></tspan></text>\n",
       "\t</g>\n",
       "</g>\n",
       "<g fill=\"none\" color=\"black\" stroke=\"currentColor\" stroke-width=\"1.00\" stroke-linecap=\"butt\" stroke-linejoin=\"miter\">\n",
       "\t<path stroke='black'  d='M764.1,442.4 L764.1,437.9 M764.1,36.1 L764.1,40.6 M861.3,442.4 L861.3,437.9 M861.3,36.1 L861.3,40.6\n",
       "\t\tM930.3,442.4 L930.3,437.9 M930.3,36.1 L930.3,40.6 M983.9,442.4 L983.9,437.9 M983.9,36.1 L983.9,40.6\n",
       "\t\tM1027.6,442.4 L1027.6,437.9 M1027.6,36.1 L1027.6,40.6 M1064.6,442.4 L1064.6,437.9 M1064.6,36.1 L1064.6,40.6\n",
       "\t\tM1096.6,442.4 L1096.6,437.9 M1096.6,36.1 L1096.6,40.6 M1124.8,442.4 L1124.8,437.9 M1124.8,36.1 L1124.8,40.6\n",
       "\t\tM1150.1,442.4 L1150.1,433.4 M1150.1,36.1 L1150.1,45.1  '/>\t<g transform=\"translate(1150.1,473.6)\" stroke=\"none\" fill=\"black\" font-family=\"sans\" font-size=\"16.00\"  text-anchor=\"middle\">\n",
       "\t\t<text><tspan font-family=\"sans\" >10</tspan><tspan font-family=\"sans\"  font-size=\"12.8\" dy=\"-8.00px\">0</tspan><tspan font-size=\"16.0\" dy=\"8.00\"></tspan></text>\n",
       "\t</g>\n",
       "</g>\n",
       "<g fill=\"none\" color=\"black\" stroke=\"currentColor\" stroke-width=\"1.00\" stroke-linecap=\"butt\" stroke-linejoin=\"miter\">\n",
       "\t<path stroke='black'  d='M1150.1,442.4 L1141.1,442.4  '/>\t<g transform=\"translate(1158.4,446.9)\" stroke=\"none\" fill=\"black\" font-family=\"Arial\" font-size=\"12.00\"  text-anchor=\"start\">\n",
       "\t\t<text><tspan font-family=\"Arial\" > </tspan></text>\n",
       "\t</g>\n",
       "</g>\n",
       "<g fill=\"none\" color=\"black\" stroke=\"currentColor\" stroke-width=\"1.00\" stroke-linecap=\"butt\" stroke-linejoin=\"miter\">\n",
       "\t<path stroke='black'  d='M1150.1,374.7 L1141.1,374.7  '/>\t<g transform=\"translate(1158.4,379.2)\" stroke=\"none\" fill=\"black\" font-family=\"Arial\" font-size=\"12.00\"  text-anchor=\"start\">\n",
       "\t\t<text><tspan font-family=\"Arial\" > </tspan></text>\n",
       "\t</g>\n",
       "</g>\n",
       "<g fill=\"none\" color=\"black\" stroke=\"currentColor\" stroke-width=\"1.00\" stroke-linecap=\"butt\" stroke-linejoin=\"miter\">\n",
       "\t<path stroke='black'  d='M1150.1,307.0 L1141.1,307.0  '/>\t<g transform=\"translate(1158.4,311.5)\" stroke=\"none\" fill=\"black\" font-family=\"Arial\" font-size=\"12.00\"  text-anchor=\"start\">\n",
       "\t\t<text><tspan font-family=\"Arial\" > </tspan></text>\n",
       "\t</g>\n",
       "</g>\n",
       "<g fill=\"none\" color=\"black\" stroke=\"currentColor\" stroke-width=\"1.00\" stroke-linecap=\"butt\" stroke-linejoin=\"miter\">\n",
       "\t<path stroke='black'  d='M1150.1,239.3 L1141.1,239.3  '/>\t<g transform=\"translate(1158.4,243.8)\" stroke=\"none\" fill=\"black\" font-family=\"Arial\" font-size=\"12.00\"  text-anchor=\"start\">\n",
       "\t\t<text><tspan font-family=\"Arial\" > </tspan></text>\n",
       "\t</g>\n",
       "</g>\n",
       "<g fill=\"none\" color=\"black\" stroke=\"currentColor\" stroke-width=\"1.00\" stroke-linecap=\"butt\" stroke-linejoin=\"miter\">\n",
       "\t<path stroke='black'  d='M1150.1,171.5 L1141.1,171.5  '/>\t<g transform=\"translate(1158.4,176.0)\" stroke=\"none\" fill=\"black\" font-family=\"Arial\" font-size=\"12.00\"  text-anchor=\"start\">\n",
       "\t\t<text><tspan font-family=\"Arial\" > </tspan></text>\n",
       "\t</g>\n",
       "</g>\n",
       "<g fill=\"none\" color=\"black\" stroke=\"currentColor\" stroke-width=\"1.00\" stroke-linecap=\"butt\" stroke-linejoin=\"miter\">\n",
       "\t<path stroke='black'  d='M1150.1,103.8 L1141.1,103.8  '/>\t<g transform=\"translate(1158.4,108.3)\" stroke=\"none\" fill=\"black\" font-family=\"Arial\" font-size=\"12.00\"  text-anchor=\"start\">\n",
       "\t\t<text><tspan font-family=\"Arial\" > </tspan></text>\n",
       "\t</g>\n",
       "</g>\n",
       "<g fill=\"none\" color=\"black\" stroke=\"currentColor\" stroke-width=\"1.00\" stroke-linecap=\"butt\" stroke-linejoin=\"miter\">\n",
       "\t<path stroke='black'  d='M1150.1,36.1 L1141.1,36.1  '/>\t<g transform=\"translate(1158.4,40.6)\" stroke=\"none\" fill=\"black\" font-family=\"Arial\" font-size=\"12.00\"  text-anchor=\"start\">\n",
       "\t\t<text><tspan font-family=\"Arial\" > </tspan></text>\n",
       "\t</g>\n",
       "</g>\n",
       "<g fill=\"none\" color=\"black\" stroke=\"currentColor\" stroke-width=\"1.00\" stroke-linecap=\"butt\" stroke-linejoin=\"miter\">\n",
       "\t<path stroke='black'  d='M45.6,36.1 L45.6,45.1  '/>\t<g transform=\"translate(45.6,22.6)\" stroke=\"none\" fill=\"black\" font-family=\"Arial\" font-size=\"12.00\"  text-anchor=\"middle\">\n",
       "\t\t<text><tspan font-family=\"Arial\" > </tspan></text>\n",
       "\t</g>\n",
       "</g>\n",
       "<g fill=\"none\" color=\"black\" stroke=\"currentColor\" stroke-width=\"1.00\" stroke-linecap=\"butt\" stroke-linejoin=\"miter\">\n",
       "\t<path stroke='black'  d='M156.1,36.1 L156.1,45.1  '/>\t<g transform=\"translate(156.1,22.6)\" stroke=\"none\" fill=\"black\" font-family=\"Arial\" font-size=\"12.00\"  text-anchor=\"middle\">\n",
       "\t\t<text><tspan font-family=\"Arial\" > </tspan></text>\n",
       "\t</g>\n",
       "</g>\n",
       "<g fill=\"none\" color=\"black\" stroke=\"currentColor\" stroke-width=\"1.00\" stroke-linecap=\"butt\" stroke-linejoin=\"miter\">\n",
       "\t<path stroke='black'  d='M266.5,36.1 L266.5,45.1  '/>\t<g transform=\"translate(266.5,22.6)\" stroke=\"none\" fill=\"black\" font-family=\"Arial\" font-size=\"12.00\"  text-anchor=\"middle\">\n",
       "\t\t<text><tspan font-family=\"Arial\" > </tspan></text>\n",
       "\t</g>\n",
       "</g>\n",
       "<g fill=\"none\" color=\"black\" stroke=\"currentColor\" stroke-width=\"1.00\" stroke-linecap=\"butt\" stroke-linejoin=\"miter\">\n",
       "\t<path stroke='black'  d='M377.0,36.1 L377.0,45.1  '/>\t<g transform=\"translate(377.0,22.6)\" stroke=\"none\" fill=\"black\" font-family=\"Arial\" font-size=\"12.00\"  text-anchor=\"middle\">\n",
       "\t\t<text><tspan font-family=\"Arial\" > </tspan></text>\n",
       "\t</g>\n",
       "</g>\n",
       "<g fill=\"none\" color=\"black\" stroke=\"currentColor\" stroke-width=\"1.00\" stroke-linecap=\"butt\" stroke-linejoin=\"miter\">\n",
       "\t<path stroke='black'  d='M487.4,36.1 L487.4,45.1  '/>\t<g transform=\"translate(487.4,22.6)\" stroke=\"none\" fill=\"black\" font-family=\"Arial\" font-size=\"12.00\"  text-anchor=\"middle\">\n",
       "\t\t<text><tspan font-family=\"Arial\" > </tspan></text>\n",
       "\t</g>\n",
       "</g>\n",
       "<g fill=\"none\" color=\"black\" stroke=\"currentColor\" stroke-width=\"1.00\" stroke-linecap=\"butt\" stroke-linejoin=\"miter\">\n",
       "\t<path stroke='black'  d='M597.9,36.1 L597.9,45.1  '/>\t<g transform=\"translate(597.9,22.6)\" stroke=\"none\" fill=\"black\" font-family=\"Arial\" font-size=\"12.00\"  text-anchor=\"middle\">\n",
       "\t\t<text><tspan font-family=\"Arial\" > </tspan></text>\n",
       "\t</g>\n",
       "</g>\n",
       "<g fill=\"none\" color=\"black\" stroke=\"currentColor\" stroke-width=\"1.00\" stroke-linecap=\"butt\" stroke-linejoin=\"miter\">\n",
       "\t<path stroke='black'  d='M708.3,36.1 L708.3,45.1  '/>\t<g transform=\"translate(708.3,22.6)\" stroke=\"none\" fill=\"black\" font-family=\"Arial\" font-size=\"12.00\"  text-anchor=\"middle\">\n",
       "\t\t<text><tspan font-family=\"Arial\" > </tspan></text>\n",
       "\t</g>\n",
       "</g>\n",
       "<g fill=\"none\" color=\"black\" stroke=\"currentColor\" stroke-width=\"1.00\" stroke-linecap=\"butt\" stroke-linejoin=\"miter\">\n",
       "\t<path stroke='black'  d='M818.8,36.1 L818.8,45.1  '/>\t<g transform=\"translate(818.8,22.6)\" stroke=\"none\" fill=\"black\" font-family=\"Arial\" font-size=\"12.00\"  text-anchor=\"middle\">\n",
       "\t\t<text><tspan font-family=\"Arial\" > </tspan></text>\n",
       "\t</g>\n",
       "</g>\n",
       "<g fill=\"none\" color=\"black\" stroke=\"currentColor\" stroke-width=\"1.00\" stroke-linecap=\"butt\" stroke-linejoin=\"miter\">\n",
       "\t<path stroke='black'  d='M929.2,36.1 L929.2,45.1  '/>\t<g transform=\"translate(929.2,22.6)\" stroke=\"none\" fill=\"black\" font-family=\"Arial\" font-size=\"12.00\"  text-anchor=\"middle\">\n",
       "\t\t<text><tspan font-family=\"Arial\" > </tspan></text>\n",
       "\t</g>\n",
       "</g>\n",
       "<g fill=\"none\" color=\"black\" stroke=\"currentColor\" stroke-width=\"1.00\" stroke-linecap=\"butt\" stroke-linejoin=\"miter\">\n",
       "\t<path stroke='black'  d='M1039.7,36.1 L1039.7,45.1  '/>\t<g transform=\"translate(1039.7,22.6)\" stroke=\"none\" fill=\"black\" font-family=\"Arial\" font-size=\"12.00\"  text-anchor=\"middle\">\n",
       "\t\t<text><tspan font-family=\"Arial\" > </tspan></text>\n",
       "\t</g>\n",
       "</g>\n",
       "<g fill=\"none\" color=\"black\" stroke=\"currentColor\" stroke-width=\"1.00\" stroke-linecap=\"butt\" stroke-linejoin=\"miter\">\n",
       "\t<path stroke='black'  d='M1150.1,36.1 L1150.1,45.1  '/>\t<g transform=\"translate(1150.1,22.6)\" stroke=\"none\" fill=\"black\" font-family=\"Arial\" font-size=\"12.00\"  text-anchor=\"middle\">\n",
       "\t\t<text><tspan font-family=\"Arial\" > </tspan></text>\n",
       "\t</g>\n",
       "</g>\n",
       "<g fill=\"none\" color=\"black\" stroke=\"currentColor\" stroke-width=\"1.00\" stroke-linecap=\"butt\" stroke-linejoin=\"miter\">\n",
       "</g>\n",
       "<g fill=\"none\" color=\"black\" stroke=\"currentColor\" stroke-width=\"1.00\" stroke-linecap=\"butt\" stroke-linejoin=\"miter\">\n",
       "\t<path stroke='black'  d='M45.6,36.1 L45.6,442.4 L1150.1,442.4 L1150.1,36.1 L45.6,36.1 Z  '/></g>\n",
       "<g fill=\"none\" color=\"black\" stroke=\"currentColor\" stroke-width=\"1.00\" stroke-linecap=\"butt\" stroke-linejoin=\"miter\">\n",
       "\t<g transform=\"translate(597.8,491.9)\" stroke=\"none\" fill=\"black\" font-family=\"Arial\" font-size=\"12.00\"  text-anchor=\"middle\">\n",
       "\t\t<text><tspan font-family=\"Arial\" >Cells</tspan></text>\n",
       "\t</g>\n",
       "</g>\n",
       "<g fill=\"none\" color=\"black\" stroke=\"currentColor\" stroke-width=\"1.00\" stroke-linecap=\"butt\" stroke-linejoin=\"miter\">\n",
       "</g>\n",
       "\t<g id=\"gnuplot_plot_1\" ><title>P=0</title>\n",
       "<g fill=\"none\" color=\"black\" stroke=\"currentColor\" stroke-width=\"1.00\" stroke-linecap=\"butt\" stroke-linejoin=\"miter\">\n",
       "\t<g transform=\"translate(1064.1,63.1)\" stroke=\"none\" fill=\"black\" font-family=\"Arial\" font-size=\"16.00\"  text-anchor=\"start\">\n",
       "\t\t<text><tspan font-family=\"Arial\" >P=0</tspan></text>\n",
       "\t</g>\n",
       "</g>\n",
       "<g fill=\"none\" color=\"black\" stroke=\"currentColor\" stroke-width=\"1.00\" stroke-linecap=\"butt\" stroke-linejoin=\"miter\">\n",
       "\t<path stroke='rgb(  0,   0, 255)'  d='M999.6,57.1 L1053.0,57.1 M665.5,37.2 L506.9,37.6 L344.5,38.8 L180.3,41.0  '/>\t<use xlink:href='#gpPt6' transform='translate(665.5,37.2) scale(3.60)' color='rgb(  0,   0, 255)'/>\n",
       "\t<use xlink:href='#gpPt6' transform='translate(506.9,37.6) scale(3.60)' color='rgb(  0,   0, 255)'/>\n",
       "\t<use xlink:href='#gpPt6' transform='translate(344.5,38.8) scale(3.60)' color='rgb(  0,   0, 255)'/>\n",
       "\t<use xlink:href='#gpPt6' transform='translate(180.3,41.0) scale(3.60)' color='rgb(  0,   0, 255)'/>\n",
       "\t<use xlink:href='#gpPt6' transform='translate(1026.3,57.1) scale(3.60)' color='rgb(  0,   0, 255)'/>\n",
       "</g>\n",
       "\t</g>\n",
       "\t<g id=\"gnuplot_plot_2\" ><title>ideal 1</title>\n",
       "<g fill=\"none\" color=\"black\" stroke=\"currentColor\" stroke-width=\"1.00\" stroke-linecap=\"butt\" stroke-linejoin=\"miter\">\n",
       "\t<g transform=\"translate(1064.1,87.1)\" stroke=\"none\" fill=\"black\" font-family=\"Arial\" font-size=\"16.00\"  text-anchor=\"start\">\n",
       "\t\t<text><tspan font-family=\"Arial\" >ideal 1</tspan></text>\n",
       "\t</g>\n",
       "</g>\n",
       "<g fill=\"none\" color=\"black\" stroke=\"currentColor\" stroke-width=\"1.00\" stroke-linecap=\"butt\" stroke-linejoin=\"miter\">\n",
       "\t<path stroke='rgb(  0,   0, 255)' stroke-dasharray='2.5,4.0'  d='M999.6,81.1 L1053.0,81.1 M665.5,37.2 L506.9,56.7 L344.5,76.6 L180.3,96.7  '/>\t<use xlink:href='#gpPt6' transform='translate(665.5,37.2) scale(0.04)' color='rgb(  0,   0, 255)'/>\n",
       "\t<use xlink:href='#gpPt6' transform='translate(506.9,56.7) scale(0.04)' color='rgb(  0,   0, 255)'/>\n",
       "\t<use xlink:href='#gpPt6' transform='translate(344.5,76.6) scale(0.04)' color='rgb(  0,   0, 255)'/>\n",
       "\t<use xlink:href='#gpPt6' transform='translate(180.3,96.7) scale(0.04)' color='rgb(  0,   0, 255)'/>\n",
       "\t<use xlink:href='#gpPt6' transform='translate(1026.3,81.1) scale(0.04)' color='rgb(  0,   0, 255)'/>\n",
       "</g>\n",
       "\t</g>\n",
       "\t<g id=\"gnuplot_plot_3\" ><title>P=1</title>\n",
       "<g fill=\"none\" color=\"black\" stroke=\"currentColor\" stroke-width=\"1.00\" stroke-linecap=\"butt\" stroke-linejoin=\"miter\">\n",
       "\t<g transform=\"translate(1064.1,111.1)\" stroke=\"none\" fill=\"black\" font-family=\"Arial\" font-size=\"16.00\"  text-anchor=\"start\">\n",
       "\t\t<text><tspan font-family=\"Arial\" >P=1</tspan></text>\n",
       "\t</g>\n",
       "</g>\n",
       "<g fill=\"none\" color=\"black\" stroke=\"currentColor\" stroke-width=\"1.00\" stroke-linecap=\"butt\" stroke-linejoin=\"miter\">\n",
       "\t<path stroke='rgb(  0,   0, 255)'  d='M999.6,105.1 L1053.0,105.1 M665.5,44.4 L506.9,55.1 L344.5,80.2 L180.3,126.5  '/>\t<use xlink:href='#gpPt5' transform='translate(665.5,44.4) scale(3.60)' color='rgb(  0,   0, 255)'/>\n",
       "\t<use xlink:href='#gpPt5' transform='translate(506.9,55.1) scale(3.60)' color='rgb(  0,   0, 255)'/>\n",
       "\t<use xlink:href='#gpPt5' transform='translate(344.5,80.2) scale(3.60)' color='rgb(  0,   0, 255)'/>\n",
       "\t<use xlink:href='#gpPt5' transform='translate(180.3,126.5) scale(3.60)' color='rgb(  0,   0, 255)'/>\n",
       "\t<use xlink:href='#gpPt5' transform='translate(1026.3,105.1) scale(3.60)' color='rgb(  0,   0, 255)'/>\n",
       "</g>\n",
       "\t</g>\n",
       "\t<g id=\"gnuplot_plot_4\" ><title>ideal 2</title>\n",
       "<g fill=\"none\" color=\"black\" stroke=\"currentColor\" stroke-width=\"1.00\" stroke-linecap=\"butt\" stroke-linejoin=\"miter\">\n",
       "\t<g transform=\"translate(1064.1,135.1)\" stroke=\"none\" fill=\"black\" font-family=\"Arial\" font-size=\"16.00\"  text-anchor=\"start\">\n",
       "\t\t<text><tspan font-family=\"Arial\" >ideal 2</tspan></text>\n",
       "\t</g>\n",
       "</g>\n",
       "<g fill=\"none\" color=\"black\" stroke=\"currentColor\" stroke-width=\"1.00\" stroke-linecap=\"butt\" stroke-linejoin=\"miter\">\n",
       "\t<path stroke='rgb(  0,   0, 255)' stroke-dasharray='2.5,4.0'  d='M999.6,129.1 L1053.0,129.1 M665.5,44.4 L506.9,83.3 L344.5,123.2 L180.3,163.4  '/>\t<use xlink:href='#gpPt5' transform='translate(665.5,44.4) scale(0.04)' color='rgb(  0,   0, 255)'/>\n",
       "\t<use xlink:href='#gpPt5' transform='translate(506.9,83.3) scale(0.04)' color='rgb(  0,   0, 255)'/>\n",
       "\t<use xlink:href='#gpPt5' transform='translate(344.5,123.2) scale(0.04)' color='rgb(  0,   0, 255)'/>\n",
       "\t<use xlink:href='#gpPt5' transform='translate(180.3,163.4) scale(0.04)' color='rgb(  0,   0, 255)'/>\n",
       "\t<use xlink:href='#gpPt5' transform='translate(1026.3,129.1) scale(0.04)' color='rgb(  0,   0, 255)'/>\n",
       "</g>\n",
       "\t</g>\n",
       "\t<g id=\"gnuplot_plot_5\" ><title>P=2</title>\n",
       "<g fill=\"none\" color=\"black\" stroke=\"currentColor\" stroke-width=\"1.00\" stroke-linecap=\"butt\" stroke-linejoin=\"miter\">\n",
       "\t<g transform=\"translate(1064.1,159.1)\" stroke=\"none\" fill=\"black\" font-family=\"Arial\" font-size=\"16.00\"  text-anchor=\"start\">\n",
       "\t\t<text><tspan font-family=\"Arial\" >P=2</tspan></text>\n",
       "\t</g>\n",
       "</g>\n",
       "<g fill=\"none\" color=\"black\" stroke=\"currentColor\" stroke-width=\"1.00\" stroke-linecap=\"butt\" stroke-linejoin=\"miter\">\n",
       "\t<path stroke='rgb(  0,   0,   0)'  d='M999.6,153.1 L1053.0,153.1 M665.5,66.5 L506.9,117.4 L344.5,218.4 L180.3,258.4  '/>\t<use xlink:href='#gpPt12' transform='translate(665.5,66.5) scale(3.60)' color='rgb(  0,   0,   0)'/>\n",
       "\t<use xlink:href='#gpPt12' transform='translate(506.9,117.4) scale(3.60)' color='rgb(  0,   0,   0)'/>\n",
       "\t<use xlink:href='#gpPt12' transform='translate(344.5,218.4) scale(3.60)' color='rgb(  0,   0,   0)'/>\n",
       "\t<use xlink:href='#gpPt12' transform='translate(180.3,258.4) scale(3.60)' color='rgb(  0,   0,   0)'/>\n",
       "\t<use xlink:href='#gpPt12' transform='translate(1026.3,153.1) scale(3.60)' color='rgb(  0,   0,   0)'/>\n",
       "</g>\n",
       "\t</g>\n",
       "\t<g id=\"gnuplot_plot_6\" ><title>ideal 3</title>\n",
       "<g fill=\"none\" color=\"black\" stroke=\"currentColor\" stroke-width=\"1.00\" stroke-linecap=\"butt\" stroke-linejoin=\"miter\">\n",
       "\t<g transform=\"translate(1064.1,183.1)\" stroke=\"none\" fill=\"black\" font-family=\"Arial\" font-size=\"16.00\"  text-anchor=\"start\">\n",
       "\t\t<text><tspan font-family=\"Arial\" >ideal 3</tspan></text>\n",
       "\t</g>\n",
       "</g>\n",
       "<g fill=\"none\" color=\"black\" stroke=\"currentColor\" stroke-width=\"1.00\" stroke-linecap=\"butt\" stroke-linejoin=\"miter\">\n",
       "\t<path stroke='rgb(  0,   0,   0)' stroke-dasharray='2.5,4.0'  d='M999.6,177.1 L1053.0,177.1 M665.5,66.5 L506.9,124.9 L344.5,184.6 L180.3,245.0  '/>\t<use xlink:href='#gpPt12' transform='translate(665.5,66.5) scale(0.04)' color='rgb(  0,   0,   0)'/>\n",
       "\t<use xlink:href='#gpPt12' transform='translate(506.9,124.9) scale(0.04)' color='rgb(  0,   0,   0)'/>\n",
       "\t<use xlink:href='#gpPt12' transform='translate(344.5,184.6) scale(0.04)' color='rgb(  0,   0,   0)'/>\n",
       "\t<use xlink:href='#gpPt12' transform='translate(180.3,245.0) scale(0.04)' color='rgb(  0,   0,   0)'/>\n",
       "\t<use xlink:href='#gpPt12' transform='translate(1026.3,177.1) scale(0.04)' color='rgb(  0,   0,   0)'/>\n",
       "</g>\n",
       "\t</g>\n",
       "\t<g id=\"gnuplot_plot_7\" ><title>P=3</title>\n",
       "<g fill=\"none\" color=\"black\" stroke=\"currentColor\" stroke-width=\"1.00\" stroke-linecap=\"butt\" stroke-linejoin=\"miter\">\n",
       "\t<g transform=\"translate(1064.1,207.1)\" stroke=\"none\" fill=\"black\" font-family=\"Arial\" font-size=\"16.00\"  text-anchor=\"start\">\n",
       "\t\t<text><tspan font-family=\"Arial\" >P=3</tspan></text>\n",
       "\t</g>\n",
       "</g>\n",
       "<g fill=\"none\" color=\"black\" stroke=\"currentColor\" stroke-width=\"1.00\" stroke-linecap=\"butt\" stroke-linejoin=\"miter\">\n",
       "\t<path stroke='rgb(  0,   0,   0)'  d='M999.6,201.1 L1053.0,201.1 M665.5,96.3 L506.9,255.4 L344.5,370.3 L180.3,389.9  '/>\t<use xlink:href='#gpPt11' transform='translate(665.5,96.3) scale(3.60)' color='rgb(  0,   0,   0)'/>\n",
       "\t<use xlink:href='#gpPt11' transform='translate(506.9,255.4) scale(3.60)' color='rgb(  0,   0,   0)'/>\n",
       "\t<use xlink:href='#gpPt11' transform='translate(344.5,370.3) scale(3.60)' color='rgb(  0,   0,   0)'/>\n",
       "\t<use xlink:href='#gpPt11' transform='translate(180.3,389.9) scale(3.60)' color='rgb(  0,   0,   0)'/>\n",
       "\t<use xlink:href='#gpPt11' transform='translate(1026.3,201.1) scale(3.60)' color='rgb(  0,   0,   0)'/>\n",
       "</g>\n",
       "\t</g>\n",
       "\t<g id=\"gnuplot_plot_8\" ><title>ideal 4</title>\n",
       "<g fill=\"none\" color=\"black\" stroke=\"currentColor\" stroke-width=\"1.00\" stroke-linecap=\"butt\" stroke-linejoin=\"miter\">\n",
       "\t<g transform=\"translate(1064.1,231.1)\" stroke=\"none\" fill=\"black\" font-family=\"Arial\" font-size=\"16.00\"  text-anchor=\"start\">\n",
       "\t\t<text><tspan font-family=\"Arial\" >ideal 4</tspan></text>\n",
       "\t</g>\n",
       "</g>\n",
       "<g fill=\"none\" color=\"black\" stroke=\"currentColor\" stroke-width=\"1.00\" stroke-linecap=\"butt\" stroke-linejoin=\"miter\">\n",
       "\t<path stroke='rgb(  0,   0,   0)' stroke-dasharray='2.5,4.0'  d='M999.6,225.1 L1053.0,225.1 M665.5,96.3 L506.9,174.1 L344.5,253.7 L180.3,334.3  '/>\t<use xlink:href='#gpPt11' transform='translate(665.5,96.3) scale(0.04)' color='rgb(  0,   0,   0)'/>\n",
       "\t<use xlink:href='#gpPt11' transform='translate(506.9,174.1) scale(0.04)' color='rgb(  0,   0,   0)'/>\n",
       "\t<use xlink:href='#gpPt11' transform='translate(344.5,253.7) scale(0.04)' color='rgb(  0,   0,   0)'/>\n",
       "\t<use xlink:href='#gpPt11' transform='translate(180.3,334.3) scale(0.04)' color='rgb(  0,   0,   0)'/>\n",
       "\t<use xlink:href='#gpPt11' transform='translate(1026.3,225.1) scale(0.04)' color='rgb(  0,   0,   0)'/>\n",
       "</g>\n",
       "\t</g>\n",
       "<g fill=\"none\" color=\"#FFFFFF\" stroke=\"rgb(  0,   0,   0)\" stroke-width=\"2.00\" stroke-linecap=\"butt\" stroke-linejoin=\"miter\">\n",
       "</g>\n",
       "<g fill=\"none\" color=\"black\" stroke=\"currentColor\" stroke-width=\"2.00\" stroke-linecap=\"butt\" stroke-linejoin=\"miter\">\n",
       "</g>\n",
       "<g fill=\"none\" color=\"black\" stroke=\"black\" stroke-width=\"1.00\" stroke-linecap=\"butt\" stroke-linejoin=\"miter\">\n",
       "</g>\n",
       "<g fill=\"none\" color=\"black\" stroke=\"currentColor\" stroke-width=\"1.00\" stroke-linecap=\"butt\" stroke-linejoin=\"miter\">\n",
       "\t<path stroke='black'  d='M45.6,36.1 L45.6,442.4 L1150.1,442.4 L1150.1,36.1 L45.6,36.1 Z  '/></g>\n",
       "<g fill=\"none\" color=\"black\" stroke=\"currentColor\" stroke-width=\"1.00\" stroke-linecap=\"butt\" stroke-linejoin=\"miter\">\n",
       "</g>\n",
       "</g>\n",
       "</svg>\n",
       "\n"
      ]
     },
     "metadata": {},
     "output_type": "display_data"
    }
   ],
   "source": [
    "var plot = new Plot2Ddata();\n",
    "var EOCs= new List<double>();\n",
    "public PlotFormat GetFormat(int count){\n",
    "    var allPT = new BoSSS.Solution.Gnuplot.PointTypes[] { PointTypes.Circle, PointTypes.OpenCircle, PointTypes.Diamond, PointTypes.OpenDiamond, PointTypes.UpperTriangle, PointTypes.OpenUpperTriangle};\n",
    "    var allC = new BoSSS.Solution.Gnuplot.LineColors[] { LineColors.Blue,LineColors.Blue, LineColors.Black, LineColors.Black, LineColors.Red, LineColors.Red};\n",
    "    var Fmt = new PlotFormat();\n",
    "    Fmt.PointType = PointTypes.OpenCircle;\n",
    "    Fmt.PointSize = 0.8;\n",
    "    Fmt.LineWidth = 1;    \n",
    "    Fmt.Style     = Styles.LinesPoints;\n",
    "    Fmt.LineColor = allC[count];\n",
    "    Fmt.PointType =  allPT[count];\n",
    "    return Fmt;\n",
    "}\n",
    "int count=0;\n",
    "MultidimensionalArray errorsAndCells=MultidimensionalArray.Create(ses.Count(),degs.Length +1);\n",
    "MultidimensionalArray errorsAndCellsIdeal=MultidimensionalArray.Create(ses.Count(),degs.Length+1);\n",
    "foreach(int p in degs){\n",
    "    var cells= new List<double>();\n",
    "    var errors= new List<double>();\n",
    "    for(int iSess =0;iSess < ses.Count();iSess++){\n",
    "        var si = ses.Pick(iSess);\n",
    "        Console.Write($\"P={p},sess={iSess}\");\n",
    "        //extract the relevant field and timestep Index\n",
    "        var timesteps = si.Timesteps;\n",
    "        var rTSIndex = timesteps.LastIndexWhere(t => t.GetField(\"rho\").Basis.Degree == p);\n",
    "        if(rTSIndex !=-1){\n",
    "            IDTTimeStepInfo lts = (IDTTimeStepInfo)((TimestepProxy)timesteps.Pick(rTSIndex)).GetInternal();\n",
    "            var fields = lts.Fields.ToList();\n",
    "            cells.Add(Math.Sqrt(fields[0].Basis.GridDat.iGeomCells.GetCellVolume(0)));\n",
    "            //extract AmpError\n",
    "            // if(si.Name.Contains(\"sP0.5\")){\n",
    "            //     double exact_amp_fac=delta_pPrR_over_delta_pPrMiR*1e-05; double tMin=0.0 +eps;double tMax=4.0-eps;\n",
    "            //     List<double> ampErrors= ComputeAmpErrors(tMin,tMax, xMin, xMax, xRef,tRef,\"p_per\",lts,false,exact_amp_fac);\n",
    "            //     //errors_array[p,iSess]=ampErrors.Average();\n",
    "            //     errors.Add(ampErrors.Average());\n",
    "            //     Console.WriteLine($\" sp0.5, SQPIter:{rTSIndex}/{si.Timesteps.Count-1}, h: {cells.Last()}, error: {errors.Last()}\");\n",
    "            // }else{\n",
    "            //     double exact_amp_fac=delta_pPrR_over_delta_pPrL*1e-05; double tMin=0.0 +eps;double tMax=1.0-eps;\n",
    "            //     List<double> ampErrors= ComputeAmpErrors(tMin,tMax, xMin, xMax, xRef,tRef,\"p_per\",lts,true,exact_amp_fac);\n",
    "            //     //errors_array[p,iSess]=ampErrors.Average();\n",
    "            //     errors.Add(ampErrors.Average());\n",
    "            //     Console.WriteLine($\" sp1.5, SQPIter:{rTSIndex}/{si.Timesteps.Count-1}, h: {cells.Last()}, error: {errors.Last()}\");\n",
    "            // }\n",
    "             if(si.Name.Contains(\"sP0.5\")){\n",
    "\n",
    "                double t=2.5;double xMin=0.6;double xMax=2.999; int xRef=800;\n",
    "                (double[] xVals_dummy, double[] yVals) = GetPlotAlongTRay(xMin,xMax,t,xRef,\"p_per\",lts);\n",
    "                var ex_amp=delta_pPrR_over_delta_pPrMiR*1e-5;\n",
    "                errors.Add(Math.Abs(yVals.Min()-ex_amp)/ex_amp);\n",
    "                Console.WriteLine($\" sp0.5, SQPIter:{rTSIndex}/{si.Timesteps.Count-1}, h: {cells.Last()}, error: {errors.Last()}, amp:{yVals.Min()}\");\n",
    "                \n",
    "            }else{\n",
    "\n",
    "                double t=0.8;double xMin=1.6;double xMax=2.999; int xRef=800;\n",
    "                (double[] xVals_dummy, double[] yVals) = GetPlotAlongTRay(xMin,xMax,t,xRef,\"p_per\",lts);\n",
    "                var ex_amp=delta_pPrR_over_delta_pPrL*1e-5;\n",
    "                errors.Add(Math.Abs(yVals.Max()- ex_amp)/ ex_amp);\n",
    "                Console.WriteLine($\" sp1.5, SQPIter:{rTSIndex}/{si.Timesteps.Count-1}, h: {cells.Last()}, error: {errors.Last()}, amp:{yVals.Max()}\");\n",
    "                \n",
    "            }\n",
    "            \n",
    "        }\n",
    "    }\n",
    "    errorsAndCells.SetColumn(0,cells);\n",
    "    errorsAndCellsIdeal.SetColumn(0,cells);\n",
    "    errorsAndCells.SetColumn(p+1,errors);\n",
    "    errorsAndCellsIdeal.SetColumn(p+1,GetIdealConvPlot(errors,cells,p));\n",
    "    EOCs.Add( ApproxSlope(errors,cells));\n",
    "    plot.AddDataGroup($\"P={p}\",cells,errors, GetFormat(count));\n",
    "    var fmt = GetFormat(count);\n",
    "    fmt.PointSize=0.01;\n",
    "    fmt.DashType=DashTypes.Dashed;\n",
    "\n",
    "    plot.AddDataGroup($\"ideal {p+1}\",cells,GetIdealConvPlot(errors,cells,p), fmt);\n",
    "    count++;\n",
    "}\n",
    "errorsAndCells.SaveToTextFile(\"ConvergenceStudyErrors.txt\");\n",
    "errorsAndCellsIdeal.SaveToTextFile(\"ConvergenceStudyErrorsIdeal.txt\");\n",
    "plot.Xlabel=\"Cells\";\n",
    "plot.LogY = true;\n",
    "plot.LogX = true;\n",
    "plot.ShowXtics = true;\n",
    "plot.ToGnuplot().PlotSVG(xRes:1200,yRes:500)"
   ]
  },
  {
   "cell_type": "code",
   "execution_count": 38,
   "metadata": {
    "dotnet_interactive": {
     "language": "csharp"
    },
    "polyglot_notebook": {
     "kernelName": "csharp"
    }
   },
   "outputs": [
    {
     "data": {
      "text/html": [
       "<div class=\"dni-plaintext\"><pre>[ 0.06286044915210959, 1.368842266552513, 3.2255133641055136, 4.974562409869032 ]</pre></div><style>\r\n",
       ".dni-code-hint {\r\n",
       "    font-style: italic;\r\n",
       "    overflow: hidden;\r\n",
       "    white-space: nowrap;\r\n",
       "}\r\n",
       ".dni-treeview {\r\n",
       "    white-space: nowrap;\r\n",
       "}\r\n",
       ".dni-treeview td {\r\n",
       "    vertical-align: top;\r\n",
       "    text-align: start;\r\n",
       "}\r\n",
       "details.dni-treeview {\r\n",
       "    padding-left: 1em;\r\n",
       "}\r\n",
       "table td {\r\n",
       "    text-align: start;\r\n",
       "}\r\n",
       "table tr { \r\n",
       "    vertical-align: top; \r\n",
       "    margin: 0em 0px;\r\n",
       "}\r\n",
       "table tr td pre \r\n",
       "{ \r\n",
       "    vertical-align: top !important; \r\n",
       "    margin: 0em 0px !important;\r\n",
       "} \r\n",
       "table th {\r\n",
       "    text-align: start;\r\n",
       "}\r\n",
       "</style>"
      ]
     },
     "metadata": {},
     "output_type": "display_data"
    }
   ],
   "source": [
    "EOCs"
   ]
  },
  {
   "cell_type": "markdown",
   "metadata": {},
   "source": [
    "Assertion"
   ]
  },
  {
   "cell_type": "code",
   "execution_count": null,
   "metadata": {
    "dotnet_interactive": {
     "language": "csharp"
    },
    "polyglot_notebook": {
     "kernelName": "csharp"
    }
   },
   "outputs": [],
   "source": [
    "NUnit.Framework.Assert.IsTrue(EOCs[0]>0.01);"
   ]
  },
  {
   "cell_type": "code",
   "execution_count": null,
   "metadata": {
    "dotnet_interactive": {
     "language": "csharp"
    },
    "polyglot_notebook": {
     "kernelName": "csharp"
    }
   },
   "outputs": [],
   "source": [
    "NUnit.Framework.Assert.IsTrue(EOCs[1]>1.2);"
   ]
  },
  {
   "cell_type": "code",
   "execution_count": null,
   "metadata": {
    "dotnet_interactive": {
     "language": "csharp"
    },
    "polyglot_notebook": {
     "kernelName": "csharp"
    }
   },
   "outputs": [],
   "source": [
    "\n",
    "NUnit.Framework.Assert.IsTrue(EOCs[2]>2.9;"
   ]
  },
  {
   "cell_type": "code",
   "execution_count": null,
   "metadata": {
    "dotnet_interactive": {
     "language": "csharp"
    },
    "polyglot_notebook": {
     "kernelName": "csharp"
    }
   },
   "outputs": [],
   "source": [
    "NUnit.Framework.Assert.IsTrue(EOCs[3]>3.9);"
   ]
  },
  {
   "attachments": {},
   "cell_type": "markdown",
   "metadata": {},
   "source": [
    "plot it"
   ]
  },
  {
   "cell_type": "code",
   "execution_count": 314,
   "metadata": {
    "dotnet_interactive": {
     "language": "csharp"
    }
   },
   "outputs": [],
   "source": [
    "// using BoSSS.Solution.Tecplot;\n",
    "// using System.IO;\n",
    "// Directory.GetFiles(\".\", \"*.plt\").ForEach(file => File.Delete(file));\n",
    "// IDTTimeStepInfo lts= (IDTTimeStepInfo)((TimestepProxy) si.Timesteps.Last()).GetInternal();\n",
    "// //double[] TStoPlot = new double[] {0,5,10,15,20}; // specify selected Iterations\n",
    "// var allTs = (List<double>) lts.TimeStepNumbers; \n",
    "// var N=40;\n",
    "// var TStoPlot= allTs.Where(ts => ts % N == 0); // plot every N\n",
    "// foreach(var si in ses){\n",
    "//     foreach(var timestep in si.Timesteps){\n",
    "//         if(TStoPlot.Contains((double) timestep.TimeStepNumber.MajorNumber)){\n",
    "//                 IDTTimeStepInfo lts= (IDTTimeStepInfo)((TimestepProxy) timestep).GetInternal();\n",
    "//                 var SF = lts.GetShadowFields();\n",
    "//                 var texplot = new Tecplot(timestep.Fields.Pick(0).GridDat, 2);\n",
    "//                 texplot.PlotFields( si.Name + \"_\" + lts.TimeStepNumber,0.0,timestep.Fields);\n",
    "//         }\n",
    "//     }\n",
    "// }"
   ]
  }
 ],
 "metadata": {
  "kernelspec": {
   "display_name": ".NET (C#)",
   "language": "C#",
   "name": ".net-csharp"
  },
  "language_info": {
   "name": "polyglot-notebook"
  },
  "polyglot_notebook": {
   "kernelInfo": {
    "defaultKernelName": "csharp",
    "items": [
     {
      "aliases": [],
      "name": ".NET"
     },
     {
      "aliases": [
       "C#",
       "c#"
      ],
      "languageName": "C#",
      "name": "csharp"
     },
     {
      "aliases": [
       "F#",
       "f#"
      ],
      "languageName": "F#",
      "name": "fsharp"
     },
     {
      "aliases": [],
      "languageName": "HTML",
      "name": "html"
     },
     {
      "aliases": [
       "js"
      ],
      "languageName": "JavaScript",
      "name": "javascript"
     },
     {
      "aliases": [],
      "languageName": "KQL",
      "name": "kql"
     },
     {
      "aliases": [],
      "languageName": "Mermaid",
      "name": "mermaid"
     },
     {
      "aliases": [
       "powershell"
      ],
      "languageName": "PowerShell",
      "name": "pwsh"
     },
     {
      "aliases": [],
      "languageName": "SQL",
      "name": "sql"
     },
     {
      "aliases": [],
      "name": "value"
     },
     {
      "aliases": [
       "frontend"
      ],
      "name": "vscode"
     },
     {
      "aliases": [],
      "name": "webview"
     }
    ]
   }
  }
 },
 "nbformat": 4,
 "nbformat_minor": 2
}

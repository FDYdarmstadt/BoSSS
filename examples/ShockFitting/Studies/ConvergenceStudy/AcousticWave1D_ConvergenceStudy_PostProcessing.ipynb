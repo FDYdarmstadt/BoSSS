{
 "cells": [
  {
   "cell_type": "markdown",
   "metadata": {},
   "source": [
    "This Notebook evaluates a convergence study for the 1D Shock-Acoustic-Wave interaction problems as presented in the phd thesis \"Implicit Discontinuous Galerkin Shock Tracking methods for Compressible Flows with Shocks\" (Vandergrift 2024)."
   ]
  },
  {
   "cell_type": "code",
   "execution_count": null,
   "metadata": {
    "dotnet_interactive": {
     "language": "csharp"
    }
   },
   "outputs": [],
   "source": [
    "#r \"BoSSSpad.dll\"\n",
    "#r \"XESF.dll\"\n",
    "using System;\n",
    "using BoSSS.Foundation;\n",
    "using BoSSS.Application.BoSSSpad;\n",
    "using BoSSS.Solution;\n",
    "using BoSSS.Solution.Tecplot;\n",
    "using BoSSS.Foundation.IO;\n",
    "using ilPSP.Tracing;\n",
    "using BoSSS.Solution.Utils;\n",
    "using ilPSP.LinSolvers;\n",
    "using BoSSS.Solution.NSECommon;\n",
    "using ilPSP.Connectors.Matlab;\n",
    "using ilPSP;\n",
    "using BoSSS.Foundation.Grid.Classic;\n",
    "using ilPSP.Utils;\n",
    "using BoSSS.Foundation.Grid.RefElements;\n",
    "using System.Collections.Generic;\n",
    "using BoSSS.Foundation.Grid;\n",
    "using BoSSS.Foundation.XDG;\n",
    "using BoSSS.Solution.XdgTimestepping;\n",
    "using BoSSS.Solution.AdvancedSolvers;\n",
    "using System.Linq;\n",
    "using BoSSS.Foundation.Grid.Aggregation;\n",
    "using BoSSS.Platform;\n",
    "using MPI.Wrappers;\n",
    "using System.Diagnostics;\n",
    "using System.IO;\n",
    "using System.Collections;\n",
    "using BoSSS.Foundation.Quadrature;\n",
    "using BoSSS.Solution.Statistic;\n",
    "using BoSSS.Solution.Gnuplot;\n",
    "using static BoSSS.Application.BoSSSpad.BoSSSshell;\n",
    "using BoSSS.Solution.Control;\n",
    "using BoSSS.Solution.GridImport;\n",
    "using ApplicationWithIDT;\n",
    "using XESF;\n",
    "Init();\n"
   ]
  },
  {
   "cell_type": "markdown",
   "metadata": {},
   "source": [
    "init workflow\n"
   ]
  },
  {
   "cell_type": "code",
   "execution_count": null,
   "metadata": {
    "dotnet_interactive": {
     "language": "csharp"
    }
   },
   "outputs": [],
   "source": [
    "BoSSSshell.WorkflowMgm.Init(\"XESTSF_ShockAcousticInteraction1D_ConvergenceStudy\");\n",
    "BoSSSshell.WorkflowMgm.SetNameBasedSessionJobControlCorrelation();\n",
    "BoSSSshell.WorkflowMgm.DefaultDatabase\n"
   ]
  },
  {
   "cell_type": "code",
   "execution_count": null,
   "metadata": {
    "dotnet_interactive": {
     "language": "csharp"
    }
   },
   "outputs": [],
   "source": [
    "var dbPath = BoSSSshell.WorkflowMgm.DefaultDatabase.Path;\n",
    "var database = OpenOrCreateDatabase(dbPath);\n",
    "var dt = database.Sessions.Last().CreationTime;\n",
    "dt\n"
   ]
  },
  {
   "cell_type": "code",
   "execution_count": null,
   "metadata": {
    "dotnet_interactive": {
     "language": "csharp"
    },
    "polyglot_notebook": {
     "kernelName": "csharp"
    }
   },
   "outputs": [],
   "source": [
    "var sessions = database.Sessions;\n",
    "sessions"
   ]
  },
  {
   "cell_type": "code",
   "execution_count": null,
   "metadata": {
    "dotnet_interactive": {
     "language": "csharp"
    },
    "polyglot_notebook": {
     "kernelName": "csharp"
    }
   },
   "outputs": [],
   "source": [
    "var aaa = new MatrixAssembler(3);\n",
    "var si = database.Sessions.Pick(0);\n",
    "var ti = si.Timesteps;\n",
    "si.ID"
   ]
  },
  {
   "cell_type": "markdown",
   "metadata": {},
   "source": [
    "## Choose which runs to plot"
   ]
  },
  {
   "cell_type": "code",
   "execution_count": null,
   "metadata": {
    "dotnet_interactive": {
     "language": "csharp"
    },
    "polyglot_notebook": {
     "kernelName": "csharp"
    }
   },
   "outputs": [],
   "source": [
    "var sessions=database.Sessions.Where(s => (s.Name.Contains(\"sP1.5\") &&s.Name.Contains(\"ampneg0\")&&s.Name.Contains(\"amppos1\")&& !s.Name.Contains(\"241\"))); // the one plotted in the publication\n",
    "sessions.OrderBy(si => si.GetGrids().Pick(0).NumberOfCells);\n",
    "sessions\n"
   ]
  },
  {
   "cell_type": "markdown",
   "metadata": {},
   "source": [
    "# A Helper Function to obtain different plot formats"
   ]
  },
  {
   "cell_type": "code",
   "execution_count": null,
   "metadata": {
    "dotnet_interactive": {
     "language": "csharp"
    },
    "polyglot_notebook": {
     "kernelName": "csharp"
    }
   },
   "outputs": [],
   "source": [
    "using BoSSS.Solution.Tecplot;\n",
    "using System.IO;\n",
    "var allEE = new List<List<double>>();\n",
    "var plot = new Plot2Ddata();\n",
    "public PlotFormat GetFormat(int count){\n",
    "    \n",
    "    var allPT = new BoSSS.Solution.Gnuplot.PointTypes[] { PointTypes.Diamond, PointTypes.LowerTriangle, PointTypes.Circle, PointTypes.OpenDiamond, PointTypes.OpenLowerTriangle, PointTypes.OpenCircle,PointTypes.Diamond, PointTypes.LowerTriangle, PointTypes.Circle, PointTypes.OpenDiamond, PointTypes.OpenLowerTriangle, PointTypes.OpenCircle, PointTypes.Circle, PointTypes.OpenDiamond, PointTypes.OpenLowerTriangle, PointTypes.OpenCircle, PointTypes.Circle, PointTypes.OpenDiamond, PointTypes.OpenLowerTriangle, PointTypes.OpenCircle, PointTypes.Circle, PointTypes.OpenDiamond, PointTypes.OpenLowerTriangle, PointTypes.OpenCircle};\n",
    "    var allC = new BoSSS.Solution.Gnuplot.LineColors[] { LineColors.Blue, LineColors.Black, LineColors.Red,LineColors.Blue, LineColors.Black, LineColors.Red, LineColors.Red,LineColors.Blue, LineColors.Black, LineColors.Red, LineColors.Red,LineColors.Blue, LineColors.Black, LineColors.Red, LineColors.Red,LineColors.Blue, LineColors.Black, LineColors.Red, LineColors.Red, LineColors.Red,LineColors.Blue, LineColors.Black, LineColors.Red};\n",
    "    var Fmt = new PlotFormat();\n",
    "    Fmt.PointSize = 0.8;\n",
    "    Fmt.LineWidth = 1;    \n",
    "    Fmt.Style     = Styles.LinesPoints;\n",
    "\n",
    "    Fmt.LineColor = allC[count];\n",
    "    Fmt.PointType =  allPT[count];\n",
    "    return Fmt;\n",
    "}"
   ]
  },
  {
   "cell_type": "markdown",
   "metadata": {},
   "source": [
    "## Residual History"
   ]
  },
  {
   "cell_type": "code",
   "execution_count": null,
   "metadata": {
    "dotnet_interactive": {
     "language": "csharp"
    }
   },
   "outputs": [],
   "source": [
    "\n",
    "using BoSSS.Solution.Tecplot;\n",
    "using System.IO;\n",
    "//Directory.GetFiles(\".\", \"*.plt\").ForEach(file => File.Delete(file));\n",
    "var allEE = new List<List<double>>();\n",
    "var plot = new Plot2Ddata();\n",
    "int count=0;\n",
    "foreach(var si in sessions){\n",
    "    var enthalpyerrors = new List<double>();\n",
    "    IDTTimeStepInfo lts= (IDTTimeStepInfo)((TimestepProxy) si.Timesteps.Last()).GetInternal();\n",
    "    plot.AddDataGroup(\"||r|| - \"+ si.Name,lts.TimeStepNumbers,lts.ResHistory, GetFormat(count));\n",
    "    count++;\n",
    "    plot.AddDataGroup(\"EnRes_\"+si.Name,lts.TimeStepNumbers,lts.EnResHistory, GetFormat(count));\n",
    "    count++;\n",
    "}\n",
    "\n",
    "plot.Xlabel=\"Iteration\";\n",
    "plot.LogY = true;\n",
    "plot.ShowXtics = true;\n",
    "plot.ToGnuplot().PlotSVG(xRes:800,yRes:500)"
   ]
  },
  {
   "cell_type": "markdown",
   "metadata": {},
   "source": [
    "helper function to evaluate the XDG field along a x-ray for a specific time"
   ]
  },
  {
   "cell_type": "code",
   "execution_count": null,
   "metadata": {
    "dotnet_interactive": {
     "language": "csharp"
    },
    "polyglot_notebook": {
     "kernelName": "csharp"
    }
   },
   "outputs": [],
   "source": [
    "(double[] tVals, double[]yVals) GetPlotAlongXRay(double tMin,double tMax, double x, int nRef,string field,ITimestepInfo ti){\n",
    "//double shockPosition=0.5;\n",
    "var p1= new double[] {x,tMin};\n",
    "var p2=new double[] {x,tMax};\n",
    "\n",
    "//timesteps to compare\n",
    "\n",
    "// # use p_per from BoSSS \n",
    "var pEnd =ti.GetField(field);\n",
    "double[] yVals=pEnd.EvaluateAlongLine(p1,p2,nRef);\n",
    "double[] tVals= GenericBlas.Linspace(tMin,tMax,nRef);\n",
    "return(tVals,yVals);\n",
    "}\n"
   ]
  },
  {
   "cell_type": "markdown",
   "metadata": {},
   "source": [
    "helper function to evaluate the XDG field along a t-ray for a point x"
   ]
  },
  {
   "cell_type": "code",
   "execution_count": null,
   "metadata": {
    "dotnet_interactive": {
     "language": "csharp"
    },
    "polyglot_notebook": {
     "kernelName": "csharp"
    }
   },
   "outputs": [],
   "source": [
    "(double[] xVals, double[]yVals) GetPlotAlongTRay(double xMin,double xMax, double t, int nRef,string field,ITimestepInfo ti){\n",
    "//double shockPosition=0.5;\n",
    "var p1= new double[] {xMin,t};\n",
    "var p2=new double[] {xMax,t};\n",
    "\n",
    "//timesteps to compare\n",
    "\n",
    "// # use p_per from BoSSS \n",
    "var pEnd =ti.GetField(field);\n",
    "double[] yVals=pEnd.EvaluateAlongLine(p1,p2,nRef);\n",
    "double[] xVals= GenericBlas.Linspace(xMin,xMax,nRef);\n",
    "return(xVals,yVals);\n",
    "}"
   ]
  },
  {
   "cell_type": "markdown",
   "metadata": {},
   "source": [
    "helper function to compute the error metrics (i.e. the deviation of each amplitude from the exact amplification/reduction factor)"
   ]
  },
  {
   "cell_type": "code",
   "execution_count": null,
   "metadata": {
    "dotnet_interactive": {
     "language": "csharp"
    },
    "polyglot_notebook": {
     "kernelName": "csharp"
    }
   },
   "outputs": [],
   "source": [
    "List<double> ComputeAmpErrors(double tMin,double tMax, double xMin, double xMax, int xRef, int tRef,string field,ITimestepInfo ti, bool isMax,double exact_amp_fac){\n",
    "    if(true){\n",
    "        var xVals= GenericBlas.Linspace(xMin,xMax,xRef);\n",
    "        var maxminVals = new List<double>();\n",
    "        foreach(var x in xVals ){\n",
    "            (double[] tVals, double[] yVals)=GetPlotAlongXRay(tMin,tMax,x,tRef,field,ti);\n",
    "            if(isMax){\n",
    "                maxminVals.Add(Math.Abs((exact_amp_fac-yVals.Max())/exact_amp_fac));\n",
    "            }else{\n",
    "                maxminVals.Add(Math.Abs((exact_amp_fac-yVals.Min())/exact_amp_fac));\n",
    "            }\n",
    "        }\n",
    "        return maxminVals;\n",
    "    }else{\n",
    "        var pEnd =ti.GetField(field);\n",
    "        var fullcm= CellMask.GetFullMask(pEnd.GridDat);\n",
    "        var ba= new bool[fullcm.ItemEnum.Count()];\n",
    "        \n",
    "        var bb = new BoSSS.Platform.Utils.Geom.BoundingBox(new double[,] {{0,0},{1,1}});\n",
    "        foreach(var cell in fullcm.ItemEnum){\n",
    "            pEnd.GridDat.iGeomCells.GetCellBoundingBox(cell, bb);\n",
    "            var min = bb.Min;\n",
    "            if(!isMax){\n",
    "                if( min[0]>=xMin && min[0]<=xMax){\n",
    "                    ba[cell]=true;\n",
    "                };\n",
    "            }else{\n",
    "                if( min[0]>=xMin && min[0]<=xMax ){\n",
    "                    ba[cell]=true;\n",
    "                };\n",
    "            }\n",
    "\n",
    "        }\n",
    "        var cm =new CellMask(pEnd.GridDat,new BitArray(ba));\n",
    "        var valMin=new double[cm.ItemEnum.Count()];\n",
    "        var valMax=new double[cm.ItemEnum.Count()];\n",
    "        pEnd.GetCellwiseExtremalValues(valMin, valMax,cm);\n",
    "        List<double> maxminVals;\n",
    "        if(isMax){\n",
    "            maxminVals=new List<double> {Math.Abs((exact_amp_fac-valMax.Max())/exact_amp_fac)};\n",
    "        }else{\n",
    "            maxminVals=new List<double> {Math.Abs((exact_amp_fac-valMin.Min())/exact_amp_fac)};\n",
    "        }\n",
    "        return maxminVals;\n",
    "    }\n",
    "    \n",
    "}\n",
    "\n",
    "var eps=0.000001;\n",
    "double xMin=1.8 +eps;double xMax=2.0-eps; int xRef=5; \n",
    "double tMin =0 + eps;int tRef=800;\n",
    "GenericBlas.Linspace(xMin,xMax,xRef)"
   ]
  },
  {
   "cell_type": "code",
   "execution_count": null,
   "metadata": {
    "dotnet_interactive": {
     "language": "csharp"
    },
    "polyglot_notebook": {
     "kernelName": "csharp"
    }
   },
   "outputs": [],
   "source": [
    "var ses= sessions;\n",
    "ses"
   ]
  },
  {
   "cell_type": "markdown",
   "metadata": {},
   "source": [
    "choose the sessions"
   ]
  },
  {
   "cell_type": "markdown",
   "metadata": {},
   "source": [
    "they must be reordered for the plot to work..."
   ]
  },
  {
   "cell_type": "code",
   "execution_count": null,
   "metadata": {
    "dotnet_interactive": {
     "language": "csharp"
    },
    "polyglot_notebook": {
     "kernelName": "csharp"
    }
   },
   "outputs": [],
   "source": [
    "var ses= sessions;\n",
    "ses = ses.OrderBy(si => si.GetGrids().Pick(0).NumberOfCells);\n",
    "ses"
   ]
  },
  {
   "cell_type": "markdown",
   "metadata": {},
   "source": [
    "Number of cells"
   ]
  },
  {
   "cell_type": "code",
   "execution_count": null,
   "metadata": {
    "dotnet_interactive": {
     "language": "csharp"
    },
    "polyglot_notebook": {
     "kernelName": "csharp"
    }
   },
   "outputs": [],
   "source": [
    "int[] Cells = ses.Select(si => si.GetGrids().Pick(0).NumberOfCells).ToArray();\n",
    "Cells"
   ]
  },
  {
   "cell_type": "markdown",
   "metadata": {},
   "source": [
    "helper arrays"
   ]
  },
  {
   "cell_type": "code",
   "execution_count": null,
   "metadata": {
    "dotnet_interactive": {
     "language": "csharp"
    },
    "polyglot_notebook": {
     "kernelName": "csharp"
    }
   },
   "outputs": [],
   "source": [
    "int[] degs = new int[] {0,1,2,3};\n",
    "//degs = new int[] {0};\n",
    "var errors_array= MultidimensionalArray.Create(degs.Count(),ses.Count());\n"
   ]
  },
  {
   "cell_type": "markdown",
   "metadata": {},
   "source": [
    "Function used to calculate the EOCs"
   ]
  },
  {
   "cell_type": "code",
   "execution_count": null,
   "metadata": {
    "dotnet_interactive": {
     "language": "csharp"
    },
    "polyglot_notebook": {
     "kernelName": "csharp"
    }
   },
   "outputs": [],
   "source": [
    "double ApproxSlope(List<double> errors, List<double> cellSize) {\n",
    "    var slopes = new List<double>();\n",
    "    double EOC;\n",
    "    for (int i = 0; i < errors.Count - 1; i++) {\n",
    "        double ratio = errors[i] / errors[i + 1];\n",
    "        double slope = Math.Log(ratio) / Math.Log(cellSize[i] / cellSize[i + 1]);\n",
    "        slopes.Add(slope);\n",
    "    }\n",
    "    if (slopes.Count > 0) {\n",
    "        EOC = slopes.Average();\n",
    "    } else {\n",
    "        EOC = 0;\n",
    "    }\n",
    "    return EOC;\n",
    "}"
   ]
  },
  {
   "cell_type": "markdown",
   "metadata": {},
   "source": [
    "Function used to compute the ideal convergence plot"
   ]
  },
  {
   "cell_type": "code",
   "execution_count": null,
   "metadata": {
    "dotnet_interactive": {
     "language": "csharp"
    },
    "polyglot_notebook": {
     "kernelName": "csharp"
    }
   },
   "outputs": [],
   "source": [
    "List<double> GetIdealConvPlot(List<double> errors,List<double> cellSize, int p){\n",
    "        var idealErrors = new List<double>();\n",
    "\n",
    "    // Calculate ideal errors for each cell size\n",
    "    for (int i = 0; i < cellSize.Count; i++)\n",
    "    {\n",
    "        double idealError = errors[0] * Math.Pow(cellSize[i] / cellSize[0], p + 1);\n",
    "        idealErrors.Add(idealError);\n",
    "    }\n",
    "\n",
    "    return idealErrors;\n",
    "} "
   ]
  },
  {
   "cell_type": "markdown",
   "metadata": {},
   "source": [
    "compute the exact analytical pressure amplification/reduction factor for both cases investigated"
   ]
  },
  {
   "cell_type": "code",
   "execution_count": null,
   "metadata": {
    "dotnet_interactive": {
     "language": "csharp"
    },
    "polyglot_notebook": {
     "kernelName": "csharp"
    }
   },
   "outputs": [],
   "source": [
    "// Given variables\n",
    "var MBaseL = 1.5; // Base Mach number on the left\n",
    "var gamma = 1.4; //Specific heat ratio\n",
    "\n",
    "// Calculate right Mach number (Mach_R)\n",
    "var MBaseR  = Math.Sqrt((1 + ((gamma-1)/2) * MBaseL*MBaseL) / (gamma * MBaseL*MBaseL - (gamma-1)/2));\n",
    "\n",
    "// Upstream fast acoustic wave amplification coefficient\n",
    "var delta_pPrR_over_delta_pPrL = ((1+MBaseL)*(1+MBaseL)) / (1+2*MBaseR+1/MBaseL/MBaseL) * (1 - ((gamma-1)/(gamma+1)) * (1-(1/MBaseL))* (1-(1/MBaseL)));\n",
    "\n",
    "// Downstream slow acoustic wave amplification coefficient\n",
    "var delta_pPrR_over_delta_pPrMiR = -(1- 2*MBaseR +1 / MBaseL/MBaseL) / (1+ 2*MBaseR +1 / MBaseL/ MBaseL);\n",
    "(delta_pPrR_over_delta_pPrL,delta_pPrR_over_delta_pPrMiR)"
   ]
  },
  {
   "cell_type": "markdown",
   "metadata": {},
   "source": [
    "Create the convergence plot"
   ]
  },
  {
   "cell_type": "code",
   "execution_count": null,
   "metadata": {
    "dotnet_interactive": {
     "language": "csharp"
    },
    "polyglot_notebook": {
     "kernelName": "csharp"
    }
   },
   "outputs": [],
   "source": [
    "var plot = new Plot2Ddata();\n",
    "var EOCs= new List<double>();\n",
    "public PlotFormat GetFormat(int count){\n",
    "    var allPT = new BoSSS.Solution.Gnuplot.PointTypes[] { PointTypes.Circle, PointTypes.OpenCircle, PointTypes.Diamond, PointTypes.OpenDiamond, PointTypes.UpperTriangle, PointTypes.OpenUpperTriangle};\n",
    "    var allC = new BoSSS.Solution.Gnuplot.LineColors[] { LineColors.Blue,LineColors.Blue, LineColors.Black, LineColors.Black, LineColors.Red, LineColors.Red};\n",
    "    var Fmt = new PlotFormat();\n",
    "    Fmt.PointType = PointTypes.OpenCircle;\n",
    "    Fmt.PointSize = 0.8;\n",
    "    Fmt.LineWidth = 1;    \n",
    "    Fmt.Style     = Styles.LinesPoints;\n",
    "    Fmt.LineColor = allC[count];\n",
    "    Fmt.PointType =  allPT[count];\n",
    "    return Fmt;\n",
    "}\n",
    "int count=0;\n",
    "MultidimensionalArray errorsAndCells=MultidimensionalArray.Create(ses.Count(),degs.Length +1);\n",
    "MultidimensionalArray errorsAndCellsIdeal=MultidimensionalArray.Create(ses.Count(),degs.Length+1);\n",
    "foreach(int p in degs){\n",
    "    var cells= new List<double>();\n",
    "    var errors= new List<double>();\n",
    "    for(int iSess =0;iSess < ses.Count();iSess++){\n",
    "        var si = ses.Pick(iSess);\n",
    "        Console.Write($\"P={p},sess={iSess}\");\n",
    "        //extract the relevant field and timestep Index\n",
    "        var timesteps = si.Timesteps;\n",
    "        var rTSIndex = timesteps.LastIndexWhere(t => t.GetField(\"rho\").Basis.Degree == p);\n",
    "        if(rTSIndex !=-1){\n",
    "            IDTTimeStepInfo lts = (IDTTimeStepInfo)((TimestepProxy)timesteps.Pick(rTSIndex)).GetInternal();\n",
    "            var fields = lts.Fields.ToList();\n",
    "            cells.Add(Math.Sqrt(fields[0].Basis.GridDat.iGeomCells.GetCellVolume(0)));\n",
    "            //extract AmpError\n",
    "            // if(si.Name.Contains(\"sP0.5\")){\n",
    "            //     double exact_amp_fac=delta_pPrR_over_delta_pPrMiR*1e-05; double tMin=0.0 +eps;double tMax=4.0-eps;\n",
    "            //     List<double> ampErrors= ComputeAmpErrors(tMin,tMax, xMin, xMax, xRef,tRef,\"p_per\",lts,false,exact_amp_fac);\n",
    "            //     //errors_array[p,iSess]=ampErrors.Average();\n",
    "            //     errors.Add(ampErrors.Average());\n",
    "            //     Console.WriteLine($\" sp0.5, SQPIter:{rTSIndex}/{si.Timesteps.Count-1}, h: {cells.Last()}, error: {errors.Last()}\");\n",
    "            // }else{\n",
    "            //     double exact_amp_fac=delta_pPrR_over_delta_pPrL*1e-05; double tMin=0.0 +eps;double tMax=1.0-eps;\n",
    "            //     List<double> ampErrors= ComputeAmpErrors(tMin,tMax, xMin, xMax, xRef,tRef,\"p_per\",lts,true,exact_amp_fac);\n",
    "            //     //errors_array[p,iSess]=ampErrors.Average();\n",
    "            //     errors.Add(ampErrors.Average());\n",
    "            //     Console.WriteLine($\" sp1.5, SQPIter:{rTSIndex}/{si.Timesteps.Count-1}, h: {cells.Last()}, error: {errors.Last()}\");\n",
    "            // }\n",
    "             if(si.Name.Contains(\"sP0.5\")){\n",
    "\n",
    "                double t=2.5;double xMin=0.6;double xMax=2.999; int xRef=800;\n",
    "                (double[] xVals_dummy, double[] yVals) = GetPlotAlongTRay(xMin,xMax,t,xRef,\"p_per\",lts);\n",
    "                var ex_amp=delta_pPrR_over_delta_pPrMiR*1e-5;\n",
    "                errors.Add(Math.Abs(yVals.Min()-ex_amp)/ex_amp);\n",
    "                Console.WriteLine($\" sp0.5, SQPIter:{rTSIndex}/{si.Timesteps.Count-1}, h: {cells.Last()}, error: {errors.Last()}, amp:{yVals.Min()}\");\n",
    "                \n",
    "            }else{\n",
    "\n",
    "                double t=0.8;double xMin=1.6;double xMax=2.999; int xRef=800;\n",
    "                (double[] xVals_dummy, double[] yVals) = GetPlotAlongTRay(xMin,xMax,t,xRef,\"p_per\",lts);\n",
    "                var ex_amp=delta_pPrR_over_delta_pPrL*1e-5;\n",
    "                errors.Add(Math.Abs(yVals.Max()- ex_amp)/ ex_amp);\n",
    "                Console.WriteLine($\" sp1.5, SQPIter:{rTSIndex}/{si.Timesteps.Count-1}, h: {cells.Last()}, error: {errors.Last()}, amp:{yVals.Max()}\");\n",
    "                \n",
    "            }\n",
    "            \n",
    "        }\n",
    "    }\n",
    "    errorsAndCells.SetColumn(0,cells);\n",
    "    errorsAndCellsIdeal.SetColumn(0,cells);\n",
    "    errorsAndCells.SetColumn(p+1,errors);\n",
    "    errorsAndCellsIdeal.SetColumn(p+1,GetIdealConvPlot(errors,cells,p));\n",
    "    EOCs.Add( ApproxSlope(errors,cells));\n",
    "    plot.AddDataGroup($\"P={p}\",cells,errors, GetFormat(count));\n",
    "    var fmt = GetFormat(count);\n",
    "    fmt.PointSize=0.01;\n",
    "    fmt.DashType=DashTypes.Dashed;\n",
    "\n",
    "    plot.AddDataGroup($\"ideal {p+1}\",cells,GetIdealConvPlot(errors,cells,p), fmt);\n",
    "    count++;\n",
    "}\n",
    "errorsAndCells.SaveToTextFile(\"ConvergenceStudyErrors.txt\");\n",
    "errorsAndCellsIdeal.SaveToTextFile(\"ConvergenceStudyErrorsIdeal.txt\");\n",
    "plot.Xlabel=\"Cells\";\n",
    "plot.LogY = true;\n",
    "plot.LogX = true;\n",
    "plot.ShowXtics = true;\n",
    "plot.ToGnuplot().PlotSVG(xRes:1200,yRes:500)"
   ]
  },
  {
   "cell_type": "code",
   "execution_count": null,
   "metadata": {
    "dotnet_interactive": {
     "language": "csharp"
    },
    "polyglot_notebook": {
     "kernelName": "csharp"
    }
   },
   "outputs": [],
   "source": [
    "EOCs"
   ]
  },
  {
   "cell_type": "markdown",
   "metadata": {},
   "source": [
    "Assertion"
   ]
  },
  {
   "cell_type": "code",
   "execution_count": null,
   "metadata": {
    "dotnet_interactive": {
     "language": "csharp"
    },
    "polyglot_notebook": {
     "kernelName": "csharp"
    }
   },
   "outputs": [],
   "source": [
    "NUnit.Framework.Assert.IsTrue(EOCs[0]>0.01);"
   ]
  },
  {
   "cell_type": "code",
   "execution_count": null,
   "metadata": {
    "dotnet_interactive": {
     "language": "csharp"
    },
    "polyglot_notebook": {
     "kernelName": "csharp"
    }
   },
   "outputs": [],
   "source": [
    "NUnit.Framework.Assert.IsTrue(EOCs[1]>1.2);"
   ]
  },
  {
   "cell_type": "code",
   "execution_count": null,
   "metadata": {
    "dotnet_interactive": {
     "language": "csharp"
    },
    "polyglot_notebook": {
     "kernelName": "csharp"
    }
   },
   "outputs": [],
   "source": [
    "\n",
    "NUnit.Framework.Assert.IsTrue(EOCs[2]>2.9);"
   ]
  },
  {
   "cell_type": "code",
   "execution_count": null,
   "metadata": {
    "dotnet_interactive": {
     "language": "csharp"
    },
    "polyglot_notebook": {
     "kernelName": "csharp"
    }
   },
   "outputs": [],
   "source": [
    "NUnit.Framework.Assert.IsTrue(EOCs[3]>3.9);"
   ]
  },
  {
   "cell_type": "markdown",
   "metadata": {},
   "source": [
    "plot it"
   ]
  },
  {
   "cell_type": "code",
   "execution_count": null,
   "metadata": {
    "dotnet_interactive": {
     "language": "csharp"
    }
   },
   "outputs": [],
   "source": [
    "// using BoSSS.Solution.Tecplot;\n",
    "// using System.IO;\n",
    "// Directory.GetFiles(\".\", \"*.plt\").ForEach(file => File.Delete(file));\n",
    "// IDTTimeStepInfo lts= (IDTTimeStepInfo)((TimestepProxy) si.Timesteps.Last()).GetInternal();\n",
    "// //double[] TStoPlot = new double[] {0,5,10,15,20}; // specify selected Iterations\n",
    "// var allTs = (List<double>) lts.TimeStepNumbers; \n",
    "// var N=40;\n",
    "// var TStoPlot= allTs.Where(ts => ts % N == 0); // plot every N\n",
    "// foreach(var si in ses){\n",
    "//     foreach(var timestep in si.Timesteps){\n",
    "//         if(TStoPlot.Contains((double) timestep.TimeStepNumber.MajorNumber)){\n",
    "//                 IDTTimeStepInfo lts= (IDTTimeStepInfo)((TimestepProxy) timestep).GetInternal();\n",
    "//                 var SF = lts.GetShadowFields();\n",
    "//                 var texplot = new Tecplot(timestep.Fields.Pick(0).GridDat, 2);\n",
    "//                 texplot.PlotFields( si.Name + \"_\" + lts.TimeStepNumber,0.0,timestep.Fields);\n",
    "//         }\n",
    "//     }\n",
    "// }"
   ]
  }
 ],
 "metadata": {
  "kernelspec": {
   "display_name": ".NET (C#)",
   "language": "C#",
   "name": ".net-csharp"
  },
  "language_info": {
   "file_extension": ".cs",
   "mimetype": "text/x-csharp",
   "name": "C#",
   "pygments_lexer": "csharp",
   "version": "10.0"
  },
  "polyglot_notebook": {
   "kernelInfo": {
    "defaultKernelName": "csharp",
    "items": [
     {
      "aliases": [],
      "name": ".NET"
     },
     {
      "aliases": [
       "C#",
       "c#"
      ],
      "languageName": "C#",
      "name": "csharp"
     },
     {
      "aliases": [
       "F#",
       "f#"
      ],
      "languageName": "F#",
      "name": "fsharp"
     },
     {
      "aliases": [],
      "languageName": "HTML",
      "name": "html"
     },
     {
      "aliases": [
       "js"
      ],
      "languageName": "JavaScript",
      "name": "javascript"
     },
     {
      "aliases": [],
      "languageName": "KQL",
      "name": "kql"
     },
     {
      "aliases": [],
      "languageName": "Mermaid",
      "name": "mermaid"
     },
     {
      "aliases": [
       "powershell"
      ],
      "languageName": "PowerShell",
      "name": "pwsh"
     },
     {
      "aliases": [],
      "languageName": "SQL",
      "name": "sql"
     },
     {
      "aliases": [],
      "name": "value"
     },
     {
      "aliases": [
       "frontend"
      ],
      "name": "vscode"
     },
     {
      "aliases": [],
      "name": "webview"
     }
    ]
   }
  }
 },
 "nbformat": 4,
 "nbformat_minor": 2
}

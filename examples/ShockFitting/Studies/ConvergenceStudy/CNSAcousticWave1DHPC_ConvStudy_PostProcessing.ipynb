{
 "cells": [
  {
   "cell_type": "markdown",
   "metadata": {},
   "source": [
    "This Notebook evaluates a convergence study for the Bow Shock Problem as presented presented in the phd thesis \"Implicit Discontinuous Galerkin Shock Tracking methods for Compressible Flows with Shocks\" (Vandergrift 2024)."
   ]
  },
  {
   "cell_type": "code",
   "execution_count": 14,
   "metadata": {
    "dotnet_interactive": {
     "language": "csharp"
    }
   },
   "outputs": [
    {
     "name": "stdout",
     "output_type": "stream",
     "text": [
      "Using gnuplot: C:\\Program Files (x86)\\FDY\\BoSSS\\bin\\native\\win\\gnuplot-gp510-20160418-win32-mingw\\gnuplot\\bin\\gnuplot.exe\n",
      "Databases loaded: \n",
      "Capacity: 0\n",
      "Count: 0\n",
      "\n"
     ]
    },
    {
     "ename": "Error",
     "evalue": "System.ApplicationException: Already called.\r\n   at BoSSS.Application.BoSSSpad.BoSSSshell.InitTraceFile() in C:\\experimental\\public\\src\\L4-application\\BoSSSpad\\BoSSSshell.cs:line 217\r\n   at BoSSS.Application.BoSSSpad.BoSSSshell.Init() in C:\\experimental\\public\\src\\L4-application\\BoSSSpad\\BoSSSshell.cs:line 104\r\n   at Submission#15.<<Initialize>>d__0.MoveNext()\r\n--- End of stack trace from previous location ---\r\n   at Microsoft.CodeAnalysis.Scripting.ScriptExecutionState.RunSubmissionsAsync[TResult](ImmutableArray`1 precedingExecutors, Func`2 currentExecutor, StrongBox`1 exceptionHolderOpt, Func`2 catchExceptionOpt, CancellationToken cancellationToken)",
     "output_type": "error",
     "traceback": [
      "System.ApplicationException: Already called.\r\n",
      "   at BoSSS.Application.BoSSSpad.BoSSSshell.InitTraceFile() in C:\\experimental\\public\\src\\L4-application\\BoSSSpad\\BoSSSshell.cs:line 217\r\n",
      "   at BoSSS.Application.BoSSSpad.BoSSSshell.Init() in C:\\experimental\\public\\src\\L4-application\\BoSSSpad\\BoSSSshell.cs:line 104\r\n",
      "   at Submission#15.<<Initialize>>d__0.MoveNext()\r\n",
      "--- End of stack trace from previous location ---\r\n",
      "   at Microsoft.CodeAnalysis.Scripting.ScriptExecutionState.RunSubmissionsAsync[TResult](ImmutableArray`1 precedingExecutors, Func`2 currentExecutor, StrongBox`1 exceptionHolderOpt, Func`2 catchExceptionOpt, CancellationToken cancellationToken)"
     ]
    }
   ],
   "source": [
    "#r \".\\binaries\\BoSSSpad.dll\"\n",
    "#r \".\\binaries\\XESF.dll\"\n",
    "using System;\n",
    "using BoSSS.Foundation;\n",
    "using BoSSS.Application.BoSSSpad;\n",
    "using BoSSS.Solution;\n",
    "using BoSSS.Solution.Tecplot;\n",
    "using BoSSS.Foundation.IO;\n",
    "using ilPSP.Tracing;\n",
    "using BoSSS.Solution.Utils;\n",
    "using ilPSP.LinSolvers;\n",
    "using BoSSS.Solution.NSECommon;\n",
    "using ilPSP.Connectors.Matlab;\n",
    "using ilPSP;\n",
    "using BoSSS.Foundation.Grid.Classic;\n",
    "using ilPSP.Utils;\n",
    "using BoSSS.Foundation.Grid.RefElements;\n",
    "using System.Collections.Generic;\n",
    "using BoSSS.Foundation.Grid;\n",
    "using BoSSS.Foundation.XDG;\n",
    "using BoSSS.Solution.XdgTimestepping;\n",
    "using BoSSS.Solution.AdvancedSolvers;\n",
    "using System.Linq;\n",
    "using BoSSS.Foundation.Grid.Aggregation;\n",
    "using BoSSS.Platform;\n",
    "using MPI.Wrappers;\n",
    "using System.Diagnostics;\n",
    "using System.IO;\n",
    "using System.Collections;\n",
    "using BoSSS.Foundation.Quadrature;\n",
    "using BoSSS.Solution.Statistic;\n",
    "using BoSSS.Solution.Gnuplot;\n",
    "using static BoSSS.Application.BoSSSpad.BoSSSshell;\n",
    "using BoSSS.Solution.Control;\n",
    "using BoSSS.Solution.GridImport;\n",
    "using ApplicationWithIDT;\n",
    "using XESF;\n",
    "Init();\n"
   ]
  },
  {
   "attachments": {},
   "cell_type": "markdown",
   "metadata": {},
   "source": [
    "init workflow\n"
   ]
  },
  {
   "cell_type": "code",
   "execution_count": 15,
   "metadata": {
    "dotnet_interactive": {
     "language": "csharp"
    }
   },
   "outputs": [
    {
     "name": "stdout",
     "output_type": "stream",
     "text": [
      "Project name is set to 'CNS_AcousticWave1D_ConvStudy'.\n",
      "Default Execution queue is chosen for the database.\n",
      "Opening existing database '\\\\dc3\\userspace\\sebastian\\cluster\\CNS_AcousticWave1D_ConvStudy'.\n"
     ]
    },
    {
     "data": {
      "text/plain": [
       "{ Session Count = 60; Grid Count = 60; Path = \\\\dc3\\userspace\\sebastian\\cluster\\CNS_AcousticWave1D_ConvStudy }"
      ]
     },
     "metadata": {},
     "output_type": "display_data"
    }
   ],
   "source": [
    "BoSSSshell.WorkflowMgm.Init(\"CNS_AcousticWave1D_ConvStudy\");\n",
    "BoSSSshell.WorkflowMgm.SetNameBasedSessionJobControlCorrelation();\n",
    "BoSSSshell.WorkflowMgm.DefaultDatabase\n"
   ]
  },
  {
   "cell_type": "code",
   "execution_count": 16,
   "metadata": {
    "dotnet_interactive": {
     "language": "csharp"
    }
   },
   "outputs": [
    {
     "data": {
      "text/html": [
       "<span>2024-05-03 10:54:50Z</span>"
      ]
     },
     "metadata": {},
     "output_type": "display_data"
    }
   ],
   "source": [
    "var dbPath = BoSSSshell.WorkflowMgm.DefaultDatabase.Path;\n",
    "var database = OpenOrCreateDatabase(dbPath);\n",
    "var dt = database.Sessions.Last().CreationTime;\n",
    "dt\n"
   ]
  },
  {
   "attachments": {},
   "cell_type": "markdown",
   "metadata": {},
   "source": [
    "## Choose which runs to plot"
   ]
  },
  {
   "cell_type": "code",
   "execution_count": 17,
   "metadata": {
    "dotnet_interactive": {
     "language": "csharp"
    },
    "polyglot_notebook": {
     "kernelName": "csharp"
    }
   },
   "outputs": [
    {
     "data": {
      "text/plain": [
       "#0: AcousticWave\tAW_p3_xCells121_yCells3_sP1.5_pST10_wP-0.8_ampneg0_amppos1E-05_wL0.8_Mach1.5_1sinus_RK4\t5/3/2024 10:59:46 AM\t9aa361cb...\r\n",
       "#1: AcousticWave\tAW_p3_xCells61_yCells3_sP1.5_pST10_wP-0.8_ampneg0_amppos1E-05_wL0.8_Mach1.5_1sinus_RK4\t5/3/2024 10:59:32 AM\t5d9caf6a...\r\n",
       "#2: AcousticWave\tAW_p3_xCells31_yCells3_sP1.5_pST10_wP-0.8_ampneg0_amppos1E-05_wL0.8_Mach1.5_1sinus_RK4\t5/3/2024 10:59:14 AM\t43c9286c...\r\n",
       "#3: AcousticWave\tAW_p2_xCells121_yCells3_sP1.5_pST10_wP-0.8_ampneg0_amppos1E-05_wL0.8_Mach1.5_1sinus_RK4\t5/3/2024 10:58:27 AM\te6fe2b8a...\r\n",
       "#4: AcousticWave\tAW_p3_xCells16_yCells3_sP1.5_pST10_wP-0.8_ampneg0_amppos1E-05_wL0.8_Mach1.5_1sinus_RK4\t5/3/2024 10:58:58 AM\t75dcede5...\r\n",
       "#5: AcousticWave\tAW_p2_xCells61_yCells3_sP1.5_pST10_wP-0.8_ampneg0_amppos1E-05_wL0.8_Mach1.5_1sinus_RK4\t5/3/2024 10:58:09 AM\tefb9a79d...\r\n",
       "#6: AcousticWave\tAW_p2_xCells31_yCells3_sP1.5_pST10_wP-0.8_ampneg0_amppos1E-05_wL0.8_Mach1.5_1sinus_RK4\t5/3/2024 10:57:54 AM\tdb6c132e...\r\n",
       "#7: AcousticWave\tAW_p2_xCells16_yCells3_sP1.5_pST10_wP-0.8_ampneg0_amppos1E-05_wL0.8_Mach1.5_1sinus_RK4\t5/3/2024 10:57:38 AM\t1c738814...\r\n",
       "#8: AcousticWave\tAW_p1_xCells121_yCells3_sP1.5_pST10_wP-0.8_ampneg0_amppos1E-05_wL0.8_Mach1.5_1sinus_RK4\t5/3/2024 10:57:05 AM\t67b9a963...\r\n",
       "#9: AcousticWave\tAW_p1_xCells61_yCells3_sP1.5_pST10_wP-0.8_ampneg0_amppos1E-05_wL0.8_Mach1.5_1sinus_RK4\t5/3/2024 10:56:48 AM\td97af74c...\r\n",
       "#10: AcousticWave\tAW_p1_xCells31_yCells3_sP1.5_pST10_wP-0.8_ampneg0_amppos1E-05_wL0.8_Mach1.5_1sinus_RK4\t5/3/2024 10:56:45 AM\t14bd7123...\r\n",
       "#11: AcousticWave\tAW_p1_xCells16_yCells3_sP1.5_pST10_wP-0.8_ampneg0_amppos1E-05_wL0.8_Mach1.5_1sinus_RK4\t5/3/2024 10:56:15 AM\t9263bf21...\r\n",
       "#12: AcousticWave\tAW_p0_xCells121_yCells3_sP1.5_pST10_wP-0.8_ampneg0_amppos1E-05_wL0.8_Mach1.5_1sinus_RK4*\t5/3/2024 10:55:56 AM\t76030c83...\r\n",
       "#13: AcousticWave\tAW_p0_xCells61_yCells3_sP1.5_pST10_wP-0.8_ampneg0_amppos1E-05_wL0.8_Mach1.5_1sinus_RK4*\t5/3/2024 10:55:38 AM\tb4bf8757...\r\n",
       "#14: AcousticWave\tAW_p0_xCells31_yCells3_sP1.5_pST10_wP-0.8_ampneg0_amppos1E-05_wL0.8_Mach1.5_1sinus_RK4*\t5/3/2024 10:55:13 AM\t79ac1c30...\r\n",
       "#15: AcousticWave\tAW_p0_xCells16_yCells3_sP1.5_pST10_wP-0.8_ampneg0_amppos1E-05_wL0.8_Mach1.5_1sinus_RK4*\t5/3/2024 10:54:50 AM\tc1c27a66...\r\n"
      ]
     },
     "metadata": {},
     "output_type": "display_data"
    }
   ],
   "source": [
    "var ses=database.Sessions.Where(s => (s.Name.Contains(\"sP1.5\") &&s.Name.Contains(\"ampneg0\")&&s.Name.Contains(\"amppos1E-05\")&& !s.Name.Contains(\"241\"))); // the one plotted in the publication\n",
    "ses.OrderBy(si => si.GetGrids().Pick(0).NumberOfCells);\n",
    "ses\n"
   ]
  },
  {
   "cell_type": "markdown",
   "metadata": {},
   "source": [
    "# Helper Functions to obtain the error metrics"
   ]
  },
  {
   "cell_type": "code",
   "execution_count": 19,
   "metadata": {
    "dotnet_interactive": {
     "language": "csharp"
    },
    "polyglot_notebook": {
     "kernelName": "csharp"
    }
   },
   "outputs": [],
   "source": [
    "(double[] tVals, double[]yVals) GetPlotAlongXRay(double tMin,double tMax, double x, int nRef,string field,ISessionInfo si, double t0){\n",
    "//double shockPosition=0.5;\n",
    "var p1= new double[] {x,tMin};\n",
    "var p2=new double[] {x,tMax};\n",
    "\n",
    "//timesteps to compare\n",
    "double[] tVals= GenericBlas.Linspace(tMin,tMax,nRef);\n",
    "double[] yVals=new double[tVals.Length];\n",
    "for(int it=0;it<tVals.Length;it++){\n",
    "    var t=tVals[it];\n",
    "    //closest timestep to time t\n",
    "    var tiEnd=si.Timesteps.Where(ti =>ti.PhysicalTime >t-1e-2).OrderBy(ti => Math.Abs(ti.PhysicalTime - t))\n",
    "            .FirstOrDefault();\n",
    "    tVals[it]=tiEnd.PhysicalTime;\n",
    "    var pEnd =tiEnd.GetField(field);\n",
    "    var yValpEnd = pEnd.ProbeAt(new double[]{x,0.0015}); // evaluate field at\n",
    "    // substract the t0 Base to only obtain the pertubations\n",
    "    var ti=si.Timesteps.Where(ti =>Math.Abs(ti.PhysicalTime - t0)<1e-1).OrderBy(ti => Math.Abs(ti.PhysicalTime - t0))\n",
    "            .FirstOrDefault();\n",
    "    var p0=ti.GetField(field);\n",
    "    var yValp0 = p0.ProbeAt(new double[]{x,0.0015}); \n",
    "    yVals[it]=yValpEnd-yValp0;\n",
    "}\n",
    "return(tVals,yVals);\n",
    "}\n",
    "(double[] xVals, double[]yVals, double tPhys) GetPlotAlongTRay(double xMin,double xMax, double t, int nRef,string field,ISessionInfo si, double t0){\n",
    "//double shockPosition=0.5;\n",
    "var p1= new double[] {xMin,0.0015};\n",
    "var p2=new double[] {xMax,0.0015};\n",
    "\n",
    "//closest timestep to time t\n",
    "var tiEnd=si.Timesteps.Where(ti =>ti.PhysicalTime >t-1e-2).OrderBy(ti => Math.Abs(ti.PhysicalTime - t))\n",
    "            .FirstOrDefault();\n",
    "\n",
    "var pEnd =tiEnd.GetField(field);\n",
    "double[] yVals=pEnd.EvaluateAlongLine(p1,p2,nRef);\n",
    "\n",
    "// substract the t0 Base to only obtain the pertuabtions\n",
    "var ti=si.Timesteps.Where(ti =>Math.Abs(ti.PhysicalTime - t0)<1e-1).OrderBy(ti => Math.Abs(ti.PhysicalTime - t0))\n",
    "            .FirstOrDefault();\n",
    "var tOField=ti.GetField(field);\n",
    "double[] yVals_tOField=tOField.EvaluateAlongLine(p1,p2,nRef);\n",
    "yVals.AccV(-1.0,yVals_tOField);\n",
    "\n",
    "double[] xVals= GenericBlas.Linspace(xMin,xMax,nRef);\n",
    "return(xVals,yVals,tiEnd.PhysicalTime);\n",
    "}\n",
    "List<double> ComputeAmpErrorsAlongX(double tMin,double tMax, double xMin, double xMax, int xRef, int tRef,string field,ISessionInfo si, bool isMax,double exact_amp_fac, double t0){\n",
    "    var xVals= GenericBlas.Linspace(xMin,xMax,xRef);\n",
    "    var maxminVals = new List<double>();\n",
    "    foreach(var x in xVals ){\n",
    "        (double[] tVals, double[] yVals)=GetPlotAlongXRay(tMin,tMax,x,tRef,field,si,t0);\n",
    "        if(isMax){\n",
    "            maxminVals.Add(Math.Abs((exact_amp_fac-yVals.Max())/exact_amp_fac));\n",
    "        }else{\n",
    "            maxminVals.Add(Math.Abs((exact_amp_fac-yVals.Min())/exact_amp_fac));\n",
    "        }\n",
    "    }\n",
    "    return maxminVals;\n",
    "}\n",
    "List<double> ComputeAmpErrors(double tMin,double tMax, double xMin, double xMax, int xRef, int tRef,string field,ISessionInfo si, bool isMax,double exact_amp_fac, double t0){\n",
    "    var tVals= GenericBlas.Linspace(tMin,tMax,tRef);\n",
    "    var xVals=GenericBlas.Linspace(xMin,xMax,xRef);\n",
    "    var allY= MultidimensionalArray.Create(xVals.Length,tVals.Length);\n",
    "    var maxminVals = new List<double>();\n",
    "    for(int iCol=0;iCol<tVals.Length;iCol++){\n",
    "        (double[] xVals_dummy, double[] yVals, double tPhys) =GetPlotAlongTRay(xMin,xMax,tVals[iCol],xRef,field,si,t0);\n",
    "        allY.SetColumn(iCol,yVals);\n",
    "    }\n",
    "    allY.SaveToTextFile(\"CNSFastAcc.txt\");\n",
    "    for(int iRow=0;iRow<xVals.Length;iRow++){\n",
    "        var yVals=allY.GetRow(iRow);\n",
    "        if(isMax){\n",
    "            maxminVals.Add(Math.Abs((exact_amp_fac-yVals.Max())/exact_amp_fac));\n",
    "        }else{\n",
    "            maxminVals.Add(Math.Abs((exact_amp_fac-yVals.Min())/exact_amp_fac));\n",
    "        }\n",
    "    }\n",
    "    return maxminVals;\n",
    "}\n",
    "\n",
    "var eps=0.000001;\n",
    "double xMin=1.8 +eps;double xMax=2.7-eps; int xRef=40; \n",
    "double tMin =0 + eps;int tRef=100;"
   ]
  },
  {
   "cell_type": "code",
   "execution_count": 22,
   "metadata": {},
   "outputs": [
    {
     "data": {
      "text/html": [
       "<div class=\"dni-plaintext\"><pre>[ 0.012747617197489028, 0.01183564673460224, 0.013940706688975336, 0.019044215871185155, 0.015396550060239626, 0.012191290495611315, 0.011974095179230168, 0.014820197585040511, 0.019457188133115026, 0.1830931537240339 ]</pre></div><style>\r\n",
       ".dni-code-hint {\r\n",
       "    font-style: italic;\r\n",
       "    overflow: hidden;\r\n",
       "    white-space: nowrap;\r\n",
       "}\r\n",
       ".dni-treeview {\r\n",
       "    white-space: nowrap;\r\n",
       "}\r\n",
       ".dni-treeview td {\r\n",
       "    vertical-align: top;\r\n",
       "    text-align: start;\r\n",
       "}\r\n",
       "details.dni-treeview {\r\n",
       "    padding-left: 1em;\r\n",
       "}\r\n",
       "table td {\r\n",
       "    text-align: start;\r\n",
       "}\r\n",
       "table tr { \r\n",
       "    vertical-align: top; \r\n",
       "    margin: 0em 0px;\r\n",
       "}\r\n",
       "table tr td pre \r\n",
       "{ \r\n",
       "    vertical-align: top !important; \r\n",
       "    margin: 0em 0px !important;\r\n",
       "} \r\n",
       "table th {\r\n",
       "    text-align: start;\r\n",
       "}\r\n",
       "</style>"
      ]
     },
     "metadata": {},
     "output_type": "display_data"
    }
   ],
   "source": [
    "var ampfactors=ComputeAmpErrors(tMin,tMax, xMin, xMax, 10,100,\"p\",si,true,exact_amp_fac,9.95); ampfactors"
   ]
  },
  {
   "cell_type": "markdown",
   "metadata": {},
   "source": [
    "Number of cells"
   ]
  },
  {
   "cell_type": "code",
   "execution_count": 23,
   "metadata": {
    "dotnet_interactive": {
     "language": "csharp"
    },
    "polyglot_notebook": {
     "kernelName": "csharp"
    }
   },
   "outputs": [
    {
     "data": {
      "text/html": [
       "<div class=\"dni-plaintext\"><pre>[ 363, 183, 93, 48 ]</pre></div><style>\r\n",
       ".dni-code-hint {\r\n",
       "    font-style: italic;\r\n",
       "    overflow: hidden;\r\n",
       "    white-space: nowrap;\r\n",
       "}\r\n",
       ".dni-treeview {\r\n",
       "    white-space: nowrap;\r\n",
       "}\r\n",
       ".dni-treeview td {\r\n",
       "    vertical-align: top;\r\n",
       "    text-align: start;\r\n",
       "}\r\n",
       "details.dni-treeview {\r\n",
       "    padding-left: 1em;\r\n",
       "}\r\n",
       "table td {\r\n",
       "    text-align: start;\r\n",
       "}\r\n",
       "table tr { \r\n",
       "    vertical-align: top; \r\n",
       "    margin: 0em 0px;\r\n",
       "}\r\n",
       "table tr td pre \r\n",
       "{ \r\n",
       "    vertical-align: top !important; \r\n",
       "    margin: 0em 0px !important;\r\n",
       "} \r\n",
       "table th {\r\n",
       "    text-align: start;\r\n",
       "}\r\n",
       "</style>"
      ]
     },
     "metadata": {},
     "output_type": "display_data"
    }
   ],
   "source": [
    "double[] Cells = ses.Where(si => si.Name.Contains(\"p0\")).Select(si => (double) si.GetGrids().Pick(0).NumberOfCells).Distinct().ToArray();\n",
    "Cells"
   ]
  },
  {
   "cell_type": "markdown",
   "metadata": {},
   "source": [
    "cell lengths in $x$-direction"
   ]
  },
  {
   "cell_type": "code",
   "execution_count": 24,
   "metadata": {
    "dotnet_interactive": {
     "language": "csharp"
    },
    "polyglot_notebook": {
     "kernelName": "csharp"
    }
   },
   "outputs": [
    {
     "data": {
      "text/html": [
       "<div class=\"dni-plaintext\"><pre>[ 0.08264462809917356, 0.16393442622950818, 0.3225806451612903, 0.625 ]</pre></div><style>\r\n",
       ".dni-code-hint {\r\n",
       "    font-style: italic;\r\n",
       "    overflow: hidden;\r\n",
       "    white-space: nowrap;\r\n",
       "}\r\n",
       ".dni-treeview {\r\n",
       "    white-space: nowrap;\r\n",
       "}\r\n",
       ".dni-treeview td {\r\n",
       "    vertical-align: top;\r\n",
       "    text-align: start;\r\n",
       "}\r\n",
       "details.dni-treeview {\r\n",
       "    padding-left: 1em;\r\n",
       "}\r\n",
       "table td {\r\n",
       "    text-align: start;\r\n",
       "}\r\n",
       "table tr { \r\n",
       "    vertical-align: top; \r\n",
       "    margin: 0em 0px;\r\n",
       "}\r\n",
       "table tr td pre \r\n",
       "{ \r\n",
       "    vertical-align: top !important; \r\n",
       "    margin: 0em 0px !important;\r\n",
       "} \r\n",
       "table th {\r\n",
       "    text-align: start;\r\n",
       "}\r\n",
       "</style>"
      ]
     },
     "metadata": {},
     "output_type": "display_data"
    }
   ],
   "source": [
    "var Hs= ses.Select(si => si.Timesteps.Last().Fields.Pick(0).Basis.GridDat.iGeomCells.GetCellVolume(0)/0.003).Distinct().ToArray();\n",
    "Hs"
   ]
  },
  {
   "cell_type": "markdown",
   "metadata": {},
   "source": [
    "helper arrays"
   ]
  },
  {
   "cell_type": "code",
   "execution_count": 25,
   "metadata": {
    "dotnet_interactive": {
     "language": "csharp"
    },
    "polyglot_notebook": {
     "kernelName": "csharp"
    }
   },
   "outputs": [],
   "source": [
    "int[] degs = new int[] {0,1,2,3};\n",
    "//degs = new int[] {0};\n",
    "var errors_array= MultidimensionalArray.Create(degs.Count(),ses.Count());\n"
   ]
  },
  {
   "cell_type": "markdown",
   "metadata": {},
   "source": [
    "Function used to calculate the EOCs"
   ]
  },
  {
   "cell_type": "code",
   "execution_count": 26,
   "metadata": {
    "dotnet_interactive": {
     "language": "csharp"
    },
    "polyglot_notebook": {
     "kernelName": "csharp"
    }
   },
   "outputs": [],
   "source": [
    "double ApproxSlope(List<double> errors, List<double> cellSize) {\n",
    "    var slopes = new List<double>();\n",
    "    double EOC;\n",
    "    for (int i = 0; i < errors.Count - 1; i++) {\n",
    "        double ratio = errors[i] / errors[i + 1];\n",
    "        double slope = Math.Log(ratio) / Math.Log(cellSize[i] / cellSize[i + 1]);\n",
    "        slopes.Add(slope);\n",
    "    }\n",
    "    if (slopes.Count > 0) {\n",
    "        EOC = slopes.Average();\n",
    "    } else {\n",
    "        EOC = 0;\n",
    "    }\n",
    "    return EOC;\n",
    "}"
   ]
  },
  {
   "cell_type": "markdown",
   "metadata": {},
   "source": [
    "Function used to compute the ideal convergence plot"
   ]
  },
  {
   "cell_type": "code",
   "execution_count": 27,
   "metadata": {
    "dotnet_interactive": {
     "language": "csharp"
    },
    "polyglot_notebook": {
     "kernelName": "csharp"
    }
   },
   "outputs": [],
   "source": [
    "List<double> GetIdealConvPlot(List<double> errors,List<double> cellSize, int p){\n",
    "        var idealErrors = new List<double>();\n",
    "\n",
    "    // Calculate ideal errors for each cell size\n",
    "    for (int i = 0; i < cellSize.Count; i++)\n",
    "    {\n",
    "        double idealError = errors[0] * Math.Pow(cellSize[i] / cellSize[0], p + 1);\n",
    "        idealErrors.Add(idealError);\n",
    "    }\n",
    "\n",
    "    return idealErrors;\n",
    "} "
   ]
  },
  {
   "cell_type": "markdown",
   "metadata": {},
   "source": [
    "compute the exact analytical pressure amplification/reduction factor for both cases investigated"
   ]
  },
  {
   "cell_type": "code",
   "execution_count": 28,
   "metadata": {
    "dotnet_interactive": {
     "language": "csharp"
    },
    "polyglot_notebook": {
     "kernelName": "csharp"
    }
   },
   "outputs": [
    {
     "data": {
      "text/html": [
       "<details open=\"open\" class=\"dni-treeview\"><summary><span class=\"dni-code-hint\"><code>(2.154925878735875, -0.01484811194806477)</code></span></summary><div><table><thead><tr></tr></thead><tbody><tr><td>Item1</td><td>2.154925878735875</td></tr><tr><td>Item2</td><td>-0.01484811194806477</td></tr></tbody></table></div></details><style>\r\n",
       ".dni-code-hint {\r\n",
       "    font-style: italic;\r\n",
       "    overflow: hidden;\r\n",
       "    white-space: nowrap;\r\n",
       "}\r\n",
       ".dni-treeview {\r\n",
       "    white-space: nowrap;\r\n",
       "}\r\n",
       ".dni-treeview td {\r\n",
       "    vertical-align: top;\r\n",
       "    text-align: start;\r\n",
       "}\r\n",
       "details.dni-treeview {\r\n",
       "    padding-left: 1em;\r\n",
       "}\r\n",
       "table td {\r\n",
       "    text-align: start;\r\n",
       "}\r\n",
       "table tr { \r\n",
       "    vertical-align: top; \r\n",
       "    margin: 0em 0px;\r\n",
       "}\r\n",
       "table tr td pre \r\n",
       "{ \r\n",
       "    vertical-align: top !important; \r\n",
       "    margin: 0em 0px !important;\r\n",
       "} \r\n",
       "table th {\r\n",
       "    text-align: start;\r\n",
       "}\r\n",
       "</style>"
      ]
     },
     "metadata": {},
     "output_type": "display_data"
    }
   ],
   "source": [
    "// Given variables\n",
    "var MBaseL = 1.5; // Base Mach number on the left\n",
    "var gamma = 1.4; //Specific heat ratio\n",
    "\n",
    "// Calculate right Mach number (Mach_R)\n",
    "var MBaseR  = Math.Sqrt((1 + ((gamma-1)/2) * MBaseL*MBaseL) / (gamma * MBaseL*MBaseL - (gamma-1)/2));\n",
    "\n",
    "// Upstream fast acoustic wave amplification coefficient\n",
    "var delta_pPrR_over_delta_pPrL = ((1+MBaseL)*(1+MBaseL)) / (1+2*MBaseR+1/MBaseL/MBaseL) * (1 - ((gamma-1)/(gamma+1)) * (1-(1/MBaseL))* (1-(1/MBaseL)));\n",
    "\n",
    "// Downstream slow acoustic wave amplification coefficient\n",
    "var delta_pPrR_over_delta_pPrMiR = -(1- 2*MBaseR +1 / MBaseL/MBaseL) / (1+ 2*MBaseR +1 / MBaseL/ MBaseL);\n",
    "(delta_pPrR_over_delta_pPrL,delta_pPrR_over_delta_pPrMiR)"
   ]
  },
  {
   "cell_type": "markdown",
   "metadata": {},
   "source": [
    "helper function to obtain different plot formats"
   ]
  },
  {
   "cell_type": "code",
   "execution_count": 29,
   "metadata": {
    "dotnet_interactive": {
     "language": "csharp"
    },
    "polyglot_notebook": {
     "kernelName": "csharp"
    }
   },
   "outputs": [],
   "source": [
    "using BoSSS.Solution.Tecplot;\n",
    "using System.IO;\n",
    "var allEE = new List<List<double>>();\n",
    "var plot = new Plot2Ddata();\n",
    "public PlotFormat GetFormat(int count){\n",
    "    \n",
    "    var allPT = new BoSSS.Solution.Gnuplot.PointTypes[] { PointTypes.Diamond, PointTypes.LowerTriangle, PointTypes.Circle, PointTypes.OpenDiamond, PointTypes.OpenLowerTriangle, PointTypes.OpenCircle,PointTypes.Diamond, PointTypes.LowerTriangle, PointTypes.Circle, PointTypes.OpenDiamond, PointTypes.OpenLowerTriangle, PointTypes.OpenCircle, PointTypes.Circle, PointTypes.OpenDiamond, PointTypes.OpenLowerTriangle, PointTypes.OpenCircle, PointTypes.Circle, PointTypes.OpenDiamond, PointTypes.OpenLowerTriangle, PointTypes.OpenCircle, PointTypes.Circle, PointTypes.OpenDiamond, PointTypes.OpenLowerTriangle, PointTypes.OpenCircle};\n",
    "    var allC = new BoSSS.Solution.Gnuplot.LineColors[] { LineColors.Blue, LineColors.Black, LineColors.Red,LineColors.Blue, LineColors.Black, LineColors.Red, LineColors.Red,LineColors.Blue, LineColors.Black, LineColors.Red, LineColors.Red,LineColors.Blue, LineColors.Black, LineColors.Red, LineColors.Red,LineColors.Blue, LineColors.Black, LineColors.Red, LineColors.Red, LineColors.Red,LineColors.Blue, LineColors.Black, LineColors.Red};\n",
    "    var Fmt = new PlotFormat();\n",
    "    Fmt.PointSize = 0.8;\n",
    "    Fmt.LineWidth = 1;    \n",
    "    Fmt.Style     = Styles.LinesPoints;\n",
    "\n",
    "    Fmt.LineColor = allC[count];\n",
    "    Fmt.PointType =  allPT[count];\n",
    "    return Fmt;\n",
    "}"
   ]
  },
  {
   "cell_type": "code",
   "execution_count": 30,
   "metadata": {
    "dotnet_interactive": {
     "language": "csharp"
    },
    "polyglot_notebook": {
     "kernelName": "csharp"
    }
   },
   "outputs": [
    {
     "name": "stdout",
     "output_type": "stream",
     "text": [
      "P=3,cells=121 sp1.5, h: 0.08264462809917356, error: 0.16651939209219527\n",
      "P=3,cells=61 sp1.5, h: 0.16393442622950818, error: 0.1868559366460145\n",
      "P=3,cells=31 sp1.5, h: 0.3225806451612903, error: 0.28964620544861996\n",
      "P=2,cells=121 sp1.5, h: 0.08264462809917356, error: 0.15917403485692266\n",
      "P=3,cells=16 sp1.5, h: 0.625, error: 0.30659718748965065\n",
      "P=2,cells=61 sp1.5, h: 0.16393442622950818, error: 0.38003478106605293\n",
      "P=2,cells=31 sp1.5, h: 0.3225806451612903, error: 0.16109851904500566\n",
      "P=2,cells=16 sp1.5, h: 0.625, error: 0.32744419260083185\n",
      "P=1,cells=121 sp1.5, h: 0.08264462809917356, error: 0.20637015751072993\n",
      "P=1,cells=61 sp1.5, h: 0.16393442622950818, error: 0.24218775868372597\n",
      "P=1,cells=31 sp1.5, h: 0.3225806451612903, error: 0.3767651558106156\n",
      "P=1,cells=16 sp1.5, h: 0.625, error: 0.6381081523822829\n",
      "P=0,cells=121P=0,cells=61P=0,cells=31P=0,cells=16"
     ]
    }
   ],
   "source": [
    "var plot = new Plot2Ddata();\n",
    "var EOCs= new List<double>();\n",
    "public PlotFormat GetFormat(int count){\n",
    "    var allPT = new BoSSS.Solution.Gnuplot.PointTypes[] { PointTypes.Circle, PointTypes.OpenCircle, PointTypes.Diamond, PointTypes.OpenDiamond, PointTypes.UpperTriangle, PointTypes.OpenUpperTriangle};\n",
    "    var allC = new BoSSS.Solution.Gnuplot.LineColors[] { LineColors.Blue,LineColors.Blue, LineColors.Black, LineColors.Black, LineColors.Red, LineColors.Red};\n",
    "    var Fmt = new PlotFormat();\n",
    "    Fmt.PointType = PointTypes.OpenCircle;\n",
    "    Fmt.PointSize = 0.8;\n",
    "    Fmt.LineWidth = 1;    \n",
    "    Fmt.Style     = Styles.LinesPoints;\n",
    "    Fmt.LineColor = allC[count];\n",
    "    Fmt.PointType =  allPT[count];\n",
    "    return Fmt;\n",
    "}\n",
    "int count=0;\n",
    "MultidimensionalArray errorsAndCells=MultidimensionalArray.Create(Cells.Length,degs.Length +1);\n",
    "MultidimensionalArray errorsAndCellsIdeal=MultidimensionalArray.Create(Cells.Length,degs.Length+1);\n",
    "for(int iSess =0;iSess < ses.Count();iSess++){\n",
    "    var si = ses.Pick(iSess);\n",
    "    //extract the relevant field and timestep Index\n",
    "    var timesteps = si.Timesteps;\n",
    "    var tEnd= timesteps.Last();\n",
    "    var rho=tEnd.GetField(\"rho\");\n",
    "    int p= rho.Basis.Degree;\n",
    "    int iCell= Cells.FirstIndexWhere(c => c==rho.Basis.GridDat.iGeomCells.Count);\n",
    "    Console.Write($\"P={p},cells={Cells[iCell]/3}\");\n",
    "    //extract AmpError\n",
    "    if(si.Name.Contains(\"sP0.5\")){\n",
    "        double exact_amp_fac=delta_pPrR_over_delta_pPrMiR*1e-05; double tMin=15.8 +eps;double tMax=tMin+4.0-eps;\n",
    "        if(tEnd.PhysicalTime>tMax){\n",
    "            List<double> ampErrors= ComputeAmpErrors(tMin,tMax, xMin, xMax, xRef,tRef,\"p\",si,false,exact_amp_fac,t0:9.95);\n",
    "            //errors_array[p,iSess]=ampErrors.Average();\n",
    "            errorsAndCells[iCell,p+1]=(ampErrors.Max());\n",
    "            Console.WriteLine($\" sp0.5, h: {Hs[iCell]}, error: {errorsAndCells[iCell,p+1]}\");\n",
    "        }\n",
    "    }else{\n",
    "        double exact_amp_fac=delta_pPrR_over_delta_pPrL*1e-05; double tMin=10.2 +eps;double tMax=tMin+1.0-eps;\n",
    "        if(tEnd.PhysicalTime>tMax){\n",
    "            List<double> ampErrors= ComputeAmpErrors(tMin,tMax, xMin, xMax, xRef,tRef,\"p\",si,true,exact_amp_fac,t0:9.95);\n",
    "            //errors_array[p,iSess]=ampErrors.Average();\n",
    "            errorsAndCells[iCell,p+1]=(ampErrors.Max());\n",
    "            Console.WriteLine($\" sp1.5, h: {Hs[iCell]}, error: {errorsAndCells[iCell,p+1]}\");\n",
    "        }\n",
    "    }\n",
    "\n",
    "}  \n"
   ]
  },
  {
   "cell_type": "code",
   "execution_count": 31,
   "metadata": {
    "dotnet_interactive": {
     "language": "csharp"
    },
    "polyglot_notebook": {
     "kernelName": "csharp"
    }
   },
   "outputs": [
    {
     "data": {
      "text/plain": [
       "             0\t             0\t 2.063702E-001\t 1.591740E-001\t 1.665194E-001\n",
       "             0\t             0\t 2.421878E-001\t 3.800348E-001\t 1.868559E-001\n",
       "             0\t             0\t 3.767652E-001\t 1.610985E-001\t 2.896462E-001\n",
       "             0\t             0\t 6.381082E-001\t 3.274442E-001\t 3.065972E-001\n"
      ]
     },
     "metadata": {},
     "output_type": "display_data"
    }
   ],
   "source": [
    "errorsAndCells.ToMsrMatrix().ToStringDense()"
   ]
  },
  {
   "cell_type": "code",
   "execution_count": 32,
   "metadata": {
    "dotnet_interactive": {
     "language": "csharp"
    },
    "polyglot_notebook": {
     "kernelName": "csharp"
    }
   },
   "outputs": [
    {
     "name": "stdout",
     "output_type": "stream",
     "text": [
      "Using gnuplot: C:\\Program Files (x86)\\FDY\\BoSSS\\bin\\native\\win\\gnuplot-gp510-20160418-win32-mingw\\gnuplot\\bin\\gnuplot.exe\n",
      "Note: In a Jupyter Worksheet, you must NOT have a trailing semicolon in order to see the plot on screen; otherwise, the output migth be surpressed.!\n"
     ]
    },
    {
     "data": {
      "text/html": [
       "<?xml version=\"1.0\" encoding=\"utf-8\"  standalone=\"no\"?>\n",
       "<!DOCTYPE svg PUBLIC \"-//W3C//DTD SVG 1.1//EN\"\n",
       " \"http://www.w3.org/Graphics/SVG/1.1/DTD/svg11.dtd\">\n",
       "<svg \n",
       " width=\"1200\" height=\"500\"\n",
       " viewBox=\"0 0 1200 500\"\n",
       " xmlns=\"http://www.w3.org/2000/svg\"\n",
       " xmlns:xlink=\"http://www.w3.org/1999/xlink\"\n",
       ">\n",
       "\n",
       "<title>Gnuplot</title>\n",
       "<desc>Produced by GNUPLOT 5.1 patchlevel 0 </desc>\n",
       "\n",
       "<g id=\"gnuplot_canvas\">\n",
       "\n",
       "<rect x=\"0\" y=\"0\" width=\"1200\" height=\"500\" fill=\"#ffffff\"/>\n",
       "<defs>\n",
       "\n",
       "\t<circle id='gpDot' r='0.5' stroke-width='0.5'/>\n",
       "\t<path id='gpPt0' stroke-width='0.222' stroke='currentColor' d='M-1,0 h2 M0,-1 v2'/>\n",
       "\t<path id='gpPt1' stroke-width='0.222' stroke='currentColor' d='M-1,-1 L1,1 M1,-1 L-1,1'/>\n",
       "\t<path id='gpPt2' stroke-width='0.222' stroke='currentColor' d='M-1,0 L1,0 M0,-1 L0,1 M-1,-1 L1,1 M-1,1 L1,-1'/>\n",
       "\t<rect id='gpPt3' stroke-width='0.222' stroke='currentColor' x='-1' y='-1' width='2' height='2'/>\n",
       "\t<rect id='gpPt4' stroke-width='0.222' stroke='currentColor' fill='currentColor' x='-1' y='-1' width='2' height='2'/>\n",
       "\t<circle id='gpPt5' stroke-width='0.222' stroke='currentColor' cx='0' cy='0' r='1'/>\n",
       "\t<use xlink:href='#gpPt5' id='gpPt6' fill='currentColor' stroke='none'/>\n",
       "\t<path id='gpPt7' stroke-width='0.222' stroke='currentColor' d='M0,-1.33 L-1.33,0.67 L1.33,0.67 z'/>\n",
       "\t<use xlink:href='#gpPt7' id='gpPt8' fill='currentColor' stroke='none'/>\n",
       "\t<use xlink:href='#gpPt7' id='gpPt9' stroke='currentColor' transform='rotate(180)'/>\n",
       "\t<use xlink:href='#gpPt9' id='gpPt10' fill='currentColor' stroke='none'/>\n",
       "\t<use xlink:href='#gpPt3' id='gpPt11' stroke='currentColor' transform='rotate(45)'/>\n",
       "\t<use xlink:href='#gpPt11' id='gpPt12' fill='currentColor' stroke='none'/>\n",
       "\t<path id='gpPt13' stroke-width='0.222' stroke='currentColor' d='M0,1.330 L1.265,0.411 L0.782,-1.067 L-0.782,-1.076 L-1.265,0.411 z'/>\n",
       "\t<use xlink:href='#gpPt13' id='gpPt14' fill='currentColor' stroke='none'/>\n",
       "\t<filter id='textbox' filterUnits='objectBoundingBox' x='0' y='0' height='1' width='1'>\n",
       "\t  <feFlood flood-color='#FFFFFF' flood-opacity='1' result='bgnd'/>\n",
       "\t  <feComposite in='SourceGraphic' in2='bgnd' operator='atop'/>\n",
       "\t</filter>\n",
       "\t<filter id='greybox' filterUnits='objectBoundingBox' x='0' y='0' height='1' width='1'>\n",
       "\t  <feFlood flood-color='lightgrey' flood-opacity='1' result='grey'/>\n",
       "\t  <feComposite in='SourceGraphic' in2='grey' operator='atop'/>\n",
       "\t</filter>\n",
       "</defs>\n",
       "<g fill=\"none\" color=\"#FFFFFF\" stroke=\"currentColor\" stroke-width=\"1.00\" stroke-linecap=\"butt\" stroke-linejoin=\"miter\">\n",
       "</g>\n",
       "<g fill=\"none\" color=\"black\" stroke=\"currentColor\" stroke-width=\"1.00\" stroke-linecap=\"butt\" stroke-linejoin=\"miter\">\n",
       "\t<path stroke='black'  d='M45.6,442.4 L54.6,442.4 M1150.1,442.4 L1141.1,442.4  '/>\t<g transform=\"translate(37.3,448.4)\" stroke=\"none\" fill=\"black\" font-family=\"sans\" font-size=\"16.00\"  text-anchor=\"end\">\n",
       "\t\t<text><tspan font-family=\"sans\" >10</tspan><tspan font-family=\"sans\"  font-size=\"12.8\" dy=\"-8.00px\">-1</tspan><tspan font-size=\"16.0\" dy=\"8.00\"></tspan></text>\n",
       "\t</g>\n",
       "</g>\n",
       "<g fill=\"none\" color=\"black\" stroke=\"currentColor\" stroke-width=\"1.00\" stroke-linecap=\"butt\" stroke-linejoin=\"miter\">\n",
       "\t<path stroke='black'  d='M45.6,320.1 L50.1,320.1 M1150.1,320.1 L1145.6,320.1 M45.6,248.5 L50.1,248.5 M1150.1,248.5 L1145.6,248.5\n",
       "\t\tM45.6,197.8 L50.1,197.8 M1150.1,197.8 L1145.6,197.8 M45.6,158.4 L50.1,158.4 M1150.1,158.4 L1145.6,158.4\n",
       "\t\tM45.6,126.2 L50.1,126.2 M1150.1,126.2 L1145.6,126.2 M45.6,99.0 L50.1,99.0 M1150.1,99.0 L1145.6,99.0\n",
       "\t\tM45.6,75.5 L50.1,75.5 M1150.1,75.5 L1145.6,75.5 M45.6,54.7 L50.1,54.7 M1150.1,54.7 L1145.6,54.7\n",
       "\t\tM45.6,36.1 L54.6,36.1 M1150.1,36.1 L1141.1,36.1  '/>\t<g transform=\"translate(37.3,42.1)\" stroke=\"none\" fill=\"black\" font-family=\"sans\" font-size=\"16.00\"  text-anchor=\"end\">\n",
       "\t\t<text><tspan font-family=\"sans\" >10</tspan><tspan font-family=\"sans\"  font-size=\"12.8\" dy=\"-8.00px\">0</tspan><tspan font-size=\"16.0\" dy=\"8.00\"></tspan></text>\n",
       "\t</g>\n",
       "</g>\n",
       "<g fill=\"none\" color=\"black\" stroke=\"currentColor\" stroke-width=\"1.00\" stroke-linecap=\"butt\" stroke-linejoin=\"miter\">\n",
       "\t<path stroke='black'  d='M45.6,442.4 L45.6,433.4 M45.6,36.1 L45.6,45.1  '/>\t<g transform=\"translate(45.6,473.6)\" stroke=\"none\" fill=\"black\" font-family=\"sans\" font-size=\"16.00\"  text-anchor=\"middle\">\n",
       "\t\t<text><tspan font-family=\"sans\" >10</tspan><tspan font-family=\"sans\"  font-size=\"12.8\" dy=\"-8.00px\">-2</tspan><tspan font-size=\"16.0\" dy=\"8.00\"></tspan></text>\n",
       "\t</g>\n",
       "</g>\n",
       "<g fill=\"none\" color=\"black\" stroke=\"currentColor\" stroke-width=\"1.00\" stroke-linecap=\"butt\" stroke-linejoin=\"miter\">\n",
       "\t<path stroke='black'  d='M211.8,442.4 L211.8,437.9 M211.8,36.1 L211.8,40.6 M309.1,442.4 L309.1,437.9 M309.1,36.1 L309.1,40.6\n",
       "\t\tM378.1,442.4 L378.1,437.9 M378.1,36.1 L378.1,40.6 M431.6,442.4 L431.6,437.9 M431.6,36.1 L431.6,40.6\n",
       "\t\tM475.3,442.4 L475.3,437.9 M475.3,36.1 L475.3,40.6 M512.3,442.4 L512.3,437.9 M512.3,36.1 L512.3,40.6\n",
       "\t\tM544.3,442.4 L544.3,437.9 M544.3,36.1 L544.3,40.6 M572.6,442.4 L572.6,437.9 M572.6,36.1 L572.6,40.6\n",
       "\t\tM597.9,442.4 L597.9,433.4 M597.9,36.1 L597.9,45.1  '/>\t<g transform=\"translate(597.9,473.6)\" stroke=\"none\" fill=\"black\" font-family=\"sans\" font-size=\"16.00\"  text-anchor=\"middle\">\n",
       "\t\t<text><tspan font-family=\"sans\" >10</tspan><tspan font-family=\"sans\"  font-size=\"12.8\" dy=\"-8.00px\">-1</tspan><tspan font-size=\"16.0\" dy=\"8.00\"></tspan></text>\n",
       "\t</g>\n",
       "</g>\n",
       "<g fill=\"none\" color=\"black\" stroke=\"currentColor\" stroke-width=\"1.00\" stroke-linecap=\"butt\" stroke-linejoin=\"miter\">\n",
       "\t<path stroke='black'  d='M764.1,442.4 L764.1,437.9 M764.1,36.1 L764.1,40.6 M861.3,442.4 L861.3,437.9 M861.3,36.1 L861.3,40.6\n",
       "\t\tM930.3,442.4 L930.3,437.9 M930.3,36.1 L930.3,40.6 M983.9,442.4 L983.9,437.9 M983.9,36.1 L983.9,40.6\n",
       "\t\tM1027.6,442.4 L1027.6,437.9 M1027.6,36.1 L1027.6,40.6 M1064.6,442.4 L1064.6,437.9 M1064.6,36.1 L1064.6,40.6\n",
       "\t\tM1096.6,442.4 L1096.6,437.9 M1096.6,36.1 L1096.6,40.6 M1124.8,442.4 L1124.8,437.9 M1124.8,36.1 L1124.8,40.6\n",
       "\t\tM1150.1,442.4 L1150.1,433.4 M1150.1,36.1 L1150.1,45.1  '/>\t<g transform=\"translate(1150.1,473.6)\" stroke=\"none\" fill=\"black\" font-family=\"sans\" font-size=\"16.00\"  text-anchor=\"middle\">\n",
       "\t\t<text><tspan font-family=\"sans\" >10</tspan><tspan font-family=\"sans\"  font-size=\"12.8\" dy=\"-8.00px\">0</tspan><tspan font-size=\"16.0\" dy=\"8.00\"></tspan></text>\n",
       "\t</g>\n",
       "</g>\n",
       "<g fill=\"none\" color=\"black\" stroke=\"currentColor\" stroke-width=\"1.00\" stroke-linecap=\"butt\" stroke-linejoin=\"miter\">\n",
       "\t<path stroke='black'  d='M1150.1,442.4 L1141.1,442.4  '/>\t<g transform=\"translate(1158.4,446.9)\" stroke=\"none\" fill=\"black\" font-family=\"Arial\" font-size=\"12.00\"  text-anchor=\"start\">\n",
       "\t\t<text><tspan font-family=\"Arial\" > </tspan></text>\n",
       "\t</g>\n",
       "</g>\n",
       "<g fill=\"none\" color=\"black\" stroke=\"currentColor\" stroke-width=\"1.00\" stroke-linecap=\"butt\" stroke-linejoin=\"miter\">\n",
       "\t<path stroke='black'  d='M1150.1,384.4 L1141.1,384.4  '/>\t<g transform=\"translate(1158.4,388.9)\" stroke=\"none\" fill=\"black\" font-family=\"Arial\" font-size=\"12.00\"  text-anchor=\"start\">\n",
       "\t\t<text><tspan font-family=\"Arial\" > </tspan></text>\n",
       "\t</g>\n",
       "</g>\n",
       "<g fill=\"none\" color=\"black\" stroke=\"currentColor\" stroke-width=\"1.00\" stroke-linecap=\"butt\" stroke-linejoin=\"miter\">\n",
       "\t<path stroke='black'  d='M1150.1,326.3 L1141.1,326.3  '/>\t<g transform=\"translate(1158.4,330.8)\" stroke=\"none\" fill=\"black\" font-family=\"Arial\" font-size=\"12.00\"  text-anchor=\"start\">\n",
       "\t\t<text><tspan font-family=\"Arial\" > </tspan></text>\n",
       "\t</g>\n",
       "</g>\n",
       "<g fill=\"none\" color=\"black\" stroke=\"currentColor\" stroke-width=\"1.00\" stroke-linecap=\"butt\" stroke-linejoin=\"miter\">\n",
       "\t<path stroke='black'  d='M1150.1,268.3 L1141.1,268.3  '/>\t<g transform=\"translate(1158.4,272.8)\" stroke=\"none\" fill=\"black\" font-family=\"Arial\" font-size=\"12.00\"  text-anchor=\"start\">\n",
       "\t\t<text><tspan font-family=\"Arial\" > </tspan></text>\n",
       "\t</g>\n",
       "</g>\n",
       "<g fill=\"none\" color=\"black\" stroke=\"currentColor\" stroke-width=\"1.00\" stroke-linecap=\"butt\" stroke-linejoin=\"miter\">\n",
       "\t<path stroke='black'  d='M1150.1,210.2 L1141.1,210.2  '/>\t<g transform=\"translate(1158.4,214.7)\" stroke=\"none\" fill=\"black\" font-family=\"Arial\" font-size=\"12.00\"  text-anchor=\"start\">\n",
       "\t\t<text><tspan font-family=\"Arial\" > </tspan></text>\n",
       "\t</g>\n",
       "</g>\n",
       "<g fill=\"none\" color=\"black\" stroke=\"currentColor\" stroke-width=\"1.00\" stroke-linecap=\"butt\" stroke-linejoin=\"miter\">\n",
       "\t<path stroke='black'  d='M1150.1,152.2 L1141.1,152.2  '/>\t<g transform=\"translate(1158.4,156.7)\" stroke=\"none\" fill=\"black\" font-family=\"Arial\" font-size=\"12.00\"  text-anchor=\"start\">\n",
       "\t\t<text><tspan font-family=\"Arial\" > </tspan></text>\n",
       "\t</g>\n",
       "</g>\n",
       "<g fill=\"none\" color=\"black\" stroke=\"currentColor\" stroke-width=\"1.00\" stroke-linecap=\"butt\" stroke-linejoin=\"miter\">\n",
       "\t<path stroke='black'  d='M1150.1,94.1 L1141.1,94.1  '/>\t<g transform=\"translate(1158.4,98.6)\" stroke=\"none\" fill=\"black\" font-family=\"Arial\" font-size=\"12.00\"  text-anchor=\"start\">\n",
       "\t\t<text><tspan font-family=\"Arial\" > </tspan></text>\n",
       "\t</g>\n",
       "</g>\n",
       "<g fill=\"none\" color=\"black\" stroke=\"currentColor\" stroke-width=\"1.00\" stroke-linecap=\"butt\" stroke-linejoin=\"miter\">\n",
       "\t<path stroke='black'  d='M1150.1,36.1 L1141.1,36.1  '/>\t<g transform=\"translate(1158.4,40.6)\" stroke=\"none\" fill=\"black\" font-family=\"Arial\" font-size=\"12.00\"  text-anchor=\"start\">\n",
       "\t\t<text><tspan font-family=\"Arial\" > </tspan></text>\n",
       "\t</g>\n",
       "</g>\n",
       "<g fill=\"none\" color=\"black\" stroke=\"currentColor\" stroke-width=\"1.00\" stroke-linecap=\"butt\" stroke-linejoin=\"miter\">\n",
       "\t<path stroke='black'  d='M45.6,36.1 L45.6,45.1  '/>\t<g transform=\"translate(45.6,22.6)\" stroke=\"none\" fill=\"black\" font-family=\"Arial\" font-size=\"12.00\"  text-anchor=\"middle\">\n",
       "\t\t<text><tspan font-family=\"Arial\" > </tspan></text>\n",
       "\t</g>\n",
       "</g>\n",
       "<g fill=\"none\" color=\"black\" stroke=\"currentColor\" stroke-width=\"1.00\" stroke-linecap=\"butt\" stroke-linejoin=\"miter\">\n",
       "\t<path stroke='black'  d='M168.3,36.1 L168.3,45.1  '/>\t<g transform=\"translate(168.3,22.6)\" stroke=\"none\" fill=\"black\" font-family=\"Arial\" font-size=\"12.00\"  text-anchor=\"middle\">\n",
       "\t\t<text><tspan font-family=\"Arial\" > </tspan></text>\n",
       "\t</g>\n",
       "</g>\n",
       "<g fill=\"none\" color=\"black\" stroke=\"currentColor\" stroke-width=\"1.00\" stroke-linecap=\"butt\" stroke-linejoin=\"miter\">\n",
       "\t<path stroke='black'  d='M291.0,36.1 L291.0,45.1  '/>\t<g transform=\"translate(291.0,22.6)\" stroke=\"none\" fill=\"black\" font-family=\"Arial\" font-size=\"12.00\"  text-anchor=\"middle\">\n",
       "\t\t<text><tspan font-family=\"Arial\" > </tspan></text>\n",
       "\t</g>\n",
       "</g>\n",
       "<g fill=\"none\" color=\"black\" stroke=\"currentColor\" stroke-width=\"1.00\" stroke-linecap=\"butt\" stroke-linejoin=\"miter\">\n",
       "\t<path stroke='black'  d='M413.8,36.1 L413.8,45.1  '/>\t<g transform=\"translate(413.8,22.6)\" stroke=\"none\" fill=\"black\" font-family=\"Arial\" font-size=\"12.00\"  text-anchor=\"middle\">\n",
       "\t\t<text><tspan font-family=\"Arial\" > </tspan></text>\n",
       "\t</g>\n",
       "</g>\n",
       "<g fill=\"none\" color=\"black\" stroke=\"currentColor\" stroke-width=\"1.00\" stroke-linecap=\"butt\" stroke-linejoin=\"miter\">\n",
       "\t<path stroke='black'  d='M536.5,36.1 L536.5,45.1  '/>\t<g transform=\"translate(536.5,22.6)\" stroke=\"none\" fill=\"black\" font-family=\"Arial\" font-size=\"12.00\"  text-anchor=\"middle\">\n",
       "\t\t<text><tspan font-family=\"Arial\" > </tspan></text>\n",
       "\t</g>\n",
       "</g>\n",
       "<g fill=\"none\" color=\"black\" stroke=\"currentColor\" stroke-width=\"1.00\" stroke-linecap=\"butt\" stroke-linejoin=\"miter\">\n",
       "\t<path stroke='black'  d='M659.2,36.1 L659.2,45.1  '/>\t<g transform=\"translate(659.2,22.6)\" stroke=\"none\" fill=\"black\" font-family=\"Arial\" font-size=\"12.00\"  text-anchor=\"middle\">\n",
       "\t\t<text><tspan font-family=\"Arial\" > </tspan></text>\n",
       "\t</g>\n",
       "</g>\n",
       "<g fill=\"none\" color=\"black\" stroke=\"currentColor\" stroke-width=\"1.00\" stroke-linecap=\"butt\" stroke-linejoin=\"miter\">\n",
       "\t<path stroke='black'  d='M781.9,36.1 L781.9,45.1  '/>\t<g transform=\"translate(781.9,22.6)\" stroke=\"none\" fill=\"black\" font-family=\"Arial\" font-size=\"12.00\"  text-anchor=\"middle\">\n",
       "\t\t<text><tspan font-family=\"Arial\" > </tspan></text>\n",
       "\t</g>\n",
       "</g>\n",
       "<g fill=\"none\" color=\"black\" stroke=\"currentColor\" stroke-width=\"1.00\" stroke-linecap=\"butt\" stroke-linejoin=\"miter\">\n",
       "\t<path stroke='black'  d='M904.7,36.1 L904.7,45.1  '/>\t<g transform=\"translate(904.7,22.6)\" stroke=\"none\" fill=\"black\" font-family=\"Arial\" font-size=\"12.00\"  text-anchor=\"middle\">\n",
       "\t\t<text><tspan font-family=\"Arial\" > </tspan></text>\n",
       "\t</g>\n",
       "</g>\n",
       "<g fill=\"none\" color=\"black\" stroke=\"currentColor\" stroke-width=\"1.00\" stroke-linecap=\"butt\" stroke-linejoin=\"miter\">\n",
       "\t<path stroke='black'  d='M1027.4,36.1 L1027.4,45.1  '/>\t<g transform=\"translate(1027.4,22.6)\" stroke=\"none\" fill=\"black\" font-family=\"Arial\" font-size=\"12.00\"  text-anchor=\"middle\">\n",
       "\t\t<text><tspan font-family=\"Arial\" > </tspan></text>\n",
       "\t</g>\n",
       "</g>\n",
       "<g fill=\"none\" color=\"black\" stroke=\"currentColor\" stroke-width=\"1.00\" stroke-linecap=\"butt\" stroke-linejoin=\"miter\">\n",
       "\t<path stroke='black'  d='M1150.1,36.1 L1150.1,45.1  '/>\t<g transform=\"translate(1150.1,22.6)\" stroke=\"none\" fill=\"black\" font-family=\"Arial\" font-size=\"12.00\"  text-anchor=\"middle\">\n",
       "\t\t<text><tspan font-family=\"Arial\" > </tspan></text>\n",
       "\t</g>\n",
       "</g>\n",
       "<g fill=\"none\" color=\"black\" stroke=\"currentColor\" stroke-width=\"1.00\" stroke-linecap=\"butt\" stroke-linejoin=\"miter\">\n",
       "</g>\n",
       "<g fill=\"none\" color=\"black\" stroke=\"currentColor\" stroke-width=\"1.00\" stroke-linecap=\"butt\" stroke-linejoin=\"miter\">\n",
       "\t<path stroke='black'  d='M45.6,36.1 L45.6,442.4 L1150.1,442.4 L1150.1,36.1 L45.6,36.1 Z  '/></g>\n",
       "<g fill=\"none\" color=\"black\" stroke=\"currentColor\" stroke-width=\"1.00\" stroke-linecap=\"butt\" stroke-linejoin=\"miter\">\n",
       "\t<g transform=\"translate(597.8,491.9)\" stroke=\"none\" fill=\"black\" font-family=\"Arial\" font-size=\"12.00\"  text-anchor=\"middle\">\n",
       "\t\t<text><tspan font-family=\"Arial\" >Hs</tspan></text>\n",
       "\t</g>\n",
       "</g>\n",
       "<g fill=\"none\" color=\"black\" stroke=\"currentColor\" stroke-width=\"1.00\" stroke-linecap=\"butt\" stroke-linejoin=\"miter\">\n",
       "</g>\n",
       "\t<g id=\"gnuplot_plot_1\" ><title>P=0</title>\n",
       "<g fill=\"none\" color=\"black\" stroke=\"currentColor\" stroke-width=\"1.00\" stroke-linecap=\"butt\" stroke-linejoin=\"miter\">\n",
       "\t<g transform=\"translate(1108.5,63.1)\" stroke=\"none\" fill=\"black\" font-family=\"Arial\" font-size=\"16.00\"  text-anchor=\"start\">\n",
       "\t\t<text><tspan font-family=\"Arial\" >P=0</tspan></text>\n",
       "\t</g>\n",
       "</g>\n",
       "<g fill=\"none\" color=\"black\" stroke=\"currentColor\" stroke-width=\"1.00\" stroke-linecap=\"butt\" stroke-linejoin=\"miter\">\n",
       "\t<path stroke='rgb(  0,   0, 255)'  d='M1044.0,57.1 L1097.4,57.1  '/>\t<use xlink:href='#gpPt6' transform='translate(1070.7,57.1) scale(3.60)' color='rgb(  0,   0, 255)'/>\n",
       "</g>\n",
       "\t</g>\n",
       "\t<g id=\"gnuplot_plot_2\" ><title>P=1</title>\n",
       "<g fill=\"none\" color=\"black\" stroke=\"currentColor\" stroke-width=\"1.00\" stroke-linecap=\"butt\" stroke-linejoin=\"miter\">\n",
       "\t<g transform=\"translate(1108.5,87.1)\" stroke=\"none\" fill=\"black\" font-family=\"Arial\" font-size=\"16.00\"  text-anchor=\"start\">\n",
       "\t\t<text><tspan font-family=\"Arial\" >P=1</tspan></text>\n",
       "\t</g>\n",
       "</g>\n",
       "<g fill=\"none\" color=\"black\" stroke=\"currentColor\" stroke-width=\"1.00\" stroke-linecap=\"butt\" stroke-linejoin=\"miter\">\n",
       "\t<path stroke='rgb(  0,   0, 255)'  d='M1044.0,81.1 L1097.4,81.1 M552.1,314.6 L716.4,286.3 L878.7,208.3 L1037.4,115.4  '/>\t<use xlink:href='#gpPt5' transform='translate(552.1,314.6) scale(3.60)' color='rgb(  0,   0, 255)'/>\n",
       "\t<use xlink:href='#gpPt5' transform='translate(716.4,286.3) scale(3.60)' color='rgb(  0,   0, 255)'/>\n",
       "\t<use xlink:href='#gpPt5' transform='translate(878.7,208.3) scale(3.60)' color='rgb(  0,   0, 255)'/>\n",
       "\t<use xlink:href='#gpPt5' transform='translate(1037.4,115.4) scale(3.60)' color='rgb(  0,   0, 255)'/>\n",
       "\t<use xlink:href='#gpPt5' transform='translate(1070.7,81.1) scale(3.60)' color='rgb(  0,   0, 255)'/>\n",
       "</g>\n",
       "\t</g>\n",
       "\t<g id=\"gnuplot_plot_3\" ><title>P=2</title>\n",
       "<g fill=\"none\" color=\"black\" stroke=\"currentColor\" stroke-width=\"1.00\" stroke-linecap=\"butt\" stroke-linejoin=\"miter\">\n",
       "\t<g transform=\"translate(1108.5,111.1)\" stroke=\"none\" fill=\"black\" font-family=\"Arial\" font-size=\"16.00\"  text-anchor=\"start\">\n",
       "\t\t<text><tspan font-family=\"Arial\" >P=2</tspan></text>\n",
       "\t</g>\n",
       "</g>\n",
       "<g fill=\"none\" color=\"black\" stroke=\"currentColor\" stroke-width=\"1.00\" stroke-linecap=\"butt\" stroke-linejoin=\"miter\">\n",
       "\t<path stroke='rgb(  0,   0,   0)'  d='M1044.0,105.1 L1097.4,105.1 M552.1,360.4 L716.4,206.8 L878.7,358.3 L1037.4,233.1  '/>\t<use xlink:href='#gpPt12' transform='translate(552.1,360.4) scale(3.60)' color='rgb(  0,   0,   0)'/>\n",
       "\t<use xlink:href='#gpPt12' transform='translate(716.4,206.8) scale(3.60)' color='rgb(  0,   0,   0)'/>\n",
       "\t<use xlink:href='#gpPt12' transform='translate(878.7,358.3) scale(3.60)' color='rgb(  0,   0,   0)'/>\n",
       "\t<use xlink:href='#gpPt12' transform='translate(1037.4,233.1) scale(3.60)' color='rgb(  0,   0,   0)'/>\n",
       "\t<use xlink:href='#gpPt12' transform='translate(1070.7,105.1) scale(3.60)' color='rgb(  0,   0,   0)'/>\n",
       "</g>\n",
       "\t</g>\n",
       "\t<g id=\"gnuplot_plot_4\" ><title>P=3</title>\n",
       "<g fill=\"none\" color=\"black\" stroke=\"currentColor\" stroke-width=\"1.00\" stroke-linecap=\"butt\" stroke-linejoin=\"miter\">\n",
       "\t<g transform=\"translate(1108.5,135.1)\" stroke=\"none\" fill=\"black\" font-family=\"Arial\" font-size=\"16.00\"  text-anchor=\"start\">\n",
       "\t\t<text><tspan font-family=\"Arial\" >P=3</tspan></text>\n",
       "\t</g>\n",
       "</g>\n",
       "<g fill=\"none\" color=\"black\" stroke=\"currentColor\" stroke-width=\"1.00\" stroke-linecap=\"butt\" stroke-linejoin=\"miter\">\n",
       "\t<path stroke='rgb(  0,   0,   0)'  d='M1044.0,129.1 L1097.4,129.1 M552.1,352.4 L716.4,332.1 L878.7,254.7 L1037.4,244.7  '/>\t<use xlink:href='#gpPt11' transform='translate(552.1,352.4) scale(3.60)' color='rgb(  0,   0,   0)'/>\n",
       "\t<use xlink:href='#gpPt11' transform='translate(716.4,332.1) scale(3.60)' color='rgb(  0,   0,   0)'/>\n",
       "\t<use xlink:href='#gpPt11' transform='translate(878.7,254.7) scale(3.60)' color='rgb(  0,   0,   0)'/>\n",
       "\t<use xlink:href='#gpPt11' transform='translate(1037.4,244.7) scale(3.60)' color='rgb(  0,   0,   0)'/>\n",
       "\t<use xlink:href='#gpPt11' transform='translate(1070.7,129.1) scale(3.60)' color='rgb(  0,   0,   0)'/>\n",
       "</g>\n",
       "\t</g>\n",
       "<g fill=\"none\" color=\"#FFFFFF\" stroke=\"rgb(  0,   0,   0)\" stroke-width=\"2.00\" stroke-linecap=\"butt\" stroke-linejoin=\"miter\">\n",
       "</g>\n",
       "<g fill=\"none\" color=\"black\" stroke=\"currentColor\" stroke-width=\"2.00\" stroke-linecap=\"butt\" stroke-linejoin=\"miter\">\n",
       "</g>\n",
       "<g fill=\"none\" color=\"black\" stroke=\"black\" stroke-width=\"1.00\" stroke-linecap=\"butt\" stroke-linejoin=\"miter\">\n",
       "</g>\n",
       "<g fill=\"none\" color=\"black\" stroke=\"currentColor\" stroke-width=\"1.00\" stroke-linecap=\"butt\" stroke-linejoin=\"miter\">\n",
       "\t<path stroke='black'  d='M45.6,36.1 L45.6,442.4 L1150.1,442.4 L1150.1,36.1 L45.6,36.1 Z  '/></g>\n",
       "<g fill=\"none\" color=\"black\" stroke=\"currentColor\" stroke-width=\"1.00\" stroke-linecap=\"butt\" stroke-linejoin=\"miter\">\n",
       "</g>\n",
       "</g>\n",
       "</svg>\n",
       "\n"
      ]
     },
     "metadata": {},
     "output_type": "display_data"
    }
   ],
   "source": [
    "var plot = new Plot2Ddata();\n",
    "var EOCs= new List<double>();\n",
    "\n",
    "MultidimensionalArray errorsAndCellsIdeal=MultidimensionalArray.Create(Cells.Length,degs.Length+1);\n",
    "errorsAndCells.SetColumn(0,Hs.ToList());\n",
    "errorsAndCellsIdeal.SetColumn(0,Hs.ToList());\n",
    "int count=0;\n",
    "foreach(int p in degs){\n",
    "    errorsAndCellsIdeal.SetColumn(p+1,GetIdealConvPlot(errorsAndCells.GetColumn(p+1).ToList(),Hs.ToList(),p));\n",
    "    EOCs.Add( ApproxSlope(errorsAndCells.GetColumn(p+1).ToList(),Hs.ToList()));\n",
    "    plot.AddDataGroup($\"P={p}\",Hs,errorsAndCells.GetColumn(p+1), GetFormat(count));\n",
    "    var fmt = GetFormat(count);\n",
    "    fmt.PointSize=0.01;\n",
    "    fmt.DashType=DashTypes.Dashed;\n",
    "    //plot.AddDataGroup($\"ideal {p+1}\",Hs,GetIdealConvPlot(errorsAndCells.GetColumn(p+1).ToList(),Hs.ToList(),p), fmt);\n",
    "    count++;\n",
    "}\n",
    "errorsAndCells.SaveToTextFile(\"CNS_ConvergenceStudyErrors.txt\");\n",
    "errorsAndCellsIdeal.SaveToTextFile(\"CNS_ConvergenceStudyErrorsIdeal.txt\");\n",
    "plot.Xlabel=\"Hs\";\n",
    "plot.LogY = true;\n",
    "plot.LogX = true;\n",
    "plot.ShowXtics = true;\n",
    "plot.ToGnuplot().PlotSVG(xRes:1200,yRes:500)"
   ]
  },
  {
   "cell_type": "code",
   "execution_count": 33,
   "metadata": {
    "dotnet_interactive": {
     "language": "csharp"
    },
    "polyglot_notebook": {
     "kernelName": "csharp"
    }
   },
   "outputs": [
    {
     "ename": "Error",
     "evalue": "(4,25): error CS1501: No overload for method 'ComputeAmpErrors' takes 10 arguments",
     "output_type": "error",
     "traceback": [
      "(4,25): error CS1501: No overload for method 'ComputeAmpErrors' takes 10 arguments"
     ]
    }
   ],
   "source": [
    "si =ses.Pick(0);\n",
    "IDTTimeStepInfo lts = (IDTTimeStepInfo)((TimestepProxy)si.Timesteps.Last()).GetInternal();\n",
    "double exact_amp_fac=-0.014848*1e-05; double tMin=0.0 +eps;double tMax=4.0-eps;\n",
    "List<double> ampErrors= ComputeAmpErrors(tMin,tMax, xMin, xMax, xRef,tRef,\"p_per\",lts,false,exact_amp_fac);\n",
    "ampErrors.Average()"
   ]
  },
  {
   "cell_type": "code",
   "execution_count": 34,
   "metadata": {
    "dotnet_interactive": {
     "language": "csharp"
    },
    "polyglot_notebook": {
     "kernelName": "csharp"
    }
   },
   "outputs": [
    {
     "ename": "Error",
     "evalue": "(1,82): error CS0103: The name 'lts' does not exist in the current context",
     "output_type": "error",
     "traceback": [
      "(1,82): error CS0103: The name 'lts' does not exist in the current context"
     ]
    }
   ],
   "source": [
    "(double[] tVals, double[] yVals)=GetPlotAlongXRay(tMin,tMax,2.7-eps,tRef,\"p_per\",lts);\n",
    "yVals.Min();\n",
    "Math.Abs((exact_amp_fac-yVals.Min())/exact_amp_fac)"
   ]
  },
  {
   "cell_type": "code",
   "execution_count": 35,
   "metadata": {
    "dotnet_interactive": {
     "language": "csharp"
    },
    "polyglot_notebook": {
     "kernelName": "csharp"
    }
   },
   "outputs": [
    {
     "data": {
      "text/html": [
       "<div class=\"dni-plaintext\"><pre>[ NaN, 0.5610482633134605, 0.3583693789320386, 0.30059387435908175 ]</pre></div><style>\r\n",
       ".dni-code-hint {\r\n",
       "    font-style: italic;\r\n",
       "    overflow: hidden;\r\n",
       "    white-space: nowrap;\r\n",
       "}\r\n",
       ".dni-treeview {\r\n",
       "    white-space: nowrap;\r\n",
       "}\r\n",
       ".dni-treeview td {\r\n",
       "    vertical-align: top;\r\n",
       "    text-align: start;\r\n",
       "}\r\n",
       "details.dni-treeview {\r\n",
       "    padding-left: 1em;\r\n",
       "}\r\n",
       "table td {\r\n",
       "    text-align: start;\r\n",
       "}\r\n",
       "table tr { \r\n",
       "    vertical-align: top; \r\n",
       "    margin: 0em 0px;\r\n",
       "}\r\n",
       "table tr td pre \r\n",
       "{ \r\n",
       "    vertical-align: top !important; \r\n",
       "    margin: 0em 0px !important;\r\n",
       "} \r\n",
       "table th {\r\n",
       "    text-align: start;\r\n",
       "}\r\n",
       "</style>"
      ]
     },
     "metadata": {},
     "output_type": "display_data"
    }
   ],
   "source": [
    "EOCs"
   ]
  },
  {
   "attachments": {},
   "cell_type": "markdown",
   "metadata": {},
   "source": [
    "## Plotting the ShadowFields (for visualization)"
   ]
  },
  {
   "attachments": {},
   "cell_type": "markdown",
   "metadata": {},
   "source": [
    "choose a concrete session"
   ]
  },
  {
   "cell_type": "code",
   "execution_count": 36,
   "metadata": {
    "dotnet_interactive": {
     "language": "csharp"
    },
    "polyglot_notebook": {
     "kernelName": "csharp"
    }
   },
   "outputs": [
    {
     "data": {
      "text/plain": []
     },
     "metadata": {},
     "output_type": "display_data"
    }
   ],
   "source": [
    "var sessions = database.Sessions.Where(s => s.Timesteps.Count >0);\n",
    "sessions=sessions.Where(s => s.Name.Contains(\"10x32\") && s.Name.Contains(\"iFlux0\"));\n",
    "sessions"
   ]
  },
  {
   "cell_type": "code",
   "execution_count": 37,
   "metadata": {
    "dotnet_interactive": {
     "language": "csharp"
    },
    "polyglot_notebook": {
     "kernelName": "csharp"
    }
   },
   "outputs": [
    {
     "ename": "Error",
     "evalue": "System.ArgumentOutOfRangeException: Specified argument was out of the range of valid values. (Parameter 'index')\r\n   at System.Linq.ThrowHelper.ThrowArgumentOutOfRangeException(ExceptionArgument argument)\r\n   at System.Linq.Enumerable.ElementAt[TSource](IEnumerable`1 source, Int32 index)\r\n   at BoSSS.Foundation.IO.IEnumerableExtensions.Pick[T](IEnumerable`1 entities, Int32 index) in C:\\experimental\\public\\src\\L4-application\\BoSSSpad\\IEnumerableExtensions.cs:line 131\r\n   at Submission#38.<<Initialize>>d__0.MoveNext()\r\n--- End of stack trace from previous location ---\r\n   at Microsoft.CodeAnalysis.Scripting.ScriptExecutionState.RunSubmissionsAsync[TResult](ImmutableArray`1 precedingExecutors, Func`2 currentExecutor, StrongBox`1 exceptionHolderOpt, Func`2 catchExceptionOpt, CancellationToken cancellationToken)",
     "output_type": "error",
     "traceback": [
      "System.ArgumentOutOfRangeException: Specified argument was out of the range of valid values. (Parameter 'index')\r\n",
      "   at System.Linq.ThrowHelper.ThrowArgumentOutOfRangeException(ExceptionArgument argument)\r\n",
      "   at System.Linq.Enumerable.ElementAt[TSource](IEnumerable`1 source, Int32 index)\r\n",
      "   at BoSSS.Foundation.IO.IEnumerableExtensions.Pick[T](IEnumerable`1 entities, Int32 index) in C:\\experimental\\public\\src\\L4-application\\BoSSSpad\\IEnumerableExtensions.cs:line 131\r\n",
      "   at Submission#38.<<Initialize>>d__0.MoveNext()\r\n",
      "--- End of stack trace from previous location ---\r\n",
      "   at Microsoft.CodeAnalysis.Scripting.ScriptExecutionState.RunSubmissionsAsync[TResult](ImmutableArray`1 precedingExecutors, Func`2 currentExecutor, StrongBox`1 exceptionHolderOpt, Func`2 catchExceptionOpt, CancellationToken cancellationToken)"
     ]
    }
   ],
   "source": [
    "var si = sessions.Pick(0);\n",
    "si"
   ]
  },
  {
   "attachments": {},
   "cell_type": "markdown",
   "metadata": {},
   "source": [
    "plot it"
   ]
  },
  {
   "cell_type": "code",
   "execution_count": 38,
   "metadata": {
    "dotnet_interactive": {
     "language": "csharp"
    }
   },
   "outputs": [
    {
     "ename": "Error",
     "evalue": "System.NullReferenceException: Object reference not set to an instance of an object.\r\n   at Submission#39.<<Initialize>>d__0.MoveNext()\r\n--- End of stack trace from previous location ---\r\n   at Microsoft.CodeAnalysis.Scripting.ScriptExecutionState.RunSubmissionsAsync[TResult](ImmutableArray`1 precedingExecutors, Func`2 currentExecutor, StrongBox`1 exceptionHolderOpt, Func`2 catchExceptionOpt, CancellationToken cancellationToken)",
     "output_type": "error",
     "traceback": [
      "System.NullReferenceException: Object reference not set to an instance of an object.\r\n",
      "   at Submission#39.<<Initialize>>d__0.MoveNext()\r\n",
      "--- End of stack trace from previous location ---\r\n",
      "   at Microsoft.CodeAnalysis.Scripting.ScriptExecutionState.RunSubmissionsAsync[TResult](ImmutableArray`1 precedingExecutors, Func`2 currentExecutor, StrongBox`1 exceptionHolderOpt, Func`2 catchExceptionOpt, CancellationToken cancellationToken)"
     ]
    }
   ],
   "source": [
    "using BoSSS.Solution.Tecplot;\n",
    "using System.IO;\n",
    "Directory.GetFiles(\".\", \"*.plt\").ForEach(file => File.Delete(file));\n",
    "IDTTimeStepInfo lts= (IDTTimeStepInfo)((TimestepProxy) si.Timesteps.Last()).GetInternal();\n",
    "//double[] TStoPlot = new double[] {0,5,10,15,20}; // specify selected Iterations\n",
    "var allTs = (List<double>) lts.TimeStepNumbers; \n",
    "var N=5;\n",
    "var TStoPlot= allTs.Where(ts => ts % N == 0); // plot every N\n",
    "foreach(var si in ses){\n",
    "    foreach(var timestep in si.Timesteps){\n",
    "        if(TStoPlot.Contains((double) timestep.TimeStepNumber.MajorNumber)){\n",
    "                IDTTimeStepInfo lts= (IDTTimeStepInfo)((TimestepProxy) timestep).GetInternal();\n",
    "                var SF = lts.GetShadowFields();\n",
    "                var texplot = new Tecplot(timestep.Fields.Pick(0).GridDat, 2);\n",
    "                texplot.PlotFields( si.Name + \"_\" + lts.TimeStepNumber,0.0,timestep.Fields);\n",
    "        }\n",
    "    }\n",
    "}"
   ]
  },
  {
   "cell_type": "code",
   "execution_count": 39,
   "metadata": {
    "dotnet_interactive": {
     "language": "csharp"
    },
    "polyglot_notebook": {
     "kernelName": "csharp"
    }
   },
   "outputs": [],
   "source": []
  }
 ],
 "metadata": {
  "kernelspec": {
   "display_name": ".NET (C#)",
   "language": "C#",
   "name": ".net-csharp"
  },
  "language_info": {
   "name": "polyglot-notebook"
  },
  "polyglot_notebook": {
   "kernelInfo": {
    "defaultKernelName": "csharp",
    "items": [
     {
      "aliases": [],
      "name": ".NET"
     },
     {
      "aliases": [
       "C#",
       "c#"
      ],
      "languageName": "C#",
      "name": "csharp"
     },
     {
      "aliases": [
       "F#",
       "f#"
      ],
      "languageName": "F#",
      "name": "fsharp"
     },
     {
      "aliases": [],
      "languageName": "HTML",
      "name": "html"
     },
     {
      "aliases": [
       "js"
      ],
      "languageName": "JavaScript",
      "name": "javascript"
     },
     {
      "aliases": [],
      "languageName": "KQL",
      "name": "kql"
     },
     {
      "aliases": [],
      "languageName": "Mermaid",
      "name": "mermaid"
     },
     {
      "aliases": [
       "powershell"
      ],
      "languageName": "PowerShell",
      "name": "pwsh"
     },
     {
      "aliases": [],
      "languageName": "SQL",
      "name": "sql"
     },
     {
      "aliases": [],
      "name": "value"
     },
     {
      "aliases": [
       "frontend"
      ],
      "name": "vscode"
     },
     {
      "aliases": [],
      "name": "webview"
     }
    ]
   }
  }
 },
 "nbformat": 4,
 "nbformat_minor": 2
}

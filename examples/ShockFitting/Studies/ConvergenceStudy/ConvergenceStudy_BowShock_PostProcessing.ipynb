{
 "cells": [
  {
   "cell_type": "markdown",
   "metadata": {},
   "source": [
    "This Notebook evaluates a convergence study for the Bow Shock Problem as presented presented in the phd thesis \"Implicit Discontinuous Galerkin Shock Tracking methods for Compressible Flows with Shocks\" (Vandergrift 2024)."
   ]
  },
  {
   "cell_type": "code",
   "execution_count": null,
   "metadata": {
    "dotnet_interactive": {
     "language": "csharp"
    }
   },
   "outputs": [],
   "source": [
    "#r \"BoSSSpad.dll\"\n",
    "#r \"XESF.dll\"\n",
    "using System;\n",
    "using BoSSS.Foundation;\n",
    "using BoSSS.Application.BoSSSpad;\n",
    "using BoSSS.Solution;\n",
    "using BoSSS.Solution.Tecplot;\n",
    "using BoSSS.Foundation.IO;\n",
    "using ilPSP.Tracing;\n",
    "using BoSSS.Solution.Utils;\n",
    "using ilPSP.LinSolvers;\n",
    "using BoSSS.Solution.NSECommon;\n",
    "using ilPSP.Connectors.Matlab;\n",
    "using ilPSP;\n",
    "using BoSSS.Foundation.Grid.Classic;\n",
    "using ilPSP.Utils;\n",
    "using BoSSS.Foundation.Grid.RefElements;\n",
    "using System.Collections.Generic;\n",
    "using BoSSS.Foundation.Grid;\n",
    "using BoSSS.Foundation.XDG;\n",
    "using BoSSS.Solution.XdgTimestepping;\n",
    "using BoSSS.Solution.AdvancedSolvers;\n",
    "using System.Linq;\n",
    "using BoSSS.Foundation.Grid.Aggregation;\n",
    "using BoSSS.Platform;\n",
    "using MPI.Wrappers;\n",
    "using System.Diagnostics;\n",
    "using System.IO;\n",
    "using System.Collections;\n",
    "using BoSSS.Foundation.Quadrature;\n",
    "using BoSSS.Solution.Statistic;\n",
    "using BoSSS.Solution.Gnuplot;\n",
    "using static BoSSS.Application.BoSSSpad.BoSSSshell;\n",
    "using BoSSS.Solution.Control;\n",
    "using BoSSS.Solution.GridImport;\n",
    "using ApplicationWithIDT;\n",
    "using XESF;\n",
    "Init();\n"
   ]
  },
  {
   "cell_type": "markdown",
   "metadata": {},
   "source": [
    "init workflow\n"
   ]
  },
  {
   "cell_type": "code",
   "execution_count": null,
   "metadata": {
    "dotnet_interactive": {
     "language": "csharp"
    }
   },
   "outputs": [],
   "source": [
    "BoSSSshell.WorkflowMgm.Init(\"XESF_BowShock_ConvStudy\");\n",
    "BoSSSshell.WorkflowMgm.SetNameBasedSessionJobControlCorrelation();\n",
    "BoSSSshell.WorkflowMgm.DefaultDatabase\n"
   ]
  },
  {
   "cell_type": "code",
   "execution_count": null,
   "metadata": {
    "dotnet_interactive": {
     "language": "csharp"
    }
   },
   "outputs": [],
   "source": [
    "var dbPath = BoSSSshell.WorkflowMgm.DefaultDatabase.Path;\n",
    "var database = OpenOrCreateDatabase(dbPath);\n",
    "var dt = BoSSSshell.WorkflowMgm.Sessions.Last().CreationTime;\n",
    "dt\n"
   ]
  },
  {
   "cell_type": "code",
   "execution_count": null,
   "metadata": {
    "dotnet_interactive": {
     "language": "csharp"
    },
    "polyglot_notebook": {
     "kernelName": "csharp"
    }
   },
   "outputs": [],
   "source": [
    "var sessions = BoSSSshell.WorkflowMgm.Sessions;\n",
    "sessions"
   ]
  },
  {
   "cell_type": "code",
   "execution_count": null,
   "metadata": {
    "dotnet_interactive": {
     "language": "csharp"
    },
    "polyglot_notebook": {
     "kernelName": "csharp"
    }
   },
   "outputs": [],
   "source": [
    "var aaa = new MatrixAssembler(3);\n",
    "var si = database.Sessions.Pick(0);\n",
    "var ti = si.Timesteps;\n",
    "si.ID"
   ]
  },
  {
   "cell_type": "markdown",
   "metadata": {},
   "source": [
    "## Enthalpy error\n",
    "enthalpy is computed as\n",
    "$$h=\\frac{(\\rho E + p)}{\\rho},~ p=(\\gamma -1)(\\rho E - \\rho e_{kin}),~\\rho e_{kin}=\\frac{\\rho }{2}(\\vert u\\vert^2 + \\vert v\\vert^2)$$\n",
    "\n",
    "For an uniform inviscid flow the inflow enthalpy should remain constant throughout the flowfield \n",
    "\n",
    "In the case of the BowShock ($p_\\text{in}=1,\\rho_\\text{in}=1$) presented, the v-velocity is zero and we have\n",
    "$$ h_{in} = \\rho E_{in}+1$$\n",
    "We prescribe the inflow conditions by the Mach number $M_{in}=4$. From those the Energy is computed as \n",
    "$$ \\rho E_{in} = (\\rho e_{inner})_\\text{in}+(\\rho e_{kin})_\\text{in}=\\frac{p_\\text{in}}{\\gamma-1}+\\frac{\\rho_\\text{in}}{2}u_\\text{in}^2= \\frac{1}{\\gamma-1}+\\frac{1}{2}u_{in}^2$$ \n",
    "where $u_{in} = M_{in}\\sqrt{\\gamma}$. In total we obtain:\n",
    "$$ h_\\text{in}=\\rho E_{in}+1=\\frac{\\gamma}{\\gamma-1}+\\frac{1}{2}u_{in}^2$$\n"
   ]
  },
  {
   "cell_type": "code",
   "execution_count": null,
   "metadata": {
    "dotnet_interactive": {
     "language": "csharp"
    },
    "polyglot_notebook": {
     "kernelName": "csharp"
    }
   },
   "outputs": [],
   "source": [
    "using BoSSS.Solution.CompressibleFlowCommon.MaterialProperty;\n",
    "var enthalpy_end = (XDGField) si.Timesteps.Last().GetField(\"h\");\n",
    "var enthalpy_exact = (XDGField) enthalpy_end.Clone();\n",
    "double gamma = IdealGas.Air.HeatCapacityRatio;\n",
    "double Ms = 4;\n",
    "double densityLeft = 1;\n",
    "double pressureLeft = 1;\n",
    "double velocityXLeft = Ms * Math.Sqrt(gamma * pressureLeft / densityLeft);\n",
    "\n",
    "(gamma)/(gamma-1) + 0.5*velocityXLeft*velocityXLeft"
   ]
  },
  {
   "cell_type": "code",
   "execution_count": null,
   "metadata": {
    "dotnet_interactive": {
     "language": "csharp"
    }
   },
   "outputs": [],
   "source": [
    "var enthalpy_inflow = (gamma)/(gamma-1) + 0.5*velocityXLeft*velocityXLeft;\n",
    "enthalpy_exact.Clear();\n",
    "enthalpy_exact.GetSpeciesShadowField(\"L\").ProjectField(1.0,t => enthalpy_inflow);\n",
    "enthalpy_exact.GetSpeciesShadowField(\"R\").ProjectField(1.0,t => enthalpy_inflow);\n",
    "enthalpy_exact.Identification= \"h_exact\";\n",
    "var EEN = enthalpy_exact.L2NormAllSpecies();"
   ]
  },
  {
   "cell_type": "markdown",
   "metadata": {},
   "source": [
    "## Choose which runs to plot"
   ]
  },
  {
   "cell_type": "code",
   "execution_count": null,
   "metadata": {
    "dotnet_interactive": {
     "language": "csharp"
    },
    "polyglot_notebook": {
     "kernelName": "csharp"
    }
   },
   "outputs": [],
   "source": [
    "var sessions = BoSSSshell.WorkflowMgm.Sessions.Where(s => (s.Name.Contains(\"iFlx0\") &&s.Name.Contains(\"iPrb0\"))); // the one plotted in the publication\n",
    "sessions.OrderBy(si => si.GetGrids().Pick(0).NumberOfCells);\n",
    "sessions\n"
   ]
  },
  {
   "cell_type": "markdown",
   "metadata": {},
   "source": [
    "# A Helper Function to obtain different plot formats"
   ]
  },
  {
   "cell_type": "code",
   "execution_count": null,
   "metadata": {
    "dotnet_interactive": {
     "language": "csharp"
    },
    "polyglot_notebook": {
     "kernelName": "csharp"
    }
   },
   "outputs": [],
   "source": [
    "using BoSSS.Solution.Tecplot;\n",
    "using System.IO;\n",
    "var texplot = new Tecplot(enthalpy_exact.GridDat, 2);\n",
    "var allEE = new List<List<double>>();\n",
    "var plot = new Plot2Ddata();\n",
    "public PlotFormat GetFormat(int count){\n",
    "    \n",
    "    var allPT = new BoSSS.Solution.Gnuplot.PointTypes[] { PointTypes.Diamond, PointTypes.LowerTriangle, PointTypes.Circle, PointTypes.OpenDiamond, PointTypes.OpenLowerTriangle, PointTypes.OpenCircle,PointTypes.Diamond, PointTypes.LowerTriangle, PointTypes.Circle, PointTypes.OpenDiamond, PointTypes.OpenLowerTriangle, PointTypes.OpenCircle, PointTypes.Circle, PointTypes.OpenDiamond, PointTypes.OpenLowerTriangle, PointTypes.OpenCircle, PointTypes.Circle, PointTypes.OpenDiamond, PointTypes.OpenLowerTriangle, PointTypes.OpenCircle, PointTypes.Circle, PointTypes.OpenDiamond, PointTypes.OpenLowerTriangle, PointTypes.OpenCircle};\n",
    "    var allC = new BoSSS.Solution.Gnuplot.LineColors[] { LineColors.Blue, LineColors.Black, LineColors.Red,LineColors.Blue, LineColors.Black, LineColors.Red, LineColors.Red,LineColors.Blue, LineColors.Black, LineColors.Red, LineColors.Red,LineColors.Blue, LineColors.Black, LineColors.Red, LineColors.Red,LineColors.Blue, LineColors.Black, LineColors.Red, LineColors.Red, LineColors.Red,LineColors.Blue, LineColors.Black, LineColors.Red};\n",
    "    var Fmt = new PlotFormat();\n",
    "    Fmt.PointSize = 0.8;\n",
    "    Fmt.LineWidth = 1;    \n",
    "    Fmt.Style     = Styles.LinesPoints;\n",
    "\n",
    "    Fmt.LineColor = allC[count];\n",
    "    Fmt.PointType =  allPT[count];\n",
    "    return Fmt;\n",
    "}"
   ]
  },
  {
   "cell_type": "markdown",
   "metadata": {},
   "source": [
    "## Actual Enthalpy Error Plot\n"
   ]
  },
  {
   "cell_type": "code",
   "execution_count": null,
   "metadata": {
    "dotnet_interactive": {
     "language": "csharp"
    },
    "polyglot_notebook": {
     "kernelName": "csharp"
    }
   },
   "outputs": [],
   "source": [
    "int count=0;\n",
    "foreach(var si in sessions){\n",
    "    var enthalpyerrors = new List<double>();\n",
    "    foreach(var timestep in si.Timesteps){\n",
    "        var error = ((XDGField) timestep.GetField(\"h_err\")).L2NormAllSpecies()/EEN;\n",
    "        enthalpyerrors.Add(error);\n",
    "    }\n",
    "    allEE.Add(enthalpyerrors);\n",
    "    IDTTimeStepInfo lts= (IDTTimeStepInfo)((TimestepProxy) si.Timesteps.Pick(enthalpyerrors.Count -1)).GetInternal();\n",
    "    plot.AddDataGroup(si.Name,lts.TimeStepNumbers,enthalpyerrors, GetFormat(count));\n",
    "    count++;\n",
    "    enthalpyerrors.SaveToTextFile($\"EnthalpyErrors_{si.Name}.txt\");\n",
    "}\n",
    "plot.Xlabel=\"Iteration\";\n",
    "plot.LogY = true;\n",
    "plot.ShowXtics = true;\n",
    "plot.ToGnuplot().PlotSVG(xRes:1200,yRes:600)"
   ]
  },
  {
   "cell_type": "markdown",
   "metadata": {},
   "source": [
    "## Residual History"
   ]
  },
  {
   "cell_type": "code",
   "execution_count": null,
   "metadata": {
    "dotnet_interactive": {
     "language": "csharp"
    }
   },
   "outputs": [],
   "source": [
    "\n",
    "using BoSSS.Solution.Tecplot;\n",
    "using System.IO;\n",
    "//Directory.GetFiles(\".\", \"*.plt\").ForEach(file => File.Delete(file));\n",
    "var texplot = new Tecplot(enthalpy_exact.GridDat, 2);\n",
    "var allEE = new List<List<double>>();\n",
    "var plot = new Plot2Ddata();\n",
    "int count=0;\n",
    "foreach(var si in sessions){\n",
    "    var enthalpyerrors = new List<double>();\n",
    "    IDTTimeStepInfo lts= (IDTTimeStepInfo)((TimestepProxy) si.Timesteps.Last()).GetInternal();\n",
    "    plot.AddDataGroup(\"||r|| - \"+ si.Name,lts.TimeStepNumbers,lts.ResHistory, GetFormat(count));\n",
    "    count++;\n",
    "    plot.AddDataGroup(\"EnRes_\"+si.Name,lts.TimeStepNumbers,lts.EnResHistory, GetFormat(count));\n",
    "    count++;\n",
    "}\n",
    "\n",
    "plot.Xlabel=\"Iteration\";\n",
    "plot.LogY = true;\n",
    "plot.ShowXtics = true;\n",
    "plot.ToGnuplot().PlotSVG(xRes:1600,yRes:500)"
   ]
  },
  {
   "cell_type": "markdown",
   "metadata": {},
   "source": [
    "save results to text file"
   ]
  },
  {
   "cell_type": "code",
   "execution_count": null,
   "metadata": {
    "dotnet_interactive": {
     "language": "csharp"
    },
    "polyglot_notebook": {
     "kernelName": "csharp"
    }
   },
   "outputs": [],
   "source": [
    "public void SavePlotTable(List<double> Iterations, List<double> y1, string l1, List<double> y2 = null, string l2 = null, List<double> y3 = null, string l3 = null) {\n",
    "            var table1 = MultidimensionalArray.Create(y1.Count,2);\n",
    "            table1.SetColumn(0, Iterations);\n",
    "            table1.SetColumn(1, y1);\n",
    "            table1.SaveToTextFile(l1 + \".txt\");\n",
    "            if(y2 != null && l2 != null) {\n",
    "                var table2 = MultidimensionalArray.Create(y2.Count, 2);\n",
    "                table2.SetColumn(0, Iterations);\n",
    "                table2.SetColumn(1, y2);\n",
    "                table2.SaveToTextFile(l2 + \".txt\");\n",
    "            }\n",
    "            if(y3 != null && l3 != null) {\n",
    "                var table3 = MultidimensionalArray.Create(y3.Count, 2);\n",
    "                table3.SetColumn(0, Iterations);\n",
    "                table3.SetColumn(1, y3);\n",
    "                table3.SaveToTextFile(l3 + \".txt\");\n",
    "            }\n",
    "}\n",
    "var si= sessions.Pick(0);\n",
    "IDTTimeStepInfo lts= (IDTTimeStepInfo)((TimestepProxy) si.Timesteps.Last()).GetInternal();\n",
    "var enthalpyerrors = new List<double>();\n",
    "foreach(var timestep in si.Timesteps){\n",
    "    var error = ((XDGField) timestep.GetField(\"h_err\")).L2NormAllSpecies()/EEN;\n",
    "    enthalpyerrors.Add(error);\n",
    "}\n",
    "SavePlotTable(lts.TimeStepNumbers,lts.EnResHistory, \"EnResNorms\", lts.ResHistory, \"ResNorms\", enthalpyerrors, \"EnthalpyErrors\")"
   ]
  },
  {
   "cell_type": "markdown",
   "metadata": {},
   "source": [
    "## Convergence Plot Enthalpy"
   ]
  },
  {
   "cell_type": "markdown",
   "metadata": {},
   "source": [
    "choose the sessions"
   ]
  },
  {
   "cell_type": "markdown",
   "metadata": {},
   "source": [
    "they must be reordered for the plot to work..."
   ]
  },
  {
   "cell_type": "code",
   "execution_count": null,
   "metadata": {
    "dotnet_interactive": {
     "language": "csharp"
    },
    "polyglot_notebook": {
     "kernelName": "csharp"
    }
   },
   "outputs": [],
   "source": [
    "var ses = sessions;\n",
    "ses = ses.OrderBy(si => si.GetGrids().Pick(0).NumberOfCells);\n",
    "ses"
   ]
  },
  {
   "cell_type": "markdown",
   "metadata": {},
   "source": [
    "Number of cells"
   ]
  },
  {
   "cell_type": "code",
   "execution_count": null,
   "metadata": {
    "dotnet_interactive": {
     "language": "csharp"
    },
    "polyglot_notebook": {
     "kernelName": "csharp"
    }
   },
   "outputs": [],
   "source": [
    "int[] Cells = ses.Select(si => si.GetGrids().Pick(0).NumberOfCells).ToArray();\n",
    "Cells"
   ]
  },
  {
   "cell_type": "markdown",
   "metadata": {},
   "source": [
    "helper arrays"
   ]
  },
  {
   "cell_type": "code",
   "execution_count": null,
   "metadata": {
    "dotnet_interactive": {
     "language": "csharp"
    },
    "polyglot_notebook": {
     "kernelName": "csharp"
    }
   },
   "outputs": [],
   "source": [
    "int[] degs = new int[] {0,1,2,3};\n",
    "var errors_array= MultidimensionalArray.Create(4,ses.Count());\n"
   ]
  },
  {
   "cell_type": "markdown",
   "metadata": {},
   "source": [
    "Function used to calculate the EOCs"
   ]
  },
  {
   "cell_type": "code",
   "execution_count": null,
   "metadata": {
    "dotnet_interactive": {
     "language": "csharp"
    },
    "polyglot_notebook": {
     "kernelName": "csharp"
    }
   },
   "outputs": [],
   "source": [
    "double ApproxSlope(List<double> errors, List<double> cellSize) {\n",
    "    var slopes = new List<double>();\n",
    "    double EOC;\n",
    "    for (int i = 0; i < errors.Count - 1; i++) {\n",
    "        double ratio = errors[i] / errors[i + 1];\n",
    "        double slope = Math.Log(ratio) / Math.Log(cellSize[i] / cellSize[i + 1]);\n",
    "        slopes.Add(slope);\n",
    "    }\n",
    "    if (slopes.Count > 0) {\n",
    "        EOC = slopes.Average();\n",
    "    } else {\n",
    "        EOC = 0;\n",
    "    }\n",
    "    return EOC;\n",
    "}"
   ]
  },
  {
   "cell_type": "markdown",
   "metadata": {},
   "source": [
    "get ideal plot"
   ]
  },
  {
   "cell_type": "code",
   "execution_count": null,
   "metadata": {
    "dotnet_interactive": {
     "language": "csharp"
    },
    "polyglot_notebook": {
     "kernelName": "csharp"
    }
   },
   "outputs": [],
   "source": [
    "List<double> GetIdealConvPlot(List<double> errors,List<double> cellSize, int p){\n",
    "        var idealErrors = new List<double>();\n",
    "\n",
    "    // Calculate ideal errors for each cell size\n",
    "    for (int i = 0; i < cellSize.Count; i++)\n",
    "    {\n",
    "        double idealError = errors[0] * Math.Pow(cellSize[i] / cellSize[0], p + 1);\n",
    "        idealErrors.Add(idealError);\n",
    "    }\n",
    "\n",
    "    return idealErrors;\n",
    "} "
   ]
  },
  {
   "cell_type": "markdown",
   "metadata": {},
   "source": [
    "function for different plot formats"
   ]
  },
  {
   "cell_type": "code",
   "execution_count": null,
   "metadata": {
    "dotnet_interactive": {
     "language": "csharp"
    },
    "polyglot_notebook": {
     "kernelName": "csharp"
    }
   },
   "outputs": [],
   "source": [
    "public PlotFormat GetFormat(int count){\n",
    "    var allPT = new BoSSS.Solution.Gnuplot.PointTypes[] { PointTypes.Circle, PointTypes.OpenCircle, PointTypes.Diamond, PointTypes.OpenDiamond, PointTypes.UpperTriangle, PointTypes.OpenUpperTriangle};\n",
    "    var allC = new BoSSS.Solution.Gnuplot.LineColors[] { LineColors.Blue,LineColors.Blue, LineColors.Black, LineColors.Black, LineColors.Red, LineColors.Red};\n",
    "    var Fmt = new PlotFormat();\n",
    "    Fmt.PointType = PointTypes.OpenCircle;\n",
    "    Fmt.PointSize = 0.8;\n",
    "    Fmt.LineWidth = 1;    \n",
    "    Fmt.Style     = Styles.LinesPoints;\n",
    "    Fmt.LineColor = allC[count];\n",
    "    Fmt.PointType =  allPT[count];\n",
    "    return Fmt;\n",
    "}"
   ]
  },
  {
   "cell_type": "markdown",
   "metadata": {},
   "source": [
    "do the convergence plot"
   ]
  },
  {
   "cell_type": "code",
   "execution_count": null,
   "metadata": {},
   "outputs": [],
   "source": [
    "ses"
   ]
  },
  {
   "cell_type": "code",
   "execution_count": null,
   "metadata": {},
   "outputs": [],
   "source": [
    "degs.Max()"
   ]
  },
  {
   "cell_type": "code",
   "execution_count": null,
   "metadata": {
    "dotnet_interactive": {
     "language": "csharp"
    },
    "polyglot_notebook": {
     "kernelName": "csharp"
    }
   },
   "outputs": [],
   "source": [
    "var plot = new Plot2Ddata();\n",
    "var EOCs= new List<double>();\n",
    "int count = 0;\n",
    "// in the following arrays:\n",
    "// column 0: length scale; column 1,2,3,4: DG polynomial degree 0,1,2,3\n",
    "MultidimensionalArray errorsAndCells      = MultidimensionalArray.Create(ses.Count(), degs.Max() + 2);\n",
    "MultidimensionalArray errorsAndCellsIdeal = MultidimensionalArray.Create(ses.Count(), degs.Max() + 2);\n",
    "foreach(int p in degs){\n",
    "    var cells= new List<double>();\n",
    "    var errors= new List<double>();\n",
    "    for(int iSess = 0; iSess < ses.Count(); iSess++) {\n",
    "        var si = ses.Pick(iSess);\n",
    "        //extract the relevant field \n",
    "        var timesteps = si.Timesteps;\n",
    "        var rTSIndex = timesteps.LastIndexWhere(t => t.GetField(\"rho\").Basis.Degree == p);\n",
    "        if(rTSIndex !=-1){\n",
    "            IDTTimeStepInfo lts = (IDTTimeStepInfo)((TimestepProxy)timesteps.Pick(rTSIndex)).GetInternal();\n",
    "            var fields = lts.Fields.ToList();\n",
    "            var enthalpyError = (XDGField) lts.GetField(\"h_err\").Clone();\n",
    "            errors_array[p,iSess]=(enthalpyError.L2NormAllSpecies()/EEN);\n",
    "            cells.Add(Math.Sqrt(enthalpyError.Basis.GridDat.iGeomCells.GetCellVolume(0))); // in 2D: sqrt of volume is a length scale!\n",
    "            errors.Add(enthalpyError.L2NormAllSpecies()/EEN);\n",
    "            Console.WriteLine($\"P={p}, h={Math.Sqrt(enthalpyError.Basis.GridDat.iGeomCells.GetCellVolume(0))} ---> error={enthalpyError.L2NormAllSpecies()/EEN}\");\n",
    "        }\n",
    "    }\n",
    "    errorsAndCells.SetColumn(0,cells);\n",
    "    errorsAndCellsIdeal.SetColumn(0,cells);\n",
    "    errorsAndCells.SetColumn(p+1,errors);\n",
    "    errorsAndCellsIdeal.SetColumn(p+1,GetIdealConvPlot(errors,cells,p));\n",
    "    EOCs.Add( ApproxSlope(errors,cells));\n",
    "    plot.AddDataGroup($\"P={p}\",cells,errors, GetFormat(count));\n",
    "    var fmt = GetFormat(count);\n",
    "    fmt.PointSize=0.01;\n",
    "    fmt.DashType=DashTypes.Dashed;\n",
    "\n",
    "    plot.AddDataGroup($\"ideal {p+1}\",cells,GetIdealConvPlot(errors,cells,p), fmt);\n",
    "    count++;\n",
    "}\n",
    "errorsAndCells.SaveToTextFile(\"ConvergenceStudyErrors.txt\");\n",
    "errorsAndCellsIdeal.SaveToTextFile(\"ConvergenceStudyErrorsIdeal.txt\");\n",
    "plot.Xlabel=\"Cells\";\n",
    "plot.LogY = true;\n",
    "plot.LogX = true;\n",
    "plot.ShowXtics = true;\n",
    "plot.ToGnuplot().PlotSVG(xRes:1200,yRes:500)"
   ]
  },
  {
   "cell_type": "code",
   "execution_count": null,
   "metadata": {
    "dotnet_interactive": {
     "language": "csharp"
    },
    "polyglot_notebook": {
     "kernelName": "csharp"
    }
   },
   "outputs": [],
   "source": [
    "EOCs"
   ]
  },
  {
   "cell_type": "markdown",
   "metadata": {},
   "source": [
    "Assertion"
   ]
  },
  {
   "cell_type": "code",
   "execution_count": null,
   "metadata": {
    "dotnet_interactive": {
     "language": "csharp"
    },
    "polyglot_notebook": {
     "kernelName": "csharp"
    }
   },
   "outputs": [],
   "source": [
    "NUnit.Framework.Assert.IsTrue(EOCs[0]>0.8);"
   ]
  },
  {
   "cell_type": "code",
   "execution_count": null,
   "metadata": {
    "dotnet_interactive": {
     "language": "csharp"
    },
    "polyglot_notebook": {
     "kernelName": "csharp"
    }
   },
   "outputs": [],
   "source": [
    "NUnit.Framework.Assert.IsTrue(EOCs[1]>1.8);"
   ]
  },
  {
   "cell_type": "code",
   "execution_count": null,
   "metadata": {
    "dotnet_interactive": {
     "language": "csharp"
    },
    "polyglot_notebook": {
     "kernelName": "csharp"
    }
   },
   "outputs": [],
   "source": [
    "\n",
    "NUnit.Framework.Assert.IsTrue(EOCs[2]>2.2);"
   ]
  },
  {
   "cell_type": "code",
   "execution_count": null,
   "metadata": {
    "dotnet_interactive": {
     "language": "csharp"
    },
    "polyglot_notebook": {
     "kernelName": "csharp"
    }
   },
   "outputs": [],
   "source": [
    "\n",
    "NUnit.Framework.Assert.IsTrue(EOCs[3]>2.6);"
   ]
  },
  {
   "cell_type": "markdown",
   "metadata": {},
   "source": [
    "## Plotting the ShadowFields (for visualization)"
   ]
  },
  {
   "cell_type": "markdown",
   "metadata": {},
   "source": [
    "choose a concrete session"
   ]
  },
  {
   "cell_type": "code",
   "execution_count": null,
   "metadata": {
    "dotnet_interactive": {
     "language": "csharp"
    },
    "polyglot_notebook": {
     "kernelName": "csharp"
    }
   },
   "outputs": [],
   "source": [
    "var sessions = BoSSSshell.WorkflowMgm.Sessions.Where(s => s.Timesteps.Count >0);\n",
    "sessions=sessions.Where(s => s.Name.Contains(\"10x32\") && s.Name.Contains(\"iFlx0\"));\n",
    "sessions"
   ]
  },
  {
   "cell_type": "markdown",
   "metadata": {},
   "source": [
    "plot it"
   ]
  },
  {
   "cell_type": "code",
   "execution_count": null,
   "metadata": {
    "dotnet_interactive": {
     "language": "csharp"
    }
   },
   "outputs": [],
   "source": [
    "// using BoSSS.Solution.Tecplot;\n",
    "// using System.IO;\n",
    "// var si=sessions.Pick(0);\n",
    "// Directory.GetFiles(\".\", \"*_SP_*\").ForEach(file => File.Delete(file));\n",
    "// IDTTimeStepInfo lts= (IDTTimeStepInfo)((TimestepProxy) si.Timesteps.Last()).GetInternal();\n",
    "// //double[] TStoPlot = new double[] {0,5,10,15,20}; // specify selected Iterations\n",
    "// var allTs = (List<double>) lts.TimeStepNumbers; \n",
    "// var N=5;\n",
    "// var TStoPlot= allTs.Where(ts => ts % N == 0); // plot every N\n",
    "// foreach(var timestep in si.Timesteps){\n",
    "//     if(TStoPlot.Contains((double) timestep.TimeStepNumber.MajorNumber)){\n",
    "//             IDTTimeStepInfo lts= (IDTTimeStepInfo)((TimestepProxy) timestep).GetInternal();\n",
    "//             var SF = lts.GetShadowFields();\n",
    "//             var texplot = new Tecplot(SF[0].GridDat, 2);\n",
    "//             texplot.PlotFields( \"BS_SP_\" + lts.TimeStepNumber,0.0,SF);\n",
    "//     }\n",
    "// }"
   ]
  }
 ],
 "metadata": {
  "kernelspec": {
   "display_name": ".NET (C#)",
   "language": "C#",
   "name": ".net-csharp"
  },
  "language_info": {
   "file_extension": ".cs",
   "mimetype": "text/x-csharp",
   "name": "C#",
   "pygments_lexer": "csharp",
   "version": "10.0"
  },
  "polyglot_notebook": {
   "kernelInfo": {
    "defaultKernelName": "csharp",
    "items": [
     {
      "aliases": [],
      "name": ".NET"
     },
     {
      "aliases": [
       "C#",
       "c#"
      ],
      "languageName": "C#",
      "name": "csharp"
     },
     {
      "aliases": [
       "F#",
       "f#"
      ],
      "languageName": "F#",
      "name": "fsharp"
     },
     {
      "aliases": [],
      "languageName": "HTML",
      "name": "html"
     },
     {
      "aliases": [
       "js"
      ],
      "languageName": "JavaScript",
      "name": "javascript"
     },
     {
      "aliases": [],
      "languageName": "KQL",
      "name": "kql"
     },
     {
      "aliases": [],
      "languageName": "Mermaid",
      "name": "mermaid"
     },
     {
      "aliases": [
       "powershell"
      ],
      "languageName": "PowerShell",
      "name": "pwsh"
     },
     {
      "aliases": [],
      "languageName": "SQL",
      "name": "sql"
     },
     {
      "aliases": [],
      "name": "value"
     },
     {
      "aliases": [
       "frontend"
      ],
      "name": "vscode"
     },
     {
      "aliases": [],
      "name": "webview"
     }
    ]
   }
  }
 },
 "nbformat": 4,
 "nbformat_minor": 2
}

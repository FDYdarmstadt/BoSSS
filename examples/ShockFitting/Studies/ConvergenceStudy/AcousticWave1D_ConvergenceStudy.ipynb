{
 "cells": [
  {
   "cell_type": "markdown",
   "metadata": {},
   "source": [
    "This Notebook launches a convergence study for the 1D Shock-Acoustic-Wave interaction problem as presented in the phd thesis \"Implicit Discontinuous Galerkin Shock Tracking methods for Compressible Flows with Shocks\" (Vandergrift 2024)."
   ]
  },
  {
   "cell_type": "code",
   "execution_count": 1,
   "metadata": {
    "dotnet_interactive": {
     "language": "csharp"
    }
   },
   "outputs": [],
   "source": [
    "#r \"BoSSSpad.dll\"\n",
    "#r \"XESTSF.dll\"\n",
    "using System;\n",
    "using BoSSS.Foundation;\n",
    "using BoSSS.Application.BoSSSpad;\n",
    "using BoSSS.Solution;\n",
    "using BoSSS.Solution.Tecplot;\n",
    "using BoSSS.Foundation.IO;\n",
    "using ilPSP.Tracing;\n",
    "using BoSSS.Solution.Utils;\n",
    "using ilPSP.LinSolvers;\n",
    "using BoSSS.Solution.NSECommon;\n",
    "using ilPSP.Connectors.Matlab;\n",
    "using ilPSP;\n",
    "using BoSSS.Foundation.Grid.Classic;\n",
    "using ilPSP.Utils;\n",
    "using BoSSS.Foundation.Grid.RefElements;\n",
    "using System.Collections.Generic;\n",
    "using BoSSS.Foundation.Grid;\n",
    "using BoSSS.Foundation.XDG;\n",
    "using BoSSS.Solution.XdgTimestepping;\n",
    "using BoSSS.Solution.AdvancedSolvers;\n",
    "using System.Linq;\n",
    "using BoSSS.Foundation.Grid.Aggregation;\n",
    "using BoSSS.Platform;\n",
    "using MPI.Wrappers;\n",
    "using System.Diagnostics;\n",
    "using System.IO;\n",
    "using System.Collections;\n",
    "using BoSSS.Foundation.Quadrature;\n",
    "using BoSSS.Solution.Statistic;\n",
    "using BoSSS.Solution.Gnuplot;\n",
    "using static BoSSS.Application.BoSSSpad.BoSSSshell;\n",
    "using BoSSS.Solution.Control;\n",
    "using BoSSS.Solution.GridImport;\n",
    "using ApplicationWithIDT;\n",
    "using XESTSF;\n",
    "Init();\n"
   ]
  },
  {
   "cell_type": "code",
   "execution_count": 16,
   "metadata": {
    "dotnet_interactive": {
     "language": "csharp"
    }
   },
   "outputs": [
    {
     "name": "stdout",
     "output_type": "stream",
     "text": [
      "Project name is set to 'XESTSF_ShockAcousticInteraction1D_ConvergenceStudy3'.\n",
      "Default Execution queue is chosen for the database.\n",
      "Creating database '\\\\dc3\\userspace\\sebastian\\cluster\\XESTSF_ShockAcousticInteraction1D_ConvergenceStudy3'.\n"
     ]
    },
    {
     "data": {
      "text/plain": [
       "{ Session Count = 0; Grid Count = 0; Path = \\\\dc3\\userspace\\sebastian\\cluster\\XESTSF_ShockAcousticInteraction1D_ConvergenceStudy3 }"
      ]
     },
     "metadata": {},
     "output_type": "display_data"
    }
   ],
   "source": [
    "BoSSSshell.WorkflowMgm.Init(\"XESTSF_ShockAcousticInteraction1D_ConvergenceStudy\");\n",
    "BoSSSshell.WorkflowMgm.SetNameBasedSessionJobControlCorrelation();\n",
    "BoSSSshell.WorkflowMgm.DefaultDatabase\n"
   ]
  },
  {
   "cell_type": "code",
   "execution_count": 3,
   "metadata": {
    "dotnet_interactive": {
     "language": "csharp"
    }
   },
   "outputs": [
    {
     "data": {
      "text/html": [
       "<details open=\"open\" class=\"dni-treeview\"><summary><span class=\"dni-code-hint\"><code>MS HPC client  Default @DC3, @\\\\dc3\\userspace\\sebastian\\cluster\\binaries</code></span></summary><div><table><thead><tr></tr></thead><tbody><tr><td>RuntimeLocation</td><td>win\\amd64</td></tr><tr><td>AdditionalEnvironmentVars</td><td>[ [OMP_PROC_BIND, spread] ]</td></tr><tr><td>DeploymentBaseDirectory</td><td>\\\\dc3\\userspace\\sebastian\\cluster\\binaries</td></tr><tr><td>DeployRuntime</td><td>True</td></tr><tr><td>Name</td><td>Default</td></tr><tr><td>DotnetRuntime</td><td>dotnet</td></tr><tr><td>Username</td><td>FDY\\sebastian</td></tr><tr><td>NumOfAdditionalServiceCores</td><td>0</td></tr><tr><td>NumOfAdditionalServiceCoresMPISerial</td><td>0</td></tr><tr><td>NumOfServiceCoresPerMPIprocess</td><td>0</td></tr><tr><td>ServerName</td><td>DC3</td></tr><tr><td>ComputeNodes</td><td>[ HPCCLUSTER01, HPCCLUSTER02, HPCCLUSTER03 ]</td></tr><tr><td>DefaultJobPriority</td><td>Normal</td></tr><tr><td>SingleNode</td><td>True</td></tr><tr><td>AllowedDatabasesPaths</td><td>[ \\\\dc3\\userspace\\sebastian\\cluster ]</td></tr></tbody></table></div></details><style>\r\n",
       ".dni-code-hint {\r\n",
       "    font-style: italic;\r\n",
       "    overflow: hidden;\r\n",
       "    white-space: nowrap;\r\n",
       "}\r\n",
       ".dni-treeview {\r\n",
       "    white-space: nowrap;\r\n",
       "}\r\n",
       ".dni-treeview td {\r\n",
       "    vertical-align: top;\r\n",
       "    text-align: start;\r\n",
       "}\r\n",
       "details.dni-treeview {\r\n",
       "    padding-left: 1em;\r\n",
       "}\r\n",
       "table td {\r\n",
       "    text-align: start;\r\n",
       "}\r\n",
       "table tr { \r\n",
       "    vertical-align: top; \r\n",
       "    margin: 0em 0px;\r\n",
       "}\r\n",
       "table tr td pre \r\n",
       "{ \r\n",
       "    vertical-align: top !important; \r\n",
       "    margin: 0em 0px !important;\r\n",
       "} \r\n",
       "table th {\r\n",
       "    text-align: start;\r\n",
       "}\r\n",
       "</style>"
      ]
     },
     "metadata": {},
     "output_type": "display_data"
    }
   ],
   "source": [
    "BoSSSshell.GetDefaultQueue()"
   ]
  },
  {
   "cell_type": "code",
   "execution_count": 4,
   "metadata": {
    "dotnet_interactive": {
     "language": "csharp"
    }
   },
   "outputs": [
    {
     "data": {
      "text/plain": [
       "\\\\dc3\\userspace\\sebastian\\cluster\\XESTSF_ShockAcousticInteraction1D_ConvergenceStudy"
      ]
     },
     "metadata": {},
     "output_type": "display_data"
    }
   ],
   "source": [
    "string dbPath = BoSSSshell.WorkflowMgm.DefaultDatabase.Path; \n",
    "dbPath"
   ]
  },
  {
   "cell_type": "code",
   "execution_count": 5,
   "metadata": {
    "dotnet_interactive": {
     "language": "csharp"
    }
   },
   "outputs": [],
   "source": [
    "int[] Configs = new int[] {1,2,3};\n",
    "int[] DGdegrees = new int[] {3};\n",
    "int[] Grid_Res = new int[] {0,1,3,7};\n",
    "double[] Amplitudes = new double[] {1e-5};\n",
    "string[] WaveForms= new string[] {\"1sinus\"};\n",
    "string[] LevelSetConfigs = new string[] {\"true\"};//,\"false\"};\n",
    "double[] MachLs = new double[] {1.5};\n",
    "double[] WLs = new double[] {0.8};"
   ]
  },
  {
   "cell_type": "code",
   "execution_count": 17,
   "metadata": {
    "dotnet_interactive": {
     "language": "csharp"
    }
   },
   "outputs": [
    {
     "name": "stdout",
     "output_type": "stream",
     "text": [
      "!!!!!!!!!!!!!!!! WARNING: OPENMP Paralelization turned off !!!!!!!!!!!!\n",
      "Deployments so far (0): ;\n",
      "Success: 0\n",
      "job submit count: 0\n"
     ]
    },
    {
     "name": "stderr",
     "output_type": "stream",
     "text": [
      "unable to determine job status - unknown\r\n"
     ]
    },
    {
     "name": "stdout",
     "output_type": "stream",
     "text": [
      "Deploying job AW_p3_xCells16_tCells16_tMax4_1sinus_Mach1.5_sP0.5_wP0.9_ampneg1E-05_amppos0_wLTrue_wSTrue_wL0.8 ... \n",
      "Deploying executables and additional files ...\n",
      "Deployment directory: \\\\dc3\\userspace\\sebastian\\cluster\\binaries\\XESTSF_ShockAcousticInteraction1D_ConvergenceStudy3-XESTSF2024May25_154235.830321\n",
      "copied 53 files.\n",
      "   copied 'win\\amd64' runtime.\n",
      "deployment finished.\n"
     ]
    },
    {
     "ename": "Error",
     "evalue": "Command cancelled.",
     "output_type": "error",
     "traceback": [
      "Command cancelled."
     ]
    }
   ],
   "source": [
    "//foreach(double iProb in iProbs) {\n",
    "    double amp=1e-5;\n",
    "    double amp_neg=0.0;\n",
    "    double amp_pos=amp;\n",
    "    double endTime=1.5;\n",
    "    double shockPos=1.5;\n",
    "    double wavePos=0.0;\n",
    "    double scaling=1;\n",
    "    double waveLength=0.4;\n",
    "    double MachL=1.50;\n",
    "                foreach(double waveLength in WLs ){\n",
    "            foreach(double MachL in MachLs ){\n",
    "        foreach(double amp in Amplitudes ){\n",
    "foreach(double config in Configs) {\n",
    "foreach(string waveform in WaveForms) {\n",
    "    foreach(string withLS in LevelSetConfigs){\n",
    "        amp_neg= 0.0;            amp_pos= amp;\n",
    "         if(config==1){ //downstream negative acoustic wave (slow)\n",
    "            amp_neg= amp;            amp_pos= 0.0;            endTime=4.0;          shockPos=0.5;            wavePos=0.9;\n",
    "        }else if(config==2){ //upstream positiv acoustic wave (fast)\n",
    "            amp_neg= 0.0;            amp_pos= amp;            endTime=1.5;            shockPos=1.5;            wavePos=0.0;\n",
    "        }else if(config==3){ //upstream negative acoustic wave (still fast)\n",
    "            amp_neg= amp;            amp_pos= 0.0;            endTime=4.0;           shockPos=1.5;            wavePos=0.3;\n",
    "        }\n",
    "    \n",
    "    foreach(int p in DGdegrees) {\n",
    "        foreach(int n in Grid_Res) {\n",
    "            int cells=0;\n",
    "            bool wLS;\n",
    "            if(withLS == \"true\"){\n",
    "                cells = (n+1)*15+1;wLS=true;\n",
    "            }else{\n",
    "                cells=(n+1)*15;wLS=false;\n",
    "            }\n",
    "                 var tmp_cntrl = XESTSF.XESTSFHardCodedControl.AcousticWave1D(waveLength: waveLength ,scaling: scaling ,endTime: endTime ,MachL: MachL ,withLevelSet: wLS ,wavePosition: wavePos , shockPosition: shockPos ,p_amp_neg:  amp_neg , p_amp_pos: amp_pos ,waveform: waveform,dgDegree: p ,numOfCellsX: cells ,PlotInterval:-1,numOfCellsT: cells ,dbPath: dbPath );\n",
    "                Job j = new Job(tmp_cntrl.SessionName, typeof(XESTSF.XESTSFMain));// job name has to be equal to sessionname! for SessionInfoJobCorrelation to work!\n",
    "                j.RetryCount = 2;\n",
    "                j.MySetCommandLineArguments(\"--control\", $\"cs:XESTSF.XESTSFHardCodedControl.AcousticWave1D(waveLength:{waveLength},scaling:{scaling},endTime:{endTime},MachL:{MachL},withLevelSet:{withLS},wavePosition:{wavePos}, shockPosition:{shockPos},p_amp_neg: {amp_neg}, p_amp_pos:{amp_pos},waveform:\\\"{waveform}\\\",dgDegree:{p},numOfCellsX:{cells},PlotInterval:-1,numOfCellsT:{cells},dbPath:@\\\"{dbPath}\\\")\");\n",
    "                j.NumberOfThreads=1;\n",
    "                Console.WriteLine(\"!!!!!!!!!!!!!!!! WARNING: OPENMP Paralelization turned off !!!!!!!!!!!!\");\n",
    "                j.Activate(BoSSSshell.GetDefaultQueue()); \n",
    "                \n",
    "            \n",
    "        };                                                                                                                                                          \n",
    "    };\n",
    "};\n",
    "    \n",
    "}\n",
    "}\n",
    "        }\n",
    "            }\n",
    "                }\n",
    "\n"
   ]
  },
  {
   "cell_type": "code",
   "execution_count": null,
   "metadata": {
    "dotnet_interactive": {
     "language": "csharp"
    },
    "polyglot_notebook": {
     "kernelName": "csharp"
    }
   },
   "outputs": [],
   "source": [
    "BoSSSshell.WorkflowMgm.BlockUntilAllJobsTerminate(7*86400 , 60); // wait for one week, or until all jobs finish"
   ]
  },
  {
   "cell_type": "markdown",
   "metadata": {},
   "source": [
    "## Check if residual norms converged"
   ]
  },
  {
   "cell_type": "markdown",
   "metadata": {},
   "source": [
    "Load sessions"
   ]
  },
  {
   "cell_type": "code",
   "execution_count": 6,
   "metadata": {
    "dotnet_interactive": {
     "language": "csharp"
    },
    "polyglot_notebook": {
     "kernelName": "csharp"
    }
   },
   "outputs": [
    {
     "data": {
      "text/plain": [
       "#0: XESTSF_AcousticWave1D\tAW_p3_xCells121_tCells121_tMax4_1sinus_Mach1.5_sP0.5_wP0.9_ampneg1E-05_amppos0_wLTrue_wSTrue_wL0.8\t5/3/2024 10:53:36 AM\tfeb600d5...\r\n",
       "#1: XESTSF_AcousticWave1D\tAW_p3_xCells121_tCells121_tMax1.5_1sinus_Mach1.5_sP1.5_wP0_ampneg0_amppos1E-05_wLTrue_wSTrue_wL0.8\t5/3/2024 10:54:58 AM\t6e2ea10b...\r\n",
       "#2: XESTSF_AcousticWave1D\tAW_p3_xCells121_tCells121_tMax4_1sinus_Mach1.5_sP1.5_wP0.3_ampneg1E-05_amppos0_wLTrue_wSTrue_wL0.8\t5/3/2024 10:56:21 AM\t28ecdf1d...\r\n",
       "#3: XESTSF_AcousticWave1D\tAW_p3_xCells91_tCells91_tMax4_1sinus_Mach1.5_sP1.5_wP0.3_ampneg1E-05_amppos0_wLTrue_wSTrue_wL0.8\t5/7/2024 12:50:01 PM\tc30bcf0c...\r\n",
       "#4: XESTSF_AcousticWave1D\tAW_p3_xCells91_tCells91_tMax1.5_1sinus_Mach1.5_sP1.5_wP0_ampneg0_amppos1E-05_wLTrue_wSTrue_wL0.8\t5/7/2024 12:49:34 PM\te430d224...\r\n",
       "#5: XESTSF_AcousticWave1D\tAW_p3_xCells91_tCells91_tMax4_1sinus_Mach1.5_sP0.5_wP0.9_ampneg1E-05_amppos0_wLTrue_wSTrue_wL0.8*\t5/7/2024 12:49:19 PM\t0c1f4c55...\r\n",
       "#6: XESTSF_AcousticWave1D\tAW_p3_xCells61_tCells61_tMax4_1sinus_Mach1.5_sP1.5_wP0.3_ampneg1E-05_amppos0_wLTrue_wSTrue_wL0.8\t5/3/2024 10:56:08 AM\tfd93cb11...\r\n",
       "#7: XESTSF_AcousticWave1D\tAW_p3_xCells61_tCells61_tMax4_1sinus_Mach1.5_sP0.5_wP0.9_ampneg1E-05_amppos0_wLTrue_wSTrue_wL0.8\t5/3/2024 10:53:19 AM\t481bb6ef...\r\n",
       "#8: XESTSF_AcousticWave1D\tAW_p3_xCells61_tCells61_tMax1.5_1sinus_Mach1.5_sP1.5_wP0_ampneg0_amppos1E-05_wLTrue_wSTrue_wL0.8\t5/3/2024 10:54:40 AM\t2ea2daa4...\r\n",
       "#9: XESTSF_AcousticWave1D\tAW_p3_xCells31_tCells31_tMax4_1sinus_Mach1.5_sP1.5_wP0.3_ampneg1E-05_amppos0_wLTrue_wSTrue_wL0.8\t5/3/2024 10:55:54 AM\tabb15553...\r\n",
       "#10: XESTSF_AcousticWave1D\tAW_p3_xCells31_tCells31_tMax1.5_1sinus_Mach1.5_sP1.5_wP0_ampneg0_amppos1E-05_wLTrue_wSTrue_wL0.8\t5/3/2024 10:54:19 AM\t0feb5ae1...\r\n",
       "#11: XESTSF_AcousticWave1D\tAW_p3_xCells31_tCells31_tMax4_1sinus_Mach1.5_sP0.5_wP0.9_ampneg1E-05_amppos0_wLTrue_wSTrue_wL0.8\t5/3/2024 10:53:02 AM\t177803e4...\r\n",
       "#12: XESTSF_AcousticWave1D\tAW_p3_xCells16_tCells16_tMax1.5_1sinus_Mach1.5_sP1.5_wP0_ampneg0_amppos1E-05_wLTrue_wSTrue_wL0.8\t5/3/2024 10:54:01 AM\t29c071b4...\r\n",
       "#13: XESTSF_AcousticWave1D\tAW_p3_xCells16_tCells16_tMax4_1sinus_Mach1.5_sP1.5_wP0.3_ampneg1E-05_amppos0_wLTrue_wSTrue_wL0.8\t5/3/2024 10:55:36 AM\t4d0da02a...\r\n",
       "#14: XESTSF_AcousticWave1D\tAW_p3_xCells16_tCells16_tMax4_1sinus_Mach1.5_sP0.5_wP0.9_ampneg1E-05_amppos0_wLTrue_wSTrue_wL0.8\t5/3/2024 10:52:47 AM\t6f20dffe...\r\n",
       "#15: XESTSF_AcousticWave1D\tAW_p3_xCells241_tCells241_tMax4_1sinus_Mach1.5_sP1.5_wP0.3_ampneg1E-05_amppos0_wLTrue_wSTrue_wL0.8*\t5/3/2024 10:56:38 AM\taebda51c...\r\n",
       "#16: XESTSF_AcousticWave1D\tAW_p3_xCells241_tCells241_tMax1.5_1sinus_Mach1.5_sP1.5_wP0_ampneg0_amppos1E-05_wLTrue_wSTrue_wL0.8*\t5/3/2024 10:55:20 AM\tb24f2bd9...\r\n",
       "#17: XESTSF_AcousticWave1D\tAW_p3_xCells241_tCells241_tMax4_1sinus_Mach1.5_sP0.5_wP0.9_ampneg1E-05_amppos0_wLTrue_wSTrue_wL0.8*\t5/3/2024 10:53:52 AM\t1865241a...\r\n"
      ]
     },
     "metadata": {},
     "output_type": "display_data"
    }
   ],
   "source": [
    "var sessions = BoSSSshell.WorkflowMgm.DefaultDatabase.Sessions;\n",
    "sessions"
   ]
  },
  {
   "cell_type": "markdown",
   "metadata": {},
   "source": [
    "Obtain the residual norms"
   ]
  },
  {
   "cell_type": "code",
   "execution_count": 7,
   "metadata": {
    "dotnet_interactive": {
     "language": "csharp"
    },
    "polyglot_notebook": {
     "kernelName": "csharp"
    }
   },
   "outputs": [
    {
     "data": {
      "text/html": [
       "<div class=\"dni-plaintext\"><pre>[ 4.17673720176366E-12, 5.745424648013963E-10, 3.0416885837344547E-10, 8.047201205560531E-11, 1.6398503260686175E-10, 1.5722681544382512E-12, 2.4581456062516657E-11, 2.279472651088386E-12, 1.9680356291241526E-12, 8.198354499437978E-13, 7.812169833683884E-13, 1.3755666637777938E-12, 9.511227708362726E-09, 3.7644845734528623E-07, 1.0555983868699228E-12, 5.328645130146802E-09, 3.127181863250669E-09, 5.741718232473919E-12 ]</pre></div><style>\r\n",
       ".dni-code-hint {\r\n",
       "    font-style: italic;\r\n",
       "    overflow: hidden;\r\n",
       "    white-space: nowrap;\r\n",
       "}\r\n",
       ".dni-treeview {\r\n",
       "    white-space: nowrap;\r\n",
       "}\r\n",
       ".dni-treeview td {\r\n",
       "    vertical-align: top;\r\n",
       "    text-align: start;\r\n",
       "}\r\n",
       "details.dni-treeview {\r\n",
       "    padding-left: 1em;\r\n",
       "}\r\n",
       "table td {\r\n",
       "    text-align: start;\r\n",
       "}\r\n",
       "table tr { \r\n",
       "    vertical-align: top; \r\n",
       "    margin: 0em 0px;\r\n",
       "}\r\n",
       "table tr td pre \r\n",
       "{ \r\n",
       "    vertical-align: top !important; \r\n",
       "    margin: 0em 0px !important;\r\n",
       "} \r\n",
       "table th {\r\n",
       "    text-align: start;\r\n",
       "}\r\n",
       "</style>"
      ]
     },
     "metadata": {},
     "output_type": "display_data"
    }
   ],
   "source": [
    "var ass= new MatrixAssembler(1);\n",
    "var res = sessions.Select(si => ((IDTTimeStepInfo) ((TimestepProxy)si.Timesteps.Last()).GetInternal()).ResHistory.Last());\n",
    "res"
   ]
  },
  {
   "cell_type": "code",
   "execution_count": 8,
   "metadata": {
    "dotnet_interactive": {
     "language": "csharp"
    },
    "polyglot_notebook": {
     "kernelName": "csharp"
    }
   },
   "outputs": [
    {
     "data": {
      "text/html": [
       "<div class=\"dni-plaintext\"><pre>[ 2.0382282226127365E-05, 1.3645879809615809E-05, 1.6072711170265792E-05, 2.907085902784185E-06, 1.745809546847069E-05, 7.4543819520159555E-06, 1.557377954193541E-05, 2.305036964652607E-05, 2.5208634895048603E-05, 1.5485435579098796E-05, 5.367379964213245E-05, 2.7618519926095482E-05, 0.00017062160727410576, 3.8819234481294884E-05, 5.406976956619877E-05, 1.9282674140371255E-05, 1.71073686411359E-05, 1.765047249501271E-05 ]</pre></div><style>\r\n",
       ".dni-code-hint {\r\n",
       "    font-style: italic;\r\n",
       "    overflow: hidden;\r\n",
       "    white-space: nowrap;\r\n",
       "}\r\n",
       ".dni-treeview {\r\n",
       "    white-space: nowrap;\r\n",
       "}\r\n",
       ".dni-treeview td {\r\n",
       "    vertical-align: top;\r\n",
       "    text-align: start;\r\n",
       "}\r\n",
       "details.dni-treeview {\r\n",
       "    padding-left: 1em;\r\n",
       "}\r\n",
       "table td {\r\n",
       "    text-align: start;\r\n",
       "}\r\n",
       "table tr { \r\n",
       "    vertical-align: top; \r\n",
       "    margin: 0em 0px;\r\n",
       "}\r\n",
       "table tr td pre \r\n",
       "{ \r\n",
       "    vertical-align: top !important; \r\n",
       "    margin: 0em 0px !important;\r\n",
       "} \r\n",
       "table th {\r\n",
       "    text-align: start;\r\n",
       "}\r\n",
       "</style>"
      ]
     },
     "metadata": {},
     "output_type": "display_data"
    }
   ],
   "source": [
    "var ass= new MatrixAssembler(1);\n",
    "var enres = sessions.Select(si => ((IDTTimeStepInfo) ((TimestepProxy)si.Timesteps.Last()).GetInternal()).EnResHistory.Last());\n",
    "enres"
   ]
  },
  {
   "cell_type": "markdown",
   "metadata": {},
   "source": [
    "Assert if smaller than threshold"
   ]
  },
  {
   "cell_type": "code",
   "execution_count": 15,
   "metadata": {
    "dotnet_interactive": {
     "language": "csharp"
    },
    "polyglot_notebook": {
     "kernelName": "csharp"
    }
   },
   "outputs": [],
   "source": [
    "res.ForEach(r => NUnit.Framework.Assert.IsTrue(r<1e-06));\n",
    "enres.ForEach(r => NUnit.Framework.Assert.IsTrue(r<1e-03));"
   ]
  }
 ],
 "metadata": {
  "kernelspec": {
   "display_name": ".NET (C#)",
   "language": "C#",
   "name": ".net-csharp"
  },
  "language_info": {
   "name": "polyglot-notebook"
  },
  "polyglot_notebook": {
   "kernelInfo": {
    "defaultKernelName": "csharp",
    "items": [
     {
      "aliases": [],
      "name": ".NET"
     },
     {
      "aliases": [
       "C#",
       "c#"
      ],
      "languageName": "C#",
      "name": "csharp"
     },
     {
      "aliases": [
       "F#",
       "f#"
      ],
      "languageName": "F#",
      "name": "fsharp"
     },
     {
      "aliases": [],
      "languageName": "HTML",
      "name": "html"
     },
     {
      "aliases": [
       "js"
      ],
      "languageName": "JavaScript",
      "name": "javascript"
     },
     {
      "aliases": [],
      "languageName": "KQL",
      "name": "kql"
     },
     {
      "aliases": [],
      "languageName": "Mermaid",
      "name": "mermaid"
     },
     {
      "aliases": [
       "powershell"
      ],
      "languageName": "PowerShell",
      "name": "pwsh"
     },
     {
      "aliases": [],
      "languageName": "SQL",
      "name": "sql"
     },
     {
      "aliases": [],
      "name": "value"
     },
     {
      "aliases": [
       "frontend"
      ],
      "name": "vscode"
     },
     {
      "aliases": [],
      "name": "webview"
     }
    ]
   }
  }
 },
 "nbformat": 4,
 "nbformat_minor": 2
}

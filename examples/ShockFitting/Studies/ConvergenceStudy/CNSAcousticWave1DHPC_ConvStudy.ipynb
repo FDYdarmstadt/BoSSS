{
 "cells": [
  {
   "cell_type": "markdown",
   "metadata": {},
   "source": [
    "In this notebook we run the shock-acoustic-wave interaction problems using the CNS solver"
   ]
  },
  {
   "cell_type": "code",
   "execution_count": 1,
   "metadata": {
    "dotnet_interactive": {
     "language": "csharp"
    }
   },
   "outputs": [],
   "source": [
    "#r \"BoSSSpad.dll\"\n",
    "#r \"CNS.dll\"\n",
    "using System;\n",
    "using BoSSS.Foundation;\n",
    "using BoSSS.Application.BoSSSpad;\n",
    "using BoSSS.Solution;\n",
    "using BoSSS.Solution.Tecplot;\n",
    "using BoSSS.Foundation.IO;\n",
    "using ilPSP.Tracing;\n",
    "using BoSSS.Solution.Utils;\n",
    "using ilPSP.LinSolvers;\n",
    "using BoSSS.Solution.NSECommon;\n",
    "using ilPSP.Connectors.Matlab;\n",
    "using ilPSP;\n",
    "using BoSSS.Foundation.Grid.Classic;\n",
    "using ilPSP.Utils;\n",
    "using BoSSS.Foundation.Grid.RefElements;\n",
    "using System.Collections.Generic;\n",
    "using BoSSS.Foundation.Grid;\n",
    "using BoSSS.Foundation.XDG;\n",
    "using BoSSS.Solution.XdgTimestepping;\n",
    "using BoSSS.Solution.AdvancedSolvers;\n",
    "using System.Linq;\n",
    "using BoSSS.Foundation.Grid.Aggregation;\n",
    "using BoSSS.Platform;\n",
    "using MPI.Wrappers;\n",
    "using System.Diagnostics;\n",
    "using System.IO;\n",
    "using System.Collections;\n",
    "using BoSSS.Foundation.Quadrature;\n",
    "using BoSSS.Solution.Statistic;\n",
    "using BoSSS.Solution.Gnuplot;\n",
    "using static BoSSS.Application.BoSSSpad.BoSSSshell;\n",
    "using BoSSS.Solution.Control;\n",
    "using BoSSS.Solution.GridImport;\n",
    "Init();\n"
   ]
  },
  {
   "cell_type": "markdown",
   "metadata": {},
   "source": [
    "init workflow"
   ]
  },
  {
   "cell_type": "code",
   "execution_count": 2,
   "metadata": {
    "dotnet_interactive": {
     "language": "csharp"
    }
   },
   "outputs": [
    {
     "data": {
      "text/plain": [
       "{ Session Count = 60; Grid Count = 60; Path = \\\\dc3\\userspace\\sebastian\\cluster\\CNS_AcousticWave1D_ConvStudy }"
      ]
     },
     "metadata": {},
     "output_type": "display_data"
    }
   ],
   "source": [
    "BoSSSshell.WorkflowMgm.Init(\"CNS_AcousticWave1D_ConvStudy\");\n",
    "BoSSSshell.WorkflowMgm.SetNameBasedSessionJobControlCorrelation();\n",
    "BoSSSshell.WorkflowMgm.DefaultDatabase\n"
   ]
  },
  {
   "cell_type": "code",
   "execution_count": 3,
   "metadata": {
    "dotnet_interactive": {
     "language": "csharp"
    }
   },
   "outputs": [
    {
     "data": {
      "text/html": [
       "<details open=\"open\" class=\"dni-treeview\"><summary><span class=\"dni-code-hint\"><code>MS HPC client  Default @DC3, @\\\\dc3\\userspace\\sebastian\\cluster\\binaries</code></span></summary><div><table><thead><tr></tr></thead><tbody><tr><td>RuntimeLocation</td><td>win\\amd64</td></tr><tr><td>AdditionalEnvironmentVars</td><td>[  ]</td></tr><tr><td>DeploymentBaseDirectory</td><td>\\\\dc3\\userspace\\sebastian\\cluster\\binaries</td></tr><tr><td>DeployRuntime</td><td>True</td></tr><tr><td>Name</td><td>Default</td></tr><tr><td>DotnetRuntime</td><td>dotnet</td></tr><tr><td>Username</td><td>FDY\\sebastian</td></tr><tr><td>NumOfAdditionalServiceCores</td><td>0</td></tr><tr><td>NumOfAdditionalServiceCoresMPISerial</td><td>0</td></tr><tr><td>NumOfServiceCoresPerMPIprocess</td><td>0</td></tr><tr><td>ServerName</td><td>DC3</td></tr><tr><td>ComputeNodes</td><td>[ HPCCLUSTER01, HPCCLUSTER02, HPCCLUSTER03 ]</td></tr><tr><td>DefaultJobPriority</td><td>Normal</td></tr><tr><td>SingleNode</td><td>True</td></tr><tr><td>AllowedDatabasesPaths</td><td>[ \\\\dc3\\userspace\\sebastian\\cluster ]</td></tr></tbody></table></div></details><style>\r\n",
       ".dni-code-hint {\r\n",
       "    font-style: italic;\r\n",
       "    overflow: hidden;\r\n",
       "    white-space: nowrap;\r\n",
       "}\r\n",
       ".dni-treeview {\r\n",
       "    white-space: nowrap;\r\n",
       "}\r\n",
       ".dni-treeview td {\r\n",
       "    vertical-align: top;\r\n",
       "    text-align: start;\r\n",
       "}\r\n",
       "details.dni-treeview {\r\n",
       "    padding-left: 1em;\r\n",
       "}\r\n",
       "table td {\r\n",
       "    text-align: start;\r\n",
       "}\r\n",
       "table tr { \r\n",
       "    vertical-align: top; \r\n",
       "    margin: 0em 0px;\r\n",
       "}\r\n",
       "table tr td pre \r\n",
       "{ \r\n",
       "    vertical-align: top !important; \r\n",
       "    margin: 0em 0px !important;\r\n",
       "} \r\n",
       "table th {\r\n",
       "    text-align: start;\r\n",
       "}\r\n",
       "</style>"
      ]
     },
     "metadata": {},
     "output_type": "display_data"
    }
   ],
   "source": [
    "BoSSSshell.GetDefaultQueue()"
   ]
  },
  {
   "cell_type": "code",
   "execution_count": 4,
   "metadata": {
    "dotnet_interactive": {
     "language": "csharp"
    }
   },
   "outputs": [
    {
     "data": {
      "text/plain": [
       "\\\\dc3\\userspace\\sebastian\\cluster\\CNS_AcousticWave1D_ConvStudy"
      ]
     },
     "metadata": {},
     "output_type": "display_data"
    }
   ],
   "source": [
    "string dbPath = BoSSSshell.WorkflowMgm.DefaultDatabase.Path; \n",
    "dbPath"
   ]
  },
  {
   "cell_type": "markdown",
   "metadata": {},
   "source": [
    "choose parameters (waveform, configuration, grid resolution...)"
   ]
  },
  {
   "cell_type": "code",
   "execution_count": 5,
   "metadata": {
    "dotnet_interactive": {
     "language": "csharp"
    }
   },
   "outputs": [],
   "source": [
    "double[] PerStartTimes = new double[] {10}; \n",
    "int[] Configs = new int[] {1}; //three interaction problems\n",
    "int[] DGdegrees = new int[] {1,2,3};\n",
    "int[] Grid_Res = new int[] {0,1,3,7};\n",
    "double[] Amplitudes = new double[] {1e-5};\n",
    "string[] WaveForms= new string[] {\"1sinus\"};\n",
    "string[] LevelSetConfigs = new string[] {\"true\"};\n",
    "double[] MachLs = new double[] {1.5};\n",
    "double[] WLs = new double[] {0.8};"
   ]
  },
  {
   "cell_type": "markdown",
   "metadata": {},
   "source": [
    "send the simulations to execution queue"
   ]
  },
  {
   "cell_type": "code",
   "execution_count": null,
   "metadata": {
    "dotnet_interactive": {
     "language": "csharp"
    }
   },
   "outputs": [
    {
     "name": "stdout",
     "output_type": "stream",
     "text": [
      "Deployments so far (0): ;\n",
      "Success: 0\n",
      "job submit count: 0\n"
     ]
    },
    {
     "name": "stderr",
     "output_type": "stream",
     "text": [
      "unable to determine job status - unknown\r\n"
     ]
    },
    {
     "name": "stdout",
     "output_type": "stream",
     "text": [
      "Deploying job AW_p0_xCells16_yCells3_sP1.5_pST10_wP-0.8_ampneg0_amppos1E-05_wL0.8_Mach1.5_1sinus_RK4 ... \n",
      "Deploying executables and additional files ...\n",
      "Deployment directory: \\\\dc3\\userspace\\sebastian\\cluster\\binaries\\CNS_AcousticWave1D_ConvStudy-CNS2024May27_133151.801988\n",
      "copied 44 files.\n",
      "   copied 'win\\amd64' runtime.\n",
      "deployment finished.\n",
      "Deployments so far (0): ;\n",
      "Success: 0\n",
      "job submit count: 0\n"
     ]
    },
    {
     "name": "stderr",
     "output_type": "stream",
     "text": [
      "unable to determine job status - unknown\r\n"
     ]
    },
    {
     "name": "stdout",
     "output_type": "stream",
     "text": [
      "Deploying job AW_p0_xCells31_yCells3_sP1.5_pST10_wP-0.8_ampneg0_amppos1E-05_wL0.8_Mach1.5_1sinus_RK4 ... \n",
      "Deploying executables and additional files ...\n",
      "Deployment directory: \\\\dc3\\userspace\\sebastian\\cluster\\binaries\\CNS_AcousticWave1D_ConvStudy-CNS2024May27_133213.191235\n",
      "copied 44 files.\n",
      "   copied 'win\\amd64' runtime.\n",
      "deployment finished.\n",
      "Deployments so far (0): ;\n",
      "Success: 0\n",
      "job submit count: 0\n"
     ]
    },
    {
     "name": "stderr",
     "output_type": "stream",
     "text": [
      "unable to determine job status - unknown\r\n"
     ]
    },
    {
     "name": "stdout",
     "output_type": "stream",
     "text": [
      "Deploying job AW_p0_xCells61_yCells3_sP1.5_pST10_wP-0.8_ampneg0_amppos1E-05_wL0.8_Mach1.5_1sinus_RK4 ... \n",
      "Deploying executables and additional files ...\n",
      "Deployment directory: \\\\dc3\\userspace\\sebastian\\cluster\\binaries\\CNS_AcousticWave1D_ConvStudy-CNS2024May27_133235.893699\n",
      "copied 44 files.\n",
      "   copied 'win\\amd64' runtime.\n",
      "deployment finished.\n",
      "Deployments so far (0): ;\n",
      "Success: 0\n",
      "job submit count: 0\n"
     ]
    },
    {
     "name": "stderr",
     "output_type": "stream",
     "text": [
      "unable to determine job status - unknown\r\n"
     ]
    },
    {
     "name": "stdout",
     "output_type": "stream",
     "text": [
      "Deploying job AW_p0_xCells121_yCells3_sP1.5_pST10_wP-0.8_ampneg0_amppos1E-05_wL0.8_Mach1.5_1sinus_RK4 ... \n",
      "Deploying executables and additional files ...\n",
      "Deployment directory: \\\\dc3\\userspace\\sebastian\\cluster\\binaries\\CNS_AcousticWave1D_ConvStudy-CNS2024May27_133300.316660\n",
      "copied 44 files.\n",
      "   copied 'win\\amd64' runtime.\n",
      "deployment finished.\n",
      "Deployments so far (0): ;\n",
      "Success: 0\n",
      "job submit count: 0\n"
     ]
    },
    {
     "name": "stderr",
     "output_type": "stream",
     "text": [
      "unable to determine job status - unknown\r\n"
     ]
    },
    {
     "name": "stdout",
     "output_type": "stream",
     "text": [
      "Deploying job AW_p1_xCells16_yCells3_sP1.5_pST10_wP-0.8_ampneg0_amppos1E-05_wL0.8_Mach1.5_1sinus_RK4 ... \n",
      "Deploying executables and additional files ...\n",
      "Deployment directory: \\\\dc3\\userspace\\sebastian\\cluster\\binaries\\CNS_AcousticWave1D_ConvStudy-CNS2024May27_133323.776330\n",
      "copied 44 files.\n",
      "   copied 'win\\amd64' runtime.\n",
      "deployment finished.\n",
      "Deployments so far (0): ;\n",
      "Success: 0\n",
      "job submit count: 0\n"
     ]
    },
    {
     "name": "stderr",
     "output_type": "stream",
     "text": [
      "unable to determine job status - unknown\r\n"
     ]
    },
    {
     "name": "stdout",
     "output_type": "stream",
     "text": [
      "Deploying job AW_p1_xCells31_yCells3_sP1.5_pST10_wP-0.8_ampneg0_amppos1E-05_wL0.8_Mach1.5_1sinus_RK4 ... \n",
      "Deploying executables and additional files ...\n",
      "Deployment directory: \\\\dc3\\userspace\\sebastian\\cluster\\binaries\\CNS_AcousticWave1D_ConvStudy-CNS2024May27_133345.846576\n",
      "copied 44 files.\n",
      "   copied 'win\\amd64' runtime.\n",
      "deployment finished.\n",
      "Deployments so far (0): ;\n",
      "Success: 0\n",
      "job submit count: 0\n"
     ]
    },
    {
     "name": "stderr",
     "output_type": "stream",
     "text": [
      "unable to determine job status - unknown\r\n"
     ]
    },
    {
     "name": "stdout",
     "output_type": "stream",
     "text": [
      "Deploying job AW_p1_xCells61_yCells3_sP1.5_pST10_wP-0.8_ampneg0_amppos1E-05_wL0.8_Mach1.5_1sinus_RK4 ... \n",
      "Deploying executables and additional files ...\n",
      "Deployment directory: \\\\dc3\\userspace\\sebastian\\cluster\\binaries\\CNS_AcousticWave1D_ConvStudy-CNS2024May27_133408.238331\n",
      "copied 44 files.\n",
      "   copied 'win\\amd64' runtime.\n",
      "deployment finished.\n",
      "Deployments so far (0): ;\n",
      "Success: 0\n",
      "job submit count: 0\n"
     ]
    },
    {
     "name": "stderr",
     "output_type": "stream",
     "text": [
      "unable to determine job status - unknown\r\n"
     ]
    },
    {
     "name": "stdout",
     "output_type": "stream",
     "text": [
      "Deploying job AW_p1_xCells121_yCells3_sP1.5_pST10_wP-0.8_ampneg0_amppos1E-05_wL0.8_Mach1.5_1sinus_RK4 ... \n",
      "Deploying executables and additional files ...\n",
      "Deployment directory: \\\\dc3\\userspace\\sebastian\\cluster\\binaries\\CNS_AcousticWave1D_ConvStudy-CNS2024May27_133430.485714\n",
      "copied 44 files.\n",
      "   copied 'win\\amd64' runtime.\n",
      "deployment finished.\n"
     ]
    }
   ],
   "source": [
    "      int savePeriod=1500;\n",
    "    double endTime=14.0;\n",
    "    double shockPos=1.5;\n",
    "    double wavePos=-0.4; \n",
    "\n",
    "    bool isRestart=false;\n",
    "            foreach(double waveLength in WLs ){\n",
    "        foreach(double MachL in MachLs ){\n",
    "    foreach(double amp in Amplitudes ){\n",
    "    double amp_neg=0.0;\n",
    "    double amp_pos=0.0;\n",
    "foreach(double config in Configs) {\n",
    "    foreach(string waveform in WaveForms) {\n",
    "foreach(double perStartTime in PerStartTimes) {\n",
    "        if(config ==1){ //upstream positive acoustic wave\n",
    "            amp_neg= 0.0;            amp_pos= amp;            endTime=perStartTime+10;            shockPos=1.5;            wavePos=-waveLength;\n",
    "        }else if(config==2){ //downstream negative acoustic wave\n",
    "            amp_neg= amp;            amp_pos= 0.0;            endTime=perStartTime+10;            shockPos=0.5;            wavePos=3.2;\n",
    "        }\n",
    "        else if(config==3){ //upstream positive acoustic wave\n",
    "            amp_neg= amp;            amp_pos= 0.0;            endTime=perStartTime+10;            shockPos=1.5;            wavePos=-waveLength;\n",
    "        }\n",
    "    foreach(int p in DGdegrees) {\n",
    "        foreach(int n in Grid_Res) {\n",
    "                //int cells=(n+1)*30;\n",
    "                int xCells =(n+1)*15+1;\n",
    "                int yCells =3;\n",
    "                var tmp_cntrl=CNS.ControlExamples_Supersonic.AcousticWave( isRestart: isRestart ,waveLength: waveLength ,savePeriod: savePeriod ,perStartTime: perStartTime ,endTime: endTime ,MachL: MachL ,wavePosition: wavePos , shockPosition: shockPos ,p_amp_neg:  amp_neg , p_amp_pos: amp_pos ,waveform:  waveform  ,dgDegree: p ,numOfCellsX: xCells ,numOfCellsY: yCells ,dbPath:dbPath  );\n",
    "                Job j = new Job(tmp_cntrl.SessionName, new CNS.CNSProgram().GetType());\n",
    "                // job name has to be equal to sessionname! for SessionInfoJobCorrelation to work!\n",
    "                \n",
    "                j.RetryCount = 2;\n",
    "                j.NumberOfThreads=1;\n",
    "                var tmp_restart=isRestart? \"true\": \"false\";\n",
    "                j.MySetCommandLineArguments(\"--control\", $\"cs:CNS.ControlExamples_Supersonic.AcousticWave( isRestart:{tmp_restart},waveLength:{waveLength},savePeriod:{savePeriod},perStartTime:{perStartTime},endTime:{endTime},MachL:{MachL},wavePosition:{wavePos}, shockPosition:{shockPos},p_amp_neg: {amp_neg}, p_amp_pos:{amp_pos},waveform:\\\"{waveform}\\\",dgDegree:{p},numOfCellsX:{xCells},numOfCellsY:{yCells},dbPath:@\\\"{dbPath}\\\")\");\n",
    "                j.Activate(BoSSSshell.ExecutionQueues[0]); \n",
    "                \n",
    "            \n",
    "        };                                                                                                                                                          \n",
    "    };\n",
    "};\n",
    "    };\n",
    "}\n",
    "    };\n",
    "        }\n",
    "            }\n",
    "\n",
    "\n"
   ]
  },
  {
   "cell_type": "code",
   "execution_count": null,
   "metadata": {
    "dotnet_interactive": {
     "language": "csharp"
    },
    "polyglot_notebook": {
     "kernelName": "csharp"
    }
   },
   "outputs": [],
   "source": [
    "BoSSSshell.WorkflowMgm.BlockUntilAllJobsTerminate(7*86400 , 60); // wait for one week, or until all jobs finish"
   ]
  }
 ],
 "metadata": {
  "kernelspec": {
   "display_name": ".NET (C#)",
   "language": "C#",
   "name": ".net-csharp"
  },
  "language_info": {
   "name": "polyglot-notebook"
  },
  "polyglot_notebook": {
   "kernelInfo": {
    "defaultKernelName": "csharp",
    "items": [
     {
      "aliases": [],
      "name": ".NET"
     },
     {
      "aliases": [
       "C#",
       "c#"
      ],
      "languageName": "C#",
      "name": "csharp"
     },
     {
      "aliases": [
       "F#",
       "f#"
      ],
      "languageName": "F#",
      "name": "fsharp"
     },
     {
      "aliases": [],
      "languageName": "HTML",
      "name": "html"
     },
     {
      "aliases": [
       "js"
      ],
      "languageName": "JavaScript",
      "name": "javascript"
     },
     {
      "aliases": [],
      "languageName": "KQL",
      "name": "kql"
     },
     {
      "aliases": [],
      "languageName": "Mermaid",
      "name": "mermaid"
     },
     {
      "aliases": [
       "powershell"
      ],
      "languageName": "PowerShell",
      "name": "pwsh"
     },
     {
      "aliases": [],
      "languageName": "SQL",
      "name": "sql"
     },
     {
      "aliases": [],
      "name": "value"
     },
     {
      "aliases": [
       "frontend"
      ],
      "name": "vscode"
     },
     {
      "aliases": [],
      "name": "webview"
     }
    ]
   }
  }
 },
 "nbformat": 4,
 "nbformat_minor": 2
}

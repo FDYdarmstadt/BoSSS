{
 "cells": [
  {
   "cell_type": "markdown",
   "metadata": {},
   "source": [
    "In this notebook we run the shock-acoustic-wave interaction problems using the CNS solver"
   ]
  },
  {
   "cell_type": "code",
   "execution_count": null,
   "metadata": {
    "dotnet_interactive": {
     "language": "csharp"
    }
   },
   "outputs": [],
   "source": [
    "#r \"BoSSSpad.dll\"\n",
    "#r \"CNS.dll\"\n",
    "using System;\n",
    "using BoSSS.Foundation;\n",
    "using BoSSS.Application.BoSSSpad;\n",
    "using BoSSS.Solution;\n",
    "using BoSSS.Solution.Tecplot;\n",
    "using BoSSS.Foundation.IO;\n",
    "using ilPSP.Tracing;\n",
    "using BoSSS.Solution.Utils;\n",
    "using ilPSP.LinSolvers;\n",
    "using BoSSS.Solution.NSECommon;\n",
    "using ilPSP.Connectors.Matlab;\n",
    "using ilPSP;\n",
    "using BoSSS.Foundation.Grid.Classic;\n",
    "using ilPSP.Utils;\n",
    "using BoSSS.Foundation.Grid.RefElements;\n",
    "using System.Collections.Generic;\n",
    "using BoSSS.Foundation.Grid;\n",
    "using BoSSS.Foundation.XDG;\n",
    "using BoSSS.Solution.XdgTimestepping;\n",
    "using BoSSS.Solution.AdvancedSolvers;\n",
    "using System.Linq;\n",
    "using BoSSS.Foundation.Grid.Aggregation;\n",
    "using BoSSS.Platform;\n",
    "using MPI.Wrappers;\n",
    "using System.Diagnostics;\n",
    "using System.IO;\n",
    "using System.Collections;\n",
    "using BoSSS.Foundation.Quadrature;\n",
    "using BoSSS.Solution.Statistic;\n",
    "using BoSSS.Solution.Gnuplot;\n",
    "using static BoSSS.Application.BoSSSpad.BoSSSshell;\n",
    "using BoSSS.Solution.Control;\n",
    "using BoSSS.Solution.GridImport;\n",
    "Init();\n"
   ]
  },
  {
   "cell_type": "markdown",
   "metadata": {},
   "source": [
    "init workflow"
   ]
  },
  {
   "cell_type": "code",
   "execution_count": null,
   "metadata": {
    "dotnet_interactive": {
     "language": "csharp"
    }
   },
   "outputs": [],
   "source": [
    "BoSSSshell.WorkflowMgm.Init(\"CNS_AcousticWave1D_ConvStudy\");\n",
    "BoSSSshell.WorkflowMgm.SetNameBasedSessionJobControlCorrelation();\n",
    "BoSSSshell.WorkflowMgm.DefaultDatabase\n"
   ]
  },
  {
   "cell_type": "code",
   "execution_count": null,
   "metadata": {
    "dotnet_interactive": {
     "language": "csharp"
    }
   },
   "outputs": [],
   "source": [
    "BoSSSshell.GetDefaultQueue()"
   ]
  },
  {
   "cell_type": "code",
   "execution_count": null,
   "metadata": {
    "dotnet_interactive": {
     "language": "csharp"
    }
   },
   "outputs": [],
   "source": [
    "string dbPath = BoSSSshell.WorkflowMgm.DefaultDatabase.Path; \n",
    "dbPath"
   ]
  },
  {
   "cell_type": "markdown",
   "metadata": {},
   "source": [
    "choose parameters (waveform, configuration, grid resolution...)"
   ]
  },
  {
   "cell_type": "code",
   "execution_count": null,
   "metadata": {
    "dotnet_interactive": {
     "language": "csharp"
    }
   },
   "outputs": [],
   "source": [
    "double[] PerStartTimes = new double[] {10}; \n",
    "int[] Configs = new int[] {1}; //three interaction problems\n",
    "int[] DGdegrees = new int[] {1,2,3};\n",
    "int[] Grid_Res = new int[] {0,1,3,7};\n",
    "double[] Amplitudes = new double[] {1e-5};\n",
    "string[] WaveForms= new string[] {\"1sinus\"};\n",
    "string[] LevelSetConfigs = new string[] {\"true\"};\n",
    "double[] MachLs = new double[] {1.5};\n",
    "double[] WLs = new double[] {0.8};"
   ]
  },
  {
   "cell_type": "markdown",
   "metadata": {},
   "source": [
    "send the simulations to execution queue"
   ]
  },
  {
   "cell_type": "code",
   "execution_count": null,
   "metadata": {
    "dotnet_interactive": {
     "language": "csharp"
    }
   },
   "outputs": [],
   "source": [
    "int savePeriod=1500;\n",
    "double endTime=14.0;\n",
    "double shockPos=1.5;\n",
    "double wavePos=-0.4; \n",
    "\n",
    "bool isRestart=false;\n",
    "\n",
    "foreach(double waveLength in WLs ){\n",
    "foreach(double MachL in MachLs ){\n",
    "foreach(double amp in Amplitudes ){\n",
    "    double amp_neg=0.0;\n",
    "    double amp_pos=0.0;\n",
    "    \n",
    "    foreach(double config in Configs) {\n",
    "    foreach(string waveform in WaveForms) {\n",
    "    foreach(double perStartTime in PerStartTimes) {\n",
    "        if(config ==1){ //upstream positive acoustic wave\n",
    "            amp_neg= 0.0;            amp_pos= amp;            endTime=perStartTime+10;            shockPos=1.5;            wavePos=-waveLength;\n",
    "        } else if(config==2){ //downstream negative acoustic wave\n",
    "            amp_neg= amp;            amp_pos= 0.0;            endTime=perStartTime+10;            shockPos=0.5;            wavePos=3.2;\n",
    "        } else if(config==3){ //upstream positive acoustic wave\n",
    "            amp_neg= amp;            amp_pos= 0.0;            endTime=perStartTime+10;            shockPos=1.5;            wavePos=-waveLength;\n",
    "        }\n",
    "        \n",
    "        foreach(int p in DGdegrees) {\n",
    "        foreach(int n in Grid_Res) {\n",
    "            //int cells=(n+1)*30;\n",
    "            int xCells =(n+1)*15+1;\n",
    "            int yCells =3;\n",
    "            var tmp_cntrl=CNS.ControlExamples_Supersonic.AcousticWave( isRestart: isRestart ,waveLength: waveLength ,savePeriod: savePeriod ,perStartTime: perStartTime ,endTime: endTime ,MachL: MachL ,wavePosition: wavePos , shockPosition: shockPos ,p_amp_neg:  amp_neg , p_amp_pos: amp_pos ,waveform:  waveform  ,dgDegree: p ,numOfCellsX: xCells ,numOfCellsY: yCells ,dbPath:dbPath  );\n",
    "            Job j = new Job(tmp_cntrl.SessionName, new CNS.CNSProgram().GetType());\n",
    "            // job name has to be equal to sessionname! for SessionInfoJobCorrelation to work!\n",
    "                \n",
    "            j.RetryCount = 2;\n",
    "            j.NumberOfThreads=1;\n",
    "            var tmp_restart=isRestart? \"true\": \"false\";\n",
    "            j.SetControlStatement($\"cs:CNS.ControlExamples_Supersonic.AcousticWave( isRestart:{tmp_restart},waveLength:{waveLength},savePeriod:{savePeriod},perStartTime:{perStartTime},endTime:{endTime},MachL:{MachL},wavePosition:{wavePos}, shockPosition:{shockPos},p_amp_neg: {amp_neg}, p_amp_pos:{amp_pos},waveform:\\\"{waveform}\\\",dgDegree:{p},numOfCellsX:{xCells},numOfCellsY:{yCells},dbPath:@\\\"{dbPath}\\\")\");\n",
    "            j.Activate(BoSSSshell.ExecutionQueues[0]); \n",
    "        } }                                                                                                                                                          \n",
    "    } } }\n",
    "} } } "
   ]
  },
  {
   "cell_type": "code",
   "execution_count": null,
   "metadata": {
    "dotnet_interactive": {
     "language": "csharp"
    },
    "polyglot_notebook": {
     "kernelName": "csharp"
    }
   },
   "outputs": [],
   "source": [
    "BoSSSshell.WorkflowMgm.BlockUntilAllJobsTerminate(7*86400 , 60); // wait for one week, or until all jobs finish"
   ]
  }
 ],
 "metadata": {
  "kernelspec": {
   "display_name": ".NET (C#)",
   "language": "C#",
   "name": ".net-csharp"
  },
  "language_info": {
   "file_extension": ".cs",
   "mimetype": "text/x-csharp",
   "name": "C#",
   "pygments_lexer": "csharp",
   "version": "10.0"
  },
  "polyglot_notebook": {
   "kernelInfo": {
    "defaultKernelName": "csharp",
    "items": [
     {
      "aliases": [],
      "name": ".NET"
     },
     {
      "aliases": [
       "C#",
       "c#"
      ],
      "languageName": "C#",
      "name": "csharp"
     },
     {
      "aliases": [
       "F#",
       "f#"
      ],
      "languageName": "F#",
      "name": "fsharp"
     },
     {
      "aliases": [],
      "languageName": "HTML",
      "name": "html"
     },
     {
      "aliases": [
       "js"
      ],
      "languageName": "JavaScript",
      "name": "javascript"
     },
     {
      "aliases": [],
      "languageName": "KQL",
      "name": "kql"
     },
     {
      "aliases": [],
      "languageName": "Mermaid",
      "name": "mermaid"
     },
     {
      "aliases": [
       "powershell"
      ],
      "languageName": "PowerShell",
      "name": "pwsh"
     },
     {
      "aliases": [],
      "languageName": "SQL",
      "name": "sql"
     },
     {
      "aliases": [],
      "name": "value"
     },
     {
      "aliases": [
       "frontend"
      ],
      "name": "vscode"
     },
     {
      "aliases": [],
      "name": "webview"
     }
    ]
   }
  }
 },
 "nbformat": 4,
 "nbformat_minor": 2
}

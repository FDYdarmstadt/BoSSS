{
 "cells": [
  {
   "cell_type": "code",
   "execution_count": 1,
   "metadata": {
    "dotnet_interactive": {
     "language": "csharp"
    },
    "vscode": {
     "languageId": "dotnet-interactive.csharp"
    }
   },
   "outputs": [
    {
     "ename": "Error",
     "evalue": "(5,1): error CS0006: Metadatendatei \"..\\..\\..\\..\\..\\..\\..\\..\\internal\\src\\private-seb\\SAIDT\\bin\\Release\\net6.0\\BoSSSpad.dll\" wurde nicht gefunden.\r\n(6,1): error CS0006: Metadatendatei \"..\\..\\..\\..\\..\\..\\..\\..\\internal\\src\\private-seb\\SAIDT\\bin\\Release\\net6.0\\SAIDT.dll\" wurde nicht gefunden.\r\n(8,7): error CS0246: Der Typ- oder Namespacename \"BoSSS\" wurde nicht gefunden (möglicherweise fehlt eine using-Direktive oder ein Assemblyverweis).\r\n(9,7): error CS0246: Der Typ- oder Namespacename \"BoSSS\" wurde nicht gefunden (möglicherweise fehlt eine using-Direktive oder ein Assemblyverweis).\r\n(10,7): error CS0246: Der Typ- oder Namespacename \"BoSSS\" wurde nicht gefunden (möglicherweise fehlt eine using-Direktive oder ein Assemblyverweis).\r\n(11,7): error CS0246: Der Typ- oder Namespacename \"BoSSS\" wurde nicht gefunden (möglicherweise fehlt eine using-Direktive oder ein Assemblyverweis).\r\n(12,7): error CS0246: Der Typ- oder Namespacename \"BoSSS\" wurde nicht gefunden (möglicherweise fehlt eine using-Direktive oder ein Assemblyverweis).\r\n(13,7): error CS0246: Der Typ- oder Namespacename \"ilPSP\" wurde nicht gefunden (möglicherweise fehlt eine using-Direktive oder ein Assemblyverweis).\r\n(14,7): error CS0246: Der Typ- oder Namespacename \"BoSSS\" wurde nicht gefunden (möglicherweise fehlt eine using-Direktive oder ein Assemblyverweis).\r\n(15,7): error CS0246: Der Typ- oder Namespacename \"ilPSP\" wurde nicht gefunden (möglicherweise fehlt eine using-Direktive oder ein Assemblyverweis).\r\n(16,7): error CS0246: Der Typ- oder Namespacename \"BoSSS\" wurde nicht gefunden (möglicherweise fehlt eine using-Direktive oder ein Assemblyverweis).\r\n(17,7): error CS0246: Der Typ- oder Namespacename \"ilPSP\" wurde nicht gefunden (möglicherweise fehlt eine using-Direktive oder ein Assemblyverweis).\r\n(18,7): error CS0246: Der Typ- oder Namespacename \"ilPSP\" wurde nicht gefunden (möglicherweise fehlt eine using-Direktive oder ein Assemblyverweis).\r\n(19,7): error CS0246: Der Typ- oder Namespacename \"BoSSS\" wurde nicht gefunden (möglicherweise fehlt eine using-Direktive oder ein Assemblyverweis).\r\n(20,7): error CS0246: Der Typ- oder Namespacename \"ilPSP\" wurde nicht gefunden (möglicherweise fehlt eine using-Direktive oder ein Assemblyverweis).\r\n(21,7): error CS0246: Der Typ- oder Namespacename \"BoSSS\" wurde nicht gefunden (möglicherweise fehlt eine using-Direktive oder ein Assemblyverweis).\r\n(23,7): error CS0246: Der Typ- oder Namespacename \"BoSSS\" wurde nicht gefunden (möglicherweise fehlt eine using-Direktive oder ein Assemblyverweis).\r\n(24,7): error CS0246: Der Typ- oder Namespacename \"BoSSS\" wurde nicht gefunden (möglicherweise fehlt eine using-Direktive oder ein Assemblyverweis).\r\n(25,7): error CS0246: Der Typ- oder Namespacename \"BoSSS\" wurde nicht gefunden (möglicherweise fehlt eine using-Direktive oder ein Assemblyverweis).\r\n(26,7): error CS0246: Der Typ- oder Namespacename \"BoSSS\" wurde nicht gefunden (möglicherweise fehlt eine using-Direktive oder ein Assemblyverweis).\r\n(28,7): error CS0246: Der Typ- oder Namespacename \"BoSSS\" wurde nicht gefunden (möglicherweise fehlt eine using-Direktive oder ein Assemblyverweis).\r\n(29,7): error CS0246: Der Typ- oder Namespacename \"BoSSS\" wurde nicht gefunden (möglicherweise fehlt eine using-Direktive oder ein Assemblyverweis).\r\n(30,7): error CS0246: Der Typ- oder Namespacename \"MPI\" wurde nicht gefunden (möglicherweise fehlt eine using-Direktive oder ein Assemblyverweis).\r\n(34,7): error CS0246: Der Typ- oder Namespacename \"BoSSS\" wurde nicht gefunden (möglicherweise fehlt eine using-Direktive oder ein Assemblyverweis).\r\n(35,7): error CS0246: Der Typ- oder Namespacename \"BoSSS\" wurde nicht gefunden (möglicherweise fehlt eine using-Direktive oder ein Assemblyverweis).\r\n(36,7): error CS0246: Der Typ- oder Namespacename \"BoSSS\" wurde nicht gefunden (möglicherweise fehlt eine using-Direktive oder ein Assemblyverweis).\r\n(37,14): error CS0246: Der Typ- oder Namespacename \"BoSSS\" wurde nicht gefunden (möglicherweise fehlt eine using-Direktive oder ein Assemblyverweis).\r\n(38,7): error CS0246: Der Typ- oder Namespacename \"BoSSS\" wurde nicht gefunden (möglicherweise fehlt eine using-Direktive oder ein Assemblyverweis).\r\n(39,7): error CS0246: Der Typ- oder Namespacename \"BoSSS\" wurde nicht gefunden (möglicherweise fehlt eine using-Direktive oder ein Assemblyverweis).\r\n(40,7): error CS0246: Der Typ- oder Namespacename \"SAIDT\" wurde nicht gefunden (möglicherweise fehlt eine using-Direktive oder ein Assemblyverweis).\r\n(41,1): error CS0103: Der Name \"Init\" ist im aktuellen Kontext nicht vorhanden.",
     "output_type": "error",
     "traceback": [
      "(5,1): error CS0006: Metadatendatei \"..\\..\\..\\..\\..\\..\\..\\..\\internal\\src\\private-seb\\SAIDT\\bin\\Release\\net6.0\\BoSSSpad.dll\" wurde nicht gefunden.\r\n",
      "(6,1): error CS0006: Metadatendatei \"..\\..\\..\\..\\..\\..\\..\\..\\internal\\src\\private-seb\\SAIDT\\bin\\Release\\net6.0\\SAIDT.dll\" wurde nicht gefunden.\r\n",
      "(8,7): error CS0246: Der Typ- oder Namespacename \"BoSSS\" wurde nicht gefunden (möglicherweise fehlt eine using-Direktive oder ein Assemblyverweis).\r\n",
      "(9,7): error CS0246: Der Typ- oder Namespacename \"BoSSS\" wurde nicht gefunden (möglicherweise fehlt eine using-Direktive oder ein Assemblyverweis).\r\n",
      "(10,7): error CS0246: Der Typ- oder Namespacename \"BoSSS\" wurde nicht gefunden (möglicherweise fehlt eine using-Direktive oder ein Assemblyverweis).\r\n",
      "(11,7): error CS0246: Der Typ- oder Namespacename \"BoSSS\" wurde nicht gefunden (möglicherweise fehlt eine using-Direktive oder ein Assemblyverweis).\r\n",
      "(12,7): error CS0246: Der Typ- oder Namespacename \"BoSSS\" wurde nicht gefunden (möglicherweise fehlt eine using-Direktive oder ein Assemblyverweis).\r\n",
      "(13,7): error CS0246: Der Typ- oder Namespacename \"ilPSP\" wurde nicht gefunden (möglicherweise fehlt eine using-Direktive oder ein Assemblyverweis).\r\n",
      "(14,7): error CS0246: Der Typ- oder Namespacename \"BoSSS\" wurde nicht gefunden (möglicherweise fehlt eine using-Direktive oder ein Assemblyverweis).\r\n",
      "(15,7): error CS0246: Der Typ- oder Namespacename \"ilPSP\" wurde nicht gefunden (möglicherweise fehlt eine using-Direktive oder ein Assemblyverweis).\r\n",
      "(16,7): error CS0246: Der Typ- oder Namespacename \"BoSSS\" wurde nicht gefunden (möglicherweise fehlt eine using-Direktive oder ein Assemblyverweis).\r\n",
      "(17,7): error CS0246: Der Typ- oder Namespacename \"ilPSP\" wurde nicht gefunden (möglicherweise fehlt eine using-Direktive oder ein Assemblyverweis).\r\n",
      "(18,7): error CS0246: Der Typ- oder Namespacename \"ilPSP\" wurde nicht gefunden (möglicherweise fehlt eine using-Direktive oder ein Assemblyverweis).\r\n",
      "(19,7): error CS0246: Der Typ- oder Namespacename \"BoSSS\" wurde nicht gefunden (möglicherweise fehlt eine using-Direktive oder ein Assemblyverweis).\r\n",
      "(20,7): error CS0246: Der Typ- oder Namespacename \"ilPSP\" wurde nicht gefunden (möglicherweise fehlt eine using-Direktive oder ein Assemblyverweis).\r\n",
      "(21,7): error CS0246: Der Typ- oder Namespacename \"BoSSS\" wurde nicht gefunden (möglicherweise fehlt eine using-Direktive oder ein Assemblyverweis).\r\n",
      "(23,7): error CS0246: Der Typ- oder Namespacename \"BoSSS\" wurde nicht gefunden (möglicherweise fehlt eine using-Direktive oder ein Assemblyverweis).\r\n",
      "(24,7): error CS0246: Der Typ- oder Namespacename \"BoSSS\" wurde nicht gefunden (möglicherweise fehlt eine using-Direktive oder ein Assemblyverweis).\r\n",
      "(25,7): error CS0246: Der Typ- oder Namespacename \"BoSSS\" wurde nicht gefunden (möglicherweise fehlt eine using-Direktive oder ein Assemblyverweis).\r\n",
      "(26,7): error CS0246: Der Typ- oder Namespacename \"BoSSS\" wurde nicht gefunden (möglicherweise fehlt eine using-Direktive oder ein Assemblyverweis).\r\n",
      "(28,7): error CS0246: Der Typ- oder Namespacename \"BoSSS\" wurde nicht gefunden (möglicherweise fehlt eine using-Direktive oder ein Assemblyverweis).\r\n",
      "(29,7): error CS0246: Der Typ- oder Namespacename \"BoSSS\" wurde nicht gefunden (möglicherweise fehlt eine using-Direktive oder ein Assemblyverweis).\r\n",
      "(30,7): error CS0246: Der Typ- oder Namespacename \"MPI\" wurde nicht gefunden (möglicherweise fehlt eine using-Direktive oder ein Assemblyverweis).\r\n",
      "(34,7): error CS0246: Der Typ- oder Namespacename \"BoSSS\" wurde nicht gefunden (möglicherweise fehlt eine using-Direktive oder ein Assemblyverweis).\r\n",
      "(35,7): error CS0246: Der Typ- oder Namespacename \"BoSSS\" wurde nicht gefunden (möglicherweise fehlt eine using-Direktive oder ein Assemblyverweis).\r\n",
      "(36,7): error CS0246: Der Typ- oder Namespacename \"BoSSS\" wurde nicht gefunden (möglicherweise fehlt eine using-Direktive oder ein Assemblyverweis).\r\n",
      "(37,14): error CS0246: Der Typ- oder Namespacename \"BoSSS\" wurde nicht gefunden (möglicherweise fehlt eine using-Direktive oder ein Assemblyverweis).\r\n",
      "(38,7): error CS0246: Der Typ- oder Namespacename \"BoSSS\" wurde nicht gefunden (möglicherweise fehlt eine using-Direktive oder ein Assemblyverweis).\r\n",
      "(39,7): error CS0246: Der Typ- oder Namespacename \"BoSSS\" wurde nicht gefunden (möglicherweise fehlt eine using-Direktive oder ein Assemblyverweis).\r\n",
      "(40,7): error CS0246: Der Typ- oder Namespacename \"SAIDT\" wurde nicht gefunden (möglicherweise fehlt eine using-Direktive oder ein Assemblyverweis).\r\n",
      "(41,1): error CS0103: Der Name \"Init\" ist im aktuellen Kontext nicht vorhanden."
     ]
    }
   ],
   "source": [
    "// #r \"C:\\experimental\\internal\\src\\private-seb\\Notebooks\\XESF\\HPC\\binaries\\BoSSSpad.dll\"\n",
    "// #r \"C:\\experimental\\internal\\src\\private-seb\\Notebooks\\XESF\\HPC\\binaries\\XESF.dll\"\n",
    "// #r \"C:\\Users\\jakob\\Documents\\Uni\\Promotion\\Programmieren\\BoSSS\\experimental\\internal\\src\\private-seb\\SAIDT\\bin\\Release\\net6.0\\BoSSSpad.dll\"\n",
    "// #r \"C:\\Users\\jakob\\Documents\\Uni\\Promotion\\Programmieren\\BoSSS\\experimental\\internal\\src\\private-seb\\SAIDT\\bin\\Release\\net6.0\\SAIDT.dll\"\n",
    "// #r \"..\\..\\..\\..\\..\\..\\..\\..\\internal\\src\\private-seb\\SAIDT\\bin\\Release\\net6.0\\BoSSSpad.dll\"\n",
    "// #r \"..\\..\\..\\..\\..\\..\\..\\..\\internal\\src\\private-seb\\SAIDT\\bin\\Release\\net6.0\\SAIDT.dll\"\n",
    "#r \"BoSSSpad.dll\"\n",
    "#r \"SAIDT.dll\"\n",
    "using System;\n",
    "using BoSSS.Foundation;\n",
    "using BoSSS.Application.BoSSSpad;\n",
    "using BoSSS.Solution;\n",
    "using BoSSS.Solution.Tecplot;\n",
    "using BoSSS.Foundation.IO;\n",
    "using ilPSP.Tracing;\n",
    "using BoSSS.Solution.Utils;\n",
    "using ilPSP.LinSolvers;\n",
    "using BoSSS.Solution.NSECommon;\n",
    "using ilPSP.Connectors.Matlab;\n",
    "using ilPSP;\n",
    "using BoSSS.Foundation.Grid.Classic;\n",
    "using ilPSP.Utils;\n",
    "using BoSSS.Foundation.Grid.RefElements;\n",
    "using System.Collections.Generic;\n",
    "using BoSSS.Foundation.Grid;\n",
    "using BoSSS.Foundation.XDG;\n",
    "using BoSSS.Solution.XdgTimestepping;\n",
    "using BoSSS.Solution.AdvancedSolvers;\n",
    "using System.Linq;\n",
    "using BoSSS.Foundation.Grid.Aggregation;\n",
    "using BoSSS.Platform;\n",
    "using MPI.Wrappers;\n",
    "using System.Diagnostics;\n",
    "using System.IO;\n",
    "using System.Collections;\n",
    "using BoSSS.Foundation.Quadrature;\n",
    "using BoSSS.Solution.Statistic;\n",
    "using BoSSS.Solution.Gnuplot;\n",
    "using static BoSSS.Application.BoSSSpad.BoSSSshell;\n",
    "using BoSSS.Solution.Control;\n",
    "using BoSSS.Solution.GridImport;\n",
    "using SAIDT;\n",
    "Init();\n"
   ]
  },
  {
   "cell_type": "code",
   "execution_count": 2,
   "metadata": {
    "dotnet_interactive": {
     "language": "csharp"
    },
    "vscode": {
     "languageId": "dotnet-interactive.csharp"
    }
   },
   "outputs": [
    {
     "ename": "Error",
     "evalue": "(2,1): error CS0103: Der Name \"wmg\" ist im aktuellen Kontext nicht vorhanden.\r\n(3,1): error CS0103: Der Name \"wmg\" ist im aktuellen Kontext nicht vorhanden.\r\n(4,1): error CS0103: Der Name \"wmg\" ist im aktuellen Kontext nicht vorhanden.",
     "output_type": "error",
     "traceback": [
      "(2,1): error CS0103: Der Name \"wmg\" ist im aktuellen Kontext nicht vorhanden.\r\n",
      "(3,1): error CS0103: Der Name \"wmg\" ist im aktuellen Kontext nicht vorhanden.\r\n",
      "(4,1): error CS0103: Der Name \"wmg\" ist im aktuellen Kontext nicht vorhanden."
     ]
    }
   ],
   "source": [
    "string PROJECT_NAME = System.Environment.GetEnvironmentVariable(\"ShockFitting\") ?? \"ShockFitting\"; // this allows to modify the project name for testing purposes\n",
    "wmg.Init(PROJECT_NAME);\n",
    "wmg.SetNameBasedSessionJobControlCorrelation();\n",
    "wmg.AllJobs"
   ]
  },
  {
   "cell_type": "markdown",
   "metadata": {
    "dotnet_interactive": {
     "language": "csharp"
    }
   },
   "source": [
    "## Utility definitions"
   ]
  },
  {
   "cell_type": "code",
   "execution_count": null,
   "metadata": {
    "dotnet_interactive": {
     "language": "csharp"
    },
    "vscode": {
     "languageId": "dotnet-interactive.csharp"
    }
   },
   "outputs": [],
   "source": [
    "using BoSSS.Foundation.Grid;\n",
    "static class Utils {\n",
    "    // DOF per cell for one variable\n",
    "    public static int Np(int p) {\n",
    "        return (p*p + 3*p + 2)/2;\n",
    "    }    \n",
    "    public static int Nq_SpecFemField(int q){\n",
    "        return (q*q + 3*q + 2)/2;\n",
    "    }\n",
    "    public static int Nq_SplineLevelSet(int YNodes, int q){\n",
    "        int numberOfNodes = YNodes;\n",
    "\n",
    "        //dependent on the degree we have more free Parameters\n",
    "        if(1 == 0) {\n",
    "            throw new NotSupportedException(\"degree 0 not allowed\");\n",
    "        } else if(q == 1) {\n",
    "            numberOfNodes =YNodes;\n",
    "        } else if(q == 2) {\n",
    "            numberOfNodes =YNodes * 2;\n",
    "        } else {\n",
    "            numberOfNodes =YNodes * 2;\n",
    "        }\n",
    "        return numberOfNodes;\n",
    "    }\n",
    "\n",
    "}"
   ]
  },
  {
   "cell_type": "markdown",
   "metadata": {
    "dotnet_interactive": {
     "language": "csharp"
    }
   },
   "source": [
    "## Init grids and save to database"
   ]
  },
  {
   "cell_type": "code",
   "execution_count": null,
   "metadata": {
    "dotnet_interactive": {
     "language": "csharp"
    },
    "vscode": {
     "languageId": "dotnet-interactive.csharp"
    }
   },
   "outputs": [],
   "source": [
    "int[] Resolutions_2D = new int[] { 4,8 ,16 };//, 24};\n"
   ]
  },
  {
   "cell_type": "code",
   "execution_count": null,
   "metadata": {
    "dotnet_interactive": {
     "language": "csharp"
    },
    "vscode": {
     "languageId": "dotnet-interactive.csharp"
    }
   },
   "outputs": [],
   "source": [
    "wmg.DefaultDatabase"
   ]
  },
  {
   "cell_type": "markdown",
   "metadata": {
    "dotnet_interactive": {
     "language": "csharp"
    }
   },
   "source": [
    "### Setup of Parameter Study"
   ]
  },
  {
   "cell_type": "markdown",
   "metadata": {},
   "source": [
    "Polynomial degrees to test:"
   ]
  },
  {
   "cell_type": "code",
   "execution_count": null,
   "metadata": {
    "dotnet_interactive": {
     "language": "csharp"
    },
    "vscode": {
     "languageId": "dotnet-interactive.csharp"
    }
   },
   "outputs": [],
   "source": [
    "int[] PolyDegS = new int[] {0, 1, 2};\n",
    "int[] LevelSetDegs = new int[] {1,2, 3};"
   ]
  },
  {
   "cell_type": "markdown",
   "metadata": {},
   "source": [
    "LevelSetTypes to test"
   ]
  },
  {
   "cell_type": "code",
   "execution_count": null,
   "metadata": {
    "dotnet_interactive": {
     "language": "csharp"
    },
    "vscode": {
     "languageId": "dotnet-interactive.csharp"
    }
   },
   "outputs": [],
   "source": [
    "using ApplicationWithIDT;\n",
    "OptiLevelSetType[] LStypes = new OptiLevelSetType[] {\n",
    "    //OptiLevelSetType.GlobalLevelSet,\n",
    "    OptiLevelSetType.SpecFemField,\n",
    "    OptiLevelSetType.SplineLevelSet};\n",
    "    LStypes"
   ]
  },
  {
   "cell_type": "markdown",
   "metadata": {},
   "source": [
    "Merit Functions to Test"
   ]
  },
  {
   "cell_type": "code",
   "execution_count": null,
   "metadata": {
    "dotnet_interactive": {
     "language": "csharp"
    },
    "vscode": {
     "languageId": "dotnet-interactive.csharp"
    }
   },
   "outputs": [],
   "source": [
    "MeritFunctionType[] MeritFunctionTypes = new MeritFunctionType[] {\n",
    "    MeritFunctionType.ExactMerit, \n",
    "    MeritFunctionType.FullyL2Merit};\n",
    "    MeritFunctionTypes"
   ]
  },
  {
   "cell_type": "markdown",
   "metadata": {},
   "source": [
    "Maximum Dof for one calculation (we skip fine grids for higher polynomial orders):"
   ]
  },
  {
   "cell_type": "code",
   "execution_count": null,
   "metadata": {
    "dotnet_interactive": {
     "language": "csharp"
    },
    "vscode": {
     "languageId": "dotnet-interactive.csharp"
    }
   },
   "outputs": [],
   "source": [
    "int GetMaxAllowedDOF() {\n",
    "    return 50000;\n",
    "}"
   ]
  },
  {
   "cell_type": "markdown",
   "metadata": {},
   "source": [
    "Rigth now the creation of control files does not work"
   ]
  },
  {
   "cell_type": "code",
   "execution_count": null,
   "metadata": {
    "dotnet_interactive": {
     "language": "csharp"
    },
    "vscode": {
     "languageId": "dotnet-interactive.csharp"
    }
   },
   "outputs": [],
   "source": [
    "var myBatch = GetDefaultQueue();\n",
    "myBatch"
   ]
  },
  {
   "cell_type": "code",
   "execution_count": null,
   "metadata": {
    "dotnet_interactive": {
     "language": "csharp"
    },
    "vscode": {
     "languageId": "dotnet-interactive.csharp"
    }
   },
   "outputs": [],
   "source": [
    "int noOfTS =50;\n",
    "bool[] Configs = new bool[] {true,false};\n",
    "\n",
    "\n",
    "foreach(int res in Resolutions_2D) {\n",
    "foreach(int p in PolyDegS) {\n",
    "foreach(int q in LevelSetDegs) {\n",
    "foreach(OptiLevelSetType lstype in LStypes) {\n",
    "foreach(MeritFunctionType mfType in MeritFunctionTypes) {\n",
    "foreach(bool config in Configs) {\n",
    "        int Np = Utils.Np(p);\n",
    "        int Nq=1;\n",
    "        int J    = res*res;\n",
    "        int numOfXCells = res;\n",
    "        switch(lstype){\n",
    "            case OptiLevelSetType.SplineLevelSet:\n",
    "            Nq = Utils.Nq_SplineLevelSet(numOfXCells,q);\n",
    "            if(q==2){\n",
    "                continue;\n",
    "            }\n",
    "            break;\n",
    "            case OptiLevelSetType.SpecFemField:\n",
    "            Nq = q*J;\n",
    "            if(q==1){\n",
    "                continue;\n",
    "            }\n",
    "            break;\n",
    "            case OptiLevelSetType.SinglePhaseField:\n",
    "            Nq = Utils.Np(q)*J;\n",
    "            if(q==2){\n",
    "                continue;\n",
    "            }\n",
    "            break;\n",
    "            // not cell dependant\n",
    "            case OptiLevelSetType.GlobalLevelSet:\n",
    "            Nq=Utils.Np(q);\n",
    "            break;\n",
    "        }\n",
    "        int DOF  = Np*2 + Nq;\n",
    "        \n",
    "        if(DOF >  GetMaxAllowedDOF())\n",
    "            continue;\n",
    "        // Control Instance, grid, DG degree, etc.\n",
    "        // =======================================\n",
    "\n",
    "    Job j = new Job(string.Format(\"SAIDT-J{0}_p{1}_q{2}_{3}_{4}_isFarConfig{5}\", J, p, q,lstype,mfType,config), typeof(SAIDT.SAIDTMain));// job name has to be equal to sessionname! for SessionInfoJobCorrelation to work!\n",
    "    j.RetryCount = 1;\n",
    "    string command = $\"cs:SAIDT.SAIDTHardCodedControl.StraightShock(\"+\n",
    "    $\"dbPath:{\"@\\\"\"+BoSSSshell.WorkflowMgm.DefaultDatabase.Path+\"\\\"\"},\"+\n",
    "    $\"NoOfTimesteps:{noOfTS},\"+\n",
    "    $\"dgDegree:{p},\"+\n",
    "    $\"numOfCellsX:{numOfXCells},numOfCellsY:{numOfXCells},\"+\n",
    "    $\"OptiNumOfCellsX : {numOfXCells},OptiNumOfCellsY :{numOfXCells},\"+\n",
    "    $\"PrintInterval:{-1},\"+\n",
    "    $\"optiLevelSetType:ApplicationWithIDT.OptiLevelSetType.{lstype},\"+\n",
    "    $\"LSDegree : {q},\"+\n",
    "    $\"withReInit: {\"true\"},\"+ \n",
    "    $\"agg : {0.1},\"+\n",
    "    $\"meritFunctionType: ApplicationWithIDT.MeritFunctionType.{mfType},\"+\n",
    "    $\"isFarConfig:{config.ToString().ToLower()}\" +\n",
    "    \")\";\n",
    "    Console.WriteLine(\"$\\\"\" + command +\"\\\"\");\n",
    "\n",
    "    j.MySetCommandLineArguments(\"--control\",  command); // db path has to be valid at remote location as well! otherwise fix this somehow to pathatremote\n",
    "\n",
    "    j.Activate(myBatch); \n",
    "}\n",
    "}\n",
    "}\n",
    "}\n",
    "}\n",
    "}"
   ]
  },
  {
   "cell_type": "code",
   "execution_count": null,
   "metadata": {
    "dotnet_interactive": {
     "language": "csharp"
    },
    "vscode": {
     "languageId": "dotnet-interactive.csharp"
    }
   },
   "outputs": [],
   "source": [
    "wmg.AllJobs.Count"
   ]
  },
  {
   "cell_type": "code",
   "execution_count": null,
   "metadata": {
    "dotnet_interactive": {
     "language": "csharp"
    },
    "vscode": {
     "languageId": "dotnet-interactive.csharp"
    }
   },
   "outputs": [],
   "source": [
    "BoSSSshell.WorkflowMgm.BlockUntilAllJobsTerminate(TimeOutSeconds:(3600*24*5), PollingIntervallSeconds:(60*5));\n"
   ]
  },
  {
   "cell_type": "code",
   "execution_count": null,
   "metadata": {
    "dotnet_interactive": {
     "language": "csharp"
    },
    "vscode": {
     "languageId": "dotnet-interactive.csharp"
    }
   },
   "outputs": [],
   "source": [
    "var FailedSessions = wmg.Sessions.Where(Si => Si.SuccessfulTermination == false\n",
    "    || Convert.ToInt32(Si.KeysAndQueries[\"Conv\"]) == 0);\n",
    "FailedSessions"
   ]
  },
  {
   "cell_type": "code",
   "execution_count": null,
   "metadata": {
    "dotnet_interactive": {
     "language": "csharp"
    },
    "vscode": {
     "languageId": "dotnet-interactive.csharp"
    }
   },
   "outputs": [],
   "source": [
    "//// The Session column can't be serialized,\n",
    "//// we have to remove it\n",
    "//List<string> AllCols = FullSessTab.GetColumnNames().ToList();\n",
    "//AllCols.Remove(\"Session\");\n",
    "//FullSessTab = FullSessTab.ExtractColumns(AllCols.ToArray());\n"
   ]
  },
  {
   "cell_type": "markdown",
   "metadata": {},
   "source": [
    "List of all available Data Columns:"
   ]
  },
  {
   "cell_type": "code",
   "execution_count": null,
   "metadata": {
    "dotnet_interactive": {
     "language": "csharp"
    },
    "vscode": {
     "languageId": "dotnet-interactive.csharp"
    }
   },
   "outputs": [],
   "source": [
    "// var SessTab = wmg.DefaultDatabase.Sessions.GetSessionTable();\n",
    "// SessTab.GetColumnNames().ToConcatString(\"\", \"; \", \"\")"
   ]
  },
  {
   "cell_type": "markdown",
   "metadata": {},
   "source": [
    "Select those columns which are of interest:"
   ]
  },
  {
   "cell_type": "code",
   "execution_count": null,
   "metadata": {
    "dotnet_interactive": {
     "language": "csharp"
    },
    "vscode": {
     "languageId": "dotnet-interactive.csharp"
    }
   },
   "outputs": [],
   "source": [
    "\n",
    "// var SubTab = SessTab.ExtractColumns(    \"SessionName\", \"DGdegree:levelSet\", \"DgDegree\", \"OptiLevelSetDegree\",\"Grid:NoOfCells\", \n",
    "//     \"Gamma_Start\", \"Alpha_Start\", \"Mu_Start\", \"Gamma_Min\", \"reInit_c1\", \"reInit_c2\", \"reInit_c3\", \"L\", \n",
    "//     \"GetInitialValue\",\"GetLevelSet\",\"OptiLevelSetType\",\"GlobalizationStrategy\",\"FDtype\",\"MeritFunctionType\",\n",
    "//     \"sigma_1\",\"sigma_2\",\"tauGamma\",\"Alpha_Min\",\"Gamma_Max\",\"Linearization\",\"NoOfTimesteps\");\n",
    "// SubTab.GetColumnNames().ToConcatString(\"\", \"; \", \"\")"
   ]
  },
  {
   "cell_type": "markdown",
   "metadata": {},
   "source": [
    "## Create Plots"
   ]
  },
  {
   "cell_type": "code",
   "execution_count": null,
   "metadata": {
    "dotnet_interactive": {
     "language": "csharp"
    },
    "vscode": {
     "languageId": "dotnet-interactive.csharp"
    }
   },
   "outputs": [],
   "source": [
    "var dTypes =new List<DashTypes>();\n",
    "dTypes.Add(DashTypes.Dashed);dTypes.Add(DashTypes.Solid);dTypes.Add(DashTypes.DotDotDashed);dTypes.Add(DashTypes.Dotted);\n",
    "dTypes.Add(DashTypes.Solid);dTypes.Add(DashTypes.Dashed);dTypes.Add(DashTypes.DotDotDashed);dTypes.Add(DashTypes.Dotted);\n",
    "\n",
    "var pTypes =new List<PointTypes>();\n",
    "pTypes.Add(PointTypes.Asterisk);pTypes.Add(PointTypes.Diamond);pTypes.Add(PointTypes.Box);pTypes.Add(PointTypes.Circle);\n",
    "pTypes.Add(PointTypes.Plus);pTypes.Add(PointTypes.OpenCircle);pTypes.Add(PointTypes.UpperTriangle);pTypes.Add(PointTypes.LowerTriangle);\n",
    "\n",
    "var pColors =new List<LineColors>();\n",
    "pColors.Add(LineColors.Black);pColors.Add(LineColors.Red);pColors.Add(LineColors.Blue);pColors.Add(LineColors.Green);\n",
    "pColors.Add(LineColors.Magenta);pColors.Add(LineColors.Black);pColors.Add(LineColors.Red);pColors.Add(LineColors.Red);\n",
    "\n",
    "\n",
    "Func<double[],double> StraightShockExactSol = delegate(double[] x){\n",
    "    if(x[0] <0.25 + 0.5*x[1]){\n",
    "        return 1;\n",
    "    }else{\n",
    "        return 0;\n",
    "    }\n",
    "};\n",
    "Func<ITimestepInfo,double> StraightShockErrorFunctional = delegate(ITimestepInfo ts){\n",
    "    return ts.GetField(\"c\").L2Error(StraightShockExactSol);\n",
    "};\n",
    "var plots = new List<Plot2Ddata>();\n",
    "Plot2Ddata[,] multiplots =new Plot2Ddata[LStypes.Count(),PolyDegS.Length];\n",
    "\n",
    "foreach(int p in PolyDegS) {\n",
    "int countPoly =0;\n",
    "foreach(MeritFunctionType mfType in MeritFunctionTypes) {\n",
    "Plot2Ddata plot = new Plot2Ddata();\n",
    "plot.Title=mfType.ToString();\n",
    "plot = plot.WithLogY();\n",
    "int countMerit =0;\n",
    "int count=0;\n",
    "foreach(OptiLevelSetType lstype in LStypes) {\n",
    "foreach(int q in LevelSetDegs) {\n",
    "foreach(bool config in Configs) {\n",
    "    var sess =wmg.DefaultDatabase.Sessions.Where(Si => Convert.ToBoolean(Si.KeysAndQueries[\"isFarConfig\"]) ==config && \n",
    "    Convert.ToInt32(Si.KeysAndQueries[\"DgDegree\"])==p &&\n",
    "    Convert.ToInt32(Si.KeysAndQueries[\"OptiLevelSetType\"])==lstype.GetHashCode() &&\n",
    "    Convert.ToInt32(Si.KeysAndQueries[\"MeritFunctionType\"])==mfType.GetHashCode() &&\n",
    "    Convert.ToInt32(Si.KeysAndQueries[\"OptiLevelSetDegree\"])==q);\n",
    "    var xval= new List<double>();\n",
    "    var yval= new List<double>();\n",
    "    if(sess.Count()>0){\n",
    "        foreach(SessionProxy ses in sess){\n",
    "            var ti = ses.Timesteps.Last();\n",
    "            xval.Add(Convert.ToInt32(ses.KeysAndQueries[\"Grid:NoOfCells\"]));\n",
    "            try{\n",
    "                yval.Add(StraightShockErrorFunctional( ti));\n",
    "            }catch{\n",
    "                yval.Add(1e6);\n",
    "            }\n",
    "        }\n",
    "        plot.AddDataGroup(xval,yval);\n",
    "        if(config){\n",
    "            plot.dataGroups[count].Name =  lstype.ToString() + \"-p\"+p+ \"-q\"+q +\"-Far\";\n",
    "        }\n",
    "        else{\n",
    "            plot.dataGroups[count].Name =  lstype.ToString() + \"-p\"+p+ \"-q\"+q +\"-Close\";\n",
    "        }\n",
    "        plot.dataGroups[count].Format.PointType = pTypes[count]; \n",
    "        plot.dataGroups[count].Format.LineColor = pColors[count]; \n",
    "        plot.dataGroups[count].Format.PointSize = 0.8;\n",
    "        plot.dataGroups[count].Format.LineWidth = 2;\n",
    "        plot.dataGroups[count].Format.DashType = dTypes[count] ;\n",
    "        count++;\n",
    "        \n",
    "        \n",
    "    }\n",
    "    \n",
    "    //Console.WriteLine(sess.Count() + \"; \"+xval.ToConcatString(\"\",\",\",\"\"));\n",
    "    \n",
    "}}}\n",
    "plot.LegendFont = 10;\n",
    "plot.LabelFont = 10;\n",
    "multiplots[countPoly,countMerit] = plot;\n",
    "}\n",
    "}"
   ]
  },
  {
   "cell_type": "code",
   "execution_count": null,
   "metadata": {
    "dotnet_interactive": {
     "language": "csharp"
    },
    "vscode": {
     "languageId": "dotnet-interactive.csharp"
    }
   },
   "outputs": [],
   "source": [
    "multiplots.ToGnuplot().PlotSVG(xRes:1000,yRes:1600)"
   ]
  },
  {
   "cell_type": "code",
   "execution_count": null,
   "metadata": {
    "dotnet_interactive": {
     "language": "csharp"
    },
    "vscode": {
     "languageId": "dotnet-interactive.csharp"
    }
   },
   "outputs": [],
   "source": [
    "// Plot2Ddata[,] multiplots2 =new Plot2Ddata[1,2];\n",
    "// multiplots2[0,0]=multiplots[0,0];\n",
    "// multiplots2[0,0].LegendFont = 10;\n",
    "// multiplots2[0,0].LabelFont = 10;\n",
    "// multiplots2[0,1]=multiplots[0,0];\n",
    "// multiplots2.ToGnuplot().PlotSVG(xRes:1000,yRes:400)"
   ]
  }
 ],
 "metadata": {
  "kernelspec": {
   "display_name": ".NET (C#)",
   "language": "C#",
   "name": ".net-csharp"
  },
  "language_info": {
   "file_extension": ".cs",
   "mimetype": "text/x-csharp",
   "name": "C#",
   "pygments_lexer": "csharp",
   "version": "9.0"
  },
  "orig_nbformat": 4
 },
 "nbformat": 4,
 "nbformat_minor": 2
}

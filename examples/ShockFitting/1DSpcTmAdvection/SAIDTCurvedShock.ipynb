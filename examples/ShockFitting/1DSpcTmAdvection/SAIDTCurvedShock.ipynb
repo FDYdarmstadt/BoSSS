{
 "cells": [
  {
   "cell_type": "code",
   "execution_count": 1,
   "metadata": {
    "dotnet_interactive": {
     "language": "csharp"
    }
   },
   "outputs": [],
   "source": [
    "#r \".\\binaries\\BoSSSpad.dll\"\n",
    "#r \".\\binaries\\SAIDT.dll\"\n",
    "#r \".\\binaries\\ApplicationWithIDT.dll\"\n",
    "using System;\n",
    "using System.Collections.Generic;\n",
    "using System.Linq;\n",
    "using ilPSP;\n",
    "using ilPSP.Utils;\n",
    "using BoSSS.Platform;\n",
    "using BoSSS.Platform.LinAlg;\n",
    "using BoSSS.Foundation;\n",
    "using BoSSS.Foundation.XDG;\n",
    "using BoSSS.Foundation.Grid;\n",
    "using BoSSS.Foundation.Grid.Classic;\n",
    "using BoSSS.Foundation.Grid.RefElements;\n",
    "using BoSSS.Foundation.IO;\n",
    "using BoSSS.Solution;\n",
    "using BoSSS.Solution.Control;\n",
    "using BoSSS.Solution.GridImport;\n",
    "using BoSSS.Solution.Statistic;\n",
    "using BoSSS.Solution.Utils;\n",
    "using BoSSS.Solution.AdvancedSolvers;\n",
    "using BoSSS.Solution.Gnuplot;\n",
    "using BoSSS.Application.BoSSSpad;\n",
    "using BoSSS.Application.XNSE_Solver;\n",
    "using ApplicationWithIDT;\n",
    "using SAIDT;\n",
    "using static BoSSS.Application.BoSSSpad.BoSSSshell;\n",
    "Init();\n"
   ]
  },
  {
   "attachments": {},
   "cell_type": "markdown",
   "metadata": {},
   "source": [
    "# Run Simulation"
   ]
  },
  {
   "cell_type": "code",
   "execution_count": 2,
   "metadata": {
    "dotnet_interactive": {
     "language": "csharp"
    },
    "polyglot_notebook": {
     "kernelName": "csharp"
    }
   },
   "outputs": [
    {
     "data": {
      "text/plain": [
       "02042024"
      ]
     },
     "metadata": {},
     "output_type": "display_data"
    }
   ],
   "source": [
    "var date = DateTime.Now.ToString(\"ddMMyyyy\");\n",
    "date"
   ]
  },
  {
   "attachments": {},
   "cell_type": "markdown",
   "metadata": {},
   "source": [
    "open a database"
   ]
  },
  {
   "cell_type": "code",
   "execution_count": 3,
   "metadata": {
    "dotnet_interactive": {
     "language": "csharp"
    },
    "polyglot_notebook": {
     "kernelName": "csharp"
    }
   },
   "outputs": [],
   "source": [
    "string dbPath = @\"SAIDT_db_\" + date ;\n",
    "var database = OpenOrCreateDatabase(dbPath);"
   ]
  },
  {
   "attachments": {},
   "cell_type": "markdown",
   "metadata": {},
   "source": [
    "## Curved Shock Scalar Advection"
   ]
  },
  {
   "cell_type": "code",
   "execution_count": 4,
   "metadata": {
    "dotnet_interactive": {
     "language": "csharp"
    },
    "polyglot_notebook": {
     "kernelName": "csharp"
    }
   },
   "outputs": [],
   "source": [
    "using SAIDT;\n",
    "BoSSS.Solution.Application.InitMPI();\n",
    "BoSSS.Solution.Application.DeleteOldPlotFiles();\n",
    "var pSAIDT = new SAIDTMain();\n",
    "var CSAIDT = SAIDTHardCodedControl.CurvedShock_Eccomas22(\n",
    "                                        dbPath: dbPath,\n",
    "                                        MaxIterations: 50,\n",
    "                                        dgDegree: 0,\n",
    "                                        numOfCellsX: 10,\n",
    "                                        numOfCellsY: 10,\n",
    "                                        agg: 0.4,\n",
    "                                        optiLevelSetType:OptiLevelSetType.SplineLevelSet\n",
    "                                        );\n",
    "pSAIDT.Init(CSAIDT);\n",
    "pSAIDT.RunSolverMode();"
   ]
  },
  {
   "cell_type": "code",
   "execution_count": 5,
   "metadata": {
    "dotnet_interactive": {
     "language": "csharp"
    },
    "polyglot_notebook": {
     "kernelName": "csharp"
    }
   },
   "outputs": [
    {
     "name": "stdout",
     "output_type": "stream",
     "text": [
      "Using gnuplot: C:\\Program Files (x86)\\FDY\\BoSSS\\bin\\native\\win\\gnuplot-gp510-20160418-win32-mingw\\gnuplot\\bin\\gnuplot.exe\n",
      "Note: In a Jupyter Worksheet, you must NOT have a trailing semicolon in order to see the plot on screen; otherwise, the output migth be surpressed.!\n"
     ]
    },
    {
     "data": {
      "text/html": [
       "<?xml version=\"1.0\" encoding=\"utf-8\"  standalone=\"no\"?>\n",
       "<!DOCTYPE svg PUBLIC \"-//W3C//DTD SVG 1.1//EN\"\n",
       " \"http://www.w3.org/Graphics/SVG/1.1/DTD/svg11.dtd\">\n",
       "<svg \n",
       " width=\"1200\" height=\"500\"\n",
       " viewBox=\"0 0 1200 500\"\n",
       " xmlns=\"http://www.w3.org/2000/svg\"\n",
       " xmlns:xlink=\"http://www.w3.org/1999/xlink\"\n",
       ">\n",
       "\n",
       "<title>Gnuplot</title>\n",
       "<desc>Produced by GNUPLOT 5.1 patchlevel 0 </desc>\n",
       "\n",
       "<g id=\"gnuplot_canvas\">\n",
       "\n",
       "<rect x=\"0\" y=\"0\" width=\"1200\" height=\"500\" fill=\"#ffffff\"/>\n",
       "<defs>\n",
       "\n",
       "\t<circle id='gpDot' r='0.5' stroke-width='0.5'/>\n",
       "\t<path id='gpPt0' stroke-width='0.222' stroke='currentColor' d='M-1,0 h2 M0,-1 v2'/>\n",
       "\t<path id='gpPt1' stroke-width='0.222' stroke='currentColor' d='M-1,-1 L1,1 M1,-1 L-1,1'/>\n",
       "\t<path id='gpPt2' stroke-width='0.222' stroke='currentColor' d='M-1,0 L1,0 M0,-1 L0,1 M-1,-1 L1,1 M-1,1 L1,-1'/>\n",
       "\t<rect id='gpPt3' stroke-width='0.222' stroke='currentColor' x='-1' y='-1' width='2' height='2'/>\n",
       "\t<rect id='gpPt4' stroke-width='0.222' stroke='currentColor' fill='currentColor' x='-1' y='-1' width='2' height='2'/>\n",
       "\t<circle id='gpPt5' stroke-width='0.222' stroke='currentColor' cx='0' cy='0' r='1'/>\n",
       "\t<use xlink:href='#gpPt5' id='gpPt6' fill='currentColor' stroke='none'/>\n",
       "\t<path id='gpPt7' stroke-width='0.222' stroke='currentColor' d='M0,-1.33 L-1.33,0.67 L1.33,0.67 z'/>\n",
       "\t<use xlink:href='#gpPt7' id='gpPt8' fill='currentColor' stroke='none'/>\n",
       "\t<use xlink:href='#gpPt7' id='gpPt9' stroke='currentColor' transform='rotate(180)'/>\n",
       "\t<use xlink:href='#gpPt9' id='gpPt10' fill='currentColor' stroke='none'/>\n",
       "\t<use xlink:href='#gpPt3' id='gpPt11' stroke='currentColor' transform='rotate(45)'/>\n",
       "\t<use xlink:href='#gpPt11' id='gpPt12' fill='currentColor' stroke='none'/>\n",
       "\t<path id='gpPt13' stroke-width='0.222' stroke='currentColor' d='M0,1.330 L1.265,0.411 L0.782,-1.067 L-0.782,-1.076 L-1.265,0.411 z'/>\n",
       "\t<use xlink:href='#gpPt13' id='gpPt14' fill='currentColor' stroke='none'/>\n",
       "\t<filter id='textbox' filterUnits='objectBoundingBox' x='0' y='0' height='1' width='1'>\n",
       "\t  <feFlood flood-color='#FFFFFF' flood-opacity='1' result='bgnd'/>\n",
       "\t  <feComposite in='SourceGraphic' in2='bgnd' operator='atop'/>\n",
       "\t</filter>\n",
       "\t<filter id='greybox' filterUnits='objectBoundingBox' x='0' y='0' height='1' width='1'>\n",
       "\t  <feFlood flood-color='lightgrey' flood-opacity='1' result='grey'/>\n",
       "\t  <feComposite in='SourceGraphic' in2='grey' operator='atop'/>\n",
       "\t</filter>\n",
       "</defs>\n",
       "<g fill=\"none\" color=\"#FFFFFF\" stroke=\"currentColor\" stroke-width=\"1.00\" stroke-linecap=\"butt\" stroke-linejoin=\"miter\">\n",
       "</g>\n",
       "<g fill=\"none\" color=\"black\" stroke=\"currentColor\" stroke-width=\"1.00\" stroke-linecap=\"butt\" stroke-linejoin=\"miter\">\n",
       "\t<path stroke='black'  d='M53.9,442.4 L62.9,442.4 M1150.1,442.4 L1141.1,442.4  '/>\t<g transform=\"translate(45.6,448.4)\" stroke=\"none\" fill=\"black\" font-family=\"sans\" font-size=\"16.00\"  text-anchor=\"end\">\n",
       "\t\t<text><tspan font-family=\"sans\" >10</tspan><tspan font-family=\"sans\"  font-size=\"12.8\" dy=\"-8.00px\">-10</tspan><tspan font-size=\"16.0\" dy=\"8.00\"></tspan></text>\n",
       "\t</g>\n",
       "</g>\n",
       "<g fill=\"none\" color=\"black\" stroke=\"currentColor\" stroke-width=\"1.00\" stroke-linecap=\"butt\" stroke-linejoin=\"miter\">\n",
       "\t<path stroke='black'  d='M53.9,405.5 L62.9,405.5 M1150.1,405.5 L1141.1,405.5  '/>\t<g transform=\"translate(45.6,411.5)\" stroke=\"none\" fill=\"black\" font-family=\"sans\" font-size=\"16.00\"  text-anchor=\"end\">\n",
       "\t\t<text><tspan font-family=\"sans\" >10</tspan><tspan font-family=\"sans\"  font-size=\"12.8\" dy=\"-8.00px\">-9</tspan><tspan font-size=\"16.0\" dy=\"8.00\"></tspan></text>\n",
       "\t</g>\n",
       "</g>\n",
       "<g fill=\"none\" color=\"black\" stroke=\"currentColor\" stroke-width=\"1.00\" stroke-linecap=\"butt\" stroke-linejoin=\"miter\">\n",
       "\t<path stroke='black'  d='M53.9,368.5 L62.9,368.5 M1150.1,368.5 L1141.1,368.5  '/>\t<g transform=\"translate(45.6,374.5)\" stroke=\"none\" fill=\"black\" font-family=\"sans\" font-size=\"16.00\"  text-anchor=\"end\">\n",
       "\t\t<text><tspan font-family=\"sans\" >10</tspan><tspan font-family=\"sans\"  font-size=\"12.8\" dy=\"-8.00px\">-8</tspan><tspan font-size=\"16.0\" dy=\"8.00\"></tspan></text>\n",
       "\t</g>\n",
       "</g>\n",
       "<g fill=\"none\" color=\"black\" stroke=\"currentColor\" stroke-width=\"1.00\" stroke-linecap=\"butt\" stroke-linejoin=\"miter\">\n",
       "\t<path stroke='black'  d='M53.9,331.6 L62.9,331.6 M1150.1,331.6 L1141.1,331.6  '/>\t<g transform=\"translate(45.6,337.6)\" stroke=\"none\" fill=\"black\" font-family=\"sans\" font-size=\"16.00\"  text-anchor=\"end\">\n",
       "\t\t<text><tspan font-family=\"sans\" >10</tspan><tspan font-family=\"sans\"  font-size=\"12.8\" dy=\"-8.00px\">-7</tspan><tspan font-size=\"16.0\" dy=\"8.00\"></tspan></text>\n",
       "\t</g>\n",
       "</g>\n",
       "<g fill=\"none\" color=\"black\" stroke=\"currentColor\" stroke-width=\"1.00\" stroke-linecap=\"butt\" stroke-linejoin=\"miter\">\n",
       "\t<path stroke='black'  d='M53.9,294.7 L62.9,294.7 M1150.1,294.7 L1141.1,294.7  '/>\t<g transform=\"translate(45.6,300.7)\" stroke=\"none\" fill=\"black\" font-family=\"sans\" font-size=\"16.00\"  text-anchor=\"end\">\n",
       "\t\t<text><tspan font-family=\"sans\" >10</tspan><tspan font-family=\"sans\"  font-size=\"12.8\" dy=\"-8.00px\">-6</tspan><tspan font-size=\"16.0\" dy=\"8.00\"></tspan></text>\n",
       "\t</g>\n",
       "</g>\n",
       "<g fill=\"none\" color=\"black\" stroke=\"currentColor\" stroke-width=\"1.00\" stroke-linecap=\"butt\" stroke-linejoin=\"miter\">\n",
       "\t<path stroke='black'  d='M53.9,257.7 L62.9,257.7 M1150.1,257.7 L1141.1,257.7  '/>\t<g transform=\"translate(45.6,263.7)\" stroke=\"none\" fill=\"black\" font-family=\"sans\" font-size=\"16.00\"  text-anchor=\"end\">\n",
       "\t\t<text><tspan font-family=\"sans\" >10</tspan><tspan font-family=\"sans\"  font-size=\"12.8\" dy=\"-8.00px\">-5</tspan><tspan font-size=\"16.0\" dy=\"8.00\"></tspan></text>\n",
       "\t</g>\n",
       "</g>\n",
       "<g fill=\"none\" color=\"black\" stroke=\"currentColor\" stroke-width=\"1.00\" stroke-linecap=\"butt\" stroke-linejoin=\"miter\">\n",
       "\t<path stroke='black'  d='M53.9,220.8 L62.9,220.8 M1150.1,220.8 L1141.1,220.8  '/>\t<g transform=\"translate(45.6,226.8)\" stroke=\"none\" fill=\"black\" font-family=\"sans\" font-size=\"16.00\"  text-anchor=\"end\">\n",
       "\t\t<text><tspan font-family=\"sans\" >10</tspan><tspan font-family=\"sans\"  font-size=\"12.8\" dy=\"-8.00px\">-4</tspan><tspan font-size=\"16.0\" dy=\"8.00\"></tspan></text>\n",
       "\t</g>\n",
       "</g>\n",
       "<g fill=\"none\" color=\"black\" stroke=\"currentColor\" stroke-width=\"1.00\" stroke-linecap=\"butt\" stroke-linejoin=\"miter\">\n",
       "\t<path stroke='black'  d='M53.9,183.8 L62.9,183.8 M1150.1,183.8 L1141.1,183.8  '/>\t<g transform=\"translate(45.6,189.8)\" stroke=\"none\" fill=\"black\" font-family=\"sans\" font-size=\"16.00\"  text-anchor=\"end\">\n",
       "\t\t<text><tspan font-family=\"sans\" >10</tspan><tspan font-family=\"sans\"  font-size=\"12.8\" dy=\"-8.00px\">-3</tspan><tspan font-size=\"16.0\" dy=\"8.00\"></tspan></text>\n",
       "\t</g>\n",
       "</g>\n",
       "<g fill=\"none\" color=\"black\" stroke=\"currentColor\" stroke-width=\"1.00\" stroke-linecap=\"butt\" stroke-linejoin=\"miter\">\n",
       "\t<path stroke='black'  d='M53.9,146.9 L62.9,146.9 M1150.1,146.9 L1141.1,146.9  '/>\t<g transform=\"translate(45.6,152.9)\" stroke=\"none\" fill=\"black\" font-family=\"sans\" font-size=\"16.00\"  text-anchor=\"end\">\n",
       "\t\t<text><tspan font-family=\"sans\" >10</tspan><tspan font-family=\"sans\"  font-size=\"12.8\" dy=\"-8.00px\">-2</tspan><tspan font-size=\"16.0\" dy=\"8.00\"></tspan></text>\n",
       "\t</g>\n",
       "</g>\n",
       "<g fill=\"none\" color=\"black\" stroke=\"currentColor\" stroke-width=\"1.00\" stroke-linecap=\"butt\" stroke-linejoin=\"miter\">\n",
       "\t<path stroke='black'  d='M53.9,110.0 L62.9,110.0 M1150.1,110.0 L1141.1,110.0  '/>\t<g transform=\"translate(45.6,116.0)\" stroke=\"none\" fill=\"black\" font-family=\"sans\" font-size=\"16.00\"  text-anchor=\"end\">\n",
       "\t\t<text><tspan font-family=\"sans\" >10</tspan><tspan font-family=\"sans\"  font-size=\"12.8\" dy=\"-8.00px\">-1</tspan><tspan font-size=\"16.0\" dy=\"8.00\"></tspan></text>\n",
       "\t</g>\n",
       "</g>\n",
       "<g fill=\"none\" color=\"black\" stroke=\"currentColor\" stroke-width=\"1.00\" stroke-linecap=\"butt\" stroke-linejoin=\"miter\">\n",
       "\t<path stroke='black'  d='M53.9,73.0 L62.9,73.0 M1150.1,73.0 L1141.1,73.0  '/>\t<g transform=\"translate(45.6,79.0)\" stroke=\"none\" fill=\"black\" font-family=\"sans\" font-size=\"16.00\"  text-anchor=\"end\">\n",
       "\t\t<text><tspan font-family=\"sans\" >10</tspan><tspan font-family=\"sans\"  font-size=\"12.8\" dy=\"-8.00px\">0</tspan><tspan font-size=\"16.0\" dy=\"8.00\"></tspan></text>\n",
       "\t</g>\n",
       "</g>\n",
       "<g fill=\"none\" color=\"black\" stroke=\"currentColor\" stroke-width=\"1.00\" stroke-linecap=\"butt\" stroke-linejoin=\"miter\">\n",
       "\t<path stroke='black'  d='M53.9,36.1 L62.9,36.1 M1150.1,36.1 L1141.1,36.1  '/>\t<g transform=\"translate(45.6,42.1)\" stroke=\"none\" fill=\"black\" font-family=\"sans\" font-size=\"16.00\"  text-anchor=\"end\">\n",
       "\t\t<text><tspan font-family=\"sans\" >10</tspan><tspan font-family=\"sans\"  font-size=\"12.8\" dy=\"-8.00px\">1</tspan><tspan font-size=\"16.0\" dy=\"8.00\"></tspan></text>\n",
       "\t</g>\n",
       "</g>\n",
       "<g fill=\"none\" color=\"black\" stroke=\"currentColor\" stroke-width=\"1.00\" stroke-linecap=\"butt\" stroke-linejoin=\"miter\">\n",
       "\t<path stroke='black'  d='M53.9,442.4 L53.9,433.4 M53.9,36.1 L53.9,45.1  '/>\t<g transform=\"translate(53.9,464.9)\" stroke=\"none\" fill=\"black\" font-family=\"Arial\" font-size=\"12.00\"  text-anchor=\"middle\">\n",
       "\t\t<text><tspan font-family=\"Arial\" > 0</tspan></text>\n",
       "\t</g>\n",
       "</g>\n",
       "<g fill=\"none\" color=\"black\" stroke=\"currentColor\" stroke-width=\"1.00\" stroke-linecap=\"butt\" stroke-linejoin=\"miter\">\n",
       "\t<path stroke='black'  d='M175.7,442.4 L175.7,433.4 M175.7,36.1 L175.7,45.1  '/>\t<g transform=\"translate(175.7,464.9)\" stroke=\"none\" fill=\"black\" font-family=\"Arial\" font-size=\"12.00\"  text-anchor=\"middle\">\n",
       "\t\t<text><tspan font-family=\"Arial\" > 5</tspan></text>\n",
       "\t</g>\n",
       "</g>\n",
       "<g fill=\"none\" color=\"black\" stroke=\"currentColor\" stroke-width=\"1.00\" stroke-linecap=\"butt\" stroke-linejoin=\"miter\">\n",
       "\t<path stroke='black'  d='M297.5,442.4 L297.5,433.4 M297.5,36.1 L297.5,45.1  '/>\t<g transform=\"translate(297.5,464.9)\" stroke=\"none\" fill=\"black\" font-family=\"Arial\" font-size=\"12.00\"  text-anchor=\"middle\">\n",
       "\t\t<text><tspan font-family=\"Arial\" > 10</tspan></text>\n",
       "\t</g>\n",
       "</g>\n",
       "<g fill=\"none\" color=\"black\" stroke=\"currentColor\" stroke-width=\"1.00\" stroke-linecap=\"butt\" stroke-linejoin=\"miter\">\n",
       "\t<path stroke='black'  d='M419.3,442.4 L419.3,433.4 M419.3,36.1 L419.3,45.1  '/>\t<g transform=\"translate(419.3,464.9)\" stroke=\"none\" fill=\"black\" font-family=\"Arial\" font-size=\"12.00\"  text-anchor=\"middle\">\n",
       "\t\t<text><tspan font-family=\"Arial\" > 15</tspan></text>\n",
       "\t</g>\n",
       "</g>\n",
       "<g fill=\"none\" color=\"black\" stroke=\"currentColor\" stroke-width=\"1.00\" stroke-linecap=\"butt\" stroke-linejoin=\"miter\">\n",
       "\t<path stroke='black'  d='M541.1,442.4 L541.1,433.4 M541.1,36.1 L541.1,45.1  '/>\t<g transform=\"translate(541.1,464.9)\" stroke=\"none\" fill=\"black\" font-family=\"Arial\" font-size=\"12.00\"  text-anchor=\"middle\">\n",
       "\t\t<text><tspan font-family=\"Arial\" > 20</tspan></text>\n",
       "\t</g>\n",
       "</g>\n",
       "<g fill=\"none\" color=\"black\" stroke=\"currentColor\" stroke-width=\"1.00\" stroke-linecap=\"butt\" stroke-linejoin=\"miter\">\n",
       "\t<path stroke='black'  d='M662.9,442.4 L662.9,433.4 M662.9,36.1 L662.9,45.1  '/>\t<g transform=\"translate(662.9,464.9)\" stroke=\"none\" fill=\"black\" font-family=\"Arial\" font-size=\"12.00\"  text-anchor=\"middle\">\n",
       "\t\t<text><tspan font-family=\"Arial\" > 25</tspan></text>\n",
       "\t</g>\n",
       "</g>\n",
       "<g fill=\"none\" color=\"black\" stroke=\"currentColor\" stroke-width=\"1.00\" stroke-linecap=\"butt\" stroke-linejoin=\"miter\">\n",
       "\t<path stroke='black'  d='M784.7,442.4 L784.7,433.4 M784.7,36.1 L784.7,45.1  '/>\t<g transform=\"translate(784.7,464.9)\" stroke=\"none\" fill=\"black\" font-family=\"Arial\" font-size=\"12.00\"  text-anchor=\"middle\">\n",
       "\t\t<text><tspan font-family=\"Arial\" > 30</tspan></text>\n",
       "\t</g>\n",
       "</g>\n",
       "<g fill=\"none\" color=\"black\" stroke=\"currentColor\" stroke-width=\"1.00\" stroke-linecap=\"butt\" stroke-linejoin=\"miter\">\n",
       "\t<path stroke='black'  d='M906.5,442.4 L906.5,433.4 M906.5,36.1 L906.5,45.1  '/>\t<g transform=\"translate(906.5,464.9)\" stroke=\"none\" fill=\"black\" font-family=\"Arial\" font-size=\"12.00\"  text-anchor=\"middle\">\n",
       "\t\t<text><tspan font-family=\"Arial\" > 35</tspan></text>\n",
       "\t</g>\n",
       "</g>\n",
       "<g fill=\"none\" color=\"black\" stroke=\"currentColor\" stroke-width=\"1.00\" stroke-linecap=\"butt\" stroke-linejoin=\"miter\">\n",
       "\t<path stroke='black'  d='M1028.3,442.4 L1028.3,433.4 M1028.3,36.1 L1028.3,45.1  '/>\t<g transform=\"translate(1028.3,464.9)\" stroke=\"none\" fill=\"black\" font-family=\"Arial\" font-size=\"12.00\"  text-anchor=\"middle\">\n",
       "\t\t<text><tspan font-family=\"Arial\" > 40</tspan></text>\n",
       "\t</g>\n",
       "</g>\n",
       "<g fill=\"none\" color=\"black\" stroke=\"currentColor\" stroke-width=\"1.00\" stroke-linecap=\"butt\" stroke-linejoin=\"miter\">\n",
       "\t<path stroke='black'  d='M1150.1,442.4 L1150.1,433.4 M1150.1,36.1 L1150.1,45.1  '/>\t<g transform=\"translate(1150.1,464.9)\" stroke=\"none\" fill=\"black\" font-family=\"Arial\" font-size=\"12.00\"  text-anchor=\"middle\">\n",
       "\t\t<text><tspan font-family=\"Arial\" > 45</tspan></text>\n",
       "\t</g>\n",
       "</g>\n",
       "<g fill=\"none\" color=\"black\" stroke=\"currentColor\" stroke-width=\"1.00\" stroke-linecap=\"butt\" stroke-linejoin=\"miter\">\n",
       "\t<path stroke='black'  d='M1150.1,442.4 L1141.1,442.4  '/>\t<g transform=\"translate(1158.4,446.9)\" stroke=\"none\" fill=\"black\" font-family=\"Arial\" font-size=\"12.00\"  text-anchor=\"start\">\n",
       "\t\t<text><tspan font-family=\"Arial\" > </tspan></text>\n",
       "\t</g>\n",
       "</g>\n",
       "<g fill=\"none\" color=\"black\" stroke=\"currentColor\" stroke-width=\"1.00\" stroke-linecap=\"butt\" stroke-linejoin=\"miter\">\n",
       "\t<path stroke='black'  d='M1150.1,405.5 L1141.1,405.5  '/>\t<g transform=\"translate(1158.4,410.0)\" stroke=\"none\" fill=\"black\" font-family=\"Arial\" font-size=\"12.00\"  text-anchor=\"start\">\n",
       "\t\t<text><tspan font-family=\"Arial\" > </tspan></text>\n",
       "\t</g>\n",
       "</g>\n",
       "<g fill=\"none\" color=\"black\" stroke=\"currentColor\" stroke-width=\"1.00\" stroke-linecap=\"butt\" stroke-linejoin=\"miter\">\n",
       "\t<path stroke='black'  d='M1150.1,368.5 L1141.1,368.5  '/>\t<g transform=\"translate(1158.4,373.0)\" stroke=\"none\" fill=\"black\" font-family=\"Arial\" font-size=\"12.00\"  text-anchor=\"start\">\n",
       "\t\t<text><tspan font-family=\"Arial\" > </tspan></text>\n",
       "\t</g>\n",
       "</g>\n",
       "<g fill=\"none\" color=\"black\" stroke=\"currentColor\" stroke-width=\"1.00\" stroke-linecap=\"butt\" stroke-linejoin=\"miter\">\n",
       "\t<path stroke='black'  d='M1150.1,331.6 L1141.1,331.6  '/>\t<g transform=\"translate(1158.4,336.1)\" stroke=\"none\" fill=\"black\" font-family=\"Arial\" font-size=\"12.00\"  text-anchor=\"start\">\n",
       "\t\t<text><tspan font-family=\"Arial\" > </tspan></text>\n",
       "\t</g>\n",
       "</g>\n",
       "<g fill=\"none\" color=\"black\" stroke=\"currentColor\" stroke-width=\"1.00\" stroke-linecap=\"butt\" stroke-linejoin=\"miter\">\n",
       "\t<path stroke='black'  d='M1150.1,294.7 L1141.1,294.7  '/>\t<g transform=\"translate(1158.4,299.2)\" stroke=\"none\" fill=\"black\" font-family=\"Arial\" font-size=\"12.00\"  text-anchor=\"start\">\n",
       "\t\t<text><tspan font-family=\"Arial\" > </tspan></text>\n",
       "\t</g>\n",
       "</g>\n",
       "<g fill=\"none\" color=\"black\" stroke=\"currentColor\" stroke-width=\"1.00\" stroke-linecap=\"butt\" stroke-linejoin=\"miter\">\n",
       "\t<path stroke='black'  d='M1150.1,257.7 L1141.1,257.7  '/>\t<g transform=\"translate(1158.4,262.2)\" stroke=\"none\" fill=\"black\" font-family=\"Arial\" font-size=\"12.00\"  text-anchor=\"start\">\n",
       "\t\t<text><tspan font-family=\"Arial\" > </tspan></text>\n",
       "\t</g>\n",
       "</g>\n",
       "<g fill=\"none\" color=\"black\" stroke=\"currentColor\" stroke-width=\"1.00\" stroke-linecap=\"butt\" stroke-linejoin=\"miter\">\n",
       "\t<path stroke='black'  d='M1150.1,220.8 L1141.1,220.8  '/>\t<g transform=\"translate(1158.4,225.3)\" stroke=\"none\" fill=\"black\" font-family=\"Arial\" font-size=\"12.00\"  text-anchor=\"start\">\n",
       "\t\t<text><tspan font-family=\"Arial\" > </tspan></text>\n",
       "\t</g>\n",
       "</g>\n",
       "<g fill=\"none\" color=\"black\" stroke=\"currentColor\" stroke-width=\"1.00\" stroke-linecap=\"butt\" stroke-linejoin=\"miter\">\n",
       "\t<path stroke='black'  d='M1150.1,183.8 L1141.1,183.8  '/>\t<g transform=\"translate(1158.4,188.3)\" stroke=\"none\" fill=\"black\" font-family=\"Arial\" font-size=\"12.00\"  text-anchor=\"start\">\n",
       "\t\t<text><tspan font-family=\"Arial\" > </tspan></text>\n",
       "\t</g>\n",
       "</g>\n",
       "<g fill=\"none\" color=\"black\" stroke=\"currentColor\" stroke-width=\"1.00\" stroke-linecap=\"butt\" stroke-linejoin=\"miter\">\n",
       "\t<path stroke='black'  d='M1150.1,146.9 L1141.1,146.9  '/>\t<g transform=\"translate(1158.4,151.4)\" stroke=\"none\" fill=\"black\" font-family=\"Arial\" font-size=\"12.00\"  text-anchor=\"start\">\n",
       "\t\t<text><tspan font-family=\"Arial\" > </tspan></text>\n",
       "\t</g>\n",
       "</g>\n",
       "<g fill=\"none\" color=\"black\" stroke=\"currentColor\" stroke-width=\"1.00\" stroke-linecap=\"butt\" stroke-linejoin=\"miter\">\n",
       "\t<path stroke='black'  d='M1150.1,110.0 L1141.1,110.0  '/>\t<g transform=\"translate(1158.4,114.5)\" stroke=\"none\" fill=\"black\" font-family=\"Arial\" font-size=\"12.00\"  text-anchor=\"start\">\n",
       "\t\t<text><tspan font-family=\"Arial\" > </tspan></text>\n",
       "\t</g>\n",
       "</g>\n",
       "<g fill=\"none\" color=\"black\" stroke=\"currentColor\" stroke-width=\"1.00\" stroke-linecap=\"butt\" stroke-linejoin=\"miter\">\n",
       "\t<path stroke='black'  d='M1150.1,73.0 L1141.1,73.0  '/>\t<g transform=\"translate(1158.4,77.5)\" stroke=\"none\" fill=\"black\" font-family=\"Arial\" font-size=\"12.00\"  text-anchor=\"start\">\n",
       "\t\t<text><tspan font-family=\"Arial\" > </tspan></text>\n",
       "\t</g>\n",
       "</g>\n",
       "<g fill=\"none\" color=\"black\" stroke=\"currentColor\" stroke-width=\"1.00\" stroke-linecap=\"butt\" stroke-linejoin=\"miter\">\n",
       "\t<path stroke='black'  d='M1150.1,36.1 L1141.1,36.1  '/>\t<g transform=\"translate(1158.4,40.6)\" stroke=\"none\" fill=\"black\" font-family=\"Arial\" font-size=\"12.00\"  text-anchor=\"start\">\n",
       "\t\t<text><tspan font-family=\"Arial\" > </tspan></text>\n",
       "\t</g>\n",
       "</g>\n",
       "<g fill=\"none\" color=\"black\" stroke=\"currentColor\" stroke-width=\"1.00\" stroke-linecap=\"butt\" stroke-linejoin=\"miter\">\n",
       "\t<path stroke='black'  d='M53.9,36.1 L53.9,45.1  '/>\t<g transform=\"translate(53.9,22.6)\" stroke=\"none\" fill=\"black\" font-family=\"Arial\" font-size=\"12.00\"  text-anchor=\"middle\">\n",
       "\t\t<text><tspan font-family=\"Arial\" > </tspan></text>\n",
       "\t</g>\n",
       "</g>\n",
       "<g fill=\"none\" color=\"black\" stroke=\"currentColor\" stroke-width=\"1.00\" stroke-linecap=\"butt\" stroke-linejoin=\"miter\">\n",
       "\t<path stroke='black'  d='M175.7,36.1 L175.7,45.1  '/>\t<g transform=\"translate(175.7,22.6)\" stroke=\"none\" fill=\"black\" font-family=\"Arial\" font-size=\"12.00\"  text-anchor=\"middle\">\n",
       "\t\t<text><tspan font-family=\"Arial\" > </tspan></text>\n",
       "\t</g>\n",
       "</g>\n",
       "<g fill=\"none\" color=\"black\" stroke=\"currentColor\" stroke-width=\"1.00\" stroke-linecap=\"butt\" stroke-linejoin=\"miter\">\n",
       "\t<path stroke='black'  d='M297.5,36.1 L297.5,45.1  '/>\t<g transform=\"translate(297.5,22.6)\" stroke=\"none\" fill=\"black\" font-family=\"Arial\" font-size=\"12.00\"  text-anchor=\"middle\">\n",
       "\t\t<text><tspan font-family=\"Arial\" > </tspan></text>\n",
       "\t</g>\n",
       "</g>\n",
       "<g fill=\"none\" color=\"black\" stroke=\"currentColor\" stroke-width=\"1.00\" stroke-linecap=\"butt\" stroke-linejoin=\"miter\">\n",
       "\t<path stroke='black'  d='M419.3,36.1 L419.3,45.1  '/>\t<g transform=\"translate(419.3,22.6)\" stroke=\"none\" fill=\"black\" font-family=\"Arial\" font-size=\"12.00\"  text-anchor=\"middle\">\n",
       "\t\t<text><tspan font-family=\"Arial\" > </tspan></text>\n",
       "\t</g>\n",
       "</g>\n",
       "<g fill=\"none\" color=\"black\" stroke=\"currentColor\" stroke-width=\"1.00\" stroke-linecap=\"butt\" stroke-linejoin=\"miter\">\n",
       "\t<path stroke='black'  d='M541.1,36.1 L541.1,45.1  '/>\t<g transform=\"translate(541.1,22.6)\" stroke=\"none\" fill=\"black\" font-family=\"Arial\" font-size=\"12.00\"  text-anchor=\"middle\">\n",
       "\t\t<text><tspan font-family=\"Arial\" > </tspan></text>\n",
       "\t</g>\n",
       "</g>\n",
       "<g fill=\"none\" color=\"black\" stroke=\"currentColor\" stroke-width=\"1.00\" stroke-linecap=\"butt\" stroke-linejoin=\"miter\">\n",
       "\t<path stroke='black'  d='M662.9,36.1 L662.9,45.1  '/>\t<g transform=\"translate(662.9,22.6)\" stroke=\"none\" fill=\"black\" font-family=\"Arial\" font-size=\"12.00\"  text-anchor=\"middle\">\n",
       "\t\t<text><tspan font-family=\"Arial\" > </tspan></text>\n",
       "\t</g>\n",
       "</g>\n",
       "<g fill=\"none\" color=\"black\" stroke=\"currentColor\" stroke-width=\"1.00\" stroke-linecap=\"butt\" stroke-linejoin=\"miter\">\n",
       "\t<path stroke='black'  d='M784.7,36.1 L784.7,45.1  '/>\t<g transform=\"translate(784.7,22.6)\" stroke=\"none\" fill=\"black\" font-family=\"Arial\" font-size=\"12.00\"  text-anchor=\"middle\">\n",
       "\t\t<text><tspan font-family=\"Arial\" > </tspan></text>\n",
       "\t</g>\n",
       "</g>\n",
       "<g fill=\"none\" color=\"black\" stroke=\"currentColor\" stroke-width=\"1.00\" stroke-linecap=\"butt\" stroke-linejoin=\"miter\">\n",
       "\t<path stroke='black'  d='M906.5,36.1 L906.5,45.1  '/>\t<g transform=\"translate(906.5,22.6)\" stroke=\"none\" fill=\"black\" font-family=\"Arial\" font-size=\"12.00\"  text-anchor=\"middle\">\n",
       "\t\t<text><tspan font-family=\"Arial\" > </tspan></text>\n",
       "\t</g>\n",
       "</g>\n",
       "<g fill=\"none\" color=\"black\" stroke=\"currentColor\" stroke-width=\"1.00\" stroke-linecap=\"butt\" stroke-linejoin=\"miter\">\n",
       "\t<path stroke='black'  d='M1028.3,36.1 L1028.3,45.1  '/>\t<g transform=\"translate(1028.3,22.6)\" stroke=\"none\" fill=\"black\" font-family=\"Arial\" font-size=\"12.00\"  text-anchor=\"middle\">\n",
       "\t\t<text><tspan font-family=\"Arial\" > </tspan></text>\n",
       "\t</g>\n",
       "</g>\n",
       "<g fill=\"none\" color=\"black\" stroke=\"currentColor\" stroke-width=\"1.00\" stroke-linecap=\"butt\" stroke-linejoin=\"miter\">\n",
       "\t<path stroke='black'  d='M1150.1,36.1 L1150.1,45.1  '/>\t<g transform=\"translate(1150.1,22.6)\" stroke=\"none\" fill=\"black\" font-family=\"Arial\" font-size=\"12.00\"  text-anchor=\"middle\">\n",
       "\t\t<text><tspan font-family=\"Arial\" > </tspan></text>\n",
       "\t</g>\n",
       "</g>\n",
       "<g fill=\"none\" color=\"black\" stroke=\"currentColor\" stroke-width=\"1.00\" stroke-linecap=\"butt\" stroke-linejoin=\"miter\">\n",
       "</g>\n",
       "<g fill=\"none\" color=\"black\" stroke=\"currentColor\" stroke-width=\"1.00\" stroke-linecap=\"butt\" stroke-linejoin=\"miter\">\n",
       "\t<path stroke='black'  d='M53.9,36.1 L53.9,442.4 L1150.1,442.4 L1150.1,36.1 L53.9,36.1 Z  '/></g>\n",
       "<g fill=\"none\" color=\"black\" stroke=\"currentColor\" stroke-width=\"1.00\" stroke-linecap=\"butt\" stroke-linejoin=\"miter\">\n",
       "\t<g transform=\"translate(602.0,491.9)\" stroke=\"none\" fill=\"black\" font-family=\"Arial\" font-size=\"12.00\"  text-anchor=\"middle\">\n",
       "\t\t<text><tspan font-family=\"Arial\" >Iteration</tspan></text>\n",
       "\t</g>\n",
       "</g>\n",
       "<g fill=\"none\" color=\"black\" stroke=\"currentColor\" stroke-width=\"1.00\" stroke-linecap=\"butt\" stroke-linejoin=\"miter\">\n",
       "</g>\n",
       "\t<g id=\"gnuplot_plot_1\" ><title>||R(z)||</title>\n",
       "<g fill=\"none\" color=\"black\" stroke=\"currentColor\" stroke-width=\"1.00\" stroke-linecap=\"butt\" stroke-linejoin=\"miter\">\n",
       "\t<g transform=\"translate(1053.0,63.1)\" stroke=\"none\" fill=\"black\" font-family=\"Arial\" font-size=\"16.00\"  text-anchor=\"start\">\n",
       "\t\t<text><tspan font-family=\"Arial\" >||R(z)||</tspan></text>\n",
       "\t</g>\n",
       "</g>\n",
       "<g fill=\"none\" color=\"black\" stroke=\"currentColor\" stroke-width=\"1.00\" stroke-linecap=\"butt\" stroke-linejoin=\"miter\">\n",
       "\t<path stroke='rgb(  0,   0, 255)'  d='M988.5,57.1 L1041.9,57.1 M53.9,72.4 L78.3,68.2 L102.6,67.0 L127.0,69.1 L151.3,66.3 L175.7,69.6\n",
       "\t\tL200.1,72.8 L224.4,73.2 L248.8,81.5 L273.1,83.1 L297.5,82.1 L321.9,82.2 L346.2,82.2 L370.6,82.3\n",
       "\t\tL394.9,82.3 L419.3,82.3 L443.7,82.3 L468.0,82.3 L492.4,82.3 L516.7,82.3 L541.1,82.3 L565.5,98.6\n",
       "\t\tL589.8,107.4 L614.2,121.8 L638.5,149.9 L662.9,187.0 L687.3,211.0 L711.6,231.8 L736.0,252.9 L760.3,287.2\n",
       "\t\tL784.7,315.8 L809.1,350.3 L833.4,374.9 L857.8,381.5 L882.1,383.5 L906.5,401.5 L930.9,404.0 L955.2,406.7\n",
       "\t\tL979.6,407.4 L1003.9,407.3 L1028.3,407.3 L1052.7,407.3 L1077.0,407.3 L1101.4,407.3 L1125.7,407.3 L1150.1,407.3\n",
       "\t\t '/>\t<use xlink:href='#gpPt12' transform='translate(53.9,72.4) scale(4.50)' color='rgb(  0,   0, 255)'/>\n",
       "\t<use xlink:href='#gpPt12' transform='translate(78.3,68.2) scale(4.50)' color='rgb(  0,   0, 255)'/>\n",
       "\t<use xlink:href='#gpPt12' transform='translate(102.6,67.0) scale(4.50)' color='rgb(  0,   0, 255)'/>\n",
       "\t<use xlink:href='#gpPt12' transform='translate(127.0,69.1) scale(4.50)' color='rgb(  0,   0, 255)'/>\n",
       "\t<use xlink:href='#gpPt12' transform='translate(151.3,66.3) scale(4.50)' color='rgb(  0,   0, 255)'/>\n",
       "\t<use xlink:href='#gpPt12' transform='translate(175.7,69.6) scale(4.50)' color='rgb(  0,   0, 255)'/>\n",
       "\t<use xlink:href='#gpPt12' transform='translate(200.1,72.8) scale(4.50)' color='rgb(  0,   0, 255)'/>\n",
       "\t<use xlink:href='#gpPt12' transform='translate(224.4,73.2) scale(4.50)' color='rgb(  0,   0, 255)'/>\n",
       "\t<use xlink:href='#gpPt12' transform='translate(248.8,81.5) scale(4.50)' color='rgb(  0,   0, 255)'/>\n",
       "\t<use xlink:href='#gpPt12' transform='translate(273.1,83.1) scale(4.50)' color='rgb(  0,   0, 255)'/>\n",
       "\t<use xlink:href='#gpPt12' transform='translate(297.5,82.1) scale(4.50)' color='rgb(  0,   0, 255)'/>\n",
       "\t<use xlink:href='#gpPt12' transform='translate(321.9,82.2) scale(4.50)' color='rgb(  0,   0, 255)'/>\n",
       "\t<use xlink:href='#gpPt12' transform='translate(346.2,82.2) scale(4.50)' color='rgb(  0,   0, 255)'/>\n",
       "\t<use xlink:href='#gpPt12' transform='translate(370.6,82.3) scale(4.50)' color='rgb(  0,   0, 255)'/>\n",
       "\t<use xlink:href='#gpPt12' transform='translate(394.9,82.3) scale(4.50)' color='rgb(  0,   0, 255)'/>\n",
       "\t<use xlink:href='#gpPt12' transform='translate(419.3,82.3) scale(4.50)' color='rgb(  0,   0, 255)'/>\n",
       "\t<use xlink:href='#gpPt12' transform='translate(443.7,82.3) scale(4.50)' color='rgb(  0,   0, 255)'/>\n",
       "\t<use xlink:href='#gpPt12' transform='translate(468.0,82.3) scale(4.50)' color='rgb(  0,   0, 255)'/>\n",
       "\t<use xlink:href='#gpPt12' transform='translate(492.4,82.3) scale(4.50)' color='rgb(  0,   0, 255)'/>\n",
       "\t<use xlink:href='#gpPt12' transform='translate(516.7,82.3) scale(4.50)' color='rgb(  0,   0, 255)'/>\n",
       "\t<use xlink:href='#gpPt12' transform='translate(541.1,82.3) scale(4.50)' color='rgb(  0,   0, 255)'/>\n",
       "\t<use xlink:href='#gpPt12' transform='translate(565.5,98.6) scale(4.50)' color='rgb(  0,   0, 255)'/>\n",
       "\t<use xlink:href='#gpPt12' transform='translate(589.8,107.4) scale(4.50)' color='rgb(  0,   0, 255)'/>\n",
       "\t<use xlink:href='#gpPt12' transform='translate(614.2,121.8) scale(4.50)' color='rgb(  0,   0, 255)'/>\n",
       "\t<use xlink:href='#gpPt12' transform='translate(638.5,149.9) scale(4.50)' color='rgb(  0,   0, 255)'/>\n",
       "\t<use xlink:href='#gpPt12' transform='translate(662.9,187.0) scale(4.50)' color='rgb(  0,   0, 255)'/>\n",
       "\t<use xlink:href='#gpPt12' transform='translate(687.3,211.0) scale(4.50)' color='rgb(  0,   0, 255)'/>\n",
       "\t<use xlink:href='#gpPt12' transform='translate(711.6,231.8) scale(4.50)' color='rgb(  0,   0, 255)'/>\n",
       "\t<use xlink:href='#gpPt12' transform='translate(736.0,252.9) scale(4.50)' color='rgb(  0,   0, 255)'/>\n",
       "\t<use xlink:href='#gpPt12' transform='translate(760.3,287.2) scale(4.50)' color='rgb(  0,   0, 255)'/>\n",
       "\t<use xlink:href='#gpPt12' transform='translate(784.7,315.8) scale(4.50)' color='rgb(  0,   0, 255)'/>\n",
       "\t<use xlink:href='#gpPt12' transform='translate(809.1,350.3) scale(4.50)' color='rgb(  0,   0, 255)'/>\n",
       "\t<use xlink:href='#gpPt12' transform='translate(833.4,374.9) scale(4.50)' color='rgb(  0,   0, 255)'/>\n",
       "\t<use xlink:href='#gpPt12' transform='translate(857.8,381.5) scale(4.50)' color='rgb(  0,   0, 255)'/>\n",
       "\t<use xlink:href='#gpPt12' transform='translate(882.1,383.5) scale(4.50)' color='rgb(  0,   0, 255)'/>\n",
       "\t<use xlink:href='#gpPt12' transform='translate(906.5,401.5) scale(4.50)' color='rgb(  0,   0, 255)'/>\n",
       "\t<use xlink:href='#gpPt12' transform='translate(930.9,404.0) scale(4.50)' color='rgb(  0,   0, 255)'/>\n",
       "\t<use xlink:href='#gpPt12' transform='translate(955.2,406.7) scale(4.50)' color='rgb(  0,   0, 255)'/>\n",
       "\t<use xlink:href='#gpPt12' transform='translate(979.6,407.4) scale(4.50)' color='rgb(  0,   0, 255)'/>\n",
       "\t<use xlink:href='#gpPt12' transform='translate(1003.9,407.3) scale(4.50)' color='rgb(  0,   0, 255)'/>\n",
       "\t<use xlink:href='#gpPt12' transform='translate(1028.3,407.3) scale(4.50)' color='rgb(  0,   0, 255)'/>\n",
       "\t<use xlink:href='#gpPt12' transform='translate(1052.7,407.3) scale(4.50)' color='rgb(  0,   0, 255)'/>\n",
       "\t<use xlink:href='#gpPt12' transform='translate(1077.0,407.3) scale(4.50)' color='rgb(  0,   0, 255)'/>\n",
       "\t<use xlink:href='#gpPt12' transform='translate(1101.4,407.3) scale(4.50)' color='rgb(  0,   0, 255)'/>\n",
       "\t<use xlink:href='#gpPt12' transform='translate(1125.7,407.3) scale(4.50)' color='rgb(  0,   0, 255)'/>\n",
       "\t<use xlink:href='#gpPt12' transform='translate(1150.1,407.3) scale(4.50)' color='rgb(  0,   0, 255)'/>\n",
       "\t<use xlink:href='#gpPt12' transform='translate(1015.2,57.1) scale(4.50)' color='rgb(  0,   0, 255)'/>\n",
       "</g>\n",
       "\t</g>\n",
       "\t<g id=\"gnuplot_plot_2\" ><title>||r(z)||</title>\n",
       "<g fill=\"none\" color=\"black\" stroke=\"currentColor\" stroke-width=\"1.00\" stroke-linecap=\"butt\" stroke-linejoin=\"miter\">\n",
       "\t<g transform=\"translate(1053.0,87.1)\" stroke=\"none\" fill=\"black\" font-family=\"Arial\" font-size=\"16.00\"  text-anchor=\"start\">\n",
       "\t\t<text><tspan font-family=\"Arial\" >||r(z)||</tspan></text>\n",
       "\t</g>\n",
       "</g>\n",
       "<g fill=\"none\" color=\"black\" stroke=\"currentColor\" stroke-width=\"1.00\" stroke-linecap=\"butt\" stroke-linejoin=\"miter\">\n",
       "\t<path stroke='rgb(255,   0,   0)'  d='M988.5,81.1 L1041.9,81.1 M53.9,97.2 L78.3,90.4 L102.6,91.3 L127.0,91.3 L151.3,86.5 L175.7,88.0\n",
       "\t\tL200.1,92.1 L224.4,93.9 L248.8,102.7 L273.1,107.5 L297.5,107.0 L321.9,107.3 L346.2,107.4 L370.6,107.5\n",
       "\t\tL394.9,107.5 L419.3,107.5 L443.7,107.5 L468.0,107.5 L492.4,107.5 L516.7,107.5 L541.1,107.5 L565.5,115.7\n",
       "\t\tL589.8,119.0 L614.2,134.9 L638.5,164.2 L662.9,214.8 L687.3,230.4 L711.6,252.8 L736.0,270.4 L760.3,307.1\n",
       "\t\tL784.7,330.7 L809.1,364.2 L833.4,390.3 L857.8,395.4 L882.1,395.6 L906.5,416.9 L930.9,420.2 L955.2,427.2\n",
       "\t\tL979.6,427.7 L1003.9,427.4 L1028.3,427.4 L1052.7,427.4 L1077.0,427.4 L1101.4,427.4 L1125.7,427.4 L1150.1,427.4\n",
       "\t\t '/>\t<use xlink:href='#gpPt2' transform='translate(53.9,97.2) scale(4.50)' color='rgb(255,   0,   0)'/>\n",
       "\t<use xlink:href='#gpPt2' transform='translate(78.3,90.4) scale(4.50)' color='rgb(255,   0,   0)'/>\n",
       "\t<use xlink:href='#gpPt2' transform='translate(102.6,91.3) scale(4.50)' color='rgb(255,   0,   0)'/>\n",
       "\t<use xlink:href='#gpPt2' transform='translate(127.0,91.3) scale(4.50)' color='rgb(255,   0,   0)'/>\n",
       "\t<use xlink:href='#gpPt2' transform='translate(151.3,86.5) scale(4.50)' color='rgb(255,   0,   0)'/>\n",
       "\t<use xlink:href='#gpPt2' transform='translate(175.7,88.0) scale(4.50)' color='rgb(255,   0,   0)'/>\n",
       "\t<use xlink:href='#gpPt2' transform='translate(200.1,92.1) scale(4.50)' color='rgb(255,   0,   0)'/>\n",
       "\t<use xlink:href='#gpPt2' transform='translate(224.4,93.9) scale(4.50)' color='rgb(255,   0,   0)'/>\n",
       "\t<use xlink:href='#gpPt2' transform='translate(248.8,102.7) scale(4.50)' color='rgb(255,   0,   0)'/>\n",
       "\t<use xlink:href='#gpPt2' transform='translate(273.1,107.5) scale(4.50)' color='rgb(255,   0,   0)'/>\n",
       "\t<use xlink:href='#gpPt2' transform='translate(297.5,107.0) scale(4.50)' color='rgb(255,   0,   0)'/>\n",
       "\t<use xlink:href='#gpPt2' transform='translate(321.9,107.3) scale(4.50)' color='rgb(255,   0,   0)'/>\n",
       "\t<use xlink:href='#gpPt2' transform='translate(346.2,107.4) scale(4.50)' color='rgb(255,   0,   0)'/>\n",
       "\t<use xlink:href='#gpPt2' transform='translate(370.6,107.5) scale(4.50)' color='rgb(255,   0,   0)'/>\n",
       "\t<use xlink:href='#gpPt2' transform='translate(394.9,107.5) scale(4.50)' color='rgb(255,   0,   0)'/>\n",
       "\t<use xlink:href='#gpPt2' transform='translate(419.3,107.5) scale(4.50)' color='rgb(255,   0,   0)'/>\n",
       "\t<use xlink:href='#gpPt2' transform='translate(443.7,107.5) scale(4.50)' color='rgb(255,   0,   0)'/>\n",
       "\t<use xlink:href='#gpPt2' transform='translate(468.0,107.5) scale(4.50)' color='rgb(255,   0,   0)'/>\n",
       "\t<use xlink:href='#gpPt2' transform='translate(492.4,107.5) scale(4.50)' color='rgb(255,   0,   0)'/>\n",
       "\t<use xlink:href='#gpPt2' transform='translate(516.7,107.5) scale(4.50)' color='rgb(255,   0,   0)'/>\n",
       "\t<use xlink:href='#gpPt2' transform='translate(541.1,107.5) scale(4.50)' color='rgb(255,   0,   0)'/>\n",
       "\t<use xlink:href='#gpPt2' transform='translate(565.5,115.7) scale(4.50)' color='rgb(255,   0,   0)'/>\n",
       "\t<use xlink:href='#gpPt2' transform='translate(589.8,119.0) scale(4.50)' color='rgb(255,   0,   0)'/>\n",
       "\t<use xlink:href='#gpPt2' transform='translate(614.2,134.9) scale(4.50)' color='rgb(255,   0,   0)'/>\n",
       "\t<use xlink:href='#gpPt2' transform='translate(638.5,164.2) scale(4.50)' color='rgb(255,   0,   0)'/>\n",
       "\t<use xlink:href='#gpPt2' transform='translate(662.9,214.8) scale(4.50)' color='rgb(255,   0,   0)'/>\n",
       "\t<use xlink:href='#gpPt2' transform='translate(687.3,230.4) scale(4.50)' color='rgb(255,   0,   0)'/>\n",
       "\t<use xlink:href='#gpPt2' transform='translate(711.6,252.8) scale(4.50)' color='rgb(255,   0,   0)'/>\n",
       "\t<use xlink:href='#gpPt2' transform='translate(736.0,270.4) scale(4.50)' color='rgb(255,   0,   0)'/>\n",
       "\t<use xlink:href='#gpPt2' transform='translate(760.3,307.1) scale(4.50)' color='rgb(255,   0,   0)'/>\n",
       "\t<use xlink:href='#gpPt2' transform='translate(784.7,330.7) scale(4.50)' color='rgb(255,   0,   0)'/>\n",
       "\t<use xlink:href='#gpPt2' transform='translate(809.1,364.2) scale(4.50)' color='rgb(255,   0,   0)'/>\n",
       "\t<use xlink:href='#gpPt2' transform='translate(833.4,390.3) scale(4.50)' color='rgb(255,   0,   0)'/>\n",
       "\t<use xlink:href='#gpPt2' transform='translate(857.8,395.4) scale(4.50)' color='rgb(255,   0,   0)'/>\n",
       "\t<use xlink:href='#gpPt2' transform='translate(882.1,395.6) scale(4.50)' color='rgb(255,   0,   0)'/>\n",
       "\t<use xlink:href='#gpPt2' transform='translate(906.5,416.9) scale(4.50)' color='rgb(255,   0,   0)'/>\n",
       "\t<use xlink:href='#gpPt2' transform='translate(930.9,420.2) scale(4.50)' color='rgb(255,   0,   0)'/>\n",
       "\t<use xlink:href='#gpPt2' transform='translate(955.2,427.2) scale(4.50)' color='rgb(255,   0,   0)'/>\n",
       "\t<use xlink:href='#gpPt2' transform='translate(979.6,427.7) scale(4.50)' color='rgb(255,   0,   0)'/>\n",
       "\t<use xlink:href='#gpPt2' transform='translate(1003.9,427.4) scale(4.50)' color='rgb(255,   0,   0)'/>\n",
       "\t<use xlink:href='#gpPt2' transform='translate(1028.3,427.4) scale(4.50)' color='rgb(255,   0,   0)'/>\n",
       "\t<use xlink:href='#gpPt2' transform='translate(1052.7,427.4) scale(4.50)' color='rgb(255,   0,   0)'/>\n",
       "\t<use xlink:href='#gpPt2' transform='translate(1077.0,427.4) scale(4.50)' color='rgb(255,   0,   0)'/>\n",
       "\t<use xlink:href='#gpPt2' transform='translate(1101.4,427.4) scale(4.50)' color='rgb(255,   0,   0)'/>\n",
       "\t<use xlink:href='#gpPt2' transform='translate(1125.7,427.4) scale(4.50)' color='rgb(255,   0,   0)'/>\n",
       "\t<use xlink:href='#gpPt2' transform='translate(1150.1,427.4) scale(4.50)' color='rgb(255,   0,   0)'/>\n",
       "\t<use xlink:href='#gpPt2' transform='translate(1015.2,81.1) scale(4.50)' color='rgb(255,   0,   0)'/>\n",
       "</g>\n",
       "\t</g>\n",
       "<g fill=\"none\" color=\"#FFFFFF\" stroke=\"rgb(255,   0,   0)\" stroke-width=\"2.00\" stroke-linecap=\"butt\" stroke-linejoin=\"miter\">\n",
       "</g>\n",
       "<g fill=\"none\" color=\"black\" stroke=\"currentColor\" stroke-width=\"2.00\" stroke-linecap=\"butt\" stroke-linejoin=\"miter\">\n",
       "</g>\n",
       "<g fill=\"none\" color=\"black\" stroke=\"black\" stroke-width=\"1.00\" stroke-linecap=\"butt\" stroke-linejoin=\"miter\">\n",
       "</g>\n",
       "<g fill=\"none\" color=\"black\" stroke=\"currentColor\" stroke-width=\"1.00\" stroke-linecap=\"butt\" stroke-linejoin=\"miter\">\n",
       "\t<path stroke='black'  d='M53.9,36.1 L53.9,442.4 L1150.1,442.4 L1150.1,36.1 L53.9,36.1 Z  '/></g>\n",
       "<g fill=\"none\" color=\"black\" stroke=\"currentColor\" stroke-width=\"1.00\" stroke-linecap=\"butt\" stroke-linejoin=\"miter\">\n",
       "</g>\n",
       "</g>\n",
       "</svg>\n",
       "\n"
      ]
     },
     "metadata": {},
     "output_type": "display_data"
    }
   ],
   "source": [
    "pSAIDT.GetResPlot().ToGnuplot().PlotSVG(xRes:1200,yRes:500)"
   ]
  },
  {
   "cell_type": "code",
   "execution_count": 6,
   "metadata": {
    "dotnet_interactive": {
     "language": "csharp"
    },
    "polyglot_notebook": {
     "kernelName": "csharp"
    }
   },
   "outputs": [
    {
     "name": "stdout",
     "output_type": "stream",
     "text": [
      "rm;\n"
     ]
    }
   ],
   "source": [
    "var si= database.Sessions.Pick(0);\n",
    "BoSSS.Solution.Application.DeleteOldPlotFiles();\n",
    "pSAIDT.PlotShadowFields(si);"
   ]
  }
 ],
 "metadata": {
  "kernelspec": {
   "display_name": ".NET (C#)",
   "language": "C#",
   "name": ".net-csharp"
  },
  "language_info": {
   "name": "polyglot-notebook"
  },
  "polyglot_notebook": {
   "kernelInfo": {
    "defaultKernelName": "csharp",
    "items": [
     {
      "aliases": [],
      "name": ".NET"
     },
     {
      "aliases": [
       "C#",
       "c#"
      ],
      "languageName": "C#",
      "name": "csharp"
     },
     {
      "aliases": [
       "F#",
       "f#"
      ],
      "languageName": "F#",
      "name": "fsharp"
     },
     {
      "aliases": [],
      "languageName": "HTML",
      "name": "html"
     },
     {
      "aliases": [
       "js"
      ],
      "languageName": "JavaScript",
      "name": "javascript"
     },
     {
      "aliases": [],
      "languageName": "KQL",
      "name": "kql"
     },
     {
      "aliases": [],
      "languageName": "Mermaid",
      "name": "mermaid"
     },
     {
      "aliases": [
       "powershell"
      ],
      "languageName": "PowerShell",
      "name": "pwsh"
     },
     {
      "aliases": [],
      "languageName": "SQL",
      "name": "sql"
     },
     {
      "aliases": [],
      "name": "value"
     },
     {
      "aliases": [
       "frontend"
      ],
      "name": "vscode"
     },
     {
      "aliases": [],
      "name": "webview"
     }
    ]
   }
  }
 },
 "nbformat": 4,
 "nbformat_minor": 2
}

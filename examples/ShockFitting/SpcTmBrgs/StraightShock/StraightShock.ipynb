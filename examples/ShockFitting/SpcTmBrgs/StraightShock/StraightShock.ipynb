{
 "cells": [
  {
   "cell_type": "code",
   "execution_count": 1,
   "metadata": {
    "dotnet_interactive": {
     "language": "csharp"
    }
   },
   "outputs": [],
   "source": [
    "#r \".\\binaries\\BoSSSpad.dll\"\n",
    "#r \".\\binaries\\BUIDT.dll\"\n",
    "#r \".\\binaries\\ApplicationWithIDT.dll\"\n",
    "using System;\n",
    "using System.Collections.Generic;\n",
    "using System.Linq;\n",
    "using ilPSP;\n",
    "using ilPSP.Utils;\n",
    "using BoSSS.Platform;\n",
    "using BoSSS.Platform.LinAlg;\n",
    "using BoSSS.Foundation;\n",
    "using BoSSS.Foundation.XDG;\n",
    "using BoSSS.Foundation.Grid;\n",
    "using BoSSS.Foundation.Grid.Classic;\n",
    "using BoSSS.Foundation.Grid.RefElements;\n",
    "using BoSSS.Foundation.IO;\n",
    "using BoSSS.Solution;\n",
    "using BoSSS.Solution.Control;\n",
    "using BoSSS.Solution.GridImport;\n",
    "using BoSSS.Solution.Statistic;\n",
    "using BoSSS.Solution.Utils;\n",
    "using BoSSS.Solution.AdvancedSolvers;\n",
    "using BoSSS.Solution.Gnuplot;\n",
    "using BoSSS.Application.BoSSSpad;\n",
    "using BoSSS.Application.XNSE_Solver;\n",
    "using ApplicationWithIDT;\n",
    "using BUIDT;\n",
    "using static BoSSS.Application.BoSSSpad.BoSSSshell;\n",
    "Init();\n"
   ]
  },
  {
   "cell_type": "code",
   "execution_count": 2,
   "metadata": {
    "dotnet_interactive": {
     "language": "csharp"
    },
    "polyglot_notebook": {
     "kernelName": "csharp"
    }
   },
   "outputs": [
    {
     "data": {
      "text/plain": [
       "01092023"
      ]
     },
     "metadata": {},
     "output_type": "display_data"
    }
   ],
   "source": [
    "var date = DateTime.Now.ToString(\"ddMMyyyy\");\n",
    "date"
   ]
  },
  {
   "attachments": {},
   "cell_type": "markdown",
   "metadata": {},
   "source": [
    "open a database"
   ]
  },
  {
   "cell_type": "code",
   "execution_count": 3,
   "metadata": {
    "dotnet_interactive": {
     "language": "csharp"
    },
    "polyglot_notebook": {
     "kernelName": "csharp"
    }
   },
   "outputs": [],
   "source": [
    "string dbPath = @\"BUIDT_db_\" + date ;\n",
    "var database = OpenOrCreateDatabase(dbPath);"
   ]
  },
  {
   "attachments": {},
   "cell_type": "markdown",
   "metadata": {},
   "source": [
    "## Straigth Shock Burgers (with curved start)"
   ]
  },
  {
   "cell_type": "code",
   "execution_count": 4,
   "metadata": {
    "dotnet_interactive": {
     "language": "csharp"
    },
    "polyglot_notebook": {
     "kernelName": "csharp"
    }
   },
   "outputs": [],
   "source": [
    "var pSSB = new BUIDTMain();\n",
    "var CSSB = BUIDTHardCodedControl.StraightShockCurvedStart_Eccomas22(\n",
    "    dbPath: dbPath,\n",
    "    MaxIterations: 100,\n",
    "    dgDegree: 0,\n",
    "    lsDegree:1,\n",
    "    numOfCellsX: 10,\n",
    "    numOfCellsY: 10,\n",
    "    optiLevelSetType: OptiLevelSetType.SplineLevelSet,\n",
    "    agg:0.2,\n",
    "    ImmediatePlotPeriod: -1\n",
    "    );\n",
    "    CSSB.ProjectName = \"SSB\";\n",
    "pSSB.Init(CSSB);\n",
    "pSSB.RunSolverMode();"
   ]
  },
  {
   "attachments": {},
   "cell_type": "markdown",
   "metadata": {},
   "source": [
    "the resulting residual plot shows respective residuals corresponding to the polynomial degrees"
   ]
  },
  {
   "cell_type": "code",
   "execution_count": 7,
   "metadata": {
    "dotnet_interactive": {
     "language": "csharp"
    },
    "polyglot_notebook": {
     "kernelName": "csharp"
    }
   },
   "outputs": [
    {
     "data": {
      "text/html": [
       "<?xml version=\"1.0\" encoding=\"utf-8\"  standalone=\"no\"?>\n",
       "<!DOCTYPE svg PUBLIC \"-//W3C//DTD SVG 1.1//EN\"\n",
       " \"http://www.w3.org/Graphics/SVG/1.1/DTD/svg11.dtd\">\n",
       "<svg \n",
       " width=\"1200\" height=\"500\"\n",
       " viewBox=\"0 0 1200 500\"\n",
       " xmlns=\"http://www.w3.org/2000/svg\"\n",
       " xmlns:xlink=\"http://www.w3.org/1999/xlink\"\n",
       ">\n",
       "\n",
       "<title>Gnuplot</title>\n",
       "<desc>Produced by GNUPLOT 5.1 patchlevel 0 </desc>\n",
       "\n",
       "<g id=\"gnuplot_canvas\">\n",
       "\n",
       "<rect x=\"0\" y=\"0\" width=\"1200\" height=\"500\" fill=\"#ffffff\"/>\n",
       "<defs>\n",
       "\n",
       "\t<circle id='gpDot' r='0.5' stroke-width='0.5'/>\n",
       "\t<path id='gpPt0' stroke-width='0.222' stroke='currentColor' d='M-1,0 h2 M0,-1 v2'/>\n",
       "\t<path id='gpPt1' stroke-width='0.222' stroke='currentColor' d='M-1,-1 L1,1 M1,-1 L-1,1'/>\n",
       "\t<path id='gpPt2' stroke-width='0.222' stroke='currentColor' d='M-1,0 L1,0 M0,-1 L0,1 M-1,-1 L1,1 M-1,1 L1,-1'/>\n",
       "\t<rect id='gpPt3' stroke-width='0.222' stroke='currentColor' x='-1' y='-1' width='2' height='2'/>\n",
       "\t<rect id='gpPt4' stroke-width='0.222' stroke='currentColor' fill='currentColor' x='-1' y='-1' width='2' height='2'/>\n",
       "\t<circle id='gpPt5' stroke-width='0.222' stroke='currentColor' cx='0' cy='0' r='1'/>\n",
       "\t<use xlink:href='#gpPt5' id='gpPt6' fill='currentColor' stroke='none'/>\n",
       "\t<path id='gpPt7' stroke-width='0.222' stroke='currentColor' d='M0,-1.33 L-1.33,0.67 L1.33,0.67 z'/>\n",
       "\t<use xlink:href='#gpPt7' id='gpPt8' fill='currentColor' stroke='none'/>\n",
       "\t<use xlink:href='#gpPt7' id='gpPt9' stroke='currentColor' transform='rotate(180)'/>\n",
       "\t<use xlink:href='#gpPt9' id='gpPt10' fill='currentColor' stroke='none'/>\n",
       "\t<use xlink:href='#gpPt3' id='gpPt11' stroke='currentColor' transform='rotate(45)'/>\n",
       "\t<use xlink:href='#gpPt11' id='gpPt12' fill='currentColor' stroke='none'/>\n",
       "\t<path id='gpPt13' stroke-width='0.222' stroke='currentColor' d='M0,1.330 L1.265,0.411 L0.782,-1.067 L-0.782,-1.076 L-1.265,0.411 z'/>\n",
       "\t<use xlink:href='#gpPt13' id='gpPt14' fill='currentColor' stroke='none'/>\n",
       "\t<filter id='textbox' filterUnits='objectBoundingBox' x='0' y='0' height='1' width='1'>\n",
       "\t  <feFlood flood-color='#FFFFFF' flood-opacity='1' result='bgnd'/>\n",
       "\t  <feComposite in='SourceGraphic' in2='bgnd' operator='atop'/>\n",
       "\t</filter>\n",
       "\t<filter id='greybox' filterUnits='objectBoundingBox' x='0' y='0' height='1' width='1'>\n",
       "\t  <feFlood flood-color='lightgrey' flood-opacity='1' result='grey'/>\n",
       "\t  <feComposite in='SourceGraphic' in2='grey' operator='atop'/>\n",
       "\t</filter>\n",
       "</defs>\n",
       "<g fill=\"none\" color=\"#FFFFFF\" stroke=\"currentColor\" stroke-width=\"1.00\" stroke-linecap=\"butt\" stroke-linejoin=\"miter\">\n",
       "</g>\n",
       "<g fill=\"none\" color=\"black\" stroke=\"currentColor\" stroke-width=\"1.00\" stroke-linecap=\"butt\" stroke-linejoin=\"miter\">\n",
       "\t<path stroke='black'  d='M53.9,442.4 L62.9,442.4 M1150.1,442.4 L1141.1,442.4  '/>\t<g transform=\"translate(45.6,448.4)\" stroke=\"none\" fill=\"black\" font-family=\"sans\" font-size=\"16.00\"  text-anchor=\"end\">\n",
       "\t\t<text><tspan font-family=\"sans\" >10</tspan><tspan font-family=\"sans\"  font-size=\"12.8\" dy=\"-8.00px\">-16</tspan><tspan font-size=\"16.0\" dy=\"8.00\"></tspan></text>\n",
       "\t</g>\n",
       "</g>\n",
       "<g fill=\"none\" color=\"black\" stroke=\"currentColor\" stroke-width=\"1.00\" stroke-linecap=\"butt\" stroke-linejoin=\"miter\">\n",
       "\t<path stroke='black'  d='M53.9,419.8 L58.4,419.8 M1150.1,419.8 L1145.6,419.8 M53.9,397.3 L62.9,397.3 M1150.1,397.3 L1141.1,397.3\n",
       "\t\t '/>\t<g transform=\"translate(45.6,403.3)\" stroke=\"none\" fill=\"black\" font-family=\"sans\" font-size=\"16.00\"  text-anchor=\"end\">\n",
       "\t\t<text><tspan font-family=\"sans\" >10</tspan><tspan font-family=\"sans\"  font-size=\"12.8\" dy=\"-8.00px\">-14</tspan><tspan font-size=\"16.0\" dy=\"8.00\"></tspan></text>\n",
       "\t</g>\n",
       "</g>\n",
       "<g fill=\"none\" color=\"black\" stroke=\"currentColor\" stroke-width=\"1.00\" stroke-linecap=\"butt\" stroke-linejoin=\"miter\">\n",
       "\t<path stroke='black'  d='M53.9,374.7 L58.4,374.7 M1150.1,374.7 L1145.6,374.7 M53.9,352.1 L62.9,352.1 M1150.1,352.1 L1141.1,352.1\n",
       "\t\t '/>\t<g transform=\"translate(45.6,358.1)\" stroke=\"none\" fill=\"black\" font-family=\"sans\" font-size=\"16.00\"  text-anchor=\"end\">\n",
       "\t\t<text><tspan font-family=\"sans\" >10</tspan><tspan font-family=\"sans\"  font-size=\"12.8\" dy=\"-8.00px\">-12</tspan><tspan font-size=\"16.0\" dy=\"8.00\"></tspan></text>\n",
       "\t</g>\n",
       "</g>\n",
       "<g fill=\"none\" color=\"black\" stroke=\"currentColor\" stroke-width=\"1.00\" stroke-linecap=\"butt\" stroke-linejoin=\"miter\">\n",
       "\t<path stroke='black'  d='M53.9,329.5 L58.4,329.5 M1150.1,329.5 L1145.6,329.5 M53.9,307.0 L62.9,307.0 M1150.1,307.0 L1141.1,307.0\n",
       "\t\t '/>\t<g transform=\"translate(45.6,313.0)\" stroke=\"none\" fill=\"black\" font-family=\"sans\" font-size=\"16.00\"  text-anchor=\"end\">\n",
       "\t\t<text><tspan font-family=\"sans\" >10</tspan><tspan font-family=\"sans\"  font-size=\"12.8\" dy=\"-8.00px\">-10</tspan><tspan font-size=\"16.0\" dy=\"8.00\"></tspan></text>\n",
       "\t</g>\n",
       "</g>\n",
       "<g fill=\"none\" color=\"black\" stroke=\"currentColor\" stroke-width=\"1.00\" stroke-linecap=\"butt\" stroke-linejoin=\"miter\">\n",
       "\t<path stroke='black'  d='M53.9,284.4 L58.4,284.4 M1150.1,284.4 L1145.6,284.4 M53.9,261.8 L62.9,261.8 M1150.1,261.8 L1141.1,261.8\n",
       "\t\t '/>\t<g transform=\"translate(45.6,267.8)\" stroke=\"none\" fill=\"black\" font-family=\"sans\" font-size=\"16.00\"  text-anchor=\"end\">\n",
       "\t\t<text><tspan font-family=\"sans\" >10</tspan><tspan font-family=\"sans\"  font-size=\"12.8\" dy=\"-8.00px\">-8</tspan><tspan font-size=\"16.0\" dy=\"8.00\"></tspan></text>\n",
       "\t</g>\n",
       "</g>\n",
       "<g fill=\"none\" color=\"black\" stroke=\"currentColor\" stroke-width=\"1.00\" stroke-linecap=\"butt\" stroke-linejoin=\"miter\">\n",
       "\t<path stroke='black'  d='M53.9,239.2 L58.4,239.2 M1150.1,239.2 L1145.6,239.2 M53.9,216.7 L62.9,216.7 M1150.1,216.7 L1141.1,216.7\n",
       "\t\t '/>\t<g transform=\"translate(45.6,222.7)\" stroke=\"none\" fill=\"black\" font-family=\"sans\" font-size=\"16.00\"  text-anchor=\"end\">\n",
       "\t\t<text><tspan font-family=\"sans\" >10</tspan><tspan font-family=\"sans\"  font-size=\"12.8\" dy=\"-8.00px\">-6</tspan><tspan font-size=\"16.0\" dy=\"8.00\"></tspan></text>\n",
       "\t</g>\n",
       "</g>\n",
       "<g fill=\"none\" color=\"black\" stroke=\"currentColor\" stroke-width=\"1.00\" stroke-linecap=\"butt\" stroke-linejoin=\"miter\">\n",
       "\t<path stroke='black'  d='M53.9,194.1 L58.4,194.1 M1150.1,194.1 L1145.6,194.1 M53.9,171.5 L62.9,171.5 M1150.1,171.5 L1141.1,171.5\n",
       "\t\t '/>\t<g transform=\"translate(45.6,177.5)\" stroke=\"none\" fill=\"black\" font-family=\"sans\" font-size=\"16.00\"  text-anchor=\"end\">\n",
       "\t\t<text><tspan font-family=\"sans\" >10</tspan><tspan font-family=\"sans\"  font-size=\"12.8\" dy=\"-8.00px\">-4</tspan><tspan font-size=\"16.0\" dy=\"8.00\"></tspan></text>\n",
       "\t</g>\n",
       "</g>\n",
       "<g fill=\"none\" color=\"black\" stroke=\"currentColor\" stroke-width=\"1.00\" stroke-linecap=\"butt\" stroke-linejoin=\"miter\">\n",
       "\t<path stroke='black'  d='M53.9,149.0 L58.4,149.0 M1150.1,149.0 L1145.6,149.0 M53.9,126.4 L62.9,126.4 M1150.1,126.4 L1141.1,126.4\n",
       "\t\t '/>\t<g transform=\"translate(45.6,132.4)\" stroke=\"none\" fill=\"black\" font-family=\"sans\" font-size=\"16.00\"  text-anchor=\"end\">\n",
       "\t\t<text><tspan font-family=\"sans\" >10</tspan><tspan font-family=\"sans\"  font-size=\"12.8\" dy=\"-8.00px\">-2</tspan><tspan font-size=\"16.0\" dy=\"8.00\"></tspan></text>\n",
       "\t</g>\n",
       "</g>\n",
       "<g fill=\"none\" color=\"black\" stroke=\"currentColor\" stroke-width=\"1.00\" stroke-linecap=\"butt\" stroke-linejoin=\"miter\">\n",
       "\t<path stroke='black'  d='M53.9,103.8 L58.4,103.8 M1150.1,103.8 L1145.6,103.8 M53.9,81.2 L62.9,81.2 M1150.1,81.2 L1141.1,81.2\n",
       "\t\t '/>\t<g transform=\"translate(45.6,87.2)\" stroke=\"none\" fill=\"black\" font-family=\"sans\" font-size=\"16.00\"  text-anchor=\"end\">\n",
       "\t\t<text><tspan font-family=\"sans\" >10</tspan><tspan font-family=\"sans\"  font-size=\"12.8\" dy=\"-8.00px\">0</tspan><tspan font-size=\"16.0\" dy=\"8.00\"></tspan></text>\n",
       "\t</g>\n",
       "</g>\n",
       "<g fill=\"none\" color=\"black\" stroke=\"currentColor\" stroke-width=\"1.00\" stroke-linecap=\"butt\" stroke-linejoin=\"miter\">\n",
       "\t<path stroke='black'  d='M53.9,58.7 L58.4,58.7 M1150.1,58.7 L1145.6,58.7 M53.9,36.1 L62.9,36.1 M1150.1,36.1 L1141.1,36.1\n",
       "\t\t '/>\t<g transform=\"translate(45.6,42.1)\" stroke=\"none\" fill=\"black\" font-family=\"sans\" font-size=\"16.00\"  text-anchor=\"end\">\n",
       "\t\t<text><tspan font-family=\"sans\" >10</tspan><tspan font-family=\"sans\"  font-size=\"12.8\" dy=\"-8.00px\">2</tspan><tspan font-size=\"16.0\" dy=\"8.00\"></tspan></text>\n",
       "\t</g>\n",
       "</g>\n",
       "<g fill=\"none\" color=\"black\" stroke=\"currentColor\" stroke-width=\"1.00\" stroke-linecap=\"butt\" stroke-linejoin=\"miter\">\n",
       "\t<path stroke='black'  d='M53.9,442.4 L53.9,433.4 M53.9,36.1 L53.9,45.1  '/>\t<g transform=\"translate(53.9,464.9)\" stroke=\"none\" fill=\"black\" font-family=\"Arial\" font-size=\"12.00\"  text-anchor=\"middle\">\n",
       "\t\t<text><tspan font-family=\"Arial\" > 0</tspan></text>\n",
       "\t</g>\n",
       "</g>\n",
       "<g fill=\"none\" color=\"black\" stroke=\"currentColor\" stroke-width=\"1.00\" stroke-linecap=\"butt\" stroke-linejoin=\"miter\">\n",
       "\t<path stroke='black'  d='M236.6,442.4 L236.6,433.4 M236.6,36.1 L236.6,45.1  '/>\t<g transform=\"translate(236.6,464.9)\" stroke=\"none\" fill=\"black\" font-family=\"Arial\" font-size=\"12.00\"  text-anchor=\"middle\">\n",
       "\t\t<text><tspan font-family=\"Arial\" > 5</tspan></text>\n",
       "\t</g>\n",
       "</g>\n",
       "<g fill=\"none\" color=\"black\" stroke=\"currentColor\" stroke-width=\"1.00\" stroke-linecap=\"butt\" stroke-linejoin=\"miter\">\n",
       "\t<path stroke='black'  d='M419.3,442.4 L419.3,433.4 M419.3,36.1 L419.3,45.1  '/>\t<g transform=\"translate(419.3,464.9)\" stroke=\"none\" fill=\"black\" font-family=\"Arial\" font-size=\"12.00\"  text-anchor=\"middle\">\n",
       "\t\t<text><tspan font-family=\"Arial\" > 10</tspan></text>\n",
       "\t</g>\n",
       "</g>\n",
       "<g fill=\"none\" color=\"black\" stroke=\"currentColor\" stroke-width=\"1.00\" stroke-linecap=\"butt\" stroke-linejoin=\"miter\">\n",
       "\t<path stroke='black'  d='M602.0,442.4 L602.0,433.4 M602.0,36.1 L602.0,45.1  '/>\t<g transform=\"translate(602.0,464.9)\" stroke=\"none\" fill=\"black\" font-family=\"Arial\" font-size=\"12.00\"  text-anchor=\"middle\">\n",
       "\t\t<text><tspan font-family=\"Arial\" > 15</tspan></text>\n",
       "\t</g>\n",
       "</g>\n",
       "<g fill=\"none\" color=\"black\" stroke=\"currentColor\" stroke-width=\"1.00\" stroke-linecap=\"butt\" stroke-linejoin=\"miter\">\n",
       "\t<path stroke='black'  d='M784.7,442.4 L784.7,433.4 M784.7,36.1 L784.7,45.1  '/>\t<g transform=\"translate(784.7,464.9)\" stroke=\"none\" fill=\"black\" font-family=\"Arial\" font-size=\"12.00\"  text-anchor=\"middle\">\n",
       "\t\t<text><tspan font-family=\"Arial\" > 20</tspan></text>\n",
       "\t</g>\n",
       "</g>\n",
       "<g fill=\"none\" color=\"black\" stroke=\"currentColor\" stroke-width=\"1.00\" stroke-linecap=\"butt\" stroke-linejoin=\"miter\">\n",
       "\t<path stroke='black'  d='M967.4,442.4 L967.4,433.4 M967.4,36.1 L967.4,45.1  '/>\t<g transform=\"translate(967.4,464.9)\" stroke=\"none\" fill=\"black\" font-family=\"Arial\" font-size=\"12.00\"  text-anchor=\"middle\">\n",
       "\t\t<text><tspan font-family=\"Arial\" > 25</tspan></text>\n",
       "\t</g>\n",
       "</g>\n",
       "<g fill=\"none\" color=\"black\" stroke=\"currentColor\" stroke-width=\"1.00\" stroke-linecap=\"butt\" stroke-linejoin=\"miter\">\n",
       "\t<path stroke='black'  d='M1150.1,442.4 L1150.1,433.4 M1150.1,36.1 L1150.1,45.1  '/>\t<g transform=\"translate(1150.1,464.9)\" stroke=\"none\" fill=\"black\" font-family=\"Arial\" font-size=\"12.00\"  text-anchor=\"middle\">\n",
       "\t\t<text><tspan font-family=\"Arial\" > 30</tspan></text>\n",
       "\t</g>\n",
       "</g>\n",
       "<g fill=\"none\" color=\"black\" stroke=\"currentColor\" stroke-width=\"1.00\" stroke-linecap=\"butt\" stroke-linejoin=\"miter\">\n",
       "\t<path stroke='black'  d='M1150.1,442.4 L1141.1,442.4  '/>\t<g transform=\"translate(1158.4,446.9)\" stroke=\"none\" fill=\"black\" font-family=\"Arial\" font-size=\"12.00\"  text-anchor=\"start\">\n",
       "\t\t<text><tspan font-family=\"Arial\" > </tspan></text>\n",
       "\t</g>\n",
       "</g>\n",
       "<g fill=\"none\" color=\"black\" stroke=\"currentColor\" stroke-width=\"1.00\" stroke-linecap=\"butt\" stroke-linejoin=\"miter\">\n",
       "\t<path stroke='black'  d='M1150.1,397.3 L1141.1,397.3  '/>\t<g transform=\"translate(1158.4,401.8)\" stroke=\"none\" fill=\"black\" font-family=\"Arial\" font-size=\"12.00\"  text-anchor=\"start\">\n",
       "\t\t<text><tspan font-family=\"Arial\" > </tspan></text>\n",
       "\t</g>\n",
       "</g>\n",
       "<g fill=\"none\" color=\"black\" stroke=\"currentColor\" stroke-width=\"1.00\" stroke-linecap=\"butt\" stroke-linejoin=\"miter\">\n",
       "\t<path stroke='black'  d='M1150.1,352.1 L1141.1,352.1  '/>\t<g transform=\"translate(1158.4,356.6)\" stroke=\"none\" fill=\"black\" font-family=\"Arial\" font-size=\"12.00\"  text-anchor=\"start\">\n",
       "\t\t<text><tspan font-family=\"Arial\" > </tspan></text>\n",
       "\t</g>\n",
       "</g>\n",
       "<g fill=\"none\" color=\"black\" stroke=\"currentColor\" stroke-width=\"1.00\" stroke-linecap=\"butt\" stroke-linejoin=\"miter\">\n",
       "\t<path stroke='black'  d='M1150.1,307.0 L1141.1,307.0  '/>\t<g transform=\"translate(1158.4,311.5)\" stroke=\"none\" fill=\"black\" font-family=\"Arial\" font-size=\"12.00\"  text-anchor=\"start\">\n",
       "\t\t<text><tspan font-family=\"Arial\" > </tspan></text>\n",
       "\t</g>\n",
       "</g>\n",
       "<g fill=\"none\" color=\"black\" stroke=\"currentColor\" stroke-width=\"1.00\" stroke-linecap=\"butt\" stroke-linejoin=\"miter\">\n",
       "\t<path stroke='black'  d='M1150.1,261.8 L1141.1,261.8  '/>\t<g transform=\"translate(1158.4,266.3)\" stroke=\"none\" fill=\"black\" font-family=\"Arial\" font-size=\"12.00\"  text-anchor=\"start\">\n",
       "\t\t<text><tspan font-family=\"Arial\" > </tspan></text>\n",
       "\t</g>\n",
       "</g>\n",
       "<g fill=\"none\" color=\"black\" stroke=\"currentColor\" stroke-width=\"1.00\" stroke-linecap=\"butt\" stroke-linejoin=\"miter\">\n",
       "\t<path stroke='black'  d='M1150.1,216.7 L1141.1,216.7  '/>\t<g transform=\"translate(1158.4,221.2)\" stroke=\"none\" fill=\"black\" font-family=\"Arial\" font-size=\"12.00\"  text-anchor=\"start\">\n",
       "\t\t<text><tspan font-family=\"Arial\" > </tspan></text>\n",
       "\t</g>\n",
       "</g>\n",
       "<g fill=\"none\" color=\"black\" stroke=\"currentColor\" stroke-width=\"1.00\" stroke-linecap=\"butt\" stroke-linejoin=\"miter\">\n",
       "\t<path stroke='black'  d='M1150.1,171.5 L1141.1,171.5  '/>\t<g transform=\"translate(1158.4,176.0)\" stroke=\"none\" fill=\"black\" font-family=\"Arial\" font-size=\"12.00\"  text-anchor=\"start\">\n",
       "\t\t<text><tspan font-family=\"Arial\" > </tspan></text>\n",
       "\t</g>\n",
       "</g>\n",
       "<g fill=\"none\" color=\"black\" stroke=\"currentColor\" stroke-width=\"1.00\" stroke-linecap=\"butt\" stroke-linejoin=\"miter\">\n",
       "\t<path stroke='black'  d='M1150.1,126.4 L1141.1,126.4  '/>\t<g transform=\"translate(1158.4,130.9)\" stroke=\"none\" fill=\"black\" font-family=\"Arial\" font-size=\"12.00\"  text-anchor=\"start\">\n",
       "\t\t<text><tspan font-family=\"Arial\" > </tspan></text>\n",
       "\t</g>\n",
       "</g>\n",
       "<g fill=\"none\" color=\"black\" stroke=\"currentColor\" stroke-width=\"1.00\" stroke-linecap=\"butt\" stroke-linejoin=\"miter\">\n",
       "\t<path stroke='black'  d='M1150.1,81.2 L1141.1,81.2  '/>\t<g transform=\"translate(1158.4,85.7)\" stroke=\"none\" fill=\"black\" font-family=\"Arial\" font-size=\"12.00\"  text-anchor=\"start\">\n",
       "\t\t<text><tspan font-family=\"Arial\" > </tspan></text>\n",
       "\t</g>\n",
       "</g>\n",
       "<g fill=\"none\" color=\"black\" stroke=\"currentColor\" stroke-width=\"1.00\" stroke-linecap=\"butt\" stroke-linejoin=\"miter\">\n",
       "\t<path stroke='black'  d='M1150.1,36.1 L1141.1,36.1  '/>\t<g transform=\"translate(1158.4,40.6)\" stroke=\"none\" fill=\"black\" font-family=\"Arial\" font-size=\"12.00\"  text-anchor=\"start\">\n",
       "\t\t<text><tspan font-family=\"Arial\" > </tspan></text>\n",
       "\t</g>\n",
       "</g>\n",
       "<g fill=\"none\" color=\"black\" stroke=\"currentColor\" stroke-width=\"1.00\" stroke-linecap=\"butt\" stroke-linejoin=\"miter\">\n",
       "\t<path stroke='black'  d='M53.9,36.1 L53.9,45.1  '/>\t<g transform=\"translate(53.9,22.6)\" stroke=\"none\" fill=\"black\" font-family=\"Arial\" font-size=\"12.00\"  text-anchor=\"middle\">\n",
       "\t\t<text><tspan font-family=\"Arial\" > </tspan></text>\n",
       "\t</g>\n",
       "</g>\n",
       "<g fill=\"none\" color=\"black\" stroke=\"currentColor\" stroke-width=\"1.00\" stroke-linecap=\"butt\" stroke-linejoin=\"miter\">\n",
       "\t<path stroke='black'  d='M236.6,36.1 L236.6,45.1  '/>\t<g transform=\"translate(236.6,22.6)\" stroke=\"none\" fill=\"black\" font-family=\"Arial\" font-size=\"12.00\"  text-anchor=\"middle\">\n",
       "\t\t<text><tspan font-family=\"Arial\" > </tspan></text>\n",
       "\t</g>\n",
       "</g>\n",
       "<g fill=\"none\" color=\"black\" stroke=\"currentColor\" stroke-width=\"1.00\" stroke-linecap=\"butt\" stroke-linejoin=\"miter\">\n",
       "\t<path stroke='black'  d='M419.3,36.1 L419.3,45.1  '/>\t<g transform=\"translate(419.3,22.6)\" stroke=\"none\" fill=\"black\" font-family=\"Arial\" font-size=\"12.00\"  text-anchor=\"middle\">\n",
       "\t\t<text><tspan font-family=\"Arial\" > </tspan></text>\n",
       "\t</g>\n",
       "</g>\n",
       "<g fill=\"none\" color=\"black\" stroke=\"currentColor\" stroke-width=\"1.00\" stroke-linecap=\"butt\" stroke-linejoin=\"miter\">\n",
       "\t<path stroke='black'  d='M602.0,36.1 L602.0,45.1  '/>\t<g transform=\"translate(602.0,22.6)\" stroke=\"none\" fill=\"black\" font-family=\"Arial\" font-size=\"12.00\"  text-anchor=\"middle\">\n",
       "\t\t<text><tspan font-family=\"Arial\" > </tspan></text>\n",
       "\t</g>\n",
       "</g>\n",
       "<g fill=\"none\" color=\"black\" stroke=\"currentColor\" stroke-width=\"1.00\" stroke-linecap=\"butt\" stroke-linejoin=\"miter\">\n",
       "\t<path stroke='black'  d='M784.7,36.1 L784.7,45.1  '/>\t<g transform=\"translate(784.7,22.6)\" stroke=\"none\" fill=\"black\" font-family=\"Arial\" font-size=\"12.00\"  text-anchor=\"middle\">\n",
       "\t\t<text><tspan font-family=\"Arial\" > </tspan></text>\n",
       "\t</g>\n",
       "</g>\n",
       "<g fill=\"none\" color=\"black\" stroke=\"currentColor\" stroke-width=\"1.00\" stroke-linecap=\"butt\" stroke-linejoin=\"miter\">\n",
       "\t<path stroke='black'  d='M967.4,36.1 L967.4,45.1  '/>\t<g transform=\"translate(967.4,22.6)\" stroke=\"none\" fill=\"black\" font-family=\"Arial\" font-size=\"12.00\"  text-anchor=\"middle\">\n",
       "\t\t<text><tspan font-family=\"Arial\" > </tspan></text>\n",
       "\t</g>\n",
       "</g>\n",
       "<g fill=\"none\" color=\"black\" stroke=\"currentColor\" stroke-width=\"1.00\" stroke-linecap=\"butt\" stroke-linejoin=\"miter\">\n",
       "\t<path stroke='black'  d='M1150.1,36.1 L1150.1,45.1  '/>\t<g transform=\"translate(1150.1,22.6)\" stroke=\"none\" fill=\"black\" font-family=\"Arial\" font-size=\"12.00\"  text-anchor=\"middle\">\n",
       "\t\t<text><tspan font-family=\"Arial\" > </tspan></text>\n",
       "\t</g>\n",
       "</g>\n",
       "<g fill=\"none\" color=\"black\" stroke=\"currentColor\" stroke-width=\"1.00\" stroke-linecap=\"butt\" stroke-linejoin=\"miter\">\n",
       "</g>\n",
       "<g fill=\"none\" color=\"black\" stroke=\"currentColor\" stroke-width=\"1.00\" stroke-linecap=\"butt\" stroke-linejoin=\"miter\">\n",
       "\t<path stroke='black'  d='M53.9,36.1 L53.9,442.4 L1150.1,442.4 L1150.1,36.1 L53.9,36.1 Z  '/></g>\n",
       "<g fill=\"none\" color=\"black\" stroke=\"currentColor\" stroke-width=\"1.00\" stroke-linecap=\"butt\" stroke-linejoin=\"miter\">\n",
       "\t<g transform=\"translate(602.0,491.9)\" stroke=\"none\" fill=\"black\" font-family=\"Arial\" font-size=\"12.00\"  text-anchor=\"middle\">\n",
       "\t\t<text><tspan font-family=\"Arial\" >Iteration</tspan></text>\n",
       "\t</g>\n",
       "</g>\n",
       "<g fill=\"none\" color=\"black\" stroke=\"currentColor\" stroke-width=\"1.00\" stroke-linecap=\"butt\" stroke-linejoin=\"miter\">\n",
       "</g>\n",
       "\t<g id=\"gnuplot_plot_1\" ><title>||R(z)||</title>\n",
       "<g fill=\"none\" color=\"black\" stroke=\"currentColor\" stroke-width=\"1.00\" stroke-linecap=\"butt\" stroke-linejoin=\"miter\">\n",
       "\t<g transform=\"translate(1053.0,63.1)\" stroke=\"none\" fill=\"black\" font-family=\"Arial\" font-size=\"16.00\"  text-anchor=\"start\">\n",
       "\t\t<text><tspan font-family=\"Arial\" >||R(z)||</tspan></text>\n",
       "\t</g>\n",
       "</g>\n",
       "<g fill=\"none\" color=\"black\" stroke=\"currentColor\" stroke-width=\"1.00\" stroke-linecap=\"butt\" stroke-linejoin=\"miter\">\n",
       "\t<path stroke='rgb(  0,   0, 255)'  d='M988.5,57.1 L1041.9,57.1 M53.9,80.2 L90.4,82.1 L127.0,84.2 L163.5,84.7 L200.1,85.5 L236.6,89.1\n",
       "\t\tL273.1,92.7 L309.7,117.5 L346.2,151.6 L382.8,202.3 L419.3,242.8 L455.8,286.9 L492.4,334.7 L528.9,386.1\n",
       "\t\tL565.5,403.0 L602.0,404.1 L638.5,405.8 L675.1,405.9 L711.6,405.9 L748.2,405.9 L784.7,405.9 L821.2,405.9\n",
       "\t\tL857.8,405.9 L894.3,405.9 L930.9,405.9 L967.4,405.9 L1003.9,405.9 L1040.5,405.9 L1077.0,405.9 L1113.6,405.9\n",
       "\t\tL1150.1,405.9  '/>\t<use xlink:href='#gpPt12' transform='translate(53.9,80.2) scale(4.50)' color='rgb(  0,   0, 255)'/>\n",
       "\t<use xlink:href='#gpPt12' transform='translate(90.4,82.1) scale(4.50)' color='rgb(  0,   0, 255)'/>\n",
       "\t<use xlink:href='#gpPt12' transform='translate(127.0,84.2) scale(4.50)' color='rgb(  0,   0, 255)'/>\n",
       "\t<use xlink:href='#gpPt12' transform='translate(163.5,84.7) scale(4.50)' color='rgb(  0,   0, 255)'/>\n",
       "\t<use xlink:href='#gpPt12' transform='translate(200.1,85.5) scale(4.50)' color='rgb(  0,   0, 255)'/>\n",
       "\t<use xlink:href='#gpPt12' transform='translate(236.6,89.1) scale(4.50)' color='rgb(  0,   0, 255)'/>\n",
       "\t<use xlink:href='#gpPt12' transform='translate(273.1,92.7) scale(4.50)' color='rgb(  0,   0, 255)'/>\n",
       "\t<use xlink:href='#gpPt12' transform='translate(309.7,117.5) scale(4.50)' color='rgb(  0,   0, 255)'/>\n",
       "\t<use xlink:href='#gpPt12' transform='translate(346.2,151.6) scale(4.50)' color='rgb(  0,   0, 255)'/>\n",
       "\t<use xlink:href='#gpPt12' transform='translate(382.8,202.3) scale(4.50)' color='rgb(  0,   0, 255)'/>\n",
       "\t<use xlink:href='#gpPt12' transform='translate(419.3,242.8) scale(4.50)' color='rgb(  0,   0, 255)'/>\n",
       "\t<use xlink:href='#gpPt12' transform='translate(455.8,286.9) scale(4.50)' color='rgb(  0,   0, 255)'/>\n",
       "\t<use xlink:href='#gpPt12' transform='translate(492.4,334.7) scale(4.50)' color='rgb(  0,   0, 255)'/>\n",
       "\t<use xlink:href='#gpPt12' transform='translate(528.9,386.1) scale(4.50)' color='rgb(  0,   0, 255)'/>\n",
       "\t<use xlink:href='#gpPt12' transform='translate(565.5,403.0) scale(4.50)' color='rgb(  0,   0, 255)'/>\n",
       "\t<use xlink:href='#gpPt12' transform='translate(602.0,404.1) scale(4.50)' color='rgb(  0,   0, 255)'/>\n",
       "\t<use xlink:href='#gpPt12' transform='translate(638.5,405.8) scale(4.50)' color='rgb(  0,   0, 255)'/>\n",
       "\t<use xlink:href='#gpPt12' transform='translate(675.1,405.9) scale(4.50)' color='rgb(  0,   0, 255)'/>\n",
       "\t<use xlink:href='#gpPt12' transform='translate(711.6,405.9) scale(4.50)' color='rgb(  0,   0, 255)'/>\n",
       "\t<use xlink:href='#gpPt12' transform='translate(748.2,405.9) scale(4.50)' color='rgb(  0,   0, 255)'/>\n",
       "\t<use xlink:href='#gpPt12' transform='translate(784.7,405.9) scale(4.50)' color='rgb(  0,   0, 255)'/>\n",
       "\t<use xlink:href='#gpPt12' transform='translate(821.2,405.9) scale(4.50)' color='rgb(  0,   0, 255)'/>\n",
       "\t<use xlink:href='#gpPt12' transform='translate(857.8,405.9) scale(4.50)' color='rgb(  0,   0, 255)'/>\n",
       "\t<use xlink:href='#gpPt12' transform='translate(894.3,405.9) scale(4.50)' color='rgb(  0,   0, 255)'/>\n",
       "\t<use xlink:href='#gpPt12' transform='translate(930.9,405.9) scale(4.50)' color='rgb(  0,   0, 255)'/>\n",
       "\t<use xlink:href='#gpPt12' transform='translate(967.4,405.9) scale(4.50)' color='rgb(  0,   0, 255)'/>\n",
       "\t<use xlink:href='#gpPt12' transform='translate(1003.9,405.9) scale(4.50)' color='rgb(  0,   0, 255)'/>\n",
       "\t<use xlink:href='#gpPt12' transform='translate(1040.5,405.9) scale(4.50)' color='rgb(  0,   0, 255)'/>\n",
       "\t<use xlink:href='#gpPt12' transform='translate(1077.0,405.9) scale(4.50)' color='rgb(  0,   0, 255)'/>\n",
       "\t<use xlink:href='#gpPt12' transform='translate(1113.6,405.9) scale(4.50)' color='rgb(  0,   0, 255)'/>\n",
       "\t<use xlink:href='#gpPt12' transform='translate(1150.1,405.9) scale(4.50)' color='rgb(  0,   0, 255)'/>\n",
       "\t<use xlink:href='#gpPt12' transform='translate(1015.2,57.1) scale(4.50)' color='rgb(  0,   0, 255)'/>\n",
       "</g>\n",
       "\t</g>\n",
       "\t<g id=\"gnuplot_plot_2\" ><title>||r(z)||</title>\n",
       "<g fill=\"none\" color=\"black\" stroke=\"currentColor\" stroke-width=\"1.00\" stroke-linecap=\"butt\" stroke-linejoin=\"miter\">\n",
       "\t<g transform=\"translate(1053.0,87.1)\" stroke=\"none\" fill=\"black\" font-family=\"Arial\" font-size=\"16.00\"  text-anchor=\"start\">\n",
       "\t\t<text><tspan font-family=\"Arial\" >||r(z)||</tspan></text>\n",
       "\t</g>\n",
       "</g>\n",
       "<g fill=\"none\" color=\"black\" stroke=\"currentColor\" stroke-width=\"1.00\" stroke-linecap=\"butt\" stroke-linejoin=\"miter\">\n",
       "\t<path stroke='rgb(255,   0,   0)'  d='M988.5,81.1 L1041.9,81.1 M53.9,88.6 L90.4,95.7 L127.0,107.5 L163.5,110.4 L200.1,103.6 L236.6,103.9\n",
       "\t\tL273.1,101.1 L309.7,127.1 L346.2,160.2 L382.8,229.8 L419.3,309.7 L455.8,389.5 L492.4,411.2 L528.9,410.2\n",
       "\t\tL565.5,411.5 L602.0,411.5 L638.5,415.6 L675.1,415.8 L711.6,416.0 L748.2,416.1 L784.7,416.1 L821.2,416.1\n",
       "\t\tL857.8,416.1 L894.3,416.1 L930.9,416.1 L967.4,416.1 L1003.9,416.1 L1040.5,416.1 L1077.0,416.1 L1113.6,416.1\n",
       "\t\tL1150.1,416.1  '/>\t<use xlink:href='#gpPt2' transform='translate(53.9,88.6) scale(4.50)' color='rgb(255,   0,   0)'/>\n",
       "\t<use xlink:href='#gpPt2' transform='translate(90.4,95.7) scale(4.50)' color='rgb(255,   0,   0)'/>\n",
       "\t<use xlink:href='#gpPt2' transform='translate(127.0,107.5) scale(4.50)' color='rgb(255,   0,   0)'/>\n",
       "\t<use xlink:href='#gpPt2' transform='translate(163.5,110.4) scale(4.50)' color='rgb(255,   0,   0)'/>\n",
       "\t<use xlink:href='#gpPt2' transform='translate(200.1,103.6) scale(4.50)' color='rgb(255,   0,   0)'/>\n",
       "\t<use xlink:href='#gpPt2' transform='translate(236.6,103.9) scale(4.50)' color='rgb(255,   0,   0)'/>\n",
       "\t<use xlink:href='#gpPt2' transform='translate(273.1,101.1) scale(4.50)' color='rgb(255,   0,   0)'/>\n",
       "\t<use xlink:href='#gpPt2' transform='translate(309.7,127.1) scale(4.50)' color='rgb(255,   0,   0)'/>\n",
       "\t<use xlink:href='#gpPt2' transform='translate(346.2,160.2) scale(4.50)' color='rgb(255,   0,   0)'/>\n",
       "\t<use xlink:href='#gpPt2' transform='translate(382.8,229.8) scale(4.50)' color='rgb(255,   0,   0)'/>\n",
       "\t<use xlink:href='#gpPt2' transform='translate(419.3,309.7) scale(4.50)' color='rgb(255,   0,   0)'/>\n",
       "\t<use xlink:href='#gpPt2' transform='translate(455.8,389.5) scale(4.50)' color='rgb(255,   0,   0)'/>\n",
       "\t<use xlink:href='#gpPt2' transform='translate(492.4,411.2) scale(4.50)' color='rgb(255,   0,   0)'/>\n",
       "\t<use xlink:href='#gpPt2' transform='translate(528.9,410.2) scale(4.50)' color='rgb(255,   0,   0)'/>\n",
       "\t<use xlink:href='#gpPt2' transform='translate(565.5,411.5) scale(4.50)' color='rgb(255,   0,   0)'/>\n",
       "\t<use xlink:href='#gpPt2' transform='translate(602.0,411.5) scale(4.50)' color='rgb(255,   0,   0)'/>\n",
       "\t<use xlink:href='#gpPt2' transform='translate(638.5,415.6) scale(4.50)' color='rgb(255,   0,   0)'/>\n",
       "\t<use xlink:href='#gpPt2' transform='translate(675.1,415.8) scale(4.50)' color='rgb(255,   0,   0)'/>\n",
       "\t<use xlink:href='#gpPt2' transform='translate(711.6,416.0) scale(4.50)' color='rgb(255,   0,   0)'/>\n",
       "\t<use xlink:href='#gpPt2' transform='translate(748.2,416.1) scale(4.50)' color='rgb(255,   0,   0)'/>\n",
       "\t<use xlink:href='#gpPt2' transform='translate(784.7,416.1) scale(4.50)' color='rgb(255,   0,   0)'/>\n",
       "\t<use xlink:href='#gpPt2' transform='translate(821.2,416.1) scale(4.50)' color='rgb(255,   0,   0)'/>\n",
       "\t<use xlink:href='#gpPt2' transform='translate(857.8,416.1) scale(4.50)' color='rgb(255,   0,   0)'/>\n",
       "\t<use xlink:href='#gpPt2' transform='translate(894.3,416.1) scale(4.50)' color='rgb(255,   0,   0)'/>\n",
       "\t<use xlink:href='#gpPt2' transform='translate(930.9,416.1) scale(4.50)' color='rgb(255,   0,   0)'/>\n",
       "\t<use xlink:href='#gpPt2' transform='translate(967.4,416.1) scale(4.50)' color='rgb(255,   0,   0)'/>\n",
       "\t<use xlink:href='#gpPt2' transform='translate(1003.9,416.1) scale(4.50)' color='rgb(255,   0,   0)'/>\n",
       "\t<use xlink:href='#gpPt2' transform='translate(1040.5,416.1) scale(4.50)' color='rgb(255,   0,   0)'/>\n",
       "\t<use xlink:href='#gpPt2' transform='translate(1077.0,416.1) scale(4.50)' color='rgb(255,   0,   0)'/>\n",
       "\t<use xlink:href='#gpPt2' transform='translate(1113.6,416.1) scale(4.50)' color='rgb(255,   0,   0)'/>\n",
       "\t<use xlink:href='#gpPt2' transform='translate(1150.1,416.1) scale(4.50)' color='rgb(255,   0,   0)'/>\n",
       "\t<use xlink:href='#gpPt2' transform='translate(1015.2,81.1) scale(4.50)' color='rgb(255,   0,   0)'/>\n",
       "</g>\n",
       "\t</g>\n",
       "<g fill=\"none\" color=\"#FFFFFF\" stroke=\"rgb(255,   0,   0)\" stroke-width=\"2.00\" stroke-linecap=\"butt\" stroke-linejoin=\"miter\">\n",
       "</g>\n",
       "<g fill=\"none\" color=\"black\" stroke=\"currentColor\" stroke-width=\"2.00\" stroke-linecap=\"butt\" stroke-linejoin=\"miter\">\n",
       "</g>\n",
       "<g fill=\"none\" color=\"black\" stroke=\"black\" stroke-width=\"1.00\" stroke-linecap=\"butt\" stroke-linejoin=\"miter\">\n",
       "</g>\n",
       "<g fill=\"none\" color=\"black\" stroke=\"currentColor\" stroke-width=\"1.00\" stroke-linecap=\"butt\" stroke-linejoin=\"miter\">\n",
       "\t<path stroke='black'  d='M53.9,36.1 L53.9,442.4 L1150.1,442.4 L1150.1,36.1 L53.9,36.1 Z  '/></g>\n",
       "<g fill=\"none\" color=\"black\" stroke=\"currentColor\" stroke-width=\"1.00\" stroke-linecap=\"butt\" stroke-linejoin=\"miter\">\n",
       "</g>\n",
       "</g>\n",
       "</svg>\n",
       "\n"
      ]
     },
     "metadata": {},
     "output_type": "display_data"
    }
   ],
   "source": [
    "pSSB.GetResPlot().ToGnuplot().SaveToSVG(\"resplotCSB.svg\",xRes:1200,yRes:500);\n",
    "pSSB.GetResPlot().ToGnuplot().PlotSVG(xRes:1200,yRes:500)"
   ]
  },
  {
   "attachments": {},
   "cell_type": "markdown",
   "metadata": {},
   "source": [
    "plot shadowfields"
   ]
  },
  {
   "cell_type": "code",
   "execution_count": 6,
   "metadata": {
    "dotnet_interactive": {
     "language": "csharp"
    },
    "polyglot_notebook": {
     "kernelName": "csharp"
    }
   },
   "outputs": [],
   "source": [
    "var siCSB= database.Sessions.Pick(0);\n",
    "BoSSS.Solution.Application.DeleteOldPlotFiles();\n",
    "pSSB.PlotShadowFields(siCSB);"
   ]
  },
  {
   "cell_type": "markdown",
   "metadata": {},
   "source": []
  }
 ],
 "metadata": {
  "kernelspec": {
   "display_name": ".NET (C#)",
   "language": "C#",
   "name": ".net-csharp"
  },
  "language_info": {
   "name": "polyglot-notebook"
  },
  "polyglot_notebook": {
   "kernelInfo": {
    "defaultKernelName": "csharp",
    "items": [
     {
      "aliases": [],
      "name": ".NET"
     },
     {
      "aliases": [
       "C#",
       "c#"
      ],
      "languageName": "C#",
      "name": "csharp"
     },
     {
      "aliases": [
       "F#",
       "f#"
      ],
      "languageName": "F#",
      "name": "fsharp"
     },
     {
      "aliases": [],
      "languageName": "HTML",
      "name": "html"
     },
     {
      "aliases": [
       "js"
      ],
      "languageName": "JavaScript",
      "name": "javascript"
     },
     {
      "aliases": [],
      "languageName": "KQL",
      "name": "kql"
     },
     {
      "aliases": [],
      "languageName": "Mermaid",
      "name": "mermaid"
     },
     {
      "aliases": [
       "powershell"
      ],
      "languageName": "PowerShell",
      "name": "pwsh"
     },
     {
      "aliases": [],
      "languageName": "SQL",
      "name": "sql"
     },
     {
      "aliases": [],
      "name": "value"
     },
     {
      "aliases": [
       "frontend"
      ],
      "name": "vscode"
     },
     {
      "aliases": [],
      "name": "webview"
     }
    ]
   }
  }
 },
 "nbformat": 4,
 "nbformat_minor": 2
}

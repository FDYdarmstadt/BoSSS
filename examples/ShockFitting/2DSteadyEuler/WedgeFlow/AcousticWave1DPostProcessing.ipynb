{
 "cells": [
  {
   "cell_type": "markdown",
   "metadata": {},
   "source": [
    "This Notebook evaluates test cases for the 1D Shock-Acoustic-Wave interaction problem as presented presented in the phd thesis \"Implicit Discontinuous Galerkin Shock Tracking methods for Compressible Flows with Shocks\" (Vandergrift 2024)."
   ]
  },
  {
   "cell_type": "code",
   "execution_count": 1,
   "metadata": {
    "dotnet_interactive": {
     "language": "csharp"
    }
   },
   "outputs": [],
   "source": [
    "#r \".\\binaries\\BoSSSpad.dll\"\n",
    "#r \".\\binaries\\XESTSF.dll\"\n",
    "using System;\n",
    "using BoSSS.Foundation;\n",
    "using BoSSS.Application.BoSSSpad;\n",
    "using BoSSS.Solution;\n",
    "using BoSSS.Solution.Tecplot;\n",
    "using BoSSS.Foundation.IO;\n",
    "using ilPSP.Tracing;\n",
    "using BoSSS.Solution.Utils;\n",
    "using ilPSP.LinSolvers;\n",
    "using BoSSS.Solution.NSECommon;\n",
    "using ilPSP.Connectors.Matlab;\n",
    "using ilPSP;\n",
    "using BoSSS.Foundation.Grid.Classic;\n",
    "using ilPSP.Utils;\n",
    "using BoSSS.Foundation.Grid.RefElements;\n",
    "using System.Collections.Generic;\n",
    "using BoSSS.Foundation.Grid;\n",
    "using BoSSS.Foundation.XDG;\n",
    "using BoSSS.Solution.XdgTimestepping;\n",
    "using BoSSS.Solution.AdvancedSolvers;\n",
    "using System.Linq;\n",
    "using BoSSS.Foundation.Grid.Aggregation;\n",
    "using BoSSS.Platform;\n",
    "using MPI.Wrappers;\n",
    "using System.Diagnostics;\n",
    "using System.IO;\n",
    "using System.Collections;\n",
    "using BoSSS.Foundation.Quadrature;\n",
    "using BoSSS.Solution.Statistic;\n",
    "using BoSSS.Solution.Gnuplot;\n",
    "using static BoSSS.Application.BoSSSpad.BoSSSshell;\n",
    "using BoSSS.Solution.Control;\n",
    "using BoSSS.Solution.GridImport;\n",
    "using ApplicationWithIDT;\n",
    "using XESTSF;\n",
    "using XDGShock;\n",
    "Init();\n"
   ]
  },
  {
   "cell_type": "code",
   "execution_count": 2,
   "metadata": {
    "dotnet_interactive": {
     "language": "csharp"
    }
   },
   "outputs": [
    {
     "data": {
      "text/plain": [
       "{ Session Count = 12; Grid Count = 12; Path = \\\\dc3\\userspace\\sebastian\\cluster\\XESTSF_ShockAcousticInteraction1D }"
      ]
     },
     "metadata": {},
     "output_type": "display_data"
    }
   ],
   "source": [
    "var ass= new MatrixAssembler(1);\n",
    "BoSSSshell.WorkflowMgm.Init(\"XESTSF_ShockAcousticInteraction1D\");\n",
    "BoSSSshell.WorkflowMgm.SetNameBasedSessionJobControlCorrelation();\n",
    "BoSSSshell.WorkflowMgm.DefaultDatabase\n"
   ]
  },
  {
   "cell_type": "code",
   "execution_count": 3,
   "metadata": {
    "dotnet_interactive": {
     "language": "csharp"
    }
   },
   "outputs": [
    {
     "data": {
      "text/plain": [
       "\\\\dc3\\userspace\\sebastian\\cluster\\XESTSF_ShockAcousticInteraction1D"
      ]
     },
     "metadata": {},
     "output_type": "display_data"
    }
   ],
   "source": [
    "string dbPath = BoSSSshell.WorkflowMgm.DefaultDatabase.Path; \n",
    "dbPath"
   ]
  },
  {
   "cell_type": "markdown",
   "metadata": {},
   "source": [
    "function to plot line outs of the space time solution"
   ]
  },
  {
   "cell_type": "code",
   "execution_count": 4,
   "metadata": {
    "dotnet_interactive": {
     "language": "csharp"
    }
   },
   "outputs": [],
   "source": [
    "(double[] xVals, double[]yVals) GetPlot(double xMin,double xMax, double t, int nRef,string field,ISessionInfo si){\n",
    "//double shockPosition=0.5;\n",
    "var p1= new double[] {xMin,t};\n",
    "var p2=new double[] {xMax,t};\n",
    "\n",
    "//timesteps to compare\n",
    "var tiEnd=si.Timesteps.Last();\n",
    "\n",
    "// # use p_per from BoSSS \n",
    "var pEnd =tiEnd.GetField(field);\n",
    "double[] yVals=pEnd.EvaluateAlongLine(p1,p2,nRef);\n",
    "double[] xVals= GenericBlas.Linspace(xMin,xMax,nRef);\n",
    "return(xVals,yVals);\n",
    "}"
   ]
  },
  {
   "cell_type": "code",
   "execution_count": 5,
   "metadata": {
    "dotnet_interactive": {
     "language": "csharp"
    },
    "polyglot_notebook": {
     "kernelName": "csharp"
    }
   },
   "outputs": [
    {
     "data": {
      "text/plain": [
       "#0: XESTSF_AcousticWave1D\tAW_p3_xCells61_tCells61_tMax4_1sinus_Mach1.5_sP1.5_wP0.3_ampneg1E-05_amppos0_wLTrue_wSTrue_wL0.8\t4/10/2024 2:48:38 PM\t50cba6ca...\r\n",
       "#1: XESTSF_AcousticWave1D\tAW_p3_xCells61_tCells61_tMax4_bump_Mach1.5_sP1.5_wP0.3_ampneg1E-05_amppos0_wLTrue_wSTrue_wL0.8\t4/10/2024 2:48:01 PM\t3fb780f8...\r\n",
       "#2: XESTSF_AcousticWave1D\tAW_p3_xCells61_tCells61_tMax1.5_bump_Mach1.5_sP1.5_wP0_ampneg0_amppos1E-05_wLTrue_wSTrue_wL0.8\t4/10/2024 2:46:46 PM\t9bcce582...\r\n",
       "#3: XESTSF_AcousticWave1D\tAW_p3_xCells61_tCells61_tMax4_1sinus_Mach1.5_sP0.5_wP0.9_ampneg1E-05_amppos0_wLTrue_wSTrue_wL0.8\t4/10/2024 2:46:07 PM\t012246ad...\r\n",
       "#4: XESTSF_AcousticWave1D\tAW_p3_xCells61_tCells61_tMax4_bump_Mach1.5_sP0.5_wP0.9_ampneg1E-05_amppos0_wLTrue_wSTrue_wL0.8\t4/10/2024 2:45:27 PM\t90107f8d...\r\n",
       "#5: XESTSF_AcousticWave1D\tAW_p3_xCells61_tCells61_tMax1.5_1sinus_Mach1.5_sP1.5_wP0_ampneg0_amppos1E-05_wLTrue_wSTrue_wL0.8\t4/10/2024 2:47:24 PM\t8c0c4d79...\r\n",
       "#6: XESTSF_AcousticWave1D\tAW_p3_xCells91_tCells91_tMax4_1sinus_Mach1.5_sP1.5_wP0.3_ampneg1E-05_amppos0_wLTrue_wSTrue_wL0.8*\t4/10/2024 2:48:59 PM\t39e1f7d3...\r\n",
       "#7: XESTSF_AcousticWave1D\tAW_p3_xCells91_tCells91_tMax4_bump_Mach1.5_sP1.5_wP0.3_ampneg1E-05_amppos0_wLTrue_wSTrue_wL0.8*\t4/10/2024 2:48:23 PM\t73ae7ed9...\r\n",
       "#8: XESTSF_AcousticWave1D\tAW_p3_xCells91_tCells91_tMax1.5_1sinus_Mach1.5_sP1.5_wP0_ampneg0_amppos1E-05_wLTrue_wSTrue_wL0.8*\t4/10/2024 2:47:45 PM\td643048f...\r\n",
       "#9: XESTSF_AcousticWave1D\tAW_p3_xCells91_tCells91_tMax1.5_bump_Mach1.5_sP1.5_wP0_ampneg0_amppos1E-05_wLTrue_wSTrue_wL0.8*\t4/10/2024 2:47:07 PM\td44f94cb...\r\n",
       "#10: XESTSF_AcousticWave1D\tAW_p3_xCells91_tCells91_tMax4_1sinus_Mach1.5_sP0.5_wP0.9_ampneg1E-05_amppos0_wLTrue_wSTrue_wL0.8*\t4/10/2024 2:46:28 PM\t064d736c...\r\n",
       "#11: XESTSF_AcousticWave1D\tAW_p3_xCells91_tCells91_tMax4_bump_Mach1.5_sP0.5_wP0.9_ampneg1E-05_amppos0_wLTrue_wSTrue_wL0.8*\t4/10/2024 2:45:50 PM\t49433504...\r\n"
      ]
     },
     "metadata": {},
     "output_type": "display_data"
    }
   ],
   "source": [
    "var db=OpenOrCreateDatabase(dbPath);\n",
    "var ses=db.Sessions;\n",
    "ses"
   ]
  },
  {
   "cell_type": "code",
   "execution_count": 6,
   "metadata": {
    "dotnet_interactive": {
     "language": "csharp"
    },
    "polyglot_notebook": {
     "kernelName": "csharp"
    }
   },
   "outputs": [
    {
     "data": {
      "text/plain": [
       "XESTSF_AcousticWave1D\tAW_p3_xCells61_tCells61_tMax4_1sinus_Mach1.5_sP1.5_wP0.3_ampneg1E-05_amppos0_wLTrue_wSTrue_wL0.8\t4/10/2024 2:48:38 PM\t50cba6ca..."
      ]
     },
     "metadata": {},
     "output_type": "display_data"
    }
   ],
   "source": [
    "var si=db.Sessions.Pick(0);\n",
    "var ti=si.Timesteps.Last();\n",
    "//si.Timesteps\n",
    "si"
   ]
  },
  {
   "cell_type": "markdown",
   "metadata": {},
   "source": [
    "# Plotting"
   ]
  },
  {
   "cell_type": "markdown",
   "metadata": {},
   "source": [
    "define general params for plotting (must substract some eps because, otherwise some points are not located in the space-time grid)"
   ]
  },
  {
   "cell_type": "code",
   "execution_count": 7,
   "metadata": {
    "dotnet_interactive": {
     "language": "csharp"
    },
    "polyglot_notebook": {
     "kernelName": "csharp"
    }
   },
   "outputs": [],
   "source": [
    "var eps=0.000001;\n",
    "double xMin=0 +eps;double xMax=3.0-eps; int xRef=100; \n",
    "double tMin =0 + eps;int tRef=100;\n",
    "int nRows=2;"
   ]
  },
  {
   "cell_type": "markdown",
   "metadata": {},
   "source": [
    "obtain tMax from session name"
   ]
  },
  {
   "cell_type": "code",
   "execution_count": 8,
   "metadata": {
    "dotnet_interactive": {
     "language": "csharp"
    },
    "polyglot_notebook": {
     "kernelName": "csharp"
    }
   },
   "outputs": [],
   "source": [
    "// Format\n",
    "var fmt= new PlotFormat();\n",
    "fmt.WithPointSize(0.0);\n",
    "fmt.LineColor=LineColors.Red;"
   ]
  },
  {
   "cell_type": "markdown",
   "metadata": {},
   "source": [
    "## Pressure Pertubations"
   ]
  },
  {
   "cell_type": "code",
   "execution_count": null,
   "metadata": {
    "dotnet_interactive": {
     "language": "csharp"
    },
    "polyglot_notebook": {
     "kernelName": "csharp"
    }
   },
   "outputs": [
    {
     "name": "stdout",
     "output_type": "stream",
     "text": [
      "doing:AW_p3_xCells61_tCells61_tMax4_1sinus_Mach1.5_sP1.5_wP0.3_ampneg1E-05_amppos0_wLTrue_wSTrue_wL0.8; tMax:3.999999\n",
      "doing:AW_p3_xCells61_tCells61_tMax4_bump_Mach1.5_sP1.5_wP0.3_ampneg1E-05_amppos0_wLTrue_wSTrue_wL0.8; tMax:3.999999\n",
      "doing:AW_p3_xCells61_tCells61_tMax1.5_bump_Mach1.5_sP1.5_wP0_ampneg0_amppos1E-05_wLTrue_wSTrue_wL0.8; tMax:0.999999\n",
      "doing:AW_p3_xCells61_tCells61_tMax4_1sinus_Mach1.5_sP0.5_wP0.9_ampneg1E-05_amppos0_wLTrue_wSTrue_wL0.8; tMax:3.999999\n",
      "doing:AW_p3_xCells61_tCells61_tMax4_bump_Mach1.5_sP0.5_wP0.9_ampneg1E-05_amppos0_wLTrue_wSTrue_wL0.8; tMax:3.999999\n",
      "doing:AW_p3_xCells61_tCells61_tMax1.5_1sinus_Mach1.5_sP1.5_wP0_ampneg0_amppos1E-05_wLTrue_wSTrue_wL0.8; tMax:0.999999\n",
      "doing:AW_p3_xCells91_tCells91_tMax4_1sinus_Mach1.5_sP1.5_wP0.3_ampneg1E-05_amppos0_wLTrue_wSTrue_wL0.8; tMax:3.999999\n",
      "doing:AW_p3_xCells91_tCells91_tMax4_bump_Mach1.5_sP1.5_wP0.3_ampneg1E-05_amppos0_wLTrue_wSTrue_wL0.8; tMax:3.999999\n"
     ]
    }
   ],
   "source": [
    "using System.Text.RegularExpressions;\n",
    "foreach(var si in ses){\n",
    "    string pattern = @\"tMax(\\d+(\\.\\d+)?)\";\n",
    "    Match match = Regex.Match(si.Name, pattern);\n",
    "    double tMax = 1.5;\n",
    "    try{\n",
    "        tMax = double.Parse(match.Groups[1].Value)-eps;\n",
    "    }catch{\n",
    "    }\n",
    "    Console.WriteLine($\"doing:{si.Name}; tMax:{tMax}\");\n",
    "    string field=\"p_per\";\n",
    "    string csvFileName = si.Name + \"_p_per.csv\";\n",
    "    Plot2Ddata[,] multiplotsPressure = new Plot2Ddata[(tRef+1)/nRows,nRows];\n",
    "    using (StreamWriter writer = new StreamWriter(csvFileName))\n",
    "            {\n",
    "            for(int Ti=0;Ti< tRef;Ti++){\n",
    "                var plot= new Plot2Ddata();\n",
    "                plot.Xlabel=\"x\";\n",
    "                plot.Ylabel=\"p'\";\n",
    "                double t=((double) tRef-1-Ti)/((double) tRef-1)*tMin+((double) Ti)/(tRef-1)*tMax;\n",
    "                //Console.WriteLine(t);\n",
    "                (double[] xVals,double[] yVals)=GetPlot(xMin,xMax,t,xRef,field, si);\n",
    "                plot.AddDataGroup(\"t=\"+Math.Round(t,2),xVals,yVals,fmt);\n",
    "                multiplotsPressure[Ti/nRows,Ti %nRows]=plot;\n",
    "                if (Ti == 0)\n",
    "                {\n",
    "                    // Write header row\n",
    "                    writer.WriteLine($\"x/t,{string.Join(\",\", xVals)}\");\n",
    "                }\n",
    "                // Write data row\n",
    "                writer.WriteLine($\"{Math.Round(t, 2)},{string.Join(\",\", yVals)}\");\n",
    "                        \n",
    "            }\n",
    "    };\n",
    "}\n",
    "\n"
   ]
  },
  {
   "cell_type": "code",
   "execution_count": null,
   "metadata": {
    "dotnet_interactive": {
     "language": "csharp"
    },
    "polyglot_notebook": {
     "kernelName": "csharp"
    }
   },
   "outputs": [],
   "source": [
    "foreach(var si in ses){\n",
    "    IDTTimeStepInfo lts = (IDTTimeStepInfo)((TimestepProxy)si.Timesteps.Last()).GetInternal();\n",
    "    lts.EnResHistory.SaveToTextFile(si.Name + \"_EnResNorms.txt\");\n",
    "    lts.ResHistory.SaveToTextFile(si.Name + \"_ResNorms.txt\");\n",
    "}\n",
    "//Array.ForEach(multiplotsPressure.Cast<Plot2Ddata>().ToArray(), \n",
    "//    plot => { plot.YrangeMin = -1.5 * 1e-5; plot.YrangeMax = 1.5 * 1e-5; });\n",
    "// multiplotsPressure[1,1].YrangeMax = 5 * 1e-7; multiplotsPressure[1,1].YrangeMin = -6 * 1e-7;\n",
    "// multiplotsPressure[2,0].YrangeMax = 5 * 1e-7; multiplotsPressure[2,0].YrangeMin = -6 * 1e-7;\n",
    "// multiplotsPressure[2,1].YrangeMax = 5 * 1e-7; multiplotsPressure[2,1].YrangeMin = -6 * 1e-7;\n",
    "//multiplotsPressure.ToGnuplot().PlotSVG(xRes:900,yRes:600)"
   ]
  },
  {
   "cell_type": "markdown",
   "metadata": {},
   "source": [
    "## Density Pertubations"
   ]
  },
  {
   "cell_type": "code",
   "execution_count": 10,
   "metadata": {
    "dotnet_interactive": {
     "language": "csharp"
    },
    "polyglot_notebook": {
     "kernelName": "csharp"
    }
   },
   "outputs": [
    {
     "name": "stdout",
     "output_type": "stream",
     "text": [
      "doing:AW_p3_xCells61_tCells61_tMax4_1sinus_Mach1.5_sP1.5_wP0.3_ampneg1E-05_amppos0_wLTrue_wSTrue_wL0.8; tMax:3.999999\n",
      "doing:AW_p3_xCells61_tCells61_tMax4_bump_Mach1.5_sP1.5_wP0.3_ampneg1E-05_amppos0_wLTrue_wSTrue_wL0.8; tMax:3.999999\n",
      "doing:AW_p3_xCells61_tCells61_tMax1.5_bump_Mach1.5_sP1.5_wP0_ampneg0_amppos1E-05_wLTrue_wSTrue_wL0.8; tMax:0.999999\n",
      "doing:AW_p3_xCells61_tCells61_tMax4_1sinus_Mach1.5_sP0.5_wP0.9_ampneg1E-05_amppos0_wLTrue_wSTrue_wL0.8; tMax:3.999999\n",
      "doing:AW_p3_xCells61_tCells61_tMax4_bump_Mach1.5_sP0.5_wP0.9_ampneg1E-05_amppos0_wLTrue_wSTrue_wL0.8; tMax:3.999999\n",
      "doing:AW_p3_xCells61_tCells61_tMax1.5_1sinus_Mach1.5_sP1.5_wP0_ampneg0_amppos1E-05_wLTrue_wSTrue_wL0.8; tMax:0.999999\n",
      "doing:AW_p3_xCells91_tCells91_tMax4_1sinus_Mach1.5_sP1.5_wP0.3_ampneg1E-05_amppos0_wLTrue_wSTrue_wL0.8; tMax:3.999999\n",
      "doing:AW_p3_xCells91_tCells91_tMax4_bump_Mach1.5_sP1.5_wP0.3_ampneg1E-05_amppos0_wLTrue_wSTrue_wL0.8; tMax:3.999999\n",
      "doing:AW_p3_xCells91_tCells91_tMax1.5_1sinus_Mach1.5_sP1.5_wP0_ampneg0_amppos1E-05_wLTrue_wSTrue_wL0.8; tMax:0.999999\n",
      "doing:AW_p3_xCells91_tCells91_tMax1.5_bump_Mach1.5_sP1.5_wP0_ampneg0_amppos1E-05_wLTrue_wSTrue_wL0.8; tMax:0.999999\n",
      "doing:AW_p3_xCells91_tCells91_tMax4_1sinus_Mach1.5_sP0.5_wP0.9_ampneg1E-05_amppos0_wLTrue_wSTrue_wL0.8; tMax:3.999999\n",
      "doing:AW_p3_xCells91_tCells91_tMax4_bump_Mach1.5_sP0.5_wP0.9_ampneg1E-05_amppos0_wLTrue_wSTrue_wL0.8; tMax:3.999999\n"
     ]
    }
   ],
   "source": [
    "using System.Text.RegularExpressions;\n",
    "foreach(var si in ses){\n",
    "        string pattern = @\"tMax(\\d+)\";\n",
    "    Match match = Regex.Match(si.Name, pattern);\n",
    "    double tMax = 1.5;\n",
    "    try{\n",
    "        tMax = double.Parse(match.Groups[1].Value)-eps;\n",
    "    }catch{\n",
    "    }\n",
    "    Console.WriteLine($\"doing:{si.Name}; tMax:{tMax}\");\n",
    "    string field=\"rho_per\";\n",
    "    // Format\n",
    "    var fmt= new PlotFormat();\n",
    "    fmt.WithPointSize(0.0);\n",
    "    fmt.LineColor=LineColors.Red;\n",
    "\n",
    "    Plot2Ddata[,] multiplotsDensity = new Plot2Ddata[(tRef+1)/nRows,nRows];\n",
    "    string csvFileName = si.Name + \"_rho_per.csv\";\n",
    "    using (StreamWriter writer = new StreamWriter(csvFileName)){\n",
    "        for(int Ti=0;Ti< tRef;Ti++){\n",
    "            var plot= new Plot2Ddata();\n",
    "            plot.Xlabel=\"x\";\n",
    "            plot.Ylabel=\"rho'\";\n",
    "            double t=((double) tRef-1-Ti)/((double) tRef-1)*tMin+((double) Ti)/(tRef-1)*tMax;\n",
    "            //Console.WriteLine(t);\n",
    "            (double[] xVals,double[] yVals)=GetPlot(xMin,xMax,t,xRef,field, si);\n",
    "            plot.AddDataGroup(\"t=\"+Math.Round(t,2),xVals,yVals,fmt);\n",
    "            multiplotsDensity[Ti/nRows,Ti %nRows]=plot;\n",
    "            if (Ti == 0)\n",
    "            {\n",
    "                // Write header row\n",
    "                writer.WriteLine($\"x/t,{string.Join(\",\", xVals)}\");\n",
    "            }\n",
    "            // Write data row\n",
    "            writer.WriteLine($\"{Math.Round(t, 2)},{string.Join(\",\", yVals)}\");\n",
    "                    \n",
    "        }\n",
    "        \n",
    "    };                                              \n",
    "}"
   ]
  },
  {
   "cell_type": "code",
   "execution_count": null,
   "metadata": {
    "dotnet_interactive": {
     "language": "csharp"
    },
    "polyglot_notebook": {
     "kernelName": "csharp"
    }
   },
   "outputs": [],
   "source": [
    "// Array.ForEach(multiplotsDensity.Cast<Plot2Ddata>().ToArray(), \n",
    "//     plot => { plot.YrangeMin = -1 * 1e-5; plot.YrangeMax = 1.5 * 1e-5; });\n",
    "// // multiplotsDensity[1,1].YrangeMax = 5 * 1e-7; multiplotsDensity[1,1].YrangeMin = -6 * 1e-7;\n",
    "// //multiplotsDensity[2,0].YrangeMax = 5 * 1e-7; multiplotsDensity[2,0].YrangeMin = -6 * 1e-7;\n",
    "// //multiplotsDensity[2,1].YrangeMax = 5 * 1e-7; multiplotsDensity[2,1].YrangeMin = -6 * 1e-7;\n",
    "// multiplotsDensity.ToGnuplot().PlotSVG(xRes:1000,yRes:600)"
   ]
  },
  {
   "cell_type": "code",
   "execution_count": 13,
   "metadata": {
    "dotnet_interactive": {
     "language": "csharp"
    },
    "polyglot_notebook": {
     "kernelName": "csharp"
    }
   },
   "outputs": [],
   "source": []
  },
  {
   "cell_type": "code",
   "execution_count": null,
   "metadata": {
    "dotnet_interactive": {
     "language": "csharp"
    },
    "polyglot_notebook": {
     "kernelName": "csharp"
    }
   },
   "outputs": [],
   "source": []
  },
  {
   "cell_type": "code",
   "execution_count": null,
   "metadata": {
    "dotnet_interactive": {
     "language": "csharp"
    },
    "polyglot_notebook": {
     "kernelName": "csharp"
    }
   },
   "outputs": [],
   "source": [
    "(double[] xVals, double[]yVals) GetPlotLevelSet(double tMin,double tMax, int nRef,ISessionInfo si){\n",
    "//double shockPosition=0.5;\n",
    "var p1= new double[] {0.0,tMin};\n",
    "var p2=new double[] {0.0,tMax};\n",
    "\n",
    "//timesteps to compare\n",
    "var tiEnd=si.Timesteps.Last();\n",
    "// # use p_per from BoSSS \n",
    "var pEnd =tiEnd.GetField(\"LevelSet\");\n",
    "double[] yVals=pEnd.EvaluateAlongLine(p1,p2,nRef);\n",
    "double[] xVals= GenericBlas.Linspace(xMin,xMax,nRef);\n",
    "return(xVals,yVals);\n",
    "}"
   ]
  },
  {
   "cell_type": "code",
   "execution_count": null,
   "metadata": {
    "dotnet_interactive": {
     "language": "csharp"
    },
    "polyglot_notebook": {
     "kernelName": "csharp"
    }
   },
   "outputs": [
    {
     "ename": "Error",
     "evalue": "(10,58): error CS0103: The name 'tMax' does not exist in the current context",
     "output_type": "error",
     "traceback": [
      "(10,58): error CS0103: The name 'tMax' does not exist in the current context"
     ]
    }
   ],
   "source": [
    "// Format\n",
    "var fmt= new PlotFormat();\n",
    "fmt.WithPointSize(0.0);\n",
    "fmt.LineColor=LineColors.Red;\n",
    "string csvFileName = \"XESTSFLevelSetPertubations.csv\";\n",
    "var plotLevelSet= new Plot2Ddata();\n",
    "using (StreamWriter writer = new StreamWriter(csvFileName)){\n",
    "    \n",
    "    //Console.WriteLine(t);\n",
    "    (double[] xVals,double[] yVals)=GetPlotLevelSet(tMin,tMax,1000, si);\n",
    "    \n",
    "    plotLevelSet.AddDataGroup(\"LevelSet\",xVals,yVals,fmt);\n",
    "        // Write header row\n",
    "    writer.WriteLine($\"t,{string.Join(\",\", xVals)}\");\n",
    "    \n",
    "    // Write data row\n",
    "    writer.WriteLine($\"phi(t),{string.Join(\",\", yVals)}\");\n",
    "            \n",
    "}\n",
    "\n",
    "plotLevelSet.Ylabel=\"\\varphi(0,t)\";\n",
    "plotLevelSet.ToGnuplot().PlotSVG(xRes:800,yRes:800)  \n"
   ]
  },
  {
   "cell_type": "markdown",
   "metadata": {},
   "source": [
    "plot along ray"
   ]
  },
  {
   "cell_type": "code",
   "execution_count": null,
   "metadata": {},
   "outputs": [
    {
     "name": "stdout",
     "output_type": "stream",
     "text": [
      "doing:AW_p3_xCells61_tCells61_tMax1.5_bump_Mach1.5_sP1.5_wP0_ampneg0_amppos1E-05_wLTrue_wSTrue_wL0.8; tMax:1.499999\n",
      "Catched: wP0, xa0.4,xs1.5\n",
      "AverageAlongRay: 2.1574504113916715E-05\n",
      "Using gnuplot: C:\\Program Files (x86)\\FDY\\BoSSS\\bin\\native\\win\\gnuplot-gp510-20160418-win32-mingw\\gnuplot\\bin\\gnuplot.exe\n",
      "Note: In a Jupyter Worksheet, you must NOT have a trailing semicolon in order to see the plot on screen; otherwise, the output migth be surpressed.!\n"
     ]
    },
    {
     "data": {
      "text/html": [
       "<?xml version=\"1.0\" encoding=\"utf-8\"  standalone=\"no\"?>\n",
       "<!DOCTYPE svg PUBLIC \"-//W3C//DTD SVG 1.1//EN\"\n",
       " \"http://www.w3.org/Graphics/SVG/1.1/DTD/svg11.dtd\">\n",
       "<svg \n",
       " width=\"900\" height=\"600\"\n",
       " viewBox=\"0 0 900 600\"\n",
       " xmlns=\"http://www.w3.org/2000/svg\"\n",
       " xmlns:xlink=\"http://www.w3.org/1999/xlink\"\n",
       ">\n",
       "\n",
       "<title>Gnuplot</title>\n",
       "<desc>Produced by GNUPLOT 5.1 patchlevel 0 </desc>\n",
       "\n",
       "<g id=\"gnuplot_canvas\">\n",
       "\n",
       "<rect x=\"0\" y=\"0\" width=\"900\" height=\"600\" fill=\"#ffffff\"/>\n",
       "<defs>\n",
       "\n",
       "\t<circle id='gpDot' r='0.5' stroke-width='0.5'/>\n",
       "\t<path id='gpPt0' stroke-width='0.222' stroke='currentColor' d='M-1,0 h2 M0,-1 v2'/>\n",
       "\t<path id='gpPt1' stroke-width='0.222' stroke='currentColor' d='M-1,-1 L1,1 M1,-1 L-1,1'/>\n",
       "\t<path id='gpPt2' stroke-width='0.222' stroke='currentColor' d='M-1,0 L1,0 M0,-1 L0,1 M-1,-1 L1,1 M-1,1 L1,-1'/>\n",
       "\t<rect id='gpPt3' stroke-width='0.222' stroke='currentColor' x='-1' y='-1' width='2' height='2'/>\n",
       "\t<rect id='gpPt4' stroke-width='0.222' stroke='currentColor' fill='currentColor' x='-1' y='-1' width='2' height='2'/>\n",
       "\t<circle id='gpPt5' stroke-width='0.222' stroke='currentColor' cx='0' cy='0' r='1'/>\n",
       "\t<use xlink:href='#gpPt5' id='gpPt6' fill='currentColor' stroke='none'/>\n",
       "\t<path id='gpPt7' stroke-width='0.222' stroke='currentColor' d='M0,-1.33 L-1.33,0.67 L1.33,0.67 z'/>\n",
       "\t<use xlink:href='#gpPt7' id='gpPt8' fill='currentColor' stroke='none'/>\n",
       "\t<use xlink:href='#gpPt7' id='gpPt9' stroke='currentColor' transform='rotate(180)'/>\n",
       "\t<use xlink:href='#gpPt9' id='gpPt10' fill='currentColor' stroke='none'/>\n",
       "\t<use xlink:href='#gpPt3' id='gpPt11' stroke='currentColor' transform='rotate(45)'/>\n",
       "\t<use xlink:href='#gpPt11' id='gpPt12' fill='currentColor' stroke='none'/>\n",
       "\t<path id='gpPt13' stroke-width='0.222' stroke='currentColor' d='M0,1.330 L1.265,0.411 L0.782,-1.067 L-0.782,-1.076 L-1.265,0.411 z'/>\n",
       "\t<use xlink:href='#gpPt13' id='gpPt14' fill='currentColor' stroke='none'/>\n",
       "\t<filter id='textbox' filterUnits='objectBoundingBox' x='0' y='0' height='1' width='1'>\n",
       "\t  <feFlood flood-color='#FFFFFF' flood-opacity='1' result='bgnd'/>\n",
       "\t  <feComposite in='SourceGraphic' in2='bgnd' operator='atop'/>\n",
       "\t</filter>\n",
       "\t<filter id='greybox' filterUnits='objectBoundingBox' x='0' y='0' height='1' width='1'>\n",
       "\t  <feFlood flood-color='lightgrey' flood-opacity='1' result='grey'/>\n",
       "\t  <feComposite in='SourceGraphic' in2='grey' operator='atop'/>\n",
       "\t</filter>\n",
       "</defs>\n",
       "<g fill=\"none\" color=\"#FFFFFF\" stroke=\"currentColor\" stroke-width=\"1.00\" stroke-linecap=\"butt\" stroke-linejoin=\"miter\">\n",
       "</g>\n",
       "<g fill=\"none\" color=\"black\" stroke=\"currentColor\" stroke-width=\"1.00\" stroke-linecap=\"butt\" stroke-linejoin=\"miter\">\n",
       "\t<path stroke='black'  d='M130.6,536.5 L139.6,536.5 M841.1,536.5 L832.1,536.5  '/>\t<g transform=\"translate(122.3,541.0)\" stroke=\"none\" fill=\"black\" font-family=\"Arial\" font-size=\"12.00\"  text-anchor=\"end\">\n",
       "\t\t<text><tspan font-family=\"Arial\" >0.00002154</tspan></text>\n",
       "\t</g>\n",
       "</g>\n",
       "<g fill=\"none\" color=\"black\" stroke=\"currentColor\" stroke-width=\"1.00\" stroke-linecap=\"butt\" stroke-linejoin=\"miter\">\n",
       "\t<path stroke='black'  d='M130.6,474.7 L139.6,474.7 M841.1,474.7 L832.1,474.7  '/>\t<g transform=\"translate(122.3,479.2)\" stroke=\"none\" fill=\"black\" font-family=\"Arial\" font-size=\"12.00\"  text-anchor=\"end\">\n",
       "\t\t<text><tspan font-family=\"Arial\" >0.00002155</tspan></text>\n",
       "\t</g>\n",
       "</g>\n",
       "<g fill=\"none\" color=\"black\" stroke=\"currentColor\" stroke-width=\"1.00\" stroke-linecap=\"butt\" stroke-linejoin=\"miter\">\n",
       "\t<path stroke='black'  d='M130.6,412.9 L139.6,412.9 M841.1,412.9 L832.1,412.9  '/>\t<g transform=\"translate(122.3,417.4)\" stroke=\"none\" fill=\"black\" font-family=\"Arial\" font-size=\"12.00\"  text-anchor=\"end\">\n",
       "\t\t<text><tspan font-family=\"Arial\" >0.00002156</tspan></text>\n",
       "\t</g>\n",
       "</g>\n",
       "<g fill=\"none\" color=\"black\" stroke=\"currentColor\" stroke-width=\"1.00\" stroke-linecap=\"butt\" stroke-linejoin=\"miter\">\n",
       "\t<path stroke='black'  d='M130.6,351.1 L139.6,351.1 M841.1,351.1 L832.1,351.1  '/>\t<g transform=\"translate(122.3,355.6)\" stroke=\"none\" fill=\"black\" font-family=\"Arial\" font-size=\"12.00\"  text-anchor=\"end\">\n",
       "\t\t<text><tspan font-family=\"Arial\" >0.00002157</tspan></text>\n",
       "\t</g>\n",
       "</g>\n",
       "<g fill=\"none\" color=\"black\" stroke=\"currentColor\" stroke-width=\"1.00\" stroke-linecap=\"butt\" stroke-linejoin=\"miter\">\n",
       "\t<path stroke='black'  d='M130.6,289.3 L139.6,289.3 M841.1,289.3 L832.1,289.3  '/>\t<g transform=\"translate(122.3,293.8)\" stroke=\"none\" fill=\"black\" font-family=\"Arial\" font-size=\"12.00\"  text-anchor=\"end\">\n",
       "\t\t<text><tspan font-family=\"Arial\" >0.00002158</tspan></text>\n",
       "\t</g>\n",
       "</g>\n",
       "<g fill=\"none\" color=\"black\" stroke=\"currentColor\" stroke-width=\"1.00\" stroke-linecap=\"butt\" stroke-linejoin=\"miter\">\n",
       "\t<path stroke='black'  d='M130.6,227.5 L139.6,227.5 M841.1,227.5 L832.1,227.5  '/>\t<g transform=\"translate(122.3,232.0)\" stroke=\"none\" fill=\"black\" font-family=\"Arial\" font-size=\"12.00\"  text-anchor=\"end\">\n",
       "\t\t<text><tspan font-family=\"Arial\" >0.00002159</tspan></text>\n",
       "\t</g>\n",
       "</g>\n",
       "<g fill=\"none\" color=\"black\" stroke=\"currentColor\" stroke-width=\"1.00\" stroke-linecap=\"butt\" stroke-linejoin=\"miter\">\n",
       "\t<path stroke='black'  d='M130.6,165.7 L139.6,165.7 M841.1,165.7 L832.1,165.7  '/>\t<g transform=\"translate(122.3,170.2)\" stroke=\"none\" fill=\"black\" font-family=\"Arial\" font-size=\"12.00\"  text-anchor=\"end\">\n",
       "\t\t<text><tspan font-family=\"Arial\" >0.00002160</tspan></text>\n",
       "\t</g>\n",
       "</g>\n",
       "<g fill=\"none\" color=\"black\" stroke=\"currentColor\" stroke-width=\"1.00\" stroke-linecap=\"butt\" stroke-linejoin=\"miter\">\n",
       "\t<path stroke='black'  d='M130.6,103.9 L139.6,103.9 M841.1,103.9 L832.1,103.9  '/>\t<g transform=\"translate(122.3,108.4)\" stroke=\"none\" fill=\"black\" font-family=\"Arial\" font-size=\"12.00\"  text-anchor=\"end\">\n",
       "\t\t<text><tspan font-family=\"Arial\" >0.00002161</tspan></text>\n",
       "\t</g>\n",
       "</g>\n",
       "<g fill=\"none\" color=\"black\" stroke=\"currentColor\" stroke-width=\"1.00\" stroke-linecap=\"butt\" stroke-linejoin=\"miter\">\n",
       "\t<path stroke='black'  d='M130.6,42.1 L139.6,42.1 M841.1,42.1 L832.1,42.1  '/>\t<g transform=\"translate(122.3,46.6)\" stroke=\"none\" fill=\"black\" font-family=\"Arial\" font-size=\"12.00\"  text-anchor=\"end\">\n",
       "\t\t<text><tspan font-family=\"Arial\" >0.00002162</tspan></text>\n",
       "\t</g>\n",
       "</g>\n",
       "<g fill=\"none\" color=\"black\" stroke=\"currentColor\" stroke-width=\"1.00\" stroke-linecap=\"butt\" stroke-linejoin=\"miter\">\n",
       "\t<path stroke='black'  d='M130.6,536.5 L130.6,527.5 M130.6,42.1 L130.6,51.1  '/>\t<g transform=\"translate(130.6,559.0)\" stroke=\"none\" fill=\"black\" font-family=\"Arial\" font-size=\"12.00\"  text-anchor=\"middle\">\n",
       "\t\t<text><tspan font-family=\"Arial\" > 0.3</tspan></text>\n",
       "\t</g>\n",
       "</g>\n",
       "<g fill=\"none\" color=\"black\" stroke=\"currentColor\" stroke-width=\"1.00\" stroke-linecap=\"butt\" stroke-linejoin=\"miter\">\n",
       "\t<path stroke='black'  d='M219.4,536.5 L219.4,527.5 M219.4,42.1 L219.4,51.1  '/>\t<g transform=\"translate(219.4,559.0)\" stroke=\"none\" fill=\"black\" font-family=\"Arial\" font-size=\"12.00\"  text-anchor=\"middle\">\n",
       "\t\t<text><tspan font-family=\"Arial\" > 0.4</tspan></text>\n",
       "\t</g>\n",
       "</g>\n",
       "<g fill=\"none\" color=\"black\" stroke=\"currentColor\" stroke-width=\"1.00\" stroke-linecap=\"butt\" stroke-linejoin=\"miter\">\n",
       "\t<path stroke='black'  d='M308.2,536.5 L308.2,527.5 M308.2,42.1 L308.2,51.1  '/>\t<g transform=\"translate(308.2,559.0)\" stroke=\"none\" fill=\"black\" font-family=\"Arial\" font-size=\"12.00\"  text-anchor=\"middle\">\n",
       "\t\t<text><tspan font-family=\"Arial\" > 0.5</tspan></text>\n",
       "\t</g>\n",
       "</g>\n",
       "<g fill=\"none\" color=\"black\" stroke=\"currentColor\" stroke-width=\"1.00\" stroke-linecap=\"butt\" stroke-linejoin=\"miter\">\n",
       "\t<path stroke='black'  d='M397.0,536.5 L397.0,527.5 M397.0,42.1 L397.0,51.1  '/>\t<g transform=\"translate(397.0,559.0)\" stroke=\"none\" fill=\"black\" font-family=\"Arial\" font-size=\"12.00\"  text-anchor=\"middle\">\n",
       "\t\t<text><tspan font-family=\"Arial\" > 0.6</tspan></text>\n",
       "\t</g>\n",
       "</g>\n",
       "<g fill=\"none\" color=\"black\" stroke=\"currentColor\" stroke-width=\"1.00\" stroke-linecap=\"butt\" stroke-linejoin=\"miter\">\n",
       "\t<path stroke='black'  d='M485.8,536.5 L485.8,527.5 M485.8,42.1 L485.8,51.1  '/>\t<g transform=\"translate(485.8,559.0)\" stroke=\"none\" fill=\"black\" font-family=\"Arial\" font-size=\"12.00\"  text-anchor=\"middle\">\n",
       "\t\t<text><tspan font-family=\"Arial\" > 0.7</tspan></text>\n",
       "\t</g>\n",
       "</g>\n",
       "<g fill=\"none\" color=\"black\" stroke=\"currentColor\" stroke-width=\"1.00\" stroke-linecap=\"butt\" stroke-linejoin=\"miter\">\n",
       "\t<path stroke='black'  d='M574.7,536.5 L574.7,527.5 M574.7,42.1 L574.7,51.1  '/>\t<g transform=\"translate(574.7,559.0)\" stroke=\"none\" fill=\"black\" font-family=\"Arial\" font-size=\"12.00\"  text-anchor=\"middle\">\n",
       "\t\t<text><tspan font-family=\"Arial\" > 0.8</tspan></text>\n",
       "\t</g>\n",
       "</g>\n",
       "<g fill=\"none\" color=\"black\" stroke=\"currentColor\" stroke-width=\"1.00\" stroke-linecap=\"butt\" stroke-linejoin=\"miter\">\n",
       "\t<path stroke='black'  d='M663.5,536.5 L663.5,527.5 M663.5,42.1 L663.5,51.1  '/>\t<g transform=\"translate(663.5,559.0)\" stroke=\"none\" fill=\"black\" font-family=\"Arial\" font-size=\"12.00\"  text-anchor=\"middle\">\n",
       "\t\t<text><tspan font-family=\"Arial\" > 0.9</tspan></text>\n",
       "\t</g>\n",
       "</g>\n",
       "<g fill=\"none\" color=\"black\" stroke=\"currentColor\" stroke-width=\"1.00\" stroke-linecap=\"butt\" stroke-linejoin=\"miter\">\n",
       "\t<path stroke='black'  d='M752.3,536.5 L752.3,527.5 M752.3,42.1 L752.3,51.1  '/>\t<g transform=\"translate(752.3,559.0)\" stroke=\"none\" fill=\"black\" font-family=\"Arial\" font-size=\"12.00\"  text-anchor=\"middle\">\n",
       "\t\t<text><tspan font-family=\"Arial\" > 1</tspan></text>\n",
       "\t</g>\n",
       "</g>\n",
       "<g fill=\"none\" color=\"black\" stroke=\"currentColor\" stroke-width=\"1.00\" stroke-linecap=\"butt\" stroke-linejoin=\"miter\">\n",
       "\t<path stroke='black'  d='M841.1,536.5 L841.1,527.5 M841.1,42.1 L841.1,51.1  '/>\t<g transform=\"translate(841.1,559.0)\" stroke=\"none\" fill=\"black\" font-family=\"Arial\" font-size=\"12.00\"  text-anchor=\"middle\">\n",
       "\t\t<text><tspan font-family=\"Arial\" > 1.1</tspan></text>\n",
       "\t</g>\n",
       "</g>\n",
       "<g fill=\"none\" color=\"black\" stroke=\"currentColor\" stroke-width=\"1.00\" stroke-linecap=\"butt\" stroke-linejoin=\"miter\">\n",
       "\t<path stroke='black'  d='M841.1,536.5 L832.1,536.5  '/>\t<g transform=\"translate(849.4,541.0)\" stroke=\"none\" fill=\"black\" font-family=\"Arial\" font-size=\"12.00\"  text-anchor=\"start\">\n",
       "\t\t<text><tspan font-family=\"Arial\" > </tspan></text>\n",
       "\t</g>\n",
       "</g>\n",
       "<g fill=\"none\" color=\"black\" stroke=\"currentColor\" stroke-width=\"1.00\" stroke-linecap=\"butt\" stroke-linejoin=\"miter\">\n",
       "\t<path stroke='black'  d='M841.1,474.7 L832.1,474.7  '/>\t<g transform=\"translate(849.4,479.2)\" stroke=\"none\" fill=\"black\" font-family=\"Arial\" font-size=\"12.00\"  text-anchor=\"start\">\n",
       "\t\t<text><tspan font-family=\"Arial\" > </tspan></text>\n",
       "\t</g>\n",
       "</g>\n",
       "<g fill=\"none\" color=\"black\" stroke=\"currentColor\" stroke-width=\"1.00\" stroke-linecap=\"butt\" stroke-linejoin=\"miter\">\n",
       "\t<path stroke='black'  d='M841.1,412.9 L832.1,412.9  '/>\t<g transform=\"translate(849.4,417.4)\" stroke=\"none\" fill=\"black\" font-family=\"Arial\" font-size=\"12.00\"  text-anchor=\"start\">\n",
       "\t\t<text><tspan font-family=\"Arial\" > </tspan></text>\n",
       "\t</g>\n",
       "</g>\n",
       "<g fill=\"none\" color=\"black\" stroke=\"currentColor\" stroke-width=\"1.00\" stroke-linecap=\"butt\" stroke-linejoin=\"miter\">\n",
       "\t<path stroke='black'  d='M841.1,351.1 L832.1,351.1  '/>\t<g transform=\"translate(849.4,355.6)\" stroke=\"none\" fill=\"black\" font-family=\"Arial\" font-size=\"12.00\"  text-anchor=\"start\">\n",
       "\t\t<text><tspan font-family=\"Arial\" > </tspan></text>\n",
       "\t</g>\n",
       "</g>\n",
       "<g fill=\"none\" color=\"black\" stroke=\"currentColor\" stroke-width=\"1.00\" stroke-linecap=\"butt\" stroke-linejoin=\"miter\">\n",
       "\t<path stroke='black'  d='M841.1,289.3 L832.1,289.3  '/>\t<g transform=\"translate(849.4,293.8)\" stroke=\"none\" fill=\"black\" font-family=\"Arial\" font-size=\"12.00\"  text-anchor=\"start\">\n",
       "\t\t<text><tspan font-family=\"Arial\" > </tspan></text>\n",
       "\t</g>\n",
       "</g>\n",
       "<g fill=\"none\" color=\"black\" stroke=\"currentColor\" stroke-width=\"1.00\" stroke-linecap=\"butt\" stroke-linejoin=\"miter\">\n",
       "\t<path stroke='black'  d='M841.1,227.5 L832.1,227.5  '/>\t<g transform=\"translate(849.4,232.0)\" stroke=\"none\" fill=\"black\" font-family=\"Arial\" font-size=\"12.00\"  text-anchor=\"start\">\n",
       "\t\t<text><tspan font-family=\"Arial\" > </tspan></text>\n",
       "\t</g>\n",
       "</g>\n",
       "<g fill=\"none\" color=\"black\" stroke=\"currentColor\" stroke-width=\"1.00\" stroke-linecap=\"butt\" stroke-linejoin=\"miter\">\n",
       "\t<path stroke='black'  d='M841.1,165.7 L832.1,165.7  '/>\t<g transform=\"translate(849.4,170.2)\" stroke=\"none\" fill=\"black\" font-family=\"Arial\" font-size=\"12.00\"  text-anchor=\"start\">\n",
       "\t\t<text><tspan font-family=\"Arial\" > </tspan></text>\n",
       "\t</g>\n",
       "</g>\n",
       "<g fill=\"none\" color=\"black\" stroke=\"currentColor\" stroke-width=\"1.00\" stroke-linecap=\"butt\" stroke-linejoin=\"miter\">\n",
       "\t<path stroke='black'  d='M841.1,103.9 L832.1,103.9  '/>\t<g transform=\"translate(849.4,108.4)\" stroke=\"none\" fill=\"black\" font-family=\"Arial\" font-size=\"12.00\"  text-anchor=\"start\">\n",
       "\t\t<text><tspan font-family=\"Arial\" > </tspan></text>\n",
       "\t</g>\n",
       "</g>\n",
       "<g fill=\"none\" color=\"black\" stroke=\"currentColor\" stroke-width=\"1.00\" stroke-linecap=\"butt\" stroke-linejoin=\"miter\">\n",
       "\t<path stroke='black'  d='M841.1,42.1 L832.1,42.1  '/>\t<g transform=\"translate(849.4,46.6)\" stroke=\"none\" fill=\"black\" font-family=\"Arial\" font-size=\"12.00\"  text-anchor=\"start\">\n",
       "\t\t<text><tspan font-family=\"Arial\" > </tspan></text>\n",
       "\t</g>\n",
       "</g>\n",
       "<g fill=\"none\" color=\"black\" stroke=\"currentColor\" stroke-width=\"1.00\" stroke-linecap=\"butt\" stroke-linejoin=\"miter\">\n",
       "\t<path stroke='black'  d='M130.6,42.1 L130.6,51.1  '/>\t<g transform=\"translate(130.6,28.6)\" stroke=\"none\" fill=\"black\" font-family=\"Arial\" font-size=\"12.00\"  text-anchor=\"middle\">\n",
       "\t\t<text><tspan font-family=\"Arial\" > </tspan></text>\n",
       "\t</g>\n",
       "</g>\n",
       "<g fill=\"none\" color=\"black\" stroke=\"currentColor\" stroke-width=\"1.00\" stroke-linecap=\"butt\" stroke-linejoin=\"miter\">\n",
       "\t<path stroke='black'  d='M219.4,42.1 L219.4,51.1  '/>\t<g transform=\"translate(219.4,28.6)\" stroke=\"none\" fill=\"black\" font-family=\"Arial\" font-size=\"12.00\"  text-anchor=\"middle\">\n",
       "\t\t<text><tspan font-family=\"Arial\" > </tspan></text>\n",
       "\t</g>\n",
       "</g>\n",
       "<g fill=\"none\" color=\"black\" stroke=\"currentColor\" stroke-width=\"1.00\" stroke-linecap=\"butt\" stroke-linejoin=\"miter\">\n",
       "\t<path stroke='black'  d='M308.2,42.1 L308.2,51.1  '/>\t<g transform=\"translate(308.2,28.6)\" stroke=\"none\" fill=\"black\" font-family=\"Arial\" font-size=\"12.00\"  text-anchor=\"middle\">\n",
       "\t\t<text><tspan font-family=\"Arial\" > </tspan></text>\n",
       "\t</g>\n",
       "</g>\n",
       "<g fill=\"none\" color=\"black\" stroke=\"currentColor\" stroke-width=\"1.00\" stroke-linecap=\"butt\" stroke-linejoin=\"miter\">\n",
       "\t<path stroke='black'  d='M397.0,42.1 L397.0,51.1  '/>\t<g transform=\"translate(397.0,28.6)\" stroke=\"none\" fill=\"black\" font-family=\"Arial\" font-size=\"12.00\"  text-anchor=\"middle\">\n",
       "\t\t<text><tspan font-family=\"Arial\" > </tspan></text>\n",
       "\t</g>\n",
       "</g>\n",
       "<g fill=\"none\" color=\"black\" stroke=\"currentColor\" stroke-width=\"1.00\" stroke-linecap=\"butt\" stroke-linejoin=\"miter\">\n",
       "\t<path stroke='black'  d='M485.8,42.1 L485.8,51.1  '/>\t<g transform=\"translate(485.8,28.6)\" stroke=\"none\" fill=\"black\" font-family=\"Arial\" font-size=\"12.00\"  text-anchor=\"middle\">\n",
       "\t\t<text><tspan font-family=\"Arial\" > </tspan></text>\n",
       "\t</g>\n",
       "</g>\n",
       "<g fill=\"none\" color=\"black\" stroke=\"currentColor\" stroke-width=\"1.00\" stroke-linecap=\"butt\" stroke-linejoin=\"miter\">\n",
       "\t<path stroke='black'  d='M574.7,42.1 L574.7,51.1  '/>\t<g transform=\"translate(574.7,28.6)\" stroke=\"none\" fill=\"black\" font-family=\"Arial\" font-size=\"12.00\"  text-anchor=\"middle\">\n",
       "\t\t<text><tspan font-family=\"Arial\" > </tspan></text>\n",
       "\t</g>\n",
       "</g>\n",
       "<g fill=\"none\" color=\"black\" stroke=\"currentColor\" stroke-width=\"1.00\" stroke-linecap=\"butt\" stroke-linejoin=\"miter\">\n",
       "\t<path stroke='black'  d='M663.5,42.1 L663.5,51.1  '/>\t<g transform=\"translate(663.5,28.6)\" stroke=\"none\" fill=\"black\" font-family=\"Arial\" font-size=\"12.00\"  text-anchor=\"middle\">\n",
       "\t\t<text><tspan font-family=\"Arial\" > </tspan></text>\n",
       "\t</g>\n",
       "</g>\n",
       "<g fill=\"none\" color=\"black\" stroke=\"currentColor\" stroke-width=\"1.00\" stroke-linecap=\"butt\" stroke-linejoin=\"miter\">\n",
       "\t<path stroke='black'  d='M752.3,42.1 L752.3,51.1  '/>\t<g transform=\"translate(752.3,28.6)\" stroke=\"none\" fill=\"black\" font-family=\"Arial\" font-size=\"12.00\"  text-anchor=\"middle\">\n",
       "\t\t<text><tspan font-family=\"Arial\" > </tspan></text>\n",
       "\t</g>\n",
       "</g>\n",
       "<g fill=\"none\" color=\"black\" stroke=\"currentColor\" stroke-width=\"1.00\" stroke-linecap=\"butt\" stroke-linejoin=\"miter\">\n",
       "\t<path stroke='black'  d='M841.1,42.1 L841.1,51.1  '/>\t<g transform=\"translate(841.1,28.6)\" stroke=\"none\" fill=\"black\" font-family=\"Arial\" font-size=\"12.00\"  text-anchor=\"middle\">\n",
       "\t\t<text><tspan font-family=\"Arial\" > </tspan></text>\n",
       "\t</g>\n",
       "</g>\n",
       "<g fill=\"none\" color=\"black\" stroke=\"currentColor\" stroke-width=\"1.00\" stroke-linecap=\"butt\" stroke-linejoin=\"miter\">\n",
       "</g>\n",
       "<g fill=\"none\" color=\"black\" stroke=\"currentColor\" stroke-width=\"1.00\" stroke-linecap=\"butt\" stroke-linejoin=\"miter\">\n",
       "\t<path stroke='black'  d='M130.6,42.1 L130.6,536.5 L841.1,536.5 L841.1,42.1 L130.6,42.1 Z  '/></g>\n",
       "<g fill=\"none\" color=\"black\" stroke=\"currentColor\" stroke-width=\"1.00\" stroke-linecap=\"butt\" stroke-linejoin=\"miter\">\n",
       "\t<g transform=\"translate(26.5,289.3) rotate(270)\" stroke=\"none\" fill=\"black\" font-family=\"Arial\" font-size=\"12.00\"  text-anchor=\"middle\">\n",
       "\t\t<text><tspan font-family=\"Arial\" >p'</tspan></text>\n",
       "\t</g>\n",
       "</g>\n",
       "<g fill=\"none\" color=\"black\" stroke=\"currentColor\" stroke-width=\"1.00\" stroke-linecap=\"butt\" stroke-linejoin=\"miter\">\n",
       "\t<g transform=\"translate(485.8,586.0)\" stroke=\"none\" fill=\"black\" font-family=\"Arial\" font-size=\"12.00\"  text-anchor=\"middle\">\n",
       "\t\t<text><tspan font-family=\"Arial\" >x</tspan></text>\n",
       "\t</g>\n",
       "</g>\n",
       "<g fill=\"none\" color=\"black\" stroke=\"currentColor\" stroke-width=\"1.00\" stroke-linecap=\"butt\" stroke-linejoin=\"miter\">\n",
       "</g>\n",
       "\t<g id=\"gnuplot_plot_1a\" ><title>Ray</title>\n",
       "<g fill=\"none\" color=\"black\" stroke=\"currentColor\" stroke-width=\"1.00\" stroke-linecap=\"butt\" stroke-linejoin=\"miter\">\n",
       "\t<g transform=\"translate(799.5,69.1)\" stroke=\"none\" fill=\"black\" font-family=\"Arial\" font-size=\"16.00\"  text-anchor=\"start\">\n",
       "\t\t<text><tspan font-family=\"Arial\" >Ray</tspan></text>\n",
       "\t</g>\n",
       "</g>\n",
       "<g fill=\"none\" color=\"black\" stroke=\"currentColor\" stroke-width=\"1.00\" stroke-linecap=\"butt\" stroke-linejoin=\"miter\">\n",
       "\t<path stroke='rgb(255,   0,   0)'  d='M735.0,63.1 L788.4,63.1 M194.4,505.4 L200.2,510.2 L206.1,487.7 L211.9,480.0 L217.7,489.7 L223.5,474.4\n",
       "\t\tL229.3,454.8 L235.2,444.9 L241.0,463.9 L246.8,437.5 L252.6,423.9 L258.4,416.3 L264.3,430.1 L270.1,416.3\n",
       "\t\tL275.9,410.2 L281.7,406.2 L287.5,422.1 L293.3,420.3 L299.2,421.0 L305.0,437.0 L310.8,438.8 L316.6,441.9\n",
       "\t\tL322.4,463.1 L328.3,467.3 L334.1,466.4 L339.9,458.3 L345.7,472.0 L351.5,463.4 L357.3,483.7 L363.2,480.8\n",
       "\t\tL369.0,440.7 L374.8,423.7 L380.6,474.6 L386.4,424.6 L392.3,387.5 L398.1,370.4 L403.9,417.1 L409.7,363.5\n",
       "\t\tL415.5,339.7 L421.4,330.0 L427.2,304.0 L433.0,323.2 L438.8,316.5 L444.6,298.8 L450.4,288.5 L456.3,313.7\n",
       "\t\tL462.1,319.6 L467.9,318.4 L473.7,320.5 L479.5,326.9 L485.4,345.7 L491.2,342.7 L497.0,343.1 L502.8,342.2\n",
       "\t\tL508.6,353.5 L514.4,338.9 L520.3,332.5 L526.1,370.0 L531.9,325.1 L537.7,305.4 L543.5,294.4 L549.4,314.8\n",
       "\t\tL555.2,276.1 L561.0,260.2 L566.8,292.0 L572.6,252.8 L578.5,230.6 L584.3,224.9 L590.1,184.4 L595.9,208.8\n",
       "\t\tL601.7,206.5 L607.5,178.8 L613.4,178.1 L619.2,194.9 L625.0,207.8 L630.8,206.7 L636.6,210.2 L642.5,206.8\n",
       "\t\tL648.3,238.7 L654.1,234.5 L659.9,233.7 L665.7,226.5 L671.6,250.9 L677.4,234.8 L683.2,228.5 L689.0,271.1\n",
       "\t\tL694.8,225.9 L700.6,206.4 L706.5,198.3 L712.3,216.0 L718.1,179.2 L723.9,165.5 L729.7,154.7 L735.6,152.1\n",
       "\t\tL741.4,134.3 L747.2,132.8 L753.0,86.2 L758.8,105.4 L764.6,110.9 L770.5,122.9  '/></g>\n",
       "\t</g>\n",
       "<g fill=\"none\" color=\"#FFFFFF\" stroke=\"rgb(255,   0,   0)\" stroke-width=\"2.00\" stroke-linecap=\"butt\" stroke-linejoin=\"miter\">\n",
       "</g>\n",
       "<g fill=\"none\" color=\"black\" stroke=\"currentColor\" stroke-width=\"2.00\" stroke-linecap=\"butt\" stroke-linejoin=\"miter\">\n",
       "</g>\n",
       "<g fill=\"none\" color=\"black\" stroke=\"black\" stroke-width=\"1.00\" stroke-linecap=\"butt\" stroke-linejoin=\"miter\">\n",
       "</g>\n",
       "<g fill=\"none\" color=\"black\" stroke=\"currentColor\" stroke-width=\"1.00\" stroke-linecap=\"butt\" stroke-linejoin=\"miter\">\n",
       "\t<path stroke='black'  d='M130.6,42.1 L130.6,536.5 L841.1,536.5 L841.1,42.1 L130.6,42.1 Z  '/></g>\n",
       "<g fill=\"none\" color=\"black\" stroke=\"currentColor\" stroke-width=\"1.00\" stroke-linecap=\"butt\" stroke-linejoin=\"miter\">\n",
       "</g>\n",
       "</g>\n",
       "</svg>\n",
       "\n"
      ]
     },
     "metadata": {},
     "output_type": "display_data"
    }
   ],
   "source": [
    "using BoSSS.Solution.CompressibleFlowCommon;\n",
    "double densityL=1, pressureL=1,MachL=1.5,gamma=1.4;\n",
    "double cL = Math.Sqrt(gamma * pressureL / densityL);\n",
    "double velocityL = MachL * cL;\n",
    "(double densityR, double velocityR, double pressureR, double cR, double MachR)\n",
    "    = CompressibleHelperFunc.ComputeNormalShockWaveRelations(densityL, velocityL, pressureL, MachL, gamma);\n",
    "(double[] xVals, double[]yVals) GetPlotAlongRay(double xMax, int nRef,string field,ISessionInfo si, double xa, double xs){\n",
    "//double shockPosition=0.5;\n",
    "var inc_speed= xa<xs? (velocityL + cL): (velocityR - cR);\n",
    "var tstar= (xs-xa)/inc_speed;\n",
    "Func<double,double> X_s = t => (velocityR + cR)*t+ (xs-tstar*(velocityR + cR));\n",
    "double tEnd= (xMax - (xs-tstar*(velocityR + cR)))/(velocityR + cR);\n",
    "var eps=5e-2;\n",
    "var p1= new double[] {X_s(tstar+eps),tstar+eps};\n",
    "var p2=new double[] {xMax,tEnd};\n",
    "\n",
    "//timesteps to compare\n",
    "var tiEnd=si.Timesteps.Last();\n",
    "\n",
    "// # use p_per from BoSSS \n",
    "var pEnd =tiEnd.GetField(field);\n",
    "double[] yVals=pEnd.EvaluateAlongLine(p1,p2,nRef);\n",
    "double[] xVals= GenericBlas.Linspace(tstar,tEnd,nRef);\n",
    "return(xVals,yVals);\n",
    "}\n",
    "\n",
    "Plot2Ddata[,] multiplotsPressure = new Plot2Ddata[1,1];\n",
    "foreach(var si in ses.Where(si => si.Name.Contains(\"_xCells61_tCells61_tMax1.5_bump_Mach1.5_sP1.5_wP0_ampneg0_amppos1E-05_wLTrue_wSTrue_wL0.8\"))){\n",
    "    //catch tmax value\n",
    "    string pattern = @\"tMax(\\d+(\\.\\d+)?)\";\n",
    "    Match match = Regex.Match(si.Name, pattern);\n",
    "    double tMax = 1.5;\n",
    "    try{\n",
    "        tMax = double.Parse(match.Groups[1].Value)-eps;\n",
    "    }catch{\n",
    "    }\n",
    "\n",
    "    // catch shock position\n",
    "    pattern = @\"sP(\\d+(\\.\\d+)?)\";\n",
    "    Match match2 = Regex.Match(si.Name, pattern);\n",
    "    double xs = 1.5;\n",
    "    try{\n",
    "        xs = double.Parse(match2.Groups[1].Value);\n",
    "    }catch{\n",
    "    }\n",
    "\n",
    "    // catch wave positions\n",
    "    pattern = @\"wP(\\d+(\\.\\d+)?)\";\n",
    "    match = Regex.Match(si.Name, pattern);\n",
    "    double wP = 0.0;\n",
    "    try{\n",
    "        wP = double.Parse(match.Groups[1].Value);\n",
    "    }catch{\n",
    "    }\n",
    "\n",
    "    // catch wave length and convert to position of amplitude\n",
    "    pattern = @\"wL(\\d+(\\.\\d+)?)\";\n",
    "    match = Regex.Match(si.Name, pattern);\n",
    "    double xa = 1.5;\n",
    "    try{\n",
    "        if(si.Name.Contains(\"1sinus\")){\n",
    "            xa = wP+double.Parse(match.Groups[1].Value)/4;\n",
    "        }else{\n",
    "            xa = wP+double.Parse(match.Groups[1].Value)/2;\n",
    "        }\n",
    "        \n",
    "    }catch{\n",
    "    }\n",
    "\n",
    "\n",
    "\n",
    "\n",
    "    Console.WriteLine($\"doing:{si.Name}; tMax:{tMax}\");\n",
    "    Console.WriteLine($\"Catched: wP{wP}, xa{xa},xs{xs}\");\n",
    "    string field=\"p_per\";\n",
    "    string csvFileName = si.Name + \"_p_per_Ray.csv\";\n",
    "    using (StreamWriter writer = new StreamWriter(csvFileName))\n",
    "        {\n",
    "            var plot= new Plot2Ddata();\n",
    "            plot.Xlabel=\"x\";\n",
    "            plot.Ylabel=\"p'\";\n",
    "            //Console.WriteLine(t);\n",
    "            (double[] xVals,double[] yVals)=GetPlotAlongRay(xMax,xRef,field, si,xa,xs);\n",
    "            Console.WriteLine($\"AverageAlongRay: {yVals.Average()}\");\n",
    "            plot.AddDataGroup(\"Ray\",xVals,yVals,fmt);\n",
    "            multiplotsPressure[0,0]=plot;\n",
    "            // Write header row\n",
    "            writer.WriteLine($\"x/t,{string.Join(\",\", xVals)}\");\n",
    "            \n",
    "            // Write data row\n",
    "            writer.WriteLine($\"Ray,{string.Join(\",\", yVals)}\");\n",
    "                    \n",
    "        }\n",
    "};\n",
    "\n",
    "multiplotsPressure.ToGnuplot().PlotSVG(xRes:900,yRes:600)\n",
    "//    plot => { plot.YrangeMin = -1.5 * 1e-5; plot.YrangeMax = 1.5 * 1e-5; });A\n"
   ]
  },
  {
   "cell_type": "code",
   "execution_count": null,
   "metadata": {
    "dotnet_interactive": {
     "language": "csharp"
    },
    "polyglot_notebook": {
     "kernelName": "csharp"
    }
   },
   "outputs": [],
   "source": []
  }
 ],
 "metadata": {
  "kernelspec": {
   "display_name": ".NET (C#)",
   "language": "C#",
   "name": ".net-csharp"
  },
  "language_info": {
   "name": "polyglot-notebook"
  },
  "polyglot_notebook": {
   "kernelInfo": {
    "defaultKernelName": "csharp",
    "items": [
     {
      "aliases": [],
      "name": ".NET"
     },
     {
      "aliases": [
       "C#",
       "c#"
      ],
      "languageName": "C#",
      "name": "csharp"
     },
     {
      "aliases": [
       "F#",
       "f#"
      ],
      "languageName": "F#",
      "name": "fsharp"
     },
     {
      "aliases": [],
      "languageName": "HTML",
      "name": "html"
     },
     {
      "aliases": [
       "js"
      ],
      "languageName": "JavaScript",
      "name": "javascript"
     },
     {
      "aliases": [],
      "languageName": "KQL",
      "name": "kql"
     },
     {
      "aliases": [],
      "languageName": "Mermaid",
      "name": "mermaid"
     },
     {
      "aliases": [
       "powershell"
      ],
      "languageName": "PowerShell",
      "name": "pwsh"
     },
     {
      "aliases": [],
      "languageName": "SQL",
      "name": "sql"
     },
     {
      "aliases": [],
      "name": "value"
     },
     {
      "aliases": [
       "frontend"
      ],
      "name": "vscode"
     },
     {
      "aliases": [],
      "name": "webview"
     }
    ]
   }
  }
 },
 "nbformat": 4,
 "nbformat_minor": 2
}

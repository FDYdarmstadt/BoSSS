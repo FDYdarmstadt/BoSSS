{
 "cells": [
  {
   "cell_type": "code",
   "execution_count": 1,
   "metadata": {
    "dotnet_interactive": {
     "language": "csharp"
    }
   },
   "outputs": [],
   "source": [
    "#r \".\\binaries\\BoSSSpad.dll\"\n",
    "#r \".\\binaries\\XESF.dll\"\n",
    "#r \".\\binaries\\ApplicationWithIDT.dll\"\n",
    "using System;\n",
    "using System.Collections.Generic;\n",
    "using System.Linq;\n",
    "using ilPSP;\n",
    "using ilPSP.Utils;\n",
    "using BoSSS.Platform;\n",
    "using BoSSS.Platform.LinAlg;\n",
    "using BoSSS.Foundation;\n",
    "using BoSSS.Foundation.XDG;\n",
    "using BoSSS.Foundation.Grid;\n",
    "using BoSSS.Foundation.Grid.Classic;\n",
    "using BoSSS.Foundation.Grid.RefElements;\n",
    "using BoSSS.Foundation.IO;\n",
    "using BoSSS.Solution;\n",
    "using BoSSS.Solution.Control;\n",
    "using BoSSS.Solution.GridImport;\n",
    "using BoSSS.Solution.Statistic;\n",
    "using BoSSS.Solution.Utils;\n",
    "using BoSSS.Solution.AdvancedSolvers;\n",
    "using BoSSS.Solution.Gnuplot;\n",
    "using BoSSS.Application.BoSSSpad;\n",
    "using BoSSS.Application.XNSE_Solver;\n",
    "using ApplicationWithIDT;\n",
    "using XESF;\n",
    "using static BoSSS.Application.BoSSSpad.BoSSSshell;\n",
    "Init();\n"
   ]
  },
  {
   "attachments": {},
   "cell_type": "markdown",
   "metadata": {},
   "source": [
    "# Run Simulation"
   ]
  },
  {
   "cell_type": "code",
   "execution_count": 2,
   "metadata": {
    "dotnet_interactive": {
     "language": "csharp"
    },
    "polyglot_notebook": {
     "kernelName": "csharp"
    }
   },
   "outputs": [
    {
     "data": {
      "text/plain": [
       "02042024"
      ]
     },
     "metadata": {},
     "output_type": "display_data"
    }
   ],
   "source": [
    "var date = DateTime.Now.ToString(\"ddMMyyyy\");\n",
    "date"
   ]
  },
  {
   "attachments": {},
   "cell_type": "markdown",
   "metadata": {},
   "source": [
    "open a database"
   ]
  },
  {
   "cell_type": "code",
   "execution_count": 3,
   "metadata": {
    "dotnet_interactive": {
     "language": "csharp"
    },
    "polyglot_notebook": {
     "kernelName": "csharp"
    }
   },
   "outputs": [],
   "source": [
    "string dbPath = @\"WedgeFlow_db_\" + date ;\n",
    "var database = OpenOrCreateDatabase(dbPath);"
   ]
  },
  {
   "attachments": {},
   "cell_type": "markdown",
   "metadata": {},
   "source": [
    "run WedgeFlow simulation and safe to database"
   ]
  },
  {
   "cell_type": "code",
   "execution_count": 4,
   "metadata": {
    "dotnet_interactive": {
     "language": "csharp"
    },
    "polyglot_notebook": {
     "kernelName": "csharp"
    }
   },
   "outputs": [
    {
     "ename": "Error",
     "evalue": "System.ApplicationException: trying to call a ParallelFor inside of a ParallelFor\r\n   at ilPSP.Environment.ParallelFor[TLocal](Int32 fromInclusive, Int32 toExclusive, Func`1 localInit, Func`4 body, Action`1 localFinally, Boolean enablePar) in C:\\experimental\\public\\src\\ilPSP\\layer_1.2-ilPSP\\ilPSP\\Environment.cs:line 282\r\n   at ilPSP.LinSolvers.BlockMsrMatrix.SpMV[VectorType1,VectorType2](Double alpha, VectorType1 _a, Double beta, VectorType2 acc)\r\n   at BoSSS.Foundation.XDG.XDGField.ProjectFunctionXDG(Double alpha, Func`4 f, IList`1 speciesToEvaluateIDs, XDGField[] U) in C:\\experimental\\public\\src\\L2-foundation\\BoSSS.Foundation.XDG\\XDGField_AlgOperations.cs:line 86\r\n   at XESF.Variables.XESFVariables.<>c.<.cctor>b__24_7(XDGField dgField, XESFMain program) in C:\\experimental\\public\\src\\L4-application\\XESF\\Variables\\XESFVariables.cs:line 260\r\n   at XESF.XESFMain.UpdateDerivedVariables() in C:\\experimental\\public\\src\\L4-application\\XESF\\XESFMain.cs:line 1114\r\n   at ApplicationWithIDT.ApplicationWithIDT`1.PlotCurrentState(Double physTime, TimestepNumber timestepNo, Int32 superSampling) in C:\\experimental\\public\\src\\L4-application\\ApplicationWithIDT\\ApplicationWithIDT.cs:line 1324\r\n   at ApplicationWithIDT.ApplicationWithIDT`1.RunSolverOneStep(Int32 TimestepNo, Double phystime, Double dt) in C:\\experimental\\public\\src\\L4-application\\ApplicationWithIDT\\ApplicationWithIDT.cs:line 651\r\n   at BoSSS.Solution.Application`1.RunSolverModeInternal() in C:\\experimental\\public\\src\\L3-solution\\BoSSS.Solution\\Application.cs:line 2438\r\n   at BoSSS.Solution.Application`1.RunSolverMode() in C:\\experimental\\public\\src\\L3-solution\\BoSSS.Solution\\Application.cs:line 2242\r\n   at Submission#5.<<Initialize>>d__0.MoveNext()\r\n--- End of stack trace from previous location ---\r\n   at Microsoft.CodeAnalysis.Scripting.ScriptExecutionState.RunSubmissionsAsync[TResult](ImmutableArray`1 precedingExecutors, Func`2 currentExecutor, StrongBox`1 exceptionHolderOpt, Func`2 catchExceptionOpt, CancellationToken cancellationToken)",
     "output_type": "error",
     "traceback": [
      "System.ApplicationException: trying to call a ParallelFor inside of a ParallelFor\r\n",
      "   at ilPSP.Environment.ParallelFor[TLocal](Int32 fromInclusive, Int32 toExclusive, Func`1 localInit, Func`4 body, Action`1 localFinally, Boolean enablePar) in C:\\experimental\\public\\src\\ilPSP\\layer_1.2-ilPSP\\ilPSP\\Environment.cs:line 282\r\n",
      "   at ilPSP.LinSolvers.BlockMsrMatrix.SpMV[VectorType1,VectorType2](Double alpha, VectorType1 _a, Double beta, VectorType2 acc)\r\n",
      "   at BoSSS.Foundation.XDG.XDGField.ProjectFunctionXDG(Double alpha, Func`4 f, IList`1 speciesToEvaluateIDs, XDGField[] U) in C:\\experimental\\public\\src\\L2-foundation\\BoSSS.Foundation.XDG\\XDGField_AlgOperations.cs:line 86\r\n",
      "   at XESF.Variables.XESFVariables.<>c.<.cctor>b__24_7(XDGField dgField, XESFMain program) in C:\\experimental\\public\\src\\L4-application\\XESF\\Variables\\XESFVariables.cs:line 260\r\n",
      "   at XESF.XESFMain.UpdateDerivedVariables() in C:\\experimental\\public\\src\\L4-application\\XESF\\XESFMain.cs:line 1114\r\n",
      "   at ApplicationWithIDT.ApplicationWithIDT`1.PlotCurrentState(Double physTime, TimestepNumber timestepNo, Int32 superSampling) in C:\\experimental\\public\\src\\L4-application\\ApplicationWithIDT\\ApplicationWithIDT.cs:line 1324\r\n",
      "   at ApplicationWithIDT.ApplicationWithIDT`1.RunSolverOneStep(Int32 TimestepNo, Double phystime, Double dt) in C:\\experimental\\public\\src\\L4-application\\ApplicationWithIDT\\ApplicationWithIDT.cs:line 651\r\n",
      "   at BoSSS.Solution.Application`1.RunSolverModeInternal() in C:\\experimental\\public\\src\\L3-solution\\BoSSS.Solution\\Application.cs:line 2438\r\n",
      "   at BoSSS.Solution.Application`1.RunSolverMode() in C:\\experimental\\public\\src\\L3-solution\\BoSSS.Solution\\Application.cs:line 2242\r\n",
      "   at Submission#5.<<Initialize>>d__0.MoveNext()\r\n",
      "--- End of stack trace from previous location ---\r\n",
      "   at Microsoft.CodeAnalysis.Scripting.ScriptExecutionState.RunSubmissionsAsync[TResult](ImmutableArray`1 precedingExecutors, Func`2 currentExecutor, StrongBox`1 exceptionHolderOpt, Func`2 catchExceptionOpt, CancellationToken cancellationToken)"
     ]
    }
   ],
   "source": [
    "BoSSS.Solution.Application.InitMPI();\n",
    "BoSSS.Solution.Application.DeleteOldPlotFiles();\n",
    "var p = new XESFMain();\n",
    "\n",
    "var C = XESFHardCodedControl.XDGWedgeFlow_TwoLs_Base(\n",
    "                    optiLSDegree: 1,\n",
    "                    lsDegree: 1,\n",
    "                    shocksetup: ApplicationWithIDT.GetLevelSet.FromFunction,\n",
    "                    optiLevelSetType: OptiLevelSetType.SplineLevelSet,\n",
    "                    initialValue: ApplicationWithIDT.GetInitialValue.FromFunctionPerSpecies,\n",
    "                    MaxIterations: 200,\n",
    "                    dgDegree: 0,\n",
    "                    numOfCellsX: 15,\n",
    "                    numOfCellsY: 10,\n",
    "                    initialAngle_shockLS: 32,\n",
    "                    PlotInterval: -1,\n",
    "                    interfaceFluxLS2: XESF.Fluxes.ConvectiveInterfaceFluxes.GodunovInterface,\n",
    "                    bulkFlux: XESF.Fluxes.ConvectiveBulkFluxes.OptimizedHLLC,\n",
    "                    FluxVersion: XESF.Fluxes.FluxVersion.Optimized,\n",
    "                    agg: 0.4,\n",
    "                    globalization: ApplicationWithIDT.GlobalizationStrategy.LineSearch\n",
    "                    );\n",
    "p.Init(C);\n",
    "p.RunSolverMode();\n"
   ]
  },
  {
   "attachments": {},
   "cell_type": "markdown",
   "metadata": {},
   "source": [
    "# Postprocessing"
   ]
  },
  {
   "cell_type": "markdown",
   "metadata": {},
   "source": [
    "we need to load something from the ApplicationWithIDT assembly "
   ]
  },
  {
   "cell_type": "code",
   "execution_count": 5,
   "metadata": {
    "dotnet_interactive": {
     "language": "csharp"
    }
   },
   "outputs": [
    {
     "ename": "Error",
     "evalue": "(1,1): error CS0246: The type or namespace name 'Assembler' could not be found (are you missing a using directive or an assembly reference?)\r\n(1,21): error CS0246: The type or namespace name 'Assembler' could not be found (are you missing a using directive or an assembly reference?)",
     "output_type": "error",
     "traceback": [
      "(1,1): error CS0246: The type or namespace name 'Assembler' could not be found (are you missing a using directive or an assembly reference?)\r\n",
      "(1,21): error CS0246: The type or namespace name 'Assembler' could not be found (are you missing a using directive or an assembly reference?)"
     ]
    }
   ],
   "source": [
    "Assembler aaa = new Assembler(3);\n",
    "var si = database.Sessions.Pick(0);"
   ]
  },
  {
   "attachments": {},
   "cell_type": "markdown",
   "metadata": {},
   "source": [
    "## Enthalpy error"
   ]
  },
  {
   "attachments": {},
   "cell_type": "markdown",
   "metadata": {},
   "source": [
    "enthalpy is computed as\n",
    "$$h=\\frac{(\\rho E + p)}{\\rho},~ p=(c_P -1)(\\rho E - k),~k=c_P \\text{Ma}^2\\frac{\\rho }{2}(\\vert u\\vert^2 + \\vert v\\vert^2)$$"
   ]
  },
  {
   "attachments": {},
   "cell_type": "markdown",
   "metadata": {},
   "source": [
    "For an uniform inviscid flow the inflow enthalpy should remain constant throughout the flowfield \n",
    "\n",
    "As we have uniform inflow the v-velocity is zero and we have\n",
    "$$ h_{in} = \\frac{\\gamma}{\\gamma-1} + \\frac{1}{2}u_{in}^2 $$\n",
    "We prescribe the inflow conditions in terms of pressure $p_{in}=1$, density $\\rho_{in}=1$ and the Mach number $M_{in}=2$. From those the velocity is computed as \n",
    "$$ u_{in} = M_{in} \\sqrt{\\gamma \\frac{p_{in}}{\\rho_{in}}}= 2\\sqrt{\\gamma}$$"
   ]
  },
  {
   "cell_type": "code",
   "execution_count": 6,
   "metadata": {
    "dotnet_interactive": {
     "language": "csharp"
    },
    "polyglot_notebook": {
     "kernelName": "csharp"
    }
   },
   "outputs": [
    {
     "ename": "Error",
     "evalue": "(2,31): error CS0103: The name 'si' does not exist in the current context",
     "output_type": "error",
     "traceback": [
      "(2,31): error CS0103: The name 'si' does not exist in the current context"
     ]
    }
   ],
   "source": [
    "using BoSSS.Solution.CompressibleFlowCommon.MaterialProperty;\n",
    "var enthalpy_end = (XDGField) si.Timesteps.Last().GetField(\"h\");\n",
    "var enthalpy_exact = (XDGField) enthalpy_end.Clone();\n",
    "double gamma = IdealGas.Air.HeatCapacityRatio;\n",
    "double Ms = 2;\n",
    "double densityLeft = 1;\n",
    "double pressureLeft = 1;\n",
    "double velocityXLeft = Ms * Math.Sqrt(gamma * pressureLeft / densityLeft);\n",
    "\n",
    "(gamma)/(gamma-1) + 0.5*velocityXLeft*velocityXLeft"
   ]
  },
  {
   "cell_type": "code",
   "execution_count": 7,
   "metadata": {
    "dotnet_interactive": {
     "language": "csharp"
    }
   },
   "outputs": [
    {
     "ename": "Error",
     "evalue": "(1,24): error CS0103: The name 'gamma' does not exist in the current context\r\n(1,32): error CS0103: The name 'gamma' does not exist in the current context\r\n(1,47): error CS0103: The name 'velocityXLeft' does not exist in the current context\r\n(1,61): error CS0103: The name 'velocityXLeft' does not exist in the current context\r\n(6,11): error CS0103: The name 'enthalpy_exact' does not exist in the current context\r\n(2,1): error CS0103: The name 'enthalpy_exact' does not exist in the current context\r\n(3,1): error CS0103: The name 'enthalpy_exact' does not exist in the current context\r\n(4,1): error CS0103: The name 'enthalpy_exact' does not exist in the current context\r\n(5,1): error CS0103: The name 'enthalpy_exact' does not exist in the current context",
     "output_type": "error",
     "traceback": [
      "(1,24): error CS0103: The name 'gamma' does not exist in the current context\r\n",
      "(1,32): error CS0103: The name 'gamma' does not exist in the current context\r\n",
      "(1,47): error CS0103: The name 'velocityXLeft' does not exist in the current context\r\n",
      "(1,61): error CS0103: The name 'velocityXLeft' does not exist in the current context\r\n",
      "(6,11): error CS0103: The name 'enthalpy_exact' does not exist in the current context\r\n",
      "(2,1): error CS0103: The name 'enthalpy_exact' does not exist in the current context\r\n",
      "(3,1): error CS0103: The name 'enthalpy_exact' does not exist in the current context\r\n",
      "(4,1): error CS0103: The name 'enthalpy_exact' does not exist in the current context\r\n",
      "(5,1): error CS0103: The name 'enthalpy_exact' does not exist in the current context"
     ]
    }
   ],
   "source": [
    "var enthalpy_inflow = (gamma)/(gamma-1) + 0.5*velocityXLeft*velocityXLeft;\n",
    "enthalpy_exact.Clear();\n",
    "enthalpy_exact.GetSpeciesShadowField(\"L\").ProjectField(1.0,t => enthalpy_inflow);\n",
    "enthalpy_exact.GetSpeciesShadowField(\"R\").ProjectField(1.0,t => enthalpy_inflow);\n",
    "enthalpy_exact.Identification= \"h_exact\";\n",
    "var EEN = enthalpy_exact.L2NormAllSpecies();"
   ]
  },
  {
   "cell_type": "code",
   "execution_count": 8,
   "metadata": {
    "dotnet_interactive": {
     "language": "csharp"
    },
    "polyglot_notebook": {
     "kernelName": "csharp"
    }
   },
   "outputs": [
    {
     "ename": "Error",
     "evalue": "(1,22): error CS0103: The name 'si' does not exist in the current context\r\n(1,25): error CS0103: The name 'EEN' does not exist in the current context",
     "output_type": "error",
     "traceback": [
      "(1,22): error CS0103: The name 'si' does not exist in the current context\r\n",
      "(1,25): error CS0103: The name 'EEN' does not exist in the current context"
     ]
    }
   ],
   "source": [
    "p.GetResEnthalpyPlot(si,EEN).ToGnuplot().PlotSVG(xRes:1200,yRes:500)"
   ]
  },
  {
   "cell_type": "code",
   "execution_count": 9,
   "metadata": {
    "dotnet_interactive": {
     "language": "csharp"
    },
    "polyglot_notebook": {
     "kernelName": "csharp"
    }
   },
   "outputs": [
    {
     "ename": "Error",
     "evalue": "(1,20): error CS0103: The name 'si' does not exist in the current context",
     "output_type": "error",
     "traceback": [
      "(1,20): error CS0103: The name 'si' does not exist in the current context"
     ]
    }
   ],
   "source": [
    "p.PlotShadowFields(si);"
   ]
  }
 ],
 "metadata": {
  "kernelspec": {
   "display_name": ".NET (C#)",
   "language": "C#",
   "name": ".net-csharp"
  },
  "language_info": {
   "name": "polyglot-notebook"
  },
  "polyglot_notebook": {
   "kernelInfo": {
    "defaultKernelName": "csharp",
    "items": [
     {
      "aliases": [],
      "name": ".NET"
     },
     {
      "aliases": [
       "C#",
       "c#"
      ],
      "languageName": "C#",
      "name": "csharp"
     },
     {
      "aliases": [
       "F#",
       "f#"
      ],
      "languageName": "F#",
      "name": "fsharp"
     },
     {
      "aliases": [],
      "languageName": "HTML",
      "name": "html"
     },
     {
      "aliases": [
       "js"
      ],
      "languageName": "JavaScript",
      "name": "javascript"
     },
     {
      "aliases": [],
      "languageName": "KQL",
      "name": "kql"
     },
     {
      "aliases": [],
      "languageName": "Mermaid",
      "name": "mermaid"
     },
     {
      "aliases": [
       "powershell"
      ],
      "languageName": "PowerShell",
      "name": "pwsh"
     },
     {
      "aliases": [],
      "languageName": "SQL",
      "name": "sql"
     },
     {
      "aliases": [],
      "name": "value"
     },
     {
      "aliases": [
       "frontend"
      ],
      "name": "vscode"
     },
     {
      "aliases": [],
      "name": "webview"
     }
    ]
   }
  }
 },
 "nbformat": 4,
 "nbformat_minor": 2
}

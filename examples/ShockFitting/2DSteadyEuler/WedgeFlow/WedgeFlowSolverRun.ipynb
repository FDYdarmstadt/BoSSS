{
 "cells": [
  {
   "cell_type": "code",
   "execution_count": 1,
   "metadata": {
    "dotnet_interactive": {
     "language": "csharp"
    }
   },
   "outputs": [],
   "source": [
    "#r \".\\binaries\\BoSSSpad.dll\"\n",
    "#r \".\\binaries\\XESF.dll\"\n",
    "#r \".\\binaries\\ApplicationWithIDT.dll\"\n",
    "using System;\n",
    "using System.Collections.Generic;\n",
    "using System.Linq;\n",
    "using ilPSP;\n",
    "using ilPSP.Utils;\n",
    "using BoSSS.Platform;\n",
    "using BoSSS.Platform.LinAlg;\n",
    "using BoSSS.Foundation;\n",
    "using BoSSS.Foundation.XDG;\n",
    "using BoSSS.Foundation.Grid;\n",
    "using BoSSS.Foundation.Grid.Classic;\n",
    "using BoSSS.Foundation.Grid.RefElements;\n",
    "using BoSSS.Foundation.IO;\n",
    "using BoSSS.Solution;\n",
    "using BoSSS.Solution.Control;\n",
    "using BoSSS.Solution.GridImport;\n",
    "using BoSSS.Solution.Statistic;\n",
    "using BoSSS.Solution.Utils;\n",
    "using BoSSS.Solution.AdvancedSolvers;\n",
    "using BoSSS.Solution.Gnuplot;\n",
    "using BoSSS.Application.BoSSSpad;\n",
    "using BoSSS.Application.XNSE_Solver;\n",
    "using ApplicationWithIDT;\n",
    "using XESF;\n",
    "using static BoSSS.Application.BoSSSpad.BoSSSshell;\n",
    "Init();\n"
   ]
  },
  {
   "attachments": {},
   "cell_type": "markdown",
   "metadata": {},
   "source": [
    "# Run Simulation"
   ]
  },
  {
   "attachments": {},
   "cell_type": "markdown",
   "metadata": {},
   "source": [
    "open a database"
   ]
  },
  {
   "cell_type": "code",
   "execution_count": 2,
   "metadata": {
    "dotnet_interactive": {
     "language": "csharp"
    },
    "polyglot_notebook": {
     "kernelName": "csharp"
    }
   },
   "outputs": [
    {
     "name": "stdout",
     "output_type": "stream",
     "text": [
      "Creating database 'WedgeFlow_db'.\r\n"
     ]
    }
   ],
   "source": [
    "string dbPath = @\"WedgeFlow_db\";\n",
    "var database = OpenOrCreateDatabase(dbPath);"
   ]
  },
  {
   "attachments": {},
   "cell_type": "markdown",
   "metadata": {},
   "source": [
    "run WedgeFlow simulation and safe to database"
   ]
  },
  {
   "cell_type": "code",
   "execution_count": 3,
   "metadata": {
    "dotnet_interactive": {
     "language": "csharp"
    },
    "polyglot_notebook": {
     "kernelName": "csharp"
    }
   },
   "outputs": [
    {
     "name": "stdout",
     "output_type": "stream",
     "text": [
      "rm;\n",
      "Grid Edge Tags changed.\n",
      "Session ID: 00000000-0000-0000-0000-000000000000, DB path: 'EMPTY'\n",
      "Session directory 'EMPTY\\sessions\\00000000-0000-0000-0000-000000000000'.\n",
      "Grid repartitioning method: METIS\n",
      "Grid repartitioning options: \n",
      "Number of cell Weights: 0\n",
      "\n",
      "\n",
      "*****************************************************************************************\n",
      "*  X   X   DDD   GGG   -   III  SSS  TTTTT  *\n",
      "*   X X    D  D G      -    I  S      T     *\n",
      "*    X     D  D G  GG  -    I   SSS   T     *      XDG Implicit Shock Tracking Solver    \n",
      "*   X X    D  D G   G  -    I      S  T     *\n",
      "*  X   X   DDD   GGG   -   III  SSS   T     *\n",
      "*****************************************************************************************\n",
      "*  \n",
      "*  solver:                             XESF.XESFMain\n",
      "*  project:                            XESFWedgeFlow_TwoLs\n",
      "*  session:                            WedgeFlow_TwoLs_p0_xCells15_yCells10_GodunovInterface_iterations200_angle32_lSDegree1_GlobLineSearch_agg0.4_\n",
      "*  optimization problem:               FullEnRes\n",
      "*  merit function:                     L1Merit\n",
      "*  level set type:                     SplineLevelSet\n",
      "*  solver type:                        Standard\n",
      "*  f_phi type:                         None\n",
      "*  globalization strategy:             LineSearch\n",
      "*  initial value from:                 FromFunctionPerSpecies\n",
      "*  \n",
      "******************************* Params ************************************************\n",
      "*  Solution Degree:                    0\n",
      "*  OptiLevelSet Degree:                1\n",
      "*  Level Set Degree:                   1\n",
      "*  Level Set Two Degree:               1\n",
      "*  Max Iterations:                     200\n",
      "*  Agglomeration Threshold:            0.4\n",
      "*  Regularization Params:\n",
      "*    Gamma Max:                        1\n",
      "*    Gamma Min:                        0.0001\n",
      "*    Gamma Start:                      1\n",
      "*  Globalization Params:\n",
      "*    Alpha Min:                        1E-08\n",
      "*    Alpha Start:                      1\n",
      "*    Mu Start:                         1\n",
      "*    Mu Max:                           1000000\n",
      "*    Mu Omega:                         1.2\n",
      "*    Mu Rho:                           0.95\n",
      "*  Level Set penalty Params:\n",
      "*    Kappa Xi:                         1\n",
      "*    Kappa M:                          100\n",
      "*    Kappa Min:                        1E-10\n",
      "*    Kappa v:                          0.5\n",
      "*  Reinitialization Params:\n",
      "*    Apply ReiInit:                    True\n",
      "*    c1:                               -0.2\n",
      "*    c2:                               0.01\n",
      "*    c3:                               0.01\n",
      "*  Adaptive Regularization Params:\n",
      "*    L:                                1\n",
      "*    sigma_1:                          0.01\n",
      "*    sigma_2:                          0.1\n",
      "*    tauGamma:                         1.5\n",
      "Initial Value : l2: |r|= 2.1489275E+01, |f_err|=4.17168E+01, | f_phi |=0E+00,\n",
      "\n",
      "Starting Opt-Iter No.1: \n",
      "alpha, M, predM  1, 4414.886401198922, 16749.365752966292\n",
      "l2: ||R0||= 6.309832E+00, f_err=1.737233E+01, f_phi=0E+00, Alpha = 1E+00, Gamma = 1E+00, Kappa = 1E+03, Mu = 1.18E+02, QuadOrder=2\n",
      "**NOT** terminating now, minimal number of iterations not reached\n",
      "\n",
      "\n",
      "Starting Opt-Iter No.2: \n",
      "alpha, M, predM  1, 1032.196646785102, 3600.73789281251\n",
      "l2: ||R0||= 2.1184431E+00, f_err=9.621651E+00, f_phi=0E+00, Alpha = 1E+00, Gamma = 1E+00, Kappa = 1E+03, Mu = 9.67E+01, QuadOrder=2\n",
      "**NOT** terminating now, minimal number of iterations not reached\n",
      "\n",
      "\n",
      "Starting Opt-Iter No.3: \n",
      "alpha, M, predM  1, 1156.3163540739397, 994.9371048057614\n",
      "alpha, M, predM  0.5, 559.4960145161134, 994.891918399684\n",
      "l2: ||R0||= 1.1207616E+00, f_err=9.018475E+00, f_phi=0E+00, Alpha = 5E-01, Gamma = 1E+00, Kappa = 1E+03, Mu = 9.04E+01, QuadOrder=2\n",
      "**NOT** terminating now, minimal number of iterations not reached\n",
      "\n",
      "\n",
      "Starting Opt-Iter No.4: \n",
      "alpha, M, predM  1, 398.27492690551054, 563.4012998759765\n",
      "l2: ||R0||= 9.2888681E-01, f_err=8.722194E+00, f_phi=0E+00, Alpha = 1E+00, Gamma = 1E+00, Kappa = 1E+03, Mu = 9.64E+01, QuadOrder=2\n",
      "**NOT** terminating now, minimal number of iterations not reached\n",
      "\n",
      "\n",
      "Starting Opt-Iter No.5: \n",
      "alpha, M, predM  1, 192.1896011029104, 360.8388076944649\n",
      "l2: ||R0||= 5.9685749E-01, f_err=7.857636E+00, f_phi=0E+00, Alpha = 1E+00, Gamma = 1E+00, Kappa = 1E+03, Mu = 6.4E+01, QuadOrder=2\n",
      "**NOT** terminating now, minimal number of iterations not reached\n",
      "\n",
      "\n",
      "Starting Opt-Iter No.6: \n",
      "alpha, M, predM  1, 293.9060997262069, 188.5636342017243\n",
      "alpha, M, predM  0.5, 154.80601458885525, 188.55670199600024\n",
      "l2: ||R0||= 4.7483559E-01, f_err=7.27062E+00, f_phi=0E+00, Alpha = 5E-01, Gamma = 1E+00, Kappa = 1E+03, Mu = 5.91E+01, QuadOrder=2\n",
      "**NOT** terminating now, minimal number of iterations not reached\n",
      "\n",
      "\n",
      "Starting Opt-Iter No.7: \n",
      "alpha, M, predM  1, 268.02087478035054, 151.50926154220753\n",
      "alpha, M, predM  0.5, 156.69684157830935, 151.5034525232078\n",
      "alpha, M, predM  0.25, 151.7151120190295, 151.50054801370794\n",
      "alpha, M, predM  0.125, 143.18675971138725, 151.49909575895802\n",
      "l2: ||R0||= 4.0118794E-01, f_err=6.985314E+00, f_phi=0E+00, Alpha = 1.25E-01, Gamma = 1E+00, Kappa = 1E+03, Mu = 6.14E+01, QuadOrder=2\n",
      "**NOT** terminating now, minimal number of iterations not reached\n",
      "\n",
      "\n",
      "Starting Opt-Iter No.8: \n",
      "alpha, M, predM  1, 366.18695774856553, 149.40989715682866\n",
      "alpha, M, predM  0.5, 118.25215164277982, 149.40465518545057\n",
      "l2: ||R0||= 2.7868694E-01, f_err=5.774876E+00, f_phi=0E+00, Alpha = 5E-01, Gamma = 1E+00, Kappa = 1E+03, Mu = 6.46E+01, QuadOrder=2\n",
      "**NOT** terminating now, minimal number of iterations not reached\n",
      "\n",
      "\n",
      "Starting Opt-Iter No.9: \n",
      "alpha, M, predM  1, 319.85080627561354, 167.4641746441915\n",
      "alpha, M, predM  0.5, 191.32345541964722, 167.4608370489257\n",
      "alpha, M, predM  0.25, 168.6000255112351, 167.4591682512928\n",
      "alpha, M, predM  0.125, 158.7498681486719, 167.45833385247636\n",
      "l2: ||R0||= 5.1680271E-01, f_err=5.268697E+00, f_phi=0E+00, Alpha = 1.25E-01, Gamma = 1E+00, Kappa = 1E+03, Mu = 5.63E+01, QuadOrder=2\n",
      "**NOT** terminating now, minimal number of iterations not reached\n",
      "\n",
      "\n",
      "Starting Opt-Iter No.10: \n",
      "alpha, M, predM  1, 186.24016170136295, 131.27264838623583\n",
      "alpha, M, predM  0.5, 96.49616545395679, 131.26782446152598\n",
      "l2: ||R0||= 3.3025444E-01, f_err=3.505907E+00, f_phi=0E+00, Alpha = 5E-01, Gamma = 1E+00, Kappa = 1E+03, Mu = 4.56E+01, QuadOrder=2\n",
      "**NOT** terminating now, minimal number of iterations not reached\n",
      "\n",
      "\n",
      "Starting Opt-Iter No.11: \n",
      "alpha, M, predM  1, 101.55955541380837, 67.81109032658588\n",
      "alpha, M, predM  0.5, 52.07585533137953, 67.80941170403202\n",
      "l2: ||R0||= 4.6579882E-01, f_err=2.350565E+00, f_phi=0E+00, Alpha = 5E-01, Gamma = 1E+00, Kappa = 1E+03, Mu = 2.21E+01, QuadOrder=2\n",
      "**NOT** terminating now, minimal number of iterations not reached\n",
      "\n",
      "\n",
      "Starting Opt-Iter No.12: \n",
      "alpha, M, predM  1, 444.36379630743613, 78.51944843323261\n",
      "alpha, M, predM  0.5, 48.115938808638845, 78.51601161541396\n",
      "l2: ||R0||= 2.954519E-01, f_err=1.630904E+00, f_phi=0E+00, Alpha = 5E-01, Gamma = 1E+00, Kappa = 1E+03, Mu = 3.25E+01, QuadOrder=2\n",
      "**NOT** terminating now, minimal number of iterations not reached\n",
      "\n",
      "\n",
      "Starting Opt-Iter No.13: \n",
      "alpha, M, predM  1, 229.02384481189432, 14.896026819434482\n",
      "alpha, M, predM  0.5, 15.869063102598822, 14.895465825077007\n",
      "alpha, M, predM  0.25, 12.252545051815572, 14.895185327898268\n",
      "l2: ||R0||= 2.2248144E-01, f_err=1.24262E+00, f_phi=0E+00, Alpha = 2.5E-01, Gamma = 1E+00, Kappa = 1E+03, Mu = 9.42E+00, QuadOrder=2\n",
      "**NOT** terminating now, minimal number of iterations not reached\n",
      "\n",
      "\n",
      "Starting Opt-Iter No.14: \n",
      "alpha, M, predM  1, 3.67977222534657, 6.525164792980749\n",
      "l2: ||R0||= 3.1687719E-01, f_err=8.593217E-01, f_phi=0E+00, Alpha = 1E+00, Gamma = 1E+00, Kappa = 1E+03, Mu = 3.2E+00, QuadOrder=2\n",
      "**NOT** terminating now, minimal number of iterations not reached\n",
      "\n",
      "\n",
      "Starting Opt-Iter No.15: \n",
      "alpha, M, predM  1, 0.039337460580676366, 0.5860306712261528\n",
      "l2: ||R0||= 5.4037721E-02, f_err=1.640634E-01, f_phi=0E+00, Alpha = 1E+00, Gamma = 1E+00, Kappa = 1E+03, Mu = 2.1E-01, QuadOrder=2\n",
      "**NOT** terminating now, minimal number of iterations not reached\n",
      "\n",
      "\n",
      "Starting Opt-Iter No.16: \n",
      "alpha, M, predM  1, 7.783303171853176E-05, 0.01399901491729166\n",
      "l2: ||R0||= 3.4223973E-03, f_err=1.034294E-02, f_phi=0E+00, Alpha = 1E+00, Gamma = 1E+00, Kappa = 1E+03, Mu = 4.4E-03, QuadOrder=2\n",
      "**NOT** terminating now, minimal number of iterations not reached\n",
      "\n",
      "\n",
      "Starting Opt-Iter No.17: \n",
      "alpha, M, predM  1, 1.0876799872165266E-08, 5.499537376124752E-05\n",
      "l2: ||R0||= 1.7528707E-05, f_err=5.984363E-05, f_phi=0E+00, Alpha = 1E+00, Gamma = 6.67E-01, Kappa = 1E+03, Mu = 2.74E-04, QuadOrder=2\n",
      "**NOT** terminating now, minimal number of iterations not reached\n",
      "\n",
      "\n",
      "Starting Opt-Iter No.18: \n",
      "alpha, M, predM  1, 4.67457928881692E-13, 1.8939511139624642E-09\n",
      "l2: ||R0||= 3.1015417E-08, f_err=1.803943E-07, f_phi=0E+00, Alpha = 1E+00, Gamma = 4.44E-01, Kappa = 1E+03, Mu = 3.13E-06, QuadOrder=2\n",
      "**NOT** terminating now, minimal number of iterations not reached\n",
      "\n",
      "\n",
      "Starting Opt-Iter No.19: \n",
      "alpha, M, predM  1, 9.998433713974603E-14, 1.6981056039739469E-13\n",
      "l2: ||R0||= 1.5925767E-08, f_err=4.487087E-08, f_phi=0E+00, Alpha = 1E+00, Gamma = 2.96E-01, Kappa = 1E+03, Mu = 1.07E-06, QuadOrder=2\n",
      "**NOT** terminating now, minimal number of iterations not reached\n",
      "\n",
      "\n",
      "Starting Opt-Iter No.20: \n",
      "alpha, M, predM  1, 3.3954091580163813E-14, 6.797462266409721E-14\n",
      "l2: ||R0||= 8.7119054E-09, f_err=3.314556E-08, f_phi=0E+00, Alpha = 1E+00, Gamma = 1.98E-01, Kappa = 1E+03, Mu = 7.21E-07, QuadOrder=2\n",
      "**NOT** terminating now, minimal number of iterations not reached\n",
      "\n",
      "\n",
      "Starting Opt-Iter No.21: \n",
      "alpha, M, predM  1, 6.484239149379533E-14, 5.103439181491864E-14\n",
      "alpha, M, predM  0.5, 5.698039216401441E-14, 5.1031874737453044E-14\n",
      "alpha, M, predM  0.25, 5.713270094462092E-14, 5.1030616198720254E-14\n",
      "alpha, M, predM  0.125, 5.798724040930542E-14, 5.102998692935385E-14\n",
      "alpha, M, predM  0.0625, 5.844366430723527E-14, 5.1029672294670655E-14\n",
      "alpha, M, predM  0.03125, 5.867922176384549E-14, 5.1029514977329056E-14\n",
      "alpha, M, predM  0.015625, 5.726964702287146E-14, 5.102943631865826E-14\n",
      "alpha, M, predM  0.0078125, 5.367719950079145E-14, 5.1029396989322855E-14\n",
      "alpha, M, predM  0.00390625, 5.090639626620831E-14, 5.102937732465516E-14\n",
      "l2: ||R0||= 8.6862001E-09, f_err=3.313998E-08, f_phi=0E+00, Alpha = 3.91E-03, Gamma = 1.32E-01, Kappa = 1E+03, Mu = 1.09E-06, QuadOrder=2\n",
      "**NOT** terminating now, minimal number of iterations not reached\n",
      "\n",
      "\n",
      "Starting Opt-Iter No.22: \n",
      "alpha, M, predM  1, 6.48640524441736E-14, 5.0975171728791456E-14\n",
      "alpha, M, predM  0.5, 5.701196425263009E-14, 5.097265751755444E-14\n",
      "alpha, M, predM  0.25, 5.717316503492932E-14, 5.097140041193593E-14\n",
      "alpha, M, predM  0.125, 5.802917932376874E-14, 5.0970771859126674E-14\n",
      "alpha, M, predM  0.0625, 5.848601789465615E-14, 5.097045758272204E-14\n",
      "alpha, M, predM  0.03125, 5.872263070336674E-14, 5.097030044451973E-14\n",
      "alpha, M, predM  0.015625, 5.904123076754925E-14, 5.0970221875418574E-14\n",
      "alpha, M, predM  0.0078125, 5.740311898342015E-14, 5.0970182590867996E-14\n",
      "alpha, M, predM  0.00390625, 5.374467301100948E-14, 5.097016294859271E-14\n",
      "alpha, M, predM  0.001953125, 5.381086735565791E-14, 5.0970153127455064E-14\n",
      "alpha, M, predM  0.0009765625, 5.384390409139974E-14, 5.097014821688624E-14\n",
      "alpha, M, predM  0.00048828125, 5.3860419294959716E-14, 5.097014576160183E-14\n",
      "alpha, M, predM  0.000244140625, 5.0962562905750134E-14, 5.097014453395962E-14\n",
      "l2: ||R0||= 8.6845898E-09, f_err=3.31396E-08, f_phi=0E+00, Alpha = 2.44E-04, Gamma = 8.78E-02, Kappa = 1E+03, Mu = 1.09E-06, QuadOrder=2\n",
      "**NOT** terminating now, minimal number of iterations not reached\n",
      "\n",
      "\n",
      "Starting Opt-Iter No.23: \n",
      "alpha, M, predM  1, 6.48648583089538E-14, 5.097129330103664E-14\n",
      "alpha, M, predM  0.5, 5.701374448358949E-14, 5.096877927776811E-14\n",
      "alpha, M, predM  0.25, 5.717554687788094E-14, 5.096752226613385E-14\n",
      "alpha, M, predM  0.125, 5.803159799299097E-14, 5.0966893760316725E-14\n",
      "alpha, M, predM  0.0625, 5.848840669457108E-14, 5.096657950740816E-14\n",
      "alpha, M, predM  0.03125, 5.872507432245191E-14, 5.096642238095387E-14\n",
      "alpha, M, predM  0.015625, 5.904201262724258E-14, 5.096634381772673E-14\n",
      "alpha, M, predM  0.0078125, 5.740358095774461E-14, 5.0966304536113165E-14\n",
      "alpha, M, predM  0.00390625, 5.3740692148860004E-14, 5.096628489530638E-14\n",
      "alpha, M, predM  0.001953125, 5.380648894823865E-14, 5.0966275074902985E-14\n",
      "alpha, M, predM  0.0009765625, 5.383973800708983E-14, 5.096627016470129E-14\n",
      "alpha, M, predM  0.00048828125, 5.385605799536532E-14, 5.096626770960044E-14\n",
      "alpha, M, predM  0.000244140625, 5.3864364032951055E-14, 5.0966266482050016E-14\n",
      "alpha, M, predM  0.0001220703125, 5.0962220373518636E-14, 5.09662658682748E-14\n",
      "l2: ||R0||= 8.6837634E-09, f_err=3.313941E-08, f_phi=0E+00, Alpha = 1.22E-04, Gamma = 5.85E-02, Kappa = 1E+03, Mu = 1.09E-06, QuadOrder=2\n",
      "**NOT** terminating now, minimal number of iterations not reached\n",
      "\n",
      "\n",
      "Starting Opt-Iter No.24: \n",
      "alpha, M, predM  1, 6.486560278159377E-14, 5.096904415814604E-14\n",
      "alpha, M, predM  0.5, 5.701455367284295E-14, 5.096653024394761E-14\n",
      "alpha, M, predM  0.25, 5.717657842174691E-14, 5.096527328684839E-14\n",
      "alpha, M, predM  0.125, 5.803275720213665E-14, 5.096464480829878E-14\n",
      "alpha, M, predM  0.0625, 5.848931497177954E-14, 5.0964330569023977E-14\n",
      "alpha, M, predM  0.03125, 5.872620210159227E-14, 5.096417344938658E-14\n",
      "alpha, M, predM  0.015625, 5.904201504471152E-14, 5.096409488956787E-14\n",
      "alpha, M, predM  0.0078125, 5.74035830297413E-14, 5.096405560965852E-14\n",
      "alpha, M, predM  0.00390625, 5.3738143199566745E-14, 5.096403596970385E-14\n",
      "alpha, M, predM  0.001953125, 5.3804291307882755E-14, 5.096402614972651E-14\n",
      "alpha, M, predM  0.0009765625, 5.383742102305484E-14, 5.096402123973784E-14\n",
      "alpha, M, predM  0.00048828125, 5.385396189823594E-14, 5.0964018784743506E-14\n",
      "alpha, M, predM  0.000244140625, 5.3862235975019216E-14, 5.096401755724634E-14\n",
      "alpha, M, predM  0.0001220703125, 5.38661065849594E-14, 5.0964016943497756E-14\n",
      "alpha, M, predM  6.103515625E-05, 5.0962227952668946E-14, 5.096401663662347E-14\n",
      "l2: ||R0||= 8.6833802E-09, f_err=3.313932E-08, f_phi=0E+00, Alpha = 6.1E-05, Gamma = 3.9E-02, Kappa = 1E+03, Mu = 1.09E-06, QuadOrder=2\n",
      "**NOT** terminating now, minimal number of iterations not reached\n",
      "\n",
      "\n",
      "Starting Opt-Iter No.25: \n",
      "alpha, M, predM  1, 6.486513522653149E-14, 5.0968128782113935E-14\n",
      "alpha, M, predM  0.5, 5.70147930072065E-14, 5.09656149122036E-14\n",
      "alpha, M, predM  0.25, 5.717701800538865E-14, 5.0964357977248434E-14\n",
      "alpha, M, predM  0.125, 5.803326242361033E-14, 5.0963729509770855E-14\n",
      "alpha, M, predM  0.0625, 5.8489968463758E-14, 5.096341527603206E-14\n",
      "alpha, M, predM  0.03125, 5.87266421335816E-14, 5.0963258159162664E-14\n",
      "alpha, M, predM  0.015625, 5.904220543812327E-14, 5.096317960072797E-14\n",
      "alpha, M, predM  0.0078125, 5.740370830960949E-14, 5.096314032151062E-14\n",
      "alpha, M, predM  0.00390625, 5.3737086990727534E-14, 5.096312068190195E-14\n",
      "alpha, M, predM  0.001953125, 5.380322909756521E-14, 5.096311086209761E-14\n",
      "alpha, M, predM  0.0009765625, 5.383619032880559E-14, 5.096310595219544E-14\n",
      "alpha, M, predM  0.00048828125, 5.385268697213866E-14, 5.0963103497244355E-14\n",
      "alpha, M, predM  0.000244140625, 5.3861142060468334E-14, 5.096310226976881E-14\n",
      "alpha, M, predM  0.0001220703125, 5.386520798291202E-14, 5.0963101656031043E-14\n",
      "alpha, M, predM  6.103515625E-05, 5.3867213330546394E-14, 5.096310134916216E-14\n",
      "alpha, M, predM  3.0517578125E-05, 5.096204282145453E-14, 5.0963101195727714E-14\n",
      "l2: ||R0||= 8.6831694E-09, f_err=3.313928E-08, f_phi=0E+00, Alpha = 3.05E-05, Gamma = 2.6E-02, Kappa = 1E+03, Mu = 1.09E-06, QuadOrder=2\n",
      "ALNR=1.2541219664766277 > 1.005 so we continue\n",
      "\n",
      "\n",
      "Starting Opt-Iter No.26: \n",
      "alpha, M, predM  1, 6.486531119766028E-14, 5.0967451283374533E-14\n",
      "alpha, M, predM  0.5, 5.701497842455643E-14, 5.0964937446608325E-14\n",
      "alpha, M, predM  0.25, 5.7177437402817E-14, 5.0963680528225224E-14\n",
      "alpha, M, predM  0.125, 5.8033575091926E-14, 5.0963052069033676E-14\n",
      "alpha, M, predM  0.0625, 5.849024550623365E-14, 5.09627378394379E-14\n",
      "alpha, M, predM  0.03125, 5.872669242485155E-14, 5.096258072464001E-14\n",
      "alpha, M, predM  0.015625, 5.904232635697159E-14, 5.0962502167241064E-14\n",
      "alpha, M, predM  0.0078125, 5.740357675008655E-14, 5.096246288854159E-14\n",
      "alpha, M, predM  0.00390625, 5.373647976061732E-14, 5.096244324919186E-14\n",
      "alpha, M, predM  0.001953125, 5.3802494613061366E-14, 5.0962433429516993E-14\n",
      "alpha, M, predM  0.0009765625, 5.38355426114174E-14, 5.0962428519679555E-14\n",
      "alpha, M, predM  0.00048828125, 5.3852028686345445E-14, 5.096242606476084E-14\n",
      "alpha, M, predM  0.000244140625, 5.386025216137238E-14, 5.096242483730148E-14\n",
      "alpha, M, predM  0.0001220703125, 5.386438491252402E-14, 5.0962424223571805E-14\n",
      "alpha, M, predM  6.103515625E-05, 5.3866665655738686E-14, 5.0962423916706964E-14\n",
      "alpha, M, predM  3.0517578125E-05, 5.386763244044756E-14, 5.096242376327454E-14\n",
      "alpha, M, predM  1.52587890625E-05, 5.0962016459945106E-14, 5.0962423686558334E-14\n",
      "l2: ||R0||= 8.6830826E-09, f_err=3.313928E-08, f_phi=0E+00, Alpha = 1.53E-05, Gamma = 1.73E-02, Kappa = 1E+03, Mu = 1.09E-06, QuadOrder=2\n",
      "ALNR=1.1187663756374637 > 1.005 so we continue\n",
      "\n",
      "\n",
      "Starting Opt-Iter No.27: \n",
      "alpha, M, predM  1, 6.486501201938424E-14, 5.0967225978308834E-14\n",
      "alpha, M, predM  0.5, 5.701491416790648E-14, 5.09647121522882E-14\n",
      "alpha, M, predM  0.25, 5.717729741182855E-14, 5.0963455239277884E-14\n",
      "alpha, M, predM  0.125, 5.80336797866514E-14, 5.0962826782772723E-14\n",
      "alpha, M, predM  0.0625, 5.849022992693449E-14, 5.0962512554520143E-14\n",
      "alpha, M, predM  0.03125, 5.872704251611185E-14, 5.096235544039385E-14\n",
      "alpha, M, predM  0.015625, 5.904200501499717E-14, 5.096227688333071E-14\n",
      "alpha, M, predM  0.0078125, 5.74034643115464E-14, 5.096223760479913E-14\n",
      "alpha, M, predM  0.00390625, 5.3736081034848264E-14, 5.096221796553335E-14\n",
      "alpha, M, predM  0.001953125, 5.38021721535723E-14, 5.0962208145900454E-14\n",
      "alpha, M, predM  0.0009765625, 5.3835259958515966E-14, 5.096220323608401E-14\n",
      "alpha, M, predM  0.00048828125, 5.385180353114968E-14, 5.0962200781175784E-14\n",
      "alpha, M, predM  0.000244140625, 5.38601213835727E-14, 5.0962199553721677E-14\n",
      "alpha, M, predM  0.0001220703125, 5.3863910728689707E-14, 5.096219893999462E-14\n",
      "alpha, M, predM  6.103515625E-05, 5.386615723639549E-14, 5.096219863313109E-14\n",
      "alpha, M, predM  3.0517578125E-05, 5.38672098242295E-14, 5.0962198479699324E-14\n",
      "alpha, M, predM  1.52587890625E-05, 5.386769284239411E-14, 5.0962198402983447E-14\n",
      "alpha, M, predM  7.62939453125E-06, 5.3868100700276726E-14, 5.09621983646255E-14\n",
      "alpha, M, predM  3.814697265625E-06, 5.096197890498365E-14, 5.096219834544653E-14\n",
      "l2: ||R0||= 8.6830373E-09, f_err=3.313925E-08, f_phi=0E+00, Alpha = 3.81E-06, Gamma = 1.16E-02, Kappa = 1E+03, Mu = 1.09E-06, QuadOrder=2\n",
      "\n",
      "ALNR=1.0004747900762527 <= 1.005 so we terminate/increase degree\n",
      "\n",
      "ALNR=1.0000272019184155 <= 1.005 so we terminate/increase degree\n",
      "\n"
     ]
    }
   ],
   "source": [
    "BoSSS.Solution.Application.InitMPI();\n",
    "BoSSS.Solution.Application.DeleteOldPlotFiles();\n",
    "var p = new XESFMain();\n",
    "\n",
    "var C = XESFHardCodedControl.XDGWedgeFlow_TwoLs_Base(\n",
    "                    optiLSDegree: 1,\n",
    "                    lsDegree: 1,\n",
    "                    shocksetup: ApplicationWithIDT.GetLevelSet.FromFunction,\n",
    "                    optiLevelSetType: OptiLevelSetType.SplineLevelSet,\n",
    "                    initialValue: ApplicationWithIDT.GetInitialValue.FromFunctionPerSpecies,\n",
    "                    MaxIterations: 200,\n",
    "                    dgDegree: 0,\n",
    "                    numOfCellsX: 15,\n",
    "                    numOfCellsY: 10,\n",
    "                    initialAngle_shockLS: 32,\n",
    "                    PlotInterval: -1,\n",
    "                    interfaceFluxLS2: XESF.Fluxes.ConvectiveInterfaceFluxes.GodunovInterface,\n",
    "                    bulkFlux: XESF.Fluxes.ConvectiveBulkFluxes.OptimizedHLLC,\n",
    "                    FluxVersion: XESF.Fluxes.FluxVersion.Optimized,\n",
    "                    agg: 0.4,\n",
    "                    globalization: ApplicationWithIDT.GlobalizationStrategy.LineSearch\n",
    "                    );\n",
    "p.Init(C);\n",
    "p.RunSolverMode();\n"
   ]
  },
  {
   "attachments": {},
   "cell_type": "markdown",
   "metadata": {},
   "source": [
    "# Postprocessing"
   ]
  },
  {
   "cell_type": "markdown",
   "metadata": {},
   "source": [
    "we need to load something from the ApplicationWithIDT assembly "
   ]
  },
  {
   "cell_type": "code",
   "execution_count": 4,
   "metadata": {
    "dotnet_interactive": {
     "language": "csharp"
    }
   },
   "outputs": [
    {
     "ename": "Error",
     "evalue": "(1,1): error CS0246: The type or namespace name 'Assembler' could not be found (are you missing a using directive or an assembly reference?)\r\n(1,21): error CS0246: The type or namespace name 'Assembler' could not be found (are you missing a using directive or an assembly reference?)",
     "output_type": "error",
     "traceback": [
      "(1,1): error CS0246: The type or namespace name 'Assembler' could not be found (are you missing a using directive or an assembly reference?)\r\n",
      "(1,21): error CS0246: The type or namespace name 'Assembler' could not be found (are you missing a using directive or an assembly reference?)"
     ]
    }
   ],
   "source": [
    "Assembler aaa = new Assembler(3);\n",
    "var si = database.Sessions.Pick(0);"
   ]
  },
  {
   "attachments": {},
   "cell_type": "markdown",
   "metadata": {},
   "source": [
    "## Enthalpy error"
   ]
  },
  {
   "attachments": {},
   "cell_type": "markdown",
   "metadata": {},
   "source": [
    "enthalpy is computed as\n",
    "$$h=\\frac{(\\rho E + p)}{\\rho},~ p=(c_P -1)(\\rho E - k),~k=c_P \\text{Ma}^2\\frac{\\rho }{2}(\\vert u\\vert^2 + \\vert v\\vert^2)$$"
   ]
  },
  {
   "attachments": {},
   "cell_type": "markdown",
   "metadata": {},
   "source": [
    "For an uniform inviscid flow the inflow enthalpy should remain constant throughout the flowfield \n",
    "\n",
    "As we have uniform inflow the v-velocity is zero and we have\n",
    "$$ h_{in} = \\frac{\\gamma}{\\gamma-1} + \\frac{1}{2}u_{in}^2 $$\n",
    "We prescribe the inflow conditions in terms of pressure $p_{in}=1$, density $\\rho_{in}=1$ and the Mach number $M_{in}=2$. From those the velocity is computed as \n",
    "$$ u_{in} = M_{in} \\sqrt{\\gamma \\frac{p_{in}}{\\rho_{in}}}= 2\\sqrt{\\gamma}$$"
   ]
  },
  {
   "cell_type": "code",
   "execution_count": 5,
   "metadata": {
    "dotnet_interactive": {
     "language": "csharp"
    },
    "polyglot_notebook": {
     "kernelName": "csharp"
    }
   },
   "outputs": [
    {
     "ename": "Error",
     "evalue": "(2,31): error CS0103: The name 'si' does not exist in the current context",
     "output_type": "error",
     "traceback": [
      "(2,31): error CS0103: The name 'si' does not exist in the current context"
     ]
    }
   ],
   "source": [
    "using BoSSS.Solution.CompressibleFlowCommon.MaterialProperty;\n",
    "var enthalpy_end = (XDGField) si.Timesteps.Last().GetField(\"h\");\n",
    "var enthalpy_exact = (XDGField) enthalpy_end.Clone();\n",
    "double gamma = IdealGas.Air.HeatCapacityRatio;\n",
    "double Ms = 2;\n",
    "double densityLeft = 1;\n",
    "double pressureLeft = 1;\n",
    "double velocityXLeft = Ms * Math.Sqrt(gamma * pressureLeft / densityLeft);\n",
    "\n",
    "(gamma)/(gamma-1) + 0.5*velocityXLeft*velocityXLeft"
   ]
  },
  {
   "cell_type": "code",
   "execution_count": 6,
   "metadata": {
    "dotnet_interactive": {
     "language": "csharp"
    }
   },
   "outputs": [
    {
     "ename": "Error",
     "evalue": "(1,24): error CS0103: The name 'gamma' does not exist in the current context\r\n(1,32): error CS0103: The name 'gamma' does not exist in the current context\r\n(1,47): error CS0103: The name 'velocityXLeft' does not exist in the current context\r\n(1,61): error CS0103: The name 'velocityXLeft' does not exist in the current context\r\n(6,11): error CS0103: The name 'enthalpy_exact' does not exist in the current context\r\n(2,1): error CS0103: The name 'enthalpy_exact' does not exist in the current context\r\n(3,1): error CS0103: The name 'enthalpy_exact' does not exist in the current context\r\n(4,1): error CS0103: The name 'enthalpy_exact' does not exist in the current context\r\n(5,1): error CS0103: The name 'enthalpy_exact' does not exist in the current context",
     "output_type": "error",
     "traceback": [
      "(1,24): error CS0103: The name 'gamma' does not exist in the current context\r\n",
      "(1,32): error CS0103: The name 'gamma' does not exist in the current context\r\n",
      "(1,47): error CS0103: The name 'velocityXLeft' does not exist in the current context\r\n",
      "(1,61): error CS0103: The name 'velocityXLeft' does not exist in the current context\r\n",
      "(6,11): error CS0103: The name 'enthalpy_exact' does not exist in the current context\r\n",
      "(2,1): error CS0103: The name 'enthalpy_exact' does not exist in the current context\r\n",
      "(3,1): error CS0103: The name 'enthalpy_exact' does not exist in the current context\r\n",
      "(4,1): error CS0103: The name 'enthalpy_exact' does not exist in the current context\r\n",
      "(5,1): error CS0103: The name 'enthalpy_exact' does not exist in the current context"
     ]
    }
   ],
   "source": [
    "var enthalpy_inflow = (gamma)/(gamma-1) + 0.5*velocityXLeft*velocityXLeft;\n",
    "enthalpy_exact.Clear();\n",
    "enthalpy_exact.GetSpeciesShadowField(\"L\").ProjectField(1.0,t => enthalpy_inflow);\n",
    "enthalpy_exact.GetSpeciesShadowField(\"R\").ProjectField(1.0,t => enthalpy_inflow);\n",
    "enthalpy_exact.Identification= \"h_exact\";\n",
    "var EEN = enthalpy_exact.L2NormAllSpecies();"
   ]
  },
  {
   "cell_type": "code",
   "execution_count": 7,
   "metadata": {
    "dotnet_interactive": {
     "language": "csharp"
    },
    "polyglot_notebook": {
     "kernelName": "csharp"
    }
   },
   "outputs": [
    {
     "ename": "Error",
     "evalue": "(1,22): error CS0103: The name 'si' does not exist in the current context\r\n(1,25): error CS0103: The name 'EEN' does not exist in the current context",
     "output_type": "error",
     "traceback": [
      "(1,22): error CS0103: The name 'si' does not exist in the current context\r\n",
      "(1,25): error CS0103: The name 'EEN' does not exist in the current context"
     ]
    }
   ],
   "source": [
    "p.GetResEnthalpyPlot(si,EEN).ToGnuplot().PlotSVG(xRes:1200,yRes:500)"
   ]
  },
  {
   "cell_type": "code",
   "execution_count": 8,
   "metadata": {
    "dotnet_interactive": {
     "language": "csharp"
    },
    "polyglot_notebook": {
     "kernelName": "csharp"
    }
   },
   "outputs": [
    {
     "ename": "Error",
     "evalue": "(1,20): error CS0103: The name 'si' does not exist in the current context",
     "output_type": "error",
     "traceback": [
      "(1,20): error CS0103: The name 'si' does not exist in the current context"
     ]
    }
   ],
   "source": [
    "p.PlotShadowFields(si);"
   ]
  }
 ],
 "metadata": {
  "kernelspec": {
   "display_name": ".NET (C#)",
   "language": "C#",
   "name": ".net-csharp"
  },
  "language_info": {
   "name": "polyglot-notebook"
  },
  "polyglot_notebook": {
   "kernelInfo": {
    "defaultKernelName": "csharp",
    "items": [
     {
      "aliases": [],
      "name": ".NET"
     },
     {
      "aliases": [
       "C#",
       "c#"
      ],
      "languageName": "C#",
      "name": "csharp"
     },
     {
      "aliases": [
       "F#",
       "f#"
      ],
      "languageName": "F#",
      "name": "fsharp"
     },
     {
      "aliases": [],
      "languageName": "HTML",
      "name": "html"
     },
     {
      "aliases": [
       "js"
      ],
      "languageName": "JavaScript",
      "name": "javascript"
     },
     {
      "aliases": [],
      "languageName": "KQL",
      "name": "kql"
     },
     {
      "aliases": [],
      "languageName": "Mermaid",
      "name": "mermaid"
     },
     {
      "aliases": [
       "powershell"
      ],
      "languageName": "PowerShell",
      "name": "pwsh"
     },
     {
      "aliases": [],
      "languageName": "SQL",
      "name": "sql"
     },
     {
      "aliases": [],
      "name": "value"
     },
     {
      "aliases": [
       "frontend"
      ],
      "name": "vscode"
     },
     {
      "aliases": [],
      "name": "webview"
     }
    ]
   }
  }
 },
 "nbformat": 4,
 "nbformat_minor": 2
}

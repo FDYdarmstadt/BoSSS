{
 "cells": [
  {
   "cell_type": "code",
   "execution_count": 1,
   "metadata": {
    "dotnet_interactive": {
     "language": "csharp"
    }
   },
   "outputs": [],
   "source": [
    "#r \".\\binaries\\BoSSSpad.dll\"\n",
    "#r \".\\binaries\\XESF.dll\"\n",
    "#r \".\\binaries\\ApplicationWithIDT.dll\"\n",
    "using System;\n",
    "using System.Collections.Generic;\n",
    "using System.Linq;\n",
    "using ilPSP;\n",
    "using ilPSP.Utils;\n",
    "using BoSSS.Platform;\n",
    "using BoSSS.Platform.LinAlg;\n",
    "using BoSSS.Foundation;\n",
    "using BoSSS.Foundation.XDG;\n",
    "using BoSSS.Foundation.Grid;\n",
    "using BoSSS.Foundation.Grid.Classic;\n",
    "using BoSSS.Foundation.Grid.RefElements;\n",
    "using BoSSS.Foundation.IO;\n",
    "using BoSSS.Solution;\n",
    "using BoSSS.Solution.Control;\n",
    "using BoSSS.Solution.GridImport;\n",
    "using BoSSS.Solution.Statistic;\n",
    "using BoSSS.Solution.Utils;\n",
    "using BoSSS.Solution.AdvancedSolvers;\n",
    "using BoSSS.Solution.Gnuplot;\n",
    "using BoSSS.Application.BoSSSpad;\n",
    "using BoSSS.Application.XNSE_Solver;\n",
    "using ApplicationWithIDT;\n",
    "using XESF;\n",
    "using static BoSSS.Application.BoSSSpad.BoSSSshell;\n",
    "Init();\n"
   ]
  },
  {
   "attachments": {},
   "cell_type": "markdown",
   "metadata": {},
   "source": [
    "# Run Simulation"
   ]
  },
  {
   "attachments": {},
   "cell_type": "markdown",
   "metadata": {},
   "source": [
    "open a database"
   ]
  },
  {
   "cell_type": "code",
   "execution_count": 2,
   "metadata": {
    "dotnet_interactive": {
     "language": "csharp"
    },
    "polyglot_notebook": {
     "kernelName": "csharp"
    }
   },
   "outputs": [
    {
     "name": "stdout",
     "output_type": "stream",
     "text": [
      "Opening existing database 'WedgeFlow_db'.\r\n"
     ]
    },
    {
     "data": {
      "text/plain": [
       "{ Session Count = 5; Grid Count = 5; Path = WedgeFlow_db }"
      ]
     },
     "metadata": {},
     "output_type": "display_data"
    }
   ],
   "source": [
    "string dbPath = @\"WedgeFlow_db\";\n",
    "var database = OpenOrCreateDatabase(dbPath);\n",
    "database"
   ]
  },
  {
   "attachments": {},
   "cell_type": "markdown",
   "metadata": {},
   "source": [
    "run WedgeFlow simulation and safe to database"
   ]
  },
  {
   "cell_type": "code",
   "execution_count": 3,
   "metadata": {
    "dotnet_interactive": {
     "language": "csharp"
    },
    "polyglot_notebook": {
     "kernelName": "csharp"
    }
   },
   "outputs": [
    {
     "name": "stdout",
     "output_type": "stream",
     "text": [
      "rm XESFWedgeFlow_TwoLs_0.plt;\n",
      "Grid Edge Tags changed.\n",
      "Session ID: b62549af-c208-46f2-84be-a8b3c1e5bcfc, DB path: 'WedgeFlow_db'\n",
      "Session directory 'WedgeFlow_db\\sessions\\b62549af-c208-46f2-84be-a8b3c1e5bcfc'.\n",
      "Grid repartitioning method: METIS\n",
      "Grid repartitioning options: \n",
      "Number of cell Weights: 0\n",
      "\n",
      "\n",
      "*****************************************************************************************\n",
      "*  X   X   DDD   GGG   -   III  SSS  TTTTT  *\n",
      "*   X X    D  D G      -    I  S      T     *\n",
      "*    X     D  D G  GG  -    I   SSS   T     *      XDG Implicit Shock Tracking Solver    \n",
      "*   X X    D  D G   G  -    I      S  T     *\n",
      "*  X   X   DDD   GGG   -   III  SSS   T     *\n",
      "*****************************************************************************************\n",
      "*  \n",
      "*  solver:                             XESF.XESFMain\n",
      "*  project:                            XESFWedgeFlow_TwoLs\n",
      "*  session:                            WedgeFlow_TwoLs_p0_xCells15_yCells10_GodunovInterface_iterations200_angle32_lSDegree1_GlobLineSearch_agg0.4_\n",
      "*  optimization problem:               FullEnRes\n",
      "*  merit function:                     L1Merit\n",
      "*  level set type:                     SplineLevelSet\n",
      "*  solver type:                        Standard\n",
      "*  f_phi type:                         None\n",
      "*  globalization strategy:             LineSearch\n",
      "*  initial value from:                 FromFunctionPerSpecies\n",
      "*  \n",
      "******************************* Params ************************************************\n",
      "*  Solution Degree:                    0\n",
      "*  OptiLevelSet Degree:                1\n",
      "*  Level Set Degree:                   1\n",
      "*  Level Set Two Degree:               1\n",
      "*  Max Iterations:                     200\n",
      "*  Agglomeration Threshold:            0.4\n",
      "*  Regularization Params:\n",
      "*    Gamma Max:                        1\n",
      "*    Gamma Min:                        0.0001\n",
      "*    Gamma Start:                      1\n",
      "*  Globalization Params:\n",
      "*    Alpha Min:                        1E-08\n",
      "*    Alpha Start:                      1\n",
      "*    Mu Start:                         1\n",
      "*    Mu Max:                           1000000\n",
      "*    Mu Omega:                         1.2\n",
      "*    Mu Rho:                           0.95\n",
      "*  Level Set penalty Params:\n",
      "*    Kappa Xi:                         1\n",
      "*    Kappa M:                          100\n",
      "*    Kappa Min:                        1E-10\n",
      "*    Kappa v:                          0.5\n",
      "*  Reinitialization Params:\n",
      "*    Apply ReiInit:                    True\n",
      "*    c1:                               -0.2\n",
      "*    c2:                               0.01\n",
      "*    c3:                               0.01\n",
      "*  Adaptive Regularization Params:\n",
      "*    L:                                1\n",
      "*    sigma_1:                          0.01\n",
      "*    sigma_2:                          0.1\n",
      "*    tauGamma:                         1.5\n",
      "\n",
      "\n",
      "*****************************************************************************************\n",
      "*  X   X   DDD   GGG   -   III  SSS  TTTTT  *\n",
      "*   X X    D  D G      -    I  S      T     *\n",
      "*    X     D  D G  GG  -    I   SSS   T     *      XDG Implicit Shock Tracking Solver    \n",
      "*   X X    D  D G   G  -    I      S  T     *\n",
      "*  X   X   DDD   GGG   -   III  SSS   T     *\n",
      "*****************************************************************************************\n",
      "*  \n",
      "*  solver:                             XESF.XESFMain\n",
      "*  project:                            XESFWedgeFlow_TwoLs\n",
      "*  session:                            WedgeFlow_TwoLs_p0_xCells15_yCells10_GodunovInterface_iterations200_angle32_lSDegree1_GlobLineSearch_agg0.4_\n",
      "*  optimization problem:               FullEnRes\n",
      "*  merit function:                     L1Merit\n",
      "*  level set type:                     SplineLevelSet\n",
      "*  solver type:                        Standard\n",
      "*  f_phi type:                         None\n",
      "*  globalization strategy:             LineSearch\n",
      "*  initial value from:                 FromFunctionPerSpecies\n",
      "*  \n",
      "******************************* Params ************************************************\n",
      "*  Solution Degree:                    0\n",
      "*  OptiLevelSet Degree:                1\n",
      "*  Level Set Degree:                   1\n",
      "*  Level Set Two Degree:               1\n",
      "*  Max Iterations:                     200\n",
      "*  Agglomeration Threshold:            0.4\n",
      "*  Regularization Params:\n",
      "*    Gamma Max:                        1\n",
      "*    Gamma Min:                        0.0001\n",
      "*    Gamma Start:                      1\n",
      "*  Globalization Params:\n",
      "*    Alpha Min:                        1E-08\n",
      "*    Alpha Start:                      1\n",
      "*    Mu Start:                         1\n",
      "*    Mu Max:                           1000000\n",
      "*    Mu Omega:                         1.2\n",
      "*    Mu Rho:                           0.95\n",
      "*  Level Set penalty Params:\n",
      "*    Kappa Xi:                         1\n",
      "*    Kappa M:                          100\n",
      "*    Kappa Min:                        1E-10\n",
      "*    Kappa v:                          0.5\n",
      "*  Reinitialization Params:\n",
      "*    Apply ReiInit:                    True\n",
      "*    c1:                               -0.2\n",
      "*    c2:                               0.01\n",
      "*    c3:                               0.01\n",
      "*  Adaptive Regularization Params:\n",
      "*    L:                                1\n",
      "*    sigma_1:                          0.01\n",
      "*    sigma_2:                          0.1\n",
      "*    tauGamma:                         1.5\n",
      "Grid Edge Tags changed.\n"
     ]
    }
   ],
   "source": [
    "BoSSS.Solution.Application.InitMPI(num_threads:1);\n",
    "BoSSS.Solution.Application.DeleteOldPlotFiles();\n",
    "var p = new XESFMain();\n",
    "\n",
    "var C = XESFHardCodedControl.XDGWedgeFlow_TwoLs_Base(\n",
    "                    dbPath:dbPath,\n",
    "                    optiLSDegree: 1,\n",
    "                    lsDegree: 1,\n",
    "                    shocksetup: ApplicationWithIDT.GetLevelSet.FromFunction,\n",
    "                    optiLevelSetType: OptiLevelSetType.SplineLevelSet,\n",
    "                    initialValue: ApplicationWithIDT.GetInitialValue.FromFunctionPerSpecies,\n",
    "                    MaxIterations: 200,\n",
    "                    dgDegree: 0,\n",
    "                    numOfCellsX: 15,\n",
    "                    numOfCellsY: 10,\n",
    "                    initialAngle_shockLS: 32,\n",
    "                    PlotInterval: -1,\n",
    "                    interfaceFluxLS2: XESF.Fluxes.ConvectiveInterfaceFluxes.GodunovInterface,\n",
    "                    bulkFlux: XESF.Fluxes.ConvectiveBulkFluxes.OptimizedHLLC,\n",
    "                    FluxVersion: XESF.Fluxes.FluxVersion.Optimized,\n",
    "                    agg: 0.4,\n",
    "                    globalization: ApplicationWithIDT.GlobalizationStrategy.LineSearch\n",
    "                    );   \n",
    "p.Init(C);\n",
    "p.RunSolverMode(); \n",
    "//p.InitializeEverything();"
   ]
  },
  {
   "attachments": {},
   "cell_type": "markdown",
   "metadata": {},
   "source": [
    "# Postprocessing"
   ]
  },
  {
   "cell_type": "markdown",
   "metadata": {},
   "source": [
    "we need to load something from the ApplicationWithIDT assembly "
   ]
  },
  {
   "cell_type": "code",
   "execution_count": 18,
   "metadata": {
    "dotnet_interactive": {
     "language": "csharp"
    }
   },
   "outputs": [
    {
     "data": {
      "text/plain": [
       "XESFWedgeFlow_TwoLs\tWedgeFlow_TwoLs_p0_xCells15_yCells10_GodunovInterface_iterations200_angle32_lSDegree1_GlobLineSearch_agg0.4_*\t4/17/2024 9:55:43 AM\tac1d2651..."
      ]
     },
     "metadata": {},
     "output_type": "display_data"
    }
   ],
   "source": [
    "string dbPath = @\"WedgeFlow_db\";\n",
    "var database = OpenOrCreateDatabase(dbPath);\n",
    "MatrixAssembler aaa = new MatrixAssembler(3);\n",
    "var si = database.Sessions.Pick(2);\n",
    "si"
   ]
  },
  {
   "attachments": {},
   "cell_type": "markdown",
   "metadata": {},
   "source": [
    "## Enthalpy error\n",
    "enthalpy is computed as\n",
    "$$h=\\frac{(\\rho E + p)}{\\rho},~ p=(\\gamma -1)(\\rho E - \\rho e_{kin}),~\\rho e_{kin}=\\frac{\\rho }{2}(\\vert u\\vert^2 + \\vert v\\vert^2)$$\n",
    "\n",
    "For an uniform inviscid flow the inflow enthalpy should remain constant throughout the flowfield \n",
    "\n",
    "In the case of the WedgeFlow ($p_\\text{in}=1,\\rho_\\text{in}=1$) presented, the v-velocity is zero and we have\n",
    "$$ h_{in} = \\rho E_{in}+1$$\n",
    "We prescribe the inflow conditions by the Mach number $M_{in}=2$. From those the Energy is computed as \n",
    "$$ \\rho E_{in} = (\\rho e_{inner})_\\text{in}+(\\rho e_{kin})_\\text{in}=\\frac{p_\\text{in}}{\\gamma-1}+\\frac{\\rho_\\text{in}}{2}u_\\text{in}^2= \\frac{1}{\\gamma-1}+\\frac{1}{2}u_{in}^2$$ \n",
    "where $u_{in} = M_{in}\\sqrt{\\gamma}$. In total we obtain:\n",
    "$$ h_\\text{in}=\\rho E_{in}+1=\\frac{\\gamma}{\\gamma-1}+\\frac{1}{2}u_{in}^2$$\n"
   ]
  },
  {
   "cell_type": "code",
   "execution_count": 19,
   "metadata": {
    "dotnet_interactive": {
     "language": "csharp"
    },
    "polyglot_notebook": {
     "kernelName": "csharp"
    }
   },
   "outputs": [
    {
     "data": {
      "text/html": [
       "<div class=\"dni-plaintext\"><pre>6.300000000000001</pre></div><style>\r\n",
       ".dni-code-hint {\r\n",
       "    font-style: italic;\r\n",
       "    overflow: hidden;\r\n",
       "    white-space: nowrap;\r\n",
       "}\r\n",
       ".dni-treeview {\r\n",
       "    white-space: nowrap;\r\n",
       "}\r\n",
       ".dni-treeview td {\r\n",
       "    vertical-align: top;\r\n",
       "    text-align: start;\r\n",
       "}\r\n",
       "details.dni-treeview {\r\n",
       "    padding-left: 1em;\r\n",
       "}\r\n",
       "table td {\r\n",
       "    text-align: start;\r\n",
       "}\r\n",
       "table tr { \r\n",
       "    vertical-align: top; \r\n",
       "    margin: 0em 0px;\r\n",
       "}\r\n",
       "table tr td pre \r\n",
       "{ \r\n",
       "    vertical-align: top !important; \r\n",
       "    margin: 0em 0px !important;\r\n",
       "} \r\n",
       "table th {\r\n",
       "    text-align: start;\r\n",
       "}\r\n",
       "</style>"
      ]
     },
     "metadata": {},
     "output_type": "display_data"
    }
   ],
   "source": [
    "using BoSSS.Solution.CompressibleFlowCommon.MaterialProperty;\n",
    "var enthalpy_end = (XDGField) si.Timesteps.Last().GetField(\"h\");\n",
    "var enthalpy_exact = (XDGField) enthalpy_end.Clone();\n",
    "double gamma = IdealGas.Air.HeatCapacityRatio;\n",
    "double Ms = 2;\n",
    "double densityLeft = 1;\n",
    "double pressureLeft = 1;\n",
    "double velocityXLeft = Ms * Math.Sqrt(gamma * pressureLeft / densityLeft);\n",
    "\n",
    "(gamma)/(gamma-1) + 0.5*velocityXLeft*velocityXLeft"
   ]
  },
  {
   "cell_type": "code",
   "execution_count": 20,
   "metadata": {
    "dotnet_interactive": {
     "language": "csharp"
    }
   },
   "outputs": [],
   "source": [
    "var enthalpy_inflow = (gamma)/(gamma-1) + 0.5*velocityXLeft*velocityXLeft;\n",
    "enthalpy_exact.Clear();\n",
    "enthalpy_exact.GetSpeciesShadowField(\"L\").ProjectField(1.0,t => enthalpy_inflow);\n",
    "enthalpy_exact.GetSpeciesShadowField(\"R\").ProjectField(1.0,t => enthalpy_inflow);\n",
    "enthalpy_exact.Identification= \"h_exact\";\n",
    "var EEN = enthalpy_exact.L2NormAllSpecies();"
   ]
  },
  {
   "cell_type": "code",
   "execution_count": 21,
   "metadata": {
    "dotnet_interactive": {
     "language": "csharp"
    },
    "polyglot_notebook": {
     "kernelName": "csharp"
    }
   },
   "outputs": [
    {
     "ename": "Error",
     "evalue": "System.ArgumentException: Number of x and y values must be identical within each group\r\n   at BoSSS.Solution.Gnuplot.Plot2Ddata.XYvalues..ctor(String name, IEnumerable`1 abscissas, IEnumerable`1 values) in C:\\experimental\\public\\src\\L3-solution\\BoSSS.Solution.Gnuplot\\Plot2Ddata.cs:line 111\r\n   at BoSSS.Solution.Gnuplot.Plot2Ddata.AddDataGroup(String name, IEnumerable`1 Abscissas, IEnumerable`1 values, PlotFormat Format) in C:\\experimental\\public\\src\\L3-solution\\BoSSS.Solution.Gnuplot\\Plot2Ddata.cs:line 227\r\n   at ApplicationWithIDT.ApplicationWithIDT`1.GetPlot(List`1 y1, String l1, List`1 y2, String l2, List`1 y3, String l3) in C:\\experimental\\public\\src\\L4-application\\ApplicationWithIDT\\ApplicationWithIDT.cs:line 4045\r\n   at ApplicationWithIDT.ApplicationWithIDT`1.GetResEnthalpyPlot(ISessionInfo si, Double EEN) in C:\\experimental\\public\\src\\L4-application\\ApplicationWithIDT\\ApplicationWithIDT.cs:line 4067\r\n   at Submission#22.<<Initialize>>d__0.MoveNext()\r\n--- End of stack trace from previous location ---\r\n   at Microsoft.CodeAnalysis.Scripting.ScriptExecutionState.RunSubmissionsAsync[TResult](ImmutableArray`1 precedingExecutors, Func`2 currentExecutor, StrongBox`1 exceptionHolderOpt, Func`2 catchExceptionOpt, CancellationToken cancellationToken)",
     "output_type": "error",
     "traceback": [
      "System.ArgumentException: Number of x and y values must be identical within each group\r\n",
      "   at BoSSS.Solution.Gnuplot.Plot2Ddata.XYvalues..ctor(String name, IEnumerable`1 abscissas, IEnumerable`1 values) in C:\\experimental\\public\\src\\L3-solution\\BoSSS.Solution.Gnuplot\\Plot2Ddata.cs:line 111\r\n",
      "   at BoSSS.Solution.Gnuplot.Plot2Ddata.AddDataGroup(String name, IEnumerable`1 Abscissas, IEnumerable`1 values, PlotFormat Format) in C:\\experimental\\public\\src\\L3-solution\\BoSSS.Solution.Gnuplot\\Plot2Ddata.cs:line 227\r\n",
      "   at ApplicationWithIDT.ApplicationWithIDT`1.GetPlot(List`1 y1, String l1, List`1 y2, String l2, List`1 y3, String l3) in C:\\experimental\\public\\src\\L4-application\\ApplicationWithIDT\\ApplicationWithIDT.cs:line 4045\r\n",
      "   at ApplicationWithIDT.ApplicationWithIDT`1.GetResEnthalpyPlot(ISessionInfo si, Double EEN) in C:\\experimental\\public\\src\\L4-application\\ApplicationWithIDT\\ApplicationWithIDT.cs:line 4067\r\n",
      "   at Submission#22.<<Initialize>>d__0.MoveNext()\r\n",
      "--- End of stack trace from previous location ---\r\n",
      "   at Microsoft.CodeAnalysis.Scripting.ScriptExecutionState.RunSubmissionsAsync[TResult](ImmutableArray`1 precedingExecutors, Func`2 currentExecutor, StrongBox`1 exceptionHolderOpt, Func`2 catchExceptionOpt, CancellationToken cancellationToken)"
     ]
    }
   ],
   "source": [
    "p.GetResEnthalpyPlot(si,EEN).ToGnuplot().PlotSVG(xRes:1200,yRes:500)"
   ]
  },
  {
   "cell_type": "code",
   "execution_count": 22,
   "metadata": {
    "dotnet_interactive": {
     "language": "csharp"
    },
    "polyglot_notebook": {
     "kernelName": "csharp"
    }
   },
   "outputs": [],
   "source": [
    "p.PlotShadowFields(si);"
   ]
  },
  {
   "cell_type": "code",
   "execution_count": 23,
   "metadata": {
    "dotnet_interactive": {
     "language": "csharp"
    },
    "polyglot_notebook": {
     "kernelName": "csharp"
    }
   },
   "outputs": [],
   "source": []
  }
 ],
 "metadata": {
  "kernelspec": {
   "display_name": ".NET (C#)",
   "language": "C#",
   "name": ".net-csharp"
  },
  "language_info": {
   "name": "polyglot-notebook"
  },
  "polyglot_notebook": {
   "kernelInfo": {
    "defaultKernelName": "csharp",
    "items": [
     {
      "aliases": [],
      "name": ".NET"
     },
     {
      "aliases": [
       "C#",
       "c#"
      ],
      "languageName": "C#",
      "name": "csharp"
     },
     {
      "aliases": [
       "F#",
       "f#"
      ],
      "languageName": "F#",
      "name": "fsharp"
     },
     {
      "aliases": [],
      "languageName": "HTML",
      "name": "html"
     },
     {
      "aliases": [
       "js"
      ],
      "languageName": "JavaScript",
      "name": "javascript"
     },
     {
      "aliases": [],
      "languageName": "KQL",
      "name": "kql"
     },
     {
      "aliases": [],
      "languageName": "Mermaid",
      "name": "mermaid"
     },
     {
      "aliases": [
       "powershell"
      ],
      "languageName": "PowerShell",
      "name": "pwsh"
     },
     {
      "aliases": [],
      "languageName": "SQL",
      "name": "sql"
     },
     {
      "aliases": [],
      "name": "value"
     },
     {
      "aliases": [
       "frontend"
      ],
      "name": "vscode"
     },
     {
      "aliases": [],
      "name": "webview"
     }
    ]
   }
  }
 },
 "nbformat": 4,
 "nbformat_minor": 2
}

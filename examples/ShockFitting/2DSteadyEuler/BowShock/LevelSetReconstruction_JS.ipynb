{
  "cells": [
    {
      "cell_type": "code",
      "execution_count": 1,
      "metadata": {
        "dotnet_interactive": {
          "language": "csharp"
        },
        "vscode": {
          "languageId": "polyglot-notebook"
        }
      },
      "outputs": [],
      "source": [
        "#r \".\\binaries\\BoSSSpad.dll\"\n",
        "using System;\n",
        "using System.Collections.Generic;\n",
        "using System.Linq;\n",
        "using ilPSP;\n",
        "using ilPSP.Utils;\n",
        "using BoSSS.Platform;\n",
        "using BoSSS.Platform.LinAlg;\n",
        "using BoSSS.Foundation;\n",
        "using BoSSS.Foundation.XDG;\n",
        "using BoSSS.Foundation.Grid;\n",
        "using BoSSS.Foundation.Grid.Classic;\n",
        "using BoSSS.Foundation.Grid.RefElements;\n",
        "using BoSSS.Foundation.IO;\n",
        "using BoSSS.Solution;\n",
        "using BoSSS.Solution.Control;\n",
        "using BoSSS.Solution.GridImport;\n",
        "using BoSSS.Solution.Statistic;\n",
        "using BoSSS.Solution.Utils;\n",
        "using BoSSS.Solution.AdvancedSolvers;\n",
        "using BoSSS.Solution.Gnuplot;\n",
        "using BoSSS.Application.BoSSSpad;\n",
        "using BoSSS.Application.XNSE_Solver;\n",
        "using static BoSSS.Application.BoSSSpad.BoSSSshell;\n",
        "Init();\n"
      ]
    },
    {
      "cell_type": "code",
      "execution_count": 2,
      "metadata": {
        "dotnet_interactive": {
          "language": "csharp"
        },
        "vscode": {
          "languageId": "polyglot-notebook"
        }
      },
      "outputs": [],
      "source": [
        "using BoSSS.Solution.Tecplot;\n",
        "using ilPSP.Connectors.Matlab;\n",
        "using static ilPSP.IMatrixExtensions;\n",
        "using System.IO;\n",
        "using BoSSS.Foundation.XDG;\n",
        "using BoSSS.Foundation.Quadrature;\n",
        "using BoSSS.Solution.CompressibleFlowCommon.ShockFinding;\n",
        "using System.Collections;"
      ]
    },
    {
      "cell_type": "code",
      "execution_count": 3,
      "metadata": {
        "dotnet_interactive": {
          "language": "csharp"
        },
        "vscode": {
          "languageId": "polyglot-notebook"
        }
      },
      "outputs": [
        {
          "name": "stdout",
          "output_type": "stream",
          "text": [
            "Creating database 'bosss_db_levelSets'.\r\n"
          ]
        }
      ],
      "source": [
        "string dbPath = \"bosss_db_levelSets\";\n",
        "//string dbPath = \"bosss_db_shockFinding\";\n",
        "var database=  OpenOrCreateDatabase(dbPath);"
      ]
    },
    {
      "cell_type": "code",
      "execution_count": 4,
      "metadata": {
        "dotnet_interactive": {
          "language": "csharp"
        },
        "vscode": {
          "languageId": "polyglot-notebook"
        }
      },
      "outputs": [
        {
          "ename": "Error",
          "evalue": "System.ArgumentOutOfRangeException: Index was out of range. Must be non-negative and less than the size of the collection. (Parameter 'index')\r\n   at System.Collections.Generic.List`1.get_Item(Int32 index)\r\n   at System.Linq.Enumerable.ElementAt[TSource](IEnumerable`1 source, Int32 index)\r\n   at BoSSS.Foundation.IO.IEnumerableExtensions.Pick[T](IEnumerable`1 entities, Int32 index) in C:\\experimental\\public\\src\\L4-application\\BoSSSpad\\IEnumerableExtensions.cs:line 131\r\n   at Submission#5.<<Initialize>>d__0.MoveNext()\r\n--- End of stack trace from previous location ---\r\n   at Microsoft.CodeAnalysis.Scripting.ScriptExecutionState.RunSubmissionsAsync[TResult](ImmutableArray`1 precedingExecutors, Func`2 currentExecutor, StrongBox`1 exceptionHolderOpt, Func`2 catchExceptionOpt, CancellationToken cancellationToken)",
          "output_type": "error",
          "traceback": [
            "System.ArgumentOutOfRangeException: Index was out of range. Must be non-negative and less than the size of the collection. (Parameter 'index')\r\n",
            "   at System.Collections.Generic.List`1.get_Item(Int32 index)\r\n",
            "   at System.Linq.Enumerable.ElementAt[TSource](IEnumerable`1 source, Int32 index)\r\n",
            "   at BoSSS.Foundation.IO.IEnumerableExtensions.Pick[T](IEnumerable`1 entities, Int32 index) in C:\\experimental\\public\\src\\L4-application\\BoSSSpad\\IEnumerableExtensions.cs:line 131\r\n",
            "   at Submission#5.<<Initialize>>d__0.MoveNext()\r\n",
            "--- End of stack trace from previous location ---\r\n",
            "   at Microsoft.CodeAnalysis.Scripting.ScriptExecutionState.RunSubmissionsAsync[TResult](ImmutableArray`1 precedingExecutors, Func`2 currentExecutor, StrongBox`1 exceptionHolderOpt, Func`2 catchExceptionOpt, CancellationToken cancellationToken)"
          ]
        }
      ],
      "source": [
        "// Select sessions\n",
        "List<ISessionInfo> sessions = new List<ISessionInfo>();\n",
        "//sessions.AddRange(database.Sessions.Pick(6, 7, 8));\n",
        "sessions.AddRange(database.Sessions.Pick(0));"
      ]
    },
    {
      "cell_type": "code",
      "execution_count": 5,
      "metadata": {
        "dotnet_interactive": {
          "language": "csharp"
        },
        "vscode": {
          "languageId": "polyglot-notebook"
        }
      },
      "outputs": [],
      "source": [
        "// Select seeding setup\n",
        "SeedingSetup seeding = SeedingSetup.av;\n",
        "//SeedingSetup seeding = SeedingSetup.av3x3;\n",
        "//SeedingSetup seeding = SeedingSetup.everywhere;"
      ]
    },
    {
      "cell_type": "code",
      "execution_count": 6,
      "metadata": {
        "dotnet_interactive": {
          "language": "csharp"
        },
        "vscode": {
          "languageId": "polyglot-notebook"
        }
      },
      "outputs": [],
      "source": [
        "// Select the maximum number of iterations\n",
        "int maxNumOfIterations = 100; "
      ]
    },
    {
      "cell_type": "code",
      "execution_count": 7,
      "metadata": {
        "dotnet_interactive": {
          "language": "csharp"
        },
        "vscode": {
          "languageId": "polyglot-notebook"
        }
      },
      "outputs": [],
      "source": []
    },
    {
      "cell_type": "code",
      "execution_count": 8,
      "metadata": {
        "dotnet_interactive": {
          "language": "csharp"
        },
        "vscode": {
          "languageId": "polyglot-notebook"
        }
      },
      "outputs": [],
      "source": [
        "// Create Direcotories\n",
        "//string mainPath      = @\"C:\\tmp\\ProductionRuns_Seeding_\" + seeding.ToString() +  @\"\\\";\n",
        "//string mainPath        = @\"C:\\tmp\\ProductionRuns_Seeding_\" + seeding.ToString() +  @\"_\"+ maxNumOfIterations + @\"\\\"; \n",
        "string mainPath = @\"C:\\tmp\\XDGFields_\" + seeding.ToString() +  @\"_\" + maxNumOfIterations.ToString() + @\"\\\"; \n",
        "\n",
        "string[] sessionPathsRecon = ShockFindingExtensions.CreateDirectories(mainPath, @\"LevelSetReconstruction\", sessions);\n",
        "ShockFindingExtensions.EmptyDirectories(mainPath, @\"LevelSetReconstruction\", sessions);\n",
        "\n",
        "string[] sessionPathsInflec = ShockFindingExtensions.CreateDirectories(mainPath, @\"InflectionPoints\", sessions);\n"
      ]
    },
    {
      "cell_type": "markdown",
      "metadata": {},
      "source": [
        "# Find the inflection points (takes time: about 400s for 1000 max Number of Iterations)"
      ]
    },
    {
      "cell_type": "code",
      "execution_count": 9,
      "metadata": {
        "dotnet_interactive": {
          "language": "csharp"
        },
        "vscode": {
          "languageId": "polyglot-notebook"
        }
      },
      "outputs": [
        {
          "ename": "Error",
          "evalue": "(1,81): error CS0103: The name 'session' does not exist in the current context",
          "output_type": "error",
          "traceback": [
            "(1,81): error CS0103: The name 'session' does not exist in the current context"
          ]
        }
      ],
      "source": [
        "InflectionPointFinder finder = new InflectionPointFinder(sessionPathsInflec[0], session.Timesteps.Last());\n",
        "    finder.FindPoints(seeding: seeding, patchRecoveryGradient: true, patchRecoveryHessian: true, eliminateNonConverged: true, maxNumOfIterations: maxNumOfIterations);\n",
        "    //finder.Plot(plotDGFields: true, plotSeedingsPoints: true, plotInflectionsPoints: true, plotCurves: false, plotStartEndPairs: false);\n"
      ]
    },
    {
      "cell_type": "code",
      "execution_count": 10,
      "metadata": {
        "dotnet_interactive": {
          "language": "csharp"
        },
        "vscode": {
          "languageId": "polyglot-notebook"
        }
      },
      "outputs": [
        {
          "ename": "Error",
          "evalue": "(1,1): error CS0103: The name 'finder' does not exist in the current context\r\n(1,28): error CS0103: The name 'finder' does not exist in the current context\r\n(2,1): error CS0103: The name 'finder' does not exist in the current context\r\n(2,36): error CS0103: The name 'finder' does not exist in the current context",
          "output_type": "error",
          "traceback": [
            "(1,1): error CS0103: The name 'finder' does not exist in the current context\r\n",
            "(1,28): error CS0103: The name 'finder' does not exist in the current context\r\n",
            "(2,1): error CS0103: The name 'finder' does not exist in the current context\r\n",
            "(2,36): error CS0103: The name 'finder' does not exist in the current context"
          ]
        }
      ],
      "source": [
        "finder.Results.SaveResults(finder.SessionPath);\n",
        "finder.ResultsExtended.SaveResults(finder.SessionPath);"
      ]
    },
    {
      "cell_type": "code",
      "execution_count": 11,
      "metadata": {
        "dotnet_interactive": {
          "language": "csharp"
        },
        "vscode": {
          "languageId": "polyglot-notebook"
        }
      },
      "outputs": [
        {
          "ename": "Error",
          "evalue": "(4,79): error CS0103: The name 'session' does not exist in the current context\r\n(6,1): error CS0103: The name 'clusteringZero' does not exist in the current context\r\n(7,1): error CS0103: The name 'clusterZero' does not exist in the current context\r\n(8,1): error CS0103: The name 'clusteringTwo' does not exist in the current context\r\n(9,1): error CS0103: The name 'clusteringThree' does not exist in the current context",
          "output_type": "error",
          "traceback": [
            "(4,79): error CS0103: The name 'session' does not exist in the current context\r\n",
            "(6,1): error CS0103: The name 'clusteringZero' does not exist in the current context\r\n",
            "(7,1): error CS0103: The name 'clusterZero' does not exist in the current context\r\n",
            "(8,1): error CS0103: The name 'clusteringTwo' does not exist in the current context\r\n",
            "(9,1): error CS0103: The name 'clusteringThree' does not exist in the current context"
          ]
        }
      ],
      "source": [
        "MultidimensionalArray results         = ShockFindingExtensions.LoadResults(sessionPathsInflec[0]);\n",
        "MultidimensionalArray resultsExtended = ShockFindingExtensions.LoadResultsExtended(sessionPathsInflec[0]);\n",
        "\n",
        "LevelSetReconstruction lsr = new LevelSetReconstruction(sessionPathsRecon[0], session, results, resultsExtended);\n",
        "resultsExtended.SaveToTextFile(\"convergedCandidatePoints.txt\");\n",
        "clusteringZero.SaveToTextFile(\"clusteringZero.txt\");\n",
        "clusterZero.SaveToTextFile(\"clusterOne.txt\");\n",
        "clusteringTwo.SaveToTextFile(\"clusteringTwo.txt\");\n",
        "clusteringThree.SaveToTextFile(\"clusteringThree.txt\");"
      ]
    },
    {
      "cell_type": "code",
      "execution_count": 12,
      "metadata": {
        "dotnet_interactive": {
          "language": "csharp"
        },
        "vscode": {
          "languageId": "polyglot-notebook"
        }
      },
      "outputs": [
        {
          "ename": "Error",
          "evalue": "(3,44): error CS0103: The name 'lsr' does not exist in the current context\r\n(5,41): error CS0103: The name 'lsr' does not exist in the current context\r\n(13,43): error CS0103: The name 'lsr' does not exist in the current context\r\n(17,45): error CS0103: The name 'lsr' does not exist in the current context\r\n(20,5): error CS0103: The name 'lsr' does not exist in the current context",
          "output_type": "error",
          "traceback": [
            "(3,44): error CS0103: The name 'lsr' does not exist in the current context\r\n",
            "(5,41): error CS0103: The name 'lsr' does not exist in the current context\r\n",
            "(13,43): error CS0103: The name 'lsr' does not exist in the current context\r\n",
            "(17,45): error CS0103: The name 'lsr' does not exist in the current context\r\n",
            "(20,5): error CS0103: The name 'lsr' does not exist in the current context"
          ]
        }
      ],
      "source": [
        "\n",
        "// Clustering zero (density)\n",
        "    MultidimensionalArray clusteringZero = lsr.CreateClustering_Density(3, new double[] {1.0, 2.7, 5.0});\n",
        "    //lsr.SaveClusteringToTextFile(clusteringZero);\n",
        "    MultidimensionalArray clusterZero = lsr.SelectCluster(clusteringZero, clusterToSelect: 1);\n",
        "    \n",
        "    // Clustering one (artificial viscosity)\n",
        "    //MultidimensionalArray clusteringOne = lsr.CreateClustering_AV(clusterZero, 2, new double[] {0.0, 0.0});\n",
        "    //lsr.SaveClusteringToTextFile(clusteringOne);\n",
        "    //MultidimensionalArray clusterOne = lsr.SelectCluster(clusteringOne, clusterToSelect: 0);\n",
        "    \n",
        "    // Clustering two (eliminate boundary cells)\n",
        "    MultidimensionalArray clusteringTwo = lsr.CreateClustering_Boundary(clusterZero);\n",
        "    //lsr.SaveClusteringToTextFile(clusteringTwo);\n",
        "    \n",
        "    // Clustering three (eliminate cells close to the blunt body)\n",
        "    MultidimensionalArray clusteringThree = lsr.CreateClustering_DeletePointsAtGeometry(clusteringTwo);\n",
        "    //lsr.SaveClusteringToTextFile(clusteringThree);\n",
        "    // Reconstruct level set field\n",
        "    lsr.ReconstructLevelSet(patchRecovery: true, continuous: true);\n",
        "    \n",
        "    // Plot level set fields\n",
        "    //lsr.PlotFields();\n"
      ]
    },
    {
      "cell_type": "code",
      "execution_count": 13,
      "metadata": {
        "dotnet_interactive": {
          "language": "csharp"
        },
        "vscode": {
          "languageId": "polyglot-notebook"
        }
      },
      "outputs": [
        {
          "ename": "Error",
          "evalue": "(3,41): error CS0103: The name 'lsr' does not exist in the current context\r\n(6,29): error CS0103: The name 'session' does not exist in the current context\r\n(7,29): error CS0103: The name 'session' does not exist in the current context\r\n(8,29): error CS0103: The name 'session' does not exist in the current context\r\n(9,29): error CS0103: The name 'session' does not exist in the current context",
          "output_type": "error",
          "traceback": [
            "(3,41): error CS0103: The name 'lsr' does not exist in the current context\r\n",
            "(6,29): error CS0103: The name 'session' does not exist in the current context\r\n",
            "(7,29): error CS0103: The name 'session' does not exist in the current context\r\n",
            "(8,29): error CS0103: The name 'session' does not exist in the current context\r\n",
            "(9,29): error CS0103: The name 'session' does not exist in the current context"
          ]
        }
      ],
      "source": [
        "    \n",
        "    // Save level set and conservative fields\n",
        "    var exportDb = OpenOrCreateDatabase(lsr.SessionPath + @\"bosss_db_levelSetReconstruction\");\n",
        "\n",
        "    DGField[] conservativeFields = new DGField[4];\n",
        "    conservativeFields[0] = session.Timesteps.Last().Fields.Find(\"rho\");\n",
        "    conservativeFields[1] = session.Timesteps.Last().Fields.Find(\"m0\");\n",
        "    conservativeFields[2] = session.Timesteps.Last().Fields.Find(\"m1\");\n",
        "    conservativeFields[3] = session.Timesteps.Last().Fields.Find(\"rhoE\");\n"
      ]
    },
    {
      "cell_type": "code",
      "execution_count": 14,
      "metadata": {
        "dotnet_interactive": {
          "language": "csharp"
        },
        "vscode": {
          "languageId": "polyglot-notebook"
        }
      },
      "outputs": [
        {
          "ename": "Error",
          "evalue": "(2,32): error CS0103: The name 'lsr' does not exist in the current context",
          "output_type": "error",
          "traceback": [
            "(2,32): error CS0103: The name 'lsr' does not exist in the current context"
          ]
        }
      ],
      "source": [
        "    \n",
        "    DGField[] levelSetFields = lsr.LevelSetFields.ToArray();\n"
      ]
    },
    {
      "cell_type": "code",
      "execution_count": 15,
      "metadata": {
        "dotnet_interactive": {
          "language": "csharp"
        },
        "vscode": {
          "languageId": "polyglot-notebook"
        }
      },
      "outputs": [
        {
          "ename": "Error",
          "evalue": "(2,39): error CS0103: The name 'levelSetFields' does not exist in the current context\r\n(2,63): error CS0103: The name 'conservativeFields' does not exist in the current context",
          "output_type": "error",
          "traceback": [
            "(2,39): error CS0103: The name 'levelSetFields' does not exist in the current context\r\n",
            "(2,63): error CS0103: The name 'conservativeFields' does not exist in the current context"
          ]
        }
      ],
      "source": [
        "\n",
        "    DGField[] allFields = new DGField[levelSetFields.Length + conservativeFields.Length];\n"
      ]
    },
    {
      "cell_type": "code",
      "execution_count": 16,
      "metadata": {
        "dotnet_interactive": {
          "language": "csharp"
        },
        "vscode": {
          "languageId": "polyglot-notebook"
        }
      },
      "outputs": [
        {
          "ename": "Error",
          "evalue": "(1,5): error CS0103: The name 'levelSetFields' does not exist in the current context\r\n(1,27): error CS0103: The name 'allFields' does not exist in the current context",
          "output_type": "error",
          "traceback": [
            "(1,5): error CS0103: The name 'levelSetFields' does not exist in the current context\r\n",
            "(1,27): error CS0103: The name 'allFields' does not exist in the current context"
          ]
        }
      ],
      "source": [
        "    levelSetFields.CopyTo(allFields, 0);\n"
      ]
    },
    {
      "cell_type": "code",
      "execution_count": 17,
      "metadata": {
        "dotnet_interactive": {
          "language": "csharp"
        },
        "vscode": {
          "languageId": "polyglot-notebook"
        }
      },
      "outputs": [
        {
          "ename": "Error",
          "evalue": "(1,5): error CS0103: The name 'conservativeFields' does not exist in the current context\r\n(1,31): error CS0103: The name 'allFields' does not exist in the current context\r\n(1,42): error CS0103: The name 'levelSetFields' does not exist in the current context",
          "output_type": "error",
          "traceback": [
            "(1,5): error CS0103: The name 'conservativeFields' does not exist in the current context\r\n",
            "(1,31): error CS0103: The name 'allFields' does not exist in the current context\r\n",
            "(1,42): error CS0103: The name 'levelSetFields' does not exist in the current context"
          ]
        }
      ],
      "source": [
        "    conservativeFields.CopyTo(allFields, levelSetFields.Length);\n"
      ]
    },
    {
      "cell_type": "code",
      "execution_count": 18,
      "metadata": {
        "dotnet_interactive": {
          "language": "csharp"
        },
        "polyglot_notebook": {
          "kernelName": "csharp"
        },
        "vscode": {
          "languageId": "polyglot-notebook"
        }
      },
      "outputs": [
        {
          "ename": "Error",
          "evalue": "(1,1): error CS0103: The name 'allFields' does not exist in the current context",
          "output_type": "error",
          "traceback": [
            "(1,1): error CS0103: The name 'allFields' does not exist in the current context"
          ]
        }
      ],
      "source": [
        "allFields"
      ]
    },
    {
      "cell_type": "code",
      "execution_count": 19,
      "metadata": {
        "dotnet_interactive": {
          "language": "csharp"
        },
        "vscode": {
          "languageId": "polyglot-notebook"
        }
      },
      "outputs": [
        {
          "ename": "Error",
          "evalue": "(1,27): error CS0103: The name 'allFields' does not exist in the current context\r\n(2,34): error CS0103: The name 'allFields' does not exist in the current context",
          "output_type": "error",
          "traceback": [
            "(1,27): error CS0103: The name 'allFields' does not exist in the current context\r\n",
            "(2,34): error CS0103: The name 'allFields' does not exist in the current context"
          ]
        }
      ],
      "source": [
        "var texplot = new Tecplot(allFields.Pick(3).Basis.GridDat, 2);\n",
        "texplot.PlotFields( \"BS_\"+ 0,0.0,allFields);\n",
        "    "
      ]
    },
    {
      "cell_type": "code",
      "execution_count": 20,
      "metadata": {
        "dotnet_interactive": {
          "language": "csharp"
        },
        "vscode": {
          "languageId": "polyglot-notebook"
        }
      },
      "outputs": [
        {
          "ename": "Error",
          "evalue": "(2,5): error CS0103: The name 'exportDb' does not exist in the current context\r\n(2,34): error CS0103: The name 'allFields' does not exist in the current context\r\n(2,45): error CS0103: The name 'lsr' does not exist in the current context\r\n(2,70): error CS0103: The name 'lsr' does not exist in the current context",
          "output_type": "error",
          "traceback": [
            "(2,5): error CS0103: The name 'exportDb' does not exist in the current context\r\n",
            "(2,34): error CS0103: The name 'allFields' does not exist in the current context\r\n",
            "(2,45): error CS0103: The name 'lsr' does not exist in the current context\r\n",
            "(2,70): error CS0103: The name 'lsr' does not exist in the current context"
          ]
        }
      ],
      "source": [
        "    \n",
        "    exportDb.SaveGridAndTimestep(allFields, lsr.Session.ProjectName, lsr.Session.Name);\n",
        "\n"
      ]
    },
    {
      "cell_type": "code",
      "execution_count": 21,
      "metadata": {
        "dotnet_interactive": {
          "language": "csharp"
        },
        "vscode": {
          "languageId": "polyglot-notebook"
        }
      },
      "outputs": [
        {
          "ename": "Error",
          "evalue": "(1,1): error CS0103: The name 'count' does not exist in the current context",
          "output_type": "error",
          "traceback": [
            "(1,1): error CS0103: The name 'count' does not exist in the current context"
          ]
        }
      ],
      "source": [
        "count\n"
      ]
    },
    {
      "cell_type": "code",
      "execution_count": 22,
      "metadata": {
        "dotnet_interactive": {
          "language": "csharp"
        },
        "vscode": {
          "languageId": "polyglot-notebook"
        }
      },
      "outputs": [
        {
          "name": "stdout",
          "output_type": "stream",
          "text": [
            "\n",
            "### LevelSetReconstruction.bws finished ###\r\n"
          ]
        }
      ],
      "source": [
        "Console.WriteLine(\"\\n### LevelSetReconstruction.bws finished ###\");"
      ]
    },
    {
      "cell_type": "code",
      "execution_count": 23,
      "metadata": {
        "dotnet_interactive": {
          "language": "csharp"
        },
        "vscode": {
          "languageId": "polyglot-notebook"
        }
      },
      "outputs": [],
      "source": []
    },
    {
      "cell_type": "code",
      "execution_count": 24,
      "metadata": {
        "dotnet_interactive": {
          "language": "csharp"
        },
        "vscode": {
          "languageId": "polyglot-notebook"
        }
      },
      "outputs": [],
      "source": []
    },
    {
      "cell_type": "code",
      "execution_count": 25,
      "metadata": {
        "dotnet_interactive": {
          "language": "csharp"
        },
        "vscode": {
          "languageId": "polyglot-notebook"
        }
      },
      "outputs": [],
      "source": [
        "// Test data\n",
        "//MultidimensionalArray input = MultidimensionalArray.Create(3, 1, 5);\n",
        "//input[0, 0, 0] = 0;\n",
        "//input[0, 0, 1] = 0.1;\n",
        "//input[0, 0, 2] = 0.2;\n",
        "//input[0, 0, 3] = 0.3;\n",
        "//input[0, 0, 4] = 0.4;\n",
        "\n",
        "//input[1, 0, 0] = 1.0;\n",
        "//input[1, 0, 1] = 1.1;\n",
        "//input[1, 0, 2] = 1.2;\n",
        "//input[1, 0, 3] = 1.3;\n",
        "//input[1, 0, 4] = 1.4;\n",
        "\n",
        "//input[2, 0, 0] = 2.0;\n",
        "//input[2, 0, 1] = 2.1;\n",
        "//input[2, 0, 2] = 2.2;\n",
        "//input[2, 0, 3] = 2.3;\n",
        "//input[2, 0, 4] = 2.4;\n",
        "\n",
        "//MultidimensionalArray inputExtended = MultidimensionalArray.Create(3, 3);\n",
        "//inputExtended[0, 0] = 1;\n",
        "//inputExtended[0, 1] = 1;\n",
        "//inputExtended[0, 2] = 0;\n",
        "\n",
        "//inputExtended[1, 0] = 1;\n",
        "//inputExtended[1, 1] = -1;\n",
        "//inputExtended[1, 2] = 1;\n",
        "\n",
        "//inputExtended[2, 0] = 1;\n",
        "//inputExtended[2, 1] = 1;\n",
        "//inputExtended[2, 2] = 2;"
      ]
    },
    {
      "cell_type": "code",
      "execution_count": 26,
      "metadata": {
        "dotnet_interactive": {
          "language": "csharp"
        },
        "vscode": {
          "languageId": "polyglot-notebook"
        }
      },
      "outputs": [],
      "source": []
    },
    {
      "cell_type": "code",
      "execution_count": 27,
      "metadata": {
        "dotnet_interactive": {
          "language": "csharp"
        },
        "vscode": {
          "languageId": "polyglot-notebook"
        }
      },
      "outputs": [],
      "source": []
    },
    {
      "cell_type": "code",
      "execution_count": 28,
      "metadata": {
        "dotnet_interactive": {
          "language": "csharp"
        },
        "vscode": {
          "languageId": "polyglot-notebook"
        }
      },
      "outputs": [],
      "source": []
    },
    {
      "cell_type": "code",
      "execution_count": 29,
      "metadata": {
        "dotnet_interactive": {
          "language": "csharp"
        },
        "vscode": {
          "languageId": "polyglot-notebook"
        }
      },
      "outputs": [],
      "source": []
    },
    {
      "cell_type": "code",
      "execution_count": 30,
      "metadata": {
        "dotnet_interactive": {
          "language": "csharp"
        },
        "vscode": {
          "languageId": "polyglot-notebook"
        }
      },
      "outputs": [],
      "source": []
    },
    {
      "cell_type": "code",
      "execution_count": 31,
      "metadata": {
        "dotnet_interactive": {
          "language": "csharp"
        },
        "vscode": {
          "languageId": "polyglot-notebook"
        }
      },
      "outputs": [],
      "source": []
    },
    {
      "cell_type": "code",
      "execution_count": 32,
      "metadata": {
        "dotnet_interactive": {
          "language": "csharp"
        },
        "vscode": {
          "languageId": "polyglot-notebook"
        }
      },
      "outputs": [],
      "source": []
    },
    {
      "cell_type": "code",
      "execution_count": 33,
      "metadata": {
        "dotnet_interactive": {
          "language": "csharp"
        },
        "vscode": {
          "languageId": "polyglot-notebook"
        }
      },
      "outputs": [],
      "source": []
    },
    {
      "cell_type": "code",
      "execution_count": 34,
      "metadata": {
        "dotnet_interactive": {
          "language": "csharp"
        },
        "vscode": {
          "languageId": "polyglot-notebook"
        }
      },
      "outputs": [],
      "source": []
    },
    {
      "cell_type": "code",
      "execution_count": 35,
      "metadata": {
        "dotnet_interactive": {
          "language": "csharp"
        },
        "vscode": {
          "languageId": "polyglot-notebook"
        }
      },
      "outputs": [],
      "source": []
    },
    {
      "cell_type": "code",
      "execution_count": 36,
      "metadata": {
        "dotnet_interactive": {
          "language": "csharp"
        },
        "vscode": {
          "languageId": "polyglot-notebook"
        }
      },
      "outputs": [],
      "source": []
    },
    {
      "cell_type": "code",
      "execution_count": 37,
      "metadata": {
        "dotnet_interactive": {
          "language": "csharp"
        },
        "vscode": {
          "languageId": "polyglot-notebook"
        }
      },
      "outputs": [],
      "source": []
    },
    {
      "cell_type": "code",
      "execution_count": 38,
      "metadata": {
        "dotnet_interactive": {
          "language": "csharp"
        },
        "vscode": {
          "languageId": "polyglot-notebook"
        }
      },
      "outputs": [],
      "source": []
    },
    {
      "cell_type": "code",
      "execution_count": 39,
      "metadata": {
        "dotnet_interactive": {
          "language": "csharp"
        },
        "vscode": {
          "languageId": "polyglot-notebook"
        }
      },
      "outputs": [],
      "source": []
    },
    {
      "cell_type": "code",
      "execution_count": 40,
      "metadata": {
        "dotnet_interactive": {
          "language": "csharp"
        },
        "vscode": {
          "languageId": "polyglot-notebook"
        }
      },
      "outputs": [],
      "source": []
    },
    {
      "cell_type": "code",
      "execution_count": 41,
      "metadata": {
        "dotnet_interactive": {
          "language": "csharp"
        },
        "vscode": {
          "languageId": "polyglot-notebook"
        }
      },
      "outputs": [],
      "source": []
    },
    {
      "cell_type": "code",
      "execution_count": 42,
      "metadata": {
        "dotnet_interactive": {
          "language": "csharp"
        },
        "vscode": {
          "languageId": "polyglot-notebook"
        }
      },
      "outputs": [],
      "source": []
    },
    {
      "cell_type": "code",
      "execution_count": 43,
      "metadata": {
        "dotnet_interactive": {
          "language": "csharp"
        },
        "vscode": {
          "languageId": "polyglot-notebook"
        }
      },
      "outputs": [],
      "source": []
    },
    {
      "cell_type": "code",
      "execution_count": 44,
      "metadata": {
        "dotnet_interactive": {
          "language": "csharp"
        },
        "vscode": {
          "languageId": "polyglot-notebook"
        }
      },
      "outputs": [],
      "source": []
    },
    {
      "cell_type": "code",
      "execution_count": 45,
      "metadata": {
        "dotnet_interactive": {
          "language": "csharp"
        },
        "vscode": {
          "languageId": "polyglot-notebook"
        }
      },
      "outputs": [],
      "source": []
    },
    {
      "cell_type": "code",
      "execution_count": 46,
      "metadata": {
        "dotnet_interactive": {
          "language": "csharp"
        },
        "vscode": {
          "languageId": "polyglot-notebook"
        }
      },
      "outputs": [],
      "source": []
    },
    {
      "cell_type": "code",
      "execution_count": 47,
      "metadata": {
        "dotnet_interactive": {
          "language": "csharp"
        },
        "vscode": {
          "languageId": "polyglot-notebook"
        }
      },
      "outputs": [],
      "source": []
    },
    {
      "cell_type": "code",
      "execution_count": 48,
      "metadata": {
        "dotnet_interactive": {
          "language": "csharp"
        },
        "vscode": {
          "languageId": "polyglot-notebook"
        }
      },
      "outputs": [],
      "source": []
    },
    {
      "cell_type": "code",
      "execution_count": 49,
      "metadata": {
        "dotnet_interactive": {
          "language": "csharp"
        },
        "vscode": {
          "languageId": "polyglot-notebook"
        }
      },
      "outputs": [],
      "source": []
    }
  ],
  "metadata": {
    "kernelspec": {
      "display_name": ".NET (C#)",
      "language": "C#",
      "name": ".net-csharp"
    },
    "language_info": {
      "file_extension": ".cs",
      "mimetype": "text/x-csharp",
      "name": "C#",
      "pygments_lexer": "csharp",
      "version": "8.0"
    }
  },
  "nbformat": 4,
  "nbformat_minor": 4
}

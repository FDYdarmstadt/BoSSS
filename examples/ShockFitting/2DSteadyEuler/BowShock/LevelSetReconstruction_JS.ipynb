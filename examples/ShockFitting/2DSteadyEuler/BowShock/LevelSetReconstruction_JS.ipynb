{
  "cells": [
    {
      "cell_type": "code",
      "execution_count": 17,
      "metadata": {
        "dotnet_interactive": {
          "language": "csharp"
        },
        "vscode": {
          "languageId": "polyglot-notebook"
        }
      },
      "outputs": [
        {
          "name": "stdout",
          "output_type": "stream",
          "text": [
            "Using gnuplot: C:\\Program Files (x86)\\FDY\\BoSSS\\bin\\native\\win\\gnuplot-gp510-20160418-win32-mingw\\gnuplot\\bin\\gnuplot.exe\n",
            "Databases loaded: \n",
            "Capacity: 0\n",
            "Count: 0\n",
            "\n"
          ]
        },
        {
          "ename": "Error",
          "evalue": "System.ApplicationException: Already called.\r\n   at BoSSS.Application.BoSSSpad.BoSSSshell.InitTraceFile() in C:\\Users\\jakob\\Documents\\Uni\\Promotion\\Programmieren\\BoSSS\\experimental\\public\\src\\L4-application\\BoSSSpad\\BoSSSshell.cs:line 217\r\n   at BoSSS.Application.BoSSSpad.BoSSSshell.Init() in C:\\Users\\jakob\\Documents\\Uni\\Promotion\\Programmieren\\BoSSS\\experimental\\public\\src\\L4-application\\BoSSSpad\\BoSSSshell.cs:line 104\r\n   at Submission#18.<<Initialize>>d__0.MoveNext()\r\n--- End of stack trace from previous location ---\r\n   at Microsoft.CodeAnalysis.Scripting.ScriptExecutionState.RunSubmissionsAsync[TResult](ImmutableArray`1 precedingExecutors, Func`2 currentExecutor, StrongBox`1 exceptionHolderOpt, Func`2 catchExceptionOpt, CancellationToken cancellationToken)",
          "output_type": "error",
          "traceback": [
            "System.ApplicationException: Already called.\r\n",
            "   at BoSSS.Application.BoSSSpad.BoSSSshell.InitTraceFile() in C:\\Users\\jakob\\Documents\\Uni\\Promotion\\Programmieren\\BoSSS\\experimental\\public\\src\\L4-application\\BoSSSpad\\BoSSSshell.cs:line 217\r\n",
            "   at BoSSS.Application.BoSSSpad.BoSSSshell.Init() in C:\\Users\\jakob\\Documents\\Uni\\Promotion\\Programmieren\\BoSSS\\experimental\\public\\src\\L4-application\\BoSSSpad\\BoSSSshell.cs:line 104\r\n",
            "   at Submission#18.<<Initialize>>d__0.MoveNext()\r\n",
            "--- End of stack trace from previous location ---\r\n",
            "   at Microsoft.CodeAnalysis.Scripting.ScriptExecutionState.RunSubmissionsAsync[TResult](ImmutableArray`1 precedingExecutors, Func`2 currentExecutor, StrongBox`1 exceptionHolderOpt, Func`2 catchExceptionOpt, CancellationToken cancellationToken)"
          ]
        }
      ],
      "source": [
        "#r \".\\binaries\\BoSSSpad.dll\"\n",
        "using System;\n",
        "using System.Collections.Generic;\n",
        "using System.Linq;\n",
        "using ilPSP;\n",
        "using ilPSP.Utils;\n",
        "using BoSSS.Platform;\n",
        "using BoSSS.Platform.LinAlg;\n",
        "using BoSSS.Foundation;\n",
        "using BoSSS.Foundation.XDG;\n",
        "using BoSSS.Foundation.Grid;\n",
        "using BoSSS.Foundation.Grid.Classic;\n",
        "using BoSSS.Foundation.Grid.RefElements;\n",
        "using BoSSS.Foundation.IO;\n",
        "using BoSSS.Solution;\n",
        "using BoSSS.Solution.Control;\n",
        "using BoSSS.Solution.GridImport;\n",
        "using BoSSS.Solution.Statistic;\n",
        "using BoSSS.Solution.Utils;\n",
        "using BoSSS.Solution.AdvancedSolvers;\n",
        "using BoSSS.Solution.Gnuplot;\n",
        "using BoSSS.Application.BoSSSpad;\n",
        "using BoSSS.Application.XNSE_Solver;\n",
        "using static BoSSS.Application.BoSSSpad.BoSSSshell;\n",
        "Init();\n"
      ]
    },
    {
      "cell_type": "code",
      "execution_count": 18,
      "metadata": {
        "dotnet_interactive": {
          "language": "csharp"
        },
        "vscode": {
          "languageId": "polyglot-notebook"
        }
      },
      "outputs": [],
      "source": [
        "using BoSSS.Solution.Tecplot;\n",
        "using ilPSP.Connectors.Matlab;\n",
        "using static ilPSP.IMatrixExtensions;\n",
        "using System.IO;\n",
        "using BoSSS.Foundation.XDG;\n",
        "using BoSSS.Foundation.Quadrature;\n",
        "using BoSSS.Solution.CompressibleFlowCommon.ShockFinding;\n",
        "using System.Collections;"
      ]
    },
    {
      "cell_type": "code",
      "execution_count": 104,
      "metadata": {
        "dotnet_interactive": {
          "language": "csharp"
        },
        "vscode": {
          "languageId": "polyglot-notebook"
        }
      },
      "outputs": [],
      "source": [
        "string dbPath = \"bosss_db_levelSets\";\n",
        "//string dbPath = \"bosss_db_shockFinding\";\n",
        "var database=  OpenOrCreateDatabase(dbPath);"
      ]
    },
    {
      "cell_type": "code",
      "execution_count": 96,
      "metadata": {
        "dotnet_interactive": {
          "language": "csharp"
        },
        "vscode": {
          "languageId": "polyglot-notebook"
        }
      },
      "outputs": [],
      "source": [
        "// Select sessions\n",
        "List<ISessionInfo> sessions = new List<ISessionInfo>();\n",
        "//sessions.AddRange(database.Sessions.Pick(6, 7, 8));\n",
        "sessions.AddRange(database.Sessions.Pick(0));"
      ]
    },
    {
      "cell_type": "code",
      "execution_count": 97,
      "metadata": {
        "dotnet_interactive": {
          "language": "csharp"
        },
        "vscode": {
          "languageId": "polyglot-notebook"
        }
      },
      "outputs": [],
      "source": [
        "// Select seeding setup\n",
        "SeedingSetup seeding = SeedingSetup.av;\n",
        "//SeedingSetup seeding = SeedingSetup.av3x3;\n",
        "//SeedingSetup seeding = SeedingSetup.everywhere;"
      ]
    },
    {
      "cell_type": "code",
      "execution_count": 98,
      "metadata": {
        "dotnet_interactive": {
          "language": "csharp"
        },
        "vscode": {
          "languageId": "polyglot-notebook"
        }
      },
      "outputs": [],
      "source": [
        "// Select the maximum number of iterations\n",
        "int maxNumOfIterations = 100; "
      ]
    },
    {
      "cell_type": "code",
      "execution_count": 99,
      "metadata": {
        "dotnet_interactive": {
          "language": "csharp"
        },
        "vscode": {
          "languageId": "polyglot-notebook"
        }
      },
      "outputs": [],
      "source": []
    },
    {
      "cell_type": "code",
      "execution_count": 100,
      "metadata": {
        "dotnet_interactive": {
          "language": "csharp"
        },
        "vscode": {
          "languageId": "polyglot-notebook"
        }
      },
      "outputs": [],
      "source": [
        "// Create Direcotories\n",
        "//string mainPath      = @\"C:\\tmp\\ProductionRuns_Seeding_\" + seeding.ToString() +  @\"\\\";\n",
        "//string mainPath        = @\"C:\\tmp\\ProductionRuns_Seeding_\" + seeding.ToString() +  @\"_\"+ maxNumOfIterations + @\"\\\"; \n",
        "string mainPath = @\"C:\\tmp\\XDGFields_\" + seeding.ToString() +  @\"_\" + maxNumOfIterations.ToString() + @\"\\\"; \n",
        "\n",
        "string[] sessionPathsRecon = ShockFindingExtensions.CreateDirectories(mainPath, @\"LevelSetReconstruction\", sessions);\n",
        "ShockFindingExtensions.EmptyDirectories(mainPath, @\"LevelSetReconstruction\", sessions);\n",
        "\n",
        "string[] sessionPathsInflec = ShockFindingExtensions.CreateDirectories(mainPath, @\"InflectionPoints\", sessions);\n"
      ]
    },
    {
      "cell_type": "markdown",
      "metadata": {},
      "source": [
        "# Find the inflection points (takes time: about 400s for 1000 max Number of Iterations)"
      ]
    },
    {
      "cell_type": "code",
      "execution_count": 101,
      "metadata": {
        "dotnet_interactive": {
          "language": "csharp"
        },
        "vscode": {
          "languageId": "polyglot-notebook"
        }
      },
      "outputs": [
        {
          "ename": "Error",
          "evalue": "System.NullReferenceException: Object reference not set to an instance of an object.\r\n   at BoSSS.Solution.CompressibleFlowCommon.ShockFinding.ShockFindingExtensions.GetAVMeanValues(GridData gridData, SinglePhaseField avField) in C:\\Users\\jakob\\Documents\\Uni\\Promotion\\Programmieren\\BoSSS\\experimental\\public\\src\\L3-solution\\BoSSS.Solution.CompressibleFlowCommon\\ShockFinding\\ShockFindingExtensions.cs:line 209\r\n   at BoSSS.Solution.CompressibleFlowCommon.ShockFinding.InflectionPointFinder.FindPoints(SeedingSetup seeding, Boolean patchRecoveryGradient, Boolean patchRecoveryHessian, Boolean eliminateNonConverged, Int32 maxNumOfIterations, Double eps) in C:\\Users\\jakob\\Documents\\Uni\\Promotion\\Programmieren\\BoSSS\\experimental\\public\\src\\L3-solution\\BoSSS.Solution.CompressibleFlowCommon\\ShockFinding\\InflectionPointFinder.cs:line 131\r\n   at Submission#102.<<Initialize>>d__0.MoveNext()\r\n--- End of stack trace from previous location ---\r\n   at Microsoft.CodeAnalysis.Scripting.ScriptExecutionState.RunSubmissionsAsync[TResult](ImmutableArray`1 precedingExecutors, Func`2 currentExecutor, StrongBox`1 exceptionHolderOpt, Func`2 catchExceptionOpt, CancellationToken cancellationToken)",
          "output_type": "error",
          "traceback": [
            "System.NullReferenceException: Object reference not set to an instance of an object.\r\n",
            "   at BoSSS.Solution.CompressibleFlowCommon.ShockFinding.ShockFindingExtensions.GetAVMeanValues(GridData gridData, SinglePhaseField avField) in C:\\Users\\jakob\\Documents\\Uni\\Promotion\\Programmieren\\BoSSS\\experimental\\public\\src\\L3-solution\\BoSSS.Solution.CompressibleFlowCommon\\ShockFinding\\ShockFindingExtensions.cs:line 209\r\n",
            "   at BoSSS.Solution.CompressibleFlowCommon.ShockFinding.InflectionPointFinder.FindPoints(SeedingSetup seeding, Boolean patchRecoveryGradient, Boolean patchRecoveryHessian, Boolean eliminateNonConverged, Int32 maxNumOfIterations, Double eps) in C:\\Users\\jakob\\Documents\\Uni\\Promotion\\Programmieren\\BoSSS\\experimental\\public\\src\\L3-solution\\BoSSS.Solution.CompressibleFlowCommon\\ShockFinding\\InflectionPointFinder.cs:line 131\r\n",
            "   at Submission#102.<<Initialize>>d__0.MoveNext()\r\n",
            "--- End of stack trace from previous location ---\r\n",
            "   at Microsoft.CodeAnalysis.Scripting.ScriptExecutionState.RunSubmissionsAsync[TResult](ImmutableArray`1 precedingExecutors, Func`2 currentExecutor, StrongBox`1 exceptionHolderOpt, Func`2 catchExceptionOpt, CancellationToken cancellationToken)"
          ]
        }
      ],
      "source": [
        "InflectionPointFinder finder = new InflectionPointFinder(sessionPathsInflec[0], session.Timesteps.Last());\n",
        "    finder.FindPoints(seeding: seeding, patchRecoveryGradient: true, patchRecoveryHessian: true, eliminateNonConverged: true, maxNumOfIterations: maxNumOfIterations);\n",
        "    //finder.Plot(plotDGFields: true, plotSeedingsPoints: true, plotInflectionsPoints: true, plotCurves: false, plotStartEndPairs: false);\n"
      ]
    },
    {
      "cell_type": "code",
      "execution_count": 28,
      "metadata": {
        "dotnet_interactive": {
          "language": "csharp"
        },
        "vscode": {
          "languageId": "polyglot-notebook"
        }
      },
      "outputs": [],
      "source": [
        "finder.Results.SaveResults(finder.SessionPath);\n",
        "finder.ResultsExtended.SaveResults(finder.SessionPath);"
      ]
    },
    {
      "cell_type": "code",
      "execution_count": 87,
      "metadata": {
        "dotnet_interactive": {
          "language": "csharp"
        },
        "vscode": {
          "languageId": "polyglot-notebook"
        }
      },
      "outputs": [],
      "source": [
        "MultidimensionalArray results         = ShockFindingExtensions.LoadResults(sessionPathsInflec[0]);\n",
        "MultidimensionalArray resultsExtended = ShockFindingExtensions.LoadResultsExtended(sessionPathsInflec[0]);\n",
        "\n",
        "LevelSetReconstruction lsr = new LevelSetReconstruction(sessionPathsRecon[0], session, results, resultsExtended);\n",
        "resultsExtended.SaveToTextFile(\"convergedCandidatePoints.txt\");\n",
        "clusteringZero.SaveToTextFile(\"clusteringZero.txt\");\n",
        "clusterZero.SaveToTextFile(\"clusterOne.txt\");\n",
        "clusteringTwo.SaveToTextFile(\"clusteringTwo.txt\");\n",
        "clusteringThree.SaveToTextFile(\"clusteringThree.txt\");"
      ]
    },
    {
      "cell_type": "code",
      "execution_count": 88,
      "metadata": {
        "dotnet_interactive": {
          "language": "csharp"
        },
        "vscode": {
          "languageId": "polyglot-notebook"
        }
      },
      "outputs": [
        {
          "name": "stdout",
          "output_type": "stream",
          "text": [
            "CreateClustering_Density: START\n",
            "CreateClustering_Density: END\n",
            "CreateClustering_AV: START\n"
          ]
        },
        {
          "ename": "Error",
          "evalue": "System.NullReferenceException: Object reference not set to an instance of an object.\r\n   at BoSSS.Solution.CompressibleFlowCommon.ShockFinding.LevelSetReconstruction.CreateClustering_AV(MultidimensionalArray inputClustering, Int32 numOfClusters, Double[] initialMeans) in C:\\Users\\jakob\\Documents\\Uni\\Promotion\\Programmieren\\BoSSS\\experimental\\public\\src\\L3-solution\\BoSSS.Solution.CompressibleFlowCommon\\ShockFinding\\LevelSetReconstruction.cs:line 153\r\n   at Submission#89.<<Initialize>>d__0.MoveNext()\r\n--- End of stack trace from previous location ---\r\n   at Microsoft.CodeAnalysis.Scripting.ScriptExecutionState.RunSubmissionsAsync[TResult](ImmutableArray`1 precedingExecutors, Func`2 currentExecutor, StrongBox`1 exceptionHolderOpt, Func`2 catchExceptionOpt, CancellationToken cancellationToken)",
          "output_type": "error",
          "traceback": [
            "System.NullReferenceException: Object reference not set to an instance of an object.\r\n",
            "   at BoSSS.Solution.CompressibleFlowCommon.ShockFinding.LevelSetReconstruction.CreateClustering_AV(MultidimensionalArray inputClustering, Int32 numOfClusters, Double[] initialMeans) in C:\\Users\\jakob\\Documents\\Uni\\Promotion\\Programmieren\\BoSSS\\experimental\\public\\src\\L3-solution\\BoSSS.Solution.CompressibleFlowCommon\\ShockFinding\\LevelSetReconstruction.cs:line 153\r\n",
            "   at Submission#89.<<Initialize>>d__0.MoveNext()\r\n",
            "--- End of stack trace from previous location ---\r\n",
            "   at Microsoft.CodeAnalysis.Scripting.ScriptExecutionState.RunSubmissionsAsync[TResult](ImmutableArray`1 precedingExecutors, Func`2 currentExecutor, StrongBox`1 exceptionHolderOpt, Func`2 catchExceptionOpt, CancellationToken cancellationToken)"
          ]
        }
      ],
      "source": [
        "\n",
        "// Clustering zero (density)\n",
        "    MultidimensionalArray clusteringZero = lsr.CreateClustering_Density(3, new double[] {1.0, 2.7, 5.0});\n",
        "    //lsr.SaveClusteringToTextFile(clusteringZero);\n",
        "    MultidimensionalArray clusterZero = lsr.SelectCluster(clusteringZero, clusterToSelect: 1);\n",
        "    \n",
        "    // Clustering one (artificial viscosity)\n",
        "    MultidimensionalArray clusteringOne = lsr.CreateClustering_AV(clusterZero, 2, new double[] {0.0, 0.0});\n",
        "    lsr.SaveClusteringToTextFile(clusteringOne);\n",
        "    //MultidimensionalArray clusterOne = lsr.SelectCluster(clusteringOne, clusterToSelect: 0);\n",
        "    \n",
        "    // Clustering two (eliminate boundary cells)\n",
        "    MultidimensionalArray clusteringTwo = lsr.CreateClustering_Boundary(clusterZero);\n",
        "    //lsr.SaveClusteringToTextFile(clusteringTwo);\n",
        "    \n",
        "    // Clustering three (eliminate cells close to the blunt body)\n",
        "    MultidimensionalArray clusteringThree = lsr.CreateClustering_DeletePointsAtGeometry(clusteringTwo);\n",
        "    //lsr.SaveClusteringToTextFile(clusteringThree);\n",
        "    // Reconstruct level set field\n",
        "    lsr.ReconstructLevelSet(patchRecovery: true, continuous: true);\n",
        "    \n",
        "    // Plot level set fields\n",
        "    //lsr.PlotFields();\n"
      ]
    },
    {
      "cell_type": "code",
      "execution_count": 31,
      "metadata": {
        "dotnet_interactive": {
          "language": "csharp"
        },
        "vscode": {
          "languageId": "polyglot-notebook"
        }
      },
      "outputs": [
        {
          "name": "stdout",
          "output_type": "stream",
          "text": [
            "Creating database 'C:\\tmp\\XDGFields_everywhere_100\\IBMBowShock_p2_xCells40_yCells160_CFLFrac0.1_RK1_s0=1.0E-03_lambdaMax15\\LevelSetReconstruction\\bosss_db_levelSetReconstruction'.\r\n"
          ]
        }
      ],
      "source": [
        "    \n",
        "    // Save level set and conservative fields\n",
        "    var exportDb = OpenOrCreateDatabase(lsr.SessionPath + @\"bosss_db_levelSetReconstruction\");\n",
        "\n",
        "    DGField[] conservativeFields = new DGField[4];\n",
        "    conservativeFields[0] = session.Timesteps.Last().Fields.Find(\"rho\");\n",
        "    conservativeFields[1] = session.Timesteps.Last().Fields.Find(\"m0\");\n",
        "    conservativeFields[2] = session.Timesteps.Last().Fields.Find(\"m1\");\n",
        "    conservativeFields[3] = session.Timesteps.Last().Fields.Find(\"rhoE\");\n"
      ]
    },
    {
      "cell_type": "code",
      "execution_count": 32,
      "metadata": {
        "dotnet_interactive": {
          "language": "csharp"
        },
        "vscode": {
          "languageId": "polyglot-notebook"
        }
      },
      "outputs": [],
      "source": [
        "    \n",
        "    DGField[] levelSetFields = lsr.LevelSetFields.ToArray();\n"
      ]
    },
    {
      "cell_type": "code",
      "execution_count": 33,
      "metadata": {
        "dotnet_interactive": {
          "language": "csharp"
        },
        "vscode": {
          "languageId": "polyglot-notebook"
        }
      },
      "outputs": [],
      "source": [
        "\n",
        "    DGField[] allFields = new DGField[levelSetFields.Length + conservativeFields.Length];\n"
      ]
    },
    {
      "cell_type": "code",
      "execution_count": 71,
      "metadata": {
        "dotnet_interactive": {
          "language": "csharp"
        },
        "vscode": {
          "languageId": "polyglot-notebook"
        }
      },
      "outputs": [],
      "source": [
        "    levelSetFields.CopyTo(allFields, 0);\n"
      ]
    },
    {
      "cell_type": "code",
      "execution_count": 72,
      "metadata": {
        "dotnet_interactive": {
          "language": "csharp"
        },
        "vscode": {
          "languageId": "polyglot-notebook"
        }
      },
      "outputs": [],
      "source": [
        "    conservativeFields.CopyTo(allFields, levelSetFields.Length);\n"
      ]
    },
    {
      "cell_type": "code",
      "execution_count": 74,
      "metadata": {
        "dotnet_interactive": {
          "language": "csharp"
        },
        "polyglot_notebook": {
          "kernelName": "csharp"
        },
        "vscode": {
          "languageId": "polyglot-notebook"
        }
      },
      "outputs": [
        {
          "data": {
            "text/html": [
              "<table><thead><tr><th><i>index</i></th><th>value</th></tr></thead><tbody><tr><td>0</td><td><div class=\"dni-plaintext\"><pre>&lt;null&gt;</pre></div></td></tr><tr><td>1</td><td>levelSet_recon</td></tr><tr><td>2</td><td>levelSet_recon_prc</td></tr><tr><td>3</td><td>levelSet_recon_prc_cont</td></tr><tr><td>4</td><td>rho</td></tr><tr><td>5</td><td>m0</td></tr><tr><td>6</td><td>m1</td></tr><tr><td>7</td><td>rhoE</td></tr></tbody></table><style>\r\n",
              ".dni-code-hint {\r\n",
              "    font-style: italic;\r\n",
              "    overflow: hidden;\r\n",
              "    white-space: nowrap;\r\n",
              "}\r\n",
              ".dni-treeview {\r\n",
              "    white-space: nowrap;\r\n",
              "}\r\n",
              ".dni-treeview td {\r\n",
              "    vertical-align: top;\r\n",
              "    text-align: start;\r\n",
              "}\r\n",
              "details.dni-treeview {\r\n",
              "    padding-left: 1em;\r\n",
              "}\r\n",
              "table td {\r\n",
              "    text-align: start;\r\n",
              "}\r\n",
              "table tr { \r\n",
              "    vertical-align: top; \r\n",
              "    margin: 0em 0px;\r\n",
              "}\r\n",
              "table tr td pre \r\n",
              "{ \r\n",
              "    vertical-align: top !important; \r\n",
              "    margin: 0em 0px !important;\r\n",
              "} \r\n",
              "table th {\r\n",
              "    text-align: start;\r\n",
              "}\r\n",
              "</style>"
            ]
          },
          "metadata": {},
          "output_type": "display_data"
        }
      ],
      "source": [
        "allFields"
      ]
    },
    {
      "cell_type": "code",
      "execution_count": 73,
      "metadata": {
        "dotnet_interactive": {
          "language": "csharp"
        },
        "vscode": {
          "languageId": "polyglot-notebook"
        }
      },
      "outputs": [
        {
          "ename": "Error",
          "evalue": "System.NullReferenceException: Object reference not set to an instance of an object.\r\n   at BoSSS.Solution.PlotDriver.<>c.<PlotFields>b__9_0(DGField x) in C:\\Users\\jakob\\Documents\\Uni\\Promotion\\Programmieren\\BoSSS\\experimental\\public\\src\\L3-solution\\BoSSS.Solution\\PlotDriver.cs:line 1147\r\n   at System.Linq.Utilities.<>c__DisplayClass2_0`3.<CombineSelectors>b__0(TSource x)\r\n   at System.Linq.Enumerable.SelectArrayIterator`2.MoveNext()\r\n   at BoSSS.Solution.Tecplot.Tecplot.OpenFile(String filename, IEnumerable`1 fieldNames) in C:\\Users\\jakob\\Documents\\Uni\\Promotion\\Programmieren\\BoSSS\\experimental\\public\\src\\L3-solution\\BoSSS.Solution.Tecplot\\Tecplot.cs:line 102\r\n   at BoSSS.Solution.PlotDriver.PlotFields(String fileNameBase, Double time, IEnumerable`1 fieldsToPlot) in C:\\Users\\jakob\\Documents\\Uni\\Promotion\\Programmieren\\BoSSS\\experimental\\public\\src\\L3-solution\\BoSSS.Solution\\PlotDriver.cs:line 1129\r\n   at BoSSS.Solution.PlotDriver.PlotFields(String fileNameBase, Double time, IEnumerable`1 fieldsToPlot) in C:\\Users\\jakob\\Documents\\Uni\\Promotion\\Programmieren\\BoSSS\\experimental\\public\\src\\L3-solution\\BoSSS.Solution\\PlotDriver.cs:line 1147\r\n   at BoSSS.Solution.PlotDriver.PlotFields(String fileNameBase, Double time, DGField[] fieldsToPlot) in C:\\Users\\jakob\\Documents\\Uni\\Promotion\\Programmieren\\BoSSS\\experimental\\public\\src\\L3-solution\\BoSSS.Solution\\PlotDriver.cs:line 1154\r\n   at Submission#74.<<Initialize>>d__0.MoveNext()\r\n--- End of stack trace from previous location ---\r\n   at Microsoft.CodeAnalysis.Scripting.ScriptExecutionState.RunSubmissionsAsync[TResult](ImmutableArray`1 precedingExecutors, Func`2 currentExecutor, StrongBox`1 exceptionHolderOpt, Func`2 catchExceptionOpt, CancellationToken cancellationToken)",
          "output_type": "error",
          "traceback": [
            "System.NullReferenceException: Object reference not set to an instance of an object.\r\n",
            "   at BoSSS.Solution.PlotDriver.<>c.<PlotFields>b__9_0(DGField x) in C:\\Users\\jakob\\Documents\\Uni\\Promotion\\Programmieren\\BoSSS\\experimental\\public\\src\\L3-solution\\BoSSS.Solution\\PlotDriver.cs:line 1147\r\n",
            "   at System.Linq.Utilities.<>c__DisplayClass2_0`3.<CombineSelectors>b__0(TSource x)\r\n",
            "   at System.Linq.Enumerable.SelectArrayIterator`2.MoveNext()\r\n",
            "   at BoSSS.Solution.Tecplot.Tecplot.OpenFile(String filename, IEnumerable`1 fieldNames) in C:\\Users\\jakob\\Documents\\Uni\\Promotion\\Programmieren\\BoSSS\\experimental\\public\\src\\L3-solution\\BoSSS.Solution.Tecplot\\Tecplot.cs:line 102\r\n",
            "   at BoSSS.Solution.PlotDriver.PlotFields(String fileNameBase, Double time, IEnumerable`1 fieldsToPlot) in C:\\Users\\jakob\\Documents\\Uni\\Promotion\\Programmieren\\BoSSS\\experimental\\public\\src\\L3-solution\\BoSSS.Solution\\PlotDriver.cs:line 1129\r\n",
            "   at BoSSS.Solution.PlotDriver.PlotFields(String fileNameBase, Double time, IEnumerable`1 fieldsToPlot) in C:\\Users\\jakob\\Documents\\Uni\\Promotion\\Programmieren\\BoSSS\\experimental\\public\\src\\L3-solution\\BoSSS.Solution\\PlotDriver.cs:line 1147\r\n",
            "   at BoSSS.Solution.PlotDriver.PlotFields(String fileNameBase, Double time, DGField[] fieldsToPlot) in C:\\Users\\jakob\\Documents\\Uni\\Promotion\\Programmieren\\BoSSS\\experimental\\public\\src\\L3-solution\\BoSSS.Solution\\PlotDriver.cs:line 1154\r\n",
            "   at Submission#74.<<Initialize>>d__0.MoveNext()\r\n",
            "--- End of stack trace from previous location ---\r\n",
            "   at Microsoft.CodeAnalysis.Scripting.ScriptExecutionState.RunSubmissionsAsync[TResult](ImmutableArray`1 precedingExecutors, Func`2 currentExecutor, StrongBox`1 exceptionHolderOpt, Func`2 catchExceptionOpt, CancellationToken cancellationToken)"
          ]
        }
      ],
      "source": [
        "var texplot = new Tecplot(allFields.Pick(3).Basis.GridDat, 2);\n",
        "texplot.PlotFields( \"BS_\"+ 0,0.0,allFields);\n",
        "    "
      ]
    },
    {
      "cell_type": "code",
      "execution_count": 37,
      "metadata": {
        "dotnet_interactive": {
          "language": "csharp"
        },
        "vscode": {
          "languageId": "polyglot-notebook"
        }
      },
      "outputs": [
        {
          "ename": "Error",
          "evalue": "System.NullReferenceException: Object reference not set to an instance of an object.\r\n   at BoSSS.Foundation.IO.IDatabaseInfoExtensions.SaveGridAndTimestep(IDatabaseInfo targetDb, DGField[] fields, String projectName, String sessionName) in C:\\Users\\jakob\\Documents\\Uni\\Promotion\\Programmieren\\BoSSS\\experimental\\public\\src\\L4-application\\BoSSSpad\\IDatabaseInfoExtensions.cs:line 260\r\n   at Submission#38.<<Initialize>>d__0.MoveNext()\r\n--- End of stack trace from previous location ---\r\n   at Microsoft.CodeAnalysis.Scripting.ScriptExecutionState.RunSubmissionsAsync[TResult](ImmutableArray`1 precedingExecutors, Func`2 currentExecutor, StrongBox`1 exceptionHolderOpt, Func`2 catchExceptionOpt, CancellationToken cancellationToken)",
          "output_type": "error",
          "traceback": [
            "System.NullReferenceException: Object reference not set to an instance of an object.\r\n",
            "   at BoSSS.Foundation.IO.IDatabaseInfoExtensions.SaveGridAndTimestep(IDatabaseInfo targetDb, DGField[] fields, String projectName, String sessionName) in C:\\Users\\jakob\\Documents\\Uni\\Promotion\\Programmieren\\BoSSS\\experimental\\public\\src\\L4-application\\BoSSSpad\\IDatabaseInfoExtensions.cs:line 260\r\n",
            "   at Submission#38.<<Initialize>>d__0.MoveNext()\r\n",
            "--- End of stack trace from previous location ---\r\n",
            "   at Microsoft.CodeAnalysis.Scripting.ScriptExecutionState.RunSubmissionsAsync[TResult](ImmutableArray`1 precedingExecutors, Func`2 currentExecutor, StrongBox`1 exceptionHolderOpt, Func`2 catchExceptionOpt, CancellationToken cancellationToken)"
          ]
        }
      ],
      "source": [
        "    \n",
        "    exportDb.SaveGridAndTimestep(allFields, lsr.Session.ProjectName, lsr.Session.Name);\n",
        "\n"
      ]
    },
    {
      "cell_type": "code",
      "execution_count": 38,
      "metadata": {
        "dotnet_interactive": {
          "language": "csharp"
        },
        "vscode": {
          "languageId": "polyglot-notebook"
        }
      },
      "outputs": [
        {
          "ename": "Error",
          "evalue": "(1,1): error CS0103: The name 'count' does not exist in the current context",
          "output_type": "error",
          "traceback": [
            "(1,1): error CS0103: The name 'count' does not exist in the current context"
          ]
        }
      ],
      "source": [
        "count\n"
      ]
    },
    {
      "cell_type": "code",
      "execution_count": 39,
      "metadata": {
        "dotnet_interactive": {
          "language": "csharp"
        },
        "vscode": {
          "languageId": "polyglot-notebook"
        }
      },
      "outputs": [
        {
          "name": "stdout",
          "output_type": "stream",
          "text": [
            "\n",
            "### LevelSetReconstruction.bws finished ###\r\n"
          ]
        }
      ],
      "source": [
        "Console.WriteLine(\"\\n### LevelSetReconstruction.bws finished ###\");"
      ]
    },
    {
      "cell_type": "code",
      "execution_count": 40,
      "metadata": {
        "dotnet_interactive": {
          "language": "csharp"
        },
        "vscode": {
          "languageId": "polyglot-notebook"
        }
      },
      "outputs": [],
      "source": []
    },
    {
      "cell_type": "code",
      "execution_count": 41,
      "metadata": {
        "dotnet_interactive": {
          "language": "csharp"
        },
        "vscode": {
          "languageId": "polyglot-notebook"
        }
      },
      "outputs": [],
      "source": []
    },
    {
      "cell_type": "code",
      "execution_count": 42,
      "metadata": {
        "dotnet_interactive": {
          "language": "csharp"
        },
        "vscode": {
          "languageId": "polyglot-notebook"
        }
      },
      "outputs": [],
      "source": [
        "// Test data\n",
        "//MultidimensionalArray input = MultidimensionalArray.Create(3, 1, 5);\n",
        "//input[0, 0, 0] = 0;\n",
        "//input[0, 0, 1] = 0.1;\n",
        "//input[0, 0, 2] = 0.2;\n",
        "//input[0, 0, 3] = 0.3;\n",
        "//input[0, 0, 4] = 0.4;\n",
        "\n",
        "//input[1, 0, 0] = 1.0;\n",
        "//input[1, 0, 1] = 1.1;\n",
        "//input[1, 0, 2] = 1.2;\n",
        "//input[1, 0, 3] = 1.3;\n",
        "//input[1, 0, 4] = 1.4;\n",
        "\n",
        "//input[2, 0, 0] = 2.0;\n",
        "//input[2, 0, 1] = 2.1;\n",
        "//input[2, 0, 2] = 2.2;\n",
        "//input[2, 0, 3] = 2.3;\n",
        "//input[2, 0, 4] = 2.4;\n",
        "\n",
        "//MultidimensionalArray inputExtended = MultidimensionalArray.Create(3, 3);\n",
        "//inputExtended[0, 0] = 1;\n",
        "//inputExtended[0, 1] = 1;\n",
        "//inputExtended[0, 2] = 0;\n",
        "\n",
        "//inputExtended[1, 0] = 1;\n",
        "//inputExtended[1, 1] = -1;\n",
        "//inputExtended[1, 2] = 1;\n",
        "\n",
        "//inputExtended[2, 0] = 1;\n",
        "//inputExtended[2, 1] = 1;\n",
        "//inputExtended[2, 2] = 2;"
      ]
    },
    {
      "cell_type": "code",
      "execution_count": 43,
      "metadata": {
        "dotnet_interactive": {
          "language": "csharp"
        },
        "vscode": {
          "languageId": "polyglot-notebook"
        }
      },
      "outputs": [],
      "source": []
    },
    {
      "cell_type": "code",
      "execution_count": 44,
      "metadata": {
        "dotnet_interactive": {
          "language": "csharp"
        },
        "vscode": {
          "languageId": "polyglot-notebook"
        }
      },
      "outputs": [],
      "source": []
    },
    {
      "cell_type": "code",
      "execution_count": 45,
      "metadata": {
        "dotnet_interactive": {
          "language": "csharp"
        },
        "vscode": {
          "languageId": "polyglot-notebook"
        }
      },
      "outputs": [],
      "source": []
    },
    {
      "cell_type": "code",
      "execution_count": 46,
      "metadata": {
        "dotnet_interactive": {
          "language": "csharp"
        },
        "vscode": {
          "languageId": "polyglot-notebook"
        }
      },
      "outputs": [],
      "source": []
    },
    {
      "cell_type": "code",
      "execution_count": 47,
      "metadata": {
        "dotnet_interactive": {
          "language": "csharp"
        },
        "vscode": {
          "languageId": "polyglot-notebook"
        }
      },
      "outputs": [],
      "source": []
    },
    {
      "cell_type": "code",
      "execution_count": 48,
      "metadata": {
        "dotnet_interactive": {
          "language": "csharp"
        },
        "vscode": {
          "languageId": "polyglot-notebook"
        }
      },
      "outputs": [],
      "source": []
    },
    {
      "cell_type": "code",
      "execution_count": 49,
      "metadata": {
        "dotnet_interactive": {
          "language": "csharp"
        },
        "vscode": {
          "languageId": "polyglot-notebook"
        }
      },
      "outputs": [],
      "source": []
    },
    {
      "cell_type": "code",
      "execution_count": 50,
      "metadata": {
        "dotnet_interactive": {
          "language": "csharp"
        },
        "vscode": {
          "languageId": "polyglot-notebook"
        }
      },
      "outputs": [],
      "source": []
    },
    {
      "cell_type": "code",
      "execution_count": 51,
      "metadata": {
        "dotnet_interactive": {
          "language": "csharp"
        },
        "vscode": {
          "languageId": "polyglot-notebook"
        }
      },
      "outputs": [],
      "source": []
    },
    {
      "cell_type": "code",
      "execution_count": 52,
      "metadata": {
        "dotnet_interactive": {
          "language": "csharp"
        },
        "vscode": {
          "languageId": "polyglot-notebook"
        }
      },
      "outputs": [],
      "source": []
    },
    {
      "cell_type": "code",
      "execution_count": 53,
      "metadata": {
        "dotnet_interactive": {
          "language": "csharp"
        },
        "vscode": {
          "languageId": "polyglot-notebook"
        }
      },
      "outputs": [],
      "source": []
    },
    {
      "cell_type": "code",
      "execution_count": 54,
      "metadata": {
        "dotnet_interactive": {
          "language": "csharp"
        },
        "vscode": {
          "languageId": "polyglot-notebook"
        }
      },
      "outputs": [],
      "source": []
    },
    {
      "cell_type": "code",
      "execution_count": 55,
      "metadata": {
        "dotnet_interactive": {
          "language": "csharp"
        },
        "vscode": {
          "languageId": "polyglot-notebook"
        }
      },
      "outputs": [],
      "source": []
    },
    {
      "cell_type": "code",
      "execution_count": 56,
      "metadata": {
        "dotnet_interactive": {
          "language": "csharp"
        },
        "vscode": {
          "languageId": "polyglot-notebook"
        }
      },
      "outputs": [],
      "source": []
    },
    {
      "cell_type": "code",
      "execution_count": 57,
      "metadata": {
        "dotnet_interactive": {
          "language": "csharp"
        },
        "vscode": {
          "languageId": "polyglot-notebook"
        }
      },
      "outputs": [],
      "source": []
    },
    {
      "cell_type": "code",
      "execution_count": 58,
      "metadata": {
        "dotnet_interactive": {
          "language": "csharp"
        },
        "vscode": {
          "languageId": "polyglot-notebook"
        }
      },
      "outputs": [],
      "source": []
    },
    {
      "cell_type": "code",
      "execution_count": 59,
      "metadata": {
        "dotnet_interactive": {
          "language": "csharp"
        },
        "vscode": {
          "languageId": "polyglot-notebook"
        }
      },
      "outputs": [],
      "source": []
    },
    {
      "cell_type": "code",
      "execution_count": 60,
      "metadata": {
        "dotnet_interactive": {
          "language": "csharp"
        },
        "vscode": {
          "languageId": "polyglot-notebook"
        }
      },
      "outputs": [],
      "source": []
    },
    {
      "cell_type": "code",
      "execution_count": 61,
      "metadata": {
        "dotnet_interactive": {
          "language": "csharp"
        },
        "vscode": {
          "languageId": "polyglot-notebook"
        }
      },
      "outputs": [],
      "source": []
    },
    {
      "cell_type": "code",
      "execution_count": 62,
      "metadata": {
        "dotnet_interactive": {
          "language": "csharp"
        },
        "vscode": {
          "languageId": "polyglot-notebook"
        }
      },
      "outputs": [],
      "source": []
    },
    {
      "cell_type": "code",
      "execution_count": 63,
      "metadata": {
        "dotnet_interactive": {
          "language": "csharp"
        },
        "vscode": {
          "languageId": "polyglot-notebook"
        }
      },
      "outputs": [],
      "source": []
    },
    {
      "cell_type": "code",
      "execution_count": 64,
      "metadata": {
        "dotnet_interactive": {
          "language": "csharp"
        },
        "vscode": {
          "languageId": "polyglot-notebook"
        }
      },
      "outputs": [],
      "source": []
    },
    {
      "cell_type": "code",
      "execution_count": 65,
      "metadata": {
        "dotnet_interactive": {
          "language": "csharp"
        },
        "vscode": {
          "languageId": "polyglot-notebook"
        }
      },
      "outputs": [],
      "source": []
    },
    {
      "cell_type": "code",
      "execution_count": 66,
      "metadata": {
        "dotnet_interactive": {
          "language": "csharp"
        },
        "vscode": {
          "languageId": "polyglot-notebook"
        }
      },
      "outputs": [],
      "source": []
    }
  ],
  "metadata": {
    "kernelspec": {
      "display_name": ".NET (C#)",
      "language": "C#",
      "name": ".net-csharp"
    },
    "language_info": {
      "file_extension": ".cs",
      "mimetype": "text/x-csharp",
      "name": "C#",
      "pygments_lexer": "csharp",
      "version": "8.0"
    }
  },
  "nbformat": 4,
  "nbformat_minor": 4
}

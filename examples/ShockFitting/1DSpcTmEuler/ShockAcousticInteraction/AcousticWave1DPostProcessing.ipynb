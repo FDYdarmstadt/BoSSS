{
 "cells": [
  {
   "cell_type": "markdown",
   "metadata": {},
   "source": [
    "This Notebook evaluates test cases for the 1D Shock-Acoustic-Wave interaction problem as presented presented in the phd thesis \"Implicit Discontinuous Galerkin Shock Tracking methods for Compressible Flows with Shocks\" (Vandergrift 2024)."
   ]
  },
  {
   "cell_type": "code",
   "execution_count": 1,
   "metadata": {
    "dotnet_interactive": {
     "language": "csharp"
    }
   },
   "outputs": [],
   "source": [
    "#r \".\\binaries\\BoSSSpad.dll\"\n",
    "#r \".\\binaries\\XESTSF.dll\"\n",
    "using System;\n",
    "using BoSSS.Foundation;\n",
    "using BoSSS.Application.BoSSSpad;\n",
    "using BoSSS.Solution;\n",
    "using BoSSS.Solution.Tecplot;\n",
    "using BoSSS.Foundation.IO;\n",
    "using ilPSP.Tracing;\n",
    "using BoSSS.Solution.Utils;\n",
    "using ilPSP.LinSolvers;\n",
    "using BoSSS.Solution.NSECommon;\n",
    "using ilPSP.Connectors.Matlab;\n",
    "using ilPSP;\n",
    "using BoSSS.Foundation.Grid.Classic;\n",
    "using ilPSP.Utils;\n",
    "using BoSSS.Foundation.Grid.RefElements;\n",
    "using System.Collections.Generic;\n",
    "using BoSSS.Foundation.Grid;\n",
    "using BoSSS.Foundation.XDG;\n",
    "using BoSSS.Solution.XdgTimestepping;\n",
    "using BoSSS.Solution.AdvancedSolvers;\n",
    "using System.Linq;\n",
    "using BoSSS.Foundation.Grid.Aggregation;\n",
    "using BoSSS.Platform;\n",
    "using MPI.Wrappers;\n",
    "using System.Diagnostics;\n",
    "using System.IO;\n",
    "using System.Collections;\n",
    "using BoSSS.Foundation.Quadrature;\n",
    "using BoSSS.Solution.Statistic;\n",
    "using BoSSS.Solution.Gnuplot;\n",
    "using static BoSSS.Application.BoSSSpad.BoSSSshell;\n",
    "using BoSSS.Solution.Control;\n",
    "using BoSSS.Solution.GridImport;\n",
    "using ApplicationWithIDT;\n",
    "using XESTSF;\n",
    "using XDGShock;\n",
    "Init();\n"
   ]
  },
  {
   "cell_type": "code",
   "execution_count": 2,
   "metadata": {
    "dotnet_interactive": {
     "language": "csharp"
    }
   },
   "outputs": [
    {
     "data": {
      "text/plain": [
       "{ Session Count = 6; Grid Count = 6; Path = \\\\dc3\\userspace\\sebastian\\cluster\\XESTSF_ShockAcousticInteraction1D }"
      ]
     },
     "metadata": {},
     "output_type": "display_data"
    }
   ],
   "source": [
    "var ass= new MatrixAssembler(1);\n",
    "BoSSSshell.WorkflowMgm.Init(\"XESTSF_ShockAcousticInteraction1D\");\n",
    "BoSSSshell.WorkflowMgm.SetNameBasedSessionJobControlCorrelation();\n",
    "BoSSSshell.WorkflowMgm.DefaultDatabase\n"
   ]
  },
  {
   "cell_type": "code",
   "execution_count": 3,
   "metadata": {
    "dotnet_interactive": {
     "language": "csharp"
    }
   },
   "outputs": [
    {
     "data": {
      "text/plain": [
       "\\\\dc3\\userspace\\sebastian\\cluster\\XESTSF_ShockAcousticInteraction1D"
      ]
     },
     "metadata": {},
     "output_type": "display_data"
    }
   ],
   "source": [
    "string dbPath = BoSSSshell.WorkflowMgm.DefaultDatabase.Path; \n",
    "dbPath"
   ]
  },
  {
   "cell_type": "code",
   "execution_count": 4,
   "metadata": {
    "dotnet_interactive": {
     "language": "csharp"
    }
   },
   "outputs": [],
   "source": [
    "(double[] xVals, double[]yVals) GetPlot(double xMin,double xMax, double t, int nRef,string field,ISessionInfo si){\n",
    "//double shockPosition=0.5;\n",
    "var p1= new double[] {xMin,t};\n",
    "var p2=new double[] {xMax,t};\n",
    "\n",
    "//timesteps to compare\n",
    "var tiEnd=si.Timesteps.Last();\n",
    "\n",
    "// # use p_per from BoSSS \n",
    "var pEnd =tiEnd.GetField(field);\n",
    "double[] yVals=pEnd.EvaluateAlongLine(p1,p2,nRef);\n",
    "double[] xVals= GenericBlas.Linspace(xMin,xMax,nRef);\n",
    "return(xVals,yVals);\n",
    "}"
   ]
  },
  {
   "cell_type": "code",
   "execution_count": 5,
   "metadata": {
    "dotnet_interactive": {
     "language": "csharp"
    },
    "polyglot_notebook": {
     "kernelName": "csharp"
    }
   },
   "outputs": [
    {
     "data": {
      "text/plain": [
       "#0: XESTSF_AcousticWave1D\tAW_p3_xCells61_tCells61_tMax4_bump_Mach1.5_sP1.5_wP0.3_ampneg1E-05_amppos0_wLTrue_wSTrue_wL0.4\t3/22/2024 8:38:21 PM\tf6b1e3da...\r\n",
       "#1: XESTSF_AcousticWave1D\tAW_p3_xCells61_tCells61_tMax4_1sinus_Mach1.5_sP1.5_wP0.3_ampneg1E-05_amppos0_wLTrue_wSTrue_wL0.8\t3/22/2024 8:13:06 PM\t53f8b03c...\r\n",
       "#2: XESTSF_AcousticWave1D\tAW_p3_xCells61_tCells61_tMax1.5_bump_Mach1.5_sP1.5_wP0_ampneg0_amppos1E-05_wLTrue_wSTrue_wL0.4\t3/22/2024 8:38:00 PM\t4eedd833...\r\n",
       "#3: XESTSF_AcousticWave1D\tAW_p3_xCells61_tCells61_tMax4_bump_Mach1.5_sP0.5_wP0.9_ampneg1E-05_amppos0_wLTrue_wSTrue_wL0.4\t3/22/2024 8:37:42 PM\te4f163a8...\r\n",
       "#4: XESTSF_AcousticWave1D\tAW_p3_xCells61_tCells61_tMax4_1sinus_Mach1.5_sP0.5_wP0.9_ampneg1E-05_amppos0_wLTrue_wSTrue_wL0.8\t3/22/2024 8:12:18 PM\t2e01f579...\r\n",
       "#5: XESTSF_AcousticWave1D\tAW_p3_xCells61_tCells61_tMax1.5_1sinus_Mach1.5_sP1.5_wP0_ampneg0_amppos1E-05_wLTrue_wSTrue_wL0.8\t3/22/2024 8:12:42 PM\t1846d0aa...\r\n"
      ]
     },
     "metadata": {},
     "output_type": "display_data"
    }
   ],
   "source": [
    "var db=OpenOrCreateDatabase(dbPath);\n",
    "var ses=db.Sessions;\n",
    "ses"
   ]
  },
  {
   "cell_type": "code",
   "execution_count": 8,
   "metadata": {
    "dotnet_interactive": {
     "language": "csharp"
    },
    "polyglot_notebook": {
     "kernelName": "csharp"
    }
   },
   "outputs": [
    {
     "data": {
      "text/plain": [
       "XESTSF_AcousticWave1D\tAW_p3_xCells61_tCells61_tMax4_bump_Mach1.5_sP1.5_wP0.3_ampneg1E-05_amppos0_wLTrue_wSTrue_wL0.4\t3/22/2024 8:38:21 PM\tf6b1e3da..."
      ]
     },
     "metadata": {},
     "output_type": "display_data"
    }
   ],
   "source": [
    "var si=db.Sessions.Pick(0);\n",
    "var ti=si.Timesteps.Last();\n",
    "//si.Timesteps\n",
    "si"
   ]
  },
  {
   "cell_type": "markdown",
   "metadata": {},
   "source": [
    "# Plotting"
   ]
  },
  {
   "cell_type": "markdown",
   "metadata": {},
   "source": [
    "define general params for plotting (must substract some eps because, otherwise some points are not located in the space-time grid)"
   ]
  },
  {
   "cell_type": "code",
   "execution_count": 21,
   "metadata": {
    "dotnet_interactive": {
     "language": "csharp"
    },
    "polyglot_notebook": {
     "kernelName": "csharp"
    }
   },
   "outputs": [],
   "source": [
    "var eps=0.000001;\n",
    "double xMin=0 +eps;double xMax=3.0-eps; int xRef=100; \n",
    "double tMin =0 + eps;int tRef=100;\n",
    "int nRows=2;"
   ]
  },
  {
   "cell_type": "markdown",
   "metadata": {},
   "source": [
    "obtain tMax from session name"
   ]
  },
  {
   "cell_type": "code",
   "execution_count": 22,
   "metadata": {
    "dotnet_interactive": {
     "language": "csharp"
    },
    "polyglot_notebook": {
     "kernelName": "csharp"
    }
   },
   "outputs": [],
   "source": [
    "// Format\n",
    "var fmt= new PlotFormat();\n",
    "fmt.WithPointSize(0.0);\n",
    "fmt.LineColor=LineColors.Red;"
   ]
  },
  {
   "cell_type": "markdown",
   "metadata": {},
   "source": [
    "## Pressure Pertubations"
   ]
  },
  {
   "cell_type": "code",
   "execution_count": 23,
   "metadata": {
    "dotnet_interactive": {
     "language": "csharp"
    },
    "polyglot_notebook": {
     "kernelName": "csharp"
    }
   },
   "outputs": [],
   "source": [
    "using System.Text.RegularExpressions;\n",
    "foreach(var si in ses){\n",
    "    string pattern = @\"tMax(\\d+)\";\n",
    "    Match match = Regex.Match(si.Name, pattern);\n",
    "    double tMax = 1.5;\n",
    "    try{\n",
    "        tMax = double.Parse(match.Groups[1].Value)-eps;\n",
    "    }catch{\n",
    "    }\n",
    "    Console.WriteLine($\"doing:{si.Name}; tMax:{tMax}\");\n",
    "    string field=\"p_per\";\n",
    "    string csvFileName = si.Name + \"_p_per.csv\";\n",
    "    Plot2Ddata[,] multiplotsPressure = new Plot2Ddata[(tRef+1)/nRows,nRows];\n",
    "    using (StreamWriter writer = new StreamWriter(csvFileName))\n",
    "            {\n",
    "            for(int Ti=0;Ti< tRef;Ti++){\n",
    "                var plot= new Plot2Ddata();\n",
    "                plot.Xlabel=\"x\";\n",
    "                plot.Ylabel=\"p'\";\n",
    "                double t=((double) tRef-1-Ti)/((double) tRef-1)*tMin+((double) Ti)/(tRef-1)*tMax;\n",
    "                //Console.WriteLine(t);\n",
    "                (double[] xVals,double[] yVals)=GetPlot(xMin,xMax,t,xRef,field, si);\n",
    "                plot.AddDataGroup(\"t=\"+Math.Round(t,2),xVals,yVals,fmt);\n",
    "                multiplotsPressure[Ti/nRows,Ti %nRows]=plot;\n",
    "                if (Ti == 0)\n",
    "                {\n",
    "                    // Write header row\n",
    "                    writer.WriteLine($\"x/t,{string.Join(\",\", xVals)}\");\n",
    "                }\n",
    "                // Write data row\n",
    "                writer.WriteLine($\"{Math.Round(t, 2)},{string.Join(\",\", yVals)}\");\n",
    "                        \n",
    "            }\n",
    "    };\n",
    "}\n",
    "\n"
   ]
  },
  {
   "cell_type": "code",
   "execution_count": 12,
   "metadata": {
    "dotnet_interactive": {
     "language": "csharp"
    },
    "polyglot_notebook": {
     "kernelName": "csharp"
    }
   },
   "outputs": [],
   "source": [
    "//Array.ForEach(multiplotsPressure.Cast<Plot2Ddata>().ToArray(), \n",
    "//    plot => { plot.YrangeMin = -1.5 * 1e-5; plot.YrangeMax = 1.5 * 1e-5; });\n",
    "// multiplotsPressure[1,1].YrangeMax = 5 * 1e-7; multiplotsPressure[1,1].YrangeMin = -6 * 1e-7;\n",
    "// multiplotsPressure[2,0].YrangeMax = 5 * 1e-7; multiplotsPressure[2,0].YrangeMin = -6 * 1e-7;\n",
    "// multiplotsPressure[2,1].YrangeMax = 5 * 1e-7; multiplotsPressure[2,1].YrangeMin = -6 * 1e-7;\n",
    "//multiplotsPressure.ToGnuplot().PlotSVG(xRes:900,yRes:600)"
   ]
  },
  {
   "cell_type": "markdown",
   "metadata": {},
   "source": [
    "## Density Pertubations"
   ]
  },
  {
   "cell_type": "code",
   "execution_count": null,
   "metadata": {
    "dotnet_interactive": {
     "language": "csharp"
    },
    "polyglot_notebook": {
     "kernelName": "csharp"
    }
   },
   "outputs": [],
   "source": [
    "foreach(var si in ses){\n",
    "        string pattern = @\"tMax(\\d+)\";\n",
    "    Match match = Regex.Match(si.Name, pattern);\n",
    "    double tMax = 1.5;\n",
    "    try{\n",
    "        tMax = double.Parse(match.Groups[1].Value)-eps;\n",
    "    }catch{\n",
    "    }\n",
    "    Console.WriteLine($\"doing:{si.Name}; tMax:{tMax}\");\n",
    "    string field=\"rho_per\";\n",
    "    // Format\n",
    "    var fmt= new PlotFormat();\n",
    "    fmt.WithPointSize(0.0);\n",
    "    fmt.LineColor=LineColors.Red;\n",
    "\n",
    "    Plot2Ddata[,] multiplotsDensity = new Plot2Ddata[(tRef+1)/nRows,nRows];\n",
    "    string csvFileName = si.Name + \"_rho_per.csv\";\n",
    "    using (StreamWriter writer = new StreamWriter(csvFileName)){\n",
    "        for(int Ti=0;Ti< tRef;Ti++){\n",
    "            var plot= new Plot2Ddata();\n",
    "            plot.Xlabel=\"x\";\n",
    "            plot.Ylabel=\"rho'\";\n",
    "            double t=((double) tRef-1-Ti)/((double) tRef-1)*tMin+((double) Ti)/(tRef-1)*tMax;\n",
    "            //Console.WriteLine(t);\n",
    "            (double[] xVals,double[] yVals)=GetPlot(xMin,xMax,t,xRef,field, si);\n",
    "            plot.AddDataGroup(\"t=\"+Math.Round(t,2),xVals,yVals,fmt);\n",
    "            multiplotsDensity[Ti/nRows,Ti %nRows]=plot;\n",
    "            if (Ti == 0)\n",
    "            {\n",
    "                // Write header row\n",
    "                writer.WriteLine($\"x/t,{string.Join(\",\", xVals)}\");\n",
    "            }\n",
    "            // Write data row\n",
    "            writer.WriteLine($\"{Math.Round(t, 2)},{string.Join(\",\", yVals)}\");\n",
    "                    \n",
    "        }\n",
    "        \n",
    "    };                                              \n",
    "}"
   ]
  },
  {
   "cell_type": "code",
   "execution_count": 14,
   "metadata": {
    "dotnet_interactive": {
     "language": "csharp"
    },
    "polyglot_notebook": {
     "kernelName": "csharp"
    }
   },
   "outputs": [],
   "source": [
    "// Array.ForEach(multiplotsDensity.Cast<Plot2Ddata>().ToArray(), \n",
    "//     plot => { plot.YrangeMin = -1 * 1e-5; plot.YrangeMax = 1.5 * 1e-5; });\n",
    "// // multiplotsDensity[1,1].YrangeMax = 5 * 1e-7; multiplotsDensity[1,1].YrangeMin = -6 * 1e-7;\n",
    "// //multiplotsDensity[2,0].YrangeMax = 5 * 1e-7; multiplotsDensity[2,0].YrangeMin = -6 * 1e-7;\n",
    "// //multiplotsDensity[2,1].YrangeMax = 5 * 1e-7; multiplotsDensity[2,1].YrangeMin = -6 * 1e-7;\n",
    "// multiplotsDensity.ToGnuplot().PlotSVG(xRes:1000,yRes:600)"
   ]
  },
  {
   "cell_type": "code",
   "execution_count": 15,
   "metadata": {
    "dotnet_interactive": {
     "language": "csharp"
    },
    "polyglot_notebook": {
     "kernelName": "csharp"
    }
   },
   "outputs": [],
   "source": []
  },
  {
   "cell_type": "code",
   "execution_count": 16,
   "metadata": {
    "dotnet_interactive": {
     "language": "csharp"
    },
    "polyglot_notebook": {
     "kernelName": "csharp"
    }
   },
   "outputs": [],
   "source": [
    "(double[] xVals, double[]yVals) GetPlotLevelSet(double tMin,double tMax, int nRef,ISessionInfo si){\n",
    "//double shockPosition=0.5;\n",
    "var p1= new double[] {0.0,tMin};\n",
    "var p2=new double[] {0.0,tMax};\n",
    "\n",
    "//timesteps to compare\n",
    "var tiEnd=si.Timesteps.Last();\n",
    "// # use p_per from BoSSS \n",
    "var pEnd =tiEnd.GetField(\"LevelSet\");\n",
    "double[] yVals=pEnd.EvaluateAlongLine(p1,p2,nRef);\n",
    "double[] xVals= GenericBlas.Linspace(xMin,xMax,nRef);\n",
    "return(xVals,yVals);\n",
    "}"
   ]
  },
  {
   "cell_type": "code",
   "execution_count": 17,
   "metadata": {
    "dotnet_interactive": {
     "language": "csharp"
    },
    "polyglot_notebook": {
     "kernelName": "csharp"
    }
   },
   "outputs": [
    {
     "data": {
      "text/html": [
       "<?xml version=\"1.0\" encoding=\"utf-8\"  standalone=\"no\"?>\n",
       "<!DOCTYPE svg PUBLIC \"-//W3C//DTD SVG 1.1//EN\"\n",
       " \"http://www.w3.org/Graphics/SVG/1.1/DTD/svg11.dtd\">\n",
       "<svg \n",
       " width=\"800\" height=\"800\"\n",
       " viewBox=\"0 0 800 800\"\n",
       " xmlns=\"http://www.w3.org/2000/svg\"\n",
       " xmlns:xlink=\"http://www.w3.org/1999/xlink\"\n",
       ">\n",
       "\n",
       "<title>Gnuplot</title>\n",
       "<desc>Produced by GNUPLOT 5.1 patchlevel 0 </desc>\n",
       "\n",
       "<g id=\"gnuplot_canvas\">\n",
       "\n",
       "<rect x=\"0\" y=\"0\" width=\"800\" height=\"800\" fill=\"#ffffff\"/>\n",
       "<defs>\n",
       "\n",
       "\t<circle id='gpDot' r='0.5' stroke-width='0.5'/>\n",
       "\t<path id='gpPt0' stroke-width='0.222' stroke='currentColor' d='M-1,0 h2 M0,-1 v2'/>\n",
       "\t<path id='gpPt1' stroke-width='0.222' stroke='currentColor' d='M-1,-1 L1,1 M1,-1 L-1,1'/>\n",
       "\t<path id='gpPt2' stroke-width='0.222' stroke='currentColor' d='M-1,0 L1,0 M0,-1 L0,1 M-1,-1 L1,1 M-1,1 L1,-1'/>\n",
       "\t<rect id='gpPt3' stroke-width='0.222' stroke='currentColor' x='-1' y='-1' width='2' height='2'/>\n",
       "\t<rect id='gpPt4' stroke-width='0.222' stroke='currentColor' fill='currentColor' x='-1' y='-1' width='2' height='2'/>\n",
       "\t<circle id='gpPt5' stroke-width='0.222' stroke='currentColor' cx='0' cy='0' r='1'/>\n",
       "\t<use xlink:href='#gpPt5' id='gpPt6' fill='currentColor' stroke='none'/>\n",
       "\t<path id='gpPt7' stroke-width='0.222' stroke='currentColor' d='M0,-1.33 L-1.33,0.67 L1.33,0.67 z'/>\n",
       "\t<use xlink:href='#gpPt7' id='gpPt8' fill='currentColor' stroke='none'/>\n",
       "\t<use xlink:href='#gpPt7' id='gpPt9' stroke='currentColor' transform='rotate(180)'/>\n",
       "\t<use xlink:href='#gpPt9' id='gpPt10' fill='currentColor' stroke='none'/>\n",
       "\t<use xlink:href='#gpPt3' id='gpPt11' stroke='currentColor' transform='rotate(45)'/>\n",
       "\t<use xlink:href='#gpPt11' id='gpPt12' fill='currentColor' stroke='none'/>\n",
       "\t<path id='gpPt13' stroke-width='0.222' stroke='currentColor' d='M0,1.330 L1.265,0.411 L0.782,-1.067 L-0.782,-1.076 L-1.265,0.411 z'/>\n",
       "\t<use xlink:href='#gpPt13' id='gpPt14' fill='currentColor' stroke='none'/>\n",
       "\t<filter id='textbox' filterUnits='objectBoundingBox' x='0' y='0' height='1' width='1'>\n",
       "\t  <feFlood flood-color='#FFFFFF' flood-opacity='1' result='bgnd'/>\n",
       "\t  <feComposite in='SourceGraphic' in2='bgnd' operator='atop'/>\n",
       "\t</filter>\n",
       "\t<filter id='greybox' filterUnits='objectBoundingBox' x='0' y='0' height='1' width='1'>\n",
       "\t  <feFlood flood-color='lightgrey' flood-opacity='1' result='grey'/>\n",
       "\t  <feComposite in='SourceGraphic' in2='grey' operator='atop'/>\n",
       "\t</filter>\n",
       "</defs>\n",
       "<g fill=\"none\" color=\"#FFFFFF\" stroke=\"currentColor\" stroke-width=\"1.00\" stroke-linecap=\"butt\" stroke-linejoin=\"miter\">\n",
       "</g>\n",
       "<g fill=\"none\" color=\"black\" stroke=\"currentColor\" stroke-width=\"1.00\" stroke-linecap=\"butt\" stroke-linejoin=\"miter\">\n",
       "\t<path stroke='black'  d='M113.4,764.0 L122.4,764.0 M750.1,764.0 L741.1,764.0  '/>\t<g transform=\"translate(105.1,768.5)\" stroke=\"none\" fill=\"black\" font-family=\"Arial\" font-size=\"12.00\"  text-anchor=\"end\">\n",
       "\t\t<text><tspan font-family=\"Arial\" >-1.500000</tspan></text>\n",
       "\t</g>\n",
       "</g>\n",
       "<g fill=\"none\" color=\"black\" stroke=\"currentColor\" stroke-width=\"1.00\" stroke-linecap=\"butt\" stroke-linejoin=\"miter\">\n",
       "\t<path stroke='black'  d='M113.4,642.7 L122.4,642.7 M750.1,642.7 L741.1,642.7  '/>\t<g transform=\"translate(105.1,647.2)\" stroke=\"none\" fill=\"black\" font-family=\"Arial\" font-size=\"12.00\"  text-anchor=\"end\">\n",
       "\t\t<text><tspan font-family=\"Arial\" >-1.500000</tspan></text>\n",
       "\t</g>\n",
       "</g>\n",
       "<g fill=\"none\" color=\"black\" stroke=\"currentColor\" stroke-width=\"1.00\" stroke-linecap=\"butt\" stroke-linejoin=\"miter\">\n",
       "\t<path stroke='black'  d='M113.4,521.4 L122.4,521.4 M750.1,521.4 L741.1,521.4  '/>\t<g transform=\"translate(105.1,525.9)\" stroke=\"none\" fill=\"black\" font-family=\"Arial\" font-size=\"12.00\"  text-anchor=\"end\">\n",
       "\t\t<text><tspan font-family=\"Arial\" >-1.500000</tspan></text>\n",
       "\t</g>\n",
       "</g>\n",
       "<g fill=\"none\" color=\"black\" stroke=\"currentColor\" stroke-width=\"1.00\" stroke-linecap=\"butt\" stroke-linejoin=\"miter\">\n",
       "\t<path stroke='black'  d='M113.4,400.1 L122.4,400.1 M750.1,400.1 L741.1,400.1  '/>\t<g transform=\"translate(105.1,404.6)\" stroke=\"none\" fill=\"black\" font-family=\"Arial\" font-size=\"12.00\"  text-anchor=\"end\">\n",
       "\t\t<text><tspan font-family=\"Arial\" >-1.499999</tspan></text>\n",
       "\t</g>\n",
       "</g>\n",
       "<g fill=\"none\" color=\"black\" stroke=\"currentColor\" stroke-width=\"1.00\" stroke-linecap=\"butt\" stroke-linejoin=\"miter\">\n",
       "\t<path stroke='black'  d='M113.4,278.7 L122.4,278.7 M750.1,278.7 L741.1,278.7  '/>\t<g transform=\"translate(105.1,283.2)\" stroke=\"none\" fill=\"black\" font-family=\"Arial\" font-size=\"12.00\"  text-anchor=\"end\">\n",
       "\t\t<text><tspan font-family=\"Arial\" >-1.499999</tspan></text>\n",
       "\t</g>\n",
       "</g>\n",
       "<g fill=\"none\" color=\"black\" stroke=\"currentColor\" stroke-width=\"1.00\" stroke-linecap=\"butt\" stroke-linejoin=\"miter\">\n",
       "\t<path stroke='black'  d='M113.4,157.4 L122.4,157.4 M750.1,157.4 L741.1,157.4  '/>\t<g transform=\"translate(105.1,161.9)\" stroke=\"none\" fill=\"black\" font-family=\"Arial\" font-size=\"12.00\"  text-anchor=\"end\">\n",
       "\t\t<text><tspan font-family=\"Arial\" >-1.499999</tspan></text>\n",
       "\t</g>\n",
       "</g>\n",
       "<g fill=\"none\" color=\"black\" stroke=\"currentColor\" stroke-width=\"1.00\" stroke-linecap=\"butt\" stroke-linejoin=\"miter\">\n",
       "\t<path stroke='black'  d='M113.4,36.1 L122.4,36.1 M750.1,36.1 L741.1,36.1  '/>\t<g transform=\"translate(105.1,40.6)\" stroke=\"none\" fill=\"black\" font-family=\"Arial\" font-size=\"12.00\"  text-anchor=\"end\">\n",
       "\t\t<text><tspan font-family=\"Arial\" >-1.499999</tspan></text>\n",
       "\t</g>\n",
       "</g>\n",
       "<g fill=\"none\" color=\"black\" stroke=\"currentColor\" stroke-width=\"1.00\" stroke-linecap=\"butt\" stroke-linejoin=\"miter\">\n",
       "\t<path stroke='black'  d='M113.4,764.0 L113.4,755.0 M113.4,36.1 L113.4,45.1  '/>\t<g transform=\"translate(113.4,786.5)\" stroke=\"none\" fill=\"black\" font-family=\"Arial\" font-size=\"12.00\"  text-anchor=\"middle\">\n",
       "\t\t<text><tspan font-family=\"Arial\" > 0</tspan></text>\n",
       "\t</g>\n",
       "</g>\n",
       "<g fill=\"none\" color=\"black\" stroke=\"currentColor\" stroke-width=\"1.00\" stroke-linecap=\"butt\" stroke-linejoin=\"miter\">\n",
       "\t<path stroke='black'  d='M219.5,764.0 L219.5,755.0 M219.5,36.1 L219.5,45.1  '/>\t<g transform=\"translate(219.5,786.5)\" stroke=\"none\" fill=\"black\" font-family=\"Arial\" font-size=\"12.00\"  text-anchor=\"middle\">\n",
       "\t\t<text><tspan font-family=\"Arial\" > 0.5</tspan></text>\n",
       "\t</g>\n",
       "</g>\n",
       "<g fill=\"none\" color=\"black\" stroke=\"currentColor\" stroke-width=\"1.00\" stroke-linecap=\"butt\" stroke-linejoin=\"miter\">\n",
       "\t<path stroke='black'  d='M325.6,764.0 L325.6,755.0 M325.6,36.1 L325.6,45.1  '/>\t<g transform=\"translate(325.6,786.5)\" stroke=\"none\" fill=\"black\" font-family=\"Arial\" font-size=\"12.00\"  text-anchor=\"middle\">\n",
       "\t\t<text><tspan font-family=\"Arial\" > 1</tspan></text>\n",
       "\t</g>\n",
       "</g>\n",
       "<g fill=\"none\" color=\"black\" stroke=\"currentColor\" stroke-width=\"1.00\" stroke-linecap=\"butt\" stroke-linejoin=\"miter\">\n",
       "\t<path stroke='black'  d='M431.8,764.0 L431.8,755.0 M431.8,36.1 L431.8,45.1  '/>\t<g transform=\"translate(431.8,786.5)\" stroke=\"none\" fill=\"black\" font-family=\"Arial\" font-size=\"12.00\"  text-anchor=\"middle\">\n",
       "\t\t<text><tspan font-family=\"Arial\" > 1.5</tspan></text>\n",
       "\t</g>\n",
       "</g>\n",
       "<g fill=\"none\" color=\"black\" stroke=\"currentColor\" stroke-width=\"1.00\" stroke-linecap=\"butt\" stroke-linejoin=\"miter\">\n",
       "\t<path stroke='black'  d='M537.9,764.0 L537.9,755.0 M537.9,36.1 L537.9,45.1  '/>\t<g transform=\"translate(537.9,786.5)\" stroke=\"none\" fill=\"black\" font-family=\"Arial\" font-size=\"12.00\"  text-anchor=\"middle\">\n",
       "\t\t<text><tspan font-family=\"Arial\" > 2</tspan></text>\n",
       "\t</g>\n",
       "</g>\n",
       "<g fill=\"none\" color=\"black\" stroke=\"currentColor\" stroke-width=\"1.00\" stroke-linecap=\"butt\" stroke-linejoin=\"miter\">\n",
       "\t<path stroke='black'  d='M644.0,764.0 L644.0,755.0 M644.0,36.1 L644.0,45.1  '/>\t<g transform=\"translate(644.0,786.5)\" stroke=\"none\" fill=\"black\" font-family=\"Arial\" font-size=\"12.00\"  text-anchor=\"middle\">\n",
       "\t\t<text><tspan font-family=\"Arial\" > 2.5</tspan></text>\n",
       "\t</g>\n",
       "</g>\n",
       "<g fill=\"none\" color=\"black\" stroke=\"currentColor\" stroke-width=\"1.00\" stroke-linecap=\"butt\" stroke-linejoin=\"miter\">\n",
       "\t<path stroke='black'  d='M750.1,764.0 L750.1,755.0 M750.1,36.1 L750.1,45.1  '/>\t<g transform=\"translate(750.1,786.5)\" stroke=\"none\" fill=\"black\" font-family=\"Arial\" font-size=\"12.00\"  text-anchor=\"middle\">\n",
       "\t\t<text><tspan font-family=\"Arial\" > 3</tspan></text>\n",
       "\t</g>\n",
       "</g>\n",
       "<g fill=\"none\" color=\"black\" stroke=\"currentColor\" stroke-width=\"1.00\" stroke-linecap=\"butt\" stroke-linejoin=\"miter\">\n",
       "\t<path stroke='black'  d='M750.1,764.0 L741.1,764.0  '/>\t<g transform=\"translate(758.4,768.5)\" stroke=\"none\" fill=\"black\" font-family=\"Arial\" font-size=\"12.00\"  text-anchor=\"start\">\n",
       "\t\t<text><tspan font-family=\"Arial\" > </tspan></text>\n",
       "\t</g>\n",
       "</g>\n",
       "<g fill=\"none\" color=\"black\" stroke=\"currentColor\" stroke-width=\"1.00\" stroke-linecap=\"butt\" stroke-linejoin=\"miter\">\n",
       "\t<path stroke='black'  d='M750.1,642.7 L741.1,642.7  '/>\t<g transform=\"translate(758.4,647.2)\" stroke=\"none\" fill=\"black\" font-family=\"Arial\" font-size=\"12.00\"  text-anchor=\"start\">\n",
       "\t\t<text><tspan font-family=\"Arial\" > </tspan></text>\n",
       "\t</g>\n",
       "</g>\n",
       "<g fill=\"none\" color=\"black\" stroke=\"currentColor\" stroke-width=\"1.00\" stroke-linecap=\"butt\" stroke-linejoin=\"miter\">\n",
       "\t<path stroke='black'  d='M750.1,521.4 L741.1,521.4  '/>\t<g transform=\"translate(758.4,525.9)\" stroke=\"none\" fill=\"black\" font-family=\"Arial\" font-size=\"12.00\"  text-anchor=\"start\">\n",
       "\t\t<text><tspan font-family=\"Arial\" > </tspan></text>\n",
       "\t</g>\n",
       "</g>\n",
       "<g fill=\"none\" color=\"black\" stroke=\"currentColor\" stroke-width=\"1.00\" stroke-linecap=\"butt\" stroke-linejoin=\"miter\">\n",
       "\t<path stroke='black'  d='M750.1,400.1 L741.1,400.1  '/>\t<g transform=\"translate(758.4,404.6)\" stroke=\"none\" fill=\"black\" font-family=\"Arial\" font-size=\"12.00\"  text-anchor=\"start\">\n",
       "\t\t<text><tspan font-family=\"Arial\" > </tspan></text>\n",
       "\t</g>\n",
       "</g>\n",
       "<g fill=\"none\" color=\"black\" stroke=\"currentColor\" stroke-width=\"1.00\" stroke-linecap=\"butt\" stroke-linejoin=\"miter\">\n",
       "\t<path stroke='black'  d='M750.1,278.7 L741.1,278.7  '/>\t<g transform=\"translate(758.4,283.2)\" stroke=\"none\" fill=\"black\" font-family=\"Arial\" font-size=\"12.00\"  text-anchor=\"start\">\n",
       "\t\t<text><tspan font-family=\"Arial\" > </tspan></text>\n",
       "\t</g>\n",
       "</g>\n",
       "<g fill=\"none\" color=\"black\" stroke=\"currentColor\" stroke-width=\"1.00\" stroke-linecap=\"butt\" stroke-linejoin=\"miter\">\n",
       "\t<path stroke='black'  d='M750.1,157.4 L741.1,157.4  '/>\t<g transform=\"translate(758.4,161.9)\" stroke=\"none\" fill=\"black\" font-family=\"Arial\" font-size=\"12.00\"  text-anchor=\"start\">\n",
       "\t\t<text><tspan font-family=\"Arial\" > </tspan></text>\n",
       "\t</g>\n",
       "</g>\n",
       "<g fill=\"none\" color=\"black\" stroke=\"currentColor\" stroke-width=\"1.00\" stroke-linecap=\"butt\" stroke-linejoin=\"miter\">\n",
       "\t<path stroke='black'  d='M750.1,36.1 L741.1,36.1  '/>\t<g transform=\"translate(758.4,40.6)\" stroke=\"none\" fill=\"black\" font-family=\"Arial\" font-size=\"12.00\"  text-anchor=\"start\">\n",
       "\t\t<text><tspan font-family=\"Arial\" > </tspan></text>\n",
       "\t</g>\n",
       "</g>\n",
       "<g fill=\"none\" color=\"black\" stroke=\"currentColor\" stroke-width=\"1.00\" stroke-linecap=\"butt\" stroke-linejoin=\"miter\">\n",
       "\t<path stroke='black'  d='M113.4,36.1 L113.4,45.1  '/>\t<g transform=\"translate(113.4,22.6)\" stroke=\"none\" fill=\"black\" font-family=\"Arial\" font-size=\"12.00\"  text-anchor=\"middle\">\n",
       "\t\t<text><tspan font-family=\"Arial\" > </tspan></text>\n",
       "\t</g>\n",
       "</g>\n",
       "<g fill=\"none\" color=\"black\" stroke=\"currentColor\" stroke-width=\"1.00\" stroke-linecap=\"butt\" stroke-linejoin=\"miter\">\n",
       "\t<path stroke='black'  d='M219.5,36.1 L219.5,45.1  '/>\t<g transform=\"translate(219.5,22.6)\" stroke=\"none\" fill=\"black\" font-family=\"Arial\" font-size=\"12.00\"  text-anchor=\"middle\">\n",
       "\t\t<text><tspan font-family=\"Arial\" > </tspan></text>\n",
       "\t</g>\n",
       "</g>\n",
       "<g fill=\"none\" color=\"black\" stroke=\"currentColor\" stroke-width=\"1.00\" stroke-linecap=\"butt\" stroke-linejoin=\"miter\">\n",
       "\t<path stroke='black'  d='M325.6,36.1 L325.6,45.1  '/>\t<g transform=\"translate(325.6,22.6)\" stroke=\"none\" fill=\"black\" font-family=\"Arial\" font-size=\"12.00\"  text-anchor=\"middle\">\n",
       "\t\t<text><tspan font-family=\"Arial\" > </tspan></text>\n",
       "\t</g>\n",
       "</g>\n",
       "<g fill=\"none\" color=\"black\" stroke=\"currentColor\" stroke-width=\"1.00\" stroke-linecap=\"butt\" stroke-linejoin=\"miter\">\n",
       "\t<path stroke='black'  d='M431.8,36.1 L431.8,45.1  '/>\t<g transform=\"translate(431.8,22.6)\" stroke=\"none\" fill=\"black\" font-family=\"Arial\" font-size=\"12.00\"  text-anchor=\"middle\">\n",
       "\t\t<text><tspan font-family=\"Arial\" > </tspan></text>\n",
       "\t</g>\n",
       "</g>\n",
       "<g fill=\"none\" color=\"black\" stroke=\"currentColor\" stroke-width=\"1.00\" stroke-linecap=\"butt\" stroke-linejoin=\"miter\">\n",
       "\t<path stroke='black'  d='M537.9,36.1 L537.9,45.1  '/>\t<g transform=\"translate(537.9,22.6)\" stroke=\"none\" fill=\"black\" font-family=\"Arial\" font-size=\"12.00\"  text-anchor=\"middle\">\n",
       "\t\t<text><tspan font-family=\"Arial\" > </tspan></text>\n",
       "\t</g>\n",
       "</g>\n",
       "<g fill=\"none\" color=\"black\" stroke=\"currentColor\" stroke-width=\"1.00\" stroke-linecap=\"butt\" stroke-linejoin=\"miter\">\n",
       "\t<path stroke='black'  d='M644.0,36.1 L644.0,45.1  '/>\t<g transform=\"translate(644.0,22.6)\" stroke=\"none\" fill=\"black\" font-family=\"Arial\" font-size=\"12.00\"  text-anchor=\"middle\">\n",
       "\t\t<text><tspan font-family=\"Arial\" > </tspan></text>\n",
       "\t</g>\n",
       "</g>\n",
       "<g fill=\"none\" color=\"black\" stroke=\"currentColor\" stroke-width=\"1.00\" stroke-linecap=\"butt\" stroke-linejoin=\"miter\">\n",
       "\t<path stroke='black'  d='M750.1,36.1 L750.1,45.1  '/>\t<g transform=\"translate(750.1,22.6)\" stroke=\"none\" fill=\"black\" font-family=\"Arial\" font-size=\"12.00\"  text-anchor=\"middle\">\n",
       "\t\t<text><tspan font-family=\"Arial\" > </tspan></text>\n",
       "\t</g>\n",
       "</g>\n",
       "<g fill=\"none\" color=\"black\" stroke=\"currentColor\" stroke-width=\"1.00\" stroke-linecap=\"butt\" stroke-linejoin=\"miter\">\n",
       "</g>\n",
       "<g fill=\"none\" color=\"black\" stroke=\"currentColor\" stroke-width=\"1.00\" stroke-linecap=\"butt\" stroke-linejoin=\"miter\">\n",
       "\t<path stroke='black'  d='M113.4,36.1 L113.4,764.0 L750.1,764.0 L750.1,36.1 L113.4,36.1 Z  '/></g>\n",
       "<g fill=\"none\" color=\"black\" stroke=\"currentColor\" stroke-width=\"1.00\" stroke-linecap=\"butt\" stroke-linejoin=\"miter\">\n",
       "\t<g transform=\"translate(17.6,400.1) rotate(270)\" stroke=\"none\" fill=\"black\" font-family=\"Arial\" font-size=\"12.00\"  text-anchor=\"middle\">\n",
       "\t\t<text><tspan font-family=\"Arial\" >\u000barphi(0,t)</tspan></text>\n",
       "\t</g>\n",
       "</g>\n",
       "<g fill=\"none\" color=\"black\" stroke=\"currentColor\" stroke-width=\"1.00\" stroke-linecap=\"butt\" stroke-linejoin=\"miter\">\n",
       "</g>\n",
       "\t<g id=\"gnuplot_plot_1\" ><title>LevelSet</title>\n",
       "<g fill=\"none\" color=\"black\" stroke=\"currentColor\" stroke-width=\"1.00\" stroke-linecap=\"butt\" stroke-linejoin=\"miter\">\n",
       "\t<g transform=\"translate(653.0,63.1)\" stroke=\"none\" fill=\"black\" font-family=\"Arial\" font-size=\"16.00\"  text-anchor=\"start\">\n",
       "\t\t<text><tspan font-family=\"Arial\" >LevelSet</tspan></text>\n",
       "\t</g>\n",
       "</g>\n",
       "<g fill=\"none\" color=\"black\" stroke=\"currentColor\" stroke-width=\"1.00\" stroke-linecap=\"butt\" stroke-linejoin=\"miter\">\n",
       "\t<path stroke='rgb(255,   0,   0)'  d='M588.5,57.1 L641.9,57.1 M113.4,764.0 L114.0,763.8 L114.7,763.6 L115.3,763.4 L115.9,763.3 L116.6,763.1\n",
       "\t\tL117.2,762.9 L117.9,762.7 L118.5,762.5 L119.1,762.3 L119.8,762.1 L120.4,762.0 L121.0,761.8 L121.7,761.6\n",
       "\t\tL122.3,761.4 L123.0,761.2 L123.6,761.0 L124.2,761.0 L124.9,761.0 L125.5,761.0 L126.1,761.0 L126.8,761.0\n",
       "\t\tL127.4,761.0 L128.1,761.0 L128.7,761.0 L129.3,761.0 L130.0,761.0 L130.6,761.0 L131.2,761.0 L131.9,761.0\n",
       "\t\tL132.5,761.0 L133.2,761.0 L133.8,761.0 L134.4,761.0 L135.1,761.0 L135.7,761.0 L136.3,761.0 L137.0,761.0\n",
       "\t\tL137.6,761.0 L138.3,761.0 L138.9,761.0 L139.5,761.0 L140.2,761.0 L140.8,761.0 L141.4,761.0 L142.1,761.0\n",
       "\t\tL142.7,761.0 L143.4,761.0 L144.0,761.0 L144.6,761.0 L145.3,761.0 L145.9,761.0 L146.5,761.0 L147.2,761.0\n",
       "\t\tL147.8,761.0 L148.5,761.0 L149.1,761.0 L149.7,761.0 L150.4,761.0 L151.0,761.0 L151.6,761.0 L152.3,761.0\n",
       "\t\tL152.9,761.0 L153.6,761.0 L154.2,761.0 L154.8,761.0 L155.5,761.0 L156.1,761.0 L156.7,761.0 L157.4,761.0\n",
       "\t\tL158.0,761.0 L158.7,761.0 L159.3,761.0 L159.9,761.0 L160.6,761.0 L161.2,761.0 L161.8,761.0 L162.5,761.0\n",
       "\t\tL163.1,761.0 L163.7,761.0 L164.4,761.0 L165.0,761.0 L165.7,761.0 L166.3,761.0 L166.9,761.0 L167.6,761.0\n",
       "\t\tL168.2,761.0 L168.8,761.0 L169.5,761.0 L170.1,761.0 L170.8,761.0 L171.4,761.0 L172.0,761.0 L172.7,761.0\n",
       "\t\tL173.3,761.0 L173.9,761.0 L174.6,761.0 L175.2,761.0 L175.9,761.0 L176.5,761.0 L177.1,761.0 L177.8,761.0\n",
       "\t\tL178.4,761.0 L179.0,761.0 L179.7,761.0 L180.3,761.0 L181.0,761.0 L181.6,761.0 L182.2,761.0 L182.9,761.0\n",
       "\t\tL183.5,761.0 L184.1,761.0 L184.8,761.0 L185.4,761.0 L186.1,761.0 L186.7,761.0 L187.3,761.0 L188.0,761.0\n",
       "\t\tL188.6,761.0 L189.2,761.0 L189.9,761.0 L190.5,761.0 L191.2,761.0 L191.8,761.0 L192.4,761.0 L193.1,761.0\n",
       "\t\tL193.7,761.0 L194.3,761.0 L195.0,761.0 L195.6,761.0 L196.3,761.0 L196.9,761.0 L197.5,761.0 L198.2,761.0\n",
       "\t\tL198.8,761.0 L199.4,761.0 L200.1,761.0 L200.7,761.0 L201.4,761.0 L202.0,761.0 L202.6,761.0 L203.3,761.0\n",
       "\t\tL203.9,761.0 L204.5,761.0 L205.2,761.0 L205.8,761.0 L206.5,761.0 L207.1,761.0 L207.7,761.0 L208.4,761.0\n",
       "\t\tL209.0,761.0 L209.6,761.0 L210.3,761.0 L210.9,761.0 L211.6,761.0 L212.2,761.0 L212.8,761.0 L213.5,761.0\n",
       "\t\tL214.1,761.0 L214.7,761.0 L215.4,761.0 L216.0,761.0 L216.6,761.0 L217.3,761.0 L217.9,761.0 L218.6,761.0\n",
       "\t\tL219.2,761.0 L219.8,761.0 L220.5,761.0 L221.1,761.0 L221.7,761.0 L222.4,761.0 L223.0,761.0 L223.7,761.0\n",
       "\t\tL224.3,761.0 L224.9,761.0 L225.6,761.0 L226.2,761.0 L226.8,761.0 L227.5,761.0 L228.1,761.0 L228.8,761.0\n",
       "\t\tL229.4,761.0 L230.0,761.0 L230.7,761.0 L231.3,761.0 L231.9,761.0 L232.6,761.0 L233.2,761.0 L233.9,761.0\n",
       "\t\tL234.5,761.0 L235.1,761.0 L235.8,761.0 L236.4,761.0 L237.0,761.0 L237.7,761.0 L238.3,761.0 L239.0,761.0\n",
       "\t\tL239.6,761.0 L240.2,761.0 L240.9,761.0 L241.5,761.0 L242.1,761.0 L242.8,761.0 L243.4,761.0 L244.1,761.0\n",
       "\t\tL244.7,761.0 L245.3,761.0 L246.0,761.0 L246.6,761.0 L247.2,761.0 L247.9,761.0 L248.5,761.0 L249.2,761.0\n",
       "\t\tL249.8,761.0 L250.4,761.0 L251.1,761.0 L251.7,761.0 L252.3,761.0 L253.0,761.0 L253.6,761.0 L254.3,761.0\n",
       "\t\tL254.9,761.0 L255.5,761.0 L256.2,760.9 L256.8,760.9 L257.4,760.9 L258.1,760.9 L258.7,760.9 L259.4,760.9\n",
       "\t\tL260.0,760.9 L260.6,760.9 L261.3,760.9 L261.9,761.0 L262.5,761.0 L263.2,761.0 L263.8,761.0 L264.4,761.0\n",
       "\t\tL265.1,761.0 L265.7,761.0 L266.4,761.0 L267.0,761.0 L267.6,761.0 L268.3,761.0 L268.9,761.0 L269.5,761.0\n",
       "\t\tL270.2,761.0 L270.8,761.0 L271.5,761.0 L272.1,761.0 L272.7,761.0 L273.4,761.0 L274.0,761.0 L274.6,761.0\n",
       "\t\tL275.3,761.0 L275.9,761.0 L276.6,761.0 L277.2,761.0 L277.8,761.0 L278.5,761.0 L279.1,761.0 L279.7,761.0\n",
       "\t\tL280.4,761.0 L281.0,761.0 L281.7,761.0 L282.3,760.9 L282.9,760.9 L283.6,760.9 L284.2,760.9 L284.8,760.9\n",
       "\t\tL285.5,760.9 L286.1,760.9 L286.8,760.9 L287.4,760.8 L288.0,760.8 L288.7,760.8 L289.3,760.8 L289.9,760.8\n",
       "\t\tL290.6,760.8 L291.2,760.8 L291.9,760.8 L292.5,760.9 L293.1,760.9 L293.8,760.9 L294.4,761.0 L295.0,761.0\n",
       "\t\tL295.7,761.1 L296.3,761.1 L297.0,761.1 L297.6,761.2 L298.2,761.2 L298.9,761.2 L299.5,761.3 L300.1,761.3\n",
       "\t\tL300.8,761.4 L301.4,761.4 L302.1,761.3 L302.7,761.3 L303.3,761.3 L304.0,761.2 L304.6,761.2 L305.2,761.1\n",
       "\t\tL305.9,761.1 L306.5,761.0 L307.2,761.0 L307.8,760.9 L308.4,760.9 L309.1,760.9 L309.7,760.8 L310.3,760.8\n",
       "\t\tL311.0,760.7 L311.6,760.7 L312.2,760.7 L312.9,760.6 L313.5,760.6 L314.2,760.6 L314.8,760.6 L315.4,760.5\n",
       "\t\tL316.1,760.5 L316.7,760.5 L317.3,760.5 L318.0,760.4 L318.6,760.4 L319.3,760.4 L319.9,760.4 L320.5,760.3\n",
       "\t\tL321.2,760.3 L321.8,760.3 L322.4,760.4 L323.1,760.6 L323.7,760.8 L324.4,761.0 L325.0,761.1 L325.6,761.3\n",
       "\t\tL326.3,761.5 L326.9,761.7 L327.5,761.9 L328.2,762.1 L328.8,762.3 L329.5,762.5 L330.1,762.7 L330.7,762.9\n",
       "\t\tL331.4,763.1 L332.0,763.3 L332.6,763.4 L333.3,762.5 L333.9,761.7 L334.6,760.8 L335.2,760.0 L335.8,759.1\n",
       "\t\tL336.5,758.2 L337.1,757.4 L337.7,756.5 L338.4,755.7 L339.0,754.8 L339.7,753.9 L340.3,753.1 L340.9,752.2\n",
       "\t\tL341.6,751.4 L342.2,750.5 L342.8,749.6 L343.5,747.0 L344.1,743.6 L344.8,740.2 L345.4,736.8 L346.0,733.4\n",
       "\t\tL346.7,729.9 L347.3,726.5 L347.9,723.1 L348.6,719.7 L349.2,716.3 L349.9,712.9 L350.5,709.5 L351.1,706.1\n",
       "\t\tL351.8,702.7 L352.4,699.3 L353.0,695.9 L353.7,691.8 L354.3,686.3 L355.0,680.8 L355.6,675.3 L356.2,669.8\n",
       "\t\tL356.9,664.3 L357.5,658.8 L358.1,653.3 L358.8,647.9 L359.4,642.4 L360.0,636.9 L360.7,631.4 L361.3,625.9\n",
       "\t\tL362.0,620.4 L362.6,614.9 L363.2,609.4 L363.9,603.9 L364.5,597.5 L365.1,591.0 L365.8,584.5 L366.4,578.0\n",
       "\t\tL367.1,571.6 L367.7,565.1 L368.3,558.6 L369.0,552.1 L369.6,545.6 L370.2,539.1 L370.9,532.6 L371.5,526.1\n",
       "\t\tL372.2,519.7 L372.8,513.2 L373.4,506.7 L374.1,500.2 L374.7,493.5 L375.3,486.6 L376.0,479.7 L376.6,472.8\n",
       "\t\tL377.3,465.9 L377.9,459.1 L378.5,452.2 L379.2,445.3 L379.8,438.4 L380.4,431.5 L381.1,424.7 L381.7,417.8\n",
       "\t\tL382.4,410.9 L383.0,404.0 L383.6,397.1 L384.3,390.2 L384.9,383.4 L385.5,376.7 L386.2,369.9 L386.8,363.2\n",
       "\t\tL387.5,356.5 L388.1,349.7 L388.7,343.0 L389.4,336.3 L390.0,329.5 L390.6,322.8 L391.3,316.1 L391.9,309.3\n",
       "\t\tL392.6,302.6 L393.2,295.9 L393.8,289.2 L394.5,282.4 L395.1,275.7 L395.7,269.4 L396.4,263.2 L397.0,257.1\n",
       "\t\tL397.7,250.9 L398.3,244.7 L398.9,238.5 L399.6,232.4 L400.2,226.2 L400.8,220.0 L401.5,213.8 L402.1,207.7\n",
       "\t\tL402.8,201.5 L403.4,195.3 L404.0,189.1 L404.7,183.0 L405.3,176.8 L405.9,171.2 L406.6,166.5 L407.2,161.8\n",
       "\t\tL407.8,157.1 L408.5,152.4 L409.1,147.6 L409.8,142.9 L410.4,138.2 L411.0,133.5 L411.7,128.7 L412.3,124.0\n",
       "\t\tL412.9,119.3 L413.6,114.6 L414.2,109.8 L414.9,105.1 L415.5,100.4 L416.1,95.8 L416.8,93.7 L417.4,91.5\n",
       "\t\tL418.0,89.4 L418.7,87.2 L419.3,85.1 L420.0,82.9 L420.6,80.8 L421.2,78.6 L421.9,76.5 L422.5,74.3\n",
       "\t\tL423.1,72.2 L423.8,70.0 L424.4,67.9 L425.1,65.7 L425.7,63.5 L426.3,61.4 L427.0,60.6 L427.6,60.4\n",
       "\t\tL428.2,60.2 L428.9,60.0 L429.5,59.8 L430.2,59.7 L430.8,59.5 L431.4,59.3 L432.1,59.1 L432.7,58.9\n",
       "\t\tL433.3,58.7 L434.0,58.5 L434.6,58.4 L435.3,58.2 L435.9,58.0 L436.5,57.8 L437.2,57.7 L437.8,57.8\n",
       "\t\tL438.4,58.0 L439.1,58.1 L439.7,58.3 L440.4,58.4 L441.0,58.5 L441.6,58.7 L442.3,58.8 L442.9,58.9\n",
       "\t\tL443.5,59.1 L444.2,59.2 L444.8,59.3 L445.5,59.5 L446.1,59.6 L446.7,59.7 L447.4,59.9 L448.0,59.8\n",
       "\t\tL448.6,59.8 L449.3,59.7 L449.9,59.7 L450.6,59.7 L451.2,59.6 L451.8,59.6 L452.5,59.5 L453.1,59.5\n",
       "\t\tL453.7,59.4 L454.4,59.4 L455.0,59.3 L455.7,59.3 L456.3,59.2 L456.9,59.2 L457.6,59.1 L458.2,59.1\n",
       "\t\tL458.8,59.1 L459.5,59.1 L460.1,59.1 L460.7,59.1 L461.4,59.1 L462.0,59.1 L462.7,59.0 L463.3,59.0\n",
       "\t\tL463.9,59.0 L464.6,59.0 L465.2,59.0 L465.8,59.0 L466.5,59.0 L467.1,59.0 L467.8,59.0 L468.4,59.0\n",
       "\t\tL469.0,59.0 L469.7,59.0 L470.3,59.0 L470.9,59.0 L471.6,59.1 L472.2,59.1 L472.9,59.1 L473.5,59.1\n",
       "\t\tL474.1,59.1 L474.8,59.1 L475.4,59.2 L476.0,59.2 L476.7,59.2 L477.3,59.2 L478.0,59.2 L478.6,59.2\n",
       "\t\tL479.2,59.2 L479.9,59.2 L480.5,59.2 L481.1,59.2 L481.8,59.2 L482.4,59.2 L483.1,59.2 L483.7,59.2\n",
       "\t\tL484.3,59.2 L485.0,59.2 L485.6,59.2 L486.2,59.1 L486.9,59.1 L487.5,59.1 L488.2,59.1 L488.8,59.1\n",
       "\t\tL489.4,59.1 L490.1,59.1 L490.7,59.1 L491.3,59.1 L492.0,59.1 L492.6,59.1 L493.3,59.1 L493.9,59.1\n",
       "\t\tL494.5,59.1 L495.2,59.1 L495.8,59.1 L496.4,59.1 L497.1,59.1 L497.7,59.1 L498.4,59.1 L499.0,59.1\n",
       "\t\tL499.6,59.1 L500.3,59.1 L500.9,59.1 L501.5,59.1 L502.2,59.1 L502.8,59.1 L503.5,59.1 L504.1,59.1\n",
       "\t\tL504.7,59.1 L505.4,59.1 L506.0,59.1 L506.6,59.1 L507.3,59.1 L507.9,59.1 L508.5,59.1 L509.2,59.1\n",
       "\t\tL509.8,59.1 L510.5,59.1 L511.1,59.1 L511.7,59.1 L512.4,59.1 L513.0,59.1 L513.6,59.1 L514.3,59.1\n",
       "\t\tL514.9,59.1 L515.6,59.1 L516.2,59.1 L516.8,59.1 L517.5,59.1 L518.1,59.1 L518.7,59.1 L519.4,59.1\n",
       "\t\tL520.0,59.1 L520.7,59.1 L521.3,59.1 L521.9,59.1 L522.6,59.1 L523.2,59.1 L523.8,59.1 L524.5,59.1\n",
       "\t\tL525.1,59.1 L525.8,59.1 L526.4,59.1 L527.0,59.1 L527.7,59.1 L528.3,59.1 L528.9,59.1 L529.6,59.1\n",
       "\t\tL530.2,59.1 L530.9,59.1 L531.5,59.1 L532.1,59.1 L532.8,59.1 L533.4,59.1 L534.0,59.1 L534.7,59.1\n",
       "\t\tL535.3,59.1 L536.0,59.1 L536.6,59.1 L537.2,59.1 L537.9,59.1 L538.5,59.1 L539.1,59.1 L539.8,59.1\n",
       "\t\tL540.4,59.1 L541.1,59.1 L541.7,59.1 L542.3,59.1 L543.0,59.1 L543.6,59.1 L544.2,59.1 L544.9,59.1\n",
       "\t\tL545.5,59.1 L546.2,59.1 L546.8,59.1 L547.4,59.1 L548.1,59.1 L548.7,59.1 L549.3,59.1 L550.0,59.1\n",
       "\t\tL550.6,59.1 L551.3,59.1 L551.9,59.1 L552.5,59.1 L553.2,59.1 L553.8,59.1 L554.4,59.1 L555.1,59.1\n",
       "\t\tL555.7,59.1 L556.3,59.1 L557.0,59.1 L557.6,59.1 L558.3,59.1 L558.9,59.1 L559.5,59.1 L560.2,59.1\n",
       "\t\tL560.8,59.1 L561.4,59.1 L562.1,59.1 L562.7,59.1 L563.4,59.1 L564.0,59.1 L564.6,59.1 L565.3,59.1\n",
       "\t\tL565.9,59.1 L566.5,59.1 L567.2,59.1 L567.8,59.1 L568.5,59.1 L569.1,59.1 L569.7,59.1 L570.4,59.1\n",
       "\t\tL571.0,59.1 L571.6,59.1 L572.3,59.1 L572.9,59.1 L573.6,59.1 L574.2,59.1 L574.8,59.1 L575.5,59.1\n",
       "\t\tL576.1,59.1 L576.7,59.1 L577.4,59.1 L578.0,59.1 L578.7,59.1 L579.3,59.1 L579.9,59.1 L580.6,59.1\n",
       "\t\tL581.2,59.1 L581.8,59.1 L582.5,59.1 L583.1,59.1 L583.8,59.1 L584.4,59.1 L585.0,59.1 L585.7,59.1\n",
       "\t\tL586.3,59.1 L586.9,59.1 L587.6,59.1 L588.2,59.1 L588.9,59.1 L589.5,59.1 L590.1,59.1 L590.8,59.1\n",
       "\t\tL591.4,59.1 L592.0,59.1 L592.7,59.1 L593.3,59.1 L594.0,59.1 L594.6,59.1 L595.2,59.1 L595.9,59.1\n",
       "\t\tL596.5,59.1 L597.1,59.1 L597.8,59.1 L598.4,59.1 L599.1,59.1 L599.7,59.1 L600.3,59.1 L601.0,59.1\n",
       "\t\tL601.6,59.1 L602.2,59.1 L602.9,59.1 L603.5,59.1 L604.1,59.1 L604.8,59.1 L605.4,59.1 L606.1,59.1\n",
       "\t\tL606.7,59.1 L607.3,59.1 L608.0,59.1 L608.6,59.1 L609.2,59.1 L609.9,59.1 L610.5,59.1 L611.2,59.1\n",
       "\t\tL611.8,59.1 L612.4,59.1 L613.1,59.1 L613.7,59.1 L614.3,59.1 L615.0,59.1 L615.6,59.1 L616.3,59.1\n",
       "\t\tL616.9,59.1 L617.5,59.1 L618.2,59.1 L618.8,59.1 L619.4,59.1 L620.1,59.1 L620.7,59.1 L621.4,59.1\n",
       "\t\tL622.0,59.1 L622.6,59.1 L623.3,59.1 L623.9,59.1 L624.5,59.1 L625.2,59.1 L625.8,59.1 L626.5,59.1\n",
       "\t\tL627.1,59.1 L627.7,59.1 L628.4,59.1 L629.0,59.1 L629.6,59.1 L630.3,59.1 L630.9,59.1 L631.6,59.1\n",
       "\t\tL632.2,59.1 L632.8,59.1 L633.5,59.1 L634.1,59.1 L634.7,59.1 L635.4,59.1 L636.0,59.1 L636.7,59.1\n",
       "\t\tL637.3,59.1 L637.9,59.1 L638.6,59.1 L639.2,59.1 L639.8,59.1 L640.5,59.1 L641.1,59.1 L641.8,59.1\n",
       "\t\tL642.4,59.1 L643.0,59.1 L643.7,59.1 L644.3,59.1 L644.9,59.1 L645.6,59.1 L646.2,59.1 L646.9,59.1\n",
       "\t\tL647.5,59.1 L648.1,59.1 L648.8,59.1 L649.4,59.1 L650.0,59.1 L650.7,59.1 L651.3,59.1 L651.9,59.1\n",
       "\t\tL652.6,59.1 L653.2,59.1 L653.9,59.1 L654.5,59.1 L655.1,59.1 L655.8,59.1 L656.4,59.1 L657.0,59.1\n",
       "\t\tL657.7,59.1 L658.3,59.1 L659.0,59.1 L659.6,59.1 L660.2,59.1 L660.9,59.1 L661.5,59.1 L662.1,59.1\n",
       "\t\tL662.8,59.1 L663.4,59.1 L664.1,59.1 L664.7,59.1 L665.3,59.1 L666.0,59.1 L666.6,59.1 L667.2,59.1\n",
       "\t\tL667.9,59.1 L668.5,59.1 L669.2,59.1 L669.8,59.1 L670.4,59.1 L671.1,59.1 L671.7,59.1 L672.3,59.1\n",
       "\t\tL673.0,59.1 L673.6,59.1 L674.3,59.1 L674.9,59.1 L675.5,59.1 L676.2,59.1 L676.8,59.1 L677.4,59.1\n",
       "\t\tL678.1,59.1 L678.7,59.1 L679.4,59.1 L680.0,59.1 L680.6,59.1 L681.3,59.1 L681.9,59.1 L682.5,59.1\n",
       "\t\tL683.2,59.1 L683.8,59.1 L684.5,59.1 L685.1,59.1 L685.7,59.1 L686.4,59.1 L687.0,59.1 L687.6,59.1\n",
       "\t\tL688.3,59.1 L688.9,59.1 L689.6,59.1 L690.2,59.1 L690.8,59.1 L691.5,59.1 L692.1,59.1 L692.7,59.1\n",
       "\t\tL693.4,59.1 L694.0,59.1 L694.7,59.1 L695.3,59.1 L695.9,59.1 L696.6,59.1 L697.2,59.1 L697.8,59.1\n",
       "\t\tL698.5,59.1 L699.1,59.1 L699.8,59.1 L700.4,59.1 L701.0,59.1 L701.7,59.1 L702.3,59.1 L702.9,59.1\n",
       "\t\tL703.6,59.1 L704.2,59.1 L704.8,59.1 L705.5,59.1 L706.1,59.1 L706.8,59.1 L707.4,59.1 L708.0,59.1\n",
       "\t\tL708.7,59.1 L709.3,59.1 L709.9,59.1 L710.6,59.1 L711.2,59.1 L711.9,59.1 L712.5,59.1 L713.1,59.1\n",
       "\t\tL713.8,59.1 L714.4,59.1 L715.0,59.1 L715.7,59.1 L716.3,59.1 L717.0,59.1 L717.6,59.1 L718.2,59.1\n",
       "\t\tL718.9,59.1 L719.5,59.1 L720.1,59.1 L720.8,59.1 L721.4,59.1 L722.1,59.1 L722.7,59.1 L723.3,59.1\n",
       "\t\tL724.0,59.1 L724.6,59.1 L725.2,59.1 L725.9,59.1 L726.5,59.1 L727.2,59.1 L727.8,59.1 L728.4,59.1\n",
       "\t\tL729.1,59.1 L729.7,59.1 L730.3,59.1 L731.0,59.1 L731.6,59.1 L732.3,59.1 L732.9,59.1 L733.5,59.1\n",
       "\t\tL734.2,59.1 L734.8,59.1 L735.4,59.1 L736.1,59.1 L736.7,59.1 L737.4,59.1 L738.0,59.1 L738.6,59.1\n",
       "\t\tL739.3,59.1 L739.9,59.1 L740.5,59.1 L741.2,59.1 L741.8,59.1 L742.5,59.1 L743.1,59.1 L743.7,59.1\n",
       "\t\tL744.4,59.1 L745.0,59.1 L745.6,59.1 L746.3,59.1 L746.9,59.1 L747.6,59.1 L748.2,59.1 L748.8,59.1\n",
       "\t\tL749.5,59.1 L750.1,59.1  '/></g>\n",
       "\t</g>\n",
       "<g fill=\"none\" color=\"#FFFFFF\" stroke=\"rgb(255,   0,   0)\" stroke-width=\"2.00\" stroke-linecap=\"butt\" stroke-linejoin=\"miter\">\n",
       "</g>\n",
       "<g fill=\"none\" color=\"black\" stroke=\"currentColor\" stroke-width=\"2.00\" stroke-linecap=\"butt\" stroke-linejoin=\"miter\">\n",
       "</g>\n",
       "<g fill=\"none\" color=\"black\" stroke=\"black\" stroke-width=\"1.00\" stroke-linecap=\"butt\" stroke-linejoin=\"miter\">\n",
       "</g>\n",
       "<g fill=\"none\" color=\"black\" stroke=\"currentColor\" stroke-width=\"1.00\" stroke-linecap=\"butt\" stroke-linejoin=\"miter\">\n",
       "\t<path stroke='black'  d='M113.4,36.1 L113.4,764.0 L750.1,764.0 L750.1,36.1 L113.4,36.1 Z  '/></g>\n",
       "<g fill=\"none\" color=\"black\" stroke=\"currentColor\" stroke-width=\"1.00\" stroke-linecap=\"butt\" stroke-linejoin=\"miter\">\n",
       "</g>\n",
       "</g>\n",
       "</svg>\n",
       "\n"
      ]
     },
     "metadata": {},
     "output_type": "display_data"
    }
   ],
   "source": [
    "// Format\n",
    "var fmt= new PlotFormat();\n",
    "fmt.WithPointSize(0.0);\n",
    "fmt.LineColor=LineColors.Red;\n",
    "string csvFileName = \"XESTSFLevelSetPertubations.csv\";\n",
    "var plotLevelSet= new Plot2Ddata();\n",
    "using (StreamWriter writer = new StreamWriter(csvFileName)){\n",
    "    \n",
    "    //Console.WriteLine(t);\n",
    "    (double[] xVals,double[] yVals)=GetPlotLevelSet(tMin,tMax,1000, si);\n",
    "    \n",
    "    plotLevelSet.AddDataGroup(\"LevelSet\",xVals,yVals,fmt);\n",
    "        // Write header row\n",
    "    writer.WriteLine($\"t,{string.Join(\",\", xVals)}\");\n",
    "    \n",
    "    // Write data row\n",
    "    writer.WriteLine($\"phi(t),{string.Join(\",\", yVals)}\");\n",
    "            \n",
    "}\n",
    "\n",
    "plotLevelSet.Ylabel=\"\\varphi(0,t)\";\n",
    "plotLevelSet.ToGnuplot().PlotSVG(xRes:800,yRes:800)  \n"
   ]
  },
  {
   "cell_type": "code",
   "execution_count": 18,
   "metadata": {
    "dotnet_interactive": {
     "language": "csharp"
    },
    "polyglot_notebook": {
     "kernelName": "csharp"
    }
   },
   "outputs": [],
   "source": []
  }
 ],
 "metadata": {
  "kernelspec": {
   "display_name": ".NET (C#)",
   "language": "C#",
   "name": ".net-csharp"
  },
  "language_info": {
   "name": "polyglot-notebook"
  },
  "polyglot_notebook": {
   "kernelInfo": {
    "defaultKernelName": "csharp",
    "items": [
     {
      "aliases": [],
      "name": ".NET"
     },
     {
      "aliases": [
       "C#",
       "c#"
      ],
      "languageName": "C#",
      "name": "csharp"
     },
     {
      "aliases": [
       "F#",
       "f#"
      ],
      "languageName": "F#",
      "name": "fsharp"
     },
     {
      "aliases": [],
      "languageName": "HTML",
      "name": "html"
     },
     {
      "aliases": [
       "js"
      ],
      "languageName": "JavaScript",
      "name": "javascript"
     },
     {
      "aliases": [],
      "languageName": "KQL",
      "name": "kql"
     },
     {
      "aliases": [],
      "languageName": "Mermaid",
      "name": "mermaid"
     },
     {
      "aliases": [
       "powershell"
      ],
      "languageName": "PowerShell",
      "name": "pwsh"
     },
     {
      "aliases": [],
      "languageName": "SQL",
      "name": "sql"
     },
     {
      "aliases": [],
      "name": "value"
     },
     {
      "aliases": [
       "frontend"
      ],
      "name": "vscode"
     },
     {
      "aliases": [],
      "name": "webview"
     }
    ]
   }
  }
 },
 "nbformat": 4,
 "nbformat_minor": 2
}

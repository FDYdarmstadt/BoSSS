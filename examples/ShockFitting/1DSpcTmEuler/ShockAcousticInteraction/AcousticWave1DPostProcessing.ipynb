{
 "cells": [
  {
   "cell_type": "markdown",
   "metadata": {},
   "source": [
    "This Notebook evaluates test cases for the 1D Shock-Acoustic-Wave interaction problem as presented presented in the phd thesis \"Implicit Discontinuous Galerkin Shock Tracking methods for Compressible Flows with Shocks\" (Vandergrift 2024)."
   ]
  },
  {
   "cell_type": "code",
   "execution_count": 1,
   "metadata": {
    "dotnet_interactive": {
     "language": "csharp"
    }
   },
   "outputs": [],
   "source": [
    "#r \".\\binaries\\BoSSSpad.dll\"\n",
    "#r \".\\binaries\\XESTSF.dll\"\n",
    "using System;\n",
    "using BoSSS.Foundation;\n",
    "using BoSSS.Application.BoSSSpad;\n",
    "using BoSSS.Solution;\n",
    "using BoSSS.Solution.Tecplot;\n",
    "using BoSSS.Foundation.IO;\n",
    "using ilPSP.Tracing;\n",
    "using BoSSS.Solution.Utils;\n",
    "using ilPSP.LinSolvers;\n",
    "using BoSSS.Solution.NSECommon;\n",
    "using ilPSP.Connectors.Matlab;\n",
    "using ilPSP;\n",
    "using BoSSS.Foundation.Grid.Classic;\n",
    "using ilPSP.Utils;\n",
    "using BoSSS.Foundation.Grid.RefElements;\n",
    "using System.Collections.Generic;\n",
    "using BoSSS.Foundation.Grid;\n",
    "using BoSSS.Foundation.XDG;\n",
    "using BoSSS.Solution.XdgTimestepping;\n",
    "using BoSSS.Solution.AdvancedSolvers;\n",
    "using System.Linq;\n",
    "using BoSSS.Foundation.Grid.Aggregation;\n",
    "using BoSSS.Platform;\n",
    "using MPI.Wrappers;\n",
    "using System.Diagnostics;\n",
    "using System.IO;\n",
    "using System.Collections;\n",
    "using BoSSS.Foundation.Quadrature;\n",
    "using BoSSS.Solution.Statistic;\n",
    "using BoSSS.Solution.Gnuplot;\n",
    "using static BoSSS.Application.BoSSSpad.BoSSSshell;\n",
    "using BoSSS.Solution.Control;\n",
    "using BoSSS.Solution.GridImport;\n",
    "using ApplicationWithIDT;\n",
    "using XESTSF;\n",
    "using XDGShock;\n",
    "Init();\n"
   ]
  },
  {
   "cell_type": "code",
   "execution_count": 2,
   "metadata": {
    "dotnet_interactive": {
     "language": "csharp"
    }
   },
   "outputs": [
    {
     "data": {
      "text/plain": [
       "{ Session Count = 12; Grid Count = 12; Path = \\\\dc3\\userspace\\sebastian\\cluster\\XESTSF_ShockAcousticInteraction1D }"
      ]
     },
     "metadata": {},
     "output_type": "display_data"
    }
   ],
   "source": [
    "var ass= new MatrixAssembler(1);\n",
    "BoSSSshell.WorkflowMgm.Init(\"XESTSF_ShockAcousticInteraction1D\");\n",
    "BoSSSshell.WorkflowMgm.SetNameBasedSessionJobControlCorrelation();\n",
    "BoSSSshell.WorkflowMgm.DefaultDatabase\n"
   ]
  },
  {
   "cell_type": "code",
   "execution_count": 3,
   "metadata": {
    "dotnet_interactive": {
     "language": "csharp"
    }
   },
   "outputs": [
    {
     "data": {
      "text/plain": [
       "\\\\dc3\\userspace\\sebastian\\cluster\\XESTSF_ShockAcousticInteraction1D"
      ]
     },
     "metadata": {},
     "output_type": "display_data"
    }
   ],
   "source": [
    "string dbPath = BoSSSshell.WorkflowMgm.DefaultDatabase.Path; \n",
    "dbPath"
   ]
  },
  {
   "cell_type": "markdown",
   "metadata": {},
   "source": [
    "function to plot line outs of the space time solution"
   ]
  },
  {
   "cell_type": "code",
   "execution_count": 4,
   "metadata": {
    "dotnet_interactive": {
     "language": "csharp"
    }
   },
   "outputs": [],
   "source": [
    "(double[] xVals, double[]yVals) GetPlot(double xMin,double xMax, double t, int nRef,string field,ISessionInfo si){\n",
    "//double shockPosition=0.5;\n",
    "var p1= new double[] {xMin,t};\n",
    "var p2=new double[] {xMax,t};\n",
    "\n",
    "//timesteps to compare\n",
    "var tiEnd=si.Timesteps.Last();\n",
    "\n",
    "// # use p_per from BoSSS \n",
    "var pEnd =tiEnd.GetField(field);\n",
    "double[] yVals=pEnd.EvaluateAlongLine(p1,p2,nRef);\n",
    "double[] xVals= GenericBlas.Linspace(xMin,xMax,nRef);\n",
    "return(xVals,yVals);\n",
    "}"
   ]
  },
  {
   "cell_type": "code",
   "execution_count": 5,
   "metadata": {
    "dotnet_interactive": {
     "language": "csharp"
    },
    "polyglot_notebook": {
     "kernelName": "csharp"
    }
   },
   "outputs": [
    {
     "data": {
      "text/plain": [
       "#0: XESTSF_AcousticWave1D\tAW_p3_xCells61_tCells61_tMax4_1sinus_Mach1.5_sP1.5_wP0.3_ampneg1E-05_amppos0_wLTrue_wSTrue_wL0.8\t4/10/2024 2:48:38 PM\t50cba6ca...\r\n",
       "#1: XESTSF_AcousticWave1D\tAW_p3_xCells61_tCells61_tMax4_bump_Mach1.5_sP1.5_wP0.3_ampneg1E-05_amppos0_wLTrue_wSTrue_wL0.8\t4/10/2024 2:48:01 PM\t3fb780f8...\r\n",
       "#2: XESTSF_AcousticWave1D\tAW_p3_xCells61_tCells61_tMax1.5_bump_Mach1.5_sP1.5_wP0_ampneg0_amppos1E-05_wLTrue_wSTrue_wL0.8\t4/10/2024 2:46:46 PM\t9bcce582...\r\n",
       "#3: XESTSF_AcousticWave1D\tAW_p3_xCells61_tCells61_tMax4_1sinus_Mach1.5_sP0.5_wP0.9_ampneg1E-05_amppos0_wLTrue_wSTrue_wL0.8\t4/10/2024 2:46:07 PM\t012246ad...\r\n",
       "#4: XESTSF_AcousticWave1D\tAW_p3_xCells61_tCells61_tMax4_bump_Mach1.5_sP0.5_wP0.9_ampneg1E-05_amppos0_wLTrue_wSTrue_wL0.8\t4/10/2024 2:45:27 PM\t90107f8d...\r\n",
       "#5: XESTSF_AcousticWave1D\tAW_p3_xCells61_tCells61_tMax1.5_1sinus_Mach1.5_sP1.5_wP0_ampneg0_amppos1E-05_wLTrue_wSTrue_wL0.8\t4/10/2024 2:47:24 PM\t8c0c4d79...\r\n",
       "#6: XESTSF_AcousticWave1D\tAW_p3_xCells91_tCells91_tMax4_1sinus_Mach1.5_sP1.5_wP0.3_ampneg1E-05_amppos0_wLTrue_wSTrue_wL0.8*\t4/10/2024 2:48:59 PM\t39e1f7d3...\r\n",
       "#7: XESTSF_AcousticWave1D\tAW_p3_xCells91_tCells91_tMax4_bump_Mach1.5_sP1.5_wP0.3_ampneg1E-05_amppos0_wLTrue_wSTrue_wL0.8*\t4/10/2024 2:48:23 PM\t73ae7ed9...\r\n",
       "#8: XESTSF_AcousticWave1D\tAW_p3_xCells91_tCells91_tMax1.5_1sinus_Mach1.5_sP1.5_wP0_ampneg0_amppos1E-05_wLTrue_wSTrue_wL0.8*\t4/10/2024 2:47:45 PM\td643048f...\r\n",
       "#9: XESTSF_AcousticWave1D\tAW_p3_xCells91_tCells91_tMax1.5_bump_Mach1.5_sP1.5_wP0_ampneg0_amppos1E-05_wLTrue_wSTrue_wL0.8*\t4/10/2024 2:47:07 PM\td44f94cb...\r\n",
       "#10: XESTSF_AcousticWave1D\tAW_p3_xCells91_tCells91_tMax4_1sinus_Mach1.5_sP0.5_wP0.9_ampneg1E-05_amppos0_wLTrue_wSTrue_wL0.8*\t4/10/2024 2:46:28 PM\t064d736c...\r\n",
       "#11: XESTSF_AcousticWave1D\tAW_p3_xCells91_tCells91_tMax4_bump_Mach1.5_sP0.5_wP0.9_ampneg1E-05_amppos0_wLTrue_wSTrue_wL0.8*\t4/10/2024 2:45:50 PM\t49433504...\r\n"
      ]
     },
     "metadata": {},
     "output_type": "display_data"
    }
   ],
   "source": [
    "var db=OpenOrCreateDatabase(dbPath);\n",
    "var ses=db.Sessions;\n",
    "ses"
   ]
  },
  {
   "cell_type": "code",
   "execution_count": 7,
   "metadata": {
    "dotnet_interactive": {
     "language": "csharp"
    },
    "polyglot_notebook": {
     "kernelName": "csharp"
    }
   },
   "outputs": [
    {
     "data": {
      "text/plain": [
       "XESTSF_AcousticWave1D\tAW_p3_xCells61_tCells61_tMax4_1sinus_Mach1.5_sP1.5_wP0.3_ampneg1E-05_amppos0_wLTrue_wSTrue_wL0.8\t4/10/2024 2:48:38 PM\t50cba6ca..."
      ]
     },
     "metadata": {},
     "output_type": "display_data"
    }
   ],
   "source": [
    "var si=db.Sessions.Pick(0);\n",
    "var ti=si.Timesteps.Last();\n",
    "//si.Timesteps\n",
    "si"
   ]
  },
  {
   "cell_type": "markdown",
   "metadata": {},
   "source": [
    "# Plotting"
   ]
  },
  {
   "cell_type": "markdown",
   "metadata": {},
   "source": [
    "define general params for plotting (must substract some eps because, otherwise some points are not located in the space-time grid)"
   ]
  },
  {
   "cell_type": "code",
   "execution_count": 8,
   "metadata": {
    "dotnet_interactive": {
     "language": "csharp"
    },
    "polyglot_notebook": {
     "kernelName": "csharp"
    }
   },
   "outputs": [],
   "source": [
    "var eps=0.000001;\n",
    "double xMin=0 +eps;double xMax=3.0-eps; int xRef=100; \n",
    "double tMin =0 + eps;int tRef=100;\n",
    "int nRows=2;"
   ]
  },
  {
   "cell_type": "markdown",
   "metadata": {},
   "source": [
    "obtain tMax from session name"
   ]
  },
  {
   "cell_type": "code",
   "execution_count": 9,
   "metadata": {
    "dotnet_interactive": {
     "language": "csharp"
    },
    "polyglot_notebook": {
     "kernelName": "csharp"
    }
   },
   "outputs": [],
   "source": [
    "// Format\n",
    "var fmt= new PlotFormat();\n",
    "fmt.WithPointSize(0.0);\n",
    "fmt.LineColor=LineColors.Red;"
   ]
  },
  {
   "cell_type": "markdown",
   "metadata": {},
   "source": [
    "## Pressure Pertubations"
   ]
  },
  {
   "cell_type": "code",
   "execution_count": 10,
   "metadata": {
    "dotnet_interactive": {
     "language": "csharp"
    },
    "polyglot_notebook": {
     "kernelName": "csharp"
    }
   },
   "outputs": [
    {
     "name": "stdout",
     "output_type": "stream",
     "text": [
      "doing:AW_p3_xCells61_tCells61_tMax4_1sinus_Mach1.5_sP1.5_wP0.3_ampneg1E-05_amppos0_wLTrue_wSTrue_wL0.8; tMax:3.999999\n",
      "doing:AW_p3_xCells61_tCells61_tMax4_bump_Mach1.5_sP1.5_wP0.3_ampneg1E-05_amppos0_wLTrue_wSTrue_wL0.8; tMax:3.999999\n",
      "doing:AW_p3_xCells61_tCells61_tMax1.5_bump_Mach1.5_sP1.5_wP0_ampneg0_amppos1E-05_wLTrue_wSTrue_wL0.8; tMax:0.999999\n",
      "doing:AW_p3_xCells61_tCells61_tMax4_1sinus_Mach1.5_sP0.5_wP0.9_ampneg1E-05_amppos0_wLTrue_wSTrue_wL0.8; tMax:3.999999\n",
      "doing:AW_p3_xCells61_tCells61_tMax4_bump_Mach1.5_sP0.5_wP0.9_ampneg1E-05_amppos0_wLTrue_wSTrue_wL0.8; tMax:3.999999\n",
      "doing:AW_p3_xCells61_tCells61_tMax1.5_1sinus_Mach1.5_sP1.5_wP0_ampneg0_amppos1E-05_wLTrue_wSTrue_wL0.8; tMax:0.999999\n",
      "doing:AW_p3_xCells91_tCells91_tMax4_1sinus_Mach1.5_sP1.5_wP0.3_ampneg1E-05_amppos0_wLTrue_wSTrue_wL0.8; tMax:3.999999\n",
      "doing:AW_p3_xCells91_tCells91_tMax4_bump_Mach1.5_sP1.5_wP0.3_ampneg1E-05_amppos0_wLTrue_wSTrue_wL0.8; tMax:3.999999\n",
      "doing:AW_p3_xCells91_tCells91_tMax1.5_1sinus_Mach1.5_sP1.5_wP0_ampneg0_amppos1E-05_wLTrue_wSTrue_wL0.8; tMax:0.999999\n",
      "doing:AW_p3_xCells91_tCells91_tMax1.5_bump_Mach1.5_sP1.5_wP0_ampneg0_amppos1E-05_wLTrue_wSTrue_wL0.8; tMax:0.999999\n",
      "doing:AW_p3_xCells91_tCells91_tMax4_1sinus_Mach1.5_sP0.5_wP0.9_ampneg1E-05_amppos0_wLTrue_wSTrue_wL0.8; tMax:3.999999\n",
      "doing:AW_p3_xCells91_tCells91_tMax4_bump_Mach1.5_sP0.5_wP0.9_ampneg1E-05_amppos0_wLTrue_wSTrue_wL0.8; tMax:3.999999\n"
     ]
    }
   ],
   "source": [
    "using System.Text.RegularExpressions;\n",
    "foreach(var si in ses){\n",
    "    string pattern = @\"tMax(\\d+)\";\n",
    "    Match match = Regex.Match(si.Name, pattern);\n",
    "    double tMax = 1.5;\n",
    "    try{\n",
    "        tMax = double.Parse(match.Groups[1].Value)-eps;\n",
    "    }catch{\n",
    "    }\n",
    "    Console.WriteLine($\"doing:{si.Name}; tMax:{tMax}\");\n",
    "    string field=\"p_per\";\n",
    "    string csvFileName = si.Name + \"_p_per.csv\";\n",
    "    Plot2Ddata[,] multiplotsPressure = new Plot2Ddata[(tRef+1)/nRows,nRows];\n",
    "    using (StreamWriter writer = new StreamWriter(csvFileName))\n",
    "            {\n",
    "            for(int Ti=0;Ti< tRef;Ti++){\n",
    "                var plot= new Plot2Ddata();\n",
    "                plot.Xlabel=\"x\";\n",
    "                plot.Ylabel=\"p'\";\n",
    "                double t=((double) tRef-1-Ti)/((double) tRef-1)*tMin+((double) Ti)/(tRef-1)*tMax;\n",
    "                //Console.WriteLine(t);\n",
    "                (double[] xVals,double[] yVals)=GetPlot(xMin,xMax,t,xRef,field, si);\n",
    "                plot.AddDataGroup(\"t=\"+Math.Round(t,2),xVals,yVals,fmt);\n",
    "                multiplotsPressure[Ti/nRows,Ti %nRows]=plot;\n",
    "                if (Ti == 0)\n",
    "                {\n",
    "                    // Write header row\n",
    "                    writer.WriteLine($\"x/t,{string.Join(\",\", xVals)}\");\n",
    "                }\n",
    "                // Write data row\n",
    "                writer.WriteLine($\"{Math.Round(t, 2)},{string.Join(\",\", yVals)}\");\n",
    "                        \n",
    "            }\n",
    "    };\n",
    "}\n",
    "\n"
   ]
  },
  {
   "cell_type": "code",
   "execution_count": 11,
   "metadata": {
    "dotnet_interactive": {
     "language": "csharp"
    },
    "polyglot_notebook": {
     "kernelName": "csharp"
    }
   },
   "outputs": [],
   "source": [
    "foreach(var si in ses){\n",
    "    IDTTimeStepInfo lts = (IDTTimeStepInfo)((TimestepProxy)si.Timesteps.Last()).GetInternal();\n",
    "    lts.EnResHistory.SaveToTextFile(si.Name + \"_EnResNorms.txt\");\n",
    "    lts.ResHistory.SaveToTextFile(si.Name + \"_ResNorms.txt\");\n",
    "}\n",
    "//Array.ForEach(multiplotsPressure.Cast<Plot2Ddata>().ToArray(), \n",
    "//    plot => { plot.YrangeMin = -1.5 * 1e-5; plot.YrangeMax = 1.5 * 1e-5; });\n",
    "// multiplotsPressure[1,1].YrangeMax = 5 * 1e-7; multiplotsPressure[1,1].YrangeMin = -6 * 1e-7;\n",
    "// multiplotsPressure[2,0].YrangeMax = 5 * 1e-7; multiplotsPressure[2,0].YrangeMin = -6 * 1e-7;\n",
    "// multiplotsPressure[2,1].YrangeMax = 5 * 1e-7; multiplotsPressure[2,1].YrangeMin = -6 * 1e-7;\n",
    "//multiplotsPressure.ToGnuplot().PlotSVG(xRes:900,yRes:600)"
   ]
  },
  {
   "cell_type": "code",
   "execution_count": 18,
   "metadata": {
    "dotnet_interactive": {
     "language": "csharp"
    },
    "polyglot_notebook": {
     "kernelName": "csharp"
    }
   },
   "outputs": [
    {
     "name": "stdout",
     "output_type": "stream",
     "text": [
      "doing:AW_p3_xCells61_tCells61_tMax4_1sinus_Mach1.5_sP1.5_wP0.3_ampneg1E-05_amppos0_wLTrue_wSTrue_wL0.8; tMax:3.999999\n",
      "Catched: wP0.3, xa0.5,xs1.5\n",
      "AverageAlongRay: -3.2634017135110644E-10\n",
      "doing:AW_p3_xCells61_tCells61_tMax4_bump_Mach1.5_sP1.5_wP0.3_ampneg1E-05_amppos0_wLTrue_wSTrue_wL0.8; tMax:3.999999\n",
      "Catched: wP0.3, xa0.7,xs1.5\n",
      "AverageAlongRay: -7.1809644682885924E-12\n",
      "doing:AW_p3_xCells61_tCells61_tMax1.5_bump_Mach1.5_sP1.5_wP0_ampneg0_amppos1E-05_wLTrue_wSTrue_wL0.8; tMax:1.499999\n",
      "Catched: wP0, xa0.4,xs1.5\n",
      "AverageAlongRay: 2.1574504113916715E-05\n",
      "doing:AW_p3_xCells61_tCells61_tMax4_1sinus_Mach1.5_sP0.5_wP0.9_ampneg1E-05_amppos0_wLTrue_wSTrue_wL0.8; tMax:3.999999\n",
      "Catched: wP0.9, xa1.1,xs0.5\n",
      "AverageAlongRay: -9.660974521687129E-07\n",
      "doing:AW_p3_xCells61_tCells61_tMax4_bump_Mach1.5_sP0.5_wP0.9_ampneg1E-05_amppos0_wLTrue_wSTrue_wL0.8; tMax:3.999999\n",
      "Catched: wP0.9, xa1.3,xs0.5\n",
      "AverageAlongRay: 2.867831112623626E-07\n",
      "doing:AW_p3_xCells61_tCells61_tMax1.5_1sinus_Mach1.5_sP1.5_wP0_ampneg0_amppos1E-05_wLTrue_wSTrue_wL0.8; tMax:1.499999\n",
      "Catched: wP0, xa0.2,xs1.5\n",
      "AverageAlongRay: 2.1544424740776447E-05\n",
      "doing:AW_p3_xCells91_tCells91_tMax4_1sinus_Mach1.5_sP1.5_wP0.3_ampneg1E-05_amppos0_wLTrue_wSTrue_wL0.8; tMax:3.999999\n",
      "Catched: wP0.3, xa0.5,xs1.5\n",
      "AverageAlongRay: -3.5309570725072406E-11\n",
      "doing:AW_p3_xCells91_tCells91_tMax4_bump_Mach1.5_sP1.5_wP0.3_ampneg1E-05_amppos0_wLTrue_wSTrue_wL0.8; tMax:3.999999\n",
      "Catched: wP0.3, xa0.7,xs1.5\n",
      "AverageAlongRay: -5.478107391629292E-11\n",
      "doing:AW_p3_xCells91_tCells91_tMax1.5_1sinus_Mach1.5_sP1.5_wP0_ampneg0_amppos1E-05_wLTrue_wSTrue_wL0.8; tMax:1.499999\n",
      "Catched: wP0, xa0.2,xs1.5\n",
      "AverageAlongRay: 2.15499334012807E-05\n",
      "doing:AW_p3_xCells91_tCells91_tMax1.5_bump_Mach1.5_sP1.5_wP0_ampneg0_amppos1E-05_wLTrue_wSTrue_wL0.8; tMax:1.499999\n",
      "Catched: wP0, xa0.4,xs1.5\n",
      "AverageAlongRay: 2.155376024852706E-05\n",
      "doing:AW_p3_xCells91_tCells91_tMax4_1sinus_Mach1.5_sP0.5_wP0.9_ampneg1E-05_amppos0_wLTrue_wSTrue_wL0.8; tMax:3.999999\n",
      "Catched: wP0.9, xa1.1,xs0.5\n",
      "AverageAlongRay: -9.666013344777801E-07\n",
      "doing:AW_p3_xCells91_tCells91_tMax4_bump_Mach1.5_sP0.5_wP0.9_ampneg1E-05_amppos0_wLTrue_wSTrue_wL0.8; tMax:3.999999\n",
      "Catched: wP0.9, xa1.3,xs0.5\n",
      "AverageAlongRay: 2.872576652775325E-07\n",
      "Using gnuplot: C:\\Program Files (x86)\\FDY\\BoSSS\\bin\\native\\win\\gnuplot-gp510-20160418-win32-mingw\\gnuplot\\bin\\gnuplot.exe\n",
      "Note: In a Jupyter Worksheet, you must NOT have a trailing semicolon in order to see the plot on screen; otherwise, the output migth be surpressed.!\n"
     ]
    },
    {
     "data": {
      "text/html": [
       "<?xml version=\"1.0\" encoding=\"utf-8\"  standalone=\"no\"?>\n",
       "<!DOCTYPE svg PUBLIC \"-//W3C//DTD SVG 1.1//EN\"\n",
       " \"http://www.w3.org/Graphics/SVG/1.1/DTD/svg11.dtd\">\n",
       "<svg \n",
       " width=\"900\" height=\"600\"\n",
       " viewBox=\"0 0 900 600\"\n",
       " xmlns=\"http://www.w3.org/2000/svg\"\n",
       " xmlns:xlink=\"http://www.w3.org/1999/xlink\"\n",
       ">\n",
       "\n",
       "<title>Gnuplot</title>\n",
       "<desc>Produced by GNUPLOT 5.1 patchlevel 0 </desc>\n",
       "\n",
       "<g id=\"gnuplot_canvas\">\n",
       "\n",
       "<rect x=\"0\" y=\"0\" width=\"900\" height=\"600\" fill=\"#ffffff\"/>\n",
       "<defs>\n",
       "\n",
       "\t<circle id='gpDot' r='0.5' stroke-width='0.5'/>\n",
       "\t<path id='gpPt0' stroke-width='0.222' stroke='currentColor' d='M-1,0 h2 M0,-1 v2'/>\n",
       "\t<path id='gpPt1' stroke-width='0.222' stroke='currentColor' d='M-1,-1 L1,1 M1,-1 L-1,1'/>\n",
       "\t<path id='gpPt2' stroke-width='0.222' stroke='currentColor' d='M-1,0 L1,0 M0,-1 L0,1 M-1,-1 L1,1 M-1,1 L1,-1'/>\n",
       "\t<rect id='gpPt3' stroke-width='0.222' stroke='currentColor' x='-1' y='-1' width='2' height='2'/>\n",
       "\t<rect id='gpPt4' stroke-width='0.222' stroke='currentColor' fill='currentColor' x='-1' y='-1' width='2' height='2'/>\n",
       "\t<circle id='gpPt5' stroke-width='0.222' stroke='currentColor' cx='0' cy='0' r='1'/>\n",
       "\t<use xlink:href='#gpPt5' id='gpPt6' fill='currentColor' stroke='none'/>\n",
       "\t<path id='gpPt7' stroke-width='0.222' stroke='currentColor' d='M0,-1.33 L-1.33,0.67 L1.33,0.67 z'/>\n",
       "\t<use xlink:href='#gpPt7' id='gpPt8' fill='currentColor' stroke='none'/>\n",
       "\t<use xlink:href='#gpPt7' id='gpPt9' stroke='currentColor' transform='rotate(180)'/>\n",
       "\t<use xlink:href='#gpPt9' id='gpPt10' fill='currentColor' stroke='none'/>\n",
       "\t<use xlink:href='#gpPt3' id='gpPt11' stroke='currentColor' transform='rotate(45)'/>\n",
       "\t<use xlink:href='#gpPt11' id='gpPt12' fill='currentColor' stroke='none'/>\n",
       "\t<path id='gpPt13' stroke-width='0.222' stroke='currentColor' d='M0,1.330 L1.265,0.411 L0.782,-1.067 L-0.782,-1.076 L-1.265,0.411 z'/>\n",
       "\t<use xlink:href='#gpPt13' id='gpPt14' fill='currentColor' stroke='none'/>\n",
       "\t<filter id='textbox' filterUnits='objectBoundingBox' x='0' y='0' height='1' width='1'>\n",
       "\t  <feFlood flood-color='#FFFFFF' flood-opacity='1' result='bgnd'/>\n",
       "\t  <feComposite in='SourceGraphic' in2='bgnd' operator='atop'/>\n",
       "\t</filter>\n",
       "\t<filter id='greybox' filterUnits='objectBoundingBox' x='0' y='0' height='1' width='1'>\n",
       "\t  <feFlood flood-color='lightgrey' flood-opacity='1' result='grey'/>\n",
       "\t  <feComposite in='SourceGraphic' in2='grey' operator='atop'/>\n",
       "\t</filter>\n",
       "</defs>\n",
       "<g fill=\"none\" color=\"#FFFFFF\" stroke=\"currentColor\" stroke-width=\"1.00\" stroke-linecap=\"butt\" stroke-linejoin=\"miter\">\n",
       "</g>\n",
       "<g fill=\"none\" color=\"black\" stroke=\"currentColor\" stroke-width=\"1.00\" stroke-linecap=\"butt\" stroke-linejoin=\"miter\">\n",
       "\t<path stroke='black'  d='M97.4,536.5 L106.4,536.5 M841.1,536.5 L832.1,536.5  '/>\t<g transform=\"translate(89.1,541.0)\" stroke=\"none\" fill=\"black\" font-family=\"Arial\" font-size=\"12.00\"  text-anchor=\"end\">\n",
       "\t\t<text><tspan font-family=\"Arial\" >-1x10</tspan><tspan font-family=\"Arial\"  font-size=\"9.6\" dy=\"-6.00px\">-6</tspan><tspan font-size=\"12.0\" dy=\"6.00\"></tspan></text>\n",
       "\t</g>\n",
       "</g>\n",
       "<g fill=\"none\" color=\"black\" stroke=\"currentColor\" stroke-width=\"1.00\" stroke-linecap=\"butt\" stroke-linejoin=\"miter\">\n",
       "\t<path stroke='black'  d='M97.4,487.1 L106.4,487.1 M841.1,487.1 L832.1,487.1  '/>\t<g transform=\"translate(89.1,491.6)\" stroke=\"none\" fill=\"black\" font-family=\"Arial\" font-size=\"12.00\"  text-anchor=\"end\">\n",
       "\t\t<text><tspan font-family=\"Arial\" > 0</tspan></text>\n",
       "\t</g>\n",
       "</g>\n",
       "<g fill=\"none\" color=\"black\" stroke=\"currentColor\" stroke-width=\"1.00\" stroke-linecap=\"butt\" stroke-linejoin=\"miter\">\n",
       "\t<path stroke='black'  d='M97.4,437.6 L106.4,437.6 M841.1,437.6 L832.1,437.6  '/>\t<g transform=\"translate(89.1,442.1)\" stroke=\"none\" fill=\"black\" font-family=\"Arial\" font-size=\"12.00\"  text-anchor=\"end\">\n",
       "\t\t<text><tspan font-family=\"Arial\" > 1x10</tspan><tspan font-family=\"Arial\"  font-size=\"9.6\" dy=\"-6.00px\">-6</tspan><tspan font-size=\"12.0\" dy=\"6.00\"></tspan></text>\n",
       "\t</g>\n",
       "</g>\n",
       "<g fill=\"none\" color=\"black\" stroke=\"currentColor\" stroke-width=\"1.00\" stroke-linecap=\"butt\" stroke-linejoin=\"miter\">\n",
       "\t<path stroke='black'  d='M97.4,388.2 L106.4,388.2 M841.1,388.2 L832.1,388.2  '/>\t<g transform=\"translate(89.1,392.7)\" stroke=\"none\" fill=\"black\" font-family=\"Arial\" font-size=\"12.00\"  text-anchor=\"end\">\n",
       "\t\t<text><tspan font-family=\"Arial\" > 2x10</tspan><tspan font-family=\"Arial\"  font-size=\"9.6\" dy=\"-6.00px\">-6</tspan><tspan font-size=\"12.0\" dy=\"6.00\"></tspan></text>\n",
       "\t</g>\n",
       "</g>\n",
       "<g fill=\"none\" color=\"black\" stroke=\"currentColor\" stroke-width=\"1.00\" stroke-linecap=\"butt\" stroke-linejoin=\"miter\">\n",
       "\t<path stroke='black'  d='M97.4,338.7 L106.4,338.7 M841.1,338.7 L832.1,338.7  '/>\t<g transform=\"translate(89.1,343.2)\" stroke=\"none\" fill=\"black\" font-family=\"Arial\" font-size=\"12.00\"  text-anchor=\"end\">\n",
       "\t\t<text><tspan font-family=\"Arial\" > 3x10</tspan><tspan font-family=\"Arial\"  font-size=\"9.6\" dy=\"-6.00px\">-6</tspan><tspan font-size=\"12.0\" dy=\"6.00\"></tspan></text>\n",
       "\t</g>\n",
       "</g>\n",
       "<g fill=\"none\" color=\"black\" stroke=\"currentColor\" stroke-width=\"1.00\" stroke-linecap=\"butt\" stroke-linejoin=\"miter\">\n",
       "\t<path stroke='black'  d='M97.4,289.3 L106.4,289.3 M841.1,289.3 L832.1,289.3  '/>\t<g transform=\"translate(89.1,293.8)\" stroke=\"none\" fill=\"black\" font-family=\"Arial\" font-size=\"12.00\"  text-anchor=\"end\">\n",
       "\t\t<text><tspan font-family=\"Arial\" > 4x10</tspan><tspan font-family=\"Arial\"  font-size=\"9.6\" dy=\"-6.00px\">-6</tspan><tspan font-size=\"12.0\" dy=\"6.00\"></tspan></text>\n",
       "\t</g>\n",
       "</g>\n",
       "<g fill=\"none\" color=\"black\" stroke=\"currentColor\" stroke-width=\"1.00\" stroke-linecap=\"butt\" stroke-linejoin=\"miter\">\n",
       "\t<path stroke='black'  d='M97.4,239.9 L106.4,239.9 M841.1,239.9 L832.1,239.9  '/>\t<g transform=\"translate(89.1,244.4)\" stroke=\"none\" fill=\"black\" font-family=\"Arial\" font-size=\"12.00\"  text-anchor=\"end\">\n",
       "\t\t<text><tspan font-family=\"Arial\" > 5x10</tspan><tspan font-family=\"Arial\"  font-size=\"9.6\" dy=\"-6.00px\">-6</tspan><tspan font-size=\"12.0\" dy=\"6.00\"></tspan></text>\n",
       "\t</g>\n",
       "</g>\n",
       "<g fill=\"none\" color=\"black\" stroke=\"currentColor\" stroke-width=\"1.00\" stroke-linecap=\"butt\" stroke-linejoin=\"miter\">\n",
       "\t<path stroke='black'  d='M97.4,190.4 L106.4,190.4 M841.1,190.4 L832.1,190.4  '/>\t<g transform=\"translate(89.1,194.9)\" stroke=\"none\" fill=\"black\" font-family=\"Arial\" font-size=\"12.00\"  text-anchor=\"end\">\n",
       "\t\t<text><tspan font-family=\"Arial\" > 6x10</tspan><tspan font-family=\"Arial\"  font-size=\"9.6\" dy=\"-6.00px\">-6</tspan><tspan font-size=\"12.0\" dy=\"6.00\"></tspan></text>\n",
       "\t</g>\n",
       "</g>\n",
       "<g fill=\"none\" color=\"black\" stroke=\"currentColor\" stroke-width=\"1.00\" stroke-linecap=\"butt\" stroke-linejoin=\"miter\">\n",
       "\t<path stroke='black'  d='M97.4,141.0 L106.4,141.0 M841.1,141.0 L832.1,141.0  '/>\t<g transform=\"translate(89.1,145.5)\" stroke=\"none\" fill=\"black\" font-family=\"Arial\" font-size=\"12.00\"  text-anchor=\"end\">\n",
       "\t\t<text><tspan font-family=\"Arial\" > 7x10</tspan><tspan font-family=\"Arial\"  font-size=\"9.6\" dy=\"-6.00px\">-6</tspan><tspan font-size=\"12.0\" dy=\"6.00\"></tspan></text>\n",
       "\t</g>\n",
       "</g>\n",
       "<g fill=\"none\" color=\"black\" stroke=\"currentColor\" stroke-width=\"1.00\" stroke-linecap=\"butt\" stroke-linejoin=\"miter\">\n",
       "\t<path stroke='black'  d='M97.4,91.5 L106.4,91.5 M841.1,91.5 L832.1,91.5  '/>\t<g transform=\"translate(89.1,96.0)\" stroke=\"none\" fill=\"black\" font-family=\"Arial\" font-size=\"12.00\"  text-anchor=\"end\">\n",
       "\t\t<text><tspan font-family=\"Arial\" > 8x10</tspan><tspan font-family=\"Arial\"  font-size=\"9.6\" dy=\"-6.00px\">-6</tspan><tspan font-size=\"12.0\" dy=\"6.00\"></tspan></text>\n",
       "\t</g>\n",
       "</g>\n",
       "<g fill=\"none\" color=\"black\" stroke=\"currentColor\" stroke-width=\"1.00\" stroke-linecap=\"butt\" stroke-linejoin=\"miter\">\n",
       "\t<path stroke='black'  d='M97.4,42.1 L106.4,42.1 M841.1,42.1 L832.1,42.1  '/>\t<g transform=\"translate(89.1,46.6)\" stroke=\"none\" fill=\"black\" font-family=\"Arial\" font-size=\"12.00\"  text-anchor=\"end\">\n",
       "\t\t<text><tspan font-family=\"Arial\" > 9x10</tspan><tspan font-family=\"Arial\"  font-size=\"9.6\" dy=\"-6.00px\">-6</tspan><tspan font-size=\"12.0\" dy=\"6.00\"></tspan></text>\n",
       "\t</g>\n",
       "</g>\n",
       "<g fill=\"none\" color=\"black\" stroke=\"currentColor\" stroke-width=\"1.00\" stroke-linecap=\"butt\" stroke-linejoin=\"miter\">\n",
       "\t<path stroke='black'  d='M97.4,536.5 L97.4,527.5 M97.4,42.1 L97.4,51.1  '/>\t<g transform=\"translate(97.4,559.0)\" stroke=\"none\" fill=\"black\" font-family=\"Arial\" font-size=\"12.00\"  text-anchor=\"middle\">\n",
       "\t\t<text><tspan font-family=\"Arial\" > 1.8</tspan></text>\n",
       "\t</g>\n",
       "</g>\n",
       "<g fill=\"none\" color=\"black\" stroke=\"currentColor\" stroke-width=\"1.00\" stroke-linecap=\"butt\" stroke-linejoin=\"miter\">\n",
       "\t<path stroke='black'  d='M203.6,536.5 L203.6,527.5 M203.6,42.1 L203.6,51.1  '/>\t<g transform=\"translate(203.6,559.0)\" stroke=\"none\" fill=\"black\" font-family=\"Arial\" font-size=\"12.00\"  text-anchor=\"middle\">\n",
       "\t\t<text><tspan font-family=\"Arial\" > 2</tspan></text>\n",
       "\t</g>\n",
       "</g>\n",
       "<g fill=\"none\" color=\"black\" stroke=\"currentColor\" stroke-width=\"1.00\" stroke-linecap=\"butt\" stroke-linejoin=\"miter\">\n",
       "\t<path stroke='black'  d='M309.9,536.5 L309.9,527.5 M309.9,42.1 L309.9,51.1  '/>\t<g transform=\"translate(309.9,559.0)\" stroke=\"none\" fill=\"black\" font-family=\"Arial\" font-size=\"12.00\"  text-anchor=\"middle\">\n",
       "\t\t<text><tspan font-family=\"Arial\" > 2.2</tspan></text>\n",
       "\t</g>\n",
       "</g>\n",
       "<g fill=\"none\" color=\"black\" stroke=\"currentColor\" stroke-width=\"1.00\" stroke-linecap=\"butt\" stroke-linejoin=\"miter\">\n",
       "\t<path stroke='black'  d='M416.1,536.5 L416.1,527.5 M416.1,42.1 L416.1,51.1  '/>\t<g transform=\"translate(416.1,559.0)\" stroke=\"none\" fill=\"black\" font-family=\"Arial\" font-size=\"12.00\"  text-anchor=\"middle\">\n",
       "\t\t<text><tspan font-family=\"Arial\" > 2.4</tspan></text>\n",
       "\t</g>\n",
       "</g>\n",
       "<g fill=\"none\" color=\"black\" stroke=\"currentColor\" stroke-width=\"1.00\" stroke-linecap=\"butt\" stroke-linejoin=\"miter\">\n",
       "\t<path stroke='black'  d='M522.4,536.5 L522.4,527.5 M522.4,42.1 L522.4,51.1  '/>\t<g transform=\"translate(522.4,559.0)\" stroke=\"none\" fill=\"black\" font-family=\"Arial\" font-size=\"12.00\"  text-anchor=\"middle\">\n",
       "\t\t<text><tspan font-family=\"Arial\" > 2.6</tspan></text>\n",
       "\t</g>\n",
       "</g>\n",
       "<g fill=\"none\" color=\"black\" stroke=\"currentColor\" stroke-width=\"1.00\" stroke-linecap=\"butt\" stroke-linejoin=\"miter\">\n",
       "\t<path stroke='black'  d='M628.6,536.5 L628.6,527.5 M628.6,42.1 L628.6,51.1  '/>\t<g transform=\"translate(628.6,559.0)\" stroke=\"none\" fill=\"black\" font-family=\"Arial\" font-size=\"12.00\"  text-anchor=\"middle\">\n",
       "\t\t<text><tspan font-family=\"Arial\" > 2.8</tspan></text>\n",
       "\t</g>\n",
       "</g>\n",
       "<g fill=\"none\" color=\"black\" stroke=\"currentColor\" stroke-width=\"1.00\" stroke-linecap=\"butt\" stroke-linejoin=\"miter\">\n",
       "\t<path stroke='black'  d='M734.9,536.5 L734.9,527.5 M734.9,42.1 L734.9,51.1  '/>\t<g transform=\"translate(734.9,559.0)\" stroke=\"none\" fill=\"black\" font-family=\"Arial\" font-size=\"12.00\"  text-anchor=\"middle\">\n",
       "\t\t<text><tspan font-family=\"Arial\" > 3</tspan></text>\n",
       "\t</g>\n",
       "</g>\n",
       "<g fill=\"none\" color=\"black\" stroke=\"currentColor\" stroke-width=\"1.00\" stroke-linecap=\"butt\" stroke-linejoin=\"miter\">\n",
       "\t<path stroke='black'  d='M841.1,536.5 L841.1,527.5 M841.1,42.1 L841.1,51.1  '/>\t<g transform=\"translate(841.1,559.0)\" stroke=\"none\" fill=\"black\" font-family=\"Arial\" font-size=\"12.00\"  text-anchor=\"middle\">\n",
       "\t\t<text><tspan font-family=\"Arial\" > 3.2</tspan></text>\n",
       "\t</g>\n",
       "</g>\n",
       "<g fill=\"none\" color=\"black\" stroke=\"currentColor\" stroke-width=\"1.00\" stroke-linecap=\"butt\" stroke-linejoin=\"miter\">\n",
       "\t<path stroke='black'  d='M841.1,536.5 L832.1,536.5  '/>\t<g transform=\"translate(849.4,541.0)\" stroke=\"none\" fill=\"black\" font-family=\"Arial\" font-size=\"12.00\"  text-anchor=\"start\">\n",
       "\t\t<text><tspan font-family=\"Arial\" > </tspan></text>\n",
       "\t</g>\n",
       "</g>\n",
       "<g fill=\"none\" color=\"black\" stroke=\"currentColor\" stroke-width=\"1.00\" stroke-linecap=\"butt\" stroke-linejoin=\"miter\">\n",
       "\t<path stroke='black'  d='M841.1,487.1 L832.1,487.1  '/>\t<g transform=\"translate(849.4,491.6)\" stroke=\"none\" fill=\"black\" font-family=\"Arial\" font-size=\"12.00\"  text-anchor=\"start\">\n",
       "\t\t<text><tspan font-family=\"Arial\" > </tspan></text>\n",
       "\t</g>\n",
       "</g>\n",
       "<g fill=\"none\" color=\"black\" stroke=\"currentColor\" stroke-width=\"1.00\" stroke-linecap=\"butt\" stroke-linejoin=\"miter\">\n",
       "\t<path stroke='black'  d='M841.1,437.6 L832.1,437.6  '/>\t<g transform=\"translate(849.4,442.1)\" stroke=\"none\" fill=\"black\" font-family=\"Arial\" font-size=\"12.00\"  text-anchor=\"start\">\n",
       "\t\t<text><tspan font-family=\"Arial\" > </tspan></text>\n",
       "\t</g>\n",
       "</g>\n",
       "<g fill=\"none\" color=\"black\" stroke=\"currentColor\" stroke-width=\"1.00\" stroke-linecap=\"butt\" stroke-linejoin=\"miter\">\n",
       "\t<path stroke='black'  d='M841.1,388.2 L832.1,388.2  '/>\t<g transform=\"translate(849.4,392.7)\" stroke=\"none\" fill=\"black\" font-family=\"Arial\" font-size=\"12.00\"  text-anchor=\"start\">\n",
       "\t\t<text><tspan font-family=\"Arial\" > </tspan></text>\n",
       "\t</g>\n",
       "</g>\n",
       "<g fill=\"none\" color=\"black\" stroke=\"currentColor\" stroke-width=\"1.00\" stroke-linecap=\"butt\" stroke-linejoin=\"miter\">\n",
       "\t<path stroke='black'  d='M841.1,338.7 L832.1,338.7  '/>\t<g transform=\"translate(849.4,343.2)\" stroke=\"none\" fill=\"black\" font-family=\"Arial\" font-size=\"12.00\"  text-anchor=\"start\">\n",
       "\t\t<text><tspan font-family=\"Arial\" > </tspan></text>\n",
       "\t</g>\n",
       "</g>\n",
       "<g fill=\"none\" color=\"black\" stroke=\"currentColor\" stroke-width=\"1.00\" stroke-linecap=\"butt\" stroke-linejoin=\"miter\">\n",
       "\t<path stroke='black'  d='M841.1,289.3 L832.1,289.3  '/>\t<g transform=\"translate(849.4,293.8)\" stroke=\"none\" fill=\"black\" font-family=\"Arial\" font-size=\"12.00\"  text-anchor=\"start\">\n",
       "\t\t<text><tspan font-family=\"Arial\" > </tspan></text>\n",
       "\t</g>\n",
       "</g>\n",
       "<g fill=\"none\" color=\"black\" stroke=\"currentColor\" stroke-width=\"1.00\" stroke-linecap=\"butt\" stroke-linejoin=\"miter\">\n",
       "\t<path stroke='black'  d='M841.1,239.9 L832.1,239.9  '/>\t<g transform=\"translate(849.4,244.4)\" stroke=\"none\" fill=\"black\" font-family=\"Arial\" font-size=\"12.00\"  text-anchor=\"start\">\n",
       "\t\t<text><tspan font-family=\"Arial\" > </tspan></text>\n",
       "\t</g>\n",
       "</g>\n",
       "<g fill=\"none\" color=\"black\" stroke=\"currentColor\" stroke-width=\"1.00\" stroke-linecap=\"butt\" stroke-linejoin=\"miter\">\n",
       "\t<path stroke='black'  d='M841.1,190.4 L832.1,190.4  '/>\t<g transform=\"translate(849.4,194.9)\" stroke=\"none\" fill=\"black\" font-family=\"Arial\" font-size=\"12.00\"  text-anchor=\"start\">\n",
       "\t\t<text><tspan font-family=\"Arial\" > </tspan></text>\n",
       "\t</g>\n",
       "</g>\n",
       "<g fill=\"none\" color=\"black\" stroke=\"currentColor\" stroke-width=\"1.00\" stroke-linecap=\"butt\" stroke-linejoin=\"miter\">\n",
       "\t<path stroke='black'  d='M841.1,141.0 L832.1,141.0  '/>\t<g transform=\"translate(849.4,145.5)\" stroke=\"none\" fill=\"black\" font-family=\"Arial\" font-size=\"12.00\"  text-anchor=\"start\">\n",
       "\t\t<text><tspan font-family=\"Arial\" > </tspan></text>\n",
       "\t</g>\n",
       "</g>\n",
       "<g fill=\"none\" color=\"black\" stroke=\"currentColor\" stroke-width=\"1.00\" stroke-linecap=\"butt\" stroke-linejoin=\"miter\">\n",
       "\t<path stroke='black'  d='M841.1,91.5 L832.1,91.5  '/>\t<g transform=\"translate(849.4,96.0)\" stroke=\"none\" fill=\"black\" font-family=\"Arial\" font-size=\"12.00\"  text-anchor=\"start\">\n",
       "\t\t<text><tspan font-family=\"Arial\" > </tspan></text>\n",
       "\t</g>\n",
       "</g>\n",
       "<g fill=\"none\" color=\"black\" stroke=\"currentColor\" stroke-width=\"1.00\" stroke-linecap=\"butt\" stroke-linejoin=\"miter\">\n",
       "\t<path stroke='black'  d='M841.1,42.1 L832.1,42.1  '/>\t<g transform=\"translate(849.4,46.6)\" stroke=\"none\" fill=\"black\" font-family=\"Arial\" font-size=\"12.00\"  text-anchor=\"start\">\n",
       "\t\t<text><tspan font-family=\"Arial\" > </tspan></text>\n",
       "\t</g>\n",
       "</g>\n",
       "<g fill=\"none\" color=\"black\" stroke=\"currentColor\" stroke-width=\"1.00\" stroke-linecap=\"butt\" stroke-linejoin=\"miter\">\n",
       "\t<path stroke='black'  d='M97.4,42.1 L97.4,51.1  '/>\t<g transform=\"translate(97.4,28.6)\" stroke=\"none\" fill=\"black\" font-family=\"Arial\" font-size=\"12.00\"  text-anchor=\"middle\">\n",
       "\t\t<text><tspan font-family=\"Arial\" > </tspan></text>\n",
       "\t</g>\n",
       "</g>\n",
       "<g fill=\"none\" color=\"black\" stroke=\"currentColor\" stroke-width=\"1.00\" stroke-linecap=\"butt\" stroke-linejoin=\"miter\">\n",
       "\t<path stroke='black'  d='M203.6,42.1 L203.6,51.1  '/>\t<g transform=\"translate(203.6,28.6)\" stroke=\"none\" fill=\"black\" font-family=\"Arial\" font-size=\"12.00\"  text-anchor=\"middle\">\n",
       "\t\t<text><tspan font-family=\"Arial\" > </tspan></text>\n",
       "\t</g>\n",
       "</g>\n",
       "<g fill=\"none\" color=\"black\" stroke=\"currentColor\" stroke-width=\"1.00\" stroke-linecap=\"butt\" stroke-linejoin=\"miter\">\n",
       "\t<path stroke='black'  d='M309.9,42.1 L309.9,51.1  '/>\t<g transform=\"translate(309.9,28.6)\" stroke=\"none\" fill=\"black\" font-family=\"Arial\" font-size=\"12.00\"  text-anchor=\"middle\">\n",
       "\t\t<text><tspan font-family=\"Arial\" > </tspan></text>\n",
       "\t</g>\n",
       "</g>\n",
       "<g fill=\"none\" color=\"black\" stroke=\"currentColor\" stroke-width=\"1.00\" stroke-linecap=\"butt\" stroke-linejoin=\"miter\">\n",
       "\t<path stroke='black'  d='M416.1,42.1 L416.1,51.1  '/>\t<g transform=\"translate(416.1,28.6)\" stroke=\"none\" fill=\"black\" font-family=\"Arial\" font-size=\"12.00\"  text-anchor=\"middle\">\n",
       "\t\t<text><tspan font-family=\"Arial\" > </tspan></text>\n",
       "\t</g>\n",
       "</g>\n",
       "<g fill=\"none\" color=\"black\" stroke=\"currentColor\" stroke-width=\"1.00\" stroke-linecap=\"butt\" stroke-linejoin=\"miter\">\n",
       "\t<path stroke='black'  d='M522.4,42.1 L522.4,51.1  '/>\t<g transform=\"translate(522.4,28.6)\" stroke=\"none\" fill=\"black\" font-family=\"Arial\" font-size=\"12.00\"  text-anchor=\"middle\">\n",
       "\t\t<text><tspan font-family=\"Arial\" > </tspan></text>\n",
       "\t</g>\n",
       "</g>\n",
       "<g fill=\"none\" color=\"black\" stroke=\"currentColor\" stroke-width=\"1.00\" stroke-linecap=\"butt\" stroke-linejoin=\"miter\">\n",
       "\t<path stroke='black'  d='M628.6,42.1 L628.6,51.1  '/>\t<g transform=\"translate(628.6,28.6)\" stroke=\"none\" fill=\"black\" font-family=\"Arial\" font-size=\"12.00\"  text-anchor=\"middle\">\n",
       "\t\t<text><tspan font-family=\"Arial\" > </tspan></text>\n",
       "\t</g>\n",
       "</g>\n",
       "<g fill=\"none\" color=\"black\" stroke=\"currentColor\" stroke-width=\"1.00\" stroke-linecap=\"butt\" stroke-linejoin=\"miter\">\n",
       "\t<path stroke='black'  d='M734.9,42.1 L734.9,51.1  '/>\t<g transform=\"translate(734.9,28.6)\" stroke=\"none\" fill=\"black\" font-family=\"Arial\" font-size=\"12.00\"  text-anchor=\"middle\">\n",
       "\t\t<text><tspan font-family=\"Arial\" > </tspan></text>\n",
       "\t</g>\n",
       "</g>\n",
       "<g fill=\"none\" color=\"black\" stroke=\"currentColor\" stroke-width=\"1.00\" stroke-linecap=\"butt\" stroke-linejoin=\"miter\">\n",
       "\t<path stroke='black'  d='M841.1,42.1 L841.1,51.1  '/>\t<g transform=\"translate(841.1,28.6)\" stroke=\"none\" fill=\"black\" font-family=\"Arial\" font-size=\"12.00\"  text-anchor=\"middle\">\n",
       "\t\t<text><tspan font-family=\"Arial\" > </tspan></text>\n",
       "\t</g>\n",
       "</g>\n",
       "<g fill=\"none\" color=\"black\" stroke=\"currentColor\" stroke-width=\"1.00\" stroke-linecap=\"butt\" stroke-linejoin=\"miter\">\n",
       "</g>\n",
       "<g fill=\"none\" color=\"black\" stroke=\"currentColor\" stroke-width=\"1.00\" stroke-linecap=\"butt\" stroke-linejoin=\"miter\">\n",
       "\t<path stroke='black'  d='M97.4,42.1 L97.4,536.5 L841.1,536.5 L841.1,42.1 L97.4,42.1 Z  '/></g>\n",
       "<g fill=\"none\" color=\"black\" stroke=\"currentColor\" stroke-width=\"1.00\" stroke-linecap=\"butt\" stroke-linejoin=\"miter\">\n",
       "\t<g transform=\"translate(26.5,289.3) rotate(270)\" stroke=\"none\" fill=\"black\" font-family=\"Arial\" font-size=\"12.00\"  text-anchor=\"middle\">\n",
       "\t\t<text><tspan font-family=\"Arial\" >p'</tspan></text>\n",
       "\t</g>\n",
       "</g>\n",
       "<g fill=\"none\" color=\"black\" stroke=\"currentColor\" stroke-width=\"1.00\" stroke-linecap=\"butt\" stroke-linejoin=\"miter\">\n",
       "\t<g transform=\"translate(469.2,586.0)\" stroke=\"none\" fill=\"black\" font-family=\"Arial\" font-size=\"12.00\"  text-anchor=\"middle\">\n",
       "\t\t<text><tspan font-family=\"Arial\" >x</tspan></text>\n",
       "\t</g>\n",
       "</g>\n",
       "<g fill=\"none\" color=\"black\" stroke=\"currentColor\" stroke-width=\"1.00\" stroke-linecap=\"butt\" stroke-linejoin=\"miter\">\n",
       "</g>\n",
       "\t<g id=\"gnuplot_plot_1a\" ><title>Ray</title>\n",
       "<g fill=\"none\" color=\"black\" stroke=\"currentColor\" stroke-width=\"1.00\" stroke-linecap=\"butt\" stroke-linejoin=\"miter\">\n",
       "\t<g transform=\"translate(799.5,69.1)\" stroke=\"none\" fill=\"black\" font-family=\"Arial\" font-size=\"16.00\"  text-anchor=\"start\">\n",
       "\t\t<text><tspan font-family=\"Arial\" >Ray</tspan></text>\n",
       "\t</g>\n",
       "</g>\n",
       "<g fill=\"none\" color=\"black\" stroke=\"currentColor\" stroke-width=\"1.00\" stroke-linecap=\"butt\" stroke-linejoin=\"miter\">\n",
       "\t<path stroke='rgb(255,   0,   0)'  d='M735.0,63.1 L788.4,63.1 M187.0,60.6 L192.8,90.6 L198.6,129.0 L204.4,175.9 L210.2,231.5 L216.0,298.9\n",
       "\t\tL221.8,376.2 L227.6,445.0 L233.4,485.5 L239.2,496.6 L245.0,495.1 L250.8,493.9 L256.6,494.2 L262.4,494.5\n",
       "\t\tL268.2,494.4 L274.0,494.4 L279.8,494.4 L285.6,494.4 L291.4,494.4 L297.2,494.4 L303.0,494.4 L308.8,494.4\n",
       "\t\tL314.6,494.4 L320.4,494.4 L326.2,494.4 L332.0,494.4 L337.8,494.4 L343.6,494.4 L349.4,494.4 L355.2,494.4\n",
       "\t\tL361.0,494.4 L366.8,494.4 L372.6,494.4 L378.4,494.4 L384.2,494.4 L390.0,494.4 L395.8,494.4 L401.6,494.4\n",
       "\t\tL407.4,494.4 L413.2,494.4 L419.0,494.4 L424.8,494.4 L430.6,494.4 L436.4,494.4 L442.2,494.4 L448.0,494.4\n",
       "\t\tL453.8,494.4 L459.6,494.4 L465.4,494.4 L471.2,494.4 L477.0,494.4 L482.8,494.4 L488.6,494.4 L494.4,494.4\n",
       "\t\tL500.2,494.4 L506.0,494.4 L511.8,494.4 L517.6,494.4 L523.4,494.4 L529.2,494.4 L535.0,494.4 L540.8,494.4\n",
       "\t\tL546.6,494.4 L552.4,494.4 L558.2,494.4 L564.0,494.4 L569.8,494.4 L575.6,494.4 L581.4,494.4 L587.2,494.4\n",
       "\t\tL593.0,494.4 L598.8,494.4 L604.6,494.4 L610.4,494.4 L616.2,494.4 L622.0,494.4 L627.8,494.4 L633.6,494.4\n",
       "\t\tL639.4,494.4 L645.2,494.4 L651.0,494.4 L656.8,494.4 L662.6,494.4 L668.4,494.4 L674.2,494.4 L680.0,494.4\n",
       "\t\tL685.8,494.4 L691.6,494.4 L697.4,494.4 L703.2,494.4 L709.0,494.4 L714.8,494.4 L720.6,494.4 L726.4,494.4\n",
       "\t\tL732.2,494.4 L738.0,494.4 L743.8,494.4 L749.6,494.4 L755.4,494.4 L761.2,494.4  '/></g>\n",
       "\t</g>\n",
       "<g fill=\"none\" color=\"#FFFFFF\" stroke=\"rgb(255,   0,   0)\" stroke-width=\"2.00\" stroke-linecap=\"butt\" stroke-linejoin=\"miter\">\n",
       "</g>\n",
       "<g fill=\"none\" color=\"black\" stroke=\"currentColor\" stroke-width=\"2.00\" stroke-linecap=\"butt\" stroke-linejoin=\"miter\">\n",
       "</g>\n",
       "<g fill=\"none\" color=\"black\" stroke=\"black\" stroke-width=\"1.00\" stroke-linecap=\"butt\" stroke-linejoin=\"miter\">\n",
       "</g>\n",
       "<g fill=\"none\" color=\"black\" stroke=\"currentColor\" stroke-width=\"1.00\" stroke-linecap=\"butt\" stroke-linejoin=\"miter\">\n",
       "\t<path stroke='black'  d='M97.4,42.1 L97.4,536.5 L841.1,536.5 L841.1,42.1 L97.4,42.1 Z  '/></g>\n",
       "<g fill=\"none\" color=\"black\" stroke=\"currentColor\" stroke-width=\"1.00\" stroke-linecap=\"butt\" stroke-linejoin=\"miter\">\n",
       "</g>\n",
       "</g>\n",
       "</svg>\n",
       "\n"
      ]
     },
     "metadata": {},
     "output_type": "display_data"
    }
   ],
   "source": [
    "using BoSSS.Solution.CompressibleFlowCommon;\n",
    "double densityL=1, pressureL=1,MachL=1.5,gamma=1.4;\n",
    "double cL = Math.Sqrt(gamma * pressureL / densityL);\n",
    "double velocityL = MachL * cL;\n",
    "(double densityR, double velocityR, double pressureR, double cR, double MachR)\n",
    "    = CompressibleHelperFunc.ComputeNormalShockWaveRelations(densityL, velocityL, pressureL, MachL, gamma);\n",
    "(double[] xVals, double[]yVals) GetPlotAlongRay(double xMax, int nRef,string field,ISessionInfo si, double xa, double xs){\n",
    "//double shockPosition=0.5;\n",
    "var inc_speed= xa<xs? (velocityL + cL): (velocityR - cR);\n",
    "var tstar= (xs-xa)/inc_speed;\n",
    "Func<double,double> X_s = t => (velocityR + cR)*t+ (xs-tstar*(velocityR + cR));\n",
    "double tEnd= (xMax - (xs-tstar*(velocityR + cR)))/(velocityR + cR);\n",
    "var eps=5e-2;\n",
    "var p1= new double[] {X_s(tstar+eps),tstar+eps};\n",
    "var p2=new double[] {xMax,tEnd};\n",
    "\n",
    "//timesteps to compare\n",
    "var tiEnd=si.Timesteps.Last();\n",
    "\n",
    "// # use p_per from BoSSS \n",
    "var pEnd =tiEnd.GetField(field);\n",
    "double[] yVals=pEnd.EvaluateAlongLine(p1,p2,nRef);\n",
    "double[] xVals= GenericBlas.Linspace(tstar,tEnd,nRef);\n",
    "return(xVals,yVals);\n",
    "}\n",
    "\n",
    "Plot2Ddata[,] multiplotsPressure = new Plot2Ddata[1,1];\n",
    "foreach(var si in ses){\n",
    "    //catch tmax value\n",
    "    string pattern = @\"tMax(\\d+(\\.\\d+)?)\";\n",
    "    Match match = Regex.Match(si.Name, pattern);\n",
    "    double tMax = 1.5;\n",
    "    try{\n",
    "        tMax = double.Parse(match.Groups[1].Value)-eps;\n",
    "    }catch{\n",
    "    }\n",
    "\n",
    "    // catch shock position\n",
    "    pattern = @\"sP(\\d+(\\.\\d+)?)\";\n",
    "    Match match2 = Regex.Match(si.Name, pattern);\n",
    "    double xs = 1.5;\n",
    "    try{\n",
    "        xs = double.Parse(match2.Groups[1].Value);\n",
    "    }catch{\n",
    "    }\n",
    "\n",
    "    // catch wave positions\n",
    "    pattern = @\"wP(\\d+(\\.\\d+)?)\";\n",
    "    match = Regex.Match(si.Name, pattern);\n",
    "    double wP = 0.0;\n",
    "    try{\n",
    "        wP = double.Parse(match.Groups[1].Value);\n",
    "    }catch{\n",
    "    }\n",
    "\n",
    "    // catch wave length and convert to position of amplitude\n",
    "    pattern = @\"wL(\\d+(\\.\\d+)?)\";\n",
    "    match = Regex.Match(si.Name, pattern);\n",
    "    double xa = 1.5;\n",
    "    try{\n",
    "        if(si.Name.Contains(\"1sinus\")){\n",
    "            xa = wP+double.Parse(match.Groups[1].Value)/4;\n",
    "        }else{\n",
    "            xa = wP+double.Parse(match.Groups[1].Value)/2;\n",
    "        }\n",
    "        \n",
    "    }catch{\n",
    "    }\n",
    "\n",
    "\n",
    "\n",
    "\n",
    "    Console.WriteLine($\"doing:{si.Name}; tMax:{tMax}\");\n",
    "    Console.WriteLine($\"Catched: wP{wP}, xa{xa},xs{xs}\");\n",
    "    string field=\"p_per\";\n",
    "    string csvFileName = si.Name + \"_p_per_Ray.csv\";\n",
    "    using (StreamWriter writer = new StreamWriter(csvFileName))\n",
    "        {\n",
    "            var plot= new Plot2Ddata();\n",
    "            plot.Xlabel=\"x\";\n",
    "            plot.Ylabel=\"p'\";\n",
    "            //Console.WriteLine(t);\n",
    "            (double[] xVals,double[] yVals)=GetPlotAlongRay(xMax,xRef,field, si,xa,xs);\n",
    "            Console.WriteLine($\"AverageAlongRay: {yVals.Average()}\");\n",
    "            plot.AddDataGroup(\"Ray\",xVals,yVals,fmt);\n",
    "            multiplotsPressure[0,0]=plot;\n",
    "            // Write header row\n",
    "            writer.WriteLine($\"x/t,{string.Join(\",\", xVals)}\");\n",
    "            \n",
    "            // Write data row\n",
    "            writer.WriteLine($\"Ray,{string.Join(\",\", yVals)}\");\n",
    "                    \n",
    "        }\n",
    "};\n",
    "\n",
    "multiplotsPressure.ToGnuplot().PlotSVG(xRes:900,yRes:600)\n",
    "//    plot => { plot.YrangeMin = -1.5 * 1e-5; plot.YrangeMax = 1.5 * 1e-5; });A\n"
   ]
  },
  {
   "cell_type": "markdown",
   "metadata": {},
   "source": [
    "## Density Pertubations"
   ]
  },
  {
   "cell_type": "code",
   "execution_count": 12,
   "metadata": {
    "dotnet_interactive": {
     "language": "csharp"
    },
    "polyglot_notebook": {
     "kernelName": "csharp"
    }
   },
   "outputs": [
    {
     "name": "stdout",
     "output_type": "stream",
     "text": [
      "doing:AW_p3_xCells61_tCells61_tMax4_1sinus_Mach1.5_sP1.5_wP0.3_ampneg1E-05_amppos0_wLTrue_wSTrue_wL0.8; tMax:3.999999\n",
      "doing:AW_p3_xCells61_tCells61_tMax4_bump_Mach1.5_sP1.5_wP0.3_ampneg1E-05_amppos0_wLTrue_wSTrue_wL0.8; tMax:3.999999\n",
      "doing:AW_p3_xCells61_tCells61_tMax1.5_bump_Mach1.5_sP1.5_wP0_ampneg0_amppos1E-05_wLTrue_wSTrue_wL0.8; tMax:0.999999\n",
      "doing:AW_p3_xCells61_tCells61_tMax4_1sinus_Mach1.5_sP0.5_wP0.9_ampneg1E-05_amppos0_wLTrue_wSTrue_wL0.8; tMax:3.999999\n",
      "doing:AW_p3_xCells61_tCells61_tMax4_bump_Mach1.5_sP0.5_wP0.9_ampneg1E-05_amppos0_wLTrue_wSTrue_wL0.8; tMax:3.999999\n",
      "doing:AW_p3_xCells61_tCells61_tMax1.5_1sinus_Mach1.5_sP1.5_wP0_ampneg0_amppos1E-05_wLTrue_wSTrue_wL0.8; tMax:0.999999\n",
      "doing:AW_p3_xCells91_tCells91_tMax4_1sinus_Mach1.5_sP1.5_wP0.3_ampneg1E-05_amppos0_wLTrue_wSTrue_wL0.8; tMax:3.999999\n",
      "doing:AW_p3_xCells91_tCells91_tMax4_bump_Mach1.5_sP1.5_wP0.3_ampneg1E-05_amppos0_wLTrue_wSTrue_wL0.8; tMax:3.999999\n",
      "doing:AW_p3_xCells91_tCells91_tMax1.5_1sinus_Mach1.5_sP1.5_wP0_ampneg0_amppos1E-05_wLTrue_wSTrue_wL0.8; tMax:0.999999\n",
      "doing:AW_p3_xCells91_tCells91_tMax1.5_bump_Mach1.5_sP1.5_wP0_ampneg0_amppos1E-05_wLTrue_wSTrue_wL0.8; tMax:0.999999\n",
      "doing:AW_p3_xCells91_tCells91_tMax4_1sinus_Mach1.5_sP0.5_wP0.9_ampneg1E-05_amppos0_wLTrue_wSTrue_wL0.8; tMax:3.999999\n",
      "doing:AW_p3_xCells91_tCells91_tMax4_bump_Mach1.5_sP0.5_wP0.9_ampneg1E-05_amppos0_wLTrue_wSTrue_wL0.8; tMax:3.999999\n"
     ]
    }
   ],
   "source": [
    "foreach(var si in ses){\n",
    "        string pattern = @\"tMax(\\d+)\";\n",
    "    Match match = Regex.Match(si.Name, pattern);\n",
    "    double tMax = 1.5;\n",
    "    try{\n",
    "        tMax = double.Parse(match.Groups[1].Value)-eps;\n",
    "    }catch{\n",
    "    }\n",
    "    Console.WriteLine($\"doing:{si.Name}; tMax:{tMax}\");\n",
    "    string field=\"rho_per\";\n",
    "    // Format\n",
    "    var fmt= new PlotFormat();\n",
    "    fmt.WithPointSize(0.0);\n",
    "    fmt.LineColor=LineColors.Red;\n",
    "\n",
    "    Plot2Ddata[,] multiplotsDensity = new Plot2Ddata[(tRef+1)/nRows,nRows];\n",
    "    string csvFileName = si.Name + \"_rho_per.csv\";\n",
    "    using (StreamWriter writer = new StreamWriter(csvFileName)){\n",
    "        for(int Ti=0;Ti< tRef;Ti++){\n",
    "            var plot= new Plot2Ddata();\n",
    "            plot.Xlabel=\"x\";\n",
    "            plot.Ylabel=\"rho'\";\n",
    "            double t=((double) tRef-1-Ti)/((double) tRef-1)*tMin+((double) Ti)/(tRef-1)*tMax;\n",
    "            //Console.WriteLine(t);\n",
    "            (double[] xVals,double[] yVals)=GetPlot(xMin,xMax,t,xRef,field, si);\n",
    "            plot.AddDataGroup(\"t=\"+Math.Round(t,2),xVals,yVals,fmt);\n",
    "            multiplotsDensity[Ti/nRows,Ti %nRows]=plot;\n",
    "            if (Ti == 0)\n",
    "            {\n",
    "                // Write header row\n",
    "                writer.WriteLine($\"x/t,{string.Join(\",\", xVals)}\");\n",
    "            }\n",
    "            // Write data row\n",
    "            writer.WriteLine($\"{Math.Round(t, 2)},{string.Join(\",\", yVals)}\");\n",
    "                    \n",
    "        }\n",
    "        \n",
    "    };                                              \n",
    "}"
   ]
  },
  {
   "cell_type": "code",
   "execution_count": 13,
   "metadata": {
    "dotnet_interactive": {
     "language": "csharp"
    },
    "polyglot_notebook": {
     "kernelName": "csharp"
    }
   },
   "outputs": [],
   "source": [
    "// Array.ForEach(multiplotsDensity.Cast<Plot2Ddata>().ToArray(), \n",
    "//     plot => { plot.YrangeMin = -1 * 1e-5; plot.YrangeMax = 1.5 * 1e-5; });\n",
    "// // multiplotsDensity[1,1].YrangeMax = 5 * 1e-7; multiplotsDensity[1,1].YrangeMin = -6 * 1e-7;\n",
    "// //multiplotsDensity[2,0].YrangeMax = 5 * 1e-7; multiplotsDensity[2,0].YrangeMin = -6 * 1e-7;\n",
    "// //multiplotsDensity[2,1].YrangeMax = 5 * 1e-7; multiplotsDensity[2,1].YrangeMin = -6 * 1e-7;\n",
    "// multiplotsDensity.ToGnuplot().PlotSVG(xRes:1000,yRes:600)"
   ]
  },
  {
   "cell_type": "code",
   "execution_count": 14,
   "metadata": {
    "dotnet_interactive": {
     "language": "csharp"
    },
    "polyglot_notebook": {
     "kernelName": "csharp"
    }
   },
   "outputs": [],
   "source": []
  },
  {
   "cell_type": "code",
   "execution_count": 15,
   "metadata": {
    "dotnet_interactive": {
     "language": "csharp"
    },
    "polyglot_notebook": {
     "kernelName": "csharp"
    }
   },
   "outputs": [],
   "source": [
    "(double[] xVals, double[]yVals) GetPlotLevelSet(double tMin,double tMax, int nRef,ISessionInfo si){\n",
    "//double shockPosition=0.5;\n",
    "var p1= new double[] {0.0,tMin};\n",
    "var p2=new double[] {0.0,tMax};\n",
    "\n",
    "//timesteps to compare\n",
    "var tiEnd=si.Timesteps.Last();\n",
    "// # use p_per from BoSSS \n",
    "var pEnd =tiEnd.GetField(\"LevelSet\");\n",
    "double[] yVals=pEnd.EvaluateAlongLine(p1,p2,nRef);\n",
    "double[] xVals= GenericBlas.Linspace(xMin,xMax,nRef);\n",
    "return(xVals,yVals);\n",
    "}"
   ]
  },
  {
   "cell_type": "code",
   "execution_count": 16,
   "metadata": {
    "dotnet_interactive": {
     "language": "csharp"
    },
    "polyglot_notebook": {
     "kernelName": "csharp"
    }
   },
   "outputs": [
    {
     "ename": "Error",
     "evalue": "(10,58): error CS0103: The name 'tMax' does not exist in the current context",
     "output_type": "error",
     "traceback": [
      "(10,58): error CS0103: The name 'tMax' does not exist in the current context"
     ]
    }
   ],
   "source": [
    "// Format\n",
    "var fmt= new PlotFormat();\n",
    "fmt.WithPointSize(0.0);\n",
    "fmt.LineColor=LineColors.Red;\n",
    "string csvFileName = \"XESTSFLevelSetPertubations.csv\";\n",
    "var plotLevelSet= new Plot2Ddata();\n",
    "using (StreamWriter writer = new StreamWriter(csvFileName)){\n",
    "    \n",
    "    //Console.WriteLine(t);\n",
    "    (double[] xVals,double[] yVals)=GetPlotLevelSet(tMin,tMax,1000, si);\n",
    "    \n",
    "    plotLevelSet.AddDataGroup(\"LevelSet\",xVals,yVals,fmt);\n",
    "        // Write header row\n",
    "    writer.WriteLine($\"t,{string.Join(\",\", xVals)}\");\n",
    "    \n",
    "    // Write data row\n",
    "    writer.WriteLine($\"phi(t),{string.Join(\",\", yVals)}\");\n",
    "            \n",
    "}\n",
    "\n",
    "plotLevelSet.Ylabel=\"\\varphi(0,t)\";\n",
    "plotLevelSet.ToGnuplot().PlotSVG(xRes:800,yRes:800)  \n"
   ]
  },
  {
   "cell_type": "code",
   "execution_count": 17,
   "metadata": {
    "dotnet_interactive": {
     "language": "csharp"
    },
    "polyglot_notebook": {
     "kernelName": "csharp"
    }
   },
   "outputs": [],
   "source": []
  }
 ],
 "metadata": {
  "kernelspec": {
   "display_name": ".NET (C#)",
   "language": "C#",
   "name": ".net-csharp"
  },
  "language_info": {
   "name": "polyglot-notebook"
  },
  "polyglot_notebook": {
   "kernelInfo": {
    "defaultKernelName": "csharp",
    "items": [
     {
      "aliases": [],
      "name": ".NET"
     },
     {
      "aliases": [
       "C#",
       "c#"
      ],
      "languageName": "C#",
      "name": "csharp"
     },
     {
      "aliases": [
       "F#",
       "f#"
      ],
      "languageName": "F#",
      "name": "fsharp"
     },
     {
      "aliases": [],
      "languageName": "HTML",
      "name": "html"
     },
     {
      "aliases": [
       "js"
      ],
      "languageName": "JavaScript",
      "name": "javascript"
     },
     {
      "aliases": [],
      "languageName": "KQL",
      "name": "kql"
     },
     {
      "aliases": [],
      "languageName": "Mermaid",
      "name": "mermaid"
     },
     {
      "aliases": [
       "powershell"
      ],
      "languageName": "PowerShell",
      "name": "pwsh"
     },
     {
      "aliases": [],
      "languageName": "SQL",
      "name": "sql"
     },
     {
      "aliases": [],
      "name": "value"
     },
     {
      "aliases": [
       "frontend"
      ],
      "name": "vscode"
     },
     {
      "aliases": [],
      "name": "webview"
     }
    ]
   }
  }
 },
 "nbformat": 4,
 "nbformat_minor": 2
}

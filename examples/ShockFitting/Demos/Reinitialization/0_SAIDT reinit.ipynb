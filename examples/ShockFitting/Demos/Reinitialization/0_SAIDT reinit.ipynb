{
 "cells": [
  {
   "cell_type": "code",
   "execution_count": 1,
   "metadata": {
    "dotnet_interactive": {
     "language": "csharp"
    }
   },
   "outputs": [],
   "source": [
    "#r \"BoSSSpad.dll\"\n",
    "#r \"SAIDT.dll\"\n",
    "#r \"ApplicationWithIDT.dll\"\n",
    "using System;\n",
    "using System.Collections.Generic;\n",
    "using System.Linq;\n",
    "using ilPSP;\n",
    "using ilPSP.Utils;\n",
    "using BoSSS.Platform;\n",
    "using BoSSS.Platform.LinAlg;\n",
    "using BoSSS.Foundation;\n",
    "using BoSSS.Foundation.XDG;\n",
    "using BoSSS.Foundation.Grid;\n",
    "using BoSSS.Foundation.Grid.Classic;\n",
    "using BoSSS.Foundation.Grid.RefElements;\n",
    "using BoSSS.Foundation.IO;\n",
    "using BoSSS.Solution;\n",
    "using BoSSS.Solution.Control;\n",
    "using BoSSS.Solution.GridImport;\n",
    "using BoSSS.Solution.Statistic;\n",
    "using BoSSS.Solution.Utils;\n",
    "using BoSSS.Solution.AdvancedSolvers;\n",
    "using BoSSS.Solution.Gnuplot;\n",
    "using BoSSS.Application.BoSSSpad;\n",
    "using BoSSS.Application.XNSE_Solver;\n",
    "using ApplicationWithIDT;\n",
    "using SAIDT;\n",
    "using static BoSSS.Application.BoSSSpad.BoSSSshell;\n",
    "Init();\n"
   ]
  },
  {
   "cell_type": "code",
   "execution_count": 2,
   "metadata": {
    "dotnet_interactive": {
     "language": "csharp"
    },
    "polyglot_notebook": {
     "kernelName": "csharp"
    }
   },
   "outputs": [],
   "source": [
    "string dbPath=null;"
   ]
  },
  {
   "cell_type": "markdown",
   "metadata": {},
   "source": [
    "load a control file and the solver (but do not run a simulation)"
   ]
  },
  {
   "cell_type": "code",
   "execution_count": 3,
   "metadata": {
    "dotnet_interactive": {
     "language": "csharp"
    },
    "polyglot_notebook": {
     "kernelName": "csharp"
    }
   },
   "outputs": [
    {
     "name": "stdout",
     "output_type": "stream",
     "text": [
      "rm;\n",
      "Session ID: 00000000-0000-0000-0000-000000000000, DB path: 'EMPTY'\n",
      "Session directory 'EMPTY\\sessions\\00000000-0000-0000-0000-000000000000'.\n",
      "Grid repartitioning method: METIS\n",
      "Grid repartitioning options: \n",
      "Number of cell Weights: 0\n",
      "\n",
      "\n",
      "*****************************************************************************************\n",
      "*  X   X   DDD   GGG   -   III  SSS  TTTTT  *\n",
      "*   X X    D  D G      -    I  S      T     *\n",
      "*    X     D  D G  GG  -    I   SSS   T     *      XDG Implicit Shock Tracking Solver    \n",
      "*   X X    D  D G   G  -    I      S  T     *\n",
      "*  X   X   DDD   GGG   -   III  SSS   T     *\n",
      "*****************************************************************************************\n",
      "*  \n",
      "*  solver:                             SAIDT.SAIDTMain\n",
      "*  project:                            SAIDT_DGLevelSet\n",
      "*  session:                            SAIDT_DGLevelSet\n",
      "*  optimization problem:               FullEnRes\n",
      "*  merit function:                     L1Merit\n",
      "*  level set type:                     SinglePhaseField\n",
      "*  solver type:                        Standard\n",
      "*  f_phi type:                         None\n",
      "*  globalization strategy:             LineSearch\n",
      "*  initial value from:                 FromFunctionPerSpecies\n",
      "*  \n",
      "******************************* Params ************************************************\n",
      "*  Solution Degree:                    4\n",
      "*  OptiLevelSet Degree:                3\n",
      "*  Level Set Degree:                   3\n",
      "*  Level Set Two Degree:               1\n",
      "*  Max Iterations:                     200\n",
      "*  Agglomeration Threshold:            0.4\n",
      "*  Regularization Params:\n",
      "*    Gamma Max:                        1\n",
      "*    Gamma Min:                        0.0001\n",
      "*    Gamma Start:                      1\n",
      "*  Globalization Params:\n",
      "*    Alpha Min:                        1E-08\n",
      "*    Alpha Start:                      1\n",
      "*    Mu Start:                         1\n",
      "*    Mu Max:                           1000000\n",
      "*    Mu Omega:                         1.2\n",
      "*    Mu Rho:                           0.95\n",
      "*  Level Set penalty Params:\n",
      "*    Kappa Xi:                         1\n",
      "*    Kappa M:                          100\n",
      "*    Kappa Min:                        1E-10\n",
      "*    Kappa v:                          0.5\n",
      "*  Reinitialization Params:\n",
      "*    Apply ReiInit:                    True\n",
      "*    c1:                               -0.2\n",
      "*    c2:                               0.01\n",
      "*    c3:                               0.01\n",
      "*  Adaptive Regularization Params:\n",
      "*    L:                                1\n",
      "*    sigma_1:                          0.01\n",
      "*    sigma_2:                          0.1\n",
      "*    tauGamma:                         1.5\n",
      "\n",
      "\n",
      "*****************************************************************************************\n",
      "*  X   X   DDD   GGG   -   III  SSS  TTTTT  *\n",
      "*   X X    D  D G      -    I  S      T     *\n",
      "*    X     D  D G  GG  -    I   SSS   T     *      XDG Implicit Shock Tracking Solver    \n",
      "*   X X    D  D G   G  -    I      S  T     *\n",
      "*  X   X   DDD   GGG   -   III  SSS   T     *\n",
      "*****************************************************************************************\n",
      "*  \n",
      "*  solver:                             SAIDT.SAIDTMain\n",
      "*  project:                            SAIDT_DGLevelSet\n",
      "*  session:                            SAIDT_DGLevelSet\n",
      "*  optimization problem:               FullEnRes\n",
      "*  merit function:                     L1Merit\n",
      "*  level set type:                     SinglePhaseField\n",
      "*  solver type:                        Standard\n",
      "*  f_phi type:                         None\n",
      "*  globalization strategy:             LineSearch\n",
      "*  initial value from:                 FromFunctionPerSpecies\n",
      "*  \n",
      "******************************* Params ************************************************\n",
      "*  Solution Degree:                    4\n",
      "*  OptiLevelSet Degree:                3\n",
      "*  Level Set Degree:                   3\n",
      "*  Level Set Two Degree:               1\n",
      "*  Max Iterations:                     200\n",
      "*  Agglomeration Threshold:            0.4\n",
      "*  Regularization Params:\n",
      "*    Gamma Max:                        1\n",
      "*    Gamma Min:                        0.0001\n",
      "*    Gamma Start:                      1\n",
      "*  Globalization Params:\n",
      "*    Alpha Min:                        1E-08\n",
      "*    Alpha Start:                      1\n",
      "*    Mu Start:                         1\n",
      "*    Mu Max:                           1000000\n",
      "*    Mu Omega:                         1.2\n",
      "*    Mu Rho:                           0.95\n",
      "*  Level Set penalty Params:\n",
      "*    Kappa Xi:                         1\n",
      "*    Kappa M:                          100\n",
      "*    Kappa Min:                        1E-10\n",
      "*    Kappa v:                          0.5\n",
      "*  Reinitialization Params:\n",
      "*    Apply ReiInit:                    True\n",
      "*    c1:                               -0.2\n",
      "*    c2:                               0.01\n",
      "*    c3:                               0.01\n",
      "*  Adaptive Regularization Params:\n",
      "*    L:                                1\n",
      "*    sigma_1:                          0.01\n",
      "*    sigma_2:                          0.1\n",
      "*    tauGamma:                         1.5\n"
     ]
    }
   ],
   "source": [
    "using SAIDT;\n",
    "BoSSS.Solution.Application.InitMPI();\n",
    "BoSSS.Solution.Application.DeleteOldPlotFiles();\n",
    "var pSAIDT = new SAIDTMain();\n",
    "var CSAIDT = SAIDTHardCodedControl.StraightShock(\n",
    "                    dbPath: dbPath,\n",
    "                    MaxIterations: 50,\n",
    "                    dgDegree: 4,\n",
    "                    numOfCellsX: 3,\n",
    "                    numOfCellsY: 3,\n",
    "                    OptiNumOfCellsX: 3,\n",
    "                    OptiNumOfCellsY: 3,\n",
    "                    agg: 0.4,\n",
    "                    ImmediatePlotPeriod: -1,\n",
    "                    optiLevelSetType: OptiLevelSetType.SinglePhaseField,\n",
    "                    LSDegree: 3\n",
    "                    );\n",
    "CSAIDT.SessionName=\"SAIDT_DGLevelSet\";\n",
    "CSAIDT.ProjectName=\"SAIDT_DGLevelSet\";\n",
    "pSAIDT.Init(CSAIDT);\n",
    "pSAIDT.InitializeEverything();\n"
   ]
  },
  {
   "cell_type": "markdown",
   "metadata": {},
   "source": [
    "function to project on level set"
   ]
  },
  {
   "cell_type": "code",
   "execution_count": 5,
   "metadata": {
    "dotnet_interactive": {
     "language": "csharp"
    },
    "polyglot_notebook": {
     "kernelName": "csharp"
    }
   },
   "outputs": [],
   "source": [
    "Func<double[],double> discCircA= delegate(double[] X){\n",
    "    var y=X[1];\n",
    "    var x=X[0];\n",
    "    double result=0.0;\n",
    "    if (x>1.0/3.0 &&x<2.0/3.0 &&y>1.0/3.0 &&y<2.0/3.0 )\n",
    "    {\n",
    "        // Apply the first function for y > 0.5\n",
    "        result = x>0.5 ? 1+1*Math.Sin(100*x)*Math.Sin(100*y): 1+1*Math.Cos(100*x)*Math.Cos(100*y);\n",
    "    }\n",
    "    else \n",
    "    {\n",
    "        // Apply the second function for y < 0.75\n",
    "        result = x+y;\n",
    "    }\n",
    "    \n",
    "    return result;\n",
    "};\n",
    "Func<double[],double> discCircB= delegate(double[] X){\n",
    "    var y=X[1];\n",
    "    var x=X[0];\n",
    "    double result=0.0;\n",
    "    if (x>1.0/3.0 &&x<2.0/3.0 &&y>1.0/3.0 &&y<2.0/3.0 )\n",
    "    {\n",
    "        // Apply the first function for y > 0.5\n",
    "        result = x< 0.5 ? 4+ 1*Math.Sin(100*x)*Math.Sin(100*y): 4+1*Math.Cos(100*x)*Math.Cos(100*y);\n",
    "    }\n",
    "    else \n",
    "    {\n",
    "        // Apply the second function for y < 0.75\n",
    "        result = 4;\n",
    "    }\n",
    "    \n",
    "    return result;\n",
    "};"
   ]
  },
  {
   "cell_type": "markdown",
   "metadata": {},
   "source": [
    "plotting function"
   ]
  },
  {
   "cell_type": "code",
   "execution_count": 6,
   "metadata": {
    "dotnet_interactive": {
     "language": "csharp"
    },
    "polyglot_notebook": {
     "kernelName": "csharp"
    }
   },
   "outputs": [],
   "source": [
    "using BoSSS.Solution.Tecplot;\n",
    "using System.IO;\n",
    "Directory.GetFiles(\".\", \"*_SP_*\").ForEach(file => File.Delete(file));\n",
    "\n",
    "public void plotSF(string name){\n",
    "    List<DGField> flds= new List<DGField>();\n",
    "foreach(var field in pSAIDT.RegisteredFields){\n",
    "    if(field is XDGField xfield){\n",
    "        flds.Add(xfield.GetSpeciesShadowField(\"L\"));\n",
    "        flds.Add(xfield.GetSpeciesShadowField(\"R\"));\n",
    "        flds.Add(field);\n",
    "    }else{\n",
    "        flds.Add(field);\n",
    "    }\n",
    "}\n",
    "var texplot = new Tecplot(flds[0].GridDat, 5);\n",
    "texplot.PlotFields( name,0.0,flds);\n",
    "}"
   ]
  },
  {
   "cell_type": "markdown",
   "metadata": {},
   "source": [
    "project function, plot, do reintialization, plot again"
   ]
  },
  {
   "cell_type": "code",
   "execution_count": 7,
   "metadata": {
    "dotnet_interactive": {
     "language": "csharp"
    },
    "polyglot_notebook": {
     "kernelName": "csharp"
    }
   },
   "outputs": [
    {
     "name": "stdout",
     "output_type": "stream",
     "text": [
      "rm SAIDT_DGLevelSet_0.plt;\n",
      "Reinitialized Cells:(4 L) ,(4 R) , \n"
     ]
    }
   ],
   "source": [
    "BoSSS.Solution.Application.DeleteOldPlotFiles();\n",
    "pSAIDT.ConservativeFields[0].GetSpeciesShadowField(\"L\").ProjectField(discCircA);\n",
    "pSAIDT.ConservativeFields[0].GetSpeciesShadowField(\"R\").ProjectField(discCircB);\n",
    "pSAIDT.Control.ApplyReiInit=true;\n",
    "pSAIDT.GetPerssonSensor(false);\n",
    "pSAIDT.Control.reInitTols=new double[] {-2,-2,-2,-2,-2,-2};\n",
    "plotSF(\"reinit_0\");\n",
    "pSAIDT.Reinitialization();\n",
    "pSAIDT.GetPerssonSensor(false);\n",
    "plotSF(\"reinit_1\");"
   ]
  }
 ],
 "metadata": {
  "kernelspec": {
   "display_name": ".NET (C#)",
   "language": "C#",
   "name": ".net-csharp"
  },
  "language_info": {
   "name": "polyglot-notebook"
  },
  "polyglot_notebook": {
   "kernelInfo": {
    "defaultKernelName": "csharp",
    "items": [
     {
      "aliases": [],
      "name": ".NET"
     },
     {
      "aliases": [
       "C#",
       "c#"
      ],
      "languageName": "C#",
      "name": "csharp"
     },
     {
      "aliases": [
       "F#",
       "f#"
      ],
      "languageName": "F#",
      "name": "fsharp"
     },
     {
      "aliases": [],
      "languageName": "HTML",
      "name": "html"
     },
     {
      "aliases": [
       "js"
      ],
      "languageName": "JavaScript",
      "name": "javascript"
     },
     {
      "aliases": [],
      "languageName": "KQL",
      "name": "kql"
     },
     {
      "aliases": [],
      "languageName": "Mermaid",
      "name": "mermaid"
     },
     {
      "aliases": [
       "powershell"
      ],
      "languageName": "PowerShell",
      "name": "pwsh"
     },
     {
      "aliases": [],
      "languageName": "SQL",
      "name": "sql"
     },
     {
      "aliases": [],
      "name": "value"
     },
     {
      "aliases": [
       "frontend"
      ],
      "name": "vscode"
     },
     {
      "aliases": [],
      "name": "webview"
     }
    ]
   }
  }
 },
 "nbformat": 4,
 "nbformat_minor": 2
}

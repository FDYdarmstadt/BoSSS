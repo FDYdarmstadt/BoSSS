{
 "cells": [
  {
   "cell_type": "code",
   "execution_count": 1,
   "metadata": {
    "dotnet_interactive": {
     "language": "csharp"
    }
   },
   "outputs": [],
   "source": [
    "#r \".\\binaries\\BoSSSpad.dll\"\n",
    "#r \".\\binaries\\SAIDT.dll\"\n",
    "#r \".\\binaries\\ApplicationWithIDT.dll\"\n",
    "using System;\n",
    "using System.Collections.Generic;\n",
    "using System.Linq;\n",
    "using ilPSP;\n",
    "using ilPSP.Utils;\n",
    "using BoSSS.Platform;\n",
    "using BoSSS.Platform.LinAlg;\n",
    "using BoSSS.Foundation;\n",
    "using BoSSS.Foundation.XDG;\n",
    "using BoSSS.Foundation.Grid;\n",
    "using BoSSS.Foundation.Grid.Classic;\n",
    "using BoSSS.Foundation.Grid.RefElements;\n",
    "using BoSSS.Foundation.IO;\n",
    "using BoSSS.Solution;\n",
    "using BoSSS.Solution.Control;\n",
    "using BoSSS.Solution.GridImport;\n",
    "using BoSSS.Solution.Statistic;\n",
    "using BoSSS.Solution.Utils;\n",
    "using BoSSS.Solution.AdvancedSolvers;\n",
    "using BoSSS.Solution.Gnuplot;\n",
    "using BoSSS.Application.BoSSSpad;\n",
    "using BoSSS.Application.XNSE_Solver;\n",
    "using ApplicationWithIDT;\n",
    "using SAIDT;\n",
    "using static BoSSS.Application.BoSSSpad.BoSSSshell;\n",
    "Init();\n"
   ]
  },
  {
   "attachments": {},
   "cell_type": "markdown",
   "metadata": {},
   "source": [
    "# Run Simulation"
   ]
  },
  {
   "attachments": {},
   "cell_type": "markdown",
   "metadata": {},
   "source": [
    "## SinglePhaseField"
   ]
  },
  {
   "cell_type": "code",
   "execution_count": 3,
   "metadata": {
    "dotnet_interactive": {
     "language": "csharp"
    },
    "polyglot_notebook": {
     "kernelName": "csharp"
    }
   },
   "outputs": [],
   "source": [
    "string dbPath=null;"
   ]
  },
  {
   "cell_type": "code",
   "execution_count": 48,
   "metadata": {
    "dotnet_interactive": {
     "language": "csharp"
    },
    "polyglot_notebook": {
     "kernelName": "csharp"
    }
   },
   "outputs": [
    {
     "name": "stdout",
     "output_type": "stream",
     "text": [
      "rm DGLevelSet.plt;\n",
      "Session ID: 00000000-0000-0000-0000-000000000000, DB path: 'EMPTY'\n",
      "Session directory 'EMPTY\\sessions\\00000000-0000-0000-0000-000000000000'.\n",
      "Grid repartitioning method: METIS\n",
      "Grid repartitioning options: \n",
      "Number of cell Weights: 0\n",
      "\n",
      "\n",
      "*****************************************************************************************\n",
      "*  X   X   DDD   GGG   -   III  SSS  TTTTT  *\n",
      "*   X X    D  D G      -    I  S      T     *\n",
      "*    X     D  D G  GG  -    I   SSS   T     *      XDG Implicit Shock Tracking Solver    \n",
      "*   X X    D  D G   G  -    I      S  T     *\n",
      "*  X   X   DDD   GGG   -   III  SSS   T     *\n",
      "*****************************************************************************************\n",
      "*  \n",
      "*  solver:                             SAIDT.SAIDTMain\n",
      "*  project:                            SAIDT_DGLevelSet\n",
      "*  session:                            SAIDT_DGLevelSet\n",
      "*  optimization problem:               FullEnRes\n",
      "*  merit function:                     L1Merit\n",
      "*  level set type:                     SinglePhaseField\n",
      "*  solver type:                        Standard\n",
      "*  f_phi type:                         None\n",
      "*  globalization strategy:             LineSearch\n",
      "*  initial value from:                 OneFullNewtonStep\n",
      "*  \n",
      "******************************* Params ************************************************\n",
      "*  Solution Degree:                    0\n",
      "*  OptiLevelSet Degree:                3\n",
      "*  Level Set Degree:                   3\n",
      "*  Level Set Two Degree:               1\n",
      "*  Max Iterations:                     200\n",
      "*  Agglomeration Threshold:            0.4\n",
      "*  Regularization Params:\n",
      "*    Gamma Max:                        1\n",
      "*    Gamma Min:                        0.0001\n",
      "*    Gamma Start:                      1\n",
      "*  Globalization Params:\n",
      "*    Alpha Min:                        1E-08\n",
      "*    Alpha Start:                      1\n",
      "*    Mu Start:                         1\n",
      "*    Mu Max:                           1000000\n",
      "*    Mu Omega:                         1.2\n",
      "*    Mu Rho:                           0.95\n",
      "*  Level Set penalty Params:\n",
      "*    Kappa Xi:                         1\n",
      "*    Kappa M:                          100\n",
      "*    Kappa Min:                        1E-10\n",
      "*    Kappa v:                          0.5\n",
      "*  Reinitialization Params:\n",
      "*    Apply ReiInit:                    True\n",
      "*    c1:                               -0.2\n",
      "*    c2:                               0.01\n",
      "*    c3:                               0.01\n",
      "*  Adaptive Regularization Params:\n",
      "*    L:                                1\n",
      "*    sigma_1:                          0.01\n",
      "*    sigma_2:                          0.1\n",
      "*    tauGamma:                         1.5\n",
      "\n",
      "\n",
      "*****************************************************************************************\n",
      "*  X   X   DDD   GGG   -   III  SSS  TTTTT  *\n",
      "*   X X    D  D G      -    I  S      T     *\n",
      "*    X     D  D G  GG  -    I   SSS   T     *      XDG Implicit Shock Tracking Solver    \n",
      "*   X X    D  D G   G  -    I      S  T     *\n",
      "*  X   X   DDD   GGG   -   III  SSS   T     *\n",
      "*****************************************************************************************\n",
      "*  \n",
      "*  solver:                             SAIDT.SAIDTMain\n",
      "*  project:                            SAIDT_DGLevelSet\n",
      "*  session:                            SAIDT_DGLevelSet\n",
      "*  optimization problem:               FullEnRes\n",
      "*  merit function:                     L1Merit\n",
      "*  level set type:                     SinglePhaseField\n",
      "*  solver type:                        Standard\n",
      "*  f_phi type:                         None\n",
      "*  globalization strategy:             LineSearch\n",
      "*  initial value from:                 OneFullNewtonStep\n",
      "*  \n",
      "******************************* Params ************************************************\n",
      "*  Solution Degree:                    0\n",
      "*  OptiLevelSet Degree:                3\n",
      "*  Level Set Degree:                   3\n",
      "*  Level Set Two Degree:               1\n",
      "*  Max Iterations:                     200\n",
      "*  Agglomeration Threshold:            0.4\n",
      "*  Regularization Params:\n",
      "*    Gamma Max:                        1\n",
      "*    Gamma Min:                        0.0001\n",
      "*    Gamma Start:                      1\n",
      "*  Globalization Params:\n",
      "*    Alpha Min:                        1E-08\n",
      "*    Alpha Start:                      1\n",
      "*    Mu Start:                         1\n",
      "*    Mu Max:                           1000000\n",
      "*    Mu Omega:                         1.2\n",
      "*    Mu Rho:                           0.95\n",
      "*  Level Set penalty Params:\n",
      "*    Kappa Xi:                         1\n",
      "*    Kappa M:                          100\n",
      "*    Kappa Min:                        1E-10\n",
      "*    Kappa v:                          0.5\n",
      "*  Reinitialization Params:\n",
      "*    Apply ReiInit:                    True\n",
      "*    c1:                               -0.2\n",
      "*    c2:                               0.01\n",
      "*    c3:                               0.01\n",
      "*  Adaptive Regularization Params:\n",
      "*    L:                                1\n",
      "*    sigma_1:                          0.01\n",
      "*    sigma_2:                          0.1\n",
      "*    tauGamma:                         1.5\n"
     ]
    }
   ],
   "source": [
    "using SAIDT;\n",
    "BoSSS.Solution.Application.InitMPI();\n",
    "BoSSS.Solution.Application.DeleteOldPlotFiles();\n",
    "var pSAIDT = new SAIDTMain();\n",
    "var CSAIDT = SAIDTHardCodedControl.StraightShock(\n",
    "                    dbPath: dbPath,\n",
    "                    MaxIterations: 50,\n",
    "                    dgDegree: 0,\n",
    "                    numOfCellsX: 4,\n",
    "                    numOfCellsY: 4,\n",
    "                    OptiNumOfCellsX: 4,\n",
    "                    OptiNumOfCellsY: 4,\n",
    "                    agg: 0.4,\n",
    "                    ImmediatePlotPeriod: -1,\n",
    "                    optiLevelSetType: OptiLevelSetType.SinglePhaseField,\n",
    "                    LSDegree: 3\n",
    "                    );\n",
    "CSAIDT.SessionName=\"SAIDT_DGLevelSet\";\n",
    "CSAIDT.ProjectName=\"SAIDT_DGLevelSet\";\n",
    "pSAIDT.Init(CSAIDT);\n",
    "pSAIDT.InitializeEverything();\n"
   ]
  },
  {
   "cell_type": "code",
   "execution_count": 69,
   "metadata": {
    "dotnet_interactive": {
     "language": "csharp"
    },
    "polyglot_notebook": {
     "kernelName": "csharp"
    }
   },
   "outputs": [],
   "source": [
    "Func<double[],double> discCirc= delegate(double[] X){\n",
    "    var y=X[1];\n",
    "    var x=X[0];\n",
    "    double result=0;\n",
    "    if (y > 0.5 && x > 0.5)\n",
    "        {\n",
    "            // Apply the first function for y > 0.5\n",
    "            result += Math.Pow(x-0.5,2) + Math.Pow(y-0.5,2) - 0.36*0.36;\n",
    "        }\n",
    "    else if (y <= 0.5 && x > 0.5)\n",
    "    {\n",
    "        // Apply the second function for y < 0.75\n",
    "        result += Math.Pow(x-0.5,2) + Math.Pow(y-0.5,2)  - 0.3*0.3;\n",
    "    }else if (y <= 0.5 && x <= 0.5)\n",
    "    {\n",
    "        // Apply the second function for y < 0.75\n",
    "        result += Math.Pow(x-0.5,2) + Math.Pow(y-0.5,2)  - 0.35*0.35;\n",
    "    }else if (y > 0.5 && x <= 0.5)\n",
    "    {\n",
    "        // Apply the second function for y < 0.75\n",
    "        result += Math.Pow(x-0.5,2) + Math.Pow(y-0.5,2)  - 0.29*0.29;\n",
    "    }\n",
    "    \n",
    "    // int i = (int)(y / 0.2);\n",
    "    // double result;\n",
    "    // if(x<0.6){\n",
    "    //     result = (x - 0.1 * i) - 0.5 * y;\n",
    "\n",
    "    // }else{\n",
    "    //     result = (x - 0.6 * i) - 0.5 * (y);\n",
    "    // }\n",
    "    // Calculate the function value\n",
    "    \n",
    "    return result;\n",
    "};"
   ]
  },
  {
   "cell_type": "code",
   "execution_count": 68,
   "metadata": {
    "dotnet_interactive": {
     "language": "csharp"
    },
    "polyglot_notebook": {
     "kernelName": "csharp"
    }
   },
   "outputs": [],
   "source": [
    "using BoSSS.Solution.Tecplot;\n",
    "using System.IO;\n",
    "Directory.GetFiles(\".\", \"*_SP_*\").ForEach(file => File.Delete(file));\n",
    "\n",
    "public void plotSF(string name){\n",
    "    List<DGField> flds= new List<DGField>();\n",
    "foreach(var field in pSAIDT.RegisteredFields){\n",
    "    if(field is XDGField xfield){\n",
    "        flds.Add(xfield.GetSpeciesShadowField(\"L\"));\n",
    "        flds.Add(xfield.GetSpeciesShadowField(\"R\"));\n",
    "        flds.Add(field);\n",
    "    }else{\n",
    "        flds.Add(field);\n",
    "    }\n",
    "}\n",
    "var texplot = new Tecplot(flds[0].GridDat, 2);\n",
    "texplot.PlotFields( name,0.0,flds);\n",
    "}\n",
    "Func<double[],double> discCircA= delegate(double[] X){\n",
    "    var y=X[1];\n",
    "    var x=X[0];\n",
    "    double result=0.0;\n",
    "    if (x>1.0/3.0 &&x<2.0/3.0 &&y>1.0/3.0 &&y<2.0/3.0 )\n",
    "    {\n",
    "        // Apply the first function for y > 0.5\n",
    "        result = x>0.5 ? 1+1*Math.Sin(100*x)*Math.Sin(100*y): 1+1*Math.Cos(100*x)*Math.Cos(100*y);\n",
    "    }\n",
    "    else \n",
    "    {\n",
    "        // Apply the second function for y < 0.75\n",
    "        result = x+y;\n",
    "    }\n",
    "    \n",
    "    return result;\n",
    "};\n",
    "Func<double[],double> discCircB= delegate(double[] X){\n",
    "    var y=X[1];\n",
    "    var x=X[0];\n",
    "    double result=0.0;\n",
    "    if (x>1.0/3.0 &&x<2.0/3.0 &&y>1.0/3.0 &&y<2.0/3.0 )\n",
    "    {\n",
    "        // Apply the first function for y > 0.5\n",
    "        result = x< 0.5 ? 4+ 1*Math.Sin(100*x)*Math.Sin(100*y): 4+1*Math.Cos(100*x)*Math.Cos(100*y);\n",
    "    }\n",
    "    else \n",
    "    {\n",
    "        // Apply the second function for y < 0.75\n",
    "        result = 4;\n",
    "    }\n",
    "    \n",
    "    return result;\n",
    "};"
   ]
  },
  {
   "cell_type": "code",
   "execution_count": 64,
   "metadata": {
    "dotnet_interactive": {
     "language": "csharp"
    },
    "polyglot_notebook": {
     "kernelName": "csharp"
    }
   },
   "outputs": [
    {
     "name": "stdout",
     "output_type": "stream",
     "text": [
      "rm DGLevelSet.plt;\n"
     ]
    }
   ],
   "source": [
    "BoSSS.Solution.Application.DeleteOldPlotFiles();\n",
    "\n",
    "pSAIDT.ConservativeFields[0].GetSpeciesShadowField(\"L\").ProjectField(discCircA);\n",
    "pSAIDT.ConservativeFields[0].GetSpeciesShadowField(\"R\").ProjectField(discCircB);\n",
    "pSAIDT.LevelSetOpti.ProjectFromFunction(discCirc);\n",
    "pSAIDT.LevelSetOpti.ProjectOntoLevelSet(pSAIDT.LsTBO);\n",
    "plotSF(\"DGLevelSet\");"
   ]
  },
  {
   "cell_type": "markdown",
   "metadata": {},
   "source": [
    "## Spline level set"
   ]
  },
  {
   "cell_type": "code",
   "execution_count": 8,
   "metadata": {
    "dotnet_interactive": {
     "language": "csharp"
    },
    "polyglot_notebook": {
     "kernelName": "csharp"
    }
   },
   "outputs": [],
   "source": [
    "BoSSS.Solution.Application.InitMPI();\n",
    "var pSAIDT = new SAIDTMain();\n",
    "var CSAIDT = SAIDTHardCodedControl.StraightShock(\n",
    "                    dbPath: dbPath,\n",
    "                    MaxIterations: 100,\n",
    "                    dgDegree: 0,\n",
    "                    numOfCellsX: 10,\n",
    "                    numOfCellsY: 10,\n",
    "                    agg: 0.4,\n",
    "                    ImmediatePlotPeriod: -1,\n",
    "                    optiLevelSetType: OptiLevelSetType.SplineLevelSet,\n",
    "                    LSDegree: 3,\n",
    "                    isFarConfig:true\n",
    "                    );\n",
    "CSAIDT.SessionName=\"SAIDT_SplineLevelSet\";\n",
    "CSAIDT.ProjectName=\"SAIDT_SplineLevelSet\";\n",
    "pSAIDT.Init(CSAIDT);\n",
    "pSAIDT.InitializeEverything();\n"
   ]
  },
  {
   "cell_type": "code",
   "execution_count": null,
   "metadata": {
    "dotnet_interactive": {
     "language": "csharp"
    },
    "polyglot_notebook": {
     "kernelName": "csharp"
    }
   },
   "outputs": [],
   "source": []
  },
  {
   "cell_type": "markdown",
   "metadata": {},
   "source": [
    "## SpecFemField"
   ]
  },
  {
   "cell_type": "code",
   "execution_count": 80,
   "metadata": {
    "dotnet_interactive": {
     "language": "csharp"
    },
    "polyglot_notebook": {
     "kernelName": "csharp"
    }
   },
   "outputs": [
    {
     "name": "stdout",
     "output_type": "stream",
     "text": [
      "Session ID: 00000000-0000-0000-0000-000000000000, DB path: 'EMPTY'\n",
      "Session directory 'EMPTY\\sessions\\00000000-0000-0000-0000-000000000000'.\n",
      "Grid repartitioning method: METIS\n",
      "Grid repartitioning options: \n",
      "Number of cell Weights: 0\n",
      "\n",
      "\n",
      "*****************************************************************************************\n",
      "*  X   X   DDD   GGG   -   III  SSS  TTTTT  *\n",
      "*   X X    D  D G      -    I  S      T     *\n",
      "*    X     D  D G  GG  -    I   SSS   T     *      XDG Implicit Shock Tracking Solver    \n",
      "*   X X    D  D G   G  -    I      S  T     *\n",
      "*  X   X   DDD   GGG   -   III  SSS   T     *\n",
      "*****************************************************************************************\n",
      "*  \n",
      "*  solver:                             SAIDT.SAIDTMain\n",
      "*  project:                            SAIDT_CGLevelSet\n",
      "*  session:                            SAIDT_CGLevelSet\n",
      "*  optimization problem:               FullEnRes\n",
      "*  merit function:                     L1Merit\n",
      "*  level set type:                     SpecFemField\n",
      "*  solver type:                        Standard\n",
      "*  f_phi type:                         None\n",
      "*  globalization strategy:             LineSearch\n",
      "*  initial value from:                 OneFullNewtonStep\n",
      "*  \n",
      "******************************* Params ************************************************\n",
      "*  Solution Degree:                    0\n",
      "*  OptiLevelSet Degree:                3\n",
      "*  Level Set Degree:                   4\n",
      "*  Level Set Two Degree:               1\n",
      "*  Max Iterations:                     200\n",
      "*  Agglomeration Threshold:            0.4\n",
      "*  Regularization Params:\n",
      "*    Gamma Max:                        1\n",
      "*    Gamma Min:                        0.0001\n",
      "*    Gamma Start:                      1\n",
      "*  Globalization Params:\n",
      "*    Alpha Min:                        1E-08\n",
      "*    Alpha Start:                      1\n",
      "*    Mu Start:                         1\n",
      "*    Mu Max:                           1000000\n",
      "*    Mu Omega:                         1.2\n",
      "*    Mu Rho:                           0.95\n",
      "*  Level Set penalty Params:\n",
      "*    Kappa Xi:                         1\n",
      "*    Kappa M:                          100\n",
      "*    Kappa Min:                        1E-10\n",
      "*    Kappa v:                          0.5\n",
      "*  Reinitialization Params:\n",
      "*    Apply ReiInit:                    True\n",
      "*    c1:                               -0.2\n",
      "*    c2:                               0.01\n",
      "*    c3:                               0.01\n",
      "*  Adaptive Regularization Params:\n",
      "*    L:                                1\n",
      "*    sigma_1:                          0.01\n",
      "*    sigma_2:                          0.1\n",
      "*    tauGamma:                         1.5\n",
      "\n",
      "\n",
      "*****************************************************************************************\n",
      "*  X   X   DDD   GGG   -   III  SSS  TTTTT  *\n",
      "*   X X    D  D G      -    I  S      T     *\n",
      "*    X     D  D G  GG  -    I   SSS   T     *      XDG Implicit Shock Tracking Solver    \n",
      "*   X X    D  D G   G  -    I      S  T     *\n",
      "*  X   X   DDD   GGG   -   III  SSS   T     *\n",
      "*****************************************************************************************\n",
      "*  \n",
      "*  solver:                             SAIDT.SAIDTMain\n",
      "*  project:                            SAIDT_CGLevelSet\n",
      "*  session:                            SAIDT_CGLevelSet\n",
      "*  optimization problem:               FullEnRes\n",
      "*  merit function:                     L1Merit\n",
      "*  level set type:                     SpecFemField\n",
      "*  solver type:                        Standard\n",
      "*  f_phi type:                         None\n",
      "*  globalization strategy:             LineSearch\n",
      "*  initial value from:                 OneFullNewtonStep\n",
      "*  \n",
      "******************************* Params ************************************************\n",
      "*  Solution Degree:                    0\n",
      "*  OptiLevelSet Degree:                3\n",
      "*  Level Set Degree:                   4\n",
      "*  Level Set Two Degree:               1\n",
      "*  Max Iterations:                     200\n",
      "*  Agglomeration Threshold:            0.4\n",
      "*  Regularization Params:\n",
      "*    Gamma Max:                        1\n",
      "*    Gamma Min:                        0.0001\n",
      "*    Gamma Start:                      1\n",
      "*  Globalization Params:\n",
      "*    Alpha Min:                        1E-08\n",
      "*    Alpha Start:                      1\n",
      "*    Mu Start:                         1\n",
      "*    Mu Max:                           1000000\n",
      "*    Mu Omega:                         1.2\n",
      "*    Mu Rho:                           0.95\n",
      "*  Level Set penalty Params:\n",
      "*    Kappa Xi:                         1\n",
      "*    Kappa M:                          100\n",
      "*    Kappa Min:                        1E-10\n",
      "*    Kappa v:                          0.5\n",
      "*  Reinitialization Params:\n",
      "*    Apply ReiInit:                    True\n",
      "*    c1:                               -0.2\n",
      "*    c2:                               0.01\n",
      "*    c3:                               0.01\n",
      "*  Adaptive Regularization Params:\n",
      "*    L:                                1\n",
      "*    sigma_1:                          0.01\n",
      "*    sigma_2:                          0.1\n",
      "*    tauGamma:                         1.5\n"
     ]
    }
   ],
   "source": [
    "using SAIDT;\n",
    "BoSSS.Solution.Application.InitMPI();\n",
    "var pSAIDT = new SAIDTMain();\n",
    "var CSAIDT = SAIDTHardCodedControl.StraightShock(\n",
    "                    dbPath: dbPath,\n",
    "                    MaxIterations: 50,\n",
    "                    dgDegree: 0,\n",
    "                    numOfCellsX: 4,\n",
    "                    numOfCellsY: 4,\n",
    "                    OptiNumOfCellsX: 4,\n",
    "                    OptiNumOfCellsY: 4,\n",
    "                    agg: 0.4,\n",
    "                    ImmediatePlotPeriod: 5,\n",
    "                    optiLevelSetType: OptiLevelSetType.SpecFemField,\n",
    "                    LSDegree: 3,\n",
    "                    isFarConfig:true\n",
    "                    );\n",
    "CSAIDT.SessionName=\"SAIDT_CGLevelSet\";\n",
    "CSAIDT.ProjectName=\"SAIDT_CGLevelSet\";\n",
    "pSAIDT.Init(CSAIDT);\n",
    "\n",
    "pSAIDT.InitializeEverything();"
   ]
  },
  {
   "cell_type": "code",
   "execution_count": 90,
   "metadata": {
    "dotnet_interactive": {
     "language": "csharp"
    },
    "polyglot_notebook": {
     "kernelName": "csharp"
    }
   },
   "outputs": [
    {
     "data": {
      "text/html": [
       "<div class=\"dni-plaintext\"><pre>[ 1, 1, 1, 2, 3, 3, 5 ]</pre></div><style>\r\n",
       ".dni-code-hint {\r\n",
       "    font-style: italic;\r\n",
       "    overflow: hidden;\r\n",
       "    white-space: nowrap;\r\n",
       "}\r\n",
       ".dni-treeview {\r\n",
       "    white-space: nowrap;\r\n",
       "}\r\n",
       ".dni-treeview td {\r\n",
       "    vertical-align: top;\r\n",
       "    text-align: start;\r\n",
       "}\r\n",
       "details.dni-treeview {\r\n",
       "    padding-left: 1em;\r\n",
       "}\r\n",
       "table td {\r\n",
       "    text-align: start;\r\n",
       "}\r\n",
       "table tr { \r\n",
       "    vertical-align: top; \r\n",
       "    margin: 0em 0px;\r\n",
       "}\r\n",
       "table tr td pre \r\n",
       "{ \r\n",
       "    vertical-align: top !important; \r\n",
       "    margin: 0em 0px !important;\r\n",
       "} \r\n",
       "table th {\r\n",
       "    text-align: start;\r\n",
       "}\r\n",
       "</style>"
      ]
     },
     "metadata": {},
     "output_type": "display_data"
    }
   ],
   "source": [
    " public static int findMaximumGreatness(List<int> arr)\n",
    "    {\n",
    "        var sorted_arr = arr;\n",
    "        sorted_arr.Sort(); // sorted ascending\n",
    "        Console.WriteLine(sorted_arr);\n",
    "        List<int> rearranged_arr  = sorted_arr.Select(item => item).ToList();\n",
    "        var tmp=rearranged_arr.First();\n",
    "        rearranged_arr.RemoveAt(0);\n",
    "        rearranged_arr.Add(tmp);\n",
    "        \n",
    "        int cnt=0;\n",
    "        for(int i=1;i<arr.Count;i++){\n",
    "            if(rearranged_arr[i]>sorted_arr[i]){\n",
    "                cnt++;\n",
    "            }\n",
    "        }\n",
    "        return cnt;\n",
    "        \n",
    "    }\n",
    "List<int>sorted_arr= new List<int> {1,3,5,2,1,3,1};\n",
    "sorted_arr.Sort();\n",
    "sorted_arr"
   ]
  },
  {
   "cell_type": "code",
   "execution_count": 91,
   "metadata": {
    "dotnet_interactive": {
     "language": "csharp"
    },
    "polyglot_notebook": {
     "kernelName": "csharp"
    }
   },
   "outputs": [
    {
     "data": {
      "text/html": [
       "<div class=\"dni-plaintext\"><pre>[ 1, 1, 2, 3, 3, 5, 1 ]</pre></div><style>\r\n",
       ".dni-code-hint {\r\n",
       "    font-style: italic;\r\n",
       "    overflow: hidden;\r\n",
       "    white-space: nowrap;\r\n",
       "}\r\n",
       ".dni-treeview {\r\n",
       "    white-space: nowrap;\r\n",
       "}\r\n",
       ".dni-treeview td {\r\n",
       "    vertical-align: top;\r\n",
       "    text-align: start;\r\n",
       "}\r\n",
       "details.dni-treeview {\r\n",
       "    padding-left: 1em;\r\n",
       "}\r\n",
       "table td {\r\n",
       "    text-align: start;\r\n",
       "}\r\n",
       "table tr { \r\n",
       "    vertical-align: top; \r\n",
       "    margin: 0em 0px;\r\n",
       "}\r\n",
       "table tr td pre \r\n",
       "{ \r\n",
       "    vertical-align: top !important; \r\n",
       "    margin: 0em 0px !important;\r\n",
       "} \r\n",
       "table th {\r\n",
       "    text-align: start;\r\n",
       "}\r\n",
       "</style>"
      ]
     },
     "metadata": {},
     "output_type": "display_data"
    }
   ],
   "source": [
    "List<int> rearranged_arr  = sorted_arr.Select(item => item).ToList();\n",
    "var tmp=rearranged_arr.First();\n",
    "rearranged_arr.RemoveAt(0);\n",
    "rearranged_arr.Add(tmp);\n",
    "rearranged_arr"
   ]
  },
  {
   "cell_type": "code",
   "execution_count": 92,
   "metadata": {
    "dotnet_interactive": {
     "language": "csharp"
    },
    "polyglot_notebook": {
     "kernelName": "csharp"
    }
   },
   "outputs": [],
   "source": [
    " int cnt=0;"
   ]
  },
  {
   "cell_type": "code",
   "execution_count": 94,
   "metadata": {
    "dotnet_interactive": {
     "language": "csharp"
    },
    "polyglot_notebook": {
     "kernelName": "csharp"
    }
   },
   "outputs": [],
   "source": [
    "\n",
    "        int n= sorted_arr.Count;\n",
    "var i=n-1;\n",
    "if(rearranged_arr[i]>sorted_arr[i]){\n",
    "    cnt++;\n",
    "    rearranged_arr.RemoveAt(rearranged_arr.Count-1); //remove last\n",
    "    sorted_arr.RemoveAt(sorted_arr.Count-1);\n",
    "}\n"
   ]
  },
  {
   "cell_type": "code",
   "execution_count": 97,
   "metadata": {
    "dotnet_interactive": {
     "language": "csharp"
    },
    "polyglot_notebook": {
     "kernelName": "csharp"
    }
   },
   "outputs": [],
   "source": [
    "                rearranged_arr.RemoveAt(0);\n",
    "                sorted_arr.RemoveAt(sorted_arr.Count-1);"
   ]
  },
  {
   "cell_type": "code",
   "execution_count": 98,
   "metadata": {
    "dotnet_interactive": {
     "language": "csharp"
    },
    "polyglot_notebook": {
     "kernelName": "csharp"
    }
   },
   "outputs": [
    {
     "data": {
      "text/html": [
       "<div class=\"dni-plaintext\"><pre>[ 1, 2, 3, 3, 5, 1 ]</pre></div><style>\r\n",
       ".dni-code-hint {\r\n",
       "    font-style: italic;\r\n",
       "    overflow: hidden;\r\n",
       "    white-space: nowrap;\r\n",
       "}\r\n",
       ".dni-treeview {\r\n",
       "    white-space: nowrap;\r\n",
       "}\r\n",
       ".dni-treeview td {\r\n",
       "    vertical-align: top;\r\n",
       "    text-align: start;\r\n",
       "}\r\n",
       "details.dni-treeview {\r\n",
       "    padding-left: 1em;\r\n",
       "}\r\n",
       "table td {\r\n",
       "    text-align: start;\r\n",
       "}\r\n",
       "table tr { \r\n",
       "    vertical-align: top; \r\n",
       "    margin: 0em 0px;\r\n",
       "}\r\n",
       "table tr td pre \r\n",
       "{ \r\n",
       "    vertical-align: top !important; \r\n",
       "    margin: 0em 0px !important;\r\n",
       "} \r\n",
       "table th {\r\n",
       "    text-align: start;\r\n",
       "}\r\n",
       "</style>"
      ]
     },
     "metadata": {},
     "output_type": "display_data"
    }
   ],
   "source": [
    "rearranged_arr"
   ]
  },
  {
   "cell_type": "code",
   "execution_count": 99,
   "metadata": {
    "dotnet_interactive": {
     "language": "csharp"
    },
    "polyglot_notebook": {
     "kernelName": "csharp"
    }
   },
   "outputs": [
    {
     "data": {
      "text/html": [
       "<div class=\"dni-plaintext\"><pre>[ 1, 1, 1, 2, 3, 3 ]</pre></div><style>\r\n",
       ".dni-code-hint {\r\n",
       "    font-style: italic;\r\n",
       "    overflow: hidden;\r\n",
       "    white-space: nowrap;\r\n",
       "}\r\n",
       ".dni-treeview {\r\n",
       "    white-space: nowrap;\r\n",
       "}\r\n",
       ".dni-treeview td {\r\n",
       "    vertical-align: top;\r\n",
       "    text-align: start;\r\n",
       "}\r\n",
       "details.dni-treeview {\r\n",
       "    padding-left: 1em;\r\n",
       "}\r\n",
       "table td {\r\n",
       "    text-align: start;\r\n",
       "}\r\n",
       "table tr { \r\n",
       "    vertical-align: top; \r\n",
       "    margin: 0em 0px;\r\n",
       "}\r\n",
       "table tr td pre \r\n",
       "{ \r\n",
       "    vertical-align: top !important; \r\n",
       "    margin: 0em 0px !important;\r\n",
       "} \r\n",
       "table th {\r\n",
       "    text-align: start;\r\n",
       "}\r\n",
       "</style>"
      ]
     },
     "metadata": {},
     "output_type": "display_data"
    }
   ],
   "source": [
    "sorted_arr"
   ]
  },
  {
   "cell_type": "code",
   "execution_count": 81,
   "metadata": {
    "dotnet_interactive": {
     "language": "csharp"
    },
    "polyglot_notebook": {
     "kernelName": "csharp"
    }
   },
   "outputs": [
    {
     "name": "stdout",
     "output_type": "stream",
     "text": [
      "rm CGLevelSet.plt SAIDT_CGLevelSet_0.plt;\n"
     ]
    }
   ],
   "source": [
    "BoSSS.Solution.Application.DeleteOldPlotFiles();\n",
    "pSAIDT.ConservativeFields[0].GetSpeciesShadowField(\"L\").ProjectField(discCircA);\n",
    "pSAIDT.ConservativeFields[0].GetSpeciesShadowField(\"R\").ProjectField(discCircB);\n",
    "pSAIDT.LevelSetOpti.ProjectFromFunction(discCirc);\n",
    "pSAIDT.LevelSetOpti.ProjectOntoLevelSet(pSAIDT.LsTBO);\n",
    "public void plotSF(string name){\n",
    "    List<DGField> flds= new List<DGField>();\n",
    "foreach(var field in pSAIDT.RegisteredFields){\n",
    "    if(field is XDGField xfield){\n",
    "        flds.Add(xfield.GetSpeciesShadowField(\"L\"));\n",
    "        flds.Add(xfield.GetSpeciesShadowField(\"R\"));\n",
    "        flds.Add(field);\n",
    "    }else{\n",
    "        flds.Add(field);\n",
    "    }\n",
    "}\n",
    "\n",
    "var texplot = new Tecplot(flds[0].GridDat, 2);\n",
    "texplot.PlotFields( name,0.0,flds);\n",
    "}\n",
    "plotSF(\"CGLevelSet\");"
   ]
  },
  {
   "cell_type": "code",
   "execution_count": 13,
   "metadata": {
    "dotnet_interactive": {
     "language": "csharp"
    },
    "polyglot_notebook": {
     "kernelName": "csharp"
    }
   },
   "outputs": [],
   "source": [
    "var si= database.Sessions.Pick(0);\n",
    "pSAIDT.PlotShadowFields(si);"
   ]
  },
  {
   "cell_type": "code",
   "execution_count": 14,
   "metadata": {
    "dotnet_interactive": {
     "language": "csharp"
    },
    "polyglot_notebook": {
     "kernelName": "csharp"
    }
   },
   "outputs": [],
   "source": [
    "using System.IO;\n",
    "static void AppendRowToCSV(string filePath, double[] rowData)\n",
    "    {\n",
    "        // Create a StreamWriter in append mode to append rows to the CSV file\n",
    "        using (StreamWriter writer = new StreamWriter(filePath, true))\n",
    "        {\n",
    "            int cols = rowData.Length;\n",
    "\n",
    "            // Write double values of the new row to the file\n",
    "            for (int i = 0; i < cols; i++)\n",
    "            {\n",
    "                writer.Write(rowData[i]);\n",
    "\n",
    "                // Add a comma after each value except for the last one in a row\n",
    "                if (i < cols - 1)\n",
    "                {\n",
    "                    writer.Write(\";\");\n",
    "                }\n",
    "            }\n",
    "\n",
    "            // Move to the next line after writing the row\n",
    "            writer.WriteLine();\n",
    "        }\n",
    "    }\n",
    "    static void WriteCSV(string filePath, string[] data)\n",
    "    {\n",
    "        // Create a StreamWriter to write to the CSV file\n",
    "        using (StreamWriter writer = new StreamWriter(filePath))\n",
    "        {\n",
    "            int cols = data.Length;\n",
    "\n",
    "            // Loop through the data array and write to the file\n",
    "                for (int j = 0; j < cols; j++)\n",
    "                {\n",
    "                    // Write each cell value to the file\n",
    "                    writer.Write(data[ j]);\n",
    "\n",
    "                    // Add a comma after each cell value except for the last one in a row\n",
    "                    if (j < cols - 1)\n",
    "                    {\n",
    "                        writer.Write(\";\");\n",
    "                    }\n",
    "                }\n",
    "\n",
    "                // Move to the next line after each row\n",
    "                writer.WriteLine();\n",
    "            \n",
    "        }\n",
    "    }\n",
    "    static void DeleteCSVFiles()\n",
    "    {\n",
    "        try\n",
    "        {\n",
    "            // Get all CSV files in the specified directory\n",
    "            string[] csvFiles = Directory.GetFiles(\"*.csv\");\n",
    "\n",
    "            // Delete each CSV file\n",
    "            foreach (string file in csvFiles)\n",
    "            {\n",
    "                File.Delete(file);\n",
    "                Console.WriteLine($\"Deleted: {file}\");\n",
    "            }\n",
    "        }\n",
    "        catch (Exception ex)\n",
    "        {\n",
    "            Console.WriteLine($\"Error deleting CSV files: {ex.Message}\");\n",
    "        }\n",
    "    }"
   ]
  },
  {
   "cell_type": "markdown",
   "metadata": {},
   "source": [
    "## Measure wall-clock time for computation of sensitivities and residuals "
   ]
  },
  {
   "cell_type": "code",
   "execution_count": 15,
   "metadata": {
    "dotnet_interactive": {
     "language": "csharp"
    },
    "polyglot_notebook": {
     "kernelName": "csharp"
    }
   },
   "outputs": [],
   "source": [
    "using System.Diagnostics;\n",
    "BoSSS.Solution.Application.InitMPI();\n",
    "DeleteCSVFiles();\n",
    "\n",
    "int nRefs=4;\n",
    "var optLsTypes=new OptiLevelSetType[] {OptiLevelSetType.SinglePhaseField,OptiLevelSetType.SplineLevelSet,OptiLevelSetType.SpecFemField};\n",
    "var CellsVsRuntime_dRdPhi = MultidimensionalArray.Create(nRefs,optLsTypes.Length +1);\n",
    "var CellsVsRuntime_Residuals = MultidimensionalArray.Create(nRefs,optLsTypes.Length +1);\n",
    "var CellsVsRuntime_dRdU = MultidimensionalArray.Create(nRefs,optLsTypes.Length +1);\n",
    "string[] stringArray = new string[] { \"nCells\" }.Concat(optLsTypes.Select(x => x.ToString())).ToArray();\n",
    "\n",
    "//Create files for results\n",
    "string filePathdRdPhi = \"TimeDRdPhi.csv\";\n",
    "string filePathdRdU = \"TimedRdU.csv\";\n",
    "string filePathResiduals = \"TimeResiduals.csv\";\n",
    "string filePathDOFs = \"DOFs.csv\";\n",
    "WriteCSV(filePathdRdPhi,stringArray);\n",
    "WriteCSV(filePathdRdU,stringArray);\n",
    "WriteCSV(filePathResiduals,stringArray);\n",
    "WriteCSV(filePathDOFs,stringArray);\n",
    "\n",
    "for(int n =0; n< nRefs;n++){\n",
    "    //counter for level set type\n",
    "    int iLS=1;\n",
    "    //save cell resolution\n",
    "    int reso= (int) Math.Pow(2,n+1);\n",
    "    CellsVsRuntime_dRdPhi[n,0]=reso*reso;\n",
    "    double[] dRdPhiResults= new double[optLsTypes.Length +1];\n",
    "    dRdPhiResults[0]=reso*reso;\n",
    "    double[] dRdUResults=dRdPhiResults.CloneAs();\n",
    "    double[] resiudalResults=dRdPhiResults.CloneAs();\n",
    "    double[] DOFs=dRdPhiResults.CloneAs();\n",
    "    foreach(OptiLevelSetType lstype in optLsTypes){\n",
    "        var pSAIDT = new SAIDTMain();\n",
    "        var CSAIDT = SAIDTHardCodedControl.StraightShock(\n",
    "                            dbPath: null,\n",
    "                            MaxIterations: 1,\n",
    "                            dgDegree: 0,\n",
    "                            numOfCellsX: reso,\n",
    "                            numOfCellsY: reso,\n",
    "                            OptiNumOfCellsX: reso,\n",
    "                            OptiNumOfCellsY: reso,\n",
    "                            agg: 0.4,\n",
    "                            ImmediatePlotPeriod: -1,\n",
    "                            optiLevelSetType: lstype,\n",
    "                            LSDegree: 3,\n",
    "                            isFarConfig:true);\n",
    "\n",
    "        pSAIDT.Init(CSAIDT);    \n",
    "        pSAIDT.InitializeEverything();\n",
    "        //pSAIDT.RunSolverMode();\n",
    "\n",
    "        //Measure time for creation of Jacobians dRdPhi\n",
    "        Stopwatch stopwatch = new Stopwatch();stopwatch.Start();\n",
    "        pSAIDT.FD_LevelSet();\n",
    "        stopwatch.Stop();\n",
    "        CellsVsRuntime_dRdPhi[n,iLS] =stopwatch.ElapsedMilliseconds;\n",
    "        dRdPhiResults[iLS]=stopwatch.ElapsedMilliseconds;\n",
    "\n",
    "        //Measure time for creation of Jacobians dRdU\n",
    "        stopwatch = new Stopwatch();stopwatch.Start();\n",
    "        pSAIDT.Oproblem.GetJacobians(pSAIDT.ConservativeFields, pSAIDT.XSpatialOperator.LinearizationHint);\n",
    "        stopwatch.Stop(); \n",
    "        CellsVsRuntime_dRdU[n,iLS] =stopwatch.ElapsedMilliseconds;\n",
    "        dRdUResults[iLS]=stopwatch.ElapsedMilliseconds;\n",
    "\n",
    "        //Measure time for evaluation of the Residuals\n",
    "        stopwatch = new Stopwatch();stopwatch.Start();\n",
    "        pSAIDT.ComputeResiduals();\n",
    "        stopwatch.Stop(); Console.WriteLine(\"Elapsed Time: \" + stopwatch.ElapsedMilliseconds + \"ms\");\n",
    "        CellsVsRuntime_Residuals[n,iLS] =stopwatch.ElapsedMilliseconds;\n",
    "        resiudalResults[iLS]=stopwatch.ElapsedMilliseconds;\n",
    "\n",
    "        DOFs[iLS]=pSAIDT.LevelSetOpti.GetLength();\n",
    "\n",
    "        iLS++;\n",
    "    }\n",
    "    // Append the new row to the existing CSV file\n",
    "    AppendRowToCSV(filePathdRdPhi, dRdPhiResults);\n",
    "    AppendRowToCSV(filePathdRdU, dRdUResults);\n",
    "    AppendRowToCSV(filePathResiduals, resiudalResults);\n",
    "    AppendRowToCSV(filePathDOFs, DOFs);\n",
    "}"
   ]
  },
  {
   "cell_type": "code",
   "execution_count": 16,
   "metadata": {
    "dotnet_interactive": {
     "language": "csharp"
    },
    "polyglot_notebook": {
     "kernelName": "csharp"
    }
   },
   "outputs": [],
   "source": [
    "public PlotFormat GetFormat(int count){\n",
    "    \n",
    "    var allPT = new BoSSS.Solution.Gnuplot.PointTypes[] { PointTypes.Diamond, PointTypes.LowerTriangle, PointTypes.Circle, PointTypes.OpenDiamond, PointTypes.OpenLowerTriangle, PointTypes.OpenCircle,PointTypes.Diamond, PointTypes.LowerTriangle, PointTypes.Circle, PointTypes.OpenDiamond, PointTypes.OpenLowerTriangle, PointTypes.OpenCircle, PointTypes.Circle, PointTypes.OpenDiamond, PointTypes.OpenLowerTriangle, PointTypes.OpenCircle, PointTypes.Circle, PointTypes.OpenDiamond, PointTypes.OpenLowerTriangle, PointTypes.OpenCircle, PointTypes.Circle, PointTypes.OpenDiamond, PointTypes.OpenLowerTriangle, PointTypes.OpenCircle};\n",
    "    var allC = new BoSSS.Solution.Gnuplot.LineColors[] { LineColors.Blue, LineColors.Black, LineColors.Red,LineColors.Blue, LineColors.Black, LineColors.Red, LineColors.Red,LineColors.Blue, LineColors.Black, LineColors.Red, LineColors.Red,LineColors.Blue, LineColors.Black, LineColors.Red, LineColors.Red,LineColors.Blue, LineColors.Black, LineColors.Red, LineColors.Red, LineColors.Red,LineColors.Blue, LineColors.Black, LineColors.Red};\n",
    "    var Fmt = new PlotFormat();\n",
    "    Fmt.PointSize = 0.8;\n",
    "    Fmt.LineWidth = 1;    \n",
    "    Fmt.Style     = Styles.LinesPoints;\n",
    "\n",
    "    Fmt.LineColor = allC[count];\n",
    "    Fmt.PointType =  allPT[count];\n",
    "    return Fmt;\n",
    "}"
   ]
  },
  {
   "cell_type": "code",
   "execution_count": 17,
   "metadata": {
    "dotnet_interactive": {
     "language": "csharp"
    },
    "polyglot_notebook": {
     "kernelName": "csharp"
    }
   },
   "outputs": [
    {
     "data": {
      "text/html": [
       "<details open=\"open\" class=\"dni-treeview\"><summary><span class=\"dni-code-hint\"><code>4 1087 174 911\\r\\n16 5625 388 3309\\r\\n64 29468 1001 19166\\r\\n256 242434 3516 166633</code></span></summary><div><table><thead><tr></tr></thead><tbody><tr><td>Dimension</td><td>2</td></tr><tr><td>Lengths</td><td>[ 4, 4 ]</td></tr><tr><td>Storage</td><td>[ 4, 1087, 174, 911, 16, 5625, 388, 3309, 64, 29468, 1001, 19166, 256, 242434, 3516, 166633 ]</td></tr><tr><td>IsContinuous</td><td>True</td></tr><tr><td>StructureType</td><td>General</td></tr><tr><td>Length</td><td>16</td></tr><tr><td>NoOfCols</td><td>4</td></tr><tr><td>NoOfRows</td><td>4</td></tr><tr><td>IsLocked</td><td>False</td></tr></tbody></table></div></details><style>\r\n",
       ".dni-code-hint {\r\n",
       "    font-style: italic;\r\n",
       "    overflow: hidden;\r\n",
       "    white-space: nowrap;\r\n",
       "}\r\n",
       ".dni-treeview {\r\n",
       "    white-space: nowrap;\r\n",
       "}\r\n",
       ".dni-treeview td {\r\n",
       "    vertical-align: top;\r\n",
       "    text-align: start;\r\n",
       "}\r\n",
       "details.dni-treeview {\r\n",
       "    padding-left: 1em;\r\n",
       "}\r\n",
       "table td {\r\n",
       "    text-align: start;\r\n",
       "}\r\n",
       "table tr { \r\n",
       "    vertical-align: top; \r\n",
       "    margin: 0em 0px;\r\n",
       "}\r\n",
       "table tr td pre \r\n",
       "{ \r\n",
       "    vertical-align: top !important; \r\n",
       "    margin: 0em 0px !important;\r\n",
       "} \r\n",
       "table th {\r\n",
       "    text-align: start;\r\n",
       "}\r\n",
       "</style>"
      ]
     },
     "metadata": {},
     "output_type": "display_data"
    }
   ],
   "source": [
    "CellsVsRuntime_dRdPhi"
   ]
  },
  {
   "cell_type": "code",
   "execution_count": 18,
   "metadata": {
    "dotnet_interactive": {
     "language": "csharp"
    },
    "polyglot_notebook": {
     "kernelName": "csharp"
    }
   },
   "outputs": [
    {
     "data": {
      "text/html": [
       "<?xml version=\"1.0\" encoding=\"utf-8\"  standalone=\"no\"?>\n",
       "<!DOCTYPE svg PUBLIC \"-//W3C//DTD SVG 1.1//EN\"\n",
       " \"http://www.w3.org/Graphics/SVG/1.1/DTD/svg11.dtd\">\n",
       "<svg \n",
       " width=\"1200\" height=\"600\"\n",
       " viewBox=\"0 0 1200 600\"\n",
       " xmlns=\"http://www.w3.org/2000/svg\"\n",
       " xmlns:xlink=\"http://www.w3.org/1999/xlink\"\n",
       ">\n",
       "\n",
       "<title>Gnuplot</title>\n",
       "<desc>Produced by GNUPLOT 5.1 patchlevel 0 </desc>\n",
       "\n",
       "<g id=\"gnuplot_canvas\">\n",
       "\n",
       "<rect x=\"0\" y=\"0\" width=\"1200\" height=\"600\" fill=\"#ffffff\"/>\n",
       "<defs>\n",
       "\n",
       "\t<circle id='gpDot' r='0.5' stroke-width='0.5'/>\n",
       "\t<path id='gpPt0' stroke-width='0.222' stroke='currentColor' d='M-1,0 h2 M0,-1 v2'/>\n",
       "\t<path id='gpPt1' stroke-width='0.222' stroke='currentColor' d='M-1,-1 L1,1 M1,-1 L-1,1'/>\n",
       "\t<path id='gpPt2' stroke-width='0.222' stroke='currentColor' d='M-1,0 L1,0 M0,-1 L0,1 M-1,-1 L1,1 M-1,1 L1,-1'/>\n",
       "\t<rect id='gpPt3' stroke-width='0.222' stroke='currentColor' x='-1' y='-1' width='2' height='2'/>\n",
       "\t<rect id='gpPt4' stroke-width='0.222' stroke='currentColor' fill='currentColor' x='-1' y='-1' width='2' height='2'/>\n",
       "\t<circle id='gpPt5' stroke-width='0.222' stroke='currentColor' cx='0' cy='0' r='1'/>\n",
       "\t<use xlink:href='#gpPt5' id='gpPt6' fill='currentColor' stroke='none'/>\n",
       "\t<path id='gpPt7' stroke-width='0.222' stroke='currentColor' d='M0,-1.33 L-1.33,0.67 L1.33,0.67 z'/>\n",
       "\t<use xlink:href='#gpPt7' id='gpPt8' fill='currentColor' stroke='none'/>\n",
       "\t<use xlink:href='#gpPt7' id='gpPt9' stroke='currentColor' transform='rotate(180)'/>\n",
       "\t<use xlink:href='#gpPt9' id='gpPt10' fill='currentColor' stroke='none'/>\n",
       "\t<use xlink:href='#gpPt3' id='gpPt11' stroke='currentColor' transform='rotate(45)'/>\n",
       "\t<use xlink:href='#gpPt11' id='gpPt12' fill='currentColor' stroke='none'/>\n",
       "\t<path id='gpPt13' stroke-width='0.222' stroke='currentColor' d='M0,1.330 L1.265,0.411 L0.782,-1.067 L-0.782,-1.076 L-1.265,0.411 z'/>\n",
       "\t<use xlink:href='#gpPt13' id='gpPt14' fill='currentColor' stroke='none'/>\n",
       "\t<filter id='textbox' filterUnits='objectBoundingBox' x='0' y='0' height='1' width='1'>\n",
       "\t  <feFlood flood-color='#FFFFFF' flood-opacity='1' result='bgnd'/>\n",
       "\t  <feComposite in='SourceGraphic' in2='bgnd' operator='atop'/>\n",
       "\t</filter>\n",
       "\t<filter id='greybox' filterUnits='objectBoundingBox' x='0' y='0' height='1' width='1'>\n",
       "\t  <feFlood flood-color='lightgrey' flood-opacity='1' result='grey'/>\n",
       "\t  <feComposite in='SourceGraphic' in2='grey' operator='atop'/>\n",
       "\t</filter>\n",
       "</defs>\n",
       "<g fill=\"none\" color=\"#FFFFFF\" stroke=\"currentColor\" stroke-width=\"1.00\" stroke-linecap=\"butt\" stroke-linejoin=\"miter\">\n",
       "</g>\n",
       "<g fill=\"none\" color=\"black\" stroke=\"currentColor\" stroke-width=\"1.00\" stroke-linecap=\"butt\" stroke-linejoin=\"miter\">\n",
       "\t<path stroke='black'  d='M37.3,542.4 L46.3,542.4 M1150.1,542.4 L1141.1,542.4  '/>\t<g transform=\"translate(29.0,548.4)\" stroke=\"none\" fill=\"black\" font-family=\"sans\" font-size=\"16.00\"  text-anchor=\"end\">\n",
       "\t\t<text><tspan font-family=\"sans\" >10</tspan><tspan font-family=\"sans\"  font-size=\"12.8\" dy=\"-8.00px\">2</tspan><tspan font-size=\"16.0\" dy=\"8.00\"></tspan></text>\n",
       "\t</g>\n",
       "</g>\n",
       "<g fill=\"none\" color=\"black\" stroke=\"currentColor\" stroke-width=\"1.00\" stroke-linecap=\"butt\" stroke-linejoin=\"miter\">\n",
       "\t<path stroke='black'  d='M37.3,504.3 L41.8,504.3 M1150.1,504.3 L1145.6,504.3 M37.3,482.0 L41.8,482.0 M1150.1,482.0 L1145.6,482.0\n",
       "\t\tM37.3,466.2 L41.8,466.2 M1150.1,466.2 L1145.6,466.2 M37.3,453.9 L41.8,453.9 M1150.1,453.9 L1145.6,453.9\n",
       "\t\tM37.3,443.9 L41.8,443.9 M1150.1,443.9 L1145.6,443.9 M37.3,435.4 L41.8,435.4 M1150.1,435.4 L1145.6,435.4\n",
       "\t\tM37.3,428.1 L41.8,428.1 M1150.1,428.1 L1145.6,428.1 M37.3,421.6 L41.8,421.6 M1150.1,421.6 L1145.6,421.6\n",
       "\t\tM37.3,415.8 L46.3,415.8 M1150.1,415.8 L1141.1,415.8  '/>\t<g transform=\"translate(29.0,421.8)\" stroke=\"none\" fill=\"black\" font-family=\"sans\" font-size=\"16.00\"  text-anchor=\"end\">\n",
       "\t\t<text><tspan font-family=\"sans\" >10</tspan><tspan font-family=\"sans\"  font-size=\"12.8\" dy=\"-8.00px\">3</tspan><tspan font-size=\"16.0\" dy=\"8.00\"></tspan></text>\n",
       "\t</g>\n",
       "</g>\n",
       "<g fill=\"none\" color=\"black\" stroke=\"currentColor\" stroke-width=\"1.00\" stroke-linecap=\"butt\" stroke-linejoin=\"miter\">\n",
       "\t<path stroke='black'  d='M37.3,377.7 L41.8,377.7 M1150.1,377.7 L1145.6,377.7 M37.3,355.4 L41.8,355.4 M1150.1,355.4 L1145.6,355.4\n",
       "\t\tM37.3,339.6 L41.8,339.6 M1150.1,339.6 L1145.6,339.6 M37.3,327.4 L41.8,327.4 M1150.1,327.4 L1145.6,327.4\n",
       "\t\tM37.3,317.3 L41.8,317.3 M1150.1,317.3 L1145.6,317.3 M37.3,308.9 L41.8,308.9 M1150.1,308.9 L1145.6,308.9\n",
       "\t\tM37.3,301.5 L41.8,301.5 M1150.1,301.5 L1145.6,301.5 M37.3,295.0 L41.8,295.0 M1150.1,295.0 L1145.6,295.0\n",
       "\t\tM37.3,289.2 L46.3,289.2 M1150.1,289.2 L1141.1,289.2  '/>\t<g transform=\"translate(29.0,295.2)\" stroke=\"none\" fill=\"black\" font-family=\"sans\" font-size=\"16.00\"  text-anchor=\"end\">\n",
       "\t\t<text><tspan font-family=\"sans\" >10</tspan><tspan font-family=\"sans\"  font-size=\"12.8\" dy=\"-8.00px\">4</tspan><tspan font-size=\"16.0\" dy=\"8.00\"></tspan></text>\n",
       "\t</g>\n",
       "</g>\n",
       "<g fill=\"none\" color=\"black\" stroke=\"currentColor\" stroke-width=\"1.00\" stroke-linecap=\"butt\" stroke-linejoin=\"miter\">\n",
       "\t<path stroke='black'  d='M37.3,251.1 L41.8,251.1 M1150.1,251.1 L1145.6,251.1 M37.3,228.9 L41.8,228.9 M1150.1,228.9 L1145.6,228.9\n",
       "\t\tM37.3,213.0 L41.8,213.0 M1150.1,213.0 L1145.6,213.0 M37.3,200.8 L41.8,200.8 M1150.1,200.8 L1145.6,200.8\n",
       "\t\tM37.3,190.8 L41.8,190.8 M1150.1,190.8 L1145.6,190.8 M37.3,182.3 L41.8,182.3 M1150.1,182.3 L1145.6,182.3\n",
       "\t\tM37.3,174.9 L41.8,174.9 M1150.1,174.9 L1145.6,174.9 M37.3,168.5 L41.8,168.5 M1150.1,168.5 L1145.6,168.5\n",
       "\t\tM37.3,162.7 L46.3,162.7 M1150.1,162.7 L1141.1,162.7  '/>\t<g transform=\"translate(29.0,168.7)\" stroke=\"none\" fill=\"black\" font-family=\"sans\" font-size=\"16.00\"  text-anchor=\"end\">\n",
       "\t\t<text><tspan font-family=\"sans\" >10</tspan><tspan font-family=\"sans\"  font-size=\"12.8\" dy=\"-8.00px\">5</tspan><tspan font-size=\"16.0\" dy=\"8.00\"></tspan></text>\n",
       "\t</g>\n",
       "</g>\n",
       "<g fill=\"none\" color=\"black\" stroke=\"currentColor\" stroke-width=\"1.00\" stroke-linecap=\"butt\" stroke-linejoin=\"miter\">\n",
       "\t<path stroke='black'  d='M37.3,124.6 L41.8,124.6 M1150.1,124.6 L1145.6,124.6 M37.3,102.3 L41.8,102.3 M1150.1,102.3 L1145.6,102.3\n",
       "\t\tM37.3,86.5 L41.8,86.5 M1150.1,86.5 L1145.6,86.5 M37.3,74.2 L41.8,74.2 M1150.1,74.2 L1145.6,74.2\n",
       "\t\tM37.3,64.2 L41.8,64.2 M1150.1,64.2 L1145.6,64.2 M37.3,55.7 L41.8,55.7 M1150.1,55.7 L1145.6,55.7\n",
       "\t\tM37.3,48.4 L41.8,48.4 M1150.1,48.4 L1145.6,48.4 M37.3,41.9 L41.8,41.9 M1150.1,41.9 L1145.6,41.9\n",
       "\t\tM37.3,36.1 L46.3,36.1 M1150.1,36.1 L1141.1,36.1  '/>\t<g transform=\"translate(29.0,42.1)\" stroke=\"none\" fill=\"black\" font-family=\"sans\" font-size=\"16.00\"  text-anchor=\"end\">\n",
       "\t\t<text><tspan font-family=\"sans\" >10</tspan><tspan font-family=\"sans\"  font-size=\"12.8\" dy=\"-8.00px\">6</tspan><tspan font-size=\"16.0\" dy=\"8.00\"></tspan></text>\n",
       "\t</g>\n",
       "</g>\n",
       "<g fill=\"none\" color=\"black\" stroke=\"currentColor\" stroke-width=\"1.00\" stroke-linecap=\"butt\" stroke-linejoin=\"miter\">\n",
       "\t<path stroke='black'  d='M37.3,542.4 L37.3,533.4 M37.3,36.1 L37.3,45.1  '/>\t<g transform=\"translate(37.3,573.6)\" stroke=\"none\" fill=\"black\" font-family=\"sans\" font-size=\"16.00\"  text-anchor=\"middle\">\n",
       "\t\t<text><tspan font-family=\"sans\" >10</tspan><tspan font-family=\"sans\"  font-size=\"12.8\" dy=\"-8.00px\">0</tspan><tspan font-size=\"16.0\" dy=\"8.00\"></tspan></text>\n",
       "\t</g>\n",
       "</g>\n",
       "<g fill=\"none\" color=\"black\" stroke=\"currentColor\" stroke-width=\"1.00\" stroke-linecap=\"butt\" stroke-linejoin=\"miter\">\n",
       "\t<path stroke='black'  d='M149.0,542.4 L149.0,537.9 M149.0,36.1 L149.0,40.6 M214.3,542.4 L214.3,537.9 M214.3,36.1 L214.3,40.6\n",
       "\t\tM260.6,542.4 L260.6,537.9 M260.6,36.1 L260.6,40.6 M296.6,542.4 L296.6,537.9 M296.6,36.1 L296.6,40.6\n",
       "\t\tM325.9,542.4 L325.9,537.9 M325.9,36.1 L325.9,40.6 M350.8,542.4 L350.8,537.9 M350.8,36.1 L350.8,40.6\n",
       "\t\tM372.3,542.4 L372.3,537.9 M372.3,36.1 L372.3,40.6 M391.3,542.4 L391.3,537.9 M391.3,36.1 L391.3,40.6\n",
       "\t\tM408.2,542.4 L408.2,533.4 M408.2,36.1 L408.2,45.1  '/>\t<g transform=\"translate(408.2,573.6)\" stroke=\"none\" fill=\"black\" font-family=\"sans\" font-size=\"16.00\"  text-anchor=\"middle\">\n",
       "\t\t<text><tspan font-family=\"sans\" >10</tspan><tspan font-family=\"sans\"  font-size=\"12.8\" dy=\"-8.00px\">1</tspan><tspan font-size=\"16.0\" dy=\"8.00\"></tspan></text>\n",
       "\t</g>\n",
       "</g>\n",
       "<g fill=\"none\" color=\"black\" stroke=\"currentColor\" stroke-width=\"1.00\" stroke-linecap=\"butt\" stroke-linejoin=\"miter\">\n",
       "\t<path stroke='black'  d='M519.9,542.4 L519.9,537.9 M519.9,36.1 L519.9,40.6 M585.2,542.4 L585.2,537.9 M585.2,36.1 L585.2,40.6\n",
       "\t\tM631.6,542.4 L631.6,537.9 M631.6,36.1 L631.6,40.6 M667.5,542.4 L667.5,537.9 M667.5,36.1 L667.5,40.6\n",
       "\t\tM696.9,542.4 L696.9,537.9 M696.9,36.1 L696.9,40.6 M721.7,542.4 L721.7,537.9 M721.7,36.1 L721.7,40.6\n",
       "\t\tM743.2,542.4 L743.2,537.9 M743.2,36.1 L743.2,40.6 M762.2,542.4 L762.2,537.9 M762.2,36.1 L762.2,40.6\n",
       "\t\tM779.2,542.4 L779.2,533.4 M779.2,36.1 L779.2,45.1  '/>\t<g transform=\"translate(779.2,573.6)\" stroke=\"none\" fill=\"black\" font-family=\"sans\" font-size=\"16.00\"  text-anchor=\"middle\">\n",
       "\t\t<text><tspan font-family=\"sans\" >10</tspan><tspan font-family=\"sans\"  font-size=\"12.8\" dy=\"-8.00px\">2</tspan><tspan font-size=\"16.0\" dy=\"8.00\"></tspan></text>\n",
       "\t</g>\n",
       "</g>\n",
       "<g fill=\"none\" color=\"black\" stroke=\"currentColor\" stroke-width=\"1.00\" stroke-linecap=\"butt\" stroke-linejoin=\"miter\">\n",
       "\t<path stroke='black'  d='M890.8,542.4 L890.8,537.9 M890.8,36.1 L890.8,40.6 M956.1,542.4 L956.1,537.9 M956.1,36.1 L956.1,40.6\n",
       "\t\tM1002.5,542.4 L1002.5,537.9 M1002.5,36.1 L1002.5,40.6 M1038.4,542.4 L1038.4,537.9 M1038.4,36.1 L1038.4,40.6\n",
       "\t\tM1067.8,542.4 L1067.8,537.9 M1067.8,36.1 L1067.8,40.6 M1092.6,542.4 L1092.6,537.9 M1092.6,36.1 L1092.6,40.6\n",
       "\t\tM1114.2,542.4 L1114.2,537.9 M1114.2,36.1 L1114.2,40.6 M1133.1,542.4 L1133.1,537.9 M1133.1,36.1 L1133.1,40.6\n",
       "\t\tM1150.1,542.4 L1150.1,533.4 M1150.1,36.1 L1150.1,45.1  '/>\t<g transform=\"translate(1150.1,573.6)\" stroke=\"none\" fill=\"black\" font-family=\"sans\" font-size=\"16.00\"  text-anchor=\"middle\">\n",
       "\t\t<text><tspan font-family=\"sans\" >10</tspan><tspan font-family=\"sans\"  font-size=\"12.8\" dy=\"-8.00px\">3</tspan><tspan font-size=\"16.0\" dy=\"8.00\"></tspan></text>\n",
       "\t</g>\n",
       "</g>\n",
       "<g fill=\"none\" color=\"black\" stroke=\"currentColor\" stroke-width=\"1.00\" stroke-linecap=\"butt\" stroke-linejoin=\"miter\">\n",
       "\t<path stroke='black'  d='M1150.1,542.4 L1141.1,542.4  '/>\t<g transform=\"translate(1158.4,546.9)\" stroke=\"none\" fill=\"black\" font-family=\"Arial\" font-size=\"12.00\"  text-anchor=\"start\">\n",
       "\t\t<text><tspan font-family=\"Arial\" > </tspan></text>\n",
       "\t</g>\n",
       "</g>\n",
       "<g fill=\"none\" color=\"black\" stroke=\"currentColor\" stroke-width=\"1.00\" stroke-linecap=\"butt\" stroke-linejoin=\"miter\">\n",
       "\t<path stroke='black'  d='M1150.1,470.1 L1141.1,470.1  '/>\t<g transform=\"translate(1158.4,474.6)\" stroke=\"none\" fill=\"black\" font-family=\"Arial\" font-size=\"12.00\"  text-anchor=\"start\">\n",
       "\t\t<text><tspan font-family=\"Arial\" > </tspan></text>\n",
       "\t</g>\n",
       "</g>\n",
       "<g fill=\"none\" color=\"black\" stroke=\"currentColor\" stroke-width=\"1.00\" stroke-linecap=\"butt\" stroke-linejoin=\"miter\">\n",
       "\t<path stroke='black'  d='M1150.1,397.7 L1141.1,397.7  '/>\t<g transform=\"translate(1158.4,402.2)\" stroke=\"none\" fill=\"black\" font-family=\"Arial\" font-size=\"12.00\"  text-anchor=\"start\">\n",
       "\t\t<text><tspan font-family=\"Arial\" > </tspan></text>\n",
       "\t</g>\n",
       "</g>\n",
       "<g fill=\"none\" color=\"black\" stroke=\"currentColor\" stroke-width=\"1.00\" stroke-linecap=\"butt\" stroke-linejoin=\"miter\">\n",
       "\t<path stroke='black'  d='M1150.1,325.4 L1141.1,325.4  '/>\t<g transform=\"translate(1158.4,329.9)\" stroke=\"none\" fill=\"black\" font-family=\"Arial\" font-size=\"12.00\"  text-anchor=\"start\">\n",
       "\t\t<text><tspan font-family=\"Arial\" > </tspan></text>\n",
       "\t</g>\n",
       "</g>\n",
       "<g fill=\"none\" color=\"black\" stroke=\"currentColor\" stroke-width=\"1.00\" stroke-linecap=\"butt\" stroke-linejoin=\"miter\">\n",
       "\t<path stroke='black'  d='M1150.1,253.1 L1141.1,253.1  '/>\t<g transform=\"translate(1158.4,257.6)\" stroke=\"none\" fill=\"black\" font-family=\"Arial\" font-size=\"12.00\"  text-anchor=\"start\">\n",
       "\t\t<text><tspan font-family=\"Arial\" > </tspan></text>\n",
       "\t</g>\n",
       "</g>\n",
       "<g fill=\"none\" color=\"black\" stroke=\"currentColor\" stroke-width=\"1.00\" stroke-linecap=\"butt\" stroke-linejoin=\"miter\">\n",
       "\t<path stroke='black'  d='M1150.1,180.8 L1141.1,180.8  '/>\t<g transform=\"translate(1158.4,185.3)\" stroke=\"none\" fill=\"black\" font-family=\"Arial\" font-size=\"12.00\"  text-anchor=\"start\">\n",
       "\t\t<text><tspan font-family=\"Arial\" > </tspan></text>\n",
       "\t</g>\n",
       "</g>\n",
       "<g fill=\"none\" color=\"black\" stroke=\"currentColor\" stroke-width=\"1.00\" stroke-linecap=\"butt\" stroke-linejoin=\"miter\">\n",
       "\t<path stroke='black'  d='M1150.1,108.4 L1141.1,108.4  '/>\t<g transform=\"translate(1158.4,112.9)\" stroke=\"none\" fill=\"black\" font-family=\"Arial\" font-size=\"12.00\"  text-anchor=\"start\">\n",
       "\t\t<text><tspan font-family=\"Arial\" > </tspan></text>\n",
       "\t</g>\n",
       "</g>\n",
       "<g fill=\"none\" color=\"black\" stroke=\"currentColor\" stroke-width=\"1.00\" stroke-linecap=\"butt\" stroke-linejoin=\"miter\">\n",
       "\t<path stroke='black'  d='M1150.1,36.1 L1141.1,36.1  '/>\t<g transform=\"translate(1158.4,40.6)\" stroke=\"none\" fill=\"black\" font-family=\"Arial\" font-size=\"12.00\"  text-anchor=\"start\">\n",
       "\t\t<text><tspan font-family=\"Arial\" > </tspan></text>\n",
       "\t</g>\n",
       "</g>\n",
       "<g fill=\"none\" color=\"black\" stroke=\"currentColor\" stroke-width=\"1.00\" stroke-linecap=\"butt\" stroke-linejoin=\"miter\">\n",
       "\t<path stroke='black'  d='M37.3,36.1 L37.3,45.1  '/>\t<g transform=\"translate(37.3,22.6)\" stroke=\"none\" fill=\"black\" font-family=\"Arial\" font-size=\"12.00\"  text-anchor=\"middle\">\n",
       "\t\t<text><tspan font-family=\"Arial\" > </tspan></text>\n",
       "\t</g>\n",
       "</g>\n",
       "<g fill=\"none\" color=\"black\" stroke=\"currentColor\" stroke-width=\"1.00\" stroke-linecap=\"butt\" stroke-linejoin=\"miter\">\n",
       "\t<path stroke='black'  d='M148.6,36.1 L148.6,45.1  '/>\t<g transform=\"translate(148.6,22.6)\" stroke=\"none\" fill=\"black\" font-family=\"Arial\" font-size=\"12.00\"  text-anchor=\"middle\">\n",
       "\t\t<text><tspan font-family=\"Arial\" > </tspan></text>\n",
       "\t</g>\n",
       "</g>\n",
       "<g fill=\"none\" color=\"black\" stroke=\"currentColor\" stroke-width=\"1.00\" stroke-linecap=\"butt\" stroke-linejoin=\"miter\">\n",
       "\t<path stroke='black'  d='M259.9,36.1 L259.9,45.1  '/>\t<g transform=\"translate(259.9,22.6)\" stroke=\"none\" fill=\"black\" font-family=\"Arial\" font-size=\"12.00\"  text-anchor=\"middle\">\n",
       "\t\t<text><tspan font-family=\"Arial\" > </tspan></text>\n",
       "\t</g>\n",
       "</g>\n",
       "<g fill=\"none\" color=\"black\" stroke=\"currentColor\" stroke-width=\"1.00\" stroke-linecap=\"butt\" stroke-linejoin=\"miter\">\n",
       "\t<path stroke='black'  d='M371.1,36.1 L371.1,45.1  '/>\t<g transform=\"translate(371.1,22.6)\" stroke=\"none\" fill=\"black\" font-family=\"Arial\" font-size=\"12.00\"  text-anchor=\"middle\">\n",
       "\t\t<text><tspan font-family=\"Arial\" > </tspan></text>\n",
       "\t</g>\n",
       "</g>\n",
       "<g fill=\"none\" color=\"black\" stroke=\"currentColor\" stroke-width=\"1.00\" stroke-linecap=\"butt\" stroke-linejoin=\"miter\">\n",
       "\t<path stroke='black'  d='M482.4,36.1 L482.4,45.1  '/>\t<g transform=\"translate(482.4,22.6)\" stroke=\"none\" fill=\"black\" font-family=\"Arial\" font-size=\"12.00\"  text-anchor=\"middle\">\n",
       "\t\t<text><tspan font-family=\"Arial\" > </tspan></text>\n",
       "\t</g>\n",
       "</g>\n",
       "<g fill=\"none\" color=\"black\" stroke=\"currentColor\" stroke-width=\"1.00\" stroke-linecap=\"butt\" stroke-linejoin=\"miter\">\n",
       "\t<path stroke='black'  d='M593.7,36.1 L593.7,45.1  '/>\t<g transform=\"translate(593.7,22.6)\" stroke=\"none\" fill=\"black\" font-family=\"Arial\" font-size=\"12.00\"  text-anchor=\"middle\">\n",
       "\t\t<text><tspan font-family=\"Arial\" > </tspan></text>\n",
       "\t</g>\n",
       "</g>\n",
       "<g fill=\"none\" color=\"black\" stroke=\"currentColor\" stroke-width=\"1.00\" stroke-linecap=\"butt\" stroke-linejoin=\"miter\">\n",
       "\t<path stroke='black'  d='M705.0,36.1 L705.0,45.1  '/>\t<g transform=\"translate(705.0,22.6)\" stroke=\"none\" fill=\"black\" font-family=\"Arial\" font-size=\"12.00\"  text-anchor=\"middle\">\n",
       "\t\t<text><tspan font-family=\"Arial\" > </tspan></text>\n",
       "\t</g>\n",
       "</g>\n",
       "<g fill=\"none\" color=\"black\" stroke=\"currentColor\" stroke-width=\"1.00\" stroke-linecap=\"butt\" stroke-linejoin=\"miter\">\n",
       "\t<path stroke='black'  d='M816.3,36.1 L816.3,45.1  '/>\t<g transform=\"translate(816.3,22.6)\" stroke=\"none\" fill=\"black\" font-family=\"Arial\" font-size=\"12.00\"  text-anchor=\"middle\">\n",
       "\t\t<text><tspan font-family=\"Arial\" > </tspan></text>\n",
       "\t</g>\n",
       "</g>\n",
       "<g fill=\"none\" color=\"black\" stroke=\"currentColor\" stroke-width=\"1.00\" stroke-linecap=\"butt\" stroke-linejoin=\"miter\">\n",
       "\t<path stroke='black'  d='M927.5,36.1 L927.5,45.1  '/>\t<g transform=\"translate(927.5,22.6)\" stroke=\"none\" fill=\"black\" font-family=\"Arial\" font-size=\"12.00\"  text-anchor=\"middle\">\n",
       "\t\t<text><tspan font-family=\"Arial\" > </tspan></text>\n",
       "\t</g>\n",
       "</g>\n",
       "<g fill=\"none\" color=\"black\" stroke=\"currentColor\" stroke-width=\"1.00\" stroke-linecap=\"butt\" stroke-linejoin=\"miter\">\n",
       "\t<path stroke='black'  d='M1038.8,36.1 L1038.8,45.1  '/>\t<g transform=\"translate(1038.8,22.6)\" stroke=\"none\" fill=\"black\" font-family=\"Arial\" font-size=\"12.00\"  text-anchor=\"middle\">\n",
       "\t\t<text><tspan font-family=\"Arial\" > </tspan></text>\n",
       "\t</g>\n",
       "</g>\n",
       "<g fill=\"none\" color=\"black\" stroke=\"currentColor\" stroke-width=\"1.00\" stroke-linecap=\"butt\" stroke-linejoin=\"miter\">\n",
       "\t<path stroke='black'  d='M1150.1,36.1 L1150.1,45.1  '/>\t<g transform=\"translate(1150.1,22.6)\" stroke=\"none\" fill=\"black\" font-family=\"Arial\" font-size=\"12.00\"  text-anchor=\"middle\">\n",
       "\t\t<text><tspan font-family=\"Arial\" > </tspan></text>\n",
       "\t</g>\n",
       "</g>\n",
       "<g fill=\"none\" color=\"black\" stroke=\"currentColor\" stroke-width=\"1.00\" stroke-linecap=\"butt\" stroke-linejoin=\"miter\">\n",
       "</g>\n",
       "<g fill=\"none\" color=\"black\" stroke=\"currentColor\" stroke-width=\"1.00\" stroke-linecap=\"butt\" stroke-linejoin=\"miter\">\n",
       "\t<path stroke='black'  d='M37.3,36.1 L37.3,542.4 L1150.1,542.4 L1150.1,36.1 L37.3,36.1 Z  '/></g>\n",
       "<g fill=\"none\" color=\"black\" stroke=\"currentColor\" stroke-width=\"1.00\" stroke-linecap=\"butt\" stroke-linejoin=\"miter\">\n",
       "\t<g transform=\"translate(593.7,591.9)\" stroke=\"none\" fill=\"black\" font-family=\"Arial\" font-size=\"12.00\"  text-anchor=\"middle\">\n",
       "\t\t<text><tspan font-family=\"Arial\" >number of Cells</tspan></text>\n",
       "\t</g>\n",
       "</g>\n",
       "<g fill=\"none\" color=\"black\" stroke=\"currentColor\" stroke-width=\"1.00\" stroke-linecap=\"butt\" stroke-linejoin=\"miter\">\n",
       "</g>\n",
       "\t<g id=\"gnuplot_plot_1\" ><title>SinglePhaseField</title>\n",
       "<g fill=\"none\" color=\"black\" stroke=\"currentColor\" stroke-width=\"1.00\" stroke-linecap=\"butt\" stroke-linejoin=\"miter\">\n",
       "\t<g transform=\"translate(964.2,63.1)\" stroke=\"none\" fill=\"black\" font-family=\"Arial\" font-size=\"16.00\"  text-anchor=\"start\">\n",
       "\t\t<text><tspan font-family=\"Arial\" >SinglePhaseField</tspan></text>\n",
       "\t</g>\n",
       "</g>\n",
       "<g fill=\"none\" color=\"black\" stroke=\"currentColor\" stroke-width=\"1.00\" stroke-linecap=\"butt\" stroke-linejoin=\"miter\">\n",
       "\t<path stroke='rgb(  0,   0, 255)'  d='M899.7,57.1 L953.1,57.1 M260.6,411.2 L483.9,320.9 L707.3,229.8 L930.6,114.0  '/>\t<use xlink:href='#gpPt12' transform='translate(260.6,411.2) scale(3.60)' color='rgb(  0,   0, 255)'/>\n",
       "\t<use xlink:href='#gpPt12' transform='translate(483.9,320.9) scale(3.60)' color='rgb(  0,   0, 255)'/>\n",
       "\t<use xlink:href='#gpPt12' transform='translate(707.3,229.8) scale(3.60)' color='rgb(  0,   0, 255)'/>\n",
       "\t<use xlink:href='#gpPt12' transform='translate(930.6,114.0) scale(3.60)' color='rgb(  0,   0, 255)'/>\n",
       "\t<use xlink:href='#gpPt12' transform='translate(926.4,57.1) scale(3.60)' color='rgb(  0,   0, 255)'/>\n",
       "</g>\n",
       "\t</g>\n",
       "\t<g id=\"gnuplot_plot_2\" ><title>SplineLevelSet</title>\n",
       "<g fill=\"none\" color=\"black\" stroke=\"currentColor\" stroke-width=\"1.00\" stroke-linecap=\"butt\" stroke-linejoin=\"miter\">\n",
       "\t<g transform=\"translate(964.2,87.1)\" stroke=\"none\" fill=\"black\" font-family=\"Arial\" font-size=\"16.00\"  text-anchor=\"start\">\n",
       "\t\t<text><tspan font-family=\"Arial\" >SplineLevelSet</tspan></text>\n",
       "\t</g>\n",
       "</g>\n",
       "<g fill=\"none\" color=\"black\" stroke=\"currentColor\" stroke-width=\"1.00\" stroke-linecap=\"butt\" stroke-linejoin=\"miter\">\n",
       "\t<path stroke='rgb(  0,   0,   0)'  d='M899.7,81.1 L953.1,81.1 M260.6,512.0 L483.9,467.9 L707.3,415.8 L930.6,346.7  '/>\t<use xlink:href='#gpPt8' transform='translate(260.6,512.0) scale(3.60)' color='rgb(  0,   0,   0)'/>\n",
       "\t<use xlink:href='#gpPt8' transform='translate(483.9,467.9) scale(3.60)' color='rgb(  0,   0,   0)'/>\n",
       "\t<use xlink:href='#gpPt8' transform='translate(707.3,415.8) scale(3.60)' color='rgb(  0,   0,   0)'/>\n",
       "\t<use xlink:href='#gpPt8' transform='translate(930.6,346.7) scale(3.60)' color='rgb(  0,   0,   0)'/>\n",
       "\t<use xlink:href='#gpPt8' transform='translate(926.4,81.1) scale(3.60)' color='rgb(  0,   0,   0)'/>\n",
       "</g>\n",
       "\t</g>\n",
       "\t<g id=\"gnuplot_plot_3\" ><title>SpecFemField</title>\n",
       "<g fill=\"none\" color=\"black\" stroke=\"currentColor\" stroke-width=\"1.00\" stroke-linecap=\"butt\" stroke-linejoin=\"miter\">\n",
       "\t<g transform=\"translate(964.2,111.1)\" stroke=\"none\" fill=\"black\" font-family=\"Arial\" font-size=\"16.00\"  text-anchor=\"start\">\n",
       "\t\t<text><tspan font-family=\"Arial\" >SpecFemField</tspan></text>\n",
       "\t</g>\n",
       "</g>\n",
       "<g fill=\"none\" color=\"black\" stroke=\"currentColor\" stroke-width=\"1.00\" stroke-linecap=\"butt\" stroke-linejoin=\"miter\">\n",
       "\t<path stroke='rgb(255,   0,   0)'  d='M899.7,105.1 L953.1,105.1 M260.6,420.9 L483.9,350.0 L707.3,253.5 L930.6,134.6  '/>\t<use xlink:href='#gpPt6' transform='translate(260.6,420.9) scale(3.60)' color='rgb(255,   0,   0)'/>\n",
       "\t<use xlink:href='#gpPt6' transform='translate(483.9,350.0) scale(3.60)' color='rgb(255,   0,   0)'/>\n",
       "\t<use xlink:href='#gpPt6' transform='translate(707.3,253.5) scale(3.60)' color='rgb(255,   0,   0)'/>\n",
       "\t<use xlink:href='#gpPt6' transform='translate(930.6,134.6) scale(3.60)' color='rgb(255,   0,   0)'/>\n",
       "\t<use xlink:href='#gpPt6' transform='translate(926.4,105.1) scale(3.60)' color='rgb(255,   0,   0)'/>\n",
       "</g>\n",
       "\t</g>\n",
       "<g fill=\"none\" color=\"#FFFFFF\" stroke=\"rgb(255,   0,   0)\" stroke-width=\"2.00\" stroke-linecap=\"butt\" stroke-linejoin=\"miter\">\n",
       "</g>\n",
       "<g fill=\"none\" color=\"black\" stroke=\"currentColor\" stroke-width=\"2.00\" stroke-linecap=\"butt\" stroke-linejoin=\"miter\">\n",
       "</g>\n",
       "<g fill=\"none\" color=\"black\" stroke=\"black\" stroke-width=\"1.00\" stroke-linecap=\"butt\" stroke-linejoin=\"miter\">\n",
       "</g>\n",
       "<g fill=\"none\" color=\"black\" stroke=\"currentColor\" stroke-width=\"1.00\" stroke-linecap=\"butt\" stroke-linejoin=\"miter\">\n",
       "\t<path stroke='black'  d='M37.3,36.1 L37.3,542.4 L1150.1,542.4 L1150.1,36.1 L37.3,36.1 Z  '/></g>\n",
       "<g fill=\"none\" color=\"black\" stroke=\"currentColor\" stroke-width=\"1.00\" stroke-linecap=\"butt\" stroke-linejoin=\"miter\">\n",
       "</g>\n",
       "</g>\n",
       "</svg>\n",
       "\n"
      ]
     },
     "metadata": {},
     "output_type": "display_data"
    }
   ],
   "source": [
    "var plot = new Plot2Ddata();\n",
    "int count=0;\n",
    "for(int iLS=0;iLS<CellsVsRuntime_dRdPhi.Lengths[1]-1; iLS ++){\n",
    "    plot.AddDataGroup(optLsTypes[iLS].ToString(),CellsVsRuntime_dRdPhi.ExtractSubArrayShallow(-1,0).To1DArray(),CellsVsRuntime_dRdPhi.ExtractSubArrayShallow(-1,iLS+1).To1DArray(), GetFormat(count));\n",
    "    count++;\n",
    "}\n",
    "plot.Xlabel=\"number of Cells\";\n",
    "plot.LogY = true;\n",
    "plot.LogX = true;\n",
    "plot.ShowXtics = true;\n",
    "plot.ToGnuplot().PlotSVG(xRes:1200,yRes:600)"
   ]
  },
  {
   "cell_type": "code",
   "execution_count": 19,
   "metadata": {
    "dotnet_interactive": {
     "language": "csharp"
    },
    "polyglot_notebook": {
     "kernelName": "csharp"
    }
   },
   "outputs": [],
   "source": []
  }
 ],
 "metadata": {
  "kernelspec": {
   "display_name": ".NET (C#)",
   "language": "C#",
   "name": ".net-csharp"
  },
  "language_info": {
   "name": "polyglot-notebook"
  },
  "polyglot_notebook": {
   "kernelInfo": {
    "defaultKernelName": "csharp",
    "items": [
     {
      "aliases": [],
      "name": ".NET"
     },
     {
      "aliases": [
       "C#",
       "c#"
      ],
      "languageName": "C#",
      "name": "csharp"
     },
     {
      "aliases": [
       "F#",
       "f#"
      ],
      "languageName": "F#",
      "name": "fsharp"
     },
     {
      "aliases": [],
      "languageName": "HTML",
      "name": "html"
     },
     {
      "aliases": [
       "js"
      ],
      "languageName": "JavaScript",
      "name": "javascript"
     },
     {
      "aliases": [],
      "languageName": "KQL",
      "name": "kql"
     },
     {
      "aliases": [],
      "languageName": "Mermaid",
      "name": "mermaid"
     },
     {
      "aliases": [
       "powershell"
      ],
      "languageName": "PowerShell",
      "name": "pwsh"
     },
     {
      "aliases": [],
      "languageName": "SQL",
      "name": "sql"
     },
     {
      "aliases": [],
      "name": "value"
     },
     {
      "aliases": [
       "frontend"
      ],
      "name": "vscode"
     },
     {
      "aliases": [],
      "name": "webview"
     }
    ]
   }
  }
 },
 "nbformat": 4,
 "nbformat_minor": 2
}

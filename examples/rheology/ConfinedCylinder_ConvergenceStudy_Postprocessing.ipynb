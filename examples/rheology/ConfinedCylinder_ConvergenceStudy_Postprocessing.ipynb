{
 "cells": [
  {
   "attachments": {},
   "cell_type": "markdown",
   "metadata": {},
   "source": [
    "# Rheological Flow around Confined Cylinder (Part 2, Postprocessing)\n",
    "\n",
    "Results published:\n",
    "[Kikker, Kummer, Oberlack: A fully coupled high-order discontinuous Galerkin solver for viscoelastic fluid flow](https://onlinelibrary.wiley.com/doi/10.1002/fld.4950), \n",
    "see also at [tubiblio](http://tubiblio.ulb.tu-darmstadt.de/125045/)."
   ]
  },
  {
   "cell_type": "code",
   "execution_count": null,
   "metadata": {
    "dotnet_interactive": {
     "language": "csharp"
    },
    "vscode": {
     "languageId": "polyglot-notebook"
    }
   },
   "outputs": [],
   "source": [
    "#r \"BoSSSpad.dll\"\n",
    "using System;\n",
    "using System.Collections.Generic;\n",
    "using System.Linq;\n",
    "using ilPSP;\n",
    "using ilPSP.Utils;\n",
    "using BoSSS.Platform;\n",
    "using BoSSS.Platform.LinAlg;\n",
    "using BoSSS.Foundation;\n",
    "using BoSSS.Foundation.XDG;\n",
    "using BoSSS.Foundation.Grid;\n",
    "using BoSSS.Foundation.Grid.Classic;\n",
    "using BoSSS.Foundation.Grid.RefElements;\n",
    "using BoSSS.Foundation.IO;\n",
    "using BoSSS.Solution;\n",
    "using BoSSS.Solution.Control;\n",
    "using BoSSS.Solution.GridImport;\n",
    "using BoSSS.Solution.Statistic;\n",
    "using BoSSS.Solution.Utils;\n",
    "using BoSSS.Solution.AdvancedSolvers;\n",
    "using BoSSS.Solution.Gnuplot;\n",
    "using BoSSS.Application.BoSSSpad;\n",
    "using BoSSS.Application.XNSE_Solver;\n",
    "using BoSSS.Application.XNSFE_Solver;\n",
    "using static BoSSS.Application.BoSSSpad.BoSSSshell;\n",
    "Init();"
   ]
  },
  {
   "cell_type": "code",
   "execution_count": null,
   "metadata": {
    "dotnet_interactive": {
     "language": "csharp"
    },
    "vscode": {
     "languageId": "polyglot-notebook"
    }
   },
   "outputs": [],
   "source": [
    "BoSSSshell.WorkflowMgm.Init(\"ConfinedCylinder_ConvergenceStudy\");"
   ]
  },
  {
   "cell_type": "code",
   "execution_count": null,
   "metadata": {
    "dotnet_interactive": {
     "language": "csharp"
    },
    "polyglot_notebook": {
     "kernelName": "csharp"
    },
    "vscode": {
     "languageId": "polyglot-notebook"
    }
   },
   "outputs": [],
   "source": [
    "OpenOrCreateDatabase(@\"\\\\fdygitrunner\\ValidationTests\\ConfinedCylinder_ConvergenceStudy\");"
   ]
  },
  {
   "cell_type": "code",
   "execution_count": null,
   "metadata": {
    "dotnet_interactive": {
     "language": "csharp"
    },
    "vscode": {
     "languageId": "polyglot-notebook"
    }
   },
   "outputs": [],
   "source": [
    "databases"
   ]
  },
  {
   "cell_type": "code",
   "execution_count": null,
   "metadata": {
    "dotnet_interactive": {
     "language": "csharp"
    },
    "vscode": {
     "languageId": "polyglot-notebook"
    }
   },
   "outputs": [],
   "source": [
    "using BoSSS.Application.Rheology;"
   ]
  },
  {
   "cell_type": "code",
   "execution_count": null,
   "metadata": {
    "dotnet_interactive": {
     "language": "csharp"
    },
    "vscode": {
     "languageId": "polyglot-notebook"
    }
   },
   "outputs": [],
   "source": [
    "// Remark: we need to instantiate one object out of the rheology solver assembly,\n",
    "// so that the de-seialization in in below work.\n",
    "var dummy = new RheologyControl();"
   ]
  },
  {
   "attachments": {},
   "cell_type": "markdown",
   "metadata": {},
   "source": [
    "## Error Convergence Plot for Velocity\n"
   ]
  },
  {
   "cell_type": "code",
   "execution_count": null,
   "metadata": {
    "dotnet_interactive": {
     "language": "csharp"
    },
    "vscode": {
     "languageId": "polyglot-notebook"
    }
   },
   "outputs": [],
   "source": [
    "var ExpPlotS_velX = new List<Plot2Ddata>();\n",
    "int[] pOrder = new int[] {1, 2, 3, 4};"
   ]
  },
  {
   "cell_type": "code",
   "execution_count": null,
   "metadata": {
    "dotnet_interactive": {
     "language": "csharp"
    },
    "vscode": {
     "languageId": "polyglot-notebook"
    }
   },
   "outputs": [],
   "source": [
    "foreach (int p in pOrder){ // loop over polynomial degrees\n",
    "    // extract sessions with DG degree pDeg\n",
    "    //Console.WriteLine(\"order \" + p + \"...\");\n",
    "    var pDegSessions = BoSSSshell.WorkflowMgm.Sessions.Where(\n",
    "    // function which is true on all sessions we are interested in:\n",
    "    Si => Convert.ToInt32(Si.KeysAndQueries[\"DGdegree:VelocityX\"]) == p \n",
    "                           && Convert.ToDouble(Si.KeysAndQueries[\"Weissenberg\"]) == 0.2\n",
    "                           && Si.SuccessfulTermination).ToArray();\n",
    "    //Console.WriteLine(\"got the sessions.\");\n",
    "    // now , create a plot from the selected sessions :\n",
    "    Plot2Ddata pDegPlot = pDegSessions.ToEstimatedGridConvergenceData(\"VelocityX\", \n",
    "      xAxis_Is_hOrDof:false, // false selects DOFs for x- axis\n",
    "      normType:NormType.L2_approximate);\n",
    "    Plot2Ddata pDegPlot_Y = pDegSessions.ToEstimatedGridConvergenceData(\"VelocityY\", \n",
    "      xAxis_Is_hOrDof:false, // false selects DOFs for x- axis\n",
    "      normType:NormType.L2_approximate);\n",
    "    //Console.WriteLine(\"got the plots.\");\n",
    "    // Combine VelocityX and VelocityX-plot\n",
    "    int N = 3;\n",
    "    if(pDegPlot.dataGroups[0].Values.Length != N)\n",
    "        throw new Exception();\n",
    "    if(pDegPlot_Y.dataGroups[0].Values.Length != N)\n",
    "        throw new Exception();\n",
    "    \n",
    "    for(int n = 0; n < N; n++) {\n",
    "        double vx = pDegPlot.dataGroups[0].Values[n];\n",
    "        double vy = pDegPlot_Y.dataGroups[0].Values[n];\n",
    "        pDegPlot.dataGroups[0].Values[n] = Math.Sqrt(vx*vx + vy*vy);\n",
    "    }  \n",
    "\n",
    "    // remember the freshly created plot object in a list :\n",
    "    ExpPlotS_velX.Add(pDegPlot);\n",
    "    //Console.WriteLine(\"done with p = \" + p);\n",
    "}"
   ]
  },
  {
   "cell_type": "code",
   "execution_count": null,
   "metadata": {
    "dotnet_interactive": {
     "language": "csharp"
    },
    "vscode": {
     "languageId": "polyglot-notebook"
    }
   },
   "outputs": [],
   "source": [
    "ExpPlotS_velX[0].dataGroups[0].Format.PointType = PointTypes.Diamond ;\n",
    "ExpPlotS_velX[1].dataGroups[0].Format.PointType = PointTypes.Box;\n",
    "ExpPlotS_velX[2].dataGroups[0].Format.PointType = PointTypes.LowerTriangle ;\n",
    "ExpPlotS_velX[3].dataGroups[0].Format.PointType = PointTypes.Asterisk ;\n",
    "ExpPlotS_velX[0].dataGroups[0].Name = \"k = 1\";\n",
    "ExpPlotS_velX[1].dataGroups[0].Name = \"k = 2\";\n",
    "ExpPlotS_velX[2].dataGroups[0].Name = \"k = 3\";\n",
    "ExpPlotS_velX[3].dataGroups[0].Name = \"k = 4\";\n",
    "foreach (var p in ExpPlotS_velX ){\n",
    "  p.dataGroups[0].Format.PointSize = 0.8;\n",
    "  p.dataGroups[0].Format.DashType = DashTypes.Dotted ;\n",
    "  p.dataGroups[0].Format.LineWidth = 2;\n",
    "}"
   ]
  },
  {
   "cell_type": "code",
   "execution_count": null,
   "metadata": {
    "dotnet_interactive": {
     "language": "csharp"
    },
    "vscode": {
     "languageId": "polyglot-notebook"
    }
   },
   "outputs": [],
   "source": [
    "var ExpPlot_velX = ExpPlotS_velX[0]; // select 0-th object\n",
    "foreach (var p in ExpPlotS_velX.Skip (1)) { // loop over other ( skip 0-th entry )\n",
    "  ExpPlot_velX = ExpPlot_velX.Merge(p); // merge\n",
    "}"
   ]
  },
  {
   "cell_type": "code",
   "execution_count": null,
   "metadata": {
    "dotnet_interactive": {
     "language": "csharp"
    },
    "vscode": {
     "languageId": "polyglot-notebook"
    }
   },
   "outputs": [],
   "source": [
    "ExpPlot_velX.Regression()"
   ]
  },
  {
   "cell_type": "code",
   "execution_count": null,
   "metadata": {
    "dotnet_interactive": {
     "language": "csharp"
    },
    "vscode": {
     "languageId": "polyglot-notebook"
    }
   },
   "outputs": [],
   "source": [
    "var velX = ExpPlot_velX.ToGnuplot().PlotCairolatex(xSize:14,ySize:12);\n",
    "velX.SaveTo(@\"vel_Convergence.tex\");\n",
    "ExpPlot_velX.PlotNow()"
   ]
  },
  {
   "attachments": {},
   "cell_type": "markdown",
   "metadata": {},
   "source": [
    "This example is also part of the BoSSS testing framework, therefore it containes `NUnit` assertions to check the convergence slopes automatically:"
   ]
  },
  {
   "cell_type": "code",
   "execution_count": null,
   "metadata": {
    "dotnet_interactive": {
     "language": "csharp"
    },
    "vscode": {
     "languageId": "polyglot-notebook"
    }
   },
   "outputs": [],
   "source": [
    "using NUnit.Framework;"
   ]
  },
  {
   "cell_type": "code",
   "execution_count": null,
   "metadata": {
    "dotnet_interactive": {
     "language": "csharp"
    },
    "vscode": {
     "languageId": "polyglot-notebook"
    }
   },
   "outputs": [],
   "source": [
    "var reg = ExpPlot_velX.Regression();\n",
    "Assert.LessOrEqual(reg.Single(tt => tt.Key.Contains(\"1\")).Value, -1.5, \"Velocity convergence for k=1 failed\");\n",
    "Assert.LessOrEqual(reg.Single(tt => tt.Key.Contains(\"2\")).Value, -2.5, \"Velocity convergence for k=2 failed\");\n",
    "Assert.LessOrEqual(reg.Single(tt => tt.Key.Contains(\"3\")).Value, -3.5, \"Velocity convergence for k=3 failed\");\n",
    "Assert.LessOrEqual(reg.Single(tt => tt.Key.Contains(\"4\")).Value, -4.4, \"Velocity convergence for k=4 failed\");"
   ]
  },
  {
   "attachments": {},
   "cell_type": "markdown",
   "metadata": {},
   "source": [
    "## Error Convergence Plot for Pressure"
   ]
  },
  {
   "cell_type": "code",
   "execution_count": null,
   "metadata": {
    "dotnet_interactive": {
     "language": "csharp"
    },
    "vscode": {
     "languageId": "polyglot-notebook"
    }
   },
   "outputs": [],
   "source": [
    "var ExpPlotS_pres = new List<Plot2Ddata>();\n",
    "int[] pOrder2 = new int[] {0, 1, 2, 3};"
   ]
  },
  {
   "cell_type": "code",
   "execution_count": null,
   "metadata": {
    "dotnet_interactive": {
     "language": "csharp"
    },
    "vscode": {
     "languageId": "polyglot-notebook"
    }
   },
   "outputs": [],
   "source": [
    "foreach (int p in pOrder2){ // loop over polynomial degrees\n",
    "    // extract sessions with DG degree pDeg\n",
    "    var pDegSessions = BoSSSshell.WorkflowMgm.Sessions.Where(\n",
    "    // function which is true on all sessions we are interested in:\n",
    "    Si => Convert.ToInt32(Si.KeysAndQueries[\"DGdegree:Pressure\"]) == p \n",
    "                           && Convert.ToDouble(Si.KeysAndQueries[\"Weissenberg\"]) == 0.2\n",
    "                           && Si.SuccessfulTermination).ToArray();\n",
    "\n",
    "    // now , create a plot from the selected sessions :\n",
    "    // (we could also do other things )\n",
    "    Plot2Ddata pDegPlot = pDegSessions.ToEstimatedGridConvergenceData(\"Pressure\",\n",
    "      xAxis_Is_hOrDof:false, // false selects DOFs for x- axis\n",
    "      normType:NormType.L2noMean_approximate);\n",
    "\n",
    "    // remember the freshly created plot object in a list :\n",
    "    ExpPlotS_pres.Add(pDegPlot);\n",
    "}"
   ]
  },
  {
   "cell_type": "code",
   "execution_count": null,
   "metadata": {
    "dotnet_interactive": {
     "language": "csharp"
    },
    "vscode": {
     "languageId": "polyglot-notebook"
    }
   },
   "outputs": [],
   "source": [
    "ExpPlotS_pres[0].dataGroups[0].Format.PointType = PointTypes.Diamond ;\n",
    "ExpPlotS_pres[1].dataGroups[0].Format.PointType = PointTypes.Box;\n",
    "ExpPlotS_pres[2].dataGroups[0].Format.PointType = PointTypes.LowerTriangle ;\n",
    "ExpPlotS_pres[3].dataGroups[0].Format.PointType = PointTypes.Asterisk ;\n",
    "ExpPlotS_pres[0].dataGroups[0].Name = \"k = 0\";\n",
    "ExpPlotS_pres[1].dataGroups[0].Name = \"k = 1\";\n",
    "ExpPlotS_pres[2].dataGroups[0].Name = \"k = 2\";\n",
    "ExpPlotS_pres[3].dataGroups[0].Name = \"k = 3\";\n",
    "foreach (var p in ExpPlotS_pres ){\n",
    "  p.dataGroups[0].Format.PointSize = 0.8;\n",
    "  p.dataGroups[0].Format.DashType = DashTypes.Dotted ;\n",
    "  p.dataGroups[0].Format.LineWidth = 2;\n",
    "}"
   ]
  },
  {
   "cell_type": "code",
   "execution_count": null,
   "metadata": {
    "dotnet_interactive": {
     "language": "csharp"
    },
    "vscode": {
     "languageId": "polyglot-notebook"
    }
   },
   "outputs": [],
   "source": [
    "var ExpPlot_pres = ExpPlotS_pres[0]; // select 0-th object\n",
    "foreach (var p in ExpPlotS_pres.Skip (1)) { // loop over other ( skip 0-th entry )\n",
    "  ExpPlot_pres = ExpPlot_pres.Merge(p); // merge\n",
    "}"
   ]
  },
  {
   "cell_type": "code",
   "execution_count": null,
   "metadata": {
    "dotnet_interactive": {
     "language": "csharp"
    },
    "vscode": {
     "languageId": "polyglot-notebook"
    }
   },
   "outputs": [],
   "source": [
    "ExpPlot_pres.Regression()"
   ]
  },
  {
   "cell_type": "code",
   "execution_count": null,
   "metadata": {
    "dotnet_interactive": {
     "language": "csharp"
    },
    "vscode": {
     "languageId": "polyglot-notebook"
    }
   },
   "outputs": [],
   "source": [
    "var pres = ExpPlot_pres.ToGnuplot().PlotCairolatex(xSize:14,ySize:12);\n",
    "pres.SaveTo(@\"pres_Convergence.tex\");\n",
    "ExpPlot_pres.PlotNow()"
   ]
  },
  {
   "attachments": {},
   "cell_type": "markdown",
   "metadata": {},
   "source": [
    "This example is also part of the BoSSS testing framework,\n",
    "therefore it containes assertions to check the convergence slopes automatically:"
   ]
  },
  {
   "cell_type": "code",
   "execution_count": null,
   "metadata": {
    "dotnet_interactive": {
     "language": "csharp"
    },
    "vscode": {
     "languageId": "polyglot-notebook"
    }
   },
   "outputs": [],
   "source": [
    "var reg = ExpPlot_pres.Regression();\n",
    "Assert.LessOrEqual(reg.Single(tt => tt.Key.Contains(\"0\")).Value, -1, \"Pressure convergence for k=1 failed\");\n",
    "Assert.LessOrEqual(reg.Single(tt => tt.Key.Contains(\"1\")).Value, -2, \"Pressure convergence for k=2 failed\");\n",
    "Assert.LessOrEqual(reg.Single(tt => tt.Key.Contains(\"2\")).Value, -2.5, \"Pressure convergence for k=3 failed\");\n",
    "Assert.LessOrEqual(reg.Single(tt => tt.Key.Contains(\"3\")).Value, -3.5, \"Pressure convergence for k=4 failed\");"
   ]
  },
  {
   "attachments": {},
   "cell_type": "markdown",
   "metadata": {},
   "source": [
    "## Error Convergence Plot for Stress"
   ]
  },
  {
   "cell_type": "code",
   "execution_count": null,
   "metadata": {
    "dotnet_interactive": {
     "language": "csharp"
    },
    "vscode": {
     "languageId": "polyglot-notebook"
    }
   },
   "outputs": [],
   "source": [
    "var ExpPlotS_strXX = new List<Plot2Ddata>();"
   ]
  },
  {
   "cell_type": "code",
   "execution_count": null,
   "metadata": {
    "dotnet_interactive": {
     "language": "csharp"
    },
    "vscode": {
     "languageId": "polyglot-notebook"
    }
   },
   "outputs": [],
   "source": [
    "foreach (int p in pOrder){ // loop over polynomial degrees\n",
    "    // extract sessions with DG degree pDeg\n",
    "    var pDegSessions = BoSSSshell.WorkflowMgm.Sessions.Where(\n",
    "    // function which is true on all sessions we are interested in:\n",
    "    Si => Convert.ToInt32(Si.KeysAndQueries[\"DGdegree:StressXX\"]) == p \n",
    "                           && Convert.ToDouble(Si.KeysAndQueries[\"Weissenberg\"]) == 0.2\n",
    "                           && Si.SuccessfulTermination).ToArray();\n",
    "\n",
    "    // now , create a plot from the selected sessions :\n",
    "    // (we could also do other things )\n",
    "\n",
    "    Plot2Ddata pDegPlot = pDegSessions.ToEstimatedGridConvergenceData(\"StressXX\", xAxis_Is_hOrDof:false, // false selects DOFs for x- axis\n",
    "      normType:NormType.L2_approximate);\n",
    "    Plot2Ddata pDegPlot_XY = pDegSessions.ToEstimatedGridConvergenceData(\"StressXY\", xAxis_Is_hOrDof:false, // false selects DOFs for x- axis\n",
    "      normType:NormType.L2_approximate);\n",
    "    Plot2Ddata pDegPlot_YY = pDegSessions.ToEstimatedGridConvergenceData(\"StressYY\", xAxis_Is_hOrDof:false, // false selects DOFs for x- axis\n",
    "      normType:NormType.L2_approximate);\n",
    "      \n",
    "    // Combine XX-, XY- and YY-Stress-plot\n",
    "    int N = 3;\n",
    "    if(pDegPlot.dataGroups[0].Values.Length != N)\n",
    "        throw new Exception();\n",
    "    if(pDegPlot_XY.dataGroups[0].Values.Length != N)\n",
    "        throw new Exception();\n",
    "    if(pDegPlot_YY.dataGroups[0].Values.Length != N)\n",
    "        throw new Exception();    \n",
    "    for(int n = 0; n < N; n++) {\n",
    "        double sxx = pDegPlot.dataGroups[0].Values[n];\n",
    "        double sxy = pDegPlot_XY.dataGroups[0].Values[n];\n",
    "        double syy = pDegPlot_YY.dataGroups[0].Values[n];\n",
    "        pDegPlot.dataGroups[0].Values[n] = Math.Sqrt(sxx*sxx + sxy*sxy + syy*syy);\n",
    "    }    \n",
    "\n",
    "    // remember the freshly created plot object in a list :\n",
    "    ExpPlotS_strXX.Add(pDegPlot);\n",
    "}"
   ]
  },
  {
   "cell_type": "code",
   "execution_count": null,
   "metadata": {
    "dotnet_interactive": {
     "language": "csharp"
    },
    "vscode": {
     "languageId": "polyglot-notebook"
    }
   },
   "outputs": [],
   "source": [
    "ExpPlotS_strXX[0].dataGroups[0].Format.PointType = PointTypes.Diamond ;\n",
    "ExpPlotS_strXX[1].dataGroups[0].Format.PointType = PointTypes.Box;\n",
    "ExpPlotS_strXX[2].dataGroups[0].Format.PointType = PointTypes.LowerTriangle ;\n",
    "ExpPlotS_strXX[3].dataGroups[0].Format.PointType = PointTypes.Asterisk ;\n",
    "ExpPlotS_strXX[0].dataGroups[0].Name = \"k = 1\";\n",
    "ExpPlotS_strXX[1].dataGroups[0].Name = \"k = 2\";\n",
    "ExpPlotS_strXX[2].dataGroups[0].Name = \"k = 3\";\n",
    "ExpPlotS_strXX[3].dataGroups[0].Name = \"k = 4\";\n",
    "foreach (var p in ExpPlotS_strXX ){\n",
    "  p.dataGroups[0].Format.PointSize = 0.8;\n",
    "  p.dataGroups[0].Format.DashType = DashTypes.Dotted ;\n",
    "  p.dataGroups[0].Format.LineWidth = 2;\n",
    "}"
   ]
  },
  {
   "cell_type": "code",
   "execution_count": null,
   "metadata": {
    "dotnet_interactive": {
     "language": "csharp"
    },
    "vscode": {
     "languageId": "polyglot-notebook"
    }
   },
   "outputs": [],
   "source": [
    "var ExpPlot_strXX = ExpPlotS_strXX[0]; // select 0-th object\n",
    "foreach (var p in ExpPlotS_strXX.Skip (1)) { // loop over other ( skip 0-th entry )\n",
    "  ExpPlot_strXX = ExpPlot_strXX.Merge(p); // merge\n",
    "}"
   ]
  },
  {
   "cell_type": "code",
   "execution_count": null,
   "metadata": {
    "dotnet_interactive": {
     "language": "csharp"
    },
    "vscode": {
     "languageId": "polyglot-notebook"
    }
   },
   "outputs": [],
   "source": [
    "ExpPlot_strXX.Regression()"
   ]
  },
  {
   "cell_type": "code",
   "execution_count": null,
   "metadata": {
    "dotnet_interactive": {
     "language": "csharp"
    },
    "vscode": {
     "languageId": "polyglot-notebook"
    }
   },
   "outputs": [],
   "source": [
    "var strXX = ExpPlot_strXX.ToGnuplot().PlotCairolatex(xSize:14,ySize:12);\n",
    "strXX.SaveTo(@\"str_Convergence.tex\");\n",
    "ExpPlot_strXX.PlotNow()"
   ]
  },
  {
   "attachments": {},
   "cell_type": "markdown",
   "metadata": {},
   "source": [
    "This example is also part of the BoSSS testing framework, therefore it containes assertions to check the convergence slopes automatically:"
   ]
  },
  {
   "cell_type": "code",
   "execution_count": null,
   "metadata": {
    "dotnet_interactive": {
     "language": "csharp"
    },
    "vscode": {
     "languageId": "polyglot-notebook"
    }
   },
   "outputs": [],
   "source": [
    "var reg = ExpPlot_strXX.Regression();\n",
    "Assert.LessOrEqual(reg.Single(tt => tt.Key.Contains(\"1\")).Value, -1, \"Stress convergence for k=1 failed\");\n",
    "Assert.LessOrEqual(reg.Single(tt => tt.Key.Contains(\"2\")).Value, -1.5, \"Stress convergence for k=2 failed\");\n",
    "Assert.LessOrEqual(reg.Single(tt => tt.Key.Contains(\"3\")).Value, -2.5, \"Stress convergence for k=3 failed\");\n",
    "Assert.LessOrEqual(reg.Single(tt => tt.Key.Contains(\"4\")).Value, -3.5, \"Stress convergence for k=4 failed\");"
   ]
  }
 ],
 "metadata": {
  "kernelspec": {
   "display_name": ".NET (C#)",
   "language": "C#",
   "name": ".net-csharp"
  },
  "language_info": {
   "file_extension": ".cs",
   "mimetype": "text/x-csharp",
   "name": "C#",
   "pygments_lexer": "csharp",
   "version": "11.0"
  }
 },
 "nbformat": 4,
 "nbformat_minor": 4
}

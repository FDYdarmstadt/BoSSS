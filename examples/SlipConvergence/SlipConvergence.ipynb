{
 "cells": [
  {
   "cell_type": "markdown",
   "metadata": {
    "dotnet_interactive": {
     "language": "csharp"
    },
    "polyglot_notebook": {
     "kernelName": "csharp"
    }
   },
   "source": [
    "# Slip Convergence Investigation\n",
    "\n",
    "On the Setup of a planar angular interface we investigate singularities near the contact-line.  \n",
    "In dependance of the (slip) boundary conditions there should (or not) occur a singularity at the contact line.  \n",
    "The reasoning is, that if there is a singularity present, we will not observe optimal convergence.  \n",
    "However, if the introduction of slip suffices to regularize this singularity, optimal convergence should be recovered.  \n",
    "\n",
    "The interface is initialized and fixed int time, such that it exhibits a small deflection from the equilibrium contact-angle.  \n",
    "We then proceed by introducing slip on the fluid-solid interfaces aswell as the fluid-fluid interface.  \n",
    "Furthermore, the influence of evaporation is then examined. THis serves as an example, but the results are not meaningful"
   ]
  },
  {
   "cell_type": "code",
   "execution_count": null,
   "metadata": {
    "dotnet_interactive": {
     "language": "csharp"
    },
    "vscode": {
     "languageId": "polyglot-notebook"
    }
   },
   "outputs": [],
   "source": [
    "#r \"../../src/L4-application/BoSSSpad/bin/Release/net6.0/BoSSSpad.dll\"\n",
    "//#r \"../../src/L4-application/BoSSSpad/bin/Debug/net6.0/BoSSSpad.dll\"\n",
    "using System;\n",
    "using System.Data;\n",
    "using System.Collections.Generic;\n",
    "using System.Linq;\n",
    "using ilPSP;\n",
    "using ilPSP.Utils;\n",
    "using BoSSS.Platform;\n",
    "using BoSSS.Foundation;\n",
    "using BoSSS.Foundation.XDG;\n",
    "using BoSSS.Foundation.Grid;\n",
    "using BoSSS.Foundation.Grid.Classic;\n",
    "using BoSSS.Foundation.IO;\n",
    "using BoSSS.Solution;\n",
    "using BoSSS.Solution.Control;\n",
    "using BoSSS.Solution.GridImport;\n",
    "using BoSSS.Solution.Statistic;\n",
    "using BoSSS.Solution.Utils;\n",
    "using BoSSS.Solution.AdvancedSolvers;\n",
    "using BoSSS.Solution.Gnuplot;\n",
    "using BoSSS.Application.BoSSSpad;\n",
    "using BoSSS.Application.XNSE_Solver;\n",
    "using BoSSS.Application.XNSFE_Solver;\n",
    "using static BoSSS.Application.BoSSSpad.BoSSSshell;\n",
    "Init();"
   ]
  },
  {
   "cell_type": "code",
   "execution_count": null,
   "metadata": {
    "dotnet_interactive": {
     "language": "csharp"
    },
    "vscode": {
     "languageId": "polyglot-notebook"
    }
   },
   "outputs": [],
   "source": [
    "BoSSSshell.WorkflowMgm.Init(\"SlipConvergence\");\n",
    "BoSSSshell.WorkflowMgm.SetNameBasedSessionJobControlCorrelation();"
   ]
  },
  {
   "cell_type": "code",
   "execution_count": null,
   "metadata": {
    "dotnet_interactive": {
     "language": "csharp"
    },
    "vscode": {
     "languageId": "polyglot-notebook"
    }
   },
   "outputs": [],
   "source": [
    "DataTable data = new DataTable(\"ConvergenceData\");\n",
    "data.Clear();\n",
    "data.Columns.Add(\"Name\", typeof(string));\n",
    "data.Columns.Add(\"Controls\", typeof(List<XNSFE_Control>));\n",
    "data.Columns.Add(\"Timesteps\", typeof(List<ITimestepInfo>));\n",
    "data.Columns.Add(\"SessionID\", typeof(List<Guid>));\n",
    "\n",
    "data.Columns.Add(\"P-Convergence\", typeof(Dictionary<int, double>));\n",
    "data.Columns.Add(\"P-PlotData\", typeof(Plot2Ddata));\n",
    "\n",
    "data.Columns.Add(\"U-Convergence\", typeof(Dictionary<int, double>));\n",
    "data.Columns.Add(\"U-PlotData\", typeof(Plot2Ddata));\n",
    "\n",
    "data.Columns.Add(\"V-Convergence\", typeof(Dictionary<int, double>));\n",
    "data.Columns.Add(\"V-PlotData\", typeof(Plot2Ddata));\n",
    "\n",
    "data.Columns.Add(\"T-Convergence\", typeof(Dictionary<int, double>));\n",
    "data.Columns.Add(\"T-PlotData\", typeof(Plot2Ddata));"
   ]
  },
  {
   "cell_type": "code",
   "execution_count": null,
   "metadata": {
    "dotnet_interactive": {
     "language": "csharp"
    },
    "vscode": {
     "languageId": "polyglot-notebook"
    }
   },
   "outputs": [],
   "source": [
    "for(byte fs_slip = 0; fs_slip <= 2; fs_slip++){\n",
    "    for(byte ff_slip = 0; ff_slip <= 2; ff_slip++){\n",
    "        foreach(bool evap in new [] {false, true}){\n",
    "            DataRow row = data.NewRow();\n",
    "            List<XNSFE_Control> subcontrols = new List<XNSFE_Control>();\n",
    "            string name = $\"WedgeConvergence\";\n",
    "            switch(fs_slip){\n",
    "                case 0: default: name = name + \"_NoSlip\"; break;\n",
    "                case 1: name = name + \"_NavierSlip\"; break;\n",
    "                case 2: name = name + \"_FreeSlip\"; break;\n",
    "            }\n",
    "            switch(ff_slip){\n",
    "                case 0: default: name = name + \"_NoSlipInterface\"; break;\n",
    "                case 1: name = name + \"_NavierSlipInterface\"; break;\n",
    "                case 2: name = name + \"_FreeSlipInterface\"; break;\n",
    "            }\n",
    "            switch(evap){\n",
    "                case false: default: name = name + \"_Material\"; break;\n",
    "                case true: name = name + \"_Evaporation\"; break;\n",
    "            }\n",
    "            foreach(int res in new [] {1, 2, 3, 4, 5, 6}){\n",
    "                var C = BoSSS.Application.XNSFE_Solver.HardcodedControl.WedgeConvergence(2, res, fs_slip, ff_slip, evap);\n",
    "                C.SessionName = name + $\"_H{res}\";                \n",
    "                C.ProjectName = \"SlipConvergence\";\n",
    "                C.savetodb = true;\n",
    "                C.SetDatabase(BoSSSshell.WorkflowMgm.DefaultDatabase);\n",
    "                subcontrols.Add(C);\n",
    "            }\n",
    "\n",
    "            row[\"Name\"] = name;\n",
    "            row[\"Controls\"] = subcontrols;\n",
    "            data.Rows.Add(row);\n",
    "        }\n",
    "    }\n",
    "}"
   ]
  },
  {
   "cell_type": "code",
   "execution_count": null,
   "metadata": {
    "dotnet_interactive": {
     "language": "csharp"
    },
    "vscode": {
     "languageId": "polyglot-notebook"
    }
   },
   "outputs": [],
   "source": [
    "data.Rows.Count().Display();"
   ]
  },
  {
   "cell_type": "code",
   "execution_count": null,
   "metadata": {
    "dotnet_interactive": {
     "language": "csharp"
    },
    "vscode": {
     "languageId": "polyglot-notebook"
    }
   },
   "outputs": [],
   "source": [
    "BoSSSshell.WorkflowMgm.Sessions"
   ]
  },
  {
   "cell_type": "markdown",
   "metadata": {
    "dotnet_interactive": {
     "language": "csharp"
    },
    "polyglot_notebook": {
     "kernelName": "csharp"
    }
   },
   "source": [
    "Run the simulations"
   ]
  },
  {
   "cell_type": "code",
   "execution_count": null,
   "metadata": {
    "dotnet_interactive": {
     "language": "csharp"
    },
    "vscode": {
     "languageId": "polyglot-notebook"
    }
   },
   "outputs": [],
   "source": [
    "foreach(DataRow row in data.Rows){\n",
    "    foreach(XNSFE_Control C in (List<XNSFE_Control>)row[\"Controls\"]){\n",
    "        try{\n",
    "            C.FailOnSolverFail = false;\n",
    "            if(BoSSSshell.WorkflowMgm.Sessions.Where(s => s.Name == C.SessionName).Count() == 0){\n",
    "                C.Run();\n",
    "            } else{\n",
    "                $\"{C.SessionName} already computed!\".Display();\n",
    "            }\n",
    "        } catch (Exception e){\n",
    "            $\"Caught exception for {C.SessionName}\".Display();\n",
    "            e.Display();\n",
    "        } finally {\n",
    "            $\"Finished {C.SessionName}\".Display();\n",
    "        }\n",
    "    }\n",
    "}"
   ]
  },
  {
   "cell_type": "markdown",
   "metadata": {
    "dotnet_interactive": {
     "language": "csharp"
    },
    "polyglot_notebook": {
     "kernelName": "csharp"
    }
   },
   "source": [
    "Obtain convergence orders"
   ]
  },
  {
   "cell_type": "code",
   "execution_count": null,
   "metadata": {
    "dotnet_interactive": {
     "language": "csharp"
    },
    "vscode": {
     "languageId": "polyglot-notebook"
    }
   },
   "outputs": [],
   "source": [
    "foreach(DataRow row in data.Rows){\n",
    "    List<ITimestepInfo> ts = new List<ITimestepInfo>();\n",
    "    List<Guid> ids = new List<Guid>();\n",
    "\n",
    "    foreach(XNSFE_Control C in (List<XNSFE_Control>)row[\"Controls\"]){\n",
    "        var s = BoSSSshell.WorkflowMgm.Sessions.Where(s => s.Name == C.SessionName).First();\n",
    "        ts.Add(s.Timesteps.Last());\n",
    "        ids.Add(s.ID);\n",
    "    }\n",
    "\n",
    "    row[\"Timesteps\"] = ts;\n",
    "    row[\"SessionID\"] = ids;\n",
    "\n",
    "    row[\"P-PlotData\"] = ts.ToEstimatedGridConvergenceData(\"Pressure\", normType: NormType.L2_embedded);\n",
    "    row[\"P-Convergence\"] = ((Plot2Ddata)row[\"P-PlotData\"]).Regression().ToDictionary(kvp => Convert.ToInt32(kvp.Key), kvp => kvp.Value);\n",
    "\n",
    "    row[\"U-PlotData\"] = ts.ToEstimatedGridConvergenceData(\"VelocityX\", normType: NormType.L2_embedded);\n",
    "    row[\"U-Convergence\"] = ((Plot2Ddata)row[\"U-PlotData\"]).Regression().ToDictionary(kvp => Convert.ToInt32(kvp.Key), kvp => kvp.Value);\n",
    "\n",
    "    row[\"V-PlotData\"] = ts.ToEstimatedGridConvergenceData(\"VelocityY\", normType: NormType.L2_embedded);\n",
    "    row[\"V-Convergence\"] = ((Plot2Ddata)row[\"V-PlotData\"]).Regression().ToDictionary(kvp => Convert.ToInt32(kvp.Key), kvp => kvp.Value);\n",
    "\n",
    "    row[\"T-PlotData\"] = ts.ToEstimatedGridConvergenceData(\"Temperature\", normType: NormType.L2_embedded);\n",
    "    row[\"T-Convergence\"] = ((Plot2Ddata)row[\"T-PlotData\"]).Regression().ToDictionary(kvp => Convert.ToInt32(kvp.Key), kvp => kvp.Value);\n",
    "}"
   ]
  },
  {
   "cell_type": "code",
   "execution_count": null,
   "metadata": {
    "dotnet_interactive": {
     "language": "csharp"
    },
    "vscode": {
     "languageId": "polyglot-notebook"
    }
   },
   "outputs": [],
   "source": [
    "String.Format(\"{6,1} | {0,60} | {1,7} | {2,13} | {3,13} | {4,13} | {5,13}\", \"Trialname\", \"Degree\", \"P-Convergence\", \"U-Convergence\", \"V-Convergence\", \"T-Convergence\", \"#\").Display();\n",
    "int n = 0;\n",
    "foreach(DataRow row in data.Rows){\n",
    "    for(int i = 0; i < ((Dictionary<int, double>)row[\"U-Convergence\"]).Count(); i++){\n",
    "        string p = String.Format(\"{0}|{1}|{2}|{3}\", ((Dictionary<int, double>)row[\"P-Convergence\"]).Keys.ElementAt(i), ((Dictionary<int, double>)row[\"U-Convergence\"]).Keys.ElementAt(i), ((Dictionary<int, double>)row[\"V-Convergence\"]).Keys.ElementAt(i), ((Dictionary<int, double>)row[\"T-Convergence\"]).Keys.ElementAt(i));\n",
    "        String.Format(\"{6,1} | {0,60} | {1,7} | {2,13:0.0#} | {3,13:0.0#} | {4,13:0.0#} | {5,13:0.0#}\", row[\"Name\"], p, ((Dictionary<int, double>)row[\"P-Convergence\"]).Values.ElementAt(i), ((Dictionary<int, double>)row[\"U-Convergence\"]).Values.ElementAt(i), ((Dictionary<int, double>)row[\"V-Convergence\"]).Values.ElementAt(i), ((Dictionary<int, double>)row[\"T-Convergence\"]).Values.ElementAt(i), n).Display();       \n",
    "    }\n",
    "    n++;\n",
    "}"
   ]
  },
  {
   "cell_type": "code",
   "execution_count": null,
   "metadata": {
    "dotnet_interactive": {
     "language": "csharp"
    },
    "vscode": {
     "languageId": "polyglot-notebook"
    }
   },
   "outputs": [],
   "source": [
    "((Plot2Ddata)data.Rows[0][\"T-PlotData\"]).PlotNow()"
   ]
  },
  {
   "cell_type": "code",
   "execution_count": null,
   "metadata": {
    "dotnet_interactive": {
     "language": "csharp"
    },
    "vscode": {
     "languageId": "polyglot-notebook"
    }
   },
   "outputs": [],
   "source": []
  }
 ],
 "metadata": {
  "kernelspec": {
   "display_name": ".NET (C#)",
   "language": "C#",
   "name": ".net-csharp"
  },
  "polyglot_notebook": {
   "kernelInfo": {
    "defaultKernelName": "csharp",
    "items": [
     {
      "aliases": [
       "c#",
       "C#"
      ],
      "languageName": "C#",
      "name": "csharp"
     },
     {
      "aliases": [],
      "name": ".NET"
     },
     {
      "aliases": [
       "f#",
       "F#"
      ],
      "languageName": "F#",
      "name": "fsharp"
     },
     {
      "aliases": [],
      "languageName": "HTML",
      "name": "html"
     },
     {
      "aliases": [
       "js"
      ],
      "languageName": "JavaScript",
      "name": "javascript"
     },
     {
      "aliases": [],
      "languageName": "KQL",
      "name": "kql"
     },
     {
      "aliases": [],
      "languageName": "Mermaid",
      "name": "mermaid"
     },
     {
      "aliases": [
       "powershell"
      ],
      "languageName": "PowerShell",
      "name": "pwsh"
     },
     {
      "aliases": [],
      "languageName": "SQL",
      "name": "sql"
     },
     {
      "aliases": [],
      "name": "value"
     },
     {
      "aliases": [
       "frontend"
      ],
      "name": "vscode"
     },
     {
      "aliases": [],
      "name": "webview"
     }
    ]
   }
  }
 },
 "nbformat": 4,
 "nbformat_minor": 2
}

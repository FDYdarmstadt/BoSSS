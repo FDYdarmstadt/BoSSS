{
 "cells": [
  {
   "cell_type": "code",
   "execution_count": null,
   "metadata": {
    "dotnet_interactive": {
     "language": "csharp"
    },
    "vscode": {
     "languageId": "dotnet-interactive.csharp"
    }
   },
   "outputs": [],
   "source": [
    "// #r \"D:\\BoSSS2\\experimental\\public\\src\\L4-application\\BoSSSpad\\bin\\Release\\net5.0\\bossspad.dll\"\n",
    "#r \"BoSSSpad.dll\"\n",
    "using System;\n",
    "using System.Collections.Generic;\n",
    "using System.Linq;\n",
    "using System.IO;\n",
    "using System.Data;\n",
    "using System.Globalization;\n",
    "using System.Threading;\n",
    "using ilPSP;\n",
    "using ilPSP.Utils;\n",
    "using BoSSS.Platform;\n",
    "using BoSSS.Foundation;\n",
    "using BoSSS.Foundation.Grid;\n",
    "using BoSSS.Foundation.Grid.Classic;\n",
    "using BoSSS.Foundation.IO;\n",
    "using BoSSS.Solution;\n",
    "using BoSSS.Solution.Control;\n",
    "using BoSSS.Solution.GridImport;\n",
    "using BoSSS.Solution.Statistic;\n",
    "using BoSSS.Solution.Utils;\n",
    "using BoSSS.Solution.Gnuplot;\n",
    "using BoSSS.Application.BoSSSpad;\n",
    "using BoSSS.Application.XNSE_Solver;\n",
    "using static BoSSS.Application.BoSSSpad.BoSSSshell;\n",
    "using BoSSS.Foundation.Grid.RefElements;\n",
    "using BoSSS.Platform.LinAlg;\n",
    "using BoSSS.Solution.NSECommon;\n",
    "using BoSSS.Application.XNSEC;\n",
    "using NSE_SIMPLE;\n",
    "using NSE_SIMPLE.LowMach;\n",
    "using ilPSP.LinSolvers.PARDISO;\n",
    "using BoSSS.Solution.Queries;\n",
    "Init();"
   ]
  },
  {
   "cell_type": "code",
   "execution_count": null,
   "metadata": {
    "dotnet_interactive": {
     "language": "csharp"
    },
    "vscode": {
     "languageId": "dotnet-interactive.csharp"
    }
   },
   "outputs": [],
   "source": [
    "static string name = \"CTD_CONV_STUDY_PowerLaw\";"
   ]
  },
  {
   "cell_type": "code",
   "execution_count": null,
   "metadata": {
    "dotnet_interactive": {
     "language": "csharp"
    },
    "vscode": {
     "languageId": "dotnet-interactive.csharp"
    }
   },
   "outputs": [],
   "source": [
    "BoSSSshell.WorkflowMgm.Init(name);\n",
    "BoSSSshell.WorkflowMgm.SetNameBasedSessionJobControlCorrelation();"
   ]
  },
  {
   "cell_type": "code",
   "execution_count": null,
   "metadata": {
    "dotnet_interactive": {
     "language": "csharp"
    },
    "vscode": {
     "languageId": "dotnet-interactive.csharp"
    }
   },
   "outputs": [],
   "source": [
    "static var myBatch = GetDefaultQueue();\n",
    "static var myDb = BoSSSshell.WorkflowMgm.DefaultDatabase;"
   ]
  },
  {
   "cell_type": "code",
   "execution_count": null,
   "metadata": {
    "dotnet_interactive": {
     "language": "csharp"
    },
    "vscode": {
     "languageId": "dotnet-interactive.csharp"
    }
   },
   "outputs": [],
   "source": [
    "// myBatch.AllowedDatabasesPaths.Add(new AllowedDatabasesPair(myDb.Path,\"\"));"
   ]
  },
  {
   "cell_type": "code",
   "execution_count": null,
   "metadata": {
    "dotnet_interactive": {
     "language": "csharp"
    },
    "vscode": {
     "languageId": "dotnet-interactive.csharp"
    }
   },
   "outputs": [],
   "source": [
    "int[] dgDegree = new int[]{1,2,3,4};\n",
    "int[] res = new int[]{4,5,6,7};"
   ]
  },
  {
   "cell_type": "code",
   "execution_count": null,
   "metadata": {
    "dotnet_interactive": {
     "language": "csharp"
    },
    "vscode": {
     "languageId": "dotnet-interactive.csharp"
    }
   },
   "outputs": [],
   "source": [
    "Type solverXNSEC = typeof(BoSSS.Application.XNSEC.XNSEC);\n",
    "\n",
    "for (int dg = 0; dg < dgDegree.Length; dg++) {\n",
    "    for (int r = 0; r < res.Length; r++) {\n",
    "        string ending        = \"P\" + dgDegree[dg] + \"K\" + res[r];\n",
    "        string jobName       = string.Format(\"XNSEC_HEATEDCOUETTE\"+ ending);\n",
    "        string StartupString = string.Format(\"cs:BoSSS.Application.XNSEC.FullNSEControlExamples.SteadyCouetteFlowWithTemperatureGradient({0}, {1},@\\\"{2}\\\")\",  dgDegree[dg] ,  res[r], myDb.Path);\n",
    "        var oneJob           = new Job(jobName, solverXNSEC);\n",
    "        oneJob.SetControlStatement(StartupString);\n",
    "        oneJob.NumberOfMPIProcs =  r > 2? 4:4; // seems to work only with 4 cores.\n",
    "        oneJob.Activate(myBatch);\n",
    "    }\n",
    "}"
   ]
  },
  {
   "cell_type": "code",
   "execution_count": null,
   "metadata": {
    "dotnet_interactive": {
     "language": "csharp"
    },
    "vscode": {
     "languageId": "dotnet-interactive.csharp"
    }
   },
   "outputs": [],
   "source": [
    "BoSSSshell.WorkflowMgm.BlockUntilAllJobsTerminate(PollingIntervallSeconds:100);"
   ]
  },
  {
   "cell_type": "code",
   "execution_count": null,
   "metadata": {},
   "outputs": [],
   "source": [
    "var NoSuccess = wmg.AllJobs.Values.Where(job => job.Status != JobStatus.FinishedSuccessful).ToArray();\n",
    "NoSuccess"
   ]
  },
  {
   "cell_type": "code",
   "execution_count": null,
   "metadata": {},
   "outputs": [],
   "source": [
    "NUnit.Framework.Assert.Zero(NoSuccess.Count(), \"Some Jobs Failed\");"
   ]
  },
  {
   "cell_type": "code",
   "execution_count": null,
   "metadata": {},
   "outputs": [],
   "source": [
    "//foreach(var j in NoSuccess)\n",
    "//    j.DeleteOldDeploymentsAndSessions();"
   ]
  },
  {
   "cell_type": "code",
   "execution_count": null,
   "metadata": {},
   "outputs": [],
   "source": [
    "//NoSuccess[0]"
   ]
  },
  {
   "cell_type": "code",
   "execution_count": null,
   "metadata": {},
   "outputs": [],
   "source": [
    "//NoSuccess[0].GetStatus(WriteHints:true)"
   ]
  },
  {
   "cell_type": "code",
   "execution_count": null,
   "metadata": {},
   "outputs": [],
   "source": [
    "//NoSuccess[0].LatestDeployment"
   ]
  },
  {
   "cell_type": "code",
   "execution_count": null,
   "metadata": {},
   "outputs": [],
   "source": [
    "wmg.Sessions"
   ]
  },
  {
   "cell_type": "code",
   "execution_count": null,
   "metadata": {},
   "outputs": [],
   "source": []
  },
  {
   "cell_type": "code",
   "execution_count": null,
   "metadata": {
    "dotnet_interactive": {
     "language": "csharp"
    },
    "vscode": {
     "languageId": "dotnet-interactive.csharp"
    }
   },
   "outputs": [],
   "source": [
    "var Tab = BoSSSshell.WorkflowMgm.SessionTable;"
   ]
  },
  {
   "cell_type": "code",
   "execution_count": null,
   "metadata": {
    "dotnet_interactive": {
     "language": "csharp"
    },
    "vscode": {
     "languageId": "dotnet-interactive.csharp"
    }
   },
   "outputs": [],
   "source": [
    "Tab = Tab.ExtractColumns(\"DGdegree:Velocity*\",\"DGdegree:Temperature\", \"DGdegree:Pressure\",\"Grid:hMin\",\"SolL2err_u\",\"SolL2err_v\",\"SolL2err_T\",\"SolL2err_p\");\n",
    "var ErrorPlot_u = Tab.ToPlot (\"Grid:hMin\", \"SolL2err_u\",\"DGdegree:Velocity*\"); // column for grou\n",
    "var ErrorPlot_v = Tab.ToPlot (\"Grid:hMin\", \"SolL2err_v\",\"DGdegree:Velocity*\"); // column for grou\n",
    "var ErrorPlot_T = Tab.ToPlot (\"Grid:hMin\", \"SolL2err_T\",\"DGdegree:Temperature\"); // column for grou\n",
    "var ErrorPlot_p = Tab.ToPlot (\"Grid:hMin\", \"SolL2err_p\",\"DGdegree:Pressure\"); // column for grou\n",
    "ErrorPlot_u.LogX = true ;\n",
    "ErrorPlot_u.LogY = true ;\n",
    "ErrorPlot_v.LogX = true ;\n",
    "ErrorPlot_v.LogY = true ;\n",
    "ErrorPlot_T.LogX = true ;\n",
    "ErrorPlot_T.LogY = true ;\n",
    "ErrorPlot_p.LogX = true ;\n",
    "ErrorPlot_p.LogY = true ;\n",
    "\n",
    "var ConvergencePlots = new Plot2Ddata[2,2];\n",
    "ConvergencePlots[0,0] = ErrorPlot_u;\n",
    "ConvergencePlots[0,1] = ErrorPlot_v;\n",
    "ConvergencePlots[1,0] = ErrorPlot_T;\n",
    "ConvergencePlots[1,1] = ErrorPlot_p; //   pDegPlot.SaveTextFileToPublish(folderpath+\"\\\\\"+  varname + \"DG\" + pDeg, false);\n",
    "\n",
    "var gp = ConvergencePlots.ToGnuplot();\n",
    "gp.PlotSVG(xRes:1000,yRes:800)\n",
    "\n"
   ]
  },
  {
   "cell_type": "code",
   "execution_count": null,
   "metadata": {
    "dotnet_interactive": {
     "language": "csharp"
    },
    "vscode": {
     "languageId": "dotnet-interactive.csharp"
    }
   },
   "outputs": [],
   "source": [
    "bool savetoTxtFile = false;"
   ]
  },
  {
   "cell_type": "code",
   "execution_count": null,
   "metadata": {
    "dotnet_interactive": {
     "language": "csharp"
    },
    "vscode": {
     "languageId": "dotnet-interactive.csharp"
    }
   },
   "outputs": [],
   "source": [
    "// private static void ToTxtFile(string fileName, double[] x, double[] y) {\n",
    "//     if(x.Length != y.Length)\n",
    "//         throw new Exception();\n",
    "//         using (var file = new StreamWriter(fileName)) {\n",
    "//             file.Write(\"x\" + \"\\t\"+ \"y\");\n",
    "//             file.WriteLine();\n",
    "//         for(int i = 0; i< x.Length; i++){\n",
    "//             file.Write(x[i] + \"\\t\" + y[i]);\n",
    "//             file.WriteLine();\n",
    "//         }\n",
    "//     }    \n",
    "// }"
   ]
  },
  {
   "cell_type": "code",
   "execution_count": null,
   "metadata": {
    "dotnet_interactive": {
     "language": "csharp"
    },
    "vscode": {
     "languageId": "dotnet-interactive.csharp"
    }
   },
   "outputs": [],
   "source": []
  },
  {
   "cell_type": "code",
   "execution_count": null,
   "metadata": {
    "dotnet_interactive": {
     "language": "csharp"
    },
    "vscode": {
     "languageId": "dotnet-interactive.csharp"
    }
   },
   "outputs": [],
   "source": [
    "private static void ToTxtFile(string fileName, double[] x, double[] y) {\n",
    "    if(x.Length != y.Length)\n",
    "        throw new Exception();\n",
    "\n",
    "        var dummy = x.ToList();\n",
    "        dummy.Reverse();\n",
    "        var xinv2 = dummy.ToArray();\n",
    "\n",
    "        var dummy2 = y.ToList();\n",
    "        dummy2.Reverse();\n",
    "        var yinv2 = dummy2.ToArray();\n",
    "\n",
    "\n",
    "        using (var file = new StreamWriter(fileName)) {\n",
    "            file.Write(\"x\" + \"\\t\"+ \"y\");\n",
    "            file.WriteLine();\n",
    "        for(int i = 0; i< xinv2.Length; i++){\n",
    "            file.Write(xinv2[i] + \"\\t\" + yinv2[i]);\n",
    "            file.WriteLine();\n",
    "        }\n",
    "    }    \n",
    "}"
   ]
  },
  {
   "cell_type": "code",
   "execution_count": null,
   "metadata": {
    "dotnet_interactive": {
     "language": "csharp"
    },
    "vscode": {
     "languageId": "dotnet-interactive.csharp"
    }
   },
   "outputs": [],
   "source": [
    "Tab = Tab.ExtractColumns(\"DGdegree:Velocity*\",\"DGdegree:Temperature\", \"DGdegree:Pressure\",\"Grid:hMin\",\"SolL2err_u\",\"SolL2err_v\",\"SolL2err_T\",\"SolL2err_p\");\n",
    "string[] varnames = new string[]{\"VelocityX\",\"VelocityY\",\"Temperature\", \"Pressure\" };\n",
    "Plot2Ddata[,] ConvergencePlots = new Plot2Ddata[2, 2];\n",
    "\n",
    "foreach (var varname in varnames) {\n",
    "    string SolL2Err = \"\";\n",
    "    string DgDegreeStr = \"\";\n",
    "    int x = 0;\n",
    "    int y = 0;\n",
    "    switch(varname){\n",
    "        case \"VelocityX\":\n",
    "        SolL2Err = \"SolL2err_u\";\n",
    "        DgDegreeStr = \"DGdegree:Velocity*\";\n",
    "        x = 0; y = 0;\n",
    "        break;\n",
    "        case \"VelocityY\":\n",
    "        SolL2Err = \"SolL2err_v\";\n",
    "        DgDegreeStr = \"DGdegree:Velocity*\";\n",
    "        x = 1; y = 0;\n",
    "        break;\n",
    "        case \"Temperature\":\n",
    "        SolL2Err = \"SolL2err_T\";\n",
    "        DgDegreeStr = \"DGdegree:Temperature\";\n",
    "        x = 0; y = 1;\n",
    "        break;\n",
    "        case \"Pressure\":\n",
    "        SolL2Err = \"SolL2err_p\";\n",
    "        DgDegreeStr = \"DGdegree:Pressure\";\n",
    "        x = 1; y = 1;\n",
    "        break;\n",
    "    }\n",
    "\n",
    "    var ErrorPlot = Tab. ToPlot (\"Grid:hMin\",SolL2Err,DgDegreeStr); \n",
    "    ErrorPlot.LogX = true ;\n",
    "    ErrorPlot.LogY = true ;\n",
    "    ConvergencePlots[x,y] = ErrorPlot;\n",
    "    \n",
    "    // save text file for each polynomial degree.\n",
    "    foreach(var datagroup in ErrorPlot.dataGroups ){ \n",
    "        int dg =  datagroup.Name[datagroup.Name.Length-1] - '0'; \n",
    "            if(varname == \"Pressure\"){\n",
    "            dg =dg+1;\n",
    "        }\n",
    "        //string filename = folderpath + @\"\\\" + varname + \"DG\" + dg + \"Data.txt\";\n",
    "        //if(savetoTxtFile)\n",
    "        //    ToTxtFile(filename,datagroup.Abscissas,datagroup.Values);\n",
    "    }\n",
    "    \n",
    "}\n",
    "\n",
    "var gp = ConvergencePlots.ToGnuplot();\n",
    "gp.PlotSVG(xRes:1000,yRes:800)"
   ]
  },
  {
   "cell_type": "code",
   "execution_count": null,
   "metadata": {
    "dotnet_interactive": {
     "language": "csharp"
    },
    "vscode": {
     "languageId": "dotnet-interactive.csharp"
    }
   },
   "outputs": [],
   "source": []
  },
  {
   "cell_type": "code",
   "execution_count": null,
   "metadata": {
    "dotnet_interactive": {
     "language": "csharp"
    },
    "vscode": {
     "languageId": "dotnet-interactive.csharp"
    }
   },
   "outputs": [],
   "source": []
  },
  {
   "cell_type": "code",
   "execution_count": null,
   "metadata": {
    "dotnet_interactive": {
     "language": "csharp"
    },
    "vscode": {
     "languageId": "dotnet-interactive.csharp"
    }
   },
   "outputs": [],
   "source": [
    "var ErrorPlot_T = Tab. ToPlot (\"Grid:hMin\", \"SolL2err_T\",\"DGdegree:Temperature\"); // column for grou\n",
    "ErrorPlot_T.dataGroups[0].Abscissas"
   ]
  },
  {
   "cell_type": "code",
   "execution_count": null,
   "metadata": {
    "dotnet_interactive": {
     "language": "csharp"
    },
    "vscode": {
     "languageId": "dotnet-interactive.csharp"
    }
   },
   "outputs": [],
   "source": []
  },
  {
   "cell_type": "code",
   "execution_count": null,
   "metadata": {
    "dotnet_interactive": {
     "language": "csharp"
    },
    "vscode": {
     "languageId": "dotnet-interactive.csharp"
    }
   },
   "outputs": [],
   "source": [
    "// string dataPathResultsBase = @\"C:\\Users\\Gutierrez\\Documents\\data\\convergenceProblemData\\\" ;\n",
    "//string dataPathResultsBase = @\"D:\\ThesisDGCombustion\\dgcombustionthesis\\data\\ConvStudy_Couette_PowerLaw\";\n",
    "//string folderpath          = dataPathResultsBase ;// + ending +\"LowTemp\"+ @\"\\\";\n",
    "//System.IO.Directory.CreateDirectory(folderpath); // Create folder for storing data"
   ]
  }
 ],
 "metadata": {
  "interpreter": {
   "hash": "57baa5815c940fdaff4d14510622de9616cae602444507ba5d0b6727c008cbd6"
  },
  "kernelspec": {
   "display_name": ".NET (C#)",
   "language": "C#",
   "name": ".net-csharp"
  },
  "language_info": {
   "file_extension": ".cs",
   "mimetype": "text/x-csharp",
   "name": "C#",
   "pygments_lexer": "csharp",
   "version": "10.0"
  }
 },
 "nbformat": 4,
 "nbformat_minor": 4
}

{
 "cells": [
  {
   "cell_type": "code",
   "execution_count": null,
   "metadata": {
    "dotnet_interactive": {
     "language": "csharp"
    },
    "vscode": {
     "languageId": "dotnet-interactive.csharp"
    }
   },
   "outputs": [],
   "source": [
    " //#r \"D:\\BoSSS2\\experimental\\public\\src\\L4-application\\BoSSSpad\\bin\\Release\\net5.0\\bossspad.dll\"\n",
    "#r \"BoSSSpad.dll\"\n",
    "using System;\n",
    "using System.Collections.Generic;\n",
    "using System.Linq;\n",
    "using System.IO;\n",
    "using System.Data;\n",
    "using System.Globalization;\n",
    "using System.Threading;\n",
    "using ilPSP;\n",
    "using ilPSP.Utils;\n",
    "using BoSSS.Platform;\n",
    "using BoSSS.Foundation;\n",
    "using BoSSS.Foundation.Grid;\n",
    "using BoSSS.Foundation.Grid.Classic;\n",
    "using BoSSS.Foundation.IO;\n",
    "using BoSSS.Solution;\n",
    "using BoSSS.Solution.Control;\n",
    "using BoSSS.Solution.GridImport;\n",
    "using BoSSS.Solution.Statistic;\n",
    "using BoSSS.Solution.Utils;\n",
    "using BoSSS.Solution.Gnuplot;\n",
    "using BoSSS.Application.BoSSSpad;\n",
    "using BoSSS.Application.XNSE_Solver;\n",
    "using static BoSSS.Application.BoSSSpad.BoSSSshell;\n",
    "using BoSSS.Foundation.Grid.RefElements;\n",
    "using BoSSS.Platform.LinAlg;\n",
    "using BoSSS.Solution.NSECommon;\n",
    "using BoSSS.Application.XNSEC;\n",
    "using NSE_SIMPLE;\n",
    "using NSE_SIMPLE.LowMach;\n",
    "using ilPSP.LinSolvers.PARDISO;\n",
    "Init();"
   ]
  },
  {
   "cell_type": "code",
   "execution_count": null,
   "metadata": {
    "dotnet_interactive": {
     "language": "csharp"
    },
    "vscode": {
     "languageId": "dotnet-interactive.csharp"
    }
   },
   "outputs": [],
   "source": [
    "using BoSSS.Solution.Queries;"
   ]
  },
  {
   "cell_type": "code",
   "execution_count": null,
   "metadata": {
    "dotnet_interactive": {
     "language": "csharp"
    },
    "vscode": {
     "languageId": "dotnet-interactive.csharp"
    }
   },
   "outputs": [],
   "source": [
    "static string name = \"TAYLORGREENVORTEX_TEMPORALCONV_STUDY\";"
   ]
  },
  {
   "cell_type": "code",
   "execution_count": null,
   "metadata": {
    "dotnet_interactive": {
     "language": "csharp"
    },
    "vscode": {
     "languageId": "dotnet-interactive.csharp"
    }
   },
   "outputs": [],
   "source": [
    "BoSSSshell.WorkflowMgm.Init(name);"
   ]
  },
  {
   "cell_type": "code",
   "execution_count": null,
   "metadata": {
    "dotnet_interactive": {
     "language": "csharp"
    },
    "vscode": {
     "languageId": "dotnet-interactive.csharp"
    }
   },
   "outputs": [],
   "source": [
    "static var myBatch = GetDefaultQueue();\n",
    "// (myBatch as MsHPC2012Client).ComputeNodes = new string[]{\"HPCLUSTER3\"};\n",
    "static var myDb = BoSSSshell.WorkflowMgm.DefaultDatabase;\n",
    "BoSSSshell.WorkflowMgm.DefaultDatabase = myDb;"
   ]
  },
  {
   "cell_type": "code",
   "execution_count": null,
   "metadata": {
    "dotnet_interactive": {
     "language": "csharp"
    },
    "vscode": {
     "languageId": "dotnet-interactive.csharp"
    }
   },
   "outputs": [],
   "source": [
    "BoSSSshell.WorkflowMgm.DefaultDatabase = myDb;"
   ]
  },
  {
   "cell_type": "markdown",
   "metadata": {},
   "source": [
    "## Temporal convergence study"
   ]
  },
  {
   "cell_type": "code",
   "execution_count": null,
   "metadata": {
    "dotnet_interactive": {
     "language": "csharp"
    },
    "vscode": {
     "languageId": "dotnet-interactive.csharp"
    }
   },
   "outputs": [],
   "source": [
    "myBatch.AllowedDatabasesPaths.Add(new AllowedDatabasesPair(myDb.Path,\"\"));"
   ]
  },
  {
   "cell_type": "code",
   "execution_count": null,
   "metadata": {
    "dotnet_interactive": {
     "language": "csharp"
    },
    "vscode": {
     "languageId": "dotnet-interactive.csharp"
    }
   },
   "outputs": [],
   "source": [
    "\n",
    "int[] bdfOrders = new int[]{1,2,3,4};\n",
    "// double[] dts = new double[]{1/1,1.0/2,1.0/10,1.0/20,1.0/100};\n",
    "double[] dts = new double[]{1/1,1.0/2,1.0/10,1.0/20};\n",
    "\n",
    "\n",
    "int[] dgDegree = new int[]{5};\n",
    "int[] res = new int[]{30};\n",
    "double finaltime = 3;\n",
    "\n"
   ]
  },
  {
   "cell_type": "code",
   "execution_count": null,
   "metadata": {
    "dotnet_interactive": {
     "language": "csharp"
    },
    "vscode": {
     "languageId": "dotnet-interactive.csharp"
    }
   },
   "outputs": [],
   "source": [
    "Type solverXNSEC = typeof(BoSSS.Application.XNSEC.XNSEC);\n"
   ]
  },
  {
   "cell_type": "code",
   "execution_count": null,
   "metadata": {
    "dotnet_interactive": {
     "language": "csharp"
    },
    "vscode": {
     "languageId": "dotnet-interactive.csharp"
    }
   },
   "outputs": [],
   "source": [
    "for (int dg = 0; dg < dgDegree.Length; dg++) {\n",
    "    for (int r = 0; r < res.Length; r++) {\n",
    "        for (int bdf = 0; bdf < bdfOrders.Length; bdf++) {\n",
    "            for (int dt = 0; dt < dts.Length; dt++) {\n",
    "                 string ending = \"P\" + dgDegree[dg] + \"K\" + res[r] + \"dt\" + dts[dt] + \"bdf\" + bdfOrders[bdf];\n",
    "                 string jobName = string.Format(\"XNSEC_TaylorGreenVortex\" + ending);\n",
    "                 string StartupString = string.Format(\"cs:BoSSS.Application.XNSEC.FullNSEControlExamples.UnsteadyTaylorVortex({0}, {1}, {2}, {3}, @\\\"{4}\\\", {5})\", dgDegree[dg], res[r], dts[dt],bdfOrders[bdf],myDb.Path, finaltime);\n",
    "                 var oneJob = new Job(jobName, solverXNSEC);\n",
    "                 oneJob.SetControlStatement(StartupString);\n",
    "                 oneJob.NumberOfMPIProcs = 4;\n",
	"                 oneJob.NumberOfThreads = 1;\n",
    "                 oneJob.Activate(myBatch);\n",
    "            }\n",
    "        }\n",
    "    }\n",
    "}"
   ]
  },
  {
   "cell_type": "code",
   "execution_count": null,
   "metadata": {
    "dotnet_interactive": {
     "language": "csharp"
    },
    "vscode": {
     "languageId": "dotnet-interactive.csharp"
    }
   },
   "outputs": [],
   "source": [
    "// wait for all jobs to finish (up to 1 day, check every 2 minutes)\n",
    "BoSSSshell.WorkflowMgm.BlockUntilAllJobsTerminate();"
   ]
  },
  {
   "cell_type": "code",
   "execution_count": null,
   "metadata": {
    "dotnet_interactive": {
     "language": "csharp"
    },
    "vscode": {
     "languageId": "dotnet-interactive.csharp"
    }
   },
   "outputs": [],
   "source": [
    "var Tab = BoSSSshell.WorkflowMgm.SessionTable;"
   ]
  },
  {
   "cell_type": "code",
   "execution_count": null,
   "metadata": {
    "dotnet_interactive": {
     "language": "csharp"
    },
    "vscode": {
     "languageId": "dotnet-interactive.csharp"
    }
   },
   "outputs": [],
   "source": [
    "dts"
   ]
  },
  {
   "cell_type": "code",
   "execution_count": null,
   "metadata": {
    "dotnet_interactive": {
     "language": "csharp"
    },
    "vscode": {
     "languageId": "dotnet-interactive.csharp"
    }
   },
   "outputs": [],
   "source": [
    "// int[] bdfOrders = new int[]{1,2,3,4};\n",
    "// double[] dts = new double[]{1/1,1.0/2,1.0/10,1.0/20,1.0/100};\n",
    "\n",
    "MultidimensionalArray errors_u = MultidimensionalArray.Create(1, bdfOrders.Length, dts.Length);\n",
    "MultidimensionalArray errors_v = MultidimensionalArray.Create(1, bdfOrders.Length, dts.Length);\n",
    "MultidimensionalArray errors_p = MultidimensionalArray.Create(1, bdfOrders.Length, dts.Length);\n",
    "\n",
    "\n",
    "\n",
    "for (int b = 0; b < bdfOrders.Length; b++) {\n",
    "    for (int dt = 0; dt < dts.Length; dt++) {\n",
    "        var sess_b = myDb.Sessions.Where(sess => ((int)(long)(sess.KeysAndQueries[\"TimeSteppingScheme\"]) == bdfOrders[b]) && ((double)(sess.KeysAndQueries[\"dtFixed\"]) == dts[dt])).Single(); // Searchs for sessions with BDF order b\n",
    "\n",
    "        try {\n",
    "            errors_u[0, b, dt] = (double)sess_b.KeysAndQueries[\"SolL2err_u\"];\n",
    "        } catch {\n",
    "\n",
    "        }\n",
    "\n",
    "\n",
    "        try {\n",
    "            errors_v[0, b, dt] = (double)sess_b.KeysAndQueries[\"SolL2err_v\"];\n",
    "             } catch {\n",
    "\n",
    "        }\n",
    "\n",
    "\n",
    "        try {\n",
    "            errors_p[0, b, dt] = (double)sess_b.KeysAndQueries[\"SolL2err_p\"];\n",
    "        } catch {\n",
    "\n",
    "        }\n",
    "\n",
    "    }\n",
    "}\n"
   ]
  },
  {
   "cell_type": "code",
   "execution_count": null,
   "metadata": {
    "dotnet_interactive": {
     "language": "csharp"
    },
    "vscode": {
     "languageId": "dotnet-interactive.csharp"
    }
   },
   "outputs": [],
   "source": [
    "\n",
    "var dtsInverse = new double[dts.Length];\n",
    "\n",
    "for(int i = 0; i < dts.Length; i++){\n",
    "    dtsInverse[i] = 1.0/dts[i];\n",
    "}"
   ]
  },
  {
   "cell_type": "code",
   "execution_count": null,
   "metadata": {
    "dotnet_interactive": {
     "language": "csharp"
    },
    "vscode": {
     "languageId": "dotnet-interactive.csharp"
    }
   },
   "outputs": [],
   "source": [
    "dtsInverse"
   ]
  },
  {
   "cell_type": "code",
   "execution_count": null,
   "metadata": {
    "dotnet_interactive": {
     "language": "csharp"
    },
    "vscode": {
     "languageId": "dotnet-interactive.csharp"
    }
   },
   "outputs": [],
   "source": [
    "errors_u.ExtractSubArrayShallow(0,0,-1).To1DArray()"
   ]
  },
  {
   "cell_type": "code",
   "execution_count": null,
   "metadata": {
    "dotnet_interactive": {
     "language": "csharp"
    },
    "vscode": {
     "languageId": "dotnet-interactive.csharp"
    }
   },
   "outputs": [],
   "source": [
    "errors_u.ExtractSubArrayShallow(0,1,-1).To1DArray()"
   ]
  },
  {
   "cell_type": "code",
   "execution_count": null,
   "metadata": {
    "dotnet_interactive": {
     "language": "csharp"
    },
    "vscode": {
     "languageId": "dotnet-interactive.csharp"
    }
   },
   "outputs": [],
   "source": [
    "errors_u.ExtractSubArrayShallow(0,2,-1).To1DArray()"
   ]
  },
  {
   "cell_type": "code",
   "execution_count": null,
   "metadata": {
    "dotnet_interactive": {
     "language": "csharp"
    },
    "vscode": {
     "languageId": "dotnet-interactive.csharp"
    }
   },
   "outputs": [],
   "source": [
    "errors_u.ExtractSubArrayShallow(0,3,-1).To1DArray()"
   ]
  },
  {
   "cell_type": "code",
   "execution_count": null,
   "metadata": {
    "dotnet_interactive": {
     "language": "csharp"
    },
    "vscode": {
     "languageId": "dotnet-interactive.csharp"
    }
   },
   "outputs": [],
   "source": [
    "var fmt = new PlotFormat();\n",
    "fmt.Style = Styles.Lines;\n",
    "LineColors[] allColors = Enum.GetValues(typeof(LineColors)).Cast<LineColors>().ToArray();\n",
    "PointTypes[] myPointTypes = new PointTypes[] { PointTypes.Diamond, PointTypes.Box, PointTypes.LowerTriangle, PointTypes.OpenLowerTriangle, };\n",
    "LineColors[] myCollors = new LineColors[] { LineColors.Red, LineColors.Orange, LineColors.Blue,  LineColors.Black };\n",
    "\n",
    "var plotcf = new Plot2Ddata();\n",
    "plotcf.LogX = true;\n",
    "plotcf.LogY = true;\n",
    "for(int i= 0 ; i < bdfOrders.Length ; i++ ){\n",
    "    fmt.LineColor = myCollors[i];\n",
    "    plotcf.AddDataGroup(\"bdf=\" + bdfOrders[i], dtsInverse, errors_u.ExtractSubArrayShallow(0,i,-1).To1DArray(), fmt);\n",
    "}\n",
    "\n",
    "var gp = plotcf.ToGnuplot();\n",
    "gp.PlotSVG(xRes:1000,yRes:400)\n"
   ]
  },
  {
   "cell_type": "code",
   "execution_count": null,
   "metadata": {
    "dotnet_interactive": {
     "language": "csharp"
    },
    "vscode": {
     "languageId": "dotnet-interactive.csharp"
    }
   },
   "outputs": [],
   "source": [
    "Tab = Tab.ExtractColumns(\"DGdegree:Velocity*\",\"DGdegree:Temperature\", \"DGdegree:Pressure\",\"Grid:hMin\",\"SolL2err_u\",\"SolL2err_v\",\"SolL2err_T\",\"SolL2err_p\");\n",
    "\n",
    "var ErrorPlot_u = Tab. ToPlot (\"Grid:hMin\", \"SolL2err_u\",\"DGdegree:Velocity*\"); // column for grou\n",
    "var ErrorPlot_v = Tab. ToPlot (\"Grid:hMin\", \"SolL2err_v\",\"DGdegree:Velocity*\"); // column for grou\n",
    "var ErrorPlot_T = Tab. ToPlot (\"Grid:hMin\", \"SolL2err_T\",\"DGdegree:Temperature\"); // column for grou\n",
    "var ErrorPlot_p = Tab. ToPlot (\"Grid:hMin\", \"SolL2err_p\",\"DGdegree:Pressure\"); // column for grou\n",
    "ErrorPlot_u.LogX = true ;\n",
    "ErrorPlot_u.LogY = true ;\n",
    "\n",
    "ErrorPlot_v.LogX = true ;\n",
    "ErrorPlot_v.LogY = true ;\n",
    "\n",
    "ErrorPlot_T.LogX = true ;\n",
    "ErrorPlot_T.LogY = true ;\n",
    "\n",
    "ErrorPlot_p.LogX = true ;\n",
    "ErrorPlot_p.LogY = true ;"
   ]
  },
  {
   "cell_type": "code",
   "execution_count": null,
   "metadata": {
    "dotnet_interactive": {
     "language": "csharp"
    },
    "vscode": {
     "languageId": "dotnet-interactive.csharp"
    }
   },
   "outputs": [],
   "source": [
    "\n",
    "Plot2Ddata[,] PlotTable = new Plot2Ddata[2, 2];\n",
    "PlotTable[0,0] = ErrorPlot_u;\n",
    "PlotTable[0,1] = ErrorPlot_v;\n",
    "PlotTable[1,0] = ErrorPlot_T;\n",
    "PlotTable[1,1] = ErrorPlot_p;\n",
    "var p = PlotTable.ToGnuplot();\n",
    "p.PlotNow()"
   ]
  },
  {
   "cell_type": "code",
   "execution_count": null,
   "metadata": {
    "dotnet_interactive": {
     "language": "csharp"
    },
    "vscode": {
     "languageId": "dotnet-interactive.csharp"
    }
   },
   "outputs": [],
   "source": [
    "// // string dataPathResultsBase = @\"C:\\Users\\Gutierrez\\Documents\\data\\convergenceProblemData\\\" ;\n",
    "// string dataPathResultsBase = @\"D:\\ThesisDGCombustion\\dgcombustionthesis\\data\\ConvStudy_Couette\";\n",
    "// string folderpath          = dataPathResultsBase ;// + ending +\"LowTemp\"+ @\"\\\";\n",
    "// System.IO.Directory.CreateDirectory(folderpath); // Create folder for storing data\n",
    "\n",
    "// string[] varnames = new string[]{ \"Pressure\" };// \n",
    "// // string[] varnames = new string[]{\"VelocityX\",\"VelocityY\",\"Temperature\", \"Pressure\" };// \n",
    "\n",
    "// foreach (var varname in varnames) {\n",
    "//     foreach (int pDeg in dgDegree) {\n",
    "//        var pDegSessions = myDb.Sessions.Where(\n",
    "//             Si => (Convert.ToInt32(Si.KeysAndQueries[\"DGdegree:Pressure\"]) == pDeg-1) \n",
    "//          ).ToArray();\n",
    "\n",
    "\n",
    "//         Plot2Ddata pDegPlot =\n",
    "//          pDegSessions.ToEstimatedGridConvergenceData(varname,\n",
    "//            xAxis_Is_hOrDof: true, // false selects DOFs for x-axis \n",
    "//            normType: NormType.L2_embedded );\n",
    "\n",
    "\n",
    "//         pDegPlot.SaveTextFileToPublish(folderpath+\"\\\\\"+  varname + \"DG\" + pDeg, false);\n",
    "//         Console.WriteLine(folderpath+\"\\\\\"+  varname + \"DG\" + pDeg);\n",
    "//     }\n",
    "// }\n"
   ]
  },
  {
   "cell_type": "code",
   "execution_count": null,
   "metadata": {
    "dotnet_interactive": {
     "language": "csharp"
    },
    "vscode": {
     "languageId": "dotnet-interactive.csharp"
    }
   },
   "outputs": [],
   "source": []
  },
  {
   "cell_type": "code",
   "execution_count": null,
   "metadata": {
    "dotnet_interactive": {
     "language": "csharp"
    },
    "vscode": {
     "languageId": "dotnet-interactive.csharp"
    }
   },
   "outputs": [],
   "source": []
  }
 ],
 "metadata": {
  "interpreter": {
   "hash": "57baa5815c940fdaff4d14510622de9616cae602444507ba5d0b6727c008cbd6"
  },
  "kernelspec": {
   "display_name": ".NET (PowerShell)",
   "language": "PowerShell",
   "name": ".net-powershell"
  },
  "language_info": {
   "file_extension": ".ps1",
   "mimetype": "text/x-powershell",
   "name": "PowerShell",
   "pygments_lexer": "powershell",
   "version": "7.0"
  }
 },
 "nbformat": 4,
 "nbformat_minor": 4
}

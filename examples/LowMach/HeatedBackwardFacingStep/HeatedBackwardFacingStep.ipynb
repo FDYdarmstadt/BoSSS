{
  "cells": [
    {
      "cell_type": "code",
      "execution_count": null,
      "metadata": {
        "dotnet_interactive": {
          "language": "csharp"
        },
        "vscode": {
          "languageId": "dotnet-interactive.csharp"
        }
      },
      "outputs": [],
      "source": [
        "// #r \"D:\\BoSSS2\\experimental\\public\\src\\L4-application\\BoSSSpad\\bin\\Release\\net5.0\\bossspad.dll\"\n",
        "#r \"BoSSSpad.dll\"\n",
        "using System;\n",
        "using System.Collections.Generic;\n",
        "using System.Linq;\n",
        "using System.IO;\n",
        "using System.Data;\n",
        "using System.Globalization;\n",
        "using System.Threading;\n",
        "using ilPSP;\n",
        "using ilPSP.Utils;\n",
        "using BoSSS.Platform;\n",
        "using BoSSS.Foundation;\n",
        "using BoSSS.Foundation.Grid;\n",
        "using BoSSS.Foundation.Grid.Classic;\n",
        "using BoSSS.Foundation.IO;\n",
        "using BoSSS.Solution;\n",
        "using BoSSS.Solution.Control;\n",
        "using BoSSS.Solution.GridImport;\n",
        "using BoSSS.Solution.Statistic;\n",
        "using BoSSS.Solution.Utils;\n",
        "using BoSSS.Solution.Gnuplot;\n",
        "using BoSSS.Application.BoSSSpad;\n",
        "using BoSSS.Application.XNSE_Solver;\n",
        "using static BoSSS.Application.BoSSSpad.BoSSSshell;\n",
        "using BoSSS.Foundation.Grid.RefElements;\n",
        "using BoSSS.Platform.LinAlg;\n",
        "using BoSSS.Solution.NSECommon;\n",
        "using BoSSS.Application.XNSEC;\n",
        "Init();"
      ]
    },
    {
      "cell_type": "code",
      "execution_count": null,
      "metadata": {
        "dotnet_interactive": {
          "language": "csharp"
        },
        "vscode": {
          "languageId": "dotnet-interactive.csharp"
        }
      },
      "outputs": [],
      "source": [
        "int Resolution = 9; // was 9 before for all calculations\n",
        "int dg = 2;\n",
        "double[] ExpansionRatioS = new double[]{2.0};\n",
        "bool[] varParams = new bool[]{false};\n",
        "\n"
      ]
    },
    {
      "cell_type": "code",
      "execution_count": null,
      "metadata": {
        "dotnet_interactive": {
          "language": "csharp"
        },
        "vscode": {
          "languageId": "dotnet-interactive.csharp"
        }
      },
      "outputs": [],
      "source": [
        "BoSSSshell.WorkflowMgm.Init(\"HeatedBackwardFacingStep\"); // HeatedBackwardFacingStep"
      ]
    },
    {
      "cell_type": "code",
      "execution_count": null,
      "metadata": {
        "dotnet_interactive": {
          "language": "csharp"
        },
        "vscode": {
          "languageId": "dotnet-interactive.csharp"
        }
      },
      "outputs": [],
      "source": [
        "static var myBatch = GetDefaultQueue();\n",
        "static var myDb = BoSSSshell.WorkflowMgm.DefaultDatabase;\n",
        "int MPI_PROCS = 24;\n"
      ]
    },
    {
      "cell_type": "code",
      "execution_count": null,
      "metadata": {
        "dotnet_interactive": {
          "language": "csharp"
        },
        "vscode": {
          "languageId": "dotnet-interactive.csharp"
        }
      },
      "outputs": [],
      "source": []
    },
    {
      "cell_type": "code",
      "execution_count": null,
      "metadata": {
        "dotnet_interactive": {
          "language": "csharp"
        },
        "vscode": {
          "languageId": "dotnet-interactive.csharp"
        }
      },
      "outputs": [],
      "source": [
        "double Sdim = 15;  //mm, dim step height\n",
        "double hdim = Sdim/(2-1.0);\n",
        "double Hdim = hdim+Sdim; // mm channel height\n",
        "\n",
        "\n",
        "double LREF = Sdim;// step height, paper from XIE\n",
        "\n",
        "// static double LREF = 2*hdim; // Hydraulic referemce, paper from Armaly\n",
        "double H = Hdim / LREF;// nondim channel height\n",
        "double S = Sdim / LREF;  //nondim step height\n",
        "double h = hdim/LREF;\n",
        "double L0 = S; // nondim upstream wall\n",
        "double L = 50 * S; // downstream bc"
      ]
    },
    {
      "cell_type": "markdown",
      "metadata": {},
      "source": [
        "## Create grid"
      ]
    },
    {
      "cell_type": "code",
      "execution_count": null,
      "metadata": {
        "dotnet_interactive": {
          "language": "csharp"
        },
        "vscode": {
          "languageId": "dotnet-interactive.csharp"
        }
      },
      "outputs": [],
      "source": [
        "public static class GridFactory {\n",
        "\n",
        "    public static Grid2D GenerateGrid(int Res, double S, double h, double H, double L0,double L) {\n",
        "        // Grid2D grd;\n",
        "\n",
        "        double[] CutOut1Point1 = new double[2] { 0.0, 0.0 };\n",
        "        double[] CutOut1Point2 = new double[2] { -L0, S };\n",
        "\n",
        "        var CutOut1 = new BoSSS.Platform.Utils.Geom.BoundingBox(2);\n",
        "        CutOut1.AddPoint(CutOut1Point1);\n",
        "        CutOut1.AddPoint(CutOut1Point2);\n",
        "\n",
        "        \n",
        "        // left part\n",
        "        var _leftNodes = GenericBlas.SinLinSpacing(-2 * L0, 0, 0.99, (2 * Res) + 1);\n",
        "        var leftNodes = _leftNodes.GetSubVector(_leftNodes.Length / 2, _leftNodes.Length / 2 + 1);\n",
        "        //right part\n",
        "        // int xNodesMultiplier  = 110;\n",
        "        int xNodesMultiplier  = 230;\n",
        "        // int xNodesMultiplier  = 50;\n",
        "        // int xNodesMultiplier  = 5;\n",
        "\n",
        "        var _rightNodes = GenericBlas.SinLinSpacing(0, 2 * L, 0.9, (xNodesMultiplier * Res) + 1); \n",
        "        var rightNodes = _rightNodes.GetSubVector(0, _rightNodes.Length / 2 + 1);\n",
        "\n",
        "        List<double> listX = new List<double>();\n",
        "        listX.AddRange(leftNodes.Take(leftNodes.Count() - 1).ToList());\n",
        "        listX.AddRange(rightNodes.Take(rightNodes.Count() + 1).ToList());\n",
        "        var xNodes = listX.ToArray();\n",
        "\n",
        "\n",
        "        //Bottom part\n",
        "        var _bottomNodes = GenericBlas.SinLinSpacing(0, S, 0.8, 2*(2 * Res) + 1); \n",
        "        //upper part\n",
        "        var _upperNodes = GenericBlas.SinLinSpacing(S, S+h, 0.8, 2*(2 * Res) + 1);\n",
        "        // var upperNodes = _upperNodes.GetSubVector(0, _upperNodes.Length / 2 + 1);        \n",
        "        // for(int i = 0; i < upperNodes.Count(); i++){\n",
        "        //     upperNodes[i] = upperNodes[i] + S;\n",
        "        // }\n",
        "        \n",
        "        List<double> listY = new List<double>();\n",
        "        listY.AddRange(_bottomNodes.Take(_bottomNodes.Count() - 1).ToList());\n",
        "        listY.AddRange(_upperNodes.Take(_upperNodes.Count() + 1).ToList());\n",
        "        var yNodes = listY.ToArray();\n",
        "        var grd = Grid2D.Cartesian2DGrid(xNodes, yNodes, CutOuts: CutOut1);\n",
        "\n",
        "        Console.WriteLine(\"Number of nodes in X direction:\" +listX.Count() );\n",
        "        Console.WriteLine(\"Number of nodes in Y direction:\" +yNodes.Count() );\n",
        "        grd.EdgeTagNames.Add(1, \"Velocity_Inlet\");\n",
        "        grd.EdgeTagNames.Add(3, \"Pressure_Outlet\");\n",
        "        grd.EdgeTagNames.Add(2, \"NoSlipNeumann\");\n",
        "        grd.EdgeTagNames.Add(4, \"Wall\");\n",
        "\n",
        "        grd.DefineEdgeTags(delegate (double[] X) {\n",
        "            double x = X[0];\n",
        "            double y = X[1];\n",
        "\n",
        "            //Inlet oxidizer\n",
        "            if (Math.Abs(x + L0) < 1e-8)\n",
        "                return 1;\n",
        "\n",
        "            //Outlet\n",
        "            if (Math.Abs(x - L) < 1e-8)\n",
        "                return 3;\n",
        "\n",
        "            //Bottom Wall\n",
        "            if (Math.Abs(y - 0) < 1e-8 && x > 1e-8)\n",
        "                return 4;\n",
        "\n",
        "            return 2; \n",
        "        });\n",
        "\n",
        "        myDb.SaveGrid(ref grd);\n",
        "\n",
        "        return grd;\n",
        "    }\n",
        "}"
      ]
    },
    {
      "cell_type": "code",
      "execution_count": null,
      "metadata": {
        "dotnet_interactive": {
          "language": "csharp"
        },
        "vscode": {
          "languageId": "dotnet-interactive.csharp"
        }
      },
      "outputs": [],
      "source": [
        "public static class BoundaryValueFactory { \n",
        "\n",
        "    public static string GetPrefixCode(double const_val, double S, double h, double umean ) {\n",
        "        using(var stw = new System.IO.StringWriter()) {\n",
        "           \n",
        "           stw.WriteLine(\"static class BoundaryValues {\");\n",
        "\n",
        "\n",
        "           stw.WriteLine(\"  static public double ConstantVal(double[] X) {\");\n",
        "           stw.WriteLine(\"    return \" + const_val+\";\");\n",
        "           stw.WriteLine(\"  }\");\n",
        "\n",
        "           double H = S+h;           \n",
        "           stw.WriteLine(\"  static public double ParabolaVelocity(double[] X) {\");\n",
        "           stw.WriteLine(\"    return  -6 * \"+umean+\" * (X[1] -\"+ S+\") * (X[1] - 1 * \"+H+\") / (\"+h * h+\") ;\");\n",
        "           stw.WriteLine(\"  }\");\n",
        "\n",
        "\n",
        "           stw.WriteLine(\"}\"); \n",
        "           return stw.ToString();\n",
        "        }\n",
        "    }\n",
        "    static public Formula Get_ConstantVal(double const_val, double S, double h,double umean){\n",
        "        return new Formula(\"BoundaryValues.ConstantVal\", AdditionalPrefixCode:GetPrefixCode(const_val,S,h,umean));\n",
        "    }\n",
        "\n",
        "    static public Formula Get_ParabolaVelocity(double const_val, double S, double h, double umean){\n",
        "        return new Formula(\"BoundaryValues.ParabolaVelocity\", AdditionalPrefixCode:GetPrefixCode(const_val,S,h,umean));\n",
        "    }\n",
        "\n",
        "}"
      ]
    },
    {
      "cell_type": "markdown",
      "metadata": {},
      "source": [
        "## Send and run jobs"
      ]
    },
    {
      "cell_type": "code",
      "execution_count": null,
      "metadata": {
        "dotnet_interactive": {
          "language": "csharp"
        },
        "vscode": {
          "languageId": "dotnet-interactive.csharp"
        }
      },
      "outputs": [],
      "source": []
    },
    {
      "cell_type": "code",
      "execution_count": null,
      "metadata": {
        "dotnet_interactive": {
          "language": "csharp"
        },
        "vscode": {
          "languageId": "dotnet-interactive.csharp"
        }
      },
      "outputs": [],
      "source": [
        "static XNSEC_Control GiveMeTheCtrlFile(int dg, int Resolution, bool varParams, double expansionRatio) {\n",
        "    XNSEC_Control C = new XNSEC_Control();\n",
        "    Console.WriteLine(\"////////////////////////////////////////////////////////////////////////////////////\");\n",
        "    Console.WriteLine(\"BackwardFacingStep2\");\n",
        "    Console.WriteLine(\"////////////////////////////////////////////////////////////////////////////////////\");\n",
        "\n",
        "    // Solver configuration\n",
        "    // ==============\n",
        "\n",
        "    C.TimesteppingMode = AppControl._TimesteppingMode.Steady;\n",
        "\n",
        "    C.NonLinearSolver.SolverCode = NonLinearSolverCode.Newton;\n",
        "    C.NonLinearSolver.verbose = true;\n",
        "    C.ProjectName = \"Heated_BackwardFacingStep\";\n",
        "    C.SessionName = C.ProjectName + \"dg\" + dg + \"k\" + Resolution +  \"ER\" + expansionRatio+ \"VP\"+varParams.ToString() ;\n",
        "    //C.physicsMode = PhysicsMode.LowMach;\n",
        "    C.physicsMode = PhysicsMode.Combustion;\n",
        "    C.EnableMassFractions = false;\n",
        "    C.EnableTemperature = true;\n",
        "    \n",
        "    C.Tags.Add(expansionRatio.ToString()); //\n",
        "    C.Tags.Add(varParams.ToString());\n",
        "\n",
        "   \n",
        "\n",
        "\n",
        "    if (varParams) {\n",
        "        C.MatParamsMode = MaterialParamsMode.Sutherland;\n",
        "        C.rhoOne = false;\n",
        "    } else{\n",
        "        C.rhoOne = true;\n",
        "        C.MatParamsMode = MaterialParamsMode.Constant;\n",
        "    }\n",
        "    C.AnalyticsolutionSwitch = false;\n",
        "\n",
        "    C.PhysicalParameters.IncludeConvection = true;\n",
        "\n",
        "    C.NumberOfChemicalSpecies = 1;\n",
        "    C.ChemicalReactionActive = false;\n",
        "    C.SetDGdegree(dg);\n",
        "    C.GravityDirection = new double[] { 0.0, 0.0, 0.0 };\n",
        "    C.HomotopyApproach = XNSEC_Control.HomotopyType.Manual;\n",
        "    C.HomotopyVariable = XNSEC_Control.HomotopyVariableEnum.Reynolds;  \n",
        "\n",
        "    C.HomotopyArray = new double[]{1e-2,1e-1,1e0,10,50,100,150,200,250,300,350,400,450,500,550,600,650,700};\n",
        "\n",
        "    C.HeatRelease = 0.0;\n",
        "    // Parameters\n",
        "    // ==============\n",
        "\n",
        "    C.Reynolds = 700;\n",
        "    C.Prandtl = 0.7132;\n",
        "    C.Schmidt = 1.0;\n",
        "    C.PenaltyViscMomentum = 1.0;\n",
        "    C.PenaltyHeatConduction = 1.0;\n",
        "\n",
        "    C.NonLinearSolver.verbose = true;\n",
        "    \n",
        "    // C.NonLinearSolver.ConvergenceCriterion = 1e-10;\n",
        "    C.NonLinearSolver.MaxSolverIterations = 30;\n",
        "    C.LinearSolver = LinearSolverCode.direct_pardiso.GetConfig();\n",
        "    // C.LinearSolver.NoOfMultigridLevels = 7;\n",
        "    // C.TimesteppingMode = AppControl._TimesteppingMode.Transient;\n",
        "    // C.NoOfTimesteps = 10000;\n",
        "    // C.dtFixed = 0.5;\n",
        "    // C.TracingNamespaces = \"BoSSS.Solution.AdvancedSolvers.Newton\"; ////////////////////////////////////////////////////////////////////////////////////////////////////////\n",
        "\n",
        "    // C.HomotopyApproach = XNSEC_Control.HomotopyType.Automatic;\n",
        "    // C.HomotopyVariable = XNSEC_Control.HomotopyVariableEnum.Reynolds;\n",
        "    // C.homotopieAimedValue = C.Reynolds;\n",
        "    // C.StartingHomotopyValue = 100; // Suficiently easy to find solution\n",
        "    // C.NonLinearSolver.HomotopyStepLongFail = 10;\n",
        "\n",
        "    // Grid declaration\n",
        "    // ===============\n",
        "\n",
        "     double Sdim = 15;  //mm, dim step height\n",
        "     double hdim = Sdim/(expansionRatio-1.0);\n",
        "     double Hdim = hdim+Sdim; // mm channel height\n",
        "\n",
        "\n",
        "     double LREF = Sdim;// step height, paper from XIE\n",
        "\n",
        "    // static double LREF = 2*hdim; // Hydraulic referemce, paper from Armaly\n",
        "     double H = Hdim / LREF;// nondim channel height\n",
        "     double S = Sdim / LREF;  //nondim step height\n",
        "     double h = hdim/LREF;\n",
        "     double L0 = S; // nondim upstream wall\n",
        "    double L = 50 * S; // downstream bc\n",
        "\n",
        "    \n",
        "\n",
        "    C.SetGrid(GridFactory.GenerateGrid(Resolution, S,h,H,L0,L));  //\n",
        "\n",
        "    double TRef = 273 + 10;\n",
        "    double Tin = (273 + 10) / TRef;\n",
        "    double Twall = (273 + 40) / TRef;\n",
        "\n",
        "    // initial values\n",
        "    // ==============\n",
        "\n",
        "    double dummy = 0;\n",
        "    C.AddInitialValue(VariableNames.VelocityX, BoundaryValueFactory.Get_ConstantVal(0.5, dummy, dummy, dummy));\n",
        "    C.AddInitialValue(VariableNames.VelocityY, BoundaryValueFactory.Get_ConstantVal(0.0, dummy, dummy, dummy));\n",
        "    C.AddInitialValue(VariableNames.Pressure, BoundaryValueFactory.Get_ConstantVal(0.0, dummy, dummy, dummy));\n",
        "    C.AddInitialValue(VariableNames.Temperature, BoundaryValueFactory.Get_ConstantVal((Tin+Twall)*0.5, dummy, dummy, dummy));\n",
        "    C.AddInitialValue(VariableNames.MassFraction0, BoundaryValueFactory.Get_ConstantVal(1.0, dummy, dummy, dummy));\n",
        "\n",
        "    // boundary conditions\n",
        "    // ===================\n",
        "\n",
        "    C.AddBoundaryValue(\"Wall\", VariableNames.Temperature + \"#A\", BoundaryValueFactory.Get_ConstantVal(Twall, dummy, dummy, dummy));\n",
        "    C.AddBoundaryValue(\"Wall\", VariableNames.MassFraction0 + \"#A\", BoundaryValueFactory.Get_ConstantVal(1.0, dummy, dummy, dummy));\n",
        "\n",
        "\n",
        "\n",
        "    double velMean= 1.0;\n",
        "    C.AddBoundaryValue(\"Velocity_Inlet\", VariableNames.Velocity_d(0) + \"#A\", BoundaryValueFactory.Get_ParabolaVelocity(-11111.0, S,h, velMean));\n",
        "    C.AddBoundaryValue(\"Velocity_Inlet\", VariableNames.Velocity_d(1) + \"#A\", BoundaryValueFactory.Get_ConstantVal(0.0, dummy, dummy, dummy));\n",
        "    C.AddBoundaryValue(\"Velocity_Inlet\", VariableNames.Temperature + \"#A\", BoundaryValueFactory.Get_ConstantVal(Tin, dummy, dummy, dummy));\n",
        "    C.AddBoundaryValue(\"Velocity_Inlet\", VariableNames.MassFraction0 + \"#A\", BoundaryValueFactory.Get_ConstantVal(1.0, dummy, dummy, dummy));\n",
        "\n",
        "    C.AddBoundaryValue(\"Pressure_Outlet\");\n",
        "    return C;\n",
        "}"
      ]
    },
    {
      "cell_type": "markdown",
      "metadata": {},
      "source": [
        "## Run Simulations"
      ]
    },
    {
      "cell_type": "code",
      "execution_count": null,
      "metadata": {
        "dotnet_interactive": {
          "language": "csharp"
        },
        "vscode": {
          "languageId": "dotnet-interactive.csharp"
        }
      },
      "outputs": [],
      "source": []
    },
    {
      "cell_type": "code",
      "execution_count": null,
      "metadata": {
        "dotnet_interactive": {
          "language": "csharp"
        },
        "vscode": {
          "languageId": "dotnet-interactive.csharp"
        }
      },
      "outputs": [],
      "source": [
        "    foreach(double ER in ExpansionRatioS){\n",
        "        foreach(bool b in varParams){\n",
        "        Type solver = typeof(BoSSS.Application.XNSEC.XNSEC);\n",
        "\n",
        "        var C = GiveMeTheCtrlFile(dg, Resolution,  b, ER); \n",
        "        string jobName       = C.SessionName;\n",
        "        Console.WriteLine(jobName);\n",
        "        var oneJob           = new Job(jobName, solver);\n",
        "        oneJob.SetControlObject(C);\n",
        "        oneJob.NumberOfMPIProcs = MPI_PROCS;\n",
		"                oneJob.NumberOfThreads = 1;\n",  
        "        oneJob.Activate(myBatch); \n",
        "    }\n",
        "}\n"
      ]
    },
    {
      "cell_type": "markdown",
      "metadata": {},
      "source": []
    },
    {
      "cell_type": "code",
      "execution_count": null,
      "metadata": {
        "dotnet_interactive": {
          "language": "csharp"
        },
        "vscode": {
          "languageId": "dotnet-interactive.csharp"
        }
      },
      "outputs": [],
      "source": [
        "BoSSSshell.WorkflowMgm.BlockUntilAllJobsTerminate();"
      ]
    },
    {
      "cell_type": "markdown",
      "metadata": {},
      "source": []
    },
    {
      "cell_type": "code",
      "execution_count": null,
      "metadata": {
        "dotnet_interactive": {
          "language": "csharp"
        },
        "vscode": {
          "languageId": "dotnet-interactive.csharp"
        }
      },
      "outputs": [],
      "source": [
        "// // wait for all jobs to finish (up to 1 day, check every 1 minutes)\n",
        "BoSSSshell.WorkflowMgm.BlockUntilAllJobsTerminate(TimeOutSeconds:(3600*24*1), PollingIntervallSeconds:(60*1));"
      ]
    },
    {
      "cell_type": "markdown",
      "metadata": {
        "dotnet_interactive": {
          "language": "csharp"
        }
      },
      "source": []
    },
    {
      "cell_type": "code",
      "execution_count": null,
      "metadata": {
        "dotnet_interactive": {
          "language": "csharp"
        },
        "vscode": {
          "languageId": "dotnet-interactive.csharp"
        }
      },
      "outputs": [],
      "source": [
        "// detect failed Jobs in the job management\n",
        "var suspects = BoSSSshell.WorkflowMgm.AllJobs.Select(kv => kv.Value)\n",
        "    .Where(job => job.LatestSession.Tags.Contains(SessionInfo.NOT_TERMINATED_TAG)\n",
        "                  || job.LatestSession.Tags.Contains(SessionInfo.SOLVER_ERROR)).ToArray();\n",
        "suspects"
      ]
    },
    {
      "cell_type": "code",
      "execution_count": null,
      "metadata": {
        "dotnet_interactive": {
          "language": "csharp"
        },
        "vscode": {
          "languageId": "dotnet-interactive.csharp"
        }
      },
      "outputs": [],
      "source": [
        "NUnit.Framework.Assert.IsTrue(suspects.Count() <= 0, $\"{suspects.Count()} Failed Jobs of {BoSSSshell.WorkflowMgm.AllJobs.Count()} in total.\");"
      ]
    }
  ],
  "metadata": {
    "interpreter": {
      "hash": "5a4c2b90e762e735d09b118f9f9cec0074c9c9a762110f7a987def15c668bc0d"
    },
    "kernelspec": {
      "display_name": ".NET (C#)",
      "language": "C#",
      "name": ".net-csharp"
    },
    "language_info": {
      "file_extension": ".cs",
      "mimetype": "text/x-csharp",
      "name": "C#",
      "pygments_lexer": "csharp",
      "version": "9.0"
    }
  },
  "nbformat": 4,
  "nbformat_minor": 4
}

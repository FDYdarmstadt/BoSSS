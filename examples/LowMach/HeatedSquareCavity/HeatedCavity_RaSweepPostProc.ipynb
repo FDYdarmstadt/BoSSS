{
 "cells": [
  {
   "cell_type": "markdown",
   "metadata": {},
   "source": [
    "# Low-Mach flow in a heated cavity (Rayleigh number sweep)\n",
    "### Part 2, Post-Processing\n",
    "\n",
    "Results published:\n",
    "[Gutiérrez-Jorquera, Kummer: A fully coupled high-order discontinuous Galerkin method for diffusion flames in a low-Mach number framework](https://onlinelibrary.wiley.com/doi/10.1002/fld.5056)"
   ]
  },
  {
   "cell_type": "markdown",
   "metadata": {},
   "source": [
    "### Note\n",
    "\n",
    "This example can be found in the source code repository as as `HeatedCavity_RaSweepPostProc.ipynb`. \n",
    "One can directly load this into Jupyter to interactively work with the following code examples.\n",
    "\n",
    "Note: First, BoSSS has to be loaded into the Jupyter kernel. Note:\n",
    "In the following line, the reference to `BoSSSpad.dll` is required. \n",
    "One must either set `#r \"BoSSSpad.dll\"` to something which is appropirate for the current computer\n",
    "(e.g. `C:\\Program Files (x86)\\FDY\\BoSSS\\bin\\Release\\net5.0\\BoSSSpad.dll` if working with the binary distribution), \n",
    "or, if one is working with the source code, one must compile `BoSSSpad`\n",
    "and put it side-by-side to this worksheet file \n",
    "(from the original location in the repository, one can use the scripts `getbossspad.sh`, resp. `getbossspad.bat`)."
   ]
  },
  {
   "cell_type": "code",
   "execution_count": null,
   "metadata": {
    "dotnet_interactive": {
     "language": "csharp"
    },
    "vscode": {
     "languageId": "polyglot-notebook"
    }
   },
   "outputs": [],
   "source": [
    "#r \"BoSSSpad.dll\"\n",
    "// #r \"C:\\BoSSS2\\experimental\\public\\src\\L4-application\\BoSSSpad\\bin\\Release\\net5.0\\bossspad.dll\"\n",
    "using System;\n",
    "using System.Collections.Generic;\n",
    "using System.Linq;\n",
    "using System.IO;\n",
    "using System.Data;\n",
    "using System.Globalization;\n",
    "using System.Threading;\n",
    "using ilPSP;\n",
    "using ilPSP.Utils;\n",
    "using BoSSS.Platform;\n",
    "using BoSSS.Foundation;\n",
    "using BoSSS.Foundation.Grid;\n",
    "using BoSSS.Foundation.Grid.Classic;\n",
    "using BoSSS.Foundation.IO;\n",
    "using BoSSS.Solution;\n",
    "using BoSSS.Solution.Control;\n",
    "using BoSSS.Solution.GridImport;\n",
    "using BoSSS.Solution.Statistic;\n",
    "using BoSSS.Solution.Utils;\n",
    "using BoSSS.Solution.Gnuplot;\n",
    "using BoSSS.Application.BoSSSpad;\n",
    "using BoSSS.Application.XNSE_Solver;\n",
    "using static BoSSS.Application.BoSSSpad.BoSSSshell;\n",
    "using BoSSS.Foundation.Grid.RefElements;\n",
    "using BoSSS.Platform.LinAlg;\n",
    "using BoSSS.Solution.NSECommon;\n",
    "using BoSSS.Application.XNSEC;\n",
    "Init();"
   ]
  },
  {
   "cell_type": "code",
   "execution_count": null,
   "metadata": {
    "dotnet_interactive": {
     "language": "csharp"
    },
    "vscode": {
     "languageId": "polyglot-notebook"
    }
   },
   "outputs": [],
   "source": [
    "BoSSSshell.WorkflowMgm.Init(\"HeatedCavity_RayleighSweepStudy\");"
   ]
  },
  {
   "cell_type": "code",
   "execution_count": null,
   "metadata": {
    "dotnet_interactive": {
     "language": "csharp"
    },
    "vscode": {
     "languageId": "polyglot-notebook"
    }
   },
   "outputs": [],
   "source": [
    "var sortedSessions = wmg.Sessions.OrderBy(sess => Convert.ToDouble(sess.KeysAndQueries[\"Rayleigh\"]));"
   ]
  },
  {
   "cell_type": "code",
   "execution_count": null,
   "metadata": {
    "dotnet_interactive": {
     "language": "csharp"
    },
    "vscode": {
     "languageId": "polyglot-notebook"
    }
   },
   "outputs": [],
   "source": [
    "sortedSessions"
   ]
  },
  {
   "cell_type": "markdown",
   "metadata": {},
   "source": [
    "# Check if thermodynamic pressure and nusselt numbers correspond to the ones from the benchmark"
   ]
  },
  {
   "cell_type": "code",
   "execution_count": null,
   "metadata": {
    "dotnet_interactive": {
     "language": "csharp"
    },
    "vscode": {
     "languageId": "polyglot-notebook"
    }
   },
   "outputs": [],
   "source": [
    "Dictionary<double,double> p0_solutions = new Dictionary<double,double>();\n",
    "p0_solutions.Add(1e2, 0.9573);\n",
    "p0_solutions.Add(1e3, 0.9381);\n",
    "p0_solutions.Add(1e4, 0.9146);\n",
    "p0_solutions.Add(1e5, 0.9220);\n",
    "p0_solutions.Add(1e6, 0.9245);\n",
    "p0_solutions.Add(1e7, 0.9226);\n",
    "\n",
    "\n",
    "Dictionary<double,double> NusseltSolutions = new Dictionary<double,double>();\n",
    "NusseltSolutions.Add(1e2, 0.9787);\n",
    "NusseltSolutions.Add(1e3, 1.1077);\n",
    "NusseltSolutions.Add(1e4, 2.2180);\n",
    "NusseltSolutions.Add(1e5, 4.4800);\n",
    "NusseltSolutions.Add(1e6, 8.6870);\n",
    "NusseltSolutions.Add(1e7, 16.2400);"
   ]
  },
  {
   "cell_type": "code",
   "execution_count": null,
   "metadata": {
    "dotnet_interactive": {
     "language": "csharp"
    },
    "vscode": {
     "languageId": "polyglot-notebook"
    }
   },
   "outputs": [],
   "source": [
    "foreach(var sess in sortedSessions) {\n",
    "    double Rayleigh = Convert.ToDouble(sess.KeysAndQueries[\"Rayleigh\"]);\n",
    "    Console.WriteLine(\"Rayleigh number:\" + Rayleigh);\n",
    "\n",
    "    // Pick thermodynamic pressure value\n",
    "    var p0 = sess.Timesteps[1].Fields.Where(f => f.Identification == \"ThermodynamicPressure\").SingleOrDefault().ProbeAt(0.5,0.5);\n",
    "    \n",
    "    double p0Reference = p0_solutions[Rayleigh];\n",
    "    double p0Error = Math.Abs(p0Reference - p0);    \n",
    "    Console.WriteLine(\"Discrepancy of p0: \"+ p0Error);\n",
    "    //NUnit.Framework.Assert.IsTrue(p0Error< 1e-2);\n",
    "    \n",
    "\n",
    "    // Nusselt number comparison\n",
    "    double NusseltReference =  NusseltSolutions[Rayleigh];\n",
    "    double leftvalue = Convert.ToDouble(sess.KeysAndQueries[\"NusseltNumber0\"]) / 1.2;\n",
    "    double rightvalue = Convert.ToDouble(sess.KeysAndQueries[\"NusseltNumber1\"]) / 1.2*(-1);\n",
    "    double residualValue = Convert.ToDouble(sess.KeysAndQueries[\"NusseltNumber2\"]);\n",
    "\n",
    "    NUnit.Framework.Assert.IsTrue((Math.Abs(NusseltReference - leftvalue)) < 1.0); // big treshold for now...\n",
    "    NUnit.Framework.Assert.IsTrue((Math.Abs(NusseltReference - rightvalue)) < 1.0);        \n",
    "    Console.WriteLine(Math.Abs(NusseltReference - leftvalue));\n",
    "    Console.WriteLine(Math.Abs(NusseltReference - rightvalue));\n",
    "    //  Console.WriteLine(\"For Ra\" + Rayleigh + \" the error is\" + Math.Abs(NusseltReference - rightvalue));\n",
    "    // // Console.WriteLine(Math.Abs(leftvalue));\n",
    "    // Console.WriteLine(Math.Abs(rightvalue));\n",
    "    \n",
    "\n",
    "}"
   ]
  },
  {
   "cell_type": "code",
   "execution_count": null,
   "metadata": {
    "dotnet_interactive": {
     "language": "csharp"
    },
    "vscode": {
     "languageId": "polyglot-notebook"
    }
   },
   "outputs": [],
   "source": [
    "public static class HelperMethods{\n",
    "\n",
    "    // Used for avoiding picking values outside the computational domain\n",
    "    public static double[] GetEpsilon(double xi, double yi, double xright, double ytop) { \n",
    "        double[] epsXY = new double[2];\n",
    "        double epsx = 0;\n",
    "        double epsy = 0;\n",
    "        double eps = 1e-7;\n",
    "        if (xi == xright && yi == ytop) {\n",
    "            epsx = -eps;\n",
    "            epsy = -eps;\n",
    "        } else if (yi == ytop) {\n",
    "            epsx = eps;\n",
    "            epsy = -eps;\n",
    "        } else if (xi == xright) {\n",
    "            epsx = -eps;\n",
    "            epsy = eps;\n",
    "        } else {\n",
    "            epsx = eps;\n",
    "            epsy = eps;\n",
    "        }\n",
    "        epsXY[0] = epsx;\n",
    "        epsXY[1] = epsy;\n",
    "        return epsXY;\n",
    "    }\n",
    "}"
   ]
  },
  {
   "cell_type": "markdown",
   "metadata": {},
   "source": [
    "### Profiles"
   ]
  },
  {
   "cell_type": "code",
   "execution_count": null,
   "metadata": {
    "dotnet_interactive": {
     "language": "csharp"
    },
    "vscode": {
     "languageId": "polyglot-notebook"
    }
   },
   "outputs": [],
   "source": [
    "double xleft  = -0.5;\n",
    "double xright = 0.5;\n",
    "double ybot   = -0.5;\n",
    "double ytop   = 0.5;\n",
    "int nPoints   = 60;\n",
    "\n",
    "double eps = 1e-7;\n",
    "double[] Rayleighs = new double[]{1e2,1e3,1e4,1e5,1e6,1e7};\n",
    "\n",
    "double[] x_p = GenericBlas.Linspace(xleft,xright ,nPoints);\n",
    "double[] y_p = GenericBlas.Linspace(ybot,ytop,3);"
   ]
  },
  {
   "cell_type": "code",
   "execution_count": null,
   "metadata": {
    "dotnet_interactive": {
     "language": "csharp"
    },
    "vscode": {
     "languageId": "polyglot-notebook"
    }
   },
   "outputs": [],
   "source": [
    "MultidimensionalArray[] ReferenceDataBot = new MultidimensionalArray[6];\n",
    "MultidimensionalArray[] ReferenceDataMid = new MultidimensionalArray[6];\n",
    "MultidimensionalArray[] ReferenceDataTop = new MultidimensionalArray[6];\n",
    "string CurrentDocDir = Directory.GetCurrentDirectory();\n",
    "for (int i = 0; i < 6; i++) {\n",
    "    string path1 = Path.Combine(CurrentDocDir, @\"Temperatures_bot_Ra\" + i + \"_REF\" + \".txt\");\n",
    "    string path2 = Path.Combine(CurrentDocDir, @\"Temperatures_mid_Ra\" + i + \"_REF\" + \".txt\");\n",
    "    string path3 = Path.Combine(CurrentDocDir, @\"Temperatures_top_Ra\" + i + \"_REF\" + \".txt\");\n",
    "    ReferenceDataBot[i] = IMatrixExtensions.LoadFromTextFile(path1);\n",
    "    ReferenceDataMid[i] = IMatrixExtensions.LoadFromTextFile(path2);\n",
    "    ReferenceDataTop[i] = IMatrixExtensions.LoadFromTextFile(path3);\n",
    "}\n",
    "\n",
    "Plot2Ddata[,] PlotTable = new Plot2Ddata[2, 3];\n",
    "int cnt2 = -1;\n",
    "\n",
    "for (int iCol = 0; iCol < 2; iCol++) {\n",
    "    for (int iRow = 0; iRow < 3; iRow++) {\n",
    "\n",
    "        cnt2++;\n",
    "        double[] TemperatureBot = new double[x_p.Count()];\n",
    "        double[] TemperatureMid = new double[x_p.Count()];\n",
    "        double[] TemperatureTop = new double[x_p.Count()];\n",
    "\n",
    "        // var _fields = sortedSessions.Pick(cnt2).Timesteps.Pick(1).Fields;\n",
    "        var _fields = sortedSessions.Pick(cnt2).Timesteps.Pick(1).Fields;\n",
    "\n",
    "        var Temperature = _fields.Where(f => f.Identification == VariableNames.Temperature).SingleOrDefault();\n",
    "        double[] yS = new double[] { -0.5, 0.0, 0.5 };\n",
    "        for (int i = 0; i < x_p.Count(); i++) {\n",
    "            foreach (double yi in yS) {\n",
    "                double xi = x_p[i];\n",
    "                double[] epsXY = HelperMethods.GetEpsilon(xi, yi, xright, ytop);\n",
    "                var ti = Temperature.ProbeAt(xi + epsXY[0], yi + epsXY[1]);\n",
    "                if (yi == yS[0]) {\n",
    "                    TemperatureBot[i] = ti;\n",
    "                } else if (yi == yS[1]) {\n",
    "                    TemperatureMid[i] = ti;\n",
    "                } else if (yi == yS[2]) {\n",
    "                    TemperatureTop[i] = ti;\n",
    "                } else {\n",
    "                    throw new Exception();\n",
    "                }\n",
    "            }\n",
    "        }\n",
    "\n",
    "        // \"Repair\" x-coordinate to compare it with Benchmark\n",
    "        var xp2 = new double[x_p.Count()]; \n",
    "        for(int i = 0; i< x_p.Count(); i++){\n",
    "            xp2[i] = x_p[i] +0.5;\n",
    "        }\n",
    "\n",
    "        LineColors[]  allColors = Enum.GetValues(typeof(LineColors)).Cast<LineColors>().ToArray();\n",
    "        PointTypes[] myPointTypes = new PointTypes[]{ PointTypes.Diamond, PointTypes.Box,  PointTypes.LowerTriangle,PointTypes.OpenLowerTriangle, };\n",
    "        var plot = new Plot2Ddata();\n",
    "\n",
    "\n",
    "        var fmt = new PlotFormat();\n",
    "        fmt.Style = Styles.Lines;\n",
    "        fmt.DashType = DashTypes.Solid;\n",
    "        fmt.LineColor = LineColors.Blue;\n",
    "        plot.AddDataGroup( \"y=-0.5\",xp2, TemperatureBot, fmt);\n",
    "        \n",
    "        var fmt2 = new PlotFormat();\n",
    "        fmt2.Style = Styles.Lines;\n",
    "        fmt2.DashType = DashTypes.Solid;\n",
    "        fmt2.LineColor = LineColors.Green;\n",
    "\n",
    "        plot.AddDataGroup( \"y=0.0\",xp2, TemperatureMid, fmt2);\n",
    "\n",
    "        var fmt3 = new PlotFormat();\n",
    "        fmt3.Style = Styles.Lines;\n",
    "        fmt3.DashType = DashTypes.Solid;\n",
    "        fmt3.LineColor = LineColors.Red;\n",
    "\n",
    "        plot.AddDataGroup( \"y=+0.5\",xp2, TemperatureTop, fmt3);\n",
    "\n",
    "        var fmt4 = new PlotFormat();\n",
    "        fmt4.Style = Styles.Points;\n",
    "        fmt4.PointType =  PointTypes.Diamond;\n",
    "        plot.AddDataGroup( \"TemperatureBot\",\n",
    "        ReferenceDataBot[cnt2].ExtractSubArrayShallow(-1, 0).To1DArray(),\n",
    "        ReferenceDataBot[cnt2].ExtractSubArrayShallow(-1, 1).To1DArray(),\n",
    "        fmt4);\n",
    "\n",
    "        var fmt5 = new PlotFormat();\n",
    "        fmt5.Style = Styles.Points;\n",
    "        fmt5.PointType =  PointTypes.OpenDiamond;\n",
    "        plot.AddDataGroup( \"TemperatureMid\",\n",
    "        ReferenceDataMid[cnt2].ExtractSubArrayShallow(-1, 0).To1DArray(),\n",
    "        ReferenceDataMid[cnt2].ExtractSubArrayShallow(-1, 1).To1DArray(),\n",
    "        fmt5);\n",
    "\n",
    "        \n",
    "        var fmt6 = new PlotFormat();\n",
    "        fmt6.Style = Styles.Points;\n",
    "        fmt6.PointType =  PointTypes.UpperTriangle;\n",
    "        plot.AddDataGroup( \"TemperatureTop\",\n",
    "        ReferenceDataTop[cnt2].ExtractSubArrayShallow(-1, 0).To1DArray(),\n",
    "        ReferenceDataTop[cnt2].ExtractSubArrayShallow(-1, 1).To1DArray(),\n",
    "        fmt6);\n",
    "        plot.Title =\"Ra:1e\" + (cnt2 +2)  ;\n",
    "        plot.TitleFont = 20;\n",
    "        // plot.XrangeMin = -0.5;\n",
    "        // plot.XrangeMax = 0.5;\n",
    "        plot.XrangeMin = 0.0;\n",
    "        plot.XrangeMax = 1.0;\n",
    "        plot.YrangeMin = 0.4;\n",
    "        plot.YrangeMax = 1.6;\n",
    "        plot.ShowLegend = cnt2 == 0;\n",
    "        plot.Xlabel = \"x\";  \n",
    "        plot.Ylabel = \"T\";  \n",
    "        // PlotTable[iRow, iCol] = plot;\n",
    "        PlotTable[iCol,iRow] = plot;\n",
    "\n",
    "    \n",
    "    }\n",
    "}\n",
    "var gp = PlotTable.ToGnuplot();\n",
    "gp.PlotSVG(xRes:1200,yRes:800)"
   ]
  },
  {
   "cell_type": "markdown",
   "metadata": {},
   "source": [
    "## Profiles of the velocity x-component "
   ]
  },
  {
   "cell_type": "code",
   "execution_count": null,
   "metadata": {
    "dotnet_interactive": {
     "language": "csharp"
    },
    "vscode": {
     "languageId": "polyglot-notebook"
    }
   },
   "outputs": [],
   "source": [
    "\n",
    "double[] x_p2 = new double[]{0.0};\n",
    "double[] y_p2 = GenericBlas.Linspace(ybot,ytop,nPoints);\n",
    "MultidimensionalArray[] ReferenceDataVelocityX = new MultidimensionalArray[6];\n",
    "string CurrentDocDir = Directory.GetCurrentDirectory();\n",
    "\n",
    "for (int i = 0; i < 6; i++) {\n",
    "    string path1 = String.Concat(CurrentDocDir, @\"\\VelocityX\" + i + \"_REF\", \".txt\");\n",
    "    ReferenceDataVelocityX[i] = IMatrixExtensions.LoadFromTextFile(path1);\n",
    "}\n",
    "\n",
    "Plot2Ddata[,] PlotTable = new Plot2Ddata[2, 3];\n",
    "int cnt2 = -1;\n",
    "for (int iCol = 0; iCol < 2; iCol++) {\n",
    "    for (int iRow = 0; iRow < 3; iRow++) {\n",
    "        cnt2++;\n",
    "        double[] VelocityX = new double[y_p2.Count()];\n",
    "        var _fields = sortedSessions.Pick(cnt2).Timesteps.Pick(1).Fields;\n",
    "        var VelocityXField = _fields.Where(f => f.Identification == VariableNames.VelocityX).SingleOrDefault();\n",
    "        \n",
    "        for (int i = 0; i < y_p2.Count(); i++) {\n",
    "            double xi = 0.0; // centerline\n",
    "            double yi = y_p2[i];\n",
    "            double[] epsXY = HelperMethods.GetEpsilon(xi, yi, xright, ytop);\n",
    "            var ti = VelocityXField.ProbeAt(xi + epsXY[0], yi + epsXY[1]);\n",
    "            VelocityX[i] = ti;\n",
    "        }\n",
    "\n",
    "        // \"Repair\" x-coordinate to compare it with Benchmark\n",
    "        var yp3 = new double[y_p2.Count()]; \n",
    "        for(int i = 0; i< y_p2.Count(); i++){\n",
    "            yp3[i] = y_p2[i] +0.5;\n",
    "        }\n",
    "\n",
    "        LineColors[]  allColors = Enum.GetValues(typeof(LineColors)).Cast<LineColors>().ToArray();\n",
    "        PointTypes[] myPointTypes = new PointTypes[]{ PointTypes.Diamond, PointTypes.Box,  PointTypes.LowerTriangle,PointTypes.OpenLowerTriangle, };\n",
    "        var plot = new Plot2Ddata();\n",
    "\n",
    "\n",
    "        var fmt = new PlotFormat();\n",
    "        fmt.Style = Styles.Lines;\n",
    "        fmt.DashType = DashTypes.Solid;\n",
    "        fmt.LineColor = LineColors.Blue;\n",
    "        plot.AddDataGroup( \"x=0.0\",yp3, VelocityX, fmt);\n",
    "\n",
    "        var fmt4 = new PlotFormat();\n",
    "        fmt4.Style = Styles.Points;\n",
    "        fmt4.PointType =  PointTypes.Diamond;\n",
    "        plot.AddDataGroup( \"VelocityX\",\n",
    "        ReferenceDataVelocityX[cnt2].ExtractSubArrayShallow(-1, 0).To1DArray(),\n",
    "        ReferenceDataVelocityX[cnt2].ExtractSubArrayShallow(-1, 1).To1DArray(),\n",
    "        fmt4);\n",
    "\n",
    "        plot.Title =\"Ra:1e\" + (cnt2 +2)  ;\n",
    "        plot.TitleFont = 20;\n",
    "        // plot.XrangeMin = -0.5;\n",
    "        // plot.XrangeMax = 0.5;\n",
    "        plot.XrangeMin = 0.0;\n",
    "        plot.XrangeMax = 1.0;\n",
    "        plot.YrangeMin = -0.4;\n",
    "        plot.YrangeMax = 0.4;\n",
    "        plot.ShowLegend = cnt2 == 0;\n",
    "        plot.Xlabel = \"y\";  \n",
    "        plot.Ylabel = \"u_x\";  \n",
    "        // PlotTable[iRow, iCol] = plot;\n",
    "        PlotTable[iCol,iRow] = plot;   \n",
    "   \n",
    "\n",
    "    }\n",
    "}\n",
    "var gp = PlotTable.ToGnuplot();\n",
    "gp.PlotSVG(xRes:1200,yRes:800)"
   ]
  },
  {
   "cell_type": "markdown",
   "metadata": {},
   "source": [
    "## Profiles of the velocity y-component "
   ]
  },
  {
   "cell_type": "code",
   "execution_count": null,
   "metadata": {
    "dotnet_interactive": {
     "language": "csharp"
    },
    "vscode": {
     "languageId": "polyglot-notebook"
    }
   },
   "outputs": [],
   "source": [
    "\n",
    "\n",
    "double[] x_p2 = GenericBlas.Linspace(xleft,xright,nPoints);\n",
    "double[] y_p2 = new double[]{0.0};\n",
    "MultidimensionalArray[] ReferenceDataVelocityY = new MultidimensionalArray[6];\n",
    "string CurrentDocDir = Directory.GetCurrentDirectory();\n",
    "\n",
    "for (int i = 0; i < 6; i++) {\n",
    "    string path1 = String.Concat(CurrentDocDir, @\"\\VelocityY\" + i + \"_REF\", \".txt\");\n",
    "    ReferenceDataVelocityY[i] = IMatrixExtensions.LoadFromTextFile(path1);\n",
    "}\n",
    "\n",
    "Plot2Ddata[,] PlotTable = new Plot2Ddata[2, 3];\n",
    "int cnt2 = -1;\n",
    "for (int iCol = 0; iCol < 2; iCol++) {\n",
    "    for (int iRow = 0; iRow < 3; iRow++) {\n",
    "        cnt2++;\n",
    "        double[] VelocityY = new double[x_p2.Count()];\n",
    "        var _fields = sortedSessions.Pick(cnt2).Timesteps.Pick(1).Fields;\n",
    "        var VelocityYField = _fields.Where(f => f.Identification == VariableNames.VelocityY).SingleOrDefault();\n",
    "        \n",
    "        for (int i = 0; i < x_p2.Count(); i++) {\n",
    "            double xi = x_p2[i]; // centerline\n",
    "            double yi = 0.0; // centerline\n",
    "            double[] epsXY = HelperMethods.GetEpsilon(xi, yi, xright, ytop);\n",
    "            var ti = VelocityYField.ProbeAt(xi + epsXY[0], yi + epsXY[1]);\n",
    "            VelocityY[i] = ti;\n",
    "        }\n",
    "\n",
    "        // \"Repair\" x-coordinate to compare it with Benchmark\n",
    "        var xp3 = new double[x_p2.Count()]; \n",
    "        for(int i = 0; i< x_p2.Count(); i++){\n",
    "            xp3[i] = x_p2[i] +0.5;\n",
    "        }\n",
    "\n",
    "        LineColors[]  allColors = Enum.GetValues(typeof(LineColors)).Cast<LineColors>().ToArray();\n",
    "        PointTypes[] myPointTypes = new PointTypes[]{ PointTypes.Diamond, PointTypes.Box,  PointTypes.LowerTriangle,PointTypes.OpenLowerTriangle, };\n",
    "        var plot = new Plot2Ddata();\n",
    "\n",
    "\n",
    "        var fmt = new PlotFormat();\n",
    "        fmt.Style = Styles.Lines;\n",
    "        fmt.DashType = DashTypes.Solid;\n",
    "        fmt.LineColor = LineColors.Blue;\n",
    "        plot.AddDataGroup( \"y=0.0\",xp3, VelocityY, fmt);\n",
    "\n",
    "        var fmt4 = new PlotFormat();\n",
    "        fmt4.Style = Styles.Points;\n",
    "        fmt4.PointType =  PointTypes.Diamond;\n",
    "        plot.AddDataGroup( \"VelocityY\",\n",
    "        ReferenceDataVelocityY[cnt2].ExtractSubArrayShallow(-1, 0).To1DArray(),\n",
    "        ReferenceDataVelocityY[cnt2].ExtractSubArrayShallow(-1, 1).To1DArray(),\n",
    "        fmt4);\n",
    "\n",
    "        plot.Title =\"Ra:1e\" + (cnt2 +2)  ;\n",
    "        plot.TitleFont = 20;\n",
    "        // plot.XrangeMin = -0.5;\n",
    "        // plot.XrangeMax = 0.5;\n",
    "        plot.XrangeMin = 0.0;\n",
    "        plot.XrangeMax = 1.0;\n",
    "        plot.YrangeMin = -0.4;\n",
    "        plot.YrangeMax = 0.4;\n",
    "        plot.ShowLegend = cnt2 == 0;\n",
    "        plot.Xlabel = \"x\";  \n",
    "        plot.Ylabel = \"u_y\";  \n",
    "        // PlotTable[iRow, iCol] = plot;\n",
    "        PlotTable[iCol,iRow] = plot;   \n",
    "   \n",
    "\n",
    "    }\n",
    "}\n",
    "var gp = PlotTable.ToGnuplot();\n",
    "gp.PlotSVG(xRes:1200,yRes:800)"
   ]
  },
  {
   "cell_type": "code",
   "execution_count": null,
   "metadata": {
    "dotnet_interactive": {
     "language": "csharp"
    },
    "vscode": {
     "languageId": "polyglot-notebook"
    }
   },
   "outputs": [],
   "source": []
  }
 ],
 "metadata": {
  "interpreter": {
   "hash": "5a4c2b90e762e735d09b118f9f9cec0074c9c9a762110f7a987def15c668bc0d"
  },
  "kernelspec": {
   "display_name": ".NET (C#)",
   "language": "C#",
   "name": ".net-csharp"
  },
  "language_info": {
   "file_extension": ".cs",
   "mimetype": "text/x-csharp",
   "name": "C#",
   "pygments_lexer": "csharp",
   "version": "10.0"
  }
 },
 "nbformat": 4,
 "nbformat_minor": 4
}

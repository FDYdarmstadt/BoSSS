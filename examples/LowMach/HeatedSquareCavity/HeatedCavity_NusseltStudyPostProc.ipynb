{
 "cells": [
  {
   "cell_type": "code",
   "execution_count": null,
   "metadata": {
    "dotnet_interactive": {
     "language": "csharp"
    },
    "vscode": {
     "languageId": "dotnet-interactive.csharp"
    }
   },
   "outputs": [],
   "source": [
    "#r \"BoSSSpad.dll\"\n",
    "//#r \"D:\\BoSSS2\\experimental\\public\\src\\L4-application\\BoSSSpad\\bin\\Release\\net5.0\\bossspad.dll\"\n",
    "\n",
    "using System;\n",
    "using System.Collections.Generic;\n",
    "using System.Linq;\n",
    "using System.IO;\n",
    "using System.Data;\n",
    "using System.Globalization;\n",
    "using System.Threading;\n",
    "using ilPSP;\n",
    "using ilPSP.Utils;\n",
    "using BoSSS.Platform;\n",
    "using BoSSS.Foundation;\n",
    "using BoSSS.Foundation.Grid;\n",
    "using BoSSS.Foundation.Grid.Classic;\n",
    "using BoSSS.Foundation.IO;\n",
    "using BoSSS.Solution;\n",
    "using BoSSS.Solution.Control;\n",
    "using BoSSS.Solution.GridImport;\n",
    "using BoSSS.Solution.Statistic;\n",
    "using BoSSS.Solution.Utils;\n",
    "using BoSSS.Solution.Gnuplot;\n",
    "using BoSSS.Application.BoSSSpad;\n",
    "using BoSSS.Application.XNSE_Solver;\n",
    "using static BoSSS.Application.BoSSSpad.BoSSSshell;\n",
    "using BoSSS.Foundation.Grid.RefElements;\n",
    "using BoSSS.Platform.LinAlg;\n",
    "using BoSSS.Solution.NSECommon;\n",
    "using BoSSS.Application.XNSEC;\n",
    "Init();"
   ]
  },
  {
   "cell_type": "code",
   "execution_count": null,
   "metadata": {
    "dotnet_interactive": {
     "language": "csharp"
    },
    "vscode": {
     "languageId": "dotnet-interactive.csharp"
    }
   },
   "outputs": [],
   "source": [
    "BoSSSshell.WorkflowMgm.Init(\"HeatedCavity_NusseltStudy\");"
   ]
  },
  {
   "cell_type": "code",
   "execution_count": null,
   "metadata": {
    "dotnet_interactive": {
     "language": "csharp"
    },
    "vscode": {
     "languageId": "dotnet-interactive.csharp"
    }
   },
   "outputs": [],
   "source": [
    "var myBatch = BoSSSshell.GetDefaultQueue();\n",
    "var myDb = BoSSSshell.WorkflowMgm.DefaultDatabase;"
   ]
  },
  {
   "cell_type": "code",
   "execution_count": null,
   "metadata": {
    "dotnet_interactive": {
     "language": "csharp"
    },
    "vscode": {
     "languageId": "dotnet-interactive.csharp"
    }
   },
   "outputs": [],
   "source": [
    "Dictionary<double,double> NusseltSolutions = new Dictionary<double,double>();\n",
    "NusseltSolutions.Add(1e2, 0.9787);\n",
    "NusseltSolutions.Add(1e3, 1.1077);\n",
    "NusseltSolutions.Add(1e4, 2.2180);\n",
    "NusseltSolutions.Add(1e5, 4.4800);\n",
    "NusseltSolutions.Add(1e6, 8.6870);\n",
    "NusseltSolutions.Add(1e7, 16.2400);"
   ]
  },
  {
   "cell_type": "code",
   "execution_count": null,
   "metadata": {
    "dotnet_interactive": {
     "language": "csharp"
    },
    "vscode": {
     "languageId": "dotnet-interactive.csharp"
    }
   },
   "outputs": [],
   "source": [
    "\n",
    "Plot2Ddata[,] PlotTable = new Plot2Ddata[2, 3];\n",
    "for (int iCol = 0; iCol < 2; iCol++) {\n",
    "    for (int iRow = 0; iRow < 3; iRow++) {\n",
    "        double[] RayleighS = new double[]{1e2,1e6};\n",
    "        int[] dgDegrees = new int[]{2,3,4};\n",
    "\n",
    "        var AllSessionsForRa = myDb.Sessions.Where(sess=>Convert.ToDouble(sess.KeysAndQueries[\"Rayleigh\"]) == RayleighS[iCol]);\n",
    "\n",
    "        var sessionsforDg   =  AllSessionsForRa.Where(sess => sess.Name.Contains(\"DG\"+dgDegrees[iRow])).OrderBy(sess => sess.GetGrids().Pick(0).NumberOfCells);\n",
    "        double[] NoOfCells = new double[sessionsforDg.Count()];\n",
    "        double[] LeftNusseltS = new double[sessionsforDg.Count()];\n",
    "        double[] RightNusseltS = new double[sessionsforDg.Count()];\n",
    "        int cnt = 0;\n",
    "        foreach(var sess in sessionsforDg ){\n",
    "            NoOfCells[cnt] = Math.Sqrt(sess.GetGrids().Pick(0).NumberOfCells);\n",
    "            LeftNusseltS[cnt] = Convert.ToDouble(sess.KeysAndQueries[\"NusseltNumber0\"]) / 1.2;\n",
    "            RightNusseltS[cnt]  = Convert.ToDouble(sess.KeysAndQueries[\"NusseltNumber1\"]) / 1.2*(-1);\n",
    "            cnt++;    \n",
    "        }\n",
    "\n",
    "\n",
    "        LineColors[]  allColors = Enum.GetValues(typeof(LineColors)).Cast<LineColors>().ToArray();\n",
    "        PointTypes[] myPointTypes = new PointTypes[]{ PointTypes.Diamond, PointTypes.Box,  PointTypes.LowerTriangle,PointTypes.OpenLowerTriangle, };\n",
    "        var plot = new Plot2Ddata();\n",
    "        var fmt = new PlotFormat();\n",
    "        fmt.Style = Styles.LinesPoints;\n",
    "        fmt.PointType =  PointTypes.Diamond;\n",
    "        fmt.LineColor = LineColors.Blue;\n",
    "        plot.AddDataGroup( \"Nu_h\",NoOfCells, LeftNusseltS, fmt);\n",
    "\n",
    "        var fmt2 = new PlotFormat();\n",
    "        fmt2.Style = Styles.LinesPoints;\n",
    "        fmt2.DashType = DashTypes.Solid;\n",
    "        fmt2.LineColor = LineColors.Green;\n",
    "        plot.AddDataGroup( \"Nu_c\",NoOfCells, RightNusseltS, fmt2);\n",
    "\n",
    "        double Ra = iCol == 0? Ra = 1e2: 1e6;\n",
    "        double[] xRef = new double[]{0.0,140};\n",
    "        double[] yRef = new double[]{NusseltSolutions[Ra],NusseltSolutions[Ra]};\n",
    "        \n",
    "        var fmt3 = new PlotFormat();\n",
    "        fmt3.Style = Styles.Lines;\n",
    "        fmt3.DashType = DashTypes.DotDashed;\n",
    "        fmt3.LineWidth = 2;\n",
    "        fmt3.LineColor = LineColors.Red;\n",
    "        plot.AddDataGroup( \"Reference Value\",xRef, yRef, fmt3);\n",
    "        \n",
    "        string mytitle = \"\";\n",
    "\n",
    "        if(iCol == 0 && iRow == 0){\n",
    "            mytitle = \"Ra= \"+ Ra + \",dg= \" + 2; \n",
    "        } else if(iCol == 0 && iRow == 1){\n",
    "            mytitle = \"Ra= \"+ Ra + \",dg= \" + 3; \n",
    "        }else if(iCol == 0 && iRow == 2){\n",
    "            mytitle = \"Ra= \"+ Ra + \",dg= \" + 4; \n",
    "        }else if(iCol == 1 && iRow == 0){\n",
    "            mytitle = \"Ra= \"+ Ra + \",dg= \" + 2; \n",
    "        }else if(iCol == 1 && iRow == 1){\n",
    "            mytitle = \"Ra= \"+ Ra + \",dg= \" + 3; \n",
    "        }else if(iCol == 1 && iRow == 2){\n",
    "            mytitle = \"Ra= \"+ Ra + \",dg= \" + 4; \n",
    "        } else {throw new Exception(\"\");}\n",
    "        plot.Title = mytitle;\n",
    "        plot.LegendPosition = new double[]{130,0.97};\n",
    "        PlotTable[iCol,iRow] = plot;   \n",
    "\n",
    "\n",
    "\n",
    "\n",
    "    }\n",
    "}\n",
    "\n",
    "\n",
    "var gp = PlotTable.ToGnuplot();\n",
    "gp.PlotSVG(xRes:1400,yRes:800)\n",
    "\n"
   ]
  },
  {
   "cell_type": "code",
   "execution_count": null,
   "metadata": {
    "dotnet_interactive": {
     "language": "csharp"
    },
    "vscode": {
     "languageId": "dotnet-interactive.csharp"
    }
   },
   "outputs": [],
   "source": []
  }
 ],
 "metadata": {
  "interpreter": {
   "hash": "5a4c2b90e762e735d09b118f9f9cec0074c9c9a762110f7a987def15c668bc0d"
  },
  "kernelspec": {
   "display_name": ".NET (C#)",
   "language": "C#",
   "name": ".net-csharp"
  },
  "language_info": {
   "file_extension": ".cs",
   "mimetype": "text/x-csharp",
   "name": "C#",
   "pygments_lexer": "csharp",
   "version": "10.0"
  }
 },
 "nbformat": 4,
 "nbformat_minor": 4
}

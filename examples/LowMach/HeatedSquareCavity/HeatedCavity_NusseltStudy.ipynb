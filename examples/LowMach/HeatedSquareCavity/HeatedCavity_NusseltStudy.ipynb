{
 "cells": [
  {
   "cell_type": "code",
   "execution_count": null,
   "metadata": {
    "dotnet_interactive": {
     "language": "csharp"
    },
    "vscode": {
     "languageId": "dotnet-interactive.csharp"
    }
   },
   "outputs": [],
   "source": [
    "// #r \"C:\\BoSSS2\\experimental\\public\\src\\L4-application\\BoSSSpad\\bin\\Release\\net5.0\\bossspad.dll\"\n",
    "#r \"BoSSSpad.dll\"\n",
    "using System;\n",
    "using System.Collections.Generic;\n",
    "using System.Linq;\n",
    "using System.IO;\n",
    "using System.Data;\n",
    "using System.Globalization;\n",
    "using System.Threading;\n",
    "using ilPSP;\n",
    "using ilPSP.Utils;\n",
    "using BoSSS.Platform;\n",
    "using BoSSS.Foundation;\n",
    "using BoSSS.Foundation.Grid;\n",
    "using BoSSS.Foundation.Grid.Classic;\n",
    "using BoSSS.Foundation.IO;\n",
    "using BoSSS.Solution;\n",
    "using BoSSS.Solution.Control;\n",
    "using BoSSS.Solution.GridImport;\n",
    "using BoSSS.Solution.Statistic;\n",
    "using BoSSS.Solution.Utils;\n",
    "using BoSSS.Solution.Gnuplot;\n",
    "using BoSSS.Application.BoSSSpad;\n",
    "using BoSSS.Application.XNSE_Solver;\n",
    "using static BoSSS.Application.BoSSSpad.BoSSSshell;\n",
    "using BoSSS.Foundation.Grid.RefElements;\n",
    "using BoSSS.Platform.LinAlg;\n",
    "using BoSSS.Solution.NSECommon;\n",
    "using BoSSS.Application.XNSEC;\n",
    "Init();"
   ]
  },
  {
   "cell_type": "code",
   "execution_count": null,
   "metadata": {
    "dotnet_interactive": {
     "language": "csharp"
    },
    "vscode": {
     "languageId": "dotnet-interactive.csharp"
    }
   },
   "outputs": [],
   "source": [
    "BoSSSshell.WorkflowMgm.Init(\"HeatedCavity_NusseltStudy\");"
   ]
  },
  {
   "cell_type": "code",
   "execution_count": null,
   "metadata": {},
   "outputs": [],
   "source": [
    "BoSSSshell.WorkflowMgm.DefaultDatabase"
   ]
  },
  {
   "cell_type": "code",
   "execution_count": null,
   "metadata": {
    "dotnet_interactive": {
     "language": "csharp"
    },
    "vscode": {
     "languageId": "dotnet-interactive.csharp"
    }
   },
   "outputs": [],
   "source": [
    "static var myBatch = BoSSSshell.GetDefaultQueue();\n",
    "static var myDb = BoSSSshell.WorkflowMgm.DefaultDatabase;\n"
   ]
  },
  {
   "cell_type": "code",
   "execution_count": null,
   "metadata": {
    "dotnet_interactive": {
     "language": "csharp"
    },
    "vscode": {
     "languageId": "dotnet-interactive.csharp"
    }
   },
   "outputs": [],
   "source": [
    "BoSSSshell.WorkflowMgm.SetNameBasedSessionJobControlCorrelation()"
   ]
  },
  {
   "cell_type": "markdown",
   "metadata": {},
   "source": [
    "## Create grid"
   ]
  },
  {
   "cell_type": "code",
   "execution_count": null,
   "metadata": {
    "dotnet_interactive": {
     "language": "csharp"
    },
    "vscode": {
     "languageId": "dotnet-interactive.csharp"
    }
   },
   "outputs": [],
   "source": [
    "int[] Resolutions = new int[]{ 3,4,5,6}; \n",
    "int[] DGdegree = new int[]{2,3,4};\n",
    "int[] nCells  =  Resolutions.Select(r => (int)(Math.Pow(2,r+1))).ToArray();\n",
    "double[] Rayleighs = new double[] {1e2,1e6};"
   ]
  },
  {
   "cell_type": "code",
   "execution_count": null,
   "metadata": {
    "dotnet_interactive": {
     "language": "csharp"
    },
    "vscode": {
     "languageId": "dotnet-interactive.csharp"
    }
   },
   "outputs": [],
   "source": [
    "public static class GridFactory {\n",
    "    public static double[] GetXNodes(int Res) { \n",
    "        var xNodes = GenericBlas.SinLinSpacing(-0.5, 0.5, 0, Res + 1);\n",
    "        return xNodes;\n",
    "    }\n",
    " \n",
    "    static double[] GetYNodes(int Res) {\n",
    "        double[] yNodes =  GenericBlas.SinLinSpacing(-0.5, 0.5,0, Res + 1);\n",
    "        return yNodes;\n",
    "    }\n",
    " \n",
    "    public static Grid2D GenerateGrid(int Res) { \n",
    "        var xNodes = GetXNodes(Res);\n",
    "        var yNodes = GetYNodes(Res);\n",
    "        var grd    = Grid2D.Cartesian2DGrid(xNodes, yNodes);\n",
    "        grd.EdgeTagNames.Add(1, \"NoSlipNeumann\");\n",
    "        grd.EdgeTagNames.Add(2, \"wall_tempfixed_left\");\n",
    "        grd.EdgeTagNames.Add(3, \"wall_tempfixed_right\");\n",
    "        grd.DefineEdgeTags( delegate (double[] X) {\n",
    "            double x = X[0];\n",
    "            double y = X[1];\n",
    "            //Edge tags\n",
    "            //1: Adiabatic no slip wall\n",
    "            //2: Temperature fixed no slip wall\n",
    "\n",
    "            //right cold wall \n",
    "            if (Math.Abs(x - 0.5) < 1e-8)\n",
    "                return 3;\n",
    "\n",
    "            //bottom adiabatic Wall\n",
    "            if (Math.Abs(y - 0.5 ) < 1e-8)\n",
    "                return 1;\n",
    "\n",
    "            // left hot wall\n",
    "            if (Math.Abs(x + 0.5) < 1e-8)\n",
    "                return 2;\n",
    "\n",
    "            //top adiabatic Wall\n",
    "            if (Math.Abs(y + 0.5 ) < 1e-8)\n",
    "                return 1;\n",
    "\n",
    "            else throw new ArgumentOutOfRangeException();\n",
    "        });\n",
    "\n",
    "        myDb.SaveGrid(ref grd);\n",
    "\n",
    "        return grd;\n",
    "        }\n",
    "\n",
    "}"
   ]
  },
  {
   "cell_type": "code",
   "execution_count": null,
   "metadata": {
    "dotnet_interactive": {
     "language": "csharp"
    },
    "vscode": {
     "languageId": "dotnet-interactive.csharp"
    }
   },
   "outputs": [],
   "source": [
    "public static class BoundaryValueFactory { \n",
    "\n",
    "    public static string GetPrefixCode(double Th, double Tc, double Froude) {\n",
    "        using(var stw = new System.IO.StringWriter()) {\n",
    "           \n",
    "           stw.WriteLine(\"static class BoundaryValues {\");\n",
    "           stw.WriteLine(\"  static public double VelX(double[] X) {\");\n",
    "           stw.WriteLine(\"    return 0.0;\");\n",
    "           stw.WriteLine(\"  }\");\n",
    "\n",
    "           stw.WriteLine(\"  static public double VelY(double[] X) {\");\n",
    "           stw.WriteLine(\"    return 0.0;\");\n",
    "           stw.WriteLine(\"  }\");\n",
    "\n",
    "           stw.WriteLine(\"  static public double TemperatureHot(double[] X) {\");\n",
    "           stw.WriteLine(\"    return 1.6;\");\n",
    "           stw.WriteLine(\"  }\");\n",
    "\n",
    "           stw.WriteLine(\"  static public double TemperatureCold(double[] X) {\");\n",
    "           stw.WriteLine(\"    return 0.4;\");\n",
    "           stw.WriteLine(\"  }\");\n",
    "\n",
    "           stw.WriteLine(\"  static public double One(double[] X) {\");\n",
    "           stw.WriteLine(\"    return  1.0;\");\n",
    "           stw.WriteLine(\"  }\");\n",
    "\n",
    "           stw.WriteLine(\"  static public double Zero(double[] X) {\");\n",
    "           stw.WriteLine(\"    return  0.0;\");\n",
    "           stw.WriteLine(\"  }\");\n",
    "\n",
    "           stw.WriteLine(\" static public double InitialPressure(double[] X) { \");\n",
    "            stw.WriteLine(\"         return (-1)* X[1] / (\"+Froude * Froude +\") ;\");\n",
    "            stw.WriteLine(\"    }\");\n",
    "            stw.WriteLine(\"}\"); \n",
    "           return stw.ToString();\n",
    "        }\n",
    "    }\n",
    "   \n",
    "    static public Formula Get_VelX(double Th, double Tc , double Froude) {\n",
    "        return new Formula(\"BoundaryValues.VelX\", AdditionalPrefixCode:GetPrefixCode(Th,Tc,Froude));\n",
    "    }\n",
    "\n",
    "    static public Formula Get_VelY(double Th, double Tc, double Froude){\n",
    "        return new Formula(\"BoundaryValues.VelY\", AdditionalPrefixCode:GetPrefixCode(Th,Tc,Froude));\n",
    "    }\n",
    "    static public Formula Get_TemperatureHot(double Th, double Tc, double Froude){\n",
    "        return new Formula(\"BoundaryValues.TemperatureHot\", AdditionalPrefixCode:GetPrefixCode(Th,Tc,Froude));\n",
    "    }\n",
    "\n",
    "     static public Formula Get_TemperatureCold(double Th, double Tc, double Froude){\n",
    "        return new Formula(\"BoundaryValues.TemperatureCold\", AdditionalPrefixCode:GetPrefixCode(Th,Tc,Froude));\n",
    "    }\n",
    "\n",
    "    static public Formula Get_One(double Th, double Tc, double Froude){\n",
    "        return new Formula(\"BoundaryValues.One\", AdditionalPrefixCode:GetPrefixCode(Th,Tc,Froude));\n",
    "    }\n",
    "    static public Formula Get_Zero(double Th, double Tc, double Froude){\n",
    "        return new Formula(\"BoundaryValues.Zero\", AdditionalPrefixCode:GetPrefixCode(Th,Tc,Froude));\n",
    "    }\n",
    "    static public Formula Get_InitialPressure(double Th, double Tc, double Froude){\n",
    "        return new Formula(\"BoundaryValues.InitialPressure\", AdditionalPrefixCode:GetPrefixCode(Th,Tc,Froude));\n",
    "    }\n",
    "}"
   ]
  },
  {
   "cell_type": "markdown",
   "metadata": {},
   "source": [
    "## Send and run jobs"
   ]
  },
  {
   "cell_type": "code",
   "execution_count": null,
   "metadata": {
    "dotnet_interactive": {
     "language": "csharp"
    },
    "vscode": {
     "languageId": "dotnet-interactive.csharp"
    }
   },
   "outputs": [],
   "source": [
    "var controls = new List<XNSEC_Control>();"
   ]
  },
  {
   "cell_type": "code",
   "execution_count": null,
   "metadata": {
    "dotnet_interactive": {
     "language": "csharp"
    },
    "vscode": {
     "languageId": "dotnet-interactive.csharp"
    }
   },
   "outputs": [],
   "source": [
    "var controls = new List<BoSSS.Application.XNSEC.XNSEC_Control>();\n",
    "double Th = 1.6; double Tc = 0.4;\n",
    "foreach(double Ra in Rayleighs) {\n",
    "    foreach(int dg in DGdegree) {\n",
    "        foreach(int Res in Resolutions) {\n",
    "\n",
    "            var C = new BoSSS.Application.XNSEC.XNSEC_Control();\n",
    "            C.SetDGdegree(dg);\n",
    "            var nCells = (int)Math.Pow(2, Res + 1);\n",
    "            C.SetGrid(GridFactory.GenerateGrid(nCells));\n",
    "            C.Paramstudy_CaseIdentification.Add(new Tuple<string, object>(\"Res\", Res));\n",
    "            C.Paramstudy_CaseIdentification.Add(new Tuple<string, object>(\"Dgdegree\", dg));\n",
    "            C.Paramstudy_CaseIdentification.Add(new Tuple<string, object>(\"Rayleigh\", Ra));\n",
    "            C.SessionName = \"NaturalConvection_k\" + Res + \"_DG\" + dg + \"_Ra\" + Ra;\n",
    "            C.savetodb = true;\n",
    "            C.EnableMassFractions = false;\n",
    "            C.NumberOfChemicalSpecies = 1;\n",
    "            C.ChemicalReactionActive = false;\n",
    "            C.MatParamsMode = MaterialParamsMode.Sutherland;\n",
    "            C.physicsMode = PhysicsMode.Combustion;\n",
    "            C.TimesteppingMode = AppControl._TimesteppingMode.Steady;\n",
    "\n",
    "\n",
    "            C.LinearSolver = LinearSolverCode.direct_pardiso.GetConfig();\n",
    "            C.NonLinearSolver.ConvergenceCriterion = 0.0; // as accurate as possible, until no further reduction can be achieved.\n",
    "\n",
    "            C.NonLinearSolver.MaxSolverIterations = 200;\n",
    "\n",
    "            C.PenaltyViscMomentum = 1.0 * 1;\n",
    "            C.PenaltyHeatConduction = 1.0 * 1;\n",
    "            C.PhysicalParameters.IncludeConvection = true;\n",
    "\n",
    "            C.UseSelfMadeTemporalOperator = false;\n",
    "            C.timeDerivativeEnergyp0_OK = false;\n",
    "            C.timeDerivativeConti_OK = false;\n",
    "\n",
    "            C.EdgeTagsNusselt = new string[] { \"wall_tempfixed_left\", \"wall_tempfixed_right\", \"NoSlipNeumann\" };\n",
    "\n",
    "            C.Rayleigh = Ra;\n",
    "            C.Reynolds = Math.Sqrt(Ra);\n",
    "            C.Prandtl = 0.71;\n",
    "            double Fr = Math.Sqrt(2 * C.Prandtl * (1.6 - 0.4) / (1.6 + 0.4));\n",
    "            C.Froude = Fr;\n",
    "            C.HeatCapacityRatio = 1.4;\n",
    "            C.T_ref_Sutherland = 600;\n",
    "            C.ThermodynamicPressureMode = ThermodynamicPressureMode.MassDetermined; // Because its a closed system, i.e. p0 = p0(time)\n",
    "            C.PhysicalParameters.IncludeConvection = true;\n",
    "            C.Timestepper_LevelSetHandling = BoSSS.Solution.XdgTimestepping.LevelSetHandling.None;\n",
    "\n",
    "\n",
    "            if(Ra > 1e5) { // For Rayleigh numbers greater than 1e5 the newton-dogleg algorithm doesnt find a solution within ~ 70 iterations => Use homotopy\n",
    "                C.HomotopyVariable = XNSEC_Control.HomotopyVariableEnum.Reynolds;\n",
    "                C.homotopieAimedValue = Math.Sqrt(Ra);\n",
    "                C.StartingHomotopyValue = Math.Sqrt(1e4); // Suficiently easy to find solution\n",
    "                C.HomotopyApproach = XNSEC_Control.HomotopyType.Automatic;\n",
    "                C.NonLinearSolver.HomotopyStepLongFail = 100;\n",
    "            }\n",
    "\n",
    "\n",
    "\n",
    "            C.AddBoundaryValue(\"NoSlipNeumann\", VariableNames.VelocityX, BoundaryValueFactory.Get_VelX(Th, Tc, Fr));\n",
    "            C.AddBoundaryValue(\"NoSlipNeumann\", VariableNames.VelocityY, BoundaryValueFactory.Get_VelY(Th, Tc, Fr));\n",
    "\n",
    "            C.AddBoundaryValue(\"wall_tempfixed_left\", VariableNames.Temperature, BoundaryValueFactory.Get_TemperatureHot(Th, Tc, Fr));\n",
    "            C.AddBoundaryValue(\"wall_tempfixed_right\", VariableNames.Temperature, BoundaryValueFactory.Get_TemperatureCold(Th, Tc, Fr));\n",
    "\n",
    "            C.AddBoundaryValue(\"wall_tempfixed_left\", VariableNames.MassFraction0, BoundaryValueFactory.Get_One(Th, Tc, Fr));\n",
    "            C.AddBoundaryValue(\"wall_tempfixed_right\", VariableNames.MassFraction0, BoundaryValueFactory.Get_One(Th, Tc, Fr));\n",
    "            \n",
    "            C.AddInitialValue(VariableNames.VelocityX, BoundaryValueFactory.Get_Zero(Th, Tc, Fr));\n",
    "            C.AddInitialValue(VariableNames.VelocityY, BoundaryValueFactory.Get_Zero(Th, Tc, Fr));\n",
    "            C.AddInitialValue(VariableNames.Pressure, BoundaryValueFactory.Get_InitialPressure(Th, Tc, Fr));\n",
    "\n",
    "            C.AddInitialValue(VariableNames.Temperature, BoundaryValueFactory.Get_One(Th, Tc, Fr));\n",
    "            C.AddInitialValue(VariableNames.MassFraction0, BoundaryValueFactory.Get_One(Th, Tc, Fr));\n",
    "\n",
    "            C.AddInitialValue(VariableNames.ThermodynamicPressure, BoundaryValueFactory.Get_One(Th, Tc, Fr));\n",
    "\n",
    "\n",
    "            controls.Add(C);\n",
    "        }\n",
    "    }\n",
    "}"
   ]
  },
  {
   "cell_type": "markdown",
   "metadata": {},
   "source": [
    "## Run Simulations"
   ]
  },
  {
   "cell_type": "code",
   "execution_count": null,
   "metadata": {
    "dotnet_interactive": {
     "language": "csharp"
    },
    "vscode": {
     "languageId": "dotnet-interactive.csharp"
    }
   },
   "outputs": [],
   "source": [
    "BoSSSshell.ExecutionQueues.ForEach(q => Console.WriteLine(q))"
   ]
  },
  {
   "cell_type": "code",
   "execution_count": null,
   "metadata": {
    "dotnet_interactive": {
     "language": "csharp"
    },
    "vscode": {
     "languageId": "dotnet-interactive.csharp"
    }
   },
   "outputs": [],
   "source": [
    "var myBatch = BoSSSshell.GetDefaultQueue();"
   ]
  },
  {
   "cell_type": "code",
   "execution_count": null,
   "metadata": {
    "dotnet_interactive": {
     "language": "csharp"
    },
    "vscode": {
     "languageId": "dotnet-interactive.csharp"
    }
   },
   "outputs": [],
   "source": [
    "//myBatch.AllowedDatabasesPaths.Add(new AllowedDatabasesPair(myDb.Path,\"\"));"
   ]
  },
  {
   "cell_type": "code",
   "execution_count": null,
   "metadata": {
    "dotnet_interactive": {
     "language": "csharp"
    },
    "vscode": {
     "languageId": "dotnet-interactive.csharp"
    }
   },
   "outputs": [],
   "source": [
    "Type solver = typeof(BoSSS.Application.XNSEC.XNSEC);\n",
    "foreach(var c in controls) {\n",
    "    string jobName       = c.SessionName;\n",
    "    var oneJob           = new Job(jobName, solver);\n",
    "    int noOfProcs = Convert.ToInt32(c.Paramstudy_CaseIdentification[0].Item2) > 2 ? 4:1;\n",
    "     noOfProcs = Convert.ToInt32(c.Paramstudy_CaseIdentification[0].Item2) > 4 ? 8:noOfProcs;\n",
    "    oneJob.NumberOfMPIProcs = noOfProcs;\n",
    "    oneJob.SetControlObject(c);\n",
    "    oneJob.Activate(myBatch); \n",
    "}"
   ]
  },
  {
   "cell_type": "code",
   "execution_count": null,
   "metadata": {
    "dotnet_interactive": {
     "language": "csharp"
    },
    "vscode": {
     "languageId": "dotnet-interactive.csharp"
    }
   },
   "outputs": [],
   "source": [
    "// wait for all jobs to finish (up to 1 day, check every 2 minutes)\n",
    "BoSSSshell.WorkflowMgm.BlockUntilAllJobsTerminate(TimeOutSeconds:(3600*24*1), PollingIntervallSeconds:(60*2));"
   ]
  },
  {
   "cell_type": "markdown",
   "metadata": {
    "dotnet_interactive": {
     "language": "csharp"
    }
   },
   "source": []
  },
  {
   "cell_type": "code",
   "execution_count": null,
   "metadata": {
    "dotnet_interactive": {
     "language": "csharp"
    },
    "vscode": {
     "languageId": "dotnet-interactive.csharp"
    }
   },
   "outputs": [],
   "source": [
    "// detect failed Jobs in the job management\n",
    "var suspects = BoSSSshell.WorkflowMgm.AllJobs.Select(kv => kv.Value)\n",
    "    .Where(job => job.LatestSession.Tags.Contains(SessionInfo.NOT_TERMINATED_TAG)\n",
    "                  || job.LatestSession.Tags.Contains(SessionInfo.SOLVER_ERROR)).ToArray();\n",
    "suspects"
   ]
  },
  {
   "cell_type": "code",
   "execution_count": null,
   "metadata": {
    "dotnet_interactive": {
     "language": "csharp"
    },
    "vscode": {
     "languageId": "dotnet-interactive.csharp"
    }
   },
   "outputs": [],
   "source": [
    "NUnit.Framework.Assert.IsTrue(suspects.Count() <= 0, $\"{suspects.Count()} Failed Jobs of {BoSSSshell.WorkflowMgm.AllJobs.Count()} in total.\");"
   ]
  }
 ],
 "metadata": {
  "interpreter": {
   "hash": "57baa5815c940fdaff4d14510622de9616cae602444507ba5d0b6727c008cbd6"
  },
  "kernelspec": {
   "display_name": ".NET (C#)",
   "language": "C#",
   "name": ".net-csharp"
  },
  "language_info": {
   "file_extension": ".cs",
   "mimetype": "text/x-csharp",
   "name": "C#",
   "pygments_lexer": "csharp",
   "version": "10.0"
  }
 },
 "nbformat": 4,
 "nbformat_minor": 4
}

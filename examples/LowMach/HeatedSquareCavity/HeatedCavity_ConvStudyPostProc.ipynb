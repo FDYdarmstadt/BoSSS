{
 "cells": [
  {
   "cell_type": "code",
   "execution_count": null,
   "metadata": {
    "dotnet_interactive": {
     "language": "csharp"
    },
    "vscode": {
     "languageId": "dotnet-interactive.csharp"
    }
   },
   "outputs": [],
   "source": [
    "#r \"BoSSSpad.dll\"\n",
    "//  #r \"D:\\BoSSS2\\experimental\\public\\src\\L4-application\\BoSSSpad\\bin\\Release\\net5.0\\bossspad.dll\"\n",
    "using System;\n",
    "using System.Collections.Generic;\n",
    "using System.Linq;\n",
    "using System.IO;\n",
    "using System.Data;\n",
    "using System.Globalization;\n",
    "using System.Threading;\n",
    "using ilPSP;\n",
    "using ilPSP.Utils;\n",
    "using BoSSS.Platform;\n",
    "using BoSSS.Foundation;\n",
    "using BoSSS.Foundation.Grid;\n",
    "using BoSSS.Foundation.Grid.Classic;\n",
    "using BoSSS.Foundation.IO;\n",
    "using BoSSS.Solution;\n",
    "using BoSSS.Solution.Control;\n",
    "using BoSSS.Solution.GridImport;\n",
    "using BoSSS.Solution.Statistic;\n",
    "using BoSSS.Solution.Utils;\n",
    "using BoSSS.Solution.Gnuplot;\n",
    "using BoSSS.Application.BoSSSpad;\n",
    "using BoSSS.Application.XNSE_Solver;\n",
    "using static BoSSS.Application.BoSSSpad.BoSSSshell;\n",
    "using BoSSS.Foundation.Grid.RefElements;\n",
    "using BoSSS.Platform.LinAlg;\n",
    "using BoSSS.Solution.NSECommon;\n",
    "using BoSSS.Application.XNSEC;\n",
    "Init();"
   ]
  },
  {
   "cell_type": "code",
   "execution_count": null,
   "metadata": {
    "dotnet_interactive": {
     "language": "csharp"
    },
    "vscode": {
     "languageId": "dotnet-interactive.csharp"
    }
   },
   "outputs": [],
   "source": [
    "BoSSSshell.WorkflowMgm.Init(\"HeatedCavity_ConvergenceStudy\");"
   ]
  },
  {
   "cell_type": "code",
   "execution_count": null,
   "metadata": {
    "dotnet_interactive": {
     "language": "csharp"
    },
    "vscode": {
     "languageId": "dotnet-interactive.csharp"
    }
   },
   "outputs": [],
   "source": [
    "var myBatch = BoSSSshell.GetDefaultQueue();\n",
    "var myDb = BoSSSshell.WorkflowMgm.DefaultDatabase;"
   ]
  },
  {
   "cell_type": "code",
   "execution_count": null,
   "metadata": {},
   "outputs": [],
   "source": [
    "wmg.Sessions"
   ]
  },
  {
   "cell_type": "code",
   "execution_count": null,
   "metadata": {
    "dotnet_interactive": {
     "language": "csharp"
    },
    "vscode": {
     "languageId": "dotnet-interactive.csharp"
    }
   },
   "outputs": [],
   "source": [
    "// Find number of cells used in the finest mesh\n",
    "int NCellsFinestMesh = 0;\n",
    "var allsess = myDb.Sessions;\n",
    "foreach(var sess in allsess) {\n",
    "    //bool keyPresent = sess.KeysAndQueries.ContainsKey(\"Grid:NoOfCells\");\n",
    "    //Console.WriteLine($\"Session: {sess}: {keyPresent}\");\n",
    "    int c = Convert.ToInt32(sess.KeysAndQueries[\"Grid:NoOfCells\"]);\n",
    "    if( c > NCellsFinestMesh)\n",
    "    NCellsFinestMesh = c;\n",
    "}"
   ]
  },
  {
   "cell_type": "code",
   "execution_count": null,
   "metadata": {
    "dotnet_interactive": {
     "language": "csharp"
    },
    "vscode": {
     "languageId": "dotnet-interactive.csharp"
    }
   },
   "outputs": [],
   "source": []
  },
  {
   "cell_type": "code",
   "execution_count": null,
   "metadata": {
    "dotnet_interactive": {
     "language": "csharp"
    },
    "vscode": {
     "languageId": "dotnet-interactive.csharp"
    }
   },
   "outputs": [],
   "source": [
    "int[] DGDegrees = new int[] {1,2,3,4} ;"
   ]
  },
  {
   "cell_type": "code",
   "execution_count": null,
   "metadata": {
    "dotnet_interactive": {
     "language": "csharp"
    },
    "vscode": {
     "languageId": "dotnet-interactive.csharp"
    }
   },
   "outputs": [],
   "source": []
  },
  {
   "cell_type": "code",
   "execution_count": null,
   "metadata": {
    "vscode": {
     "languageId": "dotnet-interactive.csharp"
    }
   },
   "outputs": [],
   "source": [
    "// int counter = 0;\n",
    "// string[] varNames = new string[]{\"VelocityX\", \"VelocityY\", \"Pressure\",\"Temperature\"};\n",
    "\n",
    "// IEnumerable<KeyValuePair<string, double>>[] RegressionS = new IEnumerable<KeyValuePair<string, double>>[varNames.Length];\n",
    "\n",
    "//     Plot2Ddata[,] PlotTable = new Plot2Ddata[2, 2];\n",
    "//     int cnt2 = -1;\n",
    "//     for (int iCol = 0; iCol < 2; iCol++) {\n",
    "//         for (int iRow = 0; iRow < 2; iRow++) {\n",
    "//             var allColors = Enum.GetValues(typeof(LineColors)).Cast<LineColors>().ToArray();\n",
    "//             var allPointTypes = Enum.GetValues(typeof(PointTypes)).Cast<PointTypes>().ToArray();\n",
    "//             PointTypes[] myPointTypes = new PointTypes[]{ PointTypes.Diamond, PointTypes.Box,  PointTypes.LowerTriangle,PointTypes.OpenLowerTriangle, };\n",
    "//             cnt2++;\n",
    "//             // BoSSS data\n",
    "//             var fmt = new PlotFormat();\n",
    "//             fmt.Style = Styles.Lines;\n",
    "//             fmt.LineColor = allColors[cnt2 % allColors.Length];\n",
    "//             fmt.PointType =  allPointTypes[cnt2 % allPointTypes.Length];\n",
    "//             fmt.DashType = DashTypes.Solid;            \n",
    "            \n",
    "//             string dgDegStr = (varNames[cnt2] == \"VelocityX\"  || varNames[cnt2] == \"VelocityY\" ) ? \"DGdegree:Velocity*\":\"DGdegree:\"+varNames[cnt2];\n",
    "//             var Tab = BoSSSshell.WorkflowMgm.SessionTable;\n",
    "//             var Tab2 = Tab.ExtractColumns( dgDegStr,\"Grid:hMin\",\"Grid:NoOfCells\" ,\"L2Error_\"+  varNames[cnt2]);\n",
    "//             //Extract last point, the one against we are comparing our solutions with\n",
    "//             Tab2 = Tab2.ExtractRows((iRow,RowEntries)=> Convert.ToInt32(RowEntries[\"Grid:NoOfCells\"]) != NCellsFinestMesh );\n",
    "//             var plot = Tab2.ToPlot(\"Grid:hMin\",\"L2Error_\"+  varNames[cnt2],  dgDegStr);\n",
    "\n",
    "//             int cc = 0;\n",
    "//             foreach(var dataGroup in plot.dataGroups){\n",
    "//                 dataGroup.Format.PointType = myPointTypes[cc];\n",
    "//                 cc++;\n",
    "//             }            \n",
    "//             plot.LogX = true;\n",
    "//             plot.LogY = true;\n",
    "\n",
    "//             plot.Title = varNames[cnt2];\n",
    "//             plot.TitleFont = 20;\n",
    "//             plot.Xlabel = \"h\";  \n",
    "//             plot.Ylabel = \"L_2 Error\";  \n",
    "//             PlotTable[iCol, iRow] = plot;\n",
    "\n",
    "//             RegressionS[cnt2] = plot.Regression();\n",
    "//         }\n",
    "//     }"
   ]
  },
  {
   "cell_type": "code",
   "execution_count": null,
   "metadata": {
    "dotnet_interactive": {
     "language": "csharp"
    },
    "vscode": {
     "languageId": "dotnet-interactive.csharp"
    }
   },
   "outputs": [],
   "source": [
    "int counter = 0;\n",
    "string[] varNames = new string[] { \"VelocityX\", \"VelocityY\", \"Pressure\", \"Temperature\" };\n",
    "\n",
    "IEnumerable<KeyValuePair<string, double>>[] RegressionS = new IEnumerable<KeyValuePair<string, double>>[varNames.Length];\n",
    "\n",
    "Plot2Ddata[,] PlotTable = new Plot2Ddata[2, 2];\n",
    "int cnt2 = -1;\n",
    "for (int iCol = 0; iCol < 2; iCol++) {\n",
    "    for (int iRow = 0; iRow < 2; iRow++) {\n",
    "        var allColors = Enum.GetValues(typeof(LineColors)).Cast<LineColors>().ToArray();\n",
    "        var allPointTypes = Enum.GetValues(typeof(PointTypes)).Cast<PointTypes>().ToArray();\n",
    "        PointTypes[] myPointTypes = new PointTypes[] { PointTypes.Diamond, PointTypes.Box, PointTypes.LowerTriangle, PointTypes.OpenLowerTriangle, };\n",
    "        cnt2++;\n",
    "        string varname = varNames[cnt2];\n",
    "\n",
    "        var ExpPlotS = new List<Plot2Ddata>();\n",
    "\n",
    "        var fmt = new PlotFormat();\n",
    "        fmt.Style = Styles.Lines;\n",
    "        fmt.LineColor = allColors[cnt2 % allColors.Length];\n",
    "        fmt.PointType = allPointTypes[cnt2 % allPointTypes.Length];\n",
    "        fmt.DashType = DashTypes.Solid;\n",
    "\n",
    "        foreach (int pDeg in DGDegrees) {\n",
    "\n",
    "            int actualDGDeg = varname == \"Pressure\" ? pDeg-1:pDeg;\n",
    "            string dgDegStr = (varname == \"VelocityX\"  || varname == \"VelocityY\" ) ? \"DGdegree:Velocity*\":\"DGdegree:\"+varname;\n",
    "\n",
    "            var pDegSessions = myDb.Sessions.Where(\n",
    "                Si => (Convert.ToInt32(Si.KeysAndQueries[dgDegStr]) == actualDGDeg)\n",
    "                ).ToArray();\n",
    "            Plot2Ddata pDegPlot =\n",
    "                pDegSessions.ToEstimatedGridConvergenceData(\n",
    "                    varname,\n",
    "                xAxis_Is_hOrDof: true, // false selects DOFs for x-axis \n",
    "                normType: varname == \"Pressure\" ? NormType.L2noMean_embedded : NormType.L2_embedded);\n",
    "            ExpPlotS.Add(pDegPlot);\n",
    "        }\n",
    "\n",
    "        // ExpPlotS[0].dataGroups[0].Format.PointType = PointTypes.Diamond;\n",
    "        // ExpPlotS[1].dataGroups[0].Format.PointType = PointTypes.Box;\n",
    "        // ExpPlotS[2].dataGroups[0].Format.PointType = PointTypes.LowerTriangle;\n",
    "        // ExpPlotS[3].dataGroups[0].Format.PointType = PointTypes.Asterisk;\n",
    "        // ExpPlotS[0].dataGroups[0].Name = \"$k = 1$\";\n",
    "        // ExpPlotS[1].dataGroups[0].Name = \"$k = 2$\";\n",
    "        // ExpPlotS[2].dataGroups[0].Name = \"$k = 3$\";\n",
    "        // ExpPlotS[3].dataGroups[0].Name = \"$k = 4$\";\n",
    "        // foreach (var p in ExpPlotS) {\n",
    "        //     p.dataGroups[0].Format.PointSize = 0.8;\n",
    "        //     p.dataGroups[0].Format.DashType = DashTypes.Dotted;\n",
    "        //     p.dataGroups[0].Format.LineWidth = 2;\n",
    "        // }\n",
    "\n",
    "        var ExpPlot = ExpPlotS [0]; // select 0-th object\n",
    "        foreach (var p in ExpPlotS.Skip(1)) { // loop over other ( skip 0-th entry )\n",
    "            ExpPlot = ExpPlot.Merge(p); // merge\n",
    "        }\n",
    "        \n",
    "        ExpPlot.LogX = true;\n",
    "        ExpPlot.LogY = true;\n",
    "\n",
    "        ExpPlot.Title = varNames[cnt2];\n",
    "        ExpPlot.TitleFont = 20;\n",
    "        ExpPlot.Xlabel = \"h\";  \n",
    "        ExpPlot.Ylabel = \"L_2 Error\";  \n",
    "        PlotTable[iCol, iRow] = ExpPlot;\n",
    "        RegressionS[cnt2] = ExpPlot.Regression();\n",
    "\n",
    "    }\n",
    "}\n",
    "\n"
   ]
  },
  {
   "cell_type": "code",
   "execution_count": null,
   "metadata": {
    "dotnet_interactive": {
     "language": "csharp"
    },
    "vscode": {
     "languageId": "dotnet-interactive.csharp"
    }
   },
   "outputs": [],
   "source": [
    "var gp = PlotTable.ToGnuplot();\n",
    "gp.PlotSVG(xRes:1000,yRes:1000)"
   ]
  },
  {
   "cell_type": "code",
   "execution_count": null,
   "metadata": {
    "dotnet_interactive": {
     "language": "csharp"
    },
    "vscode": {
     "languageId": "dotnet-interactive.csharp"
    }
   },
   "outputs": [],
   "source": [
    "int cnt = 0;\n",
    "foreach(var reg in RegressionS){\n",
    "    Console.WriteLine(varNames[cnt]);\n",
    "    var regB = reg.ToArray();\n",
    "    for(int j = 0; j < regB.Length; j++){       \n",
    "        int dgDeg = ( regB[j].Key).Last() - '0';\n",
    "        Console.Write(\"DG degree: \"+ dgDeg+ \" \\t\");\n",
    "        double slope = regB[j].Value;\n",
    "        Console.Write(\"Slope: \" +slope + \"\\t\");\n",
    "\n",
    "        if((slope - (dgDeg + 1) ) >= -0.2)\n",
    "        Console.WriteLine(\"Expected slope archieved\");\n",
    "        else\n",
    "        Console.WriteLine(\"The slope value is too low\");\n",
    "    }\n",
    "    cnt++;\n",
    "}\n"
   ]
  },
  {
   "cell_type": "code",
   "execution_count": null,
   "metadata": {
    "dotnet_interactive": {
     "language": "csharp"
    },
    "vscode": {
     "languageId": "dotnet-interactive.csharp"
    }
   },
   "outputs": [],
   "source": []
  },
  {
   "cell_type": "code",
   "execution_count": null,
   "metadata": {
    "dotnet_interactive": {
     "language": "csharp"
    },
    "vscode": {
     "languageId": "dotnet-interactive.csharp"
    }
   },
   "outputs": [],
   "source": []
  },
  {
   "cell_type": "code",
   "execution_count": null,
   "metadata": {},
   "outputs": [],
   "source": []
  },
  {
   "cell_type": "code",
   "execution_count": null,
   "metadata": {},
   "outputs": [],
   "source": []
  }
 ],
 "metadata": {
  "interpreter": {
   "hash": "5a4c2b90e762e735d09b118f9f9cec0074c9c9a762110f7a987def15c668bc0d"
  },
  "kernelspec": {
   "display_name": ".NET (C#)",
   "language": "C#",
   "name": ".net-csharp"
  },
  "language_info": {
   "file_extension": ".cs",
   "mimetype": "text/x-csharp",
   "name": "C#",
   "pygments_lexer": "csharp",
   "version": "10.0"
  }
 },
 "nbformat": 4,
 "nbformat_minor": 4
}

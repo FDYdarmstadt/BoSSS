{
 "cells": [
  {
   "cell_type": "code",
   "execution_count": null,
   "metadata": {
    "dotnet_interactive": {
     "language": "csharp"
    },
    "vscode": {
     "languageId": "dotnet-interactive.csharp"
    }
   },
   "outputs": [],
   "source": [
    "//#r \"D:\\BoSSS2\\experimental\\public\\src\\L4-application\\BoSSSpad\\bin\\Release\\net5.0\\bossspad.dll\"\n",
    "#r \"BoSSSpad.dll\"\n",
    "using System;\n",
    "using System.Collections.Generic;\n",
    "using System.Linq;\n",
    "using System.IO;\n",
    "using System.Data;\n",
    "using System.Globalization;\n",
    "using System.Threading;\n",
    "using ilPSP;\n",
    "using ilPSP.Utils;\n",
    "using BoSSS.Platform;\n",
    "using BoSSS.Foundation;\n",
    "using BoSSS.Foundation.Grid;\n",
    "using BoSSS.Foundation.Grid.Classic;\n",
    "using BoSSS.Foundation.IO;\n",
    "using BoSSS.Solution;\n",
    "using BoSSS.Solution.Control;\n",
    "using BoSSS.Solution.GridImport;\n",
    "using BoSSS.Solution.Statistic;\n",
    "using BoSSS.Solution.Utils;\n",
    "using BoSSS.Solution.Gnuplot;\n",
    "using BoSSS.Application.BoSSSpad;\n",
    "using BoSSS.Application.XNSE_Solver;\n",
    "using static BoSSS.Application.BoSSSpad.BoSSSshell;\n",
    "using BoSSS.Foundation.Grid.RefElements;\n",
    "using BoSSS.Platform.LinAlg;\n",
    "using BoSSS.Solution.NSECommon;\n",
    "using BoSSS.Application.XNSEC;\n",
    "Init();"
   ]
  },
  {
   "cell_type": "code",
   "execution_count": null,
   "metadata": {
    "dotnet_interactive": {
     "language": "csharp"
    },
    "vscode": {
     "languageId": "dotnet-interactive.csharp"
    }
   },
   "outputs": [],
   "source": []
  },
  {
   "cell_type": "markdown",
   "metadata": {
    "dotnet_interactive": {
     "language": "csharp"
    }
   },
   "source": [
    "## Open Database"
   ]
  },
  {
   "cell_type": "code",
   "execution_count": null,
   "metadata": {
    "dotnet_interactive": {
     "language": "csharp"
    },
    "vscode": {
     "languageId": "dotnet-interactive.csharp"
    }
   },
   "outputs": [],
   "source": [
    "BoSSSshell.WorkflowMgm.Init(\"CounterFlowFlame_MF_FullComparison\");"
   ]
  },
  {
   "cell_type": "code",
   "execution_count": null,
   "metadata": {
    "dotnet_interactive": {
     "language": "csharp"
    },
    "vscode": {
     "languageId": "dotnet-interactive.csharp"
    }
   },
   "outputs": [],
   "source": [
    "static var myBatch = GetDefaultQueue();\n",
    "static var myDb = BoSSSshell.WorkflowMgm.DefaultDatabase;"
   ]
  },
  {
   "cell_type": "code",
   "execution_count": null,
   "metadata": {
    "dotnet_interactive": {
     "language": "csharp"
    },
    "vscode": {
     "languageId": "dotnet-interactive.csharp"
    }
   },
   "outputs": [],
   "source": [
    "BoSSSshell.WorkflowMgm.SetNameBasedSessionJobControlCorrelation()"
   ]
  },
  {
   "cell_type": "markdown",
   "metadata": {},
   "source": [
    "## Case configuration"
   ]
  },
  {
   "cell_type": "code",
   "execution_count": null,
   "metadata": {
    "dotnet_interactive": {
     "language": "csharp"
    },
    "vscode": {
     "languageId": "dotnet-interactive.csharp"
    }
   },
   "outputs": [],
   "source": [
    "int nCells = 10;\n",
    "int[] multiplierS = new int[]{2,5,11}; // multiplying factor of inlet velocities\n",
    "// int[] multiplierS = new int[]{2}; // multiplying factor of inlet velocities\n",
    "double[] Smoothings = new double[] {80};\n",
    "int dgMF = 3; // Mass fraction DG degree\n",
    "int[] DGDegrees = new int[] {4};\n",
    "\n",
    "int[] nCellsArray = new int[] {10};\n",
    "\n",
    "double[] xCellsMultiplier = new double[] {3};\n",
    "\n",
    "double InitialMassFuelIn = 0.02400; //kg/m2s \n",
    "double InitialMassAirIn = 0.02400 *3; //kg/m2s \n",
    "bool parabolicVelocityProfile = false;\n",
    "bool chemicalReactionActive = true; \n",
    "bool useFullGeometry = false;\n",
    "bool wallBounded = true;"
   ]
  },
  {
   "cell_type": "markdown",
   "metadata": {},
   "source": [
    "## Create grid"
   ]
  },
  {
   "cell_type": "code",
   "execution_count": null,
   "metadata": {
    "dotnet_interactive": {
     "language": "csharp"
    },
    "vscode": {
     "languageId": "dotnet-interactive.csharp"
    }
   },
   "outputs": [],
   "source": [
    "public static class GridFactory {\n",
    "\n",
    "    public static Grid2D GenerateGrid(int nCells, bool wallBounded, double xDensity) {\n",
    "        double L = 0.02;\n",
    "        double LRef = L;\n",
    "        double R_dim = L / 2;\n",
    "        double separation = 1.0; // nondimensional\n",
    "        double xleft = 0;\n",
    "        double xright = separation;\n",
    "        double radius_inlet = R_dim / LRef;\n",
    "        double ybot = -separation * 3; \n",
    "        double ytop = separation * 3; \n",
    "\n",
    "        // Define Grid\n",
    "        double[] _xNodes;\n",
    "        double[] _yNodes;\n",
    "\n",
    "       // X-NODES\n",
    "        double xNodesDensity = xDensity; \n",
    "        _xNodes = GenericBlas.Linspace(xleft, xright, (int)(nCells * xNodesDensity + 1));\n",
    "        double sf3 = 0.80;\n",
    "        var myCenterNodes = GenericBlas.SinLinSpacing(0, radius_inlet*2,0.7, nCells*2 + 1).ToList(); // center\n",
    "        var centerNodes = myCenterNodes.GetSubVector(0, myCenterNodes.Count / 2 + 1); // Take only \"bottom side\" of node array\n",
    "\n",
    "\n",
    "        List<double> yNodesTop = (GenericBlas.SinLinSpacing(radius_inlet, (ytop - radius_inlet) * 2 + radius_inlet, sf3, nCells * 4 + 1).ToList()); // Nodes corresponding to the oxidizer inlet, right part\n",
    "        var myYnodesTop = yNodesTop.GetSubVector(0, yNodesTop.Count / 2 + 1); // Take only \"bottom side\" of node array\n",
    "\n",
    "        List<double> yUpperPart = new List<double>();\n",
    "        yUpperPart.AddRange(centerNodes.SkipLast(1));\n",
    "        yUpperPart.AddRange(myYnodesTop.SkipLast(0));\n",
    "\n",
    "        var yBottomPart = (yUpperPart.ToArray()).CloneAs();\n",
    "        yBottomPart.ScaleV(-1.0);\n",
    "        Array.Reverse(yBottomPart);\n",
    "        var yNodes = new List<double>();\n",
    "        yNodes.AddRange(yBottomPart.SkipLast(1));\n",
    "        yNodes.AddRange(yUpperPart.SkipLast(0));\n",
    "        \n",
    "        var grd = Grid2D.Cartesian2DGrid(_xNodes, yNodes.ToArray());\n",
    "        // Define Edge tags\n",
    "        grd.EdgeTagNames.Add(1, \"Velocity_Inlet_CH4\");\n",
    "        grd.EdgeTagNames.Add(2, \"Velocity_Inlet_O2\");\n",
    "        grd.EdgeTagNames.Add(3, \"Pressure_Outlet\");\n",
    "\n",
    "        if(wallBounded){\n",
    "            grd.EdgeTagNames.Add(4, \"Wall\");\n",
    "        }\n",
    "        grd.DefineEdgeTags(delegate (double[] X) {\n",
    "            double x = X[0];\n",
    "            double y = X[1];\n",
    "            //Edge tags\n",
    "            //1: Velocity inlet O_2\n",
    "            //2: Velocity inlet CH_4\n",
    "            //3: Pressure outlet\n",
    "            if(Math.Abs(x - xleft) < 1e-8) { // Left boundary\n",
    "                if(Math.Abs(y) - radius_inlet < 1e-8) { // Fuel Inlet\n",
    "                    return 1;\n",
    "                } else {\n",
    "                    if(wallBounded){\n",
    "                    return 4;\n",
    "                } else{\n",
    "                    return 3;\n",
    "                }\n",
    "                }\n",
    "            }\n",
    "            if(Math.Abs(x - xright) < 1e-8) { // right boundary\n",
    "                if(Math.Abs(y) - radius_inlet < 1e-8) { // oxy Inlet\n",
    "                    return 2;//2\n",
    "                } else {\n",
    "                    if(wallBounded){\n",
    "                        return 4;\n",
    "                    } else{\n",
    "                        return 3;\n",
    "                    }\n",
    "                }\n",
    "            } else {\n",
    "                return 3; //3 Pressure outlet\n",
    "            }\n",
    "        });\n",
    "        myDb.SaveGrid(ref grd);\n",
    "\n",
    "        return grd;\n",
    "    }\n",
    "\n",
    "    public static Grid2D GenerateGrid_FullGeometry(int nCells) {\n",
    "        double L = 0.02;\n",
    "        double LRef = L;\n",
    "        double R_dim = L / 2;\n",
    "        double separation = 1.0; // nondimensional\n",
    "        double xleft = 0;\n",
    "        double xright = separation;\n",
    "        double radius_inlet = R_dim / LRef;\n",
    "        double ybot = -separation * 3; //\n",
    "        double ytop = separation * 3;//\n",
    "\n",
    "        // Define Grid\n",
    "        double[] _xNodes;\n",
    "        double[] _yNodes;\n",
    "\n",
    "         // X-NODES\n",
    "        double[] XNODES1 = GenericBlas.Linspace(0, separation, (int)(nCells / 2 + 1));\n",
    "        double[] XNODES2 = GenericBlas.Linspace(separation * 1, separation * 2, (int)(nCells + 1));\n",
    "        double[] XNODES3 = GenericBlas.Linspace(separation * 2, separation * 3, (int)(nCells / 2 + 1));\n",
    "        List<double> xNodesList = new List<double>();\n",
    "        xNodesList.AddRange(XNODES1.Take(XNODES1.Length - 1));\n",
    "        xNodesList.AddRange(XNODES2.Take(XNODES2.Length - 1));\n",
    "        xNodesList.AddRange(XNODES3);\n",
    "        _xNodes = xNodesList.ToArray();\n",
    "\n",
    "        // Y-NODES\n",
    "        double sf3 = 0.0;\n",
    "        var _yNodes2 = GenericBlas.Linspace(-radius_inlet, radius_inlet, nCells + 1).ToList(); // center\n",
    "        List<double> yNodesTop = (GenericBlas.SinLinSpacing(radius_inlet, (ytop - radius_inlet) * 2 + radius_inlet, sf3, nCells * 2 + 1).ToList()); // Nodes corresponding to the oxidizer inlet, right part\n",
    "        var myYnodesTop = yNodesTop.GetSubVector(0, yNodesTop.Count / 2 + 1); // Take only \"bottom side\" of node array\n",
    "        var myYNodesBot = myYnodesTop.CloneAs();\n",
    "        myYNodesBot.ScaleV(-1.0);\n",
    "        Array.Reverse(myYNodesBot);\n",
    "        List<double> list2 = new List<double>();\n",
    "        list2.AddRange(myYNodesBot.Take(myYNodesBot.Length - 1).ToList());\n",
    "        list2.AddRange(_yNodes2.Take(_yNodes2.Count() - 1).ToList());\n",
    "        list2.AddRange(myYnodesTop.ToList());\n",
    "        _yNodes = list2.ToArray();\n",
    "\n",
    "        double[] CutOut1Point1 = new double[2] { separation, separation / 2 };\n",
    "        double[] CutOut1Point2 = new double[2] { 0, -separation / 2 };\n",
    "\n",
    "        double[] CutOut2Point1 = new double[2] { 2 * separation, -separation / 2 };\n",
    "        double[] CutOut2Point2 = new double[2] { 3 * separation, separation / 2 };\n",
    "\n",
    "        var CutOut1 = new BoSSS.Platform.Utils.Geom.BoundingBox(2);\n",
    "        CutOut1.AddPoint(CutOut1Point1);\n",
    "        CutOut1.AddPoint(CutOut1Point2);\n",
    "\n",
    "        var CutOut2 = new BoSSS.Platform.Utils.Geom.BoundingBox(2);\n",
    "        CutOut2.AddPoint(CutOut2Point1);\n",
    "        CutOut2.AddPoint(CutOut2Point2);\n",
    "        var CutOuts = new BoSSS.Platform.Utils.Geom.BoundingBox[] { CutOut1, CutOut2 };\n",
    "        var grd = Grid2D.Cartesian2DGrid(_xNodes, _yNodes, CutOuts: CutOuts);\n",
    "\n",
    "        grd.EdgeTagNames.Add(1, \"Velocity_Inlet_CH4\");\n",
    "        grd.EdgeTagNames.Add(2, \"Velocity_Inlet_O2\");\n",
    "        grd.EdgeTagNames.Add(3, \"Pressure_Outlet\");\n",
    "        grd.EdgeTagNames.Add(4, \"Wall\");\n",
    "\n",
    "        grd.DefineEdgeTags(delegate (double[] X) {\n",
    "            double x = X[0];\n",
    "            double y = X[1];\n",
    "            //Edge tags\n",
    "            //1: Velocity inlet O_2\n",
    "            //2: Velocity inlet CH_4\n",
    "            //3: Pressure outlet\n",
    "            if(Math.Abs(x - separation) < 1e-8 && Math.Abs(y) - radius_inlet < 1e-8) {\n",
    "                return 1;\n",
    "            }\n",
    "            if(Math.Abs(x - 2 * separation) < 1e-8 && Math.Abs(y) - radius_inlet < 1e-8) {\n",
    "                return 2;\n",
    "            }\n",
    "            if(Math.Abs(y - radius_inlet) < 1e-8 && x > 0 && x < separation) {\n",
    "                return 4;\n",
    "            }\n",
    "            if(Math.Abs(y - radius_inlet) < 1e-8 && x > 2 * separation && x < 3 * separation) {\n",
    "                return 4;\n",
    "            }\n",
    "            if(Math.Abs(y + radius_inlet) < 1e-8 && x > 0 && x < separation) {\n",
    "                return 4;\n",
    "            }\n",
    "            if(Math.Abs(y + radius_inlet) < 1e-8 && x > 2 * separation && x < 3 * separation) {\n",
    "                return 4;\n",
    "            }\n",
    "            return 3;\n",
    "        }\n",
    "        );\n",
    "        myDb.SaveGrid(ref grd);\n",
    "\n",
    "        return grd;\n",
    "    }\n",
    "}"
   ]
  },
  {
   "cell_type": "code",
   "execution_count": null,
   "metadata": {
    "dotnet_interactive": {
     "language": "csharp"
    },
    "vscode": {
     "languageId": "dotnet-interactive.csharp"
    }
   },
   "outputs": [],
   "source": [
    "public static class BoundaryValueFactory { \n",
    "\n",
    "    public static string GetPrefixCode(double ConstVal, double inletRadius, double uInFuel, double uInAir, double sigma) {\n",
    "        using(var stw = new System.IO.StringWriter()) {\n",
    "\n",
    "            stw.WriteLine(\"static class BoundaryValues {\");\n",
    "\n",
    "            stw.WriteLine(\"  static public double ConstantValue(double[] X) {\");\n",
    "            stw.WriteLine(\"    return \"+ ConstVal +\";\");\n",
    "            stw.WriteLine(\"  }\");\n",
    "\n",
    "            stw.WriteLine(\"  static public double ParabolaVelocityFuel(double[] X) {\");\n",
    "            stw.WriteLine(\"    return  (1.0 - Math.Pow(X[1] / \"+inletRadius+\", 2)) * \"+uInFuel+\" ;\");\n",
    "            stw.WriteLine(\"  }\");\n",
    "\n",
    "            stw.WriteLine(\"  static public double ParabolaVelocityAir(double[] X) {\");\n",
    "            stw.WriteLine(\"    return  -(1.0 - Math.Pow(X[1] / \"+inletRadius+\", 2)) * \"+uInAir+\";\");\n",
    "            stw.WriteLine(\"  }\");\n",
    "\n",
    "            stw.WriteLine(\"  static public double RegularizedPlugFlowFuel(double[] X) {\");    \n",
    "            stw.WriteLine(\" double res = 0;\");  \n",
    "            stw.WriteLine(\"         if(X[1] > 0) { \");\n",
    "            stw.WriteLine(\"     double H = 0.5 * (1.0 + Math.Tanh(\"+sigma+\" * (X[1] - \"+inletRadius+\"))); \");\n",
    "            stw.WriteLine(\"           res = \"+uInFuel+\" * (1 - 2*H); \");\n",
    "            stw.WriteLine(\"      }   \");\n",
    "            stw.WriteLine(\"  else { \");\n",
    "            stw.WriteLine(\"      double H = 0.5 * (1.0 + Math.Tanh(\"+sigma+\" * (X[1] + (\"+inletRadius+\")))); \");\n",
    "            stw.WriteLine(\"           res = \"+uInFuel+\" * ( 2*H-1); \");\n",
    "            stw.WriteLine(\"  } \");\n",
    "            stw.WriteLine(\"return res;\"); \n",
    "            stw.WriteLine(\"  }\");\n",
    "\n",
    "\n",
    "            stw.WriteLine(\"  static public double RegularizedPlugFlowAir(double[] X) {\");         \n",
    "            stw.WriteLine(\" double res = 0;\");\n",
    "            stw.WriteLine(\"         if(X[1] > 0) { \");\n",
    "            stw.WriteLine(\"     double H = 0.5 * (1.0 + Math.Tanh(\"+sigma+\" * (X[1] - \"+inletRadius+\"))); \");\n",
    "            stw.WriteLine(\"           res = \"+uInAir+\" * (1 - 2*H)*(-1); \");\n",
    "            stw.WriteLine(\"      }   \");\n",
    "            stw.WriteLine(\"  else { \");\n",
    "            stw.WriteLine(\"      double H = 0.5 * (1.0 + Math.Tanh(\"+sigma+\" * (X[1] + (\"+inletRadius+\")))); \");\n",
    "            stw.WriteLine(\"           res = \"+uInAir+\" * ( 2*H-1)*(-1); \");\n",
    "            stw.WriteLine(\"  } \");\n",
    "            stw.WriteLine(\"return res;\"); \n",
    "            stw.WriteLine(\"  }\");\n",
    "\n",
    "\n",
    "            stw.WriteLine(\"}\"); \n",
    "            return stw.ToString();\n",
    "        }\n",
    "    }\n",
    "\n",
    "    static public Formula Get_ConstantValue(double ConstVal, double inletRadius, double uInFuel, double uInAir, double sigma){\n",
    "        return new Formula(\"BoundaryValues.ConstantValue\", AdditionalPrefixCode:GetPrefixCode(ConstVal, inletRadius, uInFuel, uInAir,sigma));\n",
    "    }\n",
    "\n",
    "    static public Formula Get_ParabolaVelocityFuel(double ConstVal, double inletRadius, double uInFuel, double uInAir, double sigma){\n",
    "        return new Formula(\"BoundaryValues.ParabolaVelocityFuel\", AdditionalPrefixCode:GetPrefixCode(ConstVal, inletRadius, uInFuel, uInAir,sigma));\n",
    "    }\n",
    "    static public Formula Get_ParabolaVelocityAir(double ConstVal, double inletRadius, double uInFuel, double uInAir, double sigma){\n",
    "        return new Formula(\"BoundaryValues.ParabolaVelocityAir\", AdditionalPrefixCode:GetPrefixCode(ConstVal, inletRadius, uInFuel, uInAir,sigma));\n",
    "    }\n",
    "\n",
    "    static public Formula Get_RegularizedPlugFlowFuel(double ConstVal, double inletRadius, double uInFuel, double uInAir, double sigma){\n",
    "        return new Formula(\"BoundaryValues.RegularizedPlugFlowFuel\", AdditionalPrefixCode:GetPrefixCode(ConstVal, inletRadius, uInFuel, uInAir,sigma));\n",
    "    }\n",
    "\n",
    "    static public Formula Get_RegularizedPlugFlowAir(double ConstVal, double inletRadius, double uInFuel, double uInAir, double sigma){\n",
    "        return new Formula(\"BoundaryValues.RegularizedPlugFlowAir\", AdditionalPrefixCode:GetPrefixCode(ConstVal, inletRadius, uInFuel, uInAir,sigma));\n",
    "    }\n",
    "\n",
    "}"
   ]
  },
  {
   "cell_type": "markdown",
   "metadata": {},
   "source": [
    "## Create base control file\n",
    "In this ControlFile basic configuration of the CounterDiffusionFlame is defined."
   ]
  },
  {
   "cell_type": "code",
   "execution_count": null,
   "metadata": {
    "dotnet_interactive": {
     "language": "csharp"
    },
    "vscode": {
     "languageId": "dotnet-interactive.csharp"
    }
   },
   "outputs": [],
   "source": [
    "static XNSEC_Control GiveMeTheCtrlFile(int dg, int nCells, bool isMF, double massFuelIn, double massAirIn, bool parabolicVelocityProfile, bool UsefullGeometry, bool wallBounded, double xNodesMultiplier, double smoothing) {\n",
    "    var CC = new ChemicalConstants();\n",
    "\n",
    "    var C = isMF ? new XNSEC_MF_Control() : new XNSEC_Control();\n",
    "\n",
    "    C.NumberOfChemicalSpecies = 4; \n",
    "    C.SetDGdegree(dg); //\n",
    "    if(UsefullGeometry) {\n",
    "        C.SetGrid(GridFactory.GenerateGrid_FullGeometry(nCells));  //\n",
    "    } else {\n",
    "        C.SetGrid(GridFactory.GenerateGrid(nCells, wallBounded, xNodesMultiplier));  //\n",
    "    }\n",
    "\n",
    "    C.MatParamsMode = MaterialParamsMode.Sutherland;  //\n",
    "    // Problem Definition\n",
    "    //===================\n",
    "    double L = 0.02; // separation between the two inlets, meters\n",
    "    double TemperatureInFuel = 300;  //\n",
    "    double TemperatureInOxidizer = 300; //\n",
    "    double AtmPressure = 101325; // Pa\n",
    "    double[] FuelInletConcentrations = new double[] { 0.2, 0.0, 0.0, 0.0, 0.8 };\n",
    "\n",
    "    double[] OxidizerInletConcentrations = new double[] { 0.0, 0.23, 0.0, 0.0, 0.77 }; //\n",
    "    double[] MWs = new double[] { CC.MW_CH4, CC.MW_O2, CC.MW_CO2, CC.MW_H2O, CC.MW_N2 };\n",
    "\n",
    "    double mwFuel = CC.getAvgMW(MWs, FuelInletConcentrations);\n",
    "    double mwAir = CC.getAvgMW(MWs, OxidizerInletConcentrations);\n",
    "    double densityAirIn = AtmPressure * mwAir / (CC.R_gas * TemperatureInOxidizer * 1000); // kg / m3\n",
    "    double densityFuelIn = AtmPressure * mwFuel / (CC.R_gas * TemperatureInFuel * 1000); // kg / m3.\n",
    "    double uInFuel = massFuelIn / densityFuelIn; //\n",
    "    double uInAir = massAirIn / densityAirIn; //\n",
    "\n",
    "    Console.WriteLine(\"VelocityFuel\" + uInFuel);\n",
    "    Console.WriteLine(\"VelocityAir\" + uInAir);\n",
    "\n",
    "    // Reference values\n",
    "    //===================\n",
    "    // Basic units to be used: Kg, m, s, mol, pa,\n",
    "    double TRef = TemperatureInOxidizer;// Reference temperature  is the inlet temperature, (K)\n",
    "    double pRef = AtmPressure; // Pa\n",
    "    double uRef = Math.Max(uInFuel, uInAir); // m/s\n",
    "    double LRef = L;\n",
    "    C.GravityDirection = new double[] { 0.0, 0.0, 0.0 }; //No gravity.\n",
    "\n",
    "    // Solver configuration\n",
    "    // =======================\n",
    "    C.smoothingFactor = smoothing;\n",
    "    // C.NonLinearSolver.ConvergenceCriterion = 1e-8;\n",
    "    // C.LinearSolver.ConvergenceCriterion = 1e-10;\n",
    "\n",
    "    C.NonLinearSolver.verbose = true;\n",
    "    C.NonLinearSolver.SolverCode = NonLinearSolverCode.Newton;\n",
    "    C.NonLinearSolver.MaxSolverIterations = 10;\n",
    "    C.LinearSolver = LinearSolverCode.direct_pardiso.GetConfig();\n",
    "    C.TimesteppingMode = AppControl._TimesteppingMode.Steady;\n",
    "    C.saveperiod = 1;\n",
    "    C.PenaltyViscMomentum = 1.0; \n",
    "    C.PenaltyHeatConduction = 1.0;\n",
    "    C.YFuelInlet = FuelInletConcentrations[0];\n",
    "    C.YOxInlet = OxidizerInletConcentrations[1];\n",
    "    C.FuelInletConcentrations = FuelInletConcentrations;\n",
    "    C.OxidizerInletConcentrations = OxidizerInletConcentrations;\n",
    "    C.TFuelInlet = 1.0;\n",
    "    C.TOxInlet = 1.0;\n",
    "    C.PhysicalParameters.IncludeConvection = true;\n",
    "    // Chemical related parameters\n",
    "    double s = (CC.nu_O2 * CC.MW_O2) / (CC.nu_CH4 * CC.MW_CH4);\n",
    "    C.phi = s * C.YFuelInlet / C.YOxInlet;\n",
    "    C.zSt = 1.0 / (1.0 + C.phi);\n",
    "    var MLC = new MaterialLawCombustion(300, new double[] { }, C.MatParamsMode, C.rhoOne, true, 1.0, 1, 1, C.YOxInlet, C.YFuelInlet, C.zSt, CC, 0.75);\n",
    "    var ThermoProperties = new ThermodynamicalProperties();\n",
    "\n",
    "    //==========================\n",
    "    //Derived reference values\n",
    "    //==========================\n",
    "    C.uRef = uRef; // Reference velocity\n",
    "    C.LRef = LRef; // reference length\n",
    "    C.pRef = AtmPressure; // reference pressure\n",
    "    C.TRef = TemperatureInFuel;// reference temperature\n",
    "    C.MWRef = MLC.getAvgMW(MWs, C.OxidizerInletConcentrations); // Air mean molecular weight\n",
    "    C.rhoRef = C.pRef * C.MWRef / (8.314 * C.TRef * 1000); // Kg/m3. ok ;\n",
    "    C.cpRef = 1.3;//ThermoProperties.Calculate_Cp_Mixture(new double[] { 0.23, 0.77 }, new string[] { \"O2\", \"N2\" }, 300); // 1.219185317353029;// Representative value, KJ/Kg K ========> 1.31 for the one-step kinetic model\n",
    "    C.muRef = MLC.getViscosityDim(300);\n",
    "    C.MolarMasses = new double[] { C.CC.MW_CH4, C.CC.MW_O2, C.CC.MW_CO2, C.CC.MW_H2O, C.CC.MW_N2 };\n",
    "    C.MolarMasses.ScaleV(1.0 / C.MWRef); //NonDimensionalized Molar masses\n",
    "    C.T_ref_Sutherland = 300;\n",
    "    double heatRelease_Ref = (C.TRef * C.cpRef);\n",
    "    C.HeatRelease = C.CC.HeatReleaseMass / heatRelease_Ref;\n",
    "    C.B = CC.PreExponentialFactor;\n",
    "\n",
    "    C.StoichiometricCoefficients = new double[] { -1, -2, 1, 2, 0 };\n",
    "\n",
    "    C.Damk = C.rhoRef * C.LRef * C.B / (C.uRef * C.MWRef);\n",
    "    C.Reynolds = C.rhoRef * C.uRef * C.LRef / C.muRef;\n",
    "    C.Prandtl = 0.75; \n",
    "    C.Schmidt = C.Prandtl; // Because Lewis number  is assumed as 1.0  (Le = Pr/Sc)\n",
    "    C.Lewis = new double[] { 0.97, 1.11, 1.39, 0.83, 1.0 };\n",
    "    // C.Lewis = new double[] { 1.0, 1.0, 1.0, 1.0, 1.0 };\n",
    "\n",
    "    double g = 9.8; // m/s2\n",
    "    C.Froude = Math.Sqrt(uRef * uRef / (C.LRef * g)); // Not used\n",
    "    C.T_ref_Sutherland = 300; //////// Check this\n",
    "    C.ReactionRateConstants = new double[] { C.Damk, CC.Ta / TRef, 1.0, 1.0 }; \n",
    "    //==========================\n",
    "    // Initial conditions\n",
    "    //==========================\n",
    "    double dummy = 0;\n",
    "    double Radius = 0.5;\n",
    "    C.AddInitialValue(VariableNames.VelocityX, BoundaryValueFactory.Get_ConstantValue(0.0, Radius, uInFuel / C.uRef, uInAir / C.uRef,dummy));\n",
    "    C.AddInitialValue(VariableNames.VelocityY, BoundaryValueFactory.Get_ConstantValue(0.0, Radius, uInFuel / C.uRef, uInAir / C.uRef,dummy));\n",
    "    C.AddInitialValue(VariableNames.Pressure, BoundaryValueFactory.Get_ConstantValue(0.0, Radius, uInFuel / C.uRef, uInAir / C.uRef,dummy));\n",
    "\n",
    "    //==========================\n",
    "    // Boundary conditions\n",
    "    //==========================\n",
    "    double sigma = 10;\n",
    "    if(parabolicVelocityProfile) {\n",
    "        C.AddBoundaryValue(\"Velocity_Inlet_CH4\", VariableNames.Velocity_d(0), BoundaryValueFactory.Get_ParabolaVelocityFuel(dummy, Radius, uInFuel / C.uRef, dummy, dummy));\n",
    "        C.AddBoundaryValue(\"Velocity_Inlet_O2\", VariableNames.Velocity_d(0), BoundaryValueFactory.Get_ParabolaVelocityAir(dummy, Radius, dummy, uInAir / C.uRef, dummy));\n",
    "    } else { // Plug Flow\n",
    "        // C.AddBoundaryValue(\"Velocity_Inlet_CH4\", VariableNames.Velocity_d(0), BoundaryValueFactory.Get_ConstantValue(uInFuel / C.uRef, dummy, dummy, dummy, dummy));\n",
    "        // C.AddBoundaryValue(\"Velocity_Inlet_O2\", VariableNames.Velocity_d(0), BoundaryValueFactory.Get_ConstantValue((-1) * uInAir / C.uRef, dummy, dummy, dummy, dummy));\n",
    "        C.AddBoundaryValue(\"Velocity_Inlet_CH4\", VariableNames.Velocity_d(0), BoundaryValueFactory.Get_RegularizedPlugFlowFuel(dummy, Radius, uInFuel / C.uRef, dummy, sigma));\n",
    "        C.AddBoundaryValue(\"Velocity_Inlet_O2\", VariableNames.Velocity_d(0), BoundaryValueFactory.Get_RegularizedPlugFlowAir( dummy, Radius, dummy,  uInAir / C.uRef, sigma));\n",
    "    }\n",
    "\n",
    "    C.AddBoundaryValue(\"Velocity_Inlet_CH4\", VariableNames.Velocity_d(1), BoundaryValueFactory.Get_ConstantValue(0.0, dummy, dummy, dummy,dummy));\n",
    "    C.AddBoundaryValue(\"Velocity_Inlet_O2\", VariableNames.Velocity_d(1), BoundaryValueFactory.Get_ConstantValue(0.0, dummy, dummy, dummy,dummy));\n",
    "    if(wallBounded){\n",
    "        C.AddBoundaryValue(\"Wall\", VariableNames.VelocityX, BoundaryValueFactory.Get_ConstantValue(0.0, dummy, dummy, dummy,dummy));\n",
    "        C.AddBoundaryValue(\"Wall\", VariableNames.VelocityY, BoundaryValueFactory.Get_ConstantValue(0.0, dummy, dummy, dummy,dummy));\n",
    "    }\n",
    "    return C;\n",
    "}"
   ]
  },
  {
   "cell_type": "markdown",
   "metadata": {},
   "source": [
    "## Starting the MixtureFraction simulation\n",
    "Configuration  for the simulation using the mixture fraction approach, where an infinite reaction rate is assumed. Used to find adequate starting solution for the full problem."
   ]
  },
  {
   "cell_type": "code",
   "execution_count": null,
   "metadata": {
    "dotnet_interactive": {
     "language": "csharp"
    },
    "vscode": {
     "languageId": "dotnet-interactive.csharp"
    }
   },
   "outputs": [],
   "source": [
    "static XNSEC_Control GiveMeTheMixtureFractionCtrlFile(int dg, int nCells, double massFuelIn, double massAirIn, bool parabolicVelocityProfile, int multiplier, bool useFullGeometry, bool wallBounded, double xNodesMultiplier, double smoothing){\n",
    "    var C_MixtureFraction = GiveMeTheCtrlFile(dg, nCells, true,massFuelIn, massAirIn, parabolicVelocityProfile, useFullGeometry,  wallBounded , xNodesMultiplier, smoothing);\n",
    "    C_MixtureFraction.physicsMode = PhysicsMode.MixtureFraction;\n",
    "    C_MixtureFraction.ProjectName = \"CounterDifFlame\";\n",
    "    string name = C_MixtureFraction.ProjectName + \"P\" + dg + \"K\" + nCells + \"Multiplier\" +multiplier + \"xNodesMultiplier\"+xNodesMultiplier+\"smoothing\"+smoothing;\n",
    "    C_MixtureFraction.SessionName = \"FS_\" + name;\n",
    "\n",
    "    C_MixtureFraction.UseSelfMadeTemporalOperator = false;\n",
    "    C_MixtureFraction.ChemicalReactionActive = false;\n",
    "    C_MixtureFraction.physicsMode = PhysicsMode.MixtureFraction;\n",
    "    C_MixtureFraction.NonLinearSolver.MaxSolverIterations = 50; \n",
    "    C_MixtureFraction.dummycounter = multiplier;\n",
    "    \n",
    "    // Boundary and initial conditions\n",
    "    double dummy = -11111111;\n",
    "    C_MixtureFraction.AddInitialValue(VariableNames.MixtureFraction,BoundaryValueFactory.Get_ConstantValue(1.0,dummy,dummy , dummy, dummy));\n",
    "    C_MixtureFraction.AddBoundaryValue(\"Velocity_Inlet_CH4\", VariableNames.MixtureFraction, BoundaryValueFactory.Get_ConstantValue(1.0,dummy,dummy , dummy, dummy));\n",
    "    C_MixtureFraction.AddBoundaryValue(\"Velocity_Inlet_O2\", VariableNames.MixtureFraction, BoundaryValueFactory.Get_ConstantValue(0.0,dummy,dummy , dummy, dummy));\n",
    "\n",
    "    C_MixtureFraction.Tags.Add(multiplier.ToString()); // Tag used for restart of the full problem\n",
    "    double radius_inlet = 0.5; // radius is 1/2 from length separation\n",
    "    var troubledPoints = new List<double[]>();\n",
    "    if(useFullGeometry){\n",
    "        troubledPoints.Add(new double[]{2, +radius_inlet });\n",
    "        troubledPoints.Add(new double[]{2, -radius_inlet });\n",
    "        troubledPoints.Add(new double[]{1, +radius_inlet });\n",
    "        troubledPoints.Add(new double[]{1, -radius_inlet });\n",
    "    } else {\n",
    "        troubledPoints.Add(new double[]{0, +radius_inlet });\n",
    "        troubledPoints.Add(new double[]{0, -radius_inlet });\n",
    "        troubledPoints.Add(new double[]{1, +radius_inlet });\n",
    "        troubledPoints.Add(new double[]{1, -radius_inlet });\n",
    "    }\n",
    "    \n",
    "\n",
    "    bool useHomotopy = false;\n",
    "\n",
    "    if(useHomotopy) { \n",
    "        C_MixtureFraction.HomotopyApproach = XNSEC_Control.HomotopyType.Automatic;\n",
    "        // C_MixtureFraction.HomotopyVariable = XNSEC_Control.HomotopyVariableEnum.VelocityInletMultiplier;\n",
    "        // C_MixtureFraction.homotopieAimedValue = multiplier;\n",
    "        C_MixtureFraction.HomotopyVariable = XNSEC_Control.HomotopyVariableEnum.Reynolds;\n",
    "        C_MixtureFraction.homotopieAimedValue = C_MixtureFraction.Reynolds;\n",
    "    }\n",
    "\n",
    "\n",
    "    C_MixtureFraction.AdaptiveMeshRefinement = true;\n",
    "    C_MixtureFraction.AMR_startUpSweeps =2;\n",
    "    int NoOfPseudoTimesteps = 2;\n",
    "    C_MixtureFraction.TimesteppingMode = BoSSS.Solution.Control.AppControl._TimesteppingMode.Steady; \n",
    "    C_MixtureFraction.NoOfTimesteps = NoOfPseudoTimesteps ;\n",
    "\n",
    "    // C_MixtureFraction.activeAMRlevelIndicators.Add( new BoSSS.Application.XNSEC.AMR_onProblematicPoints(troubledPoints,C_MixtureFraction.AMR_startUpSweeps) );  \n",
    "    C_MixtureFraction.activeAMRlevelIndicators.Add(new BoSSS.Application.XNSEC.AMR_RefineAroundProblematicPoints(troubledPoints, 1, 0.01));\n",
    "    C_MixtureFraction.activeAMRlevelIndicators.Add( new BoSSS.Application.XNSEC.AMR_onFlameSheet(C_MixtureFraction.zSt,3) );\n",
    "    return C_MixtureFraction;\n",
    "}"
   ]
  },
  {
   "cell_type": "markdown",
   "metadata": {},
   "source": [
    "## Send and run jobs"
   ]
  },
  {
   "cell_type": "code",
   "execution_count": null,
   "metadata": {
    "dotnet_interactive": {
     "language": "csharp"
    },
    "vscode": {
     "languageId": "dotnet-interactive.csharp"
    }
   },
   "outputs": [],
   "source": [
    "foreach(double xDensityMult in  xCellsMultiplier)\n",
    "foreach(int nCells in nCellsArray){\n",
    "\n",
    "foreach(int i in multiplierS){\n",
    "  foreach(double smooth in Smoothings) {\n",
    "  double massFuelIn = InitialMassFuelIn*i;\n",
    "  double massAirIn = InitialMassAirIn*i;\n",
    "\n",
    "  Type solver_MF = typeof(BoSSS.Application.XNSEC.XNSEC_MixtureFraction);\n",
    "  var C_MixtureFraction = GiveMeTheMixtureFractionCtrlFile(dgMF, nCells, massFuelIn, massAirIn,  parabolicVelocityProfile, i, useFullGeometry, wallBounded, xDensityMult,smooth);\n",
    "  string jobName       = C_MixtureFraction.SessionName;\n",
    "  Console.WriteLine(jobName);\n",
    "  var oneJob           = new Job(jobName, solver_MF);\n",
    "  oneJob.NumberOfMPIProcs =  8;\n",
    "  oneJob.SetControlObject(C_MixtureFraction);\n",
    "    // oneJob.Activate(myBatch); \n",
    "    oneJob.Activate(); \n",
    "}\n",
    "}\n",
    "}"
   ]
  },
  {
   "cell_type": "code",
   "execution_count": null,
   "metadata": {
    "dotnet_interactive": {
     "language": "csharp"
    },
    "vscode": {
     "languageId": "dotnet-interactive.csharp"
    }
   },
   "outputs": [],
   "source": [
    "BoSSSshell.WorkflowMgm.BlockUntilAllJobsTerminate();"
   ]
  },
  {
   "cell_type": "markdown",
   "metadata": {},
   "source": [
    "## Starting the finite-rate chemistry simulation\n",
    "\n",
    "Now that the simulation for an \"infinite\" reaction rate is done, we use it for initializing the system with finite reaction rate. The goal is to obtain solutions of the counter difussion flame for increasing strain values. We start with a low strain (bigger Dahmkoehler number), which is increased until extintion is (hopefully) found"
   ]
  },
  {
   "cell_type": "code",
   "execution_count": null,
   "metadata": {
    "dotnet_interactive": {
     "language": "csharp"
    },
    "vscode": {
     "languageId": "dotnet-interactive.csharp"
    }
   },
   "outputs": [],
   "source": [
    "static XNSEC_Control GiveMeTheFullCtrlFile(int dg, int nCells, double massFuelIn, double massAirIn, ISessionInfo SessionToRestart, bool parabolicVelocityProfile, bool chemReactionActive, bool useFullGeometry, bool wallBounded, int mult, int counter, double xNodesMultiplier, double smoothing) {\n",
    "    var C_OneStep = GiveMeTheCtrlFile(dg, nCells, false, massFuelIn, massAirIn, parabolicVelocityProfile, useFullGeometry, wallBounded, xNodesMultiplier, smoothing);\n",
    "    C_OneStep.physicsMode = PhysicsMode.Combustion;\n",
    "    C_OneStep.ProjectName = \"CounterDifFlame\";\n",
    "    string name = C_OneStep.ProjectName + \"P\" + dg + \"K\" + nCells + \"mult\" + mult+\"_c\"+counter ;\n",
    "    C_OneStep.SessionName = \"Full_\" + name;\n",
    "    C_OneStep.VariableOneStepParameters = true;\n",
    "\n",
    "    // C_OneStep.Tags.Add(\"VelocityMultiplier\" + mult);\n",
    "    C_OneStep.Tags.Add( mult.ToString());\n",
    "    C_OneStep.dummycounter = counter;\n",
    "    C_OneStep.UseSelfMadeTemporalOperator = false;\n",
    "    C_OneStep.myThermalWallType = SIPDiffusionTemperature.ThermalWallType.Adiabatic;\n",
    "    C_OneStep.Timestepper_LevelSetHandling = BoSSS.Solution.XdgTimestepping.LevelSetHandling.None;\n",
    "    C_OneStep.UseMixtureFractionsForCombustionInitialization = true;\n",
    "\n",
    "    C_OneStep.LinearSolver = new BoSSS.Solution.AdvancedSolvers.OrthoMGSchwarzConfig() {\n",
    "        NoOfMultigridLevels = 5,\n",
    "        //verbose = true\n",
    "    };\n",
    "\n",
    "    C_OneStep.ChemicalReactionActive = chemReactionActive;\n",
    "    C_OneStep.AdaptiveMeshRefinement = true;\n",
    "    \n",
    "    C_OneStep.HeatCapacityMode = MaterialLaw_MultipleSpecies.CpCalculationMode.mixture;\n",
    "\n",
    "    bool AMRinEachNewtonStep = false;\n",
    "\n",
    "    if( AMRinEachNewtonStep) {\n",
    "        C_OneStep.NoOfTimesteps = 4;\n",
    "        C_OneStep.NonLinearSolver.MaxSolverIterations = 8; // Do only one newton iteration before refining\n",
    "        C_OneStep.NonLinearSolver.MinSolverIterations = 8; // Do only one newton iteration before refining\n",
    "    } else{\n",
    "        C_OneStep.NoOfTimesteps = 3; // The steady solution will be calculated again and do AMR\n",
    "        C_OneStep.NonLinearSolver.MaxSolverIterations = 3;\n",
    "    }\n",
    "\n",
    "    C_OneStep.AMR_startUpSweeps = 0;\n",
    "    if(C_OneStep.ChemicalReactionActive){\n",
    "        C_OneStep.activeAMRlevelIndicators.Add(new AMR_onReactiveZones( 2, 0.2));\n",
    "        C_OneStep.activeAMRlevelIndicators.Add(new AMR_BasedOnVariableLimits(\"Temperature\", new double[] { -100, 4 },3)); // Refine all cells with T > 5 (and T < -100)\n",
    "        // C_OneStep.activeAMRlevelIndicators.Add(new AMR_BasedOnFieldGradient(2, 0.9, VariableNames.Temperature));\n",
    "        // C_OneStep.activeAMRlevelIndicators.Add(new AMR_BasedOnPerssonSensor(VariableNames.Temperature, 2));\n",
    "    }\n",
    "    // C_OneStep.activeAMRlevelIndicators.Add(new AMR_BasedOnPerssonSensor(VariableNames.Temperature, 3));\n",
    "    // C_OneStep.NonLinearSolver.MaxSolverIterations = 10;\n",
    "\n",
    "    // limiting of variable values\n",
    "    Dictionary<string, Tuple<double, double>> Bounds = new Dictionary<string, Tuple<double, double>>();\n",
    "    double eps = 1e-2;\n",
    "    Bounds.Add(VariableNames.Temperature, new Tuple<double, double>(1.0 - eps, 10)); // Min temp should be the inlet temperature.\n",
    "    Bounds.Add(VariableNames.MassFraction0, new Tuple<double, double>(0.0 - 1e-4, 1.0 + 1e-4)); // Between 0 and 1 per definition\n",
    "    Bounds.Add(VariableNames.MassFraction1, new Tuple<double, double>(0.0 - 1e-4, 1.0 + 1e-4));\n",
    "    Bounds.Add(VariableNames.MassFraction2, new Tuple<double, double>(0.0 - 1e-4, 1.0 + 1e-4));\n",
    "    Bounds.Add(VariableNames.MassFraction3, new Tuple<double, double>(0.0 - 1e-4, 1.0 + 1e-4));\n",
    "    C_OneStep.VariableBounds = Bounds;\n",
    "    // Boundary conditions\n",
    "\n",
    "    double dummy = 0;\n",
    "    if(SessionToRestart != null) {\n",
    "        C_OneStep.SetRestart(SessionToRestart);\n",
    "    } else {\n",
    "        C_OneStep.AddInitialValue(VariableNames.Temperature, BoundaryValueFactory.Get_ConstantValue(1.0, dummy, dummy, dummy, dummy));\n",
    "        C_OneStep.AddInitialValue(VariableNames.MassFraction0, BoundaryValueFactory.Get_ConstantValue(0.0, dummy, dummy, dummy, dummy));\n",
    "        C_OneStep.AddInitialValue(VariableNames.MassFraction1, BoundaryValueFactory.Get_ConstantValue(0.23, dummy, dummy, dummy, dummy));\n",
    "        C_OneStep.AddInitialValue(VariableNames.MassFraction2, BoundaryValueFactory.Get_ConstantValue(0.0, dummy, dummy, dummy, dummy));\n",
    "        C_OneStep.AddInitialValue(VariableNames.MassFraction3, BoundaryValueFactory.Get_ConstantValue(0.0, dummy, dummy, dummy, dummy));\n",
    "    }\n",
    "    if(wallBounded){\n",
    "        C_OneStep.AddBoundaryValue(\"Wall\", VariableNames.Temperature, BoundaryValueFactory.Get_ConstantValue(1.0, dummy, dummy, dummy, dummy));\n",
    "    }\n",
    "    C_OneStep.AddBoundaryValue(\"Velocity_Inlet_CH4\", VariableNames.Temperature, BoundaryValueFactory.Get_ConstantValue(1.0, dummy, dummy, dummy, dummy));\n",
    "    C_OneStep.AddBoundaryValue(\"Velocity_Inlet_CH4\", VariableNames.MassFraction0, BoundaryValueFactory.Get_ConstantValue(C_OneStep.FuelInletConcentrations[0], dummy, dummy, dummy, dummy));\n",
    "    C_OneStep.AddBoundaryValue(\"Velocity_Inlet_CH4\", VariableNames.MassFraction1, BoundaryValueFactory.Get_ConstantValue(C_OneStep.FuelInletConcentrations[1], dummy, dummy, dummy, dummy));\n",
    "    C_OneStep.AddBoundaryValue(\"Velocity_Inlet_CH4\", VariableNames.MassFraction2, BoundaryValueFactory.Get_ConstantValue(C_OneStep.FuelInletConcentrations[2], dummy, dummy, dummy, dummy));\n",
    "    C_OneStep.AddBoundaryValue(\"Velocity_Inlet_CH4\", VariableNames.MassFraction3, BoundaryValueFactory.Get_ConstantValue(C_OneStep.FuelInletConcentrations[3], dummy, dummy, dummy, dummy));\n",
    "\n",
    "    C_OneStep.AddBoundaryValue(\"Velocity_Inlet_O2\", VariableNames.Temperature, BoundaryValueFactory.Get_ConstantValue(1.0, dummy, dummy, dummy, dummy));\n",
    "    C_OneStep.AddBoundaryValue(\"Velocity_Inlet_O2\", VariableNames.MassFraction0, BoundaryValueFactory.Get_ConstantValue(C_OneStep.OxidizerInletConcentrations[0], dummy, dummy, dummy, dummy));\n",
    "    C_OneStep.AddBoundaryValue(\"Velocity_Inlet_O2\", VariableNames.MassFraction1, BoundaryValueFactory.Get_ConstantValue(C_OneStep.OxidizerInletConcentrations[1], dummy, dummy, dummy, dummy));\n",
    "    C_OneStep.AddBoundaryValue(\"Velocity_Inlet_O2\", VariableNames.MassFraction2, BoundaryValueFactory.Get_ConstantValue(C_OneStep.OxidizerInletConcentrations[2], dummy, dummy, dummy, dummy));\n",
    "    C_OneStep.AddBoundaryValue(\"Velocity_Inlet_O2\", VariableNames.MassFraction3, BoundaryValueFactory.Get_ConstantValue(C_OneStep.OxidizerInletConcentrations[3], dummy, dummy, dummy, dummy));\n",
    "    return C_OneStep;\n",
    "}"
   ]
  },
  {
   "cell_type": "code",
   "execution_count": null,
   "metadata": {
    "dotnet_interactive": {
     "language": "csharp"
    },
    "vscode": {
     "languageId": "dotnet-interactive.csharp"
    }
   },
   "outputs": [],
   "source": [
    "Type solver = typeof(BoSSS.Application.XNSEC.XNSEC);"
   ]
  },
  {
   "cell_type": "markdown",
   "metadata": {},
   "source": [
    "Calculate the full solution for the initial value"
   ]
  },
  {
   "cell_type": "code",
   "execution_count": null,
   "metadata": {
    "dotnet_interactive": {
     "language": "csharp"
    },
    "vscode": {
     "languageId": "dotnet-interactive.csharp"
    }
   },
   "outputs": [],
   "source": [
    "int counter = 0;\n",
    "foreach (double xDensityNodes in xCellsMultiplier){\n",
    "    foreach (int nCells in nCellsArray) {\n",
    "        foreach (int dg in DGDegrees) {\n",
    "            foreach(double smooth in Smoothings){\n",
    "            foreach (int i in multiplierS) {\n",
    "                var sess = (myDb.Sessions.Where(s => s.Name == \"FS_CounterDifFlameP\" + dgMF + \"K\" + nCells + \"Multiplier\" + i + \"xNodesMultiplier\" + xDensityNodes+\"smoothing\"+smooth)).FirstOrDefault();\n",
    "                var C = GiveMeTheFullCtrlFile(dg, nCells, InitialMassFuelIn * i, InitialMassAirIn * i, sess, parabolicVelocityProfile, chemicalReactionActive, useFullGeometry, wallBounded, i, counter, xDensityNodes,smooth);\n",
    "                string jobName = C.SessionName;\n",
    "                Console.WriteLine(jobName);\n",
    "                var oneJob = new Job(jobName, solver);\n",
    "                oneJob.NumberOfMPIProcs = 12;\n",
    "                oneJob.SetControlObject(C);\n",
    "                  // oneJob.Activate(myBatch); \n",
    "                oneJob.Activate(); \n",
    "                counter++;\n",
    "            }\n",
    "        }\n",
    "    }\n",
    "}\n",
    "}"
   ]
  },
  {
   "cell_type": "code",
   "execution_count": null,
   "metadata": {
    "dotnet_interactive": {
     "language": "csharp"
    },
    "vscode": {
     "languageId": "dotnet-interactive.csharp"
    }
   },
   "outputs": [],
   "source": []
  },
  {
   "cell_type": "code",
   "execution_count": null,
   "metadata": {
    "dotnet_interactive": {
     "language": "csharp"
    },
    "vscode": {
     "languageId": "dotnet-interactive.csharp"
    }
   },
   "outputs": [],
   "source": [
    "// wait for all jobs to finish (up to 2 days, check every 10 minutes)\n",
    "BoSSSshell.WorkflowMgm.BlockUntilAllJobsTerminate(TimeOutSeconds:(3600*24*2), PollingIntervallSeconds:(60*10));"
   ]
  },
  {
   "cell_type": "code",
   "execution_count": null,
   "metadata": {
    "dotnet_interactive": {
     "language": "csharp"
    },
    "vscode": {
     "languageId": "dotnet-interactive.csharp"
    }
   },
   "outputs": [],
   "source": [
    "// detect failed Jobs in the job management\n",
    "var suspects = BoSSSshell.WorkflowMgm.AllJobs.Select(kv => kv.Value)\n",
    "    .Where(job => job.LatestSession.Tags.Contains(SessionInfo.NOT_TERMINATED_TAG)\n",
    "                  || job.LatestSession.Tags.Contains(SessionInfo.SOLVER_ERROR)).ToArray();\n",
    "suspects"
   ]
  },
  {
   "cell_type": "code",
   "execution_count": null,
   "metadata": {
    "dotnet_interactive": {
     "language": "csharp"
    },
    "vscode": {
     "languageId": "dotnet-interactive.csharp"
    }
   },
   "outputs": [],
   "source": [
    "NUnit.Framework.Assert.IsTrue(suspects.Count() <= 0, $\"{suspects.Count()} Failed Jobs of {BoSSSshell.WorkflowMgm.AllJobs.Count()} in total.\");"
   ]
  },
  {
   "cell_type": "code",
   "execution_count": null,
   "metadata": {
    "dotnet_interactive": {
     "language": "csharp"
    },
    "vscode": {
     "languageId": "dotnet-interactive.csharp"
    }
   },
   "outputs": [],
   "source": [
    "// // Delete all MF calculations\n",
    "// Console.WriteLine(\"Deleting mass fraction calculations\");\n",
    "// myDb.Sessions.Where(sess => sess.Name.Contains(\"FS\")).ForEach(sess=> sess.Delete(true))"
   ]
  },
  {
   "cell_type": "code",
   "execution_count": null,
   "metadata": {
    "dotnet_interactive": {
     "language": "csharp"
    },
    "vscode": {
     "languageId": "dotnet-interactive.csharp"
    }
   },
   "outputs": [],
   "source": []
  },
  {
   "cell_type": "code",
   "execution_count": null,
   "metadata": {
    "dotnet_interactive": {
     "language": "csharp"
    },
    "vscode": {
     "languageId": "dotnet-interactive.csharp"
    }
   },
   "outputs": [],
   "source": []
  }
 ],
 "metadata": {
  "interpreter": {
   "hash": "57baa5815c940fdaff4d14510622de9616cae602444507ba5d0b6727c008cbd6"
  },
  "kernelspec": {
   "display_name": ".NET (C#)",
   "language": "C#",
   "name": ".net-csharp"
  },
  "language_info": {
   "file_extension": ".cs",
   "mimetype": "text/x-csharp",
   "name": "C#",
   "pygments_lexer": "csharp",
   "version": "10.0"
  }
 },
 "nbformat": 4,
 "nbformat_minor": 4
}

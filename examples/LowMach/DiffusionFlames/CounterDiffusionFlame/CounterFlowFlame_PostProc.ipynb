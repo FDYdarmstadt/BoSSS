{
 "cells": [
  {
   "cell_type": "code",
   "execution_count": null,
   "metadata": {
    "dotnet_interactive": {
     "language": "csharp"
    },
    "vscode": {
     "languageId": "dotnet-interactive.csharp"
    }
   },
   "outputs": [],
   "source": [
    "#r \"BoSSSpad.dll\"\n",
    "// #r \".\\binaries\\XNSEC.dll\"\n",
    "// #r \"C:\\BoSSS2\\experimental\\public\\src\\L4-application\\BoSSSpad\\bin\\Release\\net5.0\\bossspad.dll\"\n",
    "// #r \"C:\\BoSSS\\experimental\\public\\src\\L4-application\\BoSSSpad\\bin\\Release\\net5.0\\XNSEC.dll\"\n",
    "//#r \"C:\\BoSSS\\experimental\\public\\src\\L4-application\\BoSSSpad\\bin\\Release\\net5.0\\XNSEC.dll\"\n",
    "using System;\n",
    "using System.Collections.Generic;\n",
    "using System.Linq;\n",
    "using System.IO;\n",
    "using System.Data;\n",
    "using System.Globalization;\n",
    "using System.Threading;\n",
    "using ilPSP;\n",
    "using ilPSP.Utils;\n",
    "using BoSSS.Platform;\n",
    "using BoSSS.Foundation;\n",
    "using BoSSS.Foundation.Grid;\n",
    "using BoSSS.Foundation.Grid.Classic;\n",
    "using BoSSS.Foundation.IO;\n",
    "using BoSSS.Solution;\n",
    "using BoSSS.Solution.Control;\n",
    "using BoSSS.Solution.GridImport;\n",
    "using BoSSS.Solution.Statistic;\n",
    "using BoSSS.Solution.Utils;\n",
    "using BoSSS.Solution.Gnuplot;\n",
    "using BoSSS.Application.BoSSSpad;\n",
    "using BoSSS.Application.XNSE_Solver;\n",
    "using static BoSSS.Application.BoSSSpad.BoSSSshell;\n",
    "using BoSSS.Foundation.Grid.RefElements;\n",
    "using BoSSS.Platform.LinAlg;\n",
    "using BoSSS.Solution.NSECommon;\n",
    "Init();"
   ]
  },
  {
   "cell_type": "code",
   "execution_count": null,
   "metadata": {
    "dotnet_interactive": {
     "language": "csharp"
    },
    "vscode": {
     "languageId": "dotnet-interactive.csharp"
    }
   },
   "outputs": [],
   "source": [
    "using BoSSS.Application.XNSEC;"
   ]
  },
  {
   "cell_type": "code",
   "execution_count": null,
   "metadata": {
    "dotnet_interactive": {
     "language": "csharp"
    },
    "vscode": {
     "languageId": "dotnet-interactive.csharp"
    }
   },
   "outputs": [],
   "source": [
    "BoSSSshell.WorkflowMgm.Init(\"CounterFlowFlame_MF_FullComparison\");"
   ]
  },
  {
   "cell_type": "code",
   "execution_count": null,
   "metadata": {
    "dotnet_interactive": {
     "language": "csharp"
    },
    "vscode": {
     "languageId": "dotnet-interactive.csharp"
    }
   },
   "outputs": [],
   "source": [
    "var myBatch = BoSSSshell.GetDefaultQueue();\n",
    "var myDb = BoSSSshell.WorkflowMgm.DefaultDatabase;"
   ]
  },
  {
   "cell_type": "code",
   "execution_count": null,
   "metadata": {
    "dotnet_interactive": {
     "language": "csharp"
    },
    "vscode": {
     "languageId": "dotnet-interactive.csharp"
    }
   },
   "outputs": [],
   "source": [
    "int counter = 0;\n",
    "int[] mults = new int[] { 2, 5 , 11 };\n",
    "Dictionary<int,Plot2Ddata[,] > PlotTableS = new Dictionary<int, Plot2Ddata[,]>();\n",
    "\n",
    "foreach (int mult in mults) {\n",
    "    counter++;\n",
    "\n",
    "    var sess = myDb.Sessions.Where(sess => sess.Name.Contains(\"mult\" + mult) && sess.Name.Contains(\"Full\")).FirstOrDefault(); // Search the actual session\n",
    "    if(sess == null)\n",
    "        continue;\n",
    "        \n",
    "    var timestep_FullChem = sess.Timesteps.Last();\n",
    "    double eps = 1e-4;\n",
    "    double xleft = 0 + eps;\n",
    "    double xright = 1.0 - eps;\n",
    "    int nCells = 80; // Number of points to be picked\n",
    "    double[] _xNodes = GenericBlas.Linspace(xleft, xright, nCells + 1);\n",
    "    string[] varnames = new string[] { \"VelocityX\", \"Temperature\", \"MassFraction0\", \"MassFraction1\", \"MassFraction2\", \"MassFraction3\" };\n",
    "\n",
    "    Dictionary<string, double[]> Results_FullComb = new Dictionary<string, double[]>();\n",
    "    MultidimensionalArray[] Results_FullComb2 = new MultidimensionalArray[varnames.Length];\n",
    "    Dictionary<string, double> ReferenceValuesDict = new Dictionary<string, double>();// Re-dimenzionalise variables\n",
    "\n",
    "    ReferenceValuesDict.Add(\"VelocityX\", Convert.ToDouble(sess.KeysAndQueries[\"uRef\"]));\n",
    "    ReferenceValuesDict.Add(\"Temperature\", Convert.ToDouble(sess.KeysAndQueries[\"TRef\"]));\n",
    "    ReferenceValuesDict.Add(\"MassFraction0\", 1.0);\n",
    "    ReferenceValuesDict.Add(\"MassFraction1\", 1.0);\n",
    "    ReferenceValuesDict.Add(\"MassFraction2\", 1.0);\n",
    "    ReferenceValuesDict.Add(\"MassFraction3\", 1.0);\n",
    "    ReferenceValuesDict.Add(\"Length\", Convert.ToDouble(sess.KeysAndQueries[\"LRef\"]));\n",
    "\n",
    "    \n",
    "    //Pick and save results from the BoSSS calculation \n",
    "    int cnt = -1;\n",
    "    double[] _xNodesDim = new double[_xNodes.Length];\n",
    "    foreach (var varname in varnames) {\n",
    "        cnt++;\n",
    "        double[] Yvalues = new double[nCells + 1];\n",
    "        var field = timestep_FullChem.Fields.Where(Fi => (Fi.Identification == varname)).Last();\n",
    "        for (int n = 0; n < _xNodes.Length; n++) {\n",
    "            _xNodesDim[n] = _xNodes[n] * ReferenceValuesDict[\"Length\"]; // Redimensionalise the x coordinate\n",
    "            double pickedVal = field.ProbeAt(new double[] { _xNodes[n], 0.00000001 });    // Pick value along the central axis        \n",
    "            Yvalues[n] = pickedVal * ReferenceValuesDict[varname];             // Re.dimenzionalise varliables and store it in array\n",
    "        }\n",
    "        var xyVals = MultidimensionalArray.Create(_xNodes.Length, _xNodes.Length);\n",
    "        for (int i = 0; i < _xNodesDim.Length; i++) {\n",
    "            xyVals[i, 0] = _xNodesDim[i];\n",
    "            xyVals[i, 1] = Yvalues[i];\n",
    "        }\n",
    "        Results_FullComb2[cnt] = xyVals;\n",
    "    }\n",
    "\n",
    "\n",
    "    // Read results from the Matlab calculation of the 1D problem.\n",
    "    string[] VariablesForPlot = new string[] { \"VelocityX\", \"Temperature\", \"MF0\", \"MF1\", \"MF2\", \"MF3\" };\n",
    "    MultidimensionalArray[] ReferenceData = new MultidimensionalArray[VariablesForPlot.Length];\n",
    "    string CurrentDocDir = Directory.GetCurrentDirectory();\n",
    "    //Load data from Matlab\n",
    "    for (int i = 0; i < VariablesForPlot.Length; i++) {\n",
    "        string path = String.Concat(CurrentDocDir, @\"\\ML\" + mult + \"_\", VariablesForPlot[i], \".txt\");\n",
    "        ReferenceData[i] = IMatrixExtensions.LoadFromTextFile(path);\n",
    "    }\n",
    "\n",
    "    \n",
    "\n",
    "    Plot2Ddata[,] PlotTable = new Plot2Ddata[2, 3];\n",
    "    int cnt2 = -1;\n",
    "    for (int iCol = 0; iCol < 3; iCol++) {\n",
    "        for (int iRow = 0; iRow < 2; iRow++) {\n",
    "            var plot = new Plot2Ddata();\n",
    "            var allColors = Enum.GetValues(typeof(LineColors)).Cast<LineColors>().ToArray();\n",
    "            cnt2++;\n",
    "            // BoSSS data\n",
    "            var fmt = new PlotFormat();\n",
    "            fmt.Style = Styles.Lines;\n",
    "            fmt.LineColor = allColors[cnt2 % allColors.Length];\n",
    "            fmt.DashType = DashTypes.Solid;\n",
    "            \n",
    "            plot.AddDataGroup( \"BoSSS\",\n",
    "                Results_FullComb2[cnt2].ExtractSubArrayShallow(-1, 0).To1DArray(),\n",
    "                Results_FullComb2[cnt2].ExtractSubArrayShallow(-1, 1).To1DArray(),\n",
    "                fmt);\n",
    "\n",
    "            // Matlab data\n",
    "            fmt = new PlotFormat();\n",
    "            fmt.Style = Styles.Lines;\n",
    "            fmt.LineColor = allColors[cnt2 % allColors.Length];\n",
    "            fmt.DashType = DashTypes.Dashed;\n",
    "            plot.AddDataGroup( \"Matlab\",\n",
    "            ReferenceData[cnt2].ExtractSubArrayShallow(-1, 0).To1DArray(),\n",
    "            ReferenceData[cnt2].ExtractSubArrayShallow(-1, 1).To1DArray(),\n",
    "            fmt);\n",
    "            plot.Title = varnames[cnt2];\n",
    "            plot.TitleFont = 20;\n",
    "            plot.Xlabel = \"x (m)\";\n",
    "            \n",
    "            if(iRow == 0 && iCol == 0)\n",
    "                plot.Ylabel = \"velocity (m/s)\";\n",
    "            if(iRow == 1 && iCol == 0)\n",
    "                plot.Ylabel = \"Temperature (K)\";\n",
    "            PlotTable[iRow, iCol] = plot;\n",
    "        }\n",
    "    }\n",
    "    PlotTableS.Add(counter,PlotTable);\n",
    "\n",
    "}"
   ]
  },
  {
   "cell_type": "markdown",
   "metadata": {},
   "source": [
    "## Results for low inlet velocity case"
   ]
  },
  {
   "cell_type": "code",
   "execution_count": null,
   "metadata": {
    "dotnet_interactive": {
     "language": "csharp"
    },
    "vscode": {
     "languageId": "dotnet-interactive.csharp"
    }
   },
   "outputs": [],
   "source": [
    "var gp = PlotTableS[1].ToGnuplot();\n",
    "gp.PlotSVG(xRes:1500,yRes:600)"
   ]
  },
  {
   "cell_type": "markdown",
   "metadata": {},
   "source": [
    "## Results for mid inlet velocity case"
   ]
  },
  {
   "cell_type": "code",
   "execution_count": null,
   "metadata": {
    "dotnet_interactive": {
     "language": "csharp"
    },
    "vscode": {
     "languageId": "dotnet-interactive.csharp"
    }
   },
   "outputs": [],
   "source": [
    "var gp = PlotTableS[2].ToGnuplot();\n",
    "gp.PlotSVG(xRes:1500,yRes:600)"
   ]
  },
  {
   "cell_type": "markdown",
   "metadata": {},
   "source": [
    "## Results for high inlet velocity case"
   ]
  },
  {
   "cell_type": "code",
   "execution_count": null,
   "metadata": {
    "dotnet_interactive": {
     "language": "csharp"
    },
    "vscode": {
     "languageId": "dotnet-interactive.csharp"
    }
   },
   "outputs": [],
   "source": [
    "var gp = PlotTableS[3].ToGnuplot();\n",
    "gp.PlotSVG(xRes:1500,yRes:600)"
   ]
  },
  {
   "cell_type": "code",
   "execution_count": null,
   "metadata": {
    "dotnet_interactive": {
     "language": "csharp"
    },
    "vscode": {
     "languageId": "dotnet-interactive.csharp"
    }
   },
   "outputs": [],
   "source": []
  },
  {
   "cell_type": "code",
   "execution_count": null,
   "metadata": {
    "dotnet_interactive": {
     "language": "csharp"
    },
    "vscode": {
     "languageId": "dotnet-interactive.csharp"
    }
   },
   "outputs": [],
   "source": []
  }
 ],
 "metadata": {
  "interpreter": {
   "hash": "57baa5815c940fdaff4d14510622de9616cae602444507ba5d0b6727c008cbd6"
  },
  "kernelspec": {
   "display_name": ".NET (C#)",
   "language": "C#",
   "name": ".net-csharp"
  },
  "language_info": {
   "file_extension": ".cs",
   "mimetype": "text/x-csharp",
   "name": "C#",
   "pygments_lexer": "csharp",
   "version": "10.0"
  }
 },
 "nbformat": 4,
 "nbformat_minor": 4
}

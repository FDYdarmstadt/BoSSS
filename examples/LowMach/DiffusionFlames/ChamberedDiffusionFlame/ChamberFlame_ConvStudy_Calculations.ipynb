{
 "cells": [
  {
   "cell_type": "code",
   "execution_count": null,
   "metadata": {
    "dotnet_interactive": {
     "language": "csharp"
    }
   },
   "outputs": [],
   "source": [
    "#r \"BoSSSpad.dll\"\n",
    "using System;\n",
    "using System.Collections.Generic;\n",
    "using System.Linq;\n",
    "using System.IO;\n",
    "using System.Data;\n",
    "using System.Globalization;\n",
    "using System.Threading;\n",
    "using ilPSP;\n",
    "using ilPSP.Utils;\n",
    "using BoSSS.Platform;\n",
    "using BoSSS.Foundation;\n",
    "using BoSSS.Foundation.Grid;\n",
    "using BoSSS.Foundation.Grid.Classic;\n",
    "using BoSSS.Foundation.IO;\n",
    "using BoSSS.Solution;\n",
    "using BoSSS.Solution.Control;\n",
    "using BoSSS.Solution.GridImport;\n",
    "using BoSSS.Solution.Statistic;\n",
    "using BoSSS.Solution.Utils;\n",
    "using BoSSS.Solution.Gnuplot;\n",
    "using BoSSS.Application.BoSSSpad;\n",
    "using BoSSS.Application.XNSE_Solver;\n",
    "using static BoSSS.Application.BoSSSpad.BoSSSshell;\n",
    "using BoSSS.Foundation.Grid.RefElements;\n",
    "using BoSSS.Platform.LinAlg;\n",
    "using BoSSS.Solution.NSECommon;\n",
    "using BoSSS.Application.XNSEC;\n",
    "Init();"
   ]
  },
  {
   "cell_type": "markdown",
   "metadata": {},
   "source": [
    "## Case configuration"
   ]
  },
  {
   "cell_type": "code",
   "execution_count": null,
   "metadata": {
    "dotnet_interactive": {
     "language": "csharp"
    }
   },
   "outputs": [],
   "source": [
    "int[] dgDegree = new int[]{1,2,3,4};\n",
    "int[] Resolutions = new int[]{6,7,8,9,10};\n",
    "\n",
    "int numberOfMpiCores =4;\n",
    "var  NofCells = Resolutions.ToList().Select(r=> (int)Math.Pow(2,r)).ToArray();\n",
    "string baseJobName = \"ChamberedFlame\";"
   ]
  },
  {
   "cell_type": "code",
   "execution_count": null,
   "metadata": {
    "dotnet_interactive": {
     "language": "csharp"
    }
   },
   "outputs": [],
   "source": [
    "NofCells"
   ]
  },
  {
   "cell_type": "markdown",
   "metadata": {
    "dotnet_interactive": {
     "language": "csharp"
    }
   },
   "source": [
    "## Open Database"
   ]
  },
  {
   "cell_type": "code",
   "execution_count": null,
   "metadata": {
    "dotnet_interactive": {
     "language": "csharp"
    }
   },
   "outputs": [],
   "source": [
    "BoSSSshell.WorkflowMgm.Init(\"DiffFlameConvergenceStudy\");"
   ]
  },
  {
   "cell_type": "code",
   "execution_count": null,
   "metadata": {
    "dotnet_interactive": {
     "language": "csharp"
    }
   },
   "outputs": [],
   "source": []
  },
  {
   "cell_type": "code",
   "execution_count": null,
   "metadata": {
    "dotnet_interactive": {
     "language": "csharp"
    }
   },
   "outputs": [],
   "source": [
    "static var myBatch = GetDefaultQueue();\n",
    "static var myDb = BoSSSshell.WorkflowMgm.DefaultDatabase;"
   ]
  },
  {
   "cell_type": "code",
   "execution_count": null,
   "metadata": {
    "dotnet_interactive": {
     "language": "csharp"
    }
   },
   "outputs": [],
   "source": [
    "wmg.Sessions"
   ]
  },
  {
   "cell_type": "markdown",
   "metadata": {},
   "source": [
    "## Create grid"
   ]
  },
  {
   "cell_type": "code",
   "execution_count": null,
   "metadata": {
    "dotnet_interactive": {
     "language": "csharp"
    }
   },
   "outputs": [],
   "source": [
    "public static class GridFactory {\n",
    "\n",
    "    public static Grid2D GenerateGrid(int nCells) {\n",
    "        double sepAdim = 20 ; // 20 is already ok!\n",
    "        double xleft = -sepAdim;\n",
    "        double xright = 0.0;\n",
    "        double R = sepAdim / 10;\n",
    "\n",
    "        var _xNodes = GenericBlas.Linspace(xleft, xright, nCells + 1);\n",
    "        double[] _yNodes = GenericBlas.Linspace(-R, R, 3 + 1);\n",
    "        string BC = \"ScalarDirichlet_PressureOutlet\";\n",
    "\n",
    "        Console.WriteLine(\"Number of cells in the X direction: {0}\", _xNodes.Length);\n",
    "        Console.WriteLine(\"Number of cells in the Y direction: {0}\", _yNodes.Length);\n",
    "        var grd = Grid2D.Cartesian2DGrid(_xNodes, _yNodes, periodicY: true);\n",
    "        grd.EdgeTagNames.Add(1, \"Velocity_Inlet_CH4\");\n",
    "        grd.EdgeTagNames.Add(2, BC);\n",
    "\n",
    "        grd.DefineEdgeTags(delegate (double[] X) {\n",
    "            double x = X[0];\n",
    "            double y = X[1];\n",
    "\n",
    "            if (Math.Abs(x - xleft) < 1e-8) { // Left boundary\n",
    "                return 1; // Left\n",
    "            } else if (Math.Abs(x - xright) < 1e-8) { // right boundary\n",
    "                return 2; // right\n",
    "            } else {\n",
    "                return 3;\n",
    "                //  throw new Exception(\"Problem while setting GridEdgeTagFunc\");\n",
    "            }\n",
    "        }\n",
    "        );       \n",
    "\n",
    "        myDb.SaveGrid(ref grd);\n",
    "\n",
    "        return grd;\n",
    "    }\n",
    "\n",
    "}"
   ]
  },
  {
   "cell_type": "code",
   "execution_count": null,
   "metadata": {
    "dotnet_interactive": {
     "language": "csharp"
    }
   },
   "outputs": [],
   "source": [
    "public static class BoundaryValueFactory { \n",
    "\n",
    "    public static string GetPrefixCode(double ConstVal) {\n",
    "        using(var stw = new System.IO.StringWriter()) {\n",
    "            stw.WriteLine(\"static class BoundaryValues {\");\n",
    "            stw.WriteLine(\"  static public double ConstantValue(double[] X) {\");\n",
    "            stw.WriteLine(\"    return \"+ ConstVal +\";\");\n",
    "            stw.WriteLine(\"  }\");\n",
    "            stw.WriteLine(\"}\"); \n",
    "            return stw.ToString();\n",
    "        }\n",
    "    }\n",
    "    static public Formula Get_ConstantValue(double ConstVal){\n",
    "        return new Formula(\"BoundaryValues.ConstantValue\", AdditionalPrefixCode:GetPrefixCode(ConstVal));\n",
    "    }\n",
    "}"
   ]
  },
  {
   "cell_type": "markdown",
   "metadata": {},
   "source": [
    "## Create base control file\n",
    "In this ControlFile basic configuration of the ChamberedDiffusionFlame is defined."
   ]
  },
  {
   "cell_type": "code",
   "execution_count": null,
   "metadata": {
    "dotnet_interactive": {
     "language": "csharp"
    }
   },
   "outputs": [],
   "source": [
    "static XNSEC_Control GiveMeTheCtrlFile(int dg, int nCells, bool isMF) {\n",
    "    var CC = new ChemicalConstants();\n",
    "\n",
    "    var C = isMF ? new XNSEC_MF_Control() : new XNSEC_Control();\n",
    "\n",
    "    C.NumberOfChemicalSpecies = 4; \n",
    "    C.SetDGdegree(dg); //\n",
    "    C.SetGrid(GridFactory.GenerateGrid(nCells));  //\n",
    "\n",
    "    C.MatParamsMode = MaterialParamsMode.Sutherland;  //\n",
    "    // Problem Definition\n",
    "    //===================\n",
    "    double TemperatureIn = 300;\n",
    "    double massFuelIn = 0.24 * 0.1; //kg/m2s ////////////////////////////////////////////////////////////\n",
    "    double AtmPressure = 101325; // Pa\n",
    "\n",
    "\n",
    "    double[] FuelInletConcentrations = new double[] { 0.2, 0.0, 0.0, 0.0, 0.8 };\n",
    "    double[] OxidizerInletConcentrations = new double[] { 0.0, 0.23, 0.0, 0.0, 0.77 }; \n",
    "    double[] MWs = new double[] { CC.MW_CH4, CC.MW_O2, CC.MW_CO2, CC.MW_H2O, CC.MW_N2 };\n",
    "\n",
    "    double mwFuel = CC.getAvgMW(MWs, FuelInletConcentrations);\n",
    "    double mwAir = CC.getAvgMW(MWs, OxidizerInletConcentrations);\n",
    "\n",
    "    double densityFuelIn = AtmPressure * mwFuel / (CC.R_gas * TemperatureIn * 1000); // Kg/m3. ok\n",
    "    double uInFuel = massFuelIn / densityFuelIn; //\n",
    "    Console.WriteLine(\"Velocity is \"+uInFuel);\n",
    "\n",
    "    // Reference values\n",
    "    //===================\n",
    "    // Basic units to be used: Kg, m, s, mol, pa,\n",
    "    double TRef = TemperatureIn;// Reference temperature  is the inlet temperature, (K)\n",
    "    double pRef = AtmPressure; // Pa\n",
    "    double uRef = uInFuel; // m/s\n",
    "    double rhoRef = pRef * mwAir / (8.314 * TRef * 1000); // Kg/m3. ok ;\n",
    "    double DRef = 2.2133029473872009E-05 / rhoRef; \n",
    "    double LRef =  DRef / uRef; \n",
    "    C.GravityDirection = new double[] { 0.0, 0.0, 0.0 }; //No gravity.\n",
    "\n",
    "    // Solver configuration\n",
    "    // =======================\n",
    "    C.smoothingFactor = 80*0-1*1; \n",
    "    // C.NonLinearSolver.ConvergenceCriterion = 1e-8;\n",
    "    // C.LinearSolver.ConvergenceCriterion = 1e-10;\n",
    "\n",
    "    C.NonLinearSolver.verbose = true;\n",
    "    C.NonLinearSolver.SolverCode = NonLinearSolverCode.Newton;\n",
    "    C.NonLinearSolver.MaxSolverIterations = 10;\n",
    "    C.LinearSolver = LinearSolverCode.direct_pardiso.GetConfig();\n",
    "    C.TimesteppingMode = AppControl._TimesteppingMode.Steady;\n",
    "    C.saveperiod = 1;\n",
    "    C.PenaltyViscMomentum = 1.0; ///////////////////////////////////////////////////////////////////////////////////////////////////////////////////////\n",
    "    C.PenaltyHeatConduction = 1.0;///////////////////////////////////////////////////////////////////////////////////////////////////////////////////////\n",
    "    C.YFuelInlet = FuelInletConcentrations[0];\n",
    "    C.YOxInlet = OxidizerInletConcentrations[1];\n",
    "    C.FuelInletConcentrations = FuelInletConcentrations;\n",
    "    C.OxidizerInletConcentrations = OxidizerInletConcentrations;\n",
    "    C.TFuelInlet = 1.0;\n",
    "    C.TOxInlet = 1.0;\n",
    "    C.PhysicalParameters.IncludeConvection = true;\n",
    "    // Chemical related parameters\n",
    "    double s = (CC.nu_O2 * CC.MW_O2) / (CC.nu_CH4 * CC.MW_CH4);\n",
    "    C.phi = s * C.YFuelInlet / C.YOxInlet;\n",
    "    C.zSt = 1.0 / (1.0 + C.phi);\n",
    "    var MLC = new MaterialLawCombustion(300, new double[] { }, C.MatParamsMode, C.rhoOne, true, 1.0, 1, 1, C.YOxInlet, C.YFuelInlet, C.zSt, CC, 0.75);\n",
    "    var ThermoProperties = new ThermodynamicalProperties();\n",
    "\n",
    "    //==========================\n",
    "    //Derived reference values\n",
    "    //==========================\n",
    "    C.uRef = uRef; // Reference velocity\n",
    "    C.LRef = LRef; // reference length\n",
    "    C.pRef = AtmPressure; // reference pressure\n",
    "    C.TRef = TRef;// reference temperature\n",
    "    C.MWRef = MLC.getAvgMW(MWs, C.OxidizerInletConcentrations); // Air mean molecular weight\n",
    "    C.rhoRef = C.pRef * C.MWRef / (8.314 * C.TRef * 1000); // Kg/m3. ok ;\n",
    "    C.cpRef = 1.3;//ThermoProperties.Calculate_Cp_Mixture(new double[] { 0.23, 0.77 }, new string[] { \"O2\", \"N2\" }, 300); // 1.219185317353029;// Representative value, KJ/Kg K ========> 1.31 for the one-step kinetic model\n",
    "    C.muRef = MLC.getViscosityDim(300);\n",
    "    C.MolarMasses = new double[] { C.CC.MW_CH4, C.CC.MW_O2, C.CC.MW_CO2, C.CC.MW_H2O, C.CC.MW_N2 };\n",
    "    C.MolarMasses.ScaleV(1.0 / C.MWRef); //NonDimensionalized Molar masses\n",
    "    C.T_ref_Sutherland = 300;\n",
    "    double heatRelease_Ref = (C.TRef * C.cpRef);\n",
    "    C.HeatRelease = C.CC.HeatReleaseMass / heatRelease_Ref;\n",
    "    C.B = CC.PreExponentialFactor;\n",
    "\n",
    "    C.StoichiometricCoefficients = new double[] { -1, -2, 1, 2, 0 };\n",
    "\n",
    "    C.Damk = C.rhoRef * C.LRef * C.B / (C.uRef * C.MWRef);\n",
    "    C.Reynolds = C.rhoRef * C.uRef * C.LRef / C.muRef;\n",
    "    C.Prandtl = 0.75;////////////////////0.75;\n",
    "    C.Schmidt = C.Prandtl; // Because Lewis number  is assumed as 1.0  (Le = Pr/Sc)\n",
    "    // C.Lewis = new double[] { 0.97, 1.11, 1.39, 0.83, 1.0 };\n",
    "    C.Lewis = new double[] {1.0, 1.0, 1.0,1.0, 1.0 };\n",
    "\n",
    "    double g = 9.8; // m/s2\n",
    "    C.Froude = Math.Sqrt(uRef * uRef / (C.LRef * g)); // Not used\n",
    "    C.ReactionRateConstants = new double[] { C.Damk, CC.Ta / TRef, 1.0, 1.0 }; // NOTE! activation temperature is also nondimensional\n",
    "    //==========================\n",
    "    // Initial conditions\n",
    "    //==========================\n",
    "    C.AddInitialValue(VariableNames.VelocityX, BoundaryValueFactory.Get_ConstantValue(0.0));\n",
    "    C.AddInitialValue(VariableNames.VelocityY, BoundaryValueFactory.Get_ConstantValue(0.0));\n",
    "    C.AddInitialValue(VariableNames.Pressure, BoundaryValueFactory.Get_ConstantValue(0.0));\n",
    "    //==========================\n",
    "    // Boundary conditions\n",
    "    //==========================\n",
    "\n",
    "    C.AddBoundaryValue(\"Velocity_Inlet_CH4\", VariableNames.Velocity_d(0), BoundaryValueFactory.Get_ConstantValue(uInFuel / C.uRef));\n",
    "    C.AddBoundaryValue(\"Velocity_Inlet_CH4\", VariableNames.Velocity_d(1), BoundaryValueFactory.Get_ConstantValue(0.0));\n",
    "        \n",
    "\n",
    "\n",
    "    return C;\n",
    "}"
   ]
  },
  {
   "cell_type": "markdown",
   "metadata": {},
   "source": [
    "## Starting the MixtureFraction simulation\n",
    "Configuration  for the simulation using the mixture fraction approach, where an infinite reaction rate is assumed. Used to find adequate starting solution for the full problem."
   ]
  },
  {
   "cell_type": "code",
   "execution_count": null,
   "metadata": {
    "dotnet_interactive": {
     "language": "csharp"
    }
   },
   "outputs": [],
   "source": [
    "static XNSEC_Control GiveMeTheMixtureFractionCtrlFile(int dg, int nCells){\n",
    "    var C_MixtureFraction = GiveMeTheCtrlFile(dg, nCells, true);\n",
    "    C_MixtureFraction.physicsMode = PhysicsMode.MixtureFraction;\n",
    "    C_MixtureFraction.ProjectName = \"ChamberedFlame\";\n",
    "    string name = C_MixtureFraction.ProjectName + \"P\" + dg + \"K\" + nCells;\n",
    "    C_MixtureFraction.SessionName = \"FS_\" + name;\n",
    "\n",
    "    C_MixtureFraction.UseSelfMadeTemporalOperator = false;\n",
    "    C_MixtureFraction.ChemicalReactionActive = false;\n",
    "    C_MixtureFraction.physicsMode = PhysicsMode.MixtureFraction;\n",
    "    C_MixtureFraction.NonLinearSolver.MaxSolverIterations = 50;\n",
    "    \n",
    "    // Boundary and initial conditions\n",
    "    C_MixtureFraction.AddInitialValue(VariableNames.MixtureFraction,BoundaryValueFactory.Get_ConstantValue(1.0));\n",
    "    C_MixtureFraction.AddBoundaryValue(\"Velocity_Inlet_CH4\", VariableNames.MixtureFraction, BoundaryValueFactory.Get_ConstantValue(1.0));\n",
    "\n",
    "\n",
    "\n",
    "    C_MixtureFraction.AdaptiveMeshRefinement = false;\n",
    "   \n",
    "    C_MixtureFraction.TimesteppingMode = BoSSS.Solution.Control.AppControl._TimesteppingMode.Steady; \n",
    " \n",
    "\n",
    "\n",
    "    return C_MixtureFraction;\n",
    "}"
   ]
  },
  {
   "cell_type": "markdown",
   "metadata": {},
   "source": [
    "## Send and run jobs\n",
    "\n",
    "### Stage 1/2: Mixture Fraction Simulations"
   ]
  },
  {
   "cell_type": "code",
   "execution_count": null,
   "metadata": {
    "dotnet_interactive": {
     "language": "csharp"
    }
   },
   "outputs": [],
   "source": [
    "foreach(int nCells in NofCells){\n",
    "int dg = 2;\n",
    "    Type solver_MF = typeof(BoSSS.Application.XNSEC.XNSEC_MixtureFraction);\n",
    "    var C_MixtureFraction = GiveMeTheMixtureFractionCtrlFile(dg, nCells);\n",
    "    string jobName       = C_MixtureFraction.SessionName;\n",
    "    Console.WriteLine(jobName);\n",
    "    var oneJob           = new Job(jobName, solver_MF);\n",
    "    oneJob.NumberOfMPIProcs =  4;    \n",
    "    //  oneJob.UseComputeNodesExclusive = true;\n",
    "    oneJob.SetControlObject(C_MixtureFraction);\n",
    "  // oneJob.Activate(myBatch); \n",
    "  oneJob.Activate(); \n",
    "\n",
    "}\n"
   ]
  },
  {
   "cell_type": "code",
   "execution_count": null,
   "metadata": {
    "dotnet_interactive": {
     "language": "csharp"
    }
   },
   "outputs": [],
   "source": [
    "BoSSSshell.WorkflowMgm.BlockUntilAllJobsTerminate();"
   ]
  },
  {
   "cell_type": "markdown",
   "metadata": {},
   "source": [
    "## Starting the finite-rate chemistry simulation\n",
    "\n",
    "Now that the simulation for an \"infinite\" reaction rate is done, we use it for initializing the system with finite reaction rate. The goal is to obtain solutions of the counter difussion flame for increasing strain values. We start with a low strain (bigger Dahmkoehler number), which is increased until extintion is (hopefully) found"
   ]
  },
  {
   "cell_type": "code",
   "execution_count": null,
   "metadata": {
    "dotnet_interactive": {
     "language": "csharp"
    }
   },
   "outputs": [],
   "source": [
    "static XNSEC_Control GiveMeTheFullCtrlFile(int dg, int nCells, ISessionInfo SessionToRestart) {\n",
    "    var C_OneStep = GiveMeTheCtrlFile(dg, nCells, false);\n",
    "    C_OneStep.physicsMode = PhysicsMode.Combustion;\n",
    "    C_OneStep.ProjectName = \"ChamberedFlame\";\n",
    "    string name = C_OneStep.ProjectName + \"P\" + dg + \"K\" + nCells;\n",
    "    C_OneStep.SessionName = \"Full_\" + name;\n",
    "    C_OneStep.VariableOneStepParameters = false;\n",
    "\n",
    "    // C_OneStep.Tags.Add(\"VelocityMultiplier\" + mult);\n",
    "\n",
    "    C_OneStep.UseSelfMadeTemporalOperator = false;\n",
    "    C_OneStep.myThermalWallType = SIPDiffusionTemperature.ThermalWallType.Adiabatic;\n",
    "    C_OneStep.Timestepper_LevelSetHandling = BoSSS.Solution.XdgTimestepping.LevelSetHandling.None;\n",
    "    C_OneStep.UseMixtureFractionsForCombustionInitialization = true;\n",
    "\n",
    "    // C_OneStep.LinearSolver = LinearSolverCode.exp_Kcycle_schwarz.GetConfig();\n",
    "    C_OneStep.NoOfMultigridLevels = 5;\n",
    "    C_OneStep.LinearSolver = new BoSSS.Solution.AdvancedSolvers.OrthoMGSchwarzConfig() {\n",
    "        NoOfMultigridLevels = 5,\n",
    "        CoarseUsepTG = false\n",
    "    };\n",
    "\n",
    "    C_OneStep.ChemicalReactionActive = true;\n",
    "    C_OneStep.AdaptiveMeshRefinement = false;\n",
    "    \n",
    "    C_OneStep.HeatCapacityMode = MaterialLaw_MultipleSpecies.CpCalculationMode.constant;\n",
    "\n",
    "    C_OneStep.NoOfTimesteps = 1; // The steady solution will be calculated again and do AMR\n",
    "    C_OneStep.NonLinearSolver.MaxSolverIterations = 200;\n",
    "\n",
    "\n",
    "    // C_OneStep.NonLinearSolver.MaxSolverIterations = 10;\n",
    "\n",
    "    // limiting of variable values\n",
    "    Dictionary<string, Tuple<double, double>> Bounds = new Dictionary<string, Tuple<double, double>>();\n",
    "    double eps = 1e-2;\n",
    "    Bounds.Add(VariableNames.Temperature, new Tuple<double, double>(1.0 - eps, 10)); // Min temp should be the inlet temperature.\n",
    "    Bounds.Add(VariableNames.MassFraction0, new Tuple<double, double>(0.0 - 1e-1, 1.0 + 1e-1)); // Between 0 and 1 per definition\n",
    "    Bounds.Add(VariableNames.MassFraction1, new Tuple<double, double>(0.0 - 1e-1, 1.0 + 1e-1));\n",
    "    Bounds.Add(VariableNames.MassFraction2, new Tuple<double, double>(0.0 - 1e-1, 1.0 + 1e-1));\n",
    "    Bounds.Add(VariableNames.MassFraction3, new Tuple<double, double>(0.0 - 1e-1, 1.0 + 1e-1));\n",
    "    C_OneStep.VariableBounds = Bounds;\n",
    "    // Boundary conditions\n",
    "\n",
    "    double dummy = 0;\n",
    "    if(SessionToRestart != null) {\n",
    "        C_OneStep.SetRestart(SessionToRestart);\n",
    "    } else {\n",
    "        C_OneStep.AddInitialValue(VariableNames.Temperature, BoundaryValueFactory.Get_ConstantValue(1.0));\n",
    "        C_OneStep.AddInitialValue(VariableNames.MassFraction0, BoundaryValueFactory.Get_ConstantValue(0.0));\n",
    "        C_OneStep.AddInitialValue(VariableNames.MassFraction1, BoundaryValueFactory.Get_ConstantValue(0.23));\n",
    "        C_OneStep.AddInitialValue(VariableNames.MassFraction2, BoundaryValueFactory.Get_ConstantValue(0.0));\n",
    "        C_OneStep.AddInitialValue(VariableNames.MassFraction3, BoundaryValueFactory.Get_ConstantValue(0.0));\n",
    "    }\n",
    "\n",
    "    C_OneStep.AddBoundaryValue(\"Velocity_Inlet_CH4\", VariableNames.Temperature, BoundaryValueFactory.Get_ConstantValue(1.0));\n",
    "    C_OneStep.AddBoundaryValue(\"Velocity_Inlet_CH4\", VariableNames.MassFraction0, BoundaryValueFactory.Get_ConstantValue(C_OneStep.FuelInletConcentrations[0]));\n",
    "    C_OneStep.AddBoundaryValue(\"Velocity_Inlet_CH4\", VariableNames.MassFraction1, BoundaryValueFactory.Get_ConstantValue(C_OneStep.FuelInletConcentrations[1]));\n",
    "    C_OneStep.AddBoundaryValue(\"Velocity_Inlet_CH4\", VariableNames.MassFraction2, BoundaryValueFactory.Get_ConstantValue(C_OneStep.FuelInletConcentrations[2]));\n",
    "    C_OneStep.AddBoundaryValue(\"Velocity_Inlet_CH4\", VariableNames.MassFraction3, BoundaryValueFactory.Get_ConstantValue(C_OneStep.FuelInletConcentrations[3]));\n",
    "\n",
    "    C_OneStep.AddBoundaryValue(\"ScalarDirichlet_PressureOutlet\", VariableNames.Temperature, BoundaryValueFactory.Get_ConstantValue(1.0));\n",
    "    C_OneStep.AddBoundaryValue(\"ScalarDirichlet_PressureOutlet\", VariableNames.MassFraction0, BoundaryValueFactory.Get_ConstantValue(C_OneStep.OxidizerInletConcentrations[0]));\n",
    "    C_OneStep.AddBoundaryValue(\"ScalarDirichlet_PressureOutlet\", VariableNames.MassFraction1, BoundaryValueFactory.Get_ConstantValue(C_OneStep.OxidizerInletConcentrations[1]));\n",
    "    C_OneStep.AddBoundaryValue(\"ScalarDirichlet_PressureOutlet\", VariableNames.MassFraction2, BoundaryValueFactory.Get_ConstantValue(C_OneStep.OxidizerInletConcentrations[2]));\n",
    "    C_OneStep.AddBoundaryValue(\"ScalarDirichlet_PressureOutlet\", VariableNames.MassFraction3, BoundaryValueFactory.Get_ConstantValue(C_OneStep.OxidizerInletConcentrations[3]));\n",
    "    return C_OneStep;\n",
    "}"
   ]
  },
  {
   "cell_type": "code",
   "execution_count": null,
   "metadata": {
    "dotnet_interactive": {
     "language": "csharp"
    }
   },
   "outputs": [],
   "source": [
    "Type solver = typeof(BoSSS.Application.XNSEC.XNSEC);"
   ]
  },
  {
   "cell_type": "markdown",
   "metadata": {},
   "source": [
    "Calculate the full solution for the initial value"
   ]
  },
  {
   "cell_type": "code",
   "execution_count": null,
   "metadata": {
    "dotnet_interactive": {
     "language": "csharp"
    }
   },
   "outputs": [],
   "source": [
    "int counter = 0;\n",
    "foreach (int nCells in NofCells) {\n",
    "    foreach (int dg in dgDegree) {\n",
    "        // var sess =(myDb.Sessions.Where(s=>Convert.ToInt64(s.Tags.ToArray()[0]) == i)).FirstOrDefault(); \n",
    "        var sess = (myDb.Sessions.Where(s => s.Name == \"FS_ChamberedFlameP\" + 2 + \"K\" + nCells)).FirstOrDefault();\n",
    "        var C = GiveMeTheFullCtrlFile(dg, nCells,  sess);\n",
    "        string jobName = C.SessionName + \"AllOn\";\n",
    "        Console.WriteLine(jobName);\n",
    "        \n",
    "        var oneJob = new Job(jobName, solver);\n",
    "        oneJob.NumberOfMPIProcs = nCells > 32? 12:4 ;\n",
    "        oneJob.SetControlObject(C);\n",
    "        // oneJob.Activate(myBatch); \n",
    "        \n",
    "        oneJob.Activate(); \n",
    "        counter++;\n",
    "    }\n",
    "}\n"
   ]
  },
  {
   "cell_type": "code",
   "execution_count": null,
   "metadata": {
    "dotnet_interactive": {
     "language": "csharp"
    }
   },
   "outputs": [],
   "source": [
    "// wait for all jobs to finish (up to 1 days, check every 5 minutes)\n",
    "BoSSSshell.WorkflowMgm.BlockUntilAllJobsTerminate(TimeOutSeconds:(3600*24*1), PollingIntervallSeconds:(60*5));"
   ]
  },
  {
   "cell_type": "code",
   "execution_count": null,
   "metadata": {
    "dotnet_interactive": {
     "language": "csharp"
    }
   },
   "outputs": [],
   "source": [
    "// detect failed Jobs in the job management\n",
    "var suspects = BoSSSshell.WorkflowMgm.AllJobs.Select(kv => kv.Value)\n",
    "    .Where(job => job.LatestSession.Tags.Contains(SessionInfo.NOT_TERMINATED_TAG)\n",
    "                  || job.LatestSession.Tags.Contains(SessionInfo.SOLVER_ERROR)).ToArray();\n",
    "suspects"
   ]
  },
  {
   "cell_type": "code",
   "execution_count": null,
   "metadata": {
    "dotnet_interactive": {
     "language": "csharp"
    }
   },
   "outputs": [],
   "source": [
    "NUnit.Framework.Assert.IsTrue(suspects.Count() <= 0, $\"{suspects.Count()} Failed Jobs of {BoSSSshell.WorkflowMgm.AllJobs.Count()} in total.\");"
   ]
  },
  {
   "cell_type": "code",
   "execution_count": null,
   "metadata": {
    "dotnet_interactive": {
     "language": "csharp"
    }
   },
   "outputs": [],
   "source": [
    "// // Delete the flame sheet calculations\n",
    "// Console.WriteLine(\"Deleting mass fraction calculations\");\n",
    "// BoSSSshell.WorkflowMgm.Sessions.Where(s => s.Name.StartsWith(\"FS_\")).ForEach(x=>x.Delete(true));"
   ]
  },
  {
   "cell_type": "code",
   "execution_count": null,
   "metadata": {
    "dotnet_interactive": {
     "language": "csharp"
    }
   },
   "outputs": [],
   "source": []
  }
 ],
 "metadata": {
  "interpreter": {
   "hash": "57baa5815c940fdaff4d14510622de9616cae602444507ba5d0b6727c008cbd6"
  },
  "kernelspec": {
   "display_name": ".NET (C#)",
   "language": "C#",
   "name": ".net-csharp"
  },
  "language_info": {
   "file_extension": ".cs",
   "mimetype": "text/x-csharp",
   "name": "C#",
   "pygments_lexer": "csharp",
   "version": "11.0"
  }
 },
 "nbformat": 4,
 "nbformat_minor": 4
}

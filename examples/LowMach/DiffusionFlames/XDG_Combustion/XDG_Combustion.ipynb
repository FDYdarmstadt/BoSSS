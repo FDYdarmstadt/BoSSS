{
 "cells": [
  {
   "cell_type": "code",
   "execution_count": null,
   "metadata": {
    "dotnet_interactive": {
     "language": "csharp"
    },
    "vscode": {
     "languageId": "dotnet-interactive.csharp"
    }
   },
   "outputs": [],
   "source": [
    "#r \"D:\\BoSSS2\\experimental\\public\\src\\L4-application\\BoSSSpad\\bin\\Release\\net5.0\\bossspad.dll\"\n",
    "// #r \"BoSSSpad.dll\"\n",
    "using System;\n",
    "using System.Collections.Generic;\n",
    "using System.Linq;\n",
    "using System.IO;\n",
    "using System.Data;\n",
    "using System.Globalization;\n",
    "using System.Threading;\n",
    "using ilPSP;\n",
    "using ilPSP.Utils;\n",
    "using BoSSS.Platform;\n",
    "using BoSSS.Foundation;\n",
    "using BoSSS.Foundation.Grid;\n",
    "using BoSSS.Foundation.Grid.Classic;\n",
    "using BoSSS.Foundation.IO;\n",
    "using BoSSS.Solution;\n",
    "using BoSSS.Solution.Control;\n",
    "using BoSSS.Solution.GridImport;\n",
    "using BoSSS.Solution.Statistic;\n",
    "using BoSSS.Solution.Utils;\n",
    "using BoSSS.Solution.Gnuplot;\n",
    "using BoSSS.Application.BoSSSpad;\n",
    "using BoSSS.Application.XNSE_Solver;\n",
    "using static BoSSS.Application.BoSSSpad.BoSSSshell;\n",
    "using BoSSS.Foundation.Grid.RefElements;\n",
    "using BoSSS.Platform.LinAlg;\n",
    "using BoSSS.Solution.NSECommon;\n",
    "using BoSSS.Application.XNSEC;\n",
    "Init();"
   ]
  },
  {
   "cell_type": "code",
   "execution_count": null,
   "metadata": {
    "dotnet_interactive": {
     "language": "csharp"
    },
    "vscode": {
     "languageId": "dotnet-interactive.csharp"
    }
   },
   "outputs": [
    {
     "name": "stdout",
     "output_type": "stream",
     "text": [
      "Project name is set to 'XDG_Droplet_Combustionn'.\r\n",
      "Creating database '\\\\hpccluster\\hpccluster-scratch\\gutierrez\\XDG_Droplet_Combustionn'.\r\n"
     ]
    }
   ],
   "source": [
    "BoSSSshell.WorkflowMgm.Init(\"XDG_Droplet_Combustionn\");\n",
    "static var myBatch = GetDefaultQueue();\n",
    "static var myDb = BoSSSshell.WorkflowMgm.DefaultDatabase;"
   ]
  },
  {
   "cell_type": "code",
   "execution_count": null,
   "metadata": {
    "dotnet_interactive": {
     "language": "csharp"
    },
    "vscode": {
     "languageId": "dotnet-interactive.csharp"
    }
   },
   "outputs": [],
   "source": [
    "BoSSSshell.WorkflowMgm.SetNameBasedSessionJobControlCorrelation()"
   ]
  },
  {
   "cell_type": "markdown",
   "metadata": {},
   "source": [
    "## Case configuration"
   ]
  },
  {
   "cell_type": "code",
   "execution_count": null,
   "metadata": {
    "dotnet_interactive": {
     "language": "csharp"
    },
    "vscode": {
     "languageId": "dotnet-interactive.csharp"
    }
   },
   "outputs": [],
   "source": [
    "int nCells = 5; // Mesh Resolution\n",
    "int dgMF = 2; //DG degree\n",
    "static bool m_BotPressureOutlet = true; // swtiches for changing boundary conditions\n",
    "static bool m_TopPressureOutlet = false;"
   ]
  },
  {
   "cell_type": "markdown",
   "metadata": {},
   "source": [
    "## Create grid"
   ]
  },
  {
   "cell_type": "code",
   "execution_count": null,
   "metadata": {
    "dotnet_interactive": {
     "language": "csharp"
    },
    "vscode": {
     "languageId": "dotnet-interactive.csharp"
    }
   },
   "outputs": [],
   "source": [
    "public static class GridFactory {\n",
    "\n",
    "    public static Grid2D GenerateGrid1D(int nCells) {\n",
    "        double LLL = 30; // Length of the domain\n",
    "        double h = Math.Pow(2, -nCells + 1); // cell length\n",
    "        double cells = 1 / h;\n",
    "        int cells2 = (int)cells;\n",
    "        \n",
    "        var _xNodes = GenericBlas.Linspace(0, 5,  4 ); // 4 cells at least are needed \n",
    "        var _yNodes = GenericBlas.Linspace(0, LLL, cells2 + 1);\n",
    "        var grd = Grid2D.Cartesian2DGrid(_xNodes, _yNodes, periodicX: true);\n",
    "\n",
    "        if (m_BotPressureOutlet) {\n",
    "            grd.EdgeTagNames.Add(1, \"ScalarDirichlet_PressureOutlet_bot\");\n",
    "        } else {\n",
    "            grd.EdgeTagNames.Add(1, \"velocity_inlet_bot\");\n",
    "        }\n",
    "\n",
    "        if (m_TopPressureOutlet) {\n",
    "            grd.EdgeTagNames.Add(2, \"ScalarDirichlet_PressureOutlet_top\");\n",
    "        } else {\n",
    "            grd.EdgeTagNames.Add(2, \"velocity_inlet_top\");\n",
    "        }\n",
    "\n",
    "        \n",
    "        grd.DefineEdgeTags(delegate (double[] X) {\n",
    "            double x = X[0];\n",
    "            double y = X[1];\n",
    "            //upper Wall\n",
    "            if (Math.Abs(y - LLL) < 1e-8)\n",
    "                return 2;\n",
    "\n",
    "            //lower Wall\n",
    "            if (Math.Abs(y + 0) < 1e-8)\n",
    "                return 1;\n",
    "            else throw new ArgumentOutOfRangeException();\n",
    "        });\n",
    "        myDb.SaveGrid(ref grd);\n",
    "\n",
    "        return grd;\n",
    "    }\n",
    " \n",
    "\n",
    "\n",
    "}"
   ]
  },
  {
   "cell_type": "code",
   "execution_count": null,
   "metadata": {
    "dotnet_interactive": {
     "language": "csharp"
    },
    "vscode": {
     "languageId": "dotnet-interactive.csharp"
    }
   },
   "outputs": [],
   "source": [
    "public static class BoundaryValueFactory { \n",
    "\n",
    "    public static string GetPrefixCode(double ConstVal) {\n",
    "        using(var stw = new System.IO.StringWriter()) {\n",
    "\n",
    "            stw.WriteLine(\"static class BoundaryValues {\");\n",
    "\n",
    "            stw.WriteLine(\"  static public double ConstantValue(double[] X) {\");\n",
    "            stw.WriteLine(\"    return \"+ ConstVal +\";\");\n",
    "            stw.WriteLine(\"  }\");\n",
    "\n",
    "            stw.WriteLine(\"  static public double Phi(double[] X) {\");\n",
    "            stw.WriteLine(\"    return X[1] - \"+ ConstVal +\";\"); \n",
    "            stw.WriteLine(\"  }\");\n",
    "\n",
    "\n",
    "            stw.WriteLine(\"}\"); \n",
    "            return stw.ToString();\n",
    "        }\n",
    "    }\n",
    "\n",
    "    static public Formula Get_ConstantValue(double ConstVal){\n",
    "        return new Formula(\"BoundaryValues.ConstantValue\", AdditionalPrefixCode:GetPrefixCode(ConstVal));\n",
    "    }\n",
    "    static public Formula Get_Phi(double y_interface){\n",
    "        return new Formula(\"BoundaryValues.Phi\", AdditionalPrefixCode:GetPrefixCode(y_interface));\n",
    "    }\n",
    "\n",
    "};"
   ]
  },
  {
   "cell_type": "markdown",
   "metadata": {},
   "source": [
    "## Create base control file\n",
    "In this ControlFile basic configuration is defined."
   ]
  },
  {
   "cell_type": "code",
   "execution_count": null,
   "metadata": {
    "dotnet_interactive": {
     "language": "csharp"
    },
    "vscode": {
     "languageId": "dotnet-interactive.csharp"
    }
   },
   "outputs": [],
   "source": [
    "static XNSEC_Control XDG_pseudo2dCombustion(int DGp, int nCells = 6, string dbpath = null, bool MF = false) {\n",
    "    XNSEC_Control C;\n",
    "    if (MF) { // If it is a mixture fraction calculation, use the adequate control file\n",
    "        C = new XNSEC_MF_Control();\n",
    "        C.physicsMode = PhysicsMode.MixtureFraction;\n",
    "    } else {\n",
    "        C = new XNSEC_Control();\n",
    "        C.physicsMode = PhysicsMode.Combustion;\n",
    "    }\n",
    "    // ==============\n",
    "    // Solver configuration\n",
    "    // ==============\n",
    "\n",
    "    C.TimesteppingMode = AppControl._TimesteppingMode.Steady;\n",
    "    C.NonLinearSolver.SolverCode = NonLinearSolverCode.Newton;\n",
    "    C.NonLinearSolver.verbose = true;\n",
    "    C.savetodb = dbpath == null ? false : true;\n",
    "    C.DbPath = dbpath;\n",
    "\n",
    "\n",
    "    C.PhysicalParameters.IncludeConvection = true;\n",
    "    C.ThermalParameters.IncludeConvection = true;\n",
    "\n",
    "    // Miscellaneous phyisical switches\n",
    "    C.IncludeRecoilPressure = false;\n",
    "    C.ChemicalReactionActive = false;\n",
    "    C.NumberOfChemicalSpecies = C.EnableMassFractions ? 2 : 1;\n",
    "    C.rhoOne = true; // If true, constant density will be considered in each phase (mainly for debugging)\n",
    "    \n",
    "    C.AdaptiveMeshRefinement = false;\n",
    "\n",
    "    C.activeAMRlevelIndicators.Add(new BoSSS.Solution.LevelSetTools.SolverWithLevelSetUpdater.AMRonNarrowband() { maxRefinementLevel = 4, levelSet = 0 });\n",
    "    C.SkipSolveAndEvaluateResidual = false;\n",
    "    C.AgglomerationThreshold = 0.1;\n",
    "    C.SetDGdegree(DGp);\n",
    "    C.GravityDirection = new double[] { 0.0, 0.0, 0.0 };\n",
    "\n",
    "    C.ImmediatePlotPeriod = 1;\n",
    "    // ==============\n",
    "    // Physical Parameters\n",
    "    // ==============\n",
    "    C.Reynolds = 1.0;\n",
    "    C.Prandtl = 1.0;\n",
    "    C.Schmidt = 1.0;\n",
    "    C.Damk = 1e8 * 0 + 1e4;\n",
    "    C.ReactionRateConstants = new double[] { C.Damk, 15, 1, 1 };\n",
    "    C.HeatRelease = 4.0;\n",
    "\n",
    "    C.smoothingFactor = 10 * 0;\n",
    "    double y_interface = 7.14;\n",
    "    double[] FuelInletMassFractions = new double[] { 1.0, 0.0, 0.0, 0.0, 0.0 };\n",
    "    double[] OxidizerInletMassFractions = new double[] { 0.0, 1.0, 0.0, 0.0, 0.0 };\n",
    "    C.StoichiometricCoefficients = new double[] { -1, -1, 1, 1, 0 };\n",
    "    C.YFuelInlet = FuelInletMassFractions[0];\n",
    "    C.YOxInlet = OxidizerInletMassFractions[1];\n",
    "    C.s = 1;\n",
    "    C.phi = C.s * C.YFuelInlet / C.YOxInlet;\n",
    "    C.zSt = 1.0 / (1.0 + C.phi);\n",
    "    double prescribedMass = 1e-2;\n",
    "\n",
    "    C.prescribedMassflux = BoundaryValueFactory.Get_ConstantValue(prescribedMass);\n",
    "    Console.WriteLine(\"The flamesheet is located at points with Z = \" + C.zSt);\n",
    "\n",
    "    C.PlotNewtonIterations = false;\n",
    "    C.ThermalParameters.T_sat = 1.0; // boundary temperature\n",
    "\n",
    "    C.NonLinearSolver.MaxSolverIterations = 10;\n",
    "    C.NonLinearSolver.ConvergenceCriterion = 1e-7;\n",
    "    C.ThermalParameters.hVap = 1;\n",
    "    C.PhysicalParameters.rho_A = 2.0;\n",
    "    C.PhysicalParameters.rho_B = 1;\n",
    "    C.PhysicalParameters.mu_A = 1;\n",
    "    C.PhysicalParameters.mu_B = 1;\n",
    "    C.ThermalParameters.rho_A = 2.0;\n",
    "    C.ThermalParameters.rho_B = 1;\n",
    "    // Grid declaration\n",
    "    // ===============\n",
    "    C.SetGrid(GridFactory.GenerateGrid1D(nCells));\n",
    "\n",
    "    bool m_BotPressureOutlet = true;\n",
    "    bool m_TopPressureOutlet = false;\n",
    "\n",
    "    // initial values and exact solution\n",
    "    // =================================\n",
    "\n",
    "    foreach (var spc in new[] { \"A\", \"B\" }) {\n",
    "        C.AddInitialValue(VariableNames.VelocityX + \"#\" + spc, BoundaryValueFactory.Get_ConstantValue(0.0));\n",
    "        C.AddInitialValue(VariableNames.VelocityY + \"#\" + spc, BoundaryValueFactory.Get_ConstantValue(0.2));\n",
    "        C.AddInitialValue(VariableNames.Pressure + \"#\" + spc, BoundaryValueFactory.Get_ConstantValue(0.0));\n",
    "        C.AddInitialValue(VariableNames.MixtureFraction + \"#\" + spc, BoundaryValueFactory.Get_ConstantValue(1.0));\n",
    "        C.AddInitialValue(VariableNames.Temperature + \"#\" + spc, BoundaryValueFactory.Get_ConstantValue(1.0));\n",
    "        C.AddInitialValue(VariableNames.MassFraction0 + \"#\" + spc, BoundaryValueFactory.Get_ConstantValue(1.0));\n",
    "        C.AddInitialValue(VariableNames.MassFraction1 + \"#\" + spc, BoundaryValueFactory.Get_ConstantValue(0.0));\n",
    "    }\n",
    "\n",
    "    // C.Phi = GetPhi();\n",
    "    C.AddInitialValue(VariableNames.LevelSetCG, BoundaryValueFactory.Get_Phi(y_interface));\n",
    "\n",
    "    // boundary conditions\n",
    "    // ===================\n",
    "\n",
    "    if (!m_BotPressureOutlet) {\n",
    "        C.AddBoundaryValue(\"velocity_inlet_bot\", VariableNames.Velocity_d(0) + \"#A\", BoundaryValueFactory.Get_ConstantValue(0.0));\n",
    "        C.AddBoundaryValue(\"velocity_inlet_bot\", VariableNames.Velocity_d(1) + \"#A\", BoundaryValueFactory.Get_ConstantValue(prescribedMass / C.PhysicalParameters.rho_A));\n",
    "        C.AddBoundaryValue(\"velocity_inlet_bot\", VariableNames.MixtureFraction + \"#A\", BoundaryValueFactory.Get_ConstantValue(1.0));\n",
    "        C.AddBoundaryValue(\"velocity_inlet_bot\", VariableNames.Temperature + \"#A\", BoundaryValueFactory.Get_ConstantValue(1.0));\n",
    "        C.AddBoundaryValue(\"velocity_inlet_bot\", VariableNames.MassFraction0 + \"#A\", BoundaryValueFactory.Get_ConstantValue(1.0));\n",
    "        C.AddBoundaryValue(\"velocity_inlet_bot\", VariableNames.MassFraction1 + \"#A\", BoundaryValueFactory.Get_ConstantValue(0.0));\n",
    "    } else {\n",
    "        C.AddBoundaryValue(\"ScalarDirichlet_PressureOutlet_bot\", VariableNames.Pressure + \"#A\", BoundaryValueFactory.Get_ConstantValue(m_RecoilPressure ? -prescribedMass * prescribedMass * (1 / C.PhysicalParameters.rho_A - 1 / C.PhysicalParameters.rho_B) : 0.0));\n",
    "        C.AddBoundaryValue(\"ScalarDirichlet_PressureOutlet_bot\", VariableNames.MixtureFraction + \"#A\", BoundaryValueFactory.Get_ConstantValue(1.0));\n",
    "        C.AddBoundaryValue(\"ScalarDirichlet_PressureOutlet_bot\", VariableNames.Temperature + \"#A\", BoundaryValueFactory.Get_ConstantValue(1.0));\n",
    "        C.AddBoundaryValue(\"ScalarDirichlet_PressureOutlet_bot\", VariableNames.MassFraction0 + \"#A\", BoundaryValueFactory.Get_ConstantValue(1.0));\n",
    "        C.AddBoundaryValue(\"ScalarDirichlet_PressureOutlet_bot\", VariableNames.MassFraction1 + \"#A\", BoundaryValueFactory.Get_ConstantValue(0.0));\n",
    "    }\n",
    "    if (!m_TopPressureOutlet) {\n",
    "        C.AddBoundaryValue(\"velocity_inlet_top\", VariableNames.Velocity_d(0) + \"#A\", BoundaryValueFactory.Get_ConstantValue(0.0));\n",
    "        C.AddBoundaryValue(\"velocity_inlet_top\", VariableNames.Velocity_d(1) + \"#A\", BoundaryValueFactory.Get_ConstantValue(prescribedMass / C.PhysicalParameters.rho_B * 1));\n",
    "        C.AddBoundaryValue(\"velocity_inlet_top\", VariableNames.MixtureFraction + \"#A\", BoundaryValueFactory.Get_ConstantValue(0.0));\n",
    "        C.AddBoundaryValue(\"velocity_inlet_top\", VariableNames.Temperature + \"#A\", BoundaryValueFactory.Get_ConstantValue(1.0));\n",
    "        C.AddBoundaryValue(\"velocity_inlet_top\", VariableNames.MassFraction0 + \"#A\", BoundaryValueFactory.Get_ConstantValue(0.0));\n",
    "        C.AddBoundaryValue(\"velocity_inlet_top\", VariableNames.MassFraction1 + \"#A\", BoundaryValueFactory.Get_ConstantValue(1.0));\n",
    "    } else {\n",
    "        C.AddBoundaryValue(\"ScalarDirichlet_PressureOutlet_top\", VariableNames.Pressure + \"#A\", BoundaryValueFactory.Get_ConstantValue(0.0));\n",
    "        C.AddBoundaryValue(\"ScalarDirichlet_PressureOutlet_top\", VariableNames.MixtureFraction + \"#A\", BoundaryValueFactory.Get_ConstantValue(0.0));\n",
    "        C.AddBoundaryValue(\"ScalarDirichlet_PressureOutlet_top\", VariableNames.Temperature + \"#A\", BoundaryValueFactory.Get_ConstantValue(1.0));\n",
    "        C.AddBoundaryValue(\"ScalarDirichlet_PressureOutlet_top\", VariableNames.MassFraction0 + \"#A\", BoundaryValueFactory.Get_ConstantValue(0.0));\n",
    "        C.AddBoundaryValue(\"ScalarDirichlet_PressureOutlet_top\", VariableNames.MassFraction1 + \"#A\", BoundaryValueFactory.Get_ConstantValue(1.0));\n",
    "    }\n",
    "    return C;\n",
    "}"
   ]
  },
  {
   "cell_type": "markdown",
   "metadata": {},
   "source": [
    "## Starting the MixtureFraction simulation\n",
    "Configuration  for the simulation using the mixture fraction approach, where an infinite reaction rate is assumed. Used to find adequate starting solution for the full problem."
   ]
  },
  {
   "cell_type": "code",
   "execution_count": null,
   "metadata": {
    "dotnet_interactive": {
     "language": "csharp"
    },
    "vscode": {
     "languageId": "dotnet-interactive.csharp"
    }
   },
   "outputs": [],
   "source": [
    "static public XNSEC_Control FS_XDG_pseudo2dCombustion(int DGp = 2, int nCells = 4,  string dbPath =null) {\n",
    "    var C = XDG_pseudo2dCombustion(DGp, nCells, dbPath, true);\n",
    "    C.physicsMode = PhysicsMode.MixtureFraction;\n",
    "    C.ProjectName = \"Pseudo1DCombustion\";\n",
    "    string name = C.ProjectName + \"P\" + DGp + \"K\" + nCells ;\n",
    "    C.SessionName = \"FS_\" + name;\n",
    "\n",
    "    C.UseSelfMadeTemporalOperator = false;\n",
    "    //C.SkipSolveAndEvaluateResidual = true;\n",
    "\n",
    "    Dictionary<string, Tuple<double, double>> Bounds = new Dictionary<string, Tuple<double, double>>();\n",
    "    double eps = 0.05;\n",
    "    Bounds.Add(VariableNames.MixtureFraction, new Tuple<double, double>(0 - eps, 1 + eps));\n",
    "    C.VariableBounds = Bounds;\n",
    "    //C.NonLinearSolver.MaxSolverIterations = 500;\n",
    "    C.activeAMRlevelIndicators.Add(new AMR_onFlameSheet(C.zSt, 4));\n",
    "    //C.AMR_startUpSweeps = 4;\n",
    "    C.TimesteppingMode = BoSSS.Solution.Control.AppControl._TimesteppingMode.Steady;\n",
    "    C.NoOfTimesteps = 2;\n",
    "    C.savetodb = true;\n",
    "    return C;\n",
    "}"
   ]
  },
  {
   "cell_type": "markdown",
   "metadata": {},
   "source": [
    "## Send and run jobs"
   ]
  },
  {
   "cell_type": "code",
   "execution_count": null,
   "metadata": {
    "dotnet_interactive": {
     "language": "csharp"
    },
    "vscode": {
     "languageId": "dotnet-interactive.csharp"
    }
   },
   "outputs": [
    {
     "name": "stdout",
     "output_type": "stream",
     "text": [
      "The flamesheet is located at points with Z = 0.5\r\n",
      "Grid Edge Tags changed.\r\n",
      "FS_Pseudo1DCombustionP2K5__2_0\r\n",
      "Deploying job FS_Pseudo1DCombustionP2K5__2_0 ... \r\n",
      "Deploying executables and additional files ...\r\n",
      "Deployment directory: \\\\hpccluster\\hpccluster-scratch\\gutierrez\\binaries\\XDG_Droplet_Combustionn-XNSEC2022May31_134837\r\n",
      "copied 56 files.\r\n",
      "   written file: control.obj\r\n",
      "   copied 'win\\amd64' runtime.\r\n",
      "deployment finished.\r\n",
      "\r\n"
     ]
    }
   ],
   "source": [
    "\n",
    "  Type solver_MF = typeof(BoSSS.Application.XNSEC.XNSEC_MixtureFraction);\n",
    "  XNSEC_MF_Control C_MixtureFraction = (XNSEC_MF_Control)FS_XDG_pseudo2dCombustion(dgMF, nCells,myDb.Path);\n",
    "  string jobName       = C_MixtureFraction.SessionName +\"__2_0\";\n",
    "  Console.WriteLine(jobName);\n",
    "  var oneJob           = new Job(jobName, solver_MF);\n",
    "  oneJob.NumberOfMPIProcs =  1;\n",
    "  oneJob.SetControlObject(C_MixtureFraction);\n",
    "     oneJob.Activate(myBatch); \n",
    "    //oneJob.Activate(); \n",
    "\n",
    "\n"
   ]
  },
  {
   "cell_type": "code",
   "execution_count": null,
   "metadata": {
    "dotnet_interactive": {
     "language": "csharp"
    },
    "vscode": {
     "languageId": "dotnet-interactive.csharp"
    }
   },
   "outputs": [
    {
     "name": "stdout",
     "output_type": "stream",
     "text": [
      "All jobs finished.\r\n"
     ]
    }
   ],
   "source": [
    "BoSSSshell.WorkflowMgm.BlockUntilAllJobsTerminate();"
   ]
  },
  {
   "cell_type": "markdown",
   "metadata": {},
   "source": [
    "## Starting the finite-rate chemistry simulation\n",
    "\n",
    "Now that the simulation for an \"infinite\" reaction rate is done, we use it for initializing the system with finite reaction rate. The goal is to obtain solutions of the counter difussion flame for increasing strain values. We start with a low strain (bigger Dahmkoehler number), which is increased until extintion is (hopefully) found"
   ]
  },
  {
   "cell_type": "code",
   "execution_count": null,
   "metadata": {
    "dotnet_interactive": {
     "language": "csharp"
    },
    "vscode": {
     "languageId": "dotnet-interactive.csharp"
    }
   },
   "outputs": [],
   "source": [
    "static public XNSEC_Control Full_XDG_pseudo2dCombustion(int DGp = 2, int nCells = 5, string dbPath = null) {\n",
    "  \n",
    "\n",
    "    var C = XDG_pseudo2dCombustion(DGp, nCells, dbPath, false);\n",
    "    C.ProjectName = \"Pseudo1DCombustion\";\n",
    "    string jobName = C.ProjectName + \"P\" + DGp + \"K\" + nCells;\n",
    "    C.SessionName = \"Full_\" + jobName;\n",
    "\n",
    "    C.physicsMode = PhysicsMode.Combustion;\n",
    "    C.UseSelfMadeTemporalOperator = false;\n",
    "\n",
    "    // limiting of variable values\n",
    "    Dictionary<string, Tuple<double, double>> Bounds = new Dictionary<string, Tuple<double, double>>();\n",
    "    double eps = 0.05;\n",
    "    Bounds.Add(VariableNames.Temperature, new Tuple<double, double>(1.0 - eps, 10)); // Min temp should be the inlet temperature.\n",
    "    Bounds.Add(VariableNames.MassFraction0, new Tuple<double, double>(0.0 - eps, 1.0 + eps)); // Between 0 and 1 per definition\n",
    "    Bounds.Add(VariableNames.MassFraction1, new Tuple<double, double>(0.0 - eps, 1.0 + eps));\n",
    "    Bounds.Add(VariableNames.MassFraction2, new Tuple<double, double>(0.0 - eps, 1.0 + eps));\n",
    "    Bounds.Add(VariableNames.MassFraction3, new Tuple<double, double>(0.0 - eps, 1.0 + eps));\n",
    "    C.VariableBounds = Bounds;\n",
    "\n",
    "    C.NoOfTimesteps = 1; // The steady solution will be calculated again and do AMR\n",
    "    C.myThermalWallType = SIPDiffusionTemperature.ThermalWallType.Adiabatic;\n",
    "\n",
    "    //C.UseMixtureFractionsForCombustionInitialization = true;\n",
    "\n",
    "    // Select the database\n",
    "    DatabaseInfo dbi = DatabaseInfo.Open(C.DbPath);\n",
    "\n",
    "    string RestartSessionName = (\"FS_\" + jobName);\n",
    "    var sess = dbi.Sessions.Where(s => s.Name.Equals(RestartSessionName)).ToList();   //find the session where the restart should be done from\n",
    "    if (sess.Count == 0) {\n",
    "        Console.WriteLine(\"===========================\");\n",
    "        Console.WriteLine(\"No session found for restart. The pure mixing case will be calculated.\");\n",
    "        Console.WriteLine(\"===========================\");\n",
    "        C.ChemicalReactionActive = false;// true;\n",
    "    } else {\n",
    "        C.SetRestart(sess[0]);\n",
    "        Console.WriteLine(\"===========================\");\n",
    "        Console.WriteLine(\"A session was found for restart in the database. The case with combustion will be calculated\");\n",
    "        if (sess.Count > 1) {\n",
    "            Console.WriteLine(\"Warning: multiple jobs with the same name defined for restart. Using the most recent one\");\n",
    "        }\n",
    "        C.ChemicalReactionActive = true;// true;\n",
    "        Console.WriteLine(\"===========================\");\n",
    "    }\n",
    "    return C;\n",
    "}"
   ]
  },
  {
   "cell_type": "code",
   "execution_count": null,
   "metadata": {
    "dotnet_interactive": {
     "language": "csharp"
    },
    "vscode": {
     "languageId": "dotnet-interactive.csharp"
    }
   },
   "outputs": [],
   "source": [
    "Type solver = typeof(BoSSS.Application.XNSEC.XNSEC);"
   ]
  },
  {
   "cell_type": "markdown",
   "metadata": {},
   "source": [
    "Calculate the full solution for the initial value"
   ]
  },
  {
   "cell_type": "code",
   "execution_count": null,
   "metadata": {
    "dotnet_interactive": {
     "language": "csharp"
    },
    "vscode": {
     "languageId": "dotnet-interactive.csharp"
    }
   },
   "outputs": [
    {
     "name": "stdout",
     "output_type": "stream",
     "text": [
      "The flamesheet is located at points with Z = 0.5\r\n",
      "Grid Edge Tags changed.\r\n",
      "An equivalent grid (2f611a61-8f62-4693-a1ef-b82d1058044c) is already present in the database -- the grid will not be saved.\r\n",
      "===========================\r\n",
      "A session was found for restart in the database. The case with combustion will be calculated\r\n",
      "===========================\r\n",
      "Full_Pseudo1DCombustionP2K5\r\n",
      "Deploying job Full_Pseudo1DCombustionP2K5 ... \r\n",
      "Deploying executables and additional files ...\r\n",
      "Deployment directory: \\\\hpccluster\\hpccluster-scratch\\gutierrez\\binaries\\XDG_Droplet_Combustionn-XNSEC2022May31_135031\r\n",
      "copied 56 files.\r\n",
      "   written file: control.obj\r\n",
      "   copied 'win\\amd64' runtime.\r\n",
      "deployment finished.\r\n",
      "\r\n"
     ]
    }
   ],
   "source": [
    "\n",
    "var C = Full_XDG_pseudo2dCombustion(dgMF, nCells,   myDb.Path );\n",
    "string jobName = C.SessionName;\n",
    "Console.WriteLine(jobName);\n",
    "var oneJob = new Job(jobName, solver);\n",
    "oneJob.NumberOfMPIProcs = 2;\n",
    "oneJob.SetControlObject(C);\n",
    "// oneJob.Activate(myBatch); \n",
    "oneJob.Activate(); \n"
   ]
  },
  {
   "cell_type": "code",
   "execution_count": null,
   "metadata": {
    "dotnet_interactive": {
     "language": "csharp"
    },
    "vscode": {
     "languageId": "dotnet-interactive.csharp"
    }
   },
   "outputs": [],
   "source": []
  },
  {
   "cell_type": "code",
   "execution_count": null,
   "metadata": {
    "dotnet_interactive": {
     "language": "csharp"
    },
    "vscode": {
     "languageId": "dotnet-interactive.csharp"
    }
   },
   "outputs": [],
   "source": []
  },
  {
   "cell_type": "code",
   "execution_count": null,
   "metadata": {
    "dotnet_interactive": {
     "language": "csharp"
    },
    "vscode": {
     "languageId": "dotnet-interactive.csharp"
    }
   },
   "outputs": [],
   "source": []
  }
 ],
 "metadata": {
  "interpreter": {
   "hash": "57baa5815c940fdaff4d14510622de9616cae602444507ba5d0b6727c008cbd6"
  },
  "kernelspec": {
   "display_name": ".NET (C#)",
   "language": "C#",
   "name": ".net-csharp"
  },
  "language_info": {
   "file_extension": ".cs",
   "mimetype": "text/x-csharp",
   "name": "C#",
   "pygments_lexer": "csharp",
   "version": "10.0"
  }
 },
 "nbformat": 4,
 "nbformat_minor": 4
}

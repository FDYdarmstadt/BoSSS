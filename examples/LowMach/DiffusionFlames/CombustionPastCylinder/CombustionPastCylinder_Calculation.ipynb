{
 "cells": [
  {
   "cell_type": "markdown",
   "metadata": {},
   "source": [
    "Combustion around a square cylinder using a finite reaction model. "
   ]
  },
  {
   "cell_type": "code",
   "execution_count": null,
   "metadata": {
    "dotnet_interactive": {
     "language": "csharp"
    },
    "vscode": {
     "languageId": "dotnet-interactive.csharp"
    }
   },
   "outputs": [],
   "source": [
    "#r \"D:\\BoSSS2\\experimental\\public\\src\\L4-application\\BoSSSpad\\bin\\Release\\net5.0\\bossspad.dll\"\n",
    "// #r \"BoSSSpad.dll\"\n",
    "using System;\n",
    "using System.Collections.Generic;\n",
    "using System.Linq;\n",
    "using System.IO;\n",
    "using System.Data;\n",
    "using System.Globalization;\n",
    "using System.Threading;\n",
    "using ilPSP;\n",
    "using ilPSP.Utils;\n",
    "using BoSSS.Platform;\n",
    "using BoSSS.Foundation;\n",
    "using BoSSS.Foundation.Grid;\n",
    "using BoSSS.Foundation.Grid.Classic;\n",
    "using BoSSS.Foundation.IO;\n",
    "using BoSSS.Solution;\n",
    "using BoSSS.Solution.Control;\n",
    "using BoSSS.Solution.GridImport;\n",
    "using BoSSS.Solution.Statistic;\n",
    "using BoSSS.Solution.Utils;\n",
    "using BoSSS.Solution.Gnuplot;\n",
    "using BoSSS.Application.BoSSSpad;\n",
    "using BoSSS.Application.XNSE_Solver;\n",
    "using static BoSSS.Application.BoSSSpad.BoSSSshell;\n",
    "using BoSSS.Foundation.Grid.RefElements;\n",
    "using BoSSS.Platform.LinAlg;\n",
    "using BoSSS.Solution.NSECommon;\n",
    "using BoSSS.Application.XNSEC;\n",
    "Init();"
   ]
  },
  {
   "cell_type": "markdown",
   "metadata": {
    "dotnet_interactive": {
     "language": "csharp"
    }
   },
   "source": [
    "## Open Database"
   ]
  },
  {
   "cell_type": "code",
   "execution_count": null,
   "metadata": {
    "dotnet_interactive": {
     "language": "csharp"
    },
    "vscode": {
     "languageId": "dotnet-interactive.csharp"
    }
   },
   "outputs": [],
   "source": [
    "BoSSSshell.WorkflowMgm.Init(\"Combustion_HeatedSquareCylinder\");"
   ]
  },
  {
   "cell_type": "code",
   "execution_count": null,
   "metadata": {
    "dotnet_interactive": {
     "language": "csharp"
    },
    "vscode": {
     "languageId": "dotnet-interactive.csharp"
    }
   },
   "outputs": [],
   "source": [
    "static var myBatch = GetDefaultQueue();\n",
    "static var myDb = BoSSSshell.WorkflowMgm.DefaultDatabase;"
   ]
  },
  {
   "cell_type": "code",
   "execution_count": null,
   "metadata": {
    "dotnet_interactive": {
     "language": "csharp"
    },
    "vscode": {
     "languageId": "dotnet-interactive.csharp"
    }
   },
   "outputs": [],
   "source": [
    "BoSSSshell.WorkflowMgm.SetNameBasedSessionJobControlCorrelation()"
   ]
  },
  {
   "cell_type": "markdown",
   "metadata": {},
   "source": [
    "## Case configuration"
   ]
  },
  {
   "cell_type": "code",
   "execution_count": null,
   "metadata": {
    "dotnet_interactive": {
     "language": "csharp"
    },
    "vscode": {
     "languageId": "dotnet-interactive.csharp"
    }
   },
   "outputs": [],
   "source": [
    "int[] Resolutions = new int[]{3}; \n",
    "int[] DGdegree = new int[]{3};\n",
    "int[] nCells  =  Resolutions.Select(r => (int)(Math.Pow(2,r+1))).ToArray();\n",
    "double[] Reynolds = new double[] {50}; // 100 is unsteady\n",
    "int dgMF = 3;"
   ]
  },
  {
   "cell_type": "markdown",
   "metadata": {},
   "source": [
    "## Create grid"
   ]
  },
  {
   "cell_type": "code",
   "execution_count": null,
   "metadata": {
    "dotnet_interactive": {
     "language": "csharp"
    },
    "vscode": {
     "languageId": "dotnet-interactive.csharp"
    }
   },
   "outputs": [],
   "source": [
    "public static class GridFactory {\n",
    "    public static double[] GetRNodes(int Res) { \n",
    "//        var rNodes = Grid1D.ExponentialSpaceing(0.5, 29.5, Res + 1, 1.2);\n",
    "        // var rNodes = Grid1D.TanhSpacing(0.5, 29.5, Res + 1, 2, true);\n",
    "        var rNodes = Grid1D.TanhSpacing(0.5, 15.5, Res + 1, 2, true);\n",
    "        return rNodes;\n",
    "    }\n",
    " \n",
    "    static double[] GetSNodes(int Res) {\n",
    "        var sNodes =  Grid1D.ExponentialSpaceing(0.0, 1.0, Res + 1, 1.0);\n",
    "        return sNodes;\n",
    "    }\n",
    "    \n",
    "    public static double[] GetXNodes(int Res) { \n",
    "        var xNodes = GenericBlas.SinLinSpacing(-4.0, 22.0, 0, 3*Res + 1);\n",
    "        return xNodes;\n",
    "    }\n",
    " \n",
    "    static double[] GetYNodes(int Res) {\n",
    "        double[] yNodes =  GenericBlas.SinLinSpacing(-8.0,8.0, 0, 2*Res + 1);\n",
    "        return yNodes;\n",
    "    }\n",
    "    \n",
    "    public static Grid2D GenerateGrid_curved(int Res, int dg) { \n",
    "        var rNodes = GetRNodes(Res);\n",
    "        var sNodes = GetSNodes(Res);\n",
    "        Grid2D grd;\n",
    "        if(dg == 1){\n",
    "             grd = Grid2D.CurvedSquareGrid(rNodes, sNodes, CellType.Square_4, true);\n",
    "        } else if(dg == 2){\n",
    "             grd = Grid2D.CurvedSquareGrid(rNodes, sNodes, CellType.Square_9, true);\n",
    "        } else {\n",
    "             grd = Grid2D.CurvedSquareGrid(rNodes, sNodes, CellType.Square_16, true);\n",
    "        }\n",
    "        \n",
    "      \n",
    "        grd.EdgeTagNames.Add(1, \"Velocity_inlet\");\n",
    "        grd.EdgeTagNames.Add(2, \"Pressure_outlet\");\n",
    "        grd.EdgeTagNames.Add(3, \"Velocity_inlet_Cylinder\");\n",
    "\n",
    "        // grd.EdgeTagNames.Add(3, \"Wall_tempfixed_hot\");\n",
    "        grd.DefineEdgeTags( delegate (double[] X) {\n",
    "            double x = X[0];\n",
    "            double y = X[1];\n",
    "\n",
    "            // left velocity inlet\n",
    "            if ((x * x + y * y) > 2 && x <= 0)\n",
    "                return 1;\n",
    "\n",
    "            //right pressure outlet\n",
    "            if ((x * x + y * y) > 2 && x >  0)\n",
    "                return 2;\n",
    "\n",
    "            else return 3;\n",
    "        });\n",
    "        \n",
    "             \n",
    "        bool force = true; \n",
    "        myDb.SaveGrid(ref grd, force);\n",
    "        \n",
    "        return grd;\n",
    "     }\n",
    " \n",
    "      \n",
    "    public static Grid2D GenerateGrid(int Res) { \n",
    "        double[] CutOut1Point1 = new double[2] { -0.5, -0.5 }; \n",
    "        double[] CutOut1Point2 = new double[2] {  0.5,  0.5 };\n",
    "        \n",
    "        var CutOut1 = new BoSSS.Platform.Utils.Geom.BoundingBox(2);\n",
    "        CutOut1.AddPoint(CutOut1Point1);\n",
    "        CutOut1.AddPoint(CutOut1Point2);\n",
    "        \n",
    "        var xNodes = GetXNodes(Res);\n",
    "        var yNodes = GetYNodes(Res);\n",
    "        \n",
    "        var grd    = Grid2D.Cartesian2DGrid(xNodes, yNodes, CutOuts: CutOut1);\n",
    "        \n",
    "        grd.EdgeTagNames.Add(1, \"Wall_tempfixed_cold\");\n",
    "        grd.EdgeTagNames.Add(2, \"Velocity_inlet\");\n",
    "        grd.EdgeTagNames.Add(3, \"Pressure_outlet\");\n",
    "        grd.EdgeTagNames.Add(4, \"Velocity_inlet_Cylinder\");\n",
    "//        grd.EdgeTagNames.Add(5, \"NoSlipNeumann\");\n",
    "        grd.DefineEdgeTags( delegate (double[] X) {\n",
    "            double x = X[0];\n",
    "            double y = X[1];\n",
    "\n",
    "            //right pressure outlet \n",
    "            if (Math.Abs(x - 22.0 ) < 1e-8)\n",
    "                return 3;\n",
    "\n",
    "            //top wall\n",
    "            if (Math.Abs(y - 8.0 ) < 1e-8)\n",
    "                // return 1;\n",
    "                return 3;\n",
    "\n",
    "\n",
    "            // left velocity inlet\n",
    "            if (Math.Abs(x + 4.0 ) < 1e-8)\n",
    "                return 2;\n",
    "\n",
    "            //bottom Wall\n",
    "            if (Math.Abs(y + 8.0 ) < 1e-8)\n",
    "            // return 1;\n",
    "            return 3;\n",
    "            else return 4;\n",
    "        });\n",
    "        \n",
    "        bool force = true; \n",
    "        myDb.SaveGrid(ref grd, force);\n",
    "        \n",
    "        return grd;\n",
    "     }\n",
    " }"
   ]
  },
  {
   "cell_type": "code",
   "execution_count": null,
   "metadata": {
    "dotnet_interactive": {
     "language": "csharp"
    },
    "vscode": {
     "languageId": "dotnet-interactive.csharp"
    }
   },
   "outputs": [],
   "source": [
    "public static class BoundaryValueFactory { \n",
    "\n",
    "    public static string GetPrefixCode(double Th, double Tc, double Froude, double const_val ) {\n",
    "        using(var stw = new System.IO.StringWriter()) {\n",
    "           \n",
    "           stw.WriteLine(\"static class BoundaryValues {\");\n",
    "           stw.WriteLine(\"  static public double VelX(double[] X) {\");\n",
    "           stw.WriteLine(\"    return 6.0 * (0.5 + X[1]) * (0.5 - X[1]);\");\n",
    "           stw.WriteLine(\"  }\");\n",
    "\n",
    "           stw.WriteLine(\"  static public double VelY(double[] X) {\");\n",
    "           stw.WriteLine(\"    return 0.0;\");\n",
    "           stw.WriteLine(\"  }\");\n",
    "\n",
    "           stw.WriteLine(\"static public double CylinderTemperature(double[] X, double t) {\");\n",
    "           stw.WriteLine(\"double T;\");\n",
    "           stw.WriteLine(\"double TH = 1.0;\");\n",
    "           stw.WriteLine(\"double TM =\"+const_val+ \" ;\");\n",
    "           stw.WriteLine(\"double t1 = 2; \");// time where temperature starts increasing\n",
    "           stw.WriteLine(\"double t2 = 5; \");// temperature peak\n",
    "           stw.WriteLine(\"double t2_2 = 7; \");// temperature peak\n",
    "           stw.WriteLine(\"double t3 = 10; \");// time where temperature is again at initial state\n",
    "           stw.WriteLine(\"if (t > t1 && t < t2)\");\n",
    "           stw.WriteLine(\"T = ((TM - TH) / (t2 - t1)) * (t - t1) + TH;\");\n",
    "           stw.WriteLine(\"else if (t >= t2 && t < t2_2) {\");\n",
    "           stw.WriteLine(\"T = TM;\");\n",
    "           stw.WriteLine(\"} else if (t >= t2_2 && t < t3) {\");\n",
    "           stw.WriteLine(\"T = ((TM - TH) / (t2 - t3)) * (t - t3) + TH;\");\n",
    "           stw.WriteLine(\"} else {\");\n",
    "           stw.WriteLine(\"T = TH;\");\n",
    "           stw.WriteLine(\"}\");\n",
    "           stw.WriteLine(\"return T;\");\n",
    "           stw.WriteLine(\"}\");\n",
    "           \n",
    "\n",
    "           stw.WriteLine(\"  static public double CylinderVx(double[] X) {\");\n",
    "           stw.WriteLine(\"    return X[0]*0.1/0.5;\"); // 0.3 hardcoded velocity, 0.5 hardcoded radius\n",
    "           stw.WriteLine(\"  }\");\n",
    "\n",
    "           stw.WriteLine(\"  static public double CylinderVy(double[] X) {\");\n",
    "           stw.WriteLine(\"    return X[1]*0.1/0.5;\"); // 0.3 hardcoded velocity, 0.5 hardcoded radius\n",
    "           stw.WriteLine(\"  }\");\n",
    "\n",
    "           stw.WriteLine(\"  static public double TemperatureHot(double[] X) {\");\n",
    "           stw.WriteLine(\"    return 1.5;\");\n",
    "           stw.WriteLine(\"  }\");\n",
    "\n",
    "           stw.WriteLine(\"  static public double TemperatureCold(double[] X) {\");\n",
    "           stw.WriteLine(\"    return 1.0;\");\n",
    "           stw.WriteLine(\"  }\");\n",
    "\n",
    "           stw.WriteLine(\"  static public double One(double[] X) {\");\n",
    "           stw.WriteLine(\"    return 1.0;\");\n",
    "           stw.WriteLine(\"  }\");\n",
    "\n",
    "           stw.WriteLine(\"  static public double Zero(double[] X) {\");\n",
    "           stw.WriteLine(\"    return 0.0;\");\n",
    "           stw.WriteLine(\"  }\");\n",
    "        \n",
    "           stw.WriteLine(\"  static public double Temperature(double[] X) {\");\n",
    "           stw.WriteLine(\"    return (-2.333 * X[1]) + (4.333 / 2);\");\n",
    "           stw.WriteLine(\"  }\");\n",
    "            \n",
    "           stw.WriteLine(\" static public double InitialVelocityVx(double[] X) { \");\n",
    "           stw.WriteLine(\"    return 1.0 - 0 * Convert.ToInt32(((X[0]-2)*(X[0]-2)+X[1]*X[1])<=1) * X[1];\");\n",
    "           stw.WriteLine(\"    }\"); \n",
    "            \n",
    "           stw.WriteLine(\" static public double InitialVelocityVy(double[] X) { \");\n",
    "           stw.WriteLine(\"    return 0.0 + 0 * Convert.ToInt32(((X[0]-2)*(X[0]-2)+X[1]*X[1])<=1) * (X[0]-2);\");\n",
    "           stw.WriteLine(\"    }\"); \n",
    "\n",
    "           stw.WriteLine(\"  static public double ConstantVal(double[] X) {\");\n",
    "           stw.WriteLine(\"    return \" + const_val+\";\");\n",
    "           stw.WriteLine(\"  }\");\n",
    "\n",
    "           stw.WriteLine(\" static public double InitialPressure(double[] X) { \");\n",
    "            stw.WriteLine(\"         return (-1)* X[1] / (\"+Froude * Froude +\") ;\");\n",
    "            stw.WriteLine(\"    }\");\n",
    "            stw.WriteLine(\"}\"); \n",
    "           return stw.ToString();\n",
    "        }\n",
    "    }\n",
    "   \n",
    "    static public Formula Get_VelX(double Th, double Tc , double Froude) {\n",
    "        return new Formula(\"BoundaryValues.VelX\", AdditionalPrefixCode:GetPrefixCode(Th,Tc,Froude, -1));\n",
    "    }\n",
    "\n",
    "    static public Formula Get_VelY(double Th, double Tc, double Froude){\n",
    "        return new Formula(\"BoundaryValues.VelY\", AdditionalPrefixCode:GetPrefixCode(Th,Tc,Froude,-1));\n",
    "    }\n",
    "    static public Formula Get_TemperatureHot(double Th, double Tc, double Froude){\n",
    "        return new Formula(\"BoundaryValues.TemperatureHot\", AdditionalPrefixCode:GetPrefixCode(Th,Tc,Froude,-1));\n",
    "    }\n",
    "\n",
    "     static public Formula Get_TemperatureCold(double Th, double Tc, double Froude){\n",
    "        return new Formula(\"BoundaryValues.TemperatureCold\", AdditionalPrefixCode:GetPrefixCode(Th,Tc,Froude,-1));\n",
    "    }\n",
    "\n",
    "    static public Formula Get_One(){\n",
    "        return new Formula(\"BoundaryValues.One\", AdditionalPrefixCode:GetPrefixCode(-1,-1,-1,-1));\n",
    "    }\n",
    "    static public Formula Get_Zero(){\n",
    "        return new Formula(\"BoundaryValues.Zero\", AdditionalPrefixCode:GetPrefixCode(-1,-1,-1,-1));\n",
    "    }\n",
    "    static public Formula Get_Temperature(double Th, double Tc, double Froude){\n",
    "        return new Formula(\"BoundaryValues.Temperature\", AdditionalPrefixCode:GetPrefixCode(Th,Tc,Froude,-1));\n",
    "    }\n",
    "    static public Formula Get_InitialPressure(double Th, double Tc, double Froude){\n",
    "        return new Formula(\"BoundaryValues.InitialPressure\", AdditionalPrefixCode:GetPrefixCode(Th,Tc,Froude,-1));\n",
    "    }\n",
    "    static public Formula Get_InitialVelocityVx(){\n",
    "        return new Formula(\"BoundaryValues.InitialVelocityVx\", AdditionalPrefixCode:GetPrefixCode(-1,-1,-1,-1));\n",
    "    }\n",
    "    static public Formula Get_InitialVelocityVy(){\n",
    "        return new Formula(\"BoundaryValues.InitialVelocityVy\", AdditionalPrefixCode:GetPrefixCode(-1,-1,-1,-1));\n",
    "    }\n",
    "    static public Formula Get_ConstantVal(double constVal){\n",
    "        return new Formula(\"BoundaryValues.ConstantVal\", AdditionalPrefixCode:GetPrefixCode(-1,-1,-1,constVal));\n",
    "    }\n",
    "    static public Formula Get_CylinderVelocityX(){\n",
    "        return new Formula(\"BoundaryValues.CylinderVx\", AdditionalPrefixCode:GetPrefixCode(-1,-1,-1,-1));\n",
    "    }\n",
    "\n",
    "    static public Formula Get_CylinderVelocityY(){\n",
    "        return new Formula(\"BoundaryValues.CylinderVy\", AdditionalPrefixCode:GetPrefixCode(-1,-1,-1,-1));\n",
    "    }\n",
    "\n",
    "\n",
    "    static public Formula Get_Temperature_Cylinder(double maxTemperature){\n",
    "        return new Formula(\"BoundaryValues.CylinderTemperature\",TimeDep:true, AdditionalPrefixCode:GetPrefixCode(-1,-1,-1,maxTemperature));\n",
    "    }\n",
    "}"
   ]
  },
  {
   "cell_type": "markdown",
   "metadata": {},
   "source": [
    "## Create base control file\n",
    "In this ControlFile basic configuration of the CounterDiffusionFlame is defined."
   ]
  },
  {
   "cell_type": "code",
   "execution_count": null,
   "metadata": {
    "dotnet_interactive": {
     "language": "csharp"
    },
    "vscode": {
     "languageId": "dotnet-interactive.csharp"
    }
   },
   "outputs": [],
   "source": [
    "static XNSEC_Control GiveMeTheCtrlFile(int dg, int Res, bool isMF, double Re) {\n",
    "    var CC = new ChemicalConstants();\n",
    "\n",
    "    var C = isMF ? new XNSEC_MF_Control() : new XNSEC_Control();\n",
    "\n",
    "            C.NumberOfChemicalSpecies = 4;\n",
    "            C.SetDGdegree(dg);\n",
    "            var nCells = (int)Math.Pow(2, Res + 1); \n",
    "\n",
    "            bool useCurvedMesh = false;\n",
    "            if(useCurvedMesh){\n",
    "            C.SetGrid(GridFactory.GenerateGrid_curved(nCells, dg));\n",
    "            } else{\n",
    "            C.SetGrid(GridFactory.GenerateGrid(nCells));\n",
    "            }\n",
    "\n",
    "         \n",
    "            C.Paramstudy_CaseIdentification.Add(new Tuple<string, object>(\"Res\", Res));\n",
    "            C.Paramstudy_CaseIdentification.Add(new Tuple<string, object>(\"Dgdegree\", dg));\n",
    "            C.Paramstudy_CaseIdentification.Add(new Tuple<string, object>(\"Reynolds\", Re));\n",
    "            C.SessionName = \"Combustion_HeatedCylinder\" + Res + \"_DG\" + dg + \"_Re\" + Re;\n",
    "\n",
    "\n",
    "            double TemperatureInFuel = 300;  //\n",
    "            double TemperatureInOxidizer = 300; //\n",
    "            double AtmPressure = 101325; // Pa\n",
    "            double[] FuelInletConcentrations = new double[] { 0.2, 0.0, 0.0, 0.0, 0.8 };\n",
    "\n",
    "            double[] OxidizerInletConcentrations = new double[] { 0.0, 0.23, 0.0, 0.0, 0.77 }; //\n",
    "            double[] MWs = new double[] { CC.MW_CH4, CC.MW_O2, CC.MW_CO2, CC.MW_H2O, CC.MW_N2 };\n",
    "\n",
    "            double mwFuel = CC.getAvgMW(MWs, FuelInletConcentrations);\n",
    "            double mwAir = CC.getAvgMW(MWs, OxidizerInletConcentrations);\n",
    "            double densityAirIn = AtmPressure * mwAir / (CC.R_gas * TemperatureInOxidizer * 1000); // kg / m3\n",
    "            double densityFuelIn = AtmPressure * mwFuel / (CC.R_gas * TemperatureInFuel * 1000); // kg / m3.\n",
    "\n",
    "            // Reference values\n",
    "            //===================\n",
    "            // Basic units to be used: Kg, m, s, mol, pa,\n",
    "            double TRef = TemperatureInOxidizer;// Reference temperature  is the inlet temperature, (K)\n",
    "            double pRef = AtmPressure; // Pa\n",
    "            double uRef = 1.0;// Math.Max(uInFuel, uInAir); // m/s\n",
    "            double LRef = 1;\n",
    "\n",
    "            C.YFuelInlet = FuelInletConcentrations[0];\n",
    "            C.YOxInlet = OxidizerInletConcentrations[1];\n",
    "            C.FuelInletConcentrations = FuelInletConcentrations;\n",
    "            C.OxidizerInletConcentrations = OxidizerInletConcentrations;\n",
    "\n",
    "            double s = (CC.nu_O2 * CC.MW_O2) / (CC.nu_CH4 * CC.MW_CH4);\n",
    "            C.phi = s * C.YFuelInlet / C.YOxInlet;\n",
    "            C.zSt = 1.0 / (1.0 + C.phi);\n",
    "            var MLC = new MaterialLawCombustion(300, new double[] { }, C.MatParamsMode, C.rhoOne, true, 1.0, 1, 1, C.YOxInlet, C.YFuelInlet, C.zSt, CC, 0.75);\n",
    "            var ThermoProperties = new ThermodynamicalProperties();\n",
    "\n",
    "            //==========================\n",
    "            //Derived reference values\n",
    "            //==========================\n",
    "            C.uRef = uRef; // Reference velocity\n",
    "            C.LRef = LRef; // reference length\n",
    "            C.pRef = AtmPressure; // reference pressure\n",
    "            C.TRef = TemperatureInFuel;// reference temperature\n",
    "            C.MWRef = MLC.getAvgMW(MWs, C.OxidizerInletConcentrations); // Air mean molecular weight\n",
    "            C.rhoRef = C.pRef * C.MWRef / (8.314 * C.TRef * 1000); // Kg/m3. ok ;\n",
    "            C.cpRef = 1.3;//ThermoProperties.Calculate_Cp_Mixture(new double[] { 0.23, 0.77 }, new string[] { \"O2\", \"N2\" }, 300); // 1.219185317353029;// Representative value, KJ/Kg K ========> 1.31 for the one-step kinetic model\n",
    "            C.muRef = MLC.getViscosityDim(300);\n",
    "            C.MolarMasses = new double[] { C.CC.MW_CH4, C.CC.MW_O2, C.CC.MW_CO2, C.CC.MW_H2O, C.CC.MW_N2 };\n",
    "            C.MolarMasses.ScaleV(1.0 / C.MWRef); //NonDimensionalized Molar masses\n",
    "            C.T_ref_Sutherland = 300;\n",
    "            double heatRelease_Ref = (C.TRef * C.cpRef);\n",
    "            C.B = CC.PreExponentialFactor;\n",
    "\n",
    "            C.StoichiometricCoefficients = new double[] { -1, -2, 1, 2, 0 };\n",
    "            bool simpleCase = true;\n",
    "\n",
    "            if (simpleCase) {\n",
    "                C.Damk = C.rhoRef * C.LRef * C.B / (C.uRef * C.MWRef)*1e4;//*1e-3;\n",
    "                Console.WriteLine(\"Damkoehler Number :\" + C.Damk);\n",
    "\n",
    "                C.ReactionRateConstants = new double[] { C.Damk, CC.Ta / TRef, 1.0, 1.0 };\n",
    "                C.HeatRelease = C.CC.HeatReleaseMass / heatRelease_Ref;\n",
    "            } else {\n",
    "                C.Damk = C.rhoRef * C.LRef * C.B / (C.uRef * C.MWRef);\n",
    "                Console.WriteLine(\"Damkoehler Number :\" + C.Damk);\n",
    "\n",
    "                C.ReactionRateConstants = new double[] { C.Damk, CC.Ta / TRef, 1.0, 1.0 };\n",
    "                C.HeatRelease = C.CC.HeatReleaseMass / heatRelease_Ref;\n",
    "            }\n",
    "\n",
    "            double maxTemperature =   C.zSt * C.TFuelInlet + (1 - C.zSt) * C.TOxInlet + C.HeatRelease * C.YFuelInlet * C.zSt;\n",
    "            \n",
    "            Console.WriteLine(\"Max flame temperature should be: \"+ maxTemperature);\n",
    "            C.EnableMassFractions = true;\n",
    "            C.ChemicalReactionActive = true;\n",
    "            C.MatParamsMode = MaterialParamsMode.Sutherland;\n",
    "            C.physicsMode = PhysicsMode.Combustion;\n",
    "\n",
    "            C.smoothingFactor = 80;\n",
    "            //    C.TimesteppingMode = AppControl._TimesteppingMode.Steady;\n",
    "\n",
    "            // C.TimesteppingMode = AppControl._TimesteppingMode.Transient;\n",
    "            // C.TimeSteppingScheme = BoSSS.Solution.XdgTimestepping.TimeSteppingScheme.BDF3;\n",
    "            // double dt = 0.1;\n",
    "            // C.dtMax = dt;\n",
    "            // C.dtMin = dt;\n",
    "            // C.Endtime = 100;\n",
    "            // C.NoOfTimesteps = 15000;\n",
    "            // C.LinearSolver.SolverCode = LinearSolverCode.exp_Kcycle_schwarz;\n",
    "            // C.LinearSolver.NoOfMultigridLevels = 5;\n",
    "            // C.LinearSolver = LinearSolverCode.exp_Kcycle_schwarz.GetConfig();\n",
    "\n",
    "            C.LinearSolver = LinearSolverCode.direct_pardiso.GetConfig();\n",
    "\n",
    "            C.NonLinearSolver.SolverCode = NonLinearSolverCode.Newton;\n",
    "\n",
    "            C.NonLinearSolver.ConvergenceCriterion = 1e-11;\n",
    "            C.NonLinearSolver.verbose = true;\n",
    "            C.NonLinearSolver.MaxSolverIterations = 15;\n",
    "\n",
    "            C.PenaltyViscMomentum = 1.0 * 1;\n",
    "            C.PenaltyHeatConduction = 1.0 * 1;\n",
    "            C.PhysicalParameters.IncludeConvection = true;\n",
    "\n",
    "            C.UseSelfMadeTemporalOperator = true;\n",
    "            C.timeDerivativeEnergyp0_OK = false;\n",
    "            C.timeDerivativeConti_OK = true;\n",
    "            C.EnableTemperature = true;\n",
    "\n",
    "            if (simpleCase) {\n",
    "                C.rhoOne = true;\n",
    "                C.UseSelfMadeTemporalOperator = false;\n",
    "                C.timeDerivativeEnergyp0_OK = false;\n",
    "                C.timeDerivativeConti_OK = false;\n",
    "                C.MatParamsMode = MaterialParamsMode.Constant;\n",
    "            }\n",
    "\n",
    "            C.Reynolds = Re;\n",
    "            C.Prandtl = 0.71;\n",
    "            double Fr = 11111111; //shouldnt matter\n",
    "\n",
    "            //    double Fr = Math.Sqrt(2.0 * C.Prandtl * (Th - Tc) / (Th + Tc));\n",
    "            C.Froude = Fr;\n",
    "            C.HeatCapacityRatio = 1.4;\n",
    "            C.T_ref_Sutherland = 600;  //Check\n",
    "    //==========================\n",
    "    // Initial conditions\n",
    "    //==========================\n",
    "\n",
    "\n",
    "    C.AddInitialValue(VariableNames.VelocityX, BoundaryValueFactory.Get_InitialVelocityVx());\n",
    "        C.AddInitialValue(VariableNames.VelocityY, BoundaryValueFactory.Get_InitialVelocityVy());\n",
    "        // C.AddInitialValue(VariableNames.VelocityX, BoundaryValueFactory.Get_ConstantVal(1.0));\n",
    "        // C.AddInitialValue(VariableNames.VelocityY, BoundaryValueFactory.Get_ConstantVal(0.0));\n",
    "        C.AddInitialValue(VariableNames.Pressure, BoundaryValueFactory.Get_Zero());\n",
    "\n",
    "    //==========================\n",
    "    // Boundary conditions\n",
    "    //==========================\n",
    "\n",
    "\n",
    "    C.AddBoundaryValue(\"Velocity_inlet\", VariableNames.VelocityX, BoundaryValueFactory.Get_ConstantVal(1.0));\n",
    "    C.AddBoundaryValue(\"Velocity_inlet\", VariableNames.VelocityY, BoundaryValueFactory.Get_Zero());\n",
    "   \n",
    "\n",
    "    C.AddBoundaryValue(\"Pressure_outlet\", VariableNames.Pressure, BoundaryValueFactory.Get_Zero());\n",
    "\n",
    "  \n",
    "\n",
    "\n",
    "    if(useCurvedMesh){\n",
    "        C.AddBoundaryValue(\"Velocity_inlet_Cylinder\", VariableNames.VelocityX, BoundaryValueFactory.Get_CylinderVelocityX());\n",
    "        C.AddBoundaryValue(\"Velocity_inlet_Cylinder\", VariableNames.VelocityY, BoundaryValueFactory.Get_CylinderVelocityY());\n",
    "    } else{\n",
    "        C.AddBoundaryValue(\"Velocity_inlet_Cylinder\", VariableNames.VelocityX, BoundaryValueFactory.Get_CylinderVelocityX());\n",
    "        C.AddBoundaryValue(\"Velocity_inlet_Cylinder\", VariableNames.VelocityY, BoundaryValueFactory.Get_CylinderVelocityY());\n",
    "\n",
    "        // C.AddBoundaryValue(\"Wall_tempfixed_cold\", VariableNames.Temperature, BoundaryValueFactory.Get_One());\n",
    "\n",
    "    }\n",
    "\n",
    "\n",
    "\n",
    "    return C;\n",
    "    }"
   ]
  },
  {
   "cell_type": "markdown",
   "metadata": {},
   "source": [
    "## Starting the MixtureFraction simulation\n",
    "Configuration  for the simulation using the mixture fraction approach, where an infinite reaction rate is assumed. Used to find adequate starting solution for the full problem."
   ]
  },
  {
   "cell_type": "code",
   "execution_count": null,
   "metadata": {
    "dotnet_interactive": {
     "language": "csharp"
    },
    "vscode": {
     "languageId": "dotnet-interactive.csharp"
    }
   },
   "outputs": [],
   "source": [
    "static XNSEC_Control GiveMeTheMixtureFractionCtrlFile(int dg, int nCells, double Re){\n",
    "    var C_MixtureFraction = GiveMeTheCtrlFile(dg, nCells, true,Re);\n",
    "    C_MixtureFraction.physicsMode = PhysicsMode.MixtureFraction;\n",
    "    C_MixtureFraction.ProjectName = \"CylinderFlame\";\n",
    "    string name = C_MixtureFraction.ProjectName + \"P\" + dg + \"K\" + nCells;\n",
    "    C_MixtureFraction.SessionName = \"FS_\" + name;\n",
    "\n",
    "    C_MixtureFraction.UseSelfMadeTemporalOperator = false;\n",
    "    C_MixtureFraction.ChemicalReactionActive = false;\n",
    "    C_MixtureFraction.physicsMode = PhysicsMode.MixtureFraction;\n",
    "    C_MixtureFraction.NonLinearSolver.MaxSolverIterations = 50; \n",
    "    \n",
    "    // Boundary and initial conditions\n",
    "        C_MixtureFraction.AddInitialValue(VariableNames.MixtureFraction,BoundaryValueFactory.Get_ConstantVal(1.0));\n",
    "    C_MixtureFraction.AddBoundaryValue(\"Velocity_inlet_Cylinder\", VariableNames.MixtureFraction, BoundaryValueFactory.Get_ConstantVal(1.0));\n",
    "    C_MixtureFraction.AddBoundaryValue(\"Velocity_inlet\", VariableNames.MixtureFraction, BoundaryValueFactory.Get_ConstantVal(0.0));\n",
    "\n",
    "\n",
    "\n",
    "    bool useHomotopy = false;\n",
    "\n",
    "    if(useHomotopy) { \n",
    "        C_MixtureFraction.HomotopyApproach = XNSEC_Control.HomotopyType.Automatic;\n",
    "        // C_MixtureFraction.HomotopyVariable = XNSEC_Control.HomotopyVariableEnum.VelocityInletMultiplier;\n",
    "        // C_MixtureFraction.homotopieAimedValue = multiplier;\n",
    "        C_MixtureFraction.HomotopyVariable = XNSEC_Control.HomotopyVariableEnum.Reynolds;\n",
    "        C_MixtureFraction.homotopieAimedValue = C_MixtureFraction.Reynolds;\n",
    "    }\n",
    "\n",
    "\n",
    "    C_MixtureFraction.AdaptiveMeshRefinement = true;\n",
    "    C_MixtureFraction.TimesteppingMode = BoSSS.Solution.Control.AppControl._TimesteppingMode.Steady; \n",
    "    int pseudotimesteps = 3;\n",
    "    C_MixtureFraction.NoOfTimesteps = pseudotimesteps;\n",
    "\n",
    "    C_MixtureFraction.AMR_startUpSweeps = 3;\n",
    "   \n",
    "   double[] p11 = new double[2] {-1.5, -1.5};\n",
    "   double[] p12 = new double[2] { 4.0,  1.5};   \n",
    "   var ind1     = new BoSSS.Application.XNSEC.AMRInBoundingBox(p11, p12);\n",
    "   ind1.maxRefinementLevel = 2;\n",
    "   C_MixtureFraction.activeAMRlevelIndicators.Add(ind1);\n",
    "   \n",
    "   \n",
    "//    double[] p21 = new double[2] {-1.0, -1.0};\n",
    "//    double[] p22 = new double[2] { 2.0,  1.0};  \n",
    "//    var ind2     = new BoSSS.Application.XNSEC.AMRInBoundingBox(p21, p22);\n",
    "//    ind2.maxRefinementLevel = 2;\n",
    "//    C_MixtureFraction.activeAMRlevelIndicators.Add(ind2);\n",
    "   \n",
    "   \n",
    "//    double[] p31 = new double[2] { -0.75, -0.75};\n",
    "//    double[] p32 = new double[2] {  1.50,  0.75};  \n",
    "//    var ind3     = new BoSSS.Application.XNSEC.AMRInBoundingBox(p31, p32);\n",
    "//    ind3.maxRefinementLevel = 3;\n",
    "//    C_MixtureFraction.activeAMRlevelIndicators.Add(ind3);\n",
    "\n",
    "\n",
    "    // //top left\n",
    "    // double eps = 0.5;\n",
    "    // double[] p41 = new double[2] { -0.5-eps , 0.5-eps }; // (-1,0)\n",
    "    // double[] p42 = new double[2] {  -0.5 +eps , 0.5+eps };   // 0,1)\n",
    "    // var ind4     = new BoSSS.Application.XNSEC.AMRInBoundingBox(p41, p42);\n",
    "    // ind4.maxRefinementLevel = 5;\n",
    "    // C_MixtureFraction.activeAMRlevelIndicators.Add(ind4);\n",
    "\n",
    "\n",
    "\n",
    "    // //bot left\n",
    "    // double[] p51 = new double[2] { -0.5-eps , -0.5-eps }; \n",
    "    // double[] p52 = new double[2] {  -0.5 +eps , -0.5+eps };  \n",
    "    // var ind5     = new BoSSS.Application.XNSEC.AMRInBoundingBox(p51, p52);\n",
    "    // ind4.maxRefinementLevel = 5;\n",
    "    // C_MixtureFraction.activeAMRlevelIndicators.Add(ind5);\n",
    "\n",
    "\n",
    "\n",
    "\n",
    "\n",
    "\n",
    "\n",
    "\n",
    "\n",
    "\n",
    "    // C_MixtureFraction.activeAMRlevelIndicators.Add( new BoSSS.Application.XNSEC.AMR_onProblematicPoints(troubledPoints,C_MixtureFraction.AMR_startUpSweeps) );  \n",
    "    C_MixtureFraction.activeAMRlevelIndicators.Add( new BoSSS.Application.XNSEC.AMR_onFlameSheet(C_MixtureFraction.zSt,3) );\n",
    "    return C_MixtureFraction;\n",
    "}"
   ]
  },
  {
   "cell_type": "code",
   "execution_count": null,
   "metadata": {
    "dotnet_interactive": {
     "language": "csharp"
    },
    "vscode": {
     "languageId": "dotnet-interactive.csharp"
    }
   },
   "outputs": [],
   "source": []
  },
  {
   "cell_type": "markdown",
   "metadata": {},
   "source": [
    "## Send and run jobs"
   ]
  },
  {
   "cell_type": "code",
   "execution_count": null,
   "metadata": {
    "dotnet_interactive": {
     "language": "csharp"
    },
    "vscode": {
     "languageId": "dotnet-interactive.csharp"
    }
   },
   "outputs": [],
   "source": [
    "\n",
    "  Type solver_MF = typeof(BoSSS.Application.XNSEC.XNSEC_MixtureFraction);\n",
    "  var C_MixtureFraction = GiveMeTheMixtureFractionCtrlFile(dgMF, Resolutions[0],Reynolds[0] );\n",
    "  string jobName       = C_MixtureFraction.SessionName;\n",
    "  Console.WriteLine(jobName);\n",
    "  var oneJob           = new Job(jobName, solver_MF);\n",
    "  oneJob.NumberOfMPIProcs =  8;\n",
    "  oneJob.SetControlObject(C_MixtureFraction);\n",
    "    oneJob.Activate(myBatch); \n",
    "    // oneJob.Activate(); \n",
    "\n"
   ]
  },
  {
   "cell_type": "code",
   "execution_count": null,
   "metadata": {
    "dotnet_interactive": {
     "language": "csharp"
    },
    "vscode": {
     "languageId": "dotnet-interactive.csharp"
    }
   },
   "outputs": [],
   "source": []
  },
  {
   "cell_type": "code",
   "execution_count": null,
   "metadata": {
    "dotnet_interactive": {
     "language": "csharp"
    },
    "vscode": {
     "languageId": "dotnet-interactive.csharp"
    }
   },
   "outputs": [],
   "source": [
    "BoSSSshell.WorkflowMgm.BlockUntilAllJobsTerminate();"
   ]
  },
  {
   "cell_type": "code",
   "execution_count": null,
   "metadata": {
    "dotnet_interactive": {
     "language": "csharp"
    },
    "vscode": {
     "languageId": "dotnet-interactive.csharp"
    }
   },
   "outputs": [],
   "source": [
    "myDb.Sessions[0].Export().Do()"
   ]
  },
  {
   "cell_type": "code",
   "execution_count": null,
   "metadata": {
    "dotnet_interactive": {
     "language": "csharp"
    },
    "vscode": {
     "languageId": "dotnet-interactive.csharp"
    }
   },
   "outputs": [],
   "source": []
  },
  {
   "cell_type": "markdown",
   "metadata": {},
   "source": [
    "## Starting the finite-rate chemistry simulation\n",
    "\n",
    "Now that the simulation for an \"infinite\" reaction rate is done, we use it for initializing the system with finite reaction rate. The goal is to obtain solutions of the counter difussion flame for increasing strain values. We start with a low strain (bigger Dahmkoehler number), which is increased until extintion is (hopefully) found"
   ]
  },
  {
   "cell_type": "code",
   "execution_count": null,
   "metadata": {
    "dotnet_interactive": {
     "language": "csharp"
    },
    "vscode": {
     "languageId": "dotnet-interactive.csharp"
    }
   },
   "outputs": [],
   "source": [
    "static XNSEC_Control GiveMeTheFullCtrlFile(int dg, int nCells,double Re, ISessionInfo SessionToRestart) {\n",
    "    var C_OneStep = GiveMeTheCtrlFile(dg, nCells, false,Re);\n",
    "    C_OneStep.physicsMode = PhysicsMode.Combustion;\n",
    "    C_OneStep.ProjectName = \"CylinderFlame\";\n",
    "    string name = C_OneStep.ProjectName + \"P\" + dg + \"K\" + nCells;\n",
    "    C_OneStep.SessionName = \"Full_\" + name+ \"Smooth32\" + C_OneStep.smoothingFactor;\n",
    "    C_OneStep.VariableOneStepParameters = false;\n",
    "\n",
    "\n",
    "    C_OneStep.UseSelfMadeTemporalOperator = false;\n",
    "    C_OneStep.myThermalWallType = SIPDiffusionTemperature.ThermalWallType.Adiabatic;\n",
    "    C_OneStep.Timestepper_LevelSetHandling = BoSSS.Solution.XdgTimestepping.LevelSetHandling.None;\n",
    "    C_OneStep.UseMixtureFractionsForCombustionInitialization = true;\n",
    "\n",
    "\n",
    "    C_OneStep.ChemicalReactionActive = true;\n",
    "    \n",
    "    C_OneStep.HeatCapacityMode = MaterialLaw_MultipleSpecies.CpCalculationMode.constant;\n",
    "\n",
    "    bool AMRinEachNewtonStep = false;\n",
    "\n",
    "    if( AMRinEachNewtonStep) {\n",
    "        C_OneStep.NoOfTimesteps = 4;\n",
    "        C_OneStep.NonLinearSolver.MaxSolverIterations = 8; // Do only one newton iteration before refining\n",
    "        C_OneStep.NonLinearSolver.MinSolverIterations = 8; // Do only one newton iteration before refining\n",
    "    } else{\n",
    "        C_OneStep.NoOfTimesteps = 3; // The steady solution will be calculated again and do AMR\n",
    "        C_OneStep.NonLinearSolver.MaxSolverIterations = 3;\n",
    "    }\n",
    "\n",
    "\n",
    "\n",
    "    // limiting of variable values\n",
    "    Dictionary<string, Tuple<double, double>> Bounds = new Dictionary<string, Tuple<double, double>>();\n",
    "    double eps = 1e-2;\n",
    "    Bounds.Add(VariableNames.Temperature, new Tuple<double, double>(1.0 - eps, 10)); // Min temp should be the inlet temperature.\n",
    "    Bounds.Add(VariableNames.MassFraction0, new Tuple<double, double>(0.0 - 1e-4, 1.0 + 1e-4)); // Between 0 and 1 per definition\n",
    "    Bounds.Add(VariableNames.MassFraction1, new Tuple<double, double>(0.0 - 1e-4, 1.0 + 1e-4));\n",
    "    Bounds.Add(VariableNames.MassFraction2, new Tuple<double, double>(0.0 - 1e-4, 1.0 + 1e-4));\n",
    "    Bounds.Add(VariableNames.MassFraction3, new Tuple<double, double>(0.0 - 1e-4, 1.0 + 1e-4));\n",
    "    // C_OneStep.VariableBounds = Bounds; ///////////////////////////////////////////////////////////////////////////////////////////////////////////////////////////////////////////////////////////////////////////////////////////////////////////////////////////////////////////////////////////////////////////////////////\n",
    "    // Boundary conditions\n",
    "\n",
    "    double dummy = 0;\n",
    "    if(SessionToRestart != null) {\n",
    "        C_OneStep.SetRestart(SessionToRestart);\n",
    "    } else {\n",
    "        C_OneStep.AddInitialValue(VariableNames.Temperature, BoundaryValueFactory.Get_ConstantVal(1.0));\n",
    "        C_OneStep.AddInitialValue(VariableNames.MassFraction0, BoundaryValueFactory.Get_ConstantVal(0.0));\n",
    "        C_OneStep.AddInitialValue(VariableNames.MassFraction1, BoundaryValueFactory.Get_ConstantVal(0.23));\n",
    "        C_OneStep.AddInitialValue(VariableNames.MassFraction2, BoundaryValueFactory.Get_ConstantVal(0.0));\n",
    "        C_OneStep.AddInitialValue(VariableNames.MassFraction3, BoundaryValueFactory.Get_ConstantVal(0.0));\n",
    "    }\n",
    "   \n",
    "\n",
    "    \n",
    "    C_OneStep.AdaptiveMeshRefinement = true;\n",
    "    C_OneStep.AMR_startUpSweeps = 5;\n",
    "    C_OneStep.activeAMRlevelIndicators.Add( new BoSSS.Application.XNSEC.AMR_onFlameSheet(C_OneStep.zSt,5) );\n",
    "\n",
    "    // C.activeAMRlevelIndicators.Add( new BoSSS.Application.XNSEC.AMR_onReactiveZones(3,0.7) );\n",
    "    C_OneStep.AddBoundaryValue(\"Velocity_inlet_Cylinder\", VariableNames.Temperature, BoundaryValueFactory.Get_ConstantVal(1.0));\n",
    "    C_OneStep.AddBoundaryValue(\"Velocity_inlet_Cylinder\", VariableNames.MassFraction0, BoundaryValueFactory.Get_ConstantVal(C_OneStep.FuelInletConcentrations[0]));\n",
    "    C_OneStep.AddBoundaryValue(\"Velocity_inlet_Cylinder\", VariableNames.MassFraction1, BoundaryValueFactory.Get_ConstantVal(C_OneStep.FuelInletConcentrations[1]));\n",
    "    C_OneStep.AddBoundaryValue(\"Velocity_inlet_Cylinder\", VariableNames.MassFraction2, BoundaryValueFactory.Get_ConstantVal(C_OneStep.FuelInletConcentrations[2]));\n",
    "    C_OneStep.AddBoundaryValue(\"Velocity_inlet_Cylinder\", VariableNames.MassFraction3, BoundaryValueFactory.Get_ConstantVal(C_OneStep.FuelInletConcentrations[3]));\n",
    "\n",
    "\n",
    "    \n",
    "    C_OneStep.AddBoundaryValue(\"Velocity_inlet\", VariableNames.Temperature, BoundaryValueFactory.Get_ConstantVal(1.0));\n",
    "    C_OneStep.AddBoundaryValue(\"Velocity_inlet\", VariableNames.MassFraction0, BoundaryValueFactory.Get_ConstantVal(C_OneStep.OxidizerInletConcentrations[0]));\n",
    "    C_OneStep.AddBoundaryValue(\"Velocity_inlet\", VariableNames.MassFraction1, BoundaryValueFactory.Get_ConstantVal(C_OneStep.OxidizerInletConcentrations[1]));\n",
    "    C_OneStep.AddBoundaryValue(\"Velocity_inlet\", VariableNames.MassFraction2, BoundaryValueFactory.Get_ConstantVal(C_OneStep.OxidizerInletConcentrations[2]));\n",
    "    C_OneStep.AddBoundaryValue(\"Velocity_inlet\", VariableNames.MassFraction3, BoundaryValueFactory.Get_ConstantVal(C_OneStep.OxidizerInletConcentrations[3]));\n",
    "\n",
    "\n",
    "\n",
    "    return C_OneStep;\n",
    "}"
   ]
  },
  {
   "cell_type": "code",
   "execution_count": null,
   "metadata": {
    "dotnet_interactive": {
     "language": "csharp"
    },
    "vscode": {
     "languageId": "dotnet-interactive.csharp"
    }
   },
   "outputs": [],
   "source": [
    "Type solver = typeof(BoSSS.Application.XNSEC.XNSEC);"
   ]
  },
  {
   "cell_type": "code",
   "execution_count": null,
   "metadata": {
    "dotnet_interactive": {
     "language": "csharp"
    },
    "vscode": {
     "languageId": "dotnet-interactive.csharp"
    }
   },
   "outputs": [],
   "source": [
    "var sess = (myDb.Sessions.Where(s => s.Name == \"FS_CylinderFlameP\" + 3 + \"K\" + Resolutions[0])).FirstOrDefault();\n",
    "var C = GiveMeTheFullCtrlFile(DGdegree[0], Resolutions[0],Reynolds[0], sess);"
   ]
  },
  {
   "cell_type": "code",
   "execution_count": null,
   "metadata": {
    "dotnet_interactive": {
     "language": "csharp"
    },
    "vscode": {
     "languageId": "dotnet-interactive.csharp"
    }
   },
   "outputs": [],
   "source": [
    "C.zSt"
   ]
  },
  {
   "cell_type": "code",
   "execution_count": null,
   "metadata": {
    "dotnet_interactive": {
     "language": "csharp"
    },
    "vscode": {
     "languageId": "dotnet-interactive.csharp"
    }
   },
   "outputs": [],
   "source": [
    "foreach (int res in Resolutions) {\n",
    "    foreach (int dg in DGdegree) {\n",
    "            var sess = (myDb.Sessions.Where(s => s.Name == \"FS_CylinderFlameP\" + dgMF + \"K\" + res)).FirstOrDefault();\n",
    "            var C = GiveMeTheFullCtrlFile(dg, res,Reynolds[0], sess);\n",
    "            string jobName = C.SessionName;\n",
    "            Console.WriteLine(jobName);\n",
    "            var oneJob = new Job(jobName, solver);\n",
    "            oneJob.NumberOfMPIProcs = 24;\n",
    "            oneJob.SetControlObject(C);\n",
    "            oneJob.Activate(); \n",
    "        }\n",
    "    }\n"
   ]
  },
  {
   "cell_type": "code",
   "execution_count": null,
   "metadata": {
    "dotnet_interactive": {
     "language": "csharp"
    },
    "vscode": {
     "languageId": "dotnet-interactive.csharp"
    }
   },
   "outputs": [],
   "source": []
  },
  {
   "cell_type": "code",
   "execution_count": null,
   "metadata": {
    "dotnet_interactive": {
     "language": "csharp"
    },
    "vscode": {
     "languageId": "dotnet-interactive.csharp"
    }
   },
   "outputs": [],
   "source": [
    "var sess = (myDb.Sessions.Where(s => s.Name == \"FS_CylinderFlameP\" + 2 + \"K\" + Resolutions[0])).FirstOrDefault();"
   ]
  },
  {
   "cell_type": "code",
   "execution_count": null,
   "metadata": {
    "dotnet_interactive": {
     "language": "csharp"
    },
    "vscode": {
     "languageId": "dotnet-interactive.csharp"
    }
   },
   "outputs": [],
   "source": [
    "// myDb.Sessions[0].Export().Do()"
   ]
  },
  {
   "cell_type": "markdown",
   "metadata": {},
   "source": [
    "Calculate the full solution for the initial value"
   ]
  },
  {
   "cell_type": "code",
   "execution_count": null,
   "metadata": {
    "dotnet_interactive": {
     "language": "csharp"
    },
    "vscode": {
     "languageId": "dotnet-interactive.csharp"
    }
   },
   "outputs": [],
   "source": [
    "var sess = (myDb.Sessions.Where(s => s.Name == \"FS_CylinderFlameP\" + 2 + \"K\" + Resolutions[0])).FirstOrDefault();"
   ]
  },
  {
   "cell_type": "code",
   "execution_count": null,
   "metadata": {
    "dotnet_interactive": {
     "language": "csharp"
    },
    "vscode": {
     "languageId": "dotnet-interactive.csharp"
    }
   },
   "outputs": [],
   "source": [
    "// // wait for all jobs to finish (up to 2 days, check every 10 minutes)\n",
    "// BoSSSshell.WorkflowMgm.BlockUntilAllJobsTerminate(TimeOutSeconds:(3600*24*2), PollingIntervallSeconds:(60*10));"
   ]
  },
  {
   "cell_type": "code",
   "execution_count": null,
   "metadata": {
    "dotnet_interactive": {
     "language": "csharp"
    },
    "vscode": {
     "languageId": "dotnet-interactive.csharp"
    }
   },
   "outputs": [],
   "source": [
    "// // detect failed Jobs in the job management\n",
    "// var suspects = BoSSSshell.WorkflowMgm.AllJobs.Select(kv => kv.Value)\n",
    "//     .Where(job => job.LatestSession.Tags.Contains(SessionInfo.NOT_TERMINATED_TAG)\n",
    "//                   || job.LatestSession.Tags.Contains(SessionInfo.SOLVER_ERROR)).ToArray();\n",
    "// suspects"
   ]
  },
  {
   "cell_type": "code",
   "execution_count": null,
   "metadata": {
    "dotnet_interactive": {
     "language": "csharp"
    },
    "vscode": {
     "languageId": "dotnet-interactive.csharp"
    }
   },
   "outputs": [],
   "source": [
    "// NUnit.Framework.Assert.IsTrue(suspects.Count() <= 0, $\"{suspects.Count()} Failed Jobs of {BoSSSshell.WorkflowMgm.AllJobs.Count()} in total.\");"
   ]
  },
  {
   "cell_type": "code",
   "execution_count": null,
   "metadata": {
    "dotnet_interactive": {
     "language": "csharp"
    },
    "vscode": {
     "languageId": "dotnet-interactive.csharp"
    }
   },
   "outputs": [],
   "source": [
    "// // Delete all MF calculations\n",
    "// Console.WriteLine(\"Deleting mass fraction calculations\");\n",
    "// myDb.Sessions.Where(sess => sess.Name.Contains(\"FS\")).ForEach(sess=> sess.Delete(true))"
   ]
  },
  {
   "cell_type": "code",
   "execution_count": null,
   "metadata": {
    "dotnet_interactive": {
     "language": "csharp"
    },
    "vscode": {
     "languageId": "dotnet-interactive.csharp"
    }
   },
   "outputs": [],
   "source": []
  },
  {
   "cell_type": "code",
   "execution_count": null,
   "metadata": {
    "dotnet_interactive": {
     "language": "csharp"
    },
    "vscode": {
     "languageId": "dotnet-interactive.csharp"
    }
   },
   "outputs": [],
   "source": []
  }
 ],
 "metadata": {
  "interpreter": {
   "hash": "57baa5815c940fdaff4d14510622de9616cae602444507ba5d0b6727c008cbd6"
  },
  "kernelspec": {
   "display_name": ".NET (C#)",
   "language": "C#",
   "name": ".net-csharp"
  },
  "language_info": {
   "file_extension": ".cs",
   "mimetype": "text/x-csharp",
   "name": "C#",
   "pygments_lexer": "csharp",
   "version": "10.0"
  }
 },
 "nbformat": 4,
 "nbformat_minor": 4
}

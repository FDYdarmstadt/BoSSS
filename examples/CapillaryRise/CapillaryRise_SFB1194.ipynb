{
 "cells": [
  {
   "cell_type": "markdown",
   "metadata": {},
   "source": [
    "# Capillary Rise - benchmark test case (SFB 1194)"
   ]
  },
  {
   "cell_type": "markdown",
   "metadata": {},
   "source": [
    "Results are published in *A comparative study of transient capillary rise using direct numerical simulations* (https://linkinghub.elsevier.com/retrieve/pii/S0307904X20302134)"
   ]
  },
  {
   "cell_type": "code",
   "execution_count": null,
   "metadata": {
    "dotnet_interactive": {
     "language": "csharp"
    },
    "vscode": {
     "languageId": "dotnet-interactive.csharp"
    }
   },
   "outputs": [],
   "source": [
    "//#r \"BoSSSpad/BoSSSpad.dll\"\n",
    "#r \"../../src/L4-application/BoSSSpad/bin/Release/net6.0/BoSSSpad.dll\"\n",
    "using System;\n",
    "using System.Collections.Generic;\n",
    "using System.Linq;\n",
    "using ilPSP;\n",
    "using ilPSP.Utils;\n",
    "using BoSSS.Platform;\n",
    "using BoSSS.Foundation;\n",
    "using BoSSS.Foundation.XDG;\n",
    "using BoSSS.Foundation.Grid;\n",
    "using BoSSS.Foundation.Grid.Classic;\n",
    "using BoSSS.Foundation.IO;\n",
    "using BoSSS.Solution;\n",
    "using BoSSS.Solution.Control;\n",
    "using BoSSS.Solution.GridImport;\n",
    "using BoSSS.Solution.Statistic;\n",
    "using BoSSS.Solution.Utils;\n",
    "using BoSSS.Solution.AdvancedSolvers;\n",
    "using BoSSS.Solution.Gnuplot;\n",
    "using BoSSS.Solution.LevelSetTools;\n",
    "using BoSSS.Solution.LevelSetTools.SolverWithLevelSetUpdater;\n",
    "using BoSSS.Solution.NSECommon;\n",
    "using BoSSS.Solution.XNSECommon;\n",
    "using BoSSS.Solution.XdgTimestepping;\n",
    "using BoSSS.Application.BoSSSpad;\n",
    "using BoSSS.Application.XNSE_Solver;\n",
    "using static BoSSS.Application.BoSSSpad.BoSSSshell;\n",
    "Init();"
   ]
  },
  {
   "cell_type": "code",
   "execution_count": null,
   "metadata": {
    "dotnet_interactive": {
     "language": "csharp"
    },
    "vscode": {
     "languageId": "dotnet-interactive.csharp"
    }
   },
   "outputs": [
    {
     "data": {
      "text/html": [
       "<table><thead><tr><th>RuntimeLocation</th><th>DeploymentBaseDirectory</th><th>DeployRuntime</th><th>Name</th><th>DotnetRuntime</th><th>Username</th><th>ServerName</th><th>ComputeNodes</th><th>DefaultJobPriority</th><th>SingleNode</th><th>AllowedDatabasesPaths</th></tr></thead><tbody><tr><td><div class=\"dni-plaintext\">win\\amd64</div></td><td><div class=\"dni-plaintext\">\\\\hpccluster\\hpccluster-scratch\\smuda\\binaries</div></td><td><div class=\"dni-plaintext\">True</div></td><td><div class=\"dni-plaintext\">FDY-WindowsHPC</div></td><td><div class=\"dni-plaintext\">dotnet</div></td><td><div class=\"dni-plaintext\">FDY\\smuda</div></td><td><div class=\"dni-plaintext\">DC2</div></td><td><div class=\"dni-plaintext\">&lt;null&gt;</div></td><td><div class=\"dni-plaintext\">Normal</div></td><td><div class=\"dni-plaintext\">True</div></td><td><div class=\"dni-plaintext\">[ \\\\hpccluster\\hpccluster-scratch\\smuda\\ ]</div></td></tr></tbody></table>"
      ]
     },
     "metadata": {},
     "output_type": "display_data"
    }
   ],
   "source": [
    "var myBatch = ExecutionQueues[1];\n",
    "myBatch"
   ]
  },
  {
   "cell_type": "code",
   "execution_count": null,
   "metadata": {
    "dotnet_interactive": {
     "language": "csharp"
    },
    "vscode": {
     "languageId": "dotnet-interactive.csharp"
    }
   },
   "outputs": [
    {
     "name": "stdout",
     "output_type": "stream",
     "text": [
      "Project name is set to 'CapillaryRise'.\r\n",
      "Opening existing database '\\\\hpccluster\\hpccluster-scratch\\smuda\\CapillaryRise'.\r\n"
     ]
    }
   ],
   "source": [
    "BoSSSshell.WorkflowMgm.Init(\"CapillaryRise\", myBatch);"
   ]
  },
  {
   "cell_type": "code",
   "execution_count": null,
   "metadata": {
    "dotnet_interactive": {
     "language": "csharp"
    },
    "vscode": {
     "languageId": "dotnet-interactive.csharp"
    }
   },
   "outputs": [],
   "source": [
    "BoSSSshell.WorkflowMgm.SetNameBasedSessionJobControlCorrelation();"
   ]
  },
  {
   "cell_type": "markdown",
   "metadata": {},
   "source": [
    "## Test case setup (physical parameters)"
   ]
  },
  {
   "cell_type": "code",
   "execution_count": null,
   "metadata": {
    "dotnet_interactive": {
     "language": "csharp"
    },
    "vscode": {
     "languageId": "dotnet-interactive.csharp"
    }
   },
   "outputs": [],
   "source": [
    "bool startUp = true;"
   ]
  },
  {
   "cell_type": "code",
   "execution_count": null,
   "metadata": {
    "dotnet_interactive": {
     "language": "csharp"
    },
    "vscode": {
     "languageId": "dotnet-interactive.csharp"
    }
   },
   "outputs": [],
   "source": [
    "string omegaTc = \"Omega1\";     // {\"Omega0.1\", \"Omega0.5\", \"Omega1\", \"Omega10\", \"Omega100\"}"
   ]
  },
  {
   "cell_type": "code",
   "execution_count": null,
   "metadata": {
    "dotnet_interactive": {
     "language": "csharp"
    },
    "vscode": {
     "languageId": "dotnet-interactive.csharp"
    }
   },
   "outputs": [],
   "source": [
    "double R = 5.0e-3;      // in cm\n",
    "double H = 4.0e-2;\n",
    "\n",
    "double rhoA = 0.0;\n",
    "double muA = 0.01;\n",
    "double rhoB = 0.0;\n",
    "double muB = 0.01 / 1000;\n",
    "double sigma = 0.0;\n",
    "\n",
    "double Lslip = R / 5.0;\n",
    "double betaS_A = (muA / Lslip);\n",
    "double betaS_B = (muB / Lslip);\n",
    "\n",
    "double betaL = 0;\n",
    "double theta_e = 3.0 * Math.PI / 18.0;\n",
    "\n",
    "double g = 0.0;\n",
    "Formula GravityValue;\n",
    "\n",
    "double t_end = 0.0;\n",
    "double t_startUp = 0.0;\n",
    "\n",
    "double dt = 0.0;\n",
    "double dt_startUp = 0.0;\n",
    "\n",
    "Guid restartID = new Guid();\n",
    "int ts_restart = 0;"
   ]
  },
  {
   "cell_type": "code",
   "execution_count": null,
   "metadata": {
    "dotnet_interactive": {
     "language": "csharp"
    },
    "vscode": {
     "languageId": "dotnet-interactive.csharp"
    }
   },
   "outputs": [],
   "source": [
    "switch(omegaTc) {\n",
    "    case \"Omega0.1\": {\n",
    "\n",
    "            rhoA = 1663.8;\n",
    "            rhoB = 1663.8 / 1000;      \n",
    "            sigma = 0.2;       // kg / s^2\n",
    "\n",
    "            g = 1.04;         // cm / s^2\n",
    "            GravityValue = new Formula(\n",
    "                \"GravY\",\n",
    "                false,\n",
    "                \"double GravY(double[] X) { return -1.04; } \"\n",
    "            );\n",
    "\n",
    "            t_end = 13.86;\n",
    "            t_startUp = 0.0; \n",
    "\n",
    "            dt = 2e-5; \n",
    "            dt_startUp = 3e-5;\n",
    "\n",
    "            //restartID = new Guid(\"\");   // startUp session\n",
    "\n",
    "            break;\n",
    "        }\n",
    "    case \"Omega0.5\": {\n",
    "\n",
    "            rhoA = 133.0;\n",
    "            rhoB = 133.0 / 1000;      \n",
    "            sigma = 0.1;       // kg / s^2\n",
    "\n",
    "            g = 6.51;         // cm / s^2\n",
    "            GravityValue = new Formula(\n",
    "                \"GravY\",\n",
    "                false,\n",
    "                \"double GravY(double[] X) { return -6.51; } \"\n",
    "            );\n",
    "\n",
    "            t_end = 1.11;\n",
    "            t_startUp = 0.0;\n",
    "\n",
    "            dt = 2e-5;\n",
    "            dt_startUp = 4e-5;\n",
    "\n",
    "            //restartID = new Guid(\"\");   // startUp session\n",
    "\n",
    "            break;\n",
    "        }\n",
    "    case \"Omega1\": {\n",
    "\n",
    "            rhoA = 83.1;\n",
    "            rhoB = 83.1 / 1000;      \n",
    "            sigma = 0.04;       // kg / s^2\n",
    "\n",
    "            g = 4.17;         // cm / s^2\n",
    "            GravityValue = new Formula(\n",
    "                \"GravY\",\n",
    "                false,\n",
    "                \"double GravY(double[] X) { return -4.17; } \"\n",
    "            );\n",
    "\n",
    "            t_end = 0.7;\n",
    "            t_startUp = 0.0;\n",
    "\n",
    "            dt = 1e-5;\n",
    "            dt_startUp = 5e-4;\n",
    "\n",
    "            //restartID = new Guid(\"\");   // startUp session\n",
    "\n",
    "            break;\n",
    "        }\n",
    "    case \"Omega10\": {\n",
    "\n",
    "            rhoA = 3.3255;\n",
    "            rhoB = 3.3255 / 1000;      \n",
    "            sigma = 0.01;       // kg / s^2\n",
    "\n",
    "            g = 26.042;         // cm / s^2\n",
    "            GravityValue = new Formula(\n",
    "                \"GravY\",\n",
    "                false,\n",
    "                \"double GravY(double[] X) { return -26.042; } \"\n",
    "            );\n",
    "\n",
    "            t_end = 2.7713;\n",
    "            t_startUp = 0.0;\n",
    "\n",
    "            dt = 4e-4;\n",
    "            dt_startUp = 1e-5;\n",
    "\n",
    "            //restartID = new Guid(\"\");   // startUp session\n",
    "\n",
    "            break;\n",
    "        }\n",
    "    case \"Omega100\": {\n",
    "\n",
    "            rhoA = 0.33255;\n",
    "            rhoB = 0.33255 / 1000;      \n",
    "            sigma = 0.001;       // kg / s^2\n",
    "\n",
    "            g = 26.042;         // cm / s^2\n",
    "            GravityValue = new Formula(\n",
    "                \"GravY\",\n",
    "                false,\n",
    "                \"double GravY(double[] X) { return -26.042; } \"\n",
    "            );\n",
    "\n",
    "            t_end = 27.713;\n",
    "            t_startUp = 0.0;\n",
    "\n",
    "            dt = 1e-3;\n",
    "            dt_startUp = 1e-3;\n",
    "\n",
    "            //restartID = new Guid(\"\");   // startUp session\n",
    "\n",
    "            break;\n",
    "        }\n",
    "} "
   ]
  },
  {
   "cell_type": "markdown",
   "metadata": {},
   "source": [
    "## Grid creation"
   ]
  },
  {
   "cell_type": "code",
   "execution_count": null,
   "metadata": {
    "dotnet_interactive": {
     "language": "csharp"
    },
    "vscode": {
     "languageId": "dotnet-interactive.csharp"
    }
   },
   "outputs": [
    {
     "name": "stdout",
     "output_type": "stream",
     "text": [
      "Opening existing database 'D:\\local\\CapillaryRise'.\r\n",
      "Grid already found in database - identifid by name CapillaryRise_4x32_halfTube\r\n"
     ]
    }
   ],
   "source": [
    "int[] Resolutions = new int[] { 4 };    // cells per radius R { 1, 2, 4, 8, 16 };\n",
    "IGridInfo[] Grids = new IGridInfo[Resolutions.Length];\n",
    "\n",
    "bool useSymmetry = true;\n",
    "\n",
    "for(int i = 0; i < Resolutions.Length; i++) {\n",
    "    int Res = Resolutions[i];\n",
    "\n",
    "    string GridName;\n",
    "    if(useSymmetry)\n",
    "        GridName = $\"CapillaryRise_{Res}x{8*Res}_halfTube\";\n",
    "    else\n",
    "        GridName = $\"CapillaryRise_{Res}x{8*Res}_fullTube\";\n",
    "\n",
    "    IGridInfo cachedGrid = BoSSSshell.WorkflowMgm.Grids.FirstOrDefault(grid => grid.Name == GridName);\n",
    "    // cachedGrid = null;\n",
    "    if(cachedGrid == null) {\n",
    "        \n",
    "        // must create new Grid\n",
    "        double[] Xnodes;\n",
    "        if(useSymmetry)\n",
    "            Xnodes = GenericBlas.Linspace(0, R, Res + 1);\n",
    "        else\n",
    "            Xnodes = GenericBlas.Linspace(-R, R, (2 * Res) + 1);\n",
    "        double[] Ynodes = GenericBlas.Linspace(0, H, 8 * Res + 1);\n",
    "        var grd = Grid2D.Cartesian2DGrid(Xnodes, Ynodes);\n",
    "    \n",
    "        grd.EdgeTagNames.Add(1, \"wall_lower\");\n",
    "        grd.EdgeTagNames.Add(2, \"pressure_outlet_upper\");\n",
    "\n",
    "        if(useSymmetry)\n",
    "            grd.EdgeTagNames.Add(3, \"slipsymmetry_left\");\n",
    "        else\n",
    "            grd.EdgeTagNames.Add(3, \"navierslip_linear_left\");\n",
    "\n",
    "        grd.EdgeTagNames.Add(4, \"navierslip_linear_right\");\n",
    "\n",
    "        grd.DefineEdgeTags(delegate (double[] X) {\n",
    "            byte et = 0;\n",
    "            if(Math.Abs(X[1]) <= 1.0e-8)\n",
    "                et = 1;\n",
    "            if(Math.Abs(X[1] - H) <= 1.0e-8)\n",
    "                et = 2;\n",
    "            if(useSymmetry) {\n",
    "                if(Math.Abs(X[0]) <= 1.0e-8)\n",
    "                    et = 3;\n",
    "            } else {\n",
    "                if(Math.Abs(X[0] + R) <= 1.0e-8)\n",
    "                    et = 3;\n",
    "            }\n",
    "            if(Math.Abs(X[0] - R) <= 1.0e-8)\n",
    "                et = 4;\n",
    "\n",
    "            return et;\n",
    "        });     \n",
    "        \n",
    "        grd.Name = GridName;\n",
    "        \n",
    "        Grids[i] = BoSSSshell.WorkflowMgm.SaveGrid(grd);\n",
    "        //Grids[i] = grd;\n",
    "        \n",
    "    } else {\n",
    "        //Console.WriteLine($\"type: {cachedGrid.GetType()}, is IGridInfo? {cachedGrid is IGridInfo}\");\n",
    "        Console.WriteLine(\"Grid already found in database - identifid by name \" + GridName);\n",
    "        Grids[i] = cachedGrid;\n",
    "    }\n",
    "    \n",
    "}"
   ]
  },
  {
   "cell_type": "markdown",
   "metadata": {},
   "source": [
    "## Control settings"
   ]
  },
  {
   "cell_type": "code",
   "execution_count": null,
   "metadata": {
    "dotnet_interactive": {
     "language": "csharp"
    },
    "vscode": {
     "languageId": "dotnet-interactive.csharp"
    }
   },
   "outputs": [],
   "source": [
    "List<XNSE_Control> Controls = new List<XNSE_Control>();\n",
    "Controls.Clear();"
   ]
  },
  {
   "cell_type": "code",
   "execution_count": null,
   "metadata": {
    "dotnet_interactive": {
     "language": "csharp"
    },
    "vscode": {
     "languageId": "dotnet-interactive.csharp"
    }
   },
   "outputs": [],
   "source": [
    "for(int gIdx = 0; gIdx < Resolutions.Length; gIdx++) { \n",
    "\n",
    "var C = new XNSE_Control();\n",
    "\n",
    "int k = 2;\n",
    "C.SetDGdegree(k);\n",
    "\n",
    "\n",
    "// physical parameters\n",
    "// ===================\n",
    "C.PhysicalParameters.rho_A = rhoA;\n",
    "C.PhysicalParameters.mu_A = muA;\n",
    "C.PhysicalParameters.rho_B = rhoB;\n",
    "C.PhysicalParameters.mu_B = muB;\n",
    "\n",
    "C.PhysicalParameters.Sigma = sigma;\n",
    "\n",
    "C.PhysicalParameters.betaS_A = betaS_A;\n",
    "C.PhysicalParameters.betaS_B = betaS_B;\n",
    "\n",
    "C.PhysicalParameters.betaL = betaL;\n",
    "C.PhysicalParameters.theta_e = theta_e;\n",
    "\n",
    "C.PhysicalParameters.IncludeConvection = !startUp;\n",
    "C.PhysicalParameters.Material = true;\n",
    "\n",
    "    \n",
    "// startUp?\n",
    "// ========\n",
    "if (startUp) {\n",
    "    // set grid\n",
    "    C.SetGrid(Grids[gIdx]);\n",
    "    \n",
    "    // initial conditions\n",
    "    //double h0 = 1e-2;\n",
    "    //Func<double[], double> PhiFunc = (X => X[1] - h0);\n",
    "    Formula PhiFunc = new Formula(\n",
    "        \"Phi\",\n",
    "        false,\n",
    "        \"double Phi(double[] X) { return X[1] - 1e-2; } \"\n",
    "    );\n",
    "    C.AddInitialValue(\"Phi\", PhiFunc);\n",
    "\n",
    "    //Func<double[], double> GravFunc = (X => -g);\n",
    "    C.AddInitialValue(\"GravityY#A\", GravityValue);\n",
    "    C.AddInitialValue(\"GravityY#B\", GravityValue);\n",
    "\n",
    "} else {\n",
    "\n",
    "    if(ts_restart > 0)\n",
    "        C.RestartInfo = new Tuple<Guid, BoSSS.Foundation.IO.TimestepNumber>(restartID, ts_restart);\n",
    "    else\n",
    "        C.RestartInfo = new Tuple<Guid, BoSSS.Foundation.IO.TimestepNumber>(restartID, null);\n",
    "\n",
    "}\n",
    "\n",
    "// boundary conditions\n",
    "// ===================\n",
    "if(startUp) {\n",
    "    C.AddBoundaryValue(\"wall_lower\");\n",
    "} else {\n",
    "    C.AddBoundaryValue(\"wall_lower\");\n",
    "    C.ChangeBoundaryCondition(\"wall_lower\", \"pressure_outlet_lower\");\n",
    "    //C.AddBoundaryValue(\"pressure_outlet_lower\");\n",
    "}\n",
    "C.AddBoundaryValue(\"pressure_outlet_upper\");\n",
    "\n",
    "if(useSymmetry)\n",
    "    C.AddBoundaryValue(\"slipsymmetry_left\");\n",
    "else\n",
    "    C.AddBoundaryValue(\"navierslip_linear_left\");\n",
    "\n",
    "C.AddBoundaryValue(\"navierslip_linear_right\");\n",
    "\n",
    "C.AdvancedDiscretizationOptions.GNBC_Localization = NavierSlip_Localization.Bulk;\n",
    "C.AdvancedDiscretizationOptions.GNBC_SlipLength = NavierSlip_SlipLength.Prescribed_SlipLength;\n",
    "C.PhysicalParameters.sliplength = Lslip;\n",
    "\n",
    "\n",
    "// misc. solver options\n",
    "// ====================\n",
    "C.LSContiProjectionMethod = ContinuityProjectionOption.ConstrainedDG;\n",
    "\n",
    "C.NonLinearSolver.SolverCode = NonLinearSolverCode.Picard;\n",
    "C.NonLinearSolver.ConvergenceCriterion = 1e-8;\n",
    "C.NonLinearSolver.MaxSolverIterations = 20;\n",
    "C.LevelSet_ConvergenceCriterion = 1e-6;\n",
    "\n",
    "C.AdvancedDiscretizationOptions.FilterConfiguration = CurvatureAlgorithms.FilterConfiguration.Default;\n",
    "C.AdvancedDiscretizationOptions.SurfStressTensor = SurfaceSressTensor.Isotropic;\n",
    "C.AdvancedDiscretizationOptions.SST_isotropicMode = SurfaceStressTensor_IsotropicMode.LaplaceBeltrami_ContactLine;\n",
    "\n",
    "\n",
    "C.AdaptiveMeshRefinement = true;\n",
    "int AMRlevel = 1;\n",
    "C.activeAMRlevelIndicators.Add(new AMRonNarrowband() { maxRefinementLevel = AMRlevel });\n",
    "C.activeAMRlevelIndicators.Add(new AMRLevelIndicatorLibrary.AMRonBoundary(new byte[] { 4 }) { maxRefinementLevel = AMRlevel });\n",
    "if(!useSymmetry)\n",
    "    C.activeAMRlevelIndicators.Add(new AMRLevelIndicatorLibrary.AMRonBoundary(new byte[] { 3 }) { maxRefinementLevel = AMRlevel });\n",
    "C.AMR_startUpSweeps = AMRlevel;\n",
    "\n",
    "\n",
    "// level-set\n",
    "// =========\n",
    "C.Option_LevelSetEvolution = LevelSetEvolution.FastMarching;\n",
    "\n",
    "\n",
    "// Timestepping\n",
    "// ============\n",
    "C.TimeSteppingScheme = TimeSteppingScheme.ImplicitEuler;\n",
    "C.Timestepper_LevelSetHandling = LevelSetHandling.Coupled_Once;\n",
    "\n",
    "C.TimesteppingMode = AppControl._TimesteppingMode.Transient;\n",
    "C.dtFixed = (startUp) ? dt_startUp : dt;\n",
    "C.Endtime = (startUp) ? Math.Max(Math.Sqrt(2 * R / g), 2 * R * muA / sigma) * 4.0 : (t_startUp + t_end);\n",
    "C.NoOfTimesteps = (int)(C.Endtime / C.dtMin);\n",
    "C.saveperiod = 100;\n",
    "\n",
    "        \n",
    "    \n",
    "C.PostprocessingModules.Add(new BoSSS.Application.XNSE_Solver.PhysicalBasedTestcases.MovingContactLineLogging() { LogPeriod = 100 });\n",
    "    \n",
    "double Res = Resolutions[gIdx];\n",
    "if (startUp) \n",
    "    C.SessionName = $\"CapillaryRise_{omegaTc}_{Res}x{8*Res}AMR{AMRlevel}_startUp\";\n",
    "else\n",
    "    C.SessionName = $\"CapillaryRise_{omegaTc}_{Res}x{8*Res}AMR{AMRlevel}\";\n",
    "    \n",
    "    \n",
    "Controls.Add(C);\n",
    "\n",
    "}"
   ]
  },
  {
   "cell_type": "markdown",
   "metadata": {},
   "source": [
    "## Launch job"
   ]
  },
  {
   "cell_type": "code",
   "execution_count": null,
   "metadata": {
    "dotnet_interactive": {
     "language": "csharp"
    },
    "vscode": {
     "languageId": "dotnet-interactive.csharp"
    }
   },
   "outputs": [
    {
     "data": {
      "text/html": [
       "<table><thead><tr><th><i>index</i></th><th>value</th></tr></thead><tbody><tr><td>0</td><td>CapillaryRise_Omega1_4x32AMR1_startUp</td></tr></tbody></table>"
      ]
     },
     "metadata": {},
     "output_type": "display_data"
    }
   ],
   "source": [
    "Controls.Select(C => C.SessionName)"
   ]
  },
  {
   "cell_type": "code",
   "execution_count": null,
   "metadata": {
    "dotnet_interactive": {
     "language": "csharp"
    },
    "vscode": {
     "languageId": "dotnet-interactive.csharp"
    }
   },
   "outputs": [
    {
     "name": "stdout",
     "output_type": "stream",
     "text": [
      "Deploying job CapillaryRise_Omega1_4x32AMR1_startUp ... \r\n",
      "Deploying executables and additional files ...\r\n",
      "Deployment directory: \\\\hpccluster\\hpccluster-scratch\\smuda\\binaries\\CapillaryRise-XNSE_Solver2024Feb13_104158.036680\r\n",
      "copied 42 files.\r\n",
      "   written file: control.obj\r\n",
      "   copied 'win\\amd64' runtime.\r\n",
      "deployment finished.\r\n",
      "\r\n"
     ]
    }
   ],
   "source": [
    "foreach(var ctrl in Controls) {\n",
    "    var oneJob              = ctrl.CreateJob();\n",
    "    oneJob.NumberOfMPIProcs = 1;\n",
    "    oneJob.Activate(myBatch); \n",
    "}"
   ]
  },
  {
   "cell_type": "code",
   "execution_count": null,
   "metadata": {
    "dotnet_interactive": {
     "language": "csharp"
    },
    "vscode": {
     "languageId": "dotnet-interactive.csharp"
    }
   },
   "outputs": [
    {
     "name": "stdout",
     "output_type": "stream",
     "text": [
      "Deploying job CapillaryRise_Omega=1_4x32AMR1_startUp ... \r\n",
      "Deploying executables and additional files ...\r\n",
      "Deployment directory: \\\\hpccluster\\hpccluster-scratch\\smuda\\binaries\\CapillaryRise-XNSE_Solver2024Feb09_092723.705523\r\n",
      "copied 42 files.\r\n",
      "   written file: control.obj\r\n",
      "   copied 'win\\amd64' runtime.\r\n",
      "deployment finished.\r\n"
     ]
    },
    {
     "ename": "Error",
     "evalue": "System.IO.IOException: Job is assigned to batch processor, but no deployment directory can be found.\r\n   at BoSSS.Application.BoSSSpad.MetaJobMgrIO.RetryIOop(Func`2 op, String Message, Boolean SurpressException) in D:\\BoSSS-experimental\\public\\src\\L4-application\\BoSSSpad\\BatchProcessorClient.cs:line 454\r\n   at BoSSS.Application.BoSSSpad.Job.<DeployExecuteables>g__TestWR|95_0() in D:\\BoSSS-experimental\\public\\src\\L4-application\\BoSSSpad\\Job.cs:line 1770\r\n   at BoSSS.Application.BoSSSpad.Job.DeployExecuteables() in D:\\BoSSS-experimental\\public\\src\\L4-application\\BoSSSpad\\Job.cs:line 1868\r\n   at BoSSS.Application.BoSSSpad.Job.Reactivate() in D:\\BoSSS-experimental\\public\\src\\L4-application\\BoSSSpad\\Job.cs:line 1487\r\n   at BoSSS.Application.BoSSSpad.Job.Activate(BatchProcessorClient bpc) in D:\\BoSSS-experimental\\public\\src\\L4-application\\BoSSSpad\\Job.cs:line 1446\r\n   at Submission#13.<<Initialize>>d__0.MoveNext()\r\n--- End of stack trace from previous location ---\r\n   at Microsoft.CodeAnalysis.Scripting.ScriptExecutionState.RunSubmissionsAsync[TResult](ImmutableArray`1 precedingExecutors, Func`2 currentExecutor, StrongBox`1 exceptionHolderOpt, Func`2 catchExceptionOpt, CancellationToken cancellationToken)",
     "output_type": "error",
     "traceback": [
      "System.IO.IOException: Job is assigned to batch processor, but no deployment directory can be found.\r\n",
      "   at BoSSS.Application.BoSSSpad.MetaJobMgrIO.RetryIOop(Func`2 op, String Message, Boolean SurpressException) in D:\\BoSSS-experimental\\public\\src\\L4-application\\BoSSSpad\\BatchProcessorClient.cs:line 454\r\n",
      "   at BoSSS.Application.BoSSSpad.Job.<DeployExecuteables>g__TestWR|95_0() in D:\\BoSSS-experimental\\public\\src\\L4-application\\BoSSSpad\\Job.cs:line 1770\r\n",
      "   at BoSSS.Application.BoSSSpad.Job.DeployExecuteables() in D:\\BoSSS-experimental\\public\\src\\L4-application\\BoSSSpad\\Job.cs:line 1868\r\n",
      "   at BoSSS.Application.BoSSSpad.Job.Reactivate() in D:\\BoSSS-experimental\\public\\src\\L4-application\\BoSSSpad\\Job.cs:line 1487\r\n",
      "   at BoSSS.Application.BoSSSpad.Job.Activate(BatchProcessorClient bpc) in D:\\BoSSS-experimental\\public\\src\\L4-application\\BoSSSpad\\Job.cs:line 1446\r\n",
      "   at Submission#13.<<Initialize>>d__0.MoveNext()\r\n",
      "--- End of stack trace from previous location ---\r\n",
      "   at Microsoft.CodeAnalysis.Scripting.ScriptExecutionState.RunSubmissionsAsync[TResult](ImmutableArray`1 precedingExecutors, Func`2 currentExecutor, StrongBox`1 exceptionHolderOpt, Func`2 catchExceptionOpt, CancellationToken cancellationToken)"
     ]
    }
   ],
   "source": [
    "// var testJob              = Controls.Pick(0).CreateJob();\n",
    "// testJob.NumberOfMPIProcs = 1;\n",
    "// testJob.Activate(myBatch); "
   ]
  },
  {
   "cell_type": "code",
   "execution_count": null,
   "metadata": {
    "dotnet_interactive": {
     "language": "csharp"
    },
    "vscode": {
     "languageId": "dotnet-interactive.csharp"
    }
   },
   "outputs": [
    {
     "data": {
      "text/html": [
       "<div class=\"dni-plaintext\">&lt;null&gt;</div>"
      ]
     },
     "metadata": {},
     "output_type": "display_data"
    }
   ],
   "source": [
    "// testJob.LatestDeployment"
   ]
  },
  {
   "cell_type": "code",
   "execution_count": null,
   "metadata": {
    "dotnet_interactive": {
     "language": "csharp"
    },
    "vscode": {
     "languageId": "dotnet-interactive.csharp"
    }
   },
   "outputs": [
    {
     "data": {
      "text/plain": []
     },
     "metadata": {},
     "output_type": "display_data"
    }
   ],
   "source": [
    "BoSSSshell.WorkflowMgm.Sessions"
   ]
  }
 ],
 "metadata": {
  "kernelspec": {
   "display_name": ".NET (C#)",
   "language": "C#",
   "name": ".net-csharp"
  },
  "language_info": {
   "file_extension": ".cs",
   "mimetype": "text/x-csharp",
   "name": "C#",
   "pygments_lexer": "csharp",
   "version": "9.0"
  },
  "orig_nbformat": 4
 },
 "nbformat": 4,
 "nbformat_minor": 2
}

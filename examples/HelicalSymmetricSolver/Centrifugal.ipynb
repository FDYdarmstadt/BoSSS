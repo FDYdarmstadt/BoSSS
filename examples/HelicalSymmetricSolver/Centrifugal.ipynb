{
 "cells": [
  {
   "cell_type": "markdown",
   "metadata": {},
   "source": [
    "Voreinstellung"
   ]
  },
  {
   "cell_type": "code",
   "execution_count": 1,
   "metadata": {
    "dotnet_interactive": {
     "language": "csharp"
    },
    "vscode": {
     "languageId": "polyglot-notebook"
    }
   },
   "outputs": [],
   "source": [
    "#r \"BoSSSpad.dll\"\n",
    "using System;\n",
    "using BoSSS.Foundation;\n",
    "using BoSSS.Application.BoSSSpad;\n",
    "using BoSSS.Solution;\n",
    "using BoSSS.Solution.Tecplot;\n",
    "using BoSSS.Foundation.IO;\n",
    "using ilPSP.Tracing;\n",
    "using BoSSS.Solution.Utils;\n",
    "using ilPSP.LinSolvers;\n",
    "using BoSSS.Solution.NSECommon;\n",
    "using ilPSP.Connectors.Matlab;\n",
    "using ilPSP;\n",
    "using BoSSS.Foundation.Grid.Classic;\n",
    "using ilPSP.Utils;\n",
    "using BoSSS.Foundation.Grid.RefElements;\n",
    "using System.Collections.Generic;\n",
    "using BoSSS.Foundation.Grid;\n",
    "using BoSSS.Foundation.XDG;\n",
    "using BoSSS.Solution.XdgTimestepping;\n",
    "using BoSSS.Solution.AdvancedSolvers;\n",
    "using System.Linq;\n",
    "using BoSSS.Foundation.Grid.Aggregation;\n",
    "using BoSSS.Platform;\n",
    "using MPI.Wrappers;\n",
    "using System.Diagnostics;\n",
    "using System.IO;\n",
    "using System.Collections;\n",
    "using BoSSS.Foundation.Quadrature;\n",
    "using BoSSS.Solution.Statistic;\n",
    "using BoSSS.Solution.Gnuplot;\n",
    "using static BoSSS.Application.BoSSSpad.BoSSSshell;\n",
    "using BoSSS.Solution.Control;\n",
    "using BoSSS.Solution.GridImport;\n",
    "Init();\n"
   ]
  },
  {
   "cell_type": "code",
   "execution_count": 2,
   "metadata": {
    "dotnet_interactive": {
     "language": "csharp"
    },
    "polyglot_notebook": {
     "kernelName": "csharp"
    },
    "vscode": {
     "languageId": "polyglot-notebook"
    }
   },
   "outputs": [],
   "source": [
    "#r \"StokesHelical_Ak.dll\""
   ]
  },
  {
   "cell_type": "code",
   "execution_count": 3,
   "metadata": {
    "dotnet_interactive": {
     "language": "csharp"
    },
    "polyglot_notebook": {
     "kernelName": "csharp"
    },
    "vscode": {
     "languageId": "polyglot-notebook"
    }
   },
   "outputs": [],
   "source": [
    "using StokesHelical_Ak;"
   ]
  },
  {
   "cell_type": "markdown",
   "metadata": {},
   "source": [
    "Voreinstellungen"
   ]
  },
  {
   "cell_type": "code",
   "execution_count": 4,
   "metadata": {
    "dotnet_interactive": {
     "language": "csharp"
    },
    "polyglot_notebook": {
     "kernelName": "csharp"
    },
    "vscode": {
     "languageId": "polyglot-notebook"
    }
   },
   "outputs": [],
   "source": [
    "string proj = \"Helical_Centrifugal\";"
   ]
  },
  {
   "cell_type": "code",
   "execution_count": 5,
   "metadata": {
    "dotnet_interactive": {
     "language": "csharp"
    },
    "polyglot_notebook": {
     "kernelName": "csharp"
    },
    "vscode": {
     "languageId": "polyglot-notebook"
    }
   },
   "outputs": [
    {
     "name": "stdout",
     "output_type": "stream",
     "text": [
      "Project name is set to 'Helical_Centrifugal'.\n",
      "Default Execution queue is chosen for the database.\n",
      "Creating database '\\\\wsl.localhost\\Ubuntu-22.04\\home\\akbari\\lichtb-scratch\\database\\Helical_Centrifugal'.\n"
     ]
    }
   ],
   "source": [
    "BoSSSshell.WorkflowMgm.Init(proj);"
   ]
  },
  {
   "cell_type": "code",
   "execution_count": 6,
   "metadata": {
    "dotnet_interactive": {
     "language": "csharp"
    },
    "polyglot_notebook": {
     "kernelName": "csharp"
    },
    "vscode": {
     "languageId": "polyglot-notebook"
    }
   },
   "outputs": [],
   "source": [
    "BoSSSshell.WorkflowMgm.SetNameBasedSessionJobControlCorrelation();"
   ]
  },
  {
   "cell_type": "code",
   "execution_count": 7,
   "metadata": {
    "dotnet_interactive": {
     "language": "csharp"
    },
    "polyglot_notebook": {
     "kernelName": "csharp"
    },
    "vscode": {
     "languageId": "polyglot-notebook"
    }
   },
   "outputs": [
    {
     "data": {
      "text/html": [
       "<details open=\"open\" class=\"dni-treeview\"><summary><span class=\"dni-code-hint\"><code>SlurmClient Lb2 : sa90saxi@lcluster16.hrz.tu-darmstadt.de, Slurm account: special00006</code></span></summary><div><table><thead><tr></tr></thead><tbody><tr><td>Username</td><td>sa90saxi</td></tr><tr><td>Password</td><td><div class=\"dni-plaintext\"><pre>&lt;null&gt;</pre></div></td></tr><tr><td>ServerName</td><td>lcluster16.hrz.tu-darmstadt.de</td></tr><tr><td>SshClientExeToUse</td><td><div class=\"dni-plaintext\"><pre>&lt;null&gt;</pre></div></td></tr><tr><td>PrivateKeyFilePath</td><td>P:\\.ssh\\id_ed25519</td></tr><tr><td>AdditionalBatchCommands</td><td>[ #SBATCH -C avx512, #SBATCH --mem-per-cpu=3000 ]</td></tr><tr><td>ExecutionTime</td><td>23:59:59</td></tr><tr><td>DeploymentBaseDirectoryAtRemote</td><td>/work/scratch/sa90saxi/deploy</td></tr><tr><td>RuntimeLocation</td><td>linux/amd64-openmpi</td></tr><tr><td>SlurmAccount</td><td>special00006</td></tr><tr><td>Email</td><td>akbari@fdy.tu-darmstadt.de</td></tr><tr><td>DeploymentBaseDirectory</td><td>\\\\wsl.localhost\\Ubuntu-22.04\\home\\akbari\\lichtb-scratch\\deploy</td></tr><tr><td>DeployRuntime</td><td>True</td></tr><tr><td>Name</td><td>Lb2</td></tr><tr><td>DotnetRuntime</td><td>dotnet</td></tr><tr><td>AllowedDatabasesPaths</td><td>[ \\\\wsl.localhost\\Ubuntu-22.04\\home\\akbari\\lichtb-scratch\\database == /work/scratch/sa90saxi/database ]</td></tr></tbody></table></div></details><style>\r\n",
       ".dni-code-hint {\r\n",
       "    font-style: italic;\r\n",
       "    overflow: hidden;\r\n",
       "    white-space: nowrap;\r\n",
       "}\r\n",
       ".dni-treeview {\r\n",
       "    white-space: nowrap;\r\n",
       "}\r\n",
       ".dni-treeview td {\r\n",
       "    vertical-align: top;\r\n",
       "    text-align: start;\r\n",
       "}\r\n",
       "details.dni-treeview {\r\n",
       "    padding-left: 1em;\r\n",
       "}\r\n",
       "table td {\r\n",
       "    text-align: start;\r\n",
       "}\r\n",
       "table tr { \r\n",
       "    vertical-align: top; \r\n",
       "    margin: 0em 0px;\r\n",
       "}\r\n",
       "table tr td pre \r\n",
       "{ \r\n",
       "    vertical-align: top !important; \r\n",
       "    margin: 0em 0px !important;\r\n",
       "} \r\n",
       "table th {\r\n",
       "    text-align: start;\r\n",
       "}\r\n",
       "</style>"
      ]
     },
     "metadata": {},
     "output_type": "display_data"
    }
   ],
   "source": [
    "GetDefaultQueue()"
   ]
  },
  {
   "cell_type": "code",
   "execution_count": 8,
   "metadata": {
    "dotnet_interactive": {
     "language": "csharp"
    },
    "polyglot_notebook": {
     "kernelName": "csharp"
    },
    "vscode": {
     "languageId": "polyglot-notebook"
    }
   },
   "outputs": [],
   "source": [
    "//ExecutionQueues"
   ]
  },
  {
   "cell_type": "code",
   "execution_count": 9,
   "metadata": {
    "dotnet_interactive": {
     "language": "csharp"
    },
    "polyglot_notebook": {
     "kernelName": "csharp"
    },
    "vscode": {
     "languageId": "polyglot-notebook"
    }
   },
   "outputs": [
    {
     "data": {
      "text/html": [
       "<details open=\"open\" class=\"dni-treeview\"><summary><span class=\"dni-code-hint\"><code>SlurmClient Lb2 : sa90saxi@lcluster16.hrz.tu-darmstadt.de, Slurm account: special00006</code></span></summary><div><table><thead><tr></tr></thead><tbody><tr><td>Username</td><td>sa90saxi</td></tr><tr><td>Password</td><td><div class=\"dni-plaintext\"><pre>&lt;null&gt;</pre></div></td></tr><tr><td>ServerName</td><td>lcluster16.hrz.tu-darmstadt.de</td></tr><tr><td>SshClientExeToUse</td><td><div class=\"dni-plaintext\"><pre>&lt;null&gt;</pre></div></td></tr><tr><td>PrivateKeyFilePath</td><td>P:\\.ssh\\id_ed25519</td></tr><tr><td>AdditionalBatchCommands</td><td>[ #SBATCH -C avx512, #SBATCH --mem-per-cpu=3000 ]</td></tr><tr><td>ExecutionTime</td><td>23:59:59</td></tr><tr><td>DeploymentBaseDirectoryAtRemote</td><td>/work/scratch/sa90saxi/deploy</td></tr><tr><td>RuntimeLocation</td><td>linux/amd64-openmpi</td></tr><tr><td>SlurmAccount</td><td>special00006</td></tr><tr><td>Email</td><td>akbari@fdy.tu-darmstadt.de</td></tr><tr><td>DeploymentBaseDirectory</td><td>\\\\wsl.localhost\\Ubuntu-22.04\\home\\akbari\\lichtb-scratch\\deploy</td></tr><tr><td>DeployRuntime</td><td>True</td></tr><tr><td>Name</td><td>Lb2</td></tr><tr><td>DotnetRuntime</td><td>dotnet</td></tr><tr><td>AllowedDatabasesPaths</td><td>[ \\\\wsl.localhost\\Ubuntu-22.04\\home\\akbari\\lichtb-scratch\\database == /work/scratch/sa90saxi/database ]</td></tr></tbody></table></div></details><style>\r\n",
       ".dni-code-hint {\r\n",
       "    font-style: italic;\r\n",
       "    overflow: hidden;\r\n",
       "    white-space: nowrap;\r\n",
       "}\r\n",
       ".dni-treeview {\r\n",
       "    white-space: nowrap;\r\n",
       "}\r\n",
       ".dni-treeview td {\r\n",
       "    vertical-align: top;\r\n",
       "    text-align: start;\r\n",
       "}\r\n",
       "details.dni-treeview {\r\n",
       "    padding-left: 1em;\r\n",
       "}\r\n",
       "table td {\r\n",
       "    text-align: start;\r\n",
       "}\r\n",
       "table tr { \r\n",
       "    vertical-align: top; \r\n",
       "    margin: 0em 0px;\r\n",
       "}\r\n",
       "table tr td pre \r\n",
       "{ \r\n",
       "    vertical-align: top !important; \r\n",
       "    margin: 0em 0px !important;\r\n",
       "} \r\n",
       "table th {\r\n",
       "    text-align: start;\r\n",
       "}\r\n",
       "</style>"
      ]
     },
     "metadata": {},
     "output_type": "display_data"
    }
   ],
   "source": [
    "var myBatch = GetDefaultQueue();// ExecutionQueues[1];\n",
    "myBatch"
   ]
  },
  {
   "cell_type": "markdown",
   "metadata": {},
   "source": [
    "Projekt Name"
   ]
  },
  {
   "cell_type": "code",
   "execution_count": 10,
   "metadata": {
    "dotnet_interactive": {
     "language": "csharp"
    },
    "polyglot_notebook": {
     "kernelName": "csharp"
    },
    "vscode": {
     "languageId": "polyglot-notebook"
    }
   },
   "outputs": [],
   "source": [
    "var myDb = BoSSSshell.WorkflowMgm.DefaultDatabase;"
   ]
  },
  {
   "cell_type": "markdown",
   "metadata": {},
   "source": [
    "## Creation of control files"
   ]
  },
  {
   "cell_type": "code",
   "execution_count": 11,
   "metadata": {
    "dotnet_interactive": {
     "language": "csharp"
    },
    "vscode": {
     "languageId": "polyglot-notebook"
    }
   },
   "outputs": [],
   "source": [
    "int[] degrees = {4}; \n",
    "int[] noOfCellsRs = {64};\n",
    "double rMin_ = 0;\n",
    "int[] dtRefinings = {512};\n",
    "string[] bdfOrders = {\"BDF1\"};\n",
    "double[] MaxAmps = {5};\n",
    "string[] grids = {\"regular\"};\n",
    "bool[] iterative={false};"
   ]
  },
  {
   "cell_type": "code",
   "execution_count": 12,
   "metadata": {
    "dotnet_interactive": {
     "language": "csharp"
    },
    "polyglot_notebook": {
     "kernelName": "csharp"
    },
    "vscode": {
     "languageId": "polyglot-notebook"
    }
   },
   "outputs": [],
   "source": [
    "List<HelicalControl> Controls = new List<HelicalControl>();"
   ]
  },
  {
   "cell_type": "code",
   "execution_count": 13,
   "metadata": {
    "dotnet_interactive": {
     "language": "csharp"
    },
    "polyglot_notebook": {
     "kernelName": "csharp"
    },
    "vscode": {
     "languageId": "polyglot-notebook"
    }
   },
   "outputs": [],
   "source": [
    "Controls.Clear();"
   ]
  },
  {
   "cell_type": "code",
   "execution_count": 14,
   "metadata": {
    "dotnet_interactive": {
     "language": "csharp"
    },
    "polyglot_notebook": {
     "kernelName": "csharp"
    },
    "vscode": {
     "languageId": "polyglot-notebook"
    }
   },
   "outputs": [],
   "source": [
    "foreach(bool lin_inter_Solver in iterative){\n",
    "    foreach (string grid in grids) {\n",
    "        foreach (double MaxAmp in MaxAmps){\n",
    "            foreach (int degree in degrees){     \n",
    "                foreach (int noOfCellsR in noOfCellsRs){        \n",
    "                    foreach (int dtRefining in dtRefinings){     \n",
    "                        foreach (string bdfOrder in bdfOrders){\n",
    "\n",
    "                        HelicalControl Ctrl = new HelicalControl();\n",
    "                        Ctrl.DbPath = \"@\"+myDb; // _DbPath;\n",
    "                        Ctrl.savetodb = Ctrl.DbPath != null;\n",
    "\n",
    "                        int noOfCellsXi = noOfCellsR; // Aquidistnant\n",
    "                        Ctrl.rMin = rMin_;\n",
    "                        Ctrl.rMax = 1;\n",
    "                        Ctrl.grid = grid;\n",
    "                        Ctrl.Resolution_R = noOfCellsR;\n",
    "                        Ctrl.Resolution_Xi = noOfCellsXi;\n",
    "                        if (grid == \"regular\"){\n",
    "                            Ctrl.GridFunc = delegate {\n",
    "                                double[] xnodes = GenericBlas.Linspace(Ctrl.rMin, Ctrl.rMax, noOfCellsR + 1);\n",
    "                                double[] ynodes = GenericBlas.Linspace(0, 2 * Math.PI, noOfCellsXi + 1);\n",
    "                                GridCommons grd = Grid2D.Cartesian2DGrid(xnodes, ynodes, type: CellType.Square_Linear, periodicY: true);\n",
    "\n",
    "                                grd.EdgeTagNames.Add(1, \"Dirichlet_rmax\");\n",
    "                                grd.EdgeTagNames.Add(2, \"Dirichlet_rmin\");\n",
    "                                grd.EdgeTagNames.Add(3, \"Stuff\");\n",
    "\n",
    "                                grd.DefineEdgeTags(delegate (double[] _X) {\n",
    "                                    var X = _X;\n",
    "                                    double r, xi;\n",
    "                                    r = X[0];\n",
    "                                    xi = X[1];\n",
    "                                    if(Math.Abs(r - Ctrl.rMax) < 1E-8)\n",
    "                                        return 1;\n",
    "                                    else if(Ctrl.rMin >= 1E-6 && Math.Abs(r - Ctrl.rMin) < 1E-8)\n",
    "                                        return 2;\n",
    "                                    else\n",
    "                                        return 3;\n",
    "                                });\n",
    "\n",
    "                                return grd;\n",
    "                            };\n",
    "                        } else  {\n",
    "                            Ctrl.GridFunc = delegate {\n",
    "                                int numberOfSegments = 4;\n",
    "                                // Initialisierung einer Liste für die Gitter\n",
    "                                GridCommons[] grids = new GridCommons[numberOfSegments];\n",
    "                                // Basisanzahl der Zellen im ersten Segment\n",
    "                                int N = (noOfCellsR+1)/ numberOfSegments;\n",
    "                                // Startpunkt für xNodes\n",
    "                                double xStart = rMin_;\n",
    "                                // Die Schrittweite für xNodes-Bereiche erhöhen\n",
    "                                double xStep = (Ctrl.rMax / numberOfSegments) - xStart;\n",
    "\n",
    "                                for(int i = 0; i < numberOfSegments; i++) {\n",
    "                                    // Berechnung der Knotenanzahl für das aktuelle Segment\n",
    "                                    int nodesInSegment = N * (int)Math.Pow(2, i) +1;\n",
    "\n",
    "                                    // Bestimmung der x-Bereichsgrenzen für das aktuelle Segment\n",
    "                                    double xEnd = xStart + xStep;\n",
    "\n",
    "                                    // Erzeugung der x-Knoten und y-Knoten für das aktuelle Segment\n",
    "                                    double[] xNodes = GenericBlas.Linspace(xStart, xEnd, nodesInSegment);\n",
    "                                    double[] yNodes = GenericBlas.Linspace(0, 2 * Math.PI, nodesInSegment);\n",
    "\n",
    "                                    // Erstellung des Gitters für das aktuelle Segment und Hinzufügen in die Liste\n",
    "                                    grids[i] = Grid2D.Cartesian2DGrid(xNodes, yNodes, type: CellType.Square_Linear);\n",
    "                                    // Aktualisierung des Startpunkts für den nächsten Durchlauf\n",
    "                                    xStart = xEnd;\n",
    "                                };\n",
    "\n",
    "                                // Zusammenführen der Gitter aus der Liste\n",
    "                                var grdJ = grids[0];\n",
    "                                for(int i = 1; i < grids.Length; i++) {\n",
    "                                    grdJ = GridCommons.MergeLogically(grids[i], grdJ);\n",
    "                                }\n",
    "                                // Versiegelung des zusammengeführten Gitters\n",
    "                                GridCommons grd = GridCommons.Seal(grdJ, 4);\n",
    "\n",
    "                                // Hinzufügen der Edge Tag Names und Definition der Edge Tags...\n",
    "                                // (Füge hier den restlichen Teil deines Codes ein)\n",
    "\n",
    "                                grd.EdgeTagNames.Add(1, \"Dirichlet\");\n",
    "                                grd.EdgeTagNames.Add(2, \"Stuff\");\n",
    "\n",
    "                                grd.DefineEdgeTags(delegate (double[] _X) {\n",
    "                                    var X = _X;\n",
    "                                    double r, xi;\n",
    "                                    r = X[0];\n",
    "                                    xi = X[1];\n",
    "                                    if(Math.Abs(r - Ctrl.rMax) < 1E-8 || (Ctrl.rMin >= 1E-6 && Math.Abs(r - Ctrl.rMin) < 1E-8))\n",
    "                                        return 1;\n",
    "                                    else\n",
    "                                        return 2;\n",
    "                                });\n",
    "                                return grd;\n",
    "                            };\n",
    "                        }       \n",
    "                        double dt = 2 * Math.PI / (dtRefining*100);\n",
    "                        Ctrl.dtMax = dt;\n",
    "                        Ctrl.dtMin = dt;\n",
    "                        if(bdfOrder == \"BDF3\") {\n",
    "                            Ctrl.TimeSteppingScheme = TimeSteppingScheme.BDF3;\n",
    "                        } else if(bdfOrder == \"BDF1\") {\n",
    "                            Ctrl.TimeSteppingScheme = TimeSteppingScheme.ImplicitEuler;\n",
    "                        } else {\n",
    "                            throw new ArgumentException(\"Unsupported BDF scheme: \" + bdfOrder);\n",
    "                        }\n",
    "                        Ctrl.NoOfTimesteps = dtRefining*10;\n",
    "\n",
    "                        // Solver Properties\n",
    "                        //=============\n",
    "                        Ctrl.steady = false;\n",
    "                        Ctrl.ExactResidual = false;\n",
    "                        Ctrl.HagenPoisseulle = false;\n",
    "                        // DG degree\n",
    "                        // =========\n",
    "                        Ctrl.dg_degree = degree;\n",
    "                        Ctrl.SetDGdegree(degree);\n",
    "\n",
    "                        double a = Globals.a;\n",
    "                        double b = Globals.b;\n",
    "                        double nu = Globals.nu;\n",
    "\n",
    "                        // Initial Values\n",
    "                        // ==============\n",
    "                        Ctrl.AddInitialValue(\"Pressure\", new Formula(\"(X) =>0\"));\n",
    "                        Ctrl.AddInitialValue(\"ur\", new Formula(\"(X) => 0\"));\n",
    "                        Ctrl.AddInitialValue(\"ueta\", new Formula($\"(X) => 0\"));\n",
    "                        Ctrl.AddInitialValue(\"uxi\", new Formula($\"(X) => 0\"));\n",
    "                        // Boundary Conditions\n",
    "                        // ==============\n",
    "                        Ctrl.AddBoundaryValue(\"Dirichlet\", \"ur\", new Formula(\"(X,t) =>  0\", true));\n",
    "                        Ctrl.AddBoundaryValue(\"Dirichlet\", \"ueta\", new Formula($\"(X,t) =>(X[0]/(Math.Sqrt({a * a} * X[0] * X[0] + {b * b} )))*{a}*{MaxAmp}* X[0]\", true));\n",
    "                        Ctrl.AddBoundaryValue(\"Dirichlet\", \"uxi\", new Formula($\"(X,t) => (X[0]/(Math.Sqrt({a * a} * X[0] * X[0] + {b * b} )))*{b}*{MaxAmp}\", true));\n",
    "                        Ctrl.AddBoundaryValue(\"Dirichlet\", \"Pressure\", new Formula(\"(X,t) =>0\", true));\n",
    "                        // Solver Propertiees \n",
    "                        // ==============\n",
    "                        Ctrl.maxAmpli = MaxAmp;\n",
    "                        if(lin_inter_Solver == true){\n",
    "                        Ctrl.LinearSolver = new BoSSS.Solution.AdvancedSolvers.OrthoMGSchwarzConfig() { ConvergenceCriterion = 1e-13 , CoarseKickIn = 1000000};\n",
    "                        //Ctrl.LinearSolver = new BoSSS.Solution.AdvancedSolvers.OrthoMGSchwarzConfig() { ConvergenceCriterion = 1e-13 , TargetBlockSize =1000000};\n",
    "                        }\n",
    "                        \n",
    "                        // Plotting\n",
    "                        // ==============\n",
    "                        Ctrl.ImmediatePlotPeriod =-1;\n",
    "                        Ctrl.SuperSampling = 1;\n",
    "                        Ctrl.TracingNamespaces= \"*\";\n",
    "                        Controls.Add(Ctrl);\n",
    "                        }\n",
    "                    }\n",
    "                }\n",
    "            }\n",
    "        }\n",
    "    }\n",
    "}"
   ]
  },
  {
   "cell_type": "markdown",
   "metadata": {},
   "source": [
    "## Launch job"
   ]
  },
  {
   "cell_type": "code",
   "execution_count": 14,
   "metadata": {
    "dotnet_interactive": {
     "language": "csharp"
    },
    "polyglot_notebook": {
     "kernelName": "csharp"
    },
    "vscode": {
     "languageId": "polyglot-notebook"
    }
   },
   "outputs": [],
   "source": [
    "int [] NumberOfMPIProcs = {4};"
   ]
  },
  {
   "cell_type": "code",
   "execution_count": 15,
   "metadata": {
    "dotnet_interactive": {
     "language": "csharp"
    },
    "polyglot_notebook": {
     "kernelName": "csharp"
    },
    "vscode": {
     "languageId": "polyglot-notebook"
    }
   },
   "outputs": [
    {
     "name": "stdout",
     "output_type": "stream",
     "text": [
      " ------------ MSHPC FailedOrCanceled; original Failed\n",
      "Deployments so far (1): (Job token: 57946, FailedOrCanceled 'H_P-StokesHelical_Ak2024May10_110917.900037' @ MS HPC client  Default @DC3, @\\\\dc3\\userspace\\akbari\\cluster\\binaries, FailedOrCanceled);\n",
      "Success: 0\n",
      "job submit count: 1\n",
      "Note: Job was deployed (1) number of times, all failed; RetryCount is 3, so try once more.\n",
      "Hint: want to re-activate the job.\n",
      "Job is FailedOrCanceled, but retry count is set to 3 and only 1 tries yet - trying once more...\n",
      "Deploying job BDF_1_LSol_PARDISO_Grid_regular_rMin_0_Mult_one_PRP_True_64_x_64_DGd_4_#MPI_4_Amp_5_dt_0.0001227184630308513 ... \n",
      "Opening existing database '\\\\wsl.localhost\\Ubuntu-22.04\\home\\akbari\\lichtb-scratch\\database\\H_P'.\n",
      "Opening existing database '\\\\dc3\\userspace\\akbari\\Local\\H_P'.\n",
      "Set Database: { Session Count = 0; Grid Count = 2; Path = \\\\dc3\\userspace\\akbari\\cluster\\H_P }\n",
      "Control object contains grid function. Trying to Serialize the grid...\n",
      "Grid Edge Tags changed.\n",
      "An equivalent grid (cab3c5d1-0e76-4010-8fd9-b7c1eed7e1ce) is already present in the database -- the grid will not be saved.\n",
      "Using grid cab3c5d1-0e76-4010-8fd9-b7c1eed7e1ce at \\\\dc3\\userspace\\akbari\\cluster\\H_P.\n",
      "Control object modified.\n"
     ]
    },
    {
     "name": "stderr",
     "output_type": "stream",
     "text": [
      "Warning: no database is set for the job to submit; nothing may be saved.\r\n"
     ]
    },
    {
     "name": "stdout",
     "output_type": "stream",
     "text": [
      "Deploying executables and additional files ...\n",
      "Deployment directory: \\\\dc3\\userspace\\akbari\\cluster\\binaries\\H_P-StokesHelical_Ak2024May10_131239.252749\n",
      "copied 98 files.\n",
      "   written file: control.obj\n",
      "   copied 'win\\amd64' runtime.\n",
      "deployment finished.\n"
     ]
    }
   ],
   "source": [
    "foreach(int NumMPI in NumberOfMPIProcs ){\n",
    "    foreach(HelicalControl C in Controls) {\n",
    "        C.ProjectName = \"Helical_HagenPoiseulle\";\n",
    "        C.SessionName = \"BDF_\" + C.GetBDFOrder()+ \"_LSol_\"+ C.LinearSolver.Shortname + \"_Grid_\"+ C.grid + \"_rMin_\" + C.rMin.ToString() + \"_Mult_BSQ_\"+ \"_PRP_\" + C.PressureReferencePoint + \"_\" + C.Resolution_R.ToString() + \"_x_\" +\n",
    "                                    C.Resolution_R.ToString() + \"_DGd_\" + C.dg_degree+\"_#MPI_\"+ NumMPI +\"_Amp_\"+ C.maxAmpli.ToString() +\"_dt_\"+C.dtMax;\n",
    "        var aJob   = new Job(C.SessionName,typeof(HelicalControl));\n",
    "        aJob.SetControlObject(C);\n",
    "        //aJob.NumberOfMPIProcs         = 1;\n",
    "        //aJob.NumberOfThreads          = 4;\n",
    "        aJob.UseComputeNodesExclusive = true;\n",
    "        aJob.Activate(myBatch);    \n",
    "    }\n",
    "}"
   ]
  },
  {
   "cell_type": "code",
   "execution_count": null,
   "metadata": {
    "dotnet_interactive": {
     "language": "csharp"
    },
    "polyglot_notebook": {
     "kernelName": "csharp"
    },
    "vscode": {
     "languageId": "polyglot-notebook"
    }
   },
   "outputs": [],
   "source": [
    "wmg.BlockUntilAllJobsTerminate(1.5*24*3600);"
   ]
  },
  {
   "cell_type": "code",
   "execution_count": null,
   "metadata": {
    "dotnet_interactive": {
     "language": "csharp"
    },
    "polyglot_notebook": {
     "kernelName": "csharp"
    },
    "vscode": {
     "languageId": "polyglot-notebook"
    }
   },
   "outputs": [],
   "source": [
    "wmg.AllJobs"
   ]
  },
  {
   "cell_type": "code",
   "execution_count": null,
   "metadata": {
    "dotnet_interactive": {
     "language": "csharp"
    },
    "polyglot_notebook": {
     "kernelName": "csharp"
    },
    "vscode": {
     "languageId": "polyglot-notebook"
    }
   },
   "outputs": [],
   "source": [
    "NUnit.Framework.Assert.Zero(wmg.AllJobs.Where(job => job.Status != JobStatus.FinishedSuccessful).Count(), \"some non-succesful jobs found\");"
   ]
  }
 ],
 "metadata": {
  "kernelspec": {
   "display_name": ".NET (C#)",
   "language": "C#",
   "name": ".net-csharp"
  },
  "language_info": {
   "file_extension": ".cs",
   "mimetype": "text/x-csharp",
   "name": "C#",
   "pygments_lexer": "csharp",
   "version": "9.0"
  },
  "orig_nbformat": 4,
  "polyglot_notebook": {
   "kernelInfo": {
    "defaultKernelName": "csharp",
    "items": [
     {
      "aliases": [],
      "name": "csharp"
     }
    ]
   }
  }
 },
 "nbformat": 4,
 "nbformat_minor": 2
}

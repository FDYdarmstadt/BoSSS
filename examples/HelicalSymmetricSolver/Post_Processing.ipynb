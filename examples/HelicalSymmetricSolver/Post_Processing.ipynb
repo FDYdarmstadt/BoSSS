{
 "cells": [
  {
   "cell_type": "markdown",
   "metadata": {},
   "source": [
    "Voreinstellung"
   ]
  },
  {
   "cell_type": "code",
   "execution_count": 1,
   "metadata": {
    "dotnet_interactive": {
     "language": "csharp"
    },
    "vscode": {
     "languageId": "polyglot-notebook"
    }
   },
   "outputs": [],
   "source": [
    "#r \"BoSSSpad.dll\"\n",
    "using System;\n",
    "using BoSSS.Foundation;\n",
    "using BoSSS.Application.BoSSSpad;\n",
    "using BoSSS.Solution;\n",
    "using BoSSS.Solution.Tecplot;\n",
    "using BoSSS.Foundation.IO;\n",
    "using ilPSP.Tracing;\n",
    "using BoSSS.Solution.Utils;\n",
    "using ilPSP.LinSolvers;\n",
    "using BoSSS.Solution.NSECommon;\n",
    "using ilPSP.Connectors.Matlab;\n",
    "using ilPSP;\n",
    "using BoSSS.Foundation.Grid.Classic;\n",
    "using ilPSP.Utils;\n",
    "using BoSSS.Foundation.Grid.RefElements;\n",
    "using System.Collections.Generic;\n",
    "using BoSSS.Foundation.Grid;\n",
    "using BoSSS.Foundation.XDG;\n",
    "using BoSSS.Solution.XdgTimestepping;\n",
    "using BoSSS.Solution.AdvancedSolvers;\n",
    "using System.Linq;\n",
    "using BoSSS.Foundation.Grid.Aggregation;\n",
    "using BoSSS.Platform;\n",
    "using MPI.Wrappers;\n",
    "using System.Diagnostics;\n",
    "using System.IO;\n",
    "using System.Collections;\n",
    "using BoSSS.Foundation.Quadrature;\n",
    "using BoSSS.Solution.Statistic;\n",
    "using BoSSS.Solution.Gnuplot;\n",
    "using static BoSSS.Application.BoSSSpad.BoSSSshell;\n",
    "using BoSSS.Solution.Control;\n",
    "using BoSSS.Solution.GridImport;\n",
    "Init();\n"
   ]
  },
  {
   "cell_type": "code",
   "execution_count": 2,
   "metadata": {
    "dotnet_interactive": {
     "language": "csharp"
    },
    "polyglot_notebook": {
     "kernelName": "csharp"
    },
    "vscode": {
     "languageId": "polyglot-notebook"
    }
   },
   "outputs": [],
   "source": [
    "#r \"StokesHelical_Ak.dll\""
   ]
  },
  {
   "cell_type": "code",
   "execution_count": 3,
   "metadata": {
    "dotnet_interactive": {
     "language": "csharp"
    },
    "polyglot_notebook": {
     "kernelName": "csharp"
    },
    "vscode": {
     "languageId": "polyglot-notebook"
    }
   },
   "outputs": [],
   "source": [
    "using StokesHelical_Ak;"
   ]
  },
  {
   "cell_type": "markdown",
   "metadata": {},
   "source": [
    "Voreinstellungen"
   ]
  },
  {
   "cell_type": "markdown",
   "metadata": {},
   "source": [
    "## Projekt Name"
   ]
  },
  {
   "cell_type": "code",
   "execution_count": 4,
   "metadata": {
    "dotnet_interactive": {
     "language": "csharp"
    },
    "polyglot_notebook": {
     "kernelName": "csharp"
    },
    "vscode": {
     "languageId": "polyglot-notebook"
    }
   },
   "outputs": [],
   "source": [
    "string proj = \"Helical_HagenPoiseulle\";"
   ]
  },
  {
   "cell_type": "code",
   "execution_count": 5,
   "metadata": {
    "dotnet_interactive": {
     "language": "csharp"
    },
    "polyglot_notebook": {
     "kernelName": "csharp"
    },
    "vscode": {
     "languageId": "polyglot-notebook"
    }
   },
   "outputs": [],
   "source": [
    "BoSSSshell.WorkflowMgm.Init(proj);"
   ]
  },
  {
   "cell_type": "code",
   "execution_count": 6,
   "metadata": {
    "dotnet_interactive": {
     "language": "csharp"
    },
    "polyglot_notebook": {
     "kernelName": "csharp"
    },
    "vscode": {
     "languageId": "polyglot-notebook"
    }
   },
   "outputs": [],
   "source": [
    "BoSSSshell.WorkflowMgm.SetNameBasedSessionJobControlCorrelation();"
   ]
  },
  {
   "cell_type": "code",
   "execution_count": 7,
   "metadata": {
    "dotnet_interactive": {
     "language": "csharp"
    },
    "polyglot_notebook": {
     "kernelName": "csharp"
    },
    "vscode": {
     "languageId": "polyglot-notebook"
    }
   },
   "outputs": [],
   "source": [
    "var myDb = BoSSSshell.WorkflowMgm.DefaultDatabase;"
   ]
  },
  {
   "cell_type": "markdown",
   "metadata": {},
   "source": [
    "## Loading job"
   ]
  },
  {
   "cell_type": "code",
   "execution_count": 8,
   "metadata": {
    "dotnet_interactive": {
     "language": "csharp"
    },
    "polyglot_notebook": {
     "kernelName": "csharp"
    },
    "vscode": {
     "languageId": "polyglot-notebook"
    }
   },
   "outputs": [],
   "source": [
    "myDb = BoSSSshell.WorkflowMgm.DefaultDatabase;"
   ]
  },
  {
   "cell_type": "code",
   "execution_count": 9,
   "metadata": {
    "dotnet_interactive": {
     "language": "csharp"
    },
    "polyglot_notebook": {
     "kernelName": "csharp"
    },
    "vscode": {
     "languageId": "polyglot-notebook"
    }
   },
   "outputs": [
    {
     "data": {
      "text/plain": [
       "{ Session Count = 0; Grid Count = 0; Path = \\\\dc3\\userspace\\akbari\\cluster\\Helical_HagenPoiseulle }"
      ]
     },
     "metadata": {},
     "output_type": "display_data"
    }
   ],
   "source": [
    "myDb"
   ]
  },
  {
   "cell_type": "code",
   "execution_count": 10,
   "metadata": {
    "dotnet_interactive": {
     "language": "csharp"
    },
    "polyglot_notebook": {
     "kernelName": "csharp"
    },
    "vscode": {
     "languageId": "polyglot-notebook"
    }
   },
   "outputs": [
    {
     "data": {
      "text/plain": []
     },
     "metadata": {},
     "output_type": "display_data"
    }
   ],
   "source": [
    "BoSSSshell.WorkflowMgm.Sessions"
   ]
  },
  {
   "cell_type": "code",
   "execution_count": 11,
   "metadata": {
    "vscode": {
     "languageId": "polyglot-notebook"
    }
   },
   "outputs": [
    {
     "ename": "Error",
     "evalue": "System.InvalidOperationException: Sequence contains no elements\r\n   at System.Linq.ThrowHelper.ThrowNoElementsException()\r\n   at System.Linq.Enumerable.Last[TSource](IEnumerable`1 source)\r\n   at Submission#12.<<Initialize>>d__0.MoveNext()\r\n--- End of stack trace from previous location ---\r\n   at Microsoft.CodeAnalysis.Scripting.ScriptExecutionState.RunSubmissionsAsync[TResult](ImmutableArray`1 precedingExecutors, Func`2 currentExecutor, StrongBox`1 exceptionHolderOpt, Func`2 catchExceptionOpt, CancellationToken cancellationToken)",
     "output_type": "error",
     "traceback": [
      "System.InvalidOperationException: Sequence contains no elements\r\n",
      "   at System.Linq.ThrowHelper.ThrowNoElementsException()\r\n",
      "   at System.Linq.Enumerable.Last[TSource](IEnumerable`1 source)\r\n",
      "   at Submission#12.<<Initialize>>d__0.MoveNext()\r\n",
      "--- End of stack trace from previous location ---\r\n",
      "   at Microsoft.CodeAnalysis.Scripting.ScriptExecutionState.RunSubmissionsAsync[TResult](ImmutableArray`1 precedingExecutors, Func`2 currentExecutor, StrongBox`1 exceptionHolderOpt, Func`2 catchExceptionOpt, CancellationToken cancellationToken)"
     ]
    }
   ],
   "source": [
    "var Last_Session = BoSSSshell.WorkflowMgm.Sessions.Last();"
   ]
  },
  {
   "cell_type": "markdown",
   "metadata": {},
   "source": [
    "## Loading Field from Last Time Step"
   ]
  },
  {
   "cell_type": "code",
   "execution_count": null,
   "metadata": {
    "vscode": {
     "languageId": "polyglot-notebook"
    }
   },
   "outputs": [],
   "source": [
    "var Pressure = Last_Session.Timesteps.Last().Fields.Single(f => f.Identification == \"Pressure\");\n",
    "var ur = Last_Session.Timesteps.Last().Fields.Single(f => f.Identification == \"ur\");\n",
    "var uxi = Last_Session.Timesteps.Last().Fields.Single(f => f.Identification == \"uxi\");\n",
    "var ueta = Last_Session.Timesteps.Last().Fields.Single(f => f.Identification == \"ueta\");"
   ]
  },
  {
   "cell_type": "markdown",
   "metadata": {},
   "source": [
    "## Exact Solution\n"
   ]
  },
  {
   "cell_type": "code",
   "execution_count": null,
   "metadata": {
    "vscode": {
     "languageId": "polyglot-notebook"
    }
   },
   "outputs": [],
   "source": [
    "double MaxAmp = Last_Session.Controls.maxAmpli;\n",
    "Func<double[], double> ur_exact = (X) => 0;\n",
    "Func<double[], double> pressure_exact = (X) => 0;\n",
    "Func<double[], double> ueta_exact = (X) => (X[0] / (Math.Sqrt(a * a * X[0] * X[0] + b * b))) * a * MaxAmp * X[0];\n",
    "Func<double[], double> uxi_exact = (X) => (X[0] / (Math.Sqrt(a * a * X[0] * X[0] + b * b))) * b * MaxAmp;"
   ]
  },
  {
   "cell_type": "code",
   "execution_count": null,
   "metadata": {
    "vscode": {
     "languageId": "polyglot-notebook"
    }
   },
   "outputs": [],
   "source": [
    "// Deep Copy\n",
    "SinglePhaseField exSol_ur = ur.CloneAs();\n",
    "SinglePhaseField exSol_ueta = ueta.CloneAs();\n",
    "SinglePhaseField exSol_uxi = uxi.CloneAs();\n",
    "SinglePhaseField exSol_pressure = Pressure.CloneAs();"
   ]
  },
  {
   "cell_type": "code",
   "execution_count": null,
   "metadata": {
    "vscode": {
     "languageId": "polyglot-notebook"
    }
   },
   "outputs": [],
   "source": [
    "exSol_ur.ProjectField(ur_exact);\n",
    "exSol_ueta.ProjectField(ueta_exact);\n",
    "exSol_uxi.ProjectField(uxi_exact);\n",
    "exSol_pressure.ProjectField(pressure_exact);"
   ]
  },
  {
   "cell_type": "markdown",
   "metadata": {},
   "source": [
    "## L2-Error"
   ]
  },
  {
   "cell_type": "code",
   "execution_count": null,
   "metadata": {
    "vscode": {
     "languageId": "polyglot-notebook"
    }
   },
   "outputs": [],
   "source": [
    "double ur_L2 = ur.L2Error(exSol_ur);\n",
    "double uxi_L2 = uxi.L2Error(exSol_uxi);\n",
    "double ueta_L2 = ueta.L2Error(exSol_ueta);\n",
    "double pressure_L2 = Pressure.L2Error(exSol_pressure);"
   ]
  },
  {
   "cell_type": "markdown",
   "metadata": {},
   "source": [
    "## Threshold"
   ]
  },
  {
   "cell_type": "code",
   "execution_count": null,
   "metadata": {
    "dotnet_interactive": {
     "language": "csharp"
    },
    "polyglot_notebook": {
     "kernelName": "csharp"
    },
    "vscode": {
     "languageId": "polyglot-notebook"
    }
   },
   "outputs": [],
   "source": [
    "NUnit.Framework.Assert.LessOrEqual(pressure_L2, 1e-9, \"Pressure error to large\");\n",
    "NUnit.Framework.Assert.LessOrEqual(PressureL2Error, 1e-9, \"Pressure error to large\");\n",
    "NUnit.Framework.Assert.LessOrEqual(PressureL2Error, 1e-9, \"Pressure error to large\");\n",
    "NUnit.Framework.Assert.LessOrEqual(PressureL2Error, 1e-9, \"Pressure error to large\");"
   ]
  }
 ],
 "metadata": {
  "kernelspec": {
   "display_name": ".NET (C#)",
   "language": "C#",
   "name": ".net-csharp"
  },
  "language_info": {
   "file_extension": ".cs",
   "mimetype": "text/x-csharp",
   "name": "C#",
   "pygments_lexer": "csharp",
   "version": "9.0"
  },
  "orig_nbformat": 4,
  "polyglot_notebook": {
   "kernelInfo": {
    "defaultKernelName": "csharp",
    "items": [
     {
      "aliases": [],
      "name": "csharp"
     }
    ]
   }
  }
 },
 "nbformat": 4,
 "nbformat_minor": 2
}

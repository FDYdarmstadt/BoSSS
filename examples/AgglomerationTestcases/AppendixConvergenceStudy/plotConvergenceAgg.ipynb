{
 "cells": [
  {
   "cell_type": "code",
   "execution_count": 1,
   "metadata": {
    "dotnet_interactive": {
     "language": "csharp"
    },
    "polyglot_notebook": {
     "kernelName": "csharp"
    },
    "vscode": {
     "languageId": "polyglot-notebook"
    }
   },
   "outputs": [],
   "source": [
    "#r \"./../../../../../public/src/L4-application/BoSSSpad/bin/Release/net6.0/BoSSSpad.dll\"\n",
    "using System;\n",
    "using System.Threading;\n",
    "using System.Diagnostics;\n",
    "using ilPSP;\n",
    "using ilPSP.Utils;\n",
    "using BoSSS.Platform;\n",
    "using BoSSS.Foundation;\n",
    "using BoSSS.Foundation.XDG;\n",
    "using BoSSS.Foundation.Grid;\n",
    "using BoSSS.Solution;\n",
    "using BoSSS.Application.XNSE_Solver;\n",
    "using BoSSS.Application.BoSSSpad;\n",
    "using BoSSS.Foundation.Grid.Classic;\n",
    "using BoSSS.Foundation.IO;\n",
    "using BoSSS.Solution.AdvancedSolvers;\n",
    "using BoSSS.Solution.Control;\n",
    "using BoSSS.Solution.XNSECommon;\n",
    "using BoSSS.Solution.NSECommon;\n",
    "//using BoSSS.XNSE_Solver;\n",
    "using BoSSS.Solution.LoadBalancing;\n",
    "using BoSSS.Solution.LevelSetTools;\n",
    "using BoSSS.Solution.XdgTimestepping;\n",
    "using BoSSS.Solution.Utils;\n",
    "using System.IO;\n",
    "using BoSSS.Application.XNSE_Solver.PhysicalBasedTestcases;\n",
    "using static BoSSS.Application.BoSSSpad.BoSSSshell;\n",
    "using MomentFittingVariants = BoSSS.Foundation.XDG.XQuadFactoryHelper.MomentFittingVariants;\n",
    "Init();"
   ]
  },
  {
   "cell_type": "code",
   "execution_count": 2,
   "metadata": {
    "dotnet_interactive": {
     "language": "csharp"
    },
    "polyglot_notebook": {
     "kernelName": "csharp"
    },
    "vscode": {
     "languageId": "polyglot-notebook"
    }
   },
   "outputs": [],
   "source": [
    "// Is used at Jenkins to generate individual names (for output .json)\n",
    "string dbname = System.Environment.GetEnvironmentVariable(\"DATABASE_NAME\");\n",
    "string buildname = System.Environment.GetEnvironmentVariable(\"JOB_NAME\");\n",
    "//defaults\n",
    "buildname = String.IsNullOrEmpty(buildname)? \"Popcorn2D\" : buildname; //Popcorn2D  VanishingSphere2D\n",
    "//string thedate = $\"{System.DateTime.Today.Day}-{System.DateTime.Today.Month}-{System.DateTime.Today.Year}\";\n",
    "dbname = String.IsNullOrEmpty(dbname)? \"convergenceAggStokesSteadyFinal\" : dbname; //Collison´2\n",
    "string table_name = String.Concat(buildname, \"_\", dbname);"
   ]
  },
  {
   "cell_type": "code",
   "execution_count": 3,
   "metadata": {
    "dotnet_interactive": {
     "language": "csharp"
    },
    "polyglot_notebook": {
     "kernelName": "csharp"
    },
    "vscode": {
     "languageId": "polyglot-notebook"
    }
   },
   "outputs": [],
   "source": [
    "using BoSSS.Solution.Gnuplot;\n"
   ]
  },
  {
   "cell_type": "code",
   "execution_count": 4,
   "metadata": {
    "dotnet_interactive": {
     "language": "csharp"
    },
    "polyglot_notebook": {
     "kernelName": "csharp"
    },
    "vscode": {
     "languageId": "polyglot-notebook"
    }
   },
   "outputs": [
    {
     "data": {
      "text/plain": [
       "{ Session Count = 75; Grid Count = 5; Path = \\\\dc3\\userspace\\toprak\\BoSSS-ConvSteadyFinal\\Popcorn2D_convergenceAggStokesSteadyFinal }"
      ]
     },
     "metadata": {},
     "output_type": "display_data"
    }
   ],
   "source": [
    "//ExecutionQueues\n",
    "var myBatch = ExecutionQueues[5];\n",
    "string WFlowName = table_name;\n",
    "BoSSS.Application.BoSSSpad.BoSSSshell.WorkflowMgm.Init(WFlowName,myBatch);\n",
    "BoSSS.Application.BoSSSpad.BoSSSshell.WorkflowMgm.SetNameBasedSessionJobControlCorrelation();\n",
    "var myDB = BoSSS.Application.BoSSSpad.BoSSSshell.WorkflowMgm.DefaultDatabase; \n",
    "myDB"
   ]
  },
  {
   "cell_type": "code",
   "execution_count": 5,
   "metadata": {
    "dotnet_interactive": {
     "language": "csharp"
    },
    "polyglot_notebook": {
     "kernelName": "csharp"
    },
    "vscode": {
     "languageId": "polyglot-notebook"
    }
   },
   "outputs": [
    {
     "data": {
      "text/plain": [
       "#0: Popcorn2D_convergenceAggStokesSteadyFinal\tSolverTrue_J65536_k3_Re1000_agg0_ti0.000atZ_r0.6_AMRFalse_LBFalse_W9.99_Stokes_dRdt0.00mumps_ct1\t8/18/2024 5:40:32 PM\t97537f4f...\r\n",
       "#1: Popcorn2D_convergenceAggStokesSteadyFinal\tSolverTrue_J65536_k2_Re1000_agg0_ti0.000atZ_r0.6_AMRFalse_LBFalse_W9.99_Stokes_dRdt0.00mumps_ct1\t8/18/2024 5:40:16 PM\t8312659c...\r\n",
       "#2: Popcorn2D_convergenceAggStokesSteadyFinal\tSolverTrue_J65536_k1_Re1000_agg0_ti0.000atZ_r0.6_AMRFalse_LBFalse_W9.99_Stokes_dRdt0.00mumps_ct1\t8/18/2024 5:40:01 PM\tbd8474e2...\r\n",
       "#3: Popcorn2D_convergenceAggStokesSteadyFinal\tSolverTrue_J16384_k3_Re1000_agg0.4_ti0.000atZ_r0.6_AMRFalse_LBFalse_W9.99_Stokes_dRdt0.00mumps_ct1\t8/18/2024 5:35:46 PM\ta61665fe...\r\n",
       "#4: Popcorn2D_convergenceAggStokesSteadyFinal\tSolverTrue_J16384_k3_Re1000_agg0.1_ti0.000atZ_r0.6_AMRFalse_LBFalse_W9.99_Stokes_dRdt0.00mumps_ct1\t8/18/2024 5:35:01 PM\tc9c88eb3...\r\n",
       "#5: Popcorn2D_convergenceAggStokesSteadyFinal\tSolverTrue_J16384_k3_Re1000_agg0.2_ti0.000atZ_r0.6_AMRFalse_LBFalse_W9.99_Stokes_dRdt0.00mumps_ct1\t8/18/2024 5:35:16 PM\td25e450c...\r\n",
       "#6: Popcorn2D_convergenceAggStokesSteadyFinal\tSolverTrue_J16384_k3_Re1000_agg0.5_ti0.000atZ_r0.6_AMRFalse_LBFalse_W9.99_Stokes_dRdt0.00mumps_ct1\t8/18/2024 5:36:22 PM\td64cb2e6...\r\n",
       "#7: Popcorn2D_convergenceAggStokesSteadyFinal\tSolverTrue_J16384_k3_Re1000_agg0.3_ti0.000atZ_r0.6_AMRFalse_LBFalse_W9.99_Stokes_dRdt0.00mumps_ct1\t8/18/2024 5:35:52 PM\tbbf79439...\r\n",
       "#8: Popcorn2D_convergenceAggStokesSteadyFinal\tSolverTrue_J16384_k3_Re1000_agg0_ti0.000atZ_r0.6_AMRFalse_LBFalse_W9.99_Stokes_dRdt0.00mumps_ct1\t8/18/2024 5:34:43 PM\t55ccc009...\r\n",
       "#9: Popcorn2D_convergenceAggStokesSteadyFinal\tSolverTrue_J16384_k2_Re1000_agg0.5_ti0.000atZ_r0.6_AMRFalse_LBFalse_W9.99_Stokes_dRdt0.00mumps_ct1\t8/18/2024 5:34:51 PM\taa767e55...\r\n",
       "#10: Popcorn2D_convergenceAggStokesSteadyFinal\tSolverTrue_J16384_k2_Re1000_agg0.3_ti0.000atZ_r0.6_AMRFalse_LBFalse_W9.99_Stokes_dRdt0.00mumps_ct1\t8/18/2024 5:33:55 PM\t3702402f...\r\n",
       "#11: Popcorn2D_convergenceAggStokesSteadyFinal\tSolverTrue_J16384_k2_Re1000_agg0.1_ti0.000atZ_r0.6_AMRFalse_LBFalse_W9.99_Stokes_dRdt0.00mumps_ct1\t8/18/2024 5:33:25 PM\ta74dc7f6...\r\n",
       "#12: Popcorn2D_convergenceAggStokesSteadyFinal\tSolverTrue_J16384_k2_Re1000_agg0.4_ti0.000atZ_r0.6_AMRFalse_LBFalse_W9.99_Stokes_dRdt0.00mumps_ct1\t8/18/2024 5:34:33 PM\t6d028340...\r\n",
       "#13: Popcorn2D_convergenceAggStokesSteadyFinal\tSolverTrue_J16384_k2_Re1000_agg0.2_ti0.000atZ_r0.6_AMRFalse_LBFalse_W9.99_Stokes_dRdt0.00mumps_ct1\t8/18/2024 5:34:02 PM\t33408993...\r\n",
       "#14: Popcorn2D_convergenceAggStokesSteadyFinal\tSolverTrue_J16384_k2_Re1000_agg0_ti0.000atZ_r0.6_AMRFalse_LBFalse_W9.99_Stokes_dRdt0.00mumps_ct1\t8/18/2024 5:33:32 PM\teb63eca8...\r\n",
       "#15: Popcorn2D_convergenceAggStokesSteadyFinal\tSolverTrue_J16384_k1_Re1000_agg0.4_ti0.000atZ_r0.6_AMRFalse_LBFalse_W9.99_Stokes_dRdt0.00mumps_ct1\t8/18/2024 5:32:40 PM\t6f3133ea...\r\n",
       "#16: Popcorn2D_convergenceAggStokesSteadyFinal\tSolverTrue_J16384_k1_Re1000_agg0.3_ti0.000atZ_r0.6_AMRFalse_LBFalse_W9.99_Stokes_dRdt0.00mumps_ct1\t8/18/2024 5:32:24 PM\taf9e3603...\r\n",
       "#17: Popcorn2D_convergenceAggStokesSteadyFinal\tSolverTrue_J16384_k1_Re1000_agg0.5_ti0.000atZ_r0.6_AMRFalse_LBFalse_W9.99_Stokes_dRdt0.00mumps_ct1\t8/18/2024 5:33:15 PM\t392a81a9...\r\n",
       "#18: Popcorn2D_convergenceAggStokesSteadyFinal\tSolverTrue_J16384_k1_Re1000_agg0.1_ti0.000atZ_r0.6_AMRFalse_LBFalse_W9.99_Stokes_dRdt0.00mumps_ct1\t8/18/2024 5:31:55 PM\t62a54c20...\r\n",
       "#19: Popcorn2D_convergenceAggStokesSteadyFinal\tSolverTrue_J16384_k1_Re1000_agg0.2_ti0.000atZ_r0.6_AMRFalse_LBFalse_W9.99_Stokes_dRdt0.00mumps_ct1\t8/18/2024 5:32:08 PM\t74576cd1...\r\n",
       "#20: Popcorn2D_convergenceAggStokesSteadyFinal\tSolverTrue_J16384_k1_Re1000_agg0_ti0.000atZ_r0.6_AMRFalse_LBFalse_W9.99_Stokes_dRdt0.00mumps_ct1\t8/18/2024 5:31:38 PM\t101ef652...\r\n",
       "#21: Popcorn2D_convergenceAggStokesSteadyFinal\tSolverTrue_J4096_k3_Re1000_agg0.5_ti0.000atZ_r0.6_AMRFalse_LBFalse_W9.99_Stokes_dRdt0.00mumps_ct1\t8/18/2024 5:31:45 PM\t65d61d04...\r\n",
       "#22: Popcorn2D_convergenceAggStokesSteadyFinal\tSolverTrue_J4096_k3_Re1000_agg0.3_ti0.000atZ_r0.6_AMRFalse_LBFalse_W9.99_Stokes_dRdt0.00mumps_ct1\t8/18/2024 5:30:53 PM\t8038aad9...\r\n",
       "#23: Popcorn2D_convergenceAggStokesSteadyFinal\tSolverTrue_J4096_k3_Re1000_agg0.4_ti0.000atZ_r0.6_AMRFalse_LBFalse_W9.99_Stokes_dRdt0.00mumps_ct1\t8/18/2024 5:31:31 PM\t9c18e14a...\r\n",
       "#24: Popcorn2D_convergenceAggStokesSteadyFinal\tSolverTrue_J4096_k3_Re1000_agg0.2_ti0.000atZ_r0.6_AMRFalse_LBFalse_W9.99_Stokes_dRdt0.00mumps_ct1\t8/18/2024 5:31:00 PM\tc992011b...\r\n",
       "#25: Popcorn2D_convergenceAggStokesSteadyFinal\tSolverTrue_J4096_k3_Re1000_agg0.1_ti0.000atZ_r0.6_AMRFalse_LBFalse_W9.99_Stokes_dRdt0.00mumps_ct1\t8/18/2024 5:30:24 PM\t868f132b...\r\n",
       "#26: Popcorn2D_convergenceAggStokesSteadyFinal\tSolverTrue_J4096_k3_Re1000_agg0_ti0.000atZ_r0.6_AMRFalse_LBFalse_W9.99_Stokes_dRdt0.00mumps_ct1\t8/18/2024 5:30:09 PM\t783bbbd2...\r\n",
       "#27: Popcorn2D_convergenceAggStokesSteadyFinal\tSolverTrue_J4096_k2_Re1000_agg0.4_ti0.000atZ_r0.6_AMRFalse_LBFalse_W9.99_Stokes_dRdt0.00mumps_ct1\t8/18/2024 5:29:38 PM\t70f7ce5b...\r\n",
       "#28: Popcorn2D_convergenceAggStokesSteadyFinal\tSolverTrue_J4096_k2_Re1000_agg0.5_ti0.000atZ_r0.6_AMRFalse_LBFalse_W9.99_Stokes_dRdt0.00mumps_ct1\t8/18/2024 5:29:52 PM\tb9df7ac7...\r\n",
       "#29: Popcorn2D_convergenceAggStokesSteadyFinal\tSolverTrue_J4096_k2_Re1000_agg0.3_ti0.000atZ_r0.6_AMRFalse_LBFalse_W9.99_Stokes_dRdt0.00mumps_ct1\t8/18/2024 5:29:45 PM\tecf5e1e1...\r\n",
       "#30: Popcorn2D_convergenceAggStokesSteadyFinal\tSolverTrue_J4096_k2_Re1000_agg0.2_ti0.000atZ_r0.6_AMRFalse_LBFalse_W9.99_Stokes_dRdt0.00mumps_ct1\t8/18/2024 5:29:28 PM\t645186b9...\r\n",
       "#31: Popcorn2D_convergenceAggStokesSteadyFinal\tSolverTrue_J4096_k2_Re1000_agg0.1_ti0.000atZ_r0.6_AMRFalse_LBFalse_W9.99_Stokes_dRdt0.00mumps_ct1\t8/18/2024 5:28:50 PM\tab0aa84c...\r\n",
       "#32: Popcorn2D_convergenceAggStokesSteadyFinal\tSolverTrue_J4096_k2_Re1000_agg0_ti0.000atZ_r0.6_AMRFalse_LBFalse_W9.99_Stokes_dRdt0.00mumps_ct1\t8/18/2024 5:28:58 PM\te9b8cc91...\r\n",
       "#33: Popcorn2D_convergenceAggStokesSteadyFinal\tSolverTrue_J4096_k1_Re1000_agg0.5_ti0.000atZ_r0.6_AMRFalse_LBFalse_W9.99_Stokes_dRdt0.00mumps_ct1\t8/18/2024 5:28:22 PM\t998bec26...\r\n",
       "#34: Popcorn2D_convergenceAggStokesSteadyFinal\tSolverTrue_J4096_k1_Re1000_agg0.4_ti0.000atZ_r0.6_AMRFalse_LBFalse_W9.99_Stokes_dRdt0.00mumps_ct1\t8/18/2024 5:28:07 PM\tc0f5b84c...\r\n",
       "#35: Popcorn2D_convergenceAggStokesSteadyFinal\tSolverTrue_J4096_k1_Re1000_agg0.3_ti0.000atZ_r0.6_AMRFalse_LBFalse_W9.99_Stokes_dRdt0.00mumps_ct1\t8/18/2024 5:27:50 PM\te7e4632a...\r\n",
       "#36: Popcorn2D_convergenceAggStokesSteadyFinal\tSolverTrue_J4096_k1_Re1000_agg0.2_ti0.000atZ_r0.6_AMRFalse_LBFalse_W9.99_Stokes_dRdt0.00mumps_ct1\t8/18/2024 5:27:34 PM\ta4275d64...\r\n",
       "#37: Popcorn2D_convergenceAggStokesSteadyFinal\tSolverTrue_J4096_k1_Re1000_agg0.1_ti0.000atZ_r0.6_AMRFalse_LBFalse_W9.99_Stokes_dRdt0.00mumps_ct1\t8/18/2024 5:27:42 PM\t7dce540c...\r\n",
       "#38: Popcorn2D_convergenceAggStokesSteadyFinal\tSolverTrue_J4096_k1_Re1000_agg0_ti0.000atZ_r0.6_AMRFalse_LBFalse_W9.99_Stokes_dRdt0.00mumps_ct1\t8/18/2024 5:27:26 PM\t7772c9ca...\r\n",
       "#39: Popcorn2D_convergenceAggStokesSteadyFinal\tSolverTrue_J1024_k3_Re1000_agg0.5_ti0.000atZ_r0.6_AMRFalse_LBFalse_W9.99_Stokes_dRdt0.00mumps_ct1\t8/18/2024 5:27:11 PM\t9a52174e...\r\n",
       "#40: Popcorn2D_convergenceAggStokesSteadyFinal\tSolverTrue_J1024_k3_Re1000_agg0.4_ti0.000atZ_r0.6_AMRFalse_LBFalse_W9.99_Stokes_dRdt0.00mumps_ct1\t8/18/2024 5:26:34 PM\t06510f6c...\r\n",
       "#41: Popcorn2D_convergenceAggStokesSteadyFinal\tSolverTrue_J1024_k3_Re1000_agg0.3_ti0.000atZ_r0.6_AMRFalse_LBFalse_W9.99_Stokes_dRdt0.00mumps_ct1\t8/18/2024 5:26:18 PM\t1906974d...\r\n",
       "#42: Popcorn2D_convergenceAggStokesSteadyFinal\tSolverTrue_J1024_k3_Re1000_agg0.2_ti0.000atZ_r0.6_AMRFalse_LBFalse_W9.99_Stokes_dRdt0.00mumps_ct1\t8/18/2024 5:26:02 PM\tb640dd63...\r\n",
       "#43: Popcorn2D_convergenceAggStokesSteadyFinal\tSolverTrue_J1024_k3_Re1000_agg0.1_ti0.000atZ_r0.6_AMRFalse_LBFalse_W9.99_Stokes_dRdt0.00mumps_ct1\t8/18/2024 5:25:45 PM\t8505baf8...\r\n",
       "#44: Popcorn2D_convergenceAggStokesSteadyFinal\tSolverTrue_J1024_k3_Re1000_agg0_ti0.000atZ_r0.6_AMRFalse_LBFalse_W9.99_Stokes_dRdt0.00mumps_ct1\t8/18/2024 5:25:52 PM\t8a737758...\r\n",
       "#45: Popcorn2D_convergenceAggStokesSteadyFinal\tSolverTrue_J1024_k2_Re1000_agg0.5_ti0.000atZ_r0.6_AMRFalse_LBFalse_W9.99_Stokes_dRdt0.00mumps_ct1\t8/18/2024 5:25:37 PM\tc408c0c0...\r\n",
       "#46: Popcorn2D_convergenceAggStokesSteadyFinal\tSolverTrue_J1024_k2_Re1000_agg0.4_ti0.000atZ_r0.6_AMRFalse_LBFalse_W9.99_Stokes_dRdt0.00mumps_ct1\t8/18/2024 5:25:22 PM\t27b5c01e...\r\n",
       "#47: Popcorn2D_convergenceAggStokesSteadyFinal\tSolverTrue_J1024_k2_Re1000_agg0.3_ti0.000atZ_r0.6_AMRFalse_LBFalse_W9.99_Stokes_dRdt0.00mumps_ct1\t8/18/2024 5:24:46 PM\t07d5fafd...\r\n",
       "#48: Popcorn2D_convergenceAggStokesSteadyFinal\tSolverTrue_J1024_k2_Re1000_agg0.2_ti0.000atZ_r0.6_AMRFalse_LBFalse_W9.99_Stokes_dRdt0.00mumps_ct1\t8/18/2024 5:24:32 PM\tf2babf9b...\r\n",
       "#49: Popcorn2D_convergenceAggStokesSteadyFinal\tSolverTrue_J1024_k2_Re1000_agg0.1_ti0.000atZ_r0.6_AMRFalse_LBFalse_W9.99_Stokes_dRdt0.00mumps_ct1\t8/18/2024 5:24:15 PM\tf5b83518...\r\n",
       "#50: Popcorn2D_convergenceAggStokesSteadyFinal\tSolverTrue_J1024_k2_Re1000_agg0_ti0.000atZ_r0.6_AMRFalse_LBFalse_W9.99_Stokes_dRdt0.00mumps_ct1\t8/18/2024 5:24:01 PM\taf0924aa...\r\n",
       "#51: Popcorn2D_convergenceAggStokesSteadyFinal\tSolverTrue_J1024_k1_Re1000_agg0.5_ti0.000atZ_r0.6_AMRFalse_LBFalse_W9.99_Stokes_dRdt0.00mumps_ct1\t8/18/2024 5:24:08 PM\ta4794ce7...\r\n",
       "#52: Popcorn2D_convergenceAggStokesSteadyFinal\tSolverTrue_J1024_k1_Re1000_agg0.4_ti0.000atZ_r0.6_AMRFalse_LBFalse_W9.99_Stokes_dRdt0.00mumps_ct1\t8/18/2024 5:23:53 PM\t948d7a57...\r\n",
       "#53: Popcorn2D_convergenceAggStokesSteadyFinal\tSolverTrue_J1024_k1_Re1000_agg0.3_ti0.000atZ_r0.6_AMRFalse_LBFalse_W9.99_Stokes_dRdt0.00mumps_ct1\t8/18/2024 5:23:39 PM\t86705345...\r\n",
       "#54: Popcorn2D_convergenceAggStokesSteadyFinal\tSolverTrue_J1024_k1_Re1000_agg0.2_ti0.000atZ_r0.6_AMRFalse_LBFalse_W9.99_Stokes_dRdt0.00mumps_ct1\t8/18/2024 5:23:03 PM\t3ec5602c...\r\n",
       "#55: Popcorn2D_convergenceAggStokesSteadyFinal\tSolverTrue_J1024_k1_Re1000_agg0.1_ti0.000atZ_r0.6_AMRFalse_LBFalse_W9.99_Stokes_dRdt0.00mumps_ct1\t8/18/2024 5:22:47 PM\t9573744d...\r\n",
       "#56: Popcorn2D_convergenceAggStokesSteadyFinal\tSolverTrue_J1024_k1_Re1000_agg0_ti0.000atZ_r0.6_AMRFalse_LBFalse_W9.99_Stokes_dRdt0.00mumps_ct1\t8/18/2024 5:22:33 PM\t0ec16f7b...\r\n",
       "#57: Popcorn2D_convergenceAggStokesSteadyFinal\tSolverTrue_J256_k3_Re1000_agg0.5_ti0.000atZ_r0.6_AMRFalse_LBFalse_W9.99_Stokes_dRdt0.00mumps_ct1\t8/18/2024 5:22:19 PM\td38b32a4...\r\n",
       "#58: Popcorn2D_convergenceAggStokesSteadyFinal\tSolverTrue_J256_k3_Re1000_agg0.4_ti0.000atZ_r0.6_AMRFalse_LBFalse_W9.99_Stokes_dRdt0.00mumps_ct1\t8/18/2024 5:22:26 PM\tf3d05c34...\r\n",
       "#59: Popcorn2D_convergenceAggStokesSteadyFinal\tSolverTrue_J256_k3_Re1000_agg0.3_ti0.000atZ_r0.6_AMRFalse_LBFalse_W9.99_Stokes_dRdt0.00mumps_ct1\t8/18/2024 5:22:10 PM\tad38c027...\r\n",
       "#60: Popcorn2D_convergenceAggStokesSteadyFinal\tSolverTrue_J256_k3_Re1000_agg0.2_ti0.000atZ_r0.6_AMRFalse_LBFalse_W9.99_Stokes_dRdt0.00mumps_ct1\t8/18/2024 5:21:55 PM\tc8ef6c6e...\r\n",
       "#61: Popcorn2D_convergenceAggStokesSteadyFinal\tSolverTrue_J256_k3_Re1000_agg0.1_ti0.000atZ_r0.6_AMRFalse_LBFalse_W9.99_Stokes_dRdt0.00mumps_ct1\t8/18/2024 5:21:19 PM\t5a6cb454...\r\n",
       "#62: Popcorn2D_convergenceAggStokesSteadyFinal\tSolverTrue_J256_k3_Re1000_agg0_ti0.000atZ_r0.6_AMRFalse_LBFalse_W9.99_Stokes_dRdt0.00mumps_ct1\t8/18/2024 5:21:04 PM\t21775f43...\r\n",
       "#63: Popcorn2D_convergenceAggStokesSteadyFinal\tSolverTrue_J256_k2_Re1000_agg0.5_ti0.000atZ_r0.6_AMRFalse_LBFalse_W9.99_Stokes_dRdt0.00mumps_ct1\t8/18/2024 5:20:49 PM\tf1d4f947...\r\n",
       "#64: Popcorn2D_convergenceAggStokesSteadyFinal\tSolverTrue_J256_k2_Re1000_agg0.4_ti0.000atZ_r0.6_AMRFalse_LBFalse_W9.99_Stokes_dRdt0.00mumps_ct1\t8/18/2024 5:20:35 PM\tdc84ecb7...\r\n",
       "#65: Popcorn2D_convergenceAggStokesSteadyFinal\tSolverTrue_J256_k2_Re1000_agg0.2_ti0.000atZ_r0.6_AMRFalse_LBFalse_W9.99_Stokes_dRdt0.00mumps_ct1\t8/18/2024 5:20:26 PM\tc2b57831...\r\n",
       "#66: Popcorn2D_convergenceAggStokesSteadyFinal\tSolverTrue_J256_k2_Re1000_agg0.3_ti0.000atZ_r0.6_AMRFalse_LBFalse_W9.99_Stokes_dRdt0.00mumps_ct1\t8/18/2024 5:20:20 PM\t9fa73852...\r\n",
       "#67: Popcorn2D_convergenceAggStokesSteadyFinal\tSolverTrue_J256_k2_Re1000_agg0.1_ti0.000atZ_r0.6_AMRFalse_LBFalse_W9.99_Stokes_dRdt0.00mumps_ct1\t8/18/2024 5:20:12 PM\tce06234c...\r\n",
       "#68: Popcorn2D_convergenceAggStokesSteadyFinal\tSolverTrue_J256_k2_Re1000_agg0_ti0.000atZ_r0.6_AMRFalse_LBFalse_W9.99_Stokes_dRdt0.00mumps_ct1\t8/18/2024 5:19:36 PM\t4490ca85...\r\n",
       "#69: Popcorn2D_convergenceAggStokesSteadyFinal\tSolverTrue_J256_k1_Re1000_agg0_ti0.000atZ_r0.6_AMRFalse_LBFalse_W9.99_Stokes_dRdt0.00mumps_ct1\t8/18/2024 5:18:07 PM\tf60205d1...\r\n",
       "#70: Popcorn2D_convergenceAggStokesSteadyFinal\tSolverTrue_J256_k1_Re1000_agg0.5_ti0.000atZ_r0.6_AMRFalse_LBFalse_W9.99_Stokes_dRdt0.00mumps_ct1\t8/18/2024 5:19:19 PM\t263db8c2...\r\n",
       "#71: Popcorn2D_convergenceAggStokesSteadyFinal\tSolverTrue_J256_k1_Re1000_agg0.4_ti0.000atZ_r0.6_AMRFalse_LBFalse_W9.99_Stokes_dRdt0.00mumps_ct1\t8/18/2024 5:19:05 PM\t771c9ecf...\r\n",
       "#72: Popcorn2D_convergenceAggStokesSteadyFinal\tSolverTrue_J256_k1_Re1000_agg0.3_ti0.000atZ_r0.6_AMRFalse_LBFalse_W9.99_Stokes_dRdt0.00mumps_ct1\t8/18/2024 5:18:51 PM\tf6a3fc87...\r\n",
       "#73: Popcorn2D_convergenceAggStokesSteadyFinal\tSolverTrue_J256_k1_Re1000_agg0.2_ti0.000atZ_r0.6_AMRFalse_LBFalse_W9.99_Stokes_dRdt0.00mumps_ct1\t8/18/2024 5:18:36 PM\t434c7a36...\r\n",
       "#74: Popcorn2D_convergenceAggStokesSteadyFinal\tSolverTrue_J256_k1_Re1000_agg0.1_ti0.000atZ_r0.6_AMRFalse_LBFalse_W9.99_Stokes_dRdt0.00mumps_ct1\t8/18/2024 5:18:21 PM\t60514454...\r\n"
      ]
     },
     "metadata": {},
     "output_type": "display_data"
    }
   ],
   "source": [
    "myDB.Sessions.Where(s => s.SuccessfulTermination == true)"
   ]
  },
  {
   "cell_type": "code",
   "execution_count": 6,
   "metadata": {
    "dotnet_interactive": {
     "language": "csharp"
    },
    "polyglot_notebook": {
     "kernelName": "csharp"
    },
    "vscode": {
     "languageId": "polyglot-notebook"
    }
   },
   "outputs": [
    {
     "data": {
      "text/plain": [
       "#0: Popcorn2D_convergenceAggStokesSteadyFinal\tSolverTrue_J65536_k3_Re1000_agg0_ti0.000atZ_r0.6_AMRFalse_LBFalse_W9.99_Stokes_dRdt0.00mumps_ct1\t8/18/2024 5:40:32 PM\t97537f4f...\r\n",
       "#1: Popcorn2D_convergenceAggStokesSteadyFinal\tSolverTrue_J65536_k2_Re1000_agg0_ti0.000atZ_r0.6_AMRFalse_LBFalse_W9.99_Stokes_dRdt0.00mumps_ct1\t8/18/2024 5:40:16 PM\t8312659c...\r\n",
       "#2: Popcorn2D_convergenceAggStokesSteadyFinal\tSolverTrue_J65536_k1_Re1000_agg0_ti0.000atZ_r0.6_AMRFalse_LBFalse_W9.99_Stokes_dRdt0.00mumps_ct1\t8/18/2024 5:40:01 PM\tbd8474e2...\r\n"
      ]
     },
     "metadata": {},
     "output_type": "display_data"
    }
   ],
   "source": [
    "var refSessions = myDB.Sessions.Where(s => s.Timesteps.First().Grid.NumberOfCells > 60000);\n",
    "refSessions"
   ]
  },
  {
   "cell_type": "code",
   "execution_count": 9,
   "metadata": {
    "dotnet_interactive": {
     "language": "csharp"
    },
    "polyglot_notebook": {
     "kernelName": "csharp"
    },
    "vscode": {
     "languageId": "polyglot-notebook"
    }
   },
   "outputs": [],
   "source": [
    "BoSSSshell.WorkflowMgm.hConvergence.Update();"
   ]
  },
  {
   "cell_type": "code",
   "execution_count": 10,
   "metadata": {
    "dotnet_interactive": {
     "language": "csharp"
    },
    "polyglot_notebook": {
     "kernelName": "csharp"
    },
    "vscode": {
     "languageId": "polyglot-notebook"
    }
   },
   "outputs": [
    {
     "name": "stdout",
     "output_type": "stream",
     "text": [
      "    AgglomerationThreshold DGdegree:Velocity* Grid:hMin Grid:NoOfCells L2Error_VelocityX     L2Error_Pressure      \n",
      "0:  0                      3                  0.0078125 65536          0                     0                     \n",
      "1:  0                      2                  0.0078125 65536          0                     0                     \n",
      "2:  0                      1                  0.0078125 65536          0                     0                     \n",
      "3:  0.4                    3                  0.015625  16384          0                     0                     \n",
      "4:  0.1                    3                  0.015625  16384          0                     0                     \n",
      "5:  0.2                    3                  0.015625  16384          0                     0                     \n",
      "6:  0.5                    3                  0.015625  16384          0                     0                     \n",
      "7:  0.3                    3                  0.015625  16384          0                     0                     \n",
      "8:  0                      3                  0.015625  16384          4.204062093794127E-06 6.189833901779185E-05 \n",
      "9:  0.5                    2                  0.015625  16384          0                     0                     \n",
      "10: 0.3                    2                  0.015625  16384          0                     0                     \n",
      "11: 0.1                    2                  0.015625  16384          0                     0                     \n",
      "12: 0.4                    2                  0.015625  16384          0                     0                     \n",
      "13: 0.2                    2                  0.015625  16384          0                     0                     \n",
      "14: 0                      2                  0.015625  16384          0.0003131711183658917 0.000637188152427208  \n",
      "15: 0.4                    1                  0.015625  16384          0                     0                     \n",
      "16: 0.3                    1                  0.015625  16384          0                     0                     \n",
      "17: 0.5                    1                  0.015625  16384          0                     0                     \n",
      "18: 0.1                    1                  0.015625  16384          0                     0                     \n",
      "19: 0.2                    1                  0.015625  16384          0                     0                     \n",
      "20: 0                      1                  0.015625  16384          0.02568468182437615   0.006571868350284255  \n",
      "21: 0.5                    3                  0.03125   4096           0                     0                     \n",
      "22: 0.3                    3                  0.03125   4096           0                     0                     \n",
      "23: 0.4                    3                  0.03125   4096           0                     0                     \n",
      "24: 0.2                    3                  0.03125   4096           0                     0                     \n",
      "25: 0.1                    3                  0.03125   4096           0                     0                     \n",
      "26: 0                      3                  0.03125   4096           3.426059149155885E-05 0.000506558722432866  \n",
      "27: 0.4                    2                  0.03125   4096           0                     0                     \n",
      "28: 0.5                    2                  0.03125   4096           0                     0                     \n",
      "29: 0.3                    2                  0.03125   4096           0                     0                     \n",
      "30: 0.2                    2                  0.03125   4096           0                     0                     \n",
      "31: 0.1                    2                  0.03125   4096           0                     0                     \n",
      "32: 0                      2                  0.03125   4096           0.001673245498306705  0.0037315437020834365 \n",
      "33: 0.5                    1                  0.03125   4096           0                     0                     \n",
      "34: 0.4                    1                  0.03125   4096           0                     0                     \n",
      "35: 0.3                    1                  0.03125   4096           0                     0                     \n",
      "36: 0.2                    1                  0.03125   4096           0                     0                     \n",
      "37: 0.1                    1                  0.03125   4096           0                     0                     \n",
      "38: 0                      1                  0.03125   4096           0.09745684766955634   0.019253221399750803  \n",
      "39: 0.5                    3                  0.0625    1024           0                     0                     \n",
      "40: 0.4                    3                  0.0625    1024           0                     0                     \n",
      "41: 0.3                    3                  0.0625    1024           0                     0                     \n",
      "42: 0.2                    3                  0.0625    1024           0                     0                     \n",
      "43: 0.1                    3                  0.0625    1024           0                     0                     \n",
      "44: 0                      3                  0.0625    1024           0.0004129531257820592 0.0037008844541846038 \n",
      "45: 0.5                    2                  0.0625    1024           0                     0                     \n",
      "46: 0.4                    2                  0.0625    1024           0                     0                     \n",
      "47: 0.3                    2                  0.0625    1024           0                     0                     \n",
      "48: 0.2                    2                  0.0625    1024           0                     0                     \n",
      "49: 0.1                    2                  0.0625    1024           0                     0                     \n",
      "50: 0                      2                  0.0625    1024           0.010927115792320615  0.015216787780747995  \n",
      "51: 0.5                    1                  0.0625    1024           0                     0                     \n",
      "52: 0.4                    1                  0.0625    1024           0                     0                     \n",
      "53: 0.3                    1                  0.0625    1024           0                     0                     \n",
      "54: 0.2                    1                  0.0625    1024           0                     0                     \n",
      "55: 0.1                    1                  0.0625    1024           0                     0                     \n",
      "56: 0                      1                  0.0625    1024           0.26674178242000207   0.04634340708637999   \n",
      "57: 0.5                    3                  0.125     256            0                     0                     \n",
      "58: 0.4                    3                  0.125     256            0                     0                     \n",
      "59: 0.3                    3                  0.125     256            0                     0                     \n",
      "60: 0.2                    3                  0.125     256            0                     0                     \n",
      "61: 0.1                    3                  0.125     256            0                     0                     \n",
      "62: 0                      3                  0.125     256            0.005840216984939042  0.016578799688335946  \n",
      "63: 0.5                    2                  0.125     256            0                     0                     \n",
      "64: 0.4                    2                  0.125     256            0                     0                     \n",
      "65: 0.2                    2                  0.125     256            0                     0                     \n",
      "66: 0.3                    2                  0.125     256            0                     0                     \n",
      "67: 0.1                    2                  0.125     256            0                     0                     \n",
      "68: 0                      2                  0.125     256            0.0662885121778361    0.04201729301604772   \n",
      "69: 0                      1                  0.125     256            0.5541562724731375    0.09242313865275897   \n",
      "70: 0.5                    1                  0.125     256            0                     0                     \n",
      "71: 0.4                    1                  0.125     256            0                     0                     \n",
      "72: 0.3                    1                  0.125     256            0                     0                     \n",
      "73: 0.2                    1                  0.125     256            0                     0                     \n",
      "74: 0.1                    1                  0.125     256            0                     0                     "
     ]
    }
   ],
   "source": [
    "var Tab = BoSSSshell.WorkflowMgm.SessionTable;\n",
    "var Tab2 = Tab.ExtractColumns( \"AgglomerationThreshold\", \"DGdegree:Velocity*\",\"Grid:hMin\",\"Grid:NoOfCells\" ,\"L2Error_\"+ \"VelocityX\", \"L2Error_\" +\"Pressure\");\n",
    "Tab2.Print();\n",
    "Tab2.SaveToFile(table_name + $\"All_at{timeStep}_summary.json\");"
   ]
  },
  {
   "cell_type": "code",
   "execution_count": 11,
   "metadata": {
    "dotnet_interactive": {
     "language": "csharp"
    },
    "polyglot_notebook": {
     "kernelName": "csharp"
    },
    "vscode": {
     "languageId": "polyglot-notebook"
    }
   },
   "outputs": [
    {
     "data": {
      "text/html": [
       "<div class=\"dni-plaintext\"><pre>256</pre></div><style>\r\n",
       ".dni-code-hint {\r\n",
       "    font-style: italic;\r\n",
       "    overflow: hidden;\r\n",
       "    white-space: nowrap;\r\n",
       "}\r\n",
       ".dni-treeview {\r\n",
       "    white-space: nowrap;\r\n",
       "}\r\n",
       ".dni-treeview td {\r\n",
       "    vertical-align: top;\r\n",
       "    text-align: start;\r\n",
       "}\r\n",
       "details.dni-treeview {\r\n",
       "    padding-left: 1em;\r\n",
       "}\r\n",
       "table td {\r\n",
       "    text-align: start;\r\n",
       "}\r\n",
       "table tr { \r\n",
       "    vertical-align: top; \r\n",
       "    margin: 0em 0px;\r\n",
       "}\r\n",
       "table tr td pre \r\n",
       "{ \r\n",
       "    vertical-align: top !important; \r\n",
       "    margin: 0em 0px !important;\r\n",
       "} \r\n",
       "table th {\r\n",
       "    text-align: start;\r\n",
       "}\r\n",
       "</style>"
      ]
     },
     "metadata": {},
     "output_type": "display_data"
    }
   ],
   "source": [
    "var grids = myDB.Sessions.Select(s => s.Timesteps.First().Grid.NumberOfCells);\n",
    "int NCellsFinestMesh =  grids.Max(); //  57600; \n",
    "Math.Sqrt(NCellsFinestMesh)"
   ]
  },
  {
   "cell_type": "code",
   "execution_count": 12,
   "metadata": {
    "dotnet_interactive": {
     "language": "csharp"
    },
    "polyglot_notebook": {
     "kernelName": "csharp"
    },
    "vscode": {
     "languageId": "polyglot-notebook"
    }
   },
   "outputs": [],
   "source": [
    "Tab2 = Tab2.ExtractRows((iRow,RowEntries)=> \n",
    "                Convert.ToInt32(RowEntries[\"Grid:NoOfCells\"]) != NCellsFinestMesh       \n",
    "                 );"
   ]
  },
  {
   "cell_type": "code",
   "execution_count": 14,
   "metadata": {
    "dotnet_interactive": {
     "language": "csharp"
    },
    "polyglot_notebook": {
     "kernelName": "csharp"
    },
    "vscode": {
     "languageId": "polyglot-notebook"
    }
   },
   "outputs": [],
   "source": [
    "using BoSSS.Solution.Gnuplot;\n",
    "using System.Linq;\n",
    "\n",
    "// arrange line color and types\n",
    "var allColors = Enum.GetValues(typeof(LineColors)).Cast<LineColors>().ToArray();\n",
    "var allPointTypes = Enum.GetValues(typeof(PointTypes)).Cast<PointTypes>().ToArray();\n",
    "PointTypes[] myPointTypes = new PointTypes[]{ PointTypes.Diamond, PointTypes.Box,  PointTypes.LowerTriangle,PointTypes.OpenLowerTriangle };\n"
   ]
  },
  {
   "cell_type": "code",
   "execution_count": 1,
   "metadata": {
    "dotnet_interactive": {
     "language": "csharp"
    },
    "polyglot_notebook": {
     "kernelName": "csharp"
    },
    "vscode": {
     "languageId": "polyglot-notebook"
    }
   },
   "outputs": [
    {
     "ename": "Error",
     "evalue": "(6,5): error CS0246: The type or namespace name 'Plot2Ddata' could not be found (are you missing a using directive or an assembly reference?)\r\n(6,35): error CS0246: The type or namespace name 'Plot2Ddata' could not be found (are you missing a using directive or an assembly reference?)\r\n(10,51): error CS0246: The type or namespace name 'LineColors' could not be found (are you missing a using directive or an assembly reference?)\r\n(10,69): error CS0246: The type or namespace name 'LineColors' could not be found (are you missing a using directive or an assembly reference?)\r\n(11,55): error CS0246: The type or namespace name 'PointTypes' could not be found (are you missing a using directive or an assembly reference?)\r\n(11,73): error CS0246: The type or namespace name 'PointTypes' could not be found (are you missing a using directive or an assembly reference?)\r\n(12,13): error CS0246: The type or namespace name 'PointTypes' could not be found (are you missing a using directive or an assembly reference?)\r\n(12,45): error CS0246: The type or namespace name 'PointTypes' could not be found (are you missing a using directive or an assembly reference?)\r\n(12,59): error CS0103: The name 'PointTypes' does not exist in the current context\r\n(12,79): error CS0103: The name 'PointTypes' does not exist in the current context\r\n(12,96): error CS0103: The name 'PointTypes' does not exist in the current context\r\n(12,121): error CS0103: The name 'PointTypes' does not exist in the current context\r\n(15,27): error CS0246: The type or namespace name 'PlotFormat' could not be found (are you missing a using directive or an assembly reference?)\r\n(16,25): error CS0103: The name 'Styles' does not exist in the current context\r\n(19,28): error CS0103: The name 'DashTypes' does not exist in the current context\r\n(22,23): error CS0103: The name 'BoSSSshell' does not exist in the current context",
     "output_type": "error",
     "traceback": [
      "(6,5): error CS0246: The type or namespace name 'Plot2Ddata' could not be found (are you missing a using directive or an assembly reference?)\r\n",
      "(6,35): error CS0246: The type or namespace name 'Plot2Ddata' could not be found (are you missing a using directive or an assembly reference?)\r\n",
      "(10,51): error CS0246: The type or namespace name 'LineColors' could not be found (are you missing a using directive or an assembly reference?)\r\n",
      "(10,69): error CS0246: The type or namespace name 'LineColors' could not be found (are you missing a using directive or an assembly reference?)\r\n",
      "(11,55): error CS0246: The type or namespace name 'PointTypes' could not be found (are you missing a using directive or an assembly reference?)\r\n",
      "(11,73): error CS0246: The type or namespace name 'PointTypes' could not be found (are you missing a using directive or an assembly reference?)\r\n",
      "(12,13): error CS0246: The type or namespace name 'PointTypes' could not be found (are you missing a using directive or an assembly reference?)\r\n",
      "(12,45): error CS0246: The type or namespace name 'PointTypes' could not be found (are you missing a using directive or an assembly reference?)\r\n",
      "(12,59): error CS0103: The name 'PointTypes' does not exist in the current context\r\n",
      "(12,79): error CS0103: The name 'PointTypes' does not exist in the current context\r\n",
      "(12,96): error CS0103: The name 'PointTypes' does not exist in the current context\r\n",
      "(12,121): error CS0103: The name 'PointTypes' does not exist in the current context\r\n",
      "(15,27): error CS0246: The type or namespace name 'PlotFormat' could not be found (are you missing a using directive or an assembly reference?)\r\n",
      "(16,25): error CS0103: The name 'Styles' does not exist in the current context\r\n",
      "(19,28): error CS0103: The name 'DashTypes' does not exist in the current context\r\n",
      "(22,23): error CS0103: The name 'BoSSSshell' does not exist in the current context"
     ]
    }
   ],
   "source": [
    "string xVarName = \"Grid:hMin\";\n",
    "string yVarName = \"L2error_VelocityX\";\n",
    "int dgDegree = 1;\n",
    "\n",
    "// Filter rows depending on selection\n",
    "var Tab3 = Tab2.ExtractRows((iRow,RowEntries)=> \n",
    "                //Convert.ToDouble(RowEntries[\"AgglomerationThreshold\"]) == 0 &&\n",
    "                Convert.ToDouble(RowEntries[\"DGdegree:Velocity*\"]) == dgDegree\n",
    "            );\n",
    "\n",
    "// Sort in ascending order of AgglomerationThreshold\n",
    "System.Data.DataView view = Tab3.DefaultView;\n",
    "view.Sort = \"AgglomerationThreshold ASC\"; \n",
    "Tab3 = view.ToTable();\n",
    "\n",
    "Tab3.Print()\n"
   ]
  },
  {
   "cell_type": "code",
   "execution_count": null,
   "metadata": {
    "dotnet_interactive": {
     "language": "csharp"
    },
    "polyglot_notebook": {
     "kernelName": "csharp"
    },
    "vscode": {
     "languageId": "polyglot-notebook"
    }
   },
   "outputs": [],
   "source": [
    "Plot2Ddata plot = new Plot2Ddata();"
   ]
  },
  {
   "cell_type": "code",
   "execution_count": null,
   "metadata": {
    "dotnet_interactive": {
     "language": "csharp"
    },
    "polyglot_notebook": {
     "kernelName": "csharp"
    },
    "vscode": {
     "languageId": "polyglot-notebook"
    }
   },
   "outputs": [],
   "source": [
    "var plot = Tab3.ToPlot(xVarName, yVarName,  \"AgglomerationThreshold\");\n",
    "plot.LogY = true;\n",
    "plot.LogX = true;\n",
    "        for (int i = 0; i < plot.dataGroups.Length; i++){\n",
    "            var dataGroup = plot.dataGroups[i];\n",
    "            dataGroup.Format.LineColor = allColors[i % allColors.Length];\n",
    "            dataGroup.Format.PointType = myPointTypes[i % myPointTypes.Length];\n",
    "        }   \n",
    "plot.PlotNow()"
   ]
  },
  {
   "cell_type": "code",
   "execution_count": null,
   "metadata": {
    "dotnet_interactive": {
     "language": "csharp"
    },
    "polyglot_notebook": {
     "kernelName": "csharp"
    },
    "vscode": {
     "languageId": "polyglot-notebook"
    }
   },
   "outputs": [],
   "source": [
    "plot.SaveToGIF(yVarName + \"_k\" + dgDegree + \"_2D.png\");\n",
    "plot.SavePgfplotsFile(yVarName + \"_k\" + dgDegree + \"_2D.tex\");"
   ]
  },
  {
   "cell_type": "code",
   "execution_count": null,
   "metadata": {
    "dotnet_interactive": {
     "language": "csharp"
    },
    "polyglot_notebook": {
     "kernelName": "csharp"
    },
    "vscode": {
     "languageId": "polyglot-notebook"
    }
   },
   "outputs": [],
   "source": [
    "plot.Regression()"
   ]
  },
  {
   "cell_type": "code",
   "execution_count": 20,
   "metadata": {
    "dotnet_interactive": {
     "language": "csharp"
    },
    "polyglot_notebook": {
     "kernelName": "csharp"
    },
    "vscode": {
     "languageId": "polyglot-notebook"
    }
   },
   "outputs": [
    {
     "name": "stdout",
     "output_type": "stream",
     "text": [
      "Using gnuplot: C:\\Program Files (x86)\\FDY\\BoSSS\\bin\\native\\win\\gnuplot-gp510-20160418-win32-mingw\\gnuplot\\bin\\gnuplot.exe\n",
      "Note: In a Jupyter Worksheet, you must NOT have a trailing semicolon in order to see the plot on screen; otherwise, the output migth be surpressed.!\n"
     ]
    },
    {
     "name": "stderr",
     "output_type": "stream",
     "text": [
      "Gnuplot Error: \r\n",
      "multiplot> plot \"C:/Users/toprak/AppData/Local/Temp/ca6677f1-e2b4-4886-bcf5-377f383a3c1d\" title \"DGdegree:Velocity*3\" with linespoints linecolor  \"red\" dashtype 1 linewidth 1 pointtype 13 pointsize 0.7, \"C:/Users/toprak/AppData/Local/Temp/61c51368-eab6-4ee6-8974-81440f28c67d\" title \"DGdegree:Velocity*2\" with linespoints linecolor  \"green\" dashtype 1 linewidth 1 pointtype 5 pointsize 0.7, \"C:/Users/toprak/AppData/Local/Temp/fe7c81a8-b32f-44b6-a98e-d0962154f86a\" title \"DGdegree:Velocity*1\" with linespoints linecolor  \"blue\" dashtype 1 linewidth 1 pointtype 9 pointsize 0.7\r\n",
      "                                                                                                                                                                                                                                                                                                                                                                                                                                                                                                                                                                                                ^\r\n",
      "           line 0: all points y value undefined!\r\n",
      "\r\n",
      "\r\n"
     ]
    },
    {
     "data": {
      "text/html": [
       "<?xml version=\"1.0\" encoding=\"utf-8\"  standalone=\"no\"?>\n",
       "<!DOCTYPE svg PUBLIC \"-//W3C//DTD SVG 1.1//EN\"\n",
       " \"http://www.w3.org/Graphics/SVG/1.1/DTD/svg11.dtd\">\n",
       "<svg \n",
       " width=\"800\" height=\"600\"\n",
       " viewBox=\"0 0 800 600\"\n",
       " xmlns=\"http://www.w3.org/2000/svg\"\n",
       " xmlns:xlink=\"http://www.w3.org/1999/xlink\"\n",
       ">\n",
       "\n",
       "<title>Gnuplot</title>\n",
       "<desc>Produced by GNUPLOT 5.1 patchlevel 0 </desc>\n",
       "\n",
       "<g id=\"gnuplot_canvas\">\n",
       "\n",
       "<rect x=\"0\" y=\"0\" width=\"800\" height=\"600\" fill=\"#ffffff\"/>\n",
       "<defs>\n",
       "\n",
       "\t<circle id='gpDot' r='0.5' stroke-width='0.5'/>\n",
       "\t<path id='gpPt0' stroke-width='0.222' stroke='currentColor' d='M-1,0 h2 M0,-1 v2'/>\n",
       "\t<path id='gpPt1' stroke-width='0.222' stroke='currentColor' d='M-1,-1 L1,1 M1,-1 L-1,1'/>\n",
       "\t<path id='gpPt2' stroke-width='0.222' stroke='currentColor' d='M-1,0 L1,0 M0,-1 L0,1 M-1,-1 L1,1 M-1,1 L1,-1'/>\n",
       "\t<rect id='gpPt3' stroke-width='0.222' stroke='currentColor' x='-1' y='-1' width='2' height='2'/>\n",
       "\t<rect id='gpPt4' stroke-width='0.222' stroke='currentColor' fill='currentColor' x='-1' y='-1' width='2' height='2'/>\n",
       "\t<circle id='gpPt5' stroke-width='0.222' stroke='currentColor' cx='0' cy='0' r='1'/>\n",
       "\t<use xlink:href='#gpPt5' id='gpPt6' fill='currentColor' stroke='none'/>\n",
       "\t<path id='gpPt7' stroke-width='0.222' stroke='currentColor' d='M0,-1.33 L-1.33,0.67 L1.33,0.67 z'/>\n",
       "\t<use xlink:href='#gpPt7' id='gpPt8' fill='currentColor' stroke='none'/>\n",
       "\t<use xlink:href='#gpPt7' id='gpPt9' stroke='currentColor' transform='rotate(180)'/>\n",
       "\t<use xlink:href='#gpPt9' id='gpPt10' fill='currentColor' stroke='none'/>\n",
       "\t<use xlink:href='#gpPt3' id='gpPt11' stroke='currentColor' transform='rotate(45)'/>\n",
       "\t<use xlink:href='#gpPt11' id='gpPt12' fill='currentColor' stroke='none'/>\n",
       "\t<path id='gpPt13' stroke-width='0.222' stroke='currentColor' d='M0,1.330 L1.265,0.411 L0.782,-1.067 L-0.782,-1.076 L-1.265,0.411 z'/>\n",
       "\t<use xlink:href='#gpPt13' id='gpPt14' fill='currentColor' stroke='none'/>\n",
       "\t<filter id='textbox' filterUnits='objectBoundingBox' x='0' y='0' height='1' width='1'>\n",
       "\t  <feFlood flood-color='#FFFFFF' flood-opacity='1' result='bgnd'/>\n",
       "\t  <feComposite in='SourceGraphic' in2='bgnd' operator='atop'/>\n",
       "\t</filter>\n",
       "\t<filter id='greybox' filterUnits='objectBoundingBox' x='0' y='0' height='1' width='1'>\n",
       "\t  <feFlood flood-color='lightgrey' flood-opacity='1' result='grey'/>\n",
       "\t  <feComposite in='SourceGraphic' in2='grey' operator='atop'/>\n",
       "\t</filter>\n",
       "</defs>\n",
       "<g fill=\"none\" color=\"#FFFFFF\" stroke=\"currentColor\" stroke-width=\"1.00\" stroke-linecap=\"butt\" stroke-linejoin=\"miter\">\n",
       "</g>\n",
       "<g fill=\"none\" color=\"black\" stroke=\"currentColor\" stroke-width=\"1.00\" stroke-linecap=\"butt\" stroke-linejoin=\"miter\">\n",
       "\t<path stroke='black'  d='M67.5,239.5 L76.5,239.5 M346.1,239.5 L337.1,239.5  '/>\t<g transform=\"translate(59.2,245.5)\" stroke=\"none\" fill=\"black\" font-family=\"sans\" font-size=\"16.00\"  text-anchor=\"end\">\n",
       "\t\t<text><tspan font-family=\"sans\" >10</tspan><tspan font-family=\"sans\"  font-size=\"12.8\" dy=\"-8.00px\">-6</tspan><tspan font-size=\"16.0\" dy=\"8.00\"></tspan></text>\n",
       "\t</g>\n",
       "</g>\n",
       "<g fill=\"none\" color=\"black\" stroke=\"currentColor\" stroke-width=\"1.00\" stroke-linecap=\"butt\" stroke-linejoin=\"miter\">\n",
       "\t<path stroke='black'  d='M67.5,231.1 L72.0,231.1 M346.1,231.1 L341.6,231.1 M67.5,220.0 L72.0,220.0 M346.1,220.0 L341.6,220.0\n",
       "\t\tM67.5,214.3 L72.0,214.3 M346.1,214.3 L341.6,214.3 M67.5,211.6 L76.5,211.6 M346.1,211.6 L337.1,211.6\n",
       "\t\t '/>\t<g transform=\"translate(59.2,217.6)\" stroke=\"none\" fill=\"black\" font-family=\"sans\" font-size=\"16.00\"  text-anchor=\"end\">\n",
       "\t\t<text><tspan font-family=\"sans\" >10</tspan><tspan font-family=\"sans\"  font-size=\"12.8\" dy=\"-8.00px\">-5</tspan><tspan font-size=\"16.0\" dy=\"8.00\"></tspan></text>\n",
       "\t</g>\n",
       "</g>\n",
       "<g fill=\"none\" color=\"black\" stroke=\"currentColor\" stroke-width=\"1.00\" stroke-linecap=\"butt\" stroke-linejoin=\"miter\">\n",
       "\t<path stroke='black'  d='M67.5,203.2 L72.0,203.2 M346.1,203.2 L341.6,203.2 M67.5,192.1 L72.0,192.1 M346.1,192.1 L341.6,192.1\n",
       "\t\tM67.5,186.4 L72.0,186.4 M346.1,186.4 L341.6,186.4 M67.5,183.7 L76.5,183.7 M346.1,183.7 L337.1,183.7\n",
       "\t\t '/>\t<g transform=\"translate(59.2,189.7)\" stroke=\"none\" fill=\"black\" font-family=\"sans\" font-size=\"16.00\"  text-anchor=\"end\">\n",
       "\t\t<text><tspan font-family=\"sans\" >10</tspan><tspan font-family=\"sans\"  font-size=\"12.8\" dy=\"-8.00px\">-4</tspan><tspan font-size=\"16.0\" dy=\"8.00\"></tspan></text>\n",
       "\t</g>\n",
       "</g>\n",
       "<g fill=\"none\" color=\"black\" stroke=\"currentColor\" stroke-width=\"1.00\" stroke-linecap=\"butt\" stroke-linejoin=\"miter\">\n",
       "\t<path stroke='black'  d='M67.5,175.3 L72.0,175.3 M346.1,175.3 L341.6,175.3 M67.5,164.2 L72.0,164.2 M346.1,164.2 L341.6,164.2\n",
       "\t\tM67.5,158.5 L72.0,158.5 M346.1,158.5 L341.6,158.5 M67.5,155.8 L76.5,155.8 M346.1,155.8 L337.1,155.8\n",
       "\t\t '/>\t<g transform=\"translate(59.2,161.8)\" stroke=\"none\" fill=\"black\" font-family=\"sans\" font-size=\"16.00\"  text-anchor=\"end\">\n",
       "\t\t<text><tspan font-family=\"sans\" >10</tspan><tspan font-family=\"sans\"  font-size=\"12.8\" dy=\"-8.00px\">-3</tspan><tspan font-size=\"16.0\" dy=\"8.00\"></tspan></text>\n",
       "\t</g>\n",
       "</g>\n",
       "<g fill=\"none\" color=\"black\" stroke=\"currentColor\" stroke-width=\"1.00\" stroke-linecap=\"butt\" stroke-linejoin=\"miter\">\n",
       "\t<path stroke='black'  d='M67.5,147.4 L72.0,147.4 M346.1,147.4 L341.6,147.4 M67.5,136.3 L72.0,136.3 M346.1,136.3 L341.6,136.3\n",
       "\t\tM67.5,130.6 L72.0,130.6 M346.1,130.6 L341.6,130.6 M67.5,127.9 L76.5,127.9 M346.1,127.9 L337.1,127.9\n",
       "\t\t '/>\t<g transform=\"translate(59.2,133.9)\" stroke=\"none\" fill=\"black\" font-family=\"sans\" font-size=\"16.00\"  text-anchor=\"end\">\n",
       "\t\t<text><tspan font-family=\"sans\" >10</tspan><tspan font-family=\"sans\"  font-size=\"12.8\" dy=\"-8.00px\">-2</tspan><tspan font-size=\"16.0\" dy=\"8.00\"></tspan></text>\n",
       "\t</g>\n",
       "</g>\n",
       "<g fill=\"none\" color=\"black\" stroke=\"currentColor\" stroke-width=\"1.00\" stroke-linecap=\"butt\" stroke-linejoin=\"miter\">\n",
       "\t<path stroke='black'  d='M67.5,119.5 L72.0,119.5 M346.1,119.5 L341.6,119.5 M67.5,108.4 L72.0,108.4 M346.1,108.4 L341.6,108.4\n",
       "\t\tM67.5,102.7 L72.0,102.7 M346.1,102.7 L341.6,102.7 M67.5,100.0 L76.5,100.0 M346.1,100.0 L337.1,100.0\n",
       "\t\t '/>\t<g transform=\"translate(59.2,106.0)\" stroke=\"none\" fill=\"black\" font-family=\"sans\" font-size=\"16.00\"  text-anchor=\"end\">\n",
       "\t\t<text><tspan font-family=\"sans\" >10</tspan><tspan font-family=\"sans\"  font-size=\"12.8\" dy=\"-8.00px\">-1</tspan><tspan font-size=\"16.0\" dy=\"8.00\"></tspan></text>\n",
       "\t</g>\n",
       "</g>\n",
       "<g fill=\"none\" color=\"black\" stroke=\"currentColor\" stroke-width=\"1.00\" stroke-linecap=\"butt\" stroke-linejoin=\"miter\">\n",
       "\t<path stroke='black'  d='M67.5,91.6 L72.0,91.6 M346.1,91.6 L341.6,91.6 M67.5,80.5 L72.0,80.5 M346.1,80.5 L341.6,80.5\n",
       "\t\tM67.5,74.8 L72.0,74.8 M346.1,74.8 L341.6,74.8 M67.5,72.1 L76.5,72.1 M346.1,72.1 L337.1,72.1\n",
       "\t\t '/>\t<g transform=\"translate(59.2,78.1)\" stroke=\"none\" fill=\"black\" font-family=\"sans\" font-size=\"16.00\"  text-anchor=\"end\">\n",
       "\t\t<text><tspan font-family=\"sans\" >10</tspan><tspan font-family=\"sans\"  font-size=\"12.8\" dy=\"-8.00px\">0</tspan><tspan font-size=\"16.0\" dy=\"8.00\"></tspan></text>\n",
       "\t</g>\n",
       "</g>\n",
       "<g fill=\"none\" color=\"black\" stroke=\"currentColor\" stroke-width=\"1.00\" stroke-linecap=\"butt\" stroke-linejoin=\"miter\">\n",
       "\t<path stroke='black'  d='M67.5,239.5 L67.5,230.5 M67.5,72.1 L67.5,81.1  '/>\t<g transform=\"translate(67.5,270.7)\" stroke=\"none\" fill=\"black\" font-family=\"sans\" font-size=\"16.00\"  text-anchor=\"middle\">\n",
       "\t\t<text><tspan font-family=\"sans\" >10</tspan><tspan font-family=\"sans\"  font-size=\"12.8\" dy=\"-8.00px\">-2</tspan><tspan font-size=\"16.0\" dy=\"8.00\"></tspan></text>\n",
       "\t</g>\n",
       "</g>\n",
       "<g fill=\"none\" color=\"black\" stroke=\"currentColor\" stroke-width=\"1.00\" stroke-linecap=\"butt\" stroke-linejoin=\"miter\">\n",
       "\t<path stroke='black'  d='M109.4,239.5 L109.4,235.0 M109.4,72.1 L109.4,76.6 M134.0,239.5 L134.0,235.0 M134.0,72.1 L134.0,76.6\n",
       "\t\tM151.4,239.5 L151.4,235.0 M151.4,72.1 L151.4,76.6 M164.9,239.5 L164.9,235.0 M164.9,72.1 L164.9,76.6\n",
       "\t\tM175.9,239.5 L175.9,235.0 M175.9,72.1 L175.9,76.6 M185.2,239.5 L185.2,235.0 M185.2,72.1 L185.2,76.6\n",
       "\t\tM193.3,239.5 L193.3,235.0 M193.3,72.1 L193.3,76.6 M200.4,239.5 L200.4,235.0 M200.4,72.1 L200.4,76.6\n",
       "\t\tM206.8,239.5 L206.8,230.5 M206.8,72.1 L206.8,81.1  '/>\t<g transform=\"translate(206.8,270.7)\" stroke=\"none\" fill=\"black\" font-family=\"sans\" font-size=\"16.00\"  text-anchor=\"middle\">\n",
       "\t\t<text><tspan font-family=\"sans\" >10</tspan><tspan font-family=\"sans\"  font-size=\"12.8\" dy=\"-8.00px\">-1</tspan><tspan font-size=\"16.0\" dy=\"8.00\"></tspan></text>\n",
       "\t</g>\n",
       "</g>\n",
       "<g fill=\"none\" color=\"black\" stroke=\"currentColor\" stroke-width=\"1.00\" stroke-linecap=\"butt\" stroke-linejoin=\"miter\">\n",
       "\t<path stroke='black'  d='M248.7,239.5 L248.7,235.0 M248.7,72.1 L248.7,76.6 M273.3,239.5 L273.3,235.0 M273.3,72.1 L273.3,76.6\n",
       "\t\tM290.7,239.5 L290.7,235.0 M290.7,72.1 L290.7,76.6 M304.2,239.5 L304.2,235.0 M304.2,72.1 L304.2,76.6\n",
       "\t\tM315.2,239.5 L315.2,235.0 M315.2,72.1 L315.2,76.6 M324.5,239.5 L324.5,235.0 M324.5,72.1 L324.5,76.6\n",
       "\t\tM332.6,239.5 L332.6,235.0 M332.6,72.1 L332.6,76.6 M339.7,239.5 L339.7,235.0 M339.7,72.1 L339.7,76.6\n",
       "\t\tM346.1,239.5 L346.1,230.5 M346.1,72.1 L346.1,81.1  '/>\t<g transform=\"translate(346.1,270.7)\" stroke=\"none\" fill=\"black\" font-family=\"sans\" font-size=\"16.00\"  text-anchor=\"middle\">\n",
       "\t\t<text><tspan font-family=\"sans\" >10</tspan><tspan font-family=\"sans\"  font-size=\"12.8\" dy=\"-8.00px\">0</tspan><tspan font-size=\"16.0\" dy=\"8.00\"></tspan></text>\n",
       "\t</g>\n",
       "</g>\n",
       "<g fill=\"none\" color=\"black\" stroke=\"currentColor\" stroke-width=\"1.00\" stroke-linecap=\"butt\" stroke-linejoin=\"miter\">\n",
       "\t<path stroke='black'  d='M346.1,239.5 L337.1,239.5  '/>\t<g transform=\"translate(354.4,244.0)\" stroke=\"none\" fill=\"black\" font-family=\"Arial\" font-size=\"12.00\"  text-anchor=\"start\">\n",
       "\t\t<text><tspan font-family=\"Arial\" > </tspan></text>\n",
       "\t</g>\n",
       "</g>\n",
       "<g fill=\"none\" color=\"black\" stroke=\"currentColor\" stroke-width=\"1.00\" stroke-linecap=\"butt\" stroke-linejoin=\"miter\">\n",
       "\t<path stroke='black'  d='M346.1,211.6 L337.1,211.6  '/>\t<g transform=\"translate(354.4,216.1)\" stroke=\"none\" fill=\"black\" font-family=\"Arial\" font-size=\"12.00\"  text-anchor=\"start\">\n",
       "\t\t<text><tspan font-family=\"Arial\" > </tspan></text>\n",
       "\t</g>\n",
       "</g>\n",
       "<g fill=\"none\" color=\"black\" stroke=\"currentColor\" stroke-width=\"1.00\" stroke-linecap=\"butt\" stroke-linejoin=\"miter\">\n",
       "\t<path stroke='black'  d='M346.1,183.7 L337.1,183.7  '/>\t<g transform=\"translate(354.4,188.2)\" stroke=\"none\" fill=\"black\" font-family=\"Arial\" font-size=\"12.00\"  text-anchor=\"start\">\n",
       "\t\t<text><tspan font-family=\"Arial\" > </tspan></text>\n",
       "\t</g>\n",
       "</g>\n",
       "<g fill=\"none\" color=\"black\" stroke=\"currentColor\" stroke-width=\"1.00\" stroke-linecap=\"butt\" stroke-linejoin=\"miter\">\n",
       "\t<path stroke='black'  d='M346.1,155.8 L337.1,155.8  '/>\t<g transform=\"translate(354.4,160.3)\" stroke=\"none\" fill=\"black\" font-family=\"Arial\" font-size=\"12.00\"  text-anchor=\"start\">\n",
       "\t\t<text><tspan font-family=\"Arial\" > </tspan></text>\n",
       "\t</g>\n",
       "</g>\n",
       "<g fill=\"none\" color=\"black\" stroke=\"currentColor\" stroke-width=\"1.00\" stroke-linecap=\"butt\" stroke-linejoin=\"miter\">\n",
       "\t<path stroke='black'  d='M346.1,127.9 L337.1,127.9  '/>\t<g transform=\"translate(354.4,132.4)\" stroke=\"none\" fill=\"black\" font-family=\"Arial\" font-size=\"12.00\"  text-anchor=\"start\">\n",
       "\t\t<text><tspan font-family=\"Arial\" > </tspan></text>\n",
       "\t</g>\n",
       "</g>\n",
       "<g fill=\"none\" color=\"black\" stroke=\"currentColor\" stroke-width=\"1.00\" stroke-linecap=\"butt\" stroke-linejoin=\"miter\">\n",
       "\t<path stroke='black'  d='M346.1,100.0 L337.1,100.0  '/>\t<g transform=\"translate(354.4,104.5)\" stroke=\"none\" fill=\"black\" font-family=\"Arial\" font-size=\"12.00\"  text-anchor=\"start\">\n",
       "\t\t<text><tspan font-family=\"Arial\" > </tspan></text>\n",
       "\t</g>\n",
       "</g>\n",
       "<g fill=\"none\" color=\"black\" stroke=\"currentColor\" stroke-width=\"1.00\" stroke-linecap=\"butt\" stroke-linejoin=\"miter\">\n",
       "\t<path stroke='black'  d='M346.1,72.1 L337.1,72.1  '/>\t<g transform=\"translate(354.4,76.6)\" stroke=\"none\" fill=\"black\" font-family=\"Arial\" font-size=\"12.00\"  text-anchor=\"start\">\n",
       "\t\t<text><tspan font-family=\"Arial\" > </tspan></text>\n",
       "\t</g>\n",
       "</g>\n",
       "<g fill=\"none\" color=\"black\" stroke=\"currentColor\" stroke-width=\"1.00\" stroke-linecap=\"butt\" stroke-linejoin=\"miter\">\n",
       "\t<path stroke='black'  d='M67.5,72.1 L67.5,81.1  '/>\t<g transform=\"translate(67.5,58.6)\" stroke=\"none\" fill=\"black\" font-family=\"Arial\" font-size=\"12.00\"  text-anchor=\"middle\">\n",
       "\t\t<text><tspan font-family=\"Arial\" > </tspan></text>\n",
       "\t</g>\n",
       "</g>\n",
       "<g fill=\"none\" color=\"black\" stroke=\"currentColor\" stroke-width=\"1.00\" stroke-linecap=\"butt\" stroke-linejoin=\"miter\">\n",
       "\t<path stroke='black'  d='M95.4,72.1 L95.4,81.1  '/>\t<g transform=\"translate(95.4,58.6)\" stroke=\"none\" fill=\"black\" font-family=\"Arial\" font-size=\"12.00\"  text-anchor=\"middle\">\n",
       "\t\t<text><tspan font-family=\"Arial\" > </tspan></text>\n",
       "\t</g>\n",
       "</g>\n",
       "<g fill=\"none\" color=\"black\" stroke=\"currentColor\" stroke-width=\"1.00\" stroke-linecap=\"butt\" stroke-linejoin=\"miter\">\n",
       "\t<path stroke='black'  d='M123.2,72.1 L123.2,81.1  '/>\t<g transform=\"translate(123.2,58.6)\" stroke=\"none\" fill=\"black\" font-family=\"Arial\" font-size=\"12.00\"  text-anchor=\"middle\">\n",
       "\t\t<text><tspan font-family=\"Arial\" > </tspan></text>\n",
       "\t</g>\n",
       "</g>\n",
       "<g fill=\"none\" color=\"black\" stroke=\"currentColor\" stroke-width=\"1.00\" stroke-linecap=\"butt\" stroke-linejoin=\"miter\">\n",
       "\t<path stroke='black'  d='M151.1,72.1 L151.1,81.1  '/>\t<g transform=\"translate(151.1,58.6)\" stroke=\"none\" fill=\"black\" font-family=\"Arial\" font-size=\"12.00\"  text-anchor=\"middle\">\n",
       "\t\t<text><tspan font-family=\"Arial\" > </tspan></text>\n",
       "\t</g>\n",
       "</g>\n",
       "<g fill=\"none\" color=\"black\" stroke=\"currentColor\" stroke-width=\"1.00\" stroke-linecap=\"butt\" stroke-linejoin=\"miter\">\n",
       "\t<path stroke='black'  d='M178.9,72.1 L178.9,81.1  '/>\t<g transform=\"translate(178.9,58.6)\" stroke=\"none\" fill=\"black\" font-family=\"Arial\" font-size=\"12.00\"  text-anchor=\"middle\">\n",
       "\t\t<text><tspan font-family=\"Arial\" > </tspan></text>\n",
       "\t</g>\n",
       "</g>\n",
       "<g fill=\"none\" color=\"black\" stroke=\"currentColor\" stroke-width=\"1.00\" stroke-linecap=\"butt\" stroke-linejoin=\"miter\">\n",
       "\t<path stroke='black'  d='M206.8,72.1 L206.8,81.1  '/>\t<g transform=\"translate(206.8,58.6)\" stroke=\"none\" fill=\"black\" font-family=\"Arial\" font-size=\"12.00\"  text-anchor=\"middle\">\n",
       "\t\t<text><tspan font-family=\"Arial\" > </tspan></text>\n",
       "\t</g>\n",
       "</g>\n",
       "<g fill=\"none\" color=\"black\" stroke=\"currentColor\" stroke-width=\"1.00\" stroke-linecap=\"butt\" stroke-linejoin=\"miter\">\n",
       "\t<path stroke='black'  d='M234.7,72.1 L234.7,81.1  '/>\t<g transform=\"translate(234.7,58.6)\" stroke=\"none\" fill=\"black\" font-family=\"Arial\" font-size=\"12.00\"  text-anchor=\"middle\">\n",
       "\t\t<text><tspan font-family=\"Arial\" > </tspan></text>\n",
       "\t</g>\n",
       "</g>\n",
       "<g fill=\"none\" color=\"black\" stroke=\"currentColor\" stroke-width=\"1.00\" stroke-linecap=\"butt\" stroke-linejoin=\"miter\">\n",
       "\t<path stroke='black'  d='M262.5,72.1 L262.5,81.1  '/>\t<g transform=\"translate(262.5,58.6)\" stroke=\"none\" fill=\"black\" font-family=\"Arial\" font-size=\"12.00\"  text-anchor=\"middle\">\n",
       "\t\t<text><tspan font-family=\"Arial\" > </tspan></text>\n",
       "\t</g>\n",
       "</g>\n",
       "<g fill=\"none\" color=\"black\" stroke=\"currentColor\" stroke-width=\"1.00\" stroke-linecap=\"butt\" stroke-linejoin=\"miter\">\n",
       "\t<path stroke='black'  d='M290.4,72.1 L290.4,81.1  '/>\t<g transform=\"translate(290.4,58.6)\" stroke=\"none\" fill=\"black\" font-family=\"Arial\" font-size=\"12.00\"  text-anchor=\"middle\">\n",
       "\t\t<text><tspan font-family=\"Arial\" > </tspan></text>\n",
       "\t</g>\n",
       "</g>\n",
       "<g fill=\"none\" color=\"black\" stroke=\"currentColor\" stroke-width=\"1.00\" stroke-linecap=\"butt\" stroke-linejoin=\"miter\">\n",
       "\t<path stroke='black'  d='M318.2,72.1 L318.2,81.1  '/>\t<g transform=\"translate(318.2,58.6)\" stroke=\"none\" fill=\"black\" font-family=\"Arial\" font-size=\"12.00\"  text-anchor=\"middle\">\n",
       "\t\t<text><tspan font-family=\"Arial\" > </tspan></text>\n",
       "\t</g>\n",
       "</g>\n",
       "<g fill=\"none\" color=\"black\" stroke=\"currentColor\" stroke-width=\"1.00\" stroke-linecap=\"butt\" stroke-linejoin=\"miter\">\n",
       "\t<path stroke='black'  d='M346.1,72.1 L346.1,81.1  '/>\t<g transform=\"translate(346.1,58.6)\" stroke=\"none\" fill=\"black\" font-family=\"Arial\" font-size=\"12.00\"  text-anchor=\"middle\">\n",
       "\t\t<text><tspan font-family=\"Arial\" > </tspan></text>\n",
       "\t</g>\n",
       "</g>\n",
       "<g fill=\"none\" color=\"black\" stroke=\"currentColor\" stroke-width=\"1.00\" stroke-linecap=\"butt\" stroke-linejoin=\"miter\">\n",
       "</g>\n",
       "<g fill=\"none\" color=\"black\" stroke=\"currentColor\" stroke-width=\"1.00\" stroke-linecap=\"butt\" stroke-linejoin=\"miter\">\n",
       "\t<path stroke='black'  d='M67.5,72.1 L67.5,239.5 L346.1,239.5 L346.1,72.1 L67.5,72.1 Z  '/></g>\n",
       "<g fill=\"none\" color=\"black\" stroke=\"currentColor\" stroke-width=\"1.00\" stroke-linecap=\"butt\" stroke-linejoin=\"miter\">\n",
       "\t<g transform=\"translate(21.5,155.8) rotate(270)\" stroke=\"none\" fill=\"black\" font-family=\"Arial\" font-size=\"12.00\"  text-anchor=\"middle\">\n",
       "\t\t<text><tspan font-family=\"Arial\" >L</tspan><tspan font-family=\"Arial\"  font-size=\"9.6\" dy=\"3.60px\">2</tspan><tspan font-family=\"Arial\"  font-size=\"12.0\" dy=\"-3.60px\"> Error</tspan></text>\n",
       "\t</g>\n",
       "</g>\n",
       "<g fill=\"none\" color=\"black\" stroke=\"currentColor\" stroke-width=\"1.00\" stroke-linecap=\"butt\" stroke-linejoin=\"miter\">\n",
       "\t<g transform=\"translate(206.8,289.0)\" stroke=\"none\" fill=\"black\" font-family=\"Arial\" font-size=\"12.00\"  text-anchor=\"middle\">\n",
       "\t\t<text><tspan font-family=\"Arial\" >h</tspan></text>\n",
       "\t</g>\n",
       "</g>\n",
       "<g fill=\"none\" color=\"black\" stroke=\"currentColor\" stroke-width=\"1.00\" stroke-linecap=\"butt\" stroke-linejoin=\"miter\">\n",
       "\t<g transform=\"translate(206.8,15.8)\" stroke=\"none\" fill=\"black\" font-family=\"Arial\" font-size=\"10.00\"  text-anchor=\"middle\">\n",
       "\t\t<text><tspan font-family=\"Arial\" >VelocityX</tspan></text>\n",
       "\t</g>\n",
       "</g>\n",
       "\t<g id=\"gnuplot_plot_1a\" ><title>DGdegree:Velocity*3</title>\n",
       "<g fill=\"none\" color=\"black\" stroke=\"currentColor\" stroke-width=\"1.00\" stroke-linecap=\"butt\" stroke-linejoin=\"miter\">\n",
       "\t<g transform=\"translate(126.9,99.1)\" stroke=\"none\" fill=\"black\" font-family=\"Arial\" font-size=\"16.00\"  text-anchor=\"start\">\n",
       "\t\t<text><tspan font-family=\"Arial\" >DGdegree:Velocity*3</tspan></text>\n",
       "\t</g>\n",
       "</g>\n",
       "<g fill=\"none\" color=\"black\" stroke=\"currentColor\" stroke-width=\"1.00\" stroke-linecap=\"butt\" stroke-linejoin=\"miter\">\n",
       "\t<path stroke='rgb(255,   0,   0)'  d='M62.4,93.1 L115.8,93.1 M94.5,222.1 L136.4,196.7 L178.4,166.5 L220.3,134.4  '/>\t<use xlink:href='#gpPt12' transform='translate(94.5,222.1) scale(3.15)' color='rgb(255,   0,   0)'/>\n",
       "\t<use xlink:href='#gpPt12' transform='translate(136.4,196.7) scale(3.15)' color='rgb(255,   0,   0)'/>\n",
       "\t<use xlink:href='#gpPt12' transform='translate(178.4,166.5) scale(3.15)' color='rgb(255,   0,   0)'/>\n",
       "\t<use xlink:href='#gpPt12' transform='translate(220.3,134.4) scale(3.15)' color='rgb(255,   0,   0)'/>\n",
       "\t<use xlink:href='#gpPt12' transform='translate(89.1,93.1) scale(3.15)' color='rgb(255,   0,   0)'/>\n",
       "</g>\n",
       "\t</g>\n",
       "\t<g id=\"gnuplot_plot_2a\" ><title>DGdegree:Velocity*2</title>\n",
       "<g fill=\"none\" color=\"black\" stroke=\"currentColor\" stroke-width=\"1.00\" stroke-linecap=\"butt\" stroke-linejoin=\"miter\">\n",
       "\t<g transform=\"translate(126.9,123.1)\" stroke=\"none\" fill=\"black\" font-family=\"Arial\" font-size=\"16.00\"  text-anchor=\"start\">\n",
       "\t\t<text><tspan font-family=\"Arial\" >DGdegree:Velocity*2</tspan></text>\n",
       "\t</g>\n",
       "</g>\n",
       "<g fill=\"none\" color=\"black\" stroke=\"currentColor\" stroke-width=\"1.00\" stroke-linecap=\"butt\" stroke-linejoin=\"miter\">\n",
       "\t<path stroke='rgb(  0, 255,   0)'  d='M62.4,117.1 L115.8,117.1 M94.5,169.9 L136.4,149.6 L178.4,126.8 L220.3,105.0  '/>\t<use xlink:href='#gpPt4' transform='translate(94.5,169.9) scale(3.15)' color='rgb(  0, 255,   0)'/>\n",
       "\t<use xlink:href='#gpPt4' transform='translate(136.4,149.6) scale(3.15)' color='rgb(  0, 255,   0)'/>\n",
       "\t<use xlink:href='#gpPt4' transform='translate(178.4,126.8) scale(3.15)' color='rgb(  0, 255,   0)'/>\n",
       "\t<use xlink:href='#gpPt4' transform='translate(220.3,105.0) scale(3.15)' color='rgb(  0, 255,   0)'/>\n",
       "\t<use xlink:href='#gpPt4' transform='translate(89.1,117.1) scale(3.15)' color='rgb(  0, 255,   0)'/>\n",
       "</g>\n",
       "\t</g>\n",
       "\t<g id=\"gnuplot_plot_3a\" ><title>DGdegree:Velocity*1</title>\n",
       "<g fill=\"none\" color=\"black\" stroke=\"currentColor\" stroke-width=\"1.00\" stroke-linecap=\"butt\" stroke-linejoin=\"miter\">\n",
       "\t<g transform=\"translate(126.9,147.1)\" stroke=\"none\" fill=\"black\" font-family=\"Arial\" font-size=\"16.00\"  text-anchor=\"start\">\n",
       "\t\t<text><tspan font-family=\"Arial\" >DGdegree:Velocity*1</tspan></text>\n",
       "\t</g>\n",
       "</g>\n",
       "<g fill=\"none\" color=\"black\" stroke=\"currentColor\" stroke-width=\"1.00\" stroke-linecap=\"butt\" stroke-linejoin=\"miter\">\n",
       "\t<path stroke='rgb(  0,   0, 255)'  d='M62.4,141.1 L115.8,141.1 M94.5,116.5 L136.4,100.3 L178.4,88.1 L220.3,79.3  '/>\t<use xlink:href='#gpPt8' transform='translate(94.5,116.5) scale(3.15)' color='rgb(  0,   0, 255)'/>\n",
       "\t<use xlink:href='#gpPt8' transform='translate(136.4,100.3) scale(3.15)' color='rgb(  0,   0, 255)'/>\n",
       "\t<use xlink:href='#gpPt8' transform='translate(178.4,88.1) scale(3.15)' color='rgb(  0,   0, 255)'/>\n",
       "\t<use xlink:href='#gpPt8' transform='translate(220.3,79.3) scale(3.15)' color='rgb(  0,   0, 255)'/>\n",
       "\t<use xlink:href='#gpPt8' transform='translate(89.1,141.1) scale(3.15)' color='rgb(  0,   0, 255)'/>\n",
       "</g>\n",
       "\t</g>\n",
       "<g fill=\"none\" color=\"#FFFFFF\" stroke=\"rgb(  0,   0, 255)\" stroke-width=\"2.00\" stroke-linecap=\"butt\" stroke-linejoin=\"miter\">\n",
       "</g>\n",
       "<g fill=\"none\" color=\"black\" stroke=\"currentColor\" stroke-width=\"2.00\" stroke-linecap=\"butt\" stroke-linejoin=\"miter\">\n",
       "</g>\n",
       "<g fill=\"none\" color=\"black\" stroke=\"black\" stroke-width=\"1.00\" stroke-linecap=\"butt\" stroke-linejoin=\"miter\">\n",
       "</g>\n",
       "<g fill=\"none\" color=\"black\" stroke=\"currentColor\" stroke-width=\"1.00\" stroke-linecap=\"butt\" stroke-linejoin=\"miter\">\n",
       "\t<path stroke='black'  d='M67.5,72.1 L67.5,239.5 L346.1,239.5 L346.1,72.1 L67.5,72.1 Z  '/></g>\n",
       "<g fill=\"none\" color=\"black\" stroke=\"currentColor\" stroke-width=\"1.00\" stroke-linecap=\"butt\" stroke-linejoin=\"miter\">\n",
       "</g>\n",
       "<g fill=\"none\" color=\"black\" stroke=\"currentColor\" stroke-width=\"1.00\" stroke-linecap=\"butt\" stroke-linejoin=\"miter\">\n",
       "\t<path stroke='black'  d='M467.5,239.5 L476.5,239.5 M746.1,239.5 L737.1,239.5  '/>\t<g transform=\"translate(459.2,245.5)\" stroke=\"none\" fill=\"black\" font-family=\"sans\" font-size=\"16.00\"  text-anchor=\"end\">\n",
       "\t\t<text><tspan font-family=\"sans\" >10</tspan><tspan font-family=\"sans\"  font-size=\"12.8\" dy=\"-8.00px\">-6</tspan><tspan font-size=\"16.0\" dy=\"8.00\"></tspan></text>\n",
       "\t</g>\n",
       "</g>\n",
       "<g fill=\"none\" color=\"black\" stroke=\"currentColor\" stroke-width=\"1.00\" stroke-linecap=\"butt\" stroke-linejoin=\"miter\">\n",
       "\t<path stroke='black'  d='M467.5,231.1 L472.0,231.1 M746.1,231.1 L741.6,231.1 M467.5,220.0 L472.0,220.0 M746.1,220.0 L741.6,220.0\n",
       "\t\tM467.5,214.3 L472.0,214.3 M746.1,214.3 L741.6,214.3 M467.5,211.6 L476.5,211.6 M746.1,211.6 L737.1,211.6\n",
       "\t\t '/>\t<g transform=\"translate(459.2,217.6)\" stroke=\"none\" fill=\"black\" font-family=\"sans\" font-size=\"16.00\"  text-anchor=\"end\">\n",
       "\t\t<text><tspan font-family=\"sans\" >10</tspan><tspan font-family=\"sans\"  font-size=\"12.8\" dy=\"-8.00px\">-5</tspan><tspan font-size=\"16.0\" dy=\"8.00\"></tspan></text>\n",
       "\t</g>\n",
       "</g>\n",
       "<g fill=\"none\" color=\"black\" stroke=\"currentColor\" stroke-width=\"1.00\" stroke-linecap=\"butt\" stroke-linejoin=\"miter\">\n",
       "\t<path stroke='black'  d='M467.5,203.2 L472.0,203.2 M746.1,203.2 L741.6,203.2 M467.5,192.1 L472.0,192.1 M746.1,192.1 L741.6,192.1\n",
       "\t\tM467.5,186.4 L472.0,186.4 M746.1,186.4 L741.6,186.4 M467.5,183.7 L476.5,183.7 M746.1,183.7 L737.1,183.7\n",
       "\t\t '/>\t<g transform=\"translate(459.2,189.7)\" stroke=\"none\" fill=\"black\" font-family=\"sans\" font-size=\"16.00\"  text-anchor=\"end\">\n",
       "\t\t<text><tspan font-family=\"sans\" >10</tspan><tspan font-family=\"sans\"  font-size=\"12.8\" dy=\"-8.00px\">-4</tspan><tspan font-size=\"16.0\" dy=\"8.00\"></tspan></text>\n",
       "\t</g>\n",
       "</g>\n",
       "<g fill=\"none\" color=\"black\" stroke=\"currentColor\" stroke-width=\"1.00\" stroke-linecap=\"butt\" stroke-linejoin=\"miter\">\n",
       "\t<path stroke='black'  d='M467.5,175.3 L472.0,175.3 M746.1,175.3 L741.6,175.3 M467.5,164.2 L472.0,164.2 M746.1,164.2 L741.6,164.2\n",
       "\t\tM467.5,158.5 L472.0,158.5 M746.1,158.5 L741.6,158.5 M467.5,155.8 L476.5,155.8 M746.1,155.8 L737.1,155.8\n",
       "\t\t '/>\t<g transform=\"translate(459.2,161.8)\" stroke=\"none\" fill=\"black\" font-family=\"sans\" font-size=\"16.00\"  text-anchor=\"end\">\n",
       "\t\t<text><tspan font-family=\"sans\" >10</tspan><tspan font-family=\"sans\"  font-size=\"12.8\" dy=\"-8.00px\">-3</tspan><tspan font-size=\"16.0\" dy=\"8.00\"></tspan></text>\n",
       "\t</g>\n",
       "</g>\n",
       "<g fill=\"none\" color=\"black\" stroke=\"currentColor\" stroke-width=\"1.00\" stroke-linecap=\"butt\" stroke-linejoin=\"miter\">\n",
       "\t<path stroke='black'  d='M467.5,147.4 L472.0,147.4 M746.1,147.4 L741.6,147.4 M467.5,136.3 L472.0,136.3 M746.1,136.3 L741.6,136.3\n",
       "\t\tM467.5,130.6 L472.0,130.6 M746.1,130.6 L741.6,130.6 M467.5,127.9 L476.5,127.9 M746.1,127.9 L737.1,127.9\n",
       "\t\t '/>\t<g transform=\"translate(459.2,133.9)\" stroke=\"none\" fill=\"black\" font-family=\"sans\" font-size=\"16.00\"  text-anchor=\"end\">\n",
       "\t\t<text><tspan font-family=\"sans\" >10</tspan><tspan font-family=\"sans\"  font-size=\"12.8\" dy=\"-8.00px\">-2</tspan><tspan font-size=\"16.0\" dy=\"8.00\"></tspan></text>\n",
       "\t</g>\n",
       "</g>\n",
       "<g fill=\"none\" color=\"black\" stroke=\"currentColor\" stroke-width=\"1.00\" stroke-linecap=\"butt\" stroke-linejoin=\"miter\">\n",
       "\t<path stroke='black'  d='M467.5,119.5 L472.0,119.5 M746.1,119.5 L741.6,119.5 M467.5,108.4 L472.0,108.4 M746.1,108.4 L741.6,108.4\n",
       "\t\tM467.5,102.7 L472.0,102.7 M746.1,102.7 L741.6,102.7 M467.5,100.0 L476.5,100.0 M746.1,100.0 L737.1,100.0\n",
       "\t\t '/>\t<g transform=\"translate(459.2,106.0)\" stroke=\"none\" fill=\"black\" font-family=\"sans\" font-size=\"16.00\"  text-anchor=\"end\">\n",
       "\t\t<text><tspan font-family=\"sans\" >10</tspan><tspan font-family=\"sans\"  font-size=\"12.8\" dy=\"-8.00px\">-1</tspan><tspan font-size=\"16.0\" dy=\"8.00\"></tspan></text>\n",
       "\t</g>\n",
       "</g>\n",
       "<g fill=\"none\" color=\"black\" stroke=\"currentColor\" stroke-width=\"1.00\" stroke-linecap=\"butt\" stroke-linejoin=\"miter\">\n",
       "\t<path stroke='black'  d='M467.5,91.6 L472.0,91.6 M746.1,91.6 L741.6,91.6 M467.5,80.5 L472.0,80.5 M746.1,80.5 L741.6,80.5\n",
       "\t\tM467.5,74.8 L472.0,74.8 M746.1,74.8 L741.6,74.8 M467.5,72.1 L476.5,72.1 M746.1,72.1 L737.1,72.1\n",
       "\t\t '/>\t<g transform=\"translate(459.2,78.1)\" stroke=\"none\" fill=\"black\" font-family=\"sans\" font-size=\"16.00\"  text-anchor=\"end\">\n",
       "\t\t<text><tspan font-family=\"sans\" >10</tspan><tspan font-family=\"sans\"  font-size=\"12.8\" dy=\"-8.00px\">0</tspan><tspan font-size=\"16.0\" dy=\"8.00\"></tspan></text>\n",
       "\t</g>\n",
       "</g>\n",
       "<g fill=\"none\" color=\"black\" stroke=\"currentColor\" stroke-width=\"1.00\" stroke-linecap=\"butt\" stroke-linejoin=\"miter\">\n",
       "\t<path stroke='black'  d='M467.5,239.5 L467.5,230.5 M467.5,72.1 L467.5,81.1  '/>\t<g transform=\"translate(467.5,270.7)\" stroke=\"none\" fill=\"black\" font-family=\"sans\" font-size=\"16.00\"  text-anchor=\"middle\">\n",
       "\t\t<text><tspan font-family=\"sans\" >10</tspan><tspan font-family=\"sans\"  font-size=\"12.8\" dy=\"-8.00px\">-2</tspan><tspan font-size=\"16.0\" dy=\"8.00\"></tspan></text>\n",
       "\t</g>\n",
       "</g>\n",
       "<g fill=\"none\" color=\"black\" stroke=\"currentColor\" stroke-width=\"1.00\" stroke-linecap=\"butt\" stroke-linejoin=\"miter\">\n",
       "\t<path stroke='black'  d='M509.4,239.5 L509.4,235.0 M509.4,72.1 L509.4,76.6 M534.0,239.5 L534.0,235.0 M534.0,72.1 L534.0,76.6\n",
       "\t\tM551.4,239.5 L551.4,235.0 M551.4,72.1 L551.4,76.6 M564.9,239.5 L564.9,235.0 M564.9,72.1 L564.9,76.6\n",
       "\t\tM575.9,239.5 L575.9,235.0 M575.9,72.1 L575.9,76.6 M585.2,239.5 L585.2,235.0 M585.2,72.1 L585.2,76.6\n",
       "\t\tM593.3,239.5 L593.3,235.0 M593.3,72.1 L593.3,76.6 M600.4,239.5 L600.4,235.0 M600.4,72.1 L600.4,76.6\n",
       "\t\tM606.8,239.5 L606.8,230.5 M606.8,72.1 L606.8,81.1  '/>\t<g transform=\"translate(606.8,270.7)\" stroke=\"none\" fill=\"black\" font-family=\"sans\" font-size=\"16.00\"  text-anchor=\"middle\">\n",
       "\t\t<text><tspan font-family=\"sans\" >10</tspan><tspan font-family=\"sans\"  font-size=\"12.8\" dy=\"-8.00px\">-1</tspan><tspan font-size=\"16.0\" dy=\"8.00\"></tspan></text>\n",
       "\t</g>\n",
       "</g>\n",
       "<g fill=\"none\" color=\"black\" stroke=\"currentColor\" stroke-width=\"1.00\" stroke-linecap=\"butt\" stroke-linejoin=\"miter\">\n",
       "\t<path stroke='black'  d='M648.7,239.5 L648.7,235.0 M648.7,72.1 L648.7,76.6 M673.3,239.5 L673.3,235.0 M673.3,72.1 L673.3,76.6\n",
       "\t\tM690.7,239.5 L690.7,235.0 M690.7,72.1 L690.7,76.6 M704.2,239.5 L704.2,235.0 M704.2,72.1 L704.2,76.6\n",
       "\t\tM715.2,239.5 L715.2,235.0 M715.2,72.1 L715.2,76.6 M724.5,239.5 L724.5,235.0 M724.5,72.1 L724.5,76.6\n",
       "\t\tM732.6,239.5 L732.6,235.0 M732.6,72.1 L732.6,76.6 M739.7,239.5 L739.7,235.0 M739.7,72.1 L739.7,76.6\n",
       "\t\tM746.1,239.5 L746.1,230.5 M746.1,72.1 L746.1,81.1  '/>\t<g transform=\"translate(746.1,270.7)\" stroke=\"none\" fill=\"black\" font-family=\"sans\" font-size=\"16.00\"  text-anchor=\"middle\">\n",
       "\t\t<text><tspan font-family=\"sans\" >10</tspan><tspan font-family=\"sans\"  font-size=\"12.8\" dy=\"-8.00px\">0</tspan><tspan font-size=\"16.0\" dy=\"8.00\"></tspan></text>\n",
       "\t</g>\n",
       "</g>\n",
       "<g fill=\"none\" color=\"black\" stroke=\"currentColor\" stroke-width=\"1.00\" stroke-linecap=\"butt\" stroke-linejoin=\"miter\">\n",
       "\t<path stroke='black'  d='M746.1,239.5 L737.1,239.5  '/>\t<g transform=\"translate(754.4,244.0)\" stroke=\"none\" fill=\"black\" font-family=\"Arial\" font-size=\"12.00\"  text-anchor=\"start\">\n",
       "\t\t<text><tspan font-family=\"Arial\" > </tspan></text>\n",
       "\t</g>\n",
       "</g>\n",
       "<g fill=\"none\" color=\"black\" stroke=\"currentColor\" stroke-width=\"1.00\" stroke-linecap=\"butt\" stroke-linejoin=\"miter\">\n",
       "\t<path stroke='black'  d='M746.1,211.6 L737.1,211.6  '/>\t<g transform=\"translate(754.4,216.1)\" stroke=\"none\" fill=\"black\" font-family=\"Arial\" font-size=\"12.00\"  text-anchor=\"start\">\n",
       "\t\t<text><tspan font-family=\"Arial\" > </tspan></text>\n",
       "\t</g>\n",
       "</g>\n",
       "<g fill=\"none\" color=\"black\" stroke=\"currentColor\" stroke-width=\"1.00\" stroke-linecap=\"butt\" stroke-linejoin=\"miter\">\n",
       "\t<path stroke='black'  d='M746.1,183.7 L737.1,183.7  '/>\t<g transform=\"translate(754.4,188.2)\" stroke=\"none\" fill=\"black\" font-family=\"Arial\" font-size=\"12.00\"  text-anchor=\"start\">\n",
       "\t\t<text><tspan font-family=\"Arial\" > </tspan></text>\n",
       "\t</g>\n",
       "</g>\n",
       "<g fill=\"none\" color=\"black\" stroke=\"currentColor\" stroke-width=\"1.00\" stroke-linecap=\"butt\" stroke-linejoin=\"miter\">\n",
       "\t<path stroke='black'  d='M746.1,155.8 L737.1,155.8  '/>\t<g transform=\"translate(754.4,160.3)\" stroke=\"none\" fill=\"black\" font-family=\"Arial\" font-size=\"12.00\"  text-anchor=\"start\">\n",
       "\t\t<text><tspan font-family=\"Arial\" > </tspan></text>\n",
       "\t</g>\n",
       "</g>\n",
       "<g fill=\"none\" color=\"black\" stroke=\"currentColor\" stroke-width=\"1.00\" stroke-linecap=\"butt\" stroke-linejoin=\"miter\">\n",
       "\t<path stroke='black'  d='M746.1,127.9 L737.1,127.9  '/>\t<g transform=\"translate(754.4,132.4)\" stroke=\"none\" fill=\"black\" font-family=\"Arial\" font-size=\"12.00\"  text-anchor=\"start\">\n",
       "\t\t<text><tspan font-family=\"Arial\" > </tspan></text>\n",
       "\t</g>\n",
       "</g>\n",
       "<g fill=\"none\" color=\"black\" stroke=\"currentColor\" stroke-width=\"1.00\" stroke-linecap=\"butt\" stroke-linejoin=\"miter\">\n",
       "\t<path stroke='black'  d='M746.1,100.0 L737.1,100.0  '/>\t<g transform=\"translate(754.4,104.5)\" stroke=\"none\" fill=\"black\" font-family=\"Arial\" font-size=\"12.00\"  text-anchor=\"start\">\n",
       "\t\t<text><tspan font-family=\"Arial\" > </tspan></text>\n",
       "\t</g>\n",
       "</g>\n",
       "<g fill=\"none\" color=\"black\" stroke=\"currentColor\" stroke-width=\"1.00\" stroke-linecap=\"butt\" stroke-linejoin=\"miter\">\n",
       "\t<path stroke='black'  d='M746.1,72.1 L737.1,72.1  '/>\t<g transform=\"translate(754.4,76.6)\" stroke=\"none\" fill=\"black\" font-family=\"Arial\" font-size=\"12.00\"  text-anchor=\"start\">\n",
       "\t\t<text><tspan font-family=\"Arial\" > </tspan></text>\n",
       "\t</g>\n",
       "</g>\n",
       "<g fill=\"none\" color=\"black\" stroke=\"currentColor\" stroke-width=\"1.00\" stroke-linecap=\"butt\" stroke-linejoin=\"miter\">\n",
       "\t<path stroke='black'  d='M467.5,72.1 L467.5,81.1  '/>\t<g transform=\"translate(467.5,58.6)\" stroke=\"none\" fill=\"black\" font-family=\"Arial\" font-size=\"12.00\"  text-anchor=\"middle\">\n",
       "\t\t<text><tspan font-family=\"Arial\" > </tspan></text>\n",
       "\t</g>\n",
       "</g>\n",
       "<g fill=\"none\" color=\"black\" stroke=\"currentColor\" stroke-width=\"1.00\" stroke-linecap=\"butt\" stroke-linejoin=\"miter\">\n",
       "\t<path stroke='black'  d='M495.4,72.1 L495.4,81.1  '/>\t<g transform=\"translate(495.4,58.6)\" stroke=\"none\" fill=\"black\" font-family=\"Arial\" font-size=\"12.00\"  text-anchor=\"middle\">\n",
       "\t\t<text><tspan font-family=\"Arial\" > </tspan></text>\n",
       "\t</g>\n",
       "</g>\n",
       "<g fill=\"none\" color=\"black\" stroke=\"currentColor\" stroke-width=\"1.00\" stroke-linecap=\"butt\" stroke-linejoin=\"miter\">\n",
       "\t<path stroke='black'  d='M523.2,72.1 L523.2,81.1  '/>\t<g transform=\"translate(523.2,58.6)\" stroke=\"none\" fill=\"black\" font-family=\"Arial\" font-size=\"12.00\"  text-anchor=\"middle\">\n",
       "\t\t<text><tspan font-family=\"Arial\" > </tspan></text>\n",
       "\t</g>\n",
       "</g>\n",
       "<g fill=\"none\" color=\"black\" stroke=\"currentColor\" stroke-width=\"1.00\" stroke-linecap=\"butt\" stroke-linejoin=\"miter\">\n",
       "\t<path stroke='black'  d='M551.1,72.1 L551.1,81.1  '/>\t<g transform=\"translate(551.1,58.6)\" stroke=\"none\" fill=\"black\" font-family=\"Arial\" font-size=\"12.00\"  text-anchor=\"middle\">\n",
       "\t\t<text><tspan font-family=\"Arial\" > </tspan></text>\n",
       "\t</g>\n",
       "</g>\n",
       "<g fill=\"none\" color=\"black\" stroke=\"currentColor\" stroke-width=\"1.00\" stroke-linecap=\"butt\" stroke-linejoin=\"miter\">\n",
       "\t<path stroke='black'  d='M578.9,72.1 L578.9,81.1  '/>\t<g transform=\"translate(578.9,58.6)\" stroke=\"none\" fill=\"black\" font-family=\"Arial\" font-size=\"12.00\"  text-anchor=\"middle\">\n",
       "\t\t<text><tspan font-family=\"Arial\" > </tspan></text>\n",
       "\t</g>\n",
       "</g>\n",
       "<g fill=\"none\" color=\"black\" stroke=\"currentColor\" stroke-width=\"1.00\" stroke-linecap=\"butt\" stroke-linejoin=\"miter\">\n",
       "\t<path stroke='black'  d='M606.8,72.1 L606.8,81.1  '/>\t<g transform=\"translate(606.8,58.6)\" stroke=\"none\" fill=\"black\" font-family=\"Arial\" font-size=\"12.00\"  text-anchor=\"middle\">\n",
       "\t\t<text><tspan font-family=\"Arial\" > </tspan></text>\n",
       "\t</g>\n",
       "</g>\n",
       "<g fill=\"none\" color=\"black\" stroke=\"currentColor\" stroke-width=\"1.00\" stroke-linecap=\"butt\" stroke-linejoin=\"miter\">\n",
       "\t<path stroke='black'  d='M634.7,72.1 L634.7,81.1  '/>\t<g transform=\"translate(634.7,58.6)\" stroke=\"none\" fill=\"black\" font-family=\"Arial\" font-size=\"12.00\"  text-anchor=\"middle\">\n",
       "\t\t<text><tspan font-family=\"Arial\" > </tspan></text>\n",
       "\t</g>\n",
       "</g>\n",
       "<g fill=\"none\" color=\"black\" stroke=\"currentColor\" stroke-width=\"1.00\" stroke-linecap=\"butt\" stroke-linejoin=\"miter\">\n",
       "\t<path stroke='black'  d='M662.5,72.1 L662.5,81.1  '/>\t<g transform=\"translate(662.5,58.6)\" stroke=\"none\" fill=\"black\" font-family=\"Arial\" font-size=\"12.00\"  text-anchor=\"middle\">\n",
       "\t\t<text><tspan font-family=\"Arial\" > </tspan></text>\n",
       "\t</g>\n",
       "</g>\n",
       "<g fill=\"none\" color=\"black\" stroke=\"currentColor\" stroke-width=\"1.00\" stroke-linecap=\"butt\" stroke-linejoin=\"miter\">\n",
       "\t<path stroke='black'  d='M690.4,72.1 L690.4,81.1  '/>\t<g transform=\"translate(690.4,58.6)\" stroke=\"none\" fill=\"black\" font-family=\"Arial\" font-size=\"12.00\"  text-anchor=\"middle\">\n",
       "\t\t<text><tspan font-family=\"Arial\" > </tspan></text>\n",
       "\t</g>\n",
       "</g>\n",
       "<g fill=\"none\" color=\"black\" stroke=\"currentColor\" stroke-width=\"1.00\" stroke-linecap=\"butt\" stroke-linejoin=\"miter\">\n",
       "\t<path stroke='black'  d='M718.2,72.1 L718.2,81.1  '/>\t<g transform=\"translate(718.2,58.6)\" stroke=\"none\" fill=\"black\" font-family=\"Arial\" font-size=\"12.00\"  text-anchor=\"middle\">\n",
       "\t\t<text><tspan font-family=\"Arial\" > </tspan></text>\n",
       "\t</g>\n",
       "</g>\n",
       "<g fill=\"none\" color=\"black\" stroke=\"currentColor\" stroke-width=\"1.00\" stroke-linecap=\"butt\" stroke-linejoin=\"miter\">\n",
       "\t<path stroke='black'  d='M746.1,72.1 L746.1,81.1  '/>\t<g transform=\"translate(746.1,58.6)\" stroke=\"none\" fill=\"black\" font-family=\"Arial\" font-size=\"12.00\"  text-anchor=\"middle\">\n",
       "\t\t<text><tspan font-family=\"Arial\" > </tspan></text>\n",
       "\t</g>\n",
       "</g>\n",
       "<g fill=\"none\" color=\"black\" stroke=\"currentColor\" stroke-width=\"1.00\" stroke-linecap=\"butt\" stroke-linejoin=\"miter\">\n",
       "</g>\n",
       "<g fill=\"none\" color=\"black\" stroke=\"currentColor\" stroke-width=\"1.00\" stroke-linecap=\"butt\" stroke-linejoin=\"miter\">\n",
       "\t<path stroke='black'  d='M467.5,72.1 L467.5,239.5 L746.1,239.5 L746.1,72.1 L467.5,72.1 Z  '/></g>\n",
       "<g fill=\"none\" color=\"black\" stroke=\"currentColor\" stroke-width=\"1.00\" stroke-linecap=\"butt\" stroke-linejoin=\"miter\">\n",
       "\t<g transform=\"translate(421.5,155.8) rotate(270)\" stroke=\"none\" fill=\"black\" font-family=\"Arial\" font-size=\"12.00\"  text-anchor=\"middle\">\n",
       "\t\t<text><tspan font-family=\"Arial\" >L</tspan><tspan font-family=\"Arial\"  font-size=\"9.6\" dy=\"3.60px\">2</tspan><tspan font-family=\"Arial\"  font-size=\"12.0\" dy=\"-3.60px\"> Error</tspan></text>\n",
       "\t</g>\n",
       "</g>\n",
       "<g fill=\"none\" color=\"black\" stroke=\"currentColor\" stroke-width=\"1.00\" stroke-linecap=\"butt\" stroke-linejoin=\"miter\">\n",
       "\t<g transform=\"translate(606.8,289.0)\" stroke=\"none\" fill=\"black\" font-family=\"Arial\" font-size=\"12.00\"  text-anchor=\"middle\">\n",
       "\t\t<text><tspan font-family=\"Arial\" >h</tspan></text>\n",
       "\t</g>\n",
       "</g>\n",
       "<g fill=\"none\" color=\"black\" stroke=\"currentColor\" stroke-width=\"1.00\" stroke-linecap=\"butt\" stroke-linejoin=\"miter\">\n",
       "\t<g transform=\"translate(606.8,15.8)\" stroke=\"none\" fill=\"black\" font-family=\"Arial\" font-size=\"10.00\"  text-anchor=\"middle\">\n",
       "\t\t<text><tspan font-family=\"Arial\" >VelocityY</tspan></text>\n",
       "\t</g>\n",
       "</g>\n",
       "\t<g id=\"gnuplot_plot_1b\" ><title>DGdegree:Velocity*3</title>\n",
       "<g fill=\"none\" color=\"black\" stroke=\"currentColor\" stroke-width=\"1.00\" stroke-linecap=\"butt\" stroke-linejoin=\"miter\">\n",
       "\t<g transform=\"translate(526.9,99.1)\" stroke=\"none\" fill=\"black\" font-family=\"Arial\" font-size=\"16.00\"  text-anchor=\"start\">\n",
       "\t\t<text><tspan font-family=\"Arial\" >DGdegree:Velocity*3</tspan></text>\n",
       "\t</g>\n",
       "</g>\n",
       "<g fill=\"none\" color=\"black\" stroke=\"currentColor\" stroke-width=\"1.00\" stroke-linecap=\"butt\" stroke-linejoin=\"miter\">\n",
       "\t<path stroke='rgb(255,   0,   0)'  d='M462.4,93.1 L515.8,93.1 M494.5,221.9 L536.4,197.4 L578.4,166.6 L620.3,134.0  '/>\t<use xlink:href='#gpPt12' transform='translate(494.5,221.9) scale(3.15)' color='rgb(255,   0,   0)'/>\n",
       "\t<use xlink:href='#gpPt12' transform='translate(536.4,197.4) scale(3.15)' color='rgb(255,   0,   0)'/>\n",
       "\t<use xlink:href='#gpPt12' transform='translate(578.4,166.6) scale(3.15)' color='rgb(255,   0,   0)'/>\n",
       "\t<use xlink:href='#gpPt12' transform='translate(620.3,134.0) scale(3.15)' color='rgb(255,   0,   0)'/>\n",
       "\t<use xlink:href='#gpPt12' transform='translate(489.1,93.1) scale(3.15)' color='rgb(255,   0,   0)'/>\n",
       "</g>\n",
       "\t</g>\n",
       "\t<g id=\"gnuplot_plot_2b\" ><title>DGdegree:Velocity*2</title>\n",
       "<g fill=\"none\" color=\"black\" stroke=\"currentColor\" stroke-width=\"1.00\" stroke-linecap=\"butt\" stroke-linejoin=\"miter\">\n",
       "\t<g transform=\"translate(526.9,123.1)\" stroke=\"none\" fill=\"black\" font-family=\"Arial\" font-size=\"16.00\"  text-anchor=\"start\">\n",
       "\t\t<text><tspan font-family=\"Arial\" >DGdegree:Velocity*2</tspan></text>\n",
       "\t</g>\n",
       "</g>\n",
       "<g fill=\"none\" color=\"black\" stroke=\"currentColor\" stroke-width=\"1.00\" stroke-linecap=\"butt\" stroke-linejoin=\"miter\">\n",
       "\t<path stroke='rgb(  0, 255,   0)'  d='M462.4,117.1 L515.8,117.1 M494.5,169.6 L536.4,149.6 L578.4,127.4 L620.3,104.9  '/>\t<use xlink:href='#gpPt4' transform='translate(494.5,169.6) scale(3.15)' color='rgb(  0, 255,   0)'/>\n",
       "\t<use xlink:href='#gpPt4' transform='translate(536.4,149.6) scale(3.15)' color='rgb(  0, 255,   0)'/>\n",
       "\t<use xlink:href='#gpPt4' transform='translate(578.4,127.4) scale(3.15)' color='rgb(  0, 255,   0)'/>\n",
       "\t<use xlink:href='#gpPt4' transform='translate(620.3,104.9) scale(3.15)' color='rgb(  0, 255,   0)'/>\n",
       "\t<use xlink:href='#gpPt4' transform='translate(489.1,117.1) scale(3.15)' color='rgb(  0, 255,   0)'/>\n",
       "</g>\n",
       "\t</g>\n",
       "\t<g id=\"gnuplot_plot_3b\" ><title>DGdegree:Velocity*1</title>\n",
       "<g fill=\"none\" color=\"black\" stroke=\"currentColor\" stroke-width=\"1.00\" stroke-linecap=\"butt\" stroke-linejoin=\"miter\">\n",
       "\t<g transform=\"translate(526.9,147.1)\" stroke=\"none\" fill=\"black\" font-family=\"Arial\" font-size=\"16.00\"  text-anchor=\"start\">\n",
       "\t\t<text><tspan font-family=\"Arial\" >DGdegree:Velocity*1</tspan></text>\n",
       "\t</g>\n",
       "</g>\n",
       "<g fill=\"none\" color=\"black\" stroke=\"currentColor\" stroke-width=\"1.00\" stroke-linecap=\"butt\" stroke-linejoin=\"miter\">\n",
       "\t<path stroke='rgb(  0,   0, 255)'  d='M462.4,141.1 L515.8,141.1 M494.5,116.9 L536.4,100.9 L578.4,88.9 L620.3,79.7  '/>\t<use xlink:href='#gpPt8' transform='translate(494.5,116.9) scale(3.15)' color='rgb(  0,   0, 255)'/>\n",
       "\t<use xlink:href='#gpPt8' transform='translate(536.4,100.9) scale(3.15)' color='rgb(  0,   0, 255)'/>\n",
       "\t<use xlink:href='#gpPt8' transform='translate(578.4,88.9) scale(3.15)' color='rgb(  0,   0, 255)'/>\n",
       "\t<use xlink:href='#gpPt8' transform='translate(620.3,79.7) scale(3.15)' color='rgb(  0,   0, 255)'/>\n",
       "\t<use xlink:href='#gpPt8' transform='translate(489.1,141.1) scale(3.15)' color='rgb(  0,   0, 255)'/>\n",
       "</g>\n",
       "\t</g>\n",
       "<g fill=\"none\" color=\"#FFFFFF\" stroke=\"rgb(  0,   0, 255)\" stroke-width=\"2.00\" stroke-linecap=\"butt\" stroke-linejoin=\"miter\">\n",
       "</g>\n",
       "<g fill=\"none\" color=\"black\" stroke=\"currentColor\" stroke-width=\"2.00\" stroke-linecap=\"butt\" stroke-linejoin=\"miter\">\n",
       "</g>\n",
       "<g fill=\"none\" color=\"black\" stroke=\"black\" stroke-width=\"1.00\" stroke-linecap=\"butt\" stroke-linejoin=\"miter\">\n",
       "</g>\n",
       "<g fill=\"none\" color=\"black\" stroke=\"currentColor\" stroke-width=\"1.00\" stroke-linecap=\"butt\" stroke-linejoin=\"miter\">\n",
       "\t<path stroke='black'  d='M467.5,72.1 L467.5,239.5 L746.1,239.5 L746.1,72.1 L467.5,72.1 Z  '/></g>\n",
       "<g fill=\"none\" color=\"black\" stroke=\"currentColor\" stroke-width=\"1.00\" stroke-linecap=\"butt\" stroke-linejoin=\"miter\">\n",
       "</g>\n",
       "<g fill=\"none\" color=\"black\" stroke=\"currentColor\" stroke-width=\"1.00\" stroke-linecap=\"butt\" stroke-linejoin=\"miter\">\n",
       "\t<path stroke='black'  d='M67.5,539.5 L76.5,539.5 M346.1,539.5 L337.1,539.5  '/>\t<g transform=\"translate(59.2,545.5)\" stroke=\"none\" fill=\"black\" font-family=\"sans\" font-size=\"16.00\"  text-anchor=\"end\">\n",
       "\t\t<text><tspan font-family=\"sans\" >10</tspan><tspan font-family=\"sans\"  font-size=\"12.8\" dy=\"-8.00px\">-5</tspan><tspan font-size=\"16.0\" dy=\"8.00\"></tspan></text>\n",
       "\t</g>\n",
       "</g>\n",
       "<g fill=\"none\" color=\"black\" stroke=\"currentColor\" stroke-width=\"1.00\" stroke-linecap=\"butt\" stroke-linejoin=\"miter\">\n",
       "\t<path stroke='black'  d='M67.5,526.9 L72.0,526.9 M346.1,526.9 L341.6,526.9 M67.5,519.5 L72.0,519.5 M346.1,519.5 L341.6,519.5\n",
       "\t\tM67.5,514.3 L72.0,514.3 M346.1,514.3 L341.6,514.3 M67.5,510.2 L72.0,510.2 M346.1,510.2 L341.6,510.2\n",
       "\t\tM67.5,506.9 L72.0,506.9 M346.1,506.9 L341.6,506.9 M67.5,504.1 L72.0,504.1 M346.1,504.1 L341.6,504.1\n",
       "\t\tM67.5,501.7 L72.0,501.7 M346.1,501.7 L341.6,501.7 M67.5,499.5 L72.0,499.5 M346.1,499.5 L341.6,499.5\n",
       "\t\tM67.5,497.6 L76.5,497.6 M346.1,497.6 L337.1,497.6  '/>\t<g transform=\"translate(59.2,503.6)\" stroke=\"none\" fill=\"black\" font-family=\"sans\" font-size=\"16.00\"  text-anchor=\"end\">\n",
       "\t\t<text><tspan font-family=\"sans\" >10</tspan><tspan font-family=\"sans\"  font-size=\"12.8\" dy=\"-8.00px\">-4</tspan><tspan font-size=\"16.0\" dy=\"8.00\"></tspan></text>\n",
       "\t</g>\n",
       "</g>\n",
       "<g fill=\"none\" color=\"black\" stroke=\"currentColor\" stroke-width=\"1.00\" stroke-linecap=\"butt\" stroke-linejoin=\"miter\">\n",
       "\t<path stroke='black'  d='M67.5,485.0 L72.0,485.0 M346.1,485.0 L341.6,485.0 M67.5,477.6 L72.0,477.6 M346.1,477.6 L341.6,477.6\n",
       "\t\tM67.5,472.4 L72.0,472.4 M346.1,472.4 L341.6,472.4 M67.5,468.4 L72.0,468.4 M346.1,468.4 L341.6,468.4\n",
       "\t\tM67.5,465.0 L72.0,465.0 M346.1,465.0 L341.6,465.0 M67.5,462.2 L72.0,462.2 M346.1,462.2 L341.6,462.2\n",
       "\t\tM67.5,459.8 L72.0,459.8 M346.1,459.8 L341.6,459.8 M67.5,457.7 L72.0,457.7 M346.1,457.7 L341.6,457.7\n",
       "\t\tM67.5,455.7 L76.5,455.7 M346.1,455.7 L337.1,455.7  '/>\t<g transform=\"translate(59.2,461.7)\" stroke=\"none\" fill=\"black\" font-family=\"sans\" font-size=\"16.00\"  text-anchor=\"end\">\n",
       "\t\t<text><tspan font-family=\"sans\" >10</tspan><tspan font-family=\"sans\"  font-size=\"12.8\" dy=\"-8.00px\">-3</tspan><tspan font-size=\"16.0\" dy=\"8.00\"></tspan></text>\n",
       "\t</g>\n",
       "</g>\n",
       "<g fill=\"none\" color=\"black\" stroke=\"currentColor\" stroke-width=\"1.00\" stroke-linecap=\"butt\" stroke-linejoin=\"miter\">\n",
       "\t<path stroke='black'  d='M67.5,443.1 L72.0,443.1 M346.1,443.1 L341.6,443.1 M67.5,435.8 L72.0,435.8 M346.1,435.8 L341.6,435.8\n",
       "\t\tM67.5,430.5 L72.0,430.5 M346.1,430.5 L341.6,430.5 M67.5,426.5 L72.0,426.5 M346.1,426.5 L341.6,426.5\n",
       "\t\tM67.5,423.2 L72.0,423.2 M346.1,423.2 L341.6,423.2 M67.5,420.4 L72.0,420.4 M346.1,420.4 L341.6,420.4\n",
       "\t\tM67.5,417.9 L72.0,417.9 M346.1,417.9 L341.6,417.9 M67.5,415.8 L72.0,415.8 M346.1,415.8 L341.6,415.8\n",
       "\t\tM67.5,413.9 L76.5,413.9 M346.1,413.9 L337.1,413.9  '/>\t<g transform=\"translate(59.2,419.9)\" stroke=\"none\" fill=\"black\" font-family=\"sans\" font-size=\"16.00\"  text-anchor=\"end\">\n",
       "\t\t<text><tspan font-family=\"sans\" >10</tspan><tspan font-family=\"sans\"  font-size=\"12.8\" dy=\"-8.00px\">-2</tspan><tspan font-size=\"16.0\" dy=\"8.00\"></tspan></text>\n",
       "\t</g>\n",
       "</g>\n",
       "<g fill=\"none\" color=\"black\" stroke=\"currentColor\" stroke-width=\"1.00\" stroke-linecap=\"butt\" stroke-linejoin=\"miter\">\n",
       "\t<path stroke='black'  d='M67.5,401.3 L72.0,401.3 M346.1,401.3 L341.6,401.3 M67.5,393.9 L72.0,393.9 M346.1,393.9 L341.6,393.9\n",
       "\t\tM67.5,388.7 L72.0,388.7 M346.1,388.7 L341.6,388.7 M67.5,384.6 L72.0,384.6 M346.1,384.6 L341.6,384.6\n",
       "\t\tM67.5,381.3 L72.0,381.3 M346.1,381.3 L341.6,381.3 M67.5,378.5 L72.0,378.5 M346.1,378.5 L341.6,378.5\n",
       "\t\tM67.5,376.1 L72.0,376.1 M346.1,376.1 L341.6,376.1 M67.5,373.9 L72.0,373.9 M346.1,373.9 L341.6,373.9\n",
       "\t\tM67.5,372.0 L76.5,372.0 M346.1,372.0 L337.1,372.0  '/>\t<g transform=\"translate(59.2,378.0)\" stroke=\"none\" fill=\"black\" font-family=\"sans\" font-size=\"16.00\"  text-anchor=\"end\">\n",
       "\t\t<text><tspan font-family=\"sans\" >10</tspan><tspan font-family=\"sans\"  font-size=\"12.8\" dy=\"-8.00px\">-1</tspan><tspan font-size=\"16.0\" dy=\"8.00\"></tspan></text>\n",
       "\t</g>\n",
       "</g>\n",
       "<g fill=\"none\" color=\"black\" stroke=\"currentColor\" stroke-width=\"1.00\" stroke-linecap=\"butt\" stroke-linejoin=\"miter\">\n",
       "\t<path stroke='black'  d='M67.5,539.5 L67.5,530.5 M67.5,372.0 L67.5,381.0  '/>\t<g transform=\"translate(67.5,570.7)\" stroke=\"none\" fill=\"black\" font-family=\"sans\" font-size=\"16.00\"  text-anchor=\"middle\">\n",
       "\t\t<text><tspan font-family=\"sans\" >10</tspan><tspan font-family=\"sans\"  font-size=\"12.8\" dy=\"-8.00px\">-2</tspan><tspan font-size=\"16.0\" dy=\"8.00\"></tspan></text>\n",
       "\t</g>\n",
       "</g>\n",
       "<g fill=\"none\" color=\"black\" stroke=\"currentColor\" stroke-width=\"1.00\" stroke-linecap=\"butt\" stroke-linejoin=\"miter\">\n",
       "\t<path stroke='black'  d='M109.4,539.5 L109.4,535.0 M109.4,372.0 L109.4,376.5 M134.0,539.5 L134.0,535.0 M134.0,372.0 L134.0,376.5\n",
       "\t\tM151.4,539.5 L151.4,535.0 M151.4,372.0 L151.4,376.5 M164.9,539.5 L164.9,535.0 M164.9,372.0 L164.9,376.5\n",
       "\t\tM175.9,539.5 L175.9,535.0 M175.9,372.0 L175.9,376.5 M185.2,539.5 L185.2,535.0 M185.2,372.0 L185.2,376.5\n",
       "\t\tM193.3,539.5 L193.3,535.0 M193.3,372.0 L193.3,376.5 M200.4,539.5 L200.4,535.0 M200.4,372.0 L200.4,376.5\n",
       "\t\tM206.8,539.5 L206.8,530.5 M206.8,372.0 L206.8,381.0  '/>\t<g transform=\"translate(206.8,570.7)\" stroke=\"none\" fill=\"black\" font-family=\"sans\" font-size=\"16.00\"  text-anchor=\"middle\">\n",
       "\t\t<text><tspan font-family=\"sans\" >10</tspan><tspan font-family=\"sans\"  font-size=\"12.8\" dy=\"-8.00px\">-1</tspan><tspan font-size=\"16.0\" dy=\"8.00\"></tspan></text>\n",
       "\t</g>\n",
       "</g>\n",
       "<g fill=\"none\" color=\"black\" stroke=\"currentColor\" stroke-width=\"1.00\" stroke-linecap=\"butt\" stroke-linejoin=\"miter\">\n",
       "\t<path stroke='black'  d='M248.7,539.5 L248.7,535.0 M248.7,372.0 L248.7,376.5 M273.3,539.5 L273.3,535.0 M273.3,372.0 L273.3,376.5\n",
       "\t\tM290.7,539.5 L290.7,535.0 M290.7,372.0 L290.7,376.5 M304.2,539.5 L304.2,535.0 M304.2,372.0 L304.2,376.5\n",
       "\t\tM315.2,539.5 L315.2,535.0 M315.2,372.0 L315.2,376.5 M324.5,539.5 L324.5,535.0 M324.5,372.0 L324.5,376.5\n",
       "\t\tM332.6,539.5 L332.6,535.0 M332.6,372.0 L332.6,376.5 M339.7,539.5 L339.7,535.0 M339.7,372.0 L339.7,376.5\n",
       "\t\tM346.1,539.5 L346.1,530.5 M346.1,372.0 L346.1,381.0  '/>\t<g transform=\"translate(346.1,570.7)\" stroke=\"none\" fill=\"black\" font-family=\"sans\" font-size=\"16.00\"  text-anchor=\"middle\">\n",
       "\t\t<text><tspan font-family=\"sans\" >10</tspan><tspan font-family=\"sans\"  font-size=\"12.8\" dy=\"-8.00px\">0</tspan><tspan font-size=\"16.0\" dy=\"8.00\"></tspan></text>\n",
       "\t</g>\n",
       "</g>\n",
       "<g fill=\"none\" color=\"black\" stroke=\"currentColor\" stroke-width=\"1.00\" stroke-linecap=\"butt\" stroke-linejoin=\"miter\">\n",
       "\t<path stroke='black'  d='M346.1,539.5 L337.1,539.5  '/>\t<g transform=\"translate(354.4,544.0)\" stroke=\"none\" fill=\"black\" font-family=\"Arial\" font-size=\"12.00\"  text-anchor=\"start\">\n",
       "\t\t<text><tspan font-family=\"Arial\" > </tspan></text>\n",
       "\t</g>\n",
       "</g>\n",
       "<g fill=\"none\" color=\"black\" stroke=\"currentColor\" stroke-width=\"1.00\" stroke-linecap=\"butt\" stroke-linejoin=\"miter\">\n",
       "\t<path stroke='black'  d='M346.1,515.6 L337.1,515.6  '/>\t<g transform=\"translate(354.4,520.1)\" stroke=\"none\" fill=\"black\" font-family=\"Arial\" font-size=\"12.00\"  text-anchor=\"start\">\n",
       "\t\t<text><tspan font-family=\"Arial\" > </tspan></text>\n",
       "\t</g>\n",
       "</g>\n",
       "<g fill=\"none\" color=\"black\" stroke=\"currentColor\" stroke-width=\"1.00\" stroke-linecap=\"butt\" stroke-linejoin=\"miter\">\n",
       "\t<path stroke='black'  d='M346.1,491.6 L337.1,491.6  '/>\t<g transform=\"translate(354.4,496.1)\" stroke=\"none\" fill=\"black\" font-family=\"Arial\" font-size=\"12.00\"  text-anchor=\"start\">\n",
       "\t\t<text><tspan font-family=\"Arial\" > </tspan></text>\n",
       "\t</g>\n",
       "</g>\n",
       "<g fill=\"none\" color=\"black\" stroke=\"currentColor\" stroke-width=\"1.00\" stroke-linecap=\"butt\" stroke-linejoin=\"miter\">\n",
       "\t<path stroke='black'  d='M346.1,467.7 L337.1,467.7  '/>\t<g transform=\"translate(354.4,472.2)\" stroke=\"none\" fill=\"black\" font-family=\"Arial\" font-size=\"12.00\"  text-anchor=\"start\">\n",
       "\t\t<text><tspan font-family=\"Arial\" > </tspan></text>\n",
       "\t</g>\n",
       "</g>\n",
       "<g fill=\"none\" color=\"black\" stroke=\"currentColor\" stroke-width=\"1.00\" stroke-linecap=\"butt\" stroke-linejoin=\"miter\">\n",
       "\t<path stroke='black'  d='M346.1,443.8 L337.1,443.8  '/>\t<g transform=\"translate(354.4,448.3)\" stroke=\"none\" fill=\"black\" font-family=\"Arial\" font-size=\"12.00\"  text-anchor=\"start\">\n",
       "\t\t<text><tspan font-family=\"Arial\" > </tspan></text>\n",
       "\t</g>\n",
       "</g>\n",
       "<g fill=\"none\" color=\"black\" stroke=\"currentColor\" stroke-width=\"1.00\" stroke-linecap=\"butt\" stroke-linejoin=\"miter\">\n",
       "\t<path stroke='black'  d='M346.1,419.9 L337.1,419.9  '/>\t<g transform=\"translate(354.4,424.4)\" stroke=\"none\" fill=\"black\" font-family=\"Arial\" font-size=\"12.00\"  text-anchor=\"start\">\n",
       "\t\t<text><tspan font-family=\"Arial\" > </tspan></text>\n",
       "\t</g>\n",
       "</g>\n",
       "<g fill=\"none\" color=\"black\" stroke=\"currentColor\" stroke-width=\"1.00\" stroke-linecap=\"butt\" stroke-linejoin=\"miter\">\n",
       "\t<path stroke='black'  d='M346.1,395.9 L337.1,395.9  '/>\t<g transform=\"translate(354.4,400.4)\" stroke=\"none\" fill=\"black\" font-family=\"Arial\" font-size=\"12.00\"  text-anchor=\"start\">\n",
       "\t\t<text><tspan font-family=\"Arial\" > </tspan></text>\n",
       "\t</g>\n",
       "</g>\n",
       "<g fill=\"none\" color=\"black\" stroke=\"currentColor\" stroke-width=\"1.00\" stroke-linecap=\"butt\" stroke-linejoin=\"miter\">\n",
       "\t<path stroke='black'  d='M346.1,372.0 L337.1,372.0  '/>\t<g transform=\"translate(354.4,376.5)\" stroke=\"none\" fill=\"black\" font-family=\"Arial\" font-size=\"12.00\"  text-anchor=\"start\">\n",
       "\t\t<text><tspan font-family=\"Arial\" > </tspan></text>\n",
       "\t</g>\n",
       "</g>\n",
       "<g fill=\"none\" color=\"black\" stroke=\"currentColor\" stroke-width=\"1.00\" stroke-linecap=\"butt\" stroke-linejoin=\"miter\">\n",
       "\t<path stroke='black'  d='M67.5,372.0 L67.5,381.0  '/>\t<g transform=\"translate(67.5,358.5)\" stroke=\"none\" fill=\"black\" font-family=\"Arial\" font-size=\"12.00\"  text-anchor=\"middle\">\n",
       "\t\t<text><tspan font-family=\"Arial\" > </tspan></text>\n",
       "\t</g>\n",
       "</g>\n",
       "<g fill=\"none\" color=\"black\" stroke=\"currentColor\" stroke-width=\"1.00\" stroke-linecap=\"butt\" stroke-linejoin=\"miter\">\n",
       "\t<path stroke='black'  d='M95.4,372.0 L95.4,381.0  '/>\t<g transform=\"translate(95.4,358.5)\" stroke=\"none\" fill=\"black\" font-family=\"Arial\" font-size=\"12.00\"  text-anchor=\"middle\">\n",
       "\t\t<text><tspan font-family=\"Arial\" > </tspan></text>\n",
       "\t</g>\n",
       "</g>\n",
       "<g fill=\"none\" color=\"black\" stroke=\"currentColor\" stroke-width=\"1.00\" stroke-linecap=\"butt\" stroke-linejoin=\"miter\">\n",
       "\t<path stroke='black'  d='M123.2,372.0 L123.2,381.0  '/>\t<g transform=\"translate(123.2,358.5)\" stroke=\"none\" fill=\"black\" font-family=\"Arial\" font-size=\"12.00\"  text-anchor=\"middle\">\n",
       "\t\t<text><tspan font-family=\"Arial\" > </tspan></text>\n",
       "\t</g>\n",
       "</g>\n",
       "<g fill=\"none\" color=\"black\" stroke=\"currentColor\" stroke-width=\"1.00\" stroke-linecap=\"butt\" stroke-linejoin=\"miter\">\n",
       "\t<path stroke='black'  d='M151.1,372.0 L151.1,381.0  '/>\t<g transform=\"translate(151.1,358.5)\" stroke=\"none\" fill=\"black\" font-family=\"Arial\" font-size=\"12.00\"  text-anchor=\"middle\">\n",
       "\t\t<text><tspan font-family=\"Arial\" > </tspan></text>\n",
       "\t</g>\n",
       "</g>\n",
       "<g fill=\"none\" color=\"black\" stroke=\"currentColor\" stroke-width=\"1.00\" stroke-linecap=\"butt\" stroke-linejoin=\"miter\">\n",
       "\t<path stroke='black'  d='M178.9,372.0 L178.9,381.0  '/>\t<g transform=\"translate(178.9,358.5)\" stroke=\"none\" fill=\"black\" font-family=\"Arial\" font-size=\"12.00\"  text-anchor=\"middle\">\n",
       "\t\t<text><tspan font-family=\"Arial\" > </tspan></text>\n",
       "\t</g>\n",
       "</g>\n",
       "<g fill=\"none\" color=\"black\" stroke=\"currentColor\" stroke-width=\"1.00\" stroke-linecap=\"butt\" stroke-linejoin=\"miter\">\n",
       "\t<path stroke='black'  d='M206.8,372.0 L206.8,381.0  '/>\t<g transform=\"translate(206.8,358.5)\" stroke=\"none\" fill=\"black\" font-family=\"Arial\" font-size=\"12.00\"  text-anchor=\"middle\">\n",
       "\t\t<text><tspan font-family=\"Arial\" > </tspan></text>\n",
       "\t</g>\n",
       "</g>\n",
       "<g fill=\"none\" color=\"black\" stroke=\"currentColor\" stroke-width=\"1.00\" stroke-linecap=\"butt\" stroke-linejoin=\"miter\">\n",
       "\t<path stroke='black'  d='M234.7,372.0 L234.7,381.0  '/>\t<g transform=\"translate(234.7,358.5)\" stroke=\"none\" fill=\"black\" font-family=\"Arial\" font-size=\"12.00\"  text-anchor=\"middle\">\n",
       "\t\t<text><tspan font-family=\"Arial\" > </tspan></text>\n",
       "\t</g>\n",
       "</g>\n",
       "<g fill=\"none\" color=\"black\" stroke=\"currentColor\" stroke-width=\"1.00\" stroke-linecap=\"butt\" stroke-linejoin=\"miter\">\n",
       "\t<path stroke='black'  d='M262.5,372.0 L262.5,381.0  '/>\t<g transform=\"translate(262.5,358.5)\" stroke=\"none\" fill=\"black\" font-family=\"Arial\" font-size=\"12.00\"  text-anchor=\"middle\">\n",
       "\t\t<text><tspan font-family=\"Arial\" > </tspan></text>\n",
       "\t</g>\n",
       "</g>\n",
       "<g fill=\"none\" color=\"black\" stroke=\"currentColor\" stroke-width=\"1.00\" stroke-linecap=\"butt\" stroke-linejoin=\"miter\">\n",
       "\t<path stroke='black'  d='M290.4,372.0 L290.4,381.0  '/>\t<g transform=\"translate(290.4,358.5)\" stroke=\"none\" fill=\"black\" font-family=\"Arial\" font-size=\"12.00\"  text-anchor=\"middle\">\n",
       "\t\t<text><tspan font-family=\"Arial\" > </tspan></text>\n",
       "\t</g>\n",
       "</g>\n",
       "<g fill=\"none\" color=\"black\" stroke=\"currentColor\" stroke-width=\"1.00\" stroke-linecap=\"butt\" stroke-linejoin=\"miter\">\n",
       "\t<path stroke='black'  d='M318.2,372.0 L318.2,381.0  '/>\t<g transform=\"translate(318.2,358.5)\" stroke=\"none\" fill=\"black\" font-family=\"Arial\" font-size=\"12.00\"  text-anchor=\"middle\">\n",
       "\t\t<text><tspan font-family=\"Arial\" > </tspan></text>\n",
       "\t</g>\n",
       "</g>\n",
       "<g fill=\"none\" color=\"black\" stroke=\"currentColor\" stroke-width=\"1.00\" stroke-linecap=\"butt\" stroke-linejoin=\"miter\">\n",
       "\t<path stroke='black'  d='M346.1,372.0 L346.1,381.0  '/>\t<g transform=\"translate(346.1,358.5)\" stroke=\"none\" fill=\"black\" font-family=\"Arial\" font-size=\"12.00\"  text-anchor=\"middle\">\n",
       "\t\t<text><tspan font-family=\"Arial\" > </tspan></text>\n",
       "\t</g>\n",
       "</g>\n",
       "<g fill=\"none\" color=\"black\" stroke=\"currentColor\" stroke-width=\"1.00\" stroke-linecap=\"butt\" stroke-linejoin=\"miter\">\n",
       "</g>\n",
       "<g fill=\"none\" color=\"black\" stroke=\"currentColor\" stroke-width=\"1.00\" stroke-linecap=\"butt\" stroke-linejoin=\"miter\">\n",
       "\t<path stroke='black'  d='M67.5,372.0 L67.5,539.5 L346.1,539.5 L346.1,372.0 L67.5,372.0 Z  '/></g>\n",
       "<g fill=\"none\" color=\"black\" stroke=\"currentColor\" stroke-width=\"1.00\" stroke-linecap=\"butt\" stroke-linejoin=\"miter\">\n",
       "\t<g transform=\"translate(21.5,455.8) rotate(270)\" stroke=\"none\" fill=\"black\" font-family=\"Arial\" font-size=\"12.00\"  text-anchor=\"middle\">\n",
       "\t\t<text><tspan font-family=\"Arial\" >L</tspan><tspan font-family=\"Arial\"  font-size=\"9.6\" dy=\"3.60px\">2</tspan><tspan font-family=\"Arial\"  font-size=\"12.0\" dy=\"-3.60px\"> Error</tspan></text>\n",
       "\t</g>\n",
       "</g>\n",
       "<g fill=\"none\" color=\"black\" stroke=\"currentColor\" stroke-width=\"1.00\" stroke-linecap=\"butt\" stroke-linejoin=\"miter\">\n",
       "\t<g transform=\"translate(206.8,589.0)\" stroke=\"none\" fill=\"black\" font-family=\"Arial\" font-size=\"12.00\"  text-anchor=\"middle\">\n",
       "\t\t<text><tspan font-family=\"Arial\" >h</tspan></text>\n",
       "\t</g>\n",
       "</g>\n",
       "<g fill=\"none\" color=\"black\" stroke=\"currentColor\" stroke-width=\"1.00\" stroke-linecap=\"butt\" stroke-linejoin=\"miter\">\n",
       "\t<g transform=\"translate(206.8,315.7)\" stroke=\"none\" fill=\"black\" font-family=\"Arial\" font-size=\"10.00\"  text-anchor=\"middle\">\n",
       "\t\t<text><tspan font-family=\"Arial\" >Pressure</tspan></text>\n",
       "\t</g>\n",
       "</g>\n",
       "\t<g id=\"gnuplot_plot_1c\" ><title>DGdegree:Pressure2</title>\n",
       "<g fill=\"none\" color=\"black\" stroke=\"currentColor\" stroke-width=\"1.00\" stroke-linecap=\"butt\" stroke-linejoin=\"miter\">\n",
       "\t<g transform=\"translate(138.0,399.0)\" stroke=\"none\" fill=\"black\" font-family=\"Arial\" font-size=\"16.00\"  text-anchor=\"start\">\n",
       "\t\t<text><tspan font-family=\"Arial\" >DGdegree:Pressure2</tspan></text>\n",
       "\t</g>\n",
       "</g>\n",
       "<g fill=\"none\" color=\"black\" stroke=\"currentColor\" stroke-width=\"1.00\" stroke-linecap=\"butt\" stroke-linejoin=\"miter\">\n",
       "\t<path stroke='rgb(255,   0,   0)'  d='M73.5,393.0 L126.9,393.0 M94.5,506.3 L136.4,468.1 L178.4,432.0 L220.3,404.7  '/>\t<use xlink:href='#gpPt12' transform='translate(94.5,506.3) scale(3.15)' color='rgb(255,   0,   0)'/>\n",
       "\t<use xlink:href='#gpPt12' transform='translate(136.4,468.1) scale(3.15)' color='rgb(255,   0,   0)'/>\n",
       "\t<use xlink:href='#gpPt12' transform='translate(178.4,432.0) scale(3.15)' color='rgb(255,   0,   0)'/>\n",
       "\t<use xlink:href='#gpPt12' transform='translate(220.3,404.7) scale(3.15)' color='rgb(255,   0,   0)'/>\n",
       "\t<use xlink:href='#gpPt12' transform='translate(100.2,393.0) scale(3.15)' color='rgb(255,   0,   0)'/>\n",
       "</g>\n",
       "\t</g>\n",
       "\t<g id=\"gnuplot_plot_2c\" ><title>DGdegree:Pressure1</title>\n",
       "<g fill=\"none\" color=\"black\" stroke=\"currentColor\" stroke-width=\"1.00\" stroke-linecap=\"butt\" stroke-linejoin=\"miter\">\n",
       "\t<g transform=\"translate(138.0,423.0)\" stroke=\"none\" fill=\"black\" font-family=\"Arial\" font-size=\"16.00\"  text-anchor=\"start\">\n",
       "\t\t<text><tspan font-family=\"Arial\" >DGdegree:Pressure1</tspan></text>\n",
       "\t</g>\n",
       "</g>\n",
       "<g fill=\"none\" color=\"black\" stroke=\"currentColor\" stroke-width=\"1.00\" stroke-linecap=\"butt\" stroke-linejoin=\"miter\">\n",
       "\t<path stroke='rgb(  0, 255,   0)'  d='M73.5,417.0 L126.9,417.0 M94.5,463.9 L136.4,431.8 L178.4,406.2 L220.3,387.8  '/>\t<use xlink:href='#gpPt4' transform='translate(94.5,463.9) scale(3.15)' color='rgb(  0, 255,   0)'/>\n",
       "\t<use xlink:href='#gpPt4' transform='translate(136.4,431.8) scale(3.15)' color='rgb(  0, 255,   0)'/>\n",
       "\t<use xlink:href='#gpPt4' transform='translate(178.4,406.2) scale(3.15)' color='rgb(  0, 255,   0)'/>\n",
       "\t<use xlink:href='#gpPt4' transform='translate(220.3,387.8) scale(3.15)' color='rgb(  0, 255,   0)'/>\n",
       "\t<use xlink:href='#gpPt4' transform='translate(100.2,417.0) scale(3.15)' color='rgb(  0, 255,   0)'/>\n",
       "</g>\n",
       "\t</g>\n",
       "\t<g id=\"gnuplot_plot_3c\" ><title>DGdegree:Pressure0</title>\n",
       "<g fill=\"none\" color=\"black\" stroke=\"currentColor\" stroke-width=\"1.00\" stroke-linecap=\"butt\" stroke-linejoin=\"miter\">\n",
       "\t<g transform=\"translate(138.0,447.0)\" stroke=\"none\" fill=\"black\" font-family=\"Arial\" font-size=\"16.00\"  text-anchor=\"start\">\n",
       "\t\t<text><tspan font-family=\"Arial\" >DGdegree:Pressure0</tspan></text>\n",
       "\t</g>\n",
       "</g>\n",
       "<g fill=\"none\" color=\"black\" stroke=\"currentColor\" stroke-width=\"1.00\" stroke-linecap=\"butt\" stroke-linejoin=\"miter\">\n",
       "\t<path stroke='rgb(  0,   0, 255)'  d='M73.5,441.0 L126.9,441.0 M94.5,421.5 L136.4,402.0 L178.4,386.0 L220.3,373.4  '/>\t<use xlink:href='#gpPt8' transform='translate(94.5,421.5) scale(3.15)' color='rgb(  0,   0, 255)'/>\n",
       "\t<use xlink:href='#gpPt8' transform='translate(136.4,402.0) scale(3.15)' color='rgb(  0,   0, 255)'/>\n",
       "\t<use xlink:href='#gpPt8' transform='translate(178.4,386.0) scale(3.15)' color='rgb(  0,   0, 255)'/>\n",
       "\t<use xlink:href='#gpPt8' transform='translate(220.3,373.4) scale(3.15)' color='rgb(  0,   0, 255)'/>\n",
       "\t<use xlink:href='#gpPt8' transform='translate(100.2,441.0) scale(3.15)' color='rgb(  0,   0, 255)'/>\n",
       "</g>\n",
       "\t</g>\n",
       "<g fill=\"none\" color=\"#FFFFFF\" stroke=\"rgb(  0,   0, 255)\" stroke-width=\"2.00\" stroke-linecap=\"butt\" stroke-linejoin=\"miter\">\n",
       "</g>\n",
       "<g fill=\"none\" color=\"black\" stroke=\"currentColor\" stroke-width=\"2.00\" stroke-linecap=\"butt\" stroke-linejoin=\"miter\">\n",
       "</g>\n",
       "<g fill=\"none\" color=\"black\" stroke=\"black\" stroke-width=\"1.00\" stroke-linecap=\"butt\" stroke-linejoin=\"miter\">\n",
       "</g>\n",
       "<g fill=\"none\" color=\"black\" stroke=\"currentColor\" stroke-width=\"1.00\" stroke-linecap=\"butt\" stroke-linejoin=\"miter\">\n",
       "\t<path stroke='black'  d='M67.5,372.0 L67.5,539.5 L346.1,539.5 L346.1,372.0 L67.5,372.0 Z  '/></g>\n",
       "<g fill=\"none\" color=\"black\" stroke=\"currentColor\" stroke-width=\"1.00\" stroke-linecap=\"butt\" stroke-linejoin=\"miter\">\n",
       "</g>\n",
       "</g>\n",
       "</svg>\n",
       "\n"
      ]
     },
     "metadata": {},
     "output_type": "display_data"
    }
   ],
   "source": [
    "PlotTable.PlotNow()"
   ]
  },
  {
   "cell_type": "code",
   "execution_count": 21,
   "metadata": {
    "dotnet_interactive": {
     "language": "csharp"
    },
    "polyglot_notebook": {
     "kernelName": "csharp"
    },
    "vscode": {
     "languageId": "polyglot-notebook"
    }
   },
   "outputs": [
    {
     "name": "stdout",
     "output_type": "stream",
     "text": [
      "VelocityX\n",
      "DG degree: 3 \tSlope: 3.491142290094649\t(-)\n",
      "DG degree: 2 \tSlope: 2.5884183294619043\t(-)\n",
      "DG degree: 1 \tSlope: 1.4746546665817304\t(-)\n",
      "VelocityY\n",
      "DG degree: 3 \tSlope: 3.5066102548935403\t(-)\n",
      "DG degree: 2 \tSlope: 2.5747397545959267\t(-)\n",
      "DG degree: 1 \tSlope: 1.4715735577547855\t(-)\n",
      "Pressure\n",
      "DG degree: 2 \tSlope: 2.7064738107474584\t(-)\n",
      "DG degree: 1 \tSlope: 2.015717925321525\t(+)\n",
      "DG degree: 0 \tSlope: 1.2708900054000984\t(+)\n",
      "Residual-ContiEq\n",
      "DG degree: 3 \tSlope: NaN\t(-)\n",
      "DG degree: 2 \tSlope: NaN\t(-)\n",
      "DG degree: 1 \tSlope: NaN\t(-)\n"
     ]
    }
   ],
   "source": [
    "int cnt = 0;\n",
    "foreach(var reg in RegressionS){\n",
    "    Console.WriteLine(varNames[cnt]);\n",
    "    var regB = reg.ToArray();\n",
    "    for(int j = 0; j < regB.Length; j++){       \n",
    "        int dgDeg = ( regB[j].Key).Last() - '0';\n",
    "        Console.Write(\"DG degree: \"+ dgDeg+ \" \\t\");\n",
    "        double slope = regB[j].Value;\n",
    "        Console.Write(\"Slope: \" +slope + \"\\t\");\n",
    "\n",
    "        if((slope - (dgDeg + 1) ) >= -0.2)\n",
    "        Console.WriteLine(\"(+)\"); //Console.WriteLine(\"Expected slope archieved\");\n",
    "        else\n",
    "        Console.WriteLine(\"(-)\");\n",
    "    }\n",
    "    cnt++;\n",
    "}"
   ]
  },
  {
   "cell_type": "code",
   "execution_count": 18,
   "metadata": {
    "dotnet_interactive": {
     "language": "csharp"
    },
    "polyglot_notebook": {
     "kernelName": "csharp"
    },
    "vscode": {
     "languageId": "polyglot-notebook"
    }
   },
   "outputs": [],
   "source": []
  }
 ],
 "metadata": {
  "kernelspec": {
   "display_name": ".NET (C#)",
   "language": "C#",
   "name": ".net-csharp"
  },
  "language_info": {
   "name": "python"
  },
  "polyglot_notebook": {
   "kernelInfo": {
    "defaultKernelName": "csharp",
    "items": [
     {
      "aliases": [],
      "name": "csharp"
     }
    ]
   }
  }
 },
 "nbformat": 4,
 "nbformat_minor": 2
}

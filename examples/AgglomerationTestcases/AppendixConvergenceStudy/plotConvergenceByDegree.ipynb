{
 "cells": [
  {
   "cell_type": "code",
   "execution_count": 1,
   "metadata": {
    "dotnet_interactive": {
     "language": "csharp"
    },
    "polyglot_notebook": {
     "kernelName": "csharp"
    },
    "vscode": {
     "languageId": "polyglot-notebook"
    }
   },
   "outputs": [],
   "source": [
    "#r \"./../../../../../public/src/L4-application/BoSSSpad/bin/Release/net6.0/BoSSSpad.dll\"\n",
    "using System;\n",
    "using System.Threading;\n",
    "using System.Diagnostics;\n",
    "using ilPSP;\n",
    "using ilPSP.Utils;\n",
    "using BoSSS.Platform;\n",
    "using BoSSS.Foundation;\n",
    "using BoSSS.Foundation.XDG;\n",
    "using BoSSS.Foundation.Grid;\n",
    "using BoSSS.Solution;\n",
    "using BoSSS.Application.XNSE_Solver;\n",
    "using BoSSS.Application.BoSSSpad;\n",
    "using BoSSS.Foundation.Grid.Classic;\n",
    "using BoSSS.Foundation.IO;\n",
    "using BoSSS.Solution.AdvancedSolvers;\n",
    "using BoSSS.Solution.Control;\n",
    "using BoSSS.Solution.XNSECommon;\n",
    "using BoSSS.Solution.NSECommon;\n",
    "//using BoSSS.XNSE_Solver;\n",
    "using BoSSS.Solution.LoadBalancing;\n",
    "using BoSSS.Solution.LevelSetTools;\n",
    "using BoSSS.Solution.XdgTimestepping;\n",
    "using BoSSS.Solution.Utils;\n",
    "using System.IO;\n",
    "using BoSSS.Application.XNSE_Solver.PhysicalBasedTestcases;\n",
    "using static BoSSS.Application.BoSSSpad.BoSSSshell;\n",
    "using MomentFittingVariants = BoSSS.Foundation.XDG.XQuadFactoryHelper.MomentFittingVariants;\n",
    "Init();"
   ]
  },
  {
   "cell_type": "code",
   "execution_count": 2,
   "metadata": {
    "dotnet_interactive": {
     "language": "csharp"
    },
    "polyglot_notebook": {
     "kernelName": "csharp"
    },
    "vscode": {
     "languageId": "polyglot-notebook"
    }
   },
   "outputs": [],
   "source": [
    "// Is used at Jenkins to generate individual names (for output .json)\n",
    "string dbname = System.Environment.GetEnvironmentVariable(\"DATABASE_NAME\");\n",
    "string buildname = System.Environment.GetEnvironmentVariable(\"JOB_NAME\");\n",
    "//defaults\n",
    "buildname = String.IsNullOrEmpty(buildname)? \"VanishingSphere2D\" : buildname; //Popcorn2D  VanishingSphere2D\n",
    "//string thedate = $\"{System.DateTime.Today.Day}-{System.DateTime.Today.Month}-{System.DateTime.Today.Year}\";\n",
    "dbname = String.IsNullOrEmpty(dbname)? \"convergenceAggSteadyStokesExactBC\" : dbname; //Collison´2\n",
    "string table_name = String.Concat(buildname, \"_\", dbname);"
   ]
  },
  {
   "cell_type": "code",
   "execution_count": 3,
   "metadata": {
    "dotnet_interactive": {
     "language": "csharp"
    },
    "polyglot_notebook": {
     "kernelName": "csharp"
    },
    "vscode": {
     "languageId": "polyglot-notebook"
    }
   },
   "outputs": [],
   "source": [
    "using BoSSS.Solution.Gnuplot;\n"
   ]
  },
  {
   "cell_type": "code",
   "execution_count": 4,
   "metadata": {
    "dotnet_interactive": {
     "language": "csharp"
    },
    "polyglot_notebook": {
     "kernelName": "csharp"
    },
    "vscode": {
     "languageId": "polyglot-notebook"
    }
   },
   "outputs": [
    {
     "data": {
      "text/plain": [
       "{ Session Count = 90; Grid Count = 10; Path = \\\\dc3\\userspace\\toprak\\BoSSS-ConvSteadyFinal\\VanishingSphere2D_convergenceAggSteadyStokesExactBC }"
      ]
     },
     "metadata": {},
     "output_type": "display_data"
    }
   ],
   "source": [
    "//ExecutionQueues\n",
    "var myBatch = ExecutionQueues[5];\n",
    "string WFlowName = table_name;\n",
    "BoSSS.Application.BoSSSpad.BoSSSshell.WorkflowMgm.Init(WFlowName,myBatch);\n",
    "BoSSS.Application.BoSSSpad.BoSSSshell.WorkflowMgm.SetNameBasedSessionJobControlCorrelation();\n",
    "var myDB = BoSSS.Application.BoSSSpad.BoSSSshell.WorkflowMgm.DefaultDatabase; \n",
    "myDB"
   ]
  },
  {
   "cell_type": "code",
   "execution_count": 5,
   "metadata": {
    "dotnet_interactive": {
     "language": "csharp"
    },
    "polyglot_notebook": {
     "kernelName": "csharp"
    },
    "vscode": {
     "languageId": "polyglot-notebook"
    }
   },
   "outputs": [
    {
     "data": {
      "text/plain": [
       "#0: VanishingSphere2D_convergenceAggSteadyStokesExactBC\tSolverTrue_J57600_k3_agg0.2_AMRFalse_LBFalse_atZ_r0.6_W6.94_2D_StokesdRdt0.00_MUMPS_Steady_ct1\t8/20/2024 1:03:04 PM\t4e6c9e76...\r\n",
       "#1: VanishingSphere2D_convergenceAggSteadyStokesExactBC\tSolverTrue_J57600_k3_agg0.5_AMRFalse_LBFalse_atZ_r0.6_W6.94_2D_StokesdRdt0.00_MUMPS_Steady_ct1\t8/20/2024 1:04:14 PM\t136662d2...\r\n",
       "#2: VanishingSphere2D_convergenceAggSteadyStokesExactBC\tSolverTrue_J57600_k3_agg0.4_AMRFalse_LBFalse_atZ_r0.6_W6.94_2D_StokesdRdt0.00_MUMPS_Steady_ct1\t8/20/2024 1:03:59 PM\t2e86a22b...\r\n",
       "#3: VanishingSphere2D_convergenceAggSteadyStokesExactBC\tSolverTrue_J57600_k3_agg0.3_AMRFalse_LBFalse_atZ_r0.6_W6.94_2D_StokesdRdt0.00_MUMPS_Steady_ct1\t8/20/2024 1:03:43 PM\t99b0760f...\r\n",
       "#4: VanishingSphere2D_convergenceAggSteadyStokesExactBC\tSolverTrue_J57600_k2_agg0.5_AMRFalse_LBFalse_atZ_r0.6_W6.94_2D_StokesdRdt0.00_MUMPS_Steady_ct1\t8/20/2024 1:02:52 PM\tfa95be63...\r\n",
       "#5: VanishingSphere2D_convergenceAggSteadyStokesExactBC\tSolverTrue_J57600_k2_agg0.3_AMRFalse_LBFalse_atZ_r0.6_W6.94_2D_StokesdRdt0.00_MUMPS_Steady_ct1\t8/20/2024 1:02:20 PM\t283173f3...\r\n",
       "#6: VanishingSphere2D_convergenceAggSteadyStokesExactBC\tSolverTrue_J57600_k2_agg0.4_AMRFalse_LBFalse_atZ_r0.6_W6.94_2D_StokesdRdt0.00_MUMPS_Steady_ct1\t8/20/2024 1:02:57 PM\t08a39405...\r\n",
       "#7: VanishingSphere2D_convergenceAggSteadyStokesExactBC\tSolverTrue_J57600_k2_agg0.2_AMRFalse_LBFalse_atZ_r0.6_W6.94_2D_StokesdRdt0.00_MUMPS_Steady_ct1\t8/20/2024 1:02:28 PM\t4a8f2666...\r\n",
       "#8: VanishingSphere2D_convergenceAggSteadyStokesExactBC\tSolverTrue_J57600_k1_agg0.5_AMRFalse_LBFalse_atZ_r0.6_W6.94_2D_StokesdRdt0.00_MUMPS_Steady_ct1\t8/20/2024 1:01:50 PM\t7a522cf4...\r\n",
       "#9: VanishingSphere2D_convergenceAggSteadyStokesExactBC\tSolverTrue_J57600_k1_agg0.2_AMRFalse_LBFalse_atZ_r0.6_W6.94_2D_StokesdRdt0.00_MUMPS_Steady_ct1\t8/20/2024 1:01:05 PM\td1605032...\r\n",
       "#10: VanishingSphere2D_convergenceAggSteadyStokesExactBC\tSolverTrue_J57600_k1_agg0.3_AMRFalse_LBFalse_atZ_r0.6_W6.94_2D_StokesdRdt0.00_MUMPS_Steady_ct1\t8/20/2024 1:01:20 PM\t375df17f...\r\n",
       "#11: VanishingSphere2D_convergenceAggSteadyStokesExactBC\tSolverTrue_J57600_k1_agg0.4_AMRFalse_LBFalse_atZ_r0.6_W6.94_2D_StokesdRdt0.00_MUMPS_Steady_ct1\t8/20/2024 1:01:57 PM\t53269d71...\r\n",
       "#12: VanishingSphere2D_convergenceAggSteadyStokesExactBC\tSolverTrue_J14400_k3_agg0.3_AMRFalse_LBFalse_atZ_r0.6_W6.94_2D_StokesdRdt0.00_MUMPS_Steady_ct1\t8/20/2024 1:00:47 PM\t3a521c00...\r\n",
       "#13: VanishingSphere2D_convergenceAggSteadyStokesExactBC\tSolverTrue_J14400_k3_agg0.5_AMRFalse_LBFalse_atZ_r0.6_W6.94_2D_StokesdRdt0.00_MUMPS_Steady_ct1\t8/20/2024 1:01:11 PM\te7cbb069...\r\n",
       "#14: VanishingSphere2D_convergenceAggSteadyStokesExactBC\tSolverTrue_J14400_k3_agg0.4_AMRFalse_LBFalse_atZ_r0.6_W6.94_2D_StokesdRdt0.00_MUMPS_Steady_ct1\t8/20/2024 1:00:55 PM\t9348735c...\r\n",
       "#15: VanishingSphere2D_convergenceAggSteadyStokesExactBC\tSolverTrue_J14400_k3_agg0.2_AMRFalse_LBFalse_atZ_r0.6_W6.94_2D_StokesdRdt0.00_MUMPS_Steady_ct1\t8/20/2024 1:00:27 PM\tb237d1c9...\r\n",
       "#16: VanishingSphere2D_convergenceAggSteadyStokesExactBC\tSolverTrue_J14400_k2_agg0.5_AMRFalse_LBFalse_atZ_r0.6_W6.94_2D_StokesdRdt0.00_MUMPS_Steady_ct1\t8/20/2024 12:59:50 PM\tb0fd21fe...\r\n",
       "#17: VanishingSphere2D_convergenceAggSteadyStokesExactBC\tSolverTrue_J14400_k2_agg0.4_AMRFalse_LBFalse_atZ_r0.6_W6.94_2D_StokesdRdt0.00_MUMPS_Steady_ct1\t8/20/2024 12:59:37 PM\teb2505eb...\r\n",
       "#18: VanishingSphere2D_convergenceAggSteadyStokesExactBC\tSolverTrue_J14400_k2_agg0.2_AMRFalse_LBFalse_atZ_r0.6_W6.94_2D_StokesdRdt0.00_MUMPS_Steady_ct1\t8/20/2024 12:59:07 PM\tf78f302f...\r\n",
       "#19: VanishingSphere2D_convergenceAggSteadyStokesExactBC\tSolverTrue_J14400_k2_agg0.3_AMRFalse_LBFalse_atZ_r0.6_W6.94_2D_StokesdRdt0.00_MUMPS_Steady_ct1\t8/20/2024 12:59:43 PM\t0e9ae17c...\r\n",
       "#20: VanishingSphere2D_convergenceAggSteadyStokesExactBC\tSolverTrue_J14400_k1_agg0.5_AMRFalse_LBFalse_atZ_r0.6_W6.94_2D_StokesdRdt0.00_MUMPS_Steady_ct1\t8/20/2024 12:58:53 PM\tb93dedff...\r\n",
       "#21: VanishingSphere2D_convergenceAggSteadyStokesExactBC\tSolverTrue_J14400_k1_agg0.3_AMRFalse_LBFalse_atZ_r0.6_W6.94_2D_StokesdRdt0.00_MUMPS_Steady_ct1\t8/20/2024 12:58:23 PM\t72a9bd97...\r\n",
       "#22: VanishingSphere2D_convergenceAggSteadyStokesExactBC\tSolverTrue_J14400_k1_agg0.2_AMRFalse_LBFalse_atZ_r0.6_W6.94_2D_StokesdRdt0.00_MUMPS_Steady_ct1\t8/20/2024 12:58:09 PM\t11ca66dd...\r\n",
       "#23: VanishingSphere2D_convergenceAggSteadyStokesExactBC\tSolverTrue_J14400_k1_agg0.4_AMRFalse_LBFalse_atZ_r0.6_W6.94_2D_StokesdRdt0.00_MUMPS_Steady_ct1\t8/20/2024 12:58:59 PM\t63cc4d38...\r\n",
       "#24: VanishingSphere2D_convergenceAggSteadyStokesExactBC\tSolverTrue_J3600_k3_agg0.4_AMRFalse_LBFalse_atZ_r0.6_W6.94_2D_StokesdRdt0.00_MUMPS_Steady_ct1\t8/20/2024 12:58:06 PM\td2161ade...\r\n",
       "#25: VanishingSphere2D_convergenceAggSteadyStokesExactBC\tSolverTrue_J3600_k3_agg0.5_AMRFalse_LBFalse_atZ_r0.6_W6.94_2D_StokesdRdt0.00_MUMPS_Steady_ct1\t8/20/2024 12:58:16 PM\tfc82b1d4...\r\n",
       "#26: VanishingSphere2D_convergenceAggSteadyStokesExactBC\tSolverTrue_J3600_k3_agg0.3_AMRFalse_LBFalse_atZ_r0.6_W6.94_2D_StokesdRdt0.00_MUMPS_Steady_ct1\t8/20/2024 12:57:25 PM\t330f8d9c...\r\n",
       "#27: VanishingSphere2D_convergenceAggSteadyStokesExactBC\tSolverTrue_J3600_k3_agg0.2_AMRFalse_LBFalse_atZ_r0.6_W6.94_2D_StokesdRdt0.00_MUMPS_Steady_ct1\t8/20/2024 12:57:11 PM\t904ef2a9...\r\n",
       "#28: VanishingSphere2D_convergenceAggSteadyStokesExactBC\tSolverTrue_J3600_k2_agg0.5_AMRFalse_LBFalse_atZ_r0.6_W6.94_2D_StokesdRdt0.00_MUMPS_Steady_ct1\t8/20/2024 12:56:57 PM\td8e40a76...\r\n",
       "#29: VanishingSphere2D_convergenceAggSteadyStokesExactBC\tSolverTrue_J3600_k2_agg0.4_AMRFalse_LBFalse_atZ_r0.6_W6.94_2D_StokesdRdt0.00_MUMPS_Steady_ct1\t8/20/2024 12:56:43 PM\t62d01af5...\r\n",
       "#30: VanishingSphere2D_convergenceAggSteadyStokesExactBC\tSolverTrue_J3600_k2_agg0.3_AMRFalse_LBFalse_atZ_r0.6_W6.94_2D_StokesdRdt0.00_MUMPS_Steady_ct1\t8/20/2024 12:56:28 PM\t0d260ce4...\r\n",
       "#31: VanishingSphere2D_convergenceAggSteadyStokesExactBC\tSolverTrue_J3600_k2_agg0.2_AMRFalse_LBFalse_atZ_r0.6_W6.94_2D_StokesdRdt0.00_MUMPS_Steady_ct1\t8/20/2024 12:56:13 PM\ta1337f4f...\r\n",
       "#32: VanishingSphere2D_convergenceAggSteadyStokesExactBC\tSolverTrue_J3600_k1_agg0.5_AMRFalse_LBFalse_atZ_r0.6_W6.94_2D_StokesdRdt0.00_MUMPS_Steady_ct1\t8/20/2024 12:56:00 PM\ta436ddb8...\r\n",
       "#33: VanishingSphere2D_convergenceAggSteadyStokesExactBC\tSolverTrue_J3600_k1_agg0.4_AMRFalse_LBFalse_atZ_r0.6_W6.94_2D_StokesdRdt0.00_MUMPS_Steady_ct1\t8/20/2024 12:56:05 PM\t28d37cde...\r\n",
       "#34: VanishingSphere2D_convergenceAggSteadyStokesExactBC\tSolverTrue_J3600_k1_agg0.3_AMRFalse_LBFalse_atZ_r0.6_W6.94_2D_StokesdRdt0.00_MUMPS_Steady_ct1\t8/20/2024 12:55:30 PM\t8bb9d0bb...\r\n",
       "#35: VanishingSphere2D_convergenceAggSteadyStokesExactBC\tSolverTrue_J3600_k1_agg0.2_AMRFalse_LBFalse_atZ_r0.6_W6.94_2D_StokesdRdt0.00_MUMPS_Steady_ct1\t8/20/2024 12:55:16 PM\t44e5d3fe...\r\n",
       "#36: VanishingSphere2D_convergenceAggSteadyStokesExactBC\tSolverTrue_J900_k3_agg0.5_AMRFalse_LBFalse_atZ_r0.6_W6.94_2D_StokesdRdt0.00_MUMPS_Steady_ct1\t8/20/2024 12:55:02 PM\tc55b97d0...\r\n",
       "#37: VanishingSphere2D_convergenceAggSteadyStokesExactBC\tSolverTrue_J900_k3_agg0.4_AMRFalse_LBFalse_atZ_r0.6_W6.94_2D_StokesdRdt0.00_MUMPS_Steady_ct1\t8/20/2024 12:54:47 PM\te33d8a43...\r\n",
       "#38: VanishingSphere2D_convergenceAggSteadyStokesExactBC\tSolverTrue_J900_k3_agg0.3_AMRFalse_LBFalse_atZ_r0.6_W6.94_2D_StokesdRdt0.00_MUMPS_Steady_ct1\t8/20/2024 12:54:32 PM\t6f1fe357...\r\n",
       "#39: VanishingSphere2D_convergenceAggSteadyStokesExactBC\tSolverTrue_J900_k2_agg0.5_AMRFalse_LBFalse_atZ_r0.6_W6.94_2D_StokesdRdt0.00_MUMPS_Steady_ct1\t8/20/2024 12:54:31 PM\t0c955b6f...\r\n",
       "#40: VanishingSphere2D_convergenceAggSteadyStokesExactBC\tSolverTrue_J900_k3_agg0.2_AMRFalse_LBFalse_atZ_r0.6_W6.94_2D_StokesdRdt0.00_MUMPS_Steady_ct1\t8/20/2024 12:54:19 PM\t438d79f9...\r\n",
       "#41: VanishingSphere2D_convergenceAggSteadyStokesExactBC\tSolverTrue_J900_k2_agg0.4_AMRFalse_LBFalse_atZ_r0.6_W6.94_2D_StokesdRdt0.00_MUMPS_Steady_ct1\t8/20/2024 12:53:50 PM\t0c5ad71d...\r\n",
       "#42: VanishingSphere2D_convergenceAggSteadyStokesExactBC\tSolverTrue_J900_k2_agg0.3_AMRFalse_LBFalse_atZ_r0.6_W6.94_2D_StokesdRdt0.00_MUMPS_Steady_ct1\t8/20/2024 12:53:36 PM\t782e5be9...\r\n",
       "#43: VanishingSphere2D_convergenceAggSteadyStokesExactBC\tSolverTrue_J900_k2_agg0.2_AMRFalse_LBFalse_atZ_r0.6_W6.94_2D_StokesdRdt0.00_MUMPS_Steady_ct1\t8/20/2024 12:53:20 PM\t9385efc7...\r\n",
       "#44: VanishingSphere2D_convergenceAggSteadyStokesExactBC\tSolverTrue_J900_k1_agg0.5_AMRFalse_LBFalse_atZ_r0.6_W6.94_2D_StokesdRdt0.00_MUMPS_Steady_ct1\t8/20/2024 12:53:07 PM\t70735e91...\r\n",
       "#45: VanishingSphere2D_convergenceAggSteadyStokesExactBC\tSolverTrue_J900_k1_agg0.4_AMRFalse_LBFalse_atZ_r0.6_W6.94_2D_StokesdRdt0.00_MUMPS_Steady_ct1\t8/20/2024 12:52:53 PM\tba3a8ade...\r\n",
       "#46: VanishingSphere2D_convergenceAggSteadyStokesExactBC\tSolverTrue_J900_k1_agg0.3_AMRFalse_LBFalse_atZ_r0.6_W6.94_2D_StokesdRdt0.00_MUMPS_Steady_ct1\t8/20/2024 12:52:37 PM\t662cd52e...\r\n",
       "#47: VanishingSphere2D_convergenceAggSteadyStokesExactBC\tSolverTrue_J900_k1_agg0.2_AMRFalse_LBFalse_atZ_r0.6_W6.94_2D_StokesdRdt0.00_MUMPS_Steady_ct1\t8/20/2024 12:52:23 PM\tbad065ba...\r\n",
       "#48: VanishingSphere2D_convergenceAggSteadyStokesExactBC\tSolverTrue_J225_k3_agg0.5_AMRFalse_LBFalse_atZ_r0.6_W6.94_2D_StokesdRdt0.00_MUMPS_Steady_ct1\t8/20/2024 12:52:09 PM\t9a253d7a...\r\n",
       "#49: VanishingSphere2D_convergenceAggSteadyStokesExactBC\tSolverTrue_J225_k3_agg0.4_AMRFalse_LBFalse_atZ_r0.6_W6.94_2D_StokesdRdt0.00_MUMPS_Steady_ct1\t8/20/2024 12:51:54 PM\tcef1397d...\r\n",
       "#50: VanishingSphere2D_convergenceAggSteadyStokesExactBC\tSolverTrue_J225_k3_agg0.3_AMRFalse_LBFalse_atZ_r0.6_W6.94_2D_StokesdRdt0.00_MUMPS_Steady_ct1\t8/20/2024 12:51:40 PM\t1d4700d0...\r\n",
       "#51: VanishingSphere2D_convergenceAggSteadyStokesExactBC\tSolverTrue_J225_k3_agg0.2_AMRFalse_LBFalse_atZ_r0.6_W6.94_2D_StokesdRdt0.00_MUMPS_Steady_ct1\t8/20/2024 12:51:26 PM\te9a3f471...\r\n",
       "#52: VanishingSphere2D_convergenceAggSteadyStokesExactBC\tSolverTrue_J225_k2_agg0.5_AMRFalse_LBFalse_atZ_r0.6_W6.94_2D_StokesdRdt0.00_MUMPS_Steady_ct1\t8/20/2024 12:51:13 PM\t2971a1b4...\r\n",
       "#53: VanishingSphere2D_convergenceAggSteadyStokesExactBC\tSolverTrue_J225_k2_agg0.4_AMRFalse_LBFalse_atZ_r0.6_W6.94_2D_StokesdRdt0.00_MUMPS_Steady_ct1\t8/20/2024 12:50:57 PM\t7a2ec450...\r\n",
       "#54: VanishingSphere2D_convergenceAggSteadyStokesExactBC\tSolverTrue_J225_k2_agg0.3_AMRFalse_LBFalse_atZ_r0.6_W6.94_2D_StokesdRdt0.00_MUMPS_Steady_ct1\t8/20/2024 12:50:44 PM\t1868869d...\r\n",
       "#55: VanishingSphere2D_convergenceAggSteadyStokesExactBC\tSolverTrue_J225_k2_agg0.2_AMRFalse_LBFalse_atZ_r0.6_W6.94_2D_StokesdRdt0.00_MUMPS_Steady_ct1\t8/20/2024 12:50:29 PM\ta43b2911...\r\n",
       "#56: VanishingSphere2D_convergenceAggSteadyStokesExactBC\tSolverTrue_J225_k1_agg0.5_AMRFalse_LBFalse_atZ_r0.6_W6.94_2D_StokesdRdt0.00_MUMPS_Steady_ct1\t8/20/2024 12:50:15 PM\tc22ecfed...\r\n",
       "#57: VanishingSphere2D_convergenceAggSteadyStokesExactBC\tSolverTrue_J225_k1_agg0.4_AMRFalse_LBFalse_atZ_r0.6_W6.94_2D_StokesdRdt0.00_MUMPS_Steady_ct1\t8/20/2024 12:50:01 PM\t2286726d...\r\n",
       "#58: VanishingSphere2D_convergenceAggSteadyStokesExactBC\tSolverTrue_J225_k1_agg0.3_AMRFalse_LBFalse_atZ_r0.6_W6.94_2D_StokesdRdt0.00_MUMPS_Steady_ct1\t8/20/2024 12:49:46 PM\tde0b0296...\r\n",
       "#59: VanishingSphere2D_convergenceAggSteadyStokesExactBC\tSolverTrue_J225_k1_agg0.2_AMRFalse_LBFalse_atZ_r0.6_W6.94_2D_StokesdRdt0.00_MUMPS_Steady_ct1\t8/20/2024 12:49:34 PM\t5c3bfbef...\r\n",
       "#60: VanishingSphere2D_convergenceAggSteadyStokesExactBC\tSolverTrue_J57600_k2_agg0.1_AMRFalse_LBFalse_atZ_r0.6_W6.94_2D_StokesdRdt0.00_MUMPS_Steady_re_ct1\t8/20/2024 12:09:22 PM\t70dfbcfa...\r\n",
       "#61: VanishingSphere2D_convergenceAggSteadyStokesExactBC\tSolverTrue_J14400_k2_agg0.1_AMRFalse_LBFalse_atZ_r0.6_W6.94_2D_StokesdRdt0.00_MUMPS_Steady_ct1\t8/19/2024 5:53:33 PM\t19c5feaa...\r\n",
       "#62: VanishingSphere2D_convergenceAggSteadyStokesExactBC\tSolverTrue_J900_k1_agg0_AMRFalse_LBFalse_atZ_r0.6_W6.94_2D_StokesdRdt0.00_MUMPS_Steady_ct1\t8/19/2024 5:42:18 PM\tec218148...\r\n",
       "#63: VanishingSphere2D_convergenceAggSteadyStokesExactBC\tSolverTrue_J57600_k3_agg0_AMRFalse_LBFalse_atZ_r0.6_W6.94_2D_StokesdRdt0.00_MUMPS_Steady_ct1\t8/19/2024 5:54:37 PM\t327ede89...\r\n",
       "#64: VanishingSphere2D_convergenceAggSteadyStokesExactBC\tSolverTrue_J57600_k3_agg0.1_AMRFalse_LBFalse_atZ_r0.6_W6.94_2D_StokesdRdt0.00_MUMPS_Steady_ct1\t8/19/2024 5:55:15 PM\tf29abd0b...\r\n",
       "#65: VanishingSphere2D_convergenceAggSteadyStokesExactBC\tSolverTrue_J57600_k2_agg0_AMRFalse_LBFalse_atZ_r0.6_W6.94_2D_StokesdRdt0.00_MUMPS_Steady_ct1\t8/19/2024 5:54:33 PM\t4bb25845...\r\n",
       "#66: VanishingSphere2D_convergenceAggSteadyStokesExactBC\tSolverTrue_J14400_k3_agg0_AMRFalse_LBFalse_atZ_r0.6_W6.94_2D_StokesdRdt0.00_MUMPS_Steady_ct1\t8/19/2024 5:53:46 PM\tde859855...\r\n",
       "#67: VanishingSphere2D_convergenceAggSteadyStokesExactBC\tSolverTrue_J14400_k3_agg0.1_AMRFalse_LBFalse_atZ_r0.6_W6.94_2D_StokesdRdt0.00_MUMPS_Steady_ct1\t8/19/2024 5:54:19 PM\t80c3b6eb...\r\n",
       "#68: VanishingSphere2D_convergenceAggSteadyStokesExactBC\tSolverTrue_J14400_k2_agg0_AMRFalse_LBFalse_atZ_r0.6_W6.94_2D_StokesdRdt0.00_MUMPS_Steady_ct1\t8/19/2024 5:53:15 PM\t7fde046d...\r\n",
       "#69: VanishingSphere2D_convergenceAggSteadyStokesExactBC\tSolverTrue_J3600_k3_agg0.1_AMRFalse_LBFalse_atZ_r0.6_W6.94_2D_StokesdRdt0.00_MUMPS_Steady_ct1\t8/19/2024 5:53:01 PM\t5fe1787f...\r\n",
       "#70: VanishingSphere2D_convergenceAggSteadyStokesExactBC\tSolverTrue_J3600_k3_agg0_AMRFalse_LBFalse_atZ_r0.6_W6.94_2D_StokesdRdt0.00_MUMPS_Steady_ct1\t8/19/2024 5:52:45 PM\tfedbf37a...\r\n",
       "#71: VanishingSphere2D_convergenceAggSteadyStokesExactBC\tSolverTrue_J3600_k2_agg0.1_AMRFalse_LBFalse_atZ_r0.6_W6.94_2D_StokesdRdt0.00_MUMPS_Steady_ct1\t8/19/2024 5:52:30 PM\t7b041073...\r\n",
       "#72: VanishingSphere2D_convergenceAggSteadyStokesExactBC\tSolverTrue_J3600_k2_agg0_AMRFalse_LBFalse_atZ_r0.6_W6.94_2D_StokesdRdt0.00_MUMPS_Steady_ct1\t8/19/2024 5:52:39 PM\tfbaa1256...\r\n",
       "#73: VanishingSphere2D_convergenceAggSteadyStokesExactBC\tSolverTrue_J900_k3_agg0.1_AMRFalse_LBFalse_atZ_r0.6_W6.94_2D_StokesdRdt0.00_MUMPS_Steady_ct1\t8/19/2024 5:52:24 PM\t162e3886...\r\n",
       "#74: VanishingSphere2D_convergenceAggSteadyStokesExactBC\tSolverTrue_J900_k3_agg0_AMRFalse_LBFalse_atZ_r0.6_W6.94_2D_StokesdRdt0.00_MUMPS_Steady_ct1\t8/19/2024 5:51:48 PM\tad6dc059...\r\n",
       "#75: VanishingSphere2D_convergenceAggSteadyStokesExactBC\tSolverTrue_J900_k2_agg0.1_AMRFalse_LBFalse_atZ_r0.6_W6.94_2D_StokesdRdt0.00_MUMPS_Steady_ct1\t8/19/2024 5:51:36 PM\td3daaa91...\r\n",
       "#76: VanishingSphere2D_convergenceAggSteadyStokesExactBC\tSolverTrue_J900_k2_agg0_AMRFalse_LBFalse_atZ_r0.6_W6.94_2D_StokesdRdt0.00_MUMPS_Steady_ct1\t8/19/2024 5:51:20 PM\t6a946130...\r\n",
       "#77: VanishingSphere2D_convergenceAggSteadyStokesExactBC\tSolverTrue_J225_k3_agg0.1_AMRFalse_LBFalse_atZ_r0.6_W6.94_2D_StokesdRdt0.00_MUMPS_Steady_ct1\t8/19/2024 5:51:05 PM\t956e06ae...\r\n",
       "#78: VanishingSphere2D_convergenceAggSteadyStokesExactBC\tSolverTrue_J225_k3_agg0_AMRFalse_LBFalse_atZ_r0.6_W6.94_2D_StokesdRdt0.00_MUMPS_Steady_ct1\t8/19/2024 5:50:52 PM\t79f0bddc...\r\n",
       "#79: VanishingSphere2D_convergenceAggSteadyStokesExactBC\tSolverTrue_J225_k2_agg0.1_AMRFalse_LBFalse_atZ_r0.6_W6.94_2D_StokesdRdt0.00_MUMPS_Steady_ct1\t8/19/2024 5:50:59 PM\t28445694...\r\n",
       "#80: VanishingSphere2D_convergenceAggSteadyStokesExactBC\tSolverTrue_J225_k2_agg0_AMRFalse_LBFalse_atZ_r0.6_W6.94_2D_StokesdRdt0.00_MUMPS_Steady_ct1\t8/19/2024 5:50:45 PM\t59a93c91...\r\n",
       "#81: VanishingSphere2D_convergenceAggSteadyStokesExactBC\tSolverTrue_J57600_k1_agg0.1_AMRFalse_LBFalse_atZ_r0.6_W6.94_2D_StokesdRdt0.00_MUMPS_Steady_ct1\t8/19/2024 5:43:54 PM\t663250bd...\r\n",
       "#82: VanishingSphere2D_convergenceAggSteadyStokesExactBC\tSolverTrue_J57600_k1_agg0_AMRFalse_LBFalse_atZ_r0.6_W6.94_2D_StokesdRdt0.00_MUMPS_Steady_ct1\t8/19/2024 5:43:42 PM\t3f5e92e1...\r\n",
       "#83: VanishingSphere2D_convergenceAggSteadyStokesExactBC\tSolverTrue_J225_k1_agg0_AMRFalse_LBFalse_atZ_r0.6_W6.94_2D_StokesdRdt0.00_MUMPS_Steady_ct1\t8/19/2024 5:41:53 PM\t34fe8acd...\r\n",
       "#84: VanishingSphere2D_convergenceAggSteadyStokesExactBC\tSolverTrue_J14400_k1_agg0_AMRFalse_LBFalse_atZ_r0.6_W6.94_2D_StokesdRdt0.00_MUMPS_Steady_ct1\t8/19/2024 5:43:13 PM\t6590c9f5...\r\n",
       "#85: VanishingSphere2D_convergenceAggSteadyStokesExactBC\tSolverTrue_J14400_k1_agg0.1_AMRFalse_LBFalse_atZ_r0.6_W6.94_2D_StokesdRdt0.00_MUMPS_Steady_ct1\t8/19/2024 5:43:47 PM\t2fb5b929...\r\n",
       "#86: VanishingSphere2D_convergenceAggSteadyStokesExactBC\tSolverTrue_J3600_k1_agg0.1_AMRFalse_LBFalse_atZ_r0.6_W6.94_2D_StokesdRdt0.00_MUMPS_Steady_ct1\t8/19/2024 5:43:03 PM\ta2741c47...\r\n",
       "#87: VanishingSphere2D_convergenceAggSteadyStokesExactBC\tSolverTrue_J3600_k1_agg0_AMRFalse_LBFalse_atZ_r0.6_W6.94_2D_StokesdRdt0.00_MUMPS_Steady_ct1\t8/19/2024 5:42:44 PM\t1dbf40cf...\r\n",
       "#88: VanishingSphere2D_convergenceAggSteadyStokesExactBC\tSolverTrue_J900_k1_agg0.1_AMRFalse_LBFalse_atZ_r0.6_W6.94_2D_StokesdRdt0.00_MUMPS_Steady_ct1\t8/19/2024 5:42:29 PM\tb157a830...\r\n",
       "#89: VanishingSphere2D_convergenceAggSteadyStokesExactBC\tSolverTrue_J225_k1_agg0.1_AMRFalse_LBFalse_atZ_r0.6_W6.94_2D_StokesdRdt0.00_MUMPS_Steady_ct1\t8/19/2024 5:42:02 PM\tc5584c60...\r\n"
      ]
     },
     "metadata": {},
     "output_type": "display_data"
    }
   ],
   "source": [
    "myDB.Sessions.Where(s => s.SuccessfulTermination == true)"
   ]
  },
  {
   "cell_type": "code",
   "execution_count": 6,
   "metadata": {
    "dotnet_interactive": {
     "language": "csharp"
    },
    "polyglot_notebook": {
     "kernelName": "csharp"
    },
    "vscode": {
     "languageId": "polyglot-notebook"
    }
   },
   "outputs": [],
   "source": [
    "int timeStep = -1;\n",
    "// BoSSSshell.WorkflowMgm.hConvergence.Update(timeStep);"
   ]
  },
  {
   "cell_type": "code",
   "execution_count": 7,
   "metadata": {
    "dotnet_interactive": {
     "language": "csharp"
    },
    "polyglot_notebook": {
     "kernelName": "csharp"
    },
    "vscode": {
     "languageId": "polyglot-notebook"
    }
   },
   "outputs": [
    {
     "data": {
      "text/plain": [
       "Count: 231\r\n",
       "IsReadOnly: False\r\n",
       "IsSynchronized: False\r\n",
       "SyncRoot: System.Data.DataColumnCollection\r\n"
      ]
     },
     "metadata": {},
     "output_type": "display_data"
    }
   ],
   "source": [
    "var Tab = BoSSSshell.WorkflowMgm.SessionTable;\n",
    "Tab.Columns.Summary()"
   ]
  },
  {
   "cell_type": "code",
   "execution_count": 8,
   "metadata": {
    "dotnet_interactive": {
     "language": "csharp"
    },
    "polyglot_notebook": {
     "kernelName": "csharp"
    },
    "vscode": {
     "languageId": "polyglot-notebook"
    }
   },
   "outputs": [
    {
     "name": "stdout",
     "output_type": "stream",
     "text": [
      "    AgglomerationThreshold DGdegree:Velocity* Grid:hMin            Grid:NoOfCells L2err_VelocityX        L2err_Pressure         \n",
      "0:  0.2                    3                  0.008333333333333304 57600          3.697938199644299E-09  2.5588808254847334E-07 \n",
      "1:  0.5                    3                  0.008333333333333304 57600          5.216859594367646E-09  2.5425053894028194E-07 \n",
      "2:  0.4                    3                  0.008333333333333304 57600          4.5482850658530185E-09 2.506460091890163E-07  \n",
      "3:  0.3                    3                  0.008333333333333304 57600          4.0801030801596335E-09 2.4923627615002925E-07 \n",
      "4:  0.5                    2                  0.008333333333333304 57600          1.2007818915739127E-06 1.3790259368558115E-05 \n",
      "5:  0.3                    2                  0.008333333333333304 57600          1.1182617957953E-06    1.1875199557467882E-05 \n",
      "6:  0.4                    2                  0.008333333333333304 57600          1.1514820437518899E-06 1.2562111993389263E-05 \n",
      "7:  0.2                    2                  0.008333333333333304 57600          1.0874428798161043E-06 1.1290369206902232E-05 \n",
      "8:  0.5                    1                  0.008333333333333304 57600          0.003978664219199038   0.0013229579840273393  \n",
      "9:  0.2                    1                  0.008333333333333304 57600          0.003968602846867609   0.0014624021091557428  \n",
      "10: 0.3                    1                  0.008333333333333304 57600          0.003970636038413977   0.0013869878015408481  \n",
      "11: 0.4                    1                  0.008333333333333304 57600          0.003974082351343052   0.0013521908347162758  \n",
      "12: 0.3                    3                  0.016666666666666607 14400          8.778488221260928E-08  2.6526267732766704E-06 \n",
      "13: 0.5                    3                  0.016666666666666607 14400          1.0203526428053742E-07 2.6674997166305636E-06 \n",
      "14: 0.4                    3                  0.016666666666666607 14400          8.778488221257817E-08  2.6526267732766704E-06 \n",
      "15: 0.2                    3                  0.016666666666666607 14400          7.896710087435957E-08  2.7068758989274095E-06 \n",
      "16: 0.5                    2                  0.016666666666666607 14400          1.3460424736461601E-05 6.922049188836796E-05  \n",
      "17: 0.4                    2                  0.016666666666666607 14400          1.2870620917725866E-05 6.269222957736901E-05  \n",
      "18: 0.2                    2                  0.016666666666666607 14400          1.2566622176697606E-05 5.766052715547106E-05  \n",
      "19: 0.3                    2                  0.016666666666666607 14400          1.2870621207741809E-05 6.26922295732672E-05   \n",
      "20: 0.5                    1                  0.016666666666666607 14400          0.013515011065342723   0.003482077435167827   \n",
      "21: 0.3                    1                  0.016666666666666607 14400          0.013471741215062475   0.0035332976262986483  \n",
      "22: 0.2                    1                  0.016666666666666607 14400          0.013455036890107118   0.0038161909423994203  \n",
      "23: 0.4                    1                  0.016666666666666607 14400          0.013471741215041078   0.0035332976262906226  \n",
      "24: 0.4                    3                  0.033333333333333215 3600           2.0490047120509494E-06 2.3919972479935175E-05 \n",
      "25: 0.5                    3                  0.033333333333333215 3600           2.049004712050188E-06  2.3919972479935175E-05 \n",
      "26: 0.3                    3                  0.033333333333333215 3600           1.7484627649635748E-06 2.3941267780441145E-05 \n",
      "27: 0.2                    3                  0.033333333333333215 3600           1.7246052555397867E-06 2.469520404428397E-05  \n",
      "28: 0.5                    2                  0.033333333333333215 3600           0.0001627023620040598  0.00037241543616428624 \n",
      "29: 0.4                    2                  0.033333333333333215 3600           0.0001627023620040664  0.00037241543616428624 \n",
      "30: 0.3                    2                  0.033333333333333215 3600           0.0001511425019467159  0.00031591013510763686 \n",
      "31: 0.2                    2                  0.033333333333333215 3600           0.00015051424310559534 0.00032818675047845467 \n",
      "32: 0.5                    1                  0.033333333333333215 3600           0.03977668108396246    0.009404797085343525   \n",
      "33: 0.4                    1                  0.033333333333333215 3600           0.03977668108397387    0.00940479708534557    \n",
      "34: 0.3                    1                  0.033333333333333215 3600           0.039206319294827034   0.009891924007045106   \n",
      "35: 0.2                    1                  0.033333333333333215 3600           0.03904048870112       0.010841475772918403   \n",
      "36: 0.5                    3                  0.06666666666666665  900            3.312864744152261E-05  0.00022205682111802168 \n",
      "37: 0.4                    3                  0.06666666666666665  900            3.31286474415245E-05   0.00022205682111802168 \n",
      "38: 0.3                    3                  0.06666666666666665  900            3.0120599015950435E-05 0.0002354362723440003  \n",
      "39: 0.5                    2                  0.06666666666666665  900            0.001739989415225929   0.0014369068482742652  \n",
      "40: 0.2                    3                  0.06666666666666665  900            3.287514459371734E-05  0.00023634367321583876 \n",
      "41: 0.4                    2                  0.06666666666666665  900            0.0017399894152259324  0.0014369068482742652  \n",
      "42: 0.3                    2                  0.06666666666666665  900            0.0016524735996958854  0.00126547656045332    \n",
      "43: 0.2                    2                  0.06666666666666665  900            0.0016059876725826514  0.001686265138759101   \n",
      "44: 0.5                    1                  0.06666666666666665  900            0.09256261398543769    0.01986460722210036    \n",
      "45: 0.4                    1                  0.06666666666666665  900            0.09256261398543769    0.01986460722210036    \n",
      "46: 0.3                    1                  0.06666666666666665  900            0.0885757276396381     0.026510068056330386   \n",
      "47: 0.2                    1                  0.06666666666666665  900            0.0861203195459189     0.02849172870979191    \n",
      "48: 0.5                    3                  0.1333333333333333   225            0.000999319830759518   0.00138487744615191    \n",
      "49: 0.4                    3                  0.1333333333333333   225            0.0007627826950242008  0.0018958932165174531  \n",
      "50: 0.3                    3                  0.1333333333333333   225            0.0007627826950242002  0.0018958932165174531  \n",
      "51: 0.2                    3                  0.1333333333333333   225            0.0007092207451328907  0.0018867707172140716  \n",
      "52: 0.5                    2                  0.1333333333333333   225            0.02274502011368004    0.009096455272818143   \n",
      "53: 0.4                    2                  0.1333333333333333   225            0.01789492382722158    0.006763816084281699   \n",
      "54: 0.3                    2                  0.1333333333333333   225            0.017894923827221583   0.006763816084281699   \n",
      "55: 0.2                    2                  0.1333333333333333   225            0.015938868368493224   0.007359826284042076   \n",
      "56: 0.5                    1                  0.1333333333333333   225            0.18954672945777204    0.05729135948790604    \n",
      "57: 0.4                    1                  0.1333333333333333   225            0.1457409352173909     0.07918915129107189    \n",
      "58: 0.3                    1                  0.1333333333333333   225            0.14574093521739767    0.07918915129107595    \n",
      "59: 0.2                    1                  0.1333333333333333   225            0.13971061373996543    0.06503644365522454    \n",
      "60: 0.1                    2                  0.008333333333333304 57600          1.0812418263592682E-06 1.1243550712629745E-05 \n",
      "61: 0.1                    2                  0.016666666666666607 14400          1.2493233593388206E-05 5.961416171053041E-05  \n",
      "62: 0                      1                  0.06666666666666665  900            0.0891179483606521     0.03273951821864419    \n",
      "63: 0                      3                  0.008333333333333304 57600          2.5655506274471643E-05 0.0031391056769672046  \n",
      "64: 0.1                    3                  0.008333333333333304 57600          3.7789262208029935E-09 2.725275750869413E-07  \n",
      "65: 0                      2                  0.008333333333333304 57600          1.1058517121663431E-06 1.4559191642240669E-05 \n",
      "66: 0                      3                  0.016666666666666607 14400          2.0631089600080414E-06 0.00026644281314588096 \n",
      "67: 0.1                    3                  0.016666666666666607 14400          8.081629443681298E-08  2.9194838311027693E-06 \n",
      "68: 0                      2                  0.016666666666666607 14400          1.2923345429935593E-05 7.451811702821816E-05  \n",
      "69: 0.1                    3                  0.033333333333333215 3600           1.8313779012936093E-06 2.531453348530987E-05  \n",
      "70: 0                      3                  0.033333333333333215 3600           1.8258624311553208E-06 2.6058706885237963E-05 \n",
      "71: 0.1                    2                  0.033333333333333215 3600           0.00014458423414539544 0.00034459457883855086 \n",
      "72: 0                      2                  0.033333333333333215 3600           0.00015279344671051534 0.0004531268167517365  \n",
      "73: 0.1                    3                  0.06666666666666665  900            3.2315509474402165E-05 0.00025008879551561593 \n",
      "74: 0                      3                  0.06666666666666665  900            3.3407215314432733E-05 0.00026396784258492104 \n",
      "75: 0.1                    2                  0.06666666666666665  900            0.001613966349020902   0.001664070665234783   \n",
      "76: 0                      2                  0.06666666666666665  900            0.0017139783424028445  0.0018008173819011944  \n",
      "77: 0.1                    3                  0.1333333333333333   225            0.0008110465842083533  0.0023308411206431736  \n",
      "78: 0                      3                  0.1333333333333333   225            0.0008957590804721692  0.002594756288918595   \n",
      "79: 0.1                    2                  0.1333333333333333   225            0.01619313497886438    0.007298295430553806   \n",
      "80: 0                      2                  0.1333333333333333   225            0.017945227572187014   0.00707456485796849    \n",
      "81: 0.1                    1                  0.008333333333333304 57600          0.0039681910710860635  0.0014894358476796434  \n",
      "82: 0                      1                  0.008333333333333304 57600          0.003980975882129364   0.0017792030322730213  \n",
      "83: 0                      1                  0.1333333333333333   225            0.1490257615429513     0.09714230438277147    \n",
      "84: 0                      1                  0.016666666666666607 14400          0.013552980362219486   0.004622049816939742   \n",
      "85: 0.1                    1                  0.016666666666666607 14400          0.013447581008608402   0.0038647246542504675  \n",
      "86: 0.1                    1                  0.033333333333333215 3600           0.0388138365849014     0.010647791535973854   \n",
      "87: 0                      1                  0.033333333333333215 3600           0.03965000328280205    0.012414089444504584   \n",
      "88: 0.1                    1                  0.06666666666666665  900            0.0865694383907496     0.030563122906256377   \n",
      "89: 0.1                    1                  0.1333333333333333   225            0.14096133524938068    0.08547044217169647    "
     ]
    }
   ],
   "source": [
    "var Tab = BoSSSshell.WorkflowMgm.SessionTable;\n",
    "var Tab2 = Tab.ExtractColumns( \"AgglomerationThreshold\", \"DGdegree:Velocity*\",\"Grid:hMin\",\"Grid:NoOfCells\" ,\"L2err_\"+ \"VelocityX\", \"L2Err_\" +\"Pressure\"); // \n",
    "\n",
    "Tab2.Print();  \n",
    "Tab2.SaveToFile(table_name + $\"_at{timeStep}_summary.json\");"
   ]
  },
  {
   "cell_type": "code",
   "execution_count": 9,
   "metadata": {
    "dotnet_interactive": {
     "language": "csharp"
    },
    "polyglot_notebook": {
     "kernelName": "csharp"
    },
    "vscode": {
     "languageId": "polyglot-notebook"
    }
   },
   "outputs": [],
   "source": [
    "using BoSSS.Solution.Gnuplot;\n",
    "using System.Linq;\n",
    "\n",
    "// arrange line color and types\n",
    "var allColors = Enum.GetValues(typeof(LineColors)).Cast<LineColors>().ToArray();\n",
    "var allPointTypes = Enum.GetValues(typeof(PointTypes)).Cast<PointTypes>().ToArray();\n",
    "PointTypes[] myPointTypes = new PointTypes[]{ PointTypes.Diamond, PointTypes.Box,  PointTypes.LowerTriangle,PointTypes.OpenLowerTriangle };\n"
   ]
  },
  {
   "cell_type": "code",
   "execution_count": 10,
   "metadata": {
    "dotnet_interactive": {
     "language": "csharp"
    },
    "polyglot_notebook": {
     "kernelName": "csharp"
    },
    "vscode": {
     "languageId": "polyglot-notebook"
    }
   },
   "outputs": [
    {
     "name": "stdout",
     "output_type": "stream",
     "text": [
      "    AgglomerationThreshold DGdegree:Velocity* Grid:hMin            Grid:NoOfCells L2err_VelocityX       L2err_Pressure        \n",
      "0:  0                      1                  0.06666666666666665  900            0.0891179483606521    0.03273951821864419   \n",
      "1:  0                      1                  0.008333333333333304 57600          0.003980975882129364  0.0017792030322730213 \n",
      "2:  0                      1                  0.1333333333333333   225            0.1490257615429513    0.09714230438277147   \n",
      "3:  0                      1                  0.016666666666666607 14400          0.013552980362219486  0.004622049816939742  \n",
      "4:  0                      1                  0.033333333333333215 3600           0.03965000328280205   0.012414089444504584  \n",
      "5:  0.1                    1                  0.008333333333333304 57600          0.0039681910710860635 0.0014894358476796434 \n",
      "6:  0.1                    1                  0.016666666666666607 14400          0.013447581008608402  0.0038647246542504675 \n",
      "7:  0.1                    1                  0.033333333333333215 3600           0.0388138365849014    0.010647791535973854  \n",
      "8:  0.1                    1                  0.06666666666666665  900            0.0865694383907496    0.030563122906256377  \n",
      "9:  0.1                    1                  0.1333333333333333   225            0.14096133524938068   0.08547044217169647   \n",
      "10: 0.2                    1                  0.008333333333333304 57600          0.003968602846867609  0.0014624021091557428 \n",
      "11: 0.2                    1                  0.016666666666666607 14400          0.013455036890107118  0.0038161909423994203 \n",
      "12: 0.2                    1                  0.033333333333333215 3600           0.03904048870112      0.010841475772918403  \n",
      "13: 0.2                    1                  0.06666666666666665  900            0.0861203195459189    0.02849172870979191   \n",
      "14: 0.2                    1                  0.1333333333333333   225            0.13971061373996543   0.06503644365522454   \n",
      "15: 0.3                    1                  0.008333333333333304 57600          0.003970636038413977  0.0013869878015408481 \n",
      "16: 0.3                    1                  0.016666666666666607 14400          0.013471741215062475  0.0035332976262986483 \n",
      "17: 0.3                    1                  0.033333333333333215 3600           0.039206319294827034  0.009891924007045106  \n",
      "18: 0.3                    1                  0.06666666666666665  900            0.0885757276396381    0.026510068056330386  \n",
      "19: 0.3                    1                  0.1333333333333333   225            0.14574093521739767   0.07918915129107595   \n",
      "20: 0.4                    1                  0.008333333333333304 57600          0.003974082351343052  0.0013521908347162758 \n",
      "21: 0.4                    1                  0.016666666666666607 14400          0.013471741215041078  0.0035332976262906226 \n",
      "22: 0.4                    1                  0.033333333333333215 3600           0.03977668108397387   0.00940479708534557   \n",
      "23: 0.4                    1                  0.06666666666666665  900            0.09256261398543769   0.01986460722210036   \n",
      "24: 0.4                    1                  0.1333333333333333   225            0.1457409352173909    0.07918915129107189   \n",
      "25: 0.5                    1                  0.008333333333333304 57600          0.003978664219199038  0.0013229579840273393 \n",
      "26: 0.5                    1                  0.016666666666666607 14400          0.013515011065342723  0.003482077435167827  \n",
      "27: 0.5                    1                  0.033333333333333215 3600           0.03977668108396246   0.009404797085343525  \n",
      "28: 0.5                    1                  0.06666666666666665  900            0.09256261398543769   0.01986460722210036   \n",
      "29: 0.5                    1                  0.1333333333333333   225            0.18954672945777204   0.05729135948790604   "
     ]
    }
   ],
   "source": [
    "string xVarName = \"Grid:hMin\";\n",
    "string yVarName = \"L2err_VelocityX\";\n",
    "int dgDegree = 1;\n",
    "\n",
    "// Filter rows depending on selection\n",
    "var Tab3 = Tab2.ExtractRows((iRow,RowEntries)=> \n",
    "                //Convert.ToDouble(RowEntries[\"AgglomerationThreshold\"]) == 0 &&\n",
    "                Convert.ToDouble(RowEntries[\"DGdegree:Velocity*\"]) == dgDegree\n",
    "            );\n",
    "\n",
    "// Sort in ascending order of AgglomerationThreshold\n",
    "System.Data.DataView view = Tab3.DefaultView;\n",
    "view.Sort = \"AgglomerationThreshold ASC\"; \n",
    "Tab3 = view.ToTable();\n",
    "\n",
    "Tab3.Print()\n"
   ]
  },
  {
   "cell_type": "code",
   "execution_count": 11,
   "metadata": {
    "dotnet_interactive": {
     "language": "csharp"
    },
    "polyglot_notebook": {
     "kernelName": "csharp"
    },
    "vscode": {
     "languageId": "polyglot-notebook"
    }
   },
   "outputs": [],
   "source": [
    "Plot2Ddata plot = new Plot2Ddata();"
   ]
  },
  {
   "cell_type": "code",
   "execution_count": 12,
   "metadata": {
    "dotnet_interactive": {
     "language": "csharp"
    },
    "polyglot_notebook": {
     "kernelName": "csharp"
    },
    "vscode": {
     "languageId": "polyglot-notebook"
    }
   },
   "outputs": [
    {
     "name": "stdout",
     "output_type": "stream",
     "text": [
      "Using gnuplot: C:\\Program Files (x86)\\FDY\\BoSSS\\bin\\native\\win\\gnuplot-gp510-20160418-win32-mingw\\gnuplot\\bin\\gnuplot.exe\n",
      "Note: In a Jupyter Worksheet, you must NOT have a trailing semicolon in order to see the plot on screen; otherwise, the output migth be surpressed.!\n"
     ]
    },
    {
     "data": {
      "text/html": [
       "<?xml version=\"1.0\" encoding=\"utf-8\"  standalone=\"no\"?>\n",
       "<!DOCTYPE svg PUBLIC \"-//W3C//DTD SVG 1.1//EN\"\n",
       " \"http://www.w3.org/Graphics/SVG/1.1/DTD/svg11.dtd\">\n",
       "<svg \n",
       " width=\"800\" height=\"600\"\n",
       " viewBox=\"0 0 800 600\"\n",
       " xmlns=\"http://www.w3.org/2000/svg\"\n",
       " xmlns:xlink=\"http://www.w3.org/1999/xlink\"\n",
       ">\n",
       "\n",
       "<title>Gnuplot</title>\n",
       "<desc>Produced by GNUPLOT 5.1 patchlevel 0 </desc>\n",
       "\n",
       "<g id=\"gnuplot_canvas\">\n",
       "\n",
       "<rect x=\"0\" y=\"0\" width=\"800\" height=\"600\" fill=\"#ffffff\"/>\n",
       "<defs>\n",
       "\n",
       "\t<circle id='gpDot' r='0.5' stroke-width='0.5'/>\n",
       "\t<path id='gpPt0' stroke-width='0.222' stroke='currentColor' d='M-1,0 h2 M0,-1 v2'/>\n",
       "\t<path id='gpPt1' stroke-width='0.222' stroke='currentColor' d='M-1,-1 L1,1 M1,-1 L-1,1'/>\n",
       "\t<path id='gpPt2' stroke-width='0.222' stroke='currentColor' d='M-1,0 L1,0 M0,-1 L0,1 M-1,-1 L1,1 M-1,1 L1,-1'/>\n",
       "\t<rect id='gpPt3' stroke-width='0.222' stroke='currentColor' x='-1' y='-1' width='2' height='2'/>\n",
       "\t<rect id='gpPt4' stroke-width='0.222' stroke='currentColor' fill='currentColor' x='-1' y='-1' width='2' height='2'/>\n",
       "\t<circle id='gpPt5' stroke-width='0.222' stroke='currentColor' cx='0' cy='0' r='1'/>\n",
       "\t<use xlink:href='#gpPt5' id='gpPt6' fill='currentColor' stroke='none'/>\n",
       "\t<path id='gpPt7' stroke-width='0.222' stroke='currentColor' d='M0,-1.33 L-1.33,0.67 L1.33,0.67 z'/>\n",
       "\t<use xlink:href='#gpPt7' id='gpPt8' fill='currentColor' stroke='none'/>\n",
       "\t<use xlink:href='#gpPt7' id='gpPt9' stroke='currentColor' transform='rotate(180)'/>\n",
       "\t<use xlink:href='#gpPt9' id='gpPt10' fill='currentColor' stroke='none'/>\n",
       "\t<use xlink:href='#gpPt3' id='gpPt11' stroke='currentColor' transform='rotate(45)'/>\n",
       "\t<use xlink:href='#gpPt11' id='gpPt12' fill='currentColor' stroke='none'/>\n",
       "\t<path id='gpPt13' stroke-width='0.222' stroke='currentColor' d='M0,1.330 L1.265,0.411 L0.782,-1.067 L-0.782,-1.076 L-1.265,0.411 z'/>\n",
       "\t<use xlink:href='#gpPt13' id='gpPt14' fill='currentColor' stroke='none'/>\n",
       "\t<filter id='textbox' filterUnits='objectBoundingBox' x='0' y='0' height='1' width='1'>\n",
       "\t  <feFlood flood-color='#FFFFFF' flood-opacity='1' result='bgnd'/>\n",
       "\t  <feComposite in='SourceGraphic' in2='bgnd' operator='atop'/>\n",
       "\t</filter>\n",
       "\t<filter id='greybox' filterUnits='objectBoundingBox' x='0' y='0' height='1' width='1'>\n",
       "\t  <feFlood flood-color='lightgrey' flood-opacity='1' result='grey'/>\n",
       "\t  <feComposite in='SourceGraphic' in2='grey' operator='atop'/>\n",
       "\t</filter>\n",
       "</defs>\n",
       "<g fill=\"none\" color=\"#FFFFFF\" stroke=\"currentColor\" stroke-width=\"1.00\" stroke-linecap=\"butt\" stroke-linejoin=\"miter\">\n",
       "</g>\n",
       "<g fill=\"none\" color=\"black\" stroke=\"currentColor\" stroke-width=\"1.00\" stroke-linecap=\"butt\" stroke-linejoin=\"miter\">\n",
       "\t<path stroke='black'  d='M45.6,564.0 L54.6,564.0 M750.1,564.0 L741.1,564.0  '/>\t<g transform=\"translate(37.3,570.0)\" stroke=\"none\" fill=\"black\" font-family=\"sans\" font-size=\"16.00\"  text-anchor=\"end\">\n",
       "\t\t<text><tspan font-family=\"sans\" >10</tspan><tspan font-family=\"sans\"  font-size=\"12.8\" dy=\"-8.00px\">-3</tspan><tspan font-size=\"16.0\" dy=\"8.00\"></tspan></text>\n",
       "\t</g>\n",
       "</g>\n",
       "<g fill=\"none\" color=\"black\" stroke=\"currentColor\" stroke-width=\"1.00\" stroke-linecap=\"butt\" stroke-linejoin=\"miter\">\n",
       "\t<path stroke='black'  d='M45.6,511.0 L50.1,511.0 M750.1,511.0 L745.6,511.0 M45.6,480.0 L50.1,480.0 M750.1,480.0 L745.6,480.0\n",
       "\t\tM45.6,458.1 L50.1,458.1 M750.1,458.1 L745.6,458.1 M45.6,441.0 L50.1,441.0 M750.1,441.0 L745.6,441.0\n",
       "\t\tM45.6,427.1 L50.1,427.1 M750.1,427.1 L745.6,427.1 M45.6,415.3 L50.1,415.3 M750.1,415.3 L745.6,415.3\n",
       "\t\tM45.6,405.1 L50.1,405.1 M750.1,405.1 L745.6,405.1 M45.6,396.1 L50.1,396.1 M750.1,396.1 L745.6,396.1\n",
       "\t\tM45.6,388.0 L54.6,388.0 M750.1,388.0 L741.1,388.0  '/>\t<g transform=\"translate(37.3,394.0)\" stroke=\"none\" fill=\"black\" font-family=\"sans\" font-size=\"16.00\"  text-anchor=\"end\">\n",
       "\t\t<text><tspan font-family=\"sans\" >10</tspan><tspan font-family=\"sans\"  font-size=\"12.8\" dy=\"-8.00px\">-2</tspan><tspan font-size=\"16.0\" dy=\"8.00\"></tspan></text>\n",
       "\t</g>\n",
       "</g>\n",
       "<g fill=\"none\" color=\"black\" stroke=\"currentColor\" stroke-width=\"1.00\" stroke-linecap=\"butt\" stroke-linejoin=\"miter\">\n",
       "\t<path stroke='black'  d='M45.6,335.1 L50.1,335.1 M750.1,335.1 L745.6,335.1 M45.6,304.1 L50.1,304.1 M750.1,304.1 L745.6,304.1\n",
       "\t\tM45.6,282.1 L50.1,282.1 M750.1,282.1 L745.6,282.1 M45.6,265.0 L50.1,265.0 M750.1,265.0 L745.6,265.0\n",
       "\t\tM45.6,251.1 L50.1,251.1 M750.1,251.1 L745.6,251.1 M45.6,239.3 L50.1,239.3 M750.1,239.3 L745.6,239.3\n",
       "\t\tM45.6,229.1 L50.1,229.1 M750.1,229.1 L745.6,229.1 M45.6,220.1 L50.1,220.1 M750.1,220.1 L745.6,220.1\n",
       "\t\tM45.6,212.1 L54.6,212.1 M750.1,212.1 L741.1,212.1  '/>\t<g transform=\"translate(37.3,218.1)\" stroke=\"none\" fill=\"black\" font-family=\"sans\" font-size=\"16.00\"  text-anchor=\"end\">\n",
       "\t\t<text><tspan font-family=\"sans\" >10</tspan><tspan font-family=\"sans\"  font-size=\"12.8\" dy=\"-8.00px\">-1</tspan><tspan font-size=\"16.0\" dy=\"8.00\"></tspan></text>\n",
       "\t</g>\n",
       "</g>\n",
       "<g fill=\"none\" color=\"black\" stroke=\"currentColor\" stroke-width=\"1.00\" stroke-linecap=\"butt\" stroke-linejoin=\"miter\">\n",
       "\t<path stroke='black'  d='M45.6,159.1 L50.1,159.1 M750.1,159.1 L745.6,159.1 M45.6,128.1 L50.1,128.1 M750.1,128.1 L745.6,128.1\n",
       "\t\tM45.6,106.1 L50.1,106.1 M750.1,106.1 L745.6,106.1 M45.6,89.1 L50.1,89.1 M750.1,89.1 L745.6,89.1\n",
       "\t\tM45.6,75.1 L50.1,75.1 M750.1,75.1 L745.6,75.1 M45.6,63.4 L50.1,63.4 M750.1,63.4 L745.6,63.4\n",
       "\t\tM45.6,53.2 L50.1,53.2 M750.1,53.2 L745.6,53.2 M45.6,44.2 L50.1,44.2 M750.1,44.2 L745.6,44.2\n",
       "\t\tM45.6,36.1 L54.6,36.1 M750.1,36.1 L741.1,36.1  '/>\t<g transform=\"translate(37.3,42.1)\" stroke=\"none\" fill=\"black\" font-family=\"sans\" font-size=\"16.00\"  text-anchor=\"end\">\n",
       "\t\t<text><tspan font-family=\"sans\" >10</tspan><tspan font-family=\"sans\"  font-size=\"12.8\" dy=\"-8.00px\">0</tspan><tspan font-size=\"16.0\" dy=\"8.00\"></tspan></text>\n",
       "\t</g>\n",
       "</g>\n",
       "<g fill=\"none\" color=\"black\" stroke=\"currentColor\" stroke-width=\"1.00\" stroke-linecap=\"butt\" stroke-linejoin=\"miter\">\n",
       "\t<path stroke='black'  d='M45.6,564.0 L45.6,555.0 M45.6,36.1 L45.6,45.1  '/>\t<g transform=\"translate(45.6,595.2)\" stroke=\"none\" fill=\"black\" font-family=\"sans\" font-size=\"16.00\"  text-anchor=\"middle\">\n",
       "\t\t<text><tspan font-family=\"sans\" >10</tspan><tspan font-family=\"sans\"  font-size=\"12.8\" dy=\"-8.00px\">-3</tspan><tspan font-size=\"16.0\" dy=\"8.00\"></tspan></text>\n",
       "\t</g>\n",
       "</g>\n",
       "<g fill=\"none\" color=\"black\" stroke=\"currentColor\" stroke-width=\"1.00\" stroke-linecap=\"butt\" stroke-linejoin=\"miter\">\n",
       "\t<path stroke='black'  d='M116.3,564.0 L116.3,559.5 M116.3,36.1 L116.3,40.6 M157.6,564.0 L157.6,559.5 M157.6,36.1 L157.6,40.6\n",
       "\t\tM187.0,564.0 L187.0,559.5 M187.0,36.1 L187.0,40.6 M209.7,564.0 L209.7,559.5 M209.7,36.1 L209.7,40.6\n",
       "\t\tM228.3,564.0 L228.3,559.5 M228.3,36.1 L228.3,40.6 M244.1,564.0 L244.1,559.5 M244.1,36.1 L244.1,40.6\n",
       "\t\tM257.7,564.0 L257.7,559.5 M257.7,36.1 L257.7,40.6 M269.7,564.0 L269.7,559.5 M269.7,36.1 L269.7,40.6\n",
       "\t\tM280.4,564.0 L280.4,555.0 M280.4,36.1 L280.4,45.1  '/>\t<g transform=\"translate(280.4,595.2)\" stroke=\"none\" fill=\"black\" font-family=\"sans\" font-size=\"16.00\"  text-anchor=\"middle\">\n",
       "\t\t<text><tspan font-family=\"sans\" >10</tspan><tspan font-family=\"sans\"  font-size=\"12.8\" dy=\"-8.00px\">-2</tspan><tspan font-size=\"16.0\" dy=\"8.00\"></tspan></text>\n",
       "\t</g>\n",
       "</g>\n",
       "<g fill=\"none\" color=\"black\" stroke=\"currentColor\" stroke-width=\"1.00\" stroke-linecap=\"butt\" stroke-linejoin=\"miter\">\n",
       "\t<path stroke='black'  d='M351.1,564.0 L351.1,559.5 M351.1,36.1 L351.1,40.6 M392.5,564.0 L392.5,559.5 M392.5,36.1 L392.5,40.6\n",
       "\t\tM421.8,564.0 L421.8,559.5 M421.8,36.1 L421.8,40.6 M444.6,564.0 L444.6,559.5 M444.6,36.1 L444.6,40.6\n",
       "\t\tM463.2,564.0 L463.2,559.5 M463.2,36.1 L463.2,40.6 M478.9,564.0 L478.9,559.5 M478.9,36.1 L478.9,40.6\n",
       "\t\tM492.5,564.0 L492.5,559.5 M492.5,36.1 L492.5,40.6 M504.5,564.0 L504.5,559.5 M504.5,36.1 L504.5,40.6\n",
       "\t\tM515.3,564.0 L515.3,555.0 M515.3,36.1 L515.3,45.1  '/>\t<g transform=\"translate(515.3,595.2)\" stroke=\"none\" fill=\"black\" font-family=\"sans\" font-size=\"16.00\"  text-anchor=\"middle\">\n",
       "\t\t<text><tspan font-family=\"sans\" >10</tspan><tspan font-family=\"sans\"  font-size=\"12.8\" dy=\"-8.00px\">-1</tspan><tspan font-size=\"16.0\" dy=\"8.00\"></tspan></text>\n",
       "\t</g>\n",
       "</g>\n",
       "<g fill=\"none\" color=\"black\" stroke=\"currentColor\" stroke-width=\"1.00\" stroke-linecap=\"butt\" stroke-linejoin=\"miter\">\n",
       "\t<path stroke='black'  d='M586.0,564.0 L586.0,559.5 M586.0,36.1 L586.0,40.6 M627.3,564.0 L627.3,559.5 M627.3,36.1 L627.3,40.6\n",
       "\t\tM656.7,564.0 L656.7,559.5 M656.7,36.1 L656.7,40.6 M679.4,564.0 L679.4,559.5 M679.4,36.1 L679.4,40.6\n",
       "\t\tM698.0,564.0 L698.0,559.5 M698.0,36.1 L698.0,40.6 M713.7,564.0 L713.7,559.5 M713.7,36.1 L713.7,40.6\n",
       "\t\tM727.3,564.0 L727.3,559.5 M727.3,36.1 L727.3,40.6 M739.4,564.0 L739.4,559.5 M739.4,36.1 L739.4,40.6\n",
       "\t\tM750.1,564.0 L750.1,555.0 M750.1,36.1 L750.1,45.1  '/>\t<g transform=\"translate(750.1,595.2)\" stroke=\"none\" fill=\"black\" font-family=\"sans\" font-size=\"16.00\"  text-anchor=\"middle\">\n",
       "\t\t<text><tspan font-family=\"sans\" >10</tspan><tspan font-family=\"sans\"  font-size=\"12.8\" dy=\"-8.00px\">0</tspan><tspan font-size=\"16.0\" dy=\"8.00\"></tspan></text>\n",
       "\t</g>\n",
       "</g>\n",
       "<g fill=\"none\" color=\"black\" stroke=\"currentColor\" stroke-width=\"1.00\" stroke-linecap=\"butt\" stroke-linejoin=\"miter\">\n",
       "\t<path stroke='black'  d='M750.1,564.0 L741.1,564.0  '/>\t<g transform=\"translate(758.4,568.5)\" stroke=\"none\" fill=\"black\" font-family=\"Arial\" font-size=\"12.00\"  text-anchor=\"start\">\n",
       "\t\t<text><tspan font-family=\"Arial\" > </tspan></text>\n",
       "\t</g>\n",
       "</g>\n",
       "<g fill=\"none\" color=\"black\" stroke=\"currentColor\" stroke-width=\"1.00\" stroke-linecap=\"butt\" stroke-linejoin=\"miter\">\n",
       "\t<path stroke='black'  d='M750.1,511.2 L741.1,511.2  '/>\t<g transform=\"translate(758.4,515.7)\" stroke=\"none\" fill=\"black\" font-family=\"Arial\" font-size=\"12.00\"  text-anchor=\"start\">\n",
       "\t\t<text><tspan font-family=\"Arial\" > </tspan></text>\n",
       "\t</g>\n",
       "</g>\n",
       "<g fill=\"none\" color=\"black\" stroke=\"currentColor\" stroke-width=\"1.00\" stroke-linecap=\"butt\" stroke-linejoin=\"miter\">\n",
       "\t<path stroke='black'  d='M750.1,458.4 L741.1,458.4  '/>\t<g transform=\"translate(758.4,462.9)\" stroke=\"none\" fill=\"black\" font-family=\"Arial\" font-size=\"12.00\"  text-anchor=\"start\">\n",
       "\t\t<text><tspan font-family=\"Arial\" > </tspan></text>\n",
       "\t</g>\n",
       "</g>\n",
       "<g fill=\"none\" color=\"black\" stroke=\"currentColor\" stroke-width=\"1.00\" stroke-linecap=\"butt\" stroke-linejoin=\"miter\">\n",
       "\t<path stroke='black'  d='M750.1,405.6 L741.1,405.6  '/>\t<g transform=\"translate(758.4,410.1)\" stroke=\"none\" fill=\"black\" font-family=\"Arial\" font-size=\"12.00\"  text-anchor=\"start\">\n",
       "\t\t<text><tspan font-family=\"Arial\" > </tspan></text>\n",
       "\t</g>\n",
       "</g>\n",
       "<g fill=\"none\" color=\"black\" stroke=\"currentColor\" stroke-width=\"1.00\" stroke-linecap=\"butt\" stroke-linejoin=\"miter\">\n",
       "\t<path stroke='black'  d='M750.1,352.8 L741.1,352.8  '/>\t<g transform=\"translate(758.4,357.3)\" stroke=\"none\" fill=\"black\" font-family=\"Arial\" font-size=\"12.00\"  text-anchor=\"start\">\n",
       "\t\t<text><tspan font-family=\"Arial\" > </tspan></text>\n",
       "\t</g>\n",
       "</g>\n",
       "<g fill=\"none\" color=\"black\" stroke=\"currentColor\" stroke-width=\"1.00\" stroke-linecap=\"butt\" stroke-linejoin=\"miter\">\n",
       "\t<path stroke='black'  d='M750.1,300.0 L741.1,300.0  '/>\t<g transform=\"translate(758.4,304.5)\" stroke=\"none\" fill=\"black\" font-family=\"Arial\" font-size=\"12.00\"  text-anchor=\"start\">\n",
       "\t\t<text><tspan font-family=\"Arial\" > </tspan></text>\n",
       "\t</g>\n",
       "</g>\n",
       "<g fill=\"none\" color=\"black\" stroke=\"currentColor\" stroke-width=\"1.00\" stroke-linecap=\"butt\" stroke-linejoin=\"miter\">\n",
       "\t<path stroke='black'  d='M750.1,247.3 L741.1,247.3  '/>\t<g transform=\"translate(758.4,251.8)\" stroke=\"none\" fill=\"black\" font-family=\"Arial\" font-size=\"12.00\"  text-anchor=\"start\">\n",
       "\t\t<text><tspan font-family=\"Arial\" > </tspan></text>\n",
       "\t</g>\n",
       "</g>\n",
       "<g fill=\"none\" color=\"black\" stroke=\"currentColor\" stroke-width=\"1.00\" stroke-linecap=\"butt\" stroke-linejoin=\"miter\">\n",
       "\t<path stroke='black'  d='M750.1,194.5 L741.1,194.5  '/>\t<g transform=\"translate(758.4,199.0)\" stroke=\"none\" fill=\"black\" font-family=\"Arial\" font-size=\"12.00\"  text-anchor=\"start\">\n",
       "\t\t<text><tspan font-family=\"Arial\" > </tspan></text>\n",
       "\t</g>\n",
       "</g>\n",
       "<g fill=\"none\" color=\"black\" stroke=\"currentColor\" stroke-width=\"1.00\" stroke-linecap=\"butt\" stroke-linejoin=\"miter\">\n",
       "\t<path stroke='black'  d='M750.1,141.7 L741.1,141.7  '/>\t<g transform=\"translate(758.4,146.2)\" stroke=\"none\" fill=\"black\" font-family=\"Arial\" font-size=\"12.00\"  text-anchor=\"start\">\n",
       "\t\t<text><tspan font-family=\"Arial\" > </tspan></text>\n",
       "\t</g>\n",
       "</g>\n",
       "<g fill=\"none\" color=\"black\" stroke=\"currentColor\" stroke-width=\"1.00\" stroke-linecap=\"butt\" stroke-linejoin=\"miter\">\n",
       "\t<path stroke='black'  d='M750.1,88.9 L741.1,88.9  '/>\t<g transform=\"translate(758.4,93.4)\" stroke=\"none\" fill=\"black\" font-family=\"Arial\" font-size=\"12.00\"  text-anchor=\"start\">\n",
       "\t\t<text><tspan font-family=\"Arial\" > </tspan></text>\n",
       "\t</g>\n",
       "</g>\n",
       "<g fill=\"none\" color=\"black\" stroke=\"currentColor\" stroke-width=\"1.00\" stroke-linecap=\"butt\" stroke-linejoin=\"miter\">\n",
       "\t<path stroke='black'  d='M750.1,36.1 L741.1,36.1  '/>\t<g transform=\"translate(758.4,40.6)\" stroke=\"none\" fill=\"black\" font-family=\"Arial\" font-size=\"12.00\"  text-anchor=\"start\">\n",
       "\t\t<text><tspan font-family=\"Arial\" > </tspan></text>\n",
       "\t</g>\n",
       "</g>\n",
       "<g fill=\"none\" color=\"black\" stroke=\"currentColor\" stroke-width=\"1.00\" stroke-linecap=\"butt\" stroke-linejoin=\"miter\">\n",
       "\t<path stroke='black'  d='M45.6,36.1 L45.6,45.1  '/>\t<g transform=\"translate(45.6,22.6)\" stroke=\"none\" fill=\"black\" font-family=\"Arial\" font-size=\"12.00\"  text-anchor=\"middle\">\n",
       "\t\t<text><tspan font-family=\"Arial\" > </tspan></text>\n",
       "\t</g>\n",
       "</g>\n",
       "<g fill=\"none\" color=\"black\" stroke=\"currentColor\" stroke-width=\"1.00\" stroke-linecap=\"butt\" stroke-linejoin=\"miter\">\n",
       "\t<path stroke='black'  d='M146.2,36.1 L146.2,45.1  '/>\t<g transform=\"translate(146.2,22.6)\" stroke=\"none\" fill=\"black\" font-family=\"Arial\" font-size=\"12.00\"  text-anchor=\"middle\">\n",
       "\t\t<text><tspan font-family=\"Arial\" > </tspan></text>\n",
       "\t</g>\n",
       "</g>\n",
       "<g fill=\"none\" color=\"black\" stroke=\"currentColor\" stroke-width=\"1.00\" stroke-linecap=\"butt\" stroke-linejoin=\"miter\">\n",
       "\t<path stroke='black'  d='M246.9,36.1 L246.9,45.1  '/>\t<g transform=\"translate(246.9,22.6)\" stroke=\"none\" fill=\"black\" font-family=\"Arial\" font-size=\"12.00\"  text-anchor=\"middle\">\n",
       "\t\t<text><tspan font-family=\"Arial\" > </tspan></text>\n",
       "\t</g>\n",
       "</g>\n",
       "<g fill=\"none\" color=\"black\" stroke=\"currentColor\" stroke-width=\"1.00\" stroke-linecap=\"butt\" stroke-linejoin=\"miter\">\n",
       "\t<path stroke='black'  d='M347.5,36.1 L347.5,45.1  '/>\t<g transform=\"translate(347.5,22.6)\" stroke=\"none\" fill=\"black\" font-family=\"Arial\" font-size=\"12.00\"  text-anchor=\"middle\">\n",
       "\t\t<text><tspan font-family=\"Arial\" > </tspan></text>\n",
       "\t</g>\n",
       "</g>\n",
       "<g fill=\"none\" color=\"black\" stroke=\"currentColor\" stroke-width=\"1.00\" stroke-linecap=\"butt\" stroke-linejoin=\"miter\">\n",
       "\t<path stroke='black'  d='M448.2,36.1 L448.2,45.1  '/>\t<g transform=\"translate(448.2,22.6)\" stroke=\"none\" fill=\"black\" font-family=\"Arial\" font-size=\"12.00\"  text-anchor=\"middle\">\n",
       "\t\t<text><tspan font-family=\"Arial\" > </tspan></text>\n",
       "\t</g>\n",
       "</g>\n",
       "<g fill=\"none\" color=\"black\" stroke=\"currentColor\" stroke-width=\"1.00\" stroke-linecap=\"butt\" stroke-linejoin=\"miter\">\n",
       "\t<path stroke='black'  d='M548.8,36.1 L548.8,45.1  '/>\t<g transform=\"translate(548.8,22.6)\" stroke=\"none\" fill=\"black\" font-family=\"Arial\" font-size=\"12.00\"  text-anchor=\"middle\">\n",
       "\t\t<text><tspan font-family=\"Arial\" > </tspan></text>\n",
       "\t</g>\n",
       "</g>\n",
       "<g fill=\"none\" color=\"black\" stroke=\"currentColor\" stroke-width=\"1.00\" stroke-linecap=\"butt\" stroke-linejoin=\"miter\">\n",
       "\t<path stroke='black'  d='M649.5,36.1 L649.5,45.1  '/>\t<g transform=\"translate(649.5,22.6)\" stroke=\"none\" fill=\"black\" font-family=\"Arial\" font-size=\"12.00\"  text-anchor=\"middle\">\n",
       "\t\t<text><tspan font-family=\"Arial\" > </tspan></text>\n",
       "\t</g>\n",
       "</g>\n",
       "<g fill=\"none\" color=\"black\" stroke=\"currentColor\" stroke-width=\"1.00\" stroke-linecap=\"butt\" stroke-linejoin=\"miter\">\n",
       "\t<path stroke='black'  d='M750.1,36.1 L750.1,45.1  '/>\t<g transform=\"translate(750.1,22.6)\" stroke=\"none\" fill=\"black\" font-family=\"Arial\" font-size=\"12.00\"  text-anchor=\"middle\">\n",
       "\t\t<text><tspan font-family=\"Arial\" > </tspan></text>\n",
       "\t</g>\n",
       "</g>\n",
       "<g fill=\"none\" color=\"black\" stroke=\"currentColor\" stroke-width=\"1.00\" stroke-linecap=\"butt\" stroke-linejoin=\"miter\">\n",
       "</g>\n",
       "<g fill=\"none\" color=\"black\" stroke=\"currentColor\" stroke-width=\"1.00\" stroke-linecap=\"butt\" stroke-linejoin=\"miter\">\n",
       "\t<path stroke='black'  d='M45.6,36.1 L45.6,564.0 L750.1,564.0 L750.1,36.1 L45.6,36.1 Z  '/></g>\n",
       "<g fill=\"none\" color=\"black\" stroke=\"currentColor\" stroke-width=\"1.00\" stroke-linecap=\"butt\" stroke-linejoin=\"miter\">\n",
       "</g>\n",
       "\t<g id=\"gnuplot_plot_1\" ><title>AgglomerationThreshold0</title>\n",
       "<g fill=\"none\" color=\"black\" stroke=\"currentColor\" stroke-width=\"1.00\" stroke-linecap=\"butt\" stroke-linejoin=\"miter\">\n",
       "\t<g transform=\"translate(464.3,63.1)\" stroke=\"none\" fill=\"black\" font-family=\"Arial\" font-size=\"16.00\"  text-anchor=\"start\">\n",
       "\t\t<text><tspan font-family=\"Arial\" >AgglomerationThreshold0</tspan></text>\n",
       "\t</g>\n",
       "</g>\n",
       "<g fill=\"none\" color=\"black\" stroke=\"currentColor\" stroke-width=\"1.00\" stroke-linecap=\"butt\" stroke-linejoin=\"miter\">\n",
       "\t<path stroke='rgb(255,   0,   0)'  d='M399.8,57.1 L453.2,57.1 M261.8,458.4 L332.5,364.8 L403.2,282.8 L473.9,220.9 L544.6,181.6  '/>\t<use xlink:href='#gpPt12' transform='translate(261.8,458.4) scale(3.15)' color='rgb(255,   0,   0)'/>\n",
       "\t<use xlink:href='#gpPt12' transform='translate(332.5,364.8) scale(3.15)' color='rgb(255,   0,   0)'/>\n",
       "\t<use xlink:href='#gpPt12' transform='translate(403.2,282.8) scale(3.15)' color='rgb(255,   0,   0)'/>\n",
       "\t<use xlink:href='#gpPt12' transform='translate(473.9,220.9) scale(3.15)' color='rgb(255,   0,   0)'/>\n",
       "\t<use xlink:href='#gpPt12' transform='translate(544.6,181.6) scale(3.15)' color='rgb(255,   0,   0)'/>\n",
       "\t<use xlink:href='#gpPt12' transform='translate(426.5,57.1) scale(3.15)' color='rgb(255,   0,   0)'/>\n",
       "</g>\n",
       "\t</g>\n",
       "\t<g id=\"gnuplot_plot_2\" ><title>AgglomerationThreshold0.1</title>\n",
       "<g fill=\"none\" color=\"black\" stroke=\"currentColor\" stroke-width=\"1.00\" stroke-linecap=\"butt\" stroke-linejoin=\"miter\">\n",
       "\t<g transform=\"translate(464.3,87.1)\" stroke=\"none\" fill=\"black\" font-family=\"Arial\" font-size=\"16.00\"  text-anchor=\"start\">\n",
       "\t\t<text><tspan font-family=\"Arial\" >AgglomerationThreshold0.1</tspan></text>\n",
       "\t</g>\n",
       "</g>\n",
       "<g fill=\"none\" color=\"black\" stroke=\"currentColor\" stroke-width=\"1.00\" stroke-linecap=\"butt\" stroke-linejoin=\"miter\">\n",
       "\t<path stroke='rgb(  0, 255,   0)'  d='M399.8,81.1 L453.2,81.1 M261.8,458.7 L332.5,365.4 L403.2,284.4 L473.9,223.1 L544.6,185.8  '/>\t<use xlink:href='#gpPt4' transform='translate(261.8,458.7) scale(3.15)' color='rgb(  0, 255,   0)'/>\n",
       "\t<use xlink:href='#gpPt4' transform='translate(332.5,365.4) scale(3.15)' color='rgb(  0, 255,   0)'/>\n",
       "\t<use xlink:href='#gpPt4' transform='translate(403.2,284.4) scale(3.15)' color='rgb(  0, 255,   0)'/>\n",
       "\t<use xlink:href='#gpPt4' transform='translate(473.9,223.1) scale(3.15)' color='rgb(  0, 255,   0)'/>\n",
       "\t<use xlink:href='#gpPt4' transform='translate(544.6,185.8) scale(3.15)' color='rgb(  0, 255,   0)'/>\n",
       "\t<use xlink:href='#gpPt4' transform='translate(426.5,81.1) scale(3.15)' color='rgb(  0, 255,   0)'/>\n",
       "</g>\n",
       "\t</g>\n",
       "\t<g id=\"gnuplot_plot_3\" ><title>AgglomerationThreshold0.2</title>\n",
       "<g fill=\"none\" color=\"black\" stroke=\"currentColor\" stroke-width=\"1.00\" stroke-linecap=\"butt\" stroke-linejoin=\"miter\">\n",
       "\t<g transform=\"translate(464.3,111.1)\" stroke=\"none\" fill=\"black\" font-family=\"Arial\" font-size=\"16.00\"  text-anchor=\"start\">\n",
       "\t\t<text><tspan font-family=\"Arial\" >AgglomerationThreshold0.2</tspan></text>\n",
       "\t</g>\n",
       "</g>\n",
       "<g fill=\"none\" color=\"black\" stroke=\"currentColor\" stroke-width=\"1.00\" stroke-linecap=\"butt\" stroke-linejoin=\"miter\">\n",
       "\t<path stroke='rgb(  0,   0, 255)'  d='M399.8,105.1 L453.2,105.1 M261.8,458.7 L332.5,365.4 L403.2,283.9 L473.9,223.5 L544.6,186.5  '/>\t<use xlink:href='#gpPt8' transform='translate(261.8,458.7) scale(3.15)' color='rgb(  0,   0, 255)'/>\n",
       "\t<use xlink:href='#gpPt8' transform='translate(332.5,365.4) scale(3.15)' color='rgb(  0,   0, 255)'/>\n",
       "\t<use xlink:href='#gpPt8' transform='translate(403.2,283.9) scale(3.15)' color='rgb(  0,   0, 255)'/>\n",
       "\t<use xlink:href='#gpPt8' transform='translate(473.9,223.5) scale(3.15)' color='rgb(  0,   0, 255)'/>\n",
       "\t<use xlink:href='#gpPt8' transform='translate(544.6,186.5) scale(3.15)' color='rgb(  0,   0, 255)'/>\n",
       "\t<use xlink:href='#gpPt8' transform='translate(426.5,105.1) scale(3.15)' color='rgb(  0,   0, 255)'/>\n",
       "</g>\n",
       "\t</g>\n",
       "\t<g id=\"gnuplot_plot_4\" ><title>AgglomerationThreshold0.3</title>\n",
       "<g fill=\"none\" color=\"black\" stroke=\"currentColor\" stroke-width=\"1.00\" stroke-linecap=\"butt\" stroke-linejoin=\"miter\">\n",
       "\t<g transform=\"translate(464.3,135.1)\" stroke=\"none\" fill=\"black\" font-family=\"Arial\" font-size=\"16.00\"  text-anchor=\"start\">\n",
       "\t\t<text><tspan font-family=\"Arial\" >AgglomerationThreshold0.3</tspan></text>\n",
       "\t</g>\n",
       "</g>\n",
       "<g fill=\"none\" color=\"black\" stroke=\"currentColor\" stroke-width=\"1.00\" stroke-linecap=\"butt\" stroke-linejoin=\"miter\">\n",
       "\t<path stroke='rgb(255,   0, 255)'  d='M399.8,129.1 L453.2,129.1 M261.8,458.6 L332.5,365.3 L403.2,283.6 L473.9,221.3 L544.6,183.3  '/>\t<use xlink:href='#gpPt7' transform='translate(261.8,458.6) scale(3.15)' color='rgb(255,   0, 255)'/>\n",
       "\t<use xlink:href='#gpPt7' transform='translate(332.5,365.3) scale(3.15)' color='rgb(255,   0, 255)'/>\n",
       "\t<use xlink:href='#gpPt7' transform='translate(403.2,283.6) scale(3.15)' color='rgb(255,   0, 255)'/>\n",
       "\t<use xlink:href='#gpPt7' transform='translate(473.9,221.3) scale(3.15)' color='rgb(255,   0, 255)'/>\n",
       "\t<use xlink:href='#gpPt7' transform='translate(544.6,183.3) scale(3.15)' color='rgb(255,   0, 255)'/>\n",
       "\t<use xlink:href='#gpPt7' transform='translate(426.5,129.1) scale(3.15)' color='rgb(255,   0, 255)'/>\n",
       "</g>\n",
       "\t</g>\n",
       "\t<g id=\"gnuplot_plot_5\" ><title>AgglomerationThreshold0.4</title>\n",
       "<g fill=\"none\" color=\"black\" stroke=\"currentColor\" stroke-width=\"1.00\" stroke-linecap=\"butt\" stroke-linejoin=\"miter\">\n",
       "\t<g transform=\"translate(464.3,159.1)\" stroke=\"none\" fill=\"black\" font-family=\"Arial\" font-size=\"16.00\"  text-anchor=\"start\">\n",
       "\t\t<text><tspan font-family=\"Arial\" >AgglomerationThreshold0.4</tspan></text>\n",
       "\t</g>\n",
       "</g>\n",
       "<g fill=\"none\" color=\"black\" stroke=\"currentColor\" stroke-width=\"1.00\" stroke-linecap=\"butt\" stroke-linejoin=\"miter\">\n",
       "\t<path stroke='rgb(255, 255,   0)'  d='M399.8,153.1 L453.2,153.1 M261.8,458.6 L332.5,365.3 L403.2,282.5 L473.9,218.0 L544.6,183.3  '/>\t<use xlink:href='#gpPt12' transform='translate(261.8,458.6) scale(3.15)' color='rgb(255, 255,   0)'/>\n",
       "\t<use xlink:href='#gpPt12' transform='translate(332.5,365.3) scale(3.15)' color='rgb(255, 255,   0)'/>\n",
       "\t<use xlink:href='#gpPt12' transform='translate(403.2,282.5) scale(3.15)' color='rgb(255, 255,   0)'/>\n",
       "\t<use xlink:href='#gpPt12' transform='translate(473.9,218.0) scale(3.15)' color='rgb(255, 255,   0)'/>\n",
       "\t<use xlink:href='#gpPt12' transform='translate(544.6,183.3) scale(3.15)' color='rgb(255, 255,   0)'/>\n",
       "\t<use xlink:href='#gpPt12' transform='translate(426.5,153.1) scale(3.15)' color='rgb(255, 255,   0)'/>\n",
       "</g>\n",
       "\t</g>\n",
       "\t<g id=\"gnuplot_plot_6\" ><title>AgglomerationThreshold0.5</title>\n",
       "<g fill=\"none\" color=\"black\" stroke=\"currentColor\" stroke-width=\"1.00\" stroke-linecap=\"butt\" stroke-linejoin=\"miter\">\n",
       "\t<g transform=\"translate(464.3,183.1)\" stroke=\"none\" fill=\"black\" font-family=\"Arial\" font-size=\"16.00\"  text-anchor=\"start\">\n",
       "\t\t<text><tspan font-family=\"Arial\" >AgglomerationThreshold0.5</tspan></text>\n",
       "\t</g>\n",
       "</g>\n",
       "<g fill=\"none\" color=\"black\" stroke=\"currentColor\" stroke-width=\"1.00\" stroke-linecap=\"butt\" stroke-linejoin=\"miter\">\n",
       "\t<path stroke='rgb(  0,   0,   0)'  d='M399.8,177.1 L453.2,177.1 M261.8,458.5 L332.5,365.0 L403.2,282.5 L473.9,218.0 L544.6,163.2  '/>\t<use xlink:href='#gpPt4' transform='translate(261.8,458.5) scale(3.15)' color='rgb(  0,   0,   0)'/>\n",
       "\t<use xlink:href='#gpPt4' transform='translate(332.5,365.0) scale(3.15)' color='rgb(  0,   0,   0)'/>\n",
       "\t<use xlink:href='#gpPt4' transform='translate(403.2,282.5) scale(3.15)' color='rgb(  0,   0,   0)'/>\n",
       "\t<use xlink:href='#gpPt4' transform='translate(473.9,218.0) scale(3.15)' color='rgb(  0,   0,   0)'/>\n",
       "\t<use xlink:href='#gpPt4' transform='translate(544.6,163.2) scale(3.15)' color='rgb(  0,   0,   0)'/>\n",
       "\t<use xlink:href='#gpPt4' transform='translate(426.5,177.1) scale(3.15)' color='rgb(  0,   0,   0)'/>\n",
       "</g>\n",
       "\t</g>\n",
       "<g fill=\"none\" color=\"#FFFFFF\" stroke=\"rgb(  0,   0,   0)\" stroke-width=\"2.00\" stroke-linecap=\"butt\" stroke-linejoin=\"miter\">\n",
       "</g>\n",
       "<g fill=\"none\" color=\"black\" stroke=\"currentColor\" stroke-width=\"2.00\" stroke-linecap=\"butt\" stroke-linejoin=\"miter\">\n",
       "</g>\n",
       "<g fill=\"none\" color=\"black\" stroke=\"black\" stroke-width=\"1.00\" stroke-linecap=\"butt\" stroke-linejoin=\"miter\">\n",
       "</g>\n",
       "<g fill=\"none\" color=\"black\" stroke=\"currentColor\" stroke-width=\"1.00\" stroke-linecap=\"butt\" stroke-linejoin=\"miter\">\n",
       "\t<path stroke='black'  d='M45.6,36.1 L45.6,564.0 L750.1,564.0 L750.1,36.1 L45.6,36.1 Z  '/></g>\n",
       "<g fill=\"none\" color=\"black\" stroke=\"currentColor\" stroke-width=\"1.00\" stroke-linecap=\"butt\" stroke-linejoin=\"miter\">\n",
       "</g>\n",
       "</g>\n",
       "</svg>\n",
       "\n"
      ]
     },
     "metadata": {},
     "output_type": "display_data"
    }
   ],
   "source": [
    "var plot = Tab3.ToPlot(xVarName, yVarName,  \"AgglomerationThreshold\");\n",
    "plot.LogY = true;\n",
    "plot.LogX = true;\n",
    "        for (int i = 0; i < plot.dataGroups.Length; i++){\n",
    "            var dataGroup = plot.dataGroups[i];\n",
    "            dataGroup.Format.LineColor = allColors[i % allColors.Length];\n",
    "            dataGroup.Format.PointType = myPointTypes[i % myPointTypes.Length];\n",
    "        }   \n",
    "plot.PlotNow()"
   ]
  },
  {
   "cell_type": "code",
   "execution_count": 13,
   "metadata": {
    "dotnet_interactive": {
     "language": "csharp"
    },
    "polyglot_notebook": {
     "kernelName": "csharp"
    },
    "vscode": {
     "languageId": "polyglot-notebook"
    }
   },
   "outputs": [
    {
     "name": "stdout",
     "output_type": "stream",
     "text": [
      "Using gnuplot: C:\\Program Files (x86)\\FDY\\BoSSS\\bin\\native\\win\\gnuplot-gp510-20160418-win32-mingw\\gnuplot\\bin\\gnuplot.exe\r\n"
     ]
    }
   ],
   "source": [
    "plot.SaveToGIF(yVarName + \"_k\" + dgDegree + \"_2D.png\");\n",
    "plot.SavePgfplotsFile(yVarName + \"_k\" + dgDegree + \"_2D.tex\");"
   ]
  },
  {
   "cell_type": "code",
   "execution_count": 14,
   "metadata": {
    "dotnet_interactive": {
     "language": "csharp"
    },
    "polyglot_notebook": {
     "kernelName": "csharp"
    },
    "vscode": {
     "languageId": "polyglot-notebook"
    }
   },
   "outputs": [
    {
     "data": {
      "text/html": [
       "<table><thead><tr><th><i>index</i></th><th>value</th></tr></thead><tbody><tr><td>0</td><td>[AgglomerationThreshold0, 1.3169697486750147]</td></tr><tr><td>1</td><td>[AgglomerationThreshold0.1, 1.2987859502263683]</td></tr><tr><td>2</td><td>[AgglomerationThreshold0.2, 1.2953540569809474]</td></tr><tr><td>3</td><td>[AgglomerationThreshold0.3, 1.3112759518834014]</td></tr><tr><td>4</td><td>[AgglomerationThreshold0.4, 1.3173774426199851]</td></tr><tr><td>5</td><td>[AgglomerationThreshold0.5, 1.392411812603103]</td></tr></tbody></table><style>\r\n",
       ".dni-code-hint {\r\n",
       "    font-style: italic;\r\n",
       "    overflow: hidden;\r\n",
       "    white-space: nowrap;\r\n",
       "}\r\n",
       ".dni-treeview {\r\n",
       "    white-space: nowrap;\r\n",
       "}\r\n",
       ".dni-treeview td {\r\n",
       "    vertical-align: top;\r\n",
       "    text-align: start;\r\n",
       "}\r\n",
       "details.dni-treeview {\r\n",
       "    padding-left: 1em;\r\n",
       "}\r\n",
       "table td {\r\n",
       "    text-align: start;\r\n",
       "}\r\n",
       "table tr { \r\n",
       "    vertical-align: top; \r\n",
       "    margin: 0em 0px;\r\n",
       "}\r\n",
       "table tr td pre \r\n",
       "{ \r\n",
       "    vertical-align: top !important; \r\n",
       "    margin: 0em 0px !important;\r\n",
       "} \r\n",
       "table th {\r\n",
       "    text-align: start;\r\n",
       "}\r\n",
       "</style>"
      ]
     },
     "metadata": {},
     "output_type": "display_data"
    }
   ],
   "source": [
    "plot.Regression()"
   ]
  },
  {
   "cell_type": "code",
   "execution_count": 15,
   "metadata": {
    "dotnet_interactive": {
     "language": "csharp"
    },
    "polyglot_notebook": {
     "kernelName": "csharp"
    },
    "vscode": {
     "languageId": "polyglot-notebook"
    }
   },
   "outputs": [
    {
     "name": "stdout",
     "output_type": "stream",
     "text": [
      "    AgglomerationThreshold DGdegree:Velocity* Grid:hMin            Grid:NoOfCells L2err_VelocityX        L2err_Pressure         \n",
      "0:  0                      2                  0.008333333333333304 57600          1.1058517121663431E-06 1.4559191642240669E-05 \n",
      "1:  0                      2                  0.016666666666666607 14400          1.2923345429935593E-05 7.451811702821816E-05  \n",
      "2:  0                      2                  0.033333333333333215 3600           0.00015279344671051534 0.0004531268167517365  \n",
      "3:  0                      2                  0.06666666666666665  900            0.0017139783424028445  0.0018008173819011944  \n",
      "4:  0                      2                  0.1333333333333333   225            0.017945227572187014   0.00707456485796849    \n",
      "5:  0.1                    2                  0.008333333333333304 57600          1.0812418263592682E-06 1.1243550712629745E-05 \n",
      "6:  0.1                    2                  0.016666666666666607 14400          1.2493233593388206E-05 5.961416171053041E-05  \n",
      "7:  0.1                    2                  0.033333333333333215 3600           0.00014458423414539544 0.00034459457883855086 \n",
      "8:  0.1                    2                  0.06666666666666665  900            0.001613966349020902   0.001664070665234783   \n",
      "9:  0.1                    2                  0.1333333333333333   225            0.01619313497886438    0.007298295430553806   \n",
      "10: 0.2                    2                  0.008333333333333304 57600          1.0874428798161043E-06 1.1290369206902232E-05 \n",
      "11: 0.2                    2                  0.016666666666666607 14400          1.2566622176697606E-05 5.766052715547106E-05  \n",
      "12: 0.2                    2                  0.033333333333333215 3600           0.00015051424310559534 0.00032818675047845467 \n",
      "13: 0.2                    2                  0.06666666666666665  900            0.0016059876725826514  0.001686265138759101   \n",
      "14: 0.2                    2                  0.1333333333333333   225            0.015938868368493224   0.007359826284042076   \n",
      "15: 0.3                    2                  0.008333333333333304 57600          1.1182617957953E-06    1.1875199557467882E-05 \n",
      "16: 0.3                    2                  0.016666666666666607 14400          1.2870621207741809E-05 6.26922295732672E-05   \n",
      "17: 0.3                    2                  0.033333333333333215 3600           0.0001511425019467159  0.00031591013510763686 \n",
      "18: 0.3                    2                  0.06666666666666665  900            0.0016524735996958854  0.00126547656045332    \n",
      "19: 0.3                    2                  0.1333333333333333   225            0.017894923827221583   0.006763816084281699   \n",
      "20: 0.4                    2                  0.008333333333333304 57600          1.1514820437518899E-06 1.2562111993389263E-05 \n",
      "21: 0.4                    2                  0.016666666666666607 14400          1.2870620917725866E-05 6.269222957736901E-05  \n",
      "22: 0.4                    2                  0.033333333333333215 3600           0.0001627023620040664  0.00037241543616428624 \n",
      "23: 0.4                    2                  0.06666666666666665  900            0.0017399894152259324  0.0014369068482742652  \n",
      "24: 0.4                    2                  0.1333333333333333   225            0.01789492382722158    0.006763816084281699   \n",
      "25: 0.5                    2                  0.008333333333333304 57600          1.2007818915739127E-06 1.3790259368558115E-05 \n",
      "26: 0.5                    2                  0.016666666666666607 14400          1.3460424736461601E-05 6.922049188836796E-05  \n",
      "27: 0.5                    2                  0.033333333333333215 3600           0.0001627023620040598  0.00037241543616428624 \n",
      "28: 0.5                    2                  0.06666666666666665  900            0.001739989415225929   0.0014369068482742652  \n",
      "29: 0.5                    2                  0.1333333333333333   225            0.02274502011368004    0.009096455272818143   "
     ]
    }
   ],
   "source": [
    "string xVarName = \"Grid:hMin\";\n",
    "string yVarName = \"L2err_VelocityX\";\n",
    "int dgDegree = 2;\n",
    "\n",
    "// Filter rows depending on selection\n",
    "var Tab3 = Tab2.ExtractRows((iRow,RowEntries)=> \n",
    "                //Convert.ToDouble(RowEntries[\"AgglomerationThreshold\"]) == 0 &&\n",
    "                Convert.ToDouble(RowEntries[\"DGdegree:Velocity*\"]) == dgDegree\n",
    "            );\n",
    "\n",
    "// Sort in ascending order of AgglomerationThreshold\n",
    "System.Data.DataView view = Tab3.DefaultView;\n",
    "view.Sort = \"AgglomerationThreshold ASC\"; \n",
    "Tab3 = view.ToTable();\n",
    "\n",
    "Tab3.Print()\n"
   ]
  },
  {
   "cell_type": "code",
   "execution_count": 16,
   "metadata": {
    "dotnet_interactive": {
     "language": "csharp"
    },
    "polyglot_notebook": {
     "kernelName": "csharp"
    },
    "vscode": {
     "languageId": "polyglot-notebook"
    }
   },
   "outputs": [],
   "source": [
    "Plot2Ddata plot = new Plot2Ddata();"
   ]
  },
  {
   "cell_type": "code",
   "execution_count": 17,
   "metadata": {
    "dotnet_interactive": {
     "language": "csharp"
    },
    "polyglot_notebook": {
     "kernelName": "csharp"
    },
    "vscode": {
     "languageId": "polyglot-notebook"
    }
   },
   "outputs": [
    {
     "name": "stdout",
     "output_type": "stream",
     "text": [
      "Using gnuplot: C:\\Program Files (x86)\\FDY\\BoSSS\\bin\\native\\win\\gnuplot-gp510-20160418-win32-mingw\\gnuplot\\bin\\gnuplot.exe\n",
      "Note: In a Jupyter Worksheet, you must NOT have a trailing semicolon in order to see the plot on screen; otherwise, the output migth be surpressed.!\n"
     ]
    },
    {
     "data": {
      "text/html": [
       "<?xml version=\"1.0\" encoding=\"utf-8\"  standalone=\"no\"?>\n",
       "<!DOCTYPE svg PUBLIC \"-//W3C//DTD SVG 1.1//EN\"\n",
       " \"http://www.w3.org/Graphics/SVG/1.1/DTD/svg11.dtd\">\n",
       "<svg \n",
       " width=\"800\" height=\"600\"\n",
       " viewBox=\"0 0 800 600\"\n",
       " xmlns=\"http://www.w3.org/2000/svg\"\n",
       " xmlns:xlink=\"http://www.w3.org/1999/xlink\"\n",
       ">\n",
       "\n",
       "<title>Gnuplot</title>\n",
       "<desc>Produced by GNUPLOT 5.1 patchlevel 0 </desc>\n",
       "\n",
       "<g id=\"gnuplot_canvas\">\n",
       "\n",
       "<rect x=\"0\" y=\"0\" width=\"800\" height=\"600\" fill=\"#ffffff\"/>\n",
       "<defs>\n",
       "\n",
       "\t<circle id='gpDot' r='0.5' stroke-width='0.5'/>\n",
       "\t<path id='gpPt0' stroke-width='0.222' stroke='currentColor' d='M-1,0 h2 M0,-1 v2'/>\n",
       "\t<path id='gpPt1' stroke-width='0.222' stroke='currentColor' d='M-1,-1 L1,1 M1,-1 L-1,1'/>\n",
       "\t<path id='gpPt2' stroke-width='0.222' stroke='currentColor' d='M-1,0 L1,0 M0,-1 L0,1 M-1,-1 L1,1 M-1,1 L1,-1'/>\n",
       "\t<rect id='gpPt3' stroke-width='0.222' stroke='currentColor' x='-1' y='-1' width='2' height='2'/>\n",
       "\t<rect id='gpPt4' stroke-width='0.222' stroke='currentColor' fill='currentColor' x='-1' y='-1' width='2' height='2'/>\n",
       "\t<circle id='gpPt5' stroke-width='0.222' stroke='currentColor' cx='0' cy='0' r='1'/>\n",
       "\t<use xlink:href='#gpPt5' id='gpPt6' fill='currentColor' stroke='none'/>\n",
       "\t<path id='gpPt7' stroke-width='0.222' stroke='currentColor' d='M0,-1.33 L-1.33,0.67 L1.33,0.67 z'/>\n",
       "\t<use xlink:href='#gpPt7' id='gpPt8' fill='currentColor' stroke='none'/>\n",
       "\t<use xlink:href='#gpPt7' id='gpPt9' stroke='currentColor' transform='rotate(180)'/>\n",
       "\t<use xlink:href='#gpPt9' id='gpPt10' fill='currentColor' stroke='none'/>\n",
       "\t<use xlink:href='#gpPt3' id='gpPt11' stroke='currentColor' transform='rotate(45)'/>\n",
       "\t<use xlink:href='#gpPt11' id='gpPt12' fill='currentColor' stroke='none'/>\n",
       "\t<path id='gpPt13' stroke-width='0.222' stroke='currentColor' d='M0,1.330 L1.265,0.411 L0.782,-1.067 L-0.782,-1.076 L-1.265,0.411 z'/>\n",
       "\t<use xlink:href='#gpPt13' id='gpPt14' fill='currentColor' stroke='none'/>\n",
       "\t<filter id='textbox' filterUnits='objectBoundingBox' x='0' y='0' height='1' width='1'>\n",
       "\t  <feFlood flood-color='#FFFFFF' flood-opacity='1' result='bgnd'/>\n",
       "\t  <feComposite in='SourceGraphic' in2='bgnd' operator='atop'/>\n",
       "\t</filter>\n",
       "\t<filter id='greybox' filterUnits='objectBoundingBox' x='0' y='0' height='1' width='1'>\n",
       "\t  <feFlood flood-color='lightgrey' flood-opacity='1' result='grey'/>\n",
       "\t  <feComposite in='SourceGraphic' in2='grey' operator='atop'/>\n",
       "\t</filter>\n",
       "</defs>\n",
       "<g fill=\"none\" color=\"#FFFFFF\" stroke=\"currentColor\" stroke-width=\"1.00\" stroke-linecap=\"butt\" stroke-linejoin=\"miter\">\n",
       "</g>\n",
       "<g fill=\"none\" color=\"black\" stroke=\"currentColor\" stroke-width=\"1.00\" stroke-linecap=\"butt\" stroke-linejoin=\"miter\">\n",
       "\t<path stroke='black'  d='M45.6,564.0 L54.6,564.0 M750.1,564.0 L741.1,564.0  '/>\t<g transform=\"translate(37.3,570.0)\" stroke=\"none\" fill=\"black\" font-family=\"sans\" font-size=\"16.00\"  text-anchor=\"end\">\n",
       "\t\t<text><tspan font-family=\"sans\" >10</tspan><tspan font-family=\"sans\"  font-size=\"12.8\" dy=\"-8.00px\">-6</tspan><tspan font-size=\"16.0\" dy=\"8.00\"></tspan></text>\n",
       "\t</g>\n",
       "</g>\n",
       "<g fill=\"none\" color=\"black\" stroke=\"currentColor\" stroke-width=\"1.00\" stroke-linecap=\"butt\" stroke-linejoin=\"miter\">\n",
       "\t<path stroke='black'  d='M45.6,532.2 L50.1,532.2 M750.1,532.2 L745.6,532.2 M45.6,490.2 L50.1,490.2 M750.1,490.2 L745.6,490.2\n",
       "\t\tM45.6,468.7 L50.1,468.7 M750.1,468.7 L745.6,468.7 M45.6,458.4 L54.6,458.4 M750.1,458.4 L741.1,458.4\n",
       "\t\t '/>\t<g transform=\"translate(37.3,464.4)\" stroke=\"none\" fill=\"black\" font-family=\"sans\" font-size=\"16.00\"  text-anchor=\"end\">\n",
       "\t\t<text><tspan font-family=\"sans\" >10</tspan><tspan font-family=\"sans\"  font-size=\"12.8\" dy=\"-8.00px\">-5</tspan><tspan font-size=\"16.0\" dy=\"8.00\"></tspan></text>\n",
       "\t</g>\n",
       "</g>\n",
       "<g fill=\"none\" color=\"black\" stroke=\"currentColor\" stroke-width=\"1.00\" stroke-linecap=\"butt\" stroke-linejoin=\"miter\">\n",
       "\t<path stroke='black'  d='M45.6,426.6 L50.1,426.6 M750.1,426.6 L745.6,426.6 M45.6,384.6 L50.1,384.6 M750.1,384.6 L745.6,384.6\n",
       "\t\tM45.6,363.1 L50.1,363.1 M750.1,363.1 L745.6,363.1 M45.6,352.8 L54.6,352.8 M750.1,352.8 L741.1,352.8\n",
       "\t\t '/>\t<g transform=\"translate(37.3,358.8)\" stroke=\"none\" fill=\"black\" font-family=\"sans\" font-size=\"16.00\"  text-anchor=\"end\">\n",
       "\t\t<text><tspan font-family=\"sans\" >10</tspan><tspan font-family=\"sans\"  font-size=\"12.8\" dy=\"-8.00px\">-4</tspan><tspan font-size=\"16.0\" dy=\"8.00\"></tspan></text>\n",
       "\t</g>\n",
       "</g>\n",
       "<g fill=\"none\" color=\"black\" stroke=\"currentColor\" stroke-width=\"1.00\" stroke-linecap=\"butt\" stroke-linejoin=\"miter\">\n",
       "\t<path stroke='black'  d='M45.6,321.1 L50.1,321.1 M750.1,321.1 L745.6,321.1 M45.6,279.0 L50.1,279.0 M750.1,279.0 L745.6,279.0\n",
       "\t\tM45.6,257.5 L50.1,257.5 M750.1,257.5 L745.6,257.5 M45.6,247.3 L54.6,247.3 M750.1,247.3 L741.1,247.3\n",
       "\t\t '/>\t<g transform=\"translate(37.3,253.3)\" stroke=\"none\" fill=\"black\" font-family=\"sans\" font-size=\"16.00\"  text-anchor=\"end\">\n",
       "\t\t<text><tspan font-family=\"sans\" >10</tspan><tspan font-family=\"sans\"  font-size=\"12.8\" dy=\"-8.00px\">-3</tspan><tspan font-size=\"16.0\" dy=\"8.00\"></tspan></text>\n",
       "\t</g>\n",
       "</g>\n",
       "<g fill=\"none\" color=\"black\" stroke=\"currentColor\" stroke-width=\"1.00\" stroke-linecap=\"butt\" stroke-linejoin=\"miter\">\n",
       "\t<path stroke='black'  d='M45.6,215.5 L50.1,215.5 M750.1,215.5 L745.6,215.5 M45.6,173.5 L50.1,173.5 M750.1,173.5 L745.6,173.5\n",
       "\t\tM45.6,151.9 L50.1,151.9 M750.1,151.9 L745.6,151.9 M45.6,141.7 L54.6,141.7 M750.1,141.7 L741.1,141.7\n",
       "\t\t '/>\t<g transform=\"translate(37.3,147.7)\" stroke=\"none\" fill=\"black\" font-family=\"sans\" font-size=\"16.00\"  text-anchor=\"end\">\n",
       "\t\t<text><tspan font-family=\"sans\" >10</tspan><tspan font-family=\"sans\"  font-size=\"12.8\" dy=\"-8.00px\">-2</tspan><tspan font-size=\"16.0\" dy=\"8.00\"></tspan></text>\n",
       "\t</g>\n",
       "</g>\n",
       "<g fill=\"none\" color=\"black\" stroke=\"currentColor\" stroke-width=\"1.00\" stroke-linecap=\"butt\" stroke-linejoin=\"miter\">\n",
       "\t<path stroke='black'  d='M45.6,109.9 L50.1,109.9 M750.1,109.9 L745.6,109.9 M45.6,67.9 L50.1,67.9 M750.1,67.9 L745.6,67.9\n",
       "\t\tM45.6,46.3 L50.1,46.3 M750.1,46.3 L745.6,46.3 M45.6,36.1 L54.6,36.1 M750.1,36.1 L741.1,36.1\n",
       "\t\t '/>\t<g transform=\"translate(37.3,42.1)\" stroke=\"none\" fill=\"black\" font-family=\"sans\" font-size=\"16.00\"  text-anchor=\"end\">\n",
       "\t\t<text><tspan font-family=\"sans\" >10</tspan><tspan font-family=\"sans\"  font-size=\"12.8\" dy=\"-8.00px\">-1</tspan><tspan font-size=\"16.0\" dy=\"8.00\"></tspan></text>\n",
       "\t</g>\n",
       "</g>\n",
       "<g fill=\"none\" color=\"black\" stroke=\"currentColor\" stroke-width=\"1.00\" stroke-linecap=\"butt\" stroke-linejoin=\"miter\">\n",
       "\t<path stroke='black'  d='M45.6,564.0 L45.6,555.0 M45.6,36.1 L45.6,45.1  '/>\t<g transform=\"translate(45.6,595.2)\" stroke=\"none\" fill=\"black\" font-family=\"sans\" font-size=\"16.00\"  text-anchor=\"middle\">\n",
       "\t\t<text><tspan font-family=\"sans\" >10</tspan><tspan font-family=\"sans\"  font-size=\"12.8\" dy=\"-8.00px\">-3</tspan><tspan font-size=\"16.0\" dy=\"8.00\"></tspan></text>\n",
       "\t</g>\n",
       "</g>\n",
       "<g fill=\"none\" color=\"black\" stroke=\"currentColor\" stroke-width=\"1.00\" stroke-linecap=\"butt\" stroke-linejoin=\"miter\">\n",
       "\t<path stroke='black'  d='M116.3,564.0 L116.3,559.5 M116.3,36.1 L116.3,40.6 M157.6,564.0 L157.6,559.5 M157.6,36.1 L157.6,40.6\n",
       "\t\tM187.0,564.0 L187.0,559.5 M187.0,36.1 L187.0,40.6 M209.7,564.0 L209.7,559.5 M209.7,36.1 L209.7,40.6\n",
       "\t\tM228.3,564.0 L228.3,559.5 M228.3,36.1 L228.3,40.6 M244.1,564.0 L244.1,559.5 M244.1,36.1 L244.1,40.6\n",
       "\t\tM257.7,564.0 L257.7,559.5 M257.7,36.1 L257.7,40.6 M269.7,564.0 L269.7,559.5 M269.7,36.1 L269.7,40.6\n",
       "\t\tM280.4,564.0 L280.4,555.0 M280.4,36.1 L280.4,45.1  '/>\t<g transform=\"translate(280.4,595.2)\" stroke=\"none\" fill=\"black\" font-family=\"sans\" font-size=\"16.00\"  text-anchor=\"middle\">\n",
       "\t\t<text><tspan font-family=\"sans\" >10</tspan><tspan font-family=\"sans\"  font-size=\"12.8\" dy=\"-8.00px\">-2</tspan><tspan font-size=\"16.0\" dy=\"8.00\"></tspan></text>\n",
       "\t</g>\n",
       "</g>\n",
       "<g fill=\"none\" color=\"black\" stroke=\"currentColor\" stroke-width=\"1.00\" stroke-linecap=\"butt\" stroke-linejoin=\"miter\">\n",
       "\t<path stroke='black'  d='M351.1,564.0 L351.1,559.5 M351.1,36.1 L351.1,40.6 M392.5,564.0 L392.5,559.5 M392.5,36.1 L392.5,40.6\n",
       "\t\tM421.8,564.0 L421.8,559.5 M421.8,36.1 L421.8,40.6 M444.6,564.0 L444.6,559.5 M444.6,36.1 L444.6,40.6\n",
       "\t\tM463.2,564.0 L463.2,559.5 M463.2,36.1 L463.2,40.6 M478.9,564.0 L478.9,559.5 M478.9,36.1 L478.9,40.6\n",
       "\t\tM492.5,564.0 L492.5,559.5 M492.5,36.1 L492.5,40.6 M504.5,564.0 L504.5,559.5 M504.5,36.1 L504.5,40.6\n",
       "\t\tM515.3,564.0 L515.3,555.0 M515.3,36.1 L515.3,45.1  '/>\t<g transform=\"translate(515.3,595.2)\" stroke=\"none\" fill=\"black\" font-family=\"sans\" font-size=\"16.00\"  text-anchor=\"middle\">\n",
       "\t\t<text><tspan font-family=\"sans\" >10</tspan><tspan font-family=\"sans\"  font-size=\"12.8\" dy=\"-8.00px\">-1</tspan><tspan font-size=\"16.0\" dy=\"8.00\"></tspan></text>\n",
       "\t</g>\n",
       "</g>\n",
       "<g fill=\"none\" color=\"black\" stroke=\"currentColor\" stroke-width=\"1.00\" stroke-linecap=\"butt\" stroke-linejoin=\"miter\">\n",
       "\t<path stroke='black'  d='M586.0,564.0 L586.0,559.5 M586.0,36.1 L586.0,40.6 M627.3,564.0 L627.3,559.5 M627.3,36.1 L627.3,40.6\n",
       "\t\tM656.7,564.0 L656.7,559.5 M656.7,36.1 L656.7,40.6 M679.4,564.0 L679.4,559.5 M679.4,36.1 L679.4,40.6\n",
       "\t\tM698.0,564.0 L698.0,559.5 M698.0,36.1 L698.0,40.6 M713.7,564.0 L713.7,559.5 M713.7,36.1 L713.7,40.6\n",
       "\t\tM727.3,564.0 L727.3,559.5 M727.3,36.1 L727.3,40.6 M739.4,564.0 L739.4,559.5 M739.4,36.1 L739.4,40.6\n",
       "\t\tM750.1,564.0 L750.1,555.0 M750.1,36.1 L750.1,45.1  '/>\t<g transform=\"translate(750.1,595.2)\" stroke=\"none\" fill=\"black\" font-family=\"sans\" font-size=\"16.00\"  text-anchor=\"middle\">\n",
       "\t\t<text><tspan font-family=\"sans\" >10</tspan><tspan font-family=\"sans\"  font-size=\"12.8\" dy=\"-8.00px\">0</tspan><tspan font-size=\"16.0\" dy=\"8.00\"></tspan></text>\n",
       "\t</g>\n",
       "</g>\n",
       "<g fill=\"none\" color=\"black\" stroke=\"currentColor\" stroke-width=\"1.00\" stroke-linecap=\"butt\" stroke-linejoin=\"miter\">\n",
       "\t<path stroke='black'  d='M750.1,564.0 L741.1,564.0  '/>\t<g transform=\"translate(758.4,568.5)\" stroke=\"none\" fill=\"black\" font-family=\"Arial\" font-size=\"12.00\"  text-anchor=\"start\">\n",
       "\t\t<text><tspan font-family=\"Arial\" > </tspan></text>\n",
       "\t</g>\n",
       "</g>\n",
       "<g fill=\"none\" color=\"black\" stroke=\"currentColor\" stroke-width=\"1.00\" stroke-linecap=\"butt\" stroke-linejoin=\"miter\">\n",
       "\t<path stroke='black'  d='M750.1,505.3 L741.1,505.3  '/>\t<g transform=\"translate(758.4,509.8)\" stroke=\"none\" fill=\"black\" font-family=\"Arial\" font-size=\"12.00\"  text-anchor=\"start\">\n",
       "\t\t<text><tspan font-family=\"Arial\" > </tspan></text>\n",
       "\t</g>\n",
       "</g>\n",
       "<g fill=\"none\" color=\"black\" stroke=\"currentColor\" stroke-width=\"1.00\" stroke-linecap=\"butt\" stroke-linejoin=\"miter\">\n",
       "\t<path stroke='black'  d='M750.1,446.7 L741.1,446.7  '/>\t<g transform=\"translate(758.4,451.2)\" stroke=\"none\" fill=\"black\" font-family=\"Arial\" font-size=\"12.00\"  text-anchor=\"start\">\n",
       "\t\t<text><tspan font-family=\"Arial\" > </tspan></text>\n",
       "\t</g>\n",
       "</g>\n",
       "<g fill=\"none\" color=\"black\" stroke=\"currentColor\" stroke-width=\"1.00\" stroke-linecap=\"butt\" stroke-linejoin=\"miter\">\n",
       "\t<path stroke='black'  d='M750.1,388.0 L741.1,388.0  '/>\t<g transform=\"translate(758.4,392.5)\" stroke=\"none\" fill=\"black\" font-family=\"Arial\" font-size=\"12.00\"  text-anchor=\"start\">\n",
       "\t\t<text><tspan font-family=\"Arial\" > </tspan></text>\n",
       "\t</g>\n",
       "</g>\n",
       "<g fill=\"none\" color=\"black\" stroke=\"currentColor\" stroke-width=\"1.00\" stroke-linecap=\"butt\" stroke-linejoin=\"miter\">\n",
       "\t<path stroke='black'  d='M750.1,329.4 L741.1,329.4  '/>\t<g transform=\"translate(758.4,333.9)\" stroke=\"none\" fill=\"black\" font-family=\"Arial\" font-size=\"12.00\"  text-anchor=\"start\">\n",
       "\t\t<text><tspan font-family=\"Arial\" > </tspan></text>\n",
       "\t</g>\n",
       "</g>\n",
       "<g fill=\"none\" color=\"black\" stroke=\"currentColor\" stroke-width=\"1.00\" stroke-linecap=\"butt\" stroke-linejoin=\"miter\">\n",
       "\t<path stroke='black'  d='M750.1,270.7 L741.1,270.7  '/>\t<g transform=\"translate(758.4,275.2)\" stroke=\"none\" fill=\"black\" font-family=\"Arial\" font-size=\"12.00\"  text-anchor=\"start\">\n",
       "\t\t<text><tspan font-family=\"Arial\" > </tspan></text>\n",
       "\t</g>\n",
       "</g>\n",
       "<g fill=\"none\" color=\"black\" stroke=\"currentColor\" stroke-width=\"1.00\" stroke-linecap=\"butt\" stroke-linejoin=\"miter\">\n",
       "\t<path stroke='black'  d='M750.1,212.1 L741.1,212.1  '/>\t<g transform=\"translate(758.4,216.6)\" stroke=\"none\" fill=\"black\" font-family=\"Arial\" font-size=\"12.00\"  text-anchor=\"start\">\n",
       "\t\t<text><tspan font-family=\"Arial\" > </tspan></text>\n",
       "\t</g>\n",
       "</g>\n",
       "<g fill=\"none\" color=\"black\" stroke=\"currentColor\" stroke-width=\"1.00\" stroke-linecap=\"butt\" stroke-linejoin=\"miter\">\n",
       "\t<path stroke='black'  d='M750.1,153.4 L741.1,153.4  '/>\t<g transform=\"translate(758.4,157.9)\" stroke=\"none\" fill=\"black\" font-family=\"Arial\" font-size=\"12.00\"  text-anchor=\"start\">\n",
       "\t\t<text><tspan font-family=\"Arial\" > </tspan></text>\n",
       "\t</g>\n",
       "</g>\n",
       "<g fill=\"none\" color=\"black\" stroke=\"currentColor\" stroke-width=\"1.00\" stroke-linecap=\"butt\" stroke-linejoin=\"miter\">\n",
       "\t<path stroke='black'  d='M750.1,94.8 L741.1,94.8  '/>\t<g transform=\"translate(758.4,99.3)\" stroke=\"none\" fill=\"black\" font-family=\"Arial\" font-size=\"12.00\"  text-anchor=\"start\">\n",
       "\t\t<text><tspan font-family=\"Arial\" > </tspan></text>\n",
       "\t</g>\n",
       "</g>\n",
       "<g fill=\"none\" color=\"black\" stroke=\"currentColor\" stroke-width=\"1.00\" stroke-linecap=\"butt\" stroke-linejoin=\"miter\">\n",
       "\t<path stroke='black'  d='M750.1,36.1 L741.1,36.1  '/>\t<g transform=\"translate(758.4,40.6)\" stroke=\"none\" fill=\"black\" font-family=\"Arial\" font-size=\"12.00\"  text-anchor=\"start\">\n",
       "\t\t<text><tspan font-family=\"Arial\" > </tspan></text>\n",
       "\t</g>\n",
       "</g>\n",
       "<g fill=\"none\" color=\"black\" stroke=\"currentColor\" stroke-width=\"1.00\" stroke-linecap=\"butt\" stroke-linejoin=\"miter\">\n",
       "\t<path stroke='black'  d='M45.6,36.1 L45.6,45.1  '/>\t<g transform=\"translate(45.6,22.6)\" stroke=\"none\" fill=\"black\" font-family=\"Arial\" font-size=\"12.00\"  text-anchor=\"middle\">\n",
       "\t\t<text><tspan font-family=\"Arial\" > </tspan></text>\n",
       "\t</g>\n",
       "</g>\n",
       "<g fill=\"none\" color=\"black\" stroke=\"currentColor\" stroke-width=\"1.00\" stroke-linecap=\"butt\" stroke-linejoin=\"miter\">\n",
       "\t<path stroke='black'  d='M146.2,36.1 L146.2,45.1  '/>\t<g transform=\"translate(146.2,22.6)\" stroke=\"none\" fill=\"black\" font-family=\"Arial\" font-size=\"12.00\"  text-anchor=\"middle\">\n",
       "\t\t<text><tspan font-family=\"Arial\" > </tspan></text>\n",
       "\t</g>\n",
       "</g>\n",
       "<g fill=\"none\" color=\"black\" stroke=\"currentColor\" stroke-width=\"1.00\" stroke-linecap=\"butt\" stroke-linejoin=\"miter\">\n",
       "\t<path stroke='black'  d='M246.9,36.1 L246.9,45.1  '/>\t<g transform=\"translate(246.9,22.6)\" stroke=\"none\" fill=\"black\" font-family=\"Arial\" font-size=\"12.00\"  text-anchor=\"middle\">\n",
       "\t\t<text><tspan font-family=\"Arial\" > </tspan></text>\n",
       "\t</g>\n",
       "</g>\n",
       "<g fill=\"none\" color=\"black\" stroke=\"currentColor\" stroke-width=\"1.00\" stroke-linecap=\"butt\" stroke-linejoin=\"miter\">\n",
       "\t<path stroke='black'  d='M347.5,36.1 L347.5,45.1  '/>\t<g transform=\"translate(347.5,22.6)\" stroke=\"none\" fill=\"black\" font-family=\"Arial\" font-size=\"12.00\"  text-anchor=\"middle\">\n",
       "\t\t<text><tspan font-family=\"Arial\" > </tspan></text>\n",
       "\t</g>\n",
       "</g>\n",
       "<g fill=\"none\" color=\"black\" stroke=\"currentColor\" stroke-width=\"1.00\" stroke-linecap=\"butt\" stroke-linejoin=\"miter\">\n",
       "\t<path stroke='black'  d='M448.2,36.1 L448.2,45.1  '/>\t<g transform=\"translate(448.2,22.6)\" stroke=\"none\" fill=\"black\" font-family=\"Arial\" font-size=\"12.00\"  text-anchor=\"middle\">\n",
       "\t\t<text><tspan font-family=\"Arial\" > </tspan></text>\n",
       "\t</g>\n",
       "</g>\n",
       "<g fill=\"none\" color=\"black\" stroke=\"currentColor\" stroke-width=\"1.00\" stroke-linecap=\"butt\" stroke-linejoin=\"miter\">\n",
       "\t<path stroke='black'  d='M548.8,36.1 L548.8,45.1  '/>\t<g transform=\"translate(548.8,22.6)\" stroke=\"none\" fill=\"black\" font-family=\"Arial\" font-size=\"12.00\"  text-anchor=\"middle\">\n",
       "\t\t<text><tspan font-family=\"Arial\" > </tspan></text>\n",
       "\t</g>\n",
       "</g>\n",
       "<g fill=\"none\" color=\"black\" stroke=\"currentColor\" stroke-width=\"1.00\" stroke-linecap=\"butt\" stroke-linejoin=\"miter\">\n",
       "\t<path stroke='black'  d='M649.5,36.1 L649.5,45.1  '/>\t<g transform=\"translate(649.5,22.6)\" stroke=\"none\" fill=\"black\" font-family=\"Arial\" font-size=\"12.00\"  text-anchor=\"middle\">\n",
       "\t\t<text><tspan font-family=\"Arial\" > </tspan></text>\n",
       "\t</g>\n",
       "</g>\n",
       "<g fill=\"none\" color=\"black\" stroke=\"currentColor\" stroke-width=\"1.00\" stroke-linecap=\"butt\" stroke-linejoin=\"miter\">\n",
       "\t<path stroke='black'  d='M750.1,36.1 L750.1,45.1  '/>\t<g transform=\"translate(750.1,22.6)\" stroke=\"none\" fill=\"black\" font-family=\"Arial\" font-size=\"12.00\"  text-anchor=\"middle\">\n",
       "\t\t<text><tspan font-family=\"Arial\" > </tspan></text>\n",
       "\t</g>\n",
       "</g>\n",
       "<g fill=\"none\" color=\"black\" stroke=\"currentColor\" stroke-width=\"1.00\" stroke-linecap=\"butt\" stroke-linejoin=\"miter\">\n",
       "</g>\n",
       "<g fill=\"none\" color=\"black\" stroke=\"currentColor\" stroke-width=\"1.00\" stroke-linecap=\"butt\" stroke-linejoin=\"miter\">\n",
       "\t<path stroke='black'  d='M45.6,36.1 L45.6,564.0 L750.1,564.0 L750.1,36.1 L45.6,36.1 Z  '/></g>\n",
       "<g fill=\"none\" color=\"black\" stroke=\"currentColor\" stroke-width=\"1.00\" stroke-linecap=\"butt\" stroke-linejoin=\"miter\">\n",
       "</g>\n",
       "\t<g id=\"gnuplot_plot_1\" ><title>AgglomerationThreshold0</title>\n",
       "<g fill=\"none\" color=\"black\" stroke=\"currentColor\" stroke-width=\"1.00\" stroke-linecap=\"butt\" stroke-linejoin=\"miter\">\n",
       "\t<g transform=\"translate(464.3,63.1)\" stroke=\"none\" fill=\"black\" font-family=\"Arial\" font-size=\"16.00\"  text-anchor=\"start\">\n",
       "\t\t<text><tspan font-family=\"Arial\" >AgglomerationThreshold0</tspan></text>\n",
       "\t</g>\n",
       "</g>\n",
       "<g fill=\"none\" color=\"black\" stroke=\"currentColor\" stroke-width=\"1.00\" stroke-linecap=\"butt\" stroke-linejoin=\"miter\">\n",
       "\t<path stroke='rgb(255,   0,   0)'  d='M399.8,57.1 L453.2,57.1 M261.8,559.4 L332.5,446.7 L403.2,333.4 L473.9,222.6 L544.6,114.9  '/>\t<use xlink:href='#gpPt12' transform='translate(261.8,559.4) scale(3.15)' color='rgb(255,   0,   0)'/>\n",
       "\t<use xlink:href='#gpPt12' transform='translate(332.5,446.7) scale(3.15)' color='rgb(255,   0,   0)'/>\n",
       "\t<use xlink:href='#gpPt12' transform='translate(403.2,333.4) scale(3.15)' color='rgb(255,   0,   0)'/>\n",
       "\t<use xlink:href='#gpPt12' transform='translate(473.9,222.6) scale(3.15)' color='rgb(255,   0,   0)'/>\n",
       "\t<use xlink:href='#gpPt12' transform='translate(544.6,114.9) scale(3.15)' color='rgb(255,   0,   0)'/>\n",
       "\t<use xlink:href='#gpPt12' transform='translate(426.5,57.1) scale(3.15)' color='rgb(255,   0,   0)'/>\n",
       "</g>\n",
       "\t</g>\n",
       "\t<g id=\"gnuplot_plot_2\" ><title>AgglomerationThreshold0.1</title>\n",
       "<g fill=\"none\" color=\"black\" stroke=\"currentColor\" stroke-width=\"1.00\" stroke-linecap=\"butt\" stroke-linejoin=\"miter\">\n",
       "\t<g transform=\"translate(464.3,87.1)\" stroke=\"none\" fill=\"black\" font-family=\"Arial\" font-size=\"16.00\"  text-anchor=\"start\">\n",
       "\t\t<text><tspan font-family=\"Arial\" >AgglomerationThreshold0.1</tspan></text>\n",
       "\t</g>\n",
       "</g>\n",
       "<g fill=\"none\" color=\"black\" stroke=\"currentColor\" stroke-width=\"1.00\" stroke-linecap=\"butt\" stroke-linejoin=\"miter\">\n",
       "\t<path stroke='rgb(  0, 255,   0)'  d='M399.8,81.1 L453.2,81.1 M261.8,560.4 L332.5,448.2 L403.2,335.9 L473.9,225.3 L544.6,119.6  '/>\t<use xlink:href='#gpPt4' transform='translate(261.8,560.4) scale(3.15)' color='rgb(  0, 255,   0)'/>\n",
       "\t<use xlink:href='#gpPt4' transform='translate(332.5,448.2) scale(3.15)' color='rgb(  0, 255,   0)'/>\n",
       "\t<use xlink:href='#gpPt4' transform='translate(403.2,335.9) scale(3.15)' color='rgb(  0, 255,   0)'/>\n",
       "\t<use xlink:href='#gpPt4' transform='translate(473.9,225.3) scale(3.15)' color='rgb(  0, 255,   0)'/>\n",
       "\t<use xlink:href='#gpPt4' transform='translate(544.6,119.6) scale(3.15)' color='rgb(  0, 255,   0)'/>\n",
       "\t<use xlink:href='#gpPt4' transform='translate(426.5,81.1) scale(3.15)' color='rgb(  0, 255,   0)'/>\n",
       "</g>\n",
       "\t</g>\n",
       "\t<g id=\"gnuplot_plot_3\" ><title>AgglomerationThreshold0.2</title>\n",
       "<g fill=\"none\" color=\"black\" stroke=\"currentColor\" stroke-width=\"1.00\" stroke-linecap=\"butt\" stroke-linejoin=\"miter\">\n",
       "\t<g transform=\"translate(464.3,111.1)\" stroke=\"none\" fill=\"black\" font-family=\"Arial\" font-size=\"16.00\"  text-anchor=\"start\">\n",
       "\t\t<text><tspan font-family=\"Arial\" >AgglomerationThreshold0.2</tspan></text>\n",
       "\t</g>\n",
       "</g>\n",
       "<g fill=\"none\" color=\"black\" stroke=\"currentColor\" stroke-width=\"1.00\" stroke-linecap=\"butt\" stroke-linejoin=\"miter\">\n",
       "\t<path stroke='rgb(  0,   0, 255)'  d='M399.8,105.1 L453.2,105.1 M261.8,560.2 L332.5,447.9 L403.2,334.1 L473.9,225.5 L544.6,120.3  '/>\t<use xlink:href='#gpPt8' transform='translate(261.8,560.2) scale(3.15)' color='rgb(  0,   0, 255)'/>\n",
       "\t<use xlink:href='#gpPt8' transform='translate(332.5,447.9) scale(3.15)' color='rgb(  0,   0, 255)'/>\n",
       "\t<use xlink:href='#gpPt8' transform='translate(403.2,334.1) scale(3.15)' color='rgb(  0,   0, 255)'/>\n",
       "\t<use xlink:href='#gpPt8' transform='translate(473.9,225.5) scale(3.15)' color='rgb(  0,   0, 255)'/>\n",
       "\t<use xlink:href='#gpPt8' transform='translate(544.6,120.3) scale(3.15)' color='rgb(  0,   0, 255)'/>\n",
       "\t<use xlink:href='#gpPt8' transform='translate(426.5,105.1) scale(3.15)' color='rgb(  0,   0, 255)'/>\n",
       "</g>\n",
       "\t</g>\n",
       "\t<g id=\"gnuplot_plot_4\" ><title>AgglomerationThreshold0.3</title>\n",
       "<g fill=\"none\" color=\"black\" stroke=\"currentColor\" stroke-width=\"1.00\" stroke-linecap=\"butt\" stroke-linejoin=\"miter\">\n",
       "\t<g transform=\"translate(464.3,135.1)\" stroke=\"none\" fill=\"black\" font-family=\"Arial\" font-size=\"16.00\"  text-anchor=\"start\">\n",
       "\t\t<text><tspan font-family=\"Arial\" >AgglomerationThreshold0.3</tspan></text>\n",
       "\t</g>\n",
       "</g>\n",
       "<g fill=\"none\" color=\"black\" stroke=\"currentColor\" stroke-width=\"1.00\" stroke-linecap=\"butt\" stroke-linejoin=\"miter\">\n",
       "\t<path stroke='rgb(255,   0, 255)'  d='M399.8,129.1 L453.2,129.1 M261.8,558.9 L332.5,446.8 L403.2,333.9 L473.9,224.2 L544.6,115.0  '/>\t<use xlink:href='#gpPt7' transform='translate(261.8,558.9) scale(3.15)' color='rgb(255,   0, 255)'/>\n",
       "\t<use xlink:href='#gpPt7' transform='translate(332.5,446.8) scale(3.15)' color='rgb(255,   0, 255)'/>\n",
       "\t<use xlink:href='#gpPt7' transform='translate(403.2,333.9) scale(3.15)' color='rgb(255,   0, 255)'/>\n",
       "\t<use xlink:href='#gpPt7' transform='translate(473.9,224.2) scale(3.15)' color='rgb(255,   0, 255)'/>\n",
       "\t<use xlink:href='#gpPt7' transform='translate(544.6,115.0) scale(3.15)' color='rgb(255,   0, 255)'/>\n",
       "\t<use xlink:href='#gpPt7' transform='translate(426.5,129.1) scale(3.15)' color='rgb(255,   0, 255)'/>\n",
       "</g>\n",
       "\t</g>\n",
       "\t<g id=\"gnuplot_plot_5\" ><title>AgglomerationThreshold0.4</title>\n",
       "<g fill=\"none\" color=\"black\" stroke=\"currentColor\" stroke-width=\"1.00\" stroke-linecap=\"butt\" stroke-linejoin=\"miter\">\n",
       "\t<g transform=\"translate(464.3,159.1)\" stroke=\"none\" fill=\"black\" font-family=\"Arial\" font-size=\"16.00\"  text-anchor=\"start\">\n",
       "\t\t<text><tspan font-family=\"Arial\" >AgglomerationThreshold0.4</tspan></text>\n",
       "\t</g>\n",
       "</g>\n",
       "<g fill=\"none\" color=\"black\" stroke=\"currentColor\" stroke-width=\"1.00\" stroke-linecap=\"butt\" stroke-linejoin=\"miter\">\n",
       "\t<path stroke='rgb(255, 255,   0)'  d='M399.8,153.1 L453.2,153.1 M261.8,557.5 L332.5,446.8 L403.2,330.5 L473.9,221.9 L544.6,115.0  '/>\t<use xlink:href='#gpPt12' transform='translate(261.8,557.5) scale(3.15)' color='rgb(255, 255,   0)'/>\n",
       "\t<use xlink:href='#gpPt12' transform='translate(332.5,446.8) scale(3.15)' color='rgb(255, 255,   0)'/>\n",
       "\t<use xlink:href='#gpPt12' transform='translate(403.2,330.5) scale(3.15)' color='rgb(255, 255,   0)'/>\n",
       "\t<use xlink:href='#gpPt12' transform='translate(473.9,221.9) scale(3.15)' color='rgb(255, 255,   0)'/>\n",
       "\t<use xlink:href='#gpPt12' transform='translate(544.6,115.0) scale(3.15)' color='rgb(255, 255,   0)'/>\n",
       "\t<use xlink:href='#gpPt12' transform='translate(426.5,153.1) scale(3.15)' color='rgb(255, 255,   0)'/>\n",
       "</g>\n",
       "\t</g>\n",
       "\t<g id=\"gnuplot_plot_6\" ><title>AgglomerationThreshold0.5</title>\n",
       "<g fill=\"none\" color=\"black\" stroke=\"currentColor\" stroke-width=\"1.00\" stroke-linecap=\"butt\" stroke-linejoin=\"miter\">\n",
       "\t<g transform=\"translate(464.3,183.1)\" stroke=\"none\" fill=\"black\" font-family=\"Arial\" font-size=\"16.00\"  text-anchor=\"start\">\n",
       "\t\t<text><tspan font-family=\"Arial\" >AgglomerationThreshold0.5</tspan></text>\n",
       "\t</g>\n",
       "</g>\n",
       "<g fill=\"none\" color=\"black\" stroke=\"currentColor\" stroke-width=\"1.00\" stroke-linecap=\"butt\" stroke-linejoin=\"miter\">\n",
       "\t<path stroke='rgb(  0,   0,   0)'  d='M399.8,177.1 L453.2,177.1 M261.8,555.6 L332.5,444.8 L403.2,330.5 L473.9,221.9 L544.6,104.0  '/>\t<use xlink:href='#gpPt4' transform='translate(261.8,555.6) scale(3.15)' color='rgb(  0,   0,   0)'/>\n",
       "\t<use xlink:href='#gpPt4' transform='translate(332.5,444.8) scale(3.15)' color='rgb(  0,   0,   0)'/>\n",
       "\t<use xlink:href='#gpPt4' transform='translate(403.2,330.5) scale(3.15)' color='rgb(  0,   0,   0)'/>\n",
       "\t<use xlink:href='#gpPt4' transform='translate(473.9,221.9) scale(3.15)' color='rgb(  0,   0,   0)'/>\n",
       "\t<use xlink:href='#gpPt4' transform='translate(544.6,104.0) scale(3.15)' color='rgb(  0,   0,   0)'/>\n",
       "\t<use xlink:href='#gpPt4' transform='translate(426.5,177.1) scale(3.15)' color='rgb(  0,   0,   0)'/>\n",
       "</g>\n",
       "\t</g>\n",
       "<g fill=\"none\" color=\"#FFFFFF\" stroke=\"rgb(  0,   0,   0)\" stroke-width=\"2.00\" stroke-linecap=\"butt\" stroke-linejoin=\"miter\">\n",
       "</g>\n",
       "<g fill=\"none\" color=\"black\" stroke=\"currentColor\" stroke-width=\"2.00\" stroke-linecap=\"butt\" stroke-linejoin=\"miter\">\n",
       "</g>\n",
       "<g fill=\"none\" color=\"black\" stroke=\"black\" stroke-width=\"1.00\" stroke-linecap=\"butt\" stroke-linejoin=\"miter\">\n",
       "</g>\n",
       "<g fill=\"none\" color=\"black\" stroke=\"currentColor\" stroke-width=\"1.00\" stroke-linecap=\"butt\" stroke-linejoin=\"miter\">\n",
       "\t<path stroke='black'  d='M45.6,36.1 L45.6,564.0 L750.1,564.0 L750.1,36.1 L45.6,36.1 Z  '/></g>\n",
       "<g fill=\"none\" color=\"black\" stroke=\"currentColor\" stroke-width=\"1.00\" stroke-linecap=\"butt\" stroke-linejoin=\"miter\">\n",
       "</g>\n",
       "</g>\n",
       "</svg>\n",
       "\n"
      ]
     },
     "metadata": {},
     "output_type": "display_data"
    }
   ],
   "source": [
    "var plot = Tab3.ToPlot(xVarName, yVarName,  \"AgglomerationThreshold\");\n",
    "plot.LogY = true;\n",
    "plot.LogX = true;\n",
    "        for (int i = 0; i < plot.dataGroups.Length; i++){\n",
    "            var dataGroup = plot.dataGroups[i];\n",
    "            dataGroup.Format.LineColor = allColors[i % allColors.Length];\n",
    "            dataGroup.Format.PointType = myPointTypes[i % myPointTypes.Length];\n",
    "        }   \n",
    "plot.PlotNow()"
   ]
  },
  {
   "cell_type": "code",
   "execution_count": 18,
   "metadata": {
    "dotnet_interactive": {
     "language": "csharp"
    },
    "polyglot_notebook": {
     "kernelName": "csharp"
    },
    "vscode": {
     "languageId": "polyglot-notebook"
    }
   },
   "outputs": [
    {
     "name": "stdout",
     "output_type": "stream",
     "text": [
      "Using gnuplot: C:\\Program Files (x86)\\FDY\\BoSSS\\bin\\native\\win\\gnuplot-gp510-20160418-win32-mingw\\gnuplot\\bin\\gnuplot.exe\r\n"
     ]
    }
   ],
   "source": [
    "plot.SaveToGIF(yVarName + \"_k\" + dgDegree + \"_2D.png\");\n",
    "plot.SavePgfplotsFile(yVarName + \"_k\" + dgDegree + \"_2D.tex\");"
   ]
  },
  {
   "cell_type": "code",
   "execution_count": 19,
   "metadata": {
    "dotnet_interactive": {
     "language": "csharp"
    },
    "polyglot_notebook": {
     "kernelName": "csharp"
    },
    "vscode": {
     "languageId": "polyglot-notebook"
    }
   },
   "outputs": [
    {
     "data": {
      "text/html": [
       "<table><thead><tr><th><i>index</i></th><th>value</th></tr></thead><tbody><tr><td>0</td><td>[AgglomerationThreshold0, 3.5023534797322076]</td></tr><tr><td>1</td><td>[AgglomerationThreshold0.1, 3.4754130694503527]</td></tr><tr><td>2</td><td>[AgglomerationThreshold0.2, 3.4676364016106356]</td></tr><tr><td>3</td><td>[AgglomerationThreshold0.3, 3.4936411336722397]</td></tr><tr><td>4</td><td>[AgglomerationThreshold0.4, 3.4926394801134615]</td></tr><tr><td>5</td><td>[AgglomerationThreshold0.5, 3.5432788714162613]</td></tr></tbody></table><style>\r\n",
       ".dni-code-hint {\r\n",
       "    font-style: italic;\r\n",
       "    overflow: hidden;\r\n",
       "    white-space: nowrap;\r\n",
       "}\r\n",
       ".dni-treeview {\r\n",
       "    white-space: nowrap;\r\n",
       "}\r\n",
       ".dni-treeview td {\r\n",
       "    vertical-align: top;\r\n",
       "    text-align: start;\r\n",
       "}\r\n",
       "details.dni-treeview {\r\n",
       "    padding-left: 1em;\r\n",
       "}\r\n",
       "table td {\r\n",
       "    text-align: start;\r\n",
       "}\r\n",
       "table tr { \r\n",
       "    vertical-align: top; \r\n",
       "    margin: 0em 0px;\r\n",
       "}\r\n",
       "table tr td pre \r\n",
       "{ \r\n",
       "    vertical-align: top !important; \r\n",
       "    margin: 0em 0px !important;\r\n",
       "} \r\n",
       "table th {\r\n",
       "    text-align: start;\r\n",
       "}\r\n",
       "</style>"
      ]
     },
     "metadata": {},
     "output_type": "display_data"
    }
   ],
   "source": [
    "plot.Regression()"
   ]
  },
  {
   "cell_type": "code",
   "execution_count": 20,
   "metadata": {
    "dotnet_interactive": {
     "language": "csharp"
    },
    "polyglot_notebook": {
     "kernelName": "csharp"
    },
    "vscode": {
     "languageId": "polyglot-notebook"
    }
   },
   "outputs": [
    {
     "name": "stdout",
     "output_type": "stream",
     "text": [
      "    AgglomerationThreshold DGdegree:Velocity* Grid:hMin            Grid:NoOfCells L2err_VelocityX        L2err_Pressure         \n",
      "0:  0                      3                  0.008333333333333304 57600          2.5655506274471643E-05 0.0031391056769672046  \n",
      "1:  0                      3                  0.016666666666666607 14400          2.0631089600080414E-06 0.00026644281314588096 \n",
      "2:  0                      3                  0.033333333333333215 3600           1.8258624311553208E-06 2.6058706885237963E-05 \n",
      "3:  0                      3                  0.06666666666666665  900            3.3407215314432733E-05 0.00026396784258492104 \n",
      "4:  0                      3                  0.1333333333333333   225            0.0008957590804721692  0.002594756288918595   \n",
      "5:  0.1                    3                  0.008333333333333304 57600          3.7789262208029935E-09 2.725275750869413E-07  \n",
      "6:  0.1                    3                  0.016666666666666607 14400          8.081629443681298E-08  2.9194838311027693E-06 \n",
      "7:  0.1                    3                  0.033333333333333215 3600           1.8313779012936093E-06 2.531453348530987E-05  \n",
      "8:  0.1                    3                  0.06666666666666665  900            3.2315509474402165E-05 0.00025008879551561593 \n",
      "9:  0.1                    3                  0.1333333333333333   225            0.0008110465842083533  0.0023308411206431736  \n",
      "10: 0.2                    3                  0.008333333333333304 57600          3.697938199644299E-09  2.5588808254847334E-07 \n",
      "11: 0.2                    3                  0.016666666666666607 14400          7.896710087435957E-08  2.7068758989274095E-06 \n",
      "12: 0.2                    3                  0.033333333333333215 3600           1.7246052555397867E-06 2.469520404428397E-05  \n",
      "13: 0.2                    3                  0.06666666666666665  900            3.287514459371734E-05  0.00023634367321583876 \n",
      "14: 0.2                    3                  0.1333333333333333   225            0.0007092207451328907  0.0018867707172140716  \n",
      "15: 0.3                    3                  0.008333333333333304 57600          4.0801030801596335E-09 2.4923627615002925E-07 \n",
      "16: 0.3                    3                  0.016666666666666607 14400          8.778488221260928E-08  2.6526267732766704E-06 \n",
      "17: 0.3                    3                  0.033333333333333215 3600           1.7484627649635748E-06 2.3941267780441145E-05 \n",
      "18: 0.3                    3                  0.06666666666666665  900            3.0120599015950435E-05 0.0002354362723440003  \n",
      "19: 0.3                    3                  0.1333333333333333   225            0.0007627826950242002  0.0018958932165174531  \n",
      "20: 0.4                    3                  0.008333333333333304 57600          4.5482850658530185E-09 2.506460091890163E-07  \n",
      "21: 0.4                    3                  0.016666666666666607 14400          8.778488221257817E-08  2.6526267732766704E-06 \n",
      "22: 0.4                    3                  0.033333333333333215 3600           2.0490047120509494E-06 2.3919972479935175E-05 \n",
      "23: 0.4                    3                  0.06666666666666665  900            3.31286474415245E-05   0.00022205682111802168 \n",
      "24: 0.4                    3                  0.1333333333333333   225            0.0007627826950242008  0.0018958932165174531  \n",
      "25: 0.5                    3                  0.008333333333333304 57600          5.216859594367646E-09  2.5425053894028194E-07 \n",
      "26: 0.5                    3                  0.016666666666666607 14400          1.0203526428053742E-07 2.6674997166305636E-06 \n",
      "27: 0.5                    3                  0.033333333333333215 3600           2.049004712050188E-06  2.3919972479935175E-05 \n",
      "28: 0.5                    3                  0.06666666666666665  900            3.312864744152261E-05  0.00022205682111802168 \n",
      "29: 0.5                    3                  0.1333333333333333   225            0.000999319830759518   0.00138487744615191    "
     ]
    }
   ],
   "source": [
    "string xVarName = \"Grid:hMin\";\n",
    "string yVarName = \"L2err_VelocityX\";\n",
    "int dgDegree = 3;\n",
    "\n",
    "// Filter rows depending on selection\n",
    "var Tab3 = Tab2.ExtractRows((iRow,RowEntries)=> \n",
    "                //Convert.ToDouble(RowEntries[\"AgglomerationThreshold\"]) == 0 &&\n",
    "                Convert.ToDouble(RowEntries[\"DGdegree:Velocity*\"]) == dgDegree\n",
    "            );\n",
    "\n",
    "// Sort in ascending order of AgglomerationThreshold\n",
    "System.Data.DataView view = Tab3.DefaultView;\n",
    "view.Sort = \"AgglomerationThreshold ASC\"; \n",
    "Tab3 = view.ToTable();\n",
    "\n",
    "Tab3.Print()"
   ]
  },
  {
   "cell_type": "code",
   "execution_count": 21,
   "metadata": {
    "dotnet_interactive": {
     "language": "csharp"
    },
    "polyglot_notebook": {
     "kernelName": "csharp"
    },
    "vscode": {
     "languageId": "polyglot-notebook"
    }
   },
   "outputs": [],
   "source": [
    "Plot2Ddata plot = new Plot2Ddata();"
   ]
  },
  {
   "cell_type": "code",
   "execution_count": 22,
   "metadata": {
    "dotnet_interactive": {
     "language": "csharp"
    },
    "polyglot_notebook": {
     "kernelName": "csharp"
    },
    "vscode": {
     "languageId": "polyglot-notebook"
    }
   },
   "outputs": [
    {
     "name": "stdout",
     "output_type": "stream",
     "text": [
      "Using gnuplot: C:\\Program Files (x86)\\FDY\\BoSSS\\bin\\native\\win\\gnuplot-gp510-20160418-win32-mingw\\gnuplot\\bin\\gnuplot.exe\n",
      "Note: In a Jupyter Worksheet, you must NOT have a trailing semicolon in order to see the plot on screen; otherwise, the output migth be surpressed.!\n"
     ]
    },
    {
     "data": {
      "text/html": [
       "<?xml version=\"1.0\" encoding=\"utf-8\"  standalone=\"no\"?>\n",
       "<!DOCTYPE svg PUBLIC \"-//W3C//DTD SVG 1.1//EN\"\n",
       " \"http://www.w3.org/Graphics/SVG/1.1/DTD/svg11.dtd\">\n",
       "<svg \n",
       " width=\"800\" height=\"600\"\n",
       " viewBox=\"0 0 800 600\"\n",
       " xmlns=\"http://www.w3.org/2000/svg\"\n",
       " xmlns:xlink=\"http://www.w3.org/1999/xlink\"\n",
       ">\n",
       "\n",
       "<title>Gnuplot</title>\n",
       "<desc>Produced by GNUPLOT 5.1 patchlevel 0 </desc>\n",
       "\n",
       "<g id=\"gnuplot_canvas\">\n",
       "\n",
       "<rect x=\"0\" y=\"0\" width=\"800\" height=\"600\" fill=\"#ffffff\"/>\n",
       "<defs>\n",
       "\n",
       "\t<circle id='gpDot' r='0.5' stroke-width='0.5'/>\n",
       "\t<path id='gpPt0' stroke-width='0.222' stroke='currentColor' d='M-1,0 h2 M0,-1 v2'/>\n",
       "\t<path id='gpPt1' stroke-width='0.222' stroke='currentColor' d='M-1,-1 L1,1 M1,-1 L-1,1'/>\n",
       "\t<path id='gpPt2' stroke-width='0.222' stroke='currentColor' d='M-1,0 L1,0 M0,-1 L0,1 M-1,-1 L1,1 M-1,1 L1,-1'/>\n",
       "\t<rect id='gpPt3' stroke-width='0.222' stroke='currentColor' x='-1' y='-1' width='2' height='2'/>\n",
       "\t<rect id='gpPt4' stroke-width='0.222' stroke='currentColor' fill='currentColor' x='-1' y='-1' width='2' height='2'/>\n",
       "\t<circle id='gpPt5' stroke-width='0.222' stroke='currentColor' cx='0' cy='0' r='1'/>\n",
       "\t<use xlink:href='#gpPt5' id='gpPt6' fill='currentColor' stroke='none'/>\n",
       "\t<path id='gpPt7' stroke-width='0.222' stroke='currentColor' d='M0,-1.33 L-1.33,0.67 L1.33,0.67 z'/>\n",
       "\t<use xlink:href='#gpPt7' id='gpPt8' fill='currentColor' stroke='none'/>\n",
       "\t<use xlink:href='#gpPt7' id='gpPt9' stroke='currentColor' transform='rotate(180)'/>\n",
       "\t<use xlink:href='#gpPt9' id='gpPt10' fill='currentColor' stroke='none'/>\n",
       "\t<use xlink:href='#gpPt3' id='gpPt11' stroke='currentColor' transform='rotate(45)'/>\n",
       "\t<use xlink:href='#gpPt11' id='gpPt12' fill='currentColor' stroke='none'/>\n",
       "\t<path id='gpPt13' stroke-width='0.222' stroke='currentColor' d='M0,1.330 L1.265,0.411 L0.782,-1.067 L-0.782,-1.076 L-1.265,0.411 z'/>\n",
       "\t<use xlink:href='#gpPt13' id='gpPt14' fill='currentColor' stroke='none'/>\n",
       "\t<filter id='textbox' filterUnits='objectBoundingBox' x='0' y='0' height='1' width='1'>\n",
       "\t  <feFlood flood-color='#FFFFFF' flood-opacity='1' result='bgnd'/>\n",
       "\t  <feComposite in='SourceGraphic' in2='bgnd' operator='atop'/>\n",
       "\t</filter>\n",
       "\t<filter id='greybox' filterUnits='objectBoundingBox' x='0' y='0' height='1' width='1'>\n",
       "\t  <feFlood flood-color='lightgrey' flood-opacity='1' result='grey'/>\n",
       "\t  <feComposite in='SourceGraphic' in2='grey' operator='atop'/>\n",
       "\t</filter>\n",
       "</defs>\n",
       "<g fill=\"none\" color=\"#FFFFFF\" stroke=\"currentColor\" stroke-width=\"1.00\" stroke-linecap=\"butt\" stroke-linejoin=\"miter\">\n",
       "</g>\n",
       "<g fill=\"none\" color=\"black\" stroke=\"currentColor\" stroke-width=\"1.00\" stroke-linecap=\"butt\" stroke-linejoin=\"miter\">\n",
       "\t<path stroke='black'  d='M45.6,564.0 L54.6,564.0 M750.1,564.0 L741.1,564.0  '/>\t<g transform=\"translate(37.3,570.0)\" stroke=\"none\" fill=\"black\" font-family=\"sans\" font-size=\"16.00\"  text-anchor=\"end\">\n",
       "\t\t<text><tspan font-family=\"sans\" >10</tspan><tspan font-family=\"sans\"  font-size=\"12.8\" dy=\"-8.00px\">-9</tspan><tspan font-size=\"16.0\" dy=\"8.00\"></tspan></text>\n",
       "\t</g>\n",
       "</g>\n",
       "<g fill=\"none\" color=\"black\" stroke=\"currentColor\" stroke-width=\"1.00\" stroke-linecap=\"butt\" stroke-linejoin=\"miter\">\n",
       "\t<path stroke='black'  d='M45.6,537.5 L50.1,537.5 M750.1,537.5 L745.6,537.5 M45.6,502.5 L50.1,502.5 M750.1,502.5 L745.6,502.5\n",
       "\t\tM45.6,484.5 L50.1,484.5 M750.1,484.5 L745.6,484.5 M45.6,476.0 L54.6,476.0 M750.1,476.0 L741.1,476.0\n",
       "\t\t '/>\t<g transform=\"translate(37.3,482.0)\" stroke=\"none\" fill=\"black\" font-family=\"sans\" font-size=\"16.00\"  text-anchor=\"end\">\n",
       "\t\t<text><tspan font-family=\"sans\" >10</tspan><tspan font-family=\"sans\"  font-size=\"12.8\" dy=\"-8.00px\">-8</tspan><tspan font-size=\"16.0\" dy=\"8.00\"></tspan></text>\n",
       "\t</g>\n",
       "</g>\n",
       "<g fill=\"none\" color=\"black\" stroke=\"currentColor\" stroke-width=\"1.00\" stroke-linecap=\"butt\" stroke-linejoin=\"miter\">\n",
       "\t<path stroke='black'  d='M45.6,449.5 L50.1,449.5 M750.1,449.5 L745.6,449.5 M45.6,414.5 L50.1,414.5 M750.1,414.5 L745.6,414.5\n",
       "\t\tM45.6,396.6 L50.1,396.6 M750.1,396.6 L745.6,396.6 M45.6,388.0 L54.6,388.0 M750.1,388.0 L741.1,388.0\n",
       "\t\t '/>\t<g transform=\"translate(37.3,394.0)\" stroke=\"none\" fill=\"black\" font-family=\"sans\" font-size=\"16.00\"  text-anchor=\"end\">\n",
       "\t\t<text><tspan font-family=\"sans\" >10</tspan><tspan font-family=\"sans\"  font-size=\"12.8\" dy=\"-8.00px\">-7</tspan><tspan font-size=\"16.0\" dy=\"8.00\"></tspan></text>\n",
       "\t</g>\n",
       "</g>\n",
       "<g fill=\"none\" color=\"black\" stroke=\"currentColor\" stroke-width=\"1.00\" stroke-linecap=\"butt\" stroke-linejoin=\"miter\">\n",
       "\t<path stroke='black'  d='M45.6,361.5 L50.1,361.5 M750.1,361.5 L745.6,361.5 M45.6,326.5 L50.1,326.5 M750.1,326.5 L745.6,326.5\n",
       "\t\tM45.6,308.6 L50.1,308.6 M750.1,308.6 L745.6,308.6 M45.6,300.0 L54.6,300.0 M750.1,300.0 L741.1,300.0\n",
       "\t\t '/>\t<g transform=\"translate(37.3,306.0)\" stroke=\"none\" fill=\"black\" font-family=\"sans\" font-size=\"16.00\"  text-anchor=\"end\">\n",
       "\t\t<text><tspan font-family=\"sans\" >10</tspan><tspan font-family=\"sans\"  font-size=\"12.8\" dy=\"-8.00px\">-6</tspan><tspan font-size=\"16.0\" dy=\"8.00\"></tspan></text>\n",
       "\t</g>\n",
       "</g>\n",
       "<g fill=\"none\" color=\"black\" stroke=\"currentColor\" stroke-width=\"1.00\" stroke-linecap=\"butt\" stroke-linejoin=\"miter\">\n",
       "\t<path stroke='black'  d='M45.6,273.6 L50.1,273.6 M750.1,273.6 L745.6,273.6 M45.6,238.6 L50.1,238.6 M750.1,238.6 L745.6,238.6\n",
       "\t\tM45.6,220.6 L50.1,220.6 M750.1,220.6 L745.6,220.6 M45.6,212.1 L54.6,212.1 M750.1,212.1 L741.1,212.1\n",
       "\t\t '/>\t<g transform=\"translate(37.3,218.1)\" stroke=\"none\" fill=\"black\" font-family=\"sans\" font-size=\"16.00\"  text-anchor=\"end\">\n",
       "\t\t<text><tspan font-family=\"sans\" >10</tspan><tspan font-family=\"sans\"  font-size=\"12.8\" dy=\"-8.00px\">-5</tspan><tspan font-size=\"16.0\" dy=\"8.00\"></tspan></text>\n",
       "\t</g>\n",
       "</g>\n",
       "<g fill=\"none\" color=\"black\" stroke=\"currentColor\" stroke-width=\"1.00\" stroke-linecap=\"butt\" stroke-linejoin=\"miter\">\n",
       "\t<path stroke='black'  d='M45.6,185.6 L50.1,185.6 M750.1,185.6 L745.6,185.6 M45.6,150.6 L50.1,150.6 M750.1,150.6 L745.6,150.6\n",
       "\t\tM45.6,132.6 L50.1,132.6 M750.1,132.6 L745.6,132.6 M45.6,124.1 L54.6,124.1 M750.1,124.1 L741.1,124.1\n",
       "\t\t '/>\t<g transform=\"translate(37.3,130.1)\" stroke=\"none\" fill=\"black\" font-family=\"sans\" font-size=\"16.00\"  text-anchor=\"end\">\n",
       "\t\t<text><tspan font-family=\"sans\" >10</tspan><tspan font-family=\"sans\"  font-size=\"12.8\" dy=\"-8.00px\">-4</tspan><tspan font-size=\"16.0\" dy=\"8.00\"></tspan></text>\n",
       "\t</g>\n",
       "</g>\n",
       "<g fill=\"none\" color=\"black\" stroke=\"currentColor\" stroke-width=\"1.00\" stroke-linecap=\"butt\" stroke-linejoin=\"miter\">\n",
       "\t<path stroke='black'  d='M45.6,97.6 L50.1,97.6 M750.1,97.6 L745.6,97.6 M45.6,62.6 L50.1,62.6 M750.1,62.6 L745.6,62.6\n",
       "\t\tM45.6,44.6 L50.1,44.6 M750.1,44.6 L745.6,44.6 M45.6,36.1 L54.6,36.1 M750.1,36.1 L741.1,36.1\n",
       "\t\t '/>\t<g transform=\"translate(37.3,42.1)\" stroke=\"none\" fill=\"black\" font-family=\"sans\" font-size=\"16.00\"  text-anchor=\"end\">\n",
       "\t\t<text><tspan font-family=\"sans\" >10</tspan><tspan font-family=\"sans\"  font-size=\"12.8\" dy=\"-8.00px\">-3</tspan><tspan font-size=\"16.0\" dy=\"8.00\"></tspan></text>\n",
       "\t</g>\n",
       "</g>\n",
       "<g fill=\"none\" color=\"black\" stroke=\"currentColor\" stroke-width=\"1.00\" stroke-linecap=\"butt\" stroke-linejoin=\"miter\">\n",
       "\t<path stroke='black'  d='M45.6,564.0 L45.6,555.0 M45.6,36.1 L45.6,45.1  '/>\t<g transform=\"translate(45.6,595.2)\" stroke=\"none\" fill=\"black\" font-family=\"sans\" font-size=\"16.00\"  text-anchor=\"middle\">\n",
       "\t\t<text><tspan font-family=\"sans\" >10</tspan><tspan font-family=\"sans\"  font-size=\"12.8\" dy=\"-8.00px\">-3</tspan><tspan font-size=\"16.0\" dy=\"8.00\"></tspan></text>\n",
       "\t</g>\n",
       "</g>\n",
       "<g fill=\"none\" color=\"black\" stroke=\"currentColor\" stroke-width=\"1.00\" stroke-linecap=\"butt\" stroke-linejoin=\"miter\">\n",
       "\t<path stroke='black'  d='M116.3,564.0 L116.3,559.5 M116.3,36.1 L116.3,40.6 M157.6,564.0 L157.6,559.5 M157.6,36.1 L157.6,40.6\n",
       "\t\tM187.0,564.0 L187.0,559.5 M187.0,36.1 L187.0,40.6 M209.7,564.0 L209.7,559.5 M209.7,36.1 L209.7,40.6\n",
       "\t\tM228.3,564.0 L228.3,559.5 M228.3,36.1 L228.3,40.6 M244.1,564.0 L244.1,559.5 M244.1,36.1 L244.1,40.6\n",
       "\t\tM257.7,564.0 L257.7,559.5 M257.7,36.1 L257.7,40.6 M269.7,564.0 L269.7,559.5 M269.7,36.1 L269.7,40.6\n",
       "\t\tM280.4,564.0 L280.4,555.0 M280.4,36.1 L280.4,45.1  '/>\t<g transform=\"translate(280.4,595.2)\" stroke=\"none\" fill=\"black\" font-family=\"sans\" font-size=\"16.00\"  text-anchor=\"middle\">\n",
       "\t\t<text><tspan font-family=\"sans\" >10</tspan><tspan font-family=\"sans\"  font-size=\"12.8\" dy=\"-8.00px\">-2</tspan><tspan font-size=\"16.0\" dy=\"8.00\"></tspan></text>\n",
       "\t</g>\n",
       "</g>\n",
       "<g fill=\"none\" color=\"black\" stroke=\"currentColor\" stroke-width=\"1.00\" stroke-linecap=\"butt\" stroke-linejoin=\"miter\">\n",
       "\t<path stroke='black'  d='M351.1,564.0 L351.1,559.5 M351.1,36.1 L351.1,40.6 M392.5,564.0 L392.5,559.5 M392.5,36.1 L392.5,40.6\n",
       "\t\tM421.8,564.0 L421.8,559.5 M421.8,36.1 L421.8,40.6 M444.6,564.0 L444.6,559.5 M444.6,36.1 L444.6,40.6\n",
       "\t\tM463.2,564.0 L463.2,559.5 M463.2,36.1 L463.2,40.6 M478.9,564.0 L478.9,559.5 M478.9,36.1 L478.9,40.6\n",
       "\t\tM492.5,564.0 L492.5,559.5 M492.5,36.1 L492.5,40.6 M504.5,564.0 L504.5,559.5 M504.5,36.1 L504.5,40.6\n",
       "\t\tM515.3,564.0 L515.3,555.0 M515.3,36.1 L515.3,45.1  '/>\t<g transform=\"translate(515.3,595.2)\" stroke=\"none\" fill=\"black\" font-family=\"sans\" font-size=\"16.00\"  text-anchor=\"middle\">\n",
       "\t\t<text><tspan font-family=\"sans\" >10</tspan><tspan font-family=\"sans\"  font-size=\"12.8\" dy=\"-8.00px\">-1</tspan><tspan font-size=\"16.0\" dy=\"8.00\"></tspan></text>\n",
       "\t</g>\n",
       "</g>\n",
       "<g fill=\"none\" color=\"black\" stroke=\"currentColor\" stroke-width=\"1.00\" stroke-linecap=\"butt\" stroke-linejoin=\"miter\">\n",
       "\t<path stroke='black'  d='M586.0,564.0 L586.0,559.5 M586.0,36.1 L586.0,40.6 M627.3,564.0 L627.3,559.5 M627.3,36.1 L627.3,40.6\n",
       "\t\tM656.7,564.0 L656.7,559.5 M656.7,36.1 L656.7,40.6 M679.4,564.0 L679.4,559.5 M679.4,36.1 L679.4,40.6\n",
       "\t\tM698.0,564.0 L698.0,559.5 M698.0,36.1 L698.0,40.6 M713.7,564.0 L713.7,559.5 M713.7,36.1 L713.7,40.6\n",
       "\t\tM727.3,564.0 L727.3,559.5 M727.3,36.1 L727.3,40.6 M739.4,564.0 L739.4,559.5 M739.4,36.1 L739.4,40.6\n",
       "\t\tM750.1,564.0 L750.1,555.0 M750.1,36.1 L750.1,45.1  '/>\t<g transform=\"translate(750.1,595.2)\" stroke=\"none\" fill=\"black\" font-family=\"sans\" font-size=\"16.00\"  text-anchor=\"middle\">\n",
       "\t\t<text><tspan font-family=\"sans\" >10</tspan><tspan font-family=\"sans\"  font-size=\"12.8\" dy=\"-8.00px\">0</tspan><tspan font-size=\"16.0\" dy=\"8.00\"></tspan></text>\n",
       "\t</g>\n",
       "</g>\n",
       "<g fill=\"none\" color=\"black\" stroke=\"currentColor\" stroke-width=\"1.00\" stroke-linecap=\"butt\" stroke-linejoin=\"miter\">\n",
       "\t<path stroke='black'  d='M750.1,564.0 L741.1,564.0  '/>\t<g transform=\"translate(758.4,568.5)\" stroke=\"none\" fill=\"black\" font-family=\"Arial\" font-size=\"12.00\"  text-anchor=\"start\">\n",
       "\t\t<text><tspan font-family=\"Arial\" > </tspan></text>\n",
       "\t</g>\n",
       "</g>\n",
       "<g fill=\"none\" color=\"black\" stroke=\"currentColor\" stroke-width=\"1.00\" stroke-linecap=\"butt\" stroke-linejoin=\"miter\">\n",
       "\t<path stroke='black'  d='M750.1,476.0 L741.1,476.0  '/>\t<g transform=\"translate(758.4,480.5)\" stroke=\"none\" fill=\"black\" font-family=\"Arial\" font-size=\"12.00\"  text-anchor=\"start\">\n",
       "\t\t<text><tspan font-family=\"Arial\" > </tspan></text>\n",
       "\t</g>\n",
       "</g>\n",
       "<g fill=\"none\" color=\"black\" stroke=\"currentColor\" stroke-width=\"1.00\" stroke-linecap=\"butt\" stroke-linejoin=\"miter\">\n",
       "\t<path stroke='black'  d='M750.1,388.0 L741.1,388.0  '/>\t<g transform=\"translate(758.4,392.5)\" stroke=\"none\" fill=\"black\" font-family=\"Arial\" font-size=\"12.00\"  text-anchor=\"start\">\n",
       "\t\t<text><tspan font-family=\"Arial\" > </tspan></text>\n",
       "\t</g>\n",
       "</g>\n",
       "<g fill=\"none\" color=\"black\" stroke=\"currentColor\" stroke-width=\"1.00\" stroke-linecap=\"butt\" stroke-linejoin=\"miter\">\n",
       "\t<path stroke='black'  d='M750.1,300.0 L741.1,300.0  '/>\t<g transform=\"translate(758.4,304.5)\" stroke=\"none\" fill=\"black\" font-family=\"Arial\" font-size=\"12.00\"  text-anchor=\"start\">\n",
       "\t\t<text><tspan font-family=\"Arial\" > </tspan></text>\n",
       "\t</g>\n",
       "</g>\n",
       "<g fill=\"none\" color=\"black\" stroke=\"currentColor\" stroke-width=\"1.00\" stroke-linecap=\"butt\" stroke-linejoin=\"miter\">\n",
       "\t<path stroke='black'  d='M750.1,212.1 L741.1,212.1  '/>\t<g transform=\"translate(758.4,216.6)\" stroke=\"none\" fill=\"black\" font-family=\"Arial\" font-size=\"12.00\"  text-anchor=\"start\">\n",
       "\t\t<text><tspan font-family=\"Arial\" > </tspan></text>\n",
       "\t</g>\n",
       "</g>\n",
       "<g fill=\"none\" color=\"black\" stroke=\"currentColor\" stroke-width=\"1.00\" stroke-linecap=\"butt\" stroke-linejoin=\"miter\">\n",
       "\t<path stroke='black'  d='M750.1,124.1 L741.1,124.1  '/>\t<g transform=\"translate(758.4,128.6)\" stroke=\"none\" fill=\"black\" font-family=\"Arial\" font-size=\"12.00\"  text-anchor=\"start\">\n",
       "\t\t<text><tspan font-family=\"Arial\" > </tspan></text>\n",
       "\t</g>\n",
       "</g>\n",
       "<g fill=\"none\" color=\"black\" stroke=\"currentColor\" stroke-width=\"1.00\" stroke-linecap=\"butt\" stroke-linejoin=\"miter\">\n",
       "\t<path stroke='black'  d='M750.1,36.1 L741.1,36.1  '/>\t<g transform=\"translate(758.4,40.6)\" stroke=\"none\" fill=\"black\" font-family=\"Arial\" font-size=\"12.00\"  text-anchor=\"start\">\n",
       "\t\t<text><tspan font-family=\"Arial\" > </tspan></text>\n",
       "\t</g>\n",
       "</g>\n",
       "<g fill=\"none\" color=\"black\" stroke=\"currentColor\" stroke-width=\"1.00\" stroke-linecap=\"butt\" stroke-linejoin=\"miter\">\n",
       "\t<path stroke='black'  d='M45.6,36.1 L45.6,45.1  '/>\t<g transform=\"translate(45.6,22.6)\" stroke=\"none\" fill=\"black\" font-family=\"Arial\" font-size=\"12.00\"  text-anchor=\"middle\">\n",
       "\t\t<text><tspan font-family=\"Arial\" > </tspan></text>\n",
       "\t</g>\n",
       "</g>\n",
       "<g fill=\"none\" color=\"black\" stroke=\"currentColor\" stroke-width=\"1.00\" stroke-linecap=\"butt\" stroke-linejoin=\"miter\">\n",
       "\t<path stroke='black'  d='M146.2,36.1 L146.2,45.1  '/>\t<g transform=\"translate(146.2,22.6)\" stroke=\"none\" fill=\"black\" font-family=\"Arial\" font-size=\"12.00\"  text-anchor=\"middle\">\n",
       "\t\t<text><tspan font-family=\"Arial\" > </tspan></text>\n",
       "\t</g>\n",
       "</g>\n",
       "<g fill=\"none\" color=\"black\" stroke=\"currentColor\" stroke-width=\"1.00\" stroke-linecap=\"butt\" stroke-linejoin=\"miter\">\n",
       "\t<path stroke='black'  d='M246.9,36.1 L246.9,45.1  '/>\t<g transform=\"translate(246.9,22.6)\" stroke=\"none\" fill=\"black\" font-family=\"Arial\" font-size=\"12.00\"  text-anchor=\"middle\">\n",
       "\t\t<text><tspan font-family=\"Arial\" > </tspan></text>\n",
       "\t</g>\n",
       "</g>\n",
       "<g fill=\"none\" color=\"black\" stroke=\"currentColor\" stroke-width=\"1.00\" stroke-linecap=\"butt\" stroke-linejoin=\"miter\">\n",
       "\t<path stroke='black'  d='M347.5,36.1 L347.5,45.1  '/>\t<g transform=\"translate(347.5,22.6)\" stroke=\"none\" fill=\"black\" font-family=\"Arial\" font-size=\"12.00\"  text-anchor=\"middle\">\n",
       "\t\t<text><tspan font-family=\"Arial\" > </tspan></text>\n",
       "\t</g>\n",
       "</g>\n",
       "<g fill=\"none\" color=\"black\" stroke=\"currentColor\" stroke-width=\"1.00\" stroke-linecap=\"butt\" stroke-linejoin=\"miter\">\n",
       "\t<path stroke='black'  d='M448.2,36.1 L448.2,45.1  '/>\t<g transform=\"translate(448.2,22.6)\" stroke=\"none\" fill=\"black\" font-family=\"Arial\" font-size=\"12.00\"  text-anchor=\"middle\">\n",
       "\t\t<text><tspan font-family=\"Arial\" > </tspan></text>\n",
       "\t</g>\n",
       "</g>\n",
       "<g fill=\"none\" color=\"black\" stroke=\"currentColor\" stroke-width=\"1.00\" stroke-linecap=\"butt\" stroke-linejoin=\"miter\">\n",
       "\t<path stroke='black'  d='M548.8,36.1 L548.8,45.1  '/>\t<g transform=\"translate(548.8,22.6)\" stroke=\"none\" fill=\"black\" font-family=\"Arial\" font-size=\"12.00\"  text-anchor=\"middle\">\n",
       "\t\t<text><tspan font-family=\"Arial\" > </tspan></text>\n",
       "\t</g>\n",
       "</g>\n",
       "<g fill=\"none\" color=\"black\" stroke=\"currentColor\" stroke-width=\"1.00\" stroke-linecap=\"butt\" stroke-linejoin=\"miter\">\n",
       "\t<path stroke='black'  d='M649.5,36.1 L649.5,45.1  '/>\t<g transform=\"translate(649.5,22.6)\" stroke=\"none\" fill=\"black\" font-family=\"Arial\" font-size=\"12.00\"  text-anchor=\"middle\">\n",
       "\t\t<text><tspan font-family=\"Arial\" > </tspan></text>\n",
       "\t</g>\n",
       "</g>\n",
       "<g fill=\"none\" color=\"black\" stroke=\"currentColor\" stroke-width=\"1.00\" stroke-linecap=\"butt\" stroke-linejoin=\"miter\">\n",
       "\t<path stroke='black'  d='M750.1,36.1 L750.1,45.1  '/>\t<g transform=\"translate(750.1,22.6)\" stroke=\"none\" fill=\"black\" font-family=\"Arial\" font-size=\"12.00\"  text-anchor=\"middle\">\n",
       "\t\t<text><tspan font-family=\"Arial\" > </tspan></text>\n",
       "\t</g>\n",
       "</g>\n",
       "<g fill=\"none\" color=\"black\" stroke=\"currentColor\" stroke-width=\"1.00\" stroke-linecap=\"butt\" stroke-linejoin=\"miter\">\n",
       "</g>\n",
       "<g fill=\"none\" color=\"black\" stroke=\"currentColor\" stroke-width=\"1.00\" stroke-linecap=\"butt\" stroke-linejoin=\"miter\">\n",
       "\t<path stroke='black'  d='M45.6,36.1 L45.6,564.0 L750.1,564.0 L750.1,36.1 L45.6,36.1 Z  '/></g>\n",
       "<g fill=\"none\" color=\"black\" stroke=\"currentColor\" stroke-width=\"1.00\" stroke-linecap=\"butt\" stroke-linejoin=\"miter\">\n",
       "</g>\n",
       "\t<g id=\"gnuplot_plot_1\" ><title>AgglomerationThreshold0</title>\n",
       "<g fill=\"none\" color=\"black\" stroke=\"currentColor\" stroke-width=\"1.00\" stroke-linecap=\"butt\" stroke-linejoin=\"miter\">\n",
       "\t<g transform=\"translate(464.3,63.1)\" stroke=\"none\" fill=\"black\" font-family=\"Arial\" font-size=\"16.00\"  text-anchor=\"start\">\n",
       "\t\t<text><tspan font-family=\"Arial\" >AgglomerationThreshold0</tspan></text>\n",
       "\t</g>\n",
       "</g>\n",
       "<g fill=\"none\" color=\"black\" stroke=\"currentColor\" stroke-width=\"1.00\" stroke-linecap=\"butt\" stroke-linejoin=\"miter\">\n",
       "\t<path stroke='rgb(255,   0,   0)'  d='M399.8,57.1 L453.2,57.1 M261.8,176.1 L332.5,272.4 L403.2,277.0 L473.9,166.0 L544.6,40.3  '/>\t<use xlink:href='#gpPt12' transform='translate(261.8,176.1) scale(3.15)' color='rgb(255,   0,   0)'/>\n",
       "\t<use xlink:href='#gpPt12' transform='translate(332.5,272.4) scale(3.15)' color='rgb(255,   0,   0)'/>\n",
       "\t<use xlink:href='#gpPt12' transform='translate(403.2,277.0) scale(3.15)' color='rgb(255,   0,   0)'/>\n",
       "\t<use xlink:href='#gpPt12' transform='translate(473.9,166.0) scale(3.15)' color='rgb(255,   0,   0)'/>\n",
       "\t<use xlink:href='#gpPt12' transform='translate(544.6,40.3) scale(3.15)' color='rgb(255,   0,   0)'/>\n",
       "\t<use xlink:href='#gpPt12' transform='translate(426.5,57.1) scale(3.15)' color='rgb(255,   0,   0)'/>\n",
       "</g>\n",
       "\t</g>\n",
       "\t<g id=\"gnuplot_plot_2\" ><title>AgglomerationThreshold0.1</title>\n",
       "<g fill=\"none\" color=\"black\" stroke=\"currentColor\" stroke-width=\"1.00\" stroke-linecap=\"butt\" stroke-linejoin=\"miter\">\n",
       "\t<g transform=\"translate(464.3,87.1)\" stroke=\"none\" fill=\"black\" font-family=\"Arial\" font-size=\"16.00\"  text-anchor=\"start\">\n",
       "\t\t<text><tspan font-family=\"Arial\" >AgglomerationThreshold0.1</tspan></text>\n",
       "\t</g>\n",
       "</g>\n",
       "<g fill=\"none\" color=\"black\" stroke=\"currentColor\" stroke-width=\"1.00\" stroke-linecap=\"butt\" stroke-linejoin=\"miter\">\n",
       "\t<path stroke='rgb(  0, 255,   0)'  d='M399.8,81.1 L453.2,81.1 M261.8,513.2 L332.5,396.2 L403.2,276.9 L473.9,167.2 L544.6,44.1  '/>\t<use xlink:href='#gpPt4' transform='translate(261.8,513.2) scale(3.15)' color='rgb(  0, 255,   0)'/>\n",
       "\t<use xlink:href='#gpPt4' transform='translate(332.5,396.2) scale(3.15)' color='rgb(  0, 255,   0)'/>\n",
       "\t<use xlink:href='#gpPt4' transform='translate(403.2,276.9) scale(3.15)' color='rgb(  0, 255,   0)'/>\n",
       "\t<use xlink:href='#gpPt4' transform='translate(473.9,167.2) scale(3.15)' color='rgb(  0, 255,   0)'/>\n",
       "\t<use xlink:href='#gpPt4' transform='translate(544.6,44.1) scale(3.15)' color='rgb(  0, 255,   0)'/>\n",
       "\t<use xlink:href='#gpPt4' transform='translate(426.5,81.1) scale(3.15)' color='rgb(  0, 255,   0)'/>\n",
       "</g>\n",
       "\t</g>\n",
       "\t<g id=\"gnuplot_plot_3\" ><title>AgglomerationThreshold0.2</title>\n",
       "<g fill=\"none\" color=\"black\" stroke=\"currentColor\" stroke-width=\"1.00\" stroke-linecap=\"butt\" stroke-linejoin=\"miter\">\n",
       "\t<g transform=\"translate(464.3,111.1)\" stroke=\"none\" fill=\"black\" font-family=\"Arial\" font-size=\"16.00\"  text-anchor=\"start\">\n",
       "\t\t<text><tspan font-family=\"Arial\" >AgglomerationThreshold0.2</tspan></text>\n",
       "\t</g>\n",
       "</g>\n",
       "<g fill=\"none\" color=\"black\" stroke=\"currentColor\" stroke-width=\"1.00\" stroke-linecap=\"butt\" stroke-linejoin=\"miter\">\n",
       "\t<path stroke='rgb(  0,   0, 255)'  d='M399.8,105.1 L453.2,105.1 M261.8,514.0 L332.5,397.1 L403.2,279.2 L473.9,166.6 L544.6,49.2  '/>\t<use xlink:href='#gpPt8' transform='translate(261.8,514.0) scale(3.15)' color='rgb(  0,   0, 255)'/>\n",
       "\t<use xlink:href='#gpPt8' transform='translate(332.5,397.1) scale(3.15)' color='rgb(  0,   0, 255)'/>\n",
       "\t<use xlink:href='#gpPt8' transform='translate(403.2,279.2) scale(3.15)' color='rgb(  0,   0, 255)'/>\n",
       "\t<use xlink:href='#gpPt8' transform='translate(473.9,166.6) scale(3.15)' color='rgb(  0,   0, 255)'/>\n",
       "\t<use xlink:href='#gpPt8' transform='translate(544.6,49.2) scale(3.15)' color='rgb(  0,   0, 255)'/>\n",
       "\t<use xlink:href='#gpPt8' transform='translate(426.5,105.1) scale(3.15)' color='rgb(  0,   0, 255)'/>\n",
       "</g>\n",
       "\t</g>\n",
       "\t<g id=\"gnuplot_plot_4\" ><title>AgglomerationThreshold0.3</title>\n",
       "<g fill=\"none\" color=\"black\" stroke=\"currentColor\" stroke-width=\"1.00\" stroke-linecap=\"butt\" stroke-linejoin=\"miter\">\n",
       "\t<g transform=\"translate(464.3,135.1)\" stroke=\"none\" fill=\"black\" font-family=\"Arial\" font-size=\"16.00\"  text-anchor=\"start\">\n",
       "\t\t<text><tspan font-family=\"Arial\" >AgglomerationThreshold0.3</tspan></text>\n",
       "\t</g>\n",
       "</g>\n",
       "<g fill=\"none\" color=\"black\" stroke=\"currentColor\" stroke-width=\"1.00\" stroke-linecap=\"butt\" stroke-linejoin=\"miter\">\n",
       "\t<path stroke='rgb(255,   0, 255)'  d='M399.8,129.1 L453.2,129.1 M261.8,510.3 L332.5,393.0 L403.2,278.7 L473.9,169.9 L544.6,46.4  '/>\t<use xlink:href='#gpPt7' transform='translate(261.8,510.3) scale(3.15)' color='rgb(255,   0, 255)'/>\n",
       "\t<use xlink:href='#gpPt7' transform='translate(332.5,393.0) scale(3.15)' color='rgb(255,   0, 255)'/>\n",
       "\t<use xlink:href='#gpPt7' transform='translate(403.2,278.7) scale(3.15)' color='rgb(255,   0, 255)'/>\n",
       "\t<use xlink:href='#gpPt7' transform='translate(473.9,169.9) scale(3.15)' color='rgb(255,   0, 255)'/>\n",
       "\t<use xlink:href='#gpPt7' transform='translate(544.6,46.4) scale(3.15)' color='rgb(255,   0, 255)'/>\n",
       "\t<use xlink:href='#gpPt7' transform='translate(426.5,129.1) scale(3.15)' color='rgb(255,   0, 255)'/>\n",
       "</g>\n",
       "\t</g>\n",
       "\t<g id=\"gnuplot_plot_5\" ><title>AgglomerationThreshold0.4</title>\n",
       "<g fill=\"none\" color=\"black\" stroke=\"currentColor\" stroke-width=\"1.00\" stroke-linecap=\"butt\" stroke-linejoin=\"miter\">\n",
       "\t<g transform=\"translate(464.3,159.1)\" stroke=\"none\" fill=\"black\" font-family=\"Arial\" font-size=\"16.00\"  text-anchor=\"start\">\n",
       "\t\t<text><tspan font-family=\"Arial\" >AgglomerationThreshold0.4</tspan></text>\n",
       "\t</g>\n",
       "</g>\n",
       "<g fill=\"none\" color=\"black\" stroke=\"currentColor\" stroke-width=\"1.00\" stroke-linecap=\"butt\" stroke-linejoin=\"miter\">\n",
       "\t<path stroke='rgb(255, 255,   0)'  d='M399.8,153.1 L453.2,153.1 M261.8,506.1 L332.5,393.0 L403.2,272.6 L473.9,166.3 L544.6,46.4  '/>\t<use xlink:href='#gpPt12' transform='translate(261.8,506.1) scale(3.15)' color='rgb(255, 255,   0)'/>\n",
       "\t<use xlink:href='#gpPt12' transform='translate(332.5,393.0) scale(3.15)' color='rgb(255, 255,   0)'/>\n",
       "\t<use xlink:href='#gpPt12' transform='translate(403.2,272.6) scale(3.15)' color='rgb(255, 255,   0)'/>\n",
       "\t<use xlink:href='#gpPt12' transform='translate(473.9,166.3) scale(3.15)' color='rgb(255, 255,   0)'/>\n",
       "\t<use xlink:href='#gpPt12' transform='translate(544.6,46.4) scale(3.15)' color='rgb(255, 255,   0)'/>\n",
       "\t<use xlink:href='#gpPt12' transform='translate(426.5,153.1) scale(3.15)' color='rgb(255, 255,   0)'/>\n",
       "</g>\n",
       "\t</g>\n",
       "\t<g id=\"gnuplot_plot_6\" ><title>AgglomerationThreshold0.5</title>\n",
       "<g fill=\"none\" color=\"black\" stroke=\"currentColor\" stroke-width=\"1.00\" stroke-linecap=\"butt\" stroke-linejoin=\"miter\">\n",
       "\t<g transform=\"translate(464.3,183.1)\" stroke=\"none\" fill=\"black\" font-family=\"Arial\" font-size=\"16.00\"  text-anchor=\"start\">\n",
       "\t\t<text><tspan font-family=\"Arial\" >AgglomerationThreshold0.5</tspan></text>\n",
       "\t</g>\n",
       "</g>\n",
       "<g fill=\"none\" color=\"black\" stroke=\"currentColor\" stroke-width=\"1.00\" stroke-linecap=\"butt\" stroke-linejoin=\"miter\">\n",
       "\t<path stroke='rgb(  0,   0,   0)'  d='M399.8,177.1 L453.2,177.1 M261.8,500.9 L332.5,387.3 L403.2,272.6 L473.9,166.3 L544.6,36.1  '/>\t<use xlink:href='#gpPt4' transform='translate(261.8,500.9) scale(3.15)' color='rgb(  0,   0,   0)'/>\n",
       "\t<use xlink:href='#gpPt4' transform='translate(332.5,387.3) scale(3.15)' color='rgb(  0,   0,   0)'/>\n",
       "\t<use xlink:href='#gpPt4' transform='translate(403.2,272.6) scale(3.15)' color='rgb(  0,   0,   0)'/>\n",
       "\t<use xlink:href='#gpPt4' transform='translate(473.9,166.3) scale(3.15)' color='rgb(  0,   0,   0)'/>\n",
       "\t<use xlink:href='#gpPt4' transform='translate(544.6,36.1) scale(3.15)' color='rgb(  0,   0,   0)'/>\n",
       "\t<use xlink:href='#gpPt4' transform='translate(426.5,177.1) scale(3.15)' color='rgb(  0,   0,   0)'/>\n",
       "</g>\n",
       "\t</g>\n",
       "<g fill=\"none\" color=\"#FFFFFF\" stroke=\"rgb(  0,   0,   0)\" stroke-width=\"2.00\" stroke-linecap=\"butt\" stroke-linejoin=\"miter\">\n",
       "</g>\n",
       "<g fill=\"none\" color=\"black\" stroke=\"currentColor\" stroke-width=\"2.00\" stroke-linecap=\"butt\" stroke-linejoin=\"miter\">\n",
       "</g>\n",
       "<g fill=\"none\" color=\"black\" stroke=\"black\" stroke-width=\"1.00\" stroke-linecap=\"butt\" stroke-linejoin=\"miter\">\n",
       "</g>\n",
       "<g fill=\"none\" color=\"black\" stroke=\"currentColor\" stroke-width=\"1.00\" stroke-linecap=\"butt\" stroke-linejoin=\"miter\">\n",
       "\t<path stroke='black'  d='M45.6,36.1 L45.6,564.0 L750.1,564.0 L750.1,36.1 L45.6,36.1 Z  '/></g>\n",
       "<g fill=\"none\" color=\"black\" stroke=\"currentColor\" stroke-width=\"1.00\" stroke-linecap=\"butt\" stroke-linejoin=\"miter\">\n",
       "</g>\n",
       "</g>\n",
       "</svg>\n",
       "\n"
      ]
     },
     "metadata": {},
     "output_type": "display_data"
    }
   ],
   "source": [
    "var plot = Tab3.ToPlot(xVarName, yVarName,  \"AgglomerationThreshold\");\n",
    "plot.LogY = true;\n",
    "plot.LogX = true;\n",
    "        for (int i = 0; i < plot.dataGroups.Length; i++){\n",
    "            var dataGroup = plot.dataGroups[i];\n",
    "            dataGroup.Format.LineColor = allColors[i % allColors.Length];\n",
    "            dataGroup.Format.PointType = myPointTypes[i % myPointTypes.Length];\n",
    "        }   \n",
    "plot.PlotNow()"
   ]
  },
  {
   "cell_type": "code",
   "execution_count": 23,
   "metadata": {
    "dotnet_interactive": {
     "language": "csharp"
    },
    "polyglot_notebook": {
     "kernelName": "csharp"
    },
    "vscode": {
     "languageId": "polyglot-notebook"
    }
   },
   "outputs": [
    {
     "name": "stdout",
     "output_type": "stream",
     "text": [
      "Using gnuplot: C:\\Program Files (x86)\\FDY\\BoSSS\\bin\\native\\win\\gnuplot-gp510-20160418-win32-mingw\\gnuplot\\bin\\gnuplot.exe\r\n"
     ]
    }
   ],
   "source": [
    "plot.SaveToGIF(yVarName + \"_k\" + dgDegree + \"_2D.png\");\n",
    "plot.SavePgfplotsFile(yVarName + \"_k\" + dgDegree + \"_2D.tex\");"
   ]
  },
  {
   "cell_type": "code",
   "execution_count": 24,
   "metadata": {
    "dotnet_interactive": {
     "language": "csharp"
    },
    "polyglot_notebook": {
     "kernelName": "csharp"
    },
    "vscode": {
     "languageId": "polyglot-notebook"
    }
   },
   "outputs": [
    {
     "data": {
      "text/html": [
       "<table><thead><tr><th><i>index</i></th><th>value</th></tr></thead><tbody><tr><td>0</td><td>[AgglomerationThreshold0, 1.4268808534420538]</td></tr><tr><td>1</td><td>[AgglomerationThreshold0.1, 4.406626262571366]</td></tr><tr><td>2</td><td>[AgglomerationThreshold0.2, 4.379983799193531]</td></tr><tr><td>3</td><td>[AgglomerationThreshold0.3, 4.344717621235352]</td></tr><tr><td>4</td><td>[AgglomerationThreshold0.4, 4.327107089871076]</td></tr><tr><td>5</td><td>[AgglomerationThreshold0.5, 4.343767835284114]</td></tr></tbody></table><style>\r\n",
       ".dni-code-hint {\r\n",
       "    font-style: italic;\r\n",
       "    overflow: hidden;\r\n",
       "    white-space: nowrap;\r\n",
       "}\r\n",
       ".dni-treeview {\r\n",
       "    white-space: nowrap;\r\n",
       "}\r\n",
       ".dni-treeview td {\r\n",
       "    vertical-align: top;\r\n",
       "    text-align: start;\r\n",
       "}\r\n",
       "details.dni-treeview {\r\n",
       "    padding-left: 1em;\r\n",
       "}\r\n",
       "table td {\r\n",
       "    text-align: start;\r\n",
       "}\r\n",
       "table tr { \r\n",
       "    vertical-align: top; \r\n",
       "    margin: 0em 0px;\r\n",
       "}\r\n",
       "table tr td pre \r\n",
       "{ \r\n",
       "    vertical-align: top !important; \r\n",
       "    margin: 0em 0px !important;\r\n",
       "} \r\n",
       "table th {\r\n",
       "    text-align: start;\r\n",
       "}\r\n",
       "</style>"
      ]
     },
     "metadata": {},
     "output_type": "display_data"
    }
   ],
   "source": [
    "plot.Regression()"
   ]
  }
 ],
 "metadata": {
  "kernelspec": {
   "display_name": ".NET (C#)",
   "language": "C#",
   "name": ".net-csharp"
  },
  "language_info": {
   "name": "python"
  },
  "polyglot_notebook": {
   "kernelInfo": {
    "defaultKernelName": "csharp",
    "items": [
     {
      "aliases": [],
      "name": "csharp"
     }
    ]
   }
  }
 },
 "nbformat": 4,
 "nbformat_minor": 2
}

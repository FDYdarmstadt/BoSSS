{
 "cells": [
  {
   "cell_type": "markdown",
   "metadata": {},
   "source": [
    "# Rotating popcorn\n",
    "Initialize BoSSS"
   ]
  },
  {
   "cell_type": "code",
   "execution_count": 1,
   "metadata": {
    "dotnet_interactive": {
     "language": "csharp"
    },
    "polyglot_notebook": {
     "kernelName": "csharp"
    }
   },
   "outputs": [],
   "source": [
    "#r \"./../../../../../public/src/L4-application/BoSSSpad/bin/Release/net6.0/BoSSSpad.dll\"\n",
    "using System;\n",
    "using System.Threading;\n",
    "using System.Diagnostics;\n",
    "using ilPSP;\n",
    "using ilPSP.Utils;\n",
    "using BoSSS.Platform;\n",
    "using BoSSS.Foundation;\n",
    "using BoSSS.Foundation.XDG;\n",
    "using BoSSS.Foundation.Grid;\n",
    "using BoSSS.Solution;\n",
    "using BoSSS.Application.XNSE_Solver;\n",
    "using BoSSS.Application.BoSSSpad;\n",
    "using BoSSS.Foundation.Grid.Classic;\n",
    "using BoSSS.Foundation.IO;\n",
    "using BoSSS.Solution.AdvancedSolvers;\n",
    "using BoSSS.Solution.Control;\n",
    "using BoSSS.Solution.XNSECommon;\n",
    "using BoSSS.Solution.NSECommon;\n",
    "using BoSSS.Solution.LoadBalancing;\n",
    "using BoSSS.Solution.LevelSetTools;\n",
    "using BoSSS.Solution.XdgTimestepping;\n",
    "using BoSSS.Solution.Utils;\n",
    "using System.IO;\n",
    "\n",
    "using static BoSSS.Application.BoSSSpad.BoSSSshell;\n",
    "Init();"
   ]
  },
  {
   "cell_type": "code",
   "execution_count": 2,
   "metadata": {
    "dotnet_interactive": {
     "language": "csharp"
    }
   },
   "outputs": [],
   "source": [
    "// Is used at Jenkins to generate individual names (for output .json)\n",
    "string dbname = System.Environment.GetEnvironmentVariable(\"DATABASE_NAME\");\n",
    "string buildname = System.Environment.GetEnvironmentVariable(\"JOB_NAME\");\n",
    "//defaults\n",
    "buildname = String.IsNullOrEmpty(buildname)? \"Popcorn2D\" : buildname;\n",
    "dbname = String.IsNullOrEmpty(dbname)? \"convergenceAggStokesSteady\" : dbname;\n",
    "string table_name = String.Concat(buildname, \"_\", dbname);"
   ]
  },
  {
   "cell_type": "code",
   "execution_count": 3,
   "metadata": {
    "dotnet_interactive": {
     "language": "csharp"
    }
   },
   "outputs": [],
   "source": [
    "int SpaceDim = 2;\n",
    "double _partRad = 0.6;"
   ]
  },
  {
   "cell_type": "code",
   "execution_count": 4,
   "metadata": {
    "dotnet_interactive": {
     "language": "csharp"
    }
   },
   "outputs": [],
   "source": [
    "// set parameterz\n",
    "int[] PolyDegS = new int[] {1,2,3};\n",
    "int[] ResArray = new int[] {256};\n",
    "int[] core_sweep = { 1};"
   ]
  },
  {
   "cell_type": "code",
   "execution_count": 5,
   "metadata": {
    "dotnet_interactive": {
     "language": "csharp"
    }
   },
   "outputs": [],
   "source": [
    "int NoOfTimeSteps = 400;\n",
    "bool Steady = true;\n",
    "bool IncludeConvection = false;\n",
    "var Gshape = Shape.Popcorn;"
   ]
  },
  {
   "cell_type": "code",
   "execution_count": 6,
   "metadata": {
    "dotnet_interactive": {
     "language": "csharp"
    }
   },
   "outputs": [
    {
     "data": {
      "text/html": [
       "<table><thead><tr><th><i>index</i></th><th><i>type</i></th><th>value</th></tr></thead><tbody><tr><td>0</td><td>BoSSS.Application.BoSSSpad.SlurmClient</td><td>SlurmClient q0-Lichtenberg user storage : mt64qocy@lcluster18.hrz.tu-darmstadt.de, Slurm account: special00006</td></tr><tr><td>1</td><td>BoSSS.Application.BoSSSpad.SlurmClient</td><td>SlurmClient q1-Lichtenberg scratch : mt64qocy@lcluster14.hrz.tu-darmstadt.de, Slurm account: special00006</td></tr><tr><td>2</td><td>BoSSS.Application.BoSSSpad.MsHPC2012Client</td><td>MS HPC client  q2-BoSSS-Convergence @DC3, @\\\\dc3\\userspace\\toprak\\BoSSS-Convergence</td></tr><tr><td>3</td><td>BoSSS.Application.BoSSSpad.MsHPC2012Client</td><td>MS HPC client  q3-BoSSS-ConvergenceFinal @DC3, @\\\\dc3\\userspace\\toprak\\BoSSS-ConvergenceFinal</td></tr><tr><td>4</td><td>BoSSS.Application.BoSSSpad.MsHPC2012Client</td><td>MS HPC client  q4-BoSSS-ConditionFinal @DC3, @\\\\dc3\\userspace\\toprak\\BoSSS-ConditionFinal</td></tr><tr><td>5</td><td>BoSSS.Application.BoSSSpad.MsHPC2012Client</td><td>MS HPC client  q5-BoSSS-ConvSteadyFinal @DC3, @\\\\dc3\\userspace\\toprak\\BoSSS-ConvSteadyFinal</td></tr><tr><td>6</td><td>BoSSS.Application.BoSSSpad.MiniBatchProcessorClient</td><td>MiniBatchProcessor client  LocalPC @C:\\localBatch</td></tr></tbody></table><style>\r\n",
       ".dni-code-hint {\r\n",
       "    font-style: italic;\r\n",
       "    overflow: hidden;\r\n",
       "    white-space: nowrap;\r\n",
       "}\r\n",
       ".dni-treeview {\r\n",
       "    white-space: nowrap;\r\n",
       "}\r\n",
       ".dni-treeview td {\r\n",
       "    vertical-align: top;\r\n",
       "    text-align: start;\r\n",
       "}\r\n",
       "details.dni-treeview {\r\n",
       "    padding-left: 1em;\r\n",
       "}\r\n",
       "table td {\r\n",
       "    text-align: start;\r\n",
       "}\r\n",
       "table tr { \r\n",
       "    vertical-align: top; \r\n",
       "    margin: 0em 0px;\r\n",
       "}\r\n",
       "table tr td pre \r\n",
       "{ \r\n",
       "    vertical-align: top !important; \r\n",
       "    margin: 0em 0px !important;\r\n",
       "} \r\n",
       "table th {\r\n",
       "    text-align: start;\r\n",
       "}\r\n",
       "</style>"
      ]
     },
     "metadata": {},
     "output_type": "display_data"
    }
   ],
   "source": [
    "ExecutionQueues"
   ]
  },
  {
   "cell_type": "code",
   "execution_count": 7,
   "metadata": {
    "dotnet_interactive": {
     "language": "csharp"
    }
   },
   "outputs": [],
   "source": [
    "var myBatch = ExecutionQueues[5];"
   ]
  },
  {
   "cell_type": "code",
   "execution_count": 8,
   "metadata": {
    "dotnet_interactive": {
     "language": "csharp"
    }
   },
   "outputs": [
    {
     "data": {
      "text/plain": [
       "{ Session Count = 0; Grid Count = 0; Path = \\\\dc3\\userspace\\toprak\\BoSSS-ConvSteadyFinal\\Popcorn2D_convergenceAggStokesSteadyFinal }"
      ]
     },
     "metadata": {},
     "output_type": "display_data"
    }
   ],
   "source": [
    "string WFlowName = table_name;\n",
    "BoSSS.Application.BoSSSpad.BoSSSshell.WorkflowMgm.Init(WFlowName,myBatch);\n",
    "BoSSS.Application.BoSSSpad.BoSSSshell.WorkflowMgm.SetNameBasedSessionJobControlCorrelation();\n",
    "var myDB = BoSSS.Application.BoSSSpad.BoSSSshell.WorkflowMgm.DefaultDatabase; \n",
    "myDB"
   ]
  },
  {
   "cell_type": "markdown",
   "metadata": {},
   "source": [
    "using grid with"
   ]
  },
  {
   "cell_type": "code",
   "execution_count": 9,
   "metadata": {
    "dotnet_interactive": {
     "language": "csharp"
    }
   },
   "outputs": [],
   "source": [
    "double xMax = 1.0, yMax = 1.0, zMax = 1.0;\n",
    "double xMin = -1.0, yMin = -1.0,zMin = -1.0;"
   ]
  },
  {
   "cell_type": "code",
   "execution_count": 10,
   "metadata": {
    "dotnet_interactive": {
     "language": "csharp"
    },
    "polyglot_notebook": {
     "kernelName": "csharp"
    }
   },
   "outputs": [
    {
     "data": {
      "text/plain": [
       "#0: { Guid = d78a7227-680f-47a3-8ac0-284ae5f7ed38; Name = RotTorus2D_1BCs; Cell Count = 256; Dim = 2 }\r\n",
       "#1: { Guid = cffc325e-db0c-477c-b87e-3e5f415df669; Name = RotTorus2D_1BCs; Cell Count = 1024; Dim = 2 }\r\n",
       "#2: { Guid = 2f96ae74-8519-4613-814b-cf63a88ad2b1; Name = RotTorus2D_1BCs; Cell Count = 4096; Dim = 2 }\r\n",
       "#3: { Guid = 21fbc4c6-74c1-4ae2-95c6-b36d603e4051; Name = RotTorus2D_1BCs; Cell Count = 16384; Dim = 2 }\r\n"
      ]
     },
     "metadata": {},
     "output_type": "display_data"
    }
   ],
   "source": [
    "List<IGridInfo> Grids = new List<IGridInfo>();\n",
    "if (SpaceDim ==2){\n",
    "foreach(var Res in ResArray){\n",
    "\n",
    "    var _xNodes = GenericBlas.Linspace(xMin, xMax, Res + 1);\n",
    "    var _yNodes = GenericBlas.Linspace(yMin, yMax, Res + 1);\n",
    "\n",
    "    GridCommons grd;\n",
    "    string gname = \"RotTorus2D_1BCs\";\n",
    "\n",
    "    Console.WriteLine(\"Looking for {0} with {1} cells\",gname,(_xNodes.Length-1)*(_yNodes.Length-1));\n",
    "\n",
    "    var tmp = new List<IGridInfo>();\n",
    "\n",
    "    foreach(var grid in myDB.Grids){\n",
    "        try{\n",
    "            if (String.IsNullOrEmpty(grid.Name))\n",
    "                continue;\n",
    "                //grid.Name = \"Null\";\n",
    "            Console.WriteLine(\"Found {0} with {1} cells on the database\",grid.Name,grid.NumberOfCells);\n",
    "            bool IsMatch = grid.Name.Equals(gname)&&grid.NumberOfCells==(_xNodes.Length-1)*(_yNodes.Length-1);\n",
    "            if(IsMatch) tmp.Add(grid);\n",
    "        }\n",
    "        catch(Exception ex) {\n",
    "            Console.WriteLine(ex.Message);\n",
    "        }\n",
    "    }\n",
    "    Console.WriteLine(\"Found {0} times grids with the same configuration for the Res={1}\",tmp.Count,Res);\n",
    "    \n",
    "    if(tmp.Count() >= 1){\n",
    "        Console.WriteLine(\"Chosing the first one found: \"+tmp.Pick(0).Name);\n",
    "        Grids.Add(tmp.Pick(0));\n",
    "        continue;\n",
    "\n",
    "    }else{\n",
    "\n",
    "        grd = Grid2D.Cartesian2DGrid(_xNodes, _yNodes);    \n",
    "        grd.Name = gname;\n",
    "        grd.EdgeTagNames.Add(1, \"Pressure_Outlet\");\n",
    "        grd.DefineEdgeTags(delegate (double[] X) {\n",
    "            return 1;\n",
    "        });\n",
    "                \n",
    "    myDB.SaveGrid(ref grd);\n",
    "    Grids.Add(grd);\n",
    "    }\n",
    "    \n",
    "}\n",
    "Console.WriteLine(\"\\nThe grids to be simulated:\");\n",
    "}\n",
    "Grids\n"
   ]
  },
  {
   "cell_type": "code",
   "execution_count": 11,
   "metadata": {
    "dotnet_interactive": {
     "language": "csharp"
    },
    "polyglot_notebook": {
     "kernelName": "csharp"
    }
   },
   "outputs": [
    {
     "data": {
      "text/plain": [
       "#0: { Guid = d78a7227-680f-47a3-8ac0-284ae5f7ed38; Name = RotTorus2D_1BCs; Cell Count = 256; Dim = 2 }\r\n",
       "#1: { Guid = cffc325e-db0c-477c-b87e-3e5f415df669; Name = RotTorus2D_1BCs; Cell Count = 1024; Dim = 2 }\r\n",
       "#2: { Guid = 2f96ae74-8519-4613-814b-cf63a88ad2b1; Name = RotTorus2D_1BCs; Cell Count = 4096; Dim = 2 }\r\n",
       "#3: { Guid = 21fbc4c6-74c1-4ae2-95c6-b36d603e4051; Name = RotTorus2D_1BCs; Cell Count = 16384; Dim = 2 }\r\n"
      ]
     },
     "metadata": {},
     "output_type": "display_data"
    }
   ],
   "source": [
    "if (SpaceDim ==3){\n",
    "foreach(var Res in ResArray){\n",
    "\n",
    "    var _xNodes = GenericBlas.Linspace(xMin, xMax, Res + 1);\n",
    "    var _yNodes = GenericBlas.Linspace(yMin, yMax, Res + 1);\n",
    "    var _zNodes = GenericBlas.Linspace(zMin, zMax, Res + 1);\n",
    "\n",
    "    GridCommons grd;\n",
    "    string gname = \"RotPopcorn3D_1BCs\";\n",
    "\n",
    "    Console.WriteLine(\"Looking for {0} with {1} cells\",gname,(_xNodes.Length-1)*(_yNodes.Length-1)*(_zNodes.Length-1));\n",
    "\n",
    "    var tmp = new List<IGridInfo>();\n",
    "\n",
    "    foreach(var grid in myDB.Grids){\n",
    "        try{\n",
    "            if (String.IsNullOrEmpty(grid.Name))\n",
    "                continue;\n",
    "                //grid.Name = \"Null\";\n",
    "            Console.WriteLine(\"Found {0} with {1} cells on the database\",grid.Name,grid.NumberOfCells);\n",
    "            bool IsMatch = grid.Name.Equals(gname)&&grid.NumberOfCells==(_xNodes.Length-1)*(_yNodes.Length-1)*(_zNodes.Length-1);\n",
    "            if(IsMatch) tmp.Add(grid);\n",
    "        }\n",
    "        catch(Exception ex) {\n",
    "            Console.WriteLine(ex.Message);\n",
    "        }\n",
    "    }\n",
    "    Console.WriteLine(\"Found {0} times grids with the same configuration for the Res={1}\",tmp.Count,Res);\n",
    "    \n",
    "    if(tmp.Count() >= 1){\n",
    "        Console.WriteLine(\"Chosing the first one found: \"+tmp.Pick(0).Name);\n",
    "        Grids.Add(tmp.Pick(0));\n",
    "        //IGridInfo firstPick = Grids.ToArray()[0];\n",
    "        //var ImportedGrid = myDB.Controller.DBDriver.LoadGrid(firstPick.ID,myDB);\n",
    "        //grd = (GridCommons)ImportedGrid;EdgeTagName \n",
    "        //Console.WriteLine(\"Chosen Grid:{0}\",ImportedGrid.ToString());\n",
    "        continue;\n",
    "\n",
    "    }else{\n",
    "\n",
    "        grd = Grid3D.Cartesian3DGrid(_xNodes, _yNodes,_zNodes);   \n",
    "        grd.Name = gname;\n",
    "\n",
    "        grd.EdgeTagNames.Add(1, \"Pressure_Outlet\");\n",
    "        grd.DefineEdgeTags(delegate (double[] X) {\n",
    "            return 1;\n",
    "        });\n",
    "                \n",
    "    myDB.SaveGrid(ref grd);\n",
    "    Grids.Add(grd);\n",
    "    }\n",
    "    \n",
    "}\n",
    "Console.WriteLine(\"\\nThe grids to be simulated:\");\n",
    "}\n",
    "Grids\n"
   ]
  },
  {
   "cell_type": "markdown",
   "metadata": {},
   "source": [
    "## Generate Control object\n",
    "\n",
    "### governing equations\n",
    "- incompressible transient Navier-Stokes:\n",
    "<br>$\\frac{\\partial \\rho \\vec{u}}{\\partial t}+ \\nabla \\cdot ( \\rho \\vec{u} \\otimes \\vec{u}) + \\nabla p - \\eta \\Delta \\vec{u} = \\vec{f} \\ \\ in \\ \\ \\Omega_F(t) \\times (0,T)$\n",
    "<br>$\\nabla \\cdot \\vec{u} = 0 \\quad in \\ \\ \\Omega_F(t) \\times (0,T)$\n",
    "- with inital conditions:\n",
    "<br>$\\vec{u}(\\vec{x},0)  =  \\vec{0} \\quad on \\ \\ \\Omega_F(0)$\n",
    "<br>$p(\\vec{x},0)  =  0 \\quad  on \\ \\ \\Omega_F(0)$\n",
    "- with boundary conditions:\n",
    "<br>$\\vec{u}(\\vec{x},t) = \\vec{u}_{body} = \\boldsymbol{\\omega}(t) \\times \\vec{r} \\quad on \\ \\ \\mathcal{J} = \\partial \\Omega_S \\cap \\partial \\Omega_F$\n",
    "<br>$p \\mathbf{I} - \\frac{1}{Re} \\nabla \\vec{u} \\vec{n}_{ \\Gamma_{pOut} } = 0 \\ \\ on \\ \\ \\Gamma_{pOut} = \\partial \\Omega \\backslash \\Gamma_{Inlet} $ \n",
    "\n",
    "\n",
    "\n",
    "- angular velocity of rotating popcorn $\\boldsymbol{\\omega}(t)=\\frac{Re*\\mu_A}{\\rho_A*r_{max}*(2*r_p)}$"
   ]
  },
  {
   "cell_type": "code",
   "execution_count": 12,
   "metadata": {
    "dotnet_interactive": {
     "language": "csharp"
    }
   },
   "outputs": [],
   "source": [
    "Func<IGridInfo, int, double, double, string, bool, bool, double, XNSE_Control> GenXNSECtrl = delegate(IGridInfo grd, int k, double Viscosity, double tiltAngle, string RotAxis, bool AMR, bool LoadBalance, double AggThrs){\n",
    "    XNSE_Control C = new XNSE_Control();\n",
    "\n",
    "    // basic database options\n",
    "    // ======================\n",
    "    C.SetDatabase(myDB);\n",
    "    C.savetodb = true;\n",
    "    int J  = grd.NumberOfCells;\n",
    "\n",
    "    // Physical Parameters\n",
    "    // ===================\n",
    "    const double rhoA = 1;\n",
    "    const double Re = 1000;\n",
    "    double muA = Viscosity;\n",
    "    double partRad = _partRad;\n",
    "    double partDia = 2*partRad;\n",
    "    double VelocityMax = Re * muA / rhoA / partDia;\n",
    "    double anglev = VelocityMax / (partRad*1.39); // longest arm: partRad*1.39\n",
    "    double period = 2*Math.PI/anglev;\n",
    "    double ts = period/NoOfTimeSteps;\n",
    "    double[] pos = new double[SpaceDim]; //position of the center is set to origin (0,0)\n",
    "    string rotAxis= RotAxis ?? \"z\";\n",
    "\n",
    "    C.PhysicalParameters.IncludeConvection = IncludeConvection;\n",
    "    C.PhysicalParameters.Material = true;\n",
    "    C.PhysicalParameters.rho_A = rhoA;\n",
    "    C.PhysicalParameters.mu_A = muA;\n",
    "\n",
    "    // Meta data\n",
    "    // ============    \n",
    "    C.SessionName = string.Format(\"J{0}_k{1}_Re{2}_agg{3}_ti{4:f3}at{5}_r{6}_AMR{7}_LB{8}_W{9:f2}\",\n",
    "                             J, k,Re,AggThrs,tiltAngle,rotAxis.ToUpper(),_partRad,AMR,LoadBalance,anglev);\n",
    "\n",
    "    if(IncludeConvection){\n",
    "        C.SessionName += \"_NSE\";\n",
    "        C.Tags.Add(\"NSE\");\n",
    "    } else {\n",
    "        C.SessionName += \"_Stokes\";\n",
    "        C.Tags.Add(\"Stokes\");\n",
    "    }\n",
    "    C.Tags.Add(SpaceDim + \"D\");\n",
    "\n",
    "    if(Steady)C.Tags.Add(\"steady\");\n",
    "    else C.Tags.Add(\"transient\");\n",
    "\n",
    "    // DG degrees and configuration\n",
    "    // ==========\n",
    "    C.SetFieldOptions(k, Math.Max(k, 8));\n",
    "    C.saveperiod = 10;\n",
    "    C.GridGuid = grd.ID;\n",
    "    C.GridPartType = GridPartType.Hilbert;\n",
    "    C.DynamicLoadBalancing_On = LoadBalance;\n",
    "    C.DynamicLoadBalancing_RedistributeAtStartup = true;\n",
    "    C.DynamicLoadBalancing_Period = 10;\n",
    "    C.DynamicLoadBalancing_ImbalanceThreshold = 0.1;\n",
    "    C.ImmediatePlotPeriod = 1;\n",
    "    C.SuperSampling = 0;\n",
    "\n",
    "    // Set rigid body \n",
    "    // ============       \n",
    "    double rateOfRadius = 0.0; //-1/(double)NoOfTimeSteps/ts;\n",
    "    double ringRad = partRad/1.5;\n",
    "    C.Rigidbody.SetParameters(pos,anglev,partRad,SpaceDim,ringRad,rateOfRadius: rateOfRadius, staticShape: Steady);\n",
    "    C.SessionName += $\"_dRdt{rateOfRadius:f2}\";\n",
    "    C.Rigidbody.SpecifyShape(Gshape);\n",
    "    C.Rigidbody.SetRotationAxis(rotAxis);\n",
    "    var tiltAxis = new Vector(1,0,0);\n",
    "    C.Rigidbody.SetTilt(tiltAxis, tiltAngle);\n",
    "    C.UseImmersedBoundary = true;\n",
    "    \n",
    "    // Set initial and boundary conditions\n",
    "    // ============\n",
    "    C.AddInitialValue(VariableNames.LevelSetCGidx(0), new Formula(\"X => -1\"));\n",
    "    C.AddInitialValue(\"Pressure\", new Formula(@\"X => 0\"));\n",
    "    C.AddBoundaryValue(\"Pressure_Outlet\");\n",
    "\n",
    "    // Solver parameters\n",
    "    // ============\n",
    "    C.CutCellQuadratureType = BoSSS.Foundation.XDG.XQuadFactoryHelper.MomentFittingVariants.Saye;\n",
    "    C.UseSchurBlockPrec = true;\n",
    "    C.AgglomerationThreshold = AggThrs;\n",
    "    C.AdvancedDiscretizationOptions.ViscosityMode = ViscosityMode.FullySymmetric;\n",
    "    C.Option_LevelSetEvolution2 = LevelSetEvolution.Prescribed;\n",
    "    C.Option_LevelSetEvolution = LevelSetEvolution.None; // idle level set (used for evolving LS)\n",
    "    C.Timestepper_LevelSetHandling = LevelSetHandling.LieSplitting;\n",
    "    C.LinearSolver = LinearSolverCode.direct_mumps.GetConfig(); //exp_Kcycle_schwarz.GetConfig();\n",
    "    C.SessionName += \"mumps\";\n",
    "    C.NonLinearSolver.SolverCode = NonLinearSolverCode.Newton;\n",
    "    C.NonLinearSolver.ConvergenceCriterion = 0;\n",
    "    C.NonLinearSolver.MaxSolverIterations = 30;\n",
    "    C.NonLinearSolver.verbose = true;\n",
    "    C.AdaptiveMeshRefinement = AMR;\n",
    "\n",
    "    // Rotate only until symmetry axes, there is no need for further rotation\n",
    "    // if (SpaceDim == 2)\n",
    "    //     NoOfTimeSteps = NoOfTimeSteps/5;\n",
    "\n",
    "    // Timestepping\n",
    "    // ============\n",
    "    double dt = -1;\n",
    "    if(Steady){\n",
    "        C.TimesteppingMode = AppControl._TimesteppingMode.Steady;\n",
    "        dt = 1000;\n",
    "        C.NoOfTimesteps = 1;\n",
    "    } else {\n",
    "        C.TimesteppingMode = AppControl._TimesteppingMode.Transient;        \n",
    "        dt = ts;        \n",
    "        C.NoOfTimesteps = NoOfTimeSteps; \n",
    "    }\n",
    "    \n",
    "    \n",
    "    C.TimeSteppingScheme = TimeSteppingScheme.ImplicitEuler; \n",
    "    C.dtFixed = dt;\n",
    "    C.SkipSolveAndEvaluateResidual = false; //to save computational time for condition study\n",
    "    C.SessionName = \"Solver\" + !C.SkipSolveAndEvaluateResidual + \"_\" + C.SessionName;\n",
    "    C.PlotAgglomeration = false;\n",
    "\n",
    "    // //Condition number study\n",
    "    // // ============\n",
    "    // var config = new OperatorAnalysisConfig();\n",
    "    // config.CalculateMassMatrix = true;\n",
    "    // config.CalculateGlobalConditionNumbers = true;\n",
    "    // config.CalculateStencilConditionNumbers = false;\n",
    "    // config.PlotStencilConditionNumbers = false;\n",
    "    // C.PostprocessingModules.Add(new BoSSS.Application.XNSE_Solver.Logging.CondLogger(config));\n",
    "    // C.SessionName += \"condStudy\";\n",
    "\n",
    "    return C;\n",
    "};"
   ]
  },
  {
   "cell_type": "code",
   "execution_count": 13,
   "metadata": {
    "dotnet_interactive": {
     "language": "csharp"
    },
    "polyglot_notebook": {
     "kernelName": "csharp"
    }
   },
   "outputs": [],
   "source": [
    "//See an example control object\n",
    "//GenXNSECtrl(Grids[0],1,1,0.0,\"z\",false,false,0)"
   ]
  },
  {
   "cell_type": "markdown",
   "metadata": {},
   "source": [
    "# Submit jobs into cluster\n",
    "Create the control objects for the sessions"
   ]
  },
  {
   "cell_type": "code",
   "execution_count": 14,
   "metadata": {
    "dotnet_interactive": {
     "language": "csharp"
    }
   },
   "outputs": [],
   "source": [
    "var ViscositySweep = new double[]{1E-2};\n",
    "var tiltAngles = new double[]{0}; //Math.PI/4\n",
    "var axes = new string[]{\"z\"};\n",
    "var AMRarray = new bool[] {false};\n",
    "var LoadBalancearray = new bool[] {false};\n",
    "var aggThresolds = new double[] {0}; //, 0.1, 0.2, 0.3, 0.4, 0.5\n",
    "\n",
    "List<XNSE_Control> controls = new List<XNSE_Control>();\n",
    "foreach(IGridInfo grd in Grids){\n",
    "    foreach(int k in PolyDegS){\n",
    "        foreach(double v in ViscositySweep)\n",
    "            foreach(double tiltAngle in tiltAngles)\n",
    "                foreach(string axis in axes)\n",
    "                    foreach(bool AMR in AMRarray)\n",
    "                        foreach(bool LoadBalance in LoadBalancearray)\n",
    "                            foreach(double agg in aggThresolds)\n",
    "                               controls.Add(GenXNSECtrl(grd,k,v,tiltAngle,axis,AMR,LoadBalance,agg));\n",
    "    }\n",
    "}"
   ]
  },
  {
   "cell_type": "markdown",
   "metadata": {},
   "source": [
    "List sessions to be submitted"
   ]
  },
  {
   "cell_type": "code",
   "execution_count": 15,
   "metadata": {
    "dotnet_interactive": {
     "language": "csharp"
    }
   },
   "outputs": [
    {
     "data": {
      "text/html": [
       "<div class=\"dni-plaintext\"><pre>[ SolverTrue_J256_k1_Re1000_agg0_ti0.000atZ_r0.6_AMRFalse_LBFalse_W9.99_Stokes_dRdt0.00mumps\n",
       ", SolverTrue_J256_k1_Re1000_agg0.1_ti0.000atZ_r0.6_AMRFalse_LBFalse_W9.99_Stokes_dRdt0.00mumps\n",
       ", SolverTrue_J256_k1_Re1000_agg0.2_ti0.000atZ_r0.6_AMRFalse_LBFalse_W9.99_Stokes_dRdt0.00mumps\n",
       ", SolverTrue_J256_k1_Re1000_agg0.3_ti0.000atZ_r0.6_AMRFalse_LBFalse_W9.99_Stokes_dRdt0.00mumps\n",
       ", SolverTrue_J256_k1_Re1000_agg0.4_ti0.000atZ_r0.6_AMRFalse_LBFalse_W9.99_Stokes_dRdt0.00mumps\n",
       ", SolverTrue_J256_k1_Re1000_agg0.5_ti0.000atZ_r0.6_AMRFalse_LBFalse_W9.99_Stokes_dRdt0.00mumps\n",
       ", SolverTrue_J256_k2_Re1000_agg0_ti0.000atZ_r0.6_AMRFalse_LBFalse_W9.99_Stokes_dRdt0.00mumps\n",
       ", SolverTrue_J256_k2_Re1000_agg0.1_ti0.000atZ_r0.6_AMRFalse_LBFalse_W9.99_Stokes_dRdt0.00mumps\n",
       ", SolverTrue_J256_k2_Re1000_agg0.2_ti0.000atZ_r0.6_AMRFalse_LBFalse_W9.99_Stokes_dRdt0.00mumps\n",
       ", SolverTrue_J256_k2_Re1000_agg0.3_ti0.000atZ_r0.6_AMRFalse_LBFalse_W9.99_Stokes_dRdt0.00mumps\n",
       ", SolverTrue_J256_k2_Re1000_agg0.4_ti0.000atZ_r0.6_AMRFalse_LBFalse_W9.99_Stokes_dRdt0.00mumps\n",
       ", SolverTrue_J256_k2_Re1000_agg0.5_ti0.000atZ_r0.6_AMRFalse_LBFalse_W9.99_Stokes_dRdt0.00mumps\n",
       ", SolverTrue_J256_k3_Re1000_agg0_ti0.000atZ_r0.6_AMRFalse_LBFalse_W9.99_Stokes_dRdt0.00mumps\n",
       ", SolverTrue_J256_k3_Re1000_agg0.1_ti0.000atZ_r0.6_AMRFalse_LBFalse_W9.99_Stokes_dRdt0.00mumps\n",
       ", SolverTrue_J256_k3_Re1000_agg0.2_ti0.000atZ_r0.6_AMRFalse_LBFalse_W9.99_Stokes_dRdt0.00mumps\n",
       ", SolverTrue_J256_k3_Re1000_agg0.3_ti0.000atZ_r0.6_AMRFalse_LBFalse_W9.99_Stokes_dRdt0.00mumps\n",
       ", SolverTrue_J256_k3_Re1000_agg0.4_ti0.000atZ_r0.6_AMRFalse_LBFalse_W9.99_Stokes_dRdt0.00mumps\n",
       ", SolverTrue_J256_k3_Re1000_agg0.5_ti0.000atZ_r0.6_AMRFalse_LBFalse_W9.99_Stokes_dRdt0.00mumps\n",
       ", SolverTrue_J1024_k1_Re1000_agg0_ti0.000atZ_r0.6_AMRFalse_LBFalse_W9.99_Stokes_dRdt0.00mumps\n",
       ", SolverTrue_J1024_k1_Re1000_agg0.1_ti0.000atZ_r0.6_AMRFalse_LBFalse_W9.99_Stokes_dRdt0.00mumps\n",
       ", SolverTrue_J1024_k1_Re1000_agg0.2_ti0.000atZ_r0.6_AMRFalse_LBFalse_W9.99_Stokes_dRdt0.00mumps\n",
       ", SolverTrue_J1024_k1_Re1000_agg0.3_ti0.000atZ_r0.6_AMRFalse_LBFalse_W9.99_Stokes_dRdt0.00mumps\n",
       ", SolverTrue_J1024_k1_Re1000_agg0.4_ti0.000atZ_r0.6_AMRFalse_LBFalse_W9.99_Stokes_dRdt0.00mumps\n",
       ", SolverTrue_J1024_k1_Re1000_agg0.5_ti0.000atZ_r0.6_AMRFalse_LBFalse_W9.99_Stokes_dRdt0.00mumps\n",
       ", SolverTrue_J1024_k2_Re1000_agg0_ti0.000atZ_r0.6_AMRFalse_LBFalse_W9.99_Stokes_dRdt0.00mumps\n",
       ", SolverTrue_J1024_k2_Re1000_agg0.1_ti0.000atZ_r0.6_AMRFalse_LBFalse_W9.99_Stokes_dRdt0.00mumps\n",
       ", SolverTrue_J1024_k2_Re1000_agg0.2_ti0.000atZ_r0.6_AMRFalse_LBFalse_W9.99_Stokes_dRdt0.00mumps\n",
       ", SolverTrue_J1024_k2_Re1000_agg0.3_ti0.000atZ_r0.6_AMRFalse_LBFalse_W9.99_Stokes_dRdt0.00mumps\n",
       ", SolverTrue_J1024_k2_Re1000_agg0.4_ti0.000atZ_r0.6_AMRFalse_LBFalse_W9.99_Stokes_dRdt0.00mumps\n",
       ", SolverTrue_J1024_k2_Re1000_agg0.5_ti0.000atZ_r0.6_AMRFalse_LBFalse_W9.99_Stokes_dRdt0.00mumps\n",
       ", SolverTrue_J1024_k3_Re1000_agg0_ti0.000atZ_r0.6_AMRFalse_LBFalse_W9.99_Stokes_dRdt0.00mumps\n",
       ", SolverTrue_J1024_k3_Re1000_agg0.1_ti0.000atZ_r0.6_AMRFalse_LBFalse_W9.99_Stokes_dRdt0.00mumps\n",
       ", SolverTrue_J1024_k3_Re1000_agg0.2_ti0.000atZ_r0.6_AMRFalse_LBFalse_W9.99_Stokes_dRdt0.00mumps\n",
       ", SolverTrue_J1024_k3_Re1000_agg0.3_ti0.000atZ_r0.6_AMRFalse_LBFalse_W9.99_Stokes_dRdt0.00mumps\n",
       ", SolverTrue_J1024_k3_Re1000_agg0.4_ti0.000atZ_r0.6_AMRFalse_LBFalse_W9.99_Stokes_dRdt0.00mumps\n",
       ", SolverTrue_J1024_k3_Re1000_agg0.5_ti0.000atZ_r0.6_AMRFalse_LBFalse_W9.99_Stokes_dRdt0.00mumps\n",
       ", SolverTrue_J4096_k1_Re1000_agg0_ti0.000atZ_r0.6_AMRFalse_LBFalse_W9.99_Stokes_dRdt0.00mumps\n",
       ", SolverTrue_J4096_k1_Re1000_agg0.1_ti0.000atZ_r0.6_AMRFalse_LBFalse_W9.99_Stokes_dRdt0.00mumps\n",
       ", SolverTrue_J4096_k1_Re1000_agg0.2_ti0.000atZ_r0.6_AMRFalse_LBFalse_W9.99_Stokes_dRdt0.00mumps\n",
       ", SolverTrue_J4096_k1_Re1000_agg0.3_ti0.000atZ_r0.6_AMRFalse_LBFalse_W9.99_Stokes_dRdt0.00mumps\n",
       ", SolverTrue_J4096_k1_Re1000_agg0.4_ti0.000atZ_r0.6_AMRFalse_LBFalse_W9.99_Stokes_dRdt0.00mumps\n",
       ", SolverTrue_J4096_k1_Re1000_agg0.5_ti0.000atZ_r0.6_AMRFalse_LBFalse_W9.99_Stokes_dRdt0.00mumps\n",
       ", SolverTrue_J4096_k2_Re1000_agg0_ti0.000atZ_r0.6_AMRFalse_LBFalse_W9.99_Stokes_dRdt0.00mumps\n",
       ", SolverTrue_J4096_k2_Re1000_agg0.1_ti0.000atZ_r0.6_AMRFalse_LBFalse_W9.99_Stokes_dRdt0.00mumps\n",
       ", SolverTrue_J4096_k2_Re1000_agg0.2_ti0.000atZ_r0.6_AMRFalse_LBFalse_W9.99_Stokes_dRdt0.00mumps\n",
       ", SolverTrue_J4096_k2_Re1000_agg0.3_ti0.000atZ_r0.6_AMRFalse_LBFalse_W9.99_Stokes_dRdt0.00mumps\n",
       ", SolverTrue_J4096_k2_Re1000_agg0.4_ti0.000atZ_r0.6_AMRFalse_LBFalse_W9.99_Stokes_dRdt0.00mumps\n",
       ", SolverTrue_J4096_k2_Re1000_agg0.5_ti0.000atZ_r0.6_AMRFalse_LBFalse_W9.99_Stokes_dRdt0.00mumps\n",
       ", SolverTrue_J4096_k3_Re1000_agg0_ti0.000atZ_r0.6_AMRFalse_LBFalse_W9.99_Stokes_dRdt0.00mumps\n",
       ", SolverTrue_J4096_k3_Re1000_agg0.1_ti0.000atZ_r0.6_AMRFalse_LBFalse_W9.99_Stokes_dRdt0.00mumps\n",
       ", SolverTrue_J4096_k3_Re1000_agg0.2_ti0.000atZ_r0.6_AMRFalse_LBFalse_W9.99_Stokes_dRdt0.00mumps\n",
       ", SolverTrue_J4096_k3_Re1000_agg0.3_ti0.000atZ_r0.6_AMRFalse_LBFalse_W9.99_Stokes_dRdt0.00mumps\n",
       ", SolverTrue_J4096_k3_Re1000_agg0.4_ti0.000atZ_r0.6_AMRFalse_LBFalse_W9.99_Stokes_dRdt0.00mumps\n",
       ", SolverTrue_J4096_k3_Re1000_agg0.5_ti0.000atZ_r0.6_AMRFalse_LBFalse_W9.99_Stokes_dRdt0.00mumps\n",
       ", SolverTrue_J16384_k1_Re1000_agg0_ti0.000atZ_r0.6_AMRFalse_LBFalse_W9.99_Stokes_dRdt0.00mumps\n",
       ", SolverTrue_J16384_k1_Re1000_agg0.1_ti0.000atZ_r0.6_AMRFalse_LBFalse_W9.99_Stokes_dRdt0.00mumps\n",
       ", SolverTrue_J16384_k1_Re1000_agg0.2_ti0.000atZ_r0.6_AMRFalse_LBFalse_W9.99_Stokes_dRdt0.00mumps\n",
       ", SolverTrue_J16384_k1_Re1000_agg0.3_ti0.000atZ_r0.6_AMRFalse_LBFalse_W9.99_Stokes_dRdt0.00mumps\n",
       ", SolverTrue_J16384_k1_Re1000_agg0.4_ti0.000atZ_r0.6_AMRFalse_LBFalse_W9.99_Stokes_dRdt0.00mumps\n",
       ", SolverTrue_J16384_k1_Re1000_agg0.5_ti0.000atZ_r0.6_AMRFalse_LBFalse_W9.99_Stokes_dRdt0.00mumps\n",
       ", SolverTrue_J16384_k2_Re1000_agg0_ti0.000atZ_r0.6_AMRFalse_LBFalse_W9.99_Stokes_dRdt0.00mumps\n",
       ", SolverTrue_J16384_k2_Re1000_agg0.1_ti0.000atZ_r0.6_AMRFalse_LBFalse_W9.99_Stokes_dRdt0.00mumps\n",
       ", SolverTrue_J16384_k2_Re1000_agg0.2_ti0.000atZ_r0.6_AMRFalse_LBFalse_W9.99_Stokes_dRdt0.00mumps\n",
       ", SolverTrue_J16384_k2_Re1000_agg0.3_ti0.000atZ_r0.6_AMRFalse_LBFalse_W9.99_Stokes_dRdt0.00mumps\n",
       ", SolverTrue_J16384_k2_Re1000_agg0.4_ti0.000atZ_r0.6_AMRFalse_LBFalse_W9.99_Stokes_dRdt0.00mumps\n",
       ", SolverTrue_J16384_k2_Re1000_agg0.5_ti0.000atZ_r0.6_AMRFalse_LBFalse_W9.99_Stokes_dRdt0.00mumps\n",
       ", SolverTrue_J16384_k3_Re1000_agg0_ti0.000atZ_r0.6_AMRFalse_LBFalse_W9.99_Stokes_dRdt0.00mumps\n",
       ", SolverTrue_J16384_k3_Re1000_agg0.1_ti0.000atZ_r0.6_AMRFalse_LBFalse_W9.99_Stokes_dRdt0.00mumps\n",
       ", SolverTrue_J16384_k3_Re1000_agg0.2_ti0.000atZ_r0.6_AMRFalse_LBFalse_W9.99_Stokes_dRdt0.00mumps\n",
       ", SolverTrue_J16384_k3_Re1000_agg0.3_ti0.000atZ_r0.6_AMRFalse_LBFalse_W9.99_Stokes_dRdt0.00mumps\n",
       ", SolverTrue_J16384_k3_Re1000_agg0.4_ti0.000atZ_r0.6_AMRFalse_LBFalse_W9.99_Stokes_dRdt0.00mumps\n",
       ", SolverTrue_J16384_k3_Re1000_agg0.5_ti0.000atZ_r0.6_AMRFalse_LBFalse_W9.99_Stokes_dRdt0.00mumps\n",
       " ]</pre></div><style>\r\n",
       ".dni-code-hint {\r\n",
       "    font-style: italic;\r\n",
       "    overflow: hidden;\r\n",
       "    white-space: nowrap;\r\n",
       "}\r\n",
       ".dni-treeview {\r\n",
       "    white-space: nowrap;\r\n",
       "}\r\n",
       ".dni-treeview td {\r\n",
       "    vertical-align: top;\r\n",
       "    text-align: start;\r\n",
       "}\r\n",
       "details.dni-treeview {\r\n",
       "    padding-left: 1em;\r\n",
       "}\r\n",
       "table td {\r\n",
       "    text-align: start;\r\n",
       "}\r\n",
       "table tr { \r\n",
       "    vertical-align: top; \r\n",
       "    margin: 0em 0px;\r\n",
       "}\r\n",
       "table tr td pre \r\n",
       "{ \r\n",
       "    vertical-align: top !important; \r\n",
       "    margin: 0em 0px !important;\r\n",
       "} \r\n",
       "table th {\r\n",
       "    text-align: start;\r\n",
       "}\r\n",
       "</style>"
      ]
     },
     "metadata": {},
     "output_type": "display_data"
    }
   ],
   "source": [
    "controls.Select(s=>s.SessionName + \"\\n\")"
   ]
  },
  {
   "cell_type": "markdown",
   "metadata": {},
   "source": [
    "Submit jobs"
   ]
  },
  {
   "cell_type": "code",
   "execution_count": 16,
   "metadata": {
    "dotnet_interactive": {
     "language": "csharp"
    }
   },
   "outputs": [],
   "source": [
    "int k=1;\n",
    "foreach(var ctrl in controls){\n",
    "        string sessname = ctrl.SessionName;\n",
    "        foreach(int cores in core_sweep){\n",
    "            ctrl.SessionName = sessname + \"_ct\"+cores; \n",
    "            var aJob   = new Job(\"Rot\"+Gshape+\"_\"+ctrl.SessionName,typeof(XNSE));\n",
    "            aJob.SetControlObject(ctrl);\n",
    "            aJob.NumberOfMPIProcs         = cores;\n",
    "            aJob.UseComputeNodesExclusive = true;\n",
    "            //aJob.ExecutionTime            = \"12:00:00\";\n",
    "            aJob.NumberOfThreads = 4;\n",
    "            aJob.Activate(myBatch);\n",
    "            Console.WriteLine(\"Submitted {0}th\",k) ;\n",
    "            k++;           \n",
    "        }       \n",
    "}\n",
    "    \n"
   ]
  },
  {
   "cell_type": "markdown",
   "metadata": {},
   "source": [
    "List sessions submitted"
   ]
  },
  {
   "cell_type": "code",
   "execution_count": 18,
   "metadata": {
    "dotnet_interactive": {
     "language": "csharp"
    },
    "polyglot_notebook": {
     "kernelName": "csharp"
    }
   },
   "outputs": [
    {
     "data": {
      "text/plain": [
       "#0: Popcorn2D_convergenceAggStokesSteadyFinal\tSolverTrue_J16384_k3_Re1000_agg0.5_ti0.000atZ_r0.6_AMRFalse_LBFalse_W9.99_Stokes_dRdt0.00mumps_ct1*\t8/18/2024 5:36:22 PM\td64cb2e6...\r\n",
       "#1: Popcorn2D_convergenceAggStokesSteadyFinal\tSolverTrue_J16384_k2_Re1000_agg0.5_ti0.000atZ_r0.6_AMRFalse_LBFalse_W9.99_Stokes_dRdt0.00mumps_ct1\t8/18/2024 5:34:51 PM\taa767e55...\r\n",
       "#2: Popcorn2D_convergenceAggStokesSteadyFinal\tSolverTrue_J16384_k2_Re1000_agg0.3_ti0.000atZ_r0.6_AMRFalse_LBFalse_W9.99_Stokes_dRdt0.00mumps_ct1\t8/18/2024 5:33:55 PM\t3702402f...\r\n",
       "#3: Popcorn2D_convergenceAggStokesSteadyFinal\tSolverTrue_J16384_k2_Re1000_agg0.1_ti0.000atZ_r0.6_AMRFalse_LBFalse_W9.99_Stokes_dRdt0.00mumps_ct1\t8/18/2024 5:33:25 PM\ta74dc7f6...\r\n",
       "#4: Popcorn2D_convergenceAggStokesSteadyFinal\tSolverTrue_J16384_k2_Re1000_agg0.4_ti0.000atZ_r0.6_AMRFalse_LBFalse_W9.99_Stokes_dRdt0.00mumps_ct1\t8/18/2024 5:34:33 PM\t6d028340...\r\n",
       "#5: Popcorn2D_convergenceAggStokesSteadyFinal\tSolverTrue_J16384_k3_Re1000_agg0.3_ti0.000atZ_r0.6_AMRFalse_LBFalse_W9.99_Stokes_dRdt0.00mumps_ct1*\t8/18/2024 5:35:52 PM\tbbf79439...\r\n",
       "#6: Popcorn2D_convergenceAggStokesSteadyFinal\tSolverTrue_J16384_k3_Re1000_agg0.4_ti0.000atZ_r0.6_AMRFalse_LBFalse_W9.99_Stokes_dRdt0.00mumps_ct1*\t8/18/2024 5:35:46 PM\ta61665fe...\r\n",
       "#7: Popcorn2D_convergenceAggStokesSteadyFinal\tSolverTrue_J16384_k2_Re1000_agg0.2_ti0.000atZ_r0.6_AMRFalse_LBFalse_W9.99_Stokes_dRdt0.00mumps_ct1\t8/18/2024 5:34:02 PM\t33408993...\r\n",
       "#8: Popcorn2D_convergenceAggStokesSteadyFinal\tSolverTrue_J16384_k3_Re1000_agg0.2_ti0.000atZ_r0.6_AMRFalse_LBFalse_W9.99_Stokes_dRdt0.00mumps_ct1*\t8/18/2024 5:35:16 PM\td25e450c...\r\n",
       "#9: Popcorn2D_convergenceAggStokesSteadyFinal\tSolverTrue_J16384_k3_Re1000_agg0.1_ti0.000atZ_r0.6_AMRFalse_LBFalse_W9.99_Stokes_dRdt0.00mumps_ct1*\t8/18/2024 5:35:01 PM\tc9c88eb3...\r\n",
       "#10: Popcorn2D_convergenceAggStokesSteadyFinal\tSolverTrue_J16384_k2_Re1000_agg0_ti0.000atZ_r0.6_AMRFalse_LBFalse_W9.99_Stokes_dRdt0.00mumps_ct1\t8/18/2024 5:33:32 PM\teb63eca8...\r\n",
       "#11: Popcorn2D_convergenceAggStokesSteadyFinal\tSolverTrue_J16384_k1_Re1000_agg0.4_ti0.000atZ_r0.6_AMRFalse_LBFalse_W9.99_Stokes_dRdt0.00mumps_ct1\t8/18/2024 5:32:40 PM\t6f3133ea...\r\n",
       "#12: Popcorn2D_convergenceAggStokesSteadyFinal\tSolverTrue_J16384_k3_Re1000_agg0_ti0.000atZ_r0.6_AMRFalse_LBFalse_W9.99_Stokes_dRdt0.00mumps_ct1*\t8/18/2024 5:34:43 PM\t55ccc009...\r\n",
       "#13: Popcorn2D_convergenceAggStokesSteadyFinal\tSolverTrue_J16384_k1_Re1000_agg0.3_ti0.000atZ_r0.6_AMRFalse_LBFalse_W9.99_Stokes_dRdt0.00mumps_ct1\t8/18/2024 5:32:24 PM\taf9e3603...\r\n",
       "#14: Popcorn2D_convergenceAggStokesSteadyFinal\tSolverTrue_J16384_k1_Re1000_agg0.5_ti0.000atZ_r0.6_AMRFalse_LBFalse_W9.99_Stokes_dRdt0.00mumps_ct1\t8/18/2024 5:33:15 PM\t392a81a9...\r\n",
       "#15: Popcorn2D_convergenceAggStokesSteadyFinal\tSolverTrue_J16384_k1_Re1000_agg0.1_ti0.000atZ_r0.6_AMRFalse_LBFalse_W9.99_Stokes_dRdt0.00mumps_ct1\t8/18/2024 5:31:55 PM\t62a54c20...\r\n",
       "#16: Popcorn2D_convergenceAggStokesSteadyFinal\tSolverTrue_J16384_k1_Re1000_agg0.2_ti0.000atZ_r0.6_AMRFalse_LBFalse_W9.99_Stokes_dRdt0.00mumps_ct1\t8/18/2024 5:32:08 PM\t74576cd1...\r\n",
       "#17: Popcorn2D_convergenceAggStokesSteadyFinal\tSolverTrue_J16384_k1_Re1000_agg0_ti0.000atZ_r0.6_AMRFalse_LBFalse_W9.99_Stokes_dRdt0.00mumps_ct1\t8/18/2024 5:31:38 PM\t101ef652...\r\n",
       "#18: Popcorn2D_convergenceAggStokesSteadyFinal\tSolverTrue_J4096_k3_Re1000_agg0.5_ti0.000atZ_r0.6_AMRFalse_LBFalse_W9.99_Stokes_dRdt0.00mumps_ct1\t8/18/2024 5:31:45 PM\t65d61d04...\r\n",
       "#19: Popcorn2D_convergenceAggStokesSteadyFinal\tSolverTrue_J4096_k3_Re1000_agg0.3_ti0.000atZ_r0.6_AMRFalse_LBFalse_W9.99_Stokes_dRdt0.00mumps_ct1\t8/18/2024 5:30:53 PM\t8038aad9...\r\n",
       "#20: Popcorn2D_convergenceAggStokesSteadyFinal\tSolverTrue_J4096_k3_Re1000_agg0.4_ti0.000atZ_r0.6_AMRFalse_LBFalse_W9.99_Stokes_dRdt0.00mumps_ct1\t8/18/2024 5:31:31 PM\t9c18e14a...\r\n",
       "#21: Popcorn2D_convergenceAggStokesSteadyFinal\tSolverTrue_J4096_k3_Re1000_agg0.2_ti0.000atZ_r0.6_AMRFalse_LBFalse_W9.99_Stokes_dRdt0.00mumps_ct1\t8/18/2024 5:31:00 PM\tc992011b...\r\n",
       "#22: Popcorn2D_convergenceAggStokesSteadyFinal\tSolverTrue_J4096_k3_Re1000_agg0.1_ti0.000atZ_r0.6_AMRFalse_LBFalse_W9.99_Stokes_dRdt0.00mumps_ct1\t8/18/2024 5:30:24 PM\t868f132b...\r\n",
       "#23: Popcorn2D_convergenceAggStokesSteadyFinal\tSolverTrue_J4096_k3_Re1000_agg0_ti0.000atZ_r0.6_AMRFalse_LBFalse_W9.99_Stokes_dRdt0.00mumps_ct1\t8/18/2024 5:30:09 PM\t783bbbd2...\r\n",
       "#24: Popcorn2D_convergenceAggStokesSteadyFinal\tSolverTrue_J4096_k2_Re1000_agg0.4_ti0.000atZ_r0.6_AMRFalse_LBFalse_W9.99_Stokes_dRdt0.00mumps_ct1\t8/18/2024 5:29:38 PM\t70f7ce5b...\r\n",
       "#25: Popcorn2D_convergenceAggStokesSteadyFinal\tSolverTrue_J4096_k2_Re1000_agg0.5_ti0.000atZ_r0.6_AMRFalse_LBFalse_W9.99_Stokes_dRdt0.00mumps_ct1\t8/18/2024 5:29:52 PM\tb9df7ac7...\r\n",
       "#26: Popcorn2D_convergenceAggStokesSteadyFinal\tSolverTrue_J4096_k2_Re1000_agg0.3_ti0.000atZ_r0.6_AMRFalse_LBFalse_W9.99_Stokes_dRdt0.00mumps_ct1\t8/18/2024 5:29:45 PM\tecf5e1e1...\r\n",
       "#27: Popcorn2D_convergenceAggStokesSteadyFinal\tSolverTrue_J4096_k2_Re1000_agg0.2_ti0.000atZ_r0.6_AMRFalse_LBFalse_W9.99_Stokes_dRdt0.00mumps_ct1\t8/18/2024 5:29:28 PM\t645186b9...\r\n",
       "#28: Popcorn2D_convergenceAggStokesSteadyFinal\tSolverTrue_J4096_k2_Re1000_agg0.1_ti0.000atZ_r0.6_AMRFalse_LBFalse_W9.99_Stokes_dRdt0.00mumps_ct1\t8/18/2024 5:28:50 PM\tab0aa84c...\r\n",
       "#29: Popcorn2D_convergenceAggStokesSteadyFinal\tSolverTrue_J4096_k2_Re1000_agg0_ti0.000atZ_r0.6_AMRFalse_LBFalse_W9.99_Stokes_dRdt0.00mumps_ct1\t8/18/2024 5:28:58 PM\te9b8cc91...\r\n",
       "#30: Popcorn2D_convergenceAggStokesSteadyFinal\tSolverTrue_J4096_k1_Re1000_agg0.5_ti0.000atZ_r0.6_AMRFalse_LBFalse_W9.99_Stokes_dRdt0.00mumps_ct1\t8/18/2024 5:28:22 PM\t998bec26...\r\n",
       "#31: Popcorn2D_convergenceAggStokesSteadyFinal\tSolverTrue_J4096_k1_Re1000_agg0.4_ti0.000atZ_r0.6_AMRFalse_LBFalse_W9.99_Stokes_dRdt0.00mumps_ct1\t8/18/2024 5:28:07 PM\tc0f5b84c...\r\n",
       "#32: Popcorn2D_convergenceAggStokesSteadyFinal\tSolverTrue_J4096_k1_Re1000_agg0.3_ti0.000atZ_r0.6_AMRFalse_LBFalse_W9.99_Stokes_dRdt0.00mumps_ct1\t8/18/2024 5:27:50 PM\te7e4632a...\r\n",
       "#33: Popcorn2D_convergenceAggStokesSteadyFinal\tSolverTrue_J4096_k1_Re1000_agg0.2_ti0.000atZ_r0.6_AMRFalse_LBFalse_W9.99_Stokes_dRdt0.00mumps_ct1\t8/18/2024 5:27:34 PM\ta4275d64...\r\n",
       "#34: Popcorn2D_convergenceAggStokesSteadyFinal\tSolverTrue_J4096_k1_Re1000_agg0.1_ti0.000atZ_r0.6_AMRFalse_LBFalse_W9.99_Stokes_dRdt0.00mumps_ct1\t8/18/2024 5:27:42 PM\t7dce540c...\r\n",
       "#35: Popcorn2D_convergenceAggStokesSteadyFinal\tSolverTrue_J4096_k1_Re1000_agg0_ti0.000atZ_r0.6_AMRFalse_LBFalse_W9.99_Stokes_dRdt0.00mumps_ct1\t8/18/2024 5:27:26 PM\t7772c9ca...\r\n",
       "#36: Popcorn2D_convergenceAggStokesSteadyFinal\tSolverTrue_J1024_k3_Re1000_agg0.5_ti0.000atZ_r0.6_AMRFalse_LBFalse_W9.99_Stokes_dRdt0.00mumps_ct1\t8/18/2024 5:27:11 PM\t9a52174e...\r\n",
       "#37: Popcorn2D_convergenceAggStokesSteadyFinal\tSolverTrue_J1024_k3_Re1000_agg0.4_ti0.000atZ_r0.6_AMRFalse_LBFalse_W9.99_Stokes_dRdt0.00mumps_ct1\t8/18/2024 5:26:34 PM\t06510f6c...\r\n",
       "#38: Popcorn2D_convergenceAggStokesSteadyFinal\tSolverTrue_J1024_k3_Re1000_agg0.3_ti0.000atZ_r0.6_AMRFalse_LBFalse_W9.99_Stokes_dRdt0.00mumps_ct1\t8/18/2024 5:26:18 PM\t1906974d...\r\n",
       "#39: Popcorn2D_convergenceAggStokesSteadyFinal\tSolverTrue_J1024_k3_Re1000_agg0.2_ti0.000atZ_r0.6_AMRFalse_LBFalse_W9.99_Stokes_dRdt0.00mumps_ct1\t8/18/2024 5:26:02 PM\tb640dd63...\r\n",
       "#40: Popcorn2D_convergenceAggStokesSteadyFinal\tSolverTrue_J1024_k3_Re1000_agg0.1_ti0.000atZ_r0.6_AMRFalse_LBFalse_W9.99_Stokes_dRdt0.00mumps_ct1\t8/18/2024 5:25:45 PM\t8505baf8...\r\n",
       "#41: Popcorn2D_convergenceAggStokesSteadyFinal\tSolverTrue_J1024_k3_Re1000_agg0_ti0.000atZ_r0.6_AMRFalse_LBFalse_W9.99_Stokes_dRdt0.00mumps_ct1\t8/18/2024 5:25:52 PM\t8a737758...\r\n",
       "#42: Popcorn2D_convergenceAggStokesSteadyFinal\tSolverTrue_J1024_k2_Re1000_agg0.5_ti0.000atZ_r0.6_AMRFalse_LBFalse_W9.99_Stokes_dRdt0.00mumps_ct1\t8/18/2024 5:25:37 PM\tc408c0c0...\r\n",
       "#43: Popcorn2D_convergenceAggStokesSteadyFinal\tSolverTrue_J1024_k2_Re1000_agg0.4_ti0.000atZ_r0.6_AMRFalse_LBFalse_W9.99_Stokes_dRdt0.00mumps_ct1\t8/18/2024 5:25:22 PM\t27b5c01e...\r\n",
       "#44: Popcorn2D_convergenceAggStokesSteadyFinal\tSolverTrue_J1024_k2_Re1000_agg0.3_ti0.000atZ_r0.6_AMRFalse_LBFalse_W9.99_Stokes_dRdt0.00mumps_ct1\t8/18/2024 5:24:46 PM\t07d5fafd...\r\n",
       "#45: Popcorn2D_convergenceAggStokesSteadyFinal\tSolverTrue_J1024_k2_Re1000_agg0.2_ti0.000atZ_r0.6_AMRFalse_LBFalse_W9.99_Stokes_dRdt0.00mumps_ct1\t8/18/2024 5:24:32 PM\tf2babf9b...\r\n",
       "#46: Popcorn2D_convergenceAggStokesSteadyFinal\tSolverTrue_J1024_k2_Re1000_agg0.1_ti0.000atZ_r0.6_AMRFalse_LBFalse_W9.99_Stokes_dRdt0.00mumps_ct1\t8/18/2024 5:24:15 PM\tf5b83518...\r\n",
       "#47: Popcorn2D_convergenceAggStokesSteadyFinal\tSolverTrue_J1024_k2_Re1000_agg0_ti0.000atZ_r0.6_AMRFalse_LBFalse_W9.99_Stokes_dRdt0.00mumps_ct1\t8/18/2024 5:24:01 PM\taf0924aa...\r\n",
       "#48: Popcorn2D_convergenceAggStokesSteadyFinal\tSolverTrue_J1024_k1_Re1000_agg0.5_ti0.000atZ_r0.6_AMRFalse_LBFalse_W9.99_Stokes_dRdt0.00mumps_ct1\t8/18/2024 5:24:08 PM\ta4794ce7...\r\n",
       "#49: Popcorn2D_convergenceAggStokesSteadyFinal\tSolverTrue_J1024_k1_Re1000_agg0.4_ti0.000atZ_r0.6_AMRFalse_LBFalse_W9.99_Stokes_dRdt0.00mumps_ct1\t8/18/2024 5:23:53 PM\t948d7a57...\r\n",
       "#50: Popcorn2D_convergenceAggStokesSteadyFinal\tSolverTrue_J1024_k1_Re1000_agg0.3_ti0.000atZ_r0.6_AMRFalse_LBFalse_W9.99_Stokes_dRdt0.00mumps_ct1\t8/18/2024 5:23:39 PM\t86705345...\r\n",
       "#51: Popcorn2D_convergenceAggStokesSteadyFinal\tSolverTrue_J1024_k1_Re1000_agg0.2_ti0.000atZ_r0.6_AMRFalse_LBFalse_W9.99_Stokes_dRdt0.00mumps_ct1\t8/18/2024 5:23:03 PM\t3ec5602c...\r\n",
       "#52: Popcorn2D_convergenceAggStokesSteadyFinal\tSolverTrue_J1024_k1_Re1000_agg0.1_ti0.000atZ_r0.6_AMRFalse_LBFalse_W9.99_Stokes_dRdt0.00mumps_ct1\t8/18/2024 5:22:47 PM\t9573744d...\r\n",
       "#53: Popcorn2D_convergenceAggStokesSteadyFinal\tSolverTrue_J1024_k1_Re1000_agg0_ti0.000atZ_r0.6_AMRFalse_LBFalse_W9.99_Stokes_dRdt0.00mumps_ct1\t8/18/2024 5:22:33 PM\t0ec16f7b...\r\n",
       "#54: Popcorn2D_convergenceAggStokesSteadyFinal\tSolverTrue_J256_k3_Re1000_agg0.5_ti0.000atZ_r0.6_AMRFalse_LBFalse_W9.99_Stokes_dRdt0.00mumps_ct1\t8/18/2024 5:22:19 PM\td38b32a4...\r\n",
       "#55: Popcorn2D_convergenceAggStokesSteadyFinal\tSolverTrue_J256_k3_Re1000_agg0.4_ti0.000atZ_r0.6_AMRFalse_LBFalse_W9.99_Stokes_dRdt0.00mumps_ct1\t8/18/2024 5:22:26 PM\tf3d05c34...\r\n",
       "#56: Popcorn2D_convergenceAggStokesSteadyFinal\tSolverTrue_J256_k3_Re1000_agg0.3_ti0.000atZ_r0.6_AMRFalse_LBFalse_W9.99_Stokes_dRdt0.00mumps_ct1\t8/18/2024 5:22:10 PM\tad38c027...\r\n",
       "#57: Popcorn2D_convergenceAggStokesSteadyFinal\tSolverTrue_J256_k3_Re1000_agg0.2_ti0.000atZ_r0.6_AMRFalse_LBFalse_W9.99_Stokes_dRdt0.00mumps_ct1\t8/18/2024 5:21:55 PM\tc8ef6c6e...\r\n",
       "#58: Popcorn2D_convergenceAggStokesSteadyFinal\tSolverTrue_J256_k3_Re1000_agg0.1_ti0.000atZ_r0.6_AMRFalse_LBFalse_W9.99_Stokes_dRdt0.00mumps_ct1\t8/18/2024 5:21:19 PM\t5a6cb454...\r\n",
       "#59: Popcorn2D_convergenceAggStokesSteadyFinal\tSolverTrue_J256_k3_Re1000_agg0_ti0.000atZ_r0.6_AMRFalse_LBFalse_W9.99_Stokes_dRdt0.00mumps_ct1\t8/18/2024 5:21:04 PM\t21775f43...\r\n",
       "#60: Popcorn2D_convergenceAggStokesSteadyFinal\tSolverTrue_J256_k2_Re1000_agg0.5_ti0.000atZ_r0.6_AMRFalse_LBFalse_W9.99_Stokes_dRdt0.00mumps_ct1\t8/18/2024 5:20:49 PM\tf1d4f947...\r\n",
       "#61: Popcorn2D_convergenceAggStokesSteadyFinal\tSolverTrue_J256_k2_Re1000_agg0.4_ti0.000atZ_r0.6_AMRFalse_LBFalse_W9.99_Stokes_dRdt0.00mumps_ct1\t8/18/2024 5:20:35 PM\tdc84ecb7...\r\n",
       "#62: Popcorn2D_convergenceAggStokesSteadyFinal\tSolverTrue_J256_k2_Re1000_agg0.2_ti0.000atZ_r0.6_AMRFalse_LBFalse_W9.99_Stokes_dRdt0.00mumps_ct1\t8/18/2024 5:20:26 PM\tc2b57831...\r\n",
       "#63: Popcorn2D_convergenceAggStokesSteadyFinal\tSolverTrue_J256_k2_Re1000_agg0.3_ti0.000atZ_r0.6_AMRFalse_LBFalse_W9.99_Stokes_dRdt0.00mumps_ct1\t8/18/2024 5:20:20 PM\t9fa73852...\r\n",
       "#64: Popcorn2D_convergenceAggStokesSteadyFinal\tSolverTrue_J256_k2_Re1000_agg0.1_ti0.000atZ_r0.6_AMRFalse_LBFalse_W9.99_Stokes_dRdt0.00mumps_ct1\t8/18/2024 5:20:12 PM\tce06234c...\r\n",
       "#65: Popcorn2D_convergenceAggStokesSteadyFinal\tSolverTrue_J256_k2_Re1000_agg0_ti0.000atZ_r0.6_AMRFalse_LBFalse_W9.99_Stokes_dRdt0.00mumps_ct1\t8/18/2024 5:19:36 PM\t4490ca85...\r\n",
       "#66: Popcorn2D_convergenceAggStokesSteadyFinal\tSolverTrue_J256_k1_Re1000_agg0_ti0.000atZ_r0.6_AMRFalse_LBFalse_W9.99_Stokes_dRdt0.00mumps_ct1\t8/18/2024 5:18:07 PM\tf60205d1...\r\n",
       "#67: Popcorn2D_convergenceAggStokesSteadyFinal\tSolverTrue_J256_k1_Re1000_agg0.5_ti0.000atZ_r0.6_AMRFalse_LBFalse_W9.99_Stokes_dRdt0.00mumps_ct1\t8/18/2024 5:19:19 PM\t263db8c2...\r\n",
       "#68: Popcorn2D_convergenceAggStokesSteadyFinal\tSolverTrue_J256_k1_Re1000_agg0.4_ti0.000atZ_r0.6_AMRFalse_LBFalse_W9.99_Stokes_dRdt0.00mumps_ct1\t8/18/2024 5:19:05 PM\t771c9ecf...\r\n",
       "#69: Popcorn2D_convergenceAggStokesSteadyFinal\tSolverTrue_J256_k1_Re1000_agg0.3_ti0.000atZ_r0.6_AMRFalse_LBFalse_W9.99_Stokes_dRdt0.00mumps_ct1\t8/18/2024 5:18:51 PM\tf6a3fc87...\r\n",
       "#70: Popcorn2D_convergenceAggStokesSteadyFinal\tSolverTrue_J256_k1_Re1000_agg0.2_ti0.000atZ_r0.6_AMRFalse_LBFalse_W9.99_Stokes_dRdt0.00mumps_ct1\t8/18/2024 5:18:36 PM\t434c7a36...\r\n",
       "#71: Popcorn2D_convergenceAggStokesSteadyFinal\tSolverTrue_J256_k1_Re1000_agg0.1_ti0.000atZ_r0.6_AMRFalse_LBFalse_W9.99_Stokes_dRdt0.00mumps_ct1\t8/18/2024 5:18:21 PM\t60514454...\r\n"
      ]
     },
     "metadata": {},
     "output_type": "display_data"
    }
   ],
   "source": [
    "wmg.DefaultDatabase.Sessions"
   ]
  },
  {
   "cell_type": "code",
   "execution_count": null,
   "metadata": {
    "dotnet_interactive": {
     "language": "csharp"
    },
    "polyglot_notebook": {
     "kernelName": "csharp"
    }
   },
   "outputs": [],
   "source": []
  }
 ],
 "metadata": {
  "kernelspec": {
   "display_name": ".NET (C#)",
   "language": "C#",
   "name": ".net-csharp"
  },
  "language_info": {
   "name": "polyglot-notebook"
  },
  "polyglot_notebook": {
   "kernelInfo": {
    "defaultKernelName": "csharp",
    "items": [
     {
      "aliases": [],
      "name": ".NET"
     },
     {
      "aliases": [
       "C#",
       "c#"
      ],
      "languageName": "C#",
      "name": "csharp"
     },
     {
      "aliases": [
       "F#",
       "f#"
      ],
      "languageName": "F#",
      "name": "fsharp"
     },
     {
      "aliases": [],
      "languageName": "HTML",
      "name": "html"
     },
     {
      "aliases": [
       "js"
      ],
      "languageName": "JavaScript",
      "name": "javascript"
     },
     {
      "aliases": [],
      "languageName": "KQL",
      "name": "kql"
     },
     {
      "aliases": [],
      "languageName": "Mermaid",
      "name": "mermaid"
     },
     {
      "aliases": [
       "powershell"
      ],
      "languageName": "PowerShell",
      "name": "pwsh"
     },
     {
      "aliases": [],
      "languageName": "SQL",
      "name": "sql"
     },
     {
      "aliases": [],
      "name": "value"
     },
     {
      "aliases": [
       "frontend"
      ],
      "name": "vscode"
     },
     {
      "aliases": [],
      "name": "webview"
     }
    ]
   }
  }
 },
 "nbformat": 4,
 "nbformat_minor": 2
}

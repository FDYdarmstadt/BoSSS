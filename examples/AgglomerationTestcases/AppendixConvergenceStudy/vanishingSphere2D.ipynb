{
 "cells": [
  {
   "attachments": {},
   "cell_type": "markdown",
   "metadata": {},
   "source": [
    "# Vanishing Sphere (Reducing radius over time)\n",
    "Initialize BoSSS"
   ]
  },
  {
   "cell_type": "code",
   "execution_count": 1,
   "metadata": {
    "dotnet_interactive": {
     "language": "csharp"
    },
    "polyglot_notebook": {
     "kernelName": "csharp"
    }
   },
   "outputs": [],
   "source": [
    "#r \"./../../../../../public/src/L4-application/BoSSSpad/bin/Release/net6.0/BoSSSpad.dll\"\n",
    "using System;\n",
    "using System.Threading;\n",
    "using System.Diagnostics;\n",
    "using ilPSP;\n",
    "using ilPSP.Utils;\n",
    "using BoSSS.Platform;\n",
    "using BoSSS.Foundation;\n",
    "using BoSSS.Foundation.XDG;\n",
    "using BoSSS.Foundation.Grid;\n",
    "using BoSSS.Solution;\n",
    "using BoSSS.Application.XNSE_Solver;\n",
    "using BoSSS.Application.BoSSSpad;\n",
    "using BoSSS.Foundation.Grid.Classic;\n",
    "using BoSSS.Foundation.IO;\n",
    "using BoSSS.Solution.AdvancedSolvers;\n",
    "using BoSSS.Solution.Control;\n",
    "using BoSSS.Solution.XNSECommon;\n",
    "using BoSSS.Solution.NSECommon;\n",
    "using BoSSS.Solution.LoadBalancing;\n",
    "using BoSSS.Solution.LevelSetTools;\n",
    "using BoSSS.Solution.XdgTimestepping;\n",
    "using BoSSS.Solution.Utils;\n",
    "using System.IO;\n",
    "using BoSSS.Application.XNSE_Solver.PhysicalBasedTestcases;\n",
    "using static BoSSS.Application.BoSSSpad.BoSSSshell;\n",
    "Init();"
   ]
  },
  {
   "cell_type": "code",
   "execution_count": 2,
   "metadata": {
    "dotnet_interactive": {
     "language": "csharp"
    },
    "polyglot_notebook": {
     "kernelName": "csharp"
    }
   },
   "outputs": [],
   "source": [
    "// Is used at Jenkins to generate individual names (for output .json)\n",
    "string dbname = System.Environment.GetEnvironmentVariable(\"DATABASE_NAME\");\n",
    "string buildname = System.Environment.GetEnvironmentVariable(\"JOB_NAME\");\n",
    "//defaults\n",
    "buildname = String.IsNullOrEmpty(buildname)? \"VanishingSphere2D\" : buildname;\n",
    "//string thedate = $\"{System.DateTime.Today.Day}-{System.DateTime.Today.Month}-{System.DateTime.Today.Year}\";\n",
    "dbname = String.IsNullOrEmpty(dbname)? \"convergenceAggSteadyStokesExactBC\" : dbname; //Collison´2\n",
    "string table_name = String.Concat(buildname, \"_\", dbname);"
   ]
  },
  {
   "cell_type": "code",
   "execution_count": 3,
   "metadata": {
    "dotnet_interactive": {
     "language": "csharp"
    },
    "polyglot_notebook": {
     "kernelName": "csharp"
    }
   },
   "outputs": [
    {
     "data": {
      "text/html": [
       "<table><thead><tr><th><i>index</i></th><th><i>type</i></th><th>value</th></tr></thead><tbody><tr><td>0</td><td>BoSSS.Application.BoSSSpad.SlurmClient</td><td>SlurmClient q0-Lichtenberg user storage : mt64qocy@lcluster18.hrz.tu-darmstadt.de, Slurm account: special00006</td></tr><tr><td>1</td><td>BoSSS.Application.BoSSSpad.SlurmClient</td><td>SlurmClient q1-Lichtenberg scratch : mt64qocy@lcluster14.hrz.tu-darmstadt.de, Slurm account: special00006</td></tr><tr><td>2</td><td>BoSSS.Application.BoSSSpad.MsHPC2012Client</td><td>MS HPC client  q2-BoSSS-Convergence @DC3, @\\\\dc3\\userspace\\toprak\\BoSSS-Convergence</td></tr><tr><td>3</td><td>BoSSS.Application.BoSSSpad.MsHPC2012Client</td><td>MS HPC client  q3-BoSSS-ConvergenceFinal @DC3, @\\\\dc3\\userspace\\toprak\\BoSSS-ConvergenceFinal</td></tr><tr><td>4</td><td>BoSSS.Application.BoSSSpad.MsHPC2012Client</td><td>MS HPC client  q4-BoSSS-ConditionFinal @DC3, @\\\\dc3\\userspace\\toprak\\BoSSS-ConditionFinal</td></tr><tr><td>5</td><td>BoSSS.Application.BoSSSpad.MsHPC2012Client</td><td>MS HPC client  q5-BoSSS-ConvSteadyFinal @DC3, @\\\\dc3\\userspace\\toprak\\BoSSS-ConvSteadyFinal</td></tr><tr><td>6</td><td>BoSSS.Application.BoSSSpad.MiniBatchProcessorClient</td><td>MiniBatchProcessor client  LocalPC @C:\\localBatch</td></tr></tbody></table><style>\r\n",
       ".dni-code-hint {\r\n",
       "    font-style: italic;\r\n",
       "    overflow: hidden;\r\n",
       "    white-space: nowrap;\r\n",
       "}\r\n",
       ".dni-treeview {\r\n",
       "    white-space: nowrap;\r\n",
       "}\r\n",
       ".dni-treeview td {\r\n",
       "    vertical-align: top;\r\n",
       "    text-align: start;\r\n",
       "}\r\n",
       "details.dni-treeview {\r\n",
       "    padding-left: 1em;\r\n",
       "}\r\n",
       "table td {\r\n",
       "    text-align: start;\r\n",
       "}\r\n",
       "table tr { \r\n",
       "    vertical-align: top; \r\n",
       "    margin: 0em 0px;\r\n",
       "}\r\n",
       "table tr td pre \r\n",
       "{ \r\n",
       "    vertical-align: top !important; \r\n",
       "    margin: 0em 0px !important;\r\n",
       "} \r\n",
       "table th {\r\n",
       "    text-align: start;\r\n",
       "}\r\n",
       "</style>"
      ]
     },
     "metadata": {},
     "output_type": "display_data"
    }
   ],
   "source": [
    "ExecutionQueues"
   ]
  },
  {
   "cell_type": "code",
   "execution_count": 4,
   "metadata": {
    "dotnet_interactive": {
     "language": "csharp"
    },
    "polyglot_notebook": {
     "kernelName": "csharp"
    }
   },
   "outputs": [
    {
     "name": "stdout",
     "output_type": "stream",
     "text": [
      "Project name is set to 'VanishingSphere2D_convergenceAggSteadyStokesExactBC'.\n",
      "Opening existing database '\\\\dc3\\userspace\\toprak\\BoSSS-ConvSteadyFinal\\VanishingSphere2D_convergenceAggSteadyStokesExactBC'.\n"
     ]
    },
    {
     "data": {
      "text/plain": [
       "{ Session Count = 30; Grid Count = 10; Path = \\\\dc3\\userspace\\toprak\\BoSSS-ConvSteadyFinal\\VanishingSphere2D_convergenceAggSteadyStokesExactBC }"
      ]
     },
     "metadata": {},
     "output_type": "display_data"
    }
   ],
   "source": [
    "var myBatch = ExecutionQueues[5];\n",
    "string WFlowName = table_name;\n",
    "BoSSS.Application.BoSSSpad.BoSSSshell.WorkflowMgm.Init(WFlowName,myBatch);\n",
    "BoSSS.Application.BoSSSpad.BoSSSshell.WorkflowMgm.SetNameBasedSessionJobControlCorrelation();\n",
    "var myDB = BoSSS.Application.BoSSSpad.BoSSSshell.WorkflowMgm.DefaultDatabase; \n",
    "myDB"
   ]
  },
  {
   "cell_type": "code",
   "execution_count": 5,
   "metadata": {
    "dotnet_interactive": {
     "language": "csharp"
    },
    "polyglot_notebook": {
     "kernelName": "csharp"
    }
   },
   "outputs": [],
   "source": [
    "int SpaceDim = 2;\n",
    "double _partRad = 0.6;\n",
    "var Gshape = Shape.Sphere;"
   ]
  },
  {
   "cell_type": "code",
   "execution_count": 6,
   "metadata": {
    "dotnet_interactive": {
     "language": "csharp"
    },
    "polyglot_notebook": {
     "kernelName": "csharp"
    }
   },
   "outputs": [],
   "source": [
    "// set parameterz\n",
    "int[] core_sweep = { 1};\n",
    "int[] PolyDegS = new int[] {1, 2, 3};\n",
    "int[] ResArray = new int[] {15, 30, 60, 120, 240};"
   ]
  },
  {
   "cell_type": "code",
   "execution_count": 7,
   "metadata": {
    "dotnet_interactive": {
     "language": "csharp"
    },
    "polyglot_notebook": {
     "kernelName": "csharp"
    }
   },
   "outputs": [],
   "source": [
    "int NoOfTimeSteps = 320;\n",
    "bool Steady = true;\n",
    "bool IncludeConvection = false;"
   ]
  },
  {
   "attachments": {},
   "cell_type": "markdown",
   "metadata": {},
   "source": [
    "# Grid"
   ]
  },
  {
   "cell_type": "code",
   "execution_count": 8,
   "metadata": {
    "dotnet_interactive": {
     "language": "csharp"
    },
    "polyglot_notebook": {
     "kernelName": "csharp"
    }
   },
   "outputs": [],
   "source": [
    "double xMax = 1, yMax = 1, zMax = 1;\n",
    "double xMin = -1, yMin = -1, zMin = -1;\n"
   ]
  },
  {
   "cell_type": "code",
   "execution_count": 9,
   "metadata": {
    "dotnet_interactive": {
     "language": "csharp"
    },
    "polyglot_notebook": {
     "kernelName": "csharp"
    }
   },
   "outputs": [
    {
     "name": "stdout",
     "output_type": "stream",
     "text": [
      "Looking for SphereMerger2D_1BCs with 225 cells\n",
      "Found SphereMerger2D_1BCs with 57600 cells on the database\n",
      "Found SphereMerger2D_1BCs with 14400 cells on the database\n",
      "Found SphereMerger2D_1BCs with 3600 cells on the database\n",
      "Found SphereMerger2D_1BCs with 900 cells on the database\n",
      "Found SphereMerger2D_1BCs with 225 cells on the database\n",
      "Found SphereMerger2D_1BCs with 57600 cells on the database\n",
      "Found SphereMerger2D_1BCs with 14400 cells on the database\n",
      "Found SphereMerger2D_1BCs with 3600 cells on the database\n",
      "Found SphereMerger2D_1BCs with 900 cells on the database\n",
      "Found SphereMerger2D_1BCs with 225 cells on the database\n",
      "Found 2 times grids with the same configuration for the Res=15\n",
      "Chosing the first one found: SphereMerger2D_1BCs\n",
      "Looking for SphereMerger2D_1BCs with 900 cells\n",
      "Found SphereMerger2D_1BCs with 57600 cells on the database\n",
      "Found SphereMerger2D_1BCs with 14400 cells on the database\n",
      "Found SphereMerger2D_1BCs with 3600 cells on the database\n",
      "Found SphereMerger2D_1BCs with 900 cells on the database\n",
      "Found SphereMerger2D_1BCs with 225 cells on the database\n",
      "Found SphereMerger2D_1BCs with 57600 cells on the database\n",
      "Found SphereMerger2D_1BCs with 14400 cells on the database\n",
      "Found SphereMerger2D_1BCs with 3600 cells on the database\n",
      "Found SphereMerger2D_1BCs with 900 cells on the database\n",
      "Found SphereMerger2D_1BCs with 225 cells on the database\n",
      "Found 2 times grids with the same configuration for the Res=30\n",
      "Chosing the first one found: SphereMerger2D_1BCs\n",
      "Looking for SphereMerger2D_1BCs with 3600 cells\n",
      "Found SphereMerger2D_1BCs with 57600 cells on the database\n",
      "Found SphereMerger2D_1BCs with 14400 cells on the database\n",
      "Found SphereMerger2D_1BCs with 3600 cells on the database\n",
      "Found SphereMerger2D_1BCs with 900 cells on the database\n",
      "Found SphereMerger2D_1BCs with 225 cells on the database\n",
      "Found SphereMerger2D_1BCs with 57600 cells on the database\n",
      "Found SphereMerger2D_1BCs with 14400 cells on the database\n",
      "Found SphereMerger2D_1BCs with 3600 cells on the database\n",
      "Found SphereMerger2D_1BCs with 900 cells on the database\n",
      "Found SphereMerger2D_1BCs with 225 cells on the database\n",
      "Found 2 times grids with the same configuration for the Res=60\n",
      "Chosing the first one found: SphereMerger2D_1BCs\n",
      "Looking for SphereMerger2D_1BCs with 14400 cells\n",
      "Found SphereMerger2D_1BCs with 57600 cells on the database\n",
      "Found SphereMerger2D_1BCs with 14400 cells on the database\n",
      "Found SphereMerger2D_1BCs with 3600 cells on the database\n",
      "Found SphereMerger2D_1BCs with 900 cells on the database\n",
      "Found SphereMerger2D_1BCs with 225 cells on the database\n",
      "Found SphereMerger2D_1BCs with 57600 cells on the database\n",
      "Found SphereMerger2D_1BCs with 14400 cells on the database\n",
      "Found SphereMerger2D_1BCs with 3600 cells on the database\n",
      "Found SphereMerger2D_1BCs with 900 cells on the database\n",
      "Found SphereMerger2D_1BCs with 225 cells on the database\n",
      "Found 2 times grids with the same configuration for the Res=120\n",
      "Chosing the first one found: SphereMerger2D_1BCs\n",
      "Looking for SphereMerger2D_1BCs with 57600 cells\n",
      "Found SphereMerger2D_1BCs with 57600 cells on the database\n",
      "Found SphereMerger2D_1BCs with 14400 cells on the database\n",
      "Found SphereMerger2D_1BCs with 3600 cells on the database\n",
      "Found SphereMerger2D_1BCs with 900 cells on the database\n",
      "Found SphereMerger2D_1BCs with 225 cells on the database\n",
      "Found SphereMerger2D_1BCs with 57600 cells on the database\n",
      "Found SphereMerger2D_1BCs with 14400 cells on the database\n",
      "Found SphereMerger2D_1BCs with 3600 cells on the database\n",
      "Found SphereMerger2D_1BCs with 900 cells on the database\n",
      "Found SphereMerger2D_1BCs with 225 cells on the database\n",
      "Found 2 times grids with the same configuration for the Res=240\n",
      "Chosing the first one found: SphereMerger2D_1BCs\n",
      "\n",
      "The grids to be simulated:\n"
     ]
    },
    {
     "data": {
      "text/plain": [
       "#0: { Guid = 8c288de8-9725-42da-b8af-5e92905f7e99; Name = SphereMerger2D_1BCs; Cell Count = 225; Dim = 2 }\r\n",
       "#1: { Guid = 0602948d-d3f4-4ae8-88a8-d380fb4b3420; Name = SphereMerger2D_1BCs; Cell Count = 900; Dim = 2 }\r\n",
       "#2: { Guid = a65b8da8-6d2e-4e17-8d6f-5d2c1476a17f; Name = SphereMerger2D_1BCs; Cell Count = 3600; Dim = 2 }\r\n",
       "#3: { Guid = 198b57b3-9137-4e60-a96a-4110ed3baf49; Name = SphereMerger2D_1BCs; Cell Count = 14400; Dim = 2 }\r\n",
       "#4: { Guid = 522a1fba-e0c5-4c12-9f7b-79f8942e5aab; Name = SphereMerger2D_1BCs; Cell Count = 57600; Dim = 2 }\r\n"
      ]
     },
     "metadata": {},
     "output_type": "display_data"
    }
   ],
   "source": [
    "List<IGridInfo> Grids = new List<IGridInfo>();\n",
    "if (SpaceDim ==2){\n",
    "foreach(var Res in ResArray){\n",
    "\n",
    "    var _xNodes = GenericBlas.Linspace(xMin, xMax, Res + 1);\n",
    "    var _yNodes = GenericBlas.Linspace(yMin, yMax, Res + 1);\n",
    "\n",
    "    GridCommons grd;\n",
    "    string gname = \"SphereMerger2D_1BCs\";\n",
    "\n",
    "    Console.WriteLine(\"Looking for {0} with {1} cells\",gname,(_xNodes.Length-1)*(_yNodes.Length-1));\n",
    "\n",
    "    var tmp = new List<IGridInfo>();\n",
    "\n",
    "    foreach(var grid in myDB.Grids){\n",
    "        try{\n",
    "            if (String.IsNullOrEmpty(grid.Name))\n",
    "                continue;\n",
    "                //grid.Name = \"Null\";\n",
    "            Console.WriteLine(\"Found {0} with {1} cells on the database\",grid.Name,grid.NumberOfCells);\n",
    "            bool IsMatch = grid.Name.Equals(gname)&&grid.NumberOfCells==(_xNodes.Length-1)*(_yNodes.Length-1);\n",
    "            if(IsMatch) tmp.Add(grid);\n",
    "        }\n",
    "        catch(Exception ex) {\n",
    "            Console.WriteLine(ex.Message);\n",
    "        }\n",
    "    }\n",
    "    Console.WriteLine(\"Found {0} times grids with the same configuration for the Res={1}\",tmp.Count,Res);\n",
    "    \n",
    "    if(tmp.Count() >= 1){\n",
    "        Console.WriteLine(\"Chosing the first one found: \"+tmp.Pick(0).Name);\n",
    "        Grids.Add(tmp.Pick(0));\n",
    "        continue;\n",
    "    }else{\n",
    "\n",
    "        grd = Grid2D.Cartesian2DGrid(_xNodes, _yNodes);\n",
    "\n",
    "    \n",
    "        grd.Name = gname;\n",
    "\n",
    "        grd.EdgeTagNames.Add(1, \"Velocity_Inlet\");\n",
    "        grd.DefineEdgeTags(delegate (double[] X) {\n",
    "            return 1;\n",
    "        });\n",
    "                \n",
    "    myDB.SaveGrid(ref grd);\n",
    "    Grids.Add(grd);\n",
    "    }\n",
    "    \n",
    "}\n",
    "Console.WriteLine(\"\\nThe grids to be simulated:\");\n",
    "}\n",
    "Grids\n"
   ]
  },
  {
   "cell_type": "code",
   "execution_count": 10,
   "metadata": {
    "dotnet_interactive": {
     "language": "csharp"
    },
    "polyglot_notebook": {
     "kernelName": "csharp"
    }
   },
   "outputs": [
    {
     "data": {
      "text/plain": [
       "#0: { Guid = 8c288de8-9725-42da-b8af-5e92905f7e99; Name = SphereMerger2D_1BCs; Cell Count = 225; Dim = 2 }\r\n",
       "#1: { Guid = 0602948d-d3f4-4ae8-88a8-d380fb4b3420; Name = SphereMerger2D_1BCs; Cell Count = 900; Dim = 2 }\r\n",
       "#2: { Guid = a65b8da8-6d2e-4e17-8d6f-5d2c1476a17f; Name = SphereMerger2D_1BCs; Cell Count = 3600; Dim = 2 }\r\n",
       "#3: { Guid = 198b57b3-9137-4e60-a96a-4110ed3baf49; Name = SphereMerger2D_1BCs; Cell Count = 14400; Dim = 2 }\r\n",
       "#4: { Guid = 522a1fba-e0c5-4c12-9f7b-79f8942e5aab; Name = SphereMerger2D_1BCs; Cell Count = 57600; Dim = 2 }\r\n"
      ]
     },
     "metadata": {},
     "output_type": "display_data"
    }
   ],
   "source": [
    "if (SpaceDim ==3){\n",
    "foreach(var Res in ResArray){\n",
    "\n",
    "    var _xNodes = GenericBlas.Linspace(xMin, xMax, Res + 1);\n",
    "    var _yNodes = GenericBlas.Linspace(yMin, yMax, Res + 1);\n",
    "    var _zNodes = GenericBlas.Linspace(zMin, zMax, Res + 1);\n",
    "\n",
    "    GridCommons grd;\n",
    "    string gname = \"SphereMerger_3D_1BCs\";\n",
    "\n",
    "    Console.WriteLine(\"Looking for {0} with {1} cells\",gname,(_xNodes.Length-1)*(_yNodes.Length-1)*(_zNodes.Length-1));\n",
    "\n",
    "    var tmp = new List<IGridInfo>();\n",
    "\n",
    "    foreach(var grid in myDB.Grids){\n",
    "        try{\n",
    "            if (String.IsNullOrEmpty(grid.Name))\n",
    "                continue;\n",
    "                //grid.Name = \"Null\";\n",
    "            Console.WriteLine(\"Found {0} with {1} cells on the database\",grid.Name,grid.NumberOfCells);\n",
    "            bool IsMatch = grid.Name.Equals(gname)&&grid.NumberOfCells==(_xNodes.Length-1)*(_yNodes.Length-1)*(_zNodes.Length-1);\n",
    "            if(IsMatch) tmp.Add(grid);\n",
    "        }\n",
    "        catch(Exception ex) {\n",
    "            Console.WriteLine(ex.Message);\n",
    "        }\n",
    "    }\n",
    "    Console.WriteLine(\"Found {0} times grids with the same configuration for the Res={1}\",tmp.Count,Res);\n",
    "    \n",
    "    if(tmp.Count() >= 1){\n",
    "        Console.WriteLine(\"Chosing the first one found: \"+tmp.Pick(0).Name);\n",
    "        Grids.Add(tmp.Pick(0));\n",
    "        continue;\n",
    "\n",
    "    }else{\n",
    "\n",
    "        grd = Grid3D.Cartesian3DGrid(_xNodes, _yNodes,_zNodes);   \n",
    "        grd.Name = gname;\n",
    "\n",
    "        grd.EdgeTagNames.Add(1, \"Velocity_Inlet\");\n",
    "        grd.DefineEdgeTags(delegate (double[] X) {\n",
    "            return 1;\n",
    "        });\n",
    "                \n",
    "    myDB.SaveGrid(ref grd);\n",
    "    Grids.Add(grd);\n",
    "    }\n",
    "    \n",
    "}\n",
    "Console.WriteLine(\"\\nThe grids to be simulated:\");\n",
    "}\n",
    "Grids\n"
   ]
  },
  {
   "attachments": {},
   "cell_type": "markdown",
   "metadata": {},
   "source": [
    "## Generate Control object\n",
    "\n",
    "### governing equations\n",
    "- incompressible transient Navier-Stokes:\n",
    "<br>$\\frac{\\partial \\rho \\vec{u}}{\\partial t}+ \\nabla \\cdot ( \\rho \\vec{u} \\otimes \\vec{u}) + \\nabla p - \\eta \\Delta \\vec{u} = \\vec{f} \\ \\ in \\ \\ \\Omega_F(t) \\times (0,T)$\n",
    "<br>$\\nabla \\cdot \\vec{u} = 0 \\quad in \\ \\ \\Omega_F(t) \\times (0,T)$\n",
    "- with inital conditions:\n",
    "<br>$\\vec{u}(\\vec{x},0)  =  \\vec{0} \\quad on \\ \\ \\Omega_F(0)$\n",
    "<br>$p(\\vec{x},0)  =  0 \\quad  on \\ \\ \\Omega_F(0)$\n",
    "- with boundary conditions:\n",
    "<br>$\\vec{u}(\\vec{x},t) = \\vec{u}_{body} = \\boldsymbol{\\omega}(t) \\times \\vec{r} \\quad on \\ \\ \\mathcal{J} = \\partial \\Omega_S \\cap \\partial \\Omega_F$\n",
    "<br>$p \\mathbf{I} - \\frac{1}{Re} \\nabla \\vec{u} \\vec{n}_{ \\Gamma_{pOut} } = 0 \\ \\ on \\ \\ \\Gamma_{pOut} = \\partial \\Omega \\backslash \\Gamma_{Inlet} $ \n",
    "\n",
    "\n",
    "\n",
    "- angular velocity of rotating sphere $\\boldsymbol{\\omega}(t)=\\frac{Re*\\mu_A}{\\rho_A*r_{p}*(2*r_p)}$"
   ]
  },
  {
   "cell_type": "code",
   "execution_count": 11,
   "metadata": {
    "dotnet_interactive": {
     "language": "csharp"
    },
    "polyglot_notebook": {
     "kernelName": "csharp"
    }
   },
   "outputs": [],
   "source": [
    "Func<IGridInfo, int,double, string, bool, bool, double, XNSE_Control> GenXNSECtrl = \n",
    "delegate(IGridInfo grd, int k, double viscosity, string RotAxis, bool AMR, bool LoadBalance, double AggThrs){\n",
    "    XNSE_Control C = new XNSE_Control();\n",
    "\n",
    "    // basic database options\n",
    "    // ======================\n",
    "    C.SetDatabase(myDB);\n",
    "    C.savetodb = true;\n",
    "    int J  = grd.NumberOfCells;\n",
    "\n",
    "    //Session Settings\n",
    "    C.GridGuid = grd.ID;\n",
    "    C.GridPartType = GridPartType.Hilbert;\n",
    "    C.ImmediatePlotPeriod = 1;\n",
    "    C.SuperSampling = 0;    \n",
    "\n",
    "    // Physical Parameters\n",
    "    // =================== \n",
    "    const double rhoA = 1;\n",
    "    const double Re = 500;\n",
    "    double muA = viscosity;\n",
    "    double partRad = _partRad;\n",
    "    double partDia = 2*partRad;\n",
    "    double VelocityMax = Re * muA / rhoA / partDia;\n",
    "    double anglev = VelocityMax / partRad;\n",
    "    double period = 2*Math.PI/anglev;\n",
    "    double ts = period/NoOfTimeSteps;\n",
    "    double[] pos = new double[SpaceDim];\n",
    "    string rotAxis= RotAxis ?? \"z\";\n",
    "    \n",
    "    C.PhysicalParameters.IncludeConvection = IncludeConvection;\n",
    "    C.PhysicalParameters.Material = true;\n",
    "    C.PhysicalParameters.rho_A = rhoA;\n",
    "    C.PhysicalParameters.mu_A = muA;\n",
    "\n",
    "    // Meta data\n",
    "    // ============    \n",
    "    C.SessionName = string.Format(\"J{0}_k{1}_agg{2}_AMR{3}_LB{4}_at{5}_r{6}_W{7:f2}_{8}D\",\n",
    "                     J, k,AggThrs,AMR,LoadBalance,rotAxis.ToUpper(),partRad,anglev,SpaceDim);\n",
    "\n",
    "    if(IncludeConvection){\n",
    "        C.SessionName += \"_NSE\";\n",
    "        C.Tags.Add(\"NSE\");\n",
    "    } else {\n",
    "        C.SessionName += \"_Stokes\";\n",
    "        C.Tags.Add(\"Stokes\");\n",
    "    }\n",
    "    C.Tags.Add(SpaceDim + \"D\");\n",
    "    if(Steady)C.Tags.Add(\"steady\");\n",
    "    else C.Tags.Add(\"transient\");\n",
    "\n",
    "    // DG degrees and configuration\n",
    "    // ==========\n",
    "    C.SetFieldOptions(k, Math.Max(k, 8)); // (velocity degree,level set) (pressure degree = k-1)\n",
    "    C.saveperiod = 10;\n",
    "    C.DynamicLoadBalancing_On = LoadBalance;\n",
    "    C.DynamicLoadBalancing_RedistributeAtStartup = false;\n",
    "    C.DynamicLoadBalancing_Period = 10;\n",
    "    C.DynamicLoadBalancing_ImbalanceThreshold = 0.1;\n",
    "\n",
    "    // rigid body and boundary conditions\n",
    "    // ===================\n",
    "    double rateOfRadius = Steady ? 0 : -1/(double)NoOfTimeSteps/ts;\n",
    "    C.Rigidbody.SetParameters(pos,anglev,partRad,SpaceDim, rateOfRadius: rateOfRadius, staticShape: Steady);\n",
    "    C.SessionName += $\"dRdt{rateOfRadius:f2}\";\n",
    "    C.Rigidbody.SpecifyShape(Gshape);\n",
    "    C.Rigidbody.SetRotationAxis(rotAxis);\n",
    "    C.UseImmersedBoundary = true;\n",
    "    C.Rigidbody.AssignExactSolutionForSteadyRotatingSphere();\n",
    "    // Set initial and boundary conditions\n",
    "    // ============\n",
    "    C.AddInitialValue(VariableNames.LevelSetCGidx(0), new Formula(\"X => -1\"));\n",
    "    C.AddInitialValue(\"Pressure\", new Formula(@\"X => 0\"));\n",
    "    \n",
    "    var codeVelX = $\"(X, t) => {-anglev*partRad*partRad}*X[1]/(X[0]*X[0]+X[1]*X[1])\";\n",
    "    var codeVelY = $\"(X, t) => {anglev*partRad*partRad}*X[0]/(X[0]*X[0]+X[1]*X[1])\";\n",
    "\n",
    "    C.AddBoundaryValue(\"Velocity_Inlet\", \"VelocityX\", new Formula(codeVelX,true));\n",
    "    C.AddBoundaryValue(\"Velocity_Inlet\", \"VelocityY\", new Formula(codeVelY,true));\n",
    "\n",
    "    // solver options\n",
    "    // ===================\n",
    "    C.CutCellQuadratureType = BoSSS.Foundation.XDG.XQuadFactoryHelper.MomentFittingVariants.Saye;\n",
    "    C.UseSchurBlockPrec = true;\n",
    "    C.AgglomerationThreshold = AggThrs;\n",
    "    C.AdvancedDiscretizationOptions.ViscosityMode = ViscosityMode.FullySymmetric;\n",
    "    C.Option_LevelSetEvolution2 = LevelSetEvolution.Prescribed;\n",
    "    C.Option_LevelSetEvolution = LevelSetEvolution.None; // idle level set (used for evolving LS)\n",
    "    C.Timestepper_LevelSetHandling = LevelSetHandling.LieSplitting;\n",
    "    C.LinearSolver = LinearSolverCode.direct_mumps.GetConfig(); //exp_Kcycle_schwarz.GetConfig();\n",
    "    C.SessionName += \"_MUMPS\";\n",
    "    C.NonLinearSolver.SolverCode = NonLinearSolverCode.Newton;\n",
    "    C.NonLinearSolver.ConvergenceCriterion = 0;\n",
    "    C.NonLinearSolver.MaxSolverIterations = 30;\n",
    "    C.NonLinearSolver.verbose = true;\n",
    "    C.AdaptiveMeshRefinement = AMR;\n",
    "\n",
    "    // Timestepping\n",
    "    // ============\n",
    "    double dt = -1;\n",
    "    if(Steady){\n",
    "        C.TimesteppingMode = AppControl._TimesteppingMode.Steady;\n",
    "        dt = Double.MaxValue;\n",
    "        C.NoOfTimesteps = 1;\n",
    "        C.SessionName += \"_Steady\";\n",
    "    } else {\n",
    "        C.TimesteppingMode = AppControl._TimesteppingMode.Transient;        \n",
    "        dt = ts;        \n",
    "        C.NoOfTimesteps = NoOfTimeSteps; \n",
    "    }\n",
    "    \n",
    "    C.TimeSteppingScheme = TimeSteppingScheme.ImplicitEuler; \n",
    "    C.dtFixed = dt;\n",
    "    C.SkipSolveAndEvaluateResidual = false; //to save computational time for condition study\n",
    "    C.SessionName = \"Solver\" + !C.SkipSolveAndEvaluateResidual + \"_\" + C.SessionName;\n",
    "    C.PlotAgglomeration = false;\n",
    "\n",
    "    // //Condition number study\n",
    "    // // ============\n",
    "    // var config = new OperatorAnalysisConfig();\n",
    "    // config.CalculateMassMatrix = true;\n",
    "    // config.CalculateGlobalConditionNumbers = true;\n",
    "    // config.CalculateStencilConditionNumbers = false;\n",
    "    // config.PlotStencilConditionNumbers = false;\n",
    "    // C.PostprocessingModules.Add(new BoSSS.Application.XNSE_Solver.Logging.CondLogger(config));\n",
    "    // C.SessionName += \"_condStudy\";\n",
    "\n",
    "\n",
    "    // L2 error with exact solution\n",
    "    // ============\n",
    "    C.PostprocessingModules.Add(new BoSSS.Application.XNSE_Solver.PhysicalBasedTestcases.L2ErrorLogger());\n",
    "    //C.SessionName += \"_re\";\n",
    "\n",
    "    // reference values (hardcoded)\n",
    "    // C.ExactSolutionVelocity = new Dictionary<string, Func<double[], double, double>[]>();\n",
    "    // C.ExactSolutionPressure = new Dictionary<string, Func<double[], double, double>>();    \n",
    "\n",
    "    // var code = $\"(X, t) => {-anglev*partRad*partRad}*X[1]/(X[0]*X[0]+X[1]*X[1]), (X, t) => {anglev*partRad*partRad}*X[0]/(X[0]*X[0]+X[1]*X[1])\";\n",
    "    \n",
    "    // var my_formula =  new Formula(code);\n",
    "    // C.ExactSolutionVelocity.Add(\"A\", new Func<double[], double, double>[] { (X, t) => -anglev*partRad*partRad*X[1]/(X[0]*X[0]+X[1]*X[1]), (X, t) => anglev*partRad*partRad*X[0]/(X[0]*X[0]+X[1]*X[1]) });\n",
    "\n",
    "    // C.ExactSolutionVelocity.Add(\"C\", new Func<double[], double, double>[] { (X, t) => 0, (X, t) => 0 });\n",
    "    return C;    \n",
    "};"
   ]
  },
  {
   "cell_type": "code",
   "execution_count": 12,
   "metadata": {
    "dotnet_interactive": {
     "language": "csharp"
    },
    "polyglot_notebook": {
     "kernelName": "csharp"
    }
   },
   "outputs": [],
   "source": [
    "//GenXNSECtrl(Grids[0],1,1,\"z\",false,false,0)"
   ]
  },
  {
   "cell_type": "markdown",
   "metadata": {},
   "source": [
    "# Submit jobs into cluster\n",
    "Create the control objects for the sessions"
   ]
  },
  {
   "cell_type": "code",
   "execution_count": 13,
   "metadata": {
    "dotnet_interactive": {
     "language": "csharp"
    },
    "polyglot_notebook": {
     "kernelName": "csharp"
    }
   },
   "outputs": [],
   "source": [
    "var ViscositySweep = new double[]{1E-2};\n",
    "var axes = new string[]{\"z\"};\n",
    "var AMRarray = new bool[] {false};\n",
    "var LoadBalancearray = new bool[] {false};\n",
    "var aggThresolds = new double[] {0.2, 0.3, 0.4, 0.5};\n",
    "\n",
    "List<XNSE_Control> controls = new List<XNSE_Control>();\n",
    "foreach(IGridInfo grd in Grids)\n",
    "    foreach(int k in PolyDegS)\n",
    "            foreach(double v in ViscositySweep)\n",
    "                foreach(string axis in axes)\n",
    "                    foreach(bool AMR in AMRarray)\n",
    "                        foreach(bool LoadBalance in LoadBalancearray)\n",
    "                            foreach(double agg in aggThresolds)\n",
    "            {\n",
    "                controls.Add(GenXNSECtrl(grd,k,v,axis,AMR,LoadBalance,agg));\n",
    "            }\n"
   ]
  },
  {
   "cell_type": "markdown",
   "metadata": {},
   "source": [
    "List sessions to be submitted"
   ]
  },
  {
   "cell_type": "code",
   "execution_count": 14,
   "metadata": {
    "dotnet_interactive": {
     "language": "csharp"
    },
    "polyglot_notebook": {
     "kernelName": "csharp"
    }
   },
   "outputs": [
    {
     "name": "stdout",
     "output_type": "stream",
     "text": [
      "Total Number of Control Files: 60\r\n"
     ]
    },
    {
     "data": {
      "text/plain": [
       "List of 60 instances of XNSE_Control {\r\n",
       "  0: BoSSS.Application.XNSE_Solver.XNSE_Control\r\n",
       "  1: BoSSS.Application.XNSE_Solver.XNSE_Control\r\n",
       "  2: BoSSS.Application.XNSE_Solver.XNSE_Control\r\n",
       "  3: BoSSS.Application.XNSE_Solver.XNSE_Control\r\n",
       "  4: BoSSS.Application.XNSE_Solver.XNSE_Control\r\n",
       "  5: BoSSS.Application.XNSE_Solver.XNSE_Control\r\n",
       "  6: BoSSS.Application.XNSE_Solver.XNSE_Control\r\n",
       "  7: BoSSS.Application.XNSE_Solver.XNSE_Control\r\n",
       "  8: BoSSS.Application.XNSE_Solver.XNSE_Control\r\n",
       "  9: BoSSS.Application.XNSE_Solver.XNSE_Control\r\n",
       "  10: BoSSS.Application.XNSE_Solver.XNSE_Control\r\n",
       "  11: BoSSS.Application.XNSE_Solver.XNSE_Control\r\n",
       "  12: BoSSS.Application.XNSE_Solver.XNSE_Control\r\n",
       "  13: BoSSS.Application.XNSE_Solver.XNSE_Control\r\n",
       "  14: BoSSS.Application.XNSE_Solver.XNSE_Control\r\n",
       "  15: BoSSS.Application.XNSE_Solver.XNSE_Control\r\n",
       "  16: BoSSS.Application.XNSE_Solver.XNSE_Control\r\n",
       "  17: BoSSS.Application.XNSE_Solver.XNSE_Control\r\n",
       "  18: BoSSS.Application.XNSE_Solver.XNSE_Control\r\n",
       "  19: BoSSS.Application.XNSE_Solver.XNSE_Control\r\n",
       "  20: BoSSS.Application.XNSE_Solver.XNSE_Control\r\n",
       "  21: BoSSS.Application.XNSE_Solver.XNSE_Control\r\n",
       "  22: BoSSS.Application.XNSE_Solver.XNSE_Control\r\n",
       "  23: BoSSS.Application.XNSE_Solver.XNSE_Control\r\n",
       "  24: BoSSS.Application.XNSE_Solver.XNSE_Control\r\n",
       "  25: BoSSS.Application.XNSE_Solver.XNSE_Control\r\n",
       "  26: BoSSS.Application.XNSE_Solver.XNSE_Control\r\n",
       "  27: BoSSS.Application.XNSE_Solver.XNSE_Control\r\n",
       "  28: BoSSS.Application.XNSE_Solver.XNSE_Control\r\n",
       "  29: BoSSS.Application.XNSE_Solver.XNSE_Control\r\n",
       "  30: BoSSS.Application.XNSE_Solver.XNSE_Control\r\n",
       "  31: BoSSS.Application.XNSE_Solver.XNSE_Control\r\n",
       "  32: BoSSS.Application.XNSE_Solver.XNSE_Control\r\n",
       "  33: BoSSS.Application.XNSE_Solver.XNSE_Control\r\n",
       "  34: BoSSS.Application.XNSE_Solver.XNSE_Control\r\n",
       "  35: BoSSS.Application.XNSE_Solver.XNSE_Control\r\n",
       "  36: BoSSS.Application.XNSE_Solver.XNSE_Control\r\n",
       "  37: BoSSS.Application.XNSE_Solver.XNSE_Control\r\n",
       "  38: BoSSS.Application.XNSE_Solver.XNSE_Control\r\n",
       "  39: BoSSS.Application.XNSE_Solver.XNSE_Control\r\n",
       "  40: BoSSS.Application.XNSE_Solver.XNSE_Control\r\n",
       "  41: BoSSS.Application.XNSE_Solver.XNSE_Control\r\n",
       "  42: BoSSS.Application.XNSE_Solver.XNSE_Control\r\n",
       "  43: BoSSS.Application.XNSE_Solver.XNSE_Control\r\n",
       "  44: BoSSS.Application.XNSE_Solver.XNSE_Control\r\n",
       "  45: BoSSS.Application.XNSE_Solver.XNSE_Control\r\n",
       "  46: BoSSS.Application.XNSE_Solver.XNSE_Control\r\n",
       "  47: BoSSS.Application.XNSE_Solver.XNSE_Control\r\n",
       "  48: BoSSS.Application.XNSE_Solver.XNSE_Control\r\n",
       "  49: BoSSS.Application.XNSE_Solver.XNSE_Control\r\n",
       "  50: BoSSS.Application.XNSE_Solver.XNSE_Control\r\n",
       "  51: BoSSS.Application.XNSE_Solver.XNSE_Control\r\n",
       "  52: BoSSS.Application.XNSE_Solver.XNSE_Control\r\n",
       "  53: BoSSS.Application.XNSE_Solver.XNSE_Control\r\n",
       "  54: BoSSS.Application.XNSE_Solver.XNSE_Control\r\n",
       "  55: BoSSS.Application.XNSE_Solver.XNSE_Control\r\n",
       "  56: BoSSS.Application.XNSE_Solver.XNSE_Control\r\n",
       "  57: BoSSS.Application.XNSE_Solver.XNSE_Control\r\n",
       "  58: BoSSS.Application.XNSE_Solver.XNSE_Control\r\n",
       "  59: BoSSS.Application.XNSE_Solver.XNSE_Control\r\n",
       "}"
      ]
     },
     "metadata": {},
     "output_type": "display_data"
    }
   ],
   "source": [
    "Console.WriteLine($\"Total Number of Control Files: {controls.Count}\");\n",
    "controls.Summary()"
   ]
  },
  {
   "cell_type": "markdown",
   "metadata": {},
   "source": [
    "Submit jobs"
   ]
  },
  {
   "cell_type": "code",
   "execution_count": 15,
   "metadata": {
    "dotnet_interactive": {
     "language": "csharp"
    },
    "polyglot_notebook": {
     "kernelName": "csharp"
    }
   },
   "outputs": [
    {
     "name": "stdout",
     "output_type": "stream",
     "text": [
      "Deployments so far (0): ;\n",
      "Success: 0\n",
      "job submit count: 0\n"
     ]
    },
    {
     "name": "stderr",
     "output_type": "stream",
     "text": [
      "unable to determine job status - unknown\r\n"
     ]
    },
    {
     "name": "stdout",
     "output_type": "stream",
     "text": [
      "Deploying job VanishingSphere_SolverTrue_J225_k1_agg0.2_AMRFalse_LBFalse_atZ_r0.6_W6.94_2D_StokesdRdt0.00_MUMPS_Steady_ct1 ... \n",
      "Deploying executables and additional files ...\n",
      "Deployment directory: \\\\dc3\\userspace\\toprak\\BoSSS-ConvSteadyFinal\\VanishingSphere2D_convergenceAggSteadyStokesExactBC-XNSE_Solver2024Aug20_124835.242803\n",
      "copied 43 files.\n",
      "   written file: control.obj\n",
      "   copied 'win\\amd64' runtime.\n",
      "deployment finished.\n",
      "Submitted 0th \n",
      "\n",
      "Deployments so far (0): ;\n",
      "Success: 0\n",
      "job submit count: 0\n"
     ]
    },
    {
     "name": "stderr",
     "output_type": "stream",
     "text": [
      "unable to determine job status - unknown\r\n"
     ]
    },
    {
     "name": "stdout",
     "output_type": "stream",
     "text": [
      "Deploying job VanishingSphere_SolverTrue_J225_k1_agg0.3_AMRFalse_LBFalse_atZ_r0.6_W6.94_2D_StokesdRdt0.00_MUMPS_Steady_ct1 ... \n",
      "Deploying executables and additional files ...\n",
      "Deployment directory: \\\\dc3\\userspace\\toprak\\BoSSS-ConvSteadyFinal\\VanishingSphere2D_convergenceAggSteadyStokesExactBC-XNSE_Solver2024Aug20_124849.853049\n",
      "copied 43 files.\n",
      "   written file: control.obj\n",
      "   copied 'win\\amd64' runtime.\n",
      "deployment finished.\n",
      "Submitted 1th \n",
      "\n",
      "Deployments so far (0): ;\n",
      "Success: 0\n",
      "job submit count: 0\n"
     ]
    },
    {
     "name": "stderr",
     "output_type": "stream",
     "text": [
      "unable to determine job status - unknown\r\n"
     ]
    },
    {
     "name": "stdout",
     "output_type": "stream",
     "text": [
      "Deploying job VanishingSphere_SolverTrue_J225_k1_agg0.4_AMRFalse_LBFalse_atZ_r0.6_W6.94_2D_StokesdRdt0.00_MUMPS_Steady_ct1 ... \n",
      "Deploying executables and additional files ...\n",
      "Deployment directory: \\\\dc3\\userspace\\toprak\\BoSSS-ConvSteadyFinal\\VanishingSphere2D_convergenceAggSteadyStokesExactBC-XNSE_Solver2024Aug20_124904.558839\n",
      "copied 43 files.\n",
      "   written file: control.obj\n",
      "   copied 'win\\amd64' runtime.\n",
      "deployment finished.\n",
      "Submitted 2th \n",
      "\n",
      "Deployments so far (0): ;\n",
      "Success: 0\n",
      "job submit count: 0\n"
     ]
    },
    {
     "name": "stderr",
     "output_type": "stream",
     "text": [
      "unable to determine job status - unknown\r\n"
     ]
    },
    {
     "name": "stdout",
     "output_type": "stream",
     "text": [
      "Deploying job VanishingSphere_SolverTrue_J225_k1_agg0.5_AMRFalse_LBFalse_atZ_r0.6_W6.94_2D_StokesdRdt0.00_MUMPS_Steady_ct1 ... \n",
      "Deploying executables and additional files ...\n",
      "Deployment directory: \\\\dc3\\userspace\\toprak\\BoSSS-ConvSteadyFinal\\VanishingSphere2D_convergenceAggSteadyStokesExactBC-XNSE_Solver2024Aug20_124918.545872\n",
      "copied 43 files.\n",
      "   written file: control.obj\n",
      "   copied 'win\\amd64' runtime.\n",
      "deployment finished.\n",
      "Submitted 3th \n",
      "\n",
      "Deployments so far (0): ;\n",
      "Success: 0\n",
      "job submit count: 0\n"
     ]
    },
    {
     "name": "stderr",
     "output_type": "stream",
     "text": [
      "unable to determine job status - unknown\r\n"
     ]
    },
    {
     "name": "stdout",
     "output_type": "stream",
     "text": [
      "Deploying job VanishingSphere_SolverTrue_J225_k2_agg0.2_AMRFalse_LBFalse_atZ_r0.6_W6.94_2D_StokesdRdt0.00_MUMPS_Steady_ct1 ... \n",
      "Deploying executables and additional files ...\n",
      "Deployment directory: \\\\dc3\\userspace\\toprak\\BoSSS-ConvSteadyFinal\\VanishingSphere2D_convergenceAggSteadyStokesExactBC-XNSE_Solver2024Aug20_124932.639236\n",
      "copied 43 files.\n",
      "   written file: control.obj\n",
      "   copied 'win\\amd64' runtime.\n",
      "deployment finished.\n",
      "Submitted 4th \n",
      "\n",
      "Deployments so far (0): ;\n",
      "Success: 0\n",
      "job submit count: 0\n"
     ]
    },
    {
     "name": "stderr",
     "output_type": "stream",
     "text": [
      "unable to determine job status - unknown\r\n"
     ]
    },
    {
     "name": "stdout",
     "output_type": "stream",
     "text": [
      "Deploying job VanishingSphere_SolverTrue_J225_k2_agg0.3_AMRFalse_LBFalse_atZ_r0.6_W6.94_2D_StokesdRdt0.00_MUMPS_Steady_ct1 ... \n",
      "Deploying executables and additional files ...\n",
      "Deployment directory: \\\\dc3\\userspace\\toprak\\BoSSS-ConvSteadyFinal\\VanishingSphere2D_convergenceAggSteadyStokesExactBC-XNSE_Solver2024Aug20_124946.878473\n",
      "copied 43 files.\n",
      "   written file: control.obj\n",
      "   copied 'win\\amd64' runtime.\n",
      "deployment finished.\n",
      "Submitted 5th \n",
      "\n",
      "Deployments so far (0): ;\n",
      "Success: 0\n",
      "job submit count: 0\n"
     ]
    },
    {
     "name": "stderr",
     "output_type": "stream",
     "text": [
      "unable to determine job status - unknown\r\n"
     ]
    },
    {
     "name": "stdout",
     "output_type": "stream",
     "text": [
      "Deploying job VanishingSphere_SolverTrue_J225_k2_agg0.4_AMRFalse_LBFalse_atZ_r0.6_W6.94_2D_StokesdRdt0.00_MUMPS_Steady_ct1 ... \n",
      "Deploying executables and additional files ...\n",
      "Deployment directory: \\\\dc3\\userspace\\toprak\\BoSSS-ConvSteadyFinal\\VanishingSphere2D_convergenceAggSteadyStokesExactBC-XNSE_Solver2024Aug20_125000.871285\n",
      "copied 43 files.\n",
      "   written file: control.obj\n",
      "   copied 'win\\amd64' runtime.\n",
      "deployment finished.\n",
      "Submitted 6th \n",
      "\n",
      "Deployments so far (0): ;\n",
      "Success: 0\n",
      "job submit count: 0\n"
     ]
    },
    {
     "name": "stderr",
     "output_type": "stream",
     "text": [
      "unable to determine job status - unknown\r\n"
     ]
    },
    {
     "name": "stdout",
     "output_type": "stream",
     "text": [
      "Deploying job VanishingSphere_SolverTrue_J225_k2_agg0.5_AMRFalse_LBFalse_atZ_r0.6_W6.94_2D_StokesdRdt0.00_MUMPS_Steady_ct1 ... \n",
      "Deploying executables and additional files ...\n",
      "Deployment directory: \\\\dc3\\userspace\\toprak\\BoSSS-ConvSteadyFinal\\VanishingSphere2D_convergenceAggSteadyStokesExactBC-XNSE_Solver2024Aug20_125015.009691\n",
      "copied 43 files.\n",
      "   written file: control.obj\n",
      "   copied 'win\\amd64' runtime.\n",
      "deployment finished.\n",
      "Submitted 7th \n",
      "\n",
      "Deployments so far (0): ;\n",
      "Success: 0\n",
      "job submit count: 0\n"
     ]
    },
    {
     "name": "stderr",
     "output_type": "stream",
     "text": [
      "unable to determine job status - unknown\r\n"
     ]
    },
    {
     "name": "stdout",
     "output_type": "stream",
     "text": [
      "Deploying job VanishingSphere_SolverTrue_J225_k3_agg0.2_AMRFalse_LBFalse_atZ_r0.6_W6.94_2D_StokesdRdt0.00_MUMPS_Steady_ct1 ... \n",
      "Deploying executables and additional files ...\n",
      "Deployment directory: \\\\dc3\\userspace\\toprak\\BoSSS-ConvSteadyFinal\\VanishingSphere2D_convergenceAggSteadyStokesExactBC-XNSE_Solver2024Aug20_125029.084841\n",
      "copied 43 files.\n",
      "   written file: control.obj\n",
      "   copied 'win\\amd64' runtime.\n",
      "deployment finished.\n",
      "Submitted 8th \n",
      "\n",
      "Deployments so far (0): ;\n",
      "Success: 0\n",
      "job submit count: 0\n"
     ]
    },
    {
     "name": "stderr",
     "output_type": "stream",
     "text": [
      "unable to determine job status - unknown\r\n"
     ]
    },
    {
     "name": "stdout",
     "output_type": "stream",
     "text": [
      "Deploying job VanishingSphere_SolverTrue_J225_k3_agg0.3_AMRFalse_LBFalse_atZ_r0.6_W6.94_2D_StokesdRdt0.00_MUMPS_Steady_ct1 ... \n",
      "Deploying executables and additional files ...\n",
      "Deployment directory: \\\\dc3\\userspace\\toprak\\BoSSS-ConvSteadyFinal\\VanishingSphere2D_convergenceAggSteadyStokesExactBC-XNSE_Solver2024Aug20_125043.203469\n",
      "copied 43 files.\n",
      "   written file: control.obj\n",
      "   copied 'win\\amd64' runtime.\n",
      "deployment finished.\n",
      "Submitted 9th \n",
      "\n",
      "Deployments so far (0): ;\n",
      "Success: 0\n",
      "job submit count: 0\n"
     ]
    },
    {
     "name": "stderr",
     "output_type": "stream",
     "text": [
      "unable to determine job status - unknown\r\n"
     ]
    },
    {
     "name": "stdout",
     "output_type": "stream",
     "text": [
      "Deploying job VanishingSphere_SolverTrue_J225_k3_agg0.4_AMRFalse_LBFalse_atZ_r0.6_W6.94_2D_StokesdRdt0.00_MUMPS_Steady_ct1 ... \n",
      "Deploying executables and additional files ...\n",
      "Deployment directory: \\\\dc3\\userspace\\toprak\\BoSSS-ConvSteadyFinal\\VanishingSphere2D_convergenceAggSteadyStokesExactBC-XNSE_Solver2024Aug20_125057.490604\n",
      "copied 43 files.\n",
      "   written file: control.obj\n",
      "   copied 'win\\amd64' runtime.\n",
      "deployment finished.\n",
      "Submitted 10th \n",
      "\n",
      "Deployments so far (0): ;\n",
      "Success: 0\n",
      "job submit count: 0\n"
     ]
    },
    {
     "name": "stderr",
     "output_type": "stream",
     "text": [
      "unable to determine job status - unknown\r\n"
     ]
    },
    {
     "name": "stdout",
     "output_type": "stream",
     "text": [
      "Deploying job VanishingSphere_SolverTrue_J225_k3_agg0.5_AMRFalse_LBFalse_atZ_r0.6_W6.94_2D_StokesdRdt0.00_MUMPS_Steady_ct1 ... \n",
      "Deploying executables and additional files ...\n",
      "Deployment directory: \\\\dc3\\userspace\\toprak\\BoSSS-ConvSteadyFinal\\VanishingSphere2D_convergenceAggSteadyStokesExactBC-XNSE_Solver2024Aug20_125111.666674\n",
      "copied 43 files.\n",
      "   written file: control.obj\n",
      "   copied 'win\\amd64' runtime.\n",
      "deployment finished.\n",
      "Submitted 11th \n",
      "\n",
      "Deployments so far (0): ;\n",
      "Success: 0\n",
      "job submit count: 0\n"
     ]
    },
    {
     "name": "stderr",
     "output_type": "stream",
     "text": [
      "unable to determine job status - unknown\r\n"
     ]
    },
    {
     "name": "stdout",
     "output_type": "stream",
     "text": [
      "Deploying job VanishingSphere_SolverTrue_J900_k1_agg0.2_AMRFalse_LBFalse_atZ_r0.6_W6.94_2D_StokesdRdt0.00_MUMPS_Steady_ct1 ... \n",
      "Deploying executables and additional files ...\n",
      "Deployment directory: \\\\dc3\\userspace\\toprak\\BoSSS-ConvSteadyFinal\\VanishingSphere2D_convergenceAggSteadyStokesExactBC-XNSE_Solver2024Aug20_125125.961799\n",
      "copied 43 files.\n",
      "   written file: control.obj\n",
      "   copied 'win\\amd64' runtime.\n",
      "deployment finished.\n",
      "Submitted 12th \n",
      "\n",
      "Deployments so far (0): ;\n",
      "Success: 0\n",
      "job submit count: 0\n"
     ]
    },
    {
     "name": "stderr",
     "output_type": "stream",
     "text": [
      "unable to determine job status - unknown\r\n"
     ]
    },
    {
     "name": "stdout",
     "output_type": "stream",
     "text": [
      "Deploying job VanishingSphere_SolverTrue_J900_k1_agg0.3_AMRFalse_LBFalse_atZ_r0.6_W6.94_2D_StokesdRdt0.00_MUMPS_Steady_ct1 ... \n",
      "Deploying executables and additional files ...\n",
      "Deployment directory: \\\\dc3\\userspace\\toprak\\BoSSS-ConvSteadyFinal\\VanishingSphere2D_convergenceAggSteadyStokesExactBC-XNSE_Solver2024Aug20_125140.161608\n",
      "copied 43 files.\n",
      "   written file: control.obj\n",
      "   copied 'win\\amd64' runtime.\n",
      "deployment finished.\n",
      "Submitted 13th \n",
      "\n",
      "Deployments so far (0): ;\n",
      "Success: 0\n",
      "job submit count: 0\n"
     ]
    },
    {
     "name": "stderr",
     "output_type": "stream",
     "text": [
      "unable to determine job status - unknown\r\n"
     ]
    },
    {
     "name": "stdout",
     "output_type": "stream",
     "text": [
      "Deploying job VanishingSphere_SolverTrue_J900_k1_agg0.4_AMRFalse_LBFalse_atZ_r0.6_W6.94_2D_StokesdRdt0.00_MUMPS_Steady_ct1 ... \n",
      "Deploying executables and additional files ...\n",
      "Deployment directory: \\\\dc3\\userspace\\toprak\\BoSSS-ConvSteadyFinal\\VanishingSphere2D_convergenceAggSteadyStokesExactBC-XNSE_Solver2024Aug20_125154.983718\n",
      "copied 43 files.\n",
      "   written file: control.obj\n",
      "   copied 'win\\amd64' runtime.\n",
      "deployment finished.\n",
      "Submitted 14th \n",
      "\n",
      "Deployments so far (0): ;\n",
      "Success: 0\n",
      "job submit count: 0\n"
     ]
    },
    {
     "name": "stderr",
     "output_type": "stream",
     "text": [
      "unable to determine job status - unknown\r\n"
     ]
    },
    {
     "name": "stdout",
     "output_type": "stream",
     "text": [
      "Deploying job VanishingSphere_SolverTrue_J900_k1_agg0.5_AMRFalse_LBFalse_atZ_r0.6_W6.94_2D_StokesdRdt0.00_MUMPS_Steady_ct1 ... \n",
      "Deploying executables and additional files ...\n",
      "Deployment directory: \\\\dc3\\userspace\\toprak\\BoSSS-ConvSteadyFinal\\VanishingSphere2D_convergenceAggSteadyStokesExactBC-XNSE_Solver2024Aug20_125209.794378\n",
      "copied 43 files.\n",
      "   written file: control.obj\n",
      "   copied 'win\\amd64' runtime.\n",
      "deployment finished.\n",
      "Submitted 15th \n",
      "\n",
      "Deployments so far (0): ;\n",
      "Success: 0\n",
      "job submit count: 0\n"
     ]
    },
    {
     "name": "stderr",
     "output_type": "stream",
     "text": [
      "unable to determine job status - unknown\r\n"
     ]
    },
    {
     "name": "stdout",
     "output_type": "stream",
     "text": [
      "Deploying job VanishingSphere_SolverTrue_J900_k2_agg0.2_AMRFalse_LBFalse_atZ_r0.6_W6.94_2D_StokesdRdt0.00_MUMPS_Steady_ct1 ... \n",
      "Deploying executables and additional files ...\n",
      "Deployment directory: \\\\dc3\\userspace\\toprak\\BoSSS-ConvSteadyFinal\\VanishingSphere2D_convergenceAggSteadyStokesExactBC-XNSE_Solver2024Aug20_125223.894826\n",
      "copied 43 files.\n",
      "   written file: control.obj\n",
      "   copied 'win\\amd64' runtime.\n",
      "deployment finished.\n",
      "Submitted 16th \n",
      "\n",
      "Deployments so far (0): ;\n",
      "Success: 0\n",
      "job submit count: 0\n"
     ]
    },
    {
     "name": "stderr",
     "output_type": "stream",
     "text": [
      "unable to determine job status - unknown\r\n"
     ]
    },
    {
     "name": "stdout",
     "output_type": "stream",
     "text": [
      "Deploying job VanishingSphere_SolverTrue_J900_k2_agg0.3_AMRFalse_LBFalse_atZ_r0.6_W6.94_2D_StokesdRdt0.00_MUMPS_Steady_ct1 ... \n",
      "Deploying executables and additional files ...\n",
      "Deployment directory: \\\\dc3\\userspace\\toprak\\BoSSS-ConvSteadyFinal\\VanishingSphere2D_convergenceAggSteadyStokesExactBC-XNSE_Solver2024Aug20_125238.150449\n",
      "copied 43 files.\n",
      "   written file: control.obj\n",
      "   copied 'win\\amd64' runtime.\n",
      "deployment finished.\n",
      "Submitted 17th \n",
      "\n",
      "Deployments so far (0): ;\n",
      "Success: 0\n",
      "job submit count: 0\n"
     ]
    },
    {
     "name": "stderr",
     "output_type": "stream",
     "text": [
      "unable to determine job status - unknown\r\n"
     ]
    },
    {
     "name": "stdout",
     "output_type": "stream",
     "text": [
      "Deploying job VanishingSphere_SolverTrue_J900_k2_agg0.4_AMRFalse_LBFalse_atZ_r0.6_W6.94_2D_StokesdRdt0.00_MUMPS_Steady_ct1 ... \n",
      "Deploying executables and additional files ...\n",
      "Deployment directory: \\\\dc3\\userspace\\toprak\\BoSSS-ConvSteadyFinal\\VanishingSphere2D_convergenceAggSteadyStokesExactBC-XNSE_Solver2024Aug20_125252.179787\n",
      "copied 43 files.\n",
      "   written file: control.obj\n",
      "   copied 'win\\amd64' runtime.\n",
      "deployment finished.\n",
      "Submitted 18th \n",
      "\n",
      "Deployments so far (0): ;\n",
      "Success: 0\n",
      "job submit count: 0\n"
     ]
    },
    {
     "name": "stderr",
     "output_type": "stream",
     "text": [
      "unable to determine job status - unknown\r\n"
     ]
    },
    {
     "name": "stdout",
     "output_type": "stream",
     "text": [
      "Deploying job VanishingSphere_SolverTrue_J900_k2_agg0.5_AMRFalse_LBFalse_atZ_r0.6_W6.94_2D_StokesdRdt0.00_MUMPS_Steady_ct1 ... \n",
      "Deploying executables and additional files ...\n",
      "Deployment directory: \\\\dc3\\userspace\\toprak\\BoSSS-ConvSteadyFinal\\VanishingSphere2D_convergenceAggSteadyStokesExactBC-XNSE_Solver2024Aug20_125306.666544\n",
      "copied 43 files.\n",
      "   written file: control.obj\n",
      "   copied 'win\\amd64' runtime.\n",
      "deployment finished.\n",
      "Submitted 19th \n",
      "\n",
      "Deployments so far (0): ;\n",
      "Success: 0\n",
      "job submit count: 0\n"
     ]
    },
    {
     "name": "stderr",
     "output_type": "stream",
     "text": [
      "unable to determine job status - unknown\r\n"
     ]
    },
    {
     "name": "stdout",
     "output_type": "stream",
     "text": [
      "Deploying job VanishingSphere_SolverTrue_J900_k3_agg0.2_AMRFalse_LBFalse_atZ_r0.6_W6.94_2D_StokesdRdt0.00_MUMPS_Steady_ct1 ... \n",
      "Deploying executables and additional files ...\n",
      "Deployment directory: \\\\dc3\\userspace\\toprak\\BoSSS-ConvSteadyFinal\\VanishingSphere2D_convergenceAggSteadyStokesExactBC-XNSE_Solver2024Aug20_125320.974958\n",
      "copied 43 files.\n",
      "   written file: control.obj\n",
      "   copied 'win\\amd64' runtime.\n",
      "deployment finished.\n",
      "Submitted 20th \n",
      "\n",
      "Deployments so far (0): ;\n",
      "Success: 0\n",
      "job submit count: 0\n"
     ]
    },
    {
     "name": "stderr",
     "output_type": "stream",
     "text": [
      "unable to determine job status - unknown\r\n"
     ]
    },
    {
     "name": "stdout",
     "output_type": "stream",
     "text": [
      "Deploying job VanishingSphere_SolverTrue_J900_k3_agg0.3_AMRFalse_LBFalse_atZ_r0.6_W6.94_2D_StokesdRdt0.00_MUMPS_Steady_ct1 ... \n",
      "Deploying executables and additional files ...\n",
      "Deployment directory: \\\\dc3\\userspace\\toprak\\BoSSS-ConvSteadyFinal\\VanishingSphere2D_convergenceAggSteadyStokesExactBC-XNSE_Solver2024Aug20_125335.667231\n",
      "copied 43 files.\n",
      "   written file: control.obj\n",
      "   copied 'win\\amd64' runtime.\n",
      "deployment finished.\n",
      "Submitted 21th \n",
      "\n",
      "Deployments so far (0): ;\n",
      "Success: 0\n",
      "job submit count: 0\n"
     ]
    },
    {
     "name": "stderr",
     "output_type": "stream",
     "text": [
      "unable to determine job status - unknown\r\n"
     ]
    },
    {
     "name": "stdout",
     "output_type": "stream",
     "text": [
      "Deploying job VanishingSphere_SolverTrue_J900_k3_agg0.4_AMRFalse_LBFalse_atZ_r0.6_W6.94_2D_StokesdRdt0.00_MUMPS_Steady_ct1 ... \n",
      "Deploying executables and additional files ...\n",
      "Deployment directory: \\\\dc3\\userspace\\toprak\\BoSSS-ConvSteadyFinal\\VanishingSphere2D_convergenceAggSteadyStokesExactBC-XNSE_Solver2024Aug20_125349.890896\n",
      "copied 43 files.\n",
      "   written file: control.obj\n",
      "   copied 'win\\amd64' runtime.\n",
      "deployment finished.\n",
      "Submitted 22th \n",
      "\n",
      "Deployments so far (0): ;\n",
      "Success: 0\n",
      "job submit count: 0\n"
     ]
    },
    {
     "name": "stderr",
     "output_type": "stream",
     "text": [
      "unable to determine job status - unknown\r\n"
     ]
    },
    {
     "name": "stdout",
     "output_type": "stream",
     "text": [
      "Deploying job VanishingSphere_SolverTrue_J900_k3_agg0.5_AMRFalse_LBFalse_atZ_r0.6_W6.94_2D_StokesdRdt0.00_MUMPS_Steady_ct1 ... \n",
      "Deploying executables and additional files ...\n",
      "Deployment directory: \\\\dc3\\userspace\\toprak\\BoSSS-ConvSteadyFinal\\VanishingSphere2D_convergenceAggSteadyStokesExactBC-XNSE_Solver2024Aug20_125404.099050\n",
      "copied 43 files.\n",
      "   written file: control.obj\n",
      "   copied 'win\\amd64' runtime.\n",
      "deployment finished.\n",
      "Submitted 23th \n",
      "\n",
      "Deployments so far (0): ;\n",
      "Success: 0\n",
      "job submit count: 0\n"
     ]
    },
    {
     "name": "stderr",
     "output_type": "stream",
     "text": [
      "unable to determine job status - unknown\r\n"
     ]
    },
    {
     "name": "stdout",
     "output_type": "stream",
     "text": [
      "Deploying job VanishingSphere_SolverTrue_J3600_k1_agg0.2_AMRFalse_LBFalse_atZ_r0.6_W6.94_2D_StokesdRdt0.00_MUMPS_Steady_ct1 ... \n",
      "Deploying executables and additional files ...\n",
      "Deployment directory: \\\\dc3\\userspace\\toprak\\BoSSS-ConvSteadyFinal\\VanishingSphere2D_convergenceAggSteadyStokesExactBC-XNSE_Solver2024Aug20_125418.554721\n",
      "copied 43 files.\n",
      "   written file: control.obj\n",
      "   copied 'win\\amd64' runtime.\n",
      "deployment finished.\n",
      "Submitted 24th \n",
      "\n",
      "Deployments so far (0): ;\n",
      "Success: 0\n",
      "job submit count: 0\n"
     ]
    },
    {
     "name": "stderr",
     "output_type": "stream",
     "text": [
      "unable to determine job status - unknown\r\n"
     ]
    },
    {
     "name": "stdout",
     "output_type": "stream",
     "text": [
      "Deploying job VanishingSphere_SolverTrue_J3600_k1_agg0.3_AMRFalse_LBFalse_atZ_r0.6_W6.94_2D_StokesdRdt0.00_MUMPS_Steady_ct1 ... \n",
      "Deploying executables and additional files ...\n",
      "Deployment directory: \\\\dc3\\userspace\\toprak\\BoSSS-ConvSteadyFinal\\VanishingSphere2D_convergenceAggSteadyStokesExactBC-XNSE_Solver2024Aug20_125432.941175\n",
      "copied 43 files.\n",
      "   written file: control.obj\n",
      "   copied 'win\\amd64' runtime.\n",
      "deployment finished.\n",
      "Submitted 25th \n",
      "\n",
      "Deployments so far (0): ;\n",
      "Success: 0\n",
      "job submit count: 0\n"
     ]
    },
    {
     "name": "stderr",
     "output_type": "stream",
     "text": [
      "unable to determine job status - unknown\r\n"
     ]
    },
    {
     "name": "stdout",
     "output_type": "stream",
     "text": [
      "Deploying job VanishingSphere_SolverTrue_J3600_k1_agg0.4_AMRFalse_LBFalse_atZ_r0.6_W6.94_2D_StokesdRdt0.00_MUMPS_Steady_ct1 ... \n",
      "Deploying executables and additional files ...\n",
      "Deployment directory: \\\\dc3\\userspace\\toprak\\BoSSS-ConvSteadyFinal\\VanishingSphere2D_convergenceAggSteadyStokesExactBC-XNSE_Solver2024Aug20_125447.506772\n",
      "copied 43 files.\n",
      "   written file: control.obj\n",
      "   copied 'win\\amd64' runtime.\n",
      "deployment finished.\n",
      "Submitted 26th \n",
      "\n",
      "Deployments so far (0): ;\n",
      "Success: 0\n",
      "job submit count: 0\n"
     ]
    },
    {
     "name": "stderr",
     "output_type": "stream",
     "text": [
      "unable to determine job status - unknown\r\n"
     ]
    },
    {
     "name": "stdout",
     "output_type": "stream",
     "text": [
      "Deploying job VanishingSphere_SolverTrue_J3600_k1_agg0.5_AMRFalse_LBFalse_atZ_r0.6_W6.94_2D_StokesdRdt0.00_MUMPS_Steady_ct1 ... \n",
      "Deploying executables and additional files ...\n",
      "Deployment directory: \\\\dc3\\userspace\\toprak\\BoSSS-ConvSteadyFinal\\VanishingSphere2D_convergenceAggSteadyStokesExactBC-XNSE_Solver2024Aug20_125501.694608\n",
      "copied 43 files.\n",
      "   written file: control.obj\n",
      "   copied 'win\\amd64' runtime.\n",
      "deployment finished.\n",
      "Submitted 27th \n",
      "\n",
      "Deployments so far (0): ;\n",
      "Success: 0\n",
      "job submit count: 0\n"
     ]
    },
    {
     "name": "stderr",
     "output_type": "stream",
     "text": [
      "unable to determine job status - unknown\r\n"
     ]
    },
    {
     "name": "stdout",
     "output_type": "stream",
     "text": [
      "Deploying job VanishingSphere_SolverTrue_J3600_k2_agg0.2_AMRFalse_LBFalse_atZ_r0.6_W6.94_2D_StokesdRdt0.00_MUMPS_Steady_ct1 ... \n",
      "Deploying executables and additional files ...\n",
      "Deployment directory: \\\\dc3\\userspace\\toprak\\BoSSS-ConvSteadyFinal\\VanishingSphere2D_convergenceAggSteadyStokesExactBC-XNSE_Solver2024Aug20_125515.801571\n",
      "copied 43 files.\n",
      "   written file: control.obj\n",
      "   copied 'win\\amd64' runtime.\n",
      "deployment finished.\n",
      "Submitted 28th \n",
      "\n",
      "Deployments so far (0): ;\n",
      "Success: 0\n",
      "job submit count: 0\n"
     ]
    },
    {
     "name": "stderr",
     "output_type": "stream",
     "text": [
      "unable to determine job status - unknown\r\n"
     ]
    },
    {
     "name": "stdout",
     "output_type": "stream",
     "text": [
      "Deploying job VanishingSphere_SolverTrue_J3600_k2_agg0.3_AMRFalse_LBFalse_atZ_r0.6_W6.94_2D_StokesdRdt0.00_MUMPS_Steady_ct1 ... \n",
      "Deploying executables and additional files ...\n",
      "Deployment directory: \\\\dc3\\userspace\\toprak\\BoSSS-ConvSteadyFinal\\VanishingSphere2D_convergenceAggSteadyStokesExactBC-XNSE_Solver2024Aug20_125530.694178\n",
      "copied 43 files.\n",
      "   written file: control.obj\n",
      "   copied 'win\\amd64' runtime.\n",
      "deployment finished.\n",
      "Submitted 29th \n",
      "\n",
      "Deployments so far (0): ;\n",
      "Success: 0\n",
      "job submit count: 0\n"
     ]
    },
    {
     "name": "stderr",
     "output_type": "stream",
     "text": [
      "unable to determine job status - unknown\r\n"
     ]
    },
    {
     "name": "stdout",
     "output_type": "stream",
     "text": [
      "Deploying job VanishingSphere_SolverTrue_J3600_k2_agg0.4_AMRFalse_LBFalse_atZ_r0.6_W6.94_2D_StokesdRdt0.00_MUMPS_Steady_ct1 ... \n",
      "Deploying executables and additional files ...\n",
      "Deployment directory: \\\\dc3\\userspace\\toprak\\BoSSS-ConvSteadyFinal\\VanishingSphere2D_convergenceAggSteadyStokesExactBC-XNSE_Solver2024Aug20_125545.149028\n",
      "copied 43 files.\n",
      "   written file: control.obj\n",
      "   copied 'win\\amd64' runtime.\n",
      "deployment finished.\n",
      "Submitted 30th \n",
      "\n",
      "Deployments so far (0): ;\n",
      "Success: 0\n",
      "job submit count: 0\n"
     ]
    },
    {
     "name": "stderr",
     "output_type": "stream",
     "text": [
      "unable to determine job status - unknown\r\n"
     ]
    },
    {
     "name": "stdout",
     "output_type": "stream",
     "text": [
      "Deploying job VanishingSphere_SolverTrue_J3600_k2_agg0.5_AMRFalse_LBFalse_atZ_r0.6_W6.94_2D_StokesdRdt0.00_MUMPS_Steady_ct1 ... \n",
      "Deploying executables and additional files ...\n",
      "Deployment directory: \\\\dc3\\userspace\\toprak\\BoSSS-ConvSteadyFinal\\VanishingSphere2D_convergenceAggSteadyStokesExactBC-XNSE_Solver2024Aug20_125559.707034\n",
      "copied 43 files.\n",
      "   written file: control.obj\n",
      "   copied 'win\\amd64' runtime.\n",
      "deployment finished.\n",
      "Submitted 31th \n",
      "\n",
      "Deployments so far (0): ;\n",
      "Success: 0\n",
      "job submit count: 0\n"
     ]
    },
    {
     "name": "stderr",
     "output_type": "stream",
     "text": [
      "unable to determine job status - unknown\r\n"
     ]
    },
    {
     "name": "stdout",
     "output_type": "stream",
     "text": [
      "Deploying job VanishingSphere_SolverTrue_J3600_k3_agg0.2_AMRFalse_LBFalse_atZ_r0.6_W6.94_2D_StokesdRdt0.00_MUMPS_Steady_ct1 ... \n",
      "Deploying executables and additional files ...\n",
      "Deployment directory: \\\\dc3\\userspace\\toprak\\BoSSS-ConvSteadyFinal\\VanishingSphere2D_convergenceAggSteadyStokesExactBC-XNSE_Solver2024Aug20_125614.084740\n",
      "copied 43 files.\n",
      "   written file: control.obj\n",
      "   copied 'win\\amd64' runtime.\n",
      "deployment finished.\n",
      "Submitted 32th \n",
      "\n",
      "Deployments so far (0): ;\n",
      "Success: 0\n",
      "job submit count: 0\n"
     ]
    },
    {
     "name": "stderr",
     "output_type": "stream",
     "text": [
      "unable to determine job status - unknown\r\n"
     ]
    },
    {
     "name": "stdout",
     "output_type": "stream",
     "text": [
      "Deploying job VanishingSphere_SolverTrue_J3600_k3_agg0.3_AMRFalse_LBFalse_atZ_r0.6_W6.94_2D_StokesdRdt0.00_MUMPS_Steady_ct1 ... \n",
      "Deploying executables and additional files ...\n",
      "Deployment directory: \\\\dc3\\userspace\\toprak\\BoSSS-ConvSteadyFinal\\VanishingSphere2D_convergenceAggSteadyStokesExactBC-XNSE_Solver2024Aug20_125628.422140\n",
      "copied 43 files.\n",
      "   written file: control.obj\n",
      "   copied 'win\\amd64' runtime.\n",
      "deployment finished.\n",
      "Submitted 33th \n",
      "\n",
      "Deployments so far (0): ;\n",
      "Success: 0\n",
      "job submit count: 0\n"
     ]
    },
    {
     "name": "stderr",
     "output_type": "stream",
     "text": [
      "unable to determine job status - unknown\r\n"
     ]
    },
    {
     "name": "stdout",
     "output_type": "stream",
     "text": [
      "Deploying job VanishingSphere_SolverTrue_J3600_k3_agg0.4_AMRFalse_LBFalse_atZ_r0.6_W6.94_2D_StokesdRdt0.00_MUMPS_Steady_ct1 ... \n",
      "Deploying executables and additional files ...\n",
      "Deployment directory: \\\\dc3\\userspace\\toprak\\BoSSS-ConvSteadyFinal\\VanishingSphere2D_convergenceAggSteadyStokesExactBC-XNSE_Solver2024Aug20_125642.770651\n",
      "copied 43 files.\n",
      "   written file: control.obj\n",
      "   copied 'win\\amd64' runtime.\n",
      "deployment finished.\n",
      "Submitted 34th \n",
      "\n",
      "Deployments so far (0): ;\n",
      "Success: 0\n",
      "job submit count: 0\n"
     ]
    },
    {
     "name": "stderr",
     "output_type": "stream",
     "text": [
      "unable to determine job status - unknown\r\n"
     ]
    },
    {
     "name": "stdout",
     "output_type": "stream",
     "text": [
      "Deploying job VanishingSphere_SolverTrue_J3600_k3_agg0.5_AMRFalse_LBFalse_atZ_r0.6_W6.94_2D_StokesdRdt0.00_MUMPS_Steady_ct1 ... \n",
      "Deploying executables and additional files ...\n",
      "Deployment directory: \\\\dc3\\userspace\\toprak\\BoSSS-ConvSteadyFinal\\VanishingSphere2D_convergenceAggSteadyStokesExactBC-XNSE_Solver2024Aug20_125657.136156\n",
      "copied 43 files.\n",
      "   written file: control.obj\n",
      "   copied 'win\\amd64' runtime.\n",
      "deployment finished.\n",
      "Submitted 35th \n",
      "\n",
      "Deployments so far (0): ;\n",
      "Success: 0\n",
      "job submit count: 0\n"
     ]
    },
    {
     "name": "stderr",
     "output_type": "stream",
     "text": [
      "unable to determine job status - unknown\r\n"
     ]
    },
    {
     "name": "stdout",
     "output_type": "stream",
     "text": [
      "Deploying job VanishingSphere_SolverTrue_J14400_k1_agg0.2_AMRFalse_LBFalse_atZ_r0.6_W6.94_2D_StokesdRdt0.00_MUMPS_Steady_ct1 ... \n",
      "Deploying executables and additional files ...\n",
      "Deployment directory: \\\\dc3\\userspace\\toprak\\BoSSS-ConvSteadyFinal\\VanishingSphere2D_convergenceAggSteadyStokesExactBC-XNSE_Solver2024Aug20_125711.463495\n",
      "copied 43 files.\n",
      "   written file: control.obj\n",
      "   copied 'win\\amd64' runtime.\n",
      "deployment finished.\n",
      "Submitted 36th \n",
      "\n",
      "Deployments so far (0): ;\n",
      "Success: 0\n",
      "job submit count: 0\n"
     ]
    },
    {
     "name": "stderr",
     "output_type": "stream",
     "text": [
      "unable to determine job status - unknown\r\n"
     ]
    },
    {
     "name": "stdout",
     "output_type": "stream",
     "text": [
      "Deploying job VanishingSphere_SolverTrue_J14400_k1_agg0.3_AMRFalse_LBFalse_atZ_r0.6_W6.94_2D_StokesdRdt0.00_MUMPS_Steady_ct1 ... \n",
      "Deploying executables and additional files ...\n",
      "Deployment directory: \\\\dc3\\userspace\\toprak\\BoSSS-ConvSteadyFinal\\VanishingSphere2D_convergenceAggSteadyStokesExactBC-XNSE_Solver2024Aug20_125725.820280\n",
      "copied 43 files.\n",
      "   written file: control.obj\n",
      "   copied 'win\\amd64' runtime.\n",
      "deployment finished.\n",
      "Submitted 37th \n",
      "\n",
      "Deployments so far (0): ;\n",
      "Success: 0\n",
      "job submit count: 0\n"
     ]
    },
    {
     "name": "stderr",
     "output_type": "stream",
     "text": [
      "unable to determine job status - unknown\r\n"
     ]
    },
    {
     "name": "stdout",
     "output_type": "stream",
     "text": [
      "Deploying job VanishingSphere_SolverTrue_J14400_k1_agg0.4_AMRFalse_LBFalse_atZ_r0.6_W6.94_2D_StokesdRdt0.00_MUMPS_Steady_ct1 ... \n",
      "Deploying executables and additional files ...\n",
      "Deployment directory: \\\\dc3\\userspace\\toprak\\BoSSS-ConvSteadyFinal\\VanishingSphere2D_convergenceAggSteadyStokesExactBC-XNSE_Solver2024Aug20_125740.225695\n",
      "copied 43 files.\n",
      "   written file: control.obj\n",
      "   copied 'win\\amd64' runtime.\n",
      "deployment finished.\n",
      "Submitted 38th \n",
      "\n",
      "Deployments so far (0): ;\n",
      "Success: 0\n",
      "job submit count: 0\n"
     ]
    },
    {
     "name": "stderr",
     "output_type": "stream",
     "text": [
      "unable to determine job status - unknown\r\n"
     ]
    },
    {
     "name": "stdout",
     "output_type": "stream",
     "text": [
      "Deploying job VanishingSphere_SolverTrue_J14400_k1_agg0.5_AMRFalse_LBFalse_atZ_r0.6_W6.94_2D_StokesdRdt0.00_MUMPS_Steady_ct1 ... \n",
      "Deploying executables and additional files ...\n",
      "Deployment directory: \\\\dc3\\userspace\\toprak\\BoSSS-ConvSteadyFinal\\VanishingSphere2D_convergenceAggSteadyStokesExactBC-XNSE_Solver2024Aug20_125755.013976\n",
      "copied 43 files.\n",
      "   written file: control.obj\n",
      "   copied 'win\\amd64' runtime.\n",
      "deployment finished.\n",
      "Submitted 39th \n",
      "\n",
      "Deployments so far (0): ;\n",
      "Success: 0\n",
      "job submit count: 0\n"
     ]
    },
    {
     "name": "stderr",
     "output_type": "stream",
     "text": [
      "unable to determine job status - unknown\r\n"
     ]
    },
    {
     "name": "stdout",
     "output_type": "stream",
     "text": [
      "Deploying job VanishingSphere_SolverTrue_J14400_k2_agg0.2_AMRFalse_LBFalse_atZ_r0.6_W6.94_2D_StokesdRdt0.00_MUMPS_Steady_ct1 ... \n",
      "Deploying executables and additional files ...\n",
      "Deployment directory: \\\\dc3\\userspace\\toprak\\BoSSS-ConvSteadyFinal\\VanishingSphere2D_convergenceAggSteadyStokesExactBC-XNSE_Solver2024Aug20_125810.078154\n",
      "copied 43 files.\n",
      "   written file: control.obj\n",
      "   copied 'win\\amd64' runtime.\n",
      "deployment finished.\n",
      "Submitted 40th \n",
      "\n",
      "Deployments so far (0): ;\n",
      "Success: 0\n",
      "job submit count: 0\n"
     ]
    },
    {
     "name": "stderr",
     "output_type": "stream",
     "text": [
      "unable to determine job status - unknown\r\n"
     ]
    },
    {
     "name": "stdout",
     "output_type": "stream",
     "text": [
      "Deploying job VanishingSphere_SolverTrue_J14400_k2_agg0.3_AMRFalse_LBFalse_atZ_r0.6_W6.94_2D_StokesdRdt0.00_MUMPS_Steady_ct1 ... \n",
      "Deploying executables and additional files ...\n",
      "Deployment directory: \\\\dc3\\userspace\\toprak\\BoSSS-ConvSteadyFinal\\VanishingSphere2D_convergenceAggSteadyStokesExactBC-XNSE_Solver2024Aug20_125824.451030\n",
      "copied 43 files.\n",
      "   written file: control.obj\n",
      "   copied 'win\\amd64' runtime.\n",
      "deployment finished.\n",
      "Submitted 41th \n",
      "\n",
      "Deployments so far (0): ;\n",
      "Success: 0\n",
      "job submit count: 0\n"
     ]
    },
    {
     "name": "stderr",
     "output_type": "stream",
     "text": [
      "unable to determine job status - unknown\r\n"
     ]
    },
    {
     "name": "stdout",
     "output_type": "stream",
     "text": [
      "Deploying job VanishingSphere_SolverTrue_J14400_k2_agg0.4_AMRFalse_LBFalse_atZ_r0.6_W6.94_2D_StokesdRdt0.00_MUMPS_Steady_ct1 ... \n",
      "Deploying executables and additional files ...\n",
      "Deployment directory: \\\\dc3\\userspace\\toprak\\BoSSS-ConvSteadyFinal\\VanishingSphere2D_convergenceAggSteadyStokesExactBC-XNSE_Solver2024Aug20_125838.978848\n",
      "copied 43 files.\n",
      "   written file: control.obj\n",
      "   copied 'win\\amd64' runtime.\n",
      "deployment finished.\n",
      "Submitted 42th \n",
      "\n",
      "Deployments so far (0): ;\n",
      "Success: 0\n",
      "job submit count: 0\n"
     ]
    },
    {
     "name": "stderr",
     "output_type": "stream",
     "text": [
      "unable to determine job status - unknown\r\n"
     ]
    },
    {
     "name": "stdout",
     "output_type": "stream",
     "text": [
      "Deploying job VanishingSphere_SolverTrue_J14400_k2_agg0.5_AMRFalse_LBFalse_atZ_r0.6_W6.94_2D_StokesdRdt0.00_MUMPS_Steady_ct1 ... \n",
      "Deploying executables and additional files ...\n",
      "Deployment directory: \\\\dc3\\userspace\\toprak\\BoSSS-ConvSteadyFinal\\VanishingSphere2D_convergenceAggSteadyStokesExactBC-XNSE_Solver2024Aug20_125853.496358\n",
      "copied 43 files.\n",
      "   written file: control.obj\n",
      "   copied 'win\\amd64' runtime.\n",
      "deployment finished.\n",
      "Submitted 43th \n",
      "\n",
      "Deployments so far (0): ;\n",
      "Success: 0\n",
      "job submit count: 0\n"
     ]
    },
    {
     "name": "stderr",
     "output_type": "stream",
     "text": [
      "unable to determine job status - unknown\r\n"
     ]
    },
    {
     "name": "stdout",
     "output_type": "stream",
     "text": [
      "Deploying job VanishingSphere_SolverTrue_J14400_k3_agg0.2_AMRFalse_LBFalse_atZ_r0.6_W6.94_2D_StokesdRdt0.00_MUMPS_Steady_ct1 ... \n",
      "Deploying executables and additional files ...\n",
      "Deployment directory: \\\\dc3\\userspace\\toprak\\BoSSS-ConvSteadyFinal\\VanishingSphere2D_convergenceAggSteadyStokesExactBC-XNSE_Solver2024Aug20_125907.688033\n",
      "copied 43 files.\n",
      "   written file: control.obj\n",
      "   copied 'win\\amd64' runtime.\n",
      "deployment finished.\n",
      "Submitted 44th \n",
      "\n",
      "Deployments so far (0): ;\n",
      "Success: 0\n",
      "job submit count: 0\n"
     ]
    },
    {
     "name": "stderr",
     "output_type": "stream",
     "text": [
      "unable to determine job status - unknown\r\n"
     ]
    },
    {
     "name": "stdout",
     "output_type": "stream",
     "text": [
      "Deploying job VanishingSphere_SolverTrue_J14400_k3_agg0.3_AMRFalse_LBFalse_atZ_r0.6_W6.94_2D_StokesdRdt0.00_MUMPS_Steady_ct1 ... \n",
      "Deploying executables and additional files ...\n",
      "Deployment directory: \\\\dc3\\userspace\\toprak\\BoSSS-ConvSteadyFinal\\VanishingSphere2D_convergenceAggSteadyStokesExactBC-XNSE_Solver2024Aug20_125922.416547\n",
      "copied 43 files.\n",
      "   written file: control.obj\n",
      "   copied 'win\\amd64' runtime.\n",
      "deployment finished.\n",
      "Submitted 45th \n",
      "\n",
      "Deployments so far (0): ;\n",
      "Success: 0\n",
      "job submit count: 0\n"
     ]
    },
    {
     "name": "stderr",
     "output_type": "stream",
     "text": [
      "unable to determine job status - unknown\r\n"
     ]
    },
    {
     "name": "stdout",
     "output_type": "stream",
     "text": [
      "Deploying job VanishingSphere_SolverTrue_J14400_k3_agg0.4_AMRFalse_LBFalse_atZ_r0.6_W6.94_2D_StokesdRdt0.00_MUMPS_Steady_ct1 ... \n",
      "Deploying executables and additional files ...\n",
      "Deployment directory: \\\\dc3\\userspace\\toprak\\BoSSS-ConvSteadyFinal\\VanishingSphere2D_convergenceAggSteadyStokesExactBC-XNSE_Solver2024Aug20_125937.454631\n",
      "copied 43 files.\n",
      "   written file: control.obj\n",
      "   copied 'win\\amd64' runtime.\n",
      "deployment finished.\n",
      "Submitted 46th \n",
      "\n",
      "Deployments so far (0): ;\n",
      "Success: 0\n",
      "job submit count: 0\n"
     ]
    },
    {
     "name": "stderr",
     "output_type": "stream",
     "text": [
      "unable to determine job status - unknown\r\n"
     ]
    },
    {
     "name": "stdout",
     "output_type": "stream",
     "text": [
      "Deploying job VanishingSphere_SolverTrue_J14400_k3_agg0.5_AMRFalse_LBFalse_atZ_r0.6_W6.94_2D_StokesdRdt0.00_MUMPS_Steady_ct1 ... \n",
      "Deploying executables and additional files ...\n",
      "Deployment directory: \\\\dc3\\userspace\\toprak\\BoSSS-ConvSteadyFinal\\VanishingSphere2D_convergenceAggSteadyStokesExactBC-XNSE_Solver2024Aug20_125951.923878\n",
      "copied 43 files.\n",
      "   written file: control.obj\n",
      "   copied 'win\\amd64' runtime.\n",
      "deployment finished.\n",
      "Submitted 47th \n",
      "\n",
      "Deployments so far (0): ;\n",
      "Success: 0\n",
      "job submit count: 0\n"
     ]
    },
    {
     "name": "stderr",
     "output_type": "stream",
     "text": [
      "unable to determine job status - unknown\r\n"
     ]
    },
    {
     "name": "stdout",
     "output_type": "stream",
     "text": [
      "Deploying job VanishingSphere_SolverTrue_J57600_k1_agg0.2_AMRFalse_LBFalse_atZ_r0.6_W6.94_2D_StokesdRdt0.00_MUMPS_Steady_ct1 ... \n",
      "Deploying executables and additional files ...\n",
      "Deployment directory: \\\\dc3\\userspace\\toprak\\BoSSS-ConvSteadyFinal\\VanishingSphere2D_convergenceAggSteadyStokesExactBC-XNSE_Solver2024Aug20_130006.470487\n",
      "copied 43 files.\n",
      "   written file: control.obj\n",
      "   copied 'win\\amd64' runtime.\n",
      "deployment finished.\n",
      "Submitted 48th \n",
      "\n",
      "Deployments so far (0): ;\n",
      "Success: 0\n",
      "job submit count: 0\n"
     ]
    },
    {
     "name": "stderr",
     "output_type": "stream",
     "text": [
      "unable to determine job status - unknown\r\n"
     ]
    },
    {
     "name": "stdout",
     "output_type": "stream",
     "text": [
      "Deploying job VanishingSphere_SolverTrue_J57600_k1_agg0.3_AMRFalse_LBFalse_atZ_r0.6_W6.94_2D_StokesdRdt0.00_MUMPS_Steady_ct1 ... \n",
      "Deploying executables and additional files ...\n",
      "Deployment directory: \\\\dc3\\userspace\\toprak\\BoSSS-ConvSteadyFinal\\VanishingSphere2D_convergenceAggSteadyStokesExactBC-XNSE_Solver2024Aug20_130021.978116\n",
      "copied 43 files.\n",
      "   written file: control.obj\n",
      "   copied 'win\\amd64' runtime.\n",
      "deployment finished.\n",
      "Submitted 49th \n",
      "\n",
      "Deployments so far (0): ;\n",
      "Success: 0\n",
      "job submit count: 0\n"
     ]
    },
    {
     "name": "stderr",
     "output_type": "stream",
     "text": [
      "unable to determine job status - unknown\r\n"
     ]
    },
    {
     "name": "stdout",
     "output_type": "stream",
     "text": [
      "Deploying job VanishingSphere_SolverTrue_J57600_k1_agg0.4_AMRFalse_LBFalse_atZ_r0.6_W6.94_2D_StokesdRdt0.00_MUMPS_Steady_ct1 ... \n",
      "Deploying executables and additional files ...\n",
      "Deployment directory: \\\\dc3\\userspace\\toprak\\BoSSS-ConvSteadyFinal\\VanishingSphere2D_convergenceAggSteadyStokesExactBC-XNSE_Solver2024Aug20_130038.734917\n",
      "copied 43 files.\n",
      "   written file: control.obj\n",
      "   copied 'win\\amd64' runtime.\n",
      "deployment finished.\n",
      "Submitted 50th \n",
      "\n",
      "Deployments so far (0): ;\n",
      "Success: 0\n",
      "job submit count: 0\n"
     ]
    },
    {
     "name": "stderr",
     "output_type": "stream",
     "text": [
      "unable to determine job status - unknown\r\n"
     ]
    },
    {
     "name": "stdout",
     "output_type": "stream",
     "text": [
      "Deploying job VanishingSphere_SolverTrue_J57600_k1_agg0.5_AMRFalse_LBFalse_atZ_r0.6_W6.94_2D_StokesdRdt0.00_MUMPS_Steady_ct1 ... \n",
      "Deploying executables and additional files ...\n",
      "Deployment directory: \\\\dc3\\userspace\\toprak\\BoSSS-ConvSteadyFinal\\VanishingSphere2D_convergenceAggSteadyStokesExactBC-XNSE_Solver2024Aug20_130053.532043\n",
      "copied 43 files.\n",
      "   written file: control.obj\n",
      "   copied 'win\\amd64' runtime.\n",
      "deployment finished.\n",
      "Submitted 51th \n",
      "\n",
      "Deployments so far (0): ;\n",
      "Success: 0\n",
      "job submit count: 0\n"
     ]
    },
    {
     "name": "stderr",
     "output_type": "stream",
     "text": [
      "unable to determine job status - unknown\r\n"
     ]
    },
    {
     "name": "stdout",
     "output_type": "stream",
     "text": [
      "Deploying job VanishingSphere_SolverTrue_J57600_k2_agg0.2_AMRFalse_LBFalse_atZ_r0.6_W6.94_2D_StokesdRdt0.00_MUMPS_Steady_ct1 ... \n",
      "Deploying executables and additional files ...\n",
      "Deployment directory: \\\\dc3\\userspace\\toprak\\BoSSS-ConvSteadyFinal\\VanishingSphere2D_convergenceAggSteadyStokesExactBC-XNSE_Solver2024Aug20_130108.084675\n",
      "copied 43 files.\n",
      "   written file: control.obj\n",
      "   copied 'win\\amd64' runtime.\n",
      "deployment finished.\n",
      "Submitted 52th \n",
      "\n",
      "Deployments so far (0): ;\n",
      "Success: 0\n",
      "job submit count: 0\n"
     ]
    },
    {
     "name": "stderr",
     "output_type": "stream",
     "text": [
      "unable to determine job status - unknown\r\n"
     ]
    },
    {
     "name": "stdout",
     "output_type": "stream",
     "text": [
      "Deploying job VanishingSphere_SolverTrue_J57600_k2_agg0.3_AMRFalse_LBFalse_atZ_r0.6_W6.94_2D_StokesdRdt0.00_MUMPS_Steady_ct1 ... \n",
      "Deploying executables and additional files ...\n",
      "Deployment directory: \\\\dc3\\userspace\\toprak\\BoSSS-ConvSteadyFinal\\VanishingSphere2D_convergenceAggSteadyStokesExactBC-XNSE_Solver2024Aug20_130123.505766\n",
      "copied 43 files.\n",
      "   written file: control.obj\n",
      "   copied 'win\\amd64' runtime.\n",
      "deployment finished.\n",
      "Submitted 53th \n",
      "\n",
      "Deployments so far (0): ;\n",
      "Success: 0\n",
      "job submit count: 0\n"
     ]
    },
    {
     "name": "stderr",
     "output_type": "stream",
     "text": [
      "unable to determine job status - unknown\r\n"
     ]
    },
    {
     "name": "stdout",
     "output_type": "stream",
     "text": [
      "Deploying job VanishingSphere_SolverTrue_J57600_k2_agg0.4_AMRFalse_LBFalse_atZ_r0.6_W6.94_2D_StokesdRdt0.00_MUMPS_Steady_ct1 ... \n",
      "Deploying executables and additional files ...\n",
      "Deployment directory: \\\\dc3\\userspace\\toprak\\BoSSS-ConvSteadyFinal\\VanishingSphere2D_convergenceAggSteadyStokesExactBC-XNSE_Solver2024Aug20_130138.209643\n",
      "copied 43 files.\n",
      "   written file: control.obj\n",
      "   copied 'win\\amd64' runtime.\n",
      "deployment finished.\n",
      "Submitted 54th \n",
      "\n",
      "Deployments so far (0): ;\n",
      "Success: 0\n",
      "job submit count: 0\n"
     ]
    },
    {
     "name": "stderr",
     "output_type": "stream",
     "text": [
      "unable to determine job status - unknown\r\n"
     ]
    },
    {
     "name": "stdout",
     "output_type": "stream",
     "text": [
      "Deploying job VanishingSphere_SolverTrue_J57600_k2_agg0.5_AMRFalse_LBFalse_atZ_r0.6_W6.94_2D_StokesdRdt0.00_MUMPS_Steady_ct1 ... \n",
      "Deploying executables and additional files ...\n",
      "Deployment directory: \\\\dc3\\userspace\\toprak\\BoSSS-ConvSteadyFinal\\VanishingSphere2D_convergenceAggSteadyStokesExactBC-XNSE_Solver2024Aug20_130153.104122\n",
      "copied 43 files.\n",
      "   written file: control.obj\n",
      "   copied 'win\\amd64' runtime.\n",
      "deployment finished.\n",
      "Submitted 55th \n",
      "\n",
      "Deployments so far (0): ;\n",
      "Success: 0\n",
      "job submit count: 0\n"
     ]
    },
    {
     "name": "stderr",
     "output_type": "stream",
     "text": [
      "unable to determine job status - unknown\r\n"
     ]
    },
    {
     "name": "stdout",
     "output_type": "stream",
     "text": [
      "Deploying job VanishingSphere_SolverTrue_J57600_k3_agg0.2_AMRFalse_LBFalse_atZ_r0.6_W6.94_2D_StokesdRdt0.00_MUMPS_Steady_ct1 ... \n",
      "Deploying executables and additional files ...\n",
      "Deployment directory: \\\\dc3\\userspace\\toprak\\BoSSS-ConvSteadyFinal\\VanishingSphere2D_convergenceAggSteadyStokesExactBC-XNSE_Solver2024Aug20_130208.349421\n",
      "copied 43 files.\n",
      "   written file: control.obj\n",
      "   copied 'win\\amd64' runtime.\n",
      "deployment finished.\n",
      "Submitted 56th \n",
      "\n",
      "Deployments so far (0): ;\n",
      "Success: 0\n",
      "job submit count: 0\n"
     ]
    },
    {
     "name": "stderr",
     "output_type": "stream",
     "text": [
      "unable to determine job status - unknown\r\n"
     ]
    },
    {
     "name": "stdout",
     "output_type": "stream",
     "text": [
      "Deploying job VanishingSphere_SolverTrue_J57600_k3_agg0.3_AMRFalse_LBFalse_atZ_r0.6_W6.94_2D_StokesdRdt0.00_MUMPS_Steady_ct1 ... \n",
      "Deploying executables and additional files ...\n",
      "Deployment directory: \\\\dc3\\userspace\\toprak\\BoSSS-ConvSteadyFinal\\VanishingSphere2D_convergenceAggSteadyStokesExactBC-XNSE_Solver2024Aug20_130222.887557\n",
      "copied 43 files.\n",
      "   written file: control.obj\n",
      "   copied 'win\\amd64' runtime.\n",
      "deployment finished.\n",
      "Submitted 57th \n",
      "\n",
      "Deployments so far (0): ;\n",
      "Success: 0\n",
      "job submit count: 0\n"
     ]
    },
    {
     "name": "stderr",
     "output_type": "stream",
     "text": [
      "unable to determine job status - unknown\r\n"
     ]
    },
    {
     "name": "stdout",
     "output_type": "stream",
     "text": [
      "Deploying job VanishingSphere_SolverTrue_J57600_k3_agg0.4_AMRFalse_LBFalse_atZ_r0.6_W6.94_2D_StokesdRdt0.00_MUMPS_Steady_ct1 ... \n",
      "Deploying executables and additional files ...\n",
      "Deployment directory: \\\\dc3\\userspace\\toprak\\BoSSS-ConvSteadyFinal\\VanishingSphere2D_convergenceAggSteadyStokesExactBC-XNSE_Solver2024Aug20_130239.958073\n",
      "copied 43 files.\n",
      "   written file: control.obj\n",
      "   copied 'win\\amd64' runtime.\n",
      "deployment finished.\n",
      "Submitted 58th \n",
      "\n",
      "Deployments so far (0): ;\n",
      "Success: 0\n",
      "job submit count: 0\n"
     ]
    },
    {
     "name": "stderr",
     "output_type": "stream",
     "text": [
      "unable to determine job status - unknown\r\n"
     ]
    },
    {
     "name": "stdout",
     "output_type": "stream",
     "text": [
      "Deploying job VanishingSphere_SolverTrue_J57600_k3_agg0.5_AMRFalse_LBFalse_atZ_r0.6_W6.94_2D_StokesdRdt0.00_MUMPS_Steady_ct1 ... \n",
      "Deploying executables and additional files ...\n",
      "Deployment directory: \\\\dc3\\userspace\\toprak\\BoSSS-ConvSteadyFinal\\VanishingSphere2D_convergenceAggSteadyStokesExactBC-XNSE_Solver2024Aug20_130254.697490\n",
      "copied 43 files.\n",
      "   written file: control.obj\n",
      "   copied 'win\\amd64' runtime.\n",
      "deployment finished.\n",
      "Submitted 59th \n",
      "\n"
     ]
    }
   ],
   "source": [
    "int k = 0;\n",
    "foreach(var ctrl in controls){\n",
    "    string sessname = ctrl.SessionName;\n",
    "        foreach(int cores in core_sweep){\n",
    "            ctrl.SessionName = sessname + \"_ct\"+cores;            \n",
    "            var aJob   = new Job(\"Vanishing\"+Gshape+\"_\"+ctrl.SessionName,typeof(XNSE));\n",
    "            aJob.SetControlObject(ctrl);\n",
    "            aJob.NumberOfMPIProcs         = cores;\n",
    "            //aJob.ExecutionTime            = \"72:00:00\";\n",
    "            aJob.UseComputeNodesExclusive = true;\n",
    "            aJob.NumberOfThreads = 4;\n",
    "            aJob.Activate(myBatch);\n",
    "            \n",
    "            Console.WriteLine(\"Submitted {0}th \\n\",k) ;\n",
    "            k++;           \n",
    "        }       \n",
    "    }\n"
   ]
  },
  {
   "cell_type": "markdown",
   "metadata": {},
   "source": [
    "List sessions submitted"
   ]
  },
  {
   "cell_type": "code",
   "execution_count": 16,
   "metadata": {
    "dotnet_interactive": {
     "language": "csharp"
    },
    "polyglot_notebook": {
     "kernelName": "csharp"
    }
   },
   "outputs": [
    {
     "data": {
      "text/plain": [
       "#0: VanishingSphere2D_convergenceAggSteadyStokesExactBC\tSolverTrue_J57600_k2_agg0.4_AMRFalse_LBFalse_atZ_r0.6_W6.94_2D_StokesdRdt0.00_MUMPS_Steady_ct1*\t8/20/2024 1:02:57 PM\t08a39405...\r\n",
       "#1: VanishingSphere2D_convergenceAggSteadyStokesExactBC\tSolverTrue_J57600_k2_agg0.5_AMRFalse_LBFalse_atZ_r0.6_W6.94_2D_StokesdRdt0.00_MUMPS_Steady_ct1*\t8/20/2024 1:02:52 PM\tfa95be63...\r\n",
       "#2: VanishingSphere2D_convergenceAggSteadyStokesExactBC\tSolverTrue_J57600_k3_agg0.2_AMRFalse_LBFalse_atZ_r0.6_W6.94_2D_StokesdRdt0.00_MUMPS_Steady_ct1*\t8/20/2024 1:03:04 PM\t4e6c9e76...\r\n",
       "#3: VanishingSphere2D_convergenceAggSteadyStokesExactBC\tSolverTrue_J57600_k2_agg0.3_AMRFalse_LBFalse_atZ_r0.6_W6.94_2D_StokesdRdt0.00_MUMPS_Steady_ct1*\t8/20/2024 1:02:20 PM\t283173f3...\r\n",
       "#4: VanishingSphere2D_convergenceAggSteadyStokesExactBC\tSolverTrue_J57600_k2_agg0.2_AMRFalse_LBFalse_atZ_r0.6_W6.94_2D_StokesdRdt0.00_MUMPS_Steady_ct1*\t8/20/2024 1:02:28 PM\t4a8f2666...\r\n",
       "#5: VanishingSphere2D_convergenceAggSteadyStokesExactBC\tSolverTrue_J14400_k3_agg0.4_AMRFalse_LBFalse_atZ_r0.6_W6.94_2D_StokesdRdt0.00_MUMPS_Steady_ct1\t8/20/2024 1:00:55 PM\t9348735c...\r\n",
       "#6: VanishingSphere2D_convergenceAggSteadyStokesExactBC\tSolverTrue_J14400_k3_agg0.2_AMRFalse_LBFalse_atZ_r0.6_W6.94_2D_StokesdRdt0.00_MUMPS_Steady_ct1\t8/20/2024 1:00:27 PM\tb237d1c9...\r\n",
       "#7: VanishingSphere2D_convergenceAggSteadyStokesExactBC\tSolverTrue_J57600_k1_agg0.5_AMRFalse_LBFalse_atZ_r0.6_W6.94_2D_StokesdRdt0.00_MUMPS_Steady_ct1*\t8/20/2024 1:01:50 PM\t7a522cf4...\r\n",
       "#8: VanishingSphere2D_convergenceAggSteadyStokesExactBC\tSolverTrue_J57600_k1_agg0.4_AMRFalse_LBFalse_atZ_r0.6_W6.94_2D_StokesdRdt0.00_MUMPS_Steady_ct1*\t8/20/2024 1:01:57 PM\t53269d71...\r\n",
       "#9: VanishingSphere2D_convergenceAggSteadyStokesExactBC\tSolverTrue_J14400_k2_agg0.5_AMRFalse_LBFalse_atZ_r0.6_W6.94_2D_StokesdRdt0.00_MUMPS_Steady_ct1\t8/20/2024 12:59:50 PM\tb0fd21fe...\r\n",
       "#10: VanishingSphere2D_convergenceAggSteadyStokesExactBC\tSolverTrue_J14400_k2_agg0.4_AMRFalse_LBFalse_atZ_r0.6_W6.94_2D_StokesdRdt0.00_MUMPS_Steady_ct1\t8/20/2024 12:59:37 PM\teb2505eb...\r\n",
       "#11: VanishingSphere2D_convergenceAggSteadyStokesExactBC\tSolverTrue_J57600_k1_agg0.3_AMRFalse_LBFalse_atZ_r0.6_W6.94_2D_StokesdRdt0.00_MUMPS_Steady_ct1*\t8/20/2024 1:01:20 PM\t375df17f...\r\n",
       "#12: VanishingSphere2D_convergenceAggSteadyStokesExactBC\tSolverTrue_J57600_k1_agg0.2_AMRFalse_LBFalse_atZ_r0.6_W6.94_2D_StokesdRdt0.00_MUMPS_Steady_ct1*\t8/20/2024 1:01:05 PM\td1605032...\r\n",
       "#13: VanishingSphere2D_convergenceAggSteadyStokesExactBC\tSolverTrue_J14400_k2_agg0.2_AMRFalse_LBFalse_atZ_r0.6_W6.94_2D_StokesdRdt0.00_MUMPS_Steady_ct1\t8/20/2024 12:59:07 PM\tf78f302f...\r\n",
       "#14: VanishingSphere2D_convergenceAggSteadyStokesExactBC\tSolverTrue_J14400_k3_agg0.5_AMRFalse_LBFalse_atZ_r0.6_W6.94_2D_StokesdRdt0.00_MUMPS_Steady_ct1*\t8/20/2024 1:01:11 PM\te7cbb069...\r\n",
       "#15: VanishingSphere2D_convergenceAggSteadyStokesExactBC\tSolverTrue_J14400_k2_agg0.3_AMRFalse_LBFalse_atZ_r0.6_W6.94_2D_StokesdRdt0.00_MUMPS_Steady_ct1\t8/20/2024 12:59:43 PM\t0e9ae17c...\r\n",
       "#16: VanishingSphere2D_convergenceAggSteadyStokesExactBC\tSolverTrue_J14400_k3_agg0.3_AMRFalse_LBFalse_atZ_r0.6_W6.94_2D_StokesdRdt0.00_MUMPS_Steady_ct1*\t8/20/2024 1:00:47 PM\t3a521c00...\r\n",
       "#17: VanishingSphere2D_convergenceAggSteadyStokesExactBC\tSolverTrue_J14400_k1_agg0.5_AMRFalse_LBFalse_atZ_r0.6_W6.94_2D_StokesdRdt0.00_MUMPS_Steady_ct1\t8/20/2024 12:58:53 PM\tb93dedff...\r\n",
       "#18: VanishingSphere2D_convergenceAggSteadyStokesExactBC\tSolverTrue_J14400_k1_agg0.3_AMRFalse_LBFalse_atZ_r0.6_W6.94_2D_StokesdRdt0.00_MUMPS_Steady_ct1\t8/20/2024 12:58:23 PM\t72a9bd97...\r\n",
       "#19: VanishingSphere2D_convergenceAggSteadyStokesExactBC\tSolverTrue_J14400_k1_agg0.2_AMRFalse_LBFalse_atZ_r0.6_W6.94_2D_StokesdRdt0.00_MUMPS_Steady_ct1\t8/20/2024 12:58:09 PM\t11ca66dd...\r\n",
       "#20: VanishingSphere2D_convergenceAggSteadyStokesExactBC\tSolverTrue_J14400_k1_agg0.4_AMRFalse_LBFalse_atZ_r0.6_W6.94_2D_StokesdRdt0.00_MUMPS_Steady_ct1\t8/20/2024 12:58:59 PM\t63cc4d38...\r\n",
       "#21: VanishingSphere2D_convergenceAggSteadyStokesExactBC\tSolverTrue_J3600_k3_agg0.4_AMRFalse_LBFalse_atZ_r0.6_W6.94_2D_StokesdRdt0.00_MUMPS_Steady_ct1\t8/20/2024 12:58:06 PM\td2161ade...\r\n",
       "#22: VanishingSphere2D_convergenceAggSteadyStokesExactBC\tSolverTrue_J3600_k3_agg0.5_AMRFalse_LBFalse_atZ_r0.6_W6.94_2D_StokesdRdt0.00_MUMPS_Steady_ct1\t8/20/2024 12:58:16 PM\tfc82b1d4...\r\n",
       "#23: VanishingSphere2D_convergenceAggSteadyStokesExactBC\tSolverTrue_J3600_k3_agg0.3_AMRFalse_LBFalse_atZ_r0.6_W6.94_2D_StokesdRdt0.00_MUMPS_Steady_ct1\t8/20/2024 12:57:25 PM\t330f8d9c...\r\n",
       "#24: VanishingSphere2D_convergenceAggSteadyStokesExactBC\tSolverTrue_J3600_k3_agg0.2_AMRFalse_LBFalse_atZ_r0.6_W6.94_2D_StokesdRdt0.00_MUMPS_Steady_ct1\t8/20/2024 12:57:11 PM\t904ef2a9...\r\n",
       "#25: VanishingSphere2D_convergenceAggSteadyStokesExactBC\tSolverTrue_J3600_k2_agg0.5_AMRFalse_LBFalse_atZ_r0.6_W6.94_2D_StokesdRdt0.00_MUMPS_Steady_ct1\t8/20/2024 12:56:57 PM\td8e40a76...\r\n",
       "#26: VanishingSphere2D_convergenceAggSteadyStokesExactBC\tSolverTrue_J3600_k2_agg0.4_AMRFalse_LBFalse_atZ_r0.6_W6.94_2D_StokesdRdt0.00_MUMPS_Steady_ct1\t8/20/2024 12:56:43 PM\t62d01af5...\r\n",
       "#27: VanishingSphere2D_convergenceAggSteadyStokesExactBC\tSolverTrue_J3600_k2_agg0.3_AMRFalse_LBFalse_atZ_r0.6_W6.94_2D_StokesdRdt0.00_MUMPS_Steady_ct1\t8/20/2024 12:56:28 PM\t0d260ce4...\r\n",
       "#28: VanishingSphere2D_convergenceAggSteadyStokesExactBC\tSolverTrue_J3600_k2_agg0.2_AMRFalse_LBFalse_atZ_r0.6_W6.94_2D_StokesdRdt0.00_MUMPS_Steady_ct1\t8/20/2024 12:56:13 PM\ta1337f4f...\r\n",
       "#29: VanishingSphere2D_convergenceAggSteadyStokesExactBC\tSolverTrue_J3600_k1_agg0.5_AMRFalse_LBFalse_atZ_r0.6_W6.94_2D_StokesdRdt0.00_MUMPS_Steady_ct1\t8/20/2024 12:56:00 PM\ta436ddb8...\r\n",
       "#30: VanishingSphere2D_convergenceAggSteadyStokesExactBC\tSolverTrue_J3600_k1_agg0.4_AMRFalse_LBFalse_atZ_r0.6_W6.94_2D_StokesdRdt0.00_MUMPS_Steady_ct1\t8/20/2024 12:56:05 PM\t28d37cde...\r\n",
       "#31: VanishingSphere2D_convergenceAggSteadyStokesExactBC\tSolverTrue_J3600_k1_agg0.3_AMRFalse_LBFalse_atZ_r0.6_W6.94_2D_StokesdRdt0.00_MUMPS_Steady_ct1\t8/20/2024 12:55:30 PM\t8bb9d0bb...\r\n",
       "#32: VanishingSphere2D_convergenceAggSteadyStokesExactBC\tSolverTrue_J3600_k1_agg0.2_AMRFalse_LBFalse_atZ_r0.6_W6.94_2D_StokesdRdt0.00_MUMPS_Steady_ct1\t8/20/2024 12:55:16 PM\t44e5d3fe...\r\n",
       "#33: VanishingSphere2D_convergenceAggSteadyStokesExactBC\tSolverTrue_J900_k3_agg0.5_AMRFalse_LBFalse_atZ_r0.6_W6.94_2D_StokesdRdt0.00_MUMPS_Steady_ct1\t8/20/2024 12:55:02 PM\tc55b97d0...\r\n",
       "#34: VanishingSphere2D_convergenceAggSteadyStokesExactBC\tSolverTrue_J900_k3_agg0.4_AMRFalse_LBFalse_atZ_r0.6_W6.94_2D_StokesdRdt0.00_MUMPS_Steady_ct1\t8/20/2024 12:54:47 PM\te33d8a43...\r\n",
       "#35: VanishingSphere2D_convergenceAggSteadyStokesExactBC\tSolverTrue_J900_k3_agg0.3_AMRFalse_LBFalse_atZ_r0.6_W6.94_2D_StokesdRdt0.00_MUMPS_Steady_ct1\t8/20/2024 12:54:32 PM\t6f1fe357...\r\n",
       "#36: VanishingSphere2D_convergenceAggSteadyStokesExactBC\tSolverTrue_J900_k2_agg0.5_AMRFalse_LBFalse_atZ_r0.6_W6.94_2D_StokesdRdt0.00_MUMPS_Steady_ct1\t8/20/2024 12:54:31 PM\t0c955b6f...\r\n",
       "#37: VanishingSphere2D_convergenceAggSteadyStokesExactBC\tSolverTrue_J900_k3_agg0.2_AMRFalse_LBFalse_atZ_r0.6_W6.94_2D_StokesdRdt0.00_MUMPS_Steady_ct1\t8/20/2024 12:54:19 PM\t438d79f9...\r\n",
       "#38: VanishingSphere2D_convergenceAggSteadyStokesExactBC\tSolverTrue_J900_k2_agg0.4_AMRFalse_LBFalse_atZ_r0.6_W6.94_2D_StokesdRdt0.00_MUMPS_Steady_ct1\t8/20/2024 12:53:50 PM\t0c5ad71d...\r\n",
       "#39: VanishingSphere2D_convergenceAggSteadyStokesExactBC\tSolverTrue_J900_k2_agg0.3_AMRFalse_LBFalse_atZ_r0.6_W6.94_2D_StokesdRdt0.00_MUMPS_Steady_ct1\t8/20/2024 12:53:36 PM\t782e5be9...\r\n",
       "#40: VanishingSphere2D_convergenceAggSteadyStokesExactBC\tSolverTrue_J900_k2_agg0.2_AMRFalse_LBFalse_atZ_r0.6_W6.94_2D_StokesdRdt0.00_MUMPS_Steady_ct1\t8/20/2024 12:53:20 PM\t9385efc7...\r\n",
       "#41: VanishingSphere2D_convergenceAggSteadyStokesExactBC\tSolverTrue_J900_k1_agg0.5_AMRFalse_LBFalse_atZ_r0.6_W6.94_2D_StokesdRdt0.00_MUMPS_Steady_ct1\t8/20/2024 12:53:07 PM\t70735e91...\r\n",
       "#42: VanishingSphere2D_convergenceAggSteadyStokesExactBC\tSolverTrue_J900_k1_agg0.4_AMRFalse_LBFalse_atZ_r0.6_W6.94_2D_StokesdRdt0.00_MUMPS_Steady_ct1\t8/20/2024 12:52:53 PM\tba3a8ade...\r\n",
       "#43: VanishingSphere2D_convergenceAggSteadyStokesExactBC\tSolverTrue_J900_k1_agg0.3_AMRFalse_LBFalse_atZ_r0.6_W6.94_2D_StokesdRdt0.00_MUMPS_Steady_ct1\t8/20/2024 12:52:37 PM\t662cd52e...\r\n",
       "#44: VanishingSphere2D_convergenceAggSteadyStokesExactBC\tSolverTrue_J900_k1_agg0.2_AMRFalse_LBFalse_atZ_r0.6_W6.94_2D_StokesdRdt0.00_MUMPS_Steady_ct1\t8/20/2024 12:52:23 PM\tbad065ba...\r\n",
       "#45: VanishingSphere2D_convergenceAggSteadyStokesExactBC\tSolverTrue_J225_k3_agg0.5_AMRFalse_LBFalse_atZ_r0.6_W6.94_2D_StokesdRdt0.00_MUMPS_Steady_ct1\t8/20/2024 12:52:09 PM\t9a253d7a...\r\n",
       "#46: VanishingSphere2D_convergenceAggSteadyStokesExactBC\tSolverTrue_J225_k3_agg0.4_AMRFalse_LBFalse_atZ_r0.6_W6.94_2D_StokesdRdt0.00_MUMPS_Steady_ct1\t8/20/2024 12:51:54 PM\tcef1397d...\r\n",
       "#47: VanishingSphere2D_convergenceAggSteadyStokesExactBC\tSolverTrue_J225_k3_agg0.3_AMRFalse_LBFalse_atZ_r0.6_W6.94_2D_StokesdRdt0.00_MUMPS_Steady_ct1\t8/20/2024 12:51:40 PM\t1d4700d0...\r\n",
       "#48: VanishingSphere2D_convergenceAggSteadyStokesExactBC\tSolverTrue_J225_k3_agg0.2_AMRFalse_LBFalse_atZ_r0.6_W6.94_2D_StokesdRdt0.00_MUMPS_Steady_ct1\t8/20/2024 12:51:26 PM\te9a3f471...\r\n",
       "#49: VanishingSphere2D_convergenceAggSteadyStokesExactBC\tSolverTrue_J225_k2_agg0.5_AMRFalse_LBFalse_atZ_r0.6_W6.94_2D_StokesdRdt0.00_MUMPS_Steady_ct1\t8/20/2024 12:51:13 PM\t2971a1b4...\r\n",
       "#50: VanishingSphere2D_convergenceAggSteadyStokesExactBC\tSolverTrue_J225_k2_agg0.4_AMRFalse_LBFalse_atZ_r0.6_W6.94_2D_StokesdRdt0.00_MUMPS_Steady_ct1\t8/20/2024 12:50:57 PM\t7a2ec450...\r\n",
       "#51: VanishingSphere2D_convergenceAggSteadyStokesExactBC\tSolverTrue_J225_k2_agg0.3_AMRFalse_LBFalse_atZ_r0.6_W6.94_2D_StokesdRdt0.00_MUMPS_Steady_ct1\t8/20/2024 12:50:44 PM\t1868869d...\r\n",
       "#52: VanishingSphere2D_convergenceAggSteadyStokesExactBC\tSolverTrue_J225_k2_agg0.2_AMRFalse_LBFalse_atZ_r0.6_W6.94_2D_StokesdRdt0.00_MUMPS_Steady_ct1\t8/20/2024 12:50:29 PM\ta43b2911...\r\n",
       "#53: VanishingSphere2D_convergenceAggSteadyStokesExactBC\tSolverTrue_J225_k1_agg0.5_AMRFalse_LBFalse_atZ_r0.6_W6.94_2D_StokesdRdt0.00_MUMPS_Steady_ct1\t8/20/2024 12:50:15 PM\tc22ecfed...\r\n",
       "#54: VanishingSphere2D_convergenceAggSteadyStokesExactBC\tSolverTrue_J225_k1_agg0.4_AMRFalse_LBFalse_atZ_r0.6_W6.94_2D_StokesdRdt0.00_MUMPS_Steady_ct1\t8/20/2024 12:50:01 PM\t2286726d...\r\n",
       "#55: VanishingSphere2D_convergenceAggSteadyStokesExactBC\tSolverTrue_J225_k1_agg0.3_AMRFalse_LBFalse_atZ_r0.6_W6.94_2D_StokesdRdt0.00_MUMPS_Steady_ct1\t8/20/2024 12:49:46 PM\tde0b0296...\r\n",
       "#56: VanishingSphere2D_convergenceAggSteadyStokesExactBC\tSolverTrue_J225_k1_agg0.2_AMRFalse_LBFalse_atZ_r0.6_W6.94_2D_StokesdRdt0.00_MUMPS_Steady_ct1\t8/20/2024 12:49:34 PM\t5c3bfbef...\r\n",
       "#57: VanishingSphere2D_convergenceAggSteadyStokesExactBC\tSolverTrue_J57600_k2_agg0.1_AMRFalse_LBFalse_atZ_r0.6_W6.94_2D_StokesdRdt0.00_MUMPS_Steady_re_ct1\t8/20/2024 12:09:22 PM\t70dfbcfa...\r\n",
       "#58: VanishingSphere2D_convergenceAggSteadyStokesExactBC\tSolverTrue_J14400_k2_agg0.1_AMRFalse_LBFalse_atZ_r0.6_W6.94_2D_StokesdRdt0.00_MUMPS_Steady_ct1\t8/19/2024 5:53:33 PM\t19c5feaa...\r\n",
       "#59: VanishingSphere2D_convergenceAggSteadyStokesExactBC\tSolverTrue_J900_k1_agg0_AMRFalse_LBFalse_atZ_r0.6_W6.94_2D_StokesdRdt0.00_MUMPS_Steady_ct1\t8/19/2024 5:42:18 PM\tec218148...\r\n",
       "#60: VanishingSphere2D_convergenceAggSteadyStokesExactBC\tSolverTrue_J57600_k3_agg0_AMRFalse_LBFalse_atZ_r0.6_W6.94_2D_StokesdRdt0.00_MUMPS_Steady_ct1\t8/19/2024 5:54:37 PM\t327ede89...\r\n",
       "#61: VanishingSphere2D_convergenceAggSteadyStokesExactBC\tSolverTrue_J57600_k3_agg0.1_AMRFalse_LBFalse_atZ_r0.6_W6.94_2D_StokesdRdt0.00_MUMPS_Steady_ct1\t8/19/2024 5:55:15 PM\tf29abd0b...\r\n",
       "#62: VanishingSphere2D_convergenceAggSteadyStokesExactBC\tSolverTrue_J57600_k2_agg0_AMRFalse_LBFalse_atZ_r0.6_W6.94_2D_StokesdRdt0.00_MUMPS_Steady_ct1\t8/19/2024 5:54:33 PM\t4bb25845...\r\n",
       "#63: VanishingSphere2D_convergenceAggSteadyStokesExactBC\tSolverTrue_J14400_k3_agg0_AMRFalse_LBFalse_atZ_r0.6_W6.94_2D_StokesdRdt0.00_MUMPS_Steady_ct1\t8/19/2024 5:53:46 PM\tde859855...\r\n",
       "#64: VanishingSphere2D_convergenceAggSteadyStokesExactBC\tSolverTrue_J14400_k3_agg0.1_AMRFalse_LBFalse_atZ_r0.6_W6.94_2D_StokesdRdt0.00_MUMPS_Steady_ct1\t8/19/2024 5:54:19 PM\t80c3b6eb...\r\n",
       "#65: VanishingSphere2D_convergenceAggSteadyStokesExactBC\tSolverTrue_J14400_k2_agg0_AMRFalse_LBFalse_atZ_r0.6_W6.94_2D_StokesdRdt0.00_MUMPS_Steady_ct1\t8/19/2024 5:53:15 PM\t7fde046d...\r\n",
       "#66: VanishingSphere2D_convergenceAggSteadyStokesExactBC\tSolverTrue_J3600_k3_agg0.1_AMRFalse_LBFalse_atZ_r0.6_W6.94_2D_StokesdRdt0.00_MUMPS_Steady_ct1\t8/19/2024 5:53:01 PM\t5fe1787f...\r\n",
       "#67: VanishingSphere2D_convergenceAggSteadyStokesExactBC\tSolverTrue_J3600_k3_agg0_AMRFalse_LBFalse_atZ_r0.6_W6.94_2D_StokesdRdt0.00_MUMPS_Steady_ct1\t8/19/2024 5:52:45 PM\tfedbf37a...\r\n",
       "#68: VanishingSphere2D_convergenceAggSteadyStokesExactBC\tSolverTrue_J3600_k2_agg0.1_AMRFalse_LBFalse_atZ_r0.6_W6.94_2D_StokesdRdt0.00_MUMPS_Steady_ct1\t8/19/2024 5:52:30 PM\t7b041073...\r\n",
       "#69: VanishingSphere2D_convergenceAggSteadyStokesExactBC\tSolverTrue_J3600_k2_agg0_AMRFalse_LBFalse_atZ_r0.6_W6.94_2D_StokesdRdt0.00_MUMPS_Steady_ct1\t8/19/2024 5:52:39 PM\tfbaa1256...\r\n",
       "#70: VanishingSphere2D_convergenceAggSteadyStokesExactBC\tSolverTrue_J900_k3_agg0.1_AMRFalse_LBFalse_atZ_r0.6_W6.94_2D_StokesdRdt0.00_MUMPS_Steady_ct1\t8/19/2024 5:52:24 PM\t162e3886...\r\n",
       "#71: VanishingSphere2D_convergenceAggSteadyStokesExactBC\tSolverTrue_J900_k3_agg0_AMRFalse_LBFalse_atZ_r0.6_W6.94_2D_StokesdRdt0.00_MUMPS_Steady_ct1\t8/19/2024 5:51:48 PM\tad6dc059...\r\n",
       "#72: VanishingSphere2D_convergenceAggSteadyStokesExactBC\tSolverTrue_J900_k2_agg0.1_AMRFalse_LBFalse_atZ_r0.6_W6.94_2D_StokesdRdt0.00_MUMPS_Steady_ct1\t8/19/2024 5:51:36 PM\td3daaa91...\r\n",
       "#73: VanishingSphere2D_convergenceAggSteadyStokesExactBC\tSolverTrue_J900_k2_agg0_AMRFalse_LBFalse_atZ_r0.6_W6.94_2D_StokesdRdt0.00_MUMPS_Steady_ct1\t8/19/2024 5:51:20 PM\t6a946130...\r\n",
       "#74: VanishingSphere2D_convergenceAggSteadyStokesExactBC\tSolverTrue_J225_k3_agg0.1_AMRFalse_LBFalse_atZ_r0.6_W6.94_2D_StokesdRdt0.00_MUMPS_Steady_ct1\t8/19/2024 5:51:05 PM\t956e06ae...\r\n",
       "#75: VanishingSphere2D_convergenceAggSteadyStokesExactBC\tSolverTrue_J225_k3_agg0_AMRFalse_LBFalse_atZ_r0.6_W6.94_2D_StokesdRdt0.00_MUMPS_Steady_ct1\t8/19/2024 5:50:52 PM\t79f0bddc...\r\n",
       "#76: VanishingSphere2D_convergenceAggSteadyStokesExactBC\tSolverTrue_J225_k2_agg0.1_AMRFalse_LBFalse_atZ_r0.6_W6.94_2D_StokesdRdt0.00_MUMPS_Steady_ct1\t8/19/2024 5:50:59 PM\t28445694...\r\n",
       "#77: VanishingSphere2D_convergenceAggSteadyStokesExactBC\tSolverTrue_J225_k2_agg0_AMRFalse_LBFalse_atZ_r0.6_W6.94_2D_StokesdRdt0.00_MUMPS_Steady_ct1\t8/19/2024 5:50:45 PM\t59a93c91...\r\n",
       "#78: VanishingSphere2D_convergenceAggSteadyStokesExactBC\tSolverTrue_J57600_k1_agg0.1_AMRFalse_LBFalse_atZ_r0.6_W6.94_2D_StokesdRdt0.00_MUMPS_Steady_ct1\t8/19/2024 5:43:54 PM\t663250bd...\r\n",
       "#79: VanishingSphere2D_convergenceAggSteadyStokesExactBC\tSolverTrue_J57600_k1_agg0_AMRFalse_LBFalse_atZ_r0.6_W6.94_2D_StokesdRdt0.00_MUMPS_Steady_ct1\t8/19/2024 5:43:42 PM\t3f5e92e1...\r\n",
       "#80: VanishingSphere2D_convergenceAggSteadyStokesExactBC\tSolverTrue_J225_k1_agg0_AMRFalse_LBFalse_atZ_r0.6_W6.94_2D_StokesdRdt0.00_MUMPS_Steady_ct1\t8/19/2024 5:41:53 PM\t34fe8acd...\r\n",
       "#81: VanishingSphere2D_convergenceAggSteadyStokesExactBC\tSolverTrue_J14400_k1_agg0_AMRFalse_LBFalse_atZ_r0.6_W6.94_2D_StokesdRdt0.00_MUMPS_Steady_ct1\t8/19/2024 5:43:13 PM\t6590c9f5...\r\n",
       "#82: VanishingSphere2D_convergenceAggSteadyStokesExactBC\tSolverTrue_J14400_k1_agg0.1_AMRFalse_LBFalse_atZ_r0.6_W6.94_2D_StokesdRdt0.00_MUMPS_Steady_ct1\t8/19/2024 5:43:47 PM\t2fb5b929...\r\n",
       "#83: VanishingSphere2D_convergenceAggSteadyStokesExactBC\tSolverTrue_J3600_k1_agg0.1_AMRFalse_LBFalse_atZ_r0.6_W6.94_2D_StokesdRdt0.00_MUMPS_Steady_ct1\t8/19/2024 5:43:03 PM\ta2741c47...\r\n",
       "#84: VanishingSphere2D_convergenceAggSteadyStokesExactBC\tSolverTrue_J3600_k1_agg0_AMRFalse_LBFalse_atZ_r0.6_W6.94_2D_StokesdRdt0.00_MUMPS_Steady_ct1\t8/19/2024 5:42:44 PM\t1dbf40cf...\r\n",
       "#85: VanishingSphere2D_convergenceAggSteadyStokesExactBC\tSolverTrue_J900_k1_agg0.1_AMRFalse_LBFalse_atZ_r0.6_W6.94_2D_StokesdRdt0.00_MUMPS_Steady_ct1\t8/19/2024 5:42:29 PM\tb157a830...\r\n",
       "#86: VanishingSphere2D_convergenceAggSteadyStokesExactBC\tSolverTrue_J225_k1_agg0.1_AMRFalse_LBFalse_atZ_r0.6_W6.94_2D_StokesdRdt0.00_MUMPS_Steady_ct1\t8/19/2024 5:42:02 PM\tc5584c60...\r\n"
      ]
     },
     "metadata": {},
     "output_type": "display_data"
    }
   ],
   "source": [
    "myDB.Sessions\n"
   ]
  },
  {
   "cell_type": "code",
   "execution_count": 17,
   "metadata": {
    "dotnet_interactive": {
     "language": "csharp"
    },
    "polyglot_notebook": {
     "kernelName": "csharp"
    }
   },
   "outputs": [],
   "source": [
    "//s.Export().Do();"
   ]
  }
 ],
 "metadata": {
  "kernelspec": {
   "display_name": ".NET (C#)",
   "language": "C#",
   "name": ".net-csharp"
  },
  "language_info": {
   "name": "polyglot-notebook"
  },
  "orig_nbformat": 4,
  "polyglot_notebook": {
   "kernelInfo": {
    "defaultKernelName": "csharp",
    "items": [
     {
      "aliases": [],
      "name": "csharp"
     }
    ]
   }
  }
 },
 "nbformat": 4,
 "nbformat_minor": 2
}

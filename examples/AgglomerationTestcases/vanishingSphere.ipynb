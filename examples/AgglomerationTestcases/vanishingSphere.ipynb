{
 "cells": [
  {
   "attachments": {},
   "cell_type": "markdown",
   "metadata": {},
   "source": [
    "# Vanishing Sphere (Reducing radius over time)"
   ]
  },
  {
   "cell_type": "code",
   "execution_count": 1,
   "metadata": {
    "dotnet_interactive": {
     "language": "csharp"
    },
    "polyglot_notebook": {
     "kernelName": "csharp"
    }
   },
   "outputs": [],
   "source": [
    "//#r \"./../../../../../public/src/L4-application/BoSSSpad/bin/Release/net6.0/BoSSSpad.dll\"\n",
    "#r \"C:\\Users\\toprak\\Documents\\BoSSS-code\\public\\src\\L4-application\\BoSSSpad\\bin\\Release\\net6.0\\BoSSSpad.dll\"\n",
    "using System;\n",
    "using System.Threading;\n",
    "using System.Diagnostics;\n",
    "using ilPSP;\n",
    "using ilPSP.Utils;\n",
    "using BoSSS.Platform;\n",
    "using BoSSS.Foundation;\n",
    "using BoSSS.Foundation.XDG;\n",
    "using BoSSS.Foundation.Grid;\n",
    "using BoSSS.Solution;\n",
    "using BoSSS.Application.XNSE_Solver;\n",
    "using BoSSS.Application.BoSSSpad;\n",
    "using BoSSS.Foundation.Grid.Classic;\n",
    "using BoSSS.Foundation.IO;\n",
    "using BoSSS.Solution.AdvancedSolvers;\n",
    "using BoSSS.Solution.Control;\n",
    "using BoSSS.Solution.XNSECommon;\n",
    "using BoSSS.Solution.NSECommon;\n",
    "//using BoSSS.XNSE_Solver;\n",
    "using BoSSS.Solution.LoadBalancing;\n",
    "using BoSSS.Solution.LevelSetTools;\n",
    "using BoSSS.Solution.XdgTimestepping;\n",
    "using BoSSS.Solution.Utils;\n",
    "using System.IO;\n",
    "using BoSSS.Application.XNSE_Solver.PhysicalBasedTestcases;\n",
    "using static BoSSS.Application.BoSSSpad.BoSSSshell;\n",
    "Init();"
   ]
  },
  {
   "cell_type": "code",
   "execution_count": 2,
   "metadata": {
    "dotnet_interactive": {
     "language": "csharp"
    },
    "polyglot_notebook": {
     "kernelName": "csharp"
    }
   },
   "outputs": [],
   "source": [
    "// Is used at Jenkins to generate individual names (for output .json)\n",
    "string dbname = System.Environment.GetEnvironmentVariable(\"DATABASE_NAME\");\n",
    "string buildname = System.Environment.GetEnvironmentVariable(\"JOB_NAME\");\n",
    "//defaults\n",
    "buildname = String.IsNullOrEmpty(buildname)? \"sphere\" : buildname;\n",
    "//string thedate = $\"{System.DateTime.Today.Day}-{System.DateTime.Today.Month}-{System.DateTime.Today.Year}\";\n",
    "dbname = String.IsNullOrEmpty(dbname)? \"CondStudy\" : dbname; //Collison´2\n",
    "string table_name = String.Concat(buildname, \"_\", dbname);"
   ]
  },
  {
   "cell_type": "code",
   "execution_count": 7,
   "metadata": {
    "dotnet_interactive": {
     "language": "csharp"
    },
    "polyglot_notebook": {
     "kernelName": "csharp"
    }
   },
   "outputs": [
    {
     "name": "stdout",
     "output_type": "stream",
     "text": [
      "Project name is set to 'sphere_CondStudy'.\r\n"
     ]
    },
    {
     "data": {
      "text/plain": [
       "{ Session Count = 0; Grid Count = 0; Path = \\\\dc3\\userspace\\toprak\\BoSSS-Cluster4\\sphere_CondStudy }"
      ]
     },
     "metadata": {},
     "output_type": "display_data"
    }
   ],
   "source": [
    "//ExecutionQueues\n",
    "var myBatch = ExecutionQueues[2];\n",
    "string WFlowName = table_name;\n",
    "BoSSS.Application.BoSSSpad.BoSSSshell.WorkflowMgm.Init(WFlowName,myBatch);\n",
    "BoSSS.Application.BoSSSpad.BoSSSshell.WorkflowMgm.SetNameBasedSessionJobControlCorrelation();\n",
    "var myDB = BoSSS.Application.BoSSSpad.BoSSSshell.WorkflowMgm.DefaultDatabase; \n",
    "myDB"
   ]
  },
  {
   "cell_type": "code",
   "execution_count": 8,
   "metadata": {
    "dotnet_interactive": {
     "language": "csharp"
    },
    "polyglot_notebook": {
     "kernelName": "csharp"
    }
   },
   "outputs": [],
   "source": [
    "// set parameterz\n",
    "//bool AMR = true;\n",
    "//bool useLoadBal = true;\n",
    "int NoOfTimeSteps = 80;\n",
    "bool Steady = false;\n",
    "bool IncludeConvection = true;\n",
    "int[] core_sweep = { 1};\n",
    "int[] PolyDegS = new int[] {3};\n",
    "int[] ResArray = new int[] {30};\n",
    "int SpaceDim = 3;\n",
    "int AMRLevel = 1;\n",
    "double _partRad = 0.6;\n",
    "var Gshape = Shape.Sphere;"
   ]
  },
  {
   "cell_type": "code",
   "execution_count": 9,
   "metadata": {
    "dotnet_interactive": {
     "language": "csharp"
    },
    "polyglot_notebook": {
     "kernelName": "csharp"
    }
   },
   "outputs": [],
   "source": [
    "double xMax = 1, yMax = 1, zMax = 1;\n",
    "double xMin = -1, yMin = -1, zMin = -1;\n"
   ]
  },
  {
   "attachments": {},
   "cell_type": "markdown",
   "metadata": {},
   "source": [
    "# Grid"
   ]
  },
  {
   "cell_type": "code",
   "execution_count": 10,
   "metadata": {
    "dotnet_interactive": {
     "language": "csharp"
    },
    "polyglot_notebook": {
     "kernelName": "csharp"
    }
   },
   "outputs": [
    {
     "data": {
      "text/plain": []
     },
     "metadata": {},
     "output_type": "display_data"
    }
   ],
   "source": [
    "List<IGridInfo> Grids = new List<IGridInfo>();\n",
    "if (SpaceDim ==2){\n",
    "foreach(var Res in ResArray){\n",
    "\n",
    "    var _xNodes = GenericBlas.Linspace(xMin, xMax, Res + 1);\n",
    "    var _yNodes = GenericBlas.Linspace(yMin, yMax, Res + 1);\n",
    "\n",
    "    GridCommons grd;\n",
    "    string gname = \"SphereMerger2D_1BCs\";\n",
    "\n",
    "    Console.WriteLine(\"Looking for {0} with {1} cells\",gname,(_xNodes.Length-1)*(_yNodes.Length-1));\n",
    "\n",
    "    var tmp = new List<IGridInfo>();\n",
    "\n",
    "    foreach(var grid in myDB.Grids){\n",
    "        try{\n",
    "            if (String.IsNullOrEmpty(grid.Name))\n",
    "                continue;\n",
    "                //grid.Name = \"Null\";\n",
    "            Console.WriteLine(\"Found {0} with {1} cells on the database\",grid.Name,grid.NumberOfCells);\n",
    "            bool IsMatch = grid.Name.Equals(gname)&&grid.NumberOfCells==(_xNodes.Length-1)*(_yNodes.Length-1);\n",
    "            if(IsMatch) tmp.Add(grid);\n",
    "        }\n",
    "        catch(Exception ex) {\n",
    "            Console.WriteLine(ex.Message);\n",
    "        }\n",
    "    }\n",
    "    Console.WriteLine(\"Found {0} times grids with the same configuration for the Res={1}\",tmp.Count,Res);\n",
    "    \n",
    "    if(tmp.Count() >= 1){\n",
    "        Console.WriteLine(\"Chosing the first one found: \"+tmp.Pick(0).Name);\n",
    "        Grids.Add(tmp.Pick(0));\n",
    "        //IGridInfo firstPick = Grids.ToArray()[0];\n",
    "        //var ImportedGrid = myDB.Controller.DBDriver.LoadGrid(firstPick.ID,myDB);\n",
    "        //grd = (GridCommons)ImportedGrid;EdgeTagName \n",
    "        //Console.WriteLine(\"Chosen Grid:{0}\",ImportedGrid.ToString());\n",
    "        continue;\n",
    "\n",
    "    }else{\n",
    "\n",
    "        grd = Grid2D.Cartesian2DGrid(_xNodes, _yNodes);\n",
    "\n",
    "    \n",
    "        grd.Name = gname;\n",
    "\n",
    "        grd.EdgeTagNames.Add(1, \"Pressure_Outlet\");\n",
    "        grd.DefineEdgeTags(delegate (double[] X) {\n",
    "            return 1;\n",
    "        });\n",
    "                \n",
    "    myDB.SaveGrid(ref grd);\n",
    "    Grids.Add(grd);\n",
    "    }\n",
    "    \n",
    "}\n",
    "Console.WriteLine(\"\\nThe grids to be simulated:\");\n",
    "}\n",
    "Grids\n"
   ]
  },
  {
   "cell_type": "code",
   "execution_count": 11,
   "metadata": {
    "dotnet_interactive": {
     "language": "csharp"
    },
    "polyglot_notebook": {
     "kernelName": "csharp"
    }
   },
   "outputs": [
    {
     "name": "stdout",
     "output_type": "stream",
     "text": [
      "Looking for SphereMerger_3D_1BCs with 27000 cells\n",
      "Found 0 times grids with the same configuration for the Res=30\n",
      "Grid Edge Tags changed.\n",
      "\n",
      "The grids to be simulated:\n"
     ]
    },
    {
     "data": {
      "text/plain": [
       "#0: { Guid = 7a09c7ed-25de-42ba-a8be-6fc2d97d9ec0; Name = SphereMerger_3D_1BCs; Cell Count = 27000; Dim = 3 }\r\n"
      ]
     },
     "metadata": {},
     "output_type": "display_data"
    }
   ],
   "source": [
    "if (SpaceDim ==3){\n",
    "foreach(var Res in ResArray){\n",
    "\n",
    "    var _xNodes = GenericBlas.Linspace(xMin, xMax, Res + 1);\n",
    "    var _yNodes = GenericBlas.Linspace(yMin, yMax, Res + 1);\n",
    "    var _zNodes = GenericBlas.Linspace(zMin, zMax, Res + 1);\n",
    "\n",
    "    GridCommons grd;\n",
    "    string gname = \"SphereMerger_3D_1BCs\";\n",
    "\n",
    "    Console.WriteLine(\"Looking for {0} with {1} cells\",gname,(_xNodes.Length-1)*(_yNodes.Length-1)*(_zNodes.Length-1));\n",
    "\n",
    "    var tmp = new List<IGridInfo>();\n",
    "\n",
    "    foreach(var grid in myDB.Grids){\n",
    "        try{\n",
    "            if (String.IsNullOrEmpty(grid.Name))\n",
    "                continue;\n",
    "                //grid.Name = \"Null\";\n",
    "            Console.WriteLine(\"Found {0} with {1} cells on the database\",grid.Name,grid.NumberOfCells);\n",
    "            bool IsMatch = grid.Name.Equals(gname)&&grid.NumberOfCells==(_xNodes.Length-1)*(_yNodes.Length-1)*(_zNodes.Length-1);\n",
    "            if(IsMatch) tmp.Add(grid);\n",
    "        }\n",
    "        catch(Exception ex) {\n",
    "            Console.WriteLine(ex.Message);\n",
    "        }\n",
    "    }\n",
    "    Console.WriteLine(\"Found {0} times grids with the same configuration for the Res={1}\",tmp.Count,Res);\n",
    "    \n",
    "    if(tmp.Count() >= 1){\n",
    "        Console.WriteLine(\"Chosing the first one found: \"+tmp.Pick(0).Name);\n",
    "        Grids.Add(tmp.Pick(0));\n",
    "        //IGridInfo firstPick = Grids.ToArray()[0];\n",
    "        //var ImportedGrid = myDB.Controller.DBDriver.LoadGrid(firstPick.ID,myDB);\n",
    "        //grd = (GridCommons)ImportedGrid;EdgeTagName \n",
    "        //Console.WriteLine(\"Chosen Grid:{0}\",ImportedGrid.ToString());\n",
    "        continue;\n",
    "\n",
    "    }else{\n",
    "\n",
    "        grd = Grid3D.Cartesian3DGrid(_xNodes, _yNodes,_zNodes);   \n",
    "        grd.Name = gname;\n",
    "\n",
    "        grd.EdgeTagNames.Add(1, \"Pressure_Outlet\");\n",
    "        grd.DefineEdgeTags(delegate (double[] X) {\n",
    "            return 1;\n",
    "        });\n",
    "                \n",
    "    myDB.SaveGrid(ref grd);\n",
    "    Grids.Add(grd);\n",
    "    }\n",
    "    \n",
    "}\n",
    "Console.WriteLine(\"\\nThe grids to be simulated:\");\n",
    "}\n",
    "Grids\n"
   ]
  },
  {
   "attachments": {},
   "cell_type": "markdown",
   "metadata": {},
   "source": [
    "# Control File"
   ]
  },
  {
   "cell_type": "code",
   "execution_count": 8,
   "metadata": {
    "dotnet_interactive": {
     "language": "csharp"
    },
    "polyglot_notebook": {
     "kernelName": "csharp"
    }
   },
   "outputs": [],
   "source": [
    "Func<IGridInfo, int,double, string, bool, bool, double, XNSE_Control> GenXNSECtrl = \n",
    "delegate(IGridInfo grd, int k, double viscosity, string RotAxis, bool AMR, bool LoadBalance, double AggThrs){\n",
    "    XNSE_Control C = new XNSE_Control();\n",
    "\n",
    "    // basic database options\n",
    "    // ======================\n",
    "    C.SetDatabase(myDB);\n",
    "    C.savetodb = true;\n",
    "    int J  = grd.NumberOfCells;\n",
    "\n",
    "    //Session Settings\n",
    "    C.GridGuid = grd.ID;\n",
    "    C.GridPartType = GridPartType.Hilbert;\n",
    "    //deactivated to get same mesh for initial steps\n",
    "\n",
    "\n",
    "    C.ImmediatePlotPeriod = 10;\n",
    "    C.SuperSampling = 0;    \n",
    "\n",
    "    // Physical Parameters\n",
    "    // =================== \n",
    "    const double rhoA = 1;\n",
    "    const double Re = 1000;\n",
    "    double muA = viscosity;\n",
    "    \n",
    "    double partRad = _partRad;\n",
    "    double d_hyd = 2*partRad;\n",
    "    double VelocityMax = Re * muA / rhoA / d_hyd;\n",
    "    double anglev = VelocityMax / partRad;\n",
    "    double[] pos = new double[SpaceDim];\n",
    "    double ts = 2*Math.PI/anglev/NoOfTimeSteps; //    double ts = Math.PI/anglev/NoOfTimeSteps/10;\n",
    "    \n",
    "    C.PhysicalParameters.IncludeConvection = IncludeConvection;\n",
    "    C.PhysicalParameters.Material = true;\n",
    "    C.PhysicalParameters.rho_A = rhoA;\n",
    "    C.PhysicalParameters.mu_A = muA;\n",
    "    string rotAxis;\n",
    "    if (RotAxis == null)\n",
    "        rotAxis = \"y\";\n",
    "    else\n",
    "        rotAxis = RotAxis;\n",
    "\n",
    "\n",
    "    C.SessionName = string.Format(\"J{0}_k{1}_agg{2}_AMR{3}_LB{4}_at{5}_r{6}\", J, k,AggThrs,AMR,LoadBalance,rotAxis.ToUpper(),partRad);\n",
    "    C.SessionName += $\"_{SpaceDim}D\";\n",
    "    if(IncludeConvection){\n",
    "        C.SessionName += \"_NSE\";\n",
    "        C.Tags.Add(\"NSE\");\n",
    "    } else {\n",
    "        C.SessionName += \"_Stokes\";\n",
    "        C.Tags.Add(\"Stokes\");\n",
    "    }\n",
    "    C.Tags.Add(SpaceDim + \"D\");\n",
    "    if(Steady)C.Tags.Add(\"steady\");\n",
    "    else C.Tags.Add(\"transient\");\n",
    "\n",
    "\n",
    "    // DG degrees\n",
    "    // ==========\n",
    "    C.SetFieldOptions(k, Math.Max(k, 2));\n",
    "    C.saveperiod = 5;\n",
    "    //C.TracingNamespaces = \"*\";\n",
    "\n",
    "    C.GridGuid = grd.ID;\n",
    "    C.GridPartType = GridPartType.Hilbert;\n",
    "    //C.DynamicLoadbalancing_ClassifierType = ClassifierType.CutCells;\n",
    "    C.DynamicLoadBalancing_On = LoadBalance;\n",
    "    C.DynamicLoadBalancing_RedistributeAtStartup = false;\n",
    "    C.DynamicLoadBalancing_Period = 10;\n",
    "    C.DynamicLoadBalancing_ImbalanceThreshold = 0.1;\n",
    "    //C.DynamicLoadBalancing_CellCostEstimatorFactories = BoSSS.Application.XNSE_Solver.Loadbalancing.XNSECellCostEstimator.Factory().ToList();\n",
    "\n",
    "    // rigid body and boundary conditions\n",
    "    // ===================\n",
    "    double rateOfRadius = -1/(double)NoOfTimeSteps/ts;\n",
    "    C.Rigidbody.SetParameters(pos,anglev,partRad,SpaceDim, rateOfRadius: rateOfRadius);\n",
    "    C.SessionName += $\"_rateOfRadius{rateOfRadius:f2}\";\n",
    "    C.Rigidbody.SpecifyShape(Gshape);\n",
    "    C.Rigidbody.SetRotationAxis(rotAxis);\n",
    "\n",
    "    //Console.WriteLine($\"tiltAxis.Dim: {tiltAxis.Dim}\");\n",
    "    Console.WriteLine(\"Angular Velocity: {0}\",anglev);\n",
    "    C.SessionName += $\"_W{anglev:f2}\";\n",
    "\n",
    "    C.AddInitialValue(VariableNames.LevelSetCGidx(0), new Formula(\"X => -1\"));\n",
    "    C.UseImmersedBoundary = true;\n",
    "\n",
    "\n",
    "    C.AddInitialValue(\"Pressure\", new Formula(@\"X => 0\"));\n",
    "    C.AddBoundaryValue(\"Pressure_Outlet\");\n",
    "\n",
    "    // solver options\n",
    "    // ===================\n",
    "    C.CutCellQuadratureType = BoSSS.Foundation.XDG.XQuadFactoryHelper.MomentFittingVariants.Saye;\n",
    "    C.UseSchurBlockPrec = true;\n",
    "    C.AgglomerationThreshold = AggThrs;\n",
    "    C.AdvancedDiscretizationOptions.ViscosityMode = ViscosityMode.FullySymmetric;\n",
    "    C.Option_LevelSetEvolution2 = LevelSetEvolution.Prescribed;\n",
    "    C.Option_LevelSetEvolution = LevelSetEvolution.None;\n",
    "    C.Timestepper_LevelSetHandling = LevelSetHandling.LieSplitting;\n",
    "    C.LinearSolver = new BoSSS.Solution.AdvancedSolvers.OrthoMGSchwarzConfig() {\n",
    "        NoOfMultigridLevels = 5,\n",
    "        ConvergenceCriterion = 1E-3,\n",
    "        MaxSolverIterations = 100,\n",
    "        //MaxKrylovDim = 30,\n",
    "        TargetBlockSize = 10000,\n",
    "        //verbose = true\n",
    "    };\n",
    "    //C.LinearSolver.NoOfMultigridLevels = 5;\n",
    "    //C.LinearSolver.ConvergenceCriterion = 1E-6;\n",
    "    //C.LinearSolver.MaxSolverIterations = 200;\n",
    "    //C.LinearSolver.MaxKrylovDim = 50;\n",
    "    //C.LinearSolver.TargetBlockSize = 10000;\n",
    "    //C.LinearSolver.verbose = true;\n",
    "    C.LinearSolver = LinearSolverCode.exp_Kcycle_schwarz.GetConfig();\n",
    "    C.NonLinearSolver.SolverCode = NonLinearSolverCode.Newton;\n",
    "    C.NonLinearSolver.ConvergenceCriterion = 1E-3;\n",
    "    C.NonLinearSolver.MaxSolverIterations = 50;\n",
    "    C.NonLinearSolver.verbose = true;\n",
    "\n",
    "    C.AdaptiveMeshRefinement = AMR;\n",
    "    if (AMR) {\n",
    "        C.SetMaximalRefinementLevel(AMRLevel);\n",
    "        C.AMR_startUpSweeps = AMRLevel;\n",
    "    }\n",
    "\n",
    "    // Timestepping\n",
    "    // ============\n",
    "    double dt = -1;\n",
    "    if(Steady){\n",
    "        C.TimesteppingMode = AppControl._TimesteppingMode.Steady;\n",
    "        dt = 1000;\n",
    "        C.NoOfTimesteps = 1;\n",
    "    } else {\n",
    "        C.TimesteppingMode = AppControl._TimesteppingMode.Transient;        \n",
    "        dt = ts;        \n",
    "        C.NoOfTimesteps = NoOfTimeSteps; //NoOfTimeSteps;\n",
    "    }\n",
    "    C.TimeSteppingScheme = TimeSteppingScheme.ImplicitEuler; //BD4\n",
    "    C.dtFixed = dt;\n",
    "    C.SkipSolveAndEvaluateResidual = false;\n",
    "    C.SessionName = \"Solver\" + !C.SkipSolveAndEvaluateResidual + \"_\" + C.SessionName;\n",
    "    var config = new OperatorAnalysisConfig();\n",
    "    config.CalculateMassMatrix = true;\n",
    "    config.CalculateGlobalConditionNumbers = false;\n",
    "    config.CalculateStencilConditionNumbers = true;\n",
    "    config.PlotStencilConditionNumbers = true;\n",
    "\n",
    "    C.PostprocessingModules.Add(new BoSSS.Application.XNSE_Solver.Logging.CondLogger(config));\n",
    "            \n",
    "    C.SessionName += \"_notebookTest\"; //1timestep\n",
    "    //C.PlotAgglomeration = true;\n",
    "    return C;    \n",
    "};"
   ]
  },
  {
   "cell_type": "code",
   "execution_count": 9,
   "metadata": {
    "dotnet_interactive": {
     "language": "csharp"
    },
    "polyglot_notebook": {
     "kernelName": "csharp"
    }
   },
   "outputs": [
    {
     "name": "stdout",
     "output_type": "stream",
     "text": [
      "Angular Velocity: 13.888888888888891\n",
      "Angular Velocity: 13.888888888888891\n",
      "Angular Velocity: 13.888888888888891\n",
      "Angular Velocity: 13.888888888888891\n",
      "Angular Velocity: 13.888888888888891\n",
      "Angular Velocity: 13.888888888888891\n",
      "Angular Velocity: 13.888888888888891\n",
      "Angular Velocity: 13.888888888888891\n",
      "Angular Velocity: 13.888888888888891\n",
      "Angular Velocity: 13.888888888888891\n",
      "Angular Velocity: 13.888888888888891\n",
      "Angular Velocity: 13.888888888888891\n",
      "Total Number of Control Files: 12\n"
     ]
    },
    {
     "data": {
      "text/plain": [
       "List of 12 instances of XNSE_Control {\r\n",
       "  0: BoSSS.Application.XNSE_Solver.XNSE_Control\r\n",
       "  1: BoSSS.Application.XNSE_Solver.XNSE_Control\r\n",
       "  2: BoSSS.Application.XNSE_Solver.XNSE_Control\r\n",
       "  3: BoSSS.Application.XNSE_Solver.XNSE_Control\r\n",
       "  4: BoSSS.Application.XNSE_Solver.XNSE_Control\r\n",
       "  5: BoSSS.Application.XNSE_Solver.XNSE_Control\r\n",
       "  6: BoSSS.Application.XNSE_Solver.XNSE_Control\r\n",
       "  7: BoSSS.Application.XNSE_Solver.XNSE_Control\r\n",
       "  8: BoSSS.Application.XNSE_Solver.XNSE_Control\r\n",
       "  9: BoSSS.Application.XNSE_Solver.XNSE_Control\r\n",
       "  10: BoSSS.Application.XNSE_Solver.XNSE_Control\r\n",
       "  11: BoSSS.Application.XNSE_Solver.XNSE_Control\r\n",
       "}"
      ]
     },
     "metadata": {},
     "output_type": "display_data"
    }
   ],
   "source": [
    "var ViscositySweep = new double[]{1E-2};\n",
    "var axes = new string[]{\"z\"};\n",
    "var AMRarray = new bool[] {false};\n",
    "var LoadBalancearray = new bool[] {false};\n",
    "var aggThresolds = new double[] {0, 0.1, 0.2, 0.3, 0.4, 0.5}; //{0, 0.1, 0.2, 0.3, 0.4, 0.5};\n",
    "\n",
    "//var TimeSchemes = new TimeSteppingScheme[] {TimeSteppingScheme.ImplicitEuler, TimeSteppingScheme.BDF4};\n",
    "List<XNSE_Control> controls = new List<XNSE_Control>();\n",
    "foreach(IGridInfo grd in Grids)\n",
    "    foreach(int k in PolyDegS)\n",
    "            foreach(double v in ViscositySweep)\n",
    "                foreach(string axis in axes)\n",
    "                    foreach(bool AMR in AMRarray)\n",
    "                        foreach(bool LoadBalance in LoadBalancearray)\n",
    "                            foreach(double agg in aggThresolds)\n",
    "            {\n",
    "                controls.Add(GenXNSECtrl(grd,k,v,axis,AMR,LoadBalance,agg));\n",
    "            }\n",
    "\n",
    "\n",
    "Console.WriteLine($\"Total Number of Control Files: {controls.Count}\");\n",
    "controls.Summary()"
   ]
  },
  {
   "cell_type": "code",
   "execution_count": 10,
   "metadata": {
    "dotnet_interactive": {
     "language": "csharp"
    },
    "polyglot_notebook": {
     "kernelName": "csharp"
    }
   },
   "outputs": [
    {
     "name": "stdout",
     "output_type": "stream",
     "text": [
      "Deployments so far (0): ;\n",
      "Success: 0\n",
      "job submit count: 0\n"
     ]
    },
    {
     "name": "stderr",
     "output_type": "stream",
     "text": [
      "unable to determine job status - unknown\r\n"
     ]
    },
    {
     "name": "stdout",
     "output_type": "stream",
     "text": [
      "Deploying job VanishingSphereSolverFalse_J27000_k1_agg0_AMRFalse_LBFalse_atZ_r0.6_3D_NSE_rateOfRadius-2.21_W13.89_condMaMaStenLRfinal_ct8 ... \n",
      "Deploying executables and additional files ...\n",
      "Deployment directory: X:\\work\\sphere_CondStudy-XNSE_Solver2024Jan12_094039.838704\n",
      "copied 43 files.\n",
      "   written file: control.obj\n",
      "   copied 'linux/amd64-openmpi' runtime.\n",
      "deployment finished.\n",
      "Instance #1 of ssh client mt64qocy@lcluster14.hrz.tu-darmstadt.de instantiated.\n",
      "\n",
      "Submitted 0th \n",
      "\n",
      "Deployments so far (0): ;\n",
      "Success: 0\n",
      "job submit count: 0\n"
     ]
    },
    {
     "name": "stderr",
     "output_type": "stream",
     "text": [
      "unable to determine job status - unknown\r\n"
     ]
    },
    {
     "name": "stdout",
     "output_type": "stream",
     "text": [
      "Deploying job VanishingSphereSolverFalse_J27000_k1_agg0.1_AMRFalse_LBFalse_atZ_r0.6_3D_NSE_rateOfRadius-2.21_W13.89_condMaMaStenLRfinal_ct8 ... \n",
      "Deploying executables and additional files ...\n",
      "Deployment directory: X:\\work\\sphere_CondStudy-XNSE_Solver2024Jan12_094051.472474\n",
      "copied 43 files.\n",
      "   written file: control.obj\n",
      "   copied 'linux/amd64-openmpi' runtime.\n",
      "deployment finished.\n",
      "\n",
      "Submitted 1th \n",
      "\n",
      "Deployments so far (0): ;\n",
      "Success: 0\n",
      "job submit count: 0\n"
     ]
    },
    {
     "name": "stderr",
     "output_type": "stream",
     "text": [
      "unable to determine job status - unknown\r\n"
     ]
    },
    {
     "name": "stdout",
     "output_type": "stream",
     "text": [
      "Deploying job VanishingSphereSolverFalse_J27000_k1_agg0.2_AMRFalse_LBFalse_atZ_r0.6_3D_NSE_rateOfRadius-2.21_W13.89_condMaMaStenLRfinal_ct8 ... \n",
      "Deploying executables and additional files ...\n",
      "Deployment directory: X:\\work\\sphere_CondStudy-XNSE_Solver2024Jan12_094056.815029\n",
      "copied 43 files.\n",
      "   written file: control.obj\n",
      "   copied 'linux/amd64-openmpi' runtime.\n",
      "deployment finished.\n",
      "\n",
      "Submitted 2th \n",
      "\n",
      "Deployments so far (0): ;\n",
      "Success: 0\n",
      "job submit count: 0\n"
     ]
    },
    {
     "name": "stderr",
     "output_type": "stream",
     "text": [
      "unable to determine job status - unknown\r\n"
     ]
    },
    {
     "name": "stdout",
     "output_type": "stream",
     "text": [
      "Deploying job VanishingSphereSolverFalse_J27000_k1_agg0.3_AMRFalse_LBFalse_atZ_r0.6_3D_NSE_rateOfRadius-2.21_W13.89_condMaMaStenLRfinal_ct8 ... \n",
      "Deploying executables and additional files ...\n",
      "Deployment directory: X:\\work\\sphere_CondStudy-XNSE_Solver2024Jan12_094102.037926\n",
      "copied 43 files.\n",
      "   written file: control.obj\n",
      "   copied 'linux/amd64-openmpi' runtime.\n",
      "deployment finished.\n",
      "\n",
      "Submitted 3th \n",
      "\n",
      "Deployments so far (0): ;\n",
      "Success: 0\n",
      "job submit count: 0\n"
     ]
    },
    {
     "name": "stderr",
     "output_type": "stream",
     "text": [
      "unable to determine job status - unknown\r\n"
     ]
    },
    {
     "name": "stdout",
     "output_type": "stream",
     "text": [
      "Deploying job VanishingSphereSolverFalse_J27000_k1_agg0.4_AMRFalse_LBFalse_atZ_r0.6_3D_NSE_rateOfRadius-2.21_W13.89_condMaMaStenLRfinal_ct8 ... \n",
      "Deploying executables and additional files ...\n",
      "Deployment directory: X:\\work\\sphere_CondStudy-XNSE_Solver2024Jan12_094107.441820\n",
      "copied 43 files.\n",
      "   written file: control.obj\n",
      "   copied 'linux/amd64-openmpi' runtime.\n",
      "deployment finished.\n",
      "\n",
      "Submitted 4th \n",
      "\n",
      "Deployments so far (0): ;\n",
      "Success: 0\n",
      "job submit count: 0\n"
     ]
    },
    {
     "name": "stderr",
     "output_type": "stream",
     "text": [
      "unable to determine job status - unknown\r\n"
     ]
    },
    {
     "name": "stdout",
     "output_type": "stream",
     "text": [
      "Deploying job VanishingSphereSolverFalse_J27000_k1_agg0.5_AMRFalse_LBFalse_atZ_r0.6_3D_NSE_rateOfRadius-2.21_W13.89_condMaMaStenLRfinal_ct8 ... \n",
      "Deploying executables and additional files ...\n",
      "Deployment directory: X:\\work\\sphere_CondStudy-XNSE_Solver2024Jan12_094112.867453\n",
      "copied 43 files.\n",
      "   written file: control.obj\n",
      "   copied 'linux/amd64-openmpi' runtime.\n",
      "deployment finished.\n",
      "\n",
      "Submitted 5th \n",
      "\n",
      "Deployments so far (0): ;\n",
      "Success: 0\n",
      "job submit count: 0\n"
     ]
    },
    {
     "name": "stderr",
     "output_type": "stream",
     "text": [
      "unable to determine job status - unknown\r\n"
     ]
    },
    {
     "name": "stdout",
     "output_type": "stream",
     "text": [
      "Deploying job VanishingSphereSolverFalse_J27000_k2_agg0_AMRFalse_LBFalse_atZ_r0.6_3D_NSE_rateOfRadius-2.21_W13.89_condMaMaStenLRfinal_ct8 ... \n",
      "Deploying executables and additional files ...\n",
      "Deployment directory: X:\\work\\sphere_CondStudy-XNSE_Solver2024Jan12_094118.283323\n",
      "copied 43 files.\n",
      "   written file: control.obj\n",
      "   copied 'linux/amd64-openmpi' runtime.\n",
      "deployment finished.\n",
      "\n",
      "Submitted 6th \n",
      "\n",
      "Deployments so far (0): ;\n",
      "Success: 0\n",
      "job submit count: 0\n"
     ]
    },
    {
     "name": "stderr",
     "output_type": "stream",
     "text": [
      "unable to determine job status - unknown\r\n"
     ]
    },
    {
     "name": "stdout",
     "output_type": "stream",
     "text": [
      "Deploying job VanishingSphereSolverFalse_J27000_k2_agg0.1_AMRFalse_LBFalse_atZ_r0.6_3D_NSE_rateOfRadius-2.21_W13.89_condMaMaStenLRfinal_ct8 ... \n",
      "Deploying executables and additional files ...\n",
      "Deployment directory: X:\\work\\sphere_CondStudy-XNSE_Solver2024Jan12_094123.827021\n",
      "copied 43 files.\n",
      "   written file: control.obj\n",
      "   copied 'linux/amd64-openmpi' runtime.\n",
      "deployment finished.\n",
      "\n",
      "Submitted 7th \n",
      "\n",
      "Deployments so far (0): ;\n",
      "Success: 0\n",
      "job submit count: 0\n"
     ]
    },
    {
     "name": "stderr",
     "output_type": "stream",
     "text": [
      "unable to determine job status - unknown\r\n"
     ]
    },
    {
     "name": "stdout",
     "output_type": "stream",
     "text": [
      "Deploying job VanishingSphereSolverFalse_J27000_k2_agg0.2_AMRFalse_LBFalse_atZ_r0.6_3D_NSE_rateOfRadius-2.21_W13.89_condMaMaStenLRfinal_ct8 ... \n",
      "Deploying executables and additional files ...\n",
      "Deployment directory: X:\\work\\sphere_CondStudy-XNSE_Solver2024Jan12_094129.902140\n",
      "copied 43 files.\n",
      "   written file: control.obj\n",
      "   copied 'linux/amd64-openmpi' runtime.\n",
      "deployment finished.\n",
      "\n",
      "Submitted 8th \n",
      "\n",
      "Deployments so far (0): ;\n",
      "Success: 0\n",
      "job submit count: 0\n"
     ]
    },
    {
     "name": "stderr",
     "output_type": "stream",
     "text": [
      "unable to determine job status - unknown\r\n"
     ]
    },
    {
     "name": "stdout",
     "output_type": "stream",
     "text": [
      "Deploying job VanishingSphereSolverFalse_J27000_k2_agg0.3_AMRFalse_LBFalse_atZ_r0.6_3D_NSE_rateOfRadius-2.21_W13.89_condMaMaStenLRfinal_ct8 ... \n",
      "Deploying executables and additional files ...\n",
      "Deployment directory: X:\\work\\sphere_CondStudy-XNSE_Solver2024Jan12_094135.912483\n",
      "copied 43 files.\n",
      "   written file: control.obj\n",
      "   copied 'linux/amd64-openmpi' runtime.\n",
      "deployment finished.\n",
      "\n",
      "Submitted 9th \n",
      "\n",
      "Deployments so far (0): ;\n",
      "Success: 0\n",
      "job submit count: 0\n"
     ]
    },
    {
     "name": "stderr",
     "output_type": "stream",
     "text": [
      "unable to determine job status - unknown\r\n"
     ]
    },
    {
     "name": "stdout",
     "output_type": "stream",
     "text": [
      "Deploying job VanishingSphereSolverFalse_J27000_k2_agg0.4_AMRFalse_LBFalse_atZ_r0.6_3D_NSE_rateOfRadius-2.21_W13.89_condMaMaStenLRfinal_ct8 ... \n",
      "Deploying executables and additional files ...\n",
      "Deployment directory: X:\\work\\sphere_CondStudy-XNSE_Solver2024Jan12_094142.185967\n",
      "copied 43 files.\n",
      "   written file: control.obj\n",
      "   copied 'linux/amd64-openmpi' runtime.\n",
      "deployment finished.\n",
      "\n",
      "Submitted 10th \n",
      "\n",
      "Deployments so far (0): ;\n",
      "Success: 0\n",
      "job submit count: 0\n"
     ]
    },
    {
     "name": "stderr",
     "output_type": "stream",
     "text": [
      "unable to determine job status - unknown\r\n"
     ]
    },
    {
     "name": "stdout",
     "output_type": "stream",
     "text": [
      "Deploying job VanishingSphereSolverFalse_J27000_k2_agg0.5_AMRFalse_LBFalse_atZ_r0.6_3D_NSE_rateOfRadius-2.21_W13.89_condMaMaStenLRfinal_ct8 ... \n",
      "Deploying executables and additional files ...\n",
      "Deployment directory: X:\\work\\sphere_CondStudy-XNSE_Solver2024Jan12_094149.111812\n",
      "copied 43 files.\n",
      "   written file: control.obj\n",
      "   copied 'linux/amd64-openmpi' runtime.\n",
      "deployment finished.\n",
      "\n",
      "Submitted 11th \n",
      "\n"
     ]
    }
   ],
   "source": [
    "int k = 0;\n",
    "foreach(var ctrl in controls){\n",
    "    string sessname = ctrl.SessionName;\n",
    "        foreach(int cores in core_sweep){\n",
    "            ctrl.SessionName = sessname + \"_ct\"+cores;\n",
    "                    var aJob   = new Job(\"Vanishing\"+Gshape+ctrl.SessionName,typeof(XNSE));\n",
    "            //Console.WriteLine(ctrl.Rigidbody.GetTilt());\n",
    "            aJob.SetControlObject(ctrl);\n",
    "            aJob.NumberOfMPIProcs         = cores;\n",
    "            //aJob.ExecutionTime            = \"3:00:00\";\n",
    "            aJob.UseComputeNodesExclusive = true;\n",
    "\n",
    "            //List<string> Cmdtmp = myBatch.AdditionalBatchCommands.ToList();\n",
    "            //int NoOfNodes = 1;\n",
    "            //Cmdtmp.Add($\"#SBATCH -N {NoOfNodes}\");\n",
    "            //myBatch.AdditionalBatchCommands = Cmdtmp.ToArray();\n",
    "            //aJob.ExecutionTime = \"23:59:00\";\n",
    "            aJob.Activate(myBatch);\n",
    "            Console.WriteLine(\"Submitted {0}th \\n\",k) ;\n",
    "            k++;           \n",
    "        }       \n",
    "    }\n"
   ]
  }
 ],
 "metadata": {
  "kernelspec": {
   "display_name": ".NET (C#)",
   "language": "C#",
   "name": ".net-csharp"
  },
  "language_info": {
   "name": "polyglot-notebook"
  },
  "orig_nbformat": 4,
  "polyglot_notebook": {
   "kernelInfo": {
    "defaultKernelName": "csharp",
    "items": [
     {
      "aliases": [],
      "name": "csharp"
     }
    ]
   }
  }
 },
 "nbformat": 4,
 "nbformat_minor": 2
}

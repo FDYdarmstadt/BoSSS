{
 "cells": [
  {
   "cell_type": "markdown",
   "metadata": {},
   "source": [
    "# Rotating popcorn\n",
    "This Notebook launches a condition number study for the rotating popcorn testcase as presented in the paper \"Cell agglomeration strategy for eXtended discontinous Galerkin methods\" (2024) \n",
    " The calculations can be very long, in order to use a HPC cluster ``..\\.BoSSS\\etc\\BatchProcessorConfig.json`` must be modified for the execution queue."
   ]
  },
  {
   "cell_type": "code",
   "execution_count": 1,
   "metadata": {
    "dotnet_interactive": {
     "language": "csharp"
    },
    "polyglot_notebook": {
     "kernelName": "csharp"
    }
   },
   "outputs": [],
   "source": [
    "#r \"./../../../../../public/src/L4-application/BoSSSpad/bin/Release/net6.0/BoSSSpad.dll\"\n",
    "using System;\n",
    "using System.Threading;\n",
    "using System.Diagnostics;\n",
    "using ilPSP;\n",
    "using ilPSP.Utils;\n",
    "using BoSSS.Platform;\n",
    "using BoSSS.Foundation;\n",
    "using BoSSS.Foundation.XDG;\n",
    "using BoSSS.Foundation.Grid;\n",
    "using BoSSS.Solution;\n",
    "using BoSSS.Application.XNSE_Solver;\n",
    "using BoSSS.Application.BoSSSpad;\n",
    "using BoSSS.Foundation.Grid.Classic;\n",
    "using BoSSS.Foundation.IO;\n",
    "using BoSSS.Solution.AdvancedSolvers;\n",
    "using BoSSS.Solution.Control;\n",
    "using BoSSS.Solution.XNSECommon;\n",
    "using BoSSS.Solution.NSECommon;\n",
    "using BoSSS.Solution.LoadBalancing;\n",
    "using BoSSS.Solution.LevelSetTools;\n",
    "using BoSSS.Solution.XdgTimestepping;\n",
    "using BoSSS.Solution.Utils;\n",
    "using System.IO;\n",
    "\n",
    "using static BoSSS.Application.BoSSSpad.BoSSSshell;\n",
    "Init();"
   ]
  },
  {
   "cell_type": "code",
   "execution_count": 2,
   "metadata": {
    "dotnet_interactive": {
     "language": "csharp"
    }
   },
   "outputs": [],
   "source": [
    "string dbname = System.Environment.GetEnvironmentVariable(\"DATABASE_NAME\");\n",
    "string buildname = System.Environment.GetEnvironmentVariable(\"JOB_NAME\");\n",
    "buildname = String.IsNullOrEmpty(buildname)? \"Popcorn2D\" : buildname;\n",
    "dbname = String.IsNullOrEmpty(dbname)? \"condStudyBDF3\" : dbname; \n",
    "string table_name = String.Concat(buildname, \"_\", dbname);"
   ]
  },
  {
   "cell_type": "code",
   "execution_count": 3,
   "metadata": {
    "dotnet_interactive": {
     "language": "csharp"
    }
   },
   "outputs": [],
   "source": [
    "int SpaceDim = 2;\n",
    "double _partRad = 0.6;"
   ]
  },
  {
   "cell_type": "code",
   "execution_count": 4,
   "metadata": {
    "dotnet_interactive": {
     "language": "csharp"
    }
   },
   "outputs": [],
   "source": [
    "// set parameterz\n",
    "int[] core_sweep = { 1};\n",
    "int[] PolyDegS = new int[] {1, 2, 3};\n",
    "int[] ResArray = new int[] {16, 32, 64, 128};\n",
    "double[] aggThresolds = new double[] {0, 0.1, 0.2, 0.3, 0.4, 0.5};"
   ]
  },
  {
   "cell_type": "code",
   "execution_count": 5,
   "metadata": {
    "dotnet_interactive": {
     "language": "csharp"
    }
   },
   "outputs": [],
   "source": [
    "int NoOfTimeSteps = 400;\n",
    "bool Steady = false;\n",
    "bool IncludeConvection = true;\n",
    "var Gshape = Shape.Popcorn;"
   ]
  },
  {
   "cell_type": "code",
   "execution_count": 6,
   "metadata": {
    "dotnet_interactive": {
     "language": "csharp"
    }
   },
   "outputs": [
    {
     "data": {
      "text/html": [
       "<table><thead><tr><th><i>index</i></th><th><i>type</i></th><th>value</th></tr></thead><tbody><tr><td>0</td><td>BoSSS.Application.BoSSSpad.SlurmClient</td><td>SlurmClient q0-Lichtenberg user storage : mt64qocy@lcluster18.hrz.tu-darmstadt.de, Slurm account: special00006</td></tr><tr><td>1</td><td>BoSSS.Application.BoSSSpad.SlurmClient</td><td>SlurmClient q1-Lichtenberg scratch : mt64qocy@lcluster14.hrz.tu-darmstadt.de, Slurm account: special00006</td></tr><tr><td>2</td><td>BoSSS.Application.BoSSSpad.MsHPC2012Client</td><td>MS HPC client  q2-BoSSS-Convergence @DC3, @\\\\dc3\\userspace\\toprak\\BoSSS-Convergence</td></tr><tr><td>3</td><td>BoSSS.Application.BoSSSpad.MsHPC2012Client</td><td>MS HPC client  q3-BoSSS-ConvergenceFinal @DC3, @\\\\dc3\\userspace\\toprak\\BoSSS-ConvergenceFinal</td></tr><tr><td>4</td><td>BoSSS.Application.BoSSSpad.MsHPC2012Client</td><td>MS HPC client  q4-BoSSS-ConditionFinal @DC3, @\\\\dc3\\userspace\\toprak\\BoSSS-ConditionFinal</td></tr><tr><td>5</td><td>BoSSS.Application.BoSSSpad.MsHPC2012Client</td><td>MS HPC client  q5-BoSSS-ConvSteadyFinal @DC3, @\\\\dc3\\userspace\\toprak\\BoSSS-ConvSteadyFinal</td></tr><tr><td>6</td><td>BoSSS.Application.BoSSSpad.MiniBatchProcessorClient</td><td>MiniBatchProcessor client  LocalPC @C:\\localBatch</td></tr></tbody></table><style>\r\n",
       ".dni-code-hint {\r\n",
       "    font-style: italic;\r\n",
       "    overflow: hidden;\r\n",
       "    white-space: nowrap;\r\n",
       "}\r\n",
       ".dni-treeview {\r\n",
       "    white-space: nowrap;\r\n",
       "}\r\n",
       ".dni-treeview td {\r\n",
       "    vertical-align: top;\r\n",
       "    text-align: start;\r\n",
       "}\r\n",
       "details.dni-treeview {\r\n",
       "    padding-left: 1em;\r\n",
       "}\r\n",
       "table td {\r\n",
       "    text-align: start;\r\n",
       "}\r\n",
       "table tr { \r\n",
       "    vertical-align: top; \r\n",
       "    margin: 0em 0px;\r\n",
       "}\r\n",
       "table tr td pre \r\n",
       "{ \r\n",
       "    vertical-align: top !important; \r\n",
       "    margin: 0em 0px !important;\r\n",
       "} \r\n",
       "table th {\r\n",
       "    text-align: start;\r\n",
       "}\r\n",
       "</style>"
      ]
     },
     "metadata": {},
     "output_type": "display_data"
    }
   ],
   "source": [
    "ExecutionQueues"
   ]
  },
  {
   "cell_type": "code",
   "execution_count": 7,
   "metadata": {
    "dotnet_interactive": {
     "language": "csharp"
    }
   },
   "outputs": [],
   "source": [
    "var myBatch = ExecutionQueues[4];"
   ]
  },
  {
   "cell_type": "code",
   "execution_count": 8,
   "metadata": {
    "dotnet_interactive": {
     "language": "csharp"
    }
   },
   "outputs": [
    {
     "data": {
      "text/plain": [
       "{ Session Count = 0; Grid Count = 0; Path = \\\\dc3\\userspace\\toprak\\BoSSS-ConditionFinal\\Popcorn2D_test }"
      ]
     },
     "metadata": {},
     "output_type": "display_data"
    }
   ],
   "source": [
    "string WFlowName = table_name;\n",
    "BoSSS.Application.BoSSSpad.BoSSSshell.WorkflowMgm.Init(WFlowName,myBatch);\n",
    "BoSSS.Application.BoSSSpad.BoSSSshell.WorkflowMgm.SetNameBasedSessionJobControlCorrelation();\n",
    "var myDB = BoSSS.Application.BoSSSpad.BoSSSshell.WorkflowMgm.DefaultDatabase; \n",
    "myDB"
   ]
  },
  {
   "cell_type": "markdown",
   "metadata": {},
   "source": [
    "using grid with"
   ]
  },
  {
   "cell_type": "code",
   "execution_count": 9,
   "metadata": {
    "dotnet_interactive": {
     "language": "csharp"
    }
   },
   "outputs": [],
   "source": [
    "double xMax = 1.0, yMax = 1.0, zMax = 1.0;\n",
    "double xMin = -1.0, yMin = -1.0,zMin = -1.0;"
   ]
  },
  {
   "cell_type": "code",
   "execution_count": 10,
   "metadata": {
    "dotnet_interactive": {
     "language": "csharp"
    },
    "polyglot_notebook": {
     "kernelName": "csharp"
    }
   },
   "outputs": [
    {
     "data": {
      "text/plain": [
       "#0: { Guid = 7daf0905-c84f-4e57-9564-77cd1d1d9c50; Name = RotPopcorn2D_1BCs; Cell Count = 256; Dim = 2 }\r\n"
      ]
     },
     "metadata": {},
     "output_type": "display_data"
    }
   ],
   "source": [
    "List<IGridInfo> Grids = new List<IGridInfo>();\n",
    "\n",
    "foreach (var Res in ResArray) {\n",
    "    var _xNodes = GenericBlas.Linspace(xMin, xMax, Res + 1);\n",
    "    var _yNodes = GenericBlas.Linspace(yMin, yMax, Res + 1);\n",
    "    var _zNodes = GenericBlas.Linspace(zMin, zMax, Res + 1);    \n",
    "    GridCommons grd;\n",
    "    string gname = SpaceDim == 2 ? \"RotPopcorn2D_1BCs\" : \"RotPopcorn3D_1BCs\";\n",
    "    \n",
    "    var tmp = new List<IGridInfo>();\n",
    "    foreach(var grid in myDB.Grids){\n",
    "        try{\n",
    "            if (String.IsNullOrEmpty(grid.Name))\n",
    "                continue;\n",
    "\n",
    "            Console.WriteLine(\"Found {0} with {1} cells on the database\",grid.Name,grid.NumberOfCells);\n",
    "            bool IsMatch = grid.Name.Equals(gname)&&grid.NumberOfCells == (_xNodes.Length - 1) * (_yNodes.Length - 1) * (SpaceDim == 3 ? GenericBlas.Linspace(zMin, zMax, Res + 1).Length - 1 : 1);\n",
    "            if(IsMatch) \n",
    "            tmp.Add(grid);\n",
    "        }\n",
    "        catch(Exception ex) {\n",
    "            Console.WriteLine(ex.Message);\n",
    "        }\n",
    "    }\n",
    "\n",
    "    Console.WriteLine(\"Found {0} grids for Res={1}\", tmp.Count, Res);\n",
    "    if (tmp.Any()) {\n",
    "        Console.WriteLine(\"Chosing the first one found: \"+tmp.Pick(0).Name);\n",
    "        Grids.Add(tmp.First());\n",
    "    } else {\n",
    "        if (SpaceDim == 3) {\n",
    "            grd = Grid3D.Cartesian3DGrid(_xNodes, _yNodes, _zNodes);\n",
    "        } else {\n",
    "            grd = Grid2D.Cartesian2DGrid(_xNodes, _yNodes);\n",
    "        }\n",
    "\n",
    "        grd.Name = gname;\n",
    "        grd.EdgeTagNames.Add(1, \"Pressure_Outlet\");\n",
    "        grd.DefineEdgeTags(delegate (double[] X) {\n",
    "            return 1;\n",
    "        });\n",
    "        myDB.SaveGrid(ref grd);\n",
    "        Grids.Add(grd);\n",
    "    }\n",
    "}\n",
    "\n",
    "Console.WriteLine(\"\\nThe grids to be simulated:\");\n",
    "Grids\n"
   ]
  },
  {
   "cell_type": "markdown",
   "metadata": {},
   "source": [
    "## Generate Control object\n",
    "\n",
    "### governing equations\n",
    "- incompressible transient Navier-Stokes:\n",
    "<br>$\\frac{\\partial \\rho \\vec{u}}{\\partial t}+ \\nabla \\cdot ( \\rho \\vec{u} \\otimes \\vec{u}) + \\nabla p - \\eta \\Delta \\vec{u} = \\vec{f} \\ \\ in \\ \\ \\Omega_F(t) \\times (0,T)$\n",
    "<br>$\\nabla \\cdot \\vec{u} = 0 \\quad in \\ \\ \\Omega_F(t) \\times (0,T)$\n",
    "- with inital conditions:\n",
    "<br>$\\vec{u}(\\vec{x},0)  =  \\vec{0} \\quad on \\ \\ \\Omega_F(0)$\n",
    "<br>$p(\\vec{x},0)  =  0 \\quad  on \\ \\ \\Omega_F(0)$\n",
    "- with boundary conditions:\n",
    "<br>$\\vec{u}(\\vec{x},t) = \\vec{u}_{body} = \\boldsymbol{\\omega}(t) \\times \\vec{r} \\quad on \\ \\ \\mathcal{J} = \\partial \\Omega_S \\cap \\partial \\Omega_F$\n",
    "<br>$p \\mathbf{I} - \\frac{1}{Re} \\nabla \\vec{u} \\vec{n}_{ \\Gamma_{pOut} } = 0 \\ \\ on \\ \\ \\Gamma_{pOut} = \\partial \\Omega \\backslash \\Gamma_{Inlet} $ \n",
    "\n",
    "\n",
    "\n",
    "- angular velocity of rotating popcorn $\\boldsymbol{\\omega}(t)=\\frac{Re*\\mu_A}{\\rho_A*r_{max}*(2*r_p)}$"
   ]
  },
  {
   "cell_type": "code",
   "execution_count": 11,
   "metadata": {
    "dotnet_interactive": {
     "language": "csharp"
    }
   },
   "outputs": [],
   "source": [
    "Func<IGridInfo, int, double, double, string, bool, bool, double, XNSE_Control> GenXNSECtrl = delegate(IGridInfo grd, int k, double Viscosity, double tiltAngle, string RotAxis, bool AMR, bool LoadBalance, double AggThrs){\n",
    "    XNSE_Control C = new XNSE_Control();\n",
    "\n",
    "    // basic database options\n",
    "    // ======================\n",
    "    C.SetDatabase(myDB);\n",
    "    C.savetodb = true;\n",
    "    int J  = grd.NumberOfCells;\n",
    "\n",
    "    // Physical Parameters\n",
    "    // ===================\n",
    "    const double rhoA = 1;\n",
    "    const double Re = 1000;\n",
    "    double muA = Viscosity;\n",
    "    double partRad = _partRad;\n",
    "    double partDia = 2*partRad;\n",
    "    double VelocityMax = Re * muA / rhoA / partDia;\n",
    "    double anglev = VelocityMax / (partRad*1.39); // longest arm: partRad*1.39\n",
    "    double period = 2*Math.PI/anglev;\n",
    "    double ts = period/NoOfTimeSteps;\n",
    "    double[] pos = new double[SpaceDim]; //position of the center is set to origin (0,0)\n",
    "    string rotAxis= RotAxis ?? \"z\";\n",
    "\n",
    "    C.PhysicalParameters.IncludeConvection = IncludeConvection;\n",
    "    C.PhysicalParameters.Material = true;\n",
    "    C.PhysicalParameters.rho_A = rhoA;\n",
    "    C.PhysicalParameters.mu_A = muA;\n",
    "\n",
    "    // Meta data\n",
    "    // ============    \n",
    "    C.SessionName = string.Format(\"J{0}_k{1}_Re{2}_agg{3}_ti{4:f3}at{5}_r{6}_AMR{7}_LB{8}_W{9:f2}\",\n",
    "                             J, k,Re,AggThrs,tiltAngle,rotAxis.ToUpper(),_partRad,AMR,LoadBalance,anglev);\n",
    "\n",
    "    if(IncludeConvection){\n",
    "        C.SessionName += \"_NSE\";\n",
    "        C.Tags.Add(\"NSE\");\n",
    "    } else {\n",
    "        C.SessionName += \"_Stokes\";\n",
    "        C.Tags.Add(\"Stokes\");\n",
    "    }\n",
    "    C.Tags.Add(SpaceDim + \"D\");\n",
    "\n",
    "    if(Steady)C.Tags.Add(\"steady\");\n",
    "    else C.Tags.Add(\"transient\");\n",
    "\n",
    "    // DG degrees and configuration\n",
    "    // ==========\n",
    "    C.SetFieldOptions(k, Math.Max(k, 8));\n",
    "    C.saveperiod = 10;\n",
    "    C.GridGuid = grd.ID;\n",
    "    C.GridPartType = GridPartType.Hilbert;\n",
    "    C.DynamicLoadBalancing_On = LoadBalance;\n",
    "    C.DynamicLoadBalancing_RedistributeAtStartup = false;\n",
    "    C.DynamicLoadBalancing_Period = 10;\n",
    "    C.DynamicLoadBalancing_ImbalanceThreshold = 0.1;\n",
    "    C.ImmediatePlotPeriod = 5;\n",
    "    C.SuperSampling = 0;\n",
    "\n",
    "    // Set rigid body \n",
    "    // ============       \n",
    "    double rateOfRadius = 0.0; //-1/(double)NoOfTimeSteps/ts;\n",
    "    double ringRad = partRad/1.5;\n",
    "    C.Rigidbody.SetParameters(pos,anglev,partRad,SpaceDim,ringRad,rateOfRadius: rateOfRadius, staticShape: Steady);\n",
    "    C.SessionName += $\"_dRdt{rateOfRadius:f2}\";\n",
    "    C.Rigidbody.SpecifyShape(Gshape);\n",
    "    C.Rigidbody.SetRotationAxis(rotAxis);\n",
    "    var tiltAxis = new Vector(1,0,0);\n",
    "    C.Rigidbody.SetTilt(tiltAxis, tiltAngle);\n",
    "    C.UseImmersedBoundary = true;\n",
    "    \n",
    "    // Set initial and boundary conditions\n",
    "    // ============\n",
    "    C.AddInitialValue(VariableNames.LevelSetCGidx(0), new Formula(\"X => -1\"));\n",
    "    C.AddInitialValue(\"Pressure\", new Formula(@\"X => 0\"));\n",
    "    C.AddBoundaryValue(\"Pressure_Outlet\");\n",
    "\n",
    "    // Solver parameters\n",
    "    // ============\n",
    "    C.CutCellQuadratureType = BoSSS.Foundation.XDG.XQuadFactoryHelper.MomentFittingVariants.Saye;\n",
    "    C.UseSchurBlockPrec = true;\n",
    "    C.AgglomerationThreshold = AggThrs;\n",
    "    C.AdvancedDiscretizationOptions.ViscosityMode = ViscosityMode.FullySymmetric;\n",
    "    C.Option_LevelSetEvolution2 = LevelSetEvolution.Prescribed;\n",
    "    C.Option_LevelSetEvolution = LevelSetEvolution.None; // idle level set (used for evolving LS)\n",
    "    C.Timestepper_LevelSetHandling = LevelSetHandling.LieSplitting;\n",
    "    C.LinearSolver = LinearSolverCode.exp_Kcycle_schwarz.GetConfig();\n",
    "    C.NonLinearSolver.SolverCode = NonLinearSolverCode.Newton;\n",
    "    C.NonLinearSolver.ConvergenceCriterion = 0;\n",
    "    C.NonLinearSolver.MaxSolverIterations = 50;\n",
    "    C.NonLinearSolver.verbose = true;\n",
    "    C.AdaptiveMeshRefinement = AMR;\n",
    "\n",
    "    // Rotate only until symmetry axes, there is no need for further rotation\n",
    "    double NoOfTimeStepsDouble = NoOfTimeSteps/5;\n",
    "\n",
    "    // Timestepping\n",
    "    // ============\n",
    "    double dt = -1;\n",
    "    if(Steady){\n",
    "        C.TimesteppingMode = AppControl._TimesteppingMode.Steady;\n",
    "        dt = 1000;\n",
    "        C.NoOfTimesteps = 1;\n",
    "    } else {\n",
    "        C.TimesteppingMode = AppControl._TimesteppingMode.Transient;        \n",
    "        dt = ts;        \n",
    "        C.NoOfTimesteps = (int)NoOfTimeStepsDouble; \n",
    "    }\n",
    "    \n",
    "    \n",
    "    C.TimeSteppingScheme = TimeSteppingScheme.BDF3; \n",
    "    C.dtFixed = dt;\n",
    "    C.SkipSolveAndEvaluateResidual = true; //to save computational time for condition study\n",
    "    C.SessionName = \"Solver\" + !C.SkipSolveAndEvaluateResidual + \"_\" + C.SessionName;\n",
    "    C.PlotAgglomeration = false;\n",
    "\n",
    "    // //Condition number study\n",
    "    // // ============\n",
    "    var config = new OperatorAnalysisConfig();\n",
    "    config.CalculateMassMatrix = true;\n",
    "    config.CalculateGlobalConditionNumbers = true;\n",
    "    config.CalculateStencilConditionNumbers = false;\n",
    "    config.PlotStencilConditionNumbers = false;\n",
    "    C.PostprocessingModules.Add(new BoSSS.Application.XNSE_Solver.Logging.CondLogger(config));\n",
    "    C.SessionName += \"_condStudy\";\n",
    "\n",
    "    return C;\n",
    "};"
   ]
  },
  {
   "cell_type": "code",
   "execution_count": 12,
   "metadata": {
    "dotnet_interactive": {
     "language": "csharp"
    },
    "polyglot_notebook": {
     "kernelName": "csharp"
    }
   },
   "outputs": [
    {
     "data": {
      "text/html": [
       "<details open=\"open\" class=\"dni-treeview\"><summary><span class=\"dni-code-hint\"><code>BoSSS.Application.XNSE_Solver.XNSE_Control</code></span></summary><div><table><thead><tr></tr></thead><tbody><tr><td>UseImmersedBoundary</td><td>True</td></tr><tr><td>TimesteppingMode</td><td>Transient</td></tr><tr><td>Timestepper_LevelSetHandling</td><td>LieSplitting</td></tr><tr><td>ControlFileText</td><td><div class=\"dni-plaintext\"><pre>&lt;null&gt;</pre></div></td></tr><tr><td>GeneratedFromCode</td><td>False</td></tr><tr><td>ControlFileText_Index</td><td>0</td></tr><tr><td>NoOfMultigridLevels</td><td>1000000</td></tr><tr><td>FieldOptions</td><td>[ [Velocity*, BoSSS.Solution.Control.FieldOpts], [Pressure, BoSSS.Solution.Control.FieldOpts], [PhiDG, BoSSS.Solution.Control.FieldOpts], [Phi, BoSSS.Solution.Control.FieldOpts], [Phi2DG, BoSSS.Solution.Control.FieldOpts], [Phi2, BoSSS.Solution.Control.FieldOpts], [Curvature, BoSSS.Solution.Control.FieldOpts] ]</td></tr><tr><td>BoundaryValues</td><td>[ [Pressure_Outlet, BoSSS.Solution.Control.AppControl+BoundaryValueCollection] ]</td></tr><tr><td>BoundaryValueChanges</td><td>[  ]</td></tr><tr><td>InitialValues_EvaluatorsVec</td><td>[ [Phi, BoSSS.Foundation.ScalarFunctionTimeDep], [Pressure, BoSSS.Foundation.ScalarFunctionTimeDep] ]</td></tr><tr><td>InitialValues_Evaluators</td><td>[ [Phi, System.Func`2[System.Double[],System.Double]], [Pressure, System.Func`2[System.Double[],System.Double]] ]</td></tr><tr><td>InitialValues_Evaluators_TimeDep</td><td>[ [Phi, System.Func`3[System.Double[],System.Double,System.Double]], [Pressure, System.Func`3[System.Double[],System.Double,System.Double]] ]</td></tr><tr><td>InitialValues</td><td>[ [Phi, X => -1], [Pressure, X => 0] ]</td></tr><tr><td>Tags</td><td>[ NSE, 2D, transient ]</td></tr><tr><td>dtFixed</td><td>1.5720529638563325E-05</td></tr><tr><td>Paramstudy_CaseIdentification</td><td>[  ]</td></tr><tr><td>DynamicLoadBalancing_CellCostEstimators</td><td>[ BoSSS.Application.XNSE_Solver.Loadbalancing.XNSECellCostEstimator ]</td></tr><tr><td>Rigidbody</td><td>BoSSS.Application.XNSE_Solver.XRigid</td></tr><tr><td>UseSchurBlockPrec</td><td>True</td></tr><tr><td>methodTagLS</td><td><div class=\"dni-plaintext\"><pre>&lt;null&gt;</pre></div></td></tr><tr><td>RefineStrategy</td><td>constantInterface</td></tr><tr><td>BaseRefinementLevel</td><td>0</td></tr><tr><td>RefinementLevel</td><td>0</td></tr><tr><td>RefineNavierSlipBoundary</td><td>False</td></tr><tr><td>ClearVelocitiesOnRestart</td><td>False</td></tr><tr><td>ReInitOnRestart</td><td>False</td></tr><tr><td>adaptiveReInit</td><td>False</td></tr><tr><td>InitSignedDistance</td><td>False</td></tr><tr><td>AdvancedDiscretizationOptions</td><td>BoSSS.Solution.XNSECommon.DoNotTouchParameters</td></tr><tr><td>PhysicalParameters</td><td>BoSSS.Solution.XNSECommon.PhysicalParameters</td></tr><tr><td>SkipSolveAndEvaluateResidual</td><td>True</td></tr><tr><td>FailOnSolverFail</td><td>True</td></tr><tr><td>Timestepper_BDFinit</td><td>SingleInit</td></tr><tr><td>AdditionalParameters</td><td><div class=\"dni-plaintext\"><pre>&lt;null&gt;</pre></div></td></tr><tr><td>prescribedLSwaveData</td><td><div class=\"dni-plaintext\"><pre>&lt;null&gt;</pre></div></td></tr><tr><td>EnforceLevelSetConservation</td><td>False</td></tr><tr><td>solveKineticEnergyEquation</td><td>False</td></tr><tr><td>equalTimesteppingForKineticEnergy</td><td>True</td></tr><tr><td>kinEViscousDiscretization</td><td>local</td></tr><tr><td>kinEPressureDiscretization</td><td>divergence</td></tr><tr><td>withDissipativePressure</td><td>False</td></tr><tr><td>KineticEnergyeBlockPrecondMode</td><td>SymPart_DiagBlockEquilib</td></tr><tr><td>ComputeEnergyProperties</td><td>False</td></tr><tr><td>CheckJumpConditions</td><td>False</td></tr><tr><td>CheckInterfaceProps</td><td>False</td></tr><tr><td>RegisterUtilitiesToIOFields</td><td>False</td></tr><tr><td>Phi</td><td><div class=\"dni-plaintext\"><pre>&lt;null&gt;</pre></div></td></tr><tr><td>InterVelocAverage</td><td>density</td></tr><tr><td>ExactSolutionVelocity</td><td><div class=\"dni-plaintext\"><pre>&lt;null&gt;</pre></div></td></tr><tr><td>ExactSolutionPressure</td><td><div class=\"dni-plaintext\"><pre>&lt;null&gt;</pre></div></td></tr><tr><td>ExactSolutionTemperature</td><td><div class=\"dni-plaintext\"><pre>&lt;null&gt;</pre></div></td></tr><tr><td>ExactSolutionMixtureFraction</td><td><div class=\"dni-plaintext\"><pre>&lt;null&gt;</pre></div></td></tr><tr><td>ReInitControl</td><td>BoSSS.Solution.LevelSetTools.EllipticReInit.EllipticReInitAlgoControl</td></tr><tr><td>EllipticExtVelAlgoControl</td><td>BoSSS.Solution.LevelSetTools.EllipticExtension.EllipticExtVelAlgoControl</td></tr><tr><td>fullReInit</td><td>False</td></tr><tr><td>solveCoupledHeatEquation</td><td>False</td></tr><tr><td>useSolutionParamUpdate</td><td>False</td></tr><tr><td>prescribedMassflux_Evaluator</td><td><div class=\"dni-plaintext\"><pre>&lt;null&gt;</pre></div></td></tr><tr><td>prescribedMassflux</td><td><div class=\"dni-plaintext\"><pre>&lt;null&gt;</pre></div></td></tr><tr><td>conductMode</td><td>SIP</td></tr><tr><td>DisjoiningPressureFunc</td><td><div class=\"dni-plaintext\"><pre>&lt;null&gt;</pre></div></td></tr><tr><td>ThermalParameters</td><td>BoSSS.Solution.XheatCommon.ThermalParameters</td></tr><tr><td>NonlinearCouplingSolidFluid</td><td>False</td></tr><tr><td>LSunderrelax</td><td>1</td></tr><tr><td>Option_LevelSetEvolution</td><td>None</td></tr><tr><td>Option_LevelSetEvolution2</td><td>Prescribed</td></tr><tr><td>FastMarchingPenaltyTerms</td><td>Jump</td></tr><tr><td>FourierLevSetControl</td><td><div class=\"dni-plaintext\"><pre>&lt;null&gt;</pre></div></td></tr><tr><td>PhasefieldControl</td><td><div class=\"dni-plaintext\"><pre>&lt;null&gt;</pre></div></td></tr><tr><td>Phi0Initial</td><td><div class=\"dni-plaintext\"><pre>&lt;null&gt;</pre></div></td></tr><tr><td>LS_TrackerWidth</td><td>1</td></tr><tr><td>FastMarchingReInitPeriod</td><td>0</td></tr><tr><td>ReInitPeriod</td><td>0</td></tr><tr><td>LSContiProjectionMethod</td><td>ConstrainedDG</td></tr><tr><td>LinearSolver</td><td>BoSSS.Solution.AdvancedSolvers.OrthoMGSchwarzConfig</td></tr><tr><td>NonLinearSolver</td><td>BoSSS.Solution.Control.NonLinearSolverConfig</td></tr><tr><td>AgglomerationThreshold</td><td>0</td></tr><tr><td>MultiStepInit</td><td>False</td></tr><tr><td>TimeSteppingScheme</td><td>BDF3</td></tr><tr><td>activeAMRlevelIndicators</td><td>[  ]</td></tr><tr><td>LevelSet_ConvergenceCriterion</td><td>1E-06</td></tr><tr><td>Queries</td><td>[  ]</td></tr><tr><td>RestartInfo</td><td><div class=\"dni-plaintext\"><pre>&lt;null&gt;</pre></div></td></tr><tr><td>GridGuid</td><td>7daf0905-c84f-4e57-9564-77cd1d1d9c50</td></tr><tr><td>GridFunc</td><td><div class=\"dni-plaintext\"><pre>&lt;null&gt;</pre></div></td></tr><tr><td>m_Grid</td><td><div class=\"dni-plaintext\"><pre>&lt;null&gt;</pre></div></td></tr><tr><td>GridPartType</td><td>Hilbert</td></tr><tr><td>GridPartOptions</td><td><div class=\"dni-plaintext\"><pre>&lt;null&gt;</pre></div></td></tr><tr><td>SessionName</td><td>SolverFalse_J256_k1_Re1000_agg0_ti0.000atZ_r0.6_AMRFalse_LBFalse_W999.20_NSE_dRdt0.00_condStudy</td></tr><tr><td>ProjectName</td><td><div class=\"dni-plaintext\"><pre>&lt;null&gt;</pre></div></td></tr><tr><td>ProjectDescription</td><td><div class=\"dni-plaintext\"><pre>&lt;null&gt;</pre></div></td></tr><tr><td>NoOfTimesteps</td><td>80</td></tr><tr><td>staticTimestep</td><td>True</td></tr><tr><td>Endtime</td><td>1.7976931348623157E+308</td></tr><tr><td>saveperiod</td><td>10</td></tr><tr><td>rollingSaves</td><td>False</td></tr><tr><td>BurstSaves</td><td>1</td></tr><tr><td>dtMin</td><td>1.5720529638563325E-05</td></tr><tr><td>dtMax</td><td>1.5720529638563325E-05</td></tr><tr><td>ImmediatePlotPeriod</td><td>1</td></tr><tr><td>SuperSampling</td><td>0</td></tr><tr><td>savetodb</td><td>True</td></tr><tr><td>TracingNamespaces</td><td><div class=\"dni-plaintext\"><pre>&lt;null&gt;</pre></div></td></tr><tr><td>MemoryInstrumentationLevel</td><td>None</td></tr><tr><td>DbPath</td><td>\\\\dc3\\userspace\\toprak\\BoSSS-ConditionFinal\\Popcorn2D_test</td></tr><tr><td>AlternateDbPaths</td><td>[  ]</td></tr><tr><td>logFileDirectory</td><td>.</td></tr><tr><td>Paramstudy_ContinueOnError</td><td>True</td></tr><tr><td>DynamicLoadBalancing_RedistributeAtStartup</td><td>False</td></tr><tr><td>PlotAgglomeration</td><td>False</td></tr><tr><td>DynamicLoadBalancing_Period</td><td>10</td></tr><tr><td>DynamicLoadBalancing_ImbalanceThreshold</td><td>0.1</td></tr><tr><td>DynamicLoadBalancing_On</td><td>False</td></tr><tr><td>AdaptiveMeshRefinement</td><td>False</td></tr><tr><td>AMR_startUpSweeps</td><td>1</td></tr><tr><td>CutCellQuadratureType</td><td>Saye</td></tr><tr><td>ContinueOnIoError</td><td>True</td></tr><tr><td>PostprocessingModules</td><td>[ BoSSS.Application.XNSE_Solver.Logging.CondLogger ]</td></tr></tbody></table></div></details><style>\r\n",
       ".dni-code-hint {\r\n",
       "    font-style: italic;\r\n",
       "    overflow: hidden;\r\n",
       "    white-space: nowrap;\r\n",
       "}\r\n",
       ".dni-treeview {\r\n",
       "    white-space: nowrap;\r\n",
       "}\r\n",
       ".dni-treeview td {\r\n",
       "    vertical-align: top;\r\n",
       "    text-align: start;\r\n",
       "}\r\n",
       "details.dni-treeview {\r\n",
       "    padding-left: 1em;\r\n",
       "}\r\n",
       "table td {\r\n",
       "    text-align: start;\r\n",
       "}\r\n",
       "table tr { \r\n",
       "    vertical-align: top; \r\n",
       "    margin: 0em 0px;\r\n",
       "}\r\n",
       "table tr td pre \r\n",
       "{ \r\n",
       "    vertical-align: top !important; \r\n",
       "    margin: 0em 0px !important;\r\n",
       "} \r\n",
       "table th {\r\n",
       "    text-align: start;\r\n",
       "}\r\n",
       "</style>"
      ]
     },
     "metadata": {},
     "output_type": "display_data"
    }
   ],
   "source": [
    "//See an example control object\n",
    "GenXNSECtrl(Grids[0],1,1,0.0,\"z\",false,false,0)"
   ]
  },
  {
   "cell_type": "markdown",
   "metadata": {},
   "source": [
    "# Submit jobs into cluster\n",
    "Create the control objects for the sessions"
   ]
  },
  {
   "cell_type": "code",
   "execution_count": 13,
   "metadata": {
    "dotnet_interactive": {
     "language": "csharp"
    }
   },
   "outputs": [],
   "source": [
    "var ViscositySweep = new double[]{1E-2};\n",
    "var tiltAngles = new double[]{0}; //Math.PI/4\n",
    "var axes = new string[]{\"z\"};\n",
    "var AMRarray = new bool[] {false};\n",
    "var LoadBalancearray = new bool[] {false};\n",
    "\n",
    "List<XNSE_Control> controls = new List<XNSE_Control>();\n",
    "foreach(IGridInfo grd in Grids){\n",
    "    foreach(int k in PolyDegS){\n",
    "        foreach(double v in ViscositySweep)\n",
    "            foreach(double tiltAngle in tiltAngles)\n",
    "                foreach(string axis in axes)\n",
    "                    foreach(bool AMR in AMRarray)\n",
    "                        foreach(bool LoadBalance in LoadBalancearray)\n",
    "                            foreach(double agg in aggThresolds)\n",
    "                               controls.Add(GenXNSECtrl(grd,k,v,tiltAngle,axis,AMR,LoadBalance,agg));\n",
    "    }\n",
    "}"
   ]
  },
  {
   "cell_type": "markdown",
   "metadata": {},
   "source": [
    "List sessions to be submitted"
   ]
  },
  {
   "cell_type": "code",
   "execution_count": 14,
   "metadata": {
    "dotnet_interactive": {
     "language": "csharp"
    }
   },
   "outputs": [
    {
     "data": {
      "text/html": [
       "<div class=\"dni-plaintext\"><pre>[ SolverFalse_J256_k1_Re1000_agg0.1_ti0.000atZ_r0.6_AMRFalse_LBFalse_W9.99_NSE_dRdt0.00_condStudy\n",
       " ]</pre></div><style>\r\n",
       ".dni-code-hint {\r\n",
       "    font-style: italic;\r\n",
       "    overflow: hidden;\r\n",
       "    white-space: nowrap;\r\n",
       "}\r\n",
       ".dni-treeview {\r\n",
       "    white-space: nowrap;\r\n",
       "}\r\n",
       ".dni-treeview td {\r\n",
       "    vertical-align: top;\r\n",
       "    text-align: start;\r\n",
       "}\r\n",
       "details.dni-treeview {\r\n",
       "    padding-left: 1em;\r\n",
       "}\r\n",
       "table td {\r\n",
       "    text-align: start;\r\n",
       "}\r\n",
       "table tr { \r\n",
       "    vertical-align: top; \r\n",
       "    margin: 0em 0px;\r\n",
       "}\r\n",
       "table tr td pre \r\n",
       "{ \r\n",
       "    vertical-align: top !important; \r\n",
       "    margin: 0em 0px !important;\r\n",
       "} \r\n",
       "table th {\r\n",
       "    text-align: start;\r\n",
       "}\r\n",
       "</style>"
      ]
     },
     "metadata": {},
     "output_type": "display_data"
    }
   ],
   "source": [
    "controls.Select(s=>s.SessionName + \"\\n\")"
   ]
  },
  {
   "cell_type": "markdown",
   "metadata": {},
   "source": [
    "Submit jobs"
   ]
  },
  {
   "cell_type": "code",
   "execution_count": 15,
   "metadata": {
    "dotnet_interactive": {
     "language": "csharp"
    }
   },
   "outputs": [],
   "source": [
    "int k=1;\n",
    "foreach(var ctrl in controls){\n",
    "        string sessname = ctrl.SessionName;\n",
    "        foreach(int cores in core_sweep){\n",
    "            ctrl.SessionName = sessname + \"_ct\"+cores; \n",
    "                    var aJob   = new Job(\"Rot\"+Gshape+\"_\"+ctrl.SessionName,typeof(XNSE));\n",
    "\n",
    "            aJob.SetControlObject(ctrl);\n",
    "            aJob.NumberOfMPIProcs         = cores;\n",
    "            aJob.UseComputeNodesExclusive = true;\n",
    "            //aJob.ExecutionTime            = \"12:00:00\";\n",
    "            aJob.NumberOfThreads = 4;\n",
    "            aJob.Activate(myBatch);\n",
    "            Console.WriteLine(\"Submitted {0}th\",k) ;\n",
    "            k++;           \n",
    "        }       \n",
    "}\n",
    "    \n"
   ]
  },
  {
   "cell_type": "markdown",
   "metadata": {},
   "source": [
    "List sessions submitted"
   ]
  },
  {
   "cell_type": "code",
   "execution_count": 16,
   "metadata": {
    "dotnet_interactive": {
     "language": "csharp"
    },
    "polyglot_notebook": {
     "kernelName": "csharp"
    }
   },
   "outputs": [
    {
     "data": {
      "text/plain": []
     },
     "metadata": {},
     "output_type": "display_data"
    }
   ],
   "source": [
    "wmg.DefaultDatabase.Sessions"
   ]
  }
 ],
 "metadata": {
  "kernelspec": {
   "display_name": ".NET (C#)",
   "language": "C#",
   "name": ".net-csharp"
  },
  "language_info": {
   "name": "polyglot-notebook"
  },
  "polyglot_notebook": {
   "kernelInfo": {
    "defaultKernelName": "csharp",
    "items": [
     {
      "aliases": [],
      "name": ".NET"
     },
     {
      "aliases": [
       "C#",
       "c#"
      ],
      "languageName": "C#",
      "name": "csharp"
     },
     {
      "aliases": [
       "F#",
       "f#"
      ],
      "languageName": "F#",
      "name": "fsharp"
     },
     {
      "aliases": [],
      "languageName": "HTML",
      "name": "html"
     },
     {
      "aliases": [
       "js"
      ],
      "languageName": "JavaScript",
      "name": "javascript"
     },
     {
      "aliases": [],
      "languageName": "KQL",
      "name": "kql"
     },
     {
      "aliases": [],
      "languageName": "Mermaid",
      "name": "mermaid"
     },
     {
      "aliases": [
       "powershell"
      ],
      "languageName": "PowerShell",
      "name": "pwsh"
     },
     {
      "aliases": [],
      "languageName": "SQL",
      "name": "sql"
     },
     {
      "aliases": [],
      "name": "value"
     },
     {
      "aliases": [
       "frontend"
      ],
      "name": "vscode"
     },
     {
      "aliases": [],
      "name": "webview"
     }
    ]
   }
  }
 },
 "nbformat": 4,
 "nbformat_minor": 2
}

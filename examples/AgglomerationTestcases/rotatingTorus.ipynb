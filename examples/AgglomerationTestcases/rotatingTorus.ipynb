{
 "cells": [
  {
   "cell_type": "code",
   "execution_count": 1,
   "metadata": {
    "dotnet_interactive": {
     "language": "csharp"
    }
   },
   "outputs": [],
   "source": [
    "//#r \"./../../../../../public/src/L4-application/BoSSSpad/bin/Release/net6.0/BoSSSpad.dll\"\n",
    "#r \"C:\\Users\\toprak\\Documents\\BoSSS-code\\public\\src\\L4-application\\BoSSSpad\\bin\\Release\\net6.0\\BoSSSpad.dll\"\n",
    "using System;\n",
    "using System.Threading;\n",
    "using System.Diagnostics;\n",
    "using ilPSP;\n",
    "using ilPSP.Utils;\n",
    "using BoSSS.Platform;\n",
    "using BoSSS.Foundation;\n",
    "using BoSSS.Foundation.XDG;\n",
    "using BoSSS.Foundation.Grid;\n",
    "using BoSSS.Solution;\n",
    "using BoSSS.Application.XNSE_Solver;\n",
    "using BoSSS.Application.BoSSSpad;\n",
    "using BoSSS.Foundation.Grid.Classic;\n",
    "using BoSSS.Foundation.IO;\n",
    "using BoSSS.Solution.AdvancedSolvers;\n",
    "using BoSSS.Solution.Control;\n",
    "using BoSSS.Solution.XNSECommon;\n",
    "using BoSSS.Solution.NSECommon;\n",
    "//using BoSSS.XNSE_Solver;\n",
    "using BoSSS.Solution.LoadBalancing;\n",
    "using BoSSS.Solution.LevelSetTools;\n",
    "using BoSSS.Solution.XdgTimestepping;\n",
    "using BoSSS.Solution.Utils;\n",
    "using System.IO;\n",
    "\n",
    "using static BoSSS.Application.BoSSSpad.BoSSSshell;\n",
    "Init();"
   ]
  },
  {
   "cell_type": "code",
   "execution_count": 2,
   "metadata": {
    "dotnet_interactive": {
     "language": "csharp"
    }
   },
   "outputs": [],
   "source": [
    "// Is used at Jenkins to generate individual names (for output .json)\n",
    "string dbname = System.Environment.GetEnvironmentVariable(\"DATABASE_NAME\");\n",
    "string buildname = System.Environment.GetEnvironmentVariable(\"JOB_NAME\");\n",
    "//defaults\n",
    "buildname = String.IsNullOrEmpty(buildname)? \"RotTorus3D\" : buildname;\n",
    "//string thedate = $\"{System.DateTime.Today.Day}-{System.DateTime.Today.Month}-{System.DateTime.Today.Year}\";\n",
    "dbname = String.IsNullOrEmpty(dbname)? \"condStudy\" : dbname;\n",
    "string table_name = String.Concat(buildname, \"_\", dbname);"
   ]
  },
  {
   "cell_type": "code",
   "execution_count": 3,
   "metadata": {
    "dotnet_interactive": {
     "language": "csharp"
    }
   },
   "outputs": [],
   "source": [
    "// set parameterz\n",
    "int[] PolyDegS = new int[] {2,3};\n",
    "int[] ResArray = new int[] {16};\n",
    "int[] core_sweep = { 4};\n",
    "int AMRLevel = 1;\n",
    "int MemoryPerCore = 3800;\n",
    "bool submitJob = true;"
   ]
  },
  {
   "cell_type": "code",
   "execution_count": 4,
   "metadata": {
    "dotnet_interactive": {
     "language": "csharp"
    }
   },
   "outputs": [],
   "source": [
    "\n",
    "//bool AMR = true;\n",
    "//bool useLoadBal = true;\n",
    "int NoOfTimeSteps = 25;\n",
    "bool Steady = false;\n",
    "bool IncludeConvection = true;\n",
    "var Gshape = Shape.Torus;"
   ]
  },
  {
   "cell_type": "code",
   "execution_count": 5,
   "metadata": {
    "dotnet_interactive": {
     "language": "csharp"
    }
   },
   "outputs": [
    {
     "data": {
      "text/html": [
       "<table><thead><tr><th><i>index</i></th><th><i>type</i></th><th>value</th></tr></thead><tbody><tr><td>0</td><td>BoSSS.Application.BoSSSpad.SlurmClient</td><td>SlurmClient Lb1 : mt64qocy@lcluster15.hrz.tu-darmstadt.de, Slurm account: special00006</td></tr><tr><td>1</td><td>BoSSS.Application.BoSSSpad.SlurmClient</td><td>SlurmClient Lb1 : mt64qocy@lcluster14.hrz.tu-darmstadt.de, Slurm account: special00006</td></tr><tr><td>2</td><td>BoSSS.Application.BoSSSpad.MsHPC2012Client</td><td>MS HPC client  MSHPC-Gitrunner-DefaultTest @DC2, @\\\\dc1\\userspace\\toprak\\BoSSS-Cluster4</td></tr><tr><td>3</td><td>BoSSS.Application.BoSSSpad.MsHPC2012Client</td><td>MS HPC client  MSHPC-Gitrunner-DefaultTest @DC2, @\\\\dc1\\userspace\\toprak\\BoSSS-Cluster6</td></tr><tr><td>4</td><td>BoSSS.Application.BoSSSpad.MsHPC2012Client</td><td>MS HPC client  MSHPC-Gitrunner-DefaultTest @DC2, @\\\\dc1\\userspace\\toprak\\BoSSS-Cluster</td></tr><tr><td>5</td><td>BoSSS.Application.BoSSSpad.MsHPC2012Client</td><td>MS HPC client  MSHPC-Gitrunner-DefaultTest @DC2, @\\\\dc1\\userspace\\toprak\\BoSSS-Cluster3D</td></tr></tbody></table><style>\r\n",
       ".dni-code-hint {\r\n",
       "    font-style: italic;\r\n",
       "    overflow: hidden;\r\n",
       "    white-space: nowrap;\r\n",
       "}\r\n",
       ".dni-treeview {\r\n",
       "    white-space: nowrap;\r\n",
       "}\r\n",
       ".dni-treeview td {\r\n",
       "    vertical-align: top;\r\n",
       "    text-align: start;\r\n",
       "}\r\n",
       "details.dni-treeview {\r\n",
       "    padding-left: 1em;\r\n",
       "}\r\n",
       "table td {\r\n",
       "    text-align: start;\r\n",
       "}\r\n",
       "table tr { \r\n",
       "    vertical-align: top; \r\n",
       "    margin: 0em 0px;\r\n",
       "}\r\n",
       "table tr td pre \r\n",
       "{ \r\n",
       "    vertical-align: top !important; \r\n",
       "    margin: 0em 0px !important;\r\n",
       "} \r\n",
       "table th {\r\n",
       "    text-align: start;\r\n",
       "}\r\n",
       "</style>"
      ]
     },
     "metadata": {},
     "output_type": "display_data"
    }
   ],
   "source": [
    "ExecutionQueues"
   ]
  },
  {
   "cell_type": "code",
   "execution_count": 6,
   "metadata": {
    "dotnet_interactive": {
     "language": "csharp"
    }
   },
   "outputs": [],
   "source": [
    "var myBatch = ExecutionQueues[1];\n",
    "//var AddSbatchCmds = new List<string>();\n",
    "//AddSbatchCmds.AddRange(new string[]{\"#SBATCH -N 6\", \"#SBATCH -C avx512\", \"#SBATCH --mem-per-cpu=\"+MemoryPerCore});\n",
    "//myBatch.AdditionalBatchCommands = AddSbatchCmds.ToArray();\n",
    "//myBatch.AdditionalBatchCommands"
   ]
  },
  {
   "cell_type": "code",
   "execution_count": 7,
   "metadata": {
    "dotnet_interactive": {
     "language": "csharp"
    }
   },
   "outputs": [
    {
     "name": "stdout",
     "output_type": "stream",
     "text": [
      "Project name is set to 'RotTorus3D_validation'.\n",
      "Creating database 'W:\\work\\scratch\\mt64qocy\\RotTorus3D_validation'.\n"
     ]
    },
    {
     "data": {
      "text/plain": [
       "{ Session Count = 0; Grid Count = 0; Path = W:\\work\\scratch\\mt64qocy\\RotTorus3D_validation }"
      ]
     },
     "metadata": {},
     "output_type": "display_data"
    }
   ],
   "source": [
    "string WFlowName = table_name;\n",
    "BoSSS.Application.BoSSSpad.BoSSSshell.WorkflowMgm.Init(WFlowName,myBatch);\n",
    "BoSSS.Application.BoSSSpad.BoSSSshell.WorkflowMgm.SetNameBasedSessionJobControlCorrelation();\n",
    "var myDB = BoSSS.Application.BoSSSpad.BoSSSshell.WorkflowMgm.DefaultDatabase; \n",
    "myDB"
   ]
  },
  {
   "cell_type": "code",
   "execution_count": 8,
   "metadata": {
    "dotnet_interactive": {
     "language": "csharp"
    }
   },
   "outputs": [
    {
     "name": "stdout",
     "output_type": "stream",
     "text": [
      "For degree of 2, DOF per cell: 10\n",
      "• Res: 16: 40960 \n",
      "For degree of 3, DOF per cell: 20\n",
      "• Res: 16: 81920 \n"
     ]
    }
   ],
   "source": [
    "static class Utils {\n",
    "    // DOF per cell in 3D\n",
    "    public static int Np(int p) {\n",
    "        return (p*p*p + 6*p*p + 11*p + 6)/6;\n",
    "    }    \n",
    "    public static void ListTotalDOF(int[] PolyDegS,int[] ResArray) {\n",
    "        foreach(int degree in PolyDegS){\n",
    "                  Console.WriteLine($\"For degree of {degree}, DOF per cell: {Np(degree)}\");\n",
    "            foreach(int res in ResArray)\n",
    "                Console.WriteLine($\"\\u2022 Res: {res}: {Np(degree)*Math.Pow(res,3)} \");\n",
    "                }\n",
    "    }  \n",
    "}\n",
    "    Utils.ListTotalDOF(PolyDegS,ResArray);"
   ]
  },
  {
   "cell_type": "markdown",
   "metadata": {},
   "source": [
    "using "
   ]
  },
  {
   "cell_type": "code",
   "execution_count": 9,
   "metadata": {
    "dotnet_interactive": {
     "language": "csharp"
    }
   },
   "outputs": [],
   "source": [
    "int SpaceDim = 3;\n",
    "double _partRad = 0.3900;"
   ]
  },
  {
   "cell_type": "code",
   "execution_count": 10,
   "metadata": {
    "dotnet_interactive": {
     "language": "csharp"
    }
   },
   "outputs": [],
   "source": [
    "double xMax = 1.0, yMax = 1.0, zMax = 1.0;\n",
    "double xMin = -1.0, yMin = -1.0,zMin = -1.0;"
   ]
  },
  {
   "cell_type": "code",
   "execution_count": 11,
   "metadata": {
    "dotnet_interactive": {
     "language": "csharp"
    },
    "polyglot_notebook": {
     "kernelName": "csharp"
    }
   },
   "outputs": [],
   "source": [
    "//var gridList = myDB.Grids;\n",
    "//var aa = gridList[0];\n",
    "//IGrid grid = myDB.Controller.DBDriver.LoadGrid(aa.ID,myDB);\n",
    "//GridCommons abba = (GridCommons)grid;\n"
   ]
  },
  {
   "cell_type": "code",
   "execution_count": 12,
   "metadata": {
    "dotnet_interactive": {
     "language": "csharp"
    },
    "polyglot_notebook": {
     "kernelName": "csharp"
    }
   },
   "outputs": [
    {
     "data": {
      "text/plain": []
     },
     "metadata": {},
     "output_type": "display_data"
    }
   ],
   "source": [
    "List<IGridInfo> Grids = new List<IGridInfo>();\n",
    "if (SpaceDim ==2){\n",
    "foreach(var Res in ResArray){\n",
    "\n",
    "    var _xNodes = GenericBlas.Linspace(xMin, xMax, Res + 1);\n",
    "    var _yNodes = GenericBlas.Linspace(yMin, yMax, Res + 1);\n",
    "\n",
    "    GridCommons grd;\n",
    "    string gname = \"RotTorus2D_1BCs\";\n",
    "\n",
    "    Console.WriteLine(\"Looking for {0} with {1} cells\",gname,(_xNodes.Length-1)*(_yNodes.Length-1));\n",
    "\n",
    "    var tmp = new List<IGridInfo>();\n",
    "\n",
    "    foreach(var grid in myDB.Grids){\n",
    "        try{\n",
    "            if (String.IsNullOrEmpty(grid.Name))\n",
    "                continue;\n",
    "                //grid.Name = \"Null\";\n",
    "            Console.WriteLine(\"Found {0} with {1} cells on the database\",grid.Name,grid.NumberOfCells);\n",
    "            bool IsMatch = grid.Name.Equals(gname)&&grid.NumberOfCells==(_xNodes.Length-1)*(_yNodes.Length-1);\n",
    "            if(IsMatch) tmp.Add(grid);\n",
    "        }\n",
    "        catch(Exception ex) {\n",
    "            Console.WriteLine(ex.Message);\n",
    "        }\n",
    "    }\n",
    "    Console.WriteLine(\"Found {0} times grids with the same configuration for the Res={1}\",tmp.Count,Res);\n",
    "    \n",
    "    if(tmp.Count() >= 1){\n",
    "        Console.WriteLine(\"Chosing the first one found: \"+tmp.Pick(0).Name);\n",
    "        Grids.Add(tmp.Pick(0));\n",
    "        //IGridInfo firstPick = Grids.ToArray()[0];\n",
    "        //var ImportedGrid = myDB.Controller.DBDriver.LoadGrid(firstPick.ID,myDB);\n",
    "        //grd = (GridCommons)ImportedGrid;EdgeTagName \n",
    "        //Console.WriteLine(\"Chosen Grid:{0}\",ImportedGrid.ToString());\n",
    "        continue;\n",
    "\n",
    "    }else{\n",
    "\n",
    "        grd = Grid2D.Cartesian2DGrid(_xNodes, _yNodes);\n",
    "\n",
    "    \n",
    "        grd.Name = gname;\n",
    "\n",
    "        grd.EdgeTagNames.Add(1, \"Pressure_Outlet\");\n",
    "        grd.DefineEdgeTags(delegate (double[] X) {\n",
    "            return 1;\n",
    "        });\n",
    "                \n",
    "    myDB.SaveGrid(ref grd);\n",
    "    Grids.Add(grd);\n",
    "    }\n",
    "    \n",
    "}\n",
    "Console.WriteLine(\"\\nThe grids to be simulated:\");\n",
    "}\n",
    "Grids\n"
   ]
  },
  {
   "cell_type": "code",
   "execution_count": 13,
   "metadata": {
    "dotnet_interactive": {
     "language": "csharp"
    },
    "polyglot_notebook": {
     "kernelName": "csharp"
    }
   },
   "outputs": [
    {
     "name": "stdout",
     "output_type": "stream",
     "text": [
      "Looking for RotTorus3D_1BCs with 4096 cells\n",
      "Found 0 times grids with the same configuration for the Res=16\n",
      "Grid Edge Tags changed.\n",
      "\n",
      "The grids to be simulated:\n"
     ]
    },
    {
     "data": {
      "text/plain": [
       "#0: { Guid = e830c015-5cec-4ed4-83dc-6cb486f5f7bb; Name = RotTorus3D_1BCs; Cell Count = 4096; Dim = 3 }\r\n"
      ]
     },
     "metadata": {},
     "output_type": "display_data"
    }
   ],
   "source": [
    "if (SpaceDim ==3){\n",
    "foreach(var Res in ResArray){\n",
    "\n",
    "    var _xNodes = GenericBlas.Linspace(xMin, xMax, Res + 1);\n",
    "    var _yNodes = GenericBlas.Linspace(yMin, yMax, Res + 1);\n",
    "    var _zNodes = GenericBlas.Linspace(zMin, zMax, Res + 1);\n",
    "\n",
    "    GridCommons grd;\n",
    "    string gname = \"RotTorus3D_1BCs\";\n",
    "\n",
    "    Console.WriteLine(\"Looking for {0} with {1} cells\",gname,(_xNodes.Length-1)*(_yNodes.Length-1)*(_zNodes.Length-1));\n",
    "\n",
    "    var tmp = new List<IGridInfo>();\n",
    "\n",
    "    foreach(var grid in myDB.Grids){\n",
    "        try{\n",
    "            if (String.IsNullOrEmpty(grid.Name))\n",
    "                continue;\n",
    "                //grid.Name = \"Null\";\n",
    "            Console.WriteLine(\"Found {0} with {1} cells on the database\",grid.Name,grid.NumberOfCells);\n",
    "            bool IsMatch = grid.Name.Equals(gname)&&grid.NumberOfCells==(_xNodes.Length-1)*(_yNodes.Length-1)*(_zNodes.Length-1);\n",
    "            if(IsMatch) tmp.Add(grid);\n",
    "        }\n",
    "        catch(Exception ex) {\n",
    "            Console.WriteLine(ex.Message);\n",
    "        }\n",
    "    }\n",
    "    Console.WriteLine(\"Found {0} times grids with the same configuration for the Res={1}\",tmp.Count,Res);\n",
    "    \n",
    "    if(tmp.Count() >= 1){\n",
    "        Console.WriteLine(\"Chosing the first one found: \"+tmp.Pick(0).Name);\n",
    "        Grids.Add(tmp.Pick(0));\n",
    "        //IGridInfo firstPick = Grids.ToArray()[0];\n",
    "        //var ImportedGrid = myDB.Controller.DBDriver.LoadGrid(firstPick.ID,myDB);\n",
    "        //grd = (GridCommons)ImportedGrid;EdgeTagName \n",
    "        //Console.WriteLine(\"Chosen Grid:{0}\",ImportedGrid.ToString());\n",
    "        continue;\n",
    "\n",
    "    }else{\n",
    "\n",
    "        grd = Grid3D.Cartesian3DGrid(_xNodes, _yNodes,_zNodes);   \n",
    "        grd.Name = gname;\n",
    "\n",
    "        grd.EdgeTagNames.Add(1, \"Pressure_Outlet\");\n",
    "        grd.DefineEdgeTags(delegate (double[] X) {\n",
    "            return 1;\n",
    "        });\n",
    "                \n",
    "    myDB.SaveGrid(ref grd);\n",
    "    Grids.Add(grd);\n",
    "    }\n",
    "    \n",
    "}\n",
    "Console.WriteLine(\"\\nThe grids to be simulated:\");\n",
    "}\n",
    "Grids\n"
   ]
  },
  {
   "cell_type": "markdown",
   "metadata": {},
   "source": [
    "double xMax = 1.0, yMax = 1.0, zMax=1.0;\n",
    "double xMin = -1.0, yMin = -1.0,zMin = -1.0;"
   ]
  },
  {
   "cell_type": "code",
   "execution_count": 14,
   "metadata": {
    "dotnet_interactive": {
     "language": "csharp"
    }
   },
   "outputs": [
    {
     "data": {
      "text/html": [
       "<div class=\"dni-plaintext\"><pre>12.48</pre></div><style>\r\n",
       ".dni-code-hint {\r\n",
       "    font-style: italic;\r\n",
       "    overflow: hidden;\r\n",
       "    white-space: nowrap;\r\n",
       "}\r\n",
       ".dni-treeview {\r\n",
       "    white-space: nowrap;\r\n",
       "}\r\n",
       ".dni-treeview td {\r\n",
       "    vertical-align: top;\r\n",
       "    text-align: start;\r\n",
       "}\r\n",
       "details.dni-treeview {\r\n",
       "    padding-left: 1em;\r\n",
       "}\r\n",
       "table td {\r\n",
       "    text-align: start;\r\n",
       "}\r\n",
       "table tr { \r\n",
       "    vertical-align: top; \r\n",
       "    margin: 0em 0px;\r\n",
       "}\r\n",
       "table tr td pre \r\n",
       "{ \r\n",
       "    vertical-align: top !important; \r\n",
       "    margin: 0em 0px !important;\r\n",
       "} \r\n",
       "table th {\r\n",
       "    text-align: start;\r\n",
       "}\r\n",
       "</style>"
      ]
     },
     "metadata": {},
     "output_type": "display_data"
    }
   ],
   "source": [
    "_partRad/(2/(double)ResArray[0]/4)"
   ]
  },
  {
   "cell_type": "markdown",
   "metadata": {},
   "source": [
    "## Generate Control object\n",
    "\n",
    "### governing equations\n",
    "- incompressible transient Navier-Stokes:\n",
    "<br>$\\frac{\\partial \\rho \\vec{u}}{\\partial t}+ \\nabla \\cdot ( \\rho \\vec{u} \\otimes \\vec{u}) + \\nabla p - \\eta \\Delta \\vec{u} = \\vec{f} \\ \\ in \\ \\ \\Omega_F(t) \\times (0,T)$\n",
    "<br>$\\nabla \\cdot \\vec{u} = 0 \\quad in \\ \\ \\Omega_F(t) \\times (0,T)$\n",
    "- with inital conditions:\n",
    "<br>$\\vec{u}(\\vec{x},0)  =  \\vec{0} \\quad on \\ \\ \\Omega_F(0)$\n",
    "<br>$p(\\vec{x},0)  =  0 \\quad  on \\ \\ \\Omega_F(0)$\n",
    "- with boundary conditions:\n",
    "<br>$\\vec{u}(\\vec{x},t)  =  \\vec{u}_{Inlet} \\ \\  on \\ \\ \\Gamma_{Inlet} = \\{ \\vec{X} \\in \\partial \\Omega_F(t) |  x=-2 \\}$\n",
    "<br>$p \\mathbf{I} - \\frac{1}{Re} \\nabla \\vec{u} \\vec{n}_{ \\Gamma_{pOut} } = 0 \\ \\ on \\ \\ \\Gamma_{pOut} = \\partial \\Omega \\backslash \\Gamma_{Inlet} $ \n",
    "<br>$\\vec{u}(\\vec{x},t) = \\boldsymbol{\\omega}(t) \\times \\vec{r} \\quad on \\ \\ \\mathcal{J} = \\partial \\Omega_S \\cap \\partial \\Omega_F$\n",
    "\n",
    "- Inlet-Velocity $u_{Inlet}=\\frac{Re*\\mu_A}{\\rho_A*d_{hyd}}$\n",
    "- angular velocity of rotating sphere $\\boldsymbol{\\omega}(t)=\\frac{Re*\\mu_A}{\\rho_A*d_{hyd}*1m}$"
   ]
  },
  {
   "cell_type": "code",
   "execution_count": 15,
   "metadata": {
    "dotnet_interactive": {
     "language": "csharp"
    }
   },
   "outputs": [],
   "source": [
    "Func<IGridInfo, int, double, double, string, bool, bool, double, XNSE_Control> GenXNSECtrl = delegate(IGridInfo grd, int k, double Viscosity, double tiltAngle, string RotAxis, bool AMR, bool LoadBalance, double AggThrs){\n",
    "    XNSE_Control C = new XNSE_Control();\n",
    "\n",
    "    // basic database options\n",
    "    // ======================\n",
    "    C.SetDatabase(myDB);\n",
    "    C.savetodb = true;\n",
    "    int J  = grd.NumberOfCells;\n",
    "    string rotAxis;\n",
    "\n",
    "    // Physical Parameters\n",
    "    // ===================\n",
    "    const double rhoA = 1;\n",
    "    const double Re = 1000;\n",
    "    double muA = Viscosity;\n",
    "    \n",
    "    double partRad = _partRad;\n",
    "    double d_hyd = 2*partRad;\n",
    "    double VelocityMax = Re * muA / rhoA / d_hyd;\n",
    "    double anglev = VelocityMax / partRad;\n",
    "    double[] pos = new double[SpaceDim];\n",
    "    double ts = (Math.PI/2)/anglev/NoOfTimeSteps; // until symmetry (pi/2)   double ts = Math.PI/anglev/NoOfTimeSteps/10;\n",
    "    \n",
    "    C.PhysicalParameters.IncludeConvection = IncludeConvection;\n",
    "    C.PhysicalParameters.Material = true;\n",
    "    C.PhysicalParameters.rho_A = rhoA;\n",
    "    C.PhysicalParameters.mu_A = muA;\n",
    "\n",
    "\n",
    "    if (RotAxis == null)\n",
    "        rotAxis = \"y\";\n",
    "    else\n",
    "        rotAxis = RotAxis;\n",
    "\n",
    "    C.SessionName = string.Format(\"J{0}_k{1}_Re{2}_agg{3}_ti{4:f3}at{5}_r{6}_AMR{7}_LB{8}\", J, k,Re,AggThrs,tiltAngle,rotAxis.ToUpper(),_partRad,AMR,LoadBalance);\n",
    "    if(IncludeConvection){\n",
    "        C.SessionName += \"_NSE\";\n",
    "        C.Tags.Add(\"NSE\");\n",
    "    } else {\n",
    "        C.SessionName += \"_Stokes\";\n",
    "        C.Tags.Add(\"Stokes\");\n",
    "    }\n",
    "    C.Tags.Add(SpaceDim + \"D\");\n",
    "    // if(Steady)C.Tags.Add(\"steady\");\n",
    "    // else C.Tags.Add(\"transient\");\n",
    "\n",
    "    // DG degrees\n",
    "    // ==========\n",
    "    C.SetFieldOptions(k, Math.Max(k, 2));\n",
    "    C.saveperiod = 10;\n",
    "    //C.TracingNamespaces = \"*\";\n",
    "\n",
    "    C.GridGuid = grd.ID;\n",
    "    C.GridPartType = GridPartType.Hilbert;\n",
    "    //C.DynamicLoadbalancing_ClassifierType = ClassifierType.CutCells;\n",
    "    C.DynamicLoadBalancing_On = LoadBalance;\n",
    "    C.DynamicLoadBalancing_RedistributeAtStartup = true;\n",
    "    C.DynamicLoadBalancing_Period = 10;\n",
    "    C.DynamicLoadBalancing_ImbalanceThreshold = 0.1;\n",
    "    //C.DynamicLoadBalancing_CellCostEstimatorFactories = BoSSS.Application.XNSE_Solver.Loadbalancing.XNSECellCostEstimator.Factory().ToList();\n",
    "\n",
    "    C.ImmediatePlotPeriod = -1;\n",
    "    C.SuperSampling = 0;\n",
    "    \n",
    "    double rateOfRadius = 0.0; //-1/(double)NoOfTimeSteps/ts;\n",
    "    double ringRad = partRad/1.5;\n",
    "    C.Rigidbody.SetParameters(pos,anglev,partRad,SpaceDim,ringRad,rateOfRadius: rateOfRadius);\n",
    "    C.SessionName += $\"_dRdt{rateOfRadius:f2}\";\n",
    "    C.Rigidbody.SpecifyShape(Gshape);\n",
    "    C.Rigidbody.SetRotationAxis(rotAxis);\n",
    "    var tiltAxis = new Vector(1,0,0);\n",
    "    //Console.WriteLine($\"tiltAxis.Dim: {tiltAxis.Dim}\");\n",
    "    Console.WriteLine(\"Angular Velocity: {0}\",anglev);\n",
    "    C.SessionName += $\"_W{anglev:f2}\";\n",
    "\n",
    "    C.Rigidbody.SetTilt(tiltAxis, tiltAngle);\n",
    "    C.AddInitialValue(VariableNames.LevelSetCGidx(0), new Formula(\"X => -1\"));\n",
    "    C.UseImmersedBoundary = true;\n",
    "    \n",
    "    C.AddInitialValue(\"Pressure\", new Formula(@\"X => 0\"));\n",
    "    C.AddBoundaryValue(\"Pressure_Outlet\");\n",
    "    //double inletdelay = 5*ts;\n",
    "    //C.AddBoundaryValue(\"Velocity_inlet\",\"VelocityX\",new Formula($\"(X,t) => {VelocityIn}*(double)(t<={inletdelay}?(t/{inletdelay}):1)\",true));\n",
    "    //C.AddBoundaryValue(\"Velocity_inlet\",\"VelocityX\",new Formula($\"(X) => {VelocityIn}\"));\n",
    "    //C.AddInitialValue(\"VelocityX\", new Formula($\"(X) => {VelocityIn}\"));\n",
    "\n",
    "    C.CutCellQuadratureType = BoSSS.Foundation.XDG.XQuadFactoryHelper.MomentFittingVariants.Saye;\n",
    "    C.UseSchurBlockPrec = true;\n",
    "    C.AgglomerationThreshold = AggThrs;\n",
    "    C.AdvancedDiscretizationOptions.ViscosityMode = ViscosityMode.FullySymmetric;\n",
    "    C.Option_LevelSetEvolution2 = LevelSetEvolution.Prescribed;\n",
    "    C.Option_LevelSetEvolution = LevelSetEvolution.None;\n",
    "    C.Timestepper_LevelSetHandling = LevelSetHandling.LieSplitting;\n",
    "    C.LinearSolver = new BoSSS.Solution.AdvancedSolvers.OrthoMGSchwarzConfig() {\n",
    "        NoOfMultigridLevels = 5,\n",
    "        ConvergenceCriterion = 1E-3,\n",
    "        MaxSolverIterations = 100,\n",
    "        //MaxKrylovDim = 30,\n",
    "        TargetBlockSize = 10000,\n",
    "        //verbose = true\n",
    "    };\n",
    "\n",
    "    C.LinearSolver = LinearSolverCode.exp_Kcycle_schwarz.GetConfig();\n",
    "    C.NonLinearSolver.SolverCode = NonLinearSolverCode.Newton;\n",
    "    C.NonLinearSolver.ConvergenceCriterion = 1E-3;\n",
    "    C.NonLinearSolver.MaxSolverIterations = 50;\n",
    "    C.NonLinearSolver.verbose = true;\n",
    "\n",
    "    C.AdaptiveMeshRefinement = AMR;\n",
    "    if (AMR) {\n",
    "        C.SetMaximalRefinementLevel(AMRLevel);\n",
    "        C.AMR_startUpSweeps = AMRLevel;\n",
    "    }\n",
    "\n",
    "    // Timestepping\n",
    "    // ============\n",
    "    double dt = -1;\n",
    "    if(Steady){\n",
    "        C.TimesteppingMode = AppControl._TimesteppingMode.Steady;\n",
    "        dt = 1000;\n",
    "        C.NoOfTimesteps = 1;\n",
    "    } else {\n",
    "        C.TimesteppingMode = AppControl._TimesteppingMode.Transient;        \n",
    "        dt = ts;        \n",
    "        C.NoOfTimesteps = NoOfTimeSteps;\n",
    "    }\n",
    "    C.TimeSteppingScheme = TimeSteppingScheme.ImplicitEuler; //BD4\n",
    "    C.dtFixed = dt;\n",
    "    C.SkipSolveAndEvaluateResidual = false;\n",
    "    C.SessionName = \"Solver\" + !C.SkipSolveAndEvaluateResidual + \"_\" + C.SessionName;\n",
    "    var config = new OperatorAnalysisConfig();\n",
    "    config.CalculateMassMatrix = true;\n",
    "    config.CalculateGlobalConditionNumbers = false;\n",
    "    config.CalculateStencilConditionNumbers = true;\n",
    "    config.PlotStencilConditionNumbers = true;\n",
    "\n",
    "    C.PostprocessingModules.Add(new BoSSS.Application.XNSE_Solver.Logging.CondLogger(config));\n",
    "            \n",
    "    C.SessionName += \"_notebookTest\"; \n",
    "\n",
    "    return C;\n",
    "};"
   ]
  },
  {
   "cell_type": "code",
   "execution_count": 16,
   "metadata": {
    "dotnet_interactive": {
     "language": "csharp"
    },
    "polyglot_notebook": {
     "kernelName": "csharp"
    }
   },
   "outputs": [
    {
     "name": "stdout",
     "output_type": "stream",
     "text": [
      "Angular Velocity: 3287.310979618672\r\n"
     ]
    },
    {
     "data": {
      "text/html": [
       "<details open=\"open\" class=\"dni-treeview\"><summary><span class=\"dni-code-hint\"><code>BoSSS.Application.XNSE_Solver.XNSE_Control</code></span></summary><div><table><thead><tr></tr></thead><tbody><tr><td>UseImmersedBoundary</td><td>True</td></tr><tr><td>TimesteppingMode</td><td>Transient</td></tr><tr><td>Timestepper_LevelSetHandling</td><td>LieSplitting</td></tr><tr><td>ControlFileText</td><td><div class=\"dni-plaintext\"><pre>&lt;null&gt;</pre></div></td></tr><tr><td>GeneratedFromCode</td><td>False</td></tr><tr><td>ControlFileText_Index</td><td>0</td></tr><tr><td>NoOfMultigridLevels</td><td>1000000</td></tr><tr><td>FieldOptions</td><td>[ [Velocity*, BoSSS.Solution.Control.FieldOpts], [Pressure, BoSSS.Solution.Control.FieldOpts], [PhiDG, BoSSS.Solution.Control.FieldOpts], [Phi, BoSSS.Solution.Control.FieldOpts], [Phi2DG, BoSSS.Solution.Control.FieldOpts], [Phi2, BoSSS.Solution.Control.FieldOpts], [Curvature, BoSSS.Solution.Control.FieldOpts] ]</td></tr><tr><td>BoundaryValues</td><td>[ [Pressure_Outlet, BoSSS.Solution.Control.AppControl+BoundaryValueCollection] ]</td></tr><tr><td>BoundaryValueChanges</td><td>[  ]</td></tr><tr><td>InitialValues_EvaluatorsVec</td><td>[ [Phi, BoSSS.Foundation.ScalarFunctionTimeDep], [Pressure, BoSSS.Foundation.ScalarFunctionTimeDep] ]</td></tr><tr><td>InitialValues_Evaluators</td><td>[ [Phi, System.Func`2[System.Double[],System.Double]], [Pressure, System.Func`2[System.Double[],System.Double]] ]</td></tr><tr><td>InitialValues_Evaluators_TimeDep</td><td>[ [Phi, System.Func`3[System.Double[],System.Double,System.Double]], [Pressure, System.Func`3[System.Double[],System.Double,System.Double]] ]</td></tr><tr><td>InitialValues</td><td>[ [Phi, X => -1], [Pressure, X => 0] ]</td></tr><tr><td>Tags</td><td>[ NSE, 3D ]</td></tr><tr><td>dtFixed</td><td>1.9113449704440304E-05</td></tr><tr><td>Paramstudy_CaseIdentification</td><td>[  ]</td></tr><tr><td>DynamicLoadBalancing_CellCostEstimators</td><td>[ BoSSS.Application.XNSE_Solver.Loadbalancing.XNSECellCostEstimator ]</td></tr><tr><td>Rigidbody</td><td>BoSSS.Application.XNSE_Solver.XRigid</td></tr><tr><td>UseSchurBlockPrec</td><td>True</td></tr><tr><td>methodTagLS</td><td><div class=\"dni-plaintext\"><pre>&lt;null&gt;</pre></div></td></tr><tr><td>RefineStrategy</td><td>constantInterface</td></tr><tr><td>BaseRefinementLevel</td><td>0</td></tr><tr><td>RefinementLevel</td><td>0</td></tr><tr><td>RefineNavierSlipBoundary</td><td>False</td></tr><tr><td>ClearVelocitiesOnRestart</td><td>False</td></tr><tr><td>ReInitOnRestart</td><td>False</td></tr><tr><td>adaptiveReInit</td><td>False</td></tr><tr><td>InitSignedDistance</td><td>False</td></tr><tr><td>AdvancedDiscretizationOptions</td><td>BoSSS.Solution.XNSECommon.DoNotTouchParameters</td></tr><tr><td>PhysicalParameters</td><td>BoSSS.Solution.XNSECommon.PhysicalParameters</td></tr><tr><td>SkipSolveAndEvaluateResidual</td><td>True</td></tr><tr><td>FailOnSolverFail</td><td>True</td></tr><tr><td>Timestepper_BDFinit</td><td>SingleInit</td></tr><tr><td>AdditionalParameters</td><td><div class=\"dni-plaintext\"><pre>&lt;null&gt;</pre></div></td></tr><tr><td>prescribedLSwaveData</td><td><div class=\"dni-plaintext\"><pre>&lt;null&gt;</pre></div></td></tr><tr><td>EnforceLevelSetConservation</td><td>False</td></tr><tr><td>solveKineticEnergyEquation</td><td>False</td></tr><tr><td>equalTimesteppingForKineticEnergy</td><td>True</td></tr><tr><td>kinEViscousDiscretization</td><td>local</td></tr><tr><td>kinEPressureDiscretization</td><td>divergence</td></tr><tr><td>withDissipativePressure</td><td>False</td></tr><tr><td>KineticEnergyeBlockPrecondMode</td><td>SymPart_DiagBlockEquilib</td></tr><tr><td>ComputeEnergyProperties</td><td>False</td></tr><tr><td>CheckJumpConditions</td><td>False</td></tr><tr><td>CheckInterfaceProps</td><td>False</td></tr><tr><td>RegisterUtilitiesToIOFields</td><td>False</td></tr><tr><td>Phi</td><td><div class=\"dni-plaintext\"><pre>&lt;null&gt;</pre></div></td></tr><tr><td>InterVelocAverage</td><td>density</td></tr><tr><td>ExactSolutionVelocity</td><td><div class=\"dni-plaintext\"><pre>&lt;null&gt;</pre></div></td></tr><tr><td>ExactSolutionPressure</td><td><div class=\"dni-plaintext\"><pre>&lt;null&gt;</pre></div></td></tr><tr><td>ExactSolutionTemperature</td><td><div class=\"dni-plaintext\"><pre>&lt;null&gt;</pre></div></td></tr><tr><td>ExactSolutionMixtureFraction</td><td><div class=\"dni-plaintext\"><pre>&lt;null&gt;</pre></div></td></tr><tr><td>ReInitControl</td><td>BoSSS.Solution.LevelSetTools.EllipticReInit.EllipticReInitAlgoControl</td></tr><tr><td>EllipticExtVelAlgoControl</td><td>BoSSS.Solution.LevelSetTools.EllipticExtension.EllipticExtVelAlgoControl</td></tr><tr><td>fullReInit</td><td>False</td></tr><tr><td>solveCoupledHeatEquation</td><td>False</td></tr><tr><td>useSolutionParamUpdate</td><td>False</td></tr><tr><td>prescribedMassflux_Evaluator</td><td><div class=\"dni-plaintext\"><pre>&lt;null&gt;</pre></div></td></tr><tr><td>prescribedMassflux</td><td><div class=\"dni-plaintext\"><pre>&lt;null&gt;</pre></div></td></tr><tr><td>conductMode</td><td>SIP</td></tr><tr><td>DisjoiningPressureFunc</td><td><div class=\"dni-plaintext\"><pre>&lt;null&gt;</pre></div></td></tr><tr><td>ThermalParameters</td><td>BoSSS.Solution.XheatCommon.ThermalParameters</td></tr><tr><td>NonlinearCouplingSolidFluid</td><td>False</td></tr><tr><td>LSunderrelax</td><td>1</td></tr><tr><td>Option_LevelSetEvolution</td><td>None</td></tr><tr><td>Option_LevelSetEvolution2</td><td>Prescribed</td></tr><tr><td>FastMarchingPenaltyTerms</td><td>Jump</td></tr><tr><td>FourierLevSetControl</td><td><div class=\"dni-plaintext\"><pre>&lt;null&gt;</pre></div></td></tr><tr><td>PhasefieldControl</td><td><div class=\"dni-plaintext\"><pre>&lt;null&gt;</pre></div></td></tr><tr><td>Phi0Initial</td><td><div class=\"dni-plaintext\"><pre>&lt;null&gt;</pre></div></td></tr><tr><td>LS_TrackerWidth</td><td>1</td></tr><tr><td>FastMarchingReInitPeriod</td><td>0</td></tr><tr><td>ReInitPeriod</td><td>0</td></tr><tr><td>LSContiProjectionMethod</td><td>ConstrainedDG</td></tr><tr><td>LinearSolver</td><td>BoSSS.Solution.AdvancedSolvers.OrthoMGSchwarzConfig</td></tr><tr><td>NonLinearSolver</td><td>BoSSS.Solution.Control.NonLinearSolverConfig</td></tr><tr><td>AgglomerationThreshold</td><td>0</td></tr><tr><td>MultiStepInit</td><td>True</td></tr><tr><td>TimeSteppingScheme</td><td>ImplicitEuler</td></tr><tr><td>activeAMRlevelIndicators</td><td>[  ]</td></tr><tr><td>LevelSet_ConvergenceCriterion</td><td>1E-06</td></tr><tr><td>Queries</td><td>[  ]</td></tr><tr><td>RestartInfo</td><td><div class=\"dni-plaintext\"><pre>&lt;null&gt;</pre></div></td></tr><tr><td>GridGuid</td><td>e830c015-5cec-4ed4-83dc-6cb486f5f7bb</td></tr><tr><td>GridFunc</td><td><div class=\"dni-plaintext\"><pre>&lt;null&gt;</pre></div></td></tr><tr><td>m_Grid</td><td><div class=\"dni-plaintext\"><pre>&lt;null&gt;</pre></div></td></tr><tr><td>GridPartType</td><td>Hilbert</td></tr><tr><td>GridPartOptions</td><td><div class=\"dni-plaintext\"><pre>&lt;null&gt;</pre></div></td></tr><tr><td>SessionName</td><td>SolverFalse_J4096_k1_Re1000_agg0_ti0.000atZ_r0.39_AMRFalse_LBFalse_NSE_dRdt0.00_W3287.31validation0.5</td></tr><tr><td>ProjectName</td><td><div class=\"dni-plaintext\"><pre>&lt;null&gt;</pre></div></td></tr><tr><td>ProjectDescription</td><td><div class=\"dni-plaintext\"><pre>&lt;null&gt;</pre></div></td></tr><tr><td>NoOfTimesteps</td><td>25</td></tr><tr><td>staticTimestep</td><td>True</td></tr><tr><td>Endtime</td><td>1.7976931348623157E+308</td></tr><tr><td>saveperiod</td><td>10</td></tr><tr><td>rollingSaves</td><td>False</td></tr><tr><td>dtMin</td><td>1.9113449704440304E-05</td></tr><tr><td>dtMax</td><td>1.9113449704440304E-05</td></tr><tr><td>ImmediatePlotPeriod</td><td>-1</td></tr><tr><td>SuperSampling</td><td>0</td></tr><tr><td>savetodb</td><td>True</td></tr><tr><td>TracingNamespaces</td><td><div class=\"dni-plaintext\"><pre>&lt;null&gt;</pre></div></td></tr><tr><td>MemoryInstrumentationLevel</td><td>None</td></tr><tr><td>DbPath</td><td>W:\\work\\scratch\\mt64qocy\\RotTorus3D_validation</td></tr><tr><td>AlternateDbPaths</td><td>[ (/work/scratch/mt64qocy/RotTorus3D_validation, ) ]</td></tr><tr><td>logFileDirectory</td><td>.</td></tr><tr><td>Paramstudy_ContinueOnError</td><td>True</td></tr><tr><td>DynamicLoadBalancing_RedistributeAtStartup</td><td>True</td></tr><tr><td>PlotAgglomeration</td><td>False</td></tr><tr><td>CalculateConditionNumber</td><td>StencilNumbersWithPlots</td></tr><tr><td>DynamicLoadBalancing_Period</td><td>10</td></tr><tr><td>DynamicLoadBalancing_ImbalanceThreshold</td><td>0.1</td></tr><tr><td>DynamicLoadBalancing_On</td><td>False</td></tr><tr><td>AdaptiveMeshRefinement</td><td>False</td></tr><tr><td>AMR_startUpSweeps</td><td>1</td></tr><tr><td>CutCellQuadratureType</td><td>Saye</td></tr><tr><td>ContinueOnIoError</td><td>True</td></tr><tr><td>PostprocessingModules</td><td>[  ]</td></tr><tr><td>BurstSave</td><td>1</td></tr></tbody></table></div></details><style>\r\n",
       ".dni-code-hint {\r\n",
       "    font-style: italic;\r\n",
       "    overflow: hidden;\r\n",
       "    white-space: nowrap;\r\n",
       "}\r\n",
       ".dni-treeview {\r\n",
       "    white-space: nowrap;\r\n",
       "}\r\n",
       ".dni-treeview td {\r\n",
       "    vertical-align: top;\r\n",
       "    text-align: start;\r\n",
       "}\r\n",
       "details.dni-treeview {\r\n",
       "    padding-left: 1em;\r\n",
       "}\r\n",
       "table td {\r\n",
       "    text-align: start;\r\n",
       "}\r\n",
       "table tr { \r\n",
       "    vertical-align: top; \r\n",
       "    margin: 0em 0px;\r\n",
       "}\r\n",
       "table tr td pre \r\n",
       "{ \r\n",
       "    vertical-align: top !important; \r\n",
       "    margin: 0em 0px !important;\r\n",
       "} \r\n",
       "table th {\r\n",
       "    text-align: start;\r\n",
       "}\r\n",
       "</style>"
      ]
     },
     "metadata": {},
     "output_type": "display_data"
    }
   ],
   "source": [
    "GenXNSECtrl(Grids[0],1,1,0.0,\"z\",false,false,0)"
   ]
  },
  {
   "cell_type": "code",
   "execution_count": 17,
   "metadata": {
    "dotnet_interactive": {
     "language": "csharp"
    }
   },
   "outputs": [
    {
     "name": "stdout",
     "output_type": "stream",
     "text": [
      "Angular Velocity: 32.87310979618672\n",
      "Angular Velocity: 32.87310979618672\n",
      "Angular Velocity: 32.87310979618672\n",
      "Angular Velocity: 32.87310979618672\n",
      "Angular Velocity: 32.87310979618672\n",
      "Angular Velocity: 32.87310979618672\n",
      "Angular Velocity: 32.87310979618672\n",
      "Angular Velocity: 32.87310979618672\n"
     ]
    },
    {
     "data": {
      "text/html": [
       "<div class=\"dni-plaintext\"><pre>[ 0.0019113449704440302, 0.0019113449704440302, 0.0019113449704440302, 0.0019113449704440302, 0.0019113449704440302, 0.0019113449704440302, 0.0019113449704440302, 0.0019113449704440302 ]</pre></div><style>\r\n",
       ".dni-code-hint {\r\n",
       "    font-style: italic;\r\n",
       "    overflow: hidden;\r\n",
       "    white-space: nowrap;\r\n",
       "}\r\n",
       ".dni-treeview {\r\n",
       "    white-space: nowrap;\r\n",
       "}\r\n",
       ".dni-treeview td {\r\n",
       "    vertical-align: top;\r\n",
       "    text-align: start;\r\n",
       "}\r\n",
       "details.dni-treeview {\r\n",
       "    padding-left: 1em;\r\n",
       "}\r\n",
       "table td {\r\n",
       "    text-align: start;\r\n",
       "}\r\n",
       "table tr { \r\n",
       "    vertical-align: top; \r\n",
       "    margin: 0em 0px;\r\n",
       "}\r\n",
       "table tr td pre \r\n",
       "{ \r\n",
       "    vertical-align: top !important; \r\n",
       "    margin: 0em 0px !important;\r\n",
       "} \r\n",
       "table th {\r\n",
       "    text-align: start;\r\n",
       "}\r\n",
       "</style>"
      ]
     },
     "metadata": {},
     "output_type": "display_data"
    }
   ],
   "source": [
    "var ViscositySweep = new double[]{1E-2};\n",
    "var tiltAngles = new double[]{Math.PI/4,Math.PI/5,Math.PI/6,Math.PI/3}; //Math.PI/4\n",
    "var axes = new string[]{\"y\"};\n",
    "var AMRarray = new bool[] {false};\n",
    "var LoadBalancearray = new bool[] {false};\n",
    "var aggThresolds = new double[] { 0.5};\n",
    "\n",
    "List<XNSE_Control> controls = new List<XNSE_Control>();\n",
    "foreach(IGridInfo grd in Grids){\n",
    "    foreach(int k in PolyDegS){\n",
    "        foreach(double v in ViscositySweep)\n",
    "            foreach(double tiltAngle in tiltAngles)\n",
    "                foreach(string axis in axes)\n",
    "                    foreach(bool AMR in AMRarray)\n",
    "                        foreach(bool LoadBalance in LoadBalancearray)\n",
    "                            foreach(double agg in aggThresolds)\n",
    "                               controls.Add(GenXNSECtrl(grd,k,v,tiltAngle,axis,AMR,LoadBalance,agg));\n",
    "    }\n",
    "} controls.Select(s=>s.dtFixed)"
   ]
  },
  {
   "cell_type": "markdown",
   "metadata": {},
   "source": []
  },
  {
   "cell_type": "code",
   "execution_count": 18,
   "metadata": {
    "dotnet_interactive": {
     "language": "csharp"
    }
   },
   "outputs": [
    {
     "data": {
      "text/html": [
       "<div class=\"dni-plaintext\"><pre>[ SolverFalse_J4096_k2_Re1000_agg0.5_ti0.785atY_r0.39_AMRFalse_LBFalse_NSE_dRdt0.00_W32.87validation0.5, SolverFalse_J4096_k2_Re1000_agg0.5_ti0.628atY_r0.39_AMRFalse_LBFalse_NSE_dRdt0.00_W32.87validation0.5, SolverFalse_J4096_k2_Re1000_agg0.5_ti0.524atY_r0.39_AMRFalse_LBFalse_NSE_dRdt0.00_W32.87validation0.5, SolverFalse_J4096_k2_Re1000_agg0.5_ti1.047atY_r0.39_AMRFalse_LBFalse_NSE_dRdt0.00_W32.87validation0.5, SolverFalse_J4096_k3_Re1000_agg0.5_ti0.785atY_r0.39_AMRFalse_LBFalse_NSE_dRdt0.00_W32.87validation0.5, SolverFalse_J4096_k3_Re1000_agg0.5_ti0.628atY_r0.39_AMRFalse_LBFalse_NSE_dRdt0.00_W32.87validation0.5, SolverFalse_J4096_k3_Re1000_agg0.5_ti0.524atY_r0.39_AMRFalse_LBFalse_NSE_dRdt0.00_W32.87validation0.5, SolverFalse_J4096_k3_Re1000_agg0.5_ti1.047atY_r0.39_AMRFalse_LBFalse_NSE_dRdt0.00_W32.87validation0.5 ]</pre></div><style>\r\n",
       ".dni-code-hint {\r\n",
       "    font-style: italic;\r\n",
       "    overflow: hidden;\r\n",
       "    white-space: nowrap;\r\n",
       "}\r\n",
       ".dni-treeview {\r\n",
       "    white-space: nowrap;\r\n",
       "}\r\n",
       ".dni-treeview td {\r\n",
       "    vertical-align: top;\r\n",
       "    text-align: start;\r\n",
       "}\r\n",
       "details.dni-treeview {\r\n",
       "    padding-left: 1em;\r\n",
       "}\r\n",
       "table td {\r\n",
       "    text-align: start;\r\n",
       "}\r\n",
       "table tr { \r\n",
       "    vertical-align: top; \r\n",
       "    margin: 0em 0px;\r\n",
       "}\r\n",
       "table tr td pre \r\n",
       "{ \r\n",
       "    vertical-align: top !important; \r\n",
       "    margin: 0em 0px !important;\r\n",
       "} \r\n",
       "table th {\r\n",
       "    text-align: start;\r\n",
       "}\r\n",
       "</style>"
      ]
     },
     "metadata": {},
     "output_type": "display_data"
    }
   ],
   "source": [
    "controls.Select(s=>s.SessionName)"
   ]
  },
  {
   "cell_type": "code",
   "execution_count": 19,
   "metadata": {
    "dotnet_interactive": {
     "language": "csharp"
    }
   },
   "outputs": [
    {
     "name": "stdout",
     "output_type": "stream",
     "text": [
      "Deployments so far (0): ;\n",
      "Success: 0\n",
      "job submit count: 0\n"
     ]
    },
    {
     "name": "stderr",
     "output_type": "stream",
     "text": [
      "unable to determine job status - unknown\r\n"
     ]
    },
    {
     "name": "stdout",
     "output_type": "stream",
     "text": [
      "Deploying job RotTorus_SolverFalse_J4096_k2_Re1000_agg0.5_ti0.785atY_r0.39_AMRFalse_LBFalse_NSE_dRdt0.00_W32.87validation0.5_ct4 ... \n",
      "Deploying executables and additional files ...\n",
      "Deployment directory: W:\\work\\scratch\\mt64qocy\\RotTorus3D_validation-XNSE_Solver2024Jan22_154608.032569\n",
      "copied 43 files.\n",
      "   written file: control.obj\n",
      "   copied 'linux/amd64-openmpi' runtime.\n",
      "deployment finished.\n",
      "Instance #1 of ssh client mt64qocy@lcluster14.hrz.tu-darmstadt.de instantiated.\n",
      "\n",
      "Submitted 1th\n",
      "Deployments so far (0): ;\n",
      "Success: 0\n",
      "job submit count: 0\n"
     ]
    },
    {
     "name": "stderr",
     "output_type": "stream",
     "text": [
      "unable to determine job status - unknown\r\n"
     ]
    },
    {
     "name": "stdout",
     "output_type": "stream",
     "text": [
      "Deploying job RotTorus_SolverFalse_J4096_k2_Re1000_agg0.5_ti0.628atY_r0.39_AMRFalse_LBFalse_NSE_dRdt0.00_W32.87validation0.5_ct4 ... \n",
      "Deploying executables and additional files ...\n",
      "Deployment directory: W:\\work\\scratch\\mt64qocy\\RotTorus3D_validation-XNSE_Solver2024Jan22_154617.879596\n",
      "copied 43 files.\n",
      "   written file: control.obj\n",
      "   copied 'linux/amd64-openmpi' runtime.\n",
      "deployment finished.\n",
      "\n",
      "Submitted 2th\n",
      "Deployments so far (0): ;\n",
      "Success: 0\n",
      "job submit count: 0\n"
     ]
    },
    {
     "name": "stderr",
     "output_type": "stream",
     "text": [
      "unable to determine job status - unknown\r\n"
     ]
    },
    {
     "name": "stdout",
     "output_type": "stream",
     "text": [
      "Deploying job RotTorus_SolverFalse_J4096_k2_Re1000_agg0.5_ti0.524atY_r0.39_AMRFalse_LBFalse_NSE_dRdt0.00_W32.87validation0.5_ct4 ... \n",
      "Deploying executables and additional files ...\n",
      "Deployment directory: W:\\work\\scratch\\mt64qocy\\RotTorus3D_validation-XNSE_Solver2024Jan22_154622.126356\n",
      "copied 43 files.\n",
      "   written file: control.obj\n",
      "   copied 'linux/amd64-openmpi' runtime.\n",
      "deployment finished.\n",
      "\n",
      "Submitted 3th\n",
      "Deployments so far (0): ;\n",
      "Success: 0\n",
      "job submit count: 0\n"
     ]
    },
    {
     "name": "stderr",
     "output_type": "stream",
     "text": [
      "unable to determine job status - unknown\r\n"
     ]
    },
    {
     "name": "stdout",
     "output_type": "stream",
     "text": [
      "Deploying job RotTorus_SolverFalse_J4096_k2_Re1000_agg0.5_ti1.047atY_r0.39_AMRFalse_LBFalse_NSE_dRdt0.00_W32.87validation0.5_ct4 ... \n",
      "Deploying executables and additional files ...\n",
      "Deployment directory: W:\\work\\scratch\\mt64qocy\\RotTorus3D_validation-XNSE_Solver2024Jan22_154626.486566\n",
      "copied 43 files.\n",
      "   written file: control.obj\n",
      "   copied 'linux/amd64-openmpi' runtime.\n",
      "deployment finished.\n",
      "\n",
      "Submitted 4th\n",
      "Deployments so far (0): ;\n",
      "Success: 0\n",
      "job submit count: 0\n"
     ]
    },
    {
     "name": "stderr",
     "output_type": "stream",
     "text": [
      "unable to determine job status - unknown\r\n"
     ]
    },
    {
     "name": "stdout",
     "output_type": "stream",
     "text": [
      "Deploying job RotTorus_SolverFalse_J4096_k3_Re1000_agg0.5_ti0.785atY_r0.39_AMRFalse_LBFalse_NSE_dRdt0.00_W32.87validation0.5_ct4 ... \n",
      "Deploying executables and additional files ...\n",
      "Deployment directory: W:\\work\\scratch\\mt64qocy\\RotTorus3D_validation-XNSE_Solver2024Jan22_154630.763497\n",
      "copied 43 files.\n",
      "   written file: control.obj\n",
      "   copied 'linux/amd64-openmpi' runtime.\n",
      "deployment finished.\n",
      "\n",
      "Submitted 5th\n",
      "Deployments so far (0): ;\n",
      "Success: 0\n",
      "job submit count: 0\n"
     ]
    },
    {
     "name": "stderr",
     "output_type": "stream",
     "text": [
      "unable to determine job status - unknown\r\n"
     ]
    },
    {
     "name": "stdout",
     "output_type": "stream",
     "text": [
      "Deploying job RotTorus_SolverFalse_J4096_k3_Re1000_agg0.5_ti0.628atY_r0.39_AMRFalse_LBFalse_NSE_dRdt0.00_W32.87validation0.5_ct4 ... \n",
      "Deploying executables and additional files ...\n",
      "Deployment directory: W:\\work\\scratch\\mt64qocy\\RotTorus3D_validation-XNSE_Solver2024Jan22_154635.098188\n",
      "copied 43 files.\n",
      "   written file: control.obj\n",
      "   copied 'linux/amd64-openmpi' runtime.\n",
      "deployment finished.\n",
      "\n",
      "Submitted 6th\n",
      "Deployments so far (0): ;\n",
      "Success: 0\n",
      "job submit count: 0\n"
     ]
    },
    {
     "name": "stderr",
     "output_type": "stream",
     "text": [
      "unable to determine job status - unknown\r\n"
     ]
    },
    {
     "name": "stdout",
     "output_type": "stream",
     "text": [
      "Deploying job RotTorus_SolverFalse_J4096_k3_Re1000_agg0.5_ti0.524atY_r0.39_AMRFalse_LBFalse_NSE_dRdt0.00_W32.87validation0.5_ct4 ... \n",
      "Deploying executables and additional files ...\n",
      "Deployment directory: W:\\work\\scratch\\mt64qocy\\RotTorus3D_validation-XNSE_Solver2024Jan22_154639.477838\n",
      "copied 43 files.\n",
      "   written file: control.obj\n",
      "   copied 'linux/amd64-openmpi' runtime.\n",
      "deployment finished.\n",
      "\n",
      "Submitted 7th\n",
      "Deployments so far (0): ;\n",
      "Success: 0\n",
      "job submit count: 0\n"
     ]
    },
    {
     "name": "stderr",
     "output_type": "stream",
     "text": [
      "unable to determine job status - unknown\r\n"
     ]
    },
    {
     "name": "stdout",
     "output_type": "stream",
     "text": [
      "Deploying job RotTorus_SolverFalse_J4096_k3_Re1000_agg0.5_ti1.047atY_r0.39_AMRFalse_LBFalse_NSE_dRdt0.00_W32.87validation0.5_ct4 ... \n",
      "Deploying executables and additional files ...\n",
      "Deployment directory: W:\\work\\scratch\\mt64qocy\\RotTorus3D_validation-XNSE_Solver2024Jan22_154644.058965\n",
      "copied 43 files.\n",
      "   written file: control.obj\n",
      "   copied 'linux/amd64-openmpi' runtime.\n",
      "deployment finished.\n",
      "\n",
      "Submitted 8th\n"
     ]
    }
   ],
   "source": [
    "int k=1;\n",
    "if (submitJob){\n",
    "    foreach(var ctrl in controls){\n",
    "        string sessname = ctrl.SessionName;\n",
    "        foreach(int cores in core_sweep){\n",
    "            ctrl.SessionName = sessname + \"_ct\"+cores; //+\"_mue_\"+ctrl.PhysicalParameters.mu_A;\n",
    "                    var aJob   = new Job(\"Rot\"+Gshape+\"_\"+ctrl.SessionName,typeof(XNSE));\n",
    "            //Console.WriteLine(ctrl.Rigidbody.GetTilt());\n",
    "            aJob.SetControlObject(ctrl);\n",
    "            aJob.NumberOfMPIProcs         = cores;\n",
    "            aJob.ExecutionTime            = \"71:59:00\";\n",
    "            aJob.UseComputeNodesExclusive = true;\n",
    "\n",
    "            //List<string> Cmdtmp = myBatch.AdditionalBatchCommands.ToList();\n",
    "            //int NoOfNodes = 1;\n",
    "            //Cmdtmp.Add($\"#SBATCH -N {NoOfNodes}\");\n",
    "            //myBatch.AdditionalBatchCommands = Cmdtmp.ToArray();\n",
    "\n",
    "            aJob.Activate(myBatch);\n",
    "            Console.WriteLine(\"Submitted {0}th\",k) ;\n",
    "            k++;           \n",
    "        }       \n",
    "    }\n",
    "}"
   ]
  },
  {
   "cell_type": "code",
   "execution_count": 20,
   "metadata": {
    "dotnet_interactive": {
     "language": "csharp"
    },
    "polyglot_notebook": {
     "kernelName": "csharp"
    }
   },
   "outputs": [
    {
     "data": {
      "text/plain": [
       "#0: RotTorus3D_validation\tSolverFalse_J4096_k2_Re1000_agg0.5_ti0.785atY_r0.39_AMRFalse_LBFalse_NSE_dRdt0.00_W32.87validation0.5_ct4*\t1/22/2024 3:46:43 PM\te95a66f0...\r\n"
      ]
     },
     "metadata": {},
     "output_type": "display_data"
    }
   ],
   "source": [
    "wmg.DefaultDatabase.Sessions"
   ]
  },
  {
   "cell_type": "code",
   "execution_count": 21,
   "metadata": {
    "dotnet_interactive": {
     "language": "csharp"
    },
    "polyglot_notebook": {
     "kernelName": "csharp"
    }
   },
   "outputs": [],
   "source": [
    "//j.AllDependentAssemblies.Select(ass => ass.Location)"
   ]
  }
 ],
 "metadata": {
  "kernelspec": {
   "display_name": ".NET (C#)",
   "language": "C#",
   "name": ".net-csharp"
  },
  "language_info": {
   "name": "polyglot-notebook"
  },
  "polyglot_notebook": {
   "kernelInfo": {
    "defaultKernelName": "csharp",
    "items": [
     {
      "aliases": [],
      "name": ".NET"
     },
     {
      "aliases": [
       "C#",
       "c#"
      ],
      "languageName": "C#",
      "name": "csharp"
     },
     {
      "aliases": [
       "F#",
       "f#"
      ],
      "languageName": "F#",
      "name": "fsharp"
     },
     {
      "aliases": [],
      "languageName": "HTML",
      "name": "html"
     },
     {
      "aliases": [
       "js"
      ],
      "languageName": "JavaScript",
      "name": "javascript"
     },
     {
      "aliases": [],
      "languageName": "KQL",
      "name": "kql"
     },
     {
      "aliases": [],
      "languageName": "Mermaid",
      "name": "mermaid"
     },
     {
      "aliases": [
       "powershell"
      ],
      "languageName": "PowerShell",
      "name": "pwsh"
     },
     {
      "aliases": [],
      "languageName": "SQL",
      "name": "sql"
     },
     {
      "aliases": [],
      "name": "value"
     },
     {
      "aliases": [
       "frontend"
      ],
      "name": "vscode"
     },
     {
      "aliases": [],
      "name": "webview"
     }
    ]
   }
  }
 },
 "nbformat": 4,
 "nbformat_minor": 2
}

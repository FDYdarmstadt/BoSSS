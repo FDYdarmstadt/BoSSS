{
 "cells": [
  {
   "cell_type": "code",
   "execution_count": 1,
   "metadata": {
    "dotnet_interactive": {
     "language": "csharp"
    },
    "polyglot_notebook": {
     "kernelName": "csharp"
    },
    "vscode": {
     "languageId": "polyglot-notebook"
    }
   },
   "outputs": [],
   "source": [
    "#r \"./../../../public/src/L4-application/BoSSSpad/bin/Release/net6.0/BoSSSpad.dll\"\n",
    "using System;\n",
    "using System.Threading;\n",
    "using System.Diagnostics;\n",
    "using ilPSP;\n",
    "using ilPSP.Utils;\n",
    "using BoSSS.Platform;\n",
    "using BoSSS.Foundation;\n",
    "using BoSSS.Foundation.XDG;\n",
    "using BoSSS.Foundation.Grid;\n",
    "using BoSSS.Solution;\n",
    "using BoSSS.Application.XNSE_Solver;\n",
    "using BoSSS.Application.BoSSSpad;\n",
    "using BoSSS.Foundation.Grid.Classic;\n",
    "using BoSSS.Foundation.IO;\n",
    "using BoSSS.Solution.AdvancedSolvers;\n",
    "using BoSSS.Solution.Control;\n",
    "using BoSSS.Solution.XNSECommon;\n",
    "using BoSSS.Solution.NSECommon;\n",
    "using BoSSS.Solution.LoadBalancing;\n",
    "using BoSSS.Solution.LevelSetTools;\n",
    "using BoSSS.Solution.XdgTimestepping;\n",
    "using BoSSS.Solution.Utils;\n",
    "using System.IO;\n",
    "using BoSSS.Application.XNSE_Solver.PhysicalBasedTestcases;\n",
    "using static BoSSS.Application.BoSSSpad.BoSSSshell;\n",
    "using MomentFittingVariants = BoSSS.Foundation.XDG.XQuadFactoryHelper.MomentFittingVariants;\n",
    "Init();"
   ]
  },
  {
   "cell_type": "code",
   "execution_count": 2,
   "metadata": {
    "dotnet_interactive": {
     "language": "csharp"
    },
    "polyglot_notebook": {
     "kernelName": "csharp"
    },
    "vscode": {
     "languageId": "polyglot-notebook"
    }
   },
   "outputs": [],
   "source": [
    "//defaults\n",
    "string dbname = System.Environment.GetEnvironmentVariable(\"DATABASE_NAME\");\n",
    "string buildname = System.Environment.GetEnvironmentVariable(\"JOB_NAME\");\n",
    "buildname = String.IsNullOrEmpty(buildname)? \"VanishingSphere2D\" : buildname; //Popcorn2D  VanishingSphere2D\n",
    "dbname = String.IsNullOrEmpty(dbname)? \"condStudyBDF3\" : dbname;  //condStudyBDF3\n",
    "string table_name = String.Concat(buildname, \"_\", dbname);"
   ]
  },
  {
   "cell_type": "code",
   "execution_count": 3,
   "metadata": {
    "dotnet_interactive": {
     "language": "csharp"
    },
    "polyglot_notebook": {
     "kernelName": "csharp"
    },
    "vscode": {
     "languageId": "polyglot-notebook"
    }
   },
   "outputs": [
    {
     "name": "stdout",
     "output_type": "stream",
     "text": [
      "Project name is set to 'VanishingSphere2D_condStudyBDF3'.\n",
      "Opening existing database '\\\\dc3\\userspace\\toprak\\BoSSS-ConditionFinal\\VanishingSphere2D_condStudyBDF3'.\n"
     ]
    },
    {
     "data": {
      "text/plain": [
       "{ Session Count = 18; Grid Count = 1; Path = \\\\dc3\\userspace\\toprak\\BoSSS-ConditionFinal\\VanishingSphere2D_condStudyBDF3 }"
      ]
     },
     "metadata": {},
     "output_type": "display_data"
    }
   ],
   "source": [
    "//ExecutionQueues\n",
    "var myBatch = ExecutionQueues[4];\n",
    "string WFlowName = table_name;\n",
    "BoSSS.Application.BoSSSpad.BoSSSshell.WorkflowMgm.Init(WFlowName,myBatch);\n",
    "BoSSS.Application.BoSSSpad.BoSSSshell.WorkflowMgm.SetNameBasedSessionJobControlCorrelation();\n",
    "var myDB = BoSSS.Application.BoSSSpad.BoSSSshell.WorkflowMgm.DefaultDatabase; \n",
    "myDB"
   ]
  },
  {
   "cell_type": "code",
   "execution_count": 4,
   "metadata": {
    "dotnet_interactive": {
     "language": "csharp"
    },
    "polyglot_notebook": {
     "kernelName": "csharp"
    },
    "vscode": {
     "languageId": "polyglot-notebook"
    }
   },
   "outputs": [
    {
     "data": {
      "text/plain": [
       "#0: VanishingSphere2D_condStudyBDF3\tSolverFalse_J900_k2_agg0_AMRFalse_LBFalse_atZ_r0.6_W6.94_2D_NSEdRdt-1.11_condStudyFix_ct1\t8/20/2024 5:57:46 PM\t97c67db4...\r\n",
       "#1: VanishingSphere2D_condStudyBDF3\tSolverFalse_J900_k2_agg0.1_AMRFalse_LBFalse_atZ_r0.6_W6.94_2D_NSEdRdt-1.11_condStudyFix_ct1\t8/20/2024 5:58:01 PM\t72e280c4...\r\n",
       "#2: VanishingSphere2D_condStudyBDF3\tSolverFalse_J900_k3_agg0.5_AMRFalse_LBFalse_atZ_r0.6_W6.94_2D_NSEdRdt-1.11_condStudyFix_ct1\t8/20/2024 6:00:55 PM\tce305bbf...\r\n",
       "#3: VanishingSphere2D_condStudyBDF3\tSolverFalse_J900_k3_agg0.4_AMRFalse_LBFalse_atZ_r0.6_W6.94_2D_NSEdRdt-1.11_condStudyFix_ct1\t8/20/2024 6:00:37 PM\td1f5c686...\r\n",
       "#4: VanishingSphere2D_condStudyBDF3\tSolverFalse_J900_k3_agg0.2_AMRFalse_LBFalse_atZ_r0.6_W6.94_2D_NSEdRdt-1.11_condStudyFix_ct1\t8/20/2024 6:00:08 PM\t6ed35a99...\r\n",
       "#5: VanishingSphere2D_condStudyBDF3\tSolverFalse_J900_k3_agg0.3_AMRFalse_LBFalse_atZ_r0.6_W6.94_2D_NSEdRdt-1.11_condStudyFix_ct1\t8/20/2024 6:00:24 PM\te10264de...\r\n",
       "#6: VanishingSphere2D_condStudyBDF3\tSolverFalse_J900_k3_agg0.1_AMRFalse_LBFalse_atZ_r0.6_W6.94_2D_NSEdRdt-1.11_condStudyFix_ct1\t8/20/2024 5:59:55 PM\t02089446...\r\n",
       "#7: VanishingSphere2D_condStudyBDF3\tSolverFalse_J900_k3_agg0_AMRFalse_LBFalse_atZ_r0.6_W6.94_2D_NSEdRdt-1.11_condStudyFix_ct1\t8/20/2024 5:59:40 PM\t1e27117e...\r\n",
       "#8: VanishingSphere2D_condStudyBDF3\tSolverFalse_J900_k1_agg0.4_AMRFalse_LBFalse_atZ_r0.6_W6.94_2D_NSEdRdt-1.11_condStudyFix_ct1\t8/20/2024 5:57:17 PM\t6a317ded...\r\n",
       "#9: VanishingSphere2D_condStudyBDF3\tSolverFalse_J900_k1_agg0.2_AMRFalse_LBFalse_atZ_r0.6_W6.94_2D_NSEdRdt-1.11_condStudyFix_ct1\t8/20/2024 5:56:48 PM\t62fb258b...\r\n",
       "#10: VanishingSphere2D_condStudyBDF3\tSolverFalse_J900_k1_agg0.3_AMRFalse_LBFalse_atZ_r0.6_W6.94_2D_NSEdRdt-1.11_condStudyFix_ct1\t8/20/2024 5:57:03 PM\tb45ea8d7...\r\n",
       "#11: VanishingSphere2D_condStudyBDF3\tSolverFalse_J900_k1_agg0.5_AMRFalse_LBFalse_atZ_r0.6_W6.94_2D_NSEdRdt-1.11_condStudyFix_ct1\t8/20/2024 5:57:31 PM\te1824fb7...\r\n",
       "#12: VanishingSphere2D_condStudyBDF3\tSolverFalse_J900_k2_agg0.5_AMRFalse_LBFalse_atZ_r0.6_W6.94_2D_NSEdRdt-1.11_condStudyFix_ct1\t8/20/2024 5:59:21 PM\t934e4aca...\r\n",
       "#13: VanishingSphere2D_condStudyBDF3\tSolverFalse_J900_k2_agg0.4_AMRFalse_LBFalse_atZ_r0.6_W6.94_2D_NSEdRdt-1.11_condStudyFix_ct1\t8/20/2024 5:59:06 PM\ted7b0ca9...\r\n",
       "#14: VanishingSphere2D_condStudyBDF3\tSolverFalse_J900_k2_agg0.3_AMRFalse_LBFalse_atZ_r0.6_W6.94_2D_NSEdRdt-1.11_condStudyFix_ct1\t8/20/2024 5:58:53 PM\t682170cd...\r\n",
       "#15: VanishingSphere2D_condStudyBDF3\tSolverFalse_J900_k2_agg0.2_AMRFalse_LBFalse_atZ_r0.6_W6.94_2D_NSEdRdt-1.11_condStudyFix_ct1\t8/20/2024 5:58:37 PM\t2612884f...\r\n",
       "#16: VanishingSphere2D_condStudyBDF3\tSolverFalse_J900_k1_agg0.1_AMRFalse_LBFalse_atZ_r0.6_W6.94_2D_NSEdRdt-1.11_condStudyFix_ct1\t8/20/2024 5:56:32 PM\tcdc5020d...\r\n",
       "#17: VanishingSphere2D_condStudyBDF3\tSolverFalse_J900_k1_agg0_AMRFalse_LBFalse_atZ_r0.6_W6.94_2D_NSEdRdt-1.11_condStudyFix_ct1\t8/20/2024 5:56:17 PM\t4fad507a...\r\n"
      ]
     },
     "metadata": {},
     "output_type": "display_data"
    }
   ],
   "source": [
    "myDB.Sessions.Where(s => s.SuccessfulTermination == true)"
   ]
  },
  {
   "cell_type": "code",
   "execution_count": 5,
   "metadata": {
    "dotnet_interactive": {
     "language": "csharp"
    },
    "polyglot_notebook": {
     "kernelName": "csharp"
    },
    "vscode": {
     "languageId": "polyglot-notebook"
    }
   },
   "outputs": [
    {
     "name": "stdout",
     "output_type": "stream",
     "text": [
      "Session: 97c67db4-da38-4359-aeec-a1cebc865c15\n",
      "#timestep, physicalTime, TotCondNo-Vars0.1.2, MassMtxCondNo, \n",
      "Session: 72e280c4-e77a-4035-8652-a42f78537aa4\n",
      "Session: ce305bbf-634a-4891-9916-100e3df2500f\n",
      "Session: d1f5c686-fdfd-4791-8cbe-942d05b234c8\n",
      "Session: 6ed35a99-a2da-477a-bc9d-58bed2a4e98d\n",
      "Session: e10264de-cabe-41bc-a23f-f0b541dd16fc\n",
      "Session: 02089446-d8f3-4e17-9534-05242c2dc7f2\n",
      "Session: 1e27117e-1011-4ef8-8945-1a02130c6ee2\n",
      "Session: 6a317ded-9f2f-4510-9a9e-5ad56c2d9efa\n",
      "Session: 62fb258b-a461-4253-8b0f-54746dc6e662\n",
      "Session: b45ea8d7-2d5d-458e-a03e-21f19a64abb9\n",
      "Session: e1824fb7-d658-42c9-9e1d-893e0f44be96\n",
      "Session: 934e4aca-c59f-4ad4-bf6d-738c224f16d4\n",
      "Session: ed7b0ca9-fa62-49a7-89f2-bdb163adb240\n",
      "Session: 682170cd-7522-4c6d-920d-f453f625c74f\n",
      "Session: 2612884f-a295-4692-898b-f2feca57e44b\n",
      "Session: cdc5020d-0fa7-4fd4-8401-f71e76b12265\n",
      "Session: 4fad507a-578d-44bc-a864-d35d391959fb\n",
      "Session: 97c67db4-da38-4359-aeec-a1cebc865c15\n",
      "#timestep, physicalTime, TotCondNo-Vars0.1.2, MassMtxCondNo, \n",
      "Session: 72e280c4-e77a-4035-8652-a42f78537aa4\n",
      "Session: ce305bbf-634a-4891-9916-100e3df2500f\n",
      "Session: d1f5c686-fdfd-4791-8cbe-942d05b234c8\n",
      "Session: 6ed35a99-a2da-477a-bc9d-58bed2a4e98d\n",
      "Session: e10264de-cabe-41bc-a23f-f0b541dd16fc\n",
      "Session: 02089446-d8f3-4e17-9534-05242c2dc7f2\n",
      "Session: 1e27117e-1011-4ef8-8945-1a02130c6ee2\n",
      "The value 'Infinity' could not be converted to a double for line 16 at column 3 in session SolverFalse_J900_k3_agg0_AMRFalse_LBFalse_atZ_r0.6_W6.94_2D_NSEdRdt-1.11_condStudyFix_ct1.\n",
      "The value 'Infinity' could not be converted to a double for line 26 at column 3 in session SolverFalse_J900_k3_agg0_AMRFalse_LBFalse_atZ_r0.6_W6.94_2D_NSEdRdt-1.11_condStudyFix_ct1.\n",
      "The value 'Infinity' could not be converted to a double for line 48 at column 3 in session SolverFalse_J900_k3_agg0_AMRFalse_LBFalse_atZ_r0.6_W6.94_2D_NSEdRdt-1.11_condStudyFix_ct1.\n",
      "The value 'Infinity' could not be converted to a double for line 52 at column 3 in session SolverFalse_J900_k3_agg0_AMRFalse_LBFalse_atZ_r0.6_W6.94_2D_NSEdRdt-1.11_condStudyFix_ct1.\n",
      "The value 'Infinity' could not be converted to a double for line 55 at column 3 in session SolverFalse_J900_k3_agg0_AMRFalse_LBFalse_atZ_r0.6_W6.94_2D_NSEdRdt-1.11_condStudyFix_ct1.\n",
      "Session: 6a317ded-9f2f-4510-9a9e-5ad56c2d9efa\n",
      "Session: 62fb258b-a461-4253-8b0f-54746dc6e662\n",
      "Session: b45ea8d7-2d5d-458e-a03e-21f19a64abb9\n",
      "Session: e1824fb7-d658-42c9-9e1d-893e0f44be96\n",
      "Session: 934e4aca-c59f-4ad4-bf6d-738c224f16d4\n",
      "Session: ed7b0ca9-fa62-49a7-89f2-bdb163adb240\n",
      "Session: 682170cd-7522-4c6d-920d-f453f625c74f\n",
      "Session: 2612884f-a295-4692-898b-f2feca57e44b\n",
      "Session: cdc5020d-0fa7-4fd4-8401-f71e76b12265\n",
      "Session: 4fad507a-578d-44bc-a864-d35d391959fb\n"
     ]
    }
   ],
   "source": [
    "Func<List<double>, double> myOperation = Enumerable.Max; //How to choose the single element from the condition number list\n",
    "BoSSSshell.WorkflowMgm.condReader.Update(operation: myOperation);"
   ]
  },
  {
   "cell_type": "code",
   "execution_count": 6,
   "metadata": {
    "dotnet_interactive": {
     "language": "csharp"
    },
    "polyglot_notebook": {
     "kernelName": "csharp"
    },
    "vscode": {
     "languageId": "polyglot-notebook"
    }
   },
   "outputs": [],
   "source": [
    "var Tab = BoSSSshell.WorkflowMgm.SessionTable;"
   ]
  },
  {
   "cell_type": "code",
   "execution_count": 7,
   "metadata": {
    "dotnet_interactive": {
     "language": "csharp"
    },
    "polyglot_notebook": {
     "kernelName": "csharp"
    },
    "vscode": {
     "languageId": "polyglot-notebook"
    }
   },
   "outputs": [
    {
     "name": "stdout",
     "output_type": "stream",
     "text": [
      "    AgglomerationThreshold DGdegree:Velocity* Grid:hMin           Grid:NoOfCells #timestep MassMtxCondNo     TotCondNo-Vars0.1.2   \n",
      "0:  0                      2                  0.06666666666666665 900            80        4140613188.181043 5217.608671463216     \n",
      "1:  0.1                    2                  0.06666666666666665 900            80        2896133.763956371 5210.461004814129     \n",
      "2:  0.5                    3                  0.06666666666666665 900            80        993441.0534644931 6700.138357303257     \n",
      "3:  0.4                    3                  0.06666666666666665 900            80        1338782.116689614 6700.138357303271     \n",
      "4:  0.2                    3                  0.06666666666666665 900            80        3981899.899001262 8529.9591663042       \n",
      "5:  0.3                    3                  0.06666666666666665 900            80        2502450.977009939 7778.776697018078     \n",
      "6:  0.1                    3                  0.06666666666666665 900            80        14018230.46420015 12658.65677211428     \n",
      "7:  0                      3                  0.06666666666666665 900            80        2273953526.334279 3.292019129749722E+21 \n",
      "8:  0.4                    1                  0.06666666666666665 900            80        24798.31849225075 896.9203485183925     \n",
      "9:  0.2                    1                  0.06666666666666665 900            80        70281.63647711769 879.0270269118969     \n",
      "10: 0.3                    1                  0.06666666666666665 900            80        42443.7885185252  879.0270269118969     \n",
      "11: 0.5                    1                  0.06666666666666665 900            80        18641.79519481898 896.9203485183925     \n",
      "12: 0.5                    2                  0.06666666666666665 900            80        216844.3605513099 2795.115773814429     \n",
      "13: 0.4                    2                  0.06666666666666665 900            80        304621.8143174626 2952.125934229203     \n",
      "14: 0.3                    2                  0.06666666666666665 900            80        485840.6529127652 3076.82588553701      \n",
      "15: 0.2                    2                  0.06666666666666665 900            80        852126.4912656008 3566.166526289531     \n",
      "16: 0.1                    1                  0.06666666666666665 900            80        246557.7177281528 1024.064421944915     \n",
      "17: 0                      1                  0.06666666666666665 900            80        438861177.7941256 1023.97052007013      "
     ]
    }
   ],
   "source": [
    "var Tab2 = Tab.ExtractColumns( \"AgglomerationThreshold\",  \"DGdegree:Velocity*\",\"Grid:hMin\",\"Grid:NoOfCells\",\"#timestep\", \"MassMtxCondNo\", \"TotCondNo-Vars0.1.2\");\n",
    "Tab2.SaveToFile(table_name + $\"_condMaxSummary.json\");\n",
    "Tab2.Print()"
   ]
  },
  {
   "cell_type": "code",
   "execution_count": 8,
   "metadata": {
    "dotnet_interactive": {
     "language": "csharp"
    },
    "polyglot_notebook": {
     "kernelName": "csharp"
    },
    "vscode": {
     "languageId": "polyglot-notebook"
    }
   },
   "outputs": [
    {
     "name": "stdout",
     "output_type": "stream",
     "text": [
      "alpha & Mass & Op  & Mass & Op & Mass & Op & Mass & Op  & Mass & Op & Mass & Op\n",
      "0  \\;  & 4.39e+008 & 1.02e+003 & 4.14e+009 & 5.22e+003 & 2.27e+009 & 3.29e+021\n",
      "0.1  \\;  & 2.47e+005 & 1.02e+003 & 2.90e+006 & 5.21e+003 & 1.40e+007 & 1.27e+004\n",
      "0.2  \\;  & 7.03e+004 & 8.79e+002 & 8.52e+005 & 3.57e+003 & 3.98e+006 & 8.53e+003\n",
      "0.3  \\;  & 4.24e+004 & 8.79e+002 & 4.86e+005 & 3.08e+003 & 2.50e+006 & 7.78e+003\n",
      "0.4  \\;  & 2.48e+004 & 8.97e+002 & 3.05e+005 & 2.95e+003 & 1.34e+006 & 6.70e+003\n",
      "0.5  \\;  & 1.86e+004 & 8.97e+002 & 2.17e+005 & 2.80e+003 & 9.93e+005 & 6.70e+003\n"
     ]
    }
   ],
   "source": [
    "double[] aggThresholds = new double[]{0, 0.1, 0.2, 0.3, 0.4, 0.5};\n",
    "int[] dgDegrees = new int[]{1, 2, 3};\n",
    "\n",
    "Console.WriteLine($\"alpha & Mass & Op  & Mass & Op & Mass & Op & Mass & Op  & Mass & Op & Mass & Op\");\n",
    "foreach (double agg in aggThresholds){\n",
    "    Console.Write($\"{agg}  \\\\; \");\n",
    "    foreach (int dgDegree in dgDegrees){\n",
    "        var Tab3 = Tab2.ExtractRows((iRow,RowEntries)=> \n",
    "                    Convert.ToDouble(RowEntries[\"AgglomerationThreshold\"]) == agg &&\n",
    "                    Convert.ToDouble(RowEntries[\"DGdegree:Velocity*\"]) == dgDegree\n",
    "                );\n",
    "        var row = Tab3.Rows[0]; //\n",
    "        \n",
    "        Console.Write($\" & {((double)row[\"MassMtxCondNo\"]).ToString(\"e2\")} & {((double)row[\"TotCondNo-Vars0.1.2\"]).ToString(\"e2\")}\");\n",
    "    }\n",
    "    Console.WriteLine(\"\");\n",
    "}"
   ]
  },
  {
   "cell_type": "markdown",
   "metadata": {},
   "source": [
    "# Check infinite entries"
   ]
  },
  {
   "cell_type": "code",
   "execution_count": 9,
   "metadata": {
    "dotnet_interactive": {
     "language": "csharp"
    },
    "polyglot_notebook": {
     "kernelName": "csharp"
    },
    "vscode": {
     "languageId": "polyglot-notebook"
    }
   },
   "outputs": [],
   "source": [
    "Func<List<double>, double> countInvalidValues = list => \n",
    "    list.Count(x => double.IsNaN(x) || double.IsInfinity(x));"
   ]
  },
  {
   "cell_type": "code",
   "execution_count": 10,
   "metadata": {
    "dotnet_interactive": {
     "language": "csharp"
    },
    "polyglot_notebook": {
     "kernelName": "csharp"
    },
    "vscode": {
     "languageId": "polyglot-notebook"
    }
   },
   "outputs": [
    {
     "name": "stdout",
     "output_type": "stream",
     "text": [
      "Session: 97c67db4-da38-4359-aeec-a1cebc865c15\n",
      "#timestep, physicalTime, TotCondNo-Vars0.1.2, MassMtxCondNo, \n",
      "Session: 72e280c4-e77a-4035-8652-a42f78537aa4\n",
      "Session: ce305bbf-634a-4891-9916-100e3df2500f\n",
      "Session: d1f5c686-fdfd-4791-8cbe-942d05b234c8\n",
      "Session: 6ed35a99-a2da-477a-bc9d-58bed2a4e98d\n",
      "Session: e10264de-cabe-41bc-a23f-f0b541dd16fc\n",
      "Session: 02089446-d8f3-4e17-9534-05242c2dc7f2\n",
      "Session: 1e27117e-1011-4ef8-8945-1a02130c6ee2\n",
      "Session: 6a317ded-9f2f-4510-9a9e-5ad56c2d9efa\n",
      "Session: 62fb258b-a461-4253-8b0f-54746dc6e662\n",
      "Session: b45ea8d7-2d5d-458e-a03e-21f19a64abb9\n",
      "Session: e1824fb7-d658-42c9-9e1d-893e0f44be96\n",
      "Session: 934e4aca-c59f-4ad4-bf6d-738c224f16d4\n",
      "Session: ed7b0ca9-fa62-49a7-89f2-bdb163adb240\n",
      "Session: 682170cd-7522-4c6d-920d-f453f625c74f\n",
      "Session: 2612884f-a295-4692-898b-f2feca57e44b\n",
      "Session: cdc5020d-0fa7-4fd4-8401-f71e76b12265\n",
      "Session: 4fad507a-578d-44bc-a864-d35d391959fb\n",
      "Session: 97c67db4-da38-4359-aeec-a1cebc865c15\n",
      "#timestep, physicalTime, TotCondNo-Vars0.1.2, MassMtxCondNo, \n",
      "Session: 72e280c4-e77a-4035-8652-a42f78537aa4\n",
      "Session: ce305bbf-634a-4891-9916-100e3df2500f\n",
      "Session: d1f5c686-fdfd-4791-8cbe-942d05b234c8\n",
      "Session: 6ed35a99-a2da-477a-bc9d-58bed2a4e98d\n",
      "Session: e10264de-cabe-41bc-a23f-f0b541dd16fc\n",
      "Session: 02089446-d8f3-4e17-9534-05242c2dc7f2\n",
      "Session: 1e27117e-1011-4ef8-8945-1a02130c6ee2\n",
      "The value 'Infinity' could not be converted to a double for line 16 at column 3 in session SolverFalse_J900_k3_agg0_AMRFalse_LBFalse_atZ_r0.6_W6.94_2D_NSEdRdt-1.11_condStudyFix_ct1.\n",
      "The value 'Infinity' could not be converted to a double for line 26 at column 3 in session SolverFalse_J900_k3_agg0_AMRFalse_LBFalse_atZ_r0.6_W6.94_2D_NSEdRdt-1.11_condStudyFix_ct1.\n",
      "The value 'Infinity' could not be converted to a double for line 48 at column 3 in session SolverFalse_J900_k3_agg0_AMRFalse_LBFalse_atZ_r0.6_W6.94_2D_NSEdRdt-1.11_condStudyFix_ct1.\n",
      "The value 'Infinity' could not be converted to a double for line 52 at column 3 in session SolverFalse_J900_k3_agg0_AMRFalse_LBFalse_atZ_r0.6_W6.94_2D_NSEdRdt-1.11_condStudyFix_ct1.\n",
      "The value 'Infinity' could not be converted to a double for line 55 at column 3 in session SolverFalse_J900_k3_agg0_AMRFalse_LBFalse_atZ_r0.6_W6.94_2D_NSEdRdt-1.11_condStudyFix_ct1.\n",
      "Session: 6a317ded-9f2f-4510-9a9e-5ad56c2d9efa\n",
      "Session: 62fb258b-a461-4253-8b0f-54746dc6e662\n",
      "Session: b45ea8d7-2d5d-458e-a03e-21f19a64abb9\n",
      "Session: e1824fb7-d658-42c9-9e1d-893e0f44be96\n",
      "Session: 934e4aca-c59f-4ad4-bf6d-738c224f16d4\n",
      "Session: ed7b0ca9-fa62-49a7-89f2-bdb163adb240\n",
      "Session: 682170cd-7522-4c6d-920d-f453f625c74f\n",
      "Session: 2612884f-a295-4692-898b-f2feca57e44b\n",
      "Session: cdc5020d-0fa7-4fd4-8401-f71e76b12265\n",
      "Session: 4fad507a-578d-44bc-a864-d35d391959fb\n"
     ]
    }
   ],
   "source": [
    "BoSSSshell.WorkflowMgm.condReader.Update(operation: countInvalidValues);"
   ]
  },
  {
   "cell_type": "code",
   "execution_count": 11,
   "metadata": {
    "dotnet_interactive": {
     "language": "csharp"
    },
    "polyglot_notebook": {
     "kernelName": "csharp"
    },
    "vscode": {
     "languageId": "polyglot-notebook"
    }
   },
   "outputs": [],
   "source": [
    "var TabB = BoSSSshell.WorkflowMgm.SessionTable;"
   ]
  },
  {
   "cell_type": "code",
   "execution_count": 12,
   "metadata": {
    "dotnet_interactive": {
     "language": "csharp"
    },
    "polyglot_notebook": {
     "kernelName": "csharp"
    },
    "vscode": {
     "languageId": "polyglot-notebook"
    }
   },
   "outputs": [
    {
     "name": "stdout",
     "output_type": "stream",
     "text": [
      "    AgglomerationThreshold DGdegree:Velocity* Grid:hMin           Grid:NoOfCells #timestep MassMtxCondNo TotCondNo-Vars0.1.2 \n",
      "0:  0                      2                  0.06666666666666665 900            0         0             0                   \n",
      "1:  0.1                    2                  0.06666666666666665 900            0         0             0                   \n",
      "2:  0.5                    3                  0.06666666666666665 900            0         0             0                   \n",
      "3:  0.4                    3                  0.06666666666666665 900            0         0             0                   \n",
      "4:  0.2                    3                  0.06666666666666665 900            0         0             0                   \n",
      "5:  0.3                    3                  0.06666666666666665 900            0         0             0                   \n",
      "6:  0.1                    3                  0.06666666666666665 900            0         0             0                   \n",
      "7:  0                      3                  0.06666666666666665 900            0         5             0                   \n",
      "8:  0.4                    1                  0.06666666666666665 900            0         0             0                   \n",
      "9:  0.2                    1                  0.06666666666666665 900            0         0             0                   \n",
      "10: 0.3                    1                  0.06666666666666665 900            0         0             0                   \n",
      "11: 0.5                    1                  0.06666666666666665 900            0         0             0                   \n",
      "12: 0.5                    2                  0.06666666666666665 900            0         0             0                   \n",
      "13: 0.4                    2                  0.06666666666666665 900            0         0             0                   \n",
      "14: 0.3                    2                  0.06666666666666665 900            0         0             0                   \n",
      "15: 0.2                    2                  0.06666666666666665 900            0         0             0                   \n",
      "16: 0.1                    1                  0.06666666666666665 900            0         0             0                   \n",
      "17: 0                      1                  0.06666666666666665 900            0         0             0                   "
     ]
    }
   ],
   "source": [
    "var Tab2B = TabB.ExtractColumns( \"AgglomerationThreshold\",  \"DGdegree:Velocity*\",\"Grid:hMin\",\"Grid:NoOfCells\",\"#timestep\", \"MassMtxCondNo\", \"TotCondNo-Vars0.1.2\");\n",
    "Tab2B.SaveToFile(table_name + $\"_condMaxSummary.json\");\n",
    "Tab2B.Print()"
   ]
  }
 ],
 "metadata": {
  "kernelspec": {
   "display_name": ".NET (C#)",
   "language": "C#",
   "name": ".net-csharp"
  },
  "language_info": {
   "name": "python"
  },
  "polyglot_notebook": {
   "kernelInfo": {
    "defaultKernelName": "csharp",
    "items": [
     {
      "aliases": [],
      "name": "csharp"
     }
    ]
   }
  }
 },
 "nbformat": 4,
 "nbformat_minor": 2
}

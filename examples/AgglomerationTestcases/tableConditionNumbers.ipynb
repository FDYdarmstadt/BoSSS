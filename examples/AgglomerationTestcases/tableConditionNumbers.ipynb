{
 "cells": [
  {
   "cell_type": "code",
   "execution_count": 1,
   "metadata": {
    "dotnet_interactive": {
     "language": "csharp"
    },
    "polyglot_notebook": {
     "kernelName": "csharp"
    },
    "vscode": {
     "languageId": "polyglot-notebook"
    }
   },
   "outputs": [],
   "source": [
    "#r \"./../../../../../public/src/L4-application/BoSSSpad/bin/Release/net6.0/BoSSSpad.dll\"\n",
    "using System;\n",
    "using System.Threading;\n",
    "using System.Diagnostics;\n",
    "using ilPSP;\n",
    "using ilPSP.Utils;\n",
    "using BoSSS.Platform;\n",
    "using BoSSS.Foundation;\n",
    "using BoSSS.Foundation.XDG;\n",
    "using BoSSS.Foundation.Grid;\n",
    "using BoSSS.Solution;\n",
    "using BoSSS.Application.XNSE_Solver;\n",
    "using BoSSS.Application.BoSSSpad;\n",
    "using BoSSS.Foundation.Grid.Classic;\n",
    "using BoSSS.Foundation.IO;\n",
    "using BoSSS.Solution.AdvancedSolvers;\n",
    "using BoSSS.Solution.Control;\n",
    "using BoSSS.Solution.XNSECommon;\n",
    "using BoSSS.Solution.NSECommon;\n",
    "using BoSSS.Solution.LoadBalancing;\n",
    "using BoSSS.Solution.LevelSetTools;\n",
    "using BoSSS.Solution.XdgTimestepping;\n",
    "using BoSSS.Solution.Utils;\n",
    "using System.IO;\n",
    "using BoSSS.Application.XNSE_Solver.PhysicalBasedTestcases;\n",
    "using static BoSSS.Application.BoSSSpad.BoSSSshell;\n",
    "using MomentFittingVariants = BoSSS.Foundation.XDG.XQuadFactoryHelper.MomentFittingVariants;\n",
    "Init();"
   ]
  },
  {
   "cell_type": "code",
   "execution_count": 2,
   "metadata": {
    "dotnet_interactive": {
     "language": "csharp"
    },
    "polyglot_notebook": {
     "kernelName": "csharp"
    },
    "vscode": {
     "languageId": "polyglot-notebook"
    }
   },
   "outputs": [],
   "source": [
    "//defaults\n",
    "string dbname = System.Environment.GetEnvironmentVariable(\"DATABASE_NAME\");\n",
    "string buildname = System.Environment.GetEnvironmentVariable(\"JOB_NAME\");\n",
    "buildname = String.IsNullOrEmpty(buildname)? \"CollidingSpheres2D\" : buildname; //Popcorn2D  VanishingSphere2D\n",
    "dbname = String.IsNullOrEmpty(dbname)? \"condStudyBDF2\" : dbname;  //condStudyBDF3\n",
    "string table_name = String.Concat(buildname, \"_\", dbname);"
   ]
  },
  {
   "cell_type": "code",
   "execution_count": 3,
   "metadata": {
    "dotnet_interactive": {
     "language": "csharp"
    },
    "polyglot_notebook": {
     "kernelName": "csharp"
    },
    "vscode": {
     "languageId": "polyglot-notebook"
    }
   },
   "outputs": [
    {
     "data": {
      "text/plain": [
       "{ Session Count = 18; Grid Count = 1; Path = \\\\dc3\\userspace\\toprak\\BoSSS-ConditionFinal\\CollidingSpheres2D_condStudyBDF2 }"
      ]
     },
     "metadata": {},
     "output_type": "display_data"
    }
   ],
   "source": [
    "//ExecutionQueues\n",
    "var myBatch = ExecutionQueues[4];\n",
    "string WFlowName = table_name;\n",
    "BoSSS.Application.BoSSSpad.BoSSSshell.WorkflowMgm.Init(WFlowName,myBatch);\n",
    "BoSSS.Application.BoSSSpad.BoSSSshell.WorkflowMgm.SetNameBasedSessionJobControlCorrelation();\n",
    "var myDB = BoSSS.Application.BoSSSpad.BoSSSshell.WorkflowMgm.DefaultDatabase; \n",
    "myDB"
   ]
  },
  {
   "cell_type": "code",
   "execution_count": 4,
   "metadata": {
    "dotnet_interactive": {
     "language": "csharp"
    },
    "polyglot_notebook": {
     "kernelName": "csharp"
    },
    "vscode": {
     "languageId": "polyglot-notebook"
    }
   },
   "outputs": [
    {
     "data": {
      "text/plain": [
       "#0: CollidingSpheres2D_condStudyBDF2\tSolverFalse_J2048_k1_agg0_AMRFalse_LBFalse_vel8.33_r0.6_2D_NSE_rateOfRadius13.89_BDF2_ts80_condStudy_ct1\t9/6/2024 5:16:46 PM\tbe212a66...\r\n",
       "#1: CollidingSpheres2D_condStudyBDF2\tSolverFalse_J2048_k3_agg0.3_AMRFalse_LBFalse_vel8.33_r0.6_2D_NSE_rateOfRadius13.89_BDF2_ts80_condStudy_ct1\t9/6/2024 6:02:04 PM\t3a1277db...\r\n",
       "#2: CollidingSpheres2D_condStudyBDF2\tSolverFalse_J2048_k3_agg0.2_AMRFalse_LBFalse_vel8.33_r0.6_2D_NSE_rateOfRadius13.89_BDF2_ts80_condStudy_ct1\t9/6/2024 6:01:30 PM\t4fa9b7ca...\r\n",
       "#3: CollidingSpheres2D_condStudyBDF2\tSolverFalse_J2048_k3_agg0.5_AMRFalse_LBFalse_vel8.33_r0.6_2D_NSE_rateOfRadius13.89_BDF2_ts80_condStudy_ct1\t9/6/2024 6:17:26 PM\t31298b47...\r\n",
       "#4: CollidingSpheres2D_condStudyBDF2\tSolverFalse_J2048_k3_agg0.1_AMRFalse_LBFalse_vel8.33_r0.6_2D_NSE_rateOfRadius13.89_BDF2_ts80_condStudy_ct1\t9/6/2024 6:00:34 PM\t587e1163...\r\n",
       "#5: CollidingSpheres2D_condStudyBDF2\tSolverFalse_J2048_k3_agg0.4_AMRFalse_LBFalse_vel8.33_r0.6_2D_NSE_rateOfRadius13.89_BDF2_ts80_condStudy_ct1\t9/6/2024 6:12:32 PM\t24483630...\r\n",
       "#6: CollidingSpheres2D_condStudyBDF2\tSolverFalse_J2048_k3_agg0_AMRFalse_LBFalse_vel8.33_r0.6_2D_NSE_rateOfRadius13.89_BDF2_ts80_condStudy_ct1\t9/6/2024 5:55:29 PM\t84d1f11a...\r\n",
       "#7: CollidingSpheres2D_condStudyBDF2\tSolverFalse_J2048_k2_agg0.5_AMRFalse_LBFalse_vel8.33_r0.6_2D_NSE_rateOfRadius13.89_BDF2_ts80_condStudy_ct1\t9/6/2024 5:55:07 PM\t0c8e9995...\r\n",
       "#8: CollidingSpheres2D_condStudyBDF2\tSolverFalse_J2048_k2_agg0.4_AMRFalse_LBFalse_vel8.33_r0.6_2D_NSE_rateOfRadius13.89_BDF2_ts80_condStudy_ct1\t9/6/2024 5:18:43 PM\t165ed84c...\r\n",
       "#9: CollidingSpheres2D_condStudyBDF2\tSolverFalse_J2048_k2_agg0.1_AMRFalse_LBFalse_vel8.33_r0.6_2D_NSE_rateOfRadius13.89_BDF2_ts80_condStudy_ct1\t9/6/2024 5:17:58 PM\t34587ff7...\r\n",
       "#10: CollidingSpheres2D_condStudyBDF2\tSolverFalse_J2048_k2_agg0.3_AMRFalse_LBFalse_vel8.33_r0.6_2D_NSE_rateOfRadius13.89_BDF2_ts80_condStudy_ct1\t9/6/2024 5:19:00 PM\tbc5dc74f...\r\n",
       "#11: CollidingSpheres2D_condStudyBDF2\tSolverFalse_J2048_k2_agg0_AMRFalse_LBFalse_vel8.33_r0.6_2D_NSE_rateOfRadius13.89_BDF2_ts80_condStudy_ct1\t9/6/2024 5:18:17 PM\ta0abe1de...\r\n",
       "#12: CollidingSpheres2D_condStudyBDF2\tSolverFalse_J2048_k2_agg0.2_AMRFalse_LBFalse_vel8.33_r0.6_2D_NSE_rateOfRadius13.89_BDF2_ts80_condStudy_ct1\t9/6/2024 5:18:50 PM\t4d86cba5...\r\n",
       "#13: CollidingSpheres2D_condStudyBDF2\tSolverFalse_J2048_k1_agg0.2_AMRFalse_LBFalse_vel8.33_r0.6_2D_NSE_rateOfRadius13.89_BDF2_ts80_condStudy_ct1\t9/6/2024 5:16:45 PM\t823916f3...\r\n",
       "#14: CollidingSpheres2D_condStudyBDF2\tSolverFalse_J2048_k1_agg0.4_AMRFalse_LBFalse_vel8.33_r0.6_2D_NSE_rateOfRadius13.89_BDF2_ts80_condStudy_ct1\t9/6/2024 5:17:13 PM\tba3aff2e...\r\n",
       "#15: CollidingSpheres2D_condStudyBDF2\tSolverFalse_J2048_k1_agg0.1_AMRFalse_LBFalse_vel8.33_r0.6_2D_NSE_rateOfRadius13.89_BDF2_ts80_condStudy_ct1\t9/6/2024 5:16:30 PM\tf2383abe...\r\n",
       "#16: CollidingSpheres2D_condStudyBDF2\tSolverFalse_J2048_k1_agg0.5_AMRFalse_LBFalse_vel8.33_r0.6_2D_NSE_rateOfRadius13.89_BDF2_ts80_condStudy_ct1\t9/6/2024 5:18:06 PM\t1a4b59e8...\r\n",
       "#17: CollidingSpheres2D_condStudyBDF2\tSolverFalse_J2048_k1_agg0.3_AMRFalse_LBFalse_vel8.33_r0.6_2D_NSE_rateOfRadius13.89_BDF2_ts80_condStudy_ct1\t9/6/2024 5:17:35 PM\td6eae438...\r\n"
      ]
     },
     "metadata": {},
     "output_type": "display_data"
    }
   ],
   "source": [
    "myDB.Sessions.Where(s => s.SuccessfulTermination == true)"
   ]
  },
  {
   "cell_type": "code",
   "execution_count": 5,
   "metadata": {
    "dotnet_interactive": {
     "language": "csharp"
    },
    "polyglot_notebook": {
     "kernelName": "csharp"
    },
    "vscode": {
     "languageId": "polyglot-notebook"
    }
   },
   "outputs": [
    {
     "name": "stdout",
     "output_type": "stream",
     "text": [
      "Session: be212a66-a95d-4bc0-ac59-c057342d4ff7\n",
      "#timestep, physicalTime, TotCondNo-Vars0.1.2, MassMtxCondNo, \n",
      "Session: 3a1277db-c031-43c8-9f28-2664e201acf5\n",
      "Session: 4fa9b7ca-a8ac-4371-95a2-7a3cadeed238\n",
      "Session: 31298b47-06af-4233-bc8a-bb0c711d3581\n",
      "Session: 587e1163-a13e-4e21-9f90-767bc2e5b815\n",
      "Session: 24483630-4501-402c-b843-f4bf1a8fdace\n",
      "Session: 84d1f11a-80f1-4e94-8db9-e629285d8c74\n",
      "Session: 0c8e9995-17cf-4d84-b43d-90d5fd9f59c8\n",
      "Session: 165ed84c-8de4-4712-bb0e-55e817a0becb\n",
      "Session: 34587ff7-a7e6-42ba-b8cb-874ab68a80b8\n",
      "Session: bc5dc74f-b3b1-447f-aefc-e1a4f27ac3a6\n",
      "Session: a0abe1de-5001-4463-9158-dfef0f251ffc\n",
      "Session: 4d86cba5-9634-429c-95fc-395dfda8c2ea\n",
      "Session: 823916f3-5f9a-4e46-83dc-48476ea1a02a\n",
      "Session: ba3aff2e-ddb8-4245-a22f-09238790deec\n",
      "Session: f2383abe-fbf5-4300-a0a7-c6ff8e64a911\n",
      "Session: 1a4b59e8-653f-4755-8cad-40d0b8f5b027\n",
      "Session: d6eae438-3b92-4387-9ee0-c05cbafc2e0c\n",
      "Session: be212a66-a95d-4bc0-ac59-c057342d4ff7\n",
      "#timestep, physicalTime, TotCondNo-Vars0.1.2, MassMtxCondNo, \n",
      "The value 'Infinity' could not be converted to a double for line 7 at column 3 in session SolverFalse_J2048_k1_agg0_AMRFalse_LBFalse_vel8.33_r0.6_2D_NSE_rateOfRadius13.89_BDF2_ts80_condStudy_ct1.\n",
      "The value 'Infinity' could not be converted to a double for line 32 at column 3 in session SolverFalse_J2048_k1_agg0_AMRFalse_LBFalse_vel8.33_r0.6_2D_NSE_rateOfRadius13.89_BDF2_ts80_condStudy_ct1.\n",
      "The value 'Infinity' could not be converted to a double for line 48 at column 3 in session SolverFalse_J2048_k1_agg0_AMRFalse_LBFalse_vel8.33_r0.6_2D_NSE_rateOfRadius13.89_BDF2_ts80_condStudy_ct1.\n",
      "The value 'Infinity' could not be converted to a double for line 73 at column 3 in session SolverFalse_J2048_k1_agg0_AMRFalse_LBFalse_vel8.33_r0.6_2D_NSE_rateOfRadius13.89_BDF2_ts80_condStudy_ct1.\n",
      "Session: 3a1277db-c031-43c8-9f28-2664e201acf5\n",
      "Session: 4fa9b7ca-a8ac-4371-95a2-7a3cadeed238\n",
      "Session: 31298b47-06af-4233-bc8a-bb0c711d3581\n",
      "Session: 587e1163-a13e-4e21-9f90-767bc2e5b815\n",
      "Session: 24483630-4501-402c-b843-f4bf1a8fdace\n",
      "Session: 84d1f11a-80f1-4e94-8db9-e629285d8c74\n",
      "The value 'Infinity' could not be converted to a double for line 2 at column 2 in session SolverFalse_J2048_k3_agg0_AMRFalse_LBFalse_vel8.33_r0.6_2D_NSE_rateOfRadius13.89_BDF2_ts80_condStudy_ct1.\n",
      "The value 'Infinity' could not be converted to a double for line 2 at column 3 in session SolverFalse_J2048_k3_agg0_AMRFalse_LBFalse_vel8.33_r0.6_2D_NSE_rateOfRadius13.89_BDF2_ts80_condStudy_ct1.\n",
      "The value 'Infinity' could not be converted to a double for line 3 at column 2 in session SolverFalse_J2048_k3_agg0_AMRFalse_LBFalse_vel8.33_r0.6_2D_NSE_rateOfRadius13.89_BDF2_ts80_condStudy_ct1.\n",
      "The value 'Infinity' could not be converted to a double for line 3 at column 3 in session SolverFalse_J2048_k3_agg0_AMRFalse_LBFalse_vel8.33_r0.6_2D_NSE_rateOfRadius13.89_BDF2_ts80_condStudy_ct1.\n",
      "The value 'Infinity' could not be converted to a double for line 5 at column 3 in session SolverFalse_J2048_k3_agg0_AMRFalse_LBFalse_vel8.33_r0.6_2D_NSE_rateOfRadius13.89_BDF2_ts80_condStudy_ct1.\n",
      "The value 'Infinity' could not be converted to a double for line 6 at column 3 in session SolverFalse_J2048_k3_agg0_AMRFalse_LBFalse_vel8.33_r0.6_2D_NSE_rateOfRadius13.89_BDF2_ts80_condStudy_ct1.\n",
      "The value 'Infinity' could not be converted to a double for line 7 at column 2 in session SolverFalse_J2048_k3_agg0_AMRFalse_LBFalse_vel8.33_r0.6_2D_NSE_rateOfRadius13.89_BDF2_ts80_condStudy_ct1.\n",
      "The value 'Infinity' could not be converted to a double for line 7 at column 3 in session SolverFalse_J2048_k3_agg0_AMRFalse_LBFalse_vel8.33_r0.6_2D_NSE_rateOfRadius13.89_BDF2_ts80_condStudy_ct1.\n",
      "The value 'Infinity' could not be converted to a double for line 8 at column 3 in session SolverFalse_J2048_k3_agg0_AMRFalse_LBFalse_vel8.33_r0.6_2D_NSE_rateOfRadius13.89_BDF2_ts80_condStudy_ct1.\n",
      "The value 'Infinity' could not be converted to a double for line 10 at column 2 in session SolverFalse_J2048_k3_agg0_AMRFalse_LBFalse_vel8.33_r0.6_2D_NSE_rateOfRadius13.89_BDF2_ts80_condStudy_ct1.\n",
      "The value 'Infinity' could not be converted to a double for line 10 at column 3 in session SolverFalse_J2048_k3_agg0_AMRFalse_LBFalse_vel8.33_r0.6_2D_NSE_rateOfRadius13.89_BDF2_ts80_condStudy_ct1.\n",
      "The value 'Infinity' could not be converted to a double for line 11 at column 3 in session SolverFalse_J2048_k3_agg0_AMRFalse_LBFalse_vel8.33_r0.6_2D_NSE_rateOfRadius13.89_BDF2_ts80_condStudy_ct1.\n",
      "The value 'Infinity' could not be converted to a double for line 14 at column 2 in session SolverFalse_J2048_k3_agg0_AMRFalse_LBFalse_vel8.33_r0.6_2D_NSE_rateOfRadius13.89_BDF2_ts80_condStudy_ct1.\n",
      "The value 'Infinity' could not be converted to a double for line 14 at column 3 in session SolverFalse_J2048_k3_agg0_AMRFalse_LBFalse_vel8.33_r0.6_2D_NSE_rateOfRadius13.89_BDF2_ts80_condStudy_ct1.\n",
      "The value 'Infinity' could not be converted to a double for line 16 at column 2 in session SolverFalse_J2048_k3_agg0_AMRFalse_LBFalse_vel8.33_r0.6_2D_NSE_rateOfRadius13.89_BDF2_ts80_condStudy_ct1.\n",
      "The value 'Infinity' could not be converted to a double for line 16 at column 3 in session SolverFalse_J2048_k3_agg0_AMRFalse_LBFalse_vel8.33_r0.6_2D_NSE_rateOfRadius13.89_BDF2_ts80_condStudy_ct1.\n",
      "The value 'Infinity' could not be converted to a double for line 22 at column 3 in session SolverFalse_J2048_k3_agg0_AMRFalse_LBFalse_vel8.33_r0.6_2D_NSE_rateOfRadius13.89_BDF2_ts80_condStudy_ct1.\n",
      "The value 'Infinity' could not be converted to a double for line 25 at column 3 in session SolverFalse_J2048_k3_agg0_AMRFalse_LBFalse_vel8.33_r0.6_2D_NSE_rateOfRadius13.89_BDF2_ts80_condStudy_ct1.\n",
      "The value 'Infinity' could not be converted to a double for line 27 at column 2 in session SolverFalse_J2048_k3_agg0_AMRFalse_LBFalse_vel8.33_r0.6_2D_NSE_rateOfRadius13.89_BDF2_ts80_condStudy_ct1.\n",
      "The value 'Infinity' could not be converted to a double for line 27 at column 3 in session SolverFalse_J2048_k3_agg0_AMRFalse_LBFalse_vel8.33_r0.6_2D_NSE_rateOfRadius13.89_BDF2_ts80_condStudy_ct1.\n",
      "The value 'Infinity' could not be converted to a double for line 30 at column 3 in session SolverFalse_J2048_k3_agg0_AMRFalse_LBFalse_vel8.33_r0.6_2D_NSE_rateOfRadius13.89_BDF2_ts80_condStudy_ct1.\n",
      "The value 'Infinity' could not be converted to a double for line 31 at column 3 in session SolverFalse_J2048_k3_agg0_AMRFalse_LBFalse_vel8.33_r0.6_2D_NSE_rateOfRadius13.89_BDF2_ts80_condStudy_ct1.\n",
      "The value 'Infinity' could not be converted to a double for line 32 at column 2 in session SolverFalse_J2048_k3_agg0_AMRFalse_LBFalse_vel8.33_r0.6_2D_NSE_rateOfRadius13.89_BDF2_ts80_condStudy_ct1.\n",
      "The value 'Infinity' could not be converted to a double for line 32 at column 3 in session SolverFalse_J2048_k3_agg0_AMRFalse_LBFalse_vel8.33_r0.6_2D_NSE_rateOfRadius13.89_BDF2_ts80_condStudy_ct1.\n",
      "The value 'Infinity' could not be converted to a double for line 35 at column 2 in session SolverFalse_J2048_k3_agg0_AMRFalse_LBFalse_vel8.33_r0.6_2D_NSE_rateOfRadius13.89_BDF2_ts80_condStudy_ct1.\n",
      "The value 'Infinity' could not be converted to a double for line 35 at column 3 in session SolverFalse_J2048_k3_agg0_AMRFalse_LBFalse_vel8.33_r0.6_2D_NSE_rateOfRadius13.89_BDF2_ts80_condStudy_ct1.\n",
      "The value 'Infinity' could not be converted to a double for line 36 at column 3 in session SolverFalse_J2048_k3_agg0_AMRFalse_LBFalse_vel8.33_r0.6_2D_NSE_rateOfRadius13.89_BDF2_ts80_condStudy_ct1.\n",
      "The value 'Infinity' could not be converted to a double for line 44 at column 3 in session SolverFalse_J2048_k3_agg0_AMRFalse_LBFalse_vel8.33_r0.6_2D_NSE_rateOfRadius13.89_BDF2_ts80_condStudy_ct1.\n",
      "The value 'Infinity' could not be converted to a double for line 45 at column 2 in session SolverFalse_J2048_k3_agg0_AMRFalse_LBFalse_vel8.33_r0.6_2D_NSE_rateOfRadius13.89_BDF2_ts80_condStudy_ct1.\n",
      "The value 'Infinity' could not be converted to a double for line 45 at column 3 in session SolverFalse_J2048_k3_agg0_AMRFalse_LBFalse_vel8.33_r0.6_2D_NSE_rateOfRadius13.89_BDF2_ts80_condStudy_ct1.\n",
      "The value 'Infinity' could not be converted to a double for line 48 at column 2 in session SolverFalse_J2048_k3_agg0_AMRFalse_LBFalse_vel8.33_r0.6_2D_NSE_rateOfRadius13.89_BDF2_ts80_condStudy_ct1.\n",
      "The value 'Infinity' could not be converted to a double for line 48 at column 3 in session SolverFalse_J2048_k3_agg0_AMRFalse_LBFalse_vel8.33_r0.6_2D_NSE_rateOfRadius13.89_BDF2_ts80_condStudy_ct1.\n",
      "The value 'Infinity' could not be converted to a double for line 49 at column 3 in session SolverFalse_J2048_k3_agg0_AMRFalse_LBFalse_vel8.33_r0.6_2D_NSE_rateOfRadius13.89_BDF2_ts80_condStudy_ct1.\n",
      "The value 'Infinity' could not be converted to a double for line 50 at column 3 in session SolverFalse_J2048_k3_agg0_AMRFalse_LBFalse_vel8.33_r0.6_2D_NSE_rateOfRadius13.89_BDF2_ts80_condStudy_ct1.\n",
      "The value 'Infinity' could not be converted to a double for line 53 at column 2 in session SolverFalse_J2048_k3_agg0_AMRFalse_LBFalse_vel8.33_r0.6_2D_NSE_rateOfRadius13.89_BDF2_ts80_condStudy_ct1.\n",
      "The value 'Infinity' could not be converted to a double for line 53 at column 3 in session SolverFalse_J2048_k3_agg0_AMRFalse_LBFalse_vel8.33_r0.6_2D_NSE_rateOfRadius13.89_BDF2_ts80_condStudy_ct1.\n",
      "The value 'Infinity' could not be converted to a double for line 55 at column 3 in session SolverFalse_J2048_k3_agg0_AMRFalse_LBFalse_vel8.33_r0.6_2D_NSE_rateOfRadius13.89_BDF2_ts80_condStudy_ct1.\n",
      "The value 'Infinity' could not be converted to a double for line 58 at column 3 in session SolverFalse_J2048_k3_agg0_AMRFalse_LBFalse_vel8.33_r0.6_2D_NSE_rateOfRadius13.89_BDF2_ts80_condStudy_ct1.\n",
      "The value 'Infinity' could not be converted to a double for line 64 at column 2 in session SolverFalse_J2048_k3_agg0_AMRFalse_LBFalse_vel8.33_r0.6_2D_NSE_rateOfRadius13.89_BDF2_ts80_condStudy_ct1.\n",
      "The value 'Infinity' could not be converted to a double for line 64 at column 3 in session SolverFalse_J2048_k3_agg0_AMRFalse_LBFalse_vel8.33_r0.6_2D_NSE_rateOfRadius13.89_BDF2_ts80_condStudy_ct1.\n",
      "The value 'Infinity' could not be converted to a double for line 66 at column 2 in session SolverFalse_J2048_k3_agg0_AMRFalse_LBFalse_vel8.33_r0.6_2D_NSE_rateOfRadius13.89_BDF2_ts80_condStudy_ct1.\n",
      "The value 'Infinity' could not be converted to a double for line 66 at column 3 in session SolverFalse_J2048_k3_agg0_AMRFalse_LBFalse_vel8.33_r0.6_2D_NSE_rateOfRadius13.89_BDF2_ts80_condStudy_ct1.\n",
      "The value 'Infinity' could not be converted to a double for line 69 at column 3 in session SolverFalse_J2048_k3_agg0_AMRFalse_LBFalse_vel8.33_r0.6_2D_NSE_rateOfRadius13.89_BDF2_ts80_condStudy_ct1.\n",
      "The value 'Infinity' could not be converted to a double for line 70 at column 2 in session SolverFalse_J2048_k3_agg0_AMRFalse_LBFalse_vel8.33_r0.6_2D_NSE_rateOfRadius13.89_BDF2_ts80_condStudy_ct1.\n",
      "The value 'Infinity' could not be converted to a double for line 70 at column 3 in session SolverFalse_J2048_k3_agg0_AMRFalse_LBFalse_vel8.33_r0.6_2D_NSE_rateOfRadius13.89_BDF2_ts80_condStudy_ct1.\n",
      "The value 'Infinity' could not be converted to a double for line 72 at column 3 in session SolverFalse_J2048_k3_agg0_AMRFalse_LBFalse_vel8.33_r0.6_2D_NSE_rateOfRadius13.89_BDF2_ts80_condStudy_ct1.\n",
      "The value 'Infinity' could not be converted to a double for line 73 at column 2 in session SolverFalse_J2048_k3_agg0_AMRFalse_LBFalse_vel8.33_r0.6_2D_NSE_rateOfRadius13.89_BDF2_ts80_condStudy_ct1.\n",
      "The value 'Infinity' could not be converted to a double for line 73 at column 3 in session SolverFalse_J2048_k3_agg0_AMRFalse_LBFalse_vel8.33_r0.6_2D_NSE_rateOfRadius13.89_BDF2_ts80_condStudy_ct1.\n",
      "The value 'Infinity' could not be converted to a double for line 74 at column 3 in session SolverFalse_J2048_k3_agg0_AMRFalse_LBFalse_vel8.33_r0.6_2D_NSE_rateOfRadius13.89_BDF2_ts80_condStudy_ct1.\n",
      "The value 'Infinity' could not be converted to a double for line 75 at column 3 in session SolverFalse_J2048_k3_agg0_AMRFalse_LBFalse_vel8.33_r0.6_2D_NSE_rateOfRadius13.89_BDF2_ts80_condStudy_ct1.\n",
      "The value 'Infinity' could not be converted to a double for line 77 at column 2 in session SolverFalse_J2048_k3_agg0_AMRFalse_LBFalse_vel8.33_r0.6_2D_NSE_rateOfRadius13.89_BDF2_ts80_condStudy_ct1.\n",
      "The value 'Infinity' could not be converted to a double for line 77 at column 3 in session SolverFalse_J2048_k3_agg0_AMRFalse_LBFalse_vel8.33_r0.6_2D_NSE_rateOfRadius13.89_BDF2_ts80_condStudy_ct1.\n",
      "The value 'Infinity' could not be converted to a double for line 78 at column 2 in session SolverFalse_J2048_k3_agg0_AMRFalse_LBFalse_vel8.33_r0.6_2D_NSE_rateOfRadius13.89_BDF2_ts80_condStudy_ct1.\n",
      "The value 'Infinity' could not be converted to a double for line 78 at column 3 in session SolverFalse_J2048_k3_agg0_AMRFalse_LBFalse_vel8.33_r0.6_2D_NSE_rateOfRadius13.89_BDF2_ts80_condStudy_ct1.\n",
      "The value 'Infinity' could not be converted to a double for line 80 at column 3 in session SolverFalse_J2048_k3_agg0_AMRFalse_LBFalse_vel8.33_r0.6_2D_NSE_rateOfRadius13.89_BDF2_ts80_condStudy_ct1.\n",
      "Session: 0c8e9995-17cf-4d84-b43d-90d5fd9f59c8\n",
      "Session: 165ed84c-8de4-4712-bb0e-55e817a0becb\n",
      "Session: 34587ff7-a7e6-42ba-b8cb-874ab68a80b8\n",
      "Session: bc5dc74f-b3b1-447f-aefc-e1a4f27ac3a6\n",
      "Session: a0abe1de-5001-4463-9158-dfef0f251ffc\n",
      "The value 'Infinity' could not be converted to a double for line 2 at column 3 in session SolverFalse_J2048_k2_agg0_AMRFalse_LBFalse_vel8.33_r0.6_2D_NSE_rateOfRadius13.89_BDF2_ts80_condStudy_ct1.\n",
      "The value 'Infinity' could not be converted to a double for line 3 at column 3 in session SolverFalse_J2048_k2_agg0_AMRFalse_LBFalse_vel8.33_r0.6_2D_NSE_rateOfRadius13.89_BDF2_ts80_condStudy_ct1.\n",
      "The value 'Infinity' could not be converted to a double for line 7 at column 2 in session SolverFalse_J2048_k2_agg0_AMRFalse_LBFalse_vel8.33_r0.6_2D_NSE_rateOfRadius13.89_BDF2_ts80_condStudy_ct1.\n",
      "The value 'Infinity' could not be converted to a double for line 7 at column 3 in session SolverFalse_J2048_k2_agg0_AMRFalse_LBFalse_vel8.33_r0.6_2D_NSE_rateOfRadius13.89_BDF2_ts80_condStudy_ct1.\n",
      "The value 'Infinity' could not be converted to a double for line 10 at column 3 in session SolverFalse_J2048_k2_agg0_AMRFalse_LBFalse_vel8.33_r0.6_2D_NSE_rateOfRadius13.89_BDF2_ts80_condStudy_ct1.\n",
      "The value 'Infinity' could not be converted to a double for line 14 at column 3 in session SolverFalse_J2048_k2_agg0_AMRFalse_LBFalse_vel8.33_r0.6_2D_NSE_rateOfRadius13.89_BDF2_ts80_condStudy_ct1.\n",
      "The value 'Infinity' could not be converted to a double for line 16 at column 3 in session SolverFalse_J2048_k2_agg0_AMRFalse_LBFalse_vel8.33_r0.6_2D_NSE_rateOfRadius13.89_BDF2_ts80_condStudy_ct1.\n",
      "The value 'Infinity' could not be converted to a double for line 27 at column 3 in session SolverFalse_J2048_k2_agg0_AMRFalse_LBFalse_vel8.33_r0.6_2D_NSE_rateOfRadius13.89_BDF2_ts80_condStudy_ct1.\n",
      "The value 'Infinity' could not be converted to a double for line 32 at column 2 in session SolverFalse_J2048_k2_agg0_AMRFalse_LBFalse_vel8.33_r0.6_2D_NSE_rateOfRadius13.89_BDF2_ts80_condStudy_ct1.\n",
      "The value 'Infinity' could not be converted to a double for line 32 at column 3 in session SolverFalse_J2048_k2_agg0_AMRFalse_LBFalse_vel8.33_r0.6_2D_NSE_rateOfRadius13.89_BDF2_ts80_condStudy_ct1.\n",
      "The value 'Infinity' could not be converted to a double for line 35 at column 3 in session SolverFalse_J2048_k2_agg0_AMRFalse_LBFalse_vel8.33_r0.6_2D_NSE_rateOfRadius13.89_BDF2_ts80_condStudy_ct1.\n",
      "The value 'Infinity' could not be converted to a double for line 45 at column 3 in session SolverFalse_J2048_k2_agg0_AMRFalse_LBFalse_vel8.33_r0.6_2D_NSE_rateOfRadius13.89_BDF2_ts80_condStudy_ct1.\n",
      "The value 'Infinity' could not be converted to a double for line 48 at column 2 in session SolverFalse_J2048_k2_agg0_AMRFalse_LBFalse_vel8.33_r0.6_2D_NSE_rateOfRadius13.89_BDF2_ts80_condStudy_ct1.\n",
      "The value 'Infinity' could not be converted to a double for line 48 at column 3 in session SolverFalse_J2048_k2_agg0_AMRFalse_LBFalse_vel8.33_r0.6_2D_NSE_rateOfRadius13.89_BDF2_ts80_condStudy_ct1.\n",
      "The value 'Infinity' could not be converted to a double for line 53 at column 3 in session SolverFalse_J2048_k2_agg0_AMRFalse_LBFalse_vel8.33_r0.6_2D_NSE_rateOfRadius13.89_BDF2_ts80_condStudy_ct1.\n",
      "The value 'Infinity' could not be converted to a double for line 64 at column 3 in session SolverFalse_J2048_k2_agg0_AMRFalse_LBFalse_vel8.33_r0.6_2D_NSE_rateOfRadius13.89_BDF2_ts80_condStudy_ct1.\n",
      "The value 'Infinity' could not be converted to a double for line 66 at column 3 in session SolverFalse_J2048_k2_agg0_AMRFalse_LBFalse_vel8.33_r0.6_2D_NSE_rateOfRadius13.89_BDF2_ts80_condStudy_ct1.\n",
      "The value 'Infinity' could not be converted to a double for line 70 at column 3 in session SolverFalse_J2048_k2_agg0_AMRFalse_LBFalse_vel8.33_r0.6_2D_NSE_rateOfRadius13.89_BDF2_ts80_condStudy_ct1.\n",
      "The value 'Infinity' could not be converted to a double for line 73 at column 2 in session SolverFalse_J2048_k2_agg0_AMRFalse_LBFalse_vel8.33_r0.6_2D_NSE_rateOfRadius13.89_BDF2_ts80_condStudy_ct1.\n",
      "The value 'Infinity' could not be converted to a double for line 73 at column 3 in session SolverFalse_J2048_k2_agg0_AMRFalse_LBFalse_vel8.33_r0.6_2D_NSE_rateOfRadius13.89_BDF2_ts80_condStudy_ct1.\n",
      "The value 'Infinity' could not be converted to a double for line 77 at column 3 in session SolverFalse_J2048_k2_agg0_AMRFalse_LBFalse_vel8.33_r0.6_2D_NSE_rateOfRadius13.89_BDF2_ts80_condStudy_ct1.\n",
      "The value 'Infinity' could not be converted to a double for line 78 at column 3 in session SolverFalse_J2048_k2_agg0_AMRFalse_LBFalse_vel8.33_r0.6_2D_NSE_rateOfRadius13.89_BDF2_ts80_condStudy_ct1.\n",
      "Session: 4d86cba5-9634-429c-95fc-395dfda8c2ea\n",
      "Session: 823916f3-5f9a-4e46-83dc-48476ea1a02a\n",
      "Session: ba3aff2e-ddb8-4245-a22f-09238790deec\n",
      "Session: f2383abe-fbf5-4300-a0a7-c6ff8e64a911\n",
      "Session: 1a4b59e8-653f-4755-8cad-40d0b8f5b027\n",
      "Session: d6eae438-3b92-4387-9ee0-c05cbafc2e0c\n"
     ]
    }
   ],
   "source": [
    "Func<List<double>, double> myOperation = Enumerable.Max; //How to choose the single element from the condition number list\n",
    "BoSSSshell.WorkflowMgm.condReader.Update(operation: myOperation);"
   ]
  },
  {
   "cell_type": "code",
   "execution_count": 6,
   "metadata": {
    "dotnet_interactive": {
     "language": "csharp"
    },
    "polyglot_notebook": {
     "kernelName": "csharp"
    },
    "vscode": {
     "languageId": "polyglot-notebook"
    }
   },
   "outputs": [],
   "source": [
    "var Tab = BoSSSshell.WorkflowMgm.SessionTable;"
   ]
  },
  {
   "cell_type": "code",
   "execution_count": 7,
   "metadata": {
    "dotnet_interactive": {
     "language": "csharp"
    },
    "polyglot_notebook": {
     "kernelName": "csharp"
    },
    "vscode": {
     "languageId": "polyglot-notebook"
    }
   },
   "outputs": [
    {
     "name": "stdout",
     "output_type": "stream",
     "text": [
      "    AgglomerationThreshold DGdegree:Velocity* Grid:hMin Grid:NoOfCells #timestep MassMtxCondNo     TotCondNo-Vars0.1.2   \n",
      "0:  0                      1                  0.0625    2048           80        849893407.5473267 1.052976680880421E+20 \n",
      "1:  0.3                    3                  0.0625    2048           80        3079358.720687046 4083.79251810669      \n",
      "2:  0.2                    3                  0.0625    2048           80        4933367.928990507 5698.450528713352     \n",
      "3:  0.5                    3                  0.0625    2048           80        1643822.623848921 3407.505082883849     \n",
      "4:  0.1                    3                  0.0625    2048           80        12313874.32684994 7001.342744051311     \n",
      "5:  0.4                    3                  0.0625    2048           80        3079358.720687046 4129.526585422889     \n",
      "6:  0                      3                  0.0625    2048           80        607189126.107213  3.130149599394803E+21 \n",
      "7:  0.5                    2                  0.0625    2048           80        334481.6657650149 2541.015564248484     \n",
      "8:  0.4                    2                  0.0625    2048           80        556711.4509092435 2543.906685635988     \n",
      "9:  0.1                    2                  0.0625    2048           80        2466951.795851294 2573.674025233997     \n",
      "10: 0.3                    2                  0.0625    2048           80        556711.4509092434 2553.725841698111     \n",
      "11: 0                      2                  0.0625    2048           80        1936614778.61417  5.976076612190639E+20 \n",
      "12: 0.2                    2                  0.0625    2048           80        1053844.01099852  2558.007925471808     \n",
      "13: 0.2                    1                  0.0625    2048           80        109693.9759783369 2585.799508887394     \n",
      "14: 0.4                    1                  0.0625    2048           80        48451.52614113216 2485.148076089656     \n",
      "15: 0.1                    1                  0.0625    2048           80        245097.7107937575 2675.463687424225     \n",
      "16: 0.5                    1                  0.0625    2048           80        31890.50152839444 2449.867152925337     \n",
      "17: 0.3                    1                  0.0625    2048           80        51909.87752487001 2578.498877996002     "
     ]
    }
   ],
   "source": [
    "var Tab2 = Tab.ExtractColumns( \"AgglomerationThreshold\",  \"DGdegree:Velocity*\",\"Grid:hMin\",\"Grid:NoOfCells\",\"#timestep\", \"MassMtxCondNo\", \"TotCondNo-Vars0.1.2\");\n",
    "Tab2.SaveToFile(table_name + $\"_condMaxSummary.json\");\n",
    "Tab2.Print()"
   ]
  },
  {
   "cell_type": "code",
   "execution_count": 8,
   "metadata": {
    "dotnet_interactive": {
     "language": "csharp"
    },
    "polyglot_notebook": {
     "kernelName": "csharp"
    },
    "vscode": {
     "languageId": "polyglot-notebook"
    }
   },
   "outputs": [
    {
     "name": "stdout",
     "output_type": "stream",
     "text": [
      "alpha & Mass & Op  & Mass & Op & Mass & Op & Mass & Op  & Mass & Op & Mass & Op\n",
      "0  \\;  & 8.50e+008 & 1.05e+020 & 1.94e+009 & 5.98e+020 & 6.07e+008 & 3.13e+021\n",
      "0.1  \\;  & 2.45e+005 & 2.68e+003 & 2.47e+006 & 2.57e+003 & 1.23e+007 & 7.00e+003\n",
      "0.2  \\;  & 1.10e+005 & 2.59e+003 & 1.05e+006 & 2.56e+003 & 4.93e+006 & 5.70e+003\n",
      "0.3  \\;  & 5.19e+004 & 2.58e+003 & 5.57e+005 & 2.55e+003 & 3.08e+006 & 4.08e+003\n",
      "0.4  \\;  & 4.85e+004 & 2.49e+003 & 5.57e+005 & 2.54e+003 & 3.08e+006 & 4.13e+003\n",
      "0.5  \\;  & 3.19e+004 & 2.45e+003 & 3.34e+005 & 2.54e+003 & 1.64e+006 & 3.41e+003\n"
     ]
    }
   ],
   "source": [
    "double[] aggThresholds = new double[]{0, 0.1, 0.2, 0.3, 0.4, 0.5};\n",
    "int[] dgDegrees = new int[]{1, 2, 3};\n",
    "\n",
    "Console.WriteLine($\"alpha & Mass & Op  & Mass & Op & Mass & Op & Mass & Op  & Mass & Op & Mass & Op\");\n",
    "foreach (double agg in aggThresholds){\n",
    "    Console.Write($\"{agg}  \\\\; \");\n",
    "    foreach (int dgDegree in dgDegrees){\n",
    "        var Tab3 = Tab2.ExtractRows((iRow,RowEntries)=> \n",
    "                    Convert.ToDouble(RowEntries[\"AgglomerationThreshold\"]) == agg &&\n",
    "                    Convert.ToDouble(RowEntries[\"DGdegree:Velocity*\"]) == dgDegree\n",
    "                );\n",
    "        var row = Tab3.Rows[0]; //\n",
    "        \n",
    "        Console.Write($\" & {((double)row[\"MassMtxCondNo\"]).ToString(\"e2\")} & {((double)row[\"TotCondNo-Vars0.1.2\"]).ToString(\"e2\")}\");\n",
    "    }\n",
    "    Console.WriteLine(\"\");\n",
    "}"
   ]
  },
  {
   "cell_type": "markdown",
   "metadata": {},
   "source": [
    "# Check infinite entries"
   ]
  },
  {
   "cell_type": "code",
   "execution_count": 9,
   "metadata": {
    "dotnet_interactive": {
     "language": "csharp"
    },
    "polyglot_notebook": {
     "kernelName": "csharp"
    },
    "vscode": {
     "languageId": "polyglot-notebook"
    }
   },
   "outputs": [],
   "source": [
    "Func<List<double>, double> countInvalidValues = list => \n",
    "    list.Count(x => double.IsNaN(x) || double.IsInfinity(x));"
   ]
  },
  {
   "cell_type": "code",
   "execution_count": 10,
   "metadata": {
    "dotnet_interactive": {
     "language": "csharp"
    },
    "polyglot_notebook": {
     "kernelName": "csharp"
    },
    "vscode": {
     "languageId": "polyglot-notebook"
    }
   },
   "outputs": [
    {
     "name": "stdout",
     "output_type": "stream",
     "text": [
      "Session: be212a66-a95d-4bc0-ac59-c057342d4ff7\n",
      "#timestep, physicalTime, TotCondNo-Vars0.1.2, MassMtxCondNo, \n",
      "Session: 3a1277db-c031-43c8-9f28-2664e201acf5\n",
      "Session: 4fa9b7ca-a8ac-4371-95a2-7a3cadeed238\n",
      "Session: 31298b47-06af-4233-bc8a-bb0c711d3581\n",
      "Session: 587e1163-a13e-4e21-9f90-767bc2e5b815\n",
      "Session: 24483630-4501-402c-b843-f4bf1a8fdace\n",
      "Session: 84d1f11a-80f1-4e94-8db9-e629285d8c74\n",
      "Session: 0c8e9995-17cf-4d84-b43d-90d5fd9f59c8\n",
      "Session: 165ed84c-8de4-4712-bb0e-55e817a0becb\n",
      "Session: 34587ff7-a7e6-42ba-b8cb-874ab68a80b8\n",
      "Session: bc5dc74f-b3b1-447f-aefc-e1a4f27ac3a6\n",
      "Session: a0abe1de-5001-4463-9158-dfef0f251ffc\n",
      "Session: 4d86cba5-9634-429c-95fc-395dfda8c2ea\n",
      "Session: 823916f3-5f9a-4e46-83dc-48476ea1a02a\n",
      "Session: ba3aff2e-ddb8-4245-a22f-09238790deec\n",
      "Session: f2383abe-fbf5-4300-a0a7-c6ff8e64a911\n",
      "Session: 1a4b59e8-653f-4755-8cad-40d0b8f5b027\n",
      "Session: d6eae438-3b92-4387-9ee0-c05cbafc2e0c\n",
      "Session: be212a66-a95d-4bc0-ac59-c057342d4ff7\n",
      "#timestep, physicalTime, TotCondNo-Vars0.1.2, MassMtxCondNo, \n",
      "The value 'Infinity' could not be converted to a double for line 7 at column 3 in session SolverFalse_J2048_k1_agg0_AMRFalse_LBFalse_vel8.33_r0.6_2D_NSE_rateOfRadius13.89_BDF2_ts80_condStudy_ct1.\n",
      "The value 'Infinity' could not be converted to a double for line 32 at column 3 in session SolverFalse_J2048_k1_agg0_AMRFalse_LBFalse_vel8.33_r0.6_2D_NSE_rateOfRadius13.89_BDF2_ts80_condStudy_ct1.\n",
      "The value 'Infinity' could not be converted to a double for line 48 at column 3 in session SolverFalse_J2048_k1_agg0_AMRFalse_LBFalse_vel8.33_r0.6_2D_NSE_rateOfRadius13.89_BDF2_ts80_condStudy_ct1.\n",
      "The value 'Infinity' could not be converted to a double for line 73 at column 3 in session SolverFalse_J2048_k1_agg0_AMRFalse_LBFalse_vel8.33_r0.6_2D_NSE_rateOfRadius13.89_BDF2_ts80_condStudy_ct1.\n",
      "Session: 3a1277db-c031-43c8-9f28-2664e201acf5\n",
      "Session: 4fa9b7ca-a8ac-4371-95a2-7a3cadeed238\n",
      "Session: 31298b47-06af-4233-bc8a-bb0c711d3581\n",
      "Session: 587e1163-a13e-4e21-9f90-767bc2e5b815\n",
      "Session: 24483630-4501-402c-b843-f4bf1a8fdace\n",
      "Session: 84d1f11a-80f1-4e94-8db9-e629285d8c74\n",
      "The value 'Infinity' could not be converted to a double for line 2 at column 2 in session SolverFalse_J2048_k3_agg0_AMRFalse_LBFalse_vel8.33_r0.6_2D_NSE_rateOfRadius13.89_BDF2_ts80_condStudy_ct1.\n",
      "The value 'Infinity' could not be converted to a double for line 2 at column 3 in session SolverFalse_J2048_k3_agg0_AMRFalse_LBFalse_vel8.33_r0.6_2D_NSE_rateOfRadius13.89_BDF2_ts80_condStudy_ct1.\n",
      "The value 'Infinity' could not be converted to a double for line 3 at column 2 in session SolverFalse_J2048_k3_agg0_AMRFalse_LBFalse_vel8.33_r0.6_2D_NSE_rateOfRadius13.89_BDF2_ts80_condStudy_ct1.\n",
      "The value 'Infinity' could not be converted to a double for line 3 at column 3 in session SolverFalse_J2048_k3_agg0_AMRFalse_LBFalse_vel8.33_r0.6_2D_NSE_rateOfRadius13.89_BDF2_ts80_condStudy_ct1.\n",
      "The value 'Infinity' could not be converted to a double for line 5 at column 3 in session SolverFalse_J2048_k3_agg0_AMRFalse_LBFalse_vel8.33_r0.6_2D_NSE_rateOfRadius13.89_BDF2_ts80_condStudy_ct1.\n",
      "The value 'Infinity' could not be converted to a double for line 6 at column 3 in session SolverFalse_J2048_k3_agg0_AMRFalse_LBFalse_vel8.33_r0.6_2D_NSE_rateOfRadius13.89_BDF2_ts80_condStudy_ct1.\n",
      "The value 'Infinity' could not be converted to a double for line 7 at column 2 in session SolverFalse_J2048_k3_agg0_AMRFalse_LBFalse_vel8.33_r0.6_2D_NSE_rateOfRadius13.89_BDF2_ts80_condStudy_ct1.\n",
      "The value 'Infinity' could not be converted to a double for line 7 at column 3 in session SolverFalse_J2048_k3_agg0_AMRFalse_LBFalse_vel8.33_r0.6_2D_NSE_rateOfRadius13.89_BDF2_ts80_condStudy_ct1.\n",
      "The value 'Infinity' could not be converted to a double for line 8 at column 3 in session SolverFalse_J2048_k3_agg0_AMRFalse_LBFalse_vel8.33_r0.6_2D_NSE_rateOfRadius13.89_BDF2_ts80_condStudy_ct1.\n",
      "The value 'Infinity' could not be converted to a double for line 10 at column 2 in session SolverFalse_J2048_k3_agg0_AMRFalse_LBFalse_vel8.33_r0.6_2D_NSE_rateOfRadius13.89_BDF2_ts80_condStudy_ct1.\n",
      "The value 'Infinity' could not be converted to a double for line 10 at column 3 in session SolverFalse_J2048_k3_agg0_AMRFalse_LBFalse_vel8.33_r0.6_2D_NSE_rateOfRadius13.89_BDF2_ts80_condStudy_ct1.\n",
      "The value 'Infinity' could not be converted to a double for line 11 at column 3 in session SolverFalse_J2048_k3_agg0_AMRFalse_LBFalse_vel8.33_r0.6_2D_NSE_rateOfRadius13.89_BDF2_ts80_condStudy_ct1.\n",
      "The value 'Infinity' could not be converted to a double for line 14 at column 2 in session SolverFalse_J2048_k3_agg0_AMRFalse_LBFalse_vel8.33_r0.6_2D_NSE_rateOfRadius13.89_BDF2_ts80_condStudy_ct1.\n",
      "The value 'Infinity' could not be converted to a double for line 14 at column 3 in session SolverFalse_J2048_k3_agg0_AMRFalse_LBFalse_vel8.33_r0.6_2D_NSE_rateOfRadius13.89_BDF2_ts80_condStudy_ct1.\n",
      "The value 'Infinity' could not be converted to a double for line 16 at column 2 in session SolverFalse_J2048_k3_agg0_AMRFalse_LBFalse_vel8.33_r0.6_2D_NSE_rateOfRadius13.89_BDF2_ts80_condStudy_ct1.\n",
      "The value 'Infinity' could not be converted to a double for line 16 at column 3 in session SolverFalse_J2048_k3_agg0_AMRFalse_LBFalse_vel8.33_r0.6_2D_NSE_rateOfRadius13.89_BDF2_ts80_condStudy_ct1.\n",
      "The value 'Infinity' could not be converted to a double for line 22 at column 3 in session SolverFalse_J2048_k3_agg0_AMRFalse_LBFalse_vel8.33_r0.6_2D_NSE_rateOfRadius13.89_BDF2_ts80_condStudy_ct1.\n",
      "The value 'Infinity' could not be converted to a double for line 25 at column 3 in session SolverFalse_J2048_k3_agg0_AMRFalse_LBFalse_vel8.33_r0.6_2D_NSE_rateOfRadius13.89_BDF2_ts80_condStudy_ct1.\n",
      "The value 'Infinity' could not be converted to a double for line 27 at column 2 in session SolverFalse_J2048_k3_agg0_AMRFalse_LBFalse_vel8.33_r0.6_2D_NSE_rateOfRadius13.89_BDF2_ts80_condStudy_ct1.\n",
      "The value 'Infinity' could not be converted to a double for line 27 at column 3 in session SolverFalse_J2048_k3_agg0_AMRFalse_LBFalse_vel8.33_r0.6_2D_NSE_rateOfRadius13.89_BDF2_ts80_condStudy_ct1.\n",
      "The value 'Infinity' could not be converted to a double for line 30 at column 3 in session SolverFalse_J2048_k3_agg0_AMRFalse_LBFalse_vel8.33_r0.6_2D_NSE_rateOfRadius13.89_BDF2_ts80_condStudy_ct1.\n",
      "The value 'Infinity' could not be converted to a double for line 31 at column 3 in session SolverFalse_J2048_k3_agg0_AMRFalse_LBFalse_vel8.33_r0.6_2D_NSE_rateOfRadius13.89_BDF2_ts80_condStudy_ct1.\n",
      "The value 'Infinity' could not be converted to a double for line 32 at column 2 in session SolverFalse_J2048_k3_agg0_AMRFalse_LBFalse_vel8.33_r0.6_2D_NSE_rateOfRadius13.89_BDF2_ts80_condStudy_ct1.\n",
      "The value 'Infinity' could not be converted to a double for line 32 at column 3 in session SolverFalse_J2048_k3_agg0_AMRFalse_LBFalse_vel8.33_r0.6_2D_NSE_rateOfRadius13.89_BDF2_ts80_condStudy_ct1.\n",
      "The value 'Infinity' could not be converted to a double for line 35 at column 2 in session SolverFalse_J2048_k3_agg0_AMRFalse_LBFalse_vel8.33_r0.6_2D_NSE_rateOfRadius13.89_BDF2_ts80_condStudy_ct1.\n",
      "The value 'Infinity' could not be converted to a double for line 35 at column 3 in session SolverFalse_J2048_k3_agg0_AMRFalse_LBFalse_vel8.33_r0.6_2D_NSE_rateOfRadius13.89_BDF2_ts80_condStudy_ct1.\n",
      "The value 'Infinity' could not be converted to a double for line 36 at column 3 in session SolverFalse_J2048_k3_agg0_AMRFalse_LBFalse_vel8.33_r0.6_2D_NSE_rateOfRadius13.89_BDF2_ts80_condStudy_ct1.\n",
      "The value 'Infinity' could not be converted to a double for line 44 at column 3 in session SolverFalse_J2048_k3_agg0_AMRFalse_LBFalse_vel8.33_r0.6_2D_NSE_rateOfRadius13.89_BDF2_ts80_condStudy_ct1.\n",
      "The value 'Infinity' could not be converted to a double for line 45 at column 2 in session SolverFalse_J2048_k3_agg0_AMRFalse_LBFalse_vel8.33_r0.6_2D_NSE_rateOfRadius13.89_BDF2_ts80_condStudy_ct1.\n",
      "The value 'Infinity' could not be converted to a double for line 45 at column 3 in session SolverFalse_J2048_k3_agg0_AMRFalse_LBFalse_vel8.33_r0.6_2D_NSE_rateOfRadius13.89_BDF2_ts80_condStudy_ct1.\n",
      "The value 'Infinity' could not be converted to a double for line 48 at column 2 in session SolverFalse_J2048_k3_agg0_AMRFalse_LBFalse_vel8.33_r0.6_2D_NSE_rateOfRadius13.89_BDF2_ts80_condStudy_ct1.\n",
      "The value 'Infinity' could not be converted to a double for line 48 at column 3 in session SolverFalse_J2048_k3_agg0_AMRFalse_LBFalse_vel8.33_r0.6_2D_NSE_rateOfRadius13.89_BDF2_ts80_condStudy_ct1.\n",
      "The value 'Infinity' could not be converted to a double for line 49 at column 3 in session SolverFalse_J2048_k3_agg0_AMRFalse_LBFalse_vel8.33_r0.6_2D_NSE_rateOfRadius13.89_BDF2_ts80_condStudy_ct1.\n",
      "The value 'Infinity' could not be converted to a double for line 50 at column 3 in session SolverFalse_J2048_k3_agg0_AMRFalse_LBFalse_vel8.33_r0.6_2D_NSE_rateOfRadius13.89_BDF2_ts80_condStudy_ct1.\n",
      "The value 'Infinity' could not be converted to a double for line 53 at column 2 in session SolverFalse_J2048_k3_agg0_AMRFalse_LBFalse_vel8.33_r0.6_2D_NSE_rateOfRadius13.89_BDF2_ts80_condStudy_ct1.\n",
      "The value 'Infinity' could not be converted to a double for line 53 at column 3 in session SolverFalse_J2048_k3_agg0_AMRFalse_LBFalse_vel8.33_r0.6_2D_NSE_rateOfRadius13.89_BDF2_ts80_condStudy_ct1.\n",
      "The value 'Infinity' could not be converted to a double for line 55 at column 3 in session SolverFalse_J2048_k3_agg0_AMRFalse_LBFalse_vel8.33_r0.6_2D_NSE_rateOfRadius13.89_BDF2_ts80_condStudy_ct1.\n",
      "The value 'Infinity' could not be converted to a double for line 58 at column 3 in session SolverFalse_J2048_k3_agg0_AMRFalse_LBFalse_vel8.33_r0.6_2D_NSE_rateOfRadius13.89_BDF2_ts80_condStudy_ct1.\n",
      "The value 'Infinity' could not be converted to a double for line 64 at column 2 in session SolverFalse_J2048_k3_agg0_AMRFalse_LBFalse_vel8.33_r0.6_2D_NSE_rateOfRadius13.89_BDF2_ts80_condStudy_ct1.\n",
      "The value 'Infinity' could not be converted to a double for line 64 at column 3 in session SolverFalse_J2048_k3_agg0_AMRFalse_LBFalse_vel8.33_r0.6_2D_NSE_rateOfRadius13.89_BDF2_ts80_condStudy_ct1.\n",
      "The value 'Infinity' could not be converted to a double for line 66 at column 2 in session SolverFalse_J2048_k3_agg0_AMRFalse_LBFalse_vel8.33_r0.6_2D_NSE_rateOfRadius13.89_BDF2_ts80_condStudy_ct1.\n",
      "The value 'Infinity' could not be converted to a double for line 66 at column 3 in session SolverFalse_J2048_k3_agg0_AMRFalse_LBFalse_vel8.33_r0.6_2D_NSE_rateOfRadius13.89_BDF2_ts80_condStudy_ct1.\n",
      "The value 'Infinity' could not be converted to a double for line 69 at column 3 in session SolverFalse_J2048_k3_agg0_AMRFalse_LBFalse_vel8.33_r0.6_2D_NSE_rateOfRadius13.89_BDF2_ts80_condStudy_ct1.\n",
      "The value 'Infinity' could not be converted to a double for line 70 at column 2 in session SolverFalse_J2048_k3_agg0_AMRFalse_LBFalse_vel8.33_r0.6_2D_NSE_rateOfRadius13.89_BDF2_ts80_condStudy_ct1.\n",
      "The value 'Infinity' could not be converted to a double for line 70 at column 3 in session SolverFalse_J2048_k3_agg0_AMRFalse_LBFalse_vel8.33_r0.6_2D_NSE_rateOfRadius13.89_BDF2_ts80_condStudy_ct1.\n",
      "The value 'Infinity' could not be converted to a double for line 72 at column 3 in session SolverFalse_J2048_k3_agg0_AMRFalse_LBFalse_vel8.33_r0.6_2D_NSE_rateOfRadius13.89_BDF2_ts80_condStudy_ct1.\n",
      "The value 'Infinity' could not be converted to a double for line 73 at column 2 in session SolverFalse_J2048_k3_agg0_AMRFalse_LBFalse_vel8.33_r0.6_2D_NSE_rateOfRadius13.89_BDF2_ts80_condStudy_ct1.\n",
      "The value 'Infinity' could not be converted to a double for line 73 at column 3 in session SolverFalse_J2048_k3_agg0_AMRFalse_LBFalse_vel8.33_r0.6_2D_NSE_rateOfRadius13.89_BDF2_ts80_condStudy_ct1.\n",
      "The value 'Infinity' could not be converted to a double for line 74 at column 3 in session SolverFalse_J2048_k3_agg0_AMRFalse_LBFalse_vel8.33_r0.6_2D_NSE_rateOfRadius13.89_BDF2_ts80_condStudy_ct1.\n",
      "The value 'Infinity' could not be converted to a double for line 75 at column 3 in session SolverFalse_J2048_k3_agg0_AMRFalse_LBFalse_vel8.33_r0.6_2D_NSE_rateOfRadius13.89_BDF2_ts80_condStudy_ct1.\n",
      "The value 'Infinity' could not be converted to a double for line 77 at column 2 in session SolverFalse_J2048_k3_agg0_AMRFalse_LBFalse_vel8.33_r0.6_2D_NSE_rateOfRadius13.89_BDF2_ts80_condStudy_ct1.\n",
      "The value 'Infinity' could not be converted to a double for line 77 at column 3 in session SolverFalse_J2048_k3_agg0_AMRFalse_LBFalse_vel8.33_r0.6_2D_NSE_rateOfRadius13.89_BDF2_ts80_condStudy_ct1.\n",
      "The value 'Infinity' could not be converted to a double for line 78 at column 2 in session SolverFalse_J2048_k3_agg0_AMRFalse_LBFalse_vel8.33_r0.6_2D_NSE_rateOfRadius13.89_BDF2_ts80_condStudy_ct1.\n",
      "The value 'Infinity' could not be converted to a double for line 78 at column 3 in session SolverFalse_J2048_k3_agg0_AMRFalse_LBFalse_vel8.33_r0.6_2D_NSE_rateOfRadius13.89_BDF2_ts80_condStudy_ct1.\n",
      "The value 'Infinity' could not be converted to a double for line 80 at column 3 in session SolverFalse_J2048_k3_agg0_AMRFalse_LBFalse_vel8.33_r0.6_2D_NSE_rateOfRadius13.89_BDF2_ts80_condStudy_ct1.\n",
      "Session: 0c8e9995-17cf-4d84-b43d-90d5fd9f59c8\n",
      "Session: 165ed84c-8de4-4712-bb0e-55e817a0becb\n",
      "Session: 34587ff7-a7e6-42ba-b8cb-874ab68a80b8\n",
      "Session: bc5dc74f-b3b1-447f-aefc-e1a4f27ac3a6\n",
      "Session: a0abe1de-5001-4463-9158-dfef0f251ffc\n",
      "The value 'Infinity' could not be converted to a double for line 2 at column 3 in session SolverFalse_J2048_k2_agg0_AMRFalse_LBFalse_vel8.33_r0.6_2D_NSE_rateOfRadius13.89_BDF2_ts80_condStudy_ct1.\n",
      "The value 'Infinity' could not be converted to a double for line 3 at column 3 in session SolverFalse_J2048_k2_agg0_AMRFalse_LBFalse_vel8.33_r0.6_2D_NSE_rateOfRadius13.89_BDF2_ts80_condStudy_ct1.\n",
      "The value 'Infinity' could not be converted to a double for line 7 at column 2 in session SolverFalse_J2048_k2_agg0_AMRFalse_LBFalse_vel8.33_r0.6_2D_NSE_rateOfRadius13.89_BDF2_ts80_condStudy_ct1.\n",
      "The value 'Infinity' could not be converted to a double for line 7 at column 3 in session SolverFalse_J2048_k2_agg0_AMRFalse_LBFalse_vel8.33_r0.6_2D_NSE_rateOfRadius13.89_BDF2_ts80_condStudy_ct1.\n",
      "The value 'Infinity' could not be converted to a double for line 10 at column 3 in session SolverFalse_J2048_k2_agg0_AMRFalse_LBFalse_vel8.33_r0.6_2D_NSE_rateOfRadius13.89_BDF2_ts80_condStudy_ct1.\n",
      "The value 'Infinity' could not be converted to a double for line 14 at column 3 in session SolverFalse_J2048_k2_agg0_AMRFalse_LBFalse_vel8.33_r0.6_2D_NSE_rateOfRadius13.89_BDF2_ts80_condStudy_ct1.\n",
      "The value 'Infinity' could not be converted to a double for line 16 at column 3 in session SolverFalse_J2048_k2_agg0_AMRFalse_LBFalse_vel8.33_r0.6_2D_NSE_rateOfRadius13.89_BDF2_ts80_condStudy_ct1.\n",
      "The value 'Infinity' could not be converted to a double for line 27 at column 3 in session SolverFalse_J2048_k2_agg0_AMRFalse_LBFalse_vel8.33_r0.6_2D_NSE_rateOfRadius13.89_BDF2_ts80_condStudy_ct1.\n",
      "The value 'Infinity' could not be converted to a double for line 32 at column 2 in session SolverFalse_J2048_k2_agg0_AMRFalse_LBFalse_vel8.33_r0.6_2D_NSE_rateOfRadius13.89_BDF2_ts80_condStudy_ct1.\n",
      "The value 'Infinity' could not be converted to a double for line 32 at column 3 in session SolverFalse_J2048_k2_agg0_AMRFalse_LBFalse_vel8.33_r0.6_2D_NSE_rateOfRadius13.89_BDF2_ts80_condStudy_ct1.\n",
      "The value 'Infinity' could not be converted to a double for line 35 at column 3 in session SolverFalse_J2048_k2_agg0_AMRFalse_LBFalse_vel8.33_r0.6_2D_NSE_rateOfRadius13.89_BDF2_ts80_condStudy_ct1.\n",
      "The value 'Infinity' could not be converted to a double for line 45 at column 3 in session SolverFalse_J2048_k2_agg0_AMRFalse_LBFalse_vel8.33_r0.6_2D_NSE_rateOfRadius13.89_BDF2_ts80_condStudy_ct1.\n",
      "The value 'Infinity' could not be converted to a double for line 48 at column 2 in session SolverFalse_J2048_k2_agg0_AMRFalse_LBFalse_vel8.33_r0.6_2D_NSE_rateOfRadius13.89_BDF2_ts80_condStudy_ct1.\n",
      "The value 'Infinity' could not be converted to a double for line 48 at column 3 in session SolverFalse_J2048_k2_agg0_AMRFalse_LBFalse_vel8.33_r0.6_2D_NSE_rateOfRadius13.89_BDF2_ts80_condStudy_ct1.\n",
      "The value 'Infinity' could not be converted to a double for line 53 at column 3 in session SolverFalse_J2048_k2_agg0_AMRFalse_LBFalse_vel8.33_r0.6_2D_NSE_rateOfRadius13.89_BDF2_ts80_condStudy_ct1.\n",
      "The value 'Infinity' could not be converted to a double for line 64 at column 3 in session SolverFalse_J2048_k2_agg0_AMRFalse_LBFalse_vel8.33_r0.6_2D_NSE_rateOfRadius13.89_BDF2_ts80_condStudy_ct1.\n",
      "The value 'Infinity' could not be converted to a double for line 66 at column 3 in session SolverFalse_J2048_k2_agg0_AMRFalse_LBFalse_vel8.33_r0.6_2D_NSE_rateOfRadius13.89_BDF2_ts80_condStudy_ct1.\n",
      "The value 'Infinity' could not be converted to a double for line 70 at column 3 in session SolverFalse_J2048_k2_agg0_AMRFalse_LBFalse_vel8.33_r0.6_2D_NSE_rateOfRadius13.89_BDF2_ts80_condStudy_ct1.\n",
      "The value 'Infinity' could not be converted to a double for line 73 at column 2 in session SolverFalse_J2048_k2_agg0_AMRFalse_LBFalse_vel8.33_r0.6_2D_NSE_rateOfRadius13.89_BDF2_ts80_condStudy_ct1.\n",
      "The value 'Infinity' could not be converted to a double for line 73 at column 3 in session SolverFalse_J2048_k2_agg0_AMRFalse_LBFalse_vel8.33_r0.6_2D_NSE_rateOfRadius13.89_BDF2_ts80_condStudy_ct1.\n",
      "The value 'Infinity' could not be converted to a double for line 77 at column 3 in session SolverFalse_J2048_k2_agg0_AMRFalse_LBFalse_vel8.33_r0.6_2D_NSE_rateOfRadius13.89_BDF2_ts80_condStudy_ct1.\n",
      "The value 'Infinity' could not be converted to a double for line 78 at column 3 in session SolverFalse_J2048_k2_agg0_AMRFalse_LBFalse_vel8.33_r0.6_2D_NSE_rateOfRadius13.89_BDF2_ts80_condStudy_ct1.\n",
      "Session: 4d86cba5-9634-429c-95fc-395dfda8c2ea\n",
      "Session: 823916f3-5f9a-4e46-83dc-48476ea1a02a\n",
      "Session: ba3aff2e-ddb8-4245-a22f-09238790deec\n",
      "Session: f2383abe-fbf5-4300-a0a7-c6ff8e64a911\n",
      "Session: 1a4b59e8-653f-4755-8cad-40d0b8f5b027\n",
      "Session: d6eae438-3b92-4387-9ee0-c05cbafc2e0c\n"
     ]
    }
   ],
   "source": [
    "BoSSSshell.WorkflowMgm.condReader.Update(operation: countInvalidValues);"
   ]
  },
  {
   "cell_type": "code",
   "execution_count": 11,
   "metadata": {
    "dotnet_interactive": {
     "language": "csharp"
    },
    "polyglot_notebook": {
     "kernelName": "csharp"
    },
    "vscode": {
     "languageId": "polyglot-notebook"
    }
   },
   "outputs": [],
   "source": [
    "var TabB = BoSSSshell.WorkflowMgm.SessionTable;"
   ]
  },
  {
   "cell_type": "code",
   "execution_count": 12,
   "metadata": {
    "dotnet_interactive": {
     "language": "csharp"
    },
    "polyglot_notebook": {
     "kernelName": "csharp"
    },
    "vscode": {
     "languageId": "polyglot-notebook"
    }
   },
   "outputs": [
    {
     "name": "stdout",
     "output_type": "stream",
     "text": [
      "    AgglomerationThreshold DGdegree:Velocity* Grid:hMin Grid:NoOfCells #timestep MassMtxCondNo TotCondNo-Vars0.1.2 \n",
      "0:  0                      1                  0.0625    2048           0         4             0                   \n",
      "1:  0.3                    3                  0.0625    2048           0         0             0                   \n",
      "2:  0.2                    3                  0.0625    2048           0         0             0                   \n",
      "3:  0.5                    3                  0.0625    2048           0         0             0                   \n",
      "4:  0.1                    3                  0.0625    2048           0         0             0                   \n",
      "5:  0.4                    3                  0.0625    2048           0         0             0                   \n",
      "6:  0                      3                  0.0625    2048           0         37            18                  \n",
      "7:  0.5                    2                  0.0625    2048           0         0             0                   \n",
      "8:  0.4                    2                  0.0625    2048           0         0             0                   \n",
      "9:  0.1                    2                  0.0625    2048           0         0             0                   \n",
      "10: 0.3                    2                  0.0625    2048           0         0             0                   \n",
      "11: 0                      2                  0.0625    2048           0         18            4                   \n",
      "12: 0.2                    2                  0.0625    2048           0         0             0                   \n",
      "13: 0.2                    1                  0.0625    2048           0         0             0                   \n",
      "14: 0.4                    1                  0.0625    2048           0         0             0                   \n",
      "15: 0.1                    1                  0.0625    2048           0         0             0                   \n",
      "16: 0.5                    1                  0.0625    2048           0         0             0                   \n",
      "17: 0.3                    1                  0.0625    2048           0         0             0                   "
     ]
    }
   ],
   "source": [
    "var Tab2B = TabB.ExtractColumns( \"AgglomerationThreshold\",  \"DGdegree:Velocity*\",\"Grid:hMin\",\"Grid:NoOfCells\",\"#timestep\", \"MassMtxCondNo\", \"TotCondNo-Vars0.1.2\");\n",
    "Tab2B.SaveToFile(table_name + $\"_condMaxSummary.json\");\n",
    "Tab2B.Print()"
   ]
  }
 ],
 "metadata": {
  "kernelspec": {
   "display_name": ".NET (C#)",
   "language": "C#",
   "name": ".net-csharp"
  },
  "language_info": {
   "name": "python"
  },
  "polyglot_notebook": {
   "kernelInfo": {
    "defaultKernelName": "csharp",
    "items": [
     {
      "aliases": [],
      "name": "csharp"
     }
    ]
   }
  }
 },
 "nbformat": 4,
 "nbformat_minor": 2
}

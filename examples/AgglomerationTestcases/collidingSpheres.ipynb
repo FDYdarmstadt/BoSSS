{
 "cells": [
  {
   "attachments": {},
   "cell_type": "markdown",
   "metadata": {},
   "source": [
    "# Colliding Spheres\n",
    "This Notebook launches a condition number study for the colliding spheres testcase as presented in the paper \"Cell agglomeration strategy for eXtended discontinous Galerkin methods\" (2024) \n",
    " The calculations can be very long, in order to use a HPC cluster ``..\\.BoSSS\\etc\\BatchProcessorConfig.json`` must be modified for the execution queue."
   ]
  },
  {
   "cell_type": "code",
   "execution_count": 1,
   "metadata": {
    "dotnet_interactive": {
     "language": "csharp"
    },
    "polyglot_notebook": {
     "kernelName": "csharp"
    }
   },
   "outputs": [],
   "source": [
    "#r \"./../../../../../public/src/L4-application/BoSSSpad/bin/Release/net6.0/BoSSSpad.dll\"\n",
    "using System;\n",
    "using System.Threading;\n",
    "using System.Diagnostics;\n",
    "using ilPSP;\n",
    "using ilPSP.Utils;\n",
    "using BoSSS.Platform;\n",
    "using BoSSS.Foundation;\n",
    "using BoSSS.Foundation.XDG;\n",
    "using BoSSS.Foundation.Grid;\n",
    "using BoSSS.Solution;\n",
    "using BoSSS.Application.XNSE_Solver;\n",
    "using BoSSS.Application.BoSSSpad;\n",
    "using BoSSS.Foundation.Grid.Classic;\n",
    "using BoSSS.Foundation.IO;\n",
    "using BoSSS.Solution.AdvancedSolvers;\n",
    "using BoSSS.Solution.Control;\n",
    "using BoSSS.Solution.XNSECommon;\n",
    "using BoSSS.Solution.NSECommon;\n",
    "using BoSSS.Solution.LoadBalancing;\n",
    "using BoSSS.Solution.LevelSetTools;\n",
    "using BoSSS.Solution.XdgTimestepping;\n",
    "using BoSSS.Solution.Utils;\n",
    "using System.IO;\n",
    "\n",
    "using static BoSSS.Application.BoSSSpad.BoSSSshell;\n",
    "Init();"
   ]
  },
  {
   "cell_type": "code",
   "execution_count": 2,
   "metadata": {
    "dotnet_interactive": {
     "language": "csharp"
    },
    "polyglot_notebook": {
     "kernelName": "csharp"
    }
   },
   "outputs": [],
   "source": [
    "string dbname = System.Environment.GetEnvironmentVariable(\"DATABASE_NAME\");\n",
    "string buildname = System.Environment.GetEnvironmentVariable(\"JOB_NAME\");\n",
    "//defaults\n",
    "buildname = String.IsNullOrEmpty(buildname)? \"CollidingSpheres2D\" : buildname;\n",
    "dbname = String.IsNullOrEmpty(dbname)? \"condStudyBDF2\" : dbname; \n",
    "string table_name = String.Concat(buildname, \"_\", dbname);"
   ]
  },
  {
   "cell_type": "code",
   "execution_count": null,
   "metadata": {
    "dotnet_interactive": {
     "language": "csharp"
    },
    "polyglot_notebook": {
     "kernelName": "csharp"
    }
   },
   "outputs": [],
   "source": [
    "ExecutionQueues"
   ]
  },
  {
   "cell_type": "code",
   "execution_count": null,
   "metadata": {
    "dotnet_interactive": {
     "language": "csharp"
    },
    "polyglot_notebook": {
     "kernelName": "csharp"
    }
   },
   "outputs": [],
   "source": [
    "var myBatch = ExecutionQueues[4];\n",
    "string WFlowName = table_name;\n",
    "BoSSS.Application.BoSSSpad.BoSSSshell.WorkflowMgm.Init(WFlowName,myBatch);\n",
    "BoSSS.Application.BoSSSpad.BoSSSshell.WorkflowMgm.SetNameBasedSessionJobControlCorrelation();\n",
    "var myDB = BoSSS.Application.BoSSSpad.BoSSSshell.WorkflowMgm.DefaultDatabase; \n",
    "myDB"
   ]
  },
  {
   "cell_type": "code",
   "execution_count": null,
   "metadata": {
    "dotnet_interactive": {
     "language": "csharp"
    },
    "polyglot_notebook": {
     "kernelName": "csharp"
    }
   },
   "outputs": [],
   "source": [
    "myDB.Sessions"
   ]
  },
  {
   "cell_type": "code",
   "execution_count": 6,
   "metadata": {
    "dotnet_interactive": {
     "language": "csharp"
    },
    "polyglot_notebook": {
     "kernelName": "csharp"
    }
   },
   "outputs": [],
   "source": [
    "int SpaceDim = 2; //3\n",
    "double _partRad = 0.6;\n",
    "var Gshape = Shape.CollidingSpheres;"
   ]
  },
  {
   "cell_type": "code",
   "execution_count": 7,
   "metadata": {
    "dotnet_interactive": {
     "language": "csharp"
    },
    "polyglot_notebook": {
     "kernelName": "csharp"
    }
   },
   "outputs": [],
   "source": [
    "// set parameterz\n",
    "int[] core_sweep = { 1};\n",
    "int[] PolyDegS = new int[] {1, 2, 3};\n",
    "int[] ResArray = new int[] {32};\n",
    "double[] aggThresolds = new double[]  {0, 0.1, 0.2, 0.3, 0.4, 0.5};"
   ]
  },
  {
   "cell_type": "code",
   "execution_count": 8,
   "metadata": {
    "dotnet_interactive": {
     "language": "csharp"
    },
    "polyglot_notebook": {
     "kernelName": "csharp"
    }
   },
   "outputs": [],
   "source": [
    "int NoOfTimeSteps = 80;\n",
    "bool Steady = false;\n",
    "bool IncludeConvection = true;"
   ]
  },
  {
   "cell_type": "markdown",
   "metadata": {},
   "source": [
    "# Grid"
   ]
  },
  {
   "cell_type": "code",
   "execution_count": 9,
   "metadata": {
    "dotnet_interactive": {
     "language": "csharp"
    },
    "polyglot_notebook": {
     "kernelName": "csharp"
    }
   },
   "outputs": [],
   "source": [
    "double xMax = 2, yMax = 1, zMax = 1;\n",
    "double xMin = -2, yMin = -1, zMin = -1;\n"
   ]
  },
  {
   "cell_type": "code",
   "execution_count": null,
   "metadata": {
    "dotnet_interactive": {
     "language": "csharp"
    },
    "polyglot_notebook": {
     "kernelName": "csharp"
    }
   },
   "outputs": [],
   "source": [
    "List<IGridInfo> Grids = new List<IGridInfo>();\n",
    "\n",
    "foreach (var Res in ResArray) {\n",
    "    var _xNodes = GenericBlas.Linspace(xMin, xMax, Res * 2 + 1);\n",
    "    var _yNodes = GenericBlas.Linspace(yMin, yMax, Res + 1);\n",
    "    var _zNodes = GenericBlas.Linspace(zMin, zMax, Res + 1);    \n",
    "    GridCommons grd;\n",
    "    string gname = SpaceDim == 2 ? \"CollidingSphere2D_1BCs_longDomX\" : \"CollidingSphere3D_1BCs_longDomX\";\n",
    "    \n",
    "    var tmp = new List<IGridInfo>();\n",
    "    foreach(var grid in myDB.Grids){\n",
    "        try{\n",
    "            if (String.IsNullOrEmpty(grid.Name))\n",
    "                continue;\n",
    "\n",
    "            Console.WriteLine(\"Found {0} with {1} cells on the database\",grid.Name,grid.NumberOfCells);\n",
    "            bool IsMatch = grid.Name.Equals(gname)&&grid.NumberOfCells == (_xNodes.Length - 1) * (_yNodes.Length - 1) * (SpaceDim == 3 ? GenericBlas.Linspace(zMin, zMax, Res + 1).Length - 1 : 1);\n",
    "            if(IsMatch) \n",
    "            tmp.Add(grid);\n",
    "        }\n",
    "        catch(Exception ex) {\n",
    "            Console.WriteLine(ex.Message);\n",
    "        }\n",
    "    }\n",
    "\n",
    "    Console.WriteLine(\"Found {0} grids for Res={1}\", tmp.Count, Res);\n",
    "    if (tmp.Any()) {\n",
    "        Console.WriteLine(\"Chosing the first one found: \"+tmp.Pick(0).Name);\n",
    "        Grids.Add(tmp.First());\n",
    "    } else {\n",
    "        if (SpaceDim == 3) {\n",
    "            grd = Grid3D.Cartesian3DGrid(_xNodes, _yNodes, _zNodes);\n",
    "        } else {\n",
    "            grd = Grid2D.Cartesian2DGrid(_xNodes, _yNodes);\n",
    "        }\n",
    "\n",
    "        grd.Name = gname;\n",
    "        grd.EdgeTagNames.Add(1, \"Pressure_Outlet\");\n",
    "        grd.DefineEdgeTags(delegate (double[] X) {\n",
    "            return 1;\n",
    "        });\n",
    "        myDB.SaveGrid(ref grd);\n",
    "        Grids.Add(grd);\n",
    "    }\n",
    "}\n",
    "\n",
    "Console.WriteLine(\"\\nThe grids to be simulated:\");\n",
    "Grids\n"
   ]
  },
  {
   "attachments": {},
   "cell_type": "markdown",
   "metadata": {},
   "source": [
    "## Generate Control object\n",
    "\n",
    "### governing equations\n",
    "- incompressible transient Navier-Stokes:\n",
    "<br>$\\frac{\\partial \\rho \\vec{u}}{\\partial t}+ \\nabla \\cdot ( \\rho \\vec{u} \\otimes \\vec{u}) + \\nabla p - \\eta \\Delta \\vec{u} = \\vec{f} \\ \\ in \\ \\ \\Omega_F(t) \\times (0,T)$\n",
    "<br>$\\nabla \\cdot \\vec{u} = 0 \\quad in \\ \\ \\Omega_F(t) \\times (0,T)$\n",
    "- with inital conditions:\n",
    "<br>$\\vec{u}(\\vec{x},0)  =  \\vec{0} \\quad on \\ \\ \\Omega_F(0)$\n",
    "<br>$p(\\vec{x},0)  =  0 \\quad  on \\ \\ \\Omega_F(0)$\n",
    "- with boundary conditions:\n",
    "<br>$\\vec{u}(\\vec{x},t) = \\vec{u}_{body} \\quad on \\ \\ \\mathcal{J} = \\partial \\Omega_S \\cap \\partial \\Omega_F$\n",
    "<br> $p \\mathbf{I} - \\frac{1}{Re} \\nabla \\vec{u} \\vec{n}_{ \\Gamma_{pOut} } = 0 \\ \\ on \\ \\ \\Gamma_{pOut} = \\partial \\Omega \\backslash \\Gamma_{Inlet} $ \n",
    "<br>where:\n",
    " $$\n",
    "\t\\vec{u}_{body}(\\vec{x},t) =\n",
    "\t \\begin{cases}\n",
    "\t\t\\vec{u}_{g,\\mathrm{L}} =  (u_\\mathrm{s},0,0) \\phantom{-} \\quad \\quad \\text{on } \\ \\vec{x} \\, | \\, \\psi_\\mathrm{L}(\\vec{x},t)>0 \\text{ and } \\psi_\\mathrm{R}(\\vec{x},t)<0, \\\\\n",
    "\t\t\\vec{u}_{g,\\mathrm{R}} =  (-u_\\mathrm{s},0,0)  \\quad \\quad \\text{on } \\ \\vec{x} \\, | \\, \\psi_\\mathrm{L}(\\vec{x},t)<0 \\text{ and } \\psi_\\mathrm{R}(\\vec{x},t)>0, \\\\\n",
    "\t\t\\vec{u}_{g,\\mathrm{LR}} =  \\vec{0} \\phantom{(-u,0,)} \\quad \\quad  \\text{on } \\ \\vec{x} \\, | \\, \\psi_\\mathrm{L}(\\vec{x},t) \\geq 0 \\text{ and } \\psi_\\mathrm{R}(\\vec{x},t) \\geq 0.\n",
    "\t\\end{cases}\n",
    "$$\n",
    "-while $u_\\mathrm{s}=\\frac{Re*\\mu_A}{\\rho_A*(2*r_p)}$"
   ]
  },
  {
   "cell_type": "code",
   "execution_count": 11,
   "metadata": {
    "dotnet_interactive": {
     "language": "csharp"
    },
    "polyglot_notebook": {
     "kernelName": "csharp"
    }
   },
   "outputs": [],
   "source": [
    "Func<IGridInfo, int,double, string, bool, bool, double, XNSE_Control> GenXNSECtrl = \n",
    "delegate(IGridInfo grd, int k, double viscosity, string RotAxis, bool AMR, bool LoadBalance, double AggThrs){\n",
    "    XNSE_Control C = new XNSE_Control();\n",
    "\n",
    "    // basic database options\n",
    "    // ======================\n",
    "    C.SetDatabase(myDB);\n",
    "    C.savetodb = true;\n",
    "    int J  = grd.NumberOfCells;\n",
    "\n",
    "\n",
    "    //Session Settings\n",
    "    C.GridGuid = grd.ID;\n",
    "    C.GridPartType = GridPartType.Hilbert;\n",
    "    C.DynamicLoadBalancing_On = false;\n",
    "    //C.DynamicLoadBalancing_RedistributeAtStartup = true; \n",
    "    //C.DynamicLoadBalancing_Period = 10;\n",
    "    //C.DynamicLoadBalancing_ImbalanceThreshold = 0.1; \n",
    "\n",
    "    // Physical Parameters\n",
    "    // =================== \n",
    "    const double rhoA = 1;\n",
    "    const double Re = 1000;\n",
    "    double muA = viscosity;   \n",
    "    double partRad = _partRad;\n",
    "    double partDia = 2*partRad;\n",
    "    double VelocitySphere = Re*muA/rhoA/partDia;\n",
    "    double ts = 3*partRad/VelocitySphere/NoOfTimeSteps; \n",
    "    double[] pos = new double[SpaceDim];    \n",
    "    //string rotAxis= RotAxis ?? \"z\";\n",
    "\n",
    "    C.PhysicalParameters.IncludeConvection = IncludeConvection;\n",
    "    C.PhysicalParameters.Material = true;\n",
    "    C.PhysicalParameters.rho_A = rhoA;\n",
    "    C.PhysicalParameters.mu_A = muA;\n",
    "\n",
    "    // Meta data\n",
    "    // ============    \n",
    "    C.SessionName = string.Format(\"J{0}_k{1}_agg{2}_AMR{3}_LB{4}_vel{5:f2}_r{6}\", J, k,AggThrs,AMR,LoadBalance,VelocitySphere,partRad);\n",
    "    C.SessionName += $\"_{SpaceDim}D\";\n",
    "\n",
    "    if(IncludeConvection){\n",
    "        C.SessionName += \"_NSE\";\n",
    "        C.Tags.Add(\"NSE\");\n",
    "    } else {\n",
    "        C.SessionName += \"_Stokes\";\n",
    "        C.Tags.Add(\"Stokes\");\n",
    "    }\n",
    "    C.Tags.Add(SpaceDim + \"D\");\n",
    "    if(Steady)C.Tags.Add(\"steady\");\n",
    "    else C.Tags.Add(\"transient\");\n",
    "\n",
    "    // DG degrees and configuration\n",
    "    // ==========\n",
    "    C.SetFieldOptions(k, Math.Max(k, 8));\n",
    "    C.saveperiod = 10;\n",
    "    C.GridGuid = grd.ID;\n",
    "    C.DynamicLoadBalancing_On = LoadBalance;\n",
    "    C.DynamicLoadBalancing_RedistributeAtStartup = true;\n",
    "    C.DynamicLoadBalancing_Period = 10;\n",
    "    C.DynamicLoadBalancing_ImbalanceThreshold = 0.1;\n",
    "    C.ImmediatePlotPeriod = 5;\n",
    "    C.SuperSampling = 2; \n",
    "\n",
    "    // rigid body and boundary conditions\n",
    "    // ===================\n",
    "    double rateOfRadius = 3/(double)NoOfTimeSteps/ts; //utilized to describe sphere pos + vel\n",
    "    double anglev = 0.0;\n",
    "    C.Rigidbody.SetParameters(pos,anglev,partRad,SpaceDim, rateOfRadius: rateOfRadius); \n",
    "    C.SessionName += $\"_rateOfRadius{rateOfRadius:f2}\";\n",
    "    C.Rigidbody.SpecifyShape(Gshape);\n",
    "    //C.Rigidbody.SetRotationAxis(rotAxis);\n",
    "    C.AddInitialValue(VariableNames.LevelSetCGidx(0), new Formula(\"X => -1\"));\n",
    "    C.UseImmersedBoundary = true;\n",
    "\n",
    "    C.AddInitialValue(\"Pressure\", new Formula(@\"X => 0\"));\n",
    "    C.AddBoundaryValue(\"Pressure_Outlet\");\n",
    "\n",
    "    // solver options\n",
    "    // ===================\n",
    "    C.CutCellQuadratureType = BoSSS.Foundation.XDG.XQuadFactoryHelper.MomentFittingVariants.Saye;\n",
    "    C.UseSchurBlockPrec = true;\n",
    "    C.AgglomerationThreshold = AggThrs;\n",
    "    C.AdvancedDiscretizationOptions.ViscosityMode = ViscosityMode.FullySymmetric;\n",
    "    C.Option_LevelSetEvolution2 = LevelSetEvolution.Prescribed;\n",
    "    C.Option_LevelSetEvolution = LevelSetEvolution.None; // idle level set (used for evolving LS)\n",
    "    C.Timestepper_LevelSetHandling = LevelSetHandling.LieSplitting;\n",
    "    C.LinearSolver = LinearSolverCode.exp_Kcycle_schwarz.GetConfig();\n",
    "    C.NonLinearSolver.SolverCode = NonLinearSolverCode.Newton;\n",
    "    C.NonLinearSolver.ConvergenceCriterion = 0;\n",
    "    C.NonLinearSolver.MaxSolverIterations = 50;\n",
    "    C.NonLinearSolver.verbose = true;\n",
    "    C.AdaptiveMeshRefinement = AMR;\n",
    "\n",
    "    // Timestepping\n",
    "    // ============\n",
    "    double dt = -1;\n",
    "    if(Steady){\n",
    "        C.TimesteppingMode = AppControl._TimesteppingMode.Steady;\n",
    "        dt = Double.MaxValue;\n",
    "        C.NoOfTimesteps = 1;\n",
    "        C.SessionName += \"_Steady\";\n",
    "    } else {\n",
    "        C.TimesteppingMode = AppControl._TimesteppingMode.Transient;        \n",
    "        dt = ts;        \n",
    "        C.NoOfTimesteps = NoOfTimeSteps; \n",
    "    }\n",
    "\n",
    "    C.TimeSteppingScheme = TimeSteppingScheme.BDF2; //BD4\n",
    "    C.dtFixed = dt;\n",
    "    C.SessionName += $\"_{(TimeSteppingScheme)C.TimeSteppingScheme}_ts{NoOfTimeSteps}\"; // $\"_impEuler_ts{NoOfTimeSteps}\";\n",
    "\n",
    "    // Solver On-Off\n",
    "    C.SkipSolveAndEvaluateResidual = false;\n",
    "    C.SessionName = \"Solver\" + !C.SkipSolveAndEvaluateResidual + \"_\" + C.SessionName;\n",
    "\n",
    "    // Condition number study\n",
    "    // ============\n",
    "    var config = new OperatorAnalysisConfig();\n",
    "    config.CalculateMassMatrix = true;\n",
    "    config.CalculateGlobalConditionNumbers = true;\n",
    "    config.CalculateStencilConditionNumbers = false;\n",
    "    config.PlotStencilConditionNumbers = false;\n",
    "    C.PostprocessingModules.Add(new BoSSS.Application.XNSE_Solver.Logging.CondLogger(config));\n",
    "    C.SessionName += \"_condStudy\";\n",
    "\n",
    "    return C;    \n",
    "};"
   ]
  },
  {
   "cell_type": "code",
   "execution_count": null,
   "metadata": {
    "dotnet_interactive": {
     "language": "csharp"
    },
    "polyglot_notebook": {
     "kernelName": "csharp"
    }
   },
   "outputs": [],
   "source": [
    "var ViscositySweep = new double[]{1E-2};\n",
    "var axes = new string[]{\"z\"};\n",
    "var AMRarray = new bool[] {false};\n",
    "var LoadBalancearray = new bool[] {false};\n",
    "\n",
    "//var TimeSchemes = new TimeSteppingScheme[] {TimeSteppingScheme.ImplicitEuler, TimeSteppingScheme.BDF4};\n",
    "List<XNSE_Control> controls = new List<XNSE_Control>();\n",
    "foreach(IGridInfo grd in Grids)\n",
    "    foreach(int k in PolyDegS)\n",
    "            foreach(double v in ViscositySweep)\n",
    "                foreach(string axis in axes)\n",
    "                    foreach(bool AMR in AMRarray)\n",
    "                        foreach(bool LoadBalance in LoadBalancearray)\n",
    "                            foreach(double agg in aggThresolds)\n",
    "            {\n",
    "                controls.Add(GenXNSECtrl(grd,k,v,axis,AMR,LoadBalance,agg));\n",
    "            }\n",
    "\n",
    "\n",
    "Console.WriteLine($\"Total Number of Control Files: {controls.Count}\");\n",
    "controls.Summary()"
   ]
  },
  {
   "cell_type": "code",
   "execution_count": null,
   "metadata": {
    "dotnet_interactive": {
     "language": "csharp"
    },
    "polyglot_notebook": {
     "kernelName": "csharp"
    }
   },
   "outputs": [],
   "source": [
    "int k = 0;\n",
    "foreach(var ctrl in controls){\n",
    "    string sessname = ctrl.SessionName;\n",
    "        foreach(int cores in core_sweep){\n",
    "            ctrl.SessionName = sessname + \"_ct\"+cores;\n",
    "                    var aJob   = new Job(\"\"+Gshape+ctrl.SessionName,typeof(XNSE));\n",
    "\n",
    "            aJob.SetControlObject(ctrl);\n",
    "            aJob.NumberOfMPIProcs         = cores;\n",
    "            aJob.UseComputeNodesExclusive = true;\n",
    "            aJob.NumberOfThreads = 4;\n",
    "            //aJob.ExecutionTime            = \"71:59:00\";\n",
    "            //List<string> Cmdtmp = myBatch.AdditionalBatchCommands.ToList();\n",
    "            //int NoOfNodes = 1;\n",
    "            //Cmdtmp.Add($\"#SBATCH -N {NoOfNodes}\");\n",
    "            //myBatch.AdditionalBatchCommands = Cmdtmp.ToArray();\n",
    "\n",
    "            aJob.Activate(myBatch);\n",
    "            Console.WriteLine(\"Submitted {0}th \\n\",k) ;\n",
    "            k++;           \n",
    "        }       \n",
    "    }\n"
   ]
  }
 ],
 "metadata": {
  "kernelspec": {
   "display_name": ".NET (C#)",
   "language": "C#",
   "name": ".net-csharp"
  },
  "language_info": {
   "name": "polyglot-notebook"
  },
  "orig_nbformat": 4,
  "polyglot_notebook": {
   "kernelInfo": {
    "defaultKernelName": "csharp",
    "items": [
     {
      "aliases": [],
      "name": "csharp"
     }
    ]
   }
  }
 },
 "nbformat": 4,
 "nbformat_minor": 2
}

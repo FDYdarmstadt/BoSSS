{
 "cells": [
  {
   "cell_type": "code",
   "execution_count": null,
   "metadata": {
    "dotnet_interactive": {
     "language": "csharp"
    },
    "vscode": {
     "languageId": "dotnet-interactive.csharp"
    }
   },
   "outputs": [
    {
     "name": "stdout",
     "output_type": "stream",
     "text": [
      "Using gnuplot: C:\\Users\\smuda\\AppData\\Local\\FDY\\BoSSS\\bin\\native\\win\\gnuplot-gp510-20160418-win32-mingw\\gnuplot\\bin\\gnuplot.exe\r\n",
      "Databases loaded: \r\n",
      "Capacity: 0\r\n",
      "Count: 0\r\n",
      "\r\n"
     ]
    },
    {
     "ename": "Error",
     "evalue": "System.ApplicationException: Already called.\r\n   at BoSSS.Application.BoSSSpad.BoSSSshell.InitTraceFile() in D:\\BoSSS-experimental\\public\\src\\L4-application\\BoSSSpad\\BoSSSshell.cs:line 204\r\n   at BoSSS.Application.BoSSSpad.BoSSSshell.Init() in D:\\BoSSS-experimental\\public\\src\\L4-application\\BoSSSpad\\BoSSSshell.cs:line 97\r\n   at Submission#252.<<Initialize>>d__0.MoveNext()\r\n--- End of stack trace from previous location ---\r\n   at Microsoft.CodeAnalysis.Scripting.ScriptExecutionState.RunSubmissionsAsync[TResult](ImmutableArray`1 precedingExecutors, Func`2 currentExecutor, StrongBox`1 exceptionHolderOpt, Func`2 catchExceptionOpt, CancellationToken cancellationToken)",
     "output_type": "error",
     "traceback": [
      "System.ApplicationException: Already called.\r\n",
      "   at BoSSS.Application.BoSSSpad.BoSSSshell.InitTraceFile() in D:\\BoSSS-experimental\\public\\src\\L4-application\\BoSSSpad\\BoSSSshell.cs:line 204\r\n",
      "   at BoSSS.Application.BoSSSpad.BoSSSshell.Init() in D:\\BoSSS-experimental\\public\\src\\L4-application\\BoSSSpad\\BoSSSshell.cs:line 97\r\n",
      "   at Submission#252.<<Initialize>>d__0.MoveNext()\r\n",
      "--- End of stack trace from previous location ---\r\n",
      "   at Microsoft.CodeAnalysis.Scripting.ScriptExecutionState.RunSubmissionsAsync[TResult](ImmutableArray`1 precedingExecutors, Func`2 currentExecutor, StrongBox`1 exceptionHolderOpt, Func`2 catchExceptionOpt, CancellationToken cancellationToken)"
     ]
    }
   ],
   "source": [
    "//#r \"../../src/L4-application/BoSSSpad/bin/Release/net5.0/BoSSSpad.dll\"\n",
    "//#r \"../../src/L4-application/BoSSSpad/bin/Debug/net5.0/BoSSSpad.dll\"\n",
    "#r \"BoSSSpad/BoSSSpad.dll\"\n",
    "using System;\n",
    "using System.Collections.Generic;\n",
    "using System.Linq;\n",
    "using ilPSP;\n",
    "using ilPSP.Utils;\n",
    "using BoSSS.Platform;\n",
    "using BoSSS.Foundation;\n",
    "using BoSSS.Foundation.XDG;\n",
    "using BoSSS.Foundation.Grid;\n",
    "using BoSSS.Foundation.Grid.Classic;\n",
    "using BoSSS.Foundation.IO;\n",
    "using BoSSS.Solution;\n",
    "using BoSSS.Solution.Control;\n",
    "using BoSSS.Solution.GridImport;\n",
    "using BoSSS.Solution.Statistic;\n",
    "using BoSSS.Solution.Utils;\n",
    "using BoSSS.Solution.AdvancedSolvers;\n",
    "using BoSSS.Solution.Gnuplot;\n",
    "using BoSSS.Application.BoSSSpad;\n",
    "using BoSSS.Application.XNSE_Solver;\n",
    "using static BoSSS.Application.BoSSSpad.BoSSSshell;\n",
    "Init();"
   ]
  },
  {
   "cell_type": "code",
   "execution_count": null,
   "metadata": {
    "dotnet_interactive": {
     "language": "csharp"
    },
    "vscode": {
     "languageId": "dotnet-interactive.csharp"
    }
   },
   "outputs": [],
   "source": [
    "using System.Collections;\n",
    "using ilPSP.Connectors.Matlab;\n",
    "using ilPSP.LinSolvers;\n",
    "using BoSSS.Solution.Tecplot;"
   ]
  },
  {
   "cell_type": "code",
   "execution_count": null,
   "metadata": {
    "dotnet_interactive": {
     "language": "csharp"
    },
    "vscode": {
     "languageId": "dotnet-interactive.csharp"
    }
   },
   "outputs": [],
   "source": [
    "static Func<double[], bool> IsWallBaseNoSlipBndy = null;\n",
    "static Func<double[], bool> IsWallBaseSlipBndy = null;\n",
    "static Func<double[], double[]> UWallBase = null;\n",
    "static double lSlip = 0.1;\n",
    "\n",
    "static Func<double[], bool> IsWallCornerNoSlipBndy = null;    // is true for wallBC\n",
    "static Func<double[], bool> IsWallCornerSlipBndy = null;    // is true for slipBC\n",
    "//Func<double[], double[]> UWallCorner = null;\n",
    "\n",
    "static Func<double[], bool> IsOutletBndy = null;\n",
    "static Func<double[], double[]> pOut = null;\n",
    "static Func<double[], bool> IsVelOutletBndy = null;\n",
    "static Func<double[], double[]> Uout = null;\n",
    "\n",
    "static CellMask singlrtyMask;"
   ]
  },
  {
   "cell_type": "code",
   "execution_count": null,
   "metadata": {
    "dotnet_interactive": {
     "language": "csharp"
    },
    "vscode": {
     "languageId": "dotnet-interactive.csharp"
    }
   },
   "outputs": [],
   "source": [
    "public class Divergence : BoSSS.Foundation.IEdgeForm, BoSSS.Foundation.IVolumeForm {\n",
    "\n",
    "    bool localAnsatz;\n",
    "    bool NoBndy;\n",
    "    \n",
    "    public Divergence(bool _locAnsatz = false, bool _NoBndy = false) {\n",
    "         localAnsatz = _locAnsatz;\n",
    "         NoBndy      = _NoBndy;\n",
    "    }\n",
    "    \n",
    "    \n",
    "    public IList<string> ParameterOrdering {   \n",
    "        get { return null; }\n",
    "    }\n",
    "    \n",
    "    public IList<string> ArgumentOrdering {   \n",
    "        get { return new string[] { \"u\", \"v\" }; }\n",
    "    }\n",
    "    \n",
    "    public TermActivationFlags VolTerms {   \n",
    "        get { return TermActivationFlags.AllOn;}\n",
    "    }\n",
    "    \n",
    "    public TermActivationFlags InnerEdgeTerms {   \n",
    "        get { return TermActivationFlags.AllOn;}\n",
    "    }\n",
    "    \n",
    "    public TermActivationFlags BoundaryEdgeTerms {   \n",
    "        get { return TermActivationFlags.AllOn;}\n",
    "    }\n",
    "    \n",
    "    public double VolumeForm(ref CommonParamsVol cpv, double[] U, double[,] GradU, double V, double[] GradV) {\n",
    "        double Acc = 0;\n",
    "        for(int d = 0; d < cpv.D; d++) {     \n",
    "            Acc -= GradU[d,d]*V; \n",
    "        }\n",
    "        return (!localAnsatz) ? Acc : 0.0;\n",
    "    }\n",
    "    \n",
    "    public double InnerEdgeForm(ref CommonParams inp, double[] U_IN, double[] U_OT, double[,] GradU_IN, double[,] GradU_OT,\n",
    "        double V_IN, double V_OT, double[] GradV_IN, double[] GradV_OT) {\n",
    "    \n",
    "        double Acc = 0;\n",
    "        for(int d = 0; d < inp.D; d++) {\n",
    "            Acc += 0.5*(V_IN + V_OT)*(U_IN[d] - U_OT[d])*inp.Normal[d];\n",
    "        }      \n",
    "        return (!localAnsatz) ? Acc : 0.0;\n",
    "    }\n",
    "    \n",
    "    public double BoundaryEdgeForm(ref CommonParamsBnd inp, double[] U_IN, double[,] GradU_IN, double V_IN, double[] GradV_IN) {\n",
    "    \n",
    "        if(NoBndy)\n",
    "            return 0.0;\n",
    "        \n",
    "        double Acc = 0.0; \n",
    "\n",
    "        // wall base\n",
    "        if((IsWallBaseNoSlipBndy(inp.X))||(IsWallBaseSlipBndy(inp.X))){\n",
    "            double[] UD = UWallBase(inp.X);\n",
    "            for(int d = 0; d < inp.D; d++) {          \n",
    "                Acc += (U_IN[d] - UD[d])*inp.Normal[d]*V_IN;\n",
    "            }\n",
    "        }\n",
    "        // wall corner\n",
    "        if((IsWallCornerNoSlipBndy(inp.X))||(IsWallCornerSlipBndy(inp.X))){\n",
    "            for(int d = 0; d < inp.D; d++) {          \n",
    "                Acc += (U_IN[d] - 0.0)*inp.Normal[d]*V_IN;\n",
    "            }\n",
    "        }\n",
    "        // outlet\n",
    "        if(IsOutletBndy(inp.X)){\n",
    "        // Acc = 0.0;\n",
    "        }\n",
    "\n",
    "        return (!localAnsatz) ? Acc : 0.0;\n",
    "    }\n",
    "\n",
    "}"
   ]
  },
  {
   "cell_type": "code",
   "execution_count": null,
   "metadata": {
    "dotnet_interactive": {
     "language": "csharp"
    },
    "vscode": {
     "languageId": "dotnet-interactive.csharp"
    }
   },
   "outputs": [],
   "source": [
    "public class Gradient_d : BoSSS.Foundation.IEdgeForm, BoSSS.Foundation.IVolumeForm {\n",
    "\n",
    "    bool NoBndy;\n",
    "    \n",
    "    public Gradient_d(int _d, bool _NoBndy = false) {\n",
    "        this.d = _d;\n",
    "        NoBndy = _NoBndy;\n",
    "    }\n",
    "    \n",
    "    int d;\n",
    "    \n",
    "    public IList<string> ParameterOrdering {   \n",
    "        get { return null; }\n",
    "    }\n",
    "    \n",
    "    public IList<string> ArgumentOrdering {   \n",
    "        get { return new string[] { \"p\" }; }\n",
    "    }\n",
    "    \n",
    "    public TermActivationFlags VolTerms {   \n",
    "        get { return TermActivationFlags.AllOn;}\n",
    "    }\n",
    "    \n",
    "    public TermActivationFlags InnerEdgeTerms {   \n",
    "        get { return TermActivationFlags.AllOn;}\n",
    "    }\n",
    "    \n",
    "    public TermActivationFlags BoundaryEdgeTerms {   \n",
    "        get { return TermActivationFlags.AllOn;}\n",
    "    }\n",
    "    \n",
    "    public double VolumeForm(ref CommonParamsVol cpv, double[] U, double[,] GradU, double V, double[] GradV) {\n",
    "        double Acc = 0;  \n",
    "        Acc -= U[0]*GradV[d]; \n",
    "        return Acc;\n",
    "    }\n",
    "    \n",
    "    public double InnerEdgeForm(ref CommonParams inp, double[] U_IN, double[] U_OT, double[,] GradU_IN, double[,] GradU_OT,\n",
    "        double V_IN, double V_OT, double[] GradV_IN, double[] GradV_OT) {\n",
    "    \n",
    "        double Acc = 0;\n",
    "        Acc += 0.5*(U_IN[0] + U_OT[0])*inp.Normal[d]*(V_IN - V_OT); \n",
    "        return Acc;\n",
    "    }\n",
    "    \n",
    "    public double BoundaryEdgeForm(ref CommonParamsBnd inp, double[] U_IN, double[,] GradU_IN, double V_IN, double[] GradV_IN) {\n",
    "    \n",
    "        if(NoBndy)\n",
    "            return 0.0;\n",
    "        \n",
    "        double Acc = 0.0;\n",
    "\n",
    "        if(IsOutletBndy(inp.X)){\n",
    "            Acc = pOut(inp.X)[0]*inp.Normal[d]*V_IN;\n",
    "        } else {\n",
    "            Acc = U_IN[0]*inp.Normal[d]*V_IN;  \n",
    "        }\n",
    "\n",
    "        return Acc;\n",
    "    }\n",
    "\n",
    "}"
   ]
  },
  {
   "cell_type": "code",
   "execution_count": null,
   "metadata": {
    "dotnet_interactive": {
     "language": "csharp"
    },
    "vscode": {
     "languageId": "dotnet-interactive.csharp"
    }
   },
   "outputs": [],
   "source": [
    "public class LogGradient_d : BoSSS.Foundation.IEdgeForm, BoSSS.Foundation.IVolumeForm {\n",
    "\n",
    "    bool NoBndy;\n",
    "    \n",
    "    public LogGradient_d(int _d, bool _NoBndy = false) {\n",
    "        this.d = _d;\n",
    "        NoBndy = _NoBndy;\n",
    "    }\n",
    "    \n",
    "    int d;\n",
    "    \n",
    "    public IList<string> ParameterOrdering {   \n",
    "        get { return null; }\n",
    "    }\n",
    "    \n",
    "    public IList<string> ArgumentOrdering {   \n",
    "        get { return new string[] { \"p\" }; }\n",
    "    }\n",
    "    \n",
    "    public TermActivationFlags VolTerms {   \n",
    "        get { return TermActivationFlags.AllOn;}\n",
    "    }\n",
    "    \n",
    "    public TermActivationFlags InnerEdgeTerms {   \n",
    "        get { return TermActivationFlags.AllOn;}\n",
    "    }\n",
    "    \n",
    "    public TermActivationFlags BoundaryEdgeTerms {   \n",
    "        get { return TermActivationFlags.AllOn;}\n",
    "    }\n",
    "    \n",
    "    private double GetDistanceToSingularity(double[] X){\n",
    "        return Math.Sqrt(X[0].Pow2() + X[1].Pow2());\n",
    "    }\n",
    "    \n",
    "    public double VolumeForm(ref CommonParamsVol cpv, double[] U, double[,] GradU, double V, double[] GradV) {\n",
    "        double Acc = 0;  \n",
    "        double r   = GetDistanceToSingularity(cpv.Xglobal);\n",
    "        Acc -= (1.0/lSlip)*Math.Log(r)*GradV[d]; \n",
    "        return (singlrtyMask.Contains(cpv.jCell)) ? Acc : 0.0;\n",
    "    }\n",
    "    \n",
    "    public double InnerEdgeForm(ref CommonParams inp, double[] U_IN, double[] U_OT, double[,] GradU_IN, double[,] GradU_OT,\n",
    "        double V_IN, double V_OT, double[] GradV_IN, double[] GradV_OT) {\n",
    "    \n",
    "        double Acc = 0;\n",
    "        double r   = GetDistanceToSingularity(inp.X);\n",
    "        Acc += (1.0/lSlip)*Math.Log(r)*inp.Normal[d]*(V_IN - V_OT); \n",
    "        return (singlrtyMask.Contains(inp.jCellIn)) ? Acc : 0.0;\n",
    "    }\n",
    "    \n",
    "    public double BoundaryEdgeForm(ref CommonParamsBnd inp, double[] U_IN, double[,] GradU_IN, double V_IN, double[] GradV_IN) {\n",
    "    \n",
    "        if(NoBndy)\n",
    "            return 0.0;\n",
    "        \n",
    "        double Acc = 0.0;\n",
    "\n",
    "        if(IsOutletBndy(inp.X)){\n",
    "            Acc = pOut(inp.X)[0]*inp.Normal[d]*V_IN;\n",
    "        } else {\n",
    "            double r = GetDistanceToSingularity(inp.X);\n",
    "            Acc      = (1.0/lSlip)*Math.Log(r)*inp.Normal[d]*V_IN;  \n",
    "        }\n",
    "        \n",
    "        //double r = GetDistanceToSingularity(inp.X);\n",
    "        //Acc      = Math.Log(r)*inp.Normale[d]*V_IN;  \n",
    "\n",
    "        return (singlrtyMask.Contains(inp.jCellIn)) ? Acc : 0.0;\n",
    "    }\n",
    "\n",
    "}"
   ]
  },
  {
   "cell_type": "code",
   "execution_count": null,
   "metadata": {
    "dotnet_interactive": {
     "language": "csharp"
    },
    "vscode": {
     "languageId": "dotnet-interactive.csharp"
    }
   },
   "outputs": [],
   "source": [
    "public class ConstGradient_d : BoSSS.Foundation.IEdgeForm, BoSSS.Foundation.IVolumeForm {\n",
    "\n",
    "    bool NoBndy;\n",
    "    \n",
    "    public ConstGradient_d(int _d, bool _NoBndy = false) {\n",
    "        this.d = _d;\n",
    "        NoBndy = _NoBndy;\n",
    "    }\n",
    "    \n",
    "    int d;\n",
    "    \n",
    "    public IList<string> ParameterOrdering {   \n",
    "        get { return null; }\n",
    "    }\n",
    "    \n",
    "    public IList<string> ArgumentOrdering {   \n",
    "        get { return new string[] { \"p\" }; }\n",
    "    }\n",
    "    \n",
    "    public TermActivationFlags VolTerms {   \n",
    "        get { return TermActivationFlags.AllOn;}\n",
    "    }\n",
    "    \n",
    "    public TermActivationFlags InnerEdgeTerms {   \n",
    "        get { return TermActivationFlags.AllOn;}\n",
    "    }\n",
    "    \n",
    "    public TermActivationFlags BoundaryEdgeTerms {   \n",
    "        get { return TermActivationFlags.AllOn;}\n",
    "    }\n",
    "    \n",
    "    \n",
    "    public double VolumeForm(ref CommonParamsVol cpv, double[] U, double[,] GradU, double V, double[] GradV) {\n",
    "        double Acc = 0;  \n",
    "        Acc -= 1.0*GradV[d]; \n",
    "        return (singlrtyMask.Contains(cpv.jCell)) ? Acc : 0.0;\n",
    "    }\n",
    "    \n",
    "    public double InnerEdgeForm(ref CommonParams inp, double[] U_IN, double[] U_OT, double[,] GradU_IN, double[,] GradU_OT,\n",
    "        double V_IN, double V_OT, double[] GradV_IN, double[] GradV_OT) {\n",
    "    \n",
    "        double Acc = 0;\n",
    "        Acc += 1.0*inp.Normal[d]*(V_IN - V_OT); \n",
    "        return (singlrtyMask.Contains(inp.jCellIn)) ? Acc : 0.0;\n",
    "    }\n",
    "    \n",
    "    public double BoundaryEdgeForm(ref CommonParamsBnd inp, double[] U_IN, double[,] GradU_IN, double V_IN, double[] GradV_IN) {\n",
    "    \n",
    "        if(NoBndy)\n",
    "            return 0.0;\n",
    "        \n",
    "        double Acc = 0.0;\n",
    "\n",
    "        if(IsOutletBndy(inp.X)){\n",
    "            Acc = pOut(inp.X)[0]*inp.Normal[d]*V_IN;\n",
    "        } else {\n",
    "            Acc = 1.0*inp.Normal[d]*V_IN;  \n",
    "        }\n",
    "        \n",
    "        //Acc = 1.0*inp.Normale[d]*V_IN;  \n",
    "\n",
    "        return (singlrtyMask.Contains(inp.jCellIn)) ? Acc : 0.0;\n",
    "    }\n",
    "\n",
    "}"
   ]
  },
  {
   "cell_type": "code",
   "execution_count": null,
   "metadata": {
    "dotnet_interactive": {
     "language": "csharp"
    },
    "vscode": {
     "languageId": "dotnet-interactive.csharp"
    }
   },
   "outputs": [],
   "source": [
    "public class Viscous : BoSSS.Foundation.IEdgeForm, BoSSS.Foundation.IVolumeForm {\n",
    "\n",
    "    bool localAnsatz;\n",
    "    bool NoBndy;\n",
    "    \n",
    "    public Viscous(int _d, bool _locAnsatz = false, bool _NoBndy = false) {\n",
    "        localAnsatz = _locAnsatz;\n",
    "        NoBndy      = _NoBndy;\n",
    "        this.m_d    = _d;\n",
    "    }\n",
    "    \n",
    "    int m_d;\n",
    "    \n",
    "    double m_alpha = 1.0;\n",
    "    \n",
    "    public static double Re;\n",
    "    public static int PolynomialDegree;\n",
    "    public static MultidimensionalArray cj;\n",
    "    \n",
    "    public IList<string> ParameterOrdering {   \n",
    "        get { return null; }\n",
    "    }\n",
    "    \n",
    "    public IList<string> ArgumentOrdering {   \n",
    "        get { return new string[] { \"u\", \"v\" }; }\n",
    "    }\n",
    "    \n",
    "    public TermActivationFlags VolTerms {   \n",
    "        get { return TermActivationFlags.AllOn;}\n",
    "    }\n",
    "    \n",
    "    public TermActivationFlags InnerEdgeTerms {   \n",
    "        get { return TermActivationFlags.AllOn;}\n",
    "    }\n",
    "    \n",
    "    public TermActivationFlags BoundaryEdgeTerms {   \n",
    "        get { return TermActivationFlags.AllOn;}\n",
    "    }\n",
    "    \n",
    "    public double VolumeForm(ref CommonParamsVol cpv, double[] U, double[,] GradU, double V, double[] GradV) {\n",
    "        double Acc = 0.0; \n",
    "        for(int d = 0; d < cpv.D; d++) {        \n",
    "            Acc += GradU[m_d, d]*GradV[d]; \n",
    "        }\n",
    "        return (!localAnsatz) ? (1/Re)*Acc : 0.0;\n",
    "    }\n",
    "    \n",
    "    public double InnerEdgeForm(ref CommonParams inp, double[] U_IN, double[] U_OT, double[,] GradU_IN, double[,] GradU_OT,\n",
    "        double V_IN, double V_OT, double[] GradV_IN, double[] GradV_OT) {\n",
    "    \n",
    "        double eta = PenaltyFactor(inp.jCellIn, inp.jCellOut);\n",
    "        \n",
    "        double Acc = 0.0;\n",
    "        for(int d = 0; d < inp.D; d++) {    \n",
    "            Acc -= 0.5*(GradU_IN[m_d, d] + GradU_OT[m_d, d])*(V_IN - V_OT)*inp.Normal[d]*m_alpha; \n",
    "            Acc -= 0.5*(GradV_IN[d] + GradV_OT[d])*(U_IN[m_d] - U_OT[m_d])*inp.Normal[d]*m_alpha; \n",
    "        }\n",
    "        Acc += eta*(U_IN[m_d] - U_OT[m_d])*(V_IN - V_OT); \n",
    "        return (!localAnsatz) ? (1/Re)*Acc : 0.0;\n",
    "    }\n",
    "    \n",
    "    public double BoundaryEdgeForm(ref CommonParamsBnd inp, double[] U_IN, double[,] GradU_IN, double V_IN, double[] GradV_IN) {\n",
    "    \n",
    "        if(NoBndy)\n",
    "            return 0.0;\n",
    "                \n",
    "        double Acc = 0.0;\n",
    "        double eta = PenaltyFactor(inp.jCellIn, -1);\n",
    "               \n",
    "        if(IsWallBaseNoSlipBndy(inp.X)||IsWallCornerNoSlipBndy(inp.X)) {      \n",
    "\n",
    "            double uBnd;\n",
    "            if(IsWallBaseNoSlipBndy(inp.X)) {\n",
    "                uBnd = UWallBase(inp.X)[m_d];\n",
    "            } else {\n",
    "                uBnd = 0.0;\n",
    "            }\n",
    "            \n",
    "            for(int d = 0; d < inp.D; d++) {    \n",
    "                Acc -= GradU_IN[m_d, d]*V_IN*inp.Normal[d]*m_alpha; \n",
    "                Acc -= GradV_IN[d]*(U_IN[m_d] - uBnd)*inp.Normal[d]*m_alpha; \n",
    "            }\n",
    "\n",
    "            Acc += eta*(U_IN[m_d] - uBnd)*V_IN; \n",
    "            \n",
    "            return (!localAnsatz) ? (1/Re)*Acc : 0.0; \n",
    "        }        \n",
    "        \n",
    "        if(IsOutletBndy(inp.X)) {\n",
    "\n",
    "            return 0.0;\n",
    "        }\n",
    "        \n",
    "        if(IsWallBaseSlipBndy(inp.X)||IsWallCornerSlipBndy(inp.X)) {\n",
    "        \n",
    "            int D = inp.D;\n",
    "            double[] g_D; // = UWallBase(inp.X);\n",
    "            double beta; // = 1/lSlip;\n",
    "            \n",
    "            if(IsWallBaseSlipBndy(inp.X)){\n",
    "                g_D  = UWallBase(inp.X);\n",
    "                beta = 1.0/lSlip;\n",
    "            } else {\n",
    "                g_D  = new double[] {0.0, 0.0};\n",
    "                beta = 0.0;\n",
    "            }\n",
    "\n",
    "            for(int dN = 0; dN < D; dN++) {\n",
    "                for(int dD = 0; dD < D; dD++) {\n",
    "                    // consistency\n",
    "                    Acc -= (inp.Normal[dN] * GradU_IN[dN, dD] * inp.Normal[dD]) * (V_IN * inp.Normal[m_d]) * m_alpha;\n",
    "                    // symmetry\n",
    "                    Acc -= (inp.Normal[m_d] * GradV_IN[dD] * inp.Normal[dD]) * (U_IN[dN] - g_D[dN]) * inp.Normal[dN] * m_alpha;\n",
    "                }\n",
    "                // penalty\n",
    "                Acc += ((U_IN[dN] - g_D[dN]) * inp.Normal[dN]) * ((V_IN - 0) * inp.Normal[m_d]) * eta;\n",
    "            }\n",
    "            \n",
    "             double[,] P = new double[D, D];\n",
    "             for(int d1 = 0; d1 < D; d1++) {\n",
    "             for(int d2 = 0; d2 < D; d2++) {\n",
    "                 double nn = inp.Normal[d1] * inp.Normal[d2];\n",
    "                 if(d1 == d2) {\n",
    "                     P[d1, d2] = 1 - nn;\n",
    "                 } else {\n",
    "                     P[d1, d2] = -nn;\n",
    "                 }\n",
    "             }\n",
    "             }\n",
    "\n",
    "             // tangential dissipation force term\n",
    "             for(int d1 = 0; d1 < D; d1++) {\n",
    "                 for(int d2 = 0; d2 < D; d2++) {\n",
    "                     //g_D = USlip(inp.X)[d2];\n",
    "                     Acc += (beta * P[d1, d2] * (U_IN[d2] - g_D[d2])) * (P[d1, m_d] * V_IN) * m_alpha;\n",
    "                 }\n",
    "             }\n",
    "            \n",
    "             return (!localAnsatz) ? (1/Re)*Acc : 0.0; \n",
    "        }\n",
    "\n",
    "        \n",
    "        return (!localAnsatz) ? (1/Re)*Acc : 0.0; \n",
    "    }\n",
    "    \n",
    "    \n",
    "    double PenaltyFactor(int jCellIn, int jCellOut) {\n",
    "        double PenaltySafety = 2;\n",
    "        double cj_in         = cj[jCellIn];\n",
    "        double penalty_base  = PenaltySafety * PolynomialDegree*PolynomialDegree; \n",
    "        double eta           = penalty_base * cj_in; \n",
    "        if(jCellOut >= 0) {\n",
    "            double cj_out = cj[jCellOut];\n",
    "            eta           = Math.Max(eta, penalty_base*cj_out);\n",
    "        }\n",
    "        return eta;\n",
    "    }\n",
    "\n",
    "};"
   ]
  },
  {
   "cell_type": "code",
   "execution_count": null,
   "metadata": {
    "dotnet_interactive": {
     "language": "csharp"
    },
    "vscode": {
     "languageId": "dotnet-interactive.csharp"
    }
   },
   "outputs": [],
   "source": [
    "double baseL = 10;\n",
    "double theta = Math.PI*1.0/4.0;\n",
    "int lvl      = 3;\n",
    "Grid2D grd_Corner;"
   ]
  },
  {
   "cell_type": "code",
   "execution_count": null,
   "metadata": {
    "dotnet_interactive": {
     "language": "csharp"
    },
    "vscode": {
     "languageId": "dotnet-interactive.csharp"
    }
   },
   "outputs": [],
   "source": [
    "if (theta<(Math.PI/2)){\n",
    "\n",
    "    grd_Corner = Grid2D.AcuteCornerTriangleGrid(baseL, theta, lvl);\n",
    "    \n",
    "    IsWallBaseSlipBndy   = (X => (Math.Abs(X[1]) <= 1.0e-8));\n",
    "    IsWallBaseNoSlipBndy = (X => false);\n",
    "    UWallBase            = (X => new double[] {-1.0, 0.0});\n",
    "    \n",
    "    IsWallCornerSlipBndy   = (X => (X[0] > -baseL * Math.Cos(theta)) && (X[1] > 1.0e-8));\n",
    "    IsWallCornerNoSlipBndy = (X => false); //(X[0] > -baseL * Math.Cos(theta)) && (X[1] > 1.0e-8));\n",
    "\n",
    "    IsOutletBndy = (X =>(X[0] < -baseL * Math.Cos(theta)) && (X[1] > 1.0e-8));\n",
    "    pOut         = (X => new double[] {0.0});\n",
    "    \n",
    "} else {\n",
    "\n",
    "    grd_Corner = Grid2D.ObtuseCornerTriangleGrid(baseL, theta, lvl);\n",
    "\n",
    "    IsWallBaseSlipBndy   = (X => (Math.Abs(X[1]) <= 1.0e-8));\n",
    "    IsWallBaseNoSlipBndy = (X => false);\n",
    "    UWallBase            = (X => new double[] {-1.0, 0.0});\n",
    "    \n",
    "    IsWallCornerSlipBndy   = (X => (X[0] > 1.0e-8) && (X[1] < baseL * Math.Cos(theta - (Math.PI/2.0))));\n",
    "    IsWallCornerNoSlipBndy = (X => false); //(X[0] > 1.0e-8) && (X[1] < baseL * Math.Cos(theta - (Math.PI/2.0))));\n",
    "    \n",
    "    IsOutletBndy = (X => ((X[0] <= baseL * (Math.Sin(theta - (Math.PI / 2.0)) - 1)) && (X[1] > 1.0e-8)) || (Math.Abs(X[1] - baseL * Math.Cos(theta - (Math.PI / 2.0))) <= 1.0e-8));\n",
    "    pOut         = (X => new double[] {0.0});\n",
    "    \n",
    "};\n",
    "var grdDat_Corner = new GridData(grd_Corner);"
   ]
  },
  {
   "cell_type": "code",
   "execution_count": null,
   "metadata": {
    "dotnet_interactive": {
     "language": "csharp"
    },
    "vscode": {
     "languageId": "dotnet-interactive.csharp"
    }
   },
   "outputs": [],
   "source": [
    "BitArray CellArray                = new BitArray(grdDat_Corner.Cells.NoOfLocalUpdatedCells);\n",
    "MultidimensionalArray CellCenters = grdDat_Corner.Cells.CellCenter;\n",
    "double singlrtyR                  = 10;\n",
    "for(int i = 0; i < grdDat_Corner.Cells.NoOfLocalUpdatedCells; i++) {\n",
    "    double r = Math.Sqrt(CellCenters[i,0].Pow2() + CellCenters[i,1].Pow2());\n",
    "    CellArray[i] = (r < singlrtyR);\n",
    "}\n",
    "singlrtyMask = new CellMask(grdDat_Corner, CellArray, MaskType.Logical);"
   ]
  },
  {
   "cell_type": "code",
   "execution_count": null,
   "metadata": {
    "dotnet_interactive": {
     "language": "csharp"
    },
    "vscode": {
     "languageId": "dotnet-interactive.csharp"
    }
   },
   "outputs": [
    {
     "data": {
      "text/html": [
       "<div class=\"dni-plaintext\">64</div>"
      ]
     },
     "metadata": {},
     "output_type": "display_data"
    }
   ],
   "source": [
    "singlrtyMask.NoOfItemsLocally_WithExternal"
   ]
  },
  {
   "cell_type": "code",
   "execution_count": null,
   "metadata": {
    "dotnet_interactive": {
     "language": "csharp"
    },
    "vscode": {
     "languageId": "dotnet-interactive.csharp"
    }
   },
   "outputs": [],
   "source": [
    "var VelB_Corner   = new Basis(grdDat_Corner, 2); \n",
    "var PsiB_Corner   = new Basis(grdDat_Corner, 1); \n",
    "var varMap_Corner = new UnsetteledCoordinateMapping(VelB_Corner, VelB_Corner, PsiB_Corner); "
   ]
  },
  {
   "cell_type": "code",
   "execution_count": null,
   "metadata": {
    "dotnet_interactive": {
     "language": "csharp"
    },
    "vscode": {
     "languageId": "dotnet-interactive.csharp"
    }
   },
   "outputs": [],
   "source": [
    "int locOrder = 34;"
   ]
  },
  {
   "cell_type": "code",
   "execution_count": null,
   "metadata": {
    "dotnet_interactive": {
     "language": "csharp"
    },
    "vscode": {
     "languageId": "dotnet-interactive.csharp"
    }
   },
   "outputs": [],
   "source": [
    "SpatialOperator Stokes = new SpatialOperator(3, 3, QuadOrderFunc.FixedOrder(locOrder), \"u\", \"v\", \"p\", \"mom_x\", \"mom_y\", \"conti\"); \n",
    "Stokes.EquationComponents[\"mom_x\"].Add(new Gradient_d(0));\n",
    "Stokes.EquationComponents[\"mom_x\"].Add(new Viscous(0));\n",
    "Stokes.EquationComponents[\"mom_y\"].Add(new Gradient_d(1));\n",
    "Stokes.EquationComponents[\"mom_y\"].Add(new Viscous(1));\n",
    "Stokes.EquationComponents[\"conti\"].Add(new Divergence());\n",
    "Stokes.Commit();"
   ]
  },
  {
   "cell_type": "code",
   "execution_count": null,
   "metadata": {
    "dotnet_interactive": {
     "language": "csharp"
    },
    "vscode": {
     "languageId": "dotnet-interactive.csharp"
    }
   },
   "outputs": [],
   "source": [
    "bool locAnsatz            = false;\n",
    "bool NoBndy               = false;\n",
    "SpatialOperator LogStokes = new SpatialOperator(3, 3, QuadOrderFunc.FixedOrder(locOrder), \"u\", \"v\", \"p\", \"mom_x\", \"mom_y\", \"conti\");\n",
    "LogStokes.EquationComponents[\"mom_x\"].Add(new LogGradient_d(0, NoBndy));\n",
    "LogStokes.EquationComponents[\"mom_x\"].Add(new Viscous(0, locAnsatz, NoBndy));\n",
    "LogStokes.EquationComponents[\"mom_y\"].Add(new LogGradient_d(1, NoBndy));\n",
    "LogStokes.EquationComponents[\"mom_y\"].Add(new Viscous(1, locAnsatz, NoBndy));\n",
    "//LogStokes.EquationComponents[\"conti\"].Add(new Divergence(locAnsatz, NoBndy));\n",
    "LogStokes.Commit();"
   ]
  },
  {
   "cell_type": "code",
   "execution_count": null,
   "metadata": {
    "dotnet_interactive": {
     "language": "csharp"
    },
    "vscode": {
     "languageId": "dotnet-interactive.csharp"
    }
   },
   "outputs": [],
   "source": [
    "SpatialOperator ConstStokes = new SpatialOperator(3, 3, QuadOrderFunc.Linear(), \"u\", \"v\", \"p\", \"mom_x\", \"mom_y\", \"conti\");\n",
    "ConstStokes.EquationComponents[\"mom_x\"].Add(new ConstGradient_d(0, NoBndy));\n",
    "ConstStokes.EquationComponents[\"mom_x\"].Add(new Viscous(0, locAnsatz, NoBndy));\n",
    "ConstStokes.EquationComponents[\"mom_y\"].Add(new ConstGradient_d(1, NoBndy));\n",
    "ConstStokes.EquationComponents[\"mom_y\"].Add(new Viscous(1, locAnsatz, NoBndy));\n",
    "//ConstStokes.EquationComponents[\"conti\"].Add(new Divergence(locAnsatz, NoBndy));\n",
    "ConstStokes.Commit();"
   ]
  },
  {
   "cell_type": "code",
   "execution_count": null,
   "metadata": {
    "dotnet_interactive": {
     "language": "csharp"
    },
    "vscode": {
     "languageId": "dotnet-interactive.csharp"
    }
   },
   "outputs": [],
   "source": [
    "Viscous.Re               = 1.0;\n",
    "Viscous.PolynomialDegree = VelB_Corner.Degree;\n",
    "Viscous.cj               = grdDat_Corner.Cells.cj;"
   ]
  },
  {
   "cell_type": "code",
   "execution_count": null,
   "metadata": {
    "dotnet_interactive": {
     "language": "csharp"
    },
    "vscode": {
     "languageId": "dotnet-interactive.csharp"
    }
   },
   "outputs": [],
   "source": [
    "var StokesMatrix_Corner = new BlockMsrMatrix(varMap_Corner, varMap_Corner);\n",
    "var StokesAffine_Corner = new double[varMap_Corner.LocalLength];\n",
    "var mtxBuilder          = Stokes.GetMatrixBuilder(varMap_Corner, null, varMap_Corner);\n",
    "mtxBuilder.ComputeMatrix(StokesMatrix_Corner, StokesAffine_Corner);"
   ]
  },
  {
   "cell_type": "code",
   "execution_count": null,
   "metadata": {
    "dotnet_interactive": {
     "language": "csharp"
    },
    "vscode": {
     "languageId": "dotnet-interactive.csharp"
    }
   },
   "outputs": [],
   "source": [
    "SinglePhaseField u              = new SinglePhaseField(VelB_Corner,\"u\");\n",
    "SinglePhaseField v              = new SinglePhaseField(VelB_Corner,\"v\");\n",
    "SinglePhaseField psi            = new SinglePhaseField(PsiB_Corner,\"p\");\n",
    "CoordinateVector SolutionCorner = new CoordinateVector(u,v,psi);"
   ]
  },
  {
   "cell_type": "code",
   "execution_count": null,
   "metadata": {
    "dotnet_interactive": {
     "language": "csharp"
    },
    "vscode": {
     "languageId": "dotnet-interactive.csharp"
    }
   },
   "outputs": [],
   "source": [
    "double[] RHS = StokesAffine_Corner.CloneAs();\n",
    "RHS.ScaleV(-1.0);\n",
    "//RHS.SaveToTextFile(\"RHS\");\n",
    "StokesMatrix_Corner.Solve_Direct(SolutionCorner, RHS);"
   ]
  },
  {
   "cell_type": "code",
   "execution_count": null,
   "metadata": {
    "dotnet_interactive": {
     "language": "csharp"
    },
    "vscode": {
     "languageId": "dotnet-interactive.csharp"
    }
   },
   "outputs": [
    {
     "name": "stdout",
     "output_type": "stream",
     "text": [
      "Writing output file plots/CornerFlow45_singularitySolution...\r\n",
      "done.\r\n"
     ]
    }
   ],
   "source": [
    "double thetaGrad = theta * (180.0 / Math.PI);\n",
    "string pltName = \"CornerFlow\"+ thetaGrad;\n",
    "Tecplot(\"plots/\"+pltName+\"_singularitySolution\", 0.0 , 3, u, v, psi);"
   ]
  },
  {
   "cell_type": "code",
   "execution_count": null,
   "metadata": {
    "dotnet_interactive": {
     "language": "csharp"
    },
    "vscode": {
     "languageId": "dotnet-interactive.csharp"
    }
   },
   "outputs": [],
   "source": [
    "SinglePhaseField uL   = new SinglePhaseField(VelB_Corner,\"u\");\n",
    "SinglePhaseField vL   = new SinglePhaseField(VelB_Corner,\"v\");\n",
    "SinglePhaseField psiL = new SinglePhaseField(PsiB_Corner,\"p\");\n",
    "uL.Acc(1.0, u);\n",
    "vL.Acc(1.0, v);\n",
    "psiL.Acc(1.0, psi);\n",
    "CoordinateVector SolutionLog = new CoordinateVector(uL, vL, psiL);\n",
    "\n",
    "var LogEval = LogStokes.GetEvaluatorEx(SolutionLog.Mapping.Fields, null, varMap_Corner);\n",
    "LogEval.Evaluate(1.0, 0.0, SolutionLog);\n",
    "SolutionLog.SaveToTextFile(\"SolutionLog\");"
   ]
  },
  {
   "cell_type": "code",
   "execution_count": null,
   "metadata": {
    "dotnet_interactive": {
     "language": "csharp"
    },
    "vscode": {
     "languageId": "dotnet-interactive.csharp"
    }
   },
   "outputs": [],
   "source": [
    "SinglePhaseField uC   = new SinglePhaseField(VelB_Corner,\"u\");\n",
    "SinglePhaseField vC   = new SinglePhaseField(VelB_Corner,\"v\");\n",
    "SinglePhaseField psiC = new SinglePhaseField(PsiB_Corner,\"p\");\n",
    "uC.Acc(1.0, u);\n",
    "vC.Acc(1.0, v);\n",
    "psiC.Acc(1.0, psi);\n",
    "CoordinateVector SolutionConst = new CoordinateVector(uC, vC, psiC);\n",
    "\n",
    "var ConstEval = ConstStokes.GetEvaluatorEx(SolutionConst.Mapping.Fields, null, varMap_Corner);\n",
    "ConstEval.Evaluate(1.0, 0.0, SolutionConst);\n",
    "SolutionConst.SaveToTextFile(\"SolutionConst\");"
   ]
  },
  {
   "cell_type": "code",
   "execution_count": null,
   "metadata": {
    "dotnet_interactive": {
     "language": "csharp"
    },
    "vscode": {
     "languageId": "dotnet-interactive.csharp"
    }
   },
   "outputs": [],
   "source": [
    "MultidimensionalArray LSS = MultidimensionalArray.Create(new int[]{RHS.Count(),2});\n",
    "LSS.SetSubVector(SolutionLog, new int[] {-1, 0});\n",
    "LSS.SetSubVector(SolutionConst, new int[] {-1, 1});\n",
    "//LSS.SaveToTextFile(\"LSS\");\n",
    "//MultidimensionalArray LSST = LSS.Transpose();"
   ]
  },
  {
   "cell_type": "code",
   "execution_count": null,
   "metadata": {
    "dotnet_interactive": {
     "language": "csharp"
    },
    "vscode": {
     "languageId": "dotnet-interactive.csharp"
    }
   },
   "outputs": [],
   "source": [
    "double[] alpha = new double[2];\n",
    "LSS.LeastSquareSolve(alpha, RHS);"
   ]
  },
  {
   "cell_type": "code",
   "execution_count": null,
   "metadata": {
    "dotnet_interactive": {
     "language": "csharp"
    },
    "vscode": {
     "languageId": "dotnet-interactive.csharp"
    }
   },
   "outputs": [
    {
     "data": {
      "text/html": [
       "<table><thead><tr><th><i>index</i></th><th>value</th></tr></thead><tbody><tr><td>0</td><td>-0.007989641808245912</td></tr><tr><td>1</td><td>0.12374993501359935</td></tr></tbody></table>"
      ]
     },
     "metadata": {},
     "output_type": "display_data"
    }
   ],
   "source": [
    "alpha"
   ]
  },
  {
   "cell_type": "code",
   "execution_count": null,
   "metadata": {
    "dotnet_interactive": {
     "language": "csharp"
    },
    "vscode": {
     "languageId": "dotnet-interactive.csharp"
    }
   },
   "outputs": [],
   "source": [
    "MultidimensionalArray LSSTLSS = MultidimensionalArray.Create(new int[]{2,2});\n",
    "double[] LSSTRHS = new double[2];\n",
    "for(int i = 0; i < RHS.Count(); i++){\n",
    "LSSTLSS[0,0] += SolutionLog[i]*SolutionLog[i];\n",
    "LSSTLSS[0,1] += SolutionLog[i]*SolutionConst[i];\n",
    "LSSTLSS[1,0] += SolutionLog[i]*SolutionConst[i];\n",
    "LSSTLSS[1,1] += SolutionConst[i]*SolutionConst[i];\n",
    "LSSTRHS[0] += SolutionLog[i]*RHS[i];\n",
    "LSSTRHS[1] += SolutionConst[i]*RHS[i];\n",
    "}"
   ]
  },
  {
   "cell_type": "code",
   "execution_count": null,
   "metadata": {
    "dotnet_interactive": {
     "language": "csharp"
    },
    "vscode": {
     "languageId": "dotnet-interactive.csharp"
    }
   },
   "outputs": [],
   "source": [
    "double[] alpha2 = new double[2];\n",
    "LSSTLSS.Solve(alpha2, LSSTRHS)"
   ]
  },
  {
   "cell_type": "code",
   "execution_count": null,
   "metadata": {
    "dotnet_interactive": {
     "language": "csharp"
    },
    "vscode": {
     "languageId": "dotnet-interactive.csharp"
    }
   },
   "outputs": [
    {
     "data": {
      "text/html": [
       "<table><thead><tr><th><i>index</i></th><th>value</th></tr></thead><tbody><tr><td>0</td><td>-0.00798964180824593</td></tr><tr><td>1</td><td>0.12374993501359963</td></tr></tbody></table>"
      ]
     },
     "metadata": {},
     "output_type": "display_data"
    }
   ],
   "source": [
    "alpha2"
   ]
  },
  {
   "cell_type": "code",
   "execution_count": null,
   "metadata": {
    "dotnet_interactive": {
     "language": "csharp"
    },
    "vscode": {
     "languageId": "dotnet-interactive.csharp"
    }
   },
   "outputs": [],
   "source": [
    "double[] regRHS = RHS.CloneAs();\n",
    "regRHS.AccV(-alpha[0], SolutionLog);\n",
    "regRHS.AccV(-alpha[1], SolutionConst);\n",
    "//regRHS.AccV(-1.0, SolutionLog);\n",
    "//regRHS.AccV(-1.0, SolutionConst);\n",
    "//regRHS.SaveToTextFile(\"regRHS\");"
   ]
  },
  {
   "cell_type": "code",
   "execution_count": null,
   "metadata": {
    "dotnet_interactive": {
     "language": "csharp"
    },
    "vscode": {
     "languageId": "dotnet-interactive.csharp"
    }
   },
   "outputs": [],
   "source": [
    "SinglePhaseField uR          = new SinglePhaseField(VelB_Corner,\"u\");\n",
    "SinglePhaseField vR          = new SinglePhaseField(VelB_Corner,\"v\");\n",
    "SinglePhaseField psiR        = new SinglePhaseField(PsiB_Corner,\"p\");\n",
    "CoordinateVector regSolution = new CoordinateVector(uR, vR, psiR);"
   ]
  },
  {
   "cell_type": "code",
   "execution_count": null,
   "metadata": {
    "dotnet_interactive": {
     "language": "csharp"
    },
    "vscode": {
     "languageId": "dotnet-interactive.csharp"
    }
   },
   "outputs": [],
   "source": [
    "StokesMatrix_Corner.Solve_Direct( regSolution, regRHS);"
   ]
  },
  {
   "cell_type": "code",
   "execution_count": null,
   "metadata": {
    "dotnet_interactive": {
     "language": "csharp"
    },
    "vscode": {
     "languageId": "dotnet-interactive.csharp"
    }
   },
   "outputs": [
    {
     "name": "stdout",
     "output_type": "stream",
     "text": [
      "Writing output file plots/CornerFlow45_regularizedSolution...\r\n",
      "done.\r\n"
     ]
    }
   ],
   "source": [
    "Tecplot(\"plots/\"+pltName+\"_regularizedSolution\", 0.0 , 3, uR, vR, psiR);"
   ]
  },
  {
   "cell_type": "code",
   "execution_count": null,
   "metadata": {
    "dotnet_interactive": {
     "language": "csharp"
    },
    "vscode": {
     "languageId": "dotnet-interactive.csharp"
    }
   },
   "outputs": [],
   "source": [
    "SinglePhaseField psiAnsatz = new SinglePhaseField(PsiB_Corner);\n",
    "Func<double[], double> logAnsatz = X => alpha[0] * (1.0/lSlip) * Math.Log(Math.Sqrt(X[0].Pow2() + X[1].Pow2())) + alpha[1];\n",
    "psiAnsatz.ProjectField(logAnsatz);"
   ]
  },
  {
   "cell_type": "code",
   "execution_count": null,
   "metadata": {
    "dotnet_interactive": {
     "language": "csharp"
    },
    "vscode": {
     "languageId": "dotnet-interactive.csharp"
    }
   },
   "outputs": [],
   "source": [
    "SinglePhaseField psi2 = new SinglePhaseField(PsiB_Corner, \"p\");\n",
    "psi2.Acc(1.0, psiR);\n",
    "psi2.Acc(1.0, psiAnsatz);"
   ]
  },
  {
   "cell_type": "code",
   "execution_count": null,
   "metadata": {
    "dotnet_interactive": {
     "language": "csharp"
    },
    "vscode": {
     "languageId": "dotnet-interactive.csharp"
    }
   },
   "outputs": [
    {
     "name": "stdout",
     "output_type": "stream",
     "text": [
      "Writing output file plots/CornerFlow45_regainedSolution...\r\n",
      "done.\r\n"
     ]
    }
   ],
   "source": [
    "Tecplot(\"plots/\"+pltName+\"_regainedSolution\", 0.0 , 3, psi2);"
   ]
  }
 ],
 "metadata": {
  "kernelspec": {
   "display_name": ".NET (C#)",
   "language": "C#",
   "name": ".net-csharp"
  },
  "language_info": {
   "file_extension": ".cs",
   "mimetype": "text/x-csharp",
   "name": "C#",
   "pygments_lexer": "csharp",
   "version": "9.0"
  },
  "orig_nbformat": 4,
  "vscode": {
   "interpreter": {
    "hash": "bd28011af29de2135a410630f58408ea6d902a04ce8e0ef0138da630e900ba58"
   }
  }
 },
 "nbformat": 4,
 "nbformat_minor": 2
}

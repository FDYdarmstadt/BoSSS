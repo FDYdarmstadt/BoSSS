{
 "cells": [
  {
   "attachments": {},
   "cell_type": "markdown",
   "metadata": {},
   "source": [
    "# Part 4\n",
    "This notebook was added later, to produce the values used for Fig. 11 in `https://doi.org/10.1063/5.0139000`"
   ]
  },
  {
   "cell_type": "markdown",
   "metadata": {},
   "source": [
    "### First load some references"
   ]
  },
  {
   "cell_type": "code",
   "execution_count": null,
   "metadata": {
    "dotnet_interactive": {
     "language": "csharp"
    }
   },
   "outputs": [],
   "source": [
    "#r \"BoSSSpad.dll\"\n",
    "// #r \"..\\..\\src\\L4-application\\BoSSSpad\\bin\\Release\\net5.0\\BoSSSpad.dll\"\n",
    "using System;\n",
    "using System.Collections.Generic;\n",
    "using System.Linq;\n",
    "using System.IO;\n",
    "using System.Data;\n",
    "using System.Globalization;\n",
    "using System.Threading;\n",
    "using ilPSP;\n",
    "using ilPSP.Utils;\n",
    "using BoSSS.Platform;\n",
    "using BoSSS.Foundation;\n",
    "using BoSSS.Foundation.Grid;\n",
    "using BoSSS.Foundation.Grid.Classic;\n",
    "using BoSSS.Foundation.IO;\n",
    "using BoSSS.Solution;\n",
    "using BoSSS.Solution.Control;\n",
    "using BoSSS.Solution.GridImport;\n",
    "using BoSSS.Solution.Statistic;\n",
    "using BoSSS.Solution.Utils;\n",
    "using BoSSS.Solution.Gnuplot;\n",
    "using BoSSS.Application.BoSSSpad;\n",
    "using BoSSS.Application.XNSE_Solver;\n",
    "using static BoSSS.Application.BoSSSpad.BoSSSshell;\n",
    "using BoSSS.Foundation.Grid.RefElements;\n",
    "using BoSSS.Platform.LinAlg;\n",
    "using BoSSS.Application.XNSE_Solver.PhysicalBasedTestcases.PrintingNip;\n",
    "Init();"
   ]
  },
  {
   "cell_type": "markdown",
   "metadata": {},
   "source": [
    "#### Check if Output should be generated\n",
    "\n",
    "Only if the output directories were previously created via `Part0_PrintingNip_Setup` output is stored to the subdirectories.  \n",
    "Otherwise, datatables are stored directly to the working directory and plots displayed in the notebook.  \n",
    "The plots are not adjusted to look \"nice\" in the notebook.  \n",
    "This is not part of the `ValidationTestRunner`."
   ]
  },
  {
   "cell_type": "code",
   "execution_count": null,
   "metadata": {
    "dotnet_interactive": {
     "language": "csharp"
    },
    "polyglot_notebook": {
     "kernelName": "csharp"
    }
   },
   "outputs": [],
   "source": [
    "static bool GenerateOutput = Directory.Exists(@\"./PrintingNip\") && Directory.Exists(@\"./PrintingNip/Figures\") && Directory.Exists(@\"./PrintingNip/Files\") && Directory.Exists(@\"./PrintingNip/Output\");"
   ]
  },
  {
   "cell_type": "markdown",
   "metadata": {},
   "source": [
    "### Init Database etc."
   ]
  },
  {
   "cell_type": "code",
   "execution_count": null,
   "metadata": {
    "dotnet_interactive": {
     "language": "csharp"
    }
   },
   "outputs": [],
   "source": [
    "string ProjectName4Correlation = \"PrintingNip_Part1\";\n",
    "string ProjectName = \"PrintingNip_Part4\";"
   ]
  },
  {
   "cell_type": "code",
   "execution_count": null,
   "metadata": {
    "dotnet_interactive": {
     "language": "csharp"
    }
   },
   "outputs": [],
   "source": [
    "BoSSSshell.WorkflowMgm.Init(ProjectName4Correlation);\n",
    "static var myDb4Correlation = BoSSSshell.OpenDatabase(BoSSSshell.WorkflowMgm.DefaultDatabase.Path);\n",
    "Console.WriteLine(\"Initializing : \" + myDb4Correlation.Path); // we need to init the static var! otherwise we end up with a reference to the wrong database!"
   ]
  },
  {
   "cell_type": "code",
   "execution_count": null,
   "metadata": {
    "dotnet_interactive": {
     "language": "csharp"
    }
   },
   "outputs": [],
   "source": [
    "BoSSSshell.WorkflowMgm.Init(ProjectName);\n",
    "static var myDb = BoSSSshell.OpenDatabase(BoSSSshell.WorkflowMgm.DefaultDatabase.Path);\n",
    "Console.WriteLine(\"Initializing : \" + myDb.Path);"
   ]
  },
  {
   "cell_type": "code",
   "execution_count": null,
   "metadata": {
    "dotnet_interactive": {
     "language": "csharp"
    }
   },
   "outputs": [],
   "source": [
    "static var myBatch = BoSSSshell.GetDefaultQueue();"
   ]
  },
  {
   "cell_type": "code",
   "execution_count": null,
   "metadata": {
    "dotnet_interactive": {
     "language": "csharp"
    }
   },
   "outputs": [],
   "source": [
    "BoSSSshell.WorkflowMgm.SetNameBasedSessionJobControlCorrelation();"
   ]
  },
  {
   "cell_type": "markdown",
   "metadata": {},
   "source": [
    "### Construct parameterized velocity splines"
   ]
  },
  {
   "cell_type": "code",
   "execution_count": null,
   "metadata": {
    "dotnet_interactive": {
     "language": "csharp"
    }
   },
   "outputs": [],
   "source": [
    "double H0 = 1e-5;\n",
    "double V0 = 1.0;\n",
    "double P0 = 1e6;"
   ]
  },
  {
   "cell_type": "code",
   "execution_count": null,
   "metadata": {
    "dotnet_interactive": {
     "language": "csharp"
    }
   },
   "outputs": [],
   "source": [
    "var sessions = myDb4Correlation.Sessions.Where(s => s.ProjectName == \"PrintingNip_Part1\").ToArray();\n",
    "var sV = sessions.Single(s => Convert.ToDouble(s.KeysAndQueries[\"id:delta\"]).ApproxEqual(H0) &  Convert.ToDouble(s.KeysAndQueries[\"id:P_Diff\"]).ApproxEqual(0.0) & Convert.ToDouble(s.KeysAndQueries[\"id:V_Wall\"]).ApproxEqual(V0));\n",
    "var sP = sessions.Single(s => Convert.ToDouble(s.KeysAndQueries[\"id:delta\"]).ApproxEqual(H0) &  Convert.ToDouble(s.KeysAndQueries[\"id:P_Diff\"]).ApproxEqual(P0) & Convert.ToDouble(s.KeysAndQueries[\"id:V_Wall\"]).ApproxEqual(0.0));"
   ]
  },
  {
   "cell_type": "markdown",
   "metadata": {},
   "source": [
    "Function to create the velocity profile along the symmetry axis"
   ]
  },
  {
   "cell_type": "code",
   "execution_count": null,
   "metadata": {
    "dotnet_interactive": {
     "language": "csharp"
    }
   },
   "outputs": [],
   "source": [
    "using MathNet.Numerics.Interpolation;"
   ]
  },
  {
   "cell_type": "code",
   "execution_count": null,
   "metadata": {
    "dotnet_interactive": {
     "language": "csharp"
    }
   },
   "outputs": [],
   "source": [
    "static public CubicSpline ConstructVelocitySpline(ISessionInfo si) {\n",
    "    DGField VelocityX = si.Timesteps.Last().Fields.Single(f => f.Identification == \"VelocityX\");\n",
    "    var grd = (GridData)VelocityX.GridDat;\n",
    "    EdgeMask em = new EdgeMask(grd, X => Math.Abs(X[1]) < 1e-12); // symmetry axis\n",
    "\n",
    "    var Spline = Postprocessing.SplineOnEdge(em, VelocityX, 0, out double lB, out double uB);\n",
    "    return Spline;\n",
    "}"
   ]
  },
  {
   "cell_type": "markdown",
   "metadata": {},
   "source": [
    "Evaluate the profile for both simulations and superpose"
   ]
  },
  {
   "cell_type": "code",
   "execution_count": null,
   "metadata": {
    "dotnet_interactive": {
     "language": "csharp"
    }
   },
   "outputs": [],
   "source": [
    "var SplineV = ConstructVelocitySpline(sV);\n",
    "var SplineP = ConstructVelocitySpline(sP);"
   ]
  },
  {
   "cell_type": "code",
   "execution_count": null,
   "metadata": {
    "dotnet_interactive": {
     "language": "csharp"
    }
   },
   "outputs": [],
   "source": [
    "Func<double, double, double, double, double> VelocityFunc = (x, h, v, p) => v/V0 * SplineV.Interpolate(x * Math.Sqrt(H0) / Math.Sqrt(h)) + (p * Math.Pow(h,1.5))/(P0 * Math.Pow(H0,1.5)) * SplineP.Interpolate(x * Math.Sqrt(H0) / Math.Sqrt(h));"
   ]
  },
  {
   "cell_type": "markdown",
   "metadata": {},
   "source": [
    "Set Velocity to be zero at a certain x_stag and calculate the necessary pressure difference"
   ]
  },
  {
   "cell_type": "code",
   "execution_count": null,
   "metadata": {
    "dotnet_interactive": {
     "language": "csharp"
    }
   },
   "outputs": [],
   "source": [
    "Func<double, double, double, double> PressureFunc = (x_stag, h, v) => -v/V0 * SplineV.Interpolate(x_stag * Math.Sqrt(H0) / Math.Sqrt(h)) * (P0 * Math.Pow(H0,1.5)) / (Math.Pow(h,1.5) * SplineP.Interpolate(x_stag * Math.Sqrt(H0) / Math.Sqrt(h)));"
   ]
  },
  {
   "cell_type": "markdown",
   "metadata": {},
   "source": [
    "### Setup Simulations"
   ]
  },
  {
   "cell_type": "code",
   "execution_count": null,
   "metadata": {
    "dotnet_interactive": {
     "language": "csharp"
    }
   },
   "outputs": [],
   "source": [
    "double[] deltaS = new double[] {\n",
    "    0.000001 }; // micro-meter\n",
    "double[] U = new double[] {\n",
    "    0.01, 0.03,\n",
    "    0.1, 0.3,\n",
    "    1.0, 3.0,\n",
    "    10.0 };\n",
    "double[] x_m = new double[] {\n",
    "    0.001, 0.0025, 0.005,\n",
    "    0.01, 0.03, 0.05};\n",
    "\n",
    "// always same\n",
    "int Res = 10;\n",
    "int DGdegree = 5;\n",
    "double R = 0.1;\n",
    "\n",
    "// set grid to be saved in database\n",
    "GridFactory.myDb = myDb;"
   ]
  },
  {
   "cell_type": "code",
   "execution_count": null,
   "metadata": {
    "dotnet_interactive": {
     "language": "csharp"
    }
   },
   "outputs": [],
   "source": [
    "var controls = new List<XNSE_Control>();\n",
    "\n",
    "foreach(double delta in deltaS) {\n",
    "   foreach(double V_wall in U) {\n",
    "      foreach(double x_stag in x_m) {\n",
    "\n",
    "         double p = PressureFunc(x_stag, delta, V_wall);\n",
    "\n",
    "         var C = new XNSE_Control();\n",
    "         C.DbPath = myDb.Path;\n",
    "         \n",
    "         C.SetDGdegree(DGdegree);\n",
    "         C.SetGrid(GridFactory.GenerateGrid(Res,delta, R));\n",
    "         C.Paramstudy_CaseIdentification.Add(new Tuple<string, object>(\"Res\", Res));\n",
    "         C.Paramstudy_CaseIdentification.Add(new Tuple<string, object>(\"delta\", delta));\n",
    "         C.Paramstudy_CaseIdentification.Add(new Tuple<string, object>(\"Radius\", R));\n",
    "         C.Paramstudy_CaseIdentification.Add(new Tuple<string, object>(\"V_Wall\", V_wall));\n",
    "         C.Paramstudy_CaseIdentification.Add(new Tuple<string, object>(\"P_Diff\", p));\n",
    "         C.Paramstudy_CaseIdentification.Add(new Tuple<string, object>(\"X_Stag\", x_stag));\n",
    "\n",
    "\n",
    "\n",
    "         C.AddBoundaryValue(\"wall_walze\", \"VelocityX\", BoundaryValueFactory.Get_VelX(delta, V_wall, R));\n",
    "         C.AddBoundaryValue(\"wall_walze\", \"VelocityY\", BoundaryValueFactory.Get_VelY(delta, V_wall, R));\n",
    "         C.AddBoundaryValue(\"wall_substrat\", \"VelocityX\", BoundaryValueFactory.Get_VelX(delta, V_wall, R));\n",
    "         C.AddBoundaryValue(\"wall_substrat\", \"VelocityY\", BoundaryValueFactory.Get_VelY(delta, V_wall, R));\n",
    "         C.AddBoundaryValue(\"pressure_outlet_in\", \"Pressure\", $\"X => {p}\", false);\n",
    "         C.AddBoundaryValue(\"pressure_outlet_out\", \"Pressure\", $\"X => {-p}\", false);\n",
    "\n",
    "\n",
    "         C.TimesteppingMode = AppControl._TimesteppingMode.Steady;\n",
    "\n",
    "         C.PhysicalParameters.rho_A             = 1026.4;\n",
    "         C.PhysicalParameters.mu_A              = 0.0395;\n",
    "         C.PhysicalParameters.IncludeConvection = false;\n",
    "         C.Timestepper_LevelSetHandling         = BoSSS.Solution.XdgTimestepping.LevelSetHandling.None;\n",
    "         \n",
    "         C.SessionName = \"J\" + (20*Res*Res) + \"_delta\" + delta + \"_V\" + Math.Round(V_wall, 5) + \"_xm\" + x_stag;     \n",
    "         controls.Add(C);\n",
    "      }\n",
    "   }\n",
    "}"
   ]
  },
  {
   "cell_type": "code",
   "execution_count": null,
   "metadata": {
    "dotnet_interactive": {
     "language": "csharp"
    }
   },
   "outputs": [],
   "source": [
    "Console.WriteLine(controls.Count);"
   ]
  },
  {
   "cell_type": "markdown",
   "metadata": {},
   "source": [
    "### Run Simulations"
   ]
  },
  {
   "cell_type": "markdown",
   "metadata": {},
   "source": [
    "Workaround so we need to deploy the rather large executables only once!"
   ]
  },
  {
   "cell_type": "code",
   "execution_count": null,
   "metadata": {
    "dotnet_interactive": {
     "language": "csharp"
    }
   },
   "outputs": [],
   "source": [
    "controls.RunBatch(myBatch, true);"
   ]
  },
  {
   "cell_type": "code",
   "execution_count": null,
   "metadata": {
    "dotnet_interactive": {
     "language": "csharp"
    }
   },
   "outputs": [],
   "source": [
    "BoSSSshell.WorkflowMgm.BlockUntilAllJobsTerminate(18000);"
   ]
  },
  {
   "cell_type": "markdown",
   "metadata": {},
   "source": [
    "Assert that, all sessions are present and all finished successful"
   ]
  },
  {
   "cell_type": "code",
   "execution_count": null,
   "metadata": {
    "dotnet_interactive": {
     "language": "csharp"
    },
    "polyglot_notebook": {
     "kernelName": "csharp"
    }
   },
   "outputs": [],
   "source": [
    "int count = BoSSSshell.wmg.Sessions.Count();\n",
    "int success = BoSSSshell.wmg.Sessions.Where(s => s.SuccessfulTermination).Count();\n",
    "\n",
    "if(count != controls.Count() || count != success){\n",
    "    throw new ApplicationException(\"Not all simulations calculated or finished successful!\");\n",
    "}"
   ]
  },
  {
   "cell_type": "markdown",
   "metadata": {},
   "source": [
    "### Load Simulations"
   ]
  },
  {
   "cell_type": "code",
   "execution_count": null,
   "metadata": {
    "dotnet_interactive": {
     "language": "csharp"
    }
   },
   "outputs": [],
   "source": [
    "var sessions = myDb.Sessions.Where(s => s.ProjectName == ProjectName && s.SuccessfulTermination).ToArray();"
   ]
  },
  {
   "cell_type": "code",
   "execution_count": null,
   "metadata": {
    "dotnet_interactive": {
     "language": "csharp"
    }
   },
   "outputs": [],
   "source": [
    "sessions.Count()"
   ]
  },
  {
   "cell_type": "markdown",
   "metadata": {},
   "source": [
    "### Setup Post-Processing"
   ]
  },
  {
   "cell_type": "code",
   "execution_count": null,
   "metadata": {
    "dotnet_interactive": {
     "language": "csharp"
    }
   },
   "outputs": [],
   "source": [
    "BoSSSshell.WorkflowMgm.AdditionalSessionTableColums.Clear();"
   ]
  },
  {
   "cell_type": "code",
   "execution_count": null,
   "metadata": {
    "dotnet_interactive": {
     "language": "csharp"
    }
   },
   "outputs": [],
   "source": [
    "BoSSSshell.WorkflowMgm.AdditionalSessionTableColums.Add(\"dPdXatStagnationPoint\", Postprocessing.dPdXatStagnationPoint);"
   ]
  },
  {
   "cell_type": "markdown",
   "metadata": {},
   "source": [
    "### Create Datatable"
   ]
  },
  {
   "cell_type": "code",
   "execution_count": null,
   "metadata": {
    "dotnet_interactive": {
     "language": "csharp"
    }
   },
   "outputs": [],
   "source": [
    "DataTable tab;\n",
    "if(GenerateOutput){\n",
    "    if(!File.Exists(\"./PrintingNip/Files/PrintingNip-Part4Export.csv\")){\n",
    "        tab = sessions.GetSessionTable(BoSSSshell.WorkflowMgm.AdditionalSessionTableColums.Select(kv => new Tuple<string, Func<ISessionInfo, object>>(kv.Key, kv.Value)).ToArray());\n",
    "        tab.ToCSVFile(\"./PrintingNip/Files/PrintingNip-Part4Export.csv\", ColSep: '%');\n",
    "    } else{\n",
    "        tab = TableExtensions.FromCSVFile(\"./PrintingNip/Files/PrintingNip-Part4Export.csv\", ColSep: '%');\n",
    "    }\n",
    "} else {\n",
    "    // in this case always recreate the datatable\n",
    "    tab = sessions.GetSessionTable(BoSSSshell.WorkflowMgm.AdditionalSessionTableColums.Select(kv => new Tuple<string, Func<ISessionInfo, object>>(kv.Key, kv.Value)).ToArray());\n",
    "    tab.ToCSVFile(\"./PrintingNip-Part4Export.csv\", ColSep: '%');     \n",
    "}"
   ]
  },
  {
   "cell_type": "markdown",
   "metadata": {},
   "source": [
    "### Export Datatable"
   ]
  },
  {
   "cell_type": "code",
   "execution_count": null,
   "metadata": {
    "dotnet_interactive": {
     "language": "csharp"
    }
   },
   "outputs": [],
   "source": [
    "string[] Columns = new string[] {\"dPdXatStagnationPoint\"};\n",
    "string[] Labels = new string[] {@\"$\\\\\\frac{\\\\\\partial p}{\\\\\\partial x}_{stag}$\"};\n",
    "string[] Units = new string[] {@\"$\\\\\\left[\\\\\\frac{N}{m^3}\\\\right]$\"}; // some escape character nonsense"
   ]
  },
  {
   "cell_type": "code",
   "execution_count": null,
   "metadata": {
    "dotnet_interactive": {
     "language": "csharp"
    }
   },
   "outputs": [],
   "source": [
    "var tab2export = tab.ExtractColumns(Columns.ToList().Prepend(\"id:V_Wall\").Prepend(\"id:P_Diff\").Prepend(\"id:Radius\").Prepend(\"id:delta\").Prepend(\"id:X_Stag\").Prepend(\"SessionName\").ToArray());\n",
    "if(GenerateOutput){\n",
    "    tab2export.ToHTMLFile(\"PrintingNip-Part4.html\", Path.GetFullPath(\"./PrintingNip/Files\"));\n",
    "    tab2export.ToCSVFile(\"./PrintingNip/Files/PrintingNip-Part4.csv\", ColSep: ';');\n",
    "} else {\n",
    "    tab2export.ToHTMLFile(\"PrintingNip-Part4.html\", Path.GetFullPath(\"./\"));\n",
    "    tab2export.ToCSVFile(\"./PrintingNip-Part4.csv\", ColSep: ';');\n",
    "}"
   ]
  }
 ],
 "metadata": {
  "kernelspec": {
   "display_name": ".NET (C#)",
   "language": "C#",
   "name": ".net-csharp"
  },
  "language_info": {
   "name": "polyglot-notebook"
  },
  "polyglot_notebook": {
   "kernelInfo": {
    "defaultKernelName": "csharp",
    "items": [
     {
      "aliases": [],
      "name": ".NET"
     },
     {
      "aliases": [
       "C#",
       "c#"
      ],
      "languageName": "C#",
      "name": "csharp"
     },
     {
      "aliases": [
       "F#",
       "f#"
      ],
      "languageName": "F#",
      "name": "fsharp"
     },
     {
      "aliases": [],
      "languageName": "HTML",
      "name": "html"
     },
     {
      "aliases": [
       "js"
      ],
      "languageName": "JavaScript",
      "name": "javascript"
     },
     {
      "aliases": [],
      "languageName": "KQL",
      "name": "kql"
     },
     {
      "aliases": [],
      "languageName": "Mermaid",
      "name": "mermaid"
     },
     {
      "aliases": [
       "powershell"
      ],
      "languageName": "PowerShell",
      "name": "pwsh"
     },
     {
      "aliases": [],
      "languageName": "SQL",
      "name": "sql"
     },
     {
      "aliases": [],
      "name": "value"
     },
     {
      "aliases": [
       "frontend"
      ],
      "name": "vscode"
     },
     {
      "aliases": [],
      "name": "webview"
     }
    ]
   }
  }
 },
 "nbformat": 4,
 "nbformat_minor": 2
}

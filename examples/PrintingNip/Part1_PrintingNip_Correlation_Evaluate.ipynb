{
 "cells": [
  {
   "cell_type": "markdown",
   "metadata": {
    "dotnet_interactive": {
     "language": "csharp"
    },
    "polyglot_notebook": {
     "kernelName": "csharp"
    }
   },
   "source": [
    "# Part 1 - Evaluate simulations for some general correlations and scalings"
   ]
  },
  {
   "cell_type": "markdown",
   "metadata": {
    "dotnet_interactive": {
     "language": "csharp"
    },
    "polyglot_notebook": {
     "kernelName": "csharp"
    }
   },
   "source": [
    "### First load some references"
   ]
  },
  {
   "cell_type": "code",
   "execution_count": null,
   "metadata": {
    "dotnet_interactive": {
     "language": "csharp"
    },
    "vscode": {
     "languageId": "polyglot-notebook"
    }
   },
   "outputs": [],
   "source": [
    "#r \"BoSSSpad.dll\"\n",
    "using System;\n",
    "using System.Collections.Generic;\n",
    "using System.Linq;\n",
    "using System.IO;\n",
    "using System.Data;\n",
    "using System.Globalization;\n",
    "using System.Threading;\n",
    "using ilPSP;\n",
    "using ilPSP.Utils;\n",
    "using BoSSS.Platform;\n",
    "using BoSSS.Foundation;\n",
    "using BoSSS.Foundation.Grid;\n",
    "using BoSSS.Foundation.Grid.Classic;\n",
    "using BoSSS.Foundation.IO;\n",
    "using BoSSS.Solution;\n",
    "using BoSSS.Solution.Control;\n",
    "using BoSSS.Solution.GridImport;\n",
    "using BoSSS.Solution.Statistic;\n",
    "using BoSSS.Solution.Utils;\n",
    "using BoSSS.Solution.Gnuplot;\n",
    "using BoSSS.Application.BoSSSpad;\n",
    "using BoSSS.Application.XNSE_Solver;\n",
    "using static BoSSS.Application.BoSSSpad.BoSSSshell;\n",
    "using BoSSS.Foundation.Grid.RefElements;\n",
    "using BoSSS.Platform.LinAlg;\n",
    "using BoSSS.Application.XNSE_Solver.PhysicalBasedTestcases.PrintingNip;\n",
    "Init();"
   ]
  },
  {
   "cell_type": "markdown",
   "metadata": {
    "dotnet_interactive": {
     "language": "csharp"
    },
    "polyglot_notebook": {
     "kernelName": "csharp"
    }
   },
   "source": [
    "### Init Database etc."
   ]
  },
  {
   "cell_type": "code",
   "execution_count": null,
   "metadata": {
    "dotnet_interactive": {
     "language": "csharp"
    },
    "vscode": {
     "languageId": "polyglot-notebook"
    }
   },
   "outputs": [],
   "source": [
    "string ProjectName = \"SFB1194_K65_Part1\";"
   ]
  },
  {
   "cell_type": "code",
   "execution_count": null,
   "metadata": {
    "dotnet_interactive": {
     "language": "csharp"
    },
    "vscode": {
     "languageId": "polyglot-notebook"
    }
   },
   "outputs": [],
   "source": [
    "BoSSSshell.WorkflowMgm.Init(ProjectName);"
   ]
  },
  {
   "cell_type": "code",
   "execution_count": null,
   "metadata": {
    "dotnet_interactive": {
     "language": "csharp"
    },
    "vscode": {
     "languageId": "polyglot-notebook"
    }
   },
   "outputs": [],
   "source": [
    "static var myDb = BoSSSshell.WorkflowMgm.DefaultDatabase;"
   ]
  },
  {
   "cell_type": "markdown",
   "metadata": {
    "dotnet_interactive": {
     "language": "csharp"
    },
    "polyglot_notebook": {
     "kernelName": "csharp"
    }
   },
   "source": [
    "### Load Simulations"
   ]
  },
  {
   "cell_type": "code",
   "execution_count": null,
   "metadata": {
    "dotnet_interactive": {
     "language": "csharp"
    },
    "vscode": {
     "languageId": "polyglot-notebook"
    }
   },
   "outputs": [],
   "source": [
    "var sessions = myDb.Sessions.Where(s => s.ProjectName == ProjectName).ToArray(); // theoretically this database contains only projects with the correct project name"
   ]
  },
  {
   "cell_type": "code",
   "execution_count": null,
   "metadata": {
    "dotnet_interactive": {
     "language": "csharp"
    },
    "vscode": {
     "languageId": "polyglot-notebook"
    }
   },
   "outputs": [],
   "source": [
    "sessions.Count()"
   ]
  },
  {
   "cell_type": "markdown",
   "metadata": {
    "dotnet_interactive": {
     "language": "csharp"
    },
    "polyglot_notebook": {
     "kernelName": "csharp"
    }
   },
   "source": [
    "### Setup Post-Processing"
   ]
  },
  {
   "cell_type": "code",
   "execution_count": null,
   "metadata": {
    "dotnet_interactive": {
     "language": "csharp"
    },
    "vscode": {
     "languageId": "polyglot-notebook"
    }
   },
   "outputs": [],
   "source": [
    "BoSSSshell.WorkflowMgm.AdditionalSessionTableColums.Clear();"
   ]
  },
  {
   "cell_type": "code",
   "execution_count": null,
   "metadata": {
    "dotnet_interactive": {
     "language": "csharp"
    },
    "vscode": {
     "languageId": "polyglot-notebook"
    }
   },
   "outputs": [],
   "source": [
    "BoSSSshell.WorkflowMgm.AdditionalSessionTableColums.Add(\"PressureRange\", Postprocessing.PressureRange);\n",
    "BoSSSshell.WorkflowMgm.AdditionalSessionTableColums.Add(\"VelocityXMax\", Postprocessing.VelocityXMax);\n",
    "BoSSSshell.WorkflowMgm.AdditionalSessionTableColums.Add(\"Massflux\", Postprocessing.Massflux);\n",
    "BoSSSshell.WorkflowMgm.AdditionalSessionTableColums.Add(\"NipShearRate\", Postprocessing.NipShearRate);\n",
    "BoSSSshell.WorkflowMgm.AdditionalSessionTableColums.Add(\"NipShearRateCylinder\", Postprocessing.NipShearRateCylinder);\n",
    "BoSSSshell.WorkflowMgm.AdditionalSessionTableColums.Add(\"ShearStressCylinder\", Postprocessing.ShearStressCylinder);\n",
    "BoSSSshell.WorkflowMgm.AdditionalSessionTableColums.Add(\"NipShearRateSubstrate\", Postprocessing.NipShearRateSubstrate);\n",
    "BoSSSshell.WorkflowMgm.AdditionalSessionTableColums.Add(\"ShearStressSubstrate\", Postprocessing.ShearStressSubstrate);\n",
    "BoSSSshell.WorkflowMgm.AdditionalSessionTableColums.Add(\"ViscousDissipation\", Postprocessing.ViscousDissipation);\n",
    "BoSSSshell.WorkflowMgm.AdditionalSessionTableColums.Add(\"PositionOfSynchronousFlow\", Postprocessing.PositionOfSynchronousFlow);\n",
    "BoSSSshell.WorkflowMgm.AdditionalSessionTableColums.Add(\"PositionOfStagnatingFlow\", Postprocessing.PositionOfStagnatingFlow);\n",
    "BoSSSshell.WorkflowMgm.AdditionalSessionTableColums.Add(\"dPdXatSynchronousPoint\", Postprocessing.dPdXatSynchronousPoint);\n",
    "BoSSSshell.WorkflowMgm.AdditionalSessionTableColums.Add(\"dPdXatStagnationPoint\", Postprocessing.dPdXatStagnationPoint);\n",
    "BoSSSshell.WorkflowMgm.AdditionalSessionTableColums.Add(\"dPdXatNip\", Postprocessing.dPdXatNip);\n",
    "BoSSSshell.WorkflowMgm.AdditionalSessionTableColums.Add(\"dPdXatConstantX\", Postprocessing.dPdXatConstantX);"
   ]
  },
  {
   "cell_type": "markdown",
   "metadata": {
    "dotnet_interactive": {
     "language": "csharp"
    },
    "polyglot_notebook": {
     "kernelName": "csharp"
    }
   },
   "source": [
    "### Create Datatable"
   ]
  },
  {
   "cell_type": "code",
   "execution_count": null,
   "metadata": {
    "dotnet_interactive": {
     "language": "csharp"
    },
    "vscode": {
     "languageId": "polyglot-notebook"
    }
   },
   "outputs": [],
   "source": [
    "DataTable tab;\n",
    "if(!File.Exists(\"./PrintingNip/Files/PrintingNip-Part1Export.csv\")){\n",
    "    tab = sessions.GetSessionTable(BoSSSshell.WorkflowMgm.AdditionalSessionTableColums.Select(kv => new Tuple<string, Func<ISessionInfo, object>>(kv.Key, kv.Value)).ToArray());\n",
    "    tab.ToCSVFile(\"./PrintingNip/Files/PrintingNip-Part1Export.csv\", ColSep: '%');\n",
    "} else{\n",
    "    tab = TableExtensions.FromCSVFile(\"../PrintingNip/Files/PrintingNip-Part1Export.csv\", ColSep: '%');\n",
    "}\n"
   ]
  },
  {
   "cell_type": "markdown",
   "metadata": {
    "dotnet_interactive": {
     "language": "csharp"
    }
   },
   "source": [
    "### Export Datatable"
   ]
  },
  {
   "cell_type": "code",
   "execution_count": null,
   "metadata": {
    "dotnet_interactive": {
     "language": "csharp"
    },
    "vscode": {
     "languageId": "polyglot-notebook"
    }
   },
   "outputs": [],
   "source": [
    "string[] Columns = new string[] {\"PressureRange\", \"VelocityXMax\", \"Massflux\", \"NipShearRate\", \"NipShearRateCylinder\", \"ShearStressCylinder\", \"NipShearRateSubstrate\", \"ShearStressSubstrate\", \"ViscousDissipation\", \"PositionOfSynchronousFlow\",  \"PositionOfStagnatingFlow\", \"dPdXatSynchronousPoint\", \"dPdXatStagnationPoint\", \"dPdXatNip\", \"dPdXatConstantX\"};\n",
    "string[] Labels = new string[] {\"Pressure\", \"Velocity\", \"Massflux\", \"Shearrate (Nip)\", \"Shearrate (Cylinder)\", \"Shearforce (Cylinder)\", \"Shearrate (Substrate)\", \"Shearforce (Substrate)\", \"Dissipation\", \"$x_{sync}$\", \"$x_{stag}$\", @\"$\\\\\\frac{\\\\\\partial p}{\\\\\\partial x}_{sync}$\", @\"$\\\\\\frac{\\\\\\partial p}{\\\\\\partial x}_{stag}$\", @\"$\\\\\\frac{\\\\\\partial p}{\\\\\\partial x}_{nip}$\", @\"$\\\\\\frac{\\\\\\partial p}{\\\\\\partial x}$\"};\n",
    "string[] Units = new string[] {@\"$\\\\\\left[\\\\\\frac{N}{m^2}\\\\right]$\", @\"$\\\\\\left[\\\\\\frac{m}{s}\\\\right]$\", @\"$\\\\\\left[\\\\\\frac{kg}{s}\\\\right]$\", @\"$\\\\\\left[\\\\\\frac{1}{s}\\\\right]$\", @\"$\\\\\\left[\\\\\\frac{1}{s}\\\\right]$\", @\"$\\\\\\left[N\\\\right]$\", @\"$\\\\\\left[\\\\\\frac{1}{s}\\\\right]$\", @\"$\\\\\\left[N\\\\right]$\", @\"$\\\\\\left[W\\\\right]$\", @\"$\\\\\\left[m\\\\right]$\", @\"$\\\\\\left[m\\\\right]$\", @\"$\\\\\\left[\\\\\\frac{N}{m^3}\\\\right]$\", @\"$\\\\\\left[\\\\\\frac{N}{m^3}\\\\right]$\", @\"$\\\\\\left[\\\\\\frac{N}{m^3}\\\\right]$\", @\"$\\\\\\left[\\\\\\frac{N}{m^3}\\\\right]$\"}; // some escape character nonsense"
   ]
  },
  {
   "cell_type": "code",
   "execution_count": null,
   "metadata": {
    "dotnet_interactive": {
     "language": "csharp"
    },
    "vscode": {
     "languageId": "polyglot-notebook"
    }
   },
   "outputs": [],
   "source": [
    "var tab2export = tab.ExtractColumns(Columns.ToList().Prepend(\"id:V_Wall\").Prepend(\"id:P_Diff\").Prepend(\"id:Radius\").Prepend(\"id:delta\").Prepend(\"SessionName\").ToArray());\n",
    "tab2export.ToHTMLFile(\"PrintingNip-Part1.html\", Path.GetFullPath(\"./PrintingNip/Files\"));\n",
    "tab2export.ToCSVFile(\"./PrintingNip/Files/PrintingNip-Part1.csv\", ColSep: ';');"
   ]
  },
  {
   "cell_type": "markdown",
   "metadata": {
    "dotnet_interactive": {
     "language": "csharp"
    },
    "polyglot_notebook": {
     "kernelName": "csharp"
    }
   },
   "source": [
    "### Plot Correlation dp = 0, V = const, h variable"
   ]
  },
  {
   "cell_type": "code",
   "execution_count": null,
   "metadata": {
    "dotnet_interactive": {
     "language": "csharp"
    },
    "vscode": {
     "languageId": "polyglot-notebook"
    }
   },
   "outputs": [],
   "source": [
    "var tab2plt = tab.ExtractRows((i,row) => Convert.ToDouble(row[\"id:P_Diff\"]).ApproxEqual(0.0) && Convert.ToDouble(row[\"id:V_Wall\"])>0.0);"
   ]
  },
  {
   "cell_type": "code",
   "execution_count": null,
   "metadata": {
    "dotnet_interactive": {
     "language": "csharp"
    },
    "vscode": {
     "languageId": "polyglot-notebook"
    }
   },
   "outputs": [],
   "source": [
    "List<Plot2Ddata> plts = new List<Plot2Ddata>();\n",
    "foreach(string col in Columns){\n",
    "    int k = Columns.IndexOf(col);\n",
    "    var plt = tab2plt.ToPlot(\"id:delta\", col, ColName_GroupSelection: new string[] { \"id:V_Wall\" });    \n",
    "    plt.LogX   = true;\n",
    "    plt.LogY   = true;\n",
    "    plt.Xlabel = @\"Nip Width $\\\\\\left[m\\\\right]$\";\n",
    "    plt.Ylabel = Labels[k] + \" \" + Units[k];\n",
    "    plt.LabelTitleFont = 32;\n",
    "    plt.LabelFont = 24;\n",
    "    plt.LegendFont = 18;\n",
    "    plt.lmargin = 12;\n",
    "    plt.bmargin = 4;\n",
    "    plt.ShowLegend = true;    \n",
    "    plt.LegendBox = true;\n",
    "    if(plt.Regression().Average(kv => kv.Value) > 0){\n",
    "        plt.LegendAlignment = new string[]{\"i\", \"l\", \"t\"};\n",
    "        plt.LegendSwap = true;    \n",
    "    } else{\n",
    "        plt.LegendAlignment = new string[]{\"i\", \"r\", \"t\"};\n",
    "        plt.LegendSwap = false;    \n",
    "    }\n",
    "    for(int n= 0; n < plt.dataGroups.Count(); n++){\n",
    "        plt.dataGroups[n].Format.LineWidth = 2;\n",
    "        plt.dataGroups[n].Format.PointSize = 1;\n",
    "        plt.dataGroups[n].Name = \"$V_W = \" + Convert.ToDouble(plt.dataGroups[n].Name.Split(\"id:V_Wall\").Last()).ToString(\"N1\") + @\" \\\\\\frac{m}{s}$\";\n",
    "    }\n",
    "    plt.ModFormat();\n",
    "    plts.Add(plt);\n",
    "}"
   ]
  },
  {
   "cell_type": "code",
   "execution_count": null,
   "metadata": {
    "dotnet_interactive": {
     "language": "csharp"
    },
    "vscode": {
     "languageId": "polyglot-notebook"
    }
   },
   "outputs": [],
   "source": [
    "int k = 0;\n",
    "foreach(var plt in plts){\n",
    "    var gp = new Gnuplot();\n",
    "    gp.PlotLogSlope(plt, format: new PlotFormat(lineColor: (LineColors)7));\n",
    "    gp.Cmd(\"set key box width -5\");\n",
    "    plt.ToGnuplot(gp);\n",
    "    gp.PlotCairolatex().SaveTo(\"./PrintingNip/Figures/Part1/P0_V_\"+Columns[k]+\".tex\");\n",
    "    k++;\n",
    "}"
   ]
  },
  {
   "cell_type": "markdown",
   "metadata": {
    "dotnet_interactive": {
     "language": "csharp"
    },
    "polyglot_notebook": {
     "kernelName": "csharp"
    }
   },
   "source": [
    "### Plot Correlation dp = 0, V = variable, h const"
   ]
  },
  {
   "cell_type": "code",
   "execution_count": null,
   "metadata": {
    "dotnet_interactive": {
     "language": "csharp"
    },
    "vscode": {
     "languageId": "polyglot-notebook"
    }
   },
   "outputs": [],
   "source": [
    "var tab2plt = tab.ExtractRows((i,row) => Convert.ToDouble(row[\"id:P_Diff\"]).ApproxEqual(0.0)  && Convert.ToDouble(row[\"id:V_Wall\"])>0.0);"
   ]
  },
  {
   "cell_type": "code",
   "execution_count": null,
   "metadata": {
    "dotnet_interactive": {
     "language": "csharp"
    },
    "vscode": {
     "languageId": "polyglot-notebook"
    }
   },
   "outputs": [],
   "source": [
    "List<Plot2Ddata> plts = new List<Plot2Ddata>();\n",
    "foreach(string col in Columns){\n",
    "    int k = Columns.IndexOf(col);\n",
    "    var plt = tab2plt.ToPlot(\"id:V_Wall\", col, ColName_GroupSelection: new string[] { \"id:delta\" });    \n",
    "    plt.LogX   = true;\n",
    "    plt.LogY   = true;\n",
    "    plt.Xlabel = @\"Printing Velocity $\\\\\\left[\\\\\\frac{m}{s}\\\\right]$\";\n",
    "    plt.Ylabel = Labels[k] + \" \" + Units[k];\n",
    "    plt.LabelTitleFont = 32;\n",
    "    plt.LabelFont = 24;\n",
    "    plt.LegendFont = 18;\n",
    "    plt.lmargin = 12;\n",
    "    plt.bmargin = 4;\n",
    "    plt.ShowLegend = true;    \n",
    "    plt.LegendBox = true;\n",
    "    if(plt.Regression().Average(kv => kv.Value) > 0){\n",
    "        plt.LegendAlignment = new string[]{\"i\", \"l\", \"t\"};\n",
    "        plt.LegendSwap = true;    \n",
    "    } else{\n",
    "        plt.LegendAlignment = new string[]{\"i\", \"r\", \"t\"};\n",
    "        plt.LegendSwap = false;    \n",
    "    }\n",
    "    for(int n= 0; n < plt.dataGroups.Count(); n++){\n",
    "        plt.dataGroups[n].Format.LineWidth = 2;\n",
    "        plt.dataGroups[n].Format.PointSize = 1;\n",
    "        plt.dataGroups[n].Name = @\"$\\\\\\varepsilon = \" + Convert.ToDouble(plt.dataGroups[n].Name.Split(\"id:delta\").Last()).ToString(\"0e0\").Replace(\"e\",\"\\\\\\\\times 10^{\") + \"}\" + @\" m$\";\n",
    "    }\n",
    "    plt.ModFormat();\n",
    "    plts.Add(plt);\n",
    "}"
   ]
  },
  {
   "cell_type": "code",
   "execution_count": null,
   "metadata": {
    "dotnet_interactive": {
     "language": "csharp"
    },
    "vscode": {
     "languageId": "polyglot-notebook"
    }
   },
   "outputs": [],
   "source": [
    "int k = 0;\n",
    "foreach(var plt in plts){\n",
    "    var gp = new Gnuplot();\n",
    "    gp.PlotLogSlope(plt, format: new PlotFormat(lineColor: (LineColors)7));\n",
    "    gp.Cmd(\"set key box width -5\");\n",
    "    plt.ToGnuplot(gp);\n",
    "    gp.PlotCairolatex().SaveTo(\"./PrintingNip/Figures/Part1/P0_H_\"+Columns[k]+\".tex\");\n",
    "    k++;\n",
    "}"
   ]
  },
  {
   "cell_type": "markdown",
   "metadata": {
    "dotnet_interactive": {
     "language": "csharp"
    },
    "polyglot_notebook": {
     "kernelName": "csharp"
    }
   },
   "source": [
    "### Plot Correlation dp = const, V = 0, h variable"
   ]
  },
  {
   "cell_type": "code",
   "execution_count": null,
   "metadata": {
    "dotnet_interactive": {
     "language": "csharp"
    },
    "vscode": {
     "languageId": "polyglot-notebook"
    }
   },
   "outputs": [],
   "source": [
    "var tab2plt = tab.ExtractRows((i,row) => Convert.ToDouble(row[\"id:V_Wall\"]).ApproxEqual(0.0) && Convert.ToDouble(row[\"id:P_Diff\"]) > 0.0);"
   ]
  },
  {
   "cell_type": "markdown",
   "metadata": {
    "dotnet_interactive": {
     "language": "csharp"
    },
    "polyglot_notebook": {
     "kernelName": "csharp"
    }
   },
   "source": [
    "with only pressure b.c. there is no stagnating point ..."
   ]
  },
  {
   "cell_type": "code",
   "execution_count": null,
   "metadata": {
    "dotnet_interactive": {
     "language": "csharp"
    },
    "vscode": {
     "languageId": "polyglot-notebook"
    }
   },
   "outputs": [],
   "source": [
    "string[] Columns = new string[] {\"PressureRange\", \"VelocityXMax\", \"Massflux\", \"NipShearRate\", \"NipShearRateCylinder\", \"ShearStressCylinder\", \"NipShearRateSubstrate\", \"ShearStressSubstrate\", \"ViscousDissipation\", \"dPdXatNip\", \"dPdXatConstantX\"};\n",
    "string[] Labels = new string[] {\"Pressure\", \"Velocity\", \"Massflux\", \"Shearrate (Nip)\", \"Shearrate (Cylinder)\", \"Shearforce (Cylinder)\", \"Shearrate (Substrate)\", \"Shearforce (Substrate)\", \"Dissipation\", @\"$\\\\\\frac{\\\\\\partial p}{\\\\\\partial x}_{nip}$\", @\"$\\\\\\frac{\\\\\\partial p}{\\\\\\partial x}$\"};\n",
    "string[] Units = new string[] {@\"$\\\\\\left[\\\\\\frac{N}{m^2}\\\\right]$\", @\"$\\\\\\left[\\\\\\frac{m}{s}\\\\right]$\", @\"$\\\\\\left[\\\\\\frac{kg}{s}\\\\right]$\", @\"$\\\\\\left[\\\\\\frac{1}{s}\\\\right]$\", @\"$\\\\\\left[\\\\\\frac{1}{s}\\\\right]$\", @\"$\\\\\\left[N\\\\right]$\", @\"$\\\\\\left[\\\\\\frac{1}{s}\\\\right]$\", @\"$\\\\\\left[N\\\\right]$\", @\"$\\\\\\left[W\\\\right]$\", @\"$\\\\\\left[\\\\\\frac{N}{m^3}\\\\right]$\", @\"$\\\\\\left[\\\\\\frac{N}{m^3}\\\\right]$\"}; // some escape character nonsense"
   ]
  },
  {
   "cell_type": "code",
   "execution_count": null,
   "metadata": {
    "dotnet_interactive": {
     "language": "csharp"
    },
    "vscode": {
     "languageId": "polyglot-notebook"
    }
   },
   "outputs": [],
   "source": [
    "List<Plot2Ddata> plts = new List<Plot2Ddata>();\n",
    "foreach(string col in Columns){\n",
    "    int k = Columns.IndexOf(col);\n",
    "    var plt = tab2plt.ToPlot(\"id:delta\", col, ColName_GroupSelection: new string[] { \"id:P_Diff\" });    \n",
    "    plt.LogX   = true;\n",
    "    plt.LogY   = true;\n",
    "    plt.Xlabel = @\"Nip Width $\\\\\\left[m\\\\right]$\";\n",
    "    plt.Ylabel = Labels[k] + \" \" + Units[k];\n",
    "    plt.LabelTitleFont = 32;\n",
    "    plt.LabelFont = 24;\n",
    "    plt.LegendFont = 18;\n",
    "    plt.lmargin = 12;\n",
    "    plt.bmargin = 4;\n",
    "    plt.ShowLegend = true;    \n",
    "    plt.LegendBox = true;\n",
    "    if(plt.Regression().Average(kv => kv.Value) > 0){\n",
    "        plt.LegendAlignment = new string[]{\"i\", \"l\", \"t\"};\n",
    "        plt.LegendSwap = true;    \n",
    "    } else{\n",
    "        plt.LegendAlignment = new string[]{\"i\", \"r\", \"t\"};\n",
    "        plt.LegendSwap = false;    \n",
    "    } \n",
    "    for(int n= 0; n < plt.dataGroups.Count(); n++){\n",
    "        plt.dataGroups[n].Format.LineWidth = 2;\n",
    "        plt.dataGroups[n].Format.PointSize = 1;\n",
    "        plt.dataGroups[n].Name = @\"$\\\\\\Delta{p} = \" + Convert.ToDouble(plt.dataGroups[n].Name.Split(\"id:P_Diff\").Last()).ToString(\"0e0\").Replace(\"e\",\"\\\\\\\\times 10^{\") + \"}\" + @\" \\\\\\frac{N}{m^2}$\";\n",
    "    }\n",
    "    plt.ModFormat();\n",
    "    plts.Add(plt);\n",
    "}"
   ]
  },
  {
   "cell_type": "code",
   "execution_count": null,
   "metadata": {
    "dotnet_interactive": {
     "language": "csharp"
    },
    "vscode": {
     "languageId": "polyglot-notebook"
    }
   },
   "outputs": [],
   "source": [
    "int k = 0;\n",
    "foreach(var plt in plts){\n",
    "    var gp = new Gnuplot();\n",
    "    gp.PlotLogSlope(plt, format: new PlotFormat(lineColor: (LineColors)7));\n",
    "    gp.Cmd(\"set key box width -7\");\n",
    "    plt.ToGnuplot(gp);\n",
    "    gp.PlotCairolatex().SaveTo(\"./PrintingNip/Figures/Part1/V0_P_\"+Columns[k]+\".tex\");\n",
    "    k++;\n",
    "}"
   ]
  },
  {
   "cell_type": "markdown",
   "metadata": {
    "dotnet_interactive": {
     "language": "csharp"
    },
    "polyglot_notebook": {
     "kernelName": "csharp"
    }
   },
   "source": [
    "### Plot Correlation dp = variable, V = 0, h const"
   ]
  },
  {
   "cell_type": "code",
   "execution_count": null,
   "metadata": {
    "dotnet_interactive": {
     "language": "csharp"
    },
    "vscode": {
     "languageId": "polyglot-notebook"
    }
   },
   "outputs": [],
   "source": [
    "var tab2plt = tab.ExtractRows((i,row) => Convert.ToDouble(row[\"id:V_Wall\"]).ApproxEqual(0.0) && Convert.ToDouble(row[\"id:P_Diff\"])>0.0);"
   ]
  },
  {
   "cell_type": "code",
   "execution_count": null,
   "metadata": {
    "dotnet_interactive": {
     "language": "csharp"
    },
    "vscode": {
     "languageId": "polyglot-notebook"
    }
   },
   "outputs": [],
   "source": [
    "List<Plot2Ddata> plts = new List<Plot2Ddata>();\n",
    "foreach(string col in Columns){\n",
    "    int k = Columns.IndexOf(col);\n",
    "    var plt = tab2plt.ToPlot(\"id:P_Diff\", col, ColName_GroupSelection: new string[] { \"id:delta\" });    \n",
    "    plt.LogX   = true;\n",
    "    plt.LogY   = true;\n",
    "    plt.Xlabel = @\"Pressure Difference $\\\\\\left[\\\\\\frac{N}{m^2}\\\\right]$\";\n",
    "    plt.Ylabel = Labels[k] + \" \" + Units[k];\n",
    "    plt.LabelTitleFont = 32;\n",
    "    plt.LabelFont = 24;\n",
    "    plt.LegendFont = 18;\n",
    "    plt.lmargin = 12;\n",
    "    plt.bmargin = 4;\n",
    "    plt.ShowLegend = true;    \n",
    "    plt.LegendBox = true;\n",
    "    if(plt.Regression().Average(kv => kv.Value) > 0){\n",
    "        plt.LegendAlignment = new string[]{\"i\", \"l\", \"t\"};\n",
    "        plt.LegendSwap = true;    \n",
    "    } else{\n",
    "        plt.LegendAlignment = new string[]{\"i\", \"r\", \"t\"};\n",
    "        plt.LegendSwap = false;    \n",
    "    }  \n",
    "    for(int n= 0; n < plt.dataGroups.Count(); n++){\n",
    "        plt.dataGroups[n].Format.LineWidth = 2;\n",
    "        plt.dataGroups[n].Format.PointSize = 1;\n",
    "        plt.dataGroups[n].Name = @\"$\\\\\\varepsilon = \" + Convert.ToDouble(plt.dataGroups[n].Name.Split(\"id:delta\").Last()).ToString(\"0e0\").Replace(\"e\",\"\\\\\\\\times 10^{\") + \"}\" + @\" m$\";\n",
    "    }\n",
    "    plt.ModFormat();\n",
    "    plts.Add(plt);\n",
    "}"
   ]
  },
  {
   "cell_type": "code",
   "execution_count": null,
   "metadata": {
    "dotnet_interactive": {
     "language": "csharp"
    },
    "vscode": {
     "languageId": "polyglot-notebook"
    }
   },
   "outputs": [],
   "source": [
    "int k = 0;\n",
    "foreach(var plt in plts){\n",
    "    var gp = new Gnuplot();\n",
    "    gp.PlotLogSlope(plt, format: new PlotFormat(lineColor: (LineColors)7));\n",
    "    gp.Cmd(\"set key box width -5\");\n",
    "    plt.ToGnuplot(gp);\n",
    "    gp.PlotCairolatex().SaveTo(\"./PrintingNip/Figures/Part1/V0_H_\"+Columns[k]+\".tex\");\n",
    "    k++;\n",
    "}"
   ]
  },
  {
   "cell_type": "markdown",
   "metadata": {
    "dotnet_interactive": {
     "language": "csharp"
    },
    "polyglot_notebook": {
     "kernelName": "csharp"
    }
   },
   "source": [
    "### Multiplots Correlation dp = variable, V = 0, h const and dp = 0, V = variable, h const"
   ]
  },
  {
   "cell_type": "code",
   "execution_count": null,
   "metadata": {
    "dotnet_interactive": {
     "language": "csharp"
    },
    "vscode": {
     "languageId": "polyglot-notebook"
    }
   },
   "outputs": [],
   "source": [
    "var tab2pltL = tab.ExtractRows((i,row) => Convert.ToDouble(row[\"id:P_Diff\"]).ApproxEqual(0.0) && Math.Log10(Convert.ToDouble(row[\"id:V_Wall\"])) % 1  == 0.0);"
   ]
  },
  {
   "cell_type": "code",
   "execution_count": null,
   "metadata": {
    "dotnet_interactive": {
     "language": "csharp"
    },
    "vscode": {
     "languageId": "polyglot-notebook"
    }
   },
   "outputs": [],
   "source": [
    "List<Plot2Ddata> pltsL = new List<Plot2Ddata>();\n",
    "foreach(string col in Columns){\n",
    "    int k = Columns.IndexOf(col);\n",
    "    var plt = tab2pltL.ToPlot(\"id:delta\", col, ColName_GroupSelection: new string[] { \"id:V_Wall\" });    \n",
    "    plt.LogX   = true;\n",
    "    plt.LogY   = true;\n",
    "    plt.Xlabel = @\"Nip Width $\\\\\\left[m\\\\right]$\";\n",
    "    plt.Ylabel = Labels[k] + \" \" + Units[k];\n",
    "    plt.LabelTitleFont = 32;\n",
    "    plt.LabelFont = 24;\n",
    "    plt.LegendFont = 18;\n",
    "    plt.ShowLegend = true;    \n",
    "    plt.LegendBox = true;\n",
    "    \n",
    "    plt.LegendAlignment = new string[]{\"o\", \"c\", \"t\"};\n",
    "    plt.LegendSwap = true;  \n",
    "    plt.LegendHorizontal = true;    \n",
    "\n",
    "    plt.lmargin = 8;\n",
    "    plt.rmargin = 1;\n",
    "    plt.tmargin = 6;\n",
    "    plt.bmargin = 1;\n",
    "\n",
    "    plt.LogX2 = true;\n",
    "    plt.LogY2 = true;\n",
    "\n",
    "    for(int n= 0; n < plt.dataGroups.Count(); n++){\n",
    "        plt.dataGroups[n].Format.LineWidth = 2;\n",
    "        plt.dataGroups[n].Format.PointSize = 1;\n",
    "        plt.dataGroups[n].Name = \"$V_W = \" + Convert.ToDouble(plt.dataGroups[n].Name.Split(\"id:V_Wall\").Last()).ToString(\"N1\") + @\" \\\\\\frac{m}{s}$\";\n",
    "    }\n",
    "    plt.ModFormat();\n",
    "    pltsL.Add(plt);\n",
    "}"
   ]
  },
  {
   "cell_type": "code",
   "execution_count": null,
   "metadata": {
    "dotnet_interactive": {
     "language": "csharp"
    },
    "vscode": {
     "languageId": "polyglot-notebook"
    }
   },
   "outputs": [],
   "source": [
    "var tab2pltR = tab.ExtractRows((i,row) => Convert.ToDouble(row[\"id:V_Wall\"]).ApproxEqual(0.0) && new double[] {2, 6, 10}.Contains(Math.Log10(Convert.ToDouble(row[\"id:P_Diff\"]))));\n",
    "tab2pltR.DefaultView.Sort = \"id:P_Diff DESC\";\n",
    "tab2pltR = tab2pltR.DefaultView.ToTable();"
   ]
  },
  {
   "cell_type": "code",
   "execution_count": null,
   "metadata": {
    "dotnet_interactive": {
     "language": "csharp"
    },
    "vscode": {
     "languageId": "polyglot-notebook"
    }
   },
   "outputs": [],
   "source": [
    "List<Plot2Ddata> pltsR = new List<Plot2Ddata>();\n",
    "foreach(string col in Columns){\n",
    "    int k = Columns.IndexOf(col);\n",
    "    var plt = tab2pltR.ToPlot(\"id:delta\", col, ColName_GroupSelection: new string[] { \"id:P_Diff\" });    \n",
    "    plt.LogX   = true;\n",
    "    plt.LogY   = true;\n",
    "    plt.Xlabel = @\"Nip Width $\\\\\\left[m\\\\right]$\";    \n",
    "    plt.Ylabel = Labels[k] + \" \" + Units[k];\n",
    "    plt.LabelTitleFont = 32;\n",
    "    plt.LabelFont = 24;\n",
    "    plt.LegendFont = 18;\n",
    "    plt.ShowLegend = true;    \n",
    "    plt.LegendBox = true;\n",
    "    \n",
    "    plt.LegendAlignment = new string[]{\"o\", \"c\", \"t\"};\n",
    "    plt.LegendSwap = true;    \n",
    "    plt.LegendHorizontal = true;\n",
    "    \n",
    "    plt.lmargin = 6;\n",
    "    plt.rmargin = 3;\n",
    "    plt.tmargin = 6;\n",
    "    plt.bmargin = 1;\n",
    "\n",
    "    plt.LogX2 = true;\n",
    "    plt.LogY2 = true;\n",
    "   \n",
    "    for(int n= 0; n < plt.dataGroups.Count(); n++){\n",
    "        plt.dataGroups[n].Format.LineWidth = 2;\n",
    "        plt.dataGroups[n].Format.PointSize = 1;\n",
    "        plt.dataGroups[n].Name = @\"$\\\\\\Delta{p} = \" + Convert.ToDouble(plt.dataGroups[n].Name.Split(\"id:P_Diff\").Last()).ToString(\"0e0\").Replace(\"e\",\"\\\\\\\\times 10^{\") + \"}\" + @\" \\\\\\frac{N}{m^2}$\";\n",
    "    }\n",
    "    plt.ModFormat();\n",
    "    pltsR.Add(plt);\n",
    "}"
   ]
  },
  {
   "cell_type": "code",
   "execution_count": null,
   "metadata": {
    "dotnet_interactive": {
     "language": "csharp"
    },
    "vscode": {
     "languageId": "polyglot-notebook"
    }
   },
   "outputs": [],
   "source": [
    "int k = 0;\n",
    "foreach(var pltL in pltsL){\n",
    "    var gp = new Gnuplot();\n",
    "    string label = pltL.Ylabel;\n",
    "    if(pltsR.Where(plt => plt.Ylabel == label).Count() > 0){\n",
    "        var pltR = pltsR.SingleOrDefault(plt => plt.Ylabel == label) ;\n",
    "        pltR.Ylabel = null;\n",
    "        \n",
    "        gp.Cmd(\"set multiplot layout 1,2 rowsfirst\");\n",
    "        gp.PlotLogSlope(pltL, format: new PlotFormat(lineColor: (LineColors)7));       \n",
    "        gp.Cmd(\"set key box width -5\");\n",
    "        gp.Cmd(\"set size square\");\n",
    "        pltL.ToGnuplot(gp);\n",
    "\n",
    "        gp.Cmd(\"unset label\");\n",
    "        gp.Cmd(\"unset object\");\n",
    "\n",
    "        gp.PlotLogSlope(pltR, format: new PlotFormat(lineColor: (LineColors)7));\n",
    "        gp.Cmd(\"set key box width -7\");\n",
    "        gp.Cmd(\"set size square\");\n",
    "        pltR.ToGnuplot(gp);\n",
    "\n",
    "        gp.Cmd(\"unset multiplot\");\n",
    "\n",
    "        gp.PlotCairolatex(ySize: 8.0).SaveTo(\"./PrintingNip/Figures/Part1/Multiplot_\"+Columns[k]+\".tex\");\n",
    "    }    \n",
    "    k++;\n",
    "}"
   ]
  },
  {
   "cell_type": "markdown",
   "metadata": {
    "dotnet_interactive": {
     "language": "csharp"
    }
   },
   "source": [
    "### Test Plotting"
   ]
  },
  {
   "cell_type": "code",
   "execution_count": null,
   "metadata": {
    "dotnet_interactive": {
     "language": "csharp"
    },
    "vscode": {
     "languageId": "polyglot-notebook"
    }
   },
   "outputs": [],
   "source": [
    "// Test code - see TestPDF.tex for output preview\n",
    "// int i = 5;\n",
    "// var gp = new Gnuplot();\n",
    "// gp.PlotLogSlope(plts.Pick(1));\n",
    "// gp.Cmd(\"set key box width -5\");\n",
    "// plts.Pick(i).ToGnuplot(gp);\n",
    "// gp.PlotCairolatex().SaveTo(\"./PrintingNip/Figures/Test/Part1.tex\");"
   ]
  }
 ],
 "metadata": {
  "kernelspec": {
   "display_name": ".NET (C#)",
   "language": "C#",
   "name": ".net-csharp"
  },
  "polyglot_notebook": {
   "kernelInfo": {
    "defaultKernelName": "csharp",
    "items": [
     {
      "aliases": [
       "c#",
       "C#"
      ],
      "languageName": "C#",
      "name": "csharp"
     },
     {
      "aliases": [],
      "name": ".NET"
     },
     {
      "aliases": [
       "f#",
       "F#"
      ],
      "languageName": "F#",
      "name": "fsharp"
     },
     {
      "aliases": [],
      "languageName": "HTML",
      "name": "html"
     },
     {
      "aliases": [],
      "languageName": "KQL",
      "name": "kql"
     },
     {
      "aliases": [],
      "languageName": "Mermaid",
      "name": "mermaid"
     },
     {
      "aliases": [
       "powershell"
      ],
      "languageName": "PowerShell",
      "name": "pwsh"
     },
     {
      "aliases": [],
      "languageName": "SQL",
      "name": "sql"
     },
     {
      "aliases": [],
      "name": "value"
     },
     {
      "aliases": [
       "frontend"
      ],
      "name": "vscode"
     }
    ]
   }
  }
 },
 "nbformat": 4,
 "nbformat_minor": 2
}

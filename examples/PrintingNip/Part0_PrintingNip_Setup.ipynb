{
 "cells": [
  {
   "cell_type": "markdown",
   "metadata": {},
   "source": [
    "# Printing Nip - K65 SFB1194"
   ]
  },
  {
   "cell_type": "markdown",
   "metadata": {},
   "source": [
    "This Notebook is used to reproduce the simulation results for the Kooperation K65 of SFB1194  \n",
    "Here we do the setup necessary to run the actual simulation notebooks"
   ]
  },
  {
   "cell_type": "markdown",
   "metadata": {},
   "source": [
    "### Load necessary references"
   ]
  },
  {
   "cell_type": "code",
   "execution_count": null,
   "metadata": {
    "dotnet_interactive": {
     "language": "csharp"
    },
    "vscode": {
     "languageId": "dotnet-interactive.csharp"
    }
   },
   "outputs": [],
   "source": [
    "#r \"BoSSSpad.dll\""
   ]
  },
  {
   "cell_type": "code",
   "execution_count": null,
   "metadata": {
    "dotnet_interactive": {
     "language": "csharp"
    },
    "vscode": {
     "languageId": "dotnet-interactive.csharp"
    }
   },
   "outputs": [],
   "source": [
    "using System.IO;\n",
    "using BoSSS.Application.BoSSSpad;\n",
    "using BoSSS.Foundation.IO;"
   ]
  },
  {
   "cell_type": "markdown",
   "metadata": {},
   "source": [
    "#### Create necessary Folders, if not existent"
   ]
  },
  {
   "cell_type": "markdown",
   "metadata": {},
   "source": [
    "Additional directories containing output"
   ]
  },
  {
   "cell_type": "code",
   "execution_count": null,
   "metadata": {
    "dotnet_interactive": {
     "language": "csharp"
    },
    "vscode": {
     "languageId": "dotnet-interactive.csharp"
    }
   },
   "outputs": [],
   "source": [
    "string path = Path.GetFullPath(@\".\\PrintingNip\");\n",
    "if(!Directory.Exists(path)){\n",
    "    Directory.CreateDirectory(path);\n",
    "}"
   ]
  },
  {
   "cell_type": "code",
   "execution_count": null,
   "metadata": {
    "dotnet_interactive": {
     "language": "csharp"
    },
    "vscode": {
     "languageId": "dotnet-interactive.csharp"
    }
   },
   "outputs": [],
   "source": [
    "string path = Path.GetFullPath(@\".\\PrintingNip\\Figures\");\n",
    "if(!Directory.Exists(path)){\n",
    "    Directory.CreateDirectory(path);\n",
    "}\n",
    "for(int i = 1; i <= 3; i++){\n",
    "    string subpath = Path.Combine(path, \"Part\" + i.ToString());\n",
    "    if(!Directory.Exists(subpath)){\n",
    "        Directory.CreateDirectory(subpath);\n",
    "    }\n",
    "}\n",
    "string subpath = Path.Combine(path, \"Test\");\n",
    "if(!Directory.Exists(subpath)){\n",
    "    Directory.CreateDirectory(subpath);\n",
    "}"
   ]
  },
  {
   "cell_type": "code",
   "execution_count": null,
   "metadata": {
    "dotnet_interactive": {
     "language": "csharp"
    },
    "vscode": {
     "languageId": "dotnet-interactive.csharp"
    }
   },
   "outputs": [],
   "source": [
    "string path = Path.GetFullPath(@\".\\PrintingNip\\Files\");\n",
    "if(!Directory.Exists(path)){\n",
    "    Directory.CreateDirectory(path);\n",
    "}"
   ]
  },
  {
   "cell_type": "code",
   "execution_count": null,
   "metadata": {
    "dotnet_interactive": {
     "language": "csharp"
    },
    "vscode": {
     "languageId": "dotnet-interactive.csharp"
    }
   },
   "outputs": [],
   "source": [
    "string path = Path.GetFullPath(@\".\\PrintingNip\\Output\");\n",
    "if(!Directory.Exists(path)){\n",
    "    Directory.CreateDirectory(path);\n",
    "}"
   ]
  }
 ],
 "metadata": {
  "kernelspec": {
   "display_name": ".NET (C#)",
   "language": "C#",
   "name": ".net-csharp"
  },
  "language_info": {
   "file_extension": ".cs",
   "mimetype": "text/x-csharp",
   "name": "C#",
   "pygments_lexer": "csharp",
   "version": "8.0"
  },
  "orig_nbformat": 4
 },
 "nbformat": 4,
 "nbformat_minor": 2
}

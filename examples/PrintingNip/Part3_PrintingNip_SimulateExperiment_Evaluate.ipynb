{
 "cells": [
  {
   "cell_type": "markdown",
   "metadata": {
    "dotnet_interactive": {
     "language": "csharp"
    },
    "polyglot_notebook": {
     "kernelName": "csharp"
    }
   },
   "source": [
    "# Part 3 - Evaluate simulations with experimental analogue"
   ]
  },
  {
   "cell_type": "markdown",
   "metadata": {
    "dotnet_interactive": {
     "language": "csharp"
    },
    "polyglot_notebook": {
     "kernelName": "csharp"
    }
   },
   "source": [
    "### First load some references"
   ]
  },
  {
   "cell_type": "code",
   "execution_count": null,
   "metadata": {
    "dotnet_interactive": {
     "language": "csharp"
    },
    "vscode": {
     "languageId": "polyglot-notebook"
    }
   },
   "outputs": [],
   "source": [
    "#r \"BoSSSpad.dll\"\n",
    "// #r \"..\\..\\src\\L4-application\\BoSSSpad\\bin\\Release\\net5.0\\BoSSSpad.dll\"\n",
    "using System;\n",
    "using System.Collections.Generic;\n",
    "using System.Linq;\n",
    "using System.IO;\n",
    "using System.Data;\n",
    "using System.Globalization;\n",
    "using System.Threading;\n",
    "using ilPSP;\n",
    "using ilPSP.Utils;\n",
    "using BoSSS.Platform;\n",
    "using BoSSS.Foundation;\n",
    "using BoSSS.Foundation.Grid;\n",
    "using BoSSS.Foundation.Grid.Classic;\n",
    "using BoSSS.Foundation.IO;\n",
    "using BoSSS.Solution;\n",
    "using BoSSS.Solution.Control;\n",
    "using BoSSS.Solution.GridImport;\n",
    "using BoSSS.Solution.Statistic;\n",
    "using BoSSS.Solution.Utils;\n",
    "using BoSSS.Solution.Gnuplot;\n",
    "using BoSSS.Application.BoSSSpad;\n",
    "using BoSSS.Application.XNSE_Solver;\n",
    "using static BoSSS.Application.BoSSSpad.BoSSSshell;\n",
    "using BoSSS.Foundation.Grid.RefElements;\n",
    "using BoSSS.Platform.LinAlg;\n",
    "using BoSSS.Application.XNSE_Solver.PhysicalBasedTestcases.PrintingNip;\n",
    "Init();"
   ]
  },
  {
   "cell_type": "markdown",
   "metadata": {
    "dotnet_interactive": {
     "language": "csharp"
    },
    "polyglot_notebook": {
     "kernelName": "csharp"
    }
   },
   "source": [
    "### Init Database etc."
   ]
  },
  {
   "cell_type": "code",
   "execution_count": null,
   "metadata": {
    "dotnet_interactive": {
     "language": "csharp"
    },
    "vscode": {
     "languageId": "polyglot-notebook"
    }
   },
   "outputs": [],
   "source": [
    "string ProjectName = \"SFB1194_K65_Part3\";"
   ]
  },
  {
   "cell_type": "code",
   "execution_count": null,
   "metadata": {
    "dotnet_interactive": {
     "language": "csharp"
    },
    "vscode": {
     "languageId": "polyglot-notebook"
    }
   },
   "outputs": [],
   "source": [
    "BoSSSshell.WorkflowMgm.Init(ProjectName);"
   ]
  },
  {
   "cell_type": "code",
   "execution_count": null,
   "metadata": {
    "dotnet_interactive": {
     "language": "csharp"
    },
    "vscode": {
     "languageId": "polyglot-notebook"
    }
   },
   "outputs": [],
   "source": [
    "static var myDb = BoSSSshell.WorkflowMgm.DefaultDatabase;"
   ]
  },
  {
   "cell_type": "markdown",
   "metadata": {
    "dotnet_interactive": {
     "language": "csharp"
    },
    "polyglot_notebook": {
     "kernelName": "csharp"
    }
   },
   "source": [
    "### Load Simulations"
   ]
  },
  {
   "cell_type": "code",
   "execution_count": null,
   "metadata": {
    "dotnet_interactive": {
     "language": "csharp"
    },
    "vscode": {
     "languageId": "polyglot-notebook"
    }
   },
   "outputs": [],
   "source": [
    "var sessions = myDb.Sessions.Where(s => s.ProjectName == ProjectName && s.SuccessfulTermination).ToArray();"
   ]
  },
  {
   "cell_type": "code",
   "execution_count": null,
   "metadata": {
    "dotnet_interactive": {
     "language": "csharp"
    },
    "vscode": {
     "languageId": "polyglot-notebook"
    }
   },
   "outputs": [],
   "source": [
    "sessions.Count()"
   ]
  },
  {
   "cell_type": "markdown",
   "metadata": {
    "dotnet_interactive": {
     "language": "csharp"
    },
    "polyglot_notebook": {
     "kernelName": "csharp"
    }
   },
   "source": [
    "### Setup Post-Processing"
   ]
  },
  {
   "cell_type": "code",
   "execution_count": null,
   "metadata": {
    "dotnet_interactive": {
     "language": "csharp"
    },
    "vscode": {
     "languageId": "polyglot-notebook"
    }
   },
   "outputs": [],
   "source": [
    "BoSSSshell.WorkflowMgm.AdditionalSessionTableColums.Clear();"
   ]
  },
  {
   "cell_type": "code",
   "execution_count": null,
   "metadata": {
    "dotnet_interactive": {
     "language": "csharp"
    },
    "vscode": {
     "languageId": "polyglot-notebook"
    }
   },
   "outputs": [],
   "source": [
    "BoSSSshell.WorkflowMgm.AdditionalSessionTableColums.Add(\"PressureRange\", Postprocessing.PressureRange);\n",
    "BoSSSshell.WorkflowMgm.AdditionalSessionTableColums.Add(\"VelocityXMax\", Postprocessing.VelocityXMax);\n",
    "BoSSSshell.WorkflowMgm.AdditionalSessionTableColums.Add(\"Massflux\", Postprocessing.Massflux);\n",
    "BoSSSshell.WorkflowMgm.AdditionalSessionTableColums.Add(\"NipShearRate\", Postprocessing.NipShearRate);\n",
    "BoSSSshell.WorkflowMgm.AdditionalSessionTableColums.Add(\"NipShearRateCylinder\", Postprocessing.NipShearRateCylinder);\n",
    "BoSSSshell.WorkflowMgm.AdditionalSessionTableColums.Add(\"ShearStressCylinder\", Postprocessing.ShearStressCylinder);\n",
    "BoSSSshell.WorkflowMgm.AdditionalSessionTableColums.Add(\"NipShearRateSubstrate\", Postprocessing.NipShearRateSubstrate);\n",
    "BoSSSshell.WorkflowMgm.AdditionalSessionTableColums.Add(\"ShearStressSubstrate\", Postprocessing.ShearStressSubstrate);\n",
    "BoSSSshell.WorkflowMgm.AdditionalSessionTableColums.Add(\"ViscousDissipation\", Postprocessing.ViscousDissipation); \n",
    "BoSSSshell.WorkflowMgm.AdditionalSessionTableColums.Add(\"PositionOfSynchronousFlow\", Postprocessing.PositionOfSynchronousFlow);\n",
    "BoSSSshell.WorkflowMgm.AdditionalSessionTableColums.Add(\"PositionOfStagnatingFlow\", Postprocessing.PositionOfStagnatingFlow);\n",
    "BoSSSshell.WorkflowMgm.AdditionalSessionTableColums.Add(\"dPdXatSynchronousPoint\", Postprocessing.dPdXatSynchronousPoint);\n",
    "BoSSSshell.WorkflowMgm.AdditionalSessionTableColums.Add(\"dPdXatStagnationPoint\", Postprocessing.dPdXatStagnationPoint);\n",
    "BoSSSshell.WorkflowMgm.AdditionalSessionTableColums.Add(\"dPdXatNip\", Postprocessing.dPdXatNip);\n",
    "BoSSSshell.WorkflowMgm.AdditionalSessionTableColums.Add(\"dPdXatConstantX\", Postprocessing.dPdXatConstantX);"
   ]
  },
  {
   "cell_type": "markdown",
   "metadata": {
    "dotnet_interactive": {
     "language": "csharp"
    },
    "polyglot_notebook": {
     "kernelName": "csharp"
    }
   },
   "source": [
    "### Create Datatable"
   ]
  },
  {
   "cell_type": "code",
   "execution_count": null,
   "metadata": {
    "dotnet_interactive": {
     "language": "csharp"
    },
    "vscode": {
     "languageId": "polyglot-notebook"
    }
   },
   "outputs": [],
   "source": [
    "DataTable tab;\n",
    "if(!File.Exists(\"./PrintingNip/Files/PrintingNip-Part3Export.csv\")){\n",
    "    tab = sessions.GetSessionTable(BoSSSshell.WorkflowMgm.AdditionalSessionTableColums.Select(kv => new Tuple<string, Func<ISessionInfo, object>>(kv.Key, kv.Value)).ToArray());\n",
    "    tab.ToCSVFile(\"./PrintingNip/Files/PrintingNip-Part3Export.csv\", ColSep: '%');\n",
    "} else{\n",
    "    tab = TableExtensions.FromCSVFile(\"./PrintingNip/Files/PrintingNip-Part3Export.csv\", ColSep: '%');\n",
    "}"
   ]
  },
  {
   "cell_type": "markdown",
   "metadata": {
    "dotnet_interactive": {
     "language": "csharp"
    }
   },
   "source": [
    "### Export Datatable"
   ]
  },
  {
   "cell_type": "code",
   "execution_count": null,
   "metadata": {
    "dotnet_interactive": {
     "language": "csharp"
    },
    "vscode": {
     "languageId": "polyglot-notebook"
    }
   },
   "outputs": [],
   "source": [
    "string[] Columns = new string[] {\"PressureRange\", \"VelocityXMax\", \"Massflux\", \"NipShearRate\", \"NipShearRateCylinder\", \"ShearStressCylinder\", \"NipShearRateSubstrate\", \"ShearStressSubstrate\", \"ViscousDissipation\", \"PositionOfSynchronousFlow\",  \"PositionOfStagnatingFlow\", \"dPdXatSynchronousPoint\", \"dPdXatStagnationPoint\", \"dPdXatNip\", \"dPdXatConstantX\"};\n",
    "string[] Labels = new string[] {\"Pressure\", \"Velocity\", \"Massflux\", \"Shearrate (Nip)\", \"Shearrate (Cylinder)\", \"Shearforce (Cylinder)\", \"Shearrate (Substrate)\", \"Shearforce (Substrate)\", \"Dissipation\", \"$x_{sync}$\", \"$x_{stag}$\", @\"$\\\\\\frac{\\\\\\partial p}{\\\\\\partial x}_{sync}$\", @\"$\\\\\\frac{\\\\\\partial p}{\\\\\\partial x}_{stag}$\", @\"$\\\\\\frac{\\\\\\partial p}{\\\\\\partial x}_{nip}$\", @\"$\\\\\\frac{\\\\\\partial p}{\\\\\\partial x}$\"};\n",
    "string[] Units = new string[] {@\"$\\\\\\left[\\\\\\frac{N}{m^2}\\\\right]$\", @\"$\\\\\\left[\\\\\\frac{m}{s}\\\\right]$\", @\"$\\\\\\left[\\\\\\frac{kg}{s}\\\\right]$\", @\"$\\\\\\left[\\\\\\frac{1}{s}\\\\right]$\", @\"$\\\\\\left[\\\\\\frac{1}{s}\\\\right]$\", @\"$\\\\\\left[N\\\\right]$\", @\"$\\\\\\left[\\\\\\frac{1}{s}\\\\right]$\", @\"$\\\\\\left[N\\\\right]$\", @\"$\\\\\\left[W\\\\right]$\", @\"$\\\\\\left[m\\\\right]$\", @\"$\\\\\\left[m\\\\right]$\", @\"$\\\\\\left[\\\\\\frac{N}{m^3}\\\\right]$\", @\"$\\\\\\left[\\\\\\frac{N}{m^3}\\\\right]$\", @\"$\\\\\\left[\\\\\\frac{N}{m^3}\\\\right]$\", @\"$\\\\\\left[\\\\\\frac{N}{m^3}\\\\right]$\"}; // some escape character nonsense"
   ]
  },
  {
   "cell_type": "code",
   "execution_count": null,
   "metadata": {
    "dotnet_interactive": {
     "language": "csharp"
    },
    "vscode": {
     "languageId": "polyglot-notebook"
    }
   },
   "outputs": [],
   "source": [
    "var tab2export = tab.ExtractColumns(Columns.ToList().Prepend(\"id:V_Wall\").Prepend(\"id:P_Diff\").Prepend(\"id:Radius\").Prepend(\"id:delta\").Prepend(\"id:Raster\").Prepend(\"SessionName\").ToArray());\n",
    "tab2export.ToHTMLFile(\"PrintingNip-Part3.html\", Path.GetFullPath(\"./PrintingNip/Files\"));\n",
    "tab2export.ToCSVFile(\"./PrintingNip/Files/PrintingNip-Part3.csv\", ColSep: ';');"
   ]
  },
  {
   "cell_type": "markdown",
   "metadata": {
    "dotnet_interactive": {
     "language": "csharp"
    },
    "polyglot_notebook": {
     "kernelName": "csharp"
    }
   },
   "source": [
    "### Plot Correlation - Constant Nip Width"
   ]
  },
  {
   "cell_type": "markdown",
   "metadata": {
    "dotnet_interactive": {
     "language": "csharp"
    },
    "polyglot_notebook": {
     "kernelName": "csharp"
    }
   },
   "source": [
    "Plot all Properties, we looked at before as functions of nip width. Remember, this time around the pressure b.c. is such that the stagnation point should remain constant"
   ]
  },
  {
   "cell_type": "code",
   "execution_count": null,
   "metadata": {
    "dotnet_interactive": {
     "language": "csharp"
    },
    "vscode": {
     "languageId": "polyglot-notebook"
    }
   },
   "outputs": [],
   "source": [
    "var tab2plt = tab.ExtractRows((i,row) => Convert.ToDouble(row[\"id:P_Diff\"]) > 0.0 && Convert.ToDouble(row[\"id:delta\"]).ApproxEqual(1e-5)); // arbitrary nip width"
   ]
  },
  {
   "cell_type": "code",
   "execution_count": null,
   "metadata": {
    "dotnet_interactive": {
     "language": "csharp"
    },
    "vscode": {
     "languageId": "polyglot-notebook"
    }
   },
   "outputs": [],
   "source": [
    "List<Plot2Ddata> plts = new List<Plot2Ddata>();\n",
    "foreach(string col in Columns){\n",
    "    int k = Columns.IndexOf(col);\n",
    "    var plt = tab2plt.ToPlot(\"id:V_Wall\", col, ColName_GroupSelection: new string[] { \"id:Raster\" });    \n",
    "    plt.LogX   = true;\n",
    "    plt.LogY   = true;\n",
    "    plt.Xlabel = @\"Printing Velocity Width $\\\\\\left[\\\\\\frac{m}{s}\\\\right]$\";\n",
    "    plt.Ylabel = Labels[k] + \" \" + Units[k];\n",
    "    plt.LabelTitleFont = 32;\n",
    "    plt.LabelFont = 24;\n",
    "    plt.LegendFont = 18;\n",
    "    plt.lmargin = 12;\n",
    "    plt.bmargin = 4;\n",
    "    plt.ShowLegend = true;    \n",
    "    plt.LegendBox = true;\n",
    "    if(plt.Regression().Average(kv => kv.Value) > 0){\n",
    "        plt.LegendAlignment = new string[]{\"i\", \"l\", \"t\"};\n",
    "        plt.LegendSwap = true;    \n",
    "    } else{\n",
    "        plt.LegendAlignment = new string[]{\"i\", \"r\", \"t\"};\n",
    "        plt.LegendSwap = false;    \n",
    "    }\n",
    "    for(int n= 0; n < plt.dataGroups.Count(); n++){\n",
    "        plt.dataGroups[n].Format.LineWidth = 2;\n",
    "        plt.dataGroups[n].Format.PointSize = 1;\n",
    "        plt.dataGroups[n].Name = \"Raster $ = \" + Convert.ToDouble(plt.dataGroups[n].Name.Split(\"id:Raster\").Last()).ToString() + @\" \\\\\\frac{1}{cm}$\";\n",
    "    }\n",
    "    plt.ModFormat();\n",
    "    plts.Add(plt);\n",
    "}"
   ]
  },
  {
   "cell_type": "code",
   "execution_count": null,
   "metadata": {
    "dotnet_interactive": {
     "language": "csharp"
    },
    "vscode": {
     "languageId": "polyglot-notebook"
    }
   },
   "outputs": [],
   "source": [
    "using(StreamWriter stw = new StreamWriter(\"./PrintingNip/Output/SlopesOverRaster.txt\")){\n",
    "    foreach(var plt in plts){\n",
    "        var slopes = plt.Regression();\n",
    "        stw.WriteLine(\"<===================================================>\");\n",
    "        stw.WriteLine(plt.Ylabel + \":\");\n",
    "        slopes.ForEach(kvp => stw.WriteLine(\"\\t\" + kvp.Key + \" : \" + kvp.Value));\n",
    "        stw.WriteLine(\"<===================================================>\");\n",
    "    }\n",
    "}"
   ]
  },
  {
   "cell_type": "code",
   "execution_count": null,
   "metadata": {
    "dotnet_interactive": {
     "language": "csharp"
    },
    "vscode": {
     "languageId": "polyglot-notebook"
    }
   },
   "outputs": [],
   "source": [
    "int k = 0;\n",
    "foreach(var plt in plts){\n",
    "    var gp = new Gnuplot();\n",
    "    gp.PlotLogSlope(plt, format: new PlotFormat(lineColor: (LineColors)7));\n",
    "    gp.Cmd(\"set key box width -9\");\n",
    "    plt.ToGnuplot(gp);\n",
    "    gp.PlotCairolatex().SaveTo(\"./PrintingNip/Figures/Part3/H0_\"+Columns[k]+\".tex\");\n",
    "    k++;\n",
    "}"
   ]
  },
  {
   "cell_type": "markdown",
   "metadata": {
    "dotnet_interactive": {
     "language": "csharp"
    },
    "polyglot_notebook": {
     "kernelName": "csharp"
    }
   },
   "source": [
    "### Plot Correlation - Constant Raster"
   ]
  },
  {
   "cell_type": "code",
   "execution_count": null,
   "metadata": {
    "dotnet_interactive": {
     "language": "csharp"
    },
    "vscode": {
     "languageId": "polyglot-notebook"
    }
   },
   "outputs": [],
   "source": [
    "var tab2plt = tab.ExtractRows((i,row) => Convert.ToDouble(row[\"id:P_Diff\"]) > 0.0 && Convert.ToDouble(row[\"id:Raster\"]).ApproxEqual(80)); // arbitrary nip width"
   ]
  },
  {
   "cell_type": "code",
   "execution_count": null,
   "metadata": {
    "dotnet_interactive": {
     "language": "csharp"
    },
    "vscode": {
     "languageId": "polyglot-notebook"
    }
   },
   "outputs": [],
   "source": [
    "List<Plot2Ddata> plts = new List<Plot2Ddata>();\n",
    "foreach(string col in Columns){\n",
    "    int k = Columns.IndexOf(col);\n",
    "    var plt = tab2plt.ToPlot(\"id:V_Wall\", col, ColName_GroupSelection: new string[] { \"id:delta\" });    \n",
    "    plt.LogX   = true;\n",
    "    plt.LogY   = true;\n",
    "    plt.Xlabel = @\"Printing Velocity $\\\\\\left[\\\\\\frac{m}{s}\\\\right]$\";\n",
    "    plt.Ylabel = Labels[k] + \" \" + Units[k];\n",
    "    plt.LabelTitleFont = 32;\n",
    "    plt.LabelFont = 24;\n",
    "    plt.LegendFont = 18;\n",
    "    plt.lmargin = 12;\n",
    "    plt.bmargin = 4;\n",
    "    plt.ShowLegend = true;    \n",
    "    plt.LegendBox = true;\n",
    "    if(plt.Regression().Average(kv => kv.Value) > 0){\n",
    "        plt.LegendAlignment = new string[]{\"i\", \"l\", \"t\"};\n",
    "        plt.LegendSwap = true;    \n",
    "    } else{\n",
    "        plt.LegendAlignment = new string[]{\"i\", \"r\", \"t\"};\n",
    "        plt.LegendSwap = false;    \n",
    "    }     \n",
    "    for(int n= 0; n < plt.dataGroups.Count(); n++){\n",
    "        plt.dataGroups[n].Format.LineWidth = 2;\n",
    "        plt.dataGroups[n].Format.PointSize = 1;\n",
    "        plt.dataGroups[n].Name = @\"$\\\\\\varepsilon = \" + Convert.ToDouble(plt.dataGroups[n].Name.Split(\"id:delta\").Last()).ToString(\"0e0\").Replace(\"e\",\"\\\\\\\\times 10^{\") + \"}\" + @\" m$\";\n",
    "    }\n",
    "    plt.ModFormat();\n",
    "    plts.Add(plt);\n",
    "}"
   ]
  },
  {
   "cell_type": "code",
   "execution_count": null,
   "metadata": {
    "dotnet_interactive": {
     "language": "csharp"
    },
    "vscode": {
     "languageId": "polyglot-notebook"
    }
   },
   "outputs": [],
   "source": [
    "using(StreamWriter stw = new StreamWriter(\"./PrintingNip/Output/SlopesOverNipWidth.txt\")){\n",
    "    foreach(var plt in plts){\n",
    "        var slopes = plt.Regression();\n",
    "        stw.WriteLine(\"<===================================================>\");\n",
    "        stw.WriteLine(plt.Ylabel + \":\");\n",
    "        slopes.ForEach(kvp => stw.WriteLine(\"\\t\" + kvp.Key + \" : \" + kvp.Value));\n",
    "        stw.WriteLine(\"<===================================================>\");\n",
    "    }\n",
    "}"
   ]
  },
  {
   "cell_type": "code",
   "execution_count": null,
   "metadata": {
    "dotnet_interactive": {
     "language": "csharp"
    },
    "vscode": {
     "languageId": "polyglot-notebook"
    }
   },
   "outputs": [],
   "source": [
    "int k = 0;\n",
    "foreach(var plt in plts){\n",
    "    var gp = new Gnuplot();\n",
    "    gp.PlotLogSlope(plt, format: new PlotFormat(lineColor: (LineColors)7));\n",
    "    gp.Cmd(\"set key box width -5\");\n",
    "    plt.ToGnuplot(gp);\n",
    "    gp.PlotCairolatex().SaveTo(\"./PrintingNip/Figures/Part3/R0_\"+Columns[k]+\".tex\");\n",
    "    k++;\n",
    "}"
   ]
  },
  {
   "cell_type": "markdown",
   "metadata": {
    "dotnet_interactive": {
     "language": "csharp"
    },
    "polyglot_notebook": {
     "kernelName": "csharp"
    }
   },
   "source": [
    "### Plot Correlation - Constant Raster, Nip-Width on abscissa"
   ]
  },
  {
   "cell_type": "code",
   "execution_count": null,
   "metadata": {
    "dotnet_interactive": {
     "language": "csharp"
    },
    "vscode": {
     "languageId": "polyglot-notebook"
    }
   },
   "outputs": [],
   "source": [
    "var tab2plt = tab.ExtractRows((i,row) => Convert.ToDouble(row[\"id:P_Diff\"]) > 0.0 && Convert.ToDouble(row[\"id:Raster\"]).ApproxEqual(80)); // arbitrary nip width"
   ]
  },
  {
   "cell_type": "code",
   "execution_count": null,
   "metadata": {
    "dotnet_interactive": {
     "language": "csharp"
    },
    "vscode": {
     "languageId": "polyglot-notebook"
    }
   },
   "outputs": [],
   "source": [
    "List<Plot2Ddata> plts = new List<Plot2Ddata>();\n",
    "foreach(string col in Columns){\n",
    "    int k = Columns.IndexOf(col);\n",
    "    var plt = tab2plt.ToPlot(\"id:delta\", col, ColName_GroupSelection: new string[] { \"id:V_Wall\" });    \n",
    "    plt.LogX   = true;\n",
    "    plt.LogY   = true;\n",
    "    plt.Xlabel = @\"Nip Width $\\\\\\left[m]$\";\n",
    "    plt.Ylabel = Labels[k] + \" \" + Units[k];\n",
    "    plt.LabelTitleFont = 32;\n",
    "    plt.LabelFont = 24;\n",
    "    plt.LegendFont = 18;\n",
    "    plt.lmargin = 12;\n",
    "    plt.bmargin = 4;\n",
    "    plt.ShowLegend = true;    \n",
    "    plt.LegendBox = true;\n",
    "    if(plt.Regression().Average(kv => kv.Value) > 0){\n",
    "        plt.LegendAlignment = new string[]{\"i\", \"l\", \"t\"};\n",
    "        plt.LegendSwap = true;    \n",
    "    } else{\n",
    "        plt.LegendAlignment = new string[]{\"i\", \"r\", \"t\"};\n",
    "        plt.LegendSwap = false;    \n",
    "    }     \n",
    "    for(int n= 0; n < plt.dataGroups.Count(); n++){\n",
    "        plt.dataGroups[n].Format.LineWidth = 2;\n",
    "        plt.dataGroups[n].Format.PointSize = 1;\n",
    "        plt.dataGroups[n].Name = @\"$V_Wall = \" + Convert.ToDouble(plt.dataGroups[n].Name.Split(\"id:V_Wall\").Last()) + \"}\" + @\" \\\\\\frac{m}{s}$\";\n",
    "    }\n",
    "    plt.ModFormat();\n",
    "    plts.Add(plt);\n",
    "}"
   ]
  },
  {
   "cell_type": "code",
   "execution_count": null,
   "metadata": {
    "dotnet_interactive": {
     "language": "csharp"
    },
    "vscode": {
     "languageId": "polyglot-notebook"
    }
   },
   "outputs": [],
   "source": [
    "int k = 0;\n",
    "foreach(var plt in plts){\n",
    "    var gp = new Gnuplot();\n",
    "    gp.PlotLogSlope(plt, format: new PlotFormat(lineColor: (LineColors)7));\n",
    "    gp.Cmd(\"set key box width -5\");\n",
    "    plt.ToGnuplot(gp);\n",
    "    gp.PlotCairolatex().SaveTo(\"./PrintingNip/Figures/Part3/R0_\"+Columns[k]+\"OverH.tex\");\n",
    "    k++;\n",
    "}"
   ]
  },
  {
   "cell_type": "markdown",
   "metadata": {
    "dotnet_interactive": {
     "language": "csharp"
    },
    "polyglot_notebook": {
     "kernelName": "csharp"
    }
   },
   "source": [
    "### Comparison to experiment"
   ]
  },
  {
   "cell_type": "code",
   "execution_count": null,
   "metadata": {
    "dotnet_interactive": {
     "language": "csharp"
    },
    "vscode": {
     "languageId": "polyglot-notebook"
    }
   },
   "outputs": [],
   "source": [
    "string[] lines = File.ReadAllLines(\"./ExperimentalResults.txt\");\n",
    "List<Tuple<double, double, double, double>> ExpResult = new List<Tuple<double, double, double, double>>(); // <Raster,V,dpdx,dpdx(std)>\n",
    "\n",
    "double e = 0.0395; // viscosity\n",
    "double s = 0.027; // surface tension\n",
    "\n",
    "for(int i = 1; i < lines.Length; i++){\n",
    "    string line = lines[i];\n",
    "    string[] values = line.Split('\\t');\n",
    "    double raster = Convert.ToDouble(values[0]);\n",
    "    double velocity = Convert.ToDouble(values[1]);\n",
    "    double finger = Convert.ToDouble(values[2])*100; // convert to 1/m\n",
    "    double fingerStd = Convert.ToDouble(values[3])*100; // standard deviation, convert to 1/m\n",
    "\n",
    "    double dpdx = 16*s*finger*finger;\n",
    "    double dpdxStd = 32*s*finger*fingerStd;\n",
    "    \n",
    "    ExpResult.Add(Tuple.Create(raster, velocity, dpdx, dpdxStd));\n",
    "}"
   ]
  },
  {
   "cell_type": "code",
   "execution_count": null,
   "metadata": {
    "dotnet_interactive": {
     "language": "csharp"
    },
    "vscode": {
     "languageId": "polyglot-notebook"
    }
   },
   "outputs": [],
   "source": [
    "double[] raster = new double[]{60.0, 70.0, 80.0, 100.0};\n",
    "var Plots = new Gnuplot[raster.Length];\n",
    "for(int i = 0; i < raster.Length; i++){\n",
    "\n",
    "    // data for experiment\n",
    "    var Exp = ExpResult.Where(r => r.Item1 == raster[i]);\n",
    "    var xExp = Exp.Select(r => r.Item2);\n",
    "    var yExp = Exp.Select(r => r.Item3);\n",
    "    var yDevExp = Exp.Select(r => r.Item4);\n",
    "\n",
    "    // data for simulation\n",
    "    var tab2plt = tab.ExtractRows((j,row) => Convert.ToDouble(row[\"id:delta\"]) == 1e-5 && Convert.ToDouble(row[\"id:Raster\"]).ApproxEqual(raster[i])); // arbitrary nip width\n",
    "    var xSim = tab2plt.Select().Select(row => Convert.ToDouble(row[\"id:V_Wall\"])).ToArray();\n",
    "    var ySim = tab2plt.Select().Select(row => Convert.ToDouble(row[\"dPdXatStagnationPoint\"])).ToArray();\n",
    "\n",
    "    // Add Data to plot\n",
    "    var gp = new Gnuplot();\n",
    "    Plots[i] = gp;\n",
    "    gp.PlotXY(xExp, yExp, \"Experiment\", new PlotFormat(null, LineColors.Red, DashTypes.Solid, 2, Styles.LinesPoints, PointTypes.Circle), logX: true, logY: true, useY2: false);\n",
    "    gp.PlotXY(xExp, yExp.Select((x, j) => x + yDevExp.ElementAt(j)), null, new PlotFormat(null, LineColors.Red, DashTypes.Dashed, 1, Styles.LinesPoints, PointTypes.Plus), logX: true, logY: true, useY2: true);\n",
    "    gp.PlotXY(xExp, yExp.Select((x, j) => x - yDevExp.ElementAt(j)), null, new PlotFormat(null, LineColors.Red, DashTypes.Dashed, 1, Styles.LinesPoints, PointTypes.Plus), logX: true, logY: true, useY2: true);\n",
    "\n",
    "    //gp.SetYRange(0.9 * ySim.Min(), 1.1 * ySim.Max());\n",
    "    gp.SetYRange(0.9 * Math.Min(ySim.Min(), yExp.Min()), 1.1 * Math.Max(ySim.Max(), yExp.Max()));\n",
    "    gp.SetXRange(0.1, 1.5);\n",
    "    //gp.SetY2Range(0.9 * yExp.Min(), 1.1 * yExp.Min() * ySim.Max() / ySim.Min());\n",
    "\n",
    "    Plot2Ddata dat = new Plot2Ddata(xSim.Select(x => Math.Log10(x)), ySim.Select(x => Math.Log10(x)));\n",
    "    double slope = Math.Round(dat.Regression().Average(kv => kv.Value) / 0.1) * 0.1;    \n",
    "    gp.PlotXY(new double[] {xSim.Min(), xSim.Max()}, new double[] {ySim.Average() * Math.Pow((xSim.Min()/xSim.Average()), slope), ySim.Average() * Math.Pow((xSim.Max()/xSim.Average()), slope) }, null, new PlotFormat(null, LineColors.Black, DashTypes.Solid, 1), logX: true, logY: true);\n",
    "\n",
    "    using (StringWriter stw = new StringWriter()) {\n",
    "        double[,] points = new double[4, 2];\n",
    "        points[0, 0] = xSim.Average();\n",
    "        points[1, 0] = 1.1 * xSim.Average();\n",
    "        points[2, 0] = 1.1 * xSim.Average();\n",
    "        points[3, 0] = xSim.Average();\n",
    "\n",
    "        points[0, 1] = ySim.Average();\n",
    "        points[1, 1] = ySim.Average();\n",
    "        points[2, 1] = ySim.Average() * Math.Pow(1.1, slope);\n",
    "        points[3, 1] = ySim.Average() * Math.Pow(1.1, slope);\n",
    "\n",
    "        stw.Write(\"set object poly from \");\n",
    "        \n",
    "        stw.Write(points[0, 0] + \",\" + points[0, 1]); stw.Write(\" to \");\n",
    "        stw.Write(points[2, 0] + \",\" + points[2, 1]); stw.Write(\" to \");\n",
    "        stw.Write(points[3, 0] + \",\" + points[3, 1]); stw.Write(\" to \");\n",
    "        stw.Write(points[0, 0] + \",\" + points[0, 1]);\n",
    "\n",
    "        string ColorString;\n",
    "        ColorString = \"\\\"black\\\"\";        \n",
    "        \n",
    "        stw.Write(\" fs empty border lc rgb \"+ColorString);\n",
    "        stw.WriteLine();\n",
    "\n",
    "        stw.Write(\"set label \"); stw.Write(\"\\\"1\\\" font \\\",14\\\"\"); stw.Write(\" at \");\n",
    "        stw.Write(0.5 * (points[0, 0] + points[1, 0]) + \",\" + points[2, 1]);\n",
    "        if (slope > 0) { stw.Write(\" offset character -0.5,0.5\"); } else { stw.Write(\" offset character -0.5,-0.75\"); };\n",
    "        stw.WriteLine();\n",
    "\n",
    "        stw.Write(\"set label \"); stw.Write(\"\\\"\" + slope.ToString(\"N1\") + \"\\\" font \\\",14\\\"\"); stw.Write(\" at \");\n",
    "        stw.Write(points[0, 0] + \",\" + 0.5 * (points[0, 1] + points[3, 1])); stw.Write(\" right offset character -0.25,-0.25\");\n",
    "\n",
    "        gp.Cmd(stw.ToString());\n",
    "    }\n",
    "\n",
    "    gp.PlotLogXLogY(xSim, ySim, \"Simulation\", new PlotFormat(null, LineColors.Black, DashTypes.Dashed, 2, Styles.LinesPoints, PointTypes.OpenCircle));\n",
    "\n",
    "    gp.Cmd($\"set title \\\"Raster : {raster[i]}\" + @\"$\\\\, \\\\\\frac{1}{cm}$\" + \"\\\" font \\\", 32\\\"\");\n",
    "    gp.Cmd(\"set xtics font \\\", 16\\\"\");\n",
    "    gp.Cmd(\"set ytics font \\\", 16\\\"\");\n",
    "    // gp.Cmd(\"set y2tics autofreq font \\\", 16\\\" textcolor \\\"red\\\"\");\n",
    "    // gp.Cmd(\"set y2tics autofreq font \\\", 16\\\" textcolor \\\"red\\\"\");\n",
    "    gp.Cmd(\"set bmargin 4\");\n",
    "    gp.Cmd(\"set key top left font \\\",24\\\"\");\n",
    "    gp.Cmd(\"set ylabel \\\"\" + @\"$\\\\\\left.\\\\\\frac{\\\\partial p}{\\\\partial x}\\\\right|_{stag} \\\\, \\\\\\left[\\\\\\frac{Pa}{m}\\\\right]$\" + \"\\\" font \\\",24\\\"\");\n",
    "    gp.Cmd(\"set xlabel \\\" \" + @\"$u_W \\\\, \\\\\\left[\\\\\\frac{m}{s}\\\\right] $\" + \"\\\" font \\\",24\\\"\");\n",
    "    gp.Cmd($\"set border 1+2+4 lt 8\");\n",
    "    gp.Cmd($\"set arrow 1 from 1.5, {0.9 * ySim.Min()} to 1.5, {1.1 * ySim.Max()} nohead lt 7\");\n",
    "}"
   ]
  },
  {
   "cell_type": "code",
   "execution_count": null,
   "metadata": {
    "dotnet_interactive": {
     "language": "csharp"
    },
    "vscode": {
     "languageId": "polyglot-notebook"
    }
   },
   "outputs": [],
   "source": [
    "foreach(var plt in Plots){\n",
    "    display(plt.PlotSVG(1200, 900));\n",
    "}"
   ]
  },
  {
   "cell_type": "code",
   "execution_count": null,
   "metadata": {
    "dotnet_interactive": {
     "language": "csharp"
    },
    "vscode": {
     "languageId": "polyglot-notebook"
    }
   },
   "outputs": [],
   "source": [
    "// \n",
    "int i = 0;\n",
    "foreach(var plt in Plots){\n",
    "    plt.PlotCairolatex().SaveTo(\"./PrintingNip/Figures/Part3/SimExp\" + raster[i++] + \".tex\");\n",
    "}"
   ]
  },
  {
   "cell_type": "code",
   "execution_count": null,
   "metadata": {
    "dotnet_interactive": {
     "language": "csharp"
    },
    "vscode": {
     "languageId": "polyglot-notebook"
    }
   },
   "outputs": [],
   "source": [
    "var tab2plt = tab.ExtractRows((j,row) => Convert.ToDouble(row[\"id:delta\"]) == 1e-5 && Convert.ToDouble(row[\"id:Raster\"]).ApproxEqual(raster[i])); // arbitrary nip width\n",
    "var xSim = tab2plt.Select().Select(row => Convert.ToDouble(row[\"id:V_Wall\"])).ToArray();\n",
    "var ySim = tab2plt.Select().Select(row => Convert.ToDouble(row[\"dPdXatStagnationPoint\"])).ToArray();"
   ]
  },
  {
   "cell_type": "code",
   "execution_count": null,
   "metadata": {
    "dotnet_interactive": {
     "language": "csharp"
    },
    "vscode": {
     "languageId": "polyglot-notebook"
    }
   },
   "outputs": [],
   "source": [
    "double[] raster = new double[]{60.0, 70.0, 80.0, 100.0};\n",
    "var gp = new Gnuplot();\n",
    "gp.SetMultiplot(2, 2);\n",
    "for(int i = 0; i < raster.Length; i++){\n",
    "    int l = i / 2;\n",
    "    int k = i % 2;\n",
    "\n",
    "    Console.WriteLine(\"{0},{1}\",l,k);\n",
    "\n",
    "    gp.SetSubPlot(l,k);\n",
    "\n",
    "    // data for experiment\n",
    "    var Exp = ExpResult.Where(r => r.Item1 == raster[i]);\n",
    "    var xExp = Exp.Select(r => r.Item2);\n",
    "    var yExp = Exp.Select(r => r.Item3);\n",
    "    var yDevExp = Exp.Select(r => r.Item4);\n",
    "\n",
    "    // data for simulation\n",
    "    var tab2plt = tab.ExtractRows((j,row) => Convert.ToDouble(row[\"id:delta\"]) == 1e-5 && Convert.ToDouble(row[\"id:Raster\"]).ApproxEqual(raster[i])); // arbitrary nip width\n",
    "    var xSim = tab2plt.Select().Select(row => Convert.ToDouble(row[\"id:V_Wall\"])).ToArray();\n",
    "    var ySim = tab2plt.Select().Select(row => Convert.ToDouble(row[\"dPdXatStagnationPoint\"])).ToArray();\n",
    "    Array.Sort(xSim, ySim);\n",
    "    // Add Data to plot\n",
    "    gp.PlotXY(xExp, yExp, \"Experiment\", new PlotFormat(null, LineColors.Red, DashTypes.Solid, 2, Styles.LinesPoints, PointTypes.Circle), logX: true, logY: true);\n",
    "    gp.PlotXY(xExp, yExp.Select((x, j) => x + yDevExp.ElementAt(j)), null, new PlotFormat(null, LineColors.Red, DashTypes.Dashed, 1, Styles.LinesPoints, PointTypes.Plus));\n",
    "    gp.PlotXY(xExp, yExp.Select((x, j) => x - yDevExp.ElementAt(j)), null, new PlotFormat(null, LineColors.Red, DashTypes.Dashed, 1, Styles.LinesPoints, PointTypes.Plus));\n",
    "\n",
    "    Plot2Ddata dat = new Plot2Ddata(xSim.Select(x => Math.Log10(x)), ySim.Select(x => Math.Log10(x)));\n",
    "    double slope = Math.Round(dat.Regression().Average(kv => kv.Value) / 0.1) * 0.1;    \n",
    "    // gp.PlotXY(new double[] {xSim.Min(), xSim.Max()}, new double[] {ySim.Average() * Math.Pow((xSim.Min()/xSim.Average()), slope), ySim.Average() * Math.Pow((xSim.Max()/xSim.Average()), slope) }, null, new PlotFormat(null, LineColors.Black, DashTypes.Solid, 1));\n",
    "\n",
    "    // using (StringWriter stw = new StringWriter()) {\n",
    "    //     double[,] points = new double[4, 2];\n",
    "    //     points[0, 0] = xSim.Average();\n",
    "    //     points[1, 0] = 1.2 * xSim.Average();\n",
    "    //     points[2, 0] = 1.2 * xSim.Average();\n",
    "    //     points[3, 0] = xSim.Average();\n",
    "\n",
    "    //     points[0, 1] = ySim.Average();\n",
    "    //     points[1, 1] = ySim.Average();\n",
    "    //     points[2, 1] = ySim.Average() * Math.Pow(1.2, slope);\n",
    "    //     points[3, 1] = ySim.Average() * Math.Pow(1.2, slope);\n",
    "\n",
    "    //     stw.Write($\"set object {i+1} poly from \");\n",
    "        \n",
    "    //     stw.Write(points[0, 0] + \",\" + points[0, 1]); stw.Write(\" to \");\n",
    "    //     stw.Write(points[2, 0] + \",\" + points[2, 1]); stw.Write(\" to \");\n",
    "    //     stw.Write(points[3, 0] + \",\" + points[3, 1]); stw.Write(\" to \");\n",
    "    //     stw.Write(points[0, 0] + \",\" + points[0, 1]);\n",
    "\n",
    "    //     string ColorString;\n",
    "    //     ColorString = \"\\\"black\\\"\";        \n",
    "        \n",
    "    //     stw.Write(\" fs empty border lc rgb \"+ColorString);\n",
    "    //     stw.WriteLine();\n",
    "\n",
    "    //     stw.Write(\"set label \"); stw.Write(\"\\\"\" + slope.ToString(\"N1\") + \"\\\" font \\\",14\\\"\"); stw.Write(\" at \");\n",
    "    //     stw.Write(0.5 * (points[0, 0] + points[1, 0]) + \",\" + points[2, 1]);\n",
    "    //     if (slope > 0) { stw.Write(\" offset character -0.5,0.5\"); } else { stw.Write(\" offset character -0.5,-0.75\"); };\n",
    "\n",
    "    //     gp.Cmd(stw.ToString());\n",
    "    // }\n",
    "\n",
    "    gp.PlotXY(xSim, ySim, \"Simulation\", new PlotFormat(null, LineColors.Black, DashTypes.Dashed, 2, Styles.LinesPoints, PointTypes.OpenCircle));\n",
    "    \n",
    "\n",
    "    if(i != 0){\n",
    "        gp.Cmd(\"unset key\");\n",
    "    }else{\n",
    "        gp.Cmd(\"set lmargin 8\");\n",
    "        gp.Cmd(\"set bmargin 3\");\n",
    "        gp.SetYRange(1e5, 1e7);\n",
    "        gp.SetXRange(0.1, 2);\n",
    "        gp.Cmd(\"set key top left font \\\",24\\\"\");\n",
    "        gp.Cmd(\"set key width -4\");\n",
    "\n",
    "    }\n",
    "    if(k != 0){\n",
    "        gp.Cmd(\"set ytics font \\\", 16\\\" nomirror\");\n",
    "\n",
    "        gp.Cmd(\"set format y \\\"\\\"\");\n",
    "        gp.Cmd(\"unset ylabel\");\n",
    "    } else {\n",
    "        gp.Cmd(\"set format y \\\"10^%T\\\"\");\n",
    "        gp.Cmd(\"set ytics font \\\", 16\\\" nomirror\");\n",
    "        gp.Cmd(\"set ylabel \\\"\" + @\"$\\\\\\left.\\\\\\frac{\\\\partial p}{\\\\partial x}\\\\right|_{stag} \\\\, \\\\\\left[\\\\\\frac{Pa}{m}\\\\right]$\" + \"\\\" font \\\",24\\\"\");\n",
    "    }\n",
    "    if(l != 1){\n",
    "        gp.Cmd(\"set xtics font \\\", 16\\\" nomirror\");\n",
    "\n",
    "        gp.Cmd(\"set format x \\\"\\\"\");\n",
    "        gp.Cmd(\"unset xlabel\");\n",
    "    } else {\n",
    "        gp.Cmd(\"set format x \\\"%.1f\\\"\");\n",
    "        gp.Cmd(\"set xtics font \\\", 16\\\" nomirror\");\n",
    "        gp.Cmd(\"set xlabel \\\" \" + @\"$u_W \\\\, \\\\\\left[\\\\\\frac{m}{s}\\\\right] $\" + \"\\\" font \\\",24\\\"\");\n",
    "    }\n",
    "\n",
    "    gp.Cmd($\"set title \\\"Raster : {raster[i]}\" + @\"$\\\\, \\\\\\frac{1}{cm}$\" + \"\\\" font \\\", 32\\\"\");\n",
    "\n",
    "    gp.WriteDeferredPlotCommands();\n",
    "    gp.Cmd($\"unset object {i+1}\");\n",
    "    gp.Cmd($\"unset label\");\n",
    "\n",
    "}\n",
    "gp.UnsetMultiplot();"
   ]
  },
  {
   "cell_type": "code",
   "execution_count": null,
   "metadata": {
    "dotnet_interactive": {
     "language": "csharp"
    },
    "vscode": {
     "languageId": "polyglot-notebook"
    }
   },
   "outputs": [],
   "source": [
    "gp.GetAllCommandsString()"
   ]
  },
  {
   "cell_type": "code",
   "execution_count": null,
   "metadata": {
    "dotnet_interactive": {
     "language": "csharp"
    },
    "vscode": {
     "languageId": "polyglot-notebook"
    }
   },
   "outputs": [],
   "source": [
    "gp.PlotSVG(1200, 900)"
   ]
  },
  {
   "cell_type": "code",
   "execution_count": null,
   "metadata": {
    "dotnet_interactive": {
     "language": "csharp"
    },
    "vscode": {
     "languageId": "polyglot-notebook"
    }
   },
   "outputs": [],
   "source": [
    "gp.PlotCairolatex(xSize: 20, ySize: 15).SaveTo(\"./PrintingNip/Figures/Part3/SimExpAll.tex\");"
   ]
  },
  {
   "cell_type": "markdown",
   "metadata": {
    "dotnet_interactive": {
     "language": "csharp"
    },
    "polyglot_notebook": {
     "kernelName": "csharp"
    }
   },
   "source": [
    "### Test plotting"
   ]
  },
  {
   "cell_type": "code",
   "execution_count": null,
   "metadata": {
    "dotnet_interactive": {
     "language": "csharp"
    },
    "vscode": {
     "languageId": "polyglot-notebook"
    }
   },
   "outputs": [],
   "source": [
    "// Test code - see TestPDF.tex for output preview\n",
    "// int i = 1;\n",
    "// var gp = new Gnuplot();\n",
    "// gp.PlotLogSlope(plts.Pick(1), format: new PlotFormat(lineColor: (LineColors)7));\n",
    "// gp.Cmd(\"set key box width -5\");\n",
    "// plts.Pick(i).ToGnuplot(gp);\n",
    "// gp.PlotCairolatex().SaveTo(\"./Figures/Test/Part3.tex\");"
   ]
  }
 ],
 "metadata": {
  "kernelspec": {
   "display_name": ".NET (C#)",
   "language": "C#",
   "name": ".net-csharp"
  },
  "polyglot_notebook": {
   "kernelInfo": {
    "defaultKernelName": "csharp",
    "items": [
     {
      "aliases": [],
      "name": "csharp"
     }
    ]
   }
  }
 },
 "nbformat": 4,
 "nbformat_minor": 2
}

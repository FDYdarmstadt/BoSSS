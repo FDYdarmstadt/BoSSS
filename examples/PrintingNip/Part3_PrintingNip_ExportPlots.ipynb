{
 "cells": [
  {
   "cell_type": "markdown",
   "metadata": {},
   "source": [
    "# Part 3 - Evaluate simulations with experimental analogue"
   ]
  },
  {
   "cell_type": "markdown",
   "metadata": {},
   "source": [
    "### First load some references"
   ]
  },
  {
   "cell_type": "code",
   "execution_count": null,
   "metadata": {
    "dotnet_interactive": {
     "language": "csharp"
    },
    "vscode": {
     "languageId": "dotnet-interactive.csharp"
    }
   },
   "outputs": [],
   "source": [
    "// #r \"BoSSSpad.dll\"\n",
    "#r \"..\\..\\src\\L4-application\\BoSSSpad\\bin\\Release\\net5.0\\BoSSSpad.dll\"\n",
    "using System;\n",
    "using System.Collections.Generic;\n",
    "using System.Linq;\n",
    "using System.IO;\n",
    "using System.Data;\n",
    "using System.Globalization;\n",
    "using System.Threading;\n",
    "using ilPSP;\n",
    "using ilPSP.Utils;\n",
    "using BoSSS.Platform;\n",
    "using BoSSS.Foundation;\n",
    "using BoSSS.Foundation.Grid;\n",
    "using BoSSS.Foundation.Grid.Classic;\n",
    "using BoSSS.Foundation.IO;\n",
    "using BoSSS.Solution;\n",
    "using BoSSS.Solution.Control;\n",
    "using BoSSS.Solution.GridImport;\n",
    "using BoSSS.Solution.Statistic;\n",
    "using BoSSS.Solution.Utils;\n",
    "using BoSSS.Solution.Gnuplot;\n",
    "using BoSSS.Application.BoSSSpad;\n",
    "using BoSSS.Application.XNSE_Solver;\n",
    "using static BoSSS.Application.BoSSSpad.BoSSSshell;\n",
    "using BoSSS.Foundation.Grid.RefElements;\n",
    "using BoSSS.Platform.LinAlg;\n",
    "using BoSSS.Application.XNSE_Solver.PhysicalBasedTestcases.PrintingNip;\n",
    "Init();"
   ]
  },
  {
   "cell_type": "markdown",
   "metadata": {},
   "source": [
    "### Export One Session with each boundary configuration"
   ]
  },
  {
   "cell_type": "code",
   "execution_count": null,
   "metadata": {
    "dotnet_interactive": {
     "language": "csharp"
    },
    "vscode": {
     "languageId": "dotnet-interactive.csharp"
    }
   },
   "outputs": [],
   "source": [
    "string ProjectName = \"SFB1194_K65_Part1\";\n",
    "BoSSSshell.WorkflowMgm.Init(ProjectName);"
   ]
  },
  {
   "cell_type": "code",
   "execution_count": null,
   "metadata": {
    "dotnet_interactive": {
     "language": "csharp"
    },
    "vscode": {
     "languageId": "dotnet-interactive.csharp"
    }
   },
   "outputs": [],
   "source": [
    "var sessions = BoSSSshell.WorkflowMgm.Sessions;\n",
    "sessions.Count()"
   ]
  },
  {
   "cell_type": "code",
   "execution_count": null,
   "metadata": {
    "dotnet_interactive": {
     "language": "csharp"
    },
    "vscode": {
     "languageId": "dotnet-interactive.csharp"
    }
   },
   "outputs": [],
   "source": [
    "public static bool SimulationChooser(this ISessionInfo s, double V, double P, double h){\n",
    "    bool take = true;\n",
    "    take &= s.SuccessfulTermination;\n",
    "    take &= Convert.ToDouble(s.KeysAndQueries[\"id:V_Wall\"]).ApproxEqual(V, AbsTol : BLAS.MachineEps * 1e3);\n",
    "    take &= Convert.ToDouble(s.KeysAndQueries[\"id:P_Diff\"]).ApproxEqual(P, AbsTol : BLAS.MachineEps * 1e3);\n",
    "    take &= Convert.ToDouble(s.KeysAndQueries[\"id:delta\"]).ApproxEqual(h, AbsTol : BLAS.MachineEps * 1e3);\n",
    "    return take;\n",
    "}"
   ]
  },
  {
   "cell_type": "code",
   "execution_count": null,
   "metadata": {
    "dotnet_interactive": {
     "language": "csharp"
    },
    "vscode": {
     "languageId": "dotnet-interactive.csharp"
    }
   },
   "outputs": [],
   "source": [
    "var sess = new List<ISessionInfo>();"
   ]
  },
  {
   "cell_type": "code",
   "execution_count": null,
   "metadata": {
    "dotnet_interactive": {
     "language": "csharp"
    },
    "vscode": {
     "languageId": "dotnet-interactive.csharp"
    }
   },
   "outputs": [],
   "source": [
    "sess.Add(sessions.Single(s => s.SimulationChooser(1.0, 0.0, 1e-4)));\n",
    "sess.Add(sessions.Single(s => s.SimulationChooser(0.0, 1e6, 1e-4)));"
   ]
  },
  {
   "cell_type": "code",
   "execution_count": null,
   "metadata": {
    "dotnet_interactive": {
     "language": "csharp"
    },
    "vscode": {
     "languageId": "dotnet-interactive.csharp"
    }
   },
   "outputs": [],
   "source": [
    "string ProjectName = \"SFB1194_K65_Part2\";\n",
    "BoSSSshell.WorkflowMgm.Init(ProjectName);"
   ]
  },
  {
   "cell_type": "code",
   "execution_count": null,
   "metadata": {
    "dotnet_interactive": {
     "language": "csharp"
    },
    "vscode": {
     "languageId": "dotnet-interactive.csharp"
    }
   },
   "outputs": [],
   "source": [
    "var sessions = BoSSSshell.WorkflowMgm.Sessions;\n",
    "sessions.Count()"
   ]
  },
  {
   "cell_type": "code",
   "execution_count": null,
   "metadata": {
    "dotnet_interactive": {
     "language": "csharp"
    },
    "vscode": {
     "languageId": "dotnet-interactive.csharp"
    }
   },
   "outputs": [],
   "source": [
    "public static bool SimulationChooser2(this ISessionInfo s, double V, double h){\n",
    "    bool take = true;\n",
    "    take &= s.SuccessfulTermination;\n",
    "    take &= Convert.ToDouble(s.KeysAndQueries[\"id:V_Wall\"]).ApproxEqual(V, AbsTol : BLAS.MachineEps * 1e3);\n",
    "    take &= Convert.ToDouble(s.KeysAndQueries[\"id:delta\"]).ApproxEqual(h, AbsTol : BLAS.MachineEps * 1e3);\n",
    "    return take;\n",
    "}"
   ]
  },
  {
   "cell_type": "code",
   "execution_count": null,
   "metadata": {
    "dotnet_interactive": {
     "language": "csharp"
    },
    "vscode": {
     "languageId": "dotnet-interactive.csharp"
    }
   },
   "outputs": [],
   "source": [
    "sess.Add(sessions.Single(s => s.SimulationChooser2(1.0 , 1e-4)));"
   ]
  },
  {
   "cell_type": "code",
   "execution_count": null,
   "metadata": {
    "dotnet_interactive": {
     "language": "csharp"
    },
    "vscode": {
     "languageId": "dotnet-interactive.csharp"
    }
   },
   "outputs": [],
   "source": [
    "public static void ExportPlot(this ISessionInfo s){\n",
    "    s.Timesteps.Last().Export().WithSupersampling(3).To(Path.GetFullPath(\"./\"+s.Name)).Do();\n",
    "}"
   ]
  },
  {
   "cell_type": "code",
   "execution_count": null,
   "metadata": {
    "dotnet_interactive": {
     "language": "csharp"
    },
    "vscode": {
     "languageId": "dotnet-interactive.csharp"
    }
   },
   "outputs": [],
   "source": [
    "sess.ForEach(s => s.ExportPlot());"
   ]
  },
  {
   "cell_type": "markdown",
   "metadata": {},
   "source": [
    "Use together with the paraview file for some predefined visualizations"
   ]
  }
 ],
 "metadata": {
  "kernelspec": {
   "display_name": ".NET (C#)",
   "language": "C#",
   "name": ".net-csharp"
  },
  "language_info": {
   "file_extension": ".cs",
   "mimetype": "text/x-csharp",
   "name": "C#",
   "pygments_lexer": "csharp",
   "version": "9.0"
  },
  "orig_nbformat": 4
 },
 "nbformat": 4,
 "nbformat_minor": 2
}

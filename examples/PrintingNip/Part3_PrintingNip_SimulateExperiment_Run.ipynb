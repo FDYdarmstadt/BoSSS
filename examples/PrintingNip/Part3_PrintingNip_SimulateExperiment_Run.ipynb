{
 "cells": [
  {
   "cell_type": "markdown",
   "metadata": {
    "dotnet_interactive": {
     "language": "csharp"
    },
    "polyglot_notebook": {
     "kernelName": "csharp"
    }
   },
   "source": [
    "# Part 3 - Run simulations with stagnation points / velocities from experiment"
   ]
  },
  {
   "cell_type": "markdown",
   "metadata": {
    "dotnet_interactive": {
     "language": "csharp"
    },
    "polyglot_notebook": {
     "kernelName": "csharp"
    }
   },
   "source": [
    "### First load some references"
   ]
  },
  {
   "cell_type": "code",
   "execution_count": null,
   "metadata": {
    "dotnet_interactive": {
     "language": "csharp"
    },
    "vscode": {
     "languageId": "polyglot-notebook"
    }
   },
   "outputs": [],
   "source": [
    "#r \"BoSSSpad.dll\"\n",
    "using System;\n",
    "using System.Collections.Generic;\n",
    "using System.Linq;\n",
    "using System.IO;\n",
    "using System.Data;\n",
    "using System.Globalization;\n",
    "using System.Threading;\n",
    "using ilPSP;\n",
    "using ilPSP.Utils;\n",
    "using BoSSS.Platform;\n",
    "using BoSSS.Foundation;\n",
    "using BoSSS.Foundation.Grid;\n",
    "using BoSSS.Foundation.Grid.Classic;\n",
    "using BoSSS.Foundation.IO;\n",
    "using BoSSS.Solution;\n",
    "using BoSSS.Solution.Control;\n",
    "using BoSSS.Solution.GridImport;\n",
    "using BoSSS.Solution.Statistic;\n",
    "using BoSSS.Solution.Utils;\n",
    "using BoSSS.Solution.Gnuplot;\n",
    "using BoSSS.Application.BoSSSpad;\n",
    "using BoSSS.Application.XNSE_Solver;\n",
    "using static BoSSS.Application.BoSSSpad.BoSSSshell;\n",
    "using BoSSS.Foundation.Grid.RefElements;\n",
    "using BoSSS.Platform.LinAlg;\n",
    "using BoSSS.Application.XNSE_Solver.PhysicalBasedTestcases.PrintingNip;\n",
    "Init();"
   ]
  },
  {
   "cell_type": "markdown",
   "metadata": {
    "dotnet_interactive": {
     "language": "csharp"
    },
    "polyglot_notebook": {
     "kernelName": "csharp"
    }
   },
   "source": [
    "### Init Database etc."
   ]
  },
  {
   "cell_type": "code",
   "execution_count": null,
   "metadata": {
    "dotnet_interactive": {
     "language": "csharp"
    },
    "vscode": {
     "languageId": "polyglot-notebook"
    }
   },
   "outputs": [],
   "source": [
    "string ProjectName4Correlation = \"SFB1194_K65_Part1\";\n",
    "string ProjectName = \"SFB1194_K65_Part3\";"
   ]
  },
  {
   "cell_type": "code",
   "execution_count": null,
   "metadata": {
    "dotnet_interactive": {
     "language": "csharp"
    },
    "vscode": {
     "languageId": "polyglot-notebook"
    }
   },
   "outputs": [],
   "source": [
    "static var myBatch = BoSSSshell.GetDefaultQueue();"
   ]
  },
  {
   "cell_type": "code",
   "execution_count": null,
   "metadata": {
    "dotnet_interactive": {
     "language": "csharp"
    },
    "vscode": {
     "languageId": "polyglot-notebook"
    }
   },
   "outputs": [],
   "source": [
    "BoSSSshell.WorkflowMgm.Init(ProjectName4Correlation);\n",
    "static var myDb4Correlation = BoSSSshell.OpenDatabase(BoSSSshell.WorkflowMgm.DefaultDatabase.Path);\n",
    "Console.WriteLine(\"Initializing : \" + myDb4Correlation.Path); // we need to init the static var! otherwise we end up with a reference to the wrong database!"
   ]
  },
  {
   "cell_type": "code",
   "execution_count": null,
   "metadata": {
    "dotnet_interactive": {
     "language": "csharp"
    },
    "vscode": {
     "languageId": "polyglot-notebook"
    }
   },
   "outputs": [],
   "source": [
    "BoSSSshell.WorkflowMgm.Init(ProjectName);\n",
    "static var myDb = BoSSSshell.OpenDatabase(BoSSSshell.WorkflowMgm.DefaultDatabase.Path);\n",
    "Console.WriteLine(\"Initializing : \" + myDb.Path);"
   ]
  },
  {
   "cell_type": "code",
   "execution_count": null,
   "metadata": {
    "dotnet_interactive": {
     "language": "csharp"
    },
    "vscode": {
     "languageId": "polyglot-notebook"
    }
   },
   "outputs": [],
   "source": [
    "BoSSSshell.WorkflowMgm.SetNameBasedSessionJobControlCorrelation();"
   ]
  },
  {
   "cell_type": "markdown",
   "metadata": {
    "dotnet_interactive": {
     "language": "csharp"
    }
   },
   "source": [
    "### Construct parameterized velocity splines"
   ]
  },
  {
   "cell_type": "code",
   "execution_count": null,
   "metadata": {
    "dotnet_interactive": {
     "language": "csharp"
    },
    "vscode": {
     "languageId": "polyglot-notebook"
    }
   },
   "outputs": [],
   "source": [
    "double H0 = 1e-5;\n",
    "double V0 = 1.0;\n",
    "double P0 = 1e6;"
   ]
  },
  {
   "cell_type": "code",
   "execution_count": null,
   "metadata": {
    "dotnet_interactive": {
     "language": "csharp"
    },
    "vscode": {
     "languageId": "polyglot-notebook"
    }
   },
   "outputs": [],
   "source": [
    "var sessions = myDb4Correlation.Sessions.Where(s => s.ProjectName == \"SFB1194_K65_Part1\").ToArray();\n",
    "var sV = sessions.Single(s => Convert.ToDouble(s.KeysAndQueries[\"id:delta\"]).ApproxEqual(H0) &  Convert.ToDouble(s.KeysAndQueries[\"id:P_Diff\"]).ApproxEqual(0.0) & Convert.ToDouble(s.KeysAndQueries[\"id:V_Wall\"]).ApproxEqual(V0));\n",
    "var sP = sessions.Single(s => Convert.ToDouble(s.KeysAndQueries[\"id:delta\"]).ApproxEqual(H0) &  Convert.ToDouble(s.KeysAndQueries[\"id:P_Diff\"]).ApproxEqual(P0) & Convert.ToDouble(s.KeysAndQueries[\"id:V_Wall\"]).ApproxEqual(0.0));"
   ]
  },
  {
   "cell_type": "markdown",
   "metadata": {
    "dotnet_interactive": {
     "language": "csharp"
    },
    "polyglot_notebook": {
     "kernelName": "csharp"
    }
   },
   "source": [
    "Function to create the velocity profile along the symmetry axis"
   ]
  },
  {
   "cell_type": "code",
   "execution_count": null,
   "metadata": {
    "dotnet_interactive": {
     "language": "csharp"
    },
    "vscode": {
     "languageId": "polyglot-notebook"
    }
   },
   "outputs": [],
   "source": [
    "using MathNet.Numerics.Interpolation;"
   ]
  },
  {
   "cell_type": "code",
   "execution_count": null,
   "metadata": {
    "dotnet_interactive": {
     "language": "csharp"
    },
    "vscode": {
     "languageId": "polyglot-notebook"
    }
   },
   "outputs": [],
   "source": [
    "static public CubicSpline ConstructVelocitySpline(ISessionInfo si) {\n",
    "    DGField VelocityX = si.Timesteps.Last().Fields.Single(f => f.Identification == \"VelocityX\");\n",
    "    var grd = (GridData)VelocityX.GridDat;\n",
    "    EdgeMask em = new EdgeMask(grd, X => Math.Abs(X[1]) < 1e-12); // symmetry axis\n",
    "\n",
    "    var Spline = Postprocessing.SplineOnEdge(em, VelocityX, 0, out double lB, out double uB);\n",
    "    return Spline;\n",
    "}"
   ]
  },
  {
   "cell_type": "markdown",
   "metadata": {
    "dotnet_interactive": {
     "language": "csharp"
    },
    "polyglot_notebook": {
     "kernelName": "csharp"
    }
   },
   "source": [
    "Evaluate the profile for both simulations and superpose"
   ]
  },
  {
   "cell_type": "code",
   "execution_count": null,
   "metadata": {
    "dotnet_interactive": {
     "language": "csharp"
    },
    "vscode": {
     "languageId": "polyglot-notebook"
    }
   },
   "outputs": [],
   "source": [
    "var SplineV = ConstructVelocitySpline(sV);\n",
    "var SplineP = ConstructVelocitySpline(sP);"
   ]
  },
  {
   "cell_type": "code",
   "execution_count": null,
   "metadata": {
    "dotnet_interactive": {
     "language": "csharp"
    },
    "vscode": {
     "languageId": "polyglot-notebook"
    }
   },
   "outputs": [],
   "source": [
    "Func<double, double, double, double, double> VelocityFunc = (x, h, v, p) => v/V0 * SplineV.Interpolate(x * Math.Sqrt(H0) / Math.Sqrt(h)) + (p * Math.Pow(h,1.5))/(P0 * Math.Pow(H0,1.5)) * SplineP.Interpolate(x * Math.Sqrt(H0) / Math.Sqrt(h));"
   ]
  },
  {
   "cell_type": "markdown",
   "metadata": {
    "dotnet_interactive": {
     "language": "csharp"
    },
    "polyglot_notebook": {
     "kernelName": "csharp"
    }
   },
   "source": [
    "Set Velocity to be zero at a certain x_stag and calculate the necessary pressure difference"
   ]
  },
  {
   "cell_type": "code",
   "execution_count": null,
   "metadata": {
    "dotnet_interactive": {
     "language": "csharp"
    },
    "vscode": {
     "languageId": "polyglot-notebook"
    }
   },
   "outputs": [],
   "source": [
    "Func<double, double, double, double> PressureFunc = (x_stag, h, v) => -v/V0 * SplineV.Interpolate(x_stag * Math.Sqrt(H0) / Math.Sqrt(h)) * (P0 * Math.Pow(H0,1.5)) / (Math.Pow(h,1.5) * SplineP.Interpolate(x_stag * Math.Sqrt(H0) / Math.Sqrt(h)));"
   ]
  },
  {
   "cell_type": "markdown",
   "metadata": {
    "dotnet_interactive": {
     "language": "csharp"
    },
    "polyglot_notebook": {
     "kernelName": "csharp"
    }
   },
   "source": [
    "### Setup Simulations"
   ]
  },
  {
   "attachments": {},
   "cell_type": "markdown",
   "metadata": {
    "dotnet_interactive": {
     "language": "csharp"
    },
    "polyglot_notebook": {
     "kernelName": "csharp"
    }
   },
   "source": [
    "Experimental Data - See ExperimentalResults.txt  \n",
    "Originally only the pre calculated stagnation points were used (next inactive block).  \n",
    "In the final version of this worksheet the calculation is done in-line.  "
   ]
  },
  {
   "cell_type": "code",
   "execution_count": null,
   "metadata": {
    "dotnet_interactive": {
     "language": "csharp"
    },
    "vscode": {
     "languageId": "polyglot-notebook"
    }
   },
   "outputs": [],
   "source": [
    "// List<Tuple<double, double, double>> Setup = new List<Tuple<double, double, double>>(); // <Raster,V,x_stag>\n",
    "// Setup.Add(Tuple.Create(60.0, 10.0 / 60.0, 0.0092721));\n",
    "// Setup.Add(Tuple.Create(60.0, 20.0 / 60.0, 0.0103293));\n",
    "// Setup.Add(Tuple.Create(60.0, 30.0 / 60.0, 0.0106930));\n",
    "// Setup.Add(Tuple.Create(60.0, 45.0 / 60.0, 0.0116885));\n",
    "\n",
    "// Setup.Add(Tuple.Create(70.0, 10.0 / 60.0, 0.0090436));\n",
    "// Setup.Add(Tuple.Create(70.0, 20.0 / 60.0, 0.0099132));\n",
    "// Setup.Add(Tuple.Create(70.0, 30.0 / 60.0, 0.0105802));\n",
    "// Setup.Add(Tuple.Create(70.0, 45.0 / 60.0, 0.0108676));\n",
    "// Setup.Add(Tuple.Create(70.0, 60.0 / 60.0, 0.0105994));\n",
    "// Setup.Add(Tuple.Create(70.0, 75.0 / 60.0, 0.0106655));\n",
    "\n",
    "// Setup.Add(Tuple.Create(80.0, 10.0 / 60.0, 0.0085139));\n",
    "// Setup.Add(Tuple.Create(80.0, 20.0 / 60.0, 0.0098213));\n",
    "// Setup.Add(Tuple.Create(80.0, 30.0 / 60.0, 0.0098796));\n",
    "// Setup.Add(Tuple.Create(80.0, 45.0 / 60.0, 0.0102255));\n",
    "// Setup.Add(Tuple.Create(80.0, 60.0 / 60.0, 0.0105994));\n",
    "// Setup.Add(Tuple.Create(80.0, 75.0 / 60.0, 0.0104337));\n",
    "\n",
    "// Setup.Add(Tuple.Create(100.0, 10.0 / 60.0, 0.0081541));\n",
    "// Setup.Add(Tuple.Create(100.0, 20.0 / 60.0, 0.0085932));\n",
    "// Setup.Add(Tuple.Create(100.0, 30.0 / 60.0, 0.0086691));\n",
    "// Setup.Add(Tuple.Create(100.0, 45.0 / 60.0, 0.0085610)); // ??\n",
    "// Setup.Add(Tuple.Create(100.0, 60.0 / 60.0, 0.0092080));\n",
    "// Setup.Add(Tuple.Create(100.0, 75.0 / 60.0, 0.0097090));"
   ]
  },
  {
   "cell_type": "code",
   "execution_count": null,
   "metadata": {
    "dotnet_interactive": {
     "language": "csharp"
    },
    "vscode": {
     "languageId": "polyglot-notebook"
    }
   },
   "outputs": [],
   "source": [
    "double[] deltaS = new double[] {\n",
    "    //0.001, // millimeters\n",
    "    //0.0005, \n",
    "    //0.0001, \n",
    "    //0.00005, \n",
    "    0.00001, \n",
    "    0.000005, \n",
    "    0.000001 }; // micro-meter\n",
    "\n",
    "// always same\n",
    "int Res = 10;\n",
    "int DGdegree = 5;\n",
    "double R = 0.1;\n",
    "double x_stag = 0.01; // always at 10 mm\n",
    "\n",
    "// set grid to be saved in database\n",
    "GridFactory.myDb = myDb;"
   ]
  },
  {
   "cell_type": "code",
   "execution_count": null,
   "metadata": {
    "dotnet_interactive": {
     "language": "csharp"
    },
    "vscode": {
     "languageId": "polyglot-notebook"
    }
   },
   "outputs": [],
   "source": [
    "string[] lines = File.ReadAllLines(\"./ExperimentalResults.txt\");\n",
    "List<Tuple<double, double, double>> Setup = new List<Tuple<double, double, double>>(); // <Raster,V,x_stag>\n",
    "\n",
    "double e = 0.0395; // viscosity\n",
    "double s = 0.027; // surface tension\n",
    "\n",
    "for(int i = 1; i < lines.Length; i++){\n",
    "    string line = lines[i];\n",
    "    string[] values = line.Split('\\t');\n",
    "    double raster = Convert.ToDouble(values[0]);\n",
    "    double velocity = Convert.ToDouble(values[1]);\n",
    "    double finger = Convert.ToDouble(values[2])*100; // convert to 1/m\n",
    "\n",
    "    double Ca = e * velocity / s;\n",
    "    double h_m = Math.Sqrt(Ca / (2*finger * finger));\n",
    "    double x_m = Math.Sqrt(h_m*R); // cylinder/cylinder, for cylinder/plate sqrt(2*h*R)\n",
    "    double x_stag = x_m;\n",
    "    \n",
    "    Setup.Add(Tuple.Create(raster, velocity, x_stag));\n",
    "}"
   ]
  },
  {
   "cell_type": "code",
   "execution_count": null,
   "metadata": {
    "dotnet_interactive": {
     "language": "csharp"
    },
    "vscode": {
     "languageId": "polyglot-notebook"
    }
   },
   "outputs": [],
   "source": [
    "Setup"
   ]
  },
  {
   "cell_type": "code",
   "execution_count": null,
   "metadata": {
    "dotnet_interactive": {
     "language": "csharp"
    },
    "vscode": {
     "languageId": "polyglot-notebook"
    }
   },
   "outputs": [],
   "source": [
    "var controls = new List<XNSE_Control>();\n",
    "\n",
    "foreach(double delta in deltaS) {\n",
    "   foreach(Tuple<double, double, double> R_V_X in Setup) {\n",
    "\n",
    "      double V_wall = R_V_X.Item2;\n",
    "      double p = PressureFunc(R_V_X.Item3, delta, V_wall);\n",
    "\n",
    "      var C = new XNSE_Control();\n",
    "      C.SetDGdegree(DGdegree);\n",
    "      C.SetGrid(GridFactory.GenerateGrid(Res,delta, R));\n",
    "      C.Paramstudy_CaseIdentification.Add(new Tuple<string, object>(\"Res\", Res));\n",
    "      C.Paramstudy_CaseIdentification.Add(new Tuple<string, object>(\"delta\", delta));\n",
    "      C.Paramstudy_CaseIdentification.Add(new Tuple<string, object>(\"Radius\", R));\n",
    "      C.Paramstudy_CaseIdentification.Add(new Tuple<string, object>(\"V_Wall\", V_wall));\n",
    "      C.Paramstudy_CaseIdentification.Add(new Tuple<string, object>(\"P_Diff\", p));\n",
    "      C.Paramstudy_CaseIdentification.Add(new Tuple<string, object>(\"Raster\", R_V_X.Item1));\n",
    "\n",
    "\n",
    "\n",
    "      C.AddBoundaryValue(\"wall_walze\", \"VelocityX\", BoundaryValueFactory.Get_VelX(delta, V_wall, R));\n",
    "      C.AddBoundaryValue(\"wall_walze\", \"VelocityY\", BoundaryValueFactory.Get_VelY(delta, V_wall, R));\n",
    "      C.AddBoundaryValue(\"wall_substrat\", \"VelocityX\", BoundaryValueFactory.Get_VelX(delta, V_wall, R));\n",
    "      C.AddBoundaryValue(\"wall_substrat\", \"VelocityY\", BoundaryValueFactory.Get_VelY(delta, V_wall, R));\n",
    "      C.AddBoundaryValue(\"pressure_outlet_in\", \"Pressure\", $\"X => {p}\", false);\n",
    "      C.AddBoundaryValue(\"pressure_outlet_out\", \"Pressure\", $\"X => {-p}\", false);\n",
    "\n",
    "\n",
    "      C.TimesteppingMode = AppControl._TimesteppingMode.Steady;\n",
    "\n",
    "      C.PhysicalParameters.rho_A             = 1026.4;\n",
    "      C.PhysicalParameters.mu_A              = 0.0395;\n",
    "      C.PhysicalParameters.IncludeConvection = false;\n",
    "      C.Timestepper_LevelSetHandling         = BoSSS.Solution.XdgTimestepping.LevelSetHandling.None;\n",
    "      \n",
    "      C.SessionName = \"J\" + (20*Res*Res) + \"_delta\" + delta + \"_V\" + V_wall + \"_P\" + p + \"_RL\" + R_V_X.Item1;     \n",
    "      controls.Add(C);\n",
    "   }\n",
    "}"
   ]
  },
  {
   "cell_type": "code",
   "execution_count": null,
   "metadata": {
    "dotnet_interactive": {
     "language": "csharp"
    },
    "vscode": {
     "languageId": "polyglot-notebook"
    }
   },
   "outputs": [],
   "source": [
    "Console.WriteLine(controls.Count);"
   ]
  },
  {
   "cell_type": "markdown",
   "metadata": {
    "dotnet_interactive": {
     "language": "csharp"
    },
    "polyglot_notebook": {
     "kernelName": "csharp"
    }
   },
   "source": [
    "### Run Simulations"
   ]
  },
  {
   "cell_type": "markdown",
   "metadata": {
    "dotnet_interactive": {
     "language": "csharp"
    },
    "polyglot_notebook": {
     "kernelName": "csharp"
    }
   },
   "source": [
    "Workaround so we need to deploy the rather large executables only once!"
   ]
  },
  {
   "cell_type": "code",
   "execution_count": null,
   "metadata": {
    "dotnet_interactive": {
     "language": "csharp"
    },
    "vscode": {
     "languageId": "polyglot-notebook"
    }
   },
   "outputs": [],
   "source": [
    "string mngdir = \"SFB1194K65_Part3_\" + DateTime.Now.ToString(\"MMMdd_HHmmss\") + \"_managed\";\n",
    "DirectoryInfo ManagedOverride = new DirectoryInfo(Path.Combine(myBatch.DeploymentBaseDirectory, mngdir));\n",
    "ManagedOverride.Create();\n",
    "typeof(XNSE<XNSE_Control>).Assembly.DeployAt(ManagedOverride);\n",
    "string RelManagedPath = \"../\" + mngdir + \"/\" + Path.GetFileName(typeof(XNSE<XNSE_Control>).Assembly.Location);"
   ]
  },
  {
   "cell_type": "code",
   "execution_count": null,
   "metadata": {
    "dotnet_interactive": {
     "language": "csharp"
    },
    "vscode": {
     "languageId": "polyglot-notebook"
    }
   },
   "outputs": [],
   "source": [
    "string ntvdir = \"SFB1194K65_Part3_\" + DateTime.Now.ToString(\"MMMdd_HHmmss\") + \"_amd64\";\n",
    "DirectoryInfo NativeOverride = new DirectoryInfo(Path.Combine(myBatch.DeploymentBaseDirectory, ntvdir));\n",
    "NativeOverride.Create();\n",
    "MetaJobMgrIO.CopyDirectoryRec(ilPSP.Environment.NativeLibraryDir, NativeOverride.FullName, null);\n",
    "myBatch.DeployRuntime = false; // we did this manually!"
   ]
  },
  {
   "cell_type": "code",
   "execution_count": null,
   "metadata": {
    "dotnet_interactive": {
     "language": "csharp"
    },
    "vscode": {
     "languageId": "polyglot-notebook"
    }
   },
   "outputs": [],
   "source": [
    "foreach(var c in controls) {\n",
    "    Job j = c.CreateJob();\n",
    "    j.EnvironmentVars.Add(BoSSS.Foundation.IO.Utils.BOSSS_NATIVE_OVERRIDE, NativeOverride.FullName);\n",
    "    j.EntryAssemblyRedirection = RelManagedPath;\n",
    "    j.Activate(myBatch);\n",
    "}"
   ]
  },
  {
   "cell_type": "code",
   "execution_count": null,
   "metadata": {
    "dotnet_interactive": {
     "language": "csharp"
    },
    "vscode": {
     "languageId": "polyglot-notebook"
    }
   },
   "outputs": [],
   "source": [
    "BoSSSshell.WorkflowMgm.BlockUntilAllJobsTerminate(18000);"
   ]
  }
 ],
 "metadata": {
  "kernelspec": {
   "display_name": ".NET (C#)",
   "language": "C#",
   "name": ".net-csharp"
  },
  "polyglot_notebook": {
   "kernelInfo": {
    "defaultKernelName": "csharp",
    "items": [
     {
      "aliases": [
       "c#",
       "C#"
      ],
      "languageName": "C#",
      "name": "csharp"
     },
     {
      "aliases": [],
      "name": ".NET"
     },
     {
      "aliases": [
       "f#",
       "F#"
      ],
      "languageName": "F#",
      "name": "fsharp"
     },
     {
      "aliases": [],
      "languageName": "HTML",
      "name": "html"
     },
     {
      "aliases": [],
      "languageName": "KQL",
      "name": "kql"
     },
     {
      "aliases": [],
      "languageName": "Mermaid",
      "name": "mermaid"
     },
     {
      "aliases": [
       "powershell"
      ],
      "languageName": "PowerShell",
      "name": "pwsh"
     },
     {
      "aliases": [],
      "languageName": "SQL",
      "name": "sql"
     },
     {
      "aliases": [],
      "name": "value"
     },
     {
      "aliases": [
       "frontend"
      ],
      "name": "vscode"
     }
    ]
   }
  }
 },
 "nbformat": 4,
 "nbformat_minor": 2
}

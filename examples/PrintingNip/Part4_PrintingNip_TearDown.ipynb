{
 "cells": [
  {
   "cell_type": "markdown",
   "metadata": {},
   "source": [
    "# Printing Nip - K65 SFB1194"
   ]
  },
  {
   "cell_type": "markdown",
   "metadata": {},
   "source": [
    "This Notebook is used to reproduce the simulation results for the Kooperation K65 of SFB1194  \n",
    "Here we finally generate some output document, containing several figures to browse thorugh.  \n",
    "This concludes the Printing Nip simulations"
   ]
  },
  {
   "cell_type": "markdown",
   "metadata": {},
   "source": [
    "### Create some output"
   ]
  },
  {
   "cell_type": "code",
   "execution_count": null,
   "metadata": {
    "dotnet_interactive": {
     "language": "pwsh"
    },
    "vscode": {
     "languageId": "dotnet-interactive.pwsh"
    }
   },
   "outputs": [],
   "source": [
    "#!pwsh\n",
    "bash ./PrintingNipInputs.sh"
   ]
  },
  {
   "cell_type": "code",
   "execution_count": null,
   "metadata": {
    "dotnet_interactive": {
     "language": "pwsh"
    },
    "vscode": {
     "languageId": "dotnet-interactive.pwsh"
    }
   },
   "outputs": [],
   "source": [
    "#!pwsh\n",
    "pdflatex  --max-print-line=10000 -synctex=1 -interaction=nonstopmode -file-line-error -recorder  \"./PrintingNip.tex\" -output-directory=\"./PrintingNip/Output\""
   ]
  },
  {
   "cell_type": "markdown",
   "metadata": {},
   "source": [
    "### Final Remarks"
   ]
  },
  {
   "cell_type": "markdown",
   "metadata": {},
   "source": [
    "This completes the simulation part for the Kooperation K65 in SFB1194.  \n",
    "In the Output folder you can find the executed Notebooks as html files.  \n",
    "Some Datatables generated from the simulation as html and csv files can be found in Files.  \n",
    "All generated plots can be found in the Figures Folder.  \n",
    "All simulation results are also available in the Database and accessible via the BoSSS framework.\n",
    "By running PrintingNipInputs.sh and compiling PrintingNip.tex you can generate a preview of the plotfiles"
   ]
  }
 ],
 "metadata": {
  "kernelspec": {
   "display_name": ".NET (C#)",
   "language": "C#",
   "name": ".net-csharp"
  },
  "language_info": {
   "file_extension": ".cs",
   "mimetype": "text/x-csharp",
   "name": "C#",
   "pygments_lexer": "csharp",
   "version": "8.0"
  },
  "orig_nbformat": 4
 },
 "nbformat": 4,
 "nbformat_minor": 2
}

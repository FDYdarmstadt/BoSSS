{
 "cells": [
  {
   "attachments": {},
   "cell_type": "markdown",
   "metadata": {},
   "source": [
    "# Part 5\n",
    "This notebook was added later, used for validating the results.  \n",
    "Basically this notebook loads the postprocessed data from `Part1 - Part4` and verifies some scaling relations.  "
   ]
  },
  {
   "cell_type": "markdown",
   "metadata": {},
   "source": [
    "### First load some references"
   ]
  },
  {
   "cell_type": "code",
   "execution_count": null,
   "metadata": {
    "dotnet_interactive": {
     "language": "csharp"
    }
   },
   "outputs": [],
   "source": [
    "#r \"BoSSSpad.dll\"\n",
    "// #r \"..\\..\\src\\L4-application\\BoSSSpad\\bin\\Release\\net5.0\\BoSSSpad.dll\"\n",
    "using System;\n",
    "using System.Collections.Generic;\n",
    "using System.Linq;\n",
    "using System.IO;\n",
    "using System.Data;\n",
    "using System.Globalization;\n",
    "using System.Threading;\n",
    "using ilPSP;\n",
    "using ilPSP.Utils;\n",
    "using BoSSS.Platform;\n",
    "using BoSSS.Foundation;\n",
    "using BoSSS.Foundation.Grid;\n",
    "using BoSSS.Foundation.Grid.Classic;\n",
    "using BoSSS.Foundation.IO;\n",
    "using BoSSS.Solution;\n",
    "using BoSSS.Solution.Control;\n",
    "using BoSSS.Solution.GridImport;\n",
    "using BoSSS.Solution.Statistic;\n",
    "using BoSSS.Solution.Utils;\n",
    "using BoSSS.Solution.Gnuplot;\n",
    "using BoSSS.Application.BoSSSpad;\n",
    "using BoSSS.Application.XNSE_Solver;\n",
    "using static BoSSS.Application.BoSSSpad.BoSSSshell;\n",
    "using BoSSS.Foundation.Grid.RefElements;\n",
    "using BoSSS.Platform.LinAlg;\n",
    "using BoSSS.Application.XNSE_Solver.PhysicalBasedTestcases.PrintingNip;\n",
    "Init();"
   ]
  },
  {
   "cell_type": "markdown",
   "metadata": {},
   "source": [
    "#### Check if Output should be generated\n",
    "\n",
    "Only if the output directories were previously created via `Part0_PrintingNip_Setup` output is stored to the subdirectories.  \n",
    "Otherwise, datatables are stored directly to the working directory and plots displayed in the notebook.  \n",
    "The plots are not adjusted to look \"nice\" in the notebook.  \n",
    "This is not part of the `ValidationTestRunner`."
   ]
  },
  {
   "cell_type": "code",
   "execution_count": null,
   "metadata": {
    "dotnet_interactive": {
     "language": "csharp"
    },
    "polyglot_notebook": {
     "kernelName": "csharp"
    }
   },
   "outputs": [],
   "source": [
    "static bool GenerateOutput = Directory.Exists(@\"./PrintingNip\") && Directory.Exists(@\"./PrintingNip/Figures\") && Directory.Exists(@\"./PrintingNip/Files\") && Directory.Exists(@\"./PrintingNip/Output\");"
   ]
  },
  {
   "cell_type": "markdown",
   "metadata": {},
   "source": [
    "### Load Datatables"
   ]
  },
  {
   "cell_type": "code",
   "execution_count": null,
   "metadata": {
    "dotnet_interactive": {
     "language": "csharp"
    },
    "polyglot_notebook": {
     "kernelName": "csharp"
    }
   },
   "outputs": [],
   "source": [
    "DataTable tab1, tab2, tab3, tab4;\n",
    "\n",
    "if(GenerateOutput){\n",
    "    tab1 = TableExtensions.FromCSVFile(\"./PrintingNip/Files/PrintingNip-Part1.csv\", ColSep: ';');\n",
    "    tab2 = TableExtensions.FromCSVFile(\"./PrintingNip/Files/PrintingNip-Part2.csv\", ColSep: ';');\n",
    "    tab3 = TableExtensions.FromCSVFile(\"./PrintingNip/Files/PrintingNip-Part3.csv\", ColSep: ';');\n",
    "    tab4 = TableExtensions.FromCSVFile(\"./PrintingNip/Files/PrintingNip-Part4.csv\", ColSep: ';');\n",
    "} else {\n",
    "    tab1 = TableExtensions.FromCSVFile(\"./PrintingNip-Part1.csv\", ColSep: ';');\n",
    "    tab2 = TableExtensions.FromCSVFile(\"./PrintingNip-Part2.csv\", ColSep: ';');\n",
    "    tab3 = TableExtensions.FromCSVFile(\"./PrintingNip-Part3.csv\", ColSep: ';');\n",
    "    tab4 = TableExtensions.FromCSVFile(\"./PrintingNip-Part4.csv\", ColSep: ';');\n",
    "}"
   ]
  },
  {
   "cell_type": "markdown",
   "metadata": {},
   "source": [
    "Number of Rows in `DataTables` and number of sessions should be equal and not empty:  \n",
    "The Values set here to check the number of sessions depends on the settings in `Part1_*_Run`-`Part4_*_Run`.  \n",
    "The following is expected:  \n",
    "* `Part1` : 64 simulations\n",
    "* `Part2` : 20 simulations\n",
    "* `Part3` : 72 simulations\n",
    "* `Part4` : 42 simulations"
   ]
  },
  {
   "cell_type": "code",
   "execution_count": null,
   "metadata": {
    "dotnet_interactive": {
     "language": "csharp"
    },
    "polyglot_notebook": {
     "kernelName": "csharp"
    }
   },
   "outputs": [],
   "source": [
    "BoSSSshell.wmg.Init(\"PrintingNip_Part1\");\n",
    "int cnt1 = BoSSSshell.wmg.Sessions.Count();\n",
    "if(cnt1 != 64 || cnt1 != tab1.Rows.Count){\n",
    "    throw new ApplicationException(\"Part1: Missing DataRows\");\n",
    "}"
   ]
  },
  {
   "cell_type": "code",
   "execution_count": null,
   "metadata": {
    "dotnet_interactive": {
     "language": "csharp"
    },
    "polyglot_notebook": {
     "kernelName": "csharp"
    }
   },
   "outputs": [],
   "source": [
    "BoSSSshell.wmg.Init(\"PrintingNip_Part2\");\n",
    "int cnt2 = BoSSSshell.wmg.Sessions.Count();\n",
    "if(cnt2 != 20 || cnt2 != tab2.Rows.Count){\n",
    "    throw new ApplicationException(\"Part2: Missing DataRows\");\n",
    "}"
   ]
  },
  {
   "cell_type": "code",
   "execution_count": null,
   "metadata": {
    "dotnet_interactive": {
     "language": "csharp"
    },
    "polyglot_notebook": {
     "kernelName": "csharp"
    }
   },
   "outputs": [],
   "source": [
    "BoSSSshell.wmg.Init(\"PrintingNip_Part3\");\n",
    "int cnt3 = BoSSSshell.wmg.Sessions.Count();\n",
    "if(cnt3 != 72 || cnt3 != tab3.Rows.Count){\n",
    "    throw new ApplicationException(\"Part3: Missing DataRows\");\n",
    "}"
   ]
  },
  {
   "cell_type": "code",
   "execution_count": null,
   "metadata": {
    "dotnet_interactive": {
     "language": "csharp"
    },
    "polyglot_notebook": {
     "kernelName": "csharp"
    }
   },
   "outputs": [],
   "source": [
    "BoSSSshell.wmg.Init(\"PrintingNip_Part4\");\n",
    "int cnt4 = BoSSSshell.wmg.Sessions.Count();\n",
    "if(cnt4 != 42 || cnt4 != tab4.Rows.Count){\n",
    "    throw new ApplicationException(\"Part4: Missing DataRows\");\n",
    "}"
   ]
  },
  {
   "cell_type": "markdown",
   "metadata": {},
   "source": [
    "### Part1 : Compute some slopes and assert the scaling"
   ]
  },
  {
   "attachments": {
    "image.png": {
     "image/png": "[encoded data removed]"
    }
   },
   "cell_type": "markdown",
   "metadata": {},
   "source": [
    "First compute the proportionality of some physical values $z \\propto \\varepsilon^\\alpha$ for the simulations in `Part1`.  \n",
    "Namely the rounded values in Table 1 of `https://doi.org/10.1063/5.0139000` to the first digit i.e. $\\pm 0.05$\n",
    "\n",
    "![image.png](attachment:image.png)"
   ]
  },
  {
   "cell_type": "code",
   "execution_count": null,
   "metadata": {
    "dotnet_interactive": {
     "language": "csharp"
    },
    "polyglot_notebook": {
     "kernelName": "csharp"
    }
   },
   "outputs": [],
   "source": [
    "double thrsh = 0.05;"
   ]
  },
  {
   "cell_type": "markdown",
   "metadata": {},
   "source": [
    "Case A - dp = 0, V = const, h variable"
   ]
  },
  {
   "cell_type": "code",
   "execution_count": null,
   "metadata": {
    "dotnet_interactive": {
     "language": "csharp"
    },
    "polyglot_notebook": {
     "kernelName": "csharp"
    }
   },
   "outputs": [],
   "source": [
    "double[] ExpectedSlopesA = new double[] {-1.5, 0.0, 1.0, -2.0, -1.0, -0.5, 0.5, 0.5, -0.5};\n",
    "string[] ColumnsA = new string[] {\"PressureRange\", \"VelocityXMax\", \"Massflux\", \"dPdXatNip\", \"NipShearRateCylinder\", \"ShearStressCylinder\", \"PositionOfSynchronousFlow\",  \"PositionOfStagnatingFlow\", \"ViscousDissipation\"};"
   ]
  },
  {
   "cell_type": "code",
   "execution_count": null,
   "metadata": {
    "dotnet_interactive": {
     "language": "csharp"
    },
    "polyglot_notebook": {
     "kernelName": "csharp"
    }
   },
   "outputs": [],
   "source": [
    "var tab1A = tab1.ExtractRows((i,row) => Convert.ToDouble(row[\"id:P_Diff\"]).ApproxEqual(0.0) && Convert.ToDouble(row[\"id:V_Wall\"])>0.0);\n",
    "\n",
    "if(tab1A.Rows.Count != 12){ // should be 12\n",
    "    throw new ApplicationException(\"Error extracting rows!\");\n",
    "}\n",
    "\n",
    "foreach(string col in ColumnsA){\n",
    "    int k = ColumnsA.IndexOf(col);\n",
    "    var plt = tab1A.ToPlot(\"id:delta\", col, ColName_GroupSelection: new string[] { \"id:V_Wall\" });\n",
    "    plt.LogX   = true;\n",
    "    plt.LogY   = true;\n",
    "    var reg = plt.Regression();\n",
    "\n",
    "    int j = 0;\n",
    "    foreach(var kvp in reg){\n",
    "        j++;\n",
    "        if(kvp.Value < ExpectedSlopesA[k] - thrsh || kvp.Value > ExpectedSlopesA[k] + thrsh){\n",
    "            Console.WriteLine(\"Expected: {0}, but is {1}\", ExpectedSlopesA[k], kvp.Value);\n",
    "            throw new ApplicationException(\"Wrong slope computed for \" + col);\n",
    "        } else {\n",
    "            Console.WriteLine(\"Expected: {0}, and is {1} - success!\", ExpectedSlopesA[k], kvp.Value);\n",
    "        }\n",
    "    }\n",
    "\n",
    "    if(j <= 0){\n",
    "        throw new ApplicationException(\"No slopes computed!\");\n",
    "    }\n",
    "}"
   ]
  },
  {
   "cell_type": "markdown",
   "metadata": {},
   "source": [
    "Case B - dp = const, V = 0, h variable"
   ]
  },
  {
   "cell_type": "code",
   "execution_count": null,
   "metadata": {
    "dotnet_interactive": {
     "language": "csharp"
    },
    "polyglot_notebook": {
     "kernelName": "csharp"
    }
   },
   "outputs": [],
   "source": [
    "double[] ExpectedSlopesB = new double[] {0.0, 1.5, 2.5, -0.5, 0.5, 1.0, 2.5};\n",
    "string[] ColumnsB = new string[] {\"PressureRange\", \"VelocityXMax\", \"Massflux\", \"dPdXatNip\", \"NipShearRateCylinder\", \"ShearStressCylinder\", \"ViscousDissipation\"};"
   ]
  },
  {
   "cell_type": "code",
   "execution_count": null,
   "metadata": {
    "dotnet_interactive": {
     "language": "csharp"
    },
    "polyglot_notebook": {
     "kernelName": "csharp"
    }
   },
   "outputs": [],
   "source": [
    "var tab1B = tab1.ExtractRows((i,row) => Convert.ToDouble(row[\"id:V_Wall\"]).ApproxEqual(0.0) && Convert.ToDouble(row[\"id:P_Diff\"])>0.0);\n",
    "\n",
    "if(tab1B.Rows.Count != 12){ // should be 12\n",
    "    throw new ApplicationException(\"Error extracting rows!\");\n",
    "}\n",
    "\n",
    "foreach(string col in ColumnsB){\n",
    "    int k = ColumnsB.IndexOf(col);\n",
    "    var plt = tab1B.ToPlot(\"id:delta\", col, ColName_GroupSelection: new string[] { \"id:P_Diff\" });\n",
    "    plt.LogX   = true;\n",
    "    plt.LogY   = true;\n",
    "    var reg = plt.Regression();\n",
    "    int j = 0;\n",
    "    foreach(var kvp in reg){\n",
    "        j++;\n",
    "        if(kvp.Value < ExpectedSlopesB[k] - thrsh || kvp.Value > ExpectedSlopesB[k] + thrsh){\n",
    "            Console.WriteLine(\"Expected: {0}, but is {1}\", ExpectedSlopesB[k], kvp.Value);\n",
    "            throw new ApplicationException(\"Wrong slope computed for \" + col);\n",
    "        } else {\n",
    "            Console.WriteLine(\"Expected: {0}, and is {1} - success!\", ExpectedSlopesB[k], kvp.Value);\n",
    "        }\n",
    "    }\n",
    "\n",
    "    if(j <= 0){\n",
    "        throw new ApplicationException(\"No slopes computed!\");\n",
    "    }\n",
    "}"
   ]
  },
  {
   "cell_type": "markdown",
   "metadata": {},
   "source": [
    "### Part2 : Verify that the stagnation point remains constant and at the expected position"
   ]
  },
  {
   "cell_type": "markdown",
   "metadata": {},
   "source": [
    "stagnation point is set to $x_s \\approx 0.01 m$"
   ]
  },
  {
   "cell_type": "code",
   "execution_count": null,
   "metadata": {
    "dotnet_interactive": {
     "language": "csharp"
    },
    "polyglot_notebook": {
     "kernelName": "csharp"
    }
   },
   "outputs": [],
   "source": [
    "double ExpectedSlope = 0.0;\n",
    "double ExpectedValue = 0.01;\n",
    "double AllowedDeviation = 0.0001; \n",
    "string Column = \"PositionOfStagnatingFlow\";"
   ]
  },
  {
   "cell_type": "code",
   "execution_count": null,
   "metadata": {
    "dotnet_interactive": {
     "language": "csharp"
    },
    "polyglot_notebook": {
     "kernelName": "csharp"
    }
   },
   "outputs": [],
   "source": [
    "{\n",
    "    var plt = tab2.ToPlot(\"id:delta\", Column, ColName_GroupSelection: new string[] { \"id:V_Wall\" });\n",
    "    plt.LogX   = true;\n",
    "    plt.LogY   = true;\n",
    "    var reg = plt.Regression();\n",
    "\n",
    "    int j = 0;\n",
    "    foreach(var kvp in reg){\n",
    "        j++;\n",
    "        if(kvp.Value < ExpectedSlope - thrsh || kvp.Value > ExpectedSlope + thrsh){\n",
    "            Console.WriteLine(\"Expected: {0}, but is {1}\", ExpectedSlope, kvp.Value);\n",
    "            throw new ApplicationException(\"Wrong slope computed for \" + Column);\n",
    "        } else {\n",
    "            Console.WriteLine(\"Expected: {0}, and is {1} - success!\", ExpectedSlope, kvp.Value);\n",
    "        }\n",
    "    }\n",
    "    foreach(var group in plt.dataGroups){\n",
    "        double IsValue = group.Values.Average();\n",
    "        if(IsValue < ExpectedValue - AllowedDeviation || IsValue > ExpectedValue + AllowedDeviation){\n",
    "            Console.WriteLine(\"Expected: {0}, but is {1}\", ExpectedValue, IsValue);\n",
    "            throw new ApplicationException(\"Wrong value for \" + Column);\n",
    "        } else {\n",
    "            Console.WriteLine(\"Expected: {0}, and is {1} - success!\", ExpectedValue, IsValue);\n",
    "        }\n",
    "    }\n",
    "\n",
    "    if(j <= 0){\n",
    "        throw new ApplicationException(\"No slopes computed!\");\n",
    "    }\n",
    "}"
   ]
  },
  {
   "cell_type": "markdown",
   "metadata": {},
   "source": [
    "### Part3 & 4 not explicitly tested, but with the prior tests it is verified the simulations reproduce the expected results and are runnable"
   ]
  }
 ],
 "metadata": {
  "kernelspec": {
   "display_name": ".NET (C#)",
   "language": "C#",
   "name": ".net-csharp"
  },
  "language_info": {
   "name": "polyglot-notebook"
  },
  "polyglot_notebook": {
   "kernelInfo": {
    "defaultKernelName": "csharp",
    "items": [
     {
      "aliases": [],
      "name": ".NET"
     },
     {
      "aliases": [
       "C#",
       "c#"
      ],
      "languageName": "C#",
      "name": "csharp"
     },
     {
      "aliases": [
       "F#",
       "f#"
      ],
      "languageName": "F#",
      "name": "fsharp"
     },
     {
      "aliases": [],
      "languageName": "HTML",
      "name": "html"
     },
     {
      "aliases": [
       "js"
      ],
      "languageName": "JavaScript",
      "name": "javascript"
     },
     {
      "aliases": [],
      "languageName": "KQL",
      "name": "kql"
     },
     {
      "aliases": [],
      "languageName": "Mermaid",
      "name": "mermaid"
     },
     {
      "aliases": [
       "powershell"
      ],
      "languageName": "PowerShell",
      "name": "pwsh"
     },
     {
      "aliases": [],
      "languageName": "SQL",
      "name": "sql"
     },
     {
      "aliases": [],
      "name": "value"
     },
     {
      "aliases": [
       "frontend"
      ],
      "name": "vscode"
     },
     {
      "aliases": [],
      "name": "webview"
     }
    ]
   }
  }
 },
 "nbformat": 4,
 "nbformat_minor": 2
}

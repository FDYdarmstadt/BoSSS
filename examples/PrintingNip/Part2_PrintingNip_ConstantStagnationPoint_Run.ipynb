{
 "cells": [
  {
   "cell_type": "markdown",
   "metadata": {},
   "source": [
    "# Part 2 - Run simulations with constant stagnation point"
   ]
  },
  {
   "cell_type": "markdown",
   "metadata": {},
   "source": [
    "### First load some references"
   ]
  },
  {
   "cell_type": "code",
   "execution_count": null,
   "metadata": {
    "dotnet_interactive": {
     "language": "csharp"
    },
    "vscode": {
     "languageId": "dotnet-interactive.csharp"
    }
   },
   "outputs": [],
   "source": [
    "#r \"BoSSSpad.dll\"\n",
    "using System;\n",
    "using System.Collections.Generic;\n",
    "using System.Linq;\n",
    "using System.IO;\n",
    "using System.Data;\n",
    "using System.Globalization;\n",
    "using System.Threading;\n",
    "using ilPSP;\n",
    "using ilPSP.Utils;\n",
    "using BoSSS.Platform;\n",
    "using BoSSS.Foundation;\n",
    "using BoSSS.Foundation.Grid;\n",
    "using BoSSS.Foundation.Grid.Classic;\n",
    "using BoSSS.Foundation.IO;\n",
    "using BoSSS.Solution;\n",
    "using BoSSS.Solution.Control;\n",
    "using BoSSS.Solution.GridImport;\n",
    "using BoSSS.Solution.Statistic;\n",
    "using BoSSS.Solution.Utils;\n",
    "using BoSSS.Solution.Gnuplot;\n",
    "using BoSSS.Application.BoSSSpad;\n",
    "using BoSSS.Application.XNSE_Solver;\n",
    "using static BoSSS.Application.BoSSSpad.BoSSSshell;\n",
    "using BoSSS.Foundation.Grid.RefElements;\n",
    "using BoSSS.Platform.LinAlg;\n",
    "using BoSSS.Application.XNSE_Solver.PhysicalBasedTestcases.PrintingNip;\n",
    "Init();"
   ]
  },
  {
   "cell_type": "markdown",
   "metadata": {},
   "source": [
    "### Init Database etc."
   ]
  },
  {
   "cell_type": "code",
   "execution_count": null,
   "metadata": {
    "dotnet_interactive": {
     "language": "csharp"
    },
    "vscode": {
     "languageId": "dotnet-interactive.csharp"
    }
   },
   "outputs": [],
   "source": [
    "string ProjectName4Correlation = \"SFB1194_K65_Part1\";\n",
    "string ProjectName = \"SFB1194_K65_Part2\";"
   ]
  },
  {
   "cell_type": "code",
   "execution_count": null,
   "metadata": {
    "dotnet_interactive": {
     "language": "csharp"
    },
    "vscode": {
     "languageId": "dotnet-interactive.csharp"
    }
   },
   "outputs": [],
   "source": [
    "static var myBatch = BoSSSshell.GetDefaultQueue();"
   ]
  },
  {
   "cell_type": "code",
   "execution_count": null,
   "metadata": {
    "dotnet_interactive": {
     "language": "csharp"
    },
    "vscode": {
     "languageId": "dotnet-interactive.csharp"
    }
   },
   "outputs": [],
   "source": [
    "BoSSSshell.WorkflowMgm.Init(ProjectName4Correlation);\n",
    "static var myDb4Correlation = BoSSSshell.OpenDatabase(BoSSSshell.WorkflowMgm.DefaultDatabase.Path);\n",
    "Console.WriteLine(\"Initializing : \" + myDb4Correlation.Path); // we need to init the static var! otherwise we end up with a reference to the wrong database!"
   ]
  },
  {
   "cell_type": "code",
   "execution_count": null,
   "metadata": {
    "dotnet_interactive": {
     "language": "csharp"
    },
    "vscode": {
     "languageId": "dotnet-interactive.csharp"
    }
   },
   "outputs": [],
   "source": [
    "BoSSSshell.WorkflowMgm.Init(ProjectName);\n",
    "static var myDb = BoSSSshell.OpenDatabase(BoSSSshell.WorkflowMgm.DefaultDatabase.Path);\n",
    "Console.WriteLine(\"Initializing : \" + myDb.Path);"
   ]
  },
  {
   "cell_type": "code",
   "execution_count": null,
   "metadata": {
    "dotnet_interactive": {
     "language": "csharp"
    },
    "vscode": {
     "languageId": "dotnet-interactive.csharp"
    }
   },
   "outputs": [],
   "source": [
    "BoSSSshell.WorkflowMgm.SetNameBasedSessionJobControlCorrelation();"
   ]
  },
  {
   "cell_type": "markdown",
   "metadata": {
    "dotnet_interactive": {
     "language": "csharp"
    }
   },
   "source": [
    "### Construct parameterized velocity splines"
   ]
  },
  {
   "cell_type": "code",
   "execution_count": null,
   "metadata": {
    "dotnet_interactive": {
     "language": "csharp"
    },
    "vscode": {
     "languageId": "dotnet-interactive.csharp"
    }
   },
   "outputs": [],
   "source": [
    "double H0 = 1e-5;\n",
    "double V0 = 1.0;\n",
    "double P0 = 1e6;"
   ]
  },
  {
   "cell_type": "code",
   "execution_count": null,
   "metadata": {
    "dotnet_interactive": {
     "language": "csharp"
    },
    "vscode": {
     "languageId": "dotnet-interactive.csharp"
    }
   },
   "outputs": [],
   "source": [
    "var sessions = myDb4Correlation.Sessions.Where(s => s.ProjectName == \"SFB1194_K65_Part1\").ToArray();\n",
    "var sV = sessions.Single(s => Convert.ToDouble(s.KeysAndQueries[\"id:delta\"]).ApproxEqual(H0) &  Convert.ToDouble(s.KeysAndQueries[\"id:P_Diff\"]).ApproxEqual(0.0) & Convert.ToDouble(s.KeysAndQueries[\"id:V_Wall\"]).ApproxEqual(V0));\n",
    "var sP = sessions.Single(s => Convert.ToDouble(s.KeysAndQueries[\"id:delta\"]).ApproxEqual(H0) &  Convert.ToDouble(s.KeysAndQueries[\"id:P_Diff\"]).ApproxEqual(P0) & Convert.ToDouble(s.KeysAndQueries[\"id:V_Wall\"]).ApproxEqual(0.0));"
   ]
  },
  {
   "cell_type": "markdown",
   "metadata": {},
   "source": [
    "Function to create the velocity profile along the symmetry axis"
   ]
  },
  {
   "cell_type": "code",
   "execution_count": null,
   "metadata": {
    "dotnet_interactive": {
     "language": "csharp"
    },
    "vscode": {
     "languageId": "dotnet-interactive.csharp"
    }
   },
   "outputs": [],
   "source": [
    "using MathNet.Numerics.Interpolation;"
   ]
  },
  {
   "cell_type": "code",
   "execution_count": null,
   "metadata": {
    "dotnet_interactive": {
     "language": "csharp"
    },
    "vscode": {
     "languageId": "dotnet-interactive.csharp"
    }
   },
   "outputs": [],
   "source": [
    "static public CubicSpline ConstructVelocitySpline(ISessionInfo si) {\n",
    "    DGField VelocityX = si.Timesteps.Last().Fields.Single(f => f.Identification == \"VelocityX\");\n",
    "    var grd = (GridData)VelocityX.GridDat;\n",
    "    EdgeMask em = new EdgeMask(grd, X => Math.Abs(X[1]) < 1e-12); // symmetry axis\n",
    "\n",
    "    var Spline = Postprocessing.SplineOnEdge(em, VelocityX, 0, out double lB, out double uB);\n",
    "    return Spline;\n",
    "}"
   ]
  },
  {
   "cell_type": "markdown",
   "metadata": {},
   "source": [
    "Evaluate the profile for both simulations and superpose"
   ]
  },
  {
   "cell_type": "code",
   "execution_count": null,
   "metadata": {
    "dotnet_interactive": {
     "language": "csharp"
    },
    "vscode": {
     "languageId": "dotnet-interactive.csharp"
    }
   },
   "outputs": [],
   "source": [
    "var SplineV = ConstructVelocitySpline(sV);\n",
    "var SplineP = ConstructVelocitySpline(sP);"
   ]
  },
  {
   "cell_type": "code",
   "execution_count": null,
   "metadata": {
    "dotnet_interactive": {
     "language": "csharp"
    },
    "vscode": {
     "languageId": "dotnet-interactive.csharp"
    }
   },
   "outputs": [],
   "source": [
    "double[] X = GenericBlas.Linspace(-0.01, 0.01, 1000);\n",
    "double[] VV = X.Select(x => SplineV.Interpolate(x)).ToArray();\n",
    "double[] VP = X.Select(x => SplineP.Interpolate(x)).ToArray();\n",
    "\n",
    "BoSSSshell.Plot(X, VV, \"u_A\", \"k-\", X, VP, \"u_B\", \"k--\")"
   ]
  },
  {
   "cell_type": "code",
   "execution_count": null,
   "metadata": {
    "dotnet_interactive": {
     "language": "csharp"
    },
    "vscode": {
     "languageId": "dotnet-interactive.csharp"
    }
   },
   "outputs": [],
   "source": [
    "Func<double, double, double, double, double> VelocityFunc = (x, h, v, p) => v/V0 * SplineV.Interpolate(x * Math.Sqrt(H0) / Math.Sqrt(h)) + (p * Math.Pow(h,1.5))/(P0 * Math.Pow(H0,1.5)) * SplineP.Interpolate(x * Math.Sqrt(H0) / Math.Sqrt(h));"
   ]
  },
  {
   "cell_type": "markdown",
   "metadata": {},
   "source": [
    "Set Velocity to be zero at a certain x_stag and calculate the necessary pressure difference"
   ]
  },
  {
   "cell_type": "code",
   "execution_count": null,
   "metadata": {
    "dotnet_interactive": {
     "language": "csharp"
    },
    "vscode": {
     "languageId": "dotnet-interactive.csharp"
    }
   },
   "outputs": [],
   "source": [
    "Func<double, double, double, double> PressureFunc = (x_stag, h, v) => -v/V0 * SplineV.Interpolate(x_stag * Math.Sqrt(H0) / Math.Sqrt(h)) * (P0 * Math.Pow(H0,1.5)) / (Math.Pow(h,1.5) * SplineP.Interpolate(x_stag * Math.Sqrt(H0) / Math.Sqrt(h)));"
   ]
  },
  {
   "cell_type": "markdown",
   "metadata": {},
   "source": [
    "### Setup Simulations"
   ]
  },
  {
   "cell_type": "code",
   "execution_count": null,
   "metadata": {
    "dotnet_interactive": {
     "language": "csharp"
    },
    "vscode": {
     "languageId": "dotnet-interactive.csharp"
    }
   },
   "outputs": [],
   "source": [
    "double[] deltaS = new double[] {\n",
    "    0.001, // millimeters\n",
    "    //0.0005, \n",
    "    0.0001, \n",
    "    //0.00005, \n",
    "    0.00001, \n",
    "    //0.000005, \n",
    "    0.000001 }; // micro-meter\n",
    "double[] V = new double[] {\n",
    "  0.1, \n",
    "  0.5, \n",
    "  1.0,\n",
    "  5.0, \n",
    "  10.0}; // Wall velocities in m/s\n",
    "\n",
    "// always same\n",
    "int Res = 10;\n",
    "int DGdegree = 5;\n",
    "double R = 0.1;\n",
    "double x_stag = 0.01; // always at 10 mm\n",
    "\n",
    "// set grid to be saved in database\n",
    "GridFactory.myDb = myDb;"
   ]
  },
  {
   "cell_type": "code",
   "execution_count": null,
   "metadata": {
    "dotnet_interactive": {
     "language": "csharp"
    },
    "vscode": {
     "languageId": "dotnet-interactive.csharp"
    }
   },
   "outputs": [],
   "source": [
    "var controls = new List<XNSE_Control>();\n",
    "\n",
    "foreach(double delta in deltaS) {\n",
    "   foreach(double V_wall in V) {\n",
    "\n",
    "      double p = PressureFunc(x_stag, delta, V_wall);\n",
    "\n",
    "      var C = new XNSE_Control();\n",
    "      C.SetDGdegree(DGdegree);\n",
    "      C.SetGrid(GridFactory.GenerateGrid(Res,delta, R));\n",
    "      C.Paramstudy_CaseIdentification.Add(new Tuple<string, object>(\"Res\", Res));\n",
    "      C.Paramstudy_CaseIdentification.Add(new Tuple<string, object>(\"delta\", delta));\n",
    "      C.Paramstudy_CaseIdentification.Add(new Tuple<string, object>(\"Radius\", R));\n",
    "      C.Paramstudy_CaseIdentification.Add(new Tuple<string, object>(\"V_Wall\", V_wall));\n",
    "      C.Paramstudy_CaseIdentification.Add(new Tuple<string, object>(\"P_Diff\", p));\n",
    "\n",
    "\n",
    "      C.AddBoundaryValue(\"wall_walze\", \"VelocityX\", BoundaryValueFactory.Get_VelX(delta, V_wall, R));\n",
    "      C.AddBoundaryValue(\"wall_walze\", \"VelocityY\", BoundaryValueFactory.Get_VelY(delta, V_wall, R));\n",
    "      C.AddBoundaryValue(\"wall_substrat\", \"VelocityX\", BoundaryValueFactory.Get_VelX(delta, V_wall, R));\n",
    "      C.AddBoundaryValue(\"wall_substrat\", \"VelocityY\", BoundaryValueFactory.Get_VelY(delta, V_wall, R));\n",
    "      C.AddBoundaryValue(\"pressure_outlet_in\", \"Pressure\", $\"X => {p}\", false);\n",
    "      C.AddBoundaryValue(\"pressure_outlet_out\", \"Pressure\", $\"X => {-p}\", false);\n",
    "\n",
    "\n",
    "      C.TimesteppingMode = AppControl._TimesteppingMode.Steady;\n",
    "\n",
    "      C.PhysicalParameters.rho_A             = 1026.4;\n",
    "      C.PhysicalParameters.mu_A              = 0.0395;\n",
    "      C.PhysicalParameters.IncludeConvection = false;\n",
    "      C.Timestepper_LevelSetHandling         = BoSSS.Solution.XdgTimestepping.LevelSetHandling.None;\n",
    "      \n",
    "      C.SessionName = \"J\" + (20*Res*Res) + \"_delta\" + delta + \"_V\" + V_wall + \"_P\" + p;     \n",
    "      controls.Add(C);\n",
    "   }\n",
    "}"
   ]
  },
  {
   "cell_type": "code",
   "execution_count": null,
   "metadata": {
    "dotnet_interactive": {
     "language": "csharp"
    },
    "vscode": {
     "languageId": "dotnet-interactive.csharp"
    }
   },
   "outputs": [],
   "source": [
    "Console.WriteLine(controls.Count);"
   ]
  },
  {
   "cell_type": "markdown",
   "metadata": {},
   "source": [
    "### Run Simulations"
   ]
  },
  {
   "cell_type": "markdown",
   "metadata": {},
   "source": [
    "Workaround so we need to deploy the rather large executables only once!"
   ]
  },
  {
   "cell_type": "code",
   "execution_count": null,
   "metadata": {
    "dotnet_interactive": {
     "language": "csharp"
    },
    "vscode": {
     "languageId": "dotnet-interactive.csharp"
    }
   },
   "outputs": [],
   "source": [
    "string mngdir = \"SFB1194K65_Part2_\" + DateTime.Now.ToString(\"MMMdd_HHmmss\") + \"_managed\";\n",
    "DirectoryInfo ManagedOverride = new DirectoryInfo(Path.Combine(myBatch.DeploymentBaseDirectory, mngdir));\n",
    "ManagedOverride.Create();\n",
    "typeof(XNSE<XNSE_Control>).Assembly.DeployAt(ManagedOverride);\n",
    "string RelManagedPath = \"../\" + mngdir + \"/\" + Path.GetFileName(typeof(XNSE<XNSE_Control>).Assembly.Location);"
   ]
  },
  {
   "cell_type": "code",
   "execution_count": null,
   "metadata": {
    "dotnet_interactive": {
     "language": "csharp"
    },
    "vscode": {
     "languageId": "dotnet-interactive.csharp"
    }
   },
   "outputs": [],
   "source": [
    "string ntvdir = \"SFB1194K65_Part2_\" + DateTime.Now.ToString(\"MMMdd_HHmmss\") + \"_amd64\";\n",
    "DirectoryInfo NativeOverride = new DirectoryInfo(Path.Combine(myBatch.DeploymentBaseDirectory, ntvdir));\n",
    "NativeOverride.Create();\n",
    "MetaJobMgrIO.CopyDirectoryRec(ilPSP.Environment.NativeLibraryDir, NativeOverride.FullName, null);\n",
    "myBatch.DeployRuntime = false; // we did this manually!"
   ]
  },
  {
   "cell_type": "code",
   "execution_count": null,
   "metadata": {
    "dotnet_interactive": {
     "language": "csharp"
    },
    "vscode": {
     "languageId": "dotnet-interactive.csharp"
    }
   },
   "outputs": [],
   "source": [
    "foreach(var c in controls) {\n",
    "    Job j = c.CreateJob();\n",
    "    j.EnvironmentVars.Add(BoSSS.Foundation.IO.Utils.BOSSS_NATIVE_OVERRIDE, NativeOverride.FullName);\n",
    "    j.EntryAssemblyRedirection = RelManagedPath;\n",
    "    j.Activate(myBatch);\n",
    "}"
   ]
  },
  {
   "cell_type": "code",
   "execution_count": null,
   "metadata": {
    "dotnet_interactive": {
     "language": "csharp"
    },
    "vscode": {
     "languageId": "dotnet-interactive.csharp"
    }
   },
   "outputs": [],
   "source": [
    "BoSSSshell.WorkflowMgm.BlockUntilAllJobsTerminate(18000);"
   ]
  }
 ],
 "metadata": {
  "kernelspec": {
   "display_name": ".NET (C#)",
   "language": "C#",
   "name": ".net-csharp"
  },
  "language_info": {
   "file_extension": ".cs",
   "mimetype": "text/x-csharp",
   "name": "C#",
   "pygments_lexer": "csharp",
   "version": "9.0"
  },
  "orig_nbformat": 4
 },
 "nbformat": 4,
 "nbformat_minor": 2
}

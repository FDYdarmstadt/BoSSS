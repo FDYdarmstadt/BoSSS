{
 "cells": [
  {
   "cell_type": "markdown",
   "metadata": {},
   "source": [
    "# DG Basics: Projection and Approximation Properties "
   ]
  },
  {
   "cell_type": "markdown",
   "metadata": {},
   "source": [
    "## What's new\n",
    "\n",
    "- Creating numerical grids\n",
    "- Projecting functions onto the DG space and further evaluation\n",
    "- Performing a hp-convergence study\n"
   ]
  },
  {
   "cell_type": "markdown",
   "metadata": {},
   "source": [
    "### Prerequisites\n",
    "\n",
    "No **BoSSS** specific prerequisites are needed to complete this tutorial.\n"
   ]
  },
  {
   "cell_type": "markdown",
   "metadata": {},
   "source": [
    "## Problem statement\n",
    "\n",
    "First, we define two functions:\n",
    "$g_1$ is continuous, $g_2$ has a discontinuity at $x = \\pi$ in the first derivative\n",
    "\n",
    "$$ g_1(x) := \\sin(x), $$\n",
    "$$g_2(x) := \\vert \\sin(x) \\vert ,$$\n",
    "\n",
    "The function argument is a vector $x \\in R^n$, consisting only of one entry \n",
    "since we are working in a one dimensional space. \n",
    "\n",
    "**BoSSS** however supports 1D, 2D and 3D, so the spatial coordinate \n",
    "is a general vector.\n"
   ]
  },
  {
   "cell_type": "markdown",
   "metadata": {},
   "source": [
    "\n",
    "## Solution within the BoSSS framework"
   ]
  },
  {
   "cell_type": "markdown",
   "metadata": {},
   "source": [
    "Note: \n",
    "1. This tutorial can be found in the source code repository as asd `ue2Basics.ipynb`. \n",
    "   One can directly load this into Jupyter to interactively work with the following code examples.\n",
    "2. **In the following line, the reference to `BoSSSpad.dll` is required**. \n",
    "   You must either set `#r \"BoSSSpad.dll\"` to something which is appropirate for your computer\n",
    "   (e.g. `C:\\Program Files (x86)\\FDY\\BoSSS\\bin\\Release\\net5.0\\BoSSSpad.dll` if you installed the binary distribution),\n",
    "   or, if you are working with the source code, you must compile `BoSSSpad` and put it side-by-side to this worksheet file\n",
    "   (from the original location in the repository, you can use the scripts `getbossspad.sh`, resp. `getbossspad.bat`)."
   ]
  },
  {
   "cell_type": "code",
   "execution_count": null,
   "metadata": {
    "dotnet_interactive": {
     "language": "csharp"
    },
    "vscode": {
     "languageId": "polyglot-notebook"
    }
   },
   "outputs": [],
   "source": [
    "#r \"BoSSSpad.dll\"\n",
    "using System;\n",
    "using System.Collections.Generic;\n",
    "using System.Linq;\n",
    "using ilPSP;\n",
    "using ilPSP.Utils;\n",
    "using BoSSS.Platform;\n",
    "using BoSSS.Platform.LinAlg;\n",
    "using BoSSS.Foundation;\n",
    "using BoSSS.Foundation.XDG;\n",
    "using BoSSS.Foundation.Grid;\n",
    "using BoSSS.Foundation.Grid.Classic;\n",
    "using BoSSS.Foundation.Grid.RefElements;\n",
    "using BoSSS.Foundation.IO;\n",
    "using BoSSS.Solution;\n",
    "using BoSSS.Solution.Control;\n",
    "using BoSSS.Solution.GridImport;\n",
    "using BoSSS.Solution.Statistic;\n",
    "using BoSSS.Solution.Utils;\n",
    "using BoSSS.Solution.AdvancedSolvers;\n",
    "using BoSSS.Solution.Gnuplot;\n",
    "using BoSSS.Application.BoSSSpad;\n",
    "using BoSSS.Application.XNSE_Solver;\n",
    "using static BoSSS.Application.BoSSSpad.BoSSSshell;\n",
    "BoSSS.Application.BoSSSpad.BoSSSshell.Init();"
   ]
  },
  {
   "cell_type": "code",
   "execution_count": null,
   "metadata": {
    "dotnet_interactive": {
     "language": "csharp"
    },
    "vscode": {
     "languageId": "polyglot-notebook"
    }
   },
   "outputs": [],
   "source": [
    "using NUnit.Framework;"
   ]
  },
  {
   "cell_type": "markdown",
   "metadata": {},
   "source": [
    "### Plotting the functions\n",
    "\n",
    " First, we plot the functions that are defined above over the interval $(0 ,2 \\pi)$ with \n",
    "1000 sampling points using a Gnuplot-object."
   ]
  },
  {
   "cell_type": "code",
   "execution_count": null,
   "metadata": {
    "dotnet_interactive": {
     "language": "csharp"
    },
    "vscode": {
     "languageId": "polyglot-notebook"
    }
   },
   "outputs": [],
   "source": [
    "Func<double[],double> g1 = (X => Math.Sin(X[0]));          \n",
    "// continuous, smooth         \n",
    "Func<double[],double> g2 = (X => Math.Abs(Math.Sin(X[0])));          \n",
    "// continuous, non-smooth"
   ]
  },
  {
   "cell_type": "markdown",
   "metadata": {},
   "source": [
    "We define equidistant sampling points..."
   ]
  },
  {
   "cell_type": "code",
   "execution_count": null,
   "metadata": {
    "dotnet_interactive": {
     "language": "csharp"
    },
    "vscode": {
     "languageId": "polyglot-notebook"
    }
   },
   "outputs": [],
   "source": [
    "\n",
    "double[] x = GenericBlas.Linspace(0, 2.0*Math.PI, 1000);"
   ]
  },
  {
   "cell_type": "markdown",
   "metadata": {},
   "source": [
    "...and compute the function values. In the loop, we have to convert the scalar **x[i]** into an array\n",
    "with one element, since $g_1$ has to be feed with arrays."
   ]
  },
  {
   "cell_type": "code",
   "execution_count": null,
   "metadata": {
    "dotnet_interactive": {
     "language": "csharp"
    },
    "vscode": {
     "languageId": "polyglot-notebook"
    }
   },
   "outputs": [],
   "source": [
    "\n",
    "double[] g1_values = new double[x.Length];\n",
    "for(int i = 0; i < x.Length; i++) {\n",
    "    g1_values[i] = g1(new[] { x[i]} );\n",
    "}"
   ]
  },
  {
   "cell_type": "code",
   "execution_count": null,
   "metadata": {
    "dotnet_interactive": {
     "language": "csharp"
    },
    "vscode": {
     "languageId": "polyglot-notebook"
    }
   },
   "outputs": [],
   "source": [
    "/// Instead of loops, we can also use Linq-functions:\n",
    "double[] g2_values = x.Select(x => g2(new []{ x })).ToArray();"
   ]
  },
  {
   "cell_type": "markdown",
   "metadata": {},
   "source": [
    "For now, we are using the simple plotting interface, which supports\n",
    "Matlab-Style format specifiers and color names. \n",
    "\n",
    "(More advanced plots can be produced with **Plot2Ddata** and/or **Gnuplot** classes)\n",
    "\n",
    ">## Note\n",
    ">In order to obtain an output for the plot or any other command, there must not be a semicolon **;** \n",
    "> at the end of the line! "
   ]
  },
  {
   "cell_type": "code",
   "execution_count": null,
   "metadata": {
    "dotnet_interactive": {
     "language": "csharp"
    },
    "vscode": {
     "languageId": "polyglot-notebook"
    }
   },
   "outputs": [],
   "source": [
    "Plot(X1:x, Y1:g1_values, Name1:\"function g1\", Format1:\"--red\",\n",
    "     X2:x, Y2:g2_values, Name2:\"function g2\", Format2:\"-.blue\")"
   ]
  },
  {
   "cell_type": "markdown",
   "metadata": {},
   "source": [
    "Next, we create a grid which has a cell boundary exactly at the position of\n",
    "the discontinuity of $g_2$."
   ]
  },
  {
   "cell_type": "code",
   "execution_count": null,
   "metadata": {
    "dotnet_interactive": {
     "language": "csharp"
    },
    "vscode": {
     "languageId": "polyglot-notebook"
    }
   },
   "outputs": [],
   "source": [
    "var Nodes1 = new double[] {0, 2, Math.PI, 4.5, 2*Math.PI };         \n",
    "var Grid1 = Grid1D.LineGrid(Nodes1);"
   ]
  },
  {
   "cell_type": "markdown",
   "metadata": {},
   "source": [
    "We can get the total number of cells by using the following command:"
   ]
  },
  {
   "cell_type": "code",
   "execution_count": null,
   "metadata": {
    "dotnet_interactive": {
     "language": "csharp"
    },
    "vscode": {
     "languageId": "polyglot-notebook"
    }
   },
   "outputs": [],
   "source": [
    "Grid1.NumberOfCells"
   ]
  },
  {
   "cell_type": "markdown",
   "metadata": {},
   "source": [
    "The recently created grid-object is not directly usable because it contains only the nodes of the grid. \n",
    "\n",
    "We have to create a **GridData**-object which provides all necessary transformation metrics, etc. .\n"
   ]
  },
  {
   "cell_type": "code",
   "execution_count": null,
   "metadata": {
    "dotnet_interactive": {
     "language": "csharp"
    },
    "vscode": {
     "languageId": "polyglot-notebook"
    }
   },
   "outputs": [],
   "source": [
    "var gdata1 = new GridData(Grid1);"
   ]
  },
  {
   "cell_type": "markdown",
   "metadata": {},
   "source": [
    "### Projection onto the DG space\n",
    "At this point, we are able to create the so-called ***DG fields*** to approximate ***$g_1$***\n",
    "on ***grid1***. \n",
    "\n",
    "Therefore, we project ***$g_1$*** onto ***grid1*** using polynomial orders\n",
    "of $p=2$ and $p=8$.\n"
   ]
  },
  {
   "cell_type": "code",
   "execution_count": null,
   "metadata": {
    "dotnet_interactive": {
     "language": "csharp"
    },
    "vscode": {
     "languageId": "polyglot-notebook"
    }
   },
   "outputs": [],
   "source": [
    "var g1_grid1_p2 = new SinglePhaseField(new Basis(gdata1, 2), \"g1 with p2 at Grid 1\");      \n",
    "g1_grid1_p2.ProjectField(g1);"
   ]
  },
  {
   "cell_type": "code",
   "execution_count": null,
   "metadata": {
    "dotnet_interactive": {
     "language": "csharp"
    },
    "vscode": {
     "languageId": "polyglot-notebook"
    }
   },
   "outputs": [],
   "source": [
    "var g1_grid1_p8 = new SinglePhaseField(new Basis(gdata1, 8), \"g1 with p8 at Grid 1\");         \n",
    "g1_grid1_p8.ProjectField(g1);"
   ]
  },
  {
   "cell_type": "markdown",
   "metadata": {},
   "source": [
    "Now, let us plot the projected solution for $p=2$. \n",
    "\n",
    "By using the upsampling parameter, we can determine \n",
    "the amount of sampling points per cell.\n"
   ]
  },
  {
   "cell_type": "code",
   "execution_count": null,
   "metadata": {
    "dotnet_interactive": {
     "language": "csharp"
    },
    "vscode": {
     "languageId": "polyglot-notebook"
    }
   },
   "outputs": [],
   "source": [
    "var upsampling = 20;"
   ]
  },
  {
   "cell_type": "code",
   "execution_count": null,
   "metadata": {
    "dotnet_interactive": {
     "language": "csharp"
    },
    "vscode": {
     "languageId": "polyglot-notebook"
    }
   },
   "outputs": [],
   "source": [
    "var gp1 = new Gnuplot();"
   ]
  },
  {
   "cell_type": "code",
   "execution_count": null,
   "metadata": {
    "dotnet_interactive": {
     "language": "csharp"
    },
    "vscode": {
     "languageId": "polyglot-notebook"
    }
   },
   "outputs": [],
   "source": [
    "gp1.PlotField(g1_grid1_p2,          \n",
    "    new PlotFormat(lineColor: (LineColors)(1)),\n",
    "    upsampling);"
   ]
  },
  {
   "cell_type": "code",
   "execution_count": null,
   "metadata": {
    "dotnet_interactive": {
     "language": "csharp"
    },
    "vscode": {
     "languageId": "polyglot-notebook"
    }
   },
   "outputs": [],
   "source": [
    "gp1.PlotNow() // shows the plot"
   ]
  },
  {
   "cell_type": "markdown",
   "metadata": {},
   "source": [
    "### Computing the $L^2$-error\n",
    " Next, we learn how to compute the $L^2$-error for both approximations of $g_1$ with different polynomial degrees:\n"
   ]
  },
  {
   "cell_type": "code",
   "execution_count": null,
   "metadata": {
    "dotnet_interactive": {
     "language": "csharp"
    },
    "vscode": {
     "languageId": "polyglot-notebook"
    }
   },
   "outputs": [],
   "source": [
    "g1_grid1_p2.L2Error(g1)"
   ]
  },
  {
   "cell_type": "code",
   "execution_count": null,
   "metadata": {
    "dotnet_interactive": {
     "language": "csharp"
    },
    "vscode": {
     "languageId": "polyglot-notebook"
    }
   },
   "outputs": [],
   "source": [
    "g1_grid1_p8.L2Error(g1)"
   ]
  },
  {
   "cell_type": "markdown",
   "metadata": {},
   "source": [
    "### Plotting the point-wise error\n",
    "\n",
    "Now, we plot the point-wise error for the approximation of $g_1$ \n",
    "on **grid1** with a polynomial degree of 8."
   ]
  },
  {
   "cell_type": "code",
   "execution_count": null,
   "metadata": {
    "dotnet_interactive": {
     "language": "csharp"
    },
    "vscode": {
     "languageId": "polyglot-notebook"
    }
   },
   "outputs": [],
   "source": [
    "int K = 20; // number of points per cell         \n",
    "var gp2 = new Gnuplot();         \n",
    "gp2.PlotLogError(g1_grid1_p8, g1, \"g1 with p8 at Grid 1\", 20,          \n",
    "    new PlotFormat(lineColor: (LineColors)(1)));         \n",
    "gp2.PlotNow()"
   ]
  },
  {
   "cell_type": "markdown",
   "metadata": {},
   "source": [
    "### Decay behavior of the DG modes for smooth and non-smooth functions\n",
    "We investigate the decay behavior of the DG modes for smooth and non-smooth \n",
    "functions. \n",
    "\n",
    "For this purpose, we create a second grid which has the\n",
    "discontinuity of $g_2$ within a cell and project $g_2$ onto this grid\n",
    "like mentioned above.\n"
   ]
  },
  {
   "cell_type": "code",
   "execution_count": null,
   "metadata": {
    "dotnet_interactive": {
     "language": "csharp"
    },
    "vscode": {
     "languageId": "polyglot-notebook"
    }
   },
   "outputs": [],
   "source": [
    "var Nodes2      = new double[] {0, 2, 4.5, 2*Math.PI };         \n",
    "var Grid2       = Grid1D.LineGrid(Nodes2);         \n",
    "var gdata2      = new GridData(Grid2);         \n",
    "var g2_grid2_p8 = new SinglePhaseField(new Basis(gdata2, 8), \"g2_p8 at Grid2\");         \n",
    "g2_grid2_p8.ProjectField(g2);"
   ]
  },
  {
   "cell_type": "markdown",
   "metadata": {},
   "source": [
    "The cell coordinates can be extracted by using the **Coordinates** parameter."
   ]
  },
  {
   "cell_type": "code",
   "execution_count": null,
   "metadata": {
    "dotnet_interactive": {
     "language": "csharp"
    },
    "vscode": {
     "languageId": "polyglot-notebook"
    }
   },
   "outputs": [],
   "source": [
    "double[] cell1 = g2_grid2_p8.Coordinates.GetRow(1);          \n",
    "    // coord. in cell 1 (with kink)"
   ]
  },
  {
   "cell_type": "code",
   "execution_count": null,
   "metadata": {
    "dotnet_interactive": {
     "language": "csharp"
    },
    "vscode": {
     "languageId": "polyglot-notebook"
    }
   },
   "outputs": [],
   "source": [
    "double[] cell0 = g2_grid2_p8.Coordinates.GetRow(0);          \n",
    "    // coord. in cell 0 (smooth)"
   ]
  },
  {
   "cell_type": "code",
   "execution_count": null,
   "metadata": {
    "dotnet_interactive": {
     "language": "csharp"
    },
    "vscode": {
     "languageId": "polyglot-notebook"
    }
   },
   "outputs": [],
   "source": [
    "double[] cell2 = g2_grid2_p8.Coordinates.GetRow(2);          \n",
    "    // coord. in cell 2 (smooth)"
   ]
  },
  {
   "cell_type": "markdown",
   "metadata": {},
   "source": [
    "Only the absolute value shall be plotted. We use a for-loop to replace the data in \n",
    "**cell0**, **cell1** and **cell2** by their absolute values.\n"
   ]
  },
  {
   "cell_type": "code",
   "execution_count": null,
   "metadata": {
    "dotnet_interactive": {
     "language": "csharp"
    },
    "vscode": {
     "languageId": "polyglot-notebook"
    }
   },
   "outputs": [],
   "source": [
    "for(int i = 0; i < cell0.Length; i++) {         \n",
    "    cell0[i] = Math.Abs(cell0[i]);         \n",
    "    cell1[i] = Math.Abs(cell1[i]);         \n",
    "    cell2[i] = Math.Abs(cell2[i]);         \n",
    " }"
   ]
  },
  {
   "cell_type": "code",
   "execution_count": null,
   "metadata": {
    "dotnet_interactive": {
     "language": "csharp"
    },
    "vscode": {
     "languageId": "polyglot-notebook"
    }
   },
   "outputs": [],
   "source": [
    "Plot(X1:null, Y1:cell1, Name1:\"disc. cell\", Format1:\"*-magenta\",\n",
    "     X2:null, Y2:cell0, Name2:\"cell0\",      Format2:\"o-blue\",\n",
    "     X3:null, Y3:cell2, Name3:\"cell2\",      Format3:\"o-red\")"
   ]
  },
  {
   "cell_type": "markdown",
   "metadata": {},
   "source": [
    "#### Note\n",
    "Using a shortcut for the for-loop above, the absolute values in **cell0**\n",
    "can also be stored using the following command:"
   ]
  },
  {
   "cell_type": "code",
   "execution_count": null,
   "metadata": {
    "dotnet_interactive": {
     "language": "csharp"
    },
    "vscode": {
     "languageId": "polyglot-notebook"
    }
   },
   "outputs": [],
   "source": [
    "double[] cell0 = g2_grid2_p8.Coordinates.GetRow(0)         \n",
    "    .Select(d => Math.Abs(d)).ToArray();"
   ]
  },
  {
   "cell_type": "markdown",
   "metadata": {},
   "source": [
    "Now, we would like to plot the logarithm (use **Math.Log10(...)**) of the absolute\n",
    "values of the DG coordinates."
   ]
  },
  {
   "cell_type": "code",
   "execution_count": null,
   "metadata": {
    "dotnet_interactive": {
     "language": "csharp"
    },
    "vscode": {
     "languageId": "polyglot-notebook"
    }
   },
   "outputs": [],
   "source": [
    "Plot(X1:null, Y1:cell1, Name1:\"disc. cell\", Format1:\"*-magenta\",\n",
    "     X2:null, Y2:cell0, Name2:\"cell0\",      Format2:\"o-blue\",\n",
    "     X3:null, Y3:cell2, Name3:\"cell2\",      Format3:\"o-red\",\n",
    "     logY:true)"
   ]
  },
  {
   "cell_type": "markdown",
   "metadata": {},
   "source": [
    "### Convergence study\n",
    "In this section, we learn how to perform a convergence study for $g_2$\n",
    "for two different sequences of grid resolutions and different polynomial\n",
    "orders. \n",
    "\n",
    "Therefore, we define two different sequences of grid resolutions:\n"
   ]
  },
  {
   "cell_type": "code",
   "execution_count": null,
   "metadata": {
    "dotnet_interactive": {
     "language": "csharp"
    },
    "vscode": {
     "languageId": "polyglot-notebook"
    }
   },
   "outputs": [],
   "source": [
    "int[][] ResSeq = new int[2][];"
   ]
  },
  {
   "cell_type": "markdown",
   "metadata": {},
   "source": [
    "Grid resolutions so that the kink in **g2** is located at a cell boundary:"
   ]
  },
  {
   "cell_type": "code",
   "execution_count": null,
   "metadata": {
    "dotnet_interactive": {
     "language": "csharp"
    },
    "vscode": {
     "languageId": "polyglot-notebook"
    }
   },
   "outputs": [],
   "source": [
    "ResSeq[0] = new int[] { 4, 8, 16, 32, 64, 128, 256, 512, 1024, 2048 };"
   ]
  },
  {
   "cell_type": "markdown",
   "metadata": {},
   "source": [
    "Grid resolutions so that the kink in **g2** is located within a cell:"
   ]
  },
  {
   "cell_type": "code",
   "execution_count": null,
   "metadata": {
    "dotnet_interactive": {
     "language": "csharp"
    },
    "vscode": {
     "languageId": "polyglot-notebook"
    }
   },
   "outputs": [],
   "source": [
    "\n",
    "ResSeq[1] = new int[] { 3, 7, 15, 31, 63, 127, 255, 511, 1023, 2047 };"
   ]
  },
  {
   "cell_type": "markdown",
   "metadata": {},
   "source": [
    "We save our errors into a multidimensional array by looping over \n",
    "\n",
    "- the resolution sequence\n",
    "- the polynomial order\n",
    "- the resolution"
   ]
  },
  {
   "cell_type": "code",
   "execution_count": null,
   "metadata": {
    "dotnet_interactive": {
     "language": "csharp"
    },
    "vscode": {
     "languageId": "polyglot-notebook"
    }
   },
   "outputs": [],
   "source": [
    "var Errors = MultidimensionalArray.Create(2, 5, ResSeq[0].Length);"
   ]
  },
  {
   "cell_type": "code",
   "execution_count": null,
   "metadata": {
    "dotnet_interactive": {
     "language": "csharp"
    },
    "vscode": {
     "languageId": "polyglot-notebook"
    }
   },
   "outputs": [],
   "source": [
    "for(int i = 0; i < 2; i++) { // loop over the resolution sequence         \n",
    "    for(int p = 0; p <= 4; p++) { // loop over polynomial orders         \n",
    "        for(int k = 0; k < ResSeq[i].Length; k++) { // loop over different resolutions        \n",
    " \n",
    "            Console.Write(\"polynomial order {1}\"+         \n",
    "            \",\\tResolution {0}... \", ResSeq[i][k], p);         \n",
    " \n",
    "            var grid  = Grid1D.LineGrid(GenericBlas.Linspace(0,         \n",
    "            2.0*Math.PI, ResSeq[i][k] + 1));           \n",
    "                 // number of nodes == number of cells + 1         \n",
    " \n",
    "            var gData = new GridData(grid);         \n",
    " \n",
    "            var g2_h  = new SinglePhaseField(new Basis(gData, p));         \n",
    " \n",
    "            g2_h.ProjectField(g2);         \n",
    " \n",
    "            Errors[i,p,k] = g2_h.L2Error(g2);         \n",
    " \n",
    "            Console.WriteLine(\"\\tdone: L2 error is {0:0.###e-00}.\", Errors[i,p,k]);         \n",
    "        }         \n",
    "    }         \n",
    " }"
   ]
  },
  {
   "cell_type": "code",
   "execution_count": null,
   "metadata": {
    "dotnet_interactive": {
     "language": "csharp"
    },
    "vscode": {
     "languageId": "polyglot-notebook"
    }
   },
   "outputs": [],
   "source": [
    "/// NUnit test (few random tests)\n",
    "Assert.LessOrEqual(Errors[1,4,9],8E-06);       \n",
    "Assert.LessOrEqual(Errors[1,3,9],7.5E-06);       \n",
    "Assert.LessOrEqual(Errors[1,2,9],2E-05);       \n",
    "Assert.LessOrEqual(Errors[1,1,9],2E-05);       \n",
    "Assert.LessOrEqual(Errors[0,3,9],1E-12);       \n",
    "Assert.LessOrEqual(Errors[0,3,9],1E-12);       \n",
    "Assert.LessOrEqual(Errors[1,4,0],0.25);       \n",
    "Assert.LessOrEqual(Errors[0,0,0],0.2);       \n",
    "Assert.LessOrEqual(Errors[0,3,0],1E-03);"
   ]
  },
  {
   "cell_type": "markdown",
   "metadata": {},
   "source": [
    "We plot the error for the grids which have the kink at the cell boundary,\n",
    "there we reach spectral convergence:"
   ]
  },
  {
   "cell_type": "code",
   "execution_count": null,
   "metadata": {
    "dotnet_interactive": {
     "language": "csharp"
    },
    "vscode": {
     "languageId": "polyglot-notebook"
    }
   },
   "outputs": [],
   "source": [
    "var hValues = ResSeq[0].Select(J => Math.PI*2.0/J);\n",
    "Plot(X1:hValues, Y1:Errors.ExtractSubArrayShallow(0,0,-1).To1DArray(),\n",
    "     Name1:\"grid1,p0\", Format1:\"o-red\",\n",
    "     X2:hValues, Y2:Errors.ExtractSubArrayShallow(0,1,-1).To1DArray(),\n",
    "     Name2:\"grid1,p1\", Format2:\"o-blue\",\n",
    "     X3:hValues, Y3:Errors.ExtractSubArrayShallow(0,2,-1).To1DArray(),\n",
    "     Name3:\"grid1,p2\", Format3:\"o-green\",\n",
    "     X4:hValues, Y4:Errors.ExtractSubArrayShallow(0,3,-1).To1DArray(),\n",
    "     Name4:\"grid1,p3\", Format4:\"o-magenta\",\n",
    "     X5:hValues, Y5:Errors.ExtractSubArrayShallow(0,4,-1).To1DArray(),\n",
    "     Name5:\"grid1,p4\", Format5:\"o-orange\",\n",
    "     logX:true, logY:true)"
   ]
  },
  {
   "cell_type": "markdown",
   "metadata": {},
   "source": [
    "Now we plot the error for the grids which have the kink within a cell;\n",
    "due to the low regularity, the convergence of the DG method\n",
    "degenerates:"
   ]
  },
  {
   "cell_type": "code",
   "execution_count": null,
   "metadata": {
    "dotnet_interactive": {
     "language": "csharp"
    },
    "vscode": {
     "languageId": "polyglot-notebook"
    }
   },
   "outputs": [],
   "source": [
    "var hValues = ResSeq[0].Select(J => Math.PI*2.0/J);\n",
    "Plot(X1:hValues, Y1:Errors.ExtractSubArrayShallow(1,0,-1).To1DArray(),\n",
    "     Name1:\"grid1,p0\", Format1:\"o-red\",\n",
    "     X2:hValues, Y2:Errors.ExtractSubArrayShallow(1,1,-1).To1DArray(),\n",
    "     Name2:\"grid1,p1\", Format2:\"o-blue\",\n",
    "     X3:hValues, Y3:Errors.ExtractSubArrayShallow(1,2,-1).To1DArray(),\n",
    "     Name3:\"grid1,p2\", Format3:\"o-green\",\n",
    "     X4:hValues, Y4:Errors.ExtractSubArrayShallow(1,3,-1).To1DArray(),\n",
    "     Name4:\"grid1,p3\", Format4:\"o-magenta\",\n",
    "     X5:hValues, Y5:Errors.ExtractSubArrayShallow(1,4,-1).To1DArray(),\n",
    "     Name5:\"grid1,p4\", Format5:\"o-orange\",\n",
    "     logX:true, logY:true)"
   ]
  },
  {
   "cell_type": "markdown",
   "metadata": {},
   "source": [
    "## Where to go from here? (Further Reading)\n",
    "This tutorial addressed the very basics of setting up a **BoSSS~application**, namely grid instantiation, the $L^2$-projection of functions onto the DG space and performing a spatial convergence study. Where do you go from here? We recommend that you continue with other relevant basics as provided in the tutorials dealing with the creation of a spatial operator, explicit time integration and the implementation of numerical fluxes."
   ]
  }
 ],
 "metadata": {
  "kernelspec": {
   "display_name": ".NET (C#)",
   "language": "C#",
   "name": ".net-csharp"
  },
  "language_info": {
   "file_extension": ".cs",
   "mimetype": "text/x-csharp",
   "name": "C#",
   "pygments_lexer": "csharp",
   "version": "11.0"
  }
 },
 "nbformat": 4,
 "nbformat_minor": 4
}

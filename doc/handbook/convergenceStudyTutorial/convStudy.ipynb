{
 "cells": [
  {
   "cell_type": "markdown",
   "metadata": {},
   "source": [
    "# Convergence Study using the Meta Job Manager\n",
    "\n",
    "## Initialization\n",
    "\n",
    "In order to execute the individual solver runs,\n",
    "we are going to employ the mini batch processor,\n",
    "for running the calculations on the local machine.\n",
    "We also have to initialize the workflow management system and create \n",
    "a database.\n",
    "\n",
    "Note: \n",
    "1. This tutorial can be found in the source code repository as as `convStudy.ipynb`. \n",
    "   One can directly load this into Jupyter to interactively work with the following code examples.\n",
    "2. **In the following line, the reference to `BoSSSpad.dll` is required**. \n",
    "   You must either set `#r \"BoSSSpad.dll\"` to something which is appropirate for your computer\n",
    "   (e.g. `C:\\Program Files (x86)\\FDY\\BoSSS\\bin\\Release\\net5.0\\BoSSSpad.dll` if you installed the binary distribution),\n",
    "   or, if you are working with the source code, you must compile `BoSSSpad` and put it side-by-side to this worksheet file\n",
    "   (from the original location in the repository, you can use the scripts `getbossspad.sh`, resp. `getbossspad.bat`)."
   ]
  },
  {
   "cell_type": "code",
   "execution_count": null,
   "metadata": {
    "dotnet_interactive": {
     "language": "csharp"
    }
   },
   "outputs": [],
   "source": [
    "#r \"BoSSSpad.dll\"\n",
    "//#r \"C:\\Users\\flori\\Documents\\BoSSS-kdev2\\public\\src\\L4-application\\BoSSSpad\\bin\\Debug\\net6.0\\BoSSSpad.dll\"\n",
    "using System;\n",
    "using System.Collections.Generic;\n",
    "using System.Linq;\n",
    "using ilPSP;\n",
    "using ilPSP.Utils;\n",
    "using BoSSS.Platform;\n",
    "using BoSSS.Foundation;\n",
    "using BoSSS.Foundation.Grid;\n",
    "using BoSSS.Foundation.Grid.Classic;\n",
    "using BoSSS.Foundation.IO;\n",
    "using BoSSS.Solution;\n",
    "using BoSSS.Solution.Control;\n",
    "using BoSSS.Solution.GridImport;\n",
    "using BoSSS.Solution.Statistic;\n",
    "using BoSSS.Solution.Utils;\n",
    "using BoSSS.Solution.Gnuplot;\n",
    "using BoSSS.Application.BoSSSpad;\n",
    "using BoSSS.Application.XNSE_Solver;\n",
    "using static BoSSS.Application.BoSSSpad.BoSSSshell;\n",
    "Init();"
   ]
  },
  {
   "cell_type": "code",
   "execution_count": null,
   "metadata": {
    "dotnet_interactive": {
     "language": "csharp"
    }
   },
   "outputs": [],
   "source": [
    "using NUnit.Framework;"
   ]
  },
  {
   "cell_type": "code",
   "execution_count": null,
   "metadata": {
    "dotnet_interactive": {
     "language": "csharp"
    }
   },
   "outputs": [],
   "source": [
    "BoSSSshell.WorkflowMgm.Init(\"ConvStudyTutorial\");"
   ]
  },
  {
   "cell_type": "code",
   "execution_count": null,
   "metadata": {
    "dotnet_interactive": {
     "language": "csharp"
    }
   },
   "outputs": [],
   "source": [
    "// In previous versions, it was required to explicitly create a temporary or permanent database;\n",
    "// This is not required anymore, since the workflow management automatically creates a default database.\n",
    "//var db = CreateTempDatabase();"
   ]
  },
  {
   "cell_type": "markdown",
   "metadata": {},
   "source": [
    "The following (deactivated) line would delete all Sessions (i.e. solver \n",
    "runs) which correspond to this project from the database.\n",
    "Hence, on every execution of the worksheet, all simulations would be \n",
    "re-done. \n",
    "\n",
    "Normally, without the following line, existing simulations from \n",
    "the database will be used; therefore, it is save to close and open\n",
    "the worksheet.\n",
    "\n",
    "This is handy e.g. when simulations are running on a cluster for a long \n",
    "time, and we usually don't want to re-submit the calculation \n",
    "every time we execute the worksheet.\n",
    "\n",
    "```csharp\n",
    "BoSSSshell.WorkflowMgm.Sessions.ForEach(si => si.Delete(true));\n",
    "```"
   ]
  },
  {
   "cell_type": "markdown",
   "metadata": {},
   "source": [
    "For sake of simplicity, we employ the Poisson solver\n",
    "**ipPoisson** which is just a benchmarking application, but sufficient \n",
    "for the purpose of this tutorial."
   ]
  },
  {
   "cell_type": "code",
   "execution_count": null,
   "metadata": {
    "dotnet_interactive": {
     "language": "csharp"
    }
   },
   "outputs": [],
   "source": [
    "using BoSSS.Application.SipPoisson;"
   ]
  },
  {
   "cell_type": "markdown",
   "metadata": {},
   "source": [
    "## Mesh Creation\n",
    "\n",
    "We create multiple grids using resolutions of $2 \\times 2$, $4 \\times 4$ to $32 \\times 32$\n",
    "cells:"
   ]
  },
  {
   "cell_type": "code",
   "execution_count": null,
   "metadata": {
    "dotnet_interactive": {
     "language": "csharp"
    }
   },
   "outputs": [],
   "source": [
    "int[] resolutions = new int[] { 2, 4, 8, 16, 32};"
   ]
  },
  {
   "cell_type": "code",
   "execution_count": null,
   "metadata": {
    "dotnet_interactive": {
     "language": "csharp"
    }
   },
   "outputs": [],
   "source": [
    "var grids = new GridCommons[resolutions.Length];\n",
    "for(int iRes = 0; iRes < resolutions.Length; iRes++) {\n",
    "    // create nodes:\n",
    "    var Nodes = GenericBlas.Linspace(-Math.PI*0.5, Math.PI*0.5, \n",
    "        resolutions[iRes] + 1); // note: number of nodes = number of cells + 1!\n",
    " \n",
    "    // create grid:\n",
    "    GridCommons grd_i = Grid2D.Cartesian2DGrid(Nodes, Nodes);\n",
    " \n",
    "    // define all boundaries as Dirichlet:\n",
    "    grd_i.EdgeTagNames.Add(1, BoundaryType.Dirichlet.ToString());\n",
    "    grd_i.DefineEdgeTags(delegate (double[] X) {\n",
    "        byte ret = 1;\n",
    "        return ret;\n",
    "    });\n",
    " \n",
    "    // save grid in database\n",
    "    wmg.DefaultDatabase.SaveGrid(ref grd_i);\n",
    " \n",
    "    // remenber reference to grid:\n",
    "    grids[iRes] = grd_i;\n",
    "}"
   ]
  },
  {
   "cell_type": "markdown",
   "metadata": {},
   "source": [
    "## Setup and execution of solver runs\n",
    "\n",
    "First, we implement the exact expressions for the right-hand-side $$ f(x,y)= -2\\cos(x)\\cos(y)$$\n",
    "and the exact solution.\n",
    "$$ u_{sol} (x,y)=\\cos(x) \\cos(y) $$\n",
    "\n",
    "The exact solution will be used to compute the error of the simulation.\n",
    "Normally, the exact solution is not known; in those cases, we need to \n",
    "compute the experimental convergence against the solution on the finest\n",
    "grid."
   ]
  },
  {
   "cell_type": "code",
   "execution_count": null,
   "metadata": {
    "dotnet_interactive": {
     "language": "csharp"
    }
   },
   "outputs": [],
   "source": [
    "string formula_code = \n",
    "\"static class Expressions { \" +\n",
    "\"    public static double RHS(double[] X) { \" +\n",
    "\"        double x = X[0]; \" +\n",
    "\"        double y = X[1]; \" +\n",
    "\"        return -2.0*Math.Cos(x)*Math.Cos(y); \" +\n",
    "\"    } \" +\n",
    "\"    public static double Tex(double[] X) { \" +\n",
    "\"        double x = X[0]; \" +\n",
    "\"        double y = X[1]; \" +\n",
    "\"        return Math.Cos(x)*Math.Cos(y); \" +\n",
    "\"    } \" +\n",
    "\"}\";"
   ]
  },
  {
   "cell_type": "code",
   "execution_count": null,
   "metadata": {
    "dotnet_interactive": {
     "language": "csharp"
    }
   },
   "outputs": [],
   "source": [
    "var RHSfunc = new Formula(\"Expressions.RHS\", false, formula_code);"
   ]
  },
  {
   "cell_type": "code",
   "execution_count": null,
   "metadata": {
    "dotnet_interactive": {
     "language": "csharp"
    }
   },
   "outputs": [],
   "source": [
    "var TexFunc = new Formula(\"Expressions.Tex\", false, formula_code);"
   ]
  },
  {
   "cell_type": "markdown",
   "metadata": {},
   "source": [
    "We compute 4 different polynomial orders:"
   ]
  },
  {
   "cell_type": "code",
   "execution_count": null,
   "metadata": {
    "dotnet_interactive": {
     "language": "csharp"
    }
   },
   "outputs": [],
   "source": [
    "int[] Degrees = new int[] {1, 2, 3, 4};"
   ]
  },
  {
   "cell_type": "markdown",
   "metadata": {},
   "source": [
    "Setup of all runs..."
   ]
  },
  {
   "cell_type": "code",
   "execution_count": null,
   "metadata": {
    "dotnet_interactive": {
     "language": "csharp"
    }
   },
   "outputs": [],
   "source": [
    "var Runs = new List<SipControl>();\n",
    "Runs.Clear(); // start with an empty run list\n",
    "foreach(int pDeg in Degrees) { // loop over polynomial degrees\n",
    "foreach(var grd in grids) { //    loop over all grids\n",
    " \n",
    "    // create object and remember in list:\n",
    "    SipControl C = new SipControl();   \n",
    "    Runs.Add(C);\n",
    " \n",
    "    // set polynomial degree and grid:\n",
    "    C.SetDGdegree(pDeg);\n",
    "    C.SetGrid(grd);\n",
    " \n",
    "    // specify RHS and exact solution (these are realized as initial values\n",
    "    // in the \\code{ipPoisson} solver:\n",
    "    C.AddInitialValue(\"RHS\", RHSfunc);\n",
    "    C.AddInitialValue(\"Tex\", TexFunc);\n",
    " \n",
    "    // specify boundary condition:\n",
    "    C.AddBoundaryValue(BoundaryType.Dirichlet.ToString()); // for homogeneous \n",
    "    //   boundary conditions, we don not need a value, since the default value\n",
    "    //   zero is sufficient.\n",
    " \n",
    "    // the exact solution is a speciality of the SIP Poisson benchmark solver;\n",
    "    // in order to evaluate the exact solution, we have to set the following \n",
    "    // boolean:\n",
    "    C.ExactSolution_provided = true;\n",
    " \n",
    "}\n",
    "}"
   ]
  },
  {
   "cell_type": "code",
   "execution_count": null,
   "metadata": {
    "dotnet_interactive": {
     "language": "csharp"
    }
   },
   "outputs": [],
   "source": [
    "// In the following, we check the correctness of the `Equals`-method for `SipControl`;\n",
    "// This tutorial is part of the BoSSS test suit, the following is not required for the functionality of the example.\n",
    "int NC = Runs.Count;\n",
    "for(int i = 0; i < NC; i++) {\n",
    "    for(int j = 0; j < NC; j++) {\n",
    "        if(i == j)\n",
    "            Assert.IsTrue(Runs[i].Equals(Runs[j]), \"Control is not self-equal\");\n",
    "        else\n",
    "            Assert.IsFalse(Runs[i].Equals(Runs[j]), \"Different Control are wrongly equal\");\n",
    "    }\n",
    "}"
   ]
  },
  {
   "cell_type": "markdown",
   "metadata": {},
   "source": [
    "...and activate them:"
   ]
  },
  {
   "cell_type": "code",
   "execution_count": null,
   "metadata": {
    "dotnet_interactive": {
     "language": "csharp"
    }
   },
   "outputs": [],
   "source": [
    "foreach(var C in Runs)\n",
    "   C.RunBatch(); // runs in the default execution queue"
   ]
  },
  {
   "cell_type": "markdown",
   "metadata": {},
   "source": [
    "The following line ensures that all jobs are complete before \n",
    "post-processing analysis is started, although, there is a one-hour (3600-seconds )\n",
    "time-out."
   ]
  },
  {
   "cell_type": "code",
   "execution_count": null,
   "metadata": {
    "dotnet_interactive": {
     "language": "csharp"
    }
   },
   "outputs": [],
   "source": [
    "\n",
    "BoSSSshell.WorkflowMgm.BlockUntilAllJobsTerminate(3600*4);"
   ]
  },
  {
   "cell_type": "markdown",
   "metadata": {},
   "source": [
    "Note that, in a larger production run study, where jobs may run days or\n",
    "weeks, blocking the worksheet is not really usefull.\n",
    "Instead, one might split process into two workseets \n",
    "(eactly at this line here), one for set-up and\n",
    "job sumbission and another one for the analysis."
   ]
  },
  {
   "cell_type": "code",
   "execution_count": null,
   "metadata": {
    "dotnet_interactive": {
     "language": "csharp"
    }
   },
   "outputs": [],
   "source": [
    "\n",
    "BoSSSshell.WorkflowMgm.AllJobs"
   ]
  },
  {
   "cell_type": "markdown",
   "metadata": {},
   "source": [
    "We can take a closer inspection of anything that failed (should not be,\n",
    "anyway)."
   ]
  },
  {
   "cell_type": "code",
   "execution_count": null,
   "metadata": {
    "dotnet_interactive": {
     "language": "csharp"
    }
   },
   "outputs": [],
   "source": [
    "\n",
    "foreach(var job in BoSSSshell.WorkflowMgm.AllJobs.Values) {\n",
    "    if(job.Status != JobStatus.FinishedSuccessful) {\n",
    "        Console.WriteLine(\"###############################################\");\n",
    "        Console.WriteLine($\"Job {job}\");\n",
    "        Console.WriteLine(\"###############################################\");\n",
    "        Console.WriteLine(job.Stdout);   \n",
    "        Console.WriteLine(\"===============================================\");\n",
    "        Console.WriteLine(job.Stderr);\n",
    "        Console.WriteLine(\"###############################################\");\n",
    "    }    \n",
    "}"
   ]
  },
  {
   "cell_type": "markdown",
   "metadata": {},
   "source": [
    "\n",
    "## Convergence against exact solution\n",
    "\n",
    "As already noted, the computation of the $L^2$ error against the \n",
    "exact solution is handled specially in the **ipPoisson** solver.\n",
    "However, the following tutorial can serve as a general template of how to\n",
    "extract data from the session table and visualize it.\n",
    "\n",
    "We aquire a copy of the session table, and from all the columns in there...\n"
   ]
  },
  {
   "cell_type": "code",
   "execution_count": null,
   "metadata": {
    "dotnet_interactive": {
     "language": "csharp"
    }
   },
   "outputs": [],
   "source": [
    "var Tab = BoSSSshell.WorkflowMgm.SessionTable;"
   ]
  },
  {
   "cell_type": "code",
   "execution_count": null,
   "metadata": {
    "dotnet_interactive": {
     "language": "csharp"
    }
   },
   "outputs": [],
   "source": [
    "Tab.GetColumnNames().Take(7)  // Take(7) is just to shorten the output. There are a total of 86 ColumnNames."
   ]
  },
  {
   "cell_type": "markdown",
   "metadata": {},
   "source": [
    "...we extract those which sound interesting:"
   ]
  },
  {
   "cell_type": "code",
   "execution_count": null,
   "metadata": {
    "dotnet_interactive": {
     "language": "csharp"
    }
   },
   "outputs": [],
   "source": [
    "Tab = Tab.ExtractColumns(\n",
    "    //\"SessionName\", \n",
    "    \"DGdegree:T\", \"Grid:NoOfCells\", \"Grid:hMin\", \"DOFs\", \n",
    "    //\"ExactSolution_provided\", \n",
    "    \"SolL2err\");"
   ]
  },
  {
   "cell_type": "code",
   "execution_count": null,
   "metadata": {
    "dotnet_interactive": {
     "language": "csharp"
    }
   },
   "outputs": [],
   "source": [
    "Tab.Print();"
   ]
  },
  {
   "cell_type": "markdown",
   "metadata": {
    "dotnet_interactive": {
     "language": "csharp"
    }
   },
   "source": [
    "\n",
    "Note: the session table can also be exported, e.g. to Excel or \n",
    "Libre/Open Office Calc, by using the **ToCSVFile** function."
   ]
  },
  {
   "cell_type": "markdown",
   "metadata": {
    "dotnet_interactive": {
     "language": "csharp"
    }
   },
   "source": [
    "The columns of the session table \n",
    "can be easily converted to a plot: the $x$-axis is determined\n",
    "by the cell width, the $y$-axis is determined by the $L^2$ error.\n",
    "Furthermore, we want to *group* our plots according\n",
    "to the DG degree, i.e. have one line for each polynomial degree;"
   ]
  },
  {
   "cell_type": "code",
   "execution_count": null,
   "metadata": {
    "dotnet_interactive": {
     "language": "csharp"
    }
   },
   "outputs": [],
   "source": [
    "var ErrorPlot = Tab.ToPlot(\"Grid:hMin\", \"SolL2err\", // column for x- and y\n",
    "                           \"DGdegree:T\"); // column for group"
   ]
  },
  {
   "cell_type": "markdown",
   "metadata": {},
   "source": [
    "We set logarithmic axes:"
   ]
  },
  {
   "cell_type": "code",
   "execution_count": null,
   "metadata": {
    "dotnet_interactive": {
     "language": "csharp"
    }
   },
   "outputs": [],
   "source": [
    "\n",
    "ErrorPlot.LogX = true;\n",
    "ErrorPlot.LogY = true;"
   ]
  },
  {
   "cell_type": "code",
   "execution_count": null,
   "metadata": {
    "dotnet_interactive": {
     "language": "csharp"
    }
   },
   "outputs": [],
   "source": [
    "ErrorPlot.PlotNow()"
   ]
  },
  {
   "cell_type": "markdown",
   "metadata": {},
   "source": [
    "Of course, we can adjust the plot styles:"
   ]
  },
  {
   "cell_type": "code",
   "execution_count": null,
   "metadata": {
    "dotnet_interactive": {
     "language": "csharp"
    }
   },
   "outputs": [],
   "source": [
    "ErrorPlot.dataGroups[0].Format.PointType = PointTypes.Diamond;\n",
    "ErrorPlot.dataGroups[1].Format.PointType = PointTypes.Box;\n",
    "ErrorPlot.dataGroups[2].Format.PointType = PointTypes.LowerTriangle;\n",
    "ErrorPlot.dataGroups[3].Format.PointType = PointTypes.Asterisk;"
   ]
  },
  {
   "cell_type": "code",
   "execution_count": null,
   "metadata": {
    "dotnet_interactive": {
     "language": "csharp"
    }
   },
   "outputs": [],
   "source": [
    "foreach(var grp in ErrorPlot.dataGroups) {\n",
    "    grp.Format.PointSize = 0.8;\n",
    "    grp.Format.DashType  = DashTypes.Dotted;\n",
    "    grp.Format.LineWidth = 2;\n",
    "}"
   ]
  },
  {
   "cell_type": "code",
   "execution_count": null,
   "metadata": {
    "dotnet_interactive": {
     "language": "csharp"
    }
   },
   "outputs": [],
   "source": [
    "ErrorPlot.PlotNow()"
   ]
  },
  {
   "cell_type": "markdown",
   "metadata": {},
   "source": [
    "And we can compute the convergence order:"
   ]
  },
  {
   "cell_type": "code",
   "execution_count": null,
   "metadata": {
    "dotnet_interactive": {
     "language": "csharp"
    }
   },
   "outputs": [],
   "source": [
    "ErrorPlot.Regression()"
   ]
  },
  {
   "cell_type": "code",
   "execution_count": null,
   "metadata": {
    "dotnet_interactive": {
     "language": "csharp"
    }
   },
   "outputs": [],
   "source": [
    "/// BoSSScmdSilent\n",
    "var reg1     = ErrorPlot.Regression();\n",
    "double conv1 = reg1.Single(kv => kv.Key.Contains(\"T1\")).Value;\n",
    "double conv2 = reg1.Single(kv => kv.Key.Contains(\"T2\")).Value;\n",
    "double conv3 = reg1.Single(kv => kv.Key.Contains(\"T3\")).Value;\n",
    "double conv4 = reg1.Single(kv => kv.Key.Contains(\"T4\")).Value;\n",
    "Assert.IsTrue(Math.Abs(conv1 - (+2)) < 0.7, \"experimental convergence failed on k = 1\");\n",
    "Assert.IsTrue(Math.Abs(conv2 - (+3)) < 0.7, \"experimental convergence failed on k = 2\");\n",
    "Assert.IsTrue(Math.Abs(conv3 - (+4)) < 0.7, \"experimental convergence failed on k = 3\");\n",
    "Assert.IsTrue(Math.Abs(conv4 - (+5)) < 0.7, \"experimental convergence failed on k = 4\");"
   ]
  },
  {
   "cell_type": "markdown",
   "metadata": {
    "dotnet_interactive": {
     "language": "csharp"
    }
   },
   "source": [
    "\n",
    "Note: these plots can also be exported to LaTeX, in a quality \n",
    "that is suitable for print publication:\n",
    "```csharp\n",
    "ErrorPlot.ToGnuplot().PlotCairolatex().SaveTo(\"C:\\\\tmp\\\\errplt.tex\");"
   ]
  },
  {
   "cell_type": "code",
   "execution_count": null,
   "metadata": {
    "dotnet_interactive": {
     "language": "csharp"
    }
   },
   "outputs": [],
   "source": []
  },
  {
   "cell_type": "markdown",
   "metadata": {
    "dotnet_interactive": {
     "language": "csharp"
    }
   },
   "source": [
    "## experimental convergence plot\n",
    "\n",
    "If the exact solution is not known, one can only estimate the convergence\n",
    "behavior experimentally. \n",
    "**BoSSS** provides some utility for this, the **DGFieldComparison**\n",
    "class, which has a versatile, yet complex interface.\n",
    "\n",
    "However, there is a simple interface in the workflow management toolbox.\n",
    "\n",
    "We can augment the current session table with experimental errors:"
   ]
  },
  {
   "cell_type": "code",
   "execution_count": null,
   "metadata": {
    "dotnet_interactive": {
     "language": "csharp"
    }
   },
   "outputs": [],
   "source": [
    "\n",
    "BoSSSshell.WorkflowMgm.hConvergence.Update();"
   ]
  },
  {
   "cell_type": "code",
   "execution_count": null,
   "metadata": {
    "dotnet_interactive": {
     "language": "csharp"
    }
   },
   "outputs": [],
   "source": [
    "var Tab = BoSSSshell.WorkflowMgm.SessionTable;"
   ]
  },
  {
   "cell_type": "markdown",
   "metadata": {},
   "source": [
    "We observe, that columns have been added to the session table, \n",
    "starting with a prefix **L2Error\\_**"
   ]
  },
  {
   "cell_type": "code",
   "execution_count": null,
   "metadata": {
    "dotnet_interactive": {
     "language": "csharp"
    }
   },
   "outputs": [],
   "source": [
    "\n",
    "Tab.GetColumnNames().Skip(46)"
   ]
  },
  {
   "cell_type": "code",
   "execution_count": null,
   "metadata": {
    "dotnet_interactive": {
     "language": "csharp"
    }
   },
   "outputs": [],
   "source": [
    "Tab = Tab.ExtractColumns(\n",
    "    \"DGdegree:T\", \"Grid:NoOfCells\",\n",
    "    \"SolL2err\", \"L2Error_T\");"
   ]
  },
  {
   "cell_type": "markdown",
   "metadata": {},
   "source": [
    "We observe that the \\emph{experimental} $L^2$ error is approximately\n",
    "equal to the $L^2$ error against the exact solution, \n",
    "except for the highest resolutions. There, the error of the numerical \n",
    "solution is computed against itself, and thus the error is zero up \n",
    "to round-off errors.\n",
    "\n",
    "If we would like to extract convergence plots from this table, we need to\n",
    "exclude the rows with the finest solution using e.g. the \n",
    "**TableExtensions.ExtractRows** method."
   ]
  },
  {
   "cell_type": "code",
   "execution_count": null,
   "metadata": {
    "dotnet_interactive": {
     "language": "csharp"
    }
   },
   "outputs": [],
   "source": [
    "\n",
    "Tab.Print();"
   ]
  },
  {
   "cell_type": "markdown",
   "metadata": {},
   "source": [
    "Rows could be extracted form a table using a selector function:\n",
    "this is an expression, which is true for all rows that we want to extract;"
   ]
  },
  {
   "cell_type": "code",
   "execution_count": null,
   "metadata": {
    "dotnet_interactive": {
     "language": "csharp"
    }
   },
   "outputs": [],
   "source": [
    "\n",
    "Tab = Tab.ExtractRows(\n",
    "  (iRow, RowEntries) => Convert.ToInt32(RowEntries[\"Grid:NoOfCells\"]) != 1024);"
   ]
  },
  {
   "cell_type": "code",
   "execution_count": null,
   "metadata": {
    "dotnet_interactive": {
     "language": "csharp"
    }
   },
   "outputs": [],
   "source": [
    "Tab.Print();"
   ]
  },
  {
   "cell_type": "markdown",
   "metadata": {
    "dotnet_interactive": {
     "language": "csharp"
    }
   },
   "source": [
    "## Working without the session table\n",
    "\n",
    "As an alternative to working with the session table, which is sometimes\n",
    "not versatile enough, we demonstrate a way to extract data \n",
    "from the sessions in the current project directly.\n",
    "\n",
    "Create a list in which we store a separate plot for each polynomial degree:"
   ]
  },
  {
   "cell_type": "code",
   "execution_count": null,
   "metadata": {
    "dotnet_interactive": {
     "language": "csharp"
    }
   },
   "outputs": [],
   "source": [
    "var ExpPlotS = new List<Plot2Ddata>();\n",
    " \n",
    "foreach(int pDeg in Degrees) { // loop over polynomial degrees\n",
    "    // extract sessions with DG degree pDeg\n",
    "    var pDegSessions = BoSSSshell.WorkflowMgm.Sessions.Where(\n",
    "              // function which is true on all sessions we are interested in:\n",
    "              Si => Convert.ToInt32(Si.KeysAndQueries[\"DGdegree:T\"]) == pDeg\n",
    "        ).ToArray();\n",
    " \n",
    "    // now, create a plot from the selected sessions:\n",
    "    // (we could also do other things)\n",
    "    Plot2Ddata pDegPlot = \n",
    "        pDegSessions.ToEstimatedGridConvergenceData(\"T\", \n",
    "             xAxis_Is_hOrDof:false, // false selects DOFs for x-axis\n",
    "             normType:NormType.H1_approximate); // use the H1-Sobolev norm \n",
    " \n",
    "    // remember the freshly created plot object in a list:\n",
    "    ExpPlotS.Add(pDegPlot);\n",
    "}"
   ]
  },
  {
   "cell_type": "markdown",
   "metadata": {},
   "source": [
    "We adjust some plot style settings:"
   ]
  },
  {
   "cell_type": "code",
   "execution_count": null,
   "metadata": {
    "dotnet_interactive": {
     "language": "csharp"
    }
   },
   "outputs": [],
   "source": [
    "ExpPlotS[0].dataGroups[0].Format.PointType = PointTypes.Diamond;\n",
    "ExpPlotS[1].dataGroups[0].Format.PointType = PointTypes.Box;\n",
    "ExpPlotS[2].dataGroups[0].Format.PointType = PointTypes.LowerTriangle;\n",
    "ExpPlotS[3].dataGroups[0].Format.PointType = PointTypes.Asterisk;\n",
    "ExpPlotS[0].dataGroups[0].Name = \"k = 1\";\n",
    "ExpPlotS[1].dataGroups[0].Name = \"k = 2\";\n",
    "ExpPlotS[2].dataGroups[0].Name = \"k = 3\";\n",
    "ExpPlotS[3].dataGroups[0].Name = \"k = 4\";\n",
    "foreach(var p in ExpPlotS) {\n",
    "    p.dataGroups[0].Format.PointSize = 0.8;\n",
    "    p.dataGroups[0].Format.DashType = DashTypes.Dotted;\n",
    "    p.dataGroups[0].Format.LineWidth = 2;\n",
    "}"
   ]
  },
  {
   "cell_type": "markdown",
   "metadata": {},
   "source": [
    "and we can merge all four plot objects into a singe one:"
   ]
  },
  {
   "cell_type": "code",
   "execution_count": null,
   "metadata": {
    "dotnet_interactive": {
     "language": "csharp"
    }
   },
   "outputs": [],
   "source": [
    "var ExpPlot = ExpPlotS[0]; //           select 0-th object\n",
    "foreach(var p in ExpPlotS.Skip(1)) { // loop over other (skip 0-th entry)\n",
    "    ExpPlot = ExpPlot.Merge(p); //      merge \n",
    "}"
   ]
  },
  {
   "cell_type": "code",
   "execution_count": null,
   "metadata": {
    "dotnet_interactive": {
     "language": "csharp"
    }
   },
   "outputs": [],
   "source": [
    "ExpPlot.PlotNow()"
   ]
  },
  {
   "cell_type": "markdown",
   "metadata": {},
   "source": [
    "and we can also verify the slope of the error curves. \n",
    "Note that convergence order by using the $H^1$ norm is one degree lower \n",
    "compared to the $L^2$ norm.."
   ]
  },
  {
   "cell_type": "code",
   "execution_count": null,
   "metadata": {
    "dotnet_interactive": {
     "language": "csharp"
    }
   },
   "outputs": [],
   "source": [
    "\n",
    "ExpPlot.Regression()"
   ]
  },
  {
   "cell_type": "code",
   "execution_count": null,
   "metadata": {
    "dotnet_interactive": {
     "language": "csharp"
    }
   },
   "outputs": [],
   "source": [
    "/// BoSSScmdSilent\n",
    "var regExp   = ExpPlot.Regression();\n",
    "double conv1 = regExp.Single(kv => kv.Key.Contains(\"1\")).Value;\n",
    "double conv2 = regExp.Single(kv => kv.Key.Contains(\"2\")).Value;\n",
    "double conv3 = regExp.Single(kv => kv.Key.Contains(\"3\")).Value;\n",
    "double conv4 = regExp.Single(kv => kv.Key.Contains(\"4\")).Value;\n",
    "Assert.IsTrue(Math.Abs(conv1 - (-1)) < 0.7, \"experimental convergence failed on k = 1\");\n",
    "Assert.IsTrue(Math.Abs(conv2 - (-2)) < 0.7, \"experimental convergence failed on k = 2\");\n",
    "Assert.IsTrue(Math.Abs(conv3 - (-3)) < 0.7, \"experimental convergence failed on k = 3\");\n",
    "Assert.IsTrue(Math.Abs(conv4 - (-4)) < 0.7, \"experimental convergence failed on k = 4\");"
   ]
  },
  {
   "cell_type": "markdown",
   "metadata": {
    "dotnet_interactive": {
     "language": "csharp"
    }
   },
   "source": [
    "## Multiplot demonstration\n",
    "\n",
    "If we have more than one plot object, we can arrange them in an array \n",
    "to realize multi-plots:"
   ]
  },
  {
   "cell_type": "code",
   "execution_count": null,
   "metadata": {
    "dotnet_interactive": {
     "language": "csharp"
    }
   },
   "outputs": [],
   "source": [
    "var multiplot = new Plot2Ddata[2,2];"
   ]
  },
  {
   "cell_type": "code",
   "execution_count": null,
   "metadata": {
    "dotnet_interactive": {
     "language": "csharp"
    }
   },
   "outputs": [],
   "source": [
    "multiplot[0,0] = ExpPlotS[0];\n",
    "multiplot[0,1] = ExpPlotS[1];\n",
    "multiplot[1,0] = ExpPlotS[2];\n",
    "multiplot[1,1] = ExpPlotS[3];"
   ]
  },
  {
   "cell_type": "markdown",
   "metadata": {
    "dotnet_interactive": {
     "language": "csharp"
    }
   },
   "source": [
    "Now, we can draw an array of plots:"
   ]
  },
  {
   "cell_type": "code",
   "execution_count": null,
   "metadata": {
    "dotnet_interactive": {
     "language": "csharp"
    }
   },
   "outputs": [],
   "source": [
    "multiplot.PlotNow()"
   ]
  },
  {
   "cell_type": "markdown",
   "metadata": {},
   "source": [
    "this already looks neat, but a few \n",
    "formatting tweaks to make the multi-plot look nicer:"
   ]
  },
  {
   "cell_type": "code",
   "execution_count": null,
   "metadata": {
    "dotnet_interactive": {
     "language": "csharp"
    }
   },
   "outputs": [],
   "source": [
    "\n",
    "multiplot[0,1].dataGroups[0].UseY2 = true; // label right on right column\n",
    "multiplot[0,1].ShowYtics = false;\n",
    "multiplot[0,1].ShowY2tics = true;\n",
    " \n",
    "multiplot[1,1].dataGroups[0].UseY2 = true; // label right on right column\n",
    "multiplot[1,1].ShowYtics = false;\n",
    "multiplot[1,1].ShowY2tics = true;\n",
    " \n",
    "multiplot[0,0].dataGroups[0].UseX2 = true; // label on top on top row\n",
    "multiplot[0,0].ShowXtics = false;\n",
    "multiplot[0,0].ShowX2tics = true;\n",
    " \n",
    "multiplot[0,1].dataGroups[0].UseX2 = true; // label on top on top row\n",
    "multiplot[0,1].ShowXtics = false;\n",
    "multiplot[0,1].ShowX2tics = true;\n",
    " \n",
    "// turn logarithm on for the secondary axis; \n",
    "multiplot[0,0].LogX2 = true;\n",
    "multiplot[0,1].LogX2 = true;\n",
    "multiplot[1,0].LogX2 = true;\n",
    "multiplot[1,1].LogX2 = true;\n",
    "multiplot[0,0].LogY2 = true;\n",
    "multiplot[0,1].LogY2 = true;\n",
    "multiplot[1,0].LogY2 = true;\n",
    "multiplot[1,1].LogY2 = true;\n",
    " \n",
    "// set x ranges\n",
    "multiplot[0,0].X2rangeMin = 1e0;\n",
    "multiplot[0,0].X2rangeMax = 1e2;\n",
    "multiplot[0,1].X2rangeMin = 1e0;\n",
    "multiplot[0,1].X2rangeMax = 1e2;\n",
    " \n",
    "multiplot[1,0].XrangeMin = 1e0;\n",
    "multiplot[1,0].XrangeMax = 1e2;\n",
    "multiplot[1,1].XrangeMin = 1e0;\n",
    "multiplot[1,1].XrangeMax = 1e2;\n",
    " \n",
    "// set y ranges\n",
    "multiplot[0,0].YrangeMin = 1e-7;\n",
    "multiplot[0,0].YrangeMax = 1e0;\n",
    "multiplot[1,0].YrangeMin = 1e-7;\n",
    "multiplot[1,0].YrangeMax = 1e0;\n",
    " \n",
    "multiplot[0,1].Y2rangeMin = 1e-7;\n",
    "multiplot[0,1].Y2rangeMax = 1e0;\n",
    "multiplot[1,1].Y2rangeMin = 1e-7;\n",
    "multiplot[1,1].Y2rangeMax = 1e0;\n",
    " \n",
    "// reduce the whitespace in between the plots:\n",
    "multiplot[0,0].rmargin = 2;\n",
    "multiplot[0,1].lmargin = 2;\n",
    "multiplot[1,0].rmargin = 2;\n",
    "multiplot[1,1].lmargin = 2;\n",
    "multiplot[0,0].bmargin = 0.5;\n",
    "multiplot[1,0].tmargin = 0.5;\n",
    "multiplot[0,1].bmargin = 0.5;\n",
    "multiplot[1,1].tmargin = 0.5;"
   ]
  },
  {
   "cell_type": "code",
   "execution_count": null,
   "metadata": {
    "dotnet_interactive": {
     "language": "csharp"
    }
   },
   "outputs": [],
   "source": [
    "multiplot.PlotNow()"
   ]
  },
  {
   "cell_type": "markdown",
   "metadata": {
    "dotnet_interactive": {
     "language": "csharp"
    }
   },
   "source": [
    "## Summary\n",
    "\n",
    "This tutorial showed how to set-up a parameter study,\n",
    "by looping over a set of parameters (in this case, different grids\n",
    "and polynomial degrees), see sections about MeshCreation\n",
    "and about Setup-And-Execution.\n",
    "Finally, it only requires a simple loop to send all jobs to a \n",
    "compute resource.\n",
    "\n",
    "Afterwards, c.f. section about ExactConvergence,\n",
    "the **session table** was used to combine measurements\n",
    "taken in each session (here, the $L^2$ error against the exact solution)\n",
    "into a single table.\n",
    "This table can either be exported to spreadsheet analysis software\n",
    "or visualized internally."
   ]
  },
  {
   "cell_type": "code",
   "execution_count": null,
   "metadata": {
    "dotnet_interactive": {
     "language": "csharp"
    }
   },
   "outputs": [],
   "source": []
  }
 ],
 "metadata": {
  "kernelspec": {
   "display_name": ".NET (C#)",
   "language": "C#",
   "name": ".net-csharp"
  },
  "language_info": {
   "file_extension": ".cs",
   "mimetype": "text/x-csharp",
   "name": "C#",
   "pygments_lexer": "csharp",
   "version": "11.0"
  }
 },
 "nbformat": 4,
 "nbformat_minor": 4
}

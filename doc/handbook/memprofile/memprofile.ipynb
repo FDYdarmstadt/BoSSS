{
 "cells": [
  {
   "cell_type": "markdown",
   "id": "b7a261fa",
   "metadata": {},
   "source": [
    "# Memory profiling of MPI-parallel runs\n",
    "\n",
    "## Initialization\n",
    "\n",
    "In order to execute the individual solver runs,\n",
    "we are going to employ the mini batch processor,\n",
    "for running the calculations on the local machine.\n",
    "We also have to initialize the workflow management system and create \n",
    "a database.\n",
    "\n",
    "Note: \n",
    "1. This tutorial can be found in the source code repository as as `convStudy.ipynb`. \n",
    "   One can directly load this into Jupyter to interactively work with the following code examples.\n",
    "2. **In the following line, the reference to `BoSSSpad.dll` is required**. \n",
    "   You must either set `#r \"BoSSSpad.dll\"` to something which is appropirate for your computer\n",
    "   (e.g. `C:\\Program Files (x86)\\FDY\\BoSSS\\bin\\Release\\net5.0\\BoSSSpad.dll` if you installed the binary distribution),\n",
    "   or, if you are working with the source code, you must compile `BoSSSpad` and put it side-by-side to this worksheet file\n",
    "   (from the original location in the repository, you can use the scripts `getbossspad.sh`, resp. `getbossspad.bat`)."
   ]
  },
  {
   "cell_type": "code",
   "execution_count": null,
   "id": "a0febb25",
   "metadata": {},
   "outputs": [],
   "source": [
    "#r \"BoSSSpad.dll\"\n",
    "//#r \"C:\\Users\\kummer\\Documents\\BoSSS-kdev2\\public\\src\\L4-application\\BoSSSpad\\bin\\Debug\\net6.0\\BoSSSpad.dll\"\n",
    "using static BoSSS.Application.BoSSSpad.BoSSSshell;\n",
    "Init();"
   ]
  },
  {
   "cell_type": "code",
   "execution_count": null,
   "id": "0fc8e1c9",
   "metadata": {},
   "outputs": [],
   "source": [
    "using System;\n",
    "using System.Collections.Generic;\n",
    "using System.Linq;\n",
    "using ilPSP;\n",
    "using ilPSP.Utils;\n",
    "using BoSSS.Platform;\n",
    "using BoSSS.Platform.Utils.Geom;\n",
    "using BoSSS.Foundation;\n",
    "using BoSSS.Foundation.Grid;\n",
    "using BoSSS.Foundation.Grid.Classic;\n",
    "using BoSSS.Foundation.IO;\n",
    "using BoSSS.Solution;\n",
    "using BoSSS.Solution.Control;\n",
    "using BoSSS.Solution.GridImport;\n",
    "using BoSSS.Solution.Statistic;\n",
    "using BoSSS.Solution.Utils;\n",
    "using BoSSS.Solution.Gnuplot;\n",
    "using BoSSS.Application.BoSSSpad;\n",
    "using BoSSS.Application.XNSE_Solver;\n",
    "using BoSSS.Application.GridGen;"
   ]
  },
  {
   "cell_type": "code",
   "execution_count": null,
   "id": "58f683fe",
   "metadata": {},
   "outputs": [],
   "source": [
    "BoSSSshell.WorkflowMgm.Init(\"memprofile\");\n",
    "wmg.SetNameBasedSessionJobControlCorrelation();"
   ]
  },
  {
   "cell_type": "code",
   "execution_count": null,
   "id": "4e40f7ed",
   "metadata": {},
   "outputs": [],
   "source": [
    "GetDefaultQueue()"
   ]
  },
  {
   "cell_type": "markdown",
   "id": "7b850ef9",
   "metadata": {},
   "source": [
    "## Memory instrumetation of grid generation\n",
    "\n",
    "### Peform runs"
   ]
  },
  {
   "cell_type": "code",
   "execution_count": null,
   "id": "959952e0",
   "metadata": {},
   "outputs": [],
   "source": [
    "int[] Resolutions_3D = new int[] { 256 };\n",
    "int[] NoOfProcs = new int[] { 16, 32, 64 };\n",
    "var ggcS = new List<(GridGenControl C, int MPIsize)>();\n",
    "\n",
    "foreach(int MPIzs in NoOfProcs) {\n",
    "for(int cnt = 0; cnt < Resolutions_3D.Length; cnt++) {\n",
    "    int Res = Resolutions_3D[cnt];    \n",
    "    \n",
    "    double[] _xNodes = GenericBlas.Linspace(-1, +1, Res + 1);\n",
    "    double[] _yNodes = GenericBlas.Linspace(-1, +1, Res + 1);\n",
    "    double[] _zNodes = GenericBlas.Linspace(-1, +1, Res + 1);\n",
    "    int J = (_xNodes.Length - 1)*(_yNodes.Length - 1)*(_zNodes.Length - 1);\n",
    "    \n",
    "    string GridName = string.Format(wmg.CurrentProject + \"-MeshInit_J\" + J + \"_Sz\" + MPIzs);\n",
    "    \n",
    "    {\n",
    "        //int NoOfProcs = (int) Math.Min(182, Math.Max(1, Math.Ceiling(J/200000.0)));\n",
    "        Console.WriteLine(\"Must create: \" + GridName + \" with \" + MPIzs + \" processors.\");\n",
    "        \n",
    "        var C = new GridGenControl();\n",
    "        ggcS.Add((C, MPIzs));\n",
    "        C.SetDatabase(wmg.DefaultDatabase);\n",
    "        \n",
    "        C.GridName = GridName;\n",
    "        \n",
    "        // ***********************************************************\n",
    "        C.MemoryInstrumentationLevel = ilPSP.Tracing.MemoryInstrumentationLevel.GcAndPrivateMemory;\n",
    "        // ***********************************************************\n",
    "\n",
    "        C.GridBlocks = new GridGenControl.MeshBlock[] {\n",
    "            new GridGenControl.Cartesian3D() {\n",
    "                xNodes = _xNodes,\n",
    "                yNodes = _yNodes,\n",
    "                zNodes = _zNodes\n",
    "            }\n",
    "        };\n",
    "\n",
    "        C.BoundaryRegions.Add((\n",
    "            new BoundingBox(new double[] { -1-1e-8, -2, -2 }, new double[] { -1+1e-8, +2, +2 }), \n",
    "            \"wall_left\"));\n",
    "        C.BoundaryRegions.Add((\n",
    "            new BoundingBox(new double[] { +1-1e-8, -2, -2 }, new double[] { +1+1e-8, +2, +2 }), \n",
    "            \"wall_right\"));\n",
    "        C.BoundaryRegions.Add((\n",
    "            new BoundingBox(new double[] { -2, -1-1e-8, -2 }, new double[] { +2, -1+1e-8, +2 }), \n",
    "            \"wall_front\"));\n",
    "        C.BoundaryRegions.Add((\n",
    "            new BoundingBox(new double[] { -2, +1-1e-8, -2 }, new double[] { +2, +1+1e-8, +2 }), \n",
    "            \"wall_back\"));\n",
    "        C.BoundaryRegions.Add((\n",
    "            new BoundingBox(new double[] { -2, -2, -1-1e-8 }, new double[] { +2, +2, -1+1e-8 }), \n",
    "            \"wall_top\"));\n",
    "        C.BoundaryRegions.Add((\n",
    "            new BoundingBox(new double[] { -2, -2, +1-1e-8 }, new double[] { +2, +2, +1+1e-8 }), \n",
    "            \"wall_bottom\"));\n",
    "        \n",
    "        \n",
    "        C.SessionName = \"GridCreation-\" + GridName;\n",
    "    } \n",
    "}\n",
    "}"
   ]
  },
  {
   "cell_type": "code",
   "execution_count": null,
   "id": "ab2b2015",
   "metadata": {},
   "outputs": [],
   "source": [
    "ggcS"
   ]
  },
  {
   "cell_type": "code",
   "execution_count": null,
   "id": "7a15708d",
   "metadata": {},
   "outputs": [],
   "source": [
    "foreach(var tt in ggcS) {\n",
    "    Console.WriteLine(\" Submitting: \" + tt.C.SessionName); \n",
    "    var j = tt.C.CreateJob();\n",
    "    j.RetryCount = 1;\n",
    "    j.NumberOfMPIProcs = tt.MPIsize;\n",
    "    j.Activate();\n",
    "}"
   ]
  },
  {
   "cell_type": "code",
   "execution_count": null,
   "id": "cac93f50",
   "metadata": {},
   "outputs": [],
   "source": [
    "wmg.BlockUntilAllJobsTerminate(7200); // wait at maximum two hours\n",
    "wmg.AllJobs"
   ]
  },
  {
   "cell_type": "markdown",
   "id": "5af0fbb2",
   "metadata": {},
   "source": [
    "Asserting success:"
   ]
  },
  {
   "cell_type": "code",
   "execution_count": null,
   "id": "f49c920a",
   "metadata": {},
   "outputs": [],
   "source": [
    "var NoSuccess = wmg.AllJobs.Values.Where(job => job.Status != JobStatus.FinishedSuccessful).ToArray();\n",
    "NUnit.Framework.Assert.Zero(NoSuccess.Count(), \"Some Jobs Failed\");"
   ]
  },
  {
   "cell_type": "markdown",
   "id": "a1d6d728",
   "metadata": {},
   "source": [
    "### Analysis and plot"
   ]
  },
  {
   "cell_type": "code",
   "execution_count": null,
   "id": "1f4a6925",
   "metadata": {},
   "outputs": [],
   "source": [
    "var plot = wmg.Sessions.GetMPItotalMemory();"
   ]
  },
  {
   "cell_type": "markdown",
   "id": "5e8ae482",
   "metadata": {},
   "source": [
    "We are going to observe that the memory scaling is far from perfect at this point;"
   ]
  },
  {
   "cell_type": "code",
   "execution_count": null,
   "id": "37183a81",
   "metadata": {},
   "outputs": [],
   "source": [
    "plot.PlotNow()"
   ]
  },
  {
   "cell_type": "markdown",
   "id": "0a3ccf1f",
   "metadata": {},
   "source": [
    "Maximum of each trace:"
   ]
  },
  {
   "cell_type": "code",
   "execution_count": null,
   "id": "6235ad56",
   "metadata": {},
   "outputs": [],
   "source": [
    "var Maxima = plot.dataGroups.Select(grp => (grp.Name, grp.Values.Max()));\n",
    "Maxima"
   ]
  },
  {
   "cell_type": "code",
   "execution_count": null,
   "id": "9e97acd2",
   "metadata": {},
   "outputs": [],
   "source": [
    "NUnit.Framework.Assert.Less(Maxima.ElementAt(0).Item2, 100000.0);\n",
    "NUnit.Framework.Assert.Less(Maxima.ElementAt(1).Item2, 100000.0);\n",
    "NUnit.Framework.Assert.Less(Maxima.ElementAt(2).Item2, 200000.0);"
   ]
  },
  {
   "cell_type": "markdown",
   "id": "cfae0232",
   "metadata": {},
   "source": [
    "#### Reporting of largest Allocators"
   ]
  },
  {
   "cell_type": "code",
   "execution_count": null,
   "id": "4225ce21",
   "metadata": {},
   "outputs": [],
   "source": [
    "wmg.Sessions"
   ]
  },
  {
   "cell_type": "code",
   "execution_count": null,
   "id": "96f8eacc",
   "metadata": {},
   "outputs": [],
   "source": [
    "wmg.Sessions.Single(sess => sess.Name.EndsWith(\"Sz16\")).ReportLargestAllocators().Take(5)"
   ]
  },
  {
   "cell_type": "code",
   "execution_count": null,
   "id": "4b41d128",
   "metadata": {},
   "outputs": [],
   "source": [
    "wmg.Sessions.Single(sess => sess.Name.EndsWith(\"Sz32\")).ReportLargestAllocators().Take(5)"
   ]
  },
  {
   "cell_type": "code",
   "execution_count": null,
   "id": "31011333",
   "metadata": {},
   "outputs": [],
   "source": [
    "wmg.Sessions.Single(sess => sess.Name.EndsWith(\"Sz64\")).ReportLargestAllocators().Take(5)"
   ]
  },
  {
   "cell_type": "markdown",
   "id": "328fd31d",
   "metadata": {},
   "source": [
    "#### Reporting of difference/imbalance in between different Runs:"
   ]
  },
  {
   "cell_type": "code",
   "execution_count": null,
   "id": "9ad361fd",
   "metadata": {},
   "outputs": [],
   "source": [
    "wmg.Sessions.ReportLargestAllocatorImbalance().Take(5)"
   ]
  },
  {
   "cell_type": "code",
   "execution_count": null,
   "id": "821805f2",
   "metadata": {},
   "outputs": [],
   "source": []
  }
 ],
 "metadata": {
  "kernelspec": {
   "display_name": ".NET (C#)",
   "language": "C#",
   "name": ".net-csharp"
  },
  "language_info": {
   "file_extension": ".cs",
   "mimetype": "text/x-csharp",
   "name": "C#",
   "pygments_lexer": "csharp",
   "version": "11.0"
  }
 },
 "nbformat": 4,
 "nbformat_minor": 5
}

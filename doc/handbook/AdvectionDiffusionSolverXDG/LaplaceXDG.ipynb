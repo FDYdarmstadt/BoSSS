{
 "cells": [
  {
   "cell_type": "code",
   "execution_count": 11,
   "metadata": {
    "dotnet_interactive": {
     "language": "csharp"
    },
    "vscode": {
     "languageId": "polyglot-notebook"
    }
   },
   "outputs": [
    {
     "ename": "Error",
     "evalue": "System.ApplicationException: Already called.\r\n   at BoSSS.Application.BoSSSpad.BoSSSshell.InitTraceFile() in C:\\experimental\\public\\src\\L4-application\\BoSSSpad\\BoSSSshell.cs:line 204\r\n   at BoSSS.Application.BoSSSpad.BoSSSshell.Init() in C:\\experimental\\public\\src\\L4-application\\BoSSSpad\\BoSSSshell.cs:line 97\r\n   at Submission#12.<<Initialize>>d__0.MoveNext()\r\n--- End of stack trace from previous location ---\r\n   at Microsoft.CodeAnalysis.Scripting.ScriptExecutionState.RunSubmissionsAsync[TResult](ImmutableArray`1 precedingExecutors, Func`2 currentExecutor, StrongBox`1 exceptionHolderOpt, Func`2 catchExceptionOpt, CancellationToken cancellationToken)",
     "output_type": "error",
     "traceback": [
      "System.ApplicationException: Already called.\r\n",
      "   at BoSSS.Application.BoSSSpad.BoSSSshell.InitTraceFile() in C:\\experimental\\public\\src\\L4-application\\BoSSSpad\\BoSSSshell.cs:line 204\r\n",
      "   at BoSSS.Application.BoSSSpad.BoSSSshell.Init() in C:\\experimental\\public\\src\\L4-application\\BoSSSpad\\BoSSSshell.cs:line 97\r\n",
      "   at Submission#12.<<Initialize>>d__0.MoveNext()\r\n",
      "--- End of stack trace from previous location ---\r\n",
      "   at Microsoft.CodeAnalysis.Scripting.ScriptExecutionState.RunSubmissionsAsync[TResult](ImmutableArray`1 precedingExecutors, Func`2 currentExecutor, StrongBox`1 exceptionHolderOpt, Func`2 catchExceptionOpt, CancellationToken cancellationToken)"
     ]
    }
   ],
   "source": [
    "#r \".\\binaries\\\\BoSSSpad.dll\"\n",
    "using System;\n",
    "using System.Collections.Generic;\n",
    "using System.Linq;\n",
    "using ilPSP;\n",
    "using ilPSP.Utils;\n",
    "using BoSSS.Platform;\n",
    "using BoSSS.Platform.LinAlg;\n",
    "using BoSSS.Foundation;\n",
    "using BoSSS.Foundation.XDG;\n",
    "using BoSSS.Foundation.Grid;\n",
    "using BoSSS.Foundation.Grid.Classic;\n",
    "using BoSSS.Foundation.Grid.RefElements;\n",
    "using BoSSS.Foundation.IO;\n",
    "using BoSSS.Solution;\n",
    "using BoSSS.Solution.Control;\n",
    "using BoSSS.Solution.GridImport;\n",
    "using BoSSS.Solution.Statistic;\n",
    "using BoSSS.Solution.Utils;\n",
    "using BoSSS.Solution.AdvancedSolvers;\n",
    "using BoSSS.Solution.Gnuplot;\n",
    "using BoSSS.Application.BoSSSpad;\n",
    "using BoSSS.Application.XNSE_Solver;\n",
    "using BoSSS.Application.XNSFE_Solver;\n",
    "using static BoSSS.Application.BoSSSpad.BoSSSshell;\n",
    "Init();"
   ]
  },
  {
   "cell_type": "markdown",
   "metadata": {},
   "source": [
    "## Creation of Differential Operator\n"
   ]
  },
  {
   "cell_type": "markdown",
   "metadata": {},
   "source": [
    "Velocity field and Exact solution for Dirichlet Boundary"
   ]
  },
  {
   "cell_type": "markdown",
   "metadata": {},
   "source": [
    "Regarding the spatial part of the operator, we re-use the SIP-implementation \n",
    "which is already available in the `BoSSS.Solution.NSECommon` library.\n",
    "For this implementation, whe have to specify the diffusion coefficient (here to -0.5)\n",
    "as well as the Location of the Dirichlet boundary."
   ]
  },
  {
   "cell_type": "code",
   "execution_count": 12,
   "metadata": {
    "dotnet_interactive": {
     "language": "csharp"
    },
    "polyglot_notebook": {
     "kernelName": "csharp"
    },
    "vscode": {
     "languageId": "polyglot-notebook"
    }
   },
   "outputs": [],
   "source": [
    "using BoSSS.Foundation.XDG;\n",
    "class Laplace : BoSSS.Solution.NSECommon.SIPLaplace\n",
    "{\n",
    "    \n",
    "    public Laplace(): base(1.4, \"u\"){\n",
    "    }\n",
    "\n",
    "    protected override bool IsDirichlet(ref CommonParamsBnd inp) {\n",
    "        return true;\n",
    "    }\n",
    "    \n",
    "    // diffusion coefficient\n",
    "    override public double Nu(double[] x, double[] p, int jCell) {\n",
    "        return -1.0;\n",
    "    }\n",
    "    override protected double g_Diri(ref CommonParamsBnd inp) { \n",
    "        return 0.0;\n",
    "    }\n",
    "}\n",
    "class XLaplace:Laplace, ISpeciesFilter\n",
    "{\n",
    "    string ValidSpecies;\n",
    "\n",
    "    string ISpeciesFilter.ValidSpecies => this.ValidSpecies;\n",
    "\n",
    "    public XLaplace(string ValidSpecies): base(){\n",
    "        this.ValidSpecies=ValidSpecies;        \n",
    "    } \n",
    "}\n"
   ]
  },
  {
   "cell_type": "code",
   "execution_count": 20,
   "metadata": {
    "dotnet_interactive": {
     "language": "csharp"
    },
    "polyglot_notebook": {
     "kernelName": "csharp"
    },
    "vscode": {
     "languageId": "polyglot-notebook"
    }
   },
   "outputs": [],
   "source": [
    "class InterfaceFlux : ILevelSetForm {\n",
    "    public IEdgeForm baseflux;\n",
    "    public InterfaceFlux(IEdgeForm baseflux) {\n",
    "        this.baseflux = baseflux;\n",
    "    }\n",
    "    public int LevelSetIndex => 0;\n",
    "\n",
    "    public string PositiveSpecies => \"A\";\n",
    "\n",
    "    public string NegativeSpecies => \"B\";\n",
    "\n",
    "    public TermActivationFlags LevelSetTerms => TermActivationFlags.AllOn;\n",
    "\n",
    "    public IList<string> ArgumentOrdering {\n",
    "        get { return new string[] { \"u\" }; }\n",
    "    }\n",
    "\n",
    "    public IList<string> ParameterOrdering => null;\n",
    "\n",
    "    public double InnerEdgeForm(ref CommonParams inp, double[] _uIN, double[] _uOUT, double[,] _Grad_uIN, double[,] _Grad_uOUT, double _vIN, double _vOUT, double[] _Grad_vIN, double[] _Grad_vOUT) {\n",
    "        var uOUT = new double[] { 0 };\n",
    "        return baseflux.InnerEdgeForm(ref inp, _uIN, uOUT, _Grad_uIN, _Grad_uOUT, _vIN, _vOUT, _Grad_vIN, _Grad_vOUT);\n",
    "    }\n",
    "}"
   ]
  },
  {
   "cell_type": "markdown",
   "metadata": {},
   "source": [
    "#### Operator assembly\n",
    "We compose the differential operator from the previously created \n",
    "`Laplace` implementation and add the `ScalarTransportFlux`. "
   ]
  },
  {
   "cell_type": "code",
   "execution_count": 22,
   "metadata": {
    "dotnet_interactive": {
     "language": "csharp"
    },
    "polyglot_notebook": {
     "kernelName": "csharp"
    },
    "vscode": {
     "languageId": "polyglot-notebook"
    }
   },
   "outputs": [],
   "source": [
    "var Op = new XDifferentialOperatorMk2(1, 0, 1, QuadOrderFunc.Linear(),new string[] {\"A\",\"B\"}, \"u\", \"R1\");\n",
    "\n",
    "Op.EquationComponents[\"R1\"].Add(new XLaplace(\"A\")); // adding Laplace\n",
    "Op.EquationComponents[\"R1\"].Add(new InterfaceFlux(new Laplace()));\n",
    "Op.Commit();"
   ]
  },
  {
   "cell_type": "markdown",
   "metadata": {},
   "source": [
    "# <span style=\"color:red\"> test if cell length scales are there </span>"
   ]
  },
  {
   "cell_type": "code",
   "execution_count": 24,
   "metadata": {
    "dotnet_interactive": {
     "language": "csharp"
    },
    "polyglot_notebook": {
     "kernelName": "csharp"
    },
    "vscode": {
     "languageId": "polyglot-notebook"
    }
   },
   "outputs": [
    {
     "ename": "Error",
     "evalue": "System.NullReferenceException: Object reference not set to an instance of an object.\r\n   at BoSSS.Solution.NSECommon.SIPLaplace.GetPenalty(Int32 jCellIn, Int32 jCellOut) in C:\\experimental\\public\\src\\L3-solution\\BoSSS.Solution.NSECommon\\ipLaplace.cs:line 132\r\n   at BoSSS.Solution.NSECommon.SIPLaplace.InnerEdgeForm(CommonParams& inp, Double[] _uA, Double[] _uB, Double[,] _Grad_uA, Double[,] _Grad_uB, Double _vA, Double _vB, Double[] _Grad_vA, Double[] _Grad_vB) in C:\\experimental\\public\\src\\L3-solution\\BoSSS.Solution.NSECommon\\ipLaplace.cs:line 197\r\n   at Submission#21.InterfaceFlux.InnerEdgeForm(CommonParams& inp, Double[] _uIN, Double[] _uOUT, Double[,] _Grad_uIN, Double[,] _Grad_uOUT, Double _vIN, Double _vOUT, Double[] _Grad_vIN, Double[] _Grad_vOUT)\r\n   at BoSSS.Foundation.XDG.LinearLevelSetFormVectorizer.GetCoeff(Double& d1, Double& d2, CommonParams& inp, Double[] uA, Double[] uB, Double[,] Grad_uA, Double[,] Grad_uB, Double& vA, Double& vB, Double[] Grad_vA, Double[] Grad_vB) in C:\\experimental\\public\\src\\L2-foundation\\BoSSS.Foundation.XDG\\LinearLevelSetFormVectorizer.cs:line 68\r\n   at BoSSS.Foundation.XDG.LinearLevelSetFormVectorizer.BoSSS.Foundation.IInnerEdgeform_UxV.InternalEdge_UxV(EdgeFormParams& inp, MultidimensionalArray Koeff_UxV) in C:\\experimental\\public\\src\\L2-foundation\\BoSSS.Foundation.XDG\\LinearLevelSetFormVectorizer.cs:line 194\r\n   at BoSSS.Foundation.XDG.LECQuadratureLevelSet`2.<Evaluate>b__50_0(ILevelSetForm_UxV _comp, Int32 _gamma, Int32 i, EdgeFormParams& inp) in C:\\experimental\\public\\src\\L2-foundation\\BoSSS.Foundation.XDG\\LECQuadratureLevelSet.cs:line 594\r\n   at BoSSS.Foundation.XDG.LECQuadratureLevelSet`2.EvalComponent[T](EdgeFormParams& _inParams, Int32 gamma, EquationComponentArgMapping`1 bf, Stopwatch[] timers, MultidimensionalArray[][] argsPerComp, MultidimensionalArray[,] argsSum, Int32 componentIdx, MultidimensionalArray ParamFieldValuesPos, MultidimensionalArray ParamFieldValuesNeg, Int32 DELTA, Stopwatch timer, CallComponent`1 ComponentFunc) in C:\\experimental\\public\\src\\L2-foundation\\BoSSS.Foundation.XDG\\LECQuadratureLevelSet.cs:line 858\r\n   at BoSSS.Foundation.XDG.LECQuadratureLevelSet`2.Evaluate(Int32 i0, Int32 Len, QuadRule QR, MultidimensionalArray EvalResult) in C:\\experimental\\public\\src\\L2-foundation\\BoSSS.Foundation.XDG\\LECQuadratureLevelSet.cs:line 588\r\n   at BoSSS.Foundation.Quadrature.Quadrature`2.Execute() in C:\\experimental\\public\\src\\L2-foundation\\BoSSS.Foundation\\Quadrature.cs:line 457\r\n   at BoSSS.Foundation.XDG.XDifferentialOperatorMk2.XEvaluatorLinear.ComputeMatrix_Internal[M,V](M Matrix, V AffineOffset, Boolean OnlyAffine, Double alpha) in C:\\experimental\\public\\src\\L2-foundation\\BoSSS.Foundation.XDG\\XSpatialOperatorMk2_XEvaluators.cs:line 308\r\n   at BoSSS.Foundation.XDG.XDifferentialOperatorMk2.XEvaluatorLinear.ComputeMatrix[M,V](M Matrix, V AffineOffset, Double alpha) in C:\\experimental\\public\\src\\L2-foundation\\BoSSS.Foundation.XDG\\XSpatialOperatorMk2_XEvaluators.cs:line 148\r\n   at Submission#25.<<Initialize>>d__0.MoveNext()\r\n--- End of stack trace from previous location ---\r\n   at Microsoft.CodeAnalysis.Scripting.ScriptExecutionState.RunSubmissionsAsync[TResult](ImmutableArray`1 precedingExecutors, Func`2 currentExecutor, StrongBox`1 exceptionHolderOpt, Func`2 catchExceptionOpt, CancellationToken cancellationToken)",
     "output_type": "error",
     "traceback": [
      "System.NullReferenceException: Object reference not set to an instance of an object.\r\n",
      "   at BoSSS.Solution.NSECommon.SIPLaplace.GetPenalty(Int32 jCellIn, Int32 jCellOut) in C:\\experimental\\public\\src\\L3-solution\\BoSSS.Solution.NSECommon\\ipLaplace.cs:line 132\r\n",
      "   at BoSSS.Solution.NSECommon.SIPLaplace.InnerEdgeForm(CommonParams& inp, Double[] _uA, Double[] _uB, Double[,] _Grad_uA, Double[,] _Grad_uB, Double _vA, Double _vB, Double[] _Grad_vA, Double[] _Grad_vB) in C:\\experimental\\public\\src\\L3-solution\\BoSSS.Solution.NSECommon\\ipLaplace.cs:line 197\r\n",
      "   at Submission#21.InterfaceFlux.InnerEdgeForm(CommonParams& inp, Double[] _uIN, Double[] _uOUT, Double[,] _Grad_uIN, Double[,] _Grad_uOUT, Double _vIN, Double _vOUT, Double[] _Grad_vIN, Double[] _Grad_vOUT)\r\n",
      "   at BoSSS.Foundation.XDG.LinearLevelSetFormVectorizer.GetCoeff(Double& d1, Double& d2, CommonParams& inp, Double[] uA, Double[] uB, Double[,] Grad_uA, Double[,] Grad_uB, Double& vA, Double& vB, Double[] Grad_vA, Double[] Grad_vB) in C:\\experimental\\public\\src\\L2-foundation\\BoSSS.Foundation.XDG\\LinearLevelSetFormVectorizer.cs:line 68\r\n",
      "   at BoSSS.Foundation.XDG.LinearLevelSetFormVectorizer.BoSSS.Foundation.IInnerEdgeform_UxV.InternalEdge_UxV(EdgeFormParams& inp, MultidimensionalArray Koeff_UxV) in C:\\experimental\\public\\src\\L2-foundation\\BoSSS.Foundation.XDG\\LinearLevelSetFormVectorizer.cs:line 194\r\n",
      "   at BoSSS.Foundation.XDG.LECQuadratureLevelSet`2.<Evaluate>b__50_0(ILevelSetForm_UxV _comp, Int32 _gamma, Int32 i, EdgeFormParams& inp) in C:\\experimental\\public\\src\\L2-foundation\\BoSSS.Foundation.XDG\\LECQuadratureLevelSet.cs:line 594\r\n",
      "   at BoSSS.Foundation.XDG.LECQuadratureLevelSet`2.EvalComponent[T](EdgeFormParams& _inParams, Int32 gamma, EquationComponentArgMapping`1 bf, Stopwatch[] timers, MultidimensionalArray[][] argsPerComp, MultidimensionalArray[,] argsSum, Int32 componentIdx, MultidimensionalArray ParamFieldValuesPos, MultidimensionalArray ParamFieldValuesNeg, Int32 DELTA, Stopwatch timer, CallComponent`1 ComponentFunc) in C:\\experimental\\public\\src\\L2-foundation\\BoSSS.Foundation.XDG\\LECQuadratureLevelSet.cs:line 858\r\n",
      "   at BoSSS.Foundation.XDG.LECQuadratureLevelSet`2.Evaluate(Int32 i0, Int32 Len, QuadRule QR, MultidimensionalArray EvalResult) in C:\\experimental\\public\\src\\L2-foundation\\BoSSS.Foundation.XDG\\LECQuadratureLevelSet.cs:line 588\r\n",
      "   at BoSSS.Foundation.Quadrature.Quadrature`2.Execute() in C:\\experimental\\public\\src\\L2-foundation\\BoSSS.Foundation\\Quadrature.cs:line 457\r\n",
      "   at BoSSS.Foundation.XDG.XDifferentialOperatorMk2.XEvaluatorLinear.ComputeMatrix_Internal[M,V](M Matrix, V AffineOffset, Boolean OnlyAffine, Double alpha) in C:\\experimental\\public\\src\\L2-foundation\\BoSSS.Foundation.XDG\\XSpatialOperatorMk2_XEvaluators.cs:line 308\r\n",
      "   at BoSSS.Foundation.XDG.XDifferentialOperatorMk2.XEvaluatorLinear.ComputeMatrix[M,V](M Matrix, V AffineOffset, Double alpha) in C:\\experimental\\public\\src\\L2-foundation\\BoSSS.Foundation.XDG\\XSpatialOperatorMk2_XEvaluators.cs:line 148\r\n",
      "   at Submission#25.<<Initialize>>d__0.MoveNext()\r\n",
      "--- End of stack trace from previous location ---\r\n",
      "   at Microsoft.CodeAnalysis.Scripting.ScriptExecutionState.RunSubmissionsAsync[TResult](ImmutableArray`1 precedingExecutors, Func`2 currentExecutor, StrongBox`1 exceptionHolderOpt, Func`2 catchExceptionOpt, CancellationToken cancellationToken)"
     ]
    }
   ],
   "source": [
    "using ilPSP.LinSolvers;\n",
    "var nC = 2;\n",
    "var nodes = GenericBlas.Linspace(0.0, 2.0, nC + 1);\n",
    "var grid = Grid2D.Cartesian2DGrid(nodes, nodes);\n",
    "var levelSet = new LevelSet(new Basis(grid, 2), \"levelSet\");\n",
    "//levelSet.ProjectField((double[] X) => MyGlobals.levelSet(X, 0.0));\n",
    "levelSet.ProjectField((double[] X) => X[0]-0.5);\n",
    "var LsTrk = new LevelSetTracker(grid.GridData, XQuadFactoryHelper.MomentFittingVariants.Saye, 1, new string[] {  \"A\",\"B\" }, levelSet);\n",
    "//LsTrk.UpdateTracker(0.0);\n",
    "var xdgbasis = new XDGBasis(LsTrk, 2);\n",
    "var u = new XDGField(xdgbasis, \"u\");\n",
    "var U = new XDGField[1]; U[0] = u;\n",
    "var coef_prov = Op.OperatorCoefficientsProvider;\n",
    "int trackerHistoryIndex=0;\n",
    "double time=0.0;\n",
    "var result = coef_prov(LsTrk, LsTrk.SpeciesIdS[0], 4, trackerHistoryIndex,  time);\n",
    "var U_map = new CoordinateMapping(U);\n",
    "double[] res = new double[U_map.TotalLength];\n",
    "var mtxBuilder = Op.GetMatrixBuilder(LsTrk, U_map, null, U_map);\n",
    "mtxBuilder.time = 0.0;\n",
    "\n",
    "\n",
    "var Op_Agglomeration = LsTrk.GetAgglomerator(LsTrk.SpeciesIdS.ToArray(), Op.GetOrderFromQuadOrderFunction(U_map.BasisS, null, U_map.BasisS),Op.AgglomerationThreshold);\n",
    "var AgglomeratedCellLengthScales = Op_Agglomeration.CellLengthScales;\n",
    "foreach(var kv in AgglomeratedCellLengthScales) {\n",
    "    mtxBuilder.CellLengthScales[kv.Key] = kv.Value;               \n",
    "}\n",
    "BlockMsrMatrix OpMtx = new BlockMsrMatrix(U_map);\n",
    "//double[] OpAffine=new double[U_map.TotalLength];\n",
    "mtxBuilder.ComputeMatrix(OpMtx, res);\n",
    "res"
   ]
  },
  {
   "cell_type": "code",
   "execution_count": 17,
   "metadata": {
    "dotnet_interactive": {
     "language": "csharp"
    },
    "polyglot_notebook": {
     "kernelName": "csharp"
    },
    "vscode": {
     "languageId": "polyglot-notebook"
    }
   },
   "outputs": [],
   "source": []
  }
 ],
 "metadata": {
  "kernelspec": {
   "display_name": ".NET (C#)",
   "language": "C#",
   "name": ".net-csharp"
  },
  "language_info": {
   "file_extension": ".cs",
   "mimetype": "text/x-csharp",
   "name": "C#",
   "pygments_lexer": "csharp",
   "version": "11.0"
  }
 },
 "nbformat": 4,
 "nbformat_minor": 4
}

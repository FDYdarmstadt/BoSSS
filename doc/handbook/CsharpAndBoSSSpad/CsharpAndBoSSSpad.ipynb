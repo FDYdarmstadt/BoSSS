{
 "cells": [
  {
   "attachments": {},
   "cell_type": "markdown",
   "metadata": {},
   "source": [
    "# C# and Jupyter/BoSSSpad introduction"
   ]
  },
  {
   "attachments": {},
   "cell_type": "markdown",
   "metadata": {},
   "source": [
    "## Whats new?\n",
    "\n",
    "Jupyter Notebook is a scripting environment which, among other languages,\n",
    "also supports C#.\n",
    "BoSSSpad is a C#-library which can be used to access BoSSS through Jupyter.\n",
    "While it is not necessary to be a master-class programmer for the tutorials \n",
    "which come up, it is required to have some basic knowledge about the C#\n",
    "syntax.\n",
    "\n",
    "Here, the following topics are covered:\n",
    "- Declaration of primitive variables\n",
    "- Classes\n",
    "- Control Flow\n",
    "- Functions, Methods and Delegates\n",
    "- Inheritance\n",
    "- The execution model of Jupyter Notebook"
   ]
  },
  {
   "attachments": {},
   "cell_type": "markdown",
   "metadata": {},
   "source": [
    "## Declaration of primitive variables"
   ]
  },
  {
   "attachments": {},
   "cell_type": "markdown",
   "metadata": {},
   "source": [
    "Normally, a program/application written in C\\# consists of one or more \n",
    "text files (source code, ending with **.cs**) which are read by a \n",
    "compiler and converted into an executable (ending with **.exe**).\n",
    "\n",
    "In **Jupyter**, instead, one can enter single statements or snippets of \n",
    "C\\# code and execute them on the fly. (These snippets are not complete \n",
    "programs on their own, and they would not compile in the traditional way.)\n",
    "\n",
    "### Note: \n",
    "1. This tutorial can be found in the source code repository as as `CsharpAndBoSSSpad.ipynb`. \n",
    "   One can directly load this into Jupyter to interactively work with the following code examples.\n",
    "2. First, we need to load the `BoSSSpad.dll` library in order to load BoSSS-specific functions into Jupyter.\n",
    "   **In the following line, the reference to `BoSSSpad.dll` is required**. \n",
    "   You must either set `#r \"BoSSSpad.dll\"` to something which is appropirate for your computer\n",
    "   (e.g. `C:\\Program Files (x86)\\FDY\\BoSSS\\bin\\Release\\net5.0\\BoSSSpad.dll` if you installed the binary distribution),\n",
    "   or, if you are working with the source code, you must compile `BoSSSpad` and put it side-by-side to this worksheet file\n",
    "   (from the original location in the repository, you can use the scripts `getbossspad.sh`, resp. `getbossspad.bat`)."
   ]
  },
  {
   "cell_type": "code",
   "execution_count": 2,
   "metadata": {
    "dotnet_interactive": {
     "language": "csharp"
    },
    "vscode": {
     "languageId": "polyglot-notebook"
    }
   },
   "outputs": [],
   "source": [
    "#r \"BoSSSpad.dll\"\n",
    "\n",
    "using System;\n",
    "using System.Collections.Generic;\n",
    "using System.Linq;\n",
    "using ilPSP;\n",
    "using ilPSP.Utils;\n",
    "using BoSSS.Platform;\n",
    "using BoSSS.Foundation;\n",
    "using BoSSS.Foundation.Grid;\n",
    "using BoSSS.Foundation.Grid.Classic;\n",
    "using BoSSS.Foundation.IO;\n",
    "using BoSSS.Solution;\n",
    "using BoSSS.Solution.Control;\n",
    "using BoSSS.Solution.GridImport;\n",
    "using BoSSS.Solution.Statistic;\n",
    "using BoSSS.Solution.Utils;\n",
    "using BoSSS.Solution.Gnuplot;\n",
    "using BoSSS.Application.BoSSSpad;\n",
    "using BoSSS.Application.XNSE_Solver;\n",
    "using static BoSSS.Application.BoSSSpad.BoSSSshell;\n",
    "Init();\n"
   ]
  },
  {
   "attachments": {},
   "cell_type": "markdown",
   "metadata": {},
   "source": [
    "Any data like single numbers, vectors, strings or composite data objects\n",
    "(like the numerical grid) is stored resp. referenced via a \\emph{variable}.\n",
    "A variable declaration consists of a type and a name, and reads e.g. as:"
   ]
  },
  {
   "cell_type": "code",
   "execution_count": 3,
   "metadata": {
    "dotnet_interactive": {
     "language": "csharp"
    },
    "vscode": {
     "languageId": "polyglot-notebook"
    }
   },
   "outputs": [],
   "source": [
    "int i;"
   ]
  },
  {
   "attachments": {},
   "cell_type": "markdown",
   "metadata": {},
   "source": [
    "The above statement created a variable named **i** of type \n",
    "**int** (for integer numbers). The most commonly used number types in \n",
    "*BoSSS* are **int** for integers and **double** for real numbers.\n",
    "\n",
    "A full list of C\\#-build-in variable types for numbers can be found \n",
    "online (see [integral-types-table](https://docs.microsoft.com/en-us/dotnet/csharp/language-reference/keywords/integral-types-table)\n",
    "and\n",
    "[floating-point-types-table](https://docs.microsoft.com/en-us/dotnet/csharp/language-reference/keywords/floating-point-types-table))"
   ]
  },
  {
   "attachments": {},
   "cell_type": "markdown",
   "metadata": {},
   "source": [
    "Next, we assign a value to the new variable:"
   ]
  },
  {
   "cell_type": "code",
   "execution_count": 4,
   "metadata": {
    "dotnet_interactive": {
     "language": "csharp"
    },
    "vscode": {
     "languageId": "polyglot-notebook"
    }
   },
   "outputs": [],
   "source": [
    "i = 9;"
   ]
  },
  {
   "attachments": {},
   "cell_type": "markdown",
   "metadata": {},
   "source": [
    "If we just enter the variable name without semicolon, **BoSSSpad**, resp. Jupyter prompts the variable in \n",
    "the result window (if the variable can anyhow be presented as text):"
   ]
  },
  {
   "cell_type": "code",
   "execution_count": 5,
   "metadata": {
    "dotnet_interactive": {
     "language": "csharp"
    },
    "vscode": {
     "languageId": "polyglot-notebook"
    }
   },
   "outputs": [
    {
     "data": {
      "text/html": [
       "<div class=\"dni-plaintext\"><pre>9</pre></div><style>\r\n",
       ".dni-code-hint {\r\n",
       "    font-style: italic;\r\n",
       "    overflow: hidden;\r\n",
       "    white-space: nowrap;\r\n",
       "}\r\n",
       ".dni-treeview {\r\n",
       "    white-space: nowrap;\r\n",
       "}\r\n",
       ".dni-treeview td {\r\n",
       "    vertical-align: top;\r\n",
       "    text-align: start;\r\n",
       "}\r\n",
       "details.dni-treeview {\r\n",
       "    padding-left: 1em;\r\n",
       "}\r\n",
       "table td {\r\n",
       "    text-align: start;\r\n",
       "}\r\n",
       "table tr { \r\n",
       "    vertical-align: top; \r\n",
       "    margin: 0em 0px;\r\n",
       "}\r\n",
       "table tr td pre \r\n",
       "{ \r\n",
       "    vertical-align: top !important; \r\n",
       "    margin: 0em 0px !important;\r\n",
       "} \r\n",
       "table th {\r\n",
       "    text-align: start;\r\n",
       "}\r\n",
       "</style>"
      ]
     },
     "metadata": {},
     "output_type": "display_data"
    }
   ],
   "source": [
    "i"
   ]
  },
  {
   "attachments": {},
   "cell_type": "markdown",
   "metadata": {},
   "source": [
    "Declaration and assignment can also be put into a single line:"
   ]
  },
  {
   "cell_type": "code",
   "execution_count": 6,
   "metadata": {
    "dotnet_interactive": {
     "language": "csharp"
    },
    "polyglot_notebook": {
     "kernelName": "csharp"
    },
    "vscode": {
     "languageId": "polyglot-notebook"
    }
   },
   "outputs": [
    {
     "data": {
      "text/html": [
       "<div class=\"dni-plaintext\"><pre>22</pre></div><style>\r\n",
       ".dni-code-hint {\r\n",
       "    font-style: italic;\r\n",
       "    overflow: hidden;\r\n",
       "    white-space: nowrap;\r\n",
       "}\r\n",
       ".dni-treeview {\r\n",
       "    white-space: nowrap;\r\n",
       "}\r\n",
       ".dni-treeview td {\r\n",
       "    vertical-align: top;\r\n",
       "    text-align: start;\r\n",
       "}\r\n",
       "details.dni-treeview {\r\n",
       "    padding-left: 1em;\r\n",
       "}\r\n",
       "table td {\r\n",
       "    text-align: start;\r\n",
       "}\r\n",
       "table tr { \r\n",
       "    vertical-align: top; \r\n",
       "    margin: 0em 0px;\r\n",
       "}\r\n",
       "table tr td pre \r\n",
       "{ \r\n",
       "    vertical-align: top !important; \r\n",
       "    margin: 0em 0px !important;\r\n",
       "} \r\n",
       "table th {\r\n",
       "    text-align: start;\r\n",
       "}\r\n",
       "</style>"
      ]
     },
     "metadata": {},
     "output_type": "display_data"
    }
   ],
   "source": [
    "double p=2;\n",
    "double q=3;\n",
    "double r= (1+(2*1.4)/(1.4+1)*(q*q)*p);\n",
    "r\n"
   ]
  },
  {
   "cell_type": "code",
   "execution_count": 7,
   "metadata": {
    "dotnet_interactive": {
     "language": "csharp"
    },
    "vscode": {
     "languageId": "polyglot-notebook"
    }
   },
   "outputs": [],
   "source": [
    "int j    = 9;\n",
    "double x = 4.6;"
   ]
  },
  {
   "attachments": {},
   "cell_type": "markdown",
   "metadata": {},
   "source": [
    "Next, we test assign a new value to the already-defined variable **i**:"
   ]
  },
  {
   "cell_type": "code",
   "execution_count": 8,
   "metadata": {
    "dotnet_interactive": {
     "language": "csharp"
    },
    "vscode": {
     "languageId": "polyglot-notebook"
    }
   },
   "outputs": [
    {
     "data": {
      "text/html": [
       "<div class=\"dni-plaintext\"><pre>13</pre></div><style>\r\n",
       ".dni-code-hint {\r\n",
       "    font-style: italic;\r\n",
       "    overflow: hidden;\r\n",
       "    white-space: nowrap;\r\n",
       "}\r\n",
       ".dni-treeview {\r\n",
       "    white-space: nowrap;\r\n",
       "}\r\n",
       ".dni-treeview td {\r\n",
       "    vertical-align: top;\r\n",
       "    text-align: start;\r\n",
       "}\r\n",
       "details.dni-treeview {\r\n",
       "    padding-left: 1em;\r\n",
       "}\r\n",
       "table td {\r\n",
       "    text-align: start;\r\n",
       "}\r\n",
       "table tr { \r\n",
       "    vertical-align: top; \r\n",
       "    margin: 0em 0px;\r\n",
       "}\r\n",
       "table tr td pre \r\n",
       "{ \r\n",
       "    vertical-align: top !important; \r\n",
       "    margin: 0em 0px !important;\r\n",
       "} \r\n",
       "table th {\r\n",
       "    text-align: start;\r\n",
       "}\r\n",
       "</style>"
      ]
     },
     "metadata": {},
     "output_type": "display_data"
    }
   ],
   "source": [
    "i = j + (int)x; // cast x to int; add to j; store result in i\n",
    "i"
   ]
  },
  {
   "attachments": {},
   "cell_type": "markdown",
   "metadata": {},
   "source": [
    "Note on the snippet above:\n",
    "\n",
    "- **x** and **i**, **j** are of different type; therefore, \n",
    "      **x** is **cast** to **int**, which truncates the decimal digits,\n",
    "      before it can be added and stored as integer.\n",
    "- The second line would be an incomplete statement, according to the \n",
    "      original, non-interpreted C\\# language -- this would produce a \n",
    "      compile error. The C\\# interpreter, instead, produces a text from \n",
    "      the last \n",
    "      incomplete statement in a snippet.\n",
    "- a double-slash **//** starts a comment, i.e. the rest of \n",
    "      the line is not interpreted and can contain any text.\n"
   ]
  },
  {
   "attachments": {},
   "cell_type": "markdown",
   "metadata": {},
   "source": [
    "While assigning **double** to **int** requires a cast operation, \n",
    "the other way works automatically (this is called an **implicit cast**),\n",
    "since very **int** can be represented as **double** (but not \n",
    "vice-versa):"
   ]
  },
  {
   "cell_type": "code",
   "execution_count": 9,
   "metadata": {
    "dotnet_interactive": {
     "language": "csharp"
    },
    "vscode": {
     "languageId": "polyglot-notebook"
    }
   },
   "outputs": [
    {
     "data": {
      "text/html": [
       "<div class=\"dni-plaintext\"><pre>13.6</pre></div><style>\r\n",
       ".dni-code-hint {\r\n",
       "    font-style: italic;\r\n",
       "    overflow: hidden;\r\n",
       "    white-space: nowrap;\r\n",
       "}\r\n",
       ".dni-treeview {\r\n",
       "    white-space: nowrap;\r\n",
       "}\r\n",
       ".dni-treeview td {\r\n",
       "    vertical-align: top;\r\n",
       "    text-align: start;\r\n",
       "}\r\n",
       "details.dni-treeview {\r\n",
       "    padding-left: 1em;\r\n",
       "}\r\n",
       "table td {\r\n",
       "    text-align: start;\r\n",
       "}\r\n",
       "table tr { \r\n",
       "    vertical-align: top; \r\n",
       "    margin: 0em 0px;\r\n",
       "}\r\n",
       "table tr td pre \r\n",
       "{ \r\n",
       "    vertical-align: top !important; \r\n",
       "    margin: 0em 0px !important;\r\n",
       "} \r\n",
       "table th {\r\n",
       "    text-align: start;\r\n",
       "}\r\n",
       "</style>"
      ]
     },
     "metadata": {},
     "output_type": "display_data"
    }
   ],
   "source": [
    "double y = j + x;\n",
    "y"
   ]
  },
  {
   "attachments": {},
   "cell_type": "markdown",
   "metadata": {},
   "source": [
    "C\\# defines the standard operations on numbers found in most programming\n",
    "languages:\n",
    "- Increasing a variables value by one:"
   ]
  },
  {
   "cell_type": "code",
   "execution_count": 10,
   "metadata": {
    "dotnet_interactive": {
     "language": "csharp"
    },
    "vscode": {
     "languageId": "polyglot-notebook"
    }
   },
   "outputs": [
    {
     "data": {
      "text/html": [
       "<div class=\"dni-plaintext\"><pre>14.6</pre></div><style>\r\n",
       ".dni-code-hint {\r\n",
       "    font-style: italic;\r\n",
       "    overflow: hidden;\r\n",
       "    white-space: nowrap;\r\n",
       "}\r\n",
       ".dni-treeview {\r\n",
       "    white-space: nowrap;\r\n",
       "}\r\n",
       ".dni-treeview td {\r\n",
       "    vertical-align: top;\r\n",
       "    text-align: start;\r\n",
       "}\r\n",
       "details.dni-treeview {\r\n",
       "    padding-left: 1em;\r\n",
       "}\r\n",
       "table td {\r\n",
       "    text-align: start;\r\n",
       "}\r\n",
       "table tr { \r\n",
       "    vertical-align: top; \r\n",
       "    margin: 0em 0px;\r\n",
       "}\r\n",
       "table tr td pre \r\n",
       "{ \r\n",
       "    vertical-align: top !important; \r\n",
       "    margin: 0em 0px !important;\r\n",
       "} \r\n",
       "table th {\r\n",
       "    text-align: start;\r\n",
       "}\r\n",
       "</style>"
      ]
     },
     "metadata": {},
     "output_type": "display_data"
    }
   ],
   "source": [
    "y = y + 1;\n",
    "y"
   ]
  },
  {
   "attachments": {},
   "cell_type": "markdown",
   "metadata": {},
   "source": [
    "- Or the += notation:"
   ]
  },
  {
   "cell_type": "code",
   "execution_count": 11,
   "metadata": {
    "dotnet_interactive": {
     "language": "csharp"
    },
    "vscode": {
     "languageId": "polyglot-notebook"
    }
   },
   "outputs": [
    {
     "data": {
      "text/html": [
       "<div class=\"dni-plaintext\"><pre>15.6</pre></div><style>\r\n",
       ".dni-code-hint {\r\n",
       "    font-style: italic;\r\n",
       "    overflow: hidden;\r\n",
       "    white-space: nowrap;\r\n",
       "}\r\n",
       ".dni-treeview {\r\n",
       "    white-space: nowrap;\r\n",
       "}\r\n",
       ".dni-treeview td {\r\n",
       "    vertical-align: top;\r\n",
       "    text-align: start;\r\n",
       "}\r\n",
       "details.dni-treeview {\r\n",
       "    padding-left: 1em;\r\n",
       "}\r\n",
       "table td {\r\n",
       "    text-align: start;\r\n",
       "}\r\n",
       "table tr { \r\n",
       "    vertical-align: top; \r\n",
       "    margin: 0em 0px;\r\n",
       "}\r\n",
       "table tr td pre \r\n",
       "{ \r\n",
       "    vertical-align: top !important; \r\n",
       "    margin: 0em 0px !important;\r\n",
       "} \r\n",
       "table th {\r\n",
       "    text-align: start;\r\n",
       "}\r\n",
       "</style>"
      ]
     },
     "metadata": {},
     "output_type": "display_data"
    }
   ],
   "source": [
    "y += 1;\n",
    "y"
   ]
  },
  {
   "attachments": {},
   "cell_type": "markdown",
   "metadata": {},
   "source": [
    "- Even shorter by the ++ operator:"
   ]
  },
  {
   "cell_type": "code",
   "execution_count": 12,
   "metadata": {
    "dotnet_interactive": {
     "language": "csharp"
    },
    "vscode": {
     "languageId": "polyglot-notebook"
    }
   },
   "outputs": [
    {
     "data": {
      "text/html": [
       "<div class=\"dni-plaintext\"><pre>16.6</pre></div><style>\r\n",
       ".dni-code-hint {\r\n",
       "    font-style: italic;\r\n",
       "    overflow: hidden;\r\n",
       "    white-space: nowrap;\r\n",
       "}\r\n",
       ".dni-treeview {\r\n",
       "    white-space: nowrap;\r\n",
       "}\r\n",
       ".dni-treeview td {\r\n",
       "    vertical-align: top;\r\n",
       "    text-align: start;\r\n",
       "}\r\n",
       "details.dni-treeview {\r\n",
       "    padding-left: 1em;\r\n",
       "}\r\n",
       "table td {\r\n",
       "    text-align: start;\r\n",
       "}\r\n",
       "table tr { \r\n",
       "    vertical-align: top; \r\n",
       "    margin: 0em 0px;\r\n",
       "}\r\n",
       "table tr td pre \r\n",
       "{ \r\n",
       "    vertical-align: top !important; \r\n",
       "    margin: 0em 0px !important;\r\n",
       "} \r\n",
       "table th {\r\n",
       "    text-align: start;\r\n",
       "}\r\n",
       "</style>"
      ]
     },
     "metadata": {},
     "output_type": "display_data"
    }
   ],
   "source": [
    "\n",
    "y++;\n",
    "y"
   ]
  },
  {
   "attachments": {},
   "cell_type": "markdown",
   "metadata": {},
   "source": [
    "- Another build-in type is **string**, for representing text:"
   ]
  },
  {
   "cell_type": "code",
   "execution_count": 13,
   "metadata": {
    "dotnet_interactive": {
     "language": "csharp"
    },
    "vscode": {
     "languageId": "polyglot-notebook"
    }
   },
   "outputs": [],
   "source": [
    "string s = \"some Text\";"
   ]
  },
  {
   "cell_type": "code",
   "execution_count": 14,
   "metadata": {
    "dotnet_interactive": {
     "language": "csharp"
    },
    "vscode": {
     "languageId": "polyglot-notebook"
    }
   },
   "outputs": [
    {
     "data": {
      "text/plain": [
       "some Text"
      ]
     },
     "metadata": {},
     "output_type": "display_data"
    }
   ],
   "source": [
    "s"
   ]
  },
  {
   "attachments": {},
   "cell_type": "markdown",
   "metadata": {},
   "source": [
    "Which also supports some (but not all) operators:"
   ]
  },
  {
   "cell_type": "code",
   "execution_count": 15,
   "metadata": {
    "dotnet_interactive": {
     "language": "csharp"
    },
    "vscode": {
     "languageId": "polyglot-notebook"
    }
   },
   "outputs": [],
   "source": [
    "string t = \" and more string\";"
   ]
  },
  {
   "cell_type": "code",
   "execution_count": 16,
   "metadata": {
    "dotnet_interactive": {
     "language": "csharp"
    },
    "vscode": {
     "languageId": "polyglot-notebook"
    }
   },
   "outputs": [
    {
     "data": {
      "text/plain": [
       "some Text and more string"
      ]
     },
     "metadata": {},
     "output_type": "display_data"
    }
   ],
   "source": [
    "s + t"
   ]
  },
  {
   "cell_type": "code",
   "execution_count": 17,
   "metadata": {
    "dotnet_interactive": {
     "language": "csharp"
    },
    "vscode": {
     "languageId": "polyglot-notebook"
    }
   },
   "outputs": [
    {
     "data": {
      "text/plain": [
       "some Text and more string: 9"
      ]
     },
     "metadata": {},
     "output_type": "display_data"
    }
   ],
   "source": [
    "s + t + \": \" + j"
   ]
  },
  {
   "attachments": {},
   "cell_type": "markdown",
   "metadata": {},
   "source": [
    "\n",
    "## Arrays\n",
    "For every type, one can define arrays; e.g. an array of integers is \n",
    "defined and initialized as"
   ]
  },
  {
   "cell_type": "code",
   "execution_count": 18,
   "metadata": {
    "dotnet_interactive": {
     "language": "csharp"
    },
    "vscode": {
     "languageId": "polyglot-notebook"
    }
   },
   "outputs": [],
   "source": [
    "int[] A = new int[5];"
   ]
  },
  {
   "attachments": {},
   "cell_type": "markdown",
   "metadata": {},
   "source": [
    " The line above creates an array with 5 entries. Initially, all\n",
    "entries are set to the default value 0:"
   ]
  },
  {
   "cell_type": "code",
   "execution_count": 19,
   "metadata": {
    "dotnet_interactive": {
     "language": "csharp"
    },
    "vscode": {
     "languageId": "polyglot-notebook"
    }
   },
   "outputs": [
    {
     "data": {
      "text/html": [
       "<div class=\"dni-plaintext\"><pre>[ 0, 0, 0, 0, 0 ]</pre></div><style>\r\n",
       ".dni-code-hint {\r\n",
       "    font-style: italic;\r\n",
       "    overflow: hidden;\r\n",
       "    white-space: nowrap;\r\n",
       "}\r\n",
       ".dni-treeview {\r\n",
       "    white-space: nowrap;\r\n",
       "}\r\n",
       ".dni-treeview td {\r\n",
       "    vertical-align: top;\r\n",
       "    text-align: start;\r\n",
       "}\r\n",
       "details.dni-treeview {\r\n",
       "    padding-left: 1em;\r\n",
       "}\r\n",
       "table td {\r\n",
       "    text-align: start;\r\n",
       "}\r\n",
       "table tr { \r\n",
       "    vertical-align: top; \r\n",
       "    margin: 0em 0px;\r\n",
       "}\r\n",
       "table tr td pre \r\n",
       "{ \r\n",
       "    vertical-align: top !important; \r\n",
       "    margin: 0em 0px !important;\r\n",
       "} \r\n",
       "table th {\r\n",
       "    text-align: start;\r\n",
       "}\r\n",
       "</style>"
      ]
     },
     "metadata": {},
     "output_type": "display_data"
    }
   ],
   "source": [
    "A"
   ]
  },
  {
   "attachments": {},
   "cell_type": "markdown",
   "metadata": {},
   "source": [
    "One can access and manipulate individual entires by index-brackets; \n",
    "Note that C\\# indices (usually) start at zero:"
   ]
  },
  {
   "cell_type": "code",
   "execution_count": 20,
   "metadata": {
    "dotnet_interactive": {
     "language": "csharp"
    },
    "vscode": {
     "languageId": "polyglot-notebook"
    }
   },
   "outputs": [],
   "source": [
    "A[2] = 7;"
   ]
  },
  {
   "cell_type": "code",
   "execution_count": 21,
   "metadata": {
    "dotnet_interactive": {
     "language": "csharp"
    },
    "vscode": {
     "languageId": "polyglot-notebook"
    }
   },
   "outputs": [
    {
     "data": {
      "text/html": [
       "<div class=\"dni-plaintext\"><pre>[ 0, 0, 7, 0, 0 ]</pre></div><style>\r\n",
       ".dni-code-hint {\r\n",
       "    font-style: italic;\r\n",
       "    overflow: hidden;\r\n",
       "    white-space: nowrap;\r\n",
       "}\r\n",
       ".dni-treeview {\r\n",
       "    white-space: nowrap;\r\n",
       "}\r\n",
       ".dni-treeview td {\r\n",
       "    vertical-align: top;\r\n",
       "    text-align: start;\r\n",
       "}\r\n",
       "details.dni-treeview {\r\n",
       "    padding-left: 1em;\r\n",
       "}\r\n",
       "table td {\r\n",
       "    text-align: start;\r\n",
       "}\r\n",
       "table tr { \r\n",
       "    vertical-align: top; \r\n",
       "    margin: 0em 0px;\r\n",
       "}\r\n",
       "table tr td pre \r\n",
       "{ \r\n",
       "    vertical-align: top !important; \r\n",
       "    margin: 0em 0px !important;\r\n",
       "} \r\n",
       "table th {\r\n",
       "    text-align: start;\r\n",
       "}\r\n",
       "</style>"
      ]
     },
     "metadata": {},
     "output_type": "display_data"
    }
   ],
   "source": [
    "A"
   ]
  },
  {
   "attachments": {},
   "cell_type": "markdown",
   "metadata": {},
   "source": [
    "It is also possible to initialize an array with non-default values:"
   ]
  },
  {
   "cell_type": "code",
   "execution_count": 22,
   "metadata": {
    "dotnet_interactive": {
     "language": "csharp"
    },
    "vscode": {
     "languageId": "polyglot-notebook"
    }
   },
   "outputs": [],
   "source": [
    "string[] B = new string[] { \"Zero\", \"One\", \"Two\" };"
   ]
  },
  {
   "cell_type": "code",
   "execution_count": 23,
   "metadata": {
    "dotnet_interactive": {
     "language": "csharp"
    },
    "vscode": {
     "languageId": "polyglot-notebook"
    }
   },
   "outputs": [
    {
     "data": {
      "text/html": [
       "<div class=\"dni-plaintext\"><pre>[ Zero, One, Two ]</pre></div><style>\r\n",
       ".dni-code-hint {\r\n",
       "    font-style: italic;\r\n",
       "    overflow: hidden;\r\n",
       "    white-space: nowrap;\r\n",
       "}\r\n",
       ".dni-treeview {\r\n",
       "    white-space: nowrap;\r\n",
       "}\r\n",
       ".dni-treeview td {\r\n",
       "    vertical-align: top;\r\n",
       "    text-align: start;\r\n",
       "}\r\n",
       "details.dni-treeview {\r\n",
       "    padding-left: 1em;\r\n",
       "}\r\n",
       "table td {\r\n",
       "    text-align: start;\r\n",
       "}\r\n",
       "table tr { \r\n",
       "    vertical-align: top; \r\n",
       "    margin: 0em 0px;\r\n",
       "}\r\n",
       "table tr td pre \r\n",
       "{ \r\n",
       "    vertical-align: top !important; \r\n",
       "    margin: 0em 0px !important;\r\n",
       "} \r\n",
       "table th {\r\n",
       "    text-align: start;\r\n",
       "}\r\n",
       "</style>"
      ]
     },
     "metadata": {},
     "output_type": "display_data"
    }
   ],
   "source": [
    "B"
   ]
  },
  {
   "attachments": {},
   "cell_type": "markdown",
   "metadata": {},
   "source": [
    "\n",
    "## Multi-dimensional arrays\n",
    "\n",
    "C\\# also defines arrays with more than one index, e.g.:\n"
   ]
  },
  {
   "cell_type": "code",
   "execution_count": 24,
   "metadata": {
    "dotnet_interactive": {
     "language": "csharp"
    },
    "vscode": {
     "languageId": "polyglot-notebook"
    }
   },
   "outputs": [
    {
     "data": {
      "text/html": [
       "<div class=\"dni-plaintext\"><pre>&lt;CastIterator&gt;d__67&lt;Object&gt;\r\n",
       "  - 0\r\n",
       "  - 0\r\n",
       "  - 0\r\n",
       "  - 0\r\n",
       "  - 0\r\n",
       "  - 0\r\n",
       "  - 0\r\n",
       "  - 0\r\n",
       "  - 0\r\n",
       "  - 3\r\n",
       "  - 0\r\n",
       "  - 0</pre></div><style>\r\n",
       ".dni-code-hint {\r\n",
       "    font-style: italic;\r\n",
       "    overflow: hidden;\r\n",
       "    white-space: nowrap;\r\n",
       "}\r\n",
       ".dni-treeview {\r\n",
       "    white-space: nowrap;\r\n",
       "}\r\n",
       ".dni-treeview td {\r\n",
       "    vertical-align: top;\r\n",
       "    text-align: start;\r\n",
       "}\r\n",
       "details.dni-treeview {\r\n",
       "    padding-left: 1em;\r\n",
       "}\r\n",
       "table td {\r\n",
       "    text-align: start;\r\n",
       "}\r\n",
       "table tr { \r\n",
       "    vertical-align: top; \r\n",
       "    margin: 0em 0px;\r\n",
       "}\r\n",
       "table tr td pre \r\n",
       "{ \r\n",
       "    vertical-align: top !important; \r\n",
       "    margin: 0em 0px !important;\r\n",
       "} \r\n",
       "table th {\r\n",
       "    text-align: start;\r\n",
       "}\r\n",
       "</style>"
      ]
     },
     "metadata": {},
     "output_type": "display_data"
    }
   ],
   "source": [
    "int[,] M = new int[3,4];\n",
    "M[2,1] = 3;\n",
    "M"
   ]
  },
  {
   "cell_type": "code",
   "execution_count": 95,
   "metadata": {
    "dotnet_interactive": {
     "language": "csharp"
    },
    "polyglot_notebook": {
     "kernelName": "csharp"
    },
    "vscode": {
     "languageId": "polyglot-notebook"
    }
   },
   "outputs": [
    {
     "data": {
      "text/html": [
       "<details open=\"open\" class=\"dni-treeview\"><summary><span class=\"dni-code-hint\"><code>1 0\\r\\n0 1</code></span></summary><div><table><thead><tr></tr></thead><tbody><tr><td>Dimension</td><td>2</td></tr><tr><td>Lengths</td><td>[ 2, 2 ]</td></tr><tr><td>Storage</td><td>[ 1, 0, 0, 1 ]</td></tr><tr><td>IsContinious</td><td>True</td></tr><tr><td>Length</td><td>4</td></tr><tr><td>NoOfCols</td><td>2</td></tr><tr><td>NoOfRows</td><td>2</td></tr><tr><td>IsLocked</td><td>False</td></tr></tbody></table></div></details><style>\r\n",
       ".dni-code-hint {\r\n",
       "    font-style: italic;\r\n",
       "    overflow: hidden;\r\n",
       "    white-space: nowrap;\r\n",
       "}\r\n",
       ".dni-treeview {\r\n",
       "    white-space: nowrap;\r\n",
       "}\r\n",
       ".dni-treeview td {\r\n",
       "    vertical-align: top;\r\n",
       "    text-align: start;\r\n",
       "}\r\n",
       "details.dni-treeview {\r\n",
       "    padding-left: 1em;\r\n",
       "}\r\n",
       "table td {\r\n",
       "    text-align: start;\r\n",
       "}\r\n",
       "table tr { \r\n",
       "    vertical-align: top; \r\n",
       "    margin: 0em 0px;\r\n",
       "}\r\n",
       "table tr td pre \r\n",
       "{ \r\n",
       "    vertical-align: top !important; \r\n",
       "    margin: 0em 0px !important;\r\n",
       "} \r\n",
       "table th {\r\n",
       "    text-align: start;\r\n",
       "}\r\n",
       "</style>"
      ]
     },
     "metadata": {},
     "output_type": "display_data"
    }
   ],
   "source": [
    "MultidimensionalArray Q = MultidimensionalArray.Create(2,2);\n",
    "Q[1,1] = 1;\n",
    "Q[0,0] = 1;\n",
    "Q\n"
   ]
  },
  {
   "attachments": {},
   "cell_type": "markdown",
   "metadata": {},
   "source": [
    "In **BoSSS**, there is a separate type for multidimensional arrays of \n",
    "real numbers. \n",
    "\n",
    "In contrast to the multidimensional arrays build into C\\#,\n",
    "their **BoSSS** counterparts offer more operations, e.g.\n",
    "reshaping the array or tensor multiplications.\n",
    "\n",
    "An array with three dimensions can be initialized as:"
   ]
  },
  {
   "cell_type": "code",
   "execution_count": 26,
   "metadata": {
    "dotnet_interactive": {
     "language": "csharp"
    },
    "vscode": {
     "languageId": "polyglot-notebook"
    }
   },
   "outputs": [],
   "source": [
    "MultidimensionalArray Q = MultidimensionalArray.Create(5,3,4);"
   ]
  },
  {
   "attachments": {},
   "cell_type": "markdown",
   "metadata": {},
   "source": [
    "However, a comprehensive introduction of the \n",
    "**MultidimensionalArray** type is beyond the scope of this section.\n",
    "We may refer the reader to the API reference\n",
    "\n",
    "## Classes\n",
    "\n",
    "So far, we used only primitive (build-in) datatypes. The core idea of \n",
    "object orientation is to define composite data structures (called \n",
    "classes) upon the primitive types and other classes.\n",
    "\n",
    "Furthermore, classes provide the concept of encapsulation: any member \n",
    "variable that should be manipulated from code outside of the class \n",
    "must be decorated with the **public** keyword. Otherwise, the member \n",
    "is **private** and can only be manipulated form inside the class.\n",
    "(This is demonstrated in below)"
   ]
  },
  {
   "cell_type": "code",
   "execution_count": 27,
   "metadata": {
    "dotnet_interactive": {
     "language": "csharp"
    },
    "vscode": {
     "languageId": "polyglot-notebook"
    }
   },
   "outputs": [],
   "source": [
    "class MyVector {\n",
    "    // public variables. \n",
    "    public double x;\n",
    "    public double y;\n",
    "    public string Name;\n",
    "}"
   ]
  },
  {
   "attachments": {},
   "cell_type": "markdown",
   "metadata": {},
   "source": [
    "One may think of classes as blueprints, which are used to create \n",
    "objects. Whenever the **new** operator is applied to a class, a new \n",
    "object is created in computer memory. This is called **instantiation**.\n",
    "\n",
    "Objects are accessed via variables, just in the same way as arrays.\n",
    "\n",
    "We declare a variable of type **MyVector** and intialize it with an \n",
    "instance of this class:"
   ]
  },
  {
   "cell_type": "code",
   "execution_count": 28,
   "metadata": {
    "dotnet_interactive": {
     "language": "csharp"
    },
    "vscode": {
     "languageId": "polyglot-notebook"
    }
   },
   "outputs": [],
   "source": [
    "MyVector vec = new MyVector();"
   ]
  },
  {
   "attachments": {},
   "cell_type": "markdown",
   "metadata": {},
   "source": [
    "Then, we can manipulate its variables (also called **members**):"
   ]
  },
  {
   "cell_type": "code",
   "execution_count": 29,
   "metadata": {
    "dotnet_interactive": {
     "language": "csharp"
    },
    "vscode": {
     "languageId": "polyglot-notebook"
    }
   },
   "outputs": [],
   "source": [
    "vec.x    = 1.2;\n",
    "vec.y    = 4.1;\n",
    "vec.Name = \"BoSSS\";"
   ]
  },
  {
   "attachments": {},
   "cell_type": "markdown",
   "metadata": {},
   "source": [
    "Each object owns its own space in memory; so when we instantiate a second \n",
    "object of this type, the members of **vec** stay the same:"
   ]
  },
  {
   "cell_type": "code",
   "execution_count": 30,
   "metadata": {
    "dotnet_interactive": {
     "language": "csharp"
    },
    "vscode": {
     "languageId": "polyglot-notebook"
    }
   },
   "outputs": [],
   "source": [
    "MyVector vec2 = new MyVector();"
   ]
  },
  {
   "cell_type": "code",
   "execution_count": 31,
   "metadata": {
    "dotnet_interactive": {
     "language": "csharp"
    },
    "vscode": {
     "languageId": "polyglot-notebook"
    }
   },
   "outputs": [],
   "source": [
    "vec2.x    = -3.1;\n",
    "vec2.y    = 22.4;\n",
    "vec2.Name = \"Another BoSSS\";"
   ]
  },
  {
   "attachments": {},
   "cell_type": "markdown",
   "metadata": {},
   "source": [
    "We see, both objects have their independent variables:"
   ]
  },
  {
   "cell_type": "code",
   "execution_count": 32,
   "metadata": {
    "dotnet_interactive": {
     "language": "csharp"
    },
    "vscode": {
     "languageId": "polyglot-notebook"
    }
   },
   "outputs": [
    {
     "data": {
      "text/plain": [
       "BoSSS"
      ]
     },
     "metadata": {},
     "output_type": "display_data"
    }
   ],
   "source": [
    "vec.Name"
   ]
  },
  {
   "cell_type": "code",
   "execution_count": 33,
   "metadata": {
    "dotnet_interactive": {
     "language": "csharp"
    },
    "vscode": {
     "languageId": "polyglot-notebook"
    }
   },
   "outputs": [
    {
     "data": {
      "text/plain": [
       "Another BoSSS"
      ]
     },
     "metadata": {},
     "output_type": "display_data"
    }
   ],
   "source": [
    "vec2.Name"
   ]
  },
  {
   "attachments": {},
   "cell_type": "markdown",
   "metadata": {},
   "source": [
    "\n",
    "## Member Functions (Methods)\n"
   ]
  },
  {
   "attachments": {},
   "cell_type": "markdown",
   "metadata": {},
   "source": [
    "The next important idea of object orientation is to bundle data structures\n",
    "with the code which manipulates this data. In imperative\n",
    "programming languages (e.g. C, FORTRAN, Matlab) these code is organized\n",
    "in so-called **functions**, aka. **subroutines**. \n",
    "\n",
    "In C\\# such functions are put into the class and they can access all\n",
    "variables in the class, including **private** ones.\n",
    "These functions are often called **methods** or **member functions**.\n",
    "\n",
    "A function consists of the following parts:\n",
    "\n",
    "- An optional access modifier, e.g. **public** or **private**; if no \n",
    "access modifier is given, the method is private.\n",
    "\n",
    "- The type of the value returned by the method; this can be either a \n",
    "build-in type like **double** or some class. If the method should \n",
    "not return a value, its return type is **void**.\n",
    "\n",
    "- A function name\n",
    "- A list of function arguments, i.e. variables which are used as inputs\n",
    "to the function\n",
    "- The function body which contains the actual code\n"
   ]
  },
  {
   "cell_type": "code",
   "execution_count": 34,
   "metadata": {
    "dotnet_interactive": {
     "language": "csharp"
    },
    "vscode": {
     "languageId": "polyglot-notebook"
    }
   },
   "outputs": [],
   "source": [
    "class MyAdvancedVector {\n",
    "    // two private variables, which cannot be accessed from outside:\n",
    "    double x;    \n",
    "    double y;\n",
    " \n",
    "    // a function which only manipulates internal data, but has neither \n",
    "    // a return value nor an input argument:\n",
    "    public void Rotate90Deg() {\n",
    "        double temp = x; // back-up x in a local variable\n",
    "        x           = y; // overwrite x\n",
    "        y           = -temp; // set y\n",
    "    }\n",
    " \n",
    "    // a function with an input argument:\n",
    "    public void Scale(double factor) {\n",
    "        x *= factor; \n",
    "        y *= factor;   \n",
    "    }\n",
    " \n",
    "    // a function which only returns a value:\n",
    "    public double LengthSquared() {\n",
    "        double sqSum = 0;;\n",
    "        sqSum += x*x; \n",
    "        sqSum += y*y; \n",
    "        return sqSum; // returning the result of the function   \n",
    "    }\n",
    " \n",
    "    // a function with multiple input arguments, and a return value;\n",
    "    // to avoid confusion, it is better to chose names for the input arguments\n",
    "    // that do not conflict with member variables:\n",
    "    public double Set_xy(double new_x, double new_y) {\n",
    "        x = new_x;\n",
    "        y = new_y;\n",
    "        return LengthSquared();\n",
    "    }\n",
    "}"
   ]
  },
  {
   "cell_type": "code",
   "execution_count": 35,
   "metadata": {
    "dotnet_interactive": {
     "language": "csharp"
    },
    "vscode": {
     "languageId": "polyglot-notebook"
    }
   },
   "outputs": [],
   "source": [
    "MyAdvancedVector vecX = new MyAdvancedVector();"
   ]
  },
  {
   "attachments": {},
   "cell_type": "markdown",
   "metadata": {},
   "source": [
    "Next, we demonstrate how to execute member functions of our new class:"
   ]
  },
  {
   "cell_type": "code",
   "execution_count": 36,
   "metadata": {
    "dotnet_interactive": {
     "language": "csharp"
    },
    "vscode": {
     "languageId": "polyglot-notebook"
    }
   },
   "outputs": [
    {
     "data": {
      "text/html": [
       "<div class=\"dni-plaintext\"><pre>0</pre></div><style>\r\n",
       ".dni-code-hint {\r\n",
       "    font-style: italic;\r\n",
       "    overflow: hidden;\r\n",
       "    white-space: nowrap;\r\n",
       "}\r\n",
       ".dni-treeview {\r\n",
       "    white-space: nowrap;\r\n",
       "}\r\n",
       ".dni-treeview td {\r\n",
       "    vertical-align: top;\r\n",
       "    text-align: start;\r\n",
       "}\r\n",
       "details.dni-treeview {\r\n",
       "    padding-left: 1em;\r\n",
       "}\r\n",
       "table td {\r\n",
       "    text-align: start;\r\n",
       "}\r\n",
       "table tr { \r\n",
       "    vertical-align: top; \r\n",
       "    margin: 0em 0px;\r\n",
       "}\r\n",
       "table tr td pre \r\n",
       "{ \r\n",
       "    vertical-align: top !important; \r\n",
       "    margin: 0em 0px !important;\r\n",
       "} \r\n",
       "table th {\r\n",
       "    text-align: start;\r\n",
       "}\r\n",
       "</style>"
      ]
     },
     "metadata": {},
     "output_type": "display_data"
    }
   ],
   "source": [
    "vecX.LengthSquared()"
   ]
  },
  {
   "cell_type": "code",
   "execution_count": 37,
   "metadata": {
    "dotnet_interactive": {
     "language": "csharp"
    },
    "vscode": {
     "languageId": "polyglot-notebook"
    }
   },
   "outputs": [
    {
     "data": {
      "text/html": [
       "<div class=\"dni-plaintext\"><pre>13</pre></div><style>\r\n",
       ".dni-code-hint {\r\n",
       "    font-style: italic;\r\n",
       "    overflow: hidden;\r\n",
       "    white-space: nowrap;\r\n",
       "}\r\n",
       ".dni-treeview {\r\n",
       "    white-space: nowrap;\r\n",
       "}\r\n",
       ".dni-treeview td {\r\n",
       "    vertical-align: top;\r\n",
       "    text-align: start;\r\n",
       "}\r\n",
       "details.dni-treeview {\r\n",
       "    padding-left: 1em;\r\n",
       "}\r\n",
       "table td {\r\n",
       "    text-align: start;\r\n",
       "}\r\n",
       "table tr { \r\n",
       "    vertical-align: top; \r\n",
       "    margin: 0em 0px;\r\n",
       "}\r\n",
       "table tr td pre \r\n",
       "{ \r\n",
       "    vertical-align: top !important; \r\n",
       "    margin: 0em 0px !important;\r\n",
       "} \r\n",
       "table th {\r\n",
       "    text-align: start;\r\n",
       "}\r\n",
       "</style>"
      ]
     },
     "metadata": {},
     "output_type": "display_data"
    }
   ],
   "source": [
    "vecX.Set_xy(2,3)"
   ]
  },
  {
   "cell_type": "code",
   "execution_count": 38,
   "metadata": {
    "dotnet_interactive": {
     "language": "csharp"
    },
    "vscode": {
     "languageId": "polyglot-notebook"
    }
   },
   "outputs": [],
   "source": [
    "vecX.Rotate90Deg()"
   ]
  },
  {
   "cell_type": "code",
   "execution_count": 39,
   "metadata": {
    "dotnet_interactive": {
     "language": "csharp"
    },
    "vscode": {
     "languageId": "polyglot-notebook"
    }
   },
   "outputs": [
    {
     "data": {
      "text/html": [
       "<div class=\"dni-plaintext\"><pre>13</pre></div><style>\r\n",
       ".dni-code-hint {\r\n",
       "    font-style: italic;\r\n",
       "    overflow: hidden;\r\n",
       "    white-space: nowrap;\r\n",
       "}\r\n",
       ".dni-treeview {\r\n",
       "    white-space: nowrap;\r\n",
       "}\r\n",
       ".dni-treeview td {\r\n",
       "    vertical-align: top;\r\n",
       "    text-align: start;\r\n",
       "}\r\n",
       "details.dni-treeview {\r\n",
       "    padding-left: 1em;\r\n",
       "}\r\n",
       "table td {\r\n",
       "    text-align: start;\r\n",
       "}\r\n",
       "table tr { \r\n",
       "    vertical-align: top; \r\n",
       "    margin: 0em 0px;\r\n",
       "}\r\n",
       "table tr td pre \r\n",
       "{ \r\n",
       "    vertical-align: top !important; \r\n",
       "    margin: 0em 0px !important;\r\n",
       "} \r\n",
       "table th {\r\n",
       "    text-align: start;\r\n",
       "}\r\n",
       "</style>"
      ]
     },
     "metadata": {},
     "output_type": "display_data"
    }
   ],
   "source": [
    "vecX.LengthSquared()"
   ]
  },
  {
   "attachments": {},
   "cell_type": "markdown",
   "metadata": {},
   "source": [
    "\n",
    "## Properties\n"
   ]
  },
  {
   "attachments": {},
   "cell_type": "markdown",
   "metadata": {},
   "source": [
    "Properties are special methods, which look like functions. \n",
    "Most of the time, they are used to execute additional code before setting \n",
    "a variable."
   ]
  },
  {
   "cell_type": "code",
   "execution_count": 40,
   "metadata": {
    "dotnet_interactive": {
     "language": "csharp"
    },
    "vscode": {
     "languageId": "polyglot-notebook"
    }
   },
   "outputs": [],
   "source": [
    "class PropertiesDemo {\n",
    "    // a private variable:\n",
    "    int i1;\n",
    " \n",
    "    // reading/setting the value through methods:\n",
    "    // (old-fashioned)\n",
    "    public int Get_i1() {\n",
    "        return i1;    \n",
    "    }\n",
    "    public void Set_i1(int new_i1) {\n",
    "        // here, one can put code to perform additional operations,\n",
    "        // e.g. check that the passed argument is positive, (if this is desired)    \n",
    "        i1 = new_i1;\n",
    "    }\n",
    " \n",
    "    // reading/setting the value i1 through a property\n",
    "    public int I1 {\n",
    "        get {\n",
    "            // the get-part: like a function, \n",
    "            //    * no arguments\n",
    "            //    * returns int\n",
    "            return i1;\n",
    "        }    \n",
    "        set {\n",
    "            // the set-part: like a function, \n",
    "            //    * one argument of type int, vamed value\n",
    "            //    * no return value/void return value\n",
    "            i1 = value;\n",
    "        }\n",
    "    }\n",
    "}"
   ]
  },
  {
   "attachments": {},
   "cell_type": "markdown",
   "metadata": {},
   "source": [
    "Again, we instantiate the class:"
   ]
  },
  {
   "cell_type": "code",
   "execution_count": 41,
   "metadata": {
    "dotnet_interactive": {
     "language": "csharp"
    },
    "vscode": {
     "languageId": "polyglot-notebook"
    }
   },
   "outputs": [],
   "source": [
    "PropertiesDemo p = new PropertiesDemo();"
   ]
  },
  {
   "attachments": {},
   "cell_type": "markdown",
   "metadata": {},
   "source": [
    "Access to the member variable through methods would work as"
   ]
  },
  {
   "cell_type": "code",
   "execution_count": 96,
   "metadata": {
    "dotnet_interactive": {
     "language": "csharp"
    },
    "vscode": {
     "languageId": "polyglot-notebook"
    }
   },
   "outputs": [],
   "source": [
    "p.Set_i1(49);"
   ]
  },
  {
   "cell_type": "code",
   "execution_count": 97,
   "metadata": {
    "dotnet_interactive": {
     "language": "csharp"
    },
    "vscode": {
     "languageId": "polyglot-notebook"
    }
   },
   "outputs": [
    {
     "data": {
      "text/html": [
       "<div class=\"dni-plaintext\"><pre>49</pre></div><style>\r\n",
       ".dni-code-hint {\r\n",
       "    font-style: italic;\r\n",
       "    overflow: hidden;\r\n",
       "    white-space: nowrap;\r\n",
       "}\r\n",
       ".dni-treeview {\r\n",
       "    white-space: nowrap;\r\n",
       "}\r\n",
       ".dni-treeview td {\r\n",
       "    vertical-align: top;\r\n",
       "    text-align: start;\r\n",
       "}\r\n",
       "details.dni-treeview {\r\n",
       "    padding-left: 1em;\r\n",
       "}\r\n",
       "table td {\r\n",
       "    text-align: start;\r\n",
       "}\r\n",
       "table tr { \r\n",
       "    vertical-align: top; \r\n",
       "    margin: 0em 0px;\r\n",
       "}\r\n",
       "table tr td pre \r\n",
       "{ \r\n",
       "    vertical-align: top !important; \r\n",
       "    margin: 0em 0px !important;\r\n",
       "} \r\n",
       "table th {\r\n",
       "    text-align: start;\r\n",
       "}\r\n",
       "</style>"
      ]
     },
     "metadata": {},
     "output_type": "display_data"
    }
   ],
   "source": [
    "p.Get_i1()"
   ]
  },
  {
   "attachments": {},
   "cell_type": "markdown",
   "metadata": {},
   "source": [
    "while the property-notation is more compact, but has the same functionality\n",
    "(syntactic sugar):"
   ]
  },
  {
   "cell_type": "code",
   "execution_count": 44,
   "metadata": {
    "dotnet_interactive": {
     "language": "csharp"
    },
    "vscode": {
     "languageId": "polyglot-notebook"
    }
   },
   "outputs": [
    {
     "data": {
      "text/html": [
       "<div class=\"dni-plaintext\"><pre>49</pre></div><style>\r\n",
       ".dni-code-hint {\r\n",
       "    font-style: italic;\r\n",
       "    overflow: hidden;\r\n",
       "    white-space: nowrap;\r\n",
       "}\r\n",
       ".dni-treeview {\r\n",
       "    white-space: nowrap;\r\n",
       "}\r\n",
       ".dni-treeview td {\r\n",
       "    vertical-align: top;\r\n",
       "    text-align: start;\r\n",
       "}\r\n",
       "details.dni-treeview {\r\n",
       "    padding-left: 1em;\r\n",
       "}\r\n",
       "table td {\r\n",
       "    text-align: start;\r\n",
       "}\r\n",
       "table tr { \r\n",
       "    vertical-align: top; \r\n",
       "    margin: 0em 0px;\r\n",
       "}\r\n",
       "table tr td pre \r\n",
       "{ \r\n",
       "    vertical-align: top !important; \r\n",
       "    margin: 0em 0px !important;\r\n",
       "} \r\n",
       "table th {\r\n",
       "    text-align: start;\r\n",
       "}\r\n",
       "</style>"
      ]
     },
     "metadata": {},
     "output_type": "display_data"
    }
   ],
   "source": [
    "p.I1"
   ]
  },
  {
   "cell_type": "code",
   "execution_count": 45,
   "metadata": {
    "dotnet_interactive": {
     "language": "csharp"
    },
    "vscode": {
     "languageId": "polyglot-notebook"
    }
   },
   "outputs": [],
   "source": [
    "p.I1 = 33;"
   ]
  },
  {
   "cell_type": "code",
   "execution_count": 46,
   "metadata": {
    "dotnet_interactive": {
     "language": "csharp"
    },
    "vscode": {
     "languageId": "polyglot-notebook"
    }
   },
   "outputs": [
    {
     "data": {
      "text/html": [
       "<div class=\"dni-plaintext\"><pre>33</pre></div><style>\r\n",
       ".dni-code-hint {\r\n",
       "    font-style: italic;\r\n",
       "    overflow: hidden;\r\n",
       "    white-space: nowrap;\r\n",
       "}\r\n",
       ".dni-treeview {\r\n",
       "    white-space: nowrap;\r\n",
       "}\r\n",
       ".dni-treeview td {\r\n",
       "    vertical-align: top;\r\n",
       "    text-align: start;\r\n",
       "}\r\n",
       "details.dni-treeview {\r\n",
       "    padding-left: 1em;\r\n",
       "}\r\n",
       "table td {\r\n",
       "    text-align: start;\r\n",
       "}\r\n",
       "table tr { \r\n",
       "    vertical-align: top; \r\n",
       "    margin: 0em 0px;\r\n",
       "}\r\n",
       "table tr td pre \r\n",
       "{ \r\n",
       "    vertical-align: top !important; \r\n",
       "    margin: 0em 0px !important;\r\n",
       "} \r\n",
       "table th {\r\n",
       "    text-align: start;\r\n",
       "}\r\n",
       "</style>"
      ]
     },
     "metadata": {},
     "output_type": "display_data"
    }
   ],
   "source": [
    "p.I1"
   ]
  },
  {
   "attachments": {},
   "cell_type": "markdown",
   "metadata": {},
   "source": [
    "\n",
    "## Static functions\n"
   ]
  },
  {
   "attachments": {},
   "cell_type": "markdown",
   "metadata": {},
   "source": [
    "So far, we always had to instantiate a class to execute its methods.\n",
    "Now think e.g. about mathematical functions, like the sinus. In \n",
    "languages like C or FORTRAN, one would just evaluate them as \n",
    "**sin(x)**. \n",
    "\n",
    "The designers of C\\# could have allowed functions like in \n",
    "C, but decided against it because it would compromise the object-oriented\n",
    "syntax. On the other hand, creating an object before one is able to \n",
    "evaluate a sinus function also seems over-complicated. \n",
    "The compromise \n",
    "are **static** functions:"
   ]
  },
  {
   "cell_type": "code",
   "execution_count": 47,
   "metadata": {
    "dotnet_interactive": {
     "language": "csharp"
    },
    "vscode": {
     "languageId": "polyglot-notebook"
    }
   },
   "outputs": [],
   "source": [
    "class StaticDemo {\n",
    "    // in addition to normal functions, static functions are decorated\n",
    "    // with the keyword static:\n",
    "    static public int Summation(int a, int b) {\n",
    "        return a + b;\n",
    "    }    \n",
    "}"
   ]
  },
  {
   "attachments": {},
   "cell_type": "markdown",
   "metadata": {},
   "source": [
    "Then, static functions can be involved without instantiating an object:"
   ]
  },
  {
   "cell_type": "code",
   "execution_count": 48,
   "metadata": {
    "dotnet_interactive": {
     "language": "csharp"
    },
    "vscode": {
     "languageId": "polyglot-notebook"
    }
   },
   "outputs": [
    {
     "data": {
      "text/html": [
       "<div class=\"dni-plaintext\"><pre>3</pre></div><style>\r\n",
       ".dni-code-hint {\r\n",
       "    font-style: italic;\r\n",
       "    overflow: hidden;\r\n",
       "    white-space: nowrap;\r\n",
       "}\r\n",
       ".dni-treeview {\r\n",
       "    white-space: nowrap;\r\n",
       "}\r\n",
       ".dni-treeview td {\r\n",
       "    vertical-align: top;\r\n",
       "    text-align: start;\r\n",
       "}\r\n",
       "details.dni-treeview {\r\n",
       "    padding-left: 1em;\r\n",
       "}\r\n",
       "table td {\r\n",
       "    text-align: start;\r\n",
       "}\r\n",
       "table tr { \r\n",
       "    vertical-align: top; \r\n",
       "    margin: 0em 0px;\r\n",
       "}\r\n",
       "table tr td pre \r\n",
       "{ \r\n",
       "    vertical-align: top !important; \r\n",
       "    margin: 0em 0px !important;\r\n",
       "} \r\n",
       "table th {\r\n",
       "    text-align: start;\r\n",
       "}\r\n",
       "</style>"
      ]
     },
     "metadata": {},
     "output_type": "display_data"
    }
   ],
   "source": [
    "StaticDemo.Summation(1, 2)"
   ]
  },
  {
   "attachments": {},
   "cell_type": "markdown",
   "metadata": {},
   "source": [
    "\n",
    "## Class libraries and Namespaces\n"
   ]
  },
  {
   "attachments": {},
   "cell_type": "markdown",
   "metadata": {},
   "source": [
    "Like most programming languages, C\\# also ships with an extensive \n",
    "programming library (class libraries), \n",
    "e.g. to read and save files, mathematical functions,\n",
    "graphical output; \n",
    "\n",
    "The full list of standard libraries can be found at [here](https://msdn.microsoft.com/en-us/library/gg145045(v=vs.110).aspx).\n",
    "\n",
    "These libraries are collections of classes; they are organized in \n",
    "**namespaces**."
   ]
  },
  {
   "attachments": {},
   "cell_type": "markdown",
   "metadata": {},
   "source": [
    "Any class within a loaded namespace can be accessed directly; e.g. the \n",
    "classes **Console** and **Math**, which are part of the \n",
    "**System** namespace:"
   ]
  },
  {
   "cell_type": "code",
   "execution_count": 49,
   "metadata": {
    "dotnet_interactive": {
     "language": "csharp"
    },
    "vscode": {
     "languageId": "polyglot-notebook"
    }
   },
   "outputs": [
    {
     "name": "stdout",
     "output_type": "stream",
     "text": [
      "Hello World!\r\n"
     ]
    }
   ],
   "source": [
    "Console.WriteLine(\"Hello World!\");"
   ]
  },
  {
   "attachments": {},
   "cell_type": "markdown",
   "metadata": {},
   "source": [
    "(By the way: the **Console** class, resp. the \n",
    "**Console.WriteLine** method is the preffered way to write \n",
    "text output (for non-windowed apps without graphical user interface).\n",
    "\n",
    "In **BoSSSpad**, it is very handy if one wants to write more information\n",
    "than just the last object in a snippet."
   ]
  },
  {
   "cell_type": "code",
   "execution_count": 50,
   "metadata": {
    "dotnet_interactive": {
     "language": "csharp"
    },
    "vscode": {
     "languageId": "polyglot-notebook"
    }
   },
   "outputs": [],
   "source": [
    "Math.Sin(2.0);"
   ]
  },
  {
   "attachments": {},
   "cell_type": "markdown",
   "metadata": {},
   "source": [
    "This is the same as calling the methods by their full \n",
    "**namespace path**:"
   ]
  },
  {
   "cell_type": "code",
   "execution_count": 51,
   "metadata": {
    "dotnet_interactive": {
     "language": "csharp"
    },
    "vscode": {
     "languageId": "polyglot-notebook"
    }
   },
   "outputs": [
    {
     "name": "stdout",
     "output_type": "stream",
     "text": [
      "Hello World!\r\n"
     ]
    }
   ],
   "source": [
    "System.Console.WriteLine(\"Hello World!\");"
   ]
  },
  {
   "cell_type": "code",
   "execution_count": 52,
   "metadata": {
    "dotnet_interactive": {
     "language": "csharp"
    },
    "vscode": {
     "languageId": "polyglot-notebook"
    }
   },
   "outputs": [],
   "source": [
    "System.Math.Sin(2.0);"
   ]
  },
  {
   "attachments": {},
   "cell_type": "markdown",
   "metadata": {},
   "source": [
    "If a namespace is not loaded, its classes must be accessed via their \n",
    "full path, e.g."
   ]
  },
  {
   "cell_type": "code",
   "execution_count": 53,
   "metadata": {
    "dotnet_interactive": {
     "language": "csharp"
    },
    "vscode": {
     "languageId": "polyglot-notebook"
    }
   },
   "outputs": [],
   "source": [
    "System.Collections.BitArray ba = new System.Collections.BitArray(3);"
   ]
  },
  {
   "attachments": {},
   "cell_type": "markdown",
   "metadata": {},
   "source": [
    "If we load the namespace by the **using** keyword, we can access the **BitArray** class directly:"
   ]
  },
  {
   "cell_type": "code",
   "execution_count": 54,
   "metadata": {
    "dotnet_interactive": {
     "language": "csharp"
    },
    "vscode": {
     "languageId": "polyglot-notebook"
    }
   },
   "outputs": [],
   "source": [
    "using System.Collections;"
   ]
  },
  {
   "cell_type": "code",
   "execution_count": 98,
   "metadata": {
    "dotnet_interactive": {
     "language": "csharp"
    },
    "vscode": {
     "languageId": "polyglot-notebook"
    }
   },
   "outputs": [
    {
     "data": {
      "text/html": [
       "<table><thead><tr><th><i>index</i></th><th>value</th></tr></thead><tbody><tr><td>0</td><td>False</td></tr><tr><td>1</td><td>False</td></tr><tr><td>2</td><td>False</td></tr></tbody></table><style>\r\n",
       ".dni-code-hint {\r\n",
       "    font-style: italic;\r\n",
       "    overflow: hidden;\r\n",
       "    white-space: nowrap;\r\n",
       "}\r\n",
       ".dni-treeview {\r\n",
       "    white-space: nowrap;\r\n",
       "}\r\n",
       ".dni-treeview td {\r\n",
       "    vertical-align: top;\r\n",
       "    text-align: start;\r\n",
       "}\r\n",
       "details.dni-treeview {\r\n",
       "    padding-left: 1em;\r\n",
       "}\r\n",
       "table td {\r\n",
       "    text-align: start;\r\n",
       "}\r\n",
       "table tr { \r\n",
       "    vertical-align: top; \r\n",
       "    margin: 0em 0px;\r\n",
       "}\r\n",
       "table tr td pre \r\n",
       "{ \r\n",
       "    vertical-align: top !important; \r\n",
       "    margin: 0em 0px !important;\r\n",
       "} \r\n",
       "table th {\r\n",
       "    text-align: start;\r\n",
       "}\r\n",
       "</style>"
      ]
     },
     "metadata": {},
     "output_type": "display_data"
    }
   ],
   "source": [
    "BitArray ba = new BitArray(3);\n"
   ]
  },
  {
   "attachments": {},
   "cell_type": "markdown",
   "metadata": {},
   "source": [
    "Note that, in order to work with a class library, \n",
    "it may not be enough to just add a using directive.\n",
    "All libraries are contained in **dll** files, e.g. \n",
    "**System.dll** (standard C\\# library) or **BoSSS.Foundation.dll**\n",
    "(part of **BoSSS**).\n",
    "\n",
    "These files must be loaded before any class from the library can be used.\n",
    "(Namespaces are only for the internal organization of the library.)\n",
    "Initially, **BoSSSpad** loads a set of libraries which are useful for working\n",
    "with **BoSSS**. \n",
    "\n",
    "For most use-cases, this set may be sufficient; however,\n",
    "not that by the **Mono.CSharp.InteractiveBase.LoadAssembly(string)** method, \n",
    "it is possible to load further assemblies."
   ]
  },
  {
   "attachments": {},
   "cell_type": "markdown",
   "metadata": {},
   "source": [
    "\n",
    "## Control Flow\n"
   ]
  },
  {
   "attachments": {},
   "cell_type": "markdown",
   "metadata": {},
   "source": [
    "Regarding the standard syntax of the language for implementing \n",
    "a function, C\\# designers tried to stay close to popular\n",
    "existing languages like C, C++ and Java.\n",
    "\n",
    "In this tutorial, we briefly discuss two control structures, branches\n",
    "and loops. At first, the **if**-branch;\n",
    "\n",
    "We use a random number generator create random input data for our \n",
    "example. Therefore, the following snippet runs differently each time\n",
    "it is executed:"
   ]
  },
  {
   "cell_type": "code",
   "execution_count": 101,
   "metadata": {
    "dotnet_interactive": {
     "language": "csharp"
    },
    "vscode": {
     "languageId": "polyglot-notebook"
    }
   },
   "outputs": [
    {
     "name": "stdout",
     "output_type": "stream",
     "text": [
      "Random number is 0.048169095537680895\n",
      "smaller or equal to 1/2\n"
     ]
    }
   ],
   "source": [
    "Random rnd       = new Random(); // Generate new random number generator object\n",
    "double randomVal = rnd.NextDouble();\n",
    "Console.WriteLine(\"Random number is \" + randomVal);\n",
    " \n",
    "// here, the if-clause\n",
    "if(randomVal > 0.5) { // some condition, which is ether true or false\n",
    "    // Code that will be executed when the condition is true\n",
    "    Console.WriteLine(\"greater than 1/2\");    \n",
    "} else {\n",
    "    // Code that will be executed when the condition is false\n",
    "    Console.WriteLine(\"smaller or equal to 1/2\");  \n",
    "}"
   ]
  },
  {
   "attachments": {},
   "cell_type": "markdown",
   "metadata": {},
   "source": [
    "Next, the **for**-loop. It has three `Arguments':\n",
    "\n",
    "- An initialization code (**int j = 0**): executed **before** the \n",
    "loop starts.\n",
    "\n",
    "- A runtime condition (**j < J**): this is checked **before** each \n",
    "iteration of the loop; if it is false, the loop terminates.\n",
    "\n",
    "- An increment statement (**j++**): this is executed **after** each\n",
    "iteration of the loop and usually used to increase or decrease some \n",
    "variables value.\n"
   ]
  },
  {
   "cell_type": "code",
   "execution_count": 57,
   "metadata": {
    "dotnet_interactive": {
     "language": "csharp"
    },
    "vscode": {
     "languageId": "polyglot-notebook"
    }
   },
   "outputs": [
    {
     "name": "stdout",
     "output_type": "stream",
     "text": [
      "The sinus of 0 is 0\n",
      "The sinus of 1 is 0.8414709848078965\n",
      "The sinus of 2 is 0.9092974268256817\n",
      "The sinus of 3 is 0.1411200080598672\n",
      "The sinus of 4 is -0.7568024953079282\n",
      "The sinus of 5 is -0.9589242746631385\n",
      "The sinus of 6 is -0.27941549819892586\n"
     ]
    }
   ],
   "source": [
    "int J = 7;\n",
    "for(int j = 0; j < J; j++) {\n",
    "    // code which is executed repeatedly \n",
    "    double s = Math.Sin(j);\n",
    "    Console.WriteLine(\"The sinus of \" + j + \" is \" + s);\n",
    "}"
   ]
  },
  {
   "attachments": {},
   "cell_type": "markdown",
   "metadata": {},
   "source": [
    "Another kind of loops is the **foreach** statement. It executes\n",
    "the loop body for each element of a list or array:"
   ]
  },
  {
   "cell_type": "code",
   "execution_count": 58,
   "metadata": {
    "dotnet_interactive": {
     "language": "csharp"
    },
    "vscode": {
     "languageId": "polyglot-notebook"
    }
   },
   "outputs": [
    {
     "name": "stdout",
     "output_type": "stream",
     "text": [
      "The sinus of 1.2 is 0.9320390859672263\n",
      "The sinus of -3.4 is 0.2555411020268312\n",
      "The sinus of 7.3 is 0.8504366206285644\n",
      "The sinus of 3.1 is 0.04158066243329049\n",
      "The sinus of 3.14 is 0.0015926529164868282\n"
     ]
    }
   ],
   "source": [
    "double[] SomeValues = new double[] { 1.2, -3.4, 7.3, 3.1, 3.14 };\n",
    "foreach(double x in SomeValues) {\n",
    "    double s = Math.Sin(x);\n",
    "    Console.WriteLine(\"The sinus of \" + x + \" is \" + s);\n",
    "}"
   ]
  },
  {
   "attachments": {},
   "cell_type": "markdown",
   "metadata": {},
   "source": [
    "\n",
    "## Functions, Methods and Delegates\n",
    "\n",
    "In its heart, C\\# is an object-oriented programming language, and \n",
    "methods are implemented in a imperative style. However, the designers\n",
    "also included concepts from the functional programming model.\n",
    "\n",
    "A key idea of functional programming is that functions/methods can be \n",
    "treated as variables; such variables are called **delegates**.\n",
    "\n",
    "In order to demonstrate the use of delegates, we create a class with \n",
    "some static methods:\n"
   ]
  },
  {
   "cell_type": "code",
   "execution_count": 59,
   "metadata": {
    "dotnet_interactive": {
     "language": "csharp"
    },
    "vscode": {
     "languageId": "polyglot-notebook"
    }
   },
   "outputs": [],
   "source": [
    "class DelDemo {\n",
    "    public static double Pow2(int x, float z) {\n",
    "        return x*x*z;\n",
    "    }\n",
    "    public static void Print(int x, double y) {\n",
    "        Console.Write(\"Got the numbers \" + x + \" and \" + y + \".\");\n",
    "    }    \n",
    "}"
   ]
  },
  {
   "attachments": {},
   "cell_type": "markdown",
   "metadata": {},
   "source": [
    " Now, we want to create variables/delegates which **point** to the \n",
    " functions/methods defined above. As for any variable declaration, we \n",
    " need to specify type and name.\n",
    " For functions which have a return type, it works like this:\n",
    "Note: the last type in the '< >' - List:\n",
    "* first, all arguments of the function\n",
    "* finally, the return type "
   ]
  },
  {
   "cell_type": "code",
   "execution_count": 60,
   "metadata": {
    "dotnet_interactive": {
     "language": "csharp"
    },
    "vscode": {
     "languageId": "polyglot-notebook"
    }
   },
   "outputs": [],
   "source": [
    "\n",
    "Func<int,float,double> delPow2 = DelDemo.Pow2;"
   ]
  },
  {
   "attachments": {},
   "cell_type": "markdown",
   "metadata": {},
   "source": [
    "Then, the method can be called via the delegate:\n",
    "Note: the 'f'-suffix is for single precision types; this also shows round-of\n",
    "errors of floating point arithmetics "
   ]
  },
  {
   "cell_type": "code",
   "execution_count": 61,
   "metadata": {
    "dotnet_interactive": {
     "language": "csharp"
    },
    "vscode": {
     "languageId": "polyglot-notebook"
    }
   },
   "outputs": [
    {
     "data": {
      "text/html": [
       "<div class=\"dni-plaintext\"><pre>4.400000095367432</pre></div><style>\r\n",
       ".dni-code-hint {\r\n",
       "    font-style: italic;\r\n",
       "    overflow: hidden;\r\n",
       "    white-space: nowrap;\r\n",
       "}\r\n",
       ".dni-treeview {\r\n",
       "    white-space: nowrap;\r\n",
       "}\r\n",
       ".dni-treeview td {\r\n",
       "    vertical-align: top;\r\n",
       "    text-align: start;\r\n",
       "}\r\n",
       "details.dni-treeview {\r\n",
       "    padding-left: 1em;\r\n",
       "}\r\n",
       "table td {\r\n",
       "    text-align: start;\r\n",
       "}\r\n",
       "table tr { \r\n",
       "    vertical-align: top; \r\n",
       "    margin: 0em 0px;\r\n",
       "}\r\n",
       "table tr td pre \r\n",
       "{ \r\n",
       "    vertical-align: top !important; \r\n",
       "    margin: 0em 0px !important;\r\n",
       "} \r\n",
       "table th {\r\n",
       "    text-align: start;\r\n",
       "}\r\n",
       "</style>"
      ]
     },
     "metadata": {},
     "output_type": "display_data"
    }
   ],
   "source": [
    "\n",
    "delPow2(2, 1.1f)"
   ]
  },
  {
   "attachments": {},
   "cell_type": "markdown",
   "metadata": {},
   "source": [
    "Functions without a return type (void) are also called **actions**:"
   ]
  },
  {
   "cell_type": "code",
   "execution_count": 104,
   "metadata": {
    "dotnet_interactive": {
     "language": "csharp"
    },
    "vscode": {
     "languageId": "polyglot-notebook"
    }
   },
   "outputs": [
    {
     "name": "stdout",
     "output_type": "stream",
     "text": [
      "Got the numbers 2 and 1.100000023841858."
     ]
    }
   ],
   "source": [
    "Action<int,double> a = DelDemo.Print;\n",
    "a(2,1.1f)"
   ]
  },
  {
   "cell_type": "code",
   "execution_count": 63,
   "metadata": {
    "dotnet_interactive": {
     "language": "csharp"
    },
    "vscode": {
     "languageId": "polyglot-notebook"
    }
   },
   "outputs": [
    {
     "name": "stdout",
     "output_type": "stream",
     "text": [
      "Got the numbers 1 and 1.2."
     ]
    }
   ],
   "source": [
    "a(1,1.2)"
   ]
  },
  {
   "attachments": {},
   "cell_type": "markdown",
   "metadata": {},
   "source": [
    "By the keyword **delagate**, C\\# designers finally (in the C\\# version \n",
    "3.0) reversed their original decision that functions are only allowed \n",
    "within classes by the introduction of anonymous functions:"
   ]
  },
  {
   "cell_type": "code",
   "execution_count": 64,
   "metadata": {
    "dotnet_interactive": {
     "language": "csharp"
    },
    "vscode": {
     "languageId": "polyglot-notebook"
    }
   },
   "outputs": [],
   "source": [
    "delPow2 = delegate(int x, float z) {\n",
    "    double retval;\n",
    "    retval = x*x*z*2.0;\n",
    "    return retval;\n",
    "};"
   ]
  },
  {
   "attachments": {},
   "cell_type": "markdown",
   "metadata": {},
   "source": [
    "Now, the variable **delPow2** does not anymore point to the method \n",
    "**DelDemo.Pow2**, but to the newly defined, anonymous function:"
   ]
  },
  {
   "cell_type": "code",
   "execution_count": 65,
   "metadata": {
    "dotnet_interactive": {
     "language": "csharp"
    },
    "vscode": {
     "languageId": "polyglot-notebook"
    }
   },
   "outputs": [],
   "source": [
    "delPow2(2, 1.1f);"
   ]
  },
  {
   "attachments": {},
   "cell_type": "markdown",
   "metadata": {},
   "source": [
    "To make notation more compact, a function-like syntax was introduced:"
   ]
  },
  {
   "cell_type": "code",
   "execution_count": 66,
   "metadata": {
    "dotnet_interactive": {
     "language": "csharp"
    },
    "vscode": {
     "languageId": "polyglot-notebook"
    }
   },
   "outputs": [],
   "source": [
    "delPow2 = (x, z) => x*x*z*4.0;"
   ]
  },
  {
   "cell_type": "code",
   "execution_count": 67,
   "metadata": {
    "dotnet_interactive": {
     "language": "csharp"
    },
    "vscode": {
     "languageId": "polyglot-notebook"
    }
   },
   "outputs": [
    {
     "data": {
      "text/html": [
       "<div class=\"dni-plaintext\"><pre>17.600000381469727</pre></div><style>\r\n",
       ".dni-code-hint {\r\n",
       "    font-style: italic;\r\n",
       "    overflow: hidden;\r\n",
       "    white-space: nowrap;\r\n",
       "}\r\n",
       ".dni-treeview {\r\n",
       "    white-space: nowrap;\r\n",
       "}\r\n",
       ".dni-treeview td {\r\n",
       "    vertical-align: top;\r\n",
       "    text-align: start;\r\n",
       "}\r\n",
       "details.dni-treeview {\r\n",
       "    padding-left: 1em;\r\n",
       "}\r\n",
       "table td {\r\n",
       "    text-align: start;\r\n",
       "}\r\n",
       "table tr { \r\n",
       "    vertical-align: top; \r\n",
       "    margin: 0em 0px;\r\n",
       "}\r\n",
       "table tr td pre \r\n",
       "{ \r\n",
       "    vertical-align: top !important; \r\n",
       "    margin: 0em 0px !important;\r\n",
       "} \r\n",
       "table th {\r\n",
       "    text-align: start;\r\n",
       "}\r\n",
       "</style>"
      ]
     },
     "metadata": {},
     "output_type": "display_data"
    }
   ],
   "source": [
    "delPow2(2, 1.1f)"
   ]
  },
  {
   "attachments": {},
   "cell_type": "markdown",
   "metadata": {},
   "source": [
    "Since delegates can be treated as normal variables, they can also be used\n",
    "as arguments to other functions; here is a more advanced example,\n",
    "an action (no return value) which takes as inputs \n",
    "another action, a function and an integer value:"
   ]
  },
  {
   "cell_type": "code",
   "execution_count": 68,
   "metadata": {
    "dotnet_interactive": {
     "language": "csharp"
    },
    "vscode": {
     "languageId": "polyglot-notebook"
    }
   },
   "outputs": [],
   "source": [
    "Action<Action<int,double>,Func<int,float,double>,int> apply = \n",
    "    delegate(Action<int,double> act, Func<int,float,double> fun, int i) {\n",
    "        float f = 1.0f;\n",
    " \n",
    "        double y = fun(i, f); // apply function 'fun' to argument 'i'\n",
    "        act(i, y);            // hand both numbers to action 'act'\n",
    " \n",
    "        return; \n",
    "    };"
   ]
  },
  {
   "cell_type": "code",
   "execution_count": 69,
   "metadata": {
    "dotnet_interactive": {
     "language": "csharp"
    },
    "vscode": {
     "languageId": "polyglot-notebook"
    }
   },
   "outputs": [
    {
     "name": "stdout",
     "output_type": "stream",
     "text": [
      "Got the numbers 2 and 16."
     ]
    }
   ],
   "source": [
    "apply(a,delPow2,2);"
   ]
  },
  {
   "attachments": {},
   "cell_type": "markdown",
   "metadata": {},
   "source": [
    "\n",
    "## Inheritance\n"
   ]
  },
  {
   "attachments": {},
   "cell_type": "markdown",
   "metadata": {},
   "source": [
    "As already discussed, classes are blueprints for objects: once a class\n",
    "is implemented, it can be used to create an infinite number of \n",
    "objects. Of course, only until the computers memory is full.\n",
    "\n",
    "The model of a single blueprint is, however, sometimes a bit inflexible.\n",
    "Engineers knew this for a long time: in a group of products, you \n",
    "may have two products that have a lot in common, but also significant\n",
    "differences regarding some functionality.\n",
    "\n",
    "Object oriented programming languages provide the concept of inheritance:\n",
    "Common functionality is implemented in a common base class."
   ]
  },
  {
   "attachments": {},
   "cell_type": "markdown",
   "metadata": {},
   "source": [
    "First we define some class; functions or properties which are decorated\n",
    "as **virtual**"
   ]
  },
  {
   "cell_type": "code",
   "execution_count": 70,
   "metadata": {
    "dotnet_interactive": {
     "language": "csharp"
    },
    "vscode": {
     "languageId": "polyglot-notebook"
    }
   },
   "outputs": [],
   "source": [
    "class BaseClass {\n",
    "    public int num;     \n",
    " \n",
    "    // this is a normal method, which will be accessible form \n",
    "    // any derived class\n",
    "    public void Method1() {\n",
    "        Console.WriteLine(\"BaseClass: Hello from Method1, num is \" + num);    \n",
    "    }\n",
    " \n",
    "    // this is a virtual method, its functionality can be overriden in derived\n",
    "    // classes\n",
    "    public virtual void VirtMeth(int i) {\n",
    "        Console.WriteLine(\"BaseClass: VirtMethod, i is \" + i);\n",
    "    }\n",
    "}"
   ]
  },
  {
   "attachments": {},
   "cell_type": "markdown",
   "metadata": {},
   "source": [
    "Now, we derive two classes from **BaseClass**:"
   ]
  },
  {
   "cell_type": "code",
   "execution_count": 71,
   "metadata": {
    "dotnet_interactive": {
     "language": "csharp"
    },
    "vscode": {
     "languageId": "polyglot-notebook"
    }
   },
   "outputs": [],
   "source": [
    "class DerivA : BaseClass { // indicates that thes class is derived \n",
    "                           // from 'BaseClass'\n",
    " \n",
    "    // We can add new members:\n",
    "    public double SomeVal;\n",
    " \n",
    "    // a private member:\n",
    "    Random rnd = new Random();\n",
    " \n",
    "    // And override functionality from the base class\n",
    "    public override void VirtMeth(int i) {\n",
    "        SomeVal = rnd.NextDouble() + i;\n",
    "        Console.WriteLine(\"DerivA: VirtMethod, random value is \" + SomeVal);     \n",
    "    }\n",
    "}"
   ]
  },
  {
   "cell_type": "code",
   "execution_count": 72,
   "metadata": {
    "dotnet_interactive": {
     "language": "csharp"
    },
    "vscode": {
     "languageId": "polyglot-notebook"
    }
   },
   "outputs": [],
   "source": [
    "class DerivB : BaseClass {\n",
    " \n",
    "    // Again, some override:\n",
    "    public override void VirtMeth(int i) {\n",
    "        num += i; // we can modify members of the base class\n",
    "        Console.WriteLine(\"DerivB: VirtMethod, num is \" + num);     \n",
    "    }\n",
    "}"
   ]
  },
  {
   "attachments": {},
   "cell_type": "markdown",
   "metadata": {},
   "source": [
    "As usual, we can instantiate and use **BaseClass**:"
   ]
  },
  {
   "cell_type": "code",
   "execution_count": 73,
   "metadata": {
    "dotnet_interactive": {
     "language": "csharp"
    },
    "vscode": {
     "languageId": "polyglot-notebook"
    }
   },
   "outputs": [
    {
     "name": "stdout",
     "output_type": "stream",
     "text": [
      "BaseClass: Hello from Method1, num is 0\n",
      "BaseClass: VirtMethod, i is 1\n"
     ]
    }
   ],
   "source": [
    "BaseClass b = new BaseClass();\n",
    "b.Method1();\n",
    "b.VirtMeth(1); // calls base implementation"
   ]
  },
  {
   "attachments": {},
   "cell_type": "markdown",
   "metadata": {},
   "source": [
    "Of course, we can do the same with **DerivA**; since it is derived from\n",
    "**BaseClass**, an object of type **DerivA** can be stored in\n",
    "(resp. referenced from) a variable of type **BaseClass**. \n",
    "\n",
    "In short, any **DerivA**-object is autamtically also \n",
    "a **BaseClass**-object, due to inhertance (but not the other way)."
   ]
  },
  {
   "cell_type": "code",
   "execution_count": 74,
   "metadata": {
    "dotnet_interactive": {
     "language": "csharp"
    },
    "vscode": {
     "languageId": "polyglot-notebook"
    }
   },
   "outputs": [
    {
     "name": "stdout",
     "output_type": "stream",
     "text": [
      "BaseClass: Hello from Method1, num is 0\n",
      "DerivA: VirtMethod, random value is 1.8215126498099508\n"
     ]
    }
   ],
   "source": [
    "BaseClass b = new DerivA(); // we instantiate an object of type 'DerivA'\n",
    "                            // but the variable is of type 'BaseClass'.\n",
    "b.Method1();   // non-overridden functionality: from base implementation\n",
    "b.VirtMeth(1); // calls override implementation"
   ]
  },
  {
   "attachments": {},
   "cell_type": "markdown",
   "metadata": {},
   "source": [
    "We can also store **DerivB**-objects in variable **b**:"
   ]
  },
  {
   "cell_type": "code",
   "execution_count": 75,
   "metadata": {
    "dotnet_interactive": {
     "language": "csharp"
    },
    "vscode": {
     "languageId": "polyglot-notebook"
    }
   },
   "outputs": [
    {
     "name": "stdout",
     "output_type": "stream",
     "text": [
      "BaseClass: Hello from Method1, num is 0\n",
      "DerivB: VirtMethod, num is 1\n",
      "DerivB: VirtMethod, num is 2\n"
     ]
    }
   ],
   "source": [
    "b = new DerivB();\n",
    "b.Method1();\n",
    "b.VirtMeth(1); // 'DerivB.VirtMeth' modifies the internal state of the object,\n",
    "b.VirtMeth(1); // so the result is different for each call"
   ]
  },
  {
   "attachments": {},
   "cell_type": "markdown",
   "metadata": {},
   "source": [
    "Note: implicitly, all classes in C\\# are derived vom the class \n",
    "**ystem.Object**, and has all the methods of this class."
   ]
  },
  {
   "cell_type": "code",
   "execution_count": 76,
   "metadata": {
    "dotnet_interactive": {
     "language": "csharp"
    },
    "vscode": {
     "languageId": "polyglot-notebook"
    }
   },
   "outputs": [
    {
     "data": {
      "text/plain": [
       "Submission#71+BaseClass"
      ]
     },
     "metadata": {},
     "output_type": "display_data"
    }
   ],
   "source": [
    "object o; // The 'object' keyword is a build-in alias for 'System.Object'\n",
    "o = new BaseClass();\n",
    "o.ToString()  // 'ToString' is a virtual method of 'System.Object', which,\n",
    "              // if not overriden only retunrs the name of the class"
   ]
  },
  {
   "attachments": {},
   "cell_type": "markdown",
   "metadata": {},
   "source": [
    "## Abstract Classes\n"
   ]
  },
  {
   "attachments": {},
   "cell_type": "markdown",
   "metadata": {},
   "source": [
    "In lots of situations, there is no reasonable base-implementation for\n",
    "a method."
   ]
  },
  {
   "cell_type": "code",
   "execution_count": 77,
   "metadata": {
    "dotnet_interactive": {
     "language": "csharp"
    },
    "vscode": {
     "languageId": "polyglot-notebook"
    }
   },
   "outputs": [],
   "source": [
    "abstract class AbstractBase { // if the class conatains any abstract member,\n",
    "                              // it must be declared as abstract.\n",
    " \n",
    "    public int num;     \n",
    " \n",
    "    // like above, a normal method:\n",
    "    public void Method1() {\n",
    "        Console.WriteLine(\"AbstractBase: Hello from Method1, num is \" + num);    \n",
    "    }\n",
    " \n",
    "    // this is an abstract method, for which only the \n",
    "    // signature (return value, arguments, etc.) is specified, but no \n",
    "    // implementation is given:\n",
    "    public abstract void VirtMeth(int i);\n",
    "}"
   ]
  },
  {
   "attachments": {},
   "cell_type": "markdown",
   "metadata": {},
   "source": [
    "Note:\n",
    "- Virtual methods can be overridden, i.e. the override is optional\n",
    "\n",
    "- Abstract methods **must** be overridden\n",
    "\n",
    "- Abstract classes cannot be instantiated, since functionality is missing\n",
    "\n",
    "- Abstract classes can be used as a variable type\n"
   ]
  },
  {
   "cell_type": "code",
   "execution_count": 78,
   "metadata": {
    "dotnet_interactive": {
     "language": "csharp"
    },
    "vscode": {
     "languageId": "polyglot-notebook"
    }
   },
   "outputs": [],
   "source": [
    "class DerivC : AbstractBase {\n",
    "    // we are enforced to override the base method\n",
    "    public override void VirtMeth(int i) {\n",
    "        Console.WriteLine(\"DerivC: VirtMeth, i is \" + i);    \n",
    "    }\n",
    "}"
   ]
  },
  {
   "cell_type": "code",
   "execution_count": 79,
   "metadata": {
    "dotnet_interactive": {
     "language": "csharp"
    },
    "vscode": {
     "languageId": "polyglot-notebook"
    }
   },
   "outputs": [
    {
     "name": "stdout",
     "output_type": "stream",
     "text": [
      "DerivC: VirtMeth, i is 2\r\n"
     ]
    }
   ],
   "source": [
    "AbstractBase a;   // use 'AbstractBase' as a variable type\n",
    "a = new DerivC(); // instantiate a 'DerivC' object, store it in 'a'\n",
    "a.VirtMeth(2);    // call the objects methods"
   ]
  },
  {
   "attachments": {},
   "cell_type": "markdown",
   "metadata": {},
   "source": [
    "\n",
    "## Interfaces\n"
   ]
  },
  {
   "attachments": {},
   "cell_type": "markdown",
   "metadata": {},
   "source": [
    "When we finish the concept of abstract classes, we come to classes that \n",
    "**only** have abstract members. These are called **interfaces**\n",
    "and C\\# has a special keyword for them:"
   ]
  },
  {
   "cell_type": "code",
   "execution_count": 80,
   "metadata": {
    "dotnet_interactive": {
     "language": "csharp"
    },
    "vscode": {
     "languageId": "polyglot-notebook"
    }
   },
   "outputs": [],
   "source": [
    "interface IMethodsInterface {\n",
    "    void MethodA(); // methods in an interface are always public and need   \n",
    "    void MethodB(); // no modifier.\n",
    "    public void MethodC() {\n",
    "        Console.WriteLine(\"DerivD: MethodA\");\n",
    "    }\n",
    "}"
   ]
  },
  {
   "cell_type": "code",
   "execution_count": 81,
   "metadata": {
    "dotnet_interactive": {
     "language": "csharp"
    },
    "vscode": {
     "languageId": "polyglot-notebook"
    }
   },
   "outputs": [],
   "source": [
    "interface IPropertyInterface {\n",
    "    int Property { get; set; }    \n",
    "}"
   ]
  },
  {
   "attachments": {},
   "cell_type": "markdown",
   "metadata": {},
   "source": [
    "### Note:\n",
    "there is a widly used convention to start interface names with \n",
    "capital letter `I'. This is only a convention, not a rule.\n",
    "\n",
    "An important difference between classes and interfaces is, that\n",
    "any class can have **only one base-class**, but it can implement\n",
    "an **unlimited number of interfaces**:"
   ]
  },
  {
   "cell_type": "code",
   "execution_count": 82,
   "metadata": {
    "dotnet_interactive": {
     "language": "csharp"
    },
    "vscode": {
     "languageId": "polyglot-notebook"
    }
   },
   "outputs": [],
   "source": [
    "class DerivD : AbstractBase, IMethodsInterface, IPropertyInterface {\n",
    "    // form 'AbstractBase'\n",
    "    public override void VirtMeth(int i) {\n",
    "        Console.WriteLine(\"DerivD: VirtMeth, i is \" + i);    \n",
    "    }\n",
    " \n",
    "    // from 'IMethodsInterface'\n",
    "    public void MethodA() {\n",
    "        Console.WriteLine(\"DerivD: MethodA\");\n",
    "    }\n",
    "    public void MethodB() {\n",
    "        Console.WriteLine(\"DerivD: MethodB\");\n",
    "    }\n",
    " \n",
    "    // form 'IPropertyInterface'\n",
    "    public int Property { \n",
    "        get { \n",
    "            Console.WriteLine(\"This is the get property.\");\n",
    "            return num;  \n",
    "        } \n",
    "        set { num = value; }\n",
    "    }\n",
    "}"
   ]
  },
  {
   "cell_type": "code",
   "execution_count": 83,
   "metadata": {
    "dotnet_interactive": {
     "language": "csharp"
    },
    "vscode": {
     "languageId": "polyglot-notebook"
    }
   },
   "outputs": [],
   "source": []
  },
  {
   "attachments": {},
   "cell_type": "markdown",
   "metadata": {},
   "source": [
    "Of course, we can instantiate **DerivD** and call any method or \n",
    "property:"
   ]
  },
  {
   "cell_type": "code",
   "execution_count": 84,
   "metadata": {
    "dotnet_interactive": {
     "language": "csharp"
    },
    "vscode": {
     "languageId": "polyglot-notebook"
    }
   },
   "outputs": [
    {
     "name": "stdout",
     "output_type": "stream",
     "text": [
      "DerivD: VirtMeth, i is 1\n",
      "DerivD: MethodB\n"
     ]
    }
   ],
   "source": [
    "DerivD d = new DerivD();\n",
    "d.VirtMeth(1);\n",
    "d.MethodB();"
   ]
  },
  {
   "attachments": {},
   "cell_type": "markdown",
   "metadata": {},
   "source": [
    "But we can also store the object in references with the interface type:"
   ]
  },
  {
   "cell_type": "code",
   "execution_count": 85,
   "metadata": {
    "dotnet_interactive": {
     "language": "csharp"
    },
    "vscode": {
     "languageId": "polyglot-notebook"
    }
   },
   "outputs": [
    {
     "name": "stdout",
     "output_type": "stream",
     "text": [
      "DerivD: MethodA\n",
      "DerivD: MethodB\n"
     ]
    }
   ],
   "source": [
    "IMethodsInterface imd = new DerivD();\n",
    "imd.MethodA();\n",
    "imd.MethodB();"
   ]
  },
  {
   "cell_type": "code",
   "execution_count": 86,
   "metadata": {
    "dotnet_interactive": {
     "language": "csharp"
    },
    "vscode": {
     "languageId": "polyglot-notebook"
    }
   },
   "outputs": [
    {
     "name": "stdout",
     "output_type": "stream",
     "text": [
      "This is the get property.\r\n"
     ]
    },
    {
     "data": {
      "text/html": [
       "<div class=\"dni-plaintext\"><pre>44</pre></div><style>\r\n",
       ".dni-code-hint {\r\n",
       "    font-style: italic;\r\n",
       "    overflow: hidden;\r\n",
       "    white-space: nowrap;\r\n",
       "}\r\n",
       ".dni-treeview {\r\n",
       "    white-space: nowrap;\r\n",
       "}\r\n",
       ".dni-treeview td {\r\n",
       "    vertical-align: top;\r\n",
       "    text-align: start;\r\n",
       "}\r\n",
       "details.dni-treeview {\r\n",
       "    padding-left: 1em;\r\n",
       "}\r\n",
       "table td {\r\n",
       "    text-align: start;\r\n",
       "}\r\n",
       "table tr { \r\n",
       "    vertical-align: top; \r\n",
       "    margin: 0em 0px;\r\n",
       "}\r\n",
       "table tr td pre \r\n",
       "{ \r\n",
       "    vertical-align: top !important; \r\n",
       "    margin: 0em 0px !important;\r\n",
       "} \r\n",
       "table th {\r\n",
       "    text-align: start;\r\n",
       "}\r\n",
       "</style>"
      ]
     },
     "metadata": {},
     "output_type": "display_data"
    }
   ],
   "source": [
    "IPropertyInterface ipd = new DerivD();\n",
    "ipd.Property           = 44;\n",
    "ipd.Property"
   ]
  },
  {
   "attachments": {},
   "cell_type": "markdown",
   "metadata": {},
   "source": [
    "The execution model of **BoSSSpad**"
   ]
  },
  {
   "attachments": {},
   "cell_type": "markdown",
   "metadata": {},
   "source": [
    "The term which describes the execution model of **BoSSSpad** best is \n",
    "called **read-eval-print-loop (REPL)**:\n",
    "commands are read from the input window, evaluated by the interpreter,\n",
    "the result is printed to the screen and this is repeated in an infinite \n",
    "loop (until the app is terminated).\n",
    "\n",
    "Each time a command is executed, the internal state of the interpreter\n",
    "is changed. E.g. new variables or classes are defined. If a variable or  \n",
    "class name is already used, it will be overwritten. The special command\n",
    "**restart** resets the interpreter to an initial state.\n",
    "\n",
    "On top of that, **BoSSSpad** puts a document model:\n",
    "the user can navigate backward and re-execute any command; this may or \n",
    "may not change the behavior of the entire script. A simple example is:"
   ]
  },
  {
   "attachments": {},
   "cell_type": "markdown",
   "metadata": {},
   "source": [
    "We are defining an **int** variable:"
   ]
  },
  {
   "cell_type": "code",
   "execution_count": 87,
   "metadata": {
    "dotnet_interactive": {
     "language": "csharp"
    },
    "vscode": {
     "languageId": "polyglot-notebook"
    }
   },
   "outputs": [],
   "source": [
    "int i = 9;           // int-definition"
   ]
  },
  {
   "attachments": {},
   "cell_type": "markdown",
   "metadata": {},
   "source": [
    "Next, we overwrite the name **i** with an new variable"
   ]
  },
  {
   "cell_type": "code",
   "execution_count": 88,
   "metadata": {
    "dotnet_interactive": {
     "language": "csharp"
    },
    "vscode": {
     "languageId": "polyglot-notebook"
    }
   },
   "outputs": [],
   "source": [
    "double i = 1.1;      // double-definition"
   ]
  },
  {
   "attachments": {},
   "cell_type": "markdown",
   "metadata": {},
   "source": [
    "And execute some code which depends on **i**, e.g.:"
   ]
  },
  {
   "attachments": {},
   "cell_type": "markdown",
   "metadata": {},
   "source": [
    "Obviously, if we would navigate back to the \n",
    "**int-definition**-statement, re-execute it, but skip the execution\n",
    "of the **double-definition** statement, the following statement \n",
    "will behave differently:"
   ]
  },
  {
   "cell_type": "code",
   "execution_count": 89,
   "metadata": {
    "dotnet_interactive": {
     "language": "csharp"
    },
    "vscode": {
     "languageId": "polyglot-notebook"
    }
   },
   "outputs": [
    {
     "data": {
      "text/html": [
       "<div class=\"dni-plaintext\"><pre>0.4535961214255773</pre></div><style>\r\n",
       ".dni-code-hint {\r\n",
       "    font-style: italic;\r\n",
       "    overflow: hidden;\r\n",
       "    white-space: nowrap;\r\n",
       "}\r\n",
       ".dni-treeview {\r\n",
       "    white-space: nowrap;\r\n",
       "}\r\n",
       ".dni-treeview td {\r\n",
       "    vertical-align: top;\r\n",
       "    text-align: start;\r\n",
       "}\r\n",
       "details.dni-treeview {\r\n",
       "    padding-left: 1em;\r\n",
       "}\r\n",
       "table td {\r\n",
       "    text-align: start;\r\n",
       "}\r\n",
       "table tr { \r\n",
       "    vertical-align: top; \r\n",
       "    margin: 0em 0px;\r\n",
       "}\r\n",
       "table tr td pre \r\n",
       "{ \r\n",
       "    vertical-align: top !important; \r\n",
       "    margin: 0em 0px !important;\r\n",
       "} \r\n",
       "table th {\r\n",
       "    text-align: start;\r\n",
       "}\r\n",
       "</style>"
      ]
     },
     "metadata": {},
     "output_type": "display_data"
    }
   ],
   "source": [
    "Math.Cos(i)         // depends on last 'i'"
   ]
  },
  {
   "attachments": {},
   "cell_type": "markdown",
   "metadata": {},
   "source": [
    "As we see,...\n",
    "\n",
    "- the result of a snippet depends on the sequence of previously \n",
    "**executed** snippets\n",
    "- navigation within the worksheet \\emph{alters the sequence} in which \n",
    "snippets are executed -- this may have side-effects.\n",
    "\n",
    "This behavior might seem confusing (and very often, it is). However, \n",
    "it is desired because it speeds up the workflow, because it allows to \n",
    "alter or correct a script, without (time-consuming) re-evaluation\n",
    "of the entire script.\n",
    "As a rule of thumb, take this:\n",
    "\n",
    "- If we want to alter a snippet above, we only need to re-execute everything\n",
    "which depends on this snippet. The dependent snippets must be identified \n",
    "by the user, which is a good coding exercise.\n",
    "- A simple solution is to re-evaluate everything downward of the altered \n",
    "snippet.\n",
    "- As an ultima ratio, one should re-execute the entire worksheet.\n"
   ]
  },
  {
   "attachments": {},
   "cell_type": "markdown",
   "metadata": {},
   "source": [
    "## Further reading\n"
   ]
  },
  {
   "attachments": {},
   "cell_type": "markdown",
   "metadata": {},
   "source": [
    "Obviously, this minimal tutorial does not cover the entire C\\# language.\n",
    "It should, however, demonstrate everything which is needed to understand\n",
    "about 90\\% of the tutorials in the **BoSSS** handbook.\n",
    "\n",
    "Finally: there are lots of tutorials on C\\# online. Some of them are \n",
    "excellent, some are not so good. \n",
    "And: Google is your friend (at least in this respect)..."
   ]
  }
 ],
 "metadata": {
  "kernelspec": {
   "display_name": ".NET (C#)",
   "language": "C#",
   "name": ".net-csharp"
  },
  "language_info": {
   "file_extension": ".cs",
   "mimetype": "text/x-csharp",
   "name": "C#",
   "pygments_lexer": "csharp",
   "version": "11.0"
  }
 },
 "nbformat": 4,
 "nbformat_minor": 4
}

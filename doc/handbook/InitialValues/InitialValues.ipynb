{
 "cells": [
  {
   "cell_type": "markdown",
   "metadata": {
    "dotnet_interactive": {
     "language": "csharp"
    }
   },
   "source": [
    "\n",
    "# Introduction\n"
   ]
  },
  {
   "cell_type": "code",
   "execution_count": null,
   "metadata": {
    "dotnet_interactive": {
     "language": "csharp"
    }
   },
   "outputs": [],
   "source": [
    "#r \"BoSSSpad.dll\"\n",
    "using System;\n",
    "using System.Collections.Generic;\n",
    "using System.Linq;\n",
    "using ilPSP;\n",
    "using ilPSP.Utils;\n",
    "using BoSSS.Platform;\n",
    "using BoSSS.Platform.LinAlg;\n",
    "using BoSSS.Foundation;\n",
    "using BoSSS.Foundation.XDG;\n",
    "using BoSSS.Foundation.Grid;\n",
    "using BoSSS.Foundation.Grid.Classic;\n",
    "using BoSSS.Foundation.Grid.RefElements;\n",
    "using BoSSS.Foundation.IO;\n",
    "using BoSSS.Solution;\n",
    "using BoSSS.Solution.Control;\n",
    "using BoSSS.Solution.GridImport;\n",
    "using BoSSS.Solution.Statistic;\n",
    "using BoSSS.Solution.Utils;\n",
    "using BoSSS.Solution.AdvancedSolvers;\n",
    "using BoSSS.Solution.Gnuplot;\n",
    "using BoSSS.Application.BoSSSpad;\n",
    "using BoSSS.Application.XNSE_Solver;\n",
    "using static BoSSS.Application.BoSSSpad.BoSSSshell;\n",
    "Init();\n"
   ]
  },
  {
   "cell_type": "markdown",
   "metadata": {
    "dotnet_interactive": {
     "language": "csharp"
    }
   },
   "source": [
    "# Note: \n",
    "- Setting Boundary values and initial values is similar; \n",
    "- For most solvers, inital and boundary values are set the same way;\n",
    "- We will use the incompressible solver as an example:"
   ]
  },
  {
   "cell_type": "code",
   "execution_count": null,
   "metadata": {
    "dotnet_interactive": {
     "language": "csharp"
    }
   },
   "outputs": [],
   "source": [
    "using BoSSS.Application.XNSE_Solver;"
   ]
  },
  {
   "cell_type": "markdown",
   "metadata": {
    "dotnet_interactive": {
     "language": "csharp"
    }
   },
   "source": [
    "Create a control object:"
   ]
  },
  {
   "cell_type": "code",
   "execution_count": null,
   "metadata": {
    "dotnet_interactive": {
     "language": "csharp"
    }
   },
   "outputs": [],
   "source": [
    "var C = new XNSE_Control();"
   ]
  },
  {
   "cell_type": "markdown",
   "metadata": {
    "dotnet_interactive": {
     "language": "csharp"
    }
   },
   "source": [
    "\n",
    "# 1 From Formulas\n",
    "If the Formula is simple enough to be represented by C\\# code,\n",
    "it can be embedded in the control file.\n",
    "\n",
    "However, the code bust be put into a string, since it is not \n",
    "possible to serialize classes/objects from the notebook\n",
    "into a control object:"
   ]
  },
  {
   "cell_type": "code",
   "execution_count": null,
   "metadata": {
    "dotnet_interactive": {
     "language": "csharp"
    }
   },
   "outputs": [],
   "source": [
    "string code =  \n",
    " \"static class MyInitialValue {\" // class must be static!\n",
    " \n",
    "    // Warning: static constants are allowed,\n",
    "    // but any changes outside of the current text box in BoSSSpad\n",
    "    // will not be recorded for the code that is passed to the solver.\n",
    "+ \" public static double alpha = 0.7;\"\n",
    " \n",
    "    // a method, which should be used for an initial value,\n",
    "    // must be static!\n",
    "+ \" public static double VelocityX(double[] X, double t) {\"\n",
    "+ \"    double x = X[0];\"\n",
    "+ \"    double y = X[1];\"\n",
    "+ \"   return Math.Sin(x*y*alpha);\"\n",
    "+ \" }\"  \n",
    "+ \"}\";"
   ]
  },
  {
   "cell_type": "code",
   "execution_count": null,
   "metadata": {
    "dotnet_interactive": {
     "language": "csharp"
    }
   },
   "outputs": [],
   "source": [
    "var fo = new BoSSS.Solution.Control.Formula(\"MyInitialValue.VelocityX\", \n",
    "                                             true, code);"
   ]
  },
  {
   "cell_type": "markdown",
   "metadata": {},
   "source": [
    "Use the BoSSSpad-intrinsic **GetFormulaObject** to set tie inital value:"
   ]
  },
  {
   "cell_type": "code",
   "execution_count": null,
   "metadata": {
    "dotnet_interactive": {
     "language": "csharp"
    }
   },
   "outputs": [],
   "source": [
    "C.AddInitialValue(\"VelocityX\", fo);"
   ]
  },
  {
   "cell_type": "code",
   "execution_count": null,
   "metadata": {
    "dotnet_interactive": {
     "language": "csharp"
    }
   },
   "outputs": [],
   "source": [
    "/// Deprecated:\n",
    "/// Note: such a declaration is very restrictive;\n",
    "/// \\code{GetFormulaObject} works only for \n",
    "/// \\begin{itemize}\n",
    "/// \\item a static class\n",
    "/// \\item no dependence on any external parameters\n",
    "/// \\end{itemize}\n",
    "/// E.g. the following code would only change the behavior in BoSSSpad,\n",
    "/// but not the code that is passed to the solver:"
   ]
  },
  {
   "cell_type": "code",
   "execution_count": null,
   "metadata": {
    "dotnet_interactive": {
     "language": "csharp"
    }
   },
   "outputs": [],
   "source": [
    "//Deprecated:\n",
    "//MyInitialValue.alpha = 0.5;\n",
    "//MyInitialValue.VelocityX(new double[]{ 0.5, 0.5 }, 0.0);"
   ]
  },
  {
   "cell_type": "code",
   "execution_count": null,
   "metadata": {
    "dotnet_interactive": {
     "language": "csharp"
    }
   },
   "outputs": [],
   "source": [
    "C.InitialValues[\"VelocityX\"].Evaluate(new double[]{ 0.5, 0.5 }, 0.0)"
   ]
  },
  {
   "cell_type": "markdown",
   "metadata": {
    "dotnet_interactive": {
     "language": "csharp"
    }
   },
   "source": [
    "# 2 Advanced functions\n",
    "\n",
    "Some more advanced mathematical functions, e.g.\n",
    "Jacobian elliptic functions $\\text{sn}(u|m)$, $\\text{cn}(u|m)$ and $\\text{dn}(u|m)$\n",
    "are available throug the GNU Scientific Library, for which BoSSS provides\n",
    "bindings, see e.g.\n",
    "**BoSSS.Platform.GSL.gsl\\_sf\\_elljac\\_e**"
   ]
  },
  {
   "cell_type": "markdown",
   "metadata": {
    "dotnet_interactive": {
     "language": "csharp"
    }
   },
   "source": [
    "\n",
    "## 2.1 From MATLAB code\n",
    "Asssume e.g. the following MATLAB code; obviously, this could  \n",
    "also be implemented in C\\#, we yust use something smple for demonstration:"
   ]
  },
  {
   "cell_type": "code",
   "execution_count": null,
   "metadata": {
    "dotnet_interactive": {
     "language": "csharp"
    }
   },
   "outputs": [],
   "source": [
    "string[] MatlabCode = new string[] {\n",
    "@\"[n,d2] =  size(X_values);\",\n",
    "@\"u=zeros(2,n);\",\n",
    "@\"for k=1:n\",\n",
    "@\"X=[X_values(k,1),X_values(k,2)];\",\n",
    "@\"\",\n",
    "@\"u_x_main     = -(-sqrt(X(1).^ 2 + X(2).^ 2) / 0.3e1 + 0.4e1 / 0.3e1 * (X(1).^ 2 + X(2).^ 2) ^ (-0.1e1 / 0.2e1)) * sin(atan2(X(2), X(1)));\",\n",
    "@\"u_y_main     = (-sqrt(X(1).^ 2 + X(2).^ 2) / 0.3e1 + 0.4e1 / 0.3e1 * (X(1).^ 2 + X(2).^ 2) ^ (-0.1e1 / 0.2e1)) * cos(atan2(X(2), X(1)));\",\n",
    "@\"\",   \n",
    "@\"u(1,k)=u_x_main;\",\n",
    "@\"u(2,k)=u_y_main;\",\n",
    "@\"end\" };"
   ]
  },
  {
   "cell_type": "markdown",
   "metadata": {
    "dotnet_interactive": {
     "language": "csharp"
    }
   },
   "source": [
    "We can evaluate this code in **BoSSS** using the MATLAB connector;\n",
    "We encapsulate it in a **ScalarFunction** which allows \n",
    "**vectorized** evaluation \n",
    "(multiple evaluatiuons in one function call) e\n",
    "of some function.\n",
    "\n",
    "This is much more efficient, since there will be significant overhead\n",
    "for calling MATLAB (starting MATLAB, checking the license, \n",
    "transfering data, etc.)."
   ]
  },
  {
   "cell_type": "code",
   "execution_count": null,
   "metadata": {
    "dotnet_interactive": {
     "language": "csharp"
    }
   },
   "outputs": [],
   "source": [
    "using ilPSP.Connectors.Matlab;"
   ]
  },
  {
   "cell_type": "code",
   "execution_count": null,
   "metadata": {
    "dotnet_interactive": {
     "language": "csharp"
    }
   },
   "outputs": [],
   "source": [
    "ScalarFunction VelocityXInitial = \n",
    "delegate(MultidimensionalArray input, MultidimensionalArray output) {\n",
    "    int N          = input.GetLength(0); // number of points which we evaluate \n",
    "    //                                      at once.\n",
    "    var output_vec = MultidimensionalArray.Create(2, N); // the MATLAB code\n",
    "    //                        returns an entire vector.\n",
    "    using(var bmc = new BatchmodeConnector()) {\n",
    "       bmc.PutMatrix(input,\"X_values\");\n",
    " \n",
    "       foreach(var line in MatlabCode) {\n",
    "           bmc.Cmd(line);   \n",
    "       }\n",
    " \n",
    "       bmc.GetMatrix(output_vec, \"u\");\n",
    " \n",
    "       bmc.Execute(); // Note: 'Execute' has to be *after* 'GetMatrix'\n",
    "   }\n",
    "   output.Set(output_vec.ExtractSubArrayShallow(0,-1)); // extract row 0 from \n",
    "   //                       'output_vec' and store it in 'output'\n",
    "};"
   ]
  },
  {
   "cell_type": "markdown",
   "metadata": {
    "dotnet_interactive": {
     "language": "csharp"
    }
   },
   "source": [
    "We test our implementation:"
   ]
  },
  {
   "cell_type": "code",
   "execution_count": null,
   "metadata": {
    "dotnet_interactive": {
     "language": "csharp"
    }
   },
   "outputs": [],
   "source": [
    "var inputTest = MultidimensionalArray.Create(3,2); // set some test values for input\n",
    "inputTest.SetColumn(0, GenericBlas.Linspace(1,2,3));\n",
    "inputTest.SetColumn(1, GenericBlas.Linspace(2,3,3));\n",
    " \n",
    "var outputTest = MultidimensionalArray.Create(3); // allocate memory for output"
   ]
  },
  {
   "cell_type": "code",
   "execution_count": null,
   "metadata": {
    "dotnet_interactive": {
     "language": "csharp"
    }
   },
   "outputs": [],
   "source": [
    "VelocityXInitial(inputTest, outputTest);"
   ]
  },
  {
   "cell_type": "markdown",
   "metadata": {
    "dotnet_interactive": {
     "language": "csharp"
    }
   },
   "source": [
    "We recive the following velocity values for our input coordinates:"
   ]
  },
  {
   "cell_type": "code",
   "execution_count": null,
   "metadata": {
    "dotnet_interactive": {
     "language": "csharp"
    }
   },
   "outputs": [],
   "source": [
    "\n",
    "outputTest.To1DArray()"
   ]
  },
  {
   "cell_type": "markdown",
   "metadata": {
    "dotnet_interactive": {
     "language": "csharp"
    }
   },
   "source": [
    "\n",
    "# Projecting the MATLAB function to a DG field\n",
    "\n",
    "As for a standard calculation, we create a mesh, save it to some database\n",
    "and set the mesh in the control object."
   ]
  },
  {
   "cell_type": "code",
   "execution_count": null,
   "metadata": {
    "dotnet_interactive": {
     "language": "csharp"
    }
   },
   "outputs": [],
   "source": [
    "var nodes        = GenericBlas.Linspace(1,2,11);\n",
    "GridCommons grid = Grid2D.Cartesian2DGrid(nodes,nodes);"
   ]
  },
  {
   "cell_type": "code",
   "execution_count": null,
   "metadata": {
    "dotnet_interactive": {
     "language": "csharp"
    }
   },
   "outputs": [],
   "source": [
    "var db = CreateTempDatabase();"
   ]
  },
  {
   "cell_type": "code",
   "execution_count": null,
   "metadata": {
    "dotnet_interactive": {
     "language": "csharp"
    }
   },
   "outputs": [],
   "source": [
    "db.SaveGrid(ref grid);"
   ]
  },
  {
   "cell_type": "code",
   "execution_count": null,
   "metadata": {
    "dotnet_interactive": {
     "language": "csharp"
    }
   },
   "outputs": [],
   "source": [
    "C.SetGrid(grid);"
   ]
  },
  {
   "cell_type": "markdown",
   "metadata": {
    "dotnet_interactive": {
     "language": "csharp"
    }
   },
   "source": [
    "We create a DG field for the $x$-velocity on our grid:"
   ]
  },
  {
   "cell_type": "code",
   "execution_count": null,
   "metadata": {
    "dotnet_interactive": {
     "language": "csharp"
    }
   },
   "outputs": [],
   "source": [
    "var gdata = new GridData(grid);"
   ]
  },
  {
   "cell_type": "code",
   "execution_count": null,
   "metadata": {
    "dotnet_interactive": {
     "language": "csharp"
    }
   },
   "outputs": [],
   "source": [
    "var b = new Basis(gdata, 3); // use DG degree 2"
   ]
  },
  {
   "cell_type": "code",
   "execution_count": null,
   "metadata": {
    "dotnet_interactive": {
     "language": "csharp"
    }
   },
   "outputs": [],
   "source": [
    "var VelX = new SinglePhaseField(b,\"VelocityX\"); // important: name the DG field\n",
    "//                                 equal to initial value name"
   ]
  },
  {
   "cell_type": "markdown",
   "metadata": {
    "dotnet_interactive": {
     "language": "csharp"
    }
   },
   "source": [
    "Finally, we are able to project the MATLAB function onto the DG field:"
   ]
  },
  {
   "cell_type": "code",
   "execution_count": null,
   "metadata": {
    "dotnet_interactive": {
     "language": "csharp"
    }
   },
   "outputs": [],
   "source": [
    "//VelX.ProjectField(VelocityXInitial);"
   ]
  },
  {
   "cell_type": "markdown",
   "metadata": {
    "dotnet_interactive": {
     "language": "csharp"
    }
   },
   "source": [
    "One might want to check the data visually, so it can be exported\n",
    "in the usual fashion"
   ]
  },
  {
   "cell_type": "code",
   "execution_count": null,
   "metadata": {
    "dotnet_interactive": {
     "language": "csharp"
    }
   },
   "outputs": [],
   "source": [
    "//Tecplot(\"initial\",0.0,2,VelX);"
   ]
  },
  {
   "cell_type": "code",
   "execution_count": null,
   "metadata": {
    "dotnet_interactive": {
     "language": "csharp"
    }
   },
   "outputs": [],
   "source": []
  },
  {
   "cell_type": "markdown",
   "metadata": {
    "dotnet_interactive": {
     "language": "csharp"
    }
   },
   "source": [
    "\n",
    "# Storing the initial value in the database and linking it in the control object\n"
   ]
  },
  {
   "cell_type": "markdown",
   "metadata": {
    "dotnet_interactive": {
     "language": "csharp"
    }
   },
   "source": [
    "The DG field with the initial value can be stored in the database.\n",
    "this will create a dummy session."
   ]
  },
  {
   "cell_type": "code",
   "execution_count": null,
   "metadata": {
    "dotnet_interactive": {
     "language": "csharp"
    }
   },
   "outputs": [],
   "source": [
    "BoSSSshell.WorkflowMgm.Init(\"TestProject\");"
   ]
  },
  {
   "cell_type": "code",
   "execution_count": null,
   "metadata": {
    "dotnet_interactive": {
     "language": "csharp"
    }
   },
   "outputs": [],
   "source": [
    "var InitalValueTS = db.SaveTimestep(VelX); // further fields an be \n",
    "//                                                  appended"
   ]
  },
  {
   "cell_type": "code",
   "execution_count": null,
   "metadata": {
    "dotnet_interactive": {
     "language": "csharp"
    }
   },
   "outputs": [],
   "source": [
    "BoSSSshell.WorkflowMgm.Sessions"
   ]
  },
  {
   "cell_type": "code",
   "execution_count": null,
   "metadata": {
    "dotnet_interactive": {
     "language": "csharp"
    }
   },
   "outputs": [],
   "source": [
    "/// Now, we can use this timestep as a restart-value for the simulation:"
   ]
  },
  {
   "cell_type": "code",
   "execution_count": null,
   "metadata": {
    "dotnet_interactive": {
     "language": "csharp"
    }
   },
   "outputs": [],
   "source": [
    "C.SetRestart(InitalValueTS);"
   ]
  }
 ],
 "metadata": {
  "kernelspec": {
   "display_name": ".NET (C#)",
   "language": "C#",
   "name": ".net-csharp"
  },
  "language_info": {
   "file_extension": ".cs",
   "mimetype": "text/x-csharp",
   "name": "C#",
   "pygments_lexer": "csharp",
   "version": "11.0"
  }
 },
 "nbformat": 4,
 "nbformat_minor": 4
}

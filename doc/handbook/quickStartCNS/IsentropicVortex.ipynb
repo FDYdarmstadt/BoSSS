{
 "cells": [
  {
   "cell_type": "markdown",
   "metadata": {},
   "source": [
    "# Introduction to Compressible Navier Stokes Solver (CNS)\n",
    "\n",
    "## What's new\n",
    "\n",
    "- running a simple simulation with the CNS solver\n",
    "- the important input data to solve the Euler equations\n",
    "- generating a simple mesh by using the \\BoSSS{} internal mesher\n",
    "- the post-processing of the data, i.e. visualization in Paraview or VisIt\n",
    "\n",
    "## Prerequisites\n",
    "\n",
    "- the ***BoSSS** framework\n",
    "- a visualization tool, e.g ***Paraview*** or ***VisIt***\n",
    "- the knowledge of how to setup a database for ***BoSSS***\n",
    "\n"
   ]
  },
  {
   "cell_type": "markdown",
   "metadata": {},
   "source": [
    "\n",
    "## Problem statement\n",
    "We only briefly describe the non dimensional Euler equations in 2D\n",
    ">$$\\frac{\\partial}{\\partial t}\\vec{U}+\\frac{\\partial}{\\partial x_j}\\vec{F}^c_j(U)= 0,$$\n",
    "where $\\vec{U}$ are the conserved flow variables and $\\vec{F}^c_x$  are the convective fluxes, i.e.\n",
    ">$$\\vec{U} = \n",
    "\\begin{pmatrix}  \n",
    "  \\rho \\\\\n",
    "  \\rho u_i \\\\\n",
    "  \\rho E\n",
    "\\end{pmatrix} , \\quad \\textrm{and} \\quad \\vec{F}^c_i = \\begin{pmatrix}\n",
    "  \\rho u_i\\\\\n",
    "  \\rho u_i u_j + \\frac{1}{\\gamma \\textit{Mach}^2}p \\delta_{ij}\\\\\n",
    "  u_j (\\rho E+p)\n",
    "\\end{pmatrix}.$$\n"
   ]
  },
  {
   "cell_type": "markdown",
   "metadata": {},
   "source": [
    "\n",
    "### Note:\n",
    "\n",
    "In our non dimensional equations, we introduce $\\textit{Mach}$. \n",
    "\n",
    "These Quick Start tutorials are aimed to show some of the main features of the compressible flow \n",
    "solver (**Compressible Navier-Stokes (CNS)**) in the **BoSSS** framework.\n",
    "\n",
    "Note, that **BoSSS** uses a C\\# code based input data and interprets these in \n",
    "the ***REPL*** fashion. \n",
    "\n",
    "This gives us more flexibility in the way how we can start a \n",
    "simulation. \n",
    "\n",
    "We can have the traditional way of defining an input file, where we define all \n",
    "important parameters in C\\# code, or we can also use some predefined functions in the framework \n",
    "to generate our input data and manipulate them interactively in the **BoSSSpad**.\n",
    "\n",
    "As an example, we will simulate the well known isentropic vortex for the Euler equations. \n"
   ]
  },
  {
   "cell_type": "markdown",
   "metadata": {},
   "source": [
    "\n",
    "## Isentropic vortex\n",
    "\n",
    "### Note\n",
    "1. This tutorial can be found in the source code repository as as `IsentropicVortex.ipynb`. \n",
    "   One can directly load this into Jupyter to interactively work with the following code examples.\n",
    "2. **In the following line, the reference to `BoSSSpad.dll` is required**. \n",
    "   You must either set `#r \"BoSSSpad.dll\"` to something which is appropirate for your computer\n",
    "   (e.g. `C:\\Program Files (x86)\\FDY\\BoSSS\\bin\\Release\\net5.0\\BoSSSpad.dll` if you installed the binary distribution),\n",
    "   or, if you are working with the source code, \n",
    "   you must compile `BoSSSpad` and put it side-by-side to this worksheet file\n",
    "   (from the original location in the repository, you can use the scripts `getbossspad.sh`, resp. `getbossspad.bat`)."
   ]
  },
  {
   "cell_type": "code",
   "execution_count": null,
   "metadata": {
    "dotnet_interactive": {
     "language": "csharp"
    }
   },
   "outputs": [],
   "source": [
    "#r \"BoSSSpad.dll\"\n",
    "using System;\n",
    "using System.Collections.Generic;\n",
    "using System.Linq;\n",
    "using ilPSP;\n",
    "using ilPSP.Utils;\n",
    "using BoSSS.Platform;\n",
    "using BoSSS.Foundation;\n",
    "using BoSSS.Foundation.Grid;\n",
    "using BoSSS.Foundation.Grid.Classic;\n",
    "using BoSSS.Foundation.IO;\n",
    "using BoSSS.Solution;\n",
    "using BoSSS.Solution.Control;\n",
    "using BoSSS.Solution.GridImport;\n",
    "using BoSSS.Solution.Statistic;\n",
    "using BoSSS.Solution.Utils;\n",
    "using BoSSS.Solution.Gnuplot;\n",
    "using BoSSS.Application.BoSSSpad;\n",
    "using BoSSS.Application.XNSE_Solver;\n",
    "using static BoSSS.Application.BoSSSpad.BoSSSshell;\n",
    "Init();\n"
   ]
  },
  {
   "cell_type": "markdown",
   "metadata": {},
   "source": [
    "We start with creating a database and loading the namespace."
   ]
  },
  {
   "cell_type": "code",
   "execution_count": null,
   "metadata": {
    "dotnet_interactive": {
     "language": "csharp"
    }
   },
   "outputs": [],
   "source": [
    "/// We create, resp. open a \\BoSSS database:\n",
    "var myDatabase = CreateTempDatabase();"
   ]
  },
  {
   "cell_type": "code",
   "execution_count": null,
   "metadata": {
    "dotnet_interactive": {
     "language": "csharp"
    }
   },
   "outputs": [],
   "source": [
    "using CNS;"
   ]
  },
  {
   "cell_type": "code",
   "execution_count": null,
   "metadata": {
    "dotnet_interactive": {
     "language": "csharp"
    }
   },
   "outputs": [],
   "source": [
    "typeof(CNS.CNSProgram).Assembly.Location"
   ]
  },
  {
   "cell_type": "markdown",
   "metadata": {},
   "source": [
    "In BoSSS, every solver requires a so-called **Control Object** at startup.\n",
    "This is (an instance of) a special class, for each solver which contains all solver settings.\n",
    "For the `CNS`-solver used in this example, the respective control object class is `CNSControl`.\n",
    "The class `ControlExamples` provides some predefined control sets for \n",
    "different typical test cases, i.a. the isentropic vortex. \n",
    "\n",
    "A control object can be passed in different ways:\n",
    "- when executing the solver form command line, it can be passes as a file;\n",
    "  This can be eiter a C#-script or a JSON-serialization of the control-object.\n",
    "  The respective command-line is `CNS.exe --control path-to-controle-file`.\n",
    "- also at command line, obe might pass the reference to an internal function: E.g. \n",
    "  `CNS.exe --control 'cs:CNS.ControlExamples_Subsonic.IsentropicVortex( ...further-args... )'`.\n",
    "- In this example, the solver is launched directly from within BoSSSpad, so no file is required.\n",
    "  Instead, the control object is instaniated and configured directly and passed to a solver\n",
    "\n",
    "For the isentropic vortex, you have to specify \n",
    "\n",
    "- path to a database (here: EMPTY path)\n",
    "- number of cells in each direction (here: 20)\n",
    "- DG order (here: 2)\n",
    "- advection velocity of the vortex (here: 1.0)\n"
   ]
  },
  {
   "cell_type": "code",
   "execution_count": null,
   "metadata": {
    "dotnet_interactive": {
     "language": "csharp"
    }
   },
   "outputs": [],
   "source": [
    "// use the predsefined IsentropicVortex example as a foundation for a control object\n",
    "int noOfCellsPerDirection = 20;       \n",
    "var c = ControlExamples_Subsonic.IsentropicVortex(myDatabase.Path,      \n",
    "                                         noOfCellsPerDirection,2,1.0);\n",
    "c.savetodb = true;       \n"
   ]
  },
  {
   "cell_type": "markdown",
   "metadata": {},
   "source": [
    "Now, we have a set of input data stored in our variable **c** and we \n",
    "can have a look at different parameters directly via \\code{BoSSSpad}.\n",
    "\n",
    "### How to define/change input data\n",
    "\n",
    "In this section we will walk you through the most important parameters for \n",
    "running the test case.\n",
    "\n",
    "We start with the grid and use the ability of **BoSSS**\n",
    "to generate simple grids with its own mesh generator. \n",
    "\n",
    "Once we start the simulation, the control object **c** is parsed and the grid defined by the **GridFunc**\n",
    "is generated on the fly and stored in the database. Here, we defined a \n",
    "**delegate** function which returns a uniform cartesian grid.\n",
    "\n",
    "First, we have to define a 1-D array, which spans from -10 to 10 and is divided into the number \n",
    "of cells, which we previously set to **int noOfCellsPerDirection = 20**. \n",
    "\n",
    "The function **Grid2D.Cartesian2DGrid** generates a\n",
    "uniform 2-D grid out of this array by using it for x and y direction\n",
    "Additionally we specify periodic boundary conditions in x and y direction\n",
    "by setting \n",
    ">**periodicX: true** and **periodicY: true**. "
   ]
  },
  {
   "cell_type": "code",
   "execution_count": null,
   "metadata": {
    "dotnet_interactive": {
     "language": "csharp"
    }
   },
   "outputs": [],
   "source": [
    "\n",
    "c.GridFunc = delegate {       \n",
    "   double[] nodes = GenericBlas.Linspace(-10, 10, noOfCellsPerDirection + 1);       \n",
    "   var grid = Grid2D.Cartesian2DGrid(nodes, nodes,       \n",
    "                                     periodicX: true, periodicY: true);       \n",
    "   return grid;       \n",
    "};"
   ]
  },
  {
   "cell_type": "markdown",
   "metadata": {},
   "source": [
    "The **CNS solver** is able to solve the Euler and the compressible Navier-Stokes equations. By setting"
   ]
  },
  {
   "cell_type": "code",
   "execution_count": null,
   "metadata": {
    "dotnet_interactive": {
     "language": "csharp"
    }
   },
   "outputs": [],
   "source": [
    "c.ActiveOperators"
   ]
  },
  {
   "cell_type": "markdown",
   "metadata": {},
   "source": [
    "we only use the convective fluxes, i.e the Euler equations, and set it to"
   ]
  },
  {
   "cell_type": "code",
   "execution_count": null,
   "metadata": {
    "dotnet_interactive": {
     "language": "csharp"
    }
   },
   "outputs": [],
   "source": [
    "c.ConvectiveFluxType"
   ]
  },
  {
   "cell_type": "markdown",
   "metadata": {},
   "source": [
    "Note: here, *Optimized* means, that this is the HLLC flux should be used, but implemented in an performance-optimized version."
   ]
  },
  {
   "cell_type": "markdown",
   "metadata": {},
   "source": [
    "### Further Settings: \n",
    "\n",
    "\n",
    "\n",
    "As initial conditions, we choose the analytical solution, which can be found in various publications, e.g. Hu (2006).\n",
    "\n",
    "The Mach number is set in the following:"
   ]
  },
  {
   "cell_type": "code",
   "execution_count": null,
   "metadata": {
    "dotnet_interactive": {
     "language": "csharp"
    }
   },
   "outputs": [],
   "source": [
    "c.MachNumber"
   ]
  },
  {
   "cell_type": "markdown",
   "metadata": {},
   "source": [
    "Further, we have to define a **simulation time**, i.e"
   ]
  },
  {
   "cell_type": "code",
   "execution_count": null,
   "metadata": {
    "dotnet_interactive": {
     "language": "csharp"
    }
   },
   "outputs": [],
   "source": [
    "c.Endtime"
   ]
  },
  {
   "cell_type": "markdown",
   "metadata": {},
   "source": [
    "Finally, we need a **time stepping scheme**"
   ]
  },
  {
   "cell_type": "code",
   "execution_count": null,
   "metadata": {
    "dotnet_interactive": {
     "language": "csharp"
    }
   },
   "outputs": [],
   "source": [
    "c.ExplicitScheme"
   ]
  },
  {
   "cell_type": "markdown",
   "metadata": {},
   "source": [
    "...of **order**..."
   ]
  },
  {
   "cell_type": "code",
   "execution_count": null,
   "metadata": {
    "dotnet_interactive": {
     "language": "csharp"
    }
   },
   "outputs": [],
   "source": [
    "c.ExplicitOrder"
   ]
  },
  {
   "cell_type": "markdown",
   "metadata": {},
   "source": [
    "...to run the simulation."
   ]
  },
  {
   "cell_type": "markdown",
   "metadata": {},
   "source": [
    "These are all predefined input values, which were set by calling **ControlExamples_Subsonic.IsentropicVortex(...)**.\n",
    "\n",
    "Since we are in the interactive mode, we can change them directly.\n",
    "\n",
    "For example, we can reduce the order of our **timestepping scheme** to 3, \n",
    "\n",
    "because we only use DG order 2:"
   ]
  },
  {
   "cell_type": "code",
   "execution_count": null,
   "metadata": {
    "dotnet_interactive": {
     "language": "csharp"
    }
   },
   "outputs": [],
   "source": [
    "\n",
    "c.ExplicitOrder = 3;      \n",
    "c.ExplicitOrder"
   ]
  },
  {
   "cell_type": "markdown",
   "metadata": {},
   "source": [
    "Or we can change the **Mach number** to"
   ]
  },
  {
   "cell_type": "code",
   "execution_count": null,
   "metadata": {
    "dotnet_interactive": {
     "language": "csharp"
    }
   },
   "outputs": [],
   "source": [
    "c.MachNumber = 0.7;    \n",
    "c.MachNumber"
   ]
  },
  {
   "cell_type": "markdown",
   "metadata": {},
   "source": [
    "## Run a simulation\n",
    "We adjusted our input values and now we can run a simulation.\n",
    "\n",
    "In the interactive mode, we can simply call `Run()` on the control\n",
    "object, which will execute the solver.\n",
    "This is not the typicall way of running a solver in BoSSS, and only appropriate for small computations\n",
    "which obly take seconds or minutes; it also does not allow parallel execution.\n",
    "For more complex simulations, one can use the *Workflow Mamagement* (see respective tutorial)\n",
    "to run the computation outside of the Jupyter notebook, either in a (parallel) background process\n",
    "and even on other computers/servers, resp. HPC (High Performance Computing) clusters. "
   ]
  },
  {
   "cell_type": "code",
   "execution_count": null,
   "metadata": {
    "dotnet_interactive": {
     "language": "csharp"
    }
   },
   "outputs": [],
   "source": [
    "\n",
    "c.PrintInterval = 5;\n",
    "var SI          = c.Run();"
   ]
  },
  {
   "cell_type": "markdown",
   "metadata": {},
   "source": [
    "The **Run()** command finally returns a session info, which carries some\n",
    "basic information on the solver run (mainly where ist was stored)."
   ]
  },
  {
   "cell_type": "code",
   "execution_count": null,
   "metadata": {
    "dotnet_interactive": {
     "language": "csharp"
    }
   },
   "outputs": [],
   "source": [
    "SI"
   ]
  },
  {
   "cell_type": "markdown",
   "metadata": {},
   "source": [
    "## Execution in Console mode\n",
    "We can also run this simulation in the *traditional* way, which most\n",
    "of you are familiar with from other academical codes. \n",
    "\n",
    "We define an input file, which is nothing else than the above C\\# code. \n",
    "\n",
    "We can run it by calling\n",
    ">**CNS.exe -c IsentropicVortex.cs**. \n",
    "\n",
    "You can find the input file in \n",
    "*ControlExamples folder* in the doc directory."
   ]
  },
  {
   "cell_type": "markdown",
   "metadata": {},
   "source": [
    "## Postprocessing\n",
    "\n",
    "We saved our data in the database and lastly we want to postprocess it, \n",
    "i.e visualize the individual fields like density, momentum or pressure.\n",
    "\n",
    "### Note: \n",
    "\n",
    "If you have run the simulation in the console mode, you now have to start \n",
    "the **BoSSSpad**.\n",
    "\n",
    "In our example, we find the corresponding session in our first database as first session"
   ]
  },
  {
   "cell_type": "code",
   "execution_count": null,
   "metadata": {
    "dotnet_interactive": {
     "language": "csharp"
    }
   },
   "outputs": [],
   "source": [
    "//myDatabase.Sessions.First();"
   ]
  },
  {
   "cell_type": "markdown",
   "metadata": {},
   "source": [
    "To convert data to the Tecplot format, we just need to export it (in order to run the command delete the comment)"
   ]
  },
  {
   "cell_type": "code",
   "execution_count": null,
   "metadata": {
    "dotnet_interactive": {
     "language": "csharp"
    }
   },
   "outputs": [],
   "source": [
    "\n",
    "//myDatabase.Sessions.First().Export().Do()"
   ]
  },
  {
   "cell_type": "markdown",
   "metadata": {},
   "source": [
    "We can open the folder directly by using (works only in **BoSSSPad**)"
   ]
  },
  {
   "cell_type": "code",
   "execution_count": null,
   "metadata": {
    "dotnet_interactive": {
     "language": "csharp"
    }
   },
   "outputs": [],
   "source": [
    "//myDatabase.Sessions.First().Export().Do()"
   ]
  },
  {
   "cell_type": "markdown",
   "metadata": {},
   "source": [
    "... where we find the files with our data.\n",
    "\n",
    "For more information about our databases and useful commands for postprocessing,\n",
    "we refer to our tutorials about the database and the database command overview."
   ]
  },
  {
   "cell_type": "code",
   "execution_count": null,
   "metadata": {},
   "outputs": [],
   "source": []
  }
 ],
 "metadata": {
  "kernelspec": {
   "display_name": ".NET (C#)",
   "language": "C#",
   "name": ".net-csharp"
  },
  "language_info": {
   "file_extension": ".cs",
   "mimetype": "text/x-csharp",
   "name": "C#",
   "pygments_lexer": "csharp",
   "version": "11.0"
  }
 },
 "nbformat": 4,
 "nbformat_minor": 4
}

{
 "cells": [
  {
   "cell_type": "markdown",
   "metadata": {},
   "source": [
    "# Advection Diffusion Solver \n",
    "\n",
    "\n",
    "## Problem statement\n",
    "\n",
    "We are investigating the Advection Diffusion Equation\n",
    "$$\n",
    "  \\frac{\\partial u}{\\partial t} +\\vec{u} \\cdot \\nabla u - \\mu \\nabla^2 u + S(u)=0 \\in (0,2)^2\n",
    "$$\n",
    "with the initial value\n",
    "$$\n",
    "    u_0(x,y) = \\sin(a x) \\sin(b y),\n",
    "$$\n",
    "and the manufactured solution\n",
    "$$\n",
    "u^{\\mathrm{MS}}(x,y,t) = \\sin(a x) \\sin(b y) \\cos(c t)\n",
    "$$\n",
    "(which is directly emposed on the boundary)\n",
    "The parameters are chose\n",
    "$$\n",
    "\\mu=0.5,~ a = 2.3,~b = 2.9, ~c = 4.2, ~\\vec{u}=(0.8 ~0.6)^T\n",
    "$$"
   ]
  },
  {
   "cell_type": "markdown",
   "metadata": {},
   "source": [
    "#### Calculation of the Source Term\n",
    "The Source Term is computed such that $u^\\text{MS}$ satisfies the equation, i.e. \n",
    "$$\n",
    "S(u) = -(\\frac{\\partial u^{\\mathrm{MS}}}{\\partial t} +\\vec{u} \\cdot \\nabla u^{\\mathrm{MS}} - \\mu \\nabla^2 u^{\\mathrm{MS}}) \n",
    "$$\n",
    "\n",
    "We compute it by computing all parts\n",
    "$$ \n",
    "\\frac{\\partial u^{\\mathrm{MS}}}{\\partial t} = -c \\sin(a x) \\sin(b y) \\sin(c t)%= -c\\frac{\\sin(c t)}{\\cos(c t)} u^{\\mathrm{MS}}\n",
    "$$\n",
    "$$\n",
    "\\vec{u} \\cdot \\nabla u^{\\mathrm{MS}} = \\cos(ct) [u_1 a \\cos(ax) \\sin(by)+ u_2 b \\sin(ax) \\cos(by)] %=  u_1 a  \\frac{\\cos(ax)}{\\sin(a x)}  u^{\\mathrm{MS}}+ u_2 b \\frac{\\cos(by)}{\\sin(by)}  u^{\\mathrm{MS}}\n",
    "$$\n",
    "$$\n",
    "\\mu \\nabla^2 u^{\\mathrm{MS}} = \\mu \\cos(ct)[-a^2 \\sin(ax) \\sin(by)  - b^2 \\sin(ax) \\sin(by)]% =  \\mu (-a^2 - b^2)u^{\\mathrm{MS}}\n",
    "$$\n",
    "\n"
   ]
  },
  {
   "cell_type": "code",
   "execution_count": 115,
   "metadata": {
    "dotnet_interactive": {
     "language": "csharp"
    },
    "vscode": {
     "languageId": "polyglot-notebook"
    }
   },
   "outputs": [
    {
     "name": "stdout",
     "output_type": "stream",
     "text": [
      "Using gnuplot: C:\\Program Files (x86)\\FDY\\BoSSS\\bin\\native\\win\\gnuplot-gp510-20160418-win32-mingw\\gnuplot\\bin\\gnuplot.exe\n",
      "Databases loaded: \n",
      "Capacity: 0\n",
      "Count: 0\n",
      "\n"
     ]
    },
    {
     "ename": "Error",
     "evalue": "System.ApplicationException: Already called.\r\n   at BoSSS.Application.BoSSSpad.BoSSSshell.InitTraceFile() in C:\\experimental\\public\\src\\L4-application\\BoSSSpad\\BoSSSshell.cs:line 204\r\n   at BoSSS.Application.BoSSSpad.BoSSSshell.Init() in C:\\experimental\\public\\src\\L4-application\\BoSSSpad\\BoSSSshell.cs:line 97\r\n   at Submission#116.<<Initialize>>d__0.MoveNext()\r\n--- End of stack trace from previous location ---\r\n   at Microsoft.CodeAnalysis.Scripting.ScriptExecutionState.RunSubmissionsAsync[TResult](ImmutableArray`1 precedingExecutors, Func`2 currentExecutor, StrongBox`1 exceptionHolderOpt, Func`2 catchExceptionOpt, CancellationToken cancellationToken)",
     "output_type": "error",
     "traceback": [
      "System.ApplicationException: Already called.\r\n",
      "   at BoSSS.Application.BoSSSpad.BoSSSshell.InitTraceFile() in C:\\experimental\\public\\src\\L4-application\\BoSSSpad\\BoSSSshell.cs:line 204\r\n",
      "   at BoSSS.Application.BoSSSpad.BoSSSshell.Init() in C:\\experimental\\public\\src\\L4-application\\BoSSSpad\\BoSSSshell.cs:line 97\r\n",
      "   at Submission#116.<<Initialize>>d__0.MoveNext()\r\n",
      "--- End of stack trace from previous location ---\r\n",
      "   at Microsoft.CodeAnalysis.Scripting.ScriptExecutionState.RunSubmissionsAsync[TResult](ImmutableArray`1 precedingExecutors, Func`2 currentExecutor, StrongBox`1 exceptionHolderOpt, Func`2 catchExceptionOpt, CancellationToken cancellationToken)"
     ]
    }
   ],
   "source": [
    "#r \".\\binaries\\\\BoSSSpad.dll\"\n",
    "using System;\n",
    "using System.Collections.Generic;\n",
    "using System.Linq;\n",
    "using ilPSP;\n",
    "using ilPSP.Utils;\n",
    "using BoSSS.Platform;\n",
    "using BoSSS.Platform.LinAlg;\n",
    "using BoSSS.Foundation;\n",
    "using BoSSS.Foundation.XDG;\n",
    "using BoSSS.Foundation.Grid;\n",
    "using BoSSS.Foundation.Grid.Classic;\n",
    "using BoSSS.Foundation.Grid.RefElements;\n",
    "using BoSSS.Foundation.IO;\n",
    "using BoSSS.Solution;\n",
    "using BoSSS.Solution.Control;\n",
    "using BoSSS.Solution.GridImport;\n",
    "using BoSSS.Solution.Statistic;\n",
    "using BoSSS.Solution.Utils;\n",
    "using BoSSS.Solution.AdvancedSolvers;\n",
    "using BoSSS.Solution.Gnuplot;\n",
    "using BoSSS.Application.BoSSSpad;\n",
    "using BoSSS.Application.XNSE_Solver;\n",
    "using BoSSS.Application.XNSFE_Solver;\n",
    "using static BoSSS.Application.BoSSSpad.BoSSSshell;\n",
    "Init();"
   ]
  },
  {
   "cell_type": "code",
   "execution_count": 116,
   "metadata": {
    "dotnet_interactive": {
     "language": "csharp"
    },
    "polyglot_notebook": {
     "kernelName": "csharp"
    },
    "vscode": {
     "languageId": "polyglot-notebook"
    }
   },
   "outputs": [],
   "source": [
    "using BoSSS.Solution.XdgTimestepping;"
   ]
  },
  {
   "cell_type": "markdown",
   "metadata": {},
   "source": [
    "## Creation of Differential Operator\n"
   ]
  },
  {
   "cell_type": "markdown",
   "metadata": {},
   "source": [
    "Velocity field and Exact solution for Dirichlet Boundary"
   ]
  },
  {
   "cell_type": "code",
   "execution_count": 117,
   "metadata": {
    "dotnet_interactive": {
     "language": "csharp"
    },
    "polyglot_notebook": {
     "kernelName": "csharp"
    },
    "vscode": {
     "languageId": "polyglot-notebook"
    }
   },
   "outputs": [],
   "source": [
    "using static System.Math;\n",
    "public static class MyGlobals {\n",
    "    public static double u(double[] X) => 0.8;\n",
    "    public static double v(double[] X) => 0.6;\n",
    "    public static double a = 2.3;\n",
    "    public static double b = 2.9;\n",
    "    public static double c = 4.2;\n",
    "    public static double nu => !isHeat ?  0.5:1.0;\n",
    "    public static bool isHeat=false;\n",
    "    public static double endTime=> !isHeat ?  2.0:0.1;\n",
    "    public static double uExact(double[] X, double t) => !isHeat? Sin(a * X[0]) * Sin(b * X[1]) * Cos(c * t) : Math.Cos(X[0]*Math.PI*0.5)*Math.Cos(X[1]*Math.PI*0.5) ;\n",
    "\n",
    "    public static double TimeDerivative(double[] X, double t) => -c * Sin(a * X[0]) * Sin(b * X[1]) * Sin(c * t);\n",
    "\n",
    "    public static double ConvectiveTerm(double[] X, double t) => \n",
    "    Cos(c * t) * (u(X) * a * Cos(a * X[0]) * Sin(b * X[1]) + v(X) * b * Sin(a * X[0]) * Cos(b * X[1]));\n",
    "    \n",
    "    \n",
    "\n",
    "    public static double DiffusionTerm(double[] X, double t) => nu * Cos(c * t) * (-a*a * Sin(a * X[0]) * Sin(b * X[1]) - b*b * Sin(a * X[0]) * Sin(b * X[1]));\n",
    "\n",
    "     public static double SourceTerm (double[] X, double t) =>  !isHeat? -(TimeDerivative(X,t)+ConvectiveTerm(X,t)-DiffusionTerm(X,t)) : 0;\n",
    "  \n",
    "//     public static double TimeDerivative_u(double U,double[] X, double t) => -c *  Sin(c * t)*U/Cos(c*t);\n",
    "\n",
    "//     public static double ConvectiveTerm_u(double U,double[] X, double t) => \n",
    "//    (u(X) * a * Cos(a * X[0]) /Sin(a*X[0])+ v(X) * b * Cos(b * X[1])/Sin(b*X[1]) )*U;\n",
    "\n",
    "//     public static double DiffusionTerm_u(double U,double[] X, double t) => nu *(-a*a-b*b)*U;\n",
    "//     // Calculate the corresponding source term S(u)\n",
    "//     public static double S_u (double U,double[] X, double t) =>  -(TimeDerivative_u(U,X,t)+ConvectiveTerm_u(U,X,t)-DiffusionTerm_u(U,X,t));\n",
    "   \n",
    "}"
   ]
  },
  {
   "cell_type": "markdown",
   "metadata": {},
   "source": [
    "Regarding the spatial part of the operator, we re-use the SIP-implementation \n",
    "which is already available in the `BoSSS.Solution.NSECommon` library.\n",
    "For this implementation, whe have to specify the diffusion coefficient (here to -0.5)\n",
    "as well as the Location of the Dirichlet boundary."
   ]
  },
  {
   "cell_type": "code",
   "execution_count": 118,
   "metadata": {
    "dotnet_interactive": {
     "language": "csharp"
    },
    "polyglot_notebook": {
     "kernelName": "csharp"
    },
    "vscode": {
     "languageId": "polyglot-notebook"
    }
   },
   "outputs": [],
   "source": [
    "class Laplace : BoSSS.Solution.NSECommon.SIPLaplace {\n",
    "\n",
    "    public Laplace() : base(1.4, \"u\") { } // override the constuctor; \n",
    "    //                                       The factor 1.4 is a constant \"safty factor\" multiper for the penalty parameter.\n",
    "    //                                       The base implementation takes care about all other penalty factor dependencies, \n",
    "    //                                       i.e. dependence of the penatly factor on local cell size, DG polynomial degree and cell shape.\n",
    "    //                                       The second argument, \"u\", is the name of the variable for the `ArgumentOrdering`.\n",
    "\n",
    "\n",
    "    // Specifies whetherss a specific point (`inp.X`) is either a Dirichlet or a Neumann boundary;\n",
    "    // Since in our case ther, the entire boundary should be Diriclet, we always return true.\n",
    "    protected override bool IsDirichlet(ref CommonParamsBnd inp) {\n",
    "        return true;\n",
    "    }\n",
    "    \n",
    "    // diffusion coefficient\n",
    "    override public double Nu(double[] x, double[] p, int jCell) {\n",
    "        return -MyGlobals.nu;\n",
    "    }\n",
    "    override protected double g_Diri(ref CommonParamsBnd inp) { \n",
    "        //Console.WriteLine(\"Evaluated at x=\" + inp.X);\n",
    "        return !MyGlobals.isHeat? MyGlobals.uExact(inp.X,inp.time):0.0;\n",
    "        //return 0;\n",
    "    }\n",
    "}"
   ]
  },
  {
   "cell_type": "markdown",
   "metadata": {},
   "source": [
    "#### Advection Operator"
   ]
  },
  {
   "cell_type": "markdown",
   "metadata": {},
   "source": [
    "The flux we are considering is the local Lax-Friedrichs flux\n",
    "$$\n",
    "\\hat{f}(u_h^-, u_h^+,  \\vec{n}) = \\{u_h\\} \\vec{u} \\cdot \\vec{n} + C \\lbrack \\lbrack {u_h} \\rbrack \\rbrack.\n",
    "$$\n",
    "The constant $C \\in \\mathbb{R}^+$ has to be sufficiently large in order to guarantee the stability of the \n",
    "numerical scheme. We choose \n",
    "$$\n",
    "C = \\max \\vert{\\vec{u} \\cdot \\vec{n}}\\vert \n",
    "$$\n"
   ]
  },
  {
   "cell_type": "code",
   "execution_count": 119,
   "metadata": {
    "dotnet_interactive": {
     "language": "csharp"
    },
    "polyglot_notebook": {
     "kernelName": "csharp"
    },
    "vscode": {
     "languageId": "polyglot-notebook"
    }
   },
   "outputs": [],
   "source": [
    "//double C = 0.8;     \n",
    " \n",
    "Func<double, double, Vector, Vector, double> laxFriedrichsFlux =     \n",
    "    delegate(double Uin, double Uout, Vector n, Vector velocityVector) {     \n",
    "        var C=Math.Abs(velocityVector*n);\n",
    "        return 0.5 * (Uin + Uout) * velocityVector * n - C * (Uout - Uin);     \n",
    "    };"
   ]
  },
  {
   "cell_type": "code",
   "execution_count": 120,
   "metadata": {
    "dotnet_interactive": {
     "language": "csharp"
    },
    "polyglot_notebook": {
     "kernelName": "csharp"
    },
    "vscode": {
     "languageId": "polyglot-notebook"
    }
   },
   "outputs": [],
   "source": [
    "\n",
    "class ScalarTransportFlux : IEdgeForm, IVolumeForm\n",
    "{\n",
    "    public TermActivationFlags BoundaryEdgeTerms => TermActivationFlags.UxV;\n",
    "\n",
    "    public TermActivationFlags InnerEdgeTerms => TermActivationFlags.UxV;\n",
    "\n",
    "    public TermActivationFlags VolTerms => TermActivationFlags.UxGradV;\n",
    "\n",
    "    public IList<string> ParameterOrdering => null;\n",
    "     \n",
    "    public IList<string> ArgumentOrdering {     \n",
    "        get { return new string[] { \"u\" }; }     \n",
    "    }  \n",
    "\n",
    "    private Func<double, double, Vector, Vector, double> numericalFlux;     \n",
    " \n",
    "    // Provides instances of this class with a specific flux implementation     \n",
    "    public ScalarTransportFlux(     \n",
    "        Func<double, double, Vector, Vector, double> numericalFlux) {     \n",
    " \n",
    "        this.numericalFlux = numericalFlux;     \n",
    "    }     \n",
    "   \n",
    " \n",
    "    protected void Flux(     \n",
    "        double time, double[] x, double[] U, double[] output) {     \n",
    " \n",
    "        output[0] = MyGlobals.u(x) * U[0];     \n",
    "        output[1] = MyGlobals.v(x) * U[0];     \n",
    "    }     \n",
    " \n",
    "    // Makes use of the flux implementation supplied in the constructor     \n",
    "    protected  double InnerEdgeFlux(     \n",
    "        double time, double[] x, double[] normal,      \n",
    "        double[] Uin, double[] Uout, int jEdge) {     \n",
    " \n",
    "        Vector n              = new Vector(normal);     \n",
    "        Vector velocityVector = new Vector(MyGlobals.u(x), MyGlobals.v(x));     \n",
    " \n",
    "        return numericalFlux(Uin[0], Uout[0], n, velocityVector);     \n",
    "    }     \n",
    " \n",
    "    protected  double BorderEdgeFlux(     \n",
    "        double time, double[] x, double[] normal, byte EdgeTag,     \n",
    "        double[] Uin, int jEdge) {     \n",
    " \n",
    "        double[] Uout = new double[] { MyGlobals.uExact(x, time) };     \n",
    " \n",
    "        return InnerEdgeFlux(time, x, normal, Uin, Uout, jEdge);     \n",
    "    }   \n",
    "    public double VolumeForm(ref CommonParamsVol cpv, double[] U, double[,] GradU, double V, double[] GradV)\n",
    "    {\n",
    "\n",
    "        return - MyGlobals.u(cpv.Xglobal) * U[0]*GradV[0]-MyGlobals.v(cpv.Xglobal) * U[0]*GradV[1];\n",
    "    }  \n",
    "        public double BoundaryEdgeForm(ref CommonParamsBnd inp, double[] _uA, double[,] _Grad_uA, double _vA, double[] _Grad_vA)\n",
    "    {\n",
    "        return BorderEdgeFlux(     \n",
    "        inp.time, inp.X, inp.Normal, inp.EdgeTag,     \n",
    "        _uA, inp.iEdge)*_vA;\n",
    "    }\n",
    "\n",
    "    public double InnerEdgeForm(ref CommonParams inp, double[] _uIN, double[] _uOUT, double[,] _Grad_uIN, double[,] _Grad_uOUT, double _vIN, double _vOUT, double[] _Grad_vIN, double[] _Grad_vOUT)\n",
    "    {\n",
    "        return InnerEdgeFlux(inp.time, inp.X, inp.Normal,     \n",
    "        _uIN,_uOUT, inp.iEdge)*(_vIN-_vOUT);\n",
    "    }\n",
    "}"
   ]
  },
  {
   "cell_type": "code",
   "execution_count": 121,
   "metadata": {
    "dotnet_interactive": {
     "language": "csharp"
    },
    "polyglot_notebook": {
     "kernelName": "csharp"
    },
    "vscode": {
     "languageId": "polyglot-notebook"
    }
   },
   "outputs": [],
   "source": [
    "class SourceTerm : IVolumeForm\n",
    "{\n",
    "\n",
    "    public TermActivationFlags VolTerms => TermActivationFlags.V;\n",
    "\n",
    "    public IList<string> ArgumentOrdering {     \n",
    "        get { return new string[] { \"u\" }; }     \n",
    "    } \n",
    "\n",
    "    public IList<string> ParameterOrdering => null;\n",
    "\n",
    "    public double VolumeForm(ref CommonParamsVol cpv, double[] U, double[,] GradU, double V, double[] GradV)\n",
    "    {\n",
    "        //return U[0]*V;\n",
    "        //return MyGlobals.S_u(U[0],cpv.Xglobal,cpv.time)*V;\n",
    "        return MyGlobals.SourceTerm(cpv.Xglobal,cpv.time)*V;\n",
    "    }\n",
    "}"
   ]
  },
  {
   "cell_type": "markdown",
   "metadata": {},
   "source": [
    "#### Operator assembly\n",
    "We compose the differential operator from the previously created \n",
    "`Laplace` implementation and add the `ScalarTransportFlux`. "
   ]
  },
  {
   "cell_type": "code",
   "execution_count": 122,
   "metadata": {
    "dotnet_interactive": {
     "language": "csharp"
    },
    "polyglot_notebook": {
     "kernelName": "csharp"
    },
    "vscode": {
     "languageId": "polyglot-notebook"
    }
   },
   "outputs": [],
   "source": [
    "var Op = new DifferentialOperator(1, 0, 1, QuadOrderFunc.Linear(), \"u\", \"R1\");\n",
    "\n",
    "Op.EquationComponents[\"R1\"].Add(new Laplace()); // adding Laplace\n",
    "if(MyGlobals.isHeat){\n",
    "}else{\n",
    "    Op.EquationComponents[\"R1\"].Add(new ScalarTransportFlux(laxFriedrichsFlux)); // adding Advection\n",
    "    Op.EquationComponents[\"R1\"].Add(new SourceTerm()); // adding source term\n",
    "}\n",
    "\n",
    "Op.TemporalOperator = new ConstantTemporalOperator(Op);\n",
    "Op.IsLinear = true;\n",
    "Op.Commit();"
   ]
  },
  {
   "cell_type": "code",
   "execution_count": 123,
   "metadata": {
    "dotnet_interactive": {
     "language": "csharp"
    },
    "polyglot_notebook": {
     "kernelName": "csharp"
    },
    "vscode": {
     "languageId": "polyglot-notebook"
    }
   },
   "outputs": [
    {
     "data": {
      "text/html": [
       "<div class=\"dni-plaintext\"><pre>1</pre></div><style>\r\n",
       ".dni-code-hint {\r\n",
       "    font-style: italic;\r\n",
       "    overflow: hidden;\r\n",
       "    white-space: nowrap;\r\n",
       "}\r\n",
       ".dni-treeview {\r\n",
       "    white-space: nowrap;\r\n",
       "}\r\n",
       ".dni-treeview td {\r\n",
       "    vertical-align: top;\r\n",
       "    text-align: start;\r\n",
       "}\r\n",
       "details.dni-treeview {\r\n",
       "    padding-left: 1em;\r\n",
       "}\r\n",
       "table td {\r\n",
       "    text-align: start;\r\n",
       "}\r\n",
       "table tr { \r\n",
       "    vertical-align: top; \r\n",
       "    margin: 0em 0px;\r\n",
       "}\r\n",
       "table tr td pre \r\n",
       "{ \r\n",
       "    vertical-align: top !important; \r\n",
       "    margin: 0em 0px !important;\r\n",
       "} \r\n",
       "table th {\r\n",
       "    text-align: start;\r\n",
       "}\r\n",
       "</style>"
      ]
     },
     "metadata": {},
     "output_type": "display_data"
    }
   ],
   "source": [
    "Op.EquationComponents.Count()"
   ]
  },
  {
   "cell_type": "markdown",
   "metadata": {},
   "source": [
    "## Find the time step"
   ]
  },
  {
   "cell_type": "markdown",
   "metadata": {},
   "source": [
    "### Spatial error estimation\n",
    "To get an estimation of the spatial error, one needs a reference solution, i.e. a solution on a finer dimensional spatial approximation space. In the present work, we use an order-incremented finer space, $p\\rightarrow p+1$, and define $\\mathbf{U}_{p+1}=\\mathbf{I}^p_{p+1}\\mathbf{U}_{p}$ the prolongation of the coarse state to the finer space. The operator $\\mathbf{I}^p_{p+1}$ in the present case is an $L_2$ projection. To measure the spatial error, the velocity on the coarse space is compared with the one on the fine space. This comparison must be done on the same approximation space, taken as $p+1$, and hence the coarse-space velocity is prolongated to the fine space\n",
    "$$\n",
    "    \\varepsilon_{space} = ||\\mathbf{R}_{p+1}(\\mathbf{I}_{p+1}^p \\mathbf{U}_p^{n+1}) - \\mathbf{M}_{p+1}\\mathbf{I}_{p+1}^p\\mathbf{M}_{p}^{-1}\\mathbf{R}_{p}(\\mathbf{U}_p^{n+1})|| .\n",
    "$$\n",
    "\n",
    "`Note`: For SinglephaseFields in BoSSS the Mass Matrices are identity and the prolongation operator is a simple inclusion. Thus the the result is the norm of the enriched residual vector setting all entries corresponding to degree less or equal than p to zero."
   ]
  },
  {
   "cell_type": "code",
   "execution_count": 124,
   "metadata": {
    "dotnet_interactive": {
     "language": "csharp"
    },
    "polyglot_notebook": {
     "kernelName": "csharp"
    },
    "vscode": {
     "languageId": "polyglot-notebook"
    }
   },
   "outputs": [],
   "source": [
    "using ilPSP.LinSolvers;\n",
    "static DGField[] ProlongateCoarseState(DGField[] U)\n",
    "{\n",
    "    \n",
    "    // Prolongating coarse state to the finer space\n",
    "    var Up1= U.CloneAs();\n",
    "    if(U is SinglePhaseField[] uSF){\n",
    "        for (int iField=0;iField< U.Length;iField++){\n",
    "            var enriched_basis= new Basis(U[iField].Basis.GridDat,U[iField].Basis.Degree+1);\n",
    "            Up1[iField]=new SinglePhaseField(enriched_basis,U[iField].Identification);\n",
    "            Up1[iField].AccLaidBack(1.0,U[iField]);\n",
    "        }\n",
    "    }else if(U is XDGField[] Ux){\n",
    "        for (int iField=0;iField< U.Length;iField++){\n",
    "            var enriched_basis= new XDGBasis(Ux[iField].Basis.Tracker,Ux[iField].Basis.Degree+1);\n",
    "            Up1[iField]=new XDGField(enriched_basis,Ux[iField].Identification);\n",
    "            Up1[iField].AccLaidBack(1.0,Ux[iField]);\n",
    "        }\n",
    "    }else{\n",
    "        throw new NotSupportedException(\"this type of DGField is not supported\");\n",
    "    }\n",
    "    return Up1;\n",
    "}\n",
    "static double[] EvalEnrichedRes(DGField[] U,IDifferentialOperator Op){\n",
    "    var Up1= ProlongateCoarseState(U);\n",
    "    return EvalRes(Up1,Op);\n",
    "}\n",
    "static double[] EvalRes(DGField[] U,IDifferentialOperator Op){\n",
    "    var U_map = new CoordinateMapping(U);\n",
    "    IEvaluatorNonLin Eval_R =null;\n",
    "    if(U is SinglePhaseField[] uSF && Op is DifferentialOperator){ \n",
    "        Eval_R = Op.GetEvaluatorEx( U, null, U_map);\n",
    "    }else if(U is XDGField[] Ux && Op is XDifferentialOperatorMk2 OpX){\n",
    "        var LsTrk = Ux[0].Basis.Tracker;\n",
    "        Eval_R = OpX.GetEvaluatorEx(LsTrk, U, null, U_map);\n",
    "    }else{\n",
    "        throw new NotSupportedException(\"this type of DGField is not supported\");\n",
    "    }\n",
    "    double[] en_res=new double[U_map.TotalLength];\n",
    "    Eval_R.Evaluate(1.0, 0.0, en_res);\n",
    "    return en_res;\n",
    "}\n",
    "static DGField[] EvalRes_toDGField(DGField[] U,IDifferentialOperator Op){\n",
    "    double[] RpUp=EvalRes(U,Op);\n",
    "    DGField[] Residual=null;\n",
    "    \n",
    "    if(U is SinglePhaseField[] uSF){\n",
    "        Residual = new SinglePhaseField[U.Length];\n",
    "        for (int iField=0;iField< U.Length;iField++){\n",
    "            Residual[iField]=new SinglePhaseField(U[iField].Basis,U[iField].Identification);\n",
    "        }\n",
    "    }else if(U is XDGField[] Ux){\n",
    "        Residual = new XDGField[U.Length];\n",
    "        for (int iField=0;iField< U.Length;iField++){\n",
    "            Residual[iField]=new XDGField(Ux[iField].Basis,Ux[iField].Identification);\n",
    "        }\n",
    "    }else{\n",
    "        throw new NotSupportedException(\"this type of DGField is not supported\");\n",
    "    }\n",
    "\n",
    "    var res_vec= new CoordinateVector(Residual);\n",
    "    res_vec.Acc(1.0,RpUp);\n",
    "    return Residual;\n",
    "}\n",
    "static double CalculateDiffNorm(double[] first_term,double[] sec_term){\n",
    "    if(first_term.Length==sec_term.Length){\n",
    "        // calc the difference\n",
    "        var diff=first_term.CloneAs();\n",
    "        diff.AccV(-1.0,sec_term);\n",
    "        return (diff.L2Norm());\n",
    "    }else{\n",
    "        throw new ArgumentException(\"lengths of input must match\");\n",
    "    }\n",
    "}\n",
    "\n",
    "static double[] CalculateSpatialErrorElementwise(DGField[] U,IDifferentialOperator Op)\n",
    "{\n",
    "\n",
    "    // first term\n",
    "    var Up1=ProlongateCoarseState(U);\n",
    "    var Rp1Up1=EvalRes_toDGField(Up1,Op);\n",
    "    var Rp1Up1_vec= new CoordinateVector(Rp1Up1);\n",
    "    Rp1Up1_vec.Clear();\n",
    "    Rp1Up1_vec.SetV(EvalEnrichedRes(U,Op));\n",
    "\n",
    "    //second term\n",
    "    var RpUp=EvalRes_toDGField(U,Op);\n",
    "    var sec_term = ProlongateCoarseState(RpUp);\n",
    "    var sec_term_vec= new CoordinateVector(sec_term);\n",
    "\n",
    "    //XDG Case we need to multiply mass matrices\n",
    "    if(U is XDGField[] Ux){\n",
    "        var res_vec= new CoordinateVector(RpUp);\n",
    "        // get p Mass Mat and multiplicate with R_p(U_p)\n",
    "        var LsTrk= Ux[0].Basis.Tracker;\n",
    "        var mapping= new CoordinateMapping(U);\n",
    "        MassMatrixFactory mMFp = LsTrk.GetXDGSpaceMetrics(LsTrk.SpeciesIdS, Op.GetOrderFromQuadOrderFunction(mapping.BasisS,null,mapping.BasisS)).MassMatrixFactory;\n",
    "        BlockMsrMatrix Mp_inv = mMFp.GetMassMatrix(mapping, inverse: true);\n",
    "        double[] MpxRp= new double[res_vec.Length];\n",
    "        Mp_inv.SpMV(1.0,res_vec,0.0,MpxRp);\n",
    "\n",
    "        //put result into CoordinateVector of RpUp\n",
    "        res_vec.Clear();\n",
    "        res_vec.Acc(1.0,MpxRp);\n",
    "\n",
    "        //do the prolongation I_p*(...)\n",
    "        var prol_state=ProlongateCoarseState(RpUp);\n",
    "\n",
    "        // multpliy p+1 Mass Matrix\n",
    "        var mapping_p1= new CoordinateMapping(prol_state);\n",
    "        MassMatrixFactory mMFp1 = LsTrk.GetXDGSpaceMetrics(LsTrk.SpeciesIdS, Op.GetOrderFromQuadOrderFunction(mapping_p1.BasisS,null,mapping_p1.BasisS)).MassMatrixFactory;\n",
    "        BlockMsrMatrix Mp1 = mMFp1.GetMassMatrix(mapping_p1, inverse: false);\n",
    "        double[] Mp1xRp1= new double[res_vec.Length];\n",
    "\n",
    "        sec_term_vec.Clear();\n",
    "        Mp1.SpMV(1.0,new CoordinateVector( prol_state),0.0,sec_term_vec);\n",
    "    }\n",
    "\n",
    "    // Assemble the element-wise spatial error\n",
    "    int nCells= U[0].Basis.GridDat.iGeomCells.Count;\n",
    "    var epsilonSpace =new double[nCells];\n",
    "    BitArray cells= new BitArray(U[0].Basis.GridDat.iGeomCells.Count);\n",
    "\n",
    "    for (int cell=0;cell<nCells; cell++){ //loop over all cells\n",
    "        double acc=0;\n",
    "        cells[cell]=true;\n",
    "        var cm= new CellMask(U[0].Basis.GridDat,cells);\n",
    "        for (int iField=0;iField< U.Length;iField++){ //loop over Fields\n",
    "            epsilonSpace[cell]=Rp1Up1[iField].L2Error(sec_term[iField],cm);\n",
    "        };\n",
    "        cells[cell]=false;\n",
    "    }\n",
    "    return epsilonSpace;\n",
    "}\n"
   ]
  },
  {
   "cell_type": "markdown",
   "metadata": {},
   "source": [
    "test it using exact solution"
   ]
  },
  {
   "cell_type": "code",
   "execution_count": 125,
   "metadata": {
    "dotnet_interactive": {
     "language": "csharp"
    },
    "polyglot_notebook": {
     "kernelName": "csharp"
    },
    "vscode": {
     "languageId": "polyglot-notebook"
    }
   },
   "outputs": [
    {
     "data": {
      "text/html": [
       "<div class=\"dni-plaintext\"><pre>[ 25.405865012044387, 110.36684353541315, 201.73773353375, 220.67661410404887 ]</pre></div><style>\r\n",
       ".dni-code-hint {\r\n",
       "    font-style: italic;\r\n",
       "    overflow: hidden;\r\n",
       "    white-space: nowrap;\r\n",
       "}\r\n",
       ".dni-treeview {\r\n",
       "    white-space: nowrap;\r\n",
       "}\r\n",
       ".dni-treeview td {\r\n",
       "    vertical-align: top;\r\n",
       "    text-align: start;\r\n",
       "}\r\n",
       "details.dni-treeview {\r\n",
       "    padding-left: 1em;\r\n",
       "}\r\n",
       "table td {\r\n",
       "    text-align: start;\r\n",
       "}\r\n",
       "table tr { \r\n",
       "    vertical-align: top; \r\n",
       "    margin: 0em 0px;\r\n",
       "}\r\n",
       "table tr td pre \r\n",
       "{ \r\n",
       "    vertical-align: top !important; \r\n",
       "    margin: 0em 0px !important;\r\n",
       "} \r\n",
       "table th {\r\n",
       "    text-align: start;\r\n",
       "}\r\n",
       "</style>"
      ]
     },
     "metadata": {},
     "output_type": "display_data"
    }
   ],
   "source": [
    "var nC=2;\n",
    "var gridTest = Grid2D.Cartesian2DGrid(GenericBlas.Linspace(0.0,2.0,nC+1), GenericBlas.Linspace(0.0,2.0,nC+1));\n",
    "var u = new SinglePhaseField(new Basis(gridTest, 2), \"u\");\n",
    "u.ProjectField((double[] X) => MyGlobals.uExact(X,2.0));\n",
    "var U =new SinglePhaseField[1]; U[0]=u;\n",
    "CalculateSpatialErrorElementwise(U,Op)"
   ]
  },
  {
   "cell_type": "markdown",
   "metadata": {},
   "source": [
    "### Temporal error estimation\n",
    "To evaluate a temporal error, one reconstructs the state as a polynomial in time based on the endpoint states and velocities. With these 4 information, a cubic polynomial $\\mathbf{U}(t)$ is uniquely defined and then projected to a lower-order polynomial in time $\\mathbf{\\tilde{U}}(t)$, here quadratic, with a $L_2$ projection over the time-step $t_n\\rightarrow t_{n+1}$ with the constraint that the state at $t_n$ does not change. The temporal error is then the difference between the velocities, measured as fine-space residuals, at time node $t_{n+1}$ using the original state and the state from the lower-order temporal reconstruction\n",
    "$$\n",
    "\\varepsilon_{time} = ||\\mathbf{R}_{p+1}(\\mathbf{I}_{p+1}^p \\mathbf{U}_p^{n+1}) - \\mathbf{R}_{p+1}(\\mathbf{I}_{p+1}^p \\mathbf{\\tilde{U}}_p^{n+1})||.\n",
    "$$\n",
    "One finds for the lower-order temporal reconstructed state \n",
    "$$\n",
    "\\begin{split}\n",
    "    \\mathbf{\\tilde{U}}_p^{n+1} = \\mathbf{\\tilde{U}}_p(\\Delta t) &= \\dfrac{17}{15}\\mathbf{U}_p^{n+1}-\\dfrac{2}{15}\\mathbf{U}_p^n+\\dfrac{\\Delta t}{15}\\left(\\mathbf{M}_p^{-1}\\mathbf{R}_p(\\mathbf{U}_p^n)+\\mathbf{M}^{-1}\\mathbf{R}_p(\\mathbf{U}_p^{n+1})\\right).\n",
    "\\end{split}\n",
    "$$"
   ]
  },
  {
   "cell_type": "markdown",
   "metadata": {},
   "source": [
    "### Total Temporal Error Fraction\n",
    "Denote by the subscript $e$ norms (here $L_2$ ) computed over a single element. So element $e$ has a spatial error of $\\varepsilon_{\\text {time, } e}$ and a temporal error of $\\varepsilon_{\\text {time, }}$. Define the temporal error fraction on element $e$ as\n",
    "$$\n",
    "f_{\\text {time }, e} \\equiv \\frac{\\varepsilon_{\\text {time }, \\mathrm{e}}}{\\varepsilon_{\\text {time }, \\mathrm{e}}+\\varepsilon_{\\text {space }, \\mathrm{e}}} .\n",
    "$$\n",
    "\n",
    "The total temporal error fraction over the entire mesh is then computed by averaging $f_{\\text {time, } e}$ over elements,\n",
    "$$\n",
    "f_{\\text {time }}=\\frac{1}{N_e} \\sum_e f_{\\text {time }, e} .\n",
    "$$"
   ]
  },
  {
   "cell_type": "code",
   "execution_count": 126,
   "metadata": {
    "dotnet_interactive": {
     "language": "csharp"
    },
    "polyglot_notebook": {
     "kernelName": "csharp"
    },
    "vscode": {
     "languageId": "polyglot-notebook"
    }
   },
   "outputs": [],
   "source": [
    "static double[] CalculateTemporalErrorElementWise(DGField[] Un,DGField[] Un1, IDifferentialOperator Op, double DeltaT)\n",
    "{\n",
    "\n",
    "    // First term\n",
    "    // var Un1_prol=ProlongateCoarseState(Un1);\n",
    "    // var Rp1Un1= EvalRes_toDGField(Un1_prol,Op);\n",
    "   \n",
    "    // Second term\n",
    "    // var UPtilde = EvaluateLowerOrderTemporalReconstruction(Un,Un1, DeltaT, Op);\n",
    "    // var UPtilde_prol= ProlongateCoarseState(UPtilde);\n",
    "    // var sec_term=EvalRes_toDGField(UPtilde_prol, Op);\n",
    "\n",
    "    //Alternative version (V2)\n",
    "    var Rp1Un1= EvalRes_toDGField(Un1,Op);\n",
    "    var sec_term=EvalRes_toDGField(Un, Op);\n",
    "\n",
    "    //Alternative version (V3)\n",
    "    //var Rp1Un1= EvalRes_toDGField( ProlongateCoarseState(Un1),Op);\n",
    "    //var sec_term=EvalRes_toDGField(ProlongateCoarseState(Un), Op);\n",
    "\n",
    "    // Assemble the element-wise temporal error\n",
    "    int nCells= Un[0].Basis.GridDat.iGeomCells.Count;\n",
    "    var epsilonTime =new double[nCells];\n",
    "    BitArray cells= new BitArray(Un[0].Basis.GridDat.iGeomCells.Count);\n",
    "\n",
    "    for (int cell=0;cell<nCells; cell++){ //loop over all nCells\n",
    "        cells[cell]=true;\n",
    "        var cm= new CellMask(Un[0].Basis.GridDat,cells);\n",
    "        for (int iField=0;iField< Un.Length;iField++){ //loop over Fields\n",
    "            epsilonTime[cell]=Rp1Un1[iField].L2Error(sec_term[iField],cm);\n",
    "        };\n",
    "        cells[cell]=false;\n",
    "    }\n",
    "    return epsilonTime;\n",
    "}\n",
    "\n",
    "static DGField[] EvaluateLowerOrderTemporalReconstruction(DGField[] Un,DGField[] Un1, double DeltaT, IDifferentialOperator Op)\n",
    "{\n",
    "    var UPtilde = Un.CloneAs();\n",
    "    for (int iField=0;iField< Un.Length;iField++){\n",
    "        UPtilde[iField]=Un[iField].CloneAs();\n",
    "        UPtilde[iField].Clear();\n",
    "    }\n",
    "    var U_tilde_vec= new CoordinateVector(UPtilde);\n",
    "    double factor1 = 17.0 / 15.0;\n",
    "    double factor2 = -2.0 / 15.0;\n",
    "    U_tilde_vec.Acc(factor1,new CoordinateVector(Un1));\n",
    "    U_tilde_vec.Acc(factor2,new CoordinateVector(Un));\n",
    "    double factor3 = DeltaT / 15.0;\n",
    "    var RpUn=EvalRes(Un,Op);\n",
    "    var RpUn1=EvalRes(Un1,Op);\n",
    "    \n",
    "    //DG Case\n",
    "    if(Un is SinglePhaseField[] uSF){ // no Mass Matrix mult needed\n",
    "        U_tilde_vec.Acc(factor3,RpUn);\n",
    "        U_tilde_vec.Acc(factor3,RpUn1);\n",
    "    // XDG Case\n",
    "    }else if(Un is XDGField[] Ux){\n",
    "        throw new NotImplementedException(\"not implemented yet\");\n",
    "    }else {\n",
    "        throw new NotImplementedException(\"field type not supported\");\n",
    "    }\n",
    "    return UPtilde;\n",
    "    //return Un1;\n",
    "}\n",
    "static DGField[] EvaluateLowerOrderTemporalReconstructionV2(DGField[] Un,DGField[] Un1, double DeltaT, IDifferentialOperator Op)\n",
    "{\n",
    "    var UPtilde = Un.CloneAs();\n",
    "    for (int iField=0;iField< Un.Length;iField++){\n",
    "        UPtilde[iField]=Un[iField].CloneAs();\n",
    "        UPtilde[iField].Clear();\n",
    "    }\n",
    "    var U_tilde_vec= new CoordinateVector(UPtilde);\n",
    "\n",
    "    var U1=new CoordinateVector(Un1);\n",
    "    var U0=new CoordinateVector(Un);\n",
    "    var R0=EvalRes(Un,Op);\n",
    "    var R1=EvalRes(Un1,Op);\n",
    "    var T=DeltaT;\n",
    "\n",
    "    //coefficients of third order polynomial p(t)=at^3+bt^2+ct+d\n",
    "    // such that p(0)=U0,p'(0)=R0,p(T)=U1,p'(T)=R1,\n",
    "    // a=(R0*T + R1*T + 2*U0 - 2*U1)/(T*T*T)\n",
    "    var a= R0.CloneAs();a.Clear();\n",
    "    a.AccV(T,R0); a.AccV(T,R1);a.AccV(2.0,U0);a.AccV(-2.0,U1); a.ScaleV(1/(T*T*T));\n",
    "    // b=-(2*R0*T + R1*T + 3*U0 - 3*U1)/T^2\n",
    "    var b= R0.CloneAs();b.Clear();\n",
    "    b.AccV(2*T,R0); b.AccV(T,R1);b.AccV(3.0,U0);b.AccV(-3.0,U1); b.ScaleV(-1/(T*T));\n",
    "    // c=R0\n",
    "    var c= R0.CloneAs();\n",
    "    // d=U0\n",
    "    var d= U0.ToArray().CloneAs();\n",
    "\n",
    "    //coefficients of second order projected polynomial p2(t)=et^2+ft^1+g\n",
    "    //e=b + (4*a*T)/3\n",
    "    var e= b.CloneAs();e.Clear();\n",
    "    e.AccV(1.0,b);e.AccV(4*T/3,a);\n",
    "    //f=c - (2*b*T^2)/5\n",
    "    var f= c.CloneAs();f.Clear();\n",
    "    f.AccV(1.0,c);f.AccV(-2*T*T/5,a);\n",
    "    //g=d\n",
    "    var g= d.CloneAs();g.Clear();\n",
    "    g.AccV(1.0,U0.ToArray());\n",
    "\n",
    "    //now U_tilde=p2(T)=eT^2+fT^1+g;\n",
    "    U_tilde_vec.AccV(T*T,e);U_tilde_vec.AccV(T,f);U_tilde_vec.AccV(1.0,g);\n",
    "    //U_tilde_vec.AccV(T*T*T,a);U_tilde_vec.AccV(T*T,b);U_tilde_vec.AccV(T,c);U_tilde_vec.AccV(1.0,d);\n",
    "    return UPtilde;\n",
    "    //return Un1;\n",
    "}\n",
    "static double[] CalculateTemporalErrorFraction(double[] TempErr_elem,double[] SpatErr_elem ){\n",
    "    int nCells=TempErr_elem.Length;\n",
    "    double[] TEF=new double[nCells];\n",
    "    for (int cell=0;cell<nCells; cell++){ \n",
    "        TEF[cell]=TempErr_elem[cell]/(TempErr_elem[cell] +SpatErr_elem[cell]);\n",
    "    }\n",
    "    return TEF;\n",
    "}\n",
    "static double CalculateTotalTemporalErrorFraction(DGField[] Un,DGField[] Un1, IDifferentialOperator Op, double DeltaT ){\n",
    "    var TempErr_elem=CalculateTemporalErrorElementWise(Un,Un1,Op,DeltaT);\n",
    "    var SpatErr_elem=CalculateSpatialErrorElementwise(Un1,Op);\n",
    "    var TEF= CalculateTemporalErrorFraction(TempErr_elem,SpatErr_elem);\n",
    "    return TEF.Average();\n",
    "}\n",
    "\n"
   ]
  },
  {
   "cell_type": "markdown",
   "metadata": {},
   "source": [
    "some more testing"
   ]
  },
  {
   "cell_type": "code",
   "execution_count": 127,
   "metadata": {
    "dotnet_interactive": {
     "language": "csharp"
    },
    "polyglot_notebook": {
     "kernelName": "csharp"
    },
    "vscode": {
     "languageId": "polyglot-notebook"
    }
   },
   "outputs": [
    {
     "data": {
      "text/html": [
       "<div class=\"dni-plaintext\"><pre>0.18899776752233918</pre></div><style>\r\n",
       ".dni-code-hint {\r\n",
       "    font-style: italic;\r\n",
       "    overflow: hidden;\r\n",
       "    white-space: nowrap;\r\n",
       "}\r\n",
       ".dni-treeview {\r\n",
       "    white-space: nowrap;\r\n",
       "}\r\n",
       ".dni-treeview td {\r\n",
       "    vertical-align: top;\r\n",
       "    text-align: start;\r\n",
       "}\r\n",
       "details.dni-treeview {\r\n",
       "    padding-left: 1em;\r\n",
       "}\r\n",
       "table td {\r\n",
       "    text-align: start;\r\n",
       "}\r\n",
       "table tr { \r\n",
       "    vertical-align: top; \r\n",
       "    margin: 0em 0px;\r\n",
       "}\r\n",
       "table tr td pre \r\n",
       "{ \r\n",
       "    vertical-align: top !important; \r\n",
       "    margin: 0em 0px !important;\r\n",
       "} \r\n",
       "table th {\r\n",
       "    text-align: start;\r\n",
       "}\r\n",
       "</style>"
      ]
     },
     "metadata": {},
     "output_type": "display_data"
    }
   ],
   "source": [
    "var nC=4; var t0=1.0;var t1=20.0;\n",
    "var gridTest = Grid2D.Cartesian2DGrid(GenericBlas.Linspace(0.0,2.0,nC+1), GenericBlas.Linspace(0.0,2.0,nC+1));\n",
    "var u0 = new SinglePhaseField(new Basis(gridTest, 1), \"u\");\n",
    "var u1 = new SinglePhaseField(new Basis(gridTest, 1), \"u\");\n",
    "u0.ProjectField((double[] X) => MyGlobals.uExact(X,t0));\n",
    "u1.ProjectField((double[] X) => MyGlobals.uExact(X,t1));\n",
    "var Un =new SinglePhaseField[1]; Un[0]=u0;\n",
    "var Un1 =new SinglePhaseField[1]; Un1[0]=u1;\n",
    "//CalculateTemporalErrorElementWise(U0,U1,Op,t1-t0)\n",
    "CalculateTotalTemporalErrorFraction(Un,Un1,Op,t1-t0)\n"
   ]
  },
  {
   "cell_type": "markdown",
   "metadata": {},
   "source": [
    "### Adaptive Time Integration routine"
   ]
  },
  {
   "cell_type": "markdown",
   "metadata": {},
   "source": [
    "The spatial and temporal error estimates are calculated after taking a time step. Let $\\Delta t$ be the size of this step. The time-step control algorithm must then decide whether to redo this time step, if the temporal error is too high compared to the spatial error, or whether to proceed to the next time step. If the latter, the algorithm should pick the size of the next time step to balance the errors. This choice is done using the current-step error estimates, and hence the decision about the size of the next step will be retrospective. In this work, we set the time step using a relatively simple strategy based on an assumed temporal order, $r$. The strategy proceeds as follows:\n",
    "1) Take the current time step, estimate the errors, and compute $f_{\\text {time }}$ according to Eqn. 19.\n",
    "2) If $f_{\\text {time }}>f_{\\text {limit }}$, redo the time step using $\\Delta t / 2$.\n",
    "3) Else, set $\\Delta t_{\\text {next }}=\\min \\left(r_{\\max }, f^{-1 / r}\\right) \\Delta t$, where $f \\equiv f_{\\text {time }} /\\left(1-f_{\\text {time }}\\right)$ is the temporal/spatial error ratio.\n",
    "\n",
    "For the present results, we use $f_{\\text {limit }}=0.6, r_{\\text {max }}=1.5, r=2$, which may not be optimal but have yielded reasonable results. Better choices for these parameters, basing $r$ on the formal temporal order of accuracy, and a more sophisticated control strategy are the subject of future work.\n"
   ]
  },
  {
   "cell_type": "code",
   "execution_count": null,
   "metadata": {
    "dotnet_interactive": {
     "language": "csharp"
    },
    "polyglot_notebook": {
     "kernelName": "csharp"
    },
    "vscode": {
     "languageId": "polyglot-notebook"
    }
   },
   "outputs": [],
   "source": [
    "    public (DGField[] Un1, List<double> TimeSteps)  AdaptiveTimeIntegrate(DifferentialOperator Op,DGField[] U0, double EndTime, double dtStart, TimeSteppingScheme tsScheme = TimeSteppingScheme.ESDIRK_64)\n",
    "    {\n",
    "        List<double> TimeSteps= new List<double>();\n",
    "        \n",
    "        double f_limit = 0.5;\n",
    "        double r_max = 1.5;\n",
    "        double r = 2.0;\n",
    "        int tMax=1000;\n",
    "        var Un1=CloneDGArray(U0);\n",
    "        var IterationResiduals=CloneDGArray(U0);\n",
    "        var Timestepper = new XdgTimestepping(Op, Un1, IterationResiduals, tsScheme);\n",
    "\n",
    "        var currentTime=0.0;var currentTime_old=0.0;\n",
    "        int NoOfTimeSteps = 0;\n",
    "        double nextDt=dtStart;\n",
    "        var Un1_vec=new CoordinateVector(Un1);\n",
    "        while(currentTime+nextDt<EndTime && NoOfTimeSteps<tMax)\n",
    "        {   \n",
    "            //backup \n",
    "            var Un0 = CloneDGArray(Un1);\n",
    "\n",
    "            //do timestep\n",
    "            currentTime_old=currentTime;\n",
    "            Timestepper.Solve(currentTime, nextDt);\n",
    "            \n",
    "            //calculate error estimator\n",
    "            double f_time = CalculateTotalTemporalErrorFraction(Un0, Un1, Op, nextDt);\n",
    "            double f = f_time / (1.0 - f_time);\n",
    "\n",
    "            //decide what to do next\n",
    "            if (f_time > f_limit)\n",
    "            {\n",
    "                // Redo the time step with DeltaT / 2\n",
    "                Timestepper.LsTrk.PopStacks();\n",
    "                var Un0_vec=new CoordinateVector(Un0);\n",
    "                Un1_vec.Clear();\n",
    "                Un1_vec.SetV(Un0_vec);\n",
    "                nextDt=nextDt / 2.0;\n",
    "                //Console.WriteLine($\"f_time={f_time}, reducing ts to {nextDt}\");\n",
    "            }\n",
    "            else\n",
    "            {\n",
    "                //add Ts\n",
    "                currentTime=currentTime+nextDt;\n",
    "                TimeSteps.Add(nextDt);\n",
    "                // Set the next time step size\n",
    "                nextDt = Math.Min(r_max,Math.Pow(f, -1.0 / r)) * nextDt;\n",
    "                //Console.WriteLine($\"f_time={f_time}, changing ts to {nextDt}\");\n",
    "                NoOfTimeSteps++;\n",
    "            }\n",
    "        }\n",
    "        if( NoOfTimeSteps>=tMax){\n",
    "            Console.WriteLine(\"NoOfTimeSteps exceeded tMax\");\n",
    "        }\n",
    "        if(currentTime<EndTime){\n",
    "            Timestepper.Solve(currentTime, EndTime-currentTime);\n",
    "        }\n",
    "        return (Un1,TimeSteps);\n",
    "    }\n",
    "    DGField[] CloneDGArray(DGField[] u){\n",
    "        var u_clone= u.CloneAs();\n",
    "        for(int iField=0;iField<u.Length;iField++){\n",
    "            u_clone[iField]=u[iField].CloneAs();\n",
    "        }\n",
    "        return u_clone;\n",
    "    }"
   ]
  },
  {
   "cell_type": "markdown",
   "metadata": {},
   "source": [
    "## Performing Temporal Integration"
   ]
  },
  {
   "cell_type": "code",
   "execution_count": 129,
   "metadata": {
    "dotnet_interactive": {
     "language": "csharp"
    },
    "polyglot_notebook": {
     "kernelName": "csharp"
    },
    "vscode": {
     "languageId": "polyglot-notebook"
    }
   },
   "outputs": [],
   "source": [
    "\n",
    "SinglePhaseField TimeIntegrate(SinglePhaseField u0, double EndTime, double dt, TimeSteppingScheme tsScheme=TimeSteppingScheme.ESDIRK_64) {\n",
    "    var u1 = u0.CloneAs();\n",
    "    var Timestepper = new XdgTimestepping(Op, new DGField[] { u1 }, new DGField[] { new SinglePhaseField(u0.Basis)}, \n",
    "                            tsScheme);\n",
    "\n",
    "    int NoOfTimeteps = (int) (EndTime/dt);\n",
    "    for(int i = 0; i < NoOfTimeteps; i++)\n",
    "        Timestepper.Solve(dt*i, dt);\n",
    "    \n",
    "    return u1;\n",
    "}\n",
    "SinglePhaseField TimeIntegrate(SinglePhaseField u0, double EndTime, int NoOfTimeteps, TimeSteppingScheme tsScheme=TimeSteppingScheme.ESDIRK_64) {\n",
    "    var u1 = u0.CloneAs();\n",
    "    var Timestepper = new XdgTimestepping(Op, new DGField[] { u1 }, new DGField[] { new SinglePhaseField(u0.Basis)}, \n",
    "                            tsScheme);\n",
    "\n",
    "    double dt = EndTime/NoOfTimeteps;\n",
    "    for(int i = 0; i < NoOfTimeteps; i++)\n",
    "        Timestepper.Solve(dt*i, dt);\n",
    "    \n",
    "    return u1;\n",
    "}"
   ]
  },
  {
   "cell_type": "markdown",
   "metadata": {},
   "source": [
    "## Performing a temporal convergence study"
   ]
  },
  {
   "cell_type": "code",
   "execution_count": 130,
   "metadata": {
    "dotnet_interactive": {
     "language": "csharp"
    },
    "polyglot_notebook": {
     "kernelName": "csharp"
    },
    "vscode": {
     "languageId": "polyglot-notebook"
    }
   },
   "outputs": [],
   "source": [
    "double uExEq(double[] X) {\n",
    "   double Lambda = -Math.PI.Pow2()*0.5;\n",
    "   double tend = 0.1;\n",
    "   double u0 = Math.Cos(X[0]*Math.PI*0.5)*Math.Cos(X[1]*Math.PI*0.5);\n",
    "   return  !MyGlobals.isHeat? MyGlobals.uExact(X,MyGlobals.endTime) : Math.Exp(Lambda*MyGlobals.endTime)*u0;\n",
    "}"
   ]
  },
  {
   "cell_type": "markdown",
   "metadata": {},
   "source": [
    "loop over different grids (`nCells`) and `TimesteppingSchemes` "
   ]
  },
  {
   "cell_type": "code",
   "execution_count": 131,
   "metadata": {
    "dotnet_interactive": {
     "language": "csharp"
    },
    "polyglot_notebook": {
     "kernelName": "csharp"
    },
    "vscode": {
     "languageId": "polyglot-notebook"
    }
   },
   "outputs": [
    {
     "data": {
      "text/html": [
       "<div class=\"dni-plaintext\"><pre>True</pre></div><style>\r\n",
       ".dni-code-hint {\r\n",
       "    font-style: italic;\r\n",
       "    overflow: hidden;\r\n",
       "    white-space: nowrap;\r\n",
       "}\r\n",
       ".dni-treeview {\r\n",
       "    white-space: nowrap;\r\n",
       "}\r\n",
       ".dni-treeview td {\r\n",
       "    vertical-align: top;\r\n",
       "    text-align: start;\r\n",
       "}\r\n",
       "details.dni-treeview {\r\n",
       "    padding-left: 1em;\r\n",
       "}\r\n",
       "table td {\r\n",
       "    text-align: start;\r\n",
       "}\r\n",
       "table tr { \r\n",
       "    vertical-align: top; \r\n",
       "    margin: 0em 0px;\r\n",
       "}\r\n",
       "table tr td pre \r\n",
       "{ \r\n",
       "    vertical-align: top !important; \r\n",
       "    margin: 0em 0px !important;\r\n",
       "} \r\n",
       "table th {\r\n",
       "    text-align: start;\r\n",
       "}\r\n",
       "</style>"
      ]
     },
     "metadata": {},
     "output_type": "display_data"
    }
   ],
   "source": [
    "!MyGlobals.isHeat"
   ]
  },
  {
   "cell_type": "code",
   "execution_count": 143,
   "metadata": {
    "dotnet_interactive": {
     "language": "csharp"
    },
    "polyglot_notebook": {
     "kernelName": "csharp"
    },
    "vscode": {
     "languageId": "polyglot-notebook"
    }
   },
   "outputs": [
    {
     "name": "stdout",
     "output_type": "stream",
     "text": [
      "   Starting Compuation: ESDIRK_64: nCells=16\n",
      "   --------------  computing no of timeteps: 1\n",
      "Warning: Multigrid sequence is requested, but not setup for this mesh; performing a zero-aggregation with one level; consider configuring multigrid using the `AggregationGridData[] MultigridSequence(...)` method.\n",
      "   --------------  computing no of timeteps: 2\n",
      "   --------------  computing no of timeteps: 4\n",
      "   --------------  computing no of timeteps: 8\n",
      "   --------------  computing no of timeteps: 16\n",
      "   --------------  computing no of timeteps: 32\n",
      "   --------------  computing AdaptiveTimeStep using dtStart: 0.5\n",
      "   Starting Compuation: SDIRK_33: nCells=16\n",
      "   --------------  computing no of timeteps: 1\n",
      "   --------------  computing no of timeteps: 2\n",
      "   --------------  computing no of timeteps: 4\n",
      "   --------------  computing no of timeteps: 8\n",
      "   --------------  computing no of timeteps: 16\n",
      "   --------------  computing no of timeteps: 32\n",
      "   --------------  computing AdaptiveTimeStep using dtStart: 0.5\n",
      "   Starting Compuation: ESDIRK_32: nCells=16\n",
      "   --------------  computing no of timeteps: 1\n",
      "   --------------  computing no of timeteps: 2\n",
      "   --------------  computing no of timeteps: 4\n",
      "   --------------  computing no of timeteps: 8\n",
      "   --------------  computing no of timeteps: 16\n",
      "   --------------  computing no of timeteps: 32\n",
      "   --------------  computing AdaptiveTimeStep using dtStart: 0.5\n",
      "   Starting Compuation: ESDIRK_64: nCells=64\n",
      "   --------------  computing no of timeteps: 1\n",
      "Warning: Multigrid sequence is requested, but not setup for this mesh; performing a zero-aggregation with one level; consider configuring multigrid using the `AggregationGridData[] MultigridSequence(...)` method.\n",
      "   --------------  computing no of timeteps: 2\n",
      "   --------------  computing no of timeteps: 4\n",
      "   --------------  computing no of timeteps: 8\n",
      "   --------------  computing no of timeteps: 16\n",
      "   --------------  computing no of timeteps: 32\n",
      "   --------------  computing AdaptiveTimeStep using dtStart: 0.5\n",
      "   Starting Compuation: SDIRK_33: nCells=64\n",
      "   --------------  computing no of timeteps: 1\n",
      "   --------------  computing no of timeteps: 2\n",
      "   --------------  computing no of timeteps: 4\n",
      "   --------------  computing no of timeteps: 8\n",
      "   --------------  computing no of timeteps: 16\n",
      "   --------------  computing no of timeteps: 32\n",
      "   --------------  computing AdaptiveTimeStep using dtStart: 0.5\n",
      "   Starting Compuation: ESDIRK_32: nCells=64\n",
      "   --------------  computing no of timeteps: 1\n",
      "   --------------  computing no of timeteps: 2\n",
      "   --------------  computing no of timeteps: 4\n",
      "   --------------  computing no of timeteps: 8\n",
      "   --------------  computing no of timeteps: 16\n",
      "   --------------  computing no of timeteps: 32\n",
      "   --------------  computing AdaptiveTimeStep using dtStart: 0.5\n",
      "   Starting Compuation: ESDIRK_64: nCells=256\n",
      "   --------------  computing no of timeteps: 1\n",
      "Warning: Multigrid sequence is requested, but not setup for this mesh; performing a zero-aggregation with one level; consider configuring multigrid using the `AggregationGridData[] MultigridSequence(...)` method.\n",
      "   --------------  computing no of timeteps: 2\n",
      "   --------------  computing no of timeteps: 4\n",
      "   --------------  computing no of timeteps: 8\n",
      "   --------------  computing no of timeteps: 16\n",
      "   --------------  computing no of timeteps: 32\n",
      "   --------------  computing AdaptiveTimeStep using dtStart: 0.5\n",
      "   Starting Compuation: SDIRK_33: nCells=256\n",
      "   --------------  computing no of timeteps: 1\n",
      "   --------------  computing no of timeteps: 2\n",
      "   --------------  computing no of timeteps: 4\n",
      "   --------------  computing no of timeteps: 8\n",
      "   --------------  computing no of timeteps: 16\n",
      "   --------------  computing no of timeteps: 32\n",
      "   --------------  computing AdaptiveTimeStep using dtStart: 0.5\n",
      "   Starting Compuation: ESDIRK_32: nCells=256\n",
      "   --------------  computing no of timeteps: 1\n",
      "   --------------  computing no of timeteps: 2\n",
      "   --------------  computing no of timeteps: 4\n",
      "   --------------  computing no of timeteps: 8\n",
      "   --------------  computing no of timeteps: 16\n",
      "   --------------  computing no of timeteps: 32\n",
      "   --------------  computing AdaptiveTimeStep using dtStart: 0.5\n"
     ]
    }
   ],
   "source": [
    "//var dtS = new double[] {1,0.5,0.25,0.125,0.0625,0.03175,0.015875,0.0079375};\n",
    "bool debug=false;\n",
    "var dtS = new double[] {1,0.5,0.25,0.125,0.0625};\n",
    "var NoOfTimestepS = new int[] { 1, 2, 4, 8, 16,32 /*, 64, 128, 256, 512, 1028*/ };\n",
    "var NCells = new double[] {4,8,16};\n",
    "\n",
    "var dtStart_adap=0.5; //the timestep that the adaptive scheme starts with\n",
    "\n",
    "//var tsSchemes= new TimeSteppingScheme[] {TimeSteppingScheme.ESDIRK_64,TimeSteppingScheme.ESDIRK_32};\n",
    "// var NCells = new double[] {4,8,16,32,64,128};\n",
    "// var dtS = new double[] {1,0.5};\n",
    "var tsSchemes= new TimeSteppingScheme[] {TimeSteppingScheme.ESDIRK_64,TimeSteppingScheme.SDIRK_33,TimeSteppingScheme.ESDIRK_32};\n",
    "var resultsFixed = new List<Tuple<string,double[]>>();\n",
    "var resultsAdaptive = new List<Tuple<string,double[]>>();\n",
    "\n",
    "//Grid and initial value\n",
    "foreach(int nCells in NCells){\n",
    "    Grid2D grid;\n",
    "    if(!MyGlobals.isHeat){\n",
    "        grid = Grid2D.Cartesian2DGrid(GenericBlas.Linspace(0.0,2.0,nCells+1), GenericBlas.Linspace(0.0,2.0,nCells+1));\n",
    "    }else{\n",
    "        grid = Grid2D.Cartesian2DGrid(GenericBlas.Linspace(-1.0,1.0,nCells+1), GenericBlas.Linspace(-1.0,1.0,nCells+1));\n",
    "    }\n",
    "    \n",
    "    var u0 = new SinglePhaseField(new Basis(grid, 2), \"u\");\n",
    "    var u1 = new SinglePhaseField(new Basis(grid, 2), \"u\");\n",
    "    u0.ProjectField((double[] X) => MyGlobals.uExact(X,0));\n",
    "    //u0.ProjectField((double[] X) => Math.Cos(X[0]*Math.PI*0.5)*Math.Cos(X[1]*Math.PI*0.5));\n",
    "    for(int ischeme=0;ischeme<tsSchemes.Length;ischeme++){\n",
    "        var scheme=tsSchemes[ischeme];\n",
    "        var solutions = new List<SinglePhaseField>();\n",
    "        Console.WriteLine(\"   Starting Compuation: \" + scheme.ToString()+\": nCells=\" +grid.NumberOfCells);\n",
    "\n",
    "        //### This loop uses a fixed timestep prescribed on the basis fo NoOfTimestepS\n",
    "        for(int i = 0; i < NoOfTimestepS.Length; i++) {\n",
    "            Console.WriteLine(\"   --------------  computing no of timeteps: \" + NoOfTimestepS[i]);\n",
    "            u1 = TimeIntegrate(u0, MyGlobals.endTime, NoOfTimestepS[i],scheme);\n",
    "            //Tecplot(\"u1.\" + i, u1);\n",
    "            solutions.Add(u1);\n",
    "        }\n",
    "        //Computing the error against the exact solution:\n",
    "        double[] ErrEx = new double[solutions.Count];\n",
    "        for(int i = 0; i < ErrEx.Length; i++) {\n",
    "            ErrEx[i] = solutions[i].L2Error(uExEq)/2;\n",
    "            //ErrEx[i]=residual.L2Norm();\n",
    "        }\n",
    "        resultsFixed.Add(new Tuple<string,double[]>(scheme.ToString()+ \": nCells=\" +grid.NumberOfCells,ErrEx));\n",
    "\n",
    "        // adaptive TimeStepping\n",
    "        Console.WriteLine(\"   --------------  computing AdaptiveTimeStep using dtStart: \" + dtStart_adap);\n",
    "        (var u_adapt,List<double> TimeSteps)  = AdaptiveTimeIntegrate(Op,new SinglePhaseField[] {u0}, MyGlobals.endTime, dtStart_adap,scheme);\n",
    "        resultsAdaptive.Add(new Tuple<string,double[]>(scheme.ToString()+ \": nCells=\" +grid.NumberOfCells,new double[] {u_adapt[0].L2Error(uExEq)/2,TimeSteps.Average()}));\n",
    "\n",
    "        //### This loop uses a fixed timestep prescribed by a value dt\n",
    "        // for(int i = 0; i < dtS.Length; i++) {\n",
    "        //     Console.WriteLine(\"   --------------  computing dt: \" + dtS[i]);\n",
    "        //     u1 = TimeIntegrate(u0, MyGlobals.endTime, dtS[i],scheme);\n",
    "\n",
    "        //     //use Exact solution\n",
    "        //     //u1.ProjectField((double[] X) => MyGlobals.uExact(X,MyGlobals.endTime));\n",
    "        //     //Tecplot(\"u1.\" + i, u1);\n",
    "        //     solutions.Add(u1);\n",
    "        // }\n",
    "\n",
    "        // if(debug){\n",
    "        //     //######## some debugging ####################\n",
    "        //     //compute res\n",
    "        //     var Ev= Op.GetEvaluatorEx(new List<DGField>(){u1},null,new CoordinateMapping(u1));\n",
    "        //     var residual=u1.CloneAs(); residual.Identification=\"residual\";\n",
    "        //     Ev.Evaluate(1.0,0.0,new CoordinateVector(residual));\n",
    "            \n",
    "        //     //diff to exact sol\n",
    "        //     var diff=u1.CloneAs(); diff.Identification=\"diff_ex\";\n",
    "        //     diff.ProjectField((double[] X) => MyGlobals.uExact(X,MyGlobals.endTime));\n",
    "        //     diff.Acc(-1.0,u1);\n",
    "\n",
    "        //     //exact soll\n",
    "        //     var uex=u1.CloneAs(); uex.Identification=\"u_ex\";\n",
    "        //     uex.ProjectField((double[] X) => MyGlobals.uExact(X,MyGlobals.endTime));\n",
    "\n",
    "        //     //plot\n",
    "        //     Tecplot(\"u1.\" + ((ischeme+1)*100+nCells), new DGField[] {u1,residual,diff,uex});\n",
    "        // }\n",
    "\n",
    "\n",
    "    }\n",
    "}\n",
    "\n"
   ]
  },
  {
   "cell_type": "markdown",
   "metadata": {},
   "source": [
    "plot results"
   ]
  },
  {
   "cell_type": "code",
   "execution_count": 144,
   "metadata": {
    "dotnet_interactive": {
     "language": "csharp"
    },
    "polyglot_notebook": {
     "kernelName": "csharp"
    },
    "vscode": {
     "languageId": "polyglot-notebook"
    }
   },
   "outputs": [],
   "source": [
    "public PlotFormat GetFormat(int count, string name){\n",
    "    \n",
    "    \n",
    "    var allPT = new BoSSS.Solution.Gnuplot.PointTypes[] { PointTypes.Diamond, PointTypes.LowerTriangle, PointTypes.Circle, PointTypes.OpenDiamond, PointTypes.OpenLowerTriangle, PointTypes.OpenCircle, PointTypes.Circle, PointTypes.OpenDiamond, PointTypes.OpenLowerTriangle, PointTypes.OpenCircle, PointTypes.Circle, PointTypes.OpenDiamond, PointTypes.OpenLowerTriangle, PointTypes.OpenCircle, PointTypes.Circle, PointTypes.OpenDiamond, PointTypes.OpenLowerTriangle, PointTypes.OpenCircle};\n",
    "    var allC = new BoSSS.Solution.Gnuplot.LineColors[] { LineColors.Blue, LineColors.Blue, LineColors.Red,LineColors.Red,LineColors.Black,LineColors.Black,LineColors.Blue, LineColors.Black, LineColors.Red, LineColors.Red,LineColors.Blue, LineColors.Black, LineColors.Red, LineColors.Red,LineColors.Blue, LineColors.Black, LineColors.Red, LineColors.Red,LineColors.Blue, LineColors.Black, LineColors.Red};\n",
    "    var Fmt = new PlotFormat();\n",
    "    Fmt.PointSize = 0.8;\n",
    "    Fmt.LineWidth = 1;    \n",
    "    Fmt.Style     = Styles.LinesPoints;\n",
    "\n",
    "    Fmt.LineColor = allC[count];\n",
    "    Fmt.PointType =  allPT[count];\n",
    "    Fmt.DashType=DashTypes.Solid;\n",
    "    if(name.Contains(\"nCells=16\")){\n",
    "        Fmt.LineColor=LineColors.Blue;\n",
    "        Fmt.DashType=DashTypes.Dashed;\n",
    "    }else if(name.Contains(\"nCells=64\")){\n",
    "        Fmt.LineColor=LineColors.Red;\n",
    "        Fmt.DashType=DashTypes.DotDashed;\n",
    "    }else if(name.Contains(\"nCells=256\")){\n",
    "        Fmt.LineColor=LineColors.Black;\n",
    "        Fmt.DashType=DashTypes.Dotted;\n",
    "    }else if(name.Contains(\"nCells=1024\")){\n",
    "        Fmt.LineColor=LineColors.Green;\n",
    "        Fmt.DashType=DashTypes.DotDotDashed;\n",
    "    }\n",
    "    if(name.Contains(\"ESDIRK_64\")){\n",
    "        Fmt.PointType=PointTypes.Diamond;\n",
    "    }else if(name.Contains(\"SDIRK_33\")){\n",
    "        Fmt.PointType=PointTypes.LowerTriangle;\n",
    "    }else if(name.Contains(\"ESDIRK_32\")){\n",
    "         Fmt.PointType=PointTypes.OpenDiamond;\n",
    "    }else if(name.Contains(\"nCells=1024\")){\n",
    "        Fmt.PointType=PointTypes.OpenLowerTriangle;\n",
    "    }\n",
    "\n",
    "\n",
    "    return Fmt;\n",
    "}"
   ]
  },
  {
   "cell_type": "code",
   "execution_count": 145,
   "metadata": {
    "dotnet_interactive": {
     "language": "csharp"
    },
    "polyglot_notebook": {
     "kernelName": "csharp"
    },
    "vscode": {
     "languageId": "polyglot-notebook"
    }
   },
   "outputs": [
    {
     "name": "stdout",
     "output_type": "stream",
     "text": [
      "Using gnuplot: C:\\Program Files (x86)\\FDY\\BoSSS\\bin\\native\\win\\gnuplot-gp510-20160418-win32-mingw\\gnuplot\\bin\\gnuplot.exe\n",
      "Note: In a Jupyter Worksheet, you must NOT have a trailing semicolon in order to see the plot on screen; otherwise, the output migth be surpressed.!\n"
     ]
    },
    {
     "data": {
      "text/html": [
       "<?xml version=\"1.0\" encoding=\"utf-8\"  standalone=\"no\"?>\n",
       "<!DOCTYPE svg PUBLIC \"-//W3C//DTD SVG 1.1//EN\"\n",
       " \"http://www.w3.org/Graphics/SVG/1.1/DTD/svg11.dtd\">\n",
       "<svg \n",
       " width=\"800\" height=\"600\"\n",
       " viewBox=\"0 0 800 600\"\n",
       " xmlns=\"http://www.w3.org/2000/svg\"\n",
       " xmlns:xlink=\"http://www.w3.org/1999/xlink\"\n",
       ">\n",
       "\n",
       "<title>Gnuplot</title>\n",
       "<desc>Produced by GNUPLOT 5.1 patchlevel 0 </desc>\n",
       "\n",
       "<g id=\"gnuplot_canvas\">\n",
       "\n",
       "<rect x=\"0\" y=\"0\" width=\"800\" height=\"600\" fill=\"#ffffff\"/>\n",
       "<defs>\n",
       "\n",
       "\t<circle id='gpDot' r='0.5' stroke-width='0.5'/>\n",
       "\t<path id='gpPt0' stroke-width='0.222' stroke='currentColor' d='M-1,0 h2 M0,-1 v2'/>\n",
       "\t<path id='gpPt1' stroke-width='0.222' stroke='currentColor' d='M-1,-1 L1,1 M1,-1 L-1,1'/>\n",
       "\t<path id='gpPt2' stroke-width='0.222' stroke='currentColor' d='M-1,0 L1,0 M0,-1 L0,1 M-1,-1 L1,1 M-1,1 L1,-1'/>\n",
       "\t<rect id='gpPt3' stroke-width='0.222' stroke='currentColor' x='-1' y='-1' width='2' height='2'/>\n",
       "\t<rect id='gpPt4' stroke-width='0.222' stroke='currentColor' fill='currentColor' x='-1' y='-1' width='2' height='2'/>\n",
       "\t<circle id='gpPt5' stroke-width='0.222' stroke='currentColor' cx='0' cy='0' r='1'/>\n",
       "\t<use xlink:href='#gpPt5' id='gpPt6' fill='currentColor' stroke='none'/>\n",
       "\t<path id='gpPt7' stroke-width='0.222' stroke='currentColor' d='M0,-1.33 L-1.33,0.67 L1.33,0.67 z'/>\n",
       "\t<use xlink:href='#gpPt7' id='gpPt8' fill='currentColor' stroke='none'/>\n",
       "\t<use xlink:href='#gpPt7' id='gpPt9' stroke='currentColor' transform='rotate(180)'/>\n",
       "\t<use xlink:href='#gpPt9' id='gpPt10' fill='currentColor' stroke='none'/>\n",
       "\t<use xlink:href='#gpPt3' id='gpPt11' stroke='currentColor' transform='rotate(45)'/>\n",
       "\t<use xlink:href='#gpPt11' id='gpPt12' fill='currentColor' stroke='none'/>\n",
       "\t<path id='gpPt13' stroke-width='0.222' stroke='currentColor' d='M0,1.330 L1.265,0.411 L0.782,-1.067 L-0.782,-1.076 L-1.265,0.411 z'/>\n",
       "\t<use xlink:href='#gpPt13' id='gpPt14' fill='currentColor' stroke='none'/>\n",
       "\t<filter id='textbox' filterUnits='objectBoundingBox' x='0' y='0' height='1' width='1'>\n",
       "\t  <feFlood flood-color='#FFFFFF' flood-opacity='1' result='bgnd'/>\n",
       "\t  <feComposite in='SourceGraphic' in2='bgnd' operator='atop'/>\n",
       "\t</filter>\n",
       "\t<filter id='greybox' filterUnits='objectBoundingBox' x='0' y='0' height='1' width='1'>\n",
       "\t  <feFlood flood-color='lightgrey' flood-opacity='1' result='grey'/>\n",
       "\t  <feComposite in='SourceGraphic' in2='grey' operator='atop'/>\n",
       "\t</filter>\n",
       "</defs>\n",
       "<g fill=\"none\" color=\"#FFFFFF\" stroke=\"currentColor\" stroke-width=\"1.00\" stroke-linecap=\"butt\" stroke-linejoin=\"miter\">\n",
       "</g>\n",
       "<g fill=\"none\" color=\"black\" stroke=\"currentColor\" stroke-width=\"1.00\" stroke-linecap=\"butt\" stroke-linejoin=\"miter\">\n",
       "\t<path stroke='black'  d='M78.8,564.0 L87.8,564.0 M775.0,564.0 L766.0,564.0  '/>\t<g transform=\"translate(70.5,568.5)\" stroke=\"none\" fill=\"black\" font-family=\"Arial\" font-size=\"12.00\"  text-anchor=\"end\">\n",
       "\t\t<text><tspan font-family=\"Arial\" > 0.0001</tspan></text>\n",
       "\t</g>\n",
       "</g>\n",
       "<g fill=\"none\" color=\"black\" stroke=\"currentColor\" stroke-width=\"1.00\" stroke-linecap=\"butt\" stroke-linejoin=\"miter\">\n",
       "\t<path stroke='black'  d='M78.8,522.8 L83.3,522.8 M775.0,522.8 L770.5,522.8 M78.8,498.7 L83.3,498.7 M775.0,498.7 L770.5,498.7\n",
       "\t\tM78.8,481.6 L83.3,481.6 M775.0,481.6 L770.5,481.6 M78.8,468.4 L83.3,468.4 M775.0,468.4 L770.5,468.4\n",
       "\t\tM78.8,457.5 L83.3,457.5 M775.0,457.5 L770.5,457.5 M78.8,448.4 L83.3,448.4 M775.0,448.4 L770.5,448.4\n",
       "\t\tM78.8,440.4 L83.3,440.4 M775.0,440.4 L770.5,440.4 M78.8,433.4 L83.3,433.4 M775.0,433.4 L770.5,433.4\n",
       "\t\tM78.8,427.2 L87.8,427.2 M775.0,427.2 L766.0,427.2  '/>\t<g transform=\"translate(70.5,431.7)\" stroke=\"none\" fill=\"black\" font-family=\"Arial\" font-size=\"12.00\"  text-anchor=\"end\">\n",
       "\t\t<text><tspan font-family=\"Arial\" > 0.001</tspan></text>\n",
       "\t</g>\n",
       "</g>\n",
       "<g fill=\"none\" color=\"black\" stroke=\"currentColor\" stroke-width=\"1.00\" stroke-linecap=\"butt\" stroke-linejoin=\"miter\">\n",
       "\t<path stroke='black'  d='M78.8,386.0 L83.3,386.0 M775.0,386.0 L770.5,386.0 M78.8,361.9 L83.3,361.9 M775.0,361.9 L770.5,361.9\n",
       "\t\tM78.8,344.8 L83.3,344.8 M775.0,344.8 L770.5,344.8 M78.8,331.5 L83.3,331.5 M775.0,331.5 L770.5,331.5\n",
       "\t\tM78.8,320.7 L83.3,320.7 M775.0,320.7 L770.5,320.7 M78.8,311.5 L83.3,311.5 M775.0,311.5 L770.5,311.5\n",
       "\t\tM78.8,303.6 L83.3,303.6 M775.0,303.6 L770.5,303.6 M78.8,296.6 L83.3,296.6 M775.0,296.6 L770.5,296.6\n",
       "\t\tM78.8,290.3 L87.8,290.3 M775.0,290.3 L766.0,290.3  '/>\t<g transform=\"translate(70.5,294.8)\" stroke=\"none\" fill=\"black\" font-family=\"Arial\" font-size=\"12.00\"  text-anchor=\"end\">\n",
       "\t\t<text><tspan font-family=\"Arial\" > 0.01</tspan></text>\n",
       "\t</g>\n",
       "</g>\n",
       "<g fill=\"none\" color=\"black\" stroke=\"currentColor\" stroke-width=\"1.00\" stroke-linecap=\"butt\" stroke-linejoin=\"miter\">\n",
       "\t<path stroke='black'  d='M78.8,249.2 L83.3,249.2 M775.0,249.2 L770.5,249.2 M78.8,225.1 L83.3,225.1 M775.0,225.1 L770.5,225.1\n",
       "\t\tM78.8,208.0 L83.3,208.0 M775.0,208.0 L770.5,208.0 M78.8,194.7 L83.3,194.7 M775.0,194.7 L770.5,194.7\n",
       "\t\tM78.8,183.9 L83.3,183.9 M775.0,183.9 L770.5,183.9 M78.8,174.7 L83.3,174.7 M775.0,174.7 L770.5,174.7\n",
       "\t\tM78.8,166.8 L83.3,166.8 M775.0,166.8 L770.5,166.8 M78.8,159.8 L83.3,159.8 M775.0,159.8 L770.5,159.8\n",
       "\t\tM78.8,153.5 L87.8,153.5 M775.0,153.5 L766.0,153.5  '/>\t<g transform=\"translate(70.5,158.0)\" stroke=\"none\" fill=\"black\" font-family=\"Arial\" font-size=\"12.00\"  text-anchor=\"end\">\n",
       "\t\t<text><tspan font-family=\"Arial\" > 0.1</tspan></text>\n",
       "\t</g>\n",
       "</g>\n",
       "<g fill=\"none\" color=\"black\" stroke=\"currentColor\" stroke-width=\"1.00\" stroke-linecap=\"butt\" stroke-linejoin=\"miter\">\n",
       "\t<path stroke='black'  d='M78.8,112.3 L83.3,112.3 M775.0,112.3 L770.5,112.3 M78.8,88.2 L83.3,88.2 M775.0,88.2 L770.5,88.2\n",
       "\t\tM78.8,71.1 L83.3,71.1 M775.0,71.1 L770.5,71.1 M78.8,57.9 L83.3,57.9 M775.0,57.9 L770.5,57.9\n",
       "\t\tM78.8,47.1 L83.3,47.1 M775.0,47.1 L770.5,47.1 M78.8,37.9 L83.3,37.9 M775.0,37.9 L770.5,37.9\n",
       "\t\tM78.8,30.0 L83.3,30.0 M775.0,30.0 L770.5,30.0 M78.8,23.0 L83.3,23.0 M775.0,23.0 L770.5,23.0\n",
       "\t\tM78.8,16.7 L87.8,16.7 M775.0,16.7 L766.0,16.7  '/>\t<g transform=\"translate(70.5,21.2)\" stroke=\"none\" fill=\"black\" font-family=\"Arial\" font-size=\"12.00\"  text-anchor=\"end\">\n",
       "\t\t<text><tspan font-family=\"Arial\" > 1</tspan></text>\n",
       "\t</g>\n",
       "</g>\n",
       "<g fill=\"none\" color=\"black\" stroke=\"currentColor\" stroke-width=\"1.00\" stroke-linecap=\"butt\" stroke-linejoin=\"miter\">\n",
       "\t<path stroke='black'  d='M78.8,564.0 L78.8,555.0 M78.8,16.7 L78.8,25.7  '/>\t<g transform=\"translate(78.8,586.5)\" stroke=\"none\" fill=\"black\" font-family=\"Arial\" font-size=\"12.00\"  text-anchor=\"middle\">\n",
       "\t\t<text><tspan font-family=\"Arial\" > 0.01</tspan></text>\n",
       "\t</g>\n",
       "</g>\n",
       "<g fill=\"none\" color=\"black\" stroke=\"currentColor\" stroke-width=\"1.00\" stroke-linecap=\"butt\" stroke-linejoin=\"miter\">\n",
       "\t<path stroke='black'  d='M148.7,564.0 L148.7,559.5 M148.7,16.7 L148.7,21.2 M189.5,564.0 L189.5,559.5 M189.5,16.7 L189.5,21.2\n",
       "\t\tM218.5,564.0 L218.5,559.5 M218.5,16.7 L218.5,21.2 M241.0,564.0 L241.0,559.5 M241.0,16.7 L241.0,21.2\n",
       "\t\tM259.4,564.0 L259.4,559.5 M259.4,16.7 L259.4,21.2 M274.9,564.0 L274.9,559.5 M274.9,16.7 L274.9,21.2\n",
       "\t\tM288.4,564.0 L288.4,559.5 M288.4,16.7 L288.4,21.2 M300.2,564.0 L300.2,559.5 M300.2,16.7 L300.2,21.2\n",
       "\t\tM310.9,564.0 L310.9,555.0 M310.9,16.7 L310.9,25.7  '/>\t<g transform=\"translate(310.9,586.5)\" stroke=\"none\" fill=\"black\" font-family=\"Arial\" font-size=\"12.00\"  text-anchor=\"middle\">\n",
       "\t\t<text><tspan font-family=\"Arial\" > 0.1</tspan></text>\n",
       "\t</g>\n",
       "</g>\n",
       "<g fill=\"none\" color=\"black\" stroke=\"currentColor\" stroke-width=\"1.00\" stroke-linecap=\"butt\" stroke-linejoin=\"miter\">\n",
       "\t<path stroke='black'  d='M380.7,564.0 L380.7,559.5 M380.7,16.7 L380.7,21.2 M421.6,564.0 L421.6,559.5 M421.6,16.7 L421.6,21.2\n",
       "\t\tM450.6,564.0 L450.6,559.5 M450.6,16.7 L450.6,21.2 M473.1,564.0 L473.1,559.5 M473.1,16.7 L473.1,21.2\n",
       "\t\tM491.4,564.0 L491.4,559.5 M491.4,16.7 L491.4,21.2 M507.0,564.0 L507.0,559.5 M507.0,16.7 L507.0,21.2\n",
       "\t\tM520.4,564.0 L520.4,559.5 M520.4,16.7 L520.4,21.2 M532.3,564.0 L532.3,559.5 M532.3,16.7 L532.3,21.2\n",
       "\t\tM542.9,564.0 L542.9,555.0 M542.9,16.7 L542.9,25.7  '/>\t<g transform=\"translate(542.9,586.5)\" stroke=\"none\" fill=\"black\" font-family=\"Arial\" font-size=\"12.00\"  text-anchor=\"middle\">\n",
       "\t\t<text><tspan font-family=\"Arial\" > 1</tspan></text>\n",
       "\t</g>\n",
       "</g>\n",
       "<g fill=\"none\" color=\"black\" stroke=\"currentColor\" stroke-width=\"1.00\" stroke-linecap=\"butt\" stroke-linejoin=\"miter\">\n",
       "\t<path stroke='black'  d='M612.8,564.0 L612.8,559.5 M612.8,16.7 L612.8,21.2 M653.7,564.0 L653.7,559.5 M653.7,16.7 L653.7,21.2\n",
       "\t\tM682.7,564.0 L682.7,559.5 M682.7,16.7 L682.7,21.2 M705.1,564.0 L705.1,559.5 M705.1,16.7 L705.1,21.2\n",
       "\t\tM723.5,564.0 L723.5,559.5 M723.5,16.7 L723.5,21.2 M739.1,564.0 L739.1,559.5 M739.1,16.7 L739.1,21.2\n",
       "\t\tM752.5,564.0 L752.5,559.5 M752.5,16.7 L752.5,21.2 M764.4,564.0 L764.4,559.5 M764.4,16.7 L764.4,21.2\n",
       "\t\tM775.0,564.0 L775.0,555.0 M775.0,16.7 L775.0,25.7  '/>\t<g transform=\"translate(775.0,586.5)\" stroke=\"none\" fill=\"black\" font-family=\"Arial\" font-size=\"12.00\"  text-anchor=\"middle\">\n",
       "\t\t<text><tspan font-family=\"Arial\" > 10</tspan></text>\n",
       "\t</g>\n",
       "</g>\n",
       "<g fill=\"none\" color=\"black\" stroke=\"currentColor\" stroke-width=\"1.00\" stroke-linecap=\"butt\" stroke-linejoin=\"miter\">\n",
       "</g>\n",
       "<g fill=\"none\" color=\"black\" stroke=\"currentColor\" stroke-width=\"1.00\" stroke-linecap=\"butt\" stroke-linejoin=\"miter\">\n",
       "\t<path stroke='black'  d='M78.8,16.7 L78.8,564.0 L775.0,564.0 L775.0,16.7 L78.8,16.7 Z  '/></g>\n",
       "<g fill=\"none\" color=\"black\" stroke=\"currentColor\" stroke-width=\"1.00\" stroke-linecap=\"butt\" stroke-linejoin=\"miter\">\n",
       "</g>\n",
       "\t<g id=\"gnuplot_plot_1\" ><title>ESDIRK64: nCells=16</title>\n",
       "<g fill=\"none\" color=\"black\" stroke=\"currentColor\" stroke-width=\"1.00\" stroke-linecap=\"butt\" stroke-linejoin=\"miter\">\n",
       "\t<g transform=\"translate(707.9,39.2)\" stroke=\"none\" fill=\"black\" font-family=\"Arial\" font-size=\"12.00\"  text-anchor=\"end\">\n",
       "\t\t<text><tspan font-family=\"Arial\" >ESDIRK</tspan><tspan font-family=\"Arial\"  font-size=\"9.6\" dy=\"3.60px\">6</tspan><tspan font-family=\"Arial\"  font-size=\"12.0\" dy=\"-3.60px\">4: nCells=16</tspan></text>\n",
       "\t</g>\n",
       "</g>\n",
       "<g fill=\"none\" color=\"black\" stroke=\"currentColor\" stroke-width=\"1.00\" stroke-linecap=\"butt\" stroke-linejoin=\"miter\">\n",
       "\t<path stroke='rgb(  0,   0, 255)' stroke-dasharray='2.5,4.0'  d='M716.2,34.7 L758.4,34.7 M612.8,96.1 L542.9,177.9 L473.1,261.9 L403.2,261.4 L333.4,260.8 L263.5,260.8\n",
       "\t\t '/>\t<use xlink:href='#gpPt12' transform='translate(612.8,96.1) scale(3.60)' color='rgb(  0,   0, 255)'/>\n",
       "\t<use xlink:href='#gpPt12' transform='translate(542.9,177.9) scale(3.60)' color='rgb(  0,   0, 255)'/>\n",
       "\t<use xlink:href='#gpPt12' transform='translate(473.1,261.9) scale(3.60)' color='rgb(  0,   0, 255)'/>\n",
       "\t<use xlink:href='#gpPt12' transform='translate(403.2,261.4) scale(3.60)' color='rgb(  0,   0, 255)'/>\n",
       "\t<use xlink:href='#gpPt12' transform='translate(333.4,260.8) scale(3.60)' color='rgb(  0,   0, 255)'/>\n",
       "\t<use xlink:href='#gpPt12' transform='translate(263.5,260.8) scale(3.60)' color='rgb(  0,   0, 255)'/>\n",
       "\t<use xlink:href='#gpPt12' transform='translate(737.3,34.7) scale(3.60)' color='rgb(  0,   0, 255)'/>\n",
       "</g>\n",
       "\t</g>\n",
       "\t<g id=\"gnuplot_plot_2\" ><title>gnuplot_plot_2</title>\n",
       "<g fill=\"none\" color=\"black\" stroke=\"currentColor\" stroke-width=\"1.00\" stroke-linecap=\"butt\" stroke-linejoin=\"miter\">\n",
       "\t<path stroke='rgb(  0,   0, 255)' stroke-dasharray='2.5,4.0'  d='M281.3,260.8  '/>\t<use xlink:href='#gpPt12' transform='translate(281.3,260.8) scale(7.20)' color='rgb(  0,   0, 255)'/>\n",
       "</g>\n",
       "\t</g>\n",
       "\t<g id=\"gnuplot_plot_3\" ><title>SDIRK33: nCells=16</title>\n",
       "<g fill=\"none\" color=\"black\" stroke=\"currentColor\" stroke-width=\"1.00\" stroke-linecap=\"butt\" stroke-linejoin=\"miter\">\n",
       "\t<g transform=\"translate(707.9,57.2)\" stroke=\"none\" fill=\"black\" font-family=\"Arial\" font-size=\"12.00\"  text-anchor=\"end\">\n",
       "\t\t<text><tspan font-family=\"Arial\" >SDIRK</tspan><tspan font-family=\"Arial\"  font-size=\"9.6\" dy=\"3.60px\">3</tspan><tspan font-family=\"Arial\"  font-size=\"12.0\" dy=\"-3.60px\">3: nCells=16</tspan></text>\n",
       "\t</g>\n",
       "</g>\n",
       "<g fill=\"none\" color=\"black\" stroke=\"currentColor\" stroke-width=\"1.00\" stroke-linecap=\"butt\" stroke-linejoin=\"miter\">\n",
       "\t<path stroke='rgb(  0,   0, 255)' stroke-dasharray='2.5,4.0'  d='M716.2,52.7 L758.4,52.7 M612.8,82.9 L542.9,116.8 L473.1,184.1 L403.2,252.4 L333.4,260.2 L263.5,260.8\n",
       "\t\t '/>\t<use xlink:href='#gpPt8' transform='translate(612.8,82.9) scale(3.60)' color='rgb(  0,   0, 255)'/>\n",
       "\t<use xlink:href='#gpPt8' transform='translate(542.9,116.8) scale(3.60)' color='rgb(  0,   0, 255)'/>\n",
       "\t<use xlink:href='#gpPt8' transform='translate(473.1,184.1) scale(3.60)' color='rgb(  0,   0, 255)'/>\n",
       "\t<use xlink:href='#gpPt8' transform='translate(403.2,252.4) scale(3.60)' color='rgb(  0,   0, 255)'/>\n",
       "\t<use xlink:href='#gpPt8' transform='translate(333.4,260.2) scale(3.60)' color='rgb(  0,   0, 255)'/>\n",
       "\t<use xlink:href='#gpPt8' transform='translate(263.5,260.8) scale(3.60)' color='rgb(  0,   0, 255)'/>\n",
       "\t<use xlink:href='#gpPt8' transform='translate(737.3,52.7) scale(3.60)' color='rgb(  0,   0, 255)'/>\n",
       "</g>\n",
       "\t</g>\n",
       "\t<g id=\"gnuplot_plot_4\" ><title>gnuplot_plot_4</title>\n",
       "<g fill=\"none\" color=\"black\" stroke=\"currentColor\" stroke-width=\"1.00\" stroke-linecap=\"butt\" stroke-linejoin=\"miter\">\n",
       "\t<path stroke='rgb(  0,   0, 255)' stroke-dasharray='2.5,4.0'  d='M277.0,260.2  '/>\t<use xlink:href='#gpPt8' transform='translate(277.0,260.2) scale(7.20)' color='rgb(  0,   0, 255)'/>\n",
       "</g>\n",
       "\t</g>\n",
       "\t<g id=\"gnuplot_plot_5\" ><title>ESDIRK32: nCells=16</title>\n",
       "<g fill=\"none\" color=\"black\" stroke=\"currentColor\" stroke-width=\"1.00\" stroke-linecap=\"butt\" stroke-linejoin=\"miter\">\n",
       "\t<g transform=\"translate(707.9,75.2)\" stroke=\"none\" fill=\"black\" font-family=\"Arial\" font-size=\"12.00\"  text-anchor=\"end\">\n",
       "\t\t<text><tspan font-family=\"Arial\" >ESDIRK</tspan><tspan font-family=\"Arial\"  font-size=\"9.6\" dy=\"3.60px\">3</tspan><tspan font-family=\"Arial\"  font-size=\"12.0\" dy=\"-3.60px\">2: nCells=16</tspan></text>\n",
       "\t</g>\n",
       "</g>\n",
       "<g fill=\"none\" color=\"black\" stroke=\"currentColor\" stroke-width=\"1.00\" stroke-linecap=\"butt\" stroke-linejoin=\"miter\">\n",
       "\t<path stroke='rgb(  0,   0, 255)' stroke-dasharray='2.5,4.0'  d='M716.2,70.7 L758.4,70.7 M612.8,183.5 L542.9,202.4 L473.1,193.9 L403.2,248.7 L333.4,259.3 L263.5,260.5\n",
       "\t\t '/>\t<use xlink:href='#gpPt11' transform='translate(612.8,183.5) scale(3.60)' color='rgb(  0,   0, 255)'/>\n",
       "\t<use xlink:href='#gpPt11' transform='translate(542.9,202.4) scale(3.60)' color='rgb(  0,   0, 255)'/>\n",
       "\t<use xlink:href='#gpPt11' transform='translate(473.1,193.9) scale(3.60)' color='rgb(  0,   0, 255)'/>\n",
       "\t<use xlink:href='#gpPt11' transform='translate(403.2,248.7) scale(3.60)' color='rgb(  0,   0, 255)'/>\n",
       "\t<use xlink:href='#gpPt11' transform='translate(333.4,259.3) scale(3.60)' color='rgb(  0,   0, 255)'/>\n",
       "\t<use xlink:href='#gpPt11' transform='translate(263.5,260.5) scale(3.60)' color='rgb(  0,   0, 255)'/>\n",
       "\t<use xlink:href='#gpPt11' transform='translate(737.3,70.7) scale(3.60)' color='rgb(  0,   0, 255)'/>\n",
       "</g>\n",
       "\t</g>\n",
       "\t<g id=\"gnuplot_plot_6\" ><title>gnuplot_plot_6</title>\n",
       "<g fill=\"none\" color=\"black\" stroke=\"currentColor\" stroke-width=\"1.00\" stroke-linecap=\"butt\" stroke-linejoin=\"miter\">\n",
       "\t<path stroke='rgb(  0,   0, 255)' stroke-dasharray='2.5,4.0'  d='M277.2,260.0  '/>\t<use xlink:href='#gpPt11' transform='translate(277.2,260.0) scale(7.20)' color='rgb(  0,   0, 255)'/>\n",
       "</g>\n",
       "\t</g>\n",
       "\t<g id=\"gnuplot_plot_7\" ><title>ESDIRK64: nCells=64</title>\n",
       "<g fill=\"none\" color=\"black\" stroke=\"currentColor\" stroke-width=\"1.00\" stroke-linecap=\"butt\" stroke-linejoin=\"miter\">\n",
       "\t<g transform=\"translate(707.9,93.2)\" stroke=\"none\" fill=\"black\" font-family=\"Arial\" font-size=\"12.00\"  text-anchor=\"end\">\n",
       "\t\t<text><tspan font-family=\"Arial\" >ESDIRK</tspan><tspan font-family=\"Arial\"  font-size=\"9.6\" dy=\"3.60px\">6</tspan><tspan font-family=\"Arial\"  font-size=\"12.0\" dy=\"-3.60px\">4: nCells=64</tspan></text>\n",
       "\t</g>\n",
       "</g>\n",
       "<g fill=\"none\" color=\"black\" stroke=\"currentColor\" stroke-width=\"1.00\" stroke-linecap=\"butt\" stroke-linejoin=\"miter\">\n",
       "\t<path stroke='rgb(255,   0,   0)' stroke-dasharray='4.0,2.0,1.0,2.0'  d='M716.2,88.7 L758.4,88.7 M612.8,93.2 L542.9,174.9 L473.1,392.5 L403.2,400.9 L333.4,397.3 L263.5,396.7\n",
       "\t\t '/>\t<use xlink:href='#gpPt12' transform='translate(612.8,93.2) scale(3.60)' color='rgb(255,   0,   0)'/>\n",
       "\t<use xlink:href='#gpPt12' transform='translate(542.9,174.9) scale(3.60)' color='rgb(255,   0,   0)'/>\n",
       "\t<use xlink:href='#gpPt12' transform='translate(473.1,392.5) scale(3.60)' color='rgb(255,   0,   0)'/>\n",
       "\t<use xlink:href='#gpPt12' transform='translate(403.2,400.9) scale(3.60)' color='rgb(255,   0,   0)'/>\n",
       "\t<use xlink:href='#gpPt12' transform='translate(333.4,397.3) scale(3.60)' color='rgb(255,   0,   0)'/>\n",
       "\t<use xlink:href='#gpPt12' transform='translate(263.5,396.7) scale(3.60)' color='rgb(255,   0,   0)'/>\n",
       "\t<use xlink:href='#gpPt12' transform='translate(737.3,88.7) scale(3.60)' color='rgb(255,   0,   0)'/>\n",
       "</g>\n",
       "\t</g>\n",
       "\t<g id=\"gnuplot_plot_8\" ><title>gnuplot_plot_8</title>\n",
       "<g fill=\"none\" color=\"black\" stroke=\"currentColor\" stroke-width=\"1.00\" stroke-linecap=\"butt\" stroke-linejoin=\"miter\">\n",
       "\t<path stroke='rgb(255,   0,   0)' stroke-dasharray='4.0,2.0,1.0,2.0'  d='M236.8,396.7  '/>\t<use xlink:href='#gpPt12' transform='translate(236.8,396.7) scale(7.20)' color='rgb(255,   0,   0)'/>\n",
       "</g>\n",
       "\t</g>\n",
       "\t<g id=\"gnuplot_plot_9\" ><title>SDIRK33: nCells=64</title>\n",
       "<g fill=\"none\" color=\"black\" stroke=\"currentColor\" stroke-width=\"1.00\" stroke-linecap=\"butt\" stroke-linejoin=\"miter\">\n",
       "\t<g transform=\"translate(707.9,111.2)\" stroke=\"none\" fill=\"black\" font-family=\"Arial\" font-size=\"12.00\"  text-anchor=\"end\">\n",
       "\t\t<text><tspan font-family=\"Arial\" >SDIRK</tspan><tspan font-family=\"Arial\"  font-size=\"9.6\" dy=\"3.60px\">3</tspan><tspan font-family=\"Arial\"  font-size=\"12.0\" dy=\"-3.60px\">3: nCells=64</tspan></text>\n",
       "\t</g>\n",
       "</g>\n",
       "<g fill=\"none\" color=\"black\" stroke=\"currentColor\" stroke-width=\"1.00\" stroke-linecap=\"butt\" stroke-linejoin=\"miter\">\n",
       "\t<path stroke='rgb(255,   0,   0)' stroke-dasharray='4.0,2.0,1.0,2.0'  d='M716.2,106.7 L758.4,106.7 M612.8,73.8 L542.9,112.4 L473.1,183.8 L403.2,309.6 L333.4,387.5 L263.5,396.8\n",
       "\t\t '/>\t<use xlink:href='#gpPt8' transform='translate(612.8,73.8) scale(3.60)' color='rgb(255,   0,   0)'/>\n",
       "\t<use xlink:href='#gpPt8' transform='translate(542.9,112.4) scale(3.60)' color='rgb(255,   0,   0)'/>\n",
       "\t<use xlink:href='#gpPt8' transform='translate(473.1,183.8) scale(3.60)' color='rgb(255,   0,   0)'/>\n",
       "\t<use xlink:href='#gpPt8' transform='translate(403.2,309.6) scale(3.60)' color='rgb(255,   0,   0)'/>\n",
       "\t<use xlink:href='#gpPt8' transform='translate(333.4,387.5) scale(3.60)' color='rgb(255,   0,   0)'/>\n",
       "\t<use xlink:href='#gpPt8' transform='translate(263.5,396.8) scale(3.60)' color='rgb(255,   0,   0)'/>\n",
       "\t<use xlink:href='#gpPt8' transform='translate(737.3,106.7) scale(3.60)' color='rgb(255,   0,   0)'/>\n",
       "</g>\n",
       "\t</g>\n",
       "\t<g id=\"gnuplot_plot_10\" ><title>gnuplot_plot_10</title>\n",
       "<g fill=\"none\" color=\"black\" stroke=\"currentColor\" stroke-width=\"1.00\" stroke-linecap=\"butt\" stroke-linejoin=\"miter\">\n",
       "\t<path stroke='rgb(255,   0,   0)' stroke-dasharray='4.0,2.0,1.0,2.0'  d='M234.2,390.5  '/>\t<use xlink:href='#gpPt8' transform='translate(234.2,390.5) scale(7.20)' color='rgb(255,   0,   0)'/>\n",
       "</g>\n",
       "\t</g>\n",
       "\t<g id=\"gnuplot_plot_11\" ><title>ESDIRK32: nCells=64</title>\n",
       "<g fill=\"none\" color=\"black\" stroke=\"currentColor\" stroke-width=\"1.00\" stroke-linecap=\"butt\" stroke-linejoin=\"miter\">\n",
       "\t<g transform=\"translate(707.9,129.2)\" stroke=\"none\" fill=\"black\" font-family=\"Arial\" font-size=\"12.00\"  text-anchor=\"end\">\n",
       "\t\t<text><tspan font-family=\"Arial\" >ESDIRK</tspan><tspan font-family=\"Arial\"  font-size=\"9.6\" dy=\"3.60px\">3</tspan><tspan font-family=\"Arial\"  font-size=\"12.0\" dy=\"-3.60px\">2: nCells=64</tspan></text>\n",
       "\t</g>\n",
       "</g>\n",
       "<g fill=\"none\" color=\"black\" stroke=\"currentColor\" stroke-width=\"1.00\" stroke-linecap=\"butt\" stroke-linejoin=\"miter\">\n",
       "\t<path stroke='rgb(255,   0,   0)' stroke-dasharray='4.0,2.0,1.0,2.0'  d='M716.2,124.7 L758.4,124.7 M612.8,174.3 L542.9,214.2 L473.1,193.8 L403.2,284.2 L333.4,359.2 L263.5,391.3\n",
       "\t\t '/>\t<use xlink:href='#gpPt11' transform='translate(612.8,174.3) scale(3.60)' color='rgb(255,   0,   0)'/>\n",
       "\t<use xlink:href='#gpPt11' transform='translate(542.9,214.2) scale(3.60)' color='rgb(255,   0,   0)'/>\n",
       "\t<use xlink:href='#gpPt11' transform='translate(473.1,193.8) scale(3.60)' color='rgb(255,   0,   0)'/>\n",
       "\t<use xlink:href='#gpPt11' transform='translate(403.2,284.2) scale(3.60)' color='rgb(255,   0,   0)'/>\n",
       "\t<use xlink:href='#gpPt11' transform='translate(333.4,359.2) scale(3.60)' color='rgb(255,   0,   0)'/>\n",
       "\t<use xlink:href='#gpPt11' transform='translate(263.5,391.3) scale(3.60)' color='rgb(255,   0,   0)'/>\n",
       "\t<use xlink:href='#gpPt11' transform='translate(737.3,124.7) scale(3.60)' color='rgb(255,   0,   0)'/>\n",
       "</g>\n",
       "\t</g>\n",
       "\t<g id=\"gnuplot_plot_12\" ><title>gnuplot_plot_12</title>\n",
       "<g fill=\"none\" color=\"black\" stroke=\"currentColor\" stroke-width=\"1.00\" stroke-linecap=\"butt\" stroke-linejoin=\"miter\">\n",
       "\t<path stroke='rgb(255,   0,   0)' stroke-dasharray='4.0,2.0,1.0,2.0'  d='M234.5,392.6  '/>\t<use xlink:href='#gpPt11' transform='translate(234.5,392.6) scale(7.20)' color='rgb(255,   0,   0)'/>\n",
       "</g>\n",
       "\t</g>\n",
       "\t<g id=\"gnuplot_plot_13\" ><title>ESDIRK64: nCells=256</title>\n",
       "<g fill=\"none\" color=\"black\" stroke=\"currentColor\" stroke-width=\"1.00\" stroke-linecap=\"butt\" stroke-linejoin=\"miter\">\n",
       "\t<g transform=\"translate(707.9,147.2)\" stroke=\"none\" fill=\"black\" font-family=\"Arial\" font-size=\"12.00\"  text-anchor=\"end\">\n",
       "\t\t<text><tspan font-family=\"Arial\" >ESDIRK</tspan><tspan font-family=\"Arial\"  font-size=\"9.6\" dy=\"3.60px\">6</tspan><tspan font-family=\"Arial\"  font-size=\"12.0\" dy=\"-3.60px\">4: nCells=256</tspan></text>\n",
       "\t</g>\n",
       "</g>\n",
       "<g fill=\"none\" color=\"black\" stroke=\"currentColor\" stroke-width=\"1.00\" stroke-linecap=\"butt\" stroke-linejoin=\"miter\">\n",
       "\t<path stroke='rgb(  0,   0,   0)' stroke-dasharray='1.0,2.0'  d='M716.2,142.7 L758.4,142.7 M612.8,92.9 L542.9,174.5 L473.1,413.6 L403.2,471.4 L333.4,535.0 L263.5,532.2\n",
       "\t\t '/>\t<use xlink:href='#gpPt12' transform='translate(612.8,92.9) scale(3.60)' color='rgb(  0,   0,   0)'/>\n",
       "\t<use xlink:href='#gpPt12' transform='translate(542.9,174.5) scale(3.60)' color='rgb(  0,   0,   0)'/>\n",
       "\t<use xlink:href='#gpPt12' transform='translate(473.1,413.6) scale(3.60)' color='rgb(  0,   0,   0)'/>\n",
       "\t<use xlink:href='#gpPt12' transform='translate(403.2,471.4) scale(3.60)' color='rgb(  0,   0,   0)'/>\n",
       "\t<use xlink:href='#gpPt12' transform='translate(333.4,535.0) scale(3.60)' color='rgb(  0,   0,   0)'/>\n",
       "\t<use xlink:href='#gpPt12' transform='translate(263.5,532.2) scale(3.60)' color='rgb(  0,   0,   0)'/>\n",
       "\t<use xlink:href='#gpPt12' transform='translate(737.3,142.7) scale(3.60)' color='rgb(  0,   0,   0)'/>\n",
       "</g>\n",
       "\t</g>\n",
       "\t<g id=\"gnuplot_plot_14\" ><title>gnuplot_plot_14</title>\n",
       "<g fill=\"none\" color=\"black\" stroke=\"currentColor\" stroke-width=\"1.00\" stroke-linecap=\"butt\" stroke-linejoin=\"miter\">\n",
       "\t<path stroke='rgb(  0,   0,   0)' stroke-dasharray='1.0,2.0'  d='M143.5,532.1  '/>\t<use xlink:href='#gpPt12' transform='translate(143.5,532.1) scale(7.20)' color='rgb(  0,   0,   0)'/>\n",
       "</g>\n",
       "\t</g>\n",
       "\t<g id=\"gnuplot_plot_15\" ><title>SDIRK33: nCells=256</title>\n",
       "<g fill=\"none\" color=\"black\" stroke=\"currentColor\" stroke-width=\"1.00\" stroke-linecap=\"butt\" stroke-linejoin=\"miter\">\n",
       "\t<g transform=\"translate(707.9,165.2)\" stroke=\"none\" fill=\"black\" font-family=\"Arial\" font-size=\"12.00\"  text-anchor=\"end\">\n",
       "\t\t<text><tspan font-family=\"Arial\" >SDIRK</tspan><tspan font-family=\"Arial\"  font-size=\"9.6\" dy=\"3.60px\">3</tspan><tspan font-family=\"Arial\"  font-size=\"12.0\" dy=\"-3.60px\">3: nCells=256</tspan></text>\n",
       "\t</g>\n",
       "</g>\n",
       "<g fill=\"none\" color=\"black\" stroke=\"currentColor\" stroke-width=\"1.00\" stroke-linecap=\"butt\" stroke-linejoin=\"miter\">\n",
       "\t<path stroke='rgb(  0,   0,   0)' stroke-dasharray='1.0,2.0'  d='M716.2,160.7 L758.4,160.7 M612.8,73.0 L542.9,112.0 L473.1,183.6 L403.2,313.3 L333.4,438.3 L263.5,523.1\n",
       "\t\t '/>\t<use xlink:href='#gpPt8' transform='translate(612.8,73.0) scale(3.60)' color='rgb(  0,   0,   0)'/>\n",
       "\t<use xlink:href='#gpPt8' transform='translate(542.9,112.0) scale(3.60)' color='rgb(  0,   0,   0)'/>\n",
       "\t<use xlink:href='#gpPt8' transform='translate(473.1,183.6) scale(3.60)' color='rgb(  0,   0,   0)'/>\n",
       "\t<use xlink:href='#gpPt8' transform='translate(403.2,313.3) scale(3.60)' color='rgb(  0,   0,   0)'/>\n",
       "\t<use xlink:href='#gpPt8' transform='translate(333.4,438.3) scale(3.60)' color='rgb(  0,   0,   0)'/>\n",
       "\t<use xlink:href='#gpPt8' transform='translate(263.5,523.1) scale(3.60)' color='rgb(  0,   0,   0)'/>\n",
       "\t<use xlink:href='#gpPt8' transform='translate(737.3,160.7) scale(3.60)' color='rgb(  0,   0,   0)'/>\n",
       "</g>\n",
       "\t</g>\n",
       "\t<g id=\"gnuplot_plot_16\" ><title>gnuplot_plot_16</title>\n",
       "<g fill=\"none\" color=\"black\" stroke=\"currentColor\" stroke-width=\"1.00\" stroke-linecap=\"butt\" stroke-linejoin=\"miter\">\n",
       "\t<path stroke='rgb(  0,   0,   0)' stroke-dasharray='1.0,2.0'  d='M152.4,514.7  '/>\t<use xlink:href='#gpPt8' transform='translate(152.4,514.7) scale(7.20)' color='rgb(  0,   0,   0)'/>\n",
       "</g>\n",
       "\t</g>\n",
       "\t<g id=\"gnuplot_plot_17\" ><title>ESDIRK32: nCells=256</title>\n",
       "<g fill=\"none\" color=\"black\" stroke=\"currentColor\" stroke-width=\"1.00\" stroke-linecap=\"butt\" stroke-linejoin=\"miter\">\n",
       "\t<g transform=\"translate(707.9,183.2)\" stroke=\"none\" fill=\"black\" font-family=\"Arial\" font-size=\"12.00\"  text-anchor=\"end\">\n",
       "\t\t<text><tspan font-family=\"Arial\" >ESDIRK</tspan><tspan font-family=\"Arial\"  font-size=\"9.6\" dy=\"3.60px\">3</tspan><tspan font-family=\"Arial\"  font-size=\"12.0\" dy=\"-3.60px\">2: nCells=256</tspan></text>\n",
       "\t</g>\n",
       "</g>\n",
       "<g fill=\"none\" color=\"black\" stroke=\"currentColor\" stroke-width=\"1.00\" stroke-linecap=\"butt\" stroke-linejoin=\"miter\">\n",
       "\t<path stroke='rgb(  0,   0,   0)' stroke-dasharray='1.0,2.0'  d='M716.2,178.7 L758.4,178.7 M612.8,173.5 L542.9,215.1 L473.1,193.5 L403.2,285.2 L333.4,372.1 L263.5,453.7\n",
       "\t\t '/>\t<use xlink:href='#gpPt11' transform='translate(612.8,173.5) scale(3.60)' color='rgb(  0,   0,   0)'/>\n",
       "\t<use xlink:href='#gpPt11' transform='translate(542.9,215.1) scale(3.60)' color='rgb(  0,   0,   0)'/>\n",
       "\t<use xlink:href='#gpPt11' transform='translate(473.1,193.5) scale(3.60)' color='rgb(  0,   0,   0)'/>\n",
       "\t<use xlink:href='#gpPt11' transform='translate(403.2,285.2) scale(3.60)' color='rgb(  0,   0,   0)'/>\n",
       "\t<use xlink:href='#gpPt11' transform='translate(333.4,372.1) scale(3.60)' color='rgb(  0,   0,   0)'/>\n",
       "\t<use xlink:href='#gpPt11' transform='translate(263.5,453.7) scale(3.60)' color='rgb(  0,   0,   0)'/>\n",
       "\t<use xlink:href='#gpPt11' transform='translate(737.3,178.7) scale(3.60)' color='rgb(  0,   0,   0)'/>\n",
       "</g>\n",
       "\t</g>\n",
       "\t<g id=\"gnuplot_plot_18\" ><title>gnuplot_plot_18</title>\n",
       "<g fill=\"none\" color=\"black\" stroke=\"currentColor\" stroke-width=\"1.00\" stroke-linecap=\"butt\" stroke-linejoin=\"miter\">\n",
       "\t<path stroke='rgb(  0,   0,   0)' stroke-dasharray='1.0,2.0'  d='M149.9,504.1  '/>\t<use xlink:href='#gpPt11' transform='translate(149.9,504.1) scale(7.20)' color='rgb(  0,   0,   0)'/>\n",
       "</g>\n",
       "\t</g>\n",
       "<g fill=\"none\" color=\"#FFFFFF\" stroke=\"rgb(  0,   0,   0)\" stroke-width=\"2.00\" stroke-linecap=\"butt\" stroke-linejoin=\"miter\">\n",
       "</g>\n",
       "<g fill=\"none\" color=\"black\" stroke=\"currentColor\" stroke-width=\"2.00\" stroke-linecap=\"butt\" stroke-linejoin=\"miter\">\n",
       "</g>\n",
       "<g fill=\"none\" color=\"black\" stroke=\"black\" stroke-width=\"1.00\" stroke-linecap=\"butt\" stroke-linejoin=\"miter\">\n",
       "</g>\n",
       "<g fill=\"none\" color=\"black\" stroke=\"currentColor\" stroke-width=\"1.00\" stroke-linecap=\"butt\" stroke-linejoin=\"miter\">\n",
       "\t<path stroke='black'  d='M78.8,16.7 L78.8,564.0 L775.0,564.0 L775.0,16.7 L78.8,16.7 Z  '/></g>\n",
       "<g fill=\"none\" color=\"black\" stroke=\"currentColor\" stroke-width=\"1.00\" stroke-linecap=\"butt\" stroke-linejoin=\"miter\">\n",
       "</g>\n",
       "</g>\n",
       "</svg>\n",
       "\n"
      ]
     },
     "metadata": {},
     "output_type": "display_data"
    }
   ],
   "source": [
    "var gp = new Gnuplot();\n",
    "//double[] ts = dtS.Take(dtS.Length).Select(x => (double)x).ToArray();\n",
    "double[] ts = NoOfTimestepS.Take(NoOfTimestepS.Length).Select(x => MyGlobals.endTime/(double)x).ToArray();\n",
    "for(int iRes=0;iRes<resultsFixed.Count;iRes++){\n",
    "    var pairFixed= resultsFixed[iRes];\n",
    "    var fmt =GetFormat(iRes);\n",
    "    gp.PlotLogXLogY(ts, pairFixed.Item2,  title:pairFixed.Item1, format:GetFormat(iRes,pairFixed.Item1));\n",
    "    var fmt2 =GetFormat(iRes,pairFixed.Item1);\n",
    "    fmt2.PointSize=1.6;\n",
    "\n",
    "    var pairAdapt= resultsAdaptive[iRes];\n",
    "    gp.PlotLogXLogY(new double[]{pairAdapt.Item2[1]},new double[]{pairAdapt.Item2[0]},format:fmt2);\n",
    "}\n",
    "gp.PlotNow()"
   ]
  }
 ],
 "metadata": {
  "kernelspec": {
   "display_name": ".NET (C#)",
   "language": "C#",
   "name": ".net-csharp"
  },
  "language_info": {
   "file_extension": ".cs",
   "mimetype": "text/x-csharp",
   "name": "C#",
   "pygments_lexer": "csharp",
   "version": "11.0"
  }
 },
 "nbformat": 4,
 "nbformat_minor": 4
}

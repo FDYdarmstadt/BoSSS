{
 "cells": [
  {
   "cell_type": "markdown",
   "metadata": {},
   "source": [
    "# Advection Diffusion Solver \n",
    "\n",
    "\n",
    "## Problem statement\n",
    "\n",
    "We are investigating the Advection Diffusion Equation\n",
    "$$\n",
    "  \\frac{\\partial u^{\\mathrm{MS}}}{\\partial t} +\\vec{u} \\cdot \\nabla u^{\\mathrm{MS}} - \\mu \\nabla^2 u^{\\mathrm{MS}} + S(u)=0 \\in (0,2)^2\n",
    "$$\n",
    "with the initial value\n",
    "$$\n",
    "    u_0(x,y) = \\sin(a x) \\sin(b y),\n",
    "$$\n",
    "and the manufactured solution\n",
    "$$\n",
    "u^{\\mathrm{MS}} = \\sin(a x) \\sin(b y) \\cos(c t)\n",
    "$$"
   ]
  },
  {
   "cell_type": "markdown",
   "metadata": {},
   "source": [
    "#### Calculation of the Source Term\n",
    "calcluate all parts\n",
    "$$ \n",
    "\\frac{\\partial u^{\\mathrm{MS}}}{\\partial t} = -c \\sin(a x) \\sin(b y) \\sin(c t)= -c\\frac{\\sin(c t)}{\\cos(c t)} u^{\\mathrm{MS}}\n",
    "$$\n",
    "$$\n",
    "\\vec{u} \\cdot \\nabla u^{\\mathrm{MS}} = \\cos(ct) [u_1 a \\cos(ax) \\sin(by)+ u_2 b \\sin(ax) \\cos(by)] =  u_1 a  \\frac{\\cos(ax)}{\\sin(a x)}  u^{\\mathrm{MS}}+ u_2 b \\frac{\\cos(by)}{\\sin(by)}  u^{\\mathrm{MS}}\n",
    "$$\n",
    "$$\n",
    "\\mu \\nabla^2 u^{\\mathrm{MS}} = \\mu \\cos(ct)[-a^2 \\sin(ax) \\sin(by)  - b^2 \\sin(ax) \\sin(by)] =  \\mu (-a^2 - b^2)u^{\\mathrm{MS}}\n",
    "$$\n",
    "\n",
    "Putting that together we obtain the source term as\n",
    "$$\n",
    "S(u) = -(\\frac{\\partial u^{\\mathrm{MS}}}{\\partial t} +\\vec{u} \\cdot \\nabla u^{\\mathrm{MS}} - \\mu \\nabla^2 u^{\\mathrm{MS}}) \n",
    "$$\n"
   ]
  },
  {
   "cell_type": "code",
   "execution_count": 162,
   "metadata": {
    "dotnet_interactive": {
     "language": "csharp"
    },
    "vscode": {
     "languageId": "polyglot-notebook"
    }
   },
   "outputs": [
    {
     "name": "stdout",
     "output_type": "stream",
     "text": [
      "Using gnuplot: C:\\Program Files (x86)\\FDY\\BoSSS\\bin\\native\\win\\gnuplot-gp510-20160418-win32-mingw\\gnuplot\\bin\\gnuplot.exe\n",
      "Databases loaded: \n",
      "Capacity: 0\n",
      "Count: 0\n",
      "\n"
     ]
    },
    {
     "ename": "Error",
     "evalue": "System.ApplicationException: Already called.\r\n   at BoSSS.Application.BoSSSpad.BoSSSshell.InitTraceFile() in C:\\experimental\\public\\src\\L4-application\\BoSSSpad\\BoSSSshell.cs:line 204\r\n   at BoSSS.Application.BoSSSpad.BoSSSshell.Init() in C:\\experimental\\public\\src\\L4-application\\BoSSSpad\\BoSSSshell.cs:line 97\r\n   at Submission#163.<<Initialize>>d__0.MoveNext()\r\n--- End of stack trace from previous location ---\r\n   at Microsoft.CodeAnalysis.Scripting.ScriptExecutionState.RunSubmissionsAsync[TResult](ImmutableArray`1 precedingExecutors, Func`2 currentExecutor, StrongBox`1 exceptionHolderOpt, Func`2 catchExceptionOpt, CancellationToken cancellationToken)",
     "output_type": "error",
     "traceback": [
      "System.ApplicationException: Already called.\r\n",
      "   at BoSSS.Application.BoSSSpad.BoSSSshell.InitTraceFile() in C:\\experimental\\public\\src\\L4-application\\BoSSSpad\\BoSSSshell.cs:line 204\r\n",
      "   at BoSSS.Application.BoSSSpad.BoSSSshell.Init() in C:\\experimental\\public\\src\\L4-application\\BoSSSpad\\BoSSSshell.cs:line 97\r\n",
      "   at Submission#163.<<Initialize>>d__0.MoveNext()\r\n",
      "--- End of stack trace from previous location ---\r\n",
      "   at Microsoft.CodeAnalysis.Scripting.ScriptExecutionState.RunSubmissionsAsync[TResult](ImmutableArray`1 precedingExecutors, Func`2 currentExecutor, StrongBox`1 exceptionHolderOpt, Func`2 catchExceptionOpt, CancellationToken cancellationToken)"
     ]
    }
   ],
   "source": [
    "#r \".\\binaries\\\\BoSSSpad.dll\"\n",
    "using System;\n",
    "using System.Collections.Generic;\n",
    "using System.Linq;\n",
    "using ilPSP;\n",
    "using ilPSP.Utils;\n",
    "using BoSSS.Platform;\n",
    "using BoSSS.Platform.LinAlg;\n",
    "using BoSSS.Foundation;\n",
    "using BoSSS.Foundation.XDG;\n",
    "using BoSSS.Foundation.Grid;\n",
    "using BoSSS.Foundation.Grid.Classic;\n",
    "using BoSSS.Foundation.Grid.RefElements;\n",
    "using BoSSS.Foundation.IO;\n",
    "using BoSSS.Solution;\n",
    "using BoSSS.Solution.Control;\n",
    "using BoSSS.Solution.GridImport;\n",
    "using BoSSS.Solution.Statistic;\n",
    "using BoSSS.Solution.Utils;\n",
    "using BoSSS.Solution.AdvancedSolvers;\n",
    "using BoSSS.Solution.Gnuplot;\n",
    "using BoSSS.Application.BoSSSpad;\n",
    "using BoSSS.Application.XNSE_Solver;\n",
    "using BoSSS.Application.XNSFE_Solver;\n",
    "using static BoSSS.Application.BoSSSpad.BoSSSshell;\n",
    "Init();"
   ]
  },
  {
   "cell_type": "code",
   "execution_count": 163,
   "metadata": {
    "dotnet_interactive": {
     "language": "csharp"
    },
    "polyglot_notebook": {
     "kernelName": "csharp"
    },
    "vscode": {
     "languageId": "polyglot-notebook"
    }
   },
   "outputs": [],
   "source": [
    "using BoSSS.Solution.XdgTimestepping;"
   ]
  },
  {
   "cell_type": "markdown",
   "metadata": {},
   "source": [
    "## Creation of Differential Operator\n"
   ]
  },
  {
   "cell_type": "markdown",
   "metadata": {},
   "source": [
    "Velocity field and Exact solution for Dirichlet Boundary"
   ]
  },
  {
   "cell_type": "markdown",
   "metadata": {},
   "source": [
    "#### Calculation of the Source Term\n",
    "calcluate all parts\n",
    "$$ \n",
    "\\frac{\\partial u^{\\mathrm{MS}}}{\\partial t} = -c \\sin(a x) \\sin(b y) \\sin(c t)= -c\\frac{\\sin(c t)}{\\cos(c t)} u^{\\mathrm{MS}}\n",
    "$$\n",
    "$$\n",
    "\\vec{u} \\cdot \\nabla u^{\\mathrm{MS}} = \\cos(ct) [u_1 a \\cos(ax) \\sin(by)+ u_2 b \\sin(ax) \\cos(by)] =  u_1 a  \\frac{\\cos(ax)}{\\sin(a x)}  u^{\\mathrm{MS}}+ u_2 b \\frac{\\cos(by)}{\\sin(by)}  u^{\\mathrm{MS}}\n",
    "$$\n",
    "$$\n",
    "\\mu \\nabla^2 u^{\\mathrm{MS}} = \\mu \\cos(ct)[-a^2 \\sin(ax) \\sin(by)  - b^2 \\sin(ax) \\sin(by)] =  \\mu (-a^2 - b^2)u^{\\mathrm{MS}}\n",
    "$$\n",
    "\n",
    "Putting that together we obtain the source term as\n",
    "$$\n",
    "S(u) = -(\\frac{\\partial u^{\\mathrm{MS}}}{\\partial t} +\\vec{u} \\cdot \\nabla u^{\\mathrm{MS}} - \\mu \\nabla^2 u^{\\mathrm{MS}}) \n",
    "$$\n"
   ]
  },
  {
   "cell_type": "code",
   "execution_count": 164,
   "metadata": {
    "dotnet_interactive": {
     "language": "csharp"
    },
    "polyglot_notebook": {
     "kernelName": "csharp"
    },
    "vscode": {
     "languageId": "polyglot-notebook"
    }
   },
   "outputs": [],
   "source": [
    "using static System.Math;\n",
    "public static class MyGlobals {\n",
    "    public static double u(double[] X) => 0.8;\n",
    "    public static double v(double[] X) => 0.6;\n",
    "    public static double a = 2.3;\n",
    "    public static double b = 2.9;\n",
    "    public static double c = 4.2;\n",
    "    public static double nu=0.5;\n",
    "\n",
    "    public static double uExact(double[] X, double t) => Sin(a * X[0]) * Sin(b * X[1]) * Cos(c * t);\n",
    "\n",
    "    public static double TimeDerivative(double[] X, double t) => -c * Sin(a * X[0]) * Sin(b * X[1]) * Sin(c * t);\n",
    "\n",
    "    public static double ConvectiveTerm(double[] X, double t) => \n",
    "    Cos(c * t) * (u(X) * a * Cos(a * X[0]) * Sin(b * X[1]) + v(X) * b * Sin(a * X[0]) * Cos(b * X[1]));\n",
    "\n",
    "    public static double DiffusionTerm(double[] X, double t) => nu * Cos(c * t) * (-a*a * Sin(a * X[0]) * Sin(b * X[1]) - b*b * Sin(a * X[0]) * Sin(b * X[1]));\n",
    "\n",
    "     public static double SourceTerm (double[] X, double t) =>  -(TimeDerivative(X,t)+ConvectiveTerm(X,t)-DiffusionTerm(X,t));\n",
    "  \n",
    "//     public static double TimeDerivative_u(double U,double[] X, double t) => -c *  Sin(c * t)*U/Cos(c*t);\n",
    "\n",
    "//     public static double ConvectiveTerm_u(double U,double[] X, double t) => \n",
    "//    (u(X) * a * Cos(a * X[0]) /Sin(a*X[0])+ v(X) * b * Cos(b * X[1])/Sin(b*X[1]) )*U;\n",
    "\n",
    "//     public static double DiffusionTerm_u(double U,double[] X, double t) => nu *(-a*a-b*b)*U;\n",
    "//     // Calculate the corresponding source term S(u)\n",
    "//     public static double S_u (double U,double[] X, double t) =>  -(TimeDerivative_u(U,X,t)+ConvectiveTerm_u(U,X,t)-DiffusionTerm_u(U,X,t));\n",
    "   \n",
    "}"
   ]
  },
  {
   "cell_type": "markdown",
   "metadata": {},
   "source": [
    "Regarding the spatial part of the operator, we re-use the SIP-implementation \n",
    "which is already available in the `BoSSS.Solution.NSECommon` library.\n",
    "For this implementation, whe have to specify the diffusion coefficient (here to -0.5)\n",
    "as well as the Location of the Dirichlet boundary."
   ]
  },
  {
   "cell_type": "code",
   "execution_count": 165,
   "metadata": {
    "dotnet_interactive": {
     "language": "csharp"
    },
    "polyglot_notebook": {
     "kernelName": "csharp"
    },
    "vscode": {
     "languageId": "polyglot-notebook"
    }
   },
   "outputs": [],
   "source": [
    "class Laplace : BoSSS.Solution.NSECommon.SIPLaplace {\n",
    "\n",
    "    public Laplace() : base(1.4, \"u\") { } // override the constuctor; \n",
    "    //                                       The factor 1.4 is a constant \"safty factor\" multiper for the penalty parameter.\n",
    "    //                                       The base implementation takes care about all other penalty factor dependencies, \n",
    "    //                                       i.e. dependence of the penatly factor on local cell size, DG polynomial degree and cell shape.\n",
    "    //                                       The second argument, \"u\", is the name of the variable for the `ArgumentOrdering`.\n",
    "\n",
    "\n",
    "    // Specifies whetherss a specific point (`inp.X`) is either a Dirichlet or a Neumann boundary;\n",
    "    // Since in our case ther, the entire boundary should be Diriclet, we always return true.\n",
    "    protected override bool IsDirichlet(ref CommonParamsBnd inp) {\n",
    "        return true;\n",
    "    }\n",
    "    \n",
    "    // diffusion coefficient\n",
    "    override public double Nu(double[] x, double[] p, int jCell) {\n",
    "        return -0.5;\n",
    "    }\n",
    "    override protected double g_Diri(ref CommonParamsBnd inp) { \n",
    "        //Console.WriteLine(\"Evaluated at x=\" + inp.X);\n",
    "        return MyGlobals.uExact(inp.X,inp.time); }\n",
    "\n",
    "\n",
    "}"
   ]
  },
  {
   "cell_type": "markdown",
   "metadata": {},
   "source": [
    "#### Advection Operator"
   ]
  },
  {
   "cell_type": "markdown",
   "metadata": {},
   "source": [
    "The flux we are considering is the local Lax-Friedrichs flux\n",
    "$$\n",
    "\\hat{f}(c_h^-, c_h^+, \\vec{u} \\cdot \\vec{n}) = \\overline{\\vec{u} \\, c_h} \\cdot \\vec{n} + \\frac{C}{2} \\lbrack \\lbrack {c_h} \\rbrack \\rbrack.\n",
    "$$\n",
    "The constant $C \\in \\mathbb{R}^+$ has to be sufficiently large in order to guarantee the stability of the \n",
    "numerical scheme. We choose \n",
    "$$\n",
    "C = \\max \\vert{\\vec{u} \\cdot \\vec{n}}\\vert \n",
    "$$\n"
   ]
  },
  {
   "cell_type": "code",
   "execution_count": 166,
   "metadata": {
    "dotnet_interactive": {
     "language": "csharp"
    },
    "polyglot_notebook": {
     "kernelName": "csharp"
    },
    "vscode": {
     "languageId": "polyglot-notebook"
    }
   },
   "outputs": [],
   "source": [
    "//double C = 0.8;     \n",
    " \n",
    "Func<double, double, Vector, Vector, double> laxFriedrichsFlux =     \n",
    "    delegate(double Uin, double Uout, Vector n, Vector velocityVector) {     \n",
    "        var C=Math.Abs(velocityVector*n);\n",
    "        return 0.5 * (Uin + Uout) * velocityVector * n - C * (Uout - Uin);     \n",
    "    };"
   ]
  },
  {
   "cell_type": "code",
   "execution_count": 167,
   "metadata": {
    "dotnet_interactive": {
     "language": "csharp"
    },
    "polyglot_notebook": {
     "kernelName": "csharp"
    },
    "vscode": {
     "languageId": "polyglot-notebook"
    }
   },
   "outputs": [],
   "source": [
    "\n",
    "class ScalarTransportFlux : NonlinearFlux {     \n",
    " \n",
    "    private Func<double, double, Vector, Vector, double> numericalFlux;     \n",
    " \n",
    "    // Provides instances of this class with a specific flux implementation     \n",
    "    public ScalarTransportFlux(     \n",
    "        Func<double, double, Vector, Vector, double> numericalFlux) {     \n",
    " \n",
    "        this.numericalFlux = numericalFlux;     \n",
    "    }     \n",
    " \n",
    "    public override IList<string> ArgumentOrdering {     \n",
    "        get { return new string[] { \"u\" }; }     \n",
    "    }     \n",
    " \n",
    "    protected override void Flux(     \n",
    "        double time, double[] x, double[] U, double[] output) {     \n",
    " \n",
    "        output[0] = MyGlobals.u(x) * U[0];     \n",
    "        output[1] = MyGlobals.v(x) * U[0];     \n",
    "    }     \n",
    " \n",
    "    // Makes use of the flux implementation supplied in the constructor     \n",
    "    protected override double InnerEdgeFlux(     \n",
    "        double time, double[] x, double[] normal,      \n",
    "        double[] Uin, double[] Uout, int jEdge) {     \n",
    " \n",
    "        Vector n              = new Vector(normal);     \n",
    "        Vector velocityVector = new Vector(MyGlobals.u(x), MyGlobals.v(x));     \n",
    " \n",
    "        return numericalFlux(Uin[0], Uout[0], n, velocityVector);     \n",
    "    }     \n",
    " \n",
    "    protected override double BorderEdgeFlux(     \n",
    "        double time, double[] x, double[] normal, byte EdgeTag,     \n",
    "        double[] Uin, int jEdge) {     \n",
    " \n",
    "        double[] Uout = new double[] { MyGlobals.uExact(x, time) };     \n",
    " \n",
    "        return InnerEdgeFlux(time, x, normal, Uin, Uout, jEdge);     \n",
    "    }     \n",
    "}"
   ]
  },
  {
   "cell_type": "code",
   "execution_count": 168,
   "metadata": {
    "dotnet_interactive": {
     "language": "csharp"
    },
    "polyglot_notebook": {
     "kernelName": "csharp"
    },
    "vscode": {
     "languageId": "polyglot-notebook"
    }
   },
   "outputs": [],
   "source": [
    "class SourceTerm : IVolumeForm\n",
    "{\n",
    "\n",
    "    public TermActivationFlags VolTerms => TermActivationFlags.UxV;\n",
    "\n",
    "    public IList<string> ArgumentOrdering {     \n",
    "        get { return new string[] { \"u\" }; }     \n",
    "    } \n",
    "\n",
    "    public IList<string> ParameterOrdering => null;\n",
    "\n",
    "    public double VolumeForm(ref CommonParamsVol cpv, double[] U, double[,] GradU, double V, double[] GradV)\n",
    "    {\n",
    "        //return U[0]*V;\n",
    "        //return MyGlobals.S_u(U[0],cpv.Xglobal,cpv.time)*V;\n",
    "        return MyGlobals.SourceTerm(cpv.Xglobal,cpv.time)*V;\n",
    "    }\n",
    "}"
   ]
  },
  {
   "cell_type": "markdown",
   "metadata": {},
   "source": [
    "#### Operator assembly\n",
    "We compose the differential operator from the previously created \n",
    "`Laplace` implementation and add the `ScalarTransportFlux`. "
   ]
  },
  {
   "cell_type": "code",
   "execution_count": 169,
   "metadata": {
    "dotnet_interactive": {
     "language": "csharp"
    },
    "polyglot_notebook": {
     "kernelName": "csharp"
    },
    "vscode": {
     "languageId": "polyglot-notebook"
    }
   },
   "outputs": [],
   "source": [
    "var Op = new DifferentialOperator(1, 0, 1, QuadOrderFunc.Linear(), \"u\", \"R1\");\n",
    "\n",
    "Op.EquationComponents[\"R1\"].Add(new Laplace()); // adding Laplace\n",
    "Op.EquationComponents[\"R1\"].Add(new ScalarTransportFlux(laxFriedrichsFlux)); // adding Advection\n",
    "Op.EquationComponents[\"R1\"].Add(new SourceTerm()); // adding source term\n",
    "Op.TemporalOperator = new ConstantTemporalOperator(Op);\n",
    "Op.IsLinear = true;\n",
    "Op.Commit();"
   ]
  },
  {
   "cell_type": "markdown",
   "metadata": {},
   "source": [
    "## Find the time step"
   ]
  },
  {
   "cell_type": "markdown",
   "metadata": {},
   "source": [
    "## Performing Temporal Integration"
   ]
  },
  {
   "cell_type": "code",
   "execution_count": 170,
   "metadata": {
    "dotnet_interactive": {
     "language": "csharp"
    },
    "polyglot_notebook": {
     "kernelName": "csharp"
    },
    "vscode": {
     "languageId": "polyglot-notebook"
    }
   },
   "outputs": [],
   "source": [
    "\n",
    "SinglePhaseField TimeIntegrate(SinglePhaseField u0, double EndTime, double dt, TimeSteppingScheme tsScheme=TimeSteppingScheme.ESDIRK_64) {\n",
    "    var u1 = u0.CloneAs();\n",
    "    var Timestepper = new XdgTimestepping(Op, new DGField[] { u1 }, new DGField[] { new SinglePhaseField(u0.Basis)}, \n",
    "                            tsScheme);\n",
    "\n",
    "    int NoOfTimeteps = (int) (EndTime/dt);\n",
    "    for(int i = 0; i < NoOfTimeteps; i++)\n",
    "        Timestepper.Solve(dt*i, dt);\n",
    "    \n",
    "    return u1;\n",
    "}"
   ]
  },
  {
   "cell_type": "markdown",
   "metadata": {},
   "source": [
    "## Performing a temporal convergence study"
   ]
  },
  {
   "cell_type": "code",
   "execution_count": 171,
   "metadata": {
    "dotnet_interactive": {
     "language": "csharp"
    },
    "polyglot_notebook": {
     "kernelName": "csharp"
    },
    "vscode": {
     "languageId": "polyglot-notebook"
    }
   },
   "outputs": [],
   "source": [
    "double uExEq(double[] X) {\n",
    "   return MyGlobals.uExact(X,2.0);\n",
    "}"
   ]
  },
  {
   "cell_type": "markdown",
   "metadata": {},
   "source": [
    "loop over different grids (`nCells`) and `TimesteppingSchemes` "
   ]
  },
  {
   "cell_type": "code",
   "execution_count": 184,
   "metadata": {
    "dotnet_interactive": {
     "language": "csharp"
    },
    "polyglot_notebook": {
     "kernelName": "csharp"
    },
    "vscode": {
     "languageId": "polyglot-notebook"
    }
   },
   "outputs": [
    {
     "name": "stdout",
     "output_type": "stream",
     "text": [
      "   Starting Compuation: ESDIRK_64: nCells=16\n",
      "   --------------  computing dt: 1\n",
      "   --------------  computing dt: 0.5\n",
      "   --------------  computing dt: 0.25\n",
      "   --------------  computing dt: 0.125\n",
      "   --------------  computing dt: 0.0625\n",
      "Writing output file c:\\experimental\\public\\doc\\handbook\\AdvectionDiffusionSolver\\u1.104...\n",
      "done.\n",
      "   Starting Compuation: ESDIRK_32: nCells=16\n",
      "   --------------  computing dt: 1\n",
      "   --------------  computing dt: 0.5\n",
      "   --------------  computing dt: 0.25\n",
      "   --------------  computing dt: 0.125\n",
      "   --------------  computing dt: 0.0625\n",
      "Writing output file c:\\experimental\\public\\doc\\handbook\\AdvectionDiffusionSolver\\u1.204...\n",
      "done.\n",
      "   Starting Compuation: ESDIRK_64: nCells=64\n",
      "   --------------  computing dt: 1\n",
      "   --------------  computing dt: 0.5\n",
      "   --------------  computing dt: 0.25\n",
      "   --------------  computing dt: 0.125\n",
      "   --------------  computing dt: 0.0625\n",
      "Writing output file c:\\experimental\\public\\doc\\handbook\\AdvectionDiffusionSolver\\u1.108...\n",
      "done.\n",
      "   Starting Compuation: ESDIRK_32: nCells=64\n",
      "   --------------  computing dt: 1\n",
      "   --------------  computing dt: 0.5\n",
      "   --------------  computing dt: 0.25\n",
      "   --------------  computing dt: 0.125\n",
      "   --------------  computing dt: 0.0625\n",
      "Writing output file c:\\experimental\\public\\doc\\handbook\\AdvectionDiffusionSolver\\u1.208...\n",
      "done.\n",
      "   Starting Compuation: ESDIRK_64: nCells=256\n",
      "   --------------  computing dt: 1\n",
      "   --------------  computing dt: 0.5\n",
      "   --------------  computing dt: 0.25\n",
      "   --------------  computing dt: 0.125\n",
      "   --------------  computing dt: 0.0625\n",
      "Writing output file c:\\experimental\\public\\doc\\handbook\\AdvectionDiffusionSolver\\u1.116...\n",
      "done.\n",
      "   Starting Compuation: ESDIRK_32: nCells=256\n",
      "   --------------  computing dt: 1\n",
      "   --------------  computing dt: 0.5\n",
      "   --------------  computing dt: 0.25\n",
      "   --------------  computing dt: 0.125\n",
      "   --------------  computing dt: 0.0625\n",
      "Writing output file c:\\experimental\\public\\doc\\handbook\\AdvectionDiffusionSolver\\u1.216...\n",
      "done.\n"
     ]
    }
   ],
   "source": [
    "//var dtS = new double[] {1,0.5,0.25,0.125,0.0625,0.03175,0.015875,0.0079375};\n",
    "var dtS = new double[] {1,0.5,0.25,0.125,0.0625};\n",
    "var NCells = new double[] {4,8,16};\n",
    "var tsSchemes= new TimeSteppingScheme[] {TimeSteppingScheme.ESDIRK_64,TimeSteppingScheme.ESDIRK_32};\n",
    "// var NCells = new double[] {4,8,16,32,64,128};\n",
    "// var dtS = new double[] {1,0.5};\n",
    "// var tsSchemes= new TimeSteppingScheme[] {TimeSteppingScheme.ESDIRK_64};\n",
    "var results = new List<Tuple<string,double[]>>();\n",
    "\n",
    "//Grid and initial value\n",
    "foreach(int nCells in NCells){\n",
    "    var grid = Grid2D.Cartesian2DGrid(GenericBlas.Linspace(0.0,2.0,nCells+1), GenericBlas.Linspace(0.0,2.0,nCells+1));\n",
    "    var u0 = new SinglePhaseField(new Basis(grid, 2), \"u\");\n",
    "    var u1 = new SinglePhaseField(new Basis(grid, 2), \"u\");\n",
    "    u0.ProjectField((double[] X) => MyGlobals.uExact(X,0));\n",
    "\n",
    "    for(int ischeme=0;ischeme<tsSchemes.Length;ischeme++){\n",
    "        var scheme=tsSchemes[ischeme];\n",
    "        var solutions = new List<SinglePhaseField>();\n",
    "        Console.WriteLine(\"   Starting Compuation: \" + scheme.ToString()+\": nCells=\" +grid.NumberOfCells);\n",
    "        for(int i = 0; i < dtS.Length; i++) {\n",
    "            Console.WriteLine(\"   --------------  computing dt: \" + dtS[i]);\n",
    "            u1 = TimeIntegrate(u0, 2, dtS[i],scheme);\n",
    "\n",
    "            //use Exact solution\n",
    "            //u1.ProjectField((double[] X) => MyGlobals.uExact(X,2.0));\n",
    "            //Tecplot(\"u1.\" + i, u1);\n",
    "            solutions.Add(u1);\n",
    "        }\n",
    "        //######## some debugging ####################\n",
    "        //compute res\n",
    "        var Ev= Op.GetEvaluatorEx(new List<DGField>(){u1},null,new CoordinateMapping(u1));\n",
    "        var residual=u1.CloneAs(); residual.Identification=\"residual\";\n",
    "        Ev.Evaluate(1.0,0.0,new CoordinateVector(residual));\n",
    "        \n",
    "        var diff=u1.CloneAs(); diff.Identification=\"diff_ex\";\n",
    "        diff.ProjectField((double[] X) => MyGlobals.uExact(X,2.0));\n",
    "        diff.Acc(-1.0,u1);\n",
    "\n",
    "        var uex=u1.CloneAs(); uex.Identification=\"u_ex\";\n",
    "        uex.ProjectField((double[] X) => MyGlobals.uExact(X,2.0));\n",
    "\n",
    "        Tecplot(\"u1.\" + ((ischeme+1)*100+nCells), new DGField[] {u1,residual,diff,uex});\n",
    "        //Computing the error against the exact solution:\n",
    "        double[] ErrEx = new double[solutions.Count];\n",
    "        for(int i = 0; i < ErrEx.Length; i++) {\n",
    "            ErrEx[i] = solutions[i].L2Error(uExEq);\n",
    "            //ErrEx[i]=residual.L2Norm();\n",
    "        }\n",
    "        results.Add(new Tuple<string,double[]>(scheme.ToString()+ \": nCells=\" +grid.NumberOfCells,ErrEx));\n",
    "    }\n",
    "}\n",
    "\n"
   ]
  },
  {
   "cell_type": "markdown",
   "metadata": {},
   "source": [
    "plot results"
   ]
  },
  {
   "cell_type": "code",
   "execution_count": 185,
   "metadata": {
    "dotnet_interactive": {
     "language": "csharp"
    },
    "polyglot_notebook": {
     "kernelName": "csharp"
    },
    "vscode": {
     "languageId": "polyglot-notebook"
    }
   },
   "outputs": [],
   "source": [
    "public PlotFormat GetFormat(int count){\n",
    "    \n",
    "    var allPT = new BoSSS.Solution.Gnuplot.PointTypes[] { PointTypes.Diamond, PointTypes.LowerTriangle, PointTypes.Circle, PointTypes.OpenDiamond, PointTypes.OpenLowerTriangle, PointTypes.OpenCircle, PointTypes.Circle, PointTypes.OpenDiamond, PointTypes.OpenLowerTriangle, PointTypes.OpenCircle, PointTypes.Circle, PointTypes.OpenDiamond, PointTypes.OpenLowerTriangle, PointTypes.OpenCircle, PointTypes.Circle, PointTypes.OpenDiamond, PointTypes.OpenLowerTriangle, PointTypes.OpenCircle};\n",
    "    var allC = new BoSSS.Solution.Gnuplot.LineColors[] { LineColors.Blue, LineColors.Blue,LineColors.Black,LineColors.Black, LineColors.Red,LineColors.Red,LineColors.Blue, LineColors.Black, LineColors.Red, LineColors.Red,LineColors.Blue, LineColors.Black, LineColors.Red, LineColors.Red,LineColors.Blue, LineColors.Black, LineColors.Red, LineColors.Red,LineColors.Blue, LineColors.Black, LineColors.Red};\n",
    "    var Fmt = new PlotFormat();\n",
    "    Fmt.PointSize = 0.8;\n",
    "    Fmt.LineWidth = 1;    \n",
    "    Fmt.Style     = Styles.LinesPoints;\n",
    "\n",
    "    Fmt.LineColor = allC[count];\n",
    "    Fmt.PointType =  allPT[count];\n",
    "    return Fmt;\n",
    "}"
   ]
  },
  {
   "cell_type": "code",
   "execution_count": 186,
   "metadata": {
    "dotnet_interactive": {
     "language": "csharp"
    },
    "polyglot_notebook": {
     "kernelName": "csharp"
    },
    "vscode": {
     "languageId": "polyglot-notebook"
    }
   },
   "outputs": [
    {
     "name": "stdout",
     "output_type": "stream",
     "text": [
      "Using gnuplot: C:\\Program Files (x86)\\FDY\\BoSSS\\bin\\native\\win\\gnuplot-gp510-20160418-win32-mingw\\gnuplot\\bin\\gnuplot.exe\n",
      "Note: In a Jupyter Worksheet, you must NOT have a trailing semicolon in order to see the plot on screen; otherwise, the output migth be surpressed.!\n"
     ]
    },
    {
     "data": {
      "text/html": [
       "<?xml version=\"1.0\" encoding=\"utf-8\"  standalone=\"no\"?>\n",
       "<!DOCTYPE svg PUBLIC \"-//W3C//DTD SVG 1.1//EN\"\n",
       " \"http://www.w3.org/Graphics/SVG/1.1/DTD/svg11.dtd\">\n",
       "<svg \n",
       " width=\"800\" height=\"600\"\n",
       " viewBox=\"0 0 800 600\"\n",
       " xmlns=\"http://www.w3.org/2000/svg\"\n",
       " xmlns:xlink=\"http://www.w3.org/1999/xlink\"\n",
       ">\n",
       "\n",
       "<title>Gnuplot</title>\n",
       "<desc>Produced by GNUPLOT 5.1 patchlevel 0 </desc>\n",
       "\n",
       "<g id=\"gnuplot_canvas\">\n",
       "\n",
       "<rect x=\"0\" y=\"0\" width=\"800\" height=\"600\" fill=\"#ffffff\"/>\n",
       "<defs>\n",
       "\n",
       "\t<circle id='gpDot' r='0.5' stroke-width='0.5'/>\n",
       "\t<path id='gpPt0' stroke-width='0.222' stroke='currentColor' d='M-1,0 h2 M0,-1 v2'/>\n",
       "\t<path id='gpPt1' stroke-width='0.222' stroke='currentColor' d='M-1,-1 L1,1 M1,-1 L-1,1'/>\n",
       "\t<path id='gpPt2' stroke-width='0.222' stroke='currentColor' d='M-1,0 L1,0 M0,-1 L0,1 M-1,-1 L1,1 M-1,1 L1,-1'/>\n",
       "\t<rect id='gpPt3' stroke-width='0.222' stroke='currentColor' x='-1' y='-1' width='2' height='2'/>\n",
       "\t<rect id='gpPt4' stroke-width='0.222' stroke='currentColor' fill='currentColor' x='-1' y='-1' width='2' height='2'/>\n",
       "\t<circle id='gpPt5' stroke-width='0.222' stroke='currentColor' cx='0' cy='0' r='1'/>\n",
       "\t<use xlink:href='#gpPt5' id='gpPt6' fill='currentColor' stroke='none'/>\n",
       "\t<path id='gpPt7' stroke-width='0.222' stroke='currentColor' d='M0,-1.33 L-1.33,0.67 L1.33,0.67 z'/>\n",
       "\t<use xlink:href='#gpPt7' id='gpPt8' fill='currentColor' stroke='none'/>\n",
       "\t<use xlink:href='#gpPt7' id='gpPt9' stroke='currentColor' transform='rotate(180)'/>\n",
       "\t<use xlink:href='#gpPt9' id='gpPt10' fill='currentColor' stroke='none'/>\n",
       "\t<use xlink:href='#gpPt3' id='gpPt11' stroke='currentColor' transform='rotate(45)'/>\n",
       "\t<use xlink:href='#gpPt11' id='gpPt12' fill='currentColor' stroke='none'/>\n",
       "\t<path id='gpPt13' stroke-width='0.222' stroke='currentColor' d='M0,1.330 L1.265,0.411 L0.782,-1.067 L-0.782,-1.076 L-1.265,0.411 z'/>\n",
       "\t<use xlink:href='#gpPt13' id='gpPt14' fill='currentColor' stroke='none'/>\n",
       "\t<filter id='textbox' filterUnits='objectBoundingBox' x='0' y='0' height='1' width='1'>\n",
       "\t  <feFlood flood-color='#FFFFFF' flood-opacity='1' result='bgnd'/>\n",
       "\t  <feComposite in='SourceGraphic' in2='bgnd' operator='atop'/>\n",
       "\t</filter>\n",
       "\t<filter id='greybox' filterUnits='objectBoundingBox' x='0' y='0' height='1' width='1'>\n",
       "\t  <feFlood flood-color='lightgrey' flood-opacity='1' result='grey'/>\n",
       "\t  <feComposite in='SourceGraphic' in2='grey' operator='atop'/>\n",
       "\t</filter>\n",
       "</defs>\n",
       "<g fill=\"none\" color=\"#FFFFFF\" stroke=\"currentColor\" stroke-width=\"1.00\" stroke-linecap=\"butt\" stroke-linejoin=\"miter\">\n",
       "</g>\n",
       "<g fill=\"none\" color=\"black\" stroke=\"currentColor\" stroke-width=\"1.00\" stroke-linecap=\"butt\" stroke-linejoin=\"miter\">\n",
       "\t<path stroke='black'  d='M70.5,564.0 L79.5,564.0 M775.0,564.0 L766.0,564.0  '/>\t<g transform=\"translate(62.2,568.5)\" stroke=\"none\" fill=\"black\" font-family=\"Arial\" font-size=\"12.00\"  text-anchor=\"end\">\n",
       "\t\t<text><tspan font-family=\"Arial\" > 100</tspan></text>\n",
       "\t</g>\n",
       "</g>\n",
       "<g fill=\"none\" color=\"black\" stroke=\"currentColor\" stroke-width=\"1.00\" stroke-linecap=\"butt\" stroke-linejoin=\"miter\">\n",
       "\t<path stroke='black'  d='M70.5,481.6 L75.0,481.6 M775.0,481.6 L770.5,481.6 M70.5,433.4 L75.0,433.4 M775.0,433.4 L770.5,433.4\n",
       "\t\tM70.5,399.2 L75.0,399.2 M775.0,399.2 L770.5,399.2 M70.5,372.7 L75.0,372.7 M775.0,372.7 L770.5,372.7\n",
       "\t\tM70.5,351.1 L75.0,351.1 M775.0,351.1 L770.5,351.1 M70.5,332.7 L75.0,332.7 M775.0,332.7 L770.5,332.7\n",
       "\t\tM70.5,316.9 L75.0,316.9 M775.0,316.9 L770.5,316.9 M70.5,302.9 L75.0,302.9 M775.0,302.9 L770.5,302.9\n",
       "\t\tM70.5,290.3 L79.5,290.3 M775.0,290.3 L766.0,290.3  '/>\t<g transform=\"translate(62.2,294.8)\" stroke=\"none\" fill=\"black\" font-family=\"Arial\" font-size=\"12.00\"  text-anchor=\"end\">\n",
       "\t\t<text><tspan font-family=\"Arial\" > 1000</tspan></text>\n",
       "\t</g>\n",
       "</g>\n",
       "<g fill=\"none\" color=\"black\" stroke=\"currentColor\" stroke-width=\"1.00\" stroke-linecap=\"butt\" stroke-linejoin=\"miter\">\n",
       "\t<path stroke='black'  d='M70.5,208.0 L75.0,208.0 M775.0,208.0 L770.5,208.0 M70.5,159.8 L75.0,159.8 M775.0,159.8 L770.5,159.8\n",
       "\t\tM70.5,125.6 L75.0,125.6 M775.0,125.6 L770.5,125.6 M70.5,99.1 L75.0,99.1 M775.0,99.1 L770.5,99.1\n",
       "\t\tM70.5,77.4 L75.0,77.4 M775.0,77.4 L770.5,77.4 M70.5,59.1 L75.0,59.1 M775.0,59.1 L770.5,59.1\n",
       "\t\tM70.5,43.2 L75.0,43.2 M775.0,43.2 L770.5,43.2 M70.5,29.2 L75.0,29.2 M775.0,29.2 L770.5,29.2\n",
       "\t\tM70.5,16.7 L79.5,16.7 M775.0,16.7 L766.0,16.7  '/>\t<g transform=\"translate(62.2,21.2)\" stroke=\"none\" fill=\"black\" font-family=\"Arial\" font-size=\"12.00\"  text-anchor=\"end\">\n",
       "\t\t<text><tspan font-family=\"Arial\" > 10000</tspan></text>\n",
       "\t</g>\n",
       "</g>\n",
       "<g fill=\"none\" color=\"black\" stroke=\"currentColor\" stroke-width=\"1.00\" stroke-linecap=\"butt\" stroke-linejoin=\"miter\">\n",
       "\t<path stroke='black'  d='M70.5,564.0 L70.5,555.0 M70.5,16.7 L70.5,25.7  '/>\t<g transform=\"translate(70.5,586.5)\" stroke=\"none\" fill=\"black\" font-family=\"Arial\" font-size=\"12.00\"  text-anchor=\"middle\">\n",
       "\t\t<text><tspan font-family=\"Arial\" > 0.01</tspan></text>\n",
       "\t</g>\n",
       "</g>\n",
       "<g fill=\"none\" color=\"black\" stroke=\"currentColor\" stroke-width=\"1.00\" stroke-linecap=\"butt\" stroke-linejoin=\"miter\">\n",
       "\t<path stroke='black'  d='M176.5,564.0 L176.5,559.5 M176.5,16.7 L176.5,21.2 M238.6,564.0 L238.6,559.5 M238.6,16.7 L238.6,21.2\n",
       "\t\tM282.6,564.0 L282.6,559.5 M282.6,16.7 L282.6,21.2 M316.7,564.0 L316.7,559.5 M316.7,16.7 L316.7,21.2\n",
       "\t\tM344.6,564.0 L344.6,559.5 M344.6,16.7 L344.6,21.2 M368.2,564.0 L368.2,559.5 M368.2,16.7 L368.2,21.2\n",
       "\t\tM388.6,564.0 L388.6,559.5 M388.6,16.7 L388.6,21.2 M406.6,564.0 L406.6,559.5 M406.6,16.7 L406.6,21.2\n",
       "\t\tM422.8,564.0 L422.8,555.0 M422.8,16.7 L422.8,25.7  '/>\t<g transform=\"translate(422.8,586.5)\" stroke=\"none\" fill=\"black\" font-family=\"Arial\" font-size=\"12.00\"  text-anchor=\"middle\">\n",
       "\t\t<text><tspan font-family=\"Arial\" > 0.1</tspan></text>\n",
       "\t</g>\n",
       "</g>\n",
       "<g fill=\"none\" color=\"black\" stroke=\"currentColor\" stroke-width=\"1.00\" stroke-linecap=\"butt\" stroke-linejoin=\"miter\">\n",
       "\t<path stroke='black'  d='M528.8,564.0 L528.8,559.5 M528.8,16.7 L528.8,21.2 M590.8,564.0 L590.8,559.5 M590.8,16.7 L590.8,21.2\n",
       "\t\tM634.8,564.0 L634.8,559.5 M634.8,16.7 L634.8,21.2 M669.0,564.0 L669.0,559.5 M669.0,16.7 L669.0,21.2\n",
       "\t\tM696.9,564.0 L696.9,559.5 M696.9,16.7 L696.9,21.2 M720.4,564.0 L720.4,559.5 M720.4,16.7 L720.4,21.2\n",
       "\t\tM740.9,564.0 L740.9,559.5 M740.9,16.7 L740.9,21.2 M758.9,564.0 L758.9,559.5 M758.9,16.7 L758.9,21.2\n",
       "\t\tM775.0,564.0 L775.0,555.0 M775.0,16.7 L775.0,25.7  '/>\t<g transform=\"translate(775.0,586.5)\" stroke=\"none\" fill=\"black\" font-family=\"Arial\" font-size=\"12.00\"  text-anchor=\"middle\">\n",
       "\t\t<text><tspan font-family=\"Arial\" > 1</tspan></text>\n",
       "\t</g>\n",
       "</g>\n",
       "<g fill=\"none\" color=\"black\" stroke=\"currentColor\" stroke-width=\"1.00\" stroke-linecap=\"butt\" stroke-linejoin=\"miter\">\n",
       "</g>\n",
       "<g fill=\"none\" color=\"black\" stroke=\"currentColor\" stroke-width=\"1.00\" stroke-linecap=\"butt\" stroke-linejoin=\"miter\">\n",
       "\t<path stroke='black'  d='M70.5,16.7 L70.5,564.0 L775.0,564.0 L775.0,16.7 L70.5,16.7 Z  '/></g>\n",
       "<g fill=\"none\" color=\"black\" stroke=\"currentColor\" stroke-width=\"1.00\" stroke-linecap=\"butt\" stroke-linejoin=\"miter\">\n",
       "</g>\n",
       "\t<g id=\"gnuplot_plot_1\" ><title>ESDIRK64: nCells=16</title>\n",
       "<g fill=\"none\" color=\"black\" stroke=\"currentColor\" stroke-width=\"1.00\" stroke-linecap=\"butt\" stroke-linejoin=\"miter\">\n",
       "\t<g transform=\"translate(707.9,39.2)\" stroke=\"none\" fill=\"black\" font-family=\"Arial\" font-size=\"12.00\"  text-anchor=\"end\">\n",
       "\t\t<text><tspan font-family=\"Arial\" >ESDIRK</tspan><tspan font-family=\"Arial\"  font-size=\"9.6\" dy=\"3.60px\">6</tspan><tspan font-family=\"Arial\"  font-size=\"12.0\" dy=\"-3.60px\">4: nCells=16</tspan></text>\n",
       "\t</g>\n",
       "</g>\n",
       "<g fill=\"none\" color=\"black\" stroke=\"currentColor\" stroke-width=\"1.00\" stroke-linecap=\"butt\" stroke-linejoin=\"miter\">\n",
       "\t<path stroke='rgb(  0,   0, 255)'  d='M716.2,34.7 L758.4,34.7 M775.0,378.4 L669.0,378.4 L562.9,378.4 L456.9,378.4 L350.8,378.4  '/>\t<use xlink:href='#gpPt12' transform='translate(775.0,378.4) scale(3.60)' color='rgb(  0,   0, 255)'/>\n",
       "\t<use xlink:href='#gpPt12' transform='translate(669.0,378.4) scale(3.60)' color='rgb(  0,   0, 255)'/>\n",
       "\t<use xlink:href='#gpPt12' transform='translate(562.9,378.4) scale(3.60)' color='rgb(  0,   0, 255)'/>\n",
       "\t<use xlink:href='#gpPt12' transform='translate(456.9,378.4) scale(3.60)' color='rgb(  0,   0, 255)'/>\n",
       "\t<use xlink:href='#gpPt12' transform='translate(350.8,378.4) scale(3.60)' color='rgb(  0,   0, 255)'/>\n",
       "\t<use xlink:href='#gpPt12' transform='translate(737.3,34.7) scale(3.60)' color='rgb(  0,   0, 255)'/>\n",
       "</g>\n",
       "\t</g>\n",
       "\t<g id=\"gnuplot_plot_2\" ><title>ESDIRK32: nCells=16</title>\n",
       "<g fill=\"none\" color=\"black\" stroke=\"currentColor\" stroke-width=\"1.00\" stroke-linecap=\"butt\" stroke-linejoin=\"miter\">\n",
       "\t<g transform=\"translate(707.9,57.2)\" stroke=\"none\" fill=\"black\" font-family=\"Arial\" font-size=\"12.00\"  text-anchor=\"end\">\n",
       "\t\t<text><tspan font-family=\"Arial\" >ESDIRK</tspan><tspan font-family=\"Arial\"  font-size=\"9.6\" dy=\"3.60px\">3</tspan><tspan font-family=\"Arial\"  font-size=\"12.0\" dy=\"-3.60px\">2: nCells=16</tspan></text>\n",
       "\t</g>\n",
       "</g>\n",
       "<g fill=\"none\" color=\"black\" stroke=\"currentColor\" stroke-width=\"1.00\" stroke-linecap=\"butt\" stroke-linejoin=\"miter\">\n",
       "\t<path stroke='rgb(  0,   0, 255)'  d='M716.2,52.7 L758.4,52.7 M775.0,378.4 L669.0,378.4 L562.9,378.4 L456.9,378.4 L350.8,378.4  '/>\t<use xlink:href='#gpPt8' transform='translate(775.0,378.4) scale(3.60)' color='rgb(  0,   0, 255)'/>\n",
       "\t<use xlink:href='#gpPt8' transform='translate(669.0,378.4) scale(3.60)' color='rgb(  0,   0, 255)'/>\n",
       "\t<use xlink:href='#gpPt8' transform='translate(562.9,378.4) scale(3.60)' color='rgb(  0,   0, 255)'/>\n",
       "\t<use xlink:href='#gpPt8' transform='translate(456.9,378.4) scale(3.60)' color='rgb(  0,   0, 255)'/>\n",
       "\t<use xlink:href='#gpPt8' transform='translate(350.8,378.4) scale(3.60)' color='rgb(  0,   0, 255)'/>\n",
       "\t<use xlink:href='#gpPt8' transform='translate(737.3,52.7) scale(3.60)' color='rgb(  0,   0, 255)'/>\n",
       "</g>\n",
       "\t</g>\n",
       "\t<g id=\"gnuplot_plot_3\" ><title>ESDIRK64: nCells=64</title>\n",
       "<g fill=\"none\" color=\"black\" stroke=\"currentColor\" stroke-width=\"1.00\" stroke-linecap=\"butt\" stroke-linejoin=\"miter\">\n",
       "\t<g transform=\"translate(707.9,75.2)\" stroke=\"none\" fill=\"black\" font-family=\"Arial\" font-size=\"12.00\"  text-anchor=\"end\">\n",
       "\t\t<text><tspan font-family=\"Arial\" >ESDIRK</tspan><tspan font-family=\"Arial\"  font-size=\"9.6\" dy=\"3.60px\">6</tspan><tspan font-family=\"Arial\"  font-size=\"12.0\" dy=\"-3.60px\">4: nCells=64</tspan></text>\n",
       "\t</g>\n",
       "</g>\n",
       "<g fill=\"none\" color=\"black\" stroke=\"currentColor\" stroke-width=\"1.00\" stroke-linecap=\"butt\" stroke-linejoin=\"miter\">\n",
       "\t<path stroke='rgb(  0,   0,   0)'  d='M716.2,70.7 L758.4,70.7 M775.0,262.5 L669.0,262.5 L562.9,262.5 L456.9,262.5 L350.8,262.5  '/>\t<use xlink:href='#gpPt6' transform='translate(775.0,262.5) scale(3.60)' color='rgb(  0,   0,   0)'/>\n",
       "\t<use xlink:href='#gpPt6' transform='translate(669.0,262.5) scale(3.60)' color='rgb(  0,   0,   0)'/>\n",
       "\t<use xlink:href='#gpPt6' transform='translate(562.9,262.5) scale(3.60)' color='rgb(  0,   0,   0)'/>\n",
       "\t<use xlink:href='#gpPt6' transform='translate(456.9,262.5) scale(3.60)' color='rgb(  0,   0,   0)'/>\n",
       "\t<use xlink:href='#gpPt6' transform='translate(350.8,262.5) scale(3.60)' color='rgb(  0,   0,   0)'/>\n",
       "\t<use xlink:href='#gpPt6' transform='translate(737.3,70.7) scale(3.60)' color='rgb(  0,   0,   0)'/>\n",
       "</g>\n",
       "\t</g>\n",
       "\t<g id=\"gnuplot_plot_4\" ><title>ESDIRK32: nCells=64</title>\n",
       "<g fill=\"none\" color=\"black\" stroke=\"currentColor\" stroke-width=\"1.00\" stroke-linecap=\"butt\" stroke-linejoin=\"miter\">\n",
       "\t<g transform=\"translate(707.9,93.2)\" stroke=\"none\" fill=\"black\" font-family=\"Arial\" font-size=\"12.00\"  text-anchor=\"end\">\n",
       "\t\t<text><tspan font-family=\"Arial\" >ESDIRK</tspan><tspan font-family=\"Arial\"  font-size=\"9.6\" dy=\"3.60px\">3</tspan><tspan font-family=\"Arial\"  font-size=\"12.0\" dy=\"-3.60px\">2: nCells=64</tspan></text>\n",
       "\t</g>\n",
       "</g>\n",
       "<g fill=\"none\" color=\"black\" stroke=\"currentColor\" stroke-width=\"1.00\" stroke-linecap=\"butt\" stroke-linejoin=\"miter\">\n",
       "\t<path stroke='rgb(  0,   0,   0)'  d='M716.2,88.7 L758.4,88.7 M775.0,262.5 L669.0,262.5 L562.9,262.5 L456.9,262.5 L350.8,262.5  '/>\t<use xlink:href='#gpPt11' transform='translate(775.0,262.5) scale(3.60)' color='rgb(  0,   0,   0)'/>\n",
       "\t<use xlink:href='#gpPt11' transform='translate(669.0,262.5) scale(3.60)' color='rgb(  0,   0,   0)'/>\n",
       "\t<use xlink:href='#gpPt11' transform='translate(562.9,262.5) scale(3.60)' color='rgb(  0,   0,   0)'/>\n",
       "\t<use xlink:href='#gpPt11' transform='translate(456.9,262.5) scale(3.60)' color='rgb(  0,   0,   0)'/>\n",
       "\t<use xlink:href='#gpPt11' transform='translate(350.8,262.5) scale(3.60)' color='rgb(  0,   0,   0)'/>\n",
       "\t<use xlink:href='#gpPt11' transform='translate(737.3,88.7) scale(3.60)' color='rgb(  0,   0,   0)'/>\n",
       "</g>\n",
       "\t</g>\n",
       "\t<g id=\"gnuplot_plot_5\" ><title>ESDIRK64: nCells=256</title>\n",
       "<g fill=\"none\" color=\"black\" stroke=\"currentColor\" stroke-width=\"1.00\" stroke-linecap=\"butt\" stroke-linejoin=\"miter\">\n",
       "\t<g transform=\"translate(707.9,111.2)\" stroke=\"none\" fill=\"black\" font-family=\"Arial\" font-size=\"12.00\"  text-anchor=\"end\">\n",
       "\t\t<text><tspan font-family=\"Arial\" >ESDIRK</tspan><tspan font-family=\"Arial\"  font-size=\"9.6\" dy=\"3.60px\">6</tspan><tspan font-family=\"Arial\"  font-size=\"12.0\" dy=\"-3.60px\">4: nCells=256</tspan></text>\n",
       "\t</g>\n",
       "</g>\n",
       "<g fill=\"none\" color=\"black\" stroke=\"currentColor\" stroke-width=\"1.00\" stroke-linecap=\"butt\" stroke-linejoin=\"miter\">\n",
       "\t<path stroke='rgb(255,   0,   0)'  d='M716.2,106.7 L758.4,106.7 M775.0,141.8 L669.0,141.8 L562.9,141.8 L456.9,141.8 L350.8,141.8  '/>\t<use xlink:href='#gpPt7' transform='translate(775.0,141.8) scale(3.60)' color='rgb(255,   0,   0)'/>\n",
       "\t<use xlink:href='#gpPt7' transform='translate(669.0,141.8) scale(3.60)' color='rgb(255,   0,   0)'/>\n",
       "\t<use xlink:href='#gpPt7' transform='translate(562.9,141.8) scale(3.60)' color='rgb(255,   0,   0)'/>\n",
       "\t<use xlink:href='#gpPt7' transform='translate(456.9,141.8) scale(3.60)' color='rgb(255,   0,   0)'/>\n",
       "\t<use xlink:href='#gpPt7' transform='translate(350.8,141.8) scale(3.60)' color='rgb(255,   0,   0)'/>\n",
       "\t<use xlink:href='#gpPt7' transform='translate(737.3,106.7) scale(3.60)' color='rgb(255,   0,   0)'/>\n",
       "</g>\n",
       "\t</g>\n",
       "\t<g id=\"gnuplot_plot_6\" ><title>ESDIRK32: nCells=256</title>\n",
       "<g fill=\"none\" color=\"black\" stroke=\"currentColor\" stroke-width=\"1.00\" stroke-linecap=\"butt\" stroke-linejoin=\"miter\">\n",
       "\t<g transform=\"translate(707.9,129.2)\" stroke=\"none\" fill=\"black\" font-family=\"Arial\" font-size=\"12.00\"  text-anchor=\"end\">\n",
       "\t\t<text><tspan font-family=\"Arial\" >ESDIRK</tspan><tspan font-family=\"Arial\"  font-size=\"9.6\" dy=\"3.60px\">3</tspan><tspan font-family=\"Arial\"  font-size=\"12.0\" dy=\"-3.60px\">2: nCells=256</tspan></text>\n",
       "\t</g>\n",
       "</g>\n",
       "<g fill=\"none\" color=\"black\" stroke=\"currentColor\" stroke-width=\"1.00\" stroke-linecap=\"butt\" stroke-linejoin=\"miter\">\n",
       "\t<path stroke='rgb(255,   0,   0)'  d='M716.2,124.7 L758.4,124.7 M775.0,141.8 L669.0,141.8 L562.9,141.8 L456.9,141.8 L350.8,141.8  '/>\t<use xlink:href='#gpPt5' transform='translate(775.0,141.8) scale(3.60)' color='rgb(255,   0,   0)'/>\n",
       "\t<use xlink:href='#gpPt5' transform='translate(669.0,141.8) scale(3.60)' color='rgb(255,   0,   0)'/>\n",
       "\t<use xlink:href='#gpPt5' transform='translate(562.9,141.8) scale(3.60)' color='rgb(255,   0,   0)'/>\n",
       "\t<use xlink:href='#gpPt5' transform='translate(456.9,141.8) scale(3.60)' color='rgb(255,   0,   0)'/>\n",
       "\t<use xlink:href='#gpPt5' transform='translate(350.8,141.8) scale(3.60)' color='rgb(255,   0,   0)'/>\n",
       "\t<use xlink:href='#gpPt5' transform='translate(737.3,124.7) scale(3.60)' color='rgb(255,   0,   0)'/>\n",
       "</g>\n",
       "\t</g>\n",
       "<g fill=\"none\" color=\"#FFFFFF\" stroke=\"rgb(255,   0,   0)\" stroke-width=\"2.00\" stroke-linecap=\"butt\" stroke-linejoin=\"miter\">\n",
       "</g>\n",
       "<g fill=\"none\" color=\"black\" stroke=\"currentColor\" stroke-width=\"2.00\" stroke-linecap=\"butt\" stroke-linejoin=\"miter\">\n",
       "</g>\n",
       "<g fill=\"none\" color=\"black\" stroke=\"black\" stroke-width=\"1.00\" stroke-linecap=\"butt\" stroke-linejoin=\"miter\">\n",
       "</g>\n",
       "<g fill=\"none\" color=\"black\" stroke=\"currentColor\" stroke-width=\"1.00\" stroke-linecap=\"butt\" stroke-linejoin=\"miter\">\n",
       "\t<path stroke='black'  d='M70.5,16.7 L70.5,564.0 L775.0,564.0 L775.0,16.7 L70.5,16.7 Z  '/></g>\n",
       "<g fill=\"none\" color=\"black\" stroke=\"currentColor\" stroke-width=\"1.00\" stroke-linecap=\"butt\" stroke-linejoin=\"miter\">\n",
       "</g>\n",
       "</g>\n",
       "</svg>\n",
       "\n"
      ]
     },
     "metadata": {},
     "output_type": "display_data"
    }
   ],
   "source": [
    "var gp = new Gnuplot();\n",
    "double[] ts = dtS.Take(dtS.Length).Select(x => (double)x).ToArray();\n",
    "double[] ts1 = ts.Take(dtS.Length - 1).ToArray();\n",
    "for(int iRes=0;iRes<results.Count;iRes++){\n",
    "    var pair= results[iRes];\n",
    "    gp.PlotLogXLogY(ts, pair.Item2,  title:pair.Item1, format:GetFormat(iRes));\n",
    "}\n",
    "gp.PlotNow()"
   ]
  },
  {
   "cell_type": "code",
   "execution_count": 175,
   "metadata": {
    "dotnet_interactive": {
     "language": "csharp"
    },
    "polyglot_notebook": {
     "kernelName": "csharp"
    },
    "vscode": {
     "languageId": "polyglot-notebook"
    }
   },
   "outputs": [],
   "source": []
  }
 ],
 "metadata": {
  "kernelspec": {
   "display_name": ".NET (C#)",
   "language": "C#",
   "name": ".net-csharp"
  },
  "language_info": {
   "file_extension": ".cs",
   "mimetype": "text/x-csharp",
   "name": "C#",
   "pygments_lexer": "csharp",
   "version": "11.0"
  }
 },
 "nbformat": 4,
 "nbformat_minor": 4
}

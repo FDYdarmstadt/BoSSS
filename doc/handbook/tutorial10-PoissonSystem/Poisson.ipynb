{
 "cells": [
  {
   "cell_type": "markdown",
   "metadata": {
    "dotnet_interactive": {
     "language": "csharp"
    }
   },
   "source": [
    "# What's new?\n",
    "\n",
    "- implementation of a saddle point problem into *BoSSS* (e.g. the Poisson equation as a system)\n",
    "- central-difference-form and strong form\n",
    "- comparison of both formulations\n",
    "- advanced: algebraic reduction of the poisson problem\n",
    "\n",
    "# Prerequisites\n",
    "\n",
    "- implementation of numerical fluxes -> chapter *NumFlux* \n",
    "- spatial operator -> chapter *DifferentialOperator* \n",
    "\n",
    "\n",
    "# 1 Problem statement\n",
    "\n",
    "Within this exercise, we are going to investigate \n",
    "the discretization of a Poisson equation as a system.\n",
    "Obviously, it is possible to discretize the Poisson equation as a system of\n",
    "first-order-PDE's, introducing a vector field $\\vec{\\sigma}$:\n",
    "$$\n",
    "\\begin{align}\n",
    " \\vec{\\sigma}  + \\nabla u & = 0, & & \\text{ in } \\Omega\n",
    " \\\\\n",
    " \\operatorname{div}(\\vec{\\sigma}) &  = g_{\\Omega}, & & \\text{ in } \\Omega\n",
    " \\\\\n",
    "  u                                               & = g_D, & & \\text{ on } \\Gamma_D \\\\\n",
    "  - \\vec{\\sigma} \\cdot \\vec{n}_{\\partial \\Omega} & = g_N, & & \\text{ on } \\Gamma_N\n",
    "\\end{align}\n",
    "$$\n",
    "resp. in matrix-notation:\n",
    "$$\n",
    "\\begin{align*}\n",
    "  \\begin{bmatrix}\n",
    "    1 & \\nabla \\\\\n",
    "    \\operatorname{div} & 0 \\\\\n",
    "  \\end{bmatrix}\\cdot\n",
    "  \\begin{bmatrix}\n",
    "    \\vec{\\sigma}\\\\\n",
    "    u\n",
    "  \\end{bmatrix}=\n",
    "  \\begin{bmatrix}\n",
    "    0 \\\\\n",
    "    g_{\\Omega}\n",
    "  \\end{bmatrix}\n",
    "\\end{align*}\n",
    "$$\n",
    "This exercise, together with the previous one,\n",
    "will form the foundation for an incompressible Stokes- resp. Navier-Stokes solver. \n",
    "  \n",
    "# 2 Solution within the BoSSS framework"
   ]
  },
  {
   "cell_type": "code",
   "execution_count": null,
   "metadata": {
    "dotnet_interactive": {
     "language": "csharp"
    },
    "vscode": {
     "languageId": "dotnet-interactive.csharp"
    }
   },
   "outputs": [],
   "source": [
    "#r \"BoSSSpad.dll\"\n",
    "using System;\n",
    "using System.Collections.Generic;\n",
    "using System.Linq;\n",
    "using ilPSP;\n",
    "using ilPSP.Utils;\n",
    "using BoSSS.Platform;\n",
    "using BoSSS.Foundation;\n",
    "using BoSSS.Foundation.Grid;\n",
    "using BoSSS.Foundation.Grid.Classic;\n",
    "using BoSSS.Foundation.IO;\n",
    "using BoSSS.Solution;\n",
    "using BoSSS.Solution.Control;\n",
    "using BoSSS.Solution.GridImport;\n",
    "using BoSSS.Solution.Statistic;\n",
    "using BoSSS.Solution.Utils;\n",
    "using BoSSS.Solution.Gnuplot;\n",
    "using BoSSS.Application.BoSSSpad;\n",
    "using BoSSS.Application.XNSE_Solver;\n",
    "using static BoSSS.Application.BoSSSpad.BoSSSshell;\n",
    "Init();\n"
   ]
  },
  {
   "cell_type": "code",
   "execution_count": null,
   "metadata": {
    "dotnet_interactive": {
     "language": "csharp"
    },
    "vscode": {
     "languageId": "dotnet-interactive.csharp"
    }
   },
   "outputs": [],
   "source": [
    "using ilPSP.LinSolvers; \n",
    "using BoSSS.Solution.Tecplot; \n",
    "using ilPSP.Connectors.Matlab;"
   ]
  },
  {
   "cell_type": "markdown",
   "metadata": {
    "dotnet_interactive": {
     "language": "csharp"
    }
   },
   "source": [
    "\n",
    "# 2.1 Tests on the divergence\n",
    "\n",
    "## Common base-class for $\\text{div}$-implementations\n",
    "We are going to implement two different formulations of the \n",
    "divergence-operator for which going to show equivalence. \n",
    "We implement a common base-class for both formulations:"
   ]
  },
  {
   "cell_type": "code",
   "execution_count": null,
   "metadata": {
    "dotnet_interactive": {
     "language": "csharp"
    },
    "vscode": {
     "languageId": "dotnet-interactive.csharp"
    }
   },
   "outputs": [],
   "source": [
    "\n",
    "abstract public class BaseDivergence :  \n",
    "        BoSSS.Foundation.IEdgeForm, // edge integrals \n",
    "        BoSSS.Foundation.IVolumeForm     // volume integrals \n",
    "{ \n",
    "    /// We don't use parameters (e.g. variable viscosity, ...)\n",
    "    /// at this point: so the parameter list can be null, resp. empty:\n",
    "    public IList<string> ParameterOrdering {  \n",
    "        get { return null; }  \n",
    "    } \n",
    " \n",
    "    /// But we have a vector argument variable, \n",
    "    /// $ [ \\sigma_1, \\sigma_2 ] = \\vec{\\sigma} $\n",
    "    /// (our trial function):\n",
    "    public IList<String> ArgumentOrdering {  \n",
    "        get { return new string[] { \"sigma1\", \"sigma2\" }; }  \n",
    "    } \n",
    " \n",
    "    public TermActivationFlags VolTerms { \n",
    "        get { \n",
    "            return TermActivationFlags.AllOn; \n",
    "        } \n",
    "    } \n",
    " \n",
    "    public TermActivationFlags InnerEdgeTerms { \n",
    "        get { \n",
    "            return (TermActivationFlags.AllOn);  \n",
    "        } \n",
    "    } \n",
    " \n",
    "    public TermActivationFlags BoundaryEdgeTerms { \n",
    "       get { \n",
    "           return TermActivationFlags.AllOn; \n",
    "        } \n",
    "    } \n",
    " \n",
    "    /// The following functions cover the actual math.\n",
    "    /// For any discretization of the divergence-operator, we have to specify:\n",
    "    /// \\begin{itemize}\n",
    "    ///    \\item a volume integrand,\n",
    "    ///    \\item an edge integrand for inner edges, i.e. on $ \\Gamma_i$,\n",
    "    ///    \\item an edge integrand for boundary edges, \n",
    "    ///          i.e. on $\\partial \\Omega$.\n",
    "    /// \\end{itemize}\n",
    "    /// These functions are declared as \\code{abstract}, meaning that one has \n",
    "    /// to specify them in classes derived from \\code{BaseLaplace}.\n",
    " \n",
    "    abstract public double VolumeForm(ref CommonParamsVol cpv,  \n",
    "           double[] U, double[,] GradU,  \n",
    "           double V, double[] GradV);         \n",
    " \n",
    "    abstract public double InnerEdgeForm(ref CommonParams inp,  \n",
    "        double[] U_IN, double[] U_OT, double[,] GradU_IN, double[,] GradU_OT,  \n",
    "        double V_IN, double V_OT, double[] GradV_IN, double[] GradV_OT); \n",
    " \n",
    "    abstract public double BoundaryEdgeForm(ref CommonParamsBnd inp,  \n",
    "        double[] U_IN, double[,] GradU_IN, double V_IN, double[] GradV_OT); \n",
    "}"
   ]
  },
  {
   "cell_type": "code",
   "execution_count": null,
   "metadata": {
    "dotnet_interactive": {
     "language": "csharp"
    },
    "vscode": {
     "languageId": "dotnet-interactive.csharp"
    }
   },
   "outputs": [],
   "source": [
    "/// We are going to use both, Dirichlet- and Neumann-boundary conditions\n",
    "/// in this exercise; the function \\code{IsDirichletBndy} is used to\n",
    "/// specify the type of boundary condition at point \\code{X}:\n",
    "static class BndyMap {\n",
    "static public Func<double[],bool> IsDirichletBndy = delegate(double[] X) { \n",
    "    double x = X[0]; \n",
    "    double y = X[1]; \n",
    "    if(Math.Abs(x - (-1.0)) < 1.0e-8) \n",
    "        return true;     \n",
    "    if(Math.Abs(y - (-1.0)) < 1.0e-8) \n",
    "        return true;     \n",
    "    return false; \n",
    "};\n",
    "}"
   ]
  },
  {
   "cell_type": "markdown",
   "metadata": {
    "dotnet_interactive": {
     "language": "csharp"
    }
   },
   "source": [
    "## Formulation (i): Central-difference-form of $\\text{div}$\n",
    "The implementation of the central-difference form is as follows:"
   ]
  },
  {
   "cell_type": "code",
   "execution_count": null,
   "metadata": {
    "dotnet_interactive": {
     "language": "csharp"
    },
    "vscode": {
     "languageId": "dotnet-interactive.csharp"
    }
   },
   "outputs": [],
   "source": [
    "class Divergence_cendiff : BaseDivergence { \n",
    " \n",
    " \n",
    "    /// The volume form is equal to \n",
    "    /// $ -\\vec{\\sigma} \\cdot \\nabla v$:\n",
    "    override public double VolumeForm(ref CommonParamsVol cpv,  \n",
    "        double[] Sigma, double[,] GradSigma,  \n",
    "        double V, double[] GradV) { \n",
    "        double Acc = 0; \n",
    "        for(int d = 0; d < cpv.D; d++) { \n",
    "            Acc -= Sigma[d]*GradV[d]; \n",
    "        } \n",
    "        return Acc; \n",
    "    } \n",
    " \n",
    "    /// At the cell boundaries, we use a central-difference-flux,\n",
    "    /// i.e. $\\mean{\\vec{\\sigma}} \\cdot \\vec{n}_{\\Gamma} \\jump{v}$:\n",
    "    override public double InnerEdgeForm(ref CommonParams inp,  \n",
    "        double[] Sigma_IN, double[] Sigma_OT, double[,] GradSigma_IN, double[,] GradSigma_OT,  \n",
    "        double V_IN, double V_OT, double[] GradV_IN, double[] GradV_OT) { \n",
    " \n",
    "        double Acc = 0; \n",
    "        for(int d = 0; d < inp.D; d++) { \n",
    "            Acc += 0.5*(Sigma_IN[d] + Sigma_OT[d])*inp.Normal[d]*(V_IN - V_OT); \n",
    "        } \n",
    "        return Acc; \n",
    "    } \n",
    " \n",
    "    override public double BoundaryEdgeForm(ref CommonParamsBnd inp,  \n",
    "        double[] Sigma_IN, double[,] GradSigma_IN, double V_IN, double[] GradV_OT) { \n",
    " \n",
    "        double Acc = 0; \n",
    " \n",
    "        if(BndyMap.IsDirichletBndy(inp.X)) { \n",
    "            /// Dirichlet-boundary: by taking the inner value of $\\vec{\\sigma}$, \n",
    "            /// this is a free boundary with respect to $\\vec{\\sigma}$.\n",
    "            for(int d = 0; d < inp.D; d++) { \n",
    "                Acc += Sigma_IN[d]*inp.Normal[d]*V_IN; \n",
    "            } \n",
    "        } else { \n",
    "            /// Neumann-boundary\n",
    "            double gNeu = 0.0; \n",
    "            Acc += gNeu*V_IN; \n",
    "        } \n",
    "        return Acc; \n",
    "    } \n",
    "}"
   ]
  },
  {
   "cell_type": "markdown",
   "metadata": {},
   "source": [
    "## Formulation (ii): 'Strong' form of $\\text{div}$:\n",
    "Here, we use the form \n",
    "$$\n",
    "   b(\\vec{\\sigma},v) = \n",
    "   \\oint_{\\Gamma \\backslash \\Gamma_D} \n",
    "          M(v) J(\\vec{\\sigma}) \\cdot \\vec{n}_\\Gamma \n",
    "   dA \n",
    "   -\n",
    "   \\int_{\\Omega} \\text{div}(\\vec{\\sigma}) \\cdot v dV\n",
    "$$\n",
    "where M,J denote the mean and jump operator, respectively. This is actually the negative divergence, which will be more useful\n",
    "later on."
   ]
  },
  {
   "cell_type": "code",
   "execution_count": null,
   "metadata": {
    "dotnet_interactive": {
     "language": "csharp"
    },
    "vscode": {
     "languageId": "dotnet-interactive.csharp"
    }
   },
   "outputs": [],
   "source": [
    "\n",
    "class Divergence_strong : BaseDivergence { \n",
    " \n",
    "    /// We have to implement \\code{VolumeForm},\n",
    "    /// \\emph{InnerEdgeForm} and \\code{BoundaryEdgeForm}:\n",
    "    override public double VolumeForm(ref CommonParamsVol cpv,  \n",
    "        double[] Sigma, double[,] GradSigma,  \n",
    "        double V, double[] GradV) { \n",
    "        double Acc = 0; \n",
    "        for(int d = 0; d < cpv.D; d++) { \n",
    "            Acc -= GradSigma[d,d]*V; \n",
    "        } \n",
    "        return Acc; \n",
    "    } \n",
    " \n",
    "    override public double InnerEdgeForm(ref CommonParams inp,  \n",
    "        double[] Sigma_IN, double[] Sigma_OT, double[,] GradSigma_IN, double[,] GradSigma_OT,  \n",
    "        double V_IN, double V_OT, double[] GradV_IN, double[] GradV_OT) { \n",
    " \n",
    "        double Acc = 0; \n",
    "        for(int d = 0; d < inp.D; d++) { \n",
    "            Acc += 0.5*(V_IN + V_OT)*(Sigma_IN[d] - Sigma_OT[d])*inp.Normal[d]; \n",
    "        } \n",
    "        return Acc; \n",
    "    } \n",
    " \n",
    "    override public double BoundaryEdgeForm(ref CommonParamsBnd inp,  \n",
    "        double[] Sigma_IN, double[,] GradSigma_IN, double V_IN, double[] GradV_OT) { \n",
    " \n",
    "        double Acc = 0; \n",
    " \n",
    "        if(BndyMap.IsDirichletBndy(inp.X)) { \n",
    "            Acc = 0;\n",
    "        } else { \n",
    "            double gNeu = 0.0; \n",
    "            for(int d = 0; d < inp.D; d++) { \n",
    "                Acc += Sigma_IN[d]*inp.Normal[d]*V_IN; \n",
    "            } \n",
    "            Acc -= gNeu*V_IN; \n",
    "        } \n",
    "        return Acc; \n",
    "    } \n",
    "}"
   ]
  },
  {
   "cell_type": "markdown",
   "metadata": {
    "dotnet_interactive": {
     "language": "csharp"
    }
   },
   "source": [
    "\n",
    "# 3 Equality test \n",
    "We are going to test the equivalence of both formulationt \n",
    "on a 2D grid, using a DG basis of degree 1:"
   ]
  },
  {
   "cell_type": "code",
   "execution_count": null,
   "metadata": {
    "dotnet_interactive": {
     "language": "csharp"
    },
    "vscode": {
     "languageId": "dotnet-interactive.csharp"
    }
   },
   "outputs": [],
   "source": [
    "\n",
    " var grd2D               = Grid2D.Cartesian2DGrid(GenericBlas.Linspace(-1,1,6),                                                    GenericBlas.Linspace(-1,1,7)); \n",
    " var b                   = new Basis(grd2D, 1); \n",
    " SinglePhaseField sigma1 = new SinglePhaseField(b,\"sigma1\"); \n",
    " SinglePhaseField sigma2 = new SinglePhaseField(b,\"sigma2\"); \n",
    " CoordinateVector sigma  = new CoordinateVector(sigma1,sigma2); \n",
    " var TrialMapping        = sigma.Mapping; \n",
    " var TestMapping         = new UnsetteledCoordinateMapping(b);"
   ]
  },
  {
   "cell_type": "code",
   "execution_count": null,
   "metadata": {
    "dotnet_interactive": {
     "language": "csharp"
    },
    "vscode": {
     "languageId": "dotnet-interactive.csharp"
    }
   },
   "outputs": [],
   "source": [
    "    /// We create the matrix of the central-difference formulation:\n",
    " var OpDiv_cendiff = (new Divergence_cendiff()).Operator(); \n",
    " var MtxDiv_cendiff = OpDiv_cendiff.ComputeMatrix(TrialMapping,  \n",
    "                                                  null,  \n",
    "                                                  TestMapping);"
   ]
  },
  {
   "cell_type": "markdown",
   "metadata": {},
   "source": [
    "We create the matrix of the strong formulation and show that the matrices of both formulations are equal.\n",
    "\n",
    "We use the \\code{InfNorm(...)}-method to identify whether a matrix is (approximately) zero or not."
   ]
  },
  {
   "cell_type": "code",
   "execution_count": null,
   "metadata": {
    "dotnet_interactive": {
     "language": "csharp"
    },
    "vscode": {
     "languageId": "dotnet-interactive.csharp"
    }
   },
   "outputs": [],
   "source": [
    "\n",
    " var OpDiv_strong  = (new Divergence_strong()).Operator(); \n",
    " var MtxDiv_strong = OpDiv_strong.ComputeMatrix(TrialMapping, null, TestMapping); \n",
    " var TestP         = MtxDiv_cendiff + MtxDiv_strong; \n",
    " TestP.InfNorm();"
   ]
  },
  {
   "cell_type": "markdown",
   "metadata": {},
   "source": [
    "\n",
    "# 4 The gradient-operator\n",
    "\n",
    "For the variational formulation of the gradient operator, a vector-valued\n",
    "test-function is required. Unfourtunately, this is not supported by \n",
    "*BoSSS*. Therefore we have to discretize the gradent component-wise,\n",
    "i.e. as $\\partial_{x}$ and $\\partial_y$. \n",
    "\n",
    "A single derivative \n",
    "can obviously be expressed as a divergence by the\n",
    "identity $ \\partial_{x_d} = \\text{div}( \\vec{e}_d u ) $."
   ]
  },
  {
   "cell_type": "code",
   "execution_count": null,
   "metadata": {
    "dotnet_interactive": {
     "language": "csharp"
    },
    "vscode": {
     "languageId": "dotnet-interactive.csharp"
    }
   },
   "outputs": [],
   "source": [
    "\n",
    "class Gradient_d : \n",
    "        BoSSS.Foundation.IEdgeForm, // edge integrals \n",
    "        BoSSS.Foundation.IVolumeForm     // volume integrals \n",
    "{ \n",
    "    public Gradient_d(int _d) { \n",
    "        this.d = _d; \n",
    "    } \n",
    " \n",
    "    /// The component index of the gradient:\n",
    "    int d; \n",
    " \n",
    "    /// As ususal, we do not use parameters:\n",
    "    public IList<string> ParameterOrdering {  \n",
    "        get { return null; }  \n",
    "    } \n",
    " \n",
    "    /// We have one argument $u$:\n",
    "    public IList<String> ArgumentOrdering {  \n",
    "        get { return new string[] { \"u\" }; }  \n",
    "    } \n",
    " \n",
    "    public TermActivationFlags VolTerms { \n",
    "        get { return TermActivationFlags.AllOn; } \n",
    "    } \n",
    " \n",
    "    public TermActivationFlags InnerEdgeTerms { \n",
    "        get { return (TermActivationFlags.AllOn); } \n",
    "    } \n",
    " \n",
    "    public TermActivationFlags BoundaryEdgeTerms { \n",
    "       get { return TermActivationFlags.AllOn; } \n",
    "    } \n",
    " \n",
    "    /// Now, we implement \n",
    "    /// \\begin{itemize}\n",
    "    ///    \\item the volume form $u \\vec{e}_d \\cdot \\nabla v$\n",
    "    ///    \\item the boundary form \n",
    "    ///       $\\mean{u \\ \\vec{e}_d} \\cdot \\vec{n}_\\Gamma \\jump{v}$\n",
    "    /// \\end{itemize}\n",
    "    public double VolumeForm(ref CommonParamsVol cpv,  \n",
    "           double[] U, double[,] GradU,  \n",
    "           double V, double[] GradV) { \n",
    " \n",
    "        double Acc = 0; \n",
    "        Acc -= U[0]*GradV[this.d]; \n",
    "        return Acc; \n",
    "    }         \n",
    " \n",
    "    public double InnerEdgeForm(ref CommonParams inp,  \n",
    "        double[] U_IN, double[] U_OT, double[,] GradU_IN, double[,] GradU_OT,  \n",
    "        double V_IN, double V_OT, double[] GradV_IN, double[] GradV_OT) { \n",
    " \n",
    "        double Acc = 0; \n",
    "        Acc += 0.5*(U_IN[0] + U_OT[0])*inp.Normal[this.d]*(V_IN - V_OT); \n",
    "        return Acc;   \n",
    "     } \n",
    " \n",
    "    public double BoundaryEdgeForm(ref CommonParamsBnd inp,  \n",
    "        double[] U_IN, double[,] GradU_IN, double V_IN, double[] GradV_OT) { \n",
    " \n",
    "        double Acc = 0; \n",
    "        if(BndyMap.IsDirichletBndy(inp.X)) { \n",
    "            double u_Diri = 0.0; \n",
    "            Acc += u_Diri*inp.Normal[this.d]*V_IN; \n",
    "        } else { \n",
    "            Acc += U_IN[0]*inp.Normal[this.d]*V_IN; \n",
    "        } \n",
    "        return Acc;               \n",
    "    } \n",
    "}"
   ]
  },
  {
   "cell_type": "markdown",
   "metadata": {},
   "source": [
    "Now, we are ready to assemble the full $\\nabla$ operator\n",
    "as $\\left[ \\begin{array}{c} \\partial_x \\\\ \\partial_y \\end{array} \\right]$."
   ]
  },
  {
   "cell_type": "code",
   "execution_count": null,
   "metadata": {
    "dotnet_interactive": {
     "language": "csharp"
    },
    "vscode": {
     "languageId": "dotnet-interactive.csharp"
    }
   },
   "outputs": [],
   "source": [
    "\n",
    "var OpGrad = new DifferentialOperator(1,2,QuadOrderFunc.Linear(),\"u\",\"c1\",\"c2\"); \n",
    "OpGrad.EquationComponents[\"c1\"].Add(new Gradient_d(0)); \n",
    "OpGrad.EquationComponents[\"c2\"].Add(new Gradient_d(1)); \n",
    "OpGrad.Commit();"
   ]
  },
  {
   "cell_type": "markdown",
   "metadata": {},
   "source": [
    "As an additional test, we create the gradient-matrix and verify that \n",
    "its transpose \n",
    "is equal to the negative **MtxDiv**-matrix:"
   ]
  },
  {
   "cell_type": "code",
   "execution_count": null,
   "metadata": {
    "dotnet_interactive": {
     "language": "csharp"
    },
    "vscode": {
     "languageId": "dotnet-interactive.csharp"
    }
   },
   "outputs": [],
   "source": [
    "\n",
    "var MtxGrad = OpGrad.ComputeMatrix(TestMapping, null, TrialMapping); \n",
    "var Test2   = MtxGrad.Transpose() - MtxDiv_strong; \n",
    "Test2.InfNorm();"
   ]
  },
  {
   "cell_type": "markdown",
   "metadata": {
    "dotnet_interactive": {
     "language": "csharp"
    }
   },
   "source": [
    "\n",
    "# 5 The complete Poisson-system\n",
    "## Assembly of the system\n",
    "\n",
    "We also need the identity-matrix in the top-left corner \n",
    "of the Poisson-system:"
   ]
  },
  {
   "cell_type": "code",
   "execution_count": null,
   "metadata": {
    "dotnet_interactive": {
     "language": "csharp"
    },
    "vscode": {
     "languageId": "dotnet-interactive.csharp"
    }
   },
   "outputs": [
    {
     "name": "stderr",
     "output_type": "stream",
     "text": [
      "\r\n",
      "(10,19): warning CS0649: Field 'Identity.component' is never assigned to, and will always have its default value null\r\n",
      "\r\n"
     ]
    }
   ],
   "source": [
    "\n",
    "public class Identity :  \n",
    "        BoSSS.Foundation.IVolumeForm  \n",
    "{ \n",
    "    public IList<string> ParameterOrdering {  \n",
    "        get { return new string[0]; }  \n",
    "    } \n",
    " \n",
    "    public string component;  \n",
    " \n",
    "    public IList<String> ArgumentOrdering {  \n",
    "        get { return new string[] { component }; }  \n",
    "    } \n",
    " \n",
    "    public TermActivationFlags VolTerms { \n",
    "        get { \n",
    "            return TermActivationFlags.AllOn; \n",
    "        } \n",
    "    } \n",
    " \n",
    "    public double VolumeForm(ref CommonParamsVol cpv,  \n",
    "           double[] U, double[,] GradU,  \n",
    "           double V, double[] GradV) { \n",
    "        return U[0]*V;            \n",
    "    } \n",
    "}"
   ]
  },
  {
   "cell_type": "markdown",
   "metadata": {},
   "source": [
    "\n",
    "We are going to implement the linear Poisson-operator\n",
    "$$\n",
    "    \\left[ \\begin{array}{ccc}\n",
    "     1           &  0         & \\partial_x \\\\\n",
    "     0           &  1         & \\partial_y \\\\\n",
    "     -\\partial_x & -\\partial_y & 0 \n",
    "\\end{array} \\right]\n",
    "\\cdot \n",
    "\\left[ \\begin{array}{c} \\sigma_0 \\\\ \\sigma_1 \\\\ u \\end{array} \\right]\n",
    "= \n",
    "\\left[ \\begin{array}{c} c_0 \\\\ c_1 \\\\ c_2 \\end{array} \\right]\n",
    "$$\n",
    "The variables $c_0$, $c_1$ and $c_2$, which correspond to the \n",
    "test functions are also called co-domain variables of the operator.\n",
    "We are using the negative divergence, since this will lead to a \n",
    "symmetric matrix, instead of a anti-symmetric one.\n",
    "By doing so, we can e.g. use a Cholesky-factorization to determine \n",
    "whether the system is definite or not."
   ]
  },
  {
   "cell_type": "code",
   "execution_count": null,
   "metadata": {
    "dotnet_interactive": {
     "language": "csharp"
    },
    "vscode": {
     "languageId": "dotnet-interactive.csharp"
    }
   },
   "outputs": [],
   "source": [
    "\n",
    "var OpPoisson = new DifferentialOperator(3, 3,  \n",
    "                      QuadOrderFunc.Linear(), \n",
    "                      \"sigma1\", \"sigma2\", \"u\", // the domain-variables \n",
    "                      \"c1\", \"c2\", \"c3\"); //       the co-domain variables  \n",
    "/// Now we add all required components to \\code{OpPoisson}:\n",
    "OpPoisson.EquationComponents[\"c1\"].Add(new Gradient_d(0)); \n",
    "OpPoisson.EquationComponents[\"c1\"].Add(new Identity() { component = \"sigma1\" }); \n",
    "OpPoisson.EquationComponents[\"c2\"].Add(new Gradient_d(1)); \n",
    "OpPoisson.EquationComponents[\"c2\"].Add(new Identity() { component = \"sigma2\" }); \n",
    "OpPoisson.EquationComponents[\"c3\"].Add(new Divergence_strong()); \n",
    "OpPoisson.Commit();"
   ]
  },
  {
   "cell_type": "markdown",
   "metadata": {},
   "source": [
    "We create mappings $[\\sigma_1, \\sigma_2, u ]$:\n",
    "three different combinations of DG orders will be investigated:\n",
    "\n",
    "- equal order: the same polynomial degree for $u$ and $\\vec{\\sigma}$\n",
    "- mixed order: the degree of $u$ is lower than the degree \n",
    "      of $\\vec{\\sigma}$.\n",
    "- `strange' order: the degree of $u$ is higher than the degree of \n",
    "      $\\vec{\\sigma}$.\n"
   ]
  },
  {
   "cell_type": "code",
   "execution_count": null,
   "metadata": {
    "dotnet_interactive": {
     "language": "csharp"
    },
    "vscode": {
     "languageId": "dotnet-interactive.csharp"
    }
   },
   "outputs": [],
   "source": [
    "\n",
    "var b3         = new Basis(grd2D, 3); \n",
    "var b2         = new Basis(grd2D, 2); \n",
    "var b4         = new Basis(grd2D, 4); \n",
    "var EqualOrder = new UnsetteledCoordinateMapping(b3,b3,b3); \n",
    "var MixedOrder = new UnsetteledCoordinateMapping(b4,b4,b3); \n",
    "var StrngOrder = new UnsetteledCoordinateMapping(b2,b2,b3);"
   ]
  },
  {
   "cell_type": "code",
   "execution_count": null,
   "metadata": {
    "dotnet_interactive": {
     "language": "csharp"
    },
    "vscode": {
     "languageId": "dotnet-interactive.csharp"
    }
   },
   "outputs": [],
   "source": [
    "var MtxPoisson_Equal = OpPoisson.ComputeMatrix(EqualOrder, null, EqualOrder); \n",
    "var MtxPoisson_Mixed = OpPoisson.ComputeMatrix(MixedOrder, null, MixedOrder); \n",
    "var MtxPoisson_Strng = OpPoisson.ComputeMatrix(StrngOrder, null, StrngOrder);"
   ]
  },
  {
   "cell_type": "markdown",
   "metadata": {
    "dotnet_interactive": {
     "language": "csharp"
    }
   },
   "source": [
    "We show that the matrices are symmetric \n",
    "(use e.g. **SymmetryDeviation(...)**), but indefinite\n",
    "(use e.g. **IsDefinite(...)**)."
   ]
  },
  {
   "cell_type": "code",
   "execution_count": null,
   "metadata": {
    "dotnet_interactive": {
     "language": "csharp"
    },
    "vscode": {
     "languageId": "dotnet-interactive.csharp"
    }
   },
   "outputs": [
    {
     "data": {
      "text/html": [
       "<div class=\"dni-plaintext\">2.0920765120280294E-14</div>"
      ]
     },
     "execution_count": 38,
     "metadata": {},
     "output_type": "execute_result"
    }
   ],
   "source": [
    "double symDev_Equal = MtxPoisson_Equal.SymmetryDeviation();\n",
    "symDev_Equal"
   ]
  },
  {
   "cell_type": "code",
   "execution_count": null,
   "metadata": {
    "dotnet_interactive": {
     "language": "csharp"
    },
    "vscode": {
     "languageId": "dotnet-interactive.csharp"
    }
   },
   "outputs": [
    {
     "data": {
      "text/html": [
       "<div class=\"dni-plaintext\">3.755329380794592E-14</div>"
      ]
     },
     "execution_count": 39,
     "metadata": {},
     "output_type": "execute_result"
    }
   ],
   "source": [
    "double symDev_Mixed = MtxPoisson_Mixed.SymmetryDeviation();\n",
    "symDev_Mixed"
   ]
  },
  {
   "cell_type": "code",
   "execution_count": null,
   "metadata": {
    "dotnet_interactive": {
     "language": "csharp"
    },
    "vscode": {
     "languageId": "dotnet-interactive.csharp"
    }
   },
   "outputs": [
    {
     "data": {
      "text/html": [
       "<div class=\"dni-plaintext\">2.090688733247248E-14</div>"
      ]
     },
     "execution_count": 40,
     "metadata": {},
     "output_type": "execute_result"
    }
   ],
   "source": [
    "double symDev_Strng = MtxPoisson_Strng.SymmetryDeviation();\n",
    "symDev_Strng"
   ]
  },
  {
   "cell_type": "code",
   "execution_count": null,
   "metadata": {
    "dotnet_interactive": {
     "language": "csharp"
    },
    "vscode": {
     "languageId": "dotnet-interactive.csharp"
    }
   },
   "outputs": [
    {
     "data": {
      "text/html": [
       "<div class=\"dni-plaintext\">False</div>"
      ]
     },
     "execution_count": 41,
     "metadata": {},
     "output_type": "execute_result"
    }
   ],
   "source": [
    "MtxPoisson_Equal.IsDefinite()"
   ]
  },
  {
   "cell_type": "code",
   "execution_count": null,
   "metadata": {
    "dotnet_interactive": {
     "language": "csharp"
    },
    "vscode": {
     "languageId": "dotnet-interactive.csharp"
    }
   },
   "outputs": [
    {
     "data": {
      "text/html": [
       "<div class=\"dni-plaintext\">False</div>"
      ]
     },
     "execution_count": 42,
     "metadata": {},
     "output_type": "execute_result"
    }
   ],
   "source": [
    "MtxPoisson_Mixed.IsDefinite()"
   ]
  },
  {
   "cell_type": "code",
   "execution_count": null,
   "metadata": {
    "dotnet_interactive": {
     "language": "csharp"
    },
    "vscode": {
     "languageId": "dotnet-interactive.csharp"
    }
   },
   "outputs": [
    {
     "data": {
      "text/html": [
       "<div class=\"dni-plaintext\">False</div>"
      ]
     },
     "execution_count": 43,
     "metadata": {},
     "output_type": "execute_result"
    }
   ],
   "source": [
    "MtxPoisson_Strng.IsDefinite()"
   ]
  },
  {
   "cell_type": "code",
   "execution_count": null,
   "metadata": {
    "dotnet_interactive": {
     "language": "csharp"
    },
    "vscode": {
     "languageId": "dotnet-interactive.csharp"
    }
   },
   "outputs": [],
   "source": [
    "/// BoSSScmdSilent BoSSSexeSilent\n",
    "NUnit.Framework.Assert.LessOrEqual(symDev_Equal, 1.0e-8);\n",
    "NUnit.Framework.Assert.LessOrEqual(symDev_Mixed, 1.0e-8);\n",
    "NUnit.Framework.Assert.LessOrEqual(symDev_Strng, 1.0e-8);"
   ]
  },
  {
   "cell_type": "markdown",
   "metadata": {},
   "source": [
    "# 6 Advanced topics"
   ]
  },
  {
   "cell_type": "code",
   "execution_count": null,
   "metadata": {
    "dotnet_interactive": {
     "language": "csharp"
    },
    "vscode": {
     "languageId": "dotnet-interactive.csharp"
    }
   },
   "outputs": [],
   "source": []
  },
  {
   "cell_type": "markdown",
   "metadata": {
    "dotnet_interactive": {
     "language": "csharp"
    }
   },
   "source": [
    "## Algebraic reduction\n",
    "\n",
    "Since the top-left corner of our matrix \n",
    "$$\n",
    "\\left[ \\begin{array}{cc}\n",
    "1   & B \\\\\n",
    "B^T & 0 \n",
    "\\end{array} \\right]\n",
    "$$\n",
    "is actually very easy to eliminate the variable $\\vec{\\sigma}$\n",
    "from our system algebraically. \n",
    "The matrix of the reduces system is obviously $B^T \\cdot B$."
   ]
  },
  {
   "cell_type": "markdown",
   "metadata": {},
   "source": [
    "# Extraction of sub-matrices and elimination\n",
    "From the mapping, we can actually obtain index-lists for each variable,\n",
    "which can then be used to extract sub-matrices from \n",
    "**MtxPoisson\\_Equal**, **MtxPoisson\\_Mixed**, resp. \n",
    "**MtxPoisson\\_Strng**."
   ]
  },
  {
   "cell_type": "code",
   "execution_count": null,
   "metadata": {
    "dotnet_interactive": {
     "language": "csharp"
    },
    "vscode": {
     "languageId": "dotnet-interactive.csharp"
    }
   },
   "outputs": [],
   "source": [
    "\n",
    "long[] SigmaIdx_Equal = EqualOrder.GetSubvectorIndices(true, 0,1); \n",
    "long[] uIdx_Equal     = EqualOrder.GetSubvectorIndices(true, 2); \n",
    "long[] SigmaIdx_Mixed = MixedOrder.GetSubvectorIndices(true, 0,1); \n",
    "long[] uIdx_Mixed     = MixedOrder.GetSubvectorIndices(true, 2); \n",
    "long[] SigmaIdx_Strng = StrngOrder.GetSubvectorIndices(true, 0,1); \n",
    "long[] uIdx_Strng     = StrngOrder.GetSubvectorIndices(true, 2);"
   ]
  },
  {
   "cell_type": "markdown",
   "metadata": {},
   "source": [
    "The extraction of the sub-matrix and the elimination, for the equal order: "
   ]
  },
  {
   "cell_type": "code",
   "execution_count": null,
   "metadata": {
    "dotnet_interactive": {
     "language": "csharp"
    },
    "vscode": {
     "languageId": "dotnet-interactive.csharp"
    }
   },
   "outputs": [],
   "source": [
    "\n",
    "var MtxPoissonRed_Equal =  \n",
    "      MtxPoisson_Equal.GetSubMatrix(uIdx_Equal, SigmaIdx_Equal)  // -Divergence \n",
    "    * MtxPoisson_Equal.GetSubMatrix(SigmaIdx_Equal, uIdx_Equal); // Gradient"
   ]
  },
  {
   "cell_type": "markdown",
   "metadata": {
    "dotnet_interactive": {
     "language": "csharp"
    }
   },
   "source": [
    "Finally, we also\n",
    "create the reduced system for the mixed and the strange \n",
    "order, test for the definiteness of the reduced system.\n",
    "\n",
    "Equal and mixed order are positive definite, while the strange order\n",
    "is indefinite - a clear indication that something ist wrong:"
   ]
  },
  {
   "cell_type": "code",
   "execution_count": null,
   "metadata": {
    "dotnet_interactive": {
     "language": "csharp"
    },
    "vscode": {
     "languageId": "dotnet-interactive.csharp"
    }
   },
   "outputs": [],
   "source": [
    "var MtxPoissonRed_Mixed =  \n",
    "      MtxPoisson_Mixed.GetSubMatrix(uIdx_Mixed, SigmaIdx_Mixed)  // -Divergence \n",
    "    * MtxPoisson_Mixed.GetSubMatrix(SigmaIdx_Mixed, uIdx_Mixed); // Gradient   \n",
    "var MtxPoissonRed_Strng =  \n",
    "      MtxPoisson_Strng.GetSubMatrix(uIdx_Strng, SigmaIdx_Strng)  // -Divergence \n",
    "    * MtxPoisson_Strng.GetSubMatrix(SigmaIdx_Strng, uIdx_Strng); // Gradient"
   ]
  },
  {
   "cell_type": "code",
   "execution_count": null,
   "metadata": {
    "dotnet_interactive": {
     "language": "csharp"
    },
    "vscode": {
     "languageId": "dotnet-interactive.csharp"
    }
   },
   "outputs": [
    {
     "data": {
      "text/html": [
       "<div class=\"dni-plaintext\">True</div>"
      ]
     },
     "execution_count": 52,
     "metadata": {},
     "output_type": "execute_result"
    }
   ],
   "source": [
    "bool isdef_red_Equal = MtxPoissonRed_Equal.IsDefinite();\n",
    "isdef_red_Equal"
   ]
  },
  {
   "cell_type": "code",
   "execution_count": null,
   "metadata": {
    "dotnet_interactive": {
     "language": "csharp"
    },
    "vscode": {
     "languageId": "dotnet-interactive.csharp"
    }
   },
   "outputs": [
    {
     "data": {
      "text/html": [
       "<div class=\"dni-plaintext\">True</div>"
      ]
     },
     "execution_count": 53,
     "metadata": {},
     "output_type": "execute_result"
    }
   ],
   "source": [
    "bool isdef_red_Mixed = MtxPoissonRed_Mixed.IsDefinite();\n",
    "isdef_red_Mixed"
   ]
  },
  {
   "cell_type": "code",
   "execution_count": null,
   "metadata": {
    "dotnet_interactive": {
     "language": "csharp"
    },
    "vscode": {
     "languageId": "dotnet-interactive.csharp"
    }
   },
   "outputs": [
    {
     "data": {
      "text/html": [
       "<div class=\"dni-plaintext\">False</div>"
      ]
     },
     "execution_count": 54,
     "metadata": {},
     "output_type": "execute_result"
    }
   ],
   "source": [
    "bool isdef_red_Strng = MtxPoissonRed_Strng.IsDefinite();\n",
    "isdef_red_Strng"
   ]
  },
  {
   "cell_type": "code",
   "execution_count": null,
   "metadata": {
    "dotnet_interactive": {
     "language": "csharp"
    },
    "vscode": {
     "languageId": "dotnet-interactive.csharp"
    }
   },
   "outputs": [],
   "source": [
    "/// BoSSScmdSilent BoSSSexeSilent\n",
    "NUnit.Framework.Assert.IsTrue(isdef_red_Equal);\n",
    "NUnit.Framework.Assert.IsTrue(isdef_red_Mixed);\n",
    "NUnit.Framework.Assert.IsFalse(isdef_red_Strng);"
   ]
  },
  {
   "cell_type": "markdown",
   "metadata": {
    "dotnet_interactive": {
     "language": "csharp"
    }
   },
   "source": [
    "We compute the condition number of all three matrices; we observe that\n",
    "the mixed as well as the equal-order discretization result give rather \n",
    "moderate condition numbers. \n",
    "\n",
    "For the strange orders, the condition number\n",
    "of the system is far to high:"
   ]
  },
  {
   "cell_type": "code",
   "execution_count": null,
   "metadata": {
    "dotnet_interactive": {
     "language": "csharp"
    },
    "vscode": {
     "languageId": "dotnet-interactive.csharp"
    }
   },
   "outputs": [
    {
     "data": {
      "text/html": [
       "<div class=\"dni-plaintext\">7016.828053419778</div>"
      ]
     },
     "execution_count": 57,
     "metadata": {},
     "output_type": "execute_result"
    }
   ],
   "source": [
    "double condest_Mixed = MtxPoissonRed_Mixed.condest();\n",
    "condest_Mixed"
   ]
  },
  {
   "cell_type": "code",
   "execution_count": null,
   "metadata": {
    "dotnet_interactive": {
     "language": "csharp"
    },
    "vscode": {
     "languageId": "dotnet-interactive.csharp"
    }
   },
   "outputs": [
    {
     "data": {
      "text/html": [
       "<div class=\"dni-plaintext\">3577.101349907232</div>"
      ]
     },
     "execution_count": 58,
     "metadata": {},
     "output_type": "execute_result"
    }
   ],
   "source": [
    "double condest_Equal = MtxPoissonRed_Equal.condest();\n",
    "condest_Equal"
   ]
  },
  {
   "cell_type": "code",
   "execution_count": null,
   "metadata": {
    "dotnet_interactive": {
     "language": "csharp"
    },
    "vscode": {
     "languageId": "dotnet-interactive.csharp"
    }
   },
   "outputs": [
    {
     "data": {
      "text/html": [
       "<div class=\"dni-plaintext\">6.159871811473017E+19</div>"
      ]
     },
     "execution_count": 59,
     "metadata": {},
     "output_type": "execute_result"
    }
   ],
   "source": [
    "double condest_Strng = MtxPoissonRed_Strng.condest();\n",
    "condest_Strng"
   ]
  },
  {
   "cell_type": "code",
   "execution_count": null,
   "metadata": {
    "dotnet_interactive": {
     "language": "csharp"
    },
    "vscode": {
     "languageId": "dotnet-interactive.csharp"
    }
   },
   "outputs": [],
   "source": [
    "/// BoSSScmdSilent BoSSSexeSilent\n",
    "NUnit.Framework.Assert.LessOrEqual(condest_Mixed, 1e5);\n",
    "NUnit.Framework.Assert.LessOrEqual(condest_Equal, 1e5);\n",
    "NUnit.Framework.Assert.Greater(condest_Strng, 1e10);"
   ]
  },
  {
   "cell_type": "code",
   "execution_count": null,
   "metadata": {
    "dotnet_interactive": {
     "language": "csharp"
    },
    "vscode": {
     "languageId": "dotnet-interactive.csharp"
    }
   },
   "outputs": [],
   "source": []
  }
 ],
 "metadata": {
  "kernelspec": {
   "display_name": ".NET (C#)",
   "language": "C#",
   "name": ".net-csharp"
  },
  "language_info": {
   "file_extension": ".cs",
   "mimetype": "text/x-csharp",
   "name": "C#",
   "pygments_lexer": "csharp",
   "version": "8.0"
  }
 },
 "nbformat": 4,
 "nbformat_minor": 4
}

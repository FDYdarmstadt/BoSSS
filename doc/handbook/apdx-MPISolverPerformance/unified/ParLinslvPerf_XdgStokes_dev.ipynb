{
 "cells": [
  {
   "cell_type": "markdown",
   "metadata": {},
   "source": [
    "# Linear Solver Performance: XDG Stokes, MPI-parallel (Development at $ J=13824 $)\n",
    "\n",
    "\n",
    "\n",
    "### Part 1, Benchmark Setup and Execution"
   ]
  },
  {
   "cell_type": "code",
   "execution_count": 1,
   "metadata": {
    "dotnet_interactive": {
     "language": "csharp"
    },
    "polyglot_notebook": {
     "kernelName": "csharp"
    }
   },
   "outputs": [
    {
     "name": "stdout",
     "output_type": "stream",
     "text": [
      "Execution Date/time is 28/03/2023 10:13:17\r\n"
     ]
    }
   ],
   "source": [
    "Console.WriteLine(\"Execution Date/time is \" + DateTime.Now);"
   ]
  },
  {
   "cell_type": "code",
   "execution_count": 2,
   "metadata": {
    "dotnet_interactive": {
     "language": "csharp"
    },
    "polyglot_notebook": {
     "kernelName": "csharp"
    }
   },
   "outputs": [],
   "source": [
    "//#r \"c:/Users/kummer/Documents/BoSSS-kummer/public/src/L4-application/BoSSSpad/bin/Release/net6.0/BoSSSpad.dll\"\n",
    "//#r \"c:/Users/kummer/Documents/BoSSS-kummer/public/src/L4-application/BoSSSpad/bin/Debug/net6.0/BoSSSpad.dll\"\n",
    "#r \"BoSSSpad.dll\"\n",
    "using System;\n",
    "using System.Collections.Generic;\n",
    "using System.Linq;\n",
    "using ilPSP;\n",
    "using ilPSP.Utils;\n",
    "using BoSSS.Platform;\n",
    "using BoSSS.Platform.Utils.Geom;\n",
    "using BoSSS.Platform.LinAlg;\n",
    "using BoSSS.Foundation;\n",
    "using BoSSS.Foundation.XDG;\n",
    "using BoSSS.Foundation.Grid;\n",
    "using BoSSS.Foundation.Grid.Classic;\n",
    "using BoSSS.Foundation.Grid.RefElements;\n",
    "using BoSSS.Foundation.IO;\n",
    "using BoSSS.Solution;\n",
    "using BoSSS.Solution.Control;\n",
    "using BoSSS.Solution.GridImport;\n",
    "using BoSSS.Solution.Statistic;\n",
    "using BoSSS.Solution.Utils;\n",
    "using BoSSS.Solution.AdvancedSolvers;\n",
    "using BoSSS.Solution.Gnuplot;\n",
    "using BoSSS.Application.BoSSSpad;\n",
    "using BoSSS.Application.XNSE_Solver;\n",
    "using BoSSS.Application.GridGen;\n",
    "using static BoSSS.Application.BoSSSpad.BoSSSshell;\n",
    "Init();"
   ]
  },
  {
   "cell_type": "code",
   "execution_count": 3,
   "metadata": {
    "dotnet_interactive": {
     "language": "csharp"
    }
   },
   "outputs": [
    {
     "data": {
      "text/plain": []
     },
     "metadata": {},
     "output_type": "display_data"
    }
   ],
   "source": [
    "string PROJECT_NAME = \"LinslvPerfPar-XdgSokesJ13824\";//System.Environment.GetEnvironmentVariable(\"LinslvPerfPar\") ?? \"LinslvPerfPar\"; // this allows to modify the project name for testing purposes\n",
    "wmg.Init(PROJECT_NAME);\n",
    "wmg.SetNameBasedSessionJobControlCorrelation();\n",
    "wmg.AllJobs"
   ]
  },
  {
   "cell_type": "code",
   "execution_count": 4,
   "metadata": {
    "dotnet_interactive": {
     "language": "csharp"
    },
    "polyglot_notebook": {
     "kernelName": "csharp"
    }
   },
   "outputs": [],
   "source": [
    "//wmg.ResetProject(deleteSessions:true);"
   ]
  },
  {
   "cell_type": "code",
   "execution_count": 5,
   "metadata": {
    "dotnet_interactive": {
     "language": "csharp"
    },
    "polyglot_notebook": {
     "kernelName": "csharp"
    }
   },
   "outputs": [
    {
     "data": {
      "text/html": [
       "<table><thead><tr><th><i>index</i></th><th><i>type</i></th><th>value</th></tr></thead><tbody><tr><td>0</td><td>BoSSS.Application.BoSSSpad.MiniBatchProcessorClient</td><td>MiniBatchProcessor client @C:\\Users\\flori\\AppData\\Local\\BoSSS-LocalJobs</td></tr><tr><td>1</td><td>BoSSS.Application.BoSSSpad.SlurmClient</td><td>SlurmClient Lb2-specialPrj : fk69umer@lcluster16.hrz.tu-darmstadt.de, Slurm account: special00006</td></tr><tr><td>2</td><td>BoSSS.Application.BoSSSpad.SlurmClient</td><td>SlurmClient Lb2-specialPrj-Jenkins : fk69umer@lcluster16.hrz.tu-darmstadt.de, Slurm account: special00006</td></tr></tbody></table><style>\r\n",
       ".dni-code-hint {\r\n",
       "    font-style: italic;\r\n",
       "    overflow: hidden;\r\n",
       "    white-space: nowrap;\r\n",
       "}\r\n",
       ".dni-treeview {\r\n",
       "    white-space: nowrap;\r\n",
       "}\r\n",
       ".dni-treeview td {\r\n",
       "    vertical-align: top;\r\n",
       "    text-align: start;\r\n",
       "}\r\n",
       "details.dni-treeview {\r\n",
       "    padding-left: 1em;\r\n",
       "}\r\n",
       "table td {\r\n",
       "    text-align: start;\r\n",
       "}\r\n",
       "table tr { \r\n",
       "    vertical-align: top; \r\n",
       "    margin: 0em 0px;\r\n",
       "}\r\n",
       "table tr td pre \r\n",
       "{ \r\n",
       "    vertical-align: top !important; \r\n",
       "    margin: 0em 0px !important;\r\n",
       "} \r\n",
       "table th {\r\n",
       "    text-align: start;\r\n",
       "}\r\n",
       "</style>"
      ]
     },
     "metadata": {},
     "output_type": "display_data"
    }
   ],
   "source": [
    "ExecutionQueues"
   ]
  },
  {
   "cell_type": "code",
   "execution_count": 6,
   "metadata": {
    "dotnet_interactive": {
     "language": "csharp"
    },
    "polyglot_notebook": {
     "kernelName": "csharp"
    }
   },
   "outputs": [
    {
     "data": {
      "text/html": [
       "<details open=\"open\" class=\"dni-treeview\"><summary><span class=\"dni-code-hint\"><code>MiniBatchProcessor client @C:\\Users\\flori\\AppData\\Local\\BoSSS-LocalJobs</code></span></summary><div><table><thead><tr></tr></thead><tbody><tr><td>DeploymentBaseDirectory</td><td>C:\\Users\\flori\\AppData\\Local\\BoSSS-LocalJobs</td></tr><tr><td>DeployRuntime</td><td>False</td></tr><tr><td>RuntimeLocation</td><td>win\\amd64</td></tr><tr><td>Name</td><td><div class=\"dni-plaintext\"><pre>&lt;null&gt;</pre></div></td></tr><tr><td>DotnetRuntime</td><td>dotnet</td></tr><tr><td>BatchInstructionDir</td><td><div class=\"dni-plaintext\"><pre>&lt;null&gt;</pre></div></td></tr><tr><td>AllowedDatabasesPaths</td><td>[ C:\\Users\\flori, C:\\ ]</td></tr></tbody></table></div></details><style>\r\n",
       ".dni-code-hint {\r\n",
       "    font-style: italic;\r\n",
       "    overflow: hidden;\r\n",
       "    white-space: nowrap;\r\n",
       "}\r\n",
       ".dni-treeview {\r\n",
       "    white-space: nowrap;\r\n",
       "}\r\n",
       ".dni-treeview td {\r\n",
       "    vertical-align: top;\r\n",
       "    text-align: start;\r\n",
       "}\r\n",
       "details.dni-treeview {\r\n",
       "    padding-left: 1em;\r\n",
       "}\r\n",
       "table td {\r\n",
       "    text-align: start;\r\n",
       "}\r\n",
       "table tr { \r\n",
       "    vertical-align: top; \r\n",
       "    margin: 0em 0px;\r\n",
       "}\r\n",
       "table tr td pre \r\n",
       "{ \r\n",
       "    vertical-align: top !important; \r\n",
       "    margin: 0em 0px !important;\r\n",
       "} \r\n",
       "table th {\r\n",
       "    text-align: start;\r\n",
       "}\r\n",
       "</style>"
      ]
     },
     "metadata": {},
     "output_type": "display_data"
    }
   ],
   "source": [
    "GetDefaultQueue()"
   ]
  },
  {
   "cell_type": "code",
   "execution_count": 7,
   "metadata": {
    "dotnet_interactive": {
     "language": "csharp"
    },
    "polyglot_notebook": {
     "kernelName": "csharp"
    }
   },
   "outputs": [],
   "source": [
    " //Lb2-specialPrj \n",
    " "
   ]
  },
  {
   "cell_type": "markdown",
   "metadata": {},
   "source": [
    "## Utility definitions"
   ]
  },
  {
   "cell_type": "code",
   "execution_count": 8,
   "metadata": {
    "dotnet_interactive": {
     "language": "csharp"
    }
   },
   "outputs": [],
   "source": [
    "static class Utils {\n",
    "    // DOF per cell in 3D for one variable\n",
    "    public static int Np(int p) {\n",
    "        return (p*p*p + 6*p*p + 11*p + 6)/6;\n",
    "    }    \n",
    "    \n",
    "    /*\n",
    "    //Non-equidistant nodes\n",
    "    public static double[] SinLinSpacing(double l, double r, double a, int n) {\n",
    "        double[] linnodes = GenericBlas.Linspace(-Math.PI * 0.5, Math.PI * 0.5, n);\n",
    "        double[] linnodes2 = GenericBlas.Linspace(-1, 1, n);\n",
    "        double[] nodes = new double[n];\n",
    "\n",
    "        for (int i = 0; i < n; i++)\n",
    "            //nodes[i] = linnodes2[i] * (1 - a) + (1.0 - Math.Sin(linnodes[i])) * a;\n",
    "            nodes[i] = linnodes2[i] * (1 - a) + Math.Sin(linnodes[i])*a;\n",
    "\n",
    "        for (int i = 0; i < n; i++)\n",
    "            nodes[i] = nodes[i] * (r - l)*0.5 + l;\n",
    "        return nodes;\n",
    "    }\n",
    "    */\n",
    "}"
   ]
  },
  {
   "cell_type": "markdown",
   "metadata": {},
   "source": [
    "## Init grids and save to database"
   ]
  },
  {
   "cell_type": "markdown",
   "metadata": {},
   "source": [
    "Note: The dimension of the domain $(-1,1)^3$ are assumed to be **centimeters**!\n",
    "In this benchmark, realistic physical values are used, i.e. densities and viscosities of \n",
    "- water for Phase A (inside the droplet)\n",
    "- air for Phase B (surounding)\n",
    "The droplet is assumed to be in the millimeter range; therefore, all lenght-, area-, and volume-related properties \n",
    "must also be set in centimeters, e.g. the density of water is $10^{-3} \\text{kg}/\\text{cm}^3$."
   ]
  },
  {
   "cell_type": "code",
   "execution_count": 9,
   "metadata": {
    "dotnet_interactive": {
     "language": "csharp"
    },
    "polyglot_notebook": {
     "kernelName": "csharp"
    }
   },
   "outputs": [
    {
     "name": "stdout",
     "output_type": "stream",
     "text": [
      "Opening existing database '\\\\wsl.localhost\\Ubuntu-22.04\\home\\florian\\lichtb-scratch\\bosss_databases\\LinslvPerfPar-XdgSokesJ13824'.\n",
      "Opening existing database '\\\\wsl.localhost\\Ubuntu-22.04\\home\\florian\\lichtb-scratch\\jenkins\\databases\\LinslvPerfPar-XdgSokesJ13824'.\n"
     ]
    },
    {
     "data": {
      "text/plain": [
       "#0: { Guid = 3df53a86-ff4f-4209-aede-aa0faa32d665; Name = LinslvPerfPar-XdgSokesJ13824-XdgStokes_J262144; Cell Count = 262144; Dim = 3 }\r\n",
       "#1: { Guid = 8fe00748-8f30-4bfd-b95d-30987af9da21; Name = LinslvPerfPar-XdgSokesJ13824-XdgStokes_J110592; Cell Count = 110592; Dim = 3 }\r\n",
       "#2: { Guid = b462ed9f-4e54-419a-8beb-7ae72e92aa5d; Name = LinslvPerfPar-XdgSokesJ13824-XdgStokes_J32768; Cell Count = 32768; Dim = 3 }\r\n",
       "#3: { Guid = 5efbd710-dd9b-48a6-a840-eca0254cd8ad; Name = LinslvPerfPar-XdgSokesJ13824-XdgStokes_J13824; Cell Count = 13824; Dim = 3 }\r\n",
       "#4: { Guid = 5dbd78b7-f710-48ef-8d78-d31129978d45; Name = LinslvPerfPar-XdgSokesJ13824-XdgStokes_J4096; Cell Count = 4096; Dim = 3 }\r\n",
       "#5: { Guid = 5555af48-fd28-40a1-9d25-0d01bb956269; Name = LinslvPerfPar-XdgSokesJ13824-XdgStokes_J512; Cell Count = 512; Dim = 3 }\r\n"
      ]
     },
     "metadata": {},
     "output_type": "display_data"
    }
   ],
   "source": [
    "wmg.Grids"
   ]
  },
  {
   "cell_type": "code",
   "execution_count": 10,
   "metadata": {
    "dotnet_interactive": {
     "language": "csharp"
    }
   },
   "outputs": [
    {
     "name": "stdout",
     "output_type": "stream",
     "text": [
      "Found grid: LinslvPerfPar-XdgSokesJ13824-XdgStokes_J13824\r\n"
     ]
    }
   ],
   "source": [
    "int[] Resolutions_3D = new int[] { 24 };\n",
    "string[] GridNameS = new string[Resolutions_3D.Length];\n",
    "var ggcS = new (GridGenControl C, int MPIsize)[Resolutions_3D.Length];\n",
    "\n",
    "for(int cnt = 0; cnt < Resolutions_3D.Length; cnt++) {\n",
    "    int Res = Resolutions_3D[cnt];    \n",
    "    \n",
    "    double[] _xNodes = GenericBlas.Linspace(-1, +1, Res + 1);\n",
    "    double[] _yNodes = GenericBlas.Linspace(-1, +1, Res + 1);\n",
    "    double[] _zNodes = GenericBlas.Linspace(-1, +1, Res + 1);\n",
    "    int J = (_xNodes.Length - 1)*(_yNodes.Length - 1)*(_zNodes.Length - 1);\n",
    "    \n",
    "    string GridName = string.Format(wmg.CurrentProject + \"-XdgStokes_J\" + J);\n",
    "    GridNameS[cnt] = GridName;  \n",
    "    \n",
    "    if(wmg.Grids.Where(grd => grd.Name.Contains(GridName)).Count() <= 0) {\n",
    "        int NoOfProcs = (int) Math.Min(182, Math.Max(1, Math.Ceiling(J/200000.0)));\n",
    "        Console.WriteLine(\"Must create: \" + GridName + \" with \" + NoOfProcs + \" processors.\");\n",
    "        \n",
    "        var C = new GridGenControl();\n",
    "        ggcS[cnt] = (C, NoOfProcs);\n",
    "        C.SetDatabase(wmg.DefaultDatabase);\n",
    "        \n",
    "        C.GridName = GridName;\n",
    "\n",
    "        C.GridBlocks = new GridGenControl.MeshBlock[] {\n",
    "            new GridGenControl.Cartesian3D() {\n",
    "                xNodes = _xNodes,\n",
    "                yNodes = _yNodes,\n",
    "                zNodes = _zNodes\n",
    "            }\n",
    "        };\n",
    "\n",
    "        C.BoundaryRegions.Add((\n",
    "            new BoundingBox(new double[] { -1-1e-8, -2, -2 }, new double[] { -1+1e-8, +2, +2 }), \n",
    "            \"wall_left\"));\n",
    "        C.BoundaryRegions.Add((\n",
    "            new BoundingBox(new double[] { +1-1e-8, -2, -2 }, new double[] { +1+1e-8, +2, +2 }), \n",
    "            \"wall_right\"));\n",
    "        C.BoundaryRegions.Add((\n",
    "            new BoundingBox(new double[] { -2, -1-1e-8, -2 }, new double[] { +2, -1+1e-8, +2 }), \n",
    "            \"wall_front\"));\n",
    "        C.BoundaryRegions.Add((\n",
    "            new BoundingBox(new double[] { -2, +1-1e-8, -2 }, new double[] { +2, +1+1e-8, +2 }), \n",
    "            \"wall_back\"));\n",
    "        C.BoundaryRegions.Add((\n",
    "            new BoundingBox(new double[] { -2, -2, -1-1e-8 }, new double[] { +2, +2, -1+1e-8 }), \n",
    "            \"wall_top\"));\n",
    "        C.BoundaryRegions.Add((\n",
    "            new BoundingBox(new double[] { -2, -2, +1-1e-8 }, new double[] { +2, +2, +1+1e-8 }), \n",
    "            \"wall_bottom\"));\n",
    "        \n",
    "        \n",
    "        C.SessionName = \"GridCreation-\" + GridName;\n",
    "    } else {\n",
    "        Console.WriteLine(\"Found grid: \" + GridName);\n",
    "    }\n",
    "}"
   ]
  },
  {
   "cell_type": "code",
   "execution_count": 11,
   "metadata": {
    "dotnet_interactive": {
     "language": "csharp"
    }
   },
   "outputs": [],
   "source": [
    "foreach(var tt in ggcS) {\n",
    "    if(tt.C != null) {\n",
    "        Console.WriteLine(\" Submitting: \" + tt.C.SessionName); \n",
    "        var j = tt.C.CreateJob();\n",
    "        j.RetryCount = 2;\n",
    "        j.NumberOfMPIProcs = tt.MPIsize;\n",
    "        j.Activate();\n",
    "    }\n",
    "}"
   ]
  },
  {
   "cell_type": "code",
   "execution_count": 12,
   "metadata": {
    "dotnet_interactive": {
     "language": "csharp"
    }
   },
   "outputs": [
    {
     "name": "stdout",
     "output_type": "stream",
     "text": [
      "All jobs finished.\r\n"
     ]
    },
    {
     "data": {
      "text/plain": []
     },
     "metadata": {},
     "output_type": "display_data"
    }
   ],
   "source": [
    "wmg.BlockUntilAllJobsTerminate(3600*24*2); // wait at maximum two days for the jobs to finish\n",
    "wmg.AllJobs"
   ]
  },
  {
   "cell_type": "code",
   "execution_count": 13,
   "metadata": {
    "dotnet_interactive": {
     "language": "csharp"
    },
    "polyglot_notebook": {
     "kernelName": "csharp"
    }
   },
   "outputs": [
    {
     "name": "stdout",
     "output_type": "stream",
     "text": [
      "Searching for grid with 13824 cells\n",
      "Found Grid: { Guid = 5efbd710-dd9b-48a6-a840-eca0254cd8ad; Name = LinslvPerfPar-XdgSokesJ13824-XdgStokes_J13824; Cell Count = 13824; Dim = 3 }\n"
     ]
    }
   ],
   "source": [
    "IGridInfo[] grids = new IGridInfo[Resolutions_3D.Length];\n",
    "for(int cnt = 0; cnt < Resolutions_3D.Length; cnt++) {\n",
    "    int Res = Resolutions_3D[cnt];    \n",
    "    int J = Res*Res*Res;\n",
    "    \n",
    "    Console.WriteLine(\"Searching for grid with \" + J + \" cells\");\n",
    "    grids[cnt] = wmg.Grids.FirstOrDefault(grd => grd.Name.Contains(GridNameS[cnt])); // grid must be present now\n",
    "    \n",
    "    if(grids[cnt] != null) {\n",
    "        Console.WriteLine(\"Found Grid: \" + grids[cnt]);\n",
    "        if(grids[cnt].NumberOfCells != J)\n",
    "            throw new Exception(\"J mismatch\");\n",
    "\n",
    "        if(grids[cnt].SpatialDimension != 3)\n",
    "            throw new Exception(\"D mismatch\");\n",
    "    } else {\n",
    "        Console.Error.WriteLine(\"missing: J = \" + J);\n",
    "    }\n",
    "}"
   ]
  },
  {
   "cell_type": "code",
   "execution_count": 15,
   "metadata": {
    "dotnet_interactive": {
     "language": "csharp"
    },
    "polyglot_notebook": {
     "kernelName": "csharp"
    }
   },
   "outputs": [
    {
     "data": {
      "text/plain": [
       "{ Guid = 5efbd710-dd9b-48a6-a840-eca0254cd8ad; Name = LinslvPerfPar-XdgSokesJ13824-XdgStokes_J13824; Cell Count = 13824; Dim = 3 }"
      ]
     },
     "metadata": {},
     "output_type": "display_data"
    }
   ],
   "source": [
    "var GrdJ13824 = (grids[0] as GridProxy).RealGrid as BoSSS.Foundation.Grid.Classic.GridCommons;\n",
    "GrdJ13824"
   ]
  },
  {
   "cell_type": "code",
   "execution_count": 14,
   "metadata": {
    "dotnet_interactive": {
     "language": "csharp"
    },
    "polyglot_notebook": {
     "kernelName": "csharp"
    }
   },
   "outputs": [],
   "source": [
    "int For2(double[] X) {\n",
    "    double x = X[0];\n",
    "    return (x > 0) ? 1 : 0;\n",
    "}\n",
    "int For4(double[] X) {\n",
    "    double y = X[1];\n",
    "    return ((y > 0) ? 1 : 0) + For2(X)*2;\n",
    "}\n",
    "int For8(double[] X) {\n",
    "    double z = X[2];\n",
    "    return ((z > 0) ? 1 : 0) + For4(X)*2;\n",
    "}"
   ]
  },
  {
   "cell_type": "code",
   "execution_count": 16,
   "metadata": {
    "dotnet_interactive": {
     "language": "csharp"
    },
    "polyglot_notebook": {
     "kernelName": "csharp"
    }
   },
   "outputs": [],
   "source": [
    "var _GrdJ13824 = GrdJ13824.CloneAs();"
   ]
  },
  {
   "cell_type": "code",
   "execution_count": 17,
   "metadata": {
    "dotnet_interactive": {
     "language": "csharp"
    },
    "polyglot_notebook": {
     "kernelName": "csharp"
    }
   },
   "outputs": [],
   "source": [
    "_GrdJ13824.AddPredefinedPartitioning(\"For2\", For2);\n",
    "_GrdJ13824.AddPredefinedPartitioning(\"For4\", For4);\n",
    "_GrdJ13824.AddPredefinedPartitioning(\"For8\", For8);"
   ]
  },
  {
   "cell_type": "code",
   "execution_count": 18,
   "metadata": {
    "dotnet_interactive": {
     "language": "csharp"
    },
    "polyglot_notebook": {
     "kernelName": "csharp"
    }
   },
   "outputs": [
    {
     "data": {
      "text/html": [
       "<table><thead><tr><th><i>key</i></th><th>value</th></tr></thead><tbody><tr><td>For2</td><td>BoSSS.Foundation.Grid.Classic.GridCommons+GridPartitioningVector</td></tr><tr><td>For4</td><td>BoSSS.Foundation.Grid.Classic.GridCommons+GridPartitioningVector</td></tr><tr><td>For8</td><td>BoSSS.Foundation.Grid.Classic.GridCommons+GridPartitioningVector</td></tr></tbody></table><style>\r\n",
       ".dni-code-hint {\r\n",
       "    font-style: italic;\r\n",
       "    overflow: hidden;\r\n",
       "    white-space: nowrap;\r\n",
       "}\r\n",
       ".dni-treeview {\r\n",
       "    white-space: nowrap;\r\n",
       "}\r\n",
       ".dni-treeview td {\r\n",
       "    vertical-align: top;\r\n",
       "    text-align: start;\r\n",
       "}\r\n",
       "details.dni-treeview {\r\n",
       "    padding-left: 1em;\r\n",
       "}\r\n",
       "table td {\r\n",
       "    text-align: start;\r\n",
       "}\r\n",
       "table tr { \r\n",
       "    vertical-align: top; \r\n",
       "    margin: 0em 0px;\r\n",
       "}\r\n",
       "table tr td pre \r\n",
       "{ \r\n",
       "    vertical-align: top !important; \r\n",
       "    margin: 0em 0px !important;\r\n",
       "} \r\n",
       "table th {\r\n",
       "    text-align: start;\r\n",
       "}\r\n",
       "</style>"
      ]
     },
     "metadata": {},
     "output_type": "display_data"
    }
   ],
   "source": [
    "_GrdJ13824.PredefinedGridPartitioning"
   ]
  },
  {
   "cell_type": "code",
   "execution_count": 23,
   "metadata": {
    "dotnet_interactive": {
     "language": "csharp"
    },
    "polyglot_notebook": {
     "kernelName": "csharp"
    }
   },
   "outputs": [
    {
     "name": "stdout",
     "output_type": "stream",
     "text": [
      "0\n",
      "7\n",
      "1728\n",
      "1728\n",
      "1728\n",
      "1728\n",
      "1728\n",
      "1728\n",
      "1728\n",
      "1728\n"
     ]
    }
   ],
   "source": [
    "var tst = \"For8\";\n",
    "Console.WriteLine(_GrdJ13824.PredefinedGridPartitioning[tst].CellToRankMap.Min());\n",
    "Console.WriteLine(_GrdJ13824.PredefinedGridPartitioning[tst].CellToRankMap.Max());\n",
    "for(int i = 0; i < 8; i++)\n",
    "    Console.WriteLine(_GrdJ13824.PredefinedGridPartitioning[tst].CellToRankMap.Where(rnk => rnk == i).Count());"
   ]
  },
  {
   "cell_type": "code",
   "execution_count": 24,
   "metadata": {
    "dotnet_interactive": {
     "language": "csharp"
    },
    "polyglot_notebook": {
     "kernelName": "csharp"
    }
   },
   "outputs": [],
   "source": [
    "databases[0].SaveGrid(ref _GrdJ13824, force:true);"
   ]
  },
  {
   "cell_type": "code",
   "execution_count": 32,
   "metadata": {
    "dotnet_interactive": {
     "language": "csharp"
    },
    "polyglot_notebook": {
     "kernelName": "csharp"
    }
   },
   "outputs": [],
   "source": [
    "grids[0] = _GrdJ13824;"
   ]
  },
  {
   "cell_type": "code",
   "execution_count": 33,
   "metadata": {
    "dotnet_interactive": {
     "language": "csharp"
    },
    "polyglot_notebook": {
     "kernelName": "csharp"
    }
   },
   "outputs": [],
   "source": []
  },
  {
   "cell_type": "markdown",
   "metadata": {},
   "source": [
    "## Setup Control Object for a Solver Run"
   ]
  },
  {
   "cell_type": "code",
   "execution_count": 34,
   "metadata": {
    "dotnet_interactive": {
     "language": "csharp"
    }
   },
   "outputs": [],
   "source": [
    "// - - - - - - - - - - - - - - - - - - -\n",
    "// Initial Values & Boundary conditions\n",
    "// - - - - - - - - - - - - - - - - - - -"
   ]
  },
  {
   "cell_type": "code",
   "execution_count": 35,
   "metadata": {
    "dotnet_interactive": {
     "language": "csharp"
    }
   },
   "outputs": [],
   "source": [
    "using BoSSS.Application.XNSE_Solver;\n",
    "using BoSSS.Solution.LevelSetTools;\n",
    "using BoSSS.Solution.AdvancedSolvers;\n",
    "using BoSSS.Solution.XNSECommon;\n",
    "using BoSSS.Solution.Timestepping;\n",
    "using BoSSS.Solution.XdgTimestepping ;"
   ]
  },
  {
   "cell_type": "markdown",
   "metadata": {},
   "source": [
    "### Setup of Parameter Study"
   ]
  },
  {
   "cell_type": "markdown",
   "metadata": {},
   "source": [
    "Polynomial degrees to test:"
   ]
  },
  {
   "cell_type": "code",
   "execution_count": 36,
   "metadata": {
    "dotnet_interactive": {
     "language": "csharp"
    }
   },
   "outputs": [],
   "source": [
    "int[] PolyDegS = new int[] { 2, 3, 5 };"
   ]
  },
  {
   "cell_type": "code",
   "execution_count": 37,
   "metadata": {
    "dotnet_interactive": {
     "language": "csharp"
    },
    "polyglot_notebook": {
     "kernelName": "csharp"
    }
   },
   "outputs": [],
   "source": []
  },
  {
   "cell_type": "code",
   "execution_count": 38,
   "metadata": {
    "dotnet_interactive": {
     "language": "csharp"
    },
    "polyglot_notebook": {
     "kernelName": "csharp"
    }
   },
   "outputs": [],
   "source": [
    "int[] MPIsizes = new int[] { 2, 4, 8, 16, 32, 48 };"
   ]
  },
  {
   "cell_type": "markdown",
   "metadata": {},
   "source": [
    "Loop over all combinations of parameters and define a control object for each combo:"
   ]
  },
  {
   "cell_type": "code",
   "execution_count": 31,
   "metadata": {
    "dotnet_interactive": {
     "language": "csharp"
    }
   },
   "outputs": [],
   "source": [
    "using BoSSS.Solution.XNSECommon;\n",
    "using BoSSS.Foundation.XDG;"
   ]
  },
  {
   "cell_type": "code",
   "execution_count": 39,
   "metadata": {
    "dotnet_interactive": {
     "language": "csharp"
    }
   },
   "outputs": [
    {
     "name": "stdout",
     "output_type": "stream",
     "text": [
      "setting up: XdgStokes-J13824_p2_Sz2\n",
      "setting up: XdgStokes-J13824_p2_Sz4\n",
      "setting up: XdgStokes-J13824_p2_Sz8\n",
      "setting up: XdgStokes-J13824_p2_Sz16\n",
      "setting up: XdgStokes-J13824_p2_Sz32\n",
      "setting up: XdgStokes-J13824_p2_Sz48\n",
      "setting up: XdgStokes-J13824_p3_Sz2\n",
      "setting up: XdgStokes-J13824_p3_Sz4\n",
      "setting up: XdgStokes-J13824_p3_Sz8\n",
      "setting up: XdgStokes-J13824_p3_Sz16\n",
      "setting up: XdgStokes-J13824_p3_Sz32\n",
      "setting up: XdgStokes-J13824_p3_Sz48\n",
      "setting up: XdgStokes-J13824_p5_Sz2\n",
      "setting up: XdgStokes-J13824_p5_Sz4\n",
      "setting up: XdgStokes-J13824_p5_Sz8\n",
      "setting up: XdgStokes-J13824_p5_Sz16\n",
      "setting up: XdgStokes-J13824_p5_Sz32\n",
      "setting up: XdgStokes-J13824_p5_Sz48\n"
     ]
    }
   ],
   "source": [
    "var controls = new List<(XNSE_Control ctrl, int NoOfProcs)>();\n",
    "LinearSolverCode solver_name = LinearSolverCode.exp_Kcycle_schwarz;\n",
    "foreach(int k in PolyDegS) {\n",
    "foreach(IGridInfo grd in grids) {\n",
    "foreach(int MPIsize in MPIsizes) {\n",
    "    \n",
    "    int Np_V = Utils.Np(k);\n",
    "    int Np_p = Utils.Np(k-1);\n",
    "    int J    = grd.NumberOfCells;\n",
    "    int DOF  = Np_V*3 + Np_p;\n",
    "    if(J / MPIsize < 16) {\n",
    "        // less than 16 cells per processor - to low for a multigrid.\n",
    "        continue; \n",
    "    }\n",
    "    if(DOF/MPIsize > 500000) {\n",
    "        // not interested in doing more then 500'000 DOFs per processor\n",
    "        continue;\n",
    "    } \n",
    "    \n",
    "    \n",
    "    // Control Instance, grid, DG degree, etc.\n",
    "    // =======================================\n",
    "    \n",
    "    XNSE_Control C = new XNSE_Control();\n",
    "    controls.Add((C, MPIsize));\n",
    "       \n",
    "    string caseName = string.Format(\"XdgStokes-J{0}_p{1}_Sz{2}\", J, k, MPIsize);\n",
    "    Console.WriteLine(\"setting up: \" + caseName);\n",
    "    C.SessionName        = caseName;\n",
    "    \n",
    "    C.SetGrid(grd);\n",
    "    C.savetodb = true;\n",
    "    C.SetDGdegree(k);\n",
    "    \n",
    "    // Phys. Parameters\n",
    "    // ================\n",
    "    \n",
    "    // Species A: Water; Species B: Air\n",
    "    C.PhysicalParameters.rho_A             = 1.0; //1e-3; //     kg / cm³\n",
    "    C.PhysicalParameters.rho_B             = 1.0; //1.2e-6; //   kg / cm³\n",
    "    C.PhysicalParameters.mu_A              = 1.0; //1e-5; //      kg / cm / sec\n",
    "    C.PhysicalParameters.mu_B              = 1.0; //17.1e-8; //   kg / cm / sec\n",
    "    C.PhysicalParameters.Sigma             = 72.75e-3; // kg / sec²   \n",
    "    C.PhysicalParameters.IncludeConvection = false;\n",
    "    C.PhysicalParameters.Material          = true;\n",
    "    \n",
    "     //C.Option_LevelSetEvolution                          = LevelSetEvolution.FastMarching;\n",
    "    C.AdvancedDiscretizationOptions.SST_isotropicMode   = SurfaceStressTensor_IsotropicMode.Curvature_Projected;\n",
    "    //C.AdvancedDiscretizationOptions.ViscosityMode       = ViscosityMode.Standard;\n",
    "    C.AdvancedDiscretizationOptions.FilterConfiguration = CurvatureAlgorithms.FilterConfiguration.NoFilter;\n",
    "    double r     = 0.5;\n",
    "    double nonsp = 0.5;\n",
    "\n",
    "    C.AddInitialValue(\"Phi\", new Formula($\"X => (X[0]/{r*nonsp}).Pow2() + (X[1]/{r}).Pow2() + (X[2]/{r}).Pow2() - 1\", false));\n",
    "    \n",
    "    C.LSContiProjectionMethod = BoSSS.Solution.LevelSetTools.ContinuityProjectionOption.None;\n",
    "    //C.CutCellQuadratureType   = BoSSS.Foundation.XDG.XQuadFactoryHelper.MomentFittingVariants.Saye;\n",
    "    C.ComputeEnergyProperties = false;\n",
    "\n",
    "    \n",
    "    // Solver Stuff\n",
    "    // ============\n",
    "    \n",
    "    C.LinearSolver           = solver_name.GetConfig();\n",
    "    if(C.LinearSolver is IterativeSolverConfig isc) {\n",
    "        isc.ConvergenceCriterion = 1e-8;\n",
    "    }\n",
    "    C.NoOfMultigridLevels = 100;\n",
    "    C.TracingNamespaces = \"BoSSS.Solution\";\n",
    "    C.LevelSet_ConvergenceCriterion     = 1e-6;\n",
    "\n",
    "    C.MemoryInstrumentationLevel = ilPSP.Tracing.MemoryInstrumentationLevel.None;\n",
    "    C.DynamicLoadBalancing_RedistributeAtStartup = true;\n",
    "    C.DynamicLoadBalancing_On = true;\n",
    "\n",
    "   \n",
    "    \n",
    "    // Timestepping / Instationary\n",
    "    // ===========================\n",
    "\n",
    "    C.TimesteppingMode             = AppControl._TimesteppingMode.Steady;\n",
    "    //C.dtFixed = 0.01;\n",
    "}\n",
    "}\n",
    "}"
   ]
  },
  {
   "cell_type": "code",
   "execution_count": 43,
   "metadata": {
    "dotnet_interactive": {
     "language": "csharp"
    },
    "polyglot_notebook": {
     "kernelName": "csharp"
    }
   },
   "outputs": [],
   "source": [
    "foreach(var (ctrl, MpiSz) in controls) {\n",
    "    XNSE_Control ctrl_clone;\n",
    "    \n",
    "    {\n",
    "    ctrl_clone = (XNSE_Control) AppControl.Deserialize(ctrl.Serialize());\n",
    "\n",
    "    ctrl_clone.DynamicLoadBalancing_CellCostEstimators.Clear();\n",
    "    ctrl_clone.DynamicLoadBalancing_RedistributeAtStartup = false;\n",
    "    ctrl_clone.DynamicLoadBalancing_On = false;\n",
    "    ctrl_clone.GridPartType = GridPartType.METIS;\n",
    "\n",
    "    ctrl_clone.SaveToFile(System.IO.Path.Combine(@\"C:\\Users\\flori\\Documents\\BoSSS-kummer\\public\\src\\L4-application\\XNSE_Solver\\bin\\Release\\net6.0\\control\",\n",
    "                    \"Control-\" + ctrl.SessionName + \"-static_metis.obj\" \n",
    "                     ));\n",
    "\n",
    "    }\n",
    "\n",
    "     {\n",
    "    ctrl_clone = (XNSE_Control) AppControl.Deserialize(ctrl.Serialize());\n",
    "\n",
    "    ctrl_clone.DynamicLoadBalancing_CellCostEstimators.Clear();\n",
    "    ctrl_clone.DynamicLoadBalancing_CellCostEstimators.Add(new BoSSS.Application.XNSE_Solver.Loadbalancing.XNSECellCostEstimator());\n",
    "    ctrl_clone.DynamicLoadBalancing_RedistributeAtStartup = true;\n",
    "    ctrl_clone.DynamicLoadBalancing_On = true;\n",
    "    ctrl_clone.GridPartType = GridPartType.METIS;\n",
    "\n",
    "    ctrl_clone.SaveToFile(System.IO.Path.Combine(@\"C:\\Users\\flori\\Documents\\BoSSS-kummer\\public\\src\\L4-application\\XNSE_Solver\\bin\\Release\\net6.0\\control\",\n",
    "                    \"Control-\" + ctrl.SessionName + \"-dyn_metis.obj\" \n",
    "                     ));\n",
    "\n",
    "    }\n",
    "\n",
    "    if((new int[] {2, 4, 8}).Contains(MpiSz)) {\n",
    "    ctrl_clone = (XNSE_Control) AppControl.Deserialize(ctrl.Serialize());\n",
    "\n",
    "    ctrl_clone.DynamicLoadBalancing_CellCostEstimators.Clear();\n",
    "    ctrl_clone.DynamicLoadBalancing_RedistributeAtStartup = false;\n",
    "    ctrl_clone.DynamicLoadBalancing_On = false;\n",
    "    ctrl_clone.GridPartType = GridPartType.Predefined;\n",
    "    ctrl_clone.GridPartOptions = \"For\" + MpiSz;\n",
    "\n",
    "    ctrl_clone.SaveToFile(System.IO.Path.Combine(@\"C:\\Users\\flori\\Documents\\BoSSS-kummer\\public\\src\\L4-application\\XNSE_Solver\\bin\\Release\\net6.0\\control\",\n",
    "                    \"Control-\" + ctrl.SessionName + \"-predef.obj\" \n",
    "                     ));\n",
    "\n",
    "    }\n",
    "}"
   ]
  },
  {
   "cell_type": "markdown",
   "metadata": {},
   "source": [
    "Total number of simulations:"
   ]
  },
  {
   "cell_type": "code",
   "execution_count": null,
   "metadata": {
    "dotnet_interactive": {
     "language": "csharp"
    }
   },
   "outputs": [],
   "source": [
    "controls.Count"
   ]
  },
  {
   "cell_type": "code",
   "execution_count": null,
   "metadata": {
    "dotnet_interactive": {
     "language": "csharp"
    }
   },
   "outputs": [],
   "source": [
    "// Assert that the location of the fluid phases is as desired:\n",
    "NUnit.Framework.Assert.Negative(controls[0].ctrl.InitialValues[\"Phi\"].Evaluate(new double[]{0,0.0,0}, 0.0), \"phase A (negative) must be inside\");\n",
    "NUnit.Framework.Assert.Positive(controls[0].ctrl.InitialValues[\"Phi\"].Evaluate(new double[]{0,4.0,0}, 0.0), \"phase B (positive) must be inside\");"
   ]
  },
  {
   "cell_type": "code",
   "execution_count": null,
   "metadata": {
    "dotnet_interactive": {
     "language": "csharp"
    }
   },
   "outputs": [],
   "source": [
    "// Basic checks on the multigrid configuration\n",
    "foreach(var (ctrl, sz) in controls) {\n",
    "    NUnit.Framework.Assert.Greater(ctrl.NoOfMultigridLevels, 1, \"More than 1 multigrid level must be set\");\n",
    "    if(ctrl.LinearSolver is OrthoMGSchwarzConfig osc)\n",
    "        NUnit.Framework.Assert.Greater(osc.NoOfMultigridLevels, 1, \"More than 1 multigrid level must be set\");\n",
    "}"
   ]
  },
  {
   "cell_type": "code",
   "execution_count": null,
   "metadata": {
    "dotnet_interactive": {
     "language": "csharp"
    }
   },
   "outputs": [],
   "source": [
    "//string path = @\"C:\\Users\\flori\\Documents\\BoSSS-kummer\\public\\src\\L4-application\\XNSE_Solver\\bin\\Release\\net5.0\\Xstokes\";\n",
    "//foreach(var ctrl in controls) {\n",
    "//    ctrl.savetodb = false;\n",
    "//    ctrl.SaveToFile(System.IO.Path.Combine(path, ctrl.SessionName + \".obj\"));\n",
    "//}"
   ]
  },
  {
   "cell_type": "markdown",
   "metadata": {},
   "source": [
    "## Launch Jobs"
   ]
  },
  {
   "cell_type": "markdown",
   "metadata": {},
   "source": [
    "Use the default queue defined on this machine:"
   ]
  },
  {
   "cell_type": "code",
   "execution_count": null,
   "metadata": {
    "dotnet_interactive": {
     "language": "csharp"
    }
   },
   "outputs": [],
   "source": [
    "ExecutionQueues"
   ]
  },
  {
   "cell_type": "code",
   "execution_count": null,
   "metadata": {
    "dotnet_interactive": {
     "language": "csharp"
    }
   },
   "outputs": [],
   "source": [
    "var myBatch = GetDefaultQueue();\n",
    "myBatch"
   ]
  },
  {
   "cell_type": "code",
   "execution_count": null,
   "metadata": {
    "dotnet_interactive": {
     "language": "csharp"
    },
    "polyglot_notebook": {
     "kernelName": "csharp"
    }
   },
   "outputs": [],
   "source": [
    "//wmg.ResetProject(deleteJobs:true, deleteSessions:true);"
   ]
  },
  {
   "cell_type": "code",
   "execution_count": null,
   "metadata": {
    "dotnet_interactive": {
     "language": "csharp"
    }
   },
   "outputs": [],
   "source": [
    "foreach((var ctrl, int MPIsize) in controls) {\n",
    "    Console.WriteLine(\" Submitting: \" + ctrl.SessionName); \n",
    "    var j = ctrl.CreateJob();\n",
    "    j.RetryCount = 1;\n",
    "    j.NumberOfMPIProcs = MPIsize;\n",
    "    j.Activate(myBatch);\n",
    "    //ctrl.RunBatch();\n",
    "}"
   ]
  },
  {
   "cell_type": "markdown",
   "metadata": {},
   "source": [
    "### Wait for Completion and Check Job Status"
   ]
  },
  {
   "cell_type": "code",
   "execution_count": null,
   "metadata": {
    "dotnet_interactive": {
     "language": "csharp"
    },
    "polyglot_notebook": {
     "kernelName": "csharp"
    }
   },
   "outputs": [],
   "source": [
    "//wmg.AllJobs[\"XdgStokes-J13824_p2_Sz2\"].ShowOutput()"
   ]
  },
  {
   "cell_type": "code",
   "execution_count": null,
   "metadata": {
    "dotnet_interactive": {
     "language": "csharp"
    }
   },
   "outputs": [],
   "source": [
    "wmg.BlockUntilAllJobsTerminate(3600*24*2); // wait at maximum two days for the jobs to finish"
   ]
  },
  {
   "cell_type": "code",
   "execution_count": null,
   "metadata": {
    "dotnet_interactive": {
     "language": "csharp"
    }
   },
   "outputs": [],
   "source": [
    "wmg.AllJobs"
   ]
  },
  {
   "cell_type": "code",
   "execution_count": null,
   "metadata": {
    "dotnet_interactive": {
     "language": "csharp"
    }
   },
   "outputs": [],
   "source": [
    "wmg.Sessions.Where(sess => sess.Name.StartsWith(\"XdgStokes-J\"))"
   ]
  },
  {
   "cell_type": "code",
   "execution_count": null,
   "metadata": {
    "dotnet_interactive": {
     "language": "csharp"
    },
    "polyglot_notebook": {
     "kernelName": "csharp"
    }
   },
   "outputs": [],
   "source": [
    "int succJob = wmg.AllJobs.Values.Where(job => !job.Name.Contains(\"GridCreation\") && job.Status == JobStatus.FinishedSuccessful).Count();\n",
    "int succSess = wmg.Sessions.Where(Si => Si.Name.Contains(\"XdgStokes-J\") && (Si.SuccessfulTermination == true)).Count();\n",
    "(succJob, succSess)"
   ]
  },
  {
   "cell_type": "code",
   "execution_count": null,
   "metadata": {
    "dotnet_interactive": {
     "language": "csharp"
    },
    "polyglot_notebook": {
     "kernelName": "csharp"
    }
   },
   "outputs": [],
   "source": [
    "int failJob = wmg.AllJobs.Values.Where(job => !job.Name.Contains(\"GridCreation\") && job.Status != JobStatus.FinishedSuccessful).Count();\n",
    "int failSess = wmg.Sessions.Where(Si => Si.Name.Contains(\"XdgStokes-J\") && (Si.SuccessfulTermination == false)).Count();\n",
    "(failJob, failSess)"
   ]
  },
  {
   "cell_type": "code",
   "execution_count": null,
   "metadata": {
    "dotnet_interactive": {
     "language": "csharp"
    },
    "polyglot_notebook": {
     "kernelName": "csharp"
    }
   },
   "outputs": [],
   "source": [
    "NUnit.Framework.Assert.AreEqual(succJob + failJob, controls.Count);\n",
    "//NUnit.Framework.Assert.AreEqual(succJob, succSess);\n",
    "//NUnit.Framework.Assert.AreEqual(failJob, failSess);"
   ]
  },
  {
   "cell_type": "code",
   "execution_count": null,
   "metadata": {
    "dotnet_interactive": {
     "language": "csharp"
    },
    "polyglot_notebook": {
     "kernelName": "csharp"
    }
   },
   "outputs": [],
   "source": [
    "var NoSuccess = wmg.AllJobs.Values\n",
    "                        .Where(job => job.Status != JobStatus.FinishedSuccessful)\n",
    "                        .ToArray();\n",
    "NoSuccess"
   ]
  },
  {
   "cell_type": "code",
   "execution_count": null,
   "metadata": {
    "dotnet_interactive": {
     "language": "csharp"
    },
    "polyglot_notebook": {
     "kernelName": "csharp"
    }
   },
   "outputs": [],
   "source": [
    "foreach(var fail in NoSuccess)\n",
    "    Console.WriteLine(fail + \":  @\" + ((fail.LatestDeployment?.DeploymentDirectory?.FullName) ?? \" no deployment directory\"));"
   ]
  },
  {
   "cell_type": "code",
   "execution_count": null,
   "metadata": {
    "dotnet_interactive": {
     "language": "csharp"
    },
    "polyglot_notebook": {
     "kernelName": "csharp"
    }
   },
   "outputs": [],
   "source": [
    "var FailedSessions = wmg.Sessions.Where(Si => Si.Name.Contains(\"XdgStokes\") && !Si.Name.Contains(\"GridCreation\") &&\n",
    "                                        (Si.SuccessfulTermination == false\n",
    "                                        || Convert.ToInt32(Si.KeysAndQueries[\"Conv\"]) == 0)).ToArray();\n",
    "FailedSessions"
   ]
  },
  {
   "cell_type": "code",
   "execution_count": null,
   "metadata": {
    "dotnet_interactive": {
     "language": "csharp"
    },
    "polyglot_notebook": {
     "kernelName": "csharp"
    }
   },
   "outputs": [],
   "source": [
    "Job GetJob4Session(ISessionInfo s) {\n",
    "    return wmg.AllJobs.Values.FirstOrDefault(job => wmg.SessionInfoJobCorrelation(s, job));\n",
    "}"
   ]
  },
  {
   "cell_type": "code",
   "execution_count": null,
   "metadata": {
    "dotnet_interactive": {
     "language": "csharp"
    },
    "polyglot_notebook": {
     "kernelName": "csharp"
    }
   },
   "outputs": [],
   "source": [
    "GetJob4Session(FailedSessions[0])"
   ]
  },
  {
   "cell_type": "code",
   "execution_count": null,
   "metadata": {
    "dotnet_interactive": {
     "language": "csharp"
    },
    "polyglot_notebook": {
     "kernelName": "csharp"
    }
   },
   "outputs": [],
   "source": [
    "GetJob4Session(FailedSessions[1])"
   ]
  },
  {
   "cell_type": "code",
   "execution_count": null,
   "metadata": {
    "dotnet_interactive": {
     "language": "csharp"
    },
    "polyglot_notebook": {
     "kernelName": "csharp"
    }
   },
   "outputs": [],
   "source": [
    "GetJob4Session(FailedSessions[0]).AllSessions"
   ]
  },
  {
   "cell_type": "code",
   "execution_count": null,
   "metadata": {
    "dotnet_interactive": {
     "language": "csharp"
    },
    "polyglot_notebook": {
     "kernelName": "csharp"
    }
   },
   "outputs": [],
   "source": [
    "using(var wrt = new System.IO.StreamWriter(\"FailReport.txt\")) {\n",
    "    foreach(var s in FailedSessions) {\n",
    "        wrt.WriteLine(s.ToString());\n",
    "        wrt.WriteLine(s.GetStdout());\n",
    "        wrt.WriteLine(\">>>>>>>>>>>>>>>>>>>>>>>>>>>>>>>>>>>>>>>>>>>>>>>>>>>>>>>>>>\");\n",
    "        string errString = s.GetStderr();\n",
    "        string[] lines = errString.Split('\\n');\n",
    "        string truncatedString = string.Join(\"\\n\", lines.Take(10));\n",
    "        wrt.WriteLine(truncatedString);\n",
    "        if(lines.Length > 10)\n",
    "           wrt.WriteLine(\"  ... truncated ...\");\n",
    "        wrt.WriteLine(\"<<<<<<<<<<<<<<<<<<<<<<<<<<<<<<<<<<<<<<<<<<<<<<<<<<<<<<<<<<\");\n",
    "        \n",
    "        for(int i = 0; i < 10; i++)\n",
    "            wrt.WriteLine(\"********************************************************\");\n",
    "    }\n",
    "\n",
    "}"
   ]
  },
  {
   "cell_type": "code",
   "execution_count": null,
   "metadata": {
    "dotnet_interactive": {
     "language": "csharp"
    },
    "polyglot_notebook": {
     "kernelName": "csharp"
    }
   },
   "outputs": [],
   "source": []
  },
  {
   "cell_type": "code",
   "execution_count": null,
   "metadata": {
    "dotnet_interactive": {
     "language": "csharp"
    },
    "polyglot_notebook": {
     "kernelName": "csharp"
    }
   },
   "outputs": [],
   "source": [
    "wmg.AllJobs[\"XdgStokes-J13824_p5_Sz48\"].AllSessions"
   ]
  },
  {
   "cell_type": "code",
   "execution_count": null,
   "metadata": {
    "dotnet_interactive": {
     "language": "csharp"
    },
    "polyglot_notebook": {
     "kernelName": "csharp"
    }
   },
   "outputs": [],
   "source": [
    "FailedSessions[0]"
   ]
  },
  {
   "cell_type": "code",
   "execution_count": null,
   "metadata": {
    "dotnet_interactive": {
     "language": "csharp"
    },
    "polyglot_notebook": {
     "kernelName": "csharp"
    }
   },
   "outputs": [],
   "source": [
    "/*foreach(var j in wmg.AllJobs.Values) {\n",
    "    if(j.AllSessions.Length > 1) {\n",
    "        Console.WriteLine(j);\n",
    "        foreach(var s in j.AllSessions) {\n",
    "            Console.WriteLine(\"   \" + s);\n",
    "        }\n",
    "    }\n",
    "    \n",
    "    if(j.AllSessions.Length < 0) {\n",
    "        Console.WriteLine(\"NO SESSION: \" + j);\n",
    "    }\n",
    "}*/"
   ]
  },
  {
   "cell_type": "code",
   "execution_count": null,
   "metadata": {
    "dotnet_interactive": {
     "language": "csharp"
    },
    "polyglot_notebook": {
     "kernelName": "csharp"
    }
   },
   "outputs": [],
   "source": [
    "//wmg.Sessions"
   ]
  },
  {
   "cell_type": "code",
   "execution_count": null,
   "metadata": {
    "dotnet_interactive": {
     "language": "csharp"
    },
    "polyglot_notebook": {
     "kernelName": "csharp"
    }
   },
   "outputs": [],
   "source": [
    "(ISessionInfo si, Plot2Ddata mem)[] mpiMem = wmg.Sessions.Select(s => (s,s.GetMPItotalMemory())).ToArray();"
   ]
  },
  {
   "cell_type": "code",
   "execution_count": null,
   "metadata": {
    "dotnet_interactive": {
     "language": "csharp"
    },
    "polyglot_notebook": {
     "kernelName": "csharp"
    }
   },
   "outputs": [],
   "source": [
    "wmg.Sessions[0].GetSessionDirectory()"
   ]
  },
  {
   "cell_type": "code",
   "execution_count": null,
   "metadata": {
    "dotnet_interactive": {
     "language": "csharp"
    },
    "polyglot_notebook": {
     "kernelName": "csharp"
    }
   },
   "outputs": [],
   "source": [
    "//var di = new System.IO.DirectoryInfo(@\"\\\\dc1\\userspace\\kummer\\cluster\\LinslvPerfPar-XdgSokesJ13824\\sessions\\7a343be7-b51c-44e3-898a-805550cffb15\");\n",
    "//var memI = new SessionMemtrace(di);"
   ]
  },
  {
   "cell_type": "code",
   "execution_count": 83,
   "metadata": {},
   "outputs": [],
   "source": [
    "//mpiMem[5].Item2.dataGroups[0].Name = \"Tot Mem [MegB] at 32 cores (2)\";"
   ]
  },
  {
   "cell_type": "code",
   "execution_count": 84,
   "metadata": {},
   "outputs": [
    {
     "data": {
      "text/html": [
       "<table><thead><tr><th><i>index</i></th><th>Item1</th><th>Item2</th></tr></thead><tbody><tr><td>0</td><td>XdgStokes-J13824_p2_Sz2</td><td>Tot Mem [MegB] at 2 cores</td></tr><tr><td>1</td><td>XdgStokes-J13824_p5_Sz48</td><td>Tot Mem [MegB] at 48 cores</td></tr><tr><td>2</td><td>XdgStokes-J13824_p5_Sz48</td><td>Tot Mem [MegB] at 48 cores (2)</td></tr><tr><td>3</td><td>XdgStokes-J13824_p5_Sz32</td><td>Tot Mem [MegB] at 32 cores</td></tr><tr><td>4</td><td>XdgStokes-J13824_p5_Sz48</td><td>Tot Mem [MegB] at 48 cores (3)</td></tr><tr><td>5</td><td>XdgStokes-J13824_p5_Sz32</td><td>Tot Mem [MegB] at 32 cores (2)</td></tr><tr><td>6</td><td>XdgStokes-J13824_p3_Sz2</td><td>Tot Mem [MegB] at 2 cores</td></tr><tr><td>7</td><td>XdgStokes-J13824_p2_Sz4</td><td>Tot Mem [MegB] at 4 cores</td></tr><tr><td>8</td><td>XdgStokes-J13824_p3_Sz16</td><td>Tot Mem [MegB] at 16 cores</td></tr><tr><td>9</td><td>XdgStokes-J13824_p5_Sz16</td><td>Tot Mem [MegB] at 16 cores</td></tr><tr><td>10</td><td>XdgStokes-J13824_p3_Sz8</td><td>Tot Mem [MegB] at 8 cores</td></tr><tr><td>11</td><td>XdgStokes-J13824_p5_Sz2</td><td>Tot Mem [MegB] at 2 cores</td></tr><tr><td>12</td><td>XdgStokes-J13824_p5_Sz4</td><td>Tot Mem [MegB] at 4 cores</td></tr><tr><td>13</td><td>XdgStokes-J13824_p3_Sz48</td><td>Tot Mem [MegB] at 48 cores</td></tr><tr><td>14</td><td>XdgStokes-J13824_p5_Sz8</td><td>Tot Mem [MegB] at 8 cores</td></tr><tr><td>15</td><td>XdgStokes-J13824_p2_Sz48</td><td>Tot Mem [MegB] at 48 cores</td></tr><tr><td>16</td><td>XdgStokes-J13824_p3_Sz32</td><td>Tot Mem [MegB] at 32 cores</td></tr><tr><td>17</td><td>XdgStokes-J13824_p2_Sz32</td><td>Tot Mem [MegB] at 32 cores</td></tr><tr><td>18</td><td>XdgStokes-J13824_p3_Sz4</td><td>Tot Mem [MegB] at 4 cores</td></tr><tr><td>19</td><td>XdgStokes-J13824_p2_Sz16</td><td>Tot Mem [MegB] at 16 cores</td></tr><tr><td>20</td><td>XdgStokes-J13824_p2_Sz8</td><td>Tot Mem [MegB] at 8 cores</td></tr></tbody></table><style>\r\n",
       ".dni-code-hint {\r\n",
       "    font-style: italic;\r\n",
       "    overflow: hidden;\r\n",
       "    white-space: nowrap;\r\n",
       "}\r\n",
       ".dni-treeview {\r\n",
       "    white-space: nowrap;\r\n",
       "}\r\n",
       ".dni-treeview td {\r\n",
       "    vertical-align: top;\r\n",
       "    text-align: start;\r\n",
       "}\r\n",
       "details.dni-treeview {\r\n",
       "    padding-left: 1em;\r\n",
       "}\r\n",
       "table td {\r\n",
       "    text-align: start;\r\n",
       "}\r\n",
       "table tr { \r\n",
       "    vertical-align: top; \r\n",
       "    margin: 0em 0px;\r\n",
       "}\r\n",
       "table tr td pre \r\n",
       "{ \r\n",
       "    vertical-align: top !important; \r\n",
       "    margin: 0em 0px !important;\r\n",
       "} \r\n",
       "table th {\r\n",
       "    text-align: start;\r\n",
       "}\r\n",
       "</style>"
      ]
     },
     "execution_count": 84,
     "metadata": {},
     "output_type": "execute_result"
    }
   ],
   "source": [
    "mpiMem.Select(tt => (tt.Item1.Name, tt.Item2.dataGroups[0].Name))"
   ]
  },
  {
   "cell_type": "code",
   "execution_count": null,
   "metadata": {},
   "outputs": [],
   "source": []
  },
  {
   "cell_type": "code",
   "execution_count": 96,
   "metadata": {},
   "outputs": [
    {
     "name": "stdout",
     "output_type": "stream",
     "text": [
      "Using gnuplot: C:\\Users\\kummer\\AppData\\Local\\FDY\\BoSSS\\bin\\native\\win\\gnuplot-gp510-20160418-win32-mingw\\gnuplot\\bin\\gnuplot.exe\r\n"
     ]
    }
   ],
   "source": [
    "var multiplot = new Plot2Ddata[3,1];\n",
    "foreach(var tt in new [] { (0, \"p2\"), (1, \"p3\"), (2, \"p5\") }) {\n",
    "    multiplot[tt.Item1, 0] = new Plot2Ddata();\n",
    "    var pXplot = mpiMem.Where(qq => qq.Item1.Name.Contains(tt.Item2));\n",
    "    multiplot[tt.Item1, 0] = multiplot[tt.Item1, 0].Merge(pXplot.Select(qq => qq.Item2).ToArray());\n",
    "    \n",
    "    int iPlt = 0;\n",
    "    foreach(var xy in multiplot[tt.Item1, 0].dataGroups) {\n",
    "        xy.Format.Style = Styles.Lines;\n",
    "        xy.Format.SetLineColorFromIndex(iPlt);\n",
    "        iPlt++;\n",
    "        \n",
    "    }\n",
    "}\n",
    "//multiplot.PlotNow();\n",
    "multiplot.PlotCairolatex(ySize:20.0).WriteMinimalCompileableExample(\"mem.tex\");"
   ]
  },
  {
   "cell_type": "code",
   "execution_count": 130,
   "metadata": {},
   "outputs": [],
   "source": [
    "int ParseNoOfCores(string name) {\n",
    "   var regex = new System.Text.RegularExpressions.Regex(@\"at (\\d+)\");\n",
    "   var match = regex.Match(name);\n",
    "   if (match.Success) \n",
    "       return int.Parse(match.Groups[1].Value);\n",
    "   else\n",
    "       throw new Exception();\n",
    "}\n",
    "\n",
    "\n",
    "(double,double)[] memVsCores(int iRow) {\n",
    "    return multiplot[iRow,0].dataGroups\n",
    "      .OrderBy(dataGroup => ParseNoOfCores(dataGroup.Name))\n",
    "      .Select(dataGroup => ((double)ParseNoOfCores(dataGroup.Name),dataGroup.Values.Max()))\n",
    "      .ToArray();\n",
    "}"
   ]
  },
  {
   "cell_type": "code",
   "execution_count": 126,
   "metadata": {},
   "outputs": [
    {
     "data": {
      "text/html": [
       "<table><thead><tr><th><i>index</i></th><th>Item1</th><th>Item2</th></tr></thead><tbody><tr><td>0</td><td>2</td><td>83872.37890625</td></tr><tr><td>1</td><td>4</td><td>88552.8984375</td></tr><tr><td>2</td><td>8</td><td>106274.81640625</td></tr><tr><td>3</td><td>16</td><td>121208.62109375</td></tr><tr><td>4</td><td>32</td><td>115165.76953125</td></tr><tr><td>5</td><td>48</td><td>120589.61328125</td></tr></tbody></table><style>\r\n",
       ".dni-code-hint {\r\n",
       "    font-style: italic;\r\n",
       "    overflow: hidden;\r\n",
       "    white-space: nowrap;\r\n",
       "}\r\n",
       ".dni-treeview {\r\n",
       "    white-space: nowrap;\r\n",
       "}\r\n",
       ".dni-treeview td {\r\n",
       "    vertical-align: top;\r\n",
       "    text-align: start;\r\n",
       "}\r\n",
       "details.dni-treeview {\r\n",
       "    padding-left: 1em;\r\n",
       "}\r\n",
       "table td {\r\n",
       "    text-align: start;\r\n",
       "}\r\n",
       "table tr { \r\n",
       "    vertical-align: top; \r\n",
       "    margin: 0em 0px;\r\n",
       "}\r\n",
       "table tr td pre \r\n",
       "{ \r\n",
       "    vertical-align: top !important; \r\n",
       "    margin: 0em 0px !important;\r\n",
       "} \r\n",
       "table th {\r\n",
       "    text-align: start;\r\n",
       "}\r\n",
       "</style>"
      ]
     },
     "execution_count": 126,
     "metadata": {},
     "output_type": "execute_result"
    }
   ],
   "source": [
    "memVsCores"
   ]
  },
  {
   "cell_type": "code",
   "execution_count": 135,
   "metadata": {},
   "outputs": [
    {
     "name": "stdout",
     "output_type": "stream",
     "text": [
      "Using gnuplot: C:\\Users\\kummer\\AppData\\Local\\FDY\\BoSSS\\bin\\native\\win\\gnuplot-gp510-20160418-win32-mingw\\gnuplot\\bin\\gnuplot.exe\r\n"
     ]
    },
    {
     "data": {
      "text/html": [
       "<?xml version=\"1.0\" encoding=\"utf-8\"  standalone=\"no\"?>\n",
       "<!DOCTYPE svg PUBLIC \"-//W3C//DTD SVG 1.1//EN\"\n",
       " \"http://www.w3.org/Graphics/SVG/1.1/DTD/svg11.dtd\">\n",
       "<svg \n",
       " width=\"800\" height=\"600\"\n",
       " viewBox=\"0 0 800 600\"\n",
       " xmlns=\"http://www.w3.org/2000/svg\"\n",
       " xmlns:xlink=\"http://www.w3.org/1999/xlink\"\n",
       ">\n",
       "\n",
       "<title>Gnuplot</title>\n",
       "<desc>Produced by GNUPLOT 5.1 patchlevel 0 </desc>\n",
       "\n",
       "<g id=\"gnuplot_canvas\">\n",
       "\n",
       "<rect x=\"0\" y=\"0\" width=\"800\" height=\"600\" fill=\"#ffffff\"/>\n",
       "<defs>\n",
       "\n",
       "\t<circle id='gpDot' r='0.5' stroke-width='0.5'/>\n",
       "\t<path id='gpPt0' stroke-width='0.222' stroke='currentColor' d='M-1,0 h2 M0,-1 v2'/>\n",
       "\t<path id='gpPt1' stroke-width='0.222' stroke='currentColor' d='M-1,-1 L1,1 M1,-1 L-1,1'/>\n",
       "\t<path id='gpPt2' stroke-width='0.222' stroke='currentColor' d='M-1,0 L1,0 M0,-1 L0,1 M-1,-1 L1,1 M-1,1 L1,-1'/>\n",
       "\t<rect id='gpPt3' stroke-width='0.222' stroke='currentColor' x='-1' y='-1' width='2' height='2'/>\n",
       "\t<rect id='gpPt4' stroke-width='0.222' stroke='currentColor' fill='currentColor' x='-1' y='-1' width='2' height='2'/>\n",
       "\t<circle id='gpPt5' stroke-width='0.222' stroke='currentColor' cx='0' cy='0' r='1'/>\n",
       "\t<use xlink:href='#gpPt5' id='gpPt6' fill='currentColor' stroke='none'/>\n",
       "\t<path id='gpPt7' stroke-width='0.222' stroke='currentColor' d='M0,-1.33 L-1.33,0.67 L1.33,0.67 z'/>\n",
       "\t<use xlink:href='#gpPt7' id='gpPt8' fill='currentColor' stroke='none'/>\n",
       "\t<use xlink:href='#gpPt7' id='gpPt9' stroke='currentColor' transform='rotate(180)'/>\n",
       "\t<use xlink:href='#gpPt9' id='gpPt10' fill='currentColor' stroke='none'/>\n",
       "\t<use xlink:href='#gpPt3' id='gpPt11' stroke='currentColor' transform='rotate(45)'/>\n",
       "\t<use xlink:href='#gpPt11' id='gpPt12' fill='currentColor' stroke='none'/>\n",
       "\t<path id='gpPt13' stroke-width='0.222' stroke='currentColor' d='M0,1.330 L1.265,0.411 L0.782,-1.067 L-0.782,-1.076 L-1.265,0.411 z'/>\n",
       "\t<use xlink:href='#gpPt13' id='gpPt14' fill='currentColor' stroke='none'/>\n",
       "\t<filter id='textbox' filterUnits='objectBoundingBox' x='0' y='0' height='1' width='1'>\n",
       "\t  <feFlood flood-color='#FFFFFF' flood-opacity='1' result='bgnd'/>\n",
       "\t  <feComposite in='SourceGraphic' in2='bgnd' operator='atop'/>\n",
       "\t</filter>\n",
       "\t<filter id='greybox' filterUnits='objectBoundingBox' x='0' y='0' height='1' width='1'>\n",
       "\t  <feFlood flood-color='lightgrey' flood-opacity='1' result='grey'/>\n",
       "\t  <feComposite in='SourceGraphic' in2='grey' operator='atop'/>\n",
       "\t</filter>\n",
       "</defs>\n",
       "<g fill=\"none\" color=\"#FFFFFF\" stroke=\"currentColor\" stroke-width=\"1.00\" stroke-linecap=\"butt\" stroke-linejoin=\"miter\">\n",
       "</g>\n",
       "<g fill=\"none\" color=\"black\" stroke=\"currentColor\" stroke-width=\"1.00\" stroke-linecap=\"butt\" stroke-linejoin=\"miter\">\n",
       "\t<path stroke='black'  d='M78.8,564.0 L87.8,564.0 M775.0,564.0 L766.0,564.0  '/>\t<g transform=\"translate(70.5,568.5)\" stroke=\"none\" fill=\"black\" font-family=\"Arial\" font-size=\"12.00\"  text-anchor=\"end\">\n",
       "\t\t<text><tspan font-family=\"Arial\" > 0</tspan></text>\n",
       "\t</g>\n",
       "</g>\n",
       "<g fill=\"none\" color=\"black\" stroke=\"currentColor\" stroke-width=\"1.00\" stroke-linecap=\"butt\" stroke-linejoin=\"miter\">\n",
       "\t<path stroke='black'  d='M78.8,472.8 L87.8,472.8 M775.0,472.8 L766.0,472.8  '/>\t<g transform=\"translate(70.5,477.3)\" stroke=\"none\" fill=\"black\" font-family=\"Arial\" font-size=\"12.00\"  text-anchor=\"end\">\n",
       "\t\t<text><tspan font-family=\"Arial\" > 200000</tspan></text>\n",
       "\t</g>\n",
       "</g>\n",
       "<g fill=\"none\" color=\"black\" stroke=\"currentColor\" stroke-width=\"1.00\" stroke-linecap=\"butt\" stroke-linejoin=\"miter\">\n",
       "\t<path stroke='black'  d='M78.8,381.6 L87.8,381.6 M775.0,381.6 L766.0,381.6  '/>\t<g transform=\"translate(70.5,386.1)\" stroke=\"none\" fill=\"black\" font-family=\"Arial\" font-size=\"12.00\"  text-anchor=\"end\">\n",
       "\t\t<text><tspan font-family=\"Arial\" > 400000</tspan></text>\n",
       "\t</g>\n",
       "</g>\n",
       "<g fill=\"none\" color=\"black\" stroke=\"currentColor\" stroke-width=\"1.00\" stroke-linecap=\"butt\" stroke-linejoin=\"miter\">\n",
       "\t<path stroke='black'  d='M78.8,290.3 L87.8,290.3 M775.0,290.3 L766.0,290.3  '/>\t<g transform=\"translate(70.5,294.8)\" stroke=\"none\" fill=\"black\" font-family=\"Arial\" font-size=\"12.00\"  text-anchor=\"end\">\n",
       "\t\t<text><tspan font-family=\"Arial\" > 600000</tspan></text>\n",
       "\t</g>\n",
       "</g>\n",
       "<g fill=\"none\" color=\"black\" stroke=\"currentColor\" stroke-width=\"1.00\" stroke-linecap=\"butt\" stroke-linejoin=\"miter\">\n",
       "\t<path stroke='black'  d='M78.8,199.1 L87.8,199.1 M775.0,199.1 L766.0,199.1  '/>\t<g transform=\"translate(70.5,203.6)\" stroke=\"none\" fill=\"black\" font-family=\"Arial\" font-size=\"12.00\"  text-anchor=\"end\">\n",
       "\t\t<text><tspan font-family=\"Arial\" > 800000</tspan></text>\n",
       "\t</g>\n",
       "</g>\n",
       "<g fill=\"none\" color=\"black\" stroke=\"currentColor\" stroke-width=\"1.00\" stroke-linecap=\"butt\" stroke-linejoin=\"miter\">\n",
       "\t<path stroke='black'  d='M78.8,107.9 L87.8,107.9 M775.0,107.9 L766.0,107.9  '/>\t<g transform=\"translate(70.5,112.4)\" stroke=\"none\" fill=\"black\" font-family=\"Arial\" font-size=\"12.00\"  text-anchor=\"end\">\n",
       "\t\t<text><tspan font-family=\"Arial\" > 1x10</tspan><tspan font-family=\"Arial\"  font-size=\"9.6\" dy=\"-6.00px\">6</tspan><tspan font-size=\"12.0\" dy=\"6.00\"></tspan></text>\n",
       "\t</g>\n",
       "</g>\n",
       "<g fill=\"none\" color=\"black\" stroke=\"currentColor\" stroke-width=\"1.00\" stroke-linecap=\"butt\" stroke-linejoin=\"miter\">\n",
       "\t<path stroke='black'  d='M78.8,16.7 L87.8,16.7 M775.0,16.7 L766.0,16.7  '/>\t<g transform=\"translate(70.5,21.2)\" stroke=\"none\" fill=\"black\" font-family=\"Arial\" font-size=\"12.00\"  text-anchor=\"end\">\n",
       "\t\t<text><tspan font-family=\"Arial\" > 1.2x10</tspan><tspan font-family=\"Arial\"  font-size=\"9.6\" dy=\"-6.00px\">6</tspan><tspan font-size=\"12.0\" dy=\"6.00\"></tspan></text>\n",
       "\t</g>\n",
       "</g>\n",
       "<g fill=\"none\" color=\"black\" stroke=\"currentColor\" stroke-width=\"1.00\" stroke-linecap=\"butt\" stroke-linejoin=\"miter\">\n",
       "\t<path stroke='black'  d='M78.8,564.0 L78.8,555.0 M78.8,16.7 L78.8,25.7  '/>\t<g transform=\"translate(78.8,586.5)\" stroke=\"none\" fill=\"black\" font-family=\"Arial\" font-size=\"12.00\"  text-anchor=\"middle\">\n",
       "\t\t<text><tspan font-family=\"Arial\" > 0</tspan></text>\n",
       "\t</g>\n",
       "</g>\n",
       "<g fill=\"none\" color=\"black\" stroke=\"currentColor\" stroke-width=\"1.00\" stroke-linecap=\"butt\" stroke-linejoin=\"miter\">\n",
       "\t<path stroke='black'  d='M148.4,564.0 L148.4,555.0 M148.4,16.7 L148.4,25.7  '/>\t<g transform=\"translate(148.4,586.5)\" stroke=\"none\" fill=\"black\" font-family=\"Arial\" font-size=\"12.00\"  text-anchor=\"middle\">\n",
       "\t\t<text><tspan font-family=\"Arial\" > 5</tspan></text>\n",
       "\t</g>\n",
       "</g>\n",
       "<g fill=\"none\" color=\"black\" stroke=\"currentColor\" stroke-width=\"1.00\" stroke-linecap=\"butt\" stroke-linejoin=\"miter\">\n",
       "\t<path stroke='black'  d='M218.0,564.0 L218.0,555.0 M218.0,16.7 L218.0,25.7  '/>\t<g transform=\"translate(218.0,586.5)\" stroke=\"none\" fill=\"black\" font-family=\"Arial\" font-size=\"12.00\"  text-anchor=\"middle\">\n",
       "\t\t<text><tspan font-family=\"Arial\" > 10</tspan></text>\n",
       "\t</g>\n",
       "</g>\n",
       "<g fill=\"none\" color=\"black\" stroke=\"currentColor\" stroke-width=\"1.00\" stroke-linecap=\"butt\" stroke-linejoin=\"miter\">\n",
       "\t<path stroke='black'  d='M287.7,564.0 L287.7,555.0 M287.7,16.7 L287.7,25.7  '/>\t<g transform=\"translate(287.7,586.5)\" stroke=\"none\" fill=\"black\" font-family=\"Arial\" font-size=\"12.00\"  text-anchor=\"middle\">\n",
       "\t\t<text><tspan font-family=\"Arial\" > 15</tspan></text>\n",
       "\t</g>\n",
       "</g>\n",
       "<g fill=\"none\" color=\"black\" stroke=\"currentColor\" stroke-width=\"1.00\" stroke-linecap=\"butt\" stroke-linejoin=\"miter\">\n",
       "\t<path stroke='black'  d='M357.3,564.0 L357.3,555.0 M357.3,16.7 L357.3,25.7  '/>\t<g transform=\"translate(357.3,586.5)\" stroke=\"none\" fill=\"black\" font-family=\"Arial\" font-size=\"12.00\"  text-anchor=\"middle\">\n",
       "\t\t<text><tspan font-family=\"Arial\" > 20</tspan></text>\n",
       "\t</g>\n",
       "</g>\n",
       "<g fill=\"none\" color=\"black\" stroke=\"currentColor\" stroke-width=\"1.00\" stroke-linecap=\"butt\" stroke-linejoin=\"miter\">\n",
       "\t<path stroke='black'  d='M426.9,564.0 L426.9,555.0 M426.9,16.7 L426.9,25.7  '/>\t<g transform=\"translate(426.9,586.5)\" stroke=\"none\" fill=\"black\" font-family=\"Arial\" font-size=\"12.00\"  text-anchor=\"middle\">\n",
       "\t\t<text><tspan font-family=\"Arial\" > 25</tspan></text>\n",
       "\t</g>\n",
       "</g>\n",
       "<g fill=\"none\" color=\"black\" stroke=\"currentColor\" stroke-width=\"1.00\" stroke-linecap=\"butt\" stroke-linejoin=\"miter\">\n",
       "\t<path stroke='black'  d='M496.5,564.0 L496.5,555.0 M496.5,16.7 L496.5,25.7  '/>\t<g transform=\"translate(496.5,586.5)\" stroke=\"none\" fill=\"black\" font-family=\"Arial\" font-size=\"12.00\"  text-anchor=\"middle\">\n",
       "\t\t<text><tspan font-family=\"Arial\" > 30</tspan></text>\n",
       "\t</g>\n",
       "</g>\n",
       "<g fill=\"none\" color=\"black\" stroke=\"currentColor\" stroke-width=\"1.00\" stroke-linecap=\"butt\" stroke-linejoin=\"miter\">\n",
       "\t<path stroke='black'  d='M566.1,564.0 L566.1,555.0 M566.1,16.7 L566.1,25.7  '/>\t<g transform=\"translate(566.1,586.5)\" stroke=\"none\" fill=\"black\" font-family=\"Arial\" font-size=\"12.00\"  text-anchor=\"middle\">\n",
       "\t\t<text><tspan font-family=\"Arial\" > 35</tspan></text>\n",
       "\t</g>\n",
       "</g>\n",
       "<g fill=\"none\" color=\"black\" stroke=\"currentColor\" stroke-width=\"1.00\" stroke-linecap=\"butt\" stroke-linejoin=\"miter\">\n",
       "\t<path stroke='black'  d='M635.8,564.0 L635.8,555.0 M635.8,16.7 L635.8,25.7  '/>\t<g transform=\"translate(635.8,586.5)\" stroke=\"none\" fill=\"black\" font-family=\"Arial\" font-size=\"12.00\"  text-anchor=\"middle\">\n",
       "\t\t<text><tspan font-family=\"Arial\" > 40</tspan></text>\n",
       "\t</g>\n",
       "</g>\n",
       "<g fill=\"none\" color=\"black\" stroke=\"currentColor\" stroke-width=\"1.00\" stroke-linecap=\"butt\" stroke-linejoin=\"miter\">\n",
       "\t<path stroke='black'  d='M705.4,564.0 L705.4,555.0 M705.4,16.7 L705.4,25.7  '/>\t<g transform=\"translate(705.4,586.5)\" stroke=\"none\" fill=\"black\" font-family=\"Arial\" font-size=\"12.00\"  text-anchor=\"middle\">\n",
       "\t\t<text><tspan font-family=\"Arial\" > 45</tspan></text>\n",
       "\t</g>\n",
       "</g>\n",
       "<g fill=\"none\" color=\"black\" stroke=\"currentColor\" stroke-width=\"1.00\" stroke-linecap=\"butt\" stroke-linejoin=\"miter\">\n",
       "\t<path stroke='black'  d='M775.0,564.0 L775.0,555.0 M775.0,16.7 L775.0,25.7  '/>\t<g transform=\"translate(775.0,586.5)\" stroke=\"none\" fill=\"black\" font-family=\"Arial\" font-size=\"12.00\"  text-anchor=\"middle\">\n",
       "\t\t<text><tspan font-family=\"Arial\" > 50</tspan></text>\n",
       "\t</g>\n",
       "</g>\n",
       "<g fill=\"none\" color=\"black\" stroke=\"currentColor\" stroke-width=\"1.00\" stroke-linecap=\"butt\" stroke-linejoin=\"miter\">\n",
       "</g>\n",
       "<g fill=\"none\" color=\"black\" stroke=\"currentColor\" stroke-width=\"1.00\" stroke-linecap=\"butt\" stroke-linejoin=\"miter\">\n",
       "\t<path stroke='black'  d='M78.8,16.7 L78.8,564.0 L775.0,564.0 L775.0,16.7 L78.8,16.7 Z  '/></g>\n",
       "<g fill=\"none\" color=\"black\" stroke=\"currentColor\" stroke-width=\"1.00\" stroke-linecap=\"butt\" stroke-linejoin=\"miter\">\n",
       "</g>\n",
       "\t<g id=\"gnuplot_plot_1\" ><title>P=2</title>\n",
       "<g fill=\"none\" color=\"black\" stroke=\"currentColor\" stroke-width=\"1.00\" stroke-linecap=\"butt\" stroke-linejoin=\"miter\">\n",
       "\t<g transform=\"translate(707.9,39.2)\" stroke=\"none\" fill=\"black\" font-family=\"Arial\" font-size=\"12.00\"  text-anchor=\"end\">\n",
       "\t\t<text><tspan font-family=\"Arial\" >P=2</tspan></text>\n",
       "\t</g>\n",
       "</g>\n",
       "<g fill=\"none\" color=\"black\" stroke=\"currentColor\" stroke-width=\"1.00\" stroke-linecap=\"butt\" stroke-linejoin=\"miter\">\n",
       "\t<path stroke='rgb(  0,   0, 255)'  d='M716.2,34.7 L758.4,34.7 M106.6,554.2 L134.5,553.4 L190.2,551.7 L301.6,548.6 L524.4,545.4 L747.2,543.6\n",
       "\t\t '/>\t<use xlink:href='#gpPt1' transform='translate(106.6,554.2) scale(4.50)' color='rgb(  0,   0, 255)'/>\n",
       "\t<use xlink:href='#gpPt1' transform='translate(134.5,553.4) scale(4.50)' color='rgb(  0,   0, 255)'/>\n",
       "\t<use xlink:href='#gpPt1' transform='translate(190.2,551.7) scale(4.50)' color='rgb(  0,   0, 255)'/>\n",
       "\t<use xlink:href='#gpPt1' transform='translate(301.6,548.6) scale(4.50)' color='rgb(  0,   0, 255)'/>\n",
       "\t<use xlink:href='#gpPt1' transform='translate(524.4,545.4) scale(4.50)' color='rgb(  0,   0, 255)'/>\n",
       "\t<use xlink:href='#gpPt1' transform='translate(747.2,543.6) scale(4.50)' color='rgb(  0,   0, 255)'/>\n",
       "\t<use xlink:href='#gpPt1' transform='translate(737.3,34.7) scale(4.50)' color='rgb(  0,   0, 255)'/>\n",
       "</g>\n",
       "\t</g>\n",
       "\t<g id=\"gnuplot_plot_2\" ><title>P=3</title>\n",
       "<g fill=\"none\" color=\"black\" stroke=\"currentColor\" stroke-width=\"1.00\" stroke-linecap=\"butt\" stroke-linejoin=\"miter\">\n",
       "\t<g transform=\"translate(707.9,57.2)\" stroke=\"none\" fill=\"black\" font-family=\"Arial\" font-size=\"12.00\"  text-anchor=\"end\">\n",
       "\t\t<text><tspan font-family=\"Arial\" >P=3</tspan></text>\n",
       "\t</g>\n",
       "</g>\n",
       "<g fill=\"none\" color=\"black\" stroke=\"currentColor\" stroke-width=\"1.00\" stroke-linecap=\"butt\" stroke-linejoin=\"miter\">\n",
       "\t<path stroke='rgb(255,   0,   0)'  d='M716.2,52.7 L758.4,52.7 M106.6,525.7 L134.5,523.6 L190.2,515.5 L301.6,508.7 L524.4,511.5 L747.2,509.0\n",
       "\t\t '/>\t<use xlink:href='#gpPt5' transform='translate(106.6,525.7) scale(4.50)' color='rgb(255,   0,   0)'/>\n",
       "\t<use xlink:href='#gpPt5' transform='translate(134.5,523.6) scale(4.50)' color='rgb(255,   0,   0)'/>\n",
       "\t<use xlink:href='#gpPt5' transform='translate(190.2,515.5) scale(4.50)' color='rgb(255,   0,   0)'/>\n",
       "\t<use xlink:href='#gpPt5' transform='translate(301.6,508.7) scale(4.50)' color='rgb(255,   0,   0)'/>\n",
       "\t<use xlink:href='#gpPt5' transform='translate(524.4,511.5) scale(4.50)' color='rgb(255,   0,   0)'/>\n",
       "\t<use xlink:href='#gpPt5' transform='translate(747.2,509.0) scale(4.50)' color='rgb(255,   0,   0)'/>\n",
       "\t<use xlink:href='#gpPt5' transform='translate(737.3,52.7) scale(4.50)' color='rgb(255,   0,   0)'/>\n",
       "</g>\n",
       "\t</g>\n",
       "\t<g id=\"gnuplot_plot_3\" ><title>P=5</title>\n",
       "<g fill=\"none\" color=\"black\" stroke=\"currentColor\" stroke-width=\"1.00\" stroke-linecap=\"butt\" stroke-linejoin=\"miter\">\n",
       "\t<g transform=\"translate(707.9,75.2)\" stroke=\"none\" fill=\"black\" font-family=\"Arial\" font-size=\"12.00\"  text-anchor=\"end\">\n",
       "\t\t<text><tspan font-family=\"Arial\" >P=5</tspan></text>\n",
       "\t</g>\n",
       "</g>\n",
       "<g fill=\"none\" color=\"black\" stroke=\"currentColor\" stroke-width=\"1.00\" stroke-linecap=\"butt\" stroke-linejoin=\"miter\">\n",
       "\t<path stroke='rgb(255,   0, 255)'  d='M716.2,70.7 L758.4,70.7 M106.6,563.0 L134.5,562.7 L190.2,562.3 L301.6,358.5 L524.4,50.7 L524.4,536.5\n",
       "\t\tL747.2,282.2 L747.2,328.8 L747.2,562.3  '/>\t<use xlink:href='#gpPt2' transform='translate(106.6,563.0) scale(4.50)' color='rgb(255,   0, 255)'/>\n",
       "\t<use xlink:href='#gpPt2' transform='translate(134.5,562.7) scale(4.50)' color='rgb(255,   0, 255)'/>\n",
       "\t<use xlink:href='#gpPt2' transform='translate(190.2,562.3) scale(4.50)' color='rgb(255,   0, 255)'/>\n",
       "\t<use xlink:href='#gpPt2' transform='translate(301.6,358.5) scale(4.50)' color='rgb(255,   0, 255)'/>\n",
       "\t<use xlink:href='#gpPt2' transform='translate(524.4,50.7) scale(4.50)' color='rgb(255,   0, 255)'/>\n",
       "\t<use xlink:href='#gpPt2' transform='translate(524.4,536.5) scale(4.50)' color='rgb(255,   0, 255)'/>\n",
       "\t<use xlink:href='#gpPt2' transform='translate(747.2,282.2) scale(4.50)' color='rgb(255,   0, 255)'/>\n",
       "\t<use xlink:href='#gpPt2' transform='translate(747.2,328.8) scale(4.50)' color='rgb(255,   0, 255)'/>\n",
       "\t<use xlink:href='#gpPt2' transform='translate(747.2,562.3) scale(4.50)' color='rgb(255,   0, 255)'/>\n",
       "\t<use xlink:href='#gpPt2' transform='translate(737.3,70.7) scale(4.50)' color='rgb(255,   0, 255)'/>\n",
       "</g>\n",
       "\t</g>\n",
       "<g fill=\"none\" color=\"#FFFFFF\" stroke=\"rgb(255,   0, 255)\" stroke-width=\"2.00\" stroke-linecap=\"butt\" stroke-linejoin=\"miter\">\n",
       "</g>\n",
       "<g fill=\"none\" color=\"black\" stroke=\"currentColor\" stroke-width=\"2.00\" stroke-linecap=\"butt\" stroke-linejoin=\"miter\">\n",
       "</g>\n",
       "<g fill=\"none\" color=\"black\" stroke=\"black\" stroke-width=\"1.00\" stroke-linecap=\"butt\" stroke-linejoin=\"miter\">\n",
       "</g>\n",
       "<g fill=\"none\" color=\"black\" stroke=\"currentColor\" stroke-width=\"1.00\" stroke-linecap=\"butt\" stroke-linejoin=\"miter\">\n",
       "\t<path stroke='black'  d='M78.8,16.7 L78.8,564.0 L775.0,564.0 L775.0,16.7 L78.8,16.7 Z  '/></g>\n",
       "<g fill=\"none\" color=\"black\" stroke=\"currentColor\" stroke-width=\"1.00\" stroke-linecap=\"butt\" stroke-linejoin=\"miter\">\n",
       "</g>\n",
       "</g>\n",
       "</svg>\n",
       "\n"
      ]
     },
     "execution_count": 135,
     "metadata": {},
     "output_type": "execute_result"
    }
   ],
   "source": [
    "Plot(memVsCores(0).Select(tt => tt.Item1), memVsCores(0).Select(tt => tt.Item2), \"P=2\", \"-xb\",\n",
    "     memVsCores(1).Select(tt => tt.Item1), memVsCores(1).Select(tt => tt.Item2), \"P=3\", \"-or\",\n",
    "     memVsCores(2).Select(tt => tt.Item1), memVsCores(2).Select(tt => tt.Item2), \"P=5\", \"-*m\")"
   ]
  },
  {
   "cell_type": "code",
   "execution_count": null,
   "metadata": {
    "dotnet_interactive": {
     "language": "csharp"
    },
    "polyglot_notebook": {
     "kernelName": "csharp"
    }
   },
   "outputs": [],
   "source": []
  }
 ],
 "metadata": {
  "kernelspec": {
   "display_name": ".NET (C#)",
   "language": "C#",
   "name": ".net-csharp"
  },
  "language_info": {
   "name": "polyglot-notebook"
  },
  "polyglot_notebook": {
   "kernelInfo": {
    "defaultKernelName": "csharp",
    "items": [
     {
      "aliases": [],
      "name": "csharp"
     }
    ]
   }
  }
 },
 "nbformat": 4,
 "nbformat_minor": 2
}

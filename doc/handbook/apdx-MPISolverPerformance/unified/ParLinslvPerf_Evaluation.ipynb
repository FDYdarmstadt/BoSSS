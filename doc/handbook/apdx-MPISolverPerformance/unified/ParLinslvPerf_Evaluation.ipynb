{
 "cells": [
  {
   "cell_type": "markdown",
   "metadata": {},
   "source": [
    "# Linear Solver Performance: Evaluation of MPI Parallel Benchmarks"
   ]
  },
  {
   "cell_type": "code",
   "execution_count": null,
   "metadata": {
    "dotnet_interactive": {
     "language": "csharp"
    },
    "vscode": {
     "languageId": "dotnet-interactive.csharp"
    }
   },
   "outputs": [],
   "source": [
    "Console.WriteLine(\"Execution Date/time is \" + DateTime.Now);"
   ]
  },
  {
   "cell_type": "code",
   "execution_count": null,
   "metadata": {
    "dotnet_interactive": {
     "language": "csharp"
    },
    "vscode": {
     "languageId": "dotnet-interactive.csharp"
    }
   },
   "outputs": [],
   "source": [
    "#r \"BoSSSpad.dll\"\n",
    "//#r \"../../../../src/L4-application/BoSSSpad/bin/Debug/net6.0/BoSSSpad.dll\"\n",
    "using System;\n",
    "using System.Collections.Generic;\n",
    "using System.Linq;\n",
    "using ilPSP;\n",
    "using ilPSP.Utils;\n",
    "using BoSSS.Platform;\n",
    "using BoSSS.Platform.LinAlg;\n",
    "using BoSSS.Foundation;\n",
    "using BoSSS.Foundation.XDG;\n",
    "using BoSSS.Foundation.Grid;\n",
    "using BoSSS.Foundation.Grid.Classic;\n",
    "using BoSSS.Foundation.Grid.RefElements;\n",
    "using BoSSS.Foundation.IO;\n",
    "using BoSSS.Solution;\n",
    "using BoSSS.Solution.Control;\n",
    "using BoSSS.Solution.GridImport;\n",
    "using BoSSS.Solution.Statistic;\n",
    "using BoSSS.Solution.Utils;\n",
    "using BoSSS.Solution.AdvancedSolvers;\n",
    "using BoSSS.Solution.Gnuplot;\n",
    "using BoSSS.Application.BoSSSpad;\n",
    "using BoSSS.Application.XNSE_Solver;\n",
    "using static BoSSS.Application.BoSSSpad.BoSSSshell;\n",
    "Init();"
   ]
  },
  {
   "cell_type": "code",
   "execution_count": null,
   "metadata": {
    "dotnet_interactive": {
     "language": "csharp"
    },
    "vscode": {
     "languageId": "dotnet-interactive.csharp"
    }
   },
   "outputs": [],
   "source": [
    "string PROJECT_NAME = System.Environment.GetEnvironmentVariable(\"LinslvPerfPar\") ?? \"LinslvPerfPar\"; // this allows to modify the project name for testing purposes\n",
    "wmg.Init(PROJECT_NAME);\n",
    "wmg.SetNameBasedSessionJobControlCorrelation();\n",
    "wmg.AllJobs"
   ]
  },
  {
   "cell_type": "code",
   "execution_count": null,
   "metadata": {
    "dotnet_interactive": {
     "language": "csharp"
    },
    "vscode": {
     "languageId": "dotnet-interactive.csharp"
    }
   },
   "outputs": [],
   "source": [
    "databases"
   ]
  },
  {
   "cell_type": "code",
   "execution_count": null,
   "metadata": {
    "dotnet_interactive": {
     "language": "csharp"
    },
    "vscode": {
     "languageId": "dotnet-interactive.csharp"
    }
   },
   "outputs": [],
   "source": [
    "wmg.Sessions"
   ]
  },
  {
   "cell_type": "code",
   "execution_count": null,
   "metadata": {},
   "outputs": [],
   "source": [
    "//var SS = wmg.Sessions[14];\n",
    "//SS"
   ]
  },
  {
   "cell_type": "code",
   "execution_count": null,
   "metadata": {},
   "outputs": [],
   "source": [
    "//SS.Delete(true)"
   ]
  },
  {
   "cell_type": "code",
   "execution_count": null,
   "metadata": {},
   "outputs": [],
   "source": [
    "//SS.KeysAndQueries[\"Conv\"]"
   ]
  },
  {
   "cell_type": "code",
   "execution_count": null,
   "metadata": {},
   "outputs": [],
   "source": [
    "//foreach(var si in wmg.Sessions.Where(Si => Si.Name.Contains(\"GridCration\")))\n",
    "//    si.Delete(true);"
   ]
  },
  {
   "cell_type": "code",
   "execution_count": null,
   "metadata": {},
   "outputs": [],
   "source": [
    "//wmg.Sessions.Where(Si => !Si.Name.Contains(\"GridCreation\") && !Si.KeysAndQueries.ContainsKey(\"Conv\"))"
   ]
  },
  {
   "cell_type": "code",
   "execution_count": null,
   "metadata": {
    "dotnet_interactive": {
     "language": "csharp"
    },
    "vscode": {
     "languageId": "dotnet-interactive.csharp"
    }
   },
   "outputs": [],
   "source": [
    "var FailedSessions = wmg.Sessions.Where(Si => !Si.Name.Contains(\"GridCreation\") &&\n",
    "                                              (Si.SuccessfulTermination == false\n",
    "                                              || Convert.ToInt32(Si.KeysAndQueries[\"Conv\"]) == 0));\n",
    "FailedSessions"
   ]
  },
  {
   "cell_type": "code",
   "execution_count": null,
   "metadata": {},
   "outputs": [],
   "source": [
    "var SuccessSessions = wmg.Sessions.Where(Si => !Si.Name.Contains(\"GridCreation\") &&\n",
    "                                              Si.Name.Contains(\"XdgStokes\") &&\n",
    "                                              (Si.SuccessfulTermination == true\n",
    "                                              && Convert.ToInt32(Si.KeysAndQueries[\"Conv\"]) != 0));\n",
    "SuccessSessions"
   ]
  },
  {
   "cell_type": "markdown",
   "metadata": {},
   "source": [
    "## Create Table for Post-Processing"
   ]
  },
  {
   "cell_type": "markdown",
   "metadata": {},
   "source": [
    "The timing information that is requires for this study is not present in the default session table.\n",
    "Instead, it must be extracted from the *session profiling*.\n",
    "\n",
    "To obtain timing-measurements, the instrumentation generated by certain `BlockTrace`-blocks \n",
    "within the `UniSolver`, resp. the `XdgBDFTimestepping` class is extracted and added to the data table:"
   ]
  },
  {
   "cell_type": "code",
   "execution_count": null,
   "metadata": {
    "dotnet_interactive": {
     "language": "csharp"
    },
    "vscode": {
     "languageId": "dotnet-interactive.csharp"
    }
   },
   "outputs": [],
   "source": [
    "// evaluators to add additional columns to the session table\n",
    "static class AddCols {\n",
    "    static int GetSolType(ISessionInfo SI) {\n",
    "        if(SI.GetControl().GetSolverType().Name.Contains(\"XNSE\"))\n",
    "            return 3;\n",
    "        if(SI.GetControl().GetSolverType().Name.Contains(\"XdgPoisson3Main\"))\n",
    "            return 2;\n",
    "        return 1;\n",
    "    }\n",
    "    \n",
    "    \n",
    "    static public object XdgMatrixAssembly_time(ISessionInfo SI) {\n",
    "        var mcr = SI.GetProfiling(0)[0];\n",
    "        ilPSP.Tracing.MethodCallRecord nd;\n",
    "        if(GetSolType(SI) == 3)\n",
    "            nd = mcr.FindChildren(\"*.XdgTimestepping.ComputeOperatorMatrix\").Single();\n",
    "        else \n",
    "            nd  = mcr.FindChildren(\"MatrixAssembly\").Single();\n",
    "        //var nd  = ndS.ElementAt(0);\n",
    "        return nd.TimeSpentInMethod.TotalSeconds  / nd.CallCount;\n",
    "    }\n",
    "    static public object Aggregation_basis_init_time(ISessionInfo SI) {\n",
    "        var mcr = SI.GetProfiling(0)[0];\n",
    "        var nd  = mcr.FindChildren(\"Aggregation_basis_init\").Single();\n",
    "        //var nd  = ndS.ElementAt(0);\n",
    "        return nd.TimeSpentInMethod.TotalSeconds  / nd.CallCount;\n",
    "    }\n",
    "    static public object Solver_Init_time(ISessionInfo SI) {\n",
    "        var mcr = SI.GetProfiling(0)[0];\n",
    "        var nd  = mcr.FindChildren(\"Solver_Init\").Single();\n",
    "        //var nd  = ndS.ElementAt(0);\n",
    "        //Console.WriteLine(\"Number of nodes: \" + ndS.Count() + \" cc \" + nd.CallCount );\n",
    "        return nd.TimeSpentInMethod.TotalSeconds / nd.CallCount;\n",
    "    }\n",
    "    static public object Solver_Run_time(ISessionInfo SI) {\n",
    "        var mcr = SI.GetProfiling(0)[0];\n",
    "        var nd  = mcr.FindChildren(\"Solver_Run\").Single();\n",
    "        //var nd  = ndS.ElementAt(0);\n",
    "        return nd.TimeSpentInMethod.TotalSeconds  / nd.CallCount;\n",
    "    }\n",
    "    static public object Solver_InitAndRun_time(ISessionInfo SI) {\n",
    "        double agitime = (double) Aggregation_basis_init_time(SI);\n",
    "        double initime = (double) Solver_Init_time(SI);\n",
    "        double runtime = (double) Solver_Run_time(SI);\n",
    "        \n",
    "        return agitime + initime + runtime;\n",
    "    }\n",
    "    static public object Solver_TimePerIter(ISessionInfo SI) {\n",
    "        double runtime = (double) Solver_Run_time(SI);\n",
    "        double NoOfItr = Convert.ToDouble(SI.KeysAndQueries[\"NoIter\"]);\n",
    "        return runtime/NoOfItr;\n",
    "    }\n",
    "    static public object NoOfCores(ISessionInfo SI){\n",
    "        return SI.GetProfiling().Length;\n",
    "    }\n",
    "    static public object DOFsPerCore(ISessionInfo SI){\n",
    "        return  System.Convert.ToDouble(SI.KeysAndQueries[\"DOFs\"])/System.Convert.ToDouble(NoOfCores(SI));\n",
    "    }\n",
    "    static public object ComputeNodeName(ISessionInfo SI) {\n",
    "        return SI.ComputeNodeNames.First();\n",
    "    }\n",
    "    static public object SessionNameWoSize(ISessionInfo SI) {\n",
    "        string Nmn = SI.Name;\n",
    "        return Nmn.Substring(0,Nmn.IndexOf(\"Sz\")-1);\n",
    "    }\n",
    "    \n",
    "    //static public object DOFs(ISessionInfo SI) {\n",
    "    //    int NoOfItr = Convert.ToInt32(SI.KeysAndQueries[\"NoIter\"]);\n",
    "    //    return NoOfItr;\n",
    "    //}\n",
    "    \n",
    "    static public object DGdegree(ISessionInfo SI) {\n",
    "        switch(GetSolType(SI)) {\n",
    "            case 3:\n",
    "            return SI.KeysAndQueries.Single(kv => kv.Key.Contains(\"DGdegree:Velocity\")).Value;\n",
    "            case 2:\n",
    "            return SI.KeysAndQueries.Single(kv => kv.Key == \"DGdegree:u\").Value;    \n",
    "            case 1:\n",
    "            return SI.KeysAndQueries.Single(kv => kv.Key == \"DGdegree:T\").Value;\n",
    "        }\n",
    "        throw new ArgumentException();\n",
    "    }\n",
    "}"
   ]
  },
  {
   "cell_type": "code",
   "execution_count": null,
   "metadata": {
    "dotnet_interactive": {
     "language": "csharp"
    },
    "vscode": {
     "languageId": "dotnet-interactive.csharp"
    }
   },
   "outputs": [],
   "source": [
    "wmg.AdditionalSessionTableColums.Clear();\n",
    "wmg.AdditionalSessionTableColums.Add(\"MatrixAssembly\", AddCols.XdgMatrixAssembly_time);\n",
    "wmg.AdditionalSessionTableColums.Add(\"Aggregation_basis_init_time\", AddCols.Aggregation_basis_init_time);\n",
    "wmg.AdditionalSessionTableColums.Add(\"Solver_Init_time\", AddCols.Solver_Init_time);\n",
    "wmg.AdditionalSessionTableColums.Add(\"Solver_Run_time\", AddCols.Solver_Run_time);\n",
    "wmg.AdditionalSessionTableColums.Add(\"Solver_InitAndRun_time\", AddCols.Solver_InitAndRun_time);\n",
    "wmg.AdditionalSessionTableColums.Add(\"Solver_TimePerIter\", AddCols.Solver_TimePerIter);\n",
    "wmg.AdditionalSessionTableColums.Add(\"NoOfCores\", AddCols.NoOfCores);\n",
    "wmg.AdditionalSessionTableColums.Add(\"ComputeNodeName\", AddCols.ComputeNodeName);\n",
    "wmg.AdditionalSessionTableColums.Add(\"DGdegree\", AddCols.DGdegree);\n",
    "wmg.AdditionalSessionTableColums.Add(\"DOFsPerCore\", AddCols.DOFsPerCore);\n",
    "wmg.AdditionalSessionTableColums.Add(\"SessionNameWoSize\", AddCols.SessionNameWoSize);"
   ]
  },
  {
   "cell_type": "code",
   "execution_count": null,
   "metadata": {
    "dotnet_interactive": {
     "language": "csharp"
    },
    "vscode": {
     "languageId": "dotnet-interactive.csharp"
    }
   },
   "outputs": [],
   "source": [
    "var SessTab = wmg.SessionTable;"
   ]
  },
  {
   "cell_type": "code",
   "execution_count": null,
   "metadata": {},
   "outputs": [],
   "source": [
    "//SessTab.ToCSVFile(\"SessTab.csv\");"
   ]
  },
  {
   "cell_type": "markdown",
   "metadata": {},
   "source": [
    "List of all available Data Columns:"
   ]
  },
  {
   "cell_type": "code",
   "execution_count": null,
   "metadata": {
    "dotnet_interactive": {
     "language": "csharp"
    },
    "vscode": {
     "languageId": "dotnet-interactive.csharp"
    }
   },
   "outputs": [],
   "source": [
    "//SessTab.GetColumnNames().ToConcatString(\"\", \"; \", \"\")"
   ]
  },
  {
   "cell_type": "code",
   "execution_count": null,
   "metadata": {
    "dotnet_interactive": {
     "language": "csharp"
    },
    "vscode": {
     "languageId": "dotnet-interactive.csharp"
    }
   },
   "outputs": [],
   "source": [
    "var SubTab = SessTab.ExtractColumns(\n",
    "    \"SessionName\", \"SessionNameWoSize\", \"DGdegree\", \"Grid:NoOfCells\", \"LinearSolver.Name\", \"LinearSolver.Shortname\", \"DOFs\", \"DOFsPerCore\", \"MatrixAssembly\",\n",
    "    \"Grid:SpatialDimension\", \"NoOfCores\",\n",
    "    \"Aggregation_basis_init_time\", \"Solver_Init_time\", \"Solver_Run_time\", \"Solver_InitAndRun_time\", \"NoIter\", \n",
    "    \"Solver_TimePerIter\", \"ComputeNodeName\", \"RegularTerminated\");"
   ]
  },
  {
   "cell_type": "code",
   "execution_count": null,
   "metadata": {},
   "outputs": [],
   "source": [
    "// remove all rows from \"Dummy\" sessions for grid creation\n",
    "SubTab = SubTab.ExtractRows(delegate(int iRow, IDictionary<string, object> row) {\n",
    "    return !((string)row[\"SessionName\"]).Contains(\"GridCreation\");\n",
    "});"
   ]
  },
  {
   "cell_type": "code",
   "execution_count": null,
   "metadata": {
    "dotnet_interactive": {
     "language": "csharp"
    },
    "vscode": {
     "languageId": "dotnet-interactive.csharp"
    }
   },
   "outputs": [],
   "source": [
    "// Filename\n",
    "var now         = DateTime.Now;\n",
    "string docName  = wmg.CurrentProject + \"_\" + now.Year + \"-\" + now.Month + \"-\" + now.Day;\n",
    "SubTab.SaveToFile(docName + \".json\");\n",
    "SubTab.ToCSVFile(docName + \".csv\");"
   ]
  },
  {
   "cell_type": "markdown",
   "metadata": {},
   "source": [
    "Only consider runs which have been successful:"
   ]
  },
  {
   "cell_type": "code",
   "execution_count": null,
   "metadata": {
    "dotnet_interactive": {
     "language": "csharp"
    },
    "vscode": {
     "languageId": "dotnet-interactive.csharp"
    }
   },
   "outputs": [],
   "source": [
    "SubTab = SubTab.ExtractRows(delegate(int iRow, IDictionary<string, object> row) {\n",
    "    return (bool)(row[\"RegularTerminated\"]);\n",
    "});"
   ]
  },
  {
   "cell_type": "code",
   "execution_count": null,
   "metadata": {},
   "outputs": [],
   "source": [
    "//SubTab.ToCSVFile(\"SubTab.csv\");"
   ]
  },
  {
   "cell_type": "markdown",
   "metadata": {},
   "source": [
    "## Vizualisation of Results"
   ]
  },
  {
   "cell_type": "markdown",
   "metadata": {},
   "source": [
    "The following data is available:"
   ]
  },
  {
   "cell_type": "code",
   "execution_count": null,
   "metadata": {
    "dotnet_interactive": {
     "language": "csharp"
    },
    "vscode": {
     "languageId": "dotnet-interactive.csharp"
    }
   },
   "outputs": [],
   "source": [
    "SubTab.GetColumnNames()"
   ]
  },
  {
   "cell_type": "markdown",
   "metadata": {},
   "source": [
    "Available DG degrees:"
   ]
  },
  {
   "cell_type": "code",
   "execution_count": null,
   "metadata": {
    "dotnet_interactive": {
     "language": "csharp"
    },
    "vscode": {
     "languageId": "dotnet-interactive.csharp"
    }
   },
   "outputs": [],
   "source": [
    "var DGdegrees = SubTab.GetColumn<int>(\"DGdegree\").ToSet().OrderBy(s => s).ToArray();\n",
    "DGdegrees"
   ]
  },
  {
   "cell_type": "markdown",
   "metadata": {},
   "source": [
    "Available Grid Resolutions:"
   ]
  },
  {
   "cell_type": "code",
   "execution_count": null,
   "metadata": {
    "dotnet_interactive": {
     "language": "csharp"
    },
    "vscode": {
     "languageId": "dotnet-interactive.csharp"
    }
   },
   "outputs": [],
   "source": [
    "var ResolutionS = SubTab.GetColumn<int>(\"Grid:NoOfCells\").ToSet().OrderBy(s => s).ToArray();\n",
    "ResolutionS"
   ]
  },
  {
   "cell_type": "code",
   "execution_count": null,
   "metadata": {
    "dotnet_interactive": {
     "language": "csharp"
    },
    "vscode": {
     "languageId": "dotnet-interactive.csharp"
    }
   },
   "outputs": [],
   "source": [
    "var MPIsizeS = SubTab.GetColumn<int>(\"NoOfCores\").ToSet().OrderBy(s => s).ToArray();\n",
    "MPIsizeS"
   ]
  },
  {
   "cell_type": "markdown",
   "metadata": {},
   "source": [
    "Cases investigated:"
   ]
  },
  {
   "cell_type": "code",
   "execution_count": null,
   "metadata": {
    "dotnet_interactive": {
     "language": "csharp"
    },
    "vscode": {
     "languageId": "dotnet-interactive.csharp"
    }
   },
   "outputs": [],
   "source": [
    "const string Poisson = \"SIP_Poisson\";\n",
    "const string XPoisson = \"XdgPoisson\";\n",
    "const string Stokes2D = \"BottiPietroStokes2D\";\n",
    "const string Stokes3D = \"BottiPietroStokes3D\";\n",
    "const string XStokes = \"XdgStokes\";\n",
    "string[] AllCases = new string[] { Poisson, XPoisson, Stokes2D, Stokes3D, XStokes };"
   ]
  },
  {
   "cell_type": "markdown",
   "metadata": {},
   "source": [
    "### Macro Routine for Multiplot\n",
    "\n",
    "The following routine combines the plotting code which is common for all sub-plot in this evaluation;\n",
    "only the y-axis needs to be specified. "
   ]
  },
  {
   "cell_type": "code",
   "execution_count": null,
   "metadata": {
    "dotnet_interactive": {
     "language": "csharp"
    },
    "vscode": {
     "languageId": "dotnet-interactive.csharp"
    }
   },
   "outputs": [],
   "source": [
    "int MaxMpiSize(int J, int k) {\n",
    "    int sz = -1;\n",
    "    int L = SubTab.Rows.Count;\n",
    "    for (int i = 0; i < L; i++) {\n",
    "        var orgRow = SubTab.Rows[i];\n",
    "        int Res = Convert.ToInt32(orgRow[\"Grid:NoOfCells\"]);\n",
    "        if(Res != J)\n",
    "            continue;\n",
    "        int DgDeg = Convert.ToInt32(orgRow[\"DGdegree\"]);\n",
    "        if(DgDeg != k)\n",
    "            continue;\n",
    "        int sz_i = Convert.ToInt32(orgRow[\"NoOfCores\"]);\n",
    "        sz = Math.Max(sz, sz_i);\n",
    "    }\n",
    "    return sz;\n",
    "}"
   ]
  },
  {
   "cell_type": "code",
   "execution_count": null,
   "metadata": {
    "dotnet_interactive": {
     "language": "csharp"
    },
    "vscode": {
     "languageId": "dotnet-interactive.csharp"
    }
   },
   "outputs": [],
   "source": [
    "PlotFormat SlvCode2Pltfmt(string caseName, int J, int k, int sz_max) { \n",
    "    var Fmt = new PlotFormat();\n",
    "\n",
    "    Fmt.PointType = PointTypes.Diamond;\n",
    "\n",
    "    //Console.WriteLine(\"name is: \" + solver_name); \n",
    "    Fmt.PointSize = 0.85;\n",
    "    Fmt.LineWidth = 2;    \n",
    "    Fmt.Style     = Styles.LinesPoints;\n",
    "    \n",
    "    Fmt.SetLineColorFromIndex(Array.IndexOf(ResolutionS, J)); \n",
    "    \n",
    "    if(caseName.Contains(\"Xdg\")) {\n",
    "        Fmt.DashType = DashTypes.Solid;\n",
    "        //if(caseName.Contains(\"Stokes\")) {\n",
    "        //    Fmt.LineColor = LineColors.Black;\n",
    "        //    Console.WriteLine(\"solid black on: \" + caseName);\n",
    "        //}\n",
    "    } else {\n",
    "        Fmt.DashType = DashTypes.Dashed;\n",
    "    }\n",
    "\n",
    "    \n",
    "    \n",
    "    int i = Array.IndexOf(MPIsizeS, sz_max);\n",
    "    var values = Enum.GetValues(typeof(PointTypes)).Cast<PointTypes>().ToArray();\n",
    "    Fmt.PointType = values[i % values.Length];\n",
    "\n",
    "    return Fmt;\n",
    "}"
   ]
  },
  {
   "cell_type": "code",
   "execution_count": null,
   "metadata": {
    "dotnet_interactive": {
     "language": "csharp"
    },
    "vscode": {
     "languageId": "dotnet-interactive.csharp"
    }
   },
   "outputs": [],
   "source": [
    "string ExtractCase(string sessionName) {\n",
    "    return AllCases.Single(caseName => sessionName.Contains(caseName));\n",
    "}"
   ]
  },
  {
   "cell_type": "code",
   "execution_count": null,
   "metadata": {
    "dotnet_interactive": {
     "language": "csharp"
    },
    "vscode": {
     "languageId": "dotnet-interactive.csharp"
    }
   },
   "outputs": [],
   "source": [
    "Plot2Ddata[,] PlotSolverBehave(string Yname, bool LogY, double yMin, double yMax, double LegendYpos) {\n",
    "\n",
    "int rows    = DGdegrees.Length;\n",
    "int columns = 2;\n",
    "string[] ignore_solvers = {};\n",
    "Plot2Ddata[,] multiplots = new Plot2Ddata[rows + 1,columns];\n",
    "int pDegree = 0;\n",
    "for(int iRow = 0; iRow < rows; iRow++) {\n",
    "for(int iCol = 0; iCol < columns; iCol++) {\n",
    "    \n",
    "    //if(pDegree > rows*columns-1)\n",
    "    //    continue;\n",
    "    //int tmpDG = -1;\n",
    "    //if(pDegree < DGdegrees.Length)\n",
    "    //    tmpDG = DGdegrees[pDegree];\n",
    "    \n",
    "    int tmpDG = DGdegrees[iRow];\n",
    "    \n",
    "    //Create Graphs\n",
    "    multiplots[iRow,iCol] = SubTab.ToPlot(\"DOFsPerCore\", Yname, // column for x- and y\n",
    "       delegate (int iTabRow, \n",
    "                 IDictionary<string, object> Row, \n",
    "                 out string Nmn, \n",
    "                 out PlotFormat Fmt) { \n",
    "           // - - - - - - - - - - - - - - - - - - - - - - - - \n",
    "           // PlotRowSelector:\n",
    "           // selects, which table row goes to which graph,\n",
    "           // and the respective color  \n",
    "           // - - - - - - - - - - - - - - - - - - - - - - - - \n",
    "           int k = Convert.ToInt32(Row[\"DGdegree\"]);\n",
    "           if(k != tmpDG) {\n",
    "                // degree does not match -> not in this plot\n",
    "                Nmn = null;\n",
    "                Fmt = null;\n",
    "                return;\n",
    "           }\n",
    " \n",
    "           string solver_name = (string) (Row[\"LinearSolver.Shortname\"]);\n",
    "           //ignore the solvers specified in ingore_solvers\n",
    "           foreach(string sc in ignore_solvers){\n",
    "               if(solver_name == sc){\n",
    "                   System.Console.WriteLine(\"skipped\");\n",
    "                   Nmn = null;\n",
    "                   Fmt = null;\n",
    "               return;\n",
    "               }\n",
    "           }\n",
    "           \n",
    "           string caseName = ExtractCase( (string) Row[\"SessionNameWoSize\"]);\n",
    "           if(iCol == 0) {\n",
    "               // in Column 0, draw only Poisson\n",
    "               if(!caseName.Contains(\"Poisson\")) {\n",
    "                   Nmn = null;\n",
    "                   Fmt = null;\n",
    "                   return;\n",
    "               }\n",
    "           } else if(iCol == 1) {\n",
    "               // in Column 1, draw only Stokes\n",
    "               if(!caseName.Contains(\"Stokes\")) {\n",
    "                   Nmn = null;\n",
    "                   Fmt = null;\n",
    "                   return;\n",
    "               }\n",
    "           } else {\n",
    "               throw new NotImplementedException();\n",
    "           }\n",
    "           \n",
    "           int J = Convert.ToInt32(Row[\"Grid:NoOfCells\"]);\n",
    "           int sz = Convert.ToInt32(Row[\"NoOfCores\"]);\n",
    "           int sz_max = MaxMpiSize(J, k);\n",
    "           string isXdg = caseName.Contains(\"Xdg\") ? \"Xdg\" : \"Dg\";\n",
    "\n",
    "           //process the other solvers\n",
    "           Fmt = SlvCode2Pltfmt(caseName, J, k, sz_max);\n",
    "           //Console.WriteLine(\"case = \" + caseName + \" --- dash is -- \"+ Fmt.DashType);\n",
    "           //Nmn = (string) Row[\"SessionNameWoSize\"];\n",
    "           Nmn = $\"J{J}-Sz{sz_max}-{isXdg}\";\n",
    "       });\n",
    "    \n",
    "       // plot the linear behavior reference line\n",
    "       double[] dof = new[] { 1e3, 1e6 }; // x-limits of the reference-line-plot\n",
    "       double[] linT = dof.Select(x => x*0.001).ToArray();\n",
    "       var linP = new Plot2Ddata.XYvalues(\"linear\", dof, linT);\n",
    "       linP.Format.FromString(\"- black\");\n",
    "       ArrayTools.AddToArray(linP, ref multiplots[iRow,iCol].dataGroups);\n",
    " \n",
    "       //all about axis\n",
    "       string Title = string.Format(\"$k = {0}$\", tmpDG);\n",
    "       multiplots[iRow,iCol].Ylabel = Title;\n",
    "       multiplots[iRow,iCol].LogX = true;\n",
    "       multiplots[iRow,iCol].LogY = LogY;\n",
    "    \n",
    "       //specify range of axis\n",
    "       multiplots[iRow,iCol].YrangeMin = yMin;\n",
    "       multiplots[iRow,iCol].YrangeMax = yMax;\n",
    "       multiplots[iRow,iCol].XrangeMin = 1e2;\n",
    "       multiplots[iRow,iCol].XrangeMax = 1e6;\n",
    "    \n",
    "       //multiplots[iRow,iCol].Y2rangeMin = 1e-3;\n",
    "       //multiplots[iRow,iCol].Y2rangeMax = 1e+4;\n",
    "       //multiplots[iRow,iCol].X2rangeMin = 1e2;\n",
    "       //multiplots[iRow,iCol].X2rangeMax = 1e7;\n",
    "    \n",
    "       //spacing around plots\n",
    "       multiplots[iRow,iCol].ShowLegend = false;\n",
    "       multiplots[iRow,iCol].tmargin = 0;\n",
    "       multiplots[iRow,iCol].bmargin = 2;\n",
    "       multiplots[iRow,iCol].lmargin = 5;\n",
    "       multiplots[iRow,iCol].rmargin = 5;\n",
    "       multiplots[iRow,iCol].ShowXtics = false;\n",
    "\n",
    "       //I am legend ...\n",
    "       if(iRow == 0) {\n",
    "          multiplots[iRow,iCol].ShowLegend = true;\n",
    "          //multiplots[iRow,iCol].LegendAlignment = new string[]{\"o\", \"r\", \"t\" };\n",
    "          multiplots[iRow,iCol].LegendFont = 12;\n",
    "          multiplots[iRow,iCol].Legend_maxrows = 100;\n",
    "          multiplots[iRow,iCol].LegendPosition = new double[] { 4e3, LegendYpos };\n",
    "          //multiplots[iRow,iCol].LegendSwap  = true;\n",
    "       }\n",
    "       //and i am special ...\n",
    "       if(iRow == rows - 1)\n",
    "           multiplots[iRow,iCol].ShowXtics = true;\n",
    "    pDegree++;\n",
    "}                        \n",
    "}\n",
    "//multiplots.PlotCairolatex().WriteMinimalCompileableExample(\"latex/solvers.tex\");\n",
    "//multiplots.AddDummyPlotsForLegend(3,0);\n",
    "return multiplots;\n",
    "}"
   ]
  },
  {
   "cell_type": "code",
   "execution_count": null,
   "metadata": {
    "dotnet_interactive": {
     "language": "csharp"
    },
    "vscode": {
     "languageId": "dotnet-interactive.csharp"
    }
   },
   "outputs": [],
   "source": [
    "var multiplotsRtime = PlotSolverBehave(\"Solver_InitAndRun_time\", true, 1e-1, 2.0e3, 1e-12);\n",
    "//multiplots.PlotCairolatex().PlotNow()\n",
    "//multiplots.AddDummyPlotsForLegend(3,0);\n",
    "multiplotsRtime.ToGnuplot().PlotSVG(xRes:800,yRes:1200)"
   ]
  }
 ],
 "metadata": {
  "kernelspec": {
   "display_name": ".NET (C#)",
   "language": "C#",
   "name": ".net-csharp"
  },
  "language_info": {
   "file_extension": ".cs",
   "mimetype": "text/x-csharp",
   "name": "C#",
   "pygments_lexer": "csharp",
   "version": "11.0"
  },
  "vscode": {
   "interpreter": {
    "hash": "ad2bdc8ecc057115af97d19610ffacc2b4e99fae6737bb82f5d7fb13d2f2c186"
   }
  }
 },
 "nbformat": 4,
 "nbformat_minor": 2
}

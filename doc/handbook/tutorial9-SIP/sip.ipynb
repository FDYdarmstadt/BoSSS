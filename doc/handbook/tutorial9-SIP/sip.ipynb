{
 "cells": [
  {
   "cell_type": "markdown",
   "metadata": {
    "dotnet_interactive": {
     "language": "csharp"
    }
   },
   "source": [
    "# Symmetric Interior Penalty for the Poisson Equation\n",
    "\n",
    "## What's new\n",
    "\n",
    "- Symmetric Interior Penalty method (SIP)\n",
    "- investigating matrix properties\n",
    "\n",
    "## Prerequisites\n",
    "\n",
    "- basics SIP method\n",
    "- spatial operator, chapter corresponding to the DifferentialOperator\n",
    "- implementing numerical fluxes and convergence study, chapter corresponding to the NumericalFluxex\n",
    "\n",
    "## Problem statement\n",
    "We consider the 2D Poisson problem:\n",
    "$$ \\Delta u = f(x,y) $$\n",
    "\n",
    "where $f(x,y) \\neq 0$ is an arbitrary function of $x$ and/or $y$.\n",
    "Within this exercise, we are going to investigate the Symmetric Interior Penalty discretization method (SIP) for the Laplace operator\n",
    "\n",
    "$$a_{\\text{sip}}(u,v)\n",
    "= \\int_{\\Omega} \\underbrace{\\nabla u \\cdot \\nabla v}_{\\text{Volume\\ term}}dV\n",
    "  - \\oint_{\\Gamma \\setminus \\Gamma_{N }} \\underbrace{\n",
    "        M(\\nabla u) \\cdot n_{\\Gamma}J(v)\n",
    "     }_{\\text{consistency term}} + \\underbrace{\n",
    "        M(\\nabla v) \\cdot \\vec{n}_{\\Gamma} J(u)\n",
    "     }_{\\text{symmetry term}} dA\n",
    "  + \\oint_{\\Gamma \\setminus \\Gamma_{N}} \\underbrace{\n",
    "       \\eta J(u)J(v)\n",
    "    }_{\\text{penalty term}} dA$$\n",
    "\n",
    "Where $M$ shall denote the Mean and $J$ the Jump operator. The use of these fluxes including a penalty term stabilizes the DG-discretization for the Laplace operator."
   ]
  },
  {
   "cell_type": "markdown",
   "metadata": {},
   "source": [
    "## Solution within the **BoSSS** framework\n",
    "\n",
    "First, we initialize the new worksheet;\n",
    "Note: \n",
    "1. This tutorial can be found in the source code repository as as `sip.ipynb`. \n",
    "   One can directly load this into Jupyter to interactively work with the following code examples.\n",
    "2. **In the following line, the reference to `BoSSSpad.dll` is required**. \n",
    "   You must either set `#r \"BoSSSpad.dll\"` to something which is appropirate for your computer\n",
    "   (e.g. `C:\\Program Files (x86)\\FDY\\BoSSS\\bin\\Release\\net5.0\\BoSSSpad.dll` if you installed the binary distribution),\n",
    "   or, if you are working with the source code, you must compile `BoSSSpad` and put it side-by-side to this worksheet file\n",
    "   (from the original location in the repository, you can use the scripts `getbossspad.sh`, resp. `getbossspad.bat`)."
   ]
  },
  {
   "cell_type": "code",
   "execution_count": null,
   "metadata": {
    "dotnet_interactive": {
     "language": "csharp"
    }
   },
   "outputs": [],
   "source": [
    "#r \"BoSSSpad.dll\"\n",
    "using System;\n",
    "using System.Collections.Generic;\n",
    "using System.Linq;\n",
    "using ilPSP;\n",
    "using ilPSP.Utils;\n",
    "using BoSSS.Platform;\n",
    "using BoSSS.Foundation;\n",
    "using BoSSS.Foundation.Grid;\n",
    "using BoSSS.Foundation.Grid.Classic;\n",
    "using BoSSS.Foundation.IO;\n",
    "using BoSSS.Solution;\n",
    "using BoSSS.Solution.Control;\n",
    "using BoSSS.Solution.GridImport;\n",
    "using BoSSS.Solution.Statistic;\n",
    "using BoSSS.Solution.Utils;\n",
    "using BoSSS.Solution.Gnuplot;\n",
    "using BoSSS.Application.BoSSSpad;\n",
    "using BoSSS.Application.XNSE_Solver;\n",
    "using static BoSSS.Application.BoSSSpad.BoSSSshell;\n",
    "Init();\n"
   ]
  },
  {
   "cell_type": "markdown",
   "metadata": {},
   "source": [
    "We need the following packages:"
   ]
  },
  {
   "cell_type": "code",
   "execution_count": null,
   "metadata": {
    "dotnet_interactive": {
     "language": "csharp"
    }
   },
   "outputs": [],
   "source": [
    "using ilPSP.LinSolvers;\n",
    "using ilPSP.Connectors.Matlab;"
   ]
  },
  {
   "cell_type": "markdown",
   "metadata": {},
   "source": [
    "BoSSScmdSilent BoSSSexeSilent"
   ]
  },
  {
   "cell_type": "code",
   "execution_count": null,
   "metadata": {
    "dotnet_interactive": {
     "language": "csharp"
    }
   },
   "outputs": [],
   "source": [
    "using NUnit.Framework;"
   ]
  },
  {
   "cell_type": "markdown",
   "metadata": {},
   "source": [
    "## Implementation of the SIP fluxes\n",
    "We are going to implement the SIP-form\n",
    "$$\n",
    "a_{\\text{sip}}(u,v)\n",
    "= \\int_{\\Omega} \\underbrace{\\nabla u \\cdot \\nabla v}_{\\text{volume\\ term}}dV\n",
    "  - \\oint_{\\Gamma \\setminus \\Gamma_{N }} \\underbrace{\n",
    "        M {\\nabla u} \\cdot n_{\\Gamma}J(v)\n",
    "     }_{\\text{consistency term}} + \\underbrace{\n",
    "        M{\\nabla v} \\cdot \\vec{n}_{\\Gamma} J(u)\n",
    "     }_{\\text{symmetry term}} dA\n",
    "  + \\oint_{\\Gamma \\setminus \\Gamma_{N}} \\underbrace{\n",
    "       \\eta J(u)J(v)\n",
    "    }_{\\text{penalty term}} dA\n",
    "$$\n",
    "First, we need a class in which the integrands are defined.\n",
    "This also includes some technical aspects like the *TermActivationFlags*."
   ]
  },
  {
   "cell_type": "code",
   "execution_count": null,
   "metadata": {
    "dotnet_interactive": {
     "language": "csharp"
    }
   },
   "outputs": [],
   "source": [
    "public class SipLaplace :\n",
    "        BoSSS.Foundation.IEdgeForm,   // edge integrals\n",
    "        BoSSS.Foundation.IVolumeForm, // volume integrals\n",
    "        IEquationComponentCoefficient // update of coefficients (e.g. length scales) required for penalty parameters \n",
    "{\n",
    "    /// We do not use parameters (e.g. variable viscosity, ...)\n",
    "    /// at this point: so this can be null\n",
    "    public IList<string> ParameterOrdering { \n",
    "        get { return new string[0]; } \n",
    "    } \n",
    "    /// but we have one argument variable, $u$ (our trial function)\n",
    "    public IList<String> ArgumentOrdering { \n",
    "        get { return new string[] { \"u\" }; } \n",
    "    }\n",
    "    /// The \\code{TermActivationFlags} tell \\BoSSS which kind of terms, \n",
    "    /// i.e. products of u, v, \\nabla u, and \\nabla v\n",
    "    /// the VolumeForm(...) actually contains.\n",
    "    /// This additional information helps to improve the performance.\n",
    "    public TermActivationFlags VolTerms {\n",
    "        get {\n",
    "            return TermActivationFlags.GradUxGradV;\n",
    "        }\n",
    "    }\n",
    "    /// activation flags for the 'InnerEdgeForm(...)'\n",
    "    public TermActivationFlags InnerEdgeTerms {\n",
    "        get {\n",
    "            return (TermActivationFlags.AllOn);\n",
    "            // if we do not care about performance, we can activate all terms.\n",
    "        }\n",
    "    }\n",
    "    public TermActivationFlags BoundaryEdgeTerms {\n",
    "       get {\n",
    "           return TermActivationFlags.AllOn;\n",
    "        }\n",
    "    }\n",
    "    /// For the computation of the penalty factor $\\eta$,\n",
    "    /// we require\n",
    "    /// some length scale for each cell and \n",
    "    /// the polynomial degree of the DG approximation.\n",
    "    MultidimensionalArray cj;\n",
    "    double penalty_base; // base factor must be scaled by polynomial degree  \n",
    "    /// The additional scaling of the penalty by polynomial degree \n",
    "    /// and in depencence of geometry can be obtained through \n",
    "    /// impmenting the \\code{IEquationComponentCoefficient} interface:\n",
    "    public void CoefficientUpdate(CoefficientSet cs, int[] DomainDGdeg, int TestDGdeg) {\n",
    "        int D = cs.GrdDat.SpatialDimension;\n",
    "        double _D = D;\n",
    "        double _p = DomainDGdeg.Max();\n",
    "\n",
    "        double penalty_deg_tri = (_p + 1) * (_p + _D) / _D; // formula for triangles/tetras\n",
    "        double penalty_deg_sqr = (_p + 1.0) * (_p + 1.0); // formula for squares/cubes\n",
    "\n",
    "        penalty_base = Math.Max(penalty_deg_tri, penalty_deg_sqr); // the conservative choice\n",
    "        //Console.WriteLine(\"Setting penalty base factor for deg \" + _p + \" to \" + penalty_base);\n",
    "\n",
    "        cj = ((GridData)(cs.GrdDat)).Cells.cj;\n",
    "    }     \n",
    "    \n",
    "            \n",
    "    /// The safety factor for the penalty factor should be in the order of 1.\n",
    "    /// A very large penalty factor increases the condition number of the \n",
    "    /// system, but without affecting stability.\n",
    "    /// A very small penalty factor yields to an unstable discretization.\n",
    "    public double PenaltySafety = 2.2; \n",
    "    /// The actual computation of the penalty factor, which should be \n",
    "    /// used in the \\code{InnerEdgeForm} and \\code{BoundaryEdgeForm} functions.\n",
    "    /// Hint: for the parameters \\code{jCellIn}, \\code{jCellOut} and \\code{g},\n",
    "    /// take a look at\n",
    "    /// \\code{CommonParams} and \\code{CommonParamsBnd}.\n",
    "    double PenaltyFactor(int jCellIn, int jCellOut) {\n",
    "        double cj_in         = cj[jCellIn];\n",
    "        double eta           = penalty_base * cj_in * PenaltySafety;\n",
    "        if(jCellOut >= 0) {\n",
    "            double cj_out = cj[jCellOut];\n",
    "            eta           = Math.Max(eta, penalty_base * cj_out * PenaltySafety);\n",
    "        }\n",
    "        \n",
    "        return eta;\n",
    "    }\n",
    "    \n",
    "    /// The following functions cover the actual math.\n",
    "    /// For any discretization of the Laplace operator, we have to specify:\n",
    "    /// \n",
    "    /// - a volume integrand,\n",
    "    /// - an edge integrand for inner edges, i.e. on $\\Gamma_i$,\n",
    "    /// - an edge integrand for boundary edges, i.e. on $\\partial \\Omega$.\n",
    "    /// \n",
    "    /// The integrand for the volume integral:\n",
    "    public double VolumeForm(ref CommonParamsVol cpv, \n",
    "           double[] U, double[,] GradU, // the trial-function u \n",
    "           //            (i.e. the function we search for) and its gradient\n",
    "           double V, double[] GradV     // the test function; \n",
    "           ) {\n",
    " \n",
    "        double acc = 0;\n",
    "        for(int d = 0; d < cpv.D; d++)\n",
    "            acc += GradU[0, d] * GradV[d];\n",
    "        return acc;\n",
    "    }\n",
    "    /// The integrand for the integral on the inner edges,\n",
    "    /// \n",
    "    ///   -( M{\\nabla u} J{v}) \\cdot \\vec{n}_{\\Gamma} \n",
    "    ///   -( M{\\nabla v} J{u}) \\cdot \\vec{n}_{\\Gamma} \n",
    "    ///   + \\eta J{u}  J{v} :\n",
    "    /// \n",
    "    public double InnerEdgeForm(ref CommonParams inp, \n",
    "        double[] U_IN, double[] U_OT, double[,] GradU_IN, double[,] GradU_OT, \n",
    "        double V_IN, double V_OT, double[] GradV_IN, double[] GradV_OT) {\n",
    " \n",
    "        double eta = PenaltyFactor(inp.jCellIn, inp.jCellOut);\n",
    " \n",
    "        double Acc = 0.0;\n",
    "        for(int d = 0; d < inp.D; d++) { // loop over vector components \n",
    "            // consistency term: -({{ \\/u }} [[ v ]])*Normal\n",
    "            // index d: spatial direction\n",
    "            Acc -= 0.5 * (GradU_IN[0, d] + GradU_OT[0, d])*(V_IN - V_OT)\n",
    "                       * inp.Normal[d];\n",
    " \n",
    "            // symmetry term: -({{ \\/v }} [[ u ]])*Normal\n",
    "            Acc -= 0.5 * (GradV_IN[d] + GradV_OT[d])*(U_IN[0] - U_OT[0])\n",
    "                       * inp.Normal[d];\n",
    "        }\n",
    " \n",
    "        // penalty term: eta*[[u]]*[[v]]\n",
    "        Acc += eta*(U_IN[0] - U_OT[0])*(V_IN - V_OT);\n",
    "        return Acc;\n",
    "    } \n",
    "    /// The integrand on boundary edges, i.e. on $\\partial \\Omega$, is\n",
    "    ///  \n",
    "    ///   -( M{\\nabla u} J{v}) \\cdot \\vec{n}_{\\Gamma} \n",
    "    ///   -( M{\\nabla v} J{u}) \\cdot \\vec{n}_{\\Gamma} \n",
    "    ///   +  \\eta J{u}  J{v} .\n",
    "    /// \n",
    "    /// For the boundary we have to consider the special definition for \n",
    "    /// the mean-value operator $M{-}$ and the jump operator \n",
    "    /// $J{-}$ on the boundary.\n",
    "    public double BoundaryEdgeForm(ref CommonParamsBnd inp, \n",
    "        double[] U_IN, double[,] GradU_IN, double V_IN, double[] GradV_IN) {\n",
    " \n",
    "        double eta = PenaltyFactor(inp.jCellIn, -1);\n",
    "        double Acc = 0.0;\n",
    "        for(int d = 0; d < inp.D; d++) { // loop over vector components \n",
    "            // consistency term: -({{ \\/u }} [[ v ]])*Normale\n",
    "            // index d: spatial direction\n",
    "            Acc -= (GradU_IN[0, d])*(V_IN) * inp.Normal[d];\n",
    " \n",
    "            // symmetry term: -({{ \\/v }} [[ u ]])*Normale\n",
    "            Acc -= (GradV_IN[d])*(U_IN[0]) * inp.Normal[d];\n",
    "        }\n",
    " \n",
    "        // penalty term: eta*[[u]]*[[v]]\n",
    "        Acc += eta*(U_IN[0])*(V_IN);\n",
    " \n",
    " \n",
    "        return Acc;\n",
    "    }\n",
    "}"
   ]
  },
  {
   "cell_type": "code",
   "execution_count": null,
   "metadata": {
    "dotnet_interactive": {
     "language": "csharp"
    }
   },
   "outputs": [],
   "source": [
    "/*\n",
    "// An alternative implementation which derives from the build-in, pre-defined SIP implementation:\n",
    "public class SipLaplace : BoSSS.Solution.NSECommon.SIPLaplace {\n",
    "\n",
    "    public SipLaplace() : base(2.2, \"u\") { }\n",
    "\n",
    "    public double PenaltySafety  {\n",
    "        get { return base.m_penalty_base; }\n",
    "        set { base.m_penalty_base = value; }\n",
    "    }\n",
    "    \n",
    "    protected override bool IsDirichlet(ref CommonParamsBnd inp) {\n",
    "        if(Math.Abs(Math.Abs(inp.X.y) - 1.0) < 1.0e-8)\n",
    "            return false; // Neumann b.c.   @ y == +1,-1\n",
    "        else\n",
    "            return true; //  Dirichlet b.c. @ x = +1,-1\n",
    "    }\n",
    "    \n",
    "    override public double Nu(double[] x, double[] p, int jCell) {\n",
    "            return -1.0;\n",
    "    }\n",
    "}*/"
   ]
  },
  {
   "cell_type": "markdown",
   "metadata": {},
   "source": [
    "## Evaluation of the Poisson operator in 1D\n",
    "We consider the following problem:\n",
    "$$\n",
    "\\Delta u = 2,\\quad -1<x<1,\\quad u(-1)=u(1)=0.\n",
    "$$\n",
    "The solution is $u_{ex}(x) = 1 - x^2$. Since this is quadratic, we can represent it **exactly** in a DG space of order 2.\n",
    "As usual, we have to set up a grid, a basis and a right-hand-side.:"
   ]
  },
  {
   "cell_type": "code",
   "execution_count": null,
   "metadata": {
    "dotnet_interactive": {
     "language": "csharp"
    }
   },
   "outputs": [],
   "source": [
    "var grd1D                     = Grid1D.LineGrid(GenericBlas.Linspace(-1,1,10));\n",
    "var DGBasisOn1D               = new Basis(grd1D, 2);\n",
    "var RHS                       = new SinglePhaseField(DGBasisOn1D, \"RHS\");\n",
    "RHS.ProjectField((double x) => 2);"
   ]
  },
  {
   "cell_type": "code",
   "execution_count": null,
   "metadata": {
    "dotnet_interactive": {
     "language": "csharp"
    }
   },
   "outputs": [],
   "source": [
    "var i_SipLaplace              = new SipLaplace();\n",
    "var Operator_SipLaplace       = i_SipLaplace.Operator();"
   ]
  },
  {
   "cell_type": "markdown",
   "metadata": {},
   "source": [
    "We now want to calculate the residual after inserting the exact solution as well as a wrong solution. \n",
    "The implementation of the exact solution:"
   ]
  },
  {
   "cell_type": "code",
   "execution_count": null,
   "metadata": {
    "dotnet_interactive": {
     "language": "csharp"
    }
   },
   "outputs": [],
   "source": [
    "var u_ex         = new SinglePhaseField(DGBasisOn1D, \"$u_{ex}$\");\n",
    "u_ex.ProjectField((double x) => 1.0 - x*x);"
   ]
  },
  {
   "cell_type": "markdown",
   "metadata": {},
   "source": [
    "The implementation of a spurious, i.e. a wrong solution; we take the exact solution and add random values in each cell:"
   ]
  },
  {
   "cell_type": "code",
   "execution_count": null,
   "metadata": {
    "dotnet_interactive": {
     "language": "csharp"
    }
   },
   "outputs": [],
   "source": [
    "var u_wrong      = new SinglePhaseField(DGBasisOn1D, \"$u_{wrong}$\");\n",
    "u_wrong.ProjectField((double x) => 1.0 - x*x);\n",
    "Random R         = new Random();\n",
    "for(int j = 0; j < grd1D.GridData.Cells.NoOfLocalUpdatedCells; j++){\n",
    "    double ujMean = u_wrong.GetMeanValue(j);\n",
    "    ujMean += R.NextDouble();\n",
    "    u_wrong.SetMeanValue(j, ujMean);\n",
    "}"
   ]
  },
  {
   "cell_type": "markdown",
   "metadata": {},
   "source": [
    "Evaluating the Laplace operator using the different solutions:"
   ]
  },
  {
   "cell_type": "code",
   "execution_count": null,
   "metadata": {
    "dotnet_interactive": {
     "language": "csharp"
    }
   },
   "outputs": [],
   "source": [
    "var Residual     = new SinglePhaseField(DGBasisOn1D,\"Resi1\");\n",
    "var ResidualNorm = new List<double>();\n",
    "foreach(var u in new DGField[] {u_ex, u_wrong}) {\n",
    "    Residual.Clear();\n",
    "    Operator_SipLaplace.Evaluate(u, Residual);  // evaluate\n",
    "    Residual.Acc(-1.0, RHS);    \n",
    "    double ResiNorm = Residual.L2Norm();\n",
    "    ResidualNorm.Add(ResiNorm);\n",
    "    Console.WriteLine(\"Residual for \" + u.Identification + \" = \" + ResiNorm);  \n",
    "}"
   ]
  },
  {
   "cell_type": "code",
   "execution_count": null,
   "metadata": {
    "dotnet_interactive": {
     "language": "csharp"
    }
   },
   "outputs": [],
   "source": [
    "/// tests BoSSScmdSilent\n",
    "Assert.LessOrEqual(ResidualNorm[0], 1e-10);\n",
    "Assert.GreaterOrEqual(ResidualNorm[1], 1e-1);"
   ]
  },
  {
   "cell_type": "markdown",
   "metadata": {},
   "source": [
    "## The matrix of the Poisson Operator\n",
    "If we do not know the exact solution, we have to solve a linear system.\n",
    "Therefore, we not only need to evaluate the operator,\n",
    "but we need its matrix.\n",
    "The *Mapping* controls which degree-of-freedom of the DG approximation\n",
    "is mapped to which row, resp. column of the matrix."
   ]
  },
  {
   "cell_type": "code",
   "execution_count": null,
   "metadata": {
    "dotnet_interactive": {
     "language": "csharp"
    }
   },
   "outputs": [],
   "source": [
    "\n",
    "var Mapping           = new UnsetteledCoordinateMapping(DGBasisOn1D);\n",
    "var Matrix_SipLaplace = Operator_SipLaplace.ComputeMatrix(Mapping,null,Mapping);"
   ]
  },
  {
   "cell_type": "code",
   "execution_count": null,
   "metadata": {
    "dotnet_interactive": {
     "language": "csharp"
    }
   },
   "outputs": [],
   "source": [
    "Matrix_SipLaplace.NoOfCols"
   ]
  },
  {
   "cell_type": "code",
   "execution_count": null,
   "metadata": {
    "dotnet_interactive": {
     "language": "csharp"
    }
   },
   "outputs": [],
   "source": [
    "Matrix_SipLaplace.NoOfRows"
   ]
  },
  {
   "cell_type": "markdown",
   "metadata": {
    "dotnet_interactive": {
     "language": "csharp"
    }
   },
   "source": [
    "We see that the matrix has 27 rows and columns.\n",
    "\n",
    "### Matrix rank and determinant of the matrix \n",
    "\n",
    "**Matrix\\_SipLaplace**:\n",
    "Use the functions *rank* and *det* to analyze the matrix (warning: this can get costly \n",
    "for larger matrices!).\n",
    "Interpret the results:\n",
    "\n",
    "- What does it mean, when a matrix has full rank?\n",
    "- How many solutions can a linear system have?\n"
   ]
  },
  {
   "cell_type": "code",
   "execution_count": null,
   "metadata": {
    "dotnet_interactive": {
     "language": "csharp"
    }
   },
   "outputs": [],
   "source": [
    "\n",
    "double rank = Matrix_SipLaplace.rank(); \n",
    "Console.WriteLine(\"Matrix rank = \" + rank);\n",
    " \n",
    "double det = Matrix_SipLaplace.det();   \n",
    "Console.WriteLine(\"Determinante = \" + det);"
   ]
  },
  {
   "cell_type": "markdown",
   "metadata": {
    "dotnet_interactive": {
     "language": "csharp"
    }
   },
   "source": [
    "So the matrix of the SIP discretization has a unique solution."
   ]
  },
  {
   "cell_type": "code",
   "execution_count": null,
   "metadata": {
    "dotnet_interactive": {
     "language": "csharp"
    }
   },
   "outputs": [],
   "source": [
    "/// tests BoSSScmdSilent\n",
    "Assert.AreEqual(rank, Matrix_SipLaplace.NoOfCols);\n",
    "Assert.Greater(det, 1.0);"
   ]
  },
  {
   "cell_type": "markdown",
   "metadata": {
    "dotnet_interactive": {
     "language": "csharp"
    }
   },
   "source": [
    "## Advanced topics"
   ]
  },
  {
   "cell_type": "markdown",
   "metadata": {
    "dotnet_interactive": {
     "language": "csharp"
    }
   },
   "source": [
    "### The penalty parameter of the SIP and stability in 2D\n",
    "\n",
    "We define a two-dimensional grid:"
   ]
  },
  {
   "cell_type": "code",
   "execution_count": null,
   "metadata": {
    "dotnet_interactive": {
     "language": "csharp"
    }
   },
   "outputs": [],
   "source": [
    "var grd2D       = Grid2D.Cartesian2DGrid(GenericBlas.Linspace(-1,1,21), \n",
    "                                         GenericBlas.Linspace(-1,1,16));\n",
    "var DGBasisOn2D = new Basis(grd2D, 5);\n",
    "var Mapping2D   = new UnsetteledCoordinateMapping(DGBasisOn2D);"
   ]
  },
  {
   "cell_type": "markdown",
   "metadata": {},
   "source": [
    "We are going to choose the **PenaltySafety** for the **SipLaplace**\n",
    "from the following list"
   ]
  },
  {
   "cell_type": "code",
   "execution_count": null,
   "metadata": {
    "dotnet_interactive": {
     "language": "csharp"
    }
   },
   "outputs": [],
   "source": [
    "double[] SFs = new double[] \n",
    "      {0.001, 0.002, 0.01, 0.02, 0.1, 0.2, 1, 2, 10, 20, 100};"
   ]
  },
  {
   "cell_type": "markdown",
   "metadata": {},
   "source": [
    "and compute the condition number as well as the determinate.\n",
    "We consider the example \n",
    "$$\n",
    "    -\\Delta u = \\pi^2 (a_x^2 + a_y^2)/4 \\cos(a_x \\pi x/2) \\cos(a_y \\pi y/2) \n",
    "      \\text{ with } \n",
    "      (x,y) \\in (-1,1)^2\n",
    "$$\n",
    "and $u = 0$ on the boundary.\n",
    "The exact solution is $u_{Ex}(x,y) = \\cos(a_x \\pi  x/2) \\cos(a_x \\pi y/2)$, where $a_x$ and $a_y$ must be odd numbers\n",
    "to comply with homogeneous bounary condition."
   ]
  },
  {
   "cell_type": "code",
   "execution_count": null,
   "metadata": {
    "dotnet_interactive": {
     "language": "csharp"
    }
   },
   "outputs": [],
   "source": [
    "double ax = 1.0; // must be an even number to comply with homogeneous Dirichlet boundary condition\n",
    "double ay = 3.0; // must be an odd number to comply with homogeneous Dirichlet boundary condition\n",
    "Func<double[], double> exSol = \n",
    "        (X => Math.Cos(X[0]*ax*Math.PI*0.5)*Math.Cos(X[1]*ay*Math.PI*0.5));\n",
    "Func<double[], double> exRhs = \n",
    "        (X => ((ax.Pow2() + ay.Pow2())/4.0)*Math.PI.Pow2()\n",
    "             *Math.Cos( X[0]*ax*Math.PI*0.5 )*Math.Cos( X[1]*ay*Math.PI*0.5 )); // == - /\\ exSol\n",
    "\n",
    "SinglePhaseField RHS = new SinglePhaseField(DGBasisOn2D, \"RHS\");\n",
    "RHS.ProjectField(exRhs);\n",
    "double[] RHSvec = RHS.CoordinateVector.ToArray();"
   ]
  },
  {
   "cell_type": "markdown",
   "metadata": {},
   "source": [
    "We check our discretization once more in 2D; the residual should be low,\n",
    "but not exactly (resp. up to $10^{-12}$) since the solution is not \n",
    "polynomial and cannot be fulfilled exactly."
   ]
  },
  {
   "cell_type": "code",
   "execution_count": null,
   "metadata": {
    "dotnet_interactive": {
     "language": "csharp"
    }
   },
   "outputs": [],
   "source": [
    "SinglePhaseField u = new SinglePhaseField(DGBasisOn2D,\"u\");\n",
    "u.ProjectField(exSol);\n",
    "var Matrix_SIP_sf     = Operator_SipLaplace.ComputeMatrix(Mapping2D,\n",
    "                                                          null,\n",
    "                                                          Mapping2D);\n",
    "SinglePhaseField Residual = new SinglePhaseField(DGBasisOn2D,\"Residual\");\n",
    "Residual.Acc(1.0, RHS);\n",
    "Matrix_SIP_sf.SpMV(-1.0, u.CoordinateVector, 1.0, Residual.CoordinateVector);\n",
    "Console.WriteLine(\"Residual L2 norm: \" + Residual.L2Norm());"
   ]
  },
  {
   "cell_type": "markdown",
   "metadata": {},
   "source": [
    "We also check that the matrix is symmetric:"
   ]
  },
  {
   "cell_type": "code",
   "execution_count": null,
   "metadata": {
    "dotnet_interactive": {
     "language": "csharp"
    }
   },
   "outputs": [],
   "source": [
    "var checkMatrix = Matrix_SIP_sf - Matrix_SIP_sf.Transpose();\n",
    "checkMatrix.InfNorm()"
   ]
  },
  {
   "cell_type": "code",
   "execution_count": null,
   "metadata": {
    "dotnet_interactive": {
     "language": "csharp"
    }
   },
   "outputs": [],
   "source": [
    "/// tests BoSSScmdSilent\n",
    "Assert.LessOrEqual(checkMatrix.InfNorm(), 1e-8);"
   ]
  },
  {
   "cell_type": "markdown",
   "metadata": {},
   "source": [
    "### Matrix properties for different penalty factors\n",
    "Now, we assemble the matrix of the SIP for different \n",
    "**PenaltySafety**-factors. We also try to solve the linear system\n",
    "using an iterative method.\n",
    "\n",
    " As Matlab is called multiple times during this \n",
    "command, it can take some minutes until it is done."
   ]
  },
  {
   "cell_type": "code",
   "execution_count": null,
   "metadata": {
    "dotnet_interactive": {
     "language": "csharp"
    }
   },
   "outputs": [],
   "source": [
    "int cnt     = 0;\n",
    "var Results = new List<(double safetyFactor, double condNumber, int NoOfIterations, double L2errror, bool isDefinite)>();\n",
    "foreach(double sf in SFs) {\n",
    "\n",
    "    cnt++;\n",
    "    i_SipLaplace.PenaltySafety    = sf;\n",
    "    var Matrix_SIP_sf             = Operator_SipLaplace.ComputeMatrix(\n",
    "                                    Mapping2D, null, Mapping2D);\n",
    "    double condNo1                = Matrix_SIP_sf.condest();  \n",
    "    bool definite                 = Matrix_SIP_sf.IsDefinite();\n",
    " \n",
    "    /// We solve the system \n",
    "    /// \n",
    "    ///     Matrix\\_SIP\\_sf \\cdot u =  RHS\n",
    "    /// \n",
    "    /// using a an iterative solver, the so-called \n",
    "    /// conjugate gradient (CG) method.\n",
    "    /// CG requires a positive definite matrix. \n",
    "    /// The function \\code{Solve\\_CG} returns the number of iterations.\n",
    "    SinglePhaseField u = new SinglePhaseField(DGBasisOn2D,\"u\");\n",
    "    u.InitRandom();\n",
    "    int NoOfIter = Matrix_SIP_sf.Solve_CG(u.CoordinateVector, RHSvec);\n",
    " \n",
    "    SinglePhaseField Error = new SinglePhaseField(DGBasisOn2D,\"Error\");\n",
    "    Error.ProjectField(exSol);\n",
    "    Error.Acc(-1.0, u);\n",
    " \n",
    "    double L2err = u.L2Error(exSol);\n",
    " \n",
    "    Console.WriteLine(sf + \"\\t\" + condNo1.ToString(\"0.#E-00\") \n",
    "                         + \"\\t\" + NoOfIter \n",
    "                         + \"\\t\" + L2err.ToString(\"0.#E-00\") \n",
    "                         + \"\\t\" + definite);\n",
    "    Results.Add((sf, condNo1, NoOfIter, L2err, definite));\n",
    "}"
   ]
  },
  {
   "cell_type": "code",
   "execution_count": null,
   "metadata": {
    "dotnet_interactive": {
     "language": "csharp"
    }
   },
   "outputs": [],
   "source": [
    "/// tests BoSSScmdSilent\n",
    "foreach(var r in Results) {\n",
    "    if(r.safetyFactor >= 1 && r.safetyFactor <= 20) {\n",
    "        Assert.LessOrEqual(r.condNumber, 1e7); // cond No.\n",
    "        Assert.LessOrEqual(r.NoOfIterations, 7000); // iter\n",
    "        Assert.LessOrEqual(r.L2errror, 1e-4); // L2 err\n",
    "        Assert.IsTrue(r.isDefinite); // definite   \n",
    "    }\n",
    "    if(r.Item1 <= 0.1) {\n",
    "        Assert.IsFalse(r.isDefinite); // indefinite   \n",
    "    }\n",
    "}"
   ]
  },
  {
   "cell_type": "markdown",
   "metadata": {},
   "source": [
    "### Plotting\n",
    "Plot the number of conjugate gradient iterations versus the \n",
    "**PenaltySafety**."
   ]
  },
  {
   "cell_type": "code",
   "execution_count": null,
   "metadata": {
    "dotnet_interactive": {
     "language": "csharp"
    }
   },
   "outputs": [],
   "source": [
    "var xValues = Results.Select(r => r.safetyFactor).ToArray();\n",
    "var yValues = Results.Select(r => ((double)(r.NoOfIterations))).ToArray();\n",
    "\n",
    "var plt = new Plot2Ddata();\n",
    "plt.AddDataGroup(xValues, yValues);\n",
    "\n",
    "/// A logarithmic scale is used for the horizontal axis.\n",
    "plt.LogX = true;\n",
    "\n",
    "/// Set Format\n",
    "plt.dataGroups[0].Format =  new PlotFormat(lineColor: LineColors.Blue, \n",
    "                                           pointSize: 2, \n",
    "                                           dashType: DashTypes.DotDashed, \n",
    "                                           Style: Styles.LinesPoints, \n",
    "                                           pointType:PointTypes.OpenCircle);\n",
    "// Show!\n",
    "plt.PlotNow()"
   ]
  },
  {
   "cell_type": "markdown",
   "metadata": {},
   "source": [
    "### Convergence study, indefinite vs. definite.\n",
    "We are going to solve the SIP-system for different grid resolutions,\n",
    "comparing an insufficient penalty to a penalty which is large enough."
   ]
  },
  {
   "cell_type": "code",
   "execution_count": null,
   "metadata": {
    "dotnet_interactive": {
     "language": "csharp"
    }
   },
   "outputs": [],
   "source": [
    "double[] Resolution = new double[] { 2, 4, 8, 16, 32, 64 };\n",
    "List<double> L2Error_indef  = new List<double>();\n",
    "List<double> L2Error_posdef = new List<double>();\n",
    "int cnt = 0;\n",
    "foreach(int Res in Resolution) {\n",
    "    cnt++;\n",
    "    //var grd2D = Grid2D.UnstructuredTriangleGrid(GenericBlas.Linspace(-1,1,(int)Res + 1), \n",
    "    //                                            GenericBlas.Linspace(-1,1,(int)Res + 1));\n",
    "    var grd2D = Grid2D.Cartesian2DGrid(GenericBlas.Linspace(-1,1,(int)Res + 1), \n",
    "                                      GenericBlas.Linspace(-1,1,(int)Res + 1));\n",
    "    var gdata2D = new GridData(grd2D);\n",
    "    var DGBasisOn2D = new Basis(gdata2D, 2);\n",
    "    var Mapping2D  = new UnsetteledCoordinateMapping(DGBasisOn2D);\n",
    " \n",
    "    SinglePhaseField RHS = new SinglePhaseField(DGBasisOn2D, \"RHS\");\n",
    "    RHS.ProjectField(exRhs);\n",
    "    SinglePhaseField uEx = new SinglePhaseField(\n",
    "           new Basis(gdata2D, DGBasisOn2D.Degree*2),\n",
    "           \"Error\");\n",
    "    uEx.ProjectField(exSol);\n",
    " \n",
    " \n",
    "    i_SipLaplace.PenaltySafety    = 0.01;\n",
    "    var Matrix_SIP_indef          = Operator_SipLaplace.ComputeMatrix(\n",
    "                                    Mapping2D,null,Mapping2D);\n",
    " \n",
    "    SinglePhaseField u_indef = new SinglePhaseField(DGBasisOn2D,\"u_indef\");\n",
    "    Matrix_SIP_indef.Solve_Direct(u_indef.CoordinateVector, \n",
    "                                  RHS.CoordinateVector);\n",
    "    var Error_indef = uEx.CloneAs();\n",
    "    Error_indef.AccLaidBack(-1.0, u_indef);\n",
    "    L2Error_indef.Add(Error_indef.L2Norm());\n",
    " \n",
    "    /// In order to have a positive definite system, we are\n",
    "    /// using  PenaltySafety = 2!\n",
    "    i_SipLaplace.PenaltySafety    = 2.0;\n",
    "    var Matrix_SIP_posdef         = Operator_SipLaplace.ComputeMatrix(\n",
    "                                    Mapping2D, null, Mapping2D);\n",
    " \n",
    "    SinglePhaseField u_posdef = new SinglePhaseField(DGBasisOn2D,\"u_posdef\");\n",
    "    Matrix_SIP_posdef.Solve_Direct(u_posdef.CoordinateVector, \n",
    "                                   RHS.CoordinateVector);\n",
    "    var Error_posdef = uEx.CloneAs();\n",
    "    Error_posdef.AccLaidBack(-1.0, u_posdef);\n",
    "    L2Error_posdef.Add(Error_posdef.L2Norm());\n",
    "    \n",
    "    //Tecplot(\"ConvStudy-\" + cnt, uEx, u_posdef, u_indef); // activate this line for plotting!\n",
    "    \n",
    "    Console.WriteLine(L2Error_indef.Last().ToString(\"0.#E-00\") \n",
    "                      + \"\\t\" + L2Error_posdef.Last().ToString(\"0.#E-00\"));\n",
    "}"
   ]
  },
  {
   "cell_type": "markdown",
   "metadata": {},
   "source": [
    "### Convergence Plot and Conclusions\n",
    "The convergence plot should unveil that there is something wrong if the\n",
    "penalty factor is set too low.\n",
    "Unfortunately, **it does not**, so this is some kind of **anti-example**;\n",
    "It is in this tutorial anyway **to illustrate the difficulties of numerical testing**.\n",
    "Interested readers migth check out the source code and \n",
    "try to modify the test `BoSSS.Application.SipPoisson.Tests.TestProgram.TestOperatorConvergence3D(2)`\n",
    "so that it fails.\n",
    "\n",
    "The reason why the indefinite matrix still gives a solution convergence \n",
    "is very likely that the solver which is used in BoSSS is also (sometimes) capable\n",
    "of solving singular or close-to-singular systems, i.e. systems without a unique solution.\n",
    "In those cases, it selects a solution with a minimal solution norm. \n",
    "Since BoSSS uses an orthonormal basis the $L^2$ norm of the DG-Field is identical to the $l_2$ norm of the \n",
    "coordinate vector (Parseval's identity).\n",
    "Therefore, the solver by chance adds additional stability which is not part of the (instable) discretization.\n",
    "\n",
    "~~While the solution of the indefinite system may look right at the first\n",
    "glance, we see that we do not obtain grid convergence for \n",
    "*Error\\_indef*.~~\n",
    "\n",
    "The error of the positive definite system, *Error\\_posdef*, where the \n",
    "penalty is chosen sufficiently large converges with the expected \n",
    "rate."
   ]
  },
  {
   "cell_type": "code",
   "execution_count": null,
   "metadata": {
    "dotnet_interactive": {
     "language": "csharp"
    }
   },
   "outputs": [],
   "source": [
    "var plt = new Plot2Ddata();\n",
    "plt.AddDataGroup(\"indef mtx\", Resolution, L2Error_indef);\n",
    "plt.AddDataGroup(\"pos def mtx\", Resolution, L2Error_posdef);\n",
    "\n",
    "/// A double-logarithmic scale is used:\n",
    "plt.LogX = true;\n",
    "plt.LogY = true;\n",
    "\n",
    "/// Set Format\n",
    "plt.dataGroups[0].Format =  new PlotFormat(lineColor: LineColors.Red, \n",
    "                                           pointSize: 2, \n",
    "                                           dashType: DashTypes.DotDashed, \n",
    "                                           Style: Styles.LinesPoints, \n",
    "                                           pointType:PointTypes.OpenCircle);\n",
    "plt.dataGroups[1].Format =  new PlotFormat(\"Blue-.o\"); // altenatively, using MATLAB-like format strings\n",
    "plt.dataGroups[1].Format.PointSize = 2;\n",
    "// Show!\n",
    "plt.PlotNow()"
   ]
  },
  {
   "cell_type": "markdown",
   "metadata": {
    "dotnet_interactive": {
     "language": "csharp"
    }
   },
   "source": [
    "Finally, we are going to compute the convergence rate of the SIP\n",
    "discretization.\n",
    "\n",
    "We compute the slope of the log-log plot:"
   ]
  },
  {
   "cell_type": "code",
   "execution_count": null,
   "metadata": {
    "dotnet_interactive": {
     "language": "csharp"
    }
   },
   "outputs": [],
   "source": [
    "double dk = Resolution.LogLogRegressionSlope(L2Error_posdef);"
   ]
  },
  {
   "cell_type": "code",
   "execution_count": null,
   "metadata": {
    "dotnet_interactive": {
     "language": "csharp"
    }
   },
   "outputs": [],
   "source": [
    "dk"
   ]
  },
  {
   "cell_type": "code",
   "execution_count": null,
   "metadata": {
    "dotnet_interactive": {
     "language": "csharp"
    }
   },
   "outputs": [],
   "source": [
    "/// tests BoSSScmdSilent\n",
    "Assert.LessOrEqual(dk, -2.9);"
   ]
  },
  {
   "cell_type": "markdown",
   "metadata": {},
   "source": [
    "### Visualization of minimal Eigenvectors"
   ]
  },
  {
   "cell_type": "markdown",
   "metadata": {},
   "source": [
    "An alternative way of identifying problems with the discretization is the investigation \n",
    "of minimal Eigenvalues (in absolute value) and the respective Eigenvectors/Eigensolutions.\n",
    "\n",
    "This very often unveils stability issues on rather coarse meshes."
   ]
  },
  {
   "cell_type": "code",
   "execution_count": null,
   "metadata": {},
   "outputs": [],
   "source": [
    "var grd2D       = Grid2D.Cartesian2DGrid(GenericBlas.Linspace(-1,1,11), \n",
    "                                         GenericBlas.Linspace(-1,1,11));\n",
    "var DGBasisOn2D = new Basis(grd2D, 2);\n",
    "var Mapping2D   = new UnsetteledCoordinateMapping(DGBasisOn2D);"
   ]
  },
  {
   "cell_type": "code",
   "execution_count": null,
   "metadata": {},
   "outputs": [],
   "source": [
    "i_SipLaplace.PenaltySafety    = 0.01;\n",
    "var Matrix_SIP_indef          = Operator_SipLaplace.ComputeMatrix(Mapping2D,null,Mapping2D);\n",
    "\n",
    "i_SipLaplace.PenaltySafety    = 4.0;\n",
    "var Matrix_SIP_posdef         = Operator_SipLaplace.ComputeMatrix(Mapping2D,null,Mapping2D);"
   ]
  },
  {
   "cell_type": "markdown",
   "metadata": {},
   "source": [
    "For both matrixes (indefinite and positive definite) one can determine the respective Eigenvectors (for the minimal Eigenvalue).\n",
    "Since Eigenvectors represent solution to the matrix for a RHS that is a multiple of the Eigenvector itself,\n",
    "it makes sense to interpret the Eigenvecor as a DG field."
   ]
  },
  {
   "cell_type": "code",
   "execution_count": null,
   "metadata": {},
   "outputs": [],
   "source": [
    "(var lmin_indef, var EvectMin_indef) = Matrix_SIP_indef.MinimalEigen();\n",
    "DGField dg_EvectMin_indef = new SinglePhaseField(DGBasisOn2D, \"MinimaEvect-indef\");\n",
    "dg_EvectMin_indef.CoordinateVector.SetV(EvectMin_indef);\n",
    "lmin_indef"
   ]
  },
  {
   "cell_type": "code",
   "execution_count": null,
   "metadata": {},
   "outputs": [],
   "source": [
    "(var lmin_posdef, var EvectMin_posdef) = Matrix_SIP_posdef.MinimalEigen();\n",
    "DGField dg_EvectMin_posdef = new SinglePhaseField(DGBasisOn2D, \"MinimaEvect-posdef\");\n",
    "dg_EvectMin_posdef.CoordinateVector.SetV(EvectMin_posdef);\n",
    "lmin_posdef"
   ]
  },
  {
   "cell_type": "markdown",
   "metadata": {},
   "source": [
    "In many cases, the visualization of Eigenvalues unveils spurious solutions, resp. instabilities\n",
    "which are hidden in the operator discretization.\n",
    "Compare the Visualization of both Eigenvectors, e.g. in Tecplot or Visit:"
   ]
  },
  {
   "cell_type": "code",
   "execution_count": null,
   "metadata": {},
   "outputs": [],
   "source": [
    "Tecplot(\"Eigenvectors\", dg_EvectMin_indef, dg_EvectMin_posdef);"
   ]
  },
  {
   "cell_type": "markdown",
   "metadata": {
    "dotnet_interactive": {
     "language": "csharp"
    }
   },
   "source": [
    "## Further reading\n",
    "\n",
    "- DiPietroErn2011\n",
    "- Arnold_1982\n"
   ]
  },
  {
   "cell_type": "code",
   "execution_count": null,
   "metadata": {},
   "outputs": [],
   "source": []
  }
 ],
 "metadata": {
  "kernelspec": {
   "display_name": ".NET (C#)",
   "language": "C#",
   "name": ".net-csharp"
  },
  "language_info": {
   "file_extension": ".cs",
   "mimetype": "text/x-csharp",
   "name": "C#",
   "pygments_lexer": "csharp",
   "version": "9.0"
  }
 },
 "nbformat": 4,
 "nbformat_minor": 4
}

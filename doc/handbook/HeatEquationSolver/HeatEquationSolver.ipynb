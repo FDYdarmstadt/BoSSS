{
 "cells": [
  {
   "cell_type": "markdown",
   "metadata": {},
   "source": [
    "# Heat Equation Solver using most recent API\n",
    "\n",
    "## What's new?\n",
    "\n",
    "\n",
    "- using the `XDGTimestepper` to perform a high-order, implicit time integration on the Heat equation\n",
    "- performing an ad-hoc time convergence study within notebook. We point out an **important difference**\n",
    "  regarding the error computed against the exact solution vs. the error computed against the numerical solution with the finest timestep (aka. \"experimental error\")\n",
    "\n",
    "## Prerequisites\n",
    "\n",
    "- implementation of the Symmetrical Interior Penalty (SIP) form for the Laplace operator,  chapter **SIP**\n",
    "\n",
    "\n",
    "## Problem statement\n",
    "\n",
    "We are investigating the instationary Heat equation\n",
    "$$\n",
    "  \\partial_t u - \\Delta u = 0 \\text{ in } (x,y) \\in (-1,1)^2, \\ \\ \\ u = 0 \\text{ on }  \\partial (-1,1)^2\n",
    "$$\n",
    "with the initial value\n",
    "$$\n",
    "    u_0(x,y) = \\cos(x \\pi / 2) \\cos(y \\pi / 2),\n",
    "$$\n",
    "and the exact solution\n",
    "$$\n",
    "    u_{\\text{ex}}(t,x,y) = ( -\\pi^2 / 2 ) u_0(x,y).\n",
    "$$"
   ]
  },
  {
   "cell_type": "markdown",
   "metadata": {},
   "source": [
    "## Solution within the BoSSS framework\n",
    "\n",
    "First, we initialize the new worksheet;\n",
    "Note: \n",
    "1. This tutorial can be found in the source code repository as as `HeatEquationSolver.ipynb`. \n",
    "   One can directly load this into Jupyter to interactively work with the following code examples.\n",
    "2. **In the following line, the reference to `BoSSSpad.dll` is required**. \n",
    "   You must either set `#r \"BoSSSpad.dll\"` to something which is appropirate for your computer\n",
    "   (e.g. `C:\\Program Files (x86)\\FDY\\BoSSS\\bin\\Release\\net6.0\\BoSSSpad.dll` if you installed the binary distribution),\n",
    "   or, if you are working with the source code, you must compile `BoSSSpad` and put it side-by-side to this worksheet file\n",
    "   (from the original location in the repository, you can use the scripts `getbossspad.sh`, resp. `getbossspad.bat`)."
   ]
  },
  {
   "cell_type": "code",
   "execution_count": null,
   "metadata": {
    "dotnet_interactive": {
     "language": "csharp"
    },
    "vscode": {
     "languageId": "polyglot-notebook"
    }
   },
   "outputs": [],
   "source": [
    "#r \"BoSSSpad.dll\"\n",
    "using System;\n",
    "using System.Collections.Generic;\n",
    "using System.Linq;\n",
    "using ilPSP;\n",
    "using ilPSP.Utils;\n",
    "using BoSSS.Platform;\n",
    "using BoSSS.Platform.LinAlg;\n",
    "using BoSSS.Foundation;\n",
    "using BoSSS.Foundation.XDG;\n",
    "using BoSSS.Foundation.Grid;\n",
    "using BoSSS.Foundation.Grid.Classic;\n",
    "using BoSSS.Foundation.Grid.RefElements;\n",
    "using BoSSS.Foundation.IO;\n",
    "using BoSSS.Solution;\n",
    "using BoSSS.Solution.Control;\n",
    "using BoSSS.Solution.GridImport;\n",
    "using BoSSS.Solution.Statistic;\n",
    "using BoSSS.Solution.Utils;\n",
    "using BoSSS.Solution.AdvancedSolvers;\n",
    "using BoSSS.Solution.Gnuplot;\n",
    "using BoSSS.Application.BoSSSpad;\n",
    "using BoSSS.Application.XNSE_Solver;\n",
    "using BoSSS.Application.XNSFE_Solver;\n",
    "using static BoSSS.Application.BoSSSpad.BoSSSshell;\n",
    "Init();"
   ]
  },
  {
   "cell_type": "code",
   "execution_count": null,
   "metadata": {
    "dotnet_interactive": {
     "language": "csharp"
    },
    "polyglot_notebook": {
     "kernelName": "csharp"
    },
    "vscode": {
     "languageId": "polyglot-notebook"
    }
   },
   "outputs": [],
   "source": [
    "using BoSSS.Solution.XdgTimestepping;"
   ]
  },
  {
   "cell_type": "markdown",
   "metadata": {},
   "source": [
    "## Creation of Grid and Differential Operator\n",
    "\n",
    "Here, 1 2D, $16 \\times 16$ mesh is used:"
   ]
  },
  {
   "cell_type": "code",
   "execution_count": null,
   "metadata": {
    "dotnet_interactive": {
     "language": "csharp"
    },
    "polyglot_notebook": {
     "kernelName": "csharp"
    },
    "vscode": {
     "languageId": "polyglot-notebook"
    }
   },
   "outputs": [],
   "source": [
    "var grid = Grid2D.Cartesian2DGrid(GenericBlas.Linspace(-1,1,17), GenericBlas.Linspace(-1,1,17));"
   ]
  },
  {
   "cell_type": "markdown",
   "metadata": {},
   "source": [
    "Regarding the spatial part of the operator, we re-use the SIP-implementation \n",
    "which is already available in the `BoSSS.Solution.NSECommon` library.\n",
    "For this implementation, whe have to specify the diffusion coefficient (here to -1.0)\n",
    "as well as the Location of the Dirichlet boundary."
   ]
  },
  {
   "cell_type": "code",
   "execution_count": null,
   "metadata": {
    "dotnet_interactive": {
     "language": "csharp"
    },
    "polyglot_notebook": {
     "kernelName": "csharp"
    },
    "vscode": {
     "languageId": "polyglot-notebook"
    }
   },
   "outputs": [],
   "source": [
    "class Laplace : BoSSS.Solution.NSECommon.SIPLaplace {\n",
    "\n",
    "    public Laplace() : base(1.4, \"u\") { } // override the constuctor; \n",
    "    //                                       The factor 1.4 is a constant \"safty factor\" multiper for the penalty parameter.\n",
    "    //                                       The base implementation takes care about all other penalty factor dependencies, \n",
    "    //                                       i.e. dependence of the penatly factor on local cell size, DG polynomial degree and cell shape.\n",
    "    //                                       The second argument, \"u\", is the name of the variable for the `ArgumentOrdering`.\n",
    "\n",
    "\n",
    "    // Specifies whetherss a specific point (`inp.X`) is either a Dirichlet or a Neumann boundary;\n",
    "    // Since in our case ther, the entire boundary should be Diriclet, we always return true.\n",
    "    protected override bool IsDirichlet(ref CommonParamsBnd inp) {\n",
    "        return true;\n",
    "    }\n",
    "    \n",
    "    // diffusion coefficient\n",
    "    override public double Nu(double[] x, double[] p, int jCell) {\n",
    "        return -1.0;\n",
    "    }\n",
    "\n",
    "}"
   ]
  },
  {
   "cell_type": "markdown",
   "metadata": {},
   "source": [
    "We compose the differential operator from the previously created \n",
    "`Laplace` implementation. \n",
    "The `Laplace` is also called an \"equation component\". \n",
    "Individual equation components can be combined int a differential/spatial operator.\n",
    "This \"componentization\" allows to later re-use the components in different operators."
   ]
  },
  {
   "cell_type": "code",
   "execution_count": null,
   "metadata": {
    "dotnet_interactive": {
     "language": "csharp"
    },
    "polyglot_notebook": {
     "kernelName": "csharp"
    },
    "vscode": {
     "languageId": "polyglot-notebook"
    }
   },
   "outputs": [],
   "source": [
    "var Op = new DifferentialOperator(1, 0, 1, QuadOrderFunc.Linear(), \"u\", \"R1\");\n",
    "\n",
    "Op.EquationComponents[\"R1\"].Add(new Laplace()); // adding \n",
    "\n",
    "Op.TemporalOperator = new ConstantTemporalOperator(Op);\n",
    "Op.IsLinear = true;\n",
    "Op.Commit();"
   ]
  },
  {
   "cell_type": "markdown",
   "metadata": {},
   "source": [
    "**Note on historical development and inconsistent naming conventions:**\n",
    "Until 2020-API changes, (API-layer 2, aka. `BoSSS.Foundation`) BoSSS concentrated on spatial operators. \n",
    "Thus, differential operators were called \"spatial operators\".\n",
    "Time discretization was taken car of in higher levels and/or left to the user.\n",
    "Later, as an attempt to unify the temporal integration, the `ITemporalOperator` was created,\n",
    "which was added to the spatial operator, rendering its naming inconsistent.\n",
    "At some later point (mid 2023), the spatial operator was renamed to \"differential operator\", but the oly name \n",
    "might still appear in multiple places, especially in the documentation."
   ]
  },
  {
   "cell_type": "markdown",
   "metadata": {},
   "source": [
    "## Performing Temporal Integration"
   ]
  },
  {
   "cell_type": "code",
   "execution_count": null,
   "metadata": {
    "dotnet_interactive": {
     "language": "csharp"
    },
    "polyglot_notebook": {
     "kernelName": "csharp"
    },
    "vscode": {
     "languageId": "polyglot-notebook"
    }
   },
   "outputs": [],
   "source": [
    "SinglePhaseField TimeIntegrate(SinglePhaseField u0, double EndTime, int NoOfTimeteps) {\n",
    "    var u1 = u0.CloneAs();\n",
    "    var Timestepper = new XdgTimestepping(Op, new DGField[] { u1 }, new DGField[] { new SinglePhaseField(u0.Basis)}, \n",
    "                            TimeSteppingScheme.SDIRK_54);\n",
    "\n",
    "\n",
    "    double dt = EndTime/NoOfTimeteps;\n",
    "\n",
    "    for(int i = 0; i < NoOfTimeteps; i++)\n",
    "        Timestepper.Solve(dt*i, dt);\n",
    "    \n",
    "    return u1;\n",
    "}"
   ]
  },
  {
   "cell_type": "markdown",
   "metadata": {},
   "source": [
    "Specify the initial value; For the initial field we also specify the DG polynomial degree 4,\n",
    "which also sets the DG polynomial degree for the numerical solution."
   ]
  },
  {
   "cell_type": "code",
   "execution_count": null,
   "metadata": {
    "dotnet_interactive": {
     "language": "csharp"
    },
    "polyglot_notebook": {
     "kernelName": "csharp"
    },
    "vscode": {
     "languageId": "polyglot-notebook"
    }
   },
   "outputs": [],
   "source": [
    "var u0 = new SinglePhaseField(new Basis(grid, 4), \"u\");\n",
    "u0.ProjectField((double[] X) => Math.Cos(X[0]*Math.PI*0.5)*Math.Cos(X[1]*Math.PI*0.5));"
   ]
  },
  {
   "cell_type": "code",
   "execution_count": null,
   "metadata": {
    "dotnet_interactive": {
     "language": "csharp"
    },
    "polyglot_notebook": {
     "kernelName": "csharp"
    },
    "vscode": {
     "languageId": "polyglot-notebook"
    }
   },
   "outputs": [],
   "source": [
    "Tecplot(\"u0\", u0);"
   ]
  },
  {
   "cell_type": "code",
   "execution_count": null,
   "metadata": {
    "dotnet_interactive": {
     "language": "csharp"
    },
    "polyglot_notebook": {
     "kernelName": "csharp"
    },
    "vscode": {
     "languageId": "polyglot-notebook"
    }
   },
   "outputs": [],
   "source": [
    "//for(int i = 0; i < 10; i++) {\n",
    "//    Console.WriteLine(\"   --------------  timestep: \" + (i + 1));\n",
    "//    var u1 = TimeIntegrate(u0, 0.1, 1);\n",
    "//    Tecplot(\"u\" + (i+1), u1);\n",
    "//    u0 = u1;\n",
    "//}"
   ]
  },
  {
   "cell_type": "markdown",
   "metadata": {},
   "source": [
    "## Performing a temporal convergence study"
   ]
  },
  {
   "cell_type": "code",
   "execution_count": null,
   "metadata": {
    "dotnet_interactive": {
     "language": "csharp"
    },
    "polyglot_notebook": {
     "kernelName": "csharp"
    },
    "vscode": {
     "languageId": "polyglot-notebook"
    }
   },
   "outputs": [],
   "source": [
    "var NoOfTimestepS = new int[] { 1, 2, 5, 10, 20, 50, 100, 200, 500, 1000/*, 2000, 5000*/ };\n",
    "var solutions = new List<SinglePhaseField>();\n",
    "for(int i = 0; i < NoOfTimestepS.Length; i++) {\n",
    "    Console.WriteLine(\"   --------------  computing no of timeteps: \" + NoOfTimestepS[i]);\n",
    "    var u1 = TimeIntegrate(u0, 0.1, NoOfTimestepS[i]);\n",
    "    //Tecplot(\"u1.\" + i, u1);\n",
    "    solutions.Add(u1);\n",
    "}"
   ]
  },
  {
   "cell_type": "code",
   "execution_count": null,
   "metadata": {
    "dotnet_interactive": {
     "language": "csharp"
    },
    "polyglot_notebook": {
     "kernelName": "csharp"
    },
    "vscode": {
     "languageId": "polyglot-notebook"
    }
   },
   "outputs": [],
   "source": [
    "for(int i = 0; i < solutions.Count; i++)\n",
    "    Tecplot(\"u1.\" + i, solutions[i]);"
   ]
  },
  {
   "cell_type": "markdown",
   "metadata": {},
   "source": [
    "Computing the error against the exact solution:"
   ]
  },
  {
   "cell_type": "code",
   "execution_count": null,
   "metadata": {
    "dotnet_interactive": {
     "language": "csharp"
    },
    "polyglot_notebook": {
     "kernelName": "csharp"
    },
    "vscode": {
     "languageId": "polyglot-notebook"
    }
   },
   "outputs": [],
   "source": [
    "double uExEq(double[] X) {\n",
    "   double Lambda = -Math.PI.Pow2()*0.5;\n",
    "   double tend = 0.1;\n",
    "   double u0 = Math.Cos(X[0]*Math.PI*0.5)*Math.Cos(X[1]*Math.PI*0.5);\n",
    "   return Math.Exp(Lambda*tend)*u0;\n",
    "}"
   ]
  },
  {
   "cell_type": "code",
   "execution_count": null,
   "metadata": {
    "dotnet_interactive": {
     "language": "csharp"
    },
    "polyglot_notebook": {
     "kernelName": "csharp"
    },
    "vscode": {
     "languageId": "polyglot-notebook"
    }
   },
   "outputs": [],
   "source": [
    "double[] ErrEx = new double[solutions.Count];\n",
    "for(int i = 0; i < ErrEx.Length; i++) {\n",
    "    ErrEx[i] = solutions[i].L2Error(uExEq);\n",
    "}"
   ]
  },
  {
   "cell_type": "code",
   "execution_count": null,
   "metadata": {
    "dotnet_interactive": {
     "language": "csharp"
    },
    "polyglot_notebook": {
     "kernelName": "csharp"
    },
    "vscode": {
     "languageId": "polyglot-notebook"
    }
   },
   "outputs": [],
   "source": [
    "ErrEx"
   ]
  },
  {
   "cell_type": "markdown",
   "metadata": {},
   "source": [
    "Computing the error against the finest solution:"
   ]
  },
  {
   "cell_type": "code",
   "execution_count": null,
   "metadata": {
    "dotnet_interactive": {
     "language": "csharp"
    },
    "polyglot_notebook": {
     "kernelName": "csharp"
    },
    "vscode": {
     "languageId": "polyglot-notebook"
    }
   },
   "outputs": [],
   "source": [
    "var uFinest = solutions.Last();"
   ]
  },
  {
   "cell_type": "code",
   "execution_count": null,
   "metadata": {
    "dotnet_interactive": {
     "language": "csharp"
    },
    "polyglot_notebook": {
     "kernelName": "csharp"
    },
    "vscode": {
     "languageId": "polyglot-notebook"
    }
   },
   "outputs": [],
   "source": [
    "var Errs = solutions.Take(solutions.Count - 1).Select(u => u.L2Error(uFinest)).ToArray();"
   ]
  },
  {
   "cell_type": "code",
   "execution_count": null,
   "metadata": {
    "dotnet_interactive": {
     "language": "csharp"
    },
    "polyglot_notebook": {
     "kernelName": "csharp"
    },
    "vscode": {
     "languageId": "polyglot-notebook"
    }
   },
   "outputs": [],
   "source": [
    "Errs"
   ]
  },
  {
   "cell_type": "markdown",
   "metadata": {},
   "source": [
    "Computing the error between each solution and the finer one:"
   ]
  },
  {
   "cell_type": "code",
   "execution_count": null,
   "metadata": {
    "dotnet_interactive": {
     "language": "csharp"
    },
    "polyglot_notebook": {
     "kernelName": "csharp"
    },
    "vscode": {
     "languageId": "polyglot-notebook"
    }
   },
   "outputs": [],
   "source": [
    "double[] diffs = new double[solutions.Count - 1];\n",
    "for(int i = 0; i < diffs.Length; i++) {\n",
    "    diffs[i] = solutions[i].L2Error(solutions[i + 1]);\n",
    "}"
   ]
  },
  {
   "cell_type": "code",
   "execution_count": null,
   "metadata": {
    "dotnet_interactive": {
     "language": "csharp"
    },
    "polyglot_notebook": {
     "kernelName": "csharp"
    },
    "vscode": {
     "languageId": "polyglot-notebook"
    }
   },
   "outputs": [],
   "source": [
    "diffs"
   ]
  },
  {
   "cell_type": "markdown",
   "metadata": {},
   "source": [
    "Computing the experimental error of the DG discretization with DG polynomial degree $k$ against degree $k-1$."
   ]
  },
  {
   "cell_type": "code",
   "execution_count": null,
   "metadata": {
    "dotnet_interactive": {
     "language": "csharp"
    },
    "polyglot_notebook": {
     "kernelName": "csharp"
    },
    "vscode": {
     "languageId": "polyglot-notebook"
    }
   },
   "outputs": [],
   "source": [
    "double ErrHi(SinglePhaseField u) {\n",
    "    SinglePhaseField uLo = new SinglePhaseField(new Basis(u.Basis.GridDat, u.Basis.Degree - 1));\n",
    "    uLo.AccLaidBack(1.0, u);\n",
    "    var uHi = u.CloneAs();\n",
    "    uHi.AccLaidBack(-1.0, uLo);\n",
    "    return uHi.L2Norm();\n",
    "}"
   ]
  },
  {
   "cell_type": "code",
   "execution_count": null,
   "metadata": {
    "dotnet_interactive": {
     "language": "csharp"
    },
    "polyglot_notebook": {
     "kernelName": "csharp"
    },
    "vscode": {
     "languageId": "polyglot-notebook"
    }
   },
   "outputs": [],
   "source": [
    "double[] HiDeg = new double[solutions.Count];\n",
    "for(int i = 0; i < HiDeg.Length; i++) {\n",
    "    HiDeg[i] = ErrHi(solutions[i]);\n",
    "}"
   ]
  },
  {
   "cell_type": "code",
   "execution_count": null,
   "metadata": {
    "dotnet_interactive": {
     "language": "csharp"
    },
    "polyglot_notebook": {
     "kernelName": "csharp"
    },
    "vscode": {
     "languageId": "polyglot-notebook"
    }
   },
   "outputs": [],
   "source": [
    "HiDeg"
   ]
  },
  {
   "cell_type": "markdown",
   "metadata": {},
   "source": [
    "### Plotting different errors"
   ]
  },
  {
   "cell_type": "code",
   "execution_count": null,
   "metadata": {
    "dotnet_interactive": {
     "language": "csharp"
    },
    "polyglot_notebook": {
     "kernelName": "csharp"
    },
    "vscode": {
     "languageId": "polyglot-notebook"
    }
   },
   "outputs": [],
   "source": [
    "var gp = new Gnuplot();\n",
    "double[] ts = NoOfTimestepS.Take(NoOfTimestepS.Length).Select(x => (double)x).ToArray();\n",
    "double[] ts1 = ts.Take(NoOfTimestepS.Length - 1).ToArray();\n",
    "gp.PlotLogXLogY(ts1, Errs,  title:\"Exp Error\", format:new PlotFormat(\"-xk\"));\n",
    "gp.PlotLogXLogY(ts1, diffs, title:\"Diffs\", format:new PlotFormat(\"-ob\"));\n",
    "gp.PlotLogXLogY(ts,  ErrEx, title:\"Exact Error\", format:new PlotFormat(\"-+r\"));\n",
    "gp.PlotLogXLogY(ts,  HiDeg, title:\"High Degree Norm\", format:new PlotFormat(\":ok\"));\n",
    "gp.PlotNow()"
   ]
  },
  {
   "cell_type": "markdown",
   "metadata": {},
   "source": [
    "Confirming the order of the time integration:"
   ]
  },
  {
   "cell_type": "code",
   "execution_count": null,
   "metadata": {
    "dotnet_interactive": {
     "language": "csharp"
    },
    "polyglot_notebook": {
     "kernelName": "csharp"
    },
    "vscode": {
     "languageId": "polyglot-notebook"
    }
   },
   "outputs": [],
   "source": [
    "double slope = ts.Take(6).LogLogRegressionSlope(Errs.Take(6));\n",
    "slope"
   ]
  },
  {
   "cell_type": "code",
   "execution_count": null,
   "metadata": {
    "dotnet_interactive": {
     "language": "csharp"
    },
    "polyglot_notebook": {
     "kernelName": "csharp"
    },
    "vscode": {
     "languageId": "polyglot-notebook"
    }
   },
   "outputs": [],
   "source": [
    "NUnit.Framework.Assert.LessOrEqual(slope, -3.5, \"time convergence of the DIRK_54 method is not reached.\")"
   ]
  },
  {
   "cell_type": "markdown",
   "metadata": {},
   "source": [
    "Note that the lower limit (lower plateau) of the error plots looks different, depending \n",
    "- whether we compare against the finest solution (aka. experimental error, \"Exp Error\" in plot),\n",
    "- or we compare against the \"real\" exact solution (\"Exact Error\" in plot).\n",
    "\n",
    "Fro finer time-steps, the experimental error is reducing further and further,\n",
    "the lower plateau is the floating-point accuracy limit of the `double` data type.\n",
    "The exact error hits its lower plateau at a much higher level,\n",
    "where the accuracy limit by the DG polynomial degree and the spatial accuracy is reached.\n",
    "I.e., using a finer resolution and/or higher DG degree will bring the lower limit of the red curve further down. \n",
    "The blue and red curve are not affected by the spatial resolution - one would have to \n",
    "use increased floating-point accuracy (not feasible for BoSSS) to get this limit lower."
   ]
  }
 ],
 "metadata": {
  "kernelspec": {
   "display_name": ".NET (C#)",
   "language": "C#",
   "name": ".net-csharp"
  },
  "language_info": {
   "file_extension": ".cs",
   "mimetype": "text/x-csharp",
   "name": "C#",
   "pygments_lexer": "csharp",
   "version": "11.0"
  }
 },
 "nbformat": 4,
 "nbformat_minor": 4
}

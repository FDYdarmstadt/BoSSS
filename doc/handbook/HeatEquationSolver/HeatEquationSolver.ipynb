{
 "cells": [
  {
   "cell_type": "markdown",
   "metadata": {},
   "source": [
    "# Heat Equation Solver using most recent API\n",
    "\n",
    "## What's new?\n",
    "\n",
    "\n",
    "- using the `XDGTimestepper` to perform a high-order, implicit time integration on the Heat equation\n",
    "- performing an ad-hoc time convergence study within notebook. We point out an **important difference**\n",
    "  regarding the error computed against the exact solution vs. the error computed against the numerical solution with the finest timestep (aka. \"experimental error\")\n",
    "\n",
    "## Prerequisites\n",
    "\n",
    "- implementation of the Symmetrical Interior Penalty (SIP) form for the Laplace operator,  chapter **SIP**\n",
    "\n",
    "\n",
    "## Problem statement\n",
    "\n",
    "We are investigating the instationary Heat equation\n",
    "$$\n",
    "  \\partial_t u - \\Delta u = 0 \\text{ in } (x,y) \\in (-1,1)^2, \\ \\ \\ u = 0 \\text{ on }  \\partial (-1,1)^2\n",
    "$$\n",
    "with the initial value\n",
    "$$\n",
    "    u_0(x,y) = \\cos(x \\pi / 2) \\cos(y \\pi / 2),\n",
    "$$\n",
    "and the exact solution\n",
    "$$\n",
    "    u_{\\text{ex}}(t,x,y) = ( -\\pi^2 / 2 ) u_0(x,y).\n",
    "$$"
   ]
  },
  {
   "cell_type": "markdown",
   "metadata": {},
   "source": [
    "## Solution within the BoSSS framework\n",
    "\n",
    "First, we initialize the new worksheet;\n",
    "Note: \n",
    "1. This tutorial can be found in the source code repository as as `HeatEquationSolver.ipynb`. \n",
    "   One can directly load this into Jupyter to interactively work with the following code examples.\n",
    "2. **In the following line, the reference to `BoSSSpad.dll` is required**. \n",
    "   You must either set `#r \"BoSSSpad.dll\"` to something which is appropirate for your computer\n",
    "   (e.g. `C:\\Program Files (x86)\\FDY\\BoSSS\\bin\\Release\\net6.0\\BoSSSpad.dll` if you installed the binary distribution),\n",
    "   or, if you are working with the source code, you must compile `BoSSSpad` and put it side-by-side to this worksheet file\n",
    "   (from the original location in the repository, you can use the scripts `getbossspad.sh`, resp. `getbossspad.bat`)."
   ]
  },
  {
   "cell_type": "code",
   "execution_count": 1,
   "metadata": {
    "dotnet_interactive": {
     "language": "csharp"
    },
    "vscode": {
     "languageId": "polyglot-notebook"
    }
   },
   "outputs": [],
   "source": [
    "#r \"BoSSSpad.dll\"\n",
    "using System;\n",
    "using System.Collections.Generic;\n",
    "using System.Linq;\n",
    "using ilPSP;\n",
    "using ilPSP.Utils;\n",
    "using BoSSS.Platform;\n",
    "using BoSSS.Platform.LinAlg;\n",
    "using BoSSS.Foundation;\n",
    "using BoSSS.Foundation.XDG;\n",
    "using BoSSS.Foundation.Grid;\n",
    "using BoSSS.Foundation.Grid.Classic;\n",
    "using BoSSS.Foundation.Grid.RefElements;\n",
    "using BoSSS.Foundation.IO;\n",
    "using BoSSS.Solution;\n",
    "using BoSSS.Solution.Control;\n",
    "using BoSSS.Solution.GridImport;\n",
    "using BoSSS.Solution.Statistic;\n",
    "using BoSSS.Solution.Utils;\n",
    "using BoSSS.Solution.AdvancedSolvers;\n",
    "using BoSSS.Solution.Gnuplot;\n",
    "using BoSSS.Application.BoSSSpad;\n",
    "using BoSSS.Application.XNSE_Solver;\n",
    "using BoSSS.Application.XNSFE_Solver;\n",
    "using static BoSSS.Application.BoSSSpad.BoSSSshell;\n",
    "Init();"
   ]
  },
  {
   "cell_type": "code",
   "execution_count": 2,
   "metadata": {
    "dotnet_interactive": {
     "language": "csharp"
    },
    "polyglot_notebook": {
     "kernelName": "csharp"
    },
    "vscode": {
     "languageId": "polyglot-notebook"
    }
   },
   "outputs": [],
   "source": [
    "using BoSSS.Solution.XdgTimestepping;"
   ]
  },
  {
   "cell_type": "markdown",
   "metadata": {},
   "source": [
    "## Creation of Grid and Differential Operator\n",
    "\n",
    "Here, 1 2D, $16 \\times 16$ mesh is used:"
   ]
  },
  {
   "cell_type": "code",
   "execution_count": 3,
   "metadata": {
    "dotnet_interactive": {
     "language": "csharp"
    },
    "polyglot_notebook": {
     "kernelName": "csharp"
    },
    "vscode": {
     "languageId": "polyglot-notebook"
    }
   },
   "outputs": [],
   "source": [
    "var grid = Grid2D.Cartesian2DGrid(GenericBlas.Linspace(-1,1,17), GenericBlas.Linspace(-1,1,17));"
   ]
  },
  {
   "cell_type": "markdown",
   "metadata": {},
   "source": [
    "Regarding the spatial part of the operator, we re-use the SIP-implementation \n",
    "which is already available in the `BoSSS.Solution.NSECommon` library.\n",
    "For this implementation, whe have to specify the diffusion coefficient (here to -1.0)\n",
    "as well as the Location of the Dirichlet boundary."
   ]
  },
  {
   "cell_type": "code",
   "execution_count": 4,
   "metadata": {
    "dotnet_interactive": {
     "language": "csharp"
    },
    "polyglot_notebook": {
     "kernelName": "csharp"
    },
    "vscode": {
     "languageId": "polyglot-notebook"
    }
   },
   "outputs": [],
   "source": [
    "class Laplace : BoSSS.Solution.NSECommon.SIPLaplace {\n",
    "\n",
    "    public Laplace() : base(1.4, \"u\") { } // override the constuctor; \n",
    "    //                                       The factor 1.4 is a constant \"safty factor\" multiper for the penalty parameter.\n",
    "    //                                       The base implementation takes care about all other penalty factor dependencies, \n",
    "    //                                       i.e. dependence of the penatly factor on local cell size, DG polynomial degree and cell shape.\n",
    "    //                                       The second argument, \"u\", is the name of the variable for the `ArgumentOrdering`.\n",
    "\n",
    "\n",
    "    // Specifies whetherss a specific point (`inp.X`) is either a Dirichlet or a Neumann boundary;\n",
    "    // Since in our case ther, the entire boundary should be Diriclet, we always return true.\n",
    "    protected override bool IsDirichlet(ref CommonParamsBnd inp) {\n",
    "        return true;\n",
    "    }\n",
    "    \n",
    "    // diffusion coefficient\n",
    "    override public double Nu(double[] x, double[] p, int jCell) {\n",
    "        return -1.0;\n",
    "    }\n",
    "\n",
    "}"
   ]
  },
  {
   "cell_type": "markdown",
   "metadata": {},
   "source": [
    "We compose the differential operator from the previously created \n",
    "`Laplace` implementation. \n",
    "The `Laplace` is also called an \"equation component\". \n",
    "Individual equation components can be combined int a differential/spatial operator.\n",
    "This \"componentization\" allows to later re-use the components in different operators."
   ]
  },
  {
   "cell_type": "code",
   "execution_count": 5,
   "metadata": {
    "dotnet_interactive": {
     "language": "csharp"
    },
    "polyglot_notebook": {
     "kernelName": "csharp"
    },
    "vscode": {
     "languageId": "polyglot-notebook"
    }
   },
   "outputs": [],
   "source": [
    "var Op = new DifferentialOperator(1, 0, 1, QuadOrderFunc.Linear(), \"u\", \"R1\");\n",
    "\n",
    "Op.EquationComponents[\"R1\"].Add(new Laplace()); // adding \n",
    "\n",
    "Op.TemporalOperator = new ConstantTemporalOperator(Op);\n",
    "Op.IsLinear = true;\n",
    "Op.Commit();"
   ]
  },
  {
   "cell_type": "markdown",
   "metadata": {},
   "source": [
    "**Note on historical development and inconsistent naming conventions:**\n",
    "Until 2020-API changes, (API-layer 2, aka. `BoSSS.Foundation`) BoSSS concentrated on spatial operators. \n",
    "Thus, differential operators were called \"spatial operators\".\n",
    "Time discretization was taken car of in higher levels and/or left to the user.\n",
    "Later, as an attempt to unify the temporal integration, the `ITemporalOperator` was created,\n",
    "which was added to the spatial operator, rendering its naming inconsistent.\n",
    "At some later point (mid 2023), the spatial operator was renamed to \"differential operator\", but the oly name \n",
    "might still appear in multiple places, especially in the documentation."
   ]
  },
  {
   "cell_type": "markdown",
   "metadata": {},
   "source": [
    "## Performing Temporal Integration"
   ]
  },
  {
   "cell_type": "code",
   "execution_count": 6,
   "metadata": {
    "dotnet_interactive": {
     "language": "csharp"
    },
    "polyglot_notebook": {
     "kernelName": "csharp"
    },
    "vscode": {
     "languageId": "polyglot-notebook"
    }
   },
   "outputs": [],
   "source": [
    "SinglePhaseField TimeIntegrate(SinglePhaseField u0, double EndTime, int NoOfTimeteps) {\n",
    "    var u1 = u0.CloneAs();\n",
    "    var Timestepper = new XdgTimestepping(Op, new DGField[] { u1 }, new DGField[] { new SinglePhaseField(u0.Basis)}, \n",
    "                            TimeSteppingScheme.SDIRK_54);\n",
    "\n",
    "\n",
    "    double dt = EndTime/NoOfTimeteps;\n",
    "\n",
    "    for(int i = 0; i < NoOfTimeteps; i++)\n",
    "        Timestepper.Solve(dt*i, dt);\n",
    "    \n",
    "    return u1;\n",
    "}"
   ]
  },
  {
   "cell_type": "markdown",
   "metadata": {},
   "source": [
    "Specify the initial value; For the initial field we also specify the DG polynomial degree 4,\n",
    "which also sets the DG polynomial degree for the numerical solution."
   ]
  },
  {
   "cell_type": "code",
   "execution_count": 7,
   "metadata": {
    "dotnet_interactive": {
     "language": "csharp"
    },
    "polyglot_notebook": {
     "kernelName": "csharp"
    },
    "vscode": {
     "languageId": "polyglot-notebook"
    }
   },
   "outputs": [],
   "source": [
    "var u0 = new SinglePhaseField(new Basis(grid, 4), \"u\");\n",
    "u0.ProjectField((double[] X) => Math.Cos(X[0]*Math.PI*0.5)*Math.Cos(X[1]*Math.PI*0.5));"
   ]
  },
  {
   "cell_type": "code",
   "execution_count": 8,
   "metadata": {
    "dotnet_interactive": {
     "language": "csharp"
    },
    "polyglot_notebook": {
     "kernelName": "csharp"
    },
    "vscode": {
     "languageId": "polyglot-notebook"
    }
   },
   "outputs": [
    {
     "name": "stdout",
     "output_type": "stream",
     "text": [
      "Supersampling 4 requested, but limiting to 3 because higher values would very likely exceed this computers memory.\n",
      "Note: Higher supersampling values are supported by external plot application, or by using e.g. the Tecplot class directly.\n",
      "Writing output file c:\\experimental\\public\\doc\\handbook\\HeatEquationSolver\\u0...\n",
      "done.\n"
     ]
    }
   ],
   "source": [
    "Tecplot(\"u0\", u0);"
   ]
  },
  {
   "cell_type": "code",
   "execution_count": 9,
   "metadata": {
    "dotnet_interactive": {
     "language": "csharp"
    },
    "polyglot_notebook": {
     "kernelName": "csharp"
    },
    "vscode": {
     "languageId": "polyglot-notebook"
    }
   },
   "outputs": [],
   "source": [
    "//for(int i = 0; i < 10; i++) {\n",
    "//    Console.WriteLine(\"   --------------  timestep: \" + (i + 1));\n",
    "//    var u1 = TimeIntegrate(u0, 0.1, 1);\n",
    "//    Tecplot(\"u\" + (i+1), u1);\n",
    "//    u0 = u1;\n",
    "//}"
   ]
  },
  {
   "cell_type": "markdown",
   "metadata": {},
   "source": [
    "## Performing a temporal convergence study"
   ]
  },
  {
   "cell_type": "code",
   "execution_count": 10,
   "metadata": {
    "dotnet_interactive": {
     "language": "csharp"
    },
    "polyglot_notebook": {
     "kernelName": "csharp"
    },
    "vscode": {
     "languageId": "polyglot-notebook"
    }
   },
   "outputs": [
    {
     "name": "stdout",
     "output_type": "stream",
     "text": [
      "   --------------  computing no of timeteps: 1\n",
      "Warning: Multigrid sequence is requested, but not setup for this mesh; performing a zero-aggregation with one level; consider configuring multigrid using the `AggregationGridData[] MultigridSequence(...)` method.\n",
      "   --------------  computing no of timeteps: 2\n",
      "   --------------  computing no of timeteps: 5\n",
      "   --------------  computing no of timeteps: 10\n",
      "   --------------  computing no of timeteps: 20\n",
      "   --------------  computing no of timeteps: 50\n",
      "   --------------  computing no of timeteps: 100\n",
      "   --------------  computing no of timeteps: 200\n",
      "   --------------  computing no of timeteps: 500\n",
      "   --------------  computing no of timeteps: 1000\n"
     ]
    }
   ],
   "source": [
    "var NoOfTimestepS = new int[] { 1, 2, 5, 10, 20, 50, 100, 200, 500, 1000/*, 2000, 5000*/ };\n",
    "var solutions = new List<SinglePhaseField>();\n",
    "for(int i = 0; i < NoOfTimestepS.Length; i++) {\n",
    "    Console.WriteLine(\"   --------------  computing no of timeteps: \" + NoOfTimestepS[i]);\n",
    "    var u1 = TimeIntegrate(u0, 0.1, NoOfTimestepS[i]);\n",
    "    //Tecplot(\"u1.\" + i, u1);\n",
    "    solutions.Add(u1);\n",
    "}"
   ]
  },
  {
   "cell_type": "code",
   "execution_count": 11,
   "metadata": {
    "dotnet_interactive": {
     "language": "csharp"
    },
    "polyglot_notebook": {
     "kernelName": "csharp"
    },
    "vscode": {
     "languageId": "polyglot-notebook"
    }
   },
   "outputs": [
    {
     "name": "stdout",
     "output_type": "stream",
     "text": [
      "Supersampling 4 requested, but limiting to 3 because higher values would very likely exceed this computers memory.\n",
      "Note: Higher supersampling values are supported by external plot application, or by using e.g. the Tecplot class directly.\n",
      "Writing output file c:\\experimental\\public\\doc\\handbook\\HeatEquationSolver\\u1.0...\n",
      "done.\n",
      "Supersampling 4 requested, but limiting to 3 because higher values would very likely exceed this computers memory.\n",
      "Note: Higher supersampling values are supported by external plot application, or by using e.g. the Tecplot class directly.\n",
      "Writing output file c:\\experimental\\public\\doc\\handbook\\HeatEquationSolver\\u1.1...\n",
      "done.\n",
      "Supersampling 4 requested, but limiting to 3 because higher values would very likely exceed this computers memory.\n",
      "Note: Higher supersampling values are supported by external plot application, or by using e.g. the Tecplot class directly.\n",
      "Writing output file c:\\experimental\\public\\doc\\handbook\\HeatEquationSolver\\u1.2...\n",
      "done.\n",
      "Supersampling 4 requested, but limiting to 3 because higher values would very likely exceed this computers memory.\n",
      "Note: Higher supersampling values are supported by external plot application, or by using e.g. the Tecplot class directly.\n",
      "Writing output file c:\\experimental\\public\\doc\\handbook\\HeatEquationSolver\\u1.3...\n",
      "done.\n",
      "Supersampling 4 requested, but limiting to 3 because higher values would very likely exceed this computers memory.\n",
      "Note: Higher supersampling values are supported by external plot application, or by using e.g. the Tecplot class directly.\n",
      "Writing output file c:\\experimental\\public\\doc\\handbook\\HeatEquationSolver\\u1.4...\n",
      "done.\n",
      "Supersampling 4 requested, but limiting to 3 because higher values would very likely exceed this computers memory.\n",
      "Note: Higher supersampling values are supported by external plot application, or by using e.g. the Tecplot class directly.\n",
      "Writing output file c:\\experimental\\public\\doc\\handbook\\HeatEquationSolver\\u1.5...\n",
      "done.\n",
      "Supersampling 4 requested, but limiting to 3 because higher values would very likely exceed this computers memory.\n",
      "Note: Higher supersampling values are supported by external plot application, or by using e.g. the Tecplot class directly.\n",
      "Writing output file c:\\experimental\\public\\doc\\handbook\\HeatEquationSolver\\u1.6...\n",
      "done.\n",
      "Supersampling 4 requested, but limiting to 3 because higher values would very likely exceed this computers memory.\n",
      "Note: Higher supersampling values are supported by external plot application, or by using e.g. the Tecplot class directly.\n",
      "Writing output file c:\\experimental\\public\\doc\\handbook\\HeatEquationSolver\\u1.7...\n",
      "done.\n",
      "Supersampling 4 requested, but limiting to 3 because higher values would very likely exceed this computers memory.\n",
      "Note: Higher supersampling values are supported by external plot application, or by using e.g. the Tecplot class directly.\n",
      "Writing output file c:\\experimental\\public\\doc\\handbook\\HeatEquationSolver\\u1.8...\n",
      "done.\n",
      "Supersampling 4 requested, but limiting to 3 because higher values would very likely exceed this computers memory.\n",
      "Note: Higher supersampling values are supported by external plot application, or by using e.g. the Tecplot class directly.\n",
      "Writing output file c:\\experimental\\public\\doc\\handbook\\HeatEquationSolver\\u1.9...\n",
      "done.\n"
     ]
    }
   ],
   "source": [
    "for(int i = 0; i < solutions.Count; i++)\n",
    "    Tecplot(\"u1.\" + i, solutions[i]);"
   ]
  },
  {
   "cell_type": "markdown",
   "metadata": {},
   "source": [
    "Computing the error against the exact solution:"
   ]
  },
  {
   "cell_type": "code",
   "execution_count": 12,
   "metadata": {
    "dotnet_interactive": {
     "language": "csharp"
    },
    "polyglot_notebook": {
     "kernelName": "csharp"
    },
    "vscode": {
     "languageId": "polyglot-notebook"
    }
   },
   "outputs": [],
   "source": [
    "double uExEq(double[] X) {\n",
    "   double Lambda = -Math.PI.Pow2()*0.5;\n",
    "   double tend = 0.1;\n",
    "   double u0 = Math.Cos(X[0]*Math.PI*0.5)*Math.Cos(X[1]*Math.PI*0.5);\n",
    "   return Math.Exp(Lambda*tend)*u0;\n",
    "}"
   ]
  },
  {
   "cell_type": "code",
   "execution_count": 13,
   "metadata": {
    "dotnet_interactive": {
     "language": "csharp"
    },
    "polyglot_notebook": {
     "kernelName": "csharp"
    },
    "vscode": {
     "languageId": "polyglot-notebook"
    }
   },
   "outputs": [],
   "source": [
    "double[] ErrEx = new double[solutions.Count];\n",
    "for(int i = 0; i < ErrEx.Length; i++) {\n",
    "    ErrEx[i] = solutions[i].L2Error(uExEq);\n",
    "}"
   ]
  },
  {
   "cell_type": "code",
   "execution_count": 14,
   "metadata": {
    "dotnet_interactive": {
     "language": "csharp"
    },
    "polyglot_notebook": {
     "kernelName": "csharp"
    },
    "vscode": {
     "languageId": "polyglot-notebook"
    }
   },
   "outputs": [
    {
     "data": {
      "text/html": [
       "<div class=\"dni-plaintext\"><pre>[ 1.5494514265556468E-05, 9.559484070755553E-07, 5.799024700742146E-08, 5.268730117707254E-08, 5.266573529481786E-08, 5.2665658358466765E-08, 5.2665658509347136E-08, 5.266565850981765E-08, 5.266565850486515E-08, 5.26656585128596E-08 ]</pre></div><style>\r\n",
       ".dni-code-hint {\r\n",
       "    font-style: italic;\r\n",
       "    overflow: hidden;\r\n",
       "    white-space: nowrap;\r\n",
       "}\r\n",
       ".dni-treeview {\r\n",
       "    white-space: nowrap;\r\n",
       "}\r\n",
       ".dni-treeview td {\r\n",
       "    vertical-align: top;\r\n",
       "    text-align: start;\r\n",
       "}\r\n",
       "details.dni-treeview {\r\n",
       "    padding-left: 1em;\r\n",
       "}\r\n",
       "table td {\r\n",
       "    text-align: start;\r\n",
       "}\r\n",
       "table tr { \r\n",
       "    vertical-align: top; \r\n",
       "    margin: 0em 0px;\r\n",
       "}\r\n",
       "table tr td pre \r\n",
       "{ \r\n",
       "    vertical-align: top !important; \r\n",
       "    margin: 0em 0px !important;\r\n",
       "} \r\n",
       "table th {\r\n",
       "    text-align: start;\r\n",
       "}\r\n",
       "</style>"
      ]
     },
     "metadata": {},
     "output_type": "display_data"
    }
   ],
   "source": [
    "ErrEx"
   ]
  },
  {
   "cell_type": "markdown",
   "metadata": {},
   "source": [
    "Computing the error against the finest solution:"
   ]
  },
  {
   "cell_type": "code",
   "execution_count": 15,
   "metadata": {
    "dotnet_interactive": {
     "language": "csharp"
    },
    "polyglot_notebook": {
     "kernelName": "csharp"
    },
    "vscode": {
     "languageId": "polyglot-notebook"
    }
   },
   "outputs": [],
   "source": [
    "var uFinest = solutions.Last();"
   ]
  },
  {
   "cell_type": "code",
   "execution_count": 16,
   "metadata": {
    "dotnet_interactive": {
     "language": "csharp"
    },
    "polyglot_notebook": {
     "kernelName": "csharp"
    },
    "vscode": {
     "languageId": "polyglot-notebook"
    }
   },
   "outputs": [],
   "source": [
    "var Errs = solutions.Take(solutions.Count - 1).Select(u => u.L2Error(uFinest)).ToArray();"
   ]
  },
  {
   "cell_type": "code",
   "execution_count": 17,
   "metadata": {
    "dotnet_interactive": {
     "language": "csharp"
    },
    "polyglot_notebook": {
     "kernelName": "csharp"
    },
    "vscode": {
     "languageId": "polyglot-notebook"
    }
   },
   "outputs": [
    {
     "data": {
      "text/html": [
       "<div class=\"dni-plaintext\"><pre>[ 1.549442981155986E-05, 9.54501443632777E-07, 2.4278079088700148E-08, 1.5146603032491738E-09, 9.468753807236317E-11, 2.4757585367798095E-12, 1.9021164322243726E-13, 1.1670995651365634E-13, 1.6018875011294666E-13 ]</pre></div><style>\r\n",
       ".dni-code-hint {\r\n",
       "    font-style: italic;\r\n",
       "    overflow: hidden;\r\n",
       "    white-space: nowrap;\r\n",
       "}\r\n",
       ".dni-treeview {\r\n",
       "    white-space: nowrap;\r\n",
       "}\r\n",
       ".dni-treeview td {\r\n",
       "    vertical-align: top;\r\n",
       "    text-align: start;\r\n",
       "}\r\n",
       "details.dni-treeview {\r\n",
       "    padding-left: 1em;\r\n",
       "}\r\n",
       "table td {\r\n",
       "    text-align: start;\r\n",
       "}\r\n",
       "table tr { \r\n",
       "    vertical-align: top; \r\n",
       "    margin: 0em 0px;\r\n",
       "}\r\n",
       "table tr td pre \r\n",
       "{ \r\n",
       "    vertical-align: top !important; \r\n",
       "    margin: 0em 0px !important;\r\n",
       "} \r\n",
       "table th {\r\n",
       "    text-align: start;\r\n",
       "}\r\n",
       "</style>"
      ]
     },
     "metadata": {},
     "output_type": "display_data"
    }
   ],
   "source": [
    "Errs"
   ]
  },
  {
   "cell_type": "markdown",
   "metadata": {},
   "source": [
    "Computing the error between each solution and the finer one:"
   ]
  },
  {
   "cell_type": "code",
   "execution_count": 18,
   "metadata": {
    "dotnet_interactive": {
     "language": "csharp"
    },
    "polyglot_notebook": {
     "kernelName": "csharp"
    },
    "vscode": {
     "languageId": "polyglot-notebook"
    }
   },
   "outputs": [],
   "source": [
    "double[] diffs = new double[solutions.Count - 1];\n",
    "for(int i = 0; i < diffs.Length; i++) {\n",
    "    diffs[i] = solutions[i].L2Error(solutions[i + 1]);\n",
    "}"
   ]
  },
  {
   "cell_type": "code",
   "execution_count": 19,
   "metadata": {
    "dotnet_interactive": {
     "language": "csharp"
    },
    "polyglot_notebook": {
     "kernelName": "csharp"
    },
    "vscode": {
     "languageId": "polyglot-notebook"
    }
   },
   "outputs": [
    {
     "data": {
      "text/html": [
       "<div class=\"dni-plaintext\"><pre>[ 1.4539928368057353E-05, 9.302233645518707E-07, 2.2763418785627285E-08, 1.4199727673988317E-09, 9.221187709826496E-11, 2.2862045121251764E-12, 7.582814707140653E-14, 4.489285274429377E-14, 1.6018875011294666E-13 ]</pre></div><style>\r\n",
       ".dni-code-hint {\r\n",
       "    font-style: italic;\r\n",
       "    overflow: hidden;\r\n",
       "    white-space: nowrap;\r\n",
       "}\r\n",
       ".dni-treeview {\r\n",
       "    white-space: nowrap;\r\n",
       "}\r\n",
       ".dni-treeview td {\r\n",
       "    vertical-align: top;\r\n",
       "    text-align: start;\r\n",
       "}\r\n",
       "details.dni-treeview {\r\n",
       "    padding-left: 1em;\r\n",
       "}\r\n",
       "table td {\r\n",
       "    text-align: start;\r\n",
       "}\r\n",
       "table tr { \r\n",
       "    vertical-align: top; \r\n",
       "    margin: 0em 0px;\r\n",
       "}\r\n",
       "table tr td pre \r\n",
       "{ \r\n",
       "    vertical-align: top !important; \r\n",
       "    margin: 0em 0px !important;\r\n",
       "} \r\n",
       "table th {\r\n",
       "    text-align: start;\r\n",
       "}\r\n",
       "</style>"
      ]
     },
     "metadata": {},
     "output_type": "display_data"
    }
   ],
   "source": [
    "diffs"
   ]
  },
  {
   "cell_type": "markdown",
   "metadata": {},
   "source": [
    "Computing the experimental error of the DG discretization with DG polynomial degree $k$ against degree $k-1$."
   ]
  },
  {
   "cell_type": "code",
   "execution_count": 20,
   "metadata": {
    "dotnet_interactive": {
     "language": "csharp"
    },
    "polyglot_notebook": {
     "kernelName": "csharp"
    },
    "vscode": {
     "languageId": "polyglot-notebook"
    }
   },
   "outputs": [],
   "source": [
    "double ErrHi(SinglePhaseField u) {\n",
    "    SinglePhaseField uLo = new SinglePhaseField(new Basis(u.Basis.GridDat, u.Basis.Degree - 1));\n",
    "    uLo.AccLaidBack(1.0, u);\n",
    "    var uHi = u.CloneAs();\n",
    "    uHi.AccLaidBack(-1.0, uLo);\n",
    "    return uHi.L2Norm();\n",
    "}"
   ]
  },
  {
   "cell_type": "code",
   "execution_count": 21,
   "metadata": {
    "dotnet_interactive": {
     "language": "csharp"
    },
    "polyglot_notebook": {
     "kernelName": "csharp"
    },
    "vscode": {
     "languageId": "polyglot-notebook"
    }
   },
   "outputs": [],
   "source": [
    "double[] HiDeg = new double[solutions.Count];\n",
    "for(int i = 0; i < HiDeg.Length; i++) {\n",
    "    HiDeg[i] = ErrHi(solutions[i]);\n",
    "}"
   ]
  },
  {
   "cell_type": "code",
   "execution_count": 22,
   "metadata": {
    "dotnet_interactive": {
     "language": "csharp"
    },
    "polyglot_notebook": {
     "kernelName": "csharp"
    },
    "vscode": {
     "languageId": "polyglot-notebook"
    }
   },
   "outputs": [
    {
     "data": {
      "text/html": [
       "<div class=\"dni-plaintext\"><pre>[ 1.7335106741938257E-06, 1.7335276040026578E-06, 1.7335271671501177E-06, 1.733527096751491E-06, 1.7335270927053896E-06, 1.7335270924551235E-06, 1.7335270924439774E-06, 1.7335270924561834E-06, 1.733527092460702E-06, 1.7335270924619017E-06 ]</pre></div><style>\r\n",
       ".dni-code-hint {\r\n",
       "    font-style: italic;\r\n",
       "    overflow: hidden;\r\n",
       "    white-space: nowrap;\r\n",
       "}\r\n",
       ".dni-treeview {\r\n",
       "    white-space: nowrap;\r\n",
       "}\r\n",
       ".dni-treeview td {\r\n",
       "    vertical-align: top;\r\n",
       "    text-align: start;\r\n",
       "}\r\n",
       "details.dni-treeview {\r\n",
       "    padding-left: 1em;\r\n",
       "}\r\n",
       "table td {\r\n",
       "    text-align: start;\r\n",
       "}\r\n",
       "table tr { \r\n",
       "    vertical-align: top; \r\n",
       "    margin: 0em 0px;\r\n",
       "}\r\n",
       "table tr td pre \r\n",
       "{ \r\n",
       "    vertical-align: top !important; \r\n",
       "    margin: 0em 0px !important;\r\n",
       "} \r\n",
       "table th {\r\n",
       "    text-align: start;\r\n",
       "}\r\n",
       "</style>"
      ]
     },
     "metadata": {},
     "output_type": "display_data"
    }
   ],
   "source": [
    "HiDeg"
   ]
  },
  {
   "cell_type": "markdown",
   "metadata": {},
   "source": [
    "### Plotting different errors"
   ]
  },
  {
   "cell_type": "code",
   "execution_count": 27,
   "metadata": {
    "dotnet_interactive": {
     "language": "csharp"
    },
    "polyglot_notebook": {
     "kernelName": "csharp"
    },
    "vscode": {
     "languageId": "polyglot-notebook"
    }
   },
   "outputs": [
    {
     "name": "stdout",
     "output_type": "stream",
     "text": [
      "Using gnuplot: C:\\Program Files (x86)\\FDY\\BoSSS\\bin\\native\\win\\gnuplot-gp510-20160418-win32-mingw\\gnuplot\\bin\\gnuplot.exe\n",
      "Note: In a Jupyter Worksheet, you must NOT have a trailing semicolon in order to see the plot on screen; otherwise, the output migth be surpressed.!\n"
     ]
    },
    {
     "data": {
      "text/html": [
       "<?xml version=\"1.0\" encoding=\"utf-8\"  standalone=\"no\"?>\n",
       "<!DOCTYPE svg PUBLIC \"-//W3C//DTD SVG 1.1//EN\"\n",
       " \"http://www.w3.org/Graphics/SVG/1.1/DTD/svg11.dtd\">\n",
       "<svg \n",
       " width=\"800\" height=\"600\"\n",
       " viewBox=\"0 0 800 600\"\n",
       " xmlns=\"http://www.w3.org/2000/svg\"\n",
       " xmlns:xlink=\"http://www.w3.org/1999/xlink\"\n",
       ">\n",
       "\n",
       "<title>Gnuplot</title>\n",
       "<desc>Produced by GNUPLOT 5.1 patchlevel 0 </desc>\n",
       "\n",
       "<g id=\"gnuplot_canvas\">\n",
       "\n",
       "<rect x=\"0\" y=\"0\" width=\"800\" height=\"600\" fill=\"#ffffff\"/>\n",
       "<defs>\n",
       "\n",
       "\t<circle id='gpDot' r='0.5' stroke-width='0.5'/>\n",
       "\t<path id='gpPt0' stroke-width='0.222' stroke='currentColor' d='M-1,0 h2 M0,-1 v2'/>\n",
       "\t<path id='gpPt1' stroke-width='0.222' stroke='currentColor' d='M-1,-1 L1,1 M1,-1 L-1,1'/>\n",
       "\t<path id='gpPt2' stroke-width='0.222' stroke='currentColor' d='M-1,0 L1,0 M0,-1 L0,1 M-1,-1 L1,1 M-1,1 L1,-1'/>\n",
       "\t<rect id='gpPt3' stroke-width='0.222' stroke='currentColor' x='-1' y='-1' width='2' height='2'/>\n",
       "\t<rect id='gpPt4' stroke-width='0.222' stroke='currentColor' fill='currentColor' x='-1' y='-1' width='2' height='2'/>\n",
       "\t<circle id='gpPt5' stroke-width='0.222' stroke='currentColor' cx='0' cy='0' r='1'/>\n",
       "\t<use xlink:href='#gpPt5' id='gpPt6' fill='currentColor' stroke='none'/>\n",
       "\t<path id='gpPt7' stroke-width='0.222' stroke='currentColor' d='M0,-1.33 L-1.33,0.67 L1.33,0.67 z'/>\n",
       "\t<use xlink:href='#gpPt7' id='gpPt8' fill='currentColor' stroke='none'/>\n",
       "\t<use xlink:href='#gpPt7' id='gpPt9' stroke='currentColor' transform='rotate(180)'/>\n",
       "\t<use xlink:href='#gpPt9' id='gpPt10' fill='currentColor' stroke='none'/>\n",
       "\t<use xlink:href='#gpPt3' id='gpPt11' stroke='currentColor' transform='rotate(45)'/>\n",
       "\t<use xlink:href='#gpPt11' id='gpPt12' fill='currentColor' stroke='none'/>\n",
       "\t<path id='gpPt13' stroke-width='0.222' stroke='currentColor' d='M0,1.330 L1.265,0.411 L0.782,-1.067 L-0.782,-1.076 L-1.265,0.411 z'/>\n",
       "\t<use xlink:href='#gpPt13' id='gpPt14' fill='currentColor' stroke='none'/>\n",
       "\t<filter id='textbox' filterUnits='objectBoundingBox' x='0' y='0' height='1' width='1'>\n",
       "\t  <feFlood flood-color='#FFFFFF' flood-opacity='1' result='bgnd'/>\n",
       "\t  <feComposite in='SourceGraphic' in2='bgnd' operator='atop'/>\n",
       "\t</filter>\n",
       "\t<filter id='greybox' filterUnits='objectBoundingBox' x='0' y='0' height='1' width='1'>\n",
       "\t  <feFlood flood-color='lightgrey' flood-opacity='1' result='grey'/>\n",
       "\t  <feComposite in='SourceGraphic' in2='grey' operator='atop'/>\n",
       "\t</filter>\n",
       "</defs>\n",
       "<g fill=\"none\" color=\"#FFFFFF\" stroke=\"currentColor\" stroke-width=\"1.00\" stroke-linecap=\"butt\" stroke-linejoin=\"miter\">\n",
       "</g>\n",
       "<g fill=\"none\" color=\"black\" stroke=\"currentColor\" stroke-width=\"1.00\" stroke-linecap=\"butt\" stroke-linejoin=\"miter\">\n",
       "\t<path stroke='black'  d='M78.8,564.0 L87.8,564.0 M775.0,564.0 L766.0,564.0  '/>\t<g transform=\"translate(70.5,568.5)\" stroke=\"none\" fill=\"black\" font-family=\"Arial\" font-size=\"12.00\"  text-anchor=\"end\">\n",
       "\t\t<text><tspan font-family=\"Arial\" > 1x10</tspan><tspan font-family=\"Arial\"  font-size=\"9.6\" dy=\"-6.00px\">-14</tspan><tspan font-size=\"12.0\" dy=\"6.00\"></tspan></text>\n",
       "\t</g>\n",
       "</g>\n",
       "<g fill=\"none\" color=\"black\" stroke=\"currentColor\" stroke-width=\"1.00\" stroke-linecap=\"butt\" stroke-linejoin=\"miter\">\n",
       "\t<path stroke='black'  d='M78.8,509.3 L87.8,509.3 M775.0,509.3 L766.0,509.3  '/>\t<g transform=\"translate(70.5,513.8)\" stroke=\"none\" fill=\"black\" font-family=\"Arial\" font-size=\"12.00\"  text-anchor=\"end\">\n",
       "\t\t<text><tspan font-family=\"Arial\" > 1x10</tspan><tspan font-family=\"Arial\"  font-size=\"9.6\" dy=\"-6.00px\">-13</tspan><tspan font-size=\"12.0\" dy=\"6.00\"></tspan></text>\n",
       "\t</g>\n",
       "</g>\n",
       "<g fill=\"none\" color=\"black\" stroke=\"currentColor\" stroke-width=\"1.00\" stroke-linecap=\"butt\" stroke-linejoin=\"miter\">\n",
       "\t<path stroke='black'  d='M78.8,454.5 L87.8,454.5 M775.0,454.5 L766.0,454.5  '/>\t<g transform=\"translate(70.5,459.0)\" stroke=\"none\" fill=\"black\" font-family=\"Arial\" font-size=\"12.00\"  text-anchor=\"end\">\n",
       "\t\t<text><tspan font-family=\"Arial\" > 1x10</tspan><tspan font-family=\"Arial\"  font-size=\"9.6\" dy=\"-6.00px\">-12</tspan><tspan font-size=\"12.0\" dy=\"6.00\"></tspan></text>\n",
       "\t</g>\n",
       "</g>\n",
       "<g fill=\"none\" color=\"black\" stroke=\"currentColor\" stroke-width=\"1.00\" stroke-linecap=\"butt\" stroke-linejoin=\"miter\">\n",
       "\t<path stroke='black'  d='M78.8,399.8 L87.8,399.8 M775.0,399.8 L766.0,399.8  '/>\t<g transform=\"translate(70.5,404.3)\" stroke=\"none\" fill=\"black\" font-family=\"Arial\" font-size=\"12.00\"  text-anchor=\"end\">\n",
       "\t\t<text><tspan font-family=\"Arial\" > 1x10</tspan><tspan font-family=\"Arial\"  font-size=\"9.6\" dy=\"-6.00px\">-11</tspan><tspan font-size=\"12.0\" dy=\"6.00\"></tspan></text>\n",
       "\t</g>\n",
       "</g>\n",
       "<g fill=\"none\" color=\"black\" stroke=\"currentColor\" stroke-width=\"1.00\" stroke-linecap=\"butt\" stroke-linejoin=\"miter\">\n",
       "\t<path stroke='black'  d='M78.8,345.1 L87.8,345.1 M775.0,345.1 L766.0,345.1  '/>\t<g transform=\"translate(70.5,349.6)\" stroke=\"none\" fill=\"black\" font-family=\"Arial\" font-size=\"12.00\"  text-anchor=\"end\">\n",
       "\t\t<text><tspan font-family=\"Arial\" > 1x10</tspan><tspan font-family=\"Arial\"  font-size=\"9.6\" dy=\"-6.00px\">-10</tspan><tspan font-size=\"12.0\" dy=\"6.00\"></tspan></text>\n",
       "\t</g>\n",
       "</g>\n",
       "<g fill=\"none\" color=\"black\" stroke=\"currentColor\" stroke-width=\"1.00\" stroke-linecap=\"butt\" stroke-linejoin=\"miter\">\n",
       "\t<path stroke='black'  d='M78.8,290.4 L87.8,290.4 M775.0,290.4 L766.0,290.4  '/>\t<g transform=\"translate(70.5,294.9)\" stroke=\"none\" fill=\"black\" font-family=\"Arial\" font-size=\"12.00\"  text-anchor=\"end\">\n",
       "\t\t<text><tspan font-family=\"Arial\" > 1x10</tspan><tspan font-family=\"Arial\"  font-size=\"9.6\" dy=\"-6.00px\">-9</tspan><tspan font-size=\"12.0\" dy=\"6.00\"></tspan></text>\n",
       "\t</g>\n",
       "</g>\n",
       "<g fill=\"none\" color=\"black\" stroke=\"currentColor\" stroke-width=\"1.00\" stroke-linecap=\"butt\" stroke-linejoin=\"miter\">\n",
       "\t<path stroke='black'  d='M78.8,235.6 L87.8,235.6 M775.0,235.6 L766.0,235.6  '/>\t<g transform=\"translate(70.5,240.1)\" stroke=\"none\" fill=\"black\" font-family=\"Arial\" font-size=\"12.00\"  text-anchor=\"end\">\n",
       "\t\t<text><tspan font-family=\"Arial\" > 1x10</tspan><tspan font-family=\"Arial\"  font-size=\"9.6\" dy=\"-6.00px\">-8</tspan><tspan font-size=\"12.0\" dy=\"6.00\"></tspan></text>\n",
       "\t</g>\n",
       "</g>\n",
       "<g fill=\"none\" color=\"black\" stroke=\"currentColor\" stroke-width=\"1.00\" stroke-linecap=\"butt\" stroke-linejoin=\"miter\">\n",
       "\t<path stroke='black'  d='M78.8,180.9 L87.8,180.9 M775.0,180.9 L766.0,180.9  '/>\t<g transform=\"translate(70.5,185.4)\" stroke=\"none\" fill=\"black\" font-family=\"Arial\" font-size=\"12.00\"  text-anchor=\"end\">\n",
       "\t\t<text><tspan font-family=\"Arial\" > 1x10</tspan><tspan font-family=\"Arial\"  font-size=\"9.6\" dy=\"-6.00px\">-7</tspan><tspan font-size=\"12.0\" dy=\"6.00\"></tspan></text>\n",
       "\t</g>\n",
       "</g>\n",
       "<g fill=\"none\" color=\"black\" stroke=\"currentColor\" stroke-width=\"1.00\" stroke-linecap=\"butt\" stroke-linejoin=\"miter\">\n",
       "\t<path stroke='black'  d='M78.8,126.2 L87.8,126.2 M775.0,126.2 L766.0,126.2  '/>\t<g transform=\"translate(70.5,130.7)\" stroke=\"none\" fill=\"black\" font-family=\"Arial\" font-size=\"12.00\"  text-anchor=\"end\">\n",
       "\t\t<text><tspan font-family=\"Arial\" > 1x10</tspan><tspan font-family=\"Arial\"  font-size=\"9.6\" dy=\"-6.00px\">-6</tspan><tspan font-size=\"12.0\" dy=\"6.00\"></tspan></text>\n",
       "\t</g>\n",
       "</g>\n",
       "<g fill=\"none\" color=\"black\" stroke=\"currentColor\" stroke-width=\"1.00\" stroke-linecap=\"butt\" stroke-linejoin=\"miter\">\n",
       "\t<path stroke='black'  d='M78.8,71.4 L87.8,71.4 M775.0,71.4 L766.0,71.4  '/>\t<g transform=\"translate(70.5,75.9)\" stroke=\"none\" fill=\"black\" font-family=\"Arial\" font-size=\"12.00\"  text-anchor=\"end\">\n",
       "\t\t<text><tspan font-family=\"Arial\" > 1x10</tspan><tspan font-family=\"Arial\"  font-size=\"9.6\" dy=\"-6.00px\">-5</tspan><tspan font-size=\"12.0\" dy=\"6.00\"></tspan></text>\n",
       "\t</g>\n",
       "</g>\n",
       "<g fill=\"none\" color=\"black\" stroke=\"currentColor\" stroke-width=\"1.00\" stroke-linecap=\"butt\" stroke-linejoin=\"miter\">\n",
       "\t<path stroke='black'  d='M78.8,16.7 L87.8,16.7 M775.0,16.7 L766.0,16.7  '/>\t<g transform=\"translate(70.5,21.2)\" stroke=\"none\" fill=\"black\" font-family=\"Arial\" font-size=\"12.00\"  text-anchor=\"end\">\n",
       "\t\t<text><tspan font-family=\"Arial\" > 0.0001</tspan></text>\n",
       "\t</g>\n",
       "</g>\n",
       "<g fill=\"none\" color=\"black\" stroke=\"currentColor\" stroke-width=\"1.00\" stroke-linecap=\"butt\" stroke-linejoin=\"miter\">\n",
       "\t<path stroke='black'  d='M78.8,564.0 L78.8,555.0 M78.8,16.7 L78.8,25.7  '/>\t<g transform=\"translate(78.8,586.5)\" stroke=\"none\" fill=\"black\" font-family=\"Arial\" font-size=\"12.00\"  text-anchor=\"middle\">\n",
       "\t\t<text><tspan font-family=\"Arial\" > 0.0001</tspan></text>\n",
       "\t</g>\n",
       "</g>\n",
       "<g fill=\"none\" color=\"black\" stroke=\"currentColor\" stroke-width=\"1.00\" stroke-linecap=\"butt\" stroke-linejoin=\"miter\">\n",
       "\t<path stroke='black'  d='M131.2,564.0 L131.2,559.5 M131.2,16.7 L131.2,21.2 M161.8,564.0 L161.8,559.5 M161.8,16.7 L161.8,21.2\n",
       "\t\tM183.6,564.0 L183.6,559.5 M183.6,16.7 L183.6,21.2 M200.5,564.0 L200.5,559.5 M200.5,16.7 L200.5,21.2\n",
       "\t\tM214.2,564.0 L214.2,559.5 M214.2,16.7 L214.2,21.2 M225.9,564.0 L225.9,559.5 M225.9,16.7 L225.9,21.2\n",
       "\t\tM236.0,564.0 L236.0,559.5 M236.0,16.7 L236.0,21.2 M244.9,564.0 L244.9,559.5 M244.9,16.7 L244.9,21.2\n",
       "\t\tM252.9,564.0 L252.9,555.0 M252.9,16.7 L252.9,25.7  '/>\t<g transform=\"translate(252.9,586.5)\" stroke=\"none\" fill=\"black\" font-family=\"Arial\" font-size=\"12.00\"  text-anchor=\"middle\">\n",
       "\t\t<text><tspan font-family=\"Arial\" > 0.001</tspan></text>\n",
       "\t</g>\n",
       "</g>\n",
       "<g fill=\"none\" color=\"black\" stroke=\"currentColor\" stroke-width=\"1.00\" stroke-linecap=\"butt\" stroke-linejoin=\"miter\">\n",
       "\t<path stroke='black'  d='M305.2,564.0 L305.2,559.5 M305.2,16.7 L305.2,21.2 M335.9,564.0 L335.9,559.5 M335.9,16.7 L335.9,21.2\n",
       "\t\tM357.6,564.0 L357.6,559.5 M357.6,16.7 L357.6,21.2 M374.5,564.0 L374.5,559.5 M374.5,16.7 L374.5,21.2\n",
       "\t\tM388.3,564.0 L388.3,559.5 M388.3,16.7 L388.3,21.2 M399.9,564.0 L399.9,559.5 M399.9,16.7 L399.9,21.2\n",
       "\t\tM410.0,564.0 L410.0,559.5 M410.0,16.7 L410.0,21.2 M418.9,564.0 L418.9,559.5 M418.9,16.7 L418.9,21.2\n",
       "\t\tM426.9,564.0 L426.9,555.0 M426.9,16.7 L426.9,25.7  '/>\t<g transform=\"translate(426.9,586.5)\" stroke=\"none\" fill=\"black\" font-family=\"Arial\" font-size=\"12.00\"  text-anchor=\"middle\">\n",
       "\t\t<text><tspan font-family=\"Arial\" > 0.01</tspan></text>\n",
       "\t</g>\n",
       "</g>\n",
       "<g fill=\"none\" color=\"black\" stroke=\"currentColor\" stroke-width=\"1.00\" stroke-linecap=\"butt\" stroke-linejoin=\"miter\">\n",
       "\t<path stroke='black'  d='M479.3,564.0 L479.3,559.5 M479.3,16.7 L479.3,21.2 M509.9,564.0 L509.9,559.5 M509.9,16.7 L509.9,21.2\n",
       "\t\tM531.7,564.0 L531.7,559.5 M531.7,16.7 L531.7,21.2 M548.6,564.0 L548.6,559.5 M548.6,16.7 L548.6,21.2\n",
       "\t\tM562.3,564.0 L562.3,559.5 M562.3,16.7 L562.3,21.2 M574.0,564.0 L574.0,559.5 M574.0,16.7 L574.0,21.2\n",
       "\t\tM584.1,564.0 L584.1,559.5 M584.1,16.7 L584.1,21.2 M593.0,564.0 L593.0,559.5 M593.0,16.7 L593.0,21.2\n",
       "\t\tM601.0,564.0 L601.0,555.0 M601.0,16.7 L601.0,25.7  '/>\t<g transform=\"translate(601.0,586.5)\" stroke=\"none\" fill=\"black\" font-family=\"Arial\" font-size=\"12.00\"  text-anchor=\"middle\">\n",
       "\t\t<text><tspan font-family=\"Arial\" > 0.1</tspan></text>\n",
       "\t</g>\n",
       "</g>\n",
       "<g fill=\"none\" color=\"black\" stroke=\"currentColor\" stroke-width=\"1.00\" stroke-linecap=\"butt\" stroke-linejoin=\"miter\">\n",
       "\t<path stroke='black'  d='M653.3,564.0 L653.3,559.5 M653.3,16.7 L653.3,21.2 M684.0,564.0 L684.0,559.5 M684.0,16.7 L684.0,21.2\n",
       "\t\tM705.7,564.0 L705.7,559.5 M705.7,16.7 L705.7,21.2 M722.6,564.0 L722.6,559.5 M722.6,16.7 L722.6,21.2\n",
       "\t\tM736.4,564.0 L736.4,559.5 M736.4,16.7 L736.4,21.2 M748.0,564.0 L748.0,559.5 M748.0,16.7 L748.0,21.2\n",
       "\t\tM758.1,564.0 L758.1,559.5 M758.1,16.7 L758.1,21.2 M767.0,564.0 L767.0,559.5 M767.0,16.7 L767.0,21.2\n",
       "\t\tM775.0,564.0 L775.0,555.0 M775.0,16.7 L775.0,25.7  '/>\t<g transform=\"translate(775.0,586.5)\" stroke=\"none\" fill=\"black\" font-family=\"Arial\" font-size=\"12.00\"  text-anchor=\"middle\">\n",
       "\t\t<text><tspan font-family=\"Arial\" > 1</tspan></text>\n",
       "\t</g>\n",
       "</g>\n",
       "<g fill=\"none\" color=\"black\" stroke=\"currentColor\" stroke-width=\"1.00\" stroke-linecap=\"butt\" stroke-linejoin=\"miter\">\n",
       "</g>\n",
       "<g fill=\"none\" color=\"black\" stroke=\"currentColor\" stroke-width=\"1.00\" stroke-linecap=\"butt\" stroke-linejoin=\"miter\">\n",
       "\t<path stroke='black'  d='M78.8,16.7 L78.8,564.0 L775.0,564.0 L775.0,16.7 L78.8,16.7 Z  '/></g>\n",
       "<g fill=\"none\" color=\"black\" stroke=\"currentColor\" stroke-width=\"1.00\" stroke-linecap=\"butt\" stroke-linejoin=\"miter\">\n",
       "</g>\n",
       "\t<g id=\"gnuplot_plot_1\" ><title>Exp Error</title>\n",
       "<g fill=\"none\" color=\"black\" stroke=\"currentColor\" stroke-width=\"1.00\" stroke-linecap=\"butt\" stroke-linejoin=\"miter\">\n",
       "\t<g transform=\"translate(707.9,39.2)\" stroke=\"none\" fill=\"black\" font-family=\"Arial\" font-size=\"12.00\"  text-anchor=\"end\">\n",
       "\t\t<text><tspan font-family=\"Arial\" >Exp Error</tspan></text>\n",
       "\t</g>\n",
       "</g>\n",
       "<g fill=\"none\" color=\"black\" stroke=\"currentColor\" stroke-width=\"1.00\" stroke-linecap=\"butt\" stroke-linejoin=\"miter\">\n",
       "\t<path stroke='rgb(  0,   0,   0)'  d='M716.2,34.7 L758.4,34.7 M601.0,61.0 L548.6,127.3 L479.3,214.5 L426.9,280.5 L374.5,346.4 L305.2,433.0\n",
       "\t\tL252.9,494.0 L200.5,505.6 L131.2,498.1  '/>\t<use xlink:href='#gpPt1' transform='translate(601.0,61.0) scale(4.50)' color='rgb(  0,   0,   0)'/>\n",
       "\t<use xlink:href='#gpPt1' transform='translate(548.6,127.3) scale(4.50)' color='rgb(  0,   0,   0)'/>\n",
       "\t<use xlink:href='#gpPt1' transform='translate(479.3,214.5) scale(4.50)' color='rgb(  0,   0,   0)'/>\n",
       "\t<use xlink:href='#gpPt1' transform='translate(426.9,280.5) scale(4.50)' color='rgb(  0,   0,   0)'/>\n",
       "\t<use xlink:href='#gpPt1' transform='translate(374.5,346.4) scale(4.50)' color='rgb(  0,   0,   0)'/>\n",
       "\t<use xlink:href='#gpPt1' transform='translate(305.2,433.0) scale(4.50)' color='rgb(  0,   0,   0)'/>\n",
       "\t<use xlink:href='#gpPt1' transform='translate(252.9,494.0) scale(4.50)' color='rgb(  0,   0,   0)'/>\n",
       "\t<use xlink:href='#gpPt1' transform='translate(200.5,505.6) scale(4.50)' color='rgb(  0,   0,   0)'/>\n",
       "\t<use xlink:href='#gpPt1' transform='translate(131.2,498.1) scale(4.50)' color='rgb(  0,   0,   0)'/>\n",
       "\t<use xlink:href='#gpPt1' transform='translate(737.3,34.7) scale(4.50)' color='rgb(  0,   0,   0)'/>\n",
       "</g>\n",
       "\t</g>\n",
       "\t<g id=\"gnuplot_plot_2\" ><title>Diffs</title>\n",
       "<g fill=\"none\" color=\"black\" stroke=\"currentColor\" stroke-width=\"1.00\" stroke-linecap=\"butt\" stroke-linejoin=\"miter\">\n",
       "\t<g transform=\"translate(707.9,57.2)\" stroke=\"none\" fill=\"black\" font-family=\"Arial\" font-size=\"12.00\"  text-anchor=\"end\">\n",
       "\t\t<text><tspan font-family=\"Arial\" >Diffs</tspan></text>\n",
       "\t</g>\n",
       "</g>\n",
       "<g fill=\"none\" color=\"black\" stroke=\"currentColor\" stroke-width=\"1.00\" stroke-linecap=\"butt\" stroke-linejoin=\"miter\">\n",
       "\t<path stroke='rgb(  0,   0, 255)'  d='M716.2,52.7 L758.4,52.7 M601.0,62.5 L548.6,127.9 L479.3,216.1 L426.9,282.0 L374.5,347.0 L305.2,434.9\n",
       "\t\tL252.9,515.8 L200.5,528.3 L131.2,498.1  '/>\t<use xlink:href='#gpPt5' transform='translate(601.0,62.5) scale(4.50)' color='rgb(  0,   0, 255)'/>\n",
       "\t<use xlink:href='#gpPt5' transform='translate(548.6,127.9) scale(4.50)' color='rgb(  0,   0, 255)'/>\n",
       "\t<use xlink:href='#gpPt5' transform='translate(479.3,216.1) scale(4.50)' color='rgb(  0,   0, 255)'/>\n",
       "\t<use xlink:href='#gpPt5' transform='translate(426.9,282.0) scale(4.50)' color='rgb(  0,   0, 255)'/>\n",
       "\t<use xlink:href='#gpPt5' transform='translate(374.5,347.0) scale(4.50)' color='rgb(  0,   0, 255)'/>\n",
       "\t<use xlink:href='#gpPt5' transform='translate(305.2,434.9) scale(4.50)' color='rgb(  0,   0, 255)'/>\n",
       "\t<use xlink:href='#gpPt5' transform='translate(252.9,515.8) scale(4.50)' color='rgb(  0,   0, 255)'/>\n",
       "\t<use xlink:href='#gpPt5' transform='translate(200.5,528.3) scale(4.50)' color='rgb(  0,   0, 255)'/>\n",
       "\t<use xlink:href='#gpPt5' transform='translate(131.2,498.1) scale(4.50)' color='rgb(  0,   0, 255)'/>\n",
       "\t<use xlink:href='#gpPt5' transform='translate(737.3,52.7) scale(4.50)' color='rgb(  0,   0, 255)'/>\n",
       "</g>\n",
       "\t</g>\n",
       "\t<g id=\"gnuplot_plot_3\" ><title>Exact Error</title>\n",
       "<g fill=\"none\" color=\"black\" stroke=\"currentColor\" stroke-width=\"1.00\" stroke-linecap=\"butt\" stroke-linejoin=\"miter\">\n",
       "\t<g transform=\"translate(707.9,75.2)\" stroke=\"none\" fill=\"black\" font-family=\"Arial\" font-size=\"12.00\"  text-anchor=\"end\">\n",
       "\t\t<text><tspan font-family=\"Arial\" >Exact Error</tspan></text>\n",
       "\t</g>\n",
       "</g>\n",
       "<g fill=\"none\" color=\"black\" stroke=\"currentColor\" stroke-width=\"1.00\" stroke-linecap=\"butt\" stroke-linejoin=\"miter\">\n",
       "\t<path stroke='rgb(255,   0,   0)'  d='M716.2,70.7 L758.4,70.7 M601.0,61.0 L548.6,127.2 L479.3,193.8 L426.9,196.1 L374.5,196.1 L305.2,196.1\n",
       "\t\tL252.9,196.1 L200.5,196.1 L131.2,196.1 L78.8,196.1  '/>\t<use xlink:href='#gpPt0' transform='translate(601.0,61.0) scale(4.50)' color='rgb(255,   0,   0)'/>\n",
       "\t<use xlink:href='#gpPt0' transform='translate(548.6,127.2) scale(4.50)' color='rgb(255,   0,   0)'/>\n",
       "\t<use xlink:href='#gpPt0' transform='translate(479.3,193.8) scale(4.50)' color='rgb(255,   0,   0)'/>\n",
       "\t<use xlink:href='#gpPt0' transform='translate(426.9,196.1) scale(4.50)' color='rgb(255,   0,   0)'/>\n",
       "\t<use xlink:href='#gpPt0' transform='translate(374.5,196.1) scale(4.50)' color='rgb(255,   0,   0)'/>\n",
       "\t<use xlink:href='#gpPt0' transform='translate(305.2,196.1) scale(4.50)' color='rgb(255,   0,   0)'/>\n",
       "\t<use xlink:href='#gpPt0' transform='translate(252.9,196.1) scale(4.50)' color='rgb(255,   0,   0)'/>\n",
       "\t<use xlink:href='#gpPt0' transform='translate(200.5,196.1) scale(4.50)' color='rgb(255,   0,   0)'/>\n",
       "\t<use xlink:href='#gpPt0' transform='translate(131.2,196.1) scale(4.50)' color='rgb(255,   0,   0)'/>\n",
       "\t<use xlink:href='#gpPt0' transform='translate(78.8,196.1) scale(4.50)' color='rgb(255,   0,   0)'/>\n",
       "\t<use xlink:href='#gpPt0' transform='translate(737.3,70.7) scale(4.50)' color='rgb(255,   0,   0)'/>\n",
       "</g>\n",
       "\t</g>\n",
       "\t<g id=\"gnuplot_plot_4\" ><title>High Degree Norm</title>\n",
       "<g fill=\"none\" color=\"black\" stroke=\"currentColor\" stroke-width=\"1.00\" stroke-linecap=\"butt\" stroke-linejoin=\"miter\">\n",
       "\t<g transform=\"translate(707.9,93.2)\" stroke=\"none\" fill=\"black\" font-family=\"Arial\" font-size=\"12.00\"  text-anchor=\"end\">\n",
       "\t\t<text><tspan font-family=\"Arial\" >High Degree Norm</tspan></text>\n",
       "\t</g>\n",
       "</g>\n",
       "<g fill=\"none\" color=\"black\" stroke=\"currentColor\" stroke-width=\"1.00\" stroke-linecap=\"butt\" stroke-linejoin=\"miter\">\n",
       "\t<path stroke='rgb(  0,   0,   0)' stroke-dasharray='1.0,2.0'  d='M716.2,88.7 L758.4,88.7 M601.0,113.1 L548.6,113.1 L479.3,113.1 L426.9,113.1 L374.5,113.1 L305.2,113.1\n",
       "\t\tL252.9,113.1 L200.5,113.1 L131.2,113.1 L78.8,113.1  '/>\t<use xlink:href='#gpPt5' transform='translate(601.0,113.1) scale(4.50)' color='rgb(  0,   0,   0)'/>\n",
       "\t<use xlink:href='#gpPt5' transform='translate(548.6,113.1) scale(4.50)' color='rgb(  0,   0,   0)'/>\n",
       "\t<use xlink:href='#gpPt5' transform='translate(479.3,113.1) scale(4.50)' color='rgb(  0,   0,   0)'/>\n",
       "\t<use xlink:href='#gpPt5' transform='translate(426.9,113.1) scale(4.50)' color='rgb(  0,   0,   0)'/>\n",
       "\t<use xlink:href='#gpPt5' transform='translate(374.5,113.1) scale(4.50)' color='rgb(  0,   0,   0)'/>\n",
       "\t<use xlink:href='#gpPt5' transform='translate(305.2,113.1) scale(4.50)' color='rgb(  0,   0,   0)'/>\n",
       "\t<use xlink:href='#gpPt5' transform='translate(252.9,113.1) scale(4.50)' color='rgb(  0,   0,   0)'/>\n",
       "\t<use xlink:href='#gpPt5' transform='translate(200.5,113.1) scale(4.50)' color='rgb(  0,   0,   0)'/>\n",
       "\t<use xlink:href='#gpPt5' transform='translate(131.2,113.1) scale(4.50)' color='rgb(  0,   0,   0)'/>\n",
       "\t<use xlink:href='#gpPt5' transform='translate(78.8,113.1) scale(4.50)' color='rgb(  0,   0,   0)'/>\n",
       "\t<use xlink:href='#gpPt5' transform='translate(737.3,88.7) scale(4.50)' color='rgb(  0,   0,   0)'/>\n",
       "</g>\n",
       "\t</g>\n",
       "<g fill=\"none\" color=\"#FFFFFF\" stroke=\"rgb(  0,   0,   0)\" stroke-width=\"2.00\" stroke-linecap=\"butt\" stroke-linejoin=\"miter\">\n",
       "</g>\n",
       "<g fill=\"none\" color=\"black\" stroke=\"currentColor\" stroke-width=\"2.00\" stroke-linecap=\"butt\" stroke-linejoin=\"miter\">\n",
       "</g>\n",
       "<g fill=\"none\" color=\"black\" stroke=\"black\" stroke-width=\"1.00\" stroke-linecap=\"butt\" stroke-linejoin=\"miter\">\n",
       "</g>\n",
       "<g fill=\"none\" color=\"black\" stroke=\"currentColor\" stroke-width=\"1.00\" stroke-linecap=\"butt\" stroke-linejoin=\"miter\">\n",
       "\t<path stroke='black'  d='M78.8,16.7 L78.8,564.0 L775.0,564.0 L775.0,16.7 L78.8,16.7 Z  '/></g>\n",
       "<g fill=\"none\" color=\"black\" stroke=\"currentColor\" stroke-width=\"1.00\" stroke-linecap=\"butt\" stroke-linejoin=\"miter\">\n",
       "</g>\n",
       "</g>\n",
       "</svg>\n",
       "\n"
      ]
     },
     "metadata": {},
     "output_type": "display_data"
    }
   ],
   "source": [
    "var gp = new Gnuplot();\n",
    "double[] ts = NoOfTimestepS.Take(NoOfTimestepS.Length).Select(x => 0.1/(double)x).ToArray();\n",
    "double[] ts1 = ts.Take(NoOfTimestepS.Length - 1).ToArray();\n",
    "gp.PlotLogXLogY(ts1, Errs,  title:\"Exp Error\", format:new PlotFormat(\"-xk\"));\n",
    "gp.PlotLogXLogY(ts1, diffs, title:\"Diffs\", format:new PlotFormat(\"-ob\"));\n",
    "gp.PlotLogXLogY(ts,  ErrEx, title:\"Exact Error\", format:new PlotFormat(\"-+r\"));\n",
    "gp.PlotLogXLogY(ts,  HiDeg, title:\"High Degree Norm\", format:new PlotFormat(\":ok\"));\n",
    "gp.PlotNow()"
   ]
  },
  {
   "cell_type": "markdown",
   "metadata": {},
   "source": [
    "Confirming the order of the time integration:"
   ]
  },
  {
   "cell_type": "code",
   "execution_count": 24,
   "metadata": {
    "dotnet_interactive": {
     "language": "csharp"
    },
    "polyglot_notebook": {
     "kernelName": "csharp"
    },
    "vscode": {
     "languageId": "polyglot-notebook"
    }
   },
   "outputs": [
    {
     "data": {
      "text/html": [
       "<div class=\"dni-plaintext\"><pre>-4.001082130347832</pre></div><style>\r\n",
       ".dni-code-hint {\r\n",
       "    font-style: italic;\r\n",
       "    overflow: hidden;\r\n",
       "    white-space: nowrap;\r\n",
       "}\r\n",
       ".dni-treeview {\r\n",
       "    white-space: nowrap;\r\n",
       "}\r\n",
       ".dni-treeview td {\r\n",
       "    vertical-align: top;\r\n",
       "    text-align: start;\r\n",
       "}\r\n",
       "details.dni-treeview {\r\n",
       "    padding-left: 1em;\r\n",
       "}\r\n",
       "table td {\r\n",
       "    text-align: start;\r\n",
       "}\r\n",
       "table tr { \r\n",
       "    vertical-align: top; \r\n",
       "    margin: 0em 0px;\r\n",
       "}\r\n",
       "table tr td pre \r\n",
       "{ \r\n",
       "    vertical-align: top !important; \r\n",
       "    margin: 0em 0px !important;\r\n",
       "} \r\n",
       "table th {\r\n",
       "    text-align: start;\r\n",
       "}\r\n",
       "</style>"
      ]
     },
     "metadata": {},
     "output_type": "display_data"
    }
   ],
   "source": [
    "double slope = ts.Take(6).LogLogRegressionSlope(Errs.Take(6));\n",
    "slope"
   ]
  },
  {
   "cell_type": "code",
   "execution_count": 25,
   "metadata": {
    "dotnet_interactive": {
     "language": "csharp"
    },
    "polyglot_notebook": {
     "kernelName": "csharp"
    },
    "vscode": {
     "languageId": "polyglot-notebook"
    }
   },
   "outputs": [],
   "source": [
    "NUnit.Framework.Assert.LessOrEqual(slope, -3.5, \"time convergence of the DIRK_54 method is not reached.\")"
   ]
  },
  {
   "cell_type": "markdown",
   "metadata": {},
   "source": [
    "Note that the lower limit (lower plateau) of the error plots looks different, depending \n",
    "- whether we compare against the finest solution (aka. experimental error, \"Exp Error\" in plot),\n",
    "- or we compare against the \"real\" exact solution (\"Exact Error\" in plot).\n",
    "\n",
    "Fro finer time-steps, the experimental error is reducing further and further,\n",
    "the lower plateau is the floating-point accuracy limit of the `double` data type.\n",
    "The exact error hits its lower plateau at a much higher level,\n",
    "where the accuracy limit by the DG polynomial degree and the spatial accuracy is reached.\n",
    "I.e., using a finer resolution and/or higher DG degree will bring the lower limit of the red curve further down. \n",
    "The blue and red curve are not affected by the spatial resolution - one would have to \n",
    "use increased floating-point accuracy (not feasible for BoSSS) to get this limit lower."
   ]
  }
 ],
 "metadata": {
  "kernelspec": {
   "display_name": ".NET (C#)",
   "language": "C#",
   "name": ".net-csharp"
  },
  "language_info": {
   "file_extension": ".cs",
   "mimetype": "text/x-csharp",
   "name": "C#",
   "pygments_lexer": "csharp",
   "version": "11.0"
  }
 },
 "nbformat": 4,
 "nbformat_minor": 4
}

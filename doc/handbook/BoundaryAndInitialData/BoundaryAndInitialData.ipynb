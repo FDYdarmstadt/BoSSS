{
 "cells": [
  {
   "cell_type": "markdown",
   "metadata": {},
   "source": [
    "# Boundary and Initial data"
   ]
  },
  {
   "cell_type": "markdown",
   "metadata": {},
   "source": [
    "First, we initialize the new worksheet;\n",
    "Note: \n",
    "1. This tutorial can be found in the source code repository as as `BoundaryAndInitialData.ipynb`. \n",
    "   One can directly load this into Jupyter to interactively work with the following code examples.\n",
    "2. **In the following line, the reference to `BoSSSpad.dll` is required**. \n",
    "   You must either set `#r \"BoSSSpad.dll\"` to something which is appropirate for your computer\n",
    "   (e.g. `C:\\Program Files (x86)\\FDY\\BoSSS\\bin\\Release\\net5.0\\BoSSSpad.dll` if you installed the binary distribution),\n",
    "   or, if you are working with the source code, you must compile `BoSSSpad` and put it side-by-side to this worksheet file\n",
    "   (from the original location in the repository, you can use the scripts `getbossspad.sh`, resp. `getbossspad.bat`)."
   ]
  },
  {
   "cell_type": "code",
   "execution_count": null,
   "metadata": {
    "dotnet_interactive": {
     "language": "csharp"
    }
   },
   "outputs": [],
   "source": [
    "#r \"BoSSSpad.dll\"\n",
    "using System;\n",
    "using System.Collections.Generic;\n",
    "using System.Linq;\n",
    "using ilPSP;\n",
    "using ilPSP.Utils;\n",
    "using BoSSS.Platform;\n",
    "using BoSSS.Foundation;\n",
    "using BoSSS.Foundation.Grid;\n",
    "using BoSSS.Foundation.Grid.Classic;\n",
    "using BoSSS.Foundation.IO;\n",
    "using BoSSS.Solution;\n",
    "using BoSSS.Solution.Control;\n",
    "using BoSSS.Solution.GridImport;\n",
    "using BoSSS.Solution.Statistic;\n",
    "using BoSSS.Solution.Utils;\n",
    "using BoSSS.Solution.Gnuplot;\n",
    "using BoSSS.Application.BoSSSpad;\n",
    "using BoSSS.Application.XNSE_Solver;\n",
    "using static BoSSS.Application.BoSSSpad.BoSSSshell;\n",
    "Init();\n"
   ]
  },
  {
   "cell_type": "markdown",
   "metadata": {},
   "source": [
    " This tutorial demostrates the **definition**, resp. the **import** of \n",
    " data for **boundary and initial values**. \n",
    " \n",
    " In order to demonstrate the usage, \n",
    " we employ the exemplaric **Poisson solver**."
   ]
  },
  {
   "cell_type": "code",
   "execution_count": null,
   "metadata": {
    "dotnet_interactive": {
     "language": "csharp"
    }
   },
   "outputs": [],
   "source": [
    "using BoSSS.Application.SipPoisson;"
   ]
  },
  {
   "cell_type": "markdown",
   "metadata": {},
   "source": [
    "We use the following helper function to create a **template for the multiple solver runs**."
   ]
  },
  {
   "cell_type": "code",
   "execution_count": null,
   "metadata": {
    "dotnet_interactive": {
     "language": "csharp"
    }
   },
   "outputs": [],
   "source": [
    "Func<SipControl> PreDefinedControl = delegate() {\n",
    "    SipControl c = new SipControl();\n",
    " \n",
    "    c.SetDGdegree(2);\n",
    " \n",
    "    c.GridFunc = delegate() {\n",
    "        // define a grid of 10x10 cells\n",
    "        double[] nodes = GenericBlas.Linspace(-1, 1, 11);\n",
    "        var grd = Grid2D.Cartesian2DGrid(nodes, nodes);\n",
    " \n",
    "        // set the entire boundary to Dirichlet b.c.\n",
    "        grd.DefineEdgeTags(delegate (double[] X) {\n",
    "            return BoundaryType.Dirichlet.ToString();\n",
    "        });\n",
    " \n",
    "        return grd;\n",
    "    };\n",
    " \n",
    "    c.SetDatabase(wmg.DefaultDatabase);\n",
    "    c.savetodb = true; \n",
    " \n",
    "    return c;    \n",
    "};"
   ]
  },
  {
   "cell_type": "markdown",
   "metadata": {},
   "source": [
    "Again, we are using the **workflow management**"
   ]
  },
  {
   "cell_type": "code",
   "execution_count": null,
   "metadata": {
    "dotnet_interactive": {
     "language": "csharp"
    }
   },
   "outputs": [],
   "source": [
    "BoSSSshell.WorkflowMgm.Init(\"Demo_BoundaryAndInitialData\");"
   ]
  },
  {
   "cell_type": "markdown",
   "metadata": {},
   "source": [
    "## Textual and Embedded formulas\n"
   ]
  },
  {
   "cell_type": "markdown",
   "metadata": {},
   "source": [
    "One of the most common ways of specifying an initial value, in general, is a mathamathical formula.\n",
    "In BoSSS, such formulas also have to be encoded in C#.\n",
    "The respective C#-code for the formula has to be given as a `string`."
   ]
  },
  {
   "cell_type": "code",
   "execution_count": null,
   "metadata": {
    "dotnet_interactive": {
     "language": "csharp"
    }
   },
   "outputs": [],
   "source": [
    "SipControl c1 = PreDefinedControl(); // use the template defined above"
   ]
  },
  {
   "cell_type": "markdown",
   "metadata": {},
   "source": [
    "The following snippet will add a `Formula` object to the inital data:"
   ]
  },
  {
   "cell_type": "code",
   "execution_count": null,
   "metadata": {
    "dotnet_interactive": {
     "language": "csharp"
    }
   },
   "outputs": [],
   "source": [
    "// Setting an intial value for the right-hand-side:\n",
    "c1.AddInitialValue(\"RHS\",\"X => Math.Sin(X[0])*Math.Cos(X[1])\",\n",
    "                        TimeDependent:false);"
   ]
  },
  {
   "cell_type": "markdown",
   "metadata": {},
   "source": [
    "Note: \n",
    "* All initial data object are stored in the \n",
    "  `AppControl.InitialValues` dictionary, while\n",
    "   all boundary data objects are stored in the \n",
    "   `AppControl.BoundaryValues` dictionary.\n",
    "* The common interface for all varinats to specify boundary\n",
    "   and initial data is `IBoundaryAndInitialData`\n",
    "\n",
    "The snippet above is only a shortcut to add a `Formula` object,\n",
    "which implements the `IBoundaryAndInitialData` interface.\n",
    "\n",
    "After we added this initial value, we can observe it in the control object:"
   ]
  },
  {
   "cell_type": "code",
   "execution_count": null,
   "metadata": {
    "dotnet_interactive": {
     "language": "csharp"
    }
   },
   "outputs": [],
   "source": [
    "c1.InitialValues"
   ]
  },
  {
   "cell_type": "code",
   "execution_count": null,
   "metadata": {
    "dotnet_interactive": {
     "language": "csharp"
    }
   },
   "outputs": [],
   "source": [
    "c1.InitialValues[\"RHS\"]"
   ]
  },
  {
   "cell_type": "markdown",
   "metadata": {},
   "source": [
    "In **BoSSSpad**, such objects can also be extracted from \n",
    "static methods of classes; note that these should not depend on any other\n",
    "object in the worksheet."
   ]
  },
  {
   "cell_type": "code",
   "execution_count": null,
   "metadata": {
    "dotnet_interactive": {
     "language": "csharp"
    }
   },
   "outputs": [],
   "source": [
    "Formula BndyFormula = new Formula(\n",
    "    \"BndyValue.BndyFunction\",\n",
    "    false,\n",
    "\"static class BndyValue {\"+\n",
    "\"    public static double BndyFunction(double[] X) {\"+\n",
    "\"        return 1.0;\"+\n",
    "\"    }\"+\n",
    "\"}\");"
   ]
  },
  {
   "cell_type": "code",
   "execution_count": null,
   "metadata": {
    "dotnet_interactive": {
     "language": "csharp"
    }
   },
   "outputs": [],
   "source": [
    "c1.AddBoundaryValue(BoundaryType.Dirichlet.ToString(),\n",
    "                    \"T\",\n",
    "                    BndyFormula);"
   ]
  },
  {
   "cell_type": "markdown",
   "metadata": {},
   "source": [
    "We create a job **J1** and execute it on the default batch processor:"
   ]
  },
  {
   "cell_type": "code",
   "execution_count": null,
   "metadata": {
    "dotnet_interactive": {
     "language": "csharp"
    }
   },
   "outputs": [],
   "source": [
    "var J1 = c1.RunBatch();"
   ]
  },
  {
   "cell_type": "markdown",
   "metadata": {},
   "source": [
    "The next line prints the Status of the Job `J1`."
   ]
  },
  {
   "cell_type": "code",
   "execution_count": null,
   "metadata": {
    "dotnet_interactive": {
     "language": "csharp"
    }
   },
   "outputs": [],
   "source": [
    "BoSSSshell.WorkflowMgm.BlockUntilAllJobsTerminate(3600*4);"
   ]
  },
  {
   "cell_type": "markdown",
   "metadata": {},
   "source": [
    "We can print the Status of the Job `J1`."
   ]
  },
  {
   "cell_type": "code",
   "execution_count": null,
   "metadata": {
    "dotnet_interactive": {
     "language": "csharp"
    }
   },
   "outputs": [],
   "source": [
    "J1.Status"
   ]
  },
  {
   "cell_type": "markdown",
   "metadata": {},
   "source": [
    "We can also check via a method if the Job `J1` is truly finished"
   ]
  },
  {
   "cell_type": "code",
   "execution_count": null,
   "metadata": {
    "dotnet_interactive": {
     "language": "csharp"
    }
   },
   "outputs": [],
   "source": [
    "NUnit.Framework.Assert.IsTrue(J1.Status == JobStatus.FinishedSuccessful);"
   ]
  },
  {
   "cell_type": "markdown",
   "metadata": {},
   "source": [
    "The results of every compute job are stured in the database as so-calles **sessions**. One session is created for each solver run. The most recent result of a job can be aquired through the `LatesSession` property:"
   ]
  },
  {
   "cell_type": "code",
   "execution_count": null,
   "metadata": {},
   "outputs": [],
   "source": [
    "J1.LatestSession"
   ]
  },
  {
   "cell_type": "markdown",
   "metadata": {},
   "source": [
    "# 1D Splines\n",
    "\n",
    "If no analytical expression for some inital or boundary data can be specified, \n",
    "**Splines** can be used to interpolate nodal data onto a DG field.\n",
    "currently, only 1D is supported."
   ]
  },
  {
   "cell_type": "code",
   "execution_count": null,
   "metadata": {
    "dotnet_interactive": {
     "language": "csharp"
    }
   },
   "outputs": [],
   "source": [
    "SipControl c2 = PreDefinedControl();"
   ]
  },
  {
   "cell_type": "code",
   "execution_count": null,
   "metadata": {
    "dotnet_interactive": {
     "language": "csharp"
    }
   },
   "outputs": [],
   "source": [
    "// create test data for the spline\n",
    "double[] xNodes = GenericBlas.Linspace(-2,2,13);\n",
    "double[] yNodes = xNodes.Select(x => x*0.4).ToArray();"
   ]
  },
  {
   "cell_type": "code",
   "execution_count": null,
   "metadata": {
    "dotnet_interactive": {
     "language": "csharp"
    }
   },
   "outputs": [],
   "source": [
    "var rhsSpline = new Spline1D(xNodes, yNodes,\n",
    "                             0,\n",
    "                             Spline1D.OutOfBoundsBehave.Extrapolate);"
   ]
  },
  {
   "cell_type": "code",
   "execution_count": null,
   "metadata": {
    "dotnet_interactive": {
     "language": "csharp"
    }
   },
   "outputs": [],
   "source": [
    "// verify that the spline does what it is suposed to do:\n",
    "double err = 0;\n",
    "// test the spline: a line must be interpolated exactly.\n",
    "foreach(double xtst in GenericBlas.Linspace(-3,3,77)) { \n",
    "   double sVal = rhsSpline.Evaluate(new double[] {xtst , 0, 0 }, 0.0);\n",
    "   double rVal = xtst*0.4;\n",
    "   err += Math.Abs(sVal - rVal);\n",
    "}\n",
    "NUnit.Framework.Assert.Less(err, 1.0e-10, \"Spline implementation fail.\");"
   ]
  },
  {
   "cell_type": "code",
   "execution_count": null,
   "metadata": {
    "dotnet_interactive": {
     "language": "csharp"
    }
   },
   "outputs": [],
   "source": [
    "c2.AddInitialValue(\"RHS\", rhsSpline);"
   ]
  },
  {
   "cell_type": "markdown",
   "metadata": {},
   "source": [
    "Again, create a job **J2** and execute it on the default batch processor:"
   ]
  },
  {
   "cell_type": "code",
   "execution_count": null,
   "metadata": {
    "dotnet_interactive": {
     "language": "csharp"
    }
   },
   "outputs": [],
   "source": [
    "var J2 = c2.RunBatch();"
   ]
  },
  {
   "cell_type": "code",
   "execution_count": null,
   "metadata": {
    "dotnet_interactive": {
     "language": "csharp"
    }
   },
   "outputs": [],
   "source": [
    "BoSSSshell.WorkflowMgm.BlockUntilAllJobsTerminate(3600*4);"
   ]
  },
  {
   "cell_type": "code",
   "execution_count": null,
   "metadata": {
    "dotnet_interactive": {
     "language": "csharp"
    }
   },
   "outputs": [],
   "source": [
    "J2.Status"
   ]
  },
  {
   "cell_type": "code",
   "execution_count": null,
   "metadata": {
    "dotnet_interactive": {
     "language": "csharp"
    }
   },
   "outputs": [],
   "source": [
    "/// BoSSScmdSilent\n",
    "NUnit.Framework.Assert.IsTrue(J2.Status == JobStatus.FinishedSuccessful);"
   ]
  },
  {
   "cell_type": "code",
   "execution_count": null,
   "metadata": {},
   "outputs": [],
   "source": [
    "J2.LatestSession"
   ]
  },
  {
   "cell_type": "markdown",
   "metadata": {},
   "source": [
    "\n",
    "## Interpolating values from other solver runs\n",
    "\n",
    "Very often, also the result of some previous solver run could serve as the input for a new solver run.\n",
    "These previous results not neccessarily need to be on the same mesh. \n",
    "The `ForeignGridValue` class is capeable of interpolating some results from an existing solver un in the database\n",
    "onto a different mesh.\n",
    "\n",
    "For demonstrational purposes, we use the result (i.e. the last time-step) \n",
    "of a previous calculation as a right-hand-side for the next calculation."
   ]
  },
  {
   "cell_type": "code",
   "execution_count": null,
   "metadata": {
    "dotnet_interactive": {
     "language": "csharp"
    }
   },
   "outputs": [],
   "source": [
    "var j2Sess = J2.LatestSession;"
   ]
  },
  {
   "cell_type": "code",
   "execution_count": null,
   "metadata": {
    "dotnet_interactive": {
     "language": "csharp"
    }
   },
   "outputs": [],
   "source": [
    "j2Sess"
   ]
  },
  {
   "cell_type": "code",
   "execution_count": null,
   "metadata": {
    "dotnet_interactive": {
     "language": "csharp"
    }
   },
   "outputs": [],
   "source": [
    "j2Sess.Timesteps"
   ]
  },
  {
   "cell_type": "code",
   "execution_count": null,
   "metadata": {
    "dotnet_interactive": {
     "language": "csharp"
    }
   },
   "outputs": [],
   "source": [
    "var lastTimeStep = j2Sess.Timesteps.Last(); // select the last timestep computed in J2:"
   ]
  },
  {
   "cell_type": "markdown",
   "metadata": {},
   "source": [
    "We encapsulate the value of DG field `T` in the `ForeignGridValue` object,\n",
    "which allows interpolation between different meshes:"
   ]
  },
  {
   "cell_type": "code",
   "execution_count": null,
   "metadata": {
    "dotnet_interactive": {
     "language": "csharp"
    }
   },
   "outputs": [],
   "source": [
    "var newForeignMesh = new ForeignGridValue(lastTimeStep,\"T\");"
   ]
  },
  {
   "cell_type": "code",
   "execution_count": null,
   "metadata": {
    "dotnet_interactive": {
     "language": "csharp"
    }
   },
   "outputs": [],
   "source": [
    "SipControl c3 = PreDefinedControl();"
   ]
  },
  {
   "cell_type": "markdown",
   "metadata": {},
   "source": [
    "To demonstrate the mesh interpolation capabilities, \n",
    "we define a different mesh in the control object."
   ]
  },
  {
   "cell_type": "code",
   "execution_count": null,
   "metadata": {
    "dotnet_interactive": {
     "language": "csharp"
    }
   },
   "outputs": [],
   "source": [
    "c3.GridFunc = delegate() {\n",
    "   // define a grid of *triangle* cells\n",
    "   double[] nodes = GenericBlas.Linspace(-1, 1, 11);\n",
    "   var grd = Grid2D.UnstructuredTriangleGrid(nodes, nodes);\n",
    " \n",
    "   // set the entire boundary to Dirichlet b.c.\n",
    "   grd.DefineEdgeTags(delegate (double[] X) {\n",
    "       return BoundaryType.Dirichlet.ToString();\n",
    "   });\n",
    " \n",
    "   return grd;\n",
    "};\n",
    "// we also save the RHS in the database\n",
    "c3.AddFieldOption(\"RHS\", SaveOpt: FieldOpts.SaveToDBOpt.TRUE);"
   ]
  },
  {
   "cell_type": "code",
   "execution_count": null,
   "metadata": {
    "dotnet_interactive": {
     "language": "csharp"
    }
   },
   "outputs": [],
   "source": [
    "// finally, we define the RHS:\n",
    "c3.AddInitialValue(\"RHS\", newForeignMesh);"
   ]
  },
  {
   "cell_type": "code",
   "execution_count": null,
   "metadata": {
    "dotnet_interactive": {
     "language": "csharp"
    }
   },
   "outputs": [],
   "source": [
    "// a brief check to see if the interpolation wors.\n",
    "double orgProbe = newForeignMesh.Evaluate(new double[] {0.5,0.5}, 0.0); // evaluate at (0.5, 0.5) in interpolated mesh\n",
    "double newProbe = lastTimeStep.GetField(\"T\").ProbeAt(new double[] {0.5,0.5});  // evaluate at (0.5, 0.5) in original mesh\n",
    "NUnit.Framework.Assert.Less(Math.Abs(orgProbe - newProbe), 1.0e-10, \"Check (1) on ForeignGridValue failed\");"
   ]
  },
  {
   "cell_type": "markdown",
   "metadata": {},
   "source": [
    "Execute the job on the basth processor:"
   ]
  },
  {
   "cell_type": "code",
   "execution_count": null,
   "metadata": {
    "dotnet_interactive": {
     "language": "csharp"
    }
   },
   "outputs": [],
   "source": [
    "var J3 = c3.RunBatch();"
   ]
  },
  {
   "cell_type": "code",
   "execution_count": null,
   "metadata": {
    "dotnet_interactive": {
     "language": "csharp"
    }
   },
   "outputs": [],
   "source": [
    "BoSSSshell.WorkflowMgm.BlockUntilAllJobsTerminate(3600*4);"
   ]
  },
  {
   "cell_type": "code",
   "execution_count": null,
   "metadata": {
    "dotnet_interactive": {
     "language": "csharp"
    }
   },
   "outputs": [],
   "source": [
    "J3.Status"
   ]
  },
  {
   "cell_type": "code",
   "execution_count": null,
   "metadata": {
    "dotnet_interactive": {
     "language": "csharp"
    }
   },
   "outputs": [],
   "source": [
    "/// BoSSScmdSilent\n",
    "NUnit.Framework.Assert.IsTrue(J3.Status == JobStatus.FinishedSuccessful);"
   ]
  },
  {
   "cell_type": "markdown",
   "metadata": {},
   "source": [
    "Since the quadrilateral mesh used for the original\n",
    "right-hand-side is geometrically embedded in the triangular mesh \n",
    "the **interpolation error should be zero** (up to machine precision)."
   ]
  },
  {
   "cell_type": "code",
   "execution_count": null,
   "metadata": {
    "dotnet_interactive": {
     "language": "csharp"
    }
   },
   "outputs": [],
   "source": [
    "var firstTimeStep = J3.LatestSession.Timesteps.First();"
   ]
  },
  {
   "cell_type": "code",
   "execution_count": null,
   "metadata": {
    "dotnet_interactive": {
     "language": "csharp"
    }
   },
   "outputs": [],
   "source": [
    "DGField RhsOnTriangles = firstTimeStep.GetField(\"rhs\"); // case-insensitive!\n",
    "DGField RhsOriginal    = lastTimeStep.GetField(\"T\");"
   ]
  },
  {
   "cell_type": "code",
   "execution_count": null,
   "metadata": {
    "dotnet_interactive": {
     "language": "csharp"
    }
   },
   "outputs": [],
   "source": [
    "// note: we have to cast DGField to ConventionalDGField in order to use\n",
    "// the 'L2Distance' function:\n",
    "((ConventionalDGField)RhsOnTriangles).L2Distance((ConventionalDGField)RhsOriginal)"
   ]
  },
  {
   "cell_type": "code",
   "execution_count": null,
   "metadata": {
    "dotnet_interactive": {
     "language": "csharp"
    }
   },
   "outputs": [],
   "source": [
    "/// BoSSScmdSilent\n",
    "var H1err = ((ConventionalDGField)RhsOnTriangles).H1Distance((ConventionalDGField)RhsOriginal);\n",
    "NUnit.Framework.Assert.Less(H1err, 1.0e-10, \"Check (2) on ForeignGridValue failed.\");"
   ]
  },
  {
   "cell_type": "markdown",
   "metadata": {},
   "source": [
    "## Restart from Dummy-Sessions\n",
    "\n",
    "Mesh interpolation is a quite expensive task. \n",
    "If pre-existing values from the database shall be used, but no mesh interpolation is required,\n",
    "one can also store the initial values in a so-called **dummy session**\n",
    "and trhen run the solver as a restart from this dummy session.\n",
    "\n",
    "Dummy sessions are kind of fake solver runs, with the only purpose \n",
    "of using them for a restart."
   ]
  },
  {
   "cell_type": "code",
   "execution_count": null,
   "metadata": {
    "dotnet_interactive": {
     "language": "csharp"
    }
   },
   "outputs": [],
   "source": [
    "DGField RHSforRestart = firstTimeStep.GetField(\"RHS\");"
   ]
  },
  {
   "cell_type": "markdown",
   "metadata": {},
   "source": [
    "We save the DG field `RHSforRestart` in the database;\n",
    "This automatically creates a timestep and a session which host the DG field:"
   ]
  },
  {
   "cell_type": "code",
   "execution_count": null,
   "metadata": {
    "dotnet_interactive": {
     "language": "csharp"
    }
   },
   "outputs": [],
   "source": [
    "var RestartTimestep = wmg.DefaultDatabase.SaveTimestep(RHSforRestart);"
   ]
  },
  {
   "cell_type": "code",
   "execution_count": null,
   "metadata": {
    "dotnet_interactive": {
     "language": "csharp"
    }
   },
   "outputs": [],
   "source": [
    "RestartTimestep"
   ]
  },
  {
   "cell_type": "code",
   "execution_count": null,
   "metadata": {
    "dotnet_interactive": {
     "language": "csharp"
    }
   },
   "outputs": [],
   "source": [
    "RestartTimestep.Session"
   ]
  },
  {
   "cell_type": "markdown",
   "metadata": {},
   "source": [
    "This time step can be used as a restart value.:"
   ]
  },
  {
   "cell_type": "code",
   "execution_count": null,
   "metadata": {
    "dotnet_interactive": {
     "language": "csharp"
    }
   },
   "outputs": [],
   "source": [
    "var c4 = PreDefinedControl();"
   ]
  },
  {
   "cell_type": "markdown",
   "metadata": {},
   "source": [
    "We specify a **restart form the dummy session**:"
   ]
  },
  {
   "cell_type": "code",
   "execution_count": null,
   "metadata": {
    "dotnet_interactive": {
     "language": "csharp"
    }
   },
   "outputs": [],
   "source": [
    "c4.InitialValues.Clear();\n",
    "c4.SetRestart(RestartTimestep);"
   ]
  },
  {
   "cell_type": "markdown",
   "metadata": {},
   "source": [
    "And run the solver:"
   ]
  },
  {
   "cell_type": "code",
   "execution_count": null,
   "metadata": {
    "dotnet_interactive": {
     "language": "csharp"
    }
   },
   "outputs": [],
   "source": [
    "var J4 = c4.RunBatch();"
   ]
  },
  {
   "cell_type": "code",
   "execution_count": null,
   "metadata": {
    "dotnet_interactive": {
     "language": "csharp"
    }
   },
   "outputs": [],
   "source": [
    "BoSSSshell.WorkflowMgm.BlockUntilAllJobsTerminate(3600*4);"
   ]
  },
  {
   "cell_type": "code",
   "execution_count": null,
   "metadata": {
    "dotnet_interactive": {
     "language": "csharp"
    }
   },
   "outputs": [],
   "source": [
    "J4.Status"
   ]
  },
  {
   "cell_type": "code",
   "execution_count": null,
   "metadata": {
    "dotnet_interactive": {
     "language": "csharp"
    }
   },
   "outputs": [],
   "source": [
    "/// BoSSScmdSilent\n",
    "NUnit.Framework.Assert.IsTrue(J4.Status == JobStatus.FinishedSuccessful);"
   ]
  },
  {
   "cell_type": "markdown",
   "metadata": {},
   "source": [
    "### Note\n",
    "\n",
    "Since no mesh interpolation is performed for the restart, it is much faster\n",
    "than `ForeignGridValue`  but less flexible \n",
    "(a restart is always performed on the same mesh).\n",
    "\n",
    "To avoid multiple mesh interpolations (e.g. when multiple runs are required)\n",
    "one coudl therefore speed up the process by doing the \n",
    "mesh interpolation once **use `ProjectFromForeignGrid`** in BoSSSpad and\n",
    "save the interpolation in a dummy session."
   ]
  },
  {
   "cell_type": "code",
   "execution_count": null,
   "metadata": {},
   "outputs": [],
   "source": []
  }
 ],
 "metadata": {
  "kernelspec": {
   "display_name": ".NET (C#)",
   "language": "C#",
   "name": ".net-csharp"
  },
  "language_info": {
   "file_extension": ".cs",
   "mimetype": "text/x-csharp",
   "name": "C#",
   "pygments_lexer": "csharp",
   "version": "10.0"
  }
 },
 "nbformat": 4,
 "nbformat_minor": 4
}

{
 "cells": [
  {
   "cell_type": "markdown",
   "metadata": {},
   "source": [
    "# Workfow Management and Meta Job Scheduler\n",
    "\n",
    "This tutorial illustrates how computations can be executed on large \n",
    "(or small) compute servers, aka.\n",
    "high-performance-computers (HPC), aka. compute clusters, aka. supercomputers, etc.\n",
    "\n",
    "This means, the computation is not executed on the local workstation \n",
    "(or laptop) but on some other computer.\n",
    "This approach is particulary handy for large computations, which run\n",
    "for multiple hours or days, since a user can \n",
    "e.g. shutdown or restart his personal computer without killing the compute job. \n",
    "\n",
    "*BoSSS* features a set of classes and routines \n",
    "(an API, application programing interface) for communication with \n",
    "compute clusters. This is especially handy for **scripting**,\n",
    "e.g. for parameter studies, where dozens of computations \n",
    "have to be started and monitored."
   ]
  },
  {
   "cell_type": "markdown",
   "metadata": {},
   "source": [
    "First, we initialize the new worksheet;\n",
    "Note: \n",
    "1. This tutorial can be found in the source code repository as as `MetaJobManager.ipynb`. \n",
    "   One can directly load this into Jupyter to interactively work with the following code examples.\n",
    "2. **In the following line, the reference to `BoSSSpad.dll` is required**. \n",
    "   You must either set `#r \"BoSSSpad.dll\"` to something which is appropirate for your computer\n",
    "   (e.g. `C:\\Program Files (x86)\\FDY\\BoSSS\\bin\\Release\\net5.0\\BoSSSpad.dll` if you installed the binary distribution),\n",
    "   or, if you are working with the source code, you must compile `BoSSSpad` and put it side-by-side to this worksheet file\n",
    "   (from the original location in the repository, you can use the scripts `getbossspad.sh`, resp. `getbossspad.bat`)."
   ]
  },
  {
   "cell_type": "code",
   "execution_count": 1,
   "metadata": {
    "dotnet_interactive": {
     "language": "csharp"
    },
    "vscode": {
     "languageId": "csharp"
    }
   },
   "outputs": [
    {
     "data": {
      "text/html": [
       "\r\n",
       "<div>\r\n",
       "    <div id='dotnet-interactive-this-cell-197986.Microsoft.DotNet.Interactive.Http.HttpPort' style='display: none'>\r\n",
       "        The below script needs to be able to find the current output cell; this is an easy method to get it.\r\n",
       "    </div>\r\n",
       "    <script type='text/javascript'>\r\n",
       "async function probeAddresses(probingAddresses) {\r\n",
       "    function timeout(ms, promise) {\r\n",
       "        return new Promise(function (resolve, reject) {\r\n",
       "            setTimeout(function () {\r\n",
       "                reject(new Error('timeout'))\r\n",
       "            }, ms)\r\n",
       "            promise.then(resolve, reject)\r\n",
       "        })\r\n",
       "    }\r\n",
       "\r\n",
       "    if (Array.isArray(probingAddresses)) {\r\n",
       "        for (let i = 0; i < probingAddresses.length; i++) {\r\n",
       "\r\n",
       "            let rootUrl = probingAddresses[i];\r\n",
       "\r\n",
       "            if (!rootUrl.endsWith('/')) {\r\n",
       "                rootUrl = `${rootUrl}/`;\r\n",
       "            }\r\n",
       "\r\n",
       "            try {\r\n",
       "                let response = await timeout(1000, fetch(`${rootUrl}discovery`, {\r\n",
       "                    method: 'POST',\r\n",
       "                    cache: 'no-cache',\r\n",
       "                    mode: 'cors',\r\n",
       "                    timeout: 1000,\r\n",
       "                    headers: {\r\n",
       "                        'Content-Type': 'text/plain'\r\n",
       "                    },\r\n",
       "                    body: probingAddresses[i]\r\n",
       "                }));\r\n",
       "\r\n",
       "                if (response.status == 200) {\r\n",
       "                    return rootUrl;\r\n",
       "                }\r\n",
       "            }\r\n",
       "            catch (e) { }\r\n",
       "        }\r\n",
       "    }\r\n",
       "}\r\n",
       "\r\n",
       "function loadDotnetInteractiveApi() {\r\n",
       "    probeAddresses([\"http://130.83.248.143:1024/\", \"http://127.0.0.1:1024/\"])\r\n",
       "        .then((root) => {\r\n",
       "        // use probing to find host url and api resources\r\n",
       "        // load interactive helpers and language services\r\n",
       "        let dotnetInteractiveRequire = require.config({\r\n",
       "        context: '197986.Microsoft.DotNet.Interactive.Http.HttpPort',\r\n",
       "                paths:\r\n",
       "            {\r\n",
       "                'dotnet-interactive': `${root}resources`\r\n",
       "                }\r\n",
       "        }) || require;\r\n",
       "\r\n",
       "            window.dotnetInteractiveRequire = dotnetInteractiveRequire;\r\n",
       "\r\n",
       "            window.configureRequireFromExtension = function(extensionName, extensionCacheBuster) {\r\n",
       "                let paths = {};\r\n",
       "                paths[extensionName] = `${root}extensions/${extensionName}/resources/`;\r\n",
       "                \r\n",
       "                let internalRequire = require.config({\r\n",
       "                    context: extensionCacheBuster,\r\n",
       "                    paths: paths,\r\n",
       "                    urlArgs: `cacheBuster=${extensionCacheBuster}`\r\n",
       "                    }) || require;\r\n",
       "\r\n",
       "                return internalRequire\r\n",
       "            };\r\n",
       "        \r\n",
       "            dotnetInteractiveRequire([\r\n",
       "                    'dotnet-interactive/dotnet-interactive'\r\n",
       "                ],\r\n",
       "                function (dotnet) {\r\n",
       "                    dotnet.init(window);\r\n",
       "                },\r\n",
       "                function (error) {\r\n",
       "                    console.log(error);\r\n",
       "                }\r\n",
       "            );\r\n",
       "        })\r\n",
       "        .catch(error => {console.log(error);});\r\n",
       "    }\r\n",
       "\r\n",
       "// ensure `require` is available globally\r\n",
       "if ((typeof(require) !==  typeof(Function)) || (typeof(require.config) !== typeof(Function))) {\r\n",
       "    let require_script = document.createElement('script');\r\n",
       "    require_script.setAttribute('src', 'https://cdnjs.cloudflare.com/ajax/libs/require.js/2.3.6/require.min.js');\r\n",
       "    require_script.setAttribute('type', 'text/javascript');\r\n",
       "    \r\n",
       "    \r\n",
       "    require_script.onload = function() {\r\n",
       "        loadDotnetInteractiveApi();\r\n",
       "    };\r\n",
       "\r\n",
       "    document.getElementsByTagName('head')[0].appendChild(require_script);\r\n",
       "}\r\n",
       "else {\r\n",
       "    loadDotnetInteractiveApi();\r\n",
       "}\r\n",
       "\r\n",
       "    </script>\r\n",
       "</div>"
      ]
     },
     "metadata": {},
     "output_type": "display_data"
    }
   ],
   "source": [
    "#r \"BoSSSpad.dll\"\n",
    "//#r \"../../../src/L4-application/BoSSSpad/bin/Debug/net6.0/BoSSSpad.dll\"\n",
    "using System;\n",
    "using System.Collections.Generic;\n",
    "using System.Linq;\n",
    "using ilPSP;\n",
    "using ilPSP.Utils;\n",
    "using BoSSS.Platform;\n",
    "using BoSSS.Foundation;\n",
    "using BoSSS.Foundation.Grid;\n",
    "using BoSSS.Foundation.Grid.Classic;\n",
    "using BoSSS.Foundation.IO;\n",
    "using BoSSS.Solution;\n",
    "using BoSSS.Solution.Control;\n",
    "using BoSSS.Solution.GridImport;\n",
    "using BoSSS.Solution.Statistic;\n",
    "using BoSSS.Solution.Utils;\n",
    "using BoSSS.Solution.Gnuplot;\n",
    "using BoSSS.Application.BoSSSpad;\n",
    "using BoSSS.Application.XNSE_Solver;\n",
    "using static BoSSS.Application.BoSSSpad.BoSSSshell;\n",
    "Init();"
   ]
  },
  {
   "cell_type": "markdown",
   "metadata": {},
   "source": [
    "\n",
    "## Batch Processing\n",
    "\n",
    "First, we have to select a *batch system* (aka.*execution queue*, aka. *queue*) that we want to use.\n",
    "Batch systems are a common approach to organize workloads (aka. compute jobs)\n",
    "on compute clusters.\n",
    "On such systems, a user typically does **not** starts a simulation manually/interactively.\n",
    "Instead, he specifies a so-called *compute job*. The *scheduler* \n",
    "(i.e. the batch system) collects \n",
    "compute jobs from all users on the compute cluster, sorts them according to \n",
    "some priority and puts the jobs into some queue, also called *batch*.\n",
    "The jobs in the batch are then executed in order, depending on the \n",
    "available hardware and the scheduling policies of the system.\n",
    "\n",
    "The *BoSSS* API provides front-ends (clients) for the following \n",
    "batch system software:\n",
    "\n",
    "- `BoSSS.Application.BoSSSpad.SlurmClient` for the \n",
    "Slurm Workload Manager (very prominent on Linux HPC systems)\n",
    "- `BoSSS.Application.BoSSSpad.MsHPC2012Client`\n",
    "for the Microsoft HPC Pack 2012 and higher\n",
    "- `BoSSS.Application.BoSSSpad.MiniBatchProcessorClient` for the \n",
    "mini batch processor, a minimalistic, *BoSSS*-internal batch system which mimiks \n",
    "a supercomputer batch system on the local machine.\n"
   ]
  },
  {
   "cell_type": "markdown",
   "metadata": {},
   "source": [
    "A list of clients for various batch systems, which are loaded at the \n",
    "`Init()` command can be configured through the  \n",
    "`~/.BoSSS/etc/BatchProcessorConfig.json`-file.\n",
    "If this file is missing, a default setting, containing a \n",
    "mini batch processor, is initialized. \n",
    "\n",
    "The list of all execution queues can be accessed through:"
   ]
  },
  {
   "cell_type": "code",
   "execution_count": 2,
   "metadata": {
    "dotnet_interactive": {
     "language": "csharp"
    },
    "vscode": {
     "languageId": "csharp"
    }
   },
   "outputs": [
    {
     "data": {
      "text/html": [
       "<table><thead><tr><th><i>index</i></th><th>Username</th><th>Password</th><th>ServerName</th><th>PrivateKeyFilePath</th><th>AdditionalBatchCommands</th><th>ExecutionTime</th><th>DeploymentBaseDirectoryAtRemote</th><th>RuntimeLocation</th><th>SlurmAccount</th><th>Email</th><th>DeploymentBaseDirectory</th><th>DeployRuntime</th><th>Name</th><th>DotnetRuntime</th><th>MonoDebug</th><th>AllowedDatabasesPaths</th></tr></thead><tbody><tr><td>0</td><td>fk69umer</td><td><div class=\"dni-plaintext\">&lt;null&gt;</div></td><td>lcluster19.hrz.tu-darmstadt.de</td><td>/home/gitlab-runner/.ssh/id_rsa</td><td>[ #SBATCH -C avx512, #SBATCH --mem-per-cpu=8000 ]</td><td>02:00:00</td><td>/work/scratch/fk69umer/jenkins/deploy</td><td>linux/amd64-openmpi</td><td>special00006</td><td><div class=\"dni-plaintext\">&lt;null&gt;</div></td><td>/mnt/lb17-scratch-fk69umer/jenkins/deploy</td><td>False</td><td>Lb2-specialPrj</td><td>dotnet</td><td>False</td><td>[ /mnt/lb17-scratch-fk69umer/jenkins/databases == /work/scratch/fk69umer/jenkins/databases ]</td></tr><tr><td>1</td><td>fk69umer</td><td><div class=\"dni-plaintext\">&lt;null&gt;</div></td><td>lcluster19.hrz.tu-darmstadt.de</td><td>/home/gitlab-runner/.ssh/id_rsa</td><td>[ #SBATCH -C avx512, #SBATCH --mem-per-cpu=8000 ]</td><td>02:00:00</td><td>/work/scratch/fk69umer/jenkins/deploy</td><td>linux/amd64-openmpi</td><td>special00006</td><td><div class=\"dni-plaintext\">&lt;null&gt;</div></td><td>/mnt/lb17-scratch-fk69umer/jenkins/deploy</td><td>False</td><td>Lb2-specialPrj</td><td>dotnet</td><td>False</td><td>[ /mnt/lb17-scratch-fk69umer/jenkins/databases == /work/scratch/fk69umer/jenkins/databases ]</td></tr></tbody></table>"
      ]
     },
     "execution_count": 2,
     "metadata": {},
     "output_type": "execute_result"
    }
   ],
   "source": [
    "ExecutionQueues"
   ]
  },
  {
   "cell_type": "markdown",
   "metadata": {},
   "source": [
    "In order to run a simulation job, one can either manually select one of these queues -- or, one culd just use the **default queue**.  The default queue for execution can be configured by two options:\n",
    "- globally, can specified by the `DefaultQueueIndex` in configuration file `~/.BoSSS/etc/BatchProcessorConfig.json`\n",
    "- for each project (see below), it can be overwritten using the file `~/.BoSSS/etc/DefaultQueuesProjectOverride.txt`"
   ]
  },
  {
   "cell_type": "markdown",
   "metadata": {},
   "source": [
    "### Note on the Mini Batch Processor:\n",
    "The batch processor for local jobs can be started separately (by launching\n",
    "`MiniBatchProcessor.exe` or `dotnet MiniBatchProcessor.dll`), **which is the prefferred option**.\n",
    "Alternatively, it can be started from Jupyter Notebook; it depends on the operating system, whether the \n",
    "`MiniBatchProcessor.exe` is terminated with the notebook kernel, or not.\n",
    "If no mini-batch-processor is running, it is started (hopefully) upon Job activation."
   ]
  },
  {
   "cell_type": "markdown",
   "metadata": {},
   "source": [
    "\n",
    "## Initializing the workflow management\n",
    "\n",
    "In order to use the workflow management, \n",
    "the very first thing we have to do is to initialize it by defineing \n",
    "a **project name**, here it is `MetaJobManager_Tutorial`. \n",
    "This is used to generate names for the compute jobs and to \n",
    "identify sessions in the database:"
   ]
  },
  {
   "cell_type": "code",
   "execution_count": 3,
   "metadata": {
    "dotnet_interactive": {
     "language": "csharp"
    },
    "vscode": {
     "languageId": "csharp"
    }
   },
   "outputs": [
    {
     "name": "stdout",
     "output_type": "stream",
     "text": [
      "Project name is set to 'MetaJobManager_Tutorial'.\n",
      "Default Execution queue is chosen for the database.\n",
      "Opening existing database '/mnt/lb17-scratch-fk69umer/jenkins/databases/MetaJobManager_Tutorial'.\n"
     ]
    }
   ],
   "source": [
    "BoSSSshell.WorkflowMgm.Init(\"MetaJobManager_Tutorial\");"
   ]
  },
  {
   "cell_type": "markdown",
   "metadata": {},
   "source": [
    "For this project, the default execution queue is set to:"
   ]
  },
  {
   "cell_type": "code",
   "execution_count": 4,
   "metadata": {
    "vscode": {
     "languageId": "csharp"
    }
   },
   "outputs": [
    {
     "data": {
      "text/html": [
       "<table><thead><tr><th>Username</th><th>Password</th><th>ServerName</th><th>PrivateKeyFilePath</th><th>AdditionalBatchCommands</th><th>ExecutionTime</th><th>DeploymentBaseDirectoryAtRemote</th><th>RuntimeLocation</th><th>SlurmAccount</th><th>Email</th><th>DeploymentBaseDirectory</th><th>DeployRuntime</th><th>Name</th><th>DotnetRuntime</th><th>MonoDebug</th><th>AllowedDatabasesPaths</th></tr></thead><tbody><tr><td><div class=\"dni-plaintext\">fk69umer</div></td><td><div class=\"dni-plaintext\">&lt;null&gt;</div></td><td><div class=\"dni-plaintext\">lcluster19.hrz.tu-darmstadt.de</div></td><td><div class=\"dni-plaintext\">/home/gitlab-runner/.ssh/id_rsa</div></td><td><div class=\"dni-plaintext\">[ #SBATCH -C avx512, #SBATCH --mem-per-cpu=8000 ]</div></td><td><div class=\"dni-plaintext\">02:00:00</div></td><td><div class=\"dni-plaintext\">/work/scratch/fk69umer/jenkins/deploy</div></td><td><div class=\"dni-plaintext\">linux/amd64-openmpi</div></td><td><div class=\"dni-plaintext\">special00006</div></td><td><div class=\"dni-plaintext\">&lt;null&gt;</div></td><td><div class=\"dni-plaintext\">/mnt/lb17-scratch-fk69umer/jenkins/deploy</div></td><td><div class=\"dni-plaintext\">False</div></td><td><div class=\"dni-plaintext\">Lb2-specialPrj</div></td><td><div class=\"dni-plaintext\">dotnet</div></td><td><div class=\"dni-plaintext\">False</div></td><td><div class=\"dni-plaintext\">[ /mnt/lb17-scratch-fk69umer/jenkins/databases == /work/scratch/fk69umer/jenkins/databases ]</div></td></tr></tbody></table>"
      ]
     },
     "execution_count": 4,
     "metadata": {},
     "output_type": "execute_result"
    }
   ],
   "source": [
    "GetDefaultQueue()"
   ]
  },
  {
   "cell_type": "markdown",
   "metadata": {},
   "source": [
    "We verify that we have no jobs defined so far ..."
   ]
  },
  {
   "cell_type": "code",
   "execution_count": 5,
   "metadata": {
    "dotnet_interactive": {
     "language": "csharp"
    },
    "vscode": {
     "languageId": "csharp"
    }
   },
   "outputs": [
    {
     "data": {
      "text/plain": []
     },
     "execution_count": 5,
     "metadata": {},
     "output_type": "execute_result"
    }
   ],
   "source": [
    "BoSSSshell.WorkflowMgm.AllJobs"
   ]
  },
  {
   "cell_type": "code",
   "execution_count": 6,
   "metadata": {
    "dotnet_interactive": {
     "language": "csharp"
    },
    "vscode": {
     "languageId": "csharp"
    }
   },
   "outputs": [],
   "source": [
    "// the folloowing line is part of the trest system and not neccesary in User worksheets:\n",
    "NUnit.Framework.Assert.IsTrue(BoSSSshell.WorkflowMgm.AllJobs.Count == 0, \"MetaJobManager tutorial: expecting 0 jobs on entry.\");"
   ]
  },
  {
   "cell_type": "markdown",
   "metadata": {},
   "source": [
    "The initialization of the Workflow Management environment already creates, resp. opens\n",
    "a *BoSSS database* with the same name as the project name as the project. The current default database is set as:"
   ]
  },
  {
   "cell_type": "code",
   "execution_count": 7,
   "metadata": {
    "vscode": {
     "languageId": "csharp"
    }
   },
   "outputs": [
    {
     "data": {
      "text/plain": [
       "{ Session Count = 3; Grid Count = 6; Path = /mnt/lb17-scratch-fk69umer/jenkins/databases/MetaJobManager_Tutorial }"
      ]
     },
     "execution_count": 7,
     "metadata": {},
     "output_type": "execute_result"
    }
   ],
   "source": [
    "wmg.DefaultDatabase"
   ]
  },
  {
   "cell_type": "code",
   "execution_count": 8,
   "metadata": {
    "dotnet_interactive": {
     "language": "csharp"
    },
    "vscode": {
     "languageId": "csharp"
    }
   },
   "outputs": [],
   "source": [
    "// From previous versions of the code, not required anymore:\n",
    "//var myLocalDb = myBatch.CreateTempDatabase();"
   ]
  },
  {
   "cell_type": "markdown",
   "metadata": {},
   "source": [
    "### Notes on databases:\n",
    "* For expensive simulations, which run for days or longer, temporaray databases,\n",
    "  which are created with a different name every time the notebook is executed, \n",
    "  are typically **not** desired.\n",
    "  Hence, one wants the compute jobs to persist, i.e. if the worksheet is re-executed (maybe on another day), \n",
    "  but the computation \n",
    "  has been successful somewhen in the past, this result is recovered from the database.\n",
    "  In such a scenario, one cannot use a temporary database, but the default project database\n",
    "  should be used instead.\n",
    "* Under certain circumstances, one could also create additional databases:\n",
    "  Using the methods `BatchProcessorClient.CreateTempDatabase()`, \n",
    "  resp. `BatchProcessorClinet.CreateOrOpenCompatibleDatabase(...)`.\n",
    "  (as demonstrated below) ensures that the database is in a directory which can be accessed by the batch system.\n",
    "  (Alternative functions, i.e. `BoSSSshell.CreateTempDatabase()` or `BoSSSshell.OpenOrCreateDatabase(...)` \n",
    "  do not guarantee this and the user has to ensure an appropriate location.\n",
    "\n",
    "All currently opened databases can be listed using:"
   ]
  },
  {
   "cell_type": "code",
   "execution_count": 9,
   "metadata": {
    "dotnet_interactive": {
     "language": "csharp"
    },
    "vscode": {
     "languageId": "csharp"
    }
   },
   "outputs": [
    {
     "data": {
      "text/plain": [
       "#0: { Session Count = 3; Grid Count = 6; Path = /mnt/lb17-scratch-fk69umer/jenkins/databases/MetaJobManager_Tutorial }\n"
      ]
     },
     "execution_count": 9,
     "metadata": {},
     "output_type": "execute_result"
    }
   ],
   "source": [
    "databases"
   ]
  },
  {
   "cell_type": "markdown",
   "metadata": {},
   "source": [
    "## Loading a BoSSS-Solver and Setting up a Simulation\n",
    "\n",
    "As an example, we use the workflow management tools to simulate \n",
    "incompressible channel flow, therefore we have to import the namespace,\n",
    "and repeat the steps from the IBM example (Tutorial 2) in order to setup the\n",
    "control object:"
   ]
  },
  {
   "cell_type": "code",
   "execution_count": 10,
   "metadata": {
    "dotnet_interactive": {
     "language": "csharp"
    },
    "vscode": {
     "languageId": "csharp"
    }
   },
   "outputs": [],
   "source": [
    "using BoSSS.Application.XNSE_Solver;"
   ]
  },
  {
   "cell_type": "markdown",
   "metadata": {},
   "source": [
    "We create a grid with boundary conditions:"
   ]
  },
  {
   "cell_type": "code",
   "execution_count": 11,
   "metadata": {
    "dotnet_interactive": {
     "language": "csharp"
    },
    "vscode": {
     "languageId": "csharp"
    }
   },
   "outputs": [
    {
     "name": "stdout",
     "output_type": "stream",
     "text": [
      "Grid Edge Tags changed.\n"
     ]
    }
   ],
   "source": [
    "var xNodes       = GenericBlas.Linspace(0, 10 , 41); \n",
    "var yNodes       = GenericBlas.Linspace(-1, 1, 9); \n",
    "GridCommons grid = Grid2D.Cartesian2DGrid(xNodes, yNodes);\n",
    "grid.DefineEdgeTags(delegate (double[] X) { \n",
    "    double x = X[0];\n",
    "    double y = X[1]; \n",
    "    if (Math.Abs(y - (-1)) <= 1.0e-8) \n",
    "        return \"wall\"; // lower wall\n",
    "    if (Math.Abs(y - (+1)) <= 1.0e-8) \n",
    "        return \"wall\"; // upper wall\n",
    "    if (Math.Abs(x - (0.0)) <= 1.0e-8) \n",
    "        return \"Velocity_Inlet\"; // inlet\n",
    "    if (Math.Abs(x - (+10.0)) <= 1.0e-8) \n",
    "        return \"Pressure_Outlet\"; // outlet\n",
    "    throw new ArgumentOutOfRangeException(\"unknown domain\"); \n",
    "});"
   ]
  },
  {
   "cell_type": "markdown",
   "metadata": {},
   "source": [
    "One can save this grid explicitly to a database, but it is not a must;\n",
    "The grid should be saved automatically, when the job is activated."
   ]
  },
  {
   "cell_type": "code",
   "execution_count": 12,
   "metadata": {
    "dotnet_interactive": {
     "language": "csharp"
    },
    "vscode": {
     "languageId": "csharp"
    }
   },
   "outputs": [],
   "source": [
    "//wmg.DefaultDatabase.SaveGrid(ref grid);"
   ]
  },
  {
   "cell_type": "markdown",
   "metadata": {},
   "source": [
    "Next, we create the control object for the incompressible simulation:"
   ]
  },
  {
   "cell_type": "code",
   "execution_count": 13,
   "metadata": {
    "dotnet_interactive": {
     "language": "csharp"
    },
    "vscode": {
     "languageId": "csharp"
    }
   },
   "outputs": [
    {
     "name": "stdout",
     "output_type": "stream",
     "text": [
      "Warning: grid seems not to be saved in a database\n"
     ]
    }
   ],
   "source": [
    "var c = new XNSE_Control();\n",
    "// general description:\n",
    "int k                = 1;\n",
    "string desc          = \"Steady state, channel, k\" + k; \n",
    "c.SessionName        = \"SteadyStateChannel\"; \n",
    "c.ProjectDescription = desc;\n",
    "c.savetodb           = true;\n",
    "c.Tags.Add(\"k\" + k);\n",
    "// setting the grid:\n",
    "c.SetGrid(grid);\n",
    "// DG polynomial degree\n",
    "c.SetDGdegree(k);\n",
    "// Physical parameters:\n",
    "double reynolds            = 20; \n",
    "c.PhysicalParameters.rho_A = 1; \n",
    "c.PhysicalParameters.mu_A  = 1.0/reynolds;\n",
    "// Timestepping properties:\n",
    "c.TimesteppingMode = AppControl._TimesteppingMode.Steady;"
   ]
  },
  {
   "cell_type": "markdown",
   "metadata": {},
   "source": [
    "The specification of boundary conditions and initial values\n",
    "is a bit more complicated if the job manager is used:\n",
    "\n",
    "Since the solver is executed in an external program, the control object \n",
    "has to be saved in a file. For lots of complicated objects,\n",
    "especially for delegates, C\\# does not support serialization \n",
    "(converting the object into a form that can be saved on disk, or \n",
    "transmitted over a network), so a workaround is needed.\n",
    "This is achieved e.g. by the **Formula** object, where a C\\#-formula\n",
    "is saved as a string."
   ]
  },
  {
   "cell_type": "code",
   "execution_count": 14,
   "metadata": {
    "dotnet_interactive": {
     "language": "csharp"
    },
    "vscode": {
     "languageId": "csharp"
    }
   },
   "outputs": [],
   "source": [
    "var WallVelocity = new Formula(\"X => 0.0\", false); // 2nd Argument=false says that its a time-indep. formula."
   ]
  },
  {
   "cell_type": "markdown",
   "metadata": {},
   "source": [
    "Testing the formula:"
   ]
  },
  {
   "cell_type": "code",
   "execution_count": 15,
   "metadata": {
    "dotnet_interactive": {
     "language": "csharp"
    },
    "vscode": {
     "languageId": "csharp"
    }
   },
   "outputs": [
    {
     "data": {
      "text/html": [
       "<div class=\"dni-plaintext\">0</div>"
      ]
     },
     "execution_count": 15,
     "metadata": {},
     "output_type": "execute_result"
    }
   ],
   "source": [
    "WallVelocity.Evaluate(new[]{0.0, 0.0}, 0.0) // evaluationg at (0,0), at time 0"
   ]
  },
  {
   "cell_type": "code",
   "execution_count": 16,
   "metadata": {
    "dotnet_interactive": {
     "language": "csharp"
    },
    "vscode": {
     "languageId": "csharp"
    }
   },
   "outputs": [],
   "source": [
    "// [Deprecated]\n",
    "/// A disadvantage of string-formulas is that they look a bit ``alien''\n",
    "/// within the worksheet; therefore, there is also a little hack which allows \n",
    "/// the conversion of a static memeber function of a static class into a \n",
    "/// \\code{Formula} object:"
   ]
  },
  {
   "cell_type": "code",
   "execution_count": 17,
   "metadata": {
    "dotnet_interactive": {
     "language": "csharp"
    },
    "vscode": {
     "languageId": "csharp"
    }
   },
   "outputs": [],
   "source": [
    "// Deprecated, this option is no longer supported in .NET5\n",
    "static class StaticFormulas {\n",
    "    public static double VelX_Inlet(double[] X) {\n",
    "        //double x  = X[0];\n",
    "        double y  = X[0];\n",
    "        double UX = 1.0 - y*y;\n",
    "        return UX;\n",
    "    }  \n",
    " \n",
    "    public static double VelY_Inlet(double[] X) {\n",
    "        return 0.0;\n",
    "    }      \n",
    "}"
   ]
  },
  {
   "cell_type": "code",
   "execution_count": 18,
   "metadata": {
    "dotnet_interactive": {
     "language": "csharp"
    },
    "vscode": {
     "languageId": "csharp"
    }
   },
   "outputs": [],
   "source": [
    "// InletVelocityX = GetFormulaObject(StaticFormulas.VelX_Inlet);\n",
    "//var InletVelocityY = GetFormulaObject(StaticFormulas.VelY_Inlet);"
   ]
  },
  {
   "cell_type": "code",
   "execution_count": 19,
   "metadata": {
    "dotnet_interactive": {
     "language": "csharp"
    },
    "vscode": {
     "languageId": "csharp"
    }
   },
   "outputs": [],
   "source": [
    "var InletVelocityX = new Formula(\"X => 1 - X[0]*X[0]\", false);\n",
    "var InletVelocityY = new Formula(\"X => 0.0\", false);"
   ]
  },
  {
   "cell_type": "markdown",
   "metadata": {},
   "source": [
    "Finally, we set boundary values for our simulation. The initial values\n",
    "are set to zero per default; for the steady-state simulation initial\n",
    "values are irrelevant anyway:\n",
    "\n",
    "Initial Values are set to 0"
   ]
  },
  {
   "cell_type": "code",
   "execution_count": 20,
   "metadata": {
    "dotnet_interactive": {
     "language": "csharp"
    },
    "vscode": {
     "languageId": "csharp"
    }
   },
   "outputs": [],
   "source": [
    "c.BoundaryValues.Clear(); \n",
    "c.AddBoundaryValue(\"wall\", \"VelocityX\", WallVelocity); \n",
    "c.AddBoundaryValue(\"Velocity_Inlet\", \"VelocityX\", InletVelocityX);  \n",
    "c.AddBoundaryValue(\"Velocity_Inlet\", \"VelocityY\", InletVelocityY); \n",
    "c.AddBoundaryValue(\"Pressure_Outlet\");"
   ]
  },
  {
   "cell_type": "markdown",
   "metadata": {},
   "source": [
    "## Activation and Monitoring of the the Job\n",
    "\n",
    "Finally, we are ready to deploy the job at the batch processor;\n",
    "In a usual work flow scenario, we **do not** want to (re-) submit the \n",
    "job every time we run the worksheet -- usually, one wants to run a job once.\n",
    "\n",
    "The concept to overcome this problem is job activation. If a job is \n",
    "activated, the meta job manager first checks the databases and the batch \n",
    "system, if a job with the respective name and project name is already \n",
    "submitted. Only if there is no information that the job was ever submitted\n",
    "or started anywhere, the job is submitted to the respective batch system.\n",
    "\n",
    "First, a `Job* -object is created from the control object:"
   ]
  },
  {
   "cell_type": "code",
   "execution_count": 21,
   "metadata": {
    "dotnet_interactive": {
     "language": "csharp"
    },
    "vscode": {
     "languageId": "csharp"
    }
   },
   "outputs": [],
   "source": [
    "var JobLocal = c.CreateJob();"
   ]
  },
  {
   "cell_type": "markdown",
   "metadata": {},
   "source": [
    "This job is not activated yet, it can still be configured:"
   ]
  },
  {
   "cell_type": "code",
   "execution_count": 22,
   "metadata": {
    "dotnet_interactive": {
     "language": "csharp"
    },
    "vscode": {
     "languageId": "csharp"
    }
   },
   "outputs": [
    {
     "data": {
      "text/html": [
       "<span>PreActivation</span>"
      ]
     },
     "execution_count": 22,
     "metadata": {},
     "output_type": "execute_result"
    }
   ],
   "source": [
    "JobLocal.Status"
   ]
  },
  {
   "cell_type": "code",
   "execution_count": 23,
   "metadata": {
    "dotnet_interactive": {
     "language": "csharp"
    },
    "vscode": {
     "languageId": "csharp"
    }
   },
   "outputs": [],
   "source": [
    "// Test:\n",
    "NUnit.Framework.Assert.IsTrue(JobLocal.Status == JobStatus.PreActivation);"
   ]
  },
  {
   "cell_type": "markdown",
   "metadata": {},
   "source": [
    "### Starting the compute Job"
   ]
  },
  {
   "cell_type": "markdown",
   "metadata": {},
   "source": [
    "One can change e.g. the number of MPI processes:"
   ]
  },
  {
   "cell_type": "code",
   "execution_count": 24,
   "metadata": {
    "dotnet_interactive": {
     "language": "csharp"
    },
    "vscode": {
     "languageId": "csharp"
    }
   },
   "outputs": [],
   "source": [
    "JobLocal.NumberOfMPIProcs = 1;"
   ]
  },
  {
   "cell_type": "markdown",
   "metadata": {},
   "source": [
    "Note that these jobs are desigend to be **persistent**:\n",
    "This means the computation is only started \n",
    "**once for a given control object**, no matter how often the worksheet\n",
    "is executed. \n",
    "\n",
    "Such a behaviour is useful for expensive simulations, which run on HPC\n",
    "servers over days or even weeks. The user (you) can close the worksheet\n",
    "and maybe open and execute it a few days later, and he can access\n",
    "the original job which he submitted a few days ago (maybe it is finished\n",
    "now).\n",
    "\n",
    "Then, the job is activated, resp. submitted, resp. deployed \n",
    "to one batch system.\n",
    "If job persistency is not wanted, traces of the job can be removed \n",
    "on request during activation, causing a fresh job deployment at the\n",
    "batch system:"
   ]
  },
  {
   "cell_type": "code",
   "execution_count": 25,
   "metadata": {
    "dotnet_interactive": {
     "language": "csharp"
    },
    "vscode": {
     "languageId": "csharp"
    }
   },
   "outputs": [
    {
     "name": "stdout",
     "output_type": "stream",
     "text": [
      "Deploying job SteadyStateChannel ... \n",
      "Set Database: { Session Count = 3; Grid Count = 6; Path = /mnt/lb17-scratch-fk69umer/jenkins/databases/MetaJobManager_Tutorial }\n",
      "Grid is not in database yet...\n",
      "Grid successfully saved: 0a9dc37d-32b6-4fca-8bdd-515da8ca42b7\n"
     ]
    },
    {
     "name": "stderr",
     "output_type": "stream",
     "text": [
      "Warning: no database is set for the job to submit; nothing may be saved.\n"
     ]
    },
    {
     "name": "stdout",
     "output_type": "stream",
     "text": [
      "Deploying executables and additional files ...\n",
      "Deployment directory: /mnt/lb17-scratch-fk69umer/jenkins/deploy/MetaJobManager_Tutorial-XNSE_Solver2023Aug01_103853.489736\n",
      "copied 42 files.\n",
      "   written file: control.obj\n",
      "deployment finished.\n",
      "Instance #1 of ssh client fk69umer@lcluster19.hrz.tu-darmstadt.de instantiated.\n",
      "\n"
     ]
    }
   ],
   "source": [
    "JobLocal.Activate();  // execute the job in the default execution queue\n",
    "//JobLocal.Activate(ExecutionQueues[4]);  // execute the job e.g. in queue 4"
   ]
  },
  {
   "cell_type": "markdown",
   "metadata": {},
   "source": [
    "All jobs can be listed using the workflow management:"
   ]
  },
  {
   "cell_type": "code",
   "execution_count": 26,
   "metadata": {
    "dotnet_interactive": {
     "language": "csharp"
    },
    "vscode": {
     "languageId": "csharp"
    }
   },
   "outputs": [
    {
     "data": {
      "text/plain": [
       "#0: SteadyStateChannel: PendingInExecutionQueue (SlurmClient Lb2-specialPrj : fk69umer@lcluster19.hrz.tu-darmstadt.de, Slurm account: special00006)\tSteadyStateChannel: PendingInExecutionQueue (SlurmClient Lb2-specialPrj : fk69umer@lcluster19.hrz.tu-darmstadt.de, Slurm account: special00006)\n"
      ]
     },
     "execution_count": 26,
     "metadata": {},
     "output_type": "execute_result"
    }
   ],
   "source": [
    "BoSSSshell.WorkflowMgm.AllJobs"
   ]
  },
  {
   "cell_type": "markdown",
   "metadata": {},
   "source": [
    "Check the present job status:"
   ]
  },
  {
   "cell_type": "code",
   "execution_count": null,
   "metadata": {
    "dotnet_interactive": {
     "language": "csharp"
    },
    "vscode": {
     "languageId": "csharp"
    }
   },
   "outputs": [],
   "source": [
    "JobLocal.Status"
   ]
  },
  {
   "cell_type": "code",
   "execution_count": null,
   "metadata": {
    "dotnet_interactive": {
     "language": "csharp"
    },
    "vscode": {
     "languageId": "csharp"
    }
   },
   "outputs": [],
   "source": [
    "/// BoSSScmdSilent BoSSSexeSilent\n",
    "NUnit.Framework.Assert.IsTrue(\n",
    "   JobLocal.Status == JobStatus.PendingInExecutionQueue\n",
    "   || JobLocal.Status == JobStatus.InProgress\n",
    "   || JobLocal.Status == JobStatus.FinishedSuccessful);"
   ]
  },
  {
   "cell_type": "markdown",
   "metadata": {},
   "source": [
    "### Evaluation of Job"
   ]
  },
  {
   "cell_type": "markdown",
   "metadata": {},
   "source": [
    "Here, we block until both of our jobs have finished:"
   ]
  },
  {
   "cell_type": "code",
   "execution_count": null,
   "metadata": {
    "dotnet_interactive": {
     "language": "csharp"
    },
    "vscode": {
     "languageId": "csharp"
    }
   },
   "outputs": [],
   "source": [
    "BoSSSshell.WorkflowMgm.BlockUntilAllJobsTerminate(1000);"
   ]
  },
  {
   "cell_type": "markdown",
   "metadata": {},
   "source": [
    "We examine the output and error stream of the job:\n",
    "This directly accesses the *\\tt stdout*-redirection of the respective job\n",
    "manager, which may contain a bit more information than the \n",
    "`Stdout`-copy in the session directory."
   ]
  },
  {
   "cell_type": "code",
   "execution_count": null,
   "metadata": {
    "dotnet_interactive": {
     "language": "csharp"
    },
    "vscode": {
     "languageId": "csharp"
    }
   },
   "outputs": [],
   "source": [
    "JobLocal.Stdout"
   ]
  },
  {
   "cell_type": "markdown",
   "metadata": {},
   "source": [
    "Additionally we display the error stream and hope that it is empty:"
   ]
  },
  {
   "cell_type": "code",
   "execution_count": null,
   "metadata": {
    "dotnet_interactive": {
     "language": "csharp"
    },
    "vscode": {
     "languageId": "csharp"
    }
   },
   "outputs": [],
   "source": [
    "JobLocal.Stderr"
   ]
  },
  {
   "cell_type": "markdown",
   "metadata": {},
   "source": [
    "We can also obtain the session \n",
    "which was stored during the execution of the job:"
   ]
  },
  {
   "cell_type": "code",
   "execution_count": null,
   "metadata": {
    "dotnet_interactive": {
     "language": "csharp"
    },
    "vscode": {
     "languageId": "csharp"
    }
   },
   "outputs": [],
   "source": [
    "var Sloc = JobLocal.LatestSession;\n",
    "Sloc"
   ]
  },
  {
   "cell_type": "markdown",
   "metadata": {},
   "source": [
    " We can also list all attempts to run the job at the assigend processor:"
   ]
  },
  {
   "cell_type": "code",
   "execution_count": null,
   "metadata": {
    "dotnet_interactive": {
     "language": "csharp"
    },
    "vscode": {
     "languageId": "csharp"
    }
   },
   "outputs": [],
   "source": [
    "JobLocal.AllDeployments"
   ]
  },
  {
   "cell_type": "code",
   "execution_count": null,
   "metadata": {
    "dotnet_interactive": {
     "language": "csharp"
    },
    "vscode": {
     "languageId": "csharp"
    }
   },
   "outputs": [],
   "source": [
    "NUnit.Framework.Assert.IsTrue(JobLocal.AllDeployments.Count == 1, \"MetaJobManager tutorial: Found more than one deployment.\");"
   ]
  },
  {
   "cell_type": "markdown",
   "metadata": {},
   "source": [
    "Finally, we check the status of our jobs:"
   ]
  },
  {
   "cell_type": "code",
   "execution_count": null,
   "metadata": {
    "dotnet_interactive": {
     "language": "csharp"
    },
    "vscode": {
     "languageId": "csharp"
    }
   },
   "outputs": [],
   "source": [
    "JobLocal.Status"
   ]
  },
  {
   "cell_type": "markdown",
   "metadata": {},
   "source": [
    " If anything failed, hints on the reason why are provides by the `GetStatus` method:"
   ]
  },
  {
   "cell_type": "code",
   "execution_count": null,
   "metadata": {
    "dotnet_interactive": {
     "language": "csharp"
    },
    "vscode": {
     "languageId": "csharp"
    }
   },
   "outputs": [],
   "source": [
    "JobLocal.GetStatus(WriteHints:true)"
   ]
  },
  {
   "cell_type": "code",
   "execution_count": null,
   "metadata": {
    "dotnet_interactive": {
     "language": "csharp"
    },
    "vscode": {
     "languageId": "csharp"
    }
   },
   "outputs": [],
   "source": [
    "NUnit.Framework.Assert.IsTrue(JobLocal.Status == JobStatus.FinishedSuccessful, \"MetaJobManager tutorial: Job was not successful.\");"
   ]
  },
  {
   "cell_type": "markdown",
   "metadata": {},
   "source": [
    "## Exporting Plots"
   ]
  },
  {
   "cell_type": "markdown",
   "metadata": {},
   "source": [
    "Each run of the solver corresponds to one **session** in the database. A session is basically a collection of information on the entire solver run, i.e. the simulation result, input and solver settings as well as meta-data such as computer and daten and time.\n",
    "\n",
    "Since in this tutorial only one solver run was executed, there is only one session in the Workflow Management (`wmg` is just an alias for `BoSSSshell.WorkflowMgm.`):"
   ]
  },
  {
   "cell_type": "code",
   "execution_count": null,
   "metadata": {
    "vscode": {
     "languageId": "csharp"
    }
   },
   "outputs": [],
   "source": [
    "wmg.Sessions"
   ]
  },
  {
   "cell_type": "markdown",
   "metadata": {},
   "source": [
    "We select the first (and only) session and create an **export instruction** object.\n",
    "The **supersampling** setting increases the output resolution. \n",
    "This is required to vizualize high-order DG ploynomials with the low-order Tecplot-format.\n",
    "Tecplot can only vizualize a linear interpolation within a cell. With a second-degree supersampling,\n",
    "each cell is subdivided twice (in 2D, one subdivision is 4 cells, i.e. 2 subdivisions are $4^2 = 16$ cells).\n",
    "In this way, the curve of e.g. a secondd order polynomial can be represented with the linear interpolation over 16 cells."
   ]
  },
  {
   "cell_type": "code",
   "execution_count": null,
   "metadata": {
    "vscode": {
     "languageId": "csharp"
    }
   },
   "outputs": [],
   "source": [
    "var outPath = wmg.Sessions[0].Export().WithSupersampling(2).Do();"
   ]
  },
  {
   "cell_type": "markdown",
   "metadata": {},
   "source": [
    "On the respective directory (see output above) one should finaaly find plot-files which than can be used\n",
    "for further post processing in third-party software such as Paraview, LLNL Visit or Tecplot.\n",
    "\n",
    "The `Do()` command returns the location of the output files:"
   ]
  },
  {
   "cell_type": "code",
   "execution_count": null,
   "metadata": {
    "vscode": {
     "languageId": "csharp"
    }
   },
   "outputs": [],
   "source": [
    "outPath"
   ]
  },
  {
   "cell_type": "markdown",
   "metadata": {},
   "source": [
    "To finalize this tutorial, we list all files in the plot output directory:"
   ]
  },
  {
   "cell_type": "code",
   "execution_count": null,
   "metadata": {
    "vscode": {
     "languageId": "csharp"
    }
   },
   "outputs": [],
   "source": [
    "System.Threading.Thread.Sleep(10000); // just wait for the external plot application to finish\n",
    "System.IO.Directory.GetFiles(outPath, \"*\").Select(fullPath => System.IO.Path.GetFileName(fullPath))"
   ]
  },
  {
   "cell_type": "code",
   "execution_count": null,
   "metadata": {
    "vscode": {
     "languageId": "csharp"
    }
   },
   "outputs": [],
   "source": []
  }
 ],
 "metadata": {
  "kernelspec": {
   "display_name": ".NET (C#)",
   "language": "C#",
   "name": ".net-csharp"
  },
  "language_info": {
   "file_extension": ".cs",
   "mimetype": "text/x-csharp",
   "name": "C#",
   "pygments_lexer": "csharp",
   "version": "10.0"
  }
 },
 "nbformat": 4,
 "nbformat_minor": 4
}

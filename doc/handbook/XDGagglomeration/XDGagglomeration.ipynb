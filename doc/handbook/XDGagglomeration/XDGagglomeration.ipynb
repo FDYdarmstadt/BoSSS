{
 "cells": [
  {
   "cell_type": "markdown",
   "metadata": {},
   "source": [
    "# (Maybe) Understanding the agglomeration procedure for eXtended Discontinuous Galerkin "
   ]
  },
  {
   "cell_type": "markdown",
   "metadata": {},
   "source": [
    "## Prerequisites\n",
    "\n",
    "### Loading the BoSSS-library\n",
    "\n",
    "Note: \n",
    "1. This tutorial can be found in the source code repository as as `XDGagglomeration.ipynb`. \n",
    "   One can directly load this into Jupyter to interactively work with the following code examples.\n",
    "2. **In the following line, the reference to `BoSSSpad.dll` is required**. \n",
    "   You must either set `#r \"BoSSSpad.dll\"` to something which is appropirate for your computer\n",
    "   (e.g. `C:\\Program Files (x86)\\FDY\\BoSSS\\bin\\Release\\net5.0\\BoSSSpad.dll` if you installed the binary distribution),\n",
    "   or, if you are working with the source code, you must compile `BoSSSpad` and put it side-by-side to this worksheet file\n",
    "   (from the original location in the repository, you can use the scripts `getbossspad.sh`, resp. `getbossspad.bat`)."
   ]
  },
  {
   "cell_type": "code",
   "execution_count": null,
   "metadata": {
    "dotnet_interactive": {
     "language": "csharp"
    },
    "vscode": {
     "languageId": "dotnet-interactive.csharp"
    }
   },
   "outputs": [],
   "source": [
    "//#r \"C:\\experimental\\public\\src\\L4-application\\BoSSSpad\\bin\\Debug\\net5.0\\BoSSSpad.dll\"\n",
    "#r \"BoSSSpad.dll\"\n",
    "using static BoSSS.Application.BoSSSpad.BoSSSshell;\n",
    "Init();"
   ]
  },
  {
   "cell_type": "code",
   "execution_count": null,
   "metadata": {
    "dotnet_interactive": {
     "language": "csharp"
    },
    "vscode": {
     "languageId": "dotnet-interactive.csharp"
    }
   },
   "outputs": [],
   "source": [
    "using System;\n",
    "using System.Collections.Generic;\n",
    "using System.Linq;\n",
    "using System.IO;\n",
    "\n",
    "using NUnit.Framework;\n",
    "\n",
    "using ilPSP;\n",
    "using ilPSP.Utils;\n",
    "using ilPSP.LinSolvers;\n",
    "using BoSSS.Platform;\n",
    "using BoSSS.Foundation;\n",
    "using BoSSS.Foundation.Grid;\n",
    "using BoSSS.Foundation.Grid.Classic;\n",
    "using BoSSS.Foundation.XDG;\n",
    "using BoSSS.Foundation.IO;\n",
    "\n",
    "using BoSSS.Solution;\n",
    "using BoSSS.Solution.AdvancedSolvers;\n",
    "using BoSSS.Solution.Control;\n",
    "using BoSSS.Solution.GridImport;\n",
    "using BoSSS.Solution.Statistic;\n",
    "using BoSSS.Solution.Utils;\n",
    "using BoSSS.Solution.Gnuplot;\n",
    "using BoSSS.Application.BoSSSpad;\n",
    "using BoSSS.Application.XNSE_Solver;"
   ]
  },
  {
   "cell_type": "markdown",
   "metadata": {},
   "source": [
    "### Implementation of a Scalar Flux\n",
    "\n",
    "In this worksheet, Scalar Advection will be used as an example; Therefore it is required to implement the respective equation components (aka. flux)\n",
    "for the bulk and the interface.\n",
    "\n",
    "Below, an upwind formulation for the equation\n",
    "$$\n",
    "   \\text{div}(\\vec{V} c) = 0 \\text{ in } \\Omega = (0,2) \\times (0,1)\n",
    "$$\n",
    "with the boundary condition\n",
    "$$\n",
    "   c = c_{\\text{in}} \\text{ for } \\vec{V} \\cdot \\vec{n}_{\\partial \\Omega} < 0\n",
    "$$\n",
    "for the inflow part of the boundary\n",
    "is implemented:"
   ]
  },
  {
   "cell_type": "code",
   "execution_count": null,
   "metadata": {
    "dotnet_interactive": {
     "language": "csharp"
    },
    "vscode": {
     "languageId": "dotnet-interactive.csharp"
    }
   },
   "outputs": [],
   "source": [
    "static class CommonStuff {\n",
    "    public static double a = 1;\n",
    "\n",
    "    public static double FlowFunc(double x) {\n",
    "        return a;\n",
    "    }\n",
    "\n",
    "    public static Vector FlowField(double[] X) {\n",
    "        var flowfield = new Vector(2);\n",
    "        flowfield.x = FlowFunc(X[1]);\n",
    "        flowfield.y = 1;\n",
    "        return flowfield;\n",
    "    }\n",
    "}"
   ]
  },
  {
   "cell_type": "code",
   "execution_count": null,
   "metadata": {
    "dotnet_interactive": {
     "language": "csharp"
    },
    "vscode": {
     "languageId": "dotnet-interactive.csharp"
    }
   },
   "outputs": [],
   "source": [
    "class ScalarTransportFlux : ISpeciesFilter, IEdgeForm, IVolumeForm {\n",
    "    public double cin;\n",
    "\n",
    "    public ScalarTransportFlux(string spc, double _cin) {\n",
    "        this.cin = _cin;\n",
    "        this.spc = spc;\n",
    "    }\n",
    "   \n",
    "\n",
    "    protected double BorderEdgeFlux(double time, double[] x, double[] normal, byte EdgeTag, double[] Uin, int jEdge) {\n",
    "        Vector n = normal;\n",
    "        var flowfield = CommonStuff.FlowField(x);\n",
    "        double[] Uout = new double[1];\n",
    "        if(flowfield * n < 0){ // inflow\n",
    "            Uout[0] = cin;\n",
    "        } else {\n",
    "            Uout = Uin;\n",
    "        }\n",
    "        return InnerEdgeFlux(time, x, normal, Uin, Uout, jEdge);\n",
    "    }\n",
    "\n",
    "    protected double InnerEdgeFlux(double time, double[] x, double[] normal, double[] Uin, double[] Uout, int jEdge) {\n",
    "        Vector n = normal;\n",
    "        var flowfield = CommonStuff.FlowField(x);\n",
    "        if(flowfield * n > 0)\n",
    "            return (flowfield * Uin[0]) * n;\n",
    "\n",
    "        else\n",
    "            return (flowfield * Uout[0]) * n;\n",
    "    }\n",
    "\n",
    "    protected void Flux(double time, double[] x, double[] U, double[] output) {\n",
    "        var flowfield = CommonStuff.FlowField(x);\n",
    "        Vector o;\n",
    "        o = flowfield * U[0];\n",
    "        output[0] = o.x;\n",
    "        output[1] = o.y;\n",
    "    }\n",
    "\n",
    "    public double InnerEdgeForm(ref CommonParams inp, double[] _uIN, double[] _uOUT, double[,] _Grad_uIN, double[,] _Grad_uOUT, double _vIN, double _vOUT, double[] _Grad_vIN, double[] _Grad_vOUT) {\n",
    "        return InnerEdgeFlux(inp.time, inp.X, inp.Normal, _uIN, _uOUT,inp.iEdge) * (_vIN-_vOUT);\n",
    "    }\n",
    "\n",
    "    public double BoundaryEdgeForm(ref CommonParamsBnd inp, double[] _uA, double[,] _Grad_uA, double _vA, double[] _Grad_vA) {\n",
    "        return BorderEdgeFlux(inp.time, inp.X, inp.Normal, inp.EdgeTag, _uA, inp.iEdge)*_vA;\n",
    "    }\n",
    "\n",
    "    public double VolumeForm(ref CommonParamsVol cpv, double[] U, double[,] GradU, double V, double[] GradV) {\n",
    "        double[] output= new double[2];\n",
    "        Flux(cpv.time, cpv.Xglobal, U, output);\n",
    "        return -1*(output * (Vector) GradV);\n",
    "    }\n",
    "\n",
    "    public IList<string> ArgumentOrdering  =>  new string[] { \"c\" };\n",
    "    \n",
    "    string spc=\"\"; \n",
    "    \n",
    "    public string ValidSpecies => spc;\n",
    "\n",
    "    public TermActivationFlags BoundaryEdgeTerms => TermActivationFlags.UxV | TermActivationFlags.V;\n",
    "\n",
    "    public TermActivationFlags InnerEdgeTerms => TermActivationFlags.UxV;\n",
    "\n",
    "    public TermActivationFlags VolTerms => TermActivationFlags.UxGradV;\n",
    "\n",
    "    public IList<string> ParameterOrdering => null;\n",
    "}\n"
   ]
  },
  {
   "cell_type": "code",
   "execution_count": null,
   "metadata": {
    "dotnet_interactive": {
     "language": "csharp"
    },
    "vscode": {
     "languageId": "dotnet-interactive.csharp"
    }
   },
   "outputs": [],
   "source": [
    "public class UpwindFlux_XDG_Interface : ILevelSetForm, ILevelSetEquationComponentCoefficient {\n",
    "\n",
    "    \n",
    "\n",
    "    public int LevelSetIndex => 0;\n",
    "\n",
    "    public string PositiveSpecies => \"A\";\n",
    "\n",
    "    public string NegativeSpecies => \"B\";\n",
    "\n",
    "    public TermActivationFlags LevelSetTerms {\n",
    "        get {\n",
    "            return TermActivationFlags.UxV;\n",
    "        }\n",
    "    }\n",
    "\n",
    "    public IList<string> ArgumentOrdering {\n",
    "        get {\n",
    "            return new string[] { \"c\" };\n",
    "        }\n",
    "    }\n",
    "\n",
    "\n",
    "\n",
    "\n",
    "    public double InnerEdgeForm(ref CommonParams inp, double[] uA, double[] uB, double[,] Grad_uA, double[,] Grad_uB, double vA, double vB, double[] Grad_vA, double[] Grad_vB) {\n",
    "        // Flux across the interface\n",
    "        // Took Regular Flux\n",
    "        Vector n = new Vector(2); n.x = inp.Normal.x; n.y = inp.Normal.y;\n",
    "        var vel = CommonStuff.FlowField(inp.X);\n",
    "\n",
    "        if(vel * n > 0)\n",
    "            return (vel * uA[0]) * n * (vA - vB);\n",
    "        else\n",
    "            return (vel * uB[0]) * n * (vA - vB);\n",
    "\n",
    "        //throw new NotSupportedException(\"Has to be checked again.\");\n",
    "    }\n",
    "\n",
    "\n",
    "\n",
    "    public void CoefficientUpdate(CoefficientSet csA, CoefficientSet csB, int[] DomainDGdeg, int TestDGdeg) {\n",
    "        return;\n",
    "    }\n",
    "\n",
    "    public IList<string> ParameterOrdering => null;\n",
    "\n",
    "\n",
    "}\n"
   ]
  },
  {
   "cell_type": "markdown",
   "metadata": {
    "dotnet_interactive": {
     "language": "csharp"
    }
   },
   "source": [
    "## Initialize Grid and Fields\n",
    "\n",
    "We discretize the domain $\\Omega$ with two cells\n",
    "$$\n",
    "  K_1 =(0,1) \\times (0,1),~K_2 =(1,2) \\times (0,1)\n",
    "$$\n",
    "and initialize a field of degree 1 for the LevelSet and a `XDGField` of degree 0."
   ]
  },
  {
   "cell_type": "code",
   "execution_count": null,
   "metadata": {
    "dotnet_interactive": {
     "language": "csharp"
    },
    "vscode": {
     "languageId": "dotnet-interactive.csharp"
    }
   },
   "outputs": [],
   "source": [
    "double[] xNodes = GenericBlas.Linspace(0, 2, 3);\n",
    "double[] yNodes = GenericBlas.Linspace(0, 1, 2);\n",
    "var grid = Grid2D.Cartesian2DGrid(xNodes, yNodes);\n",
    "int dgDegree = 0;  \n",
    "int LsDegree = 1; \n",
    "\n",
    "var LevelSet = new LevelSet(new Basis(grid, LsDegree), \"LevelSet\");\n",
    "var LsTrk = new LevelSetTracker(grid.GridData, XQuadFactoryHelper.MomentFittingVariants.Saye, 1, new string[] { \"A\", \"B\" }, LevelSet);\n",
    "XDGBasis basis = new XDGBasis(LsTrk, dgDegree);  \n",
    "XDGField c = new XDGField(basis, \"c\");  \n",
    "var mapping = c.Mapping;"
   ]
  },
  {
   "cell_type": "markdown",
   "metadata": {},
   "source": [
    "The LevelSet is set as such that the 0-isocontour of the LevelSet leads to a very small cutCell.\n",
    "\n",
    "$$ \\varphi (x,t)= -x+0.9+1.1t \\quad $$ \n",
    "\n",
    "We set the XDGField to\n",
    "\n",
    "$$c_0(c,t)=1\n",
    "$$\n"
   ]
  },
  {
   "cell_type": "code",
   "execution_count": null,
   "metadata": {
    "dotnet_interactive": {
     "language": "csharp"
    },
    "vscode": {
     "languageId": "dotnet-interactive.csharp"
    }
   },
   "outputs": [],
   "source": [
    "double x0 = 0.9;\n",
    "double a = 1.0;\n",
    "\n",
    "LevelSet.ProjectField((x, t) =>  -1.0*(x- x0-a*t)); \n",
    "LsTrk.UpdateTracker(0.0);\n",
    "\n",
    "c.GetSpeciesShadowField(\"A\").ProjectField((_2D)((x, t) => 1)); \n",
    "c.GetSpeciesShadowField(\"B\").ProjectField((_2D)((x, t) => 1)); "
   ]
  },
  {
   "cell_type": "markdown",
   "metadata": {},
   "source": [
    "Here we plot the field we just initalized. "
   ]
  },
  {
   "cell_type": "code",
   "execution_count": null,
   "metadata": {
    "dotnet_interactive": {
     "language": "csharp"
    },
    "vscode": {
     "languageId": "dotnet-interactive.csharp"
    }
   },
   "outputs": [],
   "source": [
    "bool plot = true;\n",
    "\n",
    "if (plot) {\n",
    "    var files = Directory.GetFiles(\".\", \"*.plt\");\n",
    "    Array.ForEach(files, file => File.Delete(file));\n",
    "    Tecplot(\"SDC_test_Agglo_\" + 0, 0.0, 4, LevelSet, c);\n",
    "}\n"
   ]
  },
  {
   "cell_type": "markdown",
   "metadata": {},
   "source": [
    "## Cell Agglomeration"
   ]
  },
  {
   "cell_type": "markdown",
   "metadata": {},
   "source": [
    "An XDG method typically produces very small cut cells; Indeed, depending on the position of the level set, cut cells may become arbitrarily small.\n",
    "This typically leads to unstable methods, for both, implicit and explicit solvers.\n",
    "\n",
    "Therefore, stabilization techniques are required; One stabilization technique is cell-agglomeration, where small cut cells are **agglomerated with their largest neighbor** (in the same species).\n",
    "Then, the XDG-problem is not solved in the original XDG-space (defined through the cut-cell mesh), \n",
    "but in the agglomerated XDG-space (defined through the agglomerated cut-cell-mesh).\n",
    "\n",
    "(An alternative stabilization technique, which is not supported in BoSSS are e.g. ghost penalties.)"
   ]
  },
  {
   "cell_type": "markdown",
   "metadata": {},
   "source": [
    "Here We initialize the CellAglomerator. After being initialized we can invesitgate the Volumes of the CutCells. A CutCell $K_{i,s}$ will be agglomerated (merged with another cell) if\n",
    "$$ \\frac{\\vert K_{i,s} \\vert}{\\vert K_{i} \\vert} < agglo_{trsh}$$\n",
    "In other words, if its volume divided by the Volume of the correspoding Background Cell is less than the agglomeration treshhold."
   ]
  },
  {
   "cell_type": "markdown",
   "metadata": {},
   "source": [
    "\n",
    "By calculating we we have:\n",
    "- $\\vert K_1 \\vert =\\vert K_2 \\vert=1$\n",
    "- $\\vert K_{1,A} \\vert=0.1 \\cdot 0.1 \\cdot 0.5 = 0.005$\n",
    "- $\\vert K_{1,B} \\vert=\\vert K_{1}\\vert -\\vert K_{1,A}\\vert =1-0.005=0.995 $\n",
    "- $\\vert K_{2,A} \\vert=\\vert K_{2}\\vert -\\vert K_{2,B} \\vert = 1-0.405=0.595$\n",
    "- $\\vert K_{2,B} \\vert=0.9 \\cdot 0.9 \\cdot 0.5=0.405$\n"
   ]
  },
  {
   "cell_type": "markdown",
   "metadata": {},
   "source": [
    "which we can also obtain from our agglomerator."
   ]
  },
  {
   "cell_type": "code",
   "execution_count": null,
   "metadata": {
    "dotnet_interactive": {
     "language": "csharp"
    },
    "vscode": {
     "languageId": "dotnet-interactive.csharp"
    }
   },
   "outputs": [],
   "source": [
    "var Agg = LsTrk.GetAgglomerator(LsTrk.SpeciesIdS.ToArray(), 6, __AgglomerationTreshold:0.1);\n",
    "var CutCellVolumes = Agg.CutCellVolumes;\n",
    "var CutCellVolumesA = CutCellVolumes[LsTrk.SpeciesIdS[0]].To1DArray();\n",
    "var CutCellVolumesB = CutCellVolumes[LsTrk.SpeciesIdS[1]].To1DArray();\n",
    "Console.WriteLine(\"Cell Volume K_1A: \" + CutCellVolumesA[0]);\n",
    "Console.WriteLine(\"Cell Volume K_1B: \" + CutCellVolumesB[0]);\n",
    "Console.WriteLine(\"Cell Volume K_2A: \" + CutCellVolumesA[1]);\n",
    "Console.WriteLine(\"Cell Volume K_2B: \" + CutCellVolumesB[1]);"
   ]
  },
  {
   "cell_type": "markdown",
   "metadata": {},
   "source": [
    "Note that the cell volumes (as well as other cell metrics) provided by the agglomerator are **valid for the agglomerated mesh**. These metrics will/should be used e.g. in the penalty parameters used for Symmetric Interior Penalty (SIP).\n",
    "\n",
    "It is, however, also possible to access the non-agglomerated metrics:"
   ]
  },
  {
   "cell_type": "code",
   "execution_count": null,
   "metadata": {
    "dotnet_interactive": {
     "language": "csharp"
    },
    "vscode": {
     "languageId": "dotnet-interactive.csharp"
    }
   },
   "outputs": [],
   "source": [
    "var NonAggCutCellVolumesA = Agg.NonAgglomeratedMetrics.CutCellVolumes[LsTrk.SpeciesIdS[0]].To1DArray();\n",
    "var NonAggCutCellVolumesB = Agg.NonAgglomeratedMetrics.CutCellVolumes[LsTrk.SpeciesIdS[1]].To1DArray();\n",
    "Console.WriteLine(\"Non-agglomerated Cut Cell Volume K_1A: \" + NonAggCutCellVolumesA[0]);\n",
    "Console.WriteLine(\"Non-agglomerated Cut Cell Volume K_1B: \" + NonAggCutCellVolumesB[0]);\n",
    "Console.WriteLine(\"Non-agglomerated Cut Cell Volume K_2A: \" + NonAggCutCellVolumesA[1]);\n",
    "Console.WriteLine(\"Non-agglomerated Cut Cell Volume K_2B: \" + NonAggCutCellVolumesB[1]);"
   ]
  },
  {
   "cell_type": "markdown",
   "metadata": {},
   "source": [
    "so we see that in our setting we would want to agglomerate Cut Cell $K_{2A}$ as the fraction is less then our treshhold (0.1)"
   ]
  },
  {
   "cell_type": "markdown",
   "metadata": {},
   "source": [
    ">## Sidenote: \n",
    ">the standard way of handing length scales to an equation component involves two steps:\n",
    ">1. Set the `XEvaluatorBase.CellLengthScales` to the appropriate length scale **before** evaluation of the operator,\n",
    ">   resp. matrix assembly\n",
    ">2. Implementing the `IEquationComponentCoefficient` interfcae for bulk components and \n",
    ">   the `ILevelSetEquationComponentCoefficient` interface for level-set components.\n",
    ">   The length scales specified (see below) are passed to the `CoefficientUpdate(...)` method."
   ]
  },
  {
   "cell_type": "markdown",
   "metadata": {},
   "source": [
    "## The Mass Matrix"
   ]
  },
  {
   "cell_type": "markdown",
   "metadata": {},
   "source": [
    "For XDG, the mass matrix is quite expensive to compute.\n",
    "Furthermore, it also depends on the chosen quadrature order: E.g. a mass matrix for degree 2, computed with 4-th order rules is typically slightly different from a the one computed with a 6-th order rule. In order to compute it we need an Object called `MassMatrixFactory`."
   ]
  },
  {
   "cell_type": "code",
   "execution_count": null,
   "metadata": {
    "dotnet_interactive": {
     "language": "csharp"
    },
    "vscode": {
     "languageId": "dotnet-interactive.csharp"
    }
   },
   "outputs": [],
   "source": [
    "var MMF = LsTrk.GetXDGSpaceMetrics(LsTrk.SpeciesIdS.ToArray(),6).MassMatrixFactory;"
   ]
  },
  {
   "cell_type": "markdown",
   "metadata": {},
   "source": [
    "Note, that in the simple setting presented here, the entries of the mass matrix are equal to the (non-agglomerated) cut-cell volumes.This is because:\n",
    "\n",
    "- The cells $K_j$ have a volume of 1.\n",
    "- Then, due to orthonormality, the 0-th DG-basis is identical to one.\n",
    "- The 0-th polynomial is a constant: $\\phi_{j,0} (\\vec{x}) = C$.\n",
    "- Orthonormality enforces $\\int_{K_j} \\phi_{j,0}^2 dV = 1$, therefore $C$ must be 1.\n",
    "- The XDG-basis is just the DG-basis restricted to the cut cell. Therefore, if $\\phi_{j,0}^2 = 1$ is integrated over the cut-cell volume, one obtains the volume of the cut cell itself."
   ]
  },
  {
   "cell_type": "code",
   "execution_count": null,
   "metadata": {
    "dotnet_interactive": {
     "language": "csharp"
    },
    "vscode": {
     "languageId": "dotnet-interactive.csharp"
    }
   },
   "outputs": [],
   "source": [
    "var MM = MMF.GetMassMatrix(mapping);\n",
    "Console.WriteLine(MM.ToStringDense())"
   ]
  },
  {
   "cell_type": "markdown",
   "metadata": {},
   "source": [
    "The mass-matrix factory can also be used to obtain the inverse of the mass-matrix; these are also cached, since computing the inverse blocks is, for higher DG-orders quite expensive."
   ]
  },
  {
   "cell_type": "code",
   "execution_count": null,
   "metadata": {
    "dotnet_interactive": {
     "language": "csharp"
    },
    "vscode": {
     "languageId": "dotnet-interactive.csharp"
    }
   },
   "outputs": [],
   "source": [
    "var invMM = MMF.GetMassMatrix(mapping, inverse: true);\n",
    "Console.WriteLine(invMM.ToStringDense())"
   ]
  },
  {
   "cell_type": "markdown",
   "metadata": {},
   "source": [
    "## Implicit solution of an equation in the agglomerated XDG space"
   ]
  },
  {
   "cell_type": "markdown",
   "metadata": {},
   "source": [
    "Definition of the operator:"
   ]
  },
  {
   "cell_type": "code",
   "execution_count": null,
   "metadata": {
    "dotnet_interactive": {
     "language": "csharp"
    },
    "vscode": {
     "languageId": "dotnet-interactive.csharp"
    }
   },
   "outputs": [],
   "source": [
    "double cin = 1;\n",
    "\n",
    "var Op = new XDifferentialOperatorMk2(new string[] {\"c\"}, new string[] { \"codom1\" }, (int[] a_1, int[]  b_1, int[]  c_1)  => 4 , new string[] { \"A\", \"B\" });\n",
    "//Bulk\n",
    "Op.EquationComponents[\"codom1\"].Add(new ScalarTransportFlux(\"A\", cin));\n",
    "Op.EquationComponents[\"codom1\"].Add(new ScalarTransportFlux(\"B\", cin));\n",
    "//Interface\n",
    "Op.EquationComponents[\"codom1\"].Add(new UpwindFlux_XDG_Interface());\n",
    "\n",
    "Op.AgglomerationThreshold = 0.1;\n",
    "Op.IsLinear = true;\n",
    "Op.Commit();"
   ]
  },
  {
   "cell_type": "markdown",
   "metadata": {},
   "source": [
    "### Evaluation of the Residual w.r.t. the original XDG-Basis\n",
    "Since the input field `c` is constant and complies with the boundary condition, the expected residual is zero.\n"
   ]
  },
  {
   "cell_type": "code",
   "execution_count": null,
   "metadata": {
    "dotnet_interactive": {
     "language": "csharp"
    },
    "vscode": {
     "languageId": "dotnet-interactive.csharp"
    }
   },
   "outputs": [],
   "source": [
    "c.CoordinateVector"
   ]
  },
  {
   "cell_type": "code",
   "execution_count": null,
   "metadata": {
    "dotnet_interactive": {
     "language": "csharp"
    },
    "vscode": {
     "languageId": "dotnet-interactive.csharp"
    }
   },
   "outputs": [],
   "source": [
    "var Residual = new double[mapping.LocalLength];\n",
    "var ev = Op.GetEvaluatorEx(mapping.Fields, null, mapping);\n",
    "ev.Evaluate(1.0, 0.0, Residual);\n",
    "Residual"
   ]
  },
  {
   "cell_type": "markdown",
   "metadata": {},
   "source": [
    "### Solution in the original XDG space"
   ]
  },
  {
   "cell_type": "markdown",
   "metadata": {},
   "source": [
    "Here we assemble the Operator Matrix and the RHS"
   ]
  },
  {
   "cell_type": "code",
   "execution_count": null,
   "metadata": {
    "dotnet_interactive": {
     "language": "csharp"
    },
    "vscode": {
     "languageId": "dotnet-interactive.csharp"
    }
   },
   "outputs": [],
   "source": [
    "var ev = Op.GetMatrixBuilder(mapping, null, mapping);\n",
    "var OpMatrix = new BlockMsrMatrix(mapping);\n",
    "var OpAffine = new double[mapping.LocalLength];\n",
    "ev.ComputeMatrix(OpMatrix, OpAffine);\n",
    "Console.WriteLine(OpMatrix.ToStringDense());\n",
    "//OpAffine.SaveToStream(Console.Out);"
   ]
  },
  {
   "cell_type": "markdown",
   "metadata": {},
   "source": [
    "Then we can solve the implicit system:\n",
    "\n",
    "$$Op(c)*c=-r(c)\\approx \\text{RHS}$$"
   ]
  },
  {
   "cell_type": "code",
   "execution_count": null,
   "metadata": {
    "dotnet_interactive": {
     "language": "csharp"
    },
    "vscode": {
     "languageId": "dotnet-interactive.csharp"
    }
   },
   "outputs": [],
   "source": [
    "var RHS = OpAffine.CloneAs();\n",
    "RHS.ScaleV(-1.0);\n",
    "var Sol = OpMatrix.Solve_Direct(RHS);\n",
    "Sol"
   ]
  },
  {
   "cell_type": "code",
   "execution_count": null,
   "metadata": {
    "dotnet_interactive": {
     "language": "csharp"
    },
    "vscode": {
     "languageId": "dotnet-interactive.csharp"
    }
   },
   "outputs": [],
   "source": [
    "Assert.Less(Sol.L2Dist(c.CoordinateVector), 1.0e-10, \"Exact solution is wrong.\");"
   ]
  },
  {
   "cell_type": "markdown",
   "metadata": {
    "vscode": {
     "languageId": "csharp"
    }
   },
   "source": [
    "### Solution in the agglomerated XDG space"
   ]
  },
  {
   "cell_type": "markdown",
   "metadata": {},
   "source": [
    "Next we will solve the same system but in the Aggregated space. Hence, we first need to Transform our Matrix and the RHS. This is done using the method `ManipulateMatrixAndRHS(...)`"
   ]
  },
  {
   "cell_type": "code",
   "execution_count": null,
   "metadata": {
    "dotnet_interactive": {
     "language": "csharp"
    },
    "vscode": {
     "languageId": "dotnet-interactive.csharp"
    }
   },
   "outputs": [],
   "source": [
    "var AggOpMatrix = OpMatrix.CloneAs();\n",
    "var AggOpAffine = OpAffine.CloneAs();\n",
    "Agg.ManipulateMatrixAndRHS(AggOpMatrix, AggOpAffine, mapping, mapping);\n",
    "Console.WriteLine(AggOpMatrix.ToStringDense());\n",
    "AggOpAffine.SaveToStream(Console.Out);"
   ]
  },
  {
   "cell_type": "markdown",
   "metadata": {},
   "source": [
    "As you can see BoSSS keeps the original size of the matrix. So as the cells being agglmerated vanish, we obtain zero-rows and zero-columns for these respective cells. In order to reobtain a uniquely solvable system we therefore need to artificially add a 1 on the diagonal, for the agglomerated cells."
   ]
  },
  {
   "cell_type": "code",
   "execution_count": null,
   "metadata": {
    "dotnet_interactive": {
     "language": "csharp"
    },
    "vscode": {
     "languageId": "dotnet-interactive.csharp"
    }
   },
   "outputs": [],
   "source": [
    "AggOpMatrix[0, 0] = 1.0;\n",
    "\n",
    "var AggRHS = AggOpAffine.CloneAs();\n",
    "AggRHS.ScaleV(-1.0);\n",
    "var AggSol = OpMatrix.Solve_Direct(AggRHS);\n",
    "AggSol\n"
   ]
  },
  {
   "cell_type": "markdown",
   "metadata": {},
   "source": [
    "Next, the solution in the agglomerated space can be extrapolated to the original space using the `Extrapolate(...)`-method . \n",
    "\n",
    "During the extrapolation, the agglomerated coordinate will be overwritten; we illustrate this by setting the respective entry to `NaN`:"
   ]
  },
  {
   "cell_type": "code",
   "execution_count": null,
   "metadata": {
    "dotnet_interactive": {
     "language": "csharp"
    },
    "vscode": {
     "languageId": "dotnet-interactive.csharp"
    }
   },
   "outputs": [],
   "source": [
    "AggSol[0] = double.NaN;"
   ]
  },
  {
   "cell_type": "code",
   "execution_count": null,
   "metadata": {
    "dotnet_interactive": {
     "language": "csharp"
    },
    "vscode": {
     "languageId": "dotnet-interactive.csharp"
    }
   },
   "outputs": [],
   "source": [
    "Agg.Extrapolate(AggSol, mapping);\n",
    "AggSol"
   ]
  },
  {
   "cell_type": "code",
   "execution_count": null,
   "metadata": {
    "dotnet_interactive": {
     "language": "csharp"
    },
    "vscode": {
     "languageId": "dotnet-interactive.csharp"
    }
   },
   "outputs": [],
   "source": [
    "NUnit.Framework.Assert.Less(AggSol.L2Dist(c.CoordinateVector), 1.0e-10, \"Exact solution is wrong.\");"
   ]
  },
  {
   "cell_type": "markdown",
   "metadata": {},
   "source": [
    "The mass matrix of the agglomerated space can also be obtained by passing the original mass matrix to the \n",
    "`ManipulateMatrixAndRHS(...)` method:"
   ]
  },
  {
   "cell_type": "code",
   "execution_count": null,
   "metadata": {
    "dotnet_interactive": {
     "language": "csharp"
    },
    "vscode": {
     "languageId": "dotnet-interactive.csharp"
    }
   },
   "outputs": [],
   "source": [
    "Agg.ManipulateMatrixAndRHS(MM, default(double[]), mapping, mapping);\n",
    "Console.WriteLine(MM.ToStringDense());"
   ]
  },
  {
   "cell_type": "markdown",
   "metadata": {},
   "source": [
    "### Notes on Extrapolation an Restriction"
   ]
  },
  {
   "cell_type": "markdown",
   "metadata": {},
   "source": [
    "One can verify the extrapolation by asserting that the **jump norm on agglomerated edges** for e.g. a random field is zero. \n"
   ]
  },
  {
   "cell_type": "code",
   "execution_count": null,
   "metadata": {
    "dotnet_interactive": {
     "language": "csharp"
    },
    "vscode": {
     "languageId": "dotnet-interactive.csharp"
    }
   },
   "outputs": [],
   "source": [
    "var aggRandom = new XDGField(basis);\n",
    "aggRandom.CoordinateVector.FillRandom(0);\n",
    "aggRandom.CoordinateVector[0] = double.NaN;\n",
    "aggRandom.CoordinateVector.ToArray()"
   ]
  },
  {
   "cell_type": "code",
   "execution_count": null,
   "metadata": {
    "dotnet_interactive": {
     "language": "csharp"
    },
    "vscode": {
     "languageId": "dotnet-interactive.csharp"
    }
   },
   "outputs": [],
   "source": [
    "Agg.Extrapolate(aggRandom.CoordinateVector,aggRandom.Mapping);"
   ]
  },
  {
   "cell_type": "markdown",
   "metadata": {},
   "source": [
    "Next, we obtain the agglomerated edges from the Cell Agglomerator for a specific species.\n",
    "\n",
    "First we get the cell agglomerator for the \"A\" species using `GetAgglomerator(LsTrk.GetSpeciesId(\"A\"))`. Then we acces to AgglomerationEdges by `AggInfo.AgglomerationEdges`."
   ]
  },
  {
   "cell_type": "code",
   "execution_count": null,
   "metadata": {
    "dotnet_interactive": {
     "language": "csharp"
    },
    "vscode": {
     "languageId": "dotnet-interactive.csharp"
    }
   },
   "outputs": [],
   "source": [
    "var AggEdges_SpcA = Agg.GetAgglomerator(LsTrk.GetSpeciesId(\"A\")).AggInfo.AgglomerationEdges;\n",
    "AggEdges_SpcA"
   ]
  },
  {
   "cell_type": "code",
   "execution_count": null,
   "metadata": {
    "dotnet_interactive": {
     "language": "csharp"
    },
    "vscode": {
     "languageId": "dotnet-interactive.csharp"
    }
   },
   "outputs": [],
   "source": [
    "Assert.Greater(AggEdges_SpcA.NoOfItemsLocally, 0, \"there should be at least 1 aggomeration edge\");"
   ]
  },
  {
   "cell_type": "markdown",
   "metadata": {},
   "source": [
    "Then we can compute the JumpNorm on those edges by"
   ]
  },
  {
   "cell_type": "code",
   "execution_count": null,
   "metadata": {
    "dotnet_interactive": {
     "language": "csharp"
    },
    "vscode": {
     "languageId": "dotnet-interactive.csharp"
    }
   },
   "outputs": [],
   "source": [
    "double jmpNormAcrossAgg = aggRandom.GetSpeciesShadowField(\"A\").JumpNorm(AggEdges_SpcA);\n",
    "jmpNormAcrossAgg"
   ]
  },
  {
   "cell_type": "code",
   "execution_count": null,
   "metadata": {
    "dotnet_interactive": {
     "language": "csharp"
    },
    "vscode": {
     "languageId": "dotnet-interactive.csharp"
    }
   },
   "outputs": [],
   "source": [
    "Assert.Less(jmpNormAcrossAgg, 1.0e-10, \"Extrapolation produced jump across agglomeration edge.\");"
   ]
  },
  {
   "cell_type": "markdown",
   "metadata": {},
   "source": [
    "The matrix of the restiction operation is can be accessed by: "
   ]
  },
  {
   "cell_type": "code",
   "execution_count": null,
   "metadata": {
    "dotnet_interactive": {
     "language": "csharp"
    },
    "vscode": {
     "languageId": "dotnet-interactive.csharp"
    }
   },
   "outputs": [],
   "source": [
    "var RestrMtx = Agg.GetRowManipulationMatrix(mapping);\n",
    "RestrMtx.ToStringDense()"
   ]
  },
  {
   "cell_type": "markdown",
   "metadata": {},
   "source": [
    "One can also observe that the Extrapolation (aka. Prolongation, aka. Injection) is the transpose of this:"
   ]
  },
  {
   "cell_type": "code",
   "execution_count": null,
   "metadata": {
    "dotnet_interactive": {
     "language": "csharp"
    },
    "vscode": {
     "languageId": "dotnet-interactive.csharp"
    }
   },
   "outputs": [],
   "source": [
    "var ExpolMtx = Agg.GetColManipulationMatrix(mapping);\n",
    "ExpolMtx.ToStringDense()"
   ]
  },
  {
   "cell_type": "code",
   "execution_count": null,
   "metadata": {
    "dotnet_interactive": {
     "language": "csharp"
    },
    "vscode": {
     "languageId": "dotnet-interactive.csharp"
    }
   },
   "outputs": [],
   "source": [
    "Assert.IsTrue((RestrMtx - ExpolMtx.Transpose()).InfNorm() == 0.0, \"Resriction and Extrapolation Matrix must be transpose\");"
   ]
  },
  {
   "cell_type": "markdown",
   "metadata": {},
   "source": [
    "However, even when ignoring the zero row and column, which correspond to an un-used DOF in the agglomerated domain,\n",
    "one can observe that the Solution Extrapolation  RHS-Restriction/Projection "
   ]
  },
  {
   "cell_type": "code",
   "execution_count": null,
   "metadata": {
    "dotnet_interactive": {
     "language": "csharp"
    },
    "vscode": {
     "languageId": "dotnet-interactive.csharp"
    }
   },
   "outputs": [],
   "source": [
    "(RestrMtx*ExpolMtx).ToStringDense()"
   ]
  },
  {
   "cell_type": "markdown",
   "metadata": {},
   "source": [
    "### The L2-projection to the agglomerated XDG space\n",
    "\n",
    "In the next section we want to focus on the projection of a solution $u(x)$ from the original space to the agglomerated. While the injection is canonoical (i.e. any member of the aggregate XDG space must also be a member of the original XDG space, due to the sub-space structure), the restriction is not.\n",
    "\n",
    "The $L^2$-Projection can be constructed in the following way;\n",
    "Let $Q^T = \\text{RestrMtx}$ and $Q = \\text{ExpolMtx}$; \n",
    "for the theoretical consideration here, we ommit the zero-rows and columns.\n",
    "\n",
    "The solution is given as a coordinate vector $\\tilde{u} $ such that $u(x)= \\underline{\\phi} \\cdot \\tilde{u}.$ We now want to find a coordinatevector corresponding to projection onto the agglomerated space that is $\\underline{\\phi}^A \\cdot \\tilde{u}^A$.\n",
    "\n",
    "The agglomerate XDG basis $ \\underline{\\phi}^A $ is related to the original basis $\\underline{\\phi}$\n",
    "through the relation \n",
    "$$\n",
    "  \\underline{\\phi}^A = \\underline{\\phi} Q .\n",
    "$$\n",
    "Furthermore, let $M = \\langle \\underline{\\phi}^T , \\underline{\\phi} \\rangle $ be the mass matrix of the original XDG basis.\n"
   ]
  },
  {
   "cell_type": "markdown",
   "metadata": {},
   "source": [
    "Then the mass matrix of $\\underline{\\phi}^A$ is given as\n",
    "$$\n",
    "  M^A := \\langle {\\underline{\\phi}^{A}}^T , \\underline{\\phi}^{A} \\rangle \n",
    "       = \\langle Q^T \\underline{\\phi}^T , \\underline{\\phi} Q \\rangle \n",
    "       = Q^T \\langle \\underline{\\phi}^T , \\underline{\\phi} \\rangle Q\n",
    "       = Q^T M Q.\n",
    "$$\n",
    "\n",
    "Now, the member $\\underline{\\phi}^A \\cdot \\tilde{u}^A$ of the agglomerated XDG space \n",
    "should represent the $L^2$-Projection of $\\underline{\\phi} \\cdot \\tilde{u}$ from the original XDG space.\n",
    "The ansatz for the projection is\n",
    "$$\n",
    "  \\langle  {\\underline{\\phi}^{A}}^T, \\underline{\\phi}^A \\cdot \\tilde{u}^A - \\underline{\\phi} \\cdot \\tilde{u} \\rangle = 0,\n",
    "$$\n",
    "i.e. we enforce orthogonality of the approximation residual \n",
    "$\\underline{\\phi}^A \\cdot \\tilde{u}^A - \\underline{\\phi} \\cdot \\tilde{u}$\n",
    "to all elements of $ {\\underline{\\phi}^{A}}^T$.\n"
   ]
  },
  {
   "cell_type": "markdown",
   "metadata": {},
   "source": [
    "We infer:\n",
    "$$\n",
    "  \\langle  {\\underline{\\phi}^{A}}^T, \\underline{\\phi}^{A} \\rangle \\tilde{u}^A \n",
    "  = \n",
    "  \\langle  {\\underline{\\phi}^{A}}^T, \\underline{\\phi} \\rangle \\tilde{u}\n",
    "$$\n",
    "and further\n",
    "$$\n",
    "  M^A \\tilde{u}^A = Q^T M  \\tilde{u}.\n",
    "$$\n",
    "Therefore, the matrix of the $L^2$-Projection in the respective bases is given as:\n",
    "$$\n",
    "  \\tilde{u}^A = ( {M^A}^{-1} Q^T M ) \\tilde{u}.\n",
    "$$\n",
    "One can easily verify that the composition of extrapolation (matrix $Q$) and $L^2$-Projection is the identity:\n",
    "$$\n",
    "   ( {M^A}^{-1} Q^T M ) Q =  {M^A}^{-1} {M^A} = I.\n",
    "$$\n"
   ]
  },
  {
   "cell_type": "markdown",
   "metadata": {},
   "source": [
    "Right now the `MultiPhaseAgglomerator` does not support this operation but the `MultiGridOperator` must be used instead"
   ]
  },
  {
   "cell_type": "markdown",
   "metadata": {},
   "source": [
    "### Solution using the multigrid operator"
   ]
  },
  {
   "cell_type": "markdown",
   "metadata": {},
   "source": [
    "The multigrid operator performes a change of basis for the DG representation; \n",
    "Using e.g. the `IdMass` configuration ensures an orthonormal XDG basis.\n",
    "\n",
    "Note: the following `MultigridOperator.ChangeOfBasisConfig` and will, at some point, be merged into the \n",
    "`IDifferentialOperator` interface."
   ]
  },
  {
   "cell_type": "code",
   "execution_count": null,
   "metadata": {
    "dotnet_interactive": {
     "language": "csharp"
    },
    "vscode": {
     "languageId": "dotnet-interactive.csharp"
    }
   },
   "outputs": [],
   "source": [
    "var MgConfig = new MultigridOperator.ChangeOfBasisConfig[1][];\n",
    "MgConfig[0] = new MultigridOperator.ChangeOfBasisConfig[] {\n",
    "    new MultigridOperator.ChangeOfBasisConfig() {\n",
    "        VarIndex = new int[] { 0 },\n",
    "        DegreeS = new int[] { c.Basis.Degree },\n",
    "        mode = MultigridOperator.Mode.IdMass_DropIndefinite\n",
    "    }\n",
    "};"
   ]
  },
  {
   "cell_type": "code",
   "execution_count": null,
   "metadata": {
    "dotnet_interactive": {
     "language": "csharp"
    },
    "vscode": {
     "languageId": "dotnet-interactive.csharp"
    }
   },
   "outputs": [],
   "source": [
    "var MgOp = Op.GetMultigridOperator(mapping, MgConfig);"
   ]
  },
  {
   "cell_type": "markdown",
   "metadata": {},
   "source": [
    "Then, the mass matrix is the identity:"
   ]
  },
  {
   "cell_type": "code",
   "execution_count": null,
   "metadata": {
    "dotnet_interactive": {
     "language": "csharp"
    },
    "vscode": {
     "languageId": "dotnet-interactive.csharp"
    }
   },
   "outputs": [],
   "source": [
    "MgOp.MassMatrix.ToStringDense()"
   ]
  },
  {
   "cell_type": "markdown",
   "metadata": {},
   "source": [
    "The operator matrix can be accesd via:"
   ]
  },
  {
   "cell_type": "code",
   "execution_count": null,
   "metadata": {
    "dotnet_interactive": {
     "language": "csharp"
    },
    "vscode": {
     "languageId": "dotnet-interactive.csharp"
    }
   },
   "outputs": [],
   "source": [
    "MgOp.OperatorMatrix.ToStringDense()"
   ]
  },
  {
   "cell_type": "markdown",
   "metadata": {},
   "source": [
    "Note that the `MultigridOperator` also gets rid of the unused DOF's after agglomeration; \n",
    "Therefore, the matrices in the example above are only 3x3 after transformation."
   ]
  },
  {
   "cell_type": "code",
   "execution_count": null,
   "metadata": {
    "dotnet_interactive": {
     "language": "csharp"
    },
    "vscode": {
     "languageId": "dotnet-interactive.csharp"
    }
   },
   "outputs": [],
   "source": [
    "int L = MgOp.Mapping.LocalLength;\n",
    "L"
   ]
  },
  {
   "cell_type": "markdown",
   "metadata": {},
   "source": [
    "An easy-to-use driver function `UniSolver.Solve(...)` allows to use the multigrid operator in order to solve the steady-state equation opsed by the `IDifferentialOperator`;"
   ]
  },
  {
   "cell_type": "code",
   "execution_count": null,
   "metadata": {
    "dotnet_interactive": {
     "language": "csharp"
    },
    "vscode": {
     "languageId": "dotnet-interactive.csharp"
    }
   },
   "outputs": [],
   "source": [
    "var c2 = new XDGField(basis);\n",
    "Op.Solve(c2.Mapping, verbose:true);\n",
    "c2.CoordinateVector"
   ]
  },
  {
   "cell_type": "code",
   "execution_count": null,
   "metadata": {
    "dotnet_interactive": {
     "language": "csharp"
    },
    "vscode": {
     "languageId": "dotnet-interactive.csharp"
    }
   },
   "outputs": [],
   "source": [
    "Assert.Less(c2.CoordinateVector.L2Dist(c.CoordinateVector), 1e-12, \"Solution form UniSolver is wrong\");"
   ]
  },
  {
   "cell_type": "markdown",
   "metadata": {},
   "source": [
    "To solve an equation manualy, using the multigrid operator, the following recipe can be used:"
   ]
  },
  {
   "cell_type": "code",
   "execution_count": null,
   "metadata": {
    "dotnet_interactive": {
     "language": "csharp"
    },
    "vscode": {
     "languageId": "dotnet-interactive.csharp"
    }
   },
   "outputs": [],
   "source": [
    "var RHS = OpAffine.CloneAs();\n",
    "RHS.ScaleV(-1);\n",
    "\n",
    "// the RHS must be transferred into the agglomerated XDG space, w.r.t. the cannonical basis\n",
    "Agg.ManipulateMatrixAndRHS(default(MsrMatrix), RHS, mapping, mapping); \n",
    "\n",
    "// it can then be converted to the orthonormal basis constructed in the `MultigridOperator`\n",
    "var RHS_onb = new double[L];\n",
    "MgOp.TransformRhsInto(RHS, RHS_onb, false);\n",
    "\n",
    "// now, solve:\n",
    "var Sol_onb = MgOp.OperatorMatrix.Solve_Direct(RHS_onb);\n",
    "\n",
    "// transform the solution to the agglomerate XDG space:\n",
    "XDGField c3 = new XDGField(basis);\n",
    "MgOp.TransformSolFrom(c3.CoordinateVector, Sol_onb);\n",
    "\n",
    "// perform the extrapolation \n",
    "Agg.Extrapolate(c3.Mapping);\n",
    "c3.CoordinateVector"
   ]
  },
  {
   "cell_type": "code",
   "execution_count": null,
   "metadata": {
    "dotnet_interactive": {
     "language": "csharp"
    },
    "vscode": {
     "languageId": "dotnet-interactive.csharp"
    }
   },
   "outputs": [],
   "source": [
    "Assert.Less(c3.CoordinateVector.L2Dist(c.CoordinateVector), 1e-12, \"Manual Multigrid solution is wrong\");"
   ]
  }
 ],
 "metadata": {
  "kernelspec": {
   "display_name": ".NET (C#)",
   "language": "C#",
   "name": ".net-csharp"
  },
  "language_info": {
   "file_extension": ".cs",
   "mimetype": "text/x-csharp",
   "name": "C#",
   "pygments_lexer": "csharp",
   "version": "10.0"
  }
 },
 "nbformat": 4,
 "nbformat_minor": 2
}

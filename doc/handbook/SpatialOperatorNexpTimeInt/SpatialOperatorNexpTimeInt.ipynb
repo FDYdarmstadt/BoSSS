{
 "cells": [
  {
   "cell_type": "markdown",
   "source": [
    "## What's new\r\n",
    "\r\n",
    "- generating .plt-files for visualization\r\n",
    "- implementing a numerical flux\r\n",
    "- definition and evaluation of the spatial operator\r\n",
    "- explicit time integration\r\n",
    "\r\n",
    "## Prerequisites\r\n",
    "\r\n",
    "- projection onto a DG-field\r\n",
    "\r\n",
    "Within this tutorial, we are going to implement the scalar transport equation via the definition of a spatial operator and an explicit time integrator. The implementation of the numerical flux is described on the basis of a upwinding scheme. For the visualization of the results, we are generating .plt-files, which can be opened by a viewer of your choice\r\n",
    "\r\n",
    "## Problem statement\r\n",
    "We are considering the following definition of the scalar transport equation with\r\n",
    "$$\r\n",
    "\r\n",
    "   \\frac{\\partial c}{\\partial t} + \\nabla \\cdot (\\vec{u} c) = 0,\r\n",
    "$$\r\n",
    "where $c = c(x,y,t) \\in \\mathbb{R}$ is the unknown concentration and\r\n",
    "$(y,-x)$\r\n",
    "is a given velocity field in $\\Omega = [-1, 1] \\times [-1, 1]$. Furthermore, the exact solution is given by\r\n",
    "$$\r\n",
    "    c_\\text{Exact}(x,y,t) = \\cos(\\cos(t) x - \\sin(t) y) \\quad \\text{ for } (x,y) \\in \\Omega\r\n",
    "$$\r\n",
    "In this tutorial we will simulate the evolution of the concentration $c(x,y,t)$.\r\n",
    "# 1 Solution within the *BoSSS* framework\r\n",
    "We start a new project"
   ],
   "metadata": {
    "dotnet_interactive": {
     "language": "csharp"
    }
   }
  },
  {
   "cell_type": "code",
   "execution_count": null,
   "source": [
    "#r \"BoSSSpad.dll\"\r\n",
    "using System;\r\n",
    "using System.Collections.Generic;\r\n",
    "using System.Linq;\r\n",
    "using ilPSP;\r\n",
    "using ilPSP.Utils;\r\n",
    "using BoSSS.Platform;\r\n",
    "using BoSSS.Foundation;\r\n",
    "using BoSSS.Foundation.Grid;\r\n",
    "using BoSSS.Foundation.Grid.Classic;\r\n",
    "using BoSSS.Foundation.IO;\r\n",
    "using BoSSS.Solution;\r\n",
    "using BoSSS.Solution.Control;\r\n",
    "using BoSSS.Solution.GridImport;\r\n",
    "using BoSSS.Solution.Statistic;\r\n",
    "using BoSSS.Solution.Utils;\r\n",
    "using BoSSS.Solution.Gnuplot;\r\n",
    "using BoSSS.Application.BoSSSpad;\r\n",
    "using BoSSS.Application.XNSE_Solver;\r\n",
    "using static BoSSS.Application.BoSSSpad.BoSSSshell;\r\n",
    "Init();\r\n"
   ],
   "outputs": [],
   "metadata": {
    "dotnet_interactive": {
     "language": "csharp"
    }
   }
  },
  {
   "cell_type": "code",
   "execution_count": null,
   "source": [
    "using System.IO;"
   ],
   "outputs": [],
   "metadata": {
    "dotnet_interactive": {
     "language": "csharp"
    }
   }
  },
  {
   "cell_type": "markdown",
   "source": [
    "Delete old plots in the current directory if any"
   ],
   "metadata": {}
  },
  {
   "cell_type": "code",
   "execution_count": null,
   "source": [
    "Directory.GetFiles(\".\", \"*.plt\").ForEach(file => File.Delete(file));"
   ],
   "outputs": [
    {
     "output_type": "error",
     "ename": "Error",
     "evalue": "(1,1): error CS0103: Der Name \"Directory\" ist im aktuellen Kontext nicht vorhanden.",
     "traceback": [
      "(1,1): error CS0103: Der Name \"Directory\" ist im aktuellen Kontext nicht vorhanden."
     ]
    }
   ],
   "metadata": {
    "dotnet_interactive": {
     "language": "csharp"
    }
   }
  },
  {
   "cell_type": "markdown",
   "source": [
    "# 2 Projection and visualization\r\n",
    "\r\n",
    "In this first section we get to know the plotting tool **Tecplot**, \r\n",
    "which generates .plt-files of our **DGFields**. \r\n",
    "Previously, we define the exact solution $c_{Exact}(x,y,t)$ and \r\n",
    "the scalar components of the velocity field $\\vec{u}$ as functions:"
   ],
   "metadata": {}
  },
  {
   "cell_type": "code",
   "execution_count": null,
   "source": [
    "public static class ExactSol {\r\n",
    "    public static double c(double[] X, double t) => Math.Cos(Math.Cos(t)*X[0] - Math.Sin(t)*X[1]);\r\n",
    "}"
   ],
   "outputs": [],
   "metadata": {
    "dotnet_interactive": {
     "language": "csharp"
    }
   }
  },
  {
   "cell_type": "code",
   "execution_count": null,
   "source": [
    "public static class VelField {\r\n",
    "    public static double u(double[] X) => X[1];\r\n",
    "    public static double v(double[] X) => -X[0];\r\n",
    "}"
   ],
   "outputs": [],
   "metadata": {
    "dotnet_interactive": {
     "language": "csharp"
    }
   }
  },
  {
   "cell_type": "markdown",
   "source": [
    "Next, we need to construct the computational domain, i.e a unit square with one cell.\r\n"
   ],
   "metadata": {}
  },
  {
   "cell_type": "code",
   "execution_count": null,
   "source": [
    "double[] nodes = GenericBlas.Linspace(-1.0, 1.0, 2); \r\n",
    "GridCommons grid = Grid2D.Cartesian2DGrid(nodes, nodes); "
   ],
   "outputs": [],
   "metadata": {
    "dotnet_interactive": {
     "language": "csharp"
    }
   }
  },
  {
   "cell_type": "markdown",
   "source": [
    "We instantiate the **SinglePhaseField** *ch* with a **Basis** of DG-degreee of 2. Then we can project the initial value $c(x,y,0.0)$ onto *ch*.\r\n"
   ],
   "metadata": {}
  },
  {
   "cell_type": "code",
   "execution_count": null,
   "source": [
    "int dgDegree = 2;  \r\n",
    "Basis basis = new Basis(grid, dgDegree);  \r\n",
    "SinglePhaseField ch = new SinglePhaseField(basis, \"ch\");  \r\n",
    "ch.ProjectField(X => ExactSol.c(X, 0.0));"
   ],
   "outputs": [],
   "metadata": {
    "dotnet_interactive": {
     "language": "csharp"
    }
   }
  },
  {
   "cell_type": "markdown",
   "source": [
    "Now, we can export the initial projection in our **Tecplot** format."
   ],
   "metadata": {}
  },
  {
   "cell_type": "code",
   "execution_count": null,
   "source": [
    "\r\n",
    "using BoSSS.Solution.Tecplot;"
   ],
   "outputs": [
    {
     "output_type": "error",
     "ename": "Error",
     "evalue": "(2,7): error CS0246: Der Typ- oder Namespacename \"BoSSS\" wurde nicht gefunden (möglicherweise fehlt eine using-Direktive oder ein Assemblyverweis).",
     "traceback": [
      "(2,7): error CS0246: Der Typ- oder Namespacename \"BoSSS\" wurde nicht gefunden (möglicherweise fehlt eine using-Direktive oder ein Assemblyverweis)."
     ]
    }
   ],
   "metadata": {
    "dotnet_interactive": {
     "language": "csharp"
    }
   }
  },
  {
   "cell_type": "markdown",
   "source": [
    "One important parameter for visualization is **superSampling**. It is essential for higher order methods since almost all\r\n",
    "plotting tools work with piecewise linear interpolations of the data in the vertices. For our\r\n",
    "case, the plot with **superSampling**=0 would just show a constant value! By increasing the\r\n",
    "rate of the **superSampling**, we provide more sampling points for the plot tool.\r\n",
    "\r\n",
    "- This has nothing to do with the computation! Only required for visualization!\r\n",
    "- The number of sampling points grows exponentially with the value of\r\n",
    "**superSampling**. Never use a value above 5 or 6!\r\n"
   ],
   "metadata": {
    "dotnet_interactive": {
     "language": "csharp"
    }
   }
  },
  {
   "cell_type": "code",
   "execution_count": null,
   "source": [
    "uint superSampling = 0;  \r\n",
    "Tecplot tecplot    = new Tecplot(grid.GridData, superSampling);\r\n",
    "//tecplot.PlotFields( \r\n",
    "//    \"plot_tutorial4_superSampling0\", \r\n",
    "//    0.0, \r\n",
    "//    ch);"
   ],
   "outputs": [],
   "metadata": {
    "dotnet_interactive": {
     "language": "csharp"
    }
   }
  },
  {
   "cell_type": "code",
   "execution_count": null,
   "source": [
    "superSampling = 3;  \r\n",
    "tecplot    = new Tecplot(grid.GridData, superSampling); \r\n",
    "//tecplot.PlotFields( \r\n",
    "//    \"plot_tutorial4_superSampling3\", \r\n",
    "//    0.0, \r\n",
    "//    ch);"
   ],
   "outputs": [],
   "metadata": {
    "dotnet_interactive": {
     "language": "csharp"
    }
   }
  },
  {
   "cell_type": "markdown",
   "source": [
    "There should now be two plot-files in your current directory. Those can be opened by any standard viewer for .plt-files."
   ],
   "metadata": {
    "dotnet_interactive": {
     "language": "csharp"
    }
   }
  },
  {
   "cell_type": "markdown",
   "source": [
    "# 3 Implementation of the (numerical) flux\r\n",
    "\r\n",
    "Before we can define the spatial operator for the scalar transport equation, we need to implement the flux for the given problem, i.e. the flux of the divergence operator.\r\n",
    "\r\n",
    "A flux defines the volume term \r\n",
    "(the **flux**) as well as the boundary terms (via the **numerical flux**).\r\n",
    "We derive such a flux from the class **NonlinearFlux** which simplifies the implementation of fluxes in\r\n",
    "flux-based formulations. "
   ],
   "metadata": {}
  },
  {
   "cell_type": "code",
   "execution_count": null,
   "source": [
    "\r\n",
    "using BoSSS.Platform.LinAlg;  \r\n",
    "class ScalarTransportFlux : NonlinearFlux {  \r\n",
    " \r\n",
    "    /// <ArgumentOrdering> defines on which arguments this flux depends, and in which order. \r\n",
    "    /// Here, we have just one argument (the concentration <c>). The name is arbitrary at this point, but has to be \r\n",
    "    /// referenced when defining the spatial operator (see next section). Since this flux only depends on one\r\n",
    "    /// argument, the parameters <U>, <Uin> and <Uout> will have a length of 1 and will contain the\r\n",
    "    /// local values of $c$ in the first entry, i.e. <U[0]> in the method <Flux(...)>\r\n",
    "    public override IList<string> ArgumentOrdering {  \r\n",
    "        get { return new string[] { \"c\" }; }  \r\n",
    "    }  \r\n",
    " \r\n",
    "    ///<Flux(...)> defines the volume term. The array <output> (whose length is determined by the\r\n",
    "    /// spatial dimension of the problem) has to contain the evaluated <flux> on exit.\r\n",
    "    protected override void Flux(double time, double[] x, double[] U, double[] output) {  \r\n",
    "        output[0] = VelField.u(x) * U[0];  \r\n",
    "        output[1] = VelField.v(x) * U[0];  \r\n",
    "    }  \r\n",
    " \r\n",
    "    /// <InnerEdgeFlux(...)> defines the <numerical flux> between inner edges. The parameters \r\n",
    "    /// <Uin> and <Uout> contain the value from the <in> and <out> side, respectively, \r\n",
    "    /// where the normal vector <normal> points from <in> to <out>\r\n",
    "    protected override double InnerEdgeFlux(double time, double[] x, double[] normal, \r\n",
    "    double[] Uin, double[] Uout, int jEdge) {  \r\n",
    "        Vector n              = new Vector(normal);  \r\n",
    "        Vector velocityVector = new Vector( VelField.u(x),  VelField.v(x));  \r\n",
    " \r\n",
    "        if (velocityVector * n > 0) {  \r\n",
    "            return (velocityVector * Uin[0]) * n;  \r\n",
    "        } else {  \r\n",
    "            return (velocityVector * Uout[0]) * n;  \r\n",
    "        }  \r\n",
    "    }  \r\n",
    " \r\n",
    "    /// <BorderEdgeFlux(...)> defines the <numerical flux> at boundary edges, where only inner values \r\n",
    "    /// (<Uin>) are given. Here, we reuse <InnerEdgeFlux(...)> and the exact solution <cExact> \r\n",
    "    /// to define a suitable boundary condition.\r\n",
    "    protected override double BorderEdgeFlux(double time, double[] x, double[] normal, \r\n",
    "                                             byte EdgeTag, double[] Uin, int jEdge) {  \r\n",
    "        double[] Uout = new double[] { ExactSol.c(x, time) };  \r\n",
    "        return InnerEdgeFlux(time, x, normal, Uin, Uout, jEdge);  \r\n",
    "    }  \r\n",
    "} \r\n",
    "/// \\leftskip=0cm"
   ],
   "outputs": [],
   "metadata": {
    "dotnet_interactive": {
     "language": "csharp"
    }
   }
  },
  {
   "cell_type": "markdown",
   "source": [
    "# 4 Definition of a spatial operator\r\n",
    "\r\n",
    "The next step is the definition of the spatial operator."
   ],
   "metadata": {}
  },
  {
   "cell_type": "code",
   "execution_count": null,
   "source": [
    "\r\n",
    "var spatialTerm = new DifferentialOperator( \r\n",
    "    new string[] { \"c\" },        // Domain variable \r\n",
    "    new string[] { \"div\" },      // Co-domain variable\r\n",
    "    QuadOrderFunc.NonLinear(2)); // Order of integration\r\n"
   ],
   "outputs": [],
   "metadata": {
    "dotnet_interactive": {
     "language": "csharp"
    }
   }
  },
  {
   "cell_type": "markdown",
   "source": [
    "The name of the **domain variable** must be the same used in **ArgumentOrdering**\r\n",
    "in the definition of the flux, i.e **ScalarTransportFlux**.\r\n",
    "The name of the **co-domain variable** is arbitrary and is used when the \r\n",
    "fluxes are added. In our case, we only have one type of flux.\r\n",
    "\r\n",
    "\r\n",
    "**QuadOrderFunc.NonLinear(int x)** computes the required integration order \r\n",
    "for a non-linear flux. Here, the flux is given by $\\vec{u} c$, where $\\vec{u}$ is linear. \r\n",
    "\r\n",
    "So, we have second order terms (flux times the ansatz functions), i.e the required\r\n",
    "order is **2*dgDegree+1** "
   ],
   "metadata": {}
  },
  {
   "cell_type": "markdown",
   "source": [
    "We add the flux of the divergence operator to the corresponding equation component, identified by the \r\n",
    "**co-domain variable**,"
   ],
   "metadata": {}
  },
  {
   "cell_type": "code",
   "execution_count": null,
   "source": [
    "\r\n",
    "spatialTerm.EquationComponents[\"div\"].Add(new ScalarTransportFlux());"
   ],
   "outputs": [],
   "metadata": {
    "dotnet_interactive": {
     "language": "csharp"
    }
   }
  },
  {
   "cell_type": "markdown",
   "source": [
    "and finalize the definition of the operator"
   ],
   "metadata": {}
  },
  {
   "cell_type": "code",
   "execution_count": null,
   "source": [
    "spatialTerm.Commit();"
   ],
   "outputs": [],
   "metadata": {
    "dotnet_interactive": {
     "language": "csharp"
    }
   }
  },
  {
   "cell_type": "markdown",
   "source": [
    "# 5 Time integration\r\n",
    "\r\n",
    "Finally, we have to specify a time stepping scheme to solve the time dependent\r\n",
    "scalar transport equation. For simplification, we use \r\n",
    "the **ExplicitEuler** scheme, which just needs the **DifferentialOperator** and \r\n",
    "the **DGField** as arguments."
   ],
   "metadata": {}
  },
  {
   "cell_type": "code",
   "execution_count": null,
   "source": [
    "\r\n",
    "using BoSSS.Solution.Timestepping;"
   ],
   "outputs": [],
   "metadata": {
    "dotnet_interactive": {
     "language": "csharp"
    }
   }
  },
  {
   "cell_type": "code",
   "execution_count": null,
   "source": [
    "ExplicitEuler timeStepper = new ExplicitEuler(spatialTerm, ch);"
   ],
   "outputs": [],
   "metadata": {
    "dotnet_interactive": {
     "language": "csharp"
    }
   }
  },
  {
   "cell_type": "markdown",
   "source": [
    "We want to perform a full revolution ($t \\in [0, 2\\pi]$) with 24 timesteps."
   ],
   "metadata": {}
  },
  {
   "cell_type": "code",
   "execution_count": null,
   "source": [
    "double endTime = 2.0 * Math.PI; \r\n",
    "int numberOfTimesteps = 24;"
   ],
   "outputs": [],
   "metadata": {
    "dotnet_interactive": {
     "language": "csharp"
    }
   }
  },
  {
   "cell_type": "markdown",
   "source": [
    "Plot the initial data"
   ],
   "metadata": {}
  },
  {
   "cell_type": "code",
   "execution_count": null,
   "source": [
    "tecplot.PlotFields( \r\n",
    "    \"plot_tutorial4_0\", \r\n",
    "    0.0, \r\n",
    "    ch); "
   ],
   "outputs": [],
   "metadata": {
    "dotnet_interactive": {
     "language": "csharp"
    }
   }
  },
  {
   "cell_type": "markdown",
   "source": [
    "Now, we can start the simulation, where the **timestepper** performs in each iteration one\r\n",
    "explicit euler timestep with the timestep size **dt**"
   ],
   "metadata": {}
  },
  {
   "cell_type": "code",
   "execution_count": null,
   "source": [
    "double dt = endTime / numberOfTimesteps; \r\n",
    "for (int i = 1; i <= numberOfTimesteps; i++) { \r\n",
    "    timeStepper.Perform(dt); \r\n",
    "    tecplot.PlotFields(          // plot each timestep\r\n",
    "        \"plot_tutorial4_\" + i, \r\n",
    "        timeStepper.Time, \r\n",
    "        ch); \r\n",
    "}"
   ],
   "outputs": [
    {
     "output_type": "error",
     "ename": "Error",
     "evalue": "(1,13): error CS0103: Der Name \"endTime\" ist im aktuellen Kontext nicht vorhanden.\r\n(1,23): error CS0103: Der Name \"numberOfTimesteps\" ist im aktuellen Kontext nicht vorhanden.\r\n(2,22): error CS0103: Der Name \"numberOfTimesteps\" ist im aktuellen Kontext nicht vorhanden.\r\n(3,5): error CS0103: Der Name \"timeStepper\" ist im aktuellen Kontext nicht vorhanden.\r\n(4,5): error CS0103: Der Name \"tecplot\" ist im aktuellen Kontext nicht vorhanden.\r\n(6,9): error CS0103: Der Name \"timeStepper\" ist im aktuellen Kontext nicht vorhanden.\r\n(7,9): error CS0103: Der Name \"ch\" ist im aktuellen Kontext nicht vorhanden.",
     "traceback": [
      "(1,13): error CS0103: Der Name \"endTime\" ist im aktuellen Kontext nicht vorhanden.\r\n",
      "(1,23): error CS0103: Der Name \"numberOfTimesteps\" ist im aktuellen Kontext nicht vorhanden.\r\n",
      "(2,22): error CS0103: Der Name \"numberOfTimesteps\" ist im aktuellen Kontext nicht vorhanden.\r\n",
      "(3,5): error CS0103: Der Name \"timeStepper\" ist im aktuellen Kontext nicht vorhanden.\r\n",
      "(4,5): error CS0103: Der Name \"tecplot\" ist im aktuellen Kontext nicht vorhanden.\r\n",
      "(6,9): error CS0103: Der Name \"timeStepper\" ist im aktuellen Kontext nicht vorhanden.\r\n",
      "(7,9): error CS0103: Der Name \"ch\" ist im aktuellen Kontext nicht vorhanden."
     ]
    }
   ],
   "metadata": {
    "dotnet_interactive": {
     "language": "csharp"
    }
   }
  },
  {
   "cell_type": "markdown",
   "source": [
    "Furthermore, we can postprocess our simulation data in various ways: For example, \r\n",
    "we can compute the L2-Error at the end of the simulation"
   ],
   "metadata": {}
  },
  {
   "cell_type": "code",
   "execution_count": null,
   "source": [
    "double error = ch.L2Error(X => ExactSol.c(X, timeStepper.Time)); \r\n",
    "error"
   ],
   "outputs": [
    {
     "output_type": "execute_result",
     "data": {
      "text/html": [
       "<div class=\"dni-plaintext\">0.10126945730309017</div>"
      ]
     },
     "metadata": {},
     "execution_count": 24
    }
   ],
   "metadata": {
    "dotnet_interactive": {
     "language": "csharp"
    }
   }
  },
  {
   "cell_type": "markdown",
   "source": [
    "# 6 Advanced topics \r\n",
    "So far we used the **timestepper** to evaluate the **DifferentialOperator** in order to get \r\n",
    "the current change rate for the explicit Euler scheme. In the next section we will evaluate the operator \r\n",
    "in each iteration manually. But first we set the **DGField** back to the initial values and plot\r\n"
   ],
   "metadata": {}
  },
  {
   "cell_type": "code",
   "execution_count": null,
   "source": [
    "ch.ProjectField(X => ExactSol.c(X, 0.0));\r\n",
    "tecplot.PlotFields( \r\n",
    "    \"plot_tutorial4_advanced_0\", \r\n",
    "    0.0, \r\n",
    "    ch);"
   ],
   "outputs": [],
   "metadata": {
    "dotnet_interactive": {
     "language": "csharp"
    }
   }
  },
  {
   "cell_type": "markdown",
   "source": [
    "\r\n",
    "## Evaluation of the spatial operator\r\n",
    "To evaluate the **DifferentialOperator**, we have to provide a mapping of the DG-coordinates of **ch**.\r\n",
    "This describes a bijective mapping between **local unique indices** and **global unique indices**\r\n"
   ],
   "metadata": {}
  },
  {
   "cell_type": "code",
   "execution_count": null,
   "source": [
    "var mapping = new CoordinateMapping(ch);"
   ],
   "outputs": [],
   "metadata": {
    "dotnet_interactive": {
     "language": "csharp"
    }
   }
  },
  {
   "cell_type": "markdown",
   "source": [
    "In other words, it maps the DG-coordinates into one long, one-dimensional **CoordinateVector**\r\n"
   ],
   "metadata": {}
  },
  {
   "cell_type": "code",
   "execution_count": null,
   "source": [
    "var DGCoordinates = new CoordinateVector(mapping);"
   ],
   "outputs": [],
   "metadata": {
    "dotnet_interactive": {
     "language": "csharp"
    }
   }
  },
  {
   "cell_type": "markdown",
   "source": [
    "Now, we can create an evaluator of the **DifferentialOperator** for the **DGField** **ch**"
   ],
   "metadata": {}
  },
  {
   "cell_type": "code",
   "execution_count": null,
   "source": [
    "\r\n",
    "var evaluator = spatialTerm.GetEvaluatorEx(mapping.Fields, null, mapping);"
   ],
   "outputs": [],
   "metadata": {
    "dotnet_interactive": {
     "language": "csharp"
    }
   }
  },
  {
   "cell_type": "markdown",
   "source": [
    "In our case this evaluator computes the fluxes of the divergence operator evaluated for the **DGField** **ch**\r\n"
   ],
   "metadata": {}
  },
  {
   "cell_type": "code",
   "execution_count": null,
   "source": [
    "double[] flux = new double[ch.CoordinateVector.Count]; \r\n",
    "evaluator.time = 0.0;\r\n",
    "evaluator.Evaluate(1.0, 0.0, flux);\r\n"
   ],
   "outputs": [],
   "metadata": {
    "dotnet_interactive": {
     "language": "csharp"
    }
   }
  },
  {
   "cell_type": "markdown",
   "source": [
    "After the evaluation the output flux is \r\n",
    ">flux = 0.0 $\\cdot$ flux + 1.0 $\\cdot$ spatialTerm(time: 0.0)\r\n",
    "\r\n",
    "Finally, we can use this kind of **spatial operator** evaluation to implement the explicit Euler scheme manually.   \r\n"
   ],
   "metadata": {}
  },
  {
   "cell_type": "code",
   "execution_count": null,
   "source": [
    "double physTime = 0.0;\r\n",
    "for (int i = 1; i <= numberOfTimesteps; i++) { \r\n",
    "    evaluator.time = physTime;\r\n",
    "    evaluator.Evaluate(1.0, 0.0, flux);\r\n",
    "    DGCoordinates.axpy<double[]>(flux, -dt);\r\n",
    "    physTime += dt;\r\n",
    "    tecplot.PlotFields(        \r\n",
    "        \"plot_tutorial4_advanced\" + i, \r\n",
    "        physTime, \r\n",
    "        ch); \r\n",
    "}"
   ],
   "outputs": [],
   "metadata": {
    "dotnet_interactive": {
     "language": "csharp"
    }
   }
  },
  {
   "cell_type": "code",
   "execution_count": null,
   "source": [
    "double error = ch.L2Error(X => ExactSol.c(X, physTime)); \r\n",
    "error"
   ],
   "outputs": [
    {
     "output_type": "execute_result",
     "data": {
      "text/html": [
       "<div class=\"dni-plaintext\">0.10126945730309017</div>"
      ]
     },
     "metadata": {},
     "execution_count": 31
    }
   ],
   "metadata": {
    "dotnet_interactive": {
     "language": "csharp"
    }
   }
  },
  {
   "cell_type": "code",
   "execution_count": null,
   "source": [],
   "outputs": [],
   "metadata": {
    "dotnet_interactive": {
     "language": "csharp"
    }
   }
  }
 ],
 "metadata": {
  "kernelspec": {
   "display_name": ".NET (C#)",
   "language": "C#",
   "name": ".net-csharp"
  },
  "language_info": {
   "file_extension": ".cs",
   "mimetype": "text/x-csharp",
   "name": "C#",
   "pygments_lexer": "csharp",
   "version": "8.0"
  }
 },
 "nbformat": 4,
 "nbformat_minor": 4
}
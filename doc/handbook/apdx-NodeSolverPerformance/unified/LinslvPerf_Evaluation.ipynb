{
 "cells": [
  {
   "cell_type": "markdown",
   "metadata": {},
   "source": [
    "# Linear Solver Performance: Evaluation of Single Core Benchmarks"
   ]
  },
  {
   "cell_type": "code",
   "execution_count": null,
   "metadata": {
    "dotnet_interactive": {
     "language": "csharp"
    },
    "vscode": {
     "languageId": "dotnet-interactive.csharp"
    }
   },
   "outputs": [],
   "source": [
    "Console.WriteLine(\"Execution Date/time is \" + DateTime.Now); "
   ]
  },
  {
   "cell_type": "code",
   "execution_count": null,
   "metadata": {},
   "outputs": [],
   "source": [
    "System.Security.Principal.WindowsIdentity.GetCurrent().Name"
   ]
  },
  {
   "cell_type": "code",
   "execution_count": null,
   "metadata": {
    "dotnet_interactive": {
     "language": "csharp"
    },
    "vscode": {
     "languageId": "dotnet-interactive.csharp"
    }
   },
   "outputs": [],
   "source": [
    "//#r \"C:\\Users\\jenkinsci\\Documents\\BoSSS-kummer\\public\\src\\L4-application\\BoSSSpad\\bin\\Debug\\net5.0\\BoSSSpad.dll\"\n",
    "#r \"BoSSSpad.dll\"\n",
    "using System;\n",
    "using System.Collections.Generic;\n",
    "using System.Linq;\n",
    "using ilPSP;\n",
    "using ilPSP.Utils;\n",
    "using BoSSS.Platform;\n",
    "using BoSSS.Platform.LinAlg;\n",
    "using BoSSS.Foundation;\n",
    "using BoSSS.Foundation.XDG;\n",
    "using BoSSS.Foundation.Grid;\n",
    "using BoSSS.Foundation.Grid.Classic;\n",
    "using BoSSS.Foundation.Grid.RefElements;\n",
    "using BoSSS.Foundation.IO;\n",
    "using BoSSS.Solution;\n",
    "using BoSSS.Solution.Control;\n",
    "using BoSSS.Solution.GridImport;\n",
    "using BoSSS.Solution.Statistic;\n",
    "using BoSSS.Solution.Utils;\n",
    "using BoSSS.Solution.AdvancedSolvers;\n",
    "using BoSSS.Solution.Gnuplot;\n",
    "using BoSSS.Application.BoSSSpad;\n",
    "using BoSSS.Application.XNSE_Solver;\n",
    "using System.IO;\n",
    "using BoSSS.Application.SipPoisson;\n",
    "using static BoSSS.Application.BoSSSpad.BoSSSshell;\n",
    "Init();"
   ]
  },
  {
   "cell_type": "code",
   "execution_count": null,
   "metadata": {
    "dotnet_interactive": {
     "language": "csharp"
    },
    "vscode": {
     "languageId": "dotnet-interactive.csharp"
    }
   },
   "outputs": [],
   "source": [
    "// Manually add database (e.g. when accessing the database of user `JenkinsCI` as some other, regular guy)\n",
    "//var tempDb = OpenOrCreateDatabase(@\"\\\\fdygitrunner\\ValidationTests\\bkup-2022Jul16_074633.WIP-k-LinslvPerfSer\");"
   ]
  },
  {
   "cell_type": "code",
   "execution_count": null,
   "metadata": {
    "dotnet_interactive": {
     "language": "csharp"
    },
    "vscode": {
     "languageId": "dotnet-interactive.csharp"
    }
   },
   "outputs": [],
   "source": [
    "string PROJECT_NAME = System.Environment.GetEnvironmentVariable(\"LinslvPerfSer\") ?? \"LinslvPerfSer\"; // this allows to modify the project name for testing purposes\n",
    "wmg.Init(PROJECT_NAME);\n",
    "wmg.SetNameBasedSessionJobControlCorrelation();\n",
    "wmg.AllJobs"
   ]
  },
  {
   "cell_type": "code",
   "execution_count": null,
   "metadata": {
    "dotnet_interactive": {
     "language": "csharp"
    },
    "vscode": {
     "languageId": "dotnet-interactive.csharp"
    }
   },
   "outputs": [],
   "source": [
    "databases"
   ]
  },
  {
   "cell_type": "code",
   "execution_count": null,
   "metadata": {
    "dotnet_interactive": {
     "language": "csharp"
    },
    "vscode": {
     "languageId": "dotnet-interactive.csharp"
    }
   },
   "outputs": [],
   "source": [
    "//foreach(var s in wmg.Sessions) {\n",
    "//    Console.WriteLine(s.Database.Path);\n",
    "//}"
   ]
  },
  {
   "cell_type": "code",
   "execution_count": null,
   "metadata": {
    "dotnet_interactive": {
     "language": "csharp"
    },
    "vscode": {
     "languageId": "dotnet-interactive.csharp"
    }
   },
   "outputs": [],
   "source": [
    "var FailedSessions = wmg.Sessions.Where(Si => Si.SuccessfulTermination == false\n",
    "                                              || Convert.ToInt32(Si.KeysAndQueries[\"Conv\"]) == 0);\n",
    "FailedSessions"
   ]
  },
  {
   "cell_type": "code",
   "execution_count": null,
   "metadata": {
    "dotnet_interactive": {
     "language": "csharp"
    },
    "vscode": {
     "languageId": "dotnet-interactive.csharp"
    }
   },
   "outputs": [],
   "source": [
    "//NUnit.Framework.Assert.Zero(FailedSessions.Count(), \"Some Sessions did not terminate successfully.\");"
   ]
  },
  {
   "cell_type": "code",
   "execution_count": null,
   "metadata": {
    "dotnet_interactive": {
     "language": "csharp"
    },
    "vscode": {
     "languageId": "dotnet-interactive.csharp"
    }
   },
   "outputs": [],
   "source": [
    "//FailedSessions.ForEach(s => s.Delete(true));"
   ]
  },
  {
   "cell_type": "markdown",
   "metadata": {},
   "source": [
    "## Create Table for Post-Processing"
   ]
  },
  {
   "cell_type": "markdown",
   "metadata": {},
   "source": [
    "The timing information that is requires for this study is not present in the default session table.\n",
    "Instead, it must be extracted from the *session profiling*.\n",
    "\n",
    "To obtain timing-measurements, the instrumentation generated by certain `BlockTrace`-blocks \n",
    "within the `UniSolver`, resp. the `XdgBDFTimestepping` class is extracted and added to the data table:"
   ]
  },
  {
   "cell_type": "code",
   "execution_count": null,
   "metadata": {
    "dotnet_interactive": {
     "language": "csharp"
    },
    "vscode": {
     "languageId": "dotnet-interactive.csharp"
    }
   },
   "outputs": [],
   "source": [
    "// evaluators to add additional columns to the session table\n",
    "static class AddCols {\n",
    "    static int GetSolType(ISessionInfo SI) {\n",
    "        if(SI.GetControl().GetSolverType().Name.Contains(\"XNSE\"))\n",
    "            return 3;\n",
    "        if(SI.GetControl().GetSolverType().Name.Contains(\"XdgPoisson3Main\"))\n",
    "            return 2;\n",
    "        return 1;\n",
    "    }\n",
    "    \n",
    "    \n",
    "    static public object XdgMatrixAssembly_time(ISessionInfo SI) {\n",
    "        var mcr = SI.GetProfiling()[0];\n",
    "        ilPSP.Tracing.MethodCallRecord nd;\n",
    "        if(GetSolType(SI) == 3)\n",
    "            nd = mcr.FindChildren(\"*.XdgTimestepping.ComputeOperatorMatrix\").Single();\n",
    "        else \n",
    "            nd  = mcr.FindChildren(\"MatrixAssembly\").Single();\n",
    "        //var nd  = ndS.ElementAt(0);\n",
    "        return nd.TimeSpentInMethod.TotalSeconds  / nd.CallCount;\n",
    "    }\n",
    "    static public object Aggregation_basis_init_time(ISessionInfo SI) {\n",
    "        var mcr = SI.GetProfiling()[0];\n",
    "        var nd  = mcr.FindChildren(\"Aggregation_basis_init\").Single();\n",
    "        //var nd  = ndS.ElementAt(0);\n",
    "        return nd.TimeSpentInMethod.TotalSeconds  / nd.CallCount;\n",
    "    }\n",
    "    static public object Solver_Init_time(ISessionInfo SI) {\n",
    "        var mcr = SI.GetProfiling()[0];\n",
    "        var nd  = mcr.FindChildren(\"Solver_Init\").Single();\n",
    "        //var nd  = ndS.ElementAt(0);\n",
    "        //Console.WriteLine(\"Number of nodes: \" + ndS.Count() + \" cc \" + nd.CallCount );\n",
    "        return nd.TimeSpentInMethod.TotalSeconds / nd.CallCount;\n",
    "    }\n",
    "    static public object Solver_Run_time(ISessionInfo SI) {\n",
    "        var mcr = SI.GetProfiling()[0];\n",
    "        var nd  = mcr.FindChildren(\"Solver_Run\").Single();\n",
    "        //var nd  = ndS.ElementAt(0);\n",
    "        return nd.TimeSpentInMethod.TotalSeconds  / nd.CallCount;\n",
    "    }\n",
    "    static public object Solver_InitAndRun_time(ISessionInfo SI) {\n",
    "        double agitime = (double) Aggregation_basis_init_time(SI);\n",
    "        double initime = (double) Solver_Init_time(SI);\n",
    "        double runtime = (double) Solver_Run_time(SI);\n",
    "        \n",
    "        return agitime + initime + runtime;\n",
    "    }\n",
    "    static public object Solver_TimePerIter(ISessionInfo SI) {\n",
    "        double runtime = (double) Solver_Run_time(SI);\n",
    "        double NoOfItr = Convert.ToDouble(SI.KeysAndQueries[\"NoIter\"]);\n",
    "        return runtime/NoOfItr;\n",
    "    }\n",
    "    static public object NoOfCores(ISessionInfo SI){\n",
    "        return SI.GetProfiling().Length;\n",
    "    }\n",
    "    static public object ComputeNodeName(ISessionInfo SI) {\n",
    "        return SI.ComputeNodeNames.First();\n",
    "    }\n",
    "    \n",
    "    //static public object DOFs(ISessionInfo SI) {\n",
    "    //    int NoOfItr = Convert.ToInt32(SI.KeysAndQueries[\"NoIter\"]);\n",
    "    //    return NoOfItr;\n",
    "    //}\n",
    "    \n",
    "    static public object DGdegree(ISessionInfo SI) {\n",
    "        switch(GetSolType(SI)) {\n",
    "            case 3:\n",
    "            return SI.KeysAndQueries.Single(kv => kv.Key.Contains(\"DGdegree:Velocity\")).Value;\n",
    "            case 2:\n",
    "            return SI.KeysAndQueries.Single(kv => kv.Key == \"DGdegree:u\").Value;    \n",
    "            case 1:\n",
    "            return SI.KeysAndQueries.Single(kv => kv.Key == \"DGdegree:T\").Value;\n",
    "        }\n",
    "        throw new ArgumentException();\n",
    "    }\n",
    "}"
   ]
  },
  {
   "cell_type": "code",
   "execution_count": null,
   "metadata": {
    "dotnet_interactive": {
     "language": "csharp"
    },
    "vscode": {
     "languageId": "dotnet-interactive.csharp"
    }
   },
   "outputs": [],
   "source": [
    "wmg.AdditionalSessionTableColums.Clear();\n",
    "wmg.AdditionalSessionTableColums.Add(\"MatrixAssembly\", AddCols.XdgMatrixAssembly_time);\n",
    "wmg.AdditionalSessionTableColums.Add(\"Aggregation_basis_init_time\", AddCols.Aggregation_basis_init_time);\n",
    "wmg.AdditionalSessionTableColums.Add(\"Solver_Init_time\", AddCols.Solver_Init_time);\n",
    "wmg.AdditionalSessionTableColums.Add(\"Solver_Run_time\", AddCols.Solver_Run_time);\n",
    "wmg.AdditionalSessionTableColums.Add(\"Solver_InitAndRun_time\", AddCols.Solver_InitAndRun_time);\n",
    "wmg.AdditionalSessionTableColums.Add(\"Solver_TimePerIter\", AddCols.Solver_TimePerIter);\n",
    "wmg.AdditionalSessionTableColums.Add(\"NoOfCores\", AddCols.NoOfCores);\n",
    "wmg.AdditionalSessionTableColums.Add(\"ComputeNodeName\", AddCols.ComputeNodeName);\n",
    "wmg.AdditionalSessionTableColums.Add(\"DGdegree\", AddCols.DGdegree);\n",
    "//wmg.AdditionalSessionTableColums.Add(\"DOFs\", AddCols.DOFs);"
   ]
  },
  {
   "cell_type": "code",
   "execution_count": null,
   "metadata": {
    "dotnet_interactive": {
     "language": "csharp"
    },
    "vscode": {
     "languageId": "dotnet-interactive.csharp"
    }
   },
   "outputs": [],
   "source": [
    "var SessTab = wmg.SessionTable;\n",
    "\n",
    "//// The Session column can't be serialized,\n",
    "//// we have to remove it\n",
    "//List<string> AllCols = FullSessTab.GetColumnNames().ToList();\n",
    "//AllCols.Remove(\"Session\");\n",
    "//FullSessTab = FullSessTab.ExtractColumns(AllCols.ToArray());"
   ]
  },
  {
   "cell_type": "markdown",
   "metadata": {},
   "source": [
    "List of all available Data Columns:"
   ]
  },
  {
   "cell_type": "code",
   "execution_count": null,
   "metadata": {
    "dotnet_interactive": {
     "language": "csharp"
    },
    "vscode": {
     "languageId": "dotnet-interactive.csharp"
    }
   },
   "outputs": [],
   "source": [
    "SessTab.GetColumnNames().ToConcatString(\"\", \"; \", \"\")"
   ]
  },
  {
   "cell_type": "markdown",
   "metadata": {},
   "source": [
    "Select those columns which are of interest:"
   ]
  },
  {
   "cell_type": "code",
   "execution_count": null,
   "metadata": {
    "dotnet_interactive": {
     "language": "csharp"
    },
    "vscode": {
     "languageId": "dotnet-interactive.csharp"
    }
   },
   "outputs": [],
   "source": [
    "var SubTab = SessTab.ExtractColumns(\n",
    "    \"SessionName\",\"DGdegree\", \"Grid:NoOfCells\", \"LinearSolver.Name\", \"LinearSolver.Shortname\", \"DOFs\", \"MatrixAssembly\",\n",
    "    \"Grid:SpatialDimension\", \"NoOfCores\",\n",
    "    \"Aggregation_basis_init_time\", \"Solver_Init_time\", \"Solver_Run_time\", \"Solver_InitAndRun_time\", \"NoIter\", \n",
    "    \"Solver_TimePerIter\", \"ComputeNodeName\", \"RegularTerminated\");"
   ]
  },
  {
   "cell_type": "code",
   "execution_count": null,
   "metadata": {
    "dotnet_interactive": {
     "language": "csharp"
    },
    "vscode": {
     "languageId": "dotnet-interactive.csharp"
    }
   },
   "outputs": [],
   "source": [
    "// Filename\n",
    "var now         = DateTime.Now;\n",
    "string docName  = wmg.CurrentProject + \"_\" + now.Year + \"-\" + now.Month + \"-\" + now.Day;\n",
    "SubTab.SaveToFile(docName + \".json\");\n",
    "SubTab.ToCSVFile(docName + \".csv\");"
   ]
  },
  {
   "cell_type": "markdown",
   "metadata": {},
   "source": [
    "Only consider runs which have been successful:"
   ]
  },
  {
   "cell_type": "code",
   "execution_count": null,
   "metadata": {
    "dotnet_interactive": {
     "language": "csharp"
    },
    "vscode": {
     "languageId": "dotnet-interactive.csharp"
    }
   },
   "outputs": [],
   "source": [
    "SubTab = SubTab.ExtractRows(delegate(int iRow, IDictionary<string, object> row) {\n",
    "    return (bool)(row[\"RegularTerminated\"]);\n",
    "});"
   ]
  },
  {
   "cell_type": "code",
   "execution_count": null,
   "metadata": {
    "dotnet_interactive": {
     "language": "csharp"
    },
    "vscode": {
     "languageId": "dotnet-interactive.csharp"
    }
   },
   "outputs": [],
   "source": [
    "//SubTab = SubTab.ExtractRows(delegate(int iRow, IDictionary<string, object> row) {\n",
    "//    return (bool)(row[\"RegularTerminated\"]) && ((string)row[\"SessionName\"]).Contains(\"Poisson\");\n",
    "//});"
   ]
  },
  {
   "cell_type": "code",
   "execution_count": null,
   "metadata": {
    "dotnet_interactive": {
     "language": "csharp"
    },
    "vscode": {
     "languageId": "dotnet-interactive.csharp"
    }
   },
   "outputs": [],
   "source": [
    "//SubTab.Print();"
   ]
  },
  {
   "cell_type": "markdown",
   "metadata": {
    "dotnet_interactive": {
     "language": "csharp"
    }
   },
   "source": [
    "## Vizualisation of Results"
   ]
  },
  {
   "cell_type": "markdown",
   "metadata": {},
   "source": [
    "The following data is available:"
   ]
  },
  {
   "cell_type": "code",
   "execution_count": null,
   "metadata": {
    "dotnet_interactive": {
     "language": "csharp"
    },
    "vscode": {
     "languageId": "dotnet-interactive.csharp"
    }
   },
   "outputs": [],
   "source": [
    "SubTab.GetColumnNames()"
   ]
  },
  {
   "cell_type": "markdown",
   "metadata": {},
   "source": [
    "Available DG degrees:"
   ]
  },
  {
   "cell_type": "code",
   "execution_count": null,
   "metadata": {
    "dotnet_interactive": {
     "language": "csharp"
    },
    "vscode": {
     "languageId": "dotnet-interactive.csharp"
    }
   },
   "outputs": [],
   "source": [
    "var DGdegrees = SubTab.GetColumn<int>(\"DGdegree\").ToSet().OrderBy(s => s).ToArray();\n",
    "DGdegrees"
   ]
  },
  {
   "cell_type": "markdown",
   "metadata": {},
   "source": [
    "All used solvers:"
   ]
  },
  {
   "cell_type": "code",
   "execution_count": null,
   "metadata": {
    "dotnet_interactive": {
     "language": "csharp"
    },
    "vscode": {
     "languageId": "dotnet-interactive.csharp"
    }
   },
   "outputs": [],
   "source": [
    "SubTab.GetColumn<string>(\"LinearSolver.Shortname\").ToSet()"
   ]
  },
  {
   "cell_type": "code",
   "execution_count": null,
   "metadata": {
    "dotnet_interactive": {
     "language": "csharp"
    },
    "vscode": {
     "languageId": "dotnet-interactive.csharp"
    }
   },
   "outputs": [],
   "source": [
    "const string Pardiso = \"PARDISO\";\n",
    "const string OrmgSwz = \"OrthoMG w Add Swz\";\n",
    "const string GmrsP2g = \"GMRES w p2G\";\n",
    "const string OrmgPmg = \"Ortho w pmG\";\n",
    "const string OrmgILU = \"OrthoMG w ILU\";"
   ]
  },
  {
   "cell_type": "markdown",
   "metadata": {},
   "source": [
    "Cases investigated:"
   ]
  },
  {
   "cell_type": "code",
   "execution_count": null,
   "metadata": {
    "dotnet_interactive": {
     "language": "csharp"
    },
    "vscode": {
     "languageId": "dotnet-interactive.csharp"
    }
   },
   "outputs": [],
   "source": [
    "const string Poisson = \"SIP_Poisson\";\n",
    "const string XPoisson = \"XdgPoisson\";\n",
    "const string Stokes2D = \"BottiPietroStokes2D\";\n",
    "const string Stokes3D = \"BottiPietroStokes3D\";\n",
    "const string XStokes = \"XdgStokes\";\n",
    "string[] AllCases = new string[] { Poisson, XPoisson, Stokes2D, Stokes3D, XStokes };"
   ]
  },
  {
   "cell_type": "code",
   "execution_count": null,
   "metadata": {
    "dotnet_interactive": {
     "language": "csharp"
    },
    "vscode": {
     "languageId": "dotnet-interactive.csharp"
    }
   },
   "outputs": [],
   "source": [
    "string ExtractCase(string sessionName) {\n",
    "    return AllCases.Single(caseName => sessionName.Contains(caseName));\n",
    "}"
   ]
  },
  {
   "cell_type": "markdown",
   "metadata": {},
   "source": [
    "### Macro Routine for Multiplot\n",
    "\n",
    "The following routine combines the plotting code which is common for all sub-plot in this evaluation;\n",
    "only the y-axis needs to be specified. "
   ]
  },
  {
   "cell_type": "code",
   "execution_count": null,
   "metadata": {
    "dotnet_interactive": {
     "language": "csharp"
    },
    "vscode": {
     "languageId": "dotnet-interactive.csharp"
    }
   },
   "outputs": [],
   "source": [
    "PlotFormat SlvCode2Pltfmt(string solver_name, string caseName) { \n",
    "    var Fmt = new PlotFormat();\n",
    "    switch(solver_name) {\n",
    "        case Pardiso: \n",
    "            Fmt.PointType = PointTypes.Asterisk;\n",
    "            Fmt.DashType  = DashTypes.Dotted;\n",
    "            break;\n",
    "        case GmrsP2g: \n",
    "            Fmt.PointType = PointTypes.OpenUpperTriangle;\n",
    "            break;\n",
    "        case OrmgSwz: \n",
    "            Fmt.PointType = PointTypes.Box;\n",
    "            break;\n",
    "        case OrmgILU:\n",
    "            Fmt.PointType = PointTypes.Diamond;\n",
    "            break;\n",
    "        case OrmgPmg:\n",
    "            Fmt.PointType = PointTypes.OpenLowerTriangle;\n",
    "            break;\n",
    "        default:\n",
    "            Console.WriteLine(\"unknown: \" + solver_name); \n",
    "            break;\n",
    "    } \n",
    "    //Console.WriteLine(\"name is: \" + solver_name); \n",
    "    Fmt.PointSize = 0.85;\n",
    "    Fmt.LineWidth = 2;    \n",
    "    Fmt.Style     = Styles.LinesPoints;\n",
    "    \n",
    "    if(caseName.Contains(Poisson))\n",
    "        Fmt.LineColor = LineColors.Blue;\n",
    "    else if(caseName.Contains(XPoisson))\n",
    "        Fmt.LineColor = LineColors.Red;\n",
    "    else if(caseName.Contains(Stokes2D))\n",
    "        Fmt.LineColor = LineColors.Green;\n",
    "    else if(caseName.Contains(Stokes3D))\n",
    "        Fmt.LineColor = LineColors.Blue;    \n",
    "    else if(caseName.Contains(XStokes))\n",
    "        Fmt.LineColor = LineColors.Red;\n",
    "    \n",
    "\n",
    "    return Fmt;\n",
    "}"
   ]
  },
  {
   "cell_type": "markdown",
   "metadata": {},
   "source": [
    "The following function will later be used to check the regression solpe of runtimes\n",
    "(ideally, one expects linear runtime of a solver with respect to degrees-of-freedom):"
   ]
  },
  {
   "cell_type": "code",
   "execution_count": null,
   "metadata": {
    "dotnet_interactive": {
     "language": "csharp"
    },
    "vscode": {
     "languageId": "dotnet-interactive.csharp"
    }
   },
   "outputs": [],
   "source": [
    "void AssertSlope(Plot2Ddata plot, string caseName, string solverName, double allowedSlope, string info) {\n",
    "   NUnit.Framework.Assert.LessOrEqual(\n",
    "      plot.Regression().Single(tt =>  tt.Key.Contains(caseName) && tt.Key.Contains(solverName)).Value,\n",
    "      allowedSlope,\n",
    "      $\"{solverName}/{info} scaling for {caseName} exceeds limit\");\n",
    "}"
   ]
  },
  {
   "cell_type": "code",
   "execution_count": null,
   "metadata": {
    "dotnet_interactive": {
     "language": "csharp"
    },
    "vscode": {
     "languageId": "dotnet-interactive.csharp"
    }
   },
   "outputs": [],
   "source": [
    "Plot2Ddata[,] PlotSolverBehave(string Yname, bool LogY, double yMin, double yMax, double LegendYpos) {\n",
    "\n",
    "int rows    = DGdegrees.Length;\n",
    "int columns = 2;\n",
    "string[] ignore_solvers = {};\n",
    "Plot2Ddata[,] multiplots = new Plot2Ddata[rows + 1,columns];\n",
    "int pDegree = 0;\n",
    "for(int iRow = 0; iRow < rows; iRow++) {\n",
    "for(int iCol = 0; iCol < columns; iCol++) {\n",
    "    \n",
    "    //if(pDegree > rows*columns-1)\n",
    "    //    continue;\n",
    "    //int tmpDG = -1;\n",
    "    //if(pDegree < DGdegrees.Length)\n",
    "    //    tmpDG = DGdegrees[pDegree];\n",
    "    \n",
    "    int tmpDG = DGdegrees[iRow];\n",
    "    \n",
    "    //Create Graphs\n",
    "    multiplots[iRow,iCol] = SubTab.ToPlot(\"DOFs\", Yname, // column for x- and y\n",
    "       delegate (int iTabRow, \n",
    "                 IDictionary<string, object> Row, \n",
    "                 out string Nmn, \n",
    "                 out PlotFormat Fmt) { \n",
    "           // - - - - - - - - - - - - - - - - - - - - - - - - \n",
    "           // PlotRowSelector:\n",
    "           // selects, which table row goes to which graph,\n",
    "           // and the respective color  \n",
    "           // - - - - - - - - - - - - - - - - - - - - - - - - \n",
    "           int k = Convert.ToInt32(Row[\"DGdegree\"]);\n",
    "           if(k != tmpDG) {\n",
    "                // degree does not match -> not in this plot\n",
    "                Nmn = null;\n",
    "                Fmt = null;\n",
    "                return;\n",
    "           }\n",
    " \n",
    "           string solver_name = (string) (Row[\"LinearSolver.Shortname\"]);\n",
    "           //ignore the solvers specified in ingore_solvers\n",
    "           foreach(string sc in ignore_solvers){\n",
    "               if(solver_name == sc){\n",
    "                   System.Console.WriteLine(\"skipped\");\n",
    "                   Nmn = null;\n",
    "                   Fmt = null;\n",
    "               return;\n",
    "               }\n",
    "           }\n",
    "           \n",
    "           string caseName = ExtractCase( (string) Row[\"SessionName\"]);\n",
    "           if(iCol == 0) {\n",
    "               // in Column 0, draw only Poisson\n",
    "               if(!caseName.Contains(\"Poisson\")) {\n",
    "                   Nmn = null;\n",
    "                   Fmt = null;\n",
    "                   return;\n",
    "               }\n",
    "           } else if(iCol == 1) {\n",
    "               // in Column 1, draw only Poisson\n",
    "               if(!caseName.Contains(\"Stokes\")) {\n",
    "                   Nmn = null;\n",
    "                   Fmt = null;\n",
    "                   return;\n",
    "               }\n",
    "           } else {\n",
    "               throw new NotImplementedException();\n",
    "           }\n",
    "           \n",
    "           \n",
    "           //process the other solvers\n",
    "           Fmt = SlvCode2Pltfmt(solver_name, caseName);\n",
    "           Nmn = solver_name + \"/\" + caseName;\n",
    "       });\n",
    "\n",
    "       // plot the linear behavior reference line\n",
    "       double[] dof = new[] { 1e3, 1e6 }; // x-limits of the reference-line-plot\n",
    "       double[] linT = dof.Select(x => x*0.001).ToArray();\n",
    "       var linP = new Plot2Ddata.XYvalues(\"linear\", dof, linT);\n",
    "       linP.Format.FromString(\"- black\");\n",
    "       ArrayTools.AddToArray(linP, ref multiplots[iRow,iCol].dataGroups);\n",
    " \n",
    "       //all about axis\n",
    "       string Title = string.Format(\"$k = {0}$\", tmpDG);\n",
    "       multiplots[iRow,iCol].Ylabel = Title;\n",
    "       multiplots[iRow,iCol].LogX = true;\n",
    "       multiplots[iRow,iCol].LogY = LogY;\n",
    "    \n",
    "       //specify range of axis\n",
    "       multiplots[iRow,iCol].YrangeMin = yMin;\n",
    "       multiplots[iRow,iCol].YrangeMax = yMax;\n",
    "       multiplots[iRow,iCol].XrangeMin = 1e2;\n",
    "       multiplots[iRow,iCol].XrangeMax = 1e7;\n",
    "    \n",
    "       //multiplots[iRow,iCol].Y2rangeMin = 1e-3;\n",
    "       //multiplots[iRow,iCol].Y2rangeMax = 1e+4;\n",
    "       //multiplots[iRow,iCol].X2rangeMin = 1e2;\n",
    "       //multiplots[iRow,iCol].X2rangeMax = 1e7;\n",
    "    \n",
    "       //spacing around plots\n",
    "       multiplots[iRow,iCol].ShowLegend = false;\n",
    "       multiplots[iRow,iCol].tmargin = 0;\n",
    "       multiplots[iRow,iCol].bmargin = 2;\n",
    "       multiplots[iRow,iCol].lmargin = 5;\n",
    "       multiplots[iRow,iCol].rmargin = 5;\n",
    "       multiplots[iRow,iCol].ShowXtics = false;\n",
    "\n",
    "       //I am legend ...\n",
    "       if(iRow == rows - 1) {\n",
    "          multiplots[iRow,iCol].ShowLegend = true;\n",
    "          //multiplots[iRow,iCol].LegendAlignment = new string[]{\"o\", \"r\", \"t\" };\n",
    "          multiplots[iRow,iCol].LegendFont = 12;\n",
    "          multiplots[iRow,iCol].Legend_maxrows = 100;\n",
    "          multiplots[iRow,iCol].LegendPosition = new double[] { 4e7, LegendYpos };\n",
    "          //multiplots[iRow,iCol].LegendSwap  = true;\n",
    "       }\n",
    "       //and i am special ...\n",
    "       if(iRow == rows - 1)\n",
    "           multiplots[iRow,iCol].ShowXtics = true;\n",
    "    pDegree++;\n",
    "}                        \n",
    "}\n",
    "//multiplots.PlotCairolatex().WriteMinimalCompileableExample(\"latex/solvers.tex\");\n",
    "//multiplots.AddDummyPlotsForLegend(3,0);\n",
    "return multiplots;\n",
    "}"
   ]
  },
  {
   "cell_type": "markdown",
   "metadata": {},
   "source": [
    "### Total Runtime\n",
    "\n",
    "One would expect **linear scaling** with grid resolution; it may scale nonlinear with DG polynomial order."
   ]
  },
  {
   "cell_type": "code",
   "execution_count": null,
   "metadata": {
    "dotnet_interactive": {
     "language": "csharp"
    },
    "vscode": {
     "languageId": "dotnet-interactive.csharp"
    }
   },
   "outputs": [],
   "source": [
    "var multiplotsRtime = PlotSolverBehave(\"Solver_InitAndRun_time\", true, 1e-2, 1e+4, 1e-5);\n",
    "//multiplots.PlotCairolatex().PlotNow()\n",
    "//multiplots.AddDummyPlotsForLegend(3,0);\n",
    "multiplotsRtime.ToGnuplot().PlotSVG(xRes:800,yRes:1200)"
   ]
  },
  {
   "cell_type": "code",
   "execution_count": null,
   "metadata": {
    "dotnet_interactive": {
     "language": "csharp"
    },
    "vscode": {
     "languageId": "dotnet-interactive.csharp"
    }
   },
   "outputs": [],
   "source": [
    "//var multiplots = PlotSolverBehave(\"Solver_InitAndRun_time\", true, 1e-2, 1e+4, 1e-5);\n",
    "//multiplots.PlotCairolatex().SaveTo(\"Runtime.tex\");"
   ]
  },
  {
   "cell_type": "code",
   "execution_count": null,
   "metadata": {
    "dotnet_interactive": {
     "language": "csharp"
    },
    "vscode": {
     "languageId": "dotnet-interactive.csharp"
    }
   },
   "outputs": [],
   "source": [
    "/*var legend = new Plot2Ddata();\n",
    "legend.AddDataGroup(\"Pardiso\",new double[] {1,2},new double[] {1,2}, \"-og\");\n",
    "legend.ShowXtics = false;\n",
    "legend.ShowXtics = false;\n",
    "//legend.XrangeMin = 3;\n",
    "//legend.XrangeMax = 3.1;\n",
    "\n",
    "//legend.AddGnuplotCommand(\"set border 0\");\n",
    "//legend.AddGnuplotCommand(\"set style line 101 lc rgb '#808080' lt 1 lw 1\");\n",
    "legend.AddGnuplotCommand(\"unset xlabel\");\n",
    "legend.AddGnuplotCommand(\"unset ylabel\");\n",
    "legend.AddGnuplotCommand(\"set format x ''\");\n",
    "legend.AddGnuplotCommand(\"set format y ''\");\n",
    "legend.AddGnuplotCommand(\"set tics scale 0\");\n",
    "\n",
    "legend.PlotNow()*/"
   ]
  },
  {
   "cell_type": "markdown",
   "metadata": {},
   "source": [
    "#### Regression and Error checking (total runtime)"
   ]
  },
  {
   "cell_type": "markdown",
   "metadata": {},
   "source": [
    "For polynomial degree 2:"
   ]
  },
  {
   "cell_type": "code",
   "execution_count": null,
   "metadata": {
    "dotnet_interactive": {
     "language": "csharp"
    },
    "vscode": {
     "languageId": "dotnet-interactive.csharp"
    }
   },
   "outputs": [],
   "source": [
    "multiplotsRtime[0,0].Regression()"
   ]
  },
  {
   "cell_type": "code",
   "execution_count": null,
   "metadata": {
    "dotnet_interactive": {
     "language": "csharp"
    },
    "vscode": {
     "languageId": "dotnet-interactive.csharp"
    }
   },
   "outputs": [],
   "source": [
    "multiplotsRtime[0,1].Regression()"
   ]
  },
  {
   "cell_type": "code",
   "execution_count": null,
   "metadata": {
    "dotnet_interactive": {
     "language": "csharp"
    },
    "vscode": {
     "languageId": "dotnet-interactive.csharp"
    }
   },
   "outputs": [],
   "source": []
  },
  {
   "cell_type": "markdown",
   "metadata": {},
   "source": [
    "For polynomial degree 3:"
   ]
  },
  {
   "cell_type": "code",
   "execution_count": null,
   "metadata": {
    "dotnet_interactive": {
     "language": "csharp"
    },
    "vscode": {
     "languageId": "dotnet-interactive.csharp"
    }
   },
   "outputs": [],
   "source": [
    "multiplotsRtime[1,0].Regression()"
   ]
  },
  {
   "cell_type": "code",
   "execution_count": null,
   "metadata": {
    "dotnet_interactive": {
     "language": "csharp"
    },
    "vscode": {
     "languageId": "dotnet-interactive.csharp"
    }
   },
   "outputs": [],
   "source": [
    "multiplotsRtime[1,1].Regression()"
   ]
  },
  {
   "cell_type": "markdown",
   "metadata": {},
   "source": [
    "For polynomial degree 5:"
   ]
  },
  {
   "cell_type": "code",
   "execution_count": null,
   "metadata": {
    "dotnet_interactive": {
     "language": "csharp"
    },
    "vscode": {
     "languageId": "dotnet-interactive.csharp"
    }
   },
   "outputs": [],
   "source": [
    "multiplotsRtime[2,0].Regression()"
   ]
  },
  {
   "cell_type": "code",
   "execution_count": null,
   "metadata": {
    "dotnet_interactive": {
     "language": "csharp"
    },
    "vscode": {
     "languageId": "dotnet-interactive.csharp"
    }
   },
   "outputs": [],
   "source": [
    "multiplotsRtime[2,1].Regression()"
   ]
  },
  {
   "cell_type": "code",
   "execution_count": null,
   "metadata": {
    "dotnet_interactive": {
     "language": "csharp"
    },
    "vscode": {
     "languageId": "dotnet-interactive.csharp"
    }
   },
   "outputs": [],
   "source": [
    "AssertSlope(multiplotsRtime[0,0], Poisson,  GmrsP2g, 1.14, \"k=2\");\n",
    "AssertSlope(multiplotsRtime[0,0], XPoisson, GmrsP2g, 1.0,  \"k=2\");\n",
    "AssertSlope(multiplotsRtime[0,1], Stokes2D, GmrsP2g, 1.0,  \"k=2\");\n",
    "AssertSlope(multiplotsRtime[0,1], XStokes,  GmrsP2g, 1.5,  \"k=2\");\n",
    "\n",
    "AssertSlope(multiplotsRtime[0,0], Poisson,  OrmgSwz, 1.2,  \"k=2\");\n",
    "AssertSlope(multiplotsRtime[0,0], XPoisson, OrmgSwz, 1.0,  \"k=2\");\n",
    "AssertSlope(multiplotsRtime[0,1], Stokes2D, OrmgSwz, 1.2,  \"k=2\");\n",
    "AssertSlope(multiplotsRtime[0,1], XStokes,  OrmgSwz, 1.7,  \"k=2\"); // really bad!\n",
    "\n",
    "//AssertSlope(multiplotsRtime[0,0], Poisson,  OrmgPmg, 1.1,  \"k=2\");\n",
    "//AssertSlope(multiplotsRtime[0,0], XPoisson, OrmgPmg, 1.1, \"k=2\");\n",
    "////AssertSlope(multiplotsRtime[0,1], Stokes2D, OrmgPmg, 1.4, \"k=2\");\n",
    "////AssertSlope(multiplotsRtime[0,1], XStokes,  OrmgPmg, 1.0,  \"k=2\"); // currently NAN"
   ]
  },
  {
   "cell_type": "code",
   "execution_count": null,
   "metadata": {
    "vscode": {
     "languageId": "csharp"
    }
   },
   "outputs": [],
   "source": [
    "AssertSlope(multiplotsRtime[1,0], Poisson, GmrsP2g, 1.11, \"k=3\");\n",
    "AssertSlope(multiplotsRtime[0,0], XPoisson, GmrsP2g, 1.0,  \"k=3\");\n",
    "AssertSlope(multiplotsRtime[0,1], Stokes2D, GmrsP2g, 1.0,  \"k=3\");\n",
    "AssertSlope(multiplotsRtime[0,1], XStokes,  GmrsP2g, 1.5,  \"k=3\");\n",
    "\n",
    "AssertSlope(multiplotsRtime[0,0], Poisson,  OrmgSwz, 1.2,  \"k=3\");\n",
    "AssertSlope(multiplotsRtime[0,0], XPoisson, OrmgSwz, 1.0,  \"k=3\");\n",
    "AssertSlope(multiplotsRtime[0,1], Stokes2D, OrmgSwz, 1.2,  \"k=3\");\n",
    "AssertSlope(multiplotsRtime[0,1], XStokes,  OrmgSwz, 1.7,  \"k=3\"); // really bad!\n",
    "\n",
    "//AssertSlope(multiplotsRtime[0,0], Poisson,  OrmgPmg, 1.1,  \"k=3\");\n",
    "//AssertSlope(multiplotsRtime[0,0], XPoisson, OrmgPmg, 1.1, \"k=3\");\n",
    "////AssertSlope(multiplotsRtime[0,1], Stokes2D, OrmgPmg, 1.4, \"k=3\"); // not really good\n",
    "////AssertSlope(multiplotsRtime[0,1], XStokes,  OrmgPmg, 1.0,  \"k=3\"); // currently NAN"
   ]
  },
  {
   "cell_type": "code",
   "execution_count": null,
   "metadata": {
    "vscode": {
     "languageId": "csharp"
    }
   },
   "outputs": [],
   "source": [
    "AssertSlope(multiplotsRtime[2,0], Poisson, GmrsP2g, 1.1, \"k=5\");\n",
    "AssertSlope(multiplotsRtime[0,0], XPoisson, GmrsP2g, 1.0,  \"k=5\");\n",
    "AssertSlope(multiplotsRtime[0,1], Stokes2D, GmrsP2g, 1.0,  \"k=5\");\n",
    "//AssertSlope(multiplotsRtime[0,1], XStokes,  GmrsP2g, 1.4,  \"k=5\");\n",
    "\n",
    "AssertSlope(multiplotsRtime[0,0], Poisson,  OrmgSwz, 1.1,  \"k=5\");\n",
    "AssertSlope(multiplotsRtime[0,0], XPoisson, OrmgSwz, 1.0,  \"k=5\");\n",
    "AssertSlope(multiplotsRtime[0,1], Stokes2D, OrmgSwz, 1.2,  \"k=5\");\n",
    "//AssertSlope(multiplotsRtime[0,1], XStokes,  OrmgSwz, 1.7,  \"k=5\"); // currently NAN\n",
    "\n",
    "//AssertSlope(multiplotsRtime[0,0], Poisson,  OrmgPmg, 1.1, \"k=5\");\n",
    "//AssertSlope(multiplotsRtime[0,0], XPoisson, OrmgPmg, 1.1, \"k=5\");\n",
    "////AssertSlope(multiplotsRtime[0,1], Stokes2D, OrmgPmg, 1.4, \"k=5\"); // not really good\n",
    "////AssertSlope(multiplotsRtime[0,1], XStokes,  OrmgPmg, 1.0,  \"k=5\"); // currently NAN"
   ]
  },
  {
   "cell_type": "markdown",
   "metadata": {},
   "source": [
    "### Number of Iterations\n",
    "\n",
    "For the iterative solvers, obe would expect **almost constant number of solver iterations**, \n",
    "independent of grid resolution. It may, however depend in nonlinar fashion on the DG polynomial order."
   ]
  },
  {
   "cell_type": "code",
   "execution_count": null,
   "metadata": {
    "dotnet_interactive": {
     "language": "csharp"
    },
    "vscode": {
     "languageId": "dotnet-interactive.csharp"
    }
   },
   "outputs": [],
   "source": [
    "var multiplotsIter = PlotSolverBehave(\"NoIter\", false, 0, 155, -50);\n",
    "//multiplots.PlotCairolatex().WriteMinimalCompileableExample(\"latex/solvers.tex\");\n",
    "//multiplots.AddDummyPlotsForLegend(3,0);\n",
    "multiplotsIter.ToGnuplot().PlotSVG(xRes:800,yRes:1200)"
   ]
  },
  {
   "cell_type": "markdown",
   "metadata": {},
   "source": [
    "The following function will later be used to check the regression solpe of runtimes\n",
    "(ideally, one expects constant number of iterations of a multigrid-solver with respect to degrees-of-freedom):"
   ]
  },
  {
   "cell_type": "code",
   "execution_count": null,
   "metadata": {
    "dotnet_interactive": {
     "language": "csharp"
    },
    "vscode": {
     "languageId": "dotnet-interactive.csharp"
    }
   },
   "outputs": [],
   "source": [
    "void AssertLimit(Plot2Ddata plot, string caseName, string solverName, double allowedLimit, string info) {\n",
    "    var max = plot.dataGroups.Single(tt =>  tt.Name.Contains(caseName) && tt.Name.Contains(solverName)).Values.Max();\n",
    "    Console.WriteLine($\"Maximum {solverName}/{info} for {caseName} is \" + max);\n",
    "    NUnit.Framework.Assert.LessOrEqual(\n",
    "      max,\n",
    "      allowedLimit,\n",
    "      $\"{solverName}/{info} maximum for {caseName} exceeds limit\");\n",
    "}\n"
   ]
  },
  {
   "cell_type": "code",
   "execution_count": null,
   "metadata": {
    "dotnet_interactive": {
     "language": "csharp"
    },
    "vscode": {
     "languageId": "dotnet-interactive.csharp"
    }
   },
   "outputs": [],
   "source": [
    "multiplotsIter[0,0].dataGroups"
   ]
  },
  {
   "cell_type": "code",
   "execution_count": null,
   "metadata": {
    "dotnet_interactive": {
     "language": "csharp"
    },
    "vscode": {
     "languageId": "dotnet-interactive.csharp"
    }
   },
   "outputs": [],
   "source": [
    "multiplotsIter[0,1].dataGroups"
   ]
  },
  {
   "cell_type": "code",
   "execution_count": null,
   "metadata": {
    "dotnet_interactive": {
     "language": "csharp"
    },
    "vscode": {
     "languageId": "dotnet-interactive.csharp"
    }
   },
   "outputs": [],
   "source": [
    "AssertLimit(multiplotsIter[0,0], Poisson,  GmrsP2g, 130, \"k=2\");\n",
    "AssertLimit(multiplotsIter[0,0], XPoisson, GmrsP2g, 70, \"k=2\");\n",
    "AssertLimit(multiplotsIter[0,1], Stokes2D, GmrsP2g, 80, \"k=2\");\n",
    "\n",
    "AssertLimit(multiplotsIter[0,0], Poisson,  OrmgSwz, 10, \"k=2\");\n",
    "AssertLimit(multiplotsIter[0,0], XPoisson, OrmgSwz, 10, \"k=2\");\n",
    "AssertLimit(multiplotsIter[0,1], Stokes2D, OrmgSwz, 25, \"k=2\");  // not working yet\n",
    "AssertLimit(multiplotsIter[0,1], XStokes,  OrmgSwz, 70, \"k=2\"); // not working yet\n",
    "\n",
    "//AssertLimit(multiplotsIter[0,0], Poisson,  OrmgPmg, 35, \"k=2\");\n",
    "//AssertLimit(multiplotsIter[0,0], XPoisson, OrmgPmg, 60, \"k=2\"); // not really ideal\n",
    "//AssertLimit(multiplotsIter[0,1], Stokes2D, OrmgPmg, 80, \"k=2\");  // not working yet\n",
    "//AssertLimit(multiplotsIter[0,1], XStokes,  OrmgPmg, 130, \"k=2\"); // not working yet\n",
    "\n",
    "AssertLimit(multiplotsIter[0,0], Poisson,  Pardiso, 1, \"k=2\");\n",
    "AssertLimit(multiplotsIter[0,0], XPoisson, Pardiso, 1, \"k=2\");\n",
    "AssertLimit(multiplotsIter[0,1], Stokes2D, Pardiso, 1, \"k=2\"); \n",
    "AssertLimit(multiplotsIter[0,1], XStokes,  Pardiso, 1, \"k=2\");"
   ]
  },
  {
   "cell_type": "code",
   "execution_count": null,
   "metadata": {
    "dotnet_interactive": {
     "language": "csharp"
    },
    "vscode": {
     "languageId": "dotnet-interactive.csharp"
    }
   },
   "outputs": [],
   "source": [
    "multiplotsIter[1,0].dataGroups"
   ]
  },
  {
   "cell_type": "code",
   "execution_count": null,
   "metadata": {
    "dotnet_interactive": {
     "language": "csharp"
    },
    "vscode": {
     "languageId": "dotnet-interactive.csharp"
    }
   },
   "outputs": [],
   "source": [
    "multiplotsIter[1,1].dataGroups"
   ]
  },
  {
   "cell_type": "code",
   "execution_count": null,
   "metadata": {
    "dotnet_interactive": {
     "language": "csharp"
    },
    "vscode": {
     "languageId": "dotnet-interactive.csharp"
    }
   },
   "outputs": [],
   "source": [
    "AssertLimit(multiplotsIter[1,0], Poisson,  GmrsP2g, 150, \"k=3\");  // not really ideal\n",
    "AssertLimit(multiplotsIter[1,0], XPoisson, GmrsP2g, 120, \"k=3\");\n",
    "AssertLimit(multiplotsIter[1,1], Stokes2D, GmrsP2g, 230, \"k=3\"); // not really ideal\n",
    "\n",
    "AssertLimit(multiplotsIter[1,0], Poisson,  OrmgSwz, 15, \"k=3\");\n",
    "AssertLimit(multiplotsIter[1,0], XPoisson, OrmgSwz, 15, \"k=3\");\n",
    "AssertLimit(multiplotsIter[1,1], Stokes2D, OrmgSwz, 15, \"k=3\");  // not working yet\n",
    "AssertLimit(multiplotsIter[1,1], XStokes,  OrmgSwz, 70, \"k=3\"); // slightly improved\n",
    "\n",
    "//AssertLimit(multiplotsIter[1,0], Poisson,  OrmgPmg, 10, \"k=3\");\n",
    "//AssertLimit(multiplotsIter[1,0], XPoisson, OrmgPmg, 20, \"k=3\");\n",
    "//AssertLimit(multiplotsIter[1,1], Stokes2D, OrmgPmg, 25, \"k=3\");\n",
    "////AssertLimit(multiplotsIter[1,1], XStokes,  OrmgPmg, 1, \"k=3\"); // not working\n",
    "\n",
    "AssertLimit(multiplotsIter[1,0], Poisson,  Pardiso, 1, \"k=3\");\n",
    "AssertLimit(multiplotsIter[1,0], XPoisson, Pardiso, 1, \"k=3\");\n",
    "AssertLimit(multiplotsIter[1,1], Stokes2D, Pardiso, 1, \"k=3\"); \n",
    "AssertLimit(multiplotsIter[1,1], XStokes,  Pardiso, 1, \"k=3\");"
   ]
  },
  {
   "cell_type": "code",
   "execution_count": null,
   "metadata": {
    "dotnet_interactive": {
     "language": "csharp"
    },
    "vscode": {
     "languageId": "dotnet-interactive.csharp"
    }
   },
   "outputs": [],
   "source": [
    "multiplotsIter[2,0].dataGroups"
   ]
  },
  {
   "cell_type": "code",
   "execution_count": null,
   "metadata": {
    "dotnet_interactive": {
     "language": "csharp"
    },
    "vscode": {
     "languageId": "dotnet-interactive.csharp"
    }
   },
   "outputs": [],
   "source": [
    "multiplotsIter[2,1].dataGroups"
   ]
  },
  {
   "cell_type": "code",
   "execution_count": null,
   "metadata": {
    "dotnet_interactive": {
     "language": "csharp"
    },
    "vscode": {
     "languageId": "dotnet-interactive.csharp"
    }
   },
   "outputs": [],
   "source": [
    "AssertLimit(multiplotsIter[2,0], Poisson,  GmrsP2g, 200, \"k=5\");\n",
    "AssertLimit(multiplotsIter[2,0], XPoisson, GmrsP2g, 200, \"k=5\");\n",
    "//AssertLimit(multiplotsIter[2,1], Stokes2D, GmrsP2g, 230, \"k=5\");  // not working yet\n",
    "\n",
    "AssertLimit(multiplotsIter[2,0], Poisson,  OrmgSwz, 8, \"k=5\");\n",
    "AssertLimit(multiplotsIter[2,0], XPoisson, OrmgSwz, 8, \"k=5\");\n",
    "AssertLimit(multiplotsIter[2,1], Stokes2D, OrmgSwz, 15, \"k=5\"); \n",
    "AssertLimit(multiplotsIter[2,1], XStokes,  OrmgSwz, 20, \"k=5\"); // not working yet\n",
    "\n",
    "//AssertLimit(multiplotsIter[2,0], Poisson,  OrmgPmg, 10, \"k=5\");\n",
    "//AssertLimit(multiplotsIter[2,0], XPoisson, OrmgPmg, 49, \"k=5\");\n",
    "//AssertLimit(multiplotsIter[2,1], Stokes2D, OrmgPmg, 20, \"k=5\");\n",
    "////AssertLimit(multiplotsIter[2,1], XStokes,  OrmgPmg, 1, \"k=5\"); // not working\n",
    "\n",
    "AssertLimit(multiplotsIter[2,0], Poisson,  Pardiso, 1, \"k=5\");\n",
    "AssertLimit(multiplotsIter[2,0], XPoisson, Pardiso, 1, \"k=5\");\n",
    "AssertLimit(multiplotsIter[2,1], Stokes2D, Pardiso, 1, \"k=5\"); \n",
    "//AssertLimit(multiplotsIter[2,1], XStokes,  Pardiso, 1, \"k=5\");"
   ]
  },
  {
   "cell_type": "markdown",
   "metadata": {},
   "source": [
    "### Runtime per Iteration\n",
    "\n",
    "One would expect **linear scaling** with grid resolution; it may scale nonlinear with DG polynomial order."
   ]
  },
  {
   "cell_type": "code",
   "execution_count": null,
   "metadata": {
    "dotnet_interactive": {
     "language": "csharp"
    },
    "vscode": {
     "languageId": "dotnet-interactive.csharp"
    }
   },
   "outputs": [],
   "source": [
    "var multiplotsTimePerIter = PlotSolverBehave(\"Solver_TimePerIter\", true, 1e-2, 1e+6, 1e-3);\n",
    "//multiplots.PlotCairolatex().WriteMinimalCompileableExample(\"latex/solvers.tex\");\n",
    "//multiplots.AddDummyPlotsForLegend(3,0);\n",
    "multiplotsTimePerIter.ToGnuplot().PlotSVG(xRes:800,yRes:1200)"
   ]
  },
  {
   "cell_type": "code",
   "execution_count": null,
   "metadata": {
    "dotnet_interactive": {
     "language": "csharp"
    },
    "vscode": {
     "languageId": "dotnet-interactive.csharp"
    }
   },
   "outputs": [],
   "source": [
    "multiplotsTimePerIter[0,0].Regression()"
   ]
  },
  {
   "cell_type": "code",
   "execution_count": null,
   "metadata": {
    "dotnet_interactive": {
     "language": "csharp"
    },
    "vscode": {
     "languageId": "dotnet-interactive.csharp"
    }
   },
   "outputs": [],
   "source": [
    "multiplotsTimePerIter[0,1].Regression()"
   ]
  },
  {
   "cell_type": "code",
   "execution_count": null,
   "metadata": {
    "dotnet_interactive": {
     "language": "csharp"
    },
    "vscode": {
     "languageId": "dotnet-interactive.csharp"
    }
   },
   "outputs": [],
   "source": [
    "multiplotsTimePerIter[1,0].Regression()"
   ]
  },
  {
   "cell_type": "code",
   "execution_count": null,
   "metadata": {
    "dotnet_interactive": {
     "language": "csharp"
    },
    "vscode": {
     "languageId": "dotnet-interactive.csharp"
    }
   },
   "outputs": [],
   "source": [
    "multiplotsTimePerIter[1,1].Regression()"
   ]
  },
  {
   "cell_type": "code",
   "execution_count": null,
   "metadata": {
    "dotnet_interactive": {
     "language": "csharp"
    },
    "vscode": {
     "languageId": "dotnet-interactive.csharp"
    }
   },
   "outputs": [],
   "source": [
    "multiplotsTimePerIter[2,0].Regression()"
   ]
  },
  {
   "cell_type": "code",
   "execution_count": null,
   "metadata": {
    "dotnet_interactive": {
     "language": "csharp"
    },
    "vscode": {
     "languageId": "dotnet-interactive.csharp"
    }
   },
   "outputs": [],
   "source": [
    "multiplotsTimePerIter[2,1].Regression()"
   ]
  },
  {
   "cell_type": "code",
   "execution_count": null,
   "metadata": {
    "dotnet_interactive": {
     "language": "csharp"
    },
    "vscode": {
     "languageId": "dotnet-interactive.csharp"
    }
   },
   "outputs": [],
   "source": [
    "AssertSlope(multiplotsTimePerIter[0,0], Poisson, GmrsP2g, 1.1, \"k=2\");\n",
    "AssertSlope(multiplotsTimePerIter[1,0], Poisson, GmrsP2g, 1.1, \"k=3\");\n",
    "AssertSlope(multiplotsTimePerIter[2,0], Poisson, GmrsP2g, 1.1, \"k=5\");"
   ]
  },
  {
   "cell_type": "markdown",
   "metadata": {},
   "source": [
    "## Appendix: Table Form of Extracted Data"
   ]
  },
  {
   "cell_type": "code",
   "execution_count": null,
   "metadata": {
    "dotnet_interactive": {
     "language": "csharp"
    },
    "vscode": {
     "languageId": "dotnet-interactive.csharp"
    }
   },
   "outputs": [],
   "source": [
    "SubTab.Print()"
   ]
  },
  {
   "cell_type": "code",
   "execution_count": null,
   "metadata": {
    "dotnet_interactive": {
     "language": "csharp"
    },
    "vscode": {
     "languageId": "dotnet-interactive.csharp"
    }
   },
   "outputs": [],
   "source": []
  }
 ],
 "metadata": {
  "kernelspec": {
   "display_name": ".NET (C#)",
   "language": "C#",
   "name": ".net-csharp"
  },
  "language_info": {
   "file_extension": ".cs",
   "mimetype": "text/x-csharp",
   "name": "C#",
   "pygments_lexer": "csharp",
   "version": "10.0"
  }
 },
 "nbformat": 4,
 "nbformat_minor": 4
}

{
 "cells": [
  {
   "cell_type": "markdown",
   "source": [
    "# What's new\r\n",
    "\r\n",
    "- implementing the Lax-Friedrichs flux\r\n",
    "- computation of \"experimental order of convergence\" (EOC)\r\n",
    "\r\n",
    "\r\n",
    "# Prerequisites\r\n",
    "\r\n",
    "- definition of fluxes, -> chapter  **DifferentialOperator**\r\n",
    "- grid generation, -> chapter  **GridInstantiation**\r\n",
    "- basics of convergence studies, -> chapter  **GridInstantiation**\r\n",
    "\r\n",
    "Within this tutorial the Lax-Friedrichs flux will be implemented as an alternative to the Upwind flux (see chapter **DifferentialOperator**). \r\n",
    " For both fluxes a convergence study will be performed and the \"experimental order of convergence\" (EOC) will be computed. \r\n",
    "For the implementation of the Lax-Friedrichs flux and the Upwind flux it is recommended to work through chapter **DifferentialOperator** first \r\n",
    " as the definition of fluxes is explained there in more detail. For the second part of the tutorial, \r\n",
    " chapter **GridInstantiation** has already taught the basics of doing a convergence study.\r\n",
    "\r\n",
    "# 1 Problem statement\r\n",
    "\r\n",
    "As an examplary problem, we consider the scalar transport equation\r\n",
    ">$$\r\n",
    ">\\frac{\\delta c}{\\delta t} + \\nabla \\cdot (\\vec{u} c) = 0\r\n",
    ">$$\r\n",
    "in the domain $\\Omega = [-1, 1] \\times [-1, 1]$, where the concentration $c = c(x,y,t) \\in \\mathbb{R}$ is unknown and the velocity field is given by\r\n",
    ">$$\r\n",
    ">\\vec{u} = \\begin{pmatrix}\r\n",
    ">y\\\\-x\r\n",
    ">\\end{pmatrix}\r\n",
    ">$$\r\n",
    "The analytical solution for the problem above is given by \r\n",
    ">$$\r\n",
    ">c_\\text{Exact}(x,y,t) = \\cos(\\cos(t) x - \\sin(t) y) \\quad \\text{ for } (x,y) \\in \\Omega,\r\n",
    ">$$\r\n",
    "which can be used to describe the initial and boundary conditions. \r\n",
    "\r\n",
    "# 2 Solution within the BoSSS Framework"
   ],
   "metadata": {
    "dotnet_interactive": {
     "language": "csharp"
    }
   }
  },
  {
   "cell_type": "code",
   "execution_count": null,
   "source": [
    "#r \"BoSSSpad.dll\"\r\n",
    "using System;\r\n",
    "using System.Collections.Generic;\r\n",
    "using System.Linq;\r\n",
    "using ilPSP;\r\n",
    "using ilPSP.Utils;\r\n",
    "using BoSSS.Platform;\r\n",
    "using BoSSS.Foundation;\r\n",
    "using BoSSS.Foundation.Grid;\r\n",
    "using BoSSS.Foundation.Grid.Classic;\r\n",
    "using BoSSS.Foundation.IO;\r\n",
    "using BoSSS.Solution;\r\n",
    "using BoSSS.Solution.Control;\r\n",
    "using BoSSS.Solution.GridImport;\r\n",
    "using BoSSS.Solution.Statistic;\r\n",
    "using BoSSS.Solution.Utils;\r\n",
    "using BoSSS.Solution.Gnuplot;\r\n",
    "using BoSSS.Application.BoSSSpad;\r\n",
    "using BoSSS.Application.XNSE_Solver;\r\n",
    "using static BoSSS.Application.BoSSSpad.BoSSSshell;\r\n",
    "Init();\r\n"
   ],
   "outputs": [],
   "metadata": {
    "dotnet_interactive": {
     "language": "csharp"
    }
   }
  },
  {
   "cell_type": "markdown",
   "source": [
    "First, we define functions for the given velocity field and the exact solution"
   ],
   "metadata": {
    "dotnet_interactive": {
     "language": "csharp"
    }
   }
  },
  {
   "cell_type": "code",
   "execution_count": null,
   "source": [
    "public static class MyGlobals {\r\n",
    "    public static double u(double[] X) => X[1];\r\n",
    "    public static double v(double[] X) => -X[0];\r\n",
    "    public static double cExact(double[] X, double t) => Math.Cos(Math.Cos(t)*X[0] - Math.Sin(t)*X[1]);\r\n",
    "}"
   ],
   "outputs": [],
   "metadata": {
    "dotnet_interactive": {
     "language": "csharp"
    }
   }
  },
  {
   "cell_type": "markdown",
   "source": [
    "# 2 Definition of the numerical fluxes# \r\n",
    "\r\n",
    "Before implementing the **ScalarTransportFlux** as done in Tutorial 4, we define both fluxes \r\n",
    "as functions in terms of the parameters **Uin**, **Uout**, the normal vector **n** and the\r\n",
    "**velocityVector**. Recalling the Upwind flux, the corresponding flux function is defined as"
   ],
   "metadata": {
    "dotnet_interactive": {
     "language": "csharp"
    }
   }
  },
  {
   "cell_type": "code",
   "execution_count": null,
   "source": [
    "using BoSSS.Platform.LinAlg;\r\n",
    "\r\n",
    "Func<double, double, Vector, Vector, double> upwindFlux =     \r\n",
    "    delegate(double Uin, double Uout, Vector n, Vector velocityVector) {     \r\n",
    " \r\n",
    "        if (velocityVector * n > 0) {     \r\n",
    "            return (velocityVector * Uin) * n;     \r\n",
    "        } else {     \r\n",
    "           return (velocityVector * Uout) * n;     \r\n",
    "        }     \r\n",
    "    };"
   ],
   "outputs": [],
   "metadata": {
    "dotnet_interactive": {
     "language": "csharp"
    }
   }
  },
  {
   "cell_type": "markdown",
   "source": [
    "The second flux we are considering now, is the Lax-Friedrichs flux\r\n",
    "$$\r\n",
    "\\hat{f}(c_h^-, c_h^+, \\vec{u} \\cdot \\vec{n}) = \\overline{\\vec{u} \\, c_h} \\cdot \\vec{n} + \\frac{C}{2} \\lbrack \\lbrack {c_h} \\rbrack \\rbrack.\r\n",
    "$$\r\n",
    "The constant $C \\in \\mathbb{R}^+$ has to be sufficiently large in order to guarantee the stability of the \r\n",
    "numerical scheme. We choose \r\n",
    "$$\r\n",
    "C = \\max \\vert{\\vec{u} \\cdot \\vec{n}}\\vert = 1\r\n",
    "$$\r\n",
    "for the given problem."
   ],
   "metadata": {
    "dotnet_interactive": {
     "language": "csharp"
    }
   }
  },
  {
   "cell_type": "code",
   "execution_count": null,
   "source": [
    "double C = 0.3;     \r\n",
    " \r\n",
    "Func<double, double, Vector, Vector, double> laxFriedrichsFlux =     \r\n",
    "    delegate(double Uin, double Uout, Vector n, Vector velocityVector) {     \r\n",
    " \r\n",
    "        return 0.5 * (Uin + Uout) * velocityVector * n - C * (Uout - Uin);     \r\n",
    "    };"
   ],
   "outputs": [],
   "metadata": {
    "dotnet_interactive": {
     "language": "csharp"
    }
   }
  },
  {
   "cell_type": "markdown",
   "source": [
    "For the implementation of the **ScalarTransportFlux** we want to generate \r\n",
    "instances by the definition of the **numericalFlux**. \r\n",
    "\r\n",
    "Therefore a new constructor is implemented \r\n",
    "and the implementation of **InnerEdgeFlux** is rewritten in terms of the **numericalFlux**."
   ],
   "metadata": {}
  },
  {
   "cell_type": "code",
   "execution_count": null,
   "source": [
    "\r\n",
    "class ScalarTransportFlux : NonlinearFlux {     \r\n",
    " \r\n",
    "    private Func<double, double, Vector, Vector, double> numericalFlux;     \r\n",
    " \r\n",
    "    // Provides instances of this class with a specific flux implementation     \r\n",
    "    public ScalarTransportFlux(     \r\n",
    "        Func<double, double, Vector, Vector, double> numericalFlux) {     \r\n",
    " \r\n",
    "        this.numericalFlux = numericalFlux;     \r\n",
    "    }     \r\n",
    " \r\n",
    "    public override IList<string> ArgumentOrdering {     \r\n",
    "        get { return new string[] { \"ch\" }; }     \r\n",
    "    }     \r\n",
    " \r\n",
    "    protected override void Flux(     \r\n",
    "        double time, double[] x, double[] U, double[] output) {     \r\n",
    " \r\n",
    "        output[0] = MyGlobals.u(x) * U[0];     \r\n",
    "        output[1] = MyGlobals.v(x) * U[0];     \r\n",
    "    }     \r\n",
    " \r\n",
    "    // Makes use of the flux implementation supplied in the constructor     \r\n",
    "    protected override double InnerEdgeFlux(     \r\n",
    "        double time, double[] x, double[] normal,      \r\n",
    "        double[] Uin, double[] Uout, int jEdge) {     \r\n",
    " \r\n",
    "        Vector n              = new Vector(normal);     \r\n",
    "        Vector velocityVector = new Vector(MyGlobals.u(x), MyGlobals.v(x));     \r\n",
    " \r\n",
    "        return numericalFlux(Uin[0], Uout[0], n, velocityVector);     \r\n",
    "    }     \r\n",
    " \r\n",
    "    protected override double BorderEdgeFlux(     \r\n",
    "        double time, double[] x, double[] normal, byte EdgeTag,     \r\n",
    "        double[] Uin, int jEdge) {     \r\n",
    " \r\n",
    "        double[] Uout = new double[] { MyGlobals.cExact(x, time) };     \r\n",
    " \r\n",
    "        return InnerEdgeFlux(time, x, normal, Uin, Uout, jEdge);     \r\n",
    "    }     \r\n",
    "}"
   ],
   "outputs": [],
   "metadata": {
    "dotnet_interactive": {
     "language": "csharp"
    }
   }
  },
  {
   "cell_type": "markdown",
   "source": [
    "For both numerical fluxes we define a **DifferentialOperator** that uses the corresponding flux to compute div(...)"
   ],
   "metadata": {
    "dotnet_interactive": {
     "language": "csharp"
    }
   }
  },
  {
   "cell_type": "code",
   "execution_count": null,
   "source": [
    "var upwindOperator = new DifferentialOperator(     \r\n",
    "    new string[] { \"ch\" },     \r\n",
    "    new string[] { \"div\" },     \r\n",
    "    QuadOrderFunc.NonLinear(2));"
   ],
   "outputs": [],
   "metadata": {
    "dotnet_interactive": {
     "language": "csharp"
    }
   }
  },
  {
   "cell_type": "code",
   "execution_count": null,
   "source": [
    "upwindOperator.EquationComponents[\"div\"].Add(     \r\n",
    "    new ScalarTransportFlux(upwindFlux));"
   ],
   "outputs": [],
   "metadata": {
    "dotnet_interactive": {
     "language": "csharp"
    }
   }
  },
  {
   "cell_type": "code",
   "execution_count": null,
   "source": [
    "upwindOperator.Commit();"
   ],
   "outputs": [],
   "metadata": {
    "dotnet_interactive": {
     "language": "csharp"
    }
   }
  },
  {
   "cell_type": "code",
   "execution_count": null,
   "source": [
    "var laxFriedrichsOperator = new DifferentialOperator(     \r\n",
    "    new string[] { \"ch\" },     \r\n",
    "    new string[] { \"div\" },     \r\n",
    "    QuadOrderFunc.NonLinear(2));"
   ],
   "outputs": [],
   "metadata": {
    "dotnet_interactive": {
     "language": "csharp"
    }
   }
  },
  {
   "cell_type": "code",
   "execution_count": null,
   "source": [
    "laxFriedrichsOperator.EquationComponents[\"div\"].Add(     \r\n",
    "    new ScalarTransportFlux(laxFriedrichsFlux));"
   ],
   "outputs": [],
   "metadata": {
    "dotnet_interactive": {
     "language": "csharp"
    }
   }
  },
  {
   "cell_type": "code",
   "execution_count": null,
   "source": [
    "laxFriedrichsOperator.Commit();"
   ],
   "outputs": [],
   "metadata": {
    "dotnet_interactive": {
     "language": "csharp"
    }
   }
  },
  {
   "cell_type": "markdown",
   "source": [
    "\r\n",
    "# 3 Convergence study\r\n",
    "\r\n",
    "In the following a convergence study for the discretization error will be performed on grids \r\n",
    "with $2\\times2$, $4\\times4$, $8\\times8$ and $16\\times16$ cells.\r\n",
    "\r\n",
    "The error at $t = \\pi /4$\r\n",
    "will be investigated for the polynomial degrees $p = 0, \\ldots, 3$ of the ansatzfunctions. \r\n",
    "\r\n",
    "The study will be done for both numerical fluxes.\r\n",
    "\r\n",
    "We start by defining a series of nested grids for the convergence study\r\n"
   ],
   "metadata": {
    "dotnet_interactive": {
     "language": "csharp"
    }
   }
  },
  {
   "cell_type": "code",
   "execution_count": null,
   "source": [
    "int[] numbersOfCells = new int[] { 2, 4, 8, 16 };"
   ],
   "outputs": [],
   "metadata": {
    "dotnet_interactive": {
     "language": "csharp"
    }
   }
  },
  {
   "cell_type": "code",
   "execution_count": null,
   "source": [
    "GridData[] grids = new GridData[numbersOfCells.Length];"
   ],
   "outputs": [],
   "metadata": {
    "dotnet_interactive": {
     "language": "csharp"
    }
   }
  },
  {
   "cell_type": "code",
   "execution_count": null,
   "source": [
    "for (int i = 0; i < numbersOfCells.Length; i++) {     \r\n",
    " \r\n",
    "    double[] nodes = GenericBlas.Linspace(-1.0, 1.0, numbersOfCells[i] + 1);     \r\n",
    " \r\n",
    "    GridCommons grid = Grid2D.Cartesian2DGrid(nodes, nodes);     \r\n",
    " \r\n",
    "    grids[i] = new GridData(grid);     \r\n",
    "}"
   ],
   "outputs": [],
   "metadata": {
    "dotnet_interactive": {
     "language": "csharp"
    }
   }
  },
  {
   "cell_type": "markdown",
   "source": [
    "Then, a **SinglePhaseField** is defined for each polynomial degree on each grid.\r\n",
    "The initial value is projected on each field."
   ],
   "metadata": {
    "dotnet_interactive": {
     "language": "csharp"
    }
   }
  },
  {
   "cell_type": "code",
   "execution_count": null,
   "source": [
    "int[] dgDegrees = new int[] { 0, 1, 2, 3 };"
   ],
   "outputs": [],
   "metadata": {
    "dotnet_interactive": {
     "language": "csharp"
    }
   }
  },
  {
   "cell_type": "code",
   "execution_count": null,
   "source": [
    "SinglePhaseField[,] fields =      \r\n",
    "    new SinglePhaseField[dgDegrees.Length, numbersOfCells.Length];"
   ],
   "outputs": [],
   "metadata": {
    "dotnet_interactive": {
     "language": "csharp"
    }
   }
  },
  {
   "cell_type": "code",
   "execution_count": null,
   "source": [
    "for (int i = 0; i < dgDegrees.Length; i++) {     \r\n",
    "    for (int j = 0; j < numbersOfCells.Length; j++) {     \r\n",
    " \r\n",
    "        Basis basis = new Basis(grids[j], dgDegrees[i]);     \r\n",
    "        fields[i, j] = new SinglePhaseField(     \r\n",
    "                              basis, \"ch_\" + dgDegrees[i] + \"_\" + grids[j]);     \r\n",
    "        fields[i, j].ProjectField(X => MyGlobals.cExact(X, 0.0));     \r\n",
    "    }     \r\n",
    "}"
   ],
   "outputs": [],
   "metadata": {
    "dotnet_interactive": {
     "language": "csharp"
    }
   }
  },
  {
   "cell_type": "markdown",
   "source": [
    "Since the error at a fourth revolution is considered, the initial concentration has to be simulated until \r\n",
    "$\\textbf{endTime} = \\pi / 4$. For the timestepping we are using the classical fourth order Runge-Kutta scheme. \r\n",
    "\r\n",
    "The timestep size should be chosen small enough in order to reduce the **temporal** error,\r\n",
    "so that the **spatial** error dominates for the convergence study."
   ],
   "metadata": {}
  },
  {
   "cell_type": "code",
   "execution_count": null,
   "source": [
    "using BoSSS.Solution.Timestepping;"
   ],
   "outputs": [],
   "metadata": {
    "dotnet_interactive": {
     "language": "csharp"
    }
   }
  },
  {
   "cell_type": "code",
   "execution_count": null,
   "source": [
    "double endTime        = Math.PI / 4.0;     \r\n",
    "int numberOfTimesteps = 100;     \r\n",
    "double dt             = endTime / numberOfTimesteps;"
   ],
   "outputs": [],
   "metadata": {
    "dotnet_interactive": {
     "language": "csharp"
    }
   }
  },
  {
   "cell_type": "markdown",
   "source": [
    "A **MultidimensionalArray** is a special double array that enables **shallow** resizing and data\r\n",
    "extraction. For example, sub-arrays can be extracted without needing to copy the entries of\r\n",
    "the **MultidimensionalArray**. BoSSS makes extensive use of this class because this is crucial\r\n",
    "for the performance.\r\n",
    "Here, we create a three-dimensional array, where the first index corresponds to the flux\r\n",
    "function, the second to the DG degree and the third to the number of cells."
   ],
   "metadata": {}
  },
  {
   "cell_type": "code",
   "execution_count": null,
   "source": [
    "\r\n",
    "MultidimensionalArray errors =      \r\n",
    "    MultidimensionalArray.Create(2, dgDegrees.Length, grids.Length);"
   ],
   "outputs": [],
   "metadata": {
    "dotnet_interactive": {
     "language": "csharp"
    }
   }
  },
  {
   "cell_type": "code",
   "execution_count": null,
   "source": [
    "for (int i = 0; i < dgDegrees.Length; i++) {     \r\n",
    "    for (int j = 0; j < numbersOfCells.Length; j++) {     \r\n",
    " \r\n",
    "        // Clones an object and casts it to the type of the original object  \r\n",
    "        // at the same time.  \r\n",
    "        SinglePhaseField c = fields[i, j].CloneAs();     \r\n",
    " \r\n",
    "        // Instantiate the timestepper (classical Runge-Kutta scheme)     \r\n",
    "        // for the evolution of the concentration c with Upwind flux     \r\n",
    "        RungeKutta timeStepper = new RungeKutta(     \r\n",
    "            RungeKutta.RungeKuttaSchemes.RungeKutta1901,     \r\n",
    "            upwindOperator, c);     \r\n",
    " \r\n",
    "        // Integrate in time for each timestep     \r\n",
    "        for (int k = 0; k < numberOfTimesteps; k++) {     \r\n",
    "            timeStepper.Perform(dt);     \r\n",
    "        }     \r\n",
    " \r\n",
    "        // Compute the error w.r.t. analytical solution     \r\n",
    "        errors[0, i, j] = c.L2Error(X => MyGlobals.cExact(X, endTime));     \r\n",
    " \r\n",
    "        // Simulate with the Lax-Friedrichs flux     \r\n",
    "        c = fields[i, j].CloneAs();     \r\n",
    "        timeStepper = new RungeKutta(     \r\n",
    "                             RungeKutta.RungeKuttaSchemes.RungeKutta1901,      \r\n",
    "                             laxFriedrichsOperator, c);     \r\n",
    "        for (int k = 0; k < numberOfTimesteps; k++) {     \r\n",
    "            timeStepper.Perform(dt);     \r\n",
    "        }     \r\n",
    "        errors[1, i, j] = c.L2Error(X => MyGlobals.cExact(X, endTime));     \r\n",
    "    }     \r\n",
    "}"
   ],
   "outputs": [],
   "metadata": {
    "dotnet_interactive": {
     "language": "csharp"
    }
   }
  },
  {
   "cell_type": "markdown",
   "source": [
    "\r\n",
    "# 4 Plotting results\r\n",
    "\r\n",
    "For the convergence plots the error is plotted over the mesh size, \r\n",
    "where the coarsest grid size is defined as size = 1.\r\n"
   ],
   "metadata": {
    "dotnet_interactive": {
     "language": "csharp"
    }
   }
  },
  {
   "cell_type": "code",
   "execution_count": null,
   "source": [
    "var sizes = numbersOfCells.Select(s => 2.0 / s).ToArray();"
   ],
   "outputs": [],
   "metadata": {
    "dotnet_interactive": {
     "language": "csharp"
    }
   }
  },
  {
   "cell_type": "markdown",
   "source": [
    "First, we are looking at the convergence plot of the Upwind flux. \r\n",
    "Therefore, an instance of Gnuplot has to be generated."
   ],
   "metadata": {}
  },
  {
   "cell_type": "code",
   "execution_count": null,
   "source": [
    "\r\n",
    "var gpUpwind = new Gnuplot();     \r\n",
    "gpUpwind.SetYRange(Math.Pow(10,-7), Math.Pow(10,0));"
   ],
   "outputs": [
    {
     "output_type": "stream",
     "name": "stdout",
     "text": [
      "Using gnuplot: C:\\Program Files (x86)\\FDY\\BoSSS\\bin\\native\\win\\gnuplot-gp510-20160418-win32-mingw\\gnuplot\\bin\\gnuplot.exe\r\n"
     ]
    }
   ],
   "metadata": {
    "dotnet_interactive": {
     "language": "csharp"
    }
   }
  },
  {
   "cell_type": "code",
   "execution_count": null,
   "source": [
    "for (int i = 0; i < dgDegrees.Length; i++) {     \r\n",
    " \r\n",
    "    /// Here, we use the shallow extraction features of    \r\n",
    "    /// \\code{MultidimensionalArray} mentioned above.   \r\n",
    "    /// The command \\code{ExtractSubArrayShallow(0, i, -1)}    \r\n",
    "    /// is roughly equivalent to writing \"errors[0, i, :]\" in Matlab   \r\n",
    "    var errorsForDegree = errors.ExtractSubArrayShallow(0, i, -1).To1DArray();     \r\n",
    " \r\n",
    "    // some formatting of the plot data for the convergence study      \r\n",
    "    PlotFormat format = new PlotFormat(lineColor: (LineColors)(i+1),     \r\n",
    "                                       Style: Styles.LinesPoints,       \r\n",
    "                                       pointType: PointTypes.Diamond,       \r\n",
    "                                       pointSize: 2.0);     \r\n",
    " \r\n",
    "    // Create log-log plot mesh size vs. error for dgDegrees[i]    \r\n",
    "    gpUpwind.PlotLogXLogY(sizes, errorsForDegree,      \r\n",
    "                          \"Upwind, order \" + dgDegrees[i], format);     \r\n",
    "}"
   ],
   "outputs": [],
   "metadata": {
    "dotnet_interactive": {
     "language": "csharp"
    }
   }
  },
  {
   "cell_type": "code",
   "execution_count": null,
   "source": [
    "gpUpwind.PlotNow() // perform the plotting"
   ],
   "outputs": [
    {
     "output_type": "execute_result",
     "data": {
      "text/html": [
       "<?xml version=\"1.0\" encoding=\"utf-8\"  standalone=\"no\"?>\n",
       "<!DOCTYPE svg PUBLIC \"-//W3C//DTD SVG 1.1//EN\"\n",
       " \"http://www.w3.org/Graphics/SVG/1.1/DTD/svg11.dtd\">\n",
       "<svg \n",
       " width=\"1024\" height=\"768\"\n",
       " viewBox=\"0 0 1024 768\"\n",
       " xmlns=\"http://www.w3.org/2000/svg\"\n",
       " xmlns:xlink=\"http://www.w3.org/1999/xlink\"\n",
       ">\n",
       "\n",
       "<title>Gnuplot</title>\n",
       "<desc>Produced by GNUPLOT 5.1 patchlevel 0 </desc>\n",
       "\n",
       "<g id=\"gnuplot_canvas\">\n",
       "\n",
       "<rect x=\"0\" y=\"0\" width=\"1024\" height=\"768\" fill=\"#ffffff\"/>\n",
       "<defs>\n",
       "\n",
       "\t<circle id='gpDot' r='0.5' stroke-width='0.5'/>\n",
       "\t<path id='gpPt0' stroke-width='0.222' stroke='currentColor' d='M-1,0 h2 M0,-1 v2'/>\n",
       "\t<path id='gpPt1' stroke-width='0.222' stroke='currentColor' d='M-1,-1 L1,1 M1,-1 L-1,1'/>\n",
       "\t<path id='gpPt2' stroke-width='0.222' stroke='currentColor' d='M-1,0 L1,0 M0,-1 L0,1 M-1,-1 L1,1 M-1,1 L1,-1'/>\n",
       "\t<rect id='gpPt3' stroke-width='0.222' stroke='currentColor' x='-1' y='-1' width='2' height='2'/>\n",
       "\t<rect id='gpPt4' stroke-width='0.222' stroke='currentColor' fill='currentColor' x='-1' y='-1' width='2' height='2'/>\n",
       "\t<circle id='gpPt5' stroke-width='0.222' stroke='currentColor' cx='0' cy='0' r='1'/>\n",
       "\t<use xlink:href='#gpPt5' id='gpPt6' fill='currentColor' stroke='none'/>\n",
       "\t<path id='gpPt7' stroke-width='0.222' stroke='currentColor' d='M0,-1.33 L-1.33,0.67 L1.33,0.67 z'/>\n",
       "\t<use xlink:href='#gpPt7' id='gpPt8' fill='currentColor' stroke='none'/>\n",
       "\t<use xlink:href='#gpPt7' id='gpPt9' stroke='currentColor' transform='rotate(180)'/>\n",
       "\t<use xlink:href='#gpPt9' id='gpPt10' fill='currentColor' stroke='none'/>\n",
       "\t<use xlink:href='#gpPt3' id='gpPt11' stroke='currentColor' transform='rotate(45)'/>\n",
       "\t<use xlink:href='#gpPt11' id='gpPt12' fill='currentColor' stroke='none'/>\n",
       "\t<path id='gpPt13' stroke-width='0.222' stroke='currentColor' d='M0,1.330 L1.265,0.411 L0.782,-1.067 L-0.782,-1.076 L-1.265,0.411 z'/>\n",
       "\t<use xlink:href='#gpPt13' id='gpPt14' fill='currentColor' stroke='none'/>\n",
       "\t<filter id='textbox' filterUnits='objectBoundingBox' x='0' y='0' height='1' width='1'>\n",
       "\t  <feFlood flood-color='#FFFFFF' flood-opacity='1' result='bgnd'/>\n",
       "\t  <feComposite in='SourceGraphic' in2='bgnd' operator='atop'/>\n",
       "\t</filter>\n",
       "\t<filter id='greybox' filterUnits='objectBoundingBox' x='0' y='0' height='1' width='1'>\n",
       "\t  <feFlood flood-color='lightgrey' flood-opacity='1' result='grey'/>\n",
       "\t  <feComposite in='SourceGraphic' in2='grey' operator='atop'/>\n",
       "\t</filter>\n",
       "</defs>\n",
       "<g fill=\"none\" color=\"#FFFFFF\" stroke=\"currentColor\" stroke-width=\"1.00\" stroke-linecap=\"butt\" stroke-linejoin=\"miter\">\n",
       "</g>\n",
       "<g fill=\"none\" color=\"black\" stroke=\"currentColor\" stroke-width=\"1.00\" stroke-linecap=\"butt\" stroke-linejoin=\"miter\">\n",
       "\t<path stroke='black'  d='M95.4,732.0 L104.4,732.0 M999.0,732.0 L990.0,732.0  '/>\t<g transform=\"translate(87.1,736.5)\" stroke=\"none\" fill=\"black\" font-family=\"Arial\" font-size=\"12.00\"  text-anchor=\"end\">\n",
       "\t\t<text><tspan font-family=\"Arial\" >0.0000001</tspan></text>\n",
       "\t</g>\n",
       "</g>\n",
       "<g fill=\"none\" color=\"black\" stroke=\"currentColor\" stroke-width=\"1.00\" stroke-linecap=\"butt\" stroke-linejoin=\"miter\">\n",
       "\t<path stroke='black'  d='M95.4,701.2 L99.9,701.2 M999.0,701.2 L994.5,701.2 M95.4,660.6 L99.9,660.6 M999.0,660.6 L994.5,660.6\n",
       "\t\tM95.4,639.7 L99.9,639.7 M999.0,639.7 L994.5,639.7 M95.4,629.8 L104.4,629.8 M999.0,629.8 L990.0,629.8\n",
       "\t\t '/>\t<g transform=\"translate(87.1,634.3)\" stroke=\"none\" fill=\"black\" font-family=\"Arial\" font-size=\"12.00\"  text-anchor=\"end\">\n",
       "\t\t<text><tspan font-family=\"Arial\" >0.0000010</tspan></text>\n",
       "\t</g>\n",
       "</g>\n",
       "<g fill=\"none\" color=\"black\" stroke=\"currentColor\" stroke-width=\"1.00\" stroke-linecap=\"butt\" stroke-linejoin=\"miter\">\n",
       "\t<path stroke='black'  d='M95.4,599.1 L99.9,599.1 M999.0,599.1 L994.5,599.1 M95.4,558.4 L99.9,558.4 M999.0,558.4 L994.5,558.4\n",
       "\t\tM95.4,537.5 L99.9,537.5 M999.0,537.5 L994.5,537.5 M95.4,527.6 L104.4,527.6 M999.0,527.6 L990.0,527.6\n",
       "\t\t '/>\t<g transform=\"translate(87.1,532.1)\" stroke=\"none\" fill=\"black\" font-family=\"Arial\" font-size=\"12.00\"  text-anchor=\"end\">\n",
       "\t\t<text><tspan font-family=\"Arial\" >0.0000100</tspan></text>\n",
       "\t</g>\n",
       "</g>\n",
       "<g fill=\"none\" color=\"black\" stroke=\"currentColor\" stroke-width=\"1.00\" stroke-linecap=\"butt\" stroke-linejoin=\"miter\">\n",
       "\t<path stroke='black'  d='M95.4,496.9 L99.9,496.9 M999.0,496.9 L994.5,496.9 M95.4,456.2 L99.9,456.2 M999.0,456.2 L994.5,456.2\n",
       "\t\tM95.4,435.3 L99.9,435.3 M999.0,435.3 L994.5,435.3 M95.4,425.4 L104.4,425.4 M999.0,425.4 L990.0,425.4\n",
       "\t\t '/>\t<g transform=\"translate(87.1,429.9)\" stroke=\"none\" fill=\"black\" font-family=\"Arial\" font-size=\"12.00\"  text-anchor=\"end\">\n",
       "\t\t<text><tspan font-family=\"Arial\" >0.0001000</tspan></text>\n",
       "\t</g>\n",
       "</g>\n",
       "<g fill=\"none\" color=\"black\" stroke=\"currentColor\" stroke-width=\"1.00\" stroke-linecap=\"butt\" stroke-linejoin=\"miter\">\n",
       "\t<path stroke='black'  d='M95.4,394.7 L99.9,394.7 M999.0,394.7 L994.5,394.7 M95.4,354.0 L99.9,354.0 M999.0,354.0 L994.5,354.0\n",
       "\t\tM95.4,333.2 L99.9,333.2 M999.0,333.2 L994.5,333.2 M95.4,323.3 L104.4,323.3 M999.0,323.3 L990.0,323.3\n",
       "\t\t '/>\t<g transform=\"translate(87.1,327.8)\" stroke=\"none\" fill=\"black\" font-family=\"Arial\" font-size=\"12.00\"  text-anchor=\"end\">\n",
       "\t\t<text><tspan font-family=\"Arial\" >0.0010000</tspan></text>\n",
       "\t</g>\n",
       "</g>\n",
       "<g fill=\"none\" color=\"black\" stroke=\"currentColor\" stroke-width=\"1.00\" stroke-linecap=\"butt\" stroke-linejoin=\"miter\">\n",
       "\t<path stroke='black'  d='M95.4,292.5 L99.9,292.5 M999.0,292.5 L994.5,292.5 M95.4,251.8 L99.9,251.8 M999.0,251.8 L994.5,251.8\n",
       "\t\tM95.4,231.0 L99.9,231.0 M999.0,231.0 L994.5,231.0 M95.4,221.1 L104.4,221.1 M999.0,221.1 L990.0,221.1\n",
       "\t\t '/>\t<g transform=\"translate(87.1,225.6)\" stroke=\"none\" fill=\"black\" font-family=\"Arial\" font-size=\"12.00\"  text-anchor=\"end\">\n",
       "\t\t<text><tspan font-family=\"Arial\" >0.0100000</tspan></text>\n",
       "\t</g>\n",
       "</g>\n",
       "<g fill=\"none\" color=\"black\" stroke=\"currentColor\" stroke-width=\"1.00\" stroke-linecap=\"butt\" stroke-linejoin=\"miter\">\n",
       "\t<path stroke='black'  d='M95.4,190.3 L99.9,190.3 M999.0,190.3 L994.5,190.3 M95.4,149.6 L99.9,149.6 M999.0,149.6 L994.5,149.6\n",
       "\t\tM95.4,128.8 L99.9,128.8 M999.0,128.8 L994.5,128.8 M95.4,118.9 L104.4,118.9 M999.0,118.9 L990.0,118.9\n",
       "\t\t '/>\t<g transform=\"translate(87.1,123.4)\" stroke=\"none\" fill=\"black\" font-family=\"Arial\" font-size=\"12.00\"  text-anchor=\"end\">\n",
       "\t\t<text><tspan font-family=\"Arial\" >0.1000000</tspan></text>\n",
       "\t</g>\n",
       "</g>\n",
       "<g fill=\"none\" color=\"black\" stroke=\"currentColor\" stroke-width=\"1.00\" stroke-linecap=\"butt\" stroke-linejoin=\"miter\">\n",
       "\t<path stroke='black'  d='M95.4,88.1 L99.9,88.1 M999.0,88.1 L994.5,88.1 M95.4,47.5 L99.9,47.5 M999.0,47.5 L994.5,47.5\n",
       "\t\tM95.4,26.6 L99.9,26.6 M999.0,26.6 L994.5,26.6 M95.4,16.7 L104.4,16.7 M999.0,16.7 L990.0,16.7\n",
       "\t\t '/>\t<g transform=\"translate(87.1,21.2)\" stroke=\"none\" fill=\"black\" font-family=\"Arial\" font-size=\"12.00\"  text-anchor=\"end\">\n",
       "\t\t<text><tspan font-family=\"Arial\" >1.0000000</tspan></text>\n",
       "\t</g>\n",
       "</g>\n",
       "<g fill=\"none\" color=\"black\" stroke=\"currentColor\" stroke-width=\"1.00\" stroke-linecap=\"butt\" stroke-linejoin=\"miter\">\n",
       "\t<path stroke='black'  d='M95.4,732.0 L95.4,723.0 M95.4,16.7 L95.4,25.7  '/>\t<g transform=\"translate(95.4,754.5)\" stroke=\"none\" fill=\"black\" font-family=\"Arial\" font-size=\"12.00\"  text-anchor=\"middle\">\n",
       "\t\t<text><tspan font-family=\"Arial\" > 0.1</tspan></text>\n",
       "\t</g>\n",
       "</g>\n",
       "<g fill=\"none\" color=\"black\" stroke=\"currentColor\" stroke-width=\"1.00\" stroke-linecap=\"butt\" stroke-linejoin=\"miter\">\n",
       "\t<path stroke='black'  d='M367.4,732.0 L367.4,727.5 M367.4,16.7 L367.4,21.2 M526.5,732.0 L526.5,727.5 M526.5,16.7 L526.5,21.2\n",
       "\t\tM639.4,732.0 L639.4,727.5 M639.4,16.7 L639.4,21.2 M727.0,732.0 L727.0,727.5 M727.0,16.7 L727.0,21.2\n",
       "\t\tM798.5,732.0 L798.5,727.5 M798.5,16.7 L798.5,21.2 M859.0,732.0 L859.0,727.5 M859.0,16.7 L859.0,21.2\n",
       "\t\tM911.4,732.0 L911.4,727.5 M911.4,16.7 L911.4,21.2 M957.7,732.0 L957.7,727.5 M957.7,16.7 L957.7,21.2\n",
       "\t\tM999.0,732.0 L999.0,723.0 M999.0,16.7 L999.0,25.7  '/>\t<g transform=\"translate(999.0,754.5)\" stroke=\"none\" fill=\"black\" font-family=\"Arial\" font-size=\"12.00\"  text-anchor=\"middle\">\n",
       "\t\t<text><tspan font-family=\"Arial\" > 1</tspan></text>\n",
       "\t</g>\n",
       "</g>\n",
       "<g fill=\"none\" color=\"black\" stroke=\"currentColor\" stroke-width=\"1.00\" stroke-linecap=\"butt\" stroke-linejoin=\"miter\">\n",
       "</g>\n",
       "<g fill=\"none\" color=\"black\" stroke=\"currentColor\" stroke-width=\"1.00\" stroke-linecap=\"butt\" stroke-linejoin=\"miter\">\n",
       "\t<path stroke='black'  d='M95.4,16.7 L95.4,732.0 L999.0,732.0 L999.0,16.7 L95.4,16.7 Z  '/></g>\n",
       "<g fill=\"none\" color=\"black\" stroke=\"currentColor\" stroke-width=\"1.00\" stroke-linecap=\"butt\" stroke-linejoin=\"miter\">\n",
       "</g>\n",
       "\t<g id=\"gnuplot_plot_1\" ><title>Upwind, order 0</title>\n",
       "<g fill=\"none\" color=\"black\" stroke=\"currentColor\" stroke-width=\"1.00\" stroke-linecap=\"butt\" stroke-linejoin=\"miter\">\n",
       "\t<g transform=\"translate(931.9,39.2)\" stroke=\"none\" fill=\"black\" font-family=\"Arial\" font-size=\"12.00\"  text-anchor=\"end\">\n",
       "\t\t<text><tspan font-family=\"Arial\" >Upwind, order 0</tspan></text>\n",
       "\t</g>\n",
       "</g>\n",
       "<g fill=\"none\" color=\"black\" stroke=\"currentColor\" stroke-width=\"1.00\" stroke-linecap=\"butt\" stroke-linejoin=\"miter\">\n",
       "\t<path stroke='rgb(255,   0,   0)'  d='M940.2,34.7 L982.4,34.7 M999.0,88.0 L727.0,109.7 L455.0,134.0 L183.0,160.6  '/>\t<use xlink:href='#gpPt12' transform='translate(999.0,88.0) scale(9.00)' color='rgb(255,   0,   0)'/>\n",
       "\t<use xlink:href='#gpPt12' transform='translate(727.0,109.7) scale(9.00)' color='rgb(255,   0,   0)'/>\n",
       "\t<use xlink:href='#gpPt12' transform='translate(455.0,134.0) scale(9.00)' color='rgb(255,   0,   0)'/>\n",
       "\t<use xlink:href='#gpPt12' transform='translate(183.0,160.6) scale(9.00)' color='rgb(255,   0,   0)'/>\n",
       "\t<use xlink:href='#gpPt12' transform='translate(961.3,34.7) scale(9.00)' color='rgb(255,   0,   0)'/>\n",
       "</g>\n",
       "\t</g>\n",
       "\t<g id=\"gnuplot_plot_2\" ><title>Upwind, order 1</title>\n",
       "<g fill=\"none\" color=\"black\" stroke=\"currentColor\" stroke-width=\"1.00\" stroke-linecap=\"butt\" stroke-linejoin=\"miter\">\n",
       "\t<g transform=\"translate(931.9,57.2)\" stroke=\"none\" fill=\"black\" font-family=\"Arial\" font-size=\"12.00\"  text-anchor=\"end\">\n",
       "\t\t<text><tspan font-family=\"Arial\" >Upwind, order 1</tspan></text>\n",
       "\t</g>\n",
       "</g>\n",
       "<g fill=\"none\" color=\"black\" stroke=\"currentColor\" stroke-width=\"1.00\" stroke-linecap=\"butt\" stroke-linejoin=\"miter\">\n",
       "\t<path stroke='rgb(  0, 255,   0)'  d='M940.2,52.7 L982.4,52.7 M999.0,125.3 L727.0,185.6 L455.0,246.5 L183.0,307.6  '/>\t<use xlink:href='#gpPt12' transform='translate(999.0,125.3) scale(9.00)' color='rgb(  0, 255,   0)'/>\n",
       "\t<use xlink:href='#gpPt12' transform='translate(727.0,185.6) scale(9.00)' color='rgb(  0, 255,   0)'/>\n",
       "\t<use xlink:href='#gpPt12' transform='translate(455.0,246.5) scale(9.00)' color='rgb(  0, 255,   0)'/>\n",
       "\t<use xlink:href='#gpPt12' transform='translate(183.0,307.6) scale(9.00)' color='rgb(  0, 255,   0)'/>\n",
       "\t<use xlink:href='#gpPt12' transform='translate(961.3,52.7) scale(9.00)' color='rgb(  0, 255,   0)'/>\n",
       "</g>\n",
       "\t</g>\n",
       "\t<g id=\"gnuplot_plot_3\" ><title>Upwind, order 2</title>\n",
       "<g fill=\"none\" color=\"black\" stroke=\"currentColor\" stroke-width=\"1.00\" stroke-linecap=\"butt\" stroke-linejoin=\"miter\">\n",
       "\t<g transform=\"translate(931.9,75.2)\" stroke=\"none\" fill=\"black\" font-family=\"Arial\" font-size=\"12.00\"  text-anchor=\"end\">\n",
       "\t\t<text><tspan font-family=\"Arial\" >Upwind, order 2</tspan></text>\n",
       "\t</g>\n",
       "</g>\n",
       "<g fill=\"none\" color=\"black\" stroke=\"currentColor\" stroke-width=\"1.00\" stroke-linecap=\"butt\" stroke-linejoin=\"miter\">\n",
       "\t<path stroke='rgb(  0,   0, 255)'  d='M940.2,70.7 L982.4,70.7 M999.0,245.0 L727.0,332.3 L455.0,424.8 L183.0,517.5  '/>\t<use xlink:href='#gpPt12' transform='translate(999.0,245.0) scale(9.00)' color='rgb(  0,   0, 255)'/>\n",
       "\t<use xlink:href='#gpPt12' transform='translate(727.0,332.3) scale(9.00)' color='rgb(  0,   0, 255)'/>\n",
       "\t<use xlink:href='#gpPt12' transform='translate(455.0,424.8) scale(9.00)' color='rgb(  0,   0, 255)'/>\n",
       "\t<use xlink:href='#gpPt12' transform='translate(183.0,517.5) scale(9.00)' color='rgb(  0,   0, 255)'/>\n",
       "\t<use xlink:href='#gpPt12' transform='translate(961.3,70.7) scale(9.00)' color='rgb(  0,   0, 255)'/>\n",
       "</g>\n",
       "\t</g>\n",
       "\t<g id=\"gnuplot_plot_4\" ><title>Upwind, order 3</title>\n",
       "<g fill=\"none\" color=\"black\" stroke=\"currentColor\" stroke-width=\"1.00\" stroke-linecap=\"butt\" stroke-linejoin=\"miter\">\n",
       "\t<g transform=\"translate(931.9,93.2)\" stroke=\"none\" fill=\"black\" font-family=\"Arial\" font-size=\"12.00\"  text-anchor=\"end\">\n",
       "\t\t<text><tspan font-family=\"Arial\" >Upwind, order 3</tspan></text>\n",
       "\t</g>\n",
       "</g>\n",
       "<g fill=\"none\" color=\"black\" stroke=\"currentColor\" stroke-width=\"1.00\" stroke-linecap=\"butt\" stroke-linejoin=\"miter\">\n",
       "\t<path stroke='rgb(255,   0, 255)'  d='M940.2,88.7 L982.4,88.7 M999.0,318.6 L727.0,440.0 L455.0,562.1 L183.0,683.3  '/>\t<use xlink:href='#gpPt12' transform='translate(999.0,318.6) scale(9.00)' color='rgb(255,   0, 255)'/>\n",
       "\t<use xlink:href='#gpPt12' transform='translate(727.0,440.0) scale(9.00)' color='rgb(255,   0, 255)'/>\n",
       "\t<use xlink:href='#gpPt12' transform='translate(455.0,562.1) scale(9.00)' color='rgb(255,   0, 255)'/>\n",
       "\t<use xlink:href='#gpPt12' transform='translate(183.0,683.3) scale(9.00)' color='rgb(255,   0, 255)'/>\n",
       "\t<use xlink:href='#gpPt12' transform='translate(961.3,88.7) scale(9.00)' color='rgb(255,   0, 255)'/>\n",
       "</g>\n",
       "\t</g>\n",
       "<g fill=\"none\" color=\"#FFFFFF\" stroke=\"rgb(255,   0, 255)\" stroke-width=\"2.00\" stroke-linecap=\"butt\" stroke-linejoin=\"miter\">\n",
       "</g>\n",
       "<g fill=\"none\" color=\"black\" stroke=\"currentColor\" stroke-width=\"2.00\" stroke-linecap=\"butt\" stroke-linejoin=\"miter\">\n",
       "</g>\n",
       "<g fill=\"none\" color=\"black\" stroke=\"black\" stroke-width=\"1.00\" stroke-linecap=\"butt\" stroke-linejoin=\"miter\">\n",
       "</g>\n",
       "<g fill=\"none\" color=\"black\" stroke=\"currentColor\" stroke-width=\"1.00\" stroke-linecap=\"butt\" stroke-linejoin=\"miter\">\n",
       "\t<path stroke='black'  d='M95.4,16.7 L95.4,732.0 L999.0,732.0 L999.0,16.7 L95.4,16.7 Z  '/></g>\n",
       "<g fill=\"none\" color=\"black\" stroke=\"currentColor\" stroke-width=\"1.00\" stroke-linecap=\"butt\" stroke-linejoin=\"miter\">\n",
       "</g>\n",
       "</g>\n",
       "</svg>\n",
       "\n"
      ]
     },
     "metadata": {},
     "execution_count": 52
    }
   ],
   "metadata": {
    "dotnet_interactive": {
     "language": "csharp"
    }
   }
  },
  {
   "cell_type": "markdown",
   "source": [
    "The convergence plot is also done for the Lax-Friedrichs flux."
   ],
   "metadata": {
    "dotnet_interactive": {
     "language": "csharp"
    }
   }
  },
  {
   "cell_type": "code",
   "execution_count": null,
   "source": [
    "var gpLaxFriedrichs = new Gnuplot();     \r\n",
    "gpLaxFriedrichs.SetYRange(Math.Pow(10,-7), Math.Pow(10,0));"
   ],
   "outputs": [
    {
     "output_type": "stream",
     "name": "stdout",
     "text": [
      "Using gnuplot: C:\\Program Files (x86)\\FDY\\BoSSS\\bin\\native\\win\\gnuplot-gp510-20160418-win32-mingw\\gnuplot\\bin\\gnuplot.exe\r\n"
     ]
    }
   ],
   "metadata": {
    "dotnet_interactive": {
     "language": "csharp"
    }
   }
  },
  {
   "cell_type": "code",
   "execution_count": null,
   "source": [
    "for (int i = 0; i < dgDegrees.Length; i++) {     \r\n",
    " \r\n",
    "    var errorsForDegree = errors.ExtractSubArrayShallow(1, i, -1).To1DArray();     \r\n",
    " \r\n",
    "    PlotFormat format = new PlotFormat(lineColor: (LineColors)(i+1),     \r\n",
    "                                       Style: Styles.LinesPoints,       \r\n",
    "                                       pointType: PointTypes.Diamond,       \r\n",
    "                                       pointSize: 2.0);     \r\n",
    " \r\n",
    "    gpLaxFriedrichs.PlotLogXLogY(sizes, errorsForDegree,      \r\n",
    "                                 \"LaxFriedrichs, order \" + dgDegrees[i],      \r\n",
    "                                 format);     \r\n",
    "}"
   ],
   "outputs": [],
   "metadata": {
    "dotnet_interactive": {
     "language": "csharp"
    }
   }
  },
  {
   "cell_type": "code",
   "execution_count": null,
   "source": [
    "gpLaxFriedrichs.PlotNow()"
   ],
   "outputs": [
    {
     "output_type": "execute_result",
     "data": {
      "text/html": [
       "<?xml version=\"1.0\" encoding=\"utf-8\"  standalone=\"no\"?>\n",
       "<!DOCTYPE svg PUBLIC \"-//W3C//DTD SVG 1.1//EN\"\n",
       " \"http://www.w3.org/Graphics/SVG/1.1/DTD/svg11.dtd\">\n",
       "<svg \n",
       " width=\"1024\" height=\"768\"\n",
       " viewBox=\"0 0 1024 768\"\n",
       " xmlns=\"http://www.w3.org/2000/svg\"\n",
       " xmlns:xlink=\"http://www.w3.org/1999/xlink\"\n",
       ">\n",
       "\n",
       "<title>Gnuplot</title>\n",
       "<desc>Produced by GNUPLOT 5.1 patchlevel 0 </desc>\n",
       "\n",
       "<g id=\"gnuplot_canvas\">\n",
       "\n",
       "<rect x=\"0\" y=\"0\" width=\"1024\" height=\"768\" fill=\"#ffffff\"/>\n",
       "<defs>\n",
       "\n",
       "\t<circle id='gpDot' r='0.5' stroke-width='0.5'/>\n",
       "\t<path id='gpPt0' stroke-width='0.222' stroke='currentColor' d='M-1,0 h2 M0,-1 v2'/>\n",
       "\t<path id='gpPt1' stroke-width='0.222' stroke='currentColor' d='M-1,-1 L1,1 M1,-1 L-1,1'/>\n",
       "\t<path id='gpPt2' stroke-width='0.222' stroke='currentColor' d='M-1,0 L1,0 M0,-1 L0,1 M-1,-1 L1,1 M-1,1 L1,-1'/>\n",
       "\t<rect id='gpPt3' stroke-width='0.222' stroke='currentColor' x='-1' y='-1' width='2' height='2'/>\n",
       "\t<rect id='gpPt4' stroke-width='0.222' stroke='currentColor' fill='currentColor' x='-1' y='-1' width='2' height='2'/>\n",
       "\t<circle id='gpPt5' stroke-width='0.222' stroke='currentColor' cx='0' cy='0' r='1'/>\n",
       "\t<use xlink:href='#gpPt5' id='gpPt6' fill='currentColor' stroke='none'/>\n",
       "\t<path id='gpPt7' stroke-width='0.222' stroke='currentColor' d='M0,-1.33 L-1.33,0.67 L1.33,0.67 z'/>\n",
       "\t<use xlink:href='#gpPt7' id='gpPt8' fill='currentColor' stroke='none'/>\n",
       "\t<use xlink:href='#gpPt7' id='gpPt9' stroke='currentColor' transform='rotate(180)'/>\n",
       "\t<use xlink:href='#gpPt9' id='gpPt10' fill='currentColor' stroke='none'/>\n",
       "\t<use xlink:href='#gpPt3' id='gpPt11' stroke='currentColor' transform='rotate(45)'/>\n",
       "\t<use xlink:href='#gpPt11' id='gpPt12' fill='currentColor' stroke='none'/>\n",
       "\t<path id='gpPt13' stroke-width='0.222' stroke='currentColor' d='M0,1.330 L1.265,0.411 L0.782,-1.067 L-0.782,-1.076 L-1.265,0.411 z'/>\n",
       "\t<use xlink:href='#gpPt13' id='gpPt14' fill='currentColor' stroke='none'/>\n",
       "\t<filter id='textbox' filterUnits='objectBoundingBox' x='0' y='0' height='1' width='1'>\n",
       "\t  <feFlood flood-color='#FFFFFF' flood-opacity='1' result='bgnd'/>\n",
       "\t  <feComposite in='SourceGraphic' in2='bgnd' operator='atop'/>\n",
       "\t</filter>\n",
       "\t<filter id='greybox' filterUnits='objectBoundingBox' x='0' y='0' height='1' width='1'>\n",
       "\t  <feFlood flood-color='lightgrey' flood-opacity='1' result='grey'/>\n",
       "\t  <feComposite in='SourceGraphic' in2='grey' operator='atop'/>\n",
       "\t</filter>\n",
       "</defs>\n",
       "<g fill=\"none\" color=\"#FFFFFF\" stroke=\"currentColor\" stroke-width=\"1.00\" stroke-linecap=\"butt\" stroke-linejoin=\"miter\">\n",
       "</g>\n",
       "<g fill=\"none\" color=\"black\" stroke=\"currentColor\" stroke-width=\"1.00\" stroke-linecap=\"butt\" stroke-linejoin=\"miter\">\n",
       "\t<path stroke='black'  d='M95.4,732.0 L104.4,732.0 M999.0,732.0 L990.0,732.0  '/>\t<g transform=\"translate(87.1,736.5)\" stroke=\"none\" fill=\"black\" font-family=\"Arial\" font-size=\"12.00\"  text-anchor=\"end\">\n",
       "\t\t<text><tspan font-family=\"Arial\" >0.0000001</tspan></text>\n",
       "\t</g>\n",
       "</g>\n",
       "<g fill=\"none\" color=\"black\" stroke=\"currentColor\" stroke-width=\"1.00\" stroke-linecap=\"butt\" stroke-linejoin=\"miter\">\n",
       "\t<path stroke='black'  d='M95.4,701.2 L99.9,701.2 M999.0,701.2 L994.5,701.2 M95.4,660.6 L99.9,660.6 M999.0,660.6 L994.5,660.6\n",
       "\t\tM95.4,639.7 L99.9,639.7 M999.0,639.7 L994.5,639.7 M95.4,629.8 L104.4,629.8 M999.0,629.8 L990.0,629.8\n",
       "\t\t '/>\t<g transform=\"translate(87.1,634.3)\" stroke=\"none\" fill=\"black\" font-family=\"Arial\" font-size=\"12.00\"  text-anchor=\"end\">\n",
       "\t\t<text><tspan font-family=\"Arial\" >0.0000010</tspan></text>\n",
       "\t</g>\n",
       "</g>\n",
       "<g fill=\"none\" color=\"black\" stroke=\"currentColor\" stroke-width=\"1.00\" stroke-linecap=\"butt\" stroke-linejoin=\"miter\">\n",
       "\t<path stroke='black'  d='M95.4,599.1 L99.9,599.1 M999.0,599.1 L994.5,599.1 M95.4,558.4 L99.9,558.4 M999.0,558.4 L994.5,558.4\n",
       "\t\tM95.4,537.5 L99.9,537.5 M999.0,537.5 L994.5,537.5 M95.4,527.6 L104.4,527.6 M999.0,527.6 L990.0,527.6\n",
       "\t\t '/>\t<g transform=\"translate(87.1,532.1)\" stroke=\"none\" fill=\"black\" font-family=\"Arial\" font-size=\"12.00\"  text-anchor=\"end\">\n",
       "\t\t<text><tspan font-family=\"Arial\" >0.0000100</tspan></text>\n",
       "\t</g>\n",
       "</g>\n",
       "<g fill=\"none\" color=\"black\" stroke=\"currentColor\" stroke-width=\"1.00\" stroke-linecap=\"butt\" stroke-linejoin=\"miter\">\n",
       "\t<path stroke='black'  d='M95.4,496.9 L99.9,496.9 M999.0,496.9 L994.5,496.9 M95.4,456.2 L99.9,456.2 M999.0,456.2 L994.5,456.2\n",
       "\t\tM95.4,435.3 L99.9,435.3 M999.0,435.3 L994.5,435.3 M95.4,425.4 L104.4,425.4 M999.0,425.4 L990.0,425.4\n",
       "\t\t '/>\t<g transform=\"translate(87.1,429.9)\" stroke=\"none\" fill=\"black\" font-family=\"Arial\" font-size=\"12.00\"  text-anchor=\"end\">\n",
       "\t\t<text><tspan font-family=\"Arial\" >0.0001000</tspan></text>\n",
       "\t</g>\n",
       "</g>\n",
       "<g fill=\"none\" color=\"black\" stroke=\"currentColor\" stroke-width=\"1.00\" stroke-linecap=\"butt\" stroke-linejoin=\"miter\">\n",
       "\t<path stroke='black'  d='M95.4,394.7 L99.9,394.7 M999.0,394.7 L994.5,394.7 M95.4,354.0 L99.9,354.0 M999.0,354.0 L994.5,354.0\n",
       "\t\tM95.4,333.2 L99.9,333.2 M999.0,333.2 L994.5,333.2 M95.4,323.3 L104.4,323.3 M999.0,323.3 L990.0,323.3\n",
       "\t\t '/>\t<g transform=\"translate(87.1,327.8)\" stroke=\"none\" fill=\"black\" font-family=\"Arial\" font-size=\"12.00\"  text-anchor=\"end\">\n",
       "\t\t<text><tspan font-family=\"Arial\" >0.0010000</tspan></text>\n",
       "\t</g>\n",
       "</g>\n",
       "<g fill=\"none\" color=\"black\" stroke=\"currentColor\" stroke-width=\"1.00\" stroke-linecap=\"butt\" stroke-linejoin=\"miter\">\n",
       "\t<path stroke='black'  d='M95.4,292.5 L99.9,292.5 M999.0,292.5 L994.5,292.5 M95.4,251.8 L99.9,251.8 M999.0,251.8 L994.5,251.8\n",
       "\t\tM95.4,231.0 L99.9,231.0 M999.0,231.0 L994.5,231.0 M95.4,221.1 L104.4,221.1 M999.0,221.1 L990.0,221.1\n",
       "\t\t '/>\t<g transform=\"translate(87.1,225.6)\" stroke=\"none\" fill=\"black\" font-family=\"Arial\" font-size=\"12.00\"  text-anchor=\"end\">\n",
       "\t\t<text><tspan font-family=\"Arial\" >0.0100000</tspan></text>\n",
       "\t</g>\n",
       "</g>\n",
       "<g fill=\"none\" color=\"black\" stroke=\"currentColor\" stroke-width=\"1.00\" stroke-linecap=\"butt\" stroke-linejoin=\"miter\">\n",
       "\t<path stroke='black'  d='M95.4,190.3 L99.9,190.3 M999.0,190.3 L994.5,190.3 M95.4,149.6 L99.9,149.6 M999.0,149.6 L994.5,149.6\n",
       "\t\tM95.4,128.8 L99.9,128.8 M999.0,128.8 L994.5,128.8 M95.4,118.9 L104.4,118.9 M999.0,118.9 L990.0,118.9\n",
       "\t\t '/>\t<g transform=\"translate(87.1,123.4)\" stroke=\"none\" fill=\"black\" font-family=\"Arial\" font-size=\"12.00\"  text-anchor=\"end\">\n",
       "\t\t<text><tspan font-family=\"Arial\" >0.1000000</tspan></text>\n",
       "\t</g>\n",
       "</g>\n",
       "<g fill=\"none\" color=\"black\" stroke=\"currentColor\" stroke-width=\"1.00\" stroke-linecap=\"butt\" stroke-linejoin=\"miter\">\n",
       "\t<path stroke='black'  d='M95.4,88.1 L99.9,88.1 M999.0,88.1 L994.5,88.1 M95.4,47.5 L99.9,47.5 M999.0,47.5 L994.5,47.5\n",
       "\t\tM95.4,26.6 L99.9,26.6 M999.0,26.6 L994.5,26.6 M95.4,16.7 L104.4,16.7 M999.0,16.7 L990.0,16.7\n",
       "\t\t '/>\t<g transform=\"translate(87.1,21.2)\" stroke=\"none\" fill=\"black\" font-family=\"Arial\" font-size=\"12.00\"  text-anchor=\"end\">\n",
       "\t\t<text><tspan font-family=\"Arial\" >1.0000000</tspan></text>\n",
       "\t</g>\n",
       "</g>\n",
       "<g fill=\"none\" color=\"black\" stroke=\"currentColor\" stroke-width=\"1.00\" stroke-linecap=\"butt\" stroke-linejoin=\"miter\">\n",
       "\t<path stroke='black'  d='M95.4,732.0 L95.4,723.0 M95.4,16.7 L95.4,25.7  '/>\t<g transform=\"translate(95.4,754.5)\" stroke=\"none\" fill=\"black\" font-family=\"Arial\" font-size=\"12.00\"  text-anchor=\"middle\">\n",
       "\t\t<text><tspan font-family=\"Arial\" > 0.1</tspan></text>\n",
       "\t</g>\n",
       "</g>\n",
       "<g fill=\"none\" color=\"black\" stroke=\"currentColor\" stroke-width=\"1.00\" stroke-linecap=\"butt\" stroke-linejoin=\"miter\">\n",
       "\t<path stroke='black'  d='M367.4,732.0 L367.4,727.5 M367.4,16.7 L367.4,21.2 M526.5,732.0 L526.5,727.5 M526.5,16.7 L526.5,21.2\n",
       "\t\tM639.4,732.0 L639.4,727.5 M639.4,16.7 L639.4,21.2 M727.0,732.0 L727.0,727.5 M727.0,16.7 L727.0,21.2\n",
       "\t\tM798.5,732.0 L798.5,727.5 M798.5,16.7 L798.5,21.2 M859.0,732.0 L859.0,727.5 M859.0,16.7 L859.0,21.2\n",
       "\t\tM911.4,732.0 L911.4,727.5 M911.4,16.7 L911.4,21.2 M957.7,732.0 L957.7,727.5 M957.7,16.7 L957.7,21.2\n",
       "\t\tM999.0,732.0 L999.0,723.0 M999.0,16.7 L999.0,25.7  '/>\t<g transform=\"translate(999.0,754.5)\" stroke=\"none\" fill=\"black\" font-family=\"Arial\" font-size=\"12.00\"  text-anchor=\"middle\">\n",
       "\t\t<text><tspan font-family=\"Arial\" > 1</tspan></text>\n",
       "\t</g>\n",
       "</g>\n",
       "<g fill=\"none\" color=\"black\" stroke=\"currentColor\" stroke-width=\"1.00\" stroke-linecap=\"butt\" stroke-linejoin=\"miter\">\n",
       "</g>\n",
       "<g fill=\"none\" color=\"black\" stroke=\"currentColor\" stroke-width=\"1.00\" stroke-linecap=\"butt\" stroke-linejoin=\"miter\">\n",
       "\t<path stroke='black'  d='M95.4,16.7 L95.4,732.0 L999.0,732.0 L999.0,16.7 L95.4,16.7 Z  '/></g>\n",
       "<g fill=\"none\" color=\"black\" stroke=\"currentColor\" stroke-width=\"1.00\" stroke-linecap=\"butt\" stroke-linejoin=\"miter\">\n",
       "</g>\n",
       "\t<g id=\"gnuplot_plot_1\" ><title>LaxFriedrichs, order 0</title>\n",
       "<g fill=\"none\" color=\"black\" stroke=\"currentColor\" stroke-width=\"1.00\" stroke-linecap=\"butt\" stroke-linejoin=\"miter\">\n",
       "\t<g transform=\"translate(931.9,39.2)\" stroke=\"none\" fill=\"black\" font-family=\"Arial\" font-size=\"12.00\"  text-anchor=\"end\">\n",
       "\t\t<text><tspan font-family=\"Arial\" >LaxFriedrichs, order 0</tspan></text>\n",
       "\t</g>\n",
       "</g>\n",
       "<g fill=\"none\" color=\"black\" stroke=\"currentColor\" stroke-width=\"1.00\" stroke-linecap=\"butt\" stroke-linejoin=\"miter\">\n",
       "\t<path stroke='rgb(255,   0,   0)'  d='M940.2,34.7 L982.4,34.7 M999.0,86.2 L727.0,104.0 L455.0,126.9 L183.0,153.3  '/>\t<use xlink:href='#gpPt12' transform='translate(999.0,86.2) scale(9.00)' color='rgb(255,   0,   0)'/>\n",
       "\t<use xlink:href='#gpPt12' transform='translate(727.0,104.0) scale(9.00)' color='rgb(255,   0,   0)'/>\n",
       "\t<use xlink:href='#gpPt12' transform='translate(455.0,126.9) scale(9.00)' color='rgb(255,   0,   0)'/>\n",
       "\t<use xlink:href='#gpPt12' transform='translate(183.0,153.3) scale(9.00)' color='rgb(255,   0,   0)'/>\n",
       "\t<use xlink:href='#gpPt12' transform='translate(961.3,34.7) scale(9.00)' color='rgb(255,   0,   0)'/>\n",
       "</g>\n",
       "\t</g>\n",
       "\t<g id=\"gnuplot_plot_2\" ><title>LaxFriedrichs, order 1</title>\n",
       "<g fill=\"none\" color=\"black\" stroke=\"currentColor\" stroke-width=\"1.00\" stroke-linecap=\"butt\" stroke-linejoin=\"miter\">\n",
       "\t<g transform=\"translate(931.9,57.2)\" stroke=\"none\" fill=\"black\" font-family=\"Arial\" font-size=\"12.00\"  text-anchor=\"end\">\n",
       "\t\t<text><tspan font-family=\"Arial\" >LaxFriedrichs, order 1</tspan></text>\n",
       "\t</g>\n",
       "</g>\n",
       "<g fill=\"none\" color=\"black\" stroke=\"currentColor\" stroke-width=\"1.00\" stroke-linecap=\"butt\" stroke-linejoin=\"miter\">\n",
       "\t<path stroke='rgb(  0, 255,   0)'  d='M940.2,52.7 L982.4,52.7 M999.0,123.2 L727.0,184.4 L455.0,246.3 L183.0,308.0  '/>\t<use xlink:href='#gpPt12' transform='translate(999.0,123.2) scale(9.00)' color='rgb(  0, 255,   0)'/>\n",
       "\t<use xlink:href='#gpPt12' transform='translate(727.0,184.4) scale(9.00)' color='rgb(  0, 255,   0)'/>\n",
       "\t<use xlink:href='#gpPt12' transform='translate(455.0,246.3) scale(9.00)' color='rgb(  0, 255,   0)'/>\n",
       "\t<use xlink:href='#gpPt12' transform='translate(183.0,308.0) scale(9.00)' color='rgb(  0, 255,   0)'/>\n",
       "\t<use xlink:href='#gpPt12' transform='translate(961.3,52.7) scale(9.00)' color='rgb(  0, 255,   0)'/>\n",
       "</g>\n",
       "\t</g>\n",
       "\t<g id=\"gnuplot_plot_3\" ><title>LaxFriedrichs, order 2</title>\n",
       "<g fill=\"none\" color=\"black\" stroke=\"currentColor\" stroke-width=\"1.00\" stroke-linecap=\"butt\" stroke-linejoin=\"miter\">\n",
       "\t<g transform=\"translate(931.9,75.2)\" stroke=\"none\" fill=\"black\" font-family=\"Arial\" font-size=\"12.00\"  text-anchor=\"end\">\n",
       "\t\t<text><tspan font-family=\"Arial\" >LaxFriedrichs, order 2</tspan></text>\n",
       "\t</g>\n",
       "</g>\n",
       "<g fill=\"none\" color=\"black\" stroke=\"currentColor\" stroke-width=\"1.00\" stroke-linecap=\"butt\" stroke-linejoin=\"miter\">\n",
       "\t<path stroke='rgb(  0,   0, 255)'  d='M940.2,70.7 L982.4,70.7 M999.0,246.1 L727.0,332.7 L455.0,424.0 L183.0,515.5  '/>\t<use xlink:href='#gpPt12' transform='translate(999.0,246.1) scale(9.00)' color='rgb(  0,   0, 255)'/>\n",
       "\t<use xlink:href='#gpPt12' transform='translate(727.0,332.7) scale(9.00)' color='rgb(  0,   0, 255)'/>\n",
       "\t<use xlink:href='#gpPt12' transform='translate(455.0,424.0) scale(9.00)' color='rgb(  0,   0, 255)'/>\n",
       "\t<use xlink:href='#gpPt12' transform='translate(183.0,515.5) scale(9.00)' color='rgb(  0,   0, 255)'/>\n",
       "\t<use xlink:href='#gpPt12' transform='translate(961.3,70.7) scale(9.00)' color='rgb(  0,   0, 255)'/>\n",
       "</g>\n",
       "\t</g>\n",
       "\t<g id=\"gnuplot_plot_4\" ><title>LaxFriedrichs, order 3</title>\n",
       "<g fill=\"none\" color=\"black\" stroke=\"currentColor\" stroke-width=\"1.00\" stroke-linecap=\"butt\" stroke-linejoin=\"miter\">\n",
       "\t<g transform=\"translate(931.9,93.2)\" stroke=\"none\" fill=\"black\" font-family=\"Arial\" font-size=\"12.00\"  text-anchor=\"end\">\n",
       "\t\t<text><tspan font-family=\"Arial\" >LaxFriedrichs, order 3</tspan></text>\n",
       "\t</g>\n",
       "</g>\n",
       "<g fill=\"none\" color=\"black\" stroke=\"currentColor\" stroke-width=\"1.00\" stroke-linecap=\"butt\" stroke-linejoin=\"miter\">\n",
       "\t<path stroke='rgb(255,   0, 255)'  d='M940.2,88.7 L982.4,88.7 M999.0,317.7 L727.0,440.2 L455.0,562.2 L183.0,683.7  '/>\t<use xlink:href='#gpPt12' transform='translate(999.0,317.7) scale(9.00)' color='rgb(255,   0, 255)'/>\n",
       "\t<use xlink:href='#gpPt12' transform='translate(727.0,440.2) scale(9.00)' color='rgb(255,   0, 255)'/>\n",
       "\t<use xlink:href='#gpPt12' transform='translate(455.0,562.2) scale(9.00)' color='rgb(255,   0, 255)'/>\n",
       "\t<use xlink:href='#gpPt12' transform='translate(183.0,683.7) scale(9.00)' color='rgb(255,   0, 255)'/>\n",
       "\t<use xlink:href='#gpPt12' transform='translate(961.3,88.7) scale(9.00)' color='rgb(255,   0, 255)'/>\n",
       "</g>\n",
       "\t</g>\n",
       "<g fill=\"none\" color=\"#FFFFFF\" stroke=\"rgb(255,   0, 255)\" stroke-width=\"2.00\" stroke-linecap=\"butt\" stroke-linejoin=\"miter\">\n",
       "</g>\n",
       "<g fill=\"none\" color=\"black\" stroke=\"currentColor\" stroke-width=\"2.00\" stroke-linecap=\"butt\" stroke-linejoin=\"miter\">\n",
       "</g>\n",
       "<g fill=\"none\" color=\"black\" stroke=\"black\" stroke-width=\"1.00\" stroke-linecap=\"butt\" stroke-linejoin=\"miter\">\n",
       "</g>\n",
       "<g fill=\"none\" color=\"black\" stroke=\"currentColor\" stroke-width=\"1.00\" stroke-linecap=\"butt\" stroke-linejoin=\"miter\">\n",
       "\t<path stroke='black'  d='M95.4,16.7 L95.4,732.0 L999.0,732.0 L999.0,16.7 L95.4,16.7 Z  '/></g>\n",
       "<g fill=\"none\" color=\"black\" stroke=\"currentColor\" stroke-width=\"1.00\" stroke-linecap=\"butt\" stroke-linejoin=\"miter\">\n",
       "</g>\n",
       "</g>\n",
       "</svg>\n",
       "\n"
      ]
     },
     "metadata": {},
     "execution_count": 53
    }
   ],
   "metadata": {
    "dotnet_interactive": {
     "language": "csharp"
    }
   }
  },
  {
   "cell_type": "code",
   "execution_count": null,
   "source": [],
   "outputs": [],
   "metadata": {
    "dotnet_interactive": {
     "language": "csharp"
    }
   }
  },
  {
   "cell_type": "markdown",
   "source": [
    "\r\n",
    "# 5 Linear regression by ordinary least squares\r\n",
    "\r\n",
    "For the determination of the experimental order of convergence (EOC) the linear regression is used \r\n",
    "to compute the slope of the line in the log-log plot. In the following, the ordinary least squares method \r\n",
    "is implemented to estimate the regression coefficient of the slope for given sets of x- and y-values."
   ],
   "metadata": {
    "dotnet_interactive": {
     "language": "csharp"
    }
   }
  },
  {
   "cell_type": "code",
   "execution_count": null,
   "source": [
    "Func<double[], double[], double> slope =      \r\n",
    "    delegate(double[] xValues, double[] yValues) {     \r\n",
    " \r\n",
    "    if (xValues.Length != yValues.Length) {     \r\n",
    "        throw new ArgumentException();     \r\n",
    "    }     \r\n",
    " \r\n",
    "    xValues = xValues.Select(s => Math.Log10(s)).ToArray();     \r\n",
    "    yValues = yValues.Select(s => Math.Log10(s)).ToArray();     \r\n",
    " \r\n",
    "    double xAverage = xValues.Sum() / xValues.Length;     \r\n",
    "    double yAverage = yValues.Sum() / yValues.Length;     \r\n",
    " \r\n",
    "    double v1 = 0.0;     \r\n",
    "    double v2 = 0.0;     \r\n",
    " \r\n",
    "    // Computation of the regression coefficient for the slope     \r\n",
    "    for (int i = 0; i < yValues.Length; i++) {     \r\n",
    "        v1 += (xValues[i] - xAverage) * (yValues[i] - yAverage);     \r\n",
    "        v2 += Math.Pow(xValues[i] - xAverage, 2);     \r\n",
    "    }     \r\n",
    "    return v1 / v2;     \r\n",
    "};"
   ],
   "outputs": [],
   "metadata": {
    "dotnet_interactive": {
     "language": "csharp"
    }
   }
  },
  {
   "cell_type": "markdown",
   "source": [
    "Verification that the slope is computed correctly     "
   ],
   "metadata": {}
  },
  {
   "cell_type": "code",
   "execution_count": null,
   "source": [
    "\r\n",
    "Math.Abs(slope(sizes, new double[] { 64.0, 16.0, 4.0, 1.0 }) - 2.0) < 1e-14"
   ],
   "outputs": [
    {
     "output_type": "execute_result",
     "data": {
      "text/html": [
       "<div class=\"dni-plaintext\">True</div>"
      ]
     },
     "metadata": {},
     "execution_count": 50
    }
   ],
   "metadata": {
    "dotnet_interactive": {
     "language": "csharp"
    }
   }
  },
  {
   "cell_type": "markdown",
   "source": [
    "The experimental orders of convergence (EOC) are computed for both fluxes \r\n",
    "for each polynomial degree of the ansatzfunctions"
   ],
   "metadata": {}
  },
  {
   "cell_type": "code",
   "execution_count": null,
   "source": [
    "\r\n",
    "for (int i = 0; i < dgDegrees.Length; i++) {     \r\n",
    " \r\n",
    "    Console.WriteLine();     \r\n",
    " \r\n",
    "    var errorsForDegree = errors.ExtractSubArrayShallow(0, i, -1).To1DArray();     \r\n",
    " \r\n",
    "    Console.WriteLine(     \r\n",
    "        \"Upwind flux, order {0}:\\t\\t {1:F2}\", i,      \r\n",
    "        slope(sizes, errorsForDegree));     \r\n",
    " \r\n",
    "    errorsForDegree = errors.ExtractSubArrayShallow(1, i, -1).To1DArray();     \r\n",
    " \r\n",
    "    Console.WriteLine(     \r\n",
    "        \"Lax-Friedrichs flux, order {0}:\\t {1:F2}\", i,     \r\n",
    "        slope(sizes, errorsForDegree));     \r\n",
    "}"
   ],
   "outputs": [
    {
     "output_type": "stream",
     "name": "stdout",
     "text": [
      "\n",
      "Upwind flux, order 0:\t\t 0,79\n",
      "Lax-Friedrichs flux, order 0:\t 0,73\n",
      "\n",
      "Upwind flux, order 1:\t\t 1,98\n",
      "Lax-Friedrichs flux, order 1:\t 2,00\n",
      "\n",
      "Upwind flux, order 2:\t\t 2,96\n",
      "Lax-Friedrichs flux, order 2:\t 2,92\n",
      "\n",
      "Upwind flux, order 3:\t\t 3,95\n",
      "Lax-Friedrichs flux, order 3:\t 3,97\n"
     ]
    }
   ],
   "metadata": {
    "dotnet_interactive": {
     "language": "csharp"
    }
   }
  }
 ],
 "metadata": {
  "kernelspec": {
   "display_name": ".NET (C#)",
   "language": "C#",
   "name": ".net-csharp"
  },
  "language_info": {
   "file_extension": ".cs",
   "mimetype": "text/x-csharp",
   "name": "C#",
   "pygments_lexer": "csharp",
   "version": "8.0"
  }
 },
 "nbformat": 4,
 "nbformat_minor": 4
}
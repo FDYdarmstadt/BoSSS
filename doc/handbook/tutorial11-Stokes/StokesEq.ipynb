{
 "cells": [
  {
   "cell_type": "markdown",
   "metadata": {
    "dotnet_interactive": {
     "language": "csharp"
    }
   },
   "source": [
    "# StokesEquation\n",
    "\n",
    "## What's new?\n",
    "\n",
    "\n",
    "- implementation of the incompressible, steady Stokes equation\n",
    "- advanced: {implementation of the Stokes flow behind a grid as an application}\n",
    "\n",
    "## Prerequisites\n",
    "\n",
    "\n",
    "- implementation of numerical fluxes, -> chapter **NumFlux**\n",
    "- spatial operator, -> chapter **DifferentialOperator**\n",
    "- implementation of the gradient operator, -> chapter **PoissonAsASystem**\n",
    "- implementation of the SIP operator, -> chapter **SIP**\n",
    "\n",
    "\n",
    "## Problem statement\n",
    "\n",
    "The Stokes-equation is given as\n",
    "\n",
    "$$\n",
    "-\\frac{1}{Re} \\Delta \\vec{u}\n",
    " + \\nabla p\n",
    "     \\  = \\vec{g} \n",
    "$$\n",
    "$$\n",
    "\\text{div} (\\vec{u})\n",
    "      = 0\n",
    "$$\n",
    "Where $Re \\in \\mathbb{R} $ denotes the Reynolds number. We consider two types of boundary conditions for the Stokes equation,\n",
    "Dirichlet (on $\\Gamma_D \\subset \\Omega$) and Neumman (on $\\Gamma_N  \\subset \\Omega$). Those are defined as\n",
    "$$\n",
    "\\vec{u}  =\\vec{u}_D \n",
    "         \\  \\text{ on } \\Gamma_D\\ \\text{ (Dirichlet)}, \\\\\n",
    "        %\n",
    "        \\left( -\\frac{1}{Re}\\ \\nabla  \\vec{u} +  I_p \\psi \\right) \n",
    "        \\vec{n}\\vert_{\\delta \\Omega}         = 0 \n",
    "                \\  \\text{ on } \\Gamma_N\\ \\text{ (Neumann) } .\n",
    "$$\n"
   ]
  },
  {
   "cell_type": "markdown",
   "metadata": {},
   "source": [
    "## Solution within the BoSSS framework\n",
    "\n",
    "First, we initialize the new worksheet;\n",
    "Note: \n",
    "1. This tutorial can be found in the source code repository as as `StokesEq.ipynb`. \n",
    "   One can directly load this into Jupyter to interactively work with the following code examples.\n",
    "2. **In the following line, the reference to `BoSSSpad.dll` is required**. \n",
    "   You must either set `#r \"BoSSSpad.dll\"` to something which is appropirate for your computer\n",
    "   (e.g. `C:\\Program Files (x86)\\FDY\\BoSSS\\bin\\Release\\net5.0\\BoSSSpad.dll` if you installed the binary distribution),\n",
    "   or, if you are working with the source code, you must compile `BoSSSpad` and put it side-by-side to this worksheet file\n",
    "   (from the original location in the repository, you can use the scripts `getbossspad.sh`, resp. `getbossspad.bat`)."
   ]
  },
  {
   "cell_type": "code",
   "execution_count": null,
   "metadata": {
    "dotnet_interactive": {
     "language": "csharp"
    }
   },
   "outputs": [],
   "source": [
    "#r \"BoSSSpad.dll\"\n",
    "using System;\n",
    "using System.Collections.Generic;\n",
    "using System.Linq;\n",
    "using ilPSP;\n",
    "using ilPSP.Utils;\n",
    "using BoSSS.Platform;\n",
    "using BoSSS.Foundation;\n",
    "using BoSSS.Foundation.Grid;\n",
    "using BoSSS.Foundation.Grid.Classic;\n",
    "using BoSSS.Foundation.IO;\n",
    "using BoSSS.Solution;\n",
    "using BoSSS.Solution.Control;\n",
    "using BoSSS.Solution.GridImport;\n",
    "using BoSSS.Solution.Statistic;\n",
    "using BoSSS.Solution.Utils;\n",
    "using BoSSS.Solution.Gnuplot;\n",
    "using BoSSS.Application.BoSSSpad;\n",
    "using BoSSS.Application.XNSE_Solver;\n",
    "using static BoSSS.Application.BoSSSpad.BoSSSshell;\n",
    "Init();\n"
   ]
  },
  {
   "cell_type": "code",
   "execution_count": null,
   "metadata": {
    "dotnet_interactive": {
     "language": "csharp"
    }
   },
   "outputs": [],
   "source": [
    "using ilPSP.LinSolvers;\n",
    "using BoSSS.Solution.Tecplot;\n",
    "using ilPSP.Connectors.Matlab;"
   ]
  },
  {
   "cell_type": "code",
   "execution_count": null,
   "metadata": {
    "dotnet_interactive": {
     "language": "csharp"
    }
   },
   "outputs": [],
   "source": [
    "/// BoSSScmdSilent BoSSSexeSilent\n",
    "using NUnit.Framework;"
   ]
  },
  {
   "cell_type": "markdown",
   "metadata": {},
   "source": [
    "To inicate at which point of the boundary which condition is valid, \n",
    "i.e. wether a certain point is eiter Dirichlet or Neumann we\n",
    "define **IsDirichletBndy**\n",
    "which defines a mapping \n",
    "$$\n",
    "   \\vec{x} \\mapsto \\{ \\text{true}, \\text{false} \\},\n",
    "$$\n",
    "where **true** actually indicates a Dirichlet boundary.\n",
    "Since this function is defined as a global delegate, it can be altered \n",
    "later on. In the same manner, the function **UDiri** defines the Dirichlet-value for the velocity at the boundary."
   ]
  },
  {
   "cell_type": "code",
   "execution_count": null,
   "metadata": {
    "dotnet_interactive": {
     "language": "csharp"
    }
   },
   "outputs": [],
   "source": [
    "static class BndyMap { \n",
    "\n",
    "    public static Func<double[],bool> IsDirichletBndy = null;\n",
    "\n",
    "    public static Func<double[],double[]> UDiri = null;\n",
    "\n",
    "}"
   ]
  },
  {
   "cell_type": "markdown",
   "metadata": {
    "dotnet_interactive": {
     "language": "csharp"
    }
   },
   "source": [
    "\n",
    "## Velocity divergence and pressure gradient\n",
    "\n",
    " At first, we implement the velocity divergence, i.e. \n",
    "  the continuity equation. We use the strong form, i.e.\n",
    "$$\n",
    "         b(\\vec{u},v) = \n",
    "     \\oint_{\\Gamma \\backslash \\Gamma_D} \n",
    "            \\bar{v} \\quad \\lbrack \\lbrack {\\vec{u}}\\rbrack\\rbrack \\cdot \\vec{n}_\\Gamma \n",
    "     dA \n",
    "     -\n",
    "     \\int_{\\Omega} \\text{div}(\\vec{u}) v ~ dV.\n",
    "$$"
   ]
  },
  {
   "cell_type": "code",
   "execution_count": null,
   "metadata": {
    "dotnet_interactive": {
     "language": "csharp"
    }
   },
   "outputs": [],
   "source": [
    "\n",
    "public class Divergence : \n",
    "        BoSSS.Foundation.IEdgeForm, // edge integrals\n",
    "        BoSSS.Foundation.IVolumeForm     // volume integrals\n",
    "{\n",
    "    /// The parameter list for the divergence is empty:\n",
    "    public IList<string> ParameterOrdering { \n",
    "        get { return null; } \n",
    "    }\n",
    " \n",
    "    /// We have a vector argument variable, \n",
    "    /// the velocity [ u, v ] = u\n",
    "    /// (our trial function):\n",
    "    public IList<String> ArgumentOrdering { \n",
    "        get { return new string[] { \"u\", \"v\" }; } \n",
    "    }\n",
    " \n",
    "    public TermActivationFlags VolTerms {\n",
    "        get {\n",
    "            return TermActivationFlags.AllOn;\n",
    "        }\n",
    "    }\n",
    " \n",
    "    public TermActivationFlags InnerEdgeTerms {\n",
    "        get {\n",
    "            return TermActivationFlags.AllOn; \n",
    "        }\n",
    "    }\n",
    " \n",
    "    public TermActivationFlags BoundaryEdgeTerms {\n",
    "       get {\n",
    "           return TermActivationFlags.AllOn;\n",
    "        }\n",
    "    }\n",
    " \n",
    "    /// In the volume part, the integrand is div(u)*v :\n",
    "    public double VolumeForm(ref CommonParamsVol cpv, \n",
    "        double[] U, double[,] GradU, \n",
    "        double V, double[] GradV) {\n",
    "        double Acc = 0;\n",
    "        for(int d = 0; d < cpv.D; d++) {\n",
    "            Acc -= GradU[d,d]*V;\n",
    "        }\n",
    "        return Acc;\n",
    "    }\n",
    " \n",
    "    /// On interior cell boundaries, we use a velocity penalty,\n",
    "    /// $\\mean{v} \\jump{u} \\cdot n_\\Gamma$:\n",
    "    public double InnerEdgeForm(ref CommonParams inp, \n",
    "        double[] U_IN, double[] U_OT, double[,] GradU_IN, double[,] GradU_OT, \n",
    "        double V_IN, double V_OT, double[] GradV_IN, double[] GradV_OT) {\n",
    " \n",
    "        double Acc = 0;\n",
    "        for(int d = 0; d < inp.D; d++) {\n",
    "            Acc += 0.5*(V_IN + V_OT)*(U_IN[d] - U_OT[d])*inp.Normal[d];\n",
    "        }\n",
    "        return Acc;\n",
    "    }\n",
    " \n",
    "    /// On the domain boundary, we have to distinguish between \n",
    "    /// Dirichlet- and Neumann-boundary conditions; the function\n",
    "    /// \\code{uDiri} defines which of the two actually applies:\n",
    "    public double BoundaryEdgeForm(ref CommonParamsBnd inp, \n",
    "        double[] U_IN, double[,] GradU_IN, double V_IN, double[] GradV_OT) {\n",
    " \n",
    "        double Acc = 0;\n",
    " \n",
    "        if(!BndyMap.IsDirichletBndy(inp.X)) {\n",
    "            // On the Neumann boundary, we do not know an outer value for the\n",
    "            // velocity, so there is no penalization at all:\n",
    "            Acc = 0;    \n",
    "        } else {\n",
    "            // On the Dirichlet boundary, the outer value for the velocity\n",
    "            // is given by the function/delegate 'UDiri':\n",
    "            double[] UD = BndyMap.UDiri(inp.X);\n",
    "            for(int d = 0; d < inp.D; d++) {\n",
    "                Acc += (U_IN[d] - UD[d])*inp.Normal[d]*V_IN;\n",
    "            }\n",
    "        }\n",
    "        return Acc;\n",
    "    }\n",
    "}"
   ]
  },
  {
   "cell_type": "markdown",
   "metadata": {},
   "source": [
    "\n",
    "## The gradient-operator\n",
    "\n",
    "We use the variational formulation of the gradient operator, as it is explained in the section concerning the **Poisson System**"
   ]
  },
  {
   "cell_type": "code",
   "execution_count": null,
   "metadata": {
    "dotnet_interactive": {
     "language": "csharp"
    }
   },
   "outputs": [],
   "source": [
    "\n",
    "class Gradient_d :\n",
    "        BoSSS.Foundation.IEdgeForm, // edge integrals\n",
    "        BoSSS.Foundation.IVolumeForm     // volume integrals\n",
    "{\n",
    "    public Gradient_d(int _d) {\n",
    "        this.d = _d;\n",
    "    }\n",
    " \n",
    "    /// The component index of the gradient:\n",
    "    int d;\n",
    " \n",
    "    /// As usual, we do not use parameters:\n",
    "    public IList<string> ParameterOrdering { \n",
    "        get { return null; } \n",
    "    }\n",
    " \n",
    "    /// We have one argument, the pressure $\\psi$:\n",
    "    public IList<String> ArgumentOrdering { \n",
    "        get { return new string[] { \"psi\" }; } \n",
    "    }\n",
    " \n",
    "    public TermActivationFlags VolTerms {\n",
    "        get { return TermActivationFlags.AllOn; }\n",
    "    }\n",
    " \n",
    "    public TermActivationFlags InnerEdgeTerms {\n",
    "        get { return (TermActivationFlags.AllOn); }\n",
    "    }\n",
    " \n",
    "    public TermActivationFlags BoundaryEdgeTerms {\n",
    "       get { return TermActivationFlags.AllOn; }\n",
    "    }\n",
    " \n",
    "    /// The volume integrand, for a vector-valued test-function $\\vec{v}$\n",
    "    /// would be $-\\operatorname{div}{\\vec{v}} \\psi$. Our test function $v$\n",
    "    /// is scalar-valued, so e.g. for $\\code{d} = 0$ we have\n",
    "    /// $\\vec{v} = (v,0)$. In this case, our volume integrand reduces as \n",
    "    /// $-\\operatorname{div}{\\vec{v}} \\psi = -\\partial_x v \\psi$:\n",
    "    public double VolumeForm(ref CommonParamsVol cpv, \n",
    "           double[] Psi, double[,] GradPsi, \n",
    "           double V, double[] GradV) {\n",
    " \n",
    "        double Acc = 0;\n",
    "        Acc -= Psi[0]*GradV[d];\n",
    "        return Acc;\n",
    "    }        \n",
    " \n",
    "    /// On interior cell edges, we simply use a central-difference flux.\n",
    "    /// Again, we consider a scalar test function, so we have\n",
    "    /// $ \\jump{\\psi} \\vec{v} \\cdot \\vec{n} = \\jump{\\psi} v n_d $,\n",
    "    /// where $n_d$ is the $d$--th component of $\\vec{n}$:\n",
    "    public double InnerEdgeForm(ref CommonParams inp, \n",
    "        double[] Psi_IN, double[] Psi_OT, \n",
    "        double[,] GradPsi_IN, double[,] GradPsi_OT, \n",
    "        double V_IN, double V_OT, double[] GradV_IN, double[] GradV_OT) {\n",
    " \n",
    "        double Acc = 0;\n",
    "        Acc += 0.5*(Psi_IN[0] + Psi_OT[0])*inp.Normal[this.d]*(V_IN - V_OT);\n",
    "        return Acc;  \n",
    "     }\n",
    " \n",
    "    public double BoundaryEdgeForm(ref CommonParamsBnd inp, \n",
    "        double[] Psi_IN, double[,] GradPsi_IN, double V_IN, double[] GradV_OT) {\n",
    " \n",
    "        double Acc = 0;\n",
    "        if(!BndyMap.IsDirichletBndy(inp.X)) {\n",
    "            // On the Neumann boundary, we want the total stress to be zero,\n",
    "            // so there is no contribution from the pressure:\n",
    "            Acc = 0;\n",
    "        } else {\n",
    "            // On the Dirichlet boundary, we do not know an outer value for \n",
    "            // the pressure, so we have to take the inner value:\n",
    "            Acc += Psi_IN[0]*inp.Normal[this.d]*V_IN;\n",
    "        }        \n",
    "        return Acc;              \n",
    "    }\n",
    "}"
   ]
  },
  {
   "cell_type": "markdown",
   "metadata": {
    "dotnet_interactive": {
     "language": "csharp"
    }
   },
   "source": [
    "\n",
    "## Tests on pressure gradient and velocity divergence\n",
    "\n",
    "If our implementation is correct, we created a discretization of \n",
    "$$\n",
    " \\left[ \\begin{array}{cc}\n",
    "    0                 & \\nabla \\\\\n",
    "  -\\operatorname{div} & 0      \\\\\n",
    " \\end{array} \\right]\n",
    "$$\n",
    "so the matrix should have the form \n",
    "$$\n",
    " \\left[ \\begin{array}{cc}\n",
    "    0     & B      \\\\\n",
    "    B^T   & 0      \\\\\n",
    " \\end{array} \\right]\n",
    " =: M,\n",
    "$$\n",
    "i.e. $M$ should be symmetric.\n",
    "We are testing this using a channel flow configuration using an equidistant grid.\n",
    "- Domain: $\\Omega    :=  (0,10) \\times (-1,1)$\n",
    "- Neumann boundary (i.e. the outlet of the channel on the right): $\\Gamma_N  :=  \\{ (x,y) | \\ x = 10 \\}$\n",
    "- Dirichlet boundary (i.e. inlet and walls): $   \\Gamma_D  :=  \\delta \\Omega \\setminus \\Gamma_D$\n",
    "- Velocity boundary value at inlet and walls: $  \\vec{u}_D :=  (1 - y^2, 0)$"
   ]
  },
  {
   "cell_type": "markdown",
   "metadata": {
    "dotnet_interactive": {
     "language": "csharp"
    }
   },
   "source": [
    "We create a grid, a DG basis for velocity and pressure \n",
    "and a variable mapping:"
   ]
  },
  {
   "cell_type": "code",
   "execution_count": null,
   "metadata": {
    "dotnet_interactive": {
     "language": "csharp"
    }
   },
   "outputs": [],
   "source": [
    "var xNodesChannel = GenericBlas.Linspace(0,10,31);// 30 cells in x-direction\n",
    "var yNodesChannel = GenericBlas.Linspace(-1,1,7); // 6 cells in y-direction\n",
    "var grdChannel    = Grid2D.Cartesian2DGrid(xNodesChannel,yNodesChannel);\n",
    "var VelBChannel   = new Basis(grdChannel, 2);  // velocity basis\n",
    "var PsiBChannel   = new Basis(grdChannel, 1);  // pressure basis \n",
    "var varMapChannel = new UnsetteledCoordinateMapping(\n",
    "                       VelBChannel,VelBChannel,PsiBChannel); // variable mapping"
   ]
  },
  {
   "cell_type": "markdown",
   "metadata": {},
   "source": [
    "We specify the boundary conditions as delegates:"
   ]
  },
  {
   "cell_type": "code",
   "execution_count": null,
   "metadata": {
    "dotnet_interactive": {
     "language": "csharp"
    }
   },
   "outputs": [],
   "source": [
    "Func<double[],bool> IsDirichletBndy_Channel \n",
    "        = (X => Math.Abs(X[0] - 10) > 1.0e-10); // its Dirichlet, if x != 10\n",
    "Func<double[],double[]> UDiri_Channel \n",
    "        = (X => new double[2] { 1.0 - X[1]*X[1], 0});"
   ]
  },
  {
   "cell_type": "markdown",
   "metadata": {},
   "source": [
    "Let's create the operator which contains only the pressure gradient\n",
    "and velocity divergence:"
   ]
  },
  {
   "cell_type": "code",
   "execution_count": null,
   "metadata": {
    "dotnet_interactive": {
     "language": "csharp"
    }
   },
   "outputs": [],
   "source": [
    "DifferentialOperator GradDiv = new DifferentialOperator(3,3, // 3 vars. in dom. & codom.\n",
    "                           QuadOrderFunc.Linear(), // linear operator\n",
    "                           \"u\", \"v\", \"psi\",  // names of domain variables\n",
    "                           \"mom_x\", \"mom_y\", \"conti\"); // names of codom. vars\n",
    "GradDiv.EquationComponents[\"mom_x\"].Add(new Gradient_d(0)); \n",
    "GradDiv.EquationComponents[\"mom_y\"].Add(new Gradient_d(1)); \n",
    "GradDiv.EquationComponents[\"conti\"].Add(new Divergence());\n",
    "GradDiv.Commit();"
   ]
  },
  {
   "cell_type": "markdown",
   "metadata": {},
   "source": [
    "We create the matrix of the **GradDiv**-operator for \n",
    "the channel configuration. Before that, we have to set values for the \n",
    "global **IsDirichletBndy** and **UDiri**-variables."
   ]
  },
  {
   "cell_type": "code",
   "execution_count": null,
   "metadata": {
    "dotnet_interactive": {
     "language": "csharp"
    }
   },
   "outputs": [],
   "source": [
    "BndyMap. IsDirichletBndy  = IsDirichletBndy_Channel;\n",
    "BndyMap.UDiri             = UDiri_Channel;\n",
    "var GradDivMatrix_Channel = GradDiv.ComputeMatrix(varMapChannel,\n",
    "                                                  null,\n",
    "                                                  varMapChannel);"
   ]
  },
  {
   "cell_type": "markdown",
   "metadata": {},
   "source": [
    "Finally, we can test the symmetry of the matrix:"
   ]
  },
  {
   "cell_type": "code",
   "execution_count": null,
   "metadata": {
    "dotnet_interactive": {
     "language": "csharp"
    }
   },
   "outputs": [],
   "source": [
    "var ErrMtx = GradDivMatrix_Channel - GradDivMatrix_Channel.Transpose();\n",
    "ErrMtx.InfNorm();"
   ]
  },
  {
   "cell_type": "code",
   "execution_count": null,
   "metadata": {
    "dotnet_interactive": {
     "language": "csharp"
    }
   },
   "outputs": [],
   "source": [
    "/// NUnit test (few random tests) BoSSScmdSilent\n",
    "Assert.LessOrEqual(ErrMtx.InfNorm(), 1e-12);"
   ]
  },
  {
   "cell_type": "markdown",
   "metadata": {
    "dotnet_interactive": {
     "language": "csharp"
    }
   },
   "source": [
    "\n",
    "## Adding the viscous operator, forming the Stokes operator\n"
   ]
  },
  {
   "cell_type": "markdown",
   "metadata": {},
   "source": [
    "We use the SIP-operator from chapter **SIP** to model the viscous terms:"
   ]
  },
  {
   "cell_type": "code",
   "execution_count": null,
   "metadata": {
    "dotnet_interactive": {
     "language": "csharp"
    }
   },
   "outputs": [],
   "source": [
    "public class Viscous : \n",
    "        IEdgeForm,   // edge integrals\n",
    "        IVolumeForm, // volume integrals\n",
    "        IEquationComponentCoefficient // update of coefficients required for penalty parameters \n",
    "{\n",
    "    /// The velocity component:\n",
    "    int d;\n",
    " \n",
    "    public Viscous(int _d) {\n",
    "        this.d = _d;    \n",
    "    }\n",
    " \n",
    "    /// We implement Reynolds number and the polynomial degree, \n",
    "    /// as well as the cell-wise length scales (required for \n",
    "    /// the computation of the penalty factor) as global, static variables.\n",
    "    public static double Re;\n",
    "   \n",
    "\n",
    " \n",
    "    /// We do not use parameters:\n",
    "    public IList<string> ParameterOrdering { \n",
    "        get { return new string[0]; } \n",
    "    }\n",
    " \n",
    "    /// Depending on \\code{d}, the argument variable\n",
    "    /// should be either $u$ or $v$:\n",
    "    public IList<String> ArgumentOrdering { \n",
    "        get { \n",
    "            switch(d) {\n",
    "                case 0  : return new string[] { \"u\" }; \n",
    "                case 1  : return new string[] { \"v\" }; \n",
    "                default : throw new Exception();\n",
    "            }\n",
    "        } \n",
    "    }\n",
    " \n",
    "    /// The \\code{TermActivationFlags}, as usual:\n",
    "    public TermActivationFlags VolTerms {\n",
    "        get {\n",
    "            return TermActivationFlags.GradUxGradV;\n",
    "        }\n",
    "    }\n",
    " \n",
    "    public TermActivationFlags InnerEdgeTerms {\n",
    "        get {\n",
    "            return TermActivationFlags.AllOn;\n",
    "        }\n",
    "    }\n",
    " \n",
    "    public TermActivationFlags BoundaryEdgeTerms {\n",
    "       get {\n",
    "           return TermActivationFlags.AllOn;\n",
    "        }\n",
    "    }\n",
    " \n",
    "    /// The integrand for the volume integral:\n",
    "    public double VolumeForm(ref CommonParamsVol cpv, \n",
    "           double[] U, double[,] GradU,\n",
    "           double V, double[] GradV) {               \n",
    "        double acc = 0;\n",
    "        for(int d = 0; d < cpv.D; d++)\n",
    "            acc += GradU[0, d] * GradV[d];\n",
    "        return (1/Re)*acc;\n",
    "    }\n",
    " \n",
    " \n",
    "    /// The integrand for the integral on the inner edges:\n",
    "    public double InnerEdgeForm(ref CommonParams inp, \n",
    "        double[] U_IN, double[] U_OT, double[,] GradU_IN, double[,] GradU_OT, \n",
    "        double V_IN, double V_OT, double[] GradV_IN, double[] GradV_OT) {\n",
    " \n",
    "        double eta = PenaltyFactor(inp.jCellIn, inp.jCellOut);\n",
    " \n",
    "        double Acc = 0.0;\n",
    "        for(int d = 0; d < inp.D; d++) { // loop over vector components \n",
    "            // consistency term: -({{ \\/u }} [[ v ]])*Normal\n",
    "            // index d: spatial direction\n",
    "            Acc -= 0.5 * (GradU_IN[0, d] + GradU_OT[0, d])*(V_IN - V_OT)\n",
    "                       * inp.Normal[d];\n",
    " \n",
    "            // the symmetry term -({{ \\/v }} [[ u ]])*Normal\n",
    "            Acc -= 0.5 * (GradV_IN[d] + GradV_OT[d])*(U_IN[0] - U_OT[0])\n",
    "                       * inp.Normal[d];;\n",
    "        }\n",
    " \n",
    "        // the penalty term eta*[[u]]*[[v]]\n",
    "        Acc += eta*(U_IN[0] - U_OT[0])*(V_IN - V_OT);\n",
    "        return (1/Re)*Acc;\n",
    " \n",
    "    }\n",
    " \n",
    "    /// The integrand on boundary edges, i.e. on $\\partial \\Omega$:\n",
    "    public double BoundaryEdgeForm(ref CommonParamsBnd inp, \n",
    "        double[] U_IN, double[,] GradU_IN, double V_IN, double[] GradV_IN) {\n",
    " \n",
    " \n",
    "        double Acc = 0.0;\n",
    " \n",
    "        if(!BndyMap.IsDirichletBndy(inp.X)) {\n",
    "            // Neumann boundary conditions, i.e. zero-stress:\n",
    "            Acc = 0;\n",
    "        } else {\n",
    "            // Dirichlet boundary conditions\n",
    "            double uBnd = BndyMap.UDiri(inp.X)[d];\n",
    " \n",
    "            for(int d = 0; d < inp.D; d++) { // loop over vector components \n",
    "                // consistency term:\n",
    "                Acc -= (GradU_IN[0, d])*(V_IN) * inp.Normal[d];\n",
    "                // symmetry term:\n",
    "                Acc -= (GradV_IN[d])*(U_IN[0]- uBnd) * inp.Normal[d];\n",
    "            }\n",
    " \n",
    "            // penalty term\n",
    "            double eta = PenaltyFactor(inp.jCellIn, -1);\n",
    "            Acc += eta*(U_IN[0] - uBnd)*(V_IN);\n",
    "        }\n",
    " \n",
    "        return (1/Re)*Acc;\n",
    "    }\n",
    "            \n",
    "    MultidimensionalArray cj;\n",
    "    double penalty_base;\n",
    "            \n",
    "    double PenaltyFactor(int jCellIn, int jCellOut) {\n",
    "        double PenaltySafety = 2;\n",
    "        double cj_in         = cj[jCellIn];\n",
    "        double eta           = penalty_base * cj_in * PenaltySafety;\n",
    "        if(jCellOut >= 0) {\n",
    "            double cj_out = cj[jCellOut];\n",
    "            eta           = Math.Max(eta, penalty_base * cj_out * PenaltySafety);\n",
    "        }\n",
    "        return eta;\n",
    "    }\n",
    "            \n",
    "            \n",
    "    /// Update of penalty length scales.\n",
    "    public void CoefficientUpdate(CoefficientSet cs, int[] DomainDGdeg, int TestDGdeg) {\n",
    "        int D = cs.GrdDat.SpatialDimension;\n",
    "        double _D = D;\n",
    "        double _p = DomainDGdeg.Max();\n",
    "\n",
    "        double penalty_deg_tri = (_p + 1) * (_p + _D) / _D; // formula for triangles/tetras\n",
    "        double penalty_deg_sqr = (_p + 1.0) * (_p + 1.0); // formula for squares/cubes\n",
    "\n",
    "        penalty_base = Math.Max(penalty_deg_tri, penalty_deg_sqr); // the conservative choice\n",
    "\n",
    "        cj = ((GridData)(cs.GrdDat)).Cells.cj;\n",
    "    }\n",
    "}"
   ]
  },
  {
   "cell_type": "markdown",
   "metadata": {},
   "source": [
    "Finally, we are ready to implement the Stokes operator:"
   ]
  },
  {
   "cell_type": "code",
   "execution_count": null,
   "metadata": {
    "dotnet_interactive": {
     "language": "csharp"
    }
   },
   "outputs": [],
   "source": [
    "\n",
    "DifferentialOperator Stokes = new DifferentialOperator(3,3, // 3 vars. in dom. & codom.\n",
    "                         QuadOrderFunc.Linear(), // linear operator\n",
    "                         \"u\", \"v\", \"psi\",  // names of domain variables\n",
    "                         \"mom_x\", \"mom_y\", \"conti\"); // names of codom. vars\n",
    "Stokes.EquationComponents[\"mom_x\"].Add(new Gradient_d(0)); \n",
    "Stokes.EquationComponents[\"mom_x\"].Add(new Viscous(0)); \n",
    "Stokes.EquationComponents[\"mom_y\"].Add(new Gradient_d(1)); \n",
    "Stokes.EquationComponents[\"mom_y\"].Add(new Viscous(1));\n",
    "Stokes.EquationComponents[\"conti\"].Add(new Divergence());\n",
    "Stokes.Commit();"
   ]
  },
  {
   "cell_type": "markdown",
   "metadata": {},
   "source": [
    "Again, we create the matrix (now, for the Stokes operator) and check its\n",
    "symmetry; \n",
    "\n",
    "we also have to set the Reynolds number and the polynomial\n",
    "degree **before** calling **ComputeMatrix** (since we are doing a\n",
    "rather dirty trick by using global variables)."
   ]
  },
  {
   "cell_type": "code",
   "execution_count": null,
   "metadata": {
    "dotnet_interactive": {
     "language": "csharp"
    }
   },
   "outputs": [],
   "source": [
    "\n",
    "BndyMap.IsDirichletBndy  = IsDirichletBndy_Channel;\n",
    "BndyMap.UDiri            = UDiri_Channel;\n",
    "Viscous.Re               = 20.0;\n",
    "var StokesMatrix_Channel = Stokes.ComputeMatrix(varMapChannel,\n",
    "                                                null,\n",
    "                                                varMapChannel);"
   ]
  },
  {
   "cell_type": "markdown",
   "metadata": {},
   "source": [
    "Testing the symmetry:"
   ]
  },
  {
   "cell_type": "code",
   "execution_count": null,
   "metadata": {
    "dotnet_interactive": {
     "language": "csharp"
    }
   },
   "outputs": [],
   "source": [
    "\n",
    "var ErrMtx1 = StokesMatrix_Channel - StokesMatrix_Channel.Transpose();\n",
    "ErrMtx1.InfNorm()"
   ]
  },
  {
   "cell_type": "code",
   "execution_count": null,
   "metadata": {
    "dotnet_interactive": {
     "language": "csharp"
    }
   },
   "outputs": [],
   "source": [
    "/// NUnit test (few random tests) BoSSScmdSilent\n",
    "Assert.LessOrEqual(ErrMtx1.InfNorm(), 1e-12);"
   ]
  },
  {
   "cell_type": "markdown",
   "metadata": {},
   "source": [
    "We also verify that our Stokes-matrix has full rank, i.e. we show that \n",
    "matrix size and rank are equal:"
   ]
  },
  {
   "cell_type": "code",
   "execution_count": null,
   "metadata": {
    "dotnet_interactive": {
     "language": "csharp"
    }
   },
   "outputs": [],
   "source": [
    "StokesMatrix_Channel.NoOfRows"
   ]
  },
  {
   "cell_type": "code",
   "execution_count": null,
   "metadata": {
    "dotnet_interactive": {
     "language": "csharp"
    }
   },
   "outputs": [],
   "source": [
    "StokesMatrix_Channel.rank()"
   ]
  },
  {
   "cell_type": "code",
   "execution_count": null,
   "metadata": {
    "dotnet_interactive": {
     "language": "csharp"
    }
   },
   "outputs": [],
   "source": [
    "/// NUnit test (few random tests) BoSSScmdSilent\n",
    "Assert.AreEqual(StokesMatrix_Channel.rank(), StokesMatrix_Channel.NoOfRows);"
   ]
  },
  {
   "cell_type": "markdown",
   "metadata": {
    "dotnet_interactive": {
     "language": "csharp"
    }
   },
   "source": [
    "## Solving the Stokes equation in the channel\n",
    "\n",
    "We set the parameters and see whether we actually obtain the correct \n",
    "solution; the exact solution of our problem is \n",
    "$$  \n",
    "    \\vec{u}_{\\text{ex}} =  (1 - y^2, 0 )^T, \n",
    "    \\quad   p_{\\text{ex}}    =  \\frac{200}{\\text{Re}} - x \\frac{2}{\\text{Re}} \n",
    "$$\n",
    "and since it is polynomial we should be able to obtain it \n",
    "\\emph{exactly} in our velocity-pressure-space of degrees $(2,1)$."
   ]
  },
  {
   "cell_type": "code",
   "execution_count": null,
   "metadata": {
    "dotnet_interactive": {
     "language": "csharp"
    }
   },
   "outputs": [],
   "source": [
    "\n",
    "BndyMap.IsDirichletBndy  = IsDirichletBndy_Channel;\n",
    "BndyMap.UDiri            = UDiri_Channel;\n",
    "Viscous.Re               = 20.0;\n",
    "var StokesMatrix_Channel = Stokes.ComputeMatrix(varMapChannel,\n",
    "                                                null,\n",
    "                                                varMapChannel);\n",
    "var StokesAffine_Channel = Stokes.ComputeAffine(varMapChannel,\n",
    "                                                null,\n",
    "                                                varMapChannel);"
   ]
  },
  {
   "cell_type": "markdown",
   "metadata": {},
   "source": [
    "Now, we are ready to solve the stokes equation. \\BoSSS\\ provides us with\n",
    "a system \n",
    "$$\n",
    "  \\texttt{StokesMatrix Channel} \\cdot (u,v,\\psi) \n",
    "  + \\texttt{StokesAffine Channel} = 0,\n",
    "$$\n",
    "so we have to multiply `StokesAffine_Channel` with $-1$ to get a \n",
    "right-hand-side."
   ]
  },
  {
   "cell_type": "code",
   "execution_count": null,
   "metadata": {
    "dotnet_interactive": {
     "language": "csharp"
    }
   },
   "outputs": [],
   "source": [
    "double[] RHS = StokesAffine_Channel.CloneAs();\n",
    "RHS.ScaleV(-1.0);"
   ]
  },
  {
   "cell_type": "markdown",
   "metadata": {},
   "source": [
    "In order to store our solution, we have to create DG fields:"
   ]
  },
  {
   "cell_type": "code",
   "execution_count": null,
   "metadata": {
    "dotnet_interactive": {
     "language": "csharp"
    }
   },
   "outputs": [],
   "source": [
    "SinglePhaseField u               = new SinglePhaseField(VelBChannel,\"u\");\n",
    "SinglePhaseField v               = new SinglePhaseField(VelBChannel,\"v\");\n",
    "SinglePhaseField psi             = new SinglePhaseField(PsiBChannel,\"psi\");\n",
    "CoordinateVector SolutionChannel = new CoordinateVector(u,v,psi);"
   ]
  },
  {
   "cell_type": "markdown",
   "metadata": {},
   "source": [
    "Solve the linear system using a direct method:"
   ]
  },
  {
   "cell_type": "code",
   "execution_count": null,
   "metadata": {
    "dotnet_interactive": {
     "language": "csharp"
    }
   },
   "outputs": [],
   "source": [
    "StokesMatrix_Channel.Solve_Direct(SolutionChannel, RHS);"
   ]
  },
  {
   "cell_type": "markdown",
   "metadata": {},
   "source": [
    "We export the solution to a Tecplot file, use Visit (or any other visualization software)\n",
    "to inspect the solution:"
   ]
  },
  {
   "cell_type": "code",
   "execution_count": null,
   "metadata": {},
   "outputs": [],
   "source": [
    "Tecplot(\"Box\", SolutionChannel.Fields.ToArray());"
   ]
  },
  {
   "cell_type": "markdown",
   "metadata": {},
   "source": [
    "## Advanced topics\n",
    "### Stokes flow behind a grid\n",
    "\n",
    "We use the following setting:\n",
    "- Domain: $    \\Omega    :=  (0,5) \\times (-2,2) $\n",
    "- Neumann boundary: $\\Gamma_N  :=  \\{ (x,y) | \\ x = 5 \\} $\n",
    "- Diriclet boundary: $    \\Gamma_D  :=  \\partial \\Omega \\setminus \\Gamma_D $\n",
    "- Velocity at Dirichlet boundary: $    \\vec{u}_D :=  (1 - (2 (y - \\operatorname{floor}(y)) - 1)^2, 0)  $\n",
    "\n",
    "So, the boundary functions are:"
   ]
  },
  {
   "cell_type": "code",
   "execution_count": null,
   "metadata": {
    "dotnet_interactive": {
     "language": "csharp"
    }
   },
   "outputs": [],
   "source": [
    "Func<double[],bool> IsDirichletBndy_GridFlow \n",
    "        = (X => Math.Abs(X[0] - 5) > 1.0e-10); \n",
    "Func<double[],double[]> UDiri_GridFlow \n",
    "        = (X => new double[2] { 1.0 - (2*(X[1] - Math.Floor(X[1])) - 1).Pow2(),\n",
    "                                0});"
   ]
  },
  {
   "cell_type": "markdown",
   "metadata": {
    "dotnet_interactive": {
     "language": "csharp"
    }
   },
   "source": [
    "### TODO:\n",
    "the rest is for you! One hint: in $y$-direction, use some \n",
    "spacing so that you have cell boundaries at (least at) $y \\in \\{ -1, 0, 1 \\}$."
   ]
  },
  {
   "cell_type": "code",
   "execution_count": null,
   "metadata": {},
   "outputs": [],
   "source": []
  }
 ],
 "metadata": {
  "kernelspec": {
   "display_name": ".NET (C#)",
   "language": "C#",
   "name": ".net-csharp"
  },
  "language_info": {
   "file_extension": ".cs",
   "mimetype": "text/x-csharp",
   "name": "C#",
   "pygments_lexer": "csharp",
   "version": "9.0"
  }
 },
 "nbformat": 4,
 "nbformat_minor": 4
}
